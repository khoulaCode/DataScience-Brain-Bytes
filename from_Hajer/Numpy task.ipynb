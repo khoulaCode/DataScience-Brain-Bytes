{
 "cells": [
  {
   "cell_type": "code",
   "execution_count": 3,
   "id": "d2828b4f-6645-4020-8218-c55a5facd22a",
   "metadata": {},
   "outputs": [],
   "source": [
    "import numpy as np"
   ]
  },
  {
   "cell_type": "markdown",
   "id": "81a137bb-6189-4bf8-a536-bc2c8f5af7c9",
   "metadata": {},
   "source": [
    "**Part 1: Array Creation and Properties**"
   ]
  },
  {
   "cell_type": "markdown",
   "id": "ef3c142d-ada3-4675-b497-fca01267a6b6",
   "metadata": {},
   "source": [
    "**Q1: Create a 1D array named arr1d with integers from 0 to 9.**"
   ]
  },
  {
   "cell_type": "code",
   "execution_count": 4,
   "id": "23f5aa9d-106e-4f0e-b5ac-7d1ead2a7562",
   "metadata": {},
   "outputs": [
    {
     "data": {
      "text/plain": [
       "array([0, 1, 2, 3, 4, 5, 6, 7, 8, 9])"
      ]
     },
     "execution_count": 4,
     "metadata": {},
     "output_type": "execute_result"
    }
   ],
   "source": [
    "arr1d=np.arange(10)\n",
    "arr1d"
   ]
  },
  {
   "cell_type": "markdown",
   "id": "5d5b58e0-4453-4b4a-95e9-34a25fc94949",
   "metadata": {},
   "source": [
    "**Q2: Create a 2D array named arr2d with shape (3, 3) filled with ones.**"
   ]
  },
  {
   "cell_type": "code",
   "execution_count": 5,
   "id": "9dd138ff-9dbf-4ace-b084-7bedcffb01be",
   "metadata": {},
   "outputs": [
    {
     "data": {
      "text/plain": [
       "array([[1., 1., 1.],\n",
       "       [1., 1., 1.],\n",
       "       [1., 1., 1.]])"
      ]
     },
     "execution_count": 5,
     "metadata": {},
     "output_type": "execute_result"
    }
   ],
   "source": [
    "arr2d=np.ones((3, 3))\n",
    "arr2d"
   ]
  },
  {
   "cell_type": "markdown",
   "id": "3f715e53-b608-4e9c-88e8-e74703af50ab",
   "metadata": {},
   "source": [
    "**Q3: Create a 3x3 array named random_matrix with random floating-point numbers from a standard normal distribution.**"
   ]
  },
  {
   "cell_type": "code",
   "execution_count": 6,
   "id": "b25f128a-87c0-4f5d-82d2-a4136299e34f",
   "metadata": {},
   "outputs": [
    {
     "data": {
      "text/plain": [
       "array([[-0.26217662, -1.06391908, -0.51656554],\n",
       "       [ 1.23242078, -0.13996773, -0.36621691],\n",
       "       [ 0.78136572, -0.77840791,  1.38791456]])"
      ]
     },
     "execution_count": 6,
     "metadata": {},
     "output_type": "execute_result"
    }
   ],
   "source": [
    "random_matrix=np.random.randn(3, 3)\n",
    "random_matrix"
   ]
  },
  {
   "cell_type": "markdown",
   "id": "809f4c9a-d158-451f-887b-69019539d740",
   "metadata": {},
   "source": [
    "**Q4: Create an array named even_numbers containing even numbers from 10 to 50 (inclusive).**"
   ]
  },
  {
   "cell_type": "code",
   "execution_count": 7,
   "id": "d4984e1b-1a1c-4505-bb6b-68f35af0753d",
   "metadata": {},
   "outputs": [
    {
     "data": {
      "text/plain": [
       "array([10, 12, 14, 16, 18, 20, 22, 24, 26, 28, 30, 32, 34, 36, 38, 40, 42,\n",
       "       44, 46, 48, 50])"
      ]
     },
     "execution_count": 7,
     "metadata": {},
     "output_type": "execute_result"
    }
   ],
   "source": [
    "even_numbers = np.arange(10,51,2)\n",
    "even_numbers"
   ]
  },
  {
   "cell_type": "markdown",
   "id": "3c72161f-ef0a-4c73-9036-6e4d2487a794",
   "metadata": {},
   "source": [
    "**Q5: Create an array named linspace_array containing 7 equally spaced numbers between 0 and 1 (inclusive).**"
   ]
  },
  {
   "cell_type": "code",
   "execution_count": 8,
   "id": "d9b85751-ab30-423f-80e2-c90f3189d22a",
   "metadata": {},
   "outputs": [
    {
     "data": {
      "text/plain": [
       "array([0.        , 0.16666667, 0.33333333, 0.5       , 0.66666667,\n",
       "       0.83333333, 1.        ])"
      ]
     },
     "execution_count": 8,
     "metadata": {},
     "output_type": "execute_result"
    }
   ],
   "source": [
    "landspace_array= np.linspace(0,1,7)\n",
    "landspace_array"
   ]
  },
  {
   "cell_type": "markdown",
   "id": "efb97f3c-d56a-4d7e-9ee2-8cb85dba32cc",
   "metadata": {},
   "source": [
    "**Q6: Given arr = np.array([[1, 2, 3], [4, 5, 6]]), what is its shape, ndim, and dtype?**"
   ]
  },
  {
   "cell_type": "code",
   "execution_count": 9,
   "id": "f5a4e36b-1398-4829-8c5a-4b2ba4d3595a",
   "metadata": {
    "scrolled": true
   },
   "outputs": [
    {
     "data": {
      "text/plain": [
       "((2, 3), 2, dtype('int64'))"
      ]
     },
     "execution_count": 9,
     "metadata": {},
     "output_type": "execute_result"
    }
   ],
   "source": [
    "arr = np.array([[1, 2, 3], [4, 5, 6]])\n",
    "arr.shape,arr.ndim, arr.dtype"
   ]
  },
  {
   "cell_type": "markdown",
   "id": "c6d666bf-aa81-4873-9380-5cec46f39d4d",
   "metadata": {},
   "source": [
    "**Part 2: Array Manipulation**"
   ]
  },
  {
   "cell_type": "markdown",
   "id": "c6f461eb-d2ac-44cb-a4e3-742199386e6d",
   "metadata": {},
   "source": [
    "**Q1:Reshape arr1d (from Q1) into a 2x5 2D array. Name the new array reshaped_arr.**"
   ]
  },
  {
   "cell_type": "code",
   "execution_count": 10,
   "id": "969b5996-8e6f-46cf-b9b0-fad08e54cc02",
   "metadata": {},
   "outputs": [
    {
     "data": {
      "text/plain": [
       "array([[0, 1, 2, 3, 4],\n",
       "       [5, 6, 7, 8, 9]])"
      ]
     },
     "execution_count": 10,
     "metadata": {},
     "output_type": "execute_result"
    }
   ],
   "source": [
    "reshape_arr1d =arr1d.reshape(2,5)\n",
    "reshape_arr1d"
   ]
  },
  {
   "cell_type": "markdown",
   "id": "55148ff2-b289-4592-9818-ea5a55f390aa",
   "metadata": {},
   "source": [
    "**Q2:Transpose reshaped_arr (from Q7). Name the result transposed_arr.**"
   ]
  },
  {
   "cell_type": "code",
   "execution_count": 11,
   "id": "573cc16b-75fe-4171-ad62-e0b463292519",
   "metadata": {
    "jupyter": {
     "source_hidden": true
    }
   },
   "outputs": [
    {
     "data": {
      "text/plain": [
       "array([[0, 5],\n",
       "       [1, 6],\n",
       "       [2, 7],\n",
       "       [3, 8],\n",
       "       [4, 9]])"
      ]
     },
     "execution_count": 11,
     "metadata": {},
     "output_type": "execute_result"
    }
   ],
   "source": [
    "transpose_arr1d=reshape_arr1d.T\n",
    "transpose_arr1d"
   ]
  },
  {
   "cell_type": "markdown",
   "id": "35f28240-9209-41a1-a834-de6ff79770c7",
   "metadata": {},
   "source": [
    "**Q3:Stack two 1D arrays a = np.array([1, 2, 3]) and b = np.array([4, 5, 6]) vertically.**"
   ]
  },
  {
   "cell_type": "code",
   "execution_count": 14,
   "id": "3c589049-72c0-4df6-bfef-80901f5d1a24",
   "metadata": {},
   "outputs": [
    {
     "data": {
      "text/plain": [
       "array([[1, 2, 3],\n",
       "       [4, 5, 6]])"
      ]
     },
     "execution_count": 14,
     "metadata": {},
     "output_type": "execute_result"
    }
   ],
   "source": [
    "a=np.array([1,2,3])\n",
    "b=np.array([4,5,6])\n",
    "vertical_stack=np.vstack((a,b))\n",
    "vertical_stack"
   ]
  },
  {
   "cell_type": "markdown",
   "id": "823cd45f-db5f-48c6-aaac-9fa44093f3f5",
   "metadata": {},
   "source": [
    "**Q4:Stack two 2D arrays m1 = np.array([[1, 2], [3, 4]]) and m2 = np.array([[5, 6], [7, 8]]) horizontally.**"
   ]
  },
  {
   "cell_type": "code",
   "execution_count": 15,
   "id": "a709b788-9148-4927-9f2d-14fefeaeff4b",
   "metadata": {},
   "outputs": [
    {
     "data": {
      "text/plain": [
       "array([[1, 2, 5, 6],\n",
       "       [3, 4, 7, 8]])"
      ]
     },
     "execution_count": 15,
     "metadata": {},
     "output_type": "execute_result"
    }
   ],
   "source": [
    "m1=np.array([[1,2],[3,4]])\n",
    "m2=np.array([[5,6],[7,8]])\n",
    "horizontal_stack=np.hstack((m1,m2))\n",
    "horizontal_stack"
   ]
  },
  {
   "cell_type": "markdown",
   "id": "6bf6618e-ae87-48f7-93e3-3d57ab3b26c6",
   "metadata": {},
   "source": [
    "**Q5:Split the array arr_to_split = np.arange(16).reshape(4, 4) horizontally into 2 equal parts. Print both parts.**"
   ]
  },
  {
   "cell_type": "code",
   "execution_count": 18,
   "id": "66df933f-bc76-453a-817d-18d3aa2fae9b",
   "metadata": {
    "scrolled": true
   },
   "outputs": [
    {
     "data": {
      "text/plain": [
       "array([[ 2,  3],\n",
       "       [ 6,  7],\n",
       "       [10, 11],\n",
       "       [14, 15]])"
      ]
     },
     "execution_count": 18,
     "metadata": {},
     "output_type": "execute_result"
    }
   ],
   "source": [
    "arr_to_split=np.arange(16).reshape(4,4)\n",
    "split_horizontally=np.hsplit(arr_to_split,2)\n",
    "split_horizontally [0]\n",
    "split_horizontally[1]"
   ]
  },
  {
   "cell_type": "markdown",
   "id": "b1a8fe80-51a6-4646-b29b-1dfe334644fd",
   "metadata": {},
   "source": [
    "**Q6:Split the array arr_to_split (from Q11) vertically at index 2 (i.e., into two parts: first two rows, and last two rows). Print both parts.**"
   ]
  },
  {
   "cell_type": "code",
   "execution_count": 42,
   "id": "a3fe89bd-f900-4fa8-a0cf-ecb6950b8abc",
   "metadata": {},
   "outputs": [
    {
     "data": {
      "text/plain": [
       "array([[ 8,  9, 10, 11],\n",
       "       [12, 13, 14, 15]])"
      ]
     },
     "execution_count": 42,
     "metadata": {},
     "output_type": "execute_result"
    }
   ],
   "source": [
    "split_vertically=np.vsplit(arr_to_split,2)\n",
    "split_vertically[0]\n",
    "split_vertically[1]"
   ]
  },
  {
   "cell_type": "markdown",
   "id": "2139b714-630d-4d4a-8420-bd3d6f3aa1bf",
   "metadata": {},
   "source": [
    "**Part 3: Indexing, Slicing, and Boolean Indexing**"
   ]
  },
  {
   "cell_type": "markdown",
   "id": "14a0a471-8d26-48ca-954d-f4fbd191b1e6",
   "metadata": {},
   "source": [
    "**Q1:Given data = np.array([[10, 11, 12], [13, 14, 15], [16, 17, 18]]), extract the element at row 1, column 2.**"
   ]
  },
  {
   "cell_type": "code",
   "execution_count": 43,
   "id": "988eddae-6c35-4987-bc6a-2a06c1bab530",
   "metadata": {},
   "outputs": [
    {
     "data": {
      "text/plain": [
       "np.int64(15)"
      ]
     },
     "execution_count": 43,
     "metadata": {},
     "output_type": "execute_result"
    }
   ],
   "source": [
    "data=np.array([[10, 11, 12], [13, 14, 15], [16, 17, 18]])\n",
    "element=data[1,2]\n",
    "element"
   ]
  },
  {
   "cell_type": "markdown",
   "id": "9cc72950-68ca-41b9-a149-9cea1b76443b",
   "metadata": {},
   "source": [
    "**Q2:From the data array (from Q13), extract the first two rows and all columns.**"
   ]
  },
  {
   "cell_type": "code",
   "execution_count": 44,
   "id": "1f8b42c7-ee88-4f39-8112-fbb0a4e82a1d",
   "metadata": {},
   "outputs": [
    {
     "data": {
      "text/plain": [
       "array([[10, 11, 12],\n",
       "       [13, 14, 15]])"
      ]
     },
     "execution_count": 44,
     "metadata": {},
     "output_type": "execute_result"
    }
   ],
   "source": [
    "row_0_1=data[:2, :]\n",
    "row_0_1"
   ]
  },
  {
   "cell_type": "markdown",
   "id": "d72868b1-8d8d-4b1b-9386-c24033d0bdc1",
   "metadata": {},
   "source": [
    "**Q3:From the data array (from Q13), extract the elements 11, 15, and 17 using fancy indexing (hint: you'll need to specify rows and columns).**"
   ]
  },
  {
   "cell_type": "code",
   "execution_count": 45,
   "id": "ec1d9efc-bf50-4bfa-a333-196f24b3a9b7",
   "metadata": {},
   "outputs": [
    {
     "data": {
      "text/plain": [
       "array([11, 15, 17])"
      ]
     },
     "execution_count": 45,
     "metadata": {},
     "output_type": "execute_result"
    }
   ],
   "source": [
    "fancy_index=data[[0,1,2],[1,2,1]]\n",
    "fancy_index"
   ]
  },
  {
   "cell_type": "markdown",
   "id": "a5ce84bf-bbf9-4620-a9d6-911911d8afab",
   "metadata": {},
   "source": [
    "**Q4:Given scores = np.array([85, 92, 78, 65, 95, 88]), use boolean indexing to find all scores greater than 80.**"
   ]
  },
  {
   "cell_type": "code",
   "execution_count": 46,
   "id": "11070989-6036-4621-aae8-0bea13e215ed",
   "metadata": {},
   "outputs": [
    {
     "data": {
      "text/plain": [
       "array([85, 92, 95, 88])"
      ]
     },
     "execution_count": 46,
     "metadata": {},
     "output_type": "execute_result"
    }
   ],
   "source": [
    "scores=np.array([85,92,78,65,95,88])\n",
    "scores_greater_than_80=scores[scores>80]\n",
    "scores_greater_than_80 "
   ]
  },
  {
   "cell_type": "markdown",
   "id": "f8ec9c78-47a5-4a7b-9c34-94038fa29fa6",
   "metadata": {},
   "source": [
    "**Part 4: Numerical Operations and Aggregations**"
   ]
  },
  {
   "cell_type": "markdown",
   "id": "04eb345d-abba-4550-ad6d-52911a582d25",
   "metadata": {},
   "source": [
    "**Q1:Given arr_op1 = np.array([10, 20, 30]) and arr_op2 = np.array([2, 4, 6]), perform element-wise multiplication and division (arr_op1 / arr_op2).**"
   ]
  },
  {
   "cell_type": "code",
   "execution_count": 47,
   "id": "6f02b07e-6c31-43dc-b2eb-07869f7b8572",
   "metadata": {},
   "outputs": [
    {
     "name": "stdout",
     "output_type": "stream",
     "text": [
      "\n",
      "The product =  [ 20  80 180]\n",
      "\n",
      "The Division = [5. 5. 5.]\n"
     ]
    }
   ],
   "source": [
    "arr_op1=np.array([10,20,30])\n",
    "arr_op2=np.array([2,4,6])\n",
    "product=arr_op1 * arr_op2\n",
    "division= arr_op1/arr_op2\n",
    "print(\"\\nThe product = \",product)\n",
    "print(\"\\nThe Division =\", division)"
   ]
  },
  {
   "cell_type": "markdown",
   "id": "c43d5c50-c78c-4160-8b36-9719edc5284e",
   "metadata": {},
   "source": [
    "**Q2:Given matrix = np.array([[1, 2, 3], [4, 5, 6], [7, 8, 9]]), calculate the sum of all elements in the matrix.**"
   ]
  },
  {
   "cell_type": "code",
   "execution_count": 48,
   "id": "a1352d6a-250d-4abf-bac2-c99fa956b510",
   "metadata": {},
   "outputs": [
    {
     "data": {
      "text/plain": [
       "np.int64(45)"
      ]
     },
     "execution_count": 48,
     "metadata": {},
     "output_type": "execute_result"
    }
   ],
   "source": [
    "matrix=np.array([[1,2,3],[4,5,6],[7,8,9]])\n",
    "summation =np.sum(matrix)\n",
    "summation"
   ]
  },
  {
   "cell_type": "markdown",
   "id": "e6eedc55-046c-4b34-81b7-fb7a19c4d586",
   "metadata": {},
   "source": [
    "**Q3:From the matrix (from Q18), calculate the mean of each column.**"
   ]
  },
  {
   "cell_type": "code",
   "execution_count": 49,
   "id": "d601273c-eada-4ba6-ac29-c551dff0fcf1",
   "metadata": {},
   "outputs": [
    {
     "data": {
      "text/plain": [
       "array([4., 5., 6.])"
      ]
     },
     "execution_count": 49,
     "metadata": {},
     "output_type": "execute_result"
    }
   ],
   "source": [
    "column_mean=np.mean(matrix, axis=0)\n",
    "column_mean"
   ]
  },
  {
   "cell_type": "markdown",
   "id": "ba4f2a5d-f6ae-42ca-932d-81616bb017f1",
   "metadata": {},
   "source": [
    "**Q4:Given price_array = np.array([100, 150, 200, 250]) and discount_percentage = 0.10, apply a 10% discount to all prices using broadcasting.**"
   ]
  },
  {
   "cell_type": "code",
   "execution_count": 50,
   "id": "bae728da-b0d9-42a0-880c-450807339e3e",
   "metadata": {},
   "outputs": [
    {
     "data": {
      "text/plain": [
       "array([ 90., 135., 180., 225.])"
      ]
     },
     "execution_count": 50,
     "metadata": {},
     "output_type": "execute_result"
    }
   ],
   "source": [
    "price_array=np.array([100,150,200,250])\n",
    "discount_percentage=0.10\n",
    "discounted_prices=price_array*(1-discount_percentage)\n",
    "discounted_prices"
   ]
  }
 ],
 "metadata": {
  "kernelspec": {
   "display_name": "Python 3 (ipykernel)",
   "language": "python",
   "name": "python3"
  },
  "language_info": {
   "codemirror_mode": {
    "name": "ipython",
    "version": 3
   },
   "file_extension": ".py",
   "mimetype": "text/x-python",
   "name": "python",
   "nbconvert_exporter": "python",
   "pygments_lexer": "ipython3",
   "version": "3.13.3"
  }
 },
 "nbformat": 4,
 "nbformat_minor": 5
}
