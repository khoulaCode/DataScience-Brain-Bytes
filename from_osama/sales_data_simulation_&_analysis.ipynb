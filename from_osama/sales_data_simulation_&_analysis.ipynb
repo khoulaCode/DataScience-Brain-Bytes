{
 "cells": [
  {
   "cell_type": "markdown",
   "id": "f482443a-2c57-4d75-962f-926cea6f905f",
   "metadata": {},
   "source": [
    "# Sales Data Simulation and Analysis"
   ]
  },
  {
   "cell_type": "markdown",
   "id": "fc9874f6-d377-4982-a78a-08f61a650b87",
   "metadata": {},
   "source": [
    "### You are a junior data analyst at an online retail company. Your manager wants to understand daily sales patterns. You need to simulate a month's worth of sales data and then use NumPy to extract insights about sales performance."
   ]
  },
  {
   "cell_type": "markdown",
   "id": "66529e48-c0fe-4e6f-8c50-97d5fa4138dc",
   "metadata": {},
   "source": [
    "## 1. Sales Data Generation:"
   ]
  },
  {
   "cell_type": "code",
   "execution_count": 2,
   "id": "81615f43-957c-4677-8fd4-e554b71ac2f9",
   "metadata": {},
   "outputs": [],
   "source": [
    "import numpy as np"
   ]
  },
  {
   "cell_type": "markdown",
   "id": "6bbff163-d5b3-43c2-a492-4823c21b9e37",
   "metadata": {},
   "source": [
    "#### 1.1 Simulate daily sales_revenue for 30 days. Assume a base daily revenue (e.g., $1000) with random fluctuations. Use np.random.rand() or np.random.normal() to add variability. Ensure no negative sales."
   ]
  },
  {
   "cell_type": "code",
   "execution_count": 22,
   "id": "b90dec82-f767-429e-9498-fb46cdd37fc3",
   "metadata": {},
   "outputs": [
    {
     "data": {
      "text/plain": [
       "1000.4112667950276"
      ]
     },
     "execution_count": 22,
     "metadata": {},
     "output_type": "execute_result"
    }
   ],
   "source": [
    "daily_revenue = np.random.normal(loc=1000, scale=100, size=30)\n",
    "daily_revenue"
   ]
  },
  {
   "cell_type": "code",
   "execution_count": null,
   "id": "e7dd62f3-e4a2-49d1-a1f6-ddb20d06a95c",
   "metadata": {},
   "outputs": [],
   "source": []
  }
 ],
 "metadata": {
  "kernelspec": {
   "display_name": "Python 3 (ipykernel)",
   "language": "python",
   "name": "python3"
  },
  "language_info": {
   "codemirror_mode": {
    "name": "ipython",
    "version": 3
   },
   "file_extension": ".py",
   "mimetype": "text/x-python",
   "name": "python",
   "nbconvert_exporter": "python",
   "pygments_lexer": "ipython3",
   "version": "3.13.3"
  }
 },
 "nbformat": 4,
 "nbformat_minor": 5
}
