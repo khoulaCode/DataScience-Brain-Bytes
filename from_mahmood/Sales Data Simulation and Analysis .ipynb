{
 "cells": [
  {
   "cell_type": "markdown",
   "id": "b7de19f5-7636-430e-979f-de2737729841",
   "metadata": {},
   "source": [
    "# 1. Sales Data Generation: "
   ]
  },
  {
   "cell_type": "code",
   "execution_count": 25,
   "id": "13fc0686-e983-412e-8661-3b2d3ee1e287",
   "metadata": {},
   "outputs": [
    {
     "name": "stdout",
     "output_type": "stream",
     "text": [
      "\n",
      "Sales Revenue:\n",
      "[1381.65  773.24 1259.21 1168.62  976.03 1605.53 1332.1   800.46 1400.68\n",
      "  631.72  750.81  747.02  688.88 1527.17 1250.15 1286.46 1249.66  611.89\n",
      " 1540.57 1653.44  812.19  589.47 1524.53  810.9   803.65 1153.24 1006.4\n",
      " 1064.76 1219.91  671.5 ]\n",
      "\n",
      "Units Sold:\n",
      "[27. 15. 25. 23. 19. 32. 26. 16. 28. 12. 15. 14. 13. 30. 25. 25. 24. 12.\n",
      " 30. 33. 16. 11. 30. 16. 16. 23. 20. 21. 24. 13.]\n"
     ]
    }
   ],
   "source": [
    "import numpy as np\n",
    "\n",
    "base_revenue = 1000\n",
    "fluctuation = np.random.normal(0, 300, size=30)\n",
    "sales_revenue = np.maximum(base_revenue + fluctuation, 0)\n",
    "\n",
    "print(\"\\nSales Revenue:\")\n",
    "print(np.round(sales_revenue, 2))\n",
    "price_unit= 50\n",
    "\n",
    "units_sold =(sales_revenue//50)\n",
    "\n",
    "print(\"\\nUnits Sold:\")\n",
    "print(units_sold)\n"
   ]
  },
  {
   "cell_type": "markdown",
   "id": "64aeeb24-ed87-4d59-a243-9d7b335f0b6e",
   "metadata": {},
   "source": [
    "# 2. Combine Data: "
   ]
  },
  {
   "cell_type": "code",
   "execution_count": 33,
   "id": "c90ab0a9-17fc-4cbe-b682-fa35f970a8f1",
   "metadata": {},
   "outputs": [
    {
     "name": "stdout",
     "output_type": "stream",
     "text": [
      "[[1381.6544617   773.24119305 1259.21357491]\n",
      " [1168.61883518  976.02872693 1605.53371374]\n",
      " [1332.10471484  800.45810863 1400.67959622]\n",
      " [ 631.72057892  750.81212046  747.02101357]\n",
      " [ 688.87905426 1527.16605413 1250.14933389]\n",
      " [1286.45758642 1249.66456405  611.89419911]\n",
      " [1540.56868623 1653.44317304  812.19477397]\n",
      " [ 589.46797329 1524.53422689  810.90028372]\n",
      " [ 803.65343792 1153.2402848  1006.40297037]\n",
      " [1064.76293922 1219.91499689  671.49709218]]\n",
      "[[27. 15. 25.]\n",
      " [23. 19. 32.]\n",
      " [26. 16. 28.]\n",
      " [12. 15. 14.]\n",
      " [13. 30. 25.]\n",
      " [25. 24. 12.]\n",
      " [30. 33. 16.]\n",
      " [11. 30. 16.]\n",
      " [16. 23. 20.]\n",
      " [21. 24. 13.]]\n"
     ]
    }
   ],
   "source": [
    "Sales_Revenue_2D = sales_revenue.reshape(10, 3)\n",
    "print(Sales_Revenue_2D)\n",
    "units_sold_2D= units_sold.reshape(10, 3)\n",
    "print(units_sold_2D)\n"
   ]
  },
  {
   "cell_type": "markdown",
   "id": "50a86591-97b4-48d9-8ba4-3f63511923eb",
   "metadata": {},
   "source": [
    "# 3. Key Performance Indicators (KPIs): "
   ]
  },
  {
   "cell_type": "code",
   "execution_count": null,
   "id": "001c853a-c3c7-48fd-b74b-d75357fcf0e6",
   "metadata": {},
   "outputs": [],
   "source": []
  },
  {
   "cell_type": "code",
   "execution_count": 111,
   "id": "629dbb7e-849e-4a81-92f9-ba51a0b82591",
   "metadata": {},
   "outputs": [
    {
     "name": "stdout",
     "output_type": "stream",
     "text": [
      "32291.87826852653\n",
      "the mean of the units sold: \n",
      "21\n",
      "\n",
      "the maxmim revenue in a day was: \n",
      "1653.4431730381411\n",
      "\n",
      "Day of max revenue:\n",
      "20\n"
     ]
    }
   ],
   "source": [
    "sales_revenue_sumation_total = np.sum(sales_revenue)\n",
    "print(\"\")\n",
    "print(sales_revenue_sumation_total)\n",
    "units_sold_mean =int(np. mean(units_sold))\n",
    "print(\"the mean of the units sold: \")\n",
    "print(units_sold_mean)\n",
    "sales_revenue_max =np.max(sales_revenue)\n",
    "print(\"\\nthe maxmim revenue in a day was: \")\n",
    "print(sales_revenue_max)\n",
    "day_index = np.argmax(sales_revenue)  \n",
    "print(\"\\nDay of max revenue:\")\n",
    "print(day_index + 1) \n",
    "\n"
   ]
  },
  {
   "cell_type": "code",
   "execution_count": null,
   "id": "dde3c2b0-87a4-4a96-bdad-5224e1b63905",
   "metadata": {},
   "outputs": [],
   "source": []
  },
  {
   "cell_type": "code",
   "execution_count": 38,
   "id": "ba66db4f-13b3-43e7-a1ef-898991c491af",
   "metadata": {},
   "outputs": [
    {
     "data": {
      "text/plain": [
       "array([ True, False,  True, False, False,  True,  True, False,  True,\n",
       "       False, False, False, False,  True,  True,  True,  True, False,\n",
       "        True,  True, False, False,  True, False, False, False, False,\n",
       "       False,  True, False])"
      ]
     },
     "execution_count": 38,
     "metadata": {},
     "output_type": "execute_result"
    }
   ],
   "source": [
    "sales_revenue_above_1200= sales_revenue>1200\n",
    "sales_revenue_above_1200"
   ]
  },
  {
   "cell_type": "code",
   "execution_count": 100,
   "id": "e248798b-73cb-44f1-8433-ac264fc0ef81",
   "metadata": {},
   "outputs": [
    {
     "name": "stdout",
     "output_type": "stream",
     "text": [
      "the days that reach above 1200:\n",
      " [1381.6544617  1259.21357491 1605.53371374 1332.10471484 1400.67959622\n",
      " 1527.16605413 1250.14933389 1286.45758642 1249.66456405 1540.56868623\n",
      " 1653.44317304 1524.53422689 1219.91499689]\n"
     ]
    }
   ],
   "source": [
    "above_1200 = sales_revenue[sales_revenue_above_1200]\n",
    "print(\"the days that reach above 1200:\\n\",above_1200)"
   ]
  },
  {
   "cell_type": "code",
   "execution_count": 74,
   "id": "d4b6a9bd-9557-49e3-9e7e-d80fc0b1e44d",
   "metadata": {},
   "outputs": [
    {
     "name": "stdout",
     "output_type": "stream",
     "text": [
      "number of days (above 1200):\n",
      "13\n"
     ]
    }
   ],
   "source": [
    "\n",
    "days_above_target = np.sum(sales_revenue >1200)\n",
    "print(\"\\nnumber of days (above 1200):\")\n",
    "print(days_above_target)"
   ]
  },
  {
   "cell_type": "code",
   "execution_count": 97,
   "id": "f51c9fcb-aa31-4499-8ea9-e59296edd082",
   "metadata": {},
   "outputs": [
    {
     "name": "stdout",
     "output_type": "stream",
     "text": [
      "\n",
      "number of days are:\n",
      "12\n",
      "\n",
      "total sumation of the items below 900 : \n",
      "8691.739829080401\n"
     ]
    }
   ],
   "source": [
    "sales_revenue_below_900 = sales_revenue< 900 \n",
    "below_900 = sales_revenue[sales_revenue_below_900]\n",
    "print(\"\\nnumber of days are:\")\n",
    "print(np.sum(sales_revenue< 900))\n",
    "sumation_below_900 = np.sum(below_900)\n",
    "print(\"\\ntotal sumation of the items below 900 : \")\n",
    "print(sumation_below_900)"
   ]
  },
  {
   "cell_type": "markdown",
   "id": "bdc3e366-e21d-44af-ae49-bd5cf61e8caf",
   "metadata": {},
   "source": [
    "# 4. Weekly Aggregations: "
   ]
  },
  {
   "cell_type": "code",
   "execution_count": 96,
   "id": "3510260d-5b0e-49e8-9ded-296c1027c3e1",
   "metadata": {},
   "outputs": [
    {
     "name": "stdout",
     "output_type": "stream",
     "text": [
      "\n",
      "first week:\n",
      "[1381.65  773.24 1259.21 1168.62  976.03 1605.53 1332.1 ]\n",
      "\n",
      "secoud week:\n",
      "[ 800.46 1400.68  631.72  750.81  747.02  688.88 1527.17]\n",
      "\n",
      "therd week:\n",
      "[1250.15 1286.46 1249.66  611.89 1540.57 1653.44  812.19]\n",
      "\n",
      "forth week:\n",
      "[ 589.47 1524.53  810.9   803.65 1153.24 1006.4  1064.76]\n"
     ]
    }
   ],
   "source": [
    "first_week = np.round(sales_revenue[0:7], 2)\n",
    "print (\"\\nfirst week:\")\n",
    "print(first_week)\n",
    "\n",
    "secound_week = np.round(sales_revenue[7:14], 2)\n",
    "print(\"\\nsecoud week:\")\n",
    "print(secound_week)\n",
    "\n",
    "therd_week = np.round(sales_revenue[14:21], 2)\n",
    "print(\"\\ntherd week:\")\n",
    "print(therd_week)\n",
    "\n",
    "forth_week = np.round(sales_revenue[21:28], 2)\n",
    "print(\"\\nforth week:\")\n",
    "print(forth_week)"
   ]
  }
 ],
 "metadata": {
  "kernelspec": {
   "display_name": "Python [conda env:base] *",
   "language": "python",
   "name": "conda-base-py"
  },
  "language_info": {
   "codemirror_mode": {
    "name": "ipython",
    "version": 3
   },
   "file_extension": ".py",
   "mimetype": "text/x-python",
   "name": "python",
   "nbconvert_exporter": "python",
   "pygments_lexer": "ipython3",
   "version": "3.13.5"
  }
 },
 "nbformat": 4,
 "nbformat_minor": 5
}
