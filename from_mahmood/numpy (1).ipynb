{
 "cells": [
  {
   "cell_type": "code",
   "execution_count": null,
   "id": "b9905bd7-cda4-40e4-ac12-4f3864cfd692",
   "metadata": {},
   "outputs": [],
   "source": [
    "# part 1\n"
   ]
  },
  {
   "cell_type": "code",
   "execution_count": 15,
   "id": "24d6b034-c1d6-430c-a39a-3b8ae1ffec87",
   "metadata": {},
   "outputs": [
    {
     "name": "stdout",
     "output_type": "stream",
     "text": [
      "[[1 2 3]\n",
      " [4 5 6]]\n"
     ]
    }
   ],
   "source": [
    "import numpy as np\n",
    "\n",
    "arr = np.array([1, 2, 3, 4, 5, 6]).reshape(2, 3)\n",
    "print(arr)"
   ]
  },
  {
   "cell_type": "code",
   "execution_count": 8,
   "id": "e0ebeb08-0e5d-400c-8683-2b8b35ffa324",
   "metadata": {},
   "outputs": [
    {
     "name": "stdout",
     "output_type": "stream",
     "text": [
      "[[ 1  2  3  4  5]\n",
      " [ 6  7  8  9 10]]\n"
     ]
    }
   ],
   "source": [
    "arr2d= np.arange(1, 11).reshape(2,5)\n",
    "print(arr2d)"
   ]
  },
  {
   "cell_type": "code",
   "execution_count": 9,
   "id": "902a2e34-e268-4374-bedb-f2a24dbd9258",
   "metadata": {},
   "outputs": [
    {
     "name": "stdout",
     "output_type": "stream",
     "text": [
      "[[1 2 3]\n",
      " [4 5 6]\n",
      " [7 8 9]]\n"
     ]
    }
   ],
   "source": [
    "arr2d= np.arange(1, 10).reshape(3, 3)\n",
    "print(arr2d)"
   ]
  },
  {
   "cell_type": "markdown",
   "id": "1f4d03b2-ebb4-4802-8215-7e7b7bdc5a21",
   "metadata": {},
   "source": [
    "task 4\n"
   ]
  },
  {
   "cell_type": "code",
   "execution_count": 19,
   "id": "12993c4f-6616-469b-a0d1-125f8c7479f4",
   "metadata": {},
   "outputs": [
    {
     "name": "stdout",
     "output_type": "stream",
     "text": [
      "[[0.85296322 0.22053623 0.94830167]\n",
      " [0.63370611 0.47262909 0.34225773]\n",
      " [0.30947451 0.59439788 0.9811631 ]\n",
      " [0.62025029 0.41352196 0.7552287 ]\n",
      " [0.12007806 0.85040033 0.26109352]\n",
      " [0.83598351 0.8919796  0.35499186]]\n"
     ]
    }
   ],
   "source": [
    "random_matrix=np.random.rand(6, 3)\n",
    "print(random_matrix)"
   ]
  },
  {
   "cell_type": "code",
   "execution_count": 21,
   "id": "05d4a89a-1cb6-4d46-aef9-87cfade7e8ef",
   "metadata": {},
   "outputs": [
    {
     "name": "stdout",
     "output_type": "stream",
     "text": [
      "[0.         0.16666667 0.33333333 0.5        0.66666667 0.83333333\n",
      " 1.        ]\n"
     ]
    }
   ],
   "source": [
    "linspace_array= np.linspace(0, 1, 7)\n",
    "print(linspace_array)\n"
   ]
  },
  {
   "cell_type": "code",
   "execution_count": 23,
   "id": "8fde96bc-0f4e-4efd-8ae6-e363262b3c04",
   "metadata": {},
   "outputs": [
    {
     "name": "stdout",
     "output_type": "stream",
     "text": [
      "shape: (2, 3)\n",
      "ndim: 2\n",
      "dtype: int64\n"
     ]
    }
   ],
   "source": [
    "arr = np.array([[1, 2, 3], [4, 5, 6]])\n",
    "print(\"shape:\", arr.shape)\n",
    "print(\"ndim:\", arr.ndim)\n",
    "print(\"dtype:\", arr.dtype)"
   ]
  },
  {
   "cell_type": "code",
   "execution_count": 29,
   "id": "2682f5da-2dd1-45df-967a-695fc793afac",
   "metadata": {},
   "outputs": [
    {
     "name": "stdout",
     "output_type": "stream",
     "text": [
      "[[1 2]\n",
      " [3 4]]\n"
     ]
    }
   ],
   "source": [
    "arr1d= np.array([1, 2, 3, 4]).reshape(2, 2)\n",
    "print(arr1d)"
   ]
  },
  {
   "cell_type": "code",
   "execution_count": 32,
   "id": "86e42222-7e24-4bf3-bf1a-e2a417f05e7e",
   "metadata": {},
   "outputs": [
    {
     "data": {
      "text/plain": [
       "0    1\n",
       "1    2\n",
       "2    3\n",
       "3    4\n",
       "dtype: int64"
      ]
     },
     "execution_count": 32,
     "metadata": {},
     "output_type": "execute_result"
    }
   ],
   "source": [
    "import pandas as pd\n",
    "my_list=([1, 2, 3, 4])\n",
    "s = pd.Series(my_list)\n",
    "s"
   ]
  },
  {
   "cell_type": "code",
   "execution_count": 34,
   "id": "80013473-f444-40c6-97e1-841b8d03f450",
   "metadata": {},
   "outputs": [
    {
     "data": {
      "text/html": [
       "<div>\n",
       "<style scoped>\n",
       "    .dataframe tbody tr th:only-of-type {\n",
       "        vertical-align: middle;\n",
       "    }\n",
       "\n",
       "    .dataframe tbody tr th {\n",
       "        vertical-align: top;\n",
       "    }\n",
       "\n",
       "    .dataframe thead th {\n",
       "        text-align: right;\n",
       "    }\n",
       "</style>\n",
       "<table border=\"1\" class=\"dataframe\">\n",
       "  <thead>\n",
       "    <tr style=\"text-align: right;\">\n",
       "      <th></th>\n",
       "      <th>name</th>\n",
       "      <th>age</th>\n",
       "      <th>city</th>\n",
       "    </tr>\n",
       "  </thead>\n",
       "  <tbody>\n",
       "    <tr>\n",
       "      <th>0</th>\n",
       "      <td>mahmood</td>\n",
       "      <td>23</td>\n",
       "      <td>sinaw</td>\n",
       "    </tr>\n",
       "    <tr>\n",
       "      <th>1</th>\n",
       "      <td>adham</td>\n",
       "      <td>25</td>\n",
       "      <td>seeb</td>\n",
       "    </tr>\n",
       "    <tr>\n",
       "      <th>2</th>\n",
       "      <td>salim</td>\n",
       "      <td>35</td>\n",
       "      <td>muscat</td>\n",
       "    </tr>\n",
       "  </tbody>\n",
       "</table>\n",
       "</div>"
      ],
      "text/plain": [
       "      name  age    city\n",
       "0  mahmood   23   sinaw\n",
       "1    adham   25    seeb\n",
       "2    salim   35  muscat"
      ]
     },
     "execution_count": 34,
     "metadata": {},
     "output_type": "execute_result"
    }
   ],
   "source": [
    "data={\n",
    "    \"name\":[\"mahmood\",\"adham\", \"salim\" ],\n",
    "    \"age\": [23, 25, 35], \n",
    "    \"city\": [\"sinaw\", \"seeb\", \"muscat\"]\n",
    "}\n",
    "df =pd.DataFrame(data)\n",
    "df"
   ]
  },
  {
   "cell_type": "code",
   "execution_count": 42,
   "id": "7cc451fb-1841-455d-ad61-9886d70fe72a",
   "metadata": {},
   "outputs": [
    {
     "data": {
      "text/html": [
       "<div>\n",
       "<style scoped>\n",
       "    .dataframe tbody tr th:only-of-type {\n",
       "        vertical-align: middle;\n",
       "    }\n",
       "\n",
       "    .dataframe tbody tr th {\n",
       "        vertical-align: top;\n",
       "    }\n",
       "\n",
       "    .dataframe thead th {\n",
       "        text-align: right;\n",
       "    }\n",
       "</style>\n",
       "<table border=\"1\" class=\"dataframe\">\n",
       "  <thead>\n",
       "    <tr style=\"text-align: right;\">\n",
       "      <th></th>\n",
       "      <th>col_1</th>\n",
       "      <th>col_2</th>\n",
       "      <th>col_3</th>\n",
       "    </tr>\n",
       "  </thead>\n",
       "  <tbody>\n",
       "    <tr>\n",
       "      <th>Raw1</th>\n",
       "      <td>1</td>\n",
       "      <td>2</td>\n",
       "      <td>3</td>\n",
       "    </tr>\n",
       "    <tr>\n",
       "      <th>Raw2</th>\n",
       "      <td>4</td>\n",
       "      <td>5</td>\n",
       "      <td>6</td>\n",
       "    </tr>\n",
       "    <tr>\n",
       "      <th>Raw3</th>\n",
       "      <td>7</td>\n",
       "      <td>8</td>\n",
       "      <td>9</td>\n",
       "    </tr>\n",
       "  </tbody>\n",
       "</table>\n",
       "</div>"
      ],
      "text/plain": [
       "      col_1  col_2  col_3\n",
       "Raw1      1      2      3\n",
       "Raw2      4      5      6\n",
       "Raw3      7      8      9"
      ]
     },
     "execution_count": 42,
     "metadata": {},
     "output_type": "execute_result"
    }
   ],
   "source": [
    "np_arr =np.array([[1, 2, 3],[4, 5, 6],[7, 8, 9]])\n",
    "df_np = pd.DataFrame(np_arr, index= [\"Raw1\", \"Raw2\", \"Raw3\"], columns =[\"col_1\", \"col_2\", \"col_3\"])\n",
    "df_np"
   ]
  },
  {
   "cell_type": "code",
   "execution_count": 37,
   "id": "65426a33-9c55-4c7b-a00a-a4c897c51669",
   "metadata": {},
   "outputs": [
    {
     "data": {
      "text/plain": [
       "Raw1    3\n",
       "Raw2    6\n",
       "Raw3    9\n",
       "Name: col_3, dtype: int64"
      ]
     },
     "execution_count": 37,
     "metadata": {},
     "output_type": "execute_result"
    }
   ],
   "source": [
    "df_np.col_3"
   ]
  },
  {
   "cell_type": "code",
   "execution_count": 54,
   "id": "68558768-651a-4fb7-82a9-0942fb89cbb4",
   "metadata": {},
   "outputs": [
    {
     "name": "stdout",
     "output_type": "stream",
     "text": [
      "[[10 11 12]\n",
      " [13 14 15]\n",
      " [16 17 18]]\n",
      "15\n"
     ]
    }
   ],
   "source": [
    "data = np.array([[10, 11, 12], [13, 14, 15], [16, 17, 18]]).reshape(3,3)\n",
    "print(data)\n",
    "extract_data = data[1, 2]\n",
    "print(extract_data)"
   ]
  },
  {
   "cell_type": "code",
   "execution_count": 77,
   "id": "18f94150-e800-499f-a035-9423de8e497c",
   "metadata": {},
   "outputs": [
    {
     "name": "stdout",
     "output_type": "stream",
     "text": [
      "[[10 11 12]\n",
      " [13 14 15]]\n"
     ]
    }
   ],
   "source": [
    "data = np.array([[10, 11, 12], [13, 14, 15], [16, 17, 18]]).reshape(3,3)\n",
    "\n",
    "extract_data = data[0:2, :]\n",
    "print(extract_data)"
   ]
  },
  {
   "cell_type": "code",
   "execution_count": 82,
   "id": "93ff8ffc-3d90-4e7c-b6d1-28732271603a",
   "metadata": {},
   "outputs": [
    {
     "name": "stdout",
     "output_type": "stream",
     "text": [
      "11 15 17\n"
     ]
    }
   ],
   "source": [
    "\n",
    "print(data[0, 1],data[1, 2],data[2, 1])\n"
   ]
  },
  {
   "cell_type": "markdown",
   "id": "7a125132-ece9-4fe4-b1b3-d4a22ae73642",
   "metadata": {},
   "source": [
    "# task_3 num 5"
   ]
  },
  {
   "cell_type": "code",
   "execution_count": 89,
   "id": "03a2db72-4138-4586-9a39-12c4ef6991c7",
   "metadata": {},
   "outputs": [
    {
     "name": "stdout",
     "output_type": "stream",
     "text": [
      "[ True  True False False  True  True]\n",
      "[85 92 95 88]\n"
     ]
    }
   ],
   "source": [
    "scores = np.array([85, 92, 78, 65, 95, 88])\n",
    "boolean= scores >80\n",
    "print(boolean)\n",
    "greater_than_80= scores[boolean]\n",
    "print(greater_than_80)"
   ]
  },
  {
   "cell_type": "markdown",
   "id": "3052b233-d278-475a-8a8e-056cf461aed1",
   "metadata": {},
   "source": [
    "Given arr_op1 = np.array([10, 20, 30]) and arr_op2 = np.array([2, 4, 6]), perform element-wise multiplication and division (arr_op1 / arr_op2)."
   ]
  },
  {
   "cell_type": "code",
   "execution_count": 94,
   "id": "ba828538-a76c-4131-83e6-81ee488b222a",
   "metadata": {},
   "outputs": [
    {
     "name": "stdout",
     "output_type": "stream",
     "text": [
      "[ 20  80 180]\n",
      "[5. 5. 5.]\n"
     ]
    }
   ],
   "source": [
    "arr_op1 = np.array([10, 20, 30])  \n",
    "arr_op2 = np.array([2, 4, 6])\n",
    "multiplication= arr_op1 * arr_op2\n",
    "print(multiplication)\n",
    "division=(arr_op1 / arr_op2)\n",
    "print(division)"
   ]
  },
  {
   "cell_type": "markdown",
   "id": "7f409765-0f2c-484a-aa92-309d89c60807",
   "metadata": {},
   "source": [
    "Given matrix = np.array([[1, 2, 3], [4, 5, 6], [7, 8, 9]]), calculate the sum of all elements in the matrix."
   ]
  },
  {
   "cell_type": "code",
   "execution_count": 104,
   "id": "4e70ae3e-383b-41a9-b5a3-ce84bda5f437",
   "metadata": {},
   "outputs": [
    {
     "name": "stdout",
     "output_type": "stream",
     "text": [
      "45\n"
     ]
    }
   ],
   "source": [
    "matrix = np.array([[1, 2, 3], [4, 5, 6], [7, 8, 9]])\n",
    "sumation =np.sum(matrix)\n",
    "print(sumation)"
   ]
  },
  {
   "cell_type": "markdown",
   "id": "02897f63-5460-4f68-b4ab-1db8eb837328",
   "metadata": {},
   "source": [
    "From the matrix (from Q18), calculate the mean of each column."
   ]
  },
  {
   "cell_type": "code",
   "execution_count": 106,
   "id": "45c6d9d2-ae59-4c48-bbcd-5c194fdd28ec",
   "metadata": {},
   "outputs": [
    {
     "name": "stdout",
     "output_type": "stream",
     "text": [
      "5.0\n"
     ]
    }
   ],
   "source": [
    "mean_matrix = np.mean(matrix)\n",
    "print(mean_matrix)"
   ]
  },
  {
   "cell_type": "markdown",
   "id": "c4a61a42-6395-4009-b67a-a829a227209c",
   "metadata": {},
   "source": [
    "Given price_array = np.array([100, 150, 200, 250]) and discount_percentage = 0.10, apply a 10% discount to all prices using broadcasting."
   ]
  },
  {
   "cell_type": "code",
   "execution_count": 108,
   "id": "11c7f8b0-0803-4ce8-b3a0-eef00722a373",
   "metadata": {},
   "outputs": [
    {
     "name": "stdout",
     "output_type": "stream",
     "text": [
      "[ 90. 135. 180. 225.]\n"
     ]
    }
   ],
   "source": [
    "price_array = np.array([100, 150, 200, 250])\n",
    "discount_percentage = 0.90 * price_array\n",
    "print(discount_percentage)"
   ]
  },
  {
   "cell_type": "code",
   "execution_count": null,
   "id": "0e7d70c1-d34d-463b-a055-cc0c16cbf452",
   "metadata": {},
   "outputs": [],
   "source": []
  }
 ],
 "metadata": {
  "kernelspec": {
   "display_name": "Python [conda env:base] *",
   "language": "python",
   "name": "conda-base-py"
  },
  "language_info": {
   "codemirror_mode": {
    "name": "ipython",
    "version": 3
   },
   "file_extension": ".py",
   "mimetype": "text/x-python",
   "name": "python",
   "nbconvert_exporter": "python",
   "pygments_lexer": "ipython3",
   "version": "3.13.5"
  }
 },
 "nbformat": 4,
 "nbformat_minor": 5
}
