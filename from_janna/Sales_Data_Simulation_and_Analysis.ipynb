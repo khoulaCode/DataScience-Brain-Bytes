{
 "cells": [
  {
   "cell_type": "markdown",
   "id": "b9ca3289-31f1-4d77-b4ad-908e1dc4a638",
   "metadata": {},
   "source": [
    "# Sales Data Simulation and Analysis\n",
    "### 1. Sales Data Generation:\n",
    "* ##### Simulate daily sales_revenue for ```30``` days. Assume a base daily revenue (e.g., ```$1000```) with random fluctuations. Use ```np.random.rand() or np.random.normal()``` to add variability. Ensure no negative sales\n",
    "* ##### Simulate units_sold for the same ```30``` days, correlated with sales revenue but with its own random fluctuations\n",
    "* ##### Create two 1D NumPy arrays, one for sales_revenue and one for units_sold."
   ]
  },
  {
   "cell_type": "code",
   "execution_count": 2,
   "id": "efec86ae-8a9d-4b96-8fd1-e520806ff9e6",
   "metadata": {},
   "outputs": [],
   "source": [
    "import numpy as np"
   ]
  },
  {
   "cell_type": "code",
   "execution_count": 13,
   "id": "3eee98db-2f6d-47ac-b854-6db01e361115",
   "metadata": {},
   "outputs": [
    {
     "name": "stdout",
     "output_type": "stream",
     "text": [
      "Sales Revenue:\n",
      "  [1253.0286072  1060.38173101 1018.68699599  903.48024549 1410.63791369\n",
      " 1251.69363953  777.83801424  860.06243573 1343.93180765  736.80476557\n",
      "  943.00472285 1178.49112871  779.58412672 1204.63657174 1179.91185006\n",
      "  962.51627806  924.40989373  663.60720099  580.69554671 1015.85218417\n",
      " 1144.7061594   950.58460404 1013.37548135  961.43474562  880.66382971\n",
      " 1030.43424445  908.57338733 1215.90763136  753.45750447 1166.85290708]\n",
      "\n",
      "Units Sold:\n",
      " [37. 47. 48. 51. 44. 63. 40. 58. 64. 42. 48. 38. 57. 50. 64. 55. 64. 60.\n",
      " 27. 54. 48. 53. 39. 54. 49. 51. 60. 47. 45. 62.]\n"
     ]
    }
   ],
   "source": [
    "days = 30\n",
    "base_revenue = 1000\n",
    "revenue_std = 200\n",
    "units_base = 50\n",
    "units_std = 10\n",
    "\n",
    "revenue_fluctuations = np.random.normal(loc=0, scale=revenue_std, size=days)\n",
    "sales_revenue = base_revenue + revenue_fluctuations\n",
    "sales_revenue[sales_revenue < 0] = 0  # Ensure no negative sales\n",
    "print(\"Sales Revenue:\\n \",sales_revenue)\n",
    "\n",
    "revenue_scaled = (sales_revenue - np.mean(sales_revenue)) / np.std(sales_revenue)\n",
    "units_noise = np.random.normal(loc=0, scale=units_std, size=days)\n",
    "units_sold = units_base + (revenue_scaled * 5) + units_noise\n",
    "units_sold = np.round(units_sold)\n",
    "units_sold[units_sold < 0] = 0  \n",
    "print(\"\\nUnits Sold:\\n\", units_sold)"
   ]
  },
  {
   "cell_type": "markdown",
   "id": "66658a7e-a4a2-40e7-b605-834523f96836",
   "metadata": {},
   "source": [
    "### 2. Combine Data:\n",
    "* ##### Create a 2D NumPy array where the first column is sales_revenue and the second is units_sold"
   ]
  },
  {
   "cell_type": "code",
   "execution_count": 19,
   "id": "a60d927b-79d5-4e35-b603-36612bd48daa",
   "metadata": {},
   "outputs": [
    {
     "data": {
      "text/plain": [
       "array([[1253.0286072 ,   37.        ],\n",
       "       [1060.38173101,   47.        ],\n",
       "       [1018.68699599,   48.        ],\n",
       "       [ 903.48024549,   51.        ],\n",
       "       [1410.63791369,   44.        ],\n",
       "       [1251.69363953,   63.        ],\n",
       "       [ 777.83801424,   40.        ],\n",
       "       [ 860.06243573,   58.        ],\n",
       "       [1343.93180765,   64.        ],\n",
       "       [ 736.80476557,   42.        ],\n",
       "       [ 943.00472285,   48.        ],\n",
       "       [1178.49112871,   38.        ],\n",
       "       [ 779.58412672,   57.        ],\n",
       "       [1204.63657174,   50.        ],\n",
       "       [1179.91185006,   64.        ],\n",
       "       [ 962.51627806,   55.        ],\n",
       "       [ 924.40989373,   64.        ],\n",
       "       [ 663.60720099,   60.        ],\n",
       "       [ 580.69554671,   27.        ],\n",
       "       [1015.85218417,   54.        ],\n",
       "       [1144.7061594 ,   48.        ],\n",
       "       [ 950.58460404,   53.        ],\n",
       "       [1013.37548135,   39.        ],\n",
       "       [ 961.43474562,   54.        ],\n",
       "       [ 880.66382971,   49.        ],\n",
       "       [1030.43424445,   51.        ],\n",
       "       [ 908.57338733,   60.        ],\n",
       "       [1215.90763136,   47.        ],\n",
       "       [ 753.45750447,   45.        ],\n",
       "       [1166.85290708,   62.        ]])"
      ]
     },
     "execution_count": 19,
     "metadata": {},
     "output_type": "execute_result"
    }
   ],
   "source": [
    "sales_data = np.vstack([sales_revenue, units_sold]).T\n",
    "sales_data"
   ]
  },
  {
   "cell_type": "markdown",
   "id": "d0cd038a-d88a-45c8-a617-3ab19235c681",
   "metadata": {},
   "source": [
    "### 3. Key Performance Indicators (KPIs):\n",
    "* ##### Calculate the ```total``` sales_revenue for the month.\n",
    "* ##### Calculate the ```average``` units_sold per day.\n",
    "* ##### Determine the ```maximum``` daily sales_revenue and the day (index) it occurred.\n",
    "* ##### Calculate the ```average``` revenue per unit sold for the entire month ```(total revenue / total units sold)```"
   ]
  },
  {
   "cell_type": "code",
   "execution_count": 20,
   "id": "6e5be535-0611-4305-a6ac-1d60a2c55e07",
   "metadata": {},
   "outputs": [
    {
     "name": "stdout",
     "output_type": "stream",
     "text": [
      "Total Revenue:  30075.24615463739\n",
      "Average Units Per Day:  50.63333333333333\n",
      "Maximum Revenue:  1410.637913692486\n",
      "Maximum Revenue Day:  4\n",
      "Average Revenue Per Unit:  19.799372057035807\n"
     ]
    }
   ],
   "source": [
    "# Total sales revenue\n",
    "total_revenue = np.sum(sales_data[:, 0])\n",
    "print(\"Total Revenue: \", total_revenue)\n",
    "\n",
    "# Average units sold per day\n",
    "avg_units_per_day = np.mean(sales_data[:, 1])\n",
    "print(\"Average Units Per Day: \", avg_units_per_day)\n",
    "\n",
    "# Maximum revenue and day it occurred (0-based index)\n",
    "max_revenue = np.max(sales_revenue)\n",
    "max_revenue_day_indices = np.where(sales_revenue == max_revenue)[0]\n",
    "max_revenue_day = max_revenue_day_indices[0]\n",
    "print(\"Maximum Revenue: \", max_revenue)\n",
    "print(\"Maximum Revenue Day: \", max_revenue_day)\n",
    "\n",
    "# Average revenue per unit sold (total revenue / total units)\n",
    "total_units = np.sum(sales_data[:, 1])\n",
    "avg_revenue_per_unit = total_revenue / total_units\n",
    "print(\"Average Revenue Per Unit: \", avg_revenue_per_unit)"
   ]
  },
  {
   "cell_type": "markdown",
   "id": "e9f81c5d-937a-47a8-9def-8e654bf0e147",
   "metadata": {},
   "source": [
    "### 4. Conditional Analysis: \n",
    "* ##### Identify and count how many days had sales_revenue above a certain target (e.g., $1200)\n",
    "  \n",
    "* ##### Calculate the average units_sold only for days when sales_revenue was below a certain threshold (e.g., $900)"
   ]
  },
  {
   "cell_type": "code",
   "execution_count": 21,
   "id": "3a73f9f9-1460-4caf-83e8-a91c73249920",
   "metadata": {},
   "outputs": [
    {
     "name": "stdout",
     "output_type": "stream",
     "text": [
      "Number of Days Above 1200:  6\n",
      "Average units sold on days with revenue < $900:  47.25\n"
     ]
    }
   ],
   "source": [
    "high_revenue = sales_data[:, 0] > 1200\n",
    "num_days_above_1200 = np.sum(high_revenue)\n",
    "print(\"Number of Days Above 1200: \", num_days_above_1200)\n",
    "\n",
    "low_revenue = sales_data[:, 0] < 900\n",
    "units_low_revenue = sales_data[low_revenue, 1]\n",
    "\n",
    "if units_low_revenue.size > 0:\n",
    "    avg_units_low_revenue = np.mean(units_low_revenue)\n",
    "else:\n",
    "    avg_units_low_revenue = 0\n",
    "print(\"Average units sold on days with revenue < $900: \", avg_units_low_revenue)"
   ]
  },
  {
   "cell_type": "markdown",
   "id": "c5f2d9eb-83fb-48ee-8f9e-84d8fff5c5a7",
   "metadata": {},
   "source": [
    "### 5. Weekly Aggregations:\n",
    "* ##### Assume the 30 days start on a Monday. Calculate the total sales_revenue for each of the 4 full weeks (days 1-7, 8-14, 15-21, 22-28). You will need to reshape or carefully slice your data"
   ]
  },
  {
   "cell_type": "code",
   "execution_count": 22,
   "id": "9cb04538-3205-4d27-8710-228f64fad7be",
   "metadata": {},
   "outputs": [
    {
     "name": "stdout",
     "output_type": "stream",
     "text": [
      "Weekly Revenue Totals: [7675.74714715 7046.51555896 6471.69911313 6960.97392385]\n"
     ]
    }
   ],
   "source": [
    "# Extract first 28 days of sales revenue\n",
    "first_28_days_revenue = sales_data[:28, 0]\n",
    "# Reshape into 4 weeks × 7 days\n",
    "weekly_revenue = first_28_days_revenue.reshape(4, 7)\n",
    "weekly_totals = weekly_revenue.sum(axis=1)\n",
    "print(\"Weekly Revenue Totals:\", weekly_totals)"
   ]
  }
 ],
 "metadata": {
  "kernelspec": {
   "display_name": "Python [conda env:base] *",
   "language": "python",
   "name": "conda-base-py"
  },
  "language_info": {
   "codemirror_mode": {
    "name": "ipython",
    "version": 3
   },
   "file_extension": ".py",
   "mimetype": "text/x-python",
   "name": "python",
   "nbconvert_exporter": "python",
   "pygments_lexer": "ipython3",
   "version": "3.12.7"
  }
 },
 "nbformat": 4,
 "nbformat_minor": 5
}
