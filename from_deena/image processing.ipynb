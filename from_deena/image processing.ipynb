{
 "cells": [
  {
   "cell_type": "markdown",
   "id": "1e8a6c27-1c61-468f-ae7a-71be7001896a",
   "metadata": {},
   "source": [
    "# Smart Building"
   ]
  },
  {
   "cell_type": "markdown",
   "id": "6c59ae09-da80-4d74-9946-9623debeaa09",
   "metadata": {},
   "source": [
    "#### **Task Details**"
   ]
  },
  {
   "cell_type": "markdown",
   "id": "ede37424-e9ea-42f5-a430-0ba04d0af2c6",
   "metadata": {},
   "source": [
    "**Scenario:** You're working on a basic image processing application. You're given a simple grayscale image represented as a NumPy array where each pixel value indicates intensity (0 for black, 255 for white). You need to perform some fundamental operations."
   ]
  },
  {
   "cell_type": "markdown",
   "id": "0b0addd9-95e2-4169-bf72-0a06aa034cb5",
   "metadata": {},
   "source": [
    "#### **Downloading The Library**"
   ]
  },
  {
   "cell_type": "code",
   "execution_count": 5,
   "id": "c929e68d-d200-427b-b983-a48d5280ec8d",
   "metadata": {},
   "outputs": [],
   "source": [
    "import numpy as np"
   ]
  },
  {
   "cell_type": "markdown",
   "id": "a307940e-f7a8-4a7a-8e49-963087576ae7",
   "metadata": {},
   "source": [
    "##### **Set a seed so we get the same \"random\" numbers every time**"
   ]
  },
  {
   "cell_type": "code",
   "execution_count": null,
   "id": "5a7d7a3f-e883-4b9d-97cd-d70864293e80",
   "metadata": {},
   "outputs": [],
   "source": [
    "np.random.seed(0)"
   ]
  },
  {
   "cell_type": "markdown",
   "id": "ea233574-8aa4-4781-b7d1-b5a267f16a0a",
   "metadata": {},
   "source": [
    "#### **Image Representation:**\n",
    "**1. Create a 2D NumPy array (e.g., 10x10) to represent a grayscale image. Initialize it with random integer pixel values between 0 and 255.**"
   ]
  },
  {
   "cell_type": "code",
   "execution_count": 52,
   "id": "5e907e2b-2a15-4871-8a08-5e01181953b2",
   "metadata": {},
   "outputs": [
    {
     "name": "stdout",
     "output_type": "stream",
     "text": [
      "\n",
      "Original image:\n",
      " [[198 199  18  92  43  83 177  41  93 174]\n",
      " [149 201  89 242 224 219  73  28 235 209]\n",
      " [105 186 128 214  63  16 106 164  94  24]\n",
      " [116 191 195  51 136 184  91  93 123 238]\n",
      " [ 87 160 147  72 199  87  13  58  81 120]\n",
      " [116 183  64 203 220 164  25  32 170  14]\n",
      " [214  28  20 210  68  22 227 122  83 135]\n",
      " [200  61 141   5   0 136 207 207 181 139]\n",
      " [  4 167  92 173  26  74  52 238 177 219]\n",
      " [ 51 227 105  18 117  34  51 158 181  58]]\n"
     ]
    }
   ],
   "source": [
    "image = np.random.randint(0, 256, size=(10,10))\n",
    "# Make a 10x10 image with numbers from 0 to 255\n",
    "\n",
    "print('\\nOriginal image:\\n', image)"
   ]
  },
  {
   "cell_type": "markdown",
   "id": "1a158be6-4de6-496b-a115-8d6aaf58fdfa",
   "metadata": {},
   "source": [
    "#### **Inverting the Image**"
   ]
  },
  {
   "cell_type": "markdown",
   "id": "5fb120df-a762-4491-9a73-398454ca62ec",
   "metadata": {},
   "source": [
    "**2. Invert the image (black becomes white, white becomes black). For a pixel value p, the inverted value is 255 - p.**"
   ]
  },
  {
   "cell_type": "code",
   "execution_count": 51,
   "id": "eca23f2c-37ae-431c-ad52-6ef131c23a63",
   "metadata": {},
   "outputs": [
    {
     "name": "stdout",
     "output_type": "stream",
     "text": [
      "\n",
      "Inverted Image:\n",
      " [[130  99 144  23 253 228  44  38 104 202]\n",
      " [204  81 107  74 226 188 220 216 118 182]\n",
      " [214 104 124 209  37  77 147 252 224 246]\n",
      " [117 228  82  56  88 194 170 158 211 221]\n",
      " [ 93 167 222 122  23   0 219 255  52 221]\n",
      " [ 58 129  74   1 175  65 119  66 126  46]\n",
      " [143 220 135 164  87 139 219  79 230 188]\n",
      " [152   3 220 141 225 226  14 222 109 238]\n",
      " [ 34 171   2 253 186 154 115 211 138   2]\n",
      " [189 144 164 170  88 216  52 105  97 110]]\n"
     ]
    }
   ],
   "source": [
    "inverted_image = 255 - image\n",
    "# Invert the image: 255 - each pixel\n",
    "\n",
    "print(\"\\nInverted Image:\\n\", inverted_image)"
   ]
  },
  {
   "cell_type": "markdown",
   "id": "47dd68a5-5223-46f7-97c8-cdd50b0fbae2",
   "metadata": {},
   "source": [
    "#### **Making the Image Only Black or White**"
   ]
  },
  {
   "cell_type": "markdown",
   "id": "411b1141-088c-4975-b3c7-6b1d8e90cc4c",
   "metadata": {},
   "source": [
    "**3. Apply a simple thresholding operation: all pixels below a certain value (e.g., 128) become 0 (black), and all pixels equal to or above become 255 (white).**"
   ]
  },
  {
   "cell_type": "code",
   "execution_count": 50,
   "id": "0a6a6e0a-8050-4238-bd98-76ad4d77202b",
   "metadata": {},
   "outputs": [
    {
     "name": "stdout",
     "output_type": "stream",
     "text": [
      "\n",
      "Black and White Image:\n",
      " [[  0 255   0 255   0   0 255 255 255   0]\n",
      " [  0 255 255 255   0   0   0   0 255   0]\n",
      " [  0 255 255   0 255 255   0   0   0   0]\n",
      " [255   0 255 255 255   0   0   0   0   0]\n",
      " [255   0   0 255 255 255   0   0 255   0]\n",
      " [255   0 255 255   0 255 255 255 255 255]\n",
      " [  0   0   0   0 255   0   0 255   0   0]\n",
      " [  0 255   0   0   0   0 255   0 255   0]\n",
      " [255   0 255   0   0   0 255   0   0 255]\n",
      " [  0   0   0   0 255   0 255 255 255 255]]\n"
     ]
    }
   ],
   "source": [
    "binary_image = np.where(image < 128, 0, 255)\n",
    "# If pixel is less than 128, make it black (0)\n",
    "# If pixel is 128 or more, make it white (255)\n",
    "\n",
    "print(\"\\nBlack and White Image:\\n\", binary_image)"
   ]
  },
  {
   "cell_type": "markdown",
   "id": "84a7484d-8ef4-492b-b99b-2f09ee9dbeec",
   "metadata": {},
   "source": [
    "#### **Cuting Out the Center Part (Cropping)**"
   ]
  },
  {
   "cell_type": "markdown",
   "id": "e7524ab2-063b-44c5-9078-d036dbefd62c",
   "metadata": {},
   "source": [
    "**4. Extract a smaller \"region of interest\" (e.g., a 4x4 sub-image from the center) using array slicing.**"
   ]
  },
  {
   "cell_type": "code",
   "execution_count": 54,
   "id": "bfc359d7-f20a-4b3c-99a4-9fec7fd019e6",
   "metadata": {},
   "outputs": [
    {
     "name": "stdout",
     "output_type": "stream",
     "text": [
      "\n",
      "Cropped 4x4 Center:\n",
      " [[248  22 248  79]\n",
      " [212 217 194  60]\n",
      " [  4 100 236  49]\n",
      " [101 185 151 155]]\n"
     ]
    }
   ],
   "source": [
    "cropped_image = image[3:7, 3:7]\n",
    "# Cut out a small 4x4 piece from the center of the image\n",
    "\n",
    "print(\"\\nCropped 4x4 Center:\\n\", cropped_image)"
   ]
  },
  {
   "cell_type": "markdown",
   "id": "3c62dabd-5fd9-4ff8-89be-136ebe6bcfbc",
   "metadata": {},
   "source": [
    "#### **Finding Changes in Horizontal Pixels (Edge Detection)**"
   ]
  },
  {
   "cell_type": "markdown",
   "id": "cab75f55-8d7b-4704-a0dd-6e2f3474e6f7",
   "metadata": {},
   "source": [
    "**5. Implement a very basic horizontal edge detection filter. This can be done by applying a convolution kernel (e.g., [-1, 0, 1] horizontally) to each row. For simplicity, you can just calculate the difference between adjacent pixels image[i, j+1] - image[i, j] for each pixel. Handle boundaries carefully (e.g., by skipping the last column).**"
   ]
  },
  {
   "cell_type": "code",
   "execution_count": 55,
   "id": "91e23455-04ae-4feb-812a-ef250693ea50",
   "metadata": {},
   "outputs": [
    {
     "name": "stdout",
     "output_type": "stream",
     "text": [
      "\n",
      "Edges Found (Horizontal changes):\n",
      " [[-116  197    0 -234  155  -86  106 -123  164    0]\n",
      " [  -5   46  -35   21   74  -30   39 -105  119    0]\n",
      " [  95 -157  -31  108  -51  -32  129  -31 -123    0]\n",
      " [-113   73   40 -226  226 -169  138 -209  219    0]\n",
      " [ 203  -10   13    5  -23 -134   84  -88   58    0]\n",
      " [ -86 -127  -20   96  136 -187   38  -57   24    0]\n",
      " [-133   77    4   84  -34    4 -126  132  -46    0]\n",
      " [  66   60  -93  160 -239   98  136 -104   45    0]\n",
      " [ -45   37   44   45  -61  -31  123 -237  123    0]\n",
      " [  23  -45   16   32  140  -96   63  -37   99    0]]\n"
     ]
    }
   ],
   "source": [
    "edge_image = np.zeros_like(image)\n",
    "# Make an empty image to store the edges\n",
    "\n",
    "edge_image[:, :-1] = image[:, 1:] - image[:, :-1]\n",
    "# Go through each row and subtract left pixel from right pixel\n",
    "\n",
    "print(\"\\nEdges Found (Horizontal changes):\\n\", edge_image)"
   ]
  }
 ],
 "metadata": {
  "kernelspec": {
   "display_name": "Python [conda env:base] *",
   "language": "python",
   "name": "conda-base-py"
  },
  "language_info": {
   "codemirror_mode": {
    "name": "ipython",
    "version": 3
   },
   "file_extension": ".py",
   "mimetype": "text/x-python",
   "name": "python",
   "nbconvert_exporter": "python",
   "pygments_lexer": "ipython3",
   "version": "3.13.5"
  }
 },
 "nbformat": 4,
 "nbformat_minor": 5
}
