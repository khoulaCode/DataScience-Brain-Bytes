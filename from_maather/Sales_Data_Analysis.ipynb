{
 "cells": [
  {
   "cell_type": "markdown",
   "id": "c06840a0-5aab-45d6-917b-3463c118d81e",
   "metadata": {},
   "source": [
    "#### Sales Data Simulation and Analysis"
   ]
  },
  {
   "cell_type": "code",
   "execution_count": 2,
   "id": "7a9a2ff0-3d8e-43fc-88e8-4c2056f9ad72",
   "metadata": {},
   "outputs": [],
   "source": [
    "import numpy as np"
   ]
  },
  {
   "cell_type": "markdown",
   "id": "8bae26cb-607f-4ca4-b424-459af41b07f9",
   "metadata": {},
   "source": [
    "##### Sales Data Generation: "
   ]
  },
  {
   "cell_type": "markdown",
   "id": "d92d609a-4791-4e90-87ca-db7924635464",
   "metadata": {},
   "source": [
    "##### Simulate daily sales_revenue for 30 days. Assume a base daily revenue (e.g., $1000) with random fluctuations. Use np.random.rand() or np.random.normal() to add variability. Ensure no negative sales.\n",
    " \n",
    "##### Simulate units_sold for the same 30 days, correlated with sales revenue but with its own random fluctuations.\n",
    " \n",
    "##### Create two 1D NumPy arrays, one for sales_revenue and one for units_sold."
   ]
  },
  {
   "cell_type": "code",
   "execution_count": 7,
   "id": "f4e70e84-c34e-4f09-bdcd-24f6e5c96972",
   "metadata": {},
   "outputs": [
    {
     "data": {
      "text/plain": [
       "array([1204.03777453, 1102.19664777,  905.56261997, 1192.01761041,\n",
       "        975.00136279,  851.76658587,  965.24038239, 1067.31132435,\n",
       "       1097.33469039, 1238.59374691, 1101.38319161, 1069.9099526 ,\n",
       "        794.64676826, 1106.03074802, 1160.94811845,  883.92922724,\n",
       "        553.22600584, 1076.43612207, 1143.00089802,  776.38091513,\n",
       "       1018.4185687 ,  544.59843245,  671.84404507, 1194.85657527,\n",
       "       1055.09788127,  789.8285745 ,  988.26632084,  634.62775344,\n",
       "        671.62492632, 1207.10180162])"
      ]
     },
     "execution_count": 7,
     "metadata": {},
     "output_type": "execute_result"
    }
   ],
   "source": [
    "sales_revenue = np.random.normal(loc = 1000,scale = 200 , size = 30)\n",
    "sales_revenues = np.array(sales_revenue)\n",
    "sales_revenues"
   ]
  },
  {
   "cell_type": "code",
   "execution_count": 8,
   "id": "a31bb228-240f-4822-9322-f02a3d39b342",
   "metadata": {},
   "outputs": [
    {
     "data": {
      "text/plain": [
       "array([120, 105,  95, 118,  96,  81,  99, 102, 114, 115, 113, 105,  78,\n",
       "       112, 113,  91,  60, 107, 110,  78, 105,  51,  64, 121, 111,  85,\n",
       "        98,  68,  66, 136])"
      ]
     },
     "execution_count": 8,
     "metadata": {},
     "output_type": "execute_result"
    }
   ],
   "source": [
    "units_sold = sales_revenues / 10 + np.random.normal(loc=0, scale=5, size=30) #assume each product for 10$\n",
    "unit_sold = np.round(units_sold).astype(int)\n",
    "unit_sold"
   ]
  },
  {
   "cell_type": "markdown",
   "id": "0d55606b-ef66-437d-b845-8d074c95ed97",
   "metadata": {},
   "source": [
    "##### Combine Data: \n"
   ]
  },
  {
   "cell_type": "markdown",
   "id": "60071e96-aa97-405a-b199-4250106e43f3",
   "metadata": {},
   "source": [
    "##### Create a 2D NumPy array where the first column is sales_revenue and the second is units_sold."
   ]
  },
  {
   "cell_type": "code",
   "execution_count": 21,
   "id": "40e850f0-d215-4a52-9c47-7f1038e5b427",
   "metadata": {},
   "outputs": [
    {
     "data": {
      "text/plain": [
       "array([[1204.03777453,  120.        ],\n",
       "       [1102.19664777,  105.        ],\n",
       "       [ 905.56261997,   95.        ],\n",
       "       [1192.01761041,  118.        ],\n",
       "       [ 975.00136279,   96.        ],\n",
       "       [ 851.76658587,   81.        ],\n",
       "       [ 965.24038239,   99.        ],\n",
       "       [1067.31132435,  102.        ],\n",
       "       [1097.33469039,  114.        ],\n",
       "       [1238.59374691,  115.        ],\n",
       "       [1101.38319161,  113.        ],\n",
       "       [1069.9099526 ,  105.        ],\n",
       "       [ 794.64676826,   78.        ],\n",
       "       [1106.03074802,  112.        ],\n",
       "       [1160.94811845,  113.        ],\n",
       "       [ 883.92922724,   91.        ],\n",
       "       [ 553.22600584,   60.        ],\n",
       "       [1076.43612207,  107.        ],\n",
       "       [1143.00089802,  110.        ],\n",
       "       [ 776.38091513,   78.        ],\n",
       "       [1018.4185687 ,  105.        ],\n",
       "       [ 544.59843245,   51.        ],\n",
       "       [ 671.84404507,   64.        ],\n",
       "       [1194.85657527,  121.        ],\n",
       "       [1055.09788127,  111.        ],\n",
       "       [ 789.8285745 ,   85.        ],\n",
       "       [ 988.26632084,   98.        ],\n",
       "       [ 634.62775344,   68.        ],\n",
       "       [ 671.62492632,   66.        ],\n",
       "       [1207.10180162,  136.        ]])"
      ]
     },
     "execution_count": 21,
     "metadata": {},
     "output_type": "execute_result"
    }
   ],
   "source": [
    "new_arr = np.vstack( [sales_revenues , unit_sold]).T\n",
    "new_arr"
   ]
  },
  {
   "cell_type": "markdown",
   "id": "bb982671-ef8a-4802-b59b-29b43a01f998",
   "metadata": {},
   "source": [
    "##### Key Performance Indicators (KPIs):\n"
   ]
  },
  {
   "cell_type": "markdown",
   "id": "0f155ddf-8157-4424-a2c4-ccc7dd4d2a94",
   "metadata": {},
   "source": [
    "###### Calculate the total sales_revenue for the month."
   ]
  },
  {
   "cell_type": "code",
   "execution_count": 23,
   "id": "7764dca5-02a1-457b-852c-ee711dab49df",
   "metadata": {},
   "outputs": [
    {
     "data": {
      "text/plain": [
       "np.float64(29041.21957211945)"
      ]
     },
     "execution_count": 23,
     "metadata": {},
     "output_type": "execute_result"
    }
   ],
   "source": [
    "total_revenue = np.sum(sales_revenues)\n",
    "total_revenue"
   ]
  },
  {
   "cell_type": "markdown",
   "id": "88cf36eb-f11e-47fd-9582-bad2065c0239",
   "metadata": {},
   "source": [
    "###### Calculate the average units_sold per day."
   ]
  },
  {
   "cell_type": "code",
   "execution_count": 34,
   "id": "2455e9e0-9a65-4bc3-b42e-3b9807798acb",
   "metadata": {},
   "outputs": [
    {
     "data": {
      "text/plain": [
       "np.float64(97.23333333333333)"
      ]
     },
     "execution_count": 34,
     "metadata": {},
     "output_type": "execute_result"
    }
   ],
   "source": [
    "average_units_sold = np.mean(unit_sold)\n",
    "average_units_sold"
   ]
  },
  {
   "cell_type": "markdown",
   "id": "d88c5887-857a-48ee-9070-41a1ee1b535b",
   "metadata": {},
   "source": [
    "###### Determine the maximum daily sales_revenue and the day (index) it occurred."
   ]
  },
  {
   "cell_type": "code",
   "execution_count": 31,
   "id": "3cd7caf5-100f-4e80-8a37-727e51e495e7",
   "metadata": {},
   "outputs": [
    {
     "name": "stdout",
     "output_type": "stream",
     "text": [
      "1238.593746905844\n",
      "9\n"
     ]
    }
   ],
   "source": [
    "max_sales_revenue = np.max(sales_revenues)\n",
    "print(max_sales_revenue)\n",
    "max_day = np.where(sales_revenue == np.max(sales_revenue)) [0][0] # to specify the output we can use [0][0] out of pracets \n",
    "print(max_day)"
   ]
  },
  {
   "cell_type": "markdown",
   "id": "fa27b390-77a6-4eaa-9402-69318888c3f9",
   "metadata": {},
   "source": [
    "###### Calculate the average revenue per unit sold for the entire month (total revenue / total units sold)."
   ]
  },
  {
   "cell_type": "code",
   "execution_count": 42,
   "id": "5fd8a435-e7e0-4a7c-992c-e620883c2491",
   "metadata": {},
   "outputs": [
    {
     "data": {
      "text/plain": [
       "np.float64(9.95585175595456)"
      ]
     },
     "execution_count": 42,
     "metadata": {},
     "output_type": "execute_result"
    }
   ],
   "source": [
    "average_revenue_per_unit_sold = total_revenue / (np.sum(unit_sold))\n",
    "average_revenue_per_unit_sold"
   ]
  },
  {
   "cell_type": "markdown",
   "id": "721b44e0-8c90-4775-bed0-fe4536de83de",
   "metadata": {},
   "source": [
    "##### Conditional Analysis:"
   ]
  },
  {
   "cell_type": "markdown",
   "id": "2cef571b-bf38-4bb9-bc61-07d15e2c1afd",
   "metadata": {},
   "source": [
    "###### Identify and count how many days had sales_revenue above a certain target (e.g., $1200)"
   ]
  },
  {
   "cell_type": "code",
   "execution_count": 44,
   "id": "c44a1792-7799-4778-9388-d4825654bff7",
   "metadata": {},
   "outputs": [
    {
     "data": {
      "text/plain": [
       "np.int64(20)"
      ]
     },
     "execution_count": 44,
     "metadata": {},
     "output_type": "execute_result"
    }
   ],
   "source": [
    "condition = sales_revenues > 900\n",
    "count_sales = np.sum(condition)\n",
    "count_sales "
   ]
  },
  {
   "cell_type": "markdown",
   "id": "5fedd7d5-20b7-4eaf-8790-1a7cec742106",
   "metadata": {},
   "source": [
    "###### Calculate the average units_sold only for days when sales_revenue was below a certain threshold (e.g., $900)."
   ]
  },
  {
   "cell_type": "code",
   "execution_count": 46,
   "id": "a6360f8d-ea7f-49d7-bbae-dd8412eab0e3",
   "metadata": {},
   "outputs": [
    {
     "data": {
      "text/plain": [
       "np.float64(72.0)"
      ]
     },
     "execution_count": 46,
     "metadata": {},
     "output_type": "execute_result"
    }
   ],
   "source": [
    "condition = sales_revenues < 900\n",
    "average_unit_sold = np.mean(unit_sold[condition]) # use [] when try to spesify value that in other array\n",
    "the_average = np.round(average_unit_sold) # using round up because we cant sale part of the product \n",
    "the_average"
   ]
  },
  {
   "cell_type": "markdown",
   "id": "dd06239d-a387-4d97-bce4-3777731cfaf4",
   "metadata": {},
   "source": [
    "##### Weekly Aggregations: "
   ]
  },
  {
   "cell_type": "markdown",
   "id": "11f27f94-fd83-4110-96b9-6519f1efefd5",
   "metadata": {},
   "source": [
    "###### Assume the 30 days start on a Monday. Calculate the total sales_revenue for each of the 4 full weeks (days 1-7, 8-14, 15-21, 22-28). You will need to reshape or carefully slice your data."
   ]
  },
  {
   "cell_type": "code",
   "execution_count": 61,
   "id": "a5771ebd-c6c5-48cd-b9fe-6766d5e23b55",
   "metadata": {},
   "outputs": [
    {
     "data": {
      "text/plain": [
       "array([7195.82298373, 7475.21042213, 6612.33985546, 5879.11958285])"
      ]
     },
     "execution_count": 61,
     "metadata": {},
     "output_type": "execute_result"
    }
   ],
   "source": [
    "week_day = sales_revenues[:28]\n",
    "re_shape = week_day.reshape(4,7)\n",
    "total_sales = np.sum(re_shape,axis = 1) #axis = 1 because the column have values for different weeks but row have all values for one week\n",
    "total_sales"
   ]
  },
  {
   "cell_type": "code",
   "execution_count": null,
   "id": "152c0f18-431b-45ea-9859-727aa463d039",
   "metadata": {},
   "outputs": [],
   "source": []
  }
 ],
 "metadata": {
  "kernelspec": {
   "display_name": "Python [conda env:base] *",
   "language": "python",
   "name": "conda-base-py"
  },
  "language_info": {
   "codemirror_mode": {
    "name": "ipython",
    "version": 3
   },
   "file_extension": ".py",
   "mimetype": "text/x-python",
   "name": "python",
   "nbconvert_exporter": "python",
   "pygments_lexer": "ipython3",
   "version": "3.13.5"
  }
 },
 "nbformat": 4,
 "nbformat_minor": 5
}
