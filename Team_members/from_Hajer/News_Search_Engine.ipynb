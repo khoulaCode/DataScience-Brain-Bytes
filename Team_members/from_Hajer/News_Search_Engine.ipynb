{
 "cells": [
  {
   "cell_type": "markdown",
   "id": "cc4167ab-5dae-4c3e-bc87-e4512e18a805",
   "metadata": {},
   "source": [
    "#### **As a user of the news platform, I want to search for articles by entering a query, So that I can quickly find the most relevant news headlines across multiple categories.**"
   ]
  },
  {
   "cell_type": "markdown",
   "id": "d3f24926-0d58-42aa-a353-6abe80041d5e",
   "metadata": {},
   "source": [
    "## **1. Data Preprocessing**\n",
    "1.1. Load dataset and filter categories.\n",
    "\n",
    "1.2. Balance dataset (1000 per category).\n",
    "\n",
    "1.3. Keep only headline and category."
   ]
  },
  {
   "cell_type": "code",
   "execution_count": 1,
   "id": "1ee424dd-d4bf-49a9-84d3-5eaba1bcf95f",
   "metadata": {},
   "outputs": [],
   "source": [
    "import pandas as pd\n",
    "from sklearn.feature_extraction.text import TfidfVectorizer\n",
    "from sklearn.metrics.pairwise import cosine_similarity"
   ]
  },
  {
   "cell_type": "code",
   "execution_count": 2,
   "id": "fbb566f7-96f0-494d-8cfc-551a3225babc",
   "metadata": {},
   "outputs": [],
   "source": [
    "# 1. Load & Prepare Dataset\n",
    "df = pd.read_json(\"News_Category_Dataset_v3.json\", lines=True)"
   ]
  },
  {
   "cell_type": "code",
   "execution_count": 3,
   "id": "ddf57f13-aa8b-445e-8f69-3837269e9567",
   "metadata": {},
   "outputs": [],
   "source": [
    "# Keep only needed categories\n",
    "categories = [\"POLITICS\", \"TRAVEL\", \"SPORTS\", \"HOME & LIVING\"]\n",
    "df = df[df[\"category\"].isin(categories)][[\"headline\", \"category\"]]"
   ]
  },
  {
   "cell_type": "code",
   "execution_count": 4,
   "id": "406252e8-ec58-46b7-b3b2-cff9c3630759",
   "metadata": {},
   "outputs": [
    {
     "name": "stderr",
     "output_type": "stream",
     "text": [
      "C:\\Users\\bbuser\\AppData\\Local\\Temp\\ipykernel_3484\\2500261530.py:1: FutureWarning: DataFrameGroupBy.apply operated on the grouping columns. This behavior is deprecated, and in a future version of pandas the grouping columns will be excluded from the operation. Either pass `include_groups=False` to exclude the groupings or explicitly select the grouping columns after groupby to silence this warning.\n",
      "  df = df.groupby(\"category\").apply(lambda x: x.sample(1000, random_state=42)).reset_index(drop=True)\n"
     ]
    }
   ],
   "source": [
    "df = df.groupby(\"category\").apply(lambda x: x.sample(1000, random_state=42)).reset_index(drop=True)"
   ]
  },
  {
   "cell_type": "code",
   "execution_count": 5,
   "id": "430d796e-b3a2-4480-b3c8-6f76356acedb",
   "metadata": {},
   "outputs": [
    {
     "data": {
      "text/html": [
       "<div>\n",
       "<style scoped>\n",
       "    .dataframe tbody tr th:only-of-type {\n",
       "        vertical-align: middle;\n",
       "    }\n",
       "\n",
       "    .dataframe tbody tr th {\n",
       "        vertical-align: top;\n",
       "    }\n",
       "\n",
       "    .dataframe thead th {\n",
       "        text-align: right;\n",
       "    }\n",
       "</style>\n",
       "<table border=\"1\" class=\"dataframe\">\n",
       "  <thead>\n",
       "    <tr style=\"text-align: right;\">\n",
       "      <th></th>\n",
       "      <th>headline</th>\n",
       "      <th>category</th>\n",
       "    </tr>\n",
       "  </thead>\n",
       "  <tbody>\n",
       "    <tr>\n",
       "      <th>0</th>\n",
       "      <td>Busiest Shipping Day Of The Year Is Today, Ann...</td>\n",
       "      <td>HOME &amp; LIVING</td>\n",
       "    </tr>\n",
       "    <tr>\n",
       "      <th>1</th>\n",
       "      <td>What To Watch On Netflix That’s New This Week ...</td>\n",
       "      <td>HOME &amp; LIVING</td>\n",
       "    </tr>\n",
       "    <tr>\n",
       "      <th>2</th>\n",
       "      <td>Repurposing Idea Shows You How To Organize Hai...</td>\n",
       "      <td>HOME &amp; LIVING</td>\n",
       "    </tr>\n",
       "    <tr>\n",
       "      <th>3</th>\n",
       "      <td>Company Buys $8000 Horse Lamp By Front Design ...</td>\n",
       "      <td>HOME &amp; LIVING</td>\n",
       "    </tr>\n",
       "    <tr>\n",
       "      <th>4</th>\n",
       "      <td>Renovate for Rent</td>\n",
       "      <td>HOME &amp; LIVING</td>\n",
       "    </tr>\n",
       "    <tr>\n",
       "      <th>...</th>\n",
       "      <td>...</td>\n",
       "      <td>...</td>\n",
       "    </tr>\n",
       "    <tr>\n",
       "      <th>3995</th>\n",
       "      <td>The 7 Most Mysterious Stone-Carved Faces That ...</td>\n",
       "      <td>TRAVEL</td>\n",
       "    </tr>\n",
       "    <tr>\n",
       "      <th>3996</th>\n",
       "      <td>Tips for a Stress-Free Family Summer Vacation</td>\n",
       "      <td>TRAVEL</td>\n",
       "    </tr>\n",
       "    <tr>\n",
       "      <th>3997</th>\n",
       "      <td>These Are The Busiest Flight Routes In The World</td>\n",
       "      <td>TRAVEL</td>\n",
       "    </tr>\n",
       "    <tr>\n",
       "      <th>3998</th>\n",
       "      <td>This Is The Best, Most Underrated Travel Resource</td>\n",
       "      <td>TRAVEL</td>\n",
       "    </tr>\n",
       "    <tr>\n",
       "      <th>3999</th>\n",
       "      <td>Destination Daydream: 14 Thai Resorts to Ignit...</td>\n",
       "      <td>TRAVEL</td>\n",
       "    </tr>\n",
       "  </tbody>\n",
       "</table>\n",
       "<p>4000 rows × 2 columns</p>\n",
       "</div>"
      ],
      "text/plain": [
       "                                               headline       category\n",
       "0     Busiest Shipping Day Of The Year Is Today, Ann...  HOME & LIVING\n",
       "1     What To Watch On Netflix That’s New This Week ...  HOME & LIVING\n",
       "2     Repurposing Idea Shows You How To Organize Hai...  HOME & LIVING\n",
       "3     Company Buys $8000 Horse Lamp By Front Design ...  HOME & LIVING\n",
       "4                                     Renovate for Rent  HOME & LIVING\n",
       "...                                                 ...            ...\n",
       "3995  The 7 Most Mysterious Stone-Carved Faces That ...         TRAVEL\n",
       "3996      Tips for a Stress-Free Family Summer Vacation         TRAVEL\n",
       "3997   These Are The Busiest Flight Routes In The World         TRAVEL\n",
       "3998  This Is The Best, Most Underrated Travel Resource         TRAVEL\n",
       "3999  Destination Daydream: 14 Thai Resorts to Ignit...         TRAVEL\n",
       "\n",
       "[4000 rows x 2 columns]"
      ]
     },
     "execution_count": 5,
     "metadata": {},
     "output_type": "execute_result"
    }
   ],
   "source": [
    "df = df[[\"headline\", \"category\"]]\n",
    "df"
   ]
  },
  {
   "cell_type": "markdown",
   "id": "af28e25c-e80c-423b-803e-dd53fe0f293d",
   "metadata": {},
   "source": [
    "### **2. Vectorization**\n",
    "2.1. Train a TF-IDF Vectorizer on the 4000 headlines.\n",
    "    \n",
    "2.2. Store vectors for all articles."
   ]
  },
  {
   "cell_type": "code",
   "execution_count": 9,
   "id": "d74dce37-0b1f-4b30-91be-b3ec25817ce8",
   "metadata": {},
   "outputs": [],
   "source": [
    "# 2. TF-IDF Vectorization\n",
    "vectorizer = TfidfVectorizer(stop_words=\"english\")\n",
    "X= vectorizer.fit_transform(df[\"headline\"])"
   ]
  },
  {
   "cell_type": "markdown",
   "id": "a535ef71-5554-4e85-99d9-347c2627dd78",
   "metadata": {},
   "source": [
    "### **3.  Search Implementation**\n",
    "3.1.  Accept user queries.\n",
    "\n",
    "3.2. Transform query into TF-IDF vector.\n",
    "\n",
    "3.3. Compute cosine similarity with all article vectors.\n",
    "\n",
    "3.4. Return top 10 results."
   ]
  },
  {
   "cell_type": "code",
   "execution_count": 10,
   "id": "f41dc890-9803-4c1e-8b76-c039bc4af6e3",
   "metadata": {},
   "outputs": [],
   "source": [
    "# 3. Search Function\n",
    "def search_news(query, top_n=10):\n",
    "    # Transform query to TF-IDF\n",
    "    query_vec = vectorizer.transform([query])\n",
    "    # Compute cosine similarity\n",
    "    similarities = cosine_similarity(query_vec, X).flatten()\n",
    "    # Get top N indices\n",
    "    top_idx = similarities.argsort()[::-1][:top_n]\n",
    "    # Collect results\n",
    "    results = []\n",
    "    for idx in top_idx:\n",
    "        results.append({\n",
    "            \"headline\": df.iloc[idx][\"headline\"],\n",
    "            \"category\": df.iloc[idx][\"category\"],\n",
    "            \"score\": round(similarities[idx], 3)\n",
    "        })\n",
    "    return pd.DataFrame(results)"
   ]
  },
  {
   "cell_type": "markdown",
   "id": "1c547da5-b575-4dd2-8dca-25bd72b17bad",
   "metadata": {},
   "source": [
    "### **4. User Experience**\n",
    "\n",
    "4.1. Results should include:\n",
    "\n",
    "4.1.1.  Headline text\n",
    "\n",
    "4.1.2.  Category label\n",
    "\n",
    "4.1.3.  Similarity score\n",
    "\n",
    "4.2. Results should be clearly ranked."
   ]
  },
  {
   "cell_type": "code",
   "execution_count": 11,
   "id": "b99d4112-afac-48eb-b858-70ec1ca022a3",
   "metadata": {},
   "outputs": [
    {
     "data": {
      "text/html": [
       "<div>\n",
       "<style scoped>\n",
       "    .dataframe tbody tr th:only-of-type {\n",
       "        vertical-align: middle;\n",
       "    }\n",
       "\n",
       "    .dataframe tbody tr th {\n",
       "        vertical-align: top;\n",
       "    }\n",
       "\n",
       "    .dataframe thead th {\n",
       "        text-align: right;\n",
       "    }\n",
       "</style>\n",
       "<table border=\"1\" class=\"dataframe\">\n",
       "  <thead>\n",
       "    <tr style=\"text-align: right;\">\n",
       "      <th></th>\n",
       "      <th>headline</th>\n",
       "      <th>category</th>\n",
       "      <th>score</th>\n",
       "    </tr>\n",
       "  </thead>\n",
       "  <tbody>\n",
       "    <tr>\n",
       "      <th>0</th>\n",
       "      <td>We’re Still, Somehow, A Year Away From The Pre...</td>\n",
       "      <td>POLITICS</td>\n",
       "      <td>0.306</td>\n",
       "    </tr>\n",
       "    <tr>\n",
       "      <th>1</th>\n",
       "      <td>Protecting America From Its President</td>\n",
       "      <td>POLITICS</td>\n",
       "      <td>0.270</td>\n",
       "    </tr>\n",
       "    <tr>\n",
       "      <th>2</th>\n",
       "      <td>Lying To The Press Is Nothing New For The Pres...</td>\n",
       "      <td>POLITICS</td>\n",
       "      <td>0.247</td>\n",
       "    </tr>\n",
       "    <tr>\n",
       "      <th>3</th>\n",
       "      <td>Obama Has Some Issues With How The Media Are C...</td>\n",
       "      <td>POLITICS</td>\n",
       "      <td>0.240</td>\n",
       "    </tr>\n",
       "    <tr>\n",
       "      <th>4</th>\n",
       "      <td>Hillary Clinton Is On Her Way To A $1 Billion ...</td>\n",
       "      <td>POLITICS</td>\n",
       "      <td>0.239</td>\n",
       "    </tr>\n",
       "    <tr>\n",
       "      <th>5</th>\n",
       "      <td>President Obama Hawaii: What To Do On Oahu (PH...</td>\n",
       "      <td>TRAVEL</td>\n",
       "      <td>0.238</td>\n",
       "    </tr>\n",
       "    <tr>\n",
       "      <th>6</th>\n",
       "      <td>8 Problems You May Encounter Going To Vote In ...</td>\n",
       "      <td>HOME &amp; LIVING</td>\n",
       "      <td>0.235</td>\n",
       "    </tr>\n",
       "    <tr>\n",
       "      <th>7</th>\n",
       "      <td>This Is What It's Like To Spend A Week On A Pr...</td>\n",
       "      <td>POLITICS</td>\n",
       "      <td>0.230</td>\n",
       "    </tr>\n",
       "    <tr>\n",
       "      <th>8</th>\n",
       "      <td>Bernie Sanders’ Campaign Is In Big Trouble Wit...</td>\n",
       "      <td>POLITICS</td>\n",
       "      <td>0.226</td>\n",
       "    </tr>\n",
       "    <tr>\n",
       "      <th>9</th>\n",
       "      <td>Obama To Visit A Mosque For The First Time As ...</td>\n",
       "      <td>POLITICS</td>\n",
       "      <td>0.225</td>\n",
       "    </tr>\n",
       "  </tbody>\n",
       "</table>\n",
       "</div>"
      ],
      "text/plain": [
       "                                            headline       category  score\n",
       "0  We’re Still, Somehow, A Year Away From The Pre...       POLITICS  0.306\n",
       "1              Protecting America From Its President       POLITICS  0.270\n",
       "2  Lying To The Press Is Nothing New For The Pres...       POLITICS  0.247\n",
       "3  Obama Has Some Issues With How The Media Are C...       POLITICS  0.240\n",
       "4  Hillary Clinton Is On Her Way To A $1 Billion ...       POLITICS  0.239\n",
       "5  President Obama Hawaii: What To Do On Oahu (PH...         TRAVEL  0.238\n",
       "6  8 Problems You May Encounter Going To Vote In ...  HOME & LIVING  0.235\n",
       "7  This Is What It's Like To Spend A Week On A Pr...       POLITICS  0.230\n",
       "8  Bernie Sanders’ Campaign Is In Big Trouble Wit...       POLITICS  0.226\n",
       "9  Obama To Visit A Mosque For The First Time As ...       POLITICS  0.225"
      ]
     },
     "execution_count": 11,
     "metadata": {},
     "output_type": "execute_result"
    }
   ],
   "source": [
    "query = \"election campaign president\"\n",
    "results = search_news(query)\n",
    "results"
   ]
  },
  {
   "cell_type": "code",
   "execution_count": null,
   "id": "cf43f8f4-f704-4dcc-a83d-b2a5e5809e59",
   "metadata": {},
   "outputs": [],
   "source": []
  }
 ],
 "metadata": {
  "kernelspec": {
   "display_name": "Python 3 (ipykernel)",
   "language": "python",
   "name": "python3"
  },
  "language_info": {
   "codemirror_mode": {
    "name": "ipython",
    "version": 3
   },
   "file_extension": ".py",
   "mimetype": "text/x-python",
   "name": "python",
   "nbconvert_exporter": "python",
   "pygments_lexer": "ipython3",
   "version": "3.13.3"
  }
 },
 "nbformat": 4,
 "nbformat_minor": 5
}
