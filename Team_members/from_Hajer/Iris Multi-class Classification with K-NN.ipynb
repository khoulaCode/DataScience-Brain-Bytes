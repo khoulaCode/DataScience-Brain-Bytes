{
 "cells": [
  {
   "cell_type": "markdown",
   "id": "64c9939c-81aa-4ee9-b355-50560349fc25",
   "metadata": {},
   "source": [
    "# **Goal: Classify flowers into species using petal/sepal measurements.**\n",
    "\n",
    "## **Algorithm: K-Nearest Neighbors**\n",
    "\n",
    "### **Steps:**\n",
    "\n",
    "1.Load the Iris dataset.\n",
    "\n",
    "2.Train K-NN with different values of k (try 1, 3, 5, 7).\n",
    "\n",
    "3.Plot accuracy vs. k to see how it changes.\n",
    "\n",
    "4.Compare performance with logistic regression."
   ]
  },
  {
   "cell_type": "code",
   "execution_count": 1,
   "id": "b45dd5ee-2213-4eb5-b588-788a742f4997",
   "metadata": {},
   "outputs": [],
   "source": [
    "from sklearn.datasets import load_iris\n",
    "from sklearn.model_selection import train_test_split\n",
    "from sklearn.preprocessing import StandardScaler\n",
    "from sklearn.metrics import accuracy_score\n",
    "from sklearn.neighbors import KNeighborsClassifier\n",
    "from sklearn.linear_model import LogisticRegression\n",
    "import matplotlib.pyplot as plt"
   ]
  },
  {
   "cell_type": "code",
   "execution_count": 2,
   "id": "037fae5f-0562-4612-9326-e77e9394a09a",
   "metadata": {},
   "outputs": [
    {
     "name": "stdout",
     "output_type": "stream",
     "text": [
      "(150, 4) (150,)\n"
     ]
    }
   ],
   "source": [
    "iris = load_iris(return_X_y=False, as_frame=False)\n",
    "X = iris.data         \n",
    "y = iris.target       \n",
    "\n",
    "print(X.shape, y.shape)  "
   ]
  },
  {
   "cell_type": "code",
   "execution_count": 3,
   "id": "c374c64c-a7cb-4549-9748-a5182c6346bb",
   "metadata": {},
   "outputs": [],
   "source": [
    "X_train, X_test, y_train, y_test = train_test_split(\n",
    "    X, y, test_size=0.2, random_state=42\n",
    ")"
   ]
  },
  {
   "cell_type": "code",
   "execution_count": 4,
   "id": "67f2a986-aaad-45bc-b48e-d8339ef28f10",
   "metadata": {},
   "outputs": [
    {
     "data": {
      "text/plain": [
       "(120, 4)"
      ]
     },
     "execution_count": 4,
     "metadata": {},
     "output_type": "execute_result"
    }
   ],
   "source": [
    "X_train.shape   # (120, 4)"
   ]
  },
  {
   "cell_type": "code",
   "execution_count": 5,
   "id": "f1c84702-93dc-407e-bad6-01ccee739efd",
   "metadata": {},
   "outputs": [
    {
     "data": {
      "text/plain": [
       "(30, 4)"
      ]
     },
     "execution_count": 5,
     "metadata": {},
     "output_type": "execute_result"
    }
   ],
   "source": [
    "X_test.shape    # (30, 4)"
   ]
  },
  {
   "cell_type": "code",
   "execution_count": 6,
   "id": "fd15c891-8439-4124-afcd-28d0a941d5ad",
   "metadata": {},
   "outputs": [
    {
     "data": {
      "text/plain": [
       "(120,)"
      ]
     },
     "execution_count": 6,
     "metadata": {},
     "output_type": "execute_result"
    }
   ],
   "source": [
    "y_train.shape   # (120,)"
   ]
  },
  {
   "cell_type": "code",
   "execution_count": 7,
   "id": "bbd43c96-6fe8-477d-8ffb-7b926f8ea965",
   "metadata": {},
   "outputs": [
    {
     "data": {
      "text/plain": [
       "(30,)"
      ]
     },
     "execution_count": 7,
     "metadata": {},
     "output_type": "execute_result"
    }
   ],
   "source": [
    "y_test.shape    # (30,)"
   ]
  },
  {
   "cell_type": "code",
   "execution_count": 8,
   "id": "db186a03-f109-43a2-9375-6b728b2a750f",
   "metadata": {},
   "outputs": [],
   "source": [
    "scaler = StandardScaler()\n",
    "X_train_scaled = scaler.fit_transform(X_train)\n",
    "X_test_scaled = scaler.transform(X_test)"
   ]
  },
  {
   "cell_type": "code",
   "execution_count": 9,
   "id": "5fa8ed72-159a-47a4-a50f-9b487d8e3ce8",
   "metadata": {},
   "outputs": [
    {
     "name": "stdout",
     "output_type": "stream",
     "text": [
      "k=1, Accuracy=1.0000\n",
      "k=3, Accuracy=1.0000\n",
      "k=5, Accuracy=1.0000\n",
      "k=7, Accuracy=1.0000\n"
     ]
    }
   ],
   "source": [
    "k_values = [1, 3, 5, 7]\n",
    "accuracies = []\n",
    "\n",
    "for k in k_values:\n",
    "    knn = KNeighborsClassifier(n_neighbors=k)\n",
    "    knn.fit(X_train_scaled, y_train)\n",
    "    y_pred = knn.predict(X_test_scaled)\n",
    "    acc = accuracy_score(y_test, y_pred)\n",
    "    accuracies.append(acc)\n",
    "    print(f\"k={k}, Accuracy={acc:.4f}\")"
   ]
  },
  {
   "cell_type": "code",
   "execution_count": 10,
   "id": "78b30ac5-cb12-4e77-af8c-3d9a41efd5c9",
   "metadata": {},
   "outputs": [
    {
     "data": {
      "image/png": "[encoded data removed]",
      "text/plain": [
       "<Figure size 640x480 with 1 Axes>"
      ]
     },
     "metadata": {},
     "output_type": "display_data"
    }
   ],
   "source": [
    "plt.plot(k_values, accuracies, marker='o')\n",
    "plt.title(\"KNN: Accuracy vs. k\")\n",
    "plt.xlabel(\"k (Number of Neighbors)\")\n",
    "plt.ylabel(\"Accuracy\")\n",
    "plt.grid(True)\n",
    "plt.show()"
   ]
  },
  {
   "cell_type": "code",
   "execution_count": 11,
   "id": "42361ce8-51c5-4242-b182-509dcae7d2ee",
   "metadata": {},
   "outputs": [
    {
     "name": "stdout",
     "output_type": "stream",
     "text": [
      "Logistic Regression Accuracy = 1.0000\n"
     ]
    }
   ],
   "source": [
    "logreg = LogisticRegression(max_iter=200)\n",
    "logreg.fit(X_train_scaled, y_train)\n",
    "y_pred_lr = logreg.predict(X_test_scaled)\n",
    "accuracy_lr = accuracy_score(y_test, y_pred_lr)\n",
    "print(f\"Logistic Regression Accuracy = {accuracy_lr:.4f}\")"
   ]
  },
  {
   "cell_type": "code",
   "execution_count": null,
   "id": "28e16437-85dd-44bf-b2df-5dca12b65923",
   "metadata": {},
   "outputs": [],
   "source": []
  },
  {
   "cell_type": "code",
   "execution_count": null,
   "id": "3eb85613-c214-4a1e-a8fb-1768df74da2e",
   "metadata": {},
   "outputs": [],
   "source": []
  }
 ],
 "metadata": {
  "kernelspec": {
   "display_name": "Python 3 (ipykernel)",
   "language": "python",
   "name": "python3"
  },
  "language_info": {
   "codemirror_mode": {
    "name": "ipython",
    "version": 3
   },
   "file_extension": ".py",
   "mimetype": "text/x-python",
   "name": "python",
   "nbconvert_exporter": "python",
   "pygments_lexer": "ipython3",
   "version": "3.13.3"
  }
 },
 "nbformat": 4,
 "nbformat_minor": 5
}
