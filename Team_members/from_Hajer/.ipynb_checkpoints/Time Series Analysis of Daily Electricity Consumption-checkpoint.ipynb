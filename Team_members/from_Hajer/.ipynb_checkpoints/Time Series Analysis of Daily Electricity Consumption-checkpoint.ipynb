{
 "cells": [
  {
   "cell_type": "markdown",
   "id": "54d21bbd-6eb1-4865-9817-7dc461cb08d0",
   "metadata": {},
   "source": [
    "# **Time Series Analysis of Daily Electricity Consumption**"
   ]
  },
  {
   "cell_type": "markdown",
   "id": "92125c30-d664-4e50-ae25-65a38b614d53",
   "metadata": {},
   "source": [
    "### **Focus:**\n",
    "1. Basic time series handling using pandas\n",
    "2. Convert to datetime, set datetime index\n",
    "3. Perform resampling and slicing\n",
    "### **Objective:**\n",
    "4. Analyze electricity consumption patterns over time using datetime-aware methods. Focus on resampling (daily, weekly, monthly), and slicing time ranges.\n",
    "### **Skills Practiced:**\n",
    "5. pd.to_datetime() conversion\n",
    "6. Setting datetime index\n",
    "7. Time-based slicing (df.loc['2020-01'], etc.)\n",
    "8. Resampling (resample('M'), resample('W'))\n",
    "9. Plotting simple trends"
   ]
  },
  {
   "cell_type": "code",
   "execution_count": 100,
   "id": "d79fc9dc-ad9a-47c4-9dbd-93e07ebe559e",
   "metadata": {},
   "outputs": [],
   "source": [
    "import pandas as pd\n",
    "import numpy as np\n",
    "import matplotlib.pyplot as plt"
   ]
  },
  {
   "cell_type": "code",
   "execution_count": 80,
   "id": "038cde6d-1286-4101-917d-ac4dc1d35442",
   "metadata": {},
   "outputs": [
    {
     "name": "stdout",
     "output_type": "stream",
     "text": [
      "Requirement already satisfied: xlrd in c:\\users\\bbuser\\appdata\\local\\programs\\python\\python313\\lib\\site-packages (2.0.2)\n"
     ]
    }
   ],
   "source": [
    "!pip install xlrd"
   ]
  },
  {
   "cell_type": "code",
   "execution_count": 81,
   "id": "1fcb1d54-0c2e-4769-8c30-1b290be06d6d",
   "metadata": {},
   "outputs": [
    {
     "name": "stdout",
     "output_type": "stream",
     "text": [
      "Requirement already satisfied: openpyxl in c:\\users\\bbuser\\appdata\\local\\programs\\python\\python313\\lib\\site-packages (3.1.5)\n",
      "Requirement already satisfied: et-xmlfile in c:\\users\\bbuser\\appdata\\local\\programs\\python\\python313\\lib\\site-packages (from openpyxl) (2.0.0)\n"
     ]
    }
   ],
   "source": [
    "!pip install openpyxl"
   ]
  },
  {
   "cell_type": "code",
   "execution_count": 82,
   "id": "118054b4-163a-480a-af75-6482a2b83a4a",
   "metadata": {},
   "outputs": [
    {
     "name": "stderr",
     "output_type": "stream",
     "text": [
      "C:\\Users\\bbuser\\AppData\\Local\\Temp\\ipykernel_25308\\2114815923.py:2: DtypeWarning: Columns (2,3,4,5,6,7) have mixed types. Specify dtype option on import or set low_memory=False.\n",
      "  df = pd.read_csv(path, sep=\";\")\n"
     ]
    },
    {
     "data": {
      "text/html": [
       "<div>\n",
       "<style scoped>\n",
       "    .dataframe tbody tr th:only-of-type {\n",
       "        vertical-align: middle;\n",
       "    }\n",
       "\n",
       "    .dataframe tbody tr th {\n",
       "        vertical-align: top;\n",
       "    }\n",
       "\n",
       "    .dataframe thead th {\n",
       "        text-align: right;\n",
       "    }\n",
       "</style>\n",
       "<table border=\"1\" class=\"dataframe\">\n",
       "  <thead>\n",
       "    <tr style=\"text-align: right;\">\n",
       "      <th></th>\n",
       "      <th>Date</th>\n",
       "      <th>Time</th>\n",
       "      <th>Global_active_power</th>\n",
       "      <th>Global_reactive_power</th>\n",
       "      <th>Voltage</th>\n",
       "      <th>Global_intensity</th>\n",
       "      <th>Sub_metering_1</th>\n",
       "      <th>Sub_metering_2</th>\n",
       "      <th>Sub_metering_3</th>\n",
       "    </tr>\n",
       "  </thead>\n",
       "  <tbody>\n",
       "    <tr>\n",
       "      <th>0</th>\n",
       "      <td>16/12/2006</td>\n",
       "      <td>17:24:00</td>\n",
       "      <td>4.216</td>\n",
       "      <td>0.418</td>\n",
       "      <td>234.840</td>\n",
       "      <td>18.400</td>\n",
       "      <td>0.000</td>\n",
       "      <td>1.000</td>\n",
       "      <td>17.0</td>\n",
       "    </tr>\n",
       "    <tr>\n",
       "      <th>1</th>\n",
       "      <td>16/12/2006</td>\n",
       "      <td>17:25:00</td>\n",
       "      <td>5.360</td>\n",
       "      <td>0.436</td>\n",
       "      <td>233.630</td>\n",
       "      <td>23.000</td>\n",
       "      <td>0.000</td>\n",
       "      <td>1.000</td>\n",
       "      <td>16.0</td>\n",
       "    </tr>\n",
       "    <tr>\n",
       "      <th>2</th>\n",
       "      <td>16/12/2006</td>\n",
       "      <td>17:26:00</td>\n",
       "      <td>5.374</td>\n",
       "      <td>0.498</td>\n",
       "      <td>233.290</td>\n",
       "      <td>23.000</td>\n",
       "      <td>0.000</td>\n",
       "      <td>2.000</td>\n",
       "      <td>17.0</td>\n",
       "    </tr>\n",
       "    <tr>\n",
       "      <th>3</th>\n",
       "      <td>16/12/2006</td>\n",
       "      <td>17:27:00</td>\n",
       "      <td>5.388</td>\n",
       "      <td>0.502</td>\n",
       "      <td>233.740</td>\n",
       "      <td>23.000</td>\n",
       "      <td>0.000</td>\n",
       "      <td>1.000</td>\n",
       "      <td>17.0</td>\n",
       "    </tr>\n",
       "    <tr>\n",
       "      <th>4</th>\n",
       "      <td>16/12/2006</td>\n",
       "      <td>17:28:00</td>\n",
       "      <td>3.666</td>\n",
       "      <td>0.528</td>\n",
       "      <td>235.680</td>\n",
       "      <td>15.800</td>\n",
       "      <td>0.000</td>\n",
       "      <td>1.000</td>\n",
       "      <td>17.0</td>\n",
       "    </tr>\n",
       "    <tr>\n",
       "      <th>...</th>\n",
       "      <td>...</td>\n",
       "      <td>...</td>\n",
       "      <td>...</td>\n",
       "      <td>...</td>\n",
       "      <td>...</td>\n",
       "      <td>...</td>\n",
       "      <td>...</td>\n",
       "      <td>...</td>\n",
       "      <td>...</td>\n",
       "    </tr>\n",
       "    <tr>\n",
       "      <th>2075254</th>\n",
       "      <td>26/11/2010</td>\n",
       "      <td>20:58:00</td>\n",
       "      <td>0.946</td>\n",
       "      <td>0.0</td>\n",
       "      <td>240.43</td>\n",
       "      <td>4.0</td>\n",
       "      <td>0.0</td>\n",
       "      <td>0.0</td>\n",
       "      <td>0.0</td>\n",
       "    </tr>\n",
       "    <tr>\n",
       "      <th>2075255</th>\n",
       "      <td>26/11/2010</td>\n",
       "      <td>20:59:00</td>\n",
       "      <td>0.944</td>\n",
       "      <td>0.0</td>\n",
       "      <td>240.0</td>\n",
       "      <td>4.0</td>\n",
       "      <td>0.0</td>\n",
       "      <td>0.0</td>\n",
       "      <td>0.0</td>\n",
       "    </tr>\n",
       "    <tr>\n",
       "      <th>2075256</th>\n",
       "      <td>26/11/2010</td>\n",
       "      <td>21:00:00</td>\n",
       "      <td>0.938</td>\n",
       "      <td>0.0</td>\n",
       "      <td>239.82</td>\n",
       "      <td>3.8</td>\n",
       "      <td>0.0</td>\n",
       "      <td>0.0</td>\n",
       "      <td>0.0</td>\n",
       "    </tr>\n",
       "    <tr>\n",
       "      <th>2075257</th>\n",
       "      <td>26/11/2010</td>\n",
       "      <td>21:01:00</td>\n",
       "      <td>0.934</td>\n",
       "      <td>0.0</td>\n",
       "      <td>239.7</td>\n",
       "      <td>3.8</td>\n",
       "      <td>0.0</td>\n",
       "      <td>0.0</td>\n",
       "      <td>0.0</td>\n",
       "    </tr>\n",
       "    <tr>\n",
       "      <th>2075258</th>\n",
       "      <td>26/11/2010</td>\n",
       "      <td>21:02:00</td>\n",
       "      <td>0.932</td>\n",
       "      <td>0.0</td>\n",
       "      <td>239.55</td>\n",
       "      <td>3.8</td>\n",
       "      <td>0.0</td>\n",
       "      <td>0.0</td>\n",
       "      <td>0.0</td>\n",
       "    </tr>\n",
       "  </tbody>\n",
       "</table>\n",
       "<p>2075259 rows × 9 columns</p>\n",
       "</div>"
      ],
      "text/plain": [
       "               Date      Time Global_active_power Global_reactive_power  \\\n",
       "0        16/12/2006  17:24:00               4.216                 0.418   \n",
       "1        16/12/2006  17:25:00               5.360                 0.436   \n",
       "2        16/12/2006  17:26:00               5.374                 0.498   \n",
       "3        16/12/2006  17:27:00               5.388                 0.502   \n",
       "4        16/12/2006  17:28:00               3.666                 0.528   \n",
       "...             ...       ...                 ...                   ...   \n",
       "2075254  26/11/2010  20:58:00               0.946                   0.0   \n",
       "2075255  26/11/2010  20:59:00               0.944                   0.0   \n",
       "2075256  26/11/2010  21:00:00               0.938                   0.0   \n",
       "2075257  26/11/2010  21:01:00               0.934                   0.0   \n",
       "2075258  26/11/2010  21:02:00               0.932                   0.0   \n",
       "\n",
       "         Voltage Global_intensity Sub_metering_1 Sub_metering_2  \\\n",
       "0        234.840           18.400          0.000          1.000   \n",
       "1        233.630           23.000          0.000          1.000   \n",
       "2        233.290           23.000          0.000          2.000   \n",
       "3        233.740           23.000          0.000          1.000   \n",
       "4        235.680           15.800          0.000          1.000   \n",
       "...          ...              ...            ...            ...   \n",
       "2075254   240.43              4.0            0.0            0.0   \n",
       "2075255    240.0              4.0            0.0            0.0   \n",
       "2075256   239.82              3.8            0.0            0.0   \n",
       "2075257    239.7              3.8            0.0            0.0   \n",
       "2075258   239.55              3.8            0.0            0.0   \n",
       "\n",
       "         Sub_metering_3  \n",
       "0                  17.0  \n",
       "1                  16.0  \n",
       "2                  17.0  \n",
       "3                  17.0  \n",
       "4                  17.0  \n",
       "...                 ...  \n",
       "2075254             0.0  \n",
       "2075255             0.0  \n",
       "2075256             0.0  \n",
       "2075257             0.0  \n",
       "2075258             0.0  \n",
       "\n",
       "[2075259 rows x 9 columns]"
      ]
     },
     "execution_count": 82,
     "metadata": {},
     "output_type": "execute_result"
    }
   ],
   "source": [
    "path = r\"C:\\Users\\bbuser\\Desktop\\DataScience-Brain-Bytes\\Team_members\\from_Hajer\\data\\household_power_consumption.txt\"\n",
    "df = pd.read_csv(path, sep=\";\")\n",
    "df =pd.DataFrame(df)\n",
    "df"
   ]
  },
  {
   "cell_type": "code",
   "execution_count": 83,
   "id": "b9e230bf-a59e-4827-bdb8-1325d634d889",
   "metadata": {},
   "outputs": [
    {
     "data": {
      "text/plain": [
       "Index(['Date', 'Time', 'Global_active_power', 'Global_reactive_power',\n",
       "       'Voltage', 'Global_intensity', 'Sub_metering_1', 'Sub_metering_2',\n",
       "       'Sub_metering_3'],\n",
       "      dtype='object')"
      ]
     },
     "execution_count": 83,
     "metadata": {},
     "output_type": "execute_result"
    }
   ],
   "source": [
    "df.columns"
   ]
  },
  {
   "cell_type": "code",
   "execution_count": 84,
   "id": "ce7e8e22-60d9-4b99-b246-2e0a4fd66e5a",
   "metadata": {},
   "outputs": [
    {
     "name": "stdout",
     "output_type": "stream",
     "text": [
      "<class 'pandas.core.frame.DataFrame'>\n",
      "RangeIndex: 2075259 entries, 0 to 2075258\n",
      "Data columns (total 9 columns):\n",
      " #   Column                 Dtype  \n",
      "---  ------                 -----  \n",
      " 0   Date                   object \n",
      " 1   Time                   object \n",
      " 2   Global_active_power    object \n",
      " 3   Global_reactive_power  object \n",
      " 4   Voltage                object \n",
      " 5   Global_intensity       object \n",
      " 6   Sub_metering_1         object \n",
      " 7   Sub_metering_2         object \n",
      " 8   Sub_metering_3         float64\n",
      "dtypes: float64(1), object(8)\n",
      "memory usage: 142.5+ MB\n"
     ]
    }
   ],
   "source": [
    "df.info()"
   ]
  },
  {
   "cell_type": "markdown",
   "id": "26d71fe8-b3a6-4862-9429-c95c389eff3f",
   "metadata": {},
   "source": [
    "## **Conversion to datetime**"
   ]
  },
  {
   "cell_type": "code",
   "execution_count": 85,
   "id": "4c8e4b62-ab52-4ffe-b000-72c2055eceb6",
   "metadata": {},
   "outputs": [
    {
     "name": "stderr",
     "output_type": "stream",
     "text": [
      "C:\\Users\\bbuser\\AppData\\Local\\Temp\\ipykernel_25308\\1537892726.py:2: UserWarning: Parsing dates in %d/%m/%Y format when dayfirst=False (the default) was specified. Pass `dayfirst=True` or specify a format to silence this warning.\n",
      "  df['Date'] = pd.to_datetime(df['Date'])\n"
     ]
    },
    {
     "data": {
      "text/plain": [
       "0         2006-12-16\n",
       "1         2006-12-16\n",
       "2         2006-12-16\n",
       "3         2006-12-16\n",
       "4         2006-12-16\n",
       "             ...    \n",
       "2075254   2010-11-26\n",
       "2075255   2010-11-26\n",
       "2075256   2010-11-26\n",
       "2075257   2010-11-26\n",
       "2075258   2010-11-26\n",
       "Name: Date, Length: 2075259, dtype: datetime64[ns]"
      ]
     },
     "execution_count": 85,
     "metadata": {},
     "output_type": "execute_result"
    }
   ],
   "source": [
    "#I will use (pd.to_datetime()) to convert date to date time\n",
    "df['Date'] = pd.to_datetime(df['Date'])\n",
    "df['Date'] "
   ]
  },
  {
   "cell_type": "markdown",
   "id": "d17939a2-498e-46ee-b19c-42bc04daa52c",
   "metadata": {},
   "source": [
    "## **Setting Datetime Index**"
   ]
  },
  {
   "cell_type": "code",
   "execution_count": 86,
   "id": "810a0ce3-342d-4d08-8a04-0426131d37cf",
   "metadata": {},
   "outputs": [
    {
     "name": "stdout",
     "output_type": "stream",
     "text": [
      "                Time Global_active_power Global_reactive_power  Voltage  \\\n",
      "Date                                                                      \n",
      "2006-12-16  17:24:00               4.216                 0.418  234.840   \n",
      "2006-12-16  17:25:00               5.360                 0.436  233.630   \n",
      "2006-12-16  17:26:00               5.374                 0.498  233.290   \n",
      "2006-12-16  17:27:00               5.388                 0.502  233.740   \n",
      "2006-12-16  17:28:00               3.666                 0.528  235.680   \n",
      "\n",
      "           Global_intensity Sub_metering_1 Sub_metering_2  Sub_metering_3  \n",
      "Date                                                                       \n",
      "2006-12-16           18.400          0.000          1.000            17.0  \n",
      "2006-12-16           23.000          0.000          1.000            16.0  \n",
      "2006-12-16           23.000          0.000          2.000            17.0  \n",
      "2006-12-16           23.000          0.000          1.000            17.0  \n",
      "2006-12-16           15.800          0.000          1.000            17.0  \n",
      "DatetimeIndex(['2006-12-16', '2006-12-16', '2006-12-16', '2006-12-16',\n",
      "               '2006-12-16', '2006-12-16', '2006-12-16', '2006-12-16',\n",
      "               '2006-12-16', '2006-12-16',\n",
      "               ...\n",
      "               '2010-11-26', '2010-11-26', '2010-11-26', '2010-11-26',\n",
      "               '2010-11-26', '2010-11-26', '2010-11-26', '2010-11-26',\n",
      "               '2010-11-26', '2010-11-26'],\n",
      "              dtype='datetime64[ns]', name='Date', length=2075259, freq=None)\n"
     ]
    }
   ],
   "source": [
    "#To do slicing , first I have to set datetime Index\n",
    "df = df.set_index('Date')\n",
    "print(df.head())\n",
    "print(df.index)"
   ]
  },
  {
   "cell_type": "markdown",
   "id": "75c7fde6-cf05-4ba2-992b-10256c6d68ea",
   "metadata": {},
   "source": [
    "## **Time based Sclicing**"
   ]
  },
  {
   "cell_type": "code",
   "execution_count": 110,
   "id": "ff467872-738a-48b8-b295-f753c754fda3",
   "metadata": {
    "scrolled": true
   },
   "outputs": [
    {
     "data": {
      "text/html": [
       "<div>\n",
       "<style scoped>\n",
       "    .dataframe tbody tr th:only-of-type {\n",
       "        vertical-align: middle;\n",
       "    }\n",
       "\n",
       "    .dataframe tbody tr th {\n",
       "        vertical-align: top;\n",
       "    }\n",
       "\n",
       "    .dataframe thead th {\n",
       "        text-align: right;\n",
       "    }\n",
       "</style>\n",
       "<table border=\"1\" class=\"dataframe\">\n",
       "  <thead>\n",
       "    <tr style=\"text-align: right;\">\n",
       "      <th></th>\n",
       "      <th>Value</th>\n",
       "    </tr>\n",
       "  </thead>\n",
       "  <tbody>\n",
       "    <tr>\n",
       "      <th>2006-12-16</th>\n",
       "      <td>14</td>\n",
       "    </tr>\n",
       "    <tr>\n",
       "      <th>2006-12-17</th>\n",
       "      <td>17</td>\n",
       "    </tr>\n",
       "    <tr>\n",
       "      <th>2006-12-18</th>\n",
       "      <td>23</td>\n",
       "    </tr>\n",
       "    <tr>\n",
       "      <th>2006-12-19</th>\n",
       "      <td>27</td>\n",
       "    </tr>\n",
       "    <tr>\n",
       "      <th>2006-12-20</th>\n",
       "      <td>14</td>\n",
       "    </tr>\n",
       "    <tr>\n",
       "      <th>2006-12-21</th>\n",
       "      <td>14</td>\n",
       "    </tr>\n",
       "    <tr>\n",
       "      <th>2006-12-22</th>\n",
       "      <td>23</td>\n",
       "    </tr>\n",
       "    <tr>\n",
       "      <th>2006-12-23</th>\n",
       "      <td>21</td>\n",
       "    </tr>\n",
       "    <tr>\n",
       "      <th>2006-12-24</th>\n",
       "      <td>25</td>\n",
       "    </tr>\n",
       "    <tr>\n",
       "      <th>2006-12-25</th>\n",
       "      <td>23</td>\n",
       "    </tr>\n",
       "  </tbody>\n",
       "</table>\n",
       "</div>"
      ],
      "text/plain": [
       "            Value\n",
       "2006-12-16     14\n",
       "2006-12-17     17\n",
       "2006-12-18     23\n",
       "2006-12-19     27\n",
       "2006-12-20     14\n",
       "2006-12-21     14\n",
       "2006-12-22     23\n",
       "2006-12-23     21\n",
       "2006-12-24     25\n",
       "2006-12-25     23"
      ]
     },
     "execution_count": 110,
     "metadata": {},
     "output_type": "execute_result"
    }
   ],
   "source": [
    "# now I will create a longer time series\n",
    "dates = pd.date_range(start='2006-12-16', periods=10, freq='D')\n",
    "values = np.random.randint(10, 30, size=10)\n",
    "df = pd.DataFrame({'Value': values}, index=dates)\n",
    "df"
   ]
  },
  {
   "cell_type": "markdown",
   "id": "4a593994-a987-4f1c-b401-6a487070a2c3",
   "metadata": {},
   "source": [
    "#### **Slicing by date**"
   ]
  },
  {
   "cell_type": "code",
   "execution_count": 95,
   "id": "449e5493-3eed-4388-98f8-fe10069621bd",
   "metadata": {},
   "outputs": [
    {
     "data": {
      "text/plain": [
       "Value    11\n",
       "Name: 2006-12-16 00:00:00, dtype: int32"
      ]
     },
     "execution_count": 95,
     "metadata": {},
     "output_type": "execute_result"
    }
   ],
   "source": [
    "#Then I do sclicing by date\n",
    "df.loc[('2006-12-16 ')]"
   ]
  },
  {
   "cell_type": "markdown",
   "id": "c034fa68-a77a-4f3f-bb3a-3e74c8a52e29",
   "metadata": {},
   "source": [
    "#### **Slicing by month**"
   ]
  },
  {
   "cell_type": "code",
   "execution_count": 106,
   "id": "fe3da0ee-3c3a-4ed7-aa7a-9df684023b82",
   "metadata": {},
   "outputs": [
    {
     "data": {
      "text/html": [
       "<div>\n",
       "<style scoped>\n",
       "    .dataframe tbody tr th:only-of-type {\n",
       "        vertical-align: middle;\n",
       "    }\n",
       "\n",
       "    .dataframe tbody tr th {\n",
       "        vertical-align: top;\n",
       "    }\n",
       "\n",
       "    .dataframe thead th {\n",
       "        text-align: right;\n",
       "    }\n",
       "</style>\n",
       "<table border=\"1\" class=\"dataframe\">\n",
       "  <thead>\n",
       "    <tr style=\"text-align: right;\">\n",
       "      <th></th>\n",
       "      <th>Value</th>\n",
       "    </tr>\n",
       "  </thead>\n",
       "  <tbody>\n",
       "    <tr>\n",
       "      <th>2006-12-16</th>\n",
       "      <td>11</td>\n",
       "    </tr>\n",
       "    <tr>\n",
       "      <th>2006-12-17</th>\n",
       "      <td>14</td>\n",
       "    </tr>\n",
       "    <tr>\n",
       "      <th>2006-12-18</th>\n",
       "      <td>29</td>\n",
       "    </tr>\n",
       "    <tr>\n",
       "      <th>2006-12-19</th>\n",
       "      <td>20</td>\n",
       "    </tr>\n",
       "    <tr>\n",
       "      <th>2006-12-20</th>\n",
       "      <td>23</td>\n",
       "    </tr>\n",
       "    <tr>\n",
       "      <th>2006-12-21</th>\n",
       "      <td>13</td>\n",
       "    </tr>\n",
       "    <tr>\n",
       "      <th>2006-12-22</th>\n",
       "      <td>21</td>\n",
       "    </tr>\n",
       "    <tr>\n",
       "      <th>2006-12-23</th>\n",
       "      <td>25</td>\n",
       "    </tr>\n",
       "    <tr>\n",
       "      <th>2006-12-24</th>\n",
       "      <td>26</td>\n",
       "    </tr>\n",
       "    <tr>\n",
       "      <th>2006-12-25</th>\n",
       "      <td>27</td>\n",
       "    </tr>\n",
       "  </tbody>\n",
       "</table>\n",
       "</div>"
      ],
      "text/plain": [
       "            Value\n",
       "2006-12-16     11\n",
       "2006-12-17     14\n",
       "2006-12-18     29\n",
       "2006-12-19     20\n",
       "2006-12-20     23\n",
       "2006-12-21     13\n",
       "2006-12-22     21\n",
       "2006-12-23     25\n",
       "2006-12-24     26\n",
       "2006-12-25     27"
      ]
     },
     "execution_count": 106,
     "metadata": {},
     "output_type": "execute_result"
    }
   ],
   "source": [
    "df.loc[('2006-12')]"
   ]
  },
  {
   "cell_type": "markdown",
   "id": "19c0321b-2ca8-474f-92fb-80d25864e0d3",
   "metadata": {},
   "source": [
    "#### **Slicing by year**"
   ]
  },
  {
   "cell_type": "code",
   "execution_count": 94,
   "id": "57be4d6a-d49b-459a-94c8-44bbbf9775f0",
   "metadata": {},
   "outputs": [
    {
     "data": {
      "text/html": [
       "<div>\n",
       "<style scoped>\n",
       "    .dataframe tbody tr th:only-of-type {\n",
       "        vertical-align: middle;\n",
       "    }\n",
       "\n",
       "    .dataframe tbody tr th {\n",
       "        vertical-align: top;\n",
       "    }\n",
       "\n",
       "    .dataframe thead th {\n",
       "        text-align: right;\n",
       "    }\n",
       "</style>\n",
       "<table border=\"1\" class=\"dataframe\">\n",
       "  <thead>\n",
       "    <tr style=\"text-align: right;\">\n",
       "      <th></th>\n",
       "      <th>Value</th>\n",
       "    </tr>\n",
       "  </thead>\n",
       "  <tbody>\n",
       "    <tr>\n",
       "      <th>2006-12-16</th>\n",
       "      <td>11</td>\n",
       "    </tr>\n",
       "    <tr>\n",
       "      <th>2006-12-17</th>\n",
       "      <td>14</td>\n",
       "    </tr>\n",
       "    <tr>\n",
       "      <th>2006-12-18</th>\n",
       "      <td>29</td>\n",
       "    </tr>\n",
       "    <tr>\n",
       "      <th>2006-12-19</th>\n",
       "      <td>20</td>\n",
       "    </tr>\n",
       "    <tr>\n",
       "      <th>2006-12-20</th>\n",
       "      <td>23</td>\n",
       "    </tr>\n",
       "    <tr>\n",
       "      <th>2006-12-21</th>\n",
       "      <td>13</td>\n",
       "    </tr>\n",
       "    <tr>\n",
       "      <th>2006-12-22</th>\n",
       "      <td>21</td>\n",
       "    </tr>\n",
       "    <tr>\n",
       "      <th>2006-12-23</th>\n",
       "      <td>25</td>\n",
       "    </tr>\n",
       "    <tr>\n",
       "      <th>2006-12-24</th>\n",
       "      <td>26</td>\n",
       "    </tr>\n",
       "    <tr>\n",
       "      <th>2006-12-25</th>\n",
       "      <td>27</td>\n",
       "    </tr>\n",
       "  </tbody>\n",
       "</table>\n",
       "</div>"
      ],
      "text/plain": [
       "            Value\n",
       "2006-12-16     11\n",
       "2006-12-17     14\n",
       "2006-12-18     29\n",
       "2006-12-19     20\n",
       "2006-12-20     23\n",
       "2006-12-21     13\n",
       "2006-12-22     21\n",
       "2006-12-23     25\n",
       "2006-12-24     26\n",
       "2006-12-25     27"
      ]
     },
     "execution_count": 94,
     "metadata": {},
     "output_type": "execute_result"
    }
   ],
   "source": [
    "df.loc[('2006')]"
   ]
  },
  {
   "cell_type": "markdown",
   "id": "9a87ae37-6f44-4f15-89d6-8884348f7586",
   "metadata": {},
   "source": [
    "## **Resampling**"
   ]
  },
  {
   "cell_type": "markdown",
   "id": "15db3813-8b89-4e15-8588-6541210883d6",
   "metadata": {},
   "source": [
    "### **Resample by week**"
   ]
  },
  {
   "cell_type": "code",
   "execution_count": 97,
   "id": "68e8a453-e1d7-4f64-b23b-e62cd578f382",
   "metadata": {},
   "outputs": [
    {
     "data": {
      "text/html": [
       "<div>\n",
       "<style scoped>\n",
       "    .dataframe tbody tr th:only-of-type {\n",
       "        vertical-align: middle;\n",
       "    }\n",
       "\n",
       "    .dataframe tbody tr th {\n",
       "        vertical-align: top;\n",
       "    }\n",
       "\n",
       "    .dataframe thead th {\n",
       "        text-align: right;\n",
       "    }\n",
       "</style>\n",
       "<table border=\"1\" class=\"dataframe\">\n",
       "  <thead>\n",
       "    <tr style=\"text-align: right;\">\n",
       "      <th></th>\n",
       "      <th>Value</th>\n",
       "    </tr>\n",
       "  </thead>\n",
       "  <tbody>\n",
       "    <tr>\n",
       "      <th>2006-12-17</th>\n",
       "      <td>25</td>\n",
       "    </tr>\n",
       "    <tr>\n",
       "      <th>2006-12-24</th>\n",
       "      <td>157</td>\n",
       "    </tr>\n",
       "    <tr>\n",
       "      <th>2006-12-31</th>\n",
       "      <td>27</td>\n",
       "    </tr>\n",
       "  </tbody>\n",
       "</table>\n",
       "</div>"
      ],
      "text/plain": [
       "            Value\n",
       "2006-12-17     25\n",
       "2006-12-24    157\n",
       "2006-12-31     27"
      ]
     },
     "execution_count": 97,
     "metadata": {},
     "output_type": "execute_result"
    }
   ],
   "source": [
    "# Resample to weekly frequency, taking the sum\n",
    "df_weekly_sum = df.resample('W').sum()\n",
    "df_weekly_sum "
   ]
  },
  {
   "cell_type": "markdown",
   "id": "734b695f-8859-4051-8069-f6d6cd691293",
   "metadata": {},
   "source": [
    "### **Resample by month**"
   ]
  },
  {
   "cell_type": "code",
   "execution_count": 98,
   "id": "2277ea33-319a-448d-9374-8adda0d8d1fe",
   "metadata": {},
   "outputs": [
    {
     "name": "stderr",
     "output_type": "stream",
     "text": [
      "C:\\Users\\bbuser\\AppData\\Local\\Temp\\ipykernel_25308\\3214720338.py:2: FutureWarning: 'M' is deprecated and will be removed in a future version, please use 'ME' instead.\n",
      "  df_monthly_mean = df.resample('M').mean()\n"
     ]
    },
    {
     "data": {
      "text/html": [
       "<div>\n",
       "<style scoped>\n",
       "    .dataframe tbody tr th:only-of-type {\n",
       "        vertical-align: middle;\n",
       "    }\n",
       "\n",
       "    .dataframe tbody tr th {\n",
       "        vertical-align: top;\n",
       "    }\n",
       "\n",
       "    .dataframe thead th {\n",
       "        text-align: right;\n",
       "    }\n",
       "</style>\n",
       "<table border=\"1\" class=\"dataframe\">\n",
       "  <thead>\n",
       "    <tr style=\"text-align: right;\">\n",
       "      <th></th>\n",
       "      <th>Value</th>\n",
       "    </tr>\n",
       "  </thead>\n",
       "  <tbody>\n",
       "    <tr>\n",
       "      <th>2006-12-31</th>\n",
       "      <td>20.9</td>\n",
       "    </tr>\n",
       "  </tbody>\n",
       "</table>\n",
       "</div>"
      ],
      "text/plain": [
       "            Value\n",
       "2006-12-31   20.9"
      ]
     },
     "execution_count": 98,
     "metadata": {},
     "output_type": "execute_result"
    }
   ],
   "source": [
    "# Resample to monthly frequency, taking the mean\n",
    "df_monthly_mean = df.resample('M').mean()\n",
    "df_monthly_mean"
   ]
  },
  {
   "cell_type": "markdown",
   "id": "a4d57c29-ff34-4fda-ab1a-4e8d9870aa54",
   "metadata": {},
   "source": [
    "## **Plotting**"
   ]
  },
  {
   "cell_type": "code",
   "execution_count": 120,
   "id": "d67f0d79-a8ca-4a73-bc40-14adcf4e5b0d",
   "metadata": {},
   "outputs": [
    {
     "data": {
      "image/png": "[encoded data removed]",
      "text/plain": [
       "<Figure size 1000x1000 with 1 Axes>"
      ]
     },
     "metadata": {},
     "output_type": "display_data"
    }
   ],
   "source": [
    "plt.figure(figsize=(10, 10))\n",
    "plt.plot(df.index, df['Value'], marker='o', linestyle='-', color='red', alpha=0.6)\n",
    "plt.title('Time Series Analysing of Daily Electricity Consumption(Time based Sclicing)', fontsize=16)\n",
    "plt.xlabel('Date', fontsize=16)\n",
    "plt.ylabel('Value', fontsize=16)\n",
    "plt.grid(True, linestyle = ':', alpha=0.6)\n",
    "plt.xticks(rotation=90) \n",
    "plt.tight_layout()\n",
    "plt.show()\n"
   ]
  },
  {
   "cell_type": "code",
   "execution_count": null,
   "id": "3f8832a2-76be-44fb-a515-232b278b4c58",
   "metadata": {},
   "outputs": [],
   "source": []
  }
 ],
 "metadata": {
  "kernelspec": {
   "display_name": "Python 3 (ipykernel)",
   "language": "python",
   "name": "python3"
  },
  "language_info": {
   "codemirror_mode": {
    "name": "ipython",
    "version": 3
   },
   "file_extension": ".py",
   "mimetype": "text/x-python",
   "name": "python",
   "nbconvert_exporter": "python",
   "pygments_lexer": "ipython3",
   "version": "3.13.3"
  }
 },
 "nbformat": 4,
 "nbformat_minor": 5
}
