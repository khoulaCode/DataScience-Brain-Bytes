{
 "cells": [
  {
   "cell_type": "markdown",
   "id": "37f0d0ba-a4da-4235-ab3e-e1680ca09435",
   "metadata": {},
   "source": [
    "# Sales Data Simulation and Analysis\n",
    "\n",
    "**Scenario: You are a junior data analyst at an online retail company. Your manager wants to understand daily sales patterns. You need to simulate a month's worth of sales data and then use NumPy to extract insights about sales performance.**"
   ]
  },
  {
   "cell_type": "code",
   "execution_count": 116,
   "id": "3fe1f3e9-a93f-414a-9a4e-ea2d51138952",
   "metadata": {},
   "outputs": [
    {
     "data": {
      "text/plain": [
       "array([0.99940426, 0.09753425, 0.79456672, 0.82864675, 0.23285793,\n",
       "       0.97685853, 0.13635933, 0.6753885 , 0.73428336, 0.49847251,\n",
       "       0.39253266, 0.12996685, 0.42930479, 0.74045669, 0.59999004,\n",
       "       0.20937775, 0.22412009, 0.28046453, 0.42285425, 0.69791041,\n",
       "       0.09479626, 0.68440971, 0.41908736, 0.4464365 , 0.90113224,\n",
       "       0.01934634, 0.91886811, 0.7443973 , 0.8790782 , 0.23896968,\n",
       "       0.23021525, 0.66038315, 0.7029805 , 0.45925823, 0.70709092,\n",
       "       0.68243358, 0.63065687, 0.83687274, 0.26491069, 0.89776469,\n",
       "       0.4725346 , 0.12727415, 0.48493505, 0.97488529, 0.85831933,\n",
       "       0.46922702, 0.43900809, 0.98384121, 0.34246639, 0.2068469 ,\n",
       "       0.69541023, 0.21467665, 0.84952734, 0.37258057, 0.81917157,\n",
       "       0.1715936 , 0.44411488, 0.027782  , 0.74774155, 0.72091612,\n",
       "       0.33419896, 0.07136314, 0.7978935 , 0.26931099, 0.46637646,\n",
       "       0.55507008, 0.04014182, 0.28667032, 0.28755867, 0.86225977,\n",
       "       0.95512551, 0.71696424, 0.66965781, 0.04054911, 0.51667214,\n",
       "       0.97839123, 0.65472433, 0.39235961, 0.50058183, 0.2281451 ,\n",
       "       0.34462388, 0.6955204 , 0.17687596, 0.05226017, 0.6763756 ,\n",
       "       0.60168965, 0.11437742, 0.86416591, 0.8686886 , 0.47028435,\n",
       "       0.35452591, 0.76691828, 0.59789968, 0.45802823, 0.44072565,\n",
       "       0.42045784, 0.80638595, 0.55167016, 0.43422349, 0.83655355])"
      ]
     },
     "execution_count": 116,
     "metadata": {},
     "output_type": "execute_result"
    }
   ],
   "source": [
    "import numpy as np\n",
    "np.random.rand(100)"
   ]
  },
  {
   "cell_type": "markdown",
   "id": "5a7baf76-3ed0-4b10-a1d6-eef93e78b035",
   "metadata": {},
   "source": [
    "### 1.Sales Data Generation: "
   ]
  },
  {
   "cell_type": "markdown",
   "id": "3458671c-84df-406a-8b61-3ddb5b264837",
   "metadata": {},
   "source": [
    "###### 1.1. Simulate daily sales_revenue for 30 days. Assume a base daily revenue (e.g., $1000) with random fluctuations. Use np.random.rand() or np.random.normal() to add variability. Ensure no negative sales."
   ]
  },
  {
   "cell_type": "code",
   "execution_count": 117,
   "id": "154a0848-02fe-4f58-b426-94f9c60f875e",
   "metadata": {},
   "outputs": [
    {
     "name": "stdout",
     "output_type": "stream",
     "text": [
      "Simulate daily sales_revenue for the first 5 days:\n",
      " [1194. 1018. 1192. 1113. 1131. 1069. 1095. 1004. 1001. 1137. 1082. 1105.\n",
      " 1026. 1072. 1031. 1053. 1086. 1116. 1188. 1078. 1031. 1169. 1045. 1162.\n",
      " 1098. 1188. 1106. 1175. 1056. 1045.]\n"
     ]
    }
   ],
   "source": [
    "base_daily_revenue = 1000\n",
    "days = 30\n",
    "\n",
    "random_fluctuations = np.random.uniform(0, 200, days)\n",
    "sales_revenue = np.maximum(base_daily_revenue + random_fluctuations, 0)\n",
    "print(\"Simulate daily sales_revenue for the first 5 days:\\n\", np.round(sales_revenue[:days], 0))"
   ]
  },
  {
   "cell_type": "markdown",
   "id": "72d457b6-8b5b-4412-bbb2-769a3d21a47b",
   "metadata": {},
   "source": [
    "###### 2.1.Simulate units_sold for the same 30 days, correlated with sales revenue but with its own random fluctuations."
   ]
  },
  {
   "cell_type": "code",
   "execution_count": 118,
   "id": "fe6419c9-173e-458c-97da-d246b00ec2eb",
   "metadata": {},
   "outputs": [
    {
     "name": "stdout",
     "output_type": "stream",
     "text": [
      "The Unit Sold = \n",
      " [120 101 113 107 114 112 111  92  94 111 108 113 101 105  98 100 102 111\n",
      " 121 108  94 106 112 114 116 129 109 123 105 100]\n"
     ]
    }
   ],
   "source": [
    "units_sold = (sales_revenue / 10) + np.random.normal(0, 5, days)\n",
    "units_sold = np.maximum(units_sold, 0).astype(int)\n",
    "print(\"The Unit Sold = \\n\", units_sold[:days])"
   ]
  },
  {
   "cell_type": "markdown",
   "id": "7b9596a1-3783-4051-8f8f-fb50c9d02412",
   "metadata": {},
   "source": [
    "###### 3.1. Create two 1D NumPy arrays, one for sales_revenue and one for units_sold."
   ]
  },
  {
   "cell_type": "code",
   "execution_count": 119,
   "id": "a3c370ff-f873-416c-9ae5-9810e8ec315a",
   "metadata": {},
   "outputs": [
    {
     "name": "stdout",
     "output_type": "stream",
     "text": [
      "Sales_revenue = \n",
      "\n",
      " [1194. 1018. 1192. 1113. 1131. 1069. 1095. 1004. 1001. 1137. 1082. 1105.\n",
      " 1026. 1072. 1031. 1053. 1086. 1116. 1188. 1078. 1031. 1169. 1045. 1162.\n",
      " 1098. 1188. 1106. 1175. 1056. 1045.] \n",
      "\n",
      "Unit Sold = \n",
      "\n",
      " [120 101 113 107 114 112 111  92  94 111 108 113 101 105  98 100 102 111\n",
      " 121 108  94 106 112 114 116 129 109 123 105 100] \n",
      "\n"
     ]
    }
   ],
   "source": [
    "print(\"Sales_revenue = \\n\\n\", np.round(sales_revenue[:days], 0),\"\\n\")\n",
    "print(\"Unit Sold = \\n\\n\", units_sold[:days], \"\\n\")"
   ]
  },
  {
   "cell_type": "markdown",
   "id": "bafeded8-e0b2-4e9a-b891-17036293cad6",
   "metadata": {},
   "source": [
    "### 2.Combine Data: \n",
    " "
   ]
  },
  {
   "cell_type": "markdown",
   "id": "257588e9-0712-45c1-b55e-a309217ff775",
   "metadata": {},
   "source": [
    "###### 1.2. Create a 2D NumPy array where the first column is sales_revenue and the second is units_sold."
   ]
  },
  {
   "cell_type": "code",
   "execution_count": 120,
   "id": "2728ab03-783b-416d-a0d8-1741f8f9a9d2",
   "metadata": {},
   "outputs": [
    {
     "name": "stdout",
     "output_type": "stream",
     "text": [
      "Combined Data :\n",
      "\n",
      " [[1194.42743434  120.        ]\n",
      " [1018.42464307  101.        ]\n",
      " [1192.18731621  113.        ]\n",
      " [1113.37579938  107.        ]\n",
      " [1131.3454966   114.        ]\n",
      " [1068.62893243  112.        ]\n",
      " [1094.72633473  111.        ]\n",
      " [1004.11025777   92.        ]\n",
      " [1000.59003259   94.        ]\n",
      " [1136.68415636  111.        ]\n",
      " [1081.59385163  108.        ]\n",
      " [1104.74288845  113.        ]\n",
      " [1025.98571627  101.        ]\n",
      " [1072.1316489   105.        ]\n",
      " [1031.21610844   98.        ]\n",
      " [1053.19990878  100.        ]\n",
      " [1085.51702018  102.        ]\n",
      " [1115.71096089  111.        ]\n",
      " [1187.99354083  121.        ]\n",
      " [1078.47347789  108.        ]\n",
      " [1031.24098982   94.        ]\n",
      " [1168.58726763  106.        ]\n",
      " [1044.78886655  112.        ]\n",
      " [1161.8992608   114.        ]\n",
      " [1097.73727153  116.        ]\n",
      " [1188.41504544  129.        ]\n",
      " [1105.65615654  109.        ]\n",
      " [1175.2729335   123.        ]\n",
      " [1055.61455212  105.        ]\n",
      " [1044.65447987  100.        ]]\n"
     ]
    }
   ],
   "source": [
    "combined_data = np.column_stack((sales_revenue , units_sold))\n",
    "print(\"Combined Data :\\n\\n\", combined_data[:days])"
   ]
  },
  {
   "cell_type": "markdown",
   "id": "bf5ffee5-f843-4885-a3f8-d3c69876637e",
   "metadata": {},
   "source": [
    "### 3.Key Performance Indicators (KPIs): "
   ]
  },
  {
   "cell_type": "markdown",
   "id": "618b03c2-7c5c-44fe-848d-a38726589ddf",
   "metadata": {},
   "source": [
    "###### 1.3.Calculate the total sales_revenue for the month."
   ]
  },
  {
   "cell_type": "code",
   "execution_count": 121,
   "id": "518e3bd9-3191-48a1-ad11-de1fe3e27eed",
   "metadata": {},
   "outputs": [
    {
     "name": "stdout",
     "output_type": "stream",
     "text": [
      "Total Sales Revenue =  32864.93234955431 $\n"
     ]
    }
   ],
   "source": [
    "sales_revenue = combined_data[:, 0]\n",
    "units_sold = combined_data[:, 1]\n",
    "total_revenue = sales_revenue.sum()\n",
    "print(\"Total Sales Revenue = \",total_revenue,\"$\")"
   ]
  },
  {
   "cell_type": "markdown",
   "id": "8a2ba1cc-5a06-4d88-a553-ee7f68b9e9d1",
   "metadata": {},
   "source": [
    "###### 1.3. Calculate the average units_sold per day."
   ]
  },
  {
   "cell_type": "code",
   "execution_count": 122,
   "id": "bd4808cd-847a-46a0-9037-d155ff795639",
   "metadata": {},
   "outputs": [
    {
     "name": "stdout",
     "output_type": "stream",
     "text": [
      "Average Units Sold per Day =  108.33333333333333\n"
     ]
    }
   ],
   "source": [
    "average_units_sold = units_sold.mean()\n",
    "print(\"Average Units Sold per Day = \",average_units_sold)"
   ]
  },
  {
   "cell_type": "markdown",
   "id": "8b5d1188-ced9-44d3-892d-9a1877d55516",
   "metadata": {},
   "source": [
    "###### 2.3. Determine the maximum daily sales_revenue and the day (index) it occurred."
   ]
  },
  {
   "cell_type": "code",
   "execution_count": 123,
   "id": "e43a78bb-592b-4b7c-a4a1-17ed7e8b756a",
   "metadata": {},
   "outputs": [
    {
     "name": "stdout",
     "output_type": "stream",
     "text": [
      "Maximum Daily Sales Revenue = 1194.4274343399463 $ \n",
      "Day = 1\n"
     ]
    }
   ],
   "source": [
    "max_revenue = sales_revenue.max()\n",
    "max_day_index = sales_revenue.argmax()\n",
    "print(\"Maximum Daily Sales Revenue =\",max_revenue ,\"$\",\"\\nDay =\",max_day_index + 1)"
   ]
  },
  {
   "cell_type": "markdown",
   "id": "86211eb2-c8a4-4404-8c38-91660b8c3afd",
   "metadata": {},
   "source": [
    "###### 3.3. Calculate the average revenue per unit sold for the entire month (total revenue / total units sold)."
   ]
  },
  {
   "cell_type": "code",
   "execution_count": 124,
   "id": "76c969f2-227f-4c23-9729-7be1c0f8dac1",
   "metadata": {},
   "outputs": [
    {
     "name": "stdout",
     "output_type": "stream",
     "text": [
      "Average Revenue per Unit Sold = 10.11228687678594 $\n"
     ]
    }
   ],
   "source": [
    "total_units = units_sold.sum()\n",
    "avg_revenue_per_unit = total_revenue / total_units\n",
    "print(\"Average Revenue per Unit Sold =\",avg_revenue_per_unit, \"$\")"
   ]
  },
  {
   "cell_type": "markdown",
   "id": "ea0ae001-227d-477c-97da-0f7fb370b560",
   "metadata": {},
   "source": [
    "### 4. Conditional Analysis: "
   ]
  },
  {
   "cell_type": "markdown",
   "id": "7209ecd3-c28f-4668-8682-62a23d34f693",
   "metadata": {},
   "source": [
    "###### 1.4. Identify and count how many days had sales_revenue above a certain target (e.g., $1200)."
   ]
  },
  {
   "cell_type": "code",
   "execution_count": 125,
   "id": "066f141f-c727-4979-90e0-319917d29744",
   "metadata": {},
   "outputs": [
    {
     "name": "stdout",
     "output_type": "stream",
     "text": [
      "Number of days with sales revenue > 1200 $: 0\n",
      "Days with high revenue =  []\n"
     ]
    }
   ],
   "source": [
    "target_revenue = 1200\n",
    "high_revenue_days = sales_revenue > target_revenue\n",
    "count_high_days = np.sum(high_revenue_days)\n",
    "days_above_target = np.where(high_revenue_days)[0] + 1\n",
    "print(\"Number of days with sales revenue >\" ,target_revenue,\"$:\", count_high_days)\n",
    "print(\"Days with high revenue = \",days_above_target)"
   ]
  },
  {
   "cell_type": "markdown",
   "id": "bca6a22d-681e-4d1d-8202-5f846871c491",
   "metadata": {},
   "source": [
    "###### 2.4. Calculate the average units_sold only for days when sales_revenue was below a certain threshold (e.g., $900)."
   ]
  },
  {
   "cell_type": "code",
   "execution_count": 126,
   "id": "7bf49cd3-a602-43eb-8fb4-0d6f8fe8f3b6",
   "metadata": {},
   "outputs": [
    {
     "name": "stdout",
     "output_type": "stream",
     "text": [
      "No days with sales revenue below 900 $\n"
     ]
    }
   ],
   "source": [
    "threshold = 900\n",
    "low_revenue_days = sales_revenue < threshold\n",
    "units_on_low_days = units_sold[low_revenue_days]\n",
    "\n",
    "if len(units_on_low_days) > 0:\n",
    "    avg_units_low_days = units_on_low_days.mean()\n",
    "    print(\"Average units sold on days with sales revenue <\",threshold ,\"$:\", avg_units_low_days)\n",
    "else:\n",
    "    print(\"No days with sales revenue below\",threshold,\"$\")\n"
   ]
  },
  {
   "cell_type": "markdown",
   "id": "ccfae793-6d81-4d5e-8852-9306eff51afa",
   "metadata": {},
   "source": [
    "### 5. Weekly Aggregations: "
   ]
  },
  {
   "cell_type": "markdown",
   "id": "f6bfd298-01c0-4399-8c4e-b8f20449d24e",
   "metadata": {},
   "source": [
    "###### 1.5. Assume the 30 days start on a Monday. Calculate the total sales_revenue for each of the 4 full weeks (days 1-7, 8-14, 15-21, 22-28). You will need to reshape or carefully slice your data."
   ]
  },
  {
   "cell_type": "code",
   "execution_count": 127,
   "id": "bb39bec4-2419-4481-971f-1f42860b1e97",
   "metadata": {},
   "outputs": [
    {
     "name": "stdout",
     "output_type": "stream",
     "text": [
      "Week 1 Total Revenue= 7813.115956763169 $\n",
      "\n",
      "Week 2 Total Revenue= 7425.838551960793 $\n",
      "\n",
      "Week 3 Total Revenue= 7583.352006845067 $\n",
      "\n",
      "Week 4 Total Revenue= 7942.356801993062 $\n"
     ]
    }
   ],
   "source": [
    "week1_total = sales_revenue[0:7].sum()\n",
    "week2_total = sales_revenue[7:14].sum()\n",
    "week3_total = sales_revenue[14:21].sum()\n",
    "week4_total = sales_revenue[21:28].sum()\n",
    "\n",
    "print(\"Week 1 Total Revenue=\",week1_total,\"$\")\n",
    "print(\"\\nWeek 2 Total Revenue=\",week2_total,\"$\")\n",
    "print(\"\\nWeek 3 Total Revenue=\",week3_total,\"$\")\n",
    "print(\"\\nWeek 4 Total Revenue=\",week4_total,\"$\")"
   ]
  },
  {
   "cell_type": "markdown",
   "id": "2b1b4b66-a2f4-4674-8a76-865602fdeb1d",
   "metadata": {},
   "source": []
  }
 ],
 "metadata": {
  "kernelspec": {
   "display_name": "Python 3 (ipykernel)",
   "language": "python",
   "name": "python3"
  },
  "language_info": {
   "codemirror_mode": {
    "name": "ipython",
    "version": 3
   },
   "file_extension": ".py",
   "mimetype": "text/x-python",
   "name": "python",
   "nbconvert_exporter": "python",
   "pygments_lexer": "ipython3",
   "version": "3.13.3"
  }
 },
 "nbformat": 4,
 "nbformat_minor": 5
}
