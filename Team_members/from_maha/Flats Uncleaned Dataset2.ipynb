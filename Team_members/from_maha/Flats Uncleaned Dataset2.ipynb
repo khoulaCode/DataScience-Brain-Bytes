{
 "cells": [
  {
   "cell_type": "code",
   "execution_count": 1,
   "id": "b2a1fc08-ce37-4077-ac7e-4ca71ecd1605",
   "metadata": {},
   "outputs": [],
   "source": [
    "import numpy as np\n",
    "import matplotlib.pyplot as plt\n",
    "import pandas as pd \n",
    "from sklearn.linear_model import LinearRegression\n",
    "from sklearn.model_selection import train_test_split\n",
    "from sklearn.metrics import mean_absolute_error, mean_squared_error, r2_score"
   ]
  },
  {
   "cell_type": "code",
   "execution_count": 2,
   "id": "75d2e114-e324-4097-b096-d2bfb33b0e07",
   "metadata": {},
   "outputs": [],
   "source": [
    "path=\"data/surat_uncleaned.csv\"\n",
    "df = pd.read_csv(path)"
   ]
  },
  {
   "cell_type": "code",
   "execution_count": 3,
   "id": "2b7ad45c-1c43-413b-98b5-678c6d590ef2",
   "metadata": {
    "scrolled": true
   },
   "outputs": [
    {
     "data": {
      "text/html": [
       "<div>\n",
       "<style scoped>\n",
       "    .dataframe tbody tr th:only-of-type {\n",
       "        vertical-align: middle;\n",
       "    }\n",
       "\n",
       "    .dataframe tbody tr th {\n",
       "        vertical-align: top;\n",
       "    }\n",
       "\n",
       "    .dataframe thead th {\n",
       "        text-align: right;\n",
       "    }\n",
       "</style>\n",
       "<table border=\"1\" class=\"dataframe\">\n",
       "  <thead>\n",
       "    <tr style=\"text-align: right;\">\n",
       "      <th></th>\n",
       "      <th>property_name</th>\n",
       "      <th>areaWithType</th>\n",
       "      <th>square_feet</th>\n",
       "      <th>transaction</th>\n",
       "      <th>status</th>\n",
       "      <th>floor</th>\n",
       "      <th>furnishing</th>\n",
       "      <th>facing</th>\n",
       "      <th>description</th>\n",
       "      <th>price_per_sqft</th>\n",
       "      <th>price</th>\n",
       "    </tr>\n",
       "  </thead>\n",
       "  <tbody>\n",
       "    <tr>\n",
       "      <th>0</th>\n",
       "      <td>2 BHK Apartment for Sale in Dindoli Surat</td>\n",
       "      <td>Carpet Area</td>\n",
       "      <td>644 sqft</td>\n",
       "      <td>New Property</td>\n",
       "      <td>Poss. by Oct '24</td>\n",
       "      <td>5 out of 10</td>\n",
       "      <td>Unfurnished</td>\n",
       "      <td>West</td>\n",
       "      <td>Luxury project with basement parking, Solar ro...</td>\n",
       "      <td>₹2,891 per sqft</td>\n",
       "      <td>₹33.8 Lac</td>\n",
       "    </tr>\n",
       "    <tr>\n",
       "      <th>1</th>\n",
       "      <td>2 BHK Apartment for Sale in Althan Surat</td>\n",
       "      <td>Super Area</td>\n",
       "      <td>1278 sqft</td>\n",
       "      <td>New Property</td>\n",
       "      <td>Poss. by Jan '26</td>\n",
       "      <td>6 out of 14</td>\n",
       "      <td>Unfurnished</td>\n",
       "      <td>South -West</td>\n",
       "      <td>2 And 3 BHK Luxurious Flat for Sell In New Alt...</td>\n",
       "      <td>₹3,551 per sqft</td>\n",
       "      <td>₹45.4 Lac</td>\n",
       "    </tr>\n",
       "    <tr>\n",
       "      <th>2</th>\n",
       "      <td>2 BHK Apartment for Sale in Pal Gam Surat</td>\n",
       "      <td>Super Area</td>\n",
       "      <td>1173 sqft</td>\n",
       "      <td>Resale</td>\n",
       "      <td>Ready to Move</td>\n",
       "      <td>5 out of 13</td>\n",
       "      <td>Semi-Furnished</td>\n",
       "      <td>East</td>\n",
       "      <td>This affordable 2 BHK flat is situated along a...</td>\n",
       "      <td>₹3,800 per sqft</td>\n",
       "      <td>₹44.6 Lac</td>\n",
       "    </tr>\n",
       "    <tr>\n",
       "      <th>3</th>\n",
       "      <td>2 BHK Apartment for Sale in Jahangirabad Surat</td>\n",
       "      <td>Carpet Area</td>\n",
       "      <td>700 sqft</td>\n",
       "      <td>New Property</td>\n",
       "      <td>Ready to Move</td>\n",
       "      <td>6 out of 14</td>\n",
       "      <td>Unfurnished</td>\n",
       "      <td>East</td>\n",
       "      <td>2 BHK Flat For sell IN Jahangirabad Prime Loca...</td>\n",
       "      <td>₹3,966 per sqft</td>\n",
       "      <td>₹47 Lac</td>\n",
       "    </tr>\n",
       "    <tr>\n",
       "      <th>4</th>\n",
       "      <td>2 BHK Apartment for Sale in Orchid Fantasia, P...</td>\n",
       "      <td>Super Area</td>\n",
       "      <td>1250 sqft</td>\n",
       "      <td>Orchid Fantasia</td>\n",
       "      <td>New Property</td>\n",
       "      <td>Unfurnished</td>\n",
       "      <td>2</td>\n",
       "      <td>2</td>\n",
       "      <td>Multistorey Apartment for Sale in Palanpur, Su...</td>\n",
       "      <td>₹3,600 per sqft</td>\n",
       "      <td>₹45 Lac</td>\n",
       "    </tr>\n",
       "  </tbody>\n",
       "</table>\n",
       "</div>"
      ],
      "text/plain": [
       "                                       property_name areaWithType square_feet  \\\n",
       "0          2 BHK Apartment for Sale in Dindoli Surat  Carpet Area    644 sqft   \n",
       "1           2 BHK Apartment for Sale in Althan Surat   Super Area   1278 sqft   \n",
       "2          2 BHK Apartment for Sale in Pal Gam Surat   Super Area   1173 sqft   \n",
       "3     2 BHK Apartment for Sale in Jahangirabad Surat  Carpet Area    700 sqft   \n",
       "4  2 BHK Apartment for Sale in Orchid Fantasia, P...   Super Area   1250 sqft   \n",
       "\n",
       "       transaction            status        floor      furnishing  \\\n",
       "0     New Property  Poss. by Oct '24  5 out of 10     Unfurnished   \n",
       "1     New Property  Poss. by Jan '26  6 out of 14     Unfurnished   \n",
       "2           Resale     Ready to Move  5 out of 13  Semi-Furnished   \n",
       "3     New Property     Ready to Move  6 out of 14     Unfurnished   \n",
       "4  Orchid Fantasia      New Property  Unfurnished               2   \n",
       "\n",
       "        facing                                        description  \\\n",
       "0         West  Luxury project with basement parking, Solar ro...   \n",
       "1  South -West  2 And 3 BHK Luxurious Flat for Sell In New Alt...   \n",
       "2         East  This affordable 2 BHK flat is situated along a...   \n",
       "3         East  2 BHK Flat For sell IN Jahangirabad Prime Loca...   \n",
       "4            2  Multistorey Apartment for Sale in Palanpur, Su...   \n",
       "\n",
       "     price_per_sqft       price  \n",
       "0  ₹2,891 per sqft   ₹33.8 Lac   \n",
       "1  ₹3,551 per sqft   ₹45.4 Lac   \n",
       "2  ₹3,800 per sqft   ₹44.6 Lac   \n",
       "3  ₹3,966 per sqft     ₹47 Lac   \n",
       "4  ₹3,600 per sqft     ₹45 Lac   "
      ]
     },
     "execution_count": 3,
     "metadata": {},
     "output_type": "execute_result"
    }
   ],
   "source": [
    "df.head()"
   ]
  },
  {
   "cell_type": "code",
   "execution_count": null,
   "id": "27dc8419-e4a9-436e-9272-56a69df0e70c",
   "metadata": {},
   "outputs": [],
   "source": []
  },
  {
   "cell_type": "code",
   "execution_count": 4,
   "id": "456d5194-7412-46c0-9e31-abc4b41a0988",
   "metadata": {},
   "outputs": [
    {
     "data": {
      "text/plain": [
       "(4525, 11)"
      ]
     },
     "execution_count": 4,
     "metadata": {},
     "output_type": "execute_result"
    }
   ],
   "source": [
    "df.shape"
   ]
  },
  {
   "cell_type": "code",
   "execution_count": 5,
   "id": "abd91250-b4c8-45c5-997a-68b825bc3af5",
   "metadata": {},
   "outputs": [],
   "source": [
    "df.drop('description', axis=1, inplace=True)"
   ]
  },
  {
   "cell_type": "code",
   "execution_count": 6,
   "id": "f2718cb4-8af5-4300-9048-87e9a172e11f",
   "metadata": {},
   "outputs": [
    {
     "data": {
      "text/plain": [
       "array(['Carpet Area', 'Super Area', 'Plot Area', 'Built Area',\n",
       "       'Transaction', 'Status'], dtype=object)"
      ]
     },
     "execution_count": 6,
     "metadata": {},
     "output_type": "execute_result"
    }
   ],
   "source": [
    "df['areaWithType'].unique()"
   ]
  },
  {
   "cell_type": "markdown",
   "id": "3833c1e0-90bc-43b2-b49e-1c4e4b425a67",
   "metadata": {},
   "source": [
    "## ## column2 areaWithType\t"
   ]
  },
  {
   "cell_type": "markdown",
   "id": "48367c2f-6ba8-4c03-abca-ae1c90cee6ee",
   "metadata": {},
   "source": [
    "#### Label Encoding for areaWithType"
   ]
  },
  {
   "cell_type": "code",
   "execution_count": 7,
   "id": "18975f32-8c91-4858-b110-2aed5d7c3e79",
   "metadata": {},
   "outputs": [],
   "source": [
    "from sklearn.preprocessing import LabelEncoder\n",
    "le = LabelEncoder()\n",
    "df['areaWithType'] = le.fit_transform(df['areaWithType'])"
   ]
  },
  {
   "cell_type": "code",
   "execution_count": 8,
   "id": "3dcdc72a-ab35-44ab-be0a-ea5947313b81",
   "metadata": {},
   "outputs": [
    {
     "data": {
      "text/plain": [
       "(4525, 10)"
      ]
     },
     "execution_count": 8,
     "metadata": {},
     "output_type": "execute_result"
    }
   ],
   "source": [
    "df.shape"
   ]
  },
  {
   "cell_type": "code",
   "execution_count": 9,
   "id": "6f8e0e1a-00ec-4b69-b67b-295bb99c7c52",
   "metadata": {
    "scrolled": true
   },
   "outputs": [
    {
     "data": {
      "text/plain": [
       "property_name       0\n",
       "areaWithType        0\n",
       "square_feet         0\n",
       "transaction       104\n",
       "status              1\n",
       "floor              45\n",
       "furnishing        340\n",
       "facing            589\n",
       "price_per_sqft    368\n",
       "price               0\n",
       "dtype: int64"
      ]
     },
     "execution_count": 9,
     "metadata": {},
     "output_type": "execute_result"
    }
   ],
   "source": [
    "df.isnull().sum()"
   ]
  },
  {
   "cell_type": "markdown",
   "id": "c01eac30-93e2-4a6a-bf93-55b6a154bf49",
   "metadata": {},
   "source": [
    "## column3 square_feet"
   ]
  },
  {
   "cell_type": "code",
   "execution_count": 10,
   "id": "ce30c591-129b-49a3-9594-5e6ee3674bf7",
   "metadata": {},
   "outputs": [
    {
     "data": {
      "text/plain": [
       "array(['644 sqft', '1278 sqft', '1173 sqft', ..., '2545 sqft',\n",
       "       '5175 sqft', '2620 sqft'], dtype=object)"
      ]
     },
     "execution_count": 10,
     "metadata": {},
     "output_type": "execute_result"
    }
   ],
   "source": [
    "df['square_feet'].unique()"
   ]
  },
  {
   "cell_type": "code",
   "execution_count": 11,
   "id": "932c7780-276f-4a22-a9d9-bef1c4c85bef",
   "metadata": {},
   "outputs": [],
   "source": [
    "df['square_feet'] = df['square_feet'].astype(str).str.extract(r'(\\d+\\.?\\d*)')[0].astype(float)"
   ]
  },
  {
   "cell_type": "code",
   "execution_count": 12,
   "id": "726c97df-f6eb-4f02-9668-21fe44816976",
   "metadata": {},
   "outputs": [
    {
     "data": {
      "text/plain": [
       "0        644.0\n",
       "1       1278.0\n",
       "2       1173.0\n",
       "3        700.0\n",
       "4       1250.0\n",
       "         ...  \n",
       "4520    2000.0\n",
       "4521    3600.0\n",
       "4522    2250.0\n",
       "4523    3450.0\n",
       "4524    4500.0\n",
       "Name: square_feet, Length: 4525, dtype: float64"
      ]
     },
     "execution_count": 12,
     "metadata": {},
     "output_type": "execute_result"
    }
   ],
   "source": [
    "df['square_feet']"
   ]
  },
  {
   "cell_type": "code",
   "execution_count": null,
   "id": "eb761c09-41b8-49c0-94d8-bf74b119e539",
   "metadata": {},
   "outputs": [],
   "source": []
  },
  {
   "cell_type": "code",
   "execution_count": 13,
   "id": "4ecb821f-1395-479d-8c2d-4db909a6ce46",
   "metadata": {},
   "outputs": [
    {
     "data": {
      "text/plain": [
       "np.int64(6)"
      ]
     },
     "execution_count": 13,
     "metadata": {},
     "output_type": "execute_result"
    }
   ],
   "source": [
    "df['square_feet'].isnull().sum()"
   ]
  },
  {
   "cell_type": "code",
   "execution_count": null,
   "id": "98171dae-1da9-4ff2-a10e-5498068211c3",
   "metadata": {},
   "outputs": [],
   "source": []
  },
  {
   "cell_type": "markdown",
   "id": "1aa292c7-8b60-4054-a324-710a1bb74024",
   "metadata": {},
   "source": [
    "## column4 transaction"
   ]
  },
  {
   "cell_type": "code",
   "execution_count": 14,
   "id": "2634d9f5-64b5-4842-8e5d-f284756a905d",
   "metadata": {},
   "outputs": [
    {
     "data": {
      "text/plain": [
       "array(['New Property', 'Resale', 'Orchid Fantasia', 'Unfurnished',\n",
       "       'Orchid Gardenia', 'Congo', 'Furnished', nan, 'Semi-Furnished',\n",
       "       'Main Road, Garden/Park', '1', '3', '4', 'Yes', 'No',\n",
       "       'Mahavir Nagar', '3 Covered', 'Shagun Residency', '2', 'Main Road',\n",
       "       '10 m', 'Other', '1 Covered', 'Soham Elegance', 'Garden/Park',\n",
       "       'Aakash Echo Point', 'Sundaram Residency', '5', 'Jolly Residency',\n",
       "       'Mangalam Heights', 'Green City', 'Pool, Garden/Park, Main Road',\n",
       "       '6', 'Co-operative Society', 'Vatsalya Bungalows', '20 Covered,',\n",
       "       'Raghuvir Silverstone', '8 m', 'Casa Rivera'], dtype=object)"
      ]
     },
     "execution_count": 14,
     "metadata": {},
     "output_type": "execute_result"
    }
   ],
   "source": [
    "df['transaction'].unique()"
   ]
  },
  {
   "cell_type": "code",
   "execution_count": 15,
   "id": "204ef70f-7c01-4219-92ca-870db75bae79",
   "metadata": {},
   "outputs": [
    {
     "data": {
      "text/plain": [
       "np.int64(104)"
      ]
     },
     "execution_count": 15,
     "metadata": {},
     "output_type": "execute_result"
    }
   ],
   "source": [
    "df['transaction'].isnull().sum()"
   ]
  },
  {
   "cell_type": "code",
   "execution_count": 16,
   "id": "34669800-02e9-423c-8f81-ca2462f8a81b",
   "metadata": {},
   "outputs": [],
   "source": [
    "mode_transaction = df['transaction'].mode()[0]\n",
    "df['transaction'] = df['transaction'].fillna(mode_transaction)"
   ]
  },
  {
   "cell_type": "code",
   "execution_count": 17,
   "id": "a19aae46-9de8-47ec-8ef2-b302819b7cbc",
   "metadata": {},
   "outputs": [
    {
     "data": {
      "text/plain": [
       "np.int64(0)"
      ]
     },
     "execution_count": 17,
     "metadata": {},
     "output_type": "execute_result"
    }
   ],
   "source": [
    "df['transaction'].isnull().sum()"
   ]
  },
  {
   "cell_type": "code",
   "execution_count": 18,
   "id": "84724da0-bb55-4fd9-9cf3-90e0056d5b88",
   "metadata": {},
   "outputs": [
    {
     "data": {
      "text/plain": [
       "(4525, 10)"
      ]
     },
     "execution_count": 18,
     "metadata": {},
     "output_type": "execute_result"
    }
   ],
   "source": [
    "df.shape"
   ]
  },
  {
   "cell_type": "code",
   "execution_count": 19,
   "id": "d72b45ee-ab6f-4078-8c2b-dd373401b515",
   "metadata": {},
   "outputs": [
    {
     "data": {
      "text/html": [
       "<div>\n",
       "<style scoped>\n",
       "    .dataframe tbody tr th:only-of-type {\n",
       "        vertical-align: middle;\n",
       "    }\n",
       "\n",
       "    .dataframe tbody tr th {\n",
       "        vertical-align: top;\n",
       "    }\n",
       "\n",
       "    .dataframe thead th {\n",
       "        text-align: right;\n",
       "    }\n",
       "</style>\n",
       "<table border=\"1\" class=\"dataframe\">\n",
       "  <thead>\n",
       "    <tr style=\"text-align: right;\">\n",
       "      <th></th>\n",
       "      <th>property_name</th>\n",
       "      <th>areaWithType</th>\n",
       "      <th>square_feet</th>\n",
       "      <th>transaction</th>\n",
       "      <th>status</th>\n",
       "      <th>floor</th>\n",
       "      <th>furnishing</th>\n",
       "      <th>facing</th>\n",
       "      <th>price_per_sqft</th>\n",
       "      <th>price</th>\n",
       "    </tr>\n",
       "  </thead>\n",
       "  <tbody>\n",
       "    <tr>\n",
       "      <th>0</th>\n",
       "      <td>2 BHK Apartment for Sale in Dindoli Surat</td>\n",
       "      <td>1</td>\n",
       "      <td>644.0</td>\n",
       "      <td>New Property</td>\n",
       "      <td>Poss. by Oct '24</td>\n",
       "      <td>5 out of 10</td>\n",
       "      <td>Unfurnished</td>\n",
       "      <td>West</td>\n",
       "      <td>₹2,891 per sqft</td>\n",
       "      <td>₹33.8 Lac</td>\n",
       "    </tr>\n",
       "    <tr>\n",
       "      <th>1</th>\n",
       "      <td>2 BHK Apartment for Sale in Althan Surat</td>\n",
       "      <td>4</td>\n",
       "      <td>1278.0</td>\n",
       "      <td>New Property</td>\n",
       "      <td>Poss. by Jan '26</td>\n",
       "      <td>6 out of 14</td>\n",
       "      <td>Unfurnished</td>\n",
       "      <td>South -West</td>\n",
       "      <td>₹3,551 per sqft</td>\n",
       "      <td>₹45.4 Lac</td>\n",
       "    </tr>\n",
       "    <tr>\n",
       "      <th>2</th>\n",
       "      <td>2 BHK Apartment for Sale in Pal Gam Surat</td>\n",
       "      <td>4</td>\n",
       "      <td>1173.0</td>\n",
       "      <td>Resale</td>\n",
       "      <td>Ready to Move</td>\n",
       "      <td>5 out of 13</td>\n",
       "      <td>Semi-Furnished</td>\n",
       "      <td>East</td>\n",
       "      <td>₹3,800 per sqft</td>\n",
       "      <td>₹44.6 Lac</td>\n",
       "    </tr>\n",
       "    <tr>\n",
       "      <th>3</th>\n",
       "      <td>2 BHK Apartment for Sale in Jahangirabad Surat</td>\n",
       "      <td>1</td>\n",
       "      <td>700.0</td>\n",
       "      <td>New Property</td>\n",
       "      <td>Ready to Move</td>\n",
       "      <td>6 out of 14</td>\n",
       "      <td>Unfurnished</td>\n",
       "      <td>East</td>\n",
       "      <td>₹3,966 per sqft</td>\n",
       "      <td>₹47 Lac</td>\n",
       "    </tr>\n",
       "    <tr>\n",
       "      <th>4</th>\n",
       "      <td>2 BHK Apartment for Sale in Orchid Fantasia, P...</td>\n",
       "      <td>4</td>\n",
       "      <td>1250.0</td>\n",
       "      <td>Orchid Fantasia</td>\n",
       "      <td>New Property</td>\n",
       "      <td>Unfurnished</td>\n",
       "      <td>2</td>\n",
       "      <td>2</td>\n",
       "      <td>₹3,600 per sqft</td>\n",
       "      <td>₹45 Lac</td>\n",
       "    </tr>\n",
       "  </tbody>\n",
       "</table>\n",
       "</div>"
      ],
      "text/plain": [
       "                                       property_name  areaWithType  \\\n",
       "0          2 BHK Apartment for Sale in Dindoli Surat             1   \n",
       "1           2 BHK Apartment for Sale in Althan Surat             4   \n",
       "2          2 BHK Apartment for Sale in Pal Gam Surat             4   \n",
       "3     2 BHK Apartment for Sale in Jahangirabad Surat             1   \n",
       "4  2 BHK Apartment for Sale in Orchid Fantasia, P...             4   \n",
       "\n",
       "   square_feet      transaction            status        floor  \\\n",
       "0        644.0     New Property  Poss. by Oct '24  5 out of 10   \n",
       "1       1278.0     New Property  Poss. by Jan '26  6 out of 14   \n",
       "2       1173.0           Resale     Ready to Move  5 out of 13   \n",
       "3        700.0     New Property     Ready to Move  6 out of 14   \n",
       "4       1250.0  Orchid Fantasia      New Property  Unfurnished   \n",
       "\n",
       "       furnishing       facing    price_per_sqft       price  \n",
       "0     Unfurnished         West  ₹2,891 per sqft   ₹33.8 Lac   \n",
       "1     Unfurnished  South -West  ₹3,551 per sqft   ₹45.4 Lac   \n",
       "2  Semi-Furnished         East  ₹3,800 per sqft   ₹44.6 Lac   \n",
       "3     Unfurnished         East  ₹3,966 per sqft     ₹47 Lac   \n",
       "4               2            2  ₹3,600 per sqft     ₹45 Lac   "
      ]
     },
     "execution_count": 19,
     "metadata": {},
     "output_type": "execute_result"
    }
   ],
   "source": [
    "df.head(5)"
   ]
  },
  {
   "cell_type": "markdown",
   "id": "485c4fd1-ab21-4080-9981-04d67e529600",
   "metadata": {},
   "source": [
    "## column5 status"
   ]
  },
  {
   "cell_type": "code",
   "execution_count": 20,
   "id": "db00f6bd-f757-4b8c-8c6e-f99e7ff10736",
   "metadata": {},
   "outputs": [
    {
     "data": {
      "text/plain": [
       "np.int64(1)"
      ]
     },
     "execution_count": 20,
     "metadata": {},
     "output_type": "execute_result"
    }
   ],
   "source": [
    "df['status'].isnull().sum()"
   ]
  },
  {
   "cell_type": "code",
   "execution_count": 21,
   "id": "1d691b60-d386-48f9-8dbf-cf6c969c147a",
   "metadata": {},
   "outputs": [],
   "source": [
    "mode_value = df['status'].mode()[0]\n",
    "df['status'] = df['status'].fillna(mode_value)"
   ]
  },
  {
   "cell_type": "markdown",
   "id": "186285e4-7a03-45d4-bc6b-9b18fcda272b",
   "metadata": {},
   "source": [
    "## column6 floor"
   ]
  },
  {
   "cell_type": "code",
   "execution_count": 22,
   "id": "dbaae752-fe81-4e8e-ba8a-2f967f68ae29",
   "metadata": {},
   "outputs": [
    {
     "data": {
      "text/plain": [
       "array(['5 out of 10', '6 out of 14', '5 out of 13', 'Unfurnished',\n",
       "       'New Property', '7 out of 10', '3 out of 14', '6 out of 13',\n",
       "       '1 out of 1', '1 out of 13', '4 out of 7', '3 out of 3',\n",
       "       '2 out of 6', '3 out of 5', '2 out of 5', '3 out of 12',\n",
       "       '5 out of 5', 'Resale', 'Ground out of 1',\n",
       "       'Lower Basement out of 7', '1 out of 5', '7 out of 14',\n",
       "       '9 out of 14', '5 out of 12', '7 out of 13', '1 out of 2',\n",
       "       '2 out of 10', 'Freehold', '12 out of 14', '10 out of 14',\n",
       "       '2 out of 12', '1 out of 4', '13 out of 14', '4 out of 14',\n",
       "       '6 out of 10', '2 out of 4', '3 out of 4', '9 out of 13',\n",
       "       'Upper Basement out of 5', '3 out of 10', '1 out of 3',\n",
       "       '4 out of 4', 'Ground out of 2', 'Lower Basement out of 2',\n",
       "       'Ground out of 4', nan, 'Ground out of 5', '4 out of 10',\n",
       "       'Ground out of 14', 'Ground out of 6', '5 out of 6', '8 out of 9',\n",
       "       '4 out of 5', '2 out of 7', '7 out of 7', 'Ground out of 3',\n",
       "       '4 out of 8', '8 out of 14', '6 out of 7', '7 out of 11',\n",
       "       'Upper Basement out of 4', 'Furnished', 'Congo', '3', '2 out of 3',\n",
       "       '1 out of 7', 'Ground', '1 out of 6', '9 out of 11',\n",
       "       '14 out of 14', '5 out of 14', '1 out of 8', '5 out of 7',\n",
       "       '8 out of 12', 'Ground out of 10', '2 out of 2', '7 out of 12',\n",
       "       '3 out of 6', '1 out of 12', '16 out of 19', '13 out of 13',\n",
       "       '6 out of 8', '8 out of 8', '3 out of 9', '11 out of 12',\n",
       "       '6 out of 12', '8 out of 13', '11 out of 11', '4 out of 6', '1',\n",
       "       '2 out of 13', '1 out of 9', '1 out of 10',\n",
       "       'Upper Basement out of 14', '2', '5 out of 8', '10 out of 12',\n",
       "       '3 out of 7', '6 out of 9', '4 out of 13', '11 out of 15', 'No',\n",
       "       '10 out of 10', 'Ground out of 7', '3 out of 11', 'Yes',\n",
       "       'Lower Basement out of 59', '6 out of 11', '4 out of 15',\n",
       "       'Semi-Furnished', '11 out of 13', 'Lower Basement out of 4',\n",
       "       'Upper Basement out of 12', 'Upper Basement out of 1',\n",
       "       '10 out of 13', '7 out of 9', '4 out of 9', '3 out of 8',\n",
       "       'Lower Basement out of 5', '4 out of 12', '10 out of 11',\n",
       "       'Ground out of 11', '7 out of 8', 'Other', '1 out of 11',\n",
       "       '9 out of 10', '5 out of 11', 'Lower Basement out of 6',\n",
       "       '9 out of 9', 'Ground out of 13', '2 out of 8',\n",
       "       'The Polaris Avenue', '4 out of 11', '12 out of 13', '8 out of 10',\n",
       "       '4 out of 19', '11 out of 14', '5 out of 15', '15 out of 19',\n",
       "       '3 out of 13', 'Co-operative Society', '9 out of 12',\n",
       "       '7 out of 19', '2 out of 14', '10 out of 19',\n",
       "       'Lower Basement out of 14', '6 out of 15', '6 out of 19',\n",
       "       '2 out of 11', '9 out of 19', '9 out of 15', '18 out of 19',\n",
       "       '1 out of 30', '1 out of 15', '10 out of 20', '13 out of 15',\n",
       "       '1 out of 14', '20 out of 21', '8 out of 19', 'Om Residency',\n",
       "       '8 out of 11', '7 out of 15', '5 out of 9', '12 out of 12',\n",
       "       '11 out of 20', '2 out of 9', '14 out of 15', '15 out of 21',\n",
       "       '12 out of 15', '15 out of 15', '8 out of 15', '10 out of 15',\n",
       "       '13 out of 19', '10 out of 21', '3 out of 15', '14 out of 19',\n",
       "       '2 out of 15', '9 out of 20', '8 out of 20', '18 out of 21',\n",
       "       'Ground out of 8', '6 out of 6', 'Milestone Regalia',\n",
       "       '5 out of 20', '15 out of 18', '5 out of 19', '5 out of 16',\n",
       "       '17 out of 20', '5 out of 18', '15 out of 20',\n",
       "       'Lower Basement out of 1', '10 out of 18', '7 out of 20',\n",
       "       '17 out of 18', '7 out of 17', '5', '9 out of 25', '6 out of 20',\n",
       "       '6 out of 18', 'Upper Basement out of 3', '4 out of 18',\n",
       "       '9 out of 21', '4 out of 21', '19 out of 19', '17 out of 19',\n",
       "       '7 out of 18', '20 out of 20', '4 out of 20', '9 out of 18',\n",
       "       'Ground out of 12', '3 out of 18', 'Ground out of 19',\n",
       "       '16 out of 20', '2 out of 19', '16 out of 18', '12 out of 19',\n",
       "       '3 out of 19', '3 out of 20', '1 out of 20', '2 out of 17',\n",
       "       '9 out of 17', '14 out of 20', '1 out of 18'], dtype=object)"
      ]
     },
     "execution_count": 22,
     "metadata": {},
     "output_type": "execute_result"
    }
   ],
   "source": [
    "df['floor'].unique()"
   ]
  },
  {
   "cell_type": "code",
   "execution_count": 23,
   "id": "4ceebc54-6941-43aa-8109-dbc604f78504",
   "metadata": {},
   "outputs": [],
   "source": [
    "df['floor'] = df['floor'].astype(str).replace({\n",
    "    'Ground out of': '0 out of',\n",
    "    'Lower Basement out of': '-1 out of',\n",
    "    'Upper Basement out of': '-2 out of'\n",
    "}, regex=True)\n",
    "\n",
    "df['floor'] = df['floor'].str.extract(r'(\\-?\\d+)\\s+out of\\s+\\d+')[0]\n",
    "\n",
    "df['floor'] = df['floor'].astype(float)"
   ]
  },
  {
   "cell_type": "code",
   "execution_count": 24,
   "id": "2611afac-5bbd-4a1a-976e-fe2d2bd0d5f3",
   "metadata": {},
   "outputs": [
    {
     "data": {
      "text/plain": [
       "array([ 5.,  6., nan,  7.,  3.,  1.,  4.,  2.,  0., -1.,  9., 12., 10.,\n",
       "       13., -2.,  8., 14., 16., 11., 15., 18., 20., 17., 19.])"
      ]
     },
     "execution_count": 24,
     "metadata": {},
     "output_type": "execute_result"
    }
   ],
   "source": [
    "df['floor'].unique()"
   ]
  },
  {
   "cell_type": "code",
   "execution_count": 25,
   "id": "7325e716-ac94-40ca-bd3e-f483fc69ea75",
   "metadata": {},
   "outputs": [],
   "source": [
    "mode_value = df['floor'].mode()[0]\n",
    "df['floor'] = df['floor'].fillna(mode_value)"
   ]
  },
  {
   "cell_type": "code",
   "execution_count": 26,
   "id": "9e681f4d-6e65-4e6c-9783-95526bdc5449",
   "metadata": {},
   "outputs": [
    {
     "data": {
      "text/plain": [
       "np.int64(0)"
      ]
     },
     "execution_count": 26,
     "metadata": {},
     "output_type": "execute_result"
    }
   ],
   "source": [
    "df['floor'].isnull().sum()"
   ]
  },
  {
   "cell_type": "code",
   "execution_count": 27,
   "id": "df934116-5528-4e6f-b594-da3c1402a10d",
   "metadata": {},
   "outputs": [
    {
     "data": {
      "text/plain": [
       "property_name      object\n",
       "areaWithType        int64\n",
       "square_feet       float64\n",
       "transaction        object\n",
       "status             object\n",
       "floor             float64\n",
       "furnishing         object\n",
       "facing             object\n",
       "price_per_sqft     object\n",
       "price              object\n",
       "dtype: object"
      ]
     },
     "execution_count": 27,
     "metadata": {},
     "output_type": "execute_result"
    }
   ],
   "source": [
    "df.dtypes"
   ]
  },
  {
   "cell_type": "code",
   "execution_count": 28,
   "id": "f0b8da93-2301-4fbe-ba02-38c66414df04",
   "metadata": {},
   "outputs": [
    {
     "data": {
      "text/plain": [
       "(4525, 10)"
      ]
     },
     "execution_count": 28,
     "metadata": {},
     "output_type": "execute_result"
    }
   ],
   "source": [
    "df.shape"
   ]
  },
  {
   "cell_type": "markdown",
   "id": "46ff7845-e314-464e-9827-2a3b69318d30",
   "metadata": {},
   "source": [
    "## column7 furnishing"
   ]
  },
  {
   "cell_type": "code",
   "execution_count": 29,
   "id": "b3dd4e3d-7850-4791-a73a-65afda29f8fa",
   "metadata": {},
   "outputs": [
    {
     "data": {
      "text/plain": [
       "array(['Unfurnished', 'Semi-Furnished', '2', 'Anand Aspire', 'East', '1',\n",
       "       'Furnished', nan, '3', '1 Covered,', '2 Covered', '1 Covered',\n",
       "       'Freehold', 'West', '26 Covered', 'Main Road', 'No', 'North',\n",
       "       '1 Open', '6', 'Co-operative Society', '> 10', '4',\n",
       "       'Nilkanth Seven Homes', 'Aagam Navkar', '10 Open',\n",
       "       'Vinayak Enclave', '5 Covered,', 'South -West',\n",
       "       'Pool, Garden/Park, Main Road', 'Garden/Park, Main Road', '7 m',\n",
       "       '30 m', '50 Covered,', 'South', '12 m', 'Yes', 'Gruham Luxuria',\n",
       "       '2 Covered,', 'Congo', 'Prayosha Shine', 'North - East',\n",
       "       'Vaishnodevi Ideal Homes', 'Santvan Lexon', 'Sangini Epitome',\n",
       "       '100 Covered', 'Nirvana Gladiolus', '7', '5 Covered', '5',\n",
       "       'Raghuvir Spalex', '50 Open', 'South - East', 'North - West',\n",
       "       '20 m', '20 Open', 'Garden/Park', '10 m', 'Sattvam',\n",
       "       'Pramukh Amaya', 'Sun Sarvam', '3 Covered', '2 Open', '6 m',\n",
       "       'Avadh Kimberly', 'Happy Glorious', 'DMD Aura', 'Freedom Tower',\n",
       "       '15 m', 'Surya Signature', 'Someshwara Enclave',\n",
       "       'Green Valley Row House', 'Green Valley', 'Vatsalya Bungalows',\n",
       "       'DMD Signus', '10 Covered,', 'Ambience', 'Milestone Pristine',\n",
       "       'Bblossom The Presidency'], dtype=object)"
      ]
     },
     "execution_count": 29,
     "metadata": {},
     "output_type": "execute_result"
    }
   ],
   "source": [
    "df['furnishing'].unique()"
   ]
  },
  {
   "cell_type": "code",
   "execution_count": 30,
   "id": "57dd7fed-17df-42bc-8c08-3cff1587fe98",
   "metadata": {},
   "outputs": [],
   "source": [
    "mode_value = df['furnishing'].mode()[0]\n",
    "df['furnishing'] = df['furnishing'].fillna(mode_value)"
   ]
  },
  {
   "cell_type": "markdown",
   "id": "0389e2f8-4e85-4425-936b-8f2b292788d4",
   "metadata": {},
   "source": [
    "## column8 facing"
   ]
  },
  {
   "cell_type": "code",
   "execution_count": 31,
   "id": "e1bb276e-d6bb-4931-90ee-69eee9869444",
   "metadata": {},
   "outputs": [
    {
     "data": {
      "text/plain": [
       "array(['West', 'South -West', 'East', '2', 'Main Road', nan,\n",
       "       'North - East', 'South - East', '1', 'Freehold', 'Garden/Park',\n",
       "       '3', 'North - West', 'South', '6', 'Co-operative Society',\n",
       "       'Garden/Park, Main Road', '1 Covered', 'No', '30 m', 'North',\n",
       "       'Varni Siddheshwar Heights', '5', 'Salasar Icon', 'Green Valley',\n",
       "       'Shyam enclave', 'Rajhans Platinum', 'Vitthal Bunglows', '1 Open',\n",
       "       'Royal Nest', 'Rajhans Wings', '2 Open',\n",
       "       'Gordhan Green Valley Mangalam Park Bldg S',\n",
       "       'Apt Swaminagar Society', 'Swagat Clifton', 'Akash',\n",
       "       'Green Arcade Phase 1 And 2', 'Satyam Tower', '4',\n",
       "       'Suryanjali Residency', 'GHB Mukhya Mantri Gruh Yojana',\n",
       "       'Vibrant Eco Park', 'Madhav Residency', 'Shiv Drashti Residency',\n",
       "       'Gruham Luxuria', 'SHANKHESHWER COMPLAX', 'JT Stuti Highland',\n",
       "       'Times Galaxy', '100 m', 'Savani Prayosha Pride',\n",
       "       'Shayona Janki Residency', 'Sundaram Residency', '6 m',\n",
       "       'Silicon Palm', 'Raj Abhishek City Homes',\n",
       "       'Dhvani Royal Residency', 'Residency', 'Pan Sharanam',\n",
       "       'Gruham Royal Park', 'Rajhans Swapna', 'Panchtatva Residency',\n",
       "       'Manvay Residency', 'Prayosha Shine', 'Yes',\n",
       "       'Swapna Villa 2 Phase 2', 'Green City', 'Rajhans Apple',\n",
       "       'Sai Residency', 'Anjani Enclave', 'Shakuntal Complex',\n",
       "       '2 Covered', 'Galaxy Imperia', 'Pool, Garden/Park, Main Road',\n",
       "       'Silver Plaza Complex', 'Swami Twin City 5', 'Majura Gate Surat',\n",
       "       'Orchid Greens', 'Aditya Vrundavan Heights', 'Pool', '900 m',\n",
       "       'Vaishnodevi Amour Jahagirabad', 'Shantam Apartment',\n",
       "       'Siddhi Vinayak Green', '20 m', 'Ambika Heaven', '10 m',\n",
       "       'MD Om Palace', 'Global City', 'Maa Krupa Residency Society',\n",
       "       'Man Sarovar Residency and Plaza', 'Bella Casaa',\n",
       "       'Shree Tirupati Balaji Town', 'Aagam Navkar', 'Omkar Residency',\n",
       "       'Nova Complex', '25 m', 'Amber Palace', '1 Covered,',\n",
       "       'Vaishnodevi Ideal Homes', '7 m', '45 X 14 ft Sqft',\n",
       "       'Santvan Lexon', 'Atlanta Sky Desk', 'Nakshatra Platinum',\n",
       "       'Siddhi Vinayak Heights', 'Coral Heights', 'Aakash Homes',\n",
       "       'Nandini 3', 'Sundaram Status', 'Happy Elegance',\n",
       "       'Dream World Residency', 'Raghuvir Saffron',\n",
       "       'Vasant Vihar Township', 'Kalpavruksha Garden', 'Ashirwad Enclave',\n",
       "       'Jolly Residency', '9', 'Stylome Heights', 'Marvella Residency',\n",
       "       'Meera Avenue', 'Garden/Park, Pool', 'Rajhans Orange',\n",
       "       'Rajhans Synfonia', 'Sat Aria', 'Lake Castle',\n",
       "       'Raghuvir Sentosa Heights', 'Shalibhadra Complex',\n",
       "       'Shiv Shrungal Solitaire', 'Sangini Gardenia', 'Green Leaf',\n",
       "       'Pooja Aagam Cross Roads', '7', 'Nakshatra Nebula', 'Peak Living',\n",
       "       'Prasidhi Apartment', 'Nandini 1', 'Soham Residency',\n",
       "       'Pool, Garden/Park', 'Shreepad Ethics', '15 m', '12 m',\n",
       "       'Eco Parkside', 'Garden/Park, Pool, Main Road', '2 m',\n",
       "       'Santvan Seron', 'Nakshatra Galaxia', '150 m', 'Oliva Height',\n",
       "       'Mahaveer Nagar', '4 m', 'Shreepad Infinia', 'Bilvam Regency',\n",
       "       'Palladium Sky', '3 Covered', 'Prestige manor', 'Green City Gold',\n",
       "       'Meera Park', 'Aagam Paramount', 'Sumeru Golden Leaf',\n",
       "       'Avadh Shangrila', '45 X', 'Rajhans Cremona',\n",
       "       'Atithi Western Oasis', 'Harmony', 'Cellestial Dreams',\n",
       "       'Nandanvan III', 'aventis ofira', 'Samarth Enclave',\n",
       "       'Happy Home Capital Greens', 'Shaligram The Emerald', '135 X',\n",
       "       '131 X', 'Vesu Point', '8 m', '1 m', 'Power Of Attorney',\n",
       "       '20275 m'], dtype=object)"
      ]
     },
     "execution_count": 31,
     "metadata": {},
     "output_type": "execute_result"
    }
   ],
   "source": [
    "df['facing'].unique()"
   ]
  },
  {
   "cell_type": "code",
   "execution_count": 32,
   "id": "0572eac9-570d-412f-aa68-6c40f4a13272",
   "metadata": {},
   "outputs": [
    {
     "data": {
      "text/plain": [
       "np.int64(589)"
      ]
     },
     "execution_count": 32,
     "metadata": {},
     "output_type": "execute_result"
    }
   ],
   "source": [
    "df['facing'].isnull().sum()"
   ]
  },
  {
   "cell_type": "code",
   "execution_count": 33,
   "id": "b62aa2ab-ee49-4306-896a-bef3734fffb2",
   "metadata": {},
   "outputs": [],
   "source": [
    "mode_value = df['facing'].mode()[0]\n",
    "df['facing'] = df['facing'].fillna(mode_value)"
   ]
  },
  {
   "cell_type": "code",
   "execution_count": 34,
   "id": "50f3cdf7-a426-42ee-8cf9-2e02342c74d8",
   "metadata": {},
   "outputs": [
    {
     "data": {
      "text/plain": [
       "np.int64(0)"
      ]
     },
     "execution_count": 34,
     "metadata": {},
     "output_type": "execute_result"
    }
   ],
   "source": [
    "df['facing'].isnull().sum()"
   ]
  },
  {
   "cell_type": "markdown",
   "id": "78d318be-894c-4436-a974-12419997062d",
   "metadata": {},
   "source": [
    "## column10 price_per_sqft"
   ]
  },
  {
   "cell_type": "code",
   "execution_count": 35,
   "id": "7ab446ea-7f91-4624-b47a-0e355bb979eb",
   "metadata": {},
   "outputs": [
    {
     "data": {
      "text/plain": [
       "array(['₹2,891 per sqft ', '₹3,551 per sqft ', '₹3,800 per sqft ', ...,\n",
       "       '₹8,512 per sqft ', '₹8,200 per sqft ', '₹5,756 per sqft '],\n",
       "      dtype=object)"
      ]
     },
     "execution_count": 35,
     "metadata": {},
     "output_type": "execute_result"
    }
   ],
   "source": [
    "df['price_per_sqft'].unique()"
   ]
  },
  {
   "cell_type": "code",
   "execution_count": 36,
   "id": "8b84dce8-40ad-4dd6-b68f-12d66e693c17",
   "metadata": {},
   "outputs": [],
   "source": [
    "df['price_per_sqft'] = df['price_per_sqft'].str.replace('₹', '', regex=False) \\\n",
    "                                           .str.replace('per sqft', '', regex=False) \\\n",
    "                                           .str.strip() \\\n",
    "                                           .str.replace(',', '', regex=False)\n",
    "\n",
    "df['price_per_sqft'] = df['price_per_sqft'].astype(float)"
   ]
  },
  {
   "cell_type": "code",
   "execution_count": 37,
   "id": "d56a611c-466d-4ccf-84d9-70df7cd5d298",
   "metadata": {
    "scrolled": true
   },
   "outputs": [
    {
     "data": {
      "text/plain": [
       "np.int64(368)"
      ]
     },
     "execution_count": 37,
     "metadata": {},
     "output_type": "execute_result"
    }
   ],
   "source": [
    "df['price_per_sqft'].isnull().sum()"
   ]
  },
  {
   "cell_type": "code",
   "execution_count": 38,
   "id": "64353e63-0a8e-41d0-afdc-f9239896f42d",
   "metadata": {},
   "outputs": [],
   "source": [
    "mean_value = df['price_per_sqft'].mean()\n",
    "\n",
    "df['price_per_sqft'] = df['price_per_sqft'].fillna(mean_value)"
   ]
  },
  {
   "cell_type": "code",
   "execution_count": null,
   "id": "8e496e0b-33d1-4220-8ee9-f1aa49399b52",
   "metadata": {},
   "outputs": [],
   "source": []
  },
  {
   "cell_type": "code",
   "execution_count": 39,
   "id": "c465ce29-c981-4f91-867e-d5dcac0bcefa",
   "metadata": {},
   "outputs": [
    {
     "data": {
      "text/plain": [
       "(4525, 10)"
      ]
     },
     "execution_count": 39,
     "metadata": {},
     "output_type": "execute_result"
    }
   ],
   "source": [
    "df.shape"
   ]
  },
  {
   "cell_type": "markdown",
   "id": "6b7d6c96-23e2-4aaa-899c-c31a90925369",
   "metadata": {},
   "source": [
    "## column11 price"
   ]
  },
  {
   "cell_type": "code",
   "execution_count": 40,
   "id": "cef810f3-cd1b-4f2a-87b0-e9dea429f089",
   "metadata": {},
   "outputs": [
    {
     "data": {
      "text/plain": [
       "array(['₹33.8 Lac ', '₹45.4 Lac ', '₹44.6 Lac ', '₹47 Lac ', '₹45 Lac ',\n",
       "       '₹43.2 Lac ', '₹42.1 Lac ', '₹44.1 Lac ', '₹44.3 Lac ', '₹40 Lac ',\n",
       "       '₹44 Lac ', '₹12.5 Lac ', '₹50 Lac ', '₹35.8 Lac ', '₹26.5 Lac ',\n",
       "       '₹42 Lac ', '₹43 Lac ', '₹20 Lac ', '₹37 Lac ', '₹29 Lac ',\n",
       "       '₹38 Lac ', '₹13 Lac ', '₹46.5 Lac ', '₹41.6 Lac ', '₹33.5 Lac ',\n",
       "       '₹42.5 Lac ', '₹48 Lac ', '₹32 Lac ', '₹35 Lac ', '₹46.2 Lac ',\n",
       "       '₹38.5 Lac ', '₹23 Lac ', '₹24 Lac ', '₹28 Lac ', '₹35.7 Lac ',\n",
       "       '₹36.5 Lac ', '₹36 Lac ', '₹43.6 Lac ', '₹25 Lac ', '₹41 Lac ',\n",
       "       '₹28.5 Lac ', '₹9 Lac ', '₹30 Lac ', '₹39.5 Lac ', '₹21.5 Lac ',\n",
       "       '₹10.5 Lac ', '₹18 Lac ', '₹10 Lac ', '₹23.5 Lac ', '₹16.3 Lac ',\n",
       "       '₹13.5 Lac ', '₹49 Lac ', '₹21 Lac ', '₹39 Lac ', '₹16 Lac ',\n",
       "       '₹27 Lac ', '₹15 Lac ', '₹39.9 Lac ', '₹7.5 Lac ', '₹12.8 Lac ',\n",
       "       '₹9.5 Lac ', '₹31.5 Lac ', '₹46 Lac ', '₹6 Lac ', '₹34 Lac ',\n",
       "       '₹22 Lac ', '₹19 Lac ', '₹8.5 Lac ', '₹11 Lac ', '₹16.5 Lac ',\n",
       "       '₹17 Lac ', '₹14 Lac ', '₹33 Lac ', '₹20.5 Lac ', '₹21.7 Lac ',\n",
       "       '₹27.5 Lac ', '₹12 Lac ', '₹26 Lac ', '₹7.7 Lac ', '₹44.8 Lac ',\n",
       "       '₹34.9 Lac ', '₹19.5 Lac ', '₹18.5 Lac ', '₹48.5 Lac ',\n",
       "       '₹49.9 Lac ', '₹26.7 Lac ', '₹18.2 Lac ', '₹24.5 Lac ',\n",
       "       '₹46.1 Lac ', '₹14.2 Lac ', '₹47.5 Lac ', '₹9.3 Lac ', '₹5 Lac ',\n",
       "       '₹8.9 Lac ', '₹14.5 Lac ', '₹37.6 Lac ', '₹25.5 Lac ',\n",
       "       '₹29.5 Lac ', '₹1.5 Lac ', '₹26.8 Lac ', '₹31 Lac ', '₹22.5 Lac ',\n",
       "       '₹24.9 Lac ', '₹40.4 Lac ', '₹15.3 Lac ', '₹7 Lac ', '₹32.5 Lac ',\n",
       "       '₹1 Lac ', '₹43.8 Lac ', '₹14.4 Lac ', '₹10.3 Lac ', '₹40.5 Lac ',\n",
       "       '₹34.8 Lac ', '₹39.8 Lac ', '₹25.8 Lac ', '₹3.5 Lac ',\n",
       "       '₹21.3 Lac ', '₹8 Lac ', '₹38.1 Lac ', '₹15.5 Lac ', '₹25.1 Lac ',\n",
       "       '₹37.9 Lac ', '₹29.1 Lac ', '₹1.3 Lac ', '₹18.4 Lac ',\n",
       "       '₹14.1 Lac ', '₹29.9 Lac ', '₹45.2 Lac ', '₹37.5 Lac ',\n",
       "       '₹32.7 Lac ', '₹17.5 Lac ', '₹48.8 Lac ', '₹23.2 Lac ',\n",
       "       '₹4.5 Lac ', '₹25.2 Lac ', '₹27.2 Lac ', 'Call for Price',\n",
       "       '₹39.7 Lac ', '₹43.7 Lac ', '₹49.5 Lac ', '₹2 Lac ', '₹46.9 Lac ',\n",
       "       '₹19.8 Lac ', '₹26.9 Lac ', '₹21.6 Lac ', '₹33.9 Lac ',\n",
       "       '₹34.7 Lac ', '₹44.5 Lac ', '₹41.3 Lac ', '₹48.6 Lac ',\n",
       "       '₹45.5 Lac ', '₹49.3 Lac ', '₹43.1 Lac ', '₹46.4 Lac ',\n",
       "       '₹42.2 Lac ', '₹34.5 Lac ', '₹28.2 Lac ', '₹42.8 Lac ',\n",
       "       '₹45.3 Lac ', '₹34.4 Lac ', '₹30.5 Lac ', '₹44.2 Lac ',\n",
       "       '₹48.2 Lac ', '₹49.7 Lac ', '₹47.8 Lac ', '₹34.6 Lac ',\n",
       "       '₹49.1 Lac ', '₹35.3 Lac ', '₹45.1 Lac ', '₹41.5 Lac ',\n",
       "       '₹26.4 Lac ', '₹37.2 Lac ', '₹46.3 Lac ', '₹30.4 Lac ',\n",
       "       '₹47.1 Lac ', '₹41.7 Lac ', '₹33.4 Lac ', '₹40.7 Lac ',\n",
       "       '₹36.8 Lac ', '₹42.7 Lac ', '₹30.6 Lac ', '₹43.4 Lac ',\n",
       "       '₹38.7 Lac ', '₹33.2 Lac ', '₹34.3 Lac ', '₹39.2 Lac ',\n",
       "       '₹43.9 Lac ', '₹35.2 Lac ', '₹31.6 Lac ', '₹41.1 Lac ',\n",
       "       '₹44.9 Lac ', '₹25.9 Lac ', '₹42.3 Lac ', '₹25.3 Lac ',\n",
       "       '₹36.1 Lac ', '₹25.7 Lac ', '₹45.6 Lac ', '₹35.1 Lac ',\n",
       "       '₹36.4 Lac ', '₹42.4 Lac ', '₹46.7 Lac ', '₹20.1 Lac ',\n",
       "       '₹34.1 Lac ', '₹16.4 Lac ', '₹43.5 Lac ', '₹19.9 Lac ',\n",
       "       '₹38.2 Lac ', '₹35.5 Lac ', '₹67.7 Lac ', '₹55.6 Lac ', '₹98 Lac ',\n",
       "       '₹62.2 Lac ', '₹69.4 Lac ', '₹70 Lac ', '₹56.5 Lac ', '₹57.4 Lac ',\n",
       "       '₹92.9 Lac ', '₹57.1 Lac ', '₹55.7 Lac ', '₹79.1 Lac ',\n",
       "       '₹65.2 Lac ', '₹80.5 Lac ', '₹90 Lac ', '₹75 Lac ', '₹52 Lac ',\n",
       "       '₹75.4 Lac ', '₹74.5 Lac ', '₹69.3 Lac ', '₹60 Lac ', '₹67.5 Lac ',\n",
       "       '₹51.5 Lac ', '₹67.4 Lac ', '₹55 Lac ', '₹50.3 Lac ', '₹66.3 Lac ',\n",
       "       '₹80 Lac ', '₹1 Cr ', '₹50.6 Lac ', '₹61 Lac ', '₹51 Lac ',\n",
       "       '₹50.8 Lac ', '₹79 Lac ', '₹91 Lac ', '₹84.5 Lac ', '₹54 Lac ',\n",
       "       '₹53.2 Lac ', '₹52.4 Lac ', '₹72 Lac ', '₹99 Lac ', '₹56 Lac ',\n",
       "       '₹85 Lac ', '₹83.1 Lac ', '₹51.9 Lac ', '₹57 Lac ', '₹81 Lac ',\n",
       "       '₹74 Lac ', '₹78.5 Lac ', '₹65 Lac ', '₹66.1 Lac ', '₹68 Lac ',\n",
       "       '₹58 Lac ', '₹86 Lac ', '₹53.5 Lac ', '₹83 Lac ', '₹82 Lac ',\n",
       "       '₹95 Lac ', '₹78 Lac ', '₹72.5 Lac ', '₹66.6 Lac ', '₹51.7 Lac ',\n",
       "       '₹90.7 Lac ', '₹84 Lac ', '₹75.5 Lac ', '₹63 Lac ', '₹53 Lac ',\n",
       "       '₹91.8 Lac ', '₹58.5 Lac ', '₹55.5 Lac ', '₹77 Lac ', '₹88 Lac ',\n",
       "       '₹62 Lac ', '₹97 Lac ', '₹63.8 Lac ', '₹97.4 Lac ', '₹92 Lac ',\n",
       "       '₹67 Lac ', '₹71 Lac ', '₹87 Lac ', '₹78.7 Lac ', '₹50.1 Lac ',\n",
       "       '₹50.4 Lac ', '₹68.3 Lac ', '₹99.5 Lac ', '₹76 Lac ', '₹59.5 Lac ',\n",
       "       '₹96 Lac ', '₹99.8 Lac ', '₹56.8 Lac ', '₹79.4 Lac ', '₹93 Lac ',\n",
       "       '₹89 Lac ', '₹54.5 Lac ', '₹96.5 Lac ', '₹85.4 Lac ', '₹79.2 Lac ',\n",
       "       '₹94 Lac ', '₹58.2 Lac ', '₹59.9 Lac ', '₹61.6 Lac ', '₹60.5 Lac ',\n",
       "       '₹82.5 Lac ', '₹75.7 Lac ', '₹56.2 Lac ', '₹99.6 Lac ',\n",
       "       '₹58.8 Lac ', '₹59.2 Lac ', '₹74.4 Lac ', '₹56.1 Lac ',\n",
       "       '₹86.7 Lac ', '₹53.1 Lac ', '₹90.8 Lac ', '₹50.5 Lac ',\n",
       "       '₹75.3 Lac ', '₹59 Lac ', '₹58.4 Lac ', '₹85.1 Lac ', '₹79.9 Lac ',\n",
       "       '₹68.2 Lac ', '₹51.8 Lac ', '₹64.4 Lac ', '₹64 Lac ', '₹56.4 Lac ',\n",
       "       '₹76.2 Lac ', '₹100 Lac ', '₹88.5 Lac ', '₹98.1 Lac ',\n",
       "       '₹76.6 Lac ', '₹87.4 Lac ', '₹71.5 Lac ', '₹84.7 Lac ',\n",
       "       '₹60.2 Lac ', '₹64.6 Lac ', '₹80.3 Lac ', '₹89.7 Lac ', '₹66 Lac ',\n",
       "       '₹67.3 Lac ', '₹76.4 Lac ', '₹73 Lac ', '₹77.8 Lac ', '₹76.8 Lac ',\n",
       "       '₹86.5 Lac ', '₹62.8 Lac ', '₹94.3 Lac ', '₹94.8 Lac ',\n",
       "       '₹71.9 Lac ', '₹72.1 Lac ', '₹84.8 Lac ', '₹95.2 Lac ',\n",
       "       '₹63.5 Lac ', '₹98.3 Lac ', '₹65.6 Lac ', '₹52.5 Lac ',\n",
       "       '₹62.5 Lac ', '₹65.8 Lac ', '₹50.9 Lac ', '₹74.9 Lac ',\n",
       "       '₹79.3 Lac ', '₹85.5 Lac ', '₹65.4 Lac ', '₹75.9 Lac ',\n",
       "       '₹55.3 Lac ', '₹70.6 Lac ', '₹93.5 Lac ', '₹60.9 Lac ',\n",
       "       '₹91.5 Lac ', '₹59.4 Lac ', '₹86.1 Lac ', '₹61.7 Lac ',\n",
       "       '₹89.8 Lac ', '₹88.6 Lac ', '₹67.8 Lac ', '₹64.7 Lac ',\n",
       "       '₹90.5 Lac ', '₹67.9 Lac ', '₹51.6 Lac ', '₹77.1 Lac ',\n",
       "       '₹62.4 Lac ', '₹74.1 Lac ', '₹58.1 Lac ', '₹58.7 Lac ', '₹69 Lac ',\n",
       "       '₹93.6 Lac ', '₹57.5 Lac ', '₹82.9 Lac ', '₹83.5 Lac ',\n",
       "       '₹79.7 Lac ', '₹90.4 Lac ', '₹70.3 Lac ', '₹54.6 Lac ',\n",
       "       '₹56.7 Lac ', '₹95.5 Lac ', '₹52.6 Lac ', '₹76.5 Lac ',\n",
       "       '₹69.6 Lac ', '₹81.6 Lac ', '₹94.5 Lac ', '₹73.1 Lac ',\n",
       "       '₹71.7 Lac ', '₹75.1 Lac ', '₹55.4 Lac ', '₹88.9 Lac ',\n",
       "       '₹88.8 Lac ', '₹77.5 Lac ', '₹59.7 Lac ', '₹89.4 Lac ',\n",
       "       '₹59.8 Lac ', '₹63.7 Lac ', '₹82.1 Lac ', '₹61.9 Lac ',\n",
       "       '₹92.4 Lac ', '₹73.9 Lac ', '₹51.1 Lac ', '₹61.5 Lac ',\n",
       "       '₹65.9 Lac ', '₹70.4 Lac ', '₹56.6 Lac ', '₹62.9 Lac ',\n",
       "       '₹83.8 Lac ', '₹92.8 Lac ', '₹84.6 Lac ', '₹59.1 Lac ',\n",
       "       '₹78.2 Lac ', '₹64.2 Lac ', '₹69.2 Lac ', '₹94.7 Lac ',\n",
       "       '₹58.3 Lac ', '₹70.7 Lac ', '₹97.6 Lac ', '₹75.8 Lac ',\n",
       "       '₹51.2 Lac ', '₹86.9 Lac ', '₹68.4 Lac ', '₹72.8 Lac ',\n",
       "       '₹57.2 Lac ', '₹90.6 Lac ', '₹65.5 Lac ', '₹80.8 Lac ',\n",
       "       '₹62.1 Lac ', '₹69.5 Lac ', '₹92.5 Lac ', '₹62.3 Lac ',\n",
       "       '₹82.8 Lac ', '₹60.8 Lac ', '₹71.1 Lac ', '₹64.3 Lac ',\n",
       "       '₹86.3 Lac ', '₹60.4 Lac ', '₹79.8 Lac ', '₹52.8 Lac ',\n",
       "       '₹61.2 Lac ', '₹60.3 Lac ', '₹77.7 Lac ', '₹53.6 Lac ',\n",
       "       '₹70.8 Lac ', '₹88.1 Lac ', '₹68.9 Lac ', '₹72.4 Lac ',\n",
       "       '₹85.6 Lac ', '₹72.6 Lac ', '₹97.7 Lac ', '₹52.7 Lac ',\n",
       "       '₹84.9 Lac ', '₹98.6 Lac ', '₹78.9 Lac ', '₹72.2 Lac ',\n",
       "       '₹98.4 Lac ', '₹62.6 Lac ', '₹55.1 Lac ', '₹52.1 Lac ',\n",
       "       '₹99.9 Lac ', '₹76.3 Lac ', '₹95.6 Lac ', '₹65.1 Lac ',\n",
       "       '₹81.4 Lac ', '₹74.2 Lac ', '₹65.3 Lac ', '₹92.3 Lac ',\n",
       "       '₹60.6 Lac ', '₹76.9 Lac ', '₹78.1 Lac ', '₹51.3 Lac ',\n",
       "       '₹63.3 Lac ', '₹54.2 Lac ', '₹97.5 Lac ', '₹99.3 Lac ',\n",
       "       '₹54.8 Lac ', '₹73.4 Lac ', '₹64.1 Lac ', '₹63.9 Lac ',\n",
       "       '₹73.5 Lac ', '₹66.5 Lac ', '₹87.5 Lac ', '₹80.2 Lac ',\n",
       "       '₹77.3 Lac ', '₹70.2 Lac ', '₹69.7 Lac ', '₹59.6 Lac ',\n",
       "       '₹83.7 Lac ', '₹71.8 Lac ', '₹65.7 Lac ', '₹78.8 Lac ',\n",
       "       '₹83.4 Lac ', '₹58.9 Lac ', '₹61.3 Lac ', '₹1.49 Cr ', '₹1.12 Cr ',\n",
       "       '₹1.26 Cr ', '₹1.32 Cr ', '₹1.50 Cr ', '₹1.35 Cr ', '₹1.10 Cr ',\n",
       "       '₹1.07 Cr ', '₹1.37 Cr ', '₹1.11 Cr ', '₹1.01 Cr ', '₹1.13 Cr ',\n",
       "       '₹1.39 Cr ', '₹1.15 Cr ', '₹1.05 Cr ', '₹1.30 Cr ', '₹1.20 Cr ',\n",
       "       '₹1.48 Cr ', '₹1.03 Cr ', '₹1.33 Cr ', '₹1.42 Cr ', '₹1.18 Cr ',\n",
       "       '₹1.24 Cr ', '₹1.23 Cr ', '₹1.17 Cr ', '₹1.25 Cr ', '₹1.40 Cr ',\n",
       "       '₹1.28 Cr ', '₹1.22 Cr ', '₹1.31 Cr ', '₹1.09 Cr ', '₹1.45 Cr ',\n",
       "       '₹1.36 Cr ', '₹1.19 Cr ', '₹1.21 Cr ', '₹1.44 Cr ', '₹1.14 Cr ',\n",
       "       '₹1.29 Cr ', '₹1.34 Cr ', '₹1.02 Cr ', '₹1.43 Cr ', '₹1.06 Cr ',\n",
       "       '₹1.47 Cr ', '₹1.04 Cr ', '₹1.41 Cr ', '₹1.46 Cr ', '₹1.27 Cr ',\n",
       "       '₹1.08 Cr ', '₹1.16 Cr ', '₹1.38 Cr ', '₹2.30 Cr ', '₹1.54 Cr ',\n",
       "       '₹2.84 Cr ', '₹2.52 Cr ', '₹2.19 Cr ', '₹7 Cr ', '₹2.80 Cr ',\n",
       "       '₹3.45 Cr ', '₹1.80 Cr ', '₹1.62 Cr ', '₹2 Cr ', '₹2.25 Cr ',\n",
       "       '₹7.50 Cr ', '₹1.70 Cr ', '₹10 Cr ', '₹2.47 Cr ', '₹1.60 Cr ',\n",
       "       '₹1.65 Cr ', '₹3.50 Cr ', '₹2.85 Cr ', '₹3.65 Cr ', '₹12.93 Cr ',\n",
       "       '₹1.63 Cr ', '₹5.50 Cr ', '₹2.61 Cr ', '₹3.20 Cr ', '₹1.61 Cr ',\n",
       "       '₹1.72 Cr ', '₹4 Cr ', '₹9 Cr ', '₹5.51 Cr ', '₹5 Cr ',\n",
       "       '₹1.68 Cr ', '₹3.41 Cr ', '₹2.51 Cr ', '₹1.51 Cr ', '₹2.82 Cr ',\n",
       "       '₹1.98 Cr ', '₹2.10 Cr ', '₹2.98 Cr ', '₹6 Cr ', '₹3 Cr ',\n",
       "       '₹3.30 Cr ', '₹6.50 Cr ', '₹2.34 Cr ', '₹2.76 Cr ', '₹3.61 Cr ',\n",
       "       '₹2.11 Cr ', '₹4.99 Cr ', '₹1.76 Cr ', '₹2.40 Cr ', '₹8.50 Cr ',\n",
       "       '₹5.25 Cr ', '₹4.10 Cr ', '₹1.89 Cr ', '₹2.50 Cr ', '₹2.83 Cr ',\n",
       "       '₹2.20 Cr ', '₹3.49 Cr ', '₹3.33 Cr ', '₹18.50 Cr ', '₹2.27 Cr ',\n",
       "       '₹31.50 Cr ', '₹1.53 Cr ', '₹1.94 Cr ', '₹41 Cr ', '₹2.15 Cr ',\n",
       "       '₹2.55 Cr ', '₹4.50 Cr ', '₹4.08 Cr ', '₹12.50 Cr ', '₹1.59 Cr ',\n",
       "       '₹1.55 Cr ', '₹5.18 Cr ', '₹3.51 Cr ', '₹1.81 Cr ', '₹3.80 Cr ',\n",
       "       '₹534.44 Cr ', '₹3.03 Cr ', '₹6.96 Cr ', '₹1.75 Cr ', '₹3.25 Cr ',\n",
       "       '₹1.52 Cr ', '₹12 Cr ', '₹3.55 Cr ', '₹2.72 Cr ', '₹1.90 Cr ',\n",
       "       '₹6.60 Cr ', '₹1.95 Cr ', '₹2.73 Cr ', '₹3.11 Cr ', '₹3.75 Cr ',\n",
       "       '₹2.17 Cr ', '₹2.32 Cr ', '₹2.69 Cr ', '₹55 Cr ', '₹3.10 Cr ',\n",
       "       '₹3.31 Cr ', '₹2.60 Cr ', '₹1.58 Cr ', '₹2.75 Cr ', '₹15 Cr ',\n",
       "       '₹3.60 Cr ', '₹3.12 Cr ', '₹146.33 Cr ', '₹1.71 Cr ', '₹4.35 Cr ',\n",
       "       '₹2.95 Cr ', '₹20 Cr ', '₹2.70 Cr ', '₹3.70 Cr ', '₹2.26 Cr ',\n",
       "       '₹14 Cr ', '₹5.04 Cr ', '₹2.46 Cr ', '₹2.43 Cr ', '₹1.86 Cr ',\n",
       "       '₹2.77 Cr ', '₹4.71 Cr ', '₹4.65 Cr ', '₹1.77 Cr ', '₹2.90 Cr ',\n",
       "       '₹2.36 Cr ', '₹2.03 Cr ', '₹1.84 Cr ', '₹6.30 Cr ', '₹2.04 Cr ',\n",
       "       '₹7.20 Cr ', '₹4.03 Cr ', '₹1.73 Cr ', '₹3.08 Cr ', '₹2.92 Cr ',\n",
       "       '₹3.53 Cr ', '₹3.23 Cr ', '₹1.66 Cr ', '₹4.07 Cr ', '₹6.80 Cr ',\n",
       "       '₹3.35 Cr ', '₹3.22 Cr ', '₹5.55 Cr ', '₹1.82 Cr ', '₹2.59 Cr ',\n",
       "       '₹2.07 Cr ', '₹1.88 Cr ', '₹2.56 Cr ', '₹9.22 Cr ', '₹2.88 Cr ',\n",
       "       '₹2.18 Cr ', '₹1.85 Cr ', '₹3.96 Cr ', '₹3.99 Cr ', '₹2.21 Cr ',\n",
       "       '₹2.01 Cr ', '₹3.01 Cr ', '₹3.26 Cr ', '₹11.55 Cr ', '₹2.71 Cr ',\n",
       "       '₹2.66 Cr ', '₹3.63 Cr ', '₹2.28 Cr ', '₹1.91 Cr ', '₹1.56 Cr ',\n",
       "       '₹1.96 Cr ', '₹3.32 Cr ', '₹7.58 Cr ', '₹4.75 Cr ', '₹1.93 Cr ',\n",
       "       '₹2.37 Cr ', '₹1.69 Cr ', '₹5.52 Cr ', '₹2.16 Cr ', '₹1.97 Cr ',\n",
       "       '₹8.79 Cr ', '₹2.62 Cr ', '₹2.39 Cr ', '₹1.99 Cr ', '₹4.31 Cr ',\n",
       "       '₹1.79 Cr ', '₹10.09 Cr ', '₹5.57 Cr ', '₹4.25 Cr ', '₹3.34 Cr ',\n",
       "       '₹3.15 Cr ', '₹8.13 Cr ', '₹1.87 Cr ', '₹6.53 Cr ', '₹7.95 Cr ',\n",
       "       '₹2.33 Cr ', '₹4.30 Cr ', '₹2.48 Cr ', '₹3.19 Cr ', '₹3.74 Cr ',\n",
       "       '₹4.20 Cr ', '₹4.42 Cr ', '₹1.92 Cr ', '₹3.04 Cr ', '₹4.73 Cr ',\n",
       "       '₹3.95 Cr ', '₹2.35 Cr ', '₹3.18 Cr ', '₹1.74 Cr ', '₹1.64 Cr ',\n",
       "       '₹2.81 Cr ', '₹2.58 Cr ', '₹3.39 Cr ', '₹4.60 Cr ', '₹4.72 Cr ',\n",
       "       '₹4.01 Cr ', '₹1.57 Cr ', '₹8.60 Cr ', '₹6.47 Cr ', '₹3.93 Cr ',\n",
       "       '₹1.83 Cr ', '₹2.68 Cr ', '₹2.54 Cr ', '₹2.24 Cr ', '₹3.05 Cr ',\n",
       "       '₹3.48 Cr ', '₹2.99 Cr ', '₹3.97 Cr ', '₹3.40 Cr ', '₹4.23 Cr ',\n",
       "       '₹6.76 Cr ', '₹3.58 Cr ', '₹8 Cr ', '₹4.80 Cr ', '₹2.05 Cr ',\n",
       "       '₹2.97 Cr ', '₹4.51 Cr ', '₹3.90 Cr ', '₹3.13 Cr ', '₹3.36 Cr ',\n",
       "       '₹16.50 Cr ', '₹2.02 Cr ', '₹1.67 Cr ', '₹2.14 Cr ', '₹5.72 Cr ',\n",
       "       '₹2.79 Cr ', '₹2.13 Cr ', '₹3.02 Cr ', '₹2.57 Cr ', '₹2.08 Cr ',\n",
       "       '₹7.60 Cr ', '₹4.24 Cr ', '₹5.48 Cr ', '₹2.78 Cr ', '₹2.22 Cr ',\n",
       "       '₹2.87 Cr ', '₹5.12 Cr ', '₹3.54 Cr ', '₹4.53 Cr ', '₹6.10 Cr ',\n",
       "       '₹3.76 Cr ', '₹4.16 Cr ', '₹3.92 Cr ', '₹2.41 Cr ', '₹4.38 Cr ',\n",
       "       '₹5.36 Cr ', '₹5.40 Cr ', '₹7.19 Cr ', '₹3.24 Cr ', '₹4.32 Cr ',\n",
       "       '₹4.05 Cr ', '₹3.59 Cr ', '₹6.37 Cr ', '₹3.27 Cr ', '₹7.22 Cr ',\n",
       "       '₹3.21 Cr ', '₹4.14 Cr ', '₹4.41 Cr ', '₹7.65 Cr ', '₹5.20 Cr ',\n",
       "       '₹4.39 Cr ', '₹4.68 Cr ', '₹4.67 Cr ', '₹5.60 Cr ', '₹6.08 Cr '],\n",
       "      dtype=object)"
      ]
     },
     "execution_count": 40,
     "metadata": {},
     "output_type": "execute_result"
    }
   ],
   "source": [
    "df['price'].unique()"
   ]
  },
  {
   "cell_type": "code",
   "execution_count": 41,
   "id": "40ebc53b-1a68-4f69-8edb-0f62500c8ddf",
   "metadata": {
    "scrolled": true
   },
   "outputs": [
    {
     "data": {
      "text/plain": [
       "array(['Lac', 'Price', 'Cr'], dtype=object)"
      ]
     },
     "execution_count": 41,
     "metadata": {},
     "output_type": "execute_result"
    }
   ],
   "source": [
    "currencies = df['price'].astype(str).str.strip().str.split().str[-1].unique()\n",
    "currencies"
   ]
  },
  {
   "cell_type": "code",
   "execution_count": 42,
   "id": "74124d6d-466e-4ba5-8e8e-0b357f458ba0",
   "metadata": {},
   "outputs": [],
   "source": [
    "df['price'] = df['price'].replace('Call for Price', np.nan)\n",
    "df = df.dropna(subset=['price'])"
   ]
  },
  {
   "cell_type": "code",
   "execution_count": 43,
   "id": "ed8baab3-edcb-445e-a968-8d7139e8d11d",
   "metadata": {},
   "outputs": [
    {
     "data": {
      "text/plain": [
       "array(['Lac', 'Cr'], dtype=object)"
      ]
     },
     "execution_count": 43,
     "metadata": {},
     "output_type": "execute_result"
    }
   ],
   "source": [
    "currencies = df['price'].astype(str).str.strip().str.split().str[-1].unique()\n",
    "currencies"
   ]
  },
  {
   "cell_type": "code",
   "execution_count": 44,
   "id": "dafe39c8-14fe-4d2c-8cac-22bc823119ea",
   "metadata": {},
   "outputs": [],
   "source": [
    "def clean_and_convert_price(value):\n",
    "    if isinstance(value, str):\n",
    "        value = value.replace('₹', '').replace(',', '').strip()\n",
    "        if 'Cr' in value:\n",
    "            return float(value.replace('Cr', '').strip()) * 100\n",
    "        elif 'Lac' in value:\n",
    "            return float(value.replace('Lac', '').strip())\n",
    "        else:\n",
    "            return float(value)  # for numeric values without units\n",
    "    return np.nan\n",
    "\n",
    "df['price'] = df['price'].apply(clean_and_convert_price).astype(float)"
   ]
  },
  {
   "cell_type": "code",
   "execution_count": 45,
   "id": "50854c72-e26b-4928-a425-1063b84994e2",
   "metadata": {
    "scrolled": true
   },
   "outputs": [
    {
     "data": {
      "text/plain": [
       "np.int64(0)"
      ]
     },
     "execution_count": 45,
     "metadata": {},
     "output_type": "execute_result"
    }
   ],
   "source": [
    "df['price'].isnull().sum()"
   ]
  },
  {
   "cell_type": "code",
   "execution_count": 46,
   "id": "61c0da6e-bfa1-4a1f-8c99-59c5e5088bf1",
   "metadata": {
    "scrolled": true
   },
   "outputs": [
    {
     "data": {
      "text/plain": [
       "property_name      object\n",
       "areaWithType        int64\n",
       "square_feet       float64\n",
       "transaction        object\n",
       "status             object\n",
       "floor             float64\n",
       "furnishing         object\n",
       "facing             object\n",
       "price_per_sqft    float64\n",
       "price             float64\n",
       "dtype: object"
      ]
     },
     "execution_count": 46,
     "metadata": {},
     "output_type": "execute_result"
    }
   ],
   "source": [
    "df.dtypes"
   ]
  },
  {
   "cell_type": "markdown",
   "id": "447555de-0de0-4388-97c6-23afffdf0e46",
   "metadata": {},
   "source": [
    "## Reomving Outliers"
   ]
  },
  {
   "cell_type": "markdown",
   "id": "33a9c115-9846-45f7-be0a-e4b2ccd6ac89",
   "metadata": {},
   "source": [
    "#### square_feet"
   ]
  },
  {
   "cell_type": "code",
   "execution_count": 47,
   "id": "ac9f99d3-9c19-4b7d-9240-a7dcc3af2dad",
   "metadata": {},
   "outputs": [
    {
     "name": "stdout",
     "output_type": "stream",
     "text": [
      "Lower Limit: -1000.0\n",
      "Upper Limit: 3800.0\n"
     ]
    },
    {
     "data": {
      "image/png": "[encoded data removed]",
      "text/plain": [
       "<Figure size 1200x500 with 2 Axes>"
      ]
     },
     "metadata": {},
     "output_type": "display_data"
    }
   ],
   "source": [
    "import matplotlib.pyplot as plt\n",
    "import pandas as pd\n",
    "\n",
    "# Convert the column to numeric, forcing errors to NaN\n",
    "df['square_feet'] = pd.to_numeric(df['square_feet'], errors='coerce')\n",
    "\n",
    "# Drop rows with NaN in 'square_feet'\n",
    "df = df.dropna(subset=['square_feet'])\n",
    "\n",
    "# Calculate IQR and limits\n",
    "Q1 = df['square_feet'].quantile(0.25)\n",
    "Q3 = df['square_feet'].quantile(0.75)\n",
    "IQR = Q3 - Q1\n",
    "lower_limit = Q1 - 1.5 * IQR\n",
    "upper_limit = Q3 + 1.5 * IQR\n",
    "\n",
    "print('Lower Limit:', lower_limit)\n",
    "print('Upper Limit:', upper_limit)\n",
    "\n",
    "plt.figure(figsize=(12, 5))\n",
    "\n",
    "# Boxplot before clipping\n",
    "plt.subplot(1, 2, 1)\n",
    "df.boxplot(column='square_feet', grid=False)\n",
    "plt.title('Before Clipping Outliers')\n",
    "\n",
    "# Clip the outliers in the same column\n",
    "df['square_feet'] = df['square_feet'].clip(lower=lower_limit, upper=upper_limit)\n",
    "\n",
    "# Boxplot after clipping\n",
    "plt.subplot(1, 2, 2)\n",
    "df.boxplot(column='square_feet', grid=False)\n",
    "plt.title('After Clipping Outliers')\n",
    "\n",
    "plt.show()\n"
   ]
  },
  {
   "cell_type": "markdown",
   "id": "00d13899-0cd3-4609-8ca9-a5ef2e6c7373",
   "metadata": {},
   "source": [
    "#### floor"
   ]
  },
  {
   "cell_type": "code",
   "execution_count": 48,
   "id": "e1593bb6-afad-4f7d-9745-b984ffaa353e",
   "metadata": {},
   "outputs": [
    {
     "name": "stdout",
     "output_type": "stream",
     "text": [
      "floor Lower Limit: -1.5\n",
      "floor Upper Limit: 10.5\n"
     ]
    },
    {
     "data": {
      "image/png": "[encoded data removed]",
      "text/plain": [
       "<Figure size 1200x500 with 2 Axes>"
      ]
     },
     "metadata": {},
     "output_type": "display_data"
    }
   ],
   "source": [
    "import matplotlib.pyplot as plt\n",
    "import pandas as pd\n",
    "\n",
    "# Convert 'floor' column to numeric, coercing errors to NaN\n",
    "df['floor'] = pd.to_numeric(df['floor'], errors='coerce')\n",
    "\n",
    "# Drop rows where 'floor' is NaN\n",
    "df = df.dropna(subset=['floor'])\n",
    "\n",
    "# Calculate IQR and limits for 'floor'\n",
    "Q1 = df['floor'].quantile(0.25)\n",
    "Q3 = df['floor'].quantile(0.75)\n",
    "IQR = Q3 - Q1\n",
    "lower_limit = Q1 - 1.5 * IQR\n",
    "upper_limit = Q3 + 1.5 * IQR\n",
    "\n",
    "print('floor Lower Limit:', lower_limit)\n",
    "print('floor Upper Limit:', upper_limit)\n",
    "\n",
    "plt.figure(figsize=(12, 5))\n",
    "\n",
    "# Boxplot before clipping\n",
    "plt.subplot(1, 2, 1)\n",
    "df.boxplot(column='floor', grid=False)\n",
    "plt.title('floor Before Clipping Outliers')\n",
    "\n",
    "# Clip the outliers directly in the 'floor' column\n",
    "df['floor'] = df['floor'].clip(lower=lower_limit, upper=upper_limit)\n",
    "\n",
    "# Boxplot after clipping\n",
    "plt.subplot(1, 2, 2)\n",
    "df.boxplot(column='floor', grid=False)\n",
    "plt.title('floor After Clipping Outliers')\n",
    "\n",
    "plt.show()"
   ]
  },
  {
   "cell_type": "code",
   "execution_count": null,
   "id": "07fc3507-9ac1-4a24-9679-b21a035eaf35",
   "metadata": {},
   "outputs": [],
   "source": []
  },
  {
   "cell_type": "code",
   "execution_count": 49,
   "id": "6dd5ed1f-5b5e-425b-b161-b71a743410bb",
   "metadata": {},
   "outputs": [
    {
     "name": "stdout",
     "output_type": "stream",
     "text": [
      "price_per_sqft Lower Limit: -643.375\n",
      "price_per_sqft Upper Limit: 11003.625\n"
     ]
    },
    {
     "data": {
      "image/png": "[encoded data removed]",
      "text/plain": [
       "<Figure size 1200x500 with 2 Axes>"
      ]
     },
     "metadata": {},
     "output_type": "display_data"
    }
   ],
   "source": [
    "import matplotlib.pyplot as plt\n",
    "import pandas as pd\n",
    "\n",
    "# Convert 'price_per_sqft' to numeric, coercing errors to NaN\n",
    "df['price_per_sqft'] = pd.to_numeric(df['price_per_sqft'], errors='coerce')\n",
    "\n",
    "# Drop rows where 'price_per_sqft' is NaN\n",
    "df = df.dropna(subset=['price_per_sqft'])\n",
    "\n",
    "# Calculate IQR and limits for 'price_per_sqft'\n",
    "Q1 = df['price_per_sqft'].quantile(0.25)\n",
    "Q3 = df['price_per_sqft'].quantile(0.75)\n",
    "IQR = Q3 - Q1\n",
    "lower_limit = Q1 - 1.5 * IQR\n",
    "upper_limit = Q3 + 1.5 * IQR\n",
    "\n",
    "print('price_per_sqft Lower Limit:', lower_limit)\n",
    "print('price_per_sqft Upper Limit:', upper_limit)\n",
    "\n",
    "plt.figure(figsize=(12, 5))\n",
    "\n",
    "# Boxplot before clipping\n",
    "plt.subplot(1, 2, 1)\n",
    "df.boxplot(column='price_per_sqft', grid=False)\n",
    "plt.title('price_per_sqft Before Clipping Outliers')\n",
    "\n",
    "# Clip outliers directly in the same column\n",
    "df['price_per_sqft'] = df['price_per_sqft'].clip(lower=lower_limit, upper=upper_limit)\n",
    "\n",
    "# Boxplot after clipping\n",
    "plt.subplot(1, 2, 2)\n",
    "df.boxplot(column='price_per_sqft', grid=False)\n",
    "plt.title('price_per_sqft After Clipping Outliers')\n",
    "\n",
    "plt.show()"
   ]
  },
  {
   "cell_type": "code",
   "execution_count": 50,
   "id": "810d5353-4de7-4408-a991-bc8cdc771856",
   "metadata": {},
   "outputs": [
    {
     "data": {
      "text/plain": [
       "property_name     0\n",
       "areaWithType      0\n",
       "square_feet       0\n",
       "transaction       0\n",
       "status            0\n",
       "floor             0\n",
       "furnishing        0\n",
       "facing            0\n",
       "price_per_sqft    0\n",
       "price             0\n",
       "dtype: int64"
      ]
     },
     "execution_count": 50,
     "metadata": {},
     "output_type": "execute_result"
    }
   ],
   "source": [
    "df.isnull().sum()"
   ]
  },
  {
   "cell_type": "markdown",
   "id": "27b01fd6-3c51-46d7-8d76-77480e3f5208",
   "metadata": {},
   "source": [
    "## Features Engineering"
   ]
  },
  {
   "cell_type": "code",
   "execution_count": 51,
   "id": "426ef9ad-7912-4751-a488-9c941bfd960a",
   "metadata": {},
   "outputs": [
    {
     "data": {
      "text/plain": [
       "0       2\n",
       "1       2\n",
       "2       2\n",
       "3       2\n",
       "4       2\n",
       "       ..\n",
       "4513    4\n",
       "4514    4\n",
       "4515    4\n",
       "4516    3\n",
       "4517    4\n",
       "Name: Number_of_Rooms, Length: 4346, dtype: Int64"
      ]
     },
     "execution_count": 51,
     "metadata": {},
     "output_type": "execute_result"
    }
   ],
   "source": [
    "df['Number_of_Rooms'] = pd.to_numeric(df['property_name'].str.split().str[0],errors='coerce').astype('Int64')\n",
    "df['Number_of_Rooms']"
   ]
  },
  {
   "cell_type": "code",
   "execution_count": 52,
   "id": "5fbd6a84-c6c1-4151-9bd4-e7eb8e2b1b7f",
   "metadata": {},
   "outputs": [
    {
     "data": {
      "text/plain": [
       "<IntegerArray>\n",
       "[2, 3, <NA>, 1, 4, 5, 7, 8, 10, 6, 9]\n",
       "Length: 11, dtype: Int64"
      ]
     },
     "execution_count": 52,
     "metadata": {},
     "output_type": "execute_result"
    }
   ],
   "source": [
    "df['Number_of_Rooms'].unique()"
   ]
  },
  {
   "cell_type": "code",
   "execution_count": 53,
   "id": "cee3c081-6f3c-4d54-b762-4f9090eda751",
   "metadata": {},
   "outputs": [],
   "source": [
    "mode_rooms = df['Number_of_Rooms'].mode()[0]\n",
    "df['Number_of_Rooms'].fillna(mode_rooms, inplace=True)"
   ]
  },
  {
   "cell_type": "code",
   "execution_count": 54,
   "id": "ef32d6fb-4ff0-4379-a76c-c6b5d9e4cc81",
   "metadata": {},
   "outputs": [
    {
     "data": {
      "text/plain": [
       "(4346, 11)"
      ]
     },
     "execution_count": 54,
     "metadata": {},
     "output_type": "execute_result"
    }
   ],
   "source": [
    "df.shape"
   ]
  },
  {
   "cell_type": "code",
   "execution_count": 55,
   "id": "70281cfe-b0e9-44ed-aefe-3e1c0e764d4c",
   "metadata": {
    "scrolled": true
   },
   "outputs": [
    {
     "data": {
      "text/plain": [
       "property_name       object\n",
       "areaWithType         int64\n",
       "square_feet        float64\n",
       "transaction         object\n",
       "status              object\n",
       "floor              float64\n",
       "furnishing          object\n",
       "facing              object\n",
       "price_per_sqft     float64\n",
       "price              float64\n",
       "Number_of_Rooms      Int64\n",
       "dtype: object"
      ]
     },
     "execution_count": 55,
     "metadata": {},
     "output_type": "execute_result"
    }
   ],
   "source": [
    "df.dtypes"
   ]
  },
  {
   "cell_type": "code",
   "execution_count": 56,
   "id": "46bc1812-15d4-43de-9434-950e0ec15a78",
   "metadata": {},
   "outputs": [],
   "source": [
    "df.drop('property_name', axis=1, inplace=True)"
   ]
  },
  {
   "cell_type": "code",
   "execution_count": 57,
   "id": "4dcb25b7-840a-46f0-867f-41c8ad6fbb8b",
   "metadata": {},
   "outputs": [],
   "source": [
    "df.drop('transaction', axis=1, inplace=True)"
   ]
  },
  {
   "cell_type": "code",
   "execution_count": 58,
   "id": "a25030d6-faa9-4190-8a21-d5efe6e24d8c",
   "metadata": {},
   "outputs": [],
   "source": [
    "df.drop('status', axis=1, inplace=True)"
   ]
  },
  {
   "cell_type": "code",
   "execution_count": 59,
   "id": "413c7f7c-40cf-475c-82e2-826846b2b181",
   "metadata": {},
   "outputs": [],
   "source": [
    "df.drop('furnishing', axis=1, inplace=True)"
   ]
  },
  {
   "cell_type": "code",
   "execution_count": 60,
   "id": "c1dce84a-e042-4ca7-8b82-6a6fdb57b13f",
   "metadata": {},
   "outputs": [],
   "source": [
    "df.drop('facing', axis=1, inplace=True)"
   ]
  },
  {
   "cell_type": "code",
   "execution_count": 61,
   "id": "05d7465b-8edc-48c9-9dd5-b862c989c0db",
   "metadata": {},
   "outputs": [
    {
     "name": "stdout",
     "output_type": "stream",
     "text": [
      "<class 'pandas.core.frame.DataFrame'>\n",
      "Index: 4346 entries, 0 to 4517\n",
      "Data columns (total 6 columns):\n",
      " #   Column           Non-Null Count  Dtype  \n",
      "---  ------           --------------  -----  \n",
      " 0   areaWithType     4346 non-null   int64  \n",
      " 1   square_feet      4346 non-null   float64\n",
      " 2   floor            4346 non-null   float64\n",
      " 3   price_per_sqft   4346 non-null   float64\n",
      " 4   price            4346 non-null   float64\n",
      " 5   Number_of_Rooms  4346 non-null   Int64  \n",
      "dtypes: Int64(1), float64(4), int64(1)\n",
      "memory usage: 241.9 KB\n"
     ]
    }
   ],
   "source": [
    "df.info()"
   ]
  },
  {
   "cell_type": "code",
   "execution_count": 62,
   "id": "c0cafa50-9bbc-478d-ad28-ec03bbcd28ba",
   "metadata": {},
   "outputs": [
    {
     "data": {
      "text/plain": [
       "(4346, 6)"
      ]
     },
     "execution_count": 62,
     "metadata": {},
     "output_type": "execute_result"
    }
   ],
   "source": [
    "df.shape"
   ]
  }
 ],
 "metadata": {
  "kernelspec": {
   "display_name": "Python [conda env:base] *",
   "language": "python",
   "name": "conda-base-py"
  },
  "language_info": {
   "codemirror_mode": {
    "name": "ipython",
    "version": 3
   },
   "file_extension": ".py",
   "mimetype": "text/x-python",
   "name": "python",
   "nbconvert_exporter": "python",
   "pygments_lexer": "ipython3",
   "version": "3.13.5"
  }
 },
 "nbformat": 4,
 "nbformat_minor": 5
}
