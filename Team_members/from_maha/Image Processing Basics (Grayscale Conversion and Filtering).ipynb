{
 "cells": [
  {
   "cell_type": "code",
   "execution_count": 1,
   "id": "049f59ac-5d28-4a5e-81c6-71d0006eb8eb",
   "metadata": {},
   "outputs": [],
   "source": [
    "import numpy as np\n",
    "import matplotlib.pyplot as plt"
   ]
  },
  {
   "cell_type": "markdown",
   "id": "6e3a718f-c6aa-4091-9d0d-0c9e586ddffc",
   "metadata": {},
   "source": [
    "### Image Representation"
   ]
  },
  {
   "cell_type": "code",
   "execution_count": 2,
   "id": "038226e0-adeb-45a6-acad-f0aa141080c0",
   "metadata": {},
   "outputs": [
    {
     "name": "stdout",
     "output_type": "stream",
     "text": [
      "Original Image:\n",
      " [[172  10 127 140  47 170 196 151 117 166]\n",
      " [ 22 183 192 204  33 216  67 179  78 154]\n",
      " [251  82 162 219 195 118 125 139 103 125]\n",
      " [229 216   9 164 116 108 211 222 161 159]\n",
      " [ 21  81  89 165 242 214 102  98  36 183]\n",
      " [  5 112  87  58  43  76  70  60  75 228]\n",
      " [216 189 132  14  88 154 178 246 140 205]\n",
      " [204  69  58  57  41  98 193  66  72 122]\n",
      " [230 125 174 202  39  74 234 207  87 168]\n",
      " [101 135 174 200 223 122  88  94 107 145]]\n"
     ]
    }
   ],
   "source": [
    "np.random.seed(0)\n",
    "image = np.random.randint(0, 256, (10, 10), dtype=np.uint8)\n",
    "print(\"Original Image:\\n\", image)"
   ]
  },
  {
   "cell_type": "markdown",
   "id": "1943d325-1afa-4cbc-9aff-edf8227913e8",
   "metadata": {},
   "source": [
    "### Display (Conceptual)"
   ]
  },
  {
   "cell_type": "code",
   "execution_count": 3,
   "id": "636011c1-4531-42bd-afe7-65b5f11dd83e",
   "metadata": {},
   "outputs": [
    {
     "data": {
      "image/png": "[encoded data removed]",
      "text/plain": [
       "<Figure size 640x480 with 1 Axes>"
      ]
     },
     "metadata": {},
     "output_type": "display_data"
    }
   ],
   "source": [
    "plt.imshow(image, cmap='gray', vmin=0, vmax=255)\n",
    "plt.axis('off')\n",
    "plt.show()"
   ]
  },
  {
   "cell_type": "markdown",
   "id": "56e747d5-b1f0-4321-a14b-72e82adcaf7c",
   "metadata": {},
   "source": [
    "### Grayscale Inversion"
   ]
  },
  {
   "cell_type": "code",
   "execution_count": 4,
   "id": "2a8417b7-3c42-42f9-8c0e-c2409de62aaa",
   "metadata": {
    "scrolled": true
   },
   "outputs": [
    {
     "name": "stdout",
     "output_type": "stream",
     "text": [
      "Inverted Image:\n",
      " [[ 83 245 128 115 208  85  59 104 138  89]\n",
      " [233  72  63  51 222  39 188  76 177 101]\n",
      " [  4 173  93  36  60 137 130 116 152 130]\n",
      " [ 26  39 246  91 139 147  44  33  94  96]\n",
      " [234 174 166  90  13  41 153 157 219  72]\n",
      " [250 143 168 197 212 179 185 195 180  27]\n",
      " [ 39  66 123 241 167 101  77   9 115  50]\n",
      " [ 51 186 197 198 214 157  62 189 183 133]\n",
      " [ 25 130  81  53 216 181  21  48 168  87]\n",
      " [154 120  81  55  32 133 167 161 148 110]]\n"
     ]
    }
   ],
   "source": [
    "inverted_image = 255 - image\n",
    "\n",
    "print(\"Inverted Image:\\n\", inverted_image)"
   ]
  },
  {
   "cell_type": "markdown",
   "id": "fd516990-023e-4705-b344-e0016ce6d065",
   "metadata": {},
   "source": [
    "### Thresholding"
   ]
  },
  {
   "cell_type": "code",
   "execution_count": 5,
   "id": "a2b4052b-b42e-4eab-9404-c46fad70c3c0",
   "metadata": {},
   "outputs": [
    {
     "name": "stdout",
     "output_type": "stream",
     "text": [
      "Thresholded Image:\n",
      " [[255   0   0 255   0 255 255 255   0 255]\n",
      " [  0 255 255 255   0 255   0 255   0 255]\n",
      " [255   0 255 255 255   0   0 255   0   0]\n",
      " [255 255   0 255   0   0 255 255 255 255]\n",
      " [  0   0   0 255 255 255   0   0   0 255]\n",
      " [  0   0   0   0   0   0   0   0   0 255]\n",
      " [255 255 255   0   0 255 255 255 255 255]\n",
      " [255   0   0   0   0   0 255   0   0   0]\n",
      " [255   0 255 255   0   0 255 255   0 255]\n",
      " [  0 255 255 255 255   0   0   0   0 255]]\n"
     ]
    }
   ],
   "source": [
    "threshold_value = 128\n",
    "\n",
    "thresholded_image = np.where(image < threshold_value, 0, 255).astype(np.uint8)\n",
    "\n",
    "print(\"Thresholded Image:\\n\", thresholded_image)"
   ]
  },
  {
   "cell_type": "markdown",
   "id": "b4801680-7a72-45b2-8ec5-104629eb0041",
   "metadata": {},
   "source": [
    "### Cropping"
   ]
  },
  {
   "cell_type": "code",
   "execution_count": 6,
   "id": "e5949a4d-0bfd-4eeb-adc3-00843f7039f7",
   "metadata": {},
   "outputs": [
    {
     "name": "stdout",
     "output_type": "stream",
     "text": [
      "Cropped Image (4x4 center):\n",
      " [[164 116 108 211]\n",
      " [165 242 214 102]\n",
      " [ 58  43  76  70]\n",
      " [ 14  88 154 178]]\n"
     ]
    }
   ],
   "source": [
    "start_row = (image.shape[0] - 4) // 2 \n",
    "start_col = (image.shape[1] - 4) // 2  \n",
    "\n",
    "cropped_image = image[start_row:start_row+4, start_col:start_col+4]\n",
    "print(\"Cropped Image (4x4 center):\\n\", cropped_image)"
   ]
  },
  {
   "cell_type": "markdown",
   "id": "6eea01b4-c525-4547-a182-3f24b55c55a7",
   "metadata": {},
   "source": [
    "### Edge Detection (Simple - Convolution Concept)"
   ]
  },
  {
   "cell_type": "code",
   "execution_count": 7,
   "id": "0396674d-856f-4677-a157-82af8621dda4",
   "metadata": {},
   "outputs": [
    {
     "name": "stdout",
     "output_type": "stream",
     "text": [
      "Edge Detected Image (horizontal differences):\n",
      " [[-162  117   13  -93  123   26  -45  -34   49    0]\n",
      " [ 161    9   12 -171  183 -149  112 -101   76    0]\n",
      " [-169   80   57  -24  -77    7   14  -36   22    0]\n",
      " [ -13 -207  155  -48   -8  103   11  -61   -2    0]\n",
      " [  60    8   76   77  -28 -112   -4  -62  147    0]\n",
      " [ 107  -25  -29  -15   33   -6  -10   15  153    0]\n",
      " [ -27  -57 -118   74   66   24   68 -106   65    0]\n",
      " [-135  -11   -1  -16   57   95 -127    6   50    0]\n",
      " [-105   49   28 -163   35  160  -27 -120   81    0]\n",
      " [  34   39   26   23 -101  -34    6   13   38    0]]\n"
     ]
    }
   ],
   "source": [
    "edge_image = np.zeros_like(image, dtype=np.int16)  # Use int16 to allow negative values\n",
    "for i in range(image.shape[0]):\n",
    "    for j in range(image.shape[1] - 1):\n",
    "        edge_image[i, j] = int(image[i, j+1]) - int(image[i, j])\n",
    "edge_image[:, -1] = 0\n",
    "print(\"Edge Detected Image (horizontal differences):\\n\", edge_image)"
   ]
  }
 ],
 "metadata": {
  "kernelspec": {
   "display_name": "Python [conda env:base] *",
   "language": "python",
   "name": "conda-base-py"
  },
  "language_info": {
   "codemirror_mode": {
    "name": "ipython",
    "version": 3
   },
   "file_extension": ".py",
   "mimetype": "text/x-python",
   "name": "python",
   "nbconvert_exporter": "python",
   "pygments_lexer": "ipython3",
   "version": "3.13.5"
  }
 },
 "nbformat": 4,
 "nbformat_minor": 5
}
