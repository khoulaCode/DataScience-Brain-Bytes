{
 "cells": [
  {
   "cell_type": "code",
   "execution_count": 1,
   "id": "9453b2e1-d399-49c0-a479-64502cb6f64e",
   "metadata": {},
   "outputs": [],
   "source": [
    "import numpy as np"
   ]
  },
  {
   "cell_type": "code",
   "execution_count": 2,
   "id": "7b18816e-e263-48d7-8b29-d9393aa2fb12",
   "metadata": {
    "scrolled": true
   },
   "outputs": [
    {
     "name": "stdout",
     "output_type": "stream",
     "text": [
      "[[0.00000000e+00 2.44763690e+01 6.43706243e+01 1.01220497e+03]\n",
      " [1.00000000e+00 2.16438105e+01 6.09992555e+01 1.01519534e+03]\n",
      " [2.00000000e+00 2.26560857e+01 4.80988578e+01 1.01619218e+03]\n",
      " [3.00000000e+00 2.10980040e+01 5.86720121e+01 1.01318840e+03]\n",
      " [4.00000000e+00 2.41069355e+01 4.55197908e+01 1.01218462e+03]\n",
      " [5.00000000e+00 2.07916169e+01 5.03203448e+01 1.01500038e+03]\n",
      " [6.00000000e+00 2.21525082e+01 4.54131788e+01 1.00991315e+03]\n",
      " [7.00000000e+00 2.14655319e+01 6.34823387e+01 1.01111901e+03]\n",
      " [8.00000000e+00 2.50642958e+01 5.45691534e+01 1.00639311e+03]\n",
      " [9.00000000e+00 2.20053971e+01 5.76196179e+01 1.00781678e+03]]\n"
     ]
    }
   ],
   "source": [
    "\n",
    "total_minutes = 1440\n",
    "minutes = np.arange(total_minutes)\n",
    "\n",
    "# Temperature\n",
    "temperature = 22 + np.random.normal(0, 2, total_minutes)\n",
    "\n",
    "# Humidity\n",
    "humidity = 55 + np.random.normal(0, 5, total_minutes)\n",
    "humidity = np.clip(humidity, 0, 100)\n",
    "\n",
    "# Pressure\n",
    "pressure = 1012 + np.random.normal(0, 3, total_minutes)\n",
    "\n",
    "sensor_data = np.column_stack((minutes, temperature, humidity, pressure))\n",
    "\n",
    "print(sensor_data[:10])"
   ]
  },
  {
   "cell_type": "code",
   "execution_count": 3,
   "id": "a3f2c7ce-09da-4f06-9792-a6599e3968e4",
   "metadata": {},
   "outputs": [
    {
     "name": "stdout",
     "output_type": "stream",
     "text": [
      "Temperature average: 22.02452507490211\n",
      "Temperature minimum: 13.357060249008057\n",
      "Temperature maximum: 29.181206185660894\n",
      "Temperature standard deviation: 2.105792147679967\n",
      "___________________________________________________\n",
      "Humidity average: 55.21244119387555\n",
      "Humidity minimum: 36.91957793223719\n",
      "Humidity maximum: 70.62115108934918\n",
      "Humidity standard deviation: 4.97453487119157\n",
      "___________________________________________________\n",
      "Pressure average: 1011.9858452433502\n",
      "Pressure minimum: 1002.1163833883376\n",
      "Pressure maximum: 1021.6214153465967\n",
      "Pressure standard deviation: 2.9941829990027924\n"
     ]
    }
   ],
   "source": [
    "# Temperature\n",
    "temp_avg = np.mean(temperature)\n",
    "temp_min = np.min(temperature)\n",
    "temp_max = np.max(temperature)\n",
    "temp_std = np.std(temperature)\n",
    "\n",
    "#Humidity\n",
    "hum_avg = np.mean(humidity)\n",
    "hum_min = np.min(humidity)\n",
    "hum_max = np.max(humidity)\n",
    "hum_std = np.std(humidity)\n",
    "\n",
    "#Pressure\n",
    "press_avg = np.mean(pressure)\n",
    "press_min = np.min(pressure)\n",
    "press_max = np.max(pressure)\n",
    "press_std = np.std(pressure)\n",
    "\n",
    "\n",
    "print(\"Temperature average:\", temp_avg)\n",
    "print(\"Temperature minimum:\", temp_min)\n",
    "print(\"Temperature maximum:\", temp_max)\n",
    "print(\"Temperature standard deviation:\", temp_std)\n",
    "\n",
    "print (\"___________________________________________________\")\n",
    "\n",
    "print(\"Humidity average:\", hum_avg)\n",
    "print(\"Humidity minimum:\", hum_min)\n",
    "print(\"Humidity maximum:\", hum_max)\n",
    "print(\"Humidity standard deviation:\", hum_std)\n",
    "\n",
    "print (\"___________________________________________________\")\n",
    "\n",
    "print(\"Pressure average:\", press_avg)\n",
    "print(\"Pressure minimum:\", press_min)\n",
    "print(\"Pressure maximum:\", press_max)\n",
    "print(\"Pressure standard deviation:\", press_std)\n"
   ]
  },
  {
   "cell_type": "code",
   "execution_count": 4,
   "id": "8bc53cbd-c1e6-48ce-bc4f-c41bdeb5a4b1",
   "metadata": {},
   "outputs": [
    {
     "name": "stdout",
     "output_type": "stream",
     "text": [
      "\n",
      "Temperature hourly averages: [22.03967184 21.81147972 22.23703856 21.80507997 22.13579581 21.99715426\n",
      " 22.05286361 21.86285768 22.15489856 22.5003084  22.23508244 21.96784106\n",
      " 21.94033318 21.88576602 21.93175239 21.95902889 21.71786428 21.76958049\n",
      " 22.27544562 22.46437852 21.97299417 22.10952013 21.71411346 22.04775276]\n",
      "____________________________________________________________________\n",
      "\n",
      "Humidity hourly averages: [55.51499736 53.78036355 54.59006064 55.03893738 55.21218511 56.0402103\n",
      " 56.06065065 55.89871306 55.90766612 54.3405445  54.450486   55.57955126\n",
      " 54.98566708 54.82070281 54.77862358 54.50511626 55.51601573 55.63666654\n",
      " 55.38001385 55.54222395 54.93226293 55.57862499 54.74098487 56.26732014]\n",
      "____________________________________________________________________\n",
      "\n",
      "Pressure hourly averages: [1011.76974519 1011.91404306 1011.96580852 1011.62209852 1011.3157635\n",
      " 1011.99380342 1011.80965678 1011.78707356 1011.92031837 1011.44709407\n",
      " 1011.61530324 1011.78690377 1012.54261717 1011.96713705 1011.9821774\n",
      " 1012.05049917 1011.68446118 1012.9510476  1012.14287542 1011.95572909\n",
      " 1012.09487345 1012.27298249 1012.54589478 1012.52237906]\n"
     ]
    }
   ],
   "source": [
    "temp_per_hour = temperature.reshape(24, 60)\n",
    "hum_per_hour = humidity.reshape(24, 60)\n",
    "press_per_hour = pressure.reshape(24, 60)\n",
    "\n",
    "temp_hour_avg = np.mean(temp_per_hour, axis=1)\n",
    "hum_hour_avg = np.mean(hum_per_hour, axis=1)\n",
    "press_hour_avg = np.mean(press_per_hour, axis=1)\n",
    "\n",
    "print(\"\\nTemperature hourly averages:\", temp_hour_avg)\n",
    "print(\"____________________________________________________________________\")\n",
    "print(\"\\nHumidity hourly averages:\", hum_hour_avg)\n",
    "print(\"____________________________________________________________________\")\n",
    "print(\"\\nPressure hourly averages:\", press_hour_avg)"
   ]
  },
  {
   "cell_type": "code",
   "execution_count": 5,
   "id": "c84aaff2-3350-4c45-b346-963522c45b9b",
   "metadata": {},
   "outputs": [
    {
     "name": "stdout",
     "output_type": "stream",
     "text": [
      "\n",
      "Number of Minutes with temperature higher than 25 : 115\n",
      "\n",
      "Minute when temperature was the lowest: 665\n"
     ]
    }
   ],
   "source": [
    "limit = 25\n",
    "\n",
    "high_temp_count = np.sum(temperature > limit)\n",
    "minute_of_min_temp = minutes[np.argmin(temperature)]\n",
    "\n",
    "print(\"\\nNumber of Minutes with temperature higher than\", limit, \":\", high_temp_count)\n",
    "print(\"\\nMinute when temperature was the lowest:\", minute_of_min_temp)\n"
   ]
  }
 ],
 "metadata": {
  "kernelspec": {
   "display_name": "base",
   "language": "python",
   "name": "python3"
  },
  "language_info": {
   "codemirror_mode": {
    "name": "ipython",
    "version": 3
   },
   "file_extension": ".py",
   "mimetype": "text/x-python",
   "name": "python",
   "nbconvert_exporter": "python",
   "pygments_lexer": "ipython3",
   "version": "3.13.5"
  }
 },
 "nbformat": 4,
 "nbformat_minor": 5
}
