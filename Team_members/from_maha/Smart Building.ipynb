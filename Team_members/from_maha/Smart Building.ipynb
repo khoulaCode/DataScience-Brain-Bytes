{
 "cells": [
  {
   "cell_type": "code",
   "execution_count": 3,
   "id": "9453b2e1-d399-49c0-a479-64502cb6f64e",
   "metadata": {},
   "outputs": [],
   "source": [
    "import numpy as np"
   ]
  },
  {
   "cell_type": "code",
   "execution_count": null,
   "id": "7b18816e-e263-48d7-8b29-d9393aa2fb12",
   "metadata": {
    "scrolled": true
   },
   "outputs": [
    {
     "name": "stdout",
     "output_type": "stream",
     "text": [
      "[[0.00000000e+00 2.27146631e+01 5.56636384e+01 1.01092306e+03]\n",
      " [1.00000000e+00 2.33239440e+01 4.86500367e+01 1.01024186e+03]\n",
      " [2.00000000e+00 2.13192238e+01 6.13600521e+01 1.01646099e+03]\n",
      " [3.00000000e+00 2.39901916e+01 6.07411149e+01 1.01061481e+03]\n",
      " [4.00000000e+00 2.08962887e+01 5.14013154e+01 1.01139552e+03]\n",
      " [5.00000000e+00 2.40469202e+01 5.70575139e+01 1.01316460e+03]\n",
      " [6.00000000e+00 2.01663930e+01 5.32933812e+01 1.01020737e+03]\n",
      " [7.00000000e+00 2.31485662e+01 5.46964379e+01 1.01106710e+03]\n",
      " [8.00000000e+00 2.23917308e+01 5.25855190e+01 1.00870548e+03]\n",
      " [9.00000000e+00 1.92856532e+01 5.17695182e+01 1.01205450e+03]]\n"
     ]
    },
    {
     "ename": "",
     "evalue": "",
     "output_type": "error",
     "traceback": [
      "\u001b[1;31mThe Kernel crashed while executing code in the current cell or a previous cell. \n",
      "\u001b[1;31mPlease review the code in the cell(s) to identify a possible cause of the failure. \n",
      "\u001b[1;31mClick <a href='https://aka.ms/vscodeJupyterKernelCrash'>here</a> for more info. \n",
      "\u001b[1;31mView Jupyter <a href='command:jupyter.viewOutput'>log</a> for further details."
     ]
    }
   ],
   "source": [
    "\n",
    "total_minutes = 1440\n",
    "minutes = np.arange(total_minutes)\n",
    "\n",
    "# Temperature\n",
    "temperature = 22 + np.random.normal(0, 2, total_minutes)\n",
    "\n",
    "# Humidity\n",
    "humidity = 55 + np.random.normal(0, 5, total_minutes)\n",
    "humidity = np.clip(humidity, 0, 100)\n",
    "\n",
    "# Pressure\n",
    "pressure = 1012 + np.random.normal(0, 3, total_minutes)\n",
    "\n",
    "sensor_data = np.column_stack((minutes, temperature, humidity, pressure))\n",
    "\n",
    "print(sensor_data[:10])"
   ]
  },
  {
   "cell_type": "code",
   "execution_count": null,
   "id": "a3f2c7ce-09da-4f06-9792-a6599e3968e4",
   "metadata": {},
   "outputs": [
    {
     "name": "stdout",
     "output_type": "stream",
     "text": [
      "Temperature average: 21.984477635112263\n",
      "Temperature minimum: 15.738172023629115\n",
      "Temperature maximum: 28.68829841675688\n",
      "Temperature standard deviation: 1.9794441854513787\n",
      "___________________________________________________\n",
      "Humidity average: 55.00430749036572\n",
      "Humidity minimum: 39.80133445852525\n",
      "Humidity maximum: 70.7346206415158\n",
      "Humidity standard deviation: 4.801430635261065\n",
      "___________________________________________________\n",
      "Pressure average: 1011.8926520687038\n",
      "Pressure minimum: 1001.8345118818972\n",
      "Pressure maximum: 1022.0369518213569\n",
      "Pressure standard deviation: 3.0167355232788013\n"
     ]
    }
   ],
   "source": [
    "# Temperature\n",
    "temp_avg = np.mean(temperature)\n",
    "temp_min = np.min(temperature)\n",
    "temp_max = np.max(temperature)\n",
    "temp_std = np.std(temperature)\n",
    "\n",
    "#Humidity\n",
    "hum_avg = np.mean(humidity)\n",
    "hum_min = np.min(humidity)\n",
    "hum_max = np.max(humidity)\n",
    "hum_std = np.std(humidity)\n",
    "\n",
    "#Pressure\n",
    "press_avg = np.mean(pressure)\n",
    "press_min = np.min(pressure)\n",
    "press_max = np.max(pressure)\n",
    "press_std = np.std(pressure)\n",
    "\n",
    "\n",
    "print(\"Temperature average:\", temp_avg)\n",
    "print(\"Temperature minimum:\", temp_min)\n",
    "print(\"Temperature maximum:\", temp_max)\n",
    "print(\"Temperature standard deviation:\", temp_std)\n",
    "\n",
    "print (\"___________________________________________________\")\n",
    "\n",
    "print(\"Humidity average:\", hum_avg)\n",
    "print(\"Humidity minimum:\", hum_min)\n",
    "print(\"Humidity maximum:\", hum_max)\n",
    "print(\"Humidity standard deviation:\", hum_std)\n",
    "\n",
    "print (\"___________________________________________________\")\n",
    "\n",
    "print(\"Pressure average:\", press_avg)\n",
    "print(\"Pressure minimum:\", press_min)\n",
    "print(\"Pressure maximum:\", press_max)\n",
    "print(\"Pressure standard deviation:\", press_std)\n"
   ]
  },
  {
   "cell_type": "code",
   "execution_count": null,
   "id": "8bc53cbd-c1e6-48ce-bc4f-c41bdeb5a4b1",
   "metadata": {},
   "outputs": [
    {
     "name": "stdout",
     "output_type": "stream",
     "text": [
      "\n",
      "Temperature hourly averages: [22.14166268 22.13409179 22.51376313 21.92348889 21.41107237 22.04114242\n",
      " 22.18399013 21.98587753 21.92227197 21.5687152  22.39897806 22.52648179\n",
      " 22.02387316 21.72115601 21.61912546 22.46962628 21.95157416 21.81268957\n",
      " 21.99589763 22.20357389 21.90688311 21.84429224 21.6040312  21.72320459]\n",
      "____________________________________________________________________\n",
      "\n",
      "Humidity hourly averages: [54.19372694 55.63239013 54.79775197 54.51592584 55.53295763 55.48627083\n",
      " 55.25539843 54.53552143 55.09278221 54.03324649 54.86568163 54.89228243\n",
      " 55.33769309 54.60026396 54.94205612 55.07499965 54.51339203 55.70155973\n",
      " 54.79528374 56.19332656 54.7350799  54.61932811 55.35285142 55.40360951]\n",
      "____________________________________________________________________\n",
      "\n",
      "Pressure hourly averages: [1011.48501745 1011.53134669 1011.4035086  1011.56543685 1011.62894716\n",
      " 1011.75148005 1011.95241716 1011.84212378 1012.02860946 1012.18676196\n",
      " 1012.19988798 1011.58655104 1011.52654423 1012.12713485 1011.7991152\n",
      " 1010.85207889 1012.19225684 1012.24594649 1011.87998038 1012.04115457\n",
      " 1012.00370014 1012.42305085 1012.53945727 1012.63114173]\n"
     ]
    }
   ],
   "source": [
    "temp_per_hour = temperature.reshape(24, 60)\n",
    "hum_per_hour = humidity.reshape(24, 60)\n",
    "press_per_hour = pressure.reshape(24, 60)\n",
    "\n",
    "temp_hour_avg = np.mean(temp_per_hour, axis=1)\n",
    "hum_hour_avg = np.mean(hum_per_hour, axis=1)\n",
    "press_hour_avg = np.mean(press_per_hour, axis=1)\n",
    "\n",
    "print(\"\\nTemperature hourly averages:\", temp_hour_avg)\n",
    "print(\"____________________________________________________________________\")\n",
    "print(\"\\nHumidity hourly averages:\", hum_hour_avg)\n",
    "print(\"____________________________________________________________________\")\n",
    "print(\"\\nPressure hourly averages:\", press_hour_avg)"
   ]
  },
  {
   "cell_type": "code",
   "execution_count": null,
   "id": "c84aaff2-3350-4c45-b346-963522c45b9b",
   "metadata": {},
   "outputs": [
    {
     "name": "stdout",
     "output_type": "stream",
     "text": [
      "\n",
      "Number of minutes with temperature higher than 25 : 79\n",
      "\n",
      "Minute when temperature was the lowest: 294\n"
     ]
    }
   ],
   "source": [
    "limit = 25\n",
    "\n",
    "high_temp_count = np.sum(temperature > limit)\n",
    "minute_of_min_temp = minutes[np.argmin(temperature)]\n",
    "\n",
    "print(\"\\nNumber of Minutes with temperature higher than\", limit, \":\", high_temp_count)\n",
    "print(\"\\nMinute when temperature was the lowest:\", minute_of_min_temp)\n"
   ]
  }
 ],
 "metadata": {
  "kernelspec": {
   "display_name": "base",
   "language": "python",
   "name": "python3"
  },
  "language_info": {
   "codemirror_mode": {
    "name": "ipython",
    "version": 3
   },
   "file_extension": ".py",
   "mimetype": "text/x-python",
   "name": "python",
   "nbconvert_exporter": "python",
   "pygments_lexer": "ipython3",
   "version": "3.13.5"
  }
 },
 "nbformat": 4,
 "nbformat_minor": 5
}
