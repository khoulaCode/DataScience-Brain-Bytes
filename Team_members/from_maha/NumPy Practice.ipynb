{
 "cells": [
  {
   "cell_type": "markdown",
   "id": "364dbf35-f164-437c-852b-f5de37dac04b",
   "metadata": {},
   "source": [
    "# <span style = \"color:red\">NumPy Practice</span>\n",
    "#### Maha Al Yahmadi"
   ]
  },
  {
   "cell_type": "markdown",
   "id": "546fe46e-8287-47d8-b239-c882d726b571",
   "metadata": {},
   "source": [
    "#### <span style = \"color:blue\">Part 1</span>"
   ]
  },
  {
   "cell_type": "code",
   "execution_count": 10,
   "id": "088dcf83-061a-4a26-bd6f-6bbad24b34ad",
   "metadata": {},
   "outputs": [],
   "source": [
    "import numpy as np"
   ]
  },
  {
   "cell_type": "code",
   "execution_count": 2,
   "id": "39590036-247a-475b-9d73-44bf93397f73",
   "metadata": {},
   "outputs": [
    {
     "data": {
      "text/plain": [
       "array([0, 1, 2, 3, 4, 5, 6, 7, 8, 9])"
      ]
     },
     "execution_count": 2,
     "metadata": {},
     "output_type": "execute_result"
    }
   ],
   "source": [
    "arr1d = np.arange(10)\n",
    "arr1d"
   ]
  },
  {
   "cell_type": "code",
   "execution_count": 3,
   "id": "17ee141f-44c9-4eab-83b8-370d3a8a5e90",
   "metadata": {},
   "outputs": [
    {
     "data": {
      "text/plain": [
       "array([[1., 1., 1.],\n",
       "       [1., 1., 1.],\n",
       "       [1., 1., 1.]])"
      ]
     },
     "execution_count": 3,
     "metadata": {},
     "output_type": "execute_result"
    }
   ],
   "source": [
    "arr2d = np.ones((3, 3))\n",
    "arr2d"
   ]
  },
  {
   "cell_type": "code",
   "execution_count": 4,
   "id": "afc44ca5-682d-4c89-ac3e-004c9994d49f",
   "metadata": {},
   "outputs": [
    {
     "data": {
      "text/plain": [
       "array([[ 0.35914072,  0.09124544,  1.23015197],\n",
       "       [-0.0148593 , -0.39855036,  0.81569353],\n",
       "       [ 0.66290162,  1.72744732, -2.08687339]])"
      ]
     },
     "execution_count": 4,
     "metadata": {},
     "output_type": "execute_result"
    }
   ],
   "source": [
    "random_matrix = np.random.randn(3, 3)\n",
    "random_matrix"
   ]
  },
  {
   "cell_type": "code",
   "execution_count": 5,
   "id": "6488aa8b-ba31-40bf-888b-173e209ec528",
   "metadata": {},
   "outputs": [
    {
     "data": {
      "text/plain": [
       "array([10, 12, 14, 16, 18, 20, 22, 24, 26, 28, 30, 32, 34, 36, 38, 40, 42,\n",
       "       44, 46, 48, 50])"
      ]
     },
     "execution_count": 5,
     "metadata": {},
     "output_type": "execute_result"
    }
   ],
   "source": [
    "even_numbers = np.arange(10, 51, 2)\n",
    "even_numbers"
   ]
  },
  {
   "cell_type": "code",
   "execution_count": 6,
   "id": "d908b718-fda3-4d4c-a548-9c98278d83d3",
   "metadata": {},
   "outputs": [
    {
     "data": {
      "text/plain": [
       "array([0.        , 0.16666667, 0.33333333, 0.5       , 0.66666667,\n",
       "       0.83333333, 1.        ])"
      ]
     },
     "execution_count": 6,
     "metadata": {},
     "output_type": "execute_result"
    }
   ],
   "source": [
    "linspace_array = np.linspace(0, 1, 7)\n",
    "linspace_array"
   ]
  },
  {
   "cell_type": "code",
   "execution_count": 7,
   "id": "66c85f26-7c1e-43f0-a981-0586aafa426e",
   "metadata": {},
   "outputs": [
    {
     "data": {
      "text/plain": [
       "((2, 3), 2, dtype('int64'))"
      ]
     },
     "execution_count": 7,
     "metadata": {},
     "output_type": "execute_result"
    }
   ],
   "source": [
    "arr = np.array([[1, 2, 3], [4, 5, 6]])\n",
    "arr.shape, arr.ndim, arr.dtype"
   ]
  },
  {
   "cell_type": "markdown",
   "id": "2a7ed142-57f2-4388-a30c-dfbb2e65bbe8",
   "metadata": {},
   "source": [
    "#### <span style = \"color:blue\">Part 2</span>"
   ]
  },
  {
   "cell_type": "code",
   "execution_count": 11,
   "id": "bb716cb9-403b-410b-a2b9-18bc90ce288b",
   "metadata": {},
   "outputs": [
    {
     "name": "stdout",
     "output_type": "stream",
     "text": [
      "Here’s arr1d reshaped to 2 rows x 5 columns:\n",
      " [[0 1 2 3 4]\n",
      " [5 6 7 8 9]]\n"
     ]
    }
   ],
   "source": [
    "arr1d = np.arange(10) \n",
    "reshaped_arr = arr1d.reshape((2, 5))\n",
    "print(\"Here’s arr1d reshaped to 2 rows x 5 columns:\\n\", reshaped_arr)"
   ]
  },
  {
   "cell_type": "code",
   "execution_count": 12,
   "id": "b284ff13-03ac-4e32-9064-6000277bf6df",
   "metadata": {},
   "outputs": [
    {
     "name": "stdout",
     "output_type": "stream",
     "text": [
      "\n",
      "Stacking arrays a and b vertically:\n",
      " [[1 2 3]\n",
      " [4 5 6]]\n"
     ]
    }
   ],
   "source": [
    "a = np.array([1, 2, 3])\n",
    "b = np.array([4, 5, 6])\n",
    "\n",
    "stacked_vert = np.vstack((a, b))\n",
    "print(\"\\nStacking arrays a and b vertically:\\n\", stacked_vert)"
   ]
  },
  {
   "cell_type": "code",
   "execution_count": 13,
   "id": "f9f916c2-1723-46bf-8ebf-bfd20a880ed3",
   "metadata": {},
   "outputs": [
    {
     "name": "stdout",
     "output_type": "stream",
     "text": [
      "\n",
      "Stacking m1 and m2 side by side (horizontally):\n",
      " [[1 2 5 6]\n",
      " [3 4 7 8]]\n"
     ]
    }
   ],
   "source": [
    "m1 = np.array([[1, 2], [3, 4]])\n",
    "m2 = np.array([[5, 6], [7, 8]])\n",
    "\n",
    "stacked_horiz = np.hstack((m1, m2))\n",
    "print(\"\\nStacking m1 and m2 side by side (horizontally):\\n\", stacked_horiz)"
   ]
  },
  {
   "cell_type": "code",
   "execution_count": 14,
   "id": "d0599ee5-ed2c-47a5-862b-04d259783138",
   "metadata": {},
   "outputs": [
    {
     "name": "stdout",
     "output_type": "stream",
     "text": [
      "\n",
      "Original 4x4 array:\n",
      " [[ 0  1  2  3]\n",
      " [ 4  5  6  7]\n",
      " [ 8  9 10 11]\n",
      " [12 13 14 15]]\n",
      "\n",
      "First half after horizontal split:\n",
      " [[ 0  1]\n",
      " [ 4  5]\n",
      " [ 8  9]\n",
      " [12 13]]\n",
      "\n",
      "Second half after horizontal split:\n",
      " [[ 2  3]\n",
      " [ 6  7]\n",
      " [10 11]\n",
      " [14 15]]\n"
     ]
    }
   ],
   "source": [
    "arr_to_split = np.arange(16).reshape(4, 4)\n",
    "print(\"\\nOriginal 4x4 array:\\n\", arr_to_split)\n",
    "\n",
    "split_h = np.hsplit(arr_to_split, 2)\n",
    "print(\"\\nFirst half after horizontal split:\\n\", split_h[0])\n",
    "print(\"\\nSecond half after horizontal split:\\n\", split_h[1])"
   ]
  },
  {
   "cell_type": "code",
   "execution_count": 15,
   "id": "1404b605-fef8-4dbe-9584-a0fa2c89c708",
   "metadata": {},
   "outputs": [
    {
     "name": "stdout",
     "output_type": "stream",
     "text": [
      "\n",
      "Top part after vertical split at row index 2:\n",
      " [[0 1 2 3]\n",
      " [4 5 6 7]]\n",
      "\n",
      "Bottom part after vertical split at row index 2:\n",
      " [[ 8  9 10 11]\n",
      " [12 13 14 15]]\n"
     ]
    }
   ],
   "source": [
    "split_v = np.vsplit(arr_to_split, [2])\n",
    "print(\"\\nTop part after vertical split at row index 2:\\n\", split_v[0])\n",
    "print(\"\\nBottom part after vertical split at row index 2:\\n\", split_v[1])"
   ]
  },
  {
   "cell_type": "markdown",
   "id": "ee54b2cf-572b-4ed1-a98a-7afff8cbaaff",
   "metadata": {},
   "source": [
    "#### <span style = \"color:blue\">Part 3</span>"
   ]
  },
  {
   "cell_type": "code",
   "execution_count": 16,
   "id": "d9a49c26-5c59-41d4-b96e-303f4b8be4eb",
   "metadata": {},
   "outputs": [
    {
     "name": "stdout",
     "output_type": "stream",
     "text": [
      "Element at row 1, column 2 is: 15\n"
     ]
    }
   ],
   "source": [
    "import numpy as np\n",
    "\n",
    "data = np.array([\n",
    "    [10, 11, 12],\n",
    "    [13, 14, 15],\n",
    "    [16, 17, 18]\n",
    "])\n",
    "elem = data[1, 2]\n",
    "print(f\"Element at row 1, column 2 is: {elem}\")"
   ]
  },
  {
   "cell_type": "code",
   "execution_count": 17,
   "id": "008065da-5203-4fe9-b24c-eff3bdd91ea2",
   "metadata": {},
   "outputs": [
    {
     "name": "stdout",
     "output_type": "stream",
     "text": [
      "\n",
      "Here are the first two rows:\n",
      " [[10 11 12]\n",
      " [13 14 15]]\n"
     ]
    }
   ],
   "source": [
    "rows_1_2 = data[:2, :]\n",
    "print(\"\\nHere are the first two rows:\\n\", rows_1_2)"
   ]
  },
  {
   "cell_type": "code",
   "execution_count": 19,
   "id": "cd046435-04ec-498e-bf23-7db0f9952c4d",
   "metadata": {},
   "outputs": [
    {
     "name": "stdout",
     "output_type": "stream",
     "text": [
      "\n",
      "Elements 11, 15, 17 selected using fancy indexing:\n",
      " [11 15 17]\n"
     ]
    }
   ],
   "source": [
    "rows = [0, 1, 2]\n",
    "cols = [1, 2, 1]\n",
    "\n",
    "picked = data[rows, cols]\n",
    "print(\"\\nElements 11, 15, 17 selected using fancy indexing:\\n\", picked)"
   ]
  },
  {
   "cell_type": "code",
   "execution_count": 20,
   "id": "0818b41f-765f-4ec3-8f99-b5165b5c7872",
   "metadata": {},
   "outputs": [
    {
     "name": "stdout",
     "output_type": "stream",
     "text": [
      "\n",
      "Scores higher than 80 are:\n",
      " [85 92 95 88]\n"
     ]
    }
   ],
   "source": [
    "scores = np.array([85, 92, 78, 65, 95, 88])\n",
    "\n",
    "above_80 = scores[scores > 80]\n",
    "print(\"\\nScores higher than 80 are:\\n\", above_80)"
   ]
  },
  {
   "cell_type": "markdown",
   "id": "aed7753a-a622-4c29-8162-e716c4663898",
   "metadata": {},
   "source": [
    "#### <span style = \"color:blue\">Part 4</span>"
   ]
  },
  {
   "cell_type": "code",
   "execution_count": 21,
   "id": "110297de-c696-4276-aa2a-ce19a83b3328",
   "metadata": {},
   "outputs": [
    {
     "name": "stdout",
     "output_type": "stream",
     "text": [
      "Element-wise multiplication: [ 20  80 180]\n",
      "Element-wise division: [5. 5. 5.]\n"
     ]
    }
   ],
   "source": [
    "arr_op1 = np.array([10, 20, 30])\n",
    "arr_op2 = np.array([2, 4, 6])\n",
    "\n",
    "multiplied = arr_op1 * arr_op2\n",
    "print(\"Element-wise multiplication:\", multiplied)\n",
    "\n",
    "divided = arr_op1 / arr_op2\n",
    "print(\"Element-wise division:\", divided)"
   ]
  },
  {
   "cell_type": "code",
   "execution_count": 25,
   "id": "db980b89-b2e2-43bd-9052-e280b2ffb5d6",
   "metadata": {},
   "outputs": [
    {
     "name": "stdout",
     "output_type": "stream",
     "text": [
      "\n",
      "Total sum of all elements in matrix: 45\n"
     ]
    }
   ],
   "source": [
    "matrix = np.array([\n",
    "    [1, 2, 3],\n",
    "    [4, 5, 6],\n",
    "    [7, 8, 9]\n",
    "])\n",
    "total_sum = np.sum(matrix)\n",
    "print(\"\\nTotal sum of all elements in matrix:\", total_sum)"
   ]
  },
  {
   "cell_type": "code",
   "execution_count": 23,
   "id": "6272a08f-0462-492b-9c0f-2800414f6f04",
   "metadata": {},
   "outputs": [
    {
     "name": "stdout",
     "output_type": "stream",
     "text": [
      "\n",
      "Mean of each column: [4. 5. 6.]\n"
     ]
    }
   ],
   "source": [
    "col_mean = np.mean(matrix, axis=0)\n",
    "print(\"\\nMean of each column:\", col_mean)"
   ]
  },
  {
   "cell_type": "code",
   "execution_count": 24,
   "id": "8ed690c1-18dd-4f28-b72e-132586854544",
   "metadata": {},
   "outputs": [
    {
     "name": "stdout",
     "output_type": "stream",
     "text": [
      "\n",
      "Prices after 10% discount: [ 90. 135. 180. 225.]\n"
     ]
    }
   ],
   "source": [
    "price_array = np.array([100, 150, 200, 250])\n",
    "discount_percentage = 0.10\n",
    "\n",
    "discounted_prices = price_array * (1 - discount_percentage)\n",
    "print(\"\\nPrices after 10% discount:\", discounted_prices)"
   ]
  }
 ],
 "metadata": {
  "kernelspec": {
   "display_name": "Python [conda env:base] *",
   "language": "python",
   "name": "conda-base-py"
  },
  "language_info": {
   "codemirror_mode": {
    "name": "ipython",
    "version": 3
   },
   "file_extension": ".py",
   "mimetype": "text/x-python",
   "name": "python",
   "nbconvert_exporter": "python",
   "pygments_lexer": "ipython3",
   "version": "3.13.5"
  }
 },
 "nbformat": 4,
 "nbformat_minor": 5
}
