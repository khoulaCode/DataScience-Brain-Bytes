{
 "cells": [
  {
   "cell_type": "code",
   "execution_count": 1,
   "id": "aa57ff48-7979-4b35-8ede-b01255abdedf",
   "metadata": {},
   "outputs": [],
   "source": [
    "import os\n",
    "import re\n",
    "import html\n",
    "from pathlib import Path\n",
    "import pandas as pd\n",
    "import numpy as np"
   ]
  },
  {
   "cell_type": "code",
   "execution_count": 2,
   "id": "4bd81686-342d-47ff-8891-6013db270abb",
   "metadata": {},
   "outputs": [],
   "source": [
    "import nltk\n",
    "from nltk.corpus import stopwords\n",
    "from nltk.stem import WordNetLemmatizer\n",
    "nltk.download(\"stopwords\", quiet=True)\n",
    "nltk.download(\"wordnet\", quiet=True)\n",
    "nltk.download(\"omw-1.4\", quiet=True)\n",
    "stop_words = set(stopwords.words(\"english\"))\n",
    "lemmatizer = WordNetLemmatizer()"
   ]
  },
  {
   "cell_type": "code",
   "execution_count": 3,
   "id": "8e931a2f-906a-4eee-8398-1c623b2666e1",
   "metadata": {},
   "outputs": [],
   "source": [
    "data_dir = r\"C:\\Users\\bbuser\\Desktop\\aclImdb\"  \n",
    "subset = \"train\"                               \n",
    "per_class_sample = 5000                         \n",
    "random_state = 42"
   ]
  },
  {
   "cell_type": "code",
   "execution_count": 4,
   "id": "c24b2cdd-c6f8-4196-a7a9-3f8951c0ffcc",
   "metadata": {},
   "outputs": [],
   "source": [
    "out_dir = r\"C:\\Users\\bbuser\\Desktop\\aclImdb_cleaned\"\n",
    "os.makedirs(out_dir, exist_ok=True)\n",
    "out_csv = os.path.join(out_dir, f\"imdb_{subset}_cleaned_sample.csv\")"
   ]
  },
  {
   "cell_type": "code",
   "execution_count": 5,
   "id": "5daa8933-ff5b-437b-b40d-1adeb4cf4e69",
   "metadata": {},
   "outputs": [],
   "source": [
    "url_pat = re.compile(r\"(?i)\\b(?:https?://|www\\.)\\S+\\b\")\n",
    "email_pat = re.compile(r\"(?i)\\b[\\w\\.-]+@[\\w\\.-]+\\.\\w+\\b\")\n",
    "html_tag_pat = re.compile(r\"<[^>]+>\")\n",
    "non_az_pat = re.compile(r\"[^a-z\\s]+\")"
   ]
  },
  {
   "cell_type": "code",
   "execution_count": 6,
   "id": "8d08b92c-1677-4003-90c5-06007a2e6df5",
   "metadata": {},
   "outputs": [],
   "source": [
    "def clean_review(text: str) -> str:\n",
    "    \"\"\"\n",
    "    1) lowercase\n",
    "    2) unescape + strip HTML tags\n",
    "    3) remove urls & emails\n",
    "    4) keep [a-z ] only\n",
    "    5) remove stopwords\n",
    "    6) lemmatize\n",
    "    7) keep tokens len > 2\n",
    "    \"\"\"\n",
    "    if not isinstance(text, str):\n",
    "        text = \"\" if text is None else str(text)\n",
    "\n",
    "    x = text.lower()\n",
    "    x = html.unescape(x)\n",
    "    x = html_tag_pat.sub(\" \", x)\n",
    "    x = url_pat.sub(\" \", x)\n",
    "    x = email_pat.sub(\" \", x)\n",
    "    x = non_az_pat.sub(\" \", x)\n",
    "\n",
    "    toks = []\n",
    "    for t in x.split():\n",
    "        if len(t) <= 2:\n",
    "            continue\n",
    "        if t in stop_words:\n",
    "            continue\n",
    "        t = lemmatizer.lemmatize(t)\n",
    "        if t and len(t) > 2 and t not in stop_words:\n",
    "            toks.append(t)\n",
    "    return \" \".join(toks)"
   ]
  },
  {
   "cell_type": "code",
   "execution_count": 7,
   "id": "45d30c74-47d1-4574-9a20-c9003ebae733",
   "metadata": {},
   "outputs": [],
   "source": [
    "def _extract_id_and_rating(filename: str):\n",
    "    m = re.search(r\"(\\d+)_(\\d+)\\.txt$\", filename)\n",
    "    if not m:\n",
    "        return None, None\n",
    "    return int(m.group(1)), int(m.group(2))\n",
    "\n",
    "def load_imdb_with_rating(base_dir: str | Path, subset: str = \"train\",\n",
    "                          per_class: int = 5000, seed: int = 42) -> pd.DataFrame:\n",
    "    base = Path(base_dir) / subset\n",
    "    pos_dir = base / \"pos\"\n",
    "    neg_dir = base / \"neg\"\n",
    "    if not pos_dir.is_dir() or not neg_dir.is_dir():\n",
    "        raise FileNotFoundError(\n",
    "            f\"Expected folders:\\n  {pos_dir}\\n  {neg_dir}\\nPlease check the path.\"\n",
    "        )\n",
    "\n",
    "    rng = np.random.RandomState(seed)\n",
    "    rows = []\n",
    "\n",
    "    for label_name, label_val in [(\"pos\", 1), (\"neg\", 0)]:\n",
    "        folder = base / label_name\n",
    "        files = [f for f in os.listdir(folder) if f.endswith(\".txt\")]\n",
    "        k = min(per_class, len(files))\n",
    "        sel_idx = rng.choice(len(files), size=k, replace=False)\n",
    "\n",
    "        for idx in sel_idx:\n",
    "            fname = files[idx]\n",
    "            rid, rating = _extract_id_and_rating(fname)\n",
    "            if rid is None:\n",
    "                continue\n",
    "            fpath = folder / fname\n",
    "            with open(fpath, encoding=\"utf-8\") as fh:\n",
    "                txt = fh.read()\n",
    "            rows.append({\n",
    "                \"id\": rid,\n",
    "                \"rating\": rating,\n",
    "                \"label\": label_val,   # 1 = pos, 0 = neg\n",
    "                \"text\": txt\n",
    "            })\n",
    "            \n",
    "    df = pd.DataFrame(rows)\n",
    "    return df.sample(frac=1.0, random_state=seed).reset_index(drop=True)"
   ]
  },
  {
   "cell_type": "code",
   "execution_count": 8,
   "id": "649db33b-a6e8-498a-aee1-020bc27e4393",
   "metadata": {},
   "outputs": [
    {
     "name": "stdout",
     "output_type": "stream",
     "text": [
      "Shape: (10000, 4)\n",
      "Class counts:\n",
      " label\n",
      "0    5000\n",
      "1    5000\n",
      "Name: count, dtype: int64\n"
     ]
    }
   ],
   "source": [
    "df_sample = load_imdb_with_rating(data_dir, subset=subset,\n",
    "                                  per_class=per_class_sample, seed=random_state)\n",
    "print(\"Shape:\", df_sample.shape)\n",
    "print(\"Class counts:\\n\", df_sample[\"label\"].value_counts())"
   ]
  },
  {
   "cell_type": "code",
   "execution_count": 9,
   "id": "62bb75b2-dfde-426d-b8d1-8a1be777534c",
   "metadata": {},
   "outputs": [],
   "source": [
    "df_sample[\"cleaned_review\"] = df_sample[\"text\"].apply(clean_review)"
   ]
  },
  {
   "cell_type": "code",
   "execution_count": 10,
   "id": "f6958009-bc47-45ee-ad13-cc8e3628d0ec",
   "metadata": {},
   "outputs": [
    {
     "name": "stdout",
     "output_type": "stream",
     "text": [
      "[✓] Saved cleaned dataset -> C:\\Users\\bbuser\\Desktop\\aclImdb_cleaned\\imdb_train_cleaned_sample.csv\n"
     ]
    }
   ],
   "source": [
    "df_sample[[\"id\", \"rating\", \"label\", \"text\", \"cleaned_review\"]].to_csv(out_csv, index=False, encoding=\"utf-8\")\n",
    "print(f\"[✓] Saved cleaned dataset -> {out_csv}\")"
   ]
  },
  {
   "cell_type": "code",
   "execution_count": 11,
   "id": "a6bd4af7-3fa3-411d-8da3-dfd73413a7c9",
   "metadata": {},
   "outputs": [
    {
     "name": "stdout",
     "output_type": "stream",
     "text": [
      "\n",
      "=== Before / After (5 examples) ===\n",
      "\n",
      "#1\n",
      "Raw:     I saw this movie when it was released, and my distaste for it has stuck with me all these years. <br /><br />Here's why: <br /><br />Greenaway's goal seems to be to take every literary image in the Tempest and make it literal. If a character were to \n",
      "Cleaned: saw movie released distaste stuck year greenaway goal seems take every literary image tempest make literal character say heart take flight shown actual human heart pigeon wing attached flapping across screen process make lush tableau ultimately facil\n",
      "Label:   neg | Rating: 3\n",
      "\n",
      "#2\n",
      "Raw:     In a series chock-full of brilliant episodes, this one stands out as one of my very favorites. It's not the most profound episode, there's no great meaning or message. But it's a lot of fun, and there are some fine performances.<br /><br />But what m\n",
      "Cleaned: series chock full brilliant episode one stand one favorite profound episode great meaning message lot fun fine performance make really stand knowledge twilight zone episode double snapper ending zone rightly famous providing big surprise end story ti\n",
      "Label:   pos | Rating: 10\n",
      "\n",
      "#3\n",
      "Raw:     Excellent farce! Which, of course, is all it is intended to be. Thankfully there is neither a social or political message, nor is there the slightest attempt in that direction. Could the plot actually take, or have taken place in any particular time \n",
      "Cleaned: excellent farce course intended thankfully neither social political message slightest attempt direction could plot actually take taken place particular time location unlikely simply merely movie movie spring imagination reality goal movie entertain c\n",
      "Label:   pos | Rating: 10\n",
      "\n",
      "#4\n",
      "Raw:     Steely, powerful gangster supreme Frankie Diomede (the always terrific Lee Van Cleef in fine rugged form) has himself arrested and sent to prison so he can rub out a traitorous partner sans detection. Fawning goofball small-time hood and wiseguy wann\n",
      "Cleaned: steely powerful gangster supreme frankie diomede always terrific lee van cleef fine rugged form arrested sent prison rub traitorous partner sans detection fawning goofball small time hood wiseguy wannabe tony breda amiable portrayal tony bianco get b\n",
      "Label:   pos | Rating: 8\n",
      "\n",
      "#5\n",
      "Raw:     There's the danger with the critic/philosopher Slavoj Zizek with his film, directed by Sophie Fiennes, which takes together a wonderful amalgam of silent, horror, sci-fi, surreal and other contemporary thrillers together to make his points ofr Freudi\n",
      "Cleaned: danger critic philosopher slavoj zizek film directed sophie fiennes take together wonderful amalgam silent horror sci surreal contemporary thriller together make point ofr freudian comparison overload pervert guide cinema also make even far reaching \n",
      "Label:   pos | Rating: 10\n"
     ]
    }
   ],
   "source": [
    "print(\"\\n=== Before / After (5 examples) ===\")\n",
    "for i in range(5):\n",
    "    raw = df_sample.loc[i, \"text\"][:250].replace(\"\\n\", \" \")\n",
    "    cleaned = df_sample.loc[i, \"cleaned_review\"][:250]\n",
    "    print(f\"\\n#{i+1}\")\n",
    "    print(\"Raw:    \", raw)\n",
    "    print(\"Cleaned:\", cleaned)\n",
    "    print(\"Label:  \", \"pos\" if df_sample.loc[i, \"label\"] == 1 else \"neg\",\n",
    "          \"| Rating:\", df_sample.loc[i, \"rating\"])"
   ]
  },
  {
   "cell_type": "code",
   "execution_count": 12,
   "id": "180449c0-c6d6-434d-bf1c-c665e8481e6d",
   "metadata": {},
   "outputs": [
    {
     "data": {
      "text/html": [
       "<div>\n",
       "<style scoped>\n",
       "    .dataframe tbody tr th:only-of-type {\n",
       "        vertical-align: middle;\n",
       "    }\n",
       "\n",
       "    .dataframe tbody tr th {\n",
       "        vertical-align: top;\n",
       "    }\n",
       "\n",
       "    .dataframe thead th {\n",
       "        text-align: right;\n",
       "    }\n",
       "</style>\n",
       "<table border=\"1\" class=\"dataframe\">\n",
       "  <thead>\n",
       "    <tr style=\"text-align: right;\">\n",
       "      <th></th>\n",
       "      <th>id</th>\n",
       "      <th>rating</th>\n",
       "      <th>label</th>\n",
       "      <th>text</th>\n",
       "      <th>cleaned_review</th>\n",
       "    </tr>\n",
       "  </thead>\n",
       "  <tbody>\n",
       "    <tr>\n",
       "      <th>0</th>\n",
       "      <td>4083</td>\n",
       "      <td>3</td>\n",
       "      <td>0</td>\n",
       "      <td>I saw this movie when it was released, and my ...</td>\n",
       "      <td>saw movie released distaste stuck year greenaw...</td>\n",
       "    </tr>\n",
       "    <tr>\n",
       "      <th>1</th>\n",
       "      <td>4753</td>\n",
       "      <td>10</td>\n",
       "      <td>1</td>\n",
       "      <td>In a series chock-full of brilliant episodes, ...</td>\n",
       "      <td>series chock full brilliant episode one stand ...</td>\n",
       "    </tr>\n",
       "    <tr>\n",
       "      <th>2</th>\n",
       "      <td>12239</td>\n",
       "      <td>10</td>\n",
       "      <td>1</td>\n",
       "      <td>Excellent farce! Which, of course, is all it i...</td>\n",
       "      <td>excellent farce course intended thankfully nei...</td>\n",
       "    </tr>\n",
       "    <tr>\n",
       "      <th>3</th>\n",
       "      <td>8664</td>\n",
       "      <td>8</td>\n",
       "      <td>1</td>\n",
       "      <td>Steely, powerful gangster supreme Frankie Diom...</td>\n",
       "      <td>steely powerful gangster supreme frankie diome...</td>\n",
       "    </tr>\n",
       "    <tr>\n",
       "      <th>4</th>\n",
       "      <td>1470</td>\n",
       "      <td>10</td>\n",
       "      <td>1</td>\n",
       "      <td>There's the danger with the critic/philosopher...</td>\n",
       "      <td>danger critic philosopher slavoj zizek film di...</td>\n",
       "    </tr>\n",
       "    <tr>\n",
       "      <th>...</th>\n",
       "      <td>...</td>\n",
       "      <td>...</td>\n",
       "      <td>...</td>\n",
       "      <td>...</td>\n",
       "      <td>...</td>\n",
       "    </tr>\n",
       "    <tr>\n",
       "      <th>9995</th>\n",
       "      <td>10811</td>\n",
       "      <td>1</td>\n",
       "      <td>0</td>\n",
       "      <td>This is one of the most god-awful movies ever....</td>\n",
       "      <td>one god awful movie ever shaq better stick bas...</td>\n",
       "    </tr>\n",
       "    <tr>\n",
       "      <th>9996</th>\n",
       "      <td>4976</td>\n",
       "      <td>1</td>\n",
       "      <td>0</td>\n",
       "      <td>I watched Grendel the other night and am compe...</td>\n",
       "      <td>watched grendel night compelled put together p...</td>\n",
       "    </tr>\n",
       "    <tr>\n",
       "      <th>9997</th>\n",
       "      <td>4640</td>\n",
       "      <td>3</td>\n",
       "      <td>0</td>\n",
       "      <td>Hunters chase what they think is a man through...</td>\n",
       "      <td>hunter chase think man forest though audience ...</td>\n",
       "    </tr>\n",
       "    <tr>\n",
       "      <th>9998</th>\n",
       "      <td>10220</td>\n",
       "      <td>7</td>\n",
       "      <td>1</td>\n",
       "      <td>That hilarious line is typical of what these n...</td>\n",
       "      <td>hilarious line typical naughty sister say funn...</td>\n",
       "    </tr>\n",
       "    <tr>\n",
       "      <th>9999</th>\n",
       "      <td>11935</td>\n",
       "      <td>2</td>\n",
       "      <td>0</td>\n",
       "      <td>Billy Chung Siu Hung's (the bloody swordplay f...</td>\n",
       "      <td>billy chung siu hung bloody swordplay film ass...</td>\n",
       "    </tr>\n",
       "  </tbody>\n",
       "</table>\n",
       "<p>10000 rows × 5 columns</p>\n",
       "</div>"
      ],
      "text/plain": [
       "         id  rating  label                                               text  \\\n",
       "0      4083       3      0  I saw this movie when it was released, and my ...   \n",
       "1      4753      10      1  In a series chock-full of brilliant episodes, ...   \n",
       "2     12239      10      1  Excellent farce! Which, of course, is all it i...   \n",
       "3      8664       8      1  Steely, powerful gangster supreme Frankie Diom...   \n",
       "4      1470      10      1  There's the danger with the critic/philosopher...   \n",
       "...     ...     ...    ...                                                ...   \n",
       "9995  10811       1      0  This is one of the most god-awful movies ever....   \n",
       "9996   4976       1      0  I watched Grendel the other night and am compe...   \n",
       "9997   4640       3      0  Hunters chase what they think is a man through...   \n",
       "9998  10220       7      1  That hilarious line is typical of what these n...   \n",
       "9999  11935       2      0  Billy Chung Siu Hung's (the bloody swordplay f...   \n",
       "\n",
       "                                         cleaned_review  \n",
       "0     saw movie released distaste stuck year greenaw...  \n",
       "1     series chock full brilliant episode one stand ...  \n",
       "2     excellent farce course intended thankfully nei...  \n",
       "3     steely powerful gangster supreme frankie diome...  \n",
       "4     danger critic philosopher slavoj zizek film di...  \n",
       "...                                                 ...  \n",
       "9995  one god awful movie ever shaq better stick bas...  \n",
       "9996  watched grendel night compelled put together p...  \n",
       "9997  hunter chase think man forest though audience ...  \n",
       "9998  hilarious line typical naughty sister say funn...  \n",
       "9999  billy chung siu hung bloody swordplay film ass...  \n",
       "\n",
       "[10000 rows x 5 columns]"
      ]
     },
     "execution_count": 12,
     "metadata": {},
     "output_type": "execute_result"
    }
   ],
   "source": [
    "df_sample"
   ]
  },
  {
   "cell_type": "code",
   "execution_count": 13,
   "id": "6fd7a4e0-a4a1-436c-b705-17b432a5d41d",
   "metadata": {},
   "outputs": [
    {
     "name": "stdout",
     "output_type": "stream",
     "text": [
      "Saved to: C:\\Users\\bbuser\\Desktop\\aclImdb_cleaned\\imdb_train_cleaned_sample.csv\n"
     ]
    }
   ],
   "source": [
    "out_path = r\"C:\\Users\\bbuser\\Desktop\\aclImdb_cleaned\\imdb_train_cleaned_sample.csv\"\n",
    "df_sample.to_csv(out_path, index=False, encoding=\"utf-8\")\n",
    "print(f\"Saved to: {out_path}\")"
   ]
  }
 ],
 "metadata": {
  "kernelspec": {
   "display_name": "Python [conda env:base] *",
   "language": "python",
   "name": "conda-base-py"
  },
  "language_info": {
   "codemirror_mode": {
    "name": "ipython",
    "version": 3
   },
   "file_extension": ".py",
   "mimetype": "text/x-python",
   "name": "python",
   "nbconvert_exporter": "python",
   "pygments_lexer": "ipython3",
   "version": "3.13.5"
  }
 },
 "nbformat": 4,
 "nbformat_minor": 5
}
