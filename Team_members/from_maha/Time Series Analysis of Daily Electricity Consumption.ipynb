{
 "cells": [
  {
   "cell_type": "markdown",
   "id": "4231a77d-0c89-48fb-815f-12b601fc0e8d",
   "metadata": {},
   "source": [
    "# Time Series Analysis of Daily Electricity Consumption"
   ]
  },
  {
   "cell_type": "code",
   "execution_count": 23,
   "id": "53a6f12e-2f39-4184-875d-8c6decf9290e",
   "metadata": {},
   "outputs": [],
   "source": [
    "import pandas as pd\n",
    "import numpy as np"
   ]
  },
  {
   "cell_type": "code",
   "execution_count": 24,
   "id": "7a9e65e5-c112-4d27-8e4c-e21d9dc7ebeb",
   "metadata": {},
   "outputs": [],
   "source": [
    "# !pip install xlrd"
   ]
  },
  {
   "cell_type": "code",
   "execution_count": 25,
   "id": "e90cf6f6-1a6d-4aaf-9f29-42c3976c57c6",
   "metadata": {
    "scrolled": true
   },
   "outputs": [],
   "source": [
    "# !pip install openpyxl"
   ]
  },
  {
   "cell_type": "code",
   "execution_count": 26,
   "id": "c3bffc1e-20be-408a-9824-16ec6d1d81e9",
   "metadata": {},
   "outputs": [],
   "source": [
    "path = r\"C:\\Users\\bbuser\\Desktop\\Time Series Analysis of Daily Electricity Consumption\\household_power_consumption.txt\"\n",
    "df = pd.read_csv(path, sep=';', low_memory=False)"
   ]
  },
  {
   "cell_type": "markdown",
   "id": "22c6dcaf-36bd-49a1-b1b0-05ea8c886149",
   "metadata": {
    "jp-MarkdownHeadingCollapsed": true
   },
   "source": [
    "## Basic time series handling using pandas"
   ]
  },
  {
   "cell_type": "code",
   "execution_count": 27,
   "id": "59e6faf5-448c-47a6-96f9-974f94d07c4d",
   "metadata": {
    "scrolled": true
   },
   "outputs": [
    {
     "data": {
      "text/html": [
       "<div>\n",
       "<style scoped>\n",
       "    .dataframe tbody tr th:only-of-type {\n",
       "        vertical-align: middle;\n",
       "    }\n",
       "\n",
       "    .dataframe tbody tr th {\n",
       "        vertical-align: top;\n",
       "    }\n",
       "\n",
       "    .dataframe thead th {\n",
       "        text-align: right;\n",
       "    }\n",
       "</style>\n",
       "<table border=\"1\" class=\"dataframe\">\n",
       "  <thead>\n",
       "    <tr style=\"text-align: right;\">\n",
       "      <th></th>\n",
       "      <th>Date</th>\n",
       "      <th>Time</th>\n",
       "      <th>Global_active_power</th>\n",
       "      <th>Global_reactive_power</th>\n",
       "      <th>Voltage</th>\n",
       "      <th>Global_intensity</th>\n",
       "      <th>Sub_metering_1</th>\n",
       "      <th>Sub_metering_2</th>\n",
       "      <th>Sub_metering_3</th>\n",
       "    </tr>\n",
       "  </thead>\n",
       "  <tbody>\n",
       "    <tr>\n",
       "      <th>0</th>\n",
       "      <td>16/12/2006</td>\n",
       "      <td>17:24:00</td>\n",
       "      <td>4.216</td>\n",
       "      <td>0.418</td>\n",
       "      <td>234.840</td>\n",
       "      <td>18.400</td>\n",
       "      <td>0.000</td>\n",
       "      <td>1.000</td>\n",
       "      <td>17.0</td>\n",
       "    </tr>\n",
       "    <tr>\n",
       "      <th>1</th>\n",
       "      <td>16/12/2006</td>\n",
       "      <td>17:25:00</td>\n",
       "      <td>5.360</td>\n",
       "      <td>0.436</td>\n",
       "      <td>233.630</td>\n",
       "      <td>23.000</td>\n",
       "      <td>0.000</td>\n",
       "      <td>1.000</td>\n",
       "      <td>16.0</td>\n",
       "    </tr>\n",
       "    <tr>\n",
       "      <th>2</th>\n",
       "      <td>16/12/2006</td>\n",
       "      <td>17:26:00</td>\n",
       "      <td>5.374</td>\n",
       "      <td>0.498</td>\n",
       "      <td>233.290</td>\n",
       "      <td>23.000</td>\n",
       "      <td>0.000</td>\n",
       "      <td>2.000</td>\n",
       "      <td>17.0</td>\n",
       "    </tr>\n",
       "    <tr>\n",
       "      <th>3</th>\n",
       "      <td>16/12/2006</td>\n",
       "      <td>17:27:00</td>\n",
       "      <td>5.388</td>\n",
       "      <td>0.502</td>\n",
       "      <td>233.740</td>\n",
       "      <td>23.000</td>\n",
       "      <td>0.000</td>\n",
       "      <td>1.000</td>\n",
       "      <td>17.0</td>\n",
       "    </tr>\n",
       "    <tr>\n",
       "      <th>4</th>\n",
       "      <td>16/12/2006</td>\n",
       "      <td>17:28:00</td>\n",
       "      <td>3.666</td>\n",
       "      <td>0.528</td>\n",
       "      <td>235.680</td>\n",
       "      <td>15.800</td>\n",
       "      <td>0.000</td>\n",
       "      <td>1.000</td>\n",
       "      <td>17.0</td>\n",
       "    </tr>\n",
       "  </tbody>\n",
       "</table>\n",
       "</div>"
      ],
      "text/plain": [
       "         Date      Time Global_active_power Global_reactive_power  Voltage  \\\n",
       "0  16/12/2006  17:24:00               4.216                 0.418  234.840   \n",
       "1  16/12/2006  17:25:00               5.360                 0.436  233.630   \n",
       "2  16/12/2006  17:26:00               5.374                 0.498  233.290   \n",
       "3  16/12/2006  17:27:00               5.388                 0.502  233.740   \n",
       "4  16/12/2006  17:28:00               3.666                 0.528  235.680   \n",
       "\n",
       "  Global_intensity Sub_metering_1 Sub_metering_2  Sub_metering_3  \n",
       "0           18.400          0.000          1.000            17.0  \n",
       "1           23.000          0.000          1.000            16.0  \n",
       "2           23.000          0.000          2.000            17.0  \n",
       "3           23.000          0.000          1.000            17.0  \n",
       "4           15.800          0.000          1.000            17.0  "
      ]
     },
     "execution_count": 27,
     "metadata": {},
     "output_type": "execute_result"
    }
   ],
   "source": [
    "df.head()"
   ]
  },
  {
   "cell_type": "code",
   "execution_count": 28,
   "id": "f0bb1f86-368a-469b-913c-21c8da2d38a3",
   "metadata": {
    "scrolled": true
   },
   "outputs": [
    {
     "name": "stdout",
     "output_type": "stream",
     "text": [
      "<class 'pandas.core.frame.DataFrame'>\n",
      "RangeIndex: 2075259 entries, 0 to 2075258\n",
      "Data columns (total 9 columns):\n",
      " #   Column                 Dtype  \n",
      "---  ------                 -----  \n",
      " 0   Date                   object \n",
      " 1   Time                   object \n",
      " 2   Global_active_power    object \n",
      " 3   Global_reactive_power  object \n",
      " 4   Voltage                object \n",
      " 5   Global_intensity       object \n",
      " 6   Sub_metering_1         object \n",
      " 7   Sub_metering_2         object \n",
      " 8   Sub_metering_3         float64\n",
      "dtypes: float64(1), object(8)\n",
      "memory usage: 142.5+ MB\n"
     ]
    }
   ],
   "source": [
    "df.info()"
   ]
  },
  {
   "cell_type": "code",
   "execution_count": 29,
   "id": "02309ca8-5ebe-4479-b2dd-8203b9c2a859",
   "metadata": {},
   "outputs": [],
   "source": [
    "df.replace('', np.nan, inplace=True)\n",
    "df.replace('?', np.nan, inplace=True)"
   ]
  },
  {
   "cell_type": "code",
   "execution_count": 30,
   "id": "9aeddf89-3119-437f-9a42-fe6ba4fbb7e1",
   "metadata": {},
   "outputs": [
    {
     "data": {
      "text/html": [
       "<div>\n",
       "<style scoped>\n",
       "    .dataframe tbody tr th:only-of-type {\n",
       "        vertical-align: middle;\n",
       "    }\n",
       "\n",
       "    .dataframe tbody tr th {\n",
       "        vertical-align: top;\n",
       "    }\n",
       "\n",
       "    .dataframe thead th {\n",
       "        text-align: right;\n",
       "    }\n",
       "</style>\n",
       "<table border=\"1\" class=\"dataframe\">\n",
       "  <thead>\n",
       "    <tr style=\"text-align: right;\">\n",
       "      <th></th>\n",
       "      <th>Date</th>\n",
       "      <th>Time</th>\n",
       "      <th>Global_active_power</th>\n",
       "      <th>Global_reactive_power</th>\n",
       "      <th>Voltage</th>\n",
       "      <th>Global_intensity</th>\n",
       "      <th>Sub_metering_1</th>\n",
       "      <th>Sub_metering_2</th>\n",
       "      <th>Sub_metering_3</th>\n",
       "    </tr>\n",
       "  </thead>\n",
       "  <tbody>\n",
       "    <tr>\n",
       "      <th>0</th>\n",
       "      <td>False</td>\n",
       "      <td>False</td>\n",
       "      <td>False</td>\n",
       "      <td>False</td>\n",
       "      <td>False</td>\n",
       "      <td>False</td>\n",
       "      <td>False</td>\n",
       "      <td>False</td>\n",
       "      <td>False</td>\n",
       "    </tr>\n",
       "    <tr>\n",
       "      <th>1</th>\n",
       "      <td>False</td>\n",
       "      <td>False</td>\n",
       "      <td>False</td>\n",
       "      <td>False</td>\n",
       "      <td>False</td>\n",
       "      <td>False</td>\n",
       "      <td>False</td>\n",
       "      <td>False</td>\n",
       "      <td>False</td>\n",
       "    </tr>\n",
       "    <tr>\n",
       "      <th>2</th>\n",
       "      <td>False</td>\n",
       "      <td>False</td>\n",
       "      <td>False</td>\n",
       "      <td>False</td>\n",
       "      <td>False</td>\n",
       "      <td>False</td>\n",
       "      <td>False</td>\n",
       "      <td>False</td>\n",
       "      <td>False</td>\n",
       "    </tr>\n",
       "    <tr>\n",
       "      <th>3</th>\n",
       "      <td>False</td>\n",
       "      <td>False</td>\n",
       "      <td>False</td>\n",
       "      <td>False</td>\n",
       "      <td>False</td>\n",
       "      <td>False</td>\n",
       "      <td>False</td>\n",
       "      <td>False</td>\n",
       "      <td>False</td>\n",
       "    </tr>\n",
       "    <tr>\n",
       "      <th>4</th>\n",
       "      <td>False</td>\n",
       "      <td>False</td>\n",
       "      <td>False</td>\n",
       "      <td>False</td>\n",
       "      <td>False</td>\n",
       "      <td>False</td>\n",
       "      <td>False</td>\n",
       "      <td>False</td>\n",
       "      <td>False</td>\n",
       "    </tr>\n",
       "    <tr>\n",
       "      <th>...</th>\n",
       "      <td>...</td>\n",
       "      <td>...</td>\n",
       "      <td>...</td>\n",
       "      <td>...</td>\n",
       "      <td>...</td>\n",
       "      <td>...</td>\n",
       "      <td>...</td>\n",
       "      <td>...</td>\n",
       "      <td>...</td>\n",
       "    </tr>\n",
       "    <tr>\n",
       "      <th>2075254</th>\n",
       "      <td>False</td>\n",
       "      <td>False</td>\n",
       "      <td>False</td>\n",
       "      <td>False</td>\n",
       "      <td>False</td>\n",
       "      <td>False</td>\n",
       "      <td>False</td>\n",
       "      <td>False</td>\n",
       "      <td>False</td>\n",
       "    </tr>\n",
       "    <tr>\n",
       "      <th>2075255</th>\n",
       "      <td>False</td>\n",
       "      <td>False</td>\n",
       "      <td>False</td>\n",
       "      <td>False</td>\n",
       "      <td>False</td>\n",
       "      <td>False</td>\n",
       "      <td>False</td>\n",
       "      <td>False</td>\n",
       "      <td>False</td>\n",
       "    </tr>\n",
       "    <tr>\n",
       "      <th>2075256</th>\n",
       "      <td>False</td>\n",
       "      <td>False</td>\n",
       "      <td>False</td>\n",
       "      <td>False</td>\n",
       "      <td>False</td>\n",
       "      <td>False</td>\n",
       "      <td>False</td>\n",
       "      <td>False</td>\n",
       "      <td>False</td>\n",
       "    </tr>\n",
       "    <tr>\n",
       "      <th>2075257</th>\n",
       "      <td>False</td>\n",
       "      <td>False</td>\n",
       "      <td>False</td>\n",
       "      <td>False</td>\n",
       "      <td>False</td>\n",
       "      <td>False</td>\n",
       "      <td>False</td>\n",
       "      <td>False</td>\n",
       "      <td>False</td>\n",
       "    </tr>\n",
       "    <tr>\n",
       "      <th>2075258</th>\n",
       "      <td>False</td>\n",
       "      <td>False</td>\n",
       "      <td>False</td>\n",
       "      <td>False</td>\n",
       "      <td>False</td>\n",
       "      <td>False</td>\n",
       "      <td>False</td>\n",
       "      <td>False</td>\n",
       "      <td>False</td>\n",
       "    </tr>\n",
       "  </tbody>\n",
       "</table>\n",
       "<p>2075259 rows × 9 columns</p>\n",
       "</div>"
      ],
      "text/plain": [
       "          Date   Time  Global_active_power  Global_reactive_power  Voltage  \\\n",
       "0        False  False                False                  False    False   \n",
       "1        False  False                False                  False    False   \n",
       "2        False  False                False                  False    False   \n",
       "3        False  False                False                  False    False   \n",
       "4        False  False                False                  False    False   \n",
       "...        ...    ...                  ...                    ...      ...   \n",
       "2075254  False  False                False                  False    False   \n",
       "2075255  False  False                False                  False    False   \n",
       "2075256  False  False                False                  False    False   \n",
       "2075257  False  False                False                  False    False   \n",
       "2075258  False  False                False                  False    False   \n",
       "\n",
       "         Global_intensity  Sub_metering_1  Sub_metering_2  Sub_metering_3  \n",
       "0                   False           False           False           False  \n",
       "1                   False           False           False           False  \n",
       "2                   False           False           False           False  \n",
       "3                   False           False           False           False  \n",
       "4                   False           False           False           False  \n",
       "...                   ...             ...             ...             ...  \n",
       "2075254             False           False           False           False  \n",
       "2075255             False           False           False           False  \n",
       "2075256             False           False           False           False  \n",
       "2075257             False           False           False           False  \n",
       "2075258             False           False           False           False  \n",
       "\n",
       "[2075259 rows x 9 columns]"
      ]
     },
     "execution_count": 30,
     "metadata": {},
     "output_type": "execute_result"
    }
   ],
   "source": [
    "df.isnull()"
   ]
  },
  {
   "cell_type": "code",
   "execution_count": 31,
   "id": "3620719d-cc51-46a5-b7d2-641ac832a281",
   "metadata": {},
   "outputs": [],
   "source": [
    "colums = [\n",
    "    'Global_active_power',\n",
    "    'Global_reactive_power',\n",
    "    'Voltage',\n",
    "    'Global_intensity',\n",
    "    'Sub_metering_1',\n",
    "    'Sub_metering_2',\n",
    "    'Sub_metering_3'\n",
    "]\n",
    "df[colums] = df[colums].astype(float)"
   ]
  },
  {
   "cell_type": "code",
   "execution_count": 32,
   "id": "3b93442f-0bba-4f38-80ea-46de91de5877",
   "metadata": {
    "scrolled": true
   },
   "outputs": [
    {
     "name": "stdout",
     "output_type": "stream",
     "text": [
      "<class 'pandas.core.frame.DataFrame'>\n",
      "RangeIndex: 2075259 entries, 0 to 2075258\n",
      "Data columns (total 9 columns):\n",
      " #   Column                 Dtype  \n",
      "---  ------                 -----  \n",
      " 0   Date                   object \n",
      " 1   Time                   object \n",
      " 2   Global_active_power    float64\n",
      " 3   Global_reactive_power  float64\n",
      " 4   Voltage                float64\n",
      " 5   Global_intensity       float64\n",
      " 6   Sub_metering_1         float64\n",
      " 7   Sub_metering_2         float64\n",
      " 8   Sub_metering_3         float64\n",
      "dtypes: float64(7), object(2)\n",
      "memory usage: 142.5+ MB\n"
     ]
    }
   ],
   "source": [
    "df.info()"
   ]
  },
  {
   "cell_type": "markdown",
   "id": "e2e6ddbc-4f7a-4eba-abde-cdb1d112a131",
   "metadata": {},
   "source": [
    " # Convert to datetime"
   ]
  },
  {
   "cell_type": "code",
   "execution_count": 33,
   "id": "e9de6567-508f-4dca-a78a-85b1f378c287",
   "metadata": {
    "scrolled": true
   },
   "outputs": [
    {
     "name": "stderr",
     "output_type": "stream",
     "text": [
      "C:\\Users\\bbuser\\AppData\\Local\\Temp\\ipykernel_18004\\1991836566.py:1: UserWarning: Parsing dates in %d/%m/%Y format when dayfirst=False (the default) was specified. Pass `dayfirst=True` or specify a format to silence this warning.\n",
      "  df[\"Date\"] = pd.to_datetime(df[\"Date\"])\n"
     ]
    }
   ],
   "source": [
    "df[\"Date\"] = pd.to_datetime(df[\"Date\"])\n",
    "# df[\"Time\"] = pd.to_datetime(df[\"Time\"])"
   ]
  },
  {
   "cell_type": "code",
   "execution_count": 34,
   "id": "3dab6035-7074-4327-9de5-bca516e7557f",
   "metadata": {},
   "outputs": [
    {
     "data": {
      "text/plain": [
       "Date                     datetime64[ns]\n",
       "Time                             object\n",
       "Global_active_power             float64\n",
       "Global_reactive_power           float64\n",
       "Voltage                         float64\n",
       "Global_intensity                float64\n",
       "Sub_metering_1                  float64\n",
       "Sub_metering_2                  float64\n",
       "Sub_metering_3                  float64\n",
       "dtype: object"
      ]
     },
     "execution_count": 34,
     "metadata": {},
     "output_type": "execute_result"
    }
   ],
   "source": [
    "df.dtypes"
   ]
  },
  {
   "cell_type": "code",
   "execution_count": 35,
   "id": "8830e4ec-8f4d-4869-bea9-5267fe5cfd88",
   "metadata": {},
   "outputs": [
    {
     "data": {
      "text/plain": [
       "0          17:24:00\n",
       "1          17:25:00\n",
       "2          17:26:00\n",
       "3          17:27:00\n",
       "4          17:28:00\n",
       "             ...   \n",
       "2075254    20:58:00\n",
       "2075255    20:59:00\n",
       "2075256    21:00:00\n",
       "2075257    21:01:00\n",
       "2075258    21:02:00\n",
       "Name: Time, Length: 2075259, dtype: object"
      ]
     },
     "execution_count": 35,
     "metadata": {},
     "output_type": "execute_result"
    }
   ],
   "source": [
    "df[\"Time\"]"
   ]
  },
  {
   "cell_type": "code",
   "execution_count": 36,
   "id": "dd4cc46c-80eb-4e56-9d00-e08be146cae4",
   "metadata": {},
   "outputs": [
    {
     "name": "stdout",
     "output_type": "stream",
     "text": [
      "<class 'pandas.core.frame.DataFrame'>\n",
      "RangeIndex: 2075259 entries, 0 to 2075258\n",
      "Data columns (total 9 columns):\n",
      " #   Column                 Dtype         \n",
      "---  ------                 -----         \n",
      " 0   Date                   datetime64[ns]\n",
      " 1   Time                   object        \n",
      " 2   Global_active_power    float64       \n",
      " 3   Global_reactive_power  float64       \n",
      " 4   Voltage                float64       \n",
      " 5   Global_intensity       float64       \n",
      " 6   Sub_metering_1         float64       \n",
      " 7   Sub_metering_2         float64       \n",
      " 8   Sub_metering_3         float64       \n",
      "dtypes: datetime64[ns](1), float64(7), object(1)\n",
      "memory usage: 142.5+ MB\n"
     ]
    }
   ],
   "source": [
    "df.info()"
   ]
  },
  {
   "cell_type": "markdown",
   "id": "b5aba747-335a-4a40-9500-ab52ea22194d",
   "metadata": {
    "jp-MarkdownHeadingCollapsed": true
   },
   "source": [
    "## set datetime index"
   ]
  },
  {
   "cell_type": "code",
   "execution_count": 37,
   "id": "2046e36c-ca1f-4f49-b4fe-aabc2242b905",
   "metadata": {},
   "outputs": [
    {
     "name": "stdout",
     "output_type": "stream",
     "text": [
      "\n",
      "DataFrame with DatetimeIndex:\n",
      "                 Time  Global_active_power  Global_reactive_power  Voltage  \\\n",
      "Date                                                                        \n",
      "2006-12-16  17:24:00                4.216                  0.418   234.84   \n",
      "2006-12-16  17:25:00                5.360                  0.436   233.63   \n",
      "2006-12-16  17:26:00                5.374                  0.498   233.29   \n",
      "2006-12-16  17:27:00                5.388                  0.502   233.74   \n",
      "2006-12-16  17:28:00                3.666                  0.528   235.68   \n",
      "...              ...                  ...                    ...      ...   \n",
      "2010-11-26  20:58:00                0.946                  0.000   240.43   \n",
      "2010-11-26  20:59:00                0.944                  0.000   240.00   \n",
      "2010-11-26  21:00:00                0.938                  0.000   239.82   \n",
      "2010-11-26  21:01:00                0.934                  0.000   239.70   \n",
      "2010-11-26  21:02:00                0.932                  0.000   239.55   \n",
      "\n",
      "            Global_intensity  Sub_metering_1  Sub_metering_2  Sub_metering_3  \n",
      "Date                                                                          \n",
      "2006-12-16              18.4             0.0             1.0            17.0  \n",
      "2006-12-16              23.0             0.0             1.0            16.0  \n",
      "2006-12-16              23.0             0.0             2.0            17.0  \n",
      "2006-12-16              23.0             0.0             1.0            17.0  \n",
      "2006-12-16              15.8             0.0             1.0            17.0  \n",
      "...                      ...             ...             ...             ...  \n",
      "2010-11-26               4.0             0.0             0.0             0.0  \n",
      "2010-11-26               4.0             0.0             0.0             0.0  \n",
      "2010-11-26               3.8             0.0             0.0             0.0  \n",
      "2010-11-26               3.8             0.0             0.0             0.0  \n",
      "2010-11-26               3.8             0.0             0.0             0.0  \n",
      "\n",
      "[2075259 rows x 8 columns]\n",
      "\n",
      "Index type: DatetimeIndex(['2006-12-16', '2006-12-16', '2006-12-16', '2006-12-16',\n",
      "               '2006-12-16', '2006-12-16', '2006-12-16', '2006-12-16',\n",
      "               '2006-12-16', '2006-12-16',\n",
      "               ...\n",
      "               '2010-11-26', '2010-11-26', '2010-11-26', '2010-11-26',\n",
      "               '2010-11-26', '2010-11-26', '2010-11-26', '2010-11-26',\n",
      "               '2010-11-26', '2010-11-26'],\n",
      "              dtype='datetime64[ns]', name='Date', length=2075259, freq=None)\n"
     ]
    }
   ],
   "source": [
    "df = df.set_index('Date')\n",
    "print(\"\\nDataFrame with DatetimeIndex:\\n\", df)\n",
    "print(\"\\nIndex type:\", df.index)"
   ]
  },
  {
   "cell_type": "code",
   "execution_count": 38,
   "id": "fdaef826-22e2-4ac7-bc39-56dbf6fc1bd0",
   "metadata": {},
   "outputs": [
    {
     "data": {
      "text/html": [
       "<div>\n",
       "<style scoped>\n",
       "    .dataframe tbody tr th:only-of-type {\n",
       "        vertical-align: middle;\n",
       "    }\n",
       "\n",
       "    .dataframe tbody tr th {\n",
       "        vertical-align: top;\n",
       "    }\n",
       "\n",
       "    .dataframe thead th {\n",
       "        text-align: right;\n",
       "    }\n",
       "</style>\n",
       "<table border=\"1\" class=\"dataframe\">\n",
       "  <thead>\n",
       "    <tr style=\"text-align: right;\">\n",
       "      <th></th>\n",
       "      <th>Time</th>\n",
       "      <th>Global_active_power</th>\n",
       "      <th>Global_reactive_power</th>\n",
       "      <th>Voltage</th>\n",
       "      <th>Global_intensity</th>\n",
       "      <th>Sub_metering_1</th>\n",
       "      <th>Sub_metering_2</th>\n",
       "      <th>Sub_metering_3</th>\n",
       "    </tr>\n",
       "    <tr>\n",
       "      <th>Date</th>\n",
       "      <th></th>\n",
       "      <th></th>\n",
       "      <th></th>\n",
       "      <th></th>\n",
       "      <th></th>\n",
       "      <th></th>\n",
       "      <th></th>\n",
       "      <th></th>\n",
       "    </tr>\n",
       "  </thead>\n",
       "  <tbody>\n",
       "    <tr>\n",
       "      <th>2006-12-16</th>\n",
       "      <td>17:24:00</td>\n",
       "      <td>4.216</td>\n",
       "      <td>0.418</td>\n",
       "      <td>234.84</td>\n",
       "      <td>18.4</td>\n",
       "      <td>0.0</td>\n",
       "      <td>1.0</td>\n",
       "      <td>17.0</td>\n",
       "    </tr>\n",
       "    <tr>\n",
       "      <th>2006-12-16</th>\n",
       "      <td>17:25:00</td>\n",
       "      <td>5.360</td>\n",
       "      <td>0.436</td>\n",
       "      <td>233.63</td>\n",
       "      <td>23.0</td>\n",
       "      <td>0.0</td>\n",
       "      <td>1.0</td>\n",
       "      <td>16.0</td>\n",
       "    </tr>\n",
       "    <tr>\n",
       "      <th>2006-12-16</th>\n",
       "      <td>17:26:00</td>\n",
       "      <td>5.374</td>\n",
       "      <td>0.498</td>\n",
       "      <td>233.29</td>\n",
       "      <td>23.0</td>\n",
       "      <td>0.0</td>\n",
       "      <td>2.0</td>\n",
       "      <td>17.0</td>\n",
       "    </tr>\n",
       "    <tr>\n",
       "      <th>2006-12-16</th>\n",
       "      <td>17:27:00</td>\n",
       "      <td>5.388</td>\n",
       "      <td>0.502</td>\n",
       "      <td>233.74</td>\n",
       "      <td>23.0</td>\n",
       "      <td>0.0</td>\n",
       "      <td>1.0</td>\n",
       "      <td>17.0</td>\n",
       "    </tr>\n",
       "    <tr>\n",
       "      <th>2006-12-16</th>\n",
       "      <td>17:28:00</td>\n",
       "      <td>3.666</td>\n",
       "      <td>0.528</td>\n",
       "      <td>235.68</td>\n",
       "      <td>15.8</td>\n",
       "      <td>0.0</td>\n",
       "      <td>1.0</td>\n",
       "      <td>17.0</td>\n",
       "    </tr>\n",
       "  </tbody>\n",
       "</table>\n",
       "</div>"
      ],
      "text/plain": [
       "                Time  Global_active_power  Global_reactive_power  Voltage  \\\n",
       "Date                                                                        \n",
       "2006-12-16  17:24:00                4.216                  0.418   234.84   \n",
       "2006-12-16  17:25:00                5.360                  0.436   233.63   \n",
       "2006-12-16  17:26:00                5.374                  0.498   233.29   \n",
       "2006-12-16  17:27:00                5.388                  0.502   233.74   \n",
       "2006-12-16  17:28:00                3.666                  0.528   235.68   \n",
       "\n",
       "            Global_intensity  Sub_metering_1  Sub_metering_2  Sub_metering_3  \n",
       "Date                                                                          \n",
       "2006-12-16              18.4             0.0             1.0            17.0  \n",
       "2006-12-16              23.0             0.0             1.0            16.0  \n",
       "2006-12-16              23.0             0.0             2.0            17.0  \n",
       "2006-12-16              23.0             0.0             1.0            17.0  \n",
       "2006-12-16              15.8             0.0             1.0            17.0  "
      ]
     },
     "execution_count": 38,
     "metadata": {},
     "output_type": "execute_result"
    }
   ],
   "source": [
    "df.head()"
   ]
  },
  {
   "cell_type": "markdown",
   "id": "67799da6-5c7e-456c-8d78-a638aac6254c",
   "metadata": {},
   "source": [
    " # Time-based Slicing"
   ]
  },
  {
   "cell_type": "code",
   "execution_count": 39,
   "id": "4faf1d74-6cf4-4769-aade-267d6640a11e",
   "metadata": {
    "scrolled": true
   },
   "outputs": [
    {
     "name": "stdout",
     "output_type": "stream",
     "text": [
      "\n",
      "Longer Time Series DataFrame:\n",
      "             Value\n",
      "2023-01-01     17\n",
      "2023-01-02     28\n",
      "2023-01-03     23\n",
      "2023-01-04     13\n",
      "2023-01-05     18\n",
      "2023-01-06     14\n",
      "2023-01-07     15\n",
      "2023-01-08     26\n",
      "2023-01-09     27\n",
      "2023-01-10     27\n",
      "\n",
      "Data for '2023-01-05':\n",
      " Value    18\n",
      "Name: 2023-01-05 00:00:00, dtype: int32\n",
      "\n",
      "Data for '2023-01-03' to '2023-01-07':\n",
      "             Value\n",
      "2023-01-03     23\n",
      "2023-01-04     13\n",
      "2023-01-05     18\n",
      "2023-01-06     14\n",
      "2023-01-07     15\n"
     ]
    }
   ],
   "source": [
    "dates = pd.date_range(start='2023-01-01', periods=10, freq='D')\n",
    "values = np.random.randint(10, 30, size=10)\n",
    "df_ts = pd.DataFrame({'Value': values}, index=dates)\n",
    "print(\"\\nLonger Time Series DataFrame:\\n\", df_ts)\n",
    "\n",
    "print(\"\\nData for '2023-01-05':\\n\", df_ts.loc['2023-01-05'])\n",
    "print(\"\\nData for '2023-01-03' to '2023-01-07':\\n\", df_ts.loc['2023-01-03':'2023-01-07'])"
   ]
  },
  {
   "cell_type": "markdown",
   "id": "315423a7-4276-407e-8506-dfae7285d841",
   "metadata": {
    "jp-MarkdownHeadingCollapsed": true
   },
   "source": [
    "## Resampling"
   ]
  },
  {
   "cell_type": "code",
   "execution_count": 40,
   "id": "4d05c978-f16d-46d4-ba6f-c4886fccc335",
   "metadata": {},
   "outputs": [
    {
     "name": "stdout",
     "output_type": "stream",
     "text": [
      "\n",
      "Weekly sum:\n",
      "             Value\n",
      "2023-01-01     17\n",
      "2023-01-08    137\n",
      "2023-01-15     54\n",
      "\n",
      "Monthly mean:\n",
      "             Value\n",
      "2023-01-31   20.8\n"
     ]
    },
    {
     "name": "stderr",
     "output_type": "stream",
     "text": [
      "C:\\Users\\bbuser\\AppData\\Local\\Temp\\ipykernel_18004\\2937456712.py:4: FutureWarning: 'M' is deprecated and will be removed in a future version, please use 'ME' instead.\n",
      "  df_monthly_mean = df_ts.resample('M').mean()\n"
     ]
    }
   ],
   "source": [
    "df_weekly_sum = df_ts.resample('W').sum()\n",
    "print(\"\\nWeekly sum:\\n\", df_weekly_sum)\n",
    "\n",
    "df_monthly_mean = df_ts.resample('M').mean()\n",
    "print(\"\\nMonthly mean:\\n\", df_monthly_mean)"
   ]
  },
  {
   "cell_type": "code",
   "execution_count": null,
   "id": "ad1e3828-ec73-4daf-a826-b1f45a9c59b5",
   "metadata": {},
   "outputs": [],
   "source": []
  }
 ],
 "metadata": {
  "kernelspec": {
   "display_name": "Python [conda env:base] *",
   "language": "python",
   "name": "conda-base-py"
  },
  "language_info": {
   "codemirror_mode": {
    "name": "ipython",
    "version": 3
   },
   "file_extension": ".py",
   "mimetype": "text/x-python",
   "name": "python",
   "nbconvert_exporter": "python",
   "pygments_lexer": "ipython3",
   "version": "3.13.5"
  }
 },
 "nbformat": 4,
 "nbformat_minor": 5
}
