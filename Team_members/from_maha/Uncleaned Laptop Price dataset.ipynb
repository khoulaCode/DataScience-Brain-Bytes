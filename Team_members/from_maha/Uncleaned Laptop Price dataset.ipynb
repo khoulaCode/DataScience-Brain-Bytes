{
 "cells": [
  {
   "cell_type": "markdown",
   "id": "805e2b82-754f-43e7-9566-f7237a5a4264",
   "metadata": {},
   "source": [
    "# Loading the data"
   ]
  },
  {
   "cell_type": "code",
   "execution_count": null,
   "id": "c0710479-021f-4f39-bed9-5c681f5edd24",
   "metadata": {},
   "outputs": [],
   "source": [
    "import pandas as pd\n",
    "import numpy as np\n",
    "import matplotlib.pyplot as plt"
   ]
  },
  {
   "cell_type": "code",
   "execution_count": null,
   "id": "e0f39479-c639-42ad-9b0b-b9b4c104b1a2",
   "metadata": {},
   "outputs": [],
   "source": [
    "path=\"data/laptopData.csv\"\n",
    "df = pd.read_csv(path)\n",
    "df= df.drop('Unnamed: 0', axis=1)\n"
   ]
  },
  {
   "cell_type": "code",
   "execution_count": null,
   "id": "c78abfa4-6fed-471c-b900-655f5355bcee",
   "metadata": {
    "scrolled": true
   },
   "outputs": [],
   "source": [
    "df"
   ]
  },
  {
   "cell_type": "code",
   "execution_count": null,
   "id": "a9ee48a4-8bac-4aa3-a2e6-3617eb06ca0d",
   "metadata": {},
   "outputs": [],
   "source": [
    "df.columns"
   ]
  },
  {
   "cell_type": "markdown",
   "id": "4c84a341-19a9-4769-8b27-f02683d7467b",
   "metadata": {},
   "source": [
    "#  Data Exploration"
   ]
  },
  {
   "cell_type": "code",
   "execution_count": null,
   "id": "364e0d0e-72eb-42e6-8d2e-241e4dd73c81",
   "metadata": {
    "scrolled": true
   },
   "outputs": [],
   "source": [
    "df.info()"
   ]
  },
  {
   "cell_type": "code",
   "execution_count": null,
   "id": "ea4b8282-4395-4bfe-b999-fe43e1a35f3b",
   "metadata": {},
   "outputs": [],
   "source": [
    "df.shape"
   ]
  },
  {
   "cell_type": "code",
   "execution_count": null,
   "id": "a671835b-798b-45a6-981d-cc9a58d4abe8",
   "metadata": {},
   "outputs": [],
   "source": [
    "df.isnull().sum()"
   ]
  },
  {
   "cell_type": "code",
   "execution_count": null,
   "id": "48298b8d-125d-4e01-98bc-b8cc0fd771e9",
   "metadata": {},
   "outputs": [],
   "source": [
    "df.dropna(how='all')"
   ]
  },
  {
   "cell_type": "code",
   "execution_count": null,
   "id": "b6428616-25f5-40cd-a818-f2230161c86f",
   "metadata": {},
   "outputs": [],
   "source": [
    "df.isnull().sum()"
   ]
  },
  {
   "cell_type": "code",
   "execution_count": null,
   "id": "97f7c244-cd29-4f6f-ae43-232d9274cbff",
   "metadata": {},
   "outputs": [],
   "source": [
    "df.isnull().any()"
   ]
  },
  {
   "cell_type": "code",
   "execution_count": null,
   "id": "21651608-ac61-4653-9bb5-5e3ed23fabdf",
   "metadata": {},
   "outputs": [],
   "source": [
    "df.shape"
   ]
  },
  {
   "cell_type": "code",
   "execution_count": null,
   "id": "2950a316-225d-4dd0-b70e-16865e1c1fae",
   "metadata": {},
   "outputs": [],
   "source": [
    "len(df)"
   ]
  },
  {
   "cell_type": "code",
   "execution_count": null,
   "id": "5d6ddd27-f621-4d46-a291-7b7464afdc59",
   "metadata": {},
   "outputs": [],
   "source": [
    "len(df.columns)"
   ]
  },
  {
   "cell_type": "code",
   "execution_count": null,
   "id": "1f4d0958-d0b5-46f9-a76d-573b54a20fda",
   "metadata": {
    "scrolled": true
   },
   "outputs": [],
   "source": [
    "df.duplicated()"
   ]
  },
  {
   "cell_type": "code",
   "execution_count": null,
   "id": "441a05f2-b720-43fd-b028-ab1d5492a6ac",
   "metadata": {},
   "outputs": [],
   "source": [
    "df.duplicated().sum()"
   ]
  },
  {
   "cell_type": "code",
   "execution_count": null,
   "id": "b6a7de49-e0b1-4ecf-b869-35f2a742dc23",
   "metadata": {},
   "outputs": [],
   "source": [
    "df.describe()"
   ]
  },
  {
   "cell_type": "code",
   "execution_count": null,
   "id": "63a08201-ad3d-4c15-97b2-0567ff5a6a0f",
   "metadata": {},
   "outputs": [],
   "source": [
    "df.dtypes"
   ]
  },
  {
   "cell_type": "markdown",
   "id": "37da10e8-b368-47ec-8261-ec82f09e06a4",
   "metadata": {},
   "source": [
    "## Convert the \"Inches\" column from object to float"
   ]
  },
  {
   "cell_type": "code",
   "execution_count": null,
   "id": "0e4057e4-1ea3-4d08-a958-ed9621c97a0c",
   "metadata": {},
   "outputs": [],
   "source": [
    "df['Inches'] = pd.to_numeric(df['Inches'], errors='coerce')"
   ]
  },
  {
   "cell_type": "code",
   "execution_count": null,
   "id": "eccfe673-014b-43cd-a7d4-1efd5d2e30f8",
   "metadata": {},
   "outputs": [],
   "source": [
    "df.dtypes"
   ]
  },
  {
   "cell_type": "markdown",
   "id": "677bacad-d626-4e7d-9797-e3773d166ae8",
   "metadata": {},
   "source": [
    "## Cup columns"
   ]
  },
  {
   "cell_type": "code",
   "execution_count": null,
   "id": "f02d6971-0a01-4d6c-8134-faaf45adb75f",
   "metadata": {},
   "outputs": [],
   "source": [
    "df['Cpu'] = df['Cpu'].astype(str)\n",
    "df['Cpu']"
   ]
  },
  {
   "cell_type": "code",
   "execution_count": null,
   "id": "58065b77-f7b7-4cc8-b52d-a6cfe69dc20b",
   "metadata": {},
   "outputs": [],
   "source": [
    "df['Cpu_Company'] = df['Cpu'].str.split().str[0]\n",
    "df['Cpu_Company']"
   ]
  },
  {
   "cell_type": "code",
   "execution_count": null,
   "id": "fb1d02cc-1c0a-4c22-8129-7b2994d48b38",
   "metadata": {},
   "outputs": [],
   "source": [
    "df['Cpu_Speed_GHz'] = df['Cpu'].str.split().str[-1].str.replace('GHz', '').astype(float)\n",
    "df['Cpu_Speed_GHz']"
   ]
  },
  {
   "cell_type": "code",
   "execution_count": null,
   "id": "40d44679-fc3a-4743-bdeb-148f64175f5b",
   "metadata": {},
   "outputs": [],
   "source": [
    "df['Cpu_Brand'] = df['Cpu'].str.split().str[1] + ' ' + df['Cpu'].str.split().str[2]\n",
    "df['Cpu_Brand']"
   ]
  },
  {
   "cell_type": "code",
   "execution_count": null,
   "id": "268a0208-a8b5-4628-a177-d354cd41a8dd",
   "metadata": {},
   "outputs": [],
   "source": [
    "df.dtypes"
   ]
  },
  {
   "cell_type": "markdown",
   "id": "0330638a-77b7-4567-8665-46aa60dee585",
   "metadata": {},
   "source": [
    "## Cleaning Ram"
   ]
  },
  {
   "cell_type": "code",
   "execution_count": null,
   "id": "297bd2b7-eeee-41ec-8d20-9c8f8d0da56a",
   "metadata": {},
   "outputs": [],
   "source": [
    "df['Ram'] = df['Ram'].astype(str).str.replace('GB', '')\n",
    "df['Ram'] = pd.to_numeric(df['Ram'], errors='coerce')\n",
    "mean_ram = df['Ram'].mean()\n",
    "df['Ram'] = df['Ram'].fillna(mean_ram)\n",
    "df['Ram'] = df['Ram'].astype(int)"
   ]
  },
  {
   "cell_type": "code",
   "execution_count": null,
   "id": "ab3e78fc-2a33-4605-8351-70cdf21f4806",
   "metadata": {},
   "outputs": [],
   "source": [
    "df.dtypes"
   ]
  },
  {
   "cell_type": "markdown",
   "id": "daf4e0e6-bd7f-4f3e-b425-6fc1f95356cb",
   "metadata": {},
   "source": [
    "## Cleaning Memory"
   ]
  },
  {
   "cell_type": "code",
   "execution_count": null,
   "id": "a2c6d42f-888e-4305-bd6d-0b29f4dc3980",
   "metadata": {},
   "outputs": [],
   "source": [
    "def convert_size(x):\n",
    "    if pd.isna(x):\n",
    "        return 0\n",
    "    x = x.strip().upper()\n",
    "    if 'TB' in x:\n",
    "        return float(x.replace('TB', '').replace('SSD', '').replace('HDD', '').strip()) * 1024\n",
    "    if 'GB' in x:\n",
    "        return float(x.replace('GB', '').replace('SSD', '').replace('HDD', '').strip())\n",
    "    return 0\n",
    "\n",
    "mem_split = df['Memory'].str.split('+', expand=True)\n",
    "\n",
    "ssd_vals = mem_split.apply(lambda col: col.map(lambda x: convert_size(x) if isinstance(x, str) and 'SSD' in x.upper() else 0))\n",
    "hdd_vals = mem_split.apply(lambda col: col.map(lambda x: convert_size(x) if isinstance(x, str) and 'HDD' in x.upper() else 0))\n",
    "\n",
    "df['Memory_SSD'] = ssd_vals.sum(axis=1).astype(int)\n",
    "df['Memory_HDD'] = hdd_vals.sum(axis=1).astype(int)\n"
   ]
  },
  {
   "cell_type": "code",
   "execution_count": null,
   "id": "f128e72c-6160-40ea-bc51-f1ef0ba26b55",
   "metadata": {},
   "outputs": [],
   "source": [
    "df.dtypes"
   ]
  },
  {
   "cell_type": "markdown",
   "id": "a842eead-6512-43fb-b620-c92a95b86e92",
   "metadata": {
    "jp-MarkdownHeadingCollapsed": true
   },
   "source": [
    "## Cleaning Gpu"
   ]
  },
  {
   "cell_type": "code",
   "execution_count": null,
   "id": "3c492ec6-cbd1-4bd4-9c74-0d08925b9c04",
   "metadata": {},
   "outputs": [],
   "source": [
    "df['Gpu_Brand'] = df['Gpu'].str.split().str[0]\n",
    "df['Gpu_Brand']"
   ]
  },
  {
   "cell_type": "code",
   "execution_count": null,
   "id": "6db37e53-fa5c-4d32-8ae8-aca8c096b9e1",
   "metadata": {},
   "outputs": [],
   "source": [
    "df['Gpu_Brand'].value_counts()"
   ]
  },
  {
   "cell_type": "code",
   "execution_count": null,
   "id": "f16a88e9-0431-4834-8b09-6df8bccf2416",
   "metadata": {},
   "outputs": [],
   "source": [
    "df.dtypes"
   ]
  },
  {
   "cell_type": "markdown",
   "id": "8b818cd5-43e4-47f4-8445-6f66696ce586",
   "metadata": {
    "jp-MarkdownHeadingCollapsed": true
   },
   "source": [
    "## Cleaning Weight"
   ]
  },
  {
   "cell_type": "code",
   "execution_count": null,
   "id": "6d983b2c-df2b-4faf-8f97-31e25cee03b5",
   "metadata": {},
   "outputs": [],
   "source": [
    "df['Weight'] = df['Weight'].str.replace('kg', '').str.strip()\n",
    "df['Weight'] = pd.to_numeric(df['Weight'], errors='coerce')"
   ]
  },
  {
   "cell_type": "code",
   "execution_count": null,
   "id": "18c3a2ab-b24e-4093-a0fc-676d259d35e1",
   "metadata": {},
   "outputs": [],
   "source": [
    "df['Weight']"
   ]
  },
  {
   "cell_type": "code",
   "execution_count": null,
   "id": "cadab9d6-6e7b-4bd1-a119-96c432f29e6b",
   "metadata": {},
   "outputs": [],
   "source": [
    "df.dtypes"
   ]
  },
  {
   "cell_type": "markdown",
   "id": "e3df9fb9-9d51-4285-ad84-1788d4f57495",
   "metadata": {
    "jp-MarkdownHeadingCollapsed": true
   },
   "source": [
    "## Cleaning OpSys"
   ]
  },
  {
   "cell_type": "code",
   "execution_count": null,
   "id": "2638c39c-bec4-4c9d-b8e2-2c7f49ecebbe",
   "metadata": {},
   "outputs": [],
   "source": [
    "df['OpSys'] = df['OpSys'].str.lower().str.strip()"
   ]
  },
  {
   "cell_type": "code",
   "execution_count": null,
   "id": "3c7ec16d-4141-4f94-800a-e7185e0f8485",
   "metadata": {},
   "outputs": [],
   "source": [
    "df['OpSys'].value_counts()"
   ]
  },
  {
   "cell_type": "code",
   "execution_count": null,
   "id": "777e9e06-5255-4394-9d78-005e9fba035c",
   "metadata": {},
   "outputs": [],
   "source": [
    "df.isnull().sum()"
   ]
  },
  {
   "cell_type": "code",
   "execution_count": null,
   "id": "8b221d68-0d4c-44ea-ade0-daa7b198ae81",
   "metadata": {},
   "outputs": [],
   "source": [
    "df = df.dropna()"
   ]
  },
  {
   "cell_type": "code",
   "execution_count": null,
   "id": "fee94044-7951-4e86-ad93-d65348d53605",
   "metadata": {},
   "outputs": [],
   "source": [
    "df.isnull().sum()"
   ]
  },
  {
   "cell_type": "code",
   "execution_count": null,
   "id": "13873f6b-7e45-4dd4-aa58-7bf5ac1e3cfb",
   "metadata": {},
   "outputs": [],
   "source": [
    "df.dtypes"
   ]
  },
  {
   "cell_type": "code",
   "execution_count": null,
   "id": "a77795d5-a0cf-43df-bbfe-d976c9beb125",
   "metadata": {},
   "outputs": [],
   "source": [
    "df.describe()"
   ]
  },
  {
   "cell_type": "markdown",
   "id": "4d78a65a-bc78-451d-a43b-00ac22edd047",
   "metadata": {
    "jp-MarkdownHeadingCollapsed": true
   },
   "source": [
    "## Missing Values"
   ]
  },
  {
   "cell_type": "code",
   "execution_count": null,
   "id": "ac3b1485-5983-4f0a-8c00-59b268d69954",
   "metadata": {
    "scrolled": true
   },
   "outputs": [],
   "source": [
    "missing_like = ['?', 'NA', 'N/A', '', 'None', '-']\n",
    "df = df.replace(missing_like, np.nan)  # بدون inplace=True عشان نتجنب التحذير\n",
    "missing_counts = df.isnull().sum()\n",
    "missing_counts"
   ]
  },
  {
   "cell_type": "code",
   "execution_count": null,
   "id": "e8d7cc9f-deb8-431c-aff6-918bb6d8ab02",
   "metadata": {},
   "outputs": [],
   "source": [
    "df['Memory'].unique()"
   ]
  },
  {
   "cell_type": "code",
   "execution_count": null,
   "id": "3e40da2d-e1bc-46fd-8268-d1571d30f618",
   "metadata": {},
   "outputs": [],
   "source": [
    "mode_mem = df['Memory'].mode()[0]\n",
    "df['Memory'].fillna(mode_mem)"
   ]
  },
  {
   "cell_type": "code",
   "execution_count": null,
   "id": "a36bfd4c-d154-44c5-bdb4-f8e93185ce84",
   "metadata": {},
   "outputs": [],
   "source": [
    "df['Memory'].unique()"
   ]
  },
  {
   "cell_type": "code",
   "execution_count": null,
   "id": "ed7a0c61-b109-49fb-bbda-e431107ad176",
   "metadata": {},
   "outputs": [],
   "source": [
    "df.columns"
   ]
  },
  {
   "cell_type": "markdown",
   "id": "f0281a0e-2661-48ca-8f12-0722381fab8e",
   "metadata": {
    "jp-MarkdownHeadingCollapsed": true
   },
   "source": [
    "## Cleaning the Outliers for Inches"
   ]
  },
  {
   "cell_type": "code",
   "execution_count": null,
   "id": "bef37a39-838a-4ca3-871b-717a16613efc",
   "metadata": {
    "scrolled": true
   },
   "outputs": [],
   "source": [
    "Q1 = df['Inches'].quantile(0.25)\n",
    "Q3 = df['Inches'].quantile(0.75)\n",
    "\n",
    "IQR = Q3 - Q1\n",
    "\n",
    "lower_limit = Q1 - 1.5 * IQR\n",
    "upper_limit = Q3 + 1.5 * IQR\n",
    "\n",
    "print('Lower Limit:', lower_limit, 'Upper Limit:', upper_limit)\n",
    "\n",
    "plt.figure(figsize=(12, 5))\n",
    "\n",
    "plt.subplot(1, 2, 1)\n",
    "df.boxplot(column='Inches', grid=False)\n",
    "plt.title('Boxplot of Inches (Before)')\n",
    "\n",
    "df['Inches'] = df['Inches'].clip(lower=lower_limit, upper=upper_limit)\n",
    "\n",
    "plt.subplot(1, 2, 2)\n",
    "df.boxplot(column='Inches', grid=False)\n",
    "plt.title('Boxplot of Inches (After)')\n",
    "\n",
    "plt.show()\n"
   ]
  },
  {
   "cell_type": "markdown",
   "id": "db658812-23eb-4f31-9850-36787609d27b",
   "metadata": {},
   "source": [
    "## Cleaning the Outliers for Price"
   ]
  },
  {
   "cell_type": "code",
   "execution_count": null,
   "id": "21618db9-5377-4162-a8ca-49451fd74681",
   "metadata": {},
   "outputs": [],
   "source": [
    "Q1 = df['Price'].quantile(0.25)\n",
    "Q3 = df['Price'].quantile(0.75)\n",
    "\n",
    "IQR = Q3 - Q1\n",
    "\n",
    "lower_limit = Q1 - 1.5 * IQR\n",
    "upper_limit = Q3 + 1.5 * IQR\n",
    "\n",
    "print('Lower Limit:', lower_limit, 'Upper Limit:', upper_limit)\n",
    "\n",
    "plt.figure(figsize=(12, 5))\n",
    "\n",
    "plt.subplot(1, 2, 1)\n",
    "df.boxplot(column='Price', grid=False)\n",
    "plt.title('Boxplot of Price (Before)')\n",
    "\n",
    "df['Price'] = df['Price'].clip(lower=lower_limit, upper=upper_limit)\n",
    "\n",
    "plt.subplot(1, 2, 2)\n",
    "df.boxplot(column='Price', grid=False)\n",
    "plt.title('Boxplot of Price (After)')\n",
    "\n",
    "plt.show()"
   ]
  },
  {
   "cell_type": "code",
   "execution_count": null,
   "id": "ca0d6f94-d14f-4e63-a16c-b1092bdbb092",
   "metadata": {},
   "outputs": [],
   "source": []
  },
  {
   "cell_type": "markdown",
   "id": "16603b4a-573c-4f5b-af5f-be810d81d8f9",
   "metadata": {},
   "source": [
    "## Cleaning the Outliers for Ram"
   ]
  },
  {
   "cell_type": "code",
   "execution_count": null,
   "id": "b36f6ac6-d594-4595-a161-1383c6e44965",
   "metadata": {},
   "outputs": [],
   "source": [
    "Q1 = df['Ram'].quantile(0.25)\n",
    "Q3 = df['Ram'].quantile(0.75)\n",
    "IQR = Q3 - Q1\n",
    "\n",
    "lower_limit = Q1 - 1.5 * IQR\n",
    "upper_limit = Q3 + 1.5 * IQR\n",
    "\n",
    "print('Lower Limit:', lower_limit, 'Upper Limit:', upper_limit)\n",
    "\n",
    "plt.figure(figsize=(12, 5))\n",
    "\n",
    "plt.subplot(1, 2, 1)\n",
    "df.boxplot(column='Ram', grid=False)\n",
    "plt.title('Boxplot of Ram (Before)')\n",
    "\n",
    "df['Ram'] = df['Ram'].clip(lower=lower_limit, upper=upper_limit)\n",
    "\n",
    "plt.subplot(1, 2, 2)\n",
    "df.boxplot(column='Ram', grid=False)\n",
    "plt.title('Boxplot of Ram (After)')\n",
    "\n",
    "plt.show()"
   ]
  },
  {
   "cell_type": "markdown",
   "id": "945f2a33-86f9-4fb9-ade1-86cb4774d6ab",
   "metadata": {
    "jp-MarkdownHeadingCollapsed": true
   },
   "source": [
    "## Cleaning the Outliers for Weight"
   ]
  },
  {
   "cell_type": "code",
   "execution_count": null,
   "id": "56ddd4f2-1310-4bf2-af29-f081ca9f18b1",
   "metadata": {},
   "outputs": [],
   "source": [
    "Q1 = df['Weight'].quantile(0.25)\n",
    "Q3 = df['Weight'].quantile(0.75)\n",
    "IQR = Q3 - Q1\n",
    "\n",
    "lower_limit = Q1 - 1.5 * IQR\n",
    "upper_limit = Q3 + 1.5 * IQR\n",
    "\n",
    "print('Lower Limit:', lower_limit, 'Upper Limit:', upper_limit)\n",
    "\n",
    "plt.figure(figsize=(12, 5))\n",
    "\n",
    "plt.subplot(1, 2, 1)\n",
    "df.boxplot(column='Weight', grid=False)\n",
    "plt.title('Boxplot of Weight (Before)')\n",
    "\n",
    "df['Weight'] = df['Weight'].clip(lower=lower_limit, upper=upper_limit)\n",
    "\n",
    "plt.subplot(1, 2, 2)\n",
    "df.boxplot(column='Weight', grid=False)\n",
    "plt.title('Boxplot of Weight (After)')\n",
    "\n",
    "plt.show()"
   ]
  },
  {
   "cell_type": "markdown",
   "id": "d3b00105-20dc-4536-8c45-39a5e5cc928c",
   "metadata": {
    "jp-MarkdownHeadingCollapsed": true
   },
   "source": [
    "## Cleaning the Outliers for Cpu_Speed_GHz"
   ]
  },
  {
   "cell_type": "code",
   "execution_count": null,
   "id": "c7d95295-e3ed-4166-a8cf-466c6c76d258",
   "metadata": {},
   "outputs": [],
   "source": [
    "Q1 = df['Cpu_Speed_GHz'].quantile(0.25)\n",
    "Q3 = df['Cpu_Speed_GHz'].quantile(0.75)\n",
    "IQR = Q3 - Q1\n",
    "\n",
    "lower_limit = Q1 - 1.5 * IQR\n",
    "upper_limit = Q3 + 1.5 * IQR\n",
    "\n",
    "print('Lower Limit:', lower_limit, 'Upper Limit:', upper_limit)\n",
    "\n",
    "plt.figure(figsize=(12, 5))\n",
    "\n",
    "plt.subplot(1, 2, 1)\n",
    "df.boxplot(column='Cpu_Speed_GHz', grid=False)\n",
    "plt.title('Boxplot of Cpu_Speed_GHz (Before)')\n",
    "\n",
    "df['Cpu_Speed_GHz'] = df['Cpu_Speed_GHz'].clip(lower=lower_limit, upper=upper_limit)\n",
    "\n",
    "plt.subplot(1, 2, 2)\n",
    "df.boxplot(column='Cpu_Speed_GHz', grid=False)\n",
    "plt.title('Boxplot of Cpu_Speed_GHz (After)')\n",
    "\n",
    "plt.show()"
   ]
  },
  {
   "cell_type": "markdown",
   "id": "a302ccb9-a217-4e73-adbd-19a1fe85ac7a",
   "metadata": {},
   "source": [
    "## Cleaning the Outliers for Memory_SSD"
   ]
  },
  {
   "cell_type": "code",
   "execution_count": null,
   "id": "b6969eb0-8e7b-4ea6-bce0-dc57404c725c",
   "metadata": {},
   "outputs": [],
   "source": [
    "import matplotlib.pyplot as plt\n",
    "\n",
    "Q1 = df['Memory_SSD'].quantile(0.25)\n",
    "Q3 = df['Memory_SSD'].quantile(0.75)\n",
    "IQR = Q3 - Q1\n",
    "\n",
    "lower_limit = Q1 - 1.5 * IQR\n",
    "upper_limit = Q3 + 1.5 * IQR\n",
    "\n",
    "print('Lower Limit:', lower_limit, 'Upper Limit:', upper_limit)\n",
    "\n",
    "plt.figure(figsize=(12, 5))\n",
    "\n",
    "plt.subplot(1, 2, 1)\n",
    "df.boxplot(column='Memory_SSD', grid=False)\n",
    "plt.title('Boxplot of Memory_SSD (Before)')\n",
    "\n",
    "df['Memory_SSD'] = df['Memory_SSD'].clip(lower=lower_limit, upper=upper_limit)\n",
    "\n",
    "plt.subplot(1, 2, 2)\n",
    "df.boxplot(column='Memory_SSD', grid=False)\n",
    "plt.title('Boxplot of Memory_SSD (After)')\n",
    "\n",
    "plt.show()"
   ]
  },
  {
   "cell_type": "markdown",
   "id": "d82d8b2d-bd55-4491-8f8e-d6bd531d5143",
   "metadata": {},
   "source": [
    "## Cheack the Outliers for Memory_HDD"
   ]
  },
  {
   "cell_type": "code",
   "execution_count": null,
   "id": "49e7c071-0010-4aeb-8f92-36e26a1c9c3e",
   "metadata": {},
   "outputs": [],
   "source": [
    "df.boxplot(column='Memory_HDD', grid=False, figsize=(6,4))\n",
    "plt.title('Boxplot of Memory_HDD (Before)')\n",
    "plt.show()\n",
    "# No Outliers found "
   ]
  },
  {
   "cell_type": "markdown",
   "id": "67e10175-553f-460e-91f9-0c81a3cd1282",
   "metadata": {},
   "source": [
    "# Accuracy Level"
   ]
  },
  {
   "cell_type": "code",
   "execution_count": null,
   "id": "13fb624c-c18f-4dd1-b1a6-475a21c9adf7",
   "metadata": {},
   "outputs": [],
   "source": [
    "#!pip install scikit-learn"
   ]
  },
  {
   "cell_type": "code",
   "execution_count": null,
   "id": "b52b9c38-285e-4a37-983f-78580c679e0e",
   "metadata": {},
   "outputs": [],
   "source": [
    "import numpy as np\n",
    "import matplotlib.pyplot as plt\n",
    "import pandas as pd \n",
    "from sklearn.linear_model import LinearRegression\n",
    "from sklearn.model_selection import train_test_split\n",
    "from sklearn.metrics import mean_absolute_error, mean_squared_error, r2_score\n",
    "\n",
    "df_encoded = pd.get_dummies(df, drop_first=True)\n",
    "X = df_encoded.drop('Price', axis=1)\n",
    "y = df_encoded['Price']\n",
    "\n",
    "X_train, X_test, y_train, y_test = train_test_split(X, y, test_size=0.2, random_state=42)\n",
    "\n",
    "model = LinearRegression()\n",
    "model.fit(X_train, y_train)\n",
    "\n",
    "y_pred = model.predict(X_test)\n",
    "\n",
    "mse = mean_squared_error(y_test, y_pred)\n",
    "r2 = r2_score(y_test, y_pred)\n",
    "\n",
    "print(\"--- Linear Regression Results ---\")\n",
    "print(f\"Mean Squared Error (MSE): {mse:.2f}\")\n",
    "print(f\"R-squared (R2): {r2:.2f}\")\n"
   ]
  }
 ],
 "metadata": {
  "kernelspec": {
   "display_name": "Python [conda env:base] *",
   "language": "python",
   "name": "conda-base-py"
  },
  "language_info": {
   "codemirror_mode": {
    "name": "ipython",
    "version": 3
   },
   "file_extension": ".py",
   "mimetype": "text/x-python",
   "name": "python",
   "nbconvert_exporter": "python",
   "pygments_lexer": "ipython3",
   "version": "3.13.5"
  }
 },
 "nbformat": 4,
 "nbformat_minor": 5
}
