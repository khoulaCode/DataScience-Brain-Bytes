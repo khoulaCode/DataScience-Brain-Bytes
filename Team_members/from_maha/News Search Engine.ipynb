{
 "cells": [
  {
   "cell_type": "code",
   "execution_count": 1,
   "id": "090c84a1-e97c-44a2-8c5c-258ceb5cfeb0",
   "metadata": {},
   "outputs": [],
   "source": [
    "import os\n",
    "import pandas as pd\n",
    "import numpy as np\n",
    "from sklearn.feature_extraction.text import TfidfVectorizer\n",
    "from scipy.sparse import save_npz, load_npz\n",
    "import joblib"
   ]
  },
  {
   "cell_type": "code",
   "execution_count": 2,
   "id": "06778110-77be-4005-ac7e-e1a6c1737f78",
   "metadata": {},
   "outputs": [],
   "source": [
    "data_path  = r\"C:\\Users\\bbuser\\Desktop\\News_Category_Dataset_v3.json\" \n",
    "output_dir = r\"C:\\Users\\bbuser\\Desktop\\news_keyword_baseline\"\n",
    "os.makedirs(output_dir, exist_ok=True)"
   ]
  },
  {
   "cell_type": "code",
   "execution_count": 3,
   "id": "66054b95-d80b-47cd-814d-8bfa8bf3597c",
   "metadata": {},
   "outputs": [],
   "source": [
    "csv_path   = os.path.join(output_dir, \"news_balanced_headline_category.csv\")\n",
    "vec_path   = os.path.join(output_dir, \"tfidf_vectorizer.pkl\")\n",
    "mat_path   = os.path.join(output_dir, \"tfidf_matrix.npz\")"
   ]
  },
  {
   "cell_type": "code",
   "execution_count": 4,
   "id": "d9085c2c-2e6f-4e67-b8cd-27c8d3892d0f",
   "metadata": {},
   "outputs": [],
   "source": [
    "target_categories = [\"POLITICS\", \"TRAVEL\", \"SPORTS\", \"HOME & LIVING\"]\n",
    "n_per_class = 1000\n",
    "random_state = 42"
   ]
  },
  {
   "cell_type": "code",
   "execution_count": 5,
   "id": "84ce9cb0-01c7-4655-8fed-b39a78a9a90c",
   "metadata": {},
   "outputs": [],
   "source": [
    "df = pd.read_json(data_path, lines=True)\n",
    "\n",
    "df = df[df[\"category\"].isin(target_categories)].copy()\n",
    "df = df[[\"headline\", \"category\"]].dropna(subset=[\"headline\", \"category\"])\n",
    "\n",
    "balanced = (\n",
    "    df.groupby(\"category\", group_keys=False)\n",
    "      .sample(n=n_per_class, random_state=random_state)\n",
    "      .reset_index(drop=True)\n",
    ")"
   ]
  },
  {
   "cell_type": "code",
   "execution_count": 6,
   "id": "245c35a1-e313-4bce-9b89-cb7e0cef0b28",
   "metadata": {},
   "outputs": [
    {
     "name": "stdout",
     "output_type": "stream",
     "text": [
      "prepared dataset saved: C:\\Users\\bbuser\\Desktop\\news_keyword_baseline\\news_balanced_headline_category.csv\n",
      "category\n",
      "HOME & LIVING    1000\n",
      "POLITICS         1000\n",
      "SPORTS           1000\n",
      "TRAVEL           1000\n",
      "Name: count, dtype: int64\n"
     ]
    }
   ],
   "source": [
    "balanced.to_csv(csv_path, index=False, encoding=\"utf-8\")\n",
    "\n",
    "print(\"prepared dataset saved:\", csv_path)\n",
    "print(balanced[\"category\"].value_counts())"
   ]
  },
  {
   "cell_type": "code",
   "execution_count": 7,
   "id": "fb4b8ab5-0f12-4759-8c5f-0be8d359af96",
   "metadata": {},
   "outputs": [],
   "source": [
    "texts = balanced[\"headline\"].astype(str).tolist()\n",
    "vectorizer = TfidfVectorizer()\n",
    "x = vectorizer.fit_transform(texts)  "
   ]
  },
  {
   "cell_type": "code",
   "execution_count": 8,
   "id": "422e2f47-fee2-4627-8a5a-d782c4dcd874",
   "metadata": {},
   "outputs": [
    {
     "data": {
      "text/plain": [
       "['C:\\\\Users\\\\bbuser\\\\Desktop\\\\news_keyword_baseline\\\\tfidf_vectorizer.pkl']"
      ]
     },
     "execution_count": 8,
     "metadata": {},
     "output_type": "execute_result"
    }
   ],
   "source": [
    "save_npz(mat_path, x)\n",
    "joblib.dump(vectorizer, vec_path)"
   ]
  },
  {
   "cell_type": "code",
   "execution_count": 9,
   "id": "abeb6f9f-7aee-40bf-be78-8752f8fcccd0",
   "metadata": {},
   "outputs": [
    {
     "name": "stdout",
     "output_type": "stream",
     "text": [
      "tf-idf matrix saved to: C:\\Users\\bbuser\\Desktop\\news_keyword_baseline\\tfidf_matrix.npz | shape: (4000, 8631)\n",
      "vectorizer saved to: C:\\Users\\bbuser\\Desktop\\news_keyword_baseline\\tfidf_vectorizer.pkl\n"
     ]
    }
   ],
   "source": [
    "print(\"tf-idf matrix saved to:\", mat_path, \"| shape:\", x.shape)\n",
    "print(\"vectorizer saved to:\", vec_path)"
   ]
  },
  {
   "cell_type": "code",
   "execution_count": 10,
   "id": "cbdacb22-eb3a-4ff6-a781-94a7ee951a19",
   "metadata": {},
   "outputs": [],
   "source": [
    "vectorizer = joblib.load(vec_path)\n",
    "x = load_npz(mat_path)\n",
    "df_results = pd.read_csv(csv_path) "
   ]
  },
  {
   "cell_type": "code",
   "execution_count": 11,
   "id": "837c3b33-1e8d-4acd-872c-d8b56a31c763",
   "metadata": {},
   "outputs": [],
   "source": [
    "def search(query: str, top_k: int = 10):\n",
    "    query = (query or \"\").strip()\n",
    "    if not query:\n",
    "        print(\"empty query. please type something.\")\n",
    "        return\n",
    "\n",
    "    q_vec = vectorizer.transform([query])\n",
    "    scores = (x @ q_vec.T).toarray().ravel()\n",
    "    top_idx = np.argsort(-scores)[:top_k]\n",
    "    print(f\"\\nTop {top_k} results for: {query!r}\\n\" + \"-\"*70)\n",
    "    for rank, i in enumerate(top_idx, start=1):\n",
    "        cat = df_results.loc[i, \"category\"]\n",
    "        head = df_results.loc[i, \"headline\"]\n",
    "        sc = scores[i]\n",
    "        print(f\"{rank:>2}. [{cat}] {head}  (score={sc:.4f})\")\n",
    "    print(\"-\"*70)"
   ]
  },
  {
   "cell_type": "code",
   "execution_count": 12,
   "id": "280172e9-71bb-4a19-a44d-78d44eeb5cfb",
   "metadata": {},
   "outputs": [
    {
     "name": "stdout",
     "output_type": "stream",
     "text": [
      "\n",
      "Top 10 results for: 'president election'\n",
      "----------------------------------------------------------------------\n",
      " 1. [POLITICS] President Trump's War On Children  (score=0.3419)\n",
      " 2. [POLITICS] Donald Trump Is The 'Air Guitar' President  (score=0.3013)\n",
      " 3. [TRAVEL] Inauguration Travel: President Obama's Favorite Hotels  (score=0.2892)\n",
      " 4. [TRAVEL] Hotel Suites Good Enough For The President (PHOTOS)  (score=0.2804)\n",
      " 5. [POLITICS] What If A President Is Too Impaired To Lead?  (score=0.2687)\n",
      " 6. [POLITICS] President Trump Escapes D.C. (And Reality) In Florida…Again  (score=0.2593)\n",
      " 7. [POLITICS] A Response: My Election Blame List  (score=0.2515)\n",
      " 8. [POLITICS] It's Bloomberg-For-President O'Clock Again, Apparently  (score=0.2513)\n",
      " 9. [SPORTS] PGA President Fired Over 'Insensitive' Comments  (score=0.2509)\n",
      "10. [SPORTS] Here Is President Obama's 2016 March Madness Bracket  (score=0.2494)\n",
      "----------------------------------------------------------------------\n",
      "\n",
      "Top 10 results for: 'travel to europe'\n",
      "----------------------------------------------------------------------\n",
      " 1. [TRAVEL] Europe Travel: 10 Money-Saving Tips (PHOTOS)  (score=0.4951)\n",
      " 2. [TRAVEL] How Arthur Frommer Helped Shape Travel To Europe  (score=0.4336)\n",
      " 3. [TRAVEL] The Best And Worst Of Europe  (score=0.4235)\n",
      " 4. [TRAVEL] Bring Adventure Back to Europe  (score=0.4144)\n",
      " 5. [TRAVEL] Europe's Most Historic Hotels  (score=0.3962)\n",
      " 6. [TRAVEL] Why I Travel  (score=0.3892)\n",
      " 7. [TRAVEL] Flying to Europe Just Got Easier  (score=0.3670)\n",
      " 8. [TRAVEL] 7 Travel Apps For Thanksgiving And Holiday Travel  (score=0.3442)\n",
      " 9. [TRAVEL] 5 Most Family-Friendly Cities in Europe  (score=0.3369)\n",
      "10. [TRAVEL] Europe's 7 Most Valuable Monuments (PHOTOS)  (score=0.3290)\n",
      "----------------------------------------------------------------------\n",
      "\n",
      "Top 10 results for: 'football game'\n",
      "----------------------------------------------------------------------\n",
      " 1. [POLITICS] Donald Trump Finds His Safest Space: College Football’s National Championship Game  (score=0.4015)\n",
      " 2. [SPORTS] D.C. Cop Stiff-Arms Defender In Snowy Football Game  (score=0.3844)\n",
      " 3. [SPORTS] Honestly, This Lineman-Sized Dancer Beats Any Football Game  (score=0.3620)\n",
      " 4. [SPORTS] Hipster Football: Who, How and Why  (score=0.3110)\n",
      " 5. [SPORTS] Another High School Football Player Dies  (score=0.2725)\n",
      " 6. [SPORTS] 10 Things I Hate About the Game I Love  (score=0.2672)\n",
      " 7. [SPORTS] 'Women > Winning' Is A Sign Of Change In College Football  (score=0.2390)\n",
      " 8. [SPORTS] 4 More Reasons Wisconsin Should Make the College Football Playoff  (score=0.2388)\n",
      " 9. [SPORTS] College Football Is Rigged Against Black Head Coaches  (score=0.2317)\n",
      "10. [SPORTS] Police: Missing Ohio State Football Player Found Dead  (score=0.2248)\n",
      "----------------------------------------------------------------------\n",
      "\n",
      "Top 10 results for: 'home decoration ideas'\n",
      "----------------------------------------------------------------------\n",
      " 1. [HOME & LIVING] Last-Minute Easter Ideas: A Round-Up Of Crafts, Party Ideas And More (PHOTOS)  (score=0.3818)\n",
      " 2. [HOME & LIVING] Weekend DIY Ideas: 7 Easy Ways To Fix Up Your Home In 2 Days (PHOTOS)  (score=0.3585)\n",
      " 3. [HOME & LIVING] Weekend DIY Ideas: 8 Easy Ways To Fix Up Your Home In 2 Days (PHOTOS)  (score=0.3585)\n",
      " 4. [HOME & LIVING] Weekend DIY Ideas: 6 Easy Ways To Fix Up Your Home In 2 Days (PHOTOS)  (score=0.3585)\n",
      " 5. [HOME & LIVING] Weekend DIY Ideas: 8 Easy Ways To Fix Up Your Home In 2 Days (VIDEO, PHOTOS)  (score=0.3494)\n",
      " 6. [HOME & LIVING] Weekend DIY Ideas: 8 Easy Ways To Improve Your Home In 2 Days (VIDEO, PHOTOS)  (score=0.3488)\n",
      " 7. [HOME & LIVING] Weekend DIY Ideas: 9 Ways To Fix Up Your Home In Less Than 2 Days  (score=0.3452)\n",
      " 8. [HOME & LIVING] Luau Party Ideas  (score=0.3451)\n",
      " 9. [HOME & LIVING] 6 Color Ideas We're Tired Of Seeing In Home Design (PHOTOS)  (score=0.3435)\n",
      "10. [HOME & LIVING] Stress-Free Holiday Ideas  (score=0.3422)\n",
      "----------------------------------------------------------------------\n"
     ]
    }
   ],
   "source": [
    "search(\"president election\")\n",
    "search(\"travel to europe\")\n",
    "search(\"football game\")\n",
    "search(\"home decoration ideas\")"
   ]
  },
  {
   "cell_type": "code",
   "execution_count": 13,
   "id": "9e64a8b8-af7c-47da-bfc1-97371e67f9e4",
   "metadata": {},
   "outputs": [
    {
     "name": "stdin",
     "output_type": "stream",
     "text": [
      "Enter your search query:  HOME\n"
     ]
    },
    {
     "name": "stdout",
     "output_type": "stream",
     "text": [
      "\n",
      "Top 10 results for: 'HOME'\n",
      "----------------------------------------------------------------------\n",
      " 1. [HOME & LIVING] Heart & Home  (score=0.4813)\n",
      " 2. [HOME & LIVING] Donna David, Professional Organizer, Says A Decluttered Home Is A Stress-Free Home  (score=0.3412)\n",
      " 3. [HOME & LIVING] 10 Ways To Love Your Home More  (score=0.3197)\n",
      " 4. [HOME & LIVING] Shelter Island, New York Home Has Eat-In Wine Cellar, Home Theater And Nightclub (PHOTOS)  (score=0.3197)\n",
      " 5. [HOME & LIVING] How To Dry Clean At Home  (score=0.3049)\n",
      " 6. [HOME & LIVING] 5 Steps to a More Masculine Home  (score=0.2914)\n",
      " 7. [SPORTS] Why LeBron Wanted to Go Home  (score=0.2858)\n",
      " 8. [HOME & LIVING] Memorial Day Sales 2012: Home Decor And Outdoor Furniture Sales At Macy's, Sears, Home Depot And More (PHOTOS)  (score=0.2737)\n",
      " 9. [HOME & LIVING] Weekly Roundup of eBay Vintage Home Finds  (score=0.2694)\n",
      "10. [HOME & LIVING] Weekly Roundup of eBay Vintage Home Finds  (score=0.2694)\n",
      "----------------------------------------------------------------------\n"
     ]
    }
   ],
   "source": [
    "q = input(\"Enter your search query: \")\n",
    "search(q, top_k=10)"
   ]
  }
 ],
 "metadata": {
  "kernelspec": {
   "display_name": "Python [conda env:base] *",
   "language": "python",
   "name": "conda-base-py"
  },
  "language_info": {
   "codemirror_mode": {
    "name": "ipython",
    "version": 3
   },
   "file_extension": ".py",
   "mimetype": "text/x-python",
   "name": "python",
   "nbconvert_exporter": "python",
   "pygments_lexer": "ipython3",
   "version": "3.13.5"
  }
 },
 "nbformat": 4,
 "nbformat_minor": 5
}
