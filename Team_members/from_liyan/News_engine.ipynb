{
 "cells": [
  {
   "cell_type": "markdown",
   "id": "7b80369b",
   "metadata": {},
   "source": [
    "### News Search Engine"
   ]
  },
  {
   "cell_type": "code",
   "execution_count": 3,
   "id": "975239b0",
   "metadata": {},
   "outputs": [],
   "source": [
    "import pandas as pd\n",
    "from sklearn.feature_extraction.text import TfidfVectorizer\n",
    "from sklearn.metrics.pairwise import cosine_similarity\n",
    "import numpy as np"
   ]
  },
  {
   "cell_type": "code",
   "execution_count": 4,
   "id": "5894c165",
   "metadata": {},
   "outputs": [
    {
     "name": "stdout",
     "output_type": "stream",
     "text": [
      "Dataset shape: (4000, 2)\n"
     ]
    },
    {
     "name": "stderr",
     "output_type": "stream",
     "text": [
      "C:\\Users\\bbuser\\AppData\\Local\\Temp\\ipykernel_30052\\2019076428.py:10: FutureWarning: DataFrameGroupBy.apply operated on the grouping columns. This behavior is deprecated, and in a future version of pandas the grouping columns will be excluded from the operation. Either pass `include_groups=False` to exclude the groupings or explicitly select the grouping columns after groupby to silence this warning.\n",
      "  df_balanced = df.groupby('category').apply(lambda x: x.sample(1000, random_state=42)).reset_index(drop=True)\n"
     ]
    }
   ],
   "source": [
    "#loading the dataset\n",
    "df = pd.read_json(r\"C:\\Users\\bbuser\\Downloads\\News_Category_Dataset_v3.json\", lines=True)\n",
    "# Select relevant columns as in the question \n",
    "df = df[['category', 'headline']]\n",
    "# Filter categories\n",
    "categories = [\"POLITICS\", \"TRAVEL\", \"SPORTS\", \"HOME & LIVING\"]\n",
    "df = df[df['category'].isin(categories)]\n",
    "\n",
    "# Balance dataset (1000 per category)\n",
    "df_balanced = df.groupby('category').apply(lambda x: x.sample(1000, random_state=42)).reset_index(drop=True)\n",
    "\n",
    "print(\"Dataset shape:\", df_balanced.shape) \n"
   ]
  },
  {
   "cell_type": "code",
   "execution_count": 10,
   "id": "196c807d",
   "metadata": {},
   "outputs": [
    {
     "name": "stdout",
     "output_type": "stream",
     "text": [
      "Vocabulary size: 8302\n"
     ]
    }
   ],
   "source": [
    "#TF-IDF Vectorization\n",
    "vectorizer = TfidfVectorizer(stop_words=\"english\")\n",
    "tfidf_matrix = vectorizer.fit_transform(df_balanced['headline'])\n",
    "vectorizer.get_feature_names_out()\n",
    "print(f\"Vocabulary size: {len(vectorizer.vocabulary_)}\")"
   ]
  },
  {
   "cell_type": "code",
   "execution_count": 8,
   "id": "2f04bd05",
   "metadata": {},
   "outputs": [
    {
     "name": "stdout",
     "output_type": "stream",
     "text": [
      "Headline: U.S. Open Results: Novak Djokovic Defeats Julien Benneteau In Third Round, Category: SPORTS, Similarity: 0.3163\n",
      "Headline: We’re Still, Somehow, A Year Away From The Presidential Election, Category: POLITICS, Similarity: 0.3026\n",
      "Headline: Obama Has Some Issues With How The Media Are Covering The Election, Category: POLITICS, Similarity: 0.2376\n",
      "Headline: 8 Problems You May Encounter Going To Vote In The Election, Category: HOME & LIVING, Similarity: 0.2321\n",
      "Headline: Barack Obama Sanctions Russia Over Election Meddling, Category: POLITICS, Similarity: 0.2153\n"
     ]
    }
   ],
   "source": [
    "# Search Function\n",
    "\n",
    "def search_articles(query, top_k=10):\n",
    "    # Transform query into TF-IDF vector\n",
    "    query_vec = vectorizer.transform([query])\n",
    "    \n",
    "    # Compute cosine similarity\n",
    "    similarity = cosine_similarity(query_vec, tfidf_matrix).flatten()\n",
    "    \n",
    "    # Get top K indices\n",
    "    top_indices = similarity.argsort()[::-1][:top_k]\n",
    "    \n",
    "    # Prepare results\n",
    "    results = []\n",
    "    for idx in top_indices:\n",
    "        results.append({\n",
    "            \"headline\": df_balanced.iloc[idx]['headline'],\n",
    "            \"category\": df_balanced.iloc[idx]['category'],\n",
    "            \"similarity\": float(similarity[idx])\n",
    "        })\n",
    "    return results\n",
    "# Example usage\n",
    "query = \"election results\"  \n",
    "results = search_articles(query, top_k=5)\n",
    "for res in results:\n",
    "    print(f\"Headline: {res['headline']}, Category: {res['category']}, Similarity: {res['similarity']:.4f}\")\n"
   ]
  },
  {
   "cell_type": "code",
   "execution_count": 11,
   "id": "701a9004",
   "metadata": {},
   "outputs": [
    {
     "name": "stdout",
     "output_type": "stream",
     "text": [
      "\n",
      " Search results for: 'president election campaign'\n",
      "\n",
      "1. We’re Still, Somehow, A Year Away From The Presidential Election  [POLITICS]  (score: 0.306)\n",
      "2. Protecting America From Its President  [POLITICS]  (score: 0.270)\n",
      "3. Lying To The Press Is Nothing New For The President  [POLITICS]  (score: 0.247)\n",
      "4. Obama Has Some Issues With How The Media Are Covering The Election  [POLITICS]  (score: 0.240)\n",
      "5. Hillary Clinton Is On Her Way To A $1 Billion Campaign. Donald Trump Is Not.  [POLITICS]  (score: 0.239)\n",
      "6. President Obama Hawaii: What To Do On Oahu (PHOTOS)  [TRAVEL]  (score: 0.238)\n",
      "7. 8 Problems You May Encounter Going To Vote In The Election  [HOME & LIVING]  (score: 0.235)\n",
      "8. This Is What It's Like To Spend A Week On A Presidential Campaign Bus  [POLITICS]  (score: 0.230)\n",
      "9. Bernie Sanders’ Campaign Is In Big Trouble With The DNC  [POLITICS]  (score: 0.226)\n",
      "10. Obama To Visit A Mosque For The First Time As President  [POLITICS]  (score: 0.225)\n"
     ]
    }
   ],
   "source": [
    "#Example Search\n",
    "query = \"president election campaign\"\n",
    "results = search_articles(query, top_k=10)\n",
    "\n",
    "# Display nicely\n",
    "print(f\"\\n Search results for: '{query}'\\n\")\n",
    "for rank, res in enumerate(results, 1):\n",
    "    print(f\"{rank}. {res['headline']}  [{res['category']}]  (score: {res['similarity']:.3f})\")"
   ]
  }
 ],
 "metadata": {
  "kernelspec": {
   "display_name": "myenv",
   "language": "python",
   "name": "python3"
  },
  "language_info": {
   "codemirror_mode": {
    "name": "ipython",
    "version": 3
   },
   "file_extension": ".py",
   "mimetype": "text/x-python",
   "name": "python",
   "nbconvert_exporter": "python",
   "pygments_lexer": "ipython3",
   "version": "3.11.13"
  }
 },
 "nbformat": 4,
 "nbformat_minor": 5
}
