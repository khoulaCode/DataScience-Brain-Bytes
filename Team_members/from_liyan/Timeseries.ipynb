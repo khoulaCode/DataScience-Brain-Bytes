{
 "cells": [
  {
   "cell_type": "markdown",
   "id": "b815410d-5668-47e0-a231-7d519e70b322",
   "metadata": {},
   "source": [
    "# Time Series Analysis of Daily Electricity Consumption"
   ]
  },
  {
   "cell_type": "markdown",
   "id": "90e62f27-3467-4efc-8174-eb4dccba532a",
   "metadata": {},
   "source": [
    "#### Focus:\n",
    "#### Basic time series handling using pandas\n",
    "#### Convert to datetime, set datetime index\n",
    "#### Perform resampling and slicing\n",
    "#### Objective:\n",
    "#### Analyze electricity consumption patterns over time using datetime-aware methods. Focus on resampling (daily, weekly, monthly), and slicing time ranges.\n",
    "#### Skills Practiced:\n",
    "#### pd.to_datetime() conversion\n",
    "#### Setting datetime index\n",
    "#### Time-based slicing (df.loc['2020-01'], etc.)\n",
    "#### Resampling (resample('M'), resample('W'))\n",
    "#### Plotting simple trends"
   ]
  },
  {
   "cell_type": "code",
   "execution_count": 2,
   "id": "b59c0456-bdd4-41ea-9ea7-4efb89abbb8c",
   "metadata": {},
   "outputs": [],
   "source": [
    "import pandas as pd\n",
    "import numpy as np"
   ]
  },
  {
   "cell_type": "code",
   "execution_count": 1,
   "id": "ee50e65e-75cf-488c-8b67-dfb4e9903f0e",
   "metadata": {},
   "outputs": [
    {
     "name": "stdout",
     "output_type": "stream",
     "text": [
      "         Date        Time  Global_active_power  Global_reactive_power  \\\n",
      "0  16/12/2006  5:24:00 PM                4.216                  0.418   \n",
      "1  16/12/2006  5:25:00 PM                5.360                  0.436   \n",
      "2  16/12/2006  5:26:00 PM                5.374                  0.498   \n",
      "3  16/12/2006  5:27:00 PM                5.388                  0.502   \n",
      "4  16/12/2006  5:28:00 PM                3.666                  0.528   \n",
      "\n",
      "   Voltage  Global_intensity  Sub_metering_1  Sub_metering_2  Sub_metering_3  \n",
      "0   234.84              18.4             0.0             1.0            17.0  \n",
      "1   233.63              23.0             0.0             1.0            16.0  \n",
      "2   233.29              23.0             0.0             2.0            17.0  \n",
      "3   233.74              23.0             0.0             1.0            17.0  \n",
      "4   235.68              15.8             0.0             1.0            17.0  \n"
     ]
    }
   ],
   "source": [
    "import pandas as pd\n",
    "\n",
    "path = r\"C:\\Users\\bbuser\\Desktop\\DataScience-Brain-Bytes\\Team_members\\from_liyan\\data\\Time.csv\"\n",
    "\n",
    "df = pd.read_csv(path)\n",
    "\n",
    "print(df.head())\n"
   ]
  },
  {
   "cell_type": "code",
   "execution_count": 18,
   "id": "80070de0-94b1-4f3d-a3d3-5b816a09da04",
   "metadata": {},
   "outputs": [
    {
     "data": {
      "text/plain": [
       "Index(['Date', 'Time', 'Global_active_power', 'Global_reactive_power',\n",
       "       'Voltage', 'Global_intensity', 'Sub_metering_1', 'Sub_metering_2',\n",
       "       'Sub_metering_3'],\n",
       "      dtype='object')"
      ]
     },
     "execution_count": 18,
     "metadata": {},
     "output_type": "execute_result"
    }
   ],
   "source": [
    "df.columns"
   ]
  },
  {
   "cell_type": "code",
   "execution_count": 19,
   "id": "324ebd42-48eb-4eeb-a3c3-9901ba25c225",
   "metadata": {},
   "outputs": [
    {
     "name": "stdout",
     "output_type": "stream",
     "text": [
      "<class 'pandas.core.frame.DataFrame'>\n",
      "RangeIndex: 1048575 entries, 0 to 1048574\n",
      "Data columns (total 9 columns):\n",
      " #   Column                 Non-Null Count    Dtype  \n",
      "---  ------                 --------------    -----  \n",
      " 0   Date                   1048575 non-null  object \n",
      " 1   Time                   1048575 non-null  object \n",
      " 2   Global_active_power    1044506 non-null  float64\n",
      " 3   Global_reactive_power  1044506 non-null  float64\n",
      " 4   Voltage                1044506 non-null  float64\n",
      " 5   Global_intensity       1044506 non-null  float64\n",
      " 6   Sub_metering_1         1044506 non-null  float64\n",
      " 7   Sub_metering_2         1044506 non-null  float64\n",
      " 8   Sub_metering_3         1044506 non-null  float64\n",
      "dtypes: float64(7), object(2)\n",
      "memory usage: 72.0+ MB\n"
     ]
    }
   ],
   "source": [
    "df.info()"
   ]
  },
  {
   "cell_type": "markdown",
   "id": "927331f8-bf91-424f-9b4a-073d4faffe41",
   "metadata": {},
   "source": [
    "# Converting to datetime"
   ]
  },
  {
   "cell_type": "code",
   "execution_count": 20,
   "id": "c571d7f9-3bb8-4353-bd28-829b6e8903f3",
   "metadata": {},
   "outputs": [
    {
     "name": "stderr",
     "output_type": "stream",
     "text": [
      "C:\\Users\\bbuser\\AppData\\Local\\Temp\\ipykernel_3640\\1793818658.py:1: UserWarning: Parsing dates in %d/%m/%Y format when dayfirst=False (the default) was specified. Pass `dayfirst=True` or specify a format to silence this warning.\n",
      "  df['Date'] = pd.to_datetime(df['Date'])\n"
     ]
    },
    {
     "data": {
      "text/plain": [
       "0         2006-12-16\n",
       "1         2006-12-16\n",
       "2         2006-12-16\n",
       "3         2006-12-16\n",
       "4         2006-12-16\n",
       "             ...    \n",
       "1048570   2008-12-13\n",
       "1048571   2008-12-13\n",
       "1048572   2008-12-13\n",
       "1048573   2008-12-13\n",
       "1048574   2008-12-13\n",
       "Name: Date, Length: 1048575, dtype: datetime64[ns]"
      ]
     },
     "execution_count": 20,
     "metadata": {},
     "output_type": "execute_result"
    }
   ],
   "source": [
    "df['Date'] = pd.to_datetime(df['Date'])\n",
    "df['Date']"
   ]
  },
  {
   "cell_type": "markdown",
   "id": "cfb4b06f-32fc-45a3-bbda-7ce7c15c6f12",
   "metadata": {},
   "source": [
    "# Setting up a datetime "
   ]
  },
  {
   "cell_type": "code",
   "execution_count": 21,
   "id": "47189aa2-578c-4cbe-9030-7e27bcac45c7",
   "metadata": {},
   "outputs": [
    {
     "name": "stdout",
     "output_type": "stream",
     "text": [
      "                  Time  Global_active_power  Global_reactive_power  Voltage  \\\n",
      "Date                                                                          \n",
      "2006-12-16  5:24:00 PM                4.216                  0.418   234.84   \n",
      "2006-12-16  5:25:00 PM                5.360                  0.436   233.63   \n",
      "2006-12-16  5:26:00 PM                5.374                  0.498   233.29   \n",
      "2006-12-16  5:27:00 PM                5.388                  0.502   233.74   \n",
      "2006-12-16  5:28:00 PM                3.666                  0.528   235.68   \n",
      "\n",
      "            Global_intensity  Sub_metering_1  Sub_metering_2  Sub_metering_3  \n",
      "Date                                                                          \n",
      "2006-12-16              18.4             0.0             1.0            17.0  \n",
      "2006-12-16              23.0             0.0             1.0            16.0  \n",
      "2006-12-16              23.0             0.0             2.0            17.0  \n",
      "2006-12-16              23.0             0.0             1.0            17.0  \n",
      "2006-12-16              15.8             0.0             1.0            17.0  \n",
      "DatetimeIndex(['2006-12-16', '2006-12-16', '2006-12-16', '2006-12-16',\n",
      "               '2006-12-16', '2006-12-16', '2006-12-16', '2006-12-16',\n",
      "               '2006-12-16', '2006-12-16',\n",
      "               ...\n",
      "               '2008-12-13', '2008-12-13', '2008-12-13', '2008-12-13',\n",
      "               '2008-12-13', '2008-12-13', '2008-12-13', '2008-12-13',\n",
      "               '2008-12-13', '2008-12-13'],\n",
      "              dtype='datetime64[ns]', name='Date', length=1048575, freq=None)\n"
     ]
    }
   ],
   "source": [
    "df = df.set_index('Date')\n",
    "print(df.head())\n",
    "print(df.index)"
   ]
  },
  {
   "cell_type": "markdown",
   "id": "39d0b3ec-944e-4ed9-8b27-3e8f7267ea21",
   "metadata": {},
   "source": [
    "# Slicing "
   ]
  },
  {
   "cell_type": "code",
   "execution_count": 25,
   "id": "3aea52fe-4107-4b49-904c-2af6798014c3",
   "metadata": {},
   "outputs": [
    {
     "data": {
      "text/html": [
       "<div>\n",
       "<style scoped>\n",
       "    .dataframe tbody tr th:only-of-type {\n",
       "        vertical-align: middle;\n",
       "    }\n",
       "\n",
       "    .dataframe tbody tr th {\n",
       "        vertical-align: top;\n",
       "    }\n",
       "\n",
       "    .dataframe thead th {\n",
       "        text-align: right;\n",
       "    }\n",
       "</style>\n",
       "<table border=\"1\" class=\"dataframe\">\n",
       "  <thead>\n",
       "    <tr style=\"text-align: right;\">\n",
       "      <th></th>\n",
       "      <th>Value</th>\n",
       "    </tr>\n",
       "  </thead>\n",
       "  <tbody>\n",
       "    <tr>\n",
       "      <th>2007-12-12</th>\n",
       "      <td>10</td>\n",
       "    </tr>\n",
       "    <tr>\n",
       "      <th>2007-12-13</th>\n",
       "      <td>17</td>\n",
       "    </tr>\n",
       "    <tr>\n",
       "      <th>2007-12-14</th>\n",
       "      <td>28</td>\n",
       "    </tr>\n",
       "    <tr>\n",
       "      <th>2007-12-15</th>\n",
       "      <td>16</td>\n",
       "    </tr>\n",
       "    <tr>\n",
       "      <th>2007-12-16</th>\n",
       "      <td>18</td>\n",
       "    </tr>\n",
       "    <tr>\n",
       "      <th>2007-12-17</th>\n",
       "      <td>10</td>\n",
       "    </tr>\n",
       "    <tr>\n",
       "      <th>2007-12-18</th>\n",
       "      <td>14</td>\n",
       "    </tr>\n",
       "    <tr>\n",
       "      <th>2007-12-19</th>\n",
       "      <td>14</td>\n",
       "    </tr>\n",
       "    <tr>\n",
       "      <th>2007-12-20</th>\n",
       "      <td>18</td>\n",
       "    </tr>\n",
       "    <tr>\n",
       "      <th>2007-12-21</th>\n",
       "      <td>13</td>\n",
       "    </tr>\n",
       "  </tbody>\n",
       "</table>\n",
       "</div>"
      ],
      "text/plain": [
       "            Value\n",
       "2007-12-12     10\n",
       "2007-12-13     17\n",
       "2007-12-14     28\n",
       "2007-12-15     16\n",
       "2007-12-16     18\n",
       "2007-12-17     10\n",
       "2007-12-18     14\n",
       "2007-12-19     14\n",
       "2007-12-20     18\n",
       "2007-12-21     13"
      ]
     },
     "execution_count": 25,
     "metadata": {},
     "output_type": "execute_result"
    }
   ],
   "source": [
    "dates = pd.date_range(start='2007-12-12', periods=10, freq='D')\n",
    "values = np.random.randint(10, 30, size =10)\n",
    "df= pd.DataFrame({'Value': values}, index=dates)\n",
    "df"
   ]
  },
  {
   "cell_type": "markdown",
   "id": "8cff0eba-620f-4c44-a2a4-b57aa4780b4c",
   "metadata": {},
   "source": [
    "# Slicing by month"
   ]
  },
  {
   "cell_type": "code",
   "execution_count": 30,
   "id": "34487e0d-4f74-4525-9888-af1c050a7574",
   "metadata": {},
   "outputs": [
    {
     "data": {
      "text/html": [
       "<div>\n",
       "<style scoped>\n",
       "    .dataframe tbody tr th:only-of-type {\n",
       "        vertical-align: middle;\n",
       "    }\n",
       "\n",
       "    .dataframe tbody tr th {\n",
       "        vertical-align: top;\n",
       "    }\n",
       "\n",
       "    .dataframe thead th {\n",
       "        text-align: right;\n",
       "    }\n",
       "</style>\n",
       "<table border=\"1\" class=\"dataframe\">\n",
       "  <thead>\n",
       "    <tr style=\"text-align: right;\">\n",
       "      <th></th>\n",
       "      <th>Value</th>\n",
       "    </tr>\n",
       "  </thead>\n",
       "  <tbody>\n",
       "    <tr>\n",
       "      <th>2007-12-12</th>\n",
       "      <td>10</td>\n",
       "    </tr>\n",
       "    <tr>\n",
       "      <th>2007-12-13</th>\n",
       "      <td>17</td>\n",
       "    </tr>\n",
       "    <tr>\n",
       "      <th>2007-12-14</th>\n",
       "      <td>28</td>\n",
       "    </tr>\n",
       "    <tr>\n",
       "      <th>2007-12-15</th>\n",
       "      <td>16</td>\n",
       "    </tr>\n",
       "    <tr>\n",
       "      <th>2007-12-16</th>\n",
       "      <td>18</td>\n",
       "    </tr>\n",
       "    <tr>\n",
       "      <th>2007-12-17</th>\n",
       "      <td>10</td>\n",
       "    </tr>\n",
       "    <tr>\n",
       "      <th>2007-12-18</th>\n",
       "      <td>14</td>\n",
       "    </tr>\n",
       "    <tr>\n",
       "      <th>2007-12-19</th>\n",
       "      <td>14</td>\n",
       "    </tr>\n",
       "    <tr>\n",
       "      <th>2007-12-20</th>\n",
       "      <td>18</td>\n",
       "    </tr>\n",
       "    <tr>\n",
       "      <th>2007-12-21</th>\n",
       "      <td>13</td>\n",
       "    </tr>\n",
       "  </tbody>\n",
       "</table>\n",
       "</div>"
      ],
      "text/plain": [
       "            Value\n",
       "2007-12-12     10\n",
       "2007-12-13     17\n",
       "2007-12-14     28\n",
       "2007-12-15     16\n",
       "2007-12-16     18\n",
       "2007-12-17     10\n",
       "2007-12-18     14\n",
       "2007-12-19     14\n",
       "2007-12-20     18\n",
       "2007-12-21     13"
      ]
     },
     "execution_count": 30,
     "metadata": {},
     "output_type": "execute_result"
    }
   ],
   "source": [
    "df.loc[('2007-12')]"
   ]
  },
  {
   "cell_type": "markdown",
   "id": "8e1f5a18-e4cc-4b7f-a509-01c5f1503b86",
   "metadata": {},
   "source": [
    "# Slicing by year "
   ]
  },
  {
   "cell_type": "code",
   "execution_count": 33,
   "id": "7e8d1596-e3c1-4eef-9136-53de04a69b06",
   "metadata": {},
   "outputs": [
    {
     "data": {
      "text/html": [
       "<div>\n",
       "<style scoped>\n",
       "    .dataframe tbody tr th:only-of-type {\n",
       "        vertical-align: middle;\n",
       "    }\n",
       "\n",
       "    .dataframe tbody tr th {\n",
       "        vertical-align: top;\n",
       "    }\n",
       "\n",
       "    .dataframe thead th {\n",
       "        text-align: right;\n",
       "    }\n",
       "</style>\n",
       "<table border=\"1\" class=\"dataframe\">\n",
       "  <thead>\n",
       "    <tr style=\"text-align: right;\">\n",
       "      <th></th>\n",
       "      <th>Value</th>\n",
       "    </tr>\n",
       "  </thead>\n",
       "  <tbody>\n",
       "    <tr>\n",
       "      <th>2007-12-12</th>\n",
       "      <td>10</td>\n",
       "    </tr>\n",
       "    <tr>\n",
       "      <th>2007-12-13</th>\n",
       "      <td>17</td>\n",
       "    </tr>\n",
       "    <tr>\n",
       "      <th>2007-12-14</th>\n",
       "      <td>28</td>\n",
       "    </tr>\n",
       "    <tr>\n",
       "      <th>2007-12-15</th>\n",
       "      <td>16</td>\n",
       "    </tr>\n",
       "    <tr>\n",
       "      <th>2007-12-16</th>\n",
       "      <td>18</td>\n",
       "    </tr>\n",
       "    <tr>\n",
       "      <th>2007-12-17</th>\n",
       "      <td>10</td>\n",
       "    </tr>\n",
       "    <tr>\n",
       "      <th>2007-12-18</th>\n",
       "      <td>14</td>\n",
       "    </tr>\n",
       "    <tr>\n",
       "      <th>2007-12-19</th>\n",
       "      <td>14</td>\n",
       "    </tr>\n",
       "    <tr>\n",
       "      <th>2007-12-20</th>\n",
       "      <td>18</td>\n",
       "    </tr>\n",
       "    <tr>\n",
       "      <th>2007-12-21</th>\n",
       "      <td>13</td>\n",
       "    </tr>\n",
       "  </tbody>\n",
       "</table>\n",
       "</div>"
      ],
      "text/plain": [
       "            Value\n",
       "2007-12-12     10\n",
       "2007-12-13     17\n",
       "2007-12-14     28\n",
       "2007-12-15     16\n",
       "2007-12-16     18\n",
       "2007-12-17     10\n",
       "2007-12-18     14\n",
       "2007-12-19     14\n",
       "2007-12-20     18\n",
       "2007-12-21     13"
      ]
     },
     "execution_count": 33,
     "metadata": {},
     "output_type": "execute_result"
    }
   ],
   "source": [
    "df.loc[('2007')]"
   ]
  },
  {
   "cell_type": "markdown",
   "id": "215ca340-1e7f-410a-91db-da7e00710c3d",
   "metadata": {},
   "source": [
    "# Resampling "
   ]
  },
  {
   "cell_type": "code",
   "execution_count": 34,
   "id": "7bd676bc-80ad-4902-8bc1-f854bb452ff0",
   "metadata": {},
   "outputs": [
    {
     "name": "stderr",
     "output_type": "stream",
     "text": [
      "C:\\Users\\bbuser\\AppData\\Local\\Temp\\ipykernel_3640\\2522980246.py:1: FutureWarning: 'M' is deprecated and will be removed in a future version, please use 'ME' instead.\n",
      "  df_monthley_mean = df.resample('M').mean()\n"
     ]
    },
    {
     "data": {
      "text/html": [
       "<div>\n",
       "<style scoped>\n",
       "    .dataframe tbody tr th:only-of-type {\n",
       "        vertical-align: middle;\n",
       "    }\n",
       "\n",
       "    .dataframe tbody tr th {\n",
       "        vertical-align: top;\n",
       "    }\n",
       "\n",
       "    .dataframe thead th {\n",
       "        text-align: right;\n",
       "    }\n",
       "</style>\n",
       "<table border=\"1\" class=\"dataframe\">\n",
       "  <thead>\n",
       "    <tr style=\"text-align: right;\">\n",
       "      <th></th>\n",
       "      <th>Value</th>\n",
       "    </tr>\n",
       "  </thead>\n",
       "  <tbody>\n",
       "    <tr>\n",
       "      <th>2007-12-31</th>\n",
       "      <td>15.8</td>\n",
       "    </tr>\n",
       "  </tbody>\n",
       "</table>\n",
       "</div>"
      ],
      "text/plain": [
       "            Value\n",
       "2007-12-31   15.8"
      ]
     },
     "execution_count": 34,
     "metadata": {},
     "output_type": "execute_result"
    }
   ],
   "source": [
    "df_monthley_mean = df.resample('M').mean()\n",
    "df_monthley_mean"
   ]
  },
  {
   "cell_type": "code",
   "execution_count": 40,
   "id": "c4a4e506-9abf-4a07-a72b-0cec750726b9",
   "metadata": {},
   "outputs": [
    {
     "data": {
      "text/plain": [
       "<function matplotlib.pyplot.show(close=None, block=None)>"
      ]
     },
     "execution_count": 40,
     "metadata": {},
     "output_type": "execute_result"
    },
    {
     "data": {
      "image/png": "[encoded data removed]",
      "text/plain": [
       "<Figure size 800x800 with 1 Axes>"
      ]
     },
     "metadata": {},
     "output_type": "display_data"
    }
   ],
   "source": [
    "import matplotlib.pyplot as plt\n",
    "\n",
    "plt.figure(figsize=(8, 8))\n",
    "plt.plot(df.index, df['Value'], marker = 'o', linestyle='-', color='blue', alpha=0.6)\n",
    "plt.title('Times series analysis')\n",
    "plt.xlabel('Date', fontsize=14)\n",
    "plt.ylabel('Value', fontsize=14)\n",
    "plt.grid(True, linestyle = ':', alpha=0.6)\n",
    "plt.xticks(rotation=90)\n",
    "plt.tight_layout()\n",
    "plt.show"
   ]
  },
  {
   "cell_type": "code",
   "execution_count": null,
   "id": "ca6b995d-1291-4a8e-bf7d-d3a2b845e464",
   "metadata": {},
   "outputs": [],
   "source": []
  }
 ],
 "metadata": {
  "kernelspec": {
   "display_name": "Python 3 (ipykernel)",
   "language": "python",
   "name": "python3"
  },
  "language_info": {
   "codemirror_mode": {
    "name": "ipython",
    "version": 3
   },
   "file_extension": ".py",
   "mimetype": "text/x-python",
   "name": "python",
   "nbconvert_exporter": "python",
   "pygments_lexer": "ipython3",
   "version": "3.13.5"
  }
 },
 "nbformat": 4,
 "nbformat_minor": 5
}
