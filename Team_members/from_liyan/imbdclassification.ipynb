{
 "cells": [
  {
   "cell_type": "markdown",
   "id": "fc475d52",
   "metadata": {},
   "source": [
    "#### IMDb Movie Reviews Classification"
   ]
  },
  {
   "cell_type": "markdown",
   "id": "ad4d0fb8",
   "metadata": {},
   "source": [
    "##### As a Data Scientist,I want to use the cleaned IMDb movie reviews to train sentiment classification models,So that I can compare the performance of Logistic Regression, Decision Tree, and Random Forest on predicting review sentiment."
   ]
  },
  {
   "cell_type": "code",
   "execution_count": 1,
   "id": "b26eaab6",
   "metadata": {},
   "outputs": [],
   "source": [
    "# Step 1: Imports\n",
    "import pandas as pd\n",
    "from sklearn.model_selection import train_test_split\n",
    "from sklearn.feature_extraction.text import TfidfVectorizer\n",
    "from sklearn.linear_model import LogisticRegression\n",
    "from sklearn.tree import DecisionTreeClassifier\n",
    "from sklearn.ensemble import RandomForestClassifier\n",
    "from sklearn.metrics import classification_report, accuracy_score, precision_score, recall_score, f1_score\n",
    "\n"
   ]
  },
  {
   "cell_type": "code",
   "execution_count": 3,
   "id": "68128060",
   "metadata": {},
   "outputs": [],
   "source": [
    "# Step 2: Load the cleaned IMDb dataset\n",
    "# Replace 'cleaned_imdb.csv' with your actual file path\n",
    "df = pd.read_csv(r\"C:\\Users\\bbuser\\Downloads\\cleaned_imdb.csv\")\n",
    "\n"
   ]
  },
  {
   "cell_type": "code",
   "execution_count": 6,
   "id": "8cbf8438",
   "metadata": {},
   "outputs": [],
   "source": [
    "# Keep only the necessary columns\n",
    "df = df[['cleaned_review', 'label']]\n",
    "\n",
    "# Step 3: Train-test split\n",
    "X_train, X_test, y_train, y_test = train_test_split(\n",
    "    df['cleaned_review'], df['label'], test_size=0.2, random_state=42\n",
    ")\n",
    "\n",
    "# Step 4: TF-IDF Vectorization\n",
    "vectorizer = TfidfVectorizer(max_features=5000)\n",
    "X_train_tfidf = vectorizer.fit_transform(X_train)\n",
    "X_test_tfidf = vectorizer.transform(X_test)\n",
    "\n",
    "# Step 5: Initialize models\n",
    "models = {\n",
    "    'Logistic Regression': LogisticRegression(max_iter=1000),\n",
    "    'Decision Tree': DecisionTreeClassifier(),\n",
    "    'Random Forest': RandomForestClassifier(n_estimators=100, random_state=42)\n",
    "}\n",
    "\n"
   ]
  },
  {
   "cell_type": "code",
   "execution_count": 8,
   "id": "03d5716e",
   "metadata": {},
   "outputs": [
    {
     "name": "stdout",
     "output_type": "stream",
     "text": [
      "=== Logistic Regression ===\n",
      "              precision    recall  f1-score   support\n",
      "\n",
      "           0       0.87      0.85      0.86       988\n",
      "           1       0.86      0.88      0.87      1012\n",
      "\n",
      "    accuracy                           0.86      2000\n",
      "   macro avg       0.86      0.86      0.86      2000\n",
      "weighted avg       0.86      0.86      0.86      2000\n",
      "\n",
      "\n",
      "\n",
      "=== Decision Tree ===\n",
      "              precision    recall  f1-score   support\n",
      "\n",
      "           0       0.70      0.76      0.73       988\n",
      "           1       0.74      0.68      0.71      1012\n",
      "\n",
      "    accuracy                           0.72      2000\n",
      "   macro avg       0.72      0.72      0.72      2000\n",
      "weighted avg       0.72      0.72      0.72      2000\n",
      "\n",
      "\n",
      "\n",
      "=== Random Forest ===\n",
      "              precision    recall  f1-score   support\n",
      "\n",
      "           0       0.81      0.86      0.84       988\n",
      "           1       0.86      0.81      0.83      1012\n",
      "\n",
      "    accuracy                           0.83      2000\n",
      "   macro avg       0.83      0.83      0.83      2000\n",
      "weighted avg       0.83      0.83      0.83      2000\n",
      "\n",
      "\n",
      "\n",
      "=== Model Comparison ===\n",
      "                 Model  Accuracy  Precision    Recall  F1-Score\n",
      "0  Logistic Regression    0.8645   0.858664  0.876482  0.867482\n",
      "1        Decision Tree    0.7180   0.740343  0.681818  0.709877\n",
      "2        Random Forest    0.8335   0.855497  0.807312  0.830707\n"
     ]
    }
   ],
   "source": [
    "# Step 6: Train and evaluate models\n",
    "results = []\n",
    "\n",
    "for name, model in models.items():\n",
    "    model.fit(X_train_tfidf, y_train)\n",
    "    y_pred = model.predict(X_test_tfidf)\n",
    "    \n",
    "    acc = accuracy_score(y_test, y_pred)\n",
    "    prec = precision_score(y_test, y_pred, pos_label=1)\n",
    "    rec = recall_score(y_test, y_pred, pos_label=1)\n",
    "    f1 = f1_score(y_test, y_pred, pos_label=1)\n",
    "    \n",
    "    results.append({\n",
    "        'Model': name,\n",
    "        'Accuracy': acc,\n",
    "        'Precision': prec,\n",
    "        'Recall': rec,\n",
    "        'F1-Score': f1\n",
    "    })\n",
    "    \n",
    "    print(f\"=== {name} ===\")\n",
    "    print(classification_report(y_test, y_pred))\n",
    "    print(\"\\n\")\n",
    "\n",
    "# Step 7: Create a comparison table\n",
    "results_df = pd.DataFrame(results)\n",
    "print(\"=== Model Comparison ===\")\n",
    "print(results_df)\n",
    "\n",
    "\n"
   ]
  },
  {
   "cell_type": "code",
   "execution_count": 9,
   "id": "61cbffc7",
   "metadata": {},
   "outputs": [
    {
     "name": "stdout",
     "output_type": "stream",
     "text": [
      "Logistic Regression predictions: [('The movie was fantastic! I loved the acting and the story.', np.int64(1)), ('I hated this film. It was boring and too long.', np.int64(0))]\n",
      "Decision Tree predictions: [('The movie was fantastic! I loved the acting and the story.', np.int64(1)), ('I hated this film. It was boring and too long.', np.int64(0))]\n",
      "Random Forest predictions: [('The movie was fantastic! I loved the acting and the story.', np.int64(1)), ('I hated this film. It was boring and too long.', np.int64(0))]\n"
     ]
    }
   ],
   "source": [
    "# Step 8: Example predictions\n",
    "sample_reviews = [\n",
    "    \"The movie was fantastic! I loved the acting and the story.\",\n",
    "    \"I hated this film. It was boring and too long.\"\n",
    "]\n",
    "sample_tfidf = vectorizer.transform(sample_reviews)\n",
    "\n",
    "for name, model in models.items():\n",
    "    preds = model.predict(sample_tfidf)\n",
    "    print(f\"{name} predictions: {list(zip(sample_reviews, preds))}\")"
   ]
  }
 ],
 "metadata": {
  "kernelspec": {
   "display_name": ".venv",
   "language": "python",
   "name": "python3"
  },
  "language_info": {
   "codemirror_mode": {
    "name": "ipython",
    "version": 3
   },
   "file_extension": ".py",
   "mimetype": "text/x-python",
   "name": "python",
   "nbconvert_exporter": "python",
   "pygments_lexer": "ipython3",
   "version": "3.13.3"
  }
 },
 "nbformat": 4,
 "nbformat_minor": 5
}
