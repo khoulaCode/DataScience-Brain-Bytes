{
 "cells": [
  {
   "cell_type": "markdown",
   "id": "bf40ca1c",
   "metadata": {},
   "source": [
    "#### IMDb Movie Reviews Classification"
   ]
  },
  {
   "cell_type": "markdown",
   "id": "1fe35cfe",
   "metadata": {},
   "source": [
    "###### As a Data Scientist,I want to use the cleaned IMDb movie reviews to train sentiment classification models,So that I can compare the performance of Logistic Regression, Decision Tree, and Random Forest on predicting review sentiment."
   ]
  },
  {
   "cell_type": "code",
   "execution_count": 16,
   "id": "35beda26",
   "metadata": {},
   "outputs": [],
   "source": [
    "import cv2\n",
    "import numpy as np\n",
    "from matplotlib import pyplot as plt\n",
    "from sklearn.cluster import KMeans\n",
    "from sklearn.metrics import silhouette_score\n",
    "from sklearn.decomposition import PCA\n",
    "from sklearn.preprocessing import StandardScaler\n",
    "from sklearn.model_selection import train_test_split\n",
    "from sklearn.linear_model import LogisticRegression\n",
    "from sklearn.metrics import classification_report, confusion_matrix\n",
    "from sklearn.ensemble import RandomForestClassifier\n",
    "from sklearn.neighbors import KNeighborsClassifier\n",
    "from sklearn.tree import DecisionTreeClassifier\n",
    "from sklearn.feature_extraction.text import TfidfVectorizer"
   ]
  },
  {
   "cell_type": "code",
   "execution_count": 17,
   "id": "5d38b640",
   "metadata": {},
   "outputs": [
    {
     "data": {
      "text/html": [
       "<div>\n",
       "<style scoped>\n",
       "    .dataframe tbody tr th:only-of-type {\n",
       "        vertical-align: middle;\n",
       "    }\n",
       "\n",
       "    .dataframe tbody tr th {\n",
       "        vertical-align: top;\n",
       "    }\n",
       "\n",
       "    .dataframe thead th {\n",
       "        text-align: right;\n",
       "    }\n",
       "</style>\n",
       "<table border=\"1\" class=\"dataframe\">\n",
       "  <thead>\n",
       "    <tr style=\"text-align: right;\">\n",
       "      <th></th>\n",
       "      <th>cleaned_review</th>\n",
       "      <th>label</th>\n",
       "    </tr>\n",
       "  </thead>\n",
       "  <tbody>\n",
       "    <tr>\n",
       "      <th>0</th>\n",
       "      <td>liked lot fact see againand plan may love ill ...</td>\n",
       "      <td>1</td>\n",
       "    </tr>\n",
       "    <tr>\n",
       "      <th>1</th>\n",
       "      <td>teta luna symbolic spain film everything film ...</td>\n",
       "      <td>1</td>\n",
       "    </tr>\n",
       "    <tr>\n",
       "      <th>2</th>\n",
       "      <td>slight charming little movie sure superblycraf...</td>\n",
       "      <td>1</td>\n",
       "    </tr>\n",
       "    <tr>\n",
       "      <th>3</th>\n",
       "      <td>much thing happen movie lot meaning woman thou...</td>\n",
       "      <td>1</td>\n",
       "    </tr>\n",
       "    <tr>\n",
       "      <th>4</th>\n",
       "      <td>panic never got good theatrical release easily...</td>\n",
       "      <td>1</td>\n",
       "    </tr>\n",
       "  </tbody>\n",
       "</table>\n",
       "</div>"
      ],
      "text/plain": [
       "                                      cleaned_review  label\n",
       "0  liked lot fact see againand plan may love ill ...      1\n",
       "1  teta luna symbolic spain film everything film ...      1\n",
       "2  slight charming little movie sure superblycraf...      1\n",
       "3  much thing happen movie lot meaning woman thou...      1\n",
       "4  panic never got good theatrical release easily...      1"
      ]
     },
     "execution_count": 17,
     "metadata": {},
     "output_type": "execute_result"
    }
   ],
   "source": [
    "# loading dataset\n",
    "import pandas as pd\n",
    "df = pd.read_csv(r\"C:\\Users\\bbuser\\Downloads\\cleaned_imdb.csv\")\n",
    "df.head()"
   ]
  },
  {
   "cell_type": "code",
   "execution_count": 10,
   "id": "a8054f04",
   "metadata": {},
   "outputs": [
    {
     "name": "stdout",
     "output_type": "stream",
     "text": [
      "Index(['cleaned_review', 'label'], dtype='object')\n"
     ]
    }
   ],
   "source": [
    "print(df.columns)"
   ]
  },
  {
   "cell_type": "code",
   "execution_count": 11,
   "id": "5c8c468f",
   "metadata": {},
   "outputs": [],
   "source": [
    "#feature and label\n",
    "X = df['cleaned_review']\n",
    "y = df['label']  # Assuming 'label' is the column name for sentiment labels"
   ]
  },
  {
   "cell_type": "code",
   "execution_count": 12,
   "id": "660087e6",
   "metadata": {},
   "outputs": [],
   "source": [
    "#train test split\n",
    "X_train, X_test, y_train, y_test = train_test_split(X, y, test_size=0.2, random_state=42)"
   ]
  },
  {
   "cell_type": "code",
   "execution_count": 18,
   "id": "42aa470a",
   "metadata": {},
   "outputs": [],
   "source": [
    "#TF-IDF Vectorization\n",
    "tfidf = TfidfVectorizer(max_features=5000, ngram_range=(1,2), stop_words='english')\n",
    "X_train_tfidf = tfidf.fit_transform(X_train)\n",
    "X_test_tfidf = tfidf.transform(X_test)"
   ]
  },
  {
   "cell_type": "code",
   "execution_count": 19,
   "id": "f9a4a9ed",
   "metadata": {},
   "outputs": [
    {
     "name": "stdout",
     "output_type": "stream",
     "text": [
      "Accuracy of Logistic Regression: 0.8575\n",
      "Precision: 0.8578, Recall: 0.8575, F1-Score: 0.8574\n",
      "[[830 158]\n",
      " [127 885]]\n",
      "Accuracy of Random Forest: 0.8275\n",
      "Precision: 0.8278, Recall: 0.8275, F1-Score: 0.8275\n",
      "[[829 159]\n",
      " [186 826]]\n",
      "Accuracy of Random Forest: 0.8275\n",
      "Precision: 0.8278, Recall: 0.8275, F1-Score: 0.8275\n",
      "[[829 159]\n",
      " [186 826]]\n",
      "Accuracy of K-Nearest Neighbors: 0.7070\n",
      "Precision: 0.7103, Recall: 0.7070, F1-Score: 0.7054\n",
      "[[628 360]\n",
      " [226 786]]\n",
      "Accuracy of K-Nearest Neighbors: 0.7070\n",
      "Precision: 0.7103, Recall: 0.7070, F1-Score: 0.7054\n",
      "[[628 360]\n",
      " [226 786]]\n",
      "Accuracy of Decision Tree: 0.7180\n",
      "Precision: 0.7199, Recall: 0.7180, F1-Score: 0.7176\n",
      "[[749 239]\n",
      " [325 687]]\n",
      "                 Model  Accuracy  Precision  Recall  F1-Score\n",
      "0  Logistic Regression    0.8575   0.857791  0.8575  0.857439\n",
      "1        Random Forest    0.8275   0.827795  0.8275  0.827497\n",
      "2  K-Nearest Neighbors    0.7070   0.710316  0.7070  0.705439\n",
      "3        Decision Tree    0.7180   0.719914  0.7180  0.717624\n",
      "Accuracy of Decision Tree: 0.7180\n",
      "Precision: 0.7199, Recall: 0.7180, F1-Score: 0.7176\n",
      "[[749 239]\n",
      " [325 687]]\n",
      "                 Model  Accuracy  Precision  Recall  F1-Score\n",
      "0  Logistic Regression    0.8575   0.857791  0.8575  0.857439\n",
      "1        Random Forest    0.8275   0.827795  0.8275  0.827497\n",
      "2  K-Nearest Neighbors    0.7070   0.710316  0.7070  0.705439\n",
      "3        Decision Tree    0.7180   0.719914  0.7180  0.717624\n"
     ]
    }
   ],
   "source": [
    "#model training\n",
    "models = {\n",
    "    \"Logistic Regression\": LogisticRegression(max_iter=200),\n",
    "    \"Random Forest\": RandomForestClassifier(n_estimators=100),\n",
    "    \"K-Nearest Neighbors\": KNeighborsClassifier(n_neighbors=5),\n",
    "    \"Decision Tree\": DecisionTreeClassifier()\n",
    "}\n",
    "results = []\n",
    "for model_name, model in models.items():\n",
    "    model.fit(X_train_tfidf, y_train)\n",
    "    y_pred = model.predict(X_test_tfidf)\n",
    "    #evaluation\n",
    "    accuracy = model.score(X_test_tfidf, y_test)\n",
    "    print(f\"Accuracy of {model_name}: {accuracy:.4f}\")\n",
    "    precision = classification_report(y_test, y_pred, output_dict=True)['weighted avg']['precision']\n",
    "    recall = classification_report(y_test, y_pred, output_dict=True)['weighted avg']['recall']\n",
    "    f1 = classification_report(y_test, y_pred, output_dict=True)['weighted avg']['f1-score']\n",
    "    print(f\"Precision: {precision:.4f}, Recall: {recall:.4f}, F1-Score: {f1:.4f}\")\n",
    "    #store all metrics\n",
    "    results.append({\n",
    "        \"Model\": model_name,\n",
    "        \"Accuracy\": accuracy,\n",
    "        \"Precision\": precision,\n",
    "        \"Recall\": recall,\n",
    "        \"F1-Score\": f1\n",
    "    })\n",
    "    #print all\n",
    "    print(confusion_matrix(y_test, y_pred))\n",
    "print(pd.DataFrame(results))"
   ]
  },
  {
   "cell_type": "code",
   "execution_count": 20,
   "id": "9b76996c",
   "metadata": {},
   "outputs": [
    {
     "data": {
      "text/html": [
       "<div>\n",
       "<style scoped>\n",
       "    .dataframe tbody tr th:only-of-type {\n",
       "        vertical-align: middle;\n",
       "    }\n",
       "\n",
       "    .dataframe tbody tr th {\n",
       "        vertical-align: top;\n",
       "    }\n",
       "\n",
       "    .dataframe thead th {\n",
       "        text-align: right;\n",
       "    }\n",
       "</style>\n",
       "<table border=\"1\" class=\"dataframe\">\n",
       "  <thead>\n",
       "    <tr style=\"text-align: right;\">\n",
       "      <th></th>\n",
       "      <th>Model</th>\n",
       "      <th>Accuracy</th>\n",
       "      <th>Precision</th>\n",
       "      <th>Recall</th>\n",
       "      <th>F1-Score</th>\n",
       "    </tr>\n",
       "  </thead>\n",
       "  <tbody>\n",
       "    <tr>\n",
       "      <th>0</th>\n",
       "      <td>Logistic Regression</td>\n",
       "      <td>0.8575</td>\n",
       "      <td>0.857791</td>\n",
       "      <td>0.8575</td>\n",
       "      <td>0.857439</td>\n",
       "    </tr>\n",
       "    <tr>\n",
       "      <th>1</th>\n",
       "      <td>Random Forest</td>\n",
       "      <td>0.8275</td>\n",
       "      <td>0.827795</td>\n",
       "      <td>0.8275</td>\n",
       "      <td>0.827497</td>\n",
       "    </tr>\n",
       "    <tr>\n",
       "      <th>2</th>\n",
       "      <td>K-Nearest Neighbors</td>\n",
       "      <td>0.7070</td>\n",
       "      <td>0.710316</td>\n",
       "      <td>0.7070</td>\n",
       "      <td>0.705439</td>\n",
       "    </tr>\n",
       "    <tr>\n",
       "      <th>3</th>\n",
       "      <td>Decision Tree</td>\n",
       "      <td>0.7180</td>\n",
       "      <td>0.719914</td>\n",
       "      <td>0.7180</td>\n",
       "      <td>0.717624</td>\n",
       "    </tr>\n",
       "  </tbody>\n",
       "</table>\n",
       "</div>"
      ],
      "text/plain": [
       "                 Model  Accuracy  Precision  Recall  F1-Score\n",
       "0  Logistic Regression    0.8575   0.857791  0.8575  0.857439\n",
       "1        Random Forest    0.8275   0.827795  0.8275  0.827497\n",
       "2  K-Nearest Neighbors    0.7070   0.710316  0.7070  0.705439\n",
       "3        Decision Tree    0.7180   0.719914  0.7180  0.717624"
      ]
     },
     "execution_count": 20,
     "metadata": {},
     "output_type": "execute_result"
    }
   ],
   "source": [
    "#resualt table\n",
    "results_df = pd.DataFrame(results)\n",
    "results_df"
   ]
  }
 ],
 "metadata": {
  "kernelspec": {
   "display_name": ".venv",
   "language": "python",
   "name": "python3"
  },
  "language_info": {
   "codemirror_mode": {
    "name": "ipython",
    "version": 3
   },
   "file_extension": ".py",
   "mimetype": "text/x-python",
   "name": "python",
   "nbconvert_exporter": "python",
   "pygments_lexer": "ipython3",
   "version": "3.13.3"
  }
 },
 "nbformat": 4,
 "nbformat_minor": 5
}
