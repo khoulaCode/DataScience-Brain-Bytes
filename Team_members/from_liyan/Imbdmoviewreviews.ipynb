{
 "cells": [
  {
   "cell_type": "markdown",
   "id": "445b76e0",
   "metadata": {},
   "source": [
    "### IMDb Movie Reviews"
   ]
  },
  {
   "cell_type": "code",
   "execution_count": 2,
   "id": "1d8ac9e6",
   "metadata": {},
   "outputs": [],
   "source": [
    "#imports\n",
    "\n",
    "import pandas as pd\n",
    "import os\n",
    "import random\n",
    "import sys\n",
    "from bs4 import BeautifulSoup\n",
    "import re\n",
    "import nltk\n",
    "from nltk.corpus import stopwords\n",
    "from nltk.stem import WordNetLemmatizer"
   ]
  },
  {
   "cell_type": "code",
   "execution_count": 3,
   "id": "80106b9c-1bf1-47b5-aa6c-9e463ec2c088",
   "metadata": {},
   "outputs": [
    {
     "name": "stdout",
     "output_type": "stream",
     "text": [
      "Shape: (10000, 4)\n"
     ]
    },
    {
     "data": {
      "text/html": [
       "<div>\n",
       "<style scoped>\n",
       "    .dataframe tbody tr th:only-of-type {\n",
       "        vertical-align: middle;\n",
       "    }\n",
       "\n",
       "    .dataframe tbody tr th {\n",
       "        vertical-align: top;\n",
       "    }\n",
       "\n",
       "    .dataframe thead th {\n",
       "        text-align: right;\n",
       "    }\n",
       "</style>\n",
       "<table border=\"1\" class=\"dataframe\">\n",
       "  <thead>\n",
       "    <tr style=\"text-align: right;\">\n",
       "      <th></th>\n",
       "      <th>id</th>\n",
       "      <th>rating</th>\n",
       "      <th>txt</th>\n",
       "      <th>label</th>\n",
       "    </tr>\n",
       "  </thead>\n",
       "  <tbody>\n",
       "    <tr>\n",
       "      <th>0</th>\n",
       "      <td>1265</td>\n",
       "      <td>10</td>\n",
       "      <td>hi.. I consider Just Cause one of my favorite ...</td>\n",
       "      <td>1</td>\n",
       "    </tr>\n",
       "    <tr>\n",
       "      <th>1</th>\n",
       "      <td>4853</td>\n",
       "      <td>10</td>\n",
       "      <td>I have a thing for old black and white movies ...</td>\n",
       "      <td>1</td>\n",
       "    </tr>\n",
       "    <tr>\n",
       "      <th>2</th>\n",
       "      <td>9349</td>\n",
       "      <td>8</td>\n",
       "      <td>I didn't really go into \"Reign Over Me\" knowin...</td>\n",
       "      <td>1</td>\n",
       "    </tr>\n",
       "    <tr>\n",
       "      <th>3</th>\n",
       "      <td>3253</td>\n",
       "      <td>8</td>\n",
       "      <td>Not a film to be taken seriously, but a great ...</td>\n",
       "      <td>1</td>\n",
       "    </tr>\n",
       "    <tr>\n",
       "      <th>4</th>\n",
       "      <td>11057</td>\n",
       "      <td>10</td>\n",
       "      <td>I was 10 years old when this show was on TV. B...</td>\n",
       "      <td>1</td>\n",
       "    </tr>\n",
       "  </tbody>\n",
       "</table>\n",
       "</div>"
      ],
      "text/plain": [
       "      id  rating                                                txt  label\n",
       "0   1265      10  hi.. I consider Just Cause one of my favorite ...      1\n",
       "1   4853      10  I have a thing for old black and white movies ...      1\n",
       "2   9349       8  I didn't really go into \"Reign Over Me\" knowin...      1\n",
       "3   3253       8  Not a film to be taken seriously, but a great ...      1\n",
       "4  11057      10  I was 10 years old when this show was on TV. B...      1"
      ]
     },
     "execution_count": 3,
     "metadata": {},
     "output_type": "execute_result"
    }
   ],
   "source": [
    "data_dir = r\"C:\\Users\\bbuser\\Downloads\\aclImdb_v1 (1)\\aclImdb\"\n",
    "\n",
    "def load_imdb_with_rating_v2(base_dir, subset=\"train\", sample_size=5000):\n",
    "    data_records = []\n",
    "\n",
    "    categories = {\"pos\": 1, \"neg\": 0}  # map labels to 1/0\n",
    "    \n",
    "    for label, label_value in categories.items():\n",
    "        path = os.path.join(base_dir, subset, label)\n",
    "        \n",
    "        # list all files in pos/neg folder\n",
    "        all_files = os.listdir(path)\n",
    "        \n",
    "        # adjust if sample_size is larger than available\n",
    "        if sample_size > len(all_files):\n",
    "            sample_size = len(all_files)\n",
    "        \n",
    "        filenames = random.sample(all_files, sample_size)\n",
    "\n",
    "        for filename in filenames:\n",
    "            # filename looks like \"12345_7.txt\"\n",
    "            file_id, rating_str = filename.split(\"_\")\n",
    "            rating = int(rating_str.split(\".\")[0])  # extract rating number\n",
    "            \n",
    "            file_path = os.path.join(path, filename)\n",
    "            with open(file_path, encoding=\"utf-8\") as f:\n",
    "                review_text = f.read()\n",
    "            \n",
    "            data_records.append({\n",
    "                \"id\": int(file_id),\n",
    "                \"rating\": rating,\n",
    "                \"txt\": review_text,\n",
    "                \"label\": label_value\n",
    "            })\n",
    "\n",
    "    return pd.DataFrame(data_records)\n",
    "\n",
    "# we are takaing 5000 sample \n",
    "df_subset = load_imdb_with_rating_v2(data_dir, subset=\"train\", sample_size=5000)\n",
    "\n",
    "print(f\"Shape: {df_subset.shape}\")\n",
    "df_subset.head()\n"
   ]
  },
  {
   "cell_type": "markdown",
   "id": "a6f2cae1-728d-4be1-9e89-6604e59714d5",
   "metadata": {},
   "source": [
    "### data cleaning "
   ]
  },
  {
   "cell_type": "code",
   "execution_count": 4,
   "id": "de670690-571a-40ad-b0fb-4745640e2490",
   "metadata": {},
   "outputs": [
    {
     "name": "stderr",
     "output_type": "stream",
     "text": [
      "[nltk_data] Downloading package stopwords to\n",
      "[nltk_data]     C:\\Users\\bbuser\\AppData\\Roaming\\nltk_data...\n",
      "[nltk_data]   Unzipping corpora\\stopwords.zip.\n",
      "[nltk_data] Downloading package wordnet to\n",
      "[nltk_data]     C:\\Users\\bbuser\\AppData\\Roaming\\nltk_data...\n",
      "[nltk_data] Downloading package omw-1.4 to\n",
      "[nltk_data]     C:\\Users\\bbuser\\AppData\\Roaming\\nltk_data...\n"
     ]
    }
   ],
   "source": [
    "#telling NLTK (Natural Language Toolkit) to download extra language resources that aren’t included by default\n",
    "nltk.download(\"stopwords\")\n",
    "nltk.download(\"wordnet\")\n",
    "nltk.download(\"omw-1.4\")\n",
    "\n",
    "# Prepare stopwords and lemmatizer\n",
    "stop_words = set(stopwords.words(\"english\"))\n",
    "lemmatizer = WordNetLemmatizer()\n",
    "\n",
    "def clean_review(text):\n",
    "    \"\"\"Clean and preprocess a single IMDb review.\"\"\"\n",
    "    # 1. Lowercase\n",
    "    text = text.lower()\n",
    "    \n",
    "    # 2. Remove HTML tags\n",
    "    text = BeautifulSoup(text, \"html.parser\").get_text()\n",
    "    \n",
    "    # 3. Remove URLs and emails\n",
    "    text = re.sub(r\"http\\S+|www\\S+|https\\S+\", \"\", text)\n",
    "    text = re.sub(r\"\\S+@\\S+\", \"\", text)\n",
    "    \n",
    "    # 4. Remove punctuation, numbers, emojis\n",
    "    text = re.sub(r\"[^a-z\\s]\", \"\", text)\n",
    "    \n",
    "    # 5. Tokenize\n",
    "    tokens = text.split()\n",
    "    \n",
    "    # 6. Remove stopwords\n",
    "    tokens = [word for word in tokens if word not in stop_words]\n",
    "    \n",
    "    # 7. Lemmatize\n",
    "    tokens = [lemmatizer.lemmatize(word) for word in tokens]\n",
    "    \n",
    "    # 8. Keep meaningful tokens (>2 chars)\n",
    "    tokens = [word for word in tokens if len(word) > 2]\n",
    "    \n",
    "    return \" \".join(tokens)"
   ]
  },
  {
   "cell_type": "code",
   "execution_count": 5,
   "id": "f2c829eb",
   "metadata": {},
   "outputs": [
    {
     "name": "stdout",
     "output_type": "stream",
     "text": [
      "Cleaned dataset saved to C:\\Users\\bbuser\\Downloads\\cleaned_imdb.csv\n",
      "                                      cleaned_review  label\n",
      "0  liked lot fact see againand plan may love ill ...      1\n",
      "1  teta luna symbolic spain film everything film ...      1\n",
      "2  slight charming little movie sure superblycraf...      1\n",
      "3  much thing happen movie lot meaning woman thou...      1\n",
      "4  panic never got good theatrical release easily...      1\n"
     ]
    }
   ],
   "source": [
    "# Load sample\n",
    "df_subset = load_imdb_with_rating_v2(data_dir, subset=\"train\", sample_size=5000)\n",
    "\n",
    "# Clean the reviews\n",
    "df_subset['cleaned_review'] = df_subset['txt'].apply(clean_review)\n",
    "\n",
    "# Keep only relevant columns\n",
    "df_cleaned = df_subset[['cleaned_review', 'label']]\n",
    "\n",
    "# Save to CSV\n",
    "csv_path = r\"C:\\Users\\bbuser\\Downloads\\cleaned_imdb.csv\"\n",
    "df_cleaned.to_csv(csv_path, index=False)\n",
    "\n",
    "print(f\"Cleaned dataset saved to {csv_path}\")\n",
    "print(df_cleaned.head())"
   ]
  },
  {
   "cell_type": "code",
   "execution_count": 17,
   "id": "482ca90a-a7c8-4012-b30a-4150159a5d08",
   "metadata": {},
   "outputs": [
    {
     "name": "stdout",
     "output_type": "stream",
     "text": [
      "------------------Original Review-------------------:\n",
      "I liked it but then I think I might have been ironing at the same time. This reworking of Cyrano de Bergerac/Roxanne is an utterly undemanding, formulaic romcom rescued from straight-to-video ignominy on its release by the sharp turn of Janeane Garofalo. Playing the Frasier of Pets, she finds hersel...\n",
      "\n",
      "------------------------ Cleaned Review----------------------:\n",
      "liked think might ironing time reworking cyrano bergeracroxanne utterly undemanding formulaic romcom rescued straighttovideo ignominy release sharp turn janeane garofalo playing frasier pet find caught love trap insecurity lead pas best friend uma thurman caller come acourtinthis interesting film fascinating career ben chaplin average british actor gave hollywood treadmill shot film unremarkable anonymity studio production unsurprising basis although appeared substantial cameo later terence malick film uma thurman ditzy turn autopilot michael lehmann package together competently icky phone sex though\n",
      "================================================================================\n",
      "------------------Original Review-------------------:\n",
      "Tweaked a little bit, 'Nothing' could be a children's film. It's a very clever concept, touches upon some interesting metaphysical themes, and goes against pretty much every Hollywood convention you can think of...what goes against everything more than, literally, \"nothing\"? Nothing is the story of ...\n",
      "\n",
      "------------------------ Cleaned Review----------------------:\n",
      "tweaked little bit nothing could childrens film clever concept touch upon interesting metaphysical theme pretty much every hollywood convention think ofwhat everything literally nothing nothing story two friend wish world away everything wrong life thats left dont hate big empty white space hard focus story two actor majority film especially without cut anything going outside plot focus pretty much one subject thats prime vincenzo natali territory youve seen cube know already tends like type situation nothing movie apparently infinite space natali somehow manages make somewhat claustrophobic there literally nothing else nowhere else actor sell although tell guy friend anyway two actor cube return worth kazan entirely different character change throughout story theyre strongest actor world theyre least believablethe reason say could childrens film right tweak aside fbombs somewhat unnecessary bloody dream sequence whimsical often silly feel movie could much digested easily kid find odd choice writer decided add crass language small amount gore especially considering isnt much couldve gotten rating easily simply cut thing changed little dialogue little objectionable film enough keep parent wanting kid see say thats shame support censorship may thing preventing movie wider exposureat rate reasonably entertaining film albeit draggedout scene literally nothing focused entirely two character interaction absolutely nothing surprisingly good job independent film\n",
      "================================================================================\n",
      "------------------Original Review-------------------:\n",
      "I couldn't believe the comments made about the movie.<br /><br />As I read the awful opinions about the movie I actually wondered if you had actually viewed the same movie that I did.<br /><br />What I viewed was incredible! I think the actresses and director did a fantastic job in the movie.<br /><...\n",
      "\n",
      "------------------------ Cleaned Review----------------------:\n",
      "couldnt believe comment made movieas read awful opinion movie actually wondered actually viewed movie didwhat viewed incredible think actress director fantastic job moviei hadnt pleasure see either actress previously couldnt set back incredible job say believable movie ive seen long time dont see everyone problem deannas choice drug attempt suicide scene comment made sound like actress choice stupid choice dont understand movie written someone else directed someone else actress error fail see think real believable movie would see recommend opinion bad many close minded hope see actor soon think played great rolesbusy philipps highest paid actress someday hope laugh face everyone criticized girl\n",
      "================================================================================\n"
     ]
    }
   ],
   "source": [
    "# Take a small sample of your raw reviews\n",
    "sample_df = df_subset.sample(3, random_state=42)  # 3 random reviews\n",
    "#we are tring to see an example in real time \n",
    "for idx, row in sample_df.iterrows():\n",
    "    raw_text = row[\"txt\"]\n",
    "    cleaned_text = clean_review(raw_text)\n",
    "    \n",
    "    print(\"------------------Original Review-------------------:\")\n",
    "    print(raw_text[:300] + \"...\" if len(raw_text) > 300 else raw_text)  # show first 300 chars\n",
    "    print(\"\\n------------------------ Cleaned Review----------------------:\")\n",
    "    print(cleaned_text)\n",
    "    print(\"=\"*80)\n"
   ]
  },
  {
   "cell_type": "code",
   "execution_count": null,
   "id": "9c58086e-4e31-489e-810c-236b11079efb",
   "metadata": {},
   "outputs": [],
   "source": []
  }
 ],
 "metadata": {
  "kernelspec": {
   "display_name": ".venv",
   "language": "python",
   "name": "python3"
  },
  "language_info": {
   "codemirror_mode": {
    "name": "ipython",
    "version": 3
   },
   "file_extension": ".py",
   "mimetype": "text/x-python",
   "name": "python",
   "nbconvert_exporter": "python",
   "pygments_lexer": "ipython3",
   "version": "3.13.3"
  }
 },
 "nbformat": 4,
 "nbformat_minor": 5
}
