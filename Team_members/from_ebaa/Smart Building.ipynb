{
 "cells": [
  {
   "cell_type": "code",
   "execution_count": 1,
   "id": "ddccd14b-bc8c-427e-a9e1-4d97ec7a070f",
   "metadata": {},
   "outputs": [],
   "source": [
    "import numpy as np"
   ]
  },
  {
   "cell_type": "code",
   "execution_count": 8,
   "id": "6bd6e1b9-4249-4c81-bdb7-ccc39db9b3e3",
   "metadata": {},
   "outputs": [
    {
     "name": "stdout",
     "output_type": "stream",
     "text": [
      "Sample data (first 5 rows):\n",
      " [[0.00000000e+00 2.27450712e+01 6.16288127e+01 1.00528531e+03]\n",
      " [1.00000000e+00 2.17926035e+01 6.67347386e+01 1.00563790e+03]\n",
      " [2.00000000e+00 2.29715328e+01 5.68102156e+01 1.01017940e+03]\n",
      " [3.00000000e+00 2.42845448e+01 4.20316805e+01 1.01337306e+03]\n",
      " [4.00000000e+00 2.16487699e+01 5.89968795e+01 1.00375749e+03]]\n"
     ]
    }
   ],
   "source": [
    "# Data Generation\n",
    "np.random.seed(42)\n",
    "time_in_minutes = np.arange(0, 24 * 60)\n",
    "temperature = 22 + np.random.normal(0, 1.5, size=time_in_minutes.shape)\n",
    "humidity = 55 + np.random.normal(0, 10, size=time_in_minutes.shape)\n",
    "humidity = np.clip(humidity, 0, 100)\n",
    "pressure = 1012 + np.random.normal(0, 3, size=time_in_minutes.shape)\n",
    "sensor_data = np.column_stack((time_in_minutes, temperature, humidity, pressure))\n",
    "\n",
    "\n",
    "print(\"Sample data (first 5 rows):\\n\", sensor_data[:5])\n",
    "\n"
   ]
  },
  {
   "cell_type": "code",
   "execution_count": 9,
   "id": "fb9e4106-4d58-46d8-b415-881fbad61461",
   "metadata": {},
   "outputs": [
    {
     "name": "stdout",
     "output_type": "stream",
     "text": [
      "Temperature: Avg = 22.06, Min = 17.14, Max = 27.78, Std = 1.48\n",
      "Humidity:    Avg = 55.27, Min = 24.80, Max = 86.93, Std = 9.77\n",
      "Pressure:    Avg = 1011.89, Min = 1002.98, Max = 1023.78, Std = 3.08\n"
     ]
    }
   ],
   "source": [
    "#Statistics\n",
    "avg_temp = np.mean(temperature)\n",
    "min_temp = np.min(temperature)\n",
    "max_temp = np.max(temperature)\n",
    "std_temp = np.std(temperature)\n",
    "\n",
    "avg_humidity = np.mean(humidity)\n",
    "min_humidity = np.min(humidity)\n",
    "max_humidity = np.max(humidity)\n",
    "std_humidity = np.std(humidity)\n",
    "\n",
    "avg_pressure = np.mean(pressure)\n",
    "min_pressure = np.min(pressure)\n",
    "max_pressure = np.max(pressure)\n",
    "std_pressure = np.std(pressure)\n",
    "\n",
    "print(f\"Temperature: Avg = {avg_temp:.2f}, Min = {min_temp:.2f}, Max = {max_temp:.2f}, Std = {std_temp:.2f}\")\n",
    "print(f\"Humidity:    Avg = {avg_humidity:.2f}, Min = {min_humidity:.2f}, Max = {max_humidity:.2f}, Std = {std_humidity:.2f}\")\n",
    "print(f\"Pressure:    Avg = {avg_pressure:.2f}, Min = {min_pressure:.2f}, Max = {max_pressure:.2f}, Std = {std_pressure:.2f}\")\n"
   ]
  },
  {
   "cell_type": "code",
   "execution_count": 10,
   "id": "a758a962-e537-4551-820a-8958b23da90c",
   "metadata": {},
   "outputs": [
    {
     "name": "stdout",
     "output_type": "stream",
     "text": [
      "Hourly Average Temperature:\n",
      " [21.76801798 21.99447486 22.13787138 22.08522141 21.97280018 22.05649559\n",
      " 22.19270336 21.99189762 21.59898083 21.99874773 22.14703561 21.87394689\n",
      " 21.99035223 22.13255649 22.47256467 22.14220817 22.14433964 22.09980311\n",
      " 22.41754739 21.93390133 22.04927415 22.06195067 21.79311885 22.3785818 ]\n",
      "Hourly Average Humidity:\n",
      " [57.69977381 55.00100071 53.7400147  57.3080651  56.2335408  54.85853065\n",
      " 54.19651501 54.85200737 56.0027414  54.55652575 54.1566468  54.68346916\n",
      " 55.48323442 54.17266086 57.29077742 52.80865337 55.60522042 55.60899535\n",
      " 55.99786874 55.88059912 54.45618991 57.79781197 53.51920764 54.46443214]\n",
      "Hourly Average Pressure:\n",
      " [1012.0482827  1011.970714   1011.21972561 1012.24099963 1011.12138271\n",
      " 1012.31426335 1012.28217864 1012.34027712 1012.04352739 1012.12893804\n",
      " 1011.854483   1012.44200617 1011.87495132 1012.78019974 1011.22934488\n",
      " 1011.20064011 1011.66378213 1012.18013824 1011.76792849 1011.75179853\n",
      " 1012.32850614 1011.49985397 1011.67230703 1011.33182046]\n"
     ]
    }
   ],
   "source": [
    "#Hourly Averages\n",
    "temperature_hourly = temperature.reshape(24, 60)\n",
    "humidity_hourly = humidity.reshape(24, 60)\n",
    "pressure_hourly = pressure.reshape(24, 60)\n",
    "\n",
    "# Compute hourly averages\n",
    "avg_temp_hourly = np.mean(temperature_hourly, axis=1)\n",
    "avg_humidity_hourly = np.mean(humidity_hourly, axis=1)\n",
    "avg_pressure_hourly = np.mean(pressure_hourly, axis=1)\n",
    "\n",
    "print(\"Hourly Average Temperature:\\n\", avg_temp_hourly)\n",
    "print(\"Hourly Average Humidity:\\n\", avg_humidity_hourly)\n",
    "print(\"Hourly Average Pressure:\\n\", avg_pressure_hourly)\n"
   ]
  },
  {
   "cell_type": "code",
   "execution_count": 11,
   "id": "ddcf0f36-ce09-4a3e-8ed1-ae5d4752129f",
   "metadata": {},
   "outputs": [
    {
     "name": "stdout",
     "output_type": "stream",
     "text": [
      "Number of minutes temperature exceeded 25°C: 41\n",
      "Time (minute) when minimum temperature occurred: 262\n"
     ]
    }
   ],
   "source": [
    "#Anomaly Detection\n",
    "\n",
    "threshold_temp = 25\n",
    "high_temp_minutes = temperature > threshold_temp\n",
    "num_high_temp = np.sum(high_temp_minutes)\n",
    "\n",
    "min_temp_time = time_in_minutes[np.argmin(temperature)]\n",
    "\n",
    "print(f\"Number of minutes temperature exceeded {threshold_temp}°C:\", num_high_temp)\n",
    "print(\"Time (minute) when minimum temperature occurred:\", min_temp_time)\n",
    "\n"
   ]
  },
  {
   "cell_type": "code",
   "execution_count": 12,
   "id": "7c8e76de-b213-44a5-9ce4-c18eaf973616",
   "metadata": {},
   "outputs": [
    {
     "name": "stdout",
     "output_type": "stream",
     "text": [
      "Data saved to sensor_data.csv\n"
     ]
    }
   ],
   "source": [
    "\n",
    "# Save data to CSV\n",
    "np.savetxt(\"sensor_data.csv\", sensor_data, delimiter=\",\", \n",
    "           header=\"time_min,temperature,humidity,pressure\", comments='', fmt=\"%.2f\")\n",
    "print(\"Data saved to sensor_data.csv\")\n"
   ]
  },
  {
   "cell_type": "code",
   "execution_count": null,
   "id": "88c831b4-dabe-44b2-8b23-7e40deee1bc0",
   "metadata": {},
   "outputs": [],
   "source": []
  }
 ],
 "metadata": {
  "kernelspec": {
   "display_name": "Python [conda env:base] *",
   "language": "python",
   "name": "conda-base-py"
  },
  "language_info": {
   "codemirror_mode": {
    "name": "ipython",
    "version": 3
   },
   "file_extension": ".py",
   "mimetype": "text/x-python",
   "name": "python",
   "nbconvert_exporter": "python",
   "pygments_lexer": "ipython3",
   "version": "3.13.5"
  }
 },
 "nbformat": 4,
 "nbformat_minor": 5
}
