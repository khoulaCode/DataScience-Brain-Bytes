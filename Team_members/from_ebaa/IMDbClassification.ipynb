{
 "cells": [
  {
   "cell_type": "code",
   "execution_count": 1,
   "id": "7928d6d6-23e2-4a57-b172-3115b9b4f9be",
   "metadata": {},
   "outputs": [],
   "source": [
    "import pandas as pd"
   ]
  },
  {
   "cell_type": "code",
   "execution_count": 2,
   "id": "83df7d75-e685-4373-b51a-b46812f6e70e",
   "metadata": {},
   "outputs": [],
   "source": [
    "data_path = r\"C:\\Users\\bbuser\\Downloads\\imdb_movie_cleaned.csv\"\n",
    "\n",
    "df = pd.read_csv(data_path)"
   ]
  },
  {
   "cell_type": "code",
   "execution_count": 3,
   "id": "ef7924d1-ebff-4a33-9cf9-8273b7f0acb7",
   "metadata": {},
   "outputs": [
    {
     "data": {
      "text/html": [
       "<div>\n",
       "<style scoped>\n",
       "    .dataframe tbody tr th:only-of-type {\n",
       "        vertical-align: middle;\n",
       "    }\n",
       "\n",
       "    .dataframe tbody tr th {\n",
       "        vertical-align: top;\n",
       "    }\n",
       "\n",
       "    .dataframe thead th {\n",
       "        text-align: right;\n",
       "    }\n",
       "</style>\n",
       "<table border=\"1\" class=\"dataframe\">\n",
       "  <thead>\n",
       "    <tr style=\"text-align: right;\">\n",
       "      <th></th>\n",
       "      <th>id</th>\n",
       "      <th>rating</th>\n",
       "      <th>txt</th>\n",
       "      <th>label</th>\n",
       "      <th>cleaned_review</th>\n",
       "    </tr>\n",
       "  </thead>\n",
       "  <tbody>\n",
       "    <tr>\n",
       "      <th>0</th>\n",
       "      <td>4506</td>\n",
       "      <td>10</td>\n",
       "      <td>I want to add to the praise for the production...</td>\n",
       "      <td>1</td>\n",
       "      <td>want add praise production film especially lum...</td>\n",
       "    </tr>\n",
       "    <tr>\n",
       "      <th>1</th>\n",
       "      <td>537</td>\n",
       "      <td>10</td>\n",
       "      <td>To me A Matter of Life and Death is just that-...</td>\n",
       "      <td>1</td>\n",
       "      <td>matter life death simply best film ever madefr...</td>\n",
       "    </tr>\n",
       "    <tr>\n",
       "      <th>2</th>\n",
       "      <td>6577</td>\n",
       "      <td>8</td>\n",
       "      <td>With few exceptions, most of George Bernard Sh...</td>\n",
       "      <td>1</td>\n",
       "      <td>exception george bernard shaw play virtually d...</td>\n",
       "    </tr>\n",
       "    <tr>\n",
       "      <th>3</th>\n",
       "      <td>10992</td>\n",
       "      <td>10</td>\n",
       "      <td>Damn, I've seen this movie for at least 4 time...</td>\n",
       "      <td>1</td>\n",
       "      <td>damn ive seen movie least time still dont get ...</td>\n",
       "    </tr>\n",
       "    <tr>\n",
       "      <th>4</th>\n",
       "      <td>324</td>\n",
       "      <td>8</td>\n",
       "      <td>I didn't expect to like this film as much as I...</td>\n",
       "      <td>1</td>\n",
       "      <td>didnt expect like film much got simply saw lis...</td>\n",
       "    </tr>\n",
       "    <tr>\n",
       "      <th>...</th>\n",
       "      <td>...</td>\n",
       "      <td>...</td>\n",
       "      <td>...</td>\n",
       "      <td>...</td>\n",
       "      <td>...</td>\n",
       "    </tr>\n",
       "    <tr>\n",
       "      <th>9995</th>\n",
       "      <td>2214</td>\n",
       "      <td>4</td>\n",
       "      <td>this movie wasn't absolutely atrocious, but it...</td>\n",
       "      <td>0</td>\n",
       "      <td>movie wasnt absolutely atrocious pretty bad ac...</td>\n",
       "    </tr>\n",
       "    <tr>\n",
       "      <th>9996</th>\n",
       "      <td>7842</td>\n",
       "      <td>1</td>\n",
       "      <td>Caught this by accident on a t.v. showing - an...</td>\n",
       "      <td>0</td>\n",
       "      <td>caught accident showing could hardly believe u...</td>\n",
       "    </tr>\n",
       "    <tr>\n",
       "      <th>9997</th>\n",
       "      <td>890</td>\n",
       "      <td>2</td>\n",
       "      <td>I saw this regurgitated pile of vignettes toni...</td>\n",
       "      <td>0</td>\n",
       "      <td>saw regurgitated pile vignette tonight preview...</td>\n",
       "    </tr>\n",
       "    <tr>\n",
       "      <th>9998</th>\n",
       "      <td>516</td>\n",
       "      <td>2</td>\n",
       "      <td>Ever notice how in his later movies Burt Reyno...</td>\n",
       "      <td>0</td>\n",
       "      <td>ever notice later movie burt reynolds laugh so...</td>\n",
       "    </tr>\n",
       "    <tr>\n",
       "      <th>9999</th>\n",
       "      <td>5943</td>\n",
       "      <td>3</td>\n",
       "      <td>This film reminded me of The Sopranos, and not...</td>\n",
       "      <td>0</td>\n",
       "      <td>film reminded soprano good way david chase sem...</td>\n",
       "    </tr>\n",
       "  </tbody>\n",
       "</table>\n",
       "<p>10000 rows × 5 columns</p>\n",
       "</div>"
      ],
      "text/plain": [
       "         id  rating                                                txt  label  \\\n",
       "0      4506      10  I want to add to the praise for the production...      1   \n",
       "1       537      10  To me A Matter of Life and Death is just that-...      1   \n",
       "2      6577       8  With few exceptions, most of George Bernard Sh...      1   \n",
       "3     10992      10  Damn, I've seen this movie for at least 4 time...      1   \n",
       "4       324       8  I didn't expect to like this film as much as I...      1   \n",
       "...     ...     ...                                                ...    ...   \n",
       "9995   2214       4  this movie wasn't absolutely atrocious, but it...      0   \n",
       "9996   7842       1  Caught this by accident on a t.v. showing - an...      0   \n",
       "9997    890       2  I saw this regurgitated pile of vignettes toni...      0   \n",
       "9998    516       2  Ever notice how in his later movies Burt Reyno...      0   \n",
       "9999   5943       3  This film reminded me of The Sopranos, and not...      0   \n",
       "\n",
       "                                         cleaned_review  \n",
       "0     want add praise production film especially lum...  \n",
       "1     matter life death simply best film ever madefr...  \n",
       "2     exception george bernard shaw play virtually d...  \n",
       "3     damn ive seen movie least time still dont get ...  \n",
       "4     didnt expect like film much got simply saw lis...  \n",
       "...                                                 ...  \n",
       "9995  movie wasnt absolutely atrocious pretty bad ac...  \n",
       "9996  caught accident showing could hardly believe u...  \n",
       "9997  saw regurgitated pile vignette tonight preview...  \n",
       "9998  ever notice later movie burt reynolds laugh so...  \n",
       "9999  film reminded soprano good way david chase sem...  \n",
       "\n",
       "[10000 rows x 5 columns]"
      ]
     },
     "execution_count": 3,
     "metadata": {},
     "output_type": "execute_result"
    }
   ],
   "source": [
    "df"
   ]
  },
  {
   "cell_type": "code",
   "execution_count": 4,
   "id": "6e9dbb73-fcc7-48b1-8c81-51e35cfe61bf",
   "metadata": {},
   "outputs": [],
   "source": [
    "assert {'cleaned_review', 'label'}.issubset(df.columns), \\\n",
    "       \"The file must contain 'cleaned_review' and 'label' columns\""
   ]
  },
  {
   "cell_type": "code",
   "execution_count": 5,
   "id": "f87a4b9a-d2de-4ce8-a0e6-7986a3815640",
   "metadata": {},
   "outputs": [],
   "source": [
    "df = df[['cleaned_review', 'label']].dropna()\n",
    "df = df[df['cleaned_review'].str.len() > 3].reset_index(drop=True)"
   ]
  },
  {
   "cell_type": "code",
   "execution_count": 6,
   "id": "bcdfb8c5-3ac1-444b-8c70-39c27e4cc383",
   "metadata": {},
   "outputs": [
    {
     "name": "stdout",
     "output_type": "stream",
     "text": [
      "                                      cleaned_review  label\n",
      "0  want add praise production film especially lum...      1\n",
      "1  matter life death simply best film ever madefr...      1\n",
      "2  exception george bernard shaw play virtually d...      1\n",
      "3  damn ive seen movie least time still dont get ...      1\n",
      "4  didnt expect like film much got simply saw lis...      1 (10000, 2)\n"
     ]
    }
   ],
   "source": [
    "print(df.head(), df.shape)"
   ]
  },
  {
   "cell_type": "code",
   "execution_count": 7,
   "id": "b8bcc63a-4ac4-4cab-875f-09c37ae4632e",
   "metadata": {},
   "outputs": [],
   "source": [
    "#Feature Extraction\n",
    "from sklearn.model_selection import train_test_split\n",
    "from sklearn.feature_extraction.text import TfidfVectorizer"
   ]
  },
  {
   "cell_type": "code",
   "execution_count": 8,
   "id": "80ded033-9873-431a-be34-28f1d91551ff",
   "metadata": {},
   "outputs": [
    {
     "name": "stdout",
     "output_type": "stream",
     "text": [
      "Train shape: (8000, 50000)\n",
      "Test shape: (2000, 50000)\n"
     ]
    }
   ],
   "source": [
    "X = df['cleaned_review']\n",
    "y = df['label']\n",
    "\n",
    "\n",
    "X_train, X_test, y_train, y_test = train_test_split(\n",
    "    X, y, test_size=0.2, random_state=42, stratify=y\n",
    ")\n",
    "\n",
    "# \n",
    "tfidf = TfidfVectorizer(\n",
    "    lowercase=True,\n",
    "    stop_words='english',\n",
    "    ngram_range=(1, 2),\n",
    "    max_features=50000\n",
    ")\n",
    "\n",
    "X_train_tfidf = tfidf.fit_transform(X_train)\n",
    "X_test_tfidf = tfidf.transform(X_test)\n",
    "\n",
    "print(\"Train shape:\", X_train_tfidf.shape)\n",
    "print(\"Test shape:\", X_test_tfidf.shape)\n"
   ]
  },
  {
   "cell_type": "code",
   "execution_count": 9,
   "id": "00856acd-0acb-41e1-b7a3-755ca9874b04",
   "metadata": {},
   "outputs": [],
   "source": [
    "#Models\n",
    "from sklearn.linear_model import LogisticRegression\n",
    "from sklearn.tree import DecisionTreeClassifier\n",
    "from sklearn.ensemble import RandomForestClassifier"
   ]
  },
  {
   "cell_type": "code",
   "execution_count": 10,
   "id": "aa0a9c0b-5291-4e66-bc77-a01cc35b039b",
   "metadata": {},
   "outputs": [],
   "source": [
    "models = {\n",
    "    \"LogisticRegression\": LogisticRegression(\n",
    "        max_iter=1000,\n",
    "        class_weight=\"balanced\",\n",
    "        random_state=42\n",
    "    ),\n",
    "    \"DecisionTree\": DecisionTreeClassifier(\n",
    "        random_state=42  # keep defaults as baseline\n",
    "    ),\n",
    "    \"RandomForest\": RandomForestClassifier(\n",
    "        n_estimators=200,\n",
    "        n_jobs=-1,\n",
    "        random_state=42\n",
    "    )\n",
    "}\n",
    "\n",
    "\n",
    "for name, clf in models.items():\n",
    "    clf.fit(X_train_tfidf, y_train)\n"
   ]
  },
  {
   "cell_type": "code",
   "execution_count": 11,
   "id": "16cb85c8-ebde-401e-be56-435921d8a011",
   "metadata": {},
   "outputs": [],
   "source": [
    "# Evaluation\n",
    "import pandas as pd\n",
    "from sklearn.metrics import accuracy_score, precision_recall_fscore_support, classification_report"
   ]
  },
  {
   "cell_type": "code",
   "execution_count": 12,
   "id": "b77ebd91-10ba-4c0b-9a3d-98036318359c",
   "metadata": {},
   "outputs": [
    {
     "data": {
      "text/html": [
       "<div>\n",
       "<style scoped>\n",
       "    .dataframe tbody tr th:only-of-type {\n",
       "        vertical-align: middle;\n",
       "    }\n",
       "\n",
       "    .dataframe tbody tr th {\n",
       "        vertical-align: top;\n",
       "    }\n",
       "\n",
       "    .dataframe thead th {\n",
       "        text-align: right;\n",
       "    }\n",
       "</style>\n",
       "<table border=\"1\" class=\"dataframe\">\n",
       "  <thead>\n",
       "    <tr style=\"text-align: right;\">\n",
       "      <th></th>\n",
       "      <th>Model</th>\n",
       "      <th>Accuracy</th>\n",
       "      <th>Precision_w</th>\n",
       "      <th>Recall_w</th>\n",
       "      <th>F1_w</th>\n",
       "    </tr>\n",
       "  </thead>\n",
       "  <tbody>\n",
       "    <tr>\n",
       "      <th>0</th>\n",
       "      <td>LogisticRegression</td>\n",
       "      <td>0.852</td>\n",
       "      <td>0.854</td>\n",
       "      <td>0.852</td>\n",
       "      <td>0.851</td>\n",
       "    </tr>\n",
       "    <tr>\n",
       "      <th>1</th>\n",
       "      <td>RandomForest</td>\n",
       "      <td>0.841</td>\n",
       "      <td>0.841</td>\n",
       "      <td>0.841</td>\n",
       "      <td>0.841</td>\n",
       "    </tr>\n",
       "    <tr>\n",
       "      <th>2</th>\n",
       "      <td>DecisionTree</td>\n",
       "      <td>0.687</td>\n",
       "      <td>0.687</td>\n",
       "      <td>0.687</td>\n",
       "      <td>0.687</td>\n",
       "    </tr>\n",
       "  </tbody>\n",
       "</table>\n",
       "</div>"
      ],
      "text/plain": [
       "                Model Accuracy Precision_w Recall_w   F1_w\n",
       "0  LogisticRegression    0.852       0.854    0.852  0.851\n",
       "1        RandomForest    0.841       0.841    0.841  0.841\n",
       "2        DecisionTree    0.687       0.687    0.687  0.687"
      ]
     },
     "execution_count": 12,
     "metadata": {},
     "output_type": "execute_result"
    }
   ],
   "source": [
    "rows = []\n",
    "reports = {}\n",
    "\n",
    "for name, clf in models.items():\n",
    "    y_pred = clf.predict(X_test_tfidf)\n",
    "\n",
    "    acc = accuracy_score(y_test, y_pred)\n",
    "    prec, rec, f1, _ = precision_recall_fscore_support(\n",
    "        y_test, y_pred, average=\"weighted\", zero_division=0\n",
    "    )\n",
    "\n",
    "    rows.append({\n",
    "        \"Model\": name,\n",
    "        \"Accuracy\": acc,\n",
    "        \"Precision_w\": prec,\n",
    "        \"Recall_w\": rec,\n",
    "        \"F1_w\": f1\n",
    "    })\n",
    "    reports[name] = classification_report(y_test, y_pred, zero_division=0)\n",
    "\n",
    "metrics_df = pd.DataFrame(rows).sort_values(\"F1_w\", ascending=False).reset_index(drop=True)\n",
    "\n",
    "\n",
    "metrics_show = metrics_df.copy()\n",
    "for c in [\"Accuracy\", \"Precision_w\", \"Recall_w\", \"F1_w\"]:\n",
    "    metrics_show[c] = metrics_show[c].map(lambda x: f\"{x:.3f}\")\n",
    "\n",
    "metrics_show\n"
   ]
  },
  {
   "cell_type": "code",
   "execution_count": 13,
   "id": "47fae8d4-d0cd-42d0-b518-77446c90dabe",
   "metadata": {},
   "outputs": [
    {
     "name": "stdout",
     "output_type": "stream",
     "text": [
      "\n",
      "=== LogisticRegression ===\n",
      "              precision    recall  f1-score   support\n",
      "\n",
      "           0       0.88      0.81      0.85      1000\n",
      "           1       0.83      0.89      0.86      1000\n",
      "\n",
      "    accuracy                           0.85      2000\n",
      "   macro avg       0.85      0.85      0.85      2000\n",
      "weighted avg       0.85      0.85      0.85      2000\n",
      "\n",
      "\n",
      "=== DecisionTree ===\n",
      "              precision    recall  f1-score   support\n",
      "\n",
      "           0       0.69      0.68      0.68      1000\n",
      "           1       0.68      0.70      0.69      1000\n",
      "\n",
      "    accuracy                           0.69      2000\n",
      "   macro avg       0.69      0.69      0.69      2000\n",
      "weighted avg       0.69      0.69      0.69      2000\n",
      "\n",
      "\n",
      "=== RandomForest ===\n",
      "              precision    recall  f1-score   support\n",
      "\n",
      "           0       0.85      0.83      0.84      1000\n",
      "           1       0.84      0.85      0.84      1000\n",
      "\n",
      "    accuracy                           0.84      2000\n",
      "   macro avg       0.84      0.84      0.84      2000\n",
      "weighted avg       0.84      0.84      0.84      2000\n",
      "\n"
     ]
    }
   ],
   "source": [
    "for name, rep in reports.items():\n",
    "    print(f\"\\n=== {name} ===\")\n",
    "    print(rep)"
   ]
  },
  {
   "cell_type": "code",
   "execution_count": null,
   "id": "fb3593ed-16b1-4ea9-8724-6646a7d04954",
   "metadata": {},
   "outputs": [],
   "source": []
  }
 ],
 "metadata": {
  "kernelspec": {
   "display_name": "Python [conda env:base] *",
   "language": "python",
   "name": "conda-base-py"
  },
  "language_info": {
   "codemirror_mode": {
    "name": "ipython",
    "version": 3
   },
   "file_extension": ".py",
   "mimetype": "text/x-python",
   "name": "python",
   "nbconvert_exporter": "python",
   "pygments_lexer": "ipython3",
   "version": "3.13.5"
  }
 },
 "nbformat": 4,
 "nbformat_minor": 5
}
