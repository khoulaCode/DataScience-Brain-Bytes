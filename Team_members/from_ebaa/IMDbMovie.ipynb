{
 "cells": [
  {
   "cell_type": "code",
   "execution_count": 1,
   "id": "3af97b9a-00cb-4c31-b0ff-7b13bbb25436",
   "metadata": {},
   "outputs": [],
   "source": [
    "import os\n",
    "import pandas as pd\n",
    "import random"
   ]
  },
  {
   "cell_type": "code",
   "execution_count": 4,
   "id": "89e88e2f-8888-420d-86ad-a797b6108853",
   "metadata": {},
   "outputs": [],
   "source": [
    "data_dir = r\"C:\\Users\\bbuser\\Downloads\\aclImdb_v1\\aclImdb\""
   ]
  },
  {
   "cell_type": "code",
   "execution_count": 5,
   "id": "a0f157a0-d06d-402e-b354-3e60fbf606a3",
   "metadata": {},
   "outputs": [],
   "source": [
    "def load_imdb_with_rating(base_dir, subset=\"train\", sample_size=5000):\n",
    "    rows = []\n",
    "    \n",
    "    for label_type in [\"pos\", \"neg\"]:\n",
    "        folder = os.path.join(base_dir, subset, label_type)\n",
    "        files = os.listdir(folder)\n",
    "        \n",
    "       \n",
    "        \n",
    "        sample_files = random.sample(files, sample_size)\n",
    "        \n",
    "        for fname in sample_files:\n",
    "            \n",
    "            file_id, rating_str = fname.split(\"_\")\n",
    "            rating = int(rating_str.split(\".\")[0]) \n",
    "            \n",
    "            with open(os.path.join(folder, fname), \"r\", encoding=\"utf-8\") as f:\n",
    "                text = f.read()\n",
    "            \n",
    "           \n",
    "            rows.append({\n",
    "                \"id\": int(file_id),\n",
    "                \"rating\": rating,\n",
    "                \"txt\": text,\n",
    "                \"label\": 1 if label_type == \"pos\" else 0\n",
    "            })\n",
    "    \n",
    "    return pd.DataFrame(rows)"
   ]
  },
  {
   "cell_type": "code",
   "execution_count": 6,
   "id": "39080e03-0af6-433b-bb0d-1ad00f2aecd3",
   "metadata": {},
   "outputs": [
    {
     "name": "stdout",
     "output_type": "stream",
     "text": [
      "Shape: (10000, 4)\n"
     ]
    },
    {
     "data": {
      "text/html": [
       "<div>\n",
       "<style scoped>\n",
       "    .dataframe tbody tr th:only-of-type {\n",
       "        vertical-align: middle;\n",
       "    }\n",
       "\n",
       "    .dataframe tbody tr th {\n",
       "        vertical-align: top;\n",
       "    }\n",
       "\n",
       "    .dataframe thead th {\n",
       "        text-align: right;\n",
       "    }\n",
       "</style>\n",
       "<table border=\"1\" class=\"dataframe\">\n",
       "  <thead>\n",
       "    <tr style=\"text-align: right;\">\n",
       "      <th></th>\n",
       "      <th>id</th>\n",
       "      <th>rating</th>\n",
       "      <th>txt</th>\n",
       "      <th>label</th>\n",
       "    </tr>\n",
       "  </thead>\n",
       "  <tbody>\n",
       "    <tr>\n",
       "      <th>0</th>\n",
       "      <td>4506</td>\n",
       "      <td>10</td>\n",
       "      <td>I want to add to the praise for the production...</td>\n",
       "      <td>1</td>\n",
       "    </tr>\n",
       "    <tr>\n",
       "      <th>1</th>\n",
       "      <td>537</td>\n",
       "      <td>10</td>\n",
       "      <td>To me A Matter of Life and Death is just that-...</td>\n",
       "      <td>1</td>\n",
       "    </tr>\n",
       "    <tr>\n",
       "      <th>2</th>\n",
       "      <td>6577</td>\n",
       "      <td>8</td>\n",
       "      <td>With few exceptions, most of George Bernard Sh...</td>\n",
       "      <td>1</td>\n",
       "    </tr>\n",
       "    <tr>\n",
       "      <th>3</th>\n",
       "      <td>10992</td>\n",
       "      <td>10</td>\n",
       "      <td>Damn, I've seen this movie for at least 4 time...</td>\n",
       "      <td>1</td>\n",
       "    </tr>\n",
       "    <tr>\n",
       "      <th>4</th>\n",
       "      <td>324</td>\n",
       "      <td>8</td>\n",
       "      <td>I didn't expect to like this film as much as I...</td>\n",
       "      <td>1</td>\n",
       "    </tr>\n",
       "  </tbody>\n",
       "</table>\n",
       "</div>"
      ],
      "text/plain": [
       "      id  rating                                                txt  label\n",
       "0   4506      10  I want to add to the praise for the production...      1\n",
       "1    537      10  To me A Matter of Life and Death is just that-...      1\n",
       "2   6577       8  With few exceptions, most of George Bernard Sh...      1\n",
       "3  10992      10  Damn, I've seen this movie for at least 4 time...      1\n",
       "4    324       8  I didn't expect to like this film as much as I...      1"
      ]
     },
     "execution_count": 6,
     "metadata": {},
     "output_type": "execute_result"
    }
   ],
   "source": [
    "df_sample = load_imdb_with_rating(data_dir, subset=\"train\", sample_size=5000)\n",
    "\n",
    "print(\"Shape:\", df_sample.shape)\n",
    "df_sample.head()\n"
   ]
  },
  {
   "cell_type": "code",
   "execution_count": 7,
   "id": "23621344-4ab3-4a92-8e8e-e11fbc363b40",
   "metadata": {},
   "outputs": [
    {
     "name": "stdout",
     "output_type": "stream",
     "text": [
      "Requirement already satisfied: nltk in c:\\users\\bbuser\\anaconda3\\lib\\site-packages (3.9.1)\n",
      "Requirement already satisfied: click in c:\\users\\bbuser\\anaconda3\\lib\\site-packages (from nltk) (8.1.8)\n",
      "Requirement already satisfied: joblib in c:\\users\\bbuser\\anaconda3\\lib\\site-packages (from nltk) (1.4.2)\n",
      "Requirement already satisfied: regex>=2021.8.3 in c:\\users\\bbuser\\anaconda3\\lib\\site-packages (from nltk) (2024.11.6)\n",
      "Requirement already satisfied: tqdm in c:\\users\\bbuser\\anaconda3\\lib\\site-packages (from nltk) (4.67.1)\n",
      "Requirement already satisfied: colorama in c:\\users\\bbuser\\anaconda3\\lib\\site-packages (from click->nltk) (0.4.6)\n"
     ]
    }
   ],
   "source": [
    "!pip install nltk"
   ]
  },
  {
   "cell_type": "code",
   "execution_count": 8,
   "id": "2d38188e-2693-46c8-adbb-e602efe7b154",
   "metadata": {},
   "outputs": [
    {
     "name": "stdout",
     "output_type": "stream",
     "text": [
      "Requirement already satisfied: nltk in c:\\users\\bbuser\\anaconda3\\lib\\site-packages (3.9.1)\n",
      "Requirement already satisfied: click in c:\\users\\bbuser\\anaconda3\\lib\\site-packages (from nltk) (8.1.8)\n",
      "Requirement already satisfied: joblib in c:\\users\\bbuser\\anaconda3\\lib\\site-packages (from nltk) (1.4.2)\n",
      "Requirement already satisfied: regex>=2021.8.3 in c:\\users\\bbuser\\anaconda3\\lib\\site-packages (from nltk) (2024.11.6)\n",
      "Requirement already satisfied: tqdm in c:\\users\\bbuser\\anaconda3\\lib\\site-packages (from nltk) (4.67.1)\n",
      "Requirement already satisfied: colorama in c:\\users\\bbuser\\anaconda3\\lib\\site-packages (from click->nltk) (0.4.6)\n"
     ]
    }
   ],
   "source": [
    "import sys\n",
    "!{sys.executable} -m pip install nltk"
   ]
  },
  {
   "cell_type": "code",
   "execution_count": 9,
   "id": "b9cdeea9-93d0-40ce-88d6-a1856ebd9062",
   "metadata": {},
   "outputs": [
    {
     "name": "stderr",
     "output_type": "stream",
     "text": [
      "[nltk_data] Downloading package stopwords to\n",
      "[nltk_data]     C:\\Users\\bbuser\\AppData\\Roaming\\nltk_data...\n",
      "[nltk_data]   Unzipping corpora\\stopwords.zip.\n",
      "[nltk_data] Downloading package wordnet to\n",
      "[nltk_data]     C:\\Users\\bbuser\\AppData\\Roaming\\nltk_data...\n",
      "[nltk_data] Downloading package omw-1.4 to\n",
      "[nltk_data]     C:\\Users\\bbuser\\AppData\\Roaming\\nltk_data...\n"
     ]
    },
    {
     "data": {
      "text/plain": [
       "True"
      ]
     },
     "execution_count": 9,
     "metadata": {},
     "output_type": "execute_result"
    }
   ],
   "source": [
    "from bs4 import BeautifulSoup\n",
    "import re\n",
    "import nltk\n",
    "from nltk.corpus import stopwords\n",
    "from nltk.stem import WordNetLemmatizer\n",
    "\n",
    "\n",
    "nltk.download('stopwords')\n",
    "nltk.download('wordnet')\n",
    "nltk.download('omw-1.4')"
   ]
  },
  {
   "cell_type": "code",
   "execution_count": 10,
   "id": "bee3aa88-e202-4c16-9f6a-c952a3035f9e",
   "metadata": {},
   "outputs": [],
   "source": [
    "stop_words = set(stopwords.words(\"english\"))\n",
    "lemmatizer = WordNetLemmatizer()"
   ]
  },
  {
   "cell_type": "code",
   "execution_count": 11,
   "id": "9866a776-5ea5-4f11-a2bf-d6024ae0d4ab",
   "metadata": {},
   "outputs": [],
   "source": [
    "def clean_review(text):\n",
    "     \n",
    "    text = text.lower()\n",
    "    \n",
    "    text = BeautifulSoup(text, \"html.parser\").get_text()\n",
    "    \n",
    "    text = re.sub(r'http\\S+|www\\S+|https\\S+|[\\w\\.-]+@[\\w\\.-]+', '', text)\n",
    "    \n",
    "    text = re.sub(r'[^a-z\\s]', '', text)\n",
    "    \n",
    "    tokens = text.split()\n",
    "    \n",
    "    tokens = [w for w in tokens if w not in stop_words]\n",
    "    \n",
    "    tokens = [lemmatizer.lemmatize(w) for w in tokens]\n",
    "    \n",
    "    tokens = [w for w in tokens if len(w) > 2]\n",
    "    \n",
    "    return \" \".join(tokens)"
   ]
  },
  {
   "cell_type": "code",
   "execution_count": 12,
   "id": "f19a2f7b-1533-45ba-bda9-d50b62652205",
   "metadata": {},
   "outputs": [
    {
     "name": "stderr",
     "output_type": "stream",
     "text": [
      "C:\\Users\\bbuser\\AppData\\Local\\Temp\\ipykernel_20084\\1664226654.py:5: MarkupResemblesLocatorWarning: The input looks more like a filename than markup. You may want to open this file and pass the filehandle into Beautiful Soup.\n",
      "  text = BeautifulSoup(text, \"html.parser\").get_text()\n"
     ]
    }
   ],
   "source": [
    "df_sample[\"cleaned_review\"] = df_sample[\"txt\"].apply(clean_review)"
   ]
  },
  {
   "cell_type": "code",
   "execution_count": 13,
   "id": "3b164c06-3d6c-49db-aea2-3d659536997b",
   "metadata": {},
   "outputs": [
    {
     "data": {
      "text/html": [
       "<div>\n",
       "<style scoped>\n",
       "    .dataframe tbody tr th:only-of-type {\n",
       "        vertical-align: middle;\n",
       "    }\n",
       "\n",
       "    .dataframe tbody tr th {\n",
       "        vertical-align: top;\n",
       "    }\n",
       "\n",
       "    .dataframe thead th {\n",
       "        text-align: right;\n",
       "    }\n",
       "</style>\n",
       "<table border=\"1\" class=\"dataframe\">\n",
       "  <thead>\n",
       "    <tr style=\"text-align: right;\">\n",
       "      <th></th>\n",
       "      <th>txt</th>\n",
       "      <th>cleaned_review</th>\n",
       "    </tr>\n",
       "  </thead>\n",
       "  <tbody>\n",
       "    <tr>\n",
       "      <th>0</th>\n",
       "      <td>I want to add to the praise for the production...</td>\n",
       "      <td>want add praise production film especially lum...</td>\n",
       "    </tr>\n",
       "    <tr>\n",
       "      <th>1</th>\n",
       "      <td>To me A Matter of Life and Death is just that-...</td>\n",
       "      <td>matter life death simply best film ever madefr...</td>\n",
       "    </tr>\n",
       "    <tr>\n",
       "      <th>2</th>\n",
       "      <td>With few exceptions, most of George Bernard Sh...</td>\n",
       "      <td>exception george bernard shaw play virtually d...</td>\n",
       "    </tr>\n",
       "    <tr>\n",
       "      <th>3</th>\n",
       "      <td>Damn, I've seen this movie for at least 4 time...</td>\n",
       "      <td>damn ive seen movie least time still dont get ...</td>\n",
       "    </tr>\n",
       "    <tr>\n",
       "      <th>4</th>\n",
       "      <td>I didn't expect to like this film as much as I...</td>\n",
       "      <td>didnt expect like film much got simply saw lis...</td>\n",
       "    </tr>\n",
       "    <tr>\n",
       "      <th>5</th>\n",
       "      <td>Although it's not as creepy as it's cult class...</td>\n",
       "      <td>although creepy cult classic predecessor zombi...</td>\n",
       "    </tr>\n",
       "    <tr>\n",
       "      <th>6</th>\n",
       "      <td>first, someone mentioned here that because thi...</td>\n",
       "      <td>first someone mentioned released limited quant...</td>\n",
       "    </tr>\n",
       "    <tr>\n",
       "      <th>7</th>\n",
       "      <td>As a kid, I loved this game. I played it a zil...</td>\n",
       "      <td>kid loved game played zillion time spring frie...</td>\n",
       "    </tr>\n",
       "    <tr>\n",
       "      <th>8</th>\n",
       "      <td>******* SPOILER! ********&lt;br /&gt;&lt;br /&gt;i saw thi...</td>\n",
       "      <td>spoiler saw film year back lovely story young ...</td>\n",
       "    </tr>\n",
       "    <tr>\n",
       "      <th>9</th>\n",
       "      <td>\"Moonstruck\" is one of the best films ever. I ...</td>\n",
       "      <td>moonstruck one best film ever film dvd movie d...</td>\n",
       "    </tr>\n",
       "  </tbody>\n",
       "</table>\n",
       "</div>"
      ],
      "text/plain": [
       "                                                 txt  \\\n",
       "0  I want to add to the praise for the production...   \n",
       "1  To me A Matter of Life and Death is just that-...   \n",
       "2  With few exceptions, most of George Bernard Sh...   \n",
       "3  Damn, I've seen this movie for at least 4 time...   \n",
       "4  I didn't expect to like this film as much as I...   \n",
       "5  Although it's not as creepy as it's cult class...   \n",
       "6  first, someone mentioned here that because thi...   \n",
       "7  As a kid, I loved this game. I played it a zil...   \n",
       "8  ******* SPOILER! ********<br /><br />i saw thi...   \n",
       "9  \"Moonstruck\" is one of the best films ever. I ...   \n",
       "\n",
       "                                      cleaned_review  \n",
       "0  want add praise production film especially lum...  \n",
       "1  matter life death simply best film ever madefr...  \n",
       "2  exception george bernard shaw play virtually d...  \n",
       "3  damn ive seen movie least time still dont get ...  \n",
       "4  didnt expect like film much got simply saw lis...  \n",
       "5  although creepy cult classic predecessor zombi...  \n",
       "6  first someone mentioned released limited quant...  \n",
       "7  kid loved game played zillion time spring frie...  \n",
       "8  spoiler saw film year back lovely story young ...  \n",
       "9  moonstruck one best film ever film dvd movie d...  "
      ]
     },
     "execution_count": 13,
     "metadata": {},
     "output_type": "execute_result"
    }
   ],
   "source": [
    "df_sample[[\"txt\", \"cleaned_review\"]].head(10)"
   ]
  },
  {
   "cell_type": "code",
   "execution_count": 14,
   "id": "5e385136-811d-4bfc-bc1a-6112c5290b74",
   "metadata": {},
   "outputs": [
    {
     "data": {
      "text/html": [
       "<div>\n",
       "<style scoped>\n",
       "    .dataframe tbody tr th:only-of-type {\n",
       "        vertical-align: middle;\n",
       "    }\n",
       "\n",
       "    .dataframe tbody tr th {\n",
       "        vertical-align: top;\n",
       "    }\n",
       "\n",
       "    .dataframe thead th {\n",
       "        text-align: right;\n",
       "    }\n",
       "</style>\n",
       "<table border=\"1\" class=\"dataframe\">\n",
       "  <thead>\n",
       "    <tr style=\"text-align: right;\">\n",
       "      <th></th>\n",
       "      <th>id</th>\n",
       "      <th>rating</th>\n",
       "      <th>txt</th>\n",
       "      <th>label</th>\n",
       "      <th>cleaned_review</th>\n",
       "    </tr>\n",
       "  </thead>\n",
       "  <tbody>\n",
       "    <tr>\n",
       "      <th>0</th>\n",
       "      <td>4506</td>\n",
       "      <td>10</td>\n",
       "      <td>I want to add to the praise for the production...</td>\n",
       "      <td>1</td>\n",
       "      <td>want add praise production film especially lum...</td>\n",
       "    </tr>\n",
       "    <tr>\n",
       "      <th>1</th>\n",
       "      <td>537</td>\n",
       "      <td>10</td>\n",
       "      <td>To me A Matter of Life and Death is just that-...</td>\n",
       "      <td>1</td>\n",
       "      <td>matter life death simply best film ever madefr...</td>\n",
       "    </tr>\n",
       "    <tr>\n",
       "      <th>2</th>\n",
       "      <td>6577</td>\n",
       "      <td>8</td>\n",
       "      <td>With few exceptions, most of George Bernard Sh...</td>\n",
       "      <td>1</td>\n",
       "      <td>exception george bernard shaw play virtually d...</td>\n",
       "    </tr>\n",
       "    <tr>\n",
       "      <th>3</th>\n",
       "      <td>10992</td>\n",
       "      <td>10</td>\n",
       "      <td>Damn, I've seen this movie for at least 4 time...</td>\n",
       "      <td>1</td>\n",
       "      <td>damn ive seen movie least time still dont get ...</td>\n",
       "    </tr>\n",
       "    <tr>\n",
       "      <th>4</th>\n",
       "      <td>324</td>\n",
       "      <td>8</td>\n",
       "      <td>I didn't expect to like this film as much as I...</td>\n",
       "      <td>1</td>\n",
       "      <td>didnt expect like film much got simply saw lis...</td>\n",
       "    </tr>\n",
       "    <tr>\n",
       "      <th>...</th>\n",
       "      <td>...</td>\n",
       "      <td>...</td>\n",
       "      <td>...</td>\n",
       "      <td>...</td>\n",
       "      <td>...</td>\n",
       "    </tr>\n",
       "    <tr>\n",
       "      <th>9995</th>\n",
       "      <td>2214</td>\n",
       "      <td>4</td>\n",
       "      <td>this movie wasn't absolutely atrocious, but it...</td>\n",
       "      <td>0</td>\n",
       "      <td>movie wasnt absolutely atrocious pretty bad ac...</td>\n",
       "    </tr>\n",
       "    <tr>\n",
       "      <th>9996</th>\n",
       "      <td>7842</td>\n",
       "      <td>1</td>\n",
       "      <td>Caught this by accident on a t.v. showing - an...</td>\n",
       "      <td>0</td>\n",
       "      <td>caught accident showing could hardly believe u...</td>\n",
       "    </tr>\n",
       "    <tr>\n",
       "      <th>9997</th>\n",
       "      <td>890</td>\n",
       "      <td>2</td>\n",
       "      <td>I saw this regurgitated pile of vignettes toni...</td>\n",
       "      <td>0</td>\n",
       "      <td>saw regurgitated pile vignette tonight preview...</td>\n",
       "    </tr>\n",
       "    <tr>\n",
       "      <th>9998</th>\n",
       "      <td>516</td>\n",
       "      <td>2</td>\n",
       "      <td>Ever notice how in his later movies Burt Reyno...</td>\n",
       "      <td>0</td>\n",
       "      <td>ever notice later movie burt reynolds laugh so...</td>\n",
       "    </tr>\n",
       "    <tr>\n",
       "      <th>9999</th>\n",
       "      <td>5943</td>\n",
       "      <td>3</td>\n",
       "      <td>This film reminded me of The Sopranos, and not...</td>\n",
       "      <td>0</td>\n",
       "      <td>film reminded soprano good way david chase sem...</td>\n",
       "    </tr>\n",
       "  </tbody>\n",
       "</table>\n",
       "<p>10000 rows × 5 columns</p>\n",
       "</div>"
      ],
      "text/plain": [
       "         id  rating                                                txt  label  \\\n",
       "0      4506      10  I want to add to the praise for the production...      1   \n",
       "1       537      10  To me A Matter of Life and Death is just that-...      1   \n",
       "2      6577       8  With few exceptions, most of George Bernard Sh...      1   \n",
       "3     10992      10  Damn, I've seen this movie for at least 4 time...      1   \n",
       "4       324       8  I didn't expect to like this film as much as I...      1   \n",
       "...     ...     ...                                                ...    ...   \n",
       "9995   2214       4  this movie wasn't absolutely atrocious, but it...      0   \n",
       "9996   7842       1  Caught this by accident on a t.v. showing - an...      0   \n",
       "9997    890       2  I saw this regurgitated pile of vignettes toni...      0   \n",
       "9998    516       2  Ever notice how in his later movies Burt Reyno...      0   \n",
       "9999   5943       3  This film reminded me of The Sopranos, and not...      0   \n",
       "\n",
       "                                         cleaned_review  \n",
       "0     want add praise production film especially lum...  \n",
       "1     matter life death simply best film ever madefr...  \n",
       "2     exception george bernard shaw play virtually d...  \n",
       "3     damn ive seen movie least time still dont get ...  \n",
       "4     didnt expect like film much got simply saw lis...  \n",
       "...                                                 ...  \n",
       "9995  movie wasnt absolutely atrocious pretty bad ac...  \n",
       "9996  caught accident showing could hardly believe u...  \n",
       "9997  saw regurgitated pile vignette tonight preview...  \n",
       "9998  ever notice later movie burt reynolds laugh so...  \n",
       "9999  film reminded soprano good way david chase sem...  \n",
       "\n",
       "[10000 rows x 5 columns]"
      ]
     },
     "execution_count": 14,
     "metadata": {},
     "output_type": "execute_result"
    }
   ],
   "source": [
    "df_sample"
   ]
  },
  {
   "cell_type": "code",
   "execution_count": 15,
   "id": "b27e12dd-ebde-4c9c-83fb-8b2de471d461",
   "metadata": {},
   "outputs": [],
   "source": [
    "df_sample.to_csv(\"imdb_movie_cleaned.csv\", index=False)"
   ]
  },
  {
   "cell_type": "code",
   "execution_count": null,
   "id": "6d2be6d8-8fd5-499c-8007-5027edcc34c9",
   "metadata": {},
   "outputs": [],
   "source": []
  }
 ],
 "metadata": {
  "kernelspec": {
   "display_name": "Python [conda env:base] *",
   "language": "python",
   "name": "conda-base-py"
  },
  "language_info": {
   "codemirror_mode": {
    "name": "ipython",
    "version": 3
   },
   "file_extension": ".py",
   "mimetype": "text/x-python",
   "name": "python",
   "nbconvert_exporter": "python",
   "pygments_lexer": "ipython3",
   "version": "3.13.5"
  }
 },
 "nbformat": 4,
 "nbformat_minor": 5
}
