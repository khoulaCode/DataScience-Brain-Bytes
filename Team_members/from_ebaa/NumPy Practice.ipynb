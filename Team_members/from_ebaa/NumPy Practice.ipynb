{
 "cells": [
  {
   "cell_type": "code",
   "execution_count": 1,
   "id": "6bf04ef1-cf94-4dbb-b513-68ff9af652e1",
   "metadata": {},
   "outputs": [],
   "source": [
    "import numpy as np"
   ]
  },
  {
   "cell_type": "code",
   "execution_count": 2,
   "id": "1bed5f0e-3b50-49c0-b648-dc33f0878352",
   "metadata": {},
   "outputs": [
    {
     "name": "stdout",
     "output_type": "stream",
     "text": [
      "arr1d: [0 1 2 3 4 5 6 7 8 9]\n"
     ]
    }
   ],
   "source": [
    "arr1d = np.arange(10)\n",
    "print(\"arr1d:\", arr1d)"
   ]
  },
  {
   "cell_type": "code",
   "execution_count": 3,
   "id": "ef1efaed-4cf4-46e4-8835-9fda3912156e",
   "metadata": {},
   "outputs": [
    {
     "name": "stdout",
     "output_type": "stream",
     "text": [
      "arr2d:\n",
      " [[1. 1. 1.]\n",
      " [1. 1. 1.]\n",
      " [1. 1. 1.]]\n"
     ]
    }
   ],
   "source": [
    "arr2d = np.ones((3, 3))\n",
    "print(\"arr2d:\\n\", arr2d)\n"
   ]
  },
  {
   "cell_type": "code",
   "execution_count": 4,
   "id": "4e0b1cda-ae2a-4b40-a550-b33ab29a43e1",
   "metadata": {},
   "outputs": [
    {
     "name": "stdout",
     "output_type": "stream",
     "text": [
      "random_matrix:\n",
      " [[-1.0870257  -0.03018487 -0.29601334]\n",
      " [ 0.56361406 -0.24590564  0.71168185]\n",
      " [-0.79469906  0.13478494  0.76223643]]\n"
     ]
    }
   ],
   "source": [
    "random_matrix = np.random.randn(3, 3)\n",
    "print(\"random_matrix:\\n\", random_matrix)\n"
   ]
  },
  {
   "cell_type": "code",
   "execution_count": 5,
   "id": "8439a683-4317-4662-8874-8ca4e27710d3",
   "metadata": {},
   "outputs": [
    {
     "name": "stdout",
     "output_type": "stream",
     "text": [
      "even_numbers: [10 12 14 16 18 20 22 24 26 28 30 32 34 36 38 40 42 44 46 48 50]\n"
     ]
    }
   ],
   "source": [
    "even_numbers = np.arange(10, 51, 2)\n",
    "print(\"even_numbers:\", even_numbers)\n"
   ]
  },
  {
   "cell_type": "code",
   "execution_count": 6,
   "id": "d08387cb-5fe4-4aab-bce8-3fddfdc8ea60",
   "metadata": {},
   "outputs": [
    {
     "name": "stdout",
     "output_type": "stream",
     "text": [
      "linspace_array: [0.         0.16666667 0.33333333 0.5        0.66666667 0.83333333\n",
      " 1.        ]\n"
     ]
    }
   ],
   "source": [
    "linspace_array = np.linspace(0, 1, 7)\n",
    "print(\"linspace_array:\", linspace_array)\n"
   ]
  },
  {
   "cell_type": "code",
   "execution_count": 7,
   "id": "9dc84856-0f35-4527-8f81-33cf9c976057",
   "metadata": {},
   "outputs": [
    {
     "name": "stdout",
     "output_type": "stream",
     "text": [
      "Shape: (2, 3)\n",
      "Number of dimensions: 2\n",
      "Data type: int64\n"
     ]
    }
   ],
   "source": [
    "arr = np.array([[1, 2, 3], [4, 5, 6]])\n",
    "print(\"Shape:\", arr.shape)\n",
    "print(\"Number of dimensions:\", arr.ndim)\n",
    "print(\"Data type:\", arr.dtype)\n"
   ]
  },
  {
   "cell_type": "code",
   "execution_count": 8,
   "id": "e0ca723b-1790-4302-8ddc-500a65990294",
   "metadata": {},
   "outputs": [
    {
     "name": "stdout",
     "output_type": "stream",
     "text": [
      "reshaped_arr:\n",
      " [[0 1 2 3 4]\n",
      " [5 6 7 8 9]]\n"
     ]
    }
   ],
   "source": [
    "reshaped_arr = arr1d.reshape(2, 5)\n",
    "print(\"reshaped_arr:\\n\", reshaped_arr)\n"
   ]
  },
  {
   "cell_type": "code",
   "execution_count": 9,
   "id": "8bcbc510-df11-49d5-bc6d-bd5ab6570216",
   "metadata": {},
   "outputs": [
    {
     "name": "stdout",
     "output_type": "stream",
     "text": [
      "transposed_arr:\n",
      " [[0 5]\n",
      " [1 6]\n",
      " [2 7]\n",
      " [3 8]\n",
      " [4 9]]\n"
     ]
    }
   ],
   "source": [
    "transposed_arr = reshaped_arr.T\n",
    "print(\"transposed_arr:\\n\", transposed_arr)\n"
   ]
  },
  {
   "cell_type": "code",
   "execution_count": 10,
   "id": "00dc0539-a232-4c63-be52-440ce646034e",
   "metadata": {},
   "outputs": [
    {
     "name": "stdout",
     "output_type": "stream",
     "text": [
      "Vertical stack:\n",
      " [[1 2 3]\n",
      " [4 5 6]]\n"
     ]
    }
   ],
   "source": [
    "a = np.array([1, 2, 3])\n",
    "b = np.array([4, 5, 6])\n",
    "stacked_v = np.vstack((a, b))\n",
    "print(\"Vertical stack:\\n\", stacked_v)\n"
   ]
  },
  {
   "cell_type": "code",
   "execution_count": 11,
   "id": "4f5b0986-f61f-4b30-a87d-2b5483f13afe",
   "metadata": {},
   "outputs": [
    {
     "name": "stdout",
     "output_type": "stream",
     "text": [
      "Horizontal stack:\n",
      " [[1 2 5 6]\n",
      " [3 4 7 8]]\n"
     ]
    }
   ],
   "source": [
    "m1 = np.array([[1, 2], [3, 4]])\n",
    "m2 = np.array([[5, 6], [7, 8]])\n",
    "stacked_h = np.hstack((m1, m2))\n",
    "print(\"Horizontal stack:\\n\", stacked_h)\n"
   ]
  },
  {
   "cell_type": "code",
   "execution_count": 12,
   "id": "c3a2b9fd-62db-494c-b4a5-083c50d766ac",
   "metadata": {},
   "outputs": [
    {
     "name": "stdout",
     "output_type": "stream",
     "text": [
      "Horizontal split - Part 1:\n",
      " [[ 0  1]\n",
      " [ 4  5]\n",
      " [ 8  9]\n",
      " [12 13]]\n",
      "Horizontal split - Part 2:\n",
      " [[ 2  3]\n",
      " [ 6  7]\n",
      " [10 11]\n",
      " [14 15]]\n"
     ]
    }
   ],
   "source": [
    "arr_to_split = np.arange(16).reshape(4, 4)\n",
    "split_h1, split_h2 = np.hsplit(arr_to_split, 2)\n",
    "print(\"Horizontal split - Part 1:\\n\", split_h1)\n",
    "print(\"Horizontal split - Part 2:\\n\", split_h2)\n"
   ]
  },
  {
   "cell_type": "code",
   "execution_count": 13,
   "id": "2a080aa6-0cc9-4eeb-ac8a-c20128907f60",
   "metadata": {},
   "outputs": [
    {
     "name": "stdout",
     "output_type": "stream",
     "text": [
      "Vertical split - Part 1:\n",
      " [[0 1 2 3]\n",
      " [4 5 6 7]]\n",
      "Vertical split - Part 2:\n",
      " [[ 8  9 10 11]\n",
      " [12 13 14 15]]\n"
     ]
    }
   ],
   "source": [
    "split_v1, split_v2 = np.vsplit(arr_to_split, 2)\n",
    "print(\"Vertical split - Part 1:\\n\", split_v1)\n",
    "print(\"Vertical split - Part 2:\\n\", split_v2)\n"
   ]
  },
  {
   "cell_type": "code",
   "execution_count": 14,
   "id": "fe9de269-0b1c-4133-bc20-82a51da45d9c",
   "metadata": {},
   "outputs": [
    {
     "name": "stdout",
     "output_type": "stream",
     "text": [
      "Element at (1,2): 15\n"
     ]
    }
   ],
   "source": [
    "data = np.array([[10, 11, 12], [13, 14, 15], [16, 17, 18]])\n",
    "element = data[1, 2]\n",
    "print(\"Element at (1,2):\", element)\n"
   ]
  },
  {
   "cell_type": "code",
   "execution_count": 15,
   "id": "ad69bcad-2e13-4061-b3aa-7e5dc92661ae",
   "metadata": {},
   "outputs": [
    {
     "name": "stdout",
     "output_type": "stream",
     "text": [
      "First two rows:\n",
      " [[10 11 12]\n",
      " [13 14 15]]\n"
     ]
    }
   ],
   "source": [
    "slice_rows = data[:2, :]\n",
    "print(\"First two rows:\\n\", slice_rows)\n"
   ]
  },
  {
   "cell_type": "code",
   "execution_count": 16,
   "id": "40e76115-c176-493f-a42f-9fe32c5c8f88",
   "metadata": {},
   "outputs": [
    {
     "name": "stdout",
     "output_type": "stream",
     "text": [
      "Fancy indexing result: [11 15 17]\n"
     ]
    }
   ],
   "source": [
    "fancy = data[[0, 1, 2], [1, 2, 1]]\n",
    "print(\"Fancy indexing result:\", fancy)\n",
    "\n"
   ]
  },
  {
   "cell_type": "code",
   "execution_count": 17,
   "id": "c350fe0e-c1a4-47aa-8b2e-cf9038121370",
   "metadata": {},
   "outputs": [
    {
     "name": "stdout",
     "output_type": "stream",
     "text": [
      "Scores > 80: [85 92 95 88]\n"
     ]
    }
   ],
   "source": [
    "scores = np.array([85, 92, 78, 65, 95, 88])\n",
    "high_scores = scores[scores > 80]\n",
    "print(\"Scores > 80:\", high_scores)\n"
   ]
  },
  {
   "cell_type": "code",
   "execution_count": 18,
   "id": "9c771793-fa2f-4b25-b250-4041f6d3fbf2",
   "metadata": {},
   "outputs": [
    {
     "name": "stdout",
     "output_type": "stream",
     "text": [
      "Element-wise multiplication: [ 20  80 180]\n",
      "Element-wise division: [5. 5. 5.]\n"
     ]
    }
   ],
   "source": [
    "arr_op1 = np.array([10, 20, 30])\n",
    "arr_op2 = np.array([2, 4, 6])\n",
    "\n",
    "product = arr_op1 * arr_op2\n",
    "division = arr_op1 / arr_op2\n",
    "\n",
    "print(\"Element-wise multiplication:\", product)\n",
    "print(\"Element-wise division:\", division)\n"
   ]
  },
  {
   "cell_type": "code",
   "execution_count": 19,
   "id": "a4858797-e017-4995-ad83-8ebf8c492c45",
   "metadata": {},
   "outputs": [
    {
     "name": "stdout",
     "output_type": "stream",
     "text": [
      "Sum of all elements: 45\n"
     ]
    }
   ],
   "source": [
    "matrix = np.array([[1, 2, 3], [4, 5, 6], [7, 8, 9]])\n",
    "total_sum = matrix.sum()\n",
    "print(\"Sum of all elements:\", total_sum)\n"
   ]
  },
  {
   "cell_type": "code",
   "execution_count": 20,
   "id": "4f98b5fc-3f20-49c8-b7ab-942b5ba8c054",
   "metadata": {},
   "outputs": [
    {
     "name": "stdout",
     "output_type": "stream",
     "text": [
      "Column means: [4. 5. 6.]\n"
     ]
    }
   ],
   "source": [
    "column_means = matrix.mean(axis=0)\n",
    "print(\"Column means:\", column_means)\n"
   ]
  },
  {
   "cell_type": "code",
   "execution_count": 21,
   "id": "c77ebb15-abf7-43a4-a237-d5c7ceef6ea8",
   "metadata": {},
   "outputs": [
    {
     "name": "stdout",
     "output_type": "stream",
     "text": [
      "Discounted prices: [ 90. 135. 180. 225.]\n"
     ]
    }
   ],
   "source": [
    "price_array = np.array([100, 150, 200, 250])\n",
    "discount_percentage = 0.10\n",
    "discounted_prices = price_array * (1 - discount_percentage)\n",
    "print(\"Discounted prices:\", discounted_prices)\n"
   ]
  },
  {
   "cell_type": "code",
   "execution_count": null,
   "id": "59ad826b-42ad-4b58-a5de-44fba242d0a2",
   "metadata": {},
   "outputs": [],
   "source": []
  }
 ],
 "metadata": {
  "kernelspec": {
   "display_name": "Python [conda env:base] *",
   "language": "python",
   "name": "conda-base-py"
  },
  "language_info": {
   "codemirror_mode": {
    "name": "ipython",
    "version": 3
   },
   "file_extension": ".py",
   "mimetype": "text/x-python",
   "name": "python",
   "nbconvert_exporter": "python",
   "pygments_lexer": "ipython3",
   "version": "3.13.5"
  }
 },
 "nbformat": 4,
 "nbformat_minor": 5
}
