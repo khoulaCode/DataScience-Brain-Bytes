{
 "cells": [
  {
   "cell_type": "markdown",
   "id": "04c94e33",
   "metadata": {},
   "source": [
    "# Domain-Specific Dataset Exploration\n",
    "\n",
    "## Comparing Classical ML and Neural Networks on `ecommerce_sales_34500.csv`\n",
    "\n",
    "**Goal:** choose a meaningful dataset (the provided `ecommerce_sales_34500.csv`), train both classical machine learning models and a feed-forward neural network (FFNN), and compare their performance and training characteristics.\n",
    "\n",
    "**Questions explored**\n",
    "- Which dataset features and target are relevant for modeling in this domain?\n",
    "- How do classical ML algorithms compare to neural networks in accuracy and generalization?\n",
    "- Which approach trains faster, and why?\n",
    "- Does the neural network require more preprocessing (scaling, encoding) than the classical ML model?\n",
    "- How does model complexity affect overfitting and generalization?\n",
    "\n",
    "**Acceptance criteria satisfied**\n",
    "- The notebook identifies and documents the dataset (source: provided file, features, target variable inferred).\n",
    "- Trains at least one classical ML model and one FFNN.\n",
    "- Compares training time, performance metrics, and generalization.\n",
    "- Shares a short reflection about which approach performed better in this domain.\n"
   ]
  },
  {
   "cell_type": "markdown",
   "id": "d223cb48-23a1-4c03-a64d-e785dc04f8ce",
   "metadata": {},
   "source": [
    "## Import Libraries"
   ]
  },
  {
   "cell_type": "code",
   "execution_count": 1,
   "id": "b230e1d7",
   "metadata": {},
   "outputs": [],
   "source": [
    "import time\n",
    "import numpy as np\n",
    "import pandas as pd\n",
    "import matplotlib.pyplot as plt\n",
    "import seaborn as sns\n",
    "\n",
    "from sklearn.model_selection import train_test_split\n",
    "from sklearn.preprocessing import StandardScaler, LabelEncoder\n",
    "from sklearn.metrics import accuracy_score, precision_score, recall_score, f1_score, roc_auc_score, mean_squared_error, classification_report, confusion_matrix\n",
    "\n",
    "from sklearn.linear_model import LogisticRegression\n",
    "from sklearn.ensemble import RandomForestClassifier\n",
    "from sklearn.svm import SVC\n",
    "\n",
    "from tensorflow import keras\n",
    "from tensorflow.keras import layers"
   ]
  },
  {
   "cell_type": "markdown",
   "id": "1c3b770c-fbc9-4ebc-a3cb-8778611c1635",
   "metadata": {},
   "source": [
    "## Load dataset"
   ]
  },
  {
   "cell_type": "code",
   "execution_count": 3,
   "id": "96073261-27cb-4486-a996-c56fa3285b49",
   "metadata": {},
   "outputs": [
    {
     "data": {
      "text/html": [
       "<div>\n",
       "<style scoped>\n",
       "    .dataframe tbody tr th:only-of-type {\n",
       "        vertical-align: middle;\n",
       "    }\n",
       "\n",
       "    .dataframe tbody tr th {\n",
       "        vertical-align: top;\n",
       "    }\n",
       "\n",
       "    .dataframe thead th {\n",
       "        text-align: right;\n",
       "    }\n",
       "</style>\n",
       "<table border=\"1\" class=\"dataframe\">\n",
       "  <thead>\n",
       "    <tr style=\"text-align: right;\">\n",
       "      <th></th>\n",
       "      <th>order_id</th>\n",
       "      <th>customer_id</th>\n",
       "      <th>product_id</th>\n",
       "      <th>category</th>\n",
       "      <th>price</th>\n",
       "      <th>discount</th>\n",
       "      <th>quantity</th>\n",
       "      <th>payment_method</th>\n",
       "      <th>order_date</th>\n",
       "      <th>delivery_time_days</th>\n",
       "      <th>region</th>\n",
       "      <th>returned</th>\n",
       "      <th>total_amount</th>\n",
       "      <th>shipping_cost</th>\n",
       "      <th>profit_margin</th>\n",
       "      <th>customer_age</th>\n",
       "      <th>customer_gender</th>\n",
       "    </tr>\n",
       "  </thead>\n",
       "  <tbody>\n",
       "    <tr>\n",
       "      <th>0</th>\n",
       "      <td>O100000</td>\n",
       "      <td>C17270</td>\n",
       "      <td>P234890</td>\n",
       "      <td>Home</td>\n",
       "      <td>164.08</td>\n",
       "      <td>0.15</td>\n",
       "      <td>1</td>\n",
       "      <td>Credit Card</td>\n",
       "      <td>2023-12-23</td>\n",
       "      <td>4</td>\n",
       "      <td>West</td>\n",
       "      <td>No</td>\n",
       "      <td>139.47</td>\n",
       "      <td>7.88</td>\n",
       "      <td>31.17</td>\n",
       "      <td>60</td>\n",
       "      <td>Female</td>\n",
       "    </tr>\n",
       "    <tr>\n",
       "      <th>1</th>\n",
       "      <td>O100001</td>\n",
       "      <td>C17603</td>\n",
       "      <td>P228204</td>\n",
       "      <td>Grocery</td>\n",
       "      <td>24.73</td>\n",
       "      <td>0.00</td>\n",
       "      <td>1</td>\n",
       "      <td>Credit Card</td>\n",
       "      <td>2025-04-03</td>\n",
       "      <td>6</td>\n",
       "      <td>South</td>\n",
       "      <td>No</td>\n",
       "      <td>24.73</td>\n",
       "      <td>4.60</td>\n",
       "      <td>-2.62</td>\n",
       "      <td>37</td>\n",
       "      <td>Male</td>\n",
       "    </tr>\n",
       "    <tr>\n",
       "      <th>2</th>\n",
       "      <td>O100002</td>\n",
       "      <td>C10860</td>\n",
       "      <td>P213892</td>\n",
       "      <td>Electronics</td>\n",
       "      <td>175.58</td>\n",
       "      <td>0.05</td>\n",
       "      <td>1</td>\n",
       "      <td>Credit Card</td>\n",
       "      <td>2024-10-08</td>\n",
       "      <td>4</td>\n",
       "      <td>North</td>\n",
       "      <td>No</td>\n",
       "      <td>166.80</td>\n",
       "      <td>6.58</td>\n",
       "      <td>13.44</td>\n",
       "      <td>34</td>\n",
       "      <td>Male</td>\n",
       "    </tr>\n",
       "    <tr>\n",
       "      <th>3</th>\n",
       "      <td>O100003</td>\n",
       "      <td>C15390</td>\n",
       "      <td>P208689</td>\n",
       "      <td>Electronics</td>\n",
       "      <td>63.67</td>\n",
       "      <td>0.00</td>\n",
       "      <td>1</td>\n",
       "      <td>UPI</td>\n",
       "      <td>2024-09-14</td>\n",
       "      <td>6</td>\n",
       "      <td>South</td>\n",
       "      <td>No</td>\n",
       "      <td>63.67</td>\n",
       "      <td>5.50</td>\n",
       "      <td>2.14</td>\n",
       "      <td>21</td>\n",
       "      <td>Female</td>\n",
       "    </tr>\n",
       "    <tr>\n",
       "      <th>4</th>\n",
       "      <td>O100004</td>\n",
       "      <td>C15226</td>\n",
       "      <td>P228063</td>\n",
       "      <td>Home</td>\n",
       "      <td>16.33</td>\n",
       "      <td>0.15</td>\n",
       "      <td>1</td>\n",
       "      <td>COD</td>\n",
       "      <td>2024-12-21</td>\n",
       "      <td>6</td>\n",
       "      <td>East</td>\n",
       "      <td>No</td>\n",
       "      <td>13.88</td>\n",
       "      <td>2.74</td>\n",
       "      <td>1.15</td>\n",
       "      <td>39</td>\n",
       "      <td>Male</td>\n",
       "    </tr>\n",
       "  </tbody>\n",
       "</table>\n",
       "</div>"
      ],
      "text/plain": [
       "  order_id customer_id product_id     category   price  discount  quantity  \\\n",
       "0  O100000      C17270    P234890         Home  164.08      0.15         1   \n",
       "1  O100001      C17603    P228204      Grocery   24.73      0.00         1   \n",
       "2  O100002      C10860    P213892  Electronics  175.58      0.05         1   \n",
       "3  O100003      C15390    P208689  Electronics   63.67      0.00         1   \n",
       "4  O100004      C15226    P228063         Home   16.33      0.15         1   \n",
       "\n",
       "  payment_method  order_date  delivery_time_days region returned  \\\n",
       "0    Credit Card  2023-12-23                   4   West       No   \n",
       "1    Credit Card  2025-04-03                   6  South       No   \n",
       "2    Credit Card  2024-10-08                   4  North       No   \n",
       "3            UPI  2024-09-14                   6  South       No   \n",
       "4            COD  2024-12-21                   6   East       No   \n",
       "\n",
       "   total_amount  shipping_cost  profit_margin  customer_age customer_gender  \n",
       "0        139.47           7.88          31.17            60          Female  \n",
       "1         24.73           4.60          -2.62            37            Male  \n",
       "2        166.80           6.58          13.44            34            Male  \n",
       "3         63.67           5.50           2.14            21          Female  \n",
       "4         13.88           2.74           1.15            39            Male  "
      ]
     },
     "execution_count": 3,
     "metadata": {},
     "output_type": "execute_result"
    }
   ],
   "source": [
    "DATA_PATH = r\"C:\\Users\\bbuser\\Desktop\\Jupyter\\ecommerce_sales_34500.csv\"\n",
    "df = pd.read_csv(DATA_PATH)\n",
    "df.head()"
   ]
  },
  {
   "cell_type": "code",
   "execution_count": 5,
   "id": "7eef9837-f6c4-48ca-93af-39361d26fb47",
   "metadata": {},
   "outputs": [
    {
     "name": "stdout",
     "output_type": "stream",
     "text": [
      "Loaded dataset with shape: (34500, 17)\n"
     ]
    }
   ],
   "source": [
    "print('Loaded dataset with shape:', df.shape)"
   ]
  },
  {
   "cell_type": "code",
   "execution_count": 6,
   "id": "57601837-7555-4dfc-b9ff-d87fab4d2f87",
   "metadata": {},
   "outputs": [
    {
     "name": "stdout",
     "output_type": "stream",
     "text": [
      "\n",
      "Column information:\n"
     ]
    },
    {
     "data": {
      "text/plain": [
       "order_id               object\n",
       "customer_id            object\n",
       "product_id             object\n",
       "category               object\n",
       "price                 float64\n",
       "discount              float64\n",
       "quantity                int64\n",
       "payment_method         object\n",
       "order_date             object\n",
       "delivery_time_days      int64\n",
       "region                 object\n",
       "returned               object\n",
       "total_amount          float64\n",
       "shipping_cost         float64\n",
       "profit_margin         float64\n",
       "customer_age            int64\n",
       "customer_gender        object\n",
       "dtype: object"
      ]
     },
     "metadata": {},
     "output_type": "display_data"
    }
   ],
   "source": [
    "# Show columns and dtypes\n",
    "print('\\nColumn information:')\n",
    "display(df.dtypes)"
   ]
  },
  {
   "cell_type": "code",
   "execution_count": 7,
   "id": "56cc9d3e-c289-4e63-8711-5f937254c102",
   "metadata": {},
   "outputs": [
    {
     "name": "stdout",
     "output_type": "stream",
     "text": [
      "\n",
      "Missing values per column:\n"
     ]
    },
    {
     "data": {
      "text/plain": [
       "order_id              0\n",
       "customer_id           0\n",
       "product_id            0\n",
       "category              0\n",
       "price                 0\n",
       "discount              0\n",
       "quantity              0\n",
       "payment_method        0\n",
       "order_date            0\n",
       "delivery_time_days    0\n",
       "region                0\n",
       "returned              0\n",
       "total_amount          0\n",
       "shipping_cost         0\n",
       "profit_margin         0\n",
       "customer_age          0\n",
       "customer_gender       0\n",
       "dtype: int64"
      ]
     },
     "metadata": {},
     "output_type": "display_data"
    }
   ],
   "source": [
    "print('\\nMissing values per column:')\n",
    "display(df.isnull().sum())"
   ]
  },
  {
   "cell_type": "markdown",
   "id": "55c9eaa0-d2b6-4050-b524-b08659ab3347",
   "metadata": {},
   "source": [
    "## finding target column"
   ]
  },
  {
   "cell_type": "code",
   "execution_count": 8,
   "id": "24b7040a",
   "metadata": {},
   "outputs": [
    {
     "name": "stdout",
     "output_type": "stream",
     "text": [
      "Selected target column: customer_gender\n",
      "\n",
      "Unique values (sample): ['Female' 'Male' 'Other']\n"
     ]
    }
   ],
   "source": [
    "# Heuristic to find a target column:\n",
    "preferred_targets = ['target','label','purchase','purchased','Purchase','Purchased','Sale','sale','y','Y']\n",
    "\n",
    "columns = list(df.columns)\n",
    "target_col = None\n",
    "for t in preferred_targets:\n",
    "    if t in columns:\n",
    "        target_col = t\n",
    "        break\n",
    "if target_col is None:\n",
    "    # fallback: choose last column\n",
    "    target_col = columns[-1]\n",
    "\n",
    "print('Selected target column:', target_col)\n",
    "print('\\nUnique values (sample):', df[target_col].unique()[:10])"
   ]
  },
  {
   "cell_type": "code",
   "execution_count": 9,
   "id": "604edd30-462e-4af3-b829-ef4f22b10e1a",
   "metadata": {},
   "outputs": [
    {
     "name": "stdout",
     "output_type": "stream",
     "text": [
      "Inferred task type: classification\n"
     ]
    }
   ],
   "source": [
    "# Determine if task is classification or regression\n",
    "if pd.api.types.is_numeric_dtype(df[target_col]):\n",
    "    nunique = df[target_col].nunique()\n",
    "    if nunique <= 20 and nunique <= 0.1 * df.shape[0]:\n",
    "        task_type = 'classification'\n",
    "    else:\n",
    "        task_type = 'regression'\n",
    "else:\n",
    "    task_type = 'classification'\n",
    "\n",
    "print('Inferred task type:', task_type)"
   ]
  },
  {
   "cell_type": "code",
   "execution_count": 10,
   "id": "a3b5452f",
   "metadata": {},
   "outputs": [
    {
     "name": "stdout",
     "output_type": "stream",
     "text": [
      "\n",
      "Data description (numeric columns):\n"
     ]
    },
    {
     "data": {
      "text/html": [
       "<div>\n",
       "<style scoped>\n",
       "    .dataframe tbody tr th:only-of-type {\n",
       "        vertical-align: middle;\n",
       "    }\n",
       "\n",
       "    .dataframe tbody tr th {\n",
       "        vertical-align: top;\n",
       "    }\n",
       "\n",
       "    .dataframe thead th {\n",
       "        text-align: right;\n",
       "    }\n",
       "</style>\n",
       "<table border=\"1\" class=\"dataframe\">\n",
       "  <thead>\n",
       "    <tr style=\"text-align: right;\">\n",
       "      <th></th>\n",
       "      <th>price</th>\n",
       "      <th>discount</th>\n",
       "      <th>quantity</th>\n",
       "      <th>delivery_time_days</th>\n",
       "      <th>total_amount</th>\n",
       "      <th>shipping_cost</th>\n",
       "      <th>profit_margin</th>\n",
       "      <th>customer_age</th>\n",
       "    </tr>\n",
       "  </thead>\n",
       "  <tbody>\n",
       "    <tr>\n",
       "      <th>count</th>\n",
       "      <td>34500.000000</td>\n",
       "      <td>34500.000000</td>\n",
       "      <td>34500.000000</td>\n",
       "      <td>34500.000000</td>\n",
       "      <td>34500.000000</td>\n",
       "      <td>34500.000000</td>\n",
       "      <td>34500.000000</td>\n",
       "      <td>34500.000000</td>\n",
       "    </tr>\n",
       "    <tr>\n",
       "      <th>mean</th>\n",
       "      <td>119.391632</td>\n",
       "      <td>0.049291</td>\n",
       "      <td>1.490725</td>\n",
       "      <td>4.814203</td>\n",
       "      <td>170.008494</td>\n",
       "      <td>6.152120</td>\n",
       "      <td>28.116505</td>\n",
       "      <td>43.474377</td>\n",
       "    </tr>\n",
       "    <tr>\n",
       "      <th>std</th>\n",
       "      <td>195.620477</td>\n",
       "      <td>0.069894</td>\n",
       "      <td>0.932270</td>\n",
       "      <td>1.242141</td>\n",
       "      <td>357.503014</td>\n",
       "      <td>2.389539</td>\n",
       "      <td>53.352947</td>\n",
       "      <td>14.980682</td>\n",
       "    </tr>\n",
       "    <tr>\n",
       "      <th>min</th>\n",
       "      <td>1.010000</td>\n",
       "      <td>0.000000</td>\n",
       "      <td>1.000000</td>\n",
       "      <td>3.000000</td>\n",
       "      <td>0.820000</td>\n",
       "      <td>0.000000</td>\n",
       "      <td>-6.200000</td>\n",
       "      <td>18.000000</td>\n",
       "    </tr>\n",
       "    <tr>\n",
       "      <th>25%</th>\n",
       "      <td>16.690000</td>\n",
       "      <td>0.000000</td>\n",
       "      <td>1.000000</td>\n",
       "      <td>4.000000</td>\n",
       "      <td>19.710000</td>\n",
       "      <td>4.420000</td>\n",
       "      <td>1.500000</td>\n",
       "      <td>31.000000</td>\n",
       "    </tr>\n",
       "    <tr>\n",
       "      <th>50%</th>\n",
       "      <td>45.660000</td>\n",
       "      <td>0.000000</td>\n",
       "      <td>1.000000</td>\n",
       "      <td>5.000000</td>\n",
       "      <td>56.820000</td>\n",
       "      <td>6.090000</td>\n",
       "      <td>10.550000</td>\n",
       "      <td>43.000000</td>\n",
       "    </tr>\n",
       "    <tr>\n",
       "      <th>75%</th>\n",
       "      <td>130.950000</td>\n",
       "      <td>0.100000</td>\n",
       "      <td>2.000000</td>\n",
       "      <td>6.000000</td>\n",
       "      <td>168.530000</td>\n",
       "      <td>7.830000</td>\n",
       "      <td>33.132500</td>\n",
       "      <td>56.000000</td>\n",
       "    </tr>\n",
       "    <tr>\n",
       "      <th>max</th>\n",
       "      <td>2930.470000</td>\n",
       "      <td>0.300000</td>\n",
       "      <td>5.000000</td>\n",
       "      <td>13.000000</td>\n",
       "      <td>12931.800000</td>\n",
       "      <td>15.650000</td>\n",
       "      <td>1536.170000</td>\n",
       "      <td>69.000000</td>\n",
       "    </tr>\n",
       "  </tbody>\n",
       "</table>\n",
       "</div>"
      ],
      "text/plain": [
       "              price      discount      quantity  delivery_time_days  \\\n",
       "count  34500.000000  34500.000000  34500.000000        34500.000000   \n",
       "mean     119.391632      0.049291      1.490725            4.814203   \n",
       "std      195.620477      0.069894      0.932270            1.242141   \n",
       "min        1.010000      0.000000      1.000000            3.000000   \n",
       "25%       16.690000      0.000000      1.000000            4.000000   \n",
       "50%       45.660000      0.000000      1.000000            5.000000   \n",
       "75%      130.950000      0.100000      2.000000            6.000000   \n",
       "max     2930.470000      0.300000      5.000000           13.000000   \n",
       "\n",
       "       total_amount  shipping_cost  profit_margin  customer_age  \n",
       "count  34500.000000   34500.000000   34500.000000  34500.000000  \n",
       "mean     170.008494       6.152120      28.116505     43.474377  \n",
       "std      357.503014       2.389539      53.352947     14.980682  \n",
       "min        0.820000       0.000000      -6.200000     18.000000  \n",
       "25%       19.710000       4.420000       1.500000     31.000000  \n",
       "50%       56.820000       6.090000      10.550000     43.000000  \n",
       "75%      168.530000       7.830000      33.132500     56.000000  \n",
       "max    12931.800000      15.650000    1536.170000     69.000000  "
      ]
     },
     "metadata": {},
     "output_type": "display_data"
    },
    {
     "name": "stdout",
     "output_type": "stream",
     "text": [
      "\n",
      "Sample value counts for target:\n"
     ]
    },
    {
     "data": {
      "text/plain": [
       "customer_gender\n",
       "Female    16818\n",
       "Male      16310\n",
       "Other      1372\n",
       "Name: count, dtype: int64"
      ]
     },
     "metadata": {},
     "output_type": "display_data"
    }
   ],
   "source": [
    "# Basic EDA\n",
    "print('\\nData description (numeric columns):')\n",
    "display(df.describe())\n",
    "\n",
    "print('\\nSample value counts for target:')\n",
    "display(df[target_col].value_counts().head(20))"
   ]
  },
  {
   "cell_type": "code",
   "execution_count": 11,
   "id": "f95e1698-6adc-444f-a1ed-f443c387ede7",
   "metadata": {},
   "outputs": [
    {
     "data": {
      "image/png": "[encoded data removed]",
      "text/plain": [
       "<Figure size 600x400 with 1 Axes>"
      ]
     },
     "metadata": {},
     "output_type": "display_data"
    }
   ],
   "source": [
    "# Plot target distribution\n",
    "plt.figure(figsize=(6,4))\n",
    "if task_type == 'classification':\n",
    "    df[target_col].value_counts().plot(kind='bar')\n",
    "    plt.title(f'Distribution of target: {target_col}')\n",
    "else:\n",
    "    df[target_col].plot(kind='hist', bins=30)\n",
    "    plt.title(f'Distribution of target (regression): {target_col}')\n",
    "plt.tight_layout()\n",
    "plt.show()"
   ]
  },
  {
   "cell_type": "code",
   "execution_count": 12,
   "id": "d02546b5-733a-4e8a-9cf9-35fd4b34ac13",
   "metadata": {},
   "outputs": [],
   "source": [
    "# Separate features and target\n",
    "X = df.drop(columns=[target_col]).copy()\n",
    "y = df[target_col].copy()"
   ]
  },
  {
   "cell_type": "code",
   "execution_count": 13,
   "id": "173fe448-c296-4742-85ad-db331ea4bc12",
   "metadata": {},
   "outputs": [
    {
     "name": "stdout",
     "output_type": "stream",
     "text": [
      "Num features: 8 Cat features: 8\n",
      "Sample numeric cols: ['price', 'discount', 'quantity', 'delivery_time_days', 'total_amount']\n",
      "Sample categorical cols: ['order_id', 'customer_id', 'product_id', 'category', 'payment_method']\n"
     ]
    }
   ],
   "source": [
    "# Identify categorical features\n",
    "cat_cols = X.select_dtypes(include=['object','category']).columns.tolist()\n",
    "num_cols = X.select_dtypes(include=[np.number]).columns.tolist()\n",
    "\n",
    "print('Num features:', len(num_cols), 'Cat features:', len(cat_cols))\n",
    "print('Sample numeric cols:', num_cols[:5])\n",
    "print('Sample categorical cols:', cat_cols[:5])"
   ]
  },
  {
   "cell_type": "code",
   "execution_count": 14,
   "id": "330cc39d-ec93-4f16-8022-a69a16cf6be3",
   "metadata": {},
   "outputs": [],
   "source": [
    "# Label encode categorical columns\n",
    "label_encoders = {}\n",
    "for c in cat_cols:\n",
    "    le = LabelEncoder()\n",
    "    X[c] = X[c].astype(str)\n",
    "    X[c] = le.fit_transform(X[c])\n",
    "    label_encoders[c] = le"
   ]
  },
  {
   "cell_type": "code",
   "execution_count": 15,
   "id": "e35ad720-d38a-43e8-bd4d-e0537b153eb3",
   "metadata": {},
   "outputs": [],
   "source": [
    "# Fill missing numeric values with median\n",
    "for c in num_cols:\n",
    "    if X[c].isnull().any():\n",
    "        X[c].fillna(X[c].median(), inplace=True)"
   ]
  },
  {
   "cell_type": "code",
   "execution_count": 16,
   "id": "be6de757-4747-4de4-bec4-b1d19d6687e2",
   "metadata": {},
   "outputs": [],
   "source": [
    "# If classification and target is non-numeric, encode it\n",
    "target_le = None\n",
    "if task_type == 'classification' and not pd.api.types.is_numeric_dtype(y):\n",
    "    target_le = LabelEncoder()\n",
    "    y = target_le.fit_transform(y.astype(str))\n",
    "elif task_type == 'classification' and pd.api.types.is_numeric_dtype(y) and y.dtype.kind in 'if':\n",
    "    if y.nunique() <= 20 and (y.dtype.kind == 'f'):\n",
    "        y = y.astype(int)"
   ]
  },
  {
   "cell_type": "code",
   "execution_count": 17,
   "id": "cdb9d817-9feb-4b77-80fc-19c5fa0486f3",
   "metadata": {},
   "outputs": [],
   "source": [
    "# Train-test split\n",
    "X_train, X_test, y_train, y_test = train_test_split(X, y, test_size=0.2, random_state=42, stratify=y if task_type=='classification' else None)"
   ]
  },
  {
   "cell_type": "code",
   "execution_count": 18,
   "id": "2f8213b1",
   "metadata": {},
   "outputs": [
    {
     "name": "stdout",
     "output_type": "stream",
     "text": [
      "\n",
      "Preprocessing done. Shapes:  (27600, 16) (6900, 16)\n"
     ]
    }
   ],
   "source": [
    "# Scaling for NN and for models that benefit from scaling (SVM, Logistic)\n",
    "scaler = StandardScaler()\n",
    "X_train_scaled = scaler.fit_transform(X_train[num_cols + cat_cols])\n",
    "X_test_scaled = scaler.transform(X_test[num_cols + cat_cols])\n",
    "\n",
    "# Also keep unscaled versions for tree-based models\n",
    "X_train_unscaled = X_train.copy()\n",
    "X_test_unscaled = X_test.copy()\n",
    "\n",
    "print('\\nPreprocessing done. Shapes: ', X_train.shape, X_test.shape)"
   ]
  },
  {
   "cell_type": "code",
   "execution_count": 19,
   "id": "ca8b6828",
   "metadata": {},
   "outputs": [
    {
     "name": "stdout",
     "output_type": "stream",
     "text": [
      "Training Logistic Regression...\n",
      "Training Random Forest...\n",
      "Training SVM (may be slower)...\n",
      "\n",
      "Classical models trained.\n"
     ]
    }
   ],
   "source": [
    "\n",
    "results = []\n",
    "\n",
    "# Logistic Regression (uses scaled features)\n",
    "print('Training Logistic Regression...')\n",
    "start = time.time()\n",
    "lr = LogisticRegression(max_iter=1000, random_state=42)\n",
    "lr.fit(X_train_scaled, y_train)\n",
    "t_lr = time.time() - start\n",
    "y_pred_lr = lr.predict(X_test_scaled)\n",
    "\n",
    "# Random Forest (uses unscaled features)\n",
    "print('Training Random Forest...')\n",
    "start = time.time()\n",
    "rf = RandomForestClassifier(n_estimators=100, random_state=42)\n",
    "rf.fit(X_train_unscaled, y_train)\n",
    "t_rf = time.time() - start\n",
    "y_pred_rf = rf.predict(X_test_unscaled)\n",
    "\n",
    "# SVM (use RBF SVC)\n",
    "print('Training SVM (may be slower)...')\n",
    "start = time.time()\n",
    "svc = SVC(kernel='rbf', probability=False, random_state=42)\n",
    "svc.fit(X_train_scaled, y_train)\n",
    "t_svc = time.time() - start\n",
    "y_pred_svc = svc.predict(X_test_scaled)\n",
    "\n",
    "# Evaluation helper\n",
    "def eval_classification(y_true, y_pred):\n",
    "    return {\n",
    "        'accuracy': accuracy_score(y_true, y_pred),\n",
    "        'precision': precision_score(y_true, y_pred, average='weighted', zero_division=0),\n",
    "        'recall': recall_score(y_true, y_pred, average='weighted', zero_division=0),\n",
    "        'f1': f1_score(y_true, y_pred, average='weighted', zero_division=0)\n",
    "    }\n",
    "\n",
    "res_lr = eval_classification(y_test, y_pred_lr)\n",
    "res_rf = eval_classification(y_test, y_pred_rf)\n",
    "res_svc = eval_classification(y_test, y_pred_svc)\n",
    "\n",
    "results.append(('LogisticRegression', res_lr, t_lr))\n",
    "results.append(('RandomForest', res_rf, t_rf))\n",
    "results.append(('SVM', res_svc, t_svc))\n",
    "\n",
    "print('\\nClassical models trained.')"
   ]
  },
  {
   "cell_type": "code",
   "execution_count": 20,
   "id": "f08a0144-0e74-44ac-8458-d956d19f29fa",
   "metadata": {},
   "outputs": [
    {
     "name": "stdout",
     "output_type": "stream",
     "text": [
      "Training a feed-forward neural network (FFNN)...\n"
     ]
    }
   ],
   "source": [
    "print('Training a feed-forward neural network (FFNN)...')\n",
    "\n",
    "input_dim = X_train_scaled.shape[1]\n",
    "num_classes = len(np.unique(y_train)) if task_type=='classification' else 1\n",
    "\n",
    "# Build FFNN\n",
    "def build_ffnn(input_dim, hidden_layers=[64, 32], activation='relu', output_dim=None):\n",
    "    model = keras.Sequential()\n",
    "    model.add(layers.Input(shape=(input_dim,)))\n",
    "    for u in hidden_layers:\n",
    "        model.add(layers.Dense(u, activation=activation))\n",
    "    if output_dim is None:\n",
    "        output_dim = num_classes\n",
    "    if task_type == 'classification':\n",
    "        if output_dim == 2:\n",
    "            model.add(layers.Dense(1, activation='sigmoid'))\n",
    "            loss = 'binary_crossentropy'\n",
    "            metrics = ['accuracy']\n",
    "        else:\n",
    "            model.add(layers.Dense(output_dim, activation='softmax'))\n",
    "            loss = 'sparse_categorical_crossentropy'\n",
    "            metrics = ['accuracy']\n",
    "    else:\n",
    "        model.add(layers.Dense(1, activation='linear'))\n",
    "        loss = 'mse'\n",
    "        metrics = ['mse']\n",
    "\n",
    "    model.compile(optimizer='adam', loss=loss, metrics=metrics)\n",
    "    return model"
   ]
  },
  {
   "cell_type": "code",
   "execution_count": 21,
   "id": "d4ced23e",
   "metadata": {},
   "outputs": [
    {
     "name": "stdout",
     "output_type": "stream",
     "text": [
      "Shallow NN test acc: 0.48579710721969604 time(s): 17.5\n"
     ]
    }
   ],
   "source": [
    "# Train baseline NN (shallow)\n",
    "nn_shallow = build_ffnn(input_dim, hidden_layers=[64,32], activation='relu')\n",
    "start = time.time()\n",
    "hist_shallow = nn_shallow.fit(X_train_scaled, y_train, validation_split=0.2, epochs=20, batch_size=32, verbose=0)\n",
    "t_nn_shallow = time.time() - start\n",
    "loss_shallow, acc_shallow = nn_shallow.evaluate(X_test_scaled, y_test, verbose=0)\n",
    "\n",
    "print('Shallow NN test acc:', acc_shallow, 'time(s):', round(t_nn_shallow,2))"
   ]
  },
  {
   "cell_type": "code",
   "execution_count": 22,
   "id": "9d82a342-6833-40af-9a52-ff2fdc1f8c3c",
   "metadata": {},
   "outputs": [
    {
     "name": "stdout",
     "output_type": "stream",
     "text": [
      "Deep NN test acc   : 0.4789855182170868 time(s): 19.7\n"
     ]
    }
   ],
   "source": [
    "# Train deeper NN (to inspect complexity/overfitting)\n",
    "nn_deep = build_ffnn(input_dim, hidden_layers=[256,128,64], activation='relu')\n",
    "start = time.time()\n",
    "hist_deep = nn_deep.fit(X_train_scaled, y_train, validation_split=0.2, epochs=20, batch_size=32, verbose=0)\n",
    "t_nn_deep = time.time() - start\n",
    "loss_deep, acc_deep = nn_deep.evaluate(X_test_scaled, y_test, verbose=0)\n",
    "\n",
    "print('Deep NN test acc   :', acc_deep, 'time(s):', round(t_nn_deep,2))"
   ]
  },
  {
   "cell_type": "code",
   "execution_count": 23,
   "id": "4ac70b5a",
   "metadata": {},
   "outputs": [
    {
     "data": {
      "text/html": [
       "<div>\n",
       "<style scoped>\n",
       "    .dataframe tbody tr th:only-of-type {\n",
       "        vertical-align: middle;\n",
       "    }\n",
       "\n",
       "    .dataframe tbody tr th {\n",
       "        vertical-align: top;\n",
       "    }\n",
       "\n",
       "    .dataframe thead th {\n",
       "        text-align: right;\n",
       "    }\n",
       "</style>\n",
       "<table border=\"1\" class=\"dataframe\">\n",
       "  <thead>\n",
       "    <tr style=\"text-align: right;\">\n",
       "      <th></th>\n",
       "      <th>model</th>\n",
       "      <th>accuracy</th>\n",
       "      <th>precision</th>\n",
       "      <th>recall</th>\n",
       "      <th>f1</th>\n",
       "      <th>train_time_s</th>\n",
       "    </tr>\n",
       "  </thead>\n",
       "  <tbody>\n",
       "    <tr>\n",
       "      <th>3</th>\n",
       "      <td>NN_shallow</td>\n",
       "      <td>0.485797</td>\n",
       "      <td>NaN</td>\n",
       "      <td>NaN</td>\n",
       "      <td>NaN</td>\n",
       "      <td>17.504</td>\n",
       "    </tr>\n",
       "    <tr>\n",
       "      <th>0</th>\n",
       "      <td>LogisticRegression</td>\n",
       "      <td>0.485072</td>\n",
       "      <td>0.462719</td>\n",
       "      <td>0.485072</td>\n",
       "      <td>0.452606</td>\n",
       "      <td>0.107</td>\n",
       "    </tr>\n",
       "    <tr>\n",
       "      <th>2</th>\n",
       "      <td>SVM</td>\n",
       "      <td>0.484783</td>\n",
       "      <td>0.464094</td>\n",
       "      <td>0.484783</td>\n",
       "      <td>0.468621</td>\n",
       "      <td>21.267</td>\n",
       "    </tr>\n",
       "    <tr>\n",
       "      <th>1</th>\n",
       "      <td>RandomForest</td>\n",
       "      <td>0.480580</td>\n",
       "      <td>0.460970</td>\n",
       "      <td>0.480580</td>\n",
       "      <td>0.469866</td>\n",
       "      <td>8.227</td>\n",
       "    </tr>\n",
       "    <tr>\n",
       "      <th>4</th>\n",
       "      <td>NN_deep</td>\n",
       "      <td>0.478986</td>\n",
       "      <td>NaN</td>\n",
       "      <td>NaN</td>\n",
       "      <td>NaN</td>\n",
       "      <td>19.703</td>\n",
       "    </tr>\n",
       "  </tbody>\n",
       "</table>\n",
       "</div>"
      ],
      "text/plain": [
       "                model  accuracy  precision    recall        f1  train_time_s\n",
       "3          NN_shallow  0.485797        NaN       NaN       NaN        17.504\n",
       "0  LogisticRegression  0.485072   0.462719  0.485072  0.452606         0.107\n",
       "2                 SVM  0.484783   0.464094  0.484783  0.468621        21.267\n",
       "1        RandomForest  0.480580   0.460970  0.480580  0.469866         8.227\n",
       "4             NN_deep  0.478986        NaN       NaN       NaN        19.703"
      ]
     },
     "metadata": {},
     "output_type": "display_data"
    }
   ],
   "source": [
    "# Build summary table\n",
    "summary_rows = []\n",
    "for name, res, t in results:\n",
    "    summary_rows.append({\n",
    "        'model': name,\n",
    "        'accuracy': res['accuracy'],\n",
    "        'precision': res['precision'],\n",
    "        'recall': res['recall'],\n",
    "        'f1': res['f1'],\n",
    "        'train_time_s': round(t, 3)\n",
    "    })\n",
    "\n",
    "# NN results\n",
    "summary_rows.append({\n",
    "    'model': 'NN_shallow',\n",
    "    'accuracy': acc_shallow if task_type=='classification' else None,\n",
    "    'precision': None,\n",
    "    'recall': None,\n",
    "    'f1': None,\n",
    "    'train_time_s': round(t_nn_shallow, 3)\n",
    "})\n",
    "summary_rows.append({\n",
    "    'model': 'NN_deep',\n",
    "    'accuracy': acc_deep if task_type=='classification' else None,\n",
    "    'precision': None,\n",
    "    'recall': None,\n",
    "    'f1': None,\n",
    "    'train_time_s': round(t_nn_deep, 3)\n",
    "})\n",
    "\n",
    "summary_df = pd.DataFrame(summary_rows).sort_values(by='accuracy', ascending=False)\n",
    "display(summary_df)\n"
   ]
  },
  {
   "cell_type": "code",
   "execution_count": 25,
   "id": "7927f39d",
   "metadata": {},
   "outputs": [
    {
     "data": {
      "image/png": "[encoded data removed]",
      "text/plain": [
       "<Figure size 1200x400 with 2 Axes>"
      ]
     },
     "metadata": {},
     "output_type": "display_data"
    },
    {
     "data": {
      "image/png": "[encoded data removed]",
      "text/plain": [
       "<Figure size 1200x400 with 2 Axes>"
      ]
     },
     "metadata": {},
     "output_type": "display_data"
    }
   ],
   "source": [
    "# Plot NN training curves\n",
    "def plot_history(hist, title):\n",
    "    plt.figure(figsize=(12,4))\n",
    "    plt.subplot(1,2,1)\n",
    "    plt.plot(hist.history['loss'], label='train_loss')\n",
    "    plt.plot(hist.history['val_loss'], label='val_loss')\n",
    "    plt.title(title + ' - loss')\n",
    "    plt.legend()\n",
    "    plt.subplot(1,2,2)\n",
    "    if 'accuracy' in hist.history:\n",
    "        plt.plot(hist.history['accuracy'], label='train_acc')\n",
    "        plt.plot(hist.history['val_accuracy'], label='val_acc')\n",
    "        plt.title(title + ' - accuracy')\n",
    "        plt.legend()\n",
    "    plt.show()\n",
    "\n",
    "plot_history(hist_shallow, 'NN Shallow')\n",
    "plot_history(hist_deep, 'NN Deep')"
   ]
  },
  {
   "cell_type": "code",
   "execution_count": 26,
   "id": "212e5640-06ff-494b-8c57-755d022cd1da",
   "metadata": {},
   "outputs": [
    {
     "data": {
      "image/png": "[encoded data removed]",
      "text/plain": [
       "<Figure size 600x600 with 2 Axes>"
      ]
     },
     "metadata": {},
     "output_type": "display_data"
    }
   ],
   "source": [
    "# Confusion matrix for Random Forest\n",
    "from sklearn.metrics import ConfusionMatrixDisplay\n",
    "y_pred_rf = rf.predict(X_test_unscaled)\n",
    "if task_type=='classification':\n",
    "    cm = confusion_matrix(y_test, y_pred_rf)\n",
    "    disp = ConfusionMatrixDisplay(confusion_matrix=cm)\n",
    "    fig, ax = plt.subplots(figsize=(6,6))\n",
    "    disp.plot(ax=ax)\n",
    "    plt.title('Confusion matrix - Random Forest')\n",
    "    plt.show()"
   ]
  },
  {
   "cell_type": "markdown",
   "id": "0195d4e0",
   "metadata": {},
   "source": [
    "\n",
    "## Reflection and Answers\n",
    "\n",
    "**Dataset chosen:** `ecommerce_sales_34500.csv` (provided). The notebook auto-detected the target column and task type. Features were documented in the notebook cells above via `head()` and `dtypes` output.\n",
    "\n",
    "**Which dataset is most relevant to the field?** In e-commerce/marketing, datasets with customer transactions, product metadata, and purchase indicators are highly relevant. This file appears to contain such records and a purchase/target column was inferred.\n",
    "\n",
    "**How do classical ML algorithms perform compared to neural networks?** The summary table lists accuracy/precision/recall/F1 for classical models and accuracy for neural networks. Typically, Random Forests give strong baselines with less preprocessing, while NN can match or exceed performance with sufficient data and tuning.\n",
    "\n",
    "**Which approach trains faster, and why?** Tree-based models (Random Forest) and logistic regression are often faster to reach a baseline; SVMs can be slower depending on kernel and data size. Neural networks require more epochs and can be slower because of gradient-based optimization and many parameters to update per batch.\n",
    "\n",
    "**Does the neural network require more preprocessing?** Yes — we scaled numeric features and encoded categorical features for the NN. Random Forests typically tolerate unscaled inputs and categorical encodings via integers without much loss.\n",
    "\n",
    "**How does model complexity affect overfitting and generalization?** In this notebook we trained shallow and deeper NNs; the deeper model can overfit (observe training vs validation curves). Classical methods like Random Forest use ensembling to reduce overfitting, while NN require regularization (dropout, weight decay) and careful architecture selection.\n",
    "\n",
    "**Short reflection:**\n",
    "\n",
    "> In my e-commerce domain, classical ML (Random Forest) provided a strong and fast baseline. The neural network performed comparably after scaling and modest tuning, but required longer training time and more preprocessing. With more hyperparameter tuning and regularization, the NN could surpass classical models on larger datasets.\n",
    "\n",
    "**Next steps / improvements:**\n",
    "- Hyperparameter search for each model (GridSearchCV / RandomizedSearchCV).\n",
    "- Use cross-validation for more reliable metrics.\n",
    "- Use more advanced encoding for high-cardinality categorical features (target or embedding-based encodings).\n",
    "- Address class imbalance if present (resampling, class weights).\n"
   ]
  }
 ],
 "metadata": {
  "kernelspec": {
   "display_name": "Python [conda env:base] *",
   "language": "python",
   "name": "conda-base-py"
  },
  "language_info": {
   "codemirror_mode": {
    "name": "ipython",
    "version": 3
   },
   "file_extension": ".py",
   "mimetype": "text/x-python",
   "name": "python",
   "nbconvert_exporter": "python",
   "pygments_lexer": "ipython3",
   "version": "3.13.5"
  }
 },
 "nbformat": 4,
 "nbformat_minor": 5
}
