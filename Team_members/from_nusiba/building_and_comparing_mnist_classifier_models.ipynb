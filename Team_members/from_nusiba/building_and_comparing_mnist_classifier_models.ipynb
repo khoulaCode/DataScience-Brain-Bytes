{
 "cells": [
  {
   "cell_type": "markdown",
   "id": "e6fe53f1-a706-400d-a8ee-87ed4f51c92c",
   "metadata": {},
   "source": [
    "# MNIST Classification - Model Comparison"
   ]
  },
  {
   "cell_type": "markdown",
   "id": "0b0d9b52-0057-4a3b-9457-e3c1b241f882",
   "metadata": {},
   "source": [
    "### Import the Libaries"
   ]
  },
  {
   "cell_type": "code",
   "execution_count": 1,
   "id": "51f3927e-3bc9-4afb-b38e-4f7dbe2fc212",
   "metadata": {},
   "outputs": [
    {
     "name": "stdout",
     "output_type": "stream",
     "text": [
      "sklearn.__version__: 1.7.2\n",
      "fetch_openml import OK\n"
     ]
    }
   ],
   "source": [
    "import sklearn\n",
    "print(\"sklearn.__version__:\", sklearn.__version__)\n",
    "from sklearn.datasets import fetch_openml\n",
    "print(\"fetch_openml import OK\")"
   ]
  },
  {
   "cell_type": "code",
   "execution_count": 2,
   "id": "88e7f3bc-0151-4736-9f56-866672387bee",
   "metadata": {},
   "outputs": [
    {
     "name": "stdout",
     "output_type": "stream",
     "text": [
      "Python executable: C:\\Users\\bbuser\\anaconda3\\python.exe\n",
      "sys.path (first entries): ['C:\\\\Users\\\\bbuser\\\\anaconda3\\\\python313.zip', 'C:\\\\Users\\\\bbuser\\\\anaconda3\\\\DLLs', 'C:\\\\Users\\\\bbuser\\\\anaconda3\\\\Lib']\n",
      "sklearn.__file__: C:\\Users\\bbuser\\anaconda3\\Lib\\site-packages\\sklearn\\__init__.py\n",
      "sklearn.__version__: 1.7.2\n"
     ]
    }
   ],
   "source": [
    "import sys, sklearn\n",
    "print(\"Python executable:\", sys.executable)\n",
    "print(\"sys.path (first entries):\", sys.path[:3])\n",
    "print(\"sklearn.__file__:\", sklearn.__file__)\n",
    "print(\"sklearn.__version__:\", sklearn.__version__)"
   ]
  },
  {
   "cell_type": "code",
   "execution_count": 3,
   "id": "24ceb456-30f5-4728-9f0a-8d6649ad4be6",
   "metadata": {},
   "outputs": [
    {
     "name": "stdout",
     "output_type": "stream",
     "text": [
      "Found existing installation: scikit-learn 1.7.2\n",
      "Uninstalling scikit-learn-1.7.2:\n",
      "  Successfully uninstalled scikit-learn-1.7.2\n"
     ]
    },
    {
     "name": "stderr",
     "output_type": "stream",
     "text": [
      "WARNING: Skipping sklearn as it is not installed.\n",
      "WARNING: Failed to remove contents in a temporary directory 'C:\\Users\\bbuser\\anaconda3\\Lib\\site-packages\\~-learn'.\n",
      "You can safely remove it manually.\n"
     ]
    },
    {
     "name": "stdout",
     "output_type": "stream",
     "text": [
      "Requirement already satisfied: pip in c:\\users\\bbuser\\anaconda3\\lib\\site-packages (25.1)\n",
      "Collecting pip\n",
      "  Downloading pip-25.2-py3-none-any.whl.metadata (4.7 kB)\n",
      "Requirement already satisfied: wheel in c:\\users\\bbuser\\anaconda3\\lib\\site-packages (0.45.1)\n",
      "Requirement already satisfied: setuptools in c:\\users\\bbuser\\anaconda3\\lib\\site-packages (72.1.0)\n",
      "Collecting setuptools\n",
      "  Downloading setuptools-80.9.0-py3-none-any.whl.metadata (6.6 kB)\n",
      "Downloading pip-25.2-py3-none-any.whl (1.8 MB)\n",
      "   ---------------------------------------- 0.0/1.8 MB ? eta -:--:--\n",
      "   ---------------------------------------- 0.0/1.8 MB ? eta -:--:--\n",
      "   ---------------------------------------- 0.0/1.8 MB ? eta -:--:--\n",
      "   ---------------------------------------- 0.0/1.8 MB ? eta -:--:--\n",
      "   ---------------------------------------- 0.0/1.8 MB ? eta -:--:--\n",
      "   ---------------------------------------- 0.0/1.8 MB ? eta -:--:--\n",
      "   ---------------------------------------- 0.0/1.8 MB ? eta -:--:--\n",
      "   ---------------------------------------- 0.0/1.8 MB ? eta -:--:--\n",
      "   ---------------------------------------- 0.0/1.8 MB ? eta -:--:--\n",
      "   ---------------------------------------- 0.0/1.8 MB ? eta -:--:--\n",
      "   ---------------------------------------- 0.0/1.8 MB ? eta -:--:--\n",
      "   ----- ---------------------------------- 0.3/1.8 MB ? eta -:--:--\n",
      "   ----- ---------------------------------- 0.3/1.8 MB ? eta -:--:--\n",
      "   ----- ---------------------------------- 0.3/1.8 MB ? eta -:--:--\n",
      "   ----- ---------------------------------- 0.3/1.8 MB ? eta -:--:--\n",
      "   ----- ---------------------------------- 0.3/1.8 MB ? eta -:--:--\n",
      "   ----- ---------------------------------- 0.3/1.8 MB ? eta -:--:--\n",
      "   ----- ---------------------------------- 0.3/1.8 MB ? eta -:--:--\n",
      "   ----- ---------------------------------- 0.3/1.8 MB ? eta -:--:--\n",
      "   ----- ---------------------------------- 0.3/1.8 MB ? eta -:--:--\n",
      "   ----- ---------------------------------- 0.3/1.8 MB ? eta -:--:--\n",
      "   ----- ---------------------------------- 0.3/1.8 MB ? eta -:--:--\n",
      "   ----- ---------------------------------- 0.3/1.8 MB ? eta -:--:--\n",
      "   ----------- ---------------------------- 0.5/1.8 MB 109.9 kB/s eta 0:00:12\n",
      "   ----------- ---------------------------- 0.5/1.8 MB 109.9 kB/s eta 0:00:12\n",
      "   ----------- ---------------------------- 0.5/1.8 MB 109.9 kB/s eta 0:00:12\n",
      "   ----------- ---------------------------- 0.5/1.8 MB 109.9 kB/s eta 0:00:12\n",
      "   ----------- ---------------------------- 0.5/1.8 MB 109.9 kB/s eta 0:00:12\n",
      "   ----------- ---------------------------- 0.5/1.8 MB 109.9 kB/s eta 0:00:12\n",
      "   ----------- ---------------------------- 0.5/1.8 MB 109.9 kB/s eta 0:00:12\n",
      "   ----------- ---------------------------- 0.5/1.8 MB 109.9 kB/s eta 0:00:12\n",
      "   ----------------- ---------------------- 0.8/1.8 MB 128.8 kB/s eta 0:00:08\n",
      "   ----------------- ---------------------- 0.8/1.8 MB 128.8 kB/s eta 0:00:08\n",
      "   ----------------- ---------------------- 0.8/1.8 MB 128.8 kB/s eta 0:00:08\n",
      "   ----------------- ---------------------- 0.8/1.8 MB 128.8 kB/s eta 0:00:08\n",
      "   ----------------- ---------------------- 0.8/1.8 MB 128.8 kB/s eta 0:00:08\n",
      "   ----------------------- ---------------- 1.0/1.8 MB 150.5 kB/s eta 0:00:05\n",
      "   ----------------------- ---------------- 1.0/1.8 MB 150.5 kB/s eta 0:00:05\n",
      "   ----------------------------- ---------- 1.3/1.8 MB 189.1 kB/s eta 0:00:03\n",
      "   ----------------------------------- ---- 1.6/1.8 MB 223.8 kB/s eta 0:00:01\n",
      "   ---------------------------------------- 1.8/1.8 MB 245.9 kB/s eta 0:00:00\n",
      "Downloading setuptools-80.9.0-py3-none-any.whl (1.2 MB)\n",
      "   ---------------------------------------- 0.0/1.2 MB ? eta -:--:--\n",
      "   ---------------------------------------- 0.0/1.2 MB ? eta -:--:--\n",
      "   ---------------------------------------- 0.0/1.2 MB ? eta -:--:--\n",
      "   -------- ------------------------------- 0.3/1.2 MB ? eta -:--:--\n",
      "   -------- ------------------------------- 0.3/1.2 MB ? eta -:--:--\n",
      "   ----------------- ---------------------- 0.5/1.2 MB 643.9 kB/s eta 0:00:02\n",
      "   -------------------------- ------------- 0.8/1.2 MB 707.1 kB/s eta 0:00:01\n",
      "   ---------------------------------- ----- 1.0/1.2 MB 914.1 kB/s eta 0:00:01\n",
      "   ---------------------------------------- 1.2/1.2 MB 880.9 kB/s eta 0:00:00\n",
      "Installing collected packages: setuptools, pip\n",
      "\n",
      "  Attempting uninstall: setuptools\n",
      "\n",
      "    Found existing installation: setuptools 72.1.0\n",
      "\n",
      "    Uninstalling setuptools-72.1.0:\n",
      "\n",
      "   ---------------------------------------- 0/2 [setuptools]\n",
      "   ---------------------------------------- 0/2 [setuptools]\n",
      "   ---------------------------------------- 0/2 [setuptools]\n",
      "   ---------------------------------------- 0/2 [setuptools]\n",
      "   ---------------------------------------- 0/2 [setuptools]\n",
      "   ---------------------------------------- 0/2 [setuptools]\n",
      "   ---------------------------------------- 0/2 [setuptools]\n",
      "   ---------------------------------------- 0/2 [setuptools]\n",
      "   ---------------------------------------- 0/2 [setuptools]\n",
      "   ---------------------------------------- 0/2 [setuptools]\n",
      "   ---------------------------------------- 0/2 [setuptools]\n",
      "   ---------------------------------------- 0/2 [setuptools]\n",
      "   ---------------------------------------- 0/2 [setuptools]\n",
      "   ---------------------------------------- 0/2 [setuptools]\n",
      "   ---------------------------------------- 0/2 [setuptools]\n",
      "   ---------------------------------------- 0/2 [setuptools]\n",
      "   ---------------------------------------- 0/2 [setuptools]\n",
      "   ---------------------------------------- 0/2 [setuptools]\n",
      "   ---------------------------------------- 0/2 [setuptools]\n",
      "   ---------------------------------------- 0/2 [setuptools]\n",
      "   ---------------------------------------- 0/2 [setuptools]\n",
      "   ---------------------------------------- 0/2 [setuptools]\n",
      "   ---------------------------------------- 0/2 [setuptools]\n",
      "   ---------------------------------------- 0/2 [setuptools]\n",
      "   ---------------------------------------- 0/2 [setuptools]\n",
      "   ---------------------------------------- 0/2 [setuptools]\n",
      "   ---------------------------------------- 0/2 [setuptools]\n",
      "   ---------------------------------------- 0/2 [setuptools]\n",
      "   ---------------------------------------- 0/2 [setuptools]\n",
      "   ---------------------------------------- 0/2 [setuptools]\n",
      "   ---------------------------------------- 0/2 [setuptools]\n",
      "   ---------------------------------------- 0/2 [setuptools]\n",
      "   ---------------------------------------- 0/2 [setuptools]\n",
      "   ---------------------------------------- 0/2 [setuptools]\n",
      "   ---------------------------------------- 0/2 [setuptools]\n",
      "   ---------------------------------------- 0/2 [setuptools]\n",
      "   ---------------------------------------- 0/2 [setuptools]\n",
      "   ---------------------------------------- 0/2 [setuptools]\n",
      "   ---------------------------------------- 0/2 [setuptools]\n",
      "   ---------------------------------------- 0/2 [setuptools]\n",
      "   ---------------------------------------- 0/2 [setuptools]\n",
      "   ---------------------------------------- 0/2 [setuptools]\n",
      "   ---------------------------------------- 0/2 [setuptools]\n",
      "   ---------------------------------------- 0/2 [setuptools]\n",
      "   ---------------------------------------- 0/2 [setuptools]\n",
      "      Successfully uninstalled setuptools-72.1.0\n",
      "   ---------------------------------------- 0/2 [setuptools]\n",
      "   ---------------------------------------- 0/2 [setuptools]\n",
      "   ---------------------------------------- 0/2 [setuptools]\n",
      "   ---------------------------------------- 0/2 [setuptools]\n",
      "   ---------------------------------------- 0/2 [setuptools]\n",
      "   ---------------------------------------- 0/2 [setuptools]\n",
      "   ---------------------------------------- 0/2 [setuptools]\n",
      "   ---------------------------------------- 0/2 [setuptools]\n",
      "   ---------------------------------------- 0/2 [setuptools]\n",
      "   ---------------------------------------- 0/2 [setuptools]\n",
      "   ---------------------------------------- 0/2 [setuptools]\n",
      "   ---------------------------------------- 0/2 [setuptools]\n",
      "   ---------------------------------------- 0/2 [setuptools]\n",
      "   ---------------------------------------- 0/2 [setuptools]\n",
      "   ---------------------------------------- 0/2 [setuptools]\n",
      "   ---------------------------------------- 0/2 [setuptools]\n",
      "   ---------------------------------------- 0/2 [setuptools]\n",
      "   ---------------------------------------- 0/2 [setuptools]\n",
      "   ---------------------------------------- 0/2 [setuptools]\n",
      "   ---------------------------------------- 0/2 [setuptools]\n",
      "   ---------------------------------------- 0/2 [setuptools]\n",
      "   ---------------------------------------- 0/2 [setuptools]\n",
      "   ---------------------------------------- 0/2 [setuptools]\n",
      "   ---------------------------------------- 0/2 [setuptools]\n",
      "   ---------------------------------------- 0/2 [setuptools]\n",
      "   ---------------------------------------- 0/2 [setuptools]\n",
      "   ---------------------------------------- 0/2 [setuptools]\n",
      "   ---------------------------------------- 0/2 [setuptools]\n",
      "   ---------------------------------------- 0/2 [setuptools]\n",
      "   ---------------------------------------- 0/2 [setuptools]\n",
      "   ---------------------------------------- 0/2 [setuptools]\n",
      "   ---------------------------------------- 0/2 [setuptools]\n",
      "   ---------------------------------------- 0/2 [setuptools]\n",
      "   ---------------------------------------- 0/2 [setuptools]\n",
      "   ---------------------------------------- 0/2 [setuptools]\n",
      "   ---------------------------------------- 0/2 [setuptools]\n",
      "   ---------------------------------------- 0/2 [setuptools]\n",
      "   ---------------------------------------- 0/2 [setuptools]\n",
      "   ---------------------------------------- 0/2 [setuptools]\n",
      "   ---------------------------------------- 0/2 [setuptools]\n",
      "   ---------------------------------------- 0/2 [setuptools]\n",
      "   ---------------------------------------- 0/2 [setuptools]\n",
      "   ---------------------------------------- 0/2 [setuptools]\n",
      "   ---------------------------------------- 0/2 [setuptools]\n",
      "   ---------------------------------------- 0/2 [setuptools]\n",
      "   ---------------------------------------- 0/2 [setuptools]\n",
      "   ---------------------------------------- 0/2 [setuptools]\n",
      "  Attempting uninstall: pip\n",
      "   ---------------------------------------- 0/2 [setuptools]\n",
      "   -------------------- ------------------- 1/2 [pip]\n",
      "    Found existing installation: pip 25.1\n",
      "   -------------------- ------------------- 1/2 [pip]\n",
      "   -------------------- ------------------- 1/2 [pip]\n",
      "   -------------------- ------------------- 1/2 [pip]\n",
      "    Uninstalling pip-25.1:\n",
      "   -------------------- ------------------- 1/2 [pip]\n",
      "   -------------------- ------------------- 1/2 [pip]\n",
      "      Successfully uninstalled pip-25.1\n",
      "   -------------------- ------------------- 1/2 [pip]\n",
      "   -------------------- ------------------- 1/2 [pip]\n",
      "   -------------------- ------------------- 1/2 [pip]\n",
      "   -------------------- ------------------- 1/2 [pip]\n",
      "   -------------------- ------------------- 1/2 [pip]\n",
      "   -------------------- ------------------- 1/2 [pip]\n",
      "   -------------------- ------------------- 1/2 [pip]\n",
      "   -------------------- ------------------- 1/2 [pip]\n",
      "   -------------------- ------------------- 1/2 [pip]\n",
      "   -------------------- ------------------- 1/2 [pip]\n",
      "   -------------------- ------------------- 1/2 [pip]\n",
      "   -------------------- ------------------- 1/2 [pip]\n",
      "   -------------------- ------------------- 1/2 [pip]\n",
      "   -------------------- ------------------- 1/2 [pip]\n",
      "   -------------------- ------------------- 1/2 [pip]\n",
      "   -------------------- ------------------- 1/2 [pip]\n",
      "   -------------------- ------------------- 1/2 [pip]\n",
      "   -------------------- ------------------- 1/2 [pip]\n",
      "   -------------------- ------------------- 1/2 [pip]\n",
      "   -------------------- ------------------- 1/2 [pip]\n",
      "   -------------------- ------------------- 1/2 [pip]\n",
      "   -------------------- ------------------- 1/2 [pip]\n",
      "   -------------------- ------------------- 1/2 [pip]\n",
      "   -------------------- ------------------- 1/2 [pip]\n",
      "   -------------------- ------------------- 1/2 [pip]\n",
      "   -------------------- ------------------- 1/2 [pip]\n",
      "   -------------------- ------------------- 1/2 [pip]\n",
      "   -------------------- ------------------- 1/2 [pip]\n",
      "   -------------------- ------------------- 1/2 [pip]\n",
      "   -------------------- ------------------- 1/2 [pip]\n",
      "   -------------------- ------------------- 1/2 [pip]\n",
      "   -------------------- ------------------- 1/2 [pip]\n",
      "   -------------------- ------------------- 1/2 [pip]\n",
      "   -------------------- ------------------- 1/2 [pip]\n",
      "   -------------------- ------------------- 1/2 [pip]\n",
      "   -------------------- ------------------- 1/2 [pip]\n",
      "   -------------------- ------------------- 1/2 [pip]\n",
      "   -------------------- ------------------- 1/2 [pip]\n",
      "   -------------------- ------------------- 1/2 [pip]\n",
      "   -------------------- ------------------- 1/2 [pip]\n",
      "   -------------------- ------------------- 1/2 [pip]\n",
      "   -------------------- ------------------- 1/2 [pip]\n",
      "   -------------------- ------------------- 1/2 [pip]\n",
      "   -------------------- ------------------- 1/2 [pip]\n",
      "   -------------------- ------------------- 1/2 [pip]\n",
      "   -------------------- ------------------- 1/2 [pip]\n",
      "   -------------------- ------------------- 1/2 [pip]\n",
      "   -------------------- ------------------- 1/2 [pip]\n",
      "   -------------------- ------------------- 1/2 [pip]\n",
      "   -------------------- ------------------- 1/2 [pip]\n",
      "   -------------------- ------------------- 1/2 [pip]\n",
      "   -------------------- ------------------- 1/2 [pip]\n",
      "   -------------------- ------------------- 1/2 [pip]\n",
      "   -------------------- ------------------- 1/2 [pip]\n",
      "   -------------------- ------------------- 1/2 [pip]\n",
      "   ---------------------------------------- 2/2 [pip]\n",
      "\n",
      "Successfully installed pip-25.2 setuptools-80.9.0\n",
      "Collecting scikit-learn\n",
      "  Using cached scikit_learn-1.7.2-cp313-cp313-win_amd64.whl.metadata (11 kB)\n",
      "Requirement already satisfied: xgboost in c:\\users\\bbuser\\anaconda3\\lib\\site-packages (3.0.4)\n",
      "Requirement already satisfied: numpy>=1.22.0 in c:\\users\\bbuser\\anaconda3\\lib\\site-packages (from scikit-learn) (2.1.3)\n",
      "Requirement already satisfied: scipy>=1.8.0 in c:\\users\\bbuser\\anaconda3\\lib\\site-packages (from scikit-learn) (1.15.3)\n",
      "Requirement already satisfied: joblib>=1.2.0 in c:\\users\\bbuser\\anaconda3\\lib\\site-packages (from scikit-learn) (1.4.2)\n",
      "Requirement already satisfied: threadpoolctl>=3.1.0 in c:\\users\\bbuser\\anaconda3\\lib\\site-packages (from scikit-learn) (3.5.0)\n",
      "Using cached scikit_learn-1.7.2-cp313-cp313-win_amd64.whl (8.7 MB)\n",
      "Installing collected packages: scikit-learn\n",
      "Successfully installed scikit-learn-1.7.2\n"
     ]
    },
    {
     "name": "stderr",
     "output_type": "stream",
     "text": [
      "ERROR: pip's dependency resolver does not currently take into account all the packages that are installed. This behaviour is the source of the following dependency conflicts.\n",
      "sklearn-compat 0.1.3 requires scikit-learn<1.7,>=1.2, but you have scikit-learn 1.7.2 which is incompatible.\n"
     ]
    }
   ],
   "source": [
    "import sys\n",
    "!{sys.executable} -m pip uninstall -y sklearn scikit-learn\n",
    "!{sys.executable} -m pip install --upgrade pip wheel setuptools\n",
    "!{sys.executable} -m pip install scikit-learn xgboost"
   ]
  },
  {
   "cell_type": "code",
   "execution_count": 4,
   "id": "aea1b8f4-7b8e-4b67-a204-3a1c9fd1e747",
   "metadata": {},
   "outputs": [
    {
     "name": "stdout",
     "output_type": "stream",
     "text": [
      "sklearn: 1.7.2 from C:\\Users\\bbuser\\anaconda3\\Lib\\site-packages\\sklearn\\__init__.py\n",
      "MNIST data shape: (70000, 784) (70000,)\n"
     ]
    }
   ],
   "source": [
    "import sklearn\n",
    "print(\"sklearn:\", sklearn.__version__, \"from\", sklearn.__file__)\n",
    "from sklearn.datasets import fetch_openml\n",
    "mnist = fetch_openml(\"mnist_784\", version=1, as_frame=False)\n",
    "print(\"MNIST data shape:\", mnist.data.shape, mnist.target.shape)"
   ]
  },
  {
   "cell_type": "code",
   "execution_count": null,
   "id": "5b5ec687-9045-483b-bb2a-f589075f01d4",
   "metadata": {},
   "outputs": [],
   "source": [
    "import sklearn\n",
    "from sklearn.datasets import fetch_openml\n",
    "from sklearn.model_selection import train_test_split\n",
    "from sklearn.linear_model import LogisticRegression\n",
    "import pandas as pd \n",
    "from sklearn.preprocessing import StandardScaler\n",
    "from sklearn.svm import SVC\n",
    "from sklearn.tree import DecisionTreeClassifier\n",
    "from sklearn.ensemble import RandomForestClassifier\n",
    "from xgboost import XGBClassifier\n",
    "\n",
    "from sklearn.metrics import (\n",
    "    accuracy_score, \n",
    "    confusion_matrix, \n",
    "    classification_report, \n",
    "    roc_auc_score, \n",
    "    roc_curve, \n",
    "    precision_recall_curve, \n",
    "    average_precision_score\n",
    ")\n",
    "\n",
    "import matplotlib.pyplot as plt\n",
    "import seaborn as sns\n",
    "import numpy as np"
   ]
  },
  {
   "cell_type": "code",
   "execution_count": 5,
   "id": "b5341033-180b-462d-aaeb-ddeae989146b",
   "metadata": {},
   "outputs": [
    {
     "name": "stdout",
     "output_type": "stream",
     "text": [
      "sklearn 1.7.2\n"
     ]
    },
    {
     "name": "stderr",
     "output_type": "stream",
     "text": [
      "C:\\Users\\bbuser\\anaconda3\\Lib\\site-packages\\sklearn\\linear_model\\_logistic.py:1272: FutureWarning: 'multi_class' was deprecated in version 1.5 and will be removed in 1.8. From then on, it will always use 'multinomial'. Leave it to its default value to avoid this warning.\n",
      "  warnings.warn(\n"
     ]
    },
    {
     "name": "stdout",
     "output_type": "stream",
     "text": [
      "train acc: 0.9396428571428571 test acc: 0.9208571428571428\n"
     ]
    }
   ],
   "source": [
    "import sklearn\n",
    "from sklearn.datasets import fetch_openml\n",
    "from sklearn.model_selection import train_test_split\n",
    "from sklearn.linear_model import LogisticRegression\n",
    "\n",
    "print(\"sklearn\", sklearn.__version__)\n",
    "\n",
    "X, y = fetch_openml(\"mnist_784\", version=1, as_frame=False, return_X_y=True)\n",
    "X = X / 255.0\n",
    "X_train, X_test, y_train, y_test = train_test_split(X, y, test_size=0.2, random_state=42)\n",
    "\n",
    "clf = LogisticRegression(max_iter=1000, solver='saga', multi_class='multinomial', random_state=42)\n",
    "clf.fit(X_train, y_train)\n",
    "print(\"train acc:\", clf.score(X_train, y_train), \"test acc:\", clf.score(X_test, y_test))"
   ]
  },
  {
   "cell_type": "markdown",
   "id": "66b6ac93-ca38-45d0-bf32-4512d9f86fbe",
   "metadata": {},
   "source": [
    "###  Load Data"
   ]
  },
  {
   "cell_type": "code",
   "execution_count": 7,
   "id": "80c29511-7271-402a-8c95-b1d9fee792a3",
   "metadata": {},
   "outputs": [
    {
     "name": "stdout",
     "output_type": "stream",
     "text": [
      "Dataset shape: (284807, 31)\n"
     ]
    },
    {
     "data": {
      "text/html": [
       "<div>\n",
       "<style scoped>\n",
       "    .dataframe tbody tr th:only-of-type {\n",
       "        vertical-align: middle;\n",
       "    }\n",
       "\n",
       "    .dataframe tbody tr th {\n",
       "        vertical-align: top;\n",
       "    }\n",
       "\n",
       "    .dataframe thead th {\n",
       "        text-align: right;\n",
       "    }\n",
       "</style>\n",
       "<table border=\"1\" class=\"dataframe\">\n",
       "  <thead>\n",
       "    <tr style=\"text-align: right;\">\n",
       "      <th></th>\n",
       "      <th>Time</th>\n",
       "      <th>V1</th>\n",
       "      <th>V2</th>\n",
       "      <th>V3</th>\n",
       "      <th>V4</th>\n",
       "      <th>V5</th>\n",
       "      <th>V6</th>\n",
       "      <th>V7</th>\n",
       "      <th>V8</th>\n",
       "      <th>V9</th>\n",
       "      <th>...</th>\n",
       "      <th>V21</th>\n",
       "      <th>V22</th>\n",
       "      <th>V23</th>\n",
       "      <th>V24</th>\n",
       "      <th>V25</th>\n",
       "      <th>V26</th>\n",
       "      <th>V27</th>\n",
       "      <th>V28</th>\n",
       "      <th>Amount</th>\n",
       "      <th>Class</th>\n",
       "    </tr>\n",
       "  </thead>\n",
       "  <tbody>\n",
       "    <tr>\n",
       "      <th>0</th>\n",
       "      <td>0.0</td>\n",
       "      <td>-1.359807</td>\n",
       "      <td>-0.072781</td>\n",
       "      <td>2.536347</td>\n",
       "      <td>1.378155</td>\n",
       "      <td>-0.338321</td>\n",
       "      <td>0.462388</td>\n",
       "      <td>0.239599</td>\n",
       "      <td>0.098698</td>\n",
       "      <td>0.363787</td>\n",
       "      <td>...</td>\n",
       "      <td>-0.018307</td>\n",
       "      <td>0.277838</td>\n",
       "      <td>-0.110474</td>\n",
       "      <td>0.066928</td>\n",
       "      <td>0.128539</td>\n",
       "      <td>-0.189115</td>\n",
       "      <td>0.133558</td>\n",
       "      <td>-0.021053</td>\n",
       "      <td>149.62</td>\n",
       "      <td>0</td>\n",
       "    </tr>\n",
       "    <tr>\n",
       "      <th>1</th>\n",
       "      <td>0.0</td>\n",
       "      <td>1.191857</td>\n",
       "      <td>0.266151</td>\n",
       "      <td>0.166480</td>\n",
       "      <td>0.448154</td>\n",
       "      <td>0.060018</td>\n",
       "      <td>-0.082361</td>\n",
       "      <td>-0.078803</td>\n",
       "      <td>0.085102</td>\n",
       "      <td>-0.255425</td>\n",
       "      <td>...</td>\n",
       "      <td>-0.225775</td>\n",
       "      <td>-0.638672</td>\n",
       "      <td>0.101288</td>\n",
       "      <td>-0.339846</td>\n",
       "      <td>0.167170</td>\n",
       "      <td>0.125895</td>\n",
       "      <td>-0.008983</td>\n",
       "      <td>0.014724</td>\n",
       "      <td>2.69</td>\n",
       "      <td>0</td>\n",
       "    </tr>\n",
       "    <tr>\n",
       "      <th>2</th>\n",
       "      <td>1.0</td>\n",
       "      <td>-1.358354</td>\n",
       "      <td>-1.340163</td>\n",
       "      <td>1.773209</td>\n",
       "      <td>0.379780</td>\n",
       "      <td>-0.503198</td>\n",
       "      <td>1.800499</td>\n",
       "      <td>0.791461</td>\n",
       "      <td>0.247676</td>\n",
       "      <td>-1.514654</td>\n",
       "      <td>...</td>\n",
       "      <td>0.247998</td>\n",
       "      <td>0.771679</td>\n",
       "      <td>0.909412</td>\n",
       "      <td>-0.689281</td>\n",
       "      <td>-0.327642</td>\n",
       "      <td>-0.139097</td>\n",
       "      <td>-0.055353</td>\n",
       "      <td>-0.059752</td>\n",
       "      <td>378.66</td>\n",
       "      <td>0</td>\n",
       "    </tr>\n",
       "    <tr>\n",
       "      <th>3</th>\n",
       "      <td>1.0</td>\n",
       "      <td>-0.966272</td>\n",
       "      <td>-0.185226</td>\n",
       "      <td>1.792993</td>\n",
       "      <td>-0.863291</td>\n",
       "      <td>-0.010309</td>\n",
       "      <td>1.247203</td>\n",
       "      <td>0.237609</td>\n",
       "      <td>0.377436</td>\n",
       "      <td>-1.387024</td>\n",
       "      <td>...</td>\n",
       "      <td>-0.108300</td>\n",
       "      <td>0.005274</td>\n",
       "      <td>-0.190321</td>\n",
       "      <td>-1.175575</td>\n",
       "      <td>0.647376</td>\n",
       "      <td>-0.221929</td>\n",
       "      <td>0.062723</td>\n",
       "      <td>0.061458</td>\n",
       "      <td>123.50</td>\n",
       "      <td>0</td>\n",
       "    </tr>\n",
       "    <tr>\n",
       "      <th>4</th>\n",
       "      <td>2.0</td>\n",
       "      <td>-1.158233</td>\n",
       "      <td>0.877737</td>\n",
       "      <td>1.548718</td>\n",
       "      <td>0.403034</td>\n",
       "      <td>-0.407193</td>\n",
       "      <td>0.095921</td>\n",
       "      <td>0.592941</td>\n",
       "      <td>-0.270533</td>\n",
       "      <td>0.817739</td>\n",
       "      <td>...</td>\n",
       "      <td>-0.009431</td>\n",
       "      <td>0.798278</td>\n",
       "      <td>-0.137458</td>\n",
       "      <td>0.141267</td>\n",
       "      <td>-0.206010</td>\n",
       "      <td>0.502292</td>\n",
       "      <td>0.219422</td>\n",
       "      <td>0.215153</td>\n",
       "      <td>69.99</td>\n",
       "      <td>0</td>\n",
       "    </tr>\n",
       "  </tbody>\n",
       "</table>\n",
       "<p>5 rows × 31 columns</p>\n",
       "</div>"
      ],
      "text/plain": [
       "   Time        V1        V2        V3        V4        V5        V6        V7  \\\n",
       "0   0.0 -1.359807 -0.072781  2.536347  1.378155 -0.338321  0.462388  0.239599   \n",
       "1   0.0  1.191857  0.266151  0.166480  0.448154  0.060018 -0.082361 -0.078803   \n",
       "2   1.0 -1.358354 -1.340163  1.773209  0.379780 -0.503198  1.800499  0.791461   \n",
       "3   1.0 -0.966272 -0.185226  1.792993 -0.863291 -0.010309  1.247203  0.237609   \n",
       "4   2.0 -1.158233  0.877737  1.548718  0.403034 -0.407193  0.095921  0.592941   \n",
       "\n",
       "         V8        V9  ...       V21       V22       V23       V24       V25  \\\n",
       "0  0.098698  0.363787  ... -0.018307  0.277838 -0.110474  0.066928  0.128539   \n",
       "1  0.085102 -0.255425  ... -0.225775 -0.638672  0.101288 -0.339846  0.167170   \n",
       "2  0.247676 -1.514654  ...  0.247998  0.771679  0.909412 -0.689281 -0.327642   \n",
       "3  0.377436 -1.387024  ... -0.108300  0.005274 -0.190321 -1.175575  0.647376   \n",
       "4 -0.270533  0.817739  ... -0.009431  0.798278 -0.137458  0.141267 -0.206010   \n",
       "\n",
       "        V26       V27       V28  Amount  Class  \n",
       "0 -0.189115  0.133558 -0.021053  149.62      0  \n",
       "1  0.125895 -0.008983  0.014724    2.69      0  \n",
       "2 -0.139097 -0.055353 -0.059752  378.66      0  \n",
       "3 -0.221929  0.062723  0.061458  123.50      0  \n",
       "4  0.502292  0.219422  0.215153   69.99      0  \n",
       "\n",
       "[5 rows x 31 columns]"
      ]
     },
     "execution_count": 7,
     "metadata": {},
     "output_type": "execute_result"
    }
   ],
   "source": [
    "import pandas as pd \n",
    "data = pd.read_csv(r\"C:\\Users\\bbuser\\Desktop\\Jupyter\\creditcard.csv\")\n",
    "\n",
    "print(\"Dataset shape:\", data.shape)\n",
    "data.head()"
   ]
  },
  {
   "cell_type": "markdown",
   "id": "744087ee-753a-4064-a5d4-cbafffae42cd",
   "metadata": {},
   "source": [
    "### Features and Target"
   ]
  },
  {
   "cell_type": "code",
   "execution_count": 8,
   "id": "33519597-4961-4ecc-a71d-14c119318eb5",
   "metadata": {},
   "outputs": [],
   "source": [
    "X = data.drop(\"Class\", axis=1)\n",
    "y = data[\"Class\"]"
   ]
  },
  {
   "cell_type": "markdown",
   "id": "6743f261-f683-48ef-a3c3-6f9cdf532225",
   "metadata": {},
   "source": [
    "### Train/Test Split"
   ]
  },
  {
   "cell_type": "code",
   "execution_count": 9,
   "id": "7bef245f-33da-4894-b5f7-ed09a177c1c8",
   "metadata": {},
   "outputs": [],
   "source": [
    "X_train, X_test, y_train, y_test = train_test_split(\n",
    "    X, y, test_size=0.2, random_state=42, stratify=y\n",
    ")"
   ]
  },
  {
   "cell_type": "markdown",
   "id": "5b09d921-fd58-4e23-bcc5-b318b9d39c6a",
   "metadata": {},
   "source": [
    "### Normalize Features"
   ]
  },
  {
   "cell_type": "code",
   "execution_count": 11,
   "id": "97ccc300-e1cb-4d8b-9992-db55a94cd91b",
   "metadata": {},
   "outputs": [],
   "source": [
    "from sklearn.preprocessing import StandardScaler\n",
    "scaler = StandardScaler()\n",
    "X_train = scaler.fit_transform(X_train)\n",
    "X_test = scaler.transform(X_test)"
   ]
  },
  {
   "cell_type": "markdown",
   "id": "dc7c4c66-a498-4da5-ac27-1eebb137811c",
   "metadata": {},
   "source": [
    "### Models"
   ]
  },
  {
   "cell_type": "code",
   "execution_count": 15,
   "id": "c358f678-efca-4faf-b151-f34371ba9877",
   "metadata": {},
   "outputs": [],
   "source": [
    "from sklearn.svm import SVC\n",
    "from sklearn.tree import DecisionTreeClassifier\n",
    "from sklearn.ensemble import RandomForestClassifier\n",
    "from xgboost import XGBClassifier\n",
    "\n",
    "models = {\n",
    "    \"Logistic Regression\": LogisticRegression(max_iter=1000, random_state=42),\n",
    "    \"SVM\": SVC(kernel=\"rbf\", probability=True, random_state=42),\n",
    "    \"Decision Tree\": DecisionTreeClassifier(random_state=42),\n",
    "    \"Random Forest\": RandomForestClassifier(n_estimators=100, random_state=42),\n",
    "    \"XGBoost\": XGBClassifier(use_label_encoder=False, eval_metric=\"logloss\", random_state=42),\n",
    "}\n",
    "\n",
    "results = {}\n",
    "misclassified_samples = {}"
   ]
  },
  {
   "cell_type": "markdown",
   "id": "93faea99-dbcd-4bd3-8ba8-2a40f36bed7f",
   "metadata": {},
   "source": [
    "### Training & Evaluation"
   ]
  },
  {
   "cell_type": "code",
   "execution_count": 22,
   "id": "43b5f88f-97ba-476f-b6ea-def066d9225d",
   "metadata": {},
   "outputs": [
    {
     "name": "stdout",
     "output_type": "stream",
     "text": [
      "\n",
      "===== Logistic Regression =====\n",
      "Accuracy: 0.9991397773954567\n",
      "              precision    recall  f1-score   support\n",
      "\n",
      "           0     0.9994    0.9998    0.9996     56864\n",
      "           1     0.8267    0.6327    0.7168        98\n",
      "\n",
      "    accuracy                         0.9991     56962\n",
      "   macro avg     0.9130    0.8162    0.8582     56962\n",
      "weighted avg     0.9991    0.9991    0.9991     56962\n",
      "\n"
     ]
    },
    {
     "data": {
      "image/png": "[encoded data removed]",
      "text/plain": [
       "<Figure size 400x300 with 2 Axes>"
      ]
     },
     "metadata": {},
     "output_type": "display_data"
    },
    {
     "name": "stdout",
     "output_type": "stream",
     "text": [
      "\n",
      "===== SVM =====\n",
      "Accuracy: 0.999420666409185\n",
      "              precision    recall  f1-score   support\n",
      "\n",
      "           0     0.9995    0.9999    0.9997     56864\n",
      "           1     0.9577    0.6939    0.8047        98\n",
      "\n",
      "    accuracy                         0.9994     56962\n",
      "   macro avg     0.9786    0.8469    0.9022     56962\n",
      "weighted avg     0.9994    0.9994    0.9994     56962\n",
      "\n"
     ]
    },
    {
     "data": {
      "image/png": "[encoded data removed]",
      "text/plain": [
       "<Figure size 400x300 with 2 Axes>"
      ]
     },
     "metadata": {},
     "output_type": "display_data"
    },
    {
     "name": "stdout",
     "output_type": "stream",
     "text": [
      "\n",
      "===== Decision Tree =====\n",
      "Accuracy: 0.9991397773954567\n",
      "              precision    recall  f1-score   support\n",
      "\n",
      "           0     0.9996    0.9996    0.9996     56864\n",
      "           1     0.7526    0.7449    0.7487        98\n",
      "\n",
      "    accuracy                         0.9991     56962\n",
      "   macro avg     0.8761    0.8722    0.8741     56962\n",
      "weighted avg     0.9991    0.9991    0.9991     56962\n",
      "\n"
     ]
    },
    {
     "data": {
      "image/png": "[encoded data removed]",
      "text/plain": [
       "<Figure size 400x300 with 2 Axes>"
      ]
     },
     "metadata": {},
     "output_type": "display_data"
    },
    {
     "name": "stdout",
     "output_type": "stream",
     "text": [
      "\n",
      "===== Random Forest =====\n",
      "Accuracy: 0.9995962220427653\n",
      "              precision    recall  f1-score   support\n",
      "\n",
      "           0     0.9997    0.9999    0.9998     56864\n",
      "           1     0.9412    0.8163    0.8743        98\n",
      "\n",
      "    accuracy                         0.9996     56962\n",
      "   macro avg     0.9704    0.9081    0.9371     56962\n",
      "weighted avg     0.9996    0.9996    0.9996     56962\n",
      "\n"
     ]
    },
    {
     "data": {
      "image/png": "[encoded data removed]",
      "text/plain": [
       "<Figure size 400x300 with 2 Axes>"
      ]
     },
     "metadata": {},
     "output_type": "display_data"
    },
    {
     "name": "stdout",
     "output_type": "stream",
     "text": [
      "\n",
      "===== XGBoost =====\n"
     ]
    },
    {
     "name": "stderr",
     "output_type": "stream",
     "text": [
      "C:\\Users\\bbuser\\anaconda3\\Lib\\site-packages\\xgboost\\training.py:183: UserWarning: [16:20:51] WARNING: C:\\actions-runner\\_work\\xgboost\\xgboost\\src\\learner.cc:738: \n",
      "Parameters: { \"use_label_encoder\" } are not used.\n",
      "\n",
      "  bst.update(dtrain, iteration=i, fobj=obj)\n"
     ]
    },
    {
     "name": "stdout",
     "output_type": "stream",
     "text": [
      "Accuracy: 0.9994382219725431\n",
      "              precision    recall  f1-score   support\n",
      "\n",
      "           0     0.9996    0.9998    0.9997     56864\n",
      "           1     0.8667    0.7959    0.8298        98\n",
      "\n",
      "    accuracy                         0.9994     56962\n",
      "   macro avg     0.9332    0.8979    0.9148     56962\n",
      "weighted avg     0.9994    0.9994    0.9994     56962\n",
      "\n"
     ]
    },
    {
     "data": {
      "image/png": "[encoded data removed]",
      "text/plain": [
       "<Figure size 400x300 with 2 Axes>"
      ]
     },
     "metadata": {},
     "output_type": "display_data"
    }
   ],
   "source": [
    "from sklearn.metrics import (\n",
    "    accuracy_score, \n",
    "    confusion_matrix, \n",
    "    classification_report, \n",
    "    roc_auc_score, \n",
    "    roc_curve, \n",
    "    precision_recall_curve, \n",
    "    average_precision_score\n",
    ")\n",
    "\n",
    "import matplotlib.pyplot as plt\n",
    "import seaborn as sns\n",
    "import numpy as np\n",
    "\n",
    "misclassified_samples = {}\n",
    "\n",
    "for name, model in models.items():\n",
    "    print(f\"\\n===== {name} =====\")\n",
    "    model.fit(X_train, y_train)\n",
    "    y_pred = model.predict(X_test)\n",
    "    \n",
    "    # Metrics\n",
    "    acc = accuracy_score(y_test, y_pred)\n",
    "    results[name] = acc\n",
    "    \n",
    "    print(\"Accuracy:\", acc)\n",
    "    print(classification_report(y_test, y_pred, digits=4))\n",
    "    \n",
    "    # Confusion Matrix\n",
    "    cm = confusion_matrix(y_test, y_pred)\n",
    "    plt.figure(figsize=(4, 3))\n",
    "    sns.heatmap(cm, annot=True, fmt=\"d\", cmap=\"Blues\")\n",
    "    plt.title(f\"Confusion Matrix - {name}\")\n",
    "    plt.xlabel(\"Predicted\")\n",
    "    plt.ylabel(\"True\")\n",
    "    plt.show()\n",
    "    \n",
    "    # Store some misclassified samples\n",
    "    misclassified = np.where(y_test != y_pred)[0][:10]  # first 10 mistakes\n",
    "    misclassified_samples[name] = (X_test[misclassified], y_test.iloc[misclassified], y_pred[misclassified])"
   ]
  },
  {
   "cell_type": "markdown",
   "id": "abbdf244-43e0-4e10-a466-4b3f5a48313c",
   "metadata": {},
   "source": [
    "### Accuracy Comparison"
   ]
  },
  {
   "cell_type": "code",
   "execution_count": 23,
   "id": "85ad905f-85b9-49ac-a8cf-1d2a6307d86e",
   "metadata": {},
   "outputs": [
    {
     "data": {
      "image/png": "[encoded data removed]",
      "text/plain": [
       "<Figure size 800x500 with 1 Axes>"
      ]
     },
     "metadata": {},
     "output_type": "display_data"
    }
   ],
   "source": [
    "plt.figure(figsize=(8, 5))\n",
    "sns.barplot(x=list(results.keys()), y=list(results.values()))\n",
    "plt.ylabel(\"Accuracy\")\n",
    "plt.title(\"Model Accuracy Comparison\")\n",
    "plt.xticks(rotation=45)\n",
    "plt.show()"
   ]
  },
  {
   "cell_type": "markdown",
   "id": "4f8aa84f-a895-434b-9b36-395035faddbf",
   "metadata": {},
   "source": [
    "### Show Misclassified Samples\n",
    "### (Tabular data, so we just print instead of images)"
   ]
  },
  {
   "cell_type": "code",
   "execution_count": 24,
   "id": "902ce6e9-b1cf-4ca8-a9f6-6d634b78f5e6",
   "metadata": {},
   "outputs": [
    {
     "name": "stdout",
     "output_type": "stream",
     "text": [
      "\n",
      "--- Misclassified samples for Logistic Regression ---\n",
      "True: 0, Predicted: 1, Features: [ -1.44599992  -9.1639347    6.7113123  -13.68866016   4.29105504]...\n",
      "True: 0, Predicted: 1, Features: [-1.39122855 -1.11391727  2.07561841 -4.37413156  2.89308495]...\n",
      "True: 1, Predicted: 0, Features: [-1.08218407 -0.65287619  0.43461735 -0.75424304  0.15384566]...\n",
      "True: 0, Predicted: 1, Features: [-1.54791974 -3.36871158  3.8127405  -7.65652386  4.1245581 ]...\n",
      "True: 1, Predicted: 0, Features: [-1.03907873 -0.77595709  1.40015112 -0.99203272  1.45785213]...\n",
      "True: 1, Predicted: 0, Features: [ 0.84673271  0.11828816  0.56966291 -3.06700358  2.17525375]...\n",
      "True: 1, Predicted: 0, Features: [-0.86227733 -1.04312693  0.95450235 -1.56555573 -0.40445743]...\n",
      "True: 1, Predicted: 0, Features: [ 1.00982548 -1.84522261 -0.55888725 -3.1343884   2.38230587]...\n",
      "True: 1, Predicted: 0, Features: [-1.73710314 -2.07501964  1.88068464 -0.78408473  2.30576703]...\n",
      "True: 1, Predicted: 0, Features: [ 0.03857594 -1.89219004  2.49128749 -2.50993237  1.20797916]...\n",
      "\n",
      "--- Misclassified samples for SVM ---\n",
      "True: 0, Predicted: 1, Features: [ 0.71331041 -0.64980271  1.10854942 -2.51452145  0.41231302]...\n",
      "True: 0, Predicted: 1, Features: [ -1.44599992  -9.1639347    6.7113123  -13.68866016   4.29105504]...\n",
      "True: 1, Predicted: 0, Features: [-1.12811117 -7.0947218   3.8474348  -9.4247917   3.94178313]...\n",
      "True: 1, Predicted: 0, Features: [ -1.46745783  -8.11897397   6.30311625 -12.62677888   4.3690557 ]...\n",
      "True: 1, Predicted: 0, Features: [  0.11398397 -11.40560622   9.421333   -15.08942856   4.97462567]...\n",
      "True: 1, Predicted: 0, Features: [-1.73710314 -2.07501964  1.88068464 -0.78408473  2.30576703]...\n",
      "True: 1, Predicted: 0, Features: [ 0.03857594 -1.89219004  2.49128749 -2.50993237  1.20797916]...\n",
      "True: 1, Predicted: 0, Features: [-1.37086564  0.47116194  0.20892089 -1.90037715  1.2160065 ]...\n",
      "True: 1, Predicted: 0, Features: [-1.06032606 -0.12033031  0.21581231  1.30177529 -0.88678928]...\n",
      "True: 1, Predicted: 0, Features: [ 0.32011891  0.98735525  0.39485974 -0.18912169  2.81654727]...\n",
      "\n",
      "--- Misclassified samples for Decision Tree ---\n",
      "True: 0, Predicted: 1, Features: [ 0.71331041 -0.64980271  1.10854942 -2.51452145  0.41231302]...\n",
      "True: 0, Predicted: 1, Features: [ -0.9402123   -9.46315617 -11.31620304  -0.68116436   4.6040762 ]...\n",
      "True: 0, Predicted: 1, Features: [-1.69387145  0.26850129  0.19088464 -0.32808972  0.67774138]...\n",
      "True: 1, Predicted: 0, Features: [ -1.46745783  -8.11897397   6.30311625 -12.62677888   4.3690557 ]...\n",
      "True: 1, Predicted: 0, Features: [ 1.00982548 -1.84522261 -0.55888725 -3.1343884   2.38230587]...\n",
      "True: 1, Predicted: 0, Features: [ -1.46676293  -8.47377616   6.39276192 -13.07908819   4.24992406]...\n",
      "True: 0, Predicted: 1, Features: [ 1.32381854  0.50780049  1.12844728 -3.232555    1.44470228]...\n",
      "True: 0, Predicted: 1, Features: [-0.27489067 -1.73455515  1.58104494  0.63481958 -1.60218217]...\n",
      "True: 1, Predicted: 0, Features: [-1.24481357 -1.64363286  1.64273537 -2.15315924  0.96187606]...\n",
      "True: 0, Predicted: 1, Features: [ 0.08462938 -1.37373907  0.88882227 -0.45632253  3.0531712 ]...\n",
      "\n",
      "--- Misclassified samples for Random Forest ---\n",
      "True: 0, Predicted: 1, Features: [ 0.71331041 -0.64980271  1.10854942 -2.51452145  0.41231302]...\n",
      "True: 0, Predicted: 1, Features: [ -1.44599992  -9.1639347    6.7113123  -13.68866016   4.29105504]...\n",
      "True: 1, Predicted: 0, Features: [ -1.46745783  -8.11897397   6.30311625 -12.62677888   4.3690557 ]...\n",
      "True: 0, Predicted: 1, Features: [ 0.08462938 -1.37373907  0.88882227 -0.45632253  3.0531712 ]...\n",
      "True: 1, Predicted: 0, Features: [-1.06032606 -0.12033031  0.21581231  1.30177529 -0.88678928]...\n",
      "True: 1, Predicted: 0, Features: [ 0.32011891  0.98735525  0.39485974 -0.18912169  2.81654727]...\n",
      "True: 1, Predicted: 0, Features: [-1.98813333 -1.55408797 -1.91428514  0.71857301  1.61644295]...\n",
      "True: 1, Predicted: 0, Features: [-0.61398465  0.62627282 -0.40537101 -0.17910894 -0.41629707]...\n",
      "True: 1, Predicted: 0, Features: [-1.14994812  0.59143667  1.72536238 -2.67295309  3.37442063]...\n",
      "True: 1, Predicted: 0, Features: [-0.88592525 -0.56288241 -0.98961332  0.59490273  0.59876699]...\n",
      "\n",
      "--- Misclassified samples for XGBoost ---\n",
      "True: 0, Predicted: 1, Features: [ -1.44599992  -9.1639347    6.7113123  -13.68866016   4.29105504]...\n",
      "True: 1, Predicted: 0, Features: [ -1.46745783  -8.11897397   6.30311625 -12.62677888   4.3690557 ]...\n",
      "True: 0, Predicted: 1, Features: [ 0.36655139 -0.41117172  0.51226982  0.23280035 -0.48520686]...\n",
      "True: 1, Predicted: 0, Features: [-1.06032606 -0.12033031  0.21581231  1.30177529 -0.88678928]...\n",
      "True: 0, Predicted: 1, Features: [-1.20623565 -1.32556065  0.61369941 -1.65063723  0.02104289]...\n",
      "True: 1, Predicted: 0, Features: [ 0.32011891  0.98735525  0.39485974 -0.18912169  2.81654727]...\n",
      "True: 1, Predicted: 0, Features: [-1.98813333 -1.55408797 -1.91428514  0.71857301  1.61644295]...\n",
      "True: 1, Predicted: 0, Features: [-0.61398465  0.62627282 -0.40537101 -0.17910894 -0.41629707]...\n",
      "True: 1, Predicted: 0, Features: [-0.88592525 -0.56288241 -0.98961332  0.59490273  0.59876699]...\n",
      "True: 1, Predicted: 0, Features: [-0.07124056  0.00336092  1.43452772 -1.71578116  0.78511884]...\n"
     ]
    }
   ],
   "source": [
    "for name, (X_mis, y_true, y_pred) in misclassified_samples.items():\n",
    "    print(f\"\\n--- Misclassified samples for {name} ---\")\n",
    "    for i in range(len(X_mis)):\n",
    "        print(f\"True: {y_true.iloc[i]}, Predicted: {y_pred[i]}, Features: {X_mis[i][:5]}...\")  # print first 5 features"
   ]
  }
 ],
 "metadata": {
  "kernelspec": {
   "display_name": "Python [conda env:base] *",
   "language": "python",
   "name": "conda-base-py"
  },
  "language_info": {
   "codemirror_mode": {
    "name": "ipython",
    "version": 3
   },
   "file_extension": ".py",
   "mimetype": "text/x-python",
   "name": "python",
   "nbconvert_exporter": "python",
   "pygments_lexer": "ipython3",
   "version": "3.13.5"
  }
 },
 "nbformat": 4,
 "nbformat_minor": 5
}
