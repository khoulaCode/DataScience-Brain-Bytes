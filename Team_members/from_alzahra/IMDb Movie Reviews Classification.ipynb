{
 "cells": [
  {
   "cell_type": "markdown",
   "id": "dbb21d27-d94e-432e-96f4-209798fee0f6",
   "metadata": {},
   "source": [
    "## IMDb Movie Reviews Classification"
   ]
  },
  {
   "cell_type": "markdown",
   "id": "4556ce78-fdf7-4af9-b0fe-61f946e5176d",
   "metadata": {},
   "source": [
    "## Data Loading"
   ]
  },
  {
   "cell_type": "code",
   "execution_count": 3,
   "id": "97547bf8-60ab-46e4-97aa-5e5a8914ab7c",
   "metadata": {},
   "outputs": [
    {
     "name": "stdout",
     "output_type": "stream",
     "text": [
      "   label                                     cleaned_review\n",
      "0      1  bromwell high cartoon comedy ran time program ...\n",
      "1      1  homelessness houselessness george carlin state...\n",
      "2      1  brilliant overacting lesley ann warren best dr...\n",
      "3      1  easily underrated film inn brook cannon sure f...\n",
      "4      1  typical mel brook film much less slapstick mov...\n"
     ]
    }
   ],
   "source": [
    "import pandas as pd\n",
    "\n",
    "# Load dataset (adjust path if needed)\n",
    "df = pd.read_csv(\"cleaned_imdb_reviews.csv\")\n",
    "\n",
    "# Keep only required columns\n",
    "df = df[['label', 'cleaned_review']]\n",
    "print(df.head())"
   ]
  },
  {
   "cell_type": "markdown",
   "id": "af53936c-64ba-4ca0-a7f5-2576eb06f002",
   "metadata": {},
   "source": [
    "## 2. Feature Extraction (TF-IDF Vectorization)"
   ]
  },
  {
   "cell_type": "code",
   "execution_count": 5,
   "id": "871d844d-0aeb-42e3-9078-031528c01bc2",
   "metadata": {},
   "outputs": [],
   "source": [
    "from sklearn.model_selection import train_test_split\n",
    "from sklearn.feature_extraction.text import TfidfVectorizer\n",
    "\n",
    "# Features and labels\n",
    "X = df['cleaned_review']\n",
    "y = df['label']\n",
    "\n",
    "# Train-test split (80/20)\n",
    "X_train, X_test, y_train, y_test = train_test_split(X, y, test_size=0.2, random_state=42, stratify=y)\n",
    "\n",
    "# TF-IDF vectorization\n",
    "vectorizer = TfidfVectorizer(max_features=5000)  # limit to top 5000 words\n",
    "X_train_tfidf = vectorizer.fit_transform(X_train)\n",
    "X_test_tfidf = vectorizer.transform(X_test)"
   ]
  },
  {
   "cell_type": "markdown",
   "id": "65a003f2-b214-422f-aa81-402911b9d9d3",
   "metadata": {},
   "source": [
    "## 3. Model Training"
   ]
  },
  {
   "cell_type": "code",
   "execution_count": 6,
   "id": "dc27e47f-f6bd-4367-ba4d-c1a3de93febd",
   "metadata": {},
   "outputs": [],
   "source": [
    "from sklearn.linear_model import LogisticRegression\n",
    "from sklearn.tree import DecisionTreeClassifier\n",
    "from sklearn.ensemble import RandomForestClassifier\n",
    "\n",
    "# Define models\n",
    "models = {\n",
    "    \"Logistic Regression\": LogisticRegression(max_iter=1000, random_state=42),\n",
    "    \"Decision Tree\": DecisionTreeClassifier(random_state=42),\n",
    "    \"Random Forest\": RandomForestClassifier(n_estimators=200, random_state=42)\n",
    "}\n",
    "\n",
    "# Train models\n",
    "for name, model in models.items():\n",
    "    model.fit(X_train_tfidf, y_train)"
   ]
  },
  {
   "cell_type": "markdown",
   "id": "a32de63b-6d3d-476a-b9e6-488e45e7b2b0",
   "metadata": {},
   "source": [
    "## 4. Model Evaluation"
   ]
  },
  {
   "cell_type": "code",
   "execution_count": 8,
   "id": "5ef9294a-fcf7-4564-b535-23e56927e891",
   "metadata": {},
   "outputs": [
    {
     "name": "stdout",
     "output_type": "stream",
     "text": [
      "[1 0]\n"
     ]
    }
   ],
   "source": [
    "print(y.unique())"
   ]
  },
  {
   "cell_type": "code",
   "execution_count": 9,
   "id": "8e043455-544b-439c-9d56-b0325511a9b8",
   "metadata": {},
   "outputs": [
    {
     "name": "stdout",
     "output_type": "stream",
     "text": [
      "--- Logistic Regression ---\n",
      "              precision    recall  f1-score   support\n",
      "\n",
      "           0       0.88      0.86      0.87      2500\n",
      "           1       0.86      0.88      0.87      2500\n",
      "\n",
      "    accuracy                           0.87      5000\n",
      "   macro avg       0.87      0.87      0.87      5000\n",
      "weighted avg       0.87      0.87      0.87      5000\n",
      "\n",
      "\n",
      "\n",
      "--- Decision Tree ---\n",
      "              precision    recall  f1-score   support\n",
      "\n",
      "           0       0.69      0.70      0.69      2500\n",
      "           1       0.69      0.69      0.69      2500\n",
      "\n",
      "    accuracy                           0.69      5000\n",
      "   macro avg       0.69      0.69      0.69      5000\n",
      "weighted avg       0.69      0.69      0.69      5000\n",
      "\n",
      "\n",
      "\n",
      "--- Random Forest ---\n",
      "              precision    recall  f1-score   support\n",
      "\n",
      "           0       0.84      0.85      0.84      2500\n",
      "           1       0.85      0.84      0.84      2500\n",
      "\n",
      "    accuracy                           0.84      5000\n",
      "   macro avg       0.84      0.84      0.84      5000\n",
      "weighted avg       0.84      0.84      0.84      5000\n",
      "\n",
      "\n",
      "\n"
     ]
    }
   ],
   "source": [
    "from sklearn.metrics import accuracy_score, precision_score, recall_score, f1_score, classification_report\n",
    "\n",
    "results = []\n",
    "\n",
    "for name, model in models.items():\n",
    "    y_pred = model.predict(X_test_tfidf)\n",
    "    acc = accuracy_score(y_test, y_pred)\n",
    "    prec = precision_score(y_test, y_pred, pos_label=1)\n",
    "    rec = recall_score(y_test, y_pred, pos_label=1)\n",
    "    f1 = f1_score(y_test, y_pred, pos_label=1)\n",
    "    \n",
    "    results.append([name, acc, prec, rec, f1])\n",
    "    print(f\"--- {name} ---\")\n",
    "    print(classification_report(y_test, y_pred))\n",
    "    print(\"\\n\")"
   ]
  },
  {
   "cell_type": "markdown",
   "id": "c455cbfb-693a-4d77-a67e-4f843c9c00fc",
   "metadata": {},
   "source": [
    "## 5. Comparison Table"
   ]
  },
  {
   "cell_type": "code",
   "execution_count": 10,
   "id": "b8285370-7b61-4220-b8db-ff84358432b4",
   "metadata": {},
   "outputs": [
    {
     "name": "stdout",
     "output_type": "stream",
     "text": [
      "                 Model  Accuracy  Precision  Recall  F1-Score\n",
      "0  Logistic Regression    0.8690   0.861340  0.8796  0.870374\n",
      "1        Decision Tree    0.6932   0.694288  0.6904  0.692339\n",
      "2        Random Forest    0.8448   0.845630  0.8436  0.844614\n"
     ]
    }
   ],
   "source": [
    "results_df = pd.DataFrame(results, columns=[\"Model\", \"Accuracy\", \"Precision\", \"Recall\", \"F1-Score\"])\n",
    "print(results_df)"
   ]
  },
  {
   "cell_type": "markdown",
   "id": "7aa629b5-2f18-401d-aa6b-53ecdff1cba4",
   "metadata": {},
   "source": [
    "## 6. Example Predictions"
   ]
  },
  {
   "cell_type": "code",
   "execution_count": 14,
   "id": "d38e977b-1adb-4eae-8708-b80eee673ef0",
   "metadata": {},
   "outputs": [
    {
     "name": "stdout",
     "output_type": "stream",
     "text": [
      "Logistic Regression predictions: ['positive', 'negative', 'negative']\n",
      "Decision Tree predictions: ['positive', 'negative', 'negative']\n",
      "Random Forest predictions: ['positive', 'negative', 'negative']\n"
     ]
    }
   ],
   "source": [
    "# Step 6: Example Predictions (Fixed)\n",
    "\n",
    "# Mapping numeric labels back to text\n",
    "label_map = {0: \"negative\", 1: \"positive\"}\n",
    "\n",
    "# Example reviews\n",
    "sample_reviews = [\n",
    "    \"the movie was absolutely fantastic and thrilling\",\n",
    "    \"it was boring, I fell asleep after 20 minutes\",\n",
    "    \"not bad, but could have been better\"\n",
    "]\n",
    "\n",
    "# Transform reviews into TF-IDF features\n",
    "sample_tfidf = vectorizer.transform(sample_reviews)\n",
    "\n",
    "# Make predictions with each model\n",
    "for name, model in models.items():\n",
    "    preds = model.predict(sample_tfidf)\n",
    "    # Convert np.int64 → int → label text\n",
    "    preds_labels = [label_map[int(p)] for p in preds]\n",
    "    print(f\"{name} predictions: {preds_labels}\")"
   ]
  },
  {
   "cell_type": "markdown",
   "id": "2d84affb-c2c1-4119-afbc-455a1fe43c7c",
   "metadata": {},
   "source": [
    "## Task Is Done ! "
   ]
  },
  {
   "cell_type": "code",
   "execution_count": null,
   "id": "50c5179c-579f-46c1-982a-760760934d37",
   "metadata": {},
   "outputs": [],
   "source": []
  }
 ],
 "metadata": {
  "kernelspec": {
   "display_name": "Python [conda env:base] *",
   "language": "python",
   "name": "conda-base-py"
  },
  "language_info": {
   "codemirror_mode": {
    "name": "ipython",
    "version": 3
   },
   "file_extension": ".py",
   "mimetype": "text/x-python",
   "name": "python",
   "nbconvert_exporter": "python",
   "pygments_lexer": "ipython3",
   "version": "3.13.5"
  }
 },
 "nbformat": 4,
 "nbformat_minor": 5
}
