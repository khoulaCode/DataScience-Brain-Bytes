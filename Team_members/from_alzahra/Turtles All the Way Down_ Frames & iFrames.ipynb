{
 "cells": [
  {
   "cell_type": "markdown",
   "id": "85d514a9-f3c0-4f1d-98bd-b83289c834b7",
   "metadata": {},
   "source": [
    "## Turtles All the Way Down: Frames & iFrames"
   ]
  },
  {
   "cell_type": "code",
   "execution_count": null,
   "id": "540e220f-718e-4509-b4f9-d82ed075ae21",
   "metadata": {},
   "outputs": [],
   "source": [
    "import requests"
   ]
  },
  {
   "cell_type": "code",
   "execution_count": 4,
   "id": "678c17b7-24f9-42fb-bdf3-c77eeecd3902",
   "metadata": {},
   "outputs": [
    {
     "name": "stdout",
     "output_type": "stream",
     "text": [
      "<Response [200]>\n"
     ]
    }
   ],
   "source": [
    "url=\"https://www.scrapethissite.com/pages/frames/\"\n",
    "response=requests.get(url)\n",
    "print(response)"
   ]
  },
  {
   "cell_type": "code",
   "execution_count": 5,
   "id": "f44cdeef-0989-4d86-9c26-bb694983ff32",
   "metadata": {},
   "outputs": [
    {
     "data": {
      "text/plain": [
       "200"
      ]
     },
     "execution_count": 5,
     "metadata": {},
     "output_type": "execute_result"
    }
   ],
   "source": [
    "response.status_code"
   ]
  },
  {
   "cell_type": "code",
   "execution_count": 6,
   "id": "2cf8aa25-521f-4c07-ba5f-493c0032bc59",
   "metadata": {},
   "outputs": [
    {
     "data": {
      "text/plain": [
       "b'<!doctype html>\\n<html lang=\"en\">\\n  <head>\\n    <meta charset=\"utf-8\">\\n    <title>Turtles All the Way Down: Frames &amp; iFrames | Scrape This Site | A public sandbox for learning web scraping</title>\\n    <link rel=\"icon\" type=\"image/png\" href=\"/static/images/scraper-icon.png\" />\\n\\n    <meta name=\"viewport\" content=\"width=device-width, initial-scale=1.0\">\\n    <meta name=\"description\" content=\"Some older sites might still use frames to break up thier pages. Modern ones might be using iFrames to expose data. Learn about turtles as you scrape content inside frames.\">\\n\\n    <link href=\"https://maxcdn.bootstrapcdn.com/bootstrap/3.3.5/css/bootstrap.min.css\" rel=\"stylesheet\" integrity=\"sha256-MfvZlkHCEqatNoGiOXveE8FIwMzZg4W85qfrfIFBfYc= sha512-dTfge/zgoMYpP7QbHy4gWMEGsbsdZeCXz7irItjcC3sPUFtf0kuFbDz/ixG7ArTxmDjLXDmezHubeNikyKGVyQ==\" crossorigin=\"anonymous\">\\n    <link href=\\'https://fonts.googleapis.com/css?family=Lato:400,700\\' rel=\\'stylesheet\\' type=\\'text/css\\'>\\n    <link rel=\"stylesheet\" type=\"text/css\" href=\"/static/css/styles.css\">\\n\\n    \\n<meta name=\"robots\" content=\"noindex\">\\n<link href=\"https://lipis.github.io/flag-icon-css/css/flag-icon.css\" rel=\"stylesheet\">\\n\\n\\n  </head>\\n\\n  <body>\\n    <nav id=\"site-nav\">\\n            <div class=\"container\">\\n                <div class=\"col-md-12\">\\n                    <ul class=\"nav nav-tabs\">\\n                        <li id=\"nav-homepage\">\\n                            <a href=\"/\" class=\"nav-link hidden-sm hidden-xs\">\\n                                <img src=\"/static/images/scraper-icon.png\" id=\"nav-logo\">\\n                                Scrape This Site\\n                            </a>\\n                        </li>\\n                        <li id=\"nav-sandbox\">\\n                            <a href=\"/pages/\" class=\"nav-link\">\\n                                <i class=\"glyphicon glyphicon-console hidden-sm hidden-xs\"></i>\\n                                Sandbox\\n                            </a>\\n                        </li>\\n                        <li id=\"nav-lessons\">\\n                            <a href=\"/lessons/\" class=\"nav-link\">\\n                                <i class=\"glyphicon glyphicon-education hidden-sm hidden-xs\"></i>\\n                                Lessons\\n                            </a>\\n                        </li>\\n                        <li id=\"nav-faq\">\\n                            <a href=\"/faq/\" class=\"nav-link\">\\n                                <i class=\"glyphicon glyphicon-flag hidden-sm hidden-xs\"></i>\\n                                FAQ\\n                            </a>\\n                        </li>\\n                        \\n                        <li id=\"nav-login\" class=\"pull-right\">\\n                            <a href=\"/login/\" class=\"nav-link\">\\n                                Login\\n                            </a>\\n                        </li>\\n                        \\n                    </ul>\\n                </div>\\n            </div>\\n        </nav>\\n\\n        <script type=\"text/javascript\">\\n            var path = document.location.pathname;\\n            var tab = undefined;\\n            if (path === \"/\"){\\n                tab = document.querySelector(\"#nav-homepage\");\\n            } else if (path.indexOf(\"/faq/\") === 0){\\n                tab = document.querySelector(\"#nav-faq\");\\n            } else if (path.indexOf(\"/lessons/\") === 0){\\n                tab = document.querySelector(\"#nav-lessons\");\\n            } else if (path.indexOf(\"/pages/\") === 0) {\\n                tab = document.querySelector(\"#nav-sandbox\");\\n            } else if (path.indexOf(\"/login/\") === 0) {\\n                tab = document.querySelector(\"#nav-login\");\\n            }\\n            tab.classList.add(\"active\")\\n        </script>\\n\\n    \\n\\n    \\n\\n        <div id=\"page\">\\n\\n            <section id=\"frames\">\\n                <div class=\"container\">\\n\\n                    <div class=\"row\">\\n                    <div class=\"col-md-12\">\\n                        <h1>\\n                            Turtles All the Way Down: Frames &amp; iFrames\\n                            <small>14 items</small>\\n                        </h1>\\n                        <hr />\\n                    </div>\\n                </div>\\n                <div class=\"row\">\\n                    <div class=\"col-md-12\">\\n                        <p class=\"lead\">\\n                            Some older sites might still use frames to break up thier pages. Modern ones might be using iFrames to expose data. Learn about turtles as you scrape content inside frames.\\n                            See if you can find the &#39;real&#39; URL that our content is being loaded from, and scrape that page. Also practice interating over a list of items and loading their detail pages to get more information about each one.\\n                        </p>\\n                        <hr />\\n                    </div>\\n                </div>\\n                <div class=\"row\">\\n                    <div class=\"col-md-6\">\\n                        <p>\\n                            <i class=\"glyphicon glyphicon-education\"></i> There are <a href=\"/lessons/\">3 video lessons</a> that show you how to scrape this page.\\n                        </p>\\n                        <hr />\\n                    </div>\\n                    <div class=\"col-md-6 text-right\">\\n                        <p>\\n                            \\n                                Data via\\n                                <a href=\"https://en.wikipedia.org/wiki/List_of_Testudines_families\" class=\"data-attribution\" target=\"_blank\">https://en.wikipedia.org/wiki/List_of_Testudines_families</a>\\n                            \\n                        </p>\\n                        <hr />\\n                    </div>\\n                </div>\\n\\n                    <div class=\"row\">\\n                        <div class=\"col-md-12\">\\n                            <frameset rows=\"10%,80%,10%\">\\n                                <frame name=\"top\" src=\"/pages/frames/?frame=top\" />\\n                                <frame name=\"main\" src=\"/pages/frames/?frame=main\" />\\n                                <frame name=\"bottom\" src=\"/pages/frames/frame=bottom\" />\\n                                <noframes>\\n                                        Your browser does not support frames.\\n                                </noframes>\\n                            </frameset>\\n\\n                            <iframe src=\"/pages/frames/?frame=i\" id=\"iframe\">\\n                                Your browser does not support iframes\\n                            </iframe>\\n\\n                        </div><!--.col-->\\n                    </div><!--.row-->\\n\\n                </div><!--.container-->\\n            </section>\\n\\n        </div><!--#page-->\\n\\n    \\n\\n\\n    <section id=\"footer\">\\n        <div class=\"container\">\\n            <div class=\"row\">\\n                <div class=\"col-md-12 text-center text-muted\">\\n                    Lessons and Videos &copy; Hartley Brody 2023\\n                </div><!--.col-->\\n            </div><!--.row-->\\n        </div><!--.container-->\\n    </section>\\n  </body>\\n\\n  <script src=\"https://ajax.googleapis.com/ajax/libs/jquery/1.11.3/jquery.min.js\"></script>\\n  <script src=\"https://maxcdn.bootstrapcdn.com/bootstrap/3.3.5/js/bootstrap.min.js\" integrity=\"sha256-Sk3nkD6mLTMOF0EOpNtsIry+s1CsaqQC1rVLTAy+0yc= sha512-K1qjQ+NcF2TYO/eI3M6v8EiNYZfA95pQumfvcVrTHtwQVDG+aHRqLi/ETn2uB+1JqwYqVG3LIvdm9lj6imS/pQ==\" crossorigin=\"anonymous\"></script>\\n\\n  \\n\\n  <script src=\"https://cdnjs.cloudflare.com/ajax/libs/pnotify/2.1.0/pnotify.core.min.js\"></script>\\n  <link href=\"https://cdnjs.cloudflare.com/ajax/libs/pnotify/2.1.0/pnotify.core.min.css\" rel=\"stylesheet\" type=\"text/css\">\\n\\n  <!-- pnotify messages -->\\n  <script type=\"text/javascript\">\\n    \\n    PNotify.prototype.options.styling = \"bootstrap3\";\\n    $(function(){\\n      \\n    });\\n    \\n\\n    $(function () {\\n      $(\\'[data-toggle=\"tooltip\"]\\').tooltip()\\n    })\\n  </script>\\n\\n  <!-- golbal video controls -->\\n  <script type=\"text/javascript\">\\n    $(\"video\").hover(function() {\\n        $(this).prop(\"controls\", true);\\n    }, function() {\\n        $(this).prop(\"controls\", false);\\n    });\\n\\n    $(\"video\").click(function() {\\n        if( this.paused){\\n            this.play();\\n        }\\n        else {\\n            this.pause();\\n        }\\n    });\\n    </script>\\n\\n  <!-- insert google analytics here -->\\n  <script>\\n    (function(i,s,o,g,r,a,m){i[\\'GoogleAnalyticsObject\\']=r;i[r]=i[r]||function(){\\n    (i[r].q=i[r].q||[]).push(arguments)},i[r].l=1*new Date();a=s.createElement(o),\\n    m=s.getElementsByTagName(o)[0];a.async=1;a.src=g;m.parentNode.insertBefore(a,m)\\n    })(window,document,\\'script\\',\\'https://www.google-analytics.com/analytics.js\\',\\'ga\\');\\n\\n    ga(\\'create\\', \\'UA-41551755-8\\', \\'auto\\');\\n    ga(\\'send\\', \\'pageview\\');\\n  </script>\\n\\n  <!-- Facebook Pixel Code -->\\n  <script>\\n  !function(f,b,e,v,n,t,s){if(f.fbq)return;n=f.fbq=function(){n.callMethod?\\n  n.callMethod.apply(n,arguments):n.queue.push(arguments)};if(!f._fbq)f._fbq=n;\\n  n.push=n;n.loaded=!0;n.version=\\'2.0\\';n.queue=[];t=b.createElement(e);t.async=!0;\\n  t.src=v;s=b.getElementsByTagName(e)[0];s.parentNode.insertBefore(t,s)}(window,\\n  document,\\'script\\',\\'https://connect.facebook.net/en_US/fbevents.js\\');\\n\\n  fbq(\\'init\\', \\'764287443701341\\');\\n  fbq(\\'track\\', \"PageView\");</script>\\n  <noscript><img height=\"1\" width=\"1\" style=\"display:none\"\\n  src=\"https://www.facebook.com/tr?id=764287443701341&ev=PageView&noscript=1\"\\n  /></noscript>\\n  <!-- End Facebook Pixel Code -->\\n\\n  <!-- Google Code for Remarketing Tag -->\\n  <script type=\"text/javascript\">\\n    /* <![CDATA[ */\\n    var google_conversion_id = 950945448;\\n    var google_custom_params = window.google_tag_params;\\n    var google_remarketing_only = true;\\n    /* ]]> */\\n    </script>\\n    <script type=\"text/javascript\" src=\"//www.googleadservices.com/pagead/conversion.js\">\\n    </script>\\n    <noscript>\\n    <div style=\"display:inline;\">\\n    <img height=\"1\" width=\"1\" style=\"border-style:none;\" alt=\"\" src=\"//googleads.g.doubleclick.net/pagead/viewthroughconversion/950945448/?guid=ON&amp;script=0\"/>\\n    </div>\\n  </noscript>\\n\\n  <!-- Global site tag (gtag.js) - Google AdWords: 950945448 -->\\n  <script async src=\"https://www.googletagmanager.com/gtag/js?id=AW-950945448\"></script>\\n  <script>\\n   window.dataLayer = window.dataLayer || [];\\n   function gtag(){dataLayer.push(arguments);}\\n   gtag(\\'js\\', new Date());\\n\\n   gtag(\\'config\\', \\'AW-950945448\\');\\n  </script>\\n\\n</html>'"
      ]
     },
     "execution_count": 6,
     "metadata": {},
     "output_type": "execute_result"
    }
   ],
   "source": [
    "response.content"
   ]
  },
  {
   "cell_type": "code",
   "execution_count": 7,
   "id": "d18c1d9a-d9d5-4816-8ff5-06cfd84f9c69",
   "metadata": {},
   "outputs": [
    {
     "data": {
      "text/plain": [
       "'<!doctype html>\\n<html lang=\"en\">\\n  <head>\\n    <meta charset=\"utf-8\">\\n    <title>Turtles All the Way Down: Frames &amp; iFrames | Scrape This Site | A public sandbox for learning web scraping</title>\\n    <link rel=\"icon\" type=\"image/png\" href=\"/static/images/scraper-icon.png\" />\\n\\n    <meta name=\"viewport\" content=\"width=device-width, initial-scale=1.0\">\\n    <meta name=\"description\" content=\"Some older sites might still use frames to break up thier pages. Modern ones might be using iFrames to expose data. Learn about turtles as you scrape content inside frames.\">\\n\\n    <link href=\"https://maxcdn.bootstrapcdn.com/bootstrap/3.3.5/css/bootstrap.min.css\" rel=\"stylesheet\" integrity=\"sha256-MfvZlkHCEqatNoGiOXveE8FIwMzZg4W85qfrfIFBfYc= sha512-dTfge/zgoMYpP7QbHy4gWMEGsbsdZeCXz7irItjcC3sPUFtf0kuFbDz/ixG7ArTxmDjLXDmezHubeNikyKGVyQ==\" crossorigin=\"anonymous\">\\n    <link href=\\'https://fonts.googleapis.com/css?family=Lato:400,700\\' rel=\\'stylesheet\\' type=\\'text/css\\'>\\n    <link rel=\"stylesheet\" type=\"text/css\" href=\"/static/css/styles.css\">\\n\\n    \\n<meta name=\"robots\" content=\"noindex\">\\n<link href=\"https://lipis.github.io/flag-icon-css/css/flag-icon.css\" rel=\"stylesheet\">\\n\\n\\n  </head>\\n\\n  <body>\\n    <nav id=\"site-nav\">\\n            <div class=\"container\">\\n                <div class=\"col-md-12\">\\n                    <ul class=\"nav nav-tabs\">\\n                        <li id=\"nav-homepage\">\\n                            <a href=\"/\" class=\"nav-link hidden-sm hidden-xs\">\\n                                <img src=\"/static/images/scraper-icon.png\" id=\"nav-logo\">\\n                                Scrape This Site\\n                            </a>\\n                        </li>\\n                        <li id=\"nav-sandbox\">\\n                            <a href=\"/pages/\" class=\"nav-link\">\\n                                <i class=\"glyphicon glyphicon-console hidden-sm hidden-xs\"></i>\\n                                Sandbox\\n                            </a>\\n                        </li>\\n                        <li id=\"nav-lessons\">\\n                            <a href=\"/lessons/\" class=\"nav-link\">\\n                                <i class=\"glyphicon glyphicon-education hidden-sm hidden-xs\"></i>\\n                                Lessons\\n                            </a>\\n                        </li>\\n                        <li id=\"nav-faq\">\\n                            <a href=\"/faq/\" class=\"nav-link\">\\n                                <i class=\"glyphicon glyphicon-flag hidden-sm hidden-xs\"></i>\\n                                FAQ\\n                            </a>\\n                        </li>\\n                        \\n                        <li id=\"nav-login\" class=\"pull-right\">\\n                            <a href=\"/login/\" class=\"nav-link\">\\n                                Login\\n                            </a>\\n                        </li>\\n                        \\n                    </ul>\\n                </div>\\n            </div>\\n        </nav>\\n\\n        <script type=\"text/javascript\">\\n            var path = document.location.pathname;\\n            var tab = undefined;\\n            if (path === \"/\"){\\n                tab = document.querySelector(\"#nav-homepage\");\\n            } else if (path.indexOf(\"/faq/\") === 0){\\n                tab = document.querySelector(\"#nav-faq\");\\n            } else if (path.indexOf(\"/lessons/\") === 0){\\n                tab = document.querySelector(\"#nav-lessons\");\\n            } else if (path.indexOf(\"/pages/\") === 0) {\\n                tab = document.querySelector(\"#nav-sandbox\");\\n            } else if (path.indexOf(\"/login/\") === 0) {\\n                tab = document.querySelector(\"#nav-login\");\\n            }\\n            tab.classList.add(\"active\")\\n        </script>\\n\\n    \\n\\n    \\n\\n        <div id=\"page\">\\n\\n            <section id=\"frames\">\\n                <div class=\"container\">\\n\\n                    <div class=\"row\">\\n                    <div class=\"col-md-12\">\\n                        <h1>\\n                            Turtles All the Way Down: Frames &amp; iFrames\\n                            <small>14 items</small>\\n                        </h1>\\n                        <hr />\\n                    </div>\\n                </div>\\n                <div class=\"row\">\\n                    <div class=\"col-md-12\">\\n                        <p class=\"lead\">\\n                            Some older sites might still use frames to break up thier pages. Modern ones might be using iFrames to expose data. Learn about turtles as you scrape content inside frames.\\n                            See if you can find the &#39;real&#39; URL that our content is being loaded from, and scrape that page. Also practice interating over a list of items and loading their detail pages to get more information about each one.\\n                        </p>\\n                        <hr />\\n                    </div>\\n                </div>\\n                <div class=\"row\">\\n                    <div class=\"col-md-6\">\\n                        <p>\\n                            <i class=\"glyphicon glyphicon-education\"></i> There are <a href=\"/lessons/\">3 video lessons</a> that show you how to scrape this page.\\n                        </p>\\n                        <hr />\\n                    </div>\\n                    <div class=\"col-md-6 text-right\">\\n                        <p>\\n                            \\n                                Data via\\n                                <a href=\"https://en.wikipedia.org/wiki/List_of_Testudines_families\" class=\"data-attribution\" target=\"_blank\">https://en.wikipedia.org/wiki/List_of_Testudines_families</a>\\n                            \\n                        </p>\\n                        <hr />\\n                    </div>\\n                </div>\\n\\n                    <div class=\"row\">\\n                        <div class=\"col-md-12\">\\n                            <frameset rows=\"10%,80%,10%\">\\n                                <frame name=\"top\" src=\"/pages/frames/?frame=top\" />\\n                                <frame name=\"main\" src=\"/pages/frames/?frame=main\" />\\n                                <frame name=\"bottom\" src=\"/pages/frames/frame=bottom\" />\\n                                <noframes>\\n                                        Your browser does not support frames.\\n                                </noframes>\\n                            </frameset>\\n\\n                            <iframe src=\"/pages/frames/?frame=i\" id=\"iframe\">\\n                                Your browser does not support iframes\\n                            </iframe>\\n\\n                        </div><!--.col-->\\n                    </div><!--.row-->\\n\\n                </div><!--.container-->\\n            </section>\\n\\n        </div><!--#page-->\\n\\n    \\n\\n\\n    <section id=\"footer\">\\n        <div class=\"container\">\\n            <div class=\"row\">\\n                <div class=\"col-md-12 text-center text-muted\">\\n                    Lessons and Videos &copy; Hartley Brody 2023\\n                </div><!--.col-->\\n            </div><!--.row-->\\n        </div><!--.container-->\\n    </section>\\n  </body>\\n\\n  <script src=\"https://ajax.googleapis.com/ajax/libs/jquery/1.11.3/jquery.min.js\"></script>\\n  <script src=\"https://maxcdn.bootstrapcdn.com/bootstrap/3.3.5/js/bootstrap.min.js\" integrity=\"sha256-Sk3nkD6mLTMOF0EOpNtsIry+s1CsaqQC1rVLTAy+0yc= sha512-K1qjQ+NcF2TYO/eI3M6v8EiNYZfA95pQumfvcVrTHtwQVDG+aHRqLi/ETn2uB+1JqwYqVG3LIvdm9lj6imS/pQ==\" crossorigin=\"anonymous\"></script>\\n\\n  \\n\\n  <script src=\"https://cdnjs.cloudflare.com/ajax/libs/pnotify/2.1.0/pnotify.core.min.js\"></script>\\n  <link href=\"https://cdnjs.cloudflare.com/ajax/libs/pnotify/2.1.0/pnotify.core.min.css\" rel=\"stylesheet\" type=\"text/css\">\\n\\n  <!-- pnotify messages -->\\n  <script type=\"text/javascript\">\\n    \\n    PNotify.prototype.options.styling = \"bootstrap3\";\\n    $(function(){\\n      \\n    });\\n    \\n\\n    $(function () {\\n      $(\\'[data-toggle=\"tooltip\"]\\').tooltip()\\n    })\\n  </script>\\n\\n  <!-- golbal video controls -->\\n  <script type=\"text/javascript\">\\n    $(\"video\").hover(function() {\\n        $(this).prop(\"controls\", true);\\n    }, function() {\\n        $(this).prop(\"controls\", false);\\n    });\\n\\n    $(\"video\").click(function() {\\n        if( this.paused){\\n            this.play();\\n        }\\n        else {\\n            this.pause();\\n        }\\n    });\\n    </script>\\n\\n  <!-- insert google analytics here -->\\n  <script>\\n    (function(i,s,o,g,r,a,m){i[\\'GoogleAnalyticsObject\\']=r;i[r]=i[r]||function(){\\n    (i[r].q=i[r].q||[]).push(arguments)},i[r].l=1*new Date();a=s.createElement(o),\\n    m=s.getElementsByTagName(o)[0];a.async=1;a.src=g;m.parentNode.insertBefore(a,m)\\n    })(window,document,\\'script\\',\\'https://www.google-analytics.com/analytics.js\\',\\'ga\\');\\n\\n    ga(\\'create\\', \\'UA-41551755-8\\', \\'auto\\');\\n    ga(\\'send\\', \\'pageview\\');\\n  </script>\\n\\n  <!-- Facebook Pixel Code -->\\n  <script>\\n  !function(f,b,e,v,n,t,s){if(f.fbq)return;n=f.fbq=function(){n.callMethod?\\n  n.callMethod.apply(n,arguments):n.queue.push(arguments)};if(!f._fbq)f._fbq=n;\\n  n.push=n;n.loaded=!0;n.version=\\'2.0\\';n.queue=[];t=b.createElement(e);t.async=!0;\\n  t.src=v;s=b.getElementsByTagName(e)[0];s.parentNode.insertBefore(t,s)}(window,\\n  document,\\'script\\',\\'https://connect.facebook.net/en_US/fbevents.js\\');\\n\\n  fbq(\\'init\\', \\'764287443701341\\');\\n  fbq(\\'track\\', \"PageView\");</script>\\n  <noscript><img height=\"1\" width=\"1\" style=\"display:none\"\\n  src=\"https://www.facebook.com/tr?id=764287443701341&ev=PageView&noscript=1\"\\n  /></noscript>\\n  <!-- End Facebook Pixel Code -->\\n\\n  <!-- Google Code for Remarketing Tag -->\\n  <script type=\"text/javascript\">\\n    /* <![CDATA[ */\\n    var google_conversion_id = 950945448;\\n    var google_custom_params = window.google_tag_params;\\n    var google_remarketing_only = true;\\n    /* ]]> */\\n    </script>\\n    <script type=\"text/javascript\" src=\"//www.googleadservices.com/pagead/conversion.js\">\\n    </script>\\n    <noscript>\\n    <div style=\"display:inline;\">\\n    <img height=\"1\" width=\"1\" style=\"border-style:none;\" alt=\"\" src=\"//googleads.g.doubleclick.net/pagead/viewthroughconversion/950945448/?guid=ON&amp;script=0\"/>\\n    </div>\\n  </noscript>\\n\\n  <!-- Global site tag (gtag.js) - Google AdWords: 950945448 -->\\n  <script async src=\"https://www.googletagmanager.com/gtag/js?id=AW-950945448\"></script>\\n  <script>\\n   window.dataLayer = window.dataLayer || [];\\n   function gtag(){dataLayer.push(arguments);}\\n   gtag(\\'js\\', new Date());\\n\\n   gtag(\\'config\\', \\'AW-950945448\\');\\n  </script>\\n\\n</html>'"
      ]
     },
     "execution_count": 7,
     "metadata": {},
     "output_type": "execute_result"
    }
   ],
   "source": [
    "response.text"
   ]
  },
  {
   "cell_type": "code",
   "execution_count": 8,
   "id": "35caf0bf-edac-4827-a430-ca73dfdf1ff8",
   "metadata": {},
   "outputs": [
    {
     "data": {
      "text/plain": [
       "{'Date': 'Tue, 22 Jul 2025 07:17:05 GMT', 'Content-Type': 'text/html; charset=utf-8', 'Transfer-Encoding': 'chunked', 'Connection': 'keep-alive', 'Nel': '{\"report_to\":\"heroku-nel\",\"response_headers\":[\"Via\"],\"max_age\":3600,\"success_fraction\":0.01,\"failure_fraction\":0.1}', 'Report-To': '{\"group\":\"heroku-nel\",\"endpoints\":[{\"url\":\"https://nel.heroku.com/reports?s=pdFgvijbdbnMcXS8%2F%2B5K5h191p2b6mPIfV8OJ7baOsQ%3D\\\\u0026sid=67ff5de4-ad2b-4112-9289-cf96be89efed\\\\u0026ts=1753168625\"}],\"max_age\":3600}', 'Reporting-Endpoints': 'heroku-nel=\"https://nel.heroku.com/reports?s=pdFgvijbdbnMcXS8%2F%2B5K5h191p2b6mPIfV8OJ7baOsQ%3D&sid=67ff5de4-ad2b-4112-9289-cf96be89efed&ts=1753168625\"', 'Server': 'cloudflare', 'Via': '1.1 heroku-router', 'Cf-Cache-Status': 'DYNAMIC', 'Content-Encoding': 'zstd', 'CF-RAY': '96312802addbe18b-MRS', 'alt-svc': 'h3=\":443\"; ma=86400'}"
      ]
     },
     "execution_count": 8,
     "metadata": {},
     "output_type": "execute_result"
    }
   ],
   "source": [
    "response.headers"
   ]
  },
  {
   "cell_type": "code",
   "execution_count": 10,
   "id": "1f5450e0-a875-463b-9c33-47d6104bbcff",
   "metadata": {},
   "outputs": [
    {
     "data": {
      "text/plain": [
       "'Tue, 22 Jul 2025 07:17:05 GMT'"
      ]
     },
     "execution_count": 10,
     "metadata": {},
     "output_type": "execute_result"
    }
   ],
   "source": [
    "response.headers['Date']"
   ]
  },
  {
   "cell_type": "code",
   "execution_count": 11,
   "id": "91e00061-928c-49b8-9873-99f440c90eda",
   "metadata": {},
   "outputs": [],
   "source": [
    "# Since we want to reach out the contetnt that are inside the HTML we use \n",
    "# sth called \"web Scrapping : Extract Of Content \"\n",
    "# We Use diff libraries in web scraooing : 1. Beautiful Soup, 2. Scelinium\n",
    "# Web pages are building based on JavaScript and HTML\n",
    "# Both libraries are used BUT Scelinium library use for the web pages that have \n",
    "#both javascript and HTML"
   ]
  },
  {
   "cell_type": "code",
   "execution_count": 15,
   "id": "0b41b03d-5919-4098-97ec-06e1cce80bc4",
   "metadata": {},
   "outputs": [],
   "source": [
    "from bs4 import BeautifulSoup"
   ]
  },
  {
   "cell_type": "code",
   "execution_count": 16,
   "id": "688533cb-0518-4154-b480-51a06a75b6d9",
   "metadata": {},
   "outputs": [
    {
     "data": {
      "text/plain": [
       "<!DOCTYPE html>\n",
       "\n",
       "<html lang=\"en\">\n",
       "<head>\n",
       "<meta charset=\"utf-8\"/>\n",
       "<title>Turtles All the Way Down: Frames &amp; iFrames | Scrape This Site | A public sandbox for learning web scraping</title>\n",
       "<link href=\"/static/images/scraper-icon.png\" rel=\"icon\" type=\"image/png\"/>\n",
       "<meta content=\"width=device-width, initial-scale=1.0\" name=\"viewport\"/>\n",
       "<meta content=\"Some older sites might still use frames to break up thier pages. Modern ones might be using iFrames to expose data. Learn about turtles as you scrape content inside frames.\" name=\"description\"/>\n",
       "<link crossorigin=\"anonymous\" href=\"https://maxcdn.bootstrapcdn.com/bootstrap/3.3.5/css/bootstrap.min.css\" integrity=\"sha256-MfvZlkHCEqatNoGiOXveE8FIwMzZg4W85qfrfIFBfYc= sha512-dTfge/zgoMYpP7QbHy4gWMEGsbsdZeCXz7irItjcC3sPUFtf0kuFbDz/ixG7ArTxmDjLXDmezHubeNikyKGVyQ==\" rel=\"stylesheet\"/>\n",
       "<link href=\"https://fonts.googleapis.com/css?family=Lato:400,700\" rel=\"stylesheet\" type=\"text/css\"/>\n",
       "<link href=\"/static/css/styles.css\" rel=\"stylesheet\" type=\"text/css\"/>\n",
       "<meta content=\"noindex\" name=\"robots\"/>\n",
       "<link href=\"https://lipis.github.io/flag-icon-css/css/flag-icon.css\" rel=\"stylesheet\"/>\n",
       "</head>\n",
       "<body>\n",
       "<nav id=\"site-nav\">\n",
       "<div class=\"container\">\n",
       "<div class=\"col-md-12\">\n",
       "<ul class=\"nav nav-tabs\">\n",
       "<li id=\"nav-homepage\">\n",
       "<a class=\"nav-link hidden-sm hidden-xs\" href=\"/\">\n",
       "<img id=\"nav-logo\" src=\"/static/images/scraper-icon.png\"/>\n",
       "                                Scrape This Site\n",
       "                            </a>\n",
       "</li>\n",
       "<li id=\"nav-sandbox\">\n",
       "<a class=\"nav-link\" href=\"/pages/\">\n",
       "<i class=\"glyphicon glyphicon-console hidden-sm hidden-xs\"></i>\n",
       "                                Sandbox\n",
       "                            </a>\n",
       "</li>\n",
       "<li id=\"nav-lessons\">\n",
       "<a class=\"nav-link\" href=\"/lessons/\">\n",
       "<i class=\"glyphicon glyphicon-education hidden-sm hidden-xs\"></i>\n",
       "                                Lessons\n",
       "                            </a>\n",
       "</li>\n",
       "<li id=\"nav-faq\">\n",
       "<a class=\"nav-link\" href=\"/faq/\">\n",
       "<i class=\"glyphicon glyphicon-flag hidden-sm hidden-xs\"></i>\n",
       "                                FAQ\n",
       "                            </a>\n",
       "</li>\n",
       "<li class=\"pull-right\" id=\"nav-login\">\n",
       "<a class=\"nav-link\" href=\"/login/\">\n",
       "                                Login\n",
       "                            </a>\n",
       "</li>\n",
       "</ul>\n",
       "</div>\n",
       "</div>\n",
       "</nav>\n",
       "<script type=\"text/javascript\">\n",
       "            var path = document.location.pathname;\n",
       "            var tab = undefined;\n",
       "            if (path === \"/\"){\n",
       "                tab = document.querySelector(\"#nav-homepage\");\n",
       "            } else if (path.indexOf(\"/faq/\") === 0){\n",
       "                tab = document.querySelector(\"#nav-faq\");\n",
       "            } else if (path.indexOf(\"/lessons/\") === 0){\n",
       "                tab = document.querySelector(\"#nav-lessons\");\n",
       "            } else if (path.indexOf(\"/pages/\") === 0) {\n",
       "                tab = document.querySelector(\"#nav-sandbox\");\n",
       "            } else if (path.indexOf(\"/login/\") === 0) {\n",
       "                tab = document.querySelector(\"#nav-login\");\n",
       "            }\n",
       "            tab.classList.add(\"active\")\n",
       "        </script>\n",
       "<div id=\"page\">\n",
       "<section id=\"frames\">\n",
       "<div class=\"container\">\n",
       "<div class=\"row\">\n",
       "<div class=\"col-md-12\">\n",
       "<h1>\n",
       "                            Turtles All the Way Down: Frames &amp; iFrames\n",
       "                            <small>14 items</small>\n",
       "</h1>\n",
       "<hr/>\n",
       "</div>\n",
       "</div>\n",
       "<div class=\"row\">\n",
       "<div class=\"col-md-12\">\n",
       "<p class=\"lead\">\n",
       "                            Some older sites might still use frames to break up thier pages. Modern ones might be using iFrames to expose data. Learn about turtles as you scrape content inside frames.\n",
       "                            See if you can find the 'real' URL that our content is being loaded from, and scrape that page. Also practice interating over a list of items and loading their detail pages to get more information about each one.\n",
       "                        </p>\n",
       "<hr/>\n",
       "</div>\n",
       "</div>\n",
       "<div class=\"row\">\n",
       "<div class=\"col-md-6\">\n",
       "<p>\n",
       "<i class=\"glyphicon glyphicon-education\"></i> There are <a href=\"/lessons/\">3 video lessons</a> that show you how to scrape this page.\n",
       "                        </p>\n",
       "<hr/>\n",
       "</div>\n",
       "<div class=\"col-md-6 text-right\">\n",
       "<p>\n",
       "                            \n",
       "                                Data via\n",
       "                                <a class=\"data-attribution\" href=\"https://en.wikipedia.org/wiki/List_of_Testudines_families\" target=\"_blank\">https://en.wikipedia.org/wiki/List_of_Testudines_families</a>\n",
       "</p>\n",
       "<hr/>\n",
       "</div>\n",
       "</div>\n",
       "<div class=\"row\">\n",
       "<div class=\"col-md-12\">\n",
       "<frameset rows=\"10%,80%,10%\">\n",
       "<frame name=\"top\" src=\"/pages/frames/?frame=top\"/>\n",
       "<frame name=\"main\" src=\"/pages/frames/?frame=main\"/>\n",
       "<frame name=\"bottom\" src=\"/pages/frames/frame=bottom\"/>\n",
       "<noframes>\n",
       "                                        Your browser does not support frames.\n",
       "                                </noframes>\n",
       "</frameset>\n",
       "<iframe id=\"iframe\" src=\"/pages/frames/?frame=i\">\n",
       "                                Your browser does not support iframes\n",
       "                            </iframe>\n",
       "</div><!--.col-->\n",
       "</div><!--.row-->\n",
       "</div><!--.container-->\n",
       "</section>\n",
       "</div><!--#page-->\n",
       "<section id=\"footer\">\n",
       "<div class=\"container\">\n",
       "<div class=\"row\">\n",
       "<div class=\"col-md-12 text-center text-muted\">\n",
       "                    Lessons and Videos © Hartley Brody 2023\n",
       "                </div><!--.col-->\n",
       "</div><!--.row-->\n",
       "</div><!--.container-->\n",
       "</section>\n",
       "</body>\n",
       "<script src=\"https://ajax.googleapis.com/ajax/libs/jquery/1.11.3/jquery.min.js\"></script>\n",
       "<script crossorigin=\"anonymous\" integrity=\"sha256-Sk3nkD6mLTMOF0EOpNtsIry+s1CsaqQC1rVLTAy+0yc= sha512-K1qjQ+NcF2TYO/eI3M6v8EiNYZfA95pQumfvcVrTHtwQVDG+aHRqLi/ETn2uB+1JqwYqVG3LIvdm9lj6imS/pQ==\" src=\"https://maxcdn.bootstrapcdn.com/bootstrap/3.3.5/js/bootstrap.min.js\"></script>\n",
       "<script src=\"https://cdnjs.cloudflare.com/ajax/libs/pnotify/2.1.0/pnotify.core.min.js\"></script>\n",
       "<link href=\"https://cdnjs.cloudflare.com/ajax/libs/pnotify/2.1.0/pnotify.core.min.css\" rel=\"stylesheet\" type=\"text/css\"/>\n",
       "<!-- pnotify messages -->\n",
       "<script type=\"text/javascript\">\n",
       "    \n",
       "    PNotify.prototype.options.styling = \"bootstrap3\";\n",
       "    $(function(){\n",
       "      \n",
       "    });\n",
       "    \n",
       "\n",
       "    $(function () {\n",
       "      $('[data-toggle=\"tooltip\"]').tooltip()\n",
       "    })\n",
       "  </script>\n",
       "<!-- golbal video controls -->\n",
       "<script type=\"text/javascript\">\n",
       "    $(\"video\").hover(function() {\n",
       "        $(this).prop(\"controls\", true);\n",
       "    }, function() {\n",
       "        $(this).prop(\"controls\", false);\n",
       "    });\n",
       "\n",
       "    $(\"video\").click(function() {\n",
       "        if( this.paused){\n",
       "            this.play();\n",
       "        }\n",
       "        else {\n",
       "            this.pause();\n",
       "        }\n",
       "    });\n",
       "    </script>\n",
       "<!-- insert google analytics here -->\n",
       "<script>\n",
       "    (function(i,s,o,g,r,a,m){i['GoogleAnalyticsObject']=r;i[r]=i[r]||function(){\n",
       "    (i[r].q=i[r].q||[]).push(arguments)},i[r].l=1*new Date();a=s.createElement(o),\n",
       "    m=s.getElementsByTagName(o)[0];a.async=1;a.src=g;m.parentNode.insertBefore(a,m)\n",
       "    })(window,document,'script','https://www.google-analytics.com/analytics.js','ga');\n",
       "\n",
       "    ga('create', 'UA-41551755-8', 'auto');\n",
       "    ga('send', 'pageview');\n",
       "  </script>\n",
       "<!-- Facebook Pixel Code -->\n",
       "<script>\n",
       "  !function(f,b,e,v,n,t,s){if(f.fbq)return;n=f.fbq=function(){n.callMethod?\n",
       "  n.callMethod.apply(n,arguments):n.queue.push(arguments)};if(!f._fbq)f._fbq=n;\n",
       "  n.push=n;n.loaded=!0;n.version='2.0';n.queue=[];t=b.createElement(e);t.async=!0;\n",
       "  t.src=v;s=b.getElementsByTagName(e)[0];s.parentNode.insertBefore(t,s)}(window,\n",
       "  document,'script','https://connect.facebook.net/en_US/fbevents.js');\n",
       "\n",
       "  fbq('init', '764287443701341');\n",
       "  fbq('track', \"PageView\");</script>\n",
       "<noscript><img height=\"1\" src=\"https://www.facebook.com/tr?id=764287443701341&amp;ev=PageView&amp;noscript=1\" style=\"display:none\" width=\"1\"/></noscript>\n",
       "<!-- End Facebook Pixel Code -->\n",
       "<!-- Google Code for Remarketing Tag -->\n",
       "<script type=\"text/javascript\">\n",
       "    /* <![CDATA[ */\n",
       "    var google_conversion_id = 950945448;\n",
       "    var google_custom_params = window.google_tag_params;\n",
       "    var google_remarketing_only = true;\n",
       "    /* ]]> */\n",
       "    </script>\n",
       "<script src=\"//www.googleadservices.com/pagead/conversion.js\" type=\"text/javascript\">\n",
       "</script>\n",
       "<noscript>\n",
       "<div style=\"display:inline;\">\n",
       "<img alt=\"\" height=\"1\" src=\"//googleads.g.doubleclick.net/pagead/viewthroughconversion/950945448/?guid=ON&amp;script=0\" style=\"border-style:none;\" width=\"1\"/>\n",
       "</div>\n",
       "</noscript>\n",
       "<!-- Global site tag (gtag.js) - Google AdWords: 950945448 -->\n",
       "<script async=\"\" src=\"https://www.googletagmanager.com/gtag/js?id=AW-950945448\"></script>\n",
       "<script>\n",
       "   window.dataLayer = window.dataLayer || [];\n",
       "   function gtag(){dataLayer.push(arguments);}\n",
       "   gtag('js', new Date());\n",
       "\n",
       "   gtag('config', 'AW-950945448');\n",
       "  </script>\n",
       "</html>"
      ]
     },
     "execution_count": 16,
     "metadata": {},
     "output_type": "execute_result"
    }
   ],
   "source": [
    "BeautifulSoup(response.text, 'html.parser')"
   ]
  },
  {
   "cell_type": "code",
   "execution_count": 25,
   "id": "44d0e4c7-3346-4f75-bb04-101842aae448",
   "metadata": {},
   "outputs": [],
   "source": [
    "response.raise_for_status() #This for handelling Errors\n",
    "soup=BeautifulSoup(response.text,'html.parser') #This line convert the html text \n",
    "#to text so we can extract the information"
   ]
  },
  {
   "cell_type": "code",
   "execution_count": 26,
   "id": "2932fc95-1215-4e28-a076-506d77414a53",
   "metadata": {},
   "outputs": [
    {
     "data": {
      "text/plain": [
       "200"
      ]
     },
     "execution_count": 26,
     "metadata": {},
     "output_type": "execute_result"
    }
   ],
   "source": [
    "response.status_code"
   ]
  },
  {
   "cell_type": "code",
   "execution_count": 27,
   "id": "dc079b9a-154b-45f6-86d8-8e2b074bf4e7",
   "metadata": {},
   "outputs": [
    {
     "name": "stdout",
     "output_type": "stream",
     "text": [
      "Found iframe on the main page\n"
     ]
    }
   ],
   "source": [
    "# Find and add iframe path to the main url\n",
    "\n",
    "iframe_tag=soup.find('iframe')\n",
    "if iframe_tag:\n",
    "    iframe_url=\"https://www.scrapethissite.com\"+ iframe_tag.get('src')\n",
    "    print(f'Found iframe on the main page')\n",
    "else:\n",
    "    print('No iframe found on the main page')"
   ]
  },
  {
   "cell_type": "code",
   "execution_count": null,
   "id": "8e018031-6537-4d24-b55b-1b27349ce615",
   "metadata": {},
   "outputs": [],
   "source": []
  },
  {
   "cell_type": "code",
   "execution_count": null,
   "id": "31d05075-df3f-4ec1-9299-ac5b28e630b8",
   "metadata": {},
   "outputs": [],
   "source": []
  }
 ],
 "metadata": {
  "kernelspec": {
   "display_name": "Python [conda env:base] *",
   "language": "python",
   "name": "conda-base-py"
  },
  "language_info": {
   "codemirror_mode": {
    "name": "ipython",
    "version": 3
   },
   "file_extension": ".py",
   "mimetype": "text/x-python",
   "name": "python",
   "nbconvert_exporter": "python",
   "pygments_lexer": "ipython3",
   "version": "3.13.5"
  }
 },
 "nbformat": 4,
 "nbformat_minor": 5
}
