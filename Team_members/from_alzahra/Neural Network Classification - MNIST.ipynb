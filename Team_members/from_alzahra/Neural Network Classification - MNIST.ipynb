{
 "cells": [
  {
   "cell_type": "markdown",
   "id": "d724f431-f4fb-41f3-92f0-95d73b94a0c6",
   "metadata": {},
   "source": [
    "## Neural Network Classification with MNIST (Digits)"
   ]
  },
  {
   "cell_type": "markdown",
   "id": "b60c6e4c-cd49-4856-9078-7f59f9aedaa5",
   "metadata": {},
   "source": [
    "### Imports & Data Loading"
   ]
  },
  {
   "cell_type": "code",
   "execution_count": 1,
   "id": "5ee91669-db8e-4918-9830-ae6c2f150828",
   "metadata": {},
   "outputs": [],
   "source": [
    "import numpy as np\n",
    "import tensorflow as tf\n",
    "from tensorflow import keras\n",
    "from tensorflow.keras import layers\n",
    "from sklearn.metrics import accuracy_score"
   ]
  },
  {
   "cell_type": "code",
   "execution_count": 2,
   "id": "c1b5851d-cb5c-49ae-ac79-76b3b3ae99aa",
   "metadata": {},
   "outputs": [],
   "source": [
    "# Load MNIST dataset\n",
    "(x_train, y_train), (x_test, y_test) = keras.datasets.mnist.load_data()\n",
    "\n",
    "# Normalize pixel values (0–255) → (0–1)\n",
    "x_train = x_train.astype(\"float32\") / 255.0\n",
    "x_test = x_test.astype(\"float32\") / 255.0\n",
    "\n",
    "# Flatten 28x28 images → 784 features\n",
    "x_train = x_train.reshape(-1, 784)\n",
    "x_test = x_test.reshape(-1, 784)\n",
    "\n",
    "# One-hot encode labels (0–9)\n",
    "y_train = keras.utils.to_categorical(y_train, 10)\n",
    "y_test = keras.utils.to_categorical(y_test, 10)"
   ]
  },
  {
   "cell_type": "markdown",
   "id": "e186c517-44a7-4ed9-9941-cc26a02c560c",
   "metadata": {},
   "source": [
    "### Model Builder Function"
   ]
  },
  {
   "cell_type": "code",
   "execution_count": 3,
   "id": "5619b8cb-735d-48c7-94a1-746a30a30c6c",
   "metadata": {},
   "outputs": [],
   "source": [
    "def build_model(hidden_layers=1, activation=\"relu\", optimizer=\"adam\", output_activation=\"softmax\"):\n",
    "    model = keras.Sequential()\n",
    "    \n",
    "    # Input layer\n",
    "    model.add(layers.Input(shape=(784,)))\n",
    "    \n",
    "    # Hidden layers\n",
    "    for _ in range(hidden_layers):\n",
    "        model.add(layers.Dense(128, activation=activation))\n",
    "    \n",
    "    # Output layer (10 classes)\n",
    "    model.add(layers.Dense(10, activation=output_activation))\n",
    "    \n",
    "    # Compile with categorical crossentropy (classification)\n",
    "    model.compile(\n",
    "        optimizer=optimizer,\n",
    "        loss=\"categorical_crossentropy\",\n",
    "        metrics=[\"accuracy\"]\n",
    "    )\n",
    "    return model"
   ]
  },
  {
   "cell_type": "markdown",
   "id": "b85b6319-5644-4a78-8ec7-5d9dbb8c2a71",
   "metadata": {},
   "source": [
    "### Activation Functions (relu vs sigmoid)"
   ]
  },
  {
   "cell_type": "code",
   "execution_count": 4,
   "id": "70f671d2-e6af-4beb-85d3-1fe870cf7c0f",
   "metadata": {},
   "outputs": [
    {
     "name": "stdout",
     "output_type": "stream",
     "text": [
      "\n",
      "Training with hidden activation = RELU\n",
      "\n",
      "Training with hidden activation = SIGMOID\n"
     ]
    }
   ],
   "source": [
    "results_activation = {}\n",
    "\n",
    "for act in [\"relu\", \"sigmoid\"]:\n",
    "    print(f\"\\nTraining with hidden activation = {act.upper()}\")\n",
    "    model = build_model(hidden_layers=1, activation=act, optimizer=\"adam\", output_activation=\"softmax\")\n",
    "    history = model.fit(x_train, y_train, epochs=5, batch_size=128, validation_split=0.1, verbose=0)\n",
    "    \n",
    "    test_loss, test_acc = model.evaluate(x_test, y_test, verbose=0)\n",
    "    results_activation[act] = test_acc"
   ]
  },
  {
   "cell_type": "code",
   "execution_count": 5,
   "id": "db1c4963-af22-4c03-bd51-340947990345",
   "metadata": {},
   "outputs": [
    {
     "name": "stdout",
     "output_type": "stream",
     "text": [
      "=== Activation Function Comparison ===\n",
      "RELU → Test Accuracy: 0.9741\n",
      "SIGMOID → Test Accuracy: 0.9540\n"
     ]
    }
   ],
   "source": [
    "print(\"=== Activation Function Comparison ===\")\n",
    "for act, acc in results_activation.items():\n",
    "    print(f\"{act.upper()} → Test Accuracy: {acc:.4f}\")"
   ]
  },
  {
   "cell_type": "markdown",
   "id": "e84848a3-add5-4311-b48b-bef79b7f1bf6",
   "metadata": {},
   "source": [
    "### Output Activation (softmax vs sigmoid)"
   ]
  },
  {
   "cell_type": "code",
   "execution_count": 6,
   "id": "0d65c451-6d05-4803-a7b7-1a70864fba09",
   "metadata": {},
   "outputs": [
    {
     "name": "stdout",
     "output_type": "stream",
     "text": [
      "\n",
      "Training with output activation = SOFTMAX\n",
      "\n",
      "Training with output activation = SIGMOID\n"
     ]
    }
   ],
   "source": [
    "results_output = {}\n",
    "\n",
    "for out_act in [\"softmax\", \"sigmoid\"]:\n",
    "    print(f\"\\nTraining with output activation = {out_act.upper()}\")\n",
    "    model = build_model(hidden_layers=1, activation=\"relu\", optimizer=\"adam\", output_activation=out_act)\n",
    "    history = model.fit(x_train, y_train, epochs=5, batch_size=128, validation_split=0.1, verbose=0)\n",
    "    \n",
    "    test_loss, test_acc = model.evaluate(x_test, y_test, verbose=0)\n",
    "    results_output[out_act] = test_acc"
   ]
  },
  {
   "cell_type": "code",
   "execution_count": 7,
   "id": "bb673c61-d34a-47a1-8b33-81f31ebee7aa",
   "metadata": {},
   "outputs": [
    {
     "name": "stdout",
     "output_type": "stream",
     "text": [
      "=== Output Activation Comparison ===\n",
      "SOFTMAX → Test Accuracy: 0.9709\n",
      "SIGMOID → Test Accuracy: 0.9746\n"
     ]
    }
   ],
   "source": [
    "print(\"=== Output Activation Comparison ===\")\n",
    "for out_act, acc in results_output.items():\n",
    "    print(f\"{out_act.upper()} → Test Accuracy: {acc:.4f}\")"
   ]
  },
  {
   "cell_type": "markdown",
   "id": "036d3910-3028-4776-8cfd-fd762b3374e2",
   "metadata": {},
   "source": [
    "### Deeper Model (1 vs 2 Hidden Layers)"
   ]
  },
  {
   "cell_type": "code",
   "execution_count": 8,
   "id": "ec145bdb-c95a-49c5-8558-35847ab9c123",
   "metadata": {},
   "outputs": [
    {
     "name": "stdout",
     "output_type": "stream",
     "text": [
      "\n",
      "Training with 1 hidden layer(s)\n",
      "\n",
      "Training with 2 hidden layer(s)\n"
     ]
    }
   ],
   "source": [
    "results_depth = {}\n",
    "\n",
    "for layers_count in [1, 2]:\n",
    "    print(f\"\\nTraining with {layers_count} hidden layer(s)\")\n",
    "    model = build_model(hidden_layers=layers_count, activation=\"relu\", optimizer=\"adam\", output_activation=\"softmax\")\n",
    "    history = model.fit(x_train, y_train, epochs=5, batch_size=128, validation_split=0.1, verbose=0)\n",
    "    \n",
    "    test_loss, test_acc = model.evaluate(x_test, y_test, verbose=0)\n",
    "    results_depth[layers_count] = test_acc"
   ]
  },
  {
   "cell_type": "code",
   "execution_count": 9,
   "id": "b4927495-1f86-44c5-ba3c-eff5e5e6fa46",
   "metadata": {},
   "outputs": [
    {
     "name": "stdout",
     "output_type": "stream",
     "text": [
      "=== Model Depth Comparison ===\n",
      "1 Hidden Layer(s) → Test Accuracy: 0.9743\n",
      "2 Hidden Layer(s) → Test Accuracy: 0.9745\n"
     ]
    }
   ],
   "source": [
    "print(\"=== Model Depth Comparison ===\")\n",
    "for layers_count, acc in results_depth.items():\n",
    "    print(f\"{layers_count} Hidden Layer(s) → Test Accuracy: {acc:.4f}\")"
   ]
  },
  {
   "cell_type": "markdown",
   "id": "d6fe6644-e91d-4d79-a814-7a2f5f502d8a",
   "metadata": {},
   "source": [
    "### Optimizers (adam, sgd, rmsprop)"
   ]
  },
  {
   "cell_type": "code",
   "execution_count": 10,
   "id": "93d4ec0e-cec5-4c3c-be3d-2d01c74687fb",
   "metadata": {},
   "outputs": [
    {
     "name": "stdout",
     "output_type": "stream",
     "text": [
      "\n",
      "Training with optimizer = ADAM\n",
      "\n",
      "Training with optimizer = SGD\n",
      "\n",
      "Training with optimizer = RMSPROP\n"
     ]
    }
   ],
   "source": [
    "results_optimizers = {}\n",
    "\n",
    "for opt in [\"adam\", \"sgd\", \"rmsprop\"]:\n",
    "    print(f\"\\nTraining with optimizer = {opt.upper()}\")\n",
    "    model = build_model(hidden_layers=1, activation=\"relu\", optimizer=opt, output_activation=\"softmax\")\n",
    "    history = model.fit(x_train, y_train, epochs=5, batch_size=128, validation_split=0.1, verbose=0)\n",
    "    \n",
    "    test_loss, test_acc = model.evaluate(x_test, y_test, verbose=0)\n",
    "    results_optimizers[opt] = test_acc"
   ]
  },
  {
   "cell_type": "code",
   "execution_count": 11,
   "id": "724d869b-e4e4-44f4-bf30-8a2a52bef813",
   "metadata": {},
   "outputs": [
    {
     "name": "stdout",
     "output_type": "stream",
     "text": [
      "=== Optimizer Comparison ===\n",
      "ADAM → Test Accuracy: 0.9726\n",
      "SGD → Test Accuracy: 0.9068\n",
      "RMSPROP → Test Accuracy: 0.9698\n"
     ]
    }
   ],
   "source": [
    "print(\"=== Optimizer Comparison ===\")\n",
    "for opt, acc in results_optimizers.items():\n",
    "    print(f\"{opt.upper()} → Test Accuracy: {acc:.4f}\")"
   ]
  },
  {
   "cell_type": "markdown",
   "id": "2c398c1b-18f7-4cc4-b5d3-7c42ecc524bd",
   "metadata": {},
   "source": [
    "## Task Is Done !"
   ]
  },
  {
   "cell_type": "code",
   "execution_count": null,
   "id": "5eff4775-e524-4acf-a97d-56c3066f4953",
   "metadata": {},
   "outputs": [],
   "source": []
  }
 ],
 "metadata": {
  "kernelspec": {
   "display_name": "Python [conda env:base] *",
   "language": "python",
   "name": "conda-base-py"
  },
  "language_info": {
   "codemirror_mode": {
    "name": "ipython",
    "version": 3
   },
   "file_extension": ".py",
   "mimetype": "text/x-python",
   "name": "python",
   "nbconvert_exporter": "python",
   "pygments_lexer": "ipython3",
   "version": "3.13.5"
  }
 },
 "nbformat": 4,
 "nbformat_minor": 5
}
