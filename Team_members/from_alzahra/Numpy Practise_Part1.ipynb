{
 "cells": [
  {
   "cell_type": "markdown",
   "id": "7d462a7b-ee19-4e73-a2f0-3c96535b0288",
   "metadata": {},
   "source": [
    "## Numpy Practise_Part 1"
   ]
  },
  {
   "cell_type": "markdown",
   "id": "8cae83b8-ad3f-4462-82c5-e0f6017f253d",
   "metadata": {},
   "source": [
    "### Part 1: Array Creation and Properties"
   ]
  },
  {
   "cell_type": "markdown",
   "id": "0ddf9679-2063-477e-9bc5-878268818503",
   "metadata": {},
   "source": [
    "#### Create a 1D array named arr1d with integers from 0 to 9."
   ]
  },
  {
   "cell_type": "code",
   "execution_count": 3,
   "id": "41282cbc-eef9-4e47-8f93-d5981bdcabe1",
   "metadata": {},
   "outputs": [],
   "source": [
    "import numpy as np"
   ]
  },
  {
   "cell_type": "code",
   "execution_count": 4,
   "id": "4fe7695a-acc2-49c1-a06e-0f79093209d5",
   "metadata": {},
   "outputs": [
    {
     "data": {
      "text/plain": [
       "array([0, 1, 2, 3, 4, 5, 6, 7, 8, 9])"
      ]
     },
     "execution_count": 4,
     "metadata": {},
     "output_type": "execute_result"
    }
   ],
   "source": [
    "range_arr1d=np.arange(0,10)\n",
    "range_arr1d"
   ]
  },
  {
   "cell_type": "markdown",
   "id": "d9eb5d68-fe24-4717-8483-33cf449e3eb5",
   "metadata": {},
   "source": [
    "#### Create a 2D array named arr2d with shape (3, 3) filled with ones.\n",
    " "
   ]
  },
  {
   "cell_type": "code",
   "execution_count": 6,
   "id": "c2441985-157a-416f-acc3-b563a3dda56e",
   "metadata": {},
   "outputs": [
    {
     "data": {
      "text/plain": [
       "array([[1., 1., 1.],\n",
       "       [1., 1., 1.],\n",
       "       [1., 1., 1.]])"
      ]
     },
     "execution_count": 6,
     "metadata": {},
     "output_type": "execute_result"
    }
   ],
   "source": [
    "ones_arr2d=np.ones((3,3))\n",
    "ones_arr2d"
   ]
  },
  {
   "cell_type": "markdown",
   "id": "fac5fe3f-aec9-4ce2-9e57-2fb72a893aa4",
   "metadata": {},
   "source": [
    "#### Create a 3x3 array named random_matrix with random floating-point numbers from a standard normal distribution."
   ]
  },
  {
   "cell_type": "code",
   "execution_count": 7,
   "id": "bfb856e4-a86d-4196-b036-d1f2ab43d7a0",
   "metadata": {},
   "outputs": [
    {
     "data": {
      "text/plain": [
       "array([[0.32079659, 0.89670057, 0.93731689],\n",
       "       [0.39809845, 0.30261541, 0.43358861],\n",
       "       [0.16769146, 0.74830517, 0.97959269]])"
      ]
     },
     "execution_count": 7,
     "metadata": {},
     "output_type": "execute_result"
    }
   ],
   "source": [
    "random_matrix=np.random.rand(3,3)\n",
    "random_matrix"
   ]
  },
  {
   "cell_type": "markdown",
   "id": "7c54db09-9e9c-48ce-bd21-c1593371dd1b",
   "metadata": {},
   "source": [
    "#### Create an array named even_numbers containing even numbers from 10 to 50 (inclusive)."
   ]
  },
  {
   "cell_type": "code",
   "execution_count": 9,
   "id": "4b83daf3-5f41-4a2d-9031-dabc416b59e6",
   "metadata": {},
   "outputs": [
    {
     "data": {
      "text/plain": [
       "array([10, 12, 14, 16, 18, 20, 22, 24, 26, 28, 30, 32, 34, 36, 38, 40, 42,\n",
       "       44, 46, 48, 50])"
      ]
     },
     "execution_count": 9,
     "metadata": {},
     "output_type": "execute_result"
    }
   ],
   "source": [
    "even_numbers_arr=np.arange(10,51,2)\n",
    "even_numbers_arr"
   ]
  },
  {
   "cell_type": "markdown",
   "id": "aa0d3b93-62c8-4df3-8738-f28710f9cb41",
   "metadata": {},
   "source": [
    "#### Create an array named linspace_array containing 7 equally spaced numbers between 0 and 1 (inclusive)."
   ]
  },
  {
   "cell_type": "code",
   "execution_count": 10,
   "id": "97c9d638-e3b0-4f6b-a997-6c2a80733767",
   "metadata": {},
   "outputs": [
    {
     "data": {
      "text/plain": [
       "array([0.        , 0.16666667, 0.33333333, 0.5       , 0.66666667,\n",
       "       0.83333333, 1.        ])"
      ]
     },
     "execution_count": 10,
     "metadata": {},
     "output_type": "execute_result"
    }
   ],
   "source": [
    "linspace_array=np.linspace(0,1,7)\n",
    "linspace_array"
   ]
  },
  {
   "cell_type": "markdown",
   "id": "cdb49c03-d1ef-4014-8d31-b29f154096c5",
   "metadata": {},
   "source": [
    "#### Given arr = np.array([[1, 2, 3], [4, 5, 6]]), what is its shape, ndim, and dtype? Print them."
   ]
  },
  {
   "cell_type": "code",
   "execution_count": 12,
   "id": "803b7cca-d64e-43de-ac95-2f9693cc498b",
   "metadata": {},
   "outputs": [
    {
     "data": {
      "text/plain": [
       "(2, 3)"
      ]
     },
     "execution_count": 12,
     "metadata": {},
     "output_type": "execute_result"
    }
   ],
   "source": [
    "arr = np.array([[1, 2, 3], [4, 5, 6]])\n",
    "arr.shape"
   ]
  },
  {
   "cell_type": "code",
   "execution_count": 14,
   "id": "5c9744cd-a2fa-4df1-9799-97dc4a6c6aa9",
   "metadata": {},
   "outputs": [
    {
     "data": {
      "text/plain": [
       "dtype('int64')"
      ]
     },
     "execution_count": 14,
     "metadata": {},
     "output_type": "execute_result"
    }
   ],
   "source": [
    "arr = np.array([[1, 2, 3], [4, 5, 6]])\n",
    "arr.dtype"
   ]
  },
  {
   "cell_type": "code",
   "execution_count": null,
   "id": "06b48e65-02d0-417d-86ac-b2f8298e0dc5",
   "metadata": {},
   "outputs": [],
   "source": []
  }
 ],
 "metadata": {
  "kernelspec": {
   "display_name": "Python [conda env:base] *",
   "language": "python",
   "name": "conda-base-py"
  },
  "language_info": {
   "codemirror_mode": {
    "name": "ipython",
    "version": 3
   },
   "file_extension": ".py",
   "mimetype": "text/x-python",
   "name": "python",
   "nbconvert_exporter": "python",
   "pygments_lexer": "ipython3",
   "version": "3.13.5"
  }
 },
 "nbformat": 4,
 "nbformat_minor": 5
}
