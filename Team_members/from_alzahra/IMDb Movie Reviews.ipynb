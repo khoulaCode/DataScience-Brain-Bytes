{
 "cells": [
  {
   "cell_type": "markdown",
   "id": "68bcacaa-118c-42f6-9b2a-cbb1f4987bbe",
   "metadata": {},
   "source": [
    "## IMDb Movie Reviews"
   ]
  },
  {
   "cell_type": "code",
   "execution_count": 2,
   "id": "b315bc55-b257-4347-a243-0d006fb00365",
   "metadata": {},
   "outputs": [
    {
     "name": "stderr",
     "output_type": "stream",
     "text": [
      "[nltk_data] Downloading package stopwords to\n",
      "[nltk_data]     C:\\Users\\bbuser\\AppData\\Roaming\\nltk_data...\n",
      "[nltk_data]   Package stopwords is already up-to-date!\n",
      "[nltk_data] Downloading package wordnet to\n",
      "[nltk_data]     C:\\Users\\bbuser\\AppData\\Roaming\\nltk_data...\n",
      "[nltk_data]   Package wordnet is already up-to-date!\n",
      "[nltk_data] Downloading package omw-1.4 to\n",
      "[nltk_data]     C:\\Users\\bbuser\\AppData\\Roaming\\nltk_data...\n",
      "[nltk_data]   Package omw-1.4 is already up-to-date!\n"
     ]
    }
   ],
   "source": [
    "## Step 1 — Import Libraries\n",
    "import os\n",
    "import pandas as pd\n",
    "import re\n",
    "import string\n",
    "from bs4 import BeautifulSoup\n",
    "import nltk\n",
    "\n",
    "# Download resources for stopwords + lemmatizer\n",
    "nltk.download('stopwords')\n",
    "nltk.download('wordnet')\n",
    "nltk.download('omw-1.4')\n",
    "\n",
    "from nltk.corpus import stopwords\n",
    "from nltk.stem import WordNetLemmatizer"
   ]
  },
  {
   "cell_type": "code",
   "execution_count": 5,
   "id": "4d51ab67-bf78-45fd-b736-103f1bf8d742",
   "metadata": {},
   "outputs": [
    {
     "name": "stdout",
     "output_type": "stream",
     "text": [
      "Found 12500 pos files and 12500 neg files.\n",
      "First few pos files: ['0_9.txt', '10000_8.txt', '10001_10.txt', '10002_7.txt', '10003_8.txt']\n",
      "Finished reading. Total reviews read: 400. Time elapsed: 0.2s\n",
      "(400, 2)\n"
     ]
    },
    {
     "data": {
      "text/html": [
       "<div>\n",
       "<style scoped>\n",
       "    .dataframe tbody tr th:only-of-type {\n",
       "        vertical-align: middle;\n",
       "    }\n",
       "\n",
       "    .dataframe tbody tr th {\n",
       "        vertical-align: top;\n",
       "    }\n",
       "\n",
       "    .dataframe thead th {\n",
       "        text-align: right;\n",
       "    }\n",
       "</style>\n",
       "<table border=\"1\" class=\"dataframe\">\n",
       "  <thead>\n",
       "    <tr style=\"text-align: right;\">\n",
       "      <th></th>\n",
       "      <th>review</th>\n",
       "      <th>label</th>\n",
       "    </tr>\n",
       "  </thead>\n",
       "  <tbody>\n",
       "    <tr>\n",
       "      <th>0</th>\n",
       "      <td>Bromwell High is a cartoon comedy. It ran at t...</td>\n",
       "      <td>1</td>\n",
       "    </tr>\n",
       "    <tr>\n",
       "      <th>1</th>\n",
       "      <td>Homelessness (or Houselessness as George Carli...</td>\n",
       "      <td>1</td>\n",
       "    </tr>\n",
       "    <tr>\n",
       "      <th>2</th>\n",
       "      <td>Brilliant over-acting by Lesley Ann Warren. Be...</td>\n",
       "      <td>1</td>\n",
       "    </tr>\n",
       "    <tr>\n",
       "      <th>3</th>\n",
       "      <td>This is easily the most underrated film inn th...</td>\n",
       "      <td>1</td>\n",
       "    </tr>\n",
       "    <tr>\n",
       "      <th>4</th>\n",
       "      <td>This is not the typical Mel Brooks film. It wa...</td>\n",
       "      <td>1</td>\n",
       "    </tr>\n",
       "  </tbody>\n",
       "</table>\n",
       "</div>"
      ],
      "text/plain": [
       "                                              review  label\n",
       "0  Bromwell High is a cartoon comedy. It ran at t...      1\n",
       "1  Homelessness (or Houselessness as George Carli...      1\n",
       "2  Brilliant over-acting by Lesley Ann Warren. Be...      1\n",
       "3  This is easily the most underrated film inn th...      1\n",
       "4  This is not the typical Mel Brooks film. It wa...      1"
      ]
     },
     "execution_count": 5,
     "metadata": {},
     "output_type": "execute_result"
    }
   ],
   "source": [
    "import os\n",
    "import pandas as pd\n",
    "import time\n",
    "\n",
    "def load_imdb_data_safe(base_path, max_per_class=None, verbose=True):\n",
    "    \"\"\"\n",
    "    Load text files from base_path/pos and base_path/neg into a DataFrame.\n",
    "    - max_per_class: if set, read at most this many files per class (useful for quick tests).\n",
    "    - verbose: prints progress.\n",
    "    \"\"\"\n",
    "    if not os.path.isdir(base_path):\n",
    "        raise FileNotFoundError(f\"Base path does not exist: {base_path}\")\n",
    "\n",
    "    pos_dir = os.path.join(base_path, \"pos\")\n",
    "    neg_dir = os.path.join(base_path, \"neg\")\n",
    "    if not os.path.isdir(pos_dir) or not os.path.isdir(neg_dir):\n",
    "        raise FileNotFoundError(f\"'pos' or 'neg' folder missing in {base_path}. Found: {os.listdir(base_path)}\")\n",
    "\n",
    "    pos_files = sorted(os.listdir(pos_dir))\n",
    "    neg_files = sorted(os.listdir(neg_dir))\n",
    "\n",
    "    if verbose:\n",
    "        print(f\"Found {len(pos_files)} pos files and {len(neg_files)} neg files.\")\n",
    "        print(\"First few pos files:\", pos_files[:5])\n",
    "\n",
    "    texts = []\n",
    "    labels = []\n",
    "\n",
    "    def _read_list(file_list, directory, label):\n",
    "        read_count = 0\n",
    "        for i, fname in enumerate(file_list):\n",
    "            if max_per_class is not None and read_count >= max_per_class:\n",
    "                break\n",
    "            full = os.path.join(directory, fname)\n",
    "            try:\n",
    "                with open(full, 'r', encoding='utf-8') as f:\n",
    "                    texts.append(f.read())\n",
    "                    labels.append(label)\n",
    "            except UnicodeDecodeError:\n",
    "                # fallback encoding\n",
    "                try:\n",
    "                    with open(full, 'r', encoding='latin-1') as f:\n",
    "                        texts.append(f.read())\n",
    "                        labels.append(label)\n",
    "                except Exception as e:\n",
    "                    if verbose:\n",
    "                        print(f\"Skipping file due to read error: {full} -> {e}\")\n",
    "            except Exception as e:\n",
    "                if verbose:\n",
    "                    print(f\"Skipping file due to error: {full} -> {e}\")\n",
    "\n",
    "            read_count += 1\n",
    "            # print progress\n",
    "            if verbose and read_count % 500 == 0:\n",
    "                print(f\"Read {read_count} files from {directory}...\")\n",
    "\n",
    "    start = time.time()\n",
    "    _read_list(pos_files, pos_dir, 1)\n",
    "    _read_list(neg_files, neg_dir, 0)\n",
    "    elapsed = time.time() - start\n",
    "\n",
    "    if verbose:\n",
    "        print(f\"Finished reading. Total reviews read: {len(texts)}. Time elapsed: {elapsed:.1f}s\")\n",
    "\n",
    "    return pd.DataFrame({\"review\": texts, \"label\": labels})\n",
    "\n",
    "# Quick test (reads only 200 files per class for speed)\n",
    "train_path = r\"C:/Users/bbuser/Desktop/python_sprint9/aclImdb/train\"   # change to the correct absolute path if needed\n",
    "train_df = load_imdb_data_safe(train_path, max_per_class=200, verbose=True)\n",
    "print(train_df.shape)\n",
    "train_df.head()\n"
   ]
  },
  {
   "cell_type": "code",
   "execution_count": 6,
   "id": "c6bb73d2-59e0-4210-858e-984dd7b9a5ab",
   "metadata": {},
   "outputs": [],
   "source": [
    "## Step 3: Cleaning Pipeline\n",
    "stop_words = set(stopwords.words(\"english\"))\n",
    "lemmatizer = WordNetLemmatizer()\n",
    "\n",
    "def clean_review(text):\n",
    "    \"\"\"\n",
    "    Clean and preprocess a movie review.\n",
    "    \"\"\"\n",
    "    # 1. Lowercase\n",
    "    text = text.lower()\n",
    "\n",
    "    # 2. Remove HTML tags\n",
    "    text = BeautifulSoup(text, \"html.parser\").get_text()\n",
    "\n",
    "    # 3. Remove URLs & emails\n",
    "    text = re.sub(r\"http\\S+|www\\S+|https\\S+\", \"\", text)\n",
    "    text = re.sub(r\"\\S+@\\S+\", \"\", text)\n",
    "\n",
    "    # 4. Remove punctuation, numbers, and emojis\n",
    "    text = re.sub(r\"[^a-z\\s]\", \"\", text)\n",
    "\n",
    "    # 5. Tokenize\n",
    "    tokens = text.split()\n",
    "\n",
    "    # 6. Remove stopwords + lemmatize\n",
    "    tokens = [lemmatizer.lemmatize(w) for w in tokens if w not in stop_words and len(w) > 2]\n",
    "\n",
    "    # 7. Join back\n",
    "    return \" \".join(tokens)"
   ]
  },
  {
   "cell_type": "code",
   "execution_count": 7,
   "id": "d6d66c85-e753-4c32-ad1a-5c6bb968260d",
   "metadata": {},
   "outputs": [
    {
     "name": "stdout",
     "output_type": "stream",
     "text": [
      "                                              review  \\\n",
      "0  Bromwell High is a cartoon comedy. It ran at t...   \n",
      "1  Homelessness (or Houselessness as George Carli...   \n",
      "2  Brilliant over-acting by Lesley Ann Warren. Be...   \n",
      "3  This is easily the most underrated film inn th...   \n",
      "4  This is not the typical Mel Brooks film. It wa...   \n",
      "\n",
      "                                      cleaned_review  \n",
      "0  bromwell high cartoon comedy ran time program ...  \n",
      "1  homelessness houselessness george carlin state...  \n",
      "2  brilliant overacting lesley ann warren best dr...  \n",
      "3  easily underrated film inn brook cannon sure f...  \n",
      "4  typical mel brook film much less slapstick mov...  \n"
     ]
    }
   ],
   "source": [
    "# Apply cleaning\n",
    "train_df[\"cleaned_review\"] = train_df[\"review\"].apply(clean_review)\n",
    "\n",
    "# Check results\n",
    "print(train_df[[\"review\", \"cleaned_review\"]].head(5))\n"
   ]
  },
  {
   "cell_type": "code",
   "execution_count": 8,
   "id": "9a2c4e04-334a-4250-a64e-c86eb3ef9131",
   "metadata": {},
   "outputs": [
    {
     "name": "stdout",
     "output_type": "stream",
     "text": [
      "RAW: The film is bad. There is no other way to say it. The story is weak and outdated, especially for this country. I don't think most people know what a \"walker\" is or will really care. I felt as if I was\n",
      "CLEANED: film bad way say story weak outdated especially country dont think people know walker really care felt watching movie subject believable year even set think rang true everyone else watched applause low quick end didnt stay eitheri dont think schrader really thought film ahead time many scene seemed cut short never finished didnt know finish jumped one scene next try figure guess going really didnt get woodys carter private life boyfriend either artistic male bondage torture picture iraq prison thinking think poor attempt trying create dark private subculture life woodys character car didnt work didnt even seem make sense reallythe good thing film woody harrelson played character car flawlessly really get great sense walker may like say twenty year ago great likely never get recognized lauren lily kristin boringdont see painful unless true harrelson fan\n",
      "--------------------------------------------------------------------------------\n",
      "RAW: Unfortunately I made a mistake and I paid 7 Euros at the movie theater to watch this shallow meaningless movie. My points;<br /><br />Film is based on 2 things;<br /><br />1) Ethnical point of View: A\n",
      "CLEANED: unfortunately made mistake paid euro movie theater watch shallow meaningless movie pointsfilm based thing ethnical point view happens american film writer think expert learning thing asian culture unfortunately enough knowing kunefe name food doesnt make person understand culture example shaving sign clean life asia everyone trying girl stop lebanese people christian got cultural form belief approach completely different arabic country main difference eastern western culture dont make ethnocentrism dont judge people first question life father figure film sexual revolution girl nothing much say show girl sexual awakening say wrongi wrote comment producer promoting film black humor genre please watch drstrangelove understand meaning black humor black humor reflect truth focus audience funny part truth meaning movie\n",
      "--------------------------------------------------------------------------------\n",
      "RAW: Just two comments....SEVEN years apart? Hardly evidence of the film's relentless pulling-power! As has been mentioned, the low-budget telemovie status of 13 GANTRY ROW is a mitigating factor in its li\n",
      "CLEANED: two commentsseven year apart hardly evidence film relentless pullingpower mentioned lowbudget telemovie status gantry row mitigating factor limited appeal said however thing without merit either entertainment fright outing per setrue plot basic reworking amityville horror without much horror case intrigue gibney might made worthwhile impression played halifax investigating couple seemingly unconnected murder house main suspect script better average production overall high standard fails engage viewer particularly key momentshaving picked dvd mere last week regular video store cannot begrudge expenditure would acceptable price film dont expect firework\n",
      "--------------------------------------------------------------------------------\n",
      "RAW: This film is one giant pant load. Paul Schrader is utterly lost in his own bad screenplay. And his directing is about as comatose as it can be without his actually having been sleepwalking during the \n",
      "CLEANED: film one giant pant load paul schrader utterly lost bad screenplay directing comatose without actually sleepwalking process worst though woody harrelson ordinarily like he properly cast play walker homosexual man play social companion bored wife washington elite couldnt one dimensional cut magazine bounced around front camera popsicle stick southern accent rack version decrescendo beginning end every line delivers though heat humidity south still draining every ounce energy monotonous worst accent movie boyfriend played moritz bleibtreau attempt affect kind mid east accent clumsy barely deliver bad line written incapable rolling spite fact real life german speaks several language one italian thats kind good reason cast someone else dont think story screenplay directing camera work performance lead movie bad beginning end tolerable moment film came three supporting actress lily tomlin lauren bacall kristin scott thomas three managed make movie dignity tact fact three excellent spite trapped really bad film ufortunately one could ever good enough redeem endless series flaw like three actress watch something else movie worth time\n",
      "--------------------------------------------------------------------------------\n",
      "RAW: This spectacular film is one of the most amazing movies I have ever seen. It shows a China I had never seen or imagined, and I believe it shows 1930's China in the most REAL light ever seen in a movie\n",
      "CLEANED: spectacular film one amazing movie ever seen show china never seen imagined believe show china real light ever seen movie absolutely heartbreaking many situation seeing hard life character yet story ending incredibly joyful truly see depth heigths human existence film actor perfect feel like really entered different world simply recommend movie highly enough may change forever seen\n",
      "--------------------------------------------------------------------------------\n"
     ]
    }
   ],
   "source": [
    "## step 5 : Deliverable:  Before/After Examples\n",
    "examples = train_df.sample(5, random_state=42)\n",
    "for i, row in examples.iterrows():\n",
    "    print(\"RAW:\", row[\"review\"][:200])  # print first 200 chars\n",
    "    print(\"CLEANED:\", row[\"cleaned_review\"])\n",
    "    print(\"-\"*80)\n"
   ]
  },
  {
   "cell_type": "code",
   "execution_count": 9,
   "id": "e0d63007-97a0-43c2-8830-75fecd50eb96",
   "metadata": {},
   "outputs": [
    {
     "name": "stdout",
     "output_type": "stream",
     "text": [
      "Shape of TF-IDF matrix: (400, 5000)\n"
     ]
    }
   ],
   "source": [
    "## Step 6 : Optional\n",
    "\n",
    "from sklearn.feature_extraction.text import TfidfVectorizer\n",
    "\n",
    "# Split features (X) and labels (y)\n",
    "X = train_df[\"cleaned_review\"]\n",
    "y = train_df[\"label\"]\n",
    "\n",
    "# Convert text to TF-IDF features\n",
    "vectorizer = TfidfVectorizer(max_features=5000)  # limit to top 5000 words\n",
    "X_tfidf = vectorizer.fit_transform(X)\n",
    "\n",
    "print(\"Shape of TF-IDF matrix:\", X_tfidf.shape)\n"
   ]
  },
  {
   "cell_type": "code",
   "execution_count": 10,
   "id": "8403a694-d029-42f9-8532-a6424b2e8b2d",
   "metadata": {},
   "outputs": [
    {
     "name": "stdout",
     "output_type": "stream",
     "text": [
      "Train size: (320, 5000) Test size: (80, 5000)\n"
     ]
    }
   ],
   "source": [
    "from sklearn.model_selection import train_test_split\n",
    "\n",
    "X_train, X_test, y_train, y_test = train_test_split(\n",
    "    X_tfidf, y, test_size=0.2, random_state=42, stratify=y\n",
    ")\n",
    "\n",
    "print(\"Train size:\", X_train.shape, \"Test size:\", X_test.shape)\n"
   ]
  },
  {
   "cell_type": "code",
   "execution_count": 11,
   "id": "cacc6bb8-632a-4fa8-9668-6b96b2f3ef08",
   "metadata": {},
   "outputs": [
    {
     "name": "stdout",
     "output_type": "stream",
     "text": [
      "🔹 Logistic Regression Accuracy: 0.9125\n",
      "              precision    recall  f1-score   support\n",
      "\n",
      "           0       0.95      0.88      0.91        40\n",
      "           1       0.88      0.95      0.92        40\n",
      "\n",
      "    accuracy                           0.91        80\n",
      "   macro avg       0.91      0.91      0.91        80\n",
      "weighted avg       0.91      0.91      0.91        80\n",
      "\n"
     ]
    }
   ],
   "source": [
    "from sklearn.linear_model import LogisticRegression\n",
    "from sklearn.metrics import accuracy_score, classification_report, confusion_matrix\n",
    "\n",
    "# Train Logistic Regression\n",
    "log_reg = LogisticRegression(max_iter=1000, n_jobs=-1)\n",
    "log_reg.fit(X_train, y_train)\n",
    "\n",
    "# Predictions\n",
    "y_pred_log = log_reg.predict(X_test)\n",
    "\n",
    "# Evaluation\n",
    "print(\"🔹 Logistic Regression Accuracy:\", accuracy_score(y_test, y_pred_log))\n",
    "print(classification_report(y_test, y_pred_log))"
   ]
  },
  {
   "cell_type": "code",
   "execution_count": 12,
   "id": "d994a7dd-f784-4c4e-afe7-a9a5b7f28e0b",
   "metadata": {},
   "outputs": [
    {
     "name": "stdout",
     "output_type": "stream",
     "text": [
      "🔹 Naive Bayes Accuracy: 0.8875\n",
      "              precision    recall  f1-score   support\n",
      "\n",
      "           0       0.90      0.88      0.89        40\n",
      "           1       0.88      0.90      0.89        40\n",
      "\n",
      "    accuracy                           0.89        80\n",
      "   macro avg       0.89      0.89      0.89        80\n",
      "weighted avg       0.89      0.89      0.89        80\n",
      "\n"
     ]
    }
   ],
   "source": [
    "from sklearn.naive_bayes import MultinomialNB\n",
    "\n",
    "# Train Naive Bayes\n",
    "nb = MultinomialNB()\n",
    "nb.fit(X_train, y_train)\n",
    "\n",
    "# Predictions\n",
    "y_pred_nb = nb.predict(X_test)\n",
    "\n",
    "# Evaluation\n",
    "print(\"🔹 Naive Bayes Accuracy:\", accuracy_score(y_test, y_pred_nb))\n",
    "print(classification_report(y_test, y_pred_nb))\n"
   ]
  },
  {
   "cell_type": "code",
   "execution_count": 13,
   "id": "d70cc439-55e1-4512-8fbf-5adc968432f6",
   "metadata": {},
   "outputs": [
    {
     "data": {
      "image/png": "[encoded data removed]",
      "text/plain": [
       "<Figure size 600x400 with 2 Axes>"
      ]
     },
     "metadata": {},
     "output_type": "display_data"
    },
    {
     "data": {
      "image/png": "[encoded data removed]",
      "text/plain": [
       "<Figure size 600x400 with 2 Axes>"
      ]
     },
     "metadata": {},
     "output_type": "display_data"
    }
   ],
   "source": [
    "## Step 7 : Confusion Matrices (Optional Visualization)\n",
    "import matplotlib.pyplot as plt\n",
    "import seaborn as sns\n",
    "\n",
    "# Confusion matrix for Logistic Regression\n",
    "cm_log = confusion_matrix(y_test, y_pred_log)\n",
    "plt.figure(figsize=(6,4))\n",
    "sns.heatmap(cm_log, annot=True, fmt=\"d\", cmap=\"Blues\", xticklabels=[\"Negative\",\"Positive\"], yticklabels=[\"Negative\",\"Positive\"])\n",
    "plt.title(\"Logistic Regression - Confusion Matrix\")\n",
    "plt.ylabel(\"Actual\")\n",
    "plt.xlabel(\"Predicted\")\n",
    "plt.show()\n",
    "\n",
    "# Confusion matrix for Naive Bayes\n",
    "cm_nb = confusion_matrix(y_test, y_pred_nb)\n",
    "plt.figure(figsize=(6,4))\n",
    "sns.heatmap(cm_nb, annot=True, fmt=\"d\", cmap=\"Oranges\", xticklabels=[\"Negative\",\"Positive\"], yticklabels=[\"Negative\",\"Positive\"])\n",
    "plt.title(\"Naive Bayes - Confusion Matrix\")\n",
    "plt.ylabel(\"Actual\")\n",
    "plt.xlabel(\"Predicted\")\n",
    "plt.show()\n"
   ]
  },
  {
   "cell_type": "markdown",
   "id": "4cb1a9ec-ac70-4d62-87c2-93a2d93cb1c1",
   "metadata": {},
   "source": [
    "## Task Is Done "
   ]
  },
  {
   "cell_type": "code",
   "execution_count": null,
   "id": "3aba3aa5-8f70-4e84-ab17-a41ce530db00",
   "metadata": {},
   "outputs": [],
   "source": []
  }
 ],
 "metadata": {
  "kernelspec": {
   "display_name": "Python [conda env:base] *",
   "language": "python",
   "name": "conda-base-py"
  },
  "language_info": {
   "codemirror_mode": {
    "name": "ipython",
    "version": 3
   },
   "file_extension": ".py",
   "mimetype": "text/x-python",
   "name": "python",
   "nbconvert_exporter": "python",
   "pygments_lexer": "ipython3",
   "version": "3.13.5"
  }
 },
 "nbformat": 4,
 "nbformat_minor": 5
}
