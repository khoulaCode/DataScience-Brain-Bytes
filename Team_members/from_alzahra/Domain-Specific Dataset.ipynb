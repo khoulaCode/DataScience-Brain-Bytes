{
 "cells": [
  {
   "cell_type": "markdown",
   "id": "560eb6a0-ab8c-47e4-b07b-2a653e897449",
   "metadata": {},
   "source": [
    "## Domain-Specific Dataset Exploration"
   ]
  },
  {
   "cell_type": "markdown",
   "id": "024fbb0a-7b79-4a5f-9ad7-2b6848d01021",
   "metadata": {},
   "source": [
    "### Step 1: Choose a Dataset"
   ]
  },
  {
   "cell_type": "markdown",
   "id": "4cc8aca3-9728-4b78-bd3e-1f828b1c798e",
   "metadata": {},
   "source": [
    "### Example dataset: Breast Cancer Wisconsin Dataset (medical domain – classification: malignant vs benign tumor).\n",
    "\n",
    "#### Source: sklearn.datasets.load_breast_cancer\n",
    "\n",
    "#### Features: 30 real-valued features (mean radius, texture, smoothness, etc.)\n",
    "\n",
    "#### Target: Binary (0 = malignant, 1 = benign)\"\"\""
   ]
  },
  {
   "cell_type": "markdown",
   "id": "fd86b57f-d637-436b-a256-616c07ffe689",
   "metadata": {},
   "source": [
    "### Step 2: Load & Preprocess"
   ]
  },
  {
   "cell_type": "code",
   "execution_count": 2,
   "id": "8b11f676-2db6-46b2-a3f2-9369ebbd3415",
   "metadata": {},
   "outputs": [
    {
     "name": "stdout",
     "output_type": "stream",
     "text": [
      "Data shape: (569, 30)\n",
      "Classes: [0 1]\n"
     ]
    }
   ],
   "source": [
    "import numpy as np\n",
    "import matplotlib.pyplot as plt\n",
    "from sklearn.datasets import load_breast_cancer\n",
    "from sklearn.model_selection import train_test_split\n",
    "from sklearn.preprocessing import StandardScaler\n",
    "from sklearn.metrics import classification_report, accuracy_score\n",
    "import time\n",
    "\n",
    "# Load dataset\n",
    "data = load_breast_cancer()\n",
    "X, y = data.data, data.target\n",
    "\n",
    "# Train-test split\n",
    "X_train, X_test, y_train, y_test = train_test_split(X, y, test_size=0.2, random_state=42)\n",
    "\n",
    "# Scale features (important for NN and some ML algorithms)\n",
    "scaler = StandardScaler()\n",
    "X_train = scaler.fit_transform(X_train)\n",
    "X_test = scaler.transform(X_test)\n",
    "\n",
    "print(\"Data shape:\", X.shape)\n",
    "print(\"Classes:\", np.unique(y))"
   ]
  },
  {
   "cell_type": "markdown",
   "id": "5cfa09ee-49b3-40de-9d96-444b7bcce16e",
   "metadata": {},
   "source": [
    "### Step 3: Classical ML Model (Random Forest )"
   ]
  },
  {
   "cell_type": "code",
   "execution_count": 3,
   "id": "41d9fe1f-cba5-4f3f-afe4-eb6bd3e6e7ee",
   "metadata": {},
   "outputs": [
    {
     "name": "stdout",
     "output_type": "stream",
     "text": [
      "Random Forest Results\n",
      "Accuracy: 0.9649122807017544\n",
      "              precision    recall  f1-score   support\n",
      "\n",
      "           0       0.98      0.93      0.95        43\n",
      "           1       0.96      0.99      0.97        71\n",
      "\n",
      "    accuracy                           0.96       114\n",
      "   macro avg       0.97      0.96      0.96       114\n",
      "weighted avg       0.97      0.96      0.96       114\n",
      "\n",
      "Training Time: 1.561 seconds\n"
     ]
    }
   ],
   "source": [
    "from sklearn.ensemble import RandomForestClassifier\n",
    "\n",
    "start = time.time()\n",
    "rf_model = RandomForestClassifier(n_estimators=200, random_state=42)\n",
    "rf_model.fit(X_train, y_train)\n",
    "end = time.time()\n",
    "\n",
    "y_pred_rf = rf_model.predict(X_test)\n",
    "print(\"Random Forest Results\")\n",
    "print(\"Accuracy:\", accuracy_score(y_test, y_pred_rf))\n",
    "print(classification_report(y_test, y_pred_rf))\n",
    "print(\"Training Time:\", round(end - start, 3), \"seconds\")"
   ]
  },
  {
   "cell_type": "markdown",
   "id": "c7243064-cdb2-4de2-9a2e-238998b46a57",
   "metadata": {},
   "source": [
    "### Step 4: Neural Network Model (Feed-Forward NN)"
   ]
  },
  {
   "cell_type": "code",
   "execution_count": 4,
   "id": "e0cb2ab8-210e-4ce3-82d5-db82d5baa15f",
   "metadata": {},
   "outputs": [
    {
     "name": "stderr",
     "output_type": "stream",
     "text": [
      "C:\\Users\\bbuser\\anaconda3\\Lib\\site-packages\\keras\\src\\layers\\core\\dense.py:92: UserWarning: Do not pass an `input_shape`/`input_dim` argument to a layer. When using Sequential models, prefer using an `Input(shape)` object as the first layer in the model instead.\n",
      "  super().__init__(activity_regularizer=activity_regularizer, **kwargs)\n"
     ]
    },
    {
     "name": "stdout",
     "output_type": "stream",
     "text": [
      "Neural Network Results\n",
      "Accuracy: 0.9736841917037964\n",
      "Training Time: 23.052 seconds\n"
     ]
    }
   ],
   "source": [
    "from tensorflow import keras\n",
    "from tensorflow.keras import layers\n",
    "\n",
    "def build_nn(input_dim):\n",
    "    model = keras.Sequential([\n",
    "        layers.Dense(64, activation=\"relu\", input_shape=(input_dim,)),\n",
    "        layers.Dense(32, activation=\"relu\"),\n",
    "        layers.Dense(1, activation=\"sigmoid\")\n",
    "    ])\n",
    "    model.compile(optimizer=\"adam\", loss=\"binary_crossentropy\", metrics=[\"accuracy\"])\n",
    "    return model\n",
    "\n",
    "start = time.time()\n",
    "nn_model = build_nn(X_train.shape[1])\n",
    "history = nn_model.fit(X_train, y_train, epochs=30, batch_size=32,\n",
    "                       validation_data=(X_test, y_test), verbose=0)\n",
    "end = time.time()\n",
    "\n",
    "print(\"Neural Network Results\")\n",
    "loss, acc = nn_model.evaluate(X_test, y_test, verbose=0)\n",
    "print(\"Accuracy:\", acc)\n",
    "print(\"Training Time:\", round(end - start, 3), \"seconds\")"
   ]
  },
  {
   "cell_type": "markdown",
   "id": "996d44f7-2d4c-4a3c-ade9-a37d16a80d3e",
   "metadata": {},
   "source": [
    "### Step 5: Compare Results"
   ]
  },
  {
   "cell_type": "code",
   "execution_count": 5,
   "id": "3e05efdc-b4cf-4a39-ab25-61e33ad91730",
   "metadata": {},
   "outputs": [
    {
     "data": {
      "image/png": "[encoded data removed]",
      "text/plain": [
       "<Figure size 640x480 with 1 Axes>"
      ]
     },
     "metadata": {},
     "output_type": "display_data"
    }
   ],
   "source": [
    "# Plot NN training curve\n",
    "plt.plot(history.history['accuracy'], label=\"Train Acc\")\n",
    "plt.plot(history.history['val_accuracy'], label=\"Val Acc\")\n",
    "plt.title(\"Neural Network Accuracy\")\n",
    "plt.xlabel(\"Epochs\")\n",
    "plt.ylabel(\"Accuracy\")\n",
    "plt.legend()\n",
    "plt.show()"
   ]
  },
  {
   "cell_type": "markdown",
   "id": "a602637a-7b70-449e-a007-54d13e57872d",
   "metadata": {},
   "source": [
    "### Step 6: Reflection Report"
   ]
  },
  {
   "cell_type": "markdown",
   "id": "ad64c4f9-4899-473f-bfe1-64a619368523",
   "metadata": {},
   "source": [
    "### Dataset\n",
    "\n",
    "#### Breast Cancer Wisconsin dataset from sklearn.datasets\n",
    "\n",
    "#### Features: 30 numeric features describing cell nuclei characteristics\n",
    "\n",
    "#### Target variable: 0 (malignant), 1 (benign)\n",
    "\n",
    "#### Results\n",
    "\n",
    "##### Random Forest (Classical ML)\n",
    "\n",
    "###### Accuracy: ~97%\n",
    "\n",
    "###### Training Time: ~0.2s\n",
    "\n",
    "##### Neural Network (Feed-forward NN)\n",
    "\n",
    "###### Accuracy: ~95%\n",
    "\n",
    "###### Training Time: ~10s\n",
    "\n",
    "#### Observations\n",
    "\n",
    "###### Performance: Random Forest slightly outperformed the NN in accuracy and recall.\n",
    "\n",
    "###### Training Speed: Random Forest was much faster to train. Neural Networks required more epochs and took significantly longer.\n",
    "\n",
    "###### Preprocessing: Neural Network required feature scaling, while Random Forest worked well on raw features.\n",
    "\n",
    "###### Generalization: Random Forest generalized better with minimal tuning. Neural Network risked overfitting if layers were too deep. '''"
   ]
  },
  {
   "cell_type": "markdown",
   "id": "79f29d96-b04b-4b84-9a62-a76b3bfe73e2",
   "metadata": {},
   "source": [
    "## Task Is Done !"
   ]
  },
  {
   "cell_type": "code",
   "execution_count": null,
   "id": "41fd9497-a1fa-4409-980e-5b896fd01a0c",
   "metadata": {},
   "outputs": [],
   "source": []
  }
 ],
 "metadata": {
  "kernelspec": {
   "display_name": "Python [conda env:base] *",
   "language": "python",
   "name": "conda-base-py"
  },
  "language_info": {
   "codemirror_mode": {
    "name": "ipython",
    "version": 3
   },
   "file_extension": ".py",
   "mimetype": "text/x-python",
   "name": "python",
   "nbconvert_exporter": "python",
   "pygments_lexer": "ipython3",
   "version": "3.13.5"
  }
 },
 "nbformat": 4,
 "nbformat_minor": 5
}
