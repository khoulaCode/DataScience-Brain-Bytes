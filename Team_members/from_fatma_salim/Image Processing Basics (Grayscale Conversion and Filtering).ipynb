{
 "cells": [
  {
   "cell_type": "markdown",
   "id": "e4683e13-ac73-4ee0-9438-c763a2799729",
   "metadata": {},
   "source": [
    "## Task Scenario:\n",
    "You're working on a basic image processing application. You're given a simple grayscale image represented as a NumPy array where each pixel value indicates intensity (0 for black, 255 for white). You need to perform some fundamental operations."
   ]
  },
  {
   "cell_type": "markdown",
   "id": "fd30082e-1103-46c2-8d48-40435b58dba6",
   "metadata": {},
   "source": [
    "## Image Representation: \n",
    " \n",
    " \n",
    "Create a 2D NumPy array (e.g., 10x10) to represent a grayscale image. Initialize it with random integer pixel values between 0 and 255."
   ]
  },
  {
   "cell_type": "code",
   "execution_count": 9,
   "id": "d613d126-dc21-45fd-8736-8a7af59f7408",
   "metadata": {},
   "outputs": [
    {
     "data": {
      "text/plain": [
       "array([[172,  47, 117, 192,  67, 251, 195, 103,   9, 211],\n",
       "       [ 21, 242,  36,  87,  70, 216,  88, 140,  58, 193],\n",
       "       [230,  39,  87, 174,  88,  81, 165,  25,  77,  72],\n",
       "       [  9, 148, 115, 208, 243, 197, 254,  79, 175, 192],\n",
       "       [ 82,  99, 216, 177, 243,  29, 147, 147, 142, 167],\n",
       "       [ 32, 193,   9, 185, 127,  32,  31, 202, 244, 151],\n",
       "       [163, 254, 203, 114, 183,  28,  34, 128, 128, 164],\n",
       "       [ 53, 133,  38, 232, 244,  17,  79, 132, 105,  42],\n",
       "       [186,  31, 120,   1,  65, 231, 169,  57,  35, 102],\n",
       "       [119,  11, 174,  82,  91, 128, 142,  99,  53, 140]], dtype=int32)"
      ]
     },
     "execution_count": 9,
     "metadata": {},
     "output_type": "execute_result"
    }
   ],
   "source": [
    "import numpy as np\n",
    "import matplotlib.pyplot as plt\n",
    "\n",
    "\n",
    "np.random.seed(0)  # for consistent results\n",
    "image = np.random.randint(0, 256, size=(10, 10))\n",
    "\n",
    "image"
   ]
  },
  {
   "cell_type": "markdown",
   "id": "9c19292a-ea7f-4496-8ee3-267662c446d7",
   "metadata": {},
   "source": [
    "## Display (Conceptual): \n",
    " \n",
    " \n",
    "Describe how you would conceptually \"display\" this image (e.g., using a library like Matplotlib, though you don't need to actually plot it unless you wish to).\n",
    " \n"
   ]
  },
  {
   "cell_type": "code",
   "execution_count": 8,
   "id": "82511219-f03f-4903-8883-be7cdba88233",
   "metadata": {},
   "outputs": [
    {
     "data": {
      "image/png": "[encoded data removed]",
      "text/plain": [
       "<Figure size 640x480 with 2 Axes>"
      ]
     },
     "metadata": {},
     "output_type": "display_data"
    }
   ],
   "source": [
    "plt.imshow(image, cmap='gray')\n",
    "plt.title('Grayscale Image')\n",
    "plt.colorbar()\n",
    "plt.show()"
   ]
  },
  {
   "cell_type": "markdown",
   "id": "54b65511-b6bc-441d-8a1a-b6a4f08c3de3",
   "metadata": {},
   "source": [
    "## Grayscale Inversion: \n",
    " \n",
    " \n",
    "Invert the image (black becomes white, white becomes black). For a pixel value p, the inverted value is 255 - p.\n",
    " "
   ]
  },
  {
   "cell_type": "code",
   "execution_count": 11,
   "id": "e74c0427-66dd-4dd8-adf1-31ee4a20a3b9",
   "metadata": {},
   "outputs": [
    {
     "data": {
      "text/plain": [
       "array([[ 83, 208, 138,  63, 188,   4,  60, 152, 246,  44],\n",
       "       [234,  13, 219, 168, 185,  39, 167, 115, 197,  62],\n",
       "       [ 25, 216, 168,  81, 167, 174,  90, 230, 178, 183],\n",
       "       [246, 107, 140,  47,  12,  58,   1, 176,  80,  63],\n",
       "       [173, 156,  39,  78,  12, 226, 108, 108, 113,  88],\n",
       "       [223,  62, 246,  70, 128, 223, 224,  53,  11, 104],\n",
       "       [ 92,   1,  52, 141,  72, 227, 221, 127, 127,  91],\n",
       "       [202, 122, 217,  23,  11, 238, 176, 123, 150, 213],\n",
       "       [ 69, 224, 135, 254, 190,  24,  86, 198, 220, 153],\n",
       "       [136, 244,  81, 173, 164, 127, 113, 156, 202, 115]], dtype=int32)"
      ]
     },
     "execution_count": 11,
     "metadata": {},
     "output_type": "execute_result"
    }
   ],
   "source": [
    "inverted_image = 255 - image\n",
    "inverted_image"
   ]
  },
  {
   "cell_type": "markdown",
   "id": "bc4f1776-8906-443c-89e5-2cf01152180a",
   "metadata": {},
   "source": [
    "## Thresholding: \n",
    " \n",
    " \n",
    "Apply a simple thresholding operation: all pixels below a certain value (e.g., 128) become 0 (black), and all pixels equal to or above become 255 (white)."
   ]
  },
  {
   "cell_type": "code",
   "execution_count": 12,
   "id": "f446169b-8086-4a99-a959-e4414801af12",
   "metadata": {},
   "outputs": [
    {
     "data": {
      "text/plain": [
       "array([[255,   0,   0, 255,   0, 255, 255,   0,   0, 255],\n",
       "       [  0, 255,   0,   0,   0, 255,   0, 255,   0, 255],\n",
       "       [255,   0,   0, 255,   0,   0, 255,   0,   0,   0],\n",
       "       [  0, 255,   0, 255, 255, 255, 255,   0, 255, 255],\n",
       "       [  0,   0, 255, 255, 255,   0, 255, 255, 255, 255],\n",
       "       [  0, 255,   0, 255,   0,   0,   0, 255, 255, 255],\n",
       "       [255, 255, 255,   0, 255,   0,   0, 255, 255, 255],\n",
       "       [  0, 255,   0, 255, 255,   0,   0, 255,   0,   0],\n",
       "       [255,   0,   0,   0,   0, 255, 255,   0,   0,   0],\n",
       "       [  0,   0, 255,   0,   0, 255, 255,   0,   0, 255]])"
      ]
     },
     "execution_count": 12,
     "metadata": {},
     "output_type": "execute_result"
    }
   ],
   "source": [
    "# Apply thresholding: if pixel < 128 -> 0, else -> 255\n",
    "thresholded_image = np.where(image < 128, 0, 255)\n",
    "thresholded_image"
   ]
  },
  {
   "cell_type": "markdown",
   "id": "ec5384d5-da80-4794-9995-f1b4a8843ed4",
   "metadata": {},
   "source": [
    "## Cropping: \n",
    " \n",
    " \n",
    "Extract a smaller \"region of interest\" (e.g., a 4x4 sub-image from the center) using array slicing.\n",
    " \n",
    " "
   ]
  },
  {
   "cell_type": "code",
   "execution_count": 13,
   "id": "2416bcc6-1831-454e-9033-8464c2d4e8ea",
   "metadata": {},
   "outputs": [
    {
     "data": {
      "text/plain": [
       "array([[208, 243, 197, 254],\n",
       "       [177, 243,  29, 147],\n",
       "       [185, 127,  32,  31],\n",
       "       [114, 183,  28,  34]], dtype=int32)"
      ]
     },
     "execution_count": 13,
     "metadata": {},
     "output_type": "execute_result"
    }
   ],
   "source": [
    "# Get 4x4 center region (rows 3-6, cols 3-6)\n",
    "cropped_image = image[3:7, 3:7]\n",
    "cropped_image"
   ]
  },
  {
   "cell_type": "markdown",
   "id": "2a3325f7-c46b-4a7a-a1b6-cda18300c057",
   "metadata": {},
   "source": [
    "## Edge Detection (Simple - Convolution Concept): \n",
    " \n",
    " \n",
    "Implement a very basic horizontal edge detection filter. This can be done by applying a convolution kernel (e.g., [-1, 0, 1] horizontally) to each row. For simplicity, you can just calculate the difference between adjacent pixels image[i, j+1] - image[i, j] for each pixel. Handle boundaries carefully (e.g., by skipping the last column).\n",
    " \n",
    " \n",
    " "
   ]
  },
  {
   "cell_type": "code",
   "execution_count": 14,
   "id": "916d475f-744a-489c-8da1-a4508292c214",
   "metadata": {},
   "outputs": [
    {
     "data": {
      "text/plain": [
       "array([[-125,   70,   75, -125,  184,  -56,  -92,  -94,  202,    0],\n",
       "       [ 221, -206,   51,  -17,  146, -128,   52,  -82,  135,    0],\n",
       "       [-191,   48,   87,  -86,   -7,   84, -140,   52,   -5,    0],\n",
       "       [ 139,  -33,   93,   35,  -46,   57, -175,   96,   17,    0],\n",
       "       [  17,  117,  -39,   66, -214,  118,    0,   -5,   25,    0],\n",
       "       [ 161, -184,  176,  -58,  -95,   -1,  171,   42,  -93,    0],\n",
       "       [  91,  -51,  -89,   69, -155,    6,   94,    0,   36,    0],\n",
       "       [  80,  -95,  194,   12, -227,   62,   53,  -27,  -63,    0],\n",
       "       [-155,   89, -119,   64,  166,  -62, -112,  -22,   67,    0],\n",
       "       [-108,  163,  -92,    9,   37,   14,  -43,  -46,   87,    0]])"
      ]
     },
     "execution_count": 14,
     "metadata": {},
     "output_type": "execute_result"
    }
   ],
   "source": [
    "edges = np.zeros_like(image, dtype=int)\n",
    "\n",
    "for i in range(image.shape[0]):\n",
    "    for j in range(image.shape[1] - 1):\n",
    "        edges[i, j] = int(image[i, j+1]) - int(image[i, j])\n",
    "\n",
    "edges"
   ]
  }
 ],
 "metadata": {
  "kernelspec": {
   "display_name": "Python [conda env:base] *",
   "language": "python",
   "name": "conda-base-py"
  },
  "language_info": {
   "codemirror_mode": {
    "name": "ipython",
    "version": 3
   },
   "file_extension": ".py",
   "mimetype": "text/x-python",
   "name": "python",
   "nbconvert_exporter": "python",
   "pygments_lexer": "ipython3",
   "version": "3.13.5"
  }
 },
 "nbformat": 4,
 "nbformat_minor": 5
}
