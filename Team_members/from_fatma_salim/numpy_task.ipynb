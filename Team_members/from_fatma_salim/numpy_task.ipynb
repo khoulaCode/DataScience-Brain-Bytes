{
 "cells": [
  {
   "cell_type": "markdown",
   "id": "869750f3-727a-49df-acb0-950558e06028",
   "metadata": {},
   "source": [
    "## part 1"
   ]
  },
  {
   "cell_type": "code",
   "execution_count": 4,
   "id": "d899d5a2-1b95-4063-bc13-a705e5497277",
   "metadata": {},
   "outputs": [],
   "source": [
    "import numpy as np "
   ]
  },
  {
   "cell_type": "code",
   "execution_count": 7,
   "id": "062a0b15-910e-4393-a1c8-efad30276337",
   "metadata": {},
   "outputs": [
    {
     "data": {
      "text/plain": [
       "numpy.ndarray"
      ]
     },
     "execution_count": 7,
     "metadata": {},
     "output_type": "execute_result"
    }
   ],
   "source": [
    "list_1d=[1, 2 ,3 ,4]\n",
    "arr_1d= np.array(list_1d)\n",
    "\n",
    "type (arr_1d)"
   ]
  },
  {
   "cell_type": "code",
   "execution_count": 9,
   "id": "5e350a97-0eab-4444-87d2-09d9b5f94293",
   "metadata": {},
   "outputs": [
    {
     "data": {
      "text/plain": [
       "1"
      ]
     },
     "execution_count": 9,
     "metadata": {},
     "output_type": "execute_result"
    }
   ],
   "source": [
    "arr_1d.ndim"
   ]
  },
  {
   "cell_type": "code",
   "execution_count": 10,
   "id": "7196fa2c-3217-4ba1-b7b5-26d274652be4",
   "metadata": {
    "scrolled": true
   },
   "outputs": [
    {
     "data": {
      "text/plain": [
       "array([[0., 0., 0.],\n",
       "       [0., 0., 0.],\n",
       "       [0., 0., 0.],\n",
       "       [0., 0., 0.],\n",
       "       [0., 0., 0.],\n",
       "       [0., 0., 0.]])"
      ]
     },
     "execution_count": 10,
     "metadata": {},
     "output_type": "execute_result"
    }
   ],
   "source": [
    "zeros_arr = np.zeros((6,3))\n",
    "zeros_arr"
   ]
  },
  {
   "cell_type": "code",
   "execution_count": null,
   "id": "0ec1c134-96ee-46f5-a303-a5937e80a17b",
   "metadata": {},
   "outputs": [],
   "source": []
  },
  {
   "cell_type": "code",
   "execution_count": 12,
   "id": "0594f366-4c4d-4a1a-9138-da90ba50bf39",
   "metadata": {
    "scrolled": true
   },
   "outputs": [
    {
     "data": {
      "text/plain": [
       "array([[[1., 1.],\n",
       "        [1., 1.],\n",
       "        [1., 1.]],\n",
       "\n",
       "       [[1., 1.],\n",
       "        [1., 1.],\n",
       "        [1., 1.]],\n",
       "\n",
       "       [[1., 1.],\n",
       "        [1., 1.],\n",
       "        [1., 1.]]])"
      ]
     },
     "execution_count": 12,
     "metadata": {},
     "output_type": "execute_result"
    }
   ],
   "source": [
    "ones_arr = np.ones((3 ,3,2))\n",
    "ones_arr"
   ]
  },
  {
   "cell_type": "code",
   "execution_count": null,
   "id": "a3b239f4-eb4e-4ca4-a136-b99fb52d52a8",
   "metadata": {},
   "outputs": [],
   "source": []
  },
  {
   "cell_type": "code",
   "execution_count": 16,
   "id": "f5fd3fb6-77fb-430c-8489-942d3c6e9f64",
   "metadata": {
    "scrolled": true
   },
   "outputs": [
    {
     "data": {
      "text/plain": [
       "array([[5, 5],\n",
       "       [5, 5],\n",
       "       [5, 5]])"
      ]
     },
     "execution_count": 16,
     "metadata": {},
     "output_type": "execute_result"
    }
   ],
   "source": [
    "full_arr = np.full((3,2),5)\n",
    "full_arr"
   ]
  },
  {
   "cell_type": "code",
   "execution_count": 26,
   "id": "8b89e4ce-294c-4d61-b5fa-c3feb6d6b0ee",
   "metadata": {},
   "outputs": [
    {
     "data": {
      "text/plain": [
       "array([0.        , 0.16666667, 0.33333333, 0.5       , 0.66666667,\n",
       "       0.83333333, 1.        ])"
      ]
     },
     "execution_count": 26,
     "metadata": {},
     "output_type": "execute_result"
    }
   ],
   "source": [
    "space_arr= np.linspace(0,1,7)\n",
    "space_arr"
   ]
  },
  {
   "cell_type": "code",
   "execution_count": null,
   "id": "2b4c4060-4796-4d0d-b280-85806b85f2c7",
   "metadata": {},
   "outputs": [],
   "source": [
    "rand_arr= np.random.rand(3,2)\n",
    "rand"
   ]
  },
  {
   "cell_type": "code",
   "execution_count": 19,
   "id": "d61f7100-d08a-4437-99be-ebee6bd9c076",
   "metadata": {},
   "outputs": [
    {
     "data": {
      "text/plain": [
       "array([0, 1, 2, 3, 4, 5, 6, 7, 8, 9])"
      ]
     },
     "execution_count": 19,
     "metadata": {},
     "output_type": "execute_result"
    }
   ],
   "source": [
    "arr1d= np.arange(0,10)\n",
    "arr1d"
   ]
  },
  {
   "cell_type": "code",
   "execution_count": 21,
   "id": "c46c4923-bf3b-4917-80bc-32c367240867",
   "metadata": {},
   "outputs": [
    {
     "data": {
      "text/plain": [
       "array([[1., 1., 1.],\n",
       "       [1., 1., 1.],\n",
       "       [1., 1., 1.]])"
      ]
     },
     "execution_count": 21,
     "metadata": {},
     "output_type": "execute_result"
    }
   ],
   "source": [
    "ones_arr= np.ones((3,3))\n",
    "ones_arr"
   ]
  },
  {
   "cell_type": "code",
   "execution_count": 22,
   "id": "8d63c395-e35d-4f77-a140-e49dd89d40e3",
   "metadata": {},
   "outputs": [
    {
     "data": {
      "text/plain": [
       "array([[0.07325721, 0.70768233, 0.18048614],\n",
       "       [0.21308752, 0.186929  , 0.59036684],\n",
       "       [0.53875142, 0.96019189, 0.07494783]])"
      ]
     },
     "execution_count": 22,
     "metadata": {},
     "output_type": "execute_result"
    }
   ],
   "source": [
    "random_matrix= np.random.rand (3,3)\n",
    "random_matrix"
   ]
  },
  {
   "cell_type": "code",
   "execution_count": 23,
   "id": "42d48b97-0d28-4eef-8408-0c45655f0678",
   "metadata": {},
   "outputs": [
    {
     "data": {
      "text/plain": [
       "array([10, 12, 14, 16, 18, 20, 22, 24, 26, 28, 30, 32, 34, 36, 38, 40, 42,\n",
       "       44, 46, 48, 50])"
      ]
     },
     "execution_count": 23,
     "metadata": {},
     "output_type": "execute_result"
    }
   ],
   "source": [
    "even_number= np.arange(10,51,2)\n",
    "even_number"
   ]
  },
  {
   "cell_type": "code",
   "execution_count": 27,
   "id": "9117db51-f860-46c1-a10c-62e97d4dd773",
   "metadata": {},
   "outputs": [
    {
     "data": {
      "text/plain": [
       "array([[1, 2, 3],\n",
       "       [4, 5, 6]])"
      ]
     },
     "execution_count": 27,
     "metadata": {},
     "output_type": "execute_result"
    }
   ],
   "source": [
    "arr= np.array([[1,2,3],[4,5,6]])\n",
    "arr"
   ]
  },
  {
   "cell_type": "code",
   "execution_count": 28,
   "id": "ec0159cc-f63b-439a-8238-ea1024f9c3af",
   "metadata": {},
   "outputs": [
    {
     "data": {
      "text/plain": [
       "(2, 3)"
      ]
     },
     "execution_count": 28,
     "metadata": {},
     "output_type": "execute_result"
    }
   ],
   "source": [
    "arr.shape"
   ]
  },
  {
   "cell_type": "code",
   "execution_count": 29,
   "id": "5754ae77-cc73-4309-a10b-55a68451175d",
   "metadata": {},
   "outputs": [
    {
     "data": {
      "text/plain": [
       "2"
      ]
     },
     "execution_count": 29,
     "metadata": {},
     "output_type": "execute_result"
    }
   ],
   "source": [
    "arr.ndim"
   ]
  },
  {
   "cell_type": "code",
   "execution_count": 30,
   "id": "1f728320-c91d-45ef-840c-e8f02189e22a",
   "metadata": {},
   "outputs": [
    {
     "data": {
      "text/plain": [
       "dtype('int64')"
      ]
     },
     "execution_count": 30,
     "metadata": {},
     "output_type": "execute_result"
    }
   ],
   "source": [
    "arr.dtype"
   ]
  },
  {
   "cell_type": "code",
   "execution_count": 32,
   "id": "da0920df-9024-4a1b-b2d3-21bcbfcb6e1e",
   "metadata": {},
   "outputs": [
    {
     "data": {
      "text/plain": [
       "numpy.ndarray"
      ]
     },
     "execution_count": 32,
     "metadata": {},
     "output_type": "execute_result"
    }
   ],
   "source": [
    "type(arr)"
   ]
  },
  {
   "cell_type": "markdown",
   "id": "e4f9c19b-2d44-4095-ad95-0021d798962e",
   "metadata": {},
   "source": [
    "## part2  "
   ]
  },
  {
   "cell_type": "code",
   "execution_count": 1,
   "id": "2a3acb86-3dc6-4858-8395-ca4caeb405e5",
   "metadata": {},
   "outputs": [
    {
     "name": "stdout",
     "output_type": "stream",
     "text": [
      "Reshaped (2x5) Array:\n",
      " [[0 1 2 3 4]\n",
      " [5 6 7 8 9]]\n"
     ]
    }
   ],
   "source": [
    "import numpy as np\n",
    "\n",
    "\n",
    "arr1d = np.arange(10)  \n",
    "reshaped_arr = arr1d.reshape(2, 5)\n",
    "print(\"Reshaped (2x5) Array:\\n\", reshaped_arr)"
   ]
  },
  {
   "cell_type": "code",
   "execution_count": 2,
   "id": "55efb301-4048-49ff-a62c-e49bdc0827cd",
   "metadata": {},
   "outputs": [
    {
     "name": "stdout",
     "output_type": "stream",
     "text": [
      "\n",
      "Transposed Array:\n",
      " [[0 5]\n",
      " [1 6]\n",
      " [2 7]\n",
      " [3 8]\n",
      " [4 9]]\n"
     ]
    }
   ],
   "source": [
    "transposed_arr = reshaped_arr.T\n",
    "print(\"\\nTransposed Array:\\n\", transposed_arr)\n"
   ]
  },
  {
   "cell_type": "code",
   "execution_count": 3,
   "id": "d116a15a-216f-4b62-8d59-cd8ea1dd35d5",
   "metadata": {},
   "outputs": [
    {
     "name": "stdout",
     "output_type": "stream",
     "text": [
      "\n",
      "Vertically Stacked 1D Arrays:\n",
      " [[1 2 3]\n",
      " [4 5 6]]\n"
     ]
    }
   ],
   "source": [
    "a = np.array([1, 2, 3])\n",
    "b = np.array([4, 5, 6])\n",
    "stacked_vertical = np.vstack((a, b))\n",
    "print(\"\\nVertically Stacked 1D Arrays:\\n\", stacked_vertical)\n"
   ]
  },
  {
   "cell_type": "code",
   "execution_count": 4,
   "id": "6d9a75ca-0a3a-4e80-889a-f3768745b43e",
   "metadata": {},
   "outputs": [
    {
     "name": "stdout",
     "output_type": "stream",
     "text": [
      "\n",
      "Horizontally Stacked 2D Arrays:\n",
      " [[1 2 5 6]\n",
      " [3 4 7 8]]\n"
     ]
    }
   ],
   "source": [
    "m1 = np.array([[1, 2], [3, 4]])\n",
    "m2 = np.array([[5, 6], [7, 8]])\n",
    "stacked_horizontal = np.hstack((m1, m2))\n",
    "print(\"\\nHorizontally Stacked 2D Arrays:\\n\", stacked_horizontal)"
   ]
  },
  {
   "cell_type": "code",
   "execution_count": 5,
   "id": "c4499086-de11-4ad3-a9df-e5db953be84d",
   "metadata": {},
   "outputs": [
    {
     "name": "stdout",
     "output_type": "stream",
     "text": [
      "\n",
      "Horizontally Split Arrays:\n",
      "Part 1:\n",
      " [[ 0  1]\n",
      " [ 4  5]\n",
      " [ 8  9]\n",
      " [12 13]]\n",
      "Part 2:\n",
      " [[ 2  3]\n",
      " [ 6  7]\n",
      " [10 11]\n",
      " [14 15]]\n"
     ]
    }
   ],
   "source": [
    "arr_to_split = np.arange(16).reshape(4, 4)\n",
    "split_horizontal = np.hsplit(arr_to_split, 2)\n",
    "print(\"\\nHorizontally Split Arrays:\")\n",
    "for i, part in enumerate(split_horizontal, 1):\n",
    "    print(f\"Part {i}:\\n\", part)"
   ]
  },
  {
   "cell_type": "code",
   "execution_count": 6,
   "id": "20c7b705-df02-4f3a-8a3a-8343169f1808",
   "metadata": {},
   "outputs": [
    {
     "name": "stdout",
     "output_type": "stream",
     "text": [
      "\n",
      "Vertically Split Arrays:\n",
      "Part 1:\n",
      " [[0 1 2 3]\n",
      " [4 5 6 7]]\n",
      "Part 2:\n",
      " [[ 8  9 10 11]\n",
      " [12 13 14 15]]\n"
     ]
    }
   ],
   "source": [
    "split_vertical = np.vsplit(arr_to_split, 2)\n",
    "print(\"\\nVertically Split Arrays:\")\n",
    "for i, part in enumerate(split_vertical, 1):\n",
    "    print(f\"Part {i}:\\n\", part)"
   ]
  },
  {
   "cell_type": "markdown",
   "id": "3e350955-7c05-47ef-9d45-fb5cba281e7c",
   "metadata": {},
   "source": [
    "## part 3"
   ]
  },
  {
   "cell_type": "code",
   "execution_count": 7,
   "id": "03c77f0f-722e-47fa-aded-44bf1bd62de9",
   "metadata": {},
   "outputs": [
    {
     "name": "stdout",
     "output_type": "stream",
     "text": [
      "Reshaped Array:\n",
      " [[0 1 2 3 4]\n",
      " [5 6 7 8 9]]\n"
     ]
    }
   ],
   "source": [
    "import numpy as np\n",
    "\n",
    "\n",
    "arr1d = np.arange(10)\n",
    "\n",
    "\n",
    "reshaped_arr = arr1d.reshape(2, 5)\n",
    "print(\"Reshaped Array:\\n\", reshaped_arr)"
   ]
  },
  {
   "cell_type": "code",
   "execution_count": 8,
   "id": "d5cf2eec-dd64-4e1f-8543-66f4589e1d46",
   "metadata": {},
   "outputs": [
    {
     "name": "stdout",
     "output_type": "stream",
     "text": [
      "\n",
      "Transposed Array:\n",
      " [[0 5]\n",
      " [1 6]\n",
      " [2 7]\n",
      " [3 8]\n",
      " [4 9]]\n",
      "\n",
      "Vertical Stack:\n",
      " [[1 2 3]\n",
      " [4 5 6]]\n",
      "\n",
      "Horizontal Stack:\n",
      " [[1 2 5 6]\n",
      " [3 4 7 8]]\n"
     ]
    }
   ],
   "source": [
    "transposed_arr = reshaped_arr.T\n",
    "print(\"\\nTransposed Array:\\n\", transposed_arr)\n",
    "\n",
    "\n",
    "a = np.array([1, 2, 3])\n",
    "b = np.array([4, 5, 6])\n",
    "v_stack = np.vstack((a, b))\n",
    "print(\"\\nVertical Stack:\\n\", v_stack)\n",
    "\n",
    "\n",
    "m1 = np.array([[1, 2], [3, 4]])\n",
    "m2 = np.array([[5, 6], [7, 8]])\n",
    "h_stack = np.hstack((m1, m2))\n",
    "print(\"\\nHorizontal Stack:\\n\", h_stack)\n",
    "\n"
   ]
  },
  {
   "cell_type": "code",
   "execution_count": 9,
   "id": "aa904d19-2969-49f9-8079-998d6da1aa89",
   "metadata": {},
   "outputs": [
    {
     "name": "stdout",
     "output_type": "stream",
     "text": [
      "\n",
      "Horizontal Split:\n",
      "[[ 0  1]\n",
      " [ 4  5]\n",
      " [ 8  9]\n",
      " [12 13]]\n",
      "[[ 2  3]\n",
      " [ 6  7]\n",
      " [10 11]\n",
      " [14 15]]\n",
      "\n",
      "Vertical Split:\n",
      "[[0 1 2 3]\n",
      " [4 5 6 7]]\n",
      "[[ 8  9 10 11]\n",
      " [12 13 14 15]]\n"
     ]
    }
   ],
   "source": [
    "\n",
    "arr_to_split = np.arange(16).reshape(4, 4)\n",
    "split_h = np.hsplit(arr_to_split, 2)\n",
    "print(\"\\nHorizontal Split:\")\n",
    "for part in split_h:\n",
    "    print(part)\n",
    "\n",
    "\n",
    "split_v = np.vsplit(arr_to_split, 2)\n",
    "print(\"\\nVertical Split:\")\n",
    "for part in split_v:\n",
    "    print(part)"
   ]
  },
  {
   "cell_type": "markdown",
   "id": "f5ea58f9-6ebb-4f6c-bb80-ff38392898ad",
   "metadata": {},
   "source": [
    "## part 4"
   ]
  },
  {
   "cell_type": "code",
   "execution_count": 10,
   "id": "a12b1f5a-f9ce-4ed1-8b1f-a13afb37859c",
   "metadata": {},
   "outputs": [
    {
     "name": "stdout",
     "output_type": "stream",
     "text": [
      "Element-wise Multiplication:\n",
      " [ 20  80 180]\n",
      "Element-wise Division:\n",
      " [5. 5. 5.]\n"
     ]
    }
   ],
   "source": [
    "import numpy as np\n",
    "\n",
    "\n",
    "arr_op1 = np.array([10, 20, 30])\n",
    "arr_op2 = np.array([2, 4, 6])\n",
    "\n",
    "multiplication = arr_op1 * arr_op2\n",
    "division = arr_op1 / arr_op2\n",
    "\n",
    "print(\"Element-wise Multiplication:\\n\", multiplication)\n",
    "print(\"Element-wise Division:\\n\", division)\n"
   ]
  },
  {
   "cell_type": "code",
   "execution_count": 11,
   "id": "6ffc9e55-eee8-4413-a9cf-ec7d9bb79728",
   "metadata": {},
   "outputs": [
    {
     "name": "stdout",
     "output_type": "stream",
     "text": [
      "\n",
      "Sum of all elements in matrix: 45\n"
     ]
    }
   ],
   "source": [
    "matrix = np.array([[1, 2, 3],\n",
    "                   [4, 5, 6],\n",
    "                   [7, 8, 9]])\n",
    "\n",
    "total_sum = np.sum(matrix)\n",
    "print(\"\\nSum of all elements in matrix:\", total_sum)\n"
   ]
  },
  {
   "cell_type": "code",
   "execution_count": 12,
   "id": "795395d7-663c-4aff-9df0-905b9e61fdc7",
   "metadata": {},
   "outputs": [
    {
     "name": "stdout",
     "output_type": "stream",
     "text": [
      "Mean of each column: [4. 5. 6.]\n"
     ]
    }
   ],
   "source": [
    "column_mean = np.mean(matrix, axis=0)\n",
    "print(\"Mean of each column:\", column_mean)"
   ]
  },
  {
   "cell_type": "code",
   "execution_count": 13,
   "id": "1348c301-d38b-4afa-a65a-de5d7af9d98c",
   "metadata": {},
   "outputs": [
    {
     "name": "stdout",
     "output_type": "stream",
     "text": [
      "Discounted Prices: [ 90. 135. 180. 225.]\n"
     ]
    }
   ],
   "source": [
    "price_array = np.array([100, 150, 200, 250])\n",
    "discount_percentage = 0.10\n",
    "\n",
    "discounted_prices = price_array * (1 - discount_percentage)\n",
    "print(\"Discounted Prices:\", discounted_prices)"
   ]
  },
  {
   "cell_type": "code",
   "execution_count": null,
   "id": "2a3875c7-7498-47a8-87b7-616d6cf38096",
   "metadata": {},
   "outputs": [],
   "source": []
  }
 ],
 "metadata": {
  "kernelspec": {
   "display_name": "Python [conda env:base] *",
   "language": "python",
   "name": "conda-base-py"
  },
  "language_info": {
   "codemirror_mode": {
    "name": "ipython",
    "version": 3
   },
   "file_extension": ".py",
   "mimetype": "text/x-python",
   "name": "python",
   "nbconvert_exporter": "python",
   "pygments_lexer": "ipython3",
   "version": "3.13.5"
  }
 },
 "nbformat": 4,
 "nbformat_minor": 5
}
