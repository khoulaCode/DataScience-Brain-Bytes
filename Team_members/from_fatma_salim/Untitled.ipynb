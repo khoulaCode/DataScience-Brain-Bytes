{
 "cells": [
  {
   "cell_type": "code",
   "execution_count": 11,
   "id": "506fc299-b0a7-43b6-9a79-0b273bc41674",
   "metadata": {},
   "outputs": [
    {
     "name": "stdout",
     "output_type": "stream",
     "text": [
      "Saved: turtle_image.png\n"
     ]
    }
   ],
   "source": [
    "import requests\n",
    "from bs4 import BeautifulSoup\n",
    "from urllib.parse import urljoin\n",
    "\n",
    "root = 'https://www.scrapethissite.com/pages/frames/'\n",
    "r = requests.get(root)\n",
    "soup = BeautifulSoup(r.text, 'html.parser')\n",
    "\n",
    "iframe = soup.find('iframe')\n",
    "frame_url = urljoin(root, iframe['src'])\n",
    "r2 = requests.get(frame_url)\n",
    "soup2 = BeautifulSoup(r2.text, 'html.parser')\n",
    "\n",
    "# Assuming image tag inside that frame page\n",
    "img_tag = soup2.find('img')\n",
    "img_url = urljoin(frame_url, img_tag['src'])\n",
    "\n",
    "resp = requests.get(img_url)\n",
    "fname = 'turtle_image.' + img_url.split('.')[-1]\n",
    "with open(fname, 'wb') as f:\n",
    "    f.write(resp.content)\n",
    "print(\"Saved:\", fname)\n"
   ]
  },
  {
   "cell_type": "code",
   "execution_count": 12,
   "id": "fbed38bb-b317-4c0c-b1cd-3212828d3707",
   "metadata": {},
   "outputs": [],
   "source": [
    "\n"
   ]
  },
  {
   "cell_type": "code",
   "execution_count": null,
   "id": "005a3f3b-189b-4f94-bab0-5657480af8f2",
   "metadata": {},
   "outputs": [],
   "source": []
  }
 ],
 "metadata": {
  "kernelspec": {
   "display_name": "Python [conda env:base] *",
   "language": "python",
   "name": "conda-base-py"
  },
  "language_info": {
   "codemirror_mode": {
    "name": "ipython",
    "version": 3
   },
   "file_extension": ".py",
   "mimetype": "text/x-python",
   "name": "python",
   "nbconvert_exporter": "python",
   "pygments_lexer": "ipython3",
   "version": "3.13.5"
  }
 },
 "nbformat": 4,
 "nbformat_minor": 5
}
