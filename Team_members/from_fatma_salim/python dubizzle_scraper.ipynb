{
 "cells": [
  {
   "cell_type": "code",
   "execution_count": null,
   "id": "29aaeb62-2825-4396-ba2e-d89f0651f560",
   "metadata": {},
   "outputs": [],
   "source": [
    "!pip install playwright openpyxl\n",
    "!playwright install\n",
    "\n",
    "from playwright.async_api import async_playwright\n",
    "import pandas as pd\n",
    "\n",
    "# Define async scraping function\n",
    "async def scrape_dubizzle():\n",
    "    data = []\n",
    "    async with async_playwright() as p:\n",
    "        browser = await p.chromium.launch(headless=True)\n",
    "        page = await browser.new_page()\n",
    "        for page_num in range(1, 190):\n",
    "            url = f\"https://www.dubizzle.com.om/vehicles/cars-for-sale/?filter=new_used_eq_used&page={page_num}\"\n",
    "            await page.goto(url)\n",
    "            await page.wait_for_timeout(2000)\n",
    "            cards = await page.query_selector_all(\"a.f689619e\")  # car card\n",
    "            for card in cards:\n",
    "                title = await card.query_selector_eval(\"h2\", \"el => el.innerText\") if await card.query_selector(\"h2\") else \"N/A\"\n",
    "                price = await card.query_selector_eval(\"div[aria-label='Price'] span\", \"el => el.innerText\") if await card.query_selector(\"div[aria-label='Price'] span\") else \"N/A\"\n",
    "                link = await card.get_attribute(\"href\")\n",
    "                link = f\"https://www.dubizzle.com.om{link}\" if link else \"N/A\"\n",
    "                data.append({\"title\": title, \"price\": price, \"link\": link, \"page\": page_num})\n",
    "            print(f\"Page {page_num} scraped, cars: {len(cards)}\")\n",
    "        await browser.close()\n",
    "    df = pd.DataFrame(data)\n",
    "    df.to_excel(\"dubizzle_used_cars.xlsx\", index=False)\n",
    "    print(\"Scraping completed! Saved to 'dubizzle_used_cars.xlsx'\")\n",
    "\n",
    "# Run in Jupyter without asyncio.run()\n",
    "import nest_asyncio\n",
    "nest_asyncio.apply()  # fix for running asyncio in Jupyter\n",
    "await scrape_dubizzle()\n",
    "\n",
    "\n",
    "\n"
   ]
  },
  {
   "cell_type": "code",
   "execution_count": null,
   "id": "d028297b-75cf-4f7c-afd8-4b49d1487671",
   "metadata": {},
   "outputs": [],
   "source": []
  }
 ],
 "metadata": {
  "kernelspec": {
   "display_name": "Python [conda env:base] *",
   "language": "python",
   "name": "conda-base-py"
  },
  "language_info": {
   "codemirror_mode": {
    "name": "ipython",
    "version": 3
   },
   "file_extension": ".py",
   "mimetype": "text/x-python",
   "name": "python",
   "nbconvert_exporter": "python",
   "pygments_lexer": "ipython3",
   "version": "3.13.5"
  }
 },
 "nbformat": 4,
 "nbformat_minor": 5
}
