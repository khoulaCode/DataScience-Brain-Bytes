{
 "cells": [
  {
   "cell_type": "code",
   "execution_count": 1,
   "id": "168c3fe1-0480-4164-8192-5d7d26b81118",
   "metadata": {},
   "outputs": [],
   "source": [
    "import requests"
   ]
  },
  {
   "cell_type": "code",
   "execution_count": 2,
   "id": "911fc563-72f5-451e-8597-55775eb79cae",
   "metadata": {},
   "outputs": [
    {
     "name": "stdout",
     "output_type": "stream",
     "text": [
      "<Response [200]>\n"
     ]
    }
   ],
   "source": [
    "url=\"https://www.scrapethissite.com/pages/frames/\"\n",
    "response=requests.get(url)\n",
    "print(response)"
   ]
  },
  {
   "cell_type": "code",
   "execution_count": 3,
   "id": "1ac8afbb-79be-414c-a4bb-f360a64faf21",
   "metadata": {},
   "outputs": [
    {
     "data": {
      "text/plain": [
       "200"
      ]
     },
     "execution_count": 3,
     "metadata": {},
     "output_type": "execute_result"
    }
   ],
   "source": [
    "response.status_code  #to know the excact code "
   ]
  },
  {
   "cell_type": "code",
   "execution_count": 4,
   "id": "839f3aac-4f10-4d42-9548-f15975aa9f0f",
   "metadata": {},
   "outputs": [
    {
     "data": {
      "text/plain": [
       "b'<!doctype html>\\n<html lang=\"en\">\\n  <head>\\n    <meta charset=\"utf-8\">\\n    <title>Turtles All the Way Down: Frames &amp; iFrames | Scrape This Site | A public sandbox for learning web scraping</title>\\n    <link rel=\"icon\" type=\"image/png\" href=\"/static/images/scraper-icon.png\" />\\n\\n    <meta name=\"viewport\" content=\"width=device-width, initial-scale=1.0\">\\n    <meta name=\"description\" content=\"Some older sites might still use frames to break up thier pages. Modern ones might be using iFrames to expose data. Learn about turtles as you scrape content inside frames.\">\\n\\n    <link href=\"https://maxcdn.bootstrapcdn.com/bootstrap/3.3.5/css/bootstrap.min.css\" rel=\"stylesheet\" integrity=\"sha256-MfvZlkHCEqatNoGiOXveE8FIwMzZg4W85qfrfIFBfYc= sha512-dTfge/zgoMYpP7QbHy4gWMEGsbsdZeCXz7irItjcC3sPUFtf0kuFbDz/ixG7ArTxmDjLXDmezHubeNikyKGVyQ==\" crossorigin=\"anonymous\">\\n    <link href=\\'https://fonts.googleapis.com/css?family=Lato:400,700\\' rel=\\'stylesheet\\' type=\\'text/css\\'>\\n    <link rel=\"stylesheet\" type=\"text/css\" href=\"/static/css/styles.css\">\\n\\n    \\n<meta name=\"robots\" content=\"noindex\">\\n<link href=\"https://lipis.github.io/flag-icon-css/css/flag-icon.css\" rel=\"stylesheet\">\\n\\n\\n  </head>\\n\\n  <body>\\n    <nav id=\"site-nav\">\\n            <div class=\"container\">\\n                <div class=\"col-md-12\">\\n                    <ul class=\"nav nav-tabs\">\\n                        <li id=\"nav-homepage\">\\n                            <a href=\"/\" class=\"nav-link hidden-sm hidden-xs\">\\n                                <img src=\"/static/images/scraper-icon.png\" id=\"nav-logo\">\\n                                Scrape This Site\\n                            </a>\\n                        </li>\\n                        <li id=\"nav-sandbox\">\\n                            <a href=\"/pages/\" class=\"nav-link\">\\n                                <i class=\"glyphicon glyphicon-console hidden-sm hidden-xs\"></i>\\n                                Sandbox\\n                            </a>\\n                        </li>\\n                        <li id=\"nav-lessons\">\\n                            <a href=\"/lessons/\" class=\"nav-link\">\\n                                <i class=\"glyphicon glyphicon-education hidden-sm hidden-xs\"></i>\\n                                Lessons\\n                            </a>\\n                        </li>\\n                        <li id=\"nav-faq\">\\n                            <a href=\"/faq/\" class=\"nav-link\">\\n                                <i class=\"glyphicon glyphicon-flag hidden-sm hidden-xs\"></i>\\n                                FAQ\\n                            </a>\\n                        </li>\\n                        \\n                        <li id=\"nav-login\" class=\"pull-right\">\\n                            <a href=\"/login/\" class=\"nav-link\">\\n                                Login\\n                            </a>\\n                        </li>\\n                        \\n                    </ul>\\n                </div>\\n            </div>\\n        </nav>\\n\\n        <script type=\"text/javascript\">\\n            var path = document.location.pathname;\\n            var tab = undefined;\\n            if (path === \"/\"){\\n                tab = document.querySelector(\"#nav-homepage\");\\n            } else if (path.indexOf(\"/faq/\") === 0){\\n                tab = document.querySelector(\"#nav-faq\");\\n            } else if (path.indexOf(\"/lessons/\") === 0){\\n                tab = document.querySelector(\"#nav-lessons\");\\n            } else if (path.indexOf(\"/pages/\") === 0) {\\n                tab = document.querySelector(\"#nav-sandbox\");\\n            } else if (path.indexOf(\"/login/\") === 0) {\\n                tab = document.querySelector(\"#nav-login\");\\n            }\\n            tab.classList.add(\"active\")\\n        </script>\\n\\n    \\n\\n    \\n\\n        <div id=\"page\">\\n\\n            <section id=\"frames\">\\n                <div class=\"container\">\\n\\n                    <div class=\"row\">\\n                    <div class=\"col-md-12\">\\n                        <h1>\\n                            Turtles All the Way Down: Frames &amp; iFrames\\n                            <small>14 items</small>\\n                        </h1>\\n                        <hr />\\n                    </div>\\n                </div>\\n                <div class=\"row\">\\n                    <div class=\"col-md-12\">\\n                        <p class=\"lead\">\\n                            Some older sites might still use frames to break up thier pages. Modern ones might be using iFrames to expose data. Learn about turtles as you scrape content inside frames.\\n                            See if you can find the &#39;real&#39; URL that our content is being loaded from, and scrape that page. Also practice interating over a list of items and loading their detail pages to get more information about each one.\\n                        </p>\\n                        <hr />\\n                    </div>\\n                </div>\\n                <div class=\"row\">\\n                    <div class=\"col-md-6\">\\n                        <p>\\n                            <i class=\"glyphicon glyphicon-education\"></i> There are <a href=\"/lessons/\">3 video lessons</a> that show you how to scrape this page.\\n                        </p>\\n                        <hr />\\n                    </div>\\n                    <div class=\"col-md-6 text-right\">\\n                        <p>\\n                            \\n                                Data via\\n                                <a href=\"https://en.wikipedia.org/wiki/List_of_Testudines_families\" class=\"data-attribution\" target=\"_blank\">https://en.wikipedia.org/wiki/List_of_Testudines_families</a>\\n                            \\n                        </p>\\n                        <hr />\\n                    </div>\\n                </div>\\n\\n                    <div class=\"row\">\\n                        <div class=\"col-md-12\">\\n                            <frameset rows=\"10%,80%,10%\">\\n                                <frame name=\"top\" src=\"/pages/frames/?frame=top\" />\\n                                <frame name=\"main\" src=\"/pages/frames/?frame=main\" />\\n                                <frame name=\"bottom\" src=\"/pages/frames/frame=bottom\" />\\n                                <noframes>\\n                                        Your browser does not support frames.\\n                                </noframes>\\n                            </frameset>\\n\\n                            <iframe src=\"/pages/frames/?frame=i\" id=\"iframe\">\\n                                Your browser does not support iframes\\n                            </iframe>\\n\\n                        </div><!--.col-->\\n                    </div><!--.row-->\\n\\n                </div><!--.container-->\\n            </section>\\n\\n        </div><!--#page-->\\n\\n    \\n\\n\\n    <section id=\"footer\">\\n        <div class=\"container\">\\n            <div class=\"row\">\\n                <div class=\"col-md-12 text-center text-muted\">\\n                    Lessons and Videos &copy; Hartley Brody 2023\\n                </div><!--.col-->\\n            </div><!--.row-->\\n        </div><!--.container-->\\n    </section>\\n  </body>\\n\\n  <script src=\"https://ajax.googleapis.com/ajax/libs/jquery/1.11.3/jquery.min.js\"></script>\\n  <script src=\"https://maxcdn.bootstrapcdn.com/bootstrap/3.3.5/js/bootstrap.min.js\" integrity=\"sha256-Sk3nkD6mLTMOF0EOpNtsIry+s1CsaqQC1rVLTAy+0yc= sha512-K1qjQ+NcF2TYO/eI3M6v8EiNYZfA95pQumfvcVrTHtwQVDG+aHRqLi/ETn2uB+1JqwYqVG3LIvdm9lj6imS/pQ==\" crossorigin=\"anonymous\"></script>\\n\\n  \\n\\n  <script src=\"https://cdnjs.cloudflare.com/ajax/libs/pnotify/2.1.0/pnotify.core.min.js\"></script>\\n  <link href=\"https://cdnjs.cloudflare.com/ajax/libs/pnotify/2.1.0/pnotify.core.min.css\" rel=\"stylesheet\" type=\"text/css\">\\n\\n  <!-- pnotify messages -->\\n  <script type=\"text/javascript\">\\n    \\n    PNotify.prototype.options.styling = \"bootstrap3\";\\n    $(function(){\\n      \\n    });\\n    \\n\\n    $(function () {\\n      $(\\'[data-toggle=\"tooltip\"]\\').tooltip()\\n    })\\n  </script>\\n\\n  <!-- golbal video controls -->\\n  <script type=\"text/javascript\">\\n    $(\"video\").hover(function() {\\n        $(this).prop(\"controls\", true);\\n    }, function() {\\n        $(this).prop(\"controls\", false);\\n    });\\n\\n    $(\"video\").click(function() {\\n        if( this.paused){\\n            this.play();\\n        }\\n        else {\\n            this.pause();\\n        }\\n    });\\n    </script>\\n\\n  <!-- insert google analytics here -->\\n  <script>\\n    (function(i,s,o,g,r,a,m){i[\\'GoogleAnalyticsObject\\']=r;i[r]=i[r]||function(){\\n    (i[r].q=i[r].q||[]).push(arguments)},i[r].l=1*new Date();a=s.createElement(o),\\n    m=s.getElementsByTagName(o)[0];a.async=1;a.src=g;m.parentNode.insertBefore(a,m)\\n    })(window,document,\\'script\\',\\'https://www.google-analytics.com/analytics.js\\',\\'ga\\');\\n\\n    ga(\\'create\\', \\'UA-41551755-8\\', \\'auto\\');\\n    ga(\\'send\\', \\'pageview\\');\\n  </script>\\n\\n  <!-- Facebook Pixel Code -->\\n  <script>\\n  !function(f,b,e,v,n,t,s){if(f.fbq)return;n=f.fbq=function(){n.callMethod?\\n  n.callMethod.apply(n,arguments):n.queue.push(arguments)};if(!f._fbq)f._fbq=n;\\n  n.push=n;n.loaded=!0;n.version=\\'2.0\\';n.queue=[];t=b.createElement(e);t.async=!0;\\n  t.src=v;s=b.getElementsByTagName(e)[0];s.parentNode.insertBefore(t,s)}(window,\\n  document,\\'script\\',\\'https://connect.facebook.net/en_US/fbevents.js\\');\\n\\n  fbq(\\'init\\', \\'764287443701341\\');\\n  fbq(\\'track\\', \"PageView\");</script>\\n  <noscript><img height=\"1\" width=\"1\" style=\"display:none\"\\n  src=\"https://www.facebook.com/tr?id=764287443701341&ev=PageView&noscript=1\"\\n  /></noscript>\\n  <!-- End Facebook Pixel Code -->\\n\\n  <!-- Google Code for Remarketing Tag -->\\n  <script type=\"text/javascript\">\\n    /* <![CDATA[ */\\n    var google_conversion_id = 950945448;\\n    var google_custom_params = window.google_tag_params;\\n    var google_remarketing_only = true;\\n    /* ]]> */\\n    </script>\\n    <script type=\"text/javascript\" src=\"//www.googleadservices.com/pagead/conversion.js\">\\n    </script>\\n    <noscript>\\n    <div style=\"display:inline;\">\\n    <img height=\"1\" width=\"1\" style=\"border-style:none;\" alt=\"\" src=\"//googleads.g.doubleclick.net/pagead/viewthroughconversion/950945448/?guid=ON&amp;script=0\"/>\\n    </div>\\n  </noscript>\\n\\n  <!-- Global site tag (gtag.js) - Google AdWords: 950945448 -->\\n  <script async src=\"https://www.googletagmanager.com/gtag/js?id=AW-950945448\"></script>\\n  <script>\\n   window.dataLayer = window.dataLayer || [];\\n   function gtag(){dataLayer.push(arguments);}\\n   gtag(\\'js\\', new Date());\\n\\n   gtag(\\'config\\', \\'AW-950945448\\');\\n  </script>\\n\\n</html>'"
      ]
     },
     "execution_count": 4,
     "metadata": {},
     "output_type": "execute_result"
    }
   ],
   "source": [
    "response.content # content of page in baytes memory"
   ]
  },
  {
   "cell_type": "code",
   "execution_count": 5,
   "id": "e7e93f81-62cc-419a-ba19-fd383d1daa32",
   "metadata": {},
   "outputs": [
    {
     "data": {
      "text/plain": [
       "'<!doctype html>\\n<html lang=\"en\">\\n  <head>\\n    <meta charset=\"utf-8\">\\n    <title>Turtles All the Way Down: Frames &amp; iFrames | Scrape This Site | A public sandbox for learning web scraping</title>\\n    <link rel=\"icon\" type=\"image/png\" href=\"/static/images/scraper-icon.png\" />\\n\\n    <meta name=\"viewport\" content=\"width=device-width, initial-scale=1.0\">\\n    <meta name=\"description\" content=\"Some older sites might still use frames to break up thier pages. Modern ones might be using iFrames to expose data. Learn about turtles as you scrape content inside frames.\">\\n\\n    <link href=\"https://maxcdn.bootstrapcdn.com/bootstrap/3.3.5/css/bootstrap.min.css\" rel=\"stylesheet\" integrity=\"sha256-MfvZlkHCEqatNoGiOXveE8FIwMzZg4W85qfrfIFBfYc= sha512-dTfge/zgoMYpP7QbHy4gWMEGsbsdZeCXz7irItjcC3sPUFtf0kuFbDz/ixG7ArTxmDjLXDmezHubeNikyKGVyQ==\" crossorigin=\"anonymous\">\\n    <link href=\\'https://fonts.googleapis.com/css?family=Lato:400,700\\' rel=\\'stylesheet\\' type=\\'text/css\\'>\\n    <link rel=\"stylesheet\" type=\"text/css\" href=\"/static/css/styles.css\">\\n\\n    \\n<meta name=\"robots\" content=\"noindex\">\\n<link href=\"https://lipis.github.io/flag-icon-css/css/flag-icon.css\" rel=\"stylesheet\">\\n\\n\\n  </head>\\n\\n  <body>\\n    <nav id=\"site-nav\">\\n            <div class=\"container\">\\n                <div class=\"col-md-12\">\\n                    <ul class=\"nav nav-tabs\">\\n                        <li id=\"nav-homepage\">\\n                            <a href=\"/\" class=\"nav-link hidden-sm hidden-xs\">\\n                                <img src=\"/static/images/scraper-icon.png\" id=\"nav-logo\">\\n                                Scrape This Site\\n                            </a>\\n                        </li>\\n                        <li id=\"nav-sandbox\">\\n                            <a href=\"/pages/\" class=\"nav-link\">\\n                                <i class=\"glyphicon glyphicon-console hidden-sm hidden-xs\"></i>\\n                                Sandbox\\n                            </a>\\n                        </li>\\n                        <li id=\"nav-lessons\">\\n                            <a href=\"/lessons/\" class=\"nav-link\">\\n                                <i class=\"glyphicon glyphicon-education hidden-sm hidden-xs\"></i>\\n                                Lessons\\n                            </a>\\n                        </li>\\n                        <li id=\"nav-faq\">\\n                            <a href=\"/faq/\" class=\"nav-link\">\\n                                <i class=\"glyphicon glyphicon-flag hidden-sm hidden-xs\"></i>\\n                                FAQ\\n                            </a>\\n                        </li>\\n                        \\n                        <li id=\"nav-login\" class=\"pull-right\">\\n                            <a href=\"/login/\" class=\"nav-link\">\\n                                Login\\n                            </a>\\n                        </li>\\n                        \\n                    </ul>\\n                </div>\\n            </div>\\n        </nav>\\n\\n        <script type=\"text/javascript\">\\n            var path = document.location.pathname;\\n            var tab = undefined;\\n            if (path === \"/\"){\\n                tab = document.querySelector(\"#nav-homepage\");\\n            } else if (path.indexOf(\"/faq/\") === 0){\\n                tab = document.querySelector(\"#nav-faq\");\\n            } else if (path.indexOf(\"/lessons/\") === 0){\\n                tab = document.querySelector(\"#nav-lessons\");\\n            } else if (path.indexOf(\"/pages/\") === 0) {\\n                tab = document.querySelector(\"#nav-sandbox\");\\n            } else if (path.indexOf(\"/login/\") === 0) {\\n                tab = document.querySelector(\"#nav-login\");\\n            }\\n            tab.classList.add(\"active\")\\n        </script>\\n\\n    \\n\\n    \\n\\n        <div id=\"page\">\\n\\n            <section id=\"frames\">\\n                <div class=\"container\">\\n\\n                    <div class=\"row\">\\n                    <div class=\"col-md-12\">\\n                        <h1>\\n                            Turtles All the Way Down: Frames &amp; iFrames\\n                            <small>14 items</small>\\n                        </h1>\\n                        <hr />\\n                    </div>\\n                </div>\\n                <div class=\"row\">\\n                    <div class=\"col-md-12\">\\n                        <p class=\"lead\">\\n                            Some older sites might still use frames to break up thier pages. Modern ones might be using iFrames to expose data. Learn about turtles as you scrape content inside frames.\\n                            See if you can find the &#39;real&#39; URL that our content is being loaded from, and scrape that page. Also practice interating over a list of items and loading their detail pages to get more information about each one.\\n                        </p>\\n                        <hr />\\n                    </div>\\n                </div>\\n                <div class=\"row\">\\n                    <div class=\"col-md-6\">\\n                        <p>\\n                            <i class=\"glyphicon glyphicon-education\"></i> There are <a href=\"/lessons/\">3 video lessons</a> that show you how to scrape this page.\\n                        </p>\\n                        <hr />\\n                    </div>\\n                    <div class=\"col-md-6 text-right\">\\n                        <p>\\n                            \\n                                Data via\\n                                <a href=\"https://en.wikipedia.org/wiki/List_of_Testudines_families\" class=\"data-attribution\" target=\"_blank\">https://en.wikipedia.org/wiki/List_of_Testudines_families</a>\\n                            \\n                        </p>\\n                        <hr />\\n                    </div>\\n                </div>\\n\\n                    <div class=\"row\">\\n                        <div class=\"col-md-12\">\\n                            <frameset rows=\"10%,80%,10%\">\\n                                <frame name=\"top\" src=\"/pages/frames/?frame=top\" />\\n                                <frame name=\"main\" src=\"/pages/frames/?frame=main\" />\\n                                <frame name=\"bottom\" src=\"/pages/frames/frame=bottom\" />\\n                                <noframes>\\n                                        Your browser does not support frames.\\n                                </noframes>\\n                            </frameset>\\n\\n                            <iframe src=\"/pages/frames/?frame=i\" id=\"iframe\">\\n                                Your browser does not support iframes\\n                            </iframe>\\n\\n                        </div><!--.col-->\\n                    </div><!--.row-->\\n\\n                </div><!--.container-->\\n            </section>\\n\\n        </div><!--#page-->\\n\\n    \\n\\n\\n    <section id=\"footer\">\\n        <div class=\"container\">\\n            <div class=\"row\">\\n                <div class=\"col-md-12 text-center text-muted\">\\n                    Lessons and Videos &copy; Hartley Brody 2023\\n                </div><!--.col-->\\n            </div><!--.row-->\\n        </div><!--.container-->\\n    </section>\\n  </body>\\n\\n  <script src=\"https://ajax.googleapis.com/ajax/libs/jquery/1.11.3/jquery.min.js\"></script>\\n  <script src=\"https://maxcdn.bootstrapcdn.com/bootstrap/3.3.5/js/bootstrap.min.js\" integrity=\"sha256-Sk3nkD6mLTMOF0EOpNtsIry+s1CsaqQC1rVLTAy+0yc= sha512-K1qjQ+NcF2TYO/eI3M6v8EiNYZfA95pQumfvcVrTHtwQVDG+aHRqLi/ETn2uB+1JqwYqVG3LIvdm9lj6imS/pQ==\" crossorigin=\"anonymous\"></script>\\n\\n  \\n\\n  <script src=\"https://cdnjs.cloudflare.com/ajax/libs/pnotify/2.1.0/pnotify.core.min.js\"></script>\\n  <link href=\"https://cdnjs.cloudflare.com/ajax/libs/pnotify/2.1.0/pnotify.core.min.css\" rel=\"stylesheet\" type=\"text/css\">\\n\\n  <!-- pnotify messages -->\\n  <script type=\"text/javascript\">\\n    \\n    PNotify.prototype.options.styling = \"bootstrap3\";\\n    $(function(){\\n      \\n    });\\n    \\n\\n    $(function () {\\n      $(\\'[data-toggle=\"tooltip\"]\\').tooltip()\\n    })\\n  </script>\\n\\n  <!-- golbal video controls -->\\n  <script type=\"text/javascript\">\\n    $(\"video\").hover(function() {\\n        $(this).prop(\"controls\", true);\\n    }, function() {\\n        $(this).prop(\"controls\", false);\\n    });\\n\\n    $(\"video\").click(function() {\\n        if( this.paused){\\n            this.play();\\n        }\\n        else {\\n            this.pause();\\n        }\\n    });\\n    </script>\\n\\n  <!-- insert google analytics here -->\\n  <script>\\n    (function(i,s,o,g,r,a,m){i[\\'GoogleAnalyticsObject\\']=r;i[r]=i[r]||function(){\\n    (i[r].q=i[r].q||[]).push(arguments)},i[r].l=1*new Date();a=s.createElement(o),\\n    m=s.getElementsByTagName(o)[0];a.async=1;a.src=g;m.parentNode.insertBefore(a,m)\\n    })(window,document,\\'script\\',\\'https://www.google-analytics.com/analytics.js\\',\\'ga\\');\\n\\n    ga(\\'create\\', \\'UA-41551755-8\\', \\'auto\\');\\n    ga(\\'send\\', \\'pageview\\');\\n  </script>\\n\\n  <!-- Facebook Pixel Code -->\\n  <script>\\n  !function(f,b,e,v,n,t,s){if(f.fbq)return;n=f.fbq=function(){n.callMethod?\\n  n.callMethod.apply(n,arguments):n.queue.push(arguments)};if(!f._fbq)f._fbq=n;\\n  n.push=n;n.loaded=!0;n.version=\\'2.0\\';n.queue=[];t=b.createElement(e);t.async=!0;\\n  t.src=v;s=b.getElementsByTagName(e)[0];s.parentNode.insertBefore(t,s)}(window,\\n  document,\\'script\\',\\'https://connect.facebook.net/en_US/fbevents.js\\');\\n\\n  fbq(\\'init\\', \\'764287443701341\\');\\n  fbq(\\'track\\', \"PageView\");</script>\\n  <noscript><img height=\"1\" width=\"1\" style=\"display:none\"\\n  src=\"https://www.facebook.com/tr?id=764287443701341&ev=PageView&noscript=1\"\\n  /></noscript>\\n  <!-- End Facebook Pixel Code -->\\n\\n  <!-- Google Code for Remarketing Tag -->\\n  <script type=\"text/javascript\">\\n    /* <![CDATA[ */\\n    var google_conversion_id = 950945448;\\n    var google_custom_params = window.google_tag_params;\\n    var google_remarketing_only = true;\\n    /* ]]> */\\n    </script>\\n    <script type=\"text/javascript\" src=\"//www.googleadservices.com/pagead/conversion.js\">\\n    </script>\\n    <noscript>\\n    <div style=\"display:inline;\">\\n    <img height=\"1\" width=\"1\" style=\"border-style:none;\" alt=\"\" src=\"//googleads.g.doubleclick.net/pagead/viewthroughconversion/950945448/?guid=ON&amp;script=0\"/>\\n    </div>\\n  </noscript>\\n\\n  <!-- Global site tag (gtag.js) - Google AdWords: 950945448 -->\\n  <script async src=\"https://www.googletagmanager.com/gtag/js?id=AW-950945448\"></script>\\n  <script>\\n   window.dataLayer = window.dataLayer || [];\\n   function gtag(){dataLayer.push(arguments);}\\n   gtag(\\'js\\', new Date());\\n\\n   gtag(\\'config\\', \\'AW-950945448\\');\\n  </script>\\n\\n</html>'"
      ]
     },
     "execution_count": 5,
     "metadata": {},
     "output_type": "execute_result"
    }
   ],
   "source": [
    "response.text #know the language of text "
   ]
  },
  {
   "cell_type": "code",
   "execution_count": 6,
   "id": "c561e875-50fa-4bd8-8571-7bd9d8cca25f",
   "metadata": {},
   "outputs": [
    {
     "data": {
      "text/plain": [
       "{'Date': 'Tue, 22 Jul 2025 07:40:37 GMT', 'Content-Type': 'text/html; charset=utf-8', 'Transfer-Encoding': 'chunked', 'Connection': 'keep-alive', 'Nel': '{\"report_to\":\"heroku-nel\",\"response_headers\":[\"Via\"],\"max_age\":3600,\"success_fraction\":0.01,\"failure_fraction\":0.1}', 'Report-To': '{\"group\":\"heroku-nel\",\"endpoints\":[{\"url\":\"https://nel.heroku.com/reports?s=yMqgyjLArSCeA8nlKM3PJgaHCwpRE1XS4%2FeY9nS4QOU%3D\\\\u0026sid=67ff5de4-ad2b-4112-9289-cf96be89efed\\\\u0026ts=1753170037\"}],\"max_age\":3600}', 'Reporting-Endpoints': 'heroku-nel=\"https://nel.heroku.com/reports?s=yMqgyjLArSCeA8nlKM3PJgaHCwpRE1XS4%2FeY9nS4QOU%3D&sid=67ff5de4-ad2b-4112-9289-cf96be89efed&ts=1753170037\"', 'Server': 'cloudflare', 'Via': '1.1 heroku-router', 'Cf-Cache-Status': 'DYNAMIC', 'Content-Encoding': 'zstd', 'CF-RAY': '96314a7a5f0be286-MRS', 'alt-svc': 'h3=\":443\"; ma=86400'}"
      ]
     },
     "execution_count": 6,
     "metadata": {},
     "output_type": "execute_result"
    }
   ],
   "source": [
    "response.headers"
   ]
  },
  {
   "cell_type": "code",
   "execution_count": 7,
   "id": "f651b030-7e45-432b-8f95-e46c8fd26386",
   "metadata": {},
   "outputs": [
    {
     "data": {
      "text/plain": [
       "'Tue, 22 Jul 2025 07:40:37 GMT'"
      ]
     },
     "execution_count": 7,
     "metadata": {},
     "output_type": "execute_result"
    }
   ],
   "source": [
    "response.headers['Date'] # date of opening the date "
   ]
  },
  {
   "cell_type": "code",
   "execution_count": 8,
   "id": "b2aa2eec-fba6-42bd-9541-232939336b50",
   "metadata": {},
   "outputs": [
    {
     "name": "stdout",
     "output_type": "stream",
     "text": [
      "Requirement already satisfied: beautifulsoup4 in c:\\users\\bbuser\\anaconda3\\lib\\site-packages (4.12.3)\n",
      "Requirement already satisfied: soupsieve>1.2 in c:\\users\\bbuser\\anaconda3\\lib\\site-packages (from beautifulsoup4) (2.5)\n",
      "Note: you may need to restart the kernel to use updated packages.\n"
     ]
    }
   ],
   "source": [
    "pip install beautifulsoup4\n"
   ]
  },
  {
   "cell_type": "code",
   "execution_count": 9,
   "id": "fe2aaab2-23e4-432a-a3d7-908dc66caa3d",
   "metadata": {},
   "outputs": [],
   "source": [
    "from bs4 import BeautifulSoup "
   ]
  },
  {
   "cell_type": "code",
   "execution_count": 12,
   "id": "2bea3c14-378d-4f5a-be5a-32cf62a4f29a",
   "metadata": {},
   "outputs": [],
   "source": [
    "response.raise_for_status() # handling the erorr\n",
    "soup=BeautifulSoup(response.text,'html.parser')"
   ]
  },
  {
   "cell_type": "code",
   "execution_count": 14,
   "id": "ce6a3c46-8417-42af-a024-87bfbfa1ce87",
   "metadata": {},
   "outputs": [
    {
     "name": "stdout",
     "output_type": "stream",
     "text": [
      "found iframe Sucessfully: https://www.scrapethissite.com/pages/frames/?frame=i\n"
     ]
    }
   ],
   "source": [
    "iframe_tag=soup.find('iframe')\n",
    "if iframe_tag:\n",
    "    iframe_url=\"https://www.scrapethissite.com\"+iframe_tag.get('src')\n",
    "    print(f'found iframe Sucessfully: {iframe_url}')\n",
    "else:\n",
    "    print('No iframe found on the main page')"
   ]
  },
  {
   "cell_type": "code",
   "execution_count": null,
   "id": "b55cc897-4471-4f6b-9495-96a06f07b0bb",
   "metadata": {},
   "outputs": [],
   "source": []
  }
 ],
 "metadata": {
  "kernelspec": {
   "display_name": "Python [conda env:base] *",
   "language": "python",
   "name": "conda-base-py"
  },
  "language_info": {
   "codemirror_mode": {
    "name": "ipython",
    "version": 3
   },
   "file_extension": ".py",
   "mimetype": "text/x-python",
   "name": "python",
   "nbconvert_exporter": "python",
   "pygments_lexer": "ipython3",
   "version": "3.13.5"
  }
 },
 "nbformat": 4,
 "nbformat_minor": 5
}
