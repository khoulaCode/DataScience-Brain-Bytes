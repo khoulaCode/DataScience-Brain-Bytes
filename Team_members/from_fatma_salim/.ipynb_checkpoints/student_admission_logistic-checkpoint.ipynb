{
 "cells": [
  {
   "cell_type": "markdown",
   "id": "1071c505-fab8-493c-8b5d-46d97a24ddc2",
   "metadata": {},
   "source": [
    "### Goal: Predict whether a student gets admitted to university based on exam scores.\n",
    "### Algorithm: Logistic Regression"
   ]
  },
  {
   "cell_type": "code",
   "execution_count": 6,
   "id": "da097f16-fc44-48c6-b861-213853c5d8ec",
   "metadata": {},
   "outputs": [
    {
     "name": "stdout",
     "output_type": "stream",
     "text": [
      "Accuracy: 0.6363636363636364\n",
      "\n",
      "Confusion Matrix:\n",
      " [[ 8  3]\n",
      " [ 9 13]]\n",
      "\n",
      "Classification Report:\n",
      "               precision    recall  f1-score   support\n",
      "\n",
      "         0.0       0.47      0.73      0.57        11\n",
      "         1.0       0.81      0.59      0.68        22\n",
      "\n",
      "    accuracy                           0.64        33\n",
      "   macro avg       0.64      0.66      0.63        33\n",
      "weighted avg       0.70      0.64      0.65        33\n",
      "\n"
     ]
    },
    {
     "data": {
      "image/png": "[encoded data removed]",
      "text/plain": [
       "<Figure size 500x400 with 2 Axes>"
      ]
     },
     "metadata": {},
     "output_type": "display_data"
    }
   ],
   "source": [
    "import pandas as pd\n",
    "from sklearn.model_selection import train_test_split\n",
    "from sklearn.linear_model import LogisticRegression\n",
    "from sklearn.metrics import accuracy_score, confusion_matrix, classification_report\n",
    "import matplotlib.pyplot as plt\n",
    "import seaborn as sns\n",
    "\n",
    "# Load dataset\n",
    "data = pd.read_csv(\"student_admission_dataset.csv\")\n",
    "\n",
    "# Map Admission_Status: Accepted → 1, Rejected → 0\n",
    "data[\"Admission_Status\"] = data[\"Admission_Status\"].map({\"Accepted\": 1, \"Rejected\": 0})\n",
    "\n",
    "# Drop rows with missing Admission_Status\n",
    "data = data.dropna(subset=[\"Admission_Status\"])\n",
    "\n",
    "# Features (X) and Target (y)\n",
    "X = data[[\"GPA\", \"SAT_Score\", \"Extracurricular_Activities\"]]\n",
    "y = data[\"Admission_Status\"]\n",
    "\n",
    "# Train-test split\n",
    "X_train, X_test, y_train, y_test = train_test_split(X, y, test_size=0.2, random_state=42)\n",
    "\n",
    "# Logistic Regression model\n",
    "model = LogisticRegression(max_iter=1000)\n",
    "model.fit(X_train, y_train)\n",
    "\n",
    "# Predictions\n",
    "y_pred = model.predict(X_test)\n",
    "\n",
    "# Evaluation\n",
    "print(\"Accuracy:\", accuracy_score(y_test, y_pred))\n",
    "print(\"\\nConfusion Matrix:\\n\", confusion_matrix(y_test, y_pred))\n",
    "print(\"\\nClassification Report:\\n\", classification_report(y_test, y_pred))\n",
    "\n",
    "# Plot Confusion Matrix\n",
    "plt.figure(figsize=(5,4))\n",
    "sns.heatmap(confusion_matrix(y_test, y_pred), annot=True, fmt=\"d\", cmap=\"Blues\", \n",
    "            xticklabels=[\"Rejected\", \"Accepted\"], yticklabels=[\"Rejected\", \"Accepted\"])\n",
    "plt.xlabel(\"Predicted\")\n",
    "plt.ylabel(\"Actual\")\n",
    "plt.title(\"Confusion Matrix - Student Admission Prediction\")\n",
    "plt.show()\n",
    "\n",
    "\n"
   ]
  },
  {
   "cell_type": "code",
   "execution_count": 2,
   "id": "3f9d1037-0601-46ce-bdee-286b73f9f03e",
   "metadata": {},
   "outputs": [
    {
     "name": "stdout",
     "output_type": "stream",
     "text": [
      "Columns in dataset: ['GPA', 'SAT_Score', 'Extracurricular_Activities', 'Admission_Status']\n",
      "    GPA  SAT_Score  Extracurricular_Activities Admission_Status\n",
      "0  3.46       1223                           8         Rejected\n",
      "1  2.54        974                           8         Rejected\n",
      "2  2.91        909                           9         Rejected\n",
      "3  2.83       1369                           5         Accepted\n",
      "4  3.60       1536                           7         Accepted\n"
     ]
    }
   ],
   "source": [
    "print(\"Columns in dataset:\", data.columns.tolist())\n",
    "print(data.head())\n"
   ]
  },
  {
   "cell_type": "markdown",
   "id": "3dd3f297-c4c8-4643-8a7d-5aad7c14a53b",
   "metadata": {},
   "source": [
    "## Interpretation of Results\n",
    "\n",
    "Accuracy = 63.6% → The model predicts correctly about 2 out of 3 cases.\n",
    "\n",
    "Class 0 (Rejected):\n",
    "\n",
    "Precision = 0.47 → When the model says \"Rejected\", it’s correct 47% of the time.\n",
    "\n",
    "Recall = 0.73 → It catches 73% of all truly rejected students.\n",
    "\n",
    "Class 1 (Accepted):\n",
    "\n",
    "Precision = 0.81 → When the model predicts \"Accepted\", it’s correct 81% of the time.\n",
    "\n",
    "Recall = 0.59 → It only finds 59% of the actual accepted students (misses many)."
   ]
  },
  {
   "cell_type": "code",
   "execution_count": null,
   "id": "fd915493-b110-418a-ae5f-6c6c0099d236",
   "metadata": {},
   "outputs": [],
   "source": []
  }
 ],
 "metadata": {
  "kernelspec": {
   "display_name": "Python [conda env:base] *",
   "language": "python",
   "name": "conda-base-py"
  },
  "language_info": {
   "codemirror_mode": {
    "name": "ipython",
    "version": 3
   },
   "file_extension": ".py",
   "mimetype": "text/x-python",
   "name": "python",
   "nbconvert_exporter": "python",
   "pygments_lexer": "ipython3",
   "version": "3.13.5"
  }
 },
 "nbformat": 4,
 "nbformat_minor": 5
}
