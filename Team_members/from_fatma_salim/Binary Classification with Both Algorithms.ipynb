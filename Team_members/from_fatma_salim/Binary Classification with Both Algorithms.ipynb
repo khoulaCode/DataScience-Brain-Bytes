{
 "cells": [
  {
   "cell_type": "markdown",
   "id": "3c17da87-184a-4911-933f-3fee457011ca",
   "metadata": {},
   "source": [
    "## Goal: Predict whether a person has diabetes.\n",
    "## Algorithms: Logistic Regression and K-NN"
   ]
  },
  {
   "cell_type": "markdown",
   "id": "fdfdfbfc-a369-4ee3-94a3-9bb04ffab9fc",
   "metadata": {},
   "source": [
    "### load dataset from csv file "
   ]
  },
  {
   "cell_type": "code",
   "execution_count": 4,
   "id": "9f3aadac-4821-44c4-ae5f-68acaf1f59e6",
   "metadata": {},
   "outputs": [
    {
     "name": "stdout",
     "output_type": "stream",
     "text": [
      "   Pregnancies  Glucose  BloodPressure  SkinThickness  Insulin   BMI  \\\n",
      "0            6      148             72             35        0  33.6   \n",
      "1            1       85             66             29        0  26.6   \n",
      "2            8      183             64              0        0  23.3   \n",
      "3            1       89             66             23       94  28.1   \n",
      "4            0      137             40             35      168  43.1   \n",
      "\n",
      "   DiabetesPedigreeFunction  Age  Outcome  \n",
      "0                     0.627   50        1  \n",
      "1                     0.351   31        0  \n",
      "2                     0.672   32        1  \n",
      "3                     0.167   21        0  \n",
      "4                     2.288   33        1  \n"
     ]
    }
   ],
   "source": [
    "import pandas as pd\n",
    "from sklearn.model_selection import train_test_split\n",
    "from sklearn.preprocessing import StandardScaler\n",
    "\n",
    "data = pd.read_csv(\"diabetes.csv\")\n",
    "\n",
    "\n",
    "print(data.head())\n",
    "\n",
    "\n",
    "X = data.drop(\"Outcome\", axis=1)  # Assuming the target column is named 'Outcome'\n",
    "y = data[\"Outcome\"]\n",
    "\n",
    "# Split into training and test sets\n",
    "X_train, X_test, y_train, y_test = train_test_split(X, y, test_size=0.2, random_state=42)\n",
    "\n",
    "# Standardize features for K-NN\n",
    "scaler = StandardScaler()\n",
    "X_train_scaled = scaler.fit_transform(X_train)\n",
    "X_test_scaled = scaler.transform(X_test)\n"
   ]
  },
  {
   "cell_type": "markdown",
   "id": "bc258dbc-38b6-4a7f-889f-ef248963f72c",
   "metadata": {},
   "source": [
    "## Logistic Regression"
   ]
  },
  {
   "cell_type": "code",
   "execution_count": 2,
   "id": "2993bf6e-3144-4da5-8c51-f071e47307ae",
   "metadata": {},
   "outputs": [
    {
     "name": "stdout",
     "output_type": "stream",
     "text": [
      "Logistic Regression:\n",
      "Accuracy: 0.747, Precision: 0.638, Recall: 0.673, F1-score: 0.655\n"
     ]
    }
   ],
   "source": [
    "from sklearn.linear_model import LogisticRegression\n",
    "from sklearn.metrics import accuracy_score, precision_score, recall_score, f1_score\n",
    "\n",
    "# Train Logistic Regression\n",
    "log_reg = LogisticRegression(max_iter=1000)\n",
    "log_reg.fit(X_train, y_train)\n",
    "\n",
    "# Predictions\n",
    "y_pred_lr = log_reg.predict(X_test)\n",
    "\n",
    "# Evaluation\n",
    "acc_lr = accuracy_score(y_test, y_pred_lr)\n",
    "prec_lr = precision_score(y_test, y_pred_lr)\n",
    "rec_lr = recall_score(y_test, y_pred_lr)\n",
    "f1_lr = f1_score(y_test, y_pred_lr)\n",
    "\n",
    "print(\"Logistic Regression:\")\n",
    "print(f\"Accuracy: {acc_lr:.3f}, Precision: {prec_lr:.3f}, Recall: {rec_lr:.3f}, F1-score: {f1_lr:.3f}\")\n"
   ]
  },
  {
   "cell_type": "markdown",
   "id": "0caec73c-5490-42d8-bebe-9240fc9a1307",
   "metadata": {},
   "source": [
    "## K-Nearest Neighbors"
   ]
  },
  {
   "cell_type": "code",
   "execution_count": 3,
   "id": "169166c1-82e4-4a7a-bb66-4394e95661cb",
   "metadata": {},
   "outputs": [
    {
     "name": "stdout",
     "output_type": "stream",
     "text": [
      "\n",
      "K-NN:\n",
      "Accuracy: 0.695, Precision: 0.583, Recall: 0.509, F1-score: 0.544\n"
     ]
    }
   ],
   "source": [
    "from sklearn.neighbors import KNeighborsClassifier\n",
    "\n",
    "# Train K-NN (k=5)\n",
    "knn = KNeighborsClassifier(n_neighbors=5)\n",
    "knn.fit(X_train_scaled, y_train)\n",
    "\n",
    "# Predictions\n",
    "y_pred_knn = knn.predict(X_test_scaled)\n",
    "\n",
    "# Evaluation\n",
    "acc_knn = accuracy_score(y_test, y_pred_knn)\n",
    "prec_knn = precision_score(y_test, y_pred_knn)\n",
    "rec_knn = recall_score(y_test, y_pred_knn)\n",
    "f1_knn = f1_score(y_test, y_pred_knn)\n",
    "\n",
    "print(\"\\nK-NN:\")\n",
    "print(f\"Accuracy: {acc_knn:.3f}, Precision: {prec_knn:.3f}, Recall: {rec_knn:.3f}, F1-score: {f1_knn:.3f}\")\n"
   ]
  },
  {
   "cell_type": "markdown",
   "id": "8e17c2df-de31-47e6-a64e-c7c9302726e4",
   "metadata": {},
   "source": [
    "### plotting and comparing the two Algorithms :"
   ]
  },
  {
   "cell_type": "code",
   "execution_count": 6,
   "id": "d7ac23b3-d364-4bb2-98bb-bc01d33f2344",
   "metadata": {},
   "outputs": [
    {
     "name": "stdout",
     "output_type": "stream",
     "text": [
      "Logistic Regression:\n",
      "Accuracy: 0.747, Precision: 0.638, Recall: 0.673, F1-score: 0.655\n",
      "\n",
      "K-NN:\n",
      "Accuracy: 0.695, Precision: 0.583, Recall: 0.509, F1-score: 0.544\n"
     ]
    },
    {
     "data": {
      "image/png": "[encoded data removed]",
      "text/plain": [
       "<Figure size 800x500 with 1 Axes>"
      ]
     },
     "metadata": {},
     "output_type": "display_data"
    }
   ],
   "source": [
    "from sklearn.metrics import accuracy_score, precision_score, recall_score, f1_score\n",
    "import matplotlib.pyplot as plt\n",
    "\n",
    "# Load dataset\n",
    "data = pd.read_csv(\"diabetes.csv\")\n",
    "\n",
    "# Features and target\n",
    "X = data.drop(\"Outcome\", axis=1)\n",
    "y = data[\"Outcome\"]\n",
    "\n",
    "# Split dataset\n",
    "X_train, X_test, y_train, y_test = train_test_split(X, y, test_size=0.2, random_state=42)\n",
    "\n",
    "# Standardize features for K-NN\n",
    "scaler = StandardScaler()\n",
    "X_train_scaled = scaler.fit_transform(X_train)\n",
    "X_test_scaled = scaler.transform(X_test)\n",
    "\n",
    "# Logistic Regression\n",
    "log_reg = LogisticRegression(max_iter=1000)\n",
    "log_reg.fit(X_train, y_train)\n",
    "y_pred_lr = log_reg.predict(X_test)\n",
    "\n",
    "acc_lr = accuracy_score(y_test, y_pred_lr)\n",
    "prec_lr = precision_score(y_test, y_pred_lr)\n",
    "rec_lr = recall_score(y_test, y_pred_lr)\n",
    "f1_lr = f1_score(y_test, y_pred_lr)\n",
    "\n",
    "# K-NN\n",
    "knn = KNeighborsClassifier(n_neighbors=5)\n",
    "knn.fit(X_train_scaled, y_train)\n",
    "y_pred_knn = knn.predict(X_test_scaled)\n",
    "\n",
    "acc_knn = accuracy_score(y_test, y_pred_knn)\n",
    "prec_knn = precision_score(y_test, y_pred_knn)\n",
    "rec_knn = recall_score(y_test, y_pred_knn)\n",
    "f1_knn = f1_score(y_test, y_pred_knn)\n",
    "\n",
    "# Print metrics\n",
    "print(\"Logistic Regression:\")\n",
    "print(f\"Accuracy: {acc_lr:.3f}, Precision: {prec_lr:.3f}, Recall: {rec_lr:.3f}, F1-score: {f1_lr:.3f}\")\n",
    "\n",
    "print(\"\\nK-NN:\")\n",
    "print(f\"Accuracy: {acc_knn:.3f}, Precision: {prec_knn:.3f}, Recall: {rec_knn:.3f}, F1-score: {f1_knn:.3f}\")\n",
    "\n",
    "# Plot comparison\n",
    "metrics = ['Accuracy', 'Precision', 'Recall', 'F1-score']\n",
    "lr_scores = [acc_lr, prec_lr, rec_lr, f1_lr]\n",
    "knn_scores = [acc_knn, prec_knn, rec_knn, f1_knn]\n",
    "\n",
    "x = range(len(metrics))\n",
    "plt.figure(figsize=(8,5))\n",
    "plt.bar([i-0.15 for i in x], lr_scores, width=0.3, label='Logistic Regression')\n",
    "plt.bar([i+0.15 for i in x], knn_scores, width=0.3, label='K-NN')\n",
    "plt.xticks(x, metrics)\n",
    "plt.ylim(0,1)\n",
    "plt.ylabel('Score')\n",
    "plt.title('Model Comparison on Diabetes Dataset')\n",
    "plt.legend()\n",
    "plt.show()\n"
   ]
  },
  {
   "cell_type": "markdown",
   "id": "91bf7f62-3e61-4130-9b50-4559a4693d4c",
   "metadata": {},
   "source": [
    "### Logistic Regression usually performs slightly better on this dataset because the data is mostly linearly separable and LR is good at generalizing.\n",
    "\n",
    "### K-NN is sensitive to feature scaling and outliers. It can perform well with complex patterns but may not generalize as well on small test sets.\n",
    "\n",
    "### From the metrics:\n",
    "\n",
    "If accuracy and F1-score are higher for Logistic Regression, it’s the preferred model.\n",
    "\n",
    "If K-NN has higher recall, it could be better for detecting positive cases (important in medical screening).\n",
    "\n",
    "### Recommendation: For predicting diabetes, Logistic Regression is generally preferred for its simplicity, interpretability, and stable performance."
   ]
  }
 ],
 "metadata": {
  "kernelspec": {
   "display_name": "Python [conda env:base] *",
   "language": "python",
   "name": "conda-base-py"
  },
  "language_info": {
   "codemirror_mode": {
    "name": "ipython",
    "version": 3
   },
   "file_extension": ".py",
   "mimetype": "text/x-python",
   "name": "python",
   "nbconvert_exporter": "python",
   "pygments_lexer": "ipython3",
   "version": "3.13.5"
  }
 },
 "nbformat": 4,
 "nbformat_minor": 5
}
