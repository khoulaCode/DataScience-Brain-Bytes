{
 "cells": [
  {
   "cell_type": "code",
   "execution_count": 9,
   "id": "168c3fe1-0480-4164-8192-5d7d26b81118",
   "metadata": {},
   "outputs": [],
   "source": [
    "import requests\n",
    "from bs4 import BeautifulSoup\n",
    "import pandas as pd"
   ]
  },
  {
   "cell_type": "code",
   "execution_count": 10,
   "id": "911fc563-72f5-451e-8597-55775eb79cae",
   "metadata": {},
   "outputs": [
    {
     "name": "stdout",
     "output_type": "stream",
     "text": [
      "<Response [200]>\n"
     ]
    }
   ],
   "source": [
    "url = \"https://www.scrapethissite.com/pages/frames/\"\n",
    "response = requests.get(url)\n",
    "print(response)"
   ]
  },
  {
   "cell_type": "code",
   "execution_count": 11,
   "id": "1ac8afbb-79be-414c-a4bb-f360a64faf21",
   "metadata": {},
   "outputs": [
    {
     "data": {
      "text/plain": [
       "200"
      ]
     },
     "execution_count": 11,
     "metadata": {},
     "output_type": "execute_result"
    }
   ],
   "source": [
    "response.status_code  #to know the excact code "
   ]
  },
  {
   "cell_type": "code",
   "execution_count": 12,
   "id": "839f3aac-4f10-4d42-9548-f15975aa9f0f",
   "metadata": {},
   "outputs": [
    {
     "data": {
      "text/plain": [
       "b'<!doctype html>\\n<html lang=\"en\">\\n  <head>\\n    <meta charset=\"utf-8\">\\n    <title>Turtles All the Way Down: Frames &amp; iFrames | Scrape This Site | A public sandbox for learning web scraping</title>\\n    <link rel=\"icon\" type=\"image/png\" href=\"/static/images/scraper-icon.png\" />\\n\\n    <meta name=\"viewport\" content=\"width=device-width, initial-scale=1.0\">\\n    <meta name=\"description\" content=\"Some older sites might still use frames to break up thier pages. Modern ones might be using iFrames to expose data. Learn about turtles as you scrape content inside frames.\">\\n\\n    <link href=\"https://maxcdn.bootstrapcdn.com/bootstrap/3.3.5/css/bootstrap.min.css\" rel=\"stylesheet\" integrity=\"sha256-MfvZlkHCEqatNoGiOXveE8FIwMzZg4W85qfrfIFBfYc= sha512-dTfge/zgoMYpP7QbHy4gWMEGsbsdZeCXz7irItjcC3sPUFtf0kuFbDz/ixG7ArTxmDjLXDmezHubeNikyKGVyQ==\" crossorigin=\"anonymous\">\\n    <link href=\\'https://fonts.googleapis.com/css?family=Lato:400,700\\' rel=\\'stylesheet\\' type=\\'text/css\\'>\\n    <link rel=\"stylesheet\" type=\"text/css\" href=\"/static/css/styles.css\">\\n\\n    \\n<meta name=\"robots\" content=\"noindex\">\\n<link href=\"https://lipis.github.io/flag-icon-css/css/flag-icon.css\" rel=\"stylesheet\">\\n\\n\\n  </head>\\n\\n  <body>\\n    <nav id=\"site-nav\">\\n            <div class=\"container\">\\n                <div class=\"col-md-12\">\\n                    <ul class=\"nav nav-tabs\">\\n                        <li id=\"nav-homepage\">\\n                            <a href=\"/\" class=\"nav-link hidden-sm hidden-xs\">\\n                                <img src=\"/static/images/scraper-icon.png\" id=\"nav-logo\">\\n                                Scrape This Site\\n                            </a>\\n                        </li>\\n                        <li id=\"nav-sandbox\">\\n                            <a href=\"/pages/\" class=\"nav-link\">\\n                                <i class=\"glyphicon glyphicon-console hidden-sm hidden-xs\"></i>\\n                                Sandbox\\n                            </a>\\n                        </li>\\n                        <li id=\"nav-lessons\">\\n                            <a href=\"/lessons/\" class=\"nav-link\">\\n                                <i class=\"glyphicon glyphicon-education hidden-sm hidden-xs\"></i>\\n                                Lessons\\n                            </a>\\n                        </li>\\n                        <li id=\"nav-faq\">\\n                            <a href=\"/faq/\" class=\"nav-link\">\\n                                <i class=\"glyphicon glyphicon-flag hidden-sm hidden-xs\"></i>\\n                                FAQ\\n                            </a>\\n                        </li>\\n                        \\n                        <li id=\"nav-login\" class=\"pull-right\">\\n                            <a href=\"/login/\" class=\"nav-link\">\\n                                Login\\n                            </a>\\n                        </li>\\n                        \\n                    </ul>\\n                </div>\\n            </div>\\n        </nav>\\n\\n        <script type=\"text/javascript\">\\n            var path = document.location.pathname;\\n            var tab = undefined;\\n            if (path === \"/\"){\\n                tab = document.querySelector(\"#nav-homepage\");\\n            } else if (path.indexOf(\"/faq/\") === 0){\\n                tab = document.querySelector(\"#nav-faq\");\\n            } else if (path.indexOf(\"/lessons/\") === 0){\\n                tab = document.querySelector(\"#nav-lessons\");\\n            } else if (path.indexOf(\"/pages/\") === 0) {\\n                tab = document.querySelector(\"#nav-sandbox\");\\n            } else if (path.indexOf(\"/login/\") === 0) {\\n                tab = document.querySelector(\"#nav-login\");\\n            }\\n            tab.classList.add(\"active\")\\n        </script>\\n\\n    \\n\\n    \\n\\n        <div id=\"page\">\\n\\n            <section id=\"frames\">\\n                <div class=\"container\">\\n\\n                    <div class=\"row\">\\n                    <div class=\"col-md-12\">\\n                        <h1>\\n                            Turtles All the Way Down: Frames &amp; iFrames\\n                            <small>14 items</small>\\n                        </h1>\\n                        <hr />\\n                    </div>\\n                </div>\\n                <div class=\"row\">\\n                    <div class=\"col-md-12\">\\n                        <p class=\"lead\">\\n                            Some older sites might still use frames to break up thier pages. Modern ones might be using iFrames to expose data. Learn about turtles as you scrape content inside frames.\\n                            See if you can find the &#39;real&#39; URL that our content is being loaded from, and scrape that page. Also practice interating over a list of items and loading their detail pages to get more information about each one.\\n                        </p>\\n                        <hr />\\n                    </div>\\n                </div>\\n                <div class=\"row\">\\n                    <div class=\"col-md-6\">\\n                        <p>\\n                            <i class=\"glyphicon glyphicon-education\"></i> There are <a href=\"/lessons/\">3 video lessons</a> that show you how to scrape this page.\\n                        </p>\\n                        <hr />\\n                    </div>\\n                    <div class=\"col-md-6 text-right\">\\n                        <p>\\n                            \\n                                Data via\\n                                <a href=\"https://en.wikipedia.org/wiki/List_of_Testudines_families\" class=\"data-attribution\" target=\"_blank\">https://en.wikipedia.org/wiki/List_of_Testudines_families</a>\\n                            \\n                        </p>\\n                        <hr />\\n                    </div>\\n                </div>\\n\\n                    <div class=\"row\">\\n                        <div class=\"col-md-12\">\\n                            <frameset rows=\"10%,80%,10%\">\\n                                <frame name=\"top\" src=\"/pages/frames/?frame=top\" />\\n                                <frame name=\"main\" src=\"/pages/frames/?frame=main\" />\\n                                <frame name=\"bottom\" src=\"/pages/frames/frame=bottom\" />\\n                                <noframes>\\n                                        Your browser does not support frames.\\n                                </noframes>\\n                            </frameset>\\n\\n                            <iframe src=\"/pages/frames/?frame=i\" id=\"iframe\">\\n                                Your browser does not support iframes\\n                            </iframe>\\n\\n                        </div><!--.col-->\\n                    </div><!--.row-->\\n\\n                </div><!--.container-->\\n            </section>\\n\\n        </div><!--#page-->\\n\\n    \\n\\n\\n    <section id=\"footer\">\\n        <div class=\"container\">\\n            <div class=\"row\">\\n                <div class=\"col-md-12 text-center text-muted\">\\n                    Lessons and Videos &copy; Hartley Brody 2023\\n                </div><!--.col-->\\n            </div><!--.row-->\\n        </div><!--.container-->\\n    </section>\\n  </body>\\n\\n  <script src=\"https://ajax.googleapis.com/ajax/libs/jquery/1.11.3/jquery.min.js\"></script>\\n  <script src=\"https://maxcdn.bootstrapcdn.com/bootstrap/3.3.5/js/bootstrap.min.js\" integrity=\"sha256-Sk3nkD6mLTMOF0EOpNtsIry+s1CsaqQC1rVLTAy+0yc= sha512-K1qjQ+NcF2TYO/eI3M6v8EiNYZfA95pQumfvcVrTHtwQVDG+aHRqLi/ETn2uB+1JqwYqVG3LIvdm9lj6imS/pQ==\" crossorigin=\"anonymous\"></script>\\n\\n  \\n\\n  <script src=\"https://cdnjs.cloudflare.com/ajax/libs/pnotify/2.1.0/pnotify.core.min.js\"></script>\\n  <link href=\"https://cdnjs.cloudflare.com/ajax/libs/pnotify/2.1.0/pnotify.core.min.css\" rel=\"stylesheet\" type=\"text/css\">\\n\\n  <!-- pnotify messages -->\\n  <script type=\"text/javascript\">\\n    \\n    PNotify.prototype.options.styling = \"bootstrap3\";\\n    $(function(){\\n      \\n    });\\n    \\n\\n    $(function () {\\n      $(\\'[data-toggle=\"tooltip\"]\\').tooltip()\\n    })\\n  </script>\\n\\n  <!-- golbal video controls -->\\n  <script type=\"text/javascript\">\\n    $(\"video\").hover(function() {\\n        $(this).prop(\"controls\", true);\\n    }, function() {\\n        $(this).prop(\"controls\", false);\\n    });\\n\\n    $(\"video\").click(function() {\\n        if( this.paused){\\n            this.play();\\n        }\\n        else {\\n            this.pause();\\n        }\\n    });\\n    </script>\\n\\n  <!-- insert google analytics here -->\\n  <script>\\n    (function(i,s,o,g,r,a,m){i[\\'GoogleAnalyticsObject\\']=r;i[r]=i[r]||function(){\\n    (i[r].q=i[r].q||[]).push(arguments)},i[r].l=1*new Date();a=s.createElement(o),\\n    m=s.getElementsByTagName(o)[0];a.async=1;a.src=g;m.parentNode.insertBefore(a,m)\\n    })(window,document,\\'script\\',\\'https://www.google-analytics.com/analytics.js\\',\\'ga\\');\\n\\n    ga(\\'create\\', \\'UA-41551755-8\\', \\'auto\\');\\n    ga(\\'send\\', \\'pageview\\');\\n  </script>\\n\\n  <!-- Facebook Pixel Code -->\\n  <script>\\n  !function(f,b,e,v,n,t,s){if(f.fbq)return;n=f.fbq=function(){n.callMethod?\\n  n.callMethod.apply(n,arguments):n.queue.push(arguments)};if(!f._fbq)f._fbq=n;\\n  n.push=n;n.loaded=!0;n.version=\\'2.0\\';n.queue=[];t=b.createElement(e);t.async=!0;\\n  t.src=v;s=b.getElementsByTagName(e)[0];s.parentNode.insertBefore(t,s)}(window,\\n  document,\\'script\\',\\'https://connect.facebook.net/en_US/fbevents.js\\');\\n\\n  fbq(\\'init\\', \\'764287443701341\\');\\n  fbq(\\'track\\', \"PageView\");</script>\\n  <noscript><img height=\"1\" width=\"1\" style=\"display:none\"\\n  src=\"https://www.facebook.com/tr?id=764287443701341&ev=PageView&noscript=1\"\\n  /></noscript>\\n  <!-- End Facebook Pixel Code -->\\n\\n  <!-- Google Code for Remarketing Tag -->\\n  <script type=\"text/javascript\">\\n    /* <![CDATA[ */\\n    var google_conversion_id = 950945448;\\n    var google_custom_params = window.google_tag_params;\\n    var google_remarketing_only = true;\\n    /* ]]> */\\n    </script>\\n    <script type=\"text/javascript\" src=\"//www.googleadservices.com/pagead/conversion.js\">\\n    </script>\\n    <noscript>\\n    <div style=\"display:inline;\">\\n    <img height=\"1\" width=\"1\" style=\"border-style:none;\" alt=\"\" src=\"//googleads.g.doubleclick.net/pagead/viewthroughconversion/950945448/?guid=ON&amp;script=0\"/>\\n    </div>\\n  </noscript>\\n\\n  <!-- Global site tag (gtag.js) - Google AdWords: 950945448 -->\\n  <script async src=\"https://www.googletagmanager.com/gtag/js?id=AW-950945448\"></script>\\n  <script>\\n   window.dataLayer = window.dataLayer || [];\\n   function gtag(){dataLayer.push(arguments);}\\n   gtag(\\'js\\', new Date());\\n\\n   gtag(\\'config\\', \\'AW-950945448\\');\\n  </script>\\n\\n</html>'"
      ]
     },
     "execution_count": 12,
     "metadata": {},
     "output_type": "execute_result"
    }
   ],
   "source": [
    "response.content # content of page in baytes memory"
   ]
  },
  {
   "cell_type": "code",
   "execution_count": 13,
   "id": "e7e93f81-62cc-419a-ba19-fd383d1daa32",
   "metadata": {},
   "outputs": [
    {
     "data": {
      "text/plain": [
       "'<!doctype html>\\n<html lang=\"en\">\\n  <head>\\n    <meta charset=\"utf-8\">\\n    <title>Turtles All the Way Down: Frames &amp; iFrames | Scrape This Site | A public sandbox for learning web scraping</title>\\n    <link rel=\"icon\" type=\"image/png\" href=\"/static/images/scraper-icon.png\" />\\n\\n    <meta name=\"viewport\" content=\"width=device-width, initial-scale=1.0\">\\n    <meta name=\"description\" content=\"Some older sites might still use frames to break up thier pages. Modern ones might be using iFrames to expose data. Learn about turtles as you scrape content inside frames.\">\\n\\n    <link href=\"https://maxcdn.bootstrapcdn.com/bootstrap/3.3.5/css/bootstrap.min.css\" rel=\"stylesheet\" integrity=\"sha256-MfvZlkHCEqatNoGiOXveE8FIwMzZg4W85qfrfIFBfYc= sha512-dTfge/zgoMYpP7QbHy4gWMEGsbsdZeCXz7irItjcC3sPUFtf0kuFbDz/ixG7ArTxmDjLXDmezHubeNikyKGVyQ==\" crossorigin=\"anonymous\">\\n    <link href=\\'https://fonts.googleapis.com/css?family=Lato:400,700\\' rel=\\'stylesheet\\' type=\\'text/css\\'>\\n    <link rel=\"stylesheet\" type=\"text/css\" href=\"/static/css/styles.css\">\\n\\n    \\n<meta name=\"robots\" content=\"noindex\">\\n<link href=\"https://lipis.github.io/flag-icon-css/css/flag-icon.css\" rel=\"stylesheet\">\\n\\n\\n  </head>\\n\\n  <body>\\n    <nav id=\"site-nav\">\\n            <div class=\"container\">\\n                <div class=\"col-md-12\">\\n                    <ul class=\"nav nav-tabs\">\\n                        <li id=\"nav-homepage\">\\n                            <a href=\"/\" class=\"nav-link hidden-sm hidden-xs\">\\n                                <img src=\"/static/images/scraper-icon.png\" id=\"nav-logo\">\\n                                Scrape This Site\\n                            </a>\\n                        </li>\\n                        <li id=\"nav-sandbox\">\\n                            <a href=\"/pages/\" class=\"nav-link\">\\n                                <i class=\"glyphicon glyphicon-console hidden-sm hidden-xs\"></i>\\n                                Sandbox\\n                            </a>\\n                        </li>\\n                        <li id=\"nav-lessons\">\\n                            <a href=\"/lessons/\" class=\"nav-link\">\\n                                <i class=\"glyphicon glyphicon-education hidden-sm hidden-xs\"></i>\\n                                Lessons\\n                            </a>\\n                        </li>\\n                        <li id=\"nav-faq\">\\n                            <a href=\"/faq/\" class=\"nav-link\">\\n                                <i class=\"glyphicon glyphicon-flag hidden-sm hidden-xs\"></i>\\n                                FAQ\\n                            </a>\\n                        </li>\\n                        \\n                        <li id=\"nav-login\" class=\"pull-right\">\\n                            <a href=\"/login/\" class=\"nav-link\">\\n                                Login\\n                            </a>\\n                        </li>\\n                        \\n                    </ul>\\n                </div>\\n            </div>\\n        </nav>\\n\\n        <script type=\"text/javascript\">\\n            var path = document.location.pathname;\\n            var tab = undefined;\\n            if (path === \"/\"){\\n                tab = document.querySelector(\"#nav-homepage\");\\n            } else if (path.indexOf(\"/faq/\") === 0){\\n                tab = document.querySelector(\"#nav-faq\");\\n            } else if (path.indexOf(\"/lessons/\") === 0){\\n                tab = document.querySelector(\"#nav-lessons\");\\n            } else if (path.indexOf(\"/pages/\") === 0) {\\n                tab = document.querySelector(\"#nav-sandbox\");\\n            } else if (path.indexOf(\"/login/\") === 0) {\\n                tab = document.querySelector(\"#nav-login\");\\n            }\\n            tab.classList.add(\"active\")\\n        </script>\\n\\n    \\n\\n    \\n\\n        <div id=\"page\">\\n\\n            <section id=\"frames\">\\n                <div class=\"container\">\\n\\n                    <div class=\"row\">\\n                    <div class=\"col-md-12\">\\n                        <h1>\\n                            Turtles All the Way Down: Frames &amp; iFrames\\n                            <small>14 items</small>\\n                        </h1>\\n                        <hr />\\n                    </div>\\n                </div>\\n                <div class=\"row\">\\n                    <div class=\"col-md-12\">\\n                        <p class=\"lead\">\\n                            Some older sites might still use frames to break up thier pages. Modern ones might be using iFrames to expose data. Learn about turtles as you scrape content inside frames.\\n                            See if you can find the &#39;real&#39; URL that our content is being loaded from, and scrape that page. Also practice interating over a list of items and loading their detail pages to get more information about each one.\\n                        </p>\\n                        <hr />\\n                    </div>\\n                </div>\\n                <div class=\"row\">\\n                    <div class=\"col-md-6\">\\n                        <p>\\n                            <i class=\"glyphicon glyphicon-education\"></i> There are <a href=\"/lessons/\">3 video lessons</a> that show you how to scrape this page.\\n                        </p>\\n                        <hr />\\n                    </div>\\n                    <div class=\"col-md-6 text-right\">\\n                        <p>\\n                            \\n                                Data via\\n                                <a href=\"https://en.wikipedia.org/wiki/List_of_Testudines_families\" class=\"data-attribution\" target=\"_blank\">https://en.wikipedia.org/wiki/List_of_Testudines_families</a>\\n                            \\n                        </p>\\n                        <hr />\\n                    </div>\\n                </div>\\n\\n                    <div class=\"row\">\\n                        <div class=\"col-md-12\">\\n                            <frameset rows=\"10%,80%,10%\">\\n                                <frame name=\"top\" src=\"/pages/frames/?frame=top\" />\\n                                <frame name=\"main\" src=\"/pages/frames/?frame=main\" />\\n                                <frame name=\"bottom\" src=\"/pages/frames/frame=bottom\" />\\n                                <noframes>\\n                                        Your browser does not support frames.\\n                                </noframes>\\n                            </frameset>\\n\\n                            <iframe src=\"/pages/frames/?frame=i\" id=\"iframe\">\\n                                Your browser does not support iframes\\n                            </iframe>\\n\\n                        </div><!--.col-->\\n                    </div><!--.row-->\\n\\n                </div><!--.container-->\\n            </section>\\n\\n        </div><!--#page-->\\n\\n    \\n\\n\\n    <section id=\"footer\">\\n        <div class=\"container\">\\n            <div class=\"row\">\\n                <div class=\"col-md-12 text-center text-muted\">\\n                    Lessons and Videos &copy; Hartley Brody 2023\\n                </div><!--.col-->\\n            </div><!--.row-->\\n        </div><!--.container-->\\n    </section>\\n  </body>\\n\\n  <script src=\"https://ajax.googleapis.com/ajax/libs/jquery/1.11.3/jquery.min.js\"></script>\\n  <script src=\"https://maxcdn.bootstrapcdn.com/bootstrap/3.3.5/js/bootstrap.min.js\" integrity=\"sha256-Sk3nkD6mLTMOF0EOpNtsIry+s1CsaqQC1rVLTAy+0yc= sha512-K1qjQ+NcF2TYO/eI3M6v8EiNYZfA95pQumfvcVrTHtwQVDG+aHRqLi/ETn2uB+1JqwYqVG3LIvdm9lj6imS/pQ==\" crossorigin=\"anonymous\"></script>\\n\\n  \\n\\n  <script src=\"https://cdnjs.cloudflare.com/ajax/libs/pnotify/2.1.0/pnotify.core.min.js\"></script>\\n  <link href=\"https://cdnjs.cloudflare.com/ajax/libs/pnotify/2.1.0/pnotify.core.min.css\" rel=\"stylesheet\" type=\"text/css\">\\n\\n  <!-- pnotify messages -->\\n  <script type=\"text/javascript\">\\n    \\n    PNotify.prototype.options.styling = \"bootstrap3\";\\n    $(function(){\\n      \\n    });\\n    \\n\\n    $(function () {\\n      $(\\'[data-toggle=\"tooltip\"]\\').tooltip()\\n    })\\n  </script>\\n\\n  <!-- golbal video controls -->\\n  <script type=\"text/javascript\">\\n    $(\"video\").hover(function() {\\n        $(this).prop(\"controls\", true);\\n    }, function() {\\n        $(this).prop(\"controls\", false);\\n    });\\n\\n    $(\"video\").click(function() {\\n        if( this.paused){\\n            this.play();\\n        }\\n        else {\\n            this.pause();\\n        }\\n    });\\n    </script>\\n\\n  <!-- insert google analytics here -->\\n  <script>\\n    (function(i,s,o,g,r,a,m){i[\\'GoogleAnalyticsObject\\']=r;i[r]=i[r]||function(){\\n    (i[r].q=i[r].q||[]).push(arguments)},i[r].l=1*new Date();a=s.createElement(o),\\n    m=s.getElementsByTagName(o)[0];a.async=1;a.src=g;m.parentNode.insertBefore(a,m)\\n    })(window,document,\\'script\\',\\'https://www.google-analytics.com/analytics.js\\',\\'ga\\');\\n\\n    ga(\\'create\\', \\'UA-41551755-8\\', \\'auto\\');\\n    ga(\\'send\\', \\'pageview\\');\\n  </script>\\n\\n  <!-- Facebook Pixel Code -->\\n  <script>\\n  !function(f,b,e,v,n,t,s){if(f.fbq)return;n=f.fbq=function(){n.callMethod?\\n  n.callMethod.apply(n,arguments):n.queue.push(arguments)};if(!f._fbq)f._fbq=n;\\n  n.push=n;n.loaded=!0;n.version=\\'2.0\\';n.queue=[];t=b.createElement(e);t.async=!0;\\n  t.src=v;s=b.getElementsByTagName(e)[0];s.parentNode.insertBefore(t,s)}(window,\\n  document,\\'script\\',\\'https://connect.facebook.net/en_US/fbevents.js\\');\\n\\n  fbq(\\'init\\', \\'764287443701341\\');\\n  fbq(\\'track\\', \"PageView\");</script>\\n  <noscript><img height=\"1\" width=\"1\" style=\"display:none\"\\n  src=\"https://www.facebook.com/tr?id=764287443701341&ev=PageView&noscript=1\"\\n  /></noscript>\\n  <!-- End Facebook Pixel Code -->\\n\\n  <!-- Google Code for Remarketing Tag -->\\n  <script type=\"text/javascript\">\\n    /* <![CDATA[ */\\n    var google_conversion_id = 950945448;\\n    var google_custom_params = window.google_tag_params;\\n    var google_remarketing_only = true;\\n    /* ]]> */\\n    </script>\\n    <script type=\"text/javascript\" src=\"//www.googleadservices.com/pagead/conversion.js\">\\n    </script>\\n    <noscript>\\n    <div style=\"display:inline;\">\\n    <img height=\"1\" width=\"1\" style=\"border-style:none;\" alt=\"\" src=\"//googleads.g.doubleclick.net/pagead/viewthroughconversion/950945448/?guid=ON&amp;script=0\"/>\\n    </div>\\n  </noscript>\\n\\n  <!-- Global site tag (gtag.js) - Google AdWords: 950945448 -->\\n  <script async src=\"https://www.googletagmanager.com/gtag/js?id=AW-950945448\"></script>\\n  <script>\\n   window.dataLayer = window.dataLayer || [];\\n   function gtag(){dataLayer.push(arguments);}\\n   gtag(\\'js\\', new Date());\\n\\n   gtag(\\'config\\', \\'AW-950945448\\');\\n  </script>\\n\\n</html>'"
      ]
     },
     "execution_count": 13,
     "metadata": {},
     "output_type": "execute_result"
    }
   ],
   "source": [
    "response.text #know the language of text "
   ]
  },
  {
   "cell_type": "code",
   "execution_count": 14,
   "id": "e56f7b7d-6439-4f99-a3dd-bbace83be3a5",
   "metadata": {},
   "outputs": [
    {
     "data": {
      "text/plain": [
       "{'Date': 'Sun, 03 Aug 2025 06:09:44 GMT', 'Content-Type': 'text/html; charset=utf-8', 'Transfer-Encoding': 'chunked', 'Connection': 'keep-alive', 'Nel': '{\"report_to\":\"heroku-nel\",\"response_headers\":[\"Via\"],\"max_age\":3600,\"success_fraction\":0.01,\"failure_fraction\":0.1}', 'Report-To': '{\"group\":\"heroku-nel\",\"endpoints\":[{\"url\":\"https://nel.heroku.com/reports?s=ct66C26UkaDEu%2FIlA%2BiVx13RhyKq2hu2TTrxfg3ONok%3D\\\\u0026sid=67ff5de4-ad2b-4112-9289-cf96be89efed\\\\u0026ts=1754201383\"}],\"max_age\":3600}', 'Reporting-Endpoints': 'heroku-nel=\"https://nel.heroku.com/reports?s=ct66C26UkaDEu%2FIlA%2BiVx13RhyKq2hu2TTrxfg3ONok%3D&sid=67ff5de4-ad2b-4112-9289-cf96be89efed&ts=1754201383\"', 'Server': 'cloudflare', 'Via': '1.1 heroku-router', 'Cf-Cache-Status': 'DYNAMIC', 'Content-Encoding': 'zstd', 'CF-RAY': '9693a5d54bc1f9f2-MCT', 'alt-svc': 'h3=\":443\"; ma=86400'}"
      ]
     },
     "execution_count": 14,
     "metadata": {},
     "output_type": "execute_result"
    }
   ],
   "source": [
    "response.headers"
   ]
  },
  {
   "cell_type": "code",
   "execution_count": 15,
   "id": "9b0e10d6-def6-4a50-b590-bb0c6812eb19",
   "metadata": {},
   "outputs": [
    {
     "data": {
      "text/plain": [
       "'Sun, 03 Aug 2025 06:09:44 GMT'"
      ]
     },
     "execution_count": 15,
     "metadata": {},
     "output_type": "execute_result"
    }
   ],
   "source": [
    "response.headers['Date']"
   ]
  },
  {
   "cell_type": "code",
   "execution_count": 16,
   "id": "3a14854f-aac8-4222-af48-f50dfb0cc3ec",
   "metadata": {},
   "outputs": [],
   "source": [
    "response.raise_for_status()\n",
    "soup = BeautifulSoup(response.text, 'html.parser')"
   ]
  },
  {
   "cell_type": "code",
   "execution_count": 17,
   "id": "c75ad238-8c79-428b-af4f-510437dc4769",
   "metadata": {},
   "outputs": [
    {
     "data": {
      "text/plain": [
       "200"
      ]
     },
     "execution_count": 17,
     "metadata": {},
     "output_type": "execute_result"
    }
   ],
   "source": [
    "response.status_code"
   ]
  },
  {
   "cell_type": "code",
   "execution_count": 18,
   "id": "434d29f1-fcce-438e-8363-af34c85dc2d3",
   "metadata": {},
   "outputs": [
    {
     "data": {
      "text/plain": [
       "<iframe id=\"iframe\" src=\"/pages/frames/?frame=i\">\n",
       "                                Your browser does not support iframes\n",
       "                            </iframe>"
      ]
     },
     "execution_count": 18,
     "metadata": {},
     "output_type": "execute_result"
    }
   ],
   "source": [
    "soup.find('iframe')"
   ]
  },
  {
   "cell_type": "code",
   "execution_count": 19,
   "id": "a5e455da-30c3-4d4f-a64c-4987d8a1669b",
   "metadata": {},
   "outputs": [
    {
     "name": "stdout",
     "output_type": "stream",
     "text": [
      "Found iframe successfully: https://www.scrapethissite.com/pages/frames/?frame=i\n"
     ]
    }
   ],
   "source": [
    "# find and add the iframe to the main url\n",
    "iframe_tag = soup.find('iframe')\n",
    "if iframe_tag:\n",
    "    iframe_url = \"https://www.scrapethissite.com\" + iframe_tag.get('src')\n",
    "    print(f\"Found iframe successfully: {iframe_url}\")\n",
    "else:\n",
    "    print(\"No iframe found on the main page\")"
   ]
  },
  {
   "cell_type": "code",
   "execution_count": 20,
   "id": "de46b742-fe4b-4554-9f90-ec946eb42bd4",
   "metadata": {},
   "outputs": [],
   "source": [
    "current_page_url = iframe_url"
   ]
  },
  {
   "cell_type": "code",
   "execution_count": 21,
   "id": "530ca314-92be-4a66-8ac2-cef460cac79a",
   "metadata": {},
   "outputs": [
    {
     "data": {
      "text/plain": [
       "<Response [200]>"
      ]
     },
     "execution_count": 21,
     "metadata": {},
     "output_type": "execute_result"
    }
   ],
   "source": [
    "new_response = requests.get(iframe_url)\n",
    "new_response"
   ]
  },
  {
   "cell_type": "code",
   "execution_count": 22,
   "id": "019333bf-5709-4dd6-934a-22f3ca6ac630",
   "metadata": {},
   "outputs": [
    {
     "data": {
      "text/plain": [
       "<!DOCTYPE html>\n",
       "\n",
       "<html lang=\"en\">\n",
       "<head>\n",
       "<meta charset=\"utf-8\"/>\n",
       "<title>Turtles All the Way Down: Frames &amp; iFrames | Scrape This Site | A public sandbox for learning web scraping</title>\n",
       "<link href=\"/static/images/scraper-icon.png\" rel=\"icon\" type=\"image/png\"/>\n",
       "<meta content=\"width=device-width, initial-scale=1.0\" name=\"viewport\"/>\n",
       "<meta content=\"Some older sites might still use frames to break up thier pages. Modern ones might be using iFrames to expose data. Learn about turtles as you scrape content inside frames.\" name=\"description\"/>\n",
       "<link crossorigin=\"anonymous\" href=\"https://maxcdn.bootstrapcdn.com/bootstrap/3.3.5/css/bootstrap.min.css\" integrity=\"sha256-MfvZlkHCEqatNoGiOXveE8FIwMzZg4W85qfrfIFBfYc= sha512-dTfge/zgoMYpP7QbHy4gWMEGsbsdZeCXz7irItjcC3sPUFtf0kuFbDz/ixG7ArTxmDjLXDmezHubeNikyKGVyQ==\" rel=\"stylesheet\"/>\n",
       "<link href=\"https://fonts.googleapis.com/css?family=Lato:400,700\" rel=\"stylesheet\" type=\"text/css\"/>\n",
       "<link href=\"/static/css/styles.css\" rel=\"stylesheet\" type=\"text/css\"/>\n",
       "<meta content=\"noindex\" name=\"robots\"/>\n",
       "<link href=\"https://lipis.github.io/flag-icon-css/css/flag-icon.css\" rel=\"stylesheet\"/>\n",
       "</head>\n",
       "<body>\n",
       "<nav id=\"site-nav\">\n",
       "<div class=\"container\">\n",
       "<div class=\"col-md-12\">\n",
       "<ul class=\"nav nav-tabs\">\n",
       "<li id=\"nav-homepage\">\n",
       "<a class=\"nav-link hidden-sm hidden-xs\" href=\"/\">\n",
       "<img id=\"nav-logo\" src=\"/static/images/scraper-icon.png\"/>\n",
       "                                Scrape This Site\n",
       "                            </a>\n",
       "</li>\n",
       "<li id=\"nav-sandbox\">\n",
       "<a class=\"nav-link\" href=\"/pages/\">\n",
       "<i class=\"glyphicon glyphicon-console hidden-sm hidden-xs\"></i>\n",
       "                                Sandbox\n",
       "                            </a>\n",
       "</li>\n",
       "<li id=\"nav-lessons\">\n",
       "<a class=\"nav-link\" href=\"/lessons/\">\n",
       "<i class=\"glyphicon glyphicon-education hidden-sm hidden-xs\"></i>\n",
       "                                Lessons\n",
       "                            </a>\n",
       "</li>\n",
       "<li id=\"nav-faq\">\n",
       "<a class=\"nav-link\" href=\"/faq/\">\n",
       "<i class=\"glyphicon glyphicon-flag hidden-sm hidden-xs\"></i>\n",
       "                                FAQ\n",
       "                            </a>\n",
       "</li>\n",
       "<li class=\"pull-right\" id=\"nav-login\">\n",
       "<a class=\"nav-link\" href=\"/login/\">\n",
       "                                Login\n",
       "                            </a>\n",
       "</li>\n",
       "</ul>\n",
       "</div>\n",
       "</div>\n",
       "</nav>\n",
       "<script type=\"text/javascript\">\n",
       "            var path = document.location.pathname;\n",
       "            var tab = undefined;\n",
       "            if (path === \"/\"){\n",
       "                tab = document.querySelector(\"#nav-homepage\");\n",
       "            } else if (path.indexOf(\"/faq/\") === 0){\n",
       "                tab = document.querySelector(\"#nav-faq\");\n",
       "            } else if (path.indexOf(\"/lessons/\") === 0){\n",
       "                tab = document.querySelector(\"#nav-lessons\");\n",
       "            } else if (path.indexOf(\"/pages/\") === 0) {\n",
       "                tab = document.querySelector(\"#nav-sandbox\");\n",
       "            } else if (path.indexOf(\"/login/\") === 0) {\n",
       "                tab = document.querySelector(\"#nav-login\");\n",
       "            }\n",
       "            tab.classList.add(\"active\")\n",
       "        </script>\n",
       "<style type=\"text/css\">\n",
       "            #footer, #site-nav {\n",
       "                display: none;\n",
       "            }\n",
       "        </style>\n",
       "<div class=\"row\">\n",
       "<div class=\"col-md-4 turtle-family-card\">\n",
       "<img class=\"turtle-image\" src=\"https://upload.wikimedia.org/wikipedia/commons/thumb/b/b3/Carettochelys_insculpta.jpg/200px-Carettochelys_insculpta.jpg\">\n",
       "<h3 class=\"family-name\">Carettochelyidae</h3>\n",
       "<a class=\"btn btn-default btn-xs\" href=\"/pages/frames/?frame=i&amp;family=Carettochelyidae\">Learn more →</a>\n",
       "</img></div>\n",
       "<div class=\"col-md-4 turtle-family-card\">\n",
       "<img class=\"turtle-image\" src=\"https://upload.wikimedia.org/wikipedia/commons/thumb/7/71/GreenSeaTurtle-2.jpg/200px-GreenSeaTurtle-2.jpg\"/>\n",
       "<h3 class=\"family-name\">Cheloniidae</h3>\n",
       "<a class=\"btn btn-default btn-xs\" href=\"/pages/frames/?frame=i&amp;family=Cheloniidae\">Learn more →</a>\n",
       "</div>\n",
       "<div class=\"col-md-4 turtle-family-card\">\n",
       "<img class=\"turtle-image\" src=\"https://upload.wikimedia.org/wikipedia/commons/thumb/8/88/Alligator_snapping_turtle.jpg/200px-Alligator_snapping_turtle.jpg\"/>\n",
       "<h3 class=\"family-name\">Chelydridae</h3>\n",
       "<a class=\"btn btn-default btn-xs\" href=\"/pages/frames/?frame=i&amp;family=Chelydridae\">Learn more →</a>\n",
       "</div>\n",
       "</div><!--.row-->\n",
       "<div class=\"row\">\n",
       "<div class=\"col-md-4 turtle-family-card\">\n",
       "<img class=\"turtle-image\" src=\"https://upload.wikimedia.org/wikipedia/commons/thumb/8/8a/Dermatemydidae.JPG/200px-Dermatemydidae.JPG\"/>\n",
       "<h3 class=\"family-name\">Dermatemydidae</h3>\n",
       "<a class=\"btn btn-default btn-xs\" href=\"/pages/frames/?frame=i&amp;family=Dermatemydidae\">Learn more →</a>\n",
       "</div>\n",
       "<div class=\"col-md-4 turtle-family-card\">\n",
       "<img class=\"turtle-image\" src=\"https://upload.wikimedia.org/wikipedia/commons/thumb/9/9b/LeatherbackTurtle.jpg/200px-LeatherbackTurtle.jpg\"/>\n",
       "<h3 class=\"family-name\">Dermochelyidae</h3>\n",
       "<a class=\"btn btn-default btn-xs\" href=\"/pages/frames/?frame=i&amp;family=Dermochelyidae\">Learn more →</a>\n",
       "</div>\n",
       "<div class=\"col-md-4 turtle-family-card\">\n",
       "<img class=\"turtle-image\" src=\"https://upload.wikimedia.org/wikipedia/commons/thumb/4/45/Tortoise1_cepolina.jpg/200px-Tortoise1_cepolina.jpg\"/>\n",
       "<h3 class=\"family-name\">Emydidae</h3>\n",
       "<a class=\"btn btn-default btn-xs\" href=\"/pages/frames/?frame=i&amp;family=Emydidae\">Learn more →</a>\n",
       "</div>\n",
       "</div><!--.row-->\n",
       "<div class=\"row\">\n",
       "<div class=\"col-md-4 turtle-family-card\">\n",
       "<img class=\"turtle-image\" src=\"https://upload.wikimedia.org/wikipedia/commons/thumb/f/f3/Cuora_amboinensis_kamaroma_j.jpg/200px-Cuora_amboinensis_kamaroma_j.jpg\"/>\n",
       "<h3 class=\"family-name\">Geoemydidae</h3>\n",
       "<a class=\"btn btn-default btn-xs\" href=\"/pages/frames/?frame=i&amp;family=Geoemydidae\">Learn more →</a>\n",
       "</div>\n",
       "<div class=\"col-md-4 turtle-family-card\">\n",
       "<img class=\"turtle-image\" src=\"https://upload.wikimedia.org/wikipedia/commons/thumb/5/5e/Sternotherus_odoratus.jpg/200px-Sternotherus_odoratus.jpg\"/>\n",
       "<h3 class=\"family-name\">Kinosternidae</h3>\n",
       "<a class=\"btn btn-default btn-xs\" href=\"/pages/frames/?frame=i&amp;family=Kinosternidae\">Learn more →</a>\n",
       "</div>\n",
       "<div class=\"col-md-4 turtle-family-card\">\n",
       "<img class=\"turtle-image\" src=\"https://upload.wikimedia.org/wikipedia/commons/thumb/7/79/Zolw_wielkoglowy.jpg/200px-Zolw_wielkoglowy.jpg\"/>\n",
       "<h3 class=\"family-name\">Platysternidae</h3>\n",
       "<a class=\"btn btn-default btn-xs\" href=\"/pages/frames/?frame=i&amp;family=Platysternidae\">Learn more →</a>\n",
       "</div>\n",
       "</div><!--.row-->\n",
       "<div class=\"row\">\n",
       "<div class=\"col-md-4 turtle-family-card\">\n",
       "<img class=\"turtle-image\" src=\"https://upload.wikimedia.org/wikipedia/commons/thumb/4/41/Tortoise.aldabra.750pix.jpg/200px-Tortoise.aldabra.750pix.jpg\"/>\n",
       "<h3 class=\"family-name\">Testudinidae</h3>\n",
       "<a class=\"btn btn-default btn-xs\" href=\"/pages/frames/?frame=i&amp;family=Testudinidae\">Learn more →</a>\n",
       "</div>\n",
       "<div class=\"col-md-4 turtle-family-card\">\n",
       "<img class=\"turtle-image\" src=\"https://upload.wikimedia.org/wikipedia/commons/thumb/3/39/Apalone_spinifera.jpg/200px-Apalone_spinifera.jpg\"/>\n",
       "<h3 class=\"family-name\">Trionychidae</h3>\n",
       "<a class=\"btn btn-default btn-xs\" href=\"/pages/frames/?frame=i&amp;family=Trionychidae\">Learn more →</a>\n",
       "</div>\n",
       "<div class=\"col-md-4 turtle-family-card\">\n",
       "<img class=\"turtle-image\" src=\"https://upload.wikimedia.org/wikipedia/commons/thumb/e/ec/Eastern_long_neck_tortoise_-_chelodina_longicollis.jpg/200px-Eastern_long_neck_tortoise_-_chelodina_longicollis.jpg\"/>\n",
       "<h3 class=\"family-name\">Chelidae</h3>\n",
       "<a class=\"btn btn-default btn-xs\" href=\"/pages/frames/?frame=i&amp;family=Chelidae\">Learn more →</a>\n",
       "</div>\n",
       "</div><!--.row-->\n",
       "<div class=\"row\">\n",
       "<div class=\"col-md-4 turtle-family-card\">\n",
       "<img class=\"turtle-image\" src=\"https://upload.wikimedia.org/wikipedia/commons/thumb/8/86/Pelomedusa_subrufa.JPG/200px-Pelomedusa_subrufa.JPG\"/>\n",
       "<h3 class=\"family-name\">Pelomedusidae</h3>\n",
       "<a class=\"btn btn-default btn-xs\" href=\"/pages/frames/?frame=i&amp;family=Pelomedusidae\">Learn more →</a>\n",
       "</div>\n",
       "<div class=\"col-md-4 turtle-family-card\">\n",
       "<img class=\"turtle-image\" src=\"https://upload.wikimedia.org/wikipedia/commons/thumb/5/5b/Erymnochelys_madagascariensis.jpg/200px-Erymnochelys_madagascariensis.jpg\"/>\n",
       "<h3 class=\"family-name\">Podocnemididae</h3>\n",
       "<a class=\"btn btn-default btn-xs\" href=\"/pages/frames/?frame=i&amp;family=Podocnemididae\">Learn more →</a>\n",
       "</div>\n",
       "</div><!--.row-->\n",
       "<section id=\"footer\">\n",
       "<div class=\"container\">\n",
       "<div class=\"row\">\n",
       "<div class=\"col-md-12 text-center text-muted\">\n",
       "                    Lessons and Videos © Hartley Brody 2023\n",
       "                </div><!--.col-->\n",
       "</div><!--.row-->\n",
       "</div><!--.container-->\n",
       "</section>\n",
       "</body>\n",
       "<script src=\"https://ajax.googleapis.com/ajax/libs/jquery/1.11.3/jquery.min.js\"></script>\n",
       "<script crossorigin=\"anonymous\" integrity=\"sha256-Sk3nkD6mLTMOF0EOpNtsIry+s1CsaqQC1rVLTAy+0yc= sha512-K1qjQ+NcF2TYO/eI3M6v8EiNYZfA95pQumfvcVrTHtwQVDG+aHRqLi/ETn2uB+1JqwYqVG3LIvdm9lj6imS/pQ==\" src=\"https://maxcdn.bootstrapcdn.com/bootstrap/3.3.5/js/bootstrap.min.js\"></script>\n",
       "<script src=\"https://cdnjs.cloudflare.com/ajax/libs/pnotify/2.1.0/pnotify.core.min.js\"></script>\n",
       "<link href=\"https://cdnjs.cloudflare.com/ajax/libs/pnotify/2.1.0/pnotify.core.min.css\" rel=\"stylesheet\" type=\"text/css\"/>\n",
       "<!-- pnotify messages -->\n",
       "<script type=\"text/javascript\">\n",
       "    \n",
       "    PNotify.prototype.options.styling = \"bootstrap3\";\n",
       "    $(function(){\n",
       "      \n",
       "    });\n",
       "    \n",
       "\n",
       "    $(function () {\n",
       "      $('[data-toggle=\"tooltip\"]').tooltip()\n",
       "    })\n",
       "  </script>\n",
       "<!-- golbal video controls -->\n",
       "<script type=\"text/javascript\">\n",
       "    $(\"video\").hover(function() {\n",
       "        $(this).prop(\"controls\", true);\n",
       "    }, function() {\n",
       "        $(this).prop(\"controls\", false);\n",
       "    });\n",
       "\n",
       "    $(\"video\").click(function() {\n",
       "        if( this.paused){\n",
       "            this.play();\n",
       "        }\n",
       "        else {\n",
       "            this.pause();\n",
       "        }\n",
       "    });\n",
       "    </script>\n",
       "<!-- insert google analytics here -->\n",
       "<script>\n",
       "    (function(i,s,o,g,r,a,m){i['GoogleAnalyticsObject']=r;i[r]=i[r]||function(){\n",
       "    (i[r].q=i[r].q||[]).push(arguments)},i[r].l=1*new Date();a=s.createElement(o),\n",
       "    m=s.getElementsByTagName(o)[0];a.async=1;a.src=g;m.parentNode.insertBefore(a,m)\n",
       "    })(window,document,'script','https://www.google-analytics.com/analytics.js','ga');\n",
       "\n",
       "    ga('create', 'UA-41551755-8', 'auto');\n",
       "    ga('send', 'pageview');\n",
       "  </script>\n",
       "<!-- Facebook Pixel Code -->\n",
       "<script>\n",
       "  !function(f,b,e,v,n,t,s){if(f.fbq)return;n=f.fbq=function(){n.callMethod?\n",
       "  n.callMethod.apply(n,arguments):n.queue.push(arguments)};if(!f._fbq)f._fbq=n;\n",
       "  n.push=n;n.loaded=!0;n.version='2.0';n.queue=[];t=b.createElement(e);t.async=!0;\n",
       "  t.src=v;s=b.getElementsByTagName(e)[0];s.parentNode.insertBefore(t,s)}(window,\n",
       "  document,'script','https://connect.facebook.net/en_US/fbevents.js');\n",
       "\n",
       "  fbq('init', '764287443701341');\n",
       "  fbq('track', \"PageView\");</script>\n",
       "<noscript><img height=\"1\" src=\"https://www.facebook.com/tr?id=764287443701341&amp;ev=PageView&amp;noscript=1\" style=\"display:none\" width=\"1\"/></noscript>\n",
       "<!-- End Facebook Pixel Code -->\n",
       "<!-- Google Code for Remarketing Tag -->\n",
       "<script type=\"text/javascript\">\n",
       "    /* <![CDATA[ */\n",
       "    var google_conversion_id = 950945448;\n",
       "    var google_custom_params = window.google_tag_params;\n",
       "    var google_remarketing_only = true;\n",
       "    /* ]]> */\n",
       "    </script>\n",
       "<script src=\"//www.googleadservices.com/pagead/conversion.js\" type=\"text/javascript\">\n",
       "</script>\n",
       "<noscript>\n",
       "<div style=\"display:inline;\">\n",
       "<img alt=\"\" height=\"1\" src=\"//googleads.g.doubleclick.net/pagead/viewthroughconversion/950945448/?guid=ON&amp;script=0\" style=\"border-style:none;\" width=\"1\"/>\n",
       "</div>\n",
       "</noscript>\n",
       "<!-- Global site tag (gtag.js) - Google AdWords: 950945448 -->\n",
       "<script async=\"\" src=\"https://www.googletagmanager.com/gtag/js?id=AW-950945448\"></script>\n",
       "<script>\n",
       "   window.dataLayer = window.dataLayer || [];\n",
       "   function gtag(){dataLayer.push(arguments);}\n",
       "   gtag('js', new Date());\n",
       "\n",
       "   gtag('config', 'AW-950945448');\n",
       "  </script>\n",
       "</html>"
      ]
     },
     "execution_count": 22,
     "metadata": {},
     "output_type": "execute_result"
    }
   ],
   "source": [
    "new_soup = BeautifulSoup(new_response.text, 'html.parser')\n",
    "new_soup"
   ]
  },
  {
   "cell_type": "code",
   "execution_count": 23,
   "id": "fff6896e-f683-40cb-948d-7ce2800b823c",
   "metadata": {},
   "outputs": [
    {
     "name": "stdout",
     "output_type": "stream",
     "text": [
      "scarpping page:  https://www.scrapethissite.com/pages/frames/?frame=i\n",
      "turtle name: Carettochelyidae\n",
      "turtle name: Cheloniidae\n",
      "turtle name: Chelydridae\n",
      "turtle name: Dermatemydidae\n",
      "turtle name: Dermochelyidae\n",
      "turtle name: Emydidae\n",
      "turtle name: Geoemydidae\n",
      "turtle name: Kinosternidae\n",
      "turtle name: Platysternidae\n",
      "turtle name: Testudinidae\n",
      "turtle name: Trionychidae\n",
      "turtle name: Chelidae\n",
      "turtle name: Pelomedusidae\n",
      "turtle name: Podocnemididae\n",
      "species: Pig-nosed turtle\n",
      "age: 1887\n",
      "turtle_discover: Boulenger.\n",
      "species: Sea turtles\n",
      "age: 1811\n",
      "turtle_discover: Oppel.\n",
      "species: Snapping turtles\n",
      "age: 1831\n",
      "turtle_discover: Gray.\n",
      "species: Central American river turtle\n",
      "age: 1870\n",
      "turtle_discover: Gray.\n",
      "species: Leatherback sea turtle\n",
      "age: 1843\n",
      "turtle_discover: Fitzinger.\n",
      "species: Pond or water turtles\n",
      "age: 1815\n",
      "turtle_discover: Rafinesque.\n",
      "species: Asian river, leaf, roofed or Asian box turtles\n",
      "age: 1868\n",
      "turtle_discover: Theobald.\n",
      "species: Mud or musk turtles\n",
      "age: 1857\n",
      "turtle_discover: Agassiz.\n",
      "species: Big-headed turtle\n",
      "age: 1869\n",
      "turtle_discover: Gray.\n",
      "species: Tortoises\n",
      "age: 1788\n",
      "turtle_discover: Batsch.\n",
      "species: Softshell turtles\n",
      "age: 1826\n",
      "turtle_discover: Fitzinger.\n",
      "species: Austro-American sideneck turtles\n",
      "age: 1831\n",
      "turtle_discover: Gray.\n",
      "species: Afro-American sideneck turtles\n",
      "age: 1868\n",
      "turtle_discover: Cope.\n",
      "species: Madagascar big-headed, Big-headed Amazon River turtle and South American sideneck river turtles\n",
      "age: 1869\n",
      "turtle_discover: Gray.\n",
      "scarpping page:  https://www.scrapethissite.com/pages/frames/?frame=i&family=Podocnemididae\n",
      "no turtle found!\n"
     ]
    }
   ],
   "source": [
    "turtles_name =[]\n",
    "all_turtles =[]\n",
    "while True:\n",
    "    print(\"scarpping page: \", current_page_url)\n",
    "    try:\n",
    "        new_response = requests.get(current_page_url)\n",
    "        new_response.raise_for_status()\n",
    "    except requests.exceptions.RequestException as e:\n",
    "        print(f\"error fetching page {current_page_url}: {e}\")\n",
    "        break\n",
    "    new_soup = BeautifulSoup(new_response.text, 'html.parser')\n",
    "    turtls = new_soup.select('div.col-md-4')\n",
    "\n",
    "    if not turtls:\n",
    "        print(\"no turtle found!\")\n",
    "        break\n",
    "    for i in turtls:\n",
    "        turtle_name = i.find('h3',class_='family-name').text\n",
    "        print(f\"turtle name: {turtle_name}\")\n",
    "        all_turtles_dict = {'Turtle_name': turtle_name}\n",
    "        turtles_name.append(all_turtles_dict)\n",
    "    learn_more_btn = new_soup.find_all('a', class_='btn')\n",
    "    if learn_more_btn:\n",
    "        for i in learn_more_btn:\n",
    "            learn_more_url = i.attrs['href']\n",
    "            current_page_url = requests.compat.urljoin(current_page_url, learn_more_url)\n",
    "            r = requests.get(current_page_url)\n",
    "            s = BeautifulSoup(r.text, 'html.parser')\n",
    "            d = s.select('div.col-md-6')\n",
    "            for i in d:\n",
    "                species = i.find('p').strong.text.strip()\n",
    "                year_found = i.find('p').text.split()[-3]\n",
    "                turtle_discover = i.find('p').text.split()[-1]\n",
    "                print(f\"species: {species}\")\n",
    "                print(f\"age: {year_found}\")\n",
    "                print(f\"turtle_discover: {turtle_discover}\")\n",
    "                dict2 = {'species':species, 'year_found':year_found, 'turtle_discover':turtle_discover}\n",
    "                all_turtles.append(dict2)\n",
    "    else:\n",
    "        print(\"no learn more button found!\")\n",
    "        break"
   ]
  },
  {
   "cell_type": "code",
   "execution_count": 28,
   "id": "3a114ba0-d40d-461d-a1c3-1fd5d8cb39c5",
   "metadata": {},
   "outputs": [
    {
     "name": "stdout",
     "output_type": "stream",
     "text": [
      " Data saved as turtles_scraped.csv\n"
     ]
    }
   ],
   "source": [
    "#  Save to CSV\n",
    "if len(turtles_name) == len(all_turtles):\n",
    "    combined_data = []\n",
    "    for t_name, details in zip(turtles_name, all_turtles):\n",
    "        combined = {**t_name, **details}\n",
    "        combined_data.append(combined)\n",
    "\n",
    "    df = pd.DataFrame(combined_data)\n",
    "    df.to_csv(\"turtles_scraped.csv\", index=False)\n",
    "    print(\" Data saved as turtles_scraped.csv\")\n",
    "else:\n",
    "    print(\"Mismatch in turtle name and detail count.\")\n",
    "    pd.DataFrame(turtles_name).to_csv(\"turtle_names.csv\", index=False)\n",
    "    pd.DataFrame(all_turtles).to_csv(\"turtle_details.csv\", index=False)\n",
    "    print(\"Saved turtle_names.csv and turtle_details.csv separately.\")"
   ]
  },
  {
   "cell_type": "code",
   "execution_count": 29,
   "id": "384c74c2-f735-4006-9b1f-73693401bb65",
   "metadata": {},
   "outputs": [
    {
     "name": "stdout",
     "output_type": "stream",
     "text": [
      "Cleaned data saved as 'turtles_scraped_cleaned.csv'\n"
     ]
    }
   ],
   "source": [
    "# Load the scraped turtle data\n",
    "df = pd.read_csv('turtles_scraped.csv')\n",
    "\n",
    "# Clean column names and string values\n",
    "df.columns = df.columns.str.strip()\n",
    "df['species'] = df['species'].str.strip()\n",
    "df['year_found'] = df['year_found'].astype(str).str.strip()\n",
    "df['turtle_discover'] = df['turtle_discover'].str.strip().str.rstrip('.')\n",
    "\n",
    "# Convert year_found to integer\n",
    "df['year_found'] = pd.to_numeric(df['year_found'], errors='coerce').astype('Int64')\n",
    "\n",
    "# Save cleaned data\n",
    "df.to_csv('turtles_scraped_cleaned.csv', index=False)\n",
    "\n",
    "print(\"Cleaned data saved as 'turtles_scraped_cleaned.csv'\")\n"
   ]
  },
  {
   "cell_type": "code",
   "execution_count": 30,
   "id": "4bcea350-ff37-4b21-9d69-4fc447b7cfda",
   "metadata": {},
   "outputs": [
    {
     "data": {
      "text/plain": [
       "np.int64(0)"
      ]
     },
     "execution_count": 30,
     "metadata": {},
     "output_type": "execute_result"
    }
   ],
   "source": [
    "df.duplicated().sum()"
   ]
  },
  {
   "cell_type": "code",
   "execution_count": 31,
   "id": "2497888f-a168-4a73-a441-86150b2da3ee",
   "metadata": {},
   "outputs": [
    {
     "name": "stdout",
     "output_type": "stream",
     "text": [
      "<class 'pandas.core.frame.DataFrame'>\n",
      "RangeIndex: 14 entries, 0 to 13\n",
      "Data columns (total 4 columns):\n",
      " #   Column           Non-Null Count  Dtype \n",
      "---  ------           --------------  ----- \n",
      " 0   Turtle_name      14 non-null     object\n",
      " 1   species          14 non-null     object\n",
      " 2   year_found       14 non-null     Int64 \n",
      " 3   turtle_discover  14 non-null     object\n",
      "dtypes: Int64(1), object(3)\n",
      "memory usage: 594.0+ bytes\n"
     ]
    }
   ],
   "source": [
    "df.info()"
   ]
  },
  {
   "cell_type": "code",
   "execution_count": 32,
   "id": "59fa71e9-62f4-460a-88e2-ff77228ce6ff",
   "metadata": {},
   "outputs": [
    {
     "data": {
      "text/plain": [
       "Turtle_name        object\n",
       "species            object\n",
       "year_found          Int64\n",
       "turtle_discover    object\n",
       "dtype: object"
      ]
     },
     "execution_count": 32,
     "metadata": {},
     "output_type": "execute_result"
    }
   ],
   "source": [
    "df.dtypes"
   ]
  }
 ],
 "metadata": {
  "kernelspec": {
   "display_name": "Python [conda env:base] *",
   "language": "python",
   "name": "conda-base-py"
  },
  "language_info": {
   "codemirror_mode": {
    "name": "ipython",
    "version": 3
   },
   "file_extension": ".py",
   "mimetype": "text/x-python",
   "name": "python",
   "nbconvert_exporter": "python",
   "pygments_lexer": "ipython3",
   "version": "3.13.5"
  }
 },
 "nbformat": 4,
 "nbformat_minor": 5
}
