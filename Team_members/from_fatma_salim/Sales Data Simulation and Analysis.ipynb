{
 "cells": [
  {
   "cell_type": "markdown",
   "id": "b03716ac-d2a3-4807-a445-7963697fa68b",
   "metadata": {},
   "source": [
    "## Task Scenario:\n",
    "You are a junior data analyst at an online retail company. Your manager wants to understand daily sales patterns. You need to simulate a month's worth of sales data and then use NumPy to extract insights about sales performance."
   ]
  },
  {
   "cell_type": "code",
   "execution_count": 9,
   "id": "17c59e87-76ed-40c7-9310-112eaf02e386",
   "metadata": {},
   "outputs": [],
   "source": [
    "import numpy as np"
   ]
  },
  {
   "cell_type": "markdown",
   "id": "53448105-c8fc-42ab-8803-ba2acd615767",
   "metadata": {},
   "source": [
    "## Sales Data Generation: "
   ]
  },
  {
   "cell_type": "code",
   "execution_count": 11,
   "id": "d7bbbdb1-7e4f-4d33-b26b-ab362f17ba1d",
   "metadata": {},
   "outputs": [
    {
     "data": {
      "text/plain": [
       "array([1099.3428306 ,  972.34713977, 1129.53770762, 1304.60597128,\n",
       "        953.16932506,  953.17260861, 1315.8425631 , 1153.48694583,\n",
       "        906.10512281, 1108.51200872,  907.31646144,  906.85404929,\n",
       "       1048.39245431,  617.34395107,  655.0164335 ,  887.54249415,\n",
       "        797.43377593, 1062.84946652,  818.3951849 ,  717.53925973,\n",
       "       1293.12975378,  954.8447399 , 1013.50564094,  715.05036276,\n",
       "        891.12345509, 1022.18451794,  769.80128452, 1075.13960367,\n",
       "        879.87226202,  941.66125004])"
      ]
     },
     "execution_count": 11,
     "metadata": {},
     "output_type": "execute_result"
    }
   ],
   "source": [
    "np.random.seed(42)\n",
    "\n",
    "base_revenue = 1000\n",
    "revenue_fluctuations = np.random.normal(loc=0, scale=200, size=30)\n",
    "raw_revenue = base_revenue + revenue_fluctuations\n",
    "sales_revenue = np.where(raw_revenue < 0, 0, raw_revenue)\n",
    "\n",
    "raw_revenue\n",
    "sales_revenue\n",
    "\n"
   ]
  },
  {
   "cell_type": "code",
   "execution_count": 13,
   "id": "5cbb50f4-b21e-4175-bb1e-845bf82515cb",
   "metadata": {},
   "outputs": [
    {
     "data": {
      "text/plain": [
       "array([1099.34,  972.35, 1129.54, 1304.61,  953.17,  953.17, 1315.84,\n",
       "       1153.49,  906.11, 1108.51,  907.32,  906.85, 1048.39,  617.34,\n",
       "        655.02,  887.54,  797.43, 1062.85,  818.4 ,  717.54, 1293.13,\n",
       "        954.84, 1013.51,  715.05,  891.12, 1022.18,  769.8 , 1075.14,\n",
       "        879.87,  941.66])"
      ]
     },
     "execution_count": 13,
     "metadata": {},
     "output_type": "execute_result"
    }
   ],
   "source": [
    "# 1.2 Simulate units sold\n",
    "base_units = 50\n",
    "units_with_noise = (sales_revenue / base_revenue) * base_units + np.random.normal(0, 5, 30)\n",
    "units_sold = np.where(units_with_noise < 0, 0, units_with_noise)\n",
    "sales_revenue = sales_revenue.round(2)\n",
    "units_sold = units_sold.round(0)\n",
    "\n",
    "sales_revenue"
   ]
  },
  {
   "cell_type": "markdown",
   "id": "8f2f7b36-546d-46b5-ad88-97e1e3f5d9b6",
   "metadata": {},
   "source": [
    "# Step 2: Combine Data"
   ]
  },
  {
   "cell_type": "code",
   "execution_count": 14,
   "id": "8d7ab089-7572-4a3f-816f-922456ea90d0",
   "metadata": {},
   "outputs": [
    {
     "data": {
      "text/plain": [
       "array([[1099.34,   53.  ],\n",
       "       [ 972.35,   48.  ],\n",
       "       [1129.54,   51.  ],\n",
       "       [1304.61,   59.  ],\n",
       "       [ 953.17,   52.  ],\n",
       "       [ 953.17,   54.  ],\n",
       "       [1315.84,   65.  ],\n",
       "       [1153.49,   63.  ],\n",
       "       [ 906.11,   47.  ],\n",
       "       [1108.51,   52.  ],\n",
       "       [ 907.32,   47.  ],\n",
       "       [ 906.85,   53.  ],\n",
       "       [1048.39,   52.  ],\n",
       "       [ 617.34,   39.  ],\n",
       "       [ 655.02,   20.  ],\n",
       "       [ 887.54,   48.  ],\n",
       "       [ 797.43,   40.  ],\n",
       "       [1062.85,   52.  ],\n",
       "       [ 818.4 ,   41.  ],\n",
       "       [ 717.54,   26.  ],\n",
       "       [1293.13,   64.  ],\n",
       "       [ 954.84,   50.  ],\n",
       "       [1013.51,   58.  ],\n",
       "       [ 715.05,   33.  ],\n",
       "       [ 891.12,   41.  ],\n",
       "       [1022.18,   49.  ],\n",
       "       [ 769.8 ,   43.  ],\n",
       "       [1075.14,   55.  ],\n",
       "       [ 879.87,   41.  ],\n",
       "       [ 941.66,   50.  ]])"
      ]
     },
     "execution_count": 14,
     "metadata": {},
     "output_type": "execute_result"
    }
   ],
   "source": [
    "\n",
    "sales_data = np.column_stack((sales_revenue, units_sold))\n",
    "sales_data"
   ]
  },
  {
   "cell_type": "markdown",
   "id": "4833e27a-5dfb-410d-855a-9a61ef8d9204",
   "metadata": {},
   "source": [
    "# Step 3: KPIs"
   ]
  },
  {
   "cell_type": "code",
   "execution_count": 22,
   "id": "37b9e8f0-7f7d-4ca8-a100-966924d1a392",
   "metadata": {},
   "outputs": [
    {
     "data": {
      "text/plain": [
       "np.float64(28871.109999999997)"
      ]
     },
     "execution_count": 22,
     "metadata": {},
     "output_type": "execute_result"
    }
   ],
   "source": [
    "total_revenue = np.sum(sales_revenue)\n",
    "\n",
    "total_revenue \n"
   ]
  },
  {
   "cell_type": "code",
   "execution_count": 18,
   "id": "daf49890-365c-4fd4-b3a7-be19bcca4ecb",
   "metadata": {},
   "outputs": [
    {
     "data": {
      "text/plain": [
       "np.float64(48.2)"
      ]
     },
     "execution_count": 18,
     "metadata": {},
     "output_type": "execute_result"
    }
   ],
   "source": [
    "avg_units_per_day = np.mean(units_sold)\n",
    "avg_units_per_day"
   ]
  },
  {
   "cell_type": "code",
   "execution_count": 19,
   "id": "a0086232-dfda-4f14-944e-1d2768d5a290",
   "metadata": {},
   "outputs": [
    {
     "data": {
      "text/plain": [
       "np.float64(1315.84)"
      ]
     },
     "execution_count": 19,
     "metadata": {},
     "output_type": "execute_result"
    }
   ],
   "source": [
    "max_revenue = np.max(sales_revenue)\n",
    "max_revenue \n"
   ]
  },
  {
   "cell_type": "code",
   "execution_count": 20,
   "id": "a8071050-4ab4-4175-951c-d7ae3c513845",
   "metadata": {},
   "outputs": [
    {
     "data": {
      "text/plain": [
       "np.int64(7)"
      ]
     },
     "execution_count": 20,
     "metadata": {},
     "output_type": "execute_result"
    }
   ],
   "source": [
    "day_of_max = np.argmax(sales_revenue) + 1  # +1 for 1-based index\n",
    "day_of_max"
   ]
  },
  {
   "cell_type": "code",
   "execution_count": 21,
   "id": "3971f433-6b3d-4e2c-a5b2-4dd0deef35a7",
   "metadata": {},
   "outputs": [
    {
     "data": {
      "text/plain": [
       "np.float64(19.96618948824343)"
      ]
     },
     "execution_count": 21,
     "metadata": {},
     "output_type": "execute_result"
    }
   ],
   "source": [
    "avg_revenue_per_unit = total_revenue / np.sum(units_sold)\n",
    "avg_revenue_per_unit\n"
   ]
  },
  {
   "cell_type": "markdown",
   "id": "4773c3da-9851-413e-aa2f-ee0a28a4bb1e",
   "metadata": {},
   "source": [
    "# Step 4: Conditional Analysis"
   ]
  },
  {
   "cell_type": "markdown",
   "id": "c3a45ba1-98b2-47c8-a9f2-62967329fc51",
   "metadata": {},
   "source": [
    "## Identify and count how many days had sales_revenue above a certain target (e.g., $1200)."
   ]
  },
  {
   "cell_type": "code",
   "execution_count": 23,
   "id": "c061d64d-07e3-4a11-a328-fc34bc47f573",
   "metadata": {},
   "outputs": [
    {
     "data": {
      "text/plain": [
       "np.int64(3)"
      ]
     },
     "execution_count": 23,
     "metadata": {},
     "output_type": "execute_result"
    }
   ],
   "source": [
    "\n",
    "high_sales_days = sales_revenue > 1200\n",
    "count_high_sales_days = np.sum(high_sales_days)\n",
    "\n",
    "count_high_sales_days"
   ]
  },
  {
   "cell_type": "markdown",
   "id": "c8ae9ffb-d6da-479d-9601-ee041cb59a13",
   "metadata": {},
   "source": [
    "## Calculate the average units_sold only for days when sales_revenue was below a certain threshold (e.g., $900)."
   ]
  },
  {
   "cell_type": "code",
   "execution_count": 24,
   "id": "e76a0792-c210-4a70-8859-05f74e878c28",
   "metadata": {},
   "outputs": [
    {
     "data": {
      "text/plain": [
       "np.float64(37.2)"
      ]
     },
     "execution_count": 24,
     "metadata": {},
     "output_type": "execute_result"
    }
   ],
   "source": [
    "low_sales_days = sales_revenue < 900\n",
    "avg_units_low_revenue = np.mean(units_sold[low_sales_days])\n",
    "avg_units_low_revenue"
   ]
  },
  {
   "cell_type": "markdown",
   "id": "c50b458a-c80c-4e2b-a001-a7da0da3e56c",
   "metadata": {},
   "source": [
    "# Step 5: Weekly Aggregation (Days 1-28)"
   ]
  },
  {
   "cell_type": "code",
   "execution_count": 25,
   "id": "79e9f180-4bfe-4397-8771-05b34a4c5f88",
   "metadata": {},
   "outputs": [
    {
     "data": {
      "text/plain": [
       "[np.float64(7728.02),\n",
       " np.float64(6648.01),\n",
       " np.float64(6231.91),\n",
       " np.float64(6441.64)]"
      ]
     },
     "execution_count": 25,
     "metadata": {},
     "output_type": "execute_result"
    }
   ],
   "source": [
    "\n",
    "weekly_revenue = [\n",
    "    np.sum(sales_revenue[0:7]),\n",
    "    np.sum(sales_revenue[7:14]),\n",
    "    np.sum(sales_revenue[14:21]),\n",
    "    np.sum(sales_revenue[21:28])\n",
    "]\n",
    "\n",
    "weekly_revenue"
   ]
  }
 ],
 "metadata": {
  "kernelspec": {
   "display_name": "Python [conda env:base] *",
   "language": "python",
   "name": "conda-base-py"
  },
  "language_info": {
   "codemirror_mode": {
    "name": "ipython",
    "version": 3
   },
   "file_extension": ".py",
   "mimetype": "text/x-python",
   "name": "python",
   "nbconvert_exporter": "python",
   "pygments_lexer": "ipython3",
   "version": "3.13.5"
  }
 },
 "nbformat": 4,
 "nbformat_minor": 5
}
