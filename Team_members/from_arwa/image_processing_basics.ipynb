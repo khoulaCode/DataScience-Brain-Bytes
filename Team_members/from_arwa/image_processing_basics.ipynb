{
 "cells": [
  {
   "cell_type": "markdown",
   "id": "72dd7238-ac5d-482c-8ff9-4527b2ebec06",
   "metadata": {},
   "source": [
    "# Image Processing Basics (Grayscale Conversion and Filtering)"
   ]
  },
  {
   "cell_type": "markdown",
   "id": "609f6b26-b431-4a57-bbdf-6a96d3c2a0d6",
   "metadata": {},
   "source": [
    "Scenario: You're working on a basic image processing application. You're given a simple grayscale image represented as a NumPy array where each pixel value indicates intensity (0 for black, 255 for white). You need to perform some fundamental operations."
   ]
  },
  {
   "cell_type": "markdown",
   "id": "4763eae6-e3de-46d7-9ea7-3c3441f563fa",
   "metadata": {
    "jp-MarkdownHeadingCollapsed": true
   },
   "source": [
    "## 1. Image Representation: "
   ]
  },
  {
   "cell_type": "code",
   "execution_count": 14,
   "id": "4a7c0b3d-8793-4bc6-8a13-17ff4e3a8511",
   "metadata": {},
   "outputs": [],
   "source": [
    "import numpy as np\n",
    "import matplotlib.pyplot as plt"
   ]
  },
  {
   "cell_type": "markdown",
   "id": "7aeb88fd-fc5c-4f2e-8e3f-91168c9e40b0",
   "metadata": {},
   "source": [
    "- Create a 2D NumPy array (e.g., 10x10) to represent a grayscale image. Initialize it with random integer pixel values between 0 and 255."
   ]
  },
  {
   "cell_type": "code",
   "execution_count": 6,
   "id": "b7e40fbe-bf26-41d4-a7ea-98090efc8a3c",
   "metadata": {},
   "outputs": [
    {
     "name": "stdout",
     "output_type": "stream",
     "text": [
      "10x10 Grayscale Image Array:\n",
      "\n",
      "[[139 221 217 197 243 235 155 181 221 166]\n",
      " [249 137 180 132 166  75  34 216  48 136]\n",
      " [169   0 228  15   9 220  82  23  78  63]\n",
      " [152 194 207 216   6  44  57 163 210 249]\n",
      " [ 70 218  23 228  22 180  34 120 247 219]\n",
      " [ 70  15  34 176  69  29 246  69 114  43]\n",
      " [ 92 171 119 241  31 241  26 242 227  64]\n",
      " [170 187 227  56  22  87  26 198  62 171]\n",
      " [201 197 125 169 223  82  57 160  19 203]\n",
      " [188 142 234  92  56 184 189  64  67 192]]\n"
     ]
    }
   ],
   "source": [
    "grayscale_image = np.random.randint(0, 256, size=(10, 10), dtype=np.uint8)\n",
    "print(\"10x10 Grayscale Image Array:\\n\")\n",
    "print(grayscale_image)"
   ]
  },
  {
   "cell_type": "markdown",
   "id": "bee2712a-948d-4a45-9aad-8f393ea46988",
   "metadata": {
    "jp-MarkdownHeadingCollapsed": true
   },
   "source": [
    "## 2. Display (Conceptual)\n",
    " "
   ]
  },
  {
   "cell_type": "markdown",
   "id": "8e4a1d0c-7cc8-427d-965b-270723c160ac",
   "metadata": {},
   "source": [
    "- Describe how you would conceptually \"display\" this image (e.g., using a library like Matplotlib, though you don't need to actually plot it unless you wish to)."
   ]
  },
  {
   "cell_type": "code",
   "execution_count": 16,
   "id": "d4ec0c6e-b33d-4ce0-948b-c0959088143f",
   "metadata": {},
   "outputs": [
    {
     "data": {
      "image/png": "[encoded data removed]",
      "text/plain": [
       "<Figure size 400x400 with 1 Axes>"
      ]
     },
     "metadata": {},
     "output_type": "display_data"
    }
   ],
   "source": [
    "plt.figure(figsize=(4,4))\n",
    "plt.imshow(grayscale_image, cmap='gray', vmin=0, vmax=255)\n",
    "plt.title(\"10×10 Grayscale Image\")\n",
    "plt.show()"
   ]
  },
  {
   "cell_type": "markdown",
   "id": "1e0bafd6-c851-4196-af14-9210ed132206",
   "metadata": {
    "jp-MarkdownHeadingCollapsed": true
   },
   "source": [
    "##  3. Grayscale Inversion "
   ]
  },
  {
   "cell_type": "markdown",
   "id": "005213c2-c89d-4b57-9f20-b83113a45841",
   "metadata": {},
   "source": [
    "- Invert the image (black becomes white, white becomes black). For a pixel value p, the inverted value is 255 - p."
   ]
  },
  {
   "cell_type": "code",
   "execution_count": 5,
   "id": "5e1a1ff2-e8a8-41a5-ac3a-49695f22c8c6",
   "metadata": {},
   "outputs": [
    {
     "name": "stdout",
     "output_type": "stream",
     "text": [
      "Inverted 10x10 Grayscale Image Array:\n",
      "\n",
      "[[136 110  13 113  55  79 224 198 107 107]\n",
      " [107  87 207 127 136  30 110 210 119 176]\n",
      " [146 167 197  29 106 105 206 102 187 168]\n",
      " [146 225  63 203 200 124   8 228  97 180]\n",
      " [ 94 163  43  81   1  12 169 110 112   3]\n",
      " [107 246 132 250  80 224  58  25 191 219]\n",
      " [ 84 179 224   5 144 165 203  81  10 153]\n",
      " [210  76  17 195 179 174 195 126  94  71]\n",
      " [213  73 123 222   5  34 165 205 162  39]\n",
      " [137 146 169  51 115 161  67  11 115 160]]\n"
     ]
    }
   ],
   "source": [
    "inverted_image = 255 - grayscale_image\n",
    "\n",
    "print(\"Inverted 10x10 Grayscale Image Array:\\n\")\n",
    "print(inverted_image)"
   ]
  },
  {
   "cell_type": "markdown",
   "id": "2873cbdf-51bc-4d57-98a9-f2b9e2d3d005",
   "metadata": {
    "jp-MarkdownHeadingCollapsed": true
   },
   "source": [
    "## 4. Thresholding"
   ]
  },
  {
   "cell_type": "markdown",
   "id": "141df816-a732-498e-8bf0-b24daedb6502",
   "metadata": {},
   "source": [
    "- Apply a simple thresholding operation: all pixels below a certain value (e.g., 128) become 0 (black), and all pixels equal to or above become 255 (white)."
   ]
  },
  {
   "cell_type": "code",
   "execution_count": 10,
   "id": "82496482-45a7-4da0-8558-212e8c9c07da",
   "metadata": {},
   "outputs": [
    {
     "name": "stdout",
     "output_type": "stream",
     "text": [
      "Thresholded (binary) 10x10 Image Array:\n",
      "[[255 255 255 255 255 255 255 255 255 255]\n",
      " [255 255 255 255 255   0   0 255   0 255]\n",
      " [255   0 255   0   0 255   0   0   0   0]\n",
      " [255 255 255 255   0   0   0 255 255 255]\n",
      " [  0 255   0 255   0 255   0   0 255 255]\n",
      " [  0   0   0 255   0   0 255   0   0   0]\n",
      " [  0 255   0 255   0 255   0 255 255   0]\n",
      " [255 255 255   0   0   0   0 255   0 255]\n",
      " [255 255   0 255 255   0   0 255   0 255]\n",
      " [255 255 255   0   0 255 255   0   0 255]]\n"
     ]
    }
   ],
   "source": [
    "threshold = 128\n",
    "thresholded_image = np.where(grayscale_image < threshold, 0, 255).astype(np.uint8)\n",
    "\n",
    "print(\"Thresholded (binary) 10x10 Image Array:\")\n",
    "print(thresholded_image)"
   ]
  },
  {
   "cell_type": "markdown",
   "id": "19e38b9e-19d2-4077-af7d-184d4bf6482e",
   "metadata": {
    "jp-MarkdownHeadingCollapsed": true
   },
   "source": [
    "## 5. Cropping"
   ]
  },
  {
   "cell_type": "markdown",
   "id": "9d6516a9-9cec-4d68-b989-fd0ac1945524",
   "metadata": {},
   "source": [
    "- Extract a smaller \"region of interest\" (e.g., a 4x4 sub-image from the center) using array slicing.\n",
    " "
   ]
  },
  {
   "cell_type": "code",
   "execution_count": 11,
   "id": "67f7a02c-89ac-48cc-833c-fa4feea7a5dc",
   "metadata": {},
   "outputs": [
    {
     "name": "stdout",
     "output_type": "stream",
     "text": [
      "4x4 Center Region of Interest:\n",
      "[[216   6  44  57]\n",
      " [228  22 180  34]\n",
      " [176  69  29 246]\n",
      " [241  31 241  26]]\n"
     ]
    }
   ],
   "source": [
    "interest_region = grayscale_image[3:7, 3:7]\n",
    "print(\"4x4 Center Region of Interest:\")\n",
    "print(interest_region)"
   ]
  },
  {
   "cell_type": "markdown",
   "id": "e2b4d2f5-adfd-42db-80cc-999869a5ce37",
   "metadata": {
    "jp-MarkdownHeadingCollapsed": true
   },
   "source": [
    "## 6. Edge Detection (Simple - Convolution Concept)"
   ]
  },
  {
   "cell_type": "markdown",
   "id": "8b77b08e-0271-4527-84c8-d6873e8821b9",
   "metadata": {},
   "source": [
    "- Implement a very basic horizontal edge detection filter. This can be done by applying a convolution kernel (e.g., [-1, 0, 1] horizontally) to each row. For simplicity, you can just calculate the difference between adjacent pixels image[i, j+1] - image[i, j] for each pixel. Handle boundaries carefully (e.g., by skipping the last column)."
   ]
  },
  {
   "cell_type": "code",
   "execution_count": 13,
   "id": "04ed4ec9-0c7b-44c9-9367-b7f2f10f0c5e",
   "metadata": {},
   "outputs": [
    {
     "name": "stdout",
     "output_type": "stream",
     "text": [
      "Horizontal Edge Response (10x9):\n",
      "[[ 82 252 236  46 248 176  26  40 201]\n",
      " [144  43 208  34 165 215 182  88  88]\n",
      " [ 87 228  43 250 211 118 197  55 241]\n",
      " [ 42  13   9  46  38  13 106  47  39]\n",
      " [148  61 205  50 158 110  86 127 228]\n",
      " [201  19 142 149 216 217  79  45 185]\n",
      " [ 79 204 122  46 210  41 216 241  93]\n",
      " [ 17  40  85 222  65 195 172 120 109]\n",
      " [252 184  44  54 115 231 103 115 184]\n",
      " [210  92 114 220 128   5 131   3 125]]\n"
     ]
    }
   ],
   "source": [
    "edges = grayscale_image[:, 1:] - grayscale_image[:, :-1]\n",
    "\n",
    "print(\"Horizontal Edge Response (10x9):\")\n",
    "print(edges)"
   ]
  }
 ],
 "metadata": {
  "kernelspec": {
   "display_name": "Python 3 (ipykernel)",
   "language": "python",
   "name": "python3"
  },
  "language_info": {
   "codemirror_mode": {
    "name": "ipython",
    "version": 3
   },
   "file_extension": ".py",
   "mimetype": "text/x-python",
   "name": "python",
   "nbconvert_exporter": "python",
   "pygments_lexer": "ipython3",
   "version": "3.13.5"
  }
 },
 "nbformat": 4,
 "nbformat_minor": 5
}
