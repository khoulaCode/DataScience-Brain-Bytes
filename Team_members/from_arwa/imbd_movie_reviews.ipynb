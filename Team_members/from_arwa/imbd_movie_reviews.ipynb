{
 "cells": [
  {
   "cell_type": "markdown",
   "id": "58e520de",
   "metadata": {},
   "source": [
    "# Movie Reviews"
   ]
  },
  {
   "cell_type": "markdown",
   "id": "9dbbe3af",
   "metadata": {},
   "source": [
    "As a Data Scientist, I want to clean and preprocess IMDb movie reviews,\n",
    " So that the text is standardized, noise-free, and ready for sentiment analysis.\n"
   ]
  },
  {
   "cell_type": "markdown",
   "id": "848f106f",
   "metadata": {},
   "source": [
    "#### imports"
   ]
  },
  {
   "cell_type": "code",
   "execution_count": 18,
   "id": "8cde0be0",
   "metadata": {},
   "outputs": [],
   "source": [
    "import pandas as pd\n",
    "import os, re, html, random\n",
    "from pathlib import Path\n",
    "\n",
    "import sys\n",
    "from bs4 import BeautifulSoup\n",
    "import nltk\n",
    "from nltk.corpus import stopwords\n",
    "from nltk.stem import WordNetLemmatizer\n",
    "from nltk.corpus import wordnet\n",
    "from nltk.tokenize import word_tokenize\n",
    "from nltk.corpus.reader.wordnet import NOUN, VERB, ADJ, ADV\n",
    "from nltk import pos_tag"
   ]
  },
  {
   "cell_type": "code",
   "execution_count": 5,
   "id": "37c61439",
   "metadata": {},
   "outputs": [
    {
     "name": "stderr",
     "output_type": "stream",
     "text": [
      "[nltk_data] Downloading package averaged_perceptron_tagger_eng to\n",
      "[nltk_data]     C:\\Users\\bbuser\\AppData\\Roaming\\nltk_data...\n",
      "[nltk_data]   Package averaged_perceptron_tagger_eng is already up-to-\n",
      "[nltk_data]       date!\n"
     ]
    },
    {
     "data": {
      "text/plain": [
       "True"
      ]
     },
     "execution_count": 5,
     "metadata": {},
     "output_type": "execute_result"
    }
   ],
   "source": [
    "nltk.download('averaged_perceptron_tagger_eng')\n"
   ]
  },
  {
   "cell_type": "markdown",
   "id": "e729826b",
   "metadata": {},
   "source": [
    "#### Data Loading"
   ]
  },
  {
   "cell_type": "code",
   "execution_count": 6,
   "id": "7dba6337",
   "metadata": {},
   "outputs": [],
   "source": [
    "data_dir = r\"C:/Users/bbuser/Desktop/aclImdb\"\n",
    "\n",
    "def load_imdb_with_rating_v2(base_dir, subset=\"train\", sample_size=5000):\n",
    "    data_records = []\n",
    "\n",
    "    categories = {\"pos\": 1, \"neg\": 0}  # map labels to 1/0\n",
    "    \n",
    "    for label, label_value in categories.items():\n",
    "        path = os.path.join(base_dir, subset, label)\n",
    "        \n",
    "        # list all files in pos/neg folder\n",
    "        all_files = os.listdir(path)\n",
    "        \n",
    "        # adjust if sample_size is larger than available\n",
    "        if sample_size > len(all_files):\n",
    "            sample_size = len(all_files)\n",
    "        \n",
    "        filenames = random.sample(all_files, sample_size)\n",
    "\n",
    "        for filename in filenames:\n",
    "            # filename looks like \"12345_7.txt\"\n",
    "            file_id, rating_str = filename.split(\"_\")\n",
    "            rating = int(rating_str.split(\".\")[0])  # extract rating number\n",
    "            \n",
    "            file_path = os.path.join(path, filename)\n",
    "            with open(file_path, encoding=\"utf-8\") as f:\n",
    "                review_text = f.read()\n",
    "            \n",
    "            data_records.append({\n",
    "                \"id\": int(file_id),\n",
    "                \"rating\": rating,\n",
    "                \"txt\": review_text,\n",
    "                \"label\": label_value\n",
    "            })\n",
    "\n",
    "    return pd.DataFrame(data_records)\n"
   ]
  },
  {
   "cell_type": "code",
   "execution_count": 7,
   "id": "4a4726c7",
   "metadata": {},
   "outputs": [
    {
     "name": "stdout",
     "output_type": "stream",
     "text": [
      "Shape: (10000, 4)\n",
      "Unique labels: [1 0]\n"
     ]
    },
    {
     "data": {
      "application/vnd.microsoft.datawrangler.viewer.v0+json": {
       "columns": [
        {
         "name": "index",
         "rawType": "int64",
         "type": "integer"
        },
        {
         "name": "id",
         "rawType": "int64",
         "type": "integer"
        },
        {
         "name": "rating",
         "rawType": "int64",
         "type": "integer"
        },
        {
         "name": "txt",
         "rawType": "object",
         "type": "string"
        },
        {
         "name": "label",
         "rawType": "int64",
         "type": "integer"
        }
       ],
       "ref": "afffee11-760f-4d45-b6d2-636e899f726c",
       "rows": [
        [
         "0",
         "4592",
         "9",
         "Jackie Chan's Police Story is a landmark film for both the Honk Kong action genre and the career of Jackie Chan.<br /><br />Directed/written by Chan, Police Story has a basic plot as did all the films of that era and genre, and like most of the the films of Police Storys' kind, the script is nothing to be raved about. But the plot of the film is Jackie Chan, who plays a nice guy cop, struggling to convict the local gang lord.<br /><br />The direction of the film is nothing special and by no means the best directing effort that Jackie Chan has given us, that responsibility falls to the underrated masterpiece \"Miracles\". However the job that Jackie does directing is sufficient and respectable. The standout out directing of the film comes with the fight scenes.<br /><br />The performances in this film also vary with Jackie giving a very solid typical Chan nice guy up against it role, but this is by no means his best acting role, that can been seen in the Sammo Hung directed film \"Heart of the Dragon\". The other actors in the film also give as good a solid performance as Jackie with Bridgete Lin playing her part of the unwilling witness reasonably well, but neither does she display full acting potential. The standout acting comes from Maggie Cheung as Jackies' suffering girlfriend and Bill Tung as the sympathetic and funny police chief. None of the performances in this film is of a low enough standard to affect the quality of the film. <br /><br />The action in the film is what really separates this film from others with stunning contemporary choreography to suit the urbanised, modern setting, the action is some some of the greatest fight scenes ever put on camera. To begin with there is a shootout in the slum where Koo (ganglord) is making a drug deal, whilst being no John Woo style sequence, this serves as a nice starter for the film. This is then followed by the famous car run down the side of the hill and through the heart of the slum wrecking everything in sight. This is a breathtaking sequence that has since been shamelessly copied by Bad Boys 2. In the middle of the film is yet another standout sequence as Jackie tries to transport Bridgete Lin from her house to his. This is really the first scene where we get to see the awesome fast paced hand to hand combat that has since become the norm for all modern set martial art films. This sequence is fantastically choreographed, timed and seamlessly edited together to maximise the brutality of the scene. However, as tradition dictates, the standout fight sequence is at the end of the film. This sequence displays some of Chans' best choreography, stunts and camera/editing work. This sequence is now famous for two things, the amount of people sent through high density glass, which has to be said a phenomenal amount of people, and the stunt at the end where Jackie leaps from a 5th storey balcony, grabs hold of a pole and slides down through a glass roof (this has to be seen to be believed). Whilst the two for-mentioned factors are both uniquely brilliant, i think that the most impressive part of this fight sequence is Chans' ability to incorporate anything into the fight sequence and the sheer originality of the choreography, that for me has never been bettered. I also believe that the action in Police Story is some of the best filmed and edited action of Chans career helping to set the action apart from others.<br /><br />Overall, Police Story, despite its unspectacular storyline and script and over running in the middle due to plot padding, is one of the best action films of all time displaying Chans best choreography, best filmed action and arguably his most spectacular stunt making this essential viewing for everyone. Afterall, we watch a Chan movie for the action!!",
         "1"
        ],
        [
         "1",
         "4881",
         "9",
         "\"Kaabee\" depicts the hardship of a woman in pre and during WWII, raising her kids alone after her husband imprisoned for \"thought crime\". This movie was directed by Yamada Youji, and as expected the atmosphere of this movie is really wonderful. Although the historical correctness of some scenes, most notably the beach scene, is a suspect.<br /><br />The acting in this movie is absolutely incredible. I am baffled at how they managed to gather this all-star cast for a 2008 film. Yoshinaga Sayuri, possibly the most decorated still-active actress in Japan, will undoubtedly win more individual awards for her performance in this film. Shoufukutei Tsurube in a supporting role was really nice as well. It was Asano Tadanobu though, who delivered the most impressive performance, perfectly portraying the wittiness of his character and the difficult situation he was in.<br /><br />Films with pre-war setting is not my thing, but thanks to wonderful directing and acting, I was totally absorbed by the story. Also, it wasn't a far-left nonsense like \"Yuunagi no Machi, Sakura no Kuni\", and examines the controversial and sensitive issue of government oppression and brainwashing that occurred in that period in Japan. Excellent film, highly recommended for all viewers.",
         "1"
        ],
        [
         "2",
         "10634",
         "10",
         "In order to stop her homosexual friend Albert (Perry King) from being deported back to Belgium, Stella (Meg Foster) decides to marry him. The only other problem with that is that Stella herself is a lesbian. The two have their separate lives when one night after Albert's birthday party, they fall into bed and then into love. Later in the film after falling in love, Stella suspects Albert of cheating and shows up at his job one night late after closing. What she finds will leave the viewer stunned. This is a great film, very original. Perry King and Meg Foster are so good in their roles that it is amazing that they were not better recognized for their work here. Very controversial upon its release in 1978, the \"R\" rated film is now \"PG\" in this much more liberal time.<br /><br />Recently released on DVD, the disc contains a \"Making Of\" segment on the special features and in it it's stated that the film was based on an actual story so the viewers who say the film is not \"real\" are mistaken. Everyone is an individual and different people fall in love for different reasons-these are the issues explored in this wonderful film for everyone who has ever loved!",
         "1"
        ],
        [
         "3",
         "11075",
         "10",
         "Having read the reviews for this film, I understandably started watching it with a great deal of doubt in my mind that it would actually be any good. However, this is one of the best films i have seen in a long time. The majority of reviews that i had read, said that the complicated plot made it too hard to follow. And whilst some parts do leave you confused, the ending ties up so many loose ends that you feel like kicking yourself because you've missed so much. It's not like \"Lock, Stock...\" or \"Snatch\", in the sense that it isn't that funny (in fact, it's pretty dark), and it is a lot more intelligent, in the way that you see parts of scenes from different viewpoints (and, in one of the best scenes of the film, Jason Statham spends five minutes in a lift having an argument with himself). The way in which it is similar to the two films i just mentioned, is that it is full of memorable characters, specifically Statham, who gives a fantastic performance as the lead, and Ray Liotta, who spends most of the film in Speedos, but gives a great performance none the less. If you've got time, and have time afterwards to think about the film, and even watch it again, you really start to see all the symbolism and hints that are laid out through the film. I think it's fantastic, and that Guy Ritchie is a director on top of his game.",
         "1"
        ],
        [
         "4",
         "2368",
         "8",
         "The plot:Kurt Harris (Jeff Wincott), a bitter, ex-cop goes undercover in the \"Peacemakers\" after his friend is killed by their leader. While there, he discovers that the woman wants to run for mayor, and will do anything to achieve this goal, even murder.The cast is good(Jeff Wincott is a good martial artist and good actor)...Brigitte Nielsen plays a sexy antagonist together another bad guy plays Matthias Hues also him good martial artist.The direction is good(the fight scenes also).The rest is OK, with Tony Burton who plays a friend of Kurt killed from Nilsen,and Cyndi Pass plays a bad girl.From producers of another action/martial arts film(Bounty Tracker with Lorenzo Lamas)a good action film.The best film of Martial Law series.",
         "1"
        ]
       ],
       "shape": {
        "columns": 4,
        "rows": 5
       }
      },
      "text/html": [
       "<div>\n",
       "<style scoped>\n",
       "    .dataframe tbody tr th:only-of-type {\n",
       "        vertical-align: middle;\n",
       "    }\n",
       "\n",
       "    .dataframe tbody tr th {\n",
       "        vertical-align: top;\n",
       "    }\n",
       "\n",
       "    .dataframe thead th {\n",
       "        text-align: right;\n",
       "    }\n",
       "</style>\n",
       "<table border=\"1\" class=\"dataframe\">\n",
       "  <thead>\n",
       "    <tr style=\"text-align: right;\">\n",
       "      <th></th>\n",
       "      <th>id</th>\n",
       "      <th>rating</th>\n",
       "      <th>txt</th>\n",
       "      <th>label</th>\n",
       "    </tr>\n",
       "  </thead>\n",
       "  <tbody>\n",
       "    <tr>\n",
       "      <th>0</th>\n",
       "      <td>4592</td>\n",
       "      <td>9</td>\n",
       "      <td>Jackie Chan's Police Story is a landmark film ...</td>\n",
       "      <td>1</td>\n",
       "    </tr>\n",
       "    <tr>\n",
       "      <th>1</th>\n",
       "      <td>4881</td>\n",
       "      <td>9</td>\n",
       "      <td>\"Kaabee\" depicts the hardship of a woman in pr...</td>\n",
       "      <td>1</td>\n",
       "    </tr>\n",
       "    <tr>\n",
       "      <th>2</th>\n",
       "      <td>10634</td>\n",
       "      <td>10</td>\n",
       "      <td>In order to stop her homosexual friend Albert ...</td>\n",
       "      <td>1</td>\n",
       "    </tr>\n",
       "    <tr>\n",
       "      <th>3</th>\n",
       "      <td>11075</td>\n",
       "      <td>10</td>\n",
       "      <td>Having read the reviews for this film, I under...</td>\n",
       "      <td>1</td>\n",
       "    </tr>\n",
       "    <tr>\n",
       "      <th>4</th>\n",
       "      <td>2368</td>\n",
       "      <td>8</td>\n",
       "      <td>The plot:Kurt Harris (Jeff Wincott), a bitter,...</td>\n",
       "      <td>1</td>\n",
       "    </tr>\n",
       "  </tbody>\n",
       "</table>\n",
       "</div>"
      ],
      "text/plain": [
       "      id  rating                                                txt  label\n",
       "0   4592       9  Jackie Chan's Police Story is a landmark film ...      1\n",
       "1   4881       9  \"Kaabee\" depicts the hardship of a woman in pr...      1\n",
       "2  10634      10  In order to stop her homosexual friend Albert ...      1\n",
       "3  11075      10  Having read the reviews for this film, I under...      1\n",
       "4   2368       8  The plot:Kurt Harris (Jeff Wincott), a bitter,...      1"
      ]
     },
     "execution_count": 7,
     "metadata": {},
     "output_type": "execute_result"
    }
   ],
   "source": [
    "df_subset = load_imdb_with_rating_v2(data_dir, subset=\"train\", sample_size=5000)\n",
    "print(f\"Shape: {df_subset.shape}\")\n",
    "print(\"Unique labels:\", df_subset[\"label\"].unique())\n",
    "df_subset.head()"
   ]
  },
  {
   "cell_type": "code",
   "execution_count": 8,
   "id": "ca4266b6",
   "metadata": {},
   "outputs": [
    {
     "data": {
      "text/plain": [
       "array([1, 0])"
      ]
     },
     "execution_count": 8,
     "metadata": {},
     "output_type": "execute_result"
    }
   ],
   "source": [
    "df_subset['label'].unique()"
   ]
  },
  {
   "cell_type": "code",
   "execution_count": 9,
   "id": "d6f4fe88",
   "metadata": {},
   "outputs": [
    {
     "data": {
      "application/vnd.microsoft.datawrangler.viewer.v0+json": {
       "columns": [
        {
         "name": "index",
         "rawType": "int64",
         "type": "integer"
        },
        {
         "name": "id",
         "rawType": "int64",
         "type": "integer"
        },
        {
         "name": "rating",
         "rawType": "int64",
         "type": "integer"
        },
        {
         "name": "txt",
         "rawType": "object",
         "type": "string"
        },
        {
         "name": "label",
         "rawType": "int64",
         "type": "integer"
        }
       ],
       "ref": "99443556-51da-40b8-a7e9-935d8b1542a1",
       "rows": [
        [
         "0",
         "4592",
         "9",
         "Jackie Chan's Police Story is a landmark film for both the Honk Kong action genre and the career of Jackie Chan.<br /><br />Directed/written by Chan, Police Story has a basic plot as did all the films of that era and genre, and like most of the the films of Police Storys' kind, the script is nothing to be raved about. But the plot of the film is Jackie Chan, who plays a nice guy cop, struggling to convict the local gang lord.<br /><br />The direction of the film is nothing special and by no means the best directing effort that Jackie Chan has given us, that responsibility falls to the underrated masterpiece \"Miracles\". However the job that Jackie does directing is sufficient and respectable. The standout out directing of the film comes with the fight scenes.<br /><br />The performances in this film also vary with Jackie giving a very solid typical Chan nice guy up against it role, but this is by no means his best acting role, that can been seen in the Sammo Hung directed film \"Heart of the Dragon\". The other actors in the film also give as good a solid performance as Jackie with Bridgete Lin playing her part of the unwilling witness reasonably well, but neither does she display full acting potential. The standout acting comes from Maggie Cheung as Jackies' suffering girlfriend and Bill Tung as the sympathetic and funny police chief. None of the performances in this film is of a low enough standard to affect the quality of the film. <br /><br />The action in the film is what really separates this film from others with stunning contemporary choreography to suit the urbanised, modern setting, the action is some some of the greatest fight scenes ever put on camera. To begin with there is a shootout in the slum where Koo (ganglord) is making a drug deal, whilst being no John Woo style sequence, this serves as a nice starter for the film. This is then followed by the famous car run down the side of the hill and through the heart of the slum wrecking everything in sight. This is a breathtaking sequence that has since been shamelessly copied by Bad Boys 2. In the middle of the film is yet another standout sequence as Jackie tries to transport Bridgete Lin from her house to his. This is really the first scene where we get to see the awesome fast paced hand to hand combat that has since become the norm for all modern set martial art films. This sequence is fantastically choreographed, timed and seamlessly edited together to maximise the brutality of the scene. However, as tradition dictates, the standout fight sequence is at the end of the film. This sequence displays some of Chans' best choreography, stunts and camera/editing work. This sequence is now famous for two things, the amount of people sent through high density glass, which has to be said a phenomenal amount of people, and the stunt at the end where Jackie leaps from a 5th storey balcony, grabs hold of a pole and slides down through a glass roof (this has to be seen to be believed). Whilst the two for-mentioned factors are both uniquely brilliant, i think that the most impressive part of this fight sequence is Chans' ability to incorporate anything into the fight sequence and the sheer originality of the choreography, that for me has never been bettered. I also believe that the action in Police Story is some of the best filmed and edited action of Chans career helping to set the action apart from others.<br /><br />Overall, Police Story, despite its unspectacular storyline and script and over running in the middle due to plot padding, is one of the best action films of all time displaying Chans best choreography, best filmed action and arguably his most spectacular stunt making this essential viewing for everyone. Afterall, we watch a Chan movie for the action!!",
         "1"
        ],
        [
         "1",
         "4881",
         "9",
         "\"Kaabee\" depicts the hardship of a woman in pre and during WWII, raising her kids alone after her husband imprisoned for \"thought crime\". This movie was directed by Yamada Youji, and as expected the atmosphere of this movie is really wonderful. Although the historical correctness of some scenes, most notably the beach scene, is a suspect.<br /><br />The acting in this movie is absolutely incredible. I am baffled at how they managed to gather this all-star cast for a 2008 film. Yoshinaga Sayuri, possibly the most decorated still-active actress in Japan, will undoubtedly win more individual awards for her performance in this film. Shoufukutei Tsurube in a supporting role was really nice as well. It was Asano Tadanobu though, who delivered the most impressive performance, perfectly portraying the wittiness of his character and the difficult situation he was in.<br /><br />Films with pre-war setting is not my thing, but thanks to wonderful directing and acting, I was totally absorbed by the story. Also, it wasn't a far-left nonsense like \"Yuunagi no Machi, Sakura no Kuni\", and examines the controversial and sensitive issue of government oppression and brainwashing that occurred in that period in Japan. Excellent film, highly recommended for all viewers.",
         "1"
        ],
        [
         "2",
         "10634",
         "10",
         "In order to stop her homosexual friend Albert (Perry King) from being deported back to Belgium, Stella (Meg Foster) decides to marry him. The only other problem with that is that Stella herself is a lesbian. The two have their separate lives when one night after Albert's birthday party, they fall into bed and then into love. Later in the film after falling in love, Stella suspects Albert of cheating and shows up at his job one night late after closing. What she finds will leave the viewer stunned. This is a great film, very original. Perry King and Meg Foster are so good in their roles that it is amazing that they were not better recognized for their work here. Very controversial upon its release in 1978, the \"R\" rated film is now \"PG\" in this much more liberal time.<br /><br />Recently released on DVD, the disc contains a \"Making Of\" segment on the special features and in it it's stated that the film was based on an actual story so the viewers who say the film is not \"real\" are mistaken. Everyone is an individual and different people fall in love for different reasons-these are the issues explored in this wonderful film for everyone who has ever loved!",
         "1"
        ],
        [
         "3",
         "11075",
         "10",
         "Having read the reviews for this film, I understandably started watching it with a great deal of doubt in my mind that it would actually be any good. However, this is one of the best films i have seen in a long time. The majority of reviews that i had read, said that the complicated plot made it too hard to follow. And whilst some parts do leave you confused, the ending ties up so many loose ends that you feel like kicking yourself because you've missed so much. It's not like \"Lock, Stock...\" or \"Snatch\", in the sense that it isn't that funny (in fact, it's pretty dark), and it is a lot more intelligent, in the way that you see parts of scenes from different viewpoints (and, in one of the best scenes of the film, Jason Statham spends five minutes in a lift having an argument with himself). The way in which it is similar to the two films i just mentioned, is that it is full of memorable characters, specifically Statham, who gives a fantastic performance as the lead, and Ray Liotta, who spends most of the film in Speedos, but gives a great performance none the less. If you've got time, and have time afterwards to think about the film, and even watch it again, you really start to see all the symbolism and hints that are laid out through the film. I think it's fantastic, and that Guy Ritchie is a director on top of his game.",
         "1"
        ],
        [
         "4",
         "2368",
         "8",
         "The plot:Kurt Harris (Jeff Wincott), a bitter, ex-cop goes undercover in the \"Peacemakers\" after his friend is killed by their leader. While there, he discovers that the woman wants to run for mayor, and will do anything to achieve this goal, even murder.The cast is good(Jeff Wincott is a good martial artist and good actor)...Brigitte Nielsen plays a sexy antagonist together another bad guy plays Matthias Hues also him good martial artist.The direction is good(the fight scenes also).The rest is OK, with Tony Burton who plays a friend of Kurt killed from Nilsen,and Cyndi Pass plays a bad girl.From producers of another action/martial arts film(Bounty Tracker with Lorenzo Lamas)a good action film.The best film of Martial Law series.",
         "1"
        ]
       ],
       "shape": {
        "columns": 4,
        "rows": 5
       }
      },
      "text/html": [
       "<div>\n",
       "<style scoped>\n",
       "    .dataframe tbody tr th:only-of-type {\n",
       "        vertical-align: middle;\n",
       "    }\n",
       "\n",
       "    .dataframe tbody tr th {\n",
       "        vertical-align: top;\n",
       "    }\n",
       "\n",
       "    .dataframe thead th {\n",
       "        text-align: right;\n",
       "    }\n",
       "</style>\n",
       "<table border=\"1\" class=\"dataframe\">\n",
       "  <thead>\n",
       "    <tr style=\"text-align: right;\">\n",
       "      <th></th>\n",
       "      <th>id</th>\n",
       "      <th>rating</th>\n",
       "      <th>txt</th>\n",
       "      <th>label</th>\n",
       "    </tr>\n",
       "  </thead>\n",
       "  <tbody>\n",
       "    <tr>\n",
       "      <th>0</th>\n",
       "      <td>4592</td>\n",
       "      <td>9</td>\n",
       "      <td>Jackie Chan's Police Story is a landmark film ...</td>\n",
       "      <td>1</td>\n",
       "    </tr>\n",
       "    <tr>\n",
       "      <th>1</th>\n",
       "      <td>4881</td>\n",
       "      <td>9</td>\n",
       "      <td>\"Kaabee\" depicts the hardship of a woman in pr...</td>\n",
       "      <td>1</td>\n",
       "    </tr>\n",
       "    <tr>\n",
       "      <th>2</th>\n",
       "      <td>10634</td>\n",
       "      <td>10</td>\n",
       "      <td>In order to stop her homosexual friend Albert ...</td>\n",
       "      <td>1</td>\n",
       "    </tr>\n",
       "    <tr>\n",
       "      <th>3</th>\n",
       "      <td>11075</td>\n",
       "      <td>10</td>\n",
       "      <td>Having read the reviews for this film, I under...</td>\n",
       "      <td>1</td>\n",
       "    </tr>\n",
       "    <tr>\n",
       "      <th>4</th>\n",
       "      <td>2368</td>\n",
       "      <td>8</td>\n",
       "      <td>The plot:Kurt Harris (Jeff Wincott), a bitter,...</td>\n",
       "      <td>1</td>\n",
       "    </tr>\n",
       "  </tbody>\n",
       "</table>\n",
       "</div>"
      ],
      "text/plain": [
       "      id  rating                                                txt  label\n",
       "0   4592       9  Jackie Chan's Police Story is a landmark film ...      1\n",
       "1   4881       9  \"Kaabee\" depicts the hardship of a woman in pr...      1\n",
       "2  10634      10  In order to stop her homosexual friend Albert ...      1\n",
       "3  11075      10  Having read the reviews for this film, I under...      1\n",
       "4   2368       8  The plot:Kurt Harris (Jeff Wincott), a bitter,...      1"
      ]
     },
     "execution_count": 9,
     "metadata": {},
     "output_type": "execute_result"
    }
   ],
   "source": [
    "df_subset.head()"
   ]
  },
  {
   "cell_type": "code",
   "execution_count": 10,
   "id": "bef54f18",
   "metadata": {},
   "outputs": [
    {
     "data": {
      "application/vnd.microsoft.datawrangler.viewer.v0+json": {
       "columns": [
        {
         "name": "index",
         "rawType": "int64",
         "type": "integer"
        },
        {
         "name": "id",
         "rawType": "int64",
         "type": "integer"
        },
        {
         "name": "rating",
         "rawType": "int64",
         "type": "integer"
        },
        {
         "name": "txt",
         "rawType": "object",
         "type": "string"
        },
        {
         "name": "label",
         "rawType": "int64",
         "type": "integer"
        }
       ],
       "ref": "c66be897-3bf4-4785-bb81-5842ebffa769",
       "rows": [
        [
         "9995",
         "209",
         "1",
         "I could never stand watching Happy Days after Chachi joined the cast, so I knew I was in trouble when the best scene in this movie featured Scott Baio (a skateboard chase scene!). Jodie Foster in her first \"grown-up\" role turns in her usual professional performance but that is no excuse for this boring mess. Two hours out of my life that I'll never get back! No noteworthy characters, unbelievable storyline, questionable editing and horrendous cinematography but worst of all, I couldn't have cared less. The story of California teens in the 1970's, where the kids live miserable lives and all their parents are idiots. Don't waste your time watching this ugly excuse for a movie.",
         "0"
        ],
        [
         "9996",
         "1602",
         "2",
         "Anyone who thinks this film has not been appreciated for its comic genius must have been smoking with the two stoners in the film. This film is NOT under-rated...it is a bad movie. <br /><br />There should be no comparisons between this film and The Naked Gun or Airplane since the latter two films are well written and funny. Class Reunion is neither of those things. The sad thing is it had such potential (good cast, good story lines) but the good jokes are few and far between. The scenes that were supposed to be funny came off more annoying than amusing. The stoner guys, the vampire, the blind girl...NOT FUNNY. The only funny character were Delores (the one who sold her soul to the devil).<br /><br />National Lampoon has made some really good films (Animal House, Vacation) but this isn't one of them. I certainly expected more from John Hughes.",
         "0"
        ],
        [
         "9997",
         "10906",
         "2",
         "Redundant, but again the case. If you enjoy the former SNL comedian and his antics (in this case, Schneider), then you should go. Basic comedy.man's life is saved by having various animal organs transplanted into him. Unfortunately, he takes on each animal's characteristics. Former Survivor Colleen looks pretty good here, now that she doesn't have open sores on her legs, and a little makeup on her face! D",
         "0"
        ],
        [
         "9998",
         "4398",
         "2",
         "Tim Robbins and John Cusack are two actors I have appreciated throughout their careers, and that was the only reason for choosing to watch this movie. Well, all I can say is I totally regretted it! These two great actors humiliate themselves all the way through by performing a number of irrelevant, unimaginative and kitch to the extreme (not that this is bad on its own)sketches that are supposed to make people laugh, but fail to do so. The only reason I can think is that the director was their friend, and they decided to support his movie by starring in it-I can't think of anything else because this movie is SO cheap! Fortunately Tim Robbins and John Cusack haven't disappointed me ever since. I would recommend you to avoid this film, unless you want your opinion about the two actors spoiled.",
         "0"
        ],
        [
         "9999",
         "6647",
         "2",
         "A drama at its very core, \"Anna\" displays that genuine truth that all actors age, and sometimes, fade away. Anna is a character that believes America is her safety net, her home, and it can do her no wrong  but she refuses to belittle herself to do work she doesn't believe in. She is hard-nosed, optimistic, stubborn, and arrogant when it comes to her life, yet not afraid to let others in, yet drop them at a moments notice. Anna flip-flops between personalities, which makes this film ideal of an aging star, but not idea of the viewing audience. \"Anna\" has been praised for its star Sally Kirkland, and her ability to get \"grungy\" for the role, but a month into 2008, \"Anna\" does not remain a staple of film culture. It is dated, dull, and formulaically chaotic.<br /><br />Director Yurek Bogayevicz has a message hidden within \"Anna\" about the falsehoods of Czechoslovakia, both politically and socially, but Kirkland refuses to let them upstage her. Bogayevicz is not afraid to play with the camera, to use wooden frames to allow Kirkland to stand out, and he is not afraid to lessen the surrounding characters so that when you walk away from the film, it is Kirkland you remember. If it isn't obvious, this film didn't sit well with me. From the opening of the first act and deep within the second, \"Anna\" felt like a high school theater production. The characters were non-existent, there was no enlightening pre-story, and there was no definition of time or place. There was Sally Kirkland, stubbornly saying that she is better than the other actresses vying for the same lifestyle that she wants. Randomly she encounters a friend, a young girl that has also traveled a long distance to get to America for the glitz and glamour, and two of them (within the span of 20 minutes) build a friendship that could break all walls. It is emotionally boring and unbelievable. Again, randomly, we meet Anna's boyfriend Daniel (played by the weak Robert Fields), who brings nothing to the table in terms of definition or character  only to boost the attention onto Kirkland's Anna. Through the course of nearly two hours, we watch as more random acts coupled with unnamed characters intertwine together to feebly create a story that is held together by loose threads  and SALLY KIRKLAND. Arg, it pains me to continue to say this but \"Anna\" could have been a fantastic film had Bogayevicz presented equal time between Anna, Daniel, and Krystina, but instead we are forced into a one-sided game where emotional scenes speak louder than plot.<br /><br />Is this where Charlize Theron found inspiration for her beauty-less role in \"Monster\", or Halle Berry in \"Monster's Ball\"? Was Sally Kirkland one of the early actresses discover that by letting themselves go for a character Oscar will shine in their direction? Throughout this film I was disgusted by Kirkland's portrayal of Anna, and Bogayevicz's lack of excitement for anything else fluent. Bogayevicz gives us an Anna that doesn't work hard for her parts, doesn't care for others, and is generally mean spirited  yet we are to feel sympathy for her? Near the beginning of the film, she forces what she wants to do onto others, and gets upset when she doesn't get her way. Sure, aging actresses my have that appeal to them, but Kirkland creates a more childish character instead of a mature one. That is where \"Anna\" could have improved. If this was a mature Kirkland, I would have gobbled it up, but this stammering childish Anna was impossible to believe. While my favorite scene was near the end where Anna goes to watch one of her older films playing (included is absurd make-out characters) and the film burns, this scene is also one of my least favorite. Anna has made a phenomenal life for herself, creating films and building the dream, yet when anyone else wants to enter that spotlight, she gets jealous and outraged. This didn't make for a character I wanted to stand behind nor win Oscars. Coupled with the classic 80s background synthesizer, the outrageous over-the top wardrobe, and the displaced ending (where did that come from and what happened??)  \"Anna\" slipped far in the scope of amazing cinema. It was a show-piece, an opportunity for an aging star to yell at the world one more time. In this one it worked, but I don't think I will be fooled again.<br /><br />Overall, I cannot say that I was impressed with this film. \"Anna\" is not a film about an aging film star; it is about Sally Kirkland, and ONLY Sally Kirkland. Bogayevicz tries to do more with the story, but fails either because Kirkland will not allow him or he just realizes that there isn't enough to support a full story. There are one or two decent scenes in this film, but nothing that promotes this film as innovative or influential. Bogayevicz did not create a character that audiences would believe, tear up for, or dedicate a Sunday afternoon with  he created an annoyance. Kirkland wasn't Anna, she was an actress playing her a bit overdone and crusty on the sides. Perhaps I missed the scope of this film, but what makes films like this work is the cooperation of everyone involved. That wasn't the case here. In \"Anna\", Kirkland orders Daniel to act like a dog (apparently as a symbolic act) and yet during the entire emotional scene, I couldn't help but think that was what Kirkland was like to those on the set. She didn't make this into a film, she transformed it into her own production, and because of it \"Anna\" failed. I cannot suggest this to anyone  from one Czech to another  skip it! <br /><br />Grade: * ½ out of ***** (for that pesky theater scene that creeped me out)",
         "0"
        ]
       ],
       "shape": {
        "columns": 4,
        "rows": 5
       }
      },
      "text/html": [
       "<div>\n",
       "<style scoped>\n",
       "    .dataframe tbody tr th:only-of-type {\n",
       "        vertical-align: middle;\n",
       "    }\n",
       "\n",
       "    .dataframe tbody tr th {\n",
       "        vertical-align: top;\n",
       "    }\n",
       "\n",
       "    .dataframe thead th {\n",
       "        text-align: right;\n",
       "    }\n",
       "</style>\n",
       "<table border=\"1\" class=\"dataframe\">\n",
       "  <thead>\n",
       "    <tr style=\"text-align: right;\">\n",
       "      <th></th>\n",
       "      <th>id</th>\n",
       "      <th>rating</th>\n",
       "      <th>txt</th>\n",
       "      <th>label</th>\n",
       "    </tr>\n",
       "  </thead>\n",
       "  <tbody>\n",
       "    <tr>\n",
       "      <th>9995</th>\n",
       "      <td>209</td>\n",
       "      <td>1</td>\n",
       "      <td>I could never stand watching Happy Days after ...</td>\n",
       "      <td>0</td>\n",
       "    </tr>\n",
       "    <tr>\n",
       "      <th>9996</th>\n",
       "      <td>1602</td>\n",
       "      <td>2</td>\n",
       "      <td>Anyone who thinks this film has not been appre...</td>\n",
       "      <td>0</td>\n",
       "    </tr>\n",
       "    <tr>\n",
       "      <th>9997</th>\n",
       "      <td>10906</td>\n",
       "      <td>2</td>\n",
       "      <td>Redundant, but again the case. If you enjoy th...</td>\n",
       "      <td>0</td>\n",
       "    </tr>\n",
       "    <tr>\n",
       "      <th>9998</th>\n",
       "      <td>4398</td>\n",
       "      <td>2</td>\n",
       "      <td>Tim Robbins and John Cusack are two actors I h...</td>\n",
       "      <td>0</td>\n",
       "    </tr>\n",
       "    <tr>\n",
       "      <th>9999</th>\n",
       "      <td>6647</td>\n",
       "      <td>2</td>\n",
       "      <td>A drama at its very core, \"Anna\" displays that...</td>\n",
       "      <td>0</td>\n",
       "    </tr>\n",
       "  </tbody>\n",
       "</table>\n",
       "</div>"
      ],
      "text/plain": [
       "         id  rating                                                txt  label\n",
       "9995    209       1  I could never stand watching Happy Days after ...      0\n",
       "9996   1602       2  Anyone who thinks this film has not been appre...      0\n",
       "9997  10906       2  Redundant, but again the case. If you enjoy th...      0\n",
       "9998   4398       2  Tim Robbins and John Cusack are two actors I h...      0\n",
       "9999   6647       2  A drama at its very core, \"Anna\" displays that...      0"
      ]
     },
     "execution_count": 10,
     "metadata": {},
     "output_type": "execute_result"
    }
   ],
   "source": [
    "df_subset.tail()"
   ]
  },
  {
   "cell_type": "code",
   "execution_count": 11,
   "id": "e0ee5de7",
   "metadata": {},
   "outputs": [
    {
     "name": "stdout",
     "output_type": "stream",
     "text": [
      "Positive folder exists: True\n",
      "Negative folder exists: True\n",
      "Positive reviews: 12500\n",
      "Negative reviews: 12500\n"
     ]
    }
   ],
   "source": [
    "# sanity check for me \n",
    "\n",
    "data_dir = r\"C:/Users/bbuser/Desktop/aclImdb\"\n",
    "subset = \"train\"\n",
    "\n",
    "# Paths to positive and negative folders\n",
    "pos_path = os.path.join(data_dir, subset, \"pos\")\n",
    "neg_path = os.path.join(data_dir, subset, \"neg\")\n",
    "\n",
    "# Check if the folders exist\n",
    "print(\"Positive folder exists:\", os.path.exists(pos_path))\n",
    "print(\"Negative folder exists:\", os.path.exists(neg_path))\n",
    "\n",
    "# Check how many files are inside\n",
    "print(\"Positive reviews:\", len(os.listdir(pos_path)) if os.path.exists(pos_path) else \"MISSING\")\n",
    "print(\"Negative reviews:\", len(os.listdir(neg_path)) if os.path.exists(neg_path) else \"MISSING\")\n"
   ]
  },
  {
   "cell_type": "markdown",
   "id": "a859c692",
   "metadata": {},
   "source": [
    "#### Cleaning Steps"
   ]
  },
  {
   "cell_type": "code",
   "execution_count": 12,
   "id": "999de2fe",
   "metadata": {},
   "outputs": [
    {
     "name": "stderr",
     "output_type": "stream",
     "text": [
      "[nltk_data] Downloading package stopwords to\n",
      "[nltk_data]     C:\\Users\\bbuser\\AppData\\Roaming\\nltk_data...\n",
      "[nltk_data]   Package stopwords is already up-to-date!\n"
     ]
    },
    {
     "data": {
      "text/plain": [
       "True"
      ]
     },
     "execution_count": 12,
     "metadata": {},
     "output_type": "execute_result"
    }
   ],
   "source": [
    "nltk.download(\"stopwords\")"
   ]
  },
  {
   "cell_type": "code",
   "execution_count": 13,
   "id": "f8416615",
   "metadata": {},
   "outputs": [],
   "source": [
    "# --- 3) CLEANING UTILITIES ----------------------------------------------------\n",
    "\n",
    "# stopwords, but keep negations (important for sentiment)\n",
    "EN_STOP = set(stopwords.words(\"english\"))\n",
    "for keep in (\"not\", \"no\", \"nor\"):\n",
    "    EN_STOP.discard(keep)\n",
    "\n",
    "# contraction patterns\n",
    "CONTRACTIONS = [\n",
    "    (r\"n['’]t\\b\", \" not\"),\n",
    "    (r\"['’]re\\b\", \" are\"),\n",
    "    (r\"['’]s\\b\", \"\"),\n",
    "    (r\"['’]ve\\b\", \" have\"),\n",
    "    (r\"['’]ll\\b\", \" will\"),\n",
    "    (r\"['’]d\\b\", \" would\"),\n",
    "    (r\"['’]m\\b\", \" am\"),\n",
    "]\n",
    "def expand_contractions(text: str) -> str:\n",
    "    for pat, repl in CONTRACTIONS:\n",
    "        text = re.sub(pat, repl, text)\n",
    "    return text\n",
    "\n",
    "# regex patterns\n",
    "RE_HTML = re.compile(r\"<[^>]+>\")\n",
    "RE_URL  = re.compile(r\"https?://\\S+|www\\.\\S+\")\n",
    "RE_EMAIL= re.compile(r\"\\b[\\w\\.-]+@[\\w\\.-]+\\.\\w+\\b\")\n",
    "RE_NUM  = re.compile(r\"\\b\\d+\\b\")\n",
    "RE_NON_ALPHA = re.compile(r\"[^a-z\\s]\")\n",
    "\n",
    "# lemmatizer\n",
    "WN_LEMMA = WordNetLemmatizer()\n",
    "def _to_wordnet_pos(tag: str):\n",
    "    if tag.startswith(\"J\"): return ADJ\n",
    "    if tag.startswith(\"V\"): return VERB\n",
    "    if tag.startswith(\"N\"): return NOUN\n",
    "    if tag.startswith(\"R\"): return ADV\n",
    "    return NOUN\n"
   ]
  },
  {
   "cell_type": "code",
   "execution_count": 14,
   "id": "5202a985",
   "metadata": {},
   "outputs": [],
   "source": [
    "# --- 4) CLEAN REVIEW FUNCTION -------------------------------------------------\n",
    "def clean_review(text: str, min_token_len: int = 3) -> str:\n",
    "    \"\"\"\n",
    "    Cleans one review string according to task criteria.\n",
    "    \"\"\"\n",
    "    if not isinstance(text, str):\n",
    "        return \"\"\n",
    "\n",
    "    # 1) lowercase\n",
    "    text = text.lower()\n",
    "\n",
    "    # 2) decode HTML + strip tags\n",
    "    text = html.unescape(text)\n",
    "    text = RE_HTML.sub(\" \", text)\n",
    "\n",
    "    # 3) expand contractions\n",
    "    text = expand_contractions(text)\n",
    "\n",
    "    # 4) remove urls, emails, numbers\n",
    "    text = RE_URL.sub(\" \", text)\n",
    "    text = RE_EMAIL.sub(\" \", text)\n",
    "    text = RE_NUM.sub(\" \", text)\n",
    "\n",
    "    # 5) drop punctuation/emoji (keep a-z + space)\n",
    "    text = RE_NON_ALPHA.sub(\" \", text)\n",
    "\n",
    "    # 6) tokenize\n",
    "    tokens = text.split()\n",
    "    if not tokens:\n",
    "        return \"\"\n",
    "\n",
    "    # 7) remove stopwords (negations kept)\n",
    "    tokens = [t for t in tokens if t not in EN_STOP]\n",
    "    if not tokens:\n",
    "        return \"\"\n",
    "\n",
    "    # 8) POS-tag + lemmatize\n",
    "    tagged = pos_tag(tokens)\n",
    "    lemmas = [WN_LEMMA.lemmatize(w, _to_wordnet_pos(t)) for w, t in tagged]\n",
    "\n",
    "    # 9) filter very short tokens\n",
    "    lemmas = [w for w in lemmas if len(w) >= min_token_len]\n",
    "\n",
    "    return \" \".join(lemmas)\n"
   ]
  },
  {
   "cell_type": "code",
   "execution_count": 15,
   "id": "ea74f00d",
   "metadata": {},
   "outputs": [
    {
     "name": "stderr",
     "output_type": "stream",
     "text": [
      "[nltk_data] Downloading package wordnet to\n",
      "[nltk_data]     C:\\Users\\bbuser\\AppData\\Roaming\\nltk_data...\n",
      "[nltk_data]   Package wordnet is already up-to-date!\n",
      "[nltk_data] Downloading package omw-1.4 to\n",
      "[nltk_data]     C:\\Users\\bbuser\\AppData\\Roaming\\nltk_data...\n",
      "[nltk_data]   Package omw-1.4 is already up-to-date!\n",
      "[nltk_data] Downloading package averaged_perceptron_tagger to\n",
      "[nltk_data]     C:\\Users\\bbuser\\AppData\\Roaming\\nltk_data...\n",
      "[nltk_data]   Package averaged_perceptron_tagger is already up-to-\n",
      "[nltk_data]       date!\n"
     ]
    },
    {
     "data": {
      "text/plain": [
       "True"
      ]
     },
     "execution_count": 15,
     "metadata": {},
     "output_type": "execute_result"
    }
   ],
   "source": [
    "nltk.download(\"wordnet\")\n",
    "nltk.download(\"omw-1.4\")\n",
    "nltk.download(\"averaged_perceptron_tagger\")"
   ]
  },
  {
   "cell_type": "code",
   "execution_count": null,
   "id": "ff34beae",
   "metadata": {},
   "outputs": [
    {
     "name": "stdout",
     "output_type": "stream",
     "text": [
      "Empty cleaned rows: 0\n"
     ]
    },
    {
     "data": {
      "application/vnd.microsoft.datawrangler.viewer.v0+json": {
       "columns": [
        {
         "name": "index",
         "rawType": "int64",
         "type": "integer"
        },
        {
         "name": "txt",
         "rawType": "object",
         "type": "string"
        },
        {
         "name": "cleaned_review",
         "rawType": "object",
         "type": "string"
        }
       ],
       "ref": "0a22982a-b781-42ad-a049-8809044af89c",
       "rows": [
        [
         "0",
         "Jackie Chan's Police Story is a landmark film for both the Honk Kong action genre and the career of Jackie Chan.<br /><br />Directed/written by Chan, Police Story has a basic plot as did all the films of that era and genre, and like most of the the films of Police Storys' kind, the script is nothing to be raved about. But the plot of the film is Jackie Chan, who plays a nice guy cop, struggling to convict the local gang lord.<br /><br />The direction of the film is nothing special and by no means the best directing effort that Jackie Chan has given us, that responsibility falls to the underrated masterpiece \"Miracles\". However the job that Jackie does directing is sufficient and respectable. The standout out directing of the film comes with the fight scenes.<br /><br />The performances in this film also vary with Jackie giving a very solid typical Chan nice guy up against it role, but this is by no means his best acting role, that can been seen in the Sammo Hung directed film \"Heart of the Dragon\". The other actors in the film also give as good a solid performance as Jackie with Bridgete Lin playing her part of the unwilling witness reasonably well, but neither does she display full acting potential. The standout acting comes from Maggie Cheung as Jackies' suffering girlfriend and Bill Tung as the sympathetic and funny police chief. None of the performances in this film is of a low enough standard to affect the quality of the film. <br /><br />The action in the film is what really separates this film from others with stunning contemporary choreography to suit the urbanised, modern setting, the action is some some of the greatest fight scenes ever put on camera. To begin with there is a shootout in the slum where Koo (ganglord) is making a drug deal, whilst being no John Woo style sequence, this serves as a nice starter for the film. This is then followed by the famous car run down the side of the hill and through the heart of the slum wrecking everything in sight. This is a breathtaking sequence that has since been shamelessly copied by Bad Boys 2. In the middle of the film is yet another standout sequence as Jackie tries to transport Bridgete Lin from her house to his. This is really the first scene where we get to see the awesome fast paced hand to hand combat that has since become the norm for all modern set martial art films. This sequence is fantastically choreographed, timed and seamlessly edited together to maximise the brutality of the scene. However, as tradition dictates, the standout fight sequence is at the end of the film. This sequence displays some of Chans' best choreography, stunts and camera/editing work. This sequence is now famous for two things, the amount of people sent through high density glass, which has to be said a phenomenal amount of people, and the stunt at the end where Jackie leaps from a 5th storey balcony, grabs hold of a pole and slides down through a glass roof (this has to be seen to be believed). Whilst the two for-mentioned factors are both uniquely brilliant, i think that the most impressive part of this fight sequence is Chans' ability to incorporate anything into the fight sequence and the sheer originality of the choreography, that for me has never been bettered. I also believe that the action in Police Story is some of the best filmed and edited action of Chans career helping to set the action apart from others.<br /><br />Overall, Police Story, despite its unspectacular storyline and script and over running in the middle due to plot padding, is one of the best action films of all time displaying Chans best choreography, best filmed action and arguably his most spectacular stunt making this essential viewing for everyone. Afterall, we watch a Chan movie for the action!!",
         "jackie chan police story landmark film honk kong action genre career jackie chan direct write chan police story basic plot film era genre like film police storys kind script nothing rave plot film jackie chan play nice guy cop struggle convict local gang lord direction film nothing special mean best direct effort jackie chan give responsibility fall underrated masterpiece miracle however job jackie direct sufficient respectable standout direct film come fight scene performance film also vary jackie give solid typical chan nice guy role mean best act role see sammo hung direct film heart dragon actor film also give good solid performance jackie bridgete lin play part unwilling witness reasonably well neither display full act potential standout act come maggie cheung jackies suffer girlfriend bill tung sympathetic funny police chief none performances film low enough standard affect quality film action film really separate film others stun contemporary choreography suit urbanised modern set action great fight scene ever put camera begin shootout slum koo ganglord make drug deal whilst john woo style sequence serve nice starter film follow famous car run side hill heart slum wreck everything sight breathtaking sequence since shamelessly copy bad boy middle film yet another standout sequence jackie try transport bridgete lin house really first scene get see awesome fast pace hand hand combat since become norm modern set martial art film sequence fantastically choreograph time seamlessly edit together maximise brutality scene however tradition dictate standout fight sequence end film sequence display chans best choreography stunt camera edit work sequence famous two thing amount people send high density glass say phenomenal amount people stunt end jackie leap storey balcony grab hold pole slide glass roof see believe whilst two mention factor uniquely brilliant think impressive part fight sequence chans ability incorporate anything fight sequence sheer originality choreography never better also believe action police story best film edited action chans career help set action apart others overall police story despite unspectacular storyline script run middle due plot pad one best action film time display chans best choreography best film action arguably spectacular stunt make essential view everyone afterall watch chan movie action"
        ],
        [
         "1",
         "\"Kaabee\" depicts the hardship of a woman in pre and during WWII, raising her kids alone after her husband imprisoned for \"thought crime\". This movie was directed by Yamada Youji, and as expected the atmosphere of this movie is really wonderful. Although the historical correctness of some scenes, most notably the beach scene, is a suspect.<br /><br />The acting in this movie is absolutely incredible. I am baffled at how they managed to gather this all-star cast for a 2008 film. Yoshinaga Sayuri, possibly the most decorated still-active actress in Japan, will undoubtedly win more individual awards for her performance in this film. Shoufukutei Tsurube in a supporting role was really nice as well. It was Asano Tadanobu though, who delivered the most impressive performance, perfectly portraying the wittiness of his character and the difficult situation he was in.<br /><br />Films with pre-war setting is not my thing, but thanks to wonderful directing and acting, I was totally absorbed by the story. Also, it wasn't a far-left nonsense like \"Yuunagi no Machi, Sakura no Kuni\", and examines the controversial and sensitive issue of government oppression and brainwashing that occurred in that period in Japan. Excellent film, highly recommended for all viewers.",
         "kaabee depicts hardship woman pre wwii raise kid alone husband imprison thought crime movie direct yamada youji expect atmosphere movie really wonderful although historical correctness scene notably beach scene suspect act movie absolutely incredible baffle manage gather star cast film yoshinaga sayuri possibly decorate still active actress japan undoubtedly win individual award performance film shoufukutei tsurube support role really nice well asano tadanobu though delivered impressive performance perfectly portray wittiness character difficult situation film pre war set not thing thanks wonderful direct act totally absorbed story also not far left nonsense like yuunagi machi sakura kuni examines controversial sensitive issue government oppression brainwashing occur period japan excellent film highly recommend viewer"
        ],
        [
         "2",
         "In order to stop her homosexual friend Albert (Perry King) from being deported back to Belgium, Stella (Meg Foster) decides to marry him. The only other problem with that is that Stella herself is a lesbian. The two have their separate lives when one night after Albert's birthday party, they fall into bed and then into love. Later in the film after falling in love, Stella suspects Albert of cheating and shows up at his job one night late after closing. What she finds will leave the viewer stunned. This is a great film, very original. Perry King and Meg Foster are so good in their roles that it is amazing that they were not better recognized for their work here. Very controversial upon its release in 1978, the \"R\" rated film is now \"PG\" in this much more liberal time.<br /><br />Recently released on DVD, the disc contains a \"Making Of\" segment on the special features and in it it's stated that the film was based on an actual story so the viewers who say the film is not \"real\" are mistaken. Everyone is an individual and different people fall in love for different reasons-these are the issues explored in this wonderful film for everyone who has ever loved!",
         "order stop homosexual friend albert perry king deport back belgium stella meg foster decide marry problem stella lesbian two separate life one night albert birthday party fall bed love later film fall love stella suspect albert cheat show job one night late closing find leave viewer stun great film original perry king meg foster good role amaze not well recognize work controversial upon release rat film much liberal time recently release dvd disc contain make segment special feature state film base actual story viewer say film not real mistaken everyone individual different people fall love different reason issue explore wonderful film everyone ever love"
        ],
        [
         "3",
         "Having read the reviews for this film, I understandably started watching it with a great deal of doubt in my mind that it would actually be any good. However, this is one of the best films i have seen in a long time. The majority of reviews that i had read, said that the complicated plot made it too hard to follow. And whilst some parts do leave you confused, the ending ties up so many loose ends that you feel like kicking yourself because you've missed so much. It's not like \"Lock, Stock...\" or \"Snatch\", in the sense that it isn't that funny (in fact, it's pretty dark), and it is a lot more intelligent, in the way that you see parts of scenes from different viewpoints (and, in one of the best scenes of the film, Jason Statham spends five minutes in a lift having an argument with himself). The way in which it is similar to the two films i just mentioned, is that it is full of memorable characters, specifically Statham, who gives a fantastic performance as the lead, and Ray Liotta, who spends most of the film in Speedos, but gives a great performance none the less. If you've got time, and have time afterwards to think about the film, and even watch it again, you really start to see all the symbolism and hints that are laid out through the film. I think it's fantastic, and that Guy Ritchie is a director on top of his game.",
         "read review film understandably start watch great deal doubt mind would actually good however one best film see long time majority review read say complicate plot make hard follow whilst part leave confuse end tie many loose end feel like kick miss much not like lock stock snatch sense not funny fact pretty dark lot intelligent way see part scenes different viewpoint one best scene film jason statham spend five minute lift argument way similar two film mention full memorable character specifically statham give fantastic performance lead ray liotta spend film speedos give great performance none less get time time afterwards think film even watch really start see symbolism hint lay film think fantastic guy ritchie director top game"
        ],
        [
         "4",
         "The plot:Kurt Harris (Jeff Wincott), a bitter, ex-cop goes undercover in the \"Peacemakers\" after his friend is killed by their leader. While there, he discovers that the woman wants to run for mayor, and will do anything to achieve this goal, even murder.The cast is good(Jeff Wincott is a good martial artist and good actor)...Brigitte Nielsen plays a sexy antagonist together another bad guy plays Matthias Hues also him good martial artist.The direction is good(the fight scenes also).The rest is OK, with Tony Burton who plays a friend of Kurt killed from Nilsen,and Cyndi Pass plays a bad girl.From producers of another action/martial arts film(Bounty Tracker with Lorenzo Lamas)a good action film.The best film of Martial Law series.",
         "plot kurt harris jeff wincott bitter cop undercover peacemaker friend kill leader discovers woman want run mayor anything achieve goal even murder cast good jeff wincott good martial artist good actor brigitte nielsen play sexy antagonist together another bad guy play matthias hue also good martial artist direction good fight scene also rest tony burton play friend kurt kill nilsen cyndi pas play bad girl producer another action martial art film bounty tracker lorenzo lamas good action film best film martial law series"
        ]
       ],
       "shape": {
        "columns": 2,
        "rows": 5
       }
      },
      "text/html": [
       "<div>\n",
       "<style scoped>\n",
       "    .dataframe tbody tr th:only-of-type {\n",
       "        vertical-align: middle;\n",
       "    }\n",
       "\n",
       "    .dataframe tbody tr th {\n",
       "        vertical-align: top;\n",
       "    }\n",
       "\n",
       "    .dataframe thead th {\n",
       "        text-align: right;\n",
       "    }\n",
       "</style>\n",
       "<table border=\"1\" class=\"dataframe\">\n",
       "  <thead>\n",
       "    <tr style=\"text-align: right;\">\n",
       "      <th></th>\n",
       "      <th>txt</th>\n",
       "      <th>cleaned_review</th>\n",
       "    </tr>\n",
       "  </thead>\n",
       "  <tbody>\n",
       "    <tr>\n",
       "      <th>0</th>\n",
       "      <td>Jackie Chan's Police Story is a landmark film ...</td>\n",
       "      <td>jackie chan police story landmark film honk ko...</td>\n",
       "    </tr>\n",
       "    <tr>\n",
       "      <th>1</th>\n",
       "      <td>\"Kaabee\" depicts the hardship of a woman in pr...</td>\n",
       "      <td>kaabee depicts hardship woman pre wwii raise k...</td>\n",
       "    </tr>\n",
       "    <tr>\n",
       "      <th>2</th>\n",
       "      <td>In order to stop her homosexual friend Albert ...</td>\n",
       "      <td>order stop homosexual friend albert perry king...</td>\n",
       "    </tr>\n",
       "    <tr>\n",
       "      <th>3</th>\n",
       "      <td>Having read the reviews for this film, I under...</td>\n",
       "      <td>read review film understandably start watch gr...</td>\n",
       "    </tr>\n",
       "    <tr>\n",
       "      <th>4</th>\n",
       "      <td>The plot:Kurt Harris (Jeff Wincott), a bitter,...</td>\n",
       "      <td>plot kurt harris jeff wincott bitter cop under...</td>\n",
       "    </tr>\n",
       "  </tbody>\n",
       "</table>\n",
       "</div>"
      ],
      "text/plain": [
       "                                                 txt  \\\n",
       "0  Jackie Chan's Police Story is a landmark film ...   \n",
       "1  \"Kaabee\" depicts the hardship of a woman in pr...   \n",
       "2  In order to stop her homosexual friend Albert ...   \n",
       "3  Having read the reviews for this film, I under...   \n",
       "4  The plot:Kurt Harris (Jeff Wincott), a bitter,...   \n",
       "\n",
       "                                      cleaned_review  \n",
       "0  jackie chan police story landmark film honk ko...  \n",
       "1  kaabee depicts hardship woman pre wwii raise k...  \n",
       "2  order stop homosexual friend albert perry king...  \n",
       "3  read review film understandably start watch gr...  \n",
       "4  plot kurt harris jeff wincott bitter cop under...  "
      ]
     },
     "execution_count": 16,
     "metadata": {},
     "output_type": "execute_result"
    }
   ],
   "source": [
    "# --- 5) APPLY CLEANING --------------------------------------------------------\n",
    "df_subset[\"cleaned_review\"] = df_subset[\"txt\"].apply(clean_review)\n",
    "\n",
    "# check if any empty outputs\n",
    "print(\"Empty cleaned rows:\", (df_subset[\"cleaned_review\"].str.len() == 0).sum())\n",
    "df_subset[[\"txt\", \"cleaned_review\"]].head()"
   ]
  },
  {
   "cell_type": "markdown",
   "id": "60ecf47a",
   "metadata": {},
   "source": [
    "#### Apply Cleaning"
   ]
  },
  {
   "cell_type": "code",
   "execution_count": 20,
   "id": "809b54dc",
   "metadata": {},
   "outputs": [
    {
     "name": "stdout",
     "output_type": "stream",
     "text": [
      "\n",
      "--- EXAMPLE 1 ---\n",
      "RAW:     I picked this one up because the music was done by Hans Zimmer, a customer of Metasonix modular synths (made by someone dear to me). The jacket art says \"the 2003 version\".<br /><br />I give it one point for a strong female, one point for cheezy dialog and one last point for meg foster's light blue eyes, of which there are plenty of shots of.<br /><br />It was fun seeing David MacCullum casually swimming (the pool has a plexiglass viewing window!), while his lady love was being chased by a psych\n",
      "CLEANED: pick one music han zimmer customer metasonix modular synths make someone dear jacket art say version give one point strong female one point cheezy dialog one last point meg foster light blue eye plenty shot fun see david maccullum casually swim pool plexiglas view window lady love chase psycho greece set marginally impressive rich people house mendanassos castle find wonder able keep cleaning dust blow around wind not fierce enough believable keep think animal pelt furniture must nasty etc realize film must pretty bore wonder thing suppose plot unfold stumble thing like light fire blow match throw match fire dumb stuff like clunky best well robert morely got bit fun kooky geezer character nice vacation\n",
      "\n",
      "--- EXAMPLE 2 ---\n",
      "RAW:     The early to mid 90s were a high point, in my opinion, for the historical drama. Last of the Mohicans, Braveheart, Rob Roy - all portrayed a distinctive passion and intensity in their respective time periods.<br /><br />Rob Roy was a unique and intriguing taste of a time and place rarely represented by film. It really has everything - interesting story, great acting, remarkable dialog, and breathtaking scenery. I was particularly impressed by the apparently genuine dialog. I can imagine this is \n",
      "CLEANED: early mid high point opinion historical drama last mohican braveheart rob roy portrayed distinctive passion intensity respective time period rob roy unique intrigue taste time place rarely represent film really everything interesting story great act remarkable dialog breathtaking scenery particularly impress apparently genuine dialog imagine early century people speak behave something else surprised vulgarity express character find repulsive shocking albeit often subtle find film set modern time movie racy sexually charge edge unique likely realistic context era pace tight hardly dull moment much intrigue political subplots complicate thing bit yet not detract main storyline action also well grip something forever find remarkable highlight action piece film soundtrack whatsoever make tense excite sequence since musical cue direction resolution scene rob roy always remain high list favorite film would recommend\n",
      "\n",
      "--- EXAMPLE 3 ---\n",
      "RAW:     The anime that got me hooked on anime...<br /><br />Set in the year 2010 (hey, that's not too far away now!) the Earth is now poison gas wasteland of pollution and violence. Seeing as how crimes are happening ever 30 seconds are so and committed by thieves who have the fire power of third world terrorists, the government of the fictional New Port City form the Tank Police to deal with the problem - cops with tanks! Oh the insanity!<br /><br />The \"heroes\" of this series include the new recruit L\n",
      "CLEANED: anime get hooked anime set year hey not far away earth poison gas wasteland pollution violence see crime happen ever second committed thief fire power third world terrorists government fictional new port city form tank police deal problem cop tank insanity hero series include new recruit leona ozaki red haired japanese woman yeah know never match distinctly japanese name japanese appearance draft tank police quickly partner blond blue eye nice guy leona new use tank unfortunately destroy favorite tank tank police commander charles britain also know brenten big guy look like tom selleck steroid sport pair nifty sunglasses big revolver bad temper britain not like leona join tank police first place wreck tiger special giant green monster tank not exactly endear nor fond take remains giant tank use build mini tank nicknames bonaparte soon push transfer child welfare boys size put also specs bifocal genius bible quote god fear chaplain purple hawk mohican pot belly chief right edge thanks mayor always yell tank police antic see tank cop often destroy half city chase bad guy use extreme violence capture not well liked people villain cyborg name buaku get mysterious past connect project know green peace gang two sexy cat cyborg sidekick anna uni puma first installment guy pay steal urine sample hospital treat people not infect poison gas cloud hire steal painting naked buaku story however uncompleted anime finish cult comic manga book hard find sort chaos mayhem ensue black comic venture examine far people want police order catch criminal happen fine line good guy bad guy start get blur kind thing make movie would better get quentin tarantino uneven place still lot fun follow new dominion tank police\n",
      "\n",
      "--- EXAMPLE 4 ---\n",
      "RAW:     I have to say that this miniseries was the best interpretation of the beloved novel \"Jane Eyre\". Both Dalton and Clarke are very believable as Rochester and Jane. I've seen other versions, but none compare to this one. The best one for me. I could never imagine anyone else playing these characters ever again. The last time I saw this one was in 1984 when I was only 13. At that time, I was a bookworm and I had just read Charlotte Bronte's novel. I was completely enchanted by this miniseries and I\n",
      "CLEANED: say miniseries best interpretation beloved novel jane eyre dalton clarke believable rochester jane see version none compare one best one could never imagine anyone else play character ever last time saw one time bookworm read charlotte bronte novel completely enchant miniseries remember not miss episode would like see good\n",
      "\n",
      "--- EXAMPLE 5 ---\n",
      "RAW:     Masayuki Suo, who directed this fine film, is on a role. After the decent \"Fancy Dance\" and the classic (in Japan, anyway) college-sumo comedy \"Shiko Funjatta\", Suo has followed his own huge footsteps with a smashing success.<br /><br />The story is engaging. We both laugh often (Naoto Takenaka is hilarious, as he is in Suo's two previous films) and really root for the characters. But to me the big bonus is the look this movie gives the viewer into Japanese society - real life in Japan. Suo has \n",
      "CLEANED: masayuki suo direct fine film role decent fancy dance classic japan anyway college sumo comedy shiko funjatta suo follow huge footstep smash success story engage laugh often naoto takenaka hilarious suo two previous film really root character big bonus look movie give viewer japanese society real life japan suo knack show real life activity entertain flair result movie pull make laugh make think entertain give insight today japan also look main actor shiko funjatta appear various role support character takenaka short cameo many\n"
     ]
    }
   ],
   "source": [
    "# --- 6) BEFORE / AFTER EXAMPLES ----------------------------------------------\n",
    "RANDOM_STATE = 42   # you can pick any integer\n",
    "\n",
    "examples = df_subset.sample(5, random_state=RANDOM_STATE)[[\"txt\", \"cleaned_review\"]]\n",
    "for i, row in examples.reset_index(drop=True).iterrows():\n",
    "    print(f\"\\n--- EXAMPLE {i+1} ---\")\n",
    "    print(\"RAW:    \", row[\"txt\"][:500].replace(\"\\n\",\" \"))\n",
    "    print(\"CLEANED:\", row[\"cleaned_review\"])"
   ]
  },
  {
   "cell_type": "code",
   "execution_count": 21,
   "id": "7f08348c",
   "metadata": {},
   "outputs": [
    {
     "name": "stdout",
     "output_type": "stream",
     "text": [
      "Saved to C:\\Users\\bbuser\\Desktop\\DataScience-Brain-Bytes-1\\Team_members\\from_arwa\\data\\cleaned_reviews.csv\n"
     ]
    }
   ],
   "source": [
    "# --- 7) SAVE CLEANED DATASET --------------------------------------------------\n",
    "OUT_PATH = Path(\"C:/Users/bbuser/Desktop/DataScience-Brain-Bytes-1/Team_members/from_arwa/data/cleaned_reviews.csv\")\n",
    "cols = [\"id\", \"rating\", \"label\", \"txt\", \"cleaned_review\"]\n",
    "df_subset[cols].to_csv(OUT_PATH, index=False, encoding=\"utf-8\")\n",
    "print(f\"Saved to {OUT_PATH.resolve()}\")"
   ]
  },
  {
   "cell_type": "code",
   "execution_count": 24,
   "id": "7fa53a36",
   "metadata": {},
   "outputs": [],
   "source": [
    "cleaned_reviews = pd.read_csv(r\"C:\\Users\\bbuser\\Desktop\\DataScience-Brain-Bytes-1\\Team_members\\from_arwa\\data\\cleaned_reviews.csv\")"
   ]
  },
  {
   "cell_type": "code",
   "execution_count": 25,
   "id": "f5cef76b",
   "metadata": {},
   "outputs": [
    {
     "data": {
      "application/vnd.microsoft.datawrangler.viewer.v0+json": {
       "columns": [
        {
         "name": "index",
         "rawType": "int64",
         "type": "integer"
        },
        {
         "name": "id",
         "rawType": "int64",
         "type": "integer"
        },
        {
         "name": "rating",
         "rawType": "int64",
         "type": "integer"
        },
        {
         "name": "label",
         "rawType": "int64",
         "type": "integer"
        },
        {
         "name": "txt",
         "rawType": "object",
         "type": "string"
        },
        {
         "name": "cleaned_review",
         "rawType": "object",
         "type": "string"
        }
       ],
       "ref": "e5d7c16b-6ab3-48f9-803f-175d63e51080",
       "rows": [
        [
         "0",
         "4592",
         "9",
         "1",
         "Jackie Chan's Police Story is a landmark film for both the Honk Kong action genre and the career of Jackie Chan.<br /><br />Directed/written by Chan, Police Story has a basic plot as did all the films of that era and genre, and like most of the the films of Police Storys' kind, the script is nothing to be raved about. But the plot of the film is Jackie Chan, who plays a nice guy cop, struggling to convict the local gang lord.<br /><br />The direction of the film is nothing special and by no means the best directing effort that Jackie Chan has given us, that responsibility falls to the underrated masterpiece \"Miracles\". However the job that Jackie does directing is sufficient and respectable. The standout out directing of the film comes with the fight scenes.<br /><br />The performances in this film also vary with Jackie giving a very solid typical Chan nice guy up against it role, but this is by no means his best acting role, that can been seen in the Sammo Hung directed film \"Heart of the Dragon\". The other actors in the film also give as good a solid performance as Jackie with Bridgete Lin playing her part of the unwilling witness reasonably well, but neither does she display full acting potential. The standout acting comes from Maggie Cheung as Jackies' suffering girlfriend and Bill Tung as the sympathetic and funny police chief. None of the performances in this film is of a low enough standard to affect the quality of the film. <br /><br />The action in the film is what really separates this film from others with stunning contemporary choreography to suit the urbanised, modern setting, the action is some some of the greatest fight scenes ever put on camera. To begin with there is a shootout in the slum where Koo (ganglord) is making a drug deal, whilst being no John Woo style sequence, this serves as a nice starter for the film. This is then followed by the famous car run down the side of the hill and through the heart of the slum wrecking everything in sight. This is a breathtaking sequence that has since been shamelessly copied by Bad Boys 2. In the middle of the film is yet another standout sequence as Jackie tries to transport Bridgete Lin from her house to his. This is really the first scene where we get to see the awesome fast paced hand to hand combat that has since become the norm for all modern set martial art films. This sequence is fantastically choreographed, timed and seamlessly edited together to maximise the brutality of the scene. However, as tradition dictates, the standout fight sequence is at the end of the film. This sequence displays some of Chans' best choreography, stunts and camera/editing work. This sequence is now famous for two things, the amount of people sent through high density glass, which has to be said a phenomenal amount of people, and the stunt at the end where Jackie leaps from a 5th storey balcony, grabs hold of a pole and slides down through a glass roof (this has to be seen to be believed). Whilst the two for-mentioned factors are both uniquely brilliant, i think that the most impressive part of this fight sequence is Chans' ability to incorporate anything into the fight sequence and the sheer originality of the choreography, that for me has never been bettered. I also believe that the action in Police Story is some of the best filmed and edited action of Chans career helping to set the action apart from others.<br /><br />Overall, Police Story, despite its unspectacular storyline and script and over running in the middle due to plot padding, is one of the best action films of all time displaying Chans best choreography, best filmed action and arguably his most spectacular stunt making this essential viewing for everyone. Afterall, we watch a Chan movie for the action!!",
         "jackie chan police story landmark film honk kong action genre career jackie chan direct write chan police story basic plot film era genre like film police storys kind script nothing rave plot film jackie chan play nice guy cop struggle convict local gang lord direction film nothing special mean best direct effort jackie chan give responsibility fall underrated masterpiece miracle however job jackie direct sufficient respectable standout direct film come fight scene performance film also vary jackie give solid typical chan nice guy role mean best act role see sammo hung direct film heart dragon actor film also give good solid performance jackie bridgete lin play part unwilling witness reasonably well neither display full act potential standout act come maggie cheung jackies suffer girlfriend bill tung sympathetic funny police chief none performances film low enough standard affect quality film action film really separate film others stun contemporary choreography suit urbanised modern set action great fight scene ever put camera begin shootout slum koo ganglord make drug deal whilst john woo style sequence serve nice starter film follow famous car run side hill heart slum wreck everything sight breathtaking sequence since shamelessly copy bad boy middle film yet another standout sequence jackie try transport bridgete lin house really first scene get see awesome fast pace hand hand combat since become norm modern set martial art film sequence fantastically choreograph time seamlessly edit together maximise brutality scene however tradition dictate standout fight sequence end film sequence display chans best choreography stunt camera edit work sequence famous two thing amount people send high density glass say phenomenal amount people stunt end jackie leap storey balcony grab hold pole slide glass roof see believe whilst two mention factor uniquely brilliant think impressive part fight sequence chans ability incorporate anything fight sequence sheer originality choreography never better also believe action police story best film edited action chans career help set action apart others overall police story despite unspectacular storyline script run middle due plot pad one best action film time display chans best choreography best film action arguably spectacular stunt make essential view everyone afterall watch chan movie action"
        ],
        [
         "1",
         "4881",
         "9",
         "1",
         "\"Kaabee\" depicts the hardship of a woman in pre and during WWII, raising her kids alone after her husband imprisoned for \"thought crime\". This movie was directed by Yamada Youji, and as expected the atmosphere of this movie is really wonderful. Although the historical correctness of some scenes, most notably the beach scene, is a suspect.<br /><br />The acting in this movie is absolutely incredible. I am baffled at how they managed to gather this all-star cast for a 2008 film. Yoshinaga Sayuri, possibly the most decorated still-active actress in Japan, will undoubtedly win more individual awards for her performance in this film. Shoufukutei Tsurube in a supporting role was really nice as well. It was Asano Tadanobu though, who delivered the most impressive performance, perfectly portraying the wittiness of his character and the difficult situation he was in.<br /><br />Films with pre-war setting is not my thing, but thanks to wonderful directing and acting, I was totally absorbed by the story. Also, it wasn't a far-left nonsense like \"Yuunagi no Machi, Sakura no Kuni\", and examines the controversial and sensitive issue of government oppression and brainwashing that occurred in that period in Japan. Excellent film, highly recommended for all viewers.",
         "kaabee depicts hardship woman pre wwii raise kid alone husband imprison thought crime movie direct yamada youji expect atmosphere movie really wonderful although historical correctness scene notably beach scene suspect act movie absolutely incredible baffle manage gather star cast film yoshinaga sayuri possibly decorate still active actress japan undoubtedly win individual award performance film shoufukutei tsurube support role really nice well asano tadanobu though delivered impressive performance perfectly portray wittiness character difficult situation film pre war set not thing thanks wonderful direct act totally absorbed story also not far left nonsense like yuunagi machi sakura kuni examines controversial sensitive issue government oppression brainwashing occur period japan excellent film highly recommend viewer"
        ],
        [
         "2",
         "10634",
         "10",
         "1",
         "In order to stop her homosexual friend Albert (Perry King) from being deported back to Belgium, Stella (Meg Foster) decides to marry him. The only other problem with that is that Stella herself is a lesbian. The two have their separate lives when one night after Albert's birthday party, they fall into bed and then into love. Later in the film after falling in love, Stella suspects Albert of cheating and shows up at his job one night late after closing. What she finds will leave the viewer stunned. This is a great film, very original. Perry King and Meg Foster are so good in their roles that it is amazing that they were not better recognized for their work here. Very controversial upon its release in 1978, the \"R\" rated film is now \"PG\" in this much more liberal time.<br /><br />Recently released on DVD, the disc contains a \"Making Of\" segment on the special features and in it it's stated that the film was based on an actual story so the viewers who say the film is not \"real\" are mistaken. Everyone is an individual and different people fall in love for different reasons-these are the issues explored in this wonderful film for everyone who has ever loved!",
         "order stop homosexual friend albert perry king deport back belgium stella meg foster decide marry problem stella lesbian two separate life one night albert birthday party fall bed love later film fall love stella suspect albert cheat show job one night late closing find leave viewer stun great film original perry king meg foster good role amaze not well recognize work controversial upon release rat film much liberal time recently release dvd disc contain make segment special feature state film base actual story viewer say film not real mistaken everyone individual different people fall love different reason issue explore wonderful film everyone ever love"
        ],
        [
         "3",
         "11075",
         "10",
         "1",
         "Having read the reviews for this film, I understandably started watching it with a great deal of doubt in my mind that it would actually be any good. However, this is one of the best films i have seen in a long time. The majority of reviews that i had read, said that the complicated plot made it too hard to follow. And whilst some parts do leave you confused, the ending ties up so many loose ends that you feel like kicking yourself because you've missed so much. It's not like \"Lock, Stock...\" or \"Snatch\", in the sense that it isn't that funny (in fact, it's pretty dark), and it is a lot more intelligent, in the way that you see parts of scenes from different viewpoints (and, in one of the best scenes of the film, Jason Statham spends five minutes in a lift having an argument with himself). The way in which it is similar to the two films i just mentioned, is that it is full of memorable characters, specifically Statham, who gives a fantastic performance as the lead, and Ray Liotta, who spends most of the film in Speedos, but gives a great performance none the less. If you've got time, and have time afterwards to think about the film, and even watch it again, you really start to see all the symbolism and hints that are laid out through the film. I think it's fantastic, and that Guy Ritchie is a director on top of his game.",
         "read review film understandably start watch great deal doubt mind would actually good however one best film see long time majority review read say complicate plot make hard follow whilst part leave confuse end tie many loose end feel like kick miss much not like lock stock snatch sense not funny fact pretty dark lot intelligent way see part scenes different viewpoint one best scene film jason statham spend five minute lift argument way similar two film mention full memorable character specifically statham give fantastic performance lead ray liotta spend film speedos give great performance none less get time time afterwards think film even watch really start see symbolism hint lay film think fantastic guy ritchie director top game"
        ],
        [
         "4",
         "2368",
         "8",
         "1",
         "The plot:Kurt Harris (Jeff Wincott), a bitter, ex-cop goes undercover in the \"Peacemakers\" after his friend is killed by their leader. While there, he discovers that the woman wants to run for mayor, and will do anything to achieve this goal, even murder.The cast is good(Jeff Wincott is a good martial artist and good actor)...Brigitte Nielsen plays a sexy antagonist together another bad guy plays Matthias Hues also him good martial artist.The direction is good(the fight scenes also).The rest is OK, with Tony Burton who plays a friend of Kurt killed from Nilsen,and Cyndi Pass plays a bad girl.From producers of another action/martial arts film(Bounty Tracker with Lorenzo Lamas)a good action film.The best film of Martial Law series.",
         "plot kurt harris jeff wincott bitter cop undercover peacemaker friend kill leader discovers woman want run mayor anything achieve goal even murder cast good jeff wincott good martial artist good actor brigitte nielsen play sexy antagonist together another bad guy play matthias hue also good martial artist direction good fight scene also rest tony burton play friend kurt kill nilsen cyndi pas play bad girl producer another action martial art film bounty tracker lorenzo lamas good action film best film martial law series"
        ]
       ],
       "shape": {
        "columns": 5,
        "rows": 5
       }
      },
      "text/html": [
       "<div>\n",
       "<style scoped>\n",
       "    .dataframe tbody tr th:only-of-type {\n",
       "        vertical-align: middle;\n",
       "    }\n",
       "\n",
       "    .dataframe tbody tr th {\n",
       "        vertical-align: top;\n",
       "    }\n",
       "\n",
       "    .dataframe thead th {\n",
       "        text-align: right;\n",
       "    }\n",
       "</style>\n",
       "<table border=\"1\" class=\"dataframe\">\n",
       "  <thead>\n",
       "    <tr style=\"text-align: right;\">\n",
       "      <th></th>\n",
       "      <th>id</th>\n",
       "      <th>rating</th>\n",
       "      <th>label</th>\n",
       "      <th>txt</th>\n",
       "      <th>cleaned_review</th>\n",
       "    </tr>\n",
       "  </thead>\n",
       "  <tbody>\n",
       "    <tr>\n",
       "      <th>0</th>\n",
       "      <td>4592</td>\n",
       "      <td>9</td>\n",
       "      <td>1</td>\n",
       "      <td>Jackie Chan's Police Story is a landmark film ...</td>\n",
       "      <td>jackie chan police story landmark film honk ko...</td>\n",
       "    </tr>\n",
       "    <tr>\n",
       "      <th>1</th>\n",
       "      <td>4881</td>\n",
       "      <td>9</td>\n",
       "      <td>1</td>\n",
       "      <td>\"Kaabee\" depicts the hardship of a woman in pr...</td>\n",
       "      <td>kaabee depicts hardship woman pre wwii raise k...</td>\n",
       "    </tr>\n",
       "    <tr>\n",
       "      <th>2</th>\n",
       "      <td>10634</td>\n",
       "      <td>10</td>\n",
       "      <td>1</td>\n",
       "      <td>In order to stop her homosexual friend Albert ...</td>\n",
       "      <td>order stop homosexual friend albert perry king...</td>\n",
       "    </tr>\n",
       "    <tr>\n",
       "      <th>3</th>\n",
       "      <td>11075</td>\n",
       "      <td>10</td>\n",
       "      <td>1</td>\n",
       "      <td>Having read the reviews for this film, I under...</td>\n",
       "      <td>read review film understandably start watch gr...</td>\n",
       "    </tr>\n",
       "    <tr>\n",
       "      <th>4</th>\n",
       "      <td>2368</td>\n",
       "      <td>8</td>\n",
       "      <td>1</td>\n",
       "      <td>The plot:Kurt Harris (Jeff Wincott), a bitter,...</td>\n",
       "      <td>plot kurt harris jeff wincott bitter cop under...</td>\n",
       "    </tr>\n",
       "  </tbody>\n",
       "</table>\n",
       "</div>"
      ],
      "text/plain": [
       "      id  rating  label                                                txt  \\\n",
       "0   4592       9      1  Jackie Chan's Police Story is a landmark film ...   \n",
       "1   4881       9      1  \"Kaabee\" depicts the hardship of a woman in pr...   \n",
       "2  10634      10      1  In order to stop her homosexual friend Albert ...   \n",
       "3  11075      10      1  Having read the reviews for this film, I under...   \n",
       "4   2368       8      1  The plot:Kurt Harris (Jeff Wincott), a bitter,...   \n",
       "\n",
       "                                      cleaned_review  \n",
       "0  jackie chan police story landmark film honk ko...  \n",
       "1  kaabee depicts hardship woman pre wwii raise k...  \n",
       "2  order stop homosexual friend albert perry king...  \n",
       "3  read review film understandably start watch gr...  \n",
       "4  plot kurt harris jeff wincott bitter cop under...  "
      ]
     },
     "execution_count": 25,
     "metadata": {},
     "output_type": "execute_result"
    }
   ],
   "source": [
    "cleaned_reviews.head()"
   ]
  },
  {
   "cell_type": "markdown",
   "id": "78824d48",
   "metadata": {},
   "source": [
    "#### Evaluation"
   ]
  },
  {
   "cell_type": "code",
   "execution_count": 26,
   "id": "834c6d2e",
   "metadata": {},
   "outputs": [
    {
     "name": "stdout",
     "output_type": "stream",
     "text": [
      "Raw: I LOVED this movie!! <br /><br /> It was amazing :) 10/10\n",
      "Cleaned: love movie amaze\n"
     ]
    }
   ],
   "source": [
    "# --- 8) TASK EXAMPLE CHECK ----------------------------------------------------\n",
    "sample_text = 'I LOVED this movie!! <br /><br /> It was amazing :) 10/10'\n",
    "print(\"Raw:\", sample_text)\n",
    "print(\"Cleaned:\", clean_review(sample_text))"
   ]
  },
  {
   "cell_type": "markdown",
   "id": "e2f346cb",
   "metadata": {},
   "source": [
    "#### Baseline Classifier (TF-IDF + Logistic Regression)"
   ]
  },
  {
   "cell_type": "code",
   "execution_count": 27,
   "id": "62d06cb3",
   "metadata": {},
   "outputs": [
    {
     "name": "stdout",
     "output_type": "stream",
     "text": [
      "Accuracy: 0.872\n",
      "\n",
      "Classification report:\n",
      "               precision    recall  f1-score   support\n",
      "\n",
      "           0      0.891     0.848     0.869      1000\n",
      "           1      0.855     0.896     0.875      1000\n",
      "\n",
      "    accuracy                          0.872      2000\n",
      "   macro avg      0.873     0.872     0.872      2000\n",
      "weighted avg      0.873     0.872     0.872      2000\n",
      "\n",
      "\n",
      "Confusion matrix:\n",
      " [[848 152]\n",
      " [104 896]]\n"
     ]
    }
   ],
   "source": [
    "# --- 9) OPTIONAL: BASELINE MODEL ---------------------------------------------\n",
    "from sklearn.model_selection import train_test_split\n",
    "from sklearn.feature_extraction.text import TfidfVectorizer\n",
    "from sklearn.linear_model import LogisticRegression\n",
    "from sklearn.metrics import classification_report, accuracy_score, confusion_matrix\n",
    "\n",
    "# Features (X) and target (y)\n",
    "X = df_subset[\"cleaned_review\"].values\n",
    "y = df_subset[\"label\"].values  # 1 = positive, 0 = negative\n",
    "\n",
    "# Stratified split: keep class balance in both splits\n",
    "X_train, X_test, y_train, y_test = train_test_split(\n",
    "    X, y,\n",
    "    test_size=0.2,\n",
    "    random_state=42,\n",
    "    stratify=y\n",
    ")\n",
    "\n",
    "# Text -> features: TF-IDF with uni+bi-grams, light pruning\n",
    "tfidf = TfidfVectorizer(\n",
    "    ngram_range=(1, 2),   # unigrams + bigrams capture short phrases/negations\n",
    "    min_df=3,             # ignore very rare terms\n",
    "    max_df=0.9            # drop extremely frequent boilerplate\n",
    ")\n",
    "\n",
    "Xtr = tfidf.fit_transform(X_train)\n",
    "Xte = tfidf.transform(X_test)\n",
    "\n",
    "# Linear model baseline\n",
    "clf = LogisticRegression(\n",
    "    max_iter=1000,        # allow convergence\n",
    "    n_jobs=None,          # (param ignored for some solvers; fine to leave)\n",
    "    C=1.0                 # regularization strength (can tune)\n",
    ")\n",
    "clf.fit(Xtr, y_train)\n",
    "\n",
    "# Evaluation\n",
    "pred = clf.predict(Xte)\n",
    "acc = accuracy_score(y_test, pred)\n",
    "print(\"Accuracy:\", round(acc, 4))\n",
    "print(\"\\nClassification report:\\n\", classification_report(y_test, pred, digits=3))\n",
    "\n",
    "cm = confusion_matrix(y_test, pred)\n",
    "print(\"\\nConfusion matrix:\\n\", cm)\n"
   ]
  },
  {
   "cell_type": "code",
   "execution_count": 31,
   "id": "62a6907f",
   "metadata": {},
   "outputs": [
    {
     "name": "stdout",
     "output_type": "stream",
     "text": [
      "love movie well others not impressed\n"
     ]
    }
   ],
   "source": [
    "test = \"I LOVED movies that were better than others, but I wasn't impressed.\"\n",
    "print(clean_review(test))"
   ]
  },
  {
   "cell_type": "markdown",
   "id": "bd272c87",
   "metadata": {},
   "source": [
    "trying to find a way to up the accuracy and BERT came up, will test it below. however i need to change my env to make sure python -v matches pytorch"
   ]
  },
  {
   "cell_type": "code",
   "execution_count": 29,
   "id": "492ea775",
   "metadata": {},
   "outputs": [
    {
     "ename": "ModuleNotFoundError",
     "evalue": "No module named 'torch'",
     "output_type": "error",
     "traceback": [
      "\u001b[31m---------------------------------------------------------------------------\u001b[39m",
      "\u001b[31mModuleNotFoundError\u001b[39m                       Traceback (most recent call last)",
      "\u001b[36mCell\u001b[39m\u001b[36m \u001b[39m\u001b[32mIn[29]\u001b[39m\u001b[32m, line 5\u001b[39m\n\u001b[32m      1\u001b[39m \u001b[38;5;66;03m# ==== DistilBERT fine-tuning on raw text (standalone cell) ====================\u001b[39;00m\n\u001b[32m      2\u001b[39m \u001b[38;5;66;03m# (Optional) first time installs:\u001b[39;00m\n\u001b[32m      3\u001b[39m \u001b[38;5;66;03m# !pip install -U transformers torch scikit-learn --quiet\u001b[39;00m\n\u001b[32m----> \u001b[39m\u001b[32m5\u001b[39m \u001b[38;5;28;01mimport\u001b[39;00m\u001b[38;5;250m \u001b[39m\u001b[34;01mos\u001b[39;00m,\u001b[38;5;250m \u001b[39m\u001b[34;01mrandom\u001b[39;00m,\u001b[38;5;250m \u001b[39m\u001b[34;01mnumpy\u001b[39;00m\u001b[38;5;250m \u001b[39m\u001b[38;5;28;01mas\u001b[39;00m\u001b[38;5;250m \u001b[39m\u001b[34;01mnp\u001b[39;00m,\u001b[38;5;250m \u001b[39m\u001b[34;01mpandas\u001b[39;00m\u001b[38;5;250m \u001b[39m\u001b[38;5;28;01mas\u001b[39;00m\u001b[38;5;250m \u001b[39m\u001b[34;01mpd\u001b[39;00m,\u001b[38;5;250m \u001b[39m\u001b[34;01mtorch\u001b[39;00m\n\u001b[32m      6\u001b[39m \u001b[38;5;28;01mfrom\u001b[39;00m\u001b[38;5;250m \u001b[39m\u001b[34;01msklearn\u001b[39;00m\u001b[34;01m.\u001b[39;00m\u001b[34;01mmodel_selection\u001b[39;00m\u001b[38;5;250m \u001b[39m\u001b[38;5;28;01mimport\u001b[39;00m train_test_split\n\u001b[32m      7\u001b[39m \u001b[38;5;28;01mfrom\u001b[39;00m\u001b[38;5;250m \u001b[39m\u001b[34;01msklearn\u001b[39;00m\u001b[34;01m.\u001b[39;00m\u001b[34;01mmetrics\u001b[39;00m\u001b[38;5;250m \u001b[39m\u001b[38;5;28;01mimport\u001b[39;00m classification_report, confusion_matrix, accuracy_score\n",
      "\u001b[31mModuleNotFoundError\u001b[39m: No module named 'torch'"
     ]
    }
   ],
   "source": [
    "# ==== DistilBERT fine-tuning on raw text (standalone cell) ====================\n",
    "# (Optional) first time installs:\n",
    "# !pip install -U transformers torch scikit-learn --quiet\n",
    "\n",
    "import os, random, numpy as np, pandas as pd, torch\n",
    "from sklearn.model_selection import train_test_split\n",
    "from sklearn.metrics import classification_report, confusion_matrix, accuracy_score\n",
    "from transformers import (AutoTokenizer, AutoModelForSequenceClassification,\n",
    "                          TrainingArguments, Trainer)\n",
    "\n",
    "# ---- 0) Pull the DataFrame (expects columns: 'txt', 'label') -----------------\n",
    "df_candidates = [globals().get(\"df_subset\"), globals().get(\"df\")]\n",
    "df = next((d for d in df_candidates\n",
    "           if isinstance(d, pd.DataFrame) and {\"txt\",\"label\"}.issubset(d.columns)), None)\n",
    "if df is None:\n",
    "    raise ValueError(\"No DataFrame with columns {'txt','label'} found. \"\n",
    "                     \"Make sure you have df_subset or df with these columns.\")\n",
    "\n",
    "# ---- 1) Reproducibility & device --------------------------------------------\n",
    "SEED = 42\n",
    "random.seed(SEED); np.random.seed(SEED); torch.manual_seed(SEED)\n",
    "if torch.cuda.is_available():\n",
    "    torch.cuda.manual_seed_all(SEED)\n",
    "\n",
    "device = \"cuda\" if torch.cuda.is_available() else \"cpu\"\n",
    "print(f\"Using device: {device}\")\n",
    "\n",
    "# ---- 2) Train/test split -----------------------------------------------------\n",
    "X_train, X_test, y_train, y_test = train_test_split(\n",
    "    df[\"txt\"].values, df[\"label\"].values,\n",
    "    test_size=0.20, random_state=SEED, stratify=df[\"label\"].values\n",
    ")\n",
    "\n",
    "# ---- 3) Tokenizer & PyTorch Dataset wrapper ---------------------------------\n",
    "model_name = \"distilbert-base-uncased\"\n",
    "tokenizer = AutoTokenizer.from_pretrained(model_name)\n",
    "\n",
    "class TextClfDataset(torch.utils.data.Dataset):\n",
    "    def __init__(self, texts, labels, tokenizer, max_len=256):\n",
    "        self.enc = tokenizer(\n",
    "            list(texts), padding=True, truncation=True, max_length=max_len, return_tensors=\"pt\"\n",
    "        )\n",
    "        self.labels = torch.tensor(labels, dtype=torch.long)\n",
    "\n",
    "    def __len__(self):\n",
    "        return self.labels.size(0)\n",
    "\n",
    "    def __getitem__(self, idx):\n",
    "        item = {k: v[idx] for k, v in self.enc.items()}\n",
    "        item[\"labels\"] = self.labels[idx]\n",
    "        return item\n",
    "\n",
    "train_ds = TextClfDataset(X_train, y_train, tokenizer)\n",
    "test_ds  = TextClfDataset(X_test,  y_test,  tokenizer)\n",
    "\n",
    "# ---- 4) Model & TrainingArguments -------------------------------------------\n",
    "model = AutoModelForSequenceClassification.from_pretrained(model_name, num_labels=2).to(device)\n",
    "\n",
    "# Modest batch sizes for CPU; raise if you have a GPU\n",
    "train_bs = 16 if device == \"cuda\" else 8\n",
    "eval_bs  = 32 if device == \"cuda\" else 16\n",
    "\n",
    "args = TrainingArguments(\n",
    "    output_dir=\"./distilbert-imdb\",\n",
    "    learning_rate=2e-5,\n",
    "    per_device_train_batch_size=train_bs,\n",
    "    per_device_eval_batch_size=eval_bs,\n",
    "    num_train_epochs=3,          # 2–4 is typical for IMDB\n",
    "    weight_decay=0.01,\n",
    "    evaluation_strategy=\"epoch\",\n",
    "    save_strategy=\"epoch\",\n",
    "    logging_steps=100,\n",
    "    load_best_model_at_end=True,\n",
    "    metric_for_best_model=\"accuracy\",\n",
    "    seed=SEED\n",
    ")\n",
    "\n",
    "def compute_metrics(eval_pred):\n",
    "    logits, labels = eval_pred\n",
    "    preds = np.argmax(logits, axis=1)\n",
    "    return {\"accuracy\": (preds == labels).mean()}\n",
    "\n",
    "trainer = Trainer(\n",
    "    model=model,\n",
    "    args=args,\n",
    "    train_dataset=train_ds,\n",
    "    eval_dataset=test_ds,\n",
    "    tokenizer=tokenizer,\n",
    "    compute_metrics=compute_metrics,\n",
    ")\n",
    "\n",
    "# ---- 5) Train & Evaluate -----------------------------------------------------\n",
    "trainer.train()\n",
    "eval_metrics = trainer.evaluate()\n",
    "print(\"\\n=== DistilBERT Eval (Trainer) ===\")\n",
    "for k, v in eval_metrics.items():\n",
    "    print(f\"{k}: {v:.4f}\" if isinstance(v, float) else f\"{k}: {v}\")\n",
    "\n",
    "# Detailed report\n",
    "pred_out = trainer.predict(test_ds)\n",
    "y_pred = np.argmax(pred_out.predictions, axis=1)\n",
    "\n",
    "print(\"\\n=== DistilBERT Detailed Report ===\")\n",
    "print(\"Accuracy:\", round(accuracy_score(y_test, y_pred), 4))\n",
    "print(classification_report(y_test, y_pred, digits=3))\n",
    "print(\"Confusion matrix:\\n\", confusion_matrix(y_test, y_pred))\n",
    "\n",
    "# (Optional) Save final model + tokenizer for later inference\n",
    "# trainer.save_model(\"./distilbert-imdb/best\")\n",
    "# tokenizer.save_pretrained(\"./distilbert-imdb/best\")\n"
   ]
  }
 ],
 "metadata": {
  "kernelspec": {
   "display_name": "base",
   "language": "python",
   "name": "python3"
  },
  "language_info": {
   "codemirror_mode": {
    "name": "ipython",
    "version": 3
   },
   "file_extension": ".py",
   "mimetype": "text/x-python",
   "name": "python",
   "nbconvert_exporter": "python",
   "pygments_lexer": "ipython3",
   "version": "3.13.5"
  }
 },
 "nbformat": 4,
 "nbformat_minor": 5
}
