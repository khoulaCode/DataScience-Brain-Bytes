{
 "cells": [
  {
   "cell_type": "markdown",
   "id": "1d4ea7cc-7350-481b-8ff3-b19bb217de0d",
   "metadata": {},
   "source": [
    "Import NumPy as np at the beginning of your script: import numpy as np\n",
    " \n",
    "For each question, write the Python code that solves it.\n",
    " \n",
    "Put the question in a Markdown cell and the Python code in a code cell.\n",
    " \n",
    "Print the result for each question to verify your answer."
   ]
  },
  {
   "cell_type": "markdown",
   "id": "a0d738ff-382e-46d8-8730-5e824bd48828",
   "metadata": {
    "jp-MarkdownHeadingCollapsed": true
   },
   "source": [
    "# Part 1: Array Creation and Properties"
   ]
  },
  {
   "cell_type": "code",
   "execution_count": 23,
   "id": "4225b605-29f0-4c8b-b90e-34a2c50bb3cf",
   "metadata": {},
   "outputs": [],
   "source": [
    "import numpy as np\n",
    "from numpy import random"
   ]
  },
  {
   "cell_type": "markdown",
   "id": "54dddcc7-13b8-4651-9f2b-9e28701890fd",
   "metadata": {},
   "source": [
    "##### 1. Create a 1D array named arr1d with integers from 0 to 9.\n"
   ]
  },
  {
   "cell_type": "code",
   "execution_count": 24,
   "id": "1da3bfb3-adf0-415c-92e0-9899937f2663",
   "metadata": {},
   "outputs": [
    {
     "data": {
      "text/plain": [
       "array([0, 1, 2, 3, 4, 5, 6, 7, 8, 9])"
      ]
     },
     "execution_count": 24,
     "metadata": {},
     "output_type": "execute_result"
    }
   ],
   "source": [
    "arr1d = np.arange(10)\n",
    "arr1d"
   ]
  },
  {
   "cell_type": "markdown",
   "id": "0efe6fb6-a71e-4481-93f3-8605ae7b450c",
   "metadata": {},
   "source": [
    "##### 2. Create a 2D array named arr2d with shape (3, 3) filled with ones.\n"
   ]
  },
  {
   "cell_type": "code",
   "execution_count": 25,
   "id": "e2d40a6a-4aa4-478a-947f-a773f37de37e",
   "metadata": {},
   "outputs": [
    {
     "data": {
      "text/plain": [
       "array([[1., 1., 1.],\n",
       "       [1., 1., 1.],\n",
       "       [1., 1., 1.]])"
      ]
     },
     "execution_count": 25,
     "metadata": {},
     "output_type": "execute_result"
    }
   ],
   "source": [
    "arr2d = np.ones((3,3))\n",
    "arr2d"
   ]
  },
  {
   "cell_type": "markdown",
   "id": "04b680fa-595b-4341-b2a6-4643a97198ab",
   "metadata": {},
   "source": [
    "##### 3. Create a 3x3 array named random_matrix with random floating-point numbers from a standard normal distribution."
   ]
  },
  {
   "cell_type": "code",
   "execution_count": 26,
   "id": "f43331d4-c633-4a04-9416-6f4756d327b0",
   "metadata": {},
   "outputs": [
    {
     "name": "stdout",
     "output_type": "stream",
     "text": [
      "array shape: (3, 3)\n"
     ]
    },
    {
     "data": {
      "text/plain": [
       "array([[0.32756185, 0.47665195, 0.60414043],\n",
       "       [0.52891201, 0.70643682, 0.15289793],\n",
       "       [0.44310286, 0.97294696, 0.23178402]])"
      ]
     },
     "execution_count": 26,
     "metadata": {},
     "output_type": "execute_result"
    }
   ],
   "source": [
    "random_matrix = random.rand(3,3)\n",
    "print(\"array shape:\",random_matrix.shape)\n",
    "random_matrix"
   ]
  },
  {
   "cell_type": "markdown",
   "id": "b7e73590-1e3c-441c-899c-970cdaaf1815",
   "metadata": {},
   "source": [
    "##### 4. Create an array named even_numbers containing even numbers from 10 to 50 (inclusive)."
   ]
  },
  {
   "cell_type": "code",
   "execution_count": 27,
   "id": "c126d53b-0d12-48b0-b946-02bb53295071",
   "metadata": {},
   "outputs": [
    {
     "data": {
      "text/plain": [
       "array([10, 12, 14, 16, 18, 20, 22, 24, 26, 28, 30, 32, 34, 36, 38, 40, 42,\n",
       "       44, 46, 48, 50])"
      ]
     },
     "execution_count": 27,
     "metadata": {},
     "output_type": "execute_result"
    }
   ],
   "source": [
    "even_numbers = np.arange(10, 51, 2)\n",
    "even_numbers"
   ]
  },
  {
   "cell_type": "markdown",
   "id": "08ee7795-77f9-4e4a-a010-9eaa09471442",
   "metadata": {},
   "source": [
    "##### 5. Create an array named linspace_array containing 7 equally spaced numbers between 0 and 1 (inclusive)."
   ]
  },
  {
   "cell_type": "code",
   "execution_count": 28,
   "id": "af5aa7d8-3f59-4f74-a22a-bb7ed2234b76",
   "metadata": {},
   "outputs": [
    {
     "data": {
      "text/plain": [
       "array([0.        , 0.16666667, 0.33333333, 0.5       , 0.66666667,\n",
       "       0.83333333, 1.        ])"
      ]
     },
     "execution_count": 28,
     "metadata": {},
     "output_type": "execute_result"
    }
   ],
   "source": [
    "linspace_array = np.linspace(0, 1, 7)\n",
    "linspace_array"
   ]
  },
  {
   "cell_type": "markdown",
   "id": "6a5d4412-161c-4755-a524-a434aba9f2b5",
   "metadata": {},
   "source": [
    "##### 6. Given arr = np.array([[1, 2, 3], [4, 5, 6]]), what is its shape, ndim, and dtype? Print them.\n"
   ]
  },
  {
   "cell_type": "code",
   "execution_count": 29,
   "id": "d7df933c-86ef-4a03-b467-e48a262e8f5b",
   "metadata": {},
   "outputs": [
    {
     "name": "stdout",
     "output_type": "stream",
     "text": [
      "shape : (2, 3)\n",
      "dimension : 2\n",
      "type : int64\n"
     ]
    }
   ],
   "source": [
    "arr = np.array([[1, 2, 3], [4, 5, 6]])\n",
    "print(\"shape :\",arr.shape)\n",
    "print(\"dimension :\",arr.ndim)\n",
    "print(\"type :\",arr.dtype)"
   ]
  },
  {
   "cell_type": "markdown",
   "id": "7d58b03e-64f0-4f8b-94eb-371df6813ccb",
   "metadata": {
    "jp-MarkdownHeadingCollapsed": true
   },
   "source": [
    "# Part 2: Array Manipulation"
   ]
  },
  {
   "cell_type": "markdown",
   "id": "cbab4102-a281-4897-b3fe-4bd363ff421b",
   "metadata": {},
   "source": [
    "##### 1. Reshape arr1d (from Q1) into a 2x5 2D array. Name the new array reshaped_arr."
   ]
  },
  {
   "cell_type": "code",
   "execution_count": 30,
   "id": "3c3185f5-ac74-4be9-8995-fb92f5805555",
   "metadata": {},
   "outputs": [
    {
     "data": {
      "text/plain": [
       "array([[0, 1, 2, 3, 4],\n",
       "       [5, 6, 7, 8, 9]])"
      ]
     },
     "execution_count": 30,
     "metadata": {},
     "output_type": "execute_result"
    }
   ],
   "source": [
    "reshaped_arr = arr1d.reshape(2,5)\n",
    "reshaped_arr"
   ]
  },
  {
   "cell_type": "markdown",
   "id": "af173a86-74ad-4f06-8e22-96b1d9582227",
   "metadata": {},
   "source": [
    "##### 2. Transpose reshaped_arr (from Q7). Name the result transposed_arr."
   ]
  },
  {
   "cell_type": "code",
   "execution_count": 31,
   "id": "1eee9604-d6fb-4b12-aaf0-6bbf8a6965f8",
   "metadata": {},
   "outputs": [
    {
     "data": {
      "text/plain": [
       "array([[0, 5],\n",
       "       [1, 6],\n",
       "       [2, 7],\n",
       "       [3, 8],\n",
       "       [4, 9]])"
      ]
     },
     "execution_count": 31,
     "metadata": {},
     "output_type": "execute_result"
    }
   ],
   "source": [
    "transposed_arr = reshaped_arr.T\n",
    "transposed_arr"
   ]
  },
  {
   "cell_type": "markdown",
   "id": "f2d4fd34-056c-4ef4-8d77-34dc3bc3e99a",
   "metadata": {},
   "source": [
    "##### 3. Stack two 1D arrays a = np.array([1, 2, 3]) and b = np.array([4, 5, 6]) vertically."
   ]
  },
  {
   "cell_type": "code",
   "execution_count": 32,
   "id": "fe50d70c-7299-4605-8f7b-33dd72c22904",
   "metadata": {},
   "outputs": [
    {
     "data": {
      "text/plain": [
       "array([[1, 2, 3],\n",
       "       [4, 5, 6]])"
      ]
     },
     "execution_count": 32,
     "metadata": {},
     "output_type": "execute_result"
    }
   ],
   "source": [
    "a = np.array([1, 2, 3])\n",
    "b = np.array([4, 5, 6])\n",
    "vertical_stack = np.vstack((a,b))\n",
    "vertical_stack"
   ]
  },
  {
   "cell_type": "markdown",
   "id": "22293800-2e39-4258-9deb-16be5dff70c8",
   "metadata": {},
   "source": [
    "##### 4. Stack two 2D arrays m1 = np.array([[1, 2], [3, 4]]) and m2 = np.array([[5, 6], [7, 8]]) horizontally.\n",
    " "
   ]
  },
  {
   "cell_type": "code",
   "execution_count": 33,
   "id": "2744fc14-6b94-40eb-b3f1-edfe6e947967",
   "metadata": {},
   "outputs": [
    {
     "data": {
      "text/plain": [
       "array([[1, 2, 5, 6],\n",
       "       [3, 4, 7, 8]])"
      ]
     },
     "execution_count": 33,
     "metadata": {},
     "output_type": "execute_result"
    }
   ],
   "source": [
    "m1 = np.array([[1, 2], [3, 4]])\n",
    "m2 = np.array([[5, 6], [7, 8]])\n",
    "horizontal_stack = np.hstack((m1,m2))\n",
    "horizontal_stack"
   ]
  },
  {
   "cell_type": "markdown",
   "id": "f30f67b9-65e1-4bfd-89aa-c45f5b31f309",
   "metadata": {},
   "source": [
    "##### 5. Split the array arr_to_split = np.arange(16).reshape(4, 4) horizontally into 2 equal parts. Print both parts."
   ]
  },
  {
   "cell_type": "code",
   "execution_count": 34,
   "id": "3c938e09-4bed-4e15-9844-549e577ae819",
   "metadata": {},
   "outputs": [
    {
     "data": {
      "text/plain": [
       "array([[ 2,  3],\n",
       "       [ 6,  7],\n",
       "       [10, 11],\n",
       "       [14, 15]])"
      ]
     },
     "execution_count": 34,
     "metadata": {},
     "output_type": "execute_result"
    }
   ],
   "source": [
    "arr_to_split = np.arange(16).reshape(4, 4)\n",
    "h1_split = np.hsplit(arr_to_split,2)\n",
    "h1_split[0]\n",
    "h1_split[1]"
   ]
  },
  {
   "cell_type": "markdown",
   "id": "d76fc52d-058a-43ae-b93a-1cdf18d33a0e",
   "metadata": {},
   "source": [
    "##### 6. Split the array arr_to_split (from Q11) vertically at index 2 (i.e., into two parts: first two rows, and last two rows). Print both parts."
   ]
  },
  {
   "cell_type": "code",
   "execution_count": 35,
   "id": "56c2e3b1-19a5-4622-96fd-849328e67039",
   "metadata": {},
   "outputs": [
    {
     "data": {
      "text/plain": [
       "array([[ 8,  9, 10, 11],\n",
       "       [12, 13, 14, 15]])"
      ]
     },
     "execution_count": 35,
     "metadata": {},
     "output_type": "execute_result"
    }
   ],
   "source": [
    "split_vertical = np.vsplit(arr_to_split,2)\n",
    "split_vertical[0]\n",
    "split_vertical[1]"
   ]
  },
  {
   "cell_type": "markdown",
   "id": "36413926-da02-44a5-9db5-271e565f4c8c",
   "metadata": {
    "jp-MarkdownHeadingCollapsed": true
   },
   "source": [
    "# Part 3: Indexing, Slicing, and Boolean Indexing"
   ]
  },
  {
   "cell_type": "markdown",
   "id": "41908edf-6625-4eee-b7a2-70f45a73d0cc",
   "metadata": {},
   "source": [
    "##### 1. Given data = np.array([[10, 11, 12], [13, 14, 15], [16, 17, 18]]), extract the element at row 1, column 2."
   ]
  },
  {
   "cell_type": "code",
   "execution_count": 36,
   "id": "781ebcf2-477d-47c4-838a-a095974b7c14",
   "metadata": {},
   "outputs": [
    {
     "name": "stdout",
     "output_type": "stream",
     "text": [
      "15\n"
     ]
    }
   ],
   "source": [
    "data = np.array([[10, 11, 12], [13, 14, 15], [16, 17, 18]])\n",
    "print(data[1,2])"
   ]
  },
  {
   "cell_type": "markdown",
   "id": "ce7757d8-303f-4a4c-ad10-f4554d48b3d0",
   "metadata": {},
   "source": [
    "##### 2. From the data array (from Q13), extract the first two rows and all columns."
   ]
  },
  {
   "cell_type": "code",
   "execution_count": 37,
   "id": "1a5b4b57-feb4-4824-b294-2313efcb9861",
   "metadata": {},
   "outputs": [
    {
     "name": "stdout",
     "output_type": "stream",
     "text": [
      "[[10 11 12]\n",
      " [13 14 15]]\n"
     ]
    }
   ],
   "source": [
    "print(data[:2, :])"
   ]
  },
  {
   "cell_type": "markdown",
   "id": "3ae49499-9822-4cd1-8128-72b790ab8407",
   "metadata": {},
   "source": [
    "##### 3. From the data array (from Q13), extract the elements 11, 15, and 17 using fancy indexing (hint: you'll need to specify rows and columns)."
   ]
  },
  {
   "cell_type": "code",
   "execution_count": 38,
   "id": "ce56cf5e-9641-4070-b7e9-f057eb8415c8",
   "metadata": {},
   "outputs": [
    {
     "data": {
      "text/plain": [
       "array([11, 15, 17])"
      ]
     },
     "execution_count": 38,
     "metadata": {},
     "output_type": "execute_result"
    }
   ],
   "source": [
    "row = [0,1,2]\n",
    "col = [1,2,1]\n",
    "data[row,col]"
   ]
  },
  {
   "cell_type": "markdown",
   "id": "3de9ef03-58c8-4490-b394-d109935c23fc",
   "metadata": {},
   "source": [
    "##### 4. Given scores = np.array([85, 92, 78, 65, 95, 88]), use boolean indexing to find all scores greater than 80."
   ]
  },
  {
   "cell_type": "code",
   "execution_count": 39,
   "id": "b1d52a5f-b51f-4fc4-8952-90211071d5c5",
   "metadata": {},
   "outputs": [
    {
     "data": {
      "text/plain": [
       "array([85, 92, 95, 88])"
      ]
     },
     "execution_count": 39,
     "metadata": {},
     "output_type": "execute_result"
    }
   ],
   "source": [
    "scores = np.array([85, 92, 78, 65, 95, 88])\n",
    "high_scores = scores[scores > 80]\n",
    "high_scores"
   ]
  },
  {
   "cell_type": "markdown",
   "id": "b8bf03b8-a4ef-478e-9306-dc60f2e21d63",
   "metadata": {
    "jp-MarkdownHeadingCollapsed": true
   },
   "source": [
    "# Part 4: Numerical Operations and Aggregations"
   ]
  },
  {
   "cell_type": "markdown",
   "id": "a735f1f4-9e6d-4e33-8aba-e98597fac3e7",
   "metadata": {},
   "source": [
    "##### 1. Given arr_op1 = np.array([10, 20, 30]) and arr_op2 = np.array([2, 4, 6]), perform element-wise multiplication and division (arr_op1 / arr_op2)."
   ]
  },
  {
   "cell_type": "code",
   "execution_count": 40,
   "id": "fe5affbc-e762-4896-8232-525a5889d28b",
   "metadata": {},
   "outputs": [
    {
     "name": "stdout",
     "output_type": "stream",
     "text": [
      "Multiply: [ 20  80 180]\n",
      "Divide:   [5. 5. 5.]\n"
     ]
    }
   ],
   "source": [
    "arr_op1 = np.array([10, 20, 30])\n",
    "arr_op2 = np.array([2, 4, 6])\n",
    "product  = arr_op1 * arr_op2\n",
    "quotient = arr_op1 / arr_op2\n",
    "print(\"Multiply:\",  product)   \n",
    "print(\"Divide:  \", quotient)"
   ]
  },
  {
   "cell_type": "markdown",
   "id": "5d042e5f-7eaf-4bca-ad9d-f177b7f05eae",
   "metadata": {},
   "source": [
    "##### 2. Given matrix = np.array([[1, 2, 3], [4, 5, 6], [7, 8, 9]]), calculate the sum of all elements in the matrix."
   ]
  },
  {
   "cell_type": "code",
   "execution_count": 41,
   "id": "6a7f8031-ce21-4f9d-aba8-ce110d3a6a42",
   "metadata": {},
   "outputs": [
    {
     "name": "stdout",
     "output_type": "stream",
     "text": [
      "45\n"
     ]
    }
   ],
   "source": [
    "matrix = np.array([[1, 2, 3], [4, 5, 6], [7, 8, 9]])\n",
    "matrix_sum = np.sum(matrix)\n",
    "print(matrix_sum)"
   ]
  },
  {
   "cell_type": "markdown",
   "id": "4d5cab61-ad2e-4166-b109-ea3342596b3d",
   "metadata": {},
   "source": [
    "##### 3. From the matrix (from Q18), calculate the mean of each column."
   ]
  },
  {
   "cell_type": "code",
   "execution_count": 42,
   "id": "01689de8-4f30-43d3-bf44-b7e310423e26",
   "metadata": {},
   "outputs": [
    {
     "data": {
      "text/plain": [
       "array([4., 5., 6.])"
      ]
     },
     "execution_count": 42,
     "metadata": {},
     "output_type": "execute_result"
    }
   ],
   "source": [
    "matrix_column_mean = np.mean(matrix, axis = 0)\n",
    "matrix_column_mean"
   ]
  },
  {
   "cell_type": "markdown",
   "id": "6652467b-9af0-4f3e-9f24-92066f882fa0",
   "metadata": {},
   "source": [
    "##### 4. Given price_array = np.array([100, 150, 200, 250]) and discount_percentage = 0.10, apply a 10% discount to all prices using broadcasting."
   ]
  },
  {
   "cell_type": "code",
   "execution_count": 43,
   "id": "d04aa335-2dbb-40fd-8779-8c2b6bc191b0",
   "metadata": {},
   "outputs": [
    {
     "name": "stdout",
     "output_type": "stream",
     "text": [
      "Discounted prices: [ 90. 135. 180. 225.]\n"
     ]
    }
   ],
   "source": [
    "price_array = np.array([100, 150, 200, 250])\n",
    "discount_percentage = 0.10\n",
    "discounted_prices = price_array * (1 - discount_percentage)\n",
    "print(\"Discounted prices:\", discounted_prices)"
   ]
  }
 ],
 "metadata": {
  "kernelspec": {
   "display_name": "base",
   "language": "python",
   "name": "python3"
  },
  "language_info": {
   "codemirror_mode": {
    "name": "ipython",
    "version": 3
   },
   "file_extension": ".py",
   "mimetype": "text/x-python",
   "name": "python",
   "nbconvert_exporter": "python",
   "pygments_lexer": "ipython3",
   "version": "3.13.5"
  }
 },
 "nbformat": 4,
 "nbformat_minor": 5
}
