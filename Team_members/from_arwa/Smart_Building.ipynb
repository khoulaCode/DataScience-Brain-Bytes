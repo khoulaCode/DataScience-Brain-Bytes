{
 "cells": [
  {
   "cell_type": "markdown",
   "id": "19a1396d-9e48-428d-9840-0fd89efc0ecb",
   "metadata": {},
   "source": [
    "# Smart Building"
   ]
  },
  {
   "cell_type": "markdown",
   "id": "8f645f4b-a49c-46f9-99e7-0970dd04bd2b",
   "metadata": {},
   "source": [
    "Scenario: You are a data scientist monitoring environmental conditions in a smart building. You have collected sensor data (temperature, humidity, pressure) over 24 hours, with readings taken every minute. Your goal is to process this raw data to find key statistics and identify anomalies."
   ]
  },
  {
   "cell_type": "markdown",
   "id": "fc95e3bc-ea57-4269-8f2a-e05299dc2b1e",
   "metadata": {},
   "source": [
    "\n",
    "## Sub-tasks: "
   ]
  },
  {
   "cell_type": "markdown",
   "id": "0bb9d6e6-3b0b-48cb-8934-d4fcbc1fbe0b",
   "metadata": {},
   "source": [
    "### 1. Data Generation: "
   ]
  },
  {
   "cell_type": "code",
   "execution_count": null,
   "id": "62a42188-b7e6-4c03-b06e-f3aa1e0d5d3c",
   "metadata": {},
   "outputs": [],
   "source": [
    "import pandas as pd\n",
    "import numpy as np"
   ]
  },
  {
   "cell_type": "markdown",
   "id": "95ae95f1-fa10-4406-861a-523091f12567",
   "metadata": {},
   "source": [
    "* Create a NumPy array for time_in_minutes from 0 to 1439 (24 hours * 60 minutes)."
   ]
  },
  {
   "cell_type": "code",
   "execution_count": 10,
   "id": "90aa48b9-742d-4063-a5c8-e6d596443054",
   "metadata": {},
   "outputs": [],
   "source": [
    "time_index = pd.date_range(start='2025-07-02 00:00', periods=1440, freq='min')\n",
    "df = pd.DataFrame(index=time_index)\n",
    "df['minute_of_day'] = np.arange(1440)\n",
    "# print(df)"
   ]
  },
  {
   "cell_type": "markdown",
   "id": "7f9c3c46-097c-4942-8120-45843b706243",
   "metadata": {},
   "source": [
    "* Generate synthetic temperature data: a base temperature (e.g., 22°C) with some random fluctuations (use np.random.normal)."
   ]
  },
  {
   "cell_type": "code",
   "execution_count": 38,
   "id": "3e39337d-c4c3-46ce-8964-7ed5854d8527",
   "metadata": {},
   "outputs": [],
   "source": [
    "np.random.seed(0)\n",
    "df['temperature'] = 22 + np.random.normal(0, 1.5, size=len(df))"
   ]
  },
  {
   "cell_type": "markdown",
   "id": "4ad84802-0f0c-4205-8f8b-ec638be2e47c",
   "metadata": {},
   "source": [
    "* Generate synthetic humidity data: a base humidity (e.g., 55%) with random fluctuations, ensuring values stay realistic (0-100%)."
   ]
  },
  {
   "cell_type": "code",
   "execution_count": null,
   "id": "9082f82d-2ffb-42fc-a50b-28a90d9e6552",
   "metadata": {},
   "outputs": [],
   "source": [
    "df['humidity'] = np.clip(55 + np.random.normal(0, 5, size=len(df)), 0, 100)"
   ]
  },
  {
   "cell_type": "markdown",
   "id": "22d589d9-5ae2-4389-bc3f-2dde8807aca2",
   "metadata": {},
   "source": [
    "* Generate synthetic humidity data: a base humidity (e.g., 55%) with random fluctuations, ensuring values stay realistic (0-100%)."
   ]
  },
  {
   "cell_type": "code",
   "execution_count": 1,
   "id": "096f1fad-4aff-4329-90a4-39260ab0bdd4",
   "metadata": {},
   "outputs": [
    {
     "ename": "NameError",
     "evalue": "name 'np' is not defined",
     "output_type": "error",
     "traceback": [
      "\u001b[31m---------------------------------------------------------------------------\u001b[39m",
      "\u001b[31mNameError\u001b[39m                                 Traceback (most recent call last)",
      "\u001b[36mCell\u001b[39m\u001b[36m \u001b[39m\u001b[32mIn[1]\u001b[39m\u001b[32m, line 1\u001b[39m\n\u001b[32m----> \u001b[39m\u001b[32m1\u001b[39m df[\u001b[33m'\u001b[39m\u001b[33mpressure\u001b[39m\u001b[33m'\u001b[39m] = \u001b[32m1012\u001b[39m + \u001b[43mnp\u001b[49m.random.normal(\u001b[32m0\u001b[39m, \u001b[32m2\u001b[39m, size=\u001b[38;5;28mlen\u001b[39m(df))\n",
      "\u001b[31mNameError\u001b[39m: name 'np' is not defined"
     ]
    }
   ],
   "source": [
    "df['pressure'] = 1012 + np.random.normal(0, 2, size=len(df))"
   ]
  },
  {
   "cell_type": "markdown",
   "id": "814aba99-7936-4acf-8e48-126639ac9a02",
   "metadata": {},
   "source": [
    "* Combine these into a single 2D NumPy array where each row represents a minute and columns are [time, temperature, humidity, pressure]."
   ]
  },
  {
   "cell_type": "code",
   "execution_count": 18,
   "id": "f8bd927f-7f44-43c3-b045-c2d75e167c0c",
   "metadata": {},
   "outputs": [],
   "source": [
    "time_arr =   df['minute_of_day'].to_numpy()   \n",
    "temp_arr =   df['temperature'].to_numpy()\n",
    "hum_arr  =   df['humidity'].to_numpy()\n",
    "pres_arr =   df['pressure'].to_numpy()\n",
    "data_array = np.column_stack((time_arr, temp_arr, hum_arr, pres_arr))"
   ]
  },
  {
   "cell_type": "markdown",
   "id": "fd7257b6-eb2c-48c3-86bd-84804ab05955",
   "metadata": {},
   "source": [
    "### 2. Basic Statistics: "
   ]
  },
  {
   "cell_type": "markdown",
   "id": "fa25a9bc-e03b-4940-9446-3fd881ff0ad4",
   "metadata": {},
   "source": [
    "* Calculate the average, minimum, maximum temperature, humidity, and pressure for the entire 24-hour period."
   ]
  },
  {
   "cell_type": "code",
   "execution_count": 20,
   "id": "952d28fb-8bcb-4985-a4be-c831d7791a2a",
   "metadata": {},
   "outputs": [
    {
     "name": "stdout",
     "output_type": "stream",
     "text": [
      "Overall Statistics:\n",
      "      temperature   humidity     pressure\n",
      "mean    21.966459  54.872714  1011.929317\n",
      "min     17.430785  39.415717  1004.519799\n",
      "max     26.756462  69.645481  1019.603320\n"
     ]
    }
   ],
   "source": [
    "stats = df[['temperature','humidity','pressure']].agg(['mean','min','max'])\n",
    "print(\"Overall Statistics:\")\n",
    "print(stats)"
   ]
  },
  {
   "cell_type": "markdown",
   "id": "b9ba36e2-23ce-446d-b1e0-949c405a1ea6",
   "metadata": {},
   "source": [
    "* Find the standard deviation for each of these parameters."
   ]
  },
  {
   "cell_type": "code",
   "execution_count": 22,
   "id": "900d66a0-8cd3-4264-80ed-6e518c5e4b31",
   "metadata": {},
   "outputs": [
    {
     "name": "stdout",
     "output_type": "stream",
     "text": [
      "standard deviation:\n",
      "     temperature  humidity  pressure\n",
      "std     1.473817  4.801297  2.012628\n"
     ]
    }
   ],
   "source": [
    "stats = df[['temperature','humidity','pressure']].agg(['std'])\n",
    "print(\"standard deviation:\")\n",
    "print(stats)"
   ]
  },
  {
   "cell_type": "markdown",
   "id": "e99ae510-f564-4a94-9737-3a3d90128beb",
   "metadata": {},
   "source": [
    "### 3. Hourly Averages: "
   ]
  },
  {
   "cell_type": "markdown",
   "id": "383c4fe6-f558-4f0b-898a-c9b7910774df",
   "metadata": {},
   "source": [
    "* Reshape the data (or use slicing/aggregation) to calculate the average temperature, humidity, and pressure for each hour of the day. You should end up with 24 average values for each parameter."
   ]
  },
  {
   "cell_type": "code",
   "execution_count": 24,
   "id": "369133ef-3c8d-40b8-be88-597fbf078b95",
   "metadata": {},
   "outputs": [
    {
     "name": "stdout",
     "output_type": "stream",
     "text": [
      "\n",
      "Hourly Averages:\n",
      "                     temperature   humidity     pressure\n",
      "2025-07-02 00:00:00    22.115001  55.128445  1011.792983\n",
      "2025-07-02 01:00:00    22.282834  55.253724  1011.740002\n",
      "2025-07-02 02:00:00    22.021916  55.156534  1011.921764\n",
      "2025-07-02 03:00:00    21.866334  55.039510  1011.887922\n",
      "2025-07-02 04:00:00    21.920387  55.582867  1011.559820\n",
      "2025-07-02 05:00:00    21.630648  54.441835  1012.001850\n",
      "2025-07-02 06:00:00    21.948784  54.342268  1012.125766\n",
      "2025-07-02 07:00:00    21.839964  54.714879  1012.009754\n",
      "2025-07-02 08:00:00    21.871787  55.699440  1011.793921\n",
      "2025-07-02 09:00:00    21.678087  54.829470  1012.067992\n",
      "2025-07-02 10:00:00    21.809653  55.386401  1012.322285\n",
      "2025-07-02 11:00:00    21.898273  54.083941  1011.996547\n",
      "2025-07-02 12:00:00    21.719477  54.649354  1012.313464\n",
      "2025-07-02 13:00:00    22.128185  54.774070  1011.813392\n",
      "2025-07-02 14:00:00    21.727541  54.679070  1011.809301\n",
      "2025-07-02 15:00:00    22.234686  54.697144  1011.697761\n",
      "2025-07-02 16:00:00    22.175807  55.551241  1012.204679\n",
      "2025-07-02 17:00:00    22.072695  54.149573  1011.648653\n",
      "2025-07-02 18:00:00    22.149473  55.427963  1012.166494\n",
      "2025-07-02 19:00:00    22.257437  54.650805  1011.906630\n",
      "2025-07-02 20:00:00    22.004932  54.918102  1011.610995\n",
      "2025-07-02 21:00:00    21.785372  54.328226  1012.159621\n",
      "2025-07-02 22:00:00    22.114037  54.414768  1011.767670\n",
      "2025-07-02 23:00:00    21.941699  55.045511  1011.984331\n"
     ]
    }
   ],
   "source": [
    "hourly = df.resample('h').mean()[['temperature','humidity','pressure']]\n",
    "print(\"\\nHourly Averages:\")\n",
    "print(hourly)"
   ]
  },
  {
   "cell_type": "markdown",
   "id": "13c6251e-1a2a-4742-bcb8-9b385997a314",
   "metadata": {},
   "source": [
    "### 4. Anomaly Detection (Simple): "
   ]
  },
  {
   "cell_type": "markdown",
   "id": "b34d9613-0d97-4a34-8c2d-cf1e7c78b4f7",
   "metadata": {},
   "source": [
    "* Identify and count how many minutes the temperature exceeded a certain threshold (e.g., 25°C)."
   ]
  },
  {
   "cell_type": "code",
   "execution_count": 33,
   "id": "0aa16218-d15f-4dfa-8cdb-c6db686de158",
   "metadata": {},
   "outputs": [
    {
     "name": "stdout",
     "output_type": "stream",
     "text": [
      "Minutes > 25°C: 32 Minutes\n"
     ]
    }
   ],
   "source": [
    "threshold = 25\n",
    "exceed_count = (df['temperature'] > threshold).sum()\n",
    "print(f\"Minutes > {threshold}°C: {exceed_count} Minutes\")"
   ]
  },
  {
   "cell_type": "markdown",
   "id": "10f3de73-5543-4cd2-9fb7-4fc534007fe2",
   "metadata": {},
   "source": [
    "* Find the time (in minutes) when the minimum temperature occurred."
   ]
  },
  {
   "cell_type": "code",
   "execution_count": 36,
   "id": "9b93192f-1492-4851-b7db-a4f1fc3f8f66",
   "metadata": {},
   "outputs": [
    {
     "name": "stdout",
     "output_type": "stream",
     "text": [
      "Time of minimum temperature: 2025-07-02 09:49:00\n"
     ]
    }
   ],
   "source": [
    "min_temp_time = df['temperature'].idxmin()\n",
    "print(f\"Time of minimum temperature: {min_temp_time}\")"
   ]
  },
  {
   "cell_type": "markdown",
   "id": "29073e94-07d4-4b63-9d6d-c05743af62c4",
   "metadata": {},
   "source": [
    "### 5. Data Export (Optional): "
   ]
  },
  {
   "cell_type": "markdown",
   "id": "619f4a6d-7de2-4f0b-9d24-389bb89a3c31",
   "metadata": {},
   "source": [
    "* Save the combined 2D array to a .csv file using NumPy's saving functions."
   ]
  },
  {
   "cell_type": "code",
   "execution_count": 37,
   "id": "1f3ea5db-ee57-473f-9e03-0593856fcad3",
   "metadata": {},
   "outputs": [
    {
     "name": "stdout",
     "output_type": "stream",
     "text": [
      "\n",
      "Saved to sensor_data.csv\n"
     ]
    }
   ],
   "source": [
    "df.to_csv('sensor_data.csv')\n",
    "print(\"\\nSaved to sensor_data.csv\")"
   ]
  }
 ],
 "metadata": {
  "kernelspec": {
   "display_name": "base",
   "language": "python",
   "name": "python3"
  },
  "language_info": {
   "codemirror_mode": {
    "name": "ipython",
    "version": 3
   },
   "file_extension": ".py",
   "mimetype": "text/x-python",
   "name": "python",
   "nbconvert_exporter": "python",
   "pygments_lexer": "ipython3",
   "version": "3.13.5"
  }
 },
 "nbformat": 4,
 "nbformat_minor": 5
}
