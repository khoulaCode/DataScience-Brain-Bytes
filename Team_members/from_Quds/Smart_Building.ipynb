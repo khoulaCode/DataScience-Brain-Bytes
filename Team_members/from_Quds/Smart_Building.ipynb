{
 "cells": [
  {
   "cell_type": "markdown",
   "id": "8b46df58-8750-4b2b-8ff0-3f82027a99c3",
   "metadata": {},
   "source": [
    "# <div align=\"center\"><span style=\"color:DarkGreen\">**<i>Numpy Task 2: Smart building</i>**</span> </div>\n"
   ]
  },
  {
   "cell_type": "markdown",
   "id": "5375ffd4-b731-4156-aa5f-a0daebb350d4",
   "metadata": {},
   "source": [
    "#### Scenario: You are a data scientist monitoring environmental conditions in a smart building. You have collected sensor data (temperature, humidity, pressure) over 24 hours, with readings taken every minute. Your goal is to process this raw data to find key statistics and identify anomalies."
   ]
  },
  {
   "cell_type": "markdown",
   "id": "eedbaa69-020c-4613-b51a-ea9aed0e1c29",
   "metadata": {},
   "source": [
    "## <span style=\"color:DarkBlue\">**1.Data Generation:**</span>"
   ]
  },
  {
   "cell_type": "markdown",
   "id": "1e4a3774-c660-4d6f-b55f-cd8aea5ba2fa",
   "metadata": {},
   "source": [
    "###  <span style=\"color:LightBlue\">1.1 Create a NumPy array for time_in_minutes from 0 to 1439 (24 hours * 60 minutes).</span>"
   ]
  },
  {
   "cell_type": "code",
   "execution_count": 57,
   "id": "8af5e358-7477-471c-93b0-0672249c939d",
   "metadata": {},
   "outputs": [],
   "source": [
    "import numpy as np"
   ]
  },
  {
   "cell_type": "code",
   "execution_count": 58,
   "id": "ae4f0621-1862-4705-87e4-672b94a8aee3",
   "metadata": {},
   "outputs": [
    {
     "data": {
      "text/plain": [
       "array([   0,    1,    2, ..., 1437, 1438, 1439], shape=(1440,))"
      ]
     },
     "execution_count": 58,
     "metadata": {},
     "output_type": "execute_result"
    }
   ],
   "source": [
    "time_in_minutes = np.arange(24 * 60)\n",
    "time_in_minutes"
   ]
  },
  {
   "cell_type": "markdown",
   "id": "e279bdb1-5b23-463e-94b8-b518b9cf99af",
   "metadata": {},
   "source": [
    "###  <span style=\"color:LightBlue\">1.2 Generate synthetic temperature data: a base temperature (e.g., 22°C) with some random fluctuations (use np.random.normal).</span>"
   ]
  },
  {
   "cell_type": "code",
   "execution_count": 59,
   "id": "f9269328-5f18-4551-8f1a-2c9be18d31f7",
   "metadata": {},
   "outputs": [
    {
     "data": {
      "text/plain": [
       "array([22.06124059, 22.55836318, 21.84920534, ..., 22.0772695 ,\n",
       "       22.32784242, 22.16189607], shape=(1440,))"
      ]
     },
     "execution_count": 59,
     "metadata": {},
     "output_type": "execute_result"
    }
   ],
   "source": [
    "#Use the random.normal() method to get a Normal Data Distribution.\n",
    "#It has three parameters:\n",
    "# 1: loc - (Mean) where the peak of the bell exists. it means the center of the normal distribution\n",
    "# 2: scale - (Standard Deviation) how flat the graph distribution should be. the spread\n",
    "# 3: size - The shape of the returned array. It means how many random values to generate \n",
    "# for the size it will be 1440 (24h*60m/h)\n",
    "temperature_data = np.random.normal(loc = 22 , scale= 1 , size= 1440 )\n",
    "temperature_data"
   ]
  },
  {
   "cell_type": "markdown",
   "id": "9e3ebdd4-fd72-4c72-99cf-b227e984a24a",
   "metadata": {},
   "source": [
    "### <span style=\"color:LightBlue\">1.3 Generate synthetic humidity data: a base humidity (e.g., 55%) with random fluctuations, ensuring values stay realistic (0-100%).</span>"
   ]
  },
  {
   "cell_type": "code",
   "execution_count": 60,
   "id": "f11874f8-0e7f-44a5-94e9-f1d6330f22a3",
   "metadata": {},
   "outputs": [
    {
     "data": {
      "text/plain": [
       "array([57.42219297, 58.1147192 , 54.54725725, ..., 53.17286202,\n",
       "       56.41358684, 43.04176707], shape=(1440,))"
      ]
     },
     "execution_count": 60,
     "metadata": {},
     "output_type": "execute_result"
    }
   ],
   "source": [
    "humidity_data = np.random.normal(loc = 55 , scale= 5 , size= 1440 )\n",
    "#using  Clip (limit) the values in an array.\n",
    "humidity_data = np.clip(humidity_data, 0, 100)\n",
    "humidity_data"
   ]
  },
  {
   "cell_type": "markdown",
   "id": "bc1a43f5-64a5-4a75-a515-97e87f54a670",
   "metadata": {},
   "source": [
    "### <span style=\"color:LightBlue\">1.4 Generate synthetic pressure data: a base pressure (e.g., 1012 hPa) with random fluctuations.</span>"
   ]
  },
  {
   "cell_type": "code",
   "execution_count": 61,
   "id": "95a02cd7-4244-4064-bdbc-360058780adc",
   "metadata": {},
   "outputs": [
    {
     "data": {
      "text/plain": [
       "array([1019.64398466, 1010.92435844, 1018.443599  , ..., 1018.44560674,\n",
       "       1009.30702592, 1008.55567369], shape=(1440,))"
      ]
     },
     "execution_count": 61,
     "metadata": {},
     "output_type": "execute_result"
    }
   ],
   "source": [
    "pressure_data =  np.random.normal(loc = 1012, scale = 5, size = 1440)\n",
    "pressure_data                                "
   ]
  },
  {
   "cell_type": "markdown",
   "id": "57be1cb6-5f87-4a31-9044-e2c14e591795",
   "metadata": {},
   "source": [
    "### <span style=\"color:LightBlue\">1.5 Combine these into a single 2D NumPy array where each row represents a minute and columns are [time, temperature, humidity, pressure].</span>"
   ]
  },
  {
   "cell_type": "code",
   "execution_count": 62,
   "id": "7867ea5a-5015-41ec-9a59-c87dc03b49e4",
   "metadata": {},
   "outputs": [
    {
     "data": {
      "text/plain": [
       "array([[0.00000000e+00, 2.20612406e+01, 5.74221930e+01, 1.01964398e+03],\n",
       "       [1.00000000e+00, 2.25583632e+01, 5.81147192e+01, 1.01092436e+03],\n",
       "       [2.00000000e+00, 2.18492053e+01, 5.45472572e+01, 1.01844360e+03],\n",
       "       ...,\n",
       "       [1.43700000e+03, 2.20772695e+01, 5.31728620e+01, 1.01844561e+03],\n",
       "       [1.43800000e+03, 2.23278424e+01, 5.64135868e+01, 1.00930703e+03],\n",
       "       [1.43900000e+03, 2.21618961e+01, 4.30417671e+01, 1.00855567e+03]],\n",
       "      shape=(1440, 4))"
      ]
     },
     "execution_count": 62,
     "metadata": {},
     "output_type": "execute_result"
    }
   ],
   "source": [
    "#Stack 1-D arrays as columns into a 2-D array.\n",
    "#Take a sequence of 1-D arrays and stack them as columns to make a single 2-D array. 2-D arrays are stacked as-is, \n",
    "#just like with hstack. 1-D arrays are turned into 2-D columns first.\n",
    "\n",
    "data_array = np.column_stack((time_in_minutes,temperature_data,humidity_data,pressure_data))\n",
    "data_array"
   ]
  },
  {
   "cell_type": "markdown",
   "id": "2d7f9728-8e65-405d-bdb7-be9902eecc0f",
   "metadata": {},
   "source": [
    "## <span style=\"color:DarkBlue\">2. Basic Statistics:</span> \n",
    " "
   ]
  },
  {
   "cell_type": "markdown",
   "id": "bc667fdd-0842-4a4b-ac8f-3f44a4445891",
   "metadata": {},
   "source": [
    "### <span style=\"color:LightBlue\">2.1 Calculate the average, minimum, maximum temperature, humidity, and pressure for the entire 24-hour period.</span>"
   ]
  },
  {
   "cell_type": "code",
   "execution_count": 63,
   "id": "edf921ea-a79e-4542-84f2-b175e6890115",
   "metadata": {},
   "outputs": [
    {
     "data": {
      "text/plain": [
       "np.float64(22.040688987353693)"
      ]
     },
     "execution_count": 63,
     "metadata": {},
     "output_type": "execute_result"
    }
   ],
   "source": [
    "average_temperature_data = np.mean(temperature_data)\n",
    "average_temperature_data"
   ]
  },
  {
   "cell_type": "code",
   "execution_count": 64,
   "id": "b573f6ba-2fe8-40cb-8c5c-883b7cd5127d",
   "metadata": {},
   "outputs": [
    {
     "data": {
      "text/plain": [
       "np.float64(26.257340759608795)"
      ]
     },
     "execution_count": 64,
     "metadata": {},
     "output_type": "execute_result"
    }
   ],
   "source": [
    "maximum_temperature_data = np.max(temperature_data)\n",
    "maximum_temperature_data"
   ]
  },
  {
   "cell_type": "code",
   "execution_count": 65,
   "id": "1144adc1-b605-4e1b-b665-367c785224f3",
   "metadata": {},
   "outputs": [
    {
     "data": {
      "text/plain": [
       "np.float64(19.245216732852256)"
      ]
     },
     "execution_count": 65,
     "metadata": {},
     "output_type": "execute_result"
    }
   ],
   "source": [
    "minimum_temperature_data = np.min(temperature_data)\n",
    "minimum_temperature_data"
   ]
  },
  {
   "cell_type": "code",
   "execution_count": 66,
   "id": "f6cfdb85-01d8-41f5-abbe-d75985e5a9d3",
   "metadata": {},
   "outputs": [
    {
     "data": {
      "text/plain": [
       "np.float64(55.002928174614965)"
      ]
     },
     "execution_count": 66,
     "metadata": {},
     "output_type": "execute_result"
    }
   ],
   "source": [
    "average_humidity_data = np.mean(humidity_data)\n",
    "average_humidity_data"
   ]
  },
  {
   "cell_type": "code",
   "execution_count": 67,
   "id": "4490527c-2afb-4cc5-adc3-56f134ca8bca",
   "metadata": {},
   "outputs": [
    {
     "data": {
      "text/plain": [
       "np.float64(77.45100579050971)"
      ]
     },
     "execution_count": 67,
     "metadata": {},
     "output_type": "execute_result"
    }
   ],
   "source": [
    "maximum_humidity_data = np.max(humidity_data)\n",
    "maximum_humidity_data"
   ]
  },
  {
   "cell_type": "code",
   "execution_count": 68,
   "id": "1957c4d3-f920-4093-bc18-96a31f0fde9e",
   "metadata": {},
   "outputs": [
    {
     "data": {
      "text/plain": [
       "np.float64(37.66873922874507)"
      ]
     },
     "execution_count": 68,
     "metadata": {},
     "output_type": "execute_result"
    }
   ],
   "source": [
    "minimum_humidity_data = np.min(humidity_data)\n",
    "minimum_humidity_data"
   ]
  },
  {
   "cell_type": "code",
   "execution_count": 69,
   "id": "8794a9a8-efaa-444f-90be-83015eccbd3a",
   "metadata": {},
   "outputs": [
    {
     "data": {
      "text/plain": [
       "np.float64(1011.9829058090261)"
      ]
     },
     "execution_count": 69,
     "metadata": {},
     "output_type": "execute_result"
    }
   ],
   "source": [
    "average_pressure_data= np.mean(pressure_data)\n",
    "average_pressure_data"
   ]
  },
  {
   "cell_type": "code",
   "execution_count": 70,
   "id": "b85ed322-c1f0-4251-97c9-3f05ae06fdce",
   "metadata": {},
   "outputs": [
    {
     "data": {
      "text/plain": [
       "np.float64(1025.6002837265253)"
      ]
     },
     "execution_count": 70,
     "metadata": {},
     "output_type": "execute_result"
    }
   ],
   "source": [
    "maximum_pressure_data= np.max(pressure_data)\n",
    "maximum_pressure_data"
   ]
  },
  {
   "cell_type": "code",
   "execution_count": 71,
   "id": "b842d839-c7b4-473c-ba5b-c822a14a537f",
   "metadata": {},
   "outputs": [
    {
     "data": {
      "text/plain": [
       "np.float64(996.335582352869)"
      ]
     },
     "execution_count": 71,
     "metadata": {},
     "output_type": "execute_result"
    }
   ],
   "source": [
    "minimum_pressure_data = np.min(pressure_data)\n",
    "minimum_pressure_data"
   ]
  },
  {
   "cell_type": "markdown",
   "id": "1b014aa2-7ea9-4a5b-a32d-434ceaae4905",
   "metadata": {},
   "source": [
    "### <span style=\"color:LightBlue\">2.2 Find the standard deviation for each of these parameters.</span>"
   ]
  },
  {
   "cell_type": "code",
   "execution_count": 72,
   "id": "ab47b173-4ff4-42fa-97b7-4f5d7891568b",
   "metadata": {},
   "outputs": [
    {
     "data": {
      "text/plain": [
       "np.float64(1.0094337685757524)"
      ]
     },
     "execution_count": 72,
     "metadata": {},
     "output_type": "execute_result"
    }
   ],
   "source": [
    "np.std(temperature_data)"
   ]
  },
  {
   "cell_type": "code",
   "execution_count": 73,
   "id": "13e3718e-f1b8-48ea-a0c8-85aaf52f00d9",
   "metadata": {},
   "outputs": [
    {
     "data": {
      "text/plain": [
       "np.float64(5.124830871720933)"
      ]
     },
     "execution_count": 73,
     "metadata": {},
     "output_type": "execute_result"
    }
   ],
   "source": [
    "np.std(humidity_data)"
   ]
  },
  {
   "cell_type": "code",
   "execution_count": 74,
   "id": "e4c6a066-f300-4066-ae59-ef8dc6337270",
   "metadata": {},
   "outputs": [
    {
     "data": {
      "text/plain": [
       "np.float64(4.890897384386921)"
      ]
     },
     "execution_count": 74,
     "metadata": {},
     "output_type": "execute_result"
    }
   ],
   "source": [
    "np.std(pressure_data)"
   ]
  },
  {
   "cell_type": "markdown",
   "id": "82819aaa-7ea3-4d47-bdc7-93752e63ef0b",
   "metadata": {},
   "source": [
    "## <span style=\"color:DarkBlue\">3. Hourly Averages:</span>  "
   ]
  },
  {
   "cell_type": "markdown",
   "id": "3864b546-fced-458d-9509-751d94fedfe3",
   "metadata": {},
   "source": [
    "### <span style=\"color:LightBlue\">3.1 Reshape the data (or use slicing/aggregation) to calculate the average temperature, humidity, and pressure for each hour of the day. You should end up with 24 average values for each parameter.</span>"
   ]
  },
  {
   "cell_type": "code",
   "execution_count": 94,
   "id": "16c4acfa-0255-4063-80c0-ab242f0ffbe3",
   "metadata": {},
   "outputs": [
    {
     "data": {
      "text/plain": [
       "array([[22.06124059, 22.55836318, 21.84920534, ..., 20.62005494,\n",
       "        21.57170516, 21.82483564],\n",
       "       [22.67432776, 23.36331451, 23.88723115, ..., 21.960566  ,\n",
       "        22.81501389, 24.55617997],\n",
       "       [24.90818974, 22.42450465, 22.33559665, ..., 22.03341655,\n",
       "        21.48267554, 21.7966677 ],\n",
       "       ...,\n",
       "       [22.73529833, 22.87598714, 20.49024986, ..., 22.7630698 ,\n",
       "        20.72647415, 22.04627414],\n",
       "       [21.22089167, 22.43602781, 22.97374716, ..., 21.73735909,\n",
       "        20.8585077 , 21.5967092 ],\n",
       "       [23.08527979, 21.37504571, 20.98182927, ..., 22.0772695 ,\n",
       "        22.32784242, 22.16189607]], shape=(24, 60))"
      ]
     },
     "execution_count": 94,
     "metadata": {},
     "output_type": "execute_result"
    }
   ],
   "source": [
    "temperature_data = data_array[:, 1].reshape(24, 60)\n",
    "temperature_data"
   ]
  },
  {
   "cell_type": "code",
   "execution_count": 101,
   "id": "b94c018d-7bc0-44d6-95c0-b5e1fc71fba7",
   "metadata": {},
   "outputs": [
    {
     "data": {
      "text/plain": [
       "array([274.78185455, 273.14936021, 274.2100154 , ..., 632.67393457,\n",
       "       631.51211379, 628.18983421], shape=(1440,))"
      ]
     },
     "execution_count": 101,
     "metadata": {},
     "output_type": "execute_result"
    }
   ],
   "source": [
    "temperature_data_avg = data_array.mean(axis=1)\n",
    "temperature_data_avg"
   ]
  },
  {
   "cell_type": "code",
   "execution_count": 103,
   "id": "af07d240-d983-4fb0-8ae3-e05b63b9cae5",
   "metadata": {},
   "outputs": [
    {
     "data": {
      "text/plain": [
       "array([[57.42219297, 58.1147192 , 54.54725725, ..., 61.37267473,\n",
       "        55.96691344, 66.31726873],\n",
       "       [60.80353925, 57.04246708, 56.21955302, ..., 51.96582677,\n",
       "        56.22906461, 61.01154391],\n",
       "       [47.75125955, 63.08015821, 53.73880308, ..., 52.29559676,\n",
       "        57.94404743, 56.98528423],\n",
       "       ...,\n",
       "       [60.76510717, 52.12226876, 52.73922729, ..., 54.43296192,\n",
       "        67.69203021, 55.72608009],\n",
       "       [50.83983608, 58.62224708, 52.46548473, ..., 59.45297827,\n",
       "        59.98036634, 53.00834439],\n",
       "       [52.14640244, 55.44478112, 61.62165444, ..., 53.17286202,\n",
       "        56.41358684, 43.04176707]], shape=(24, 60))"
      ]
     },
     "execution_count": 103,
     "metadata": {},
     "output_type": "execute_result"
    }
   ],
   "source": [
    "humidity_data = data_array[:, 2].reshape(24, 60)\n",
    "humidity_data"
   ]
  },
  {
   "cell_type": "code",
   "execution_count": 104,
   "id": "45848862-32e3-4493-b35c-717239df94ff",
   "metadata": {},
   "outputs": [
    {
     "data": {
      "text/plain": [
       "array([274.78185455, 273.14936021, 274.2100154 , ..., 632.67393457,\n",
       "       631.51211379, 628.18983421], shape=(1440,))"
      ]
     },
     "execution_count": 104,
     "metadata": {},
     "output_type": "execute_result"
    }
   ],
   "source": [
    "humidity_data_avg = data_array.mean(axis=1)\n",
    "humidity_data_avg"
   ]
  },
  {
   "cell_type": "code",
   "execution_count": 105,
   "id": "9b38e7fb-21d5-455c-bcdd-daff43cf0152",
   "metadata": {},
   "outputs": [
    {
     "data": {
      "text/plain": [
       "array([[1019.64398466, 1010.92435844, 1018.443599  , ..., 1004.14661706,\n",
       "        1010.70507856,  999.85964581],\n",
       "       [1011.11415645, 1009.50768607, 1011.85331265, ..., 1011.41432561,\n",
       "        1011.15382103, 1017.91844584],\n",
       "       [1016.10816191, 1014.38022896, 1010.95925141, ..., 1001.15983952,\n",
       "        1008.21924377, 1014.47288287],\n",
       "       ...,\n",
       "       [1020.98237654, 1019.74659283, 1014.52019234, ..., 1018.78969734,\n",
       "        1004.78299731, 1007.92999544],\n",
       "       [1011.14515587, 1016.44545336, 1015.1298881 , ..., 1015.34045212,\n",
       "        1012.86976884, 1008.65683135],\n",
       "       [1008.53031834, 1005.79656181, 1015.51762641, ..., 1018.44560674,\n",
       "        1009.30702592, 1008.55567369]], shape=(24, 60))"
      ]
     },
     "execution_count": 105,
     "metadata": {},
     "output_type": "execute_result"
    }
   ],
   "source": [
    "pressure_data = data_array[:, 3].reshape(24, 60)\n",
    "pressure_data"
   ]
  },
  {
   "cell_type": "code",
   "execution_count": 106,
   "id": "0a89ad8a-fbba-441f-a534-595f9e26c164",
   "metadata": {},
   "outputs": [
    {
     "data": {
      "text/plain": [
       "array([274.78185455, 273.14936021, 274.2100154 , ..., 632.67393457,\n",
       "       631.51211379, 628.18983421], shape=(1440,))"
      ]
     },
     "execution_count": 106,
     "metadata": {},
     "output_type": "execute_result"
    }
   ],
   "source": [
    "pressure_data_avg = data_array.mean(axis=1)\n",
    "pressure_data_avg"
   ]
  },
  {
   "cell_type": "markdown",
   "id": "a1b66dc0-6512-474c-886c-bc6ade426635",
   "metadata": {},
   "source": [
    "## <span style=\"color:DarkBlue\">4. Anomaly Detection (Simple): </span>"
   ]
  },
  {
   "cell_type": "markdown",
   "id": "9185c4c9-9224-4320-96da-1ca61a3b1cca",
   "metadata": {},
   "source": [
    "### <span style=\"color:LightBlue\">4.1 Identify and count how many minutes the temperature exceeded a certain threshold (e.g., 25°C).</span>"
   ]
  },
  {
   "cell_type": "code",
   "execution_count": 84,
   "id": "6d293d20-6a0b-4c6c-a007-c99800ad037a",
   "metadata": {},
   "outputs": [
    {
     "data": {
      "text/plain": [
       "array([21.24837418, 20.64880761, 24.5091905 , ..., 22.0772695 ,\n",
       "       22.32784242, 22.16189607], shape=(1414,))"
      ]
     },
     "execution_count": 84,
     "metadata": {},
     "output_type": "execute_result"
    }
   ],
   "source": [
    "mask=temperature_data[time_in_minutes>25]\n",
    "mask"
   ]
  },
  {
   "cell_type": "markdown",
   "id": "7af384ab-01e9-4bec-ade9-685e60e19ad3",
   "metadata": {},
   "source": [
    "### <span style=\"color:LightBlue\">4.2 Find the time (in minutes) when the minimum temperature occurred.</span>"
   ]
  },
  {
   "cell_type": "code",
   "execution_count": 85,
   "id": "e67e6f76-ef44-4b9b-9913-4c0e2670f8b7",
   "metadata": {},
   "outputs": [
    {
     "data": {
      "text/plain": [
       "array([22.06124059, 22.55836318, 21.84920534, 22.43196075, 22.69098086,\n",
       "       23.74662077, 21.1586212 , 23.29884576, 22.63667812, 21.90796755,\n",
       "       23.5483926 , 20.81639139, 23.6436077 , 22.63187622, 23.28879409,\n",
       "       20.32042739, 21.23812572, 23.43664162, 22.76418519, 23.1515669 ,\n",
       "       22.40731619, 22.66908527, 22.58782345, 21.53734954, 21.77238232])"
      ]
     },
     "execution_count": 85,
     "metadata": {},
     "output_type": "execute_result"
    }
   ],
   "source": [
    "mask=temperature_data[time_in_minutes<25]\n",
    "mask"
   ]
  }
 ],
 "metadata": {
  "kernelspec": {
   "display_name": "Python 3 (ipykernel)",
   "language": "python",
   "name": "python3"
  },
  "language_info": {
   "codemirror_mode": {
    "name": "ipython",
    "version": 3
   },
   "file_extension": ".py",
   "mimetype": "text/x-python",
   "name": "python",
   "nbconvert_exporter": "python",
   "pygments_lexer": "ipython3",
   "version": "3.13.3"
  }
 },
 "nbformat": 4,
 "nbformat_minor": 5
}
