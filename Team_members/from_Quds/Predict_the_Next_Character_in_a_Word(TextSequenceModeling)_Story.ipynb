{
 "cells": [
  {
   "cell_type": "markdown",
   "id": "617eabc7-a261-4943-b583-7aa768513aea",
   "metadata": {},
   "source": [
    "# Predict the Next Character in a Word (Text Sequence Modeling) Story"
   ]
  },
  {
   "cell_type": "code",
   "execution_count": 9,
   "id": "d9900ec1-0b81-438f-bce9-25a62e4942db",
   "metadata": {},
   "outputs": [],
   "source": [
    "import numpy as np\n",
    "import tensorflow as tf\n",
    "from tensorflow.keras.models import Sequential\n",
    "from tensorflow.keras.layers import Embedding, LSTM, Dense\n",
    "import matplotlib.pyplot as plt"
   ]
  },
  {
   "cell_type": "code",
   "execution_count": 10,
   "id": "851d96cd-8134-452c-883b-07606a824a34",
   "metadata": {},
   "outputs": [],
   "source": [
    "# Load and clean text\n",
    "with open(\"cleaned_merged_fairy_tales_without_eos.txt\", \"r\", encoding=\"utf-8\") as f:\n",
    "    text = f.read().lower()\n",
    "\n",
    "# Filter characters (optional: keep only letters and punctuation)\n",
    "text = ''.join(c for c in text if c.isprintable())"
   ]
  },
  {
   "cell_type": "code",
   "execution_count": 11,
   "id": "767889ff-5752-454a-b3dc-fceac44befd6",
   "metadata": {},
   "outputs": [],
   "source": [
    "# Create character mappings\n",
    "chars = sorted(set(text))\n",
    "char_to_idx = {c: i for i, c in enumerate(chars)}\n",
    "idx_to_char = {i: c for i, c in enumerate(chars)}\n",
    "vocab_size = len(chars)"
   ]
  },
  {
   "cell_type": "code",
   "execution_count": 12,
   "id": "c0873b30-6979-45b0-ba55-0cc4af8c2ecb",
   "metadata": {},
   "outputs": [],
   "source": [
    "# Create sequences\n",
    "seq_length = 40\n",
    "step = 3\n",
    "sequences = []\n",
    "next_chars = []\n",
    "\n",
    "for i in range(0, len(text) - seq_length, step):\n",
    "    sequences.append(text[i: i + seq_length])\n",
    "    next_chars.append(text[i + seq_length])"
   ]
  },
  {
   "cell_type": "code",
   "execution_count": 13,
   "id": "a4e9e606-f314-4968-8eb7-2d0693c39444",
   "metadata": {},
   "outputs": [],
   "source": [
    "# Limit dataset size for memory efficiency\n",
    "max_samples = 100000\n",
    "sequences = sequences[:max_samples]\n",
    "next_chars = next_chars[:max_samples]"
   ]
  },
  {
   "cell_type": "code",
   "execution_count": 14,
   "id": "0143c78b-2ff8-431e-b455-3fc0efb47b95",
   "metadata": {},
   "outputs": [],
   "source": [
    "# Integer encode sequences\n",
    "X = np.zeros((len(sequences), seq_length), dtype=np.int32)\n",
    "y = np.zeros(len(sequences), dtype=np.int32)\n",
    "\n",
    "for i, seq in enumerate(sequences):\n",
    "    X[i] = [char_to_idx[c] for c in seq]\n",
    "    y[i] = char_to_idx[next_chars[i]]"
   ]
  },
  {
   "cell_type": "markdown",
   "id": "5101ce34-f830-4883-88e1-551f328a2f05",
   "metadata": {},
   "source": [
    "### LSTM model"
   ]
  },
  {
   "cell_type": "code",
   "execution_count": 15,
   "id": "5c8b4896-a47f-4eec-89f6-9ed75e635efb",
   "metadata": {},
   "outputs": [],
   "source": [
    "# Build model\n",
    "model = Sequential([\n",
    "    Embedding(input_dim=vocab_size, output_dim=64, input_length=seq_length),\n",
    "    LSTM(128),\n",
    "    Dense(vocab_size, activation='softmax')\n",
    "])\n",
    "\n",
    "model.compile(loss='sparse_categorical_crossentropy', optimizer='adam', metrics=['accuracy'])"
   ]
  },
  {
   "cell_type": "code",
   "execution_count": 16,
   "id": "9d35142e-4671-4d75-9f25-0d1e124433fa",
   "metadata": {},
   "outputs": [
    {
     "name": "stdout",
     "output_type": "stream",
     "text": [
      "Epoch 1/10\n",
      "\u001b[1m782/782\u001b[0m \u001b[32m━━━━━━━━━━━━━━━━━━━━\u001b[0m\u001b[37m\u001b[0m \u001b[1m47s\u001b[0m 59ms/step - accuracy: 0.3087 - loss: 2.4703\n",
      "Epoch 2/10\n",
      "\u001b[1m782/782\u001b[0m \u001b[32m━━━━━━━━━━━━━━━━━━━━\u001b[0m\u001b[37m\u001b[0m \u001b[1m73s\u001b[0m 47ms/step - accuracy: 0.3783 - loss: 2.1204\n",
      "Epoch 3/10\n",
      "\u001b[1m782/782\u001b[0m \u001b[32m━━━━━━━━━━━━━━━━━━━━\u001b[0m\u001b[37m\u001b[0m \u001b[1m39s\u001b[0m 50ms/step - accuracy: 0.4156 - loss: 1.9976\n",
      "Epoch 4/10\n",
      "\u001b[1m782/782\u001b[0m \u001b[32m━━━━━━━━━━━━━━━━━━━━\u001b[0m\u001b[37m\u001b[0m \u001b[1m44s\u001b[0m 54ms/step - accuracy: 0.4400 - loss: 1.9130\n",
      "Epoch 5/10\n",
      "\u001b[1m782/782\u001b[0m \u001b[32m━━━━━━━━━━━━━━━━━━━━\u001b[0m\u001b[37m\u001b[0m \u001b[1m39s\u001b[0m 50ms/step - accuracy: 0.4579 - loss: 1.8504\n",
      "Epoch 6/10\n",
      "\u001b[1m782/782\u001b[0m \u001b[32m━━━━━━━━━━━━━━━━━━━━\u001b[0m\u001b[37m\u001b[0m \u001b[1m42s\u001b[0m 53ms/step - accuracy: 0.4694 - loss: 1.8001\n",
      "Epoch 7/10\n",
      "\u001b[1m782/782\u001b[0m \u001b[32m━━━━━━━━━━━━━━━━━━━━\u001b[0m\u001b[37m\u001b[0m \u001b[1m39s\u001b[0m 50ms/step - accuracy: 0.4820 - loss: 1.7587\n",
      "Epoch 8/10\n",
      "\u001b[1m782/782\u001b[0m \u001b[32m━━━━━━━━━━━━━━━━━━━━\u001b[0m\u001b[37m\u001b[0m \u001b[1m40s\u001b[0m 52ms/step - accuracy: 0.4907 - loss: 1.7234\n",
      "Epoch 9/10\n",
      "\u001b[1m782/782\u001b[0m \u001b[32m━━━━━━━━━━━━━━━━━━━━\u001b[0m\u001b[37m\u001b[0m \u001b[1m40s\u001b[0m 51ms/step - accuracy: 0.4982 - loss: 1.6932\n",
      "Epoch 10/10\n",
      "\u001b[1m782/782\u001b[0m \u001b[32m━━━━━━━━━━━━━━━━━━━━\u001b[0m\u001b[37m\u001b[0m \u001b[1m42s\u001b[0m 53ms/step - accuracy: 0.5051 - loss: 1.6665\n"
     ]
    }
   ],
   "source": [
    "# Train model\n",
    "history = model.fit(X, y, batch_size=128, epochs=10)"
   ]
  },
  {
   "cell_type": "code",
   "execution_count": 17,
   "id": "f9d69afc-aa3e-41e0-adaf-a9727c941ec8",
   "metadata": {},
   "outputs": [
    {
     "data": {
      "image/png": "[encoded data removed]",
      "text/plain": [
       "<Figure size 640x480 with 1 Axes>"
      ]
     },
     "metadata": {},
     "output_type": "display_data"
    }
   ],
   "source": [
    "# Plot training curves\n",
    "plt.plot(history.history['accuracy'], label='Accuracy')\n",
    "plt.plot(history.history['loss'], label='Loss')\n",
    "plt.title(\"LSTM Training Performance\")\n",
    "plt.xlabel(\"Epoch\")\n",
    "plt.legend()\n",
    "plt.show()"
   ]
  },
  {
   "cell_type": "markdown",
   "id": "8d041474-c2b5-49a8-8add-259e9e4d2e7a",
   "metadata": {},
   "source": [
    "### RNN model"
   ]
  },
  {
   "cell_type": "code",
   "execution_count": 18,
   "id": "2c0f001c-9067-4875-9522-839683734bcf",
   "metadata": {},
   "outputs": [
    {
     "name": "stdout",
     "output_type": "stream",
     "text": [
      "Generated Text:\n",
      " the happy prince.high above the city, on the stor the stor the stor the stor the stor the stor the stor the stor the stor the stor the stor \n"
     ]
    }
   ],
   "source": [
    "# Generate text\n",
    "def sample_prediction(model, seed_text, length=100):\n",
    "    generated = seed_text\n",
    "    for _ in range(length):\n",
    "        x_pred = np.array([[char_to_idx[c] for c in seed_text]])\n",
    "        preds = model.predict(x_pred, verbose=0)[0]\n",
    "        next_index = np.argmax(preds)\n",
    "        next_char = idx_to_char[next_index]\n",
    "        generated += next_char\n",
    "        seed_text = seed_text[1:] + next_char\n",
    "    return generated\n",
    "\n",
    "seed = text[:seq_length]\n",
    "print(\"Generated Text:\\n\", sample_prediction(model, seed))"
   ]
  },
  {
   "cell_type": "code",
   "execution_count": 19,
   "id": "fcda62b9-0a6a-49fc-bfa1-d6e31216dd92",
   "metadata": {},
   "outputs": [],
   "source": [
    "from tensorflow.keras.layers import SimpleRNN\n",
    "\n",
    "# Build RNN model\n",
    "rnn_model = Sequential([\n",
    "    Embedding(input_dim=vocab_size, output_dim=64, input_length=seq_length),\n",
    "    SimpleRNN(128),\n",
    "    Dense(vocab_size, activation='softmax')\n",
    "])\n",
    "\n",
    "rnn_model.compile(loss='sparse_categorical_crossentropy', optimizer='adam', metrics=['accuracy'])"
   ]
  },
  {
   "cell_type": "code",
   "execution_count": 20,
   "id": "41c56c50-549b-4486-8caa-0905fa9a4619",
   "metadata": {},
   "outputs": [
    {
     "name": "stdout",
     "output_type": "stream",
     "text": [
      "Epoch 1/10\n",
      "\u001b[1m782/782\u001b[0m \u001b[32m━━━━━━━━━━━━━━━━━━━━\u001b[0m\u001b[37m\u001b[0m \u001b[1m13s\u001b[0m 15ms/step - accuracy: 0.3233 - loss: 2.4205\n",
      "Epoch 2/10\n",
      "\u001b[1m782/782\u001b[0m \u001b[32m━━━━━━━━━━━━━━━━━━━━\u001b[0m\u001b[37m\u001b[0m \u001b[1m13s\u001b[0m 17ms/step - accuracy: 0.4160 - loss: 2.0133\n",
      "Epoch 3/10\n",
      "\u001b[1m782/782\u001b[0m \u001b[32m━━━━━━━━━━━━━━━━━━━━\u001b[0m\u001b[37m\u001b[0m \u001b[1m12s\u001b[0m 16ms/step - accuracy: 0.4518 - loss: 1.8783\n",
      "Epoch 4/10\n",
      "\u001b[1m782/782\u001b[0m \u001b[32m━━━━━━━━━━━━━━━━━━━━\u001b[0m\u001b[37m\u001b[0m \u001b[1m12s\u001b[0m 15ms/step - accuracy: 0.4751 - loss: 1.7897\n",
      "Epoch 5/10\n",
      "\u001b[1m782/782\u001b[0m \u001b[32m━━━━━━━━━━━━━━━━━━━━\u001b[0m\u001b[37m\u001b[0m \u001b[1m12s\u001b[0m 15ms/step - accuracy: 0.4922 - loss: 1.7260\n",
      "Epoch 6/10\n",
      "\u001b[1m782/782\u001b[0m \u001b[32m━━━━━━━━━━━━━━━━━━━━\u001b[0m\u001b[37m\u001b[0m \u001b[1m12s\u001b[0m 16ms/step - accuracy: 0.5043 - loss: 1.6791\n",
      "Epoch 7/10\n",
      "\u001b[1m782/782\u001b[0m \u001b[32m━━━━━━━━━━━━━━━━━━━━\u001b[0m\u001b[37m\u001b[0m \u001b[1m12s\u001b[0m 15ms/step - accuracy: 0.5144 - loss: 1.6398\n",
      "Epoch 8/10\n",
      "\u001b[1m782/782\u001b[0m \u001b[32m━━━━━━━━━━━━━━━━━━━━\u001b[0m\u001b[37m\u001b[0m \u001b[1m12s\u001b[0m 16ms/step - accuracy: 0.5220 - loss: 1.6082\n",
      "Epoch 9/10\n",
      "\u001b[1m782/782\u001b[0m \u001b[32m━━━━━━━━━━━━━━━━━━━━\u001b[0m\u001b[37m\u001b[0m \u001b[1m12s\u001b[0m 15ms/step - accuracy: 0.5286 - loss: 1.5821\n",
      "Epoch 10/10\n",
      "\u001b[1m782/782\u001b[0m \u001b[32m━━━━━━━━━━━━━━━━━━━━\u001b[0m\u001b[37m\u001b[0m \u001b[1m12s\u001b[0m 15ms/step - accuracy: 0.5333 - loss: 1.5594\n"
     ]
    }
   ],
   "source": [
    "rnn_history = rnn_model.fit(X, y, batch_size=128, epochs=10)"
   ]
  },
  {
   "cell_type": "code",
   "execution_count": 21,
   "id": "85236600-c69c-408c-8123-21227f9db634",
   "metadata": {},
   "outputs": [
    {
     "data": {
      "image/png": "[encoded data removed]",
      "text/plain": [
       "<Figure size 640x480 with 1 Axes>"
      ]
     },
     "metadata": {},
     "output_type": "display_data"
    }
   ],
   "source": [
    "plt.plot(rnn_history.history['accuracy'], label='RNN Accuracy')\n",
    "plt.plot(rnn_history.history['loss'], label='RNN Loss')\n",
    "plt.title(\"RNN Training Performance\")\n",
    "plt.xlabel(\"Epoch\")\n",
    "plt.legend()\n",
    "plt.show()"
   ]
  },
  {
   "cell_type": "code",
   "execution_count": 22,
   "id": "a6cacf78-c4c0-4084-8eb9-44a63cb405f1",
   "metadata": {},
   "outputs": [
    {
     "name": "stdout",
     "output_type": "stream",
     "text": [
      "RNN Generated Text:\n",
      " the happy prince.high above the city, on the street the street the street the street the street the street the street the street the street \n"
     ]
    }
   ],
   "source": [
    "def sample_rnn_prediction(model, seed_text, length=100):\n",
    "    generated = seed_text\n",
    "    for _ in range(length):\n",
    "        x_pred = np.array([[char_to_idx[c] for c in seed_text]])\n",
    "        preds = model.predict(x_pred, verbose=0)[0]\n",
    "        next_index = np.argmax(preds)\n",
    "        next_char = idx_to_char[next_index]\n",
    "        generated += next_char\n",
    "        seed_text = seed_text[1:] + next_char\n",
    "    return generated\n",
    "\n",
    "print(\"RNN Generated Text:\\n\", sample_rnn_prediction(rnn_model, seed))"
   ]
  }
 ],
 "metadata": {
  "kernelspec": {
   "display_name": "Python 3 (ipykernel)",
   "language": "python",
   "name": "python3"
  },
  "language_info": {
   "codemirror_mode": {
    "name": "ipython",
    "version": 3
   },
   "file_extension": ".py",
   "mimetype": "text/x-python",
   "name": "python",
   "nbconvert_exporter": "python",
   "pygments_lexer": "ipython3",
   "version": "3.13.3"
  }
 },
 "nbformat": 4,
 "nbformat_minor": 5
}
