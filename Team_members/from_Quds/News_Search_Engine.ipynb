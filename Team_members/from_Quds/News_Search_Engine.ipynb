{
 "cells": [
  {
   "cell_type": "markdown",
   "id": "f5779c1b-396a-4758-b0ef-500e834a62aa",
   "metadata": {},
   "source": [
    "# Import the Library"
   ]
  },
  {
   "cell_type": "code",
   "execution_count": 1,
   "id": "54599927-13c3-4636-9a9c-a0ef15f1ee8c",
   "metadata": {},
   "outputs": [],
   "source": [
    "import pandas as pd\n",
    "from sklearn.feature_extraction.text import TfidfVectorizer\n",
    "from sklearn.metrics.pairwise import cosine_similarity\n"
   ]
  },
  {
   "cell_type": "markdown",
   "id": "f69c876d-0b90-4202-b586-c262cda2dedb",
   "metadata": {},
   "source": [
    "# 1. Data Preprocessing"
   ]
  },
  {
   "cell_type": "markdown",
   "id": "1d4db1d0-9060-4a60-8a48-21fd7f500d35",
   "metadata": {},
   "source": [
    "1. Load dataset and filter categories."
   ]
  },
  {
   "cell_type": "code",
   "execution_count": 10,
   "id": "60ab9c3a-03e9-48f9-9ddd-26278f591a39",
   "metadata": {},
   "outputs": [
    {
     "data": {
      "text/html": [
       "<div>\n",
       "<style scoped>\n",
       "    .dataframe tbody tr th:only-of-type {\n",
       "        vertical-align: middle;\n",
       "    }\n",
       "\n",
       "    .dataframe tbody tr th {\n",
       "        vertical-align: top;\n",
       "    }\n",
       "\n",
       "    .dataframe thead th {\n",
       "        text-align: right;\n",
       "    }\n",
       "</style>\n",
       "<table border=\"1\" class=\"dataframe\">\n",
       "  <thead>\n",
       "    <tr style=\"text-align: right;\">\n",
       "      <th></th>\n",
       "      <th>link</th>\n",
       "      <th>headline</th>\n",
       "      <th>category</th>\n",
       "      <th>short_description</th>\n",
       "      <th>authors</th>\n",
       "      <th>date</th>\n",
       "    </tr>\n",
       "  </thead>\n",
       "  <tbody>\n",
       "    <tr>\n",
       "      <th>0</th>\n",
       "      <td>https://www.huffpost.com/entry/covid-boosters-...</td>\n",
       "      <td>Over 4 Million Americans Roll Up Sleeves For O...</td>\n",
       "      <td>U.S. NEWS</td>\n",
       "      <td>Health experts said it is too early to predict...</td>\n",
       "      <td>Carla K. Johnson, AP</td>\n",
       "      <td>2022-09-23</td>\n",
       "    </tr>\n",
       "    <tr>\n",
       "      <th>1</th>\n",
       "      <td>https://www.huffpost.com/entry/american-airlin...</td>\n",
       "      <td>American Airlines Flyer Charged, Banned For Li...</td>\n",
       "      <td>U.S. NEWS</td>\n",
       "      <td>He was subdued by passengers and crew when he ...</td>\n",
       "      <td>Mary Papenfuss</td>\n",
       "      <td>2022-09-23</td>\n",
       "    </tr>\n",
       "    <tr>\n",
       "      <th>2</th>\n",
       "      <td>https://www.huffpost.com/entry/funniest-tweets...</td>\n",
       "      <td>23 Of The Funniest Tweets About Cats And Dogs ...</td>\n",
       "      <td>COMEDY</td>\n",
       "      <td>\"Until you have a dog you don't understand wha...</td>\n",
       "      <td>Elyse Wanshel</td>\n",
       "      <td>2022-09-23</td>\n",
       "    </tr>\n",
       "    <tr>\n",
       "      <th>3</th>\n",
       "      <td>https://www.huffpost.com/entry/funniest-parent...</td>\n",
       "      <td>The Funniest Tweets From Parents This Week (Se...</td>\n",
       "      <td>PARENTING</td>\n",
       "      <td>\"Accidentally put grown-up toothpaste on my to...</td>\n",
       "      <td>Caroline Bologna</td>\n",
       "      <td>2022-09-23</td>\n",
       "    </tr>\n",
       "    <tr>\n",
       "      <th>4</th>\n",
       "      <td>https://www.huffpost.com/entry/amy-cooper-lose...</td>\n",
       "      <td>Woman Who Called Cops On Black Bird-Watcher Lo...</td>\n",
       "      <td>U.S. NEWS</td>\n",
       "      <td>Amy Cooper accused investment firm Franklin Te...</td>\n",
       "      <td>Nina Golgowski</td>\n",
       "      <td>2022-09-22</td>\n",
       "    </tr>\n",
       "    <tr>\n",
       "      <th>...</th>\n",
       "      <td>...</td>\n",
       "      <td>...</td>\n",
       "      <td>...</td>\n",
       "      <td>...</td>\n",
       "      <td>...</td>\n",
       "      <td>...</td>\n",
       "    </tr>\n",
       "    <tr>\n",
       "      <th>209522</th>\n",
       "      <td>https://www.huffingtonpost.com/entry/rim-ceo-t...</td>\n",
       "      <td>RIM CEO Thorsten Heins' 'Significant' Plans Fo...</td>\n",
       "      <td>TECH</td>\n",
       "      <td>Verizon Wireless and AT&amp;T are already promotin...</td>\n",
       "      <td>Reuters, Reuters</td>\n",
       "      <td>2012-01-28</td>\n",
       "    </tr>\n",
       "    <tr>\n",
       "      <th>209523</th>\n",
       "      <td>https://www.huffingtonpost.com/entry/maria-sha...</td>\n",
       "      <td>Maria Sharapova Stunned By Victoria Azarenka I...</td>\n",
       "      <td>SPORTS</td>\n",
       "      <td>Afterward, Azarenka, more effusive with the pr...</td>\n",
       "      <td></td>\n",
       "      <td>2012-01-28</td>\n",
       "    </tr>\n",
       "    <tr>\n",
       "      <th>209524</th>\n",
       "      <td>https://www.huffingtonpost.com/entry/super-bow...</td>\n",
       "      <td>Giants Over Patriots, Jets Over Colts Among  M...</td>\n",
       "      <td>SPORTS</td>\n",
       "      <td>Leading up to Super Bowl XLVI, the most talked...</td>\n",
       "      <td></td>\n",
       "      <td>2012-01-28</td>\n",
       "    </tr>\n",
       "    <tr>\n",
       "      <th>209525</th>\n",
       "      <td>https://www.huffingtonpost.com/entry/aldon-smi...</td>\n",
       "      <td>Aldon Smith Arrested: 49ers Linebacker Busted ...</td>\n",
       "      <td>SPORTS</td>\n",
       "      <td>CORRECTION: An earlier version of this story i...</td>\n",
       "      <td></td>\n",
       "      <td>2012-01-28</td>\n",
       "    </tr>\n",
       "    <tr>\n",
       "      <th>209526</th>\n",
       "      <td>https://www.huffingtonpost.com/entry/dwight-ho...</td>\n",
       "      <td>Dwight Howard Rips Teammates After Magic Loss ...</td>\n",
       "      <td>SPORTS</td>\n",
       "      <td>The five-time all-star center tore into his te...</td>\n",
       "      <td></td>\n",
       "      <td>2012-01-28</td>\n",
       "    </tr>\n",
       "  </tbody>\n",
       "</table>\n",
       "<p>209527 rows × 6 columns</p>\n",
       "</div>"
      ],
      "text/plain": [
       "                                                     link  \\\n",
       "0       https://www.huffpost.com/entry/covid-boosters-...   \n",
       "1       https://www.huffpost.com/entry/american-airlin...   \n",
       "2       https://www.huffpost.com/entry/funniest-tweets...   \n",
       "3       https://www.huffpost.com/entry/funniest-parent...   \n",
       "4       https://www.huffpost.com/entry/amy-cooper-lose...   \n",
       "...                                                   ...   \n",
       "209522  https://www.huffingtonpost.com/entry/rim-ceo-t...   \n",
       "209523  https://www.huffingtonpost.com/entry/maria-sha...   \n",
       "209524  https://www.huffingtonpost.com/entry/super-bow...   \n",
       "209525  https://www.huffingtonpost.com/entry/aldon-smi...   \n",
       "209526  https://www.huffingtonpost.com/entry/dwight-ho...   \n",
       "\n",
       "                                                 headline   category  \\\n",
       "0       Over 4 Million Americans Roll Up Sleeves For O...  U.S. NEWS   \n",
       "1       American Airlines Flyer Charged, Banned For Li...  U.S. NEWS   \n",
       "2       23 Of The Funniest Tweets About Cats And Dogs ...     COMEDY   \n",
       "3       The Funniest Tweets From Parents This Week (Se...  PARENTING   \n",
       "4       Woman Who Called Cops On Black Bird-Watcher Lo...  U.S. NEWS   \n",
       "...                                                   ...        ...   \n",
       "209522  RIM CEO Thorsten Heins' 'Significant' Plans Fo...       TECH   \n",
       "209523  Maria Sharapova Stunned By Victoria Azarenka I...     SPORTS   \n",
       "209524  Giants Over Patriots, Jets Over Colts Among  M...     SPORTS   \n",
       "209525  Aldon Smith Arrested: 49ers Linebacker Busted ...     SPORTS   \n",
       "209526  Dwight Howard Rips Teammates After Magic Loss ...     SPORTS   \n",
       "\n",
       "                                        short_description  \\\n",
       "0       Health experts said it is too early to predict...   \n",
       "1       He was subdued by passengers and crew when he ...   \n",
       "2       \"Until you have a dog you don't understand wha...   \n",
       "3       \"Accidentally put grown-up toothpaste on my to...   \n",
       "4       Amy Cooper accused investment firm Franklin Te...   \n",
       "...                                                   ...   \n",
       "209522  Verizon Wireless and AT&T are already promotin...   \n",
       "209523  Afterward, Azarenka, more effusive with the pr...   \n",
       "209524  Leading up to Super Bowl XLVI, the most talked...   \n",
       "209525  CORRECTION: An earlier version of this story i...   \n",
       "209526  The five-time all-star center tore into his te...   \n",
       "\n",
       "                     authors       date  \n",
       "0       Carla K. Johnson, AP 2022-09-23  \n",
       "1             Mary Papenfuss 2022-09-23  \n",
       "2              Elyse Wanshel 2022-09-23  \n",
       "3           Caroline Bologna 2022-09-23  \n",
       "4             Nina Golgowski 2022-09-22  \n",
       "...                      ...        ...  \n",
       "209522      Reuters, Reuters 2012-01-28  \n",
       "209523                       2012-01-28  \n",
       "209524                       2012-01-28  \n",
       "209525                       2012-01-28  \n",
       "209526                       2012-01-28  \n",
       "\n",
       "[209527 rows x 6 columns]"
      ]
     },
     "execution_count": 10,
     "metadata": {},
     "output_type": "execute_result"
    }
   ],
   "source": [
    "df = pd.read_json(\"News_Category_Dataset_v3.json\", lines=True)\n",
    "df\n"
   ]
  },
  {
   "cell_type": "markdown",
   "id": "56d8b1e6-6b2e-4fc3-aecc-62be31a4f1cd",
   "metadata": {},
   "source": [
    "2. Balance dataset (1000 per category).\n",
    "3. Keep only headline and category."
   ]
  },
  {
   "cell_type": "code",
   "execution_count": 4,
   "id": "21c998c1-7388-4955-a04b-48b2427d5cef",
   "metadata": {},
   "outputs": [
    {
     "name": "stdout",
     "output_type": "stream",
     "text": [
      "(4000, 2)\n"
     ]
    },
    {
     "data": {
      "text/html": [
       "<div>\n",
       "<style scoped>\n",
       "    .dataframe tbody tr th:only-of-type {\n",
       "        vertical-align: middle;\n",
       "    }\n",
       "\n",
       "    .dataframe tbody tr th {\n",
       "        vertical-align: top;\n",
       "    }\n",
       "\n",
       "    .dataframe thead th {\n",
       "        text-align: right;\n",
       "    }\n",
       "</style>\n",
       "<table border=\"1\" class=\"dataframe\">\n",
       "  <thead>\n",
       "    <tr style=\"text-align: right;\">\n",
       "      <th></th>\n",
       "      <th>headline</th>\n",
       "      <th>category</th>\n",
       "    </tr>\n",
       "  </thead>\n",
       "  <tbody>\n",
       "    <tr>\n",
       "      <th>0</th>\n",
       "      <td>Maury Wills, Base-Stealing Shortstop For Dodge...</td>\n",
       "      <td>SPORTS</td>\n",
       "    </tr>\n",
       "    <tr>\n",
       "      <th>1</th>\n",
       "      <td>Biden Says U.S. Forces Would Defend Taiwan If ...</td>\n",
       "      <td>POLITICS</td>\n",
       "    </tr>\n",
       "    <tr>\n",
       "      <th>2</th>\n",
       "      <td>‘Beautiful And Sad At The Same Time’: Ukrainia...</td>\n",
       "      <td>POLITICS</td>\n",
       "    </tr>\n",
       "    <tr>\n",
       "      <th>3</th>\n",
       "      <td>Las Vegas Aces Win First WNBA Title, Chelsea G...</td>\n",
       "      <td>SPORTS</td>\n",
       "    </tr>\n",
       "    <tr>\n",
       "      <th>4</th>\n",
       "      <td>Biden Says Queen's Death Left 'Giant Hole' For...</td>\n",
       "      <td>POLITICS</td>\n",
       "    </tr>\n",
       "    <tr>\n",
       "      <th>5</th>\n",
       "      <td>Bill To Help Afghans Who Escaped Taliban Faces...</td>\n",
       "      <td>POLITICS</td>\n",
       "    </tr>\n",
       "    <tr>\n",
       "      <th>6</th>\n",
       "      <td>Mark Meadows Complies With Justice Dept. Subpo...</td>\n",
       "      <td>POLITICS</td>\n",
       "    </tr>\n",
       "    <tr>\n",
       "      <th>7</th>\n",
       "      <td>Democrats Nominate Seth Magaziner In Key Rhode...</td>\n",
       "      <td>POLITICS</td>\n",
       "    </tr>\n",
       "    <tr>\n",
       "      <th>8</th>\n",
       "      <td>Joe Biden Urges National Unity In Speech On Re...</td>\n",
       "      <td>POLITICS</td>\n",
       "    </tr>\n",
       "    <tr>\n",
       "      <th>9</th>\n",
       "      <td>Sen. Tim Scott Downplays Electability Concerns...</td>\n",
       "      <td>POLITICS</td>\n",
       "    </tr>\n",
       "  </tbody>\n",
       "</table>\n",
       "</div>"
      ],
      "text/plain": [
       "                                            headline  category\n",
       "0  Maury Wills, Base-Stealing Shortstop For Dodge...    SPORTS\n",
       "1  Biden Says U.S. Forces Would Defend Taiwan If ...  POLITICS\n",
       "2  ‘Beautiful And Sad At The Same Time’: Ukrainia...  POLITICS\n",
       "3  Las Vegas Aces Win First WNBA Title, Chelsea G...    SPORTS\n",
       "4  Biden Says Queen's Death Left 'Giant Hole' For...  POLITICS\n",
       "5  Bill To Help Afghans Who Escaped Taliban Faces...  POLITICS\n",
       "6  Mark Meadows Complies With Justice Dept. Subpo...  POLITICS\n",
       "7  Democrats Nominate Seth Magaziner In Key Rhode...  POLITICS\n",
       "8  Joe Biden Urges National Unity In Speech On Re...  POLITICS\n",
       "9  Sen. Tim Scott Downplays Electability Concerns...  POLITICS"
      ]
     },
     "execution_count": 4,
     "metadata": {},
     "output_type": "execute_result"
    }
   ],
   "source": [
    "# Keep only headline and category columns\n",
    "df = df[['headline', 'category']]\n",
    "\n",
    "# Filter required categories\n",
    "categories = [\"POLITICS\", \"TRAVEL\", \"SPORTS\", \"HOME & LIVING\"]\n",
    "df = df[df['category'].isin(categories)]\n",
    "\n",
    "# Sample 1000 articles per category\n",
    "df = df.groupby('category').head(1000)\n",
    "\n",
    "# Final dataset\n",
    "df = df.reset_index(drop=True)\n",
    "print(df.shape)\n",
    "df.head(10)"
   ]
  },
  {
   "cell_type": "markdown",
   "id": "da1f3a8d-e47b-434a-97de-8a89b2967657",
   "metadata": {},
   "source": [
    "# 2. Search Index Creation"
   ]
  },
  {
   "cell_type": "code",
   "execution_count": 5,
   "id": "b3be0884-7e0b-4ebe-b848-088c62d7aed0",
   "metadata": {},
   "outputs": [],
   "source": [
    "vectorizer = TfidfVectorizer(stop_words='english')\n",
    "X = vectorizer.fit_transform(df['headline'])\n"
   ]
  },
  {
   "cell_type": "markdown",
   "id": "3f23b54c-7659-4500-b29f-14ce394fc6f4",
   "metadata": {},
   "source": [
    "# 3. Search Functionality"
   ]
  },
  {
   "cell_type": "code",
   "execution_count": 6,
   "id": "ebb8b573-e31d-44db-9931-821e92bfef64",
   "metadata": {},
   "outputs": [],
   "source": [
    "def search_articles(query, top_k=10):\n",
    "    # Transform query into TF-IDF space\n",
    "    query_vec = vectorizer.transform([query])\n",
    "    \n",
    "    # Compute cosine similarity\n",
    "    similarities = cosine_similarity(query_vec, X).flatten()\n",
    "    \n",
    "    # Get top k indices\n",
    "    top_indices = similarities.argsort()[-top_k:][::-1]\n",
    "    \n",
    "    # Prepare results\n",
    "    results = df.iloc[top_indices].copy()\n",
    "    results['similarity'] = similarities[top_indices]\n",
    "    return results[['headline', 'category', 'similarity']]\n"
   ]
  },
  {
   "cell_type": "code",
   "execution_count": 7,
   "id": "79f9a79d-4635-4842-b7bf-6891266721f9",
   "metadata": {},
   "outputs": [
    {
     "name": "stdout",
     "output_type": "stream",
     "text": [
      "                                               headline  category  similarity\n",
      "3106                   Three Meditation Tips for Travel    TRAVEL    0.486844\n",
      "2456                           How Do I Travel So Much?    TRAVEL    0.474351\n",
      "2097  Are People Scared To Travel To Europe And Brit...    TRAVEL    0.457047\n",
      "2471           8 Travel Tips Made Easy For The Holidays    TRAVEL    0.442132\n",
      "3122               My Five Tips for Sweet Summer Travel    TRAVEL    0.431171\n",
      "2455  Tips On How To Plan The Perfect Budget Travel ...    TRAVEL    0.370459\n",
      "316   Biden To Travel To Europe For NATO Summit On R...  POLITICS    0.358396\n",
      "1783  The Best (Cheap) Places To Go In Europe This W...    TRAVEL    0.348087\n",
      "2482                   The 5 Best Ski Resorts In Europe    TRAVEL    0.341066\n",
      "2558            Backpacking Through Europe in the 1990s    TRAVEL    0.332314\n"
     ]
    }
   ],
   "source": [
    "query = \"travel tips for Europe\"\n",
    "results = search_articles(query)\n",
    "print(results)"
   ]
  },
  {
   "cell_type": "code",
   "execution_count": 8,
   "id": "f022601c-bb91-4da4-b8c6-a32dee78b4eb",
   "metadata": {},
   "outputs": [
    {
     "name": "stdout",
     "output_type": "stream",
     "text": [
      "0.487 | TRAVEL | Three Meditation Tips for Travel\n",
      "0.474 | TRAVEL | How Do I Travel So Much?\n",
      "0.457 | TRAVEL | Are People Scared To Travel To Europe And Britain?\n",
      "0.442 | TRAVEL | 8 Travel Tips Made Easy For The Holidays\n",
      "0.431 | TRAVEL | My Five Tips for Sweet Summer Travel\n",
      "0.370 | TRAVEL | Tips On How To Plan The Perfect Budget Travel Vacation\n",
      "0.358 | POLITICS | Biden To Travel To Europe For NATO Summit On Russia’s War On Ukraine\n",
      "0.348 | TRAVEL | The Best (Cheap) Places To Go In Europe This Winter\n",
      "0.341 | TRAVEL | The 5 Best Ski Resorts In Europe\n",
      "0.332 | TRAVEL | Backpacking Through Europe in the 1990s\n"
     ]
    }
   ],
   "source": [
    "for i, row in results.iterrows():\n",
    "    print(f\"{row['similarity']:.3f} | {row['category']} | {row['headline']}\")"
   ]
  },
  {
   "cell_type": "markdown",
   "id": "ae55c0d5-23d1-434a-881b-707125447136",
   "metadata": {},
   "source": [
    "# 4. Output Format"
   ]
  },
  {
   "cell_type": "code",
   "execution_count": 9,
   "id": "67c065f3-cc7d-4aa9-8492-b7d40ebf326f",
   "metadata": {},
   "outputs": [
    {
     "name": "stdin",
     "output_type": "stream",
     "text": [
      "Enter search query (or 'exit' to stop):  how do \n"
     ]
    },
    {
     "name": "stdout",
     "output_type": "stream",
     "text": [
      "                                             headline  category  similarity\n",
      "16  US, Trump Team Propose Names For Arbiter In Ma...  POLITICS         0.0\n",
      "17  Politician's DNA Connected To Las Vegas Journa...  POLITICS         0.0\n",
      "18  Michigan Supreme Court Revives Abortion Rights...  POLITICS         0.0\n",
      "19  Portland Residents With Disabilities Sue Over ...  POLITICS         0.0\n",
      "20  Baseball Players Union Joins AFL-CIO In Show O...    SPORTS         0.0\n",
      "21  The Unemployment Insurance System Is Not Ready...  POLITICS         0.0\n",
      "22  Kody Clemens Strikes Out MVP Shohei Ohtani, Tr...    SPORTS         0.0\n",
      "23  Michigan Secretary of State Worried About ‘Vio...  POLITICS         0.0\n",
      "24  Uvalde Fourth Graders Waited An Hour With Woun...  POLITICS         0.0\n",
      "25  Trump-Endorsed Wisconsin Gubernatorial Candida...  POLITICS         0.0\n"
     ]
    },
    {
     "name": "stdin",
     "output_type": "stream",
     "text": [
      "Enter search query (or 'exit' to stop):  exit\n"
     ]
    }
   ],
   "source": [
    "while True:\n",
    "    query = input(\"Enter search query (or 'exit' to stop): \")\n",
    "    if query.lower() == 'exit':\n",
    "        break\n",
    "    print(search_articles(query))"
   ]
  },
  {
   "cell_type": "code",
   "execution_count": null,
   "id": "38116766-9dea-42bf-94f2-9d7963d5fd93",
   "metadata": {},
   "outputs": [],
   "source": []
  }
 ],
 "metadata": {
  "kernelspec": {
   "display_name": "Python 3 (ipykernel)",
   "language": "python",
   "name": "python3"
  },
  "language_info": {
   "codemirror_mode": {
    "name": "ipython",
    "version": 3
   },
   "file_extension": ".py",
   "mimetype": "text/x-python",
   "name": "python",
   "nbconvert_exporter": "python",
   "pygments_lexer": "ipython3",
   "version": "3.13.3"
  }
 },
 "nbformat": 4,
 "nbformat_minor": 5
}
