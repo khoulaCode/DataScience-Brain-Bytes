{
 "cells": [
  {
   "cell_type": "markdown",
   "id": "94ee504b-856d-44d9-988c-cfc21caf7461",
   "metadata": {},
   "source": [
    "# <div align=\"center\"><span style=\"color:Purple\">**<i> NumPy Practice</i>**</span> </div>"
   ]
  },
  {
   "cell_type": "markdown",
   "id": "593a81a9-2d15-4e8c-87c3-c70e6585bc66",
   "metadata": {},
   "source": [
    "#### <span style=\"color:Blue\">**Part 1: 1-6**</span> \n",
    "#### <span style=\"color:Blue\">**Part 2: 7-12**</span> \n",
    "#### <span style=\"color:Blue\">**Part 3: 13-16**</span> \n",
    "####  <span style=\"color:Blue\">**Part 4: 17-20**</span> "
   ]
  },
  {
   "cell_type": "markdown",
   "id": "40ab80fd-3120-48fa-a4ea-2b5f38bc0540",
   "metadata": {},
   "source": [
    "## <span style=\"color:Brown\">**Part 1: Array Creation and Properties**</span> "
   ]
  },
  {
   "cell_type": "markdown",
   "id": "1684e808-29f7-4e3e-9ca3-1c30e4df80e7",
   "metadata": {},
   "source": [
    "####  1.Create a 1D array named arr1d with integers from 0 to 9."
   ]
  },
  {
   "cell_type": "code",
   "execution_count": 1,
   "id": "e1b183e2-fdc8-49f0-8359-90ce31a75d72",
   "metadata": {},
   "outputs": [],
   "source": [
    "import numpy as np "
   ]
  },
  {
   "cell_type": "code",
   "execution_count": 2,
   "id": "19db07d4-18b7-4b5c-b993-eb1ba6b7c9a0",
   "metadata": {},
   "outputs": [
    {
     "data": {
      "text/plain": [
       "array([0, 1, 2, 3, 4, 5, 6, 7, 8, 9])"
      ]
     },
     "execution_count": 2,
     "metadata": {},
     "output_type": "execute_result"
    }
   ],
   "source": [
    "arr_1d = np.arange(10)\n",
    "arr_1d"
   ]
  },
  {
   "cell_type": "markdown",
   "id": "6f98485f-0cfe-4627-9fd9-4524e9b39f76",
   "metadata": {},
   "source": [
    "#### 2.Create a 2D array named arr2d with shape (3, 3) filled with ones."
   ]
  },
  {
   "cell_type": "code",
   "execution_count": 3,
   "id": "5717832b-2436-48d1-a8a6-138746eae05c",
   "metadata": {},
   "outputs": [
    {
     "data": {
      "text/plain": [
       "array([[1., 1., 1.],\n",
       "       [1., 1., 1.],\n",
       "       [1., 1., 1.]])"
      ]
     },
     "execution_count": 3,
     "metadata": {},
     "output_type": "execute_result"
    }
   ],
   "source": [
    "arr_2d = np.ones((3, 3))\n",
    "arr_2d"
   ]
  },
  {
   "cell_type": "markdown",
   "id": "776e837f-b528-47bc-a873-50e727588438",
   "metadata": {},
   "source": [
    "#### 3.Create a 3x3 array named random_matrix with random floating-point numbers from a standard normal distribution."
   ]
  },
  {
   "cell_type": "code",
   "execution_count": 4,
   "id": "471d50a0-0feb-4c42-92f8-50ca05375314",
   "metadata": {},
   "outputs": [
    {
     "data": {
      "text/plain": [
       "array([[-0.47121804,  1.74238779, -0.15699396],\n",
       "       [ 0.02688645,  0.03920101, -0.74346255],\n",
       "       [ 1.15376674, -0.75419811,  0.67429346]])"
      ]
     },
     "execution_count": 4,
     "metadata": {},
     "output_type": "execute_result"
    }
   ],
   "source": [
    "random_matrix = np.random.randn(3, 3)\n",
    "random_matrix"
   ]
  },
  {
   "cell_type": "markdown",
   "id": "0ab56a7e-6be7-49d9-96e5-b9b933cbd012",
   "metadata": {},
   "source": [
    "#### 4.Create an array named even_numbers containing even numbers from 10 to 50 (inclusive)."
   ]
  },
  {
   "cell_type": "code",
   "execution_count": 5,
   "id": "4d3d0ba1-c80c-4c4a-955d-d71a25e2652c",
   "metadata": {},
   "outputs": [
    {
     "data": {
      "text/plain": [
       "array([10, 12, 14, 16, 18, 20, 22, 24, 26, 28, 30, 32, 34, 36, 38, 40, 42,\n",
       "       44, 46, 48, 50])"
      ]
     },
     "execution_count": 5,
     "metadata": {},
     "output_type": "execute_result"
    }
   ],
   "source": [
    "even_numbers = np.arange(10, 51, 2)\n",
    "even_numbers"
   ]
  },
  {
   "cell_type": "markdown",
   "id": "39f1c597-e938-4fd6-9477-3cb7108faa0d",
   "metadata": {},
   "source": [
    "#### 5.Create an array named linspace_array containing 7 equally spaced numbers between 0 and 1 (inclusive)."
   ]
  },
  {
   "cell_type": "code",
   "execution_count": 6,
   "id": "7205e62c-89af-49f4-8287-52ca58135d81",
   "metadata": {},
   "outputs": [
    {
     "data": {
      "text/plain": [
       "array([0.        , 0.16666667, 0.33333333, 0.5       , 0.66666667,\n",
       "       0.83333333, 1.        ])"
      ]
     },
     "execution_count": 6,
     "metadata": {},
     "output_type": "execute_result"
    }
   ],
   "source": [
    "linspace_array  = np.linspace(0, 1, 7)\n",
    "linspace_array "
   ]
  },
  {
   "cell_type": "markdown",
   "id": "a0bcf5c5-4434-4271-aab8-003bb97d67d9",
   "metadata": {},
   "source": [
    "#### 6.Given arr = np.array([[1, 2, 3], [4, 5, 6]]), what is its shape, ndim, and dtype? Print them."
   ]
  },
  {
   "cell_type": "code",
   "execution_count": 7,
   "id": "7a703a9d-1bc3-4161-a66f-7caa55eeb394",
   "metadata": {},
   "outputs": [
    {
     "data": {
      "text/plain": [
       "array([[1, 2, 3],\n",
       "       [4, 5, 6]])"
      ]
     },
     "execution_count": 7,
     "metadata": {},
     "output_type": "execute_result"
    }
   ],
   "source": [
    "arr = np.array([[1, 2, 3], [4, 5, 6]])\n",
    "arr"
   ]
  },
  {
   "cell_type": "code",
   "execution_count": 8,
   "id": "4fcfbf71-42ed-493d-a86d-bb55e84bb0c7",
   "metadata": {},
   "outputs": [
    {
     "data": {
      "text/plain": [
       "dtype('int64')"
      ]
     },
     "execution_count": 8,
     "metadata": {},
     "output_type": "execute_result"
    }
   ],
   "source": [
    "arr.dtype"
   ]
  },
  {
   "cell_type": "code",
   "execution_count": 9,
   "id": "368e6848-b2f0-4641-8c48-e1f00da158f3",
   "metadata": {},
   "outputs": [
    {
     "data": {
      "text/plain": [
       "2"
      ]
     },
     "execution_count": 9,
     "metadata": {},
     "output_type": "execute_result"
    }
   ],
   "source": [
    "arr.ndim"
   ]
  },
  {
   "cell_type": "code",
   "execution_count": 10,
   "id": "43505e25-e453-47cd-a1c5-4bd628909cf8",
   "metadata": {},
   "outputs": [
    {
     "data": {
      "text/plain": [
       "(2, 3)"
      ]
     },
     "execution_count": 10,
     "metadata": {},
     "output_type": "execute_result"
    }
   ],
   "source": [
    "arr.shape"
   ]
  },
  {
   "cell_type": "markdown",
   "id": "f725d0c6-70d6-425c-8e3d-3319bea94cf1",
   "metadata": {},
   "source": [
    "##  <span style=\"color:Brown\">**Part 2: Array Manipulation**</span>"
   ]
  },
  {
   "cell_type": "markdown",
   "id": "fdd0a4ef-c1d7-4399-8c73-58c7777dc821",
   "metadata": {},
   "source": [
    "### 7.Reshape arr1d (from Q1) into a 2x5 2D array. Name the new array reshaped_arr."
   ]
  },
  {
   "cell_type": "markdown",
   "id": "9f3c6fb0-17e8-4e51-ad74-44bc01feeae8",
   "metadata": {},
   "source": [
    "##arr_1d = np.arange(10)\n",
    "reshaped_arr = arr.reshape(2,5)\n",
    "reshaped_arr"
   ]
  },
  {
   "cell_type": "code",
   "execution_count": 11,
   "id": "0fc10bff-938f-4f36-a3d0-20f369369971",
   "metadata": {},
   "outputs": [
    {
     "name": "stdout",
     "output_type": "stream",
     "text": [
      "Original array: [ 1  2  3  4  5  6  7  8  9 10]\n",
      "\n",
      "Reshaped Array:\n",
      " [[ 1  2  3  4  5]\n",
      " [ 6  7  8  9 10]]\n"
     ]
    }
   ],
   "source": [
    "arr = np.arange(1,11)\n",
    "print(\"Original array:\", arr)\n",
    "\n",
    "reshape_arr = arr.reshape((2,5))\n",
    "print(\"\\nReshaped Array:\\n\", reshape_arr)"
   ]
  },
  {
   "cell_type": "markdown",
   "id": "75f8ff66-8331-45ea-9cbc-bd0d860c653e",
   "metadata": {},
   "source": [
    "### 8.Transpose reshaped_arr (from Q7). Name the result transposed_arr."
   ]
  },
  {
   "cell_type": "code",
   "execution_count": 12,
   "id": "39ed950f-d869-477a-a022-1b2d13c8257f",
   "metadata": {},
   "outputs": [
    {
     "name": "stdout",
     "output_type": "stream",
     "text": [
      "transposed_arr:\n",
      " [[ 1  6]\n",
      " [ 2  7]\n",
      " [ 3  8]\n",
      " [ 4  9]\n",
      " [ 5 10]]\n"
     ]
    }
   ],
   "source": [
    "reshape_arr.T\n",
    "print(\"transposed_arr:\\n\", reshape_arr.T)"
   ]
  },
  {
   "cell_type": "markdown",
   "id": "59cb0a5b-a94a-4dea-9de7-9b00d3f3f2e5",
   "metadata": {},
   "source": [
    "transposed_arr = reshape_arr.T"
   ]
  },
  {
   "cell_type": "markdown",
   "id": "00d030cf-1927-4ee2-a02c-1ccf30ae364a",
   "metadata": {},
   "source": [
    "### 9.Stack two 1D arrays a = np.array([1, 2, 3]) and b = np.array([4, 5, 6]) vertically."
   ]
  },
  {
   "cell_type": "code",
   "execution_count": 13,
   "id": "e3179ba8-eeee-4079-ab46-f285377d4465",
   "metadata": {},
   "outputs": [
    {
     "name": "stdout",
     "output_type": "stream",
     "text": [
      "Vertical Stack:\n",
      " [[1 2 3]\n",
      " [4 5 6]]\n"
     ]
    }
   ],
   "source": [
    "a = np.array([1, 2, 3])\n",
    "b = np.array([4, 5, 6]) \n",
    "\n",
    "v_stack = np.vstack((a, b))\n",
    "print(\"Vertical Stack:\\n\", v_stack)"
   ]
  },
  {
   "cell_type": "markdown",
   "id": "db4ec401-1ce5-40ec-9723-4527651b32d3",
   "metadata": {},
   "source": [
    "### 10.Stack two 2D arrays m1 = np.array([[1, 2], [3, 4]]) and m2 = np.array([[5, 6], [7, 8]]) horizontally."
   ]
  },
  {
   "cell_type": "code",
   "execution_count": 14,
   "id": "6e185fe4-b41d-4a4c-9ff6-939c020a3cfe",
   "metadata": {},
   "outputs": [
    {
     "name": "stdout",
     "output_type": "stream",
     "text": [
      "Horizontal Stack:\n",
      " [1 2 3 4 5 6]\n"
     ]
    }
   ],
   "source": [
    "m1 = np.array([[1, 2], [3, 4]]) \n",
    "m2 = np.array([[5, 6], [7, 8]])\n",
    "\n",
    "\n",
    "h_stack = np.hstack((a, b))\n",
    "print(\"Horizontal Stack:\\n\", h_stack)"
   ]
  },
  {
   "cell_type": "markdown",
   "id": "77a5bb35-1571-4289-8875-3a930dd58287",
   "metadata": {},
   "source": [
    "### 11.Split the array arr_to_split = np.arange(16).reshape(4, 4) horizontally into 2 equal parts. Print both parts."
   ]
  },
  {
   "cell_type": "code",
   "execution_count": 15,
   "id": "3747a5f5-9ac2-47f5-936c-638a6c6ec5eb",
   "metadata": {},
   "outputs": [
    {
     "name": "stdout",
     "output_type": "stream",
     "text": [
      "Horizontal Split by 4:\n",
      "\n",
      "[[ 0  1]\n",
      " [ 4  5]\n",
      " [ 8  9]\n",
      " [12 13]]\n",
      "---\n",
      "[[ 2  3]\n",
      " [ 6  7]\n",
      " [10 11]\n",
      " [14 15]]\n",
      "---\n"
     ]
    }
   ],
   "source": [
    "arr_to_split = np.arange(16).reshape(4, 4) \n",
    "h_split = np.hsplit(arr_to_split, 2)\n",
    "print(\"Horizontal Split by 4:\\n\")\n",
    "\n",
    "for part in h_split:\n",
    "    print(part)\n",
    "    print(\"---\")\n"
   ]
  },
  {
   "cell_type": "markdown",
   "id": "4d50698b-c72d-4dc1-9758-9ef064bf0bc0",
   "metadata": {},
   "source": [
    "### 12.Split the array arr_to_split (from Q11) vertically at index 2 (i.e., into two parts: first two rows, and last two rows). Print both parts."
   ]
  },
  {
   "cell_type": "code",
   "execution_count": 16,
   "id": "995b31e0-a4cd-4c92-ad90-1717d084547c",
   "metadata": {},
   "outputs": [
    {
     "name": "stdout",
     "output_type": "stream",
     "text": [
      "Vertical Split by 2:\n",
      " [[0 1 2 3]\n",
      " [4 5 6 7]] \n",
      "---\n",
      " [[ 8  9 10 11]\n",
      " [12 13 14 15]]\n"
     ]
    }
   ],
   "source": [
    "arr_to_split = np.arange(16).reshape(4, 4) \n",
    "v_split = np.vsplit(arr_to_split, 2)\n",
    "print(\"Vertical Split by 2:\\n\", v_split[0], \"\\n---\\n\", v_split[1])"
   ]
  },
  {
   "cell_type": "markdown",
   "id": "2418f165-30f7-43e6-8d04-1d1655b977be",
   "metadata": {},
   "source": [
    "##  <span style=\"color:Brown\">**Part 3: Indexing, Slicing, and Boolean Indexing**</span>"
   ]
  },
  {
   "cell_type": "markdown",
   "id": "5f455b57-712e-4e38-aa5b-266067bea488",
   "metadata": {},
   "source": [
    "### 13.Given data = np.array([[10, 11, 12], [13, 14, 15], [16, 17, 18]]), extract the element at row 1, column 2."
   ]
  },
  {
   "cell_type": "code",
   "execution_count": 17,
   "id": "595a942e-dd4e-4236-9e1b-83008dea7b06",
   "metadata": {},
   "outputs": [
    {
     "data": {
      "text/plain": [
       "np.int64(15)"
      ]
     },
     "execution_count": 17,
     "metadata": {},
     "output_type": "execute_result"
    }
   ],
   "source": [
    "data = np.array([[10, 11, 12], [13, 14, 15], [16, 17, 18]])\n",
    "data [1,2]"
   ]
  },
  {
   "cell_type": "markdown",
   "id": "2d445725-3329-4e07-9056-4a97f2e03acc",
   "metadata": {},
   "source": [
    "### 14.From the data array (from Q13), extract the first two rows and all columns."
   ]
  },
  {
   "cell_type": "code",
   "execution_count": 18,
   "id": "453833b6-7c1a-4a49-a6b7-967f80f538c9",
   "metadata": {},
   "outputs": [
    {
     "data": {
      "text/plain": [
       "array([[10, 11, 12],\n",
       "       [13, 14, 15]])"
      ]
     },
     "execution_count": 18,
     "metadata": {},
     "output_type": "execute_result"
    }
   ],
   "source": [
    "data [0:2, :]"
   ]
  },
  {
   "cell_type": "markdown",
   "id": "b119eeec-f5a1-4d67-a32c-e1fdbc660b6b",
   "metadata": {},
   "source": [
    "### 15.From the data array (from Q13), extract the elements 11, 15, and 17 using fancy indexing (hint: you'll need to specify rows and columns)."
   ]
  },
  {
   "cell_type": "code",
   "execution_count": 19,
   "id": "09506dd5-248e-4f82-8607-138320f3755f",
   "metadata": {},
   "outputs": [
    {
     "data": {
      "text/plain": [
       "array([11, 15, 17])"
      ]
     },
     "execution_count": 19,
     "metadata": {},
     "output_type": "execute_result"
    }
   ],
   "source": [
    "data[[0,1,2],[1,2,1]]"
   ]
  },
  {
   "cell_type": "markdown",
   "id": "4019e61d-2258-499b-8cc8-f5e49ce36c27",
   "metadata": {},
   "source": [
    "### 16.Given scores = np.array([85, 92, 78, 65, 95, 88]), use boolean indexing to find all scores greater than 80."
   ]
  },
  {
   "cell_type": "code",
   "execution_count": 20,
   "id": "75f42ae6-1db3-4acf-9156-f7c18f1ea21b",
   "metadata": {},
   "outputs": [
    {
     "name": "stdout",
     "output_type": "stream",
     "text": [
      "Highest scores: [85 92 95 88]\n"
     ]
    }
   ],
   "source": [
    "scores = np.array([85, 92, 78, 65, 95, 88])\n",
    "#print(\"Max scores:\", np.max(scores>80))\n",
    "High_scores = scores[scores>80]\n",
    "print(\"Highest scores:\", High_scores)"
   ]
  },
  {
   "cell_type": "markdown",
   "id": "d57958f0-9931-4561-80f5-c12c332f51fc",
   "metadata": {},
   "source": [
    "##  <span style=\"color:Brown\">**Part 4: Numerical Operations and Aggregations**</span>"
   ]
  },
  {
   "cell_type": "markdown",
   "id": "49a03277-1f8d-4161-9e8d-7e45cd14b0b9",
   "metadata": {},
   "source": [
    "### 17.Given arr_op1 = np.array([10, 20, 30]) and arr_op2 = np.array([2, 4, 6]), perform element-wise multiplication and division (arr_op1 / arr_op2)."
   ]
  },
  {
   "cell_type": "code",
   "execution_count": 21,
   "id": "03de2ae1-17a5-46ff-8b13-0a18b4281e18",
   "metadata": {},
   "outputs": [
    {
     "name": "stdout",
     "output_type": "stream",
     "text": [
      "\n",
      "Array 1: [10 20 30]\n",
      "\n",
      "Array 2: [2 4 6]\n",
      "---\n",
      "Multiplication: [ 20  80 180]\n",
      "Division: [5. 5. 5.]\n"
     ]
    }
   ],
   "source": [
    "arr_op1 = np.array([10, 20, 30]) \n",
    "arr_op2 = np.array([2, 4, 6])\n",
    "\n",
    "print(\"\\nArray 1:\", arr_op1)\n",
    "print(\"\\nArray 2:\", arr_op2)\n",
    "\n",
    "print(\"---\")\n",
    "\n",
    "print(\"Multiplication:\",  arr_op1 * arr_op2)\n",
    "print(\"Division:\",  arr_op1 / arr_op2)\n"
   ]
  },
  {
   "cell_type": "markdown",
   "id": "05e9675e-619d-43bb-8705-a164000f19d1",
   "metadata": {},
   "source": [
    "### 18.Given matrix = np.array([[1, 2, 3], [4, 5, 6], [7, 8, 9]]), calculate the sum of all elements in the matrix."
   ]
  },
  {
   "cell_type": "code",
   "execution_count": 22,
   "id": "7645ca6a-b8d9-4f15-a4f7-7115a6c32f57",
   "metadata": {},
   "outputs": [
    {
     "data": {
      "text/plain": [
       "np.int64(45)"
      ]
     },
     "execution_count": 22,
     "metadata": {},
     "output_type": "execute_result"
    }
   ],
   "source": [
    "matrix = np.array([[1, 2, 3], [4, 5, 6], [7, 8, 9]])\n",
    "matrix.sum()"
   ]
  },
  {
   "cell_type": "markdown",
   "id": "c06497f7-0b32-4fef-be69-d325333fdd6e",
   "metadata": {},
   "source": [
    "### 19.From the matrix (from Q18), calculate the mean of each column.\n"
   ]
  },
  {
   "cell_type": "code",
   "execution_count": 23,
   "id": "aabc9f82-7591-49a9-b9dd-199fe57793eb",
   "metadata": {},
   "outputs": [
    {
     "name": "stdout",
     "output_type": "stream",
     "text": [
      "Mean of each column: [4. 5. 6.]\n"
     ]
    }
   ],
   "source": [
    "column_means = np.mean(matrix, axis=0)\n",
    "print(\"Mean of each column:\", column_means)"
   ]
  },
  {
   "cell_type": "markdown",
   "id": "ad2ea6cf-9fdf-4ab5-9a33-6cf326e4df5d",
   "metadata": {},
   "source": [
    "### 20.Given price_array = np.array([100, 150, 200, 250]) and discount_percentage = 0.10, apply a 10% discount to all prices using broadcasting."
   ]
  },
  {
   "cell_type": "code",
   "execution_count": 24,
   "id": "1df07bcd-7b2a-441f-982b-602100678140",
   "metadata": {},
   "outputs": [
    {
     "name": "stdout",
     "output_type": "stream",
     "text": [
      "Discounted prices: [ 90. 135. 180. 225.]\n"
     ]
    }
   ],
   "source": [
    "price_array = np.array([100, 150, 200, 250]) \n",
    "discount_percentage = 0.10\n",
    "Discounted_prices = price_array * (1 - discount_percentage)\n",
    "print(\"Discounted prices:\", Discounted_prices)"
   ]
  }
 ],
 "metadata": {
  "kernelspec": {
   "display_name": "Python 3 (ipykernel)",
   "language": "python",
   "name": "python3"
  },
  "language_info": {
   "codemirror_mode": {
    "name": "ipython",
    "version": 3
   },
   "file_extension": ".py",
   "mimetype": "text/x-python",
   "name": "python",
   "nbconvert_exporter": "python",
   "pygments_lexer": "ipython3",
   "version": "3.13.3"
  }
 },
 "nbformat": 4,
 "nbformat_minor": 5
}
