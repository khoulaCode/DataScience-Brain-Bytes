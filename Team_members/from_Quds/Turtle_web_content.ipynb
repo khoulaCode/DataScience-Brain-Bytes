{
 "cells": [
  {
   "cell_type": "code",
   "execution_count": 25,
   "id": "84c69eb0-6d6b-49bb-ad00-5d20396460f9",
   "metadata": {},
   "outputs": [],
   "source": [
    "import requests #-->To make HTTP requests to web pages\n",
    "import pandas as pd"
   ]
  },
  {
   "cell_type": "code",
   "execution_count": 2,
   "id": "7bafba0b-9b55-4fd2-94f4-4f00ee4e86ab",
   "metadata": {},
   "outputs": [
    {
     "name": "stdout",
     "output_type": "stream",
     "text": [
      "<Response [200]>\n"
     ]
    }
   ],
   "source": [
    "url = \"https://www.scrapethissite.com/pages/frames/\"\n",
    "response = requests.get(url)\n",
    "print(response) "
   ]
  },
  {
   "cell_type": "code",
   "execution_count": 3,
   "id": "cfde5da1-bf56-4f4a-be49-6c7e5ff25460",
   "metadata": {},
   "outputs": [
    {
     "data": {
      "text/plain": [
       "200"
      ]
     },
     "execution_count": 3,
     "metadata": {},
     "output_type": "execute_result"
    }
   ],
   "source": [
    "response.status_code  # to check the code it it is correct-->if it is 200 then is "
   ]
  },
  {
   "cell_type": "code",
   "execution_count": 4,
   "id": "a09a1152-ae13-4978-b9dd-a9a6c9238112",
   "metadata": {},
   "outputs": [
    {
     "data": {
      "text/plain": [
       "b'<!doctype html>\\n<html lang=\"en\">\\n  <head>\\n    <meta charset=\"utf-8\">\\n    <title>Turtles All the Way Down: Frames &amp; iFrames | Scrape This Site | A public sandbox for learning web scraping</title>\\n    <link rel=\"icon\" type=\"image/png\" href=\"/static/images/scraper-icon.png\" />\\n\\n    <meta name=\"viewport\" content=\"width=device-width, initial-scale=1.0\">\\n    <meta name=\"description\" content=\"Some older sites might still use frames to break up thier pages. Modern ones might be using iFrames to expose data. Learn about turtles as you scrape content inside frames.\">\\n\\n    <link href=\"https://maxcdn.bootstrapcdn.com/bootstrap/3.3.5/css/bootstrap.min.css\" rel=\"stylesheet\" integrity=\"sha256-MfvZlkHCEqatNoGiOXveE8FIwMzZg4W85qfrfIFBfYc= sha512-dTfge/zgoMYpP7QbHy4gWMEGsbsdZeCXz7irItjcC3sPUFtf0kuFbDz/ixG7ArTxmDjLXDmezHubeNikyKGVyQ==\" crossorigin=\"anonymous\">\\n    <link href=\\'https://fonts.googleapis.com/css?family=Lato:400,700\\' rel=\\'stylesheet\\' type=\\'text/css\\'>\\n    <link rel=\"stylesheet\" type=\"text/css\" href=\"/static/css/styles.css\">\\n\\n    \\n<meta name=\"robots\" content=\"noindex\">\\n<link href=\"https://lipis.github.io/flag-icon-css/css/flag-icon.css\" rel=\"stylesheet\">\\n\\n\\n  </head>\\n\\n  <body>\\n    <nav id=\"site-nav\">\\n            <div class=\"container\">\\n                <div class=\"col-md-12\">\\n                    <ul class=\"nav nav-tabs\">\\n                        <li id=\"nav-homepage\">\\n                            <a href=\"/\" class=\"nav-link hidden-sm hidden-xs\">\\n                                <img src=\"/static/images/scraper-icon.png\" id=\"nav-logo\">\\n                                Scrape This Site\\n                            </a>\\n                        </li>\\n                        <li id=\"nav-sandbox\">\\n                            <a href=\"/pages/\" class=\"nav-link\">\\n                                <i class=\"glyphicon glyphicon-console hidden-sm hidden-xs\"></i>\\n                                Sandbox\\n                            </a>\\n                        </li>\\n                        <li id=\"nav-lessons\">\\n                            <a href=\"/lessons/\" class=\"nav-link\">\\n                                <i class=\"glyphicon glyphicon-education hidden-sm hidden-xs\"></i>\\n                                Lessons\\n                            </a>\\n                        </li>\\n                        <li id=\"nav-faq\">\\n                            <a href=\"/faq/\" class=\"nav-link\">\\n                                <i class=\"glyphicon glyphicon-flag hidden-sm hidden-xs\"></i>\\n                                FAQ\\n                            </a>\\n                        </li>\\n                        \\n                        <li id=\"nav-login\" class=\"pull-right\">\\n                            <a href=\"/login/\" class=\"nav-link\">\\n                                Login\\n                            </a>\\n                        </li>\\n                        \\n                    </ul>\\n                </div>\\n            </div>\\n        </nav>\\n\\n        <script type=\"text/javascript\">\\n            var path = document.location.pathname;\\n            var tab = undefined;\\n            if (path === \"/\"){\\n                tab = document.querySelector(\"#nav-homepage\");\\n            } else if (path.indexOf(\"/faq/\") === 0){\\n                tab = document.querySelector(\"#nav-faq\");\\n            } else if (path.indexOf(\"/lessons/\") === 0){\\n                tab = document.querySelector(\"#nav-lessons\");\\n            } else if (path.indexOf(\"/pages/\") === 0) {\\n                tab = document.querySelector(\"#nav-sandbox\");\\n            } else if (path.indexOf(\"/login/\") === 0) {\\n                tab = document.querySelector(\"#nav-login\");\\n            }\\n            tab.classList.add(\"active\")\\n        </script>\\n\\n    \\n\\n    \\n\\n        <div id=\"page\">\\n\\n            <section id=\"frames\">\\n                <div class=\"container\">\\n\\n                    <div class=\"row\">\\n                    <div class=\"col-md-12\">\\n                        <h1>\\n                            Turtles All the Way Down: Frames &amp; iFrames\\n                            <small>14 items</small>\\n                        </h1>\\n                        <hr />\\n                    </div>\\n                </div>\\n                <div class=\"row\">\\n                    <div class=\"col-md-12\">\\n                        <p class=\"lead\">\\n                            Some older sites might still use frames to break up thier pages. Modern ones might be using iFrames to expose data. Learn about turtles as you scrape content inside frames.\\n                            See if you can find the &#39;real&#39; URL that our content is being loaded from, and scrape that page. Also practice interating over a list of items and loading their detail pages to get more information about each one.\\n                        </p>\\n                        <hr />\\n                    </div>\\n                </div>\\n                <div class=\"row\">\\n                    <div class=\"col-md-6\">\\n                        <p>\\n                            <i class=\"glyphicon glyphicon-education\"></i> There are <a href=\"/lessons/\">3 video lessons</a> that show you how to scrape this page.\\n                        </p>\\n                        <hr />\\n                    </div>\\n                    <div class=\"col-md-6 text-right\">\\n                        <p>\\n                            \\n                                Data via\\n                                <a href=\"https://en.wikipedia.org/wiki/List_of_Testudines_families\" class=\"data-attribution\" target=\"_blank\">https://en.wikipedia.org/wiki/List_of_Testudines_families</a>\\n                            \\n                        </p>\\n                        <hr />\\n                    </div>\\n                </div>\\n\\n                    <div class=\"row\">\\n                        <div class=\"col-md-12\">\\n                            <frameset rows=\"10%,80%,10%\">\\n                                <frame name=\"top\" src=\"/pages/frames/?frame=top\" />\\n                                <frame name=\"main\" src=\"/pages/frames/?frame=main\" />\\n                                <frame name=\"bottom\" src=\"/pages/frames/frame=bottom\" />\\n                                <noframes>\\n                                        Your browser does not support frames.\\n                                </noframes>\\n                            </frameset>\\n\\n                            <iframe src=\"/pages/frames/?frame=i\" id=\"iframe\">\\n                                Your browser does not support iframes\\n                            </iframe>\\n\\n                        </div><!--.col-->\\n                    </div><!--.row-->\\n\\n                </div><!--.container-->\\n            </section>\\n\\n        </div><!--#page-->\\n\\n    \\n\\n\\n    <section id=\"footer\">\\n        <div class=\"container\">\\n            <div class=\"row\">\\n                <div class=\"col-md-12 text-center text-muted\">\\n                    Lessons and Videos &copy; Hartley Brody 2023\\n                </div><!--.col-->\\n            </div><!--.row-->\\n        </div><!--.container-->\\n    </section>\\n  </body>\\n\\n  <script src=\"https://ajax.googleapis.com/ajax/libs/jquery/1.11.3/jquery.min.js\"></script>\\n  <script src=\"https://maxcdn.bootstrapcdn.com/bootstrap/3.3.5/js/bootstrap.min.js\" integrity=\"sha256-Sk3nkD6mLTMOF0EOpNtsIry+s1CsaqQC1rVLTAy+0yc= sha512-K1qjQ+NcF2TYO/eI3M6v8EiNYZfA95pQumfvcVrTHtwQVDG+aHRqLi/ETn2uB+1JqwYqVG3LIvdm9lj6imS/pQ==\" crossorigin=\"anonymous\"></script>\\n\\n  \\n\\n  <script src=\"https://cdnjs.cloudflare.com/ajax/libs/pnotify/2.1.0/pnotify.core.min.js\"></script>\\n  <link href=\"https://cdnjs.cloudflare.com/ajax/libs/pnotify/2.1.0/pnotify.core.min.css\" rel=\"stylesheet\" type=\"text/css\">\\n\\n  <!-- pnotify messages -->\\n  <script type=\"text/javascript\">\\n    \\n    PNotify.prototype.options.styling = \"bootstrap3\";\\n    $(function(){\\n      \\n    });\\n    \\n\\n    $(function () {\\n      $(\\'[data-toggle=\"tooltip\"]\\').tooltip()\\n    })\\n  </script>\\n\\n  <!-- golbal video controls -->\\n  <script type=\"text/javascript\">\\n    $(\"video\").hover(function() {\\n        $(this).prop(\"controls\", true);\\n    }, function() {\\n        $(this).prop(\"controls\", false);\\n    });\\n\\n    $(\"video\").click(function() {\\n        if( this.paused){\\n            this.play();\\n        }\\n        else {\\n            this.pause();\\n        }\\n    });\\n    </script>\\n\\n  <!-- insert google analytics here -->\\n  <script>\\n    (function(i,s,o,g,r,a,m){i[\\'GoogleAnalyticsObject\\']=r;i[r]=i[r]||function(){\\n    (i[r].q=i[r].q||[]).push(arguments)},i[r].l=1*new Date();a=s.createElement(o),\\n    m=s.getElementsByTagName(o)[0];a.async=1;a.src=g;m.parentNode.insertBefore(a,m)\\n    })(window,document,\\'script\\',\\'https://www.google-analytics.com/analytics.js\\',\\'ga\\');\\n\\n    ga(\\'create\\', \\'UA-41551755-8\\', \\'auto\\');\\n    ga(\\'send\\', \\'pageview\\');\\n  </script>\\n\\n  <!-- Facebook Pixel Code -->\\n  <script>\\n  !function(f,b,e,v,n,t,s){if(f.fbq)return;n=f.fbq=function(){n.callMethod?\\n  n.callMethod.apply(n,arguments):n.queue.push(arguments)};if(!f._fbq)f._fbq=n;\\n  n.push=n;n.loaded=!0;n.version=\\'2.0\\';n.queue=[];t=b.createElement(e);t.async=!0;\\n  t.src=v;s=b.getElementsByTagName(e)[0];s.parentNode.insertBefore(t,s)}(window,\\n  document,\\'script\\',\\'https://connect.facebook.net/en_US/fbevents.js\\');\\n\\n  fbq(\\'init\\', \\'764287443701341\\');\\n  fbq(\\'track\\', \"PageView\");</script>\\n  <noscript><img height=\"1\" width=\"1\" style=\"display:none\"\\n  src=\"https://www.facebook.com/tr?id=764287443701341&ev=PageView&noscript=1\"\\n  /></noscript>\\n  <!-- End Facebook Pixel Code -->\\n\\n  <!-- Google Code for Remarketing Tag -->\\n  <script type=\"text/javascript\">\\n    /* <![CDATA[ */\\n    var google_conversion_id = 950945448;\\n    var google_custom_params = window.google_tag_params;\\n    var google_remarketing_only = true;\\n    /* ]]> */\\n    </script>\\n    <script type=\"text/javascript\" src=\"//www.googleadservices.com/pagead/conversion.js\">\\n    </script>\\n    <noscript>\\n    <div style=\"display:inline;\">\\n    <img height=\"1\" width=\"1\" style=\"border-style:none;\" alt=\"\" src=\"//googleads.g.doubleclick.net/pagead/viewthroughconversion/950945448/?guid=ON&amp;script=0\"/>\\n    </div>\\n  </noscript>\\n\\n  <!-- Global site tag (gtag.js) - Google AdWords: 950945448 -->\\n  <script async src=\"https://www.googletagmanager.com/gtag/js?id=AW-950945448\"></script>\\n  <script>\\n   window.dataLayer = window.dataLayer || [];\\n   function gtag(){dataLayer.push(arguments);}\\n   gtag(\\'js\\', new Date());\\n\\n   gtag(\\'config\\', \\'AW-950945448\\');\\n  </script>\\n\\n</html>'"
      ]
     },
     "execution_count": 4,
     "metadata": {},
     "output_type": "execute_result"
    }
   ],
   "source": [
    "response.content #-->the html  (it will as bytes the saved in the memory"
   ]
  },
  {
   "cell_type": "code",
   "execution_count": 5,
   "id": "bec1a29a-1792-4351-975b-88589cf3e948",
   "metadata": {},
   "outputs": [
    {
     "data": {
      "text/plain": [
       "'<!doctype html>\\n<html lang=\"en\">\\n  <head>\\n    <meta charset=\"utf-8\">\\n    <title>Turtles All the Way Down: Frames &amp; iFrames | Scrape This Site | A public sandbox for learning web scraping</title>\\n    <link rel=\"icon\" type=\"image/png\" href=\"/static/images/scraper-icon.png\" />\\n\\n    <meta name=\"viewport\" content=\"width=device-width, initial-scale=1.0\">\\n    <meta name=\"description\" content=\"Some older sites might still use frames to break up thier pages. Modern ones might be using iFrames to expose data. Learn about turtles as you scrape content inside frames.\">\\n\\n    <link href=\"https://maxcdn.bootstrapcdn.com/bootstrap/3.3.5/css/bootstrap.min.css\" rel=\"stylesheet\" integrity=\"sha256-MfvZlkHCEqatNoGiOXveE8FIwMzZg4W85qfrfIFBfYc= sha512-dTfge/zgoMYpP7QbHy4gWMEGsbsdZeCXz7irItjcC3sPUFtf0kuFbDz/ixG7ArTxmDjLXDmezHubeNikyKGVyQ==\" crossorigin=\"anonymous\">\\n    <link href=\\'https://fonts.googleapis.com/css?family=Lato:400,700\\' rel=\\'stylesheet\\' type=\\'text/css\\'>\\n    <link rel=\"stylesheet\" type=\"text/css\" href=\"/static/css/styles.css\">\\n\\n    \\n<meta name=\"robots\" content=\"noindex\">\\n<link href=\"https://lipis.github.io/flag-icon-css/css/flag-icon.css\" rel=\"stylesheet\">\\n\\n\\n  </head>\\n\\n  <body>\\n    <nav id=\"site-nav\">\\n            <div class=\"container\">\\n                <div class=\"col-md-12\">\\n                    <ul class=\"nav nav-tabs\">\\n                        <li id=\"nav-homepage\">\\n                            <a href=\"/\" class=\"nav-link hidden-sm hidden-xs\">\\n                                <img src=\"/static/images/scraper-icon.png\" id=\"nav-logo\">\\n                                Scrape This Site\\n                            </a>\\n                        </li>\\n                        <li id=\"nav-sandbox\">\\n                            <a href=\"/pages/\" class=\"nav-link\">\\n                                <i class=\"glyphicon glyphicon-console hidden-sm hidden-xs\"></i>\\n                                Sandbox\\n                            </a>\\n                        </li>\\n                        <li id=\"nav-lessons\">\\n                            <a href=\"/lessons/\" class=\"nav-link\">\\n                                <i class=\"glyphicon glyphicon-education hidden-sm hidden-xs\"></i>\\n                                Lessons\\n                            </a>\\n                        </li>\\n                        <li id=\"nav-faq\">\\n                            <a href=\"/faq/\" class=\"nav-link\">\\n                                <i class=\"glyphicon glyphicon-flag hidden-sm hidden-xs\"></i>\\n                                FAQ\\n                            </a>\\n                        </li>\\n                        \\n                        <li id=\"nav-login\" class=\"pull-right\">\\n                            <a href=\"/login/\" class=\"nav-link\">\\n                                Login\\n                            </a>\\n                        </li>\\n                        \\n                    </ul>\\n                </div>\\n            </div>\\n        </nav>\\n\\n        <script type=\"text/javascript\">\\n            var path = document.location.pathname;\\n            var tab = undefined;\\n            if (path === \"/\"){\\n                tab = document.querySelector(\"#nav-homepage\");\\n            } else if (path.indexOf(\"/faq/\") === 0){\\n                tab = document.querySelector(\"#nav-faq\");\\n            } else if (path.indexOf(\"/lessons/\") === 0){\\n                tab = document.querySelector(\"#nav-lessons\");\\n            } else if (path.indexOf(\"/pages/\") === 0) {\\n                tab = document.querySelector(\"#nav-sandbox\");\\n            } else if (path.indexOf(\"/login/\") === 0) {\\n                tab = document.querySelector(\"#nav-login\");\\n            }\\n            tab.classList.add(\"active\")\\n        </script>\\n\\n    \\n\\n    \\n\\n        <div id=\"page\">\\n\\n            <section id=\"frames\">\\n                <div class=\"container\">\\n\\n                    <div class=\"row\">\\n                    <div class=\"col-md-12\">\\n                        <h1>\\n                            Turtles All the Way Down: Frames &amp; iFrames\\n                            <small>14 items</small>\\n                        </h1>\\n                        <hr />\\n                    </div>\\n                </div>\\n                <div class=\"row\">\\n                    <div class=\"col-md-12\">\\n                        <p class=\"lead\">\\n                            Some older sites might still use frames to break up thier pages. Modern ones might be using iFrames to expose data. Learn about turtles as you scrape content inside frames.\\n                            See if you can find the &#39;real&#39; URL that our content is being loaded from, and scrape that page. Also practice interating over a list of items and loading their detail pages to get more information about each one.\\n                        </p>\\n                        <hr />\\n                    </div>\\n                </div>\\n                <div class=\"row\">\\n                    <div class=\"col-md-6\">\\n                        <p>\\n                            <i class=\"glyphicon glyphicon-education\"></i> There are <a href=\"/lessons/\">3 video lessons</a> that show you how to scrape this page.\\n                        </p>\\n                        <hr />\\n                    </div>\\n                    <div class=\"col-md-6 text-right\">\\n                        <p>\\n                            \\n                                Data via\\n                                <a href=\"https://en.wikipedia.org/wiki/List_of_Testudines_families\" class=\"data-attribution\" target=\"_blank\">https://en.wikipedia.org/wiki/List_of_Testudines_families</a>\\n                            \\n                        </p>\\n                        <hr />\\n                    </div>\\n                </div>\\n\\n                    <div class=\"row\">\\n                        <div class=\"col-md-12\">\\n                            <frameset rows=\"10%,80%,10%\">\\n                                <frame name=\"top\" src=\"/pages/frames/?frame=top\" />\\n                                <frame name=\"main\" src=\"/pages/frames/?frame=main\" />\\n                                <frame name=\"bottom\" src=\"/pages/frames/frame=bottom\" />\\n                                <noframes>\\n                                        Your browser does not support frames.\\n                                </noframes>\\n                            </frameset>\\n\\n                            <iframe src=\"/pages/frames/?frame=i\" id=\"iframe\">\\n                                Your browser does not support iframes\\n                            </iframe>\\n\\n                        </div><!--.col-->\\n                    </div><!--.row-->\\n\\n                </div><!--.container-->\\n            </section>\\n\\n        </div><!--#page-->\\n\\n    \\n\\n\\n    <section id=\"footer\">\\n        <div class=\"container\">\\n            <div class=\"row\">\\n                <div class=\"col-md-12 text-center text-muted\">\\n                    Lessons and Videos &copy; Hartley Brody 2023\\n                </div><!--.col-->\\n            </div><!--.row-->\\n        </div><!--.container-->\\n    </section>\\n  </body>\\n\\n  <script src=\"https://ajax.googleapis.com/ajax/libs/jquery/1.11.3/jquery.min.js\"></script>\\n  <script src=\"https://maxcdn.bootstrapcdn.com/bootstrap/3.3.5/js/bootstrap.min.js\" integrity=\"sha256-Sk3nkD6mLTMOF0EOpNtsIry+s1CsaqQC1rVLTAy+0yc= sha512-K1qjQ+NcF2TYO/eI3M6v8EiNYZfA95pQumfvcVrTHtwQVDG+aHRqLi/ETn2uB+1JqwYqVG3LIvdm9lj6imS/pQ==\" crossorigin=\"anonymous\"></script>\\n\\n  \\n\\n  <script src=\"https://cdnjs.cloudflare.com/ajax/libs/pnotify/2.1.0/pnotify.core.min.js\"></script>\\n  <link href=\"https://cdnjs.cloudflare.com/ajax/libs/pnotify/2.1.0/pnotify.core.min.css\" rel=\"stylesheet\" type=\"text/css\">\\n\\n  <!-- pnotify messages -->\\n  <script type=\"text/javascript\">\\n    \\n    PNotify.prototype.options.styling = \"bootstrap3\";\\n    $(function(){\\n      \\n    });\\n    \\n\\n    $(function () {\\n      $(\\'[data-toggle=\"tooltip\"]\\').tooltip()\\n    })\\n  </script>\\n\\n  <!-- golbal video controls -->\\n  <script type=\"text/javascript\">\\n    $(\"video\").hover(function() {\\n        $(this).prop(\"controls\", true);\\n    }, function() {\\n        $(this).prop(\"controls\", false);\\n    });\\n\\n    $(\"video\").click(function() {\\n        if( this.paused){\\n            this.play();\\n        }\\n        else {\\n            this.pause();\\n        }\\n    });\\n    </script>\\n\\n  <!-- insert google analytics here -->\\n  <script>\\n    (function(i,s,o,g,r,a,m){i[\\'GoogleAnalyticsObject\\']=r;i[r]=i[r]||function(){\\n    (i[r].q=i[r].q||[]).push(arguments)},i[r].l=1*new Date();a=s.createElement(o),\\n    m=s.getElementsByTagName(o)[0];a.async=1;a.src=g;m.parentNode.insertBefore(a,m)\\n    })(window,document,\\'script\\',\\'https://www.google-analytics.com/analytics.js\\',\\'ga\\');\\n\\n    ga(\\'create\\', \\'UA-41551755-8\\', \\'auto\\');\\n    ga(\\'send\\', \\'pageview\\');\\n  </script>\\n\\n  <!-- Facebook Pixel Code -->\\n  <script>\\n  !function(f,b,e,v,n,t,s){if(f.fbq)return;n=f.fbq=function(){n.callMethod?\\n  n.callMethod.apply(n,arguments):n.queue.push(arguments)};if(!f._fbq)f._fbq=n;\\n  n.push=n;n.loaded=!0;n.version=\\'2.0\\';n.queue=[];t=b.createElement(e);t.async=!0;\\n  t.src=v;s=b.getElementsByTagName(e)[0];s.parentNode.insertBefore(t,s)}(window,\\n  document,\\'script\\',\\'https://connect.facebook.net/en_US/fbevents.js\\');\\n\\n  fbq(\\'init\\', \\'764287443701341\\');\\n  fbq(\\'track\\', \"PageView\");</script>\\n  <noscript><img height=\"1\" width=\"1\" style=\"display:none\"\\n  src=\"https://www.facebook.com/tr?id=764287443701341&ev=PageView&noscript=1\"\\n  /></noscript>\\n  <!-- End Facebook Pixel Code -->\\n\\n  <!-- Google Code for Remarketing Tag -->\\n  <script type=\"text/javascript\">\\n    /* <![CDATA[ */\\n    var google_conversion_id = 950945448;\\n    var google_custom_params = window.google_tag_params;\\n    var google_remarketing_only = true;\\n    /* ]]> */\\n    </script>\\n    <script type=\"text/javascript\" src=\"//www.googleadservices.com/pagead/conversion.js\">\\n    </script>\\n    <noscript>\\n    <div style=\"display:inline;\">\\n    <img height=\"1\" width=\"1\" style=\"border-style:none;\" alt=\"\" src=\"//googleads.g.doubleclick.net/pagead/viewthroughconversion/950945448/?guid=ON&amp;script=0\"/>\\n    </div>\\n  </noscript>\\n\\n  <!-- Global site tag (gtag.js) - Google AdWords: 950945448 -->\\n  <script async src=\"https://www.googletagmanager.com/gtag/js?id=AW-950945448\"></script>\\n  <script>\\n   window.dataLayer = window.dataLayer || [];\\n   function gtag(){dataLayer.push(arguments);}\\n   gtag(\\'js\\', new Date());\\n\\n   gtag(\\'config\\', \\'AW-950945448\\');\\n  </script>\\n\\n</html>'"
      ]
     },
     "execution_count": 5,
     "metadata": {},
     "output_type": "execute_result"
    }
   ],
   "source": [
    "response.text  #to get the exact content but as a text"
   ]
  },
  {
   "cell_type": "code",
   "execution_count": 6,
   "id": "8d98b062-87ce-4ec7-8580-ffcc21e88247",
   "metadata": {},
   "outputs": [
    {
     "data": {
      "text/plain": [
       "{'Date': 'Wed, 23 Jul 2025 03:37:43 GMT', 'Content-Type': 'text/html; charset=utf-8', 'Transfer-Encoding': 'chunked', 'Connection': 'keep-alive', 'Nel': '{\"report_to\":\"heroku-nel\",\"response_headers\":[\"Via\"],\"max_age\":3600,\"success_fraction\":0.01,\"failure_fraction\":0.1}', 'Report-To': '{\"group\":\"heroku-nel\",\"endpoints\":[{\"url\":\"https://nel.heroku.com/reports?s=O7Ey%2B1R6JEQ1GVLwuQwO5SNo8o844VdOY2V7eiqTNVk%3D\\\\u0026sid=67ff5de4-ad2b-4112-9289-cf96be89efed\\\\u0026ts=1753241863\"}],\"max_age\":3600}', 'Reporting-Endpoints': 'heroku-nel=\"https://nel.heroku.com/reports?s=O7Ey%2B1R6JEQ1GVLwuQwO5SNo8o844VdOY2V7eiqTNVk%3D&sid=67ff5de4-ad2b-4112-9289-cf96be89efed&ts=1753241863\"', 'Server': 'cloudflare', 'Via': '1.1 heroku-router', 'Cf-Cache-Status': 'DYNAMIC', 'Content-Encoding': 'gzip', 'CF-RAY': '9638240e09e170eb-MRS', 'alt-svc': 'h3=\":443\"; ma=86400'}"
      ]
     },
     "execution_count": 6,
     "metadata": {},
     "output_type": "execute_result"
    }
   ],
   "source": [
    "response.headers #to know the header of the html page"
   ]
  },
  {
   "cell_type": "code",
   "execution_count": 7,
   "id": "ed42dffd-92ac-495c-9dc7-351fd4278901",
   "metadata": {},
   "outputs": [
    {
     "data": {
      "text/plain": [
       "'Wed, 23 Jul 2025 03:37:43 GMT'"
      ]
     },
     "execution_count": 7,
     "metadata": {},
     "output_type": "execute_result"
    }
   ],
   "source": [
    "response.headers['Date'] #--> to get inside the key or if i want to get the exact key  #the date im openeing the page"
   ]
  },
  {
   "cell_type": "code",
   "execution_count": 8,
   "id": "907a9c38-990b-4698-ad33-c4927a74058f",
   "metadata": {},
   "outputs": [
    {
     "name": "stdout",
     "output_type": "stream",
     "text": [
      "Requirement already satisfied: beautifulsoup4 in c:\\python313\\lib\\site-packages (4.13.4)\n",
      "Requirement already satisfied: soupsieve>1.2 in c:\\python313\\lib\\site-packages (from beautifulsoup4) (2.7)\n",
      "Requirement already satisfied: typing-extensions>=4.0.0 in c:\\python313\\lib\\site-packages (from beautifulsoup4) (4.14.0)\n"
     ]
    }
   ],
   "source": [
    "!pip install beautifulsoup4"
   ]
  },
  {
   "cell_type": "code",
   "execution_count": 16,
   "id": "89f007a9-88ff-42b3-a957-d00b67f5ee31",
   "metadata": {},
   "outputs": [],
   "source": [
    "from bs4 import BeautifulSoup\n",
    "import re"
   ]
  },
  {
   "cell_type": "code",
   "execution_count": 17,
   "id": "1e96058a-aa41-46c0-b1d7-5596c2192948",
   "metadata": {},
   "outputs": [],
   "source": [
    "response.raise_for_status()  #raise to the error handling the error (instead of geting error it will give like try and except(show message of the error)\n",
    "soup = BeautifulSoup(response.text, 'html.parser') #calling the function of beautiful soup  / i want specific content from the page so i used parser (analyzer) it is exist in the bs -->it  convert it to text"
   ]
  },
  {
   "cell_type": "code",
   "execution_count": 18,
   "id": "e6fd54ff-8eb8-4b73-876f-3e1404e7e0b6",
   "metadata": {},
   "outputs": [
    {
     "data": {
      "text/plain": [
       "200"
      ]
     },
     "execution_count": 18,
     "metadata": {},
     "output_type": "execute_result"
    }
   ],
   "source": [
    "response.status_code"
   ]
  },
  {
   "cell_type": "code",
   "execution_count": 19,
   "id": "62159209-befe-4f6c-b9c1-d9be319cf410",
   "metadata": {},
   "outputs": [
    {
     "name": "stdout",
     "output_type": "stream",
     "text": [
      "Found iframe Successfully: https://www.scrapethissite.com/pages/frames/?frame=i\n"
     ]
    }
   ],
   "source": [
    "#find and add the iframe path to the main url\n",
    "iframe_tag = soup.find(\"iframe\")\n",
    "if iframe_tag:\n",
    "    iframe_url = \"https://www.scrapethissite.com\" + iframe_tag.get(\"src\")\n",
    "    print(f\"Found iframe Successfully: {iframe_url}\")\n",
    "else:\n",
    "    print(\"No iframe Found on the Main Page\")"
   ]
  },
  {
   "cell_type": "markdown",
   "id": "a1e0e55c-237f-418f-a553-3224cb67ac80",
   "metadata": {},
   "source": [
    "after we have found the ifram we need to fetch it \n",
    "Why we need to fetch the iframe--> because i want to find  all the  turtle cards"
   ]
  },
  {
   "cell_type": "code",
   "execution_count": 31,
   "id": "0691c421-8e67-4da6-ad69-7231fc7d7ab3",
   "metadata": {},
   "outputs": [
    {
     "name": "stdout",
     "output_type": "stream",
     "text": [
      "Found 14 turtle family cards.\n"
     ]
    }
   ],
   "source": [
    "iframe_response = requests.get(iframe_url)  # Download iframe page\n",
    "iframe_response.raise_for_status()          # Stop if request failed\n",
    "\n",
    "# Parse the iframe HTML content\n",
    "iframe_soup = BeautifulSoup(iframe_response.text, \"html.parser\")\n",
    "\n",
    "# Find all family cards (divs with class \"family-card\")\n",
    "family_cards = iframe_soup.find_all(\"div\", class_=\"turtle-family-card\")\n",
    "print(f\"Found {len(family_cards)} turtle family cards.\")\n"
   ]
  },
  {
   "cell_type": "code",
   "execution_count": null,
   "id": "f5410ce9-fdd7-4edb-9d16-15aadfb8d8b9",
   "metadata": {},
   "outputs": [],
   "source": [
    "so there is 14 cards --> so we need to go through each turtle cards and srape the turtle details"
   ]
  },
  {
   "cell_type": "code",
   "execution_count": 32,
   "id": "4523d3fc-24cf-4763-85e6-20f47760aac8",
   "metadata": {},
   "outputs": [
    {
     "name": "stdout",
     "output_type": "stream",
     "text": [
      "The web Scraping have  completed.\n"
     ]
    }
   ],
   "source": [
    "base_url = \"https://www.scrapethissite.com\"\n",
    "\n",
    "# we will  Create a dictionary to store all turtle data like the name the common name , when it is discovered and by who\n",
    "turtle_data = {\n",
    "    \"turtle_name\": [],\n",
    "    \"common_name\": [],\n",
    "    \"discovered_year\": [],\n",
    "    \"discovered_by\": []\n",
    "}\n",
    "\n",
    "#  now we will go through each card by using loop \n",
    "for card in family_cards:\n",
    "    # Extract the turtle family name\n",
    "    family_name_tag = card.find(\"h3\", class_=\"family-name\")\n",
    "    family_name = family_name_tag.text.strip() if family_name_tag else \"Unknown Family\"\n",
    "    turtle_data[\"turtle_name\"].append(family_name)\n",
    "\n",
    "    # Find the \"Learn more\" link which contains the details of each turtles\n",
    "    link_tag = card.find(\"a\", href=True)\n",
    "    if not link_tag:\n",
    "        turtle_data[\"common_name\"].append(\"Not Available\")\n",
    "        turtle_data[\"discovered_year\"].append(\"Unknown\")\n",
    "        turtle_data[\"discovered_by\"].append(\"Unknown\")\n",
    "        continue  # Skip to next turtle if no detail page link\n",
    "\n",
    "    # Fetch the detail page  \n",
    "    detail_url = requests.compat.urljoin(base_url, link_tag[\"href\"])  # i have used the join url(urljoin) because it will  combines a base url with a relative url to create a full absolute url\n",
    "    detail_response = requests.get(detail_url)\n",
    "    detail_soup = BeautifulSoup(detail_response.content, \"html.parser\")\n",
    "\n",
    "    # Look for details in <p class=\"lead\">\n",
    "    paragraphs_turtles = detail_soup.find_all(\"p\", class_=\"lead\")\n",
    "\n",
    "    common_name = \"Not Available\"  # defaults\n",
    "    year_found = \"Unknown\"\n",
    "    discovered_by = \"Unknown\"\n",
    "\n",
    "    #  we are going to make  a loop to search for specific info in paragraphs\n",
    "    for para in paragraphs:\n",
    "        text = para.get_text()\n",
    "\n",
    "        # Extract common name\n",
    "        strong_tag = para.find(\"strong\", class_=\"common-name\")\n",
    "        if strong_tag:\n",
    "            common_name = strong_tag.text.strip()\n",
    "\n",
    "        # Extract year discovered\n",
    "        year_match = re.search(r\"\\b(1[5-9]\\d{2}|20[0-2]\\d|2030)\\b\", text)\n",
    "        if year_match:\n",
    "            year_found = year_match.group(0)\n",
    "\n",
    "        # Extract discovered by name\n",
    "        by_match = re.search(r\"by\\s+([A-Z][a-zA-Z\\-]+)\", text)\n",
    "        if by_match:\n",
    "            discovered_by = by_match.group(1)\n",
    "\n",
    "    # Save details in the list\n",
    "    turtle_data[\"common_name\"].append(common_name)\n",
    "    turtle_data[\"discovered_year\"].append(year_found)\n",
    "    turtle_data[\"discovered_by\"].append(discovered_by)\n",
    "\n",
    "print(\"The web Scraping have  completed.\")\n"
   ]
  },
  {
   "cell_type": "markdown",
   "id": "6c391700-4c97-4e5c-89ae-7ba012199851",
   "metadata": {},
   "source": [
    "after we havescrapped the data we will print the data that i have collected"
   ]
  },
  {
   "cell_type": "code",
   "execution_count": 34,
   "id": "1a241368-d003-4689-905a-fba96870f996",
   "metadata": {},
   "outputs": [
    {
     "name": "stdout",
     "output_type": "stream",
     "text": [
      "Turtle Family: Carettochelyidae\n",
      "  Common Name: Madagascar big-headed, Big-headed Amazon River turtle and South American sideneck river turtles\n",
      "  Year Discovered: 1869\n",
      "  Discovered By: Gray\n",
      "--------------------------------------------------\n",
      "Turtle Family: Cheloniidae\n",
      "  Common Name: Madagascar big-headed, Big-headed Amazon River turtle and South American sideneck river turtles\n",
      "  Year Discovered: 1869\n",
      "  Discovered By: Gray\n",
      "--------------------------------------------------\n",
      "Turtle Family: Chelydridae\n",
      "  Common Name: Madagascar big-headed, Big-headed Amazon River turtle and South American sideneck river turtles\n",
      "  Year Discovered: 1869\n",
      "  Discovered By: Gray\n",
      "--------------------------------------------------\n",
      "Turtle Family: Dermatemydidae\n",
      "  Common Name: Madagascar big-headed, Big-headed Amazon River turtle and South American sideneck river turtles\n",
      "  Year Discovered: 1869\n",
      "  Discovered By: Gray\n",
      "--------------------------------------------------\n",
      "Turtle Family: Dermochelyidae\n",
      "  Common Name: Madagascar big-headed, Big-headed Amazon River turtle and South American sideneck river turtles\n",
      "  Year Discovered: 1869\n",
      "  Discovered By: Gray\n",
      "--------------------------------------------------\n",
      "Turtle Family: Emydidae\n",
      "  Common Name: Madagascar big-headed, Big-headed Amazon River turtle and South American sideneck river turtles\n",
      "  Year Discovered: 1869\n",
      "  Discovered By: Gray\n",
      "--------------------------------------------------\n",
      "Turtle Family: Geoemydidae\n",
      "  Common Name: Madagascar big-headed, Big-headed Amazon River turtle and South American sideneck river turtles\n",
      "  Year Discovered: 1869\n",
      "  Discovered By: Gray\n",
      "--------------------------------------------------\n",
      "Turtle Family: Kinosternidae\n",
      "  Common Name: Madagascar big-headed, Big-headed Amazon River turtle and South American sideneck river turtles\n",
      "  Year Discovered: 1869\n",
      "  Discovered By: Gray\n",
      "--------------------------------------------------\n",
      "Turtle Family: Platysternidae\n",
      "  Common Name: Madagascar big-headed, Big-headed Amazon River turtle and South American sideneck river turtles\n",
      "  Year Discovered: 1869\n",
      "  Discovered By: Gray\n",
      "--------------------------------------------------\n",
      "Turtle Family: Testudinidae\n",
      "  Common Name: Madagascar big-headed, Big-headed Amazon River turtle and South American sideneck river turtles\n",
      "  Year Discovered: 1869\n",
      "  Discovered By: Gray\n",
      "--------------------------------------------------\n",
      "Turtle Family: Trionychidae\n",
      "  Common Name: Madagascar big-headed, Big-headed Amazon River turtle and South American sideneck river turtles\n",
      "  Year Discovered: 1869\n",
      "  Discovered By: Gray\n",
      "--------------------------------------------------\n",
      "Turtle Family: Chelidae\n",
      "  Common Name: Madagascar big-headed, Big-headed Amazon River turtle and South American sideneck river turtles\n",
      "  Year Discovered: 1869\n",
      "  Discovered By: Gray\n",
      "--------------------------------------------------\n",
      "Turtle Family: Pelomedusidae\n",
      "  Common Name: Madagascar big-headed, Big-headed Amazon River turtle and South American sideneck river turtles\n",
      "  Year Discovered: 1869\n",
      "  Discovered By: Gray\n",
      "--------------------------------------------------\n",
      "Turtle Family: Podocnemididae\n",
      "  Common Name: Madagascar big-headed, Big-headed Amazon River turtle and South American sideneck river turtles\n",
      "  Year Discovered: 1869\n",
      "  Discovered By: Gray\n",
      "--------------------------------------------------\n"
     ]
    }
   ],
   "source": [
    "for i in range(len(turtle_data[\"turtle_name\"])):\n",
    "    print(f\"Turtle Family: {turtle_data['turtle_name'][i]}\")\n",
    "    print(f\"  Common Name: {turtle_data['common_name'][i]}\")\n",
    "    print(f\"  Year Discovered: {turtle_data['discovered_year'][i]}\")\n",
    "    print(f\"  Discovered By: {turtle_data['discovered_by'][i]}\")\n",
    "    print(\"-\" * 50)\n"
   ]
  },
  {
   "cell_type": "markdown",
   "id": "0963ab72-ab4a-4703-a323-eacc99937f97",
   "metadata": {},
   "source": [
    "now i have print all the data of the turtles we will converted to a dataframe(table) to clean the data"
   ]
  },
  {
   "cell_type": "code",
   "execution_count": 36,
   "id": "26d466a3-621d-40c5-9638-dd5862550010",
   "metadata": {},
   "outputs": [
    {
     "data": {
      "text/html": [
       "<div>\n",
       "<style scoped>\n",
       "    .dataframe tbody tr th:only-of-type {\n",
       "        vertical-align: middle;\n",
       "    }\n",
       "\n",
       "    .dataframe tbody tr th {\n",
       "        vertical-align: top;\n",
       "    }\n",
       "\n",
       "    .dataframe thead th {\n",
       "        text-align: right;\n",
       "    }\n",
       "</style>\n",
       "<table border=\"1\" class=\"dataframe\">\n",
       "  <thead>\n",
       "    <tr style=\"text-align: right;\">\n",
       "      <th></th>\n",
       "      <th>turtle_name</th>\n",
       "      <th>common_name</th>\n",
       "      <th>discovered_year</th>\n",
       "      <th>discovered_by</th>\n",
       "    </tr>\n",
       "  </thead>\n",
       "  <tbody>\n",
       "    <tr>\n",
       "      <th>0</th>\n",
       "      <td>Carettochelyidae</td>\n",
       "      <td>Madagascar big-headed, Big-headed Amazon River...</td>\n",
       "      <td>1869</td>\n",
       "      <td>Gray</td>\n",
       "    </tr>\n",
       "    <tr>\n",
       "      <th>1</th>\n",
       "      <td>Cheloniidae</td>\n",
       "      <td>Madagascar big-headed, Big-headed Amazon River...</td>\n",
       "      <td>1869</td>\n",
       "      <td>Gray</td>\n",
       "    </tr>\n",
       "    <tr>\n",
       "      <th>2</th>\n",
       "      <td>Chelydridae</td>\n",
       "      <td>Madagascar big-headed, Big-headed Amazon River...</td>\n",
       "      <td>1869</td>\n",
       "      <td>Gray</td>\n",
       "    </tr>\n",
       "    <tr>\n",
       "      <th>3</th>\n",
       "      <td>Dermatemydidae</td>\n",
       "      <td>Madagascar big-headed, Big-headed Amazon River...</td>\n",
       "      <td>1869</td>\n",
       "      <td>Gray</td>\n",
       "    </tr>\n",
       "    <tr>\n",
       "      <th>4</th>\n",
       "      <td>Dermochelyidae</td>\n",
       "      <td>Madagascar big-headed, Big-headed Amazon River...</td>\n",
       "      <td>1869</td>\n",
       "      <td>Gray</td>\n",
       "    </tr>\n",
       "    <tr>\n",
       "      <th>5</th>\n",
       "      <td>Emydidae</td>\n",
       "      <td>Madagascar big-headed, Big-headed Amazon River...</td>\n",
       "      <td>1869</td>\n",
       "      <td>Gray</td>\n",
       "    </tr>\n",
       "    <tr>\n",
       "      <th>6</th>\n",
       "      <td>Geoemydidae</td>\n",
       "      <td>Madagascar big-headed, Big-headed Amazon River...</td>\n",
       "      <td>1869</td>\n",
       "      <td>Gray</td>\n",
       "    </tr>\n",
       "    <tr>\n",
       "      <th>7</th>\n",
       "      <td>Kinosternidae</td>\n",
       "      <td>Madagascar big-headed, Big-headed Amazon River...</td>\n",
       "      <td>1869</td>\n",
       "      <td>Gray</td>\n",
       "    </tr>\n",
       "    <tr>\n",
       "      <th>8</th>\n",
       "      <td>Platysternidae</td>\n",
       "      <td>Madagascar big-headed, Big-headed Amazon River...</td>\n",
       "      <td>1869</td>\n",
       "      <td>Gray</td>\n",
       "    </tr>\n",
       "    <tr>\n",
       "      <th>9</th>\n",
       "      <td>Testudinidae</td>\n",
       "      <td>Madagascar big-headed, Big-headed Amazon River...</td>\n",
       "      <td>1869</td>\n",
       "      <td>Gray</td>\n",
       "    </tr>\n",
       "    <tr>\n",
       "      <th>10</th>\n",
       "      <td>Trionychidae</td>\n",
       "      <td>Madagascar big-headed, Big-headed Amazon River...</td>\n",
       "      <td>1869</td>\n",
       "      <td>Gray</td>\n",
       "    </tr>\n",
       "    <tr>\n",
       "      <th>11</th>\n",
       "      <td>Chelidae</td>\n",
       "      <td>Madagascar big-headed, Big-headed Amazon River...</td>\n",
       "      <td>1869</td>\n",
       "      <td>Gray</td>\n",
       "    </tr>\n",
       "    <tr>\n",
       "      <th>12</th>\n",
       "      <td>Pelomedusidae</td>\n",
       "      <td>Madagascar big-headed, Big-headed Amazon River...</td>\n",
       "      <td>1869</td>\n",
       "      <td>Gray</td>\n",
       "    </tr>\n",
       "    <tr>\n",
       "      <th>13</th>\n",
       "      <td>Podocnemididae</td>\n",
       "      <td>Madagascar big-headed, Big-headed Amazon River...</td>\n",
       "      <td>1869</td>\n",
       "      <td>Gray</td>\n",
       "    </tr>\n",
       "  </tbody>\n",
       "</table>\n",
       "</div>"
      ],
      "text/plain": [
       "         turtle_name                                        common_name  \\\n",
       "0   Carettochelyidae  Madagascar big-headed, Big-headed Amazon River...   \n",
       "1        Cheloniidae  Madagascar big-headed, Big-headed Amazon River...   \n",
       "2        Chelydridae  Madagascar big-headed, Big-headed Amazon River...   \n",
       "3     Dermatemydidae  Madagascar big-headed, Big-headed Amazon River...   \n",
       "4     Dermochelyidae  Madagascar big-headed, Big-headed Amazon River...   \n",
       "5           Emydidae  Madagascar big-headed, Big-headed Amazon River...   \n",
       "6        Geoemydidae  Madagascar big-headed, Big-headed Amazon River...   \n",
       "7      Kinosternidae  Madagascar big-headed, Big-headed Amazon River...   \n",
       "8     Platysternidae  Madagascar big-headed, Big-headed Amazon River...   \n",
       "9       Testudinidae  Madagascar big-headed, Big-headed Amazon River...   \n",
       "10      Trionychidae  Madagascar big-headed, Big-headed Amazon River...   \n",
       "11          Chelidae  Madagascar big-headed, Big-headed Amazon River...   \n",
       "12     Pelomedusidae  Madagascar big-headed, Big-headed Amazon River...   \n",
       "13    Podocnemididae  Madagascar big-headed, Big-headed Amazon River...   \n",
       "\n",
       "   discovered_year discovered_by  \n",
       "0             1869          Gray  \n",
       "1             1869          Gray  \n",
       "2             1869          Gray  \n",
       "3             1869          Gray  \n",
       "4             1869          Gray  \n",
       "5             1869          Gray  \n",
       "6             1869          Gray  \n",
       "7             1869          Gray  \n",
       "8             1869          Gray  \n",
       "9             1869          Gray  \n",
       "10            1869          Gray  \n",
       "11            1869          Gray  \n",
       "12            1869          Gray  \n",
       "13            1869          Gray  "
      ]
     },
     "execution_count": 36,
     "metadata": {},
     "output_type": "execute_result"
    }
   ],
   "source": [
    "df = pd.DataFrame(turtle_data)\n",
    "df"
   ]
  },
  {
   "cell_type": "code",
   "execution_count": 38,
   "id": "4f61e4ca-ac7a-489d-8863-53356bb8e6d5",
   "metadata": {},
   "outputs": [
    {
     "data": {
      "text/html": [
       "<div>\n",
       "<style scoped>\n",
       "    .dataframe tbody tr th:only-of-type {\n",
       "        vertical-align: middle;\n",
       "    }\n",
       "\n",
       "    .dataframe tbody tr th {\n",
       "        vertical-align: top;\n",
       "    }\n",
       "\n",
       "    .dataframe thead th {\n",
       "        text-align: right;\n",
       "    }\n",
       "</style>\n",
       "<table border=\"1\" class=\"dataframe\">\n",
       "  <thead>\n",
       "    <tr style=\"text-align: right;\">\n",
       "      <th></th>\n",
       "      <th>count</th>\n",
       "      <th>unique</th>\n",
       "      <th>top</th>\n",
       "      <th>freq</th>\n",
       "    </tr>\n",
       "  </thead>\n",
       "  <tbody>\n",
       "    <tr>\n",
       "      <th>turtle_name</th>\n",
       "      <td>14</td>\n",
       "      <td>14</td>\n",
       "      <td>Carettochelyidae</td>\n",
       "      <td>1</td>\n",
       "    </tr>\n",
       "    <tr>\n",
       "      <th>common_name</th>\n",
       "      <td>14</td>\n",
       "      <td>1</td>\n",
       "      <td>Madagascar big-headed, Big-headed Amazon River...</td>\n",
       "      <td>14</td>\n",
       "    </tr>\n",
       "    <tr>\n",
       "      <th>discovered_year</th>\n",
       "      <td>14</td>\n",
       "      <td>1</td>\n",
       "      <td>1869</td>\n",
       "      <td>14</td>\n",
       "    </tr>\n",
       "    <tr>\n",
       "      <th>discovered_by</th>\n",
       "      <td>14</td>\n",
       "      <td>1</td>\n",
       "      <td>Gray</td>\n",
       "      <td>14</td>\n",
       "    </tr>\n",
       "  </tbody>\n",
       "</table>\n",
       "</div>"
      ],
      "text/plain": [
       "                count unique  \\\n",
       "turtle_name        14     14   \n",
       "common_name        14      1   \n",
       "discovered_year    14      1   \n",
       "discovered_by      14      1   \n",
       "\n",
       "                                                               top freq  \n",
       "turtle_name                                       Carettochelyidae    1  \n",
       "common_name      Madagascar big-headed, Big-headed Amazon River...   14  \n",
       "discovered_year                                               1869   14  \n",
       "discovered_by                                                 Gray   14  "
      ]
     },
     "execution_count": 38,
     "metadata": {},
     "output_type": "execute_result"
    }
   ],
   "source": [
    "df.describe().T"
   ]
  },
  {
   "cell_type": "code",
   "execution_count": 39,
   "id": "50351c0b-411b-436b-af9e-66c54501320f",
   "metadata": {},
   "outputs": [
    {
     "name": "stdout",
     "output_type": "stream",
     "text": [
      "<class 'pandas.core.frame.DataFrame'>\n",
      "RangeIndex: 14 entries, 0 to 13\n",
      "Data columns (total 4 columns):\n",
      " #   Column           Non-Null Count  Dtype \n",
      "---  ------           --------------  ----- \n",
      " 0   turtle_name      14 non-null     object\n",
      " 1   common_name      14 non-null     object\n",
      " 2   discovered_year  14 non-null     object\n",
      " 3   discovered_by    14 non-null     object\n",
      "dtypes: object(4)\n",
      "memory usage: 580.0+ bytes\n"
     ]
    }
   ],
   "source": [
    "df.info()"
   ]
  },
  {
   "cell_type": "code",
   "execution_count": 41,
   "id": "d982e263-55e7-409f-9210-c64909a7126f",
   "metadata": {},
   "outputs": [
    {
     "data": {
      "text/plain": [
       "turtle_name        0\n",
       "common_name        0\n",
       "discovered_year    0\n",
       "discovered_by      0\n",
       "dtype: int64"
      ]
     },
     "execution_count": 41,
     "metadata": {},
     "output_type": "execute_result"
    }
   ],
   "source": [
    "df.isnull().sum() # to check the null values"
   ]
  },
  {
   "cell_type": "code",
   "execution_count": 45,
   "id": "b67ca929-095a-46d3-aa4c-7fb0b557bf3d",
   "metadata": {},
   "outputs": [
    {
     "data": {
      "text/plain": [
       "np.int64(0)"
      ]
     },
     "execution_count": 45,
     "metadata": {},
     "output_type": "execute_result"
    }
   ],
   "source": [
    "df.duplicated().sum() #to check if there is duplicated rows"
   ]
  },
  {
   "cell_type": "code",
   "execution_count": 47,
   "id": "954972a9-9ee3-4375-b35d-1f902ff98a36",
   "metadata": {},
   "outputs": [],
   "source": [
    "df[\"discovered_year\"] = df[\"discovered_year\"].astype(\"Int64\")"
   ]
  },
  {
   "cell_type": "code",
   "execution_count": 48,
   "id": "51300c5b-e355-40ab-9b9e-1b027e98782a",
   "metadata": {},
   "outputs": [
    {
     "data": {
      "text/html": [
       "<div>\n",
       "<style scoped>\n",
       "    .dataframe tbody tr th:only-of-type {\n",
       "        vertical-align: middle;\n",
       "    }\n",
       "\n",
       "    .dataframe tbody tr th {\n",
       "        vertical-align: top;\n",
       "    }\n",
       "\n",
       "    .dataframe thead th {\n",
       "        text-align: right;\n",
       "    }\n",
       "</style>\n",
       "<table border=\"1\" class=\"dataframe\">\n",
       "  <thead>\n",
       "    <tr style=\"text-align: right;\">\n",
       "      <th></th>\n",
       "      <th>turtle_name</th>\n",
       "      <th>common_name</th>\n",
       "      <th>discovered_year</th>\n",
       "      <th>discovered_by</th>\n",
       "    </tr>\n",
       "  </thead>\n",
       "  <tbody>\n",
       "    <tr>\n",
       "      <th>0</th>\n",
       "      <td>Carettochelyidae</td>\n",
       "      <td>Madagascar big-headed, Big-headed Amazon River...</td>\n",
       "      <td>1869</td>\n",
       "      <td>Gray</td>\n",
       "    </tr>\n",
       "    <tr>\n",
       "      <th>1</th>\n",
       "      <td>Cheloniidae</td>\n",
       "      <td>Madagascar big-headed, Big-headed Amazon River...</td>\n",
       "      <td>1869</td>\n",
       "      <td>Gray</td>\n",
       "    </tr>\n",
       "    <tr>\n",
       "      <th>2</th>\n",
       "      <td>Chelydridae</td>\n",
       "      <td>Madagascar big-headed, Big-headed Amazon River...</td>\n",
       "      <td>1869</td>\n",
       "      <td>Gray</td>\n",
       "    </tr>\n",
       "    <tr>\n",
       "      <th>3</th>\n",
       "      <td>Dermatemydidae</td>\n",
       "      <td>Madagascar big-headed, Big-headed Amazon River...</td>\n",
       "      <td>1869</td>\n",
       "      <td>Gray</td>\n",
       "    </tr>\n",
       "    <tr>\n",
       "      <th>4</th>\n",
       "      <td>Dermochelyidae</td>\n",
       "      <td>Madagascar big-headed, Big-headed Amazon River...</td>\n",
       "      <td>1869</td>\n",
       "      <td>Gray</td>\n",
       "    </tr>\n",
       "    <tr>\n",
       "      <th>5</th>\n",
       "      <td>Emydidae</td>\n",
       "      <td>Madagascar big-headed, Big-headed Amazon River...</td>\n",
       "      <td>1869</td>\n",
       "      <td>Gray</td>\n",
       "    </tr>\n",
       "    <tr>\n",
       "      <th>6</th>\n",
       "      <td>Geoemydidae</td>\n",
       "      <td>Madagascar big-headed, Big-headed Amazon River...</td>\n",
       "      <td>1869</td>\n",
       "      <td>Gray</td>\n",
       "    </tr>\n",
       "    <tr>\n",
       "      <th>7</th>\n",
       "      <td>Kinosternidae</td>\n",
       "      <td>Madagascar big-headed, Big-headed Amazon River...</td>\n",
       "      <td>1869</td>\n",
       "      <td>Gray</td>\n",
       "    </tr>\n",
       "    <tr>\n",
       "      <th>8</th>\n",
       "      <td>Platysternidae</td>\n",
       "      <td>Madagascar big-headed, Big-headed Amazon River...</td>\n",
       "      <td>1869</td>\n",
       "      <td>Gray</td>\n",
       "    </tr>\n",
       "    <tr>\n",
       "      <th>9</th>\n",
       "      <td>Testudinidae</td>\n",
       "      <td>Madagascar big-headed, Big-headed Amazon River...</td>\n",
       "      <td>1869</td>\n",
       "      <td>Gray</td>\n",
       "    </tr>\n",
       "    <tr>\n",
       "      <th>10</th>\n",
       "      <td>Trionychidae</td>\n",
       "      <td>Madagascar big-headed, Big-headed Amazon River...</td>\n",
       "      <td>1869</td>\n",
       "      <td>Gray</td>\n",
       "    </tr>\n",
       "    <tr>\n",
       "      <th>11</th>\n",
       "      <td>Chelidae</td>\n",
       "      <td>Madagascar big-headed, Big-headed Amazon River...</td>\n",
       "      <td>1869</td>\n",
       "      <td>Gray</td>\n",
       "    </tr>\n",
       "    <tr>\n",
       "      <th>12</th>\n",
       "      <td>Pelomedusidae</td>\n",
       "      <td>Madagascar big-headed, Big-headed Amazon River...</td>\n",
       "      <td>1869</td>\n",
       "      <td>Gray</td>\n",
       "    </tr>\n",
       "    <tr>\n",
       "      <th>13</th>\n",
       "      <td>Podocnemididae</td>\n",
       "      <td>Madagascar big-headed, Big-headed Amazon River...</td>\n",
       "      <td>1869</td>\n",
       "      <td>Gray</td>\n",
       "    </tr>\n",
       "  </tbody>\n",
       "</table>\n",
       "</div>"
      ],
      "text/plain": [
       "         turtle_name                                        common_name  \\\n",
       "0   Carettochelyidae  Madagascar big-headed, Big-headed Amazon River...   \n",
       "1        Cheloniidae  Madagascar big-headed, Big-headed Amazon River...   \n",
       "2        Chelydridae  Madagascar big-headed, Big-headed Amazon River...   \n",
       "3     Dermatemydidae  Madagascar big-headed, Big-headed Amazon River...   \n",
       "4     Dermochelyidae  Madagascar big-headed, Big-headed Amazon River...   \n",
       "5           Emydidae  Madagascar big-headed, Big-headed Amazon River...   \n",
       "6        Geoemydidae  Madagascar big-headed, Big-headed Amazon River...   \n",
       "7      Kinosternidae  Madagascar big-headed, Big-headed Amazon River...   \n",
       "8     Platysternidae  Madagascar big-headed, Big-headed Amazon River...   \n",
       "9       Testudinidae  Madagascar big-headed, Big-headed Amazon River...   \n",
       "10      Trionychidae  Madagascar big-headed, Big-headed Amazon River...   \n",
       "11          Chelidae  Madagascar big-headed, Big-headed Amazon River...   \n",
       "12     Pelomedusidae  Madagascar big-headed, Big-headed Amazon River...   \n",
       "13    Podocnemididae  Madagascar big-headed, Big-headed Amazon River...   \n",
       "\n",
       "    discovered_year discovered_by  \n",
       "0              1869          Gray  \n",
       "1              1869          Gray  \n",
       "2              1869          Gray  \n",
       "3              1869          Gray  \n",
       "4              1869          Gray  \n",
       "5              1869          Gray  \n",
       "6              1869          Gray  \n",
       "7              1869          Gray  \n",
       "8              1869          Gray  \n",
       "9              1869          Gray  \n",
       "10             1869          Gray  \n",
       "11             1869          Gray  \n",
       "12             1869          Gray  \n",
       "13             1869          Gray  "
      ]
     },
     "execution_count": 48,
     "metadata": {},
     "output_type": "execute_result"
    }
   ],
   "source": [
    "df"
   ]
  },
  {
   "cell_type": "code",
   "execution_count": 49,
   "id": "e17a23f9-602a-4fad-ad0e-9b647a1dbb6c",
   "metadata": {},
   "outputs": [
    {
     "name": "stdout",
     "output_type": "stream",
     "text": [
      "<class 'pandas.core.frame.DataFrame'>\n",
      "RangeIndex: 14 entries, 0 to 13\n",
      "Data columns (total 4 columns):\n",
      " #   Column           Non-Null Count  Dtype \n",
      "---  ------           --------------  ----- \n",
      " 0   turtle_name      14 non-null     object\n",
      " 1   common_name      14 non-null     object\n",
      " 2   discovered_year  14 non-null     Int64 \n",
      " 3   discovered_by    14 non-null     object\n",
      "dtypes: Int64(1), object(3)\n",
      "memory usage: 594.0+ bytes\n"
     ]
    }
   ],
   "source": [
    "df.info()"
   ]
  },
  {
   "cell_type": "code",
   "execution_count": null,
   "id": "16754287-9e6d-4974-8b46-77ca2b3fe572",
   "metadata": {},
   "outputs": [],
   "source": []
  }
 ],
 "metadata": {
  "kernelspec": {
   "display_name": "Python 3 (ipykernel)",
   "language": "python",
   "name": "python3"
  },
  "language_info": {
   "codemirror_mode": {
    "name": "ipython",
    "version": 3
   },
   "file_extension": ".py",
   "mimetype": "text/x-python",
   "name": "python",
   "nbconvert_exporter": "python",
   "pygments_lexer": "ipython3",
   "version": "3.13.3"
  }
 },
 "nbformat": 4,
 "nbformat_minor": 5
}
