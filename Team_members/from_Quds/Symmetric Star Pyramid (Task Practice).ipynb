{
 "cells": [
  {
   "cell_type": "markdown",
   "id": "5e068b96-b0f7-4a1a-8306-36e0aa623bc5",
   "metadata": {},
   "source": [
    "# <div align=\"center\"><span style=\"color:Purple\">**<i>Symmetric Star Pyramid</i>**</span> </div>\n",
    "\n",
    "## Task Description\n",
    "<span style=\"color:Brown\">**As a user, I want to generate a centered pyramid pattern using stars so that I can create symmetrical visual elements.**</span> "
   ]
  },
  {
   "cell_type": "markdown",
   "id": "f6b96a2e-bd10-48c7-9de8-b55473afa9b7",
   "metadata": {},
   "source": [
    "## Acceptance Criteria:\n",
    "\n",
    "1. <span style=\"color:Green\">User can input a positive integer representing the number of rows</span>\n",
    "2. <span style=\"color:Green\">System displays a pyramid where each row has an odd number of asterisks</span>\n",
    "3. <span style=\"color:Green\">First row contains 1 asterisk, second row 3 asterisks, with each row adding 2 more</span>\n",
    "4. <span style=\"color:Green\">Pattern is properly centered with appropriate spacing</span>\n"
   ]
  },
  {
   "cell_type": "markdown",
   "id": "a46e8529-89b3-481d-a568-8cbd5d669151",
   "metadata": {},
   "source": [
    "### <span style=\"color:BLue\">**Input**</span>\n",
    "```Python\n",
    "\n",
    "num_star_rows = int(input(\"Please enter the number of rows(poitive number): \"))\n",
    "if num_star_rows > 0:\n",
    "    for nums in range(1, num_star_rows + 1):\n",
    "        print(\" \" * (num_star_rows - nums), end=\"\")\n",
    "        print(\"*\" * (2*nums - 1))\n",
    "else:\n",
    "    print(\"Invalid Input\")\n",
    "```"
   ]
  },
  {
   "cell_type": "code",
   "execution_count": 1,
   "id": "f34eb387-8e5c-456c-9f6e-b41fa1ab0089",
   "metadata": {},
   "outputs": [
    {
     "name": "stdin",
     "output_type": "stream",
     "text": [
      "Please enter the number of rows(poitive number):  5\n"
     ]
    },
    {
     "name": "stdout",
     "output_type": "stream",
     "text": [
      "    *\n",
      "   ***\n",
      "  *****\n",
      " *******\n",
      "*********\n"
     ]
    }
   ],
   "source": [
    "\n",
    "num_star_rows = int(input(\"Please enter the number of rows(poitive number): \"))\n",
    "if num_star_rows > 0:\n",
    "    for nums in range(1, num_star_rows + 1):\n",
    "        print(\" \" * (num_star_rows - nums), end=\"\")\n",
    "        print(\"*\" * (2*nums - 1))\n",
    "else:\n",
    "    print(\"Invalid Input\")"
   ]
  },
  {
   "cell_type": "code",
   "execution_count": null,
   "id": "44476c30-63ce-4ebf-83d4-bf8300570d3a",
   "metadata": {},
   "outputs": [],
   "source": []
  }
 ],
 "metadata": {
  "kernelspec": {
   "display_name": "Python 3 (ipykernel)",
   "language": "python",
   "name": "python3"
  },
  "language_info": {
   "codemirror_mode": {
    "name": "ipython",
    "version": 3
   },
   "file_extension": ".py",
   "mimetype": "text/x-python",
   "name": "python",
   "nbconvert_exporter": "python",
   "pygments_lexer": "ipython3",
   "version": "3.13.3"
  }
 },
 "nbformat": 4,
 "nbformat_minor": 5
}
