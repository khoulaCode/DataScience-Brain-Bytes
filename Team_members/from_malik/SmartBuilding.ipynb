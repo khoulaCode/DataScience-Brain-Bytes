{
 "cells": [
  {
   "cell_type": "code",
   "execution_count": 1,
   "id": "589235e7-7ac4-4824-bc04-44552c83a5fe",
   "metadata": {},
   "outputs": [],
   "source": [
    "import numpy as np"
   ]
  },
  {
   "cell_type": "code",
   "execution_count": 2,
   "id": "24f73a8d-46cc-4edd-beee-d42224d1c644",
   "metadata": {},
   "outputs": [],
   "source": [
    "time_in_minutes = np.arange(0, 1440)"
   ]
  },
  {
   "cell_type": "code",
   "execution_count": 3,
   "id": "76ba0177-c0f9-4196-886b-c0870767c40f",
   "metadata": {},
   "outputs": [],
   "source": [
    "temperature = 22 + np.random.normal(0, 2, 1440)"
   ]
  },
  {
   "cell_type": "code",
   "execution_count": 4,
   "id": "ff87fb4e-3e7a-4f28-9445-cb26d3cb57c4",
   "metadata": {},
   "outputs": [],
   "source": [
    "humidity = 55 + np.random.normal(0, 10, 1440)"
   ]
  },
  {
   "cell_type": "code",
   "execution_count": 5,
   "id": "a4b8ceed-084e-4615-b8a1-33c431978af2",
   "metadata": {},
   "outputs": [],
   "source": [
    "pressure = 1012 + np.random.normal(0, 5, 1440)"
   ]
  },
  {
   "cell_type": "code",
   "execution_count": 6,
   "id": "47736b46-75f4-4de3-bb8e-f57aceabd2ef",
   "metadata": {},
   "outputs": [],
   "source": [
    "data = np.column_stack((time_in_minutes, temperature, humidity, pressure))"
   ]
  },
  {
   "cell_type": "code",
   "execution_count": 8,
   "id": "0cd18d5c-8495-430a-822d-983a815b2bc2",
   "metadata": {},
   "outputs": [
    {
     "data": {
      "text/plain": [
       "array([[0.00000000e+00, 2.03329064e+01, 4.26483755e+01, 1.00873919e+03],\n",
       "       [1.00000000e+00, 2.20593277e+01, 4.68496191e+01, 1.00797271e+03],\n",
       "       [2.00000000e+00, 2.10248811e+01, 6.41133041e+01, 1.01508110e+03],\n",
       "       [3.00000000e+00, 2.09525794e+01, 5.91011497e+01, 1.01613365e+03],\n",
       "       [4.00000000e+00, 1.91203977e+01, 5.12587939e+01, 1.01450020e+03]])"
      ]
     },
     "execution_count": 8,
     "metadata": {},
     "output_type": "execute_result"
    }
   ],
   "source": [
    "data[:5])"
   ]
  },
  {
   "cell_type": "code",
   "execution_count": 9,
   "id": "ee6f3dbe-7e16-46db-9696-0541ab482766",
   "metadata": {},
   "outputs": [],
   "source": [
    "avg_temp = temperature.mean()\n",
    "min_temp = temperature.min()\n",
    "max_temp = temperature.max()\n",
    "std_temp = temperature.std()"
   ]
  },
  {
   "cell_type": "code",
   "execution_count": 11,
   "id": "d4ce742c-74c5-4518-8043-c885fe2196ce",
   "metadata": {},
   "outputs": [
    {
     "name": "stdout",
     "output_type": "stream",
     "text": [
      "Temperature avg: 22.04 min: 16.35 max: 29.11 std: 1.99\n"
     ]
    }
   ],
   "source": [
    "print(\"Temperature avg:\", round(avg_temp,2),\n",
    "      \"min:\", round(min_temp,2),\n",
    "      \"max:\", round(max_temp,2),\n",
    "      \"std:\", round(std_temp,2))"
   ]
  },
  {
   "cell_type": "code",
   "execution_count": 12,
   "id": "d91b038d-c765-4702-a087-38b247676efa",
   "metadata": {},
   "outputs": [],
   "source": [
    "avg_hum = humidity.mean()\n",
    "min_hum = humidity.min()\n",
    "max_hum = humidity.max()\n",
    "std_hum = humidity.std()"
   ]
  },
  {
   "cell_type": "code",
   "execution_count": 13,
   "id": "3af3e3a7-2335-40da-94e8-2928580b0b77",
   "metadata": {},
   "outputs": [
    {
     "name": "stdout",
     "output_type": "stream",
     "text": [
      "Humidity avg: 54.99 min: 11.25 max: 91.21 std: 10.24\n"
     ]
    }
   ],
   "source": [
    "print(\"Humidity avg:\", round(avg_hum,2),\n",
    "      \"min:\", round(min_hum,2),\n",
    "      \"max:\", round(max_hum,2),\n",
    "      \"std:\", round(std_hum,2))"
   ]
  },
  {
   "cell_type": "code",
   "execution_count": 14,
   "id": "f2d64e80-7332-46d1-af90-22092d320091",
   "metadata": {},
   "outputs": [],
   "source": [
    "avg_pres = pressure.mean()\n",
    "min_pres = pressure.min()\n",
    "max_pres = pressure.max()\n",
    "std_pres = pressure.std()"
   ]
  },
  {
   "cell_type": "code",
   "execution_count": 15,
   "id": "1cc172b4-ed05-4997-8d60-6e817f8fdc8d",
   "metadata": {},
   "outputs": [
    {
     "name": "stdout",
     "output_type": "stream",
     "text": [
      "Pressure avg: 1012.1 min: 996.14 max: 1028.47 std: 4.93\n"
     ]
    }
   ],
   "source": [
    "print(\"Pressure avg:\", round(avg_pres,2),\n",
    "      \"min:\", round(min_pres,2),\n",
    "      \"max:\", round(max_pres,2),\n",
    "      \"std:\", round(std_pres,2))"
   ]
  },
  {
   "cell_type": "code",
   "execution_count": 16,
   "id": "e62a0dcb-574a-4c8b-ae57-fcb57a392109",
   "metadata": {},
   "outputs": [],
   "source": [
    "hourly_avg_temp = [temperature[i*60:(i+1)*60].mean() for i in range(24)]\n",
    "hourly_avg_hum  = [humidity[i*60   :(i+1)*60].mean() for i in range(24)]\n",
    "hourly_avg_pres = [pressure[i*60   :(i+1)*60].mean() for i in range(24)]"
   ]
  },
  {
   "cell_type": "code",
   "execution_count": 19,
   "id": "52f79315-03b2-4b4c-afd9-4049ae2db449",
   "metadata": {},
   "outputs": [
    {
     "name": "stdout",
     "output_type": "stream",
     "text": [
      "Hour | Temp (°C) | Humidity (%) | Pressure (hPa)\n",
      "   0 |    22.04 |        54.73 |      1012.58\n",
      "   1 |    22.06 |        54.96 |      1012.21\n",
      "   2 |    22.28 |        56.77 |      1012.68\n",
      "   3 |    21.69 |        55.25 |      1010.97\n",
      "   4 |    22.17 |        56.85 |      1012.57\n",
      "   5 |    22.21 |        54.00 |      1012.84\n",
      "   6 |    22.60 |        55.36 |      1011.76\n",
      "   7 |    21.61 |        56.59 |      1012.45\n",
      "   8 |    21.98 |        55.49 |      1012.45\n",
      "   9 |    21.66 |        55.13 |      1012.19\n",
      "  10 |    22.00 |        54.66 |      1012.97\n",
      "  11 |    22.06 |        55.83 |      1012.12\n",
      "  12 |    22.21 |        55.24 |      1011.66\n",
      "  13 |    22.17 |        54.49 |      1011.85\n",
      "  14 |    21.92 |        54.72 |      1011.69\n",
      "  15 |    22.00 |        56.38 |      1011.78\n",
      "  16 |    22.11 |        51.91 |      1011.90\n",
      "  17 |    21.83 |        55.04 |      1011.76\n",
      "  18 |    22.03 |        53.99 |      1012.14\n",
      "  19 |    22.05 |        54.52 |      1012.40\n",
      "  20 |    21.95 |        55.89 |      1012.06\n",
      "  21 |    22.06 |        55.05 |      1012.57\n",
      "  22 |    22.10 |        52.23 |      1011.65\n",
      "  23 |    22.11 |        54.63 |      1011.21\n"
     ]
    }
   ],
   "source": [
    "print(\"Hour | Temp (°C) | Humidity (%) | Pressure (hPa)\")\n",
    "for hr, (t, h, p) in enumerate(zip(hourly_avg_temp,\n",
    "                                   hourly_avg_hum,\n",
    "                                   hourly_avg_pres)):\n",
    "    print(f\"{hr:>4} | {t:>8.2f} | {h:>12.2f} | {p:>12.2f}\")"
   ]
  },
  {
   "cell_type": "code",
   "execution_count": 21,
   "id": "a7cc62df-97dd-4ab6-9fe3-88ad19a6b6c2",
   "metadata": {},
   "outputs": [
    {
     "name": "stdout",
     "output_type": "stream",
     "text": [
      "Minutes above 25°C: 94\n",
      "Minute of lowest temperature: 329\n"
     ]
    }
   ],
   "source": [
    "threshold = 25\n",
    "count_above = np.sum(temperature > threshold)\n",
    "\n",
    "minute_of_min = np.argmin(temperature)  \n",
    "\n",
    "print(f\"Minutes above {threshold}°C:\", count_above)\n",
    "print(\"Minute of lowest temperature:\", minute_of_min)"
   ]
  },
  {
   "cell_type": "code",
   "execution_count": null,
   "id": "eb8fe920-f2dc-4acb-b59d-5fd27ae04cf2",
   "metadata": {},
   "outputs": [],
   "source": []
  }
 ],
 "metadata": {
  "kernelspec": {
   "display_name": "Python [conda env:base] *",
   "language": "python",
   "name": "conda-base-py"
  },
  "language_info": {
   "codemirror_mode": {
    "name": "ipython",
    "version": 3
   },
   "file_extension": ".py",
   "mimetype": "text/x-python",
   "name": "python",
   "nbconvert_exporter": "python",
   "pygments_lexer": "ipython3",
   "version": "3.13.5"
  }
 },
 "nbformat": 4,
 "nbformat_minor": 5
}
