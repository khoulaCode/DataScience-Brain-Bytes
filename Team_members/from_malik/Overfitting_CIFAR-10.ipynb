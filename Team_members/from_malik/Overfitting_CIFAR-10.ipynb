{
 "cells": [
  {
   "cell_type": "code",
   "execution_count": 5,
   "id": "9fae3efc-89ec-4efb-a1b2-634ceeccecce",
   "metadata": {},
   "outputs": [],
   "source": [
    "import tensorflow as tf\n",
    "from tensorflow import keras\n",
    "from tensorflow.keras import layers, regularizers"
   ]
  },
  {
   "cell_type": "code",
   "execution_count": 6,
   "id": "c8854643-1c01-4775-9e02-7cc70de97a1d",
   "metadata": {},
   "outputs": [],
   "source": [
    "# Load CIFAR-10 dataset\n",
    "(x_train, y_train), (x_test, y_test) = keras.datasets.cifar10.load_data()\n",
    "x_train, x_test = x_train / 255.0, x_test / 255.0  # Normalize images\n",
    "y_train, y_test = y_train.flatten(), y_test.flatten()"
   ]
  },
  {
   "cell_type": "code",
   "execution_count": 7,
   "id": "e5631cb1-7a9c-4884-9220-d9af46e6d32f",
   "metadata": {},
   "outputs": [
    {
     "name": "stderr",
     "output_type": "stream",
     "text": [
      "C:\\Users\\bbuser\\anaconda3\\Lib\\site-packages\\keras\\src\\layers\\reshaping\\flatten.py:37: UserWarning: Do not pass an `input_shape`/`input_dim` argument to a layer. When using Sequential models, prefer using an `Input(shape)` object as the first layer in the model instead.\n",
      "  super().__init__(**kwargs)\n"
     ]
    }
   ],
   "source": [
    "# ----- Baseline Model (No Regularization) -----\n",
    "baseline_model = keras.Sequential([\n",
    "    layers.Flatten(input_shape=(32, 32, 3)),\n",
    "    layers.Dense(512, activation='relu'),\n",
    "    layers.Dense(256, activation='relu'),\n",
    "    layers.Dense(10, activation='softmax')\n",
    "])"
   ]
  },
  {
   "cell_type": "code",
   "execution_count": 8,
   "id": "5b82dfab-cdea-4849-975f-c58929da4062",
   "metadata": {},
   "outputs": [],
   "source": [
    "baseline_model.compile(optimizer='adam',\n",
    "                       loss='sparse_categorical_crossentropy',\n",
    "                       metrics=['accuracy'])"
   ]
  },
  {
   "cell_type": "code",
   "execution_count": 9,
   "id": "f807f4b4-97b9-4f18-a5fb-9f7b914746eb",
   "metadata": {},
   "outputs": [
    {
     "name": "stdout",
     "output_type": "stream",
     "text": [
      "Epoch 1/10\n",
      "625/625 - 29s - 47ms/step - accuracy: 0.3221 - loss: 1.8871 - val_accuracy: 0.3551 - val_loss: 1.7983\n",
      "Epoch 2/10\n",
      "625/625 - 26s - 42ms/step - accuracy: 0.3899 - loss: 1.7004 - val_accuracy: 0.3971 - val_loss: 1.6952\n",
      "Epoch 3/10\n",
      "625/625 - 27s - 43ms/step - accuracy: 0.4247 - loss: 1.6108 - val_accuracy: 0.4232 - val_loss: 1.6316\n",
      "Epoch 4/10\n",
      "625/625 - 26s - 41ms/step - accuracy: 0.4457 - loss: 1.5495 - val_accuracy: 0.4415 - val_loss: 1.5628\n",
      "Epoch 5/10\n",
      "625/625 - 19s - 31ms/step - accuracy: 0.4640 - loss: 1.5063 - val_accuracy: 0.4343 - val_loss: 1.5917\n",
      "Epoch 6/10\n",
      "625/625 - 28s - 45ms/step - accuracy: 0.4734 - loss: 1.4749 - val_accuracy: 0.4517 - val_loss: 1.5396\n",
      "Epoch 7/10\n",
      "625/625 - 28s - 45ms/step - accuracy: 0.4863 - loss: 1.4410 - val_accuracy: 0.4532 - val_loss: 1.5395\n",
      "Epoch 8/10\n",
      "625/625 - 29s - 46ms/step - accuracy: 0.4951 - loss: 1.4150 - val_accuracy: 0.4694 - val_loss: 1.4956\n",
      "Epoch 9/10\n",
      "625/625 - 29s - 46ms/step - accuracy: 0.5028 - loss: 1.3930 - val_accuracy: 0.4643 - val_loss: 1.5178\n",
      "Epoch 10/10\n",
      "625/625 - 30s - 47ms/step - accuracy: 0.5158 - loss: 1.3640 - val_accuracy: 0.4802 - val_loss: 1.4731\n"
     ]
    }
   ],
   "source": [
    "history_baseline = baseline_model.fit(\n",
    "    x_train, y_train, epochs=10, batch_size=64,\n",
    "    validation_split=0.2, verbose=2\n",
    ")"
   ]
  },
  {
   "cell_type": "code",
   "execution_count": 10,
   "id": "963362f0-f21b-44a2-a61a-87d5bfc8dd66",
   "metadata": {},
   "outputs": [],
   "source": [
    "# ----- Model with Dropout -----\n",
    "dropout_model = keras.Sequential([\n",
    "    layers.Flatten(input_shape=(32, 32, 3)),\n",
    "    layers.Dense(512, activation='relu'),\n",
    "    layers.Dropout(0.5),\n",
    "    layers.Dense(256, activation='relu'),\n",
    "    layers.Dropout(0.5),\n",
    "    layers.Dense(10, activation='softmax')\n",
    "])"
   ]
  },
  {
   "cell_type": "code",
   "execution_count": 11,
   "id": "ed70d37c-55fb-45f2-b993-570014c0b72b",
   "metadata": {},
   "outputs": [],
   "source": [
    "dropout_model.compile(optimizer='adam',\n",
    "                      loss='sparse_categorical_crossentropy',\n",
    "                      metrics=['accuracy'])"
   ]
  },
  {
   "cell_type": "code",
   "execution_count": 12,
   "id": "ae3565f7-787f-471f-9589-b2e1901f63b6",
   "metadata": {},
   "outputs": [
    {
     "name": "stdout",
     "output_type": "stream",
     "text": [
      "Epoch 1/20\n",
      "625/625 - 41s - 65ms/step - accuracy: 0.1765 - loss: 2.1813 - val_accuracy: 0.2185 - val_loss: 2.1005\n",
      "Epoch 2/20\n",
      "625/625 - 30s - 48ms/step - accuracy: 0.1971 - loss: 2.0828 - val_accuracy: 0.2679 - val_loss: 2.0204\n",
      "Epoch 3/20\n",
      "625/625 - 30s - 48ms/step - accuracy: 0.2137 - loss: 2.0458 - val_accuracy: 0.2245 - val_loss: 2.0263\n",
      "Epoch 4/20\n",
      "625/625 - 28s - 45ms/step - accuracy: 0.2260 - loss: 2.0300 - val_accuracy: 0.2881 - val_loss: 1.9774\n",
      "Epoch 5/20\n",
      "625/625 - 18s - 28ms/step - accuracy: 0.2356 - loss: 2.0084 - val_accuracy: 0.2588 - val_loss: 1.9933\n",
      "Epoch 6/20\n",
      "625/625 - 24s - 39ms/step - accuracy: 0.2409 - loss: 1.9975 - val_accuracy: 0.2799 - val_loss: 1.9802\n",
      "Epoch 7/20\n",
      "625/625 - 22s - 36ms/step - accuracy: 0.2447 - loss: 1.9867 - val_accuracy: 0.2738 - val_loss: 2.0034\n",
      "Epoch 8/20\n",
      "625/625 - 49s - 78ms/step - accuracy: 0.2490 - loss: 1.9783 - val_accuracy: 0.2923 - val_loss: 1.9616\n",
      "Epoch 9/20\n",
      "625/625 - 26s - 42ms/step - accuracy: 0.2519 - loss: 1.9661 - val_accuracy: 0.2936 - val_loss: 1.9640\n",
      "Epoch 10/20\n",
      "625/625 - 25s - 40ms/step - accuracy: 0.2540 - loss: 1.9690 - val_accuracy: 0.2942 - val_loss: 1.9597\n",
      "Epoch 11/20\n",
      "625/625 - 26s - 41ms/step - accuracy: 0.2553 - loss: 1.9616 - val_accuracy: 0.2909 - val_loss: 1.9779\n",
      "Epoch 12/20\n",
      "625/625 - 21s - 34ms/step - accuracy: 0.2551 - loss: 1.9613 - val_accuracy: 0.2847 - val_loss: 1.9618\n",
      "Epoch 13/20\n",
      "625/625 - 17s - 27ms/step - accuracy: 0.2587 - loss: 1.9508 - val_accuracy: 0.2862 - val_loss: 1.9918\n",
      "Epoch 14/20\n",
      "625/625 - 26s - 41ms/step - accuracy: 0.2603 - loss: 1.9536 - val_accuracy: 0.3001 - val_loss: 1.9584\n",
      "Epoch 15/20\n",
      "625/625 - 25s - 40ms/step - accuracy: 0.2629 - loss: 1.9495 - val_accuracy: 0.2790 - val_loss: 2.0072\n",
      "Epoch 16/20\n",
      "625/625 - 25s - 41ms/step - accuracy: 0.2639 - loss: 1.9483 - val_accuracy: 0.2860 - val_loss: 1.9824\n",
      "Epoch 17/20\n",
      "625/625 - 25s - 40ms/step - accuracy: 0.2655 - loss: 1.9494 - val_accuracy: 0.2810 - val_loss: 1.9801\n",
      "Epoch 18/20\n",
      "625/625 - 27s - 43ms/step - accuracy: 0.2624 - loss: 1.9473 - val_accuracy: 0.2983 - val_loss: 1.9815\n",
      "Epoch 19/20\n",
      "625/625 - 25s - 41ms/step - accuracy: 0.2663 - loss: 1.9408 - val_accuracy: 0.2802 - val_loss: 1.9672\n",
      "Epoch 20/20\n",
      "625/625 - 25s - 41ms/step - accuracy: 0.2683 - loss: 1.9417 - val_accuracy: 0.2666 - val_loss: 1.9811\n"
     ]
    }
   ],
   "source": [
    "history_dropout = dropout_model.fit(\n",
    "    x_train, y_train, epochs=20, batch_size=64,\n",
    "    validation_split=0.2, verbose=2\n",
    ")"
   ]
  },
  {
   "cell_type": "code",
   "execution_count": 13,
   "id": "682043f8-5a43-4a29-97db-dedf07cf3d85",
   "metadata": {},
   "outputs": [],
   "source": [
    "# ----- Model with L2 Weight Regularization -----\n",
    "l2_model = keras.Sequential([\n",
    "    layers.Flatten(input_shape=(32, 32, 3)),\n",
    "    layers.Dense(512, activation='relu', kernel_regularizer=regularizers.l2(0.001)),\n",
    "    layers.Dense(256, activation='relu', kernel_regularizer=regularizers.l2(0.001)),\n",
    "    layers.Dense(10, activation='softmax')\n",
    "])"
   ]
  },
  {
   "cell_type": "code",
   "execution_count": 14,
   "id": "11855697-3ba0-4961-ab6f-db794736238c",
   "metadata": {},
   "outputs": [],
   "source": [
    "l2_model.compile(optimizer='adam',\n",
    "                 loss='sparse_categorical_crossentropy',\n",
    "                 metrics=['accuracy'])"
   ]
  },
  {
   "cell_type": "code",
   "execution_count": 15,
   "id": "3088cbd7-529a-4270-b91e-3ba6d0b820d8",
   "metadata": {},
   "outputs": [
    {
     "name": "stdout",
     "output_type": "stream",
     "text": [
      "Epoch 1/20\n",
      "625/625 - 29s - 46ms/step - accuracy: 0.3194 - loss: 2.2892 - val_accuracy: 0.3562 - val_loss: 1.9547\n",
      "Epoch 2/20\n",
      "625/625 - 27s - 44ms/step - accuracy: 0.3818 - loss: 1.8610 - val_accuracy: 0.3842 - val_loss: 1.8525\n",
      "Epoch 3/20\n",
      "625/625 - 24s - 38ms/step - accuracy: 0.4097 - loss: 1.7608 - val_accuracy: 0.3953 - val_loss: 1.7841\n",
      "Epoch 4/20\n",
      "625/625 - 27s - 43ms/step - accuracy: 0.4223 - loss: 1.7090 - val_accuracy: 0.4335 - val_loss: 1.6953\n",
      "Epoch 5/20\n",
      "625/625 - 23s - 38ms/step - accuracy: 0.4330 - loss: 1.6792 - val_accuracy: 0.4360 - val_loss: 1.6779\n",
      "Epoch 6/20\n",
      "625/625 - 28s - 45ms/step - accuracy: 0.4441 - loss: 1.6455 - val_accuracy: 0.4362 - val_loss: 1.6922\n",
      "Epoch 7/20\n",
      "625/625 - 30s - 47ms/step - accuracy: 0.4464 - loss: 1.6398 - val_accuracy: 0.4287 - val_loss: 1.7309\n",
      "Epoch 8/20\n",
      "625/625 - 30s - 48ms/step - accuracy: 0.4548 - loss: 1.6181 - val_accuracy: 0.4236 - val_loss: 1.7139\n",
      "Epoch 9/20\n",
      "625/625 - 29s - 47ms/step - accuracy: 0.4620 - loss: 1.6012 - val_accuracy: 0.4512 - val_loss: 1.6579\n",
      "Epoch 10/20\n",
      "625/625 - 42s - 68ms/step - accuracy: 0.4618 - loss: 1.6018 - val_accuracy: 0.4284 - val_loss: 1.6998\n",
      "Epoch 11/20\n",
      "625/625 - 23s - 37ms/step - accuracy: 0.4718 - loss: 1.5794 - val_accuracy: 0.4150 - val_loss: 1.7255\n",
      "Epoch 12/20\n",
      "625/625 - 16s - 26ms/step - accuracy: 0.4709 - loss: 1.5782 - val_accuracy: 0.4468 - val_loss: 1.6544\n",
      "Epoch 13/20\n",
      "625/625 - 25s - 40ms/step - accuracy: 0.4740 - loss: 1.5713 - val_accuracy: 0.4753 - val_loss: 1.6034\n",
      "Epoch 14/20\n",
      "625/625 - 28s - 45ms/step - accuracy: 0.4791 - loss: 1.5650 - val_accuracy: 0.4564 - val_loss: 1.6382\n",
      "Epoch 15/20\n",
      "625/625 - 40s - 64ms/step - accuracy: 0.4833 - loss: 1.5528 - val_accuracy: 0.4654 - val_loss: 1.6082\n",
      "Epoch 16/20\n",
      "625/625 - 22s - 36ms/step - accuracy: 0.4812 - loss: 1.5534 - val_accuracy: 0.4374 - val_loss: 1.6971\n",
      "Epoch 17/20\n",
      "625/625 - 29s - 46ms/step - accuracy: 0.4822 - loss: 1.5519 - val_accuracy: 0.4672 - val_loss: 1.6176\n",
      "Epoch 18/20\n",
      "625/625 - 30s - 47ms/step - accuracy: 0.4843 - loss: 1.5423 - val_accuracy: 0.4609 - val_loss: 1.6202\n",
      "Epoch 19/20\n",
      "625/625 - 29s - 46ms/step - accuracy: 0.4859 - loss: 1.5404 - val_accuracy: 0.4671 - val_loss: 1.5951\n",
      "Epoch 20/20\n",
      "625/625 - 29s - 47ms/step - accuracy: 0.4885 - loss: 1.5326 - val_accuracy: 0.4665 - val_loss: 1.6213\n"
     ]
    }
   ],
   "source": [
    "history_l2 = l2_model.fit(\n",
    "    x_train, y_train, epochs=20, batch_size=64,\n",
    "    validation_split=0.2, verbose=2\n",
    ")"
   ]
  },
  {
   "cell_type": "code",
   "execution_count": 16,
   "id": "91c38fef-cc13-4330-bc6f-c9368a7165ee",
   "metadata": {},
   "outputs": [],
   "source": [
    "# ----- Model with Early Stopping -----\n",
    "early_stop = keras.callbacks.EarlyStopping(\n",
    "    monitor='val_loss', patience=3, restore_best_weights=True\n",
    ")"
   ]
  },
  {
   "cell_type": "code",
   "execution_count": 17,
   "id": "0ef8f19b-2d07-4a63-83f9-440cc30c968f",
   "metadata": {},
   "outputs": [],
   "source": [
    "early_model = keras.Sequential([\n",
    "    layers.Flatten(input_shape=(32, 32, 3)),\n",
    "    layers.Dense(512, activation='relu'),\n",
    "    layers.Dropout(0.5),\n",
    "    layers.Dense(256, activation='relu'),\n",
    "    layers.Dense(10, activation='softmax')\n",
    "])"
   ]
  },
  {
   "cell_type": "code",
   "execution_count": 18,
   "id": "51fcc75c-8145-4d83-90a2-5fa7dea72e17",
   "metadata": {},
   "outputs": [],
   "source": [
    "early_model.compile(optimizer='adam',\n",
    "                    loss='sparse_categorical_crossentropy',\n",
    "                    metrics=['accuracy'])"
   ]
  },
  {
   "cell_type": "code",
   "execution_count": 19,
   "id": "434f00de-04d1-49b2-a83f-d31a2d681c8e",
   "metadata": {},
   "outputs": [
    {
     "name": "stdout",
     "output_type": "stream",
     "text": [
      "Epoch 1/50\n",
      "625/625 - 43s - 69ms/step - accuracy: 0.2169 - loss: 2.0869 - val_accuracy: 0.2906 - val_loss: 1.9283\n",
      "Epoch 2/50\n",
      "625/625 - 28s - 45ms/step - accuracy: 0.2538 - loss: 1.9820 - val_accuracy: 0.3152 - val_loss: 1.9212\n",
      "Epoch 3/50\n",
      "625/625 - 21s - 34ms/step - accuracy: 0.2690 - loss: 1.9510 - val_accuracy: 0.3210 - val_loss: 1.9310\n",
      "Epoch 4/50\n",
      "625/625 - 28s - 45ms/step - accuracy: 0.2785 - loss: 1.9240 - val_accuracy: 0.3119 - val_loss: 1.9647\n",
      "Epoch 5/50\n",
      "625/625 - 40s - 65ms/step - accuracy: 0.2860 - loss: 1.9159 - val_accuracy: 0.3470 - val_loss: 1.9174\n",
      "Epoch 6/50\n",
      "625/625 - 28s - 45ms/step - accuracy: 0.2914 - loss: 1.9065 - val_accuracy: 0.3189 - val_loss: 1.9314\n",
      "Epoch 7/50\n",
      "625/625 - 20s - 32ms/step - accuracy: 0.2954 - loss: 1.8913 - val_accuracy: 0.3348 - val_loss: 1.8982\n",
      "Epoch 8/50\n",
      "625/625 - 25s - 41ms/step - accuracy: 0.3041 - loss: 1.8808 - val_accuracy: 0.3344 - val_loss: 1.9171\n",
      "Epoch 9/50\n",
      "625/625 - 19s - 30ms/step - accuracy: 0.3048 - loss: 1.8747 - val_accuracy: 0.3395 - val_loss: 1.8908\n",
      "Epoch 10/50\n",
      "625/625 - 25s - 41ms/step - accuracy: 0.3094 - loss: 1.8659 - val_accuracy: 0.3605 - val_loss: 1.8979\n",
      "Epoch 11/50\n",
      "625/625 - 19s - 31ms/step - accuracy: 0.3153 - loss: 1.8597 - val_accuracy: 0.3530 - val_loss: 1.8841\n",
      "Epoch 12/50\n",
      "625/625 - 16s - 25ms/step - accuracy: 0.3173 - loss: 1.8556 - val_accuracy: 0.3514 - val_loss: 1.8741\n",
      "Epoch 13/50\n",
      "625/625 - 16s - 25ms/step - accuracy: 0.3170 - loss: 1.8561 - val_accuracy: 0.3674 - val_loss: 1.8756\n",
      "Epoch 14/50\n",
      "625/625 - 17s - 27ms/step - accuracy: 0.3262 - loss: 1.8463 - val_accuracy: 0.3715 - val_loss: 1.8586\n",
      "Epoch 15/50\n",
      "625/625 - 21s - 34ms/step - accuracy: 0.3282 - loss: 1.8350 - val_accuracy: 0.3455 - val_loss: 1.9004\n",
      "Epoch 16/50\n",
      "625/625 - 18s - 29ms/step - accuracy: 0.3279 - loss: 1.8353 - val_accuracy: 0.3542 - val_loss: 1.8902\n",
      "Epoch 17/50\n",
      "625/625 - 18s - 29ms/step - accuracy: 0.3293 - loss: 1.8324 - val_accuracy: 0.3655 - val_loss: 1.8618\n"
     ]
    }
   ],
   "source": [
    "history_early = early_model.fit(\n",
    "    x_train, y_train, epochs=50, batch_size=64,\n",
    "    validation_split=0.2, verbose=2,\n",
    "    callbacks=[early_stop]\n",
    ")\n"
   ]
  },
  {
   "cell_type": "code",
   "execution_count": 20,
   "id": "ace9e952-9940-4ee4-b64e-b09a5fcafa81",
   "metadata": {},
   "outputs": [
    {
     "name": "stdout",
     "output_type": "stream",
     "text": [
      "\n",
      "Baseline Model Accuracy:\n",
      "313/313 - 3s - 8ms/step - accuracy: 0.4910 - loss: 1.4408\n"
     ]
    },
    {
     "data": {
      "text/plain": [
       "[1.4408011436462402, 0.4909999966621399]"
      ]
     },
     "execution_count": 20,
     "metadata": {},
     "output_type": "execute_result"
    }
   ],
   "source": [
    "# ----- Evaluate Models -----\n",
    "print(\"\\nBaseline Model Accuracy:\")\n",
    "baseline_model.evaluate(x_test, y_test, verbose=2)"
   ]
  },
  {
   "cell_type": "code",
   "execution_count": 21,
   "id": "5105be35-b308-421d-b7a4-977bee1daa01",
   "metadata": {},
   "outputs": [
    {
     "name": "stdout",
     "output_type": "stream",
     "text": [
      "\n",
      "Dropout Model Accuracy:\n",
      "313/313 - 3s - 8ms/step - accuracy: 0.2706 - loss: 1.9712\n"
     ]
    },
    {
     "data": {
      "text/plain": [
       "[1.9711925983428955, 0.27059999108314514]"
      ]
     },
     "execution_count": 21,
     "metadata": {},
     "output_type": "execute_result"
    }
   ],
   "source": [
    "print(\"\\nDropout Model Accuracy:\")\n",
    "dropout_model.evaluate(x_test, y_test, verbose=2)"
   ]
  },
  {
   "cell_type": "code",
   "execution_count": 22,
   "id": "c4905e6a-487a-4c44-a3c6-e56b6957beab",
   "metadata": {},
   "outputs": [
    {
     "name": "stdout",
     "output_type": "stream",
     "text": [
      "\n",
      "L2 Regularized Model Accuracy:\n",
      "313/313 - 3s - 9ms/step - accuracy: 0.4788 - loss: 1.5826\n"
     ]
    },
    {
     "data": {
      "text/plain": [
       "[1.582578420639038, 0.4787999987602234]"
      ]
     },
     "execution_count": 22,
     "metadata": {},
     "output_type": "execute_result"
    }
   ],
   "source": [
    "print(\"\\nL2 Regularized Model Accuracy:\")\n",
    "l2_model.evaluate(x_test, y_test, verbose=2)"
   ]
  },
  {
   "cell_type": "code",
   "execution_count": 23,
   "id": "4a461c23-fec2-4931-a6de-f280327bb049",
   "metadata": {},
   "outputs": [
    {
     "name": "stdout",
     "output_type": "stream",
     "text": [
      "\n",
      "Early Stopping Model Accuracy:\n",
      "313/313 - 2s - 7ms/step - accuracy: 0.3781 - loss: 1.8412\n"
     ]
    },
    {
     "data": {
      "text/plain": [
       "[1.8412437438964844, 0.3781000077724457]"
      ]
     },
     "execution_count": 23,
     "metadata": {},
     "output_type": "execute_result"
    }
   ],
   "source": [
    "print(\"\\nEarly Stopping Model Accuracy:\")\n",
    "early_model.evaluate(x_test, y_test, verbose=2)"
   ]
  },
  {
   "cell_type": "code",
   "execution_count": 24,
   "id": "1c5b0d62-0eba-444c-a8e6-0bd5375d0303",
   "metadata": {},
   "outputs": [
    {
     "data": {
      "image/png": "[encoded data removed]",
      "text/plain": [
       "<Figure size 1000x600 with 1 Axes>"
      ]
     },
     "metadata": {},
     "output_type": "display_data"
    }
   ],
   "source": [
    "import matplotlib.pyplot as plt\n",
    "\n",
    "def plot_history(histories, titles):\n",
    "    plt.figure(figsize=(10,6))\n",
    "    for hist, title in zip(histories, titles):\n",
    "        plt.plot(hist.history['val_accuracy'], label=title)\n",
    "    plt.title('Validation Accuracy Comparison')\n",
    "    plt.xlabel('Epoch')\n",
    "    plt.ylabel('Validation Accuracy')\n",
    "    plt.legend()\n",
    "    plt.show()\n",
    "\n",
    "plot_history(\n",
    "    [history_baseline, history_dropout, history_l2, history_early],\n",
    "    ['Baseline', 'Dropout', 'L2', 'EarlyStopping']\n",
    ")"
   ]
  },
  {
   "cell_type": "code",
   "execution_count": null,
   "id": "39849d3a-ec92-4b31-85ce-a0d19f18f5da",
   "metadata": {},
   "outputs": [],
   "source": []
  }
 ],
 "metadata": {
  "kernelspec": {
   "display_name": "Python [conda env:base] *",
   "language": "python",
   "name": "conda-base-py"
  },
  "language_info": {
   "codemirror_mode": {
    "name": "ipython",
    "version": 3
   },
   "file_extension": ".py",
   "mimetype": "text/x-python",
   "name": "python",
   "nbconvert_exporter": "python",
   "pygments_lexer": "ipython3",
   "version": "3.13.5"
  }
 },
 "nbformat": 4,
 "nbformat_minor": 5
}
