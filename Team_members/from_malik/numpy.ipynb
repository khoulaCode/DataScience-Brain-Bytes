{
 "cells": [
  {
   "cell_type": "markdown",
   "id": "fba2ed3b-840f-4bf0-a445-ae1c96817818",
   "metadata": {},
   "source": [
    "# This is the first Notebook\n",
    "## tesk\n",
    "### Malik\n",
    "__hi__\n",
    "*hello*\n",
    "* point 1\n",
    "* point 2\n",
    "  * point 2.1\n",
    "\n"
   ]
  },
  {
   "cell_type": "code",
   "execution_count": 3,
   "id": "9f206bb9-4aab-408c-9292-855656f502d3",
   "metadata": {},
   "outputs": [
    {
     "name": "stdout",
     "output_type": "stream",
     "text": [
      "hello world\n"
     ]
    }
   ],
   "source": [
    "print(\"hello world\")"
   ]
  },
  {
   "cell_type": "markdown",
   "id": "a76e9a56-e603-4647-ae1d-8b90835b48b7",
   "metadata": {},
   "source": [
    "[open this link](https://www.youtube.com/watch?v=suAkMeWJ1yE)"
   ]
  },
  {
   "cell_type": "code",
   "execution_count": 17,
   "id": "d28a2083-8e81-4d1f-b9cd-b3d5c2d0ddb1",
   "metadata": {},
   "outputs": [],
   "source": [
    "def get_even_numbers(numbers):\n",
    "    even_numbers = []\n",
    "    for number in numbers:\n",
    "        if number % 2 == 0:\n",
    "            even_numbers.append(number)\n",
    "    return even_numbers"
   ]
  },
  {
   "cell_type": "code",
   "execution_count": 18,
   "id": "5064b7d5-d58e-4b91-be41-16a6900f59b9",
   "metadata": {},
   "outputs": [
    {
     "name": "stdin",
     "output_type": "stream",
     "text": [
      "Enter numbers separated by commas:  1,2,3,4,5,6\n"
     ]
    },
    {
     "name": "stdout",
     "output_type": "stream",
     "text": [
      "[2, 4, 6]\n"
     ]
    }
   ],
   "source": [
    "user_input = input(\"Enter numbers separated by commas: \")\n",
    "numbers = [int(num.strip()) for num in user_input.split(\",\")]\n",
    "result = get_even_numbers(numbers)\n",
    "print(result)"
   ]
  },
  {
   "cell_type": "code",
   "execution_count": 20,
   "id": "8a0a7a0f-67b1-40eb-83a7-e010e6e75937",
   "metadata": {},
   "outputs": [],
   "source": [
    "import numpy as np"
   ]
  },
  {
   "cell_type": "code",
   "execution_count": 21,
   "id": "8db9e171-8bd4-4cff-9b3d-7e0186756acd",
   "metadata": {},
   "outputs": [
    {
     "data": {
      "text/plain": [
       "dtype('int64')"
      ]
     },
     "execution_count": 21,
     "metadata": {},
     "output_type": "execute_result"
    }
   ],
   "source": [
    "list_1d = (1,2,3,4)\n",
    "arr_1d = np.array(list_1d)\n",
    "arr_1d.dtype"
   ]
  },
  {
   "cell_type": "code",
   "execution_count": 22,
   "id": "ec3f0993-ff05-4922-acd7-b1c62ba396f6",
   "metadata": {},
   "outputs": [
    {
     "data": {
      "text/plain": [
       "1"
      ]
     },
     "execution_count": 22,
     "metadata": {},
     "output_type": "execute_result"
    }
   ],
   "source": [
    "arr_1d.ndim"
   ]
  },
  {
   "cell_type": "markdown",
   "id": "ceaf2797-2f76-4038-a534-ed84ed086041",
   "metadata": {},
   "source": [
    "Create a 1D array named arr1d with integers from 0 to 9."
   ]
  },
  {
   "cell_type": "code",
   "execution_count": 23,
   "id": "dd9935a2-3e4c-4798-8427-872cdd6418b2",
   "metadata": {},
   "outputs": [
    {
     "data": {
      "text/plain": [
       "array([0, 1, 2, 3, 4, 5, 6, 7, 8, 9])"
      ]
     },
     "execution_count": 23,
     "metadata": {},
     "output_type": "execute_result"
    }
   ],
   "source": [
    "arr1d = np.arange(10)\n",
    "arr1d"
   ]
  },
  {
   "cell_type": "markdown",
   "id": "e82b6509-4e27-4092-a8ac-69a392eb4737",
   "metadata": {},
   "source": [
    "Create a 2D array named arr2d with shape (3, 3) filled with ones."
   ]
  },
  {
   "cell_type": "code",
   "execution_count": 24,
   "id": "8bc2c45b-5b80-4aa8-96b2-8366b336ed06",
   "metadata": {},
   "outputs": [
    {
     "data": {
      "text/plain": [
       "array([[1., 1., 1.],\n",
       "       [1., 1., 1.],\n",
       "       [1., 1., 1.]])"
      ]
     },
     "execution_count": 24,
     "metadata": {},
     "output_type": "execute_result"
    }
   ],
   "source": [
    "arr2d = np.ones((3, 3))\n",
    "arr2d"
   ]
  },
  {
   "cell_type": "markdown",
   "id": "004b3a3f-fdd7-4723-91c4-af849f26d9cf",
   "metadata": {},
   "source": [
    "Create a 3x3 array named random_matrix with random floating-point numbers from a standard normal distribution."
   ]
  },
  {
   "cell_type": "code",
   "execution_count": 25,
   "id": "6318cfc1-459e-4cb0-acfc-d3b671de735d",
   "metadata": {},
   "outputs": [
    {
     "data": {
      "text/plain": [
       "array([[-0.12311028, -0.48405518, -1.07244637],\n",
       "       [-0.26908754, -0.09678387,  0.32800229],\n",
       "       [ 1.42413043,  2.15252656,  0.40914011]])"
      ]
     },
     "execution_count": 25,
     "metadata": {},
     "output_type": "execute_result"
    }
   ],
   "source": [
    "random_matrix = np.random.randn(3, 3)\n",
    "random_matrix"
   ]
  },
  {
   "cell_type": "markdown",
   "id": "a8c50965-df17-4759-81cb-fd978d2424ad",
   "metadata": {},
   "source": [
    "Create an array named even_numbers containing even numbers from 10 to 50 (inclusive).\n",
    " "
   ]
  },
  {
   "cell_type": "code",
   "execution_count": 26,
   "id": "5bb855d7-16a2-4a31-af85-14ce81e1fc46",
   "metadata": {},
   "outputs": [
    {
     "data": {
      "text/plain": [
       "array([10, 12, 14, 16, 18, 20, 22, 24, 26, 28, 30, 32, 34, 36, 38, 40, 42,\n",
       "       44, 46, 48, 50])"
      ]
     },
     "execution_count": 26,
     "metadata": {},
     "output_type": "execute_result"
    }
   ],
   "source": [
    "even_numbers = np.arange(10, 52, 2)\n",
    "even_numbers"
   ]
  },
  {
   "cell_type": "markdown",
   "id": "7377b75d-36ac-4d52-baf6-f9716952e898",
   "metadata": {},
   "source": [
    "Create an array named linspace_array containing 7 equally spaced numbers between 0 and 1 (inclusive)."
   ]
  },
  {
   "cell_type": "code",
   "execution_count": 27,
   "id": "7ba8244c-99be-4cf3-9d0e-5ad28abf778e",
   "metadata": {},
   "outputs": [
    {
     "data": {
      "text/plain": [
       "array([0.        , 0.16666667, 0.33333333, 0.5       , 0.66666667,\n",
       "       0.83333333, 1.        ])"
      ]
     },
     "execution_count": 27,
     "metadata": {},
     "output_type": "execute_result"
    }
   ],
   "source": [
    "linspace_array = np.linspace(0, 1, 7)\n",
    "linspace_array"
   ]
  },
  {
   "cell_type": "markdown",
   "id": "fb37b36d-63ea-472f-8c44-758f90a194fc",
   "metadata": {},
   "source": [
    "Given arr = np.array([[1, 2, 3], [4, 5, 6]]), what is its shape, ndim, and dtype? Print them."
   ]
  },
  {
   "cell_type": "code",
   "execution_count": 28,
   "id": "11b605b7-713d-47f3-8fbc-ebaacdb31ef5",
   "metadata": {},
   "outputs": [
    {
     "name": "stdout",
     "output_type": "stream",
     "text": [
      "Shape: (2, 3)\n",
      "Number of dimensions (ndim): 2\n",
      "Data type (dtype): int64\n"
     ]
    }
   ],
   "source": [
    "arr = np.array([[1, 2, 3], [4, 5, 6]])\n",
    "print(\"Shape:\", arr.shape)\n",
    "print(\"Number of dimensions (ndim):\", arr.ndim)\n",
    "print(\"Data type (dtype):\", arr.dtype)"
   ]
  },
  {
   "cell_type": "markdown",
   "id": "b83dd6d1-fcb5-4064-bf1d-23859072201d",
   "metadata": {},
   "source": [
    "Reshape arr1d (from Q1) into a 2x5 2D array. Name the new array reshaped_arr."
   ]
  },
  {
   "cell_type": "code",
   "execution_count": 29,
   "id": "e80ec750-067e-4c6d-a512-5215df5d52b0",
   "metadata": {},
   "outputs": [
    {
     "name": "stdout",
     "output_type": "stream",
     "text": [
      "reshaped_arr:\n",
      " [[0 1 2 3 4]\n",
      " [5 6 7 8 9]]\n"
     ]
    }
   ],
   "source": [
    "reshaped_arr = arr1d.reshape(2,5)\n",
    "print (\"reshaped_arr:\\n\", reshaped_arr)"
   ]
  },
  {
   "cell_type": "markdown",
   "id": "91573f32-5be1-43bf-93eb-44eea94f0c30",
   "metadata": {},
   "source": [
    "Transpose reshaped_arr (from Q7). Name the result transposed_arr."
   ]
  },
  {
   "cell_type": "code",
   "execution_count": 30,
   "id": "c50f7f33-074f-49fb-b9b1-741f94078e36",
   "metadata": {},
   "outputs": [
    {
     "name": "stdout",
     "output_type": "stream",
     "text": [
      "transposed_arr:\n",
      " [[0 5]\n",
      " [1 6]\n",
      " [2 7]\n",
      " [3 8]\n",
      " [4 9]]\n"
     ]
    }
   ],
   "source": [
    "transposed_arr = reshaped_arr.T\n",
    "print(\"transposed_arr:\\n\", transposed_arr)"
   ]
  },
  {
   "cell_type": "markdown",
   "id": "e12c6bad-242a-4b2d-9458-eb0f919ccb18",
   "metadata": {},
   "source": [
    "Stack two 1D arrays a = np.array([1, 2, 3]) and b = np.array([4, 5, 6]) vertically."
   ]
  },
  {
   "cell_type": "code",
   "execution_count": 34,
   "id": "d6015b72-6d31-46dd-bfac-14f4463d916e",
   "metadata": {},
   "outputs": [
    {
     "name": "stdout",
     "output_type": "stream",
     "text": [
      "Vertically stacked:\n",
      " [[1 2 3]\n",
      " [4 5 6]]\n"
     ]
    }
   ],
   "source": [
    "a = np.array([1, 2, 3])\n",
    "b = np.array([4, 5, 6])\n",
    "stacked_vertical = np.vstack((a,b))\n",
    "print(\"Vertically stacked:\\n\", stacked_vertical)"
   ]
  },
  {
   "cell_type": "markdown",
   "id": "489c1220-621a-4977-bc4c-ec32f3608904",
   "metadata": {},
   "source": [
    "Stack two 2D arrays m1 = np.array([[1, 2], [3, 4]]) and m2 = np.array([[5, 6], [7, 8]]) horizontally."
   ]
  },
  {
   "cell_type": "code",
   "execution_count": 35,
   "id": "c4ce92a8-c1e2-44cb-bc90-51a90648f1ea",
   "metadata": {},
   "outputs": [
    {
     "name": "stdout",
     "output_type": "stream",
     "text": [
      "Horizontally stacked:\n",
      " [[1 2 5 6]\n",
      " [3 4 7 8]]\n"
     ]
    }
   ],
   "source": [
    "m1 = np.array([[1, 2], [3, 4]])\n",
    "m2 = np.array([[5, 6], [7, 8]])\n",
    "stacked_horizontal = np.hstack((m1, m2))\n",
    "print(\"Horizontally stacked:\\n\", stacked_horizontal)"
   ]
  },
  {
   "cell_type": "markdown",
   "id": "1c93484c-5d4f-4f03-82d7-3352a9eaf337",
   "metadata": {},
   "source": [
    "Split the array arr_to_split = np.arange(16).reshape(4, 4) horizontally into 2 equal parts. Print both parts."
   ]
  },
  {
   "cell_type": "code",
   "execution_count": 36,
   "id": "4adc794a-3e1e-4783-ac20-a94679443697",
   "metadata": {},
   "outputs": [
    {
     "name": "stdout",
     "output_type": "stream",
     "text": [
      "First half horizontally:\n",
      " [[ 0  1]\n",
      " [ 4  5]\n",
      " [ 8  9]\n",
      " [12 13]]\n",
      "Second half horizontally:\n",
      " [[ 2  3]\n",
      " [ 6  7]\n",
      " [10 11]\n",
      " [14 15]]\n"
     ]
    }
   ],
   "source": [
    "arr_to_split = np.arange(16).reshape(4, 4)\n",
    "split_h = np.hsplit(arr_to_split, 2)\n",
    "print(\"First half horizontally:\\n\", split_h[0])\n",
    "print(\"Second half horizontally:\\n\", split_h[1])\n"
   ]
  },
  {
   "cell_type": "markdown",
   "id": "07a3a60e-4def-4ffd-87ae-98080d064d2a",
   "metadata": {},
   "source": [
    "Split the array arr_to_split (from Q11) vertically at index 2 (i.e., into two parts: first two rows, and last two rows). Print both parts."
   ]
  },
  {
   "cell_type": "code",
   "execution_count": 37,
   "id": "2d981bd7-00cc-43f0-b3c6-af24fa6efa5b",
   "metadata": {},
   "outputs": [
    {
     "name": "stdout",
     "output_type": "stream",
     "text": [
      "First half vertically:\n",
      " [[0 1 2 3]\n",
      " [4 5 6 7]]\n",
      "Second half vertically:\n",
      " [[ 8  9 10 11]\n",
      " [12 13 14 15]]\n"
     ]
    }
   ],
   "source": [
    "split_v = np.vsplit(arr_to_split, 2)\n",
    "print(\"First half vertically:\\n\", split_v[0])\n",
    "print(\"Second half vertically:\\n\", split_v[1])\n"
   ]
  },
  {
   "cell_type": "markdown",
   "id": "03de0b86-c758-416d-b0aa-6c78cf32c3df",
   "metadata": {},
   "source": [
    "Given data = np.array([[10, 11, 12], [13, 14, 15], [16, 17, 18]]), extract the element at row 1, column 2."
   ]
  },
  {
   "cell_type": "code",
   "execution_count": 38,
   "id": "0d353176-abab-482f-9c3e-a93b2169a54b",
   "metadata": {},
   "outputs": [
    {
     "name": "stdout",
     "output_type": "stream",
     "text": [
      "Element at row 1, column 2: 15\n"
     ]
    }
   ],
   "source": [
    "data = np.array([[10, 11, 12], [13, 14, 15], [16, 17, 18]])\n",
    "element = data[1, 2]\n",
    "print(\"Element at row 1, column 2:\", element)\n"
   ]
  },
  {
   "cell_type": "markdown",
   "id": "a74b3b4b-4db0-4684-bf56-b39bcdf31e17",
   "metadata": {},
   "source": [
    "From the data array (from Q13), extract the first two rows and all columns."
   ]
  },
  {
   "cell_type": "code",
   "execution_count": 39,
   "id": "944108c5-838a-4889-b388-737059f18dc7",
   "metadata": {},
   "outputs": [
    {
     "name": "stdout",
     "output_type": "stream",
     "text": [
      "First two rows:\n",
      " [[10 11 12]\n",
      " [13 14 15]]\n"
     ]
    }
   ],
   "source": [
    "first_two_rows = data[:2, :]\n",
    "print(\"First two rows:\\n\", first_two_rows)\n"
   ]
  },
  {
   "cell_type": "markdown",
   "id": "b7d6bff2-7996-4632-a474-72d3029f4025",
   "metadata": {},
   "source": [
    "From the data array (from Q13), extract the elements 11, 15, and 17 using fancy indexing (hint: you'll need to specify rows and columns)."
   ]
  },
  {
   "cell_type": "code",
   "execution_count": 40,
   "id": "79985a97-3887-4d86-83f8-df59f36c4adf",
   "metadata": {},
   "outputs": [
    {
     "name": "stdout",
     "output_type": "stream",
     "text": [
      "Selected elements: [11 15 17]\n"
     ]
    }
   ],
   "source": [
    "elements = data[[0, 1, 2], [1, 2, 1]]\n",
    "print(\"Selected elements:\", elements)\n"
   ]
  },
  {
   "cell_type": "markdown",
   "id": "a35b206f-f359-4e96-93a8-34df6356e297",
   "metadata": {},
   "source": [
    "Given scores = np.array([85, 92, 78, 65, 95, 88]), use boolean indexing to find all scores greater than 80."
   ]
  },
  {
   "cell_type": "code",
   "execution_count": 41,
   "id": "048154cb-2b1f-49d6-99c7-a28ef6781196",
   "metadata": {},
   "outputs": [
    {
     "name": "stdout",
     "output_type": "stream",
     "text": [
      "Scores > 80: [85 92 95 88]\n"
     ]
    }
   ],
   "source": [
    "scores = np.array([85, 92, 78, 65, 95, 88])\n",
    "high_scores = scores[scores > 80]\n",
    "print(\"Scores > 80:\", high_scores)\n"
   ]
  },
  {
   "cell_type": "markdown",
   "id": "d32bff37-2c90-46c7-b4c3-50dfbccb0eed",
   "metadata": {},
   "source": [
    "Given arr_op1 = np.array([10, 20, 30]) and arr_op2 = np.array([2, 4, 6]), perform element-wise multiplication and division (arr_op1 / arr_op2)."
   ]
  },
  {
   "cell_type": "code",
   "execution_count": 42,
   "id": "3f28cb77-1c95-4ef1-9127-53fb07b9ddd2",
   "metadata": {},
   "outputs": [
    {
     "name": "stdout",
     "output_type": "stream",
     "text": [
      "Multiplication: [ 20  80 180]\n",
      "Division: [5. 5. 5.]\n"
     ]
    }
   ],
   "source": [
    "arr_op1 = np.array([10, 20, 30])\n",
    "arr_op2 = np.array([2, 4, 6])\n",
    "print(\"Multiplication:\", arr_op1 * arr_op2)\n",
    "print(\"Division:\", arr_op1 / arr_op2)\n"
   ]
  },
  {
   "cell_type": "markdown",
   "id": "e994ed6c-ca0a-4e53-8983-f6da3e44f07a",
   "metadata": {},
   "source": [
    "Given matrix = np.array([[1, 2, 3], [4, 5, 6], [7, 8, 9]]), calculate the sum of all elements in the matrix."
   ]
  },
  {
   "cell_type": "code",
   "execution_count": 43,
   "id": "af9483d8-5a50-4cea-8f4d-f7bc1e6994bd",
   "metadata": {},
   "outputs": [
    {
     "name": "stdout",
     "output_type": "stream",
     "text": [
      "Total sum: 45\n"
     ]
    }
   ],
   "source": [
    "matrix = np.array([[1, 2, 3], [4, 5, 6], [7, 8, 9]])\n",
    "total_sum = matrix.sum()\n",
    "print(\"Total sum:\", total_sum)\n"
   ]
  },
  {
   "cell_type": "markdown",
   "id": "bfaaa52d-67d2-40f6-bc4c-dcbf78f85d31",
   "metadata": {},
   "source": [
    "From the matrix (from Q18), calculate the mean of each column."
   ]
  },
  {
   "cell_type": "code",
   "execution_count": 44,
   "id": "6d5751d0-1f8f-4530-a961-cafb34099fa8",
   "metadata": {},
   "outputs": [
    {
     "name": "stdout",
     "output_type": "stream",
     "text": [
      "Column means: [4. 5. 6.]\n"
     ]
    }
   ],
   "source": [
    "column_means = matrix.mean(axis=0)\n",
    "print(\"Column means:\", column_means)\n"
   ]
  },
  {
   "cell_type": "markdown",
   "id": "7646d6c4-5810-478e-bc4e-db064f09b225",
   "metadata": {},
   "source": [
    "Given price_array = np.array([100, 150, 200, 250]) and discount_percentage = 0.10, apply a 10% discount to all prices using broadcasting."
   ]
  },
  {
   "cell_type": "code",
   "execution_count": 45,
   "id": "4d423ddf-37e3-450f-b878-84d2a2906e9d",
   "metadata": {},
   "outputs": [
    {
     "name": "stdout",
     "output_type": "stream",
     "text": [
      "Discounted prices: [ 90. 135. 180. 225.]\n"
     ]
    }
   ],
   "source": [
    "price_array = np.array([100, 150, 200, 250])\n",
    "discount_percentage = 0.10\n",
    "discounted_prices = price_array * (1 - discount_percentage)\n",
    "print(\"Discounted prices:\", discounted_prices)\n"
   ]
  },
  {
   "cell_type": "code",
   "execution_count": null,
   "id": "1e3e7163-3f43-42e8-964c-9b2336f72f40",
   "metadata": {},
   "outputs": [],
   "source": []
  }
 ],
 "metadata": {
  "kernelspec": {
   "display_name": "Python [conda env:base] *",
   "language": "python",
   "name": "conda-base-py"
  },
  "language_info": {
   "codemirror_mode": {
    "name": "ipython",
    "version": 3
   },
   "file_extension": ".py",
   "mimetype": "text/x-python",
   "name": "python",
   "nbconvert_exporter": "python",
   "pygments_lexer": "ipython3",
   "version": "3.13.5"
  }
 },
 "nbformat": 4,
 "nbformat_minor": 5
}
