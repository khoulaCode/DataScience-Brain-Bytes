{
 "cells": [
  {
   "cell_type": "code",
   "execution_count": 21,
   "id": "3cdc95d6-be3f-4ffa-bfb9-ac0abc90a82b",
   "metadata": {},
   "outputs": [],
   "source": [
    "from sklearn.datasets import fetch_california_housing\n",
    "from sklearn.model_selection import train_test_split\n",
    "from sklearn.preprocessing import StandardScaler\n",
    "from sklearn.metrics import mean_squared_error, mean_absolute_error\n",
    "from keras.models import Sequential\n",
    "from keras.layers import Dense\n",
    "import numpy as np\n",
    "import time"
   ]
  },
  {
   "cell_type": "code",
   "execution_count": 22,
   "id": "2f725b1b-8e31-436f-8502-17a4fb3cad25",
   "metadata": {},
   "outputs": [],
   "source": [
    "# Load California Housing dataset\n",
    "housing = fetch_california_housing()\n",
    "X, y = housing.data, housing.target"
   ]
  },
  {
   "cell_type": "code",
   "execution_count": 23,
   "id": "26f32ba6-9dbb-4dea-891e-ee65fe8d2f57",
   "metadata": {},
   "outputs": [],
   "source": [
    "# Split the data\n",
    "X_train, X_test, y_train, y_test = train_test_split(X, y, test_size=0.2, random_state=42)"
   ]
  },
  {
   "cell_type": "code",
   "execution_count": 24,
   "id": "829bba5b-bf18-4205-8be8-f83dfe151bef",
   "metadata": {},
   "outputs": [],
   "source": [
    "# Scale features (important for regression!)\n",
    "scaler = StandardScaler()\n",
    "X_train = scaler.fit_transform(X_train)\n",
    "X_test = scaler.transform(X_test)"
   ]
  },
  {
   "cell_type": "code",
   "execution_count": 25,
   "id": "89897171-2010-4832-ade7-60cdf8673640",
   "metadata": {},
   "outputs": [
    {
     "name": "stdout",
     "output_type": "stream",
     "text": [
      "Data prepared successfully!\n",
      "Training data shape: (16512, 8)\n",
      "Test data shape: (4128, 8)\n"
     ]
    }
   ],
   "source": [
    "print(\"Data prepared successfully!\")\n",
    "print(f\"Training data shape: {X_train.shape}\")\n",
    "print(f\"Test data shape: {X_test.shape}\")"
   ]
  },
  {
   "cell_type": "markdown",
   "id": "ec4e6130-9c6f-443b-8258-31e3a879da6c",
   "metadata": {},
   "source": [
    "# BASELINE: Original Regression Model"
   ]
  },
  {
   "cell_type": "code",
   "execution_count": 26,
   "id": "050e5346-3a24-4f35-baa9-e94500b3fb33",
   "metadata": {},
   "outputs": [
    {
     "name": "stderr",
     "output_type": "stream",
     "text": [
      "C:\\Users\\bbuser\\anaconda3\\Lib\\site-packages\\keras\\src\\layers\\core\\dense.py:92: UserWarning: Do not pass an `input_shape`/`input_dim` argument to a layer. When using Sequential models, prefer using an `Input(shape)` object as the first layer in the model instead.\n",
      "  super().__init__(activity_regularizer=activity_regularizer, **kwargs)\n"
     ]
    }
   ],
   "source": [
    "model = Sequential([\n",
    "    Dense(128, activation=\"relu\", input_shape=(8,)),\n",
    "    Dense(64, activation=\"relu\"),\n",
    "    Dense(1, activation=\"linear\")  # 1 output for regression, linear activation\n",
    "])"
   ]
  },
  {
   "cell_type": "code",
   "execution_count": 27,
   "id": "ec258248-978d-4dbb-b308-1fd537a440d0",
   "metadata": {},
   "outputs": [
    {
     "data": {
      "text/html": [
       "<pre style=\"white-space:pre;overflow-x:auto;line-height:normal;font-family:Menlo,'DejaVu Sans Mono',consolas,'Courier New',monospace\"><span style=\"font-weight: bold\">Model: \"sequential_1\"</span>\n",
       "</pre>\n"
      ],
      "text/plain": [
       "\u001b[1mModel: \"sequential_1\"\u001b[0m\n"
      ]
     },
     "metadata": {},
     "output_type": "display_data"
    },
    {
     "data": {
      "text/html": [
       "<pre style=\"white-space:pre;overflow-x:auto;line-height:normal;font-family:Menlo,'DejaVu Sans Mono',consolas,'Courier New',monospace\">┏━━━━━━━━━━━━━━━━━━━━━━━━━━━━━━━━━━━━━━┳━━━━━━━━━━━━━━━━━━━━━━━━━━━━━┳━━━━━━━━━━━━━━━━━┓\n",
       "┃<span style=\"font-weight: bold\"> Layer (type)                         </span>┃<span style=\"font-weight: bold\"> Output Shape                </span>┃<span style=\"font-weight: bold\">         Param # </span>┃\n",
       "┡━━━━━━━━━━━━━━━━━━━━━━━━━━━━━━━━━━━━━━╇━━━━━━━━━━━━━━━━━━━━━━━━━━━━━╇━━━━━━━━━━━━━━━━━┩\n",
       "│ dense_3 (<span style=\"color: #0087ff; text-decoration-color: #0087ff\">Dense</span>)                      │ (<span style=\"color: #00d7ff; text-decoration-color: #00d7ff\">None</span>, <span style=\"color: #00af00; text-decoration-color: #00af00\">128</span>)                 │           <span style=\"color: #00af00; text-decoration-color: #00af00\">1,152</span> │\n",
       "├──────────────────────────────────────┼─────────────────────────────┼─────────────────┤\n",
       "│ dense_4 (<span style=\"color: #0087ff; text-decoration-color: #0087ff\">Dense</span>)                      │ (<span style=\"color: #00d7ff; text-decoration-color: #00d7ff\">None</span>, <span style=\"color: #00af00; text-decoration-color: #00af00\">64</span>)                  │           <span style=\"color: #00af00; text-decoration-color: #00af00\">8,256</span> │\n",
       "├──────────────────────────────────────┼─────────────────────────────┼─────────────────┤\n",
       "│ dense_5 (<span style=\"color: #0087ff; text-decoration-color: #0087ff\">Dense</span>)                      │ (<span style=\"color: #00d7ff; text-decoration-color: #00d7ff\">None</span>, <span style=\"color: #00af00; text-decoration-color: #00af00\">1</span>)                   │              <span style=\"color: #00af00; text-decoration-color: #00af00\">65</span> │\n",
       "└──────────────────────────────────────┴─────────────────────────────┴─────────────────┘\n",
       "</pre>\n"
      ],
      "text/plain": [
       "┏━━━━━━━━━━━━━━━━━━━━━━━━━━━━━━━━━━━━━━┳━━━━━━━━━━━━━━━━━━━━━━━━━━━━━┳━━━━━━━━━━━━━━━━━┓\n",
       "┃\u001b[1m \u001b[0m\u001b[1mLayer (type)                        \u001b[0m\u001b[1m \u001b[0m┃\u001b[1m \u001b[0m\u001b[1mOutput Shape               \u001b[0m\u001b[1m \u001b[0m┃\u001b[1m \u001b[0m\u001b[1m        Param #\u001b[0m\u001b[1m \u001b[0m┃\n",
       "┡━━━━━━━━━━━━━━━━━━━━━━━━━━━━━━━━━━━━━━╇━━━━━━━━━━━━━━━━━━━━━━━━━━━━━╇━━━━━━━━━━━━━━━━━┩\n",
       "│ dense_3 (\u001b[38;5;33mDense\u001b[0m)                      │ (\u001b[38;5;45mNone\u001b[0m, \u001b[38;5;34m128\u001b[0m)                 │           \u001b[38;5;34m1,152\u001b[0m │\n",
       "├──────────────────────────────────────┼─────────────────────────────┼─────────────────┤\n",
       "│ dense_4 (\u001b[38;5;33mDense\u001b[0m)                      │ (\u001b[38;5;45mNone\u001b[0m, \u001b[38;5;34m64\u001b[0m)                  │           \u001b[38;5;34m8,256\u001b[0m │\n",
       "├──────────────────────────────────────┼─────────────────────────────┼─────────────────┤\n",
       "│ dense_5 (\u001b[38;5;33mDense\u001b[0m)                      │ (\u001b[38;5;45mNone\u001b[0m, \u001b[38;5;34m1\u001b[0m)                   │              \u001b[38;5;34m65\u001b[0m │\n",
       "└──────────────────────────────────────┴─────────────────────────────┴─────────────────┘\n"
      ]
     },
     "metadata": {},
     "output_type": "display_data"
    },
    {
     "data": {
      "text/html": [
       "<pre style=\"white-space:pre;overflow-x:auto;line-height:normal;font-family:Menlo,'DejaVu Sans Mono',consolas,'Courier New',monospace\"><span style=\"font-weight: bold\"> Total params: </span><span style=\"color: #00af00; text-decoration-color: #00af00\">9,473</span> (37.00 KB)\n",
       "</pre>\n"
      ],
      "text/plain": [
       "\u001b[1m Total params: \u001b[0m\u001b[38;5;34m9,473\u001b[0m (37.00 KB)\n"
      ]
     },
     "metadata": {},
     "output_type": "display_data"
    },
    {
     "data": {
      "text/html": [
       "<pre style=\"white-space:pre;overflow-x:auto;line-height:normal;font-family:Menlo,'DejaVu Sans Mono',consolas,'Courier New',monospace\"><span style=\"font-weight: bold\"> Trainable params: </span><span style=\"color: #00af00; text-decoration-color: #00af00\">9,473</span> (37.00 KB)\n",
       "</pre>\n"
      ],
      "text/plain": [
       "\u001b[1m Trainable params: \u001b[0m\u001b[38;5;34m9,473\u001b[0m (37.00 KB)\n"
      ]
     },
     "metadata": {},
     "output_type": "display_data"
    },
    {
     "data": {
      "text/html": [
       "<pre style=\"white-space:pre;overflow-x:auto;line-height:normal;font-family:Menlo,'DejaVu Sans Mono',consolas,'Courier New',monospace\"><span style=\"font-weight: bold\"> Non-trainable params: </span><span style=\"color: #00af00; text-decoration-color: #00af00\">0</span> (0.00 B)\n",
       "</pre>\n"
      ],
      "text/plain": [
       "\u001b[1m Non-trainable params: \u001b[0m\u001b[38;5;34m0\u001b[0m (0.00 B)\n"
      ]
     },
     "metadata": {},
     "output_type": "display_data"
    }
   ],
   "source": [
    "model.summary()"
   ]
  },
  {
   "cell_type": "code",
   "execution_count": 28,
   "id": "72b230c6-7f83-4d1c-aef2-0fae7a2701b3",
   "metadata": {},
   "outputs": [],
   "source": [
    "model.compile(optimizer=\"adam\",\n",
    "              loss=\"mse\",          \n",
    "              metrics=[\"mae\"])     "
   ]
  },
  {
   "cell_type": "code",
   "execution_count": 29,
   "id": "2236eb38-a8f4-4def-b8a4-6c1341e14293",
   "metadata": {},
   "outputs": [
    {
     "name": "stdout",
     "output_type": "stream",
     "text": [
      "Epoch 1/5\n",
      "\u001b[1m465/465\u001b[0m \u001b[32m━━━━━━━━━━━━━━━━━━━━\u001b[0m\u001b[37m\u001b[0m \u001b[1m6s\u001b[0m 7ms/step - loss: 0.7942 - mae: 0.5729 - val_loss: 0.4240 - val_mae: 0.4554\n",
      "Epoch 2/5\n",
      "\u001b[1m465/465\u001b[0m \u001b[32m━━━━━━━━━━━━━━━━━━━━\u001b[0m\u001b[37m\u001b[0m \u001b[1m3s\u001b[0m 6ms/step - loss: 0.3800 - mae: 0.4365 - val_loss: 0.4034 - val_mae: 0.4516\n",
      "Epoch 3/5\n",
      "\u001b[1m465/465\u001b[0m \u001b[32m━━━━━━━━━━━━━━━━━━━━\u001b[0m\u001b[37m\u001b[0m \u001b[1m3s\u001b[0m 6ms/step - loss: 0.3555 - mae: 0.4207 - val_loss: 0.4034 - val_mae: 0.4319\n",
      "Epoch 4/5\n",
      "\u001b[1m465/465\u001b[0m \u001b[32m━━━━━━━━━━━━━━━━━━━━\u001b[0m\u001b[37m\u001b[0m \u001b[1m6s\u001b[0m 8ms/step - loss: 0.3385 - mae: 0.4086 - val_loss: 0.3684 - val_mae: 0.4263\n",
      "Epoch 5/5\n",
      "\u001b[1m465/465\u001b[0m \u001b[32m━━━━━━━━━━━━━━━━━━━━\u001b[0m\u001b[37m\u001b[0m \u001b[1m3s\u001b[0m 6ms/step - loss: 0.3254 - mae: 0.4003 - val_loss: 0.3381 - val_mae: 0.4013\n"
     ]
    }
   ],
   "source": [
    "start_time = time.time()\n",
    "history = model.fit(X_train, y_train, epochs=5, batch_size=32, validation_split=0.1)\n",
    "baseline_time = time.time() - start_time"
   ]
  },
  {
   "cell_type": "code",
   "execution_count": 30,
   "id": "d70b115c-6cc4-4835-901f-d2c859c9c9bd",
   "metadata": {},
   "outputs": [
    {
     "name": "stdout",
     "output_type": "stream",
     "text": [
      "Baseline - RMSE: 0.5719 ($57185), Time: 23.7s\n"
     ]
    }
   ],
   "source": [
    "y_pred = model.predict(X_test, verbose=0)\n",
    "baseline_mse = mean_squared_error(y_test, y_pred)\n",
    "baseline_rmse = np.sqrt(baseline_mse)\n",
    "print(f\"Baseline - RMSE: {baseline_rmse:.4f} (${baseline_rmse*100000:.0f}), Time: {baseline_time:.1f}s\")"
   ]
  },
  {
   "cell_type": "markdown",
   "id": "6461c807-0318-4882-92a0-43259120857f",
   "metadata": {},
   "source": [
    "# Tanh vs ReLU Hidden Layers"
   ]
  },
  {
   "cell_type": "code",
   "execution_count": 31,
   "id": "0d0b42d3-1045-43fa-8782-b0e818770d27",
   "metadata": {},
   "outputs": [
    {
     "name": "stdout",
     "output_type": "stream",
     "text": [
      "\n",
      "--- Testing Tanh Hidden Layers ---\n"
     ]
    },
    {
     "name": "stderr",
     "output_type": "stream",
     "text": [
      "C:\\Users\\bbuser\\anaconda3\\Lib\\site-packages\\keras\\src\\layers\\core\\dense.py:92: UserWarning: Do not pass an `input_shape`/`input_dim` argument to a layer. When using Sequential models, prefer using an `Input(shape)` object as the first layer in the model instead.\n",
      "  super().__init__(activity_regularizer=activity_regularizer, **kwargs)\n"
     ]
    }
   ],
   "source": [
    "# Model with Tanh\n",
    "print(\"\\n--- Testing Tanh Hidden Layers ---\")\n",
    "model_tanh = Sequential([\n",
    "    Dense(128, activation=\"tanh\", input_shape=(8,)),  \n",
    "    Dense(64, activation=\"tanh\"),                    \n",
    "    Dense(1, activation=\"linear\")\n",
    "])"
   ]
  },
  {
   "cell_type": "code",
   "execution_count": 32,
   "id": "6d62530e-a65d-48e4-accf-d1d0a1b5d53c",
   "metadata": {},
   "outputs": [],
   "source": [
    "model_tanh.compile(optimizer=\"adam\", loss=\"mse\", metrics=[\"mae\"])"
   ]
  },
  {
   "cell_type": "code",
   "execution_count": 33,
   "id": "629acd2a-3e4d-40e6-9c2b-5b92d6dea83b",
   "metadata": {},
   "outputs": [
    {
     "name": "stdout",
     "output_type": "stream",
     "text": [
      "Epoch 1/5\n",
      "\u001b[1m465/465\u001b[0m \u001b[32m━━━━━━━━━━━━━━━━━━━━\u001b[0m\u001b[37m\u001b[0m \u001b[1m8s\u001b[0m 7ms/step - loss: 0.7435 - mae: 0.6068 - val_loss: 0.5143 - val_mae: 0.5243\n",
      "Epoch 2/5\n",
      "\u001b[1m465/465\u001b[0m \u001b[32m━━━━━━━━━━━━━━━━━━━━\u001b[0m\u001b[37m\u001b[0m \u001b[1m3s\u001b[0m 6ms/step - loss: 0.4646 - mae: 0.4986 - val_loss: 0.5281 - val_mae: 0.5413\n",
      "Epoch 3/5\n",
      "\u001b[1m465/465\u001b[0m \u001b[32m━━━━━━━━━━━━━━━━━━━━\u001b[0m\u001b[37m\u001b[0m \u001b[1m5s\u001b[0m 6ms/step - loss: 0.4511 - mae: 0.4903 - val_loss: 0.4792 - val_mae: 0.4882\n",
      "Epoch 4/5\n",
      "\u001b[1m465/465\u001b[0m \u001b[32m━━━━━━━━━━━━━━━━━━━━\u001b[0m\u001b[37m\u001b[0m \u001b[1m5s\u001b[0m 6ms/step - loss: 0.4263 - mae: 0.4709 - val_loss: 0.4760 - val_mae: 0.4921\n",
      "Epoch 5/5\n",
      "\u001b[1m465/465\u001b[0m \u001b[32m━━━━━━━━━━━━━━━━━━━━\u001b[0m\u001b[37m\u001b[0m \u001b[1m5s\u001b[0m 6ms/step - loss: 0.3972 - mae: 0.4502 - val_loss: 0.4362 - val_mae: 0.4670\n"
     ]
    }
   ],
   "source": [
    "start_time = time.time()\n",
    "model_tanh.fit(X_train, y_train, epochs=5, batch_size=32, validation_split=0.1, verbose=1)\n",
    "tanh_time = time.time() - start_time"
   ]
  },
  {
   "cell_type": "code",
   "execution_count": 34,
   "id": "726c8da8-ff2b-4499-b3aa-c9974cb014af",
   "metadata": {},
   "outputs": [
    {
     "name": "stdout",
     "output_type": "stream",
     "text": [
      "Tanh - RMSE: 0.6323 ($63234), Time: 29.2s\n"
     ]
    }
   ],
   "source": [
    "y_pred = model_tanh.predict(X_test, verbose=0)\n",
    "tanh_rmse = np.sqrt(mean_squared_error(y_test, y_pred))\n",
    "print(f\"Tanh - RMSE: {tanh_rmse:.4f} (${tanh_rmse*100000:.0f}), Time: {tanh_time:.1f}s\")"
   ]
  },
  {
   "cell_type": "markdown",
   "id": "cdf2dbc9-7156-4dde-ac3a-e77f68d08683",
   "metadata": {},
   "source": [
    "# Different Output Activations"
   ]
  },
  {
   "cell_type": "code",
   "execution_count": 35,
   "id": "e5f78fdc-231e-4736-91fc-244875381a7a",
   "metadata": {},
   "outputs": [
    {
     "name": "stdout",
     "output_type": "stream",
     "text": [
      "\n",
      "--- Testing Sigmoid Output ---\n"
     ]
    },
    {
     "name": "stderr",
     "output_type": "stream",
     "text": [
      "C:\\Users\\bbuser\\anaconda3\\Lib\\site-packages\\keras\\src\\layers\\core\\dense.py:92: UserWarning: Do not pass an `input_shape`/`input_dim` argument to a layer. When using Sequential models, prefer using an `Input(shape)` object as the first layer in the model instead.\n",
      "  super().__init__(activity_regularizer=activity_regularizer, **kwargs)\n"
     ]
    }
   ],
   "source": [
    "print(\"\\n--- Testing Sigmoid Output ---\")\n",
    "model_sigmoid_out = Sequential([\n",
    "    Dense(128, activation=\"relu\", input_shape=(8,)),\n",
    "    Dense(64, activation=\"relu\"),\n",
    "    Dense(1, activation=\"sigmoid\")  # Changed from linear\n",
    "])"
   ]
  },
  {
   "cell_type": "code",
   "execution_count": 36,
   "id": "790b7192-9ea5-4e4f-a4d7-20085f6f33df",
   "metadata": {},
   "outputs": [
    {
     "name": "stdout",
     "output_type": "stream",
     "text": [
      "Epoch 1/5\n",
      "\u001b[1m465/465\u001b[0m \u001b[32m━━━━━━━━━━━━━━━━━━━━\u001b[0m\u001b[37m\u001b[0m \u001b[1m6s\u001b[0m 6ms/step - loss: 2.5279 - mae: 1.1698 - val_loss: 2.5372 - val_mae: 1.1610\n",
      "Epoch 2/5\n",
      "\u001b[1m465/465\u001b[0m \u001b[32m━━━━━━━━━━━━━━━━━━━━\u001b[0m\u001b[37m\u001b[0m \u001b[1m2s\u001b[0m 5ms/step - loss: 2.4803 - mae: 1.1539 - val_loss: 2.5370 - val_mae: 1.1610\n",
      "Epoch 3/5\n",
      "\u001b[1m465/465\u001b[0m \u001b[32m━━━━━━━━━━━━━━━━━━━━\u001b[0m\u001b[37m\u001b[0m \u001b[1m2s\u001b[0m 5ms/step - loss: 2.4802 - mae: 1.1539 - val_loss: 2.5370 - val_mae: 1.1610\n",
      "Epoch 4/5\n",
      "\u001b[1m465/465\u001b[0m \u001b[32m━━━━━━━━━━━━━━━━━━━━\u001b[0m\u001b[37m\u001b[0m \u001b[1m2s\u001b[0m 4ms/step - loss: 2.4802 - mae: 1.1539 - val_loss: 2.5369 - val_mae: 1.1610\n",
      "Epoch 5/5\n",
      "\u001b[1m465/465\u001b[0m \u001b[32m━━━━━━━━━━━━━━━━━━━━\u001b[0m\u001b[37m\u001b[0m \u001b[1m2s\u001b[0m 5ms/step - loss: 2.4801 - mae: 1.1538 - val_loss: 2.5368 - val_mae: 1.1608\n",
      "Sigmoid Output - RMSE: 1.5567 ($155670)\n"
     ]
    }
   ],
   "source": [
    "model_sigmoid_out.compile(optimizer=\"adam\", loss=\"mse\", metrics=[\"mae\"])\n",
    "model_sigmoid_out.fit(X_train, y_train, epochs=5, batch_size=32, validation_split=0.1, verbose=1)\n",
    "y_pred = model_sigmoid_out.predict(X_test, verbose=0)\n",
    "sigmoid_out_rmse = np.sqrt(mean_squared_error(y_test, y_pred))\n",
    "print(f\"Sigmoid Output - RMSE: {sigmoid_out_rmse:.4f} (${sigmoid_out_rmse*100000:.0f})\")"
   ]
  },
  {
   "cell_type": "code",
   "execution_count": 37,
   "id": "bf0e1b1b-8ca6-4d60-911c-5db0cbca96de",
   "metadata": {},
   "outputs": [
    {
     "name": "stdout",
     "output_type": "stream",
     "text": [
      "\n",
      "--- Testing ReLU Output ---\n"
     ]
    },
    {
     "name": "stderr",
     "output_type": "stream",
     "text": [
      "C:\\Users\\bbuser\\anaconda3\\Lib\\site-packages\\keras\\src\\layers\\core\\dense.py:92: UserWarning: Do not pass an `input_shape`/`input_dim` argument to a layer. When using Sequential models, prefer using an `Input(shape)` object as the first layer in the model instead.\n",
      "  super().__init__(activity_regularizer=activity_regularizer, **kwargs)\n"
     ]
    }
   ],
   "source": [
    "# Model with ReLU Output (for comparison)\n",
    "print(\"\\n--- Testing ReLU Output ---\")\n",
    "model_relu_out = Sequential([\n",
    "    Dense(128, activation=\"relu\", input_shape=(8,)),\n",
    "    Dense(64, activation=\"relu\"),\n",
    "    Dense(1, activation=\"relu\")  # Changed from linear\n",
    "])"
   ]
  },
  {
   "cell_type": "code",
   "execution_count": 38,
   "id": "2135e510-ef89-43fb-8eaa-aaf25cb93fce",
   "metadata": {},
   "outputs": [
    {
     "name": "stdout",
     "output_type": "stream",
     "text": [
      "Epoch 1/5\n",
      "\u001b[1m465/465\u001b[0m \u001b[32m━━━━━━━━━━━━━━━━━━━━\u001b[0m\u001b[37m\u001b[0m \u001b[1m6s\u001b[0m 6ms/step - loss: 0.7242 - mae: 0.5720 - val_loss: 0.4324 - val_mae: 0.4631\n",
      "Epoch 2/5\n",
      "\u001b[1m465/465\u001b[0m \u001b[32m━━━━━━━━━━━━━━━━━━━━\u001b[0m\u001b[37m\u001b[0m \u001b[1m2s\u001b[0m 5ms/step - loss: 0.3834 - mae: 0.4397 - val_loss: 0.4158 - val_mae: 0.4465\n",
      "Epoch 3/5\n",
      "\u001b[1m465/465\u001b[0m \u001b[32m━━━━━━━━━━━━━━━━━━━━\u001b[0m\u001b[37m\u001b[0m \u001b[1m2s\u001b[0m 5ms/step - loss: 0.3655 - mae: 0.4272 - val_loss: 0.3940 - val_mae: 0.4524\n",
      "Epoch 4/5\n",
      "\u001b[1m465/465\u001b[0m \u001b[32m━━━━━━━━━━━━━━━━━━━━\u001b[0m\u001b[37m\u001b[0m \u001b[1m2s\u001b[0m 5ms/step - loss: 0.3589 - mae: 0.4207 - val_loss: 0.3897 - val_mae: 0.4426\n",
      "Epoch 5/5\n",
      "\u001b[1m465/465\u001b[0m \u001b[32m━━━━━━━━━━━━━━━━━━━━\u001b[0m\u001b[37m\u001b[0m \u001b[1m2s\u001b[0m 4ms/step - loss: 0.3315 - mae: 0.4034 - val_loss: 0.3505 - val_mae: 0.4169\n",
      "ReLU Output - RMSE: 0.5788 ($57876)\n"
     ]
    }
   ],
   "source": [
    "model_relu_out.compile(optimizer=\"adam\", loss=\"mse\", metrics=[\"mae\"])\n",
    "model_relu_out.fit(X_train, y_train, epochs=5, batch_size=32, validation_split=0.1, verbose=1)\n",
    "y_pred = model_relu_out.predict(X_test, verbose=0)\n",
    "relu_out_rmse = np.sqrt(mean_squared_error(y_test, y_pred))\n",
    "print(f\"ReLU Output - RMSE: {relu_out_rmse:.4f} (${relu_out_rmse*100000:.0f})\")"
   ]
  },
  {
   "cell_type": "markdown",
   "id": "a4d4f5d8-de4b-44b4-b0f2-06bc6959d604",
   "metadata": {},
   "source": [
    "# Doubling Hidden Layers"
   ]
  },
  {
   "cell_type": "code",
   "execution_count": 39,
   "id": "eb7e3a8c-19f6-4113-8c47-9d529d823680",
   "metadata": {},
   "outputs": [
    {
     "name": "stdout",
     "output_type": "stream",
     "text": [
      "\n",
      "--- Testing 4 Hidden Layers ---\n"
     ]
    },
    {
     "name": "stderr",
     "output_type": "stream",
     "text": [
      "C:\\Users\\bbuser\\anaconda3\\Lib\\site-packages\\keras\\src\\layers\\core\\dense.py:92: UserWarning: Do not pass an `input_shape`/`input_dim` argument to a layer. When using Sequential models, prefer using an `Input(shape)` object as the first layer in the model instead.\n",
      "  super().__init__(activity_regularizer=activity_regularizer, **kwargs)\n"
     ]
    }
   ],
   "source": [
    "# Model with 4 hidden layers (double the original 2)\n",
    "print(\"\\n--- Testing 4 Hidden Layers ---\")\n",
    "model_deep = Sequential([\n",
    "    Dense(128, activation=\"relu\", input_shape=(8,)),\n",
    "    Dense(128, activation=\"relu\"),\n",
    "    Dense(64, activation=\"relu\"),\n",
    "    Dense(64, activation=\"relu\"),  # Added 2 more layers\n",
    "    Dense(1, activation=\"linear\")\n",
    "])"
   ]
  },
  {
   "cell_type": "code",
   "execution_count": 40,
   "id": "f7465277-9963-4403-a42a-f30045e05adb",
   "metadata": {},
   "outputs": [
    {
     "data": {
      "text/html": [
       "<pre style=\"white-space:pre;overflow-x:auto;line-height:normal;font-family:Menlo,'DejaVu Sans Mono',consolas,'Courier New',monospace\"><span style=\"font-weight: bold\">Model: \"sequential_5\"</span>\n",
       "</pre>\n"
      ],
      "text/plain": [
       "\u001b[1mModel: \"sequential_5\"\u001b[0m\n"
      ]
     },
     "metadata": {},
     "output_type": "display_data"
    },
    {
     "data": {
      "text/html": [
       "<pre style=\"white-space:pre;overflow-x:auto;line-height:normal;font-family:Menlo,'DejaVu Sans Mono',consolas,'Courier New',monospace\">┏━━━━━━━━━━━━━━━━━━━━━━━━━━━━━━━━━━━━━━┳━━━━━━━━━━━━━━━━━━━━━━━━━━━━━┳━━━━━━━━━━━━━━━━━┓\n",
       "┃<span style=\"font-weight: bold\"> Layer (type)                         </span>┃<span style=\"font-weight: bold\"> Output Shape                </span>┃<span style=\"font-weight: bold\">         Param # </span>┃\n",
       "┡━━━━━━━━━━━━━━━━━━━━━━━━━━━━━━━━━━━━━━╇━━━━━━━━━━━━━━━━━━━━━━━━━━━━━╇━━━━━━━━━━━━━━━━━┩\n",
       "│ dense_15 (<span style=\"color: #0087ff; text-decoration-color: #0087ff\">Dense</span>)                     │ (<span style=\"color: #00d7ff; text-decoration-color: #00d7ff\">None</span>, <span style=\"color: #00af00; text-decoration-color: #00af00\">128</span>)                 │           <span style=\"color: #00af00; text-decoration-color: #00af00\">1,152</span> │\n",
       "├──────────────────────────────────────┼─────────────────────────────┼─────────────────┤\n",
       "│ dense_16 (<span style=\"color: #0087ff; text-decoration-color: #0087ff\">Dense</span>)                     │ (<span style=\"color: #00d7ff; text-decoration-color: #00d7ff\">None</span>, <span style=\"color: #00af00; text-decoration-color: #00af00\">128</span>)                 │          <span style=\"color: #00af00; text-decoration-color: #00af00\">16,512</span> │\n",
       "├──────────────────────────────────────┼─────────────────────────────┼─────────────────┤\n",
       "│ dense_17 (<span style=\"color: #0087ff; text-decoration-color: #0087ff\">Dense</span>)                     │ (<span style=\"color: #00d7ff; text-decoration-color: #00d7ff\">None</span>, <span style=\"color: #00af00; text-decoration-color: #00af00\">64</span>)                  │           <span style=\"color: #00af00; text-decoration-color: #00af00\">8,256</span> │\n",
       "├──────────────────────────────────────┼─────────────────────────────┼─────────────────┤\n",
       "│ dense_18 (<span style=\"color: #0087ff; text-decoration-color: #0087ff\">Dense</span>)                     │ (<span style=\"color: #00d7ff; text-decoration-color: #00d7ff\">None</span>, <span style=\"color: #00af00; text-decoration-color: #00af00\">64</span>)                  │           <span style=\"color: #00af00; text-decoration-color: #00af00\">4,160</span> │\n",
       "├──────────────────────────────────────┼─────────────────────────────┼─────────────────┤\n",
       "│ dense_19 (<span style=\"color: #0087ff; text-decoration-color: #0087ff\">Dense</span>)                     │ (<span style=\"color: #00d7ff; text-decoration-color: #00d7ff\">None</span>, <span style=\"color: #00af00; text-decoration-color: #00af00\">1</span>)                   │              <span style=\"color: #00af00; text-decoration-color: #00af00\">65</span> │\n",
       "└──────────────────────────────────────┴─────────────────────────────┴─────────────────┘\n",
       "</pre>\n"
      ],
      "text/plain": [
       "┏━━━━━━━━━━━━━━━━━━━━━━━━━━━━━━━━━━━━━━┳━━━━━━━━━━━━━━━━━━━━━━━━━━━━━┳━━━━━━━━━━━━━━━━━┓\n",
       "┃\u001b[1m \u001b[0m\u001b[1mLayer (type)                        \u001b[0m\u001b[1m \u001b[0m┃\u001b[1m \u001b[0m\u001b[1mOutput Shape               \u001b[0m\u001b[1m \u001b[0m┃\u001b[1m \u001b[0m\u001b[1m        Param #\u001b[0m\u001b[1m \u001b[0m┃\n",
       "┡━━━━━━━━━━━━━━━━━━━━━━━━━━━━━━━━━━━━━━╇━━━━━━━━━━━━━━━━━━━━━━━━━━━━━╇━━━━━━━━━━━━━━━━━┩\n",
       "│ dense_15 (\u001b[38;5;33mDense\u001b[0m)                     │ (\u001b[38;5;45mNone\u001b[0m, \u001b[38;5;34m128\u001b[0m)                 │           \u001b[38;5;34m1,152\u001b[0m │\n",
       "├──────────────────────────────────────┼─────────────────────────────┼─────────────────┤\n",
       "│ dense_16 (\u001b[38;5;33mDense\u001b[0m)                     │ (\u001b[38;5;45mNone\u001b[0m, \u001b[38;5;34m128\u001b[0m)                 │          \u001b[38;5;34m16,512\u001b[0m │\n",
       "├──────────────────────────────────────┼─────────────────────────────┼─────────────────┤\n",
       "│ dense_17 (\u001b[38;5;33mDense\u001b[0m)                     │ (\u001b[38;5;45mNone\u001b[0m, \u001b[38;5;34m64\u001b[0m)                  │           \u001b[38;5;34m8,256\u001b[0m │\n",
       "├──────────────────────────────────────┼─────────────────────────────┼─────────────────┤\n",
       "│ dense_18 (\u001b[38;5;33mDense\u001b[0m)                     │ (\u001b[38;5;45mNone\u001b[0m, \u001b[38;5;34m64\u001b[0m)                  │           \u001b[38;5;34m4,160\u001b[0m │\n",
       "├──────────────────────────────────────┼─────────────────────────────┼─────────────────┤\n",
       "│ dense_19 (\u001b[38;5;33mDense\u001b[0m)                     │ (\u001b[38;5;45mNone\u001b[0m, \u001b[38;5;34m1\u001b[0m)                   │              \u001b[38;5;34m65\u001b[0m │\n",
       "└──────────────────────────────────────┴─────────────────────────────┴─────────────────┘\n"
      ]
     },
     "metadata": {},
     "output_type": "display_data"
    },
    {
     "data": {
      "text/html": [
       "<pre style=\"white-space:pre;overflow-x:auto;line-height:normal;font-family:Menlo,'DejaVu Sans Mono',consolas,'Courier New',monospace\"><span style=\"font-weight: bold\"> Total params: </span><span style=\"color: #00af00; text-decoration-color: #00af00\">30,145</span> (117.75 KB)\n",
       "</pre>\n"
      ],
      "text/plain": [
       "\u001b[1m Total params: \u001b[0m\u001b[38;5;34m30,145\u001b[0m (117.75 KB)\n"
      ]
     },
     "metadata": {},
     "output_type": "display_data"
    },
    {
     "data": {
      "text/html": [
       "<pre style=\"white-space:pre;overflow-x:auto;line-height:normal;font-family:Menlo,'DejaVu Sans Mono',consolas,'Courier New',monospace\"><span style=\"font-weight: bold\"> Trainable params: </span><span style=\"color: #00af00; text-decoration-color: #00af00\">30,145</span> (117.75 KB)\n",
       "</pre>\n"
      ],
      "text/plain": [
       "\u001b[1m Trainable params: \u001b[0m\u001b[38;5;34m30,145\u001b[0m (117.75 KB)\n"
      ]
     },
     "metadata": {},
     "output_type": "display_data"
    },
    {
     "data": {
      "text/html": [
       "<pre style=\"white-space:pre;overflow-x:auto;line-height:normal;font-family:Menlo,'DejaVu Sans Mono',consolas,'Courier New',monospace\"><span style=\"font-weight: bold\"> Non-trainable params: </span><span style=\"color: #00af00; text-decoration-color: #00af00\">0</span> (0.00 B)\n",
       "</pre>\n"
      ],
      "text/plain": [
       "\u001b[1m Non-trainable params: \u001b[0m\u001b[38;5;34m0\u001b[0m (0.00 B)\n"
      ]
     },
     "metadata": {},
     "output_type": "display_data"
    }
   ],
   "source": [
    "model_deep.summary()"
   ]
  },
  {
   "cell_type": "code",
   "execution_count": 41,
   "id": "eb0a0067-4670-4b21-afff-eca8e4351938",
   "metadata": {},
   "outputs": [],
   "source": [
    "model_deep.compile(optimizer=\"adam\", loss=\"mse\", metrics=[\"mae\"])"
   ]
  },
  {
   "cell_type": "code",
   "execution_count": 42,
   "id": "77478b2e-f450-4b16-90a5-e8ebf076c09b",
   "metadata": {},
   "outputs": [
    {
     "name": "stdout",
     "output_type": "stream",
     "text": [
      "Epoch 1/5\n",
      "\u001b[1m465/465\u001b[0m \u001b[32m━━━━━━━━━━━━━━━━━━━━\u001b[0m\u001b[37m\u001b[0m \u001b[1m7s\u001b[0m 6ms/step - loss: 0.5479 - mae: 0.5131 - val_loss: 0.4946 - val_mae: 0.4808\n",
      "Epoch 2/5\n",
      "\u001b[1m465/465\u001b[0m \u001b[32m━━━━━━━━━━━━━━━━━━━━\u001b[0m\u001b[37m\u001b[0m \u001b[1m2s\u001b[0m 5ms/step - loss: 0.3647 - mae: 0.4253 - val_loss: 0.3913 - val_mae: 0.4319\n",
      "Epoch 3/5\n",
      "\u001b[1m465/465\u001b[0m \u001b[32m━━━━━━━━━━━━━━━━━━━━\u001b[0m\u001b[37m\u001b[0m \u001b[1m2s\u001b[0m 5ms/step - loss: 0.3326 - mae: 0.4031 - val_loss: 0.4007 - val_mae: 0.4285\n",
      "Epoch 4/5\n",
      "\u001b[1m465/465\u001b[0m \u001b[32m━━━━━━━━━━━━━━━━━━━━\u001b[0m\u001b[37m\u001b[0m \u001b[1m2s\u001b[0m 5ms/step - loss: 0.3155 - mae: 0.3896 - val_loss: 0.3387 - val_mae: 0.4004\n",
      "Epoch 5/5\n",
      "\u001b[1m465/465\u001b[0m \u001b[32m━━━━━━━━━━━━━━━━━━━━\u001b[0m\u001b[37m\u001b[0m \u001b[1m3s\u001b[0m 6ms/step - loss: 0.3068 - mae: 0.3832 - val_loss: 0.3355 - val_mae: 0.4096\n"
     ]
    }
   ],
   "source": [
    "start_time = time.time()\n",
    "model_deep.fit(X_train, y_train, epochs=5, batch_size=32, validation_split=0.1, verbose=1)\n",
    "deep_time = time.time() - start_time"
   ]
  },
  {
   "cell_type": "code",
   "execution_count": 43,
   "id": "95837e4f-fb65-4b77-b501-9effc9aba908",
   "metadata": {},
   "outputs": [
    {
     "name": "stdout",
     "output_type": "stream",
     "text": [
      "Deep Model - RMSE: 0.5636 ($56357), Time: 17.1s\n"
     ]
    }
   ],
   "source": [
    "y_pred = model_deep.predict(X_test, verbose=0)\n",
    "deep_rmse = np.sqrt(mean_squared_error(y_test, y_pred))\n",
    "print(f\"Deep Model - RMSE: {deep_rmse:.4f} (${deep_rmse*100000:.0f}), Time: {deep_time:.1f}s\")"
   ]
  },
  {
   "cell_type": "markdown",
   "id": "38b42cae-3854-46de-8c98-7e7325c35118",
   "metadata": {},
   "source": [
    "# Different Optimizers"
   ]
  },
  {
   "cell_type": "code",
   "execution_count": 44,
   "id": "3599e82e-d40d-4546-95ee-bc5db8d0e327",
   "metadata": {},
   "outputs": [
    {
     "name": "stdout",
     "output_type": "stream",
     "text": [
      "\n",
      "--- Testing SGD Optimizer ---\n"
     ]
    },
    {
     "name": "stderr",
     "output_type": "stream",
     "text": [
      "C:\\Users\\bbuser\\anaconda3\\Lib\\site-packages\\keras\\src\\layers\\core\\dense.py:92: UserWarning: Do not pass an `input_shape`/`input_dim` argument to a layer. When using Sequential models, prefer using an `Input(shape)` object as the first layer in the model instead.\n",
      "  super().__init__(activity_regularizer=activity_regularizer, **kwargs)\n"
     ]
    }
   ],
   "source": [
    "# SGD Optimizer\n",
    "print(\"\\n--- Testing SGD Optimizer ---\")\n",
    "model_sgd = Sequential([\n",
    "    Dense(128, activation=\"relu\", input_shape=(8,)),\n",
    "    Dense(64, activation=\"relu\"),\n",
    "    Dense(1, activation=\"linear\")\n",
    "])"
   ]
  },
  {
   "cell_type": "code",
   "execution_count": 45,
   "id": "0880576c-3d75-4c20-a9d4-e23583f29d80",
   "metadata": {},
   "outputs": [],
   "source": [
    "model_sgd.compile(optimizer=\"sgd\", loss=\"mse\", metrics=[\"mae\"])"
   ]
  },
  {
   "cell_type": "code",
   "execution_count": 46,
   "id": "0c8e3e6b-6eb4-4b52-914b-aed80e05457e",
   "metadata": {},
   "outputs": [
    {
     "name": "stdout",
     "output_type": "stream",
     "text": [
      "Epoch 1/5\n",
      "\u001b[1m465/465\u001b[0m \u001b[32m━━━━━━━━━━━━━━━━━━━━\u001b[0m\u001b[37m\u001b[0m \u001b[1m4s\u001b[0m 6ms/step - loss: 0.6959 - mae: 0.5787 - val_loss: 0.4841 - val_mae: 0.4901\n",
      "Epoch 2/5\n",
      "\u001b[1m465/465\u001b[0m \u001b[32m━━━━━━━━━━━━━━━━━━━━\u001b[0m\u001b[37m\u001b[0m \u001b[1m2s\u001b[0m 4ms/step - loss: 0.4319 - mae: 0.4688 - val_loss: 0.4505 - val_mae: 0.4900\n",
      "Epoch 3/5\n",
      "\u001b[1m465/465\u001b[0m \u001b[32m━━━━━━━━━━━━━━━━━━━━\u001b[0m\u001b[37m\u001b[0m \u001b[1m2s\u001b[0m 4ms/step - loss: 0.4052 - mae: 0.4517 - val_loss: 0.4237 - val_mae: 0.4589\n",
      "Epoch 4/5\n",
      "\u001b[1m465/465\u001b[0m \u001b[32m━━━━━━━━━━━━━━━━━━━━\u001b[0m\u001b[37m\u001b[0m \u001b[1m2s\u001b[0m 5ms/step - loss: 0.3864 - mae: 0.4400 - val_loss: 0.4114 - val_mae: 0.4508\n",
      "Epoch 5/5\n",
      "\u001b[1m465/465\u001b[0m \u001b[32m━━━━━━━━━━━━━━━━━━━━\u001b[0m\u001b[37m\u001b[0m \u001b[1m3s\u001b[0m 5ms/step - loss: 0.3728 - mae: 0.4321 - val_loss: 0.4104 - val_mae: 0.4418\n"
     ]
    }
   ],
   "source": [
    "start_time = time.time()\n",
    "model_sgd.fit(X_train, y_train, epochs=5, batch_size=32, validation_split=0.1, verbose=1)\n",
    "sgd_time = time.time() - start_time"
   ]
  },
  {
   "cell_type": "code",
   "execution_count": 47,
   "id": "66853299-51b8-4f23-a082-22c638d1ddb5",
   "metadata": {},
   "outputs": [
    {
     "name": "stdout",
     "output_type": "stream",
     "text": [
      "SGD - RMSE: 0.6274 ($62737), Time: 12.4s\n"
     ]
    }
   ],
   "source": [
    "y_pred = model_sgd.predict(X_test, verbose=0)\n",
    "sgd_rmse = np.sqrt(mean_squared_error(y_test, y_pred))\n",
    "print(f\"SGD - RMSE: {sgd_rmse:.4f} (${sgd_rmse*100000:.0f}), Time: {sgd_time:.1f}s\")"
   ]
  },
  {
   "cell_type": "code",
   "execution_count": 48,
   "id": "dce2ee21-d859-4603-ab6f-75b9fd7c61d9",
   "metadata": {},
   "outputs": [
    {
     "name": "stdout",
     "output_type": "stream",
     "text": [
      "\n",
      "--- Testing RMSprop Optimizer ---\n"
     ]
    },
    {
     "name": "stderr",
     "output_type": "stream",
     "text": [
      "C:\\Users\\bbuser\\anaconda3\\Lib\\site-packages\\keras\\src\\layers\\core\\dense.py:92: UserWarning: Do not pass an `input_shape`/`input_dim` argument to a layer. When using Sequential models, prefer using an `Input(shape)` object as the first layer in the model instead.\n",
      "  super().__init__(activity_regularizer=activity_regularizer, **kwargs)\n"
     ]
    }
   ],
   "source": [
    "# RMSprop Optimizer\n",
    "print(\"\\n--- Testing RMSprop Optimizer ---\")\n",
    "model_rmsprop = Sequential([\n",
    "    Dense(128, activation=\"relu\", input_shape=(8,)),\n",
    "    Dense(64, activation=\"relu\"),\n",
    "    Dense(1, activation=\"linear\")\n",
    "])"
   ]
  },
  {
   "cell_type": "code",
   "execution_count": 49,
   "id": "ce3f1471-94bd-40c4-af99-24c63c9b5b19",
   "metadata": {},
   "outputs": [],
   "source": [
    "model_rmsprop.compile(optimizer=\"rmsprop\", loss=\"mse\", metrics=[\"mae\"])"
   ]
  },
  {
   "cell_type": "code",
   "execution_count": 50,
   "id": "07f3c567-583a-4b55-bef8-3fa82ffec01a",
   "metadata": {},
   "outputs": [
    {
     "name": "stdout",
     "output_type": "stream",
     "text": [
      "Epoch 1/5\n",
      "\u001b[1m465/465\u001b[0m \u001b[32m━━━━━━━━━━━━━━━━━━━━\u001b[0m\u001b[37m\u001b[0m \u001b[1m5s\u001b[0m 6ms/step - loss: 0.6583 - mae: 0.5469 - val_loss: 0.4319 - val_mae: 0.4665\n",
      "Epoch 2/5\n",
      "\u001b[1m465/465\u001b[0m \u001b[32m━━━━━━━━━━━━━━━━━━━━\u001b[0m\u001b[37m\u001b[0m \u001b[1m2s\u001b[0m 4ms/step - loss: 0.3925 - mae: 0.4415 - val_loss: 0.4437 - val_mae: 0.4963\n",
      "Epoch 3/5\n",
      "\u001b[1m465/465\u001b[0m \u001b[32m━━━━━━━━━━━━━━━━━━━━\u001b[0m\u001b[37m\u001b[0m \u001b[1m3s\u001b[0m 5ms/step - loss: 0.3764 - mae: 0.4233 - val_loss: 0.3700 - val_mae: 0.4196\n",
      "Epoch 4/5\n",
      "\u001b[1m465/465\u001b[0m \u001b[32m━━━━━━━━━━━━━━━━━━━━\u001b[0m\u001b[37m\u001b[0m \u001b[1m3s\u001b[0m 5ms/step - loss: 0.3507 - mae: 0.4112 - val_loss: 0.3667 - val_mae: 0.4340\n",
      "Epoch 5/5\n",
      "\u001b[1m465/465\u001b[0m \u001b[32m━━━━━━━━━━━━━━━━━━━━\u001b[0m\u001b[37m\u001b[0m \u001b[1m2s\u001b[0m 4ms/step - loss: 0.3350 - mae: 0.4028 - val_loss: 0.3724 - val_mae: 0.4069\n"
     ]
    }
   ],
   "source": [
    "start_time = time.time()\n",
    "model_rmsprop.fit(X_train, y_train, epochs=5, batch_size=32, validation_split=0.1, verbose=1)\n",
    "rmsprop_time = time.time() - start_time"
   ]
  },
  {
   "cell_type": "code",
   "execution_count": 51,
   "id": "a3eb49ed-3314-43e9-b91d-13b2f917c3c0",
   "metadata": {},
   "outputs": [
    {
     "name": "stdout",
     "output_type": "stream",
     "text": [
      "RMSprop - RMSE: 0.6030 ($60299), Time: 14.1s\n"
     ]
    }
   ],
   "source": [
    "y_pred = model_rmsprop.predict(X_test, verbose=0)\n",
    "rmsprop_rmse = np.sqrt(mean_squared_error(y_test, y_pred))\n",
    "print(f\"RMSprop - RMSE: {rmsprop_rmse:.4f} (${rmsprop_rmse*100000:.0f}), Time: {rmsprop_time:.1f}s\")"
   ]
  },
  {
   "cell_type": "code",
   "execution_count": null,
   "id": "f0d68e1a-9a11-4b79-9790-40f2b976a4dd",
   "metadata": {},
   "outputs": [],
   "source": []
  }
 ],
 "metadata": {
  "kernelspec": {
   "display_name": "Python [conda env:base] *",
   "language": "python",
   "name": "conda-base-py"
  },
  "language_info": {
   "codemirror_mode": {
    "name": "ipython",
    "version": 3
   },
   "file_extension": ".py",
   "mimetype": "text/x-python",
   "name": "python",
   "nbconvert_exporter": "python",
   "pygments_lexer": "ipython3",
   "version": "3.13.5"
  }
 },
 "nbformat": 4,
 "nbformat_minor": 5
}
