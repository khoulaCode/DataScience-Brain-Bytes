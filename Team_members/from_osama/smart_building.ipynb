{
 "cells": [
  {
   "cell_type": "code",
   "execution_count": 73,
   "id": "b419afd6-750d-42aa-9d8b-a45fad240123",
   "metadata": {},
   "outputs": [],
   "source": [
    "import numpy as np"
   ]
  },
  {
   "cell_type": "markdown",
   "id": "0166a34e-3fcc-4e1c-8485-874ce8cf00f5",
   "metadata": {},
   "source": [
    "# Smart Building"
   ]
  },
  {
   "cell_type": "markdown",
   "id": "d4790648-d643-444c-8543-ef1ad25812dc",
   "metadata": {},
   "source": [
    "### Scenario: You are a data scientist monitoring environmental conditions in a smart building. You have collected sensor data (temperature, humidity, pressure) over 24 hours, with readings taken every minute. Your goal is to process this raw data to find key statistics and identify anomalies."
   ]
  },
  {
   "cell_type": "markdown",
   "id": "d861f7b4-8668-43dd-97e7-cf0434445a9a",
   "metadata": {},
   "source": [
    "## Data Generation:"
   ]
  },
  {
   "cell_type": "markdown",
   "id": "183f794c-d9a3-4a32-a0e7-527e68d09548",
   "metadata": {},
   "source": [
    "### 1. Create a NumPy array for time_in_minutes from 0 to 1439 (24 hours * 60 minutes):"
   ]
  },
  {
   "cell_type": "code",
   "execution_count": 74,
   "id": "c09670a7-4c16-4a58-b7a3-1ddf52c6b855",
   "metadata": {},
   "outputs": [
    {
     "data": {
      "text/plain": [
       "array([   0,    1,    2, ..., 1437, 1438, 1439], shape=(1440,))"
      ]
     },
     "execution_count": 74,
     "metadata": {},
     "output_type": "execute_result"
    }
   ],
   "source": [
    "time_in_minutes = np.arange(0, 1440)\n",
    "time_in_minutes"
   ]
  },
  {
   "cell_type": "markdown",
   "id": "b663d905-f2c4-4609-83e3-e2a0ff1bbd93",
   "metadata": {},
   "source": [
    "### 2. Generate synthetic temperature data: a base temperature (e.g., 22°C) with some random fluctuations (use np.random.normal):"
   ]
  },
  {
   "cell_type": "code",
   "execution_count": 75,
   "id": "caea9a7e-63d6-4b5d-9e43-dff4d57d0303",
   "metadata": {},
   "outputs": [
    {
     "data": {
      "text/plain": [
       "array([24.18732055, 20.71824183, 21.60093047, 19.98247995, 21.72704046,\n",
       "       21.4358903 , 20.74722823, 24.7176539 , 19.2966056 , 22.35426803,\n",
       "       20.49773341, 22.17527615, 21.66288088, 23.42530955, 23.26893495,\n",
       "       21.25866604, 19.53551393, 20.64307504, 22.86527847, 20.52950344,\n",
       "       24.42798608, 23.33505744, 26.07899422, 20.4692392 , 21.46442175,\n",
       "       23.88541725, 21.38274105, 24.15598382, 19.49595577, 23.41540932,\n",
       "       22.9344427 , 24.97290037, 19.13476363, 25.82739001, 20.01964401,\n",
       "       25.60407972, 21.44947758, 21.44835136, 20.05196859, 20.90147185,\n",
       "       20.26366865, 22.52961243, 19.50197327, 21.3976327 , 23.69987754,\n",
       "       23.8135083 , 25.21957362, 20.94642548, 18.67921562, 21.12025972,\n",
       "       23.09674   , 25.60990367, 19.79200563, 24.26508059, 24.68501018,\n",
       "       23.05239578, 21.53411798, 21.91143028, 21.48676286, 23.26867104,\n",
       "       19.18896978, 24.67470186, 20.60396769, 25.86832014, 23.70657165,\n",
       "       20.88155368, 23.66540495, 20.09383283, 24.60876139, 22.54692856,\n",
       "       24.62337408, 23.67470685, 23.04451326, 20.99518517, 19.34998256,\n",
       "       23.18073047, 20.53592871, 17.23111025, 19.74420748, 26.86463477,\n",
       "       23.05753618, 19.3296722 , 20.47832268, 20.25460612, 18.51947043,\n",
       "       22.89997791, 22.75478049, 21.54054575, 23.26234402, 22.49802129,\n",
       "       24.06717361, 22.55533906, 16.84675493, 20.59865504, 25.10913696,\n",
       "       21.83023501, 21.86176841, 20.41564118, 26.69762403, 19.60798699])"
      ]
     },
     "execution_count": 75,
     "metadata": {},
     "output_type": "execute_result"
    }
   ],
   "source": [
    "temp = np.random.normal(loc = 22, scale = 2, size = 100)\n",
    "temp"
   ]
  },
  {
   "cell_type": "markdown",
   "id": "89f1d0d1-028f-4e59-8d62-2255a0051dde",
   "metadata": {},
   "source": [
    "### 3. Generate synthetic humidity data: a base humidity (e.g., 55%) with random fluctuations, ensuring values stay realistic (0-100%):"
   ]
  },
  {
   "cell_type": "code",
   "execution_count": 76,
   "id": "c6ba2085-c06c-471b-aff1-15a12a22224c",
   "metadata": {},
   "outputs": [
    {
     "data": {
      "text/plain": [
       "array([53.04152227, 57.46070632, 56.66297438, 57.64652561, 57.37428961,\n",
       "       54.95374639, 53.63487872, 54.03017946, 57.33876638, 53.84295174,\n",
       "       53.68345517, 54.59241097, 53.60622408, 57.59158825, 54.30616353,\n",
       "       52.64632732, 56.35865265, 57.1913626 , 53.9004623 , 56.95699461,\n",
       "       54.84824664, 56.3721414 , 53.78895777, 52.54239824, 54.38289146,\n",
       "       55.17812331, 54.99942179, 58.03888288, 53.85596189, 56.09968328,\n",
       "       55.5280573 , 57.26567139, 53.99270028, 56.89566898, 53.90326602,\n",
       "       56.09098516, 56.43566811, 53.55701745, 52.54254162, 55.44043651,\n",
       "       55.19995705, 54.50187721, 57.80674639, 56.17676514, 58.17496881,\n",
       "       51.23654083, 55.30359353, 54.53150799, 55.39226072, 57.37990793,\n",
       "       57.60796984, 52.36712957, 54.14945098, 57.03223116, 54.76342441,\n",
       "       58.61203394, 57.21482668, 53.0110522 , 54.324598  , 54.66609596,\n",
       "       53.78437492, 55.9146119 , 54.36055518, 57.68342633, 55.5278889 ,\n",
       "       56.98283279, 52.08941085, 58.45533352, 55.85675953, 54.04524376,\n",
       "       55.1175914 , 54.11482605, 55.87645776, 56.63801596, 55.20793183,\n",
       "       55.76930037, 57.4403416 , 57.07377663, 55.23323   , 54.88690099,\n",
       "       55.01512292, 58.57596879, 53.08272407, 54.16292099, 55.11838594,\n",
       "       55.14178872, 52.98413345, 56.4599976 , 53.30619017, 55.41478784,\n",
       "       52.16097404, 57.83557588, 59.71287664, 52.7025019 , 54.67083171,\n",
       "       55.15935969, 55.18692037, 52.87358815, 54.86253354, 56.82332443])"
      ]
     },
     "execution_count": 76,
     "metadata": {},
     "output_type": "execute_result"
    }
   ],
   "source": [
    "hum = np.random.normal(loc = 55, scale = 2, size = 100)\n",
    "hum = np.clip(hum, 0, 100) #Used to make the values between 0 to 100\n",
    "hum"
   ]
  },
  {
   "cell_type": "markdown",
   "id": "79dba1aa-a2ba-4814-aa41-2eacd3679fd9",
   "metadata": {},
   "source": [
    "### 4. Generate synthetic pressure data: a base pressure (e.g., 1012 hPa) with random fluctuations:"
   ]
  },
  {
   "cell_type": "code",
   "execution_count": 77,
   "id": "48db15f4-6c2b-40d0-af64-80b29a3ab2bf",
   "metadata": {},
   "outputs": [
    {
     "data": {
      "text/plain": [
       "array([1010.60024061, 1013.87860859, 1011.09087305, 1013.73327374,\n",
       "       1007.94406291, 1010.13642274, 1017.78678286, 1009.62996603,\n",
       "       1009.71521473, 1016.2579821 , 1015.61004476, 1015.77859857,\n",
       "       1012.51584076, 1014.39632306, 1015.91339905, 1011.29800215,\n",
       "       1011.41477815, 1010.03189643, 1012.61967813, 1009.58158882,\n",
       "       1013.93225199, 1009.72977512, 1010.57904577, 1010.73620808,\n",
       "       1012.698099  , 1010.68937483, 1008.34694811, 1010.33179942,\n",
       "       1013.79556244, 1015.31560066, 1010.72686297, 1009.80517695,\n",
       "       1012.92474653, 1013.84516957, 1012.00943178, 1013.82329486,\n",
       "       1014.07861385, 1010.24722658, 1015.05578554, 1013.26597505,\n",
       "       1012.27004189, 1010.57009172, 1016.06179334, 1015.24401778,\n",
       "       1011.43463809, 1010.51070464, 1012.8360355 , 1014.03686099,\n",
       "       1011.62098338, 1012.43600155, 1013.5204009 , 1013.47354741,\n",
       "       1011.68216904, 1011.89296164, 1009.69882989, 1010.17975138,\n",
       "       1010.03504439, 1009.66495618, 1009.94051955, 1010.81386296,\n",
       "       1013.447142  , 1012.41083694, 1009.99855078, 1014.87770698,\n",
       "       1010.73059171, 1009.76124518, 1014.01943898, 1016.7071018 ,\n",
       "       1011.59079743, 1009.36615291, 1010.71722297, 1012.47148286,\n",
       "       1011.32223343, 1008.44900105, 1013.08006746, 1011.19072515,\n",
       "       1013.86008179, 1013.67406334, 1011.70571783, 1012.47779791,\n",
       "       1013.53714836, 1012.43499605, 1012.29038984, 1009.08259604,\n",
       "       1012.70664235, 1011.52044586, 1015.31395273, 1011.71578157,\n",
       "       1012.51995145, 1012.48398625, 1013.86183103, 1009.5390317 ,\n",
       "       1013.13800338, 1009.60811576, 1010.85332853, 1013.1794944 ,\n",
       "       1010.60147415, 1012.92002963, 1011.05126268, 1012.75937349])"
      ]
     },
     "execution_count": 77,
     "metadata": {},
     "output_type": "execute_result"
    }
   ],
   "source": [
    "pressure = np.random.normal(loc = 1012, scale = 2, size = 100)\n",
    "pressure = np.clip(pressure, 980, 1050)\n",
    "pressure"
   ]
  },
  {
   "cell_type": "markdown",
   "id": "02f86c70-a838-4c57-b796-9e8640c9f33d",
   "metadata": {},
   "source": [
    "### 5. Combine these into a single 2D NumPy array where each row represents a minute and columns are [time, temperature, humidity, pressure]:"
   ]
  },
  {
   "cell_type": "code",
   "execution_count": 78,
   "id": "6a08aa55-10a3-490a-bdc6-6b90132ed9eb",
   "metadata": {},
   "outputs": [
    {
     "name": "stdout",
     "output_type": "stream",
     "text": [
      "[[0.00000000e+00 2.02161262e+01 5.39122867e+01 1.00863152e+03]\n",
      " [1.00000000e+00 2.19028629e+01 5.36610936e+01 1.01308687e+03]\n",
      " [2.00000000e+00 1.96093077e+01 5.20326338e+01 1.01372872e+03]\n",
      " [3.00000000e+00 2.41606963e+01 5.81769091e+01 1.01182782e+03]\n",
      " [4.00000000e+00 2.22403989e+01 5.54124299e+01 1.01100893e+03]]\n"
     ]
    }
   ],
   "source": [
    "time_in_minutes = np.arange(1440)\n",
    "temp = np.random.normal(loc=22, scale=2, size=1440)\n",
    "hum = np.clip(np.random.normal(loc=55, scale=5, size=1440), 0, 100)\n",
    "pressure = np.clip(np.random.normal(loc=1012, scale=2, size=1440), 980, 1050)\n",
    "\n",
    "table = np.column_stack((time_in_minutes, temp, hum, pressure))\n",
    "print(table[:5])"
   ]
  },
  {
   "cell_type": "markdown",
   "id": "09f9964b-6562-4160-93f8-9fa894a86cc3",
   "metadata": {},
   "source": [
    "## Basic Statistics"
   ]
  },
  {
   "cell_type": "markdown",
   "id": "de3ea8a7-31e7-43f8-980a-fe275dc499db",
   "metadata": {},
   "source": [
    "### 6. Calculate the average, minimum, maximum for temperature, humidity, and pressure for the entire 24-hour period:"
   ]
  },
  {
   "cell_type": "code",
   "execution_count": 79,
   "id": "d33cdb2a-ef0e-49a8-b14c-10fe6a4fc4fe",
   "metadata": {},
   "outputs": [
    {
     "name": "stdout",
     "output_type": "stream",
     "text": [
      "Temperature: \n",
      "Avg: 21.94, \n",
      "Min: 15.83, \n",
      "Max: 30.16\n",
      "---------------|\n",
      "Humidity: \n",
      "Avg: 55.30, \n",
      "Min: 38.00, \n",
      "Max: 74.97\n",
      "---------------|\n",
      "Pressure: \n",
      "Avg: 1012.03, \n",
      "Min: 1006.13, \n",
      "Max: 1017.92\n"
     ]
    }
   ],
   "source": [
    "avg_temp = np.mean(table[:, 1])\n",
    "min_temp = np.min(table[:, 1])\n",
    "max_temp = np.max(table[:, 1])\n",
    "\n",
    "avg_hum = np.mean(table[:, 2])\n",
    "min_hum = np.min(table[:, 2])\n",
    "max_hum = np.max(table[:, 2])\n",
    "\n",
    "# Pressure statistics\n",
    "avg_pressure = np.mean(table[:, 3])\n",
    "min_pressure = np.min(table[:, 3])\n",
    "max_pressure= np.max(table[:, 3])\n",
    "\n",
    "print(f\"Temperature: \\nAvg: {avg_temp:.2f}, \\nMin: {min_temp:.2f}, \\nMax: {max_temp:.2f}\")\n",
    "print(\"---------------|\")\n",
    "print(f\"Humidity: \\nAvg: {avg_hum:.2f}, \\nMin: {min_hum:.2f}, \\nMax: {max_hum:.2f}\")\n",
    "print(\"---------------|\")\n",
    "print(f\"Pressure: \\nAvg: {avg_pressure:.2f}, \\nMin: {min_pressure:.2f}, \\nMax: {max_pressure:.2f}\")\n"
   ]
  },
  {
   "cell_type": "markdown",
   "id": "0853824f-e3e5-4ac0-8851-159f550714f0",
   "metadata": {},
   "source": [
    "### 7. Find the standard deviation for each of these parameters:"
   ]
  },
  {
   "cell_type": "code",
   "execution_count": 80,
   "id": "08735a8e-ca45-4bb8-98a1-1ef9db6fde31",
   "metadata": {},
   "outputs": [
    {
     "name": "stdout",
     "output_type": "stream",
     "text": [
      "The Standard Deviation of the Tempreture is: 2.00\n",
      "The Standard Deviation of the Humidity is: 5.01\n",
      "The Standard Deviation of the Pressure is: 2.02\n"
     ]
    }
   ],
   "source": [
    "std_temp = np.std(temp)\n",
    "std_hum = np.std(hum)\n",
    "std_pressure = np.std(pressure)\n",
    "\n",
    "print(f\"The Standard Deviation of the Tempreture is: {std_temp:.2f}\")\n",
    "print(f\"The Standard Deviation of the Humidity is: {std_hum:.2f}\")\n",
    "print(f\"The Standard Deviation of the Pressure is: {std_pressure:.2f}\")"
   ]
  },
  {
   "cell_type": "markdown",
   "id": "0a05f672-ceb6-4fb2-94d4-98df24b3a81e",
   "metadata": {},
   "source": [
    "## Hourly Averages:"
   ]
  },
  {
   "cell_type": "markdown",
   "id": "e10c59f6-ed14-49e1-8aa1-c17815b13b06",
   "metadata": {},
   "source": [
    "### 8. Reshape the data (or use slicing/aggregation) to calculate the average temperature, humidity, and pressure for each hour of the day. You should end up with 24 average values for each parameter:"
   ]
  },
  {
   "cell_type": "code",
   "execution_count": 81,
   "id": "ee5157d8-dc84-4460-ae2c-a7736188056b",
   "metadata": {},
   "outputs": [
    {
     "name": "stdout",
     "output_type": "stream",
     "text": [
      "[21.72186061 21.64479725 21.44975158 22.13425118 21.88986944 21.70561309\n",
      " 21.87060337 22.3307755  22.17338513 21.93550124 22.17950884 21.85050895\n",
      " 22.3299987  21.79090436 21.94075235 21.8660899  22.1460769  22.11465675\n",
      " 21.98618117 21.88710621 21.8380579  22.28227181 21.71084374 21.88175311]\n",
      "---------------|\n",
      "[54.95380322 55.07488803 56.20394583 55.48966519 55.2571736  56.16404093\n",
      " 53.83403869 55.10003631 54.83430053 55.26825696 55.28866096 54.96579708\n",
      " 55.81670824 55.52964225 55.36175591 55.53037797 55.47921664 54.7850252\n",
      " 55.66415118 56.0638677  53.94278591 54.70095181 55.84608189 56.12813855]\n",
      "---------------|\n",
      "[1012.06770914 1012.079358   1011.62399198 1011.81480437 1012.02696662\n",
      " 1011.89355138 1012.32754087 1011.92672288 1012.04404903 1011.67287209\n",
      " 1011.73005608 1012.56848374 1012.49975436 1012.18336914 1011.97924338\n",
      " 1012.31181964 1012.23229889 1012.10795097 1012.2442683  1011.73033311\n",
      " 1011.75296586 1012.28783348 1011.75602123 1011.91744696]\n"
     ]
    }
   ],
   "source": [
    "temp_per_hour = temp.reshape(24, 60)\n",
    "hum_per_hour = hum.reshape(24,60)\n",
    "pressure_per_hour = pressure.reshape(24,60)\n",
    "\n",
    "avg_temp_per_hour = np.mean(temp_per_hour, axis=1)\n",
    "avg_hum_per_hour = np.mean(hum_per_hour, axis=1)\n",
    "avg_pressure_per_hour = np.mean(pressure_per_hour, axis=1)\n",
    "\n",
    "print(avg_temp_per_hour)\n",
    "print(\"---------------|\")\n",
    "print(avg_hum_per_hour)\n",
    "print(\"---------------|\")\n",
    "print(avg_pressure_per_hour)"
   ]
  },
  {
   "cell_type": "markdown",
   "id": "ac4dfcbd-a6f2-4e7d-a406-75012645c87e",
   "metadata": {},
   "source": [
    "## Anomaly Detection (Simple):"
   ]
  },
  {
   "cell_type": "markdown",
   "id": "8763f3ff-77be-465c-b717-f8ed769bcc4b",
   "metadata": {},
   "source": [
    "### 9. Identify and count how many minutes the temperature exceeded a certain threshold (e.g., 25°C):"
   ]
  },
  {
   "cell_type": "code",
   "execution_count": 82,
   "id": "af30163e-2352-4519-bb5b-7051d2cf98e5",
   "metadata": {},
   "outputs": [
    {
     "name": "stdout",
     "output_type": "stream",
     "text": [
      "The Minuts of the Temprature that Exceeded are: 88.\n"
     ]
    }
   ],
   "source": [
    "temperature_exceeded = temp > 25\n",
    "count_temperature_exceeded = np.sum(temperature_exceeded)\n",
    "print(f\"The Minuts of the Temprature that Exceeded are: {count_temperature_exceeded}.\")"
   ]
  },
  {
   "cell_type": "markdown",
   "id": "b8d5fcde-159f-4642-9a11-d00730244fea",
   "metadata": {},
   "source": [
    "### 10. Find the time (in minutes) when the minimum temperature occurred:"
   ]
  },
  {
   "cell_type": "code",
   "execution_count": 83,
   "id": "7a85960a-7bbf-46d1-b535-5b4be6b1ac7c",
   "metadata": {},
   "outputs": [
    {
     "name": "stdout",
     "output_type": "stream",
     "text": [
      "The Minimum Temperature Occurred at Minute: 1433\n"
     ]
    }
   ],
   "source": [
    "min_temp_index = np.argmin(temp)\n",
    "min_temp_time = table[min_temp_index, 0]\n",
    "print(f\"The Minimum Temperature Occurred at Minute: {int(min_temp_time)}\")"
   ]
  }
 ],
 "metadata": {
  "kernelspec": {
   "display_name": "Python 3 (ipykernel)",
   "language": "python",
   "name": "python3"
  },
  "language_info": {
   "codemirror_mode": {
    "name": "ipython",
    "version": 3
   },
   "file_extension": ".py",
   "mimetype": "text/x-python",
   "name": "python",
   "nbconvert_exporter": "python",
   "pygments_lexer": "ipython3",
   "version": "3.13.3"
  }
 },
 "nbformat": 4,
 "nbformat_minor": 5
}
