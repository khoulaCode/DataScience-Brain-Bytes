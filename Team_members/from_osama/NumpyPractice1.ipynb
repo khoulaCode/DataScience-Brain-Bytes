{
 "cells": [
  {
   "cell_type": "markdown",
   "id": "af23aeea",
   "metadata": {},
   "source": [
    "# Part 1: Array Creation and Properties"
   ]
  },
  {
   "cell_type": "code",
   "execution_count": 2,
   "id": "72bf5f62-0737-4361-a627-54589564c216",
   "metadata": {},
   "outputs": [],
   "source": [
    "import numpy as np"
   ]
  },
  {
   "cell_type": "markdown",
   "id": "1003d45b-49c1-45c8-b44e-79efbbba4736",
   "metadata": {},
   "source": [
    "### 1. Create a 1D array named arr1d with integers from 0 to 9:"
   ]
  },
  {
   "cell_type": "code",
   "execution_count": 3,
   "id": "b850abd3-8b91-40aa-9771-1a8eb273bf84",
   "metadata": {
    "scrolled": true
   },
   "outputs": [
    {
     "data": {
      "text/plain": [
       "array([0, 1, 2, 3, 4, 5, 6, 7, 8, 9])"
      ]
     },
     "execution_count": 3,
     "metadata": {},
     "output_type": "execute_result"
    }
   ],
   "source": [
    "arr1d = np.array([0, 1, 2, 3, 4,5, 6, 7, 8, 9])\n",
    "arr1d"
   ]
  },
  {
   "cell_type": "markdown",
   "id": "47d34fa7-2799-4ffd-9e5b-ba8c7fdfb173",
   "metadata": {},
   "source": [
    "### 2. Create a 2D array named arr2d with shape (3, 3) filled with ones:"
   ]
  },
  {
   "cell_type": "code",
   "execution_count": 4,
   "id": "9d5062a0-bb10-4da1-8906-f358f86be37e",
   "metadata": {},
   "outputs": [
    {
     "data": {
      "text/plain": [
       "array([[[1., 1., 1.],\n",
       "        [1., 1., 1.],\n",
       "        [1., 1., 1.]],\n",
       "\n",
       "       [[1., 1., 1.],\n",
       "        [1., 1., 1.],\n",
       "        [1., 1., 1.]]])"
      ]
     },
     "execution_count": 4,
     "metadata": {},
     "output_type": "execute_result"
    }
   ],
   "source": [
    "arr2d = np.ones((2, 3, 3))\n",
    "arr2d"
   ]
  },
  {
   "cell_type": "markdown",
   "id": "108a0bb9-479f-4703-9564-e216ab7ee08d",
   "metadata": {},
   "source": [
    "### 3. Create a 3x3 array named random_matrix with random floating-point numbers from a stan5dard normal distribution:"
   ]
  },
  {
   "cell_type": "code",
   "execution_count": 5,
   "id": "55d72bca-491c-43a7-8cec-8ac7316bffe3",
   "metadata": {},
   "outputs": [
    {
     "data": {
      "text/plain": [
       "array([[ 0.26059422, -1.61429213, -0.60979001],\n",
       "       [ 2.08817374,  0.03146409,  0.28037675],\n",
       "       [-1.37001448, -1.29814192,  0.86823008]])"
      ]
     },
     "execution_count": 5,
     "metadata": {},
     "output_type": "execute_result"
    }
   ],
   "source": [
    "random_matrix = np.random.randn(3, 3)\n",
    "random_matrix"
   ]
  },
  {
   "cell_type": "markdown",
   "id": "305fa93e-66e1-4b5a-b165-100d75ca68b3",
   "metadata": {},
   "source": [
    "### 4. Create an array named even_numbers containing even numbers from 10 to 50 (inclusive):"
   ]
  },
  {
   "cell_type": "code",
   "execution_count": 6,
   "id": "e6db5b2a-3fbb-4df0-9b74-a692600acee2",
   "metadata": {},
   "outputs": [
    {
     "data": {
      "text/plain": [
       "array([10, 12, 14, 16, 18, 20, 22, 24, 26, 28, 30, 32, 34, 36, 38, 40, 42,\n",
       "       44, 46, 48, 50])"
      ]
     },
     "execution_count": 6,
     "metadata": {},
     "output_type": "execute_result"
    }
   ],
   "source": [
    "even_numbers = np.arange(10, 51, 2)\n",
    "even_numbers"
   ]
  },
  {
   "cell_type": "markdown",
   "id": "9a98629c-7cbd-463c-830e-e746e00d3497",
   "metadata": {},
   "source": [
    "### 5. Create an array named linspace_array containing 7 equally spaced numbers between 0 and 1 (inclusive):"
   ]
  },
  {
   "cell_type": "code",
   "execution_count": 7,
   "id": "26683719-7155-45f5-b0d8-b43b9d347618",
   "metadata": {},
   "outputs": [
    {
     "data": {
      "text/plain": [
       "array([0.        , 0.16666667, 0.33333333, 0.5       , 0.66666667,\n",
       "       0.83333333, 1.        ])"
      ]
     },
     "execution_count": 7,
     "metadata": {},
     "output_type": "execute_result"
    }
   ],
   "source": [
    "linspace_array = np.linspace(0, 1, 7)\n",
    "linspace_array"
   ]
  },
  {
   "cell_type": "markdown",
   "id": "98af3e7e-35d1-4e6a-9b99-4607249c9270",
   "metadata": {},
   "source": [
    "### 6. Given arr = np.array([[1, 2, 3], [4, 5, 6]]), what is its shape, ndim, and dtype? Print them:"
   ]
  },
  {
   "cell_type": "code",
   "execution_count": 8,
   "id": "b00e82d8-5751-4431-b5bd-726a6994bc34",
   "metadata": {},
   "outputs": [
    {
     "name": "stdout",
     "output_type": "stream",
     "text": [
      "(2, 3)\n",
      "2\n",
      "int64\n"
     ]
    }
   ],
   "source": [
    "arr = np.array([[1, 2, 3], [4, 5, 6]])\n",
    "print(arr.shape)\n",
    "print(arr.ndim)\n",
    "print(arr.dtype)"
   ]
  },
  {
   "cell_type": "markdown",
   "id": "048036cd-ef12-468f-8bad-6a046f5b83a4",
   "metadata": {},
   "source": [
    "# Part 2: Array Manipulation"
   ]
  },
  {
   "cell_type": "markdown",
   "id": "d3124e47-8f2f-4972-a3bb-01c51a23dbe6",
   "metadata": {},
   "source": [
    "### 7. Reshape arr1d (from Q1) into a 2x5 2D array. Name the new array reshaped_arr:"
   ]
  },
  {
   "cell_type": "code",
   "execution_count": 9,
   "id": "480ad55a-ae8a-45ee-9675-cf82364a65e2",
   "metadata": {},
   "outputs": [
    {
     "data": {
      "text/plain": [
       "array([[0, 1, 2, 3, 4],\n",
       "       [5, 6, 7, 8, 9]])"
      ]
     },
     "execution_count": 9,
     "metadata": {},
     "output_type": "execute_result"
    }
   ],
   "source": [
    "reshaped_arr = arr1d.reshape(2, 5)\n",
    "reshaped_arr"
   ]
  },
  {
   "cell_type": "markdown",
   "id": "6e9b8f34-2c6c-4fbd-b05c-b5d383f83ae8",
   "metadata": {},
   "source": [
    "### 8. Transpose reshaped_arr (from Q7). Name the result transposed_arr:"
   ]
  },
  {
   "cell_type": "code",
   "execution_count": 10,
   "id": "2746fd8d-2614-4228-95de-ca5ea30ec551",
   "metadata": {},
   "outputs": [
    {
     "data": {
      "text/plain": [
       "array([[0, 5],\n",
       "       [1, 6],\n",
       "       [2, 7],\n",
       "       [3, 8],\n",
       "       [4, 9]])"
      ]
     },
     "execution_count": 10,
     "metadata": {},
     "output_type": "execute_result"
    }
   ],
   "source": [
    "transposed_arr = reshaped_arr.T\n",
    "transposed_arr"
   ]
  },
  {
   "cell_type": "markdown",
   "id": "c4b73237-32fb-4115-a383-b786985da182",
   "metadata": {},
   "source": [
    "### 9. Stack two 1D arrays a = np.array([1, 2, 3]) and b = np.array([4, 5, 6]) vertically:"
   ]
  },
  {
   "cell_type": "code",
   "execution_count": 11,
   "id": "7dd5b203-94cc-4b0e-9bbc-0c72d0725d6f",
   "metadata": {},
   "outputs": [
    {
     "data": {
      "text/plain": [
       "array([[1, 2, 3],\n",
       "       [4, 5, 6]])"
      ]
     },
     "execution_count": 11,
     "metadata": {},
     "output_type": "execute_result"
    }
   ],
   "source": [
    "a = np.array([1, 2, 3])\n",
    "b = np.array([4, 5, 6])\n",
    "v_stack = np.vstack((a,b))\n",
    "v_stack"
   ]
  },
  {
   "cell_type": "markdown",
   "id": "4ce28a73-15d8-4896-8f41-40b2b0a21c09",
   "metadata": {},
   "source": [
    "### 10. Stack two 2D arrays m1 = np.array([[1, 2], [3, 4]]) and m2 = np.array([[5, 6], [7, 8]]) horizontally:"
   ]
  },
  {
   "cell_type": "code",
   "execution_count": 12,
   "id": "63ec34fc-ca1b-43a0-b31e-45e883061a79",
   "metadata": {},
   "outputs": [
    {
     "data": {
      "text/plain": [
       "array([[1, 2, 5, 6],\n",
       "       [3, 4, 7, 8]])"
      ]
     },
     "execution_count": 12,
     "metadata": {},
     "output_type": "execute_result"
    }
   ],
   "source": [
    "m1 = np.array([[1, 2], [3, 4]])\n",
    "m2 = np.array([[5, 6], [7, 8]])\n",
    "h_stack = np.hstack((m1, m2))\n",
    "h_stack"
   ]
  },
  {
   "cell_type": "markdown",
   "id": "24360856-d07d-4a94-9b4a-b2215544fd5a",
   "metadata": {},
   "source": [
    "### 11. Split the array arr_to_split = np.arange(16).reshape(4, 4) horizontally into 2 equal parts. Print both parts:"
   ]
  },
  {
   "cell_type": "code",
   "execution_count": 13,
   "id": "8c54f337-37e8-4fb9-83e5-ebe2703be994",
   "metadata": {},
   "outputs": [
    {
     "name": "stdout",
     "output_type": "stream",
     "text": [
      "[[ 0  1  2  3]\n",
      " [ 4  5  6  7]\n",
      " [ 8  9 10 11]\n",
      " [12 13 14 15]]\n",
      "------------\n",
      "[[0 1 2 3]\n",
      " [4 5 6 7]]\n",
      "[[ 8  9 10 11]\n",
      " [12 13 14 15]]\n"
     ]
    }
   ],
   "source": [
    "arr_to_split = np.arange(16).reshape(4, 4)\n",
    "print(arr_to_split)\n",
    "print(\"------------\")\n",
    "splited_arr_top = arr_to_split[:2, :]\n",
    "print(splited_arr_top)\n",
    "splited_arr_down = arr_to_split[2:, :]\n",
    "print(splited_arr_down)"
   ]
  },
  {
   "cell_type": "markdown",
   "id": "f93fafa1-a982-4031-b1c0-828b49afe14d",
   "metadata": {},
   "source": [
    "### 12. Split the array arr_to_split (from Q11) vertically at index 2 (i.e., into two parts: first two rows, and last two rows). Print both parts:"
   ]
  },
  {
   "cell_type": "code",
   "execution_count": 15,
   "id": "1dafd495-986a-4844-9a99-71081946f43f",
   "metadata": {},
   "outputs": [
    {
     "name": "stdout",
     "output_type": "stream",
     "text": [
      "[[ 0  1]\n",
      " [ 4  5]\n",
      " [ 8  9]\n",
      " [12 13]]\n",
      "[[ 2  3]\n",
      " [ 6  7]\n",
      " [10 11]\n",
      " [14 15]]\n"
     ]
    }
   ],
   "source": [
    "arr_to_split = np.arange(16).reshape(4, 4)\n",
    "splited_arr_left = arr_to_split[:, :2]\n",
    "print(splited_arr_left)\n",
    "splited_arr_right = arr_to_split[:, 2:]\n",
    "print(splited_arr_right)"
   ]
  },
  {
   "cell_type": "markdown",
   "id": "a7fd3fd6-beee-4f07-ad15-e45363e2928f",
   "metadata": {},
   "source": [
    "# Part 3: Indexing, Slicing, and Boolean Indexing"
   ]
  },
  {
   "cell_type": "markdown",
   "id": "40d95f5d-38b0-42ff-b144-4c0813550ae9",
   "metadata": {},
   "source": [
    "### 13. Given data = np.array([[10, 11, 12], [13, 14, 15], [16, 17, 18]]), extract the element at row 1, column 2:"
   ]
  },
  {
   "cell_type": "code",
   "execution_count": 18,
   "id": "237f6fcd-3ffc-4e5e-b43c-2b6d98969fcf",
   "metadata": {},
   "outputs": [
    {
     "name": "stdout",
     "output_type": "stream",
     "text": [
      "15\n"
     ]
    }
   ],
   "source": [
    "data = np.array([[10, 11, 12], [13, 14, 15], [16, 17, 18]])\n",
    "print(data[1, -1])"
   ]
  },
  {
   "cell_type": "markdown",
   "id": "fb00720c-167d-4eb2-b4de-6deec23a4ef4",
   "metadata": {},
   "source": [
    "### 14. From the data array (from Q13), extract the first two rows and all columns:"
   ]
  },
  {
   "cell_type": "code",
   "execution_count": 19,
   "id": "24cea739-2eba-485a-821b-7b95f0fb33d5",
   "metadata": {},
   "outputs": [
    {
     "name": "stdout",
     "output_type": "stream",
     "text": [
      "[[10 11 12]\n",
      " [13 14 15]]\n"
     ]
    }
   ],
   "source": [
    "print(data[0 : 2, :])"
   ]
  },
  {
   "cell_type": "markdown",
   "id": "832f1a18-1cef-4181-a329-a01b22765d4b",
   "metadata": {},
   "source": [
    "### 15. From the data array (from Q13), extract the elements 11, 15, and 17 using fancy From the data array (from Q13), extract the elements 11, 15, and 17 using fancy indexing (hint: you'll need to specify rows and columns). (hint: you'll need to specify rows and columns):"
   ]
  },
  {
   "cell_type": "code",
   "execution_count": 26,
   "id": "9beb1c59-7ded-4776-86bd-bdb066eee4bd",
   "metadata": {},
   "outputs": [
    {
     "name": "stdout",
     "output_type": "stream",
     "text": [
      "[11 15 17]\n"
     ]
    }
   ],
   "source": [
    "# print(data[0, 1])\n",
    "# print(data[1, -1])\n",
    "# print(data[2, -2])\n",
    "row = [0, 1, 2]\n",
    "col = [1, -1, -2]\n",
    "print(data[row, col])"
   ]
  },
  {
   "cell_type": "markdown",
   "id": "ed6eb9ea-9410-4680-9846-a8858c6d7e50",
   "metadata": {},
   "source": [
    "### 16. Given scores = np.array([85, 92, 78, 65, 95, 88]), use boolean indexing to find all scores greater than 80:"
   ]
  },
  {
   "cell_type": "code",
   "execution_count": 27,
   "id": "bd887e7d-ebe5-458b-8f29-43a14d286b4c",
   "metadata": {},
   "outputs": [
    {
     "name": "stdout",
     "output_type": "stream",
     "text": [
      "[85 92 95 88]\n"
     ]
    }
   ],
   "source": [
    "scores = np.array([85, 92, 78, 65, 95, 88])\n",
    "high_scores = scores[scores > 80]\n",
    "print(high_scores)"
   ]
  },
  {
   "cell_type": "markdown",
   "id": "42c93291-8edf-45de-99c8-cfe0cf07a894",
   "metadata": {},
   "source": [
    "# Part 4: Numerical Operations and Aggregations"
   ]
  },
  {
   "cell_type": "markdown",
   "id": "6574ce04-ca9a-43c4-b682-b1918313fa43",
   "metadata": {},
   "source": [
    "### 16. Given arr_op1 = np.array([10, 20, 30]) and arr_op2 = np.array([2, 4, 6]), perform element-wise multiplication and division (arr_op1 / arr_op2):"
   ]
  },
  {
   "cell_type": "code",
   "execution_count": 29,
   "id": "fa1a33ec-9446-4830-81c9-072ed582fd2c",
   "metadata": {},
   "outputs": [
    {
     "name": "stdout",
     "output_type": "stream",
     "text": [
      "[ 20  80 180]\n"
     ]
    }
   ],
   "source": [
    "arr_op1 = np.array([10, 20, 30])\n",
    "arr_op2 = np.array([2, 4, 6])\n",
    "result = arr_op1 * arr_op2\n",
    "print(result)"
   ]
  },
  {
   "cell_type": "markdown",
   "id": "083c1d39-2361-4d8f-b076-f82b5b02cca8",
   "metadata": {},
   "source": [
    "### 17. Given matrix = np.array([[1, 2, 3], [4, 5, 6], [7, 8, 9]]), calculate the sum of all elements in the matrix:"
   ]
  },
  {
   "cell_type": "code",
   "execution_count": 30,
   "id": "2117b277-5fe6-420f-8ab7-c0ad482a8384",
   "metadata": {},
   "outputs": [
    {
     "name": "stdout",
     "output_type": "stream",
     "text": [
      "45\n"
     ]
    }
   ],
   "source": [
    "matrix = np.array([[1, 2, 3], [4, 5, 6], [7, 8, 9]])\n",
    "sum = np.sum(matrix)\n",
    "print(sum)"
   ]
  },
  {
   "cell_type": "markdown",
   "id": "278eb51c-2939-4601-8e79-d73c5216287d",
   "metadata": {},
   "source": [
    "### 18. From the matrix (from Q17), calculate the mean of each column:"
   ]
  },
  {
   "cell_type": "code",
   "execution_count": 33,
   "id": "7c4b411b-66e1-432a-9f0d-4a593579e9dd",
   "metadata": {},
   "outputs": [
    {
     "name": "stdout",
     "output_type": "stream",
     "text": [
      "[4. 5. 6.]\n"
     ]
    }
   ],
   "source": [
    "columns_mean = np.mean(matrix, axis=0)\n",
    "print(columns_mean)"
   ]
  },
  {
   "cell_type": "markdown",
   "id": "9f8d873d-f604-4fed-9125-346e8f325809",
   "metadata": {},
   "source": [
    "### 19. Given price_array = np.array([100, 150, 200, 250]) and discount_percentage = 0.10, apply a 10% discount to all prices using broadcasting:"
   ]
  },
  {
   "cell_type": "code",
   "execution_count": 43,
   "id": "094e7ad0-c2d2-4157-8ec7-b8dd761a7860",
   "metadata": {},
   "outputs": [
    {
     "name": "stdout",
     "output_type": "stream",
     "text": [
      "[ 90. 135. 180. 225.]\n"
     ]
    }
   ],
   "source": [
    "price_array = np.array([100, 150, 200, 250])\n",
    "discount = 0.90\n",
    "result = price_array * discount\n",
    "print(result)"
   ]
  }
 ],
 "metadata": {
  "kernelspec": {
   "display_name": "Python 3 (ipykernel)",
   "language": "python",
   "name": "python3"
  },
  "language_info": {
   "codemirror_mode": {
    "name": "ipython",
    "version": 3
   },
   "file_extension": ".py",
   "mimetype": "text/x-python",
   "name": "python",
   "nbconvert_exporter": "python",
   "pygments_lexer": "ipython3",
   "version": "3.13.3"
  }
 },
 "nbformat": 4,
 "nbformat_minor": 5
}
