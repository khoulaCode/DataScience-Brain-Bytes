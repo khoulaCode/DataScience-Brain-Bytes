{
 "cells": [
  {
   "cell_type": "code",
   "execution_count": 53,
   "id": "21eae896",
   "metadata": {},
   "outputs": [
    {
     "name": "stderr",
     "output_type": "stream",
     "text": [
      "[nltk_data] Downloading package punkt to\n",
      "[nltk_data]     C:\\Users\\osamasaid\\AppData\\Roaming\\nltk_data...\n",
      "[nltk_data]   Package punkt is already up-to-date!\n",
      "[nltk_data] Downloading package wordnet to\n",
      "[nltk_data]     C:\\Users\\osamasaid\\AppData\\Roaming\\nltk_data...\n",
      "[nltk_data]   Package wordnet is already up-to-date!\n",
      "[nltk_data] Downloading package omw-1.4 to\n",
      "[nltk_data]     C:\\Users\\osamasaid\\AppData\\Roaming\\nltk_data...\n",
      "[nltk_data]   Package omw-1.4 is already up-to-date!\n"
     ]
    },
    {
     "data": {
      "text/plain": [
       "True"
      ]
     },
     "execution_count": 53,
     "metadata": {},
     "output_type": "execute_result"
    }
   ],
   "source": [
    "from pathlib import Path\n",
    "import pandas as pd\n",
    "import re\n",
    "import nltk\n",
    "from nltk.corpus import stopwords\n",
    "from nltk.stem import WordNetLemmatizer\n",
    "from nltk.corpus import wordnet\n",
    "from nltk.tokenize import word_tokenize\n",
    "nltk.download('punkt')\n",
    "nltk.download('wordnet')\n",
    "nltk.download('omw-1.4')"
   ]
  },
  {
   "cell_type": "code",
   "execution_count": null,
   "id": "8e03cd64",
   "metadata": {},
   "outputs": [],
   "source": []
  },
  {
   "cell_type": "code",
   "execution_count": null,
   "id": "2b1cbc7a",
   "metadata": {},
   "outputs": [],
   "source": [
    "def load_reviews(folder_path, category, limit=None):\n",
    "    folder = Path(folder_path)\n",
    "\n",
    "    files = sorted(folder.glob(\"*.txt\"), key=lambda p: int(p.stem.split(\"_\")[0]))\n",
    "\n",
    "    rows = []\n",
    "    for i, file in enumerate(files):\n",
    "        if limit and i >= limit:   \n",
    "            break\n",
    "\n",
    "        file_id, rating = file.stem.split(\"_\")\n",
    "        review = file.read_text(encoding=\"utf-8\", errors=\"replace\").strip()\n",
    "\n",
    "        rows.append({\n",
    "            \"id\": int(file_id),\n",
    "            \"rating\": int(rating),\n",
    "            \"review\": review,\n",
    "            \"category\": category\n",
    "        })\n",
    "\n",
    "    return pd.DataFrame(rows, columns=[\"id\", \"rating\", \"review\", \"category\"]) \\\n",
    "             .sort_values(\"id\") \\\n",
    "             .reset_index(drop=True)"
   ]
  },
  {
   "cell_type": "code",
   "execution_count": null,
   "id": "5adcfb03",
   "metadata": {},
   "outputs": [],
   "source": [
    "positive_df = load_reviews(\"Data/pos\", \"positive\", limit=5000)\n",
    "print(positive_df.head())"
   ]
  },
  {
   "cell_type": "code",
   "execution_count": null,
   "id": "62b32861",
   "metadata": {},
   "outputs": [],
   "source": [
    "negative_df = load_reviews(\"Data/neg\", \"negative\", limit=5000)\n",
    "print(negative_df.head())"
   ]
  },
  {
   "cell_type": "code",
   "execution_count": null,
   "id": "ad144f13",
   "metadata": {},
   "outputs": [],
   "source": [
    "pos_df = pd.DataFrame(positive_df)\n",
    "pos_df"
   ]
  },
  {
   "cell_type": "code",
   "execution_count": null,
   "id": "af1cb5fa",
   "metadata": {},
   "outputs": [],
   "source": [
    "neg_df = pd.DataFrame(negative_df)\n",
    "neg_df"
   ]
  },
  {
   "cell_type": "code",
   "execution_count": 66,
   "id": "e12df36d",
   "metadata": {},
   "outputs": [
    {
     "data": {
      "text/html": [
       "<div>\n",
       "<style scoped>\n",
       "    .dataframe tbody tr th:only-of-type {\n",
       "        vertical-align: middle;\n",
       "    }\n",
       "\n",
       "    .dataframe tbody tr th {\n",
       "        vertical-align: top;\n",
       "    }\n",
       "\n",
       "    .dataframe thead th {\n",
       "        text-align: right;\n",
       "    }\n",
       "</style>\n",
       "<table border=\"1\" class=\"dataframe\">\n",
       "  <thead>\n",
       "    <tr style=\"text-align: right;\">\n",
       "      <th></th>\n",
       "      <th>id</th>\n",
       "      <th>rating</th>\n",
       "      <th>review</th>\n",
       "      <th>category</th>\n",
       "    </tr>\n",
       "  </thead>\n",
       "  <tbody>\n",
       "    <tr>\n",
       "      <th>0</th>\n",
       "      <td>0</td>\n",
       "      <td>9</td>\n",
       "      <td>Bromwell High is a cartoon comedy. It ran at t...</td>\n",
       "      <td>positive</td>\n",
       "    </tr>\n",
       "    <tr>\n",
       "      <th>1</th>\n",
       "      <td>1</td>\n",
       "      <td>7</td>\n",
       "      <td>If you like adult comedy cartoons, like South ...</td>\n",
       "      <td>positive</td>\n",
       "    </tr>\n",
       "    <tr>\n",
       "      <th>2</th>\n",
       "      <td>2</td>\n",
       "      <td>9</td>\n",
       "      <td>Bromwell High is nothing short of brilliant. E...</td>\n",
       "      <td>positive</td>\n",
       "    </tr>\n",
       "    <tr>\n",
       "      <th>3</th>\n",
       "      <td>3</td>\n",
       "      <td>10</td>\n",
       "      <td>\"All the world's a stage and its people actors...</td>\n",
       "      <td>positive</td>\n",
       "    </tr>\n",
       "    <tr>\n",
       "      <th>4</th>\n",
       "      <td>4</td>\n",
       "      <td>8</td>\n",
       "      <td>FUTZ is the only show preserved from the exper...</td>\n",
       "      <td>positive</td>\n",
       "    </tr>\n",
       "    <tr>\n",
       "      <th>...</th>\n",
       "      <td>...</td>\n",
       "      <td>...</td>\n",
       "      <td>...</td>\n",
       "      <td>...</td>\n",
       "    </tr>\n",
       "    <tr>\n",
       "      <th>9995</th>\n",
       "      <td>4995</td>\n",
       "      <td>3</td>\n",
       "      <td>I found it a real task to sit through this fil...</td>\n",
       "      <td>negative</td>\n",
       "    </tr>\n",
       "    <tr>\n",
       "      <th>9996</th>\n",
       "      <td>4996</td>\n",
       "      <td>3</td>\n",
       "      <td>I really enjoyed the first half hour of this m...</td>\n",
       "      <td>negative</td>\n",
       "    </tr>\n",
       "    <tr>\n",
       "      <th>9997</th>\n",
       "      <td>4997</td>\n",
       "      <td>2</td>\n",
       "      <td>...but it's certainly not without merit. Alrea...</td>\n",
       "      <td>negative</td>\n",
       "    </tr>\n",
       "    <tr>\n",
       "      <th>9998</th>\n",
       "      <td>4998</td>\n",
       "      <td>3</td>\n",
       "      <td>this one of the best celebrity's reality shows...</td>\n",
       "      <td>negative</td>\n",
       "    </tr>\n",
       "    <tr>\n",
       "      <th>9999</th>\n",
       "      <td>4999</td>\n",
       "      <td>1</td>\n",
       "      <td>i'm ask... what a f*** are whit the real-TV ne...</td>\n",
       "      <td>negative</td>\n",
       "    </tr>\n",
       "  </tbody>\n",
       "</table>\n",
       "<p>10000 rows × 4 columns</p>\n",
       "</div>"
      ],
      "text/plain": [
       "        id  rating                                             review  \\\n",
       "0        0       9  Bromwell High is a cartoon comedy. It ran at t...   \n",
       "1        1       7  If you like adult comedy cartoons, like South ...   \n",
       "2        2       9  Bromwell High is nothing short of brilliant. E...   \n",
       "3        3      10  \"All the world's a stage and its people actors...   \n",
       "4        4       8  FUTZ is the only show preserved from the exper...   \n",
       "...    ...     ...                                                ...   \n",
       "9995  4995       3  I found it a real task to sit through this fil...   \n",
       "9996  4996       3  I really enjoyed the first half hour of this m...   \n",
       "9997  4997       2  ...but it's certainly not without merit. Alrea...   \n",
       "9998  4998       3  this one of the best celebrity's reality shows...   \n",
       "9999  4999       1  i'm ask... what a f*** are whit the real-TV ne...   \n",
       "\n",
       "      category  \n",
       "0     positive  \n",
       "1     positive  \n",
       "2     positive  \n",
       "3     positive  \n",
       "4     positive  \n",
       "...        ...  \n",
       "9995  negative  \n",
       "9996  negative  \n",
       "9997  negative  \n",
       "9998  negative  \n",
       "9999  negative  \n",
       "\n",
       "[10000 rows x 4 columns]"
      ]
     },
     "execution_count": 66,
     "metadata": {},
     "output_type": "execute_result"
    }
   ],
   "source": [
    "df = pd.concat([pos_df, neg_df], ignore_index=True)\n",
    "df"
   ]
  },
  {
   "cell_type": "markdown",
   "id": "ee2b9470",
   "metadata": {},
   "source": [
    "# Cleaning Steps:"
   ]
  },
  {
   "cell_type": "markdown",
   "id": "558a844d",
   "metadata": {},
   "source": [
    "### Convert text to lowercase:"
   ]
  },
  {
   "cell_type": "code",
   "execution_count": 67,
   "id": "dee78982",
   "metadata": {},
   "outputs": [],
   "source": [
    "df['review'] = df['review'].str.lower()"
   ]
  },
  {
   "cell_type": "code",
   "execution_count": 68,
   "id": "21339497",
   "metadata": {},
   "outputs": [
    {
     "data": {
      "text/plain": [
       "array(['bromwell high is a cartoon comedy. it ran at the same time as some other programs about school life, such as \"teachers\". my 35 years in the teaching profession lead me to believe that bromwell high\\'s satire is much closer to reality than is \"teachers\". the scramble to survive financially, the insightful students who can see right through their pathetic teachers\\' pomp, the pettiness of the whole situation, all remind me of the schools i knew and their students. when i saw the episode in which a student repeatedly tried to burn down the school, i immediately recalled ......... at .......... high. a classic line: inspector: i\\'m here to sack one of your teachers. student: welcome to bromwell high. i expect that many adults of my age think that bromwell high is far fetched. what a pity that it isn\\'t!',\n",
       "       \"if you like adult comedy cartoons, like south park, then this is nearly a similar format about the small adventures of three teenage girls at bromwell high. keisha, natella and latrina have given exploding sweets and behaved like bitches, i think keisha is a good leader. there are also small stories going on with the teachers of the school. there's the idiotic principal, mr. bip, the nervous maths teacher and many others. the cast is also fantastic, lenny henry's gina yashere, eastenders chrissie watts, tracy-ann oberman, smack the pony's doon mackichan, dead ringers' mark perry and blunder's nina conti. i didn't know this came from canada, but it is very good. very good!\",\n",
       "       'bromwell high is nothing short of brilliant. expertly scripted and perfectly delivered, this searing parody of a students and teachers at a south london public school leaves you literally rolling with laughter. it\\'s vulgar, provocative, witty and sharp. the characters are a superbly caricatured cross section of british society (or to be more accurate, of any society). following the escapades of keisha, latrina and natella, our three \"protagonists\" for want of a better term, the show doesn\\'t shy away from parodying every imaginable subject. political correctness flies out the window in every episode. if you enjoy shows that aren\\'t afraid to poke fun of every taboo subject imaginable, then bromwell high will not disappoint!',\n",
       "       ...,\n",
       "       '...but it\\'s certainly not without merit. already writer-director preston sturges is experimenting with unusual cinematic effects in telling his stories, creating broadly drawn yet distinctive characters and situations, and writing clever and sometimes unexpectedly wise and compassionate dialogue. (no wonder the coen brothers\\' next movie is going to be an homage to sturges.)<br /><br />the major problem is that the plot\\'s not all the way there yet; it lacks surprise, the unexpected plot twists and sudden changes of fortune that keep viewers guessing. the coffee slogan is a lousy thing to hang the plot upon, and the ending is thoroughly predictable. frank capra does this sort of thing much better.<br /><br />if you\\'re new to preston sturges, check out \"the lady eve\" or \"sullivan\\'s travels\" or \"the miracle of morgan\\'s creek\" first. if you\\'ve seen these already, then go ahead and watch this one.',\n",
       "       \"this one of the best celebrity's reality shows a ever saw. we can see the concerts we can see the life of britney, i love the five episodes. i was always being surprised by britney and the subjects of the show i think that some people don't watch the show at all we can how a great person she his. she his really funny really gentle and she loves her fans and we can see how she loves her work. i just don't give a 10 because of k-fed he his a real jerk he doesn't seem to like britney at all. i they make a second season of this great show because it shows at some people how britney really is. go britney your the best and you will never leave our hearts.\",\n",
       "       \"i'm ask... what a f*** are whit the real-tv never i see some b******* in my life is: a******, dirty, f****** bad and other a******* things but anything more is just a piece of american s*** all time britney saying ''oh s***, i wanna see his cock, i wanna f***, and stuck his d***'' and he thinking ''oh like i gone to still her money'' it's just another show of s*** any one more the only good are what britney sell in interior clothes but noting special noting it's just like i say another s*** show in this s*** sill out the money pure sex all f******* time, i just see for i sleep on the before show for this i wanna my f****** money\"],\n",
       "      shape=(9984,), dtype=object)"
      ]
     },
     "execution_count": 68,
     "metadata": {},
     "output_type": "execute_result"
    }
   ],
   "source": [
    "df['review'].unique()"
   ]
  },
  {
   "cell_type": "markdown",
   "id": "859caf57",
   "metadata": {},
   "source": [
    "### URL's and email checking:"
   ]
  },
  {
   "cell_type": "markdown",
   "id": "0290db87",
   "metadata": {},
   "source": [
    "##### Email checking:"
   ]
  },
  {
   "cell_type": "code",
   "execution_count": 78,
   "id": "3905d29c",
   "metadata": {},
   "outputs": [
    {
     "name": "stdout",
     "output_type": "stream",
     "text": [
      "Number of emails: 0\n"
     ]
    }
   ],
   "source": [
    "email_mask = df['review'].str.contains(r'[A-Za-z0-9._%+-]+@[A-Za-z0-9.-]+\\.[A-Za-z]{2,}', regex=True)\n",
    "emails_found = df[email_mask]\n",
    "\n",
    "print(\"Number of emails:\", email_mask.sum())"
   ]
  },
  {
   "cell_type": "markdown",
   "id": "cd934b5d",
   "metadata": {},
   "source": [
    "##### URL's checking:"
   ]
  },
  {
   "cell_type": "code",
   "execution_count": 79,
   "id": "93160c6e",
   "metadata": {},
   "outputs": [
    {
     "name": "stdout",
     "output_type": "stream",
     "text": [
      "Number of links: 0\n"
     ]
    }
   ],
   "source": [
    "url_mask = df['review'].str.contains(r'http[s]?://\\S+|www\\.\\S+', regex=True)\n",
    "urls_found = df[url_mask]\n",
    "\n",
    "print(\"Number of links:\", url_mask.sum())"
   ]
  },
  {
   "cell_type": "markdown",
   "id": "37ad613d",
   "metadata": {},
   "source": [
    "### Remove HTML tags, symbols, punctuation, numbers and emojis:"
   ]
  },
  {
   "cell_type": "code",
   "execution_count": 71,
   "id": "c8e8ae23",
   "metadata": {},
   "outputs": [],
   "source": [
    "df['review'] = df['review'].str.replace(r'<[^<>]*>', '', regex=True) # Remove HTML tags\n",
    "df['review'] = df['review'].str.replace(r'[^A-Za-z\\s]', '', regex=True) # Remove all possible symbols"
   ]
  },
  {
   "cell_type": "code",
   "execution_count": 72,
   "id": "f8a6ad48",
   "metadata": {},
   "outputs": [
    {
     "data": {
      "text/plain": [
       "array(['bromwell high is a cartoon comedy it ran at the same time as some other programs about school life such as teachers my  years in the teaching profession lead me to believe that bromwell highs satire is much closer to reality than is teachers the scramble to survive financially the insightful students who can see right through their pathetic teachers pomp the pettiness of the whole situation all remind me of the schools i knew and their students when i saw the episode in which a student repeatedly tried to burn down the school i immediately recalled  at  high a classic line inspector im here to sack one of your teachers student welcome to bromwell high i expect that many adults of my age think that bromwell high is far fetched what a pity that it isnt',\n",
       "       'if you like adult comedy cartoons like south park then this is nearly a similar format about the small adventures of three teenage girls at bromwell high keisha natella and latrina have given exploding sweets and behaved like bitches i think keisha is a good leader there are also small stories going on with the teachers of the school theres the idiotic principal mr bip the nervous maths teacher and many others the cast is also fantastic lenny henrys gina yashere eastenders chrissie watts tracyann oberman smack the ponys doon mackichan dead ringers mark perry and blunders nina conti i didnt know this came from canada but it is very good very good',\n",
       "       'bromwell high is nothing short of brilliant expertly scripted and perfectly delivered this searing parody of a students and teachers at a south london public school leaves you literally rolling with laughter its vulgar provocative witty and sharp the characters are a superbly caricatured cross section of british society or to be more accurate of any society following the escapades of keisha latrina and natella our three protagonists for want of a better term the show doesnt shy away from parodying every imaginable subject political correctness flies out the window in every episode if you enjoy shows that arent afraid to poke fun of every taboo subject imaginable then bromwell high will not disappoint',\n",
       "       ...,\n",
       "       'but its certainly not without merit already writerdirector preston sturges is experimenting with unusual cinematic effects in telling his stories creating broadly drawn yet distinctive characters and situations and writing clever and sometimes unexpectedly wise and compassionate dialogue no wonder the coen brothers next movie is going to be an homage to sturgesthe major problem is that the plots not all the way there yet it lacks surprise the unexpected plot twists and sudden changes of fortune that keep viewers guessing the coffee slogan is a lousy thing to hang the plot upon and the ending is thoroughly predictable frank capra does this sort of thing much betterif youre new to preston sturges check out the lady eve or sullivans travels or the miracle of morgans creek first if youve seen these already then go ahead and watch this one',\n",
       "       'this one of the best celebritys reality shows a ever saw we can see the concerts we can see the life of britney i love the five episodes i was always being surprised by britney and the subjects of the show i think that some people dont watch the show at all we can how a great person she his she his really funny really gentle and she loves her fans and we can see how she loves her work i just dont give a  because of kfed he his a real jerk he doesnt seem to like britney at all i they make a second season of this great show because it shows at some people how britney really is go britney your the best and you will never leave our hearts',\n",
       "       'im ask what a f are whit the realtv never i see some b in my life is a dirty f bad and other a things but anything more is just a piece of american s all time britney saying oh s i wanna see his cock i wanna f and stuck his d and he thinking oh like i gone to still her money its just another show of s any one more the only good are what britney sell in interior clothes but noting special noting its just like i say another s show in this s sill out the money pure sex all f time i just see for i sleep on the before show for this i wanna my f money'],\n",
       "      shape=(9984,), dtype=object)"
      ]
     },
     "execution_count": 72,
     "metadata": {},
     "output_type": "execute_result"
    }
   ],
   "source": [
    "df['review'].unique()"
   ]
  },
  {
   "cell_type": "markdown",
   "id": "5cb71bd8",
   "metadata": {},
   "source": [
    "### Remove stopwords:"
   ]
  },
  {
   "cell_type": "code",
   "execution_count": 73,
   "id": "855529b4",
   "metadata": {},
   "outputs": [
    {
     "name": "stderr",
     "output_type": "stream",
     "text": [
      "[nltk_data] Downloading package stopwords to\n",
      "[nltk_data]     C:\\Users\\osamasaid\\AppData\\Roaming\\nltk_data...\n",
      "[nltk_data]   Package stopwords is already up-to-date!\n"
     ]
    }
   ],
   "source": [
    "nltk.download('stopwords')\n",
    "stop_words = set(stopwords.words('english'))\n",
    "\n",
    "# Split → remove stopwords → join back\n",
    "\n",
    "df['review'] = df['review'].apply(\n",
    "    lambda x: \" \".join([word for word in x.split() if word not in stop_words])\n",
    ")"
   ]
  },
  {
   "cell_type": "markdown",
   "id": "9acb993a",
   "metadata": {},
   "source": [
    "### Perform lemmatization and keep the words len are > 2:"
   ]
  },
  {
   "cell_type": "code",
   "execution_count": 74,
   "id": "cbd8f231",
   "metadata": {},
   "outputs": [],
   "source": [
    "import spacy\n",
    "nlp = spacy.load(\"en_core_web_sm\")\n",
    "\n",
    "def lemmatize_spacy(text):\n",
    "    if not isinstance(text, str): return \"\"\n",
    "    doc = nlp(text.lower())\n",
    "    return \" \".join([t.lemma_ for t in doc if not t.is_punct and not t.is_space])\n",
    "\n",
    "df['review_lemmatized_len > 2'] = df['review'].fillna(\"\").apply(lemmatize_spacy)\n"
   ]
  },
  {
   "cell_type": "code",
   "execution_count": 76,
   "id": "6f9b6cfb",
   "metadata": {},
   "outputs": [],
   "source": [
    "df['review_lemmatized_len > 2'] = df['review_lemmatized_len > 2'].apply(\n",
    "    lambda x: \" \".join([word for word in x.split() if len(word) > 2])\n",
    ")"
   ]
  },
  {
   "cell_type": "code",
   "execution_count": 77,
   "id": "f996359b",
   "metadata": {},
   "outputs": [
    {
     "data": {
      "text/html": [
       "<div>\n",
       "<style scoped>\n",
       "    .dataframe tbody tr th:only-of-type {\n",
       "        vertical-align: middle;\n",
       "    }\n",
       "\n",
       "    .dataframe tbody tr th {\n",
       "        vertical-align: top;\n",
       "    }\n",
       "\n",
       "    .dataframe thead th {\n",
       "        text-align: right;\n",
       "    }\n",
       "</style>\n",
       "<table border=\"1\" class=\"dataframe\">\n",
       "  <thead>\n",
       "    <tr style=\"text-align: right;\">\n",
       "      <th></th>\n",
       "      <th>id</th>\n",
       "      <th>rating</th>\n",
       "      <th>review</th>\n",
       "      <th>category</th>\n",
       "      <th>review_lemmatized_len &gt; 2</th>\n",
       "    </tr>\n",
       "  </thead>\n",
       "  <tbody>\n",
       "    <tr>\n",
       "      <th>0</th>\n",
       "      <td>0</td>\n",
       "      <td>9</td>\n",
       "      <td>bromwell high cartoon comedy ran time programs...</td>\n",
       "      <td>positive</td>\n",
       "      <td>bromwell high cartoon comedy run time program ...</td>\n",
       "    </tr>\n",
       "    <tr>\n",
       "      <th>1</th>\n",
       "      <td>1</td>\n",
       "      <td>7</td>\n",
       "      <td>like adult comedy cartoons like south park nea...</td>\n",
       "      <td>positive</td>\n",
       "      <td>like adult comedy cartoon like south park near...</td>\n",
       "    </tr>\n",
       "    <tr>\n",
       "      <th>2</th>\n",
       "      <td>2</td>\n",
       "      <td>9</td>\n",
       "      <td>bromwell high nothing short brilliant expertly...</td>\n",
       "      <td>positive</td>\n",
       "      <td>bromwell high nothing short brilliant expertly...</td>\n",
       "    </tr>\n",
       "    <tr>\n",
       "      <th>3</th>\n",
       "      <td>3</td>\n",
       "      <td>10</td>\n",
       "      <td>worlds stage people actors itor something like...</td>\n",
       "      <td>positive</td>\n",
       "      <td>world stage people actor itor something like h...</td>\n",
       "    </tr>\n",
       "    <tr>\n",
       "      <th>4</th>\n",
       "      <td>4</td>\n",
       "      <td>8</td>\n",
       "      <td>futz show preserved experimental theatre movem...</td>\n",
       "      <td>positive</td>\n",
       "      <td>futz show preserve experimental theatre moveme...</td>\n",
       "    </tr>\n",
       "    <tr>\n",
       "      <th>...</th>\n",
       "      <td>...</td>\n",
       "      <td>...</td>\n",
       "      <td>...</td>\n",
       "      <td>...</td>\n",
       "      <td>...</td>\n",
       "    </tr>\n",
       "    <tr>\n",
       "      <th>9995</th>\n",
       "      <td>4995</td>\n",
       "      <td>3</td>\n",
       "      <td>found real task sit film sound track best acce...</td>\n",
       "      <td>negative</td>\n",
       "      <td>find real task sit film sound track good accen...</td>\n",
       "    </tr>\n",
       "    <tr>\n",
       "      <th>9996</th>\n",
       "      <td>4996</td>\n",
       "      <td>3</td>\n",
       "      <td>really enjoyed first half hour movie wow turn ...</td>\n",
       "      <td>negative</td>\n",
       "      <td>really enjoy first half hour movie wow turn co...</td>\n",
       "    </tr>\n",
       "    <tr>\n",
       "      <th>9997</th>\n",
       "      <td>4997</td>\n",
       "      <td>2</td>\n",
       "      <td>certainly without merit already writerdirector...</td>\n",
       "      <td>negative</td>\n",
       "      <td>certainly without merit already writerdirector...</td>\n",
       "    </tr>\n",
       "    <tr>\n",
       "      <th>9998</th>\n",
       "      <td>4998</td>\n",
       "      <td>3</td>\n",
       "      <td>one best celebritys reality shows ever saw see...</td>\n",
       "      <td>negative</td>\n",
       "      <td>one good celebritys reality show ever see see ...</td>\n",
       "    </tr>\n",
       "    <tr>\n",
       "      <th>9999</th>\n",
       "      <td>4999</td>\n",
       "      <td>1</td>\n",
       "      <td>im ask f whit realtv never see b life dirty f ...</td>\n",
       "      <td>negative</td>\n",
       "      <td>ask whit realtv never see life dirty bad thing...</td>\n",
       "    </tr>\n",
       "  </tbody>\n",
       "</table>\n",
       "<p>10000 rows × 5 columns</p>\n",
       "</div>"
      ],
      "text/plain": [
       "        id  rating                                             review  \\\n",
       "0        0       9  bromwell high cartoon comedy ran time programs...   \n",
       "1        1       7  like adult comedy cartoons like south park nea...   \n",
       "2        2       9  bromwell high nothing short brilliant expertly...   \n",
       "3        3      10  worlds stage people actors itor something like...   \n",
       "4        4       8  futz show preserved experimental theatre movem...   \n",
       "...    ...     ...                                                ...   \n",
       "9995  4995       3  found real task sit film sound track best acce...   \n",
       "9996  4996       3  really enjoyed first half hour movie wow turn ...   \n",
       "9997  4997       2  certainly without merit already writerdirector...   \n",
       "9998  4998       3  one best celebritys reality shows ever saw see...   \n",
       "9999  4999       1  im ask f whit realtv never see b life dirty f ...   \n",
       "\n",
       "      category                          review_lemmatized_len > 2  \n",
       "0     positive  bromwell high cartoon comedy run time program ...  \n",
       "1     positive  like adult comedy cartoon like south park near...  \n",
       "2     positive  bromwell high nothing short brilliant expertly...  \n",
       "3     positive  world stage people actor itor something like h...  \n",
       "4     positive  futz show preserve experimental theatre moveme...  \n",
       "...        ...                                                ...  \n",
       "9995  negative  find real task sit film sound track good accen...  \n",
       "9996  negative  really enjoy first half hour movie wow turn co...  \n",
       "9997  negative  certainly without merit already writerdirector...  \n",
       "9998  negative  one good celebritys reality show ever see see ...  \n",
       "9999  negative  ask whit realtv never see life dirty bad thing...  \n",
       "\n",
       "[10000 rows x 5 columns]"
      ]
     },
     "execution_count": 77,
     "metadata": {},
     "output_type": "execute_result"
    }
   ],
   "source": [
    "df"
   ]
  }
 ],
 "metadata": {
  "kernelspec": {
   "display_name": "Python 3",
   "language": "python",
   "name": "python3"
  },
  "language_info": {
   "codemirror_mode": {
    "name": "ipython",
    "version": 3
   },
   "file_extension": ".py",
   "mimetype": "text/x-python",
   "name": "python",
   "nbconvert_exporter": "python",
   "pygments_lexer": "ipython3",
   "version": "3.13.3"
  }
 },
 "nbformat": 4,
 "nbformat_minor": 5
}
