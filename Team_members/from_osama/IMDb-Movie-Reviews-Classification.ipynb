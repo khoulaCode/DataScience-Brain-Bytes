{
 "cells": [
  {
   "cell_type": "code",
   "execution_count": 111,
   "id": "b9141d83",
   "metadata": {},
   "outputs": [],
   "source": [
    "import pandas as pd\n",
    "from sklearn.model_selection import train_test_split\n",
    "from sklearn.feature_extraction.text import TfidfVectorizer\n",
    "from sklearn.linear_model import LogisticRegression\n",
    "from sklearn.tree import DecisionTreeClassifier\n",
    "from sklearn.ensemble import RandomForestClassifier\n",
    "from sklearn.preprocessing import LabelEncoder\n",
    "from sklearn.metrics import classification_report, accuracy_score, precision_recall_fscore_support"
   ]
  },
  {
   "cell_type": "code",
   "execution_count": 100,
   "id": "2fc9ac38",
   "metadata": {},
   "outputs": [],
   "source": [
    "df = pd.read_csv(\"Data/cleaned_IMDB_data.csv\")"
   ]
  },
  {
   "cell_type": "code",
   "execution_count": 101,
   "id": "bc507b95",
   "metadata": {},
   "outputs": [
    {
     "data": {
      "text/html": [
       "<div>\n",
       "<style scoped>\n",
       "    .dataframe tbody tr th:only-of-type {\n",
       "        vertical-align: middle;\n",
       "    }\n",
       "\n",
       "    .dataframe tbody tr th {\n",
       "        vertical-align: top;\n",
       "    }\n",
       "\n",
       "    .dataframe thead th {\n",
       "        text-align: right;\n",
       "    }\n",
       "</style>\n",
       "<table border=\"1\" class=\"dataframe\">\n",
       "  <thead>\n",
       "    <tr style=\"text-align: right;\">\n",
       "      <th></th>\n",
       "      <th>id</th>\n",
       "      <th>rating</th>\n",
       "      <th>category</th>\n",
       "      <th>review</th>\n",
       "    </tr>\n",
       "  </thead>\n",
       "  <tbody>\n",
       "    <tr>\n",
       "      <th>0</th>\n",
       "      <td>0</td>\n",
       "      <td>9</td>\n",
       "      <td>positive</td>\n",
       "      <td>bromwell high cartoon comedy run time program ...</td>\n",
       "    </tr>\n",
       "    <tr>\n",
       "      <th>1</th>\n",
       "      <td>1</td>\n",
       "      <td>7</td>\n",
       "      <td>positive</td>\n",
       "      <td>like adult comedy cartoon like south park near...</td>\n",
       "    </tr>\n",
       "    <tr>\n",
       "      <th>2</th>\n",
       "      <td>2</td>\n",
       "      <td>9</td>\n",
       "      <td>positive</td>\n",
       "      <td>bromwell high nothing short brilliant expertly...</td>\n",
       "    </tr>\n",
       "    <tr>\n",
       "      <th>3</th>\n",
       "      <td>3</td>\n",
       "      <td>10</td>\n",
       "      <td>positive</td>\n",
       "      <td>world stage people actor itor something like h...</td>\n",
       "    </tr>\n",
       "    <tr>\n",
       "      <th>4</th>\n",
       "      <td>4</td>\n",
       "      <td>8</td>\n",
       "      <td>positive</td>\n",
       "      <td>futz show preserve experimental theatre moveme...</td>\n",
       "    </tr>\n",
       "    <tr>\n",
       "      <th>...</th>\n",
       "      <td>...</td>\n",
       "      <td>...</td>\n",
       "      <td>...</td>\n",
       "      <td>...</td>\n",
       "    </tr>\n",
       "    <tr>\n",
       "      <th>9995</th>\n",
       "      <td>4995</td>\n",
       "      <td>3</td>\n",
       "      <td>negative</td>\n",
       "      <td>find real task sit film sound track good accen...</td>\n",
       "    </tr>\n",
       "    <tr>\n",
       "      <th>9996</th>\n",
       "      <td>4996</td>\n",
       "      <td>3</td>\n",
       "      <td>negative</td>\n",
       "      <td>really enjoy first half hour movie wow turn co...</td>\n",
       "    </tr>\n",
       "    <tr>\n",
       "      <th>9997</th>\n",
       "      <td>4997</td>\n",
       "      <td>2</td>\n",
       "      <td>negative</td>\n",
       "      <td>certainly without merit already writerdirector...</td>\n",
       "    </tr>\n",
       "    <tr>\n",
       "      <th>9998</th>\n",
       "      <td>4998</td>\n",
       "      <td>3</td>\n",
       "      <td>negative</td>\n",
       "      <td>one good celebritys reality show ever see see ...</td>\n",
       "    </tr>\n",
       "    <tr>\n",
       "      <th>9999</th>\n",
       "      <td>4999</td>\n",
       "      <td>1</td>\n",
       "      <td>negative</td>\n",
       "      <td>ask whit realtv never see life dirty bad thing...</td>\n",
       "    </tr>\n",
       "  </tbody>\n",
       "</table>\n",
       "<p>10000 rows × 4 columns</p>\n",
       "</div>"
      ],
      "text/plain": [
       "        id  rating  category  \\\n",
       "0        0       9  positive   \n",
       "1        1       7  positive   \n",
       "2        2       9  positive   \n",
       "3        3      10  positive   \n",
       "4        4       8  positive   \n",
       "...    ...     ...       ...   \n",
       "9995  4995       3  negative   \n",
       "9996  4996       3  negative   \n",
       "9997  4997       2  negative   \n",
       "9998  4998       3  negative   \n",
       "9999  4999       1  negative   \n",
       "\n",
       "                                                 review  \n",
       "0     bromwell high cartoon comedy run time program ...  \n",
       "1     like adult comedy cartoon like south park near...  \n",
       "2     bromwell high nothing short brilliant expertly...  \n",
       "3     world stage people actor itor something like h...  \n",
       "4     futz show preserve experimental theatre moveme...  \n",
       "...                                                 ...  \n",
       "9995  find real task sit film sound track good accen...  \n",
       "9996  really enjoy first half hour movie wow turn co...  \n",
       "9997  certainly without merit already writerdirector...  \n",
       "9998  one good celebritys reality show ever see see ...  \n",
       "9999  ask whit realtv never see life dirty bad thing...  \n",
       "\n",
       "[10000 rows x 4 columns]"
      ]
     },
     "execution_count": 101,
     "metadata": {},
     "output_type": "execute_result"
    }
   ],
   "source": [
    "df"
   ]
  },
  {
   "cell_type": "code",
   "execution_count": 102,
   "id": "25ba9f2a",
   "metadata": {},
   "outputs": [],
   "source": [
    "df.duplicated().sum()\n",
    "df = df.drop_duplicates()"
   ]
  },
  {
   "cell_type": "markdown",
   "id": "2546c8f5",
   "metadata": {},
   "source": [
    "## Feature Extraction"
   ]
  },
  {
   "cell_type": "markdown",
   "id": "01e47974",
   "metadata": {},
   "source": [
    "Use TF-IDF vectorization on the cleaned reviews."
   ]
  },
  {
   "cell_type": "code",
   "execution_count": 103,
   "id": "98bbbddf",
   "metadata": {},
   "outputs": [],
   "source": [
    "review_col = df[\"review\"]\n",
    "label_col = df[\"category\"]"
   ]
  },
  {
   "cell_type": "code",
   "execution_count": 104,
   "id": "2fd23740",
   "metadata": {},
   "outputs": [
    {
     "name": "stdout",
     "output_type": "stream",
     "text": [
      "(10000, 141049)\n"
     ]
    }
   ],
   "source": [
    "vectorizer = TfidfVectorizer(\n",
    "    sublinear_tf=True,\n",
    "    ngram_range=(1, 2),\n",
    "    max_df=0.90,\n",
    "    min_df=2,\n",
    "    lowercase=False\n",
    ")\n",
    "\n",
    "X_tfidf = vectorizer.fit_transform(review_col)\n",
    "\n",
    "print(X_tfidf.shape)  # (num_docs, num_features)"
   ]
  },
  {
   "cell_type": "markdown",
   "id": "b50aa282",
   "metadata": {},
   "source": [
    "## Encoding"
   ]
  },
  {
   "cell_type": "code",
   "execution_count": 105,
   "id": "cc49fdff",
   "metadata": {},
   "outputs": [],
   "source": [
    "df = df.drop(columns=[\"id\"])"
   ]
  },
  {
   "cell_type": "code",
   "execution_count": 106,
   "id": "f664f10a",
   "metadata": {},
   "outputs": [],
   "source": [
    "le = LabelEncoder()\n",
    "y = le.fit_transform(df[\"category\"])"
   ]
  },
  {
   "cell_type": "markdown",
   "id": "66aea4ef",
   "metadata": {},
   "source": [
    "## Modeling & Model Evaluation"
   ]
  },
  {
   "cell_type": "code",
   "execution_count": 107,
   "id": "95768176",
   "metadata": {},
   "outputs": [
    {
     "name": "stdout",
     "output_type": "stream",
     "text": [
      "Logistic Regression\n",
      "              precision    recall  f1-score   support\n",
      "\n",
      "    negative       0.91      0.88      0.89      1000\n",
      "    positive       0.89      0.91      0.90      1000\n",
      "\n",
      "    accuracy                           0.90      2000\n",
      "   macro avg       0.90      0.90      0.90      2000\n",
      "weighted avg       0.90      0.90      0.90      2000\n",
      "\n"
     ]
    }
   ],
   "source": [
    "X = X_tfidf\n",
    "y = label_col\n",
    "\n",
    "X_train, X_test, y_train, y_test = train_test_split(\n",
    "    X, y, test_size=0.2, random_state=42, stratify=y\n",
    ")\n",
    "\n",
    "# Logistic Regression:\n",
    "logreg = LogisticRegression(max_iter=500)\n",
    "logreg.fit(X_train, y_train)\n",
    "y_pred_lr = logreg.predict(X_test)\n",
    "print(\"Logistic Regression\")\n",
    "print(classification_report(y_test, y_pred_lr))"
   ]
  },
  {
   "cell_type": "code",
   "execution_count": 108,
   "id": "e3b5742b",
   "metadata": {},
   "outputs": [
    {
     "name": "stdout",
     "output_type": "stream",
     "text": [
      "Decision Tree\n",
      "              precision    recall  f1-score   support\n",
      "\n",
      "    negative       0.71      0.72      0.72      1000\n",
      "    positive       0.72      0.71      0.71      1000\n",
      "\n",
      "    accuracy                           0.71      2000\n",
      "   macro avg       0.71      0.71      0.71      2000\n",
      "weighted avg       0.71      0.71      0.71      2000\n",
      "\n"
     ]
    }
   ],
   "source": [
    "# Decision Tree:\n",
    "dt = DecisionTreeClassifier(random_state=42)\n",
    "dt.fit(X_train, y_train)\n",
    "y_pred_dt = dt.predict(X_test)\n",
    "print(\"Decision Tree\")\n",
    "print(classification_report(y_test, y_pred_dt))"
   ]
  },
  {
   "cell_type": "code",
   "execution_count": 109,
   "id": "e1605842",
   "metadata": {},
   "outputs": [
    {
     "name": "stdout",
     "output_type": "stream",
     "text": [
      "Random Forest\n",
      "              precision    recall  f1-score   support\n",
      "\n",
      "    negative       0.87      0.86      0.87      1000\n",
      "    positive       0.86      0.87      0.87      1000\n",
      "\n",
      "    accuracy                           0.87      2000\n",
      "   macro avg       0.87      0.87      0.87      2000\n",
      "weighted avg       0.87      0.87      0.87      2000\n",
      "\n"
     ]
    }
   ],
   "source": [
    "# Random Forest:\n",
    "rf = RandomForestClassifier(n_estimators=300, random_state=42, n_jobs=-1)\n",
    "rf.fit(X_train, y_train)\n",
    "y_pred_rf = rf.predict(X_test)\n",
    "print(\"Random Forest\")\n",
    "print(classification_report(y_test, y_pred_rf))"
   ]
  },
  {
   "cell_type": "markdown",
   "id": "c5de547d",
   "metadata": {},
   "source": [
    "Comparison Table of Metrics"
   ]
  },
  {
   "cell_type": "code",
   "execution_count": 110,
   "id": "99c28b47",
   "metadata": {},
   "outputs": [
    {
     "name": "stdout",
     "output_type": "stream",
     "text": [
      "                 Model  Accuracy  Precision_macro  Recall_macro  F1_macro\n",
      "0  Logistic Regression    0.8965         0.896834        0.8965  0.896478\n",
      "1        Random Forest    0.8675         0.867544        0.8675  0.867496\n",
      "2        Decision Tree    0.7135         0.713548        0.7135  0.713484\n"
     ]
    }
   ],
   "source": [
    "acc_lr  = accuracy_score(y_test, y_pred_lr)\n",
    "prec_lr, rec_lr, f1_lr, _ = precision_recall_fscore_support(y_test, y_pred_lr, average=\"macro\", zero_division=0)\n",
    "\n",
    "acc_dt  = accuracy_score(y_test, y_pred_dt)\n",
    "prec_dt, rec_dt, f1_dt, _ = precision_recall_fscore_support(y_test, y_pred_dt, average=\"macro\", zero_division=0)\n",
    "\n",
    "acc_rf  = accuracy_score(y_test, y_pred_rf)\n",
    "prec_rf, rec_rf, f1_rf, _ = precision_recall_fscore_support(y_test, y_pred_rf, average=\"macro\", zero_division=0)\n",
    "\n",
    "\n",
    "comparison = pd.DataFrame({\n",
    "    \"Model\": [\"Logistic Regression\", \"Decision Tree\", \"Random Forest\"],\n",
    "    \"Accuracy\": [acc_lr, acc_dt, acc_rf],\n",
    "    \"Precision_macro\": [prec_lr, prec_dt, prec_rf],\n",
    "    \"Recall_macro\": [rec_lr, rec_dt, rec_rf],\n",
    "    \"F1_macro\": [f1_lr, f1_dt, f1_rf]\n",
    "}).sort_values(\"F1_macro\", ascending=False).reset_index(drop=True)\n",
    "\n",
    "print(comparison)"
   ]
  },
  {
   "cell_type": "markdown",
   "id": "ece52ea8",
   "metadata": {},
   "source": [
    "## Report    "
   ]
  },
  {
   "cell_type": "markdown",
   "id": "0198ae1b",
   "metadata": {},
   "source": [
    "1. Summarize which model performs best: <br>\n",
    "Best model: **Logistic Regression.**\n"
   ]
  },
  {
   "cell_type": "markdown",
   "id": "92864d76",
   "metadata": {},
   "source": [
    "2. Interpretability vs. Performance Trade-offs:\n",
    "\n",
    "#### **Logistic Regression:**\n",
    "\n",
    "Performance: Best results.\n",
    "\n",
    "Interpretability: Medium.\n",
    "\n",
    "#### **Random Forest:**\n",
    "\n",
    "Performance: Strong, but not quite as good as Logistic Regression.\n",
    "\n",
    "Interpretability: Harder to explain than a single decision tree because predictions come from an ensemble of 300+ trees. Still, feature importance scores can be extracted.\n",
    "\n",
    "#### **Decision Tree:**\n",
    "\n",
    "Performance: Weakest of the three.\n",
    "\n",
    "Interpretability: Easiest to interpret, since you can visualize the tree and explain predictions step by step."
   ]
  }
 ],
 "metadata": {
  "kernelspec": {
   "display_name": "Python 3",
   "language": "python",
   "name": "python3"
  },
  "language_info": {
   "codemirror_mode": {
    "name": "ipython",
    "version": 3
   },
   "file_extension": ".py",
   "mimetype": "text/x-python",
   "name": "python",
   "nbconvert_exporter": "python",
   "pygments_lexer": "ipython3",
   "version": "3.13.3"
  }
 },
 "nbformat": 4,
 "nbformat_minor": 5
}
