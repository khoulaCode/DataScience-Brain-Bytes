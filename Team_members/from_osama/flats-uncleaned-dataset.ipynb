{
 "cells": [
  {
   "cell_type": "markdown",
   "id": "3ea4a98d",
   "metadata": {},
   "source": [
    "# Flats Uncleaned Dataset"
   ]
  },
  {
   "cell_type": "code",
   "execution_count": 26,
   "id": "0a0338c6",
   "metadata": {},
   "outputs": [],
   "source": [
    "import pandas as pd\n",
    "import numpy as np\n",
    "import matplotlib.pyplot as plt\n",
    "import re\n",
    "from sklearn.preprocessing import OneHotEncoder,LabelEncoder\n",
    "from sklearn.linear_model import LinearRegression\n",
    "from sklearn.model_selection import train_test_split\n",
    "from sklearn.metrics import mean_absolute_error, mean_squared_error, r2_score\n",
    "df = pd.read_csv('Data/surat_uncleaned.csv')"
   ]
  },
  {
   "cell_type": "code",
   "execution_count": 27,
   "id": "1b576600",
   "metadata": {},
   "outputs": [
    {
     "data": {
      "text/html": [
       "<div>\n",
       "<style scoped>\n",
       "    .dataframe tbody tr th:only-of-type {\n",
       "        vertical-align: middle;\n",
       "    }\n",
       "\n",
       "    .dataframe tbody tr th {\n",
       "        vertical-align: top;\n",
       "    }\n",
       "\n",
       "    .dataframe thead th {\n",
       "        text-align: right;\n",
       "    }\n",
       "</style>\n",
       "<table border=\"1\" class=\"dataframe\">\n",
       "  <thead>\n",
       "    <tr style=\"text-align: right;\">\n",
       "      <th></th>\n",
       "      <th>property_name</th>\n",
       "      <th>areaWithType</th>\n",
       "      <th>square_feet</th>\n",
       "      <th>transaction</th>\n",
       "      <th>status</th>\n",
       "      <th>floor</th>\n",
       "      <th>furnishing</th>\n",
       "      <th>facing</th>\n",
       "      <th>description</th>\n",
       "      <th>price_per_sqft</th>\n",
       "      <th>price</th>\n",
       "    </tr>\n",
       "  </thead>\n",
       "  <tbody>\n",
       "    <tr>\n",
       "      <th>0</th>\n",
       "      <td>2 BHK Apartment for Sale in Dindoli Surat</td>\n",
       "      <td>Carpet Area</td>\n",
       "      <td>644 sqft</td>\n",
       "      <td>New Property</td>\n",
       "      <td>Poss. by Oct '24</td>\n",
       "      <td>5 out of 10</td>\n",
       "      <td>Unfurnished</td>\n",
       "      <td>West</td>\n",
       "      <td>Luxury project with basement parking, Solar ro...</td>\n",
       "      <td>₹2,891 per sqft</td>\n",
       "      <td>₹33.8 Lac</td>\n",
       "    </tr>\n",
       "    <tr>\n",
       "      <th>1</th>\n",
       "      <td>2 BHK Apartment for Sale in Althan Surat</td>\n",
       "      <td>Super Area</td>\n",
       "      <td>1278 sqft</td>\n",
       "      <td>New Property</td>\n",
       "      <td>Poss. by Jan '26</td>\n",
       "      <td>6 out of 14</td>\n",
       "      <td>Unfurnished</td>\n",
       "      <td>South -West</td>\n",
       "      <td>2 And 3 BHK Luxurious Flat for Sell In New Alt...</td>\n",
       "      <td>₹3,551 per sqft</td>\n",
       "      <td>₹45.4 Lac</td>\n",
       "    </tr>\n",
       "    <tr>\n",
       "      <th>2</th>\n",
       "      <td>2 BHK Apartment for Sale in Pal Gam Surat</td>\n",
       "      <td>Super Area</td>\n",
       "      <td>1173 sqft</td>\n",
       "      <td>Resale</td>\n",
       "      <td>Ready to Move</td>\n",
       "      <td>5 out of 13</td>\n",
       "      <td>Semi-Furnished</td>\n",
       "      <td>East</td>\n",
       "      <td>This affordable 2 BHK flat is situated along a...</td>\n",
       "      <td>₹3,800 per sqft</td>\n",
       "      <td>₹44.6 Lac</td>\n",
       "    </tr>\n",
       "    <tr>\n",
       "      <th>3</th>\n",
       "      <td>2 BHK Apartment for Sale in Jahangirabad Surat</td>\n",
       "      <td>Carpet Area</td>\n",
       "      <td>700 sqft</td>\n",
       "      <td>New Property</td>\n",
       "      <td>Ready to Move</td>\n",
       "      <td>6 out of 14</td>\n",
       "      <td>Unfurnished</td>\n",
       "      <td>East</td>\n",
       "      <td>2 BHK Flat For sell IN Jahangirabad Prime Loca...</td>\n",
       "      <td>₹3,966 per sqft</td>\n",
       "      <td>₹47 Lac</td>\n",
       "    </tr>\n",
       "    <tr>\n",
       "      <th>4</th>\n",
       "      <td>2 BHK Apartment for Sale in Orchid Fantasia, P...</td>\n",
       "      <td>Super Area</td>\n",
       "      <td>1250 sqft</td>\n",
       "      <td>Orchid Fantasia</td>\n",
       "      <td>New Property</td>\n",
       "      <td>Unfurnished</td>\n",
       "      <td>2</td>\n",
       "      <td>2</td>\n",
       "      <td>Multistorey Apartment for Sale in Palanpur, Su...</td>\n",
       "      <td>₹3,600 per sqft</td>\n",
       "      <td>₹45 Lac</td>\n",
       "    </tr>\n",
       "    <tr>\n",
       "      <th>...</th>\n",
       "      <td>...</td>\n",
       "      <td>...</td>\n",
       "      <td>...</td>\n",
       "      <td>...</td>\n",
       "      <td>...</td>\n",
       "      <td>...</td>\n",
       "      <td>...</td>\n",
       "      <td>...</td>\n",
       "      <td>...</td>\n",
       "      <td>...</td>\n",
       "      <td>...</td>\n",
       "    </tr>\n",
       "    <tr>\n",
       "      <th>4520</th>\n",
       "      <td>6 BHK Apartment for Sale in Millionaires Lifes...</td>\n",
       "      <td>Carpet Area</td>\n",
       "      <td>2000 sqft</td>\n",
       "      <td>New Property</td>\n",
       "      <td>Poss. by Dec '26</td>\n",
       "      <td>5 out of 12</td>\n",
       "      <td>Unfurnished</td>\n",
       "      <td>South - East</td>\n",
       "      <td>Check out Millionaires Lifestyle in Vesu, one ...</td>\n",
       "      <td>NaN</td>\n",
       "      <td>Call for Price</td>\n",
       "    </tr>\n",
       "    <tr>\n",
       "      <th>4521</th>\n",
       "      <td>4 BHK Apartment for Sale in Savan Superia, Alt...</td>\n",
       "      <td>Super Area</td>\n",
       "      <td>3600 sqft</td>\n",
       "      <td>New Property</td>\n",
       "      <td>Poss. by Dec '25</td>\n",
       "      <td>5 out of 16</td>\n",
       "      <td>Unfurnished</td>\n",
       "      <td>South - East</td>\n",
       "      <td>Superia is a premium residential project launc...</td>\n",
       "      <td>NaN</td>\n",
       "      <td>Call for Price</td>\n",
       "    </tr>\n",
       "    <tr>\n",
       "      <th>4522</th>\n",
       "      <td>5 BHK Apartment for Sale in Roongta Green Vall...</td>\n",
       "      <td>Carpet Area</td>\n",
       "      <td>2250 sqft</td>\n",
       "      <td>New Property</td>\n",
       "      <td>Poss. by Dec '25</td>\n",
       "      <td>7 out of 13</td>\n",
       "      <td>Unfurnished</td>\n",
       "      <td>North - East</td>\n",
       "      <td>When it comes to beautiful homes, nothing beat...</td>\n",
       "      <td>NaN</td>\n",
       "      <td>Call for Price</td>\n",
       "    </tr>\n",
       "    <tr>\n",
       "      <th>4523</th>\n",
       "      <td>6 BHK Apartment for Sale in Cellestial Dreams,...</td>\n",
       "      <td>Carpet Area</td>\n",
       "      <td>3450 sqft</td>\n",
       "      <td>New Property</td>\n",
       "      <td>Ready to Move</td>\n",
       "      <td>7 out of 18</td>\n",
       "      <td>Unfurnished</td>\n",
       "      <td>North - West</td>\n",
       "      <td>DRB Ravani Cellestial Dreams in Vesu, Surat is...</td>\n",
       "      <td>NaN</td>\n",
       "      <td>Call for Price</td>\n",
       "    </tr>\n",
       "    <tr>\n",
       "      <th>4524</th>\n",
       "      <td>4 BHK Apartment for Sale in Roongta Green Vall...</td>\n",
       "      <td>Super Area</td>\n",
       "      <td>4500 sqft</td>\n",
       "      <td>New Property</td>\n",
       "      <td>Ready to Move</td>\n",
       "      <td>3 out of 12</td>\n",
       "      <td>Unfurnished</td>\n",
       "      <td>North</td>\n",
       "      <td>Roongta Green Valley is one of the popular res...</td>\n",
       "      <td>NaN</td>\n",
       "      <td>Call for Price</td>\n",
       "    </tr>\n",
       "  </tbody>\n",
       "</table>\n",
       "<p>4525 rows × 11 columns</p>\n",
       "</div>"
      ],
      "text/plain": [
       "                                          property_name areaWithType  \\\n",
       "0             2 BHK Apartment for Sale in Dindoli Surat  Carpet Area   \n",
       "1              2 BHK Apartment for Sale in Althan Surat   Super Area   \n",
       "2             2 BHK Apartment for Sale in Pal Gam Surat   Super Area   \n",
       "3        2 BHK Apartment for Sale in Jahangirabad Surat  Carpet Area   \n",
       "4     2 BHK Apartment for Sale in Orchid Fantasia, P...   Super Area   \n",
       "...                                                 ...          ...   \n",
       "4520  6 BHK Apartment for Sale in Millionaires Lifes...  Carpet Area   \n",
       "4521  4 BHK Apartment for Sale in Savan Superia, Alt...   Super Area   \n",
       "4522  5 BHK Apartment for Sale in Roongta Green Vall...  Carpet Area   \n",
       "4523  6 BHK Apartment for Sale in Cellestial Dreams,...  Carpet Area   \n",
       "4524  4 BHK Apartment for Sale in Roongta Green Vall...   Super Area   \n",
       "\n",
       "     square_feet      transaction            status        floor  \\\n",
       "0       644 sqft     New Property  Poss. by Oct '24  5 out of 10   \n",
       "1      1278 sqft     New Property  Poss. by Jan '26  6 out of 14   \n",
       "2      1173 sqft           Resale     Ready to Move  5 out of 13   \n",
       "3       700 sqft     New Property     Ready to Move  6 out of 14   \n",
       "4      1250 sqft  Orchid Fantasia      New Property  Unfurnished   \n",
       "...          ...              ...               ...          ...   \n",
       "4520   2000 sqft     New Property  Poss. by Dec '26  5 out of 12   \n",
       "4521   3600 sqft     New Property  Poss. by Dec '25  5 out of 16   \n",
       "4522   2250 sqft     New Property  Poss. by Dec '25  7 out of 13   \n",
       "4523   3450 sqft     New Property     Ready to Move  7 out of 18   \n",
       "4524   4500 sqft     New Property     Ready to Move  3 out of 12   \n",
       "\n",
       "          furnishing        facing  \\\n",
       "0        Unfurnished          West   \n",
       "1        Unfurnished   South -West   \n",
       "2     Semi-Furnished          East   \n",
       "3        Unfurnished          East   \n",
       "4                  2             2   \n",
       "...              ...           ...   \n",
       "4520     Unfurnished  South - East   \n",
       "4521     Unfurnished  South - East   \n",
       "4522     Unfurnished  North - East   \n",
       "4523     Unfurnished  North - West   \n",
       "4524     Unfurnished         North   \n",
       "\n",
       "                                            description    price_per_sqft  \\\n",
       "0     Luxury project with basement parking, Solar ro...  ₹2,891 per sqft    \n",
       "1     2 And 3 BHK Luxurious Flat for Sell In New Alt...  ₹3,551 per sqft    \n",
       "2     This affordable 2 BHK flat is situated along a...  ₹3,800 per sqft    \n",
       "3     2 BHK Flat For sell IN Jahangirabad Prime Loca...  ₹3,966 per sqft    \n",
       "4     Multistorey Apartment for Sale in Palanpur, Su...  ₹3,600 per sqft    \n",
       "...                                                 ...               ...   \n",
       "4520  Check out Millionaires Lifestyle in Vesu, one ...               NaN   \n",
       "4521  Superia is a premium residential project launc...               NaN   \n",
       "4522  When it comes to beautiful homes, nothing beat...               NaN   \n",
       "4523  DRB Ravani Cellestial Dreams in Vesu, Surat is...               NaN   \n",
       "4524  Roongta Green Valley is one of the popular res...               NaN   \n",
       "\n",
       "               price  \n",
       "0         ₹33.8 Lac   \n",
       "1         ₹45.4 Lac   \n",
       "2         ₹44.6 Lac   \n",
       "3           ₹47 Lac   \n",
       "4           ₹45 Lac   \n",
       "...              ...  \n",
       "4520  Call for Price  \n",
       "4521  Call for Price  \n",
       "4522  Call for Price  \n",
       "4523  Call for Price  \n",
       "4524  Call for Price  \n",
       "\n",
       "[4525 rows x 11 columns]"
      ]
     },
     "execution_count": 27,
     "metadata": {},
     "output_type": "execute_result"
    }
   ],
   "source": [
    "df"
   ]
  },
  {
   "cell_type": "code",
   "execution_count": 28,
   "id": "ca49357b",
   "metadata": {},
   "outputs": [
    {
     "data": {
      "text/plain": [
       "property_name     object\n",
       "areaWithType      object\n",
       "square_feet       object\n",
       "transaction       object\n",
       "status            object\n",
       "floor             object\n",
       "furnishing        object\n",
       "facing            object\n",
       "description       object\n",
       "price_per_sqft    object\n",
       "price             object\n",
       "dtype: object"
      ]
     },
     "execution_count": 28,
     "metadata": {},
     "output_type": "execute_result"
    }
   ],
   "source": [
    "df.dtypes"
   ]
  },
  {
   "cell_type": "code",
   "execution_count": 33,
   "id": "32213cbf",
   "metadata": {},
   "outputs": [
    {
     "data": {
      "text/plain": [
       "np.int64(109)"
      ]
     },
     "execution_count": 33,
     "metadata": {},
     "output_type": "execute_result"
    }
   ],
   "source": [
    "df.duplicated().sum()"
   ]
  },
  {
   "cell_type": "code",
   "execution_count": 34,
   "id": "47345159",
   "metadata": {},
   "outputs": [
    {
     "data": {
      "text/html": [
       "<div>\n",
       "<style scoped>\n",
       "    .dataframe tbody tr th:only-of-type {\n",
       "        vertical-align: middle;\n",
       "    }\n",
       "\n",
       "    .dataframe tbody tr th {\n",
       "        vertical-align: top;\n",
       "    }\n",
       "\n",
       "    .dataframe thead th {\n",
       "        text-align: right;\n",
       "    }\n",
       "</style>\n",
       "<table border=\"1\" class=\"dataframe\">\n",
       "  <thead>\n",
       "    <tr style=\"text-align: right;\">\n",
       "      <th></th>\n",
       "      <th>property_name</th>\n",
       "      <th>areaWithType</th>\n",
       "      <th>square_feet</th>\n",
       "      <th>transaction</th>\n",
       "      <th>status</th>\n",
       "      <th>floor</th>\n",
       "      <th>furnishing</th>\n",
       "      <th>facing</th>\n",
       "      <th>description</th>\n",
       "      <th>price_per_sqft</th>\n",
       "      <th>price</th>\n",
       "    </tr>\n",
       "  </thead>\n",
       "  <tbody>\n",
       "    <tr>\n",
       "      <th>0</th>\n",
       "      <td>2 BHK Apartment for Sale in Dindoli Surat</td>\n",
       "      <td>Carpet Area</td>\n",
       "      <td>644 sqft</td>\n",
       "      <td>New Property</td>\n",
       "      <td>Poss. by Oct '24</td>\n",
       "      <td>5 out of 10</td>\n",
       "      <td>Unfurnished</td>\n",
       "      <td>West</td>\n",
       "      <td>Luxury project with basement parking, Solar ro...</td>\n",
       "      <td>₹2,891 per sqft</td>\n",
       "      <td>₹33.8 Lac</td>\n",
       "    </tr>\n",
       "    <tr>\n",
       "      <th>1</th>\n",
       "      <td>2 BHK Apartment for Sale in Althan Surat</td>\n",
       "      <td>Super Area</td>\n",
       "      <td>1278 sqft</td>\n",
       "      <td>New Property</td>\n",
       "      <td>Poss. by Jan '26</td>\n",
       "      <td>6 out of 14</td>\n",
       "      <td>Unfurnished</td>\n",
       "      <td>South -West</td>\n",
       "      <td>2 And 3 BHK Luxurious Flat for Sell In New Alt...</td>\n",
       "      <td>₹3,551 per sqft</td>\n",
       "      <td>₹45.4 Lac</td>\n",
       "    </tr>\n",
       "    <tr>\n",
       "      <th>2</th>\n",
       "      <td>2 BHK Apartment for Sale in Pal Gam Surat</td>\n",
       "      <td>Super Area</td>\n",
       "      <td>1173 sqft</td>\n",
       "      <td>Resale</td>\n",
       "      <td>Ready to Move</td>\n",
       "      <td>5 out of 13</td>\n",
       "      <td>Semi-Furnished</td>\n",
       "      <td>East</td>\n",
       "      <td>This affordable 2 BHK flat is situated along a...</td>\n",
       "      <td>₹3,800 per sqft</td>\n",
       "      <td>₹44.6 Lac</td>\n",
       "    </tr>\n",
       "    <tr>\n",
       "      <th>3</th>\n",
       "      <td>2 BHK Apartment for Sale in Jahangirabad Surat</td>\n",
       "      <td>Carpet Area</td>\n",
       "      <td>700 sqft</td>\n",
       "      <td>New Property</td>\n",
       "      <td>Ready to Move</td>\n",
       "      <td>6 out of 14</td>\n",
       "      <td>Unfurnished</td>\n",
       "      <td>East</td>\n",
       "      <td>2 BHK Flat For sell IN Jahangirabad Prime Loca...</td>\n",
       "      <td>₹3,966 per sqft</td>\n",
       "      <td>₹47 Lac</td>\n",
       "    </tr>\n",
       "    <tr>\n",
       "      <th>4</th>\n",
       "      <td>2 BHK Apartment for Sale in Orchid Fantasia, P...</td>\n",
       "      <td>Super Area</td>\n",
       "      <td>1250 sqft</td>\n",
       "      <td>Orchid Fantasia</td>\n",
       "      <td>New Property</td>\n",
       "      <td>Unfurnished</td>\n",
       "      <td>2</td>\n",
       "      <td>2</td>\n",
       "      <td>Multistorey Apartment for Sale in Palanpur, Su...</td>\n",
       "      <td>₹3,600 per sqft</td>\n",
       "      <td>₹45 Lac</td>\n",
       "    </tr>\n",
       "    <tr>\n",
       "      <th>...</th>\n",
       "      <td>...</td>\n",
       "      <td>...</td>\n",
       "      <td>...</td>\n",
       "      <td>...</td>\n",
       "      <td>...</td>\n",
       "      <td>...</td>\n",
       "      <td>...</td>\n",
       "      <td>...</td>\n",
       "      <td>...</td>\n",
       "      <td>...</td>\n",
       "      <td>...</td>\n",
       "    </tr>\n",
       "    <tr>\n",
       "      <th>4520</th>\n",
       "      <td>6 BHK Apartment for Sale in Millionaires Lifes...</td>\n",
       "      <td>Carpet Area</td>\n",
       "      <td>2000 sqft</td>\n",
       "      <td>New Property</td>\n",
       "      <td>Poss. by Dec '26</td>\n",
       "      <td>5 out of 12</td>\n",
       "      <td>Unfurnished</td>\n",
       "      <td>South - East</td>\n",
       "      <td>Check out Millionaires Lifestyle in Vesu, one ...</td>\n",
       "      <td>NaN</td>\n",
       "      <td>Call for Price</td>\n",
       "    </tr>\n",
       "    <tr>\n",
       "      <th>4521</th>\n",
       "      <td>4 BHK Apartment for Sale in Savan Superia, Alt...</td>\n",
       "      <td>Super Area</td>\n",
       "      <td>3600 sqft</td>\n",
       "      <td>New Property</td>\n",
       "      <td>Poss. by Dec '25</td>\n",
       "      <td>5 out of 16</td>\n",
       "      <td>Unfurnished</td>\n",
       "      <td>South - East</td>\n",
       "      <td>Superia is a premium residential project launc...</td>\n",
       "      <td>NaN</td>\n",
       "      <td>Call for Price</td>\n",
       "    </tr>\n",
       "    <tr>\n",
       "      <th>4522</th>\n",
       "      <td>5 BHK Apartment for Sale in Roongta Green Vall...</td>\n",
       "      <td>Carpet Area</td>\n",
       "      <td>2250 sqft</td>\n",
       "      <td>New Property</td>\n",
       "      <td>Poss. by Dec '25</td>\n",
       "      <td>7 out of 13</td>\n",
       "      <td>Unfurnished</td>\n",
       "      <td>North - East</td>\n",
       "      <td>When it comes to beautiful homes, nothing beat...</td>\n",
       "      <td>NaN</td>\n",
       "      <td>Call for Price</td>\n",
       "    </tr>\n",
       "    <tr>\n",
       "      <th>4523</th>\n",
       "      <td>6 BHK Apartment for Sale in Cellestial Dreams,...</td>\n",
       "      <td>Carpet Area</td>\n",
       "      <td>3450 sqft</td>\n",
       "      <td>New Property</td>\n",
       "      <td>Ready to Move</td>\n",
       "      <td>7 out of 18</td>\n",
       "      <td>Unfurnished</td>\n",
       "      <td>North - West</td>\n",
       "      <td>DRB Ravani Cellestial Dreams in Vesu, Surat is...</td>\n",
       "      <td>NaN</td>\n",
       "      <td>Call for Price</td>\n",
       "    </tr>\n",
       "    <tr>\n",
       "      <th>4524</th>\n",
       "      <td>4 BHK Apartment for Sale in Roongta Green Vall...</td>\n",
       "      <td>Super Area</td>\n",
       "      <td>4500 sqft</td>\n",
       "      <td>New Property</td>\n",
       "      <td>Ready to Move</td>\n",
       "      <td>3 out of 12</td>\n",
       "      <td>Unfurnished</td>\n",
       "      <td>North</td>\n",
       "      <td>Roongta Green Valley is one of the popular res...</td>\n",
       "      <td>NaN</td>\n",
       "      <td>Call for Price</td>\n",
       "    </tr>\n",
       "  </tbody>\n",
       "</table>\n",
       "<p>4416 rows × 11 columns</p>\n",
       "</div>"
      ],
      "text/plain": [
       "                                          property_name areaWithType  \\\n",
       "0             2 BHK Apartment for Sale in Dindoli Surat  Carpet Area   \n",
       "1              2 BHK Apartment for Sale in Althan Surat   Super Area   \n",
       "2             2 BHK Apartment for Sale in Pal Gam Surat   Super Area   \n",
       "3        2 BHK Apartment for Sale in Jahangirabad Surat  Carpet Area   \n",
       "4     2 BHK Apartment for Sale in Orchid Fantasia, P...   Super Area   \n",
       "...                                                 ...          ...   \n",
       "4520  6 BHK Apartment for Sale in Millionaires Lifes...  Carpet Area   \n",
       "4521  4 BHK Apartment for Sale in Savan Superia, Alt...   Super Area   \n",
       "4522  5 BHK Apartment for Sale in Roongta Green Vall...  Carpet Area   \n",
       "4523  6 BHK Apartment for Sale in Cellestial Dreams,...  Carpet Area   \n",
       "4524  4 BHK Apartment for Sale in Roongta Green Vall...   Super Area   \n",
       "\n",
       "     square_feet      transaction            status        floor  \\\n",
       "0       644 sqft     New Property  Poss. by Oct '24  5 out of 10   \n",
       "1      1278 sqft     New Property  Poss. by Jan '26  6 out of 14   \n",
       "2      1173 sqft           Resale     Ready to Move  5 out of 13   \n",
       "3       700 sqft     New Property     Ready to Move  6 out of 14   \n",
       "4      1250 sqft  Orchid Fantasia      New Property  Unfurnished   \n",
       "...          ...              ...               ...          ...   \n",
       "4520   2000 sqft     New Property  Poss. by Dec '26  5 out of 12   \n",
       "4521   3600 sqft     New Property  Poss. by Dec '25  5 out of 16   \n",
       "4522   2250 sqft     New Property  Poss. by Dec '25  7 out of 13   \n",
       "4523   3450 sqft     New Property     Ready to Move  7 out of 18   \n",
       "4524   4500 sqft     New Property     Ready to Move  3 out of 12   \n",
       "\n",
       "          furnishing        facing  \\\n",
       "0        Unfurnished          West   \n",
       "1        Unfurnished   South -West   \n",
       "2     Semi-Furnished          East   \n",
       "3        Unfurnished          East   \n",
       "4                  2             2   \n",
       "...              ...           ...   \n",
       "4520     Unfurnished  South - East   \n",
       "4521     Unfurnished  South - East   \n",
       "4522     Unfurnished  North - East   \n",
       "4523     Unfurnished  North - West   \n",
       "4524     Unfurnished         North   \n",
       "\n",
       "                                            description    price_per_sqft  \\\n",
       "0     Luxury project with basement parking, Solar ro...  ₹2,891 per sqft    \n",
       "1     2 And 3 BHK Luxurious Flat for Sell In New Alt...  ₹3,551 per sqft    \n",
       "2     This affordable 2 BHK flat is situated along a...  ₹3,800 per sqft    \n",
       "3     2 BHK Flat For sell IN Jahangirabad Prime Loca...  ₹3,966 per sqft    \n",
       "4     Multistorey Apartment for Sale in Palanpur, Su...  ₹3,600 per sqft    \n",
       "...                                                 ...               ...   \n",
       "4520  Check out Millionaires Lifestyle in Vesu, one ...               NaN   \n",
       "4521  Superia is a premium residential project launc...               NaN   \n",
       "4522  When it comes to beautiful homes, nothing beat...               NaN   \n",
       "4523  DRB Ravani Cellestial Dreams in Vesu, Surat is...               NaN   \n",
       "4524  Roongta Green Valley is one of the popular res...               NaN   \n",
       "\n",
       "               price  \n",
       "0         ₹33.8 Lac   \n",
       "1         ₹45.4 Lac   \n",
       "2         ₹44.6 Lac   \n",
       "3           ₹47 Lac   \n",
       "4           ₹45 Lac   \n",
       "...              ...  \n",
       "4520  Call for Price  \n",
       "4521  Call for Price  \n",
       "4522  Call for Price  \n",
       "4523  Call for Price  \n",
       "4524  Call for Price  \n",
       "\n",
       "[4416 rows x 11 columns]"
      ]
     },
     "execution_count": 34,
     "metadata": {},
     "output_type": "execute_result"
    }
   ],
   "source": [
    "df.drop_duplicates(keep='first')"
   ]
  },
  {
   "cell_type": "code",
   "execution_count": 37,
   "id": "3264f96f",
   "metadata": {},
   "outputs": [
    {
     "data": {
      "text/plain": [
       "property_name        0\n",
       "areaWithType         0\n",
       "square_feet          0\n",
       "transaction        104\n",
       "status               1\n",
       "floor               45\n",
       "furnishing         340\n",
       "facing             589\n",
       "description       1371\n",
       "price_per_sqft     368\n",
       "price                0\n",
       "dtype: int64"
      ]
     },
     "execution_count": 37,
     "metadata": {},
     "output_type": "execute_result"
    }
   ],
   "source": [
    "df.isnull().sum()"
   ]
  },
  {
   "cell_type": "code",
   "execution_count": 53,
   "id": "6af73594",
   "metadata": {},
   "outputs": [],
   "source": [
    "for col in df.select_dtypes(include = 'object'):\n",
    "    df[col] = df[col].str.strip()"
   ]
  },
  {
   "cell_type": "code",
   "execution_count": 59,
   "id": "bb469092",
   "metadata": {},
   "outputs": [
    {
     "data": {
      "text/plain": [
       "array(['New Property', 'Resale', 'Orchid Fantasia', 'Unfurnished',\n",
       "       'Orchid Gardenia', 'Congo', 'Furnished', nan, 'Semi-Furnished',\n",
       "       'Main Road, Garden/Park', '1', '3', '4', 'Yes', 'No',\n",
       "       'Mahavir Nagar', '3 Covered', 'Shagun Residency', '2', 'Main Road',\n",
       "       '10 m', 'Other', '1 Covered', 'Soham Elegance', 'Garden/Park',\n",
       "       'Aakash Echo Point', 'Sundaram Residency', '5', 'Jolly Residency',\n",
       "       'Mangalam Heights', 'Green City', 'Pool, Garden/Park, Main Road',\n",
       "       '6', 'Co-operative Society', 'Vatsalya Bungalows', '20 Covered,',\n",
       "       'Raghuvir Silverstone', '8 m', 'Casa Rivera'], dtype=object)"
      ]
     },
     "execution_count": 59,
     "metadata": {},
     "output_type": "execute_result"
    }
   ],
   "source": [
    "df['transaction'].unique()"
   ]
  },
  {
   "cell_type": "code",
   "execution_count": 62,
   "id": "98fb3155",
   "metadata": {},
   "outputs": [],
   "source": [
    "df['transaction'] = df['transaction'].fillna(df['transaction'].mode()[0])"
   ]
  },
  {
   "cell_type": "code",
   "execution_count": 65,
   "id": "c285bee0",
   "metadata": {},
   "outputs": [
    {
     "data": {
      "text/plain": [
       "array(['New Property', 'Resale', 'Orchid Fantasia', 'Unfurnished',\n",
       "       'Orchid Gardenia', 'Congo', 'Furnished', 'Semi-Furnished',\n",
       "       'Main Road, Garden/Park', '1', '3', '4', 'Yes', 'No',\n",
       "       'Mahavir Nagar', '3 Covered', 'Shagun Residency', '2', 'Main Road',\n",
       "       '10 m', 'Other', '1 Covered', 'Soham Elegance', 'Garden/Park',\n",
       "       'Aakash Echo Point', 'Sundaram Residency', '5', 'Jolly Residency',\n",
       "       'Mangalam Heights', 'Green City', 'Pool, Garden/Park, Main Road',\n",
       "       '6', 'Co-operative Society', 'Vatsalya Bungalows', '20 Covered,',\n",
       "       'Raghuvir Silverstone', '8 m', 'Casa Rivera'], dtype=object)"
      ]
     },
     "execution_count": 65,
     "metadata": {},
     "output_type": "execute_result"
    }
   ],
   "source": [
    "df['transaction'].unique()"
   ]
  },
  {
   "cell_type": "code",
   "execution_count": 73,
   "id": "ba168822",
   "metadata": {},
   "outputs": [],
   "source": [
    "value_counts = df['transaction'].value_counts()"
   ]
  },
  {
   "cell_type": "code",
   "execution_count": 74,
   "id": "41a8627e",
   "metadata": {},
   "outputs": [],
   "source": [
    "valid_values = value_counts[value_counts > 1].index\n",
    "\n",
    "df = df[df['transaction'].isin(valid_values)]"
   ]
  },
  {
   "cell_type": "code",
   "execution_count": 75,
   "id": "4b0d3ad4",
   "metadata": {},
   "outputs": [
    {
     "data": {
      "text/plain": [
       "transaction\n",
       "Resale                  2301\n",
       "New Property            1486\n",
       "Unfurnished              404\n",
       "Semi-Furnished            91\n",
       "Furnished                 69\n",
       "2                         24\n",
       "3                         22\n",
       "No                        20\n",
       "Congo                     19\n",
       "1                         16\n",
       "Yes                       15\n",
       "5                         11\n",
       "4                          7\n",
       "Main Road                  6\n",
       "Orchid Gardenia            3\n",
       "6                          3\n",
       "Soham Elegance             3\n",
       "Orchid Fantasia            2\n",
       "Jolly Residency            2\n",
       "Raghuvir Silverstone       2\n",
       "Casa Rivera                2\n",
       "Name: count, dtype: int64"
      ]
     },
     "execution_count": 75,
     "metadata": {},
     "output_type": "execute_result"
    }
   ],
   "source": [
    "df['transaction'].value_counts()"
   ]
  },
  {
   "cell_type": "code",
   "execution_count": 76,
   "id": "fcc41d2f",
   "metadata": {},
   "outputs": [],
   "source": [
    "unrelated_values = ['Unfurnished', 'Semi-Furnished', 'Furnished', '2', '3', 'No', '1', 'Yes', '5', '4', '6']\n",
    "df['transaction'] = df['transaction'].replace(unrelated_values, np.nan)"
   ]
  },
  {
   "cell_type": "code",
   "execution_count": 78,
   "id": "00abd321",
   "metadata": {},
   "outputs": [
    {
     "data": {
      "text/plain": [
       "np.int64(682)"
      ]
     },
     "execution_count": 78,
     "metadata": {},
     "output_type": "execute_result"
    }
   ],
   "source": [
    "df['transaction'].isnull().sum()"
   ]
  },
  {
   "cell_type": "code",
   "execution_count": 79,
   "id": "7e808746",
   "metadata": {},
   "outputs": [],
   "source": [
    "df['transaction'] = df['transaction'].fillna(df['transaction'].mode()[0])"
   ]
  },
  {
   "cell_type": "code",
   "execution_count": 80,
   "id": "8c4e2a8d",
   "metadata": {},
   "outputs": [
    {
     "data": {
      "text/plain": [
       "transaction\n",
       "Resale                  2983\n",
       "New Property            1486\n",
       "Congo                     19\n",
       "Main Road                  6\n",
       "Orchid Gardenia            3\n",
       "Soham Elegance             3\n",
       "Orchid Fantasia            2\n",
       "Jolly Residency            2\n",
       "Raghuvir Silverstone       2\n",
       "Casa Rivera                2\n",
       "Name: count, dtype: int64"
      ]
     },
     "execution_count": 80,
     "metadata": {},
     "output_type": "execute_result"
    }
   ],
   "source": [
    "df['transaction'].value_counts()"
   ]
  },
  {
   "cell_type": "code",
   "execution_count": 81,
   "id": "d1413038",
   "metadata": {},
   "outputs": [
    {
     "data": {
      "text/plain": [
       "property_name        0\n",
       "areaWithType         0\n",
       "square_feet          0\n",
       "transaction          0\n",
       "status               1\n",
       "floor               45\n",
       "furnishing         330\n",
       "facing             575\n",
       "description       1363\n",
       "price_per_sqft     366\n",
       "price                0\n",
       "dtype: int64"
      ]
     },
     "execution_count": 81,
     "metadata": {},
     "output_type": "execute_result"
    }
   ],
   "source": [
    "df.isnull().sum()"
   ]
  },
  {
   "cell_type": "code",
   "execution_count": 82,
   "id": "4cf56be8",
   "metadata": {},
   "outputs": [
    {
     "data": {
      "text/plain": [
       "array([\"Poss. by Oct '24\", \"Poss. by Jan '26\", 'Ready to Move',\n",
       "       'New Property', \"Poss. by Dec '25\", \"Poss. by Jun '24\",\n",
       "       \"Poss. by Sep '25\", \"Poss. by Feb '26\", '1 out of 7',\n",
       "       \"Poss. by Jul '24\", \"Poss. by Dec '26\", \"Poss. by Apr '25\",\n",
       "       \"Poss. by Jan '25\", 'Freehold', '21 X 50.2', \"Poss. by Dec '24\",\n",
       "       \"Poss. by Aug '25\", \"Poss. by Feb '25\", '3 out of 10', 'Resale',\n",
       "       'Co-operative Society', '120 X 105', '3 out of 7',\n",
       "       \"Poss. by May '26\", '36 X 15', \"Poss. by Aug '24\", '2',\n",
       "       '3 out of 3', '52.5 X 32.1', '3 out of 5', '5 out of 5',\n",
       "       '12 X 35.92', '13 out of 14', '7.29 X 14', '4 out of 5',\n",
       "       'Ground out of 1', '3 out of 4', 'Ground out of 10',\n",
       "       'Ground out of 2', '20 X 40', '16.4 X 60', '11 out of 14',\n",
       "       '9.42 X 126', '25 X 12', nan, '2 out of 4', '54 X 15', '21 X 57',\n",
       "       'Power Of Attorney', \"Poss. by Jul '25\", \"Poss. by May '25\",\n",
       "       \"Poss. by Mar '26\", \"Poss. by Jun '26\", \"Poss. by Nov '24\",\n",
       "       '26.7 X 55.6', \"Poss. by Jun '25\", \"Poss. by Mar '25\", '41 X 20',\n",
       "       \"Poss. by Apr '26\", '5 out of 13', '36 X 21', '19.2 X 54.8',\n",
       "       '8 out of 14', '26.7 X 54.9', '38 X 21', '2 out of 13', '135 X 75',\n",
       "       '38 X 20', '114 X 60', '45 X 40', '40 X 21', \"Poss. by Sep '24\",\n",
       "       \"Poss. by Nov '25\", '37 X 26', '180 X 22.5', '4 out of 14',\n",
       "       '114 X 14', 'Const. Age New Construction', '285 X 51',\n",
       "       '8 out of 10', '6 out of 11', 'Ground out of 5',\n",
       "       \"Poss. by Oct '25\", '10 out of 11', '5 out of 14', '60 X 28',\n",
       "       '37 X 20', '13.3 X 135', '9 out of 11', \"Poss. by Dec '28\",\n",
       "       '48 X 14', '45.5 X 21.56', '60 X 120', \"Poss. by Sep '26\",\n",
       "       '8 out of 13', '7 out of 13', '4.55 X 20', \"Poss. by Dec '27\",\n",
       "       '9 out of 13', '16.7 X 240', \"Poss. by Oct '26\", '7 out of 14',\n",
       "       \"Poss. by Jan '27\", '9 out of 14', '3 out of 13', '40 X 20',\n",
       "       '92 X 12', '4 out of 12', '39.6 X 20', '120 X 60', '138 X 63',\n",
       "       '120 X 63', '126 X 66', \"Poss. by Apr '27\", \"Poss. by May '27\",\n",
       "       '1 out of 12', '52.5 X 26.1', '55 X 22', '2 out of 12', '180 X 45',\n",
       "       '31 X 41', \"Poss. by Mar '27\", '46 X 46.17', \"Poss. by Jul '26\",\n",
       "       '12 out of 12', '110 X 27.27', \"Poss. by Aug '26\", '73.7 X 53.1',\n",
       "       \"Poss. by Jul '27\", '4 out of 11', \"Poss. by Jun '27\",\n",
       "       \"Poss. by Nov '26\", '4 out of 9', '240 X 180', \"Poss. by Mar '28\",\n",
       "       '1200 X 3', '144 X 105', \"Poss. by Nov '28\"], dtype=object)"
      ]
     },
     "execution_count": 82,
     "metadata": {},
     "output_type": "execute_result"
    }
   ],
   "source": [
    "df['status'].unique()"
   ]
  },
  {
   "cell_type": "code",
   "execution_count": 85,
   "id": "f13cb984",
   "metadata": {},
   "outputs": [],
   "source": [
    "valid_status = ['Ready to Move', 'New Property', 'Freehold', 'Resale', 'Power Of Attorney', 'Const. Age New Construction']\n",
    "possession_pattern = r\"^Poss\\. by [A-Za-z]{3} '\\d{2}$\"\n",
    "def clean_status(value):\n",
    "    if pd.isnull(value):\n",
    "        return np.nan\n",
    "    if value in valid_status:\n",
    "        return value\n",
    "    if re.match(possession_pattern, value):\n",
    "        return value\n",
    "    return np.nan  # Unrelated values will be marked as missing\n",
    "\n",
    "# Apply the cleaning function\n",
    "df['status'] = df['status'].apply(clean_status)"
   ]
  },
  {
   "cell_type": "code",
   "execution_count": 88,
   "id": "d542c01d",
   "metadata": {},
   "outputs": [],
   "source": [
    "df['status'] = df['status'].fillna(df['status'].mode()[0])"
   ]
  },
  {
   "cell_type": "code",
   "execution_count": 89,
   "id": "4fa8fd3b",
   "metadata": {},
   "outputs": [
    {
     "data": {
      "text/plain": [
       "property_name        0\n",
       "areaWithType         0\n",
       "square_feet          0\n",
       "transaction          0\n",
       "status               0\n",
       "floor               45\n",
       "furnishing         330\n",
       "facing             575\n",
       "description       1363\n",
       "price_per_sqft     366\n",
       "price                0\n",
       "status_cleaned     136\n",
       "dtype: int64"
      ]
     },
     "execution_count": 89,
     "metadata": {},
     "output_type": "execute_result"
    }
   ],
   "source": [
    "df.isnull().sum()"
   ]
  },
  {
   "cell_type": "code",
   "execution_count": 93,
   "id": "f997b90f",
   "metadata": {},
   "outputs": [
    {
     "data": {
      "text/plain": [
       "array(['5 out of 10', '6 out of 14', '5 out of 13', 'Unfurnished',\n",
       "       'New Property', '7 out of 10', '3 out of 14', '6 out of 13',\n",
       "       '1 out of 1', '1 out of 13', '4 out of 7', '3 out of 3',\n",
       "       '2 out of 6', '3 out of 5', '2 out of 5', '3 out of 12',\n",
       "       '5 out of 5', 'Resale', 'Ground out of 1',\n",
       "       'Lower Basement out of 7', '1 out of 5', '7 out of 14',\n",
       "       '9 out of 14', '5 out of 12', '7 out of 13', '1 out of 2',\n",
       "       '2 out of 10', 'Freehold', '12 out of 14', '10 out of 14',\n",
       "       '2 out of 12', '1 out of 4', '13 out of 14', '4 out of 14',\n",
       "       '6 out of 10', '2 out of 4', '3 out of 4', '9 out of 13',\n",
       "       'Upper Basement out of 5', '3 out of 10', '1 out of 3',\n",
       "       '4 out of 4', 'Ground out of 2', 'Lower Basement out of 2',\n",
       "       'Ground out of 4', nan, 'Ground out of 5', '4 out of 10',\n",
       "       'Ground out of 14', 'Ground out of 6', '5 out of 6', '8 out of 9',\n",
       "       '4 out of 5', '2 out of 7', '7 out of 7', 'Ground out of 3',\n",
       "       '4 out of 8', '8 out of 14', '6 out of 7', '7 out of 11',\n",
       "       'Upper Basement out of 4', 'Furnished', 'Congo', '3', '2 out of 3',\n",
       "       '1 out of 7', 'Ground', '1 out of 6', '9 out of 11',\n",
       "       '14 out of 14', '5 out of 14', '1 out of 8', '5 out of 7',\n",
       "       '8 out of 12', 'Ground out of 10', '2 out of 2', '7 out of 12',\n",
       "       '3 out of 6', '1 out of 12', '16 out of 19', '13 out of 13',\n",
       "       '6 out of 8', '8 out of 8', '3 out of 9', '11 out of 12',\n",
       "       '6 out of 12', '8 out of 13', '11 out of 11', '4 out of 6', '1',\n",
       "       '2 out of 13', '1 out of 9', '1 out of 10',\n",
       "       'Upper Basement out of 14', '2', '5 out of 8', '10 out of 12',\n",
       "       '3 out of 7', '6 out of 9', '4 out of 13', '11 out of 15', 'No',\n",
       "       '10 out of 10', 'Ground out of 7', '3 out of 11', 'Yes',\n",
       "       'Lower Basement out of 59', '6 out of 11', '4 out of 15',\n",
       "       'Semi-Furnished', '11 out of 13', 'Lower Basement out of 4',\n",
       "       'Upper Basement out of 12', 'Upper Basement out of 1',\n",
       "       '10 out of 13', '7 out of 9', '4 out of 9', '3 out of 8',\n",
       "       'Lower Basement out of 5', '4 out of 12', '10 out of 11',\n",
       "       'Ground out of 11', '7 out of 8', 'Other', '1 out of 11',\n",
       "       '9 out of 10', '5 out of 11', 'Lower Basement out of 6',\n",
       "       '9 out of 9', 'Ground out of 13', '2 out of 8',\n",
       "       'The Polaris Avenue', '4 out of 11', '12 out of 13', '8 out of 10',\n",
       "       '4 out of 19', '11 out of 14', '5 out of 15', '15 out of 19',\n",
       "       '3 out of 13', 'Co-operative Society', '9 out of 12',\n",
       "       '7 out of 19', '2 out of 14', '10 out of 19',\n",
       "       'Lower Basement out of 14', '6 out of 15', '6 out of 19',\n",
       "       '2 out of 11', '9 out of 19', '9 out of 15', '18 out of 19',\n",
       "       '1 out of 30', '1 out of 15', '10 out of 20', '13 out of 15',\n",
       "       '1 out of 14', '20 out of 21', '8 out of 19', 'Om Residency',\n",
       "       '8 out of 11', '7 out of 15', '5 out of 9', '12 out of 12',\n",
       "       '11 out of 20', '2 out of 9', '14 out of 15', '15 out of 21',\n",
       "       '12 out of 15', '15 out of 15', '8 out of 15', '10 out of 15',\n",
       "       '13 out of 19', '10 out of 21', '3 out of 15', '14 out of 19',\n",
       "       '2 out of 15', '9 out of 20', '8 out of 20', '18 out of 21',\n",
       "       'Ground out of 8', '6 out of 6', 'Milestone Regalia',\n",
       "       '5 out of 20', '15 out of 18', '5 out of 19', '5 out of 16',\n",
       "       '17 out of 20', '5 out of 18', '15 out of 20',\n",
       "       'Lower Basement out of 1', '10 out of 18', '7 out of 20',\n",
       "       '17 out of 18', '7 out of 17', '5', '9 out of 25', '6 out of 20',\n",
       "       '6 out of 18', 'Upper Basement out of 3', '4 out of 18',\n",
       "       '9 out of 21', '4 out of 21', '19 out of 19', '17 out of 19',\n",
       "       '7 out of 18', '20 out of 20', '4 out of 20', '9 out of 18',\n",
       "       'Ground out of 12', '3 out of 18', 'Ground out of 19',\n",
       "       '16 out of 20', '2 out of 19', '16 out of 18', '12 out of 19',\n",
       "       '3 out of 19', '3 out of 20', '1 out of 20', '2 out of 17',\n",
       "       '9 out of 17', '14 out of 20', '1 out of 18'], dtype=object)"
      ]
     },
     "execution_count": 93,
     "metadata": {},
     "output_type": "execute_result"
    }
   ],
   "source": [
    "df['floor'].unique()"
   ]
  },
  {
   "cell_type": "code",
   "execution_count": 112,
   "id": "192b6d47",
   "metadata": {},
   "outputs": [],
   "source": [
    "ground_pattern = r\"^Ground out of ([1-9]|[1-9][0-9]|[1-6][0-9]{2}|700)$\"\n",
    "basement_pattern = r\"^(Lower|Upper) Basement out of \\d+$\"\n",
    "\n",
    "floor_unrelated_values = ['Unfurnished', 'New Property', 'Resale', 'Freehold', 'Furnished', 'Congo', 'Ground', 'Semi-Furnished', 'Other', 'The Polaris Avenue', 'No', 'Yes']\n",
    "\n",
    "def clean_floor(value):\n",
    "    if pd.isnull(value):\n",
    "        return np.nan\n",
    "    if value in floor_unrelated_values:\n",
    "        return np.nan\n",
    "    if re.match(ground_pattern, str(value)):\n",
    "        return np.nan\n",
    "    if re.match(basement_pattern, str(value)):\n",
    "        return np.nan\n",
    "    return value\n",
    "\n",
    "\n",
    "df['floor'] = df['floor'].apply(clean_floor) \n"
   ]
  },
  {
   "cell_type": "code",
   "execution_count": 116,
   "id": "b2cc716c",
   "metadata": {},
   "outputs": [],
   "source": [
    "df['floor'] = df['floor'].fillna(df['floor'].mode()[0])"
   ]
  },
  {
   "cell_type": "code",
   "execution_count": 118,
   "id": "c614dd95",
   "metadata": {},
   "outputs": [
    {
     "data": {
      "text/plain": [
       "array(['5 out of 10', '6 out of 14', '5 out of 13', '7 out of 10',\n",
       "       '3 out of 14', '6 out of 13', '1 out of 1', '1 out of 13',\n",
       "       '4 out of 7', '3 out of 3', '2 out of 6', '3 out of 5',\n",
       "       '2 out of 5', '3 out of 12', '5 out of 5', '1 out of 5',\n",
       "       '7 out of 14', '9 out of 14', '5 out of 12', '7 out of 13',\n",
       "       '1 out of 2', '2 out of 10', '12 out of 14', '10 out of 14',\n",
       "       '2 out of 12', '1 out of 4', '13 out of 14', '4 out of 14',\n",
       "       '6 out of 10', '2 out of 4', '3 out of 4', '9 out of 13',\n",
       "       '3 out of 10', '1 out of 3', '4 out of 4', '4 out of 10',\n",
       "       '5 out of 6', '8 out of 9', '4 out of 5', '2 out of 7',\n",
       "       '7 out of 7', '4 out of 8', '8 out of 14', '6 out of 7',\n",
       "       '7 out of 11', '3', '2 out of 3', '1 out of 7', '1 out of 6',\n",
       "       '9 out of 11', '14 out of 14', '5 out of 14', '1 out of 8',\n",
       "       '5 out of 7', '8 out of 12', '2 out of 2', '7 out of 12',\n",
       "       '3 out of 6', '1 out of 12', '16 out of 19', '13 out of 13',\n",
       "       '6 out of 8', '8 out of 8', '3 out of 9', '11 out of 12',\n",
       "       '6 out of 12', '8 out of 13', '11 out of 11', '4 out of 6', '1',\n",
       "       '2 out of 13', '1 out of 9', '1 out of 10', '2', '5 out of 8',\n",
       "       '10 out of 12', '3 out of 7', '6 out of 9', '4 out of 13',\n",
       "       '11 out of 15', '10 out of 10', '3 out of 11', '6 out of 11',\n",
       "       '4 out of 15', '11 out of 13', '10 out of 13', '7 out of 9',\n",
       "       '4 out of 9', '3 out of 8', '4 out of 12', '10 out of 11',\n",
       "       '7 out of 8', '1 out of 11', '9 out of 10', '5 out of 11',\n",
       "       '9 out of 9', '2 out of 8', '4 out of 11', '12 out of 13',\n",
       "       '8 out of 10', '4 out of 19', '11 out of 14', '5 out of 15',\n",
       "       '15 out of 19', '3 out of 13', 'Co-operative Society',\n",
       "       '9 out of 12', '7 out of 19', '2 out of 14', '10 out of 19',\n",
       "       '6 out of 15', '6 out of 19', '2 out of 11', '9 out of 19',\n",
       "       '9 out of 15', '18 out of 19', '1 out of 30', '1 out of 15',\n",
       "       '10 out of 20', '13 out of 15', '1 out of 14', '20 out of 21',\n",
       "       '8 out of 19', 'Om Residency', '8 out of 11', '7 out of 15',\n",
       "       '5 out of 9', '12 out of 12', '11 out of 20', '2 out of 9',\n",
       "       '14 out of 15', '15 out of 21', '12 out of 15', '15 out of 15',\n",
       "       '8 out of 15', '10 out of 15', '13 out of 19', '10 out of 21',\n",
       "       '3 out of 15', '14 out of 19', '2 out of 15', '9 out of 20',\n",
       "       '8 out of 20', '18 out of 21', '6 out of 6', 'Milestone Regalia',\n",
       "       '5 out of 20', '15 out of 18', '5 out of 19', '5 out of 16',\n",
       "       '17 out of 20', '5 out of 18', '15 out of 20', '10 out of 18',\n",
       "       '7 out of 20', '17 out of 18', '7 out of 17', '5', '9 out of 25',\n",
       "       '6 out of 20', '6 out of 18', '4 out of 18', '9 out of 21',\n",
       "       '4 out of 21', '19 out of 19', '17 out of 19', '7 out of 18',\n",
       "       '20 out of 20', '4 out of 20', '9 out of 18', '3 out of 18',\n",
       "       '16 out of 20', '2 out of 19', '16 out of 18', '12 out of 19',\n",
       "       '3 out of 19', '3 out of 20', '1 out of 20', '2 out of 17',\n",
       "       '9 out of 17', '14 out of 20', '1 out of 18'], dtype=object)"
      ]
     },
     "execution_count": 118,
     "metadata": {},
     "output_type": "execute_result"
    }
   ],
   "source": [
    "df['floor'].unique()"
   ]
  },
  {
   "cell_type": "code",
   "execution_count": 119,
   "id": "0bb99953",
   "metadata": {},
   "outputs": [
    {
     "data": {
      "text/plain": [
       "property_name        0\n",
       "areaWithType         0\n",
       "square_feet          0\n",
       "transaction          0\n",
       "status               0\n",
       "floor                0\n",
       "furnishing         330\n",
       "facing             575\n",
       "description       1363\n",
       "price_per_sqft     366\n",
       "price                0\n",
       "status_cleaned     136\n",
       "dtype: int64"
      ]
     },
     "execution_count": 119,
     "metadata": {},
     "output_type": "execute_result"
    }
   ],
   "source": [
    "df.isnull().sum()"
   ]
  },
  {
   "cell_type": "code",
   "execution_count": null,
   "id": "5cbf0ccd",
   "metadata": {},
   "outputs": [
    {
     "data": {
      "text/plain": [
       "array(['Unfurnished', 'Semi-Furnished', '2', 'Anand Aspire', 'East', '1',\n",
       "       'Furnished', nan, '3', '1 Covered,', '2 Covered', '1 Covered',\n",
       "       'Freehold', 'West', '26 Covered', 'Main Road', 'No', 'North',\n",
       "       '1 Open', '6', 'Co-operative Society', '> 10', '4',\n",
       "       'Nilkanth Seven Homes', 'Aagam Navkar', '10 Open',\n",
       "       'Vinayak Enclave', '5 Covered,', 'South -West',\n",
       "       'Pool, Garden/Park, Main Road', 'Garden/Park, Main Road', '7 m',\n",
       "       '30 m', '50 Covered,', 'South', '12 m', 'Yes', 'Gruham Luxuria',\n",
       "       '2 Covered,', 'Congo', 'Prayosha Shine', 'North - East',\n",
       "       'Vaishnodevi Ideal Homes', 'Santvan Lexon', 'Sangini Epitome',\n",
       "       '100 Covered', 'Nirvana Gladiolus', '7', '5 Covered', '5',\n",
       "       'Raghuvir Spalex', '50 Open', 'South - East', 'North - West',\n",
       "       '20 m', '20 Open', 'Garden/Park', '10 m', 'Sattvam',\n",
       "       'Pramukh Amaya', 'Sun Sarvam', '3 Covered', '2 Open', '6 m',\n",
       "       'Avadh Kimberly', 'Happy Glorious', 'DMD Aura', 'Freedom Tower',\n",
       "       '15 m', 'Surya Signature', 'Someshwara Enclave',\n",
       "       'Green Valley Row House', 'Green Valley', 'Vatsalya Bungalows',\n",
       "       'DMD Signus', '10 Covered,', 'Ambience', 'Milestone Pristine',\n",
       "       'Bblossom The Presidency'], dtype=object)"
      ]
     },
     "execution_count": 121,
     "metadata": {},
     "output_type": "execute_result"
    }
   ],
   "source": [
    "df['furnishing'].unique()"
   ]
  },
  {
   "cell_type": "code",
   "execution_count": 131,
   "id": "329b1b9c",
   "metadata": {},
   "outputs": [],
   "source": [
    "furnishing_values_keep = ['Unfurnished', 'Semi-Furnished', 'Furnished']\n",
    "if 'furnishing' != furnishing_values_keep:\n",
    "    df['furnishing'] = df['furnishing'].where(df['furnishing'].isin(furnishing_values_keep), np.nan)\n",
    "df['furnishing'] = df['furnishing'].fillna('Unknown')"
   ]
  },
  {
   "cell_type": "code",
   "execution_count": 132,
   "id": "837d2533",
   "metadata": {},
   "outputs": [
    {
     "data": {
      "text/plain": [
       "array(['Unfurnished', 'Semi-Furnished', 'Unknown', 'Furnished'],\n",
       "      dtype=object)"
      ]
     },
     "execution_count": 132,
     "metadata": {},
     "output_type": "execute_result"
    }
   ],
   "source": [
    "df['furnishing'].unique()"
   ]
  },
  {
   "cell_type": "code",
   "execution_count": 133,
   "id": "4a04dbf4",
   "metadata": {},
   "outputs": [
    {
     "data": {
      "text/plain": [
       "property_name        0\n",
       "areaWithType         0\n",
       "square_feet          0\n",
       "transaction          0\n",
       "status               0\n",
       "floor                0\n",
       "furnishing           0\n",
       "facing             575\n",
       "description       1363\n",
       "price_per_sqft     366\n",
       "price                0\n",
       "status_cleaned     136\n",
       "dtype: int64"
      ]
     },
     "execution_count": 133,
     "metadata": {},
     "output_type": "execute_result"
    }
   ],
   "source": [
    "df.isnull().sum()"
   ]
  },
  {
   "cell_type": "code",
   "execution_count": 134,
   "id": "7f8649c9",
   "metadata": {},
   "outputs": [
    {
     "data": {
      "text/plain": [
       "array(['West', 'South -West', 'East', '2', 'Main Road', nan,\n",
       "       'North - East', 'South - East', '1', 'Freehold', 'Garden/Park',\n",
       "       '3', 'North - West', 'South', '6', 'Co-operative Society',\n",
       "       'Garden/Park, Main Road', '1 Covered', 'No', '30 m', 'North',\n",
       "       'Varni Siddheshwar Heights', '5', 'Salasar Icon', 'Green Valley',\n",
       "       'Shyam enclave', 'Rajhans Platinum', 'Vitthal Bunglows', '1 Open',\n",
       "       'Royal Nest', 'Rajhans Wings', '2 Open',\n",
       "       'Gordhan Green Valley Mangalam Park Bldg S',\n",
       "       'Apt Swaminagar Society', 'Swagat Clifton', 'Akash',\n",
       "       'Green Arcade Phase 1 And 2', 'Satyam Tower', '4',\n",
       "       'Suryanjali Residency', 'GHB Mukhya Mantri Gruh Yojana',\n",
       "       'Vibrant Eco Park', 'Madhav Residency', 'Shiv Drashti Residency',\n",
       "       'Gruham Luxuria', 'SHANKHESHWER COMPLAX', 'JT Stuti Highland',\n",
       "       'Times Galaxy', '100 m', 'Savani Prayosha Pride',\n",
       "       'Shayona Janki Residency', 'Sundaram Residency', '6 m',\n",
       "       'Silicon Palm', 'Raj Abhishek City Homes',\n",
       "       'Dhvani Royal Residency', 'Residency', 'Pan Sharanam',\n",
       "       'Gruham Royal Park', 'Rajhans Swapna', 'Panchtatva Residency',\n",
       "       'Manvay Residency', 'Prayosha Shine', 'Yes',\n",
       "       'Swapna Villa 2 Phase 2', 'Green City', 'Rajhans Apple',\n",
       "       'Sai Residency', 'Anjani Enclave', 'Shakuntal Complex',\n",
       "       '2 Covered', 'Galaxy Imperia', 'Pool, Garden/Park, Main Road',\n",
       "       'Silver Plaza Complex', 'Swami Twin City 5', 'Majura Gate Surat',\n",
       "       'Orchid Greens', 'Aditya Vrundavan Heights', 'Pool', '900 m',\n",
       "       'Vaishnodevi Amour Jahagirabad', 'Shantam Apartment',\n",
       "       'Siddhi Vinayak Green', '20 m', 'Ambika Heaven', '10 m',\n",
       "       'MD Om Palace', 'Global City', 'Maa Krupa Residency Society',\n",
       "       'Man Sarovar Residency and Plaza', 'Bella Casaa',\n",
       "       'Shree Tirupati Balaji Town', 'Aagam Navkar', 'Omkar Residency',\n",
       "       'Nova Complex', '25 m', 'Amber Palace', '1 Covered,',\n",
       "       'Vaishnodevi Ideal Homes', '7 m', '45 X 14 ft Sqft',\n",
       "       'Santvan Lexon', 'Atlanta Sky Desk', 'Nakshatra Platinum',\n",
       "       'Siddhi Vinayak Heights', 'Coral Heights', 'Aakash Homes',\n",
       "       'Nandini 3', 'Sundaram Status', 'Happy Elegance',\n",
       "       'Dream World Residency', 'Raghuvir Saffron',\n",
       "       'Vasant Vihar Township', 'Kalpavruksha Garden', 'Ashirwad Enclave',\n",
       "       'Jolly Residency', '9', 'Stylome Heights', 'Marvella Residency',\n",
       "       'Meera Avenue', 'Garden/Park, Pool', 'Rajhans Orange',\n",
       "       'Rajhans Synfonia', 'Sat Aria', 'Lake Castle',\n",
       "       'Raghuvir Sentosa Heights', 'Shalibhadra Complex',\n",
       "       'Shiv Shrungal Solitaire', 'Sangini Gardenia', 'Green Leaf',\n",
       "       'Pooja Aagam Cross Roads', '7', 'Nakshatra Nebula', 'Peak Living',\n",
       "       'Prasidhi Apartment', 'Nandini 1', 'Soham Residency',\n",
       "       'Pool, Garden/Park', 'Shreepad Ethics', '15 m', '12 m',\n",
       "       'Eco Parkside', 'Garden/Park, Pool, Main Road', '2 m',\n",
       "       'Santvan Seron', 'Nakshatra Galaxia', '150 m', 'Oliva Height',\n",
       "       'Mahaveer Nagar', '4 m', 'Shreepad Infinia', 'Bilvam Regency',\n",
       "       'Palladium Sky', '3 Covered', 'Prestige manor', 'Green City Gold',\n",
       "       'Meera Park', 'Aagam Paramount', 'Sumeru Golden Leaf',\n",
       "       'Avadh Shangrila', '45 X', 'Rajhans Cremona',\n",
       "       'Atithi Western Oasis', 'Harmony', 'Cellestial Dreams',\n",
       "       'Nandanvan III', 'aventis ofira', 'Samarth Enclave',\n",
       "       'Happy Home Capital Greens', 'Shaligram The Emerald', '135 X',\n",
       "       '131 X', 'Vesu Point', '8 m', '1 m', 'Power Of Attorney',\n",
       "       '20275 m'], dtype=object)"
      ]
     },
     "execution_count": 134,
     "metadata": {},
     "output_type": "execute_result"
    }
   ],
   "source": [
    "df['facing'].unique()"
   ]
  },
  {
   "cell_type": "code",
   "execution_count": null,
   "id": "e204281b",
   "metadata": {},
   "outputs": [],
   "source": []
  }
 ],
 "metadata": {
  "kernelspec": {
   "display_name": "Python 3",
   "language": "python",
   "name": "python3"
  },
  "language_info": {
   "codemirror_mode": {
    "name": "ipython",
    "version": 3
   },
   "file_extension": ".py",
   "mimetype": "text/x-python",
   "name": "python",
   "nbconvert_exporter": "python",
   "pygments_lexer": "ipython3",
   "version": "3.13.3"
  }
 },
 "nbformat": 4,
 "nbformat_minor": 5
}
