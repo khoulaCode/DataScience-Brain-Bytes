{
 "cells": [
  {
   "cell_type": "markdown",
   "id": "3ea4a98d",
   "metadata": {},
   "source": [
    "# Flats Uncleaned Dataset"
   ]
  },
  {
   "cell_type": "code",
   "execution_count": null,
   "id": "0a0338c6",
   "metadata": {},
   "outputs": [],
   "source": [
    "import pandas as pd\n",
    "import numpy as np\n",
    "import matplotlib.pyplot as plt\n",
    "import re\n",
    "from sklearn.preprocessing import OneHotEncoder,LabelEncoder\n",
    "from sklearn.linear_model import LinearRegression\n",
    "from sklearn.model_selection import train_test_split\n",
    "from sklearn.metrics import mean_absolute_error, mean_squared_error, r2_score\n",
    "df = pd.read_csv('Data/surat_uncleaned.csv')"
   ]
  },
  {
   "cell_type": "code",
   "execution_count": null,
   "id": "1b576600",
   "metadata": {},
   "outputs": [],
   "source": [
    "df"
   ]
  },
  {
   "cell_type": "code",
   "execution_count": null,
   "id": "ca49357b",
   "metadata": {},
   "outputs": [],
   "source": [
    "df.dtypes"
   ]
  },
  {
   "cell_type": "code",
   "execution_count": null,
   "id": "32213cbf",
   "metadata": {},
   "outputs": [],
   "source": [
    "df.duplicated().sum()"
   ]
  },
  {
   "cell_type": "code",
   "execution_count": null,
   "id": "47345159",
   "metadata": {},
   "outputs": [],
   "source": [
    "df.drop_duplicates(keep='first')"
   ]
  },
  {
   "cell_type": "code",
   "execution_count": null,
   "id": "3264f96f",
   "metadata": {},
   "outputs": [],
   "source": [
    "df.isnull().sum()"
   ]
  },
  {
   "cell_type": "code",
   "execution_count": null,
   "id": "6af73594",
   "metadata": {},
   "outputs": [],
   "source": [
    "for col in df.select_dtypes(include = 'object'):\n",
    "    df[col] = df[col].str.strip()"
   ]
  },
  {
   "cell_type": "code",
   "execution_count": null,
   "id": "bb469092",
   "metadata": {},
   "outputs": [],
   "source": [
    "df['transaction'].unique()"
   ]
  },
  {
   "cell_type": "code",
   "execution_count": null,
   "id": "98fb3155",
   "metadata": {},
   "outputs": [],
   "source": [
    "df['transaction'] = df['transaction'].fillna(df['transaction'].mode()[0])"
   ]
  },
  {
   "cell_type": "code",
   "execution_count": null,
   "id": "c285bee0",
   "metadata": {},
   "outputs": [],
   "source": [
    "df['transaction'].unique()"
   ]
  },
  {
   "cell_type": "code",
   "execution_count": null,
   "id": "ba168822",
   "metadata": {},
   "outputs": [],
   "source": [
    "value_counts = df['transaction'].value_counts()"
   ]
  },
  {
   "cell_type": "code",
   "execution_count": null,
   "id": "41a8627e",
   "metadata": {},
   "outputs": [],
   "source": [
    "valid_values = value_counts[value_counts > 1].index\n",
    "\n",
    "df = df[df['transaction'].isin(valid_values)]\n",
    "\n",
    "df['transaction'] = df['transaction'].replace('Main Road', df['transaction'].mode()[0])"
   ]
  },
  {
   "cell_type": "code",
   "execution_count": null,
   "id": "4b0d3ad4",
   "metadata": {},
   "outputs": [],
   "source": [
    "df['transaction'].value_counts()"
   ]
  },
  {
   "cell_type": "code",
   "execution_count": null,
   "id": "fcc41d2f",
   "metadata": {},
   "outputs": [],
   "source": [
    "unrelated_values = ['Unfurnished', 'Semi-Furnished', 'Furnished', '2', '3', 'No', '1', 'Yes', '5', '4', '6', 'New Property']\n",
    "df['transaction'] = df['transaction'].replace(unrelated_values, np.nan)"
   ]
  },
  {
   "cell_type": "code",
   "execution_count": null,
   "id": "00abd321",
   "metadata": {},
   "outputs": [],
   "source": [
    "df['transaction'].isnull().sum()"
   ]
  },
  {
   "cell_type": "code",
   "execution_count": null,
   "id": "7e808746",
   "metadata": {},
   "outputs": [],
   "source": [
    "df['transaction'] = df['transaction'].fillna(df['transaction'].mode()[0])"
   ]
  },
  {
   "cell_type": "code",
   "execution_count": null,
   "id": "8c4e2a8d",
   "metadata": {},
   "outputs": [],
   "source": [
    "df['transaction'].value_counts()"
   ]
  },
  {
   "cell_type": "code",
   "execution_count": null,
   "id": "d1413038",
   "metadata": {},
   "outputs": [],
   "source": [
    "df.isnull().sum()"
   ]
  },
  {
   "cell_type": "code",
   "execution_count": null,
   "id": "4cf56be8",
   "metadata": {},
   "outputs": [],
   "source": [
    "df['status'].unique()"
   ]
  },
  {
   "cell_type": "code",
   "execution_count": null,
   "id": "f13cb984",
   "metadata": {},
   "outputs": [],
   "source": [
    "valid_status = ['Ready to Move', 'New Property', 'Freehold', 'Resale', 'Power Of Attorney', 'Const. Age New Construction']\n",
    "possession_pattern = r\"^Poss\\. by [A-Za-z]{3} '\\d{2}$\"\n",
    "def clean_status(value):\n",
    "    if pd.isnull(value):\n",
    "        return np.nan\n",
    "    if value in valid_status:\n",
    "        return value\n",
    "    if re.match(possession_pattern, value):\n",
    "        return value\n",
    "    return np.nan  # Unrelated values will be marked as missing\n",
    "\n",
    "# Apply the cleaning function\n",
    "df['status'] = df['status'].apply(clean_status)"
   ]
  },
  {
   "cell_type": "code",
   "execution_count": null,
   "id": "d542c01d",
   "metadata": {},
   "outputs": [],
   "source": [
    "df['status'] = df['status'].fillna(df['status'].mode()[0])"
   ]
  },
  {
   "cell_type": "code",
   "execution_count": null,
   "id": "4fa8fd3b",
   "metadata": {},
   "outputs": [],
   "source": [
    "df.isnull().sum()"
   ]
  },
  {
   "cell_type": "code",
   "execution_count": null,
   "id": "f997b90f",
   "metadata": {},
   "outputs": [],
   "source": [
    "df['floor'].unique()"
   ]
  },
  {
   "cell_type": "code",
   "execution_count": null,
   "id": "192b6d47",
   "metadata": {},
   "outputs": [],
   "source": [
    "ground_pattern = r\"^Ground out of ([1-9]|[1-9][0-9]|[1-6][0-9]{2}|700)$\"\n",
    "basement_pattern = r\"^(Lower|Upper) Basement out of \\d+$\"\n",
    "\n",
    "floor_unrelated_values = ['Unfurnished', 'New Property', 'Resale', 'Freehold', 'Furnished', 'Congo', 'Ground', 'Semi-Furnished', 'Other', 'The Polaris Avenue', 'No', 'Yes']\n",
    "\n",
    "def clean_floor(value):\n",
    "    if pd.isnull(value):\n",
    "        return np.nan\n",
    "    if value in floor_unrelated_values:\n",
    "        return np.nan\n",
    "    if re.match(ground_pattern, str(value)):\n",
    "        return np.nan\n",
    "    if re.match(basement_pattern, str(value)):\n",
    "        return np.nan\n",
    "    return value\n",
    "\n",
    "\n",
    "df['floor'] = df['floor'].apply(clean_floor) \n"
   ]
  },
  {
   "cell_type": "code",
   "execution_count": null,
   "id": "b2cc716c",
   "metadata": {},
   "outputs": [],
   "source": [
    "df['floor'] = df['floor'].fillna(df['floor'].mode()[0])"
   ]
  },
  {
   "cell_type": "code",
   "execution_count": null,
   "id": "c614dd95",
   "metadata": {},
   "outputs": [],
   "source": [
    "df['floor'].unique()"
   ]
  },
  {
   "cell_type": "code",
   "execution_count": null,
   "id": "0bb99953",
   "metadata": {},
   "outputs": [],
   "source": [
    "df.isnull().sum()"
   ]
  },
  {
   "cell_type": "code",
   "execution_count": null,
   "id": "5cbf0ccd",
   "metadata": {},
   "outputs": [],
   "source": [
    "df['furnishing'].unique()"
   ]
  },
  {
   "cell_type": "code",
   "execution_count": null,
   "id": "329b1b9c",
   "metadata": {},
   "outputs": [],
   "source": [
    "furnishing_values_keep = ['Unfurnished', 'Semi-Furnished', 'Furnished']\n",
    "if 'furnishing' != furnishing_values_keep:\n",
    "    df['furnishing'] = df['furnishing'].where(df['furnishing'].isin(furnishing_values_keep), np.nan)\n",
    "df['furnishing'] = df['furnishing'].fillna('Unknown')"
   ]
  },
  {
   "cell_type": "code",
   "execution_count": null,
   "id": "837d2533",
   "metadata": {},
   "outputs": [],
   "source": [
    "df['furnishing'].unique()"
   ]
  },
  {
   "cell_type": "code",
   "execution_count": null,
   "id": "4a04dbf4",
   "metadata": {},
   "outputs": [],
   "source": [
    "df.isnull().sum()"
   ]
  },
  {
   "cell_type": "code",
   "execution_count": null,
   "id": "7f8649c9",
   "metadata": {},
   "outputs": [],
   "source": [
    "df['facing'].unique()"
   ]
  },
  {
   "cell_type": "code",
   "execution_count": null,
   "id": "28093ad7",
   "metadata": {},
   "outputs": [],
   "source": [
    "face_patt = r\"^\\d+(\\s+[a-zA-Z]+)?$\"\n",
    "\n",
    "not_face = []\n",
    "\n",
    "for fc in df['facing']:\n",
    "    if re.match(face_patt, str(fc).strip()):\n",
    "        not_face.append(fc)\n",
    "\n",
    "print(set(not_face))\n",
    "\n",
    "df['facing'] = df['facing'].replace(not_face, np.nan)\n",
    "df['facing'] = df['facing'].fillna(df['facing'].mode()[0])"
   ]
  },
  {
   "cell_type": "code",
   "execution_count": null,
   "id": "46ed51b3",
   "metadata": {},
   "outputs": [],
   "source": [
    "\n",
    "print(df['facing'].unique())"
   ]
  },
  {
   "cell_type": "code",
   "execution_count": null,
   "id": "05de666c",
   "metadata": {},
   "outputs": [],
   "source": [
    "df.isnull().sum()"
   ]
  },
  {
   "cell_type": "code",
   "execution_count": null,
   "id": "2fe0a908",
   "metadata": {},
   "outputs": [],
   "source": [
    "df = df.drop(columns = ['description'])"
   ]
  },
  {
   "cell_type": "code",
   "execution_count": null,
   "id": "c9284b09",
   "metadata": {},
   "outputs": [],
   "source": [
    "df.isnull().sum()"
   ]
  },
  {
   "cell_type": "code",
   "execution_count": null,
   "id": "9b0675d9",
   "metadata": {},
   "outputs": [],
   "source": [
    "df['price_per_sqft'] = df['price_per_sqft'].fillna(df['price_per_sqft'].mode()[0])\n",
    "df['price_per_sqft'].unique()"
   ]
  },
  {
   "cell_type": "code",
   "execution_count": null,
   "id": "adc073af",
   "metadata": {},
   "outputs": [],
   "source": [
    "df['price_per_sqft'].isnull().sum()"
   ]
  },
  {
   "cell_type": "code",
   "execution_count": null,
   "id": "5ec3b0f2",
   "metadata": {},
   "outputs": [],
   "source": [
    "df"
   ]
  },
  {
   "cell_type": "code",
   "execution_count": null,
   "id": "7adce815",
   "metadata": {},
   "outputs": [],
   "source": [
    "df.isnull().sum()"
   ]
  },
  {
   "cell_type": "code",
   "execution_count": null,
   "id": "b126c043",
   "metadata": {},
   "outputs": [],
   "source": [
    "df['price'].unique()"
   ]
  },
  {
   "cell_type": "code",
   "execution_count": null,
   "id": "3f486ee0",
   "metadata": {},
   "outputs": [],
   "source": [
    "price_pattern = [r\"^₹\\d+(\\.\\d+)? Lac$\", r\"^₹\\d+(\\.\\d+)? Cr$\"]\n",
    "not_same =[]\n",
    "\n",
    "for p in df['price']:\n",
    "    if not any(re.match(pattern, str(p)) for pattern in price_pattern):\n",
    "        not_same.append(p)\n",
    "print(set(not_same))"
   ]
  },
  {
   "cell_type": "code",
   "execution_count": null,
   "id": "d66f9681",
   "metadata": {},
   "outputs": [],
   "source": [
    "df['price'] = df['price'].replace(not_same, np.nan)\n",
    "df['price'] = df['price'].fillna(df['price'].mode()[0])"
   ]
  },
  {
   "cell_type": "code",
   "execution_count": null,
   "id": "8defc4a9",
   "metadata": {},
   "outputs": [],
   "source": [
    "'Call for Price' in df['price']"
   ]
  },
  {
   "cell_type": "code",
   "execution_count": null,
   "id": "d546b8b3",
   "metadata": {},
   "outputs": [],
   "source": [
    "df"
   ]
  },
  {
   "cell_type": "code",
   "execution_count": null,
   "id": "e76cd726",
   "metadata": {},
   "outputs": [],
   "source": [
    "df.duplicated().sum()"
   ]
  },
  {
   "cell_type": "code",
   "execution_count": null,
   "id": "41cd3794",
   "metadata": {},
   "outputs": [],
   "source": [
    "df = df.drop_duplicates(keep = 'first')"
   ]
  },
  {
   "cell_type": "code",
   "execution_count": null,
   "id": "48c0471b",
   "metadata": {},
   "outputs": [],
   "source": [
    "df['areaWithType'].unique()"
   ]
  },
  {
   "cell_type": "code",
   "execution_count": null,
   "id": "c3c4a765",
   "metadata": {},
   "outputs": [],
   "source": [
    "areaWithType_unrelated_values = ['Transaction', 'Status']\n",
    "df['areaWithType'] = df['areaWithType'].replace(areaWithType_unrelated_values, np.nan)\n",
    "df['areaWithType'] = df['areaWithType'].fillna(df['areaWithType'].mode()[0])"
   ]
  },
  {
   "cell_type": "code",
   "execution_count": null,
   "id": "c9ca79be",
   "metadata": {},
   "outputs": [],
   "source": [
    "df['square_feet'].unique()"
   ]
  },
  {
   "cell_type": "code",
   "execution_count": null,
   "id": "8718303b",
   "metadata": {},
   "outputs": [],
   "source": [
    "square_feet_patt = r\"^\\d+\\s*sqft$\"\n",
    "not_include = []\n",
    "for s in df['square_feet']:\n",
    "    if not re.match(square_feet_patt, str(s)):\n",
    "        not_include.append(s)\n",
    "    print(set(s))"
   ]
  },
  {
   "cell_type": "code",
   "execution_count": null,
   "id": "a2834d39",
   "metadata": {},
   "outputs": [],
   "source": [
    "df['square_feet'] = df['square_feet'].replace(not_include, np.nan)\n",
    "df['square_feet'] = df['square_feet'].fillna(df['square_feet'].mode()[0])"
   ]
  },
  {
   "cell_type": "code",
   "execution_count": null,
   "id": "31fb3e13",
   "metadata": {},
   "outputs": [],
   "source": [
    "df['status'].unique()"
   ]
  },
  {
   "cell_type": "code",
   "execution_count": null,
   "id": "77252a4c",
   "metadata": {},
   "outputs": [],
   "source": [
    "status_non_related_values = ['Power Of Attorney', 'Ready to Move', 'New Property', 'Freehold', 'Resale', 'Const. Age New Construction']\n",
    "df['status'] = df['status'].replace(status_non_related_values, np.nan)\n",
    "df['status'] = df['status'].fillna(df['status'].mode()[0])"
   ]
  },
  {
   "cell_type": "code",
   "execution_count": null,
   "id": "4d1c418a",
   "metadata": {},
   "outputs": [],
   "source": [
    "df"
   ]
  },
  {
   "cell_type": "code",
   "execution_count": null,
   "id": "64d0d172",
   "metadata": {},
   "outputs": [],
   "source": [
    "df['transaction'].unique()"
   ]
  },
  {
   "cell_type": "code",
   "execution_count": null,
   "id": "f3c2c6ce",
   "metadata": {},
   "outputs": [
    {
     "name": "stdout",
     "output_type": "stream",
     "text": [
      "{'7 out of 17', '9 out of 17', '12 out of 14', '2 out of 10', '3 out of 5', '3 out of 19', '9 out of 14', '17 out of 18', '18 out of 21', '4 out of 14', '5 out of 15', '19 out of 19', '8 out of 12', '13 out of 13', '15 out of 20', '10 out of 18', '8 out of 9', '6 out of 18', '9 out of 19', '3 out of 13', '8 out of 20', '5 out of 9', '7 out of 10', '13 out of 14', '5 out of 14', '6 out of 13', '4 out of 12', '6 out of 12', '3 out of 7', '6 out of 14', '11 out of 12', '2 out of 9', '3 out of 4', '1 out of 10', '2 out of 17', '5 out of 8', '10 out of 20', '10 out of 12', '4 out of 9', '12 out of 13', '4 out of 21', '8 out of 8', '9 out of 12', '2 out of 6', '1 out of 9', '2 out of 15', '5 out of 18', '2 out of 19', '1 out of 18', '1 out of 3', '3 out of 12', '1 out of 2', '1 out of 4', '4 out of 4', '6 out of 7', '3 out of 15', '15 out of 18', '13 out of 15', '2 out of 11', '1 out of 14', '9 out of 25', '3 out of 6', '11 out of 11', '1 out of 15', '3 out of 10', '18 out of 19', '5 out of 19', '14 out of 15', '11 out of 20', '14 out of 20', '15 out of 21', '3 out of 8', '7 out of 8', '11 out of 15', '15 out of 19', '10 out of 13', '3 out of 20', '2 out of 4', '2 out of 13', '6 out of 6', '7 out of 11', '7 out of 14', '5 out of 16', '5 out of 13', '6 out of 10', '5 out of 11', '10 out of 21', '4 out of 18', '16 out of 20', '12 out of 19', '4 out of 6', '1 out of 7', '14 out of 14', '9 out of 10', '9 out of 21', '2 out of 3', '1 out of 6', '9 out of 11', '1 out of 11', '9 out of 15', '6 out of 11', '7 out of 9', '8 out of 14', '4 out of 11', '7 out of 12', '4 out of 20', '7 out of 20', '9 out of 13', '17 out of 19', '6 out of 20', '4 out of 5', '1 out of 13', '8 out of 10', '2 out of 2', '1 out of 8', '9 out of 20', '11 out of 13', '17 out of 20', '2 out of 14', '4 out of 10', '7 out of 7', '4 out of 8', '5 out of 7', '10 out of 10', '5 out of 20', '1 out of 20', '14 out of 19', '8 out of 11', '9 out of 18', '16 out of 18', '2 out of 7', '15 out of 15', '3 out of 18', '4 out of 19', '11 out of 14', '4 out of 7', '2 out of 8', '7 out of 15', '8 out of 13', '8 out of 19', '1 out of 5', '1 out of 30', '3 out of 11', '9 out of 9', '5 out of 10', '10 out of 19', '6 out of 9', '1 out of 1', '10 out of 14', '7 out of 13', '3 out of 14', '4 out of 13', '1 out of 12', '3 out of 9', '7 out of 18', '5 out of 12', '7 out of 19', '12 out of 12', '6 out of 15', '20 out of 21', '4 out of 15', '5 out of 6', '10 out of 15', '10 out of 11', '20 out of 20', '12 out of 15', '3 out of 3', '5 out of 5', '6 out of 19', '2 out of 5', '13 out of 19', '16 out of 19', '8 out of 15', '2 out of 12', '6 out of 8'}\n"
     ]
    },
    {
     "name": "stderr",
     "output_type": "stream",
     "text": [
      "C:\\Users\\MOBPC\\AppData\\Local\\Temp\\ipykernel_416\\1254396848.py:11: FutureWarning: Downcasting behavior in `replace` is deprecated and will be removed in a future version. To retain the old behavior, explicitly call `result.infer_objects(copy=False)`. To opt-in to the future behavior, set `pd.set_option('future.no_silent_downcasting', True)`\n",
      "  df['floor'] = df['floor'].replace(not_floor, np.nan)\n",
      "C:\\Users\\MOBPC\\AppData\\Local\\Temp\\ipykernel_416\\1254396848.py:11: SettingWithCopyWarning: \n",
      "A value is trying to be set on a copy of a slice from a DataFrame.\n",
      "Try using .loc[row_indexer,col_indexer] = value instead\n",
      "\n",
      "See the caveats in the documentation: https://pandas.pydata.org/pandas-docs/stable/user_guide/indexing.html#returning-a-view-versus-a-copy\n",
      "  df['floor'] = df['floor'].replace(not_floor, np.nan)\n"
     ]
    },
    {
     "ename": "KeyError",
     "evalue": "0",
     "output_type": "error",
     "traceback": [
      "\u001b[31m---------------------------------------------------------------------------\u001b[39m",
      "\u001b[31mValueError\u001b[39m                                Traceback (most recent call last)",
      "\u001b[36mFile \u001b[39m\u001b[32mc:\\Python313\\Lib\\site-packages\\pandas\\core\\indexes\\range.py:413\u001b[39m, in \u001b[36mRangeIndex.get_loc\u001b[39m\u001b[34m(self, key)\u001b[39m\n\u001b[32m    412\u001b[39m \u001b[38;5;28;01mtry\u001b[39;00m:\n\u001b[32m--> \u001b[39m\u001b[32m413\u001b[39m     \u001b[38;5;28;01mreturn\u001b[39;00m \u001b[38;5;28;43mself\u001b[39;49m\u001b[43m.\u001b[49m\u001b[43m_range\u001b[49m\u001b[43m.\u001b[49m\u001b[43mindex\u001b[49m\u001b[43m(\u001b[49m\u001b[43mnew_key\u001b[49m\u001b[43m)\u001b[49m\n\u001b[32m    414\u001b[39m \u001b[38;5;28;01mexcept\u001b[39;00m \u001b[38;5;167;01mValueError\u001b[39;00m \u001b[38;5;28;01mas\u001b[39;00m err:\n",
      "\u001b[31mValueError\u001b[39m: 0 is not in range",
      "\nThe above exception was the direct cause of the following exception:\n",
      "\u001b[31mKeyError\u001b[39m                                  Traceback (most recent call last)",
      "\u001b[36mCell\u001b[39m\u001b[36m \u001b[39m\u001b[32mIn[1027]\u001b[39m\u001b[32m, line 12\u001b[39m\n\u001b[32m      8\u001b[39m \u001b[38;5;28mprint\u001b[39m(\u001b[38;5;28mset\u001b[39m(not_floor))\n\u001b[32m     11\u001b[39m df[\u001b[33m'\u001b[39m\u001b[33mfloor\u001b[39m\u001b[33m'\u001b[39m] = df[\u001b[33m'\u001b[39m\u001b[33mfloor\u001b[39m\u001b[33m'\u001b[39m].replace(not_floor, np.nan)\n\u001b[32m---> \u001b[39m\u001b[32m12\u001b[39m df[\u001b[33m'\u001b[39m\u001b[33mfloor\u001b[39m\u001b[33m'\u001b[39m] = df[\u001b[33m'\u001b[39m\u001b[33mfloor\u001b[39m\u001b[33m'\u001b[39m].fillna(\u001b[43mdf\u001b[49m\u001b[43m[\u001b[49m\u001b[33;43m'\u001b[39;49m\u001b[33;43mfloor\u001b[39;49m\u001b[33;43m'\u001b[39;49m\u001b[43m]\u001b[49m\u001b[43m.\u001b[49m\u001b[43mmode\u001b[49m\u001b[43m(\u001b[49m\u001b[43m)\u001b[49m\u001b[43m[\u001b[49m\u001b[32;43m0\u001b[39;49m\u001b[43m]\u001b[49m)\n",
      "\u001b[36mFile \u001b[39m\u001b[32mc:\\Python313\\Lib\\site-packages\\pandas\\core\\series.py:1121\u001b[39m, in \u001b[36mSeries.__getitem__\u001b[39m\u001b[34m(self, key)\u001b[39m\n\u001b[32m   1118\u001b[39m     \u001b[38;5;28;01mreturn\u001b[39;00m \u001b[38;5;28mself\u001b[39m._values[key]\n\u001b[32m   1120\u001b[39m \u001b[38;5;28;01melif\u001b[39;00m key_is_scalar:\n\u001b[32m-> \u001b[39m\u001b[32m1121\u001b[39m     \u001b[38;5;28;01mreturn\u001b[39;00m \u001b[38;5;28;43mself\u001b[39;49m\u001b[43m.\u001b[49m\u001b[43m_get_value\u001b[49m\u001b[43m(\u001b[49m\u001b[43mkey\u001b[49m\u001b[43m)\u001b[49m\n\u001b[32m   1123\u001b[39m \u001b[38;5;66;03m# Convert generator to list before going through hashable part\u001b[39;00m\n\u001b[32m   1124\u001b[39m \u001b[38;5;66;03m# (We will iterate through the generator there to check for slices)\u001b[39;00m\n\u001b[32m   1125\u001b[39m \u001b[38;5;28;01mif\u001b[39;00m is_iterator(key):\n",
      "\u001b[36mFile \u001b[39m\u001b[32mc:\\Python313\\Lib\\site-packages\\pandas\\core\\series.py:1237\u001b[39m, in \u001b[36mSeries._get_value\u001b[39m\u001b[34m(self, label, takeable)\u001b[39m\n\u001b[32m   1234\u001b[39m     \u001b[38;5;28;01mreturn\u001b[39;00m \u001b[38;5;28mself\u001b[39m._values[label]\n\u001b[32m   1236\u001b[39m \u001b[38;5;66;03m# Similar to Index.get_value, but we do not fall back to positional\u001b[39;00m\n\u001b[32m-> \u001b[39m\u001b[32m1237\u001b[39m loc = \u001b[38;5;28;43mself\u001b[39;49m\u001b[43m.\u001b[49m\u001b[43mindex\u001b[49m\u001b[43m.\u001b[49m\u001b[43mget_loc\u001b[49m\u001b[43m(\u001b[49m\u001b[43mlabel\u001b[49m\u001b[43m)\u001b[49m\n\u001b[32m   1239\u001b[39m \u001b[38;5;28;01mif\u001b[39;00m is_integer(loc):\n\u001b[32m   1240\u001b[39m     \u001b[38;5;28;01mreturn\u001b[39;00m \u001b[38;5;28mself\u001b[39m._values[loc]\n",
      "\u001b[36mFile \u001b[39m\u001b[32mc:\\Python313\\Lib\\site-packages\\pandas\\core\\indexes\\range.py:415\u001b[39m, in \u001b[36mRangeIndex.get_loc\u001b[39m\u001b[34m(self, key)\u001b[39m\n\u001b[32m    413\u001b[39m         \u001b[38;5;28;01mreturn\u001b[39;00m \u001b[38;5;28mself\u001b[39m._range.index(new_key)\n\u001b[32m    414\u001b[39m     \u001b[38;5;28;01mexcept\u001b[39;00m \u001b[38;5;167;01mValueError\u001b[39;00m \u001b[38;5;28;01mas\u001b[39;00m err:\n\u001b[32m--> \u001b[39m\u001b[32m415\u001b[39m         \u001b[38;5;28;01mraise\u001b[39;00m \u001b[38;5;167;01mKeyError\u001b[39;00m(key) \u001b[38;5;28;01mfrom\u001b[39;00m\u001b[38;5;250m \u001b[39m\u001b[34;01merr\u001b[39;00m\n\u001b[32m    416\u001b[39m \u001b[38;5;28;01mif\u001b[39;00m \u001b[38;5;28misinstance\u001b[39m(key, Hashable):\n\u001b[32m    417\u001b[39m     \u001b[38;5;28;01mraise\u001b[39;00m \u001b[38;5;167;01mKeyError\u001b[39;00m(key)\n",
      "\u001b[31mKeyError\u001b[39m: 0"
     ]
    }
   ],
   "source": [
    "floor_patt = r\"^₹[\\d,]+(\\.\\d+)?\\sCr$\"\n",
    "not_floor = []\n",
    "\n",
    "for f in df['floor']:\n",
    "    if not re.match(floor_patt, str(f)):\n",
    "        not_floor.append(f)\n",
    "\n",
    "print(set(not_floor))\n",
    "\n",
    "\n",
    "df['floor'] = df['floor'].replace(not_floor, np.nan)\n",
    "df['floor'] = df['floor'].fillna(df['floor'].mode()[0])"
   ]
  },
  {
   "cell_type": "code",
   "execution_count": 1022,
   "id": "02a77a3c",
   "metadata": {},
   "outputs": [
    {
     "name": "stderr",
     "output_type": "stream",
     "text": [
      "C:\\Users\\MOBPC\\AppData\\Local\\Temp\\ipykernel_416\\2606965829.py:2: SettingWithCopyWarning: \n",
      "A value is trying to be set on a copy of a slice from a DataFrame.\n",
      "Try using .loc[row_indexer,col_indexer] = value instead\n",
      "\n",
      "See the caveats in the documentation: https://pandas.pydata.org/pandas-docs/stable/user_guide/indexing.html#returning-a-view-versus-a-copy\n",
      "  df['facing'] = df['facing'].replace(facing_non_valid, np.nan)\n",
      "C:\\Users\\MOBPC\\AppData\\Local\\Temp\\ipykernel_416\\2606965829.py:3: SettingWithCopyWarning: \n",
      "A value is trying to be set on a copy of a slice from a DataFrame.\n",
      "Try using .loc[row_indexer,col_indexer] = value instead\n",
      "\n",
      "See the caveats in the documentation: https://pandas.pydata.org/pandas-docs/stable/user_guide/indexing.html#returning-a-view-versus-a-copy\n",
      "  df['facing'] = df['facing'].fillna(df['facing'].mode()[0])\n"
     ]
    }
   ],
   "source": [
    "facing_non_valid = ['Yes', '1 Covered,', '45 X 14 ft Sqft']\n",
    "df['facing'] = df['facing'].replace(facing_non_valid, np.nan)\n",
    "df['facing'] = df['facing'].fillna(df['facing'].mode()[0])"
   ]
  }
 ],
 "metadata": {
  "kernelspec": {
   "display_name": "Python 3",
   "language": "python",
   "name": "python3"
  },
  "language_info": {
   "codemirror_mode": {
    "name": "ipython",
    "version": 3
   },
   "file_extension": ".py",
   "mimetype": "text/x-python",
   "name": "python",
   "nbconvert_exporter": "python",
   "pygments_lexer": "ipython3",
   "version": "3.13.3"
  }
 },
 "nbformat": 4,
 "nbformat_minor": 5
}
