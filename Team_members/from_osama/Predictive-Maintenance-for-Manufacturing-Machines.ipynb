{
 "cells": [
  {
   "cell_type": "markdown",
   "id": "72d46526",
   "metadata": {},
   "source": [
    "# Predictive Maintenance for Manufacturing Machines"
   ]
  },
  {
   "cell_type": "markdown",
   "id": "0246043f",
   "metadata": {},
   "source": [
    "## Model 1: Failure Prediction"
   ]
  },
  {
   "cell_type": "markdown",
   "id": "8bc306f5",
   "metadata": {},
   "source": [
    "### Goal:"
   ]
  },
  {
   "cell_type": "markdown",
   "id": "19a7ed77",
   "metadata": {},
   "source": [
    "Is to reduce the time of downtime, is the machine is likly to fail and classify the type of failure."
   ]
  },
  {
   "cell_type": "code",
   "execution_count": 105,
   "id": "09a77f3b",
   "metadata": {},
   "outputs": [],
   "source": [
    "import pandas as pd\n",
    "import numpy as np\n",
    "from sklearn.model_selection import train_test_split\n",
    "from sklearn.compose import ColumnTransformer\n",
    "from sklearn.preprocessing import OneHotEncoder, StandardScaler\n",
    "from sklearn.pipeline import Pipeline\n",
    "from sklearn.linear_model import LogisticRegression\n",
    "from sklearn.ensemble import RandomForestClassifier, GradientBoostingClassifier\n",
    "from sklearn.metrics import accuracy_score\n",
    "from sklearn.model_selection import GridSearchCV\n",
    "from xgboost import XGBClassifier\n",
    "from sklearn.tree import DecisionTreeClassifier\n",
    "from sklearn.svm import SVC\n",
    "from sklearn.naive_bayes import GaussianNB\n",
    "from sklearn.metrics import precision_recall_curve, average_precision_score, classification_report\n"
   ]
  },
  {
   "cell_type": "code",
   "execution_count": 106,
   "id": "599bc671",
   "metadata": {},
   "outputs": [],
   "source": [
    "df = pd.read_csv(\"Data/ai4i2020.csv\")"
   ]
  },
  {
   "cell_type": "code",
   "execution_count": 107,
   "id": "edb53660",
   "metadata": {},
   "outputs": [
    {
     "data": {
      "text/plain": [
       "np.int64(0)"
      ]
     },
     "execution_count": 107,
     "metadata": {},
     "output_type": "execute_result"
    }
   ],
   "source": [
    "df.duplicated().sum()"
   ]
  },
  {
   "cell_type": "code",
   "execution_count": 108,
   "id": "a247d4f0",
   "metadata": {},
   "outputs": [
    {
     "data": {
      "text/plain": [
       "UDI                        0\n",
       "Product ID                 0\n",
       "Type                       0\n",
       "Air temperature [K]        0\n",
       "Process temperature [K]    0\n",
       "Rotational speed [rpm]     0\n",
       "Torque [Nm]                0\n",
       "Tool wear [min]            0\n",
       "Machine failure            0\n",
       "TWF                        0\n",
       "HDF                        0\n",
       "PWF                        0\n",
       "OSF                        0\n",
       "RNF                        0\n",
       "dtype: int64"
      ]
     },
     "execution_count": 108,
     "metadata": {},
     "output_type": "execute_result"
    }
   ],
   "source": [
    "df.isnull().sum()"
   ]
  },
  {
   "cell_type": "code",
   "execution_count": 109,
   "id": "7ee627eb",
   "metadata": {},
   "outputs": [],
   "source": [
    "df = df.drop(columns=[\"UDI\", \"Product ID\"])"
   ]
  },
  {
   "cell_type": "code",
   "execution_count": 110,
   "id": "1a09f1cc",
   "metadata": {},
   "outputs": [
    {
     "data": {
      "text/html": [
       "<div>\n",
       "<style scoped>\n",
       "    .dataframe tbody tr th:only-of-type {\n",
       "        vertical-align: middle;\n",
       "    }\n",
       "\n",
       "    .dataframe tbody tr th {\n",
       "        vertical-align: top;\n",
       "    }\n",
       "\n",
       "    .dataframe thead th {\n",
       "        text-align: right;\n",
       "    }\n",
       "</style>\n",
       "<table border=\"1\" class=\"dataframe\">\n",
       "  <thead>\n",
       "    <tr style=\"text-align: right;\">\n",
       "      <th></th>\n",
       "      <th>Type</th>\n",
       "      <th>Air temperature [K]</th>\n",
       "      <th>Process temperature [K]</th>\n",
       "      <th>Rotational speed [rpm]</th>\n",
       "      <th>Torque [Nm]</th>\n",
       "      <th>Tool wear [min]</th>\n",
       "      <th>Machine failure</th>\n",
       "      <th>TWF</th>\n",
       "      <th>HDF</th>\n",
       "      <th>PWF</th>\n",
       "      <th>OSF</th>\n",
       "      <th>RNF</th>\n",
       "    </tr>\n",
       "  </thead>\n",
       "  <tbody>\n",
       "    <tr>\n",
       "      <th>0</th>\n",
       "      <td>M</td>\n",
       "      <td>298.1</td>\n",
       "      <td>308.6</td>\n",
       "      <td>1551</td>\n",
       "      <td>42.8</td>\n",
       "      <td>0</td>\n",
       "      <td>0</td>\n",
       "      <td>0</td>\n",
       "      <td>0</td>\n",
       "      <td>0</td>\n",
       "      <td>0</td>\n",
       "      <td>0</td>\n",
       "    </tr>\n",
       "    <tr>\n",
       "      <th>1</th>\n",
       "      <td>L</td>\n",
       "      <td>298.2</td>\n",
       "      <td>308.7</td>\n",
       "      <td>1408</td>\n",
       "      <td>46.3</td>\n",
       "      <td>3</td>\n",
       "      <td>0</td>\n",
       "      <td>0</td>\n",
       "      <td>0</td>\n",
       "      <td>0</td>\n",
       "      <td>0</td>\n",
       "      <td>0</td>\n",
       "    </tr>\n",
       "    <tr>\n",
       "      <th>2</th>\n",
       "      <td>L</td>\n",
       "      <td>298.1</td>\n",
       "      <td>308.5</td>\n",
       "      <td>1498</td>\n",
       "      <td>49.4</td>\n",
       "      <td>5</td>\n",
       "      <td>0</td>\n",
       "      <td>0</td>\n",
       "      <td>0</td>\n",
       "      <td>0</td>\n",
       "      <td>0</td>\n",
       "      <td>0</td>\n",
       "    </tr>\n",
       "    <tr>\n",
       "      <th>3</th>\n",
       "      <td>L</td>\n",
       "      <td>298.2</td>\n",
       "      <td>308.6</td>\n",
       "      <td>1433</td>\n",
       "      <td>39.5</td>\n",
       "      <td>7</td>\n",
       "      <td>0</td>\n",
       "      <td>0</td>\n",
       "      <td>0</td>\n",
       "      <td>0</td>\n",
       "      <td>0</td>\n",
       "      <td>0</td>\n",
       "    </tr>\n",
       "    <tr>\n",
       "      <th>4</th>\n",
       "      <td>L</td>\n",
       "      <td>298.2</td>\n",
       "      <td>308.7</td>\n",
       "      <td>1408</td>\n",
       "      <td>40.0</td>\n",
       "      <td>9</td>\n",
       "      <td>0</td>\n",
       "      <td>0</td>\n",
       "      <td>0</td>\n",
       "      <td>0</td>\n",
       "      <td>0</td>\n",
       "      <td>0</td>\n",
       "    </tr>\n",
       "    <tr>\n",
       "      <th>...</th>\n",
       "      <td>...</td>\n",
       "      <td>...</td>\n",
       "      <td>...</td>\n",
       "      <td>...</td>\n",
       "      <td>...</td>\n",
       "      <td>...</td>\n",
       "      <td>...</td>\n",
       "      <td>...</td>\n",
       "      <td>...</td>\n",
       "      <td>...</td>\n",
       "      <td>...</td>\n",
       "      <td>...</td>\n",
       "    </tr>\n",
       "    <tr>\n",
       "      <th>9995</th>\n",
       "      <td>M</td>\n",
       "      <td>298.8</td>\n",
       "      <td>308.4</td>\n",
       "      <td>1604</td>\n",
       "      <td>29.5</td>\n",
       "      <td>14</td>\n",
       "      <td>0</td>\n",
       "      <td>0</td>\n",
       "      <td>0</td>\n",
       "      <td>0</td>\n",
       "      <td>0</td>\n",
       "      <td>0</td>\n",
       "    </tr>\n",
       "    <tr>\n",
       "      <th>9996</th>\n",
       "      <td>H</td>\n",
       "      <td>298.9</td>\n",
       "      <td>308.4</td>\n",
       "      <td>1632</td>\n",
       "      <td>31.8</td>\n",
       "      <td>17</td>\n",
       "      <td>0</td>\n",
       "      <td>0</td>\n",
       "      <td>0</td>\n",
       "      <td>0</td>\n",
       "      <td>0</td>\n",
       "      <td>0</td>\n",
       "    </tr>\n",
       "    <tr>\n",
       "      <th>9997</th>\n",
       "      <td>M</td>\n",
       "      <td>299.0</td>\n",
       "      <td>308.6</td>\n",
       "      <td>1645</td>\n",
       "      <td>33.4</td>\n",
       "      <td>22</td>\n",
       "      <td>0</td>\n",
       "      <td>0</td>\n",
       "      <td>0</td>\n",
       "      <td>0</td>\n",
       "      <td>0</td>\n",
       "      <td>0</td>\n",
       "    </tr>\n",
       "    <tr>\n",
       "      <th>9998</th>\n",
       "      <td>H</td>\n",
       "      <td>299.0</td>\n",
       "      <td>308.7</td>\n",
       "      <td>1408</td>\n",
       "      <td>48.5</td>\n",
       "      <td>25</td>\n",
       "      <td>0</td>\n",
       "      <td>0</td>\n",
       "      <td>0</td>\n",
       "      <td>0</td>\n",
       "      <td>0</td>\n",
       "      <td>0</td>\n",
       "    </tr>\n",
       "    <tr>\n",
       "      <th>9999</th>\n",
       "      <td>M</td>\n",
       "      <td>299.0</td>\n",
       "      <td>308.7</td>\n",
       "      <td>1500</td>\n",
       "      <td>40.2</td>\n",
       "      <td>30</td>\n",
       "      <td>0</td>\n",
       "      <td>0</td>\n",
       "      <td>0</td>\n",
       "      <td>0</td>\n",
       "      <td>0</td>\n",
       "      <td>0</td>\n",
       "    </tr>\n",
       "  </tbody>\n",
       "</table>\n",
       "<p>10000 rows × 12 columns</p>\n",
       "</div>"
      ],
      "text/plain": [
       "     Type  Air temperature [K]  Process temperature [K]  \\\n",
       "0       M                298.1                    308.6   \n",
       "1       L                298.2                    308.7   \n",
       "2       L                298.1                    308.5   \n",
       "3       L                298.2                    308.6   \n",
       "4       L                298.2                    308.7   \n",
       "...   ...                  ...                      ...   \n",
       "9995    M                298.8                    308.4   \n",
       "9996    H                298.9                    308.4   \n",
       "9997    M                299.0                    308.6   \n",
       "9998    H                299.0                    308.7   \n",
       "9999    M                299.0                    308.7   \n",
       "\n",
       "      Rotational speed [rpm]  Torque [Nm]  Tool wear [min]  Machine failure  \\\n",
       "0                       1551         42.8                0                0   \n",
       "1                       1408         46.3                3                0   \n",
       "2                       1498         49.4                5                0   \n",
       "3                       1433         39.5                7                0   \n",
       "4                       1408         40.0                9                0   \n",
       "...                      ...          ...              ...              ...   \n",
       "9995                    1604         29.5               14                0   \n",
       "9996                    1632         31.8               17                0   \n",
       "9997                    1645         33.4               22                0   \n",
       "9998                    1408         48.5               25                0   \n",
       "9999                    1500         40.2               30                0   \n",
       "\n",
       "      TWF  HDF  PWF  OSF  RNF  \n",
       "0       0    0    0    0    0  \n",
       "1       0    0    0    0    0  \n",
       "2       0    0    0    0    0  \n",
       "3       0    0    0    0    0  \n",
       "4       0    0    0    0    0  \n",
       "...   ...  ...  ...  ...  ...  \n",
       "9995    0    0    0    0    0  \n",
       "9996    0    0    0    0    0  \n",
       "9997    0    0    0    0    0  \n",
       "9998    0    0    0    0    0  \n",
       "9999    0    0    0    0    0  \n",
       "\n",
       "[10000 rows x 12 columns]"
      ]
     },
     "execution_count": 110,
     "metadata": {},
     "output_type": "execute_result"
    }
   ],
   "source": [
    "df"
   ]
  },
  {
   "cell_type": "code",
   "execution_count": 111,
   "id": "9e1caa03",
   "metadata": {},
   "outputs": [],
   "source": [
    "features = [\"Type\", \"Air temperature [K]\", \"Process temperature [K]\", \"Rotational speed [rpm]\", \"Torque [Nm]\", \"Tool wear [min]\"]\n",
    "target = \"Machine failure\""
   ]
  },
  {
   "cell_type": "code",
   "execution_count": 112,
   "id": "06002b64",
   "metadata": {},
   "outputs": [],
   "source": [
    "X = df[features]\n",
    "y = df[target]"
   ]
  },
  {
   "cell_type": "markdown",
   "id": "907103c8",
   "metadata": {},
   "source": [
    "### Train/Test Split"
   ]
  },
  {
   "cell_type": "code",
   "execution_count": 113,
   "id": "57549e04",
   "metadata": {},
   "outputs": [],
   "source": [
    "X_train, X_test, y_train, y_test = train_test_split(\n",
    "    X, y, test_size=0.2, random_state=42, stratify=y\n",
    ")"
   ]
  },
  {
   "cell_type": "markdown",
   "id": "4dbfc61b",
   "metadata": {},
   "source": [
    "### Preprocessing"
   ]
  },
  {
   "cell_type": "code",
   "execution_count": 114,
   "id": "3473fbdf",
   "metadata": {},
   "outputs": [
    {
     "name": "stdout",
     "output_type": "stream",
     "text": [
      "<class 'pandas.core.frame.DataFrame'>\n",
      "RangeIndex: 10000 entries, 0 to 9999\n",
      "Data columns (total 12 columns):\n",
      " #   Column                   Non-Null Count  Dtype  \n",
      "---  ------                   --------------  -----  \n",
      " 0   Type                     10000 non-null  object \n",
      " 1   Air temperature [K]      10000 non-null  float64\n",
      " 2   Process temperature [K]  10000 non-null  float64\n",
      " 3   Rotational speed [rpm]   10000 non-null  int64  \n",
      " 4   Torque [Nm]              10000 non-null  float64\n",
      " 5   Tool wear [min]          10000 non-null  int64  \n",
      " 6   Machine failure          10000 non-null  int64  \n",
      " 7   TWF                      10000 non-null  int64  \n",
      " 8   HDF                      10000 non-null  int64  \n",
      " 9   PWF                      10000 non-null  int64  \n",
      " 10  OSF                      10000 non-null  int64  \n",
      " 11  RNF                      10000 non-null  int64  \n",
      "dtypes: float64(3), int64(8), object(1)\n",
      "memory usage: 937.6+ KB\n"
     ]
    }
   ],
   "source": [
    "df.info()"
   ]
  },
  {
   "cell_type": "code",
   "execution_count": 115,
   "id": "004f0807",
   "metadata": {},
   "outputs": [],
   "source": [
    "num_features = X.select_dtypes(include=[\"int64\", \"float64\"]).columns.tolist()\n",
    "cat_features = X.select_dtypes(include=[\"object\"]).columns.tolist()"
   ]
  },
  {
   "cell_type": "code",
   "execution_count": 116,
   "id": "25240ff1",
   "metadata": {},
   "outputs": [],
   "source": [
    "preprocessor = ColumnTransformer(\n",
    "    transformers=[\n",
    "        (\"num\", StandardScaler(), num_features),\n",
    "        (\"cat\", OneHotEncoder(), cat_features)\n",
    "    ]\n",
    ")"
   ]
  },
  {
   "cell_type": "markdown",
   "id": "bf56e2db",
   "metadata": {},
   "source": [
    "### Model Defination"
   ]
  },
  {
   "cell_type": "code",
   "execution_count": 117,
   "id": "6f3c7d30",
   "metadata": {},
   "outputs": [],
   "source": [
    "models = {\n",
    "    \"Logistic Regression\": LogisticRegression(max_iter=1000, random_state=42),\n",
    "    \"Random Forest\": RandomForestClassifier(random_state=42),\n",
    "    \"Gradient Boosting\": GradientBoostingClassifier(random_state=42)\n",
    "}"
   ]
  },
  {
   "cell_type": "markdown",
   "id": "7af5e5d9",
   "metadata": {},
   "source": [
    "### Train and Evaluate"
   ]
  },
  {
   "cell_type": "code",
   "execution_count": 118,
   "id": "a19e691b",
   "metadata": {},
   "outputs": [
    {
     "name": "stdout",
     "output_type": "stream",
     "text": [
      "Logistic Regression Accuracy: 0.968\n",
      "Random Forest Accuracy: 0.981\n",
      "Gradient Boosting Accuracy: 0.986\n"
     ]
    }
   ],
   "source": [
    "for name, model in models.items():\n",
    "    pipe = Pipeline([\n",
    "        (\"preprocessor\", preprocessor),\n",
    "        (\"clf\", model)\n",
    "    ])\n",
    "    pipe.fit(X_train, y_train)\n",
    "    y_pred = pipe.predict(X_test)\n",
    "    acc = accuracy_score(y_test, y_pred)\n",
    "    print(f\"{name} Accuracy: {acc:.3f}\")"
   ]
  },
  {
   "cell_type": "markdown",
   "id": "5fc3e734",
   "metadata": {},
   "source": [
    "## Model 2: Failure Type Classification"
   ]
  },
  {
   "cell_type": "code",
   "execution_count": 119,
   "id": "3f23939f",
   "metadata": {},
   "outputs": [],
   "source": [
    "failure_cols = [\"TWF\", \"HDF\", \"PWF\", \"OSF\", \"RNF\"]\n",
    "df[\"failure_type\"] = df[failure_cols].idxmax(axis=1)\n",
    "df_fail = df[df[failure_cols].sum(axis=1) > 0].copy()           "
   ]
  },
  {
   "cell_type": "code",
   "execution_count": 120,
   "id": "86f7f146",
   "metadata": {},
   "outputs": [],
   "source": [
    "features_failure = [\"Type\", \"Air temperature [K]\", \"Process temperature [K]\", \"Rotational speed [rpm]\", \"Torque [Nm]\", \"Tool wear [min]\"]\n",
    "target_failure = \"failure_type\""
   ]
  },
  {
   "cell_type": "code",
   "execution_count": 121,
   "id": "00d712c9",
   "metadata": {},
   "outputs": [],
   "source": [
    "X = df_fail[features]\n",
    "y = df_fail[target]"
   ]
  },
  {
   "cell_type": "markdown",
   "id": "aa58fa2b",
   "metadata": {},
   "source": [
    "### Train/Test Split"
   ]
  },
  {
   "cell_type": "code",
   "execution_count": 122,
   "id": "31061486",
   "metadata": {},
   "outputs": [],
   "source": [
    "X_train, X_test, y_train, y_test = train_test_split(\n",
    "    X, y, test_size=0.2, random_state=42, stratify=y\n",
    ")"
   ]
  },
  {
   "cell_type": "code",
   "execution_count": 123,
   "id": "144c7198",
   "metadata": {},
   "outputs": [],
   "source": [
    "num_features = X.select_dtypes(include=[\"int64\", \"float64\"]).columns.tolist()\n",
    "cat_features = X.select_dtypes(include=[\"object\", \"category\"]).columns.tolist()"
   ]
  },
  {
   "cell_type": "markdown",
   "id": "3b69db9d",
   "metadata": {},
   "source": [
    "### Preprocessing"
   ]
  },
  {
   "cell_type": "code",
   "execution_count": 124,
   "id": "9217bd4c",
   "metadata": {},
   "outputs": [],
   "source": [
    "preprocessor = ColumnTransformer(\n",
    "    transformers=[\n",
    "        (\"num\", StandardScaler(), num_features),\n",
    "        (\"cat\", OneHotEncoder(handle_unknown=\"ignore\"), cat_features),  # <- same as previous code\n",
    "    ],\n",
    "    remainder=\"drop\",\n",
    "    sparse_threshold=0,\n",
    ")"
   ]
  },
  {
   "cell_type": "markdown",
   "id": "74add03e",
   "metadata": {},
   "source": [
    "### Model Defination"
   ]
  },
  {
   "cell_type": "code",
   "execution_count": 125,
   "id": "7d9d15ca",
   "metadata": {},
   "outputs": [],
   "source": [
    "models = {\n",
    "    \"Decision Tree\": DecisionTreeClassifier(random_state=42, class_weight=\"balanced\"),\n",
    "    \"SVM (RBF)\": SVC(kernel=\"rbf\", gamma=\"scale\", C=1.0, class_weight=\"balanced\"),\n",
    "    \"Naive Bayes\": GaussianNB(),\n",
    "}"
   ]
  },
  {
   "cell_type": "markdown",
   "id": "da609aa4",
   "metadata": {},
   "source": [
    "### Train and Evaluate\n"
   ]
  },
  {
   "cell_type": "code",
   "execution_count": 126,
   "id": "c0e66991",
   "metadata": {},
   "outputs": [
    {
     "name": "stdout",
     "output_type": "stream",
     "text": [
      "Decision Tree Accuracy: 0.971\n",
      "SVM (RBF) Accuracy: 0.914\n",
      "Naive Bayes Accuracy: 0.900\n"
     ]
    }
   ],
   "source": [
    "for name, clf in models.items():\n",
    "    pipe = Pipeline([(\"pre\", preprocessor), (\"clf\", clf)])\n",
    "    pipe.fit(X_train, y_train)\n",
    "    y_pred = pipe.predict(X_test)\n",
    "    print(f\"{name} Accuracy: {accuracy_score(y_test, y_pred):.3f}\")"
   ]
  },
  {
   "cell_type": "markdown",
   "id": "2f9bdd09",
   "metadata": {},
   "source": [
    "## Evaluation"
   ]
  },
  {
   "cell_type": "markdown",
   "id": "21cb75d1",
   "metadata": {},
   "source": [
    "### Model 1"
   ]
  },
  {
   "cell_type": "code",
   "execution_count": 127,
   "id": "bd47af60",
   "metadata": {},
   "outputs": [
    {
     "name": "stdout",
     "output_type": "stream",
     "text": [
      "\n",
      "=== Logistic Regression — Precision–Recall ===\n",
      "PR-AUC: 0.9872 | Best thr: 0.078 | P: 0.971 | R: 1.000 | F1: 0.985\n",
      "              precision    recall  f1-score   support\n",
      "\n",
      "  No Failure     1.0000    0.2500    0.4000         4\n",
      "     Failure     0.9565    1.0000    0.9778        66\n",
      "\n",
      "    accuracy                         0.9571        70\n",
      "   macro avg     0.9783    0.6250    0.6889        70\n",
      "weighted avg     0.9590    0.9571    0.9448        70\n",
      "\n",
      "\n",
      "=== Random Forest — Precision–Recall ===\n",
      "PR-AUC: 0.9998 | Best thr: 0.647 | P: 0.985 | R: 1.000 | F1: 0.992\n",
      "              precision    recall  f1-score   support\n",
      "\n",
      "  No Failure     1.0000    0.2500    0.4000         4\n",
      "     Failure     0.9565    1.0000    0.9778        66\n",
      "\n",
      "    accuracy                         0.9571        70\n",
      "   macro avg     0.9783    0.6250    0.6889        70\n",
      "weighted avg     0.9590    0.9571    0.9448        70\n",
      "\n",
      "\n",
      "=== Gradient Boosting — Precision–Recall ===\n",
      "PR-AUC: 0.9973 | Best thr: 0.472 | P: 0.985 | R: 1.000 | F1: 0.992\n",
      "              precision    recall  f1-score   support\n",
      "\n",
      "  No Failure     1.0000    0.5000    0.6667         4\n",
      "     Failure     0.9706    1.0000    0.9851        66\n",
      "\n",
      "    accuracy                         0.9714        70\n",
      "   macro avg     0.9853    0.7500    0.8259        70\n",
      "weighted avg     0.9723    0.9714    0.9669        70\n",
      "\n",
      "\n",
      "=== PR Summary (higher PR-AUC is better) ===\n",
      "              model   pr_auc  best_thr  precision  recall       f1\n",
      "      Random Forest 0.999774  0.646667   0.985075     1.0 0.992481\n",
      "  Gradient Boosting 0.997305  0.472058   0.985075     1.0 0.992481\n",
      "Logistic Regression 0.987240  0.078135   0.970588     1.0 0.985075\n"
     ]
    }
   ],
   "source": [
    "def evaluate_pr(y_true, y_scores, name):\n",
    "    precision, recall, thresholds = precision_recall_curve(y_true, y_scores)\n",
    "    pr_auc = average_precision_score(y_true, y_scores)\n",
    "    f1 = 2 * (precision * recall) / (precision + recall + 1e-12)\n",
    "    best_idx = np.nanargmax(f1[1:]) + 1\n",
    "    best_thr = thresholds[best_idx - 1]         \n",
    "    y_pred = (y_scores >= best_thr).astype(int)\n",
    "\n",
    "    print(f\"\\n=== {name} — Precision–Recall ===\")\n",
    "    print(f\"PR-AUC: {pr_auc:.4f} | Best thr: {best_thr:.3f} | \"\n",
    "          f\"P: {precision[best_idx]:.3f} | R: {recall[best_idx]:.3f} | F1: {f1[best_idx]:.3f}\")\n",
    "    print(classification_report(y_true, y_pred, target_names=[\"No Failure\", \"Failure\"], digits=4))\n",
    "\n",
    "    return {\"model\": name, \"pr_auc\": pr_auc, \"best_thr\": best_thr,\n",
    "            \"precision\": float(precision[best_idx]),\n",
    "            \"recall\": float(recall[best_idx]),\n",
    "            \"f1\": float(f1[best_idx])}\n",
    "\n",
    "\n",
    "models = {\n",
    "    \"Logistic Regression\": LogisticRegression(max_iter=2000, class_weight=\"balanced\", random_state=42),\n",
    "    \"Random Forest\": RandomForestClassifier(n_estimators=300, class_weight=\"balanced_subsample\", random_state=42),\n",
    "    \"Gradient Boosting\": GradientBoostingClassifier(random_state=42),\n",
    "}\n",
    "\n",
    "summary = []\n",
    "for name, clf in models.items():\n",
    "    pipe = Pipeline([(\"pre\", preprocessor), (\"clf\", clf)])\n",
    "    pipe.fit(X_train, y_train)\n",
    "    y_scores = pipe.predict_proba(X_test)[:, 1]\n",
    "    summary.append(evaluate_pr(y_test, y_scores, name))\n",
    "\n",
    "print(\"\\n=== PR Summary (higher PR-AUC is better) ===\")\n",
    "print(pd.DataFrame(summary).sort_values(\"pr_auc\", ascending=False).to_string(index=False))\n"
   ]
  },
  {
   "cell_type": "code",
   "execution_count": 133,
   "id": "b8c5038b",
   "metadata": {},
   "outputs": [],
   "source": [
    "import matplotlib.pyplot as plt\n",
    "from sklearn.metrics import confusion_matrix, ConfusionMatrixDisplay\n",
    "import numpy as np\n",
    "\n",
    "def plot_confusion_matrices(y_true, y_pred, labels, title_prefix=\"\"):\n",
    "    cm = confusion_matrix(y_true, y_pred, labels=labels)\n",
    "    fig, ax = plt.subplots(figsize=(6, 5))\n",
    "    disp = ConfusionMatrixDisplay(confusion_matrix=cm, display_labels=labels)\n",
    "    disp.plot(ax=ax, colorbar=False)\n",
    "    ax.set_title(f\"{title_prefix} Confusion Matrix (counts)\")\n",
    "    plt.tight_layout()\n",
    "    plt.show()\n",
    "\n",
    "\n",
    "    cm_norm = confusion_matrix(y_true, y_pred, labels=labels, normalize=\"true\")\n",
    "    fig, ax = plt.subplots(figsize=(6, 5))\n",
    "    disp = ConfusionMatrixDisplay(confusion_matrix=cm_norm, display_labels=labels)\n",
    "    disp.plot(ax=ax, colorbar=True)\n",
    "    ax.set_title(f\"{title_prefix} Confusion Matrix (normalized)\")\n",
    "    plt.tight_layout()\n",
    "    plt.show()\n"
   ]
  },
  {
   "cell_type": "code",
   "execution_count": 134,
   "id": "f6738e14",
   "metadata": {},
   "outputs": [
    {
     "data": {
      "image/png": "[encoded data removed]",
      "text/plain": [
       "<Figure size 600x500 with 1 Axes>"
      ]
     },
     "metadata": {},
     "output_type": "display_data"
    },
    {
     "data": {
      "image/png": "[encoded data removed]",
      "text/plain": [
       "<Figure size 600x500 with 2 Axes>"
      ]
     },
     "metadata": {},
     "output_type": "display_data"
    },
    {
     "data": {
      "image/png": "[encoded data removed]",
      "text/plain": [
       "<Figure size 600x500 with 1 Axes>"
      ]
     },
     "metadata": {},
     "output_type": "display_data"
    },
    {
     "data": {
      "image/png": "[encoded data removed]",
      "text/plain": [
       "<Figure size 600x500 with 2 Axes>"
      ]
     },
     "metadata": {},
     "output_type": "display_data"
    },
    {
     "data": {
      "image/png": "[encoded data removed]",
      "text/plain": [
       "<Figure size 600x500 with 1 Axes>"
      ]
     },
     "metadata": {},
     "output_type": "display_data"
    },
    {
     "data": {
      "image/png": "[encoded data removed]",
      "text/plain": [
       "<Figure size 600x500 with 2 Axes>"
      ]
     },
     "metadata": {},
     "output_type": "display_data"
    }
   ],
   "source": [
    "labels = np.unique(y_train).tolist()\n",
    "\n",
    "for name, clf in models.items():\n",
    "    pipe = Pipeline([(\"pre\", preprocessor), (\"clf\", clf)])\n",
    "    pipe.fit(X_train, y_train)\n",
    "    y_pred = pipe.predict(X_test)\n",
    "\n",
    "    # plot confusion matrices for this model\n",
    "    plot_confusion_matrices(y_test, y_pred, labels, title_prefix=name)\n"
   ]
  }
 ],
 "metadata": {
  "kernelspec": {
   "display_name": "Python 3",
   "language": "python",
   "name": "python3"
  },
  "language_info": {
   "codemirror_mode": {
    "name": "ipython",
    "version": 3
   },
   "file_extension": ".py",
   "mimetype": "text/x-python",
   "name": "python",
   "nbconvert_exporter": "python",
   "pygments_lexer": "ipython3",
   "version": "3.13.3"
  }
 },
 "nbformat": 4,
 "nbformat_minor": 5
}
