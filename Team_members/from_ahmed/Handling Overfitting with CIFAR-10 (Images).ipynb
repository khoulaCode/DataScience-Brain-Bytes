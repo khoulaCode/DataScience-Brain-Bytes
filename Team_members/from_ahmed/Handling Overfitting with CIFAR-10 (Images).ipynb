{
 "cells": [
  {
   "cell_type": "code",
   "execution_count": 1,
   "id": "7cfb31c9",
   "metadata": {},
   "outputs": [],
   "source": [
    "import pandas as pd\n",
    "import numpy as np\n",
    "from tensorflow import keras\n",
    "from tensorflow.keras import layers\n",
    "from sklearn.metrics import accuracy_score, precision_score, recall_score, f1_score\n",
    "from tensorflow.keras.callbacks import EarlyStopping"
   ]
  },
  {
   "cell_type": "markdown",
   "id": "92b360b9",
   "metadata": {},
   "source": [
    "### Import the CIFAR-10 dataset"
   ]
  },
  {
   "cell_type": "code",
   "execution_count": 16,
   "id": "202d4c41",
   "metadata": {},
   "outputs": [],
   "source": [
    "(x_train, y_train), (x_test, y_test) = keras.datasets.cifar10.load_data()"
   ]
  },
  {
   "cell_type": "markdown",
   "id": "a5bb8510",
   "metadata": {},
   "source": [
    "### Normlize the set"
   ]
  },
  {
   "cell_type": "code",
   "execution_count": 17,
   "id": "f7982bdb",
   "metadata": {},
   "outputs": [],
   "source": [
    "x_train = x_train.astype(float)/255.0\n",
    "x_test = x_test.astype(float)/255.0"
   ]
  },
  {
   "cell_type": "code",
   "execution_count": 18,
   "id": "e81f5cc8",
   "metadata": {},
   "outputs": [
    {
     "name": "stdout",
     "output_type": "stream",
     "text": [
      "(50000, 32, 32, 3)\n",
      "(50000, 1)\n"
     ]
    }
   ],
   "source": [
    "print(x_train.shape)\n",
    "print(y_train.shape)"
   ]
  },
  {
   "cell_type": "markdown",
   "id": "b2fd59eb",
   "metadata": {},
   "source": [
    "### Define the model"
   ]
  },
  {
   "cell_type": "code",
   "execution_count": 19,
   "id": "c3be2cc4",
   "metadata": {},
   "outputs": [
    {
     "name": "stderr",
     "output_type": "stream",
     "text": [
      "c:\\Python313\\Lib\\site-packages\\keras\\src\\layers\\reshaping\\flatten.py:37: UserWarning: Do not pass an `input_shape`/`input_dim` argument to a layer. When using Sequential models, prefer using an `Input(shape)` object as the first layer in the model instead.\n",
      "  super().__init__(**kwargs)\n"
     ]
    }
   ],
   "source": [
    "model = keras.Sequential()\n",
    "model.add(layers.Flatten(input_shape=(32, 32, 3)))\n",
    "model.add(layers.Dense(1024, activation='relu'))\n",
    "layers.Dropout(0.1),\n",
    "model.add(layers.Dense(512, activation='relu'))\n",
    "layers.Dropout(0.1),\n",
    "model.add(layers.Dense(256, activation='relu'))\n",
    "layers.Dropout(0.1),\n",
    "model.add(layers.Dense(10, activation='softmax'))"
   ]
  },
  {
   "cell_type": "markdown",
   "id": "ee032b33",
   "metadata": {},
   "source": [
    "### Load the optimizer"
   ]
  },
  {
   "cell_type": "code",
   "execution_count": 20,
   "id": "a79d9629",
   "metadata": {},
   "outputs": [],
   "source": [
    "model.compile(optimizer='adam', loss='sparse_categorical_crossentropy', metrics=['accuracy'])"
   ]
  },
  {
   "cell_type": "markdown",
   "id": "045a1d79",
   "metadata": {},
   "source": [
    "### Early stopping"
   ]
  },
  {
   "cell_type": "code",
   "execution_count": 21,
   "id": "82f5c846",
   "metadata": {},
   "outputs": [],
   "source": [
    "es = EarlyStopping(monitor='val_loss', patience=5, restore_best_weights=True)"
   ]
  },
  {
   "cell_type": "markdown",
   "id": "b30550fa",
   "metadata": {},
   "source": [
    "### Trian the model"
   ]
  },
  {
   "cell_type": "code",
   "execution_count": 23,
   "id": "bf12dbd1",
   "metadata": {},
   "outputs": [
    {
     "name": "stdout",
     "output_type": "stream",
     "text": [
      "Epoch 1/50\n",
      "\u001b[1m352/352\u001b[0m \u001b[32m━━━━━━━━━━━━━━━━━━━━\u001b[0m\u001b[37m\u001b[0m \u001b[1m20s\u001b[0m 57ms/step - accuracy: 0.3917 - loss: 1.6927 - val_accuracy: 0.3958 - val_loss: 1.6786\n",
      "Epoch 2/50\n",
      "\u001b[1m352/352\u001b[0m \u001b[32m━━━━━━━━━━━━━━━━━━━━\u001b[0m\u001b[37m\u001b[0m \u001b[1m21s\u001b[0m 59ms/step - accuracy: 0.4232 - loss: 1.6078 - val_accuracy: 0.4272 - val_loss: 1.5905\n",
      "Epoch 3/50\n",
      "\u001b[1m352/352\u001b[0m \u001b[32m━━━━━━━━━━━━━━━━━━━━\u001b[0m\u001b[37m\u001b[0m \u001b[1m24s\u001b[0m 67ms/step - accuracy: 0.4420 - loss: 1.5513 - val_accuracy: 0.4368 - val_loss: 1.5816\n",
      "Epoch 4/50\n",
      "\u001b[1m352/352\u001b[0m \u001b[32m━━━━━━━━━━━━━━━━━━━━\u001b[0m\u001b[37m\u001b[0m \u001b[1m22s\u001b[0m 62ms/step - accuracy: 0.4630 - loss: 1.5044 - val_accuracy: 0.4598 - val_loss: 1.5141\n",
      "Epoch 5/50\n",
      "\u001b[1m352/352\u001b[0m \u001b[32m━━━━━━━━━━━━━━━━━━━━\u001b[0m\u001b[37m\u001b[0m \u001b[1m21s\u001b[0m 60ms/step - accuracy: 0.4776 - loss: 1.4628 - val_accuracy: 0.4586 - val_loss: 1.5093\n",
      "Epoch 6/50\n",
      "\u001b[1m352/352\u001b[0m \u001b[32m━━━━━━━━━━━━━━━━━━━━\u001b[0m\u001b[37m\u001b[0m \u001b[1m25s\u001b[0m 70ms/step - accuracy: 0.4937 - loss: 1.4195 - val_accuracy: 0.4722 - val_loss: 1.4776\n",
      "Epoch 7/50\n",
      "\u001b[1m352/352\u001b[0m \u001b[32m━━━━━━━━━━━━━━━━━━━━\u001b[0m\u001b[37m\u001b[0m \u001b[1m24s\u001b[0m 68ms/step - accuracy: 0.4994 - loss: 1.3956 - val_accuracy: 0.4844 - val_loss: 1.4553\n",
      "Epoch 8/50\n",
      "\u001b[1m352/352\u001b[0m \u001b[32m━━━━━━━━━━━━━━━━━━━━\u001b[0m\u001b[37m\u001b[0m \u001b[1m24s\u001b[0m 67ms/step - accuracy: 0.5146 - loss: 1.3641 - val_accuracy: 0.4940 - val_loss: 1.4368\n",
      "Epoch 9/50\n",
      "\u001b[1m352/352\u001b[0m \u001b[32m━━━━━━━━━━━━━━━━━━━━\u001b[0m\u001b[37m\u001b[0m \u001b[1m24s\u001b[0m 67ms/step - accuracy: 0.5224 - loss: 1.3342 - val_accuracy: 0.4888 - val_loss: 1.4385\n",
      "Epoch 10/50\n",
      "\u001b[1m352/352\u001b[0m \u001b[32m━━━━━━━━━━━━━━━━━━━━\u001b[0m\u001b[37m\u001b[0m \u001b[1m23s\u001b[0m 66ms/step - accuracy: 0.5287 - loss: 1.3123 - val_accuracy: 0.4976 - val_loss: 1.4198\n",
      "Epoch 11/50\n",
      "\u001b[1m352/352\u001b[0m \u001b[32m━━━━━━━━━━━━━━━━━━━━\u001b[0m\u001b[37m\u001b[0m \u001b[1m24s\u001b[0m 69ms/step - accuracy: 0.5438 - loss: 1.2754 - val_accuracy: 0.5038 - val_loss: 1.4238\n",
      "Epoch 12/50\n",
      "\u001b[1m352/352\u001b[0m \u001b[32m━━━━━━━━━━━━━━━━━━━━\u001b[0m\u001b[37m\u001b[0m \u001b[1m24s\u001b[0m 69ms/step - accuracy: 0.5539 - loss: 1.2524 - val_accuracy: 0.5134 - val_loss: 1.3957\n",
      "Epoch 13/50\n",
      "\u001b[1m352/352\u001b[0m \u001b[32m━━━━━━━━━━━━━━━━━━━━\u001b[0m\u001b[37m\u001b[0m \u001b[1m24s\u001b[0m 68ms/step - accuracy: 0.5573 - loss: 1.2346 - val_accuracy: 0.5030 - val_loss: 1.4150\n",
      "Epoch 14/50\n",
      "\u001b[1m352/352\u001b[0m \u001b[32m━━━━━━━━━━━━━━━━━━━━\u001b[0m\u001b[37m\u001b[0m \u001b[1m24s\u001b[0m 69ms/step - accuracy: 0.5702 - loss: 1.2004 - val_accuracy: 0.5078 - val_loss: 1.4167\n",
      "Epoch 15/50\n",
      "\u001b[1m352/352\u001b[0m \u001b[32m━━━━━━━━━━━━━━━━━━━━\u001b[0m\u001b[37m\u001b[0m \u001b[1m24s\u001b[0m 68ms/step - accuracy: 0.5817 - loss: 1.1720 - val_accuracy: 0.5094 - val_loss: 1.4076\n",
      "Epoch 16/50\n",
      "\u001b[1m352/352\u001b[0m \u001b[32m━━━━━━━━━━━━━━━━━━━━\u001b[0m\u001b[37m\u001b[0m \u001b[1m24s\u001b[0m 68ms/step - accuracy: 0.5922 - loss: 1.1353 - val_accuracy: 0.5206 - val_loss: 1.3916\n",
      "Epoch 17/50\n",
      "\u001b[1m352/352\u001b[0m \u001b[32m━━━━━━━━━━━━━━━━━━━━\u001b[0m\u001b[37m\u001b[0m \u001b[1m24s\u001b[0m 68ms/step - accuracy: 0.6026 - loss: 1.1103 - val_accuracy: 0.5072 - val_loss: 1.4588\n",
      "Epoch 18/50\n",
      "\u001b[1m352/352\u001b[0m \u001b[32m━━━━━━━━━━━━━━━━━━━━\u001b[0m\u001b[37m\u001b[0m \u001b[1m24s\u001b[0m 68ms/step - accuracy: 0.6139 - loss: 1.0725 - val_accuracy: 0.5210 - val_loss: 1.4168\n",
      "Epoch 19/50\n",
      "\u001b[1m352/352\u001b[0m \u001b[32m━━━━━━━━━━━━━━━━━━━━\u001b[0m\u001b[37m\u001b[0m \u001b[1m24s\u001b[0m 68ms/step - accuracy: 0.6213 - loss: 1.0505 - val_accuracy: 0.5070 - val_loss: 1.4577\n",
      "Epoch 20/50\n",
      "\u001b[1m352/352\u001b[0m \u001b[32m━━━━━━━━━━━━━━━━━━━━\u001b[0m\u001b[37m\u001b[0m \u001b[1m24s\u001b[0m 69ms/step - accuracy: 0.6334 - loss: 1.0174 - val_accuracy: 0.5128 - val_loss: 1.4850\n",
      "Epoch 21/50\n",
      "\u001b[1m352/352\u001b[0m \u001b[32m━━━━━━━━━━━━━━━━━━━━\u001b[0m\u001b[37m\u001b[0m \u001b[1m27s\u001b[0m 76ms/step - accuracy: 0.6433 - loss: 0.9911 - val_accuracy: 0.5250 - val_loss: 1.4539\n"
     ]
    }
   ],
   "source": [
    "legend = model.fit(x_train, y_train, epochs=50, batch_size=128, validation_split=0.1, callbacks=[es])"
   ]
  },
  {
   "cell_type": "markdown",
   "id": "07178cc2",
   "metadata": {},
   "source": [
    "### Test the model"
   ]
  },
  {
   "cell_type": "code",
   "execution_count": 24,
   "id": "d3497307",
   "metadata": {},
   "outputs": [
    {
     "name": "stdout",
     "output_type": "stream",
     "text": [
      "\u001b[1m313/313\u001b[0m \u001b[32m━━━━━━━━━━━━━━━━━━━━\u001b[0m\u001b[37m\u001b[0m \u001b[1m2s\u001b[0m 5ms/step\n"
     ]
    }
   ],
   "source": [
    "y_pred = model.predict(x_test)\n",
    "y_pred_classes = np.argmax(y_pred, axis=1)"
   ]
  },
  {
   "cell_type": "markdown",
   "id": "4d845fc6",
   "metadata": {},
   "source": [
    "### evaluation metrics"
   ]
  },
  {
   "cell_type": "code",
   "execution_count": 32,
   "id": "d145fc06",
   "metadata": {},
   "outputs": [
    {
     "name": "stdout",
     "output_type": "stream",
     "text": [
      "accuracy:  0.5132\n",
      "presision:  0.5160608367036572\n",
      "recall:  0.5132000000000001\n",
      "f1:  0.5076159744128278\n",
      "validation accuracy: 0.5249999761581421\n"
     ]
    }
   ],
   "source": [
    "print(\"accuracy: \", accuracy_score(y_test, y_pred_classes))\n",
    "print(\"presision: \", precision_score(y_test, y_pred_classes, average=\"macro\"))\n",
    "print(\"recall: \", recall_score(y_test, y_pred_classes, average=\"macro\"))\n",
    "print(\"f1: \", f1_score(y_test, y_pred_classes, average=\"macro\"))\n",
    "print(\"validation accuracy:\", legend.history['val_accuracy'][-1])"
   ]
  },
  {
   "cell_type": "markdown",
   "id": "3b5d3265",
   "metadata": {},
   "source": [
    "### Define the model (Regularization)"
   ]
  },
  {
   "cell_type": "code",
   "execution_count": 11,
   "id": "8d7b273d",
   "metadata": {},
   "outputs": [
    {
     "name": "stderr",
     "output_type": "stream",
     "text": [
      "c:\\Python313\\Lib\\site-packages\\keras\\src\\layers\\reshaping\\flatten.py:37: UserWarning: Do not pass an `input_shape`/`input_dim` argument to a layer. When using Sequential models, prefer using an `Input(shape)` object as the first layer in the model instead.\n",
      "  super().__init__(**kwargs)\n"
     ]
    }
   ],
   "source": [
    "# Original (kept as comment):\n",
    "# model = keras.Sequential()\n",
    "# model.add(layers.Flatten(input_shape=(32, 32, 3)))\n",
    "# model.add(layers.Dense(512, activation='relu', kernel_regularizer=keras.regularizers.l2(0.001)))\n",
    "# model.add(layers.Dense(256, activation='relu', kernel_regularizer=keras.regularizers.l2(0.001)))\n",
    "# model.add(layers.Dense(10, activation='sigmoid'))\n",
    "\n",
    "# Regularized model at the end section: add Dropout and use softmax\n",
    "model = keras.Sequential([\n",
    "    layers.Flatten(input_shape=(32, 32, 3)),\n",
    "    layers.Dense(1024, activation='relu', kernel_regularizer=keras.regularizers.l2(1e-4)),\n",
    "    layers.Dropout(0.1),\n",
    "    layers.Dense(512, activation='relu', kernel_regularizer=keras.regularizers.l2(1e-4)),\n",
    "    layers.Dropout(0.1),\n",
    "    layers.Dense(256, activation='relu', kernel_regularizer=keras.regularizers.l2(1e-4)),\n",
    "    layers.Dropout(0.1),\n",
    "    layers.Dense(10, activation='softmax')\n",
    "])"
   ]
  },
  {
   "cell_type": "markdown",
   "id": "0a8ade09",
   "metadata": {},
   "source": [
    "### Load optimizer"
   ]
  },
  {
   "cell_type": "code",
   "execution_count": 12,
   "id": "83c30503",
   "metadata": {},
   "outputs": [],
   "source": [
    "# Original (kept as comment):\n",
    "# model.compile(optimizer='adam', loss='sparse_categorical_crossentropy', metrics=['accuracy'])\n",
    "\n",
    "model.compile(optimizer=keras.optimizers.Adam(1e-3),\n",
    "              loss='sparse_categorical_crossentropy',\n",
    "              metrics=['accuracy'])"
   ]
  },
  {
   "cell_type": "markdown",
   "id": "559e52dd",
   "metadata": {},
   "source": [
    "### Train the model"
   ]
  },
  {
   "cell_type": "code",
   "execution_count": 13,
   "id": "4f52e5c7",
   "metadata": {},
   "outputs": [
    {
     "name": "stdout",
     "output_type": "stream",
     "text": [
      "Epoch 1/50\n",
      "\u001b[1m352/352\u001b[0m \u001b[32m━━━━━━━━━━━━━━━━━━━━\u001b[0m\u001b[37m\u001b[0m \u001b[1m28s\u001b[0m 75ms/step - accuracy: 0.2873 - loss: 2.1316 - val_accuracy: 0.3500 - val_loss: 1.9138\n",
      "Epoch 2/50\n",
      "\u001b[1m352/352\u001b[0m \u001b[32m━━━━━━━━━━━━━━━━━━━━\u001b[0m\u001b[37m\u001b[0m \u001b[1m23s\u001b[0m 64ms/step - accuracy: 0.3697 - loss: 1.8602 - val_accuracy: 0.4008 - val_loss: 1.7657\n",
      "Epoch 3/50\n",
      "\u001b[1m352/352\u001b[0m \u001b[32m━━━━━━━━━━━━━━━━━━━━\u001b[0m\u001b[37m\u001b[0m \u001b[1m24s\u001b[0m 69ms/step - accuracy: 0.3961 - loss: 1.7620 - val_accuracy: 0.4098 - val_loss: 1.7076\n",
      "Epoch 4/50\n",
      "\u001b[1m352/352\u001b[0m \u001b[32m━━━━━━━━━━━━━━━━━━━━\u001b[0m\u001b[37m\u001b[0m \u001b[1m28s\u001b[0m 79ms/step - accuracy: 0.4171 - loss: 1.6934 - val_accuracy: 0.4420 - val_loss: 1.6355\n",
      "Epoch 5/50\n",
      "\u001b[1m352/352\u001b[0m \u001b[32m━━━━━━━━━━━━━━━━━━━━\u001b[0m\u001b[37m\u001b[0m \u001b[1m28s\u001b[0m 78ms/step - accuracy: 0.4280 - loss: 1.6528 - val_accuracy: 0.4322 - val_loss: 1.6429\n",
      "Epoch 6/50\n",
      "\u001b[1m352/352\u001b[0m \u001b[32m━━━━━━━━━━━━━━━━━━━━\u001b[0m\u001b[37m\u001b[0m \u001b[1m28s\u001b[0m 79ms/step - accuracy: 0.4412 - loss: 1.6191 - val_accuracy: 0.4474 - val_loss: 1.6024\n",
      "Epoch 7/50\n",
      "\u001b[1m352/352\u001b[0m \u001b[32m━━━━━━━━━━━━━━━━━━━━\u001b[0m\u001b[37m\u001b[0m \u001b[1m27s\u001b[0m 77ms/step - accuracy: 0.4500 - loss: 1.5890 - val_accuracy: 0.4536 - val_loss: 1.6004\n",
      "Epoch 8/50\n",
      "\u001b[1m352/352\u001b[0m \u001b[32m━━━━━━━━━━━━━━━━━━━━\u001b[0m\u001b[37m\u001b[0m \u001b[1m42s\u001b[0m 81ms/step - accuracy: 0.4523 - loss: 1.5740 - val_accuracy: 0.4638 - val_loss: 1.5644\n",
      "Epoch 9/50\n",
      "\u001b[1m352/352\u001b[0m \u001b[32m━━━━━━━━━━━━━━━━━━━━\u001b[0m\u001b[37m\u001b[0m \u001b[1m28s\u001b[0m 79ms/step - accuracy: 0.4601 - loss: 1.5617 - val_accuracy: 0.4800 - val_loss: 1.5141\n",
      "Epoch 10/50\n",
      "\u001b[1m352/352\u001b[0m \u001b[32m━━━━━━━━━━━━━━━━━━━━\u001b[0m\u001b[37m\u001b[0m \u001b[1m28s\u001b[0m 78ms/step - accuracy: 0.4693 - loss: 1.5365 - val_accuracy: 0.4714 - val_loss: 1.5403\n",
      "Epoch 11/50\n",
      "\u001b[1m352/352\u001b[0m \u001b[32m━━━━━━━━━━━━━━━━━━━━\u001b[0m\u001b[37m\u001b[0m \u001b[1m27s\u001b[0m 78ms/step - accuracy: 0.4734 - loss: 1.5271 - val_accuracy: 0.4660 - val_loss: 1.5364\n",
      "Epoch 12/50\n",
      "\u001b[1m352/352\u001b[0m \u001b[32m━━━━━━━━━━━━━━━━━━━━\u001b[0m\u001b[37m\u001b[0m \u001b[1m24s\u001b[0m 69ms/step - accuracy: 0.4742 - loss: 1.5221 - val_accuracy: 0.4886 - val_loss: 1.4921\n",
      "Epoch 13/50\n",
      "\u001b[1m352/352\u001b[0m \u001b[32m━━━━━━━━━━━━━━━━━━━━\u001b[0m\u001b[37m\u001b[0m \u001b[1m28s\u001b[0m 78ms/step - accuracy: 0.4842 - loss: 1.4970 - val_accuracy: 0.4876 - val_loss: 1.5104\n",
      "Epoch 14/50\n",
      "\u001b[1m352/352\u001b[0m \u001b[32m━━━━━━━━━━━━━━━━━━━━\u001b[0m\u001b[37m\u001b[0m \u001b[1m27s\u001b[0m 77ms/step - accuracy: 0.4911 - loss: 1.4850 - val_accuracy: 0.4844 - val_loss: 1.4974\n",
      "Epoch 15/50\n",
      "\u001b[1m352/352\u001b[0m \u001b[32m━━━━━━━━━━━━━━━━━━━━\u001b[0m\u001b[37m\u001b[0m \u001b[1m27s\u001b[0m 78ms/step - accuracy: 0.4893 - loss: 1.4844 - val_accuracy: 0.4820 - val_loss: 1.5103\n",
      "Epoch 16/50\n",
      "\u001b[1m352/352\u001b[0m \u001b[32m━━━━━━━━━━━━━━━━━━━━\u001b[0m\u001b[37m\u001b[0m \u001b[1m27s\u001b[0m 75ms/step - accuracy: 0.4954 - loss: 1.4727 - val_accuracy: 0.4886 - val_loss: 1.5008\n",
      "Epoch 17/50\n",
      "\u001b[1m352/352\u001b[0m \u001b[32m━━━━━━━━━━━━━━━━━━━━\u001b[0m\u001b[37m\u001b[0m \u001b[1m28s\u001b[0m 78ms/step - accuracy: 0.5004 - loss: 1.4620 - val_accuracy: 0.4920 - val_loss: 1.4917\n",
      "Epoch 18/50\n",
      "\u001b[1m352/352\u001b[0m \u001b[32m━━━━━━━━━━━━━━━━━━━━\u001b[0m\u001b[37m\u001b[0m \u001b[1m27s\u001b[0m 76ms/step - accuracy: 0.5032 - loss: 1.4583 - val_accuracy: 0.5072 - val_loss: 1.4633\n",
      "Epoch 19/50\n",
      "\u001b[1m352/352\u001b[0m \u001b[32m━━━━━━━━━━━━━━━━━━━━\u001b[0m\u001b[37m\u001b[0m \u001b[1m43s\u001b[0m 81ms/step - accuracy: 0.5061 - loss: 1.4489 - val_accuracy: 0.4926 - val_loss: 1.4936\n",
      "Epoch 20/50\n",
      "\u001b[1m352/352\u001b[0m \u001b[32m━━━━━━━━━━━━━━━━━━━━\u001b[0m\u001b[37m\u001b[0m \u001b[1m25s\u001b[0m 70ms/step - accuracy: 0.5055 - loss: 1.4487 - val_accuracy: 0.5032 - val_loss: 1.4756\n",
      "Epoch 21/50\n",
      "\u001b[1m352/352\u001b[0m \u001b[32m━━━━━━━━━━━━━━━━━━━━\u001b[0m\u001b[37m\u001b[0m \u001b[1m28s\u001b[0m 78ms/step - accuracy: 0.5124 - loss: 1.4387 - val_accuracy: 0.5028 - val_loss: 1.4687\n",
      "Epoch 22/50\n",
      "\u001b[1m352/352\u001b[0m \u001b[32m━━━━━━━━━━━━━━━━━━━━\u001b[0m\u001b[37m\u001b[0m \u001b[1m28s\u001b[0m 79ms/step - accuracy: 0.5139 - loss: 1.4290 - val_accuracy: 0.4920 - val_loss: 1.4909\n",
      "Epoch 23/50\n",
      "\u001b[1m352/352\u001b[0m \u001b[32m━━━━━━━━━━━━━━━━━━━━\u001b[0m\u001b[37m\u001b[0m \u001b[1m28s\u001b[0m 79ms/step - accuracy: 0.5209 - loss: 1.4192 - val_accuracy: 0.5028 - val_loss: 1.4957\n"
     ]
    }
   ],
   "source": [
    "# Original (kept as comment):\n",
    "# model.fit(x_train, y_train, epochs=20, batch_size=256, validation_split=0.1)\n",
    "history = model.fit(\n",
    "    x_train, y_train,\n",
    "    epochs=50,\n",
    "    batch_size=128,\n",
    "    validation_split=0.1,\n",
    "    callbacks=[es]\n",
    ")"
   ]
  },
  {
   "cell_type": "markdown",
   "id": "c53d4269",
   "metadata": {},
   "source": [
    "### Test the model"
   ]
  },
  {
   "cell_type": "code",
   "execution_count": 14,
   "id": "a133d1d8",
   "metadata": {},
   "outputs": [
    {
     "name": "stdout",
     "output_type": "stream",
     "text": [
      "\u001b[1m313/313\u001b[0m \u001b[32m━━━━━━━━━━━━━━━━━━━━\u001b[0m\u001b[37m\u001b[0m \u001b[1m2s\u001b[0m 7ms/step\n"
     ]
    }
   ],
   "source": [
    "# Original (kept as comment):\n",
    "# print(\"accuracy: \", accuracy_score(y_test, y_pred_classes))\n",
    "# print(\"presision: \", precision_score(y_test, y_pred_classes, average=\"macro\"))\n",
    "# print(\"recall: \", recall_score(y_test, y_pred_classes, average=\"macro\"))\n",
    "# print(\"f1: \", f1_score(y_test, y_pred_classes, average=\"macro\"))\n",
    "\n",
    "# Re-evaluate after training the regularized model\n",
    "y_pred = model.predict(x_test)\n",
    "y_pred_classes = np.argmax(y_pred, axis=1)\n",
    "y_test_flat = y_test.ravel()"
   ]
  },
  {
   "cell_type": "markdown",
   "id": "0428bc58",
   "metadata": {},
   "source": [
    "### Evaluate the model"
   ]
  },
  {
   "cell_type": "code",
   "execution_count": 27,
   "id": "3894ffee",
   "metadata": {},
   "outputs": [
    {
     "name": "stdout",
     "output_type": "stream",
     "text": [
      "accuracy: 0.5132\n",
      "precision: 0.5160608367036572\n",
      "recall: 0.5132000000000001\n",
      "f1: 0.5076159744128278\n",
      "validation accuracy: 0.5027999877929688\n"
     ]
    }
   ],
   "source": [
    "print(\"accuracy:\", accuracy_score(y_test_flat, y_pred_classes))\n",
    "print(\"precision:\", precision_score(y_test_flat, y_pred_classes, average=\"macro\", zero_division=0))\n",
    "print(\"recall:\", recall_score(y_test_flat, y_pred_classes, average=\"macro\", zero_division=0))\n",
    "print(\"f1:\", f1_score(y_test_flat, y_pred_classes, average=\"macro\", zero_division=0))\n",
    "print(\"validation accuracy:\", history.history['val_accuracy'][-1])"
   ]
  },
  {
   "cell_type": "markdown",
   "id": "0ff60357",
   "metadata": {},
   "source": [
    "## How does adding dropout layers affect training vs validation accuracy?"
   ]
  },
  {
   "cell_type": "markdown",
   "id": "c86b1465",
   "metadata": {},
   "source": [
    "#### The accuracy slightly decreases but validiation accuracy is almost same."
   ]
  },
  {
   "cell_type": "markdown",
   "id": "e82f4919",
   "metadata": {},
   "source": [
    "## Does early stopping prevent wasted training time?"
   ]
  },
  {
   "cell_type": "markdown",
   "id": "37ef33dc",
   "metadata": {},
   "source": [
    "#### YES"
   ]
  },
  {
   "cell_type": "markdown",
   "id": "ac114605",
   "metadata": {},
   "source": [
    "## Can L2 weight regularization improve generalization?"
   ]
  },
  {
   "cell_type": "markdown",
   "id": "fcd1a321",
   "metadata": {},
   "source": [
    "#### YES"
   ]
  },
  {
   "cell_type": "markdown",
   "id": "8e36454e",
   "metadata": {},
   "source": [
    "## How does model depth affect overfitting on CIFAR-10?"
   ]
  },
  {
   "cell_type": "markdown",
   "id": "25e5a8ed",
   "metadata": {},
   "source": [
    "#### It allows the model to learn more complex patterns but also increases the risk of overfitting."
   ]
  }
 ],
 "metadata": {
  "kernelspec": {
   "display_name": "Python 3",
   "language": "python",
   "name": "python3"
  },
  "language_info": {
   "codemirror_mode": {
    "name": "ipython",
    "version": 3
   },
   "file_extension": ".py",
   "mimetype": "text/x-python",
   "name": "python",
   "nbconvert_exporter": "python",
   "pygments_lexer": "ipython3",
   "version": "3.13.3"
  }
 },
 "nbformat": 4,
 "nbformat_minor": 5
}
