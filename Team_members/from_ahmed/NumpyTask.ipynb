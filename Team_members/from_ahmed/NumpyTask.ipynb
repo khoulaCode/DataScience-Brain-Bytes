{
 "cells": [
  {
   "cell_type": "code",
   "execution_count": 2,
   "id": "f942c836-2383-410b-ad71-0a3b71201e8d",
   "metadata": {},
   "outputs": [],
   "source": [
    "import numpy as np"
   ]
  },
  {
   "cell_type": "markdown",
   "id": "996556bd-e713-48e2-95e8-5e621b03d1c4",
   "metadata": {},
   "source": [
    "## Part 1: Array Creation and Properties"
   ]
  },
  {
   "cell_type": "markdown",
   "id": "e4b5e7d5-5dba-461a-8549-aec3495ba02b",
   "metadata": {},
   "source": [
    "#### Create a 1D array named arr1d with integers from 0 to 9."
   ]
  },
  {
   "cell_type": "code",
   "execution_count": 3,
   "id": "aae59f17-fc9f-480d-bf49-09c469936671",
   "metadata": {},
   "outputs": [
    {
     "data": {
      "text/plain": [
       "array([0, 1, 2, 3, 4, 5, 6, 7, 8, 9])"
      ]
     },
     "execution_count": 3,
     "metadata": {},
     "output_type": "execute_result"
    }
   ],
   "source": [
    "arr1d = np.array([0, 1, 2, 3, 4, 5, 6, 7, 8, 9])\n",
    "arr1d"
   ]
  },
  {
   "cell_type": "markdown",
   "id": "a33fb370-c8ad-4a8d-978d-2a2707718cad",
   "metadata": {},
   "source": [
    "#### Create a 2D array named arr2d with shape (3, 3) filled with ones."
   ]
  },
  {
   "cell_type": "code",
   "execution_count": 4,
   "id": "20683102-a2a5-4910-88aa-f05029e8acec",
   "metadata": {},
   "outputs": [
    {
     "data": {
      "text/plain": [
       "array([[[1., 1., 1.],\n",
       "        [1., 1., 1.],\n",
       "        [1., 1., 1.]]])"
      ]
     },
     "execution_count": 4,
     "metadata": {},
     "output_type": "execute_result"
    }
   ],
   "source": [
    "arr2d = np.ones((1,3,3))\n",
    "arr2d"
   ]
  },
  {
   "cell_type": "markdown",
   "id": "116cd740-90eb-413a-83db-73db820a90a1",
   "metadata": {},
   "source": [
    "#### Create a 3x3 array named random_matrix with random floating-point numbers from a standard normal distribution."
   ]
  },
  {
   "cell_type": "code",
   "execution_count": 5,
   "id": "0190f285-6d61-4fa8-8b08-debf79137ab9",
   "metadata": {},
   "outputs": [
    {
     "data": {
      "text/plain": [
       "array([3, 3, 8, 4, 2], dtype=int32)"
      ]
     },
     "execution_count": 5,
     "metadata": {},
     "output_type": "execute_result"
    }
   ],
   "source": [
    "random_matrix = np.random.randint(1,10,5 )\n",
    "random_matrix"
   ]
  },
  {
   "cell_type": "markdown",
   "id": "3681f54f-1021-4b0f-9415-cc31e6119596",
   "metadata": {},
   "source": [
    "#### Create an array named even_numbers containing even numbers from 10 to 50 (inclusive)."
   ]
  },
  {
   "cell_type": "code",
   "execution_count": 6,
   "id": "e0464315-45cd-457a-b44b-3345eeb2ddf4",
   "metadata": {},
   "outputs": [
    {
     "data": {
      "text/plain": [
       "array([10, 12, 14, 16, 18, 20, 22, 24, 26, 28, 30, 32, 34, 36, 38, 40, 42,\n",
       "       44, 46, 48, 50])"
      ]
     },
     "execution_count": 6,
     "metadata": {},
     "output_type": "execute_result"
    }
   ],
   "source": [
    "even_numbers = np.arange(10, 51)\n",
    "even_numbers[0::2]"
   ]
  },
  {
   "cell_type": "markdown",
   "id": "0d9f0217-ad67-4b66-b0e8-bd8c1165950b",
   "metadata": {},
   "source": [
    "#### Create an array named linspace_array containing 7 equally spaced numbers between 0 and 1 (inclusive)."
   ]
  },
  {
   "cell_type": "code",
   "execution_count": 7,
   "id": "bc7c62f1-38c3-486b-9b3e-e444ff940af4",
   "metadata": {},
   "outputs": [
    {
     "data": {
      "text/plain": [
       "array([0.        , 0.16666667, 0.33333333, 0.5       , 0.66666667,\n",
       "       0.83333333, 1.        ])"
      ]
     },
     "execution_count": 7,
     "metadata": {},
     "output_type": "execute_result"
    }
   ],
   "source": [
    "linspace_array = np.linspace(0,1,7)\n",
    "linspace_array"
   ]
  },
  {
   "cell_type": "markdown",
   "id": "62b40fc9-1942-4c09-b08e-e36658ee9178",
   "metadata": {},
   "source": [
    "#### Given arr = np.array([[1, 2, 3], [4, 5, 6]]), what is its shape, ndim, and dtype? Print them."
   ]
  },
  {
   "cell_type": "code",
   "execution_count": 8,
   "id": "c5967194-43bc-4076-940d-0789eccd7aa6",
   "metadata": {},
   "outputs": [
    {
     "name": "stdout",
     "output_type": "stream",
     "text": [
      "(2, 3)\n",
      "2\n",
      "int64\n"
     ]
    }
   ],
   "source": [
    "arr = np.array([[1,2,3],[4,5,6]])\n",
    "print(arr.shape)\n",
    "print(arr.ndim)\n",
    "print(arr.dtype)"
   ]
  },
  {
   "cell_type": "markdown",
   "id": "7e67fb63-67ce-4df8-af0a-df4dede9aa04",
   "metadata": {},
   "source": [
    "## Part 2: Array Manipulation"
   ]
  },
  {
   "cell_type": "markdown",
   "id": "10a7e2b2-d4f9-4527-85e0-58cb647e8ca4",
   "metadata": {},
   "source": [
    "#### Reshape arr1d (from Q1) into a 2x5 2D array. Name the new array reshaped_arr."
   ]
  },
  {
   "cell_type": "code",
   "execution_count": 9,
   "id": "a53574da-c700-4a2a-a77b-a69fa78e1cae",
   "metadata": {},
   "outputs": [
    {
     "data": {
      "text/plain": [
       "array([[0, 1, 2, 3, 4],\n",
       "       [5, 6, 7, 8, 9]])"
      ]
     },
     "execution_count": 9,
     "metadata": {},
     "output_type": "execute_result"
    }
   ],
   "source": [
    "reshaped_arr = arr1d.reshape(2, 5)\n",
    "reshaped_arr"
   ]
  },
  {
   "cell_type": "markdown",
   "id": "2d9f149d-24f4-458f-b8c1-b1c06ed03f14",
   "metadata": {},
   "source": [
    "#### Transpose reshaped_arr (from Q7). Name the result transposed_arr."
   ]
  },
  {
   "cell_type": "code",
   "execution_count": 10,
   "id": "97e377ae-bda2-499b-8b7f-29ba08550c92",
   "metadata": {},
   "outputs": [
    {
     "data": {
      "text/plain": [
       "array([[0, 5],\n",
       "       [1, 6],\n",
       "       [2, 7],\n",
       "       [3, 8],\n",
       "       [4, 9]])"
      ]
     },
     "execution_count": 10,
     "metadata": {},
     "output_type": "execute_result"
    }
   ],
   "source": [
    "transposed_arr = np.transpose(reshaped_arr)\n",
    "transposed_arr"
   ]
  },
  {
   "cell_type": "markdown",
   "id": "16d22813-7447-4c06-a55d-89bfcf821e62",
   "metadata": {},
   "source": [
    "#### Stack two 1D arrays a = np.array([1, 2, 3]) and b = np.array([4, 5, 6]) vertically."
   ]
  },
  {
   "cell_type": "code",
   "execution_count": 11,
   "id": "dc3b333a-50a1-417f-b180-23e99e7dc5ee",
   "metadata": {},
   "outputs": [
    {
     "data": {
      "text/plain": [
       "array([[1, 2, 3],\n",
       "       [4, 5, 6]])"
      ]
     },
     "execution_count": 11,
     "metadata": {},
     "output_type": "execute_result"
    }
   ],
   "source": [
    "a = np.array([[1, 2, 3]])\n",
    "b = np.array([[4, 5, 6]])\n",
    "np.vstack((a,b))"
   ]
  },
  {
   "cell_type": "markdown",
   "id": "e8df3d20-5f8a-482f-977c-aadae35c8c2f",
   "metadata": {},
   "source": [
    "#### Stack two 2D arrays m1 = np.array([[1, 2], [3, 4]]) and m2 = np.array([[5, 6], [7, 8]]) horizontally."
   ]
  },
  {
   "cell_type": "code",
   "execution_count": 12,
   "id": "b1cc624a-3904-4bc0-92f2-c2511b7224fb",
   "metadata": {},
   "outputs": [
    {
     "data": {
      "text/plain": [
       "array([[1, 2, 5, 6],\n",
       "       [3, 4, 7, 8]])"
      ]
     },
     "execution_count": 12,
     "metadata": {},
     "output_type": "execute_result"
    }
   ],
   "source": [
    "m1 = np.array([[1, 2], [3, 4]])\n",
    "m2 = np.array([[5, 6], [7, 8]])\n",
    "np.hstack((m1, m2))"
   ]
  },
  {
   "cell_type": "markdown",
   "id": "ff9773d0-e5cd-4976-9885-83c947c2dc19",
   "metadata": {},
   "source": [
    "#### Split the array arr_to_split = np.arange(16).reshape(4, 4) horizontally into 2 equal parts. Print both parts."
   ]
  },
  {
   "cell_type": "code",
   "execution_count": 13,
   "id": "db5e072a-a7e2-4586-8b15-72809f375812",
   "metadata": {},
   "outputs": [
    {
     "data": {
      "text/plain": [
       "[array([[ 0,  1],\n",
       "        [ 4,  5],\n",
       "        [ 8,  9],\n",
       "        [12, 13]]),\n",
       " array([[ 2,  3],\n",
       "        [ 6,  7],\n",
       "        [10, 11],\n",
       "        [14, 15]])]"
      ]
     },
     "execution_count": 13,
     "metadata": {},
     "output_type": "execute_result"
    }
   ],
   "source": [
    "arr_to_split = np.arange(16).reshape(4, 4)\n",
    "np.hsplit(arr_to_split, 2)"
   ]
  },
  {
   "cell_type": "markdown",
   "id": "deafc771-0c23-4db9-9338-313469829895",
   "metadata": {},
   "source": [
    "#### Split the array arr_to_split (from Q11) vertically at index 2 (i.e., into two parts: first two rows, and last two rows). Print both parts."
   ]
  },
  {
   "cell_type": "code",
   "execution_count": 14,
   "id": "86b4f3e8-d71a-403d-95ef-e93486a4a912",
   "metadata": {},
   "outputs": [
    {
     "data": {
      "text/plain": [
       "[array([[0, 1, 2, 3],\n",
       "        [4, 5, 6, 7]]),\n",
       " array([[ 8,  9, 10, 11],\n",
       "        [12, 13, 14, 15]])]"
      ]
     },
     "execution_count": 14,
     "metadata": {},
     "output_type": "execute_result"
    }
   ],
   "source": [
    "np.vsplit(arr_to_split, 2)"
   ]
  },
  {
   "cell_type": "markdown",
   "id": "a858a139-d8c4-4d00-bf5f-2013669571ff",
   "metadata": {},
   "source": [
    "## Part 3: Indexing, Slicing, and Boolean Indexing"
   ]
  },
  {
   "cell_type": "markdown",
   "id": "3ee74927-08a1-42f7-9417-8d12f8757971",
   "metadata": {},
   "source": [
    "#### Given data = np.array([[10, 11, 12], [13, 14, 15], [16, 17, 18]]), extract the element at row 1, column 2."
   ]
  },
  {
   "cell_type": "code",
   "execution_count": 18,
   "id": "b896862d-51b3-488e-aeef-58aca37ce1df",
   "metadata": {},
   "outputs": [
    {
     "data": {
      "text/plain": [
       "np.int64(11)"
      ]
     },
     "execution_count": 18,
     "metadata": {},
     "output_type": "execute_result"
    }
   ],
   "source": [
    "data = np.array([[10, 11, 12], [13, 14, 15], [16, 17, 18]])\n",
    "data[0, 1]"
   ]
  },
  {
   "cell_type": "markdown",
   "id": "c50251dd-3c58-455a-bf1e-8798929b11fe",
   "metadata": {},
   "source": [
    "#### From the data array (from Q13), extract the first two rows and all columns."
   ]
  },
  {
   "cell_type": "code",
   "execution_count": 22,
   "id": "79da4993-5138-4a78-b888-fa1d1524f301",
   "metadata": {},
   "outputs": [
    {
     "data": {
      "text/plain": [
       "array([[10, 11, 12],\n",
       "       [13, 14, 15]])"
      ]
     },
     "execution_count": 22,
     "metadata": {},
     "output_type": "execute_result"
    }
   ],
   "source": [
    "data[:2]"
   ]
  },
  {
   "cell_type": "markdown",
   "id": "d9e4dd54-0f5c-4df5-bacb-7e274544d4ca",
   "metadata": {},
   "source": [
    "#### From the data array (from Q13), extract the elements 11, 15, and 17 using fancy indexing (hint: you'll need to specify rows and columns)."
   ]
  },
  {
   "cell_type": "code",
   "execution_count": 43,
   "id": "b56378be-ca99-4b44-a1d0-915d98a9aa3e",
   "metadata": {},
   "outputs": [
    {
     "name": "stdout",
     "output_type": "stream",
     "text": [
      "11 15 17\n"
     ]
    }
   ],
   "source": [
    "print(data[0,1], data[1,2], data[2,1])"
   ]
  },
  {
   "cell_type": "markdown",
   "id": "d3b22aec-c820-4d6d-97db-ab90328766d0",
   "metadata": {},
   "source": [
    "#### Given scores = np.array([85, 92, 78, 65, 95, 88]), use boolean indexing to find all scores greater than 80."
   ]
  },
  {
   "cell_type": "code",
   "execution_count": 26,
   "id": "2ed457aa-8f8e-4ade-bc7e-f24c29398aa0",
   "metadata": {},
   "outputs": [
    {
     "data": {
      "text/plain": [
       "array([ True,  True, False, False,  True,  True])"
      ]
     },
     "execution_count": 26,
     "metadata": {},
     "output_type": "execute_result"
    }
   ],
   "source": [
    "scores = np.array([85, 92, 78, 65, 95, 88])\n",
    "s = scores > 80\n",
    "s"
   ]
  },
  {
   "cell_type": "markdown",
   "id": "42dc613d-a7e1-45f2-b2a9-78eb988d19ce",
   "metadata": {},
   "source": [
    "## Part 4: Numerical Operations and Aggregations"
   ]
  },
  {
   "cell_type": "markdown",
   "id": "bbfa18e2-0c88-46c3-b729-6bd920907976",
   "metadata": {},
   "source": [
    "#### Given arr_op1 = np.array([10, 20, 30]) and arr_op2 = np.array([2, 4, 6]), perform element-wise multiplication and division (arr_op1 / arr_op2)."
   ]
  },
  {
   "cell_type": "code",
   "execution_count": 28,
   "id": "256bffff-f98e-4389-b517-34aef644c87c",
   "metadata": {},
   "outputs": [
    {
     "name": "stdout",
     "output_type": "stream",
     "text": [
      "[ 20  80 180]\n",
      "[5. 5. 5.]\n"
     ]
    }
   ],
   "source": [
    "arr_op1 = np.array([10, 20, 30])\n",
    "arr_op2 = np.array([2, 4, 6])\n",
    "print(arr_op1 * arr_op2)\n",
    "print(arr_op1 / arr_op2)"
   ]
  },
  {
   "cell_type": "markdown",
   "id": "463a12dd-a9c7-434f-b2a5-9850e716f0a6",
   "metadata": {},
   "source": [
    "#### Given matrix = np.array([[1, 2, 3], [4, 5, 6], [7, 8, 9]]), calculate the sum of all elements in the matrix."
   ]
  },
  {
   "cell_type": "code",
   "execution_count": 33,
   "id": "9ee73b7e-8666-463d-88ef-ac8c102bd92c",
   "metadata": {},
   "outputs": [
    {
     "data": {
      "text/plain": [
       "np.int64(45)"
      ]
     },
     "execution_count": 33,
     "metadata": {},
     "output_type": "execute_result"
    }
   ],
   "source": [
    "matrix = np.array([[1, 2, 3], [4, 5, 6], [7, 8, 9]])\n",
    "matrix.sum()"
   ]
  },
  {
   "cell_type": "markdown",
   "id": "33c154d1-1219-492a-980f-8f2122030b04",
   "metadata": {},
   "source": [
    "#### From the matrix (from Q18), calculate the mean of each column."
   ]
  },
  {
   "cell_type": "code",
   "execution_count": 35,
   "id": "2c297297-a8a8-41e8-b810-bba2d263a7cc",
   "metadata": {},
   "outputs": [
    {
     "data": {
      "text/plain": [
       "np.float64(5.0)"
      ]
     },
     "execution_count": 35,
     "metadata": {},
     "output_type": "execute_result"
    }
   ],
   "source": [
    "matrix.mean()"
   ]
  },
  {
   "cell_type": "markdown",
   "id": "d05ce584-1411-4bc3-984e-e4e87d80f2e0",
   "metadata": {},
   "source": [
    "#### Given price_array = np.array([100, 150, 200, 250]) and discount_percentage = 0.10, apply a 10% discount to all prices using broadcasting."
   ]
  },
  {
   "cell_type": "code",
   "execution_count": 40,
   "id": "c778d8e1-a3cf-4dfe-a435-d2d312b429cc",
   "metadata": {},
   "outputs": [
    {
     "data": {
      "text/plain": [
       "array([ 90., 135., 180., 225.])"
      ]
     },
     "execution_count": 40,
     "metadata": {},
     "output_type": "execute_result"
    }
   ],
   "source": [
    "price_array = np.array([100, 150, 200, 250])\n",
    "discount_percentage = 0.10\n",
    "p = price_array * discount_percentage\n",
    "a = price_array - p\n",
    "a"
   ]
  }
 ],
 "metadata": {
  "kernelspec": {
   "display_name": "Python 3 (ipykernel)",
   "language": "python",
   "name": "python3"
  },
  "language_info": {
   "codemirror_mode": {
    "name": "ipython",
    "version": 3
   },
   "file_extension": ".py",
   "mimetype": "text/x-python",
   "name": "python",
   "nbconvert_exporter": "python",
   "pygments_lexer": "ipython3",
   "version": "3.13.3"
  }
 },
 "nbformat": 4,
 "nbformat_minor": 5
}
