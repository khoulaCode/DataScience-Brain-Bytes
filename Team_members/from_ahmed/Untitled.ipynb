{
 "cells": [
  {
   "cell_type": "code",
   "execution_count": null,
   "id": "1b3bd4dc-58db-48d8-8ec8-58b711f405b6",
   "metadata": {},
   "outputs": [],
   "source": []
  }
 ],
 "metadata": {
  "kernelspec": {
   "display_name": "",
   "name": ""
  },
  "language_info": {
   "name": ""
  }
 },
 "nbformat": 4,
 "nbformat_minor": 5
}
