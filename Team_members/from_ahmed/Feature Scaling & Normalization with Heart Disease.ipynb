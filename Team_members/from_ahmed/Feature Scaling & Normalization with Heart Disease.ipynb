{
 "cells": [
  {
   "cell_type": "code",
   "execution_count": 1,
   "id": "408eb864",
   "metadata": {},
   "outputs": [],
   "source": [
    "import pandas as pd\n",
    "import numpy as np\n",
    "import matplotlib.pyplot as plt\n",
    "import seaborn as sns\n",
    "from sklearn.model_selection import train_test_split\n",
    "from sklearn.preprocessing import StandardScaler, MinMaxScaler\n",
    "from sklearn.linear_model import LogisticRegression\n",
    "from sklearn.metrics import accuracy_score, precision_score, recall_score, f1_score, classification_report, confusion_matrix\n",
    "import time"
   ]
  },
  {
   "cell_type": "code",
   "execution_count": 2,
   "id": "b93d7092",
   "metadata": {},
   "outputs": [],
   "source": [
    "df = pd.read_csv(\"heart.csv\")"
   ]
  },
  {
   "cell_type": "code",
   "execution_count": 3,
   "id": "a7aaf7f3",
   "metadata": {},
   "outputs": [
    {
     "name": "stdout",
     "output_type": "stream",
     "text": [
      "<class 'pandas.core.frame.DataFrame'>\n",
      "RangeIndex: 1025 entries, 0 to 1024\n",
      "Data columns (total 14 columns):\n",
      " #   Column    Non-Null Count  Dtype  \n",
      "---  ------    --------------  -----  \n",
      " 0   age       1025 non-null   int64  \n",
      " 1   sex       1025 non-null   int64  \n",
      " 2   cp        1025 non-null   int64  \n",
      " 3   trestbps  1025 non-null   int64  \n",
      " 4   chol      1025 non-null   int64  \n",
      " 5   fbs       1025 non-null   int64  \n",
      " 6   restecg   1025 non-null   int64  \n",
      " 7   thalach   1025 non-null   int64  \n",
      " 8   exang     1025 non-null   int64  \n",
      " 9   oldpeak   1025 non-null   float64\n",
      " 10  slope     1025 non-null   int64  \n",
      " 11  ca        1025 non-null   int64  \n",
      " 12  thal      1025 non-null   int64  \n",
      " 13  target    1025 non-null   int64  \n",
      "dtypes: float64(1), int64(13)\n",
      "memory usage: 112.2 KB\n"
     ]
    }
   ],
   "source": [
    "df.info()"
   ]
  },
  {
   "cell_type": "code",
   "execution_count": 4,
   "id": "b40df063",
   "metadata": {},
   "outputs": [
    {
     "data": {
      "text/plain": [
       "age         0\n",
       "sex         0\n",
       "cp          0\n",
       "trestbps    0\n",
       "chol        0\n",
       "fbs         0\n",
       "restecg     0\n",
       "thalach     0\n",
       "exang       0\n",
       "oldpeak     0\n",
       "slope       0\n",
       "ca          0\n",
       "thal        0\n",
       "target      0\n",
       "dtype: int64"
      ]
     },
     "execution_count": 4,
     "metadata": {},
     "output_type": "execute_result"
    }
   ],
   "source": [
    "df.isnull().sum()"
   ]
  },
  {
   "cell_type": "code",
   "execution_count": 5,
   "id": "df6d7982",
   "metadata": {},
   "outputs": [
    {
     "data": {
      "text/plain": [
       "np.int64(723)"
      ]
     },
     "execution_count": 5,
     "metadata": {},
     "output_type": "execute_result"
    }
   ],
   "source": [
    "df.duplicated().sum()"
   ]
  },
  {
   "cell_type": "code",
   "execution_count": 6,
   "id": "24859ca5",
   "metadata": {},
   "outputs": [],
   "source": [
    "df.drop_duplicates(inplace=True)"
   ]
  },
  {
   "cell_type": "code",
   "execution_count": 7,
   "id": "6f17e11a",
   "metadata": {},
   "outputs": [
    {
     "data": {
      "text/html": [
       "<div>\n",
       "<style scoped>\n",
       "    .dataframe tbody tr th:only-of-type {\n",
       "        vertical-align: middle;\n",
       "    }\n",
       "\n",
       "    .dataframe tbody tr th {\n",
       "        vertical-align: top;\n",
       "    }\n",
       "\n",
       "    .dataframe thead th {\n",
       "        text-align: right;\n",
       "    }\n",
       "</style>\n",
       "<table border=\"1\" class=\"dataframe\">\n",
       "  <thead>\n",
       "    <tr style=\"text-align: right;\">\n",
       "      <th></th>\n",
       "      <th>age</th>\n",
       "      <th>sex</th>\n",
       "      <th>cp</th>\n",
       "      <th>trestbps</th>\n",
       "      <th>chol</th>\n",
       "      <th>fbs</th>\n",
       "      <th>restecg</th>\n",
       "      <th>thalach</th>\n",
       "      <th>exang</th>\n",
       "      <th>oldpeak</th>\n",
       "      <th>slope</th>\n",
       "      <th>ca</th>\n",
       "      <th>thal</th>\n",
       "      <th>target</th>\n",
       "    </tr>\n",
       "  </thead>\n",
       "  <tbody>\n",
       "    <tr>\n",
       "      <th>0</th>\n",
       "      <td>52</td>\n",
       "      <td>1</td>\n",
       "      <td>0</td>\n",
       "      <td>125</td>\n",
       "      <td>212</td>\n",
       "      <td>0</td>\n",
       "      <td>1</td>\n",
       "      <td>168</td>\n",
       "      <td>0</td>\n",
       "      <td>1.0</td>\n",
       "      <td>2</td>\n",
       "      <td>2</td>\n",
       "      <td>3</td>\n",
       "      <td>0</td>\n",
       "    </tr>\n",
       "    <tr>\n",
       "      <th>1</th>\n",
       "      <td>53</td>\n",
       "      <td>1</td>\n",
       "      <td>0</td>\n",
       "      <td>140</td>\n",
       "      <td>203</td>\n",
       "      <td>1</td>\n",
       "      <td>0</td>\n",
       "      <td>155</td>\n",
       "      <td>1</td>\n",
       "      <td>3.1</td>\n",
       "      <td>0</td>\n",
       "      <td>0</td>\n",
       "      <td>3</td>\n",
       "      <td>0</td>\n",
       "    </tr>\n",
       "    <tr>\n",
       "      <th>2</th>\n",
       "      <td>70</td>\n",
       "      <td>1</td>\n",
       "      <td>0</td>\n",
       "      <td>145</td>\n",
       "      <td>174</td>\n",
       "      <td>0</td>\n",
       "      <td>1</td>\n",
       "      <td>125</td>\n",
       "      <td>1</td>\n",
       "      <td>2.6</td>\n",
       "      <td>0</td>\n",
       "      <td>0</td>\n",
       "      <td>3</td>\n",
       "      <td>0</td>\n",
       "    </tr>\n",
       "    <tr>\n",
       "      <th>3</th>\n",
       "      <td>61</td>\n",
       "      <td>1</td>\n",
       "      <td>0</td>\n",
       "      <td>148</td>\n",
       "      <td>203</td>\n",
       "      <td>0</td>\n",
       "      <td>1</td>\n",
       "      <td>161</td>\n",
       "      <td>0</td>\n",
       "      <td>0.0</td>\n",
       "      <td>2</td>\n",
       "      <td>1</td>\n",
       "      <td>3</td>\n",
       "      <td>0</td>\n",
       "    </tr>\n",
       "    <tr>\n",
       "      <th>4</th>\n",
       "      <td>62</td>\n",
       "      <td>0</td>\n",
       "      <td>0</td>\n",
       "      <td>138</td>\n",
       "      <td>294</td>\n",
       "      <td>1</td>\n",
       "      <td>1</td>\n",
       "      <td>106</td>\n",
       "      <td>0</td>\n",
       "      <td>1.9</td>\n",
       "      <td>1</td>\n",
       "      <td>3</td>\n",
       "      <td>2</td>\n",
       "      <td>0</td>\n",
       "    </tr>\n",
       "    <tr>\n",
       "      <th>...</th>\n",
       "      <td>...</td>\n",
       "      <td>...</td>\n",
       "      <td>...</td>\n",
       "      <td>...</td>\n",
       "      <td>...</td>\n",
       "      <td>...</td>\n",
       "      <td>...</td>\n",
       "      <td>...</td>\n",
       "      <td>...</td>\n",
       "      <td>...</td>\n",
       "      <td>...</td>\n",
       "      <td>...</td>\n",
       "      <td>...</td>\n",
       "      <td>...</td>\n",
       "    </tr>\n",
       "    <tr>\n",
       "      <th>723</th>\n",
       "      <td>68</td>\n",
       "      <td>0</td>\n",
       "      <td>2</td>\n",
       "      <td>120</td>\n",
       "      <td>211</td>\n",
       "      <td>0</td>\n",
       "      <td>0</td>\n",
       "      <td>115</td>\n",
       "      <td>0</td>\n",
       "      <td>1.5</td>\n",
       "      <td>1</td>\n",
       "      <td>0</td>\n",
       "      <td>2</td>\n",
       "      <td>1</td>\n",
       "    </tr>\n",
       "    <tr>\n",
       "      <th>733</th>\n",
       "      <td>44</td>\n",
       "      <td>0</td>\n",
       "      <td>2</td>\n",
       "      <td>108</td>\n",
       "      <td>141</td>\n",
       "      <td>0</td>\n",
       "      <td>1</td>\n",
       "      <td>175</td>\n",
       "      <td>0</td>\n",
       "      <td>0.6</td>\n",
       "      <td>1</td>\n",
       "      <td>0</td>\n",
       "      <td>2</td>\n",
       "      <td>1</td>\n",
       "    </tr>\n",
       "    <tr>\n",
       "      <th>739</th>\n",
       "      <td>52</td>\n",
       "      <td>1</td>\n",
       "      <td>0</td>\n",
       "      <td>128</td>\n",
       "      <td>255</td>\n",
       "      <td>0</td>\n",
       "      <td>1</td>\n",
       "      <td>161</td>\n",
       "      <td>1</td>\n",
       "      <td>0.0</td>\n",
       "      <td>2</td>\n",
       "      <td>1</td>\n",
       "      <td>3</td>\n",
       "      <td>0</td>\n",
       "    </tr>\n",
       "    <tr>\n",
       "      <th>843</th>\n",
       "      <td>59</td>\n",
       "      <td>1</td>\n",
       "      <td>3</td>\n",
       "      <td>160</td>\n",
       "      <td>273</td>\n",
       "      <td>0</td>\n",
       "      <td>0</td>\n",
       "      <td>125</td>\n",
       "      <td>0</td>\n",
       "      <td>0.0</td>\n",
       "      <td>2</td>\n",
       "      <td>0</td>\n",
       "      <td>2</td>\n",
       "      <td>0</td>\n",
       "    </tr>\n",
       "    <tr>\n",
       "      <th>878</th>\n",
       "      <td>54</td>\n",
       "      <td>1</td>\n",
       "      <td>0</td>\n",
       "      <td>120</td>\n",
       "      <td>188</td>\n",
       "      <td>0</td>\n",
       "      <td>1</td>\n",
       "      <td>113</td>\n",
       "      <td>0</td>\n",
       "      <td>1.4</td>\n",
       "      <td>1</td>\n",
       "      <td>1</td>\n",
       "      <td>3</td>\n",
       "      <td>0</td>\n",
       "    </tr>\n",
       "  </tbody>\n",
       "</table>\n",
       "<p>302 rows × 14 columns</p>\n",
       "</div>"
      ],
      "text/plain": [
       "     age  sex  cp  trestbps  chol  fbs  restecg  thalach  exang  oldpeak  \\\n",
       "0     52    1   0       125   212    0        1      168      0      1.0   \n",
       "1     53    1   0       140   203    1        0      155      1      3.1   \n",
       "2     70    1   0       145   174    0        1      125      1      2.6   \n",
       "3     61    1   0       148   203    0        1      161      0      0.0   \n",
       "4     62    0   0       138   294    1        1      106      0      1.9   \n",
       "..   ...  ...  ..       ...   ...  ...      ...      ...    ...      ...   \n",
       "723   68    0   2       120   211    0        0      115      0      1.5   \n",
       "733   44    0   2       108   141    0        1      175      0      0.6   \n",
       "739   52    1   0       128   255    0        1      161      1      0.0   \n",
       "843   59    1   3       160   273    0        0      125      0      0.0   \n",
       "878   54    1   0       120   188    0        1      113      0      1.4   \n",
       "\n",
       "     slope  ca  thal  target  \n",
       "0        2   2     3       0  \n",
       "1        0   0     3       0  \n",
       "2        0   0     3       0  \n",
       "3        2   1     3       0  \n",
       "4        1   3     2       0  \n",
       "..     ...  ..   ...     ...  \n",
       "723      1   0     2       1  \n",
       "733      1   0     2       1  \n",
       "739      2   1     3       0  \n",
       "843      2   0     2       0  \n",
       "878      1   1     3       0  \n",
       "\n",
       "[302 rows x 14 columns]"
      ]
     },
     "execution_count": 7,
     "metadata": {},
     "output_type": "execute_result"
    }
   ],
   "source": [
    "df"
   ]
  },
  {
   "cell_type": "code",
   "execution_count": 8,
   "id": "0fccda51",
   "metadata": {},
   "outputs": [
    {
     "data": {
      "text/plain": [
       "array([0, 1])"
      ]
     },
     "execution_count": 8,
     "metadata": {},
     "output_type": "execute_result"
    }
   ],
   "source": [
    "df['age'].unique()\n",
    "df['sex'].unique()\n",
    "df['cp'].unique()\n",
    "df['trestbps'].unique()\n",
    "df['chol'].unique()\n",
    "df['fbs'].unique()\n",
    "df['restecg'].unique()\n",
    "df['thalach'].unique()\n",
    "df['exang'].unique()    \n",
    "df['oldpeak'].unique()\n",
    "df['slope'].unique()\n",
    "df['ca'].unique()\n",
    "df['thal'].unique()\n",
    "df['target'].unique()"
   ]
  },
  {
   "cell_type": "markdown",
   "id": "65014e48",
   "metadata": {},
   "source": [
    "## Raw Data Training"
   ]
  },
  {
   "cell_type": "code",
   "execution_count": 9,
   "id": "af1e7040",
   "metadata": {},
   "outputs": [],
   "source": [
    "X_raw = df.drop('target', axis=1)\n",
    "y_raw = df['target']"
   ]
  },
  {
   "cell_type": "code",
   "execution_count": 10,
   "id": "452fec0b",
   "metadata": {},
   "outputs": [],
   "source": [
    "X_train_raw, X_test_raw, y_train_raw, y_test_raw = train_test_split(X_raw, y_raw, test_size=0.2, random_state=42)"
   ]
  },
  {
   "cell_type": "code",
   "execution_count": 11,
   "id": "92e6ff17",
   "metadata": {},
   "outputs": [
    {
     "name": "stderr",
     "output_type": "stream",
     "text": [
      "c:\\Python313\\Lib\\site-packages\\sklearn\\linear_model\\_logistic.py:470: ConvergenceWarning: lbfgs failed to converge after 1000 iteration(s) (status=1):\n",
      "STOP: TOTAL NO. OF ITERATIONS REACHED LIMIT\n",
      "\n",
      "Increase the number of iterations to improve the convergence (max_iter=1000).\n",
      "You might also want to scale the data as shown in:\n",
      "    https://scikit-learn.org/stable/modules/preprocessing.html\n",
      "Please also refer to the documentation for alternative solver options:\n",
      "    https://scikit-learn.org/stable/modules/linear_model.html#logistic-regression\n",
      "  n_iter_i = _check_optimize_result(\n"
     ]
    }
   ],
   "source": [
    "start_time = time.time()\n",
    "model_raw = LogisticRegression(random_state=42, max_iter=1000)\n",
    "model_raw.fit(X_train_raw, y_train_raw)\n",
    "training_time_raw = time.time() - start_time"
   ]
  },
  {
   "cell_type": "code",
   "execution_count": 12,
   "id": "b3b39585",
   "metadata": {},
   "outputs": [],
   "source": [
    "y_pred_raw = model_raw.predict(X_test_raw)"
   ]
  },
  {
   "cell_type": "code",
   "execution_count": 13,
   "id": "5f5665e9",
   "metadata": {},
   "outputs": [],
   "source": [
    "accuracy_raw = accuracy_score(y_test_raw, y_pred_raw)\n",
    "precision_raw = precision_score(y_test_raw, y_pred_raw)\n",
    "recall_raw = recall_score(y_test_raw, y_pred_raw)\n",
    "f1_raw = f1_score(y_test_raw, y_pred_raw)"
   ]
  },
  {
   "cell_type": "code",
   "execution_count": 14,
   "id": "0b28023f",
   "metadata": {},
   "outputs": [
    {
     "name": "stdout",
     "output_type": "stream",
     "text": [
      "Raw Data Results:\n",
      "Training Time: 0.7220 seconds\n",
      "Accuracy: 0.8033\n",
      "Precision: 0.7429\n",
      "Recall: 0.8966\n",
      "F1 Score: 0.8125\n",
      "\n",
      "Classification Report:\n",
      "              precision    recall  f1-score   support\n",
      "\n",
      "           0       0.88      0.72      0.79        32\n",
      "           1       0.74      0.90      0.81        29\n",
      "\n",
      "    accuracy                           0.80        61\n",
      "   macro avg       0.81      0.81      0.80        61\n",
      "weighted avg       0.82      0.80      0.80        61\n",
      "\n"
     ]
    }
   ],
   "source": [
    "print(\"Raw Data Results:\")\n",
    "print(f\"Training Time: {training_time_raw:.4f} seconds\")\n",
    "print(f\"Accuracy: {accuracy_raw:.4f}\")\n",
    "print(f\"Precision: {precision_raw:.4f}\")\n",
    "print(f\"Recall: {recall_raw:.4f}\")\n",
    "print(f\"F1 Score: {f1_raw:.4f}\")\n",
    "print(\"\\nClassification Report:\")\n",
    "print(classification_report(y_test_raw, y_pred_raw))"
   ]
  },
  {
   "cell_type": "markdown",
   "id": "779a8f90",
   "metadata": {},
   "source": [
    "## Normalized Data Training"
   ]
  },
  {
   "cell_type": "code",
   "execution_count": 15,
   "id": "b3b92b0b",
   "metadata": {},
   "outputs": [],
   "source": [
    "scaler_norm = MinMaxScaler()\n",
    "X_normalized = scaler_norm.fit_transform(X_raw)\n",
    "X_normalized = pd.DataFrame(X_normalized, columns=X_raw.columns)"
   ]
  },
  {
   "cell_type": "code",
   "execution_count": 16,
   "id": "2f6f39b7",
   "metadata": {},
   "outputs": [],
   "source": [
    "X_train_norm, X_test_norm, y_train_norm, y_test_norm = train_test_split(X_normalized, y_raw, test_size=0.2, random_state=42)"
   ]
  },
  {
   "cell_type": "code",
   "execution_count": 17,
   "id": "8d7c9185",
   "metadata": {},
   "outputs": [],
   "source": [
    "start_time = time.time()\n",
    "model_norm = LogisticRegression(random_state=42, max_iter=1000)\n",
    "model_norm.fit(X_train_norm, y_train_norm)\n",
    "training_time_norm = time.time() - start_time"
   ]
  },
  {
   "cell_type": "code",
   "execution_count": 18,
   "id": "f1abf283",
   "metadata": {},
   "outputs": [],
   "source": [
    "y_pred_norm = model_norm.predict(X_test_norm)"
   ]
  },
  {
   "cell_type": "code",
   "execution_count": 19,
   "id": "1a273974",
   "metadata": {},
   "outputs": [],
   "source": [
    "accuracy_norm = accuracy_score(y_test_norm, y_pred_norm)\n",
    "precision_norm = precision_score(y_test_norm, y_pred_norm)\n",
    "recall_norm = recall_score(y_test_norm, y_pred_norm)\n",
    "f1_norm = f1_score(y_test_norm, y_pred_norm)"
   ]
  },
  {
   "cell_type": "code",
   "execution_count": 20,
   "id": "ffe8bb72",
   "metadata": {},
   "outputs": [
    {
     "name": "stdout",
     "output_type": "stream",
     "text": [
      "Normalized Data Results:\n",
      "Training Time: 0.0127 seconds\n",
      "Accuracy: 0.8033\n",
      "Precision: 0.7429\n",
      "Recall: 0.8966\n",
      "F1 Score: 0.8125\n",
      "\n",
      "Classification Report:\n",
      "              precision    recall  f1-score   support\n",
      "\n",
      "           0       0.88      0.72      0.79        32\n",
      "           1       0.74      0.90      0.81        29\n",
      "\n",
      "    accuracy                           0.80        61\n",
      "   macro avg       0.81      0.81      0.80        61\n",
      "weighted avg       0.82      0.80      0.80        61\n",
      "\n"
     ]
    }
   ],
   "source": [
    "print(\"Normalized Data Results:\")\n",
    "print(f\"Training Time: {training_time_norm:.4f} seconds\")\n",
    "print(f\"Accuracy: {accuracy_norm:.4f}\")\n",
    "print(f\"Precision: {precision_norm:.4f}\")\n",
    "print(f\"Recall: {recall_norm:.4f}\")\n",
    "print(f\"F1 Score: {f1_norm:.4f}\")\n",
    "print(\"\\nClassification Report:\")\n",
    "print(classification_report(y_test_norm, y_pred_norm))"
   ]
  },
  {
   "cell_type": "markdown",
   "id": "ea40e61f",
   "metadata": {},
   "source": [
    "## Standardized Data Training"
   ]
  },
  {
   "cell_type": "code",
   "execution_count": 21,
   "id": "77042e55",
   "metadata": {},
   "outputs": [],
   "source": [
    "scaler_std = StandardScaler()\n",
    "X_standardized = scaler_std.fit_transform(X_raw)\n",
    "X_standardized = pd.DataFrame(X_standardized, columns=X_raw.columns)"
   ]
  },
  {
   "cell_type": "code",
   "execution_count": 22,
   "id": "36d0988a",
   "metadata": {},
   "outputs": [],
   "source": [
    "X_train_std, X_test_std, y_train_std, y_test_std = train_test_split(X_standardized, y_raw, test_size=0.2, random_state=42)"
   ]
  },
  {
   "cell_type": "code",
   "execution_count": 23,
   "id": "13a23f38",
   "metadata": {},
   "outputs": [],
   "source": [
    "start_time = time.time()\n",
    "model_std = LogisticRegression(random_state=42, max_iter=1000)\n",
    "model_std.fit(X_train_std, y_train_std)\n",
    "training_time_std = time.time() - start_time"
   ]
  },
  {
   "cell_type": "code",
   "execution_count": 24,
   "id": "cd09e343",
   "metadata": {},
   "outputs": [],
   "source": [
    "y_pred_std = model_std.predict(X_test_std)"
   ]
  },
  {
   "cell_type": "code",
   "execution_count": 25,
   "id": "5d26f66b",
   "metadata": {},
   "outputs": [],
   "source": [
    "accuracy_std = accuracy_score(y_test_std, y_pred_std)\n",
    "precision_std = precision_score(y_test_std, y_pred_std)\n",
    "recall_std = recall_score(y_test_std, y_pred_std)\n",
    "f1_std = f1_score(y_test_std, y_pred_std)"
   ]
  },
  {
   "cell_type": "code",
   "execution_count": 26,
   "id": "3af164af",
   "metadata": {},
   "outputs": [
    {
     "name": "stdout",
     "output_type": "stream",
     "text": [
      "Standardized Data Results:\n",
      "Training Time: 0.0069 seconds\n",
      "Accuracy: 0.7705\n",
      "Precision: 0.7027\n",
      "Recall: 0.8966\n",
      "F1 Score: 0.7879\n"
     ]
    }
   ],
   "source": [
    "print(\"Standardized Data Results:\")\n",
    "print(f\"Training Time: {training_time_std:.4f} seconds\")\n",
    "print(f\"Accuracy: {accuracy_std:.4f}\")\n",
    "print(f\"Precision: {precision_std:.4f}\")\n",
    "print(f\"Recall: {recall_std:.4f}\")\n",
    "print(f\"F1 Score: {f1_std:.4f}\")"
   ]
  },
  {
   "cell_type": "markdown",
   "id": "0d25307b",
   "metadata": {},
   "source": [
    "## Comparison of Preprocessing Techniques\n",
    "\n",
    "Compare the performance metrics and training times across raw, normalized, and standardized data:"
   ]
  },
  {
   "cell_type": "code",
   "execution_count": 27,
   "id": "c409e423",
   "metadata": {},
   "outputs": [
    {
     "name": "stdout",
     "output_type": "stream",
     "text": [
      "    Preprocessing  Training Time (s)  Accuracy  Precision   Recall  F1 Score\n",
      "         Raw Data           0.722019  0.803279   0.742857 0.896552  0.812500\n",
      "  Normalized Data           0.012664  0.803279   0.742857 0.896552  0.812500\n",
      "Standardized Data           0.006912  0.770492   0.702703 0.896552  0.787879\n"
     ]
    }
   ],
   "source": [
    "import pandas as pd\n",
    "\n",
    "comparison_data = {\n",
    "    'Preprocessing': ['Raw Data', 'Normalized Data', 'Standardized Data'],\n",
    "    'Training Time (s)': [training_time_raw, training_time_norm, training_time_std],\n",
    "    'Accuracy': [accuracy_raw, accuracy_norm, accuracy_std],\n",
    "    'Precision': [precision_raw, precision_norm, precision_std],\n",
    "    'Recall': [recall_raw, recall_norm, recall_std],\n",
    "    'F1 Score': [f1_raw, f1_norm, f1_std]\n",
    "}\n",
    "\n",
    "comparison_df = pd.DataFrame(comparison_data)\n",
    "print(comparison_df.to_string(index=False))"
   ]
  },
  {
   "cell_type": "markdown",
   "id": "687143ce",
   "metadata": {},
   "source": [
    "## Insights and Questions\n",
    "\n",
    "### How does training change if I don't scale features at all?\n",
    "Without scaling, big numbers will ruin the training which then ruins everything.\n",
    "\n",
    "### Which scaling method (MinMaxScaler vs StandardScaler) works better on this dataset?\n",
    "StandardScaler since our number are too small already.\n",
    "\n",
    "### Do categorical features need to be one-hot encoded, and how does that affect performance?\n",
    "Yes, we dont want the the computer to treat 2 bigger than 1 since thats not what they mean.\n",
    "\n",
    "### How sensitive is the neural network to changes in learning rate when features are scaled vs unscaled?\n",
    "too sensitive and the learning rate is much faster."
   ]
  }
 ],
 "metadata": {
  "kernelspec": {
   "display_name": "Python 3",
   "language": "python",
   "name": "python3"
  },
  "language_info": {
   "codemirror_mode": {
    "name": "ipython",
    "version": 3
   },
   "file_extension": ".py",
   "mimetype": "text/x-python",
   "name": "python",
   "nbconvert_exporter": "python",
   "pygments_lexer": "ipython3",
   "version": "3.13.3"
  }
 },
 "nbformat": 4,
 "nbformat_minor": 5
}
