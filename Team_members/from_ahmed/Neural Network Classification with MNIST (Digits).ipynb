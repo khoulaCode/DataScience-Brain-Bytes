{
 "cells": [
  {
   "cell_type": "code",
   "execution_count": 1,
   "id": "bff1a41c",
   "metadata": {},
   "outputs": [],
   "source": [
    "from tensorflow.keras.datasets import mnist\n",
    "import pandas as pd"
   ]
  },
  {
   "cell_type": "code",
   "execution_count": 2,
   "id": "35085860",
   "metadata": {},
   "outputs": [
    {
     "name": "stdout",
     "output_type": "stream",
     "text": [
      "MNIST train shape: (60000, 28, 28)\n",
      "MNIST test shape: (10000, 28, 28)\n"
     ]
    }
   ],
   "source": [
    "(X_train, y_train), (X_test, y_test) = mnist.load_data()\n",
    "\n",
    "print(\"MNIST train shape:\", X_train.shape)\n",
    "print(\"MNIST test shape:\", X_test.shape)"
   ]
  },
  {
   "cell_type": "code",
   "execution_count": 3,
   "id": "3fffc17b",
   "metadata": {},
   "outputs": [
    {
     "name": "stdout",
     "output_type": "stream",
     "text": [
      "Train DataFrame shape: (60000, 785)\n",
      "Test DataFrame shape: (10000, 785)\n"
     ]
    },
    {
     "data": {
      "text/html": [
       "<div>\n",
       "<style scoped>\n",
       "    .dataframe tbody tr th:only-of-type {\n",
       "        vertical-align: middle;\n",
       "    }\n",
       "\n",
       "    .dataframe tbody tr th {\n",
       "        vertical-align: top;\n",
       "    }\n",
       "\n",
       "    .dataframe thead th {\n",
       "        text-align: right;\n",
       "    }\n",
       "</style>\n",
       "<table border=\"1\" class=\"dataframe\">\n",
       "  <thead>\n",
       "    <tr style=\"text-align: right;\">\n",
       "      <th></th>\n",
       "      <th>0</th>\n",
       "      <th>1</th>\n",
       "      <th>2</th>\n",
       "      <th>3</th>\n",
       "      <th>4</th>\n",
       "      <th>5</th>\n",
       "      <th>6</th>\n",
       "      <th>7</th>\n",
       "      <th>8</th>\n",
       "      <th>9</th>\n",
       "      <th>...</th>\n",
       "      <th>775</th>\n",
       "      <th>776</th>\n",
       "      <th>777</th>\n",
       "      <th>778</th>\n",
       "      <th>779</th>\n",
       "      <th>780</th>\n",
       "      <th>781</th>\n",
       "      <th>782</th>\n",
       "      <th>783</th>\n",
       "      <th>label</th>\n",
       "    </tr>\n",
       "  </thead>\n",
       "  <tbody>\n",
       "    <tr>\n",
       "      <th>0</th>\n",
       "      <td>0</td>\n",
       "      <td>0</td>\n",
       "      <td>0</td>\n",
       "      <td>0</td>\n",
       "      <td>0</td>\n",
       "      <td>0</td>\n",
       "      <td>0</td>\n",
       "      <td>0</td>\n",
       "      <td>0</td>\n",
       "      <td>0</td>\n",
       "      <td>...</td>\n",
       "      <td>0</td>\n",
       "      <td>0</td>\n",
       "      <td>0</td>\n",
       "      <td>0</td>\n",
       "      <td>0</td>\n",
       "      <td>0</td>\n",
       "      <td>0</td>\n",
       "      <td>0</td>\n",
       "      <td>0</td>\n",
       "      <td>5</td>\n",
       "    </tr>\n",
       "    <tr>\n",
       "      <th>1</th>\n",
       "      <td>0</td>\n",
       "      <td>0</td>\n",
       "      <td>0</td>\n",
       "      <td>0</td>\n",
       "      <td>0</td>\n",
       "      <td>0</td>\n",
       "      <td>0</td>\n",
       "      <td>0</td>\n",
       "      <td>0</td>\n",
       "      <td>0</td>\n",
       "      <td>...</td>\n",
       "      <td>0</td>\n",
       "      <td>0</td>\n",
       "      <td>0</td>\n",
       "      <td>0</td>\n",
       "      <td>0</td>\n",
       "      <td>0</td>\n",
       "      <td>0</td>\n",
       "      <td>0</td>\n",
       "      <td>0</td>\n",
       "      <td>0</td>\n",
       "    </tr>\n",
       "    <tr>\n",
       "      <th>2</th>\n",
       "      <td>0</td>\n",
       "      <td>0</td>\n",
       "      <td>0</td>\n",
       "      <td>0</td>\n",
       "      <td>0</td>\n",
       "      <td>0</td>\n",
       "      <td>0</td>\n",
       "      <td>0</td>\n",
       "      <td>0</td>\n",
       "      <td>0</td>\n",
       "      <td>...</td>\n",
       "      <td>0</td>\n",
       "      <td>0</td>\n",
       "      <td>0</td>\n",
       "      <td>0</td>\n",
       "      <td>0</td>\n",
       "      <td>0</td>\n",
       "      <td>0</td>\n",
       "      <td>0</td>\n",
       "      <td>0</td>\n",
       "      <td>4</td>\n",
       "    </tr>\n",
       "    <tr>\n",
       "      <th>3</th>\n",
       "      <td>0</td>\n",
       "      <td>0</td>\n",
       "      <td>0</td>\n",
       "      <td>0</td>\n",
       "      <td>0</td>\n",
       "      <td>0</td>\n",
       "      <td>0</td>\n",
       "      <td>0</td>\n",
       "      <td>0</td>\n",
       "      <td>0</td>\n",
       "      <td>...</td>\n",
       "      <td>0</td>\n",
       "      <td>0</td>\n",
       "      <td>0</td>\n",
       "      <td>0</td>\n",
       "      <td>0</td>\n",
       "      <td>0</td>\n",
       "      <td>0</td>\n",
       "      <td>0</td>\n",
       "      <td>0</td>\n",
       "      <td>1</td>\n",
       "    </tr>\n",
       "    <tr>\n",
       "      <th>4</th>\n",
       "      <td>0</td>\n",
       "      <td>0</td>\n",
       "      <td>0</td>\n",
       "      <td>0</td>\n",
       "      <td>0</td>\n",
       "      <td>0</td>\n",
       "      <td>0</td>\n",
       "      <td>0</td>\n",
       "      <td>0</td>\n",
       "      <td>0</td>\n",
       "      <td>...</td>\n",
       "      <td>0</td>\n",
       "      <td>0</td>\n",
       "      <td>0</td>\n",
       "      <td>0</td>\n",
       "      <td>0</td>\n",
       "      <td>0</td>\n",
       "      <td>0</td>\n",
       "      <td>0</td>\n",
       "      <td>0</td>\n",
       "      <td>9</td>\n",
       "    </tr>\n",
       "  </tbody>\n",
       "</table>\n",
       "<p>5 rows × 785 columns</p>\n",
       "</div>"
      ],
      "text/plain": [
       "   0  1  2  3  4  5  6  7  8  9  ...  775  776  777  778  779  780  781  782  \\\n",
       "0  0  0  0  0  0  0  0  0  0  0  ...    0    0    0    0    0    0    0    0   \n",
       "1  0  0  0  0  0  0  0  0  0  0  ...    0    0    0    0    0    0    0    0   \n",
       "2  0  0  0  0  0  0  0  0  0  0  ...    0    0    0    0    0    0    0    0   \n",
       "3  0  0  0  0  0  0  0  0  0  0  ...    0    0    0    0    0    0    0    0   \n",
       "4  0  0  0  0  0  0  0  0  0  0  ...    0    0    0    0    0    0    0    0   \n",
       "\n",
       "   783  label  \n",
       "0    0      5  \n",
       "1    0      0  \n",
       "2    0      4  \n",
       "3    0      1  \n",
       "4    0      9  \n",
       "\n",
       "[5 rows x 785 columns]"
      ]
     },
     "execution_count": 3,
     "metadata": {},
     "output_type": "execute_result"
    }
   ],
   "source": [
    "\n",
    "X_train_flat = X_train.reshape(X_train.shape[0], -1)\n",
    "X_test_flat = X_test.reshape(X_test.shape[0], -1)\n",
    "\n",
    "df_train = pd.DataFrame(X_train_flat)\n",
    "df_train['label'] = y_train\n",
    "\n",
    "df_test = pd.DataFrame(X_test_flat)\n",
    "df_test['label'] = y_test\n",
    "\n",
    "print(\"Train DataFrame shape:\", df_train.shape)\n",
    "print(\"Test DataFrame shape:\", df_test.shape)\n",
    "df_train.head()"
   ]
  },
  {
   "cell_type": "code",
   "execution_count": 4,
   "id": "b1e395b2",
   "metadata": {},
   "outputs": [
    {
     "data": {
      "text/plain": [
       "0        0\n",
       "1        0\n",
       "2        0\n",
       "3        0\n",
       "4        0\n",
       "        ..\n",
       "780      0\n",
       "781      0\n",
       "782      0\n",
       "783      0\n",
       "label    0\n",
       "Length: 785, dtype: int64"
      ]
     },
     "execution_count": 4,
     "metadata": {},
     "output_type": "execute_result"
    }
   ],
   "source": [
    "df_train.isnull().sum()"
   ]
  },
  {
   "cell_type": "code",
   "execution_count": 5,
   "id": "716aeb22",
   "metadata": {},
   "outputs": [
    {
     "data": {
      "text/plain": [
       "np.int64(0)"
      ]
     },
     "execution_count": 5,
     "metadata": {},
     "output_type": "execute_result"
    }
   ],
   "source": [
    "df_train.duplicated().sum()"
   ]
  },
  {
   "cell_type": "markdown",
   "id": "cab0d177",
   "metadata": {},
   "source": [
    "## ReLU Hidden Layer + Softmax Output"
   ]
  },
  {
   "cell_type": "markdown",
   "id": "824c5da6",
   "metadata": {},
   "source": [
    "#### Prepare Labels (One-hot)"
   ]
  },
  {
   "cell_type": "code",
   "execution_count": 6,
   "id": "083049a0",
   "metadata": {},
   "outputs": [],
   "source": [
    "from tensorflow.keras.utils import to_categorical\n",
    "y_train_cat = to_categorical(y_train, num_classes=10)\n",
    "y_test_cat = to_categorical(y_test, num_classes=10)"
   ]
  },
  {
   "cell_type": "markdown",
   "id": "b1df780a",
   "metadata": {},
   "source": [
    "#### Model Definition"
   ]
  },
  {
   "cell_type": "code",
   "execution_count": 7,
   "id": "20eda9d5",
   "metadata": {},
   "outputs": [
    {
     "name": "stderr",
     "output_type": "stream",
     "text": [
      "c:\\Python313\\Lib\\site-packages\\keras\\src\\layers\\core\\dense.py:92: UserWarning: Do not pass an `input_shape`/`input_dim` argument to a layer. When using Sequential models, prefer using an `Input(shape)` object as the first layer in the model instead.\n",
      "  super().__init__(activity_regularizer=activity_regularizer, **kwargs)\n"
     ]
    }
   ],
   "source": [
    "from tensorflow.keras.models import Sequential\n",
    "from tensorflow.keras.layers import Dense\n",
    "model_relu_softmax = Sequential([\n",
    "    Dense(128, activation='relu', input_shape=(784,)),\n",
    "    Dense(10, activation='softmax')\n",
    "])"
   ]
  },
  {
   "cell_type": "markdown",
   "id": "4158bed2",
   "metadata": {},
   "source": [
    "#### Compile Model"
   ]
  },
  {
   "cell_type": "code",
   "execution_count": 8,
   "id": "f9acbd4a",
   "metadata": {},
   "outputs": [],
   "source": [
    "model_relu_softmax.compile(optimizer='adam', loss='categorical_crossentropy', metrics=['accuracy'])"
   ]
  },
  {
   "cell_type": "markdown",
   "id": "fe4eedd6",
   "metadata": {},
   "source": [
    "#### Train Model"
   ]
  },
  {
   "cell_type": "code",
   "execution_count": 9,
   "id": "dcf46db6",
   "metadata": {},
   "outputs": [
    {
     "name": "stdout",
     "output_type": "stream",
     "text": [
      "Epoch 1/10\n",
      "1688/1688 - 3s - 2ms/step - accuracy: 0.8493 - loss: 2.7305 - val_accuracy: 0.9003 - val_loss: 0.4679\n",
      "Epoch 2/10\n",
      "1688/1688 - 2s - 1ms/step - accuracy: 0.9044 - loss: 0.4186 - val_accuracy: 0.9167 - val_loss: 0.3304\n",
      "Epoch 3/10\n",
      "1688/1688 - 2s - 1ms/step - accuracy: 0.9261 - loss: 0.2911 - val_accuracy: 0.9488 - val_loss: 0.2220\n",
      "Epoch 4/10\n",
      "1688/1688 - 2s - 1ms/step - accuracy: 0.9354 - loss: 0.2570 - val_accuracy: 0.9492 - val_loss: 0.2211\n",
      "Epoch 5/10\n",
      "1688/1688 - 2s - 1ms/step - accuracy: 0.9410 - loss: 0.2377 - val_accuracy: 0.9425 - val_loss: 0.2278\n",
      "Epoch 6/10\n",
      "1688/1688 - 2s - 1ms/step - accuracy: 0.9444 - loss: 0.2186 - val_accuracy: 0.9522 - val_loss: 0.2063\n",
      "Epoch 7/10\n",
      "1688/1688 - 2s - 1ms/step - accuracy: 0.9481 - loss: 0.2083 - val_accuracy: 0.9507 - val_loss: 0.2002\n",
      "Epoch 8/10\n",
      "1688/1688 - 2s - 1ms/step - accuracy: 0.9517 - loss: 0.1925 - val_accuracy: 0.9480 - val_loss: 0.2298\n",
      "Epoch 9/10\n",
      "1688/1688 - 2s - 1ms/step - accuracy: 0.9520 - loss: 0.1952 - val_accuracy: 0.9500 - val_loss: 0.2157\n",
      "Epoch 10/10\n",
      "1688/1688 - 2s - 1ms/step - accuracy: 0.9554 - loss: 0.1850 - val_accuracy: 0.9543 - val_loss: 0.1964\n"
     ]
    }
   ],
   "source": [
    "history_relu_softmax = model_relu_softmax.fit(\n",
    "    X_train_flat, y_train_cat,\n",
    "    epochs=10, batch_size=32, validation_split=0.1, verbose=2\n",
    ")"
   ]
  },
  {
   "cell_type": "markdown",
   "id": "4a4febed",
   "metadata": {},
   "source": [
    "#### Evaluate Model"
   ]
  },
  {
   "cell_type": "code",
   "execution_count": 10,
   "id": "19eb5468",
   "metadata": {},
   "outputs": [
    {
     "name": "stdout",
     "output_type": "stream",
     "text": [
      "ReLU+Softmax Test Accuracy: 0.9445\n"
     ]
    }
   ],
   "source": [
    "score = model_relu_softmax.evaluate(X_test_flat, y_test_cat, verbose=0)\n",
    "print(f'ReLU+Softmax Test Accuracy: {score[1]:.4f}')"
   ]
  },
  {
   "cell_type": "markdown",
   "id": "45383296",
   "metadata": {},
   "source": [
    "## ReLU Hidden Layer + Softmax Output with SGD Optimizer"
   ]
  },
  {
   "cell_type": "markdown",
   "id": "7ffbe973",
   "metadata": {},
   "source": [
    "#### Model Definition"
   ]
  },
  {
   "cell_type": "code",
   "execution_count": 11,
   "id": "f9d09a36",
   "metadata": {},
   "outputs": [],
   "source": [
    "from tensorflow.keras.optimizers import SGD\n",
    "model_relu_softmax_sgd = Sequential([\n",
    "    Dense(128, activation='relu', input_shape=(784,)),\n",
    "    Dense(10, activation='softmax')\n",
    "])"
   ]
  },
  {
   "cell_type": "markdown",
   "id": "9a804777",
   "metadata": {},
   "source": [
    "#### Compile Model"
   ]
  },
  {
   "cell_type": "code",
   "execution_count": 12,
   "id": "cacc29be",
   "metadata": {},
   "outputs": [],
   "source": [
    "model_relu_softmax_sgd.compile(optimizer=SGD(), loss='categorical_crossentropy', metrics=['accuracy'])"
   ]
  },
  {
   "cell_type": "markdown",
   "id": "5e9e4de5",
   "metadata": {},
   "source": [
    "#### Train Model"
   ]
  },
  {
   "cell_type": "code",
   "execution_count": 13,
   "id": "aa105674",
   "metadata": {},
   "outputs": [
    {
     "name": "stdout",
     "output_type": "stream",
     "text": [
      "Epoch 1/10\n",
      "1688/1688 - 2s - 1ms/step - accuracy: 0.2503 - loss: 50.6571 - val_accuracy: 0.2660 - val_loss: 1.9049\n",
      "Epoch 2/10\n",
      "1688/1688 - 2s - 1ms/step - accuracy: 0.2674 - loss: 1.9272 - val_accuracy: 0.2432 - val_loss: 1.9417\n",
      "Epoch 3/10\n",
      "1688/1688 - 2s - 1ms/step - accuracy: 0.2524 - loss: 1.9352 - val_accuracy: 0.2155 - val_loss: 2.0013\n",
      "Epoch 4/10\n",
      "1688/1688 - 2s - 1ms/step - accuracy: 0.2491 - loss: 1.9381 - val_accuracy: 0.2452 - val_loss: 1.9176\n",
      "Epoch 5/10\n",
      "1688/1688 - 2s - 1ms/step - accuracy: 0.2389 - loss: 1.9707 - val_accuracy: 0.2527 - val_loss: 1.9751\n",
      "Epoch 6/10\n",
      "1688/1688 - 2s - 1ms/step - accuracy: 0.2434 - loss: 2.0249 - val_accuracy: 0.2570 - val_loss: 1.9650\n",
      "Epoch 7/10\n",
      "1688/1688 - 2s - 1000us/step - accuracy: 0.2494 - loss: 1.9727 - val_accuracy: 0.2187 - val_loss: 1.9869\n",
      "Epoch 8/10\n",
      "1688/1688 - 2s - 997us/step - accuracy: 0.2493 - loss: 1.9284 - val_accuracy: 0.2718 - val_loss: 1.8834\n",
      "Epoch 9/10\n",
      "1688/1688 - 2s - 1ms/step - accuracy: 0.2429 - loss: 1.9481 - val_accuracy: 0.2123 - val_loss: 1.9975\n",
      "Epoch 10/10\n",
      "1688/1688 - 2s - 1ms/step - accuracy: 0.2419 - loss: 1.9485 - val_accuracy: 0.2527 - val_loss: 1.9568\n"
     ]
    }
   ],
   "source": [
    "history_relu_softmax_sgd = model_relu_softmax_sgd.fit(\n",
    "    X_train_flat, y_train_cat,\n",
    "    epochs=10, batch_size=32, validation_split=0.1, verbose=2\n",
    ")"
   ]
  },
  {
   "cell_type": "markdown",
   "id": "d79e588a",
   "metadata": {},
   "source": [
    "#### Evaluate Model"
   ]
  },
  {
   "cell_type": "code",
   "execution_count": 14,
   "id": "0c65ad32",
   "metadata": {},
   "outputs": [
    {
     "name": "stdout",
     "output_type": "stream",
     "text": [
      "ReLU+Softmax (SGD) Test Accuracy: 0.2534\n"
     ]
    }
   ],
   "source": [
    "score = model_relu_softmax_sgd.evaluate(X_test_flat, y_test_cat, verbose=0)\n",
    "print(f'ReLU+Softmax (SGD) Test Accuracy: {score[1]:.4f}')"
   ]
  },
  {
   "cell_type": "markdown",
   "id": "126dd4e4",
   "metadata": {},
   "source": [
    "## ReLU Hidden Layer + Softmax Output with RMSprop Optimizer"
   ]
  },
  {
   "cell_type": "markdown",
   "id": "9f61f5da",
   "metadata": {},
   "source": [
    "#### Model Definition"
   ]
  },
  {
   "cell_type": "code",
   "execution_count": 15,
   "id": "71c84e50",
   "metadata": {},
   "outputs": [],
   "source": [
    "from tensorflow.keras.optimizers import RMSprop\n",
    "model_relu_softmax_rmsprop = Sequential([\n",
    "    Dense(128, activation='relu', input_shape=(784,)),\n",
    "    Dense(10, activation='softmax')\n",
    "])"
   ]
  },
  {
   "cell_type": "markdown",
   "id": "670d10c0",
   "metadata": {},
   "source": [
    "#### Compile Model"
   ]
  },
  {
   "cell_type": "code",
   "execution_count": 16,
   "id": "dcb26197",
   "metadata": {},
   "outputs": [],
   "source": [
    "model_relu_softmax_rmsprop.compile(optimizer=RMSprop(), loss='categorical_crossentropy', metrics=['accuracy'])"
   ]
  },
  {
   "cell_type": "markdown",
   "id": "945ce895",
   "metadata": {},
   "source": [
    "#### Train Model"
   ]
  },
  {
   "cell_type": "code",
   "execution_count": 17,
   "id": "ddd69d95",
   "metadata": {},
   "outputs": [
    {
     "name": "stdout",
     "output_type": "stream",
     "text": [
      "Epoch 1/10\n",
      "1688/1688 - 2s - 1ms/step - accuracy: 0.8713 - loss: 2.9943 - val_accuracy: 0.9310 - val_loss: 0.5385\n",
      "Epoch 2/10\n",
      "1688/1688 - 2s - 1ms/step - accuracy: 0.9246 - loss: 0.6131 - val_accuracy: 0.9368 - val_loss: 0.3976\n",
      "Epoch 3/10\n",
      "1688/1688 - 2s - 1ms/step - accuracy: 0.9436 - loss: 0.4574 - val_accuracy: 0.9480 - val_loss: 0.5132\n",
      "Epoch 4/10\n",
      "1688/1688 - 2s - 1ms/step - accuracy: 0.9527 - loss: 0.3817 - val_accuracy: 0.9505 - val_loss: 0.5775\n",
      "Epoch 5/10\n",
      "1688/1688 - 2s - 1ms/step - accuracy: 0.9590 - loss: 0.3477 - val_accuracy: 0.9590 - val_loss: 0.4562\n",
      "Epoch 6/10\n",
      "1688/1688 - 2s - 1ms/step - accuracy: 0.9621 - loss: 0.3174 - val_accuracy: 0.9602 - val_loss: 0.4339\n",
      "Epoch 7/10\n",
      "1688/1688 - 2s - 1ms/step - accuracy: 0.9656 - loss: 0.2888 - val_accuracy: 0.9655 - val_loss: 0.4648\n",
      "Epoch 8/10\n",
      "1688/1688 - 2s - 1ms/step - accuracy: 0.9684 - loss: 0.2682 - val_accuracy: 0.9633 - val_loss: 0.4533\n",
      "Epoch 9/10\n",
      "1688/1688 - 2s - 1ms/step - accuracy: 0.9714 - loss: 0.2444 - val_accuracy: 0.9630 - val_loss: 0.6139\n",
      "Epoch 10/10\n",
      "1688/1688 - 2s - 1ms/step - accuracy: 0.9731 - loss: 0.2337 - val_accuracy: 0.9607 - val_loss: 0.5502\n"
     ]
    }
   ],
   "source": [
    "history_relu_softmax_rmsprop = model_relu_softmax_rmsprop.fit(\n",
    "    X_train_flat, y_train_cat,\n",
    "    epochs=10, batch_size=32, validation_split=0.1, verbose=2\n",
    ")"
   ]
  },
  {
   "cell_type": "markdown",
   "id": "e77509bb",
   "metadata": {},
   "source": [
    "#### Evaluate Model"
   ]
  },
  {
   "cell_type": "code",
   "execution_count": 18,
   "id": "0bab25f9",
   "metadata": {},
   "outputs": [
    {
     "name": "stdout",
     "output_type": "stream",
     "text": [
      "ReLU+Softmax (RMSprop) Test Accuracy: 0.9559\n"
     ]
    }
   ],
   "source": [
    "score = model_relu_softmax_rmsprop.evaluate(X_test_flat, y_test_cat, verbose=0)\n",
    "print(f'ReLU+Softmax (RMSprop) Test Accuracy: {score[1]:.4f}')"
   ]
  },
  {
   "cell_type": "markdown",
   "id": "86910de2",
   "metadata": {},
   "source": [
    "## ReLU Hidden Layer + Sigmoid Output"
   ]
  },
  {
   "cell_type": "markdown",
   "id": "a07870ee",
   "metadata": {},
   "source": [
    "#### Model Definition"
   ]
  },
  {
   "cell_type": "code",
   "execution_count": 19,
   "id": "b8e1d438",
   "metadata": {},
   "outputs": [],
   "source": [
    "model_relu_sigmoid = Sequential([\n",
    "    Dense(128, activation='relu', input_shape=(784,)),\n",
    "    Dense(10, activation='sigmoid')\n",
    "])"
   ]
  },
  {
   "cell_type": "markdown",
   "id": "64ff36c6",
   "metadata": {},
   "source": [
    "#### Compile Model"
   ]
  },
  {
   "cell_type": "code",
   "execution_count": 20,
   "id": "d3ddad1a",
   "metadata": {},
   "outputs": [],
   "source": [
    "model_relu_sigmoid.compile(optimizer='adam', loss='binary_crossentropy', metrics=['accuracy'])"
   ]
  },
  {
   "cell_type": "markdown",
   "id": "69e2488f",
   "metadata": {},
   "source": [
    "#### Train Model"
   ]
  },
  {
   "cell_type": "code",
   "execution_count": 21,
   "id": "3fe870c3",
   "metadata": {},
   "outputs": [
    {
     "name": "stdout",
     "output_type": "stream",
     "text": [
      "Epoch 1/10\n",
      "1688/1688 - 3s - 2ms/step - accuracy: 0.8865 - loss: 0.4585 - val_accuracy: 0.9338 - val_loss: 0.0750\n",
      "Epoch 2/10\n",
      "1688/1688 - 2s - 1ms/step - accuracy: 0.9323 - loss: 0.0655 - val_accuracy: 0.9418 - val_loss: 0.0449\n",
      "Epoch 3/10\n",
      "1688/1688 - 2s - 1ms/step - accuracy: 0.9450 - loss: 0.0426 - val_accuracy: 0.9540 - val_loss: 0.0345\n",
      "Epoch 4/10\n",
      "1688/1688 - 2s - 1ms/step - accuracy: 0.9511 - loss: 0.0362 - val_accuracy: 0.9545 - val_loss: 0.0331\n",
      "Epoch 5/10\n",
      "1688/1688 - 3s - 2ms/step - accuracy: 0.9562 - loss: 0.0335 - val_accuracy: 0.9565 - val_loss: 0.0327\n",
      "Epoch 6/10\n",
      "1688/1688 - 4s - 3ms/step - accuracy: 0.9601 - loss: 0.0315 - val_accuracy: 0.9622 - val_loss: 0.0315\n",
      "Epoch 7/10\n",
      "1688/1688 - 5s - 3ms/step - accuracy: 0.9633 - loss: 0.0282 - val_accuracy: 0.9570 - val_loss: 0.0339\n",
      "Epoch 8/10\n",
      "1688/1688 - 4s - 3ms/step - accuracy: 0.9649 - loss: 0.0271 - val_accuracy: 0.9630 - val_loss: 0.0316\n",
      "Epoch 9/10\n",
      "1688/1688 - 5s - 3ms/step - accuracy: 0.9686 - loss: 0.0249 - val_accuracy: 0.9660 - val_loss: 0.0293\n",
      "Epoch 10/10\n",
      "1688/1688 - 5s - 3ms/step - accuracy: 0.9679 - loss: 0.0240 - val_accuracy: 0.9605 - val_loss: 0.0338\n"
     ]
    }
   ],
   "source": [
    "history_relu_sigmoid = model_relu_sigmoid.fit(\n",
    "    X_train_flat, y_train_cat,\n",
    "    epochs=10, batch_size=32, validation_split=0.1, verbose=2\n",
    ")"
   ]
  },
  {
   "cell_type": "markdown",
   "id": "c3f6d1e0",
   "metadata": {},
   "source": [
    "#### Evaluate Model"
   ]
  },
  {
   "cell_type": "code",
   "execution_count": 22,
   "id": "3d8f7bb9",
   "metadata": {},
   "outputs": [
    {
     "name": "stdout",
     "output_type": "stream",
     "text": [
      "ReLU+Sigmoid Test Accuracy: 0.9567\n"
     ]
    }
   ],
   "source": [
    "score = model_relu_sigmoid.evaluate(X_test_flat, y_test_cat, verbose=0)\n",
    "print(f'ReLU+Sigmoid Test Accuracy: {score[1]:.4f}')"
   ]
  },
  {
   "cell_type": "markdown",
   "id": "f6add99c",
   "metadata": {},
   "source": [
    "## ReLU Hidden Layer + Sigmoid Output with SGD Optimizer"
   ]
  },
  {
   "cell_type": "markdown",
   "id": "97d9ad44",
   "metadata": {},
   "source": [
    "#### Model Definition"
   ]
  },
  {
   "cell_type": "code",
   "execution_count": 23,
   "id": "5be79ddb",
   "metadata": {},
   "outputs": [],
   "source": [
    "model_relu_sigmoid_sgd = Sequential([\n",
    "    Dense(128, activation='relu', input_shape=(784,)),\n",
    "    Dense(10, activation='sigmoid')\n",
    "])"
   ]
  },
  {
   "cell_type": "markdown",
   "id": "7b3f97f5",
   "metadata": {},
   "source": [
    "#### Compile Model"
   ]
  },
  {
   "cell_type": "code",
   "execution_count": 24,
   "id": "7d7125dd",
   "metadata": {},
   "outputs": [],
   "source": [
    "model_relu_sigmoid_sgd.compile(optimizer=SGD(), loss='binary_crossentropy', metrics=['accuracy'])"
   ]
  },
  {
   "cell_type": "markdown",
   "id": "de6e6701",
   "metadata": {},
   "source": [
    "#### Train Model"
   ]
  },
  {
   "cell_type": "code",
   "execution_count": 25,
   "id": "9593d403",
   "metadata": {},
   "outputs": [
    {
     "name": "stdout",
     "output_type": "stream",
     "text": [
      "Epoch 1/10\n",
      "1688/1688 - 5s - 3ms/step - accuracy: 0.7667 - loss: 0.3815 - val_accuracy: 0.7867 - val_loss: 0.1009\n",
      "Epoch 2/10\n",
      "1688/1688 - 4s - 2ms/step - accuracy: 0.8650 - loss: 0.0902 - val_accuracy: 0.9048 - val_loss: 0.0725\n",
      "Epoch 3/10\n",
      "1688/1688 - 4s - 2ms/step - accuracy: 0.8970 - loss: 0.0731 - val_accuracy: 0.9243 - val_loss: 0.0589\n",
      "Epoch 4/10\n",
      "1688/1688 - 4s - 2ms/step - accuracy: 0.9127 - loss: 0.0615 - val_accuracy: 0.9250 - val_loss: 0.0542\n",
      "Epoch 5/10\n",
      "1688/1688 - 4s - 2ms/step - accuracy: 0.9236 - loss: 0.0533 - val_accuracy: 0.9232 - val_loss: 0.0615\n",
      "Epoch 6/10\n",
      "1688/1688 - 4s - 2ms/step - accuracy: 0.9293 - loss: 0.0494 - val_accuracy: 0.9413 - val_loss: 0.0429\n",
      "Epoch 7/10\n",
      "1688/1688 - 4s - 2ms/step - accuracy: 0.9328 - loss: 0.0469 - val_accuracy: 0.9438 - val_loss: 0.0406\n",
      "Epoch 8/10\n",
      "1688/1688 - 4s - 2ms/step - accuracy: 0.9358 - loss: 0.0452 - val_accuracy: 0.9452 - val_loss: 0.0403\n",
      "Epoch 9/10\n",
      "1688/1688 - 4s - 2ms/step - accuracy: 0.9380 - loss: 0.0433 - val_accuracy: 0.9420 - val_loss: 0.0407\n",
      "Epoch 10/10\n",
      "1688/1688 - 4s - 2ms/step - accuracy: 0.9402 - loss: 0.0419 - val_accuracy: 0.9458 - val_loss: 0.0379\n"
     ]
    }
   ],
   "source": [
    "history_relu_sigmoid_sgd = model_relu_sigmoid_sgd.fit(\n",
    "    X_train_flat, y_train_cat,\n",
    "    epochs=10, batch_size=32, validation_split=0.1, verbose=2\n",
    ")"
   ]
  },
  {
   "cell_type": "markdown",
   "id": "81ae7c4f",
   "metadata": {},
   "source": [
    "#### Evaluate Model"
   ]
  },
  {
   "cell_type": "code",
   "execution_count": 26,
   "id": "ff4fa3cc",
   "metadata": {},
   "outputs": [
    {
     "name": "stdout",
     "output_type": "stream",
     "text": [
      "ReLU+Sigmoid (SGD) Test Accuracy: 0.9369\n"
     ]
    }
   ],
   "source": [
    "score = model_relu_sigmoid_sgd.evaluate(X_test_flat, y_test_cat, verbose=0)\n",
    "print(f'ReLU+Sigmoid (SGD) Test Accuracy: {score[1]:.4f}')"
   ]
  },
  {
   "cell_type": "markdown",
   "id": "02fea979",
   "metadata": {},
   "source": [
    "## ReLU Hidden Layer + Sigmoid Output with RMSprop Optimizer"
   ]
  },
  {
   "cell_type": "markdown",
   "id": "fd85b1c4",
   "metadata": {},
   "source": [
    "#### Model Definition"
   ]
  },
  {
   "cell_type": "code",
   "execution_count": 27,
   "id": "37d7b147",
   "metadata": {},
   "outputs": [
    {
     "data": {
      "text/html": [
       "<pre style=\"white-space:pre;overflow-x:auto;line-height:normal;font-family:Menlo,'DejaVu Sans Mono',consolas,'Courier New',monospace\"><span style=\"font-weight: bold\">Model: \"sequential_5\"</span>\n",
       "</pre>\n"
      ],
      "text/plain": [
       "\u001b[1mModel: \"sequential_5\"\u001b[0m\n"
      ]
     },
     "metadata": {},
     "output_type": "display_data"
    },
    {
     "data": {
      "text/html": [
       "<pre style=\"white-space:pre;overflow-x:auto;line-height:normal;font-family:Menlo,'DejaVu Sans Mono',consolas,'Courier New',monospace\">┏━━━━━━━━━━━━━━━━━━━━━━━━━━━━━━━━━┳━━━━━━━━━━━━━━━━━━━━━━━━┳━━━━━━━━━━━━━━━┓\n",
       "┃<span style=\"font-weight: bold\"> Layer (type)                    </span>┃<span style=\"font-weight: bold\"> Output Shape           </span>┃<span style=\"font-weight: bold\">       Param # </span>┃\n",
       "┡━━━━━━━━━━━━━━━━━━━━━━━━━━━━━━━━━╇━━━━━━━━━━━━━━━━━━━━━━━━╇━━━━━━━━━━━━━━━┩\n",
       "│ dense_10 (<span style=\"color: #0087ff; text-decoration-color: #0087ff\">Dense</span>)                │ (<span style=\"color: #00d7ff; text-decoration-color: #00d7ff\">None</span>, <span style=\"color: #00af00; text-decoration-color: #00af00\">128</span>)            │       <span style=\"color: #00af00; text-decoration-color: #00af00\">100,480</span> │\n",
       "├─────────────────────────────────┼────────────────────────┼───────────────┤\n",
       "│ dense_11 (<span style=\"color: #0087ff; text-decoration-color: #0087ff\">Dense</span>)                │ (<span style=\"color: #00d7ff; text-decoration-color: #00d7ff\">None</span>, <span style=\"color: #00af00; text-decoration-color: #00af00\">10</span>)             │         <span style=\"color: #00af00; text-decoration-color: #00af00\">1,290</span> │\n",
       "└─────────────────────────────────┴────────────────────────┴───────────────┘\n",
       "</pre>\n"
      ],
      "text/plain": [
       "┏━━━━━━━━━━━━━━━━━━━━━━━━━━━━━━━━━┳━━━━━━━━━━━━━━━━━━━━━━━━┳━━━━━━━━━━━━━━━┓\n",
       "┃\u001b[1m \u001b[0m\u001b[1mLayer (type)                   \u001b[0m\u001b[1m \u001b[0m┃\u001b[1m \u001b[0m\u001b[1mOutput Shape          \u001b[0m\u001b[1m \u001b[0m┃\u001b[1m \u001b[0m\u001b[1m      Param #\u001b[0m\u001b[1m \u001b[0m┃\n",
       "┡━━━━━━━━━━━━━━━━━━━━━━━━━━━━━━━━━╇━━━━━━━━━━━━━━━━━━━━━━━━╇━━━━━━━━━━━━━━━┩\n",
       "│ dense_10 (\u001b[38;5;33mDense\u001b[0m)                │ (\u001b[38;5;45mNone\u001b[0m, \u001b[38;5;34m128\u001b[0m)            │       \u001b[38;5;34m100,480\u001b[0m │\n",
       "├─────────────────────────────────┼────────────────────────┼───────────────┤\n",
       "│ dense_11 (\u001b[38;5;33mDense\u001b[0m)                │ (\u001b[38;5;45mNone\u001b[0m, \u001b[38;5;34m10\u001b[0m)             │         \u001b[38;5;34m1,290\u001b[0m │\n",
       "└─────────────────────────────────┴────────────────────────┴───────────────┘\n"
      ]
     },
     "metadata": {},
     "output_type": "display_data"
    },
    {
     "data": {
      "text/html": [
       "<pre style=\"white-space:pre;overflow-x:auto;line-height:normal;font-family:Menlo,'DejaVu Sans Mono',consolas,'Courier New',monospace\"><span style=\"font-weight: bold\"> Total params: </span><span style=\"color: #00af00; text-decoration-color: #00af00\">101,770</span> (397.54 KB)\n",
       "</pre>\n"
      ],
      "text/plain": [
       "\u001b[1m Total params: \u001b[0m\u001b[38;5;34m101,770\u001b[0m (397.54 KB)\n"
      ]
     },
     "metadata": {},
     "output_type": "display_data"
    },
    {
     "data": {
      "text/html": [
       "<pre style=\"white-space:pre;overflow-x:auto;line-height:normal;font-family:Menlo,'DejaVu Sans Mono',consolas,'Courier New',monospace\"><span style=\"font-weight: bold\"> Trainable params: </span><span style=\"color: #00af00; text-decoration-color: #00af00\">101,770</span> (397.54 KB)\n",
       "</pre>\n"
      ],
      "text/plain": [
       "\u001b[1m Trainable params: \u001b[0m\u001b[38;5;34m101,770\u001b[0m (397.54 KB)\n"
      ]
     },
     "metadata": {},
     "output_type": "display_data"
    },
    {
     "data": {
      "text/html": [
       "<pre style=\"white-space:pre;overflow-x:auto;line-height:normal;font-family:Menlo,'DejaVu Sans Mono',consolas,'Courier New',monospace\"><span style=\"font-weight: bold\"> Non-trainable params: </span><span style=\"color: #00af00; text-decoration-color: #00af00\">0</span> (0.00 B)\n",
       "</pre>\n"
      ],
      "text/plain": [
       "\u001b[1m Non-trainable params: \u001b[0m\u001b[38;5;34m0\u001b[0m (0.00 B)\n"
      ]
     },
     "metadata": {},
     "output_type": "display_data"
    }
   ],
   "source": [
    "model_relu_sigmoid_rmsprop = Sequential([\n",
    "    Dense(128, activation='relu', input_shape=(784,)),\n",
    "    Dense(10, activation='sigmoid')\n",
    "])\n",
    "model_relu_sigmoid_rmsprop.summary()"
   ]
  },
  {
   "cell_type": "markdown",
   "id": "61f2bac6",
   "metadata": {},
   "source": [
    "#### Compile Model"
   ]
  },
  {
   "cell_type": "code",
   "execution_count": 28,
   "id": "50cf36dc",
   "metadata": {},
   "outputs": [],
   "source": [
    "model_relu_sigmoid_rmsprop.compile(optimizer=RMSprop(), loss='binary_crossentropy', metrics=['accuracy'])"
   ]
  },
  {
   "cell_type": "markdown",
   "id": "88ba2ea6",
   "metadata": {},
   "source": [
    "#### Train Model"
   ]
  },
  {
   "cell_type": "code",
   "execution_count": 29,
   "id": "ac577dde",
   "metadata": {},
   "outputs": [
    {
     "name": "stdout",
     "output_type": "stream",
     "text": [
      "Epoch 1/10\n",
      "1688/1688 - 5s - 3ms/step - accuracy: 0.8881 - loss: 0.4251 - val_accuracy: 0.9418 - val_loss: 0.0748\n",
      "Epoch 2/10\n",
      "1688/1688 - 4s - 3ms/step - accuracy: 0.9329 - loss: 0.0750 - val_accuracy: 0.9485 - val_loss: 0.0535\n",
      "Epoch 3/10\n",
      "1688/1688 - 4s - 3ms/step - accuracy: 0.9434 - loss: 0.0608 - val_accuracy: 0.9472 - val_loss: 0.0608\n",
      "Epoch 4/10\n",
      "1688/1688 - 5s - 3ms/step - accuracy: 0.9496 - loss: 0.0563 - val_accuracy: 0.9560 - val_loss: 0.0487\n",
      "Epoch 5/10\n",
      "1688/1688 - 5s - 3ms/step - accuracy: 0.9504 - loss: 0.0544 - val_accuracy: 0.9558 - val_loss: 0.0535\n",
      "Epoch 6/10\n",
      "1688/1688 - 4s - 3ms/step - accuracy: 0.9552 - loss: 0.0523 - val_accuracy: 0.9537 - val_loss: 0.0607\n",
      "Epoch 7/10\n",
      "1688/1688 - 5s - 3ms/step - accuracy: 0.9556 - loss: 0.0512 - val_accuracy: 0.9532 - val_loss: 0.0578\n",
      "Epoch 8/10\n",
      "1688/1688 - 4s - 3ms/step - accuracy: 0.9562 - loss: 0.0487 - val_accuracy: 0.9508 - val_loss: 0.0542\n",
      "Epoch 9/10\n",
      "1688/1688 - 5s - 3ms/step - accuracy: 0.9566 - loss: 0.0466 - val_accuracy: 0.9578 - val_loss: 0.0714\n",
      "Epoch 10/10\n",
      "1688/1688 - 4s - 3ms/step - accuracy: 0.9589 - loss: 0.0451 - val_accuracy: 0.9565 - val_loss: 0.0589\n"
     ]
    }
   ],
   "source": [
    "history_relu_sigmoid_rmsprop = model_relu_sigmoid_rmsprop.fit(\n",
    "    X_train_flat, y_train_cat,\n",
    "    epochs=10, batch_size=32, validation_split=0.1, verbose=2\n",
    ")"
   ]
  },
  {
   "cell_type": "markdown",
   "id": "c68099b2",
   "metadata": {},
   "source": [
    "#### Evaluate Model"
   ]
  },
  {
   "cell_type": "code",
   "execution_count": 30,
   "id": "10b89ac8",
   "metadata": {},
   "outputs": [
    {
     "name": "stdout",
     "output_type": "stream",
     "text": [
      "ReLU+Sigmoid (RMSprop) Test Accuracy: 0.9500\n"
     ]
    }
   ],
   "source": [
    "score = model_relu_sigmoid_rmsprop.evaluate(X_test_flat, y_test_cat, verbose=0)\n",
    "print(f'ReLU+Sigmoid (RMSprop) Test Accuracy: {score[1]:.4f}')"
   ]
  },
  {
   "cell_type": "markdown",
   "id": "afb7ce7a",
   "metadata": {},
   "source": [
    "## Sigmoid Hidden Layer + Softmax Output"
   ]
  },
  {
   "cell_type": "markdown",
   "id": "fa1987ac",
   "metadata": {},
   "source": [
    "#### Model Definition"
   ]
  },
  {
   "cell_type": "code",
   "execution_count": 31,
   "id": "2c7a4f99",
   "metadata": {},
   "outputs": [],
   "source": [
    "model_sigmoid_softmax = Sequential([\n",
    "    Dense(128, activation='sigmoid', input_shape=(784,)),\n",
    "    Dense(10, activation='softmax')\n",
    "])"
   ]
  },
  {
   "cell_type": "markdown",
   "id": "0e80495f",
   "metadata": {},
   "source": [
    "#### Compile Model"
   ]
  },
  {
   "cell_type": "code",
   "execution_count": 32,
   "id": "4fbf427c",
   "metadata": {},
   "outputs": [],
   "source": [
    "model_sigmoid_softmax.compile(optimizer='adam', loss='categorical_crossentropy', metrics=['accuracy'])"
   ]
  },
  {
   "cell_type": "markdown",
   "id": "2aa69106",
   "metadata": {},
   "source": [
    "#### Train Model"
   ]
  },
  {
   "cell_type": "code",
   "execution_count": 33,
   "id": "2c6648cb",
   "metadata": {},
   "outputs": [
    {
     "name": "stdout",
     "output_type": "stream",
     "text": [
      "Epoch 1/10\n",
      "1688/1688 - 6s - 4ms/step - accuracy: 0.8502 - loss: 0.5548 - val_accuracy: 0.9147 - val_loss: 0.3226\n",
      "Epoch 2/10\n",
      "1688/1688 - 5s - 3ms/step - accuracy: 0.8969 - loss: 0.3553 - val_accuracy: 0.9123 - val_loss: 0.2979\n",
      "Epoch 3/10\n",
      "1688/1688 - 5s - 3ms/step - accuracy: 0.9016 - loss: 0.3361 - val_accuracy: 0.9292 - val_loss: 0.2560\n",
      "Epoch 4/10\n",
      "1688/1688 - 5s - 3ms/step - accuracy: 0.9057 - loss: 0.3117 - val_accuracy: 0.9295 - val_loss: 0.2465\n",
      "Epoch 5/10\n",
      "1688/1688 - 5s - 3ms/step - accuracy: 0.9113 - loss: 0.2969 - val_accuracy: 0.9293 - val_loss: 0.2344\n",
      "Epoch 6/10\n",
      "1688/1688 - 5s - 3ms/step - accuracy: 0.9123 - loss: 0.2927 - val_accuracy: 0.9327 - val_loss: 0.2251\n",
      "Epoch 7/10\n",
      "1688/1688 - 5s - 3ms/step - accuracy: 0.9166 - loss: 0.2786 - val_accuracy: 0.9332 - val_loss: 0.2300\n",
      "Epoch 8/10\n",
      "1688/1688 - 5s - 3ms/step - accuracy: 0.9191 - loss: 0.2687 - val_accuracy: 0.9332 - val_loss: 0.2170\n",
      "Epoch 9/10\n",
      "1688/1688 - 5s - 3ms/step - accuracy: 0.9217 - loss: 0.2573 - val_accuracy: 0.9355 - val_loss: 0.2201\n",
      "Epoch 10/10\n",
      "1688/1688 - 5s - 3ms/step - accuracy: 0.9183 - loss: 0.2716 - val_accuracy: 0.9397 - val_loss: 0.2114\n"
     ]
    }
   ],
   "source": [
    "history_sigmoid_softmax = model_sigmoid_softmax.fit(\n",
    "    X_train_flat, y_train_cat,\n",
    "    epochs=10, batch_size=32, validation_split=0.1, verbose=2\n",
    ")"
   ]
  },
  {
   "cell_type": "markdown",
   "id": "a6664b5e",
   "metadata": {},
   "source": [
    "#### Evaluate Model"
   ]
  },
  {
   "cell_type": "code",
   "execution_count": 34,
   "id": "3aa54a56",
   "metadata": {},
   "outputs": [
    {
     "name": "stdout",
     "output_type": "stream",
     "text": [
      "Sigmoid+Softmax Test Accuracy: 0.9238\n"
     ]
    }
   ],
   "source": [
    "score = model_sigmoid_softmax.evaluate(X_test_flat, y_test_cat, verbose=0)\n",
    "print(f'Sigmoid+Softmax Test Accuracy: {score[1]:.4f}')"
   ]
  },
  {
   "cell_type": "markdown",
   "id": "15b94f60",
   "metadata": {},
   "source": [
    "## Sigmoid Hidden Layer + Softmax Output with SGD Optimizer"
   ]
  },
  {
   "cell_type": "markdown",
   "id": "21e1e3e3",
   "metadata": {},
   "source": [
    "#### Model Definition"
   ]
  },
  {
   "cell_type": "code",
   "execution_count": 35,
   "id": "69d18f7c",
   "metadata": {},
   "outputs": [],
   "source": [
    "model_sigmoid_softmax_sgd = Sequential([\n",
    "    Dense(128, activation='sigmoid', input_shape=(784,)),\n",
    "    Dense(10, activation='softmax')\n",
    "])"
   ]
  },
  {
   "cell_type": "markdown",
   "id": "bbc91bcb",
   "metadata": {},
   "source": [
    "#### Compile Model"
   ]
  },
  {
   "cell_type": "code",
   "execution_count": 36,
   "id": "d7b54d96",
   "metadata": {},
   "outputs": [],
   "source": [
    "model_sigmoid_softmax_sgd.compile(optimizer=SGD(), loss='categorical_crossentropy', metrics=['accuracy'])"
   ]
  },
  {
   "cell_type": "markdown",
   "id": "d864dadb",
   "metadata": {},
   "source": [
    "#### Train Model"
   ]
  },
  {
   "cell_type": "code",
   "execution_count": 37,
   "id": "d0597df6",
   "metadata": {},
   "outputs": [
    {
     "name": "stdout",
     "output_type": "stream",
     "text": [
      "Epoch 1/10\n",
      "1688/1688 - 5s - 3ms/step - accuracy: 0.8271 - loss: 0.6741 - val_accuracy: 0.9113 - val_loss: 0.3777\n",
      "Epoch 2/10\n",
      "1688/1688 - 4s - 2ms/step - accuracy: 0.8964 - loss: 0.3856 - val_accuracy: 0.9248 - val_loss: 0.2940\n",
      "Epoch 3/10\n",
      "1688/1688 - 4s - 2ms/step - accuracy: 0.9091 - loss: 0.3295 - val_accuracy: 0.9297 - val_loss: 0.2575\n",
      "Epoch 4/10\n",
      "1688/1688 - 4s - 2ms/step - accuracy: 0.9162 - loss: 0.2986 - val_accuracy: 0.9357 - val_loss: 0.2423\n",
      "Epoch 5/10\n",
      "1688/1688 - 4s - 3ms/step - accuracy: 0.9221 - loss: 0.2796 - val_accuracy: 0.9368 - val_loss: 0.2342\n",
      "Epoch 6/10\n",
      "1688/1688 - 4s - 2ms/step - accuracy: 0.9256 - loss: 0.2591 - val_accuracy: 0.9415 - val_loss: 0.2081\n",
      "Epoch 7/10\n",
      "1688/1688 - 4s - 2ms/step - accuracy: 0.9286 - loss: 0.2515 - val_accuracy: 0.9452 - val_loss: 0.2089\n",
      "Epoch 8/10\n",
      "1688/1688 - 4s - 2ms/step - accuracy: 0.9317 - loss: 0.2395 - val_accuracy: 0.9475 - val_loss: 0.1979\n",
      "Epoch 9/10\n",
      "1688/1688 - 4s - 2ms/step - accuracy: 0.9327 - loss: 0.2345 - val_accuracy: 0.9455 - val_loss: 0.2023\n",
      "Epoch 10/10\n",
      "1688/1688 - 4s - 2ms/step - accuracy: 0.9374 - loss: 0.2203 - val_accuracy: 0.9492 - val_loss: 0.1830\n"
     ]
    }
   ],
   "source": [
    "history_sigmoid_softmax_sgd = model_sigmoid_softmax_sgd.fit(\n",
    "    X_train_flat, y_train_cat,\n",
    "    epochs=10, batch_size=32, validation_split=0.1, verbose=2\n",
    ")"
   ]
  },
  {
   "cell_type": "markdown",
   "id": "49ceb5da",
   "metadata": {},
   "source": [
    "#### Evaluate Model"
   ]
  },
  {
   "cell_type": "code",
   "execution_count": 38,
   "id": "39d521cd",
   "metadata": {},
   "outputs": [
    {
     "name": "stdout",
     "output_type": "stream",
     "text": [
      "Sigmoid+Softmax (SGD) Test Accuracy: 0.9386\n"
     ]
    }
   ],
   "source": [
    "score = model_sigmoid_softmax_sgd.evaluate(X_test_flat, y_test_cat, verbose=0)\n",
    "print(f'Sigmoid+Softmax (SGD) Test Accuracy: {score[1]:.4f}')"
   ]
  },
  {
   "cell_type": "markdown",
   "id": "832bc57b",
   "metadata": {},
   "source": [
    "## Sigmoid Hidden Layer + Softmax Output with RMSprop Optimizer"
   ]
  },
  {
   "cell_type": "markdown",
   "id": "66cde210",
   "metadata": {},
   "source": [
    "#### Model Definition"
   ]
  },
  {
   "cell_type": "code",
   "execution_count": 39,
   "id": "7ae26dfe",
   "metadata": {},
   "outputs": [
    {
     "data": {
      "text/html": [
       "<pre style=\"white-space:pre;overflow-x:auto;line-height:normal;font-family:Menlo,'DejaVu Sans Mono',consolas,'Courier New',monospace\"><span style=\"font-weight: bold\">Model: \"sequential_8\"</span>\n",
       "</pre>\n"
      ],
      "text/plain": [
       "\u001b[1mModel: \"sequential_8\"\u001b[0m\n"
      ]
     },
     "metadata": {},
     "output_type": "display_data"
    },
    {
     "data": {
      "text/html": [
       "<pre style=\"white-space:pre;overflow-x:auto;line-height:normal;font-family:Menlo,'DejaVu Sans Mono',consolas,'Courier New',monospace\">┏━━━━━━━━━━━━━━━━━━━━━━━━━━━━━━━━━┳━━━━━━━━━━━━━━━━━━━━━━━━┳━━━━━━━━━━━━━━━┓\n",
       "┃<span style=\"font-weight: bold\"> Layer (type)                    </span>┃<span style=\"font-weight: bold\"> Output Shape           </span>┃<span style=\"font-weight: bold\">       Param # </span>┃\n",
       "┡━━━━━━━━━━━━━━━━━━━━━━━━━━━━━━━━━╇━━━━━━━━━━━━━━━━━━━━━━━━╇━━━━━━━━━━━━━━━┩\n",
       "│ dense_16 (<span style=\"color: #0087ff; text-decoration-color: #0087ff\">Dense</span>)                │ (<span style=\"color: #00d7ff; text-decoration-color: #00d7ff\">None</span>, <span style=\"color: #00af00; text-decoration-color: #00af00\">128</span>)            │       <span style=\"color: #00af00; text-decoration-color: #00af00\">100,480</span> │\n",
       "├─────────────────────────────────┼────────────────────────┼───────────────┤\n",
       "│ dense_17 (<span style=\"color: #0087ff; text-decoration-color: #0087ff\">Dense</span>)                │ (<span style=\"color: #00d7ff; text-decoration-color: #00d7ff\">None</span>, <span style=\"color: #00af00; text-decoration-color: #00af00\">10</span>)             │         <span style=\"color: #00af00; text-decoration-color: #00af00\">1,290</span> │\n",
       "└─────────────────────────────────┴────────────────────────┴───────────────┘\n",
       "</pre>\n"
      ],
      "text/plain": [
       "┏━━━━━━━━━━━━━━━━━━━━━━━━━━━━━━━━━┳━━━━━━━━━━━━━━━━━━━━━━━━┳━━━━━━━━━━━━━━━┓\n",
       "┃\u001b[1m \u001b[0m\u001b[1mLayer (type)                   \u001b[0m\u001b[1m \u001b[0m┃\u001b[1m \u001b[0m\u001b[1mOutput Shape          \u001b[0m\u001b[1m \u001b[0m┃\u001b[1m \u001b[0m\u001b[1m      Param #\u001b[0m\u001b[1m \u001b[0m┃\n",
       "┡━━━━━━━━━━━━━━━━━━━━━━━━━━━━━━━━━╇━━━━━━━━━━━━━━━━━━━━━━━━╇━━━━━━━━━━━━━━━┩\n",
       "│ dense_16 (\u001b[38;5;33mDense\u001b[0m)                │ (\u001b[38;5;45mNone\u001b[0m, \u001b[38;5;34m128\u001b[0m)            │       \u001b[38;5;34m100,480\u001b[0m │\n",
       "├─────────────────────────────────┼────────────────────────┼───────────────┤\n",
       "│ dense_17 (\u001b[38;5;33mDense\u001b[0m)                │ (\u001b[38;5;45mNone\u001b[0m, \u001b[38;5;34m10\u001b[0m)             │         \u001b[38;5;34m1,290\u001b[0m │\n",
       "└─────────────────────────────────┴────────────────────────┴───────────────┘\n"
      ]
     },
     "metadata": {},
     "output_type": "display_data"
    },
    {
     "data": {
      "text/html": [
       "<pre style=\"white-space:pre;overflow-x:auto;line-height:normal;font-family:Menlo,'DejaVu Sans Mono',consolas,'Courier New',monospace\"><span style=\"font-weight: bold\"> Total params: </span><span style=\"color: #00af00; text-decoration-color: #00af00\">101,770</span> (397.54 KB)\n",
       "</pre>\n"
      ],
      "text/plain": [
       "\u001b[1m Total params: \u001b[0m\u001b[38;5;34m101,770\u001b[0m (397.54 KB)\n"
      ]
     },
     "metadata": {},
     "output_type": "display_data"
    },
    {
     "data": {
      "text/html": [
       "<pre style=\"white-space:pre;overflow-x:auto;line-height:normal;font-family:Menlo,'DejaVu Sans Mono',consolas,'Courier New',monospace\"><span style=\"font-weight: bold\"> Trainable params: </span><span style=\"color: #00af00; text-decoration-color: #00af00\">101,770</span> (397.54 KB)\n",
       "</pre>\n"
      ],
      "text/plain": [
       "\u001b[1m Trainable params: \u001b[0m\u001b[38;5;34m101,770\u001b[0m (397.54 KB)\n"
      ]
     },
     "metadata": {},
     "output_type": "display_data"
    },
    {
     "data": {
      "text/html": [
       "<pre style=\"white-space:pre;overflow-x:auto;line-height:normal;font-family:Menlo,'DejaVu Sans Mono',consolas,'Courier New',monospace\"><span style=\"font-weight: bold\"> Non-trainable params: </span><span style=\"color: #00af00; text-decoration-color: #00af00\">0</span> (0.00 B)\n",
       "</pre>\n"
      ],
      "text/plain": [
       "\u001b[1m Non-trainable params: \u001b[0m\u001b[38;5;34m0\u001b[0m (0.00 B)\n"
      ]
     },
     "metadata": {},
     "output_type": "display_data"
    }
   ],
   "source": [
    "model_sigmoid_softmax_rmsprop = Sequential([\n",
    "    Dense(128, activation='sigmoid', input_shape=(784,)),\n",
    "    Dense(10, activation='softmax')\n",
    "])\n",
    "model_sigmoid_softmax_rmsprop.summary()"
   ]
  },
  {
   "cell_type": "markdown",
   "id": "2cfd0bf6",
   "metadata": {},
   "source": [
    "#### Compile Model"
   ]
  },
  {
   "cell_type": "code",
   "execution_count": 40,
   "id": "3f0103c8",
   "metadata": {},
   "outputs": [],
   "source": [
    "model_sigmoid_softmax_rmsprop.compile(optimizer=RMSprop(), loss='categorical_crossentropy', metrics=['accuracy'])"
   ]
  },
  {
   "cell_type": "markdown",
   "id": "a7ccaaf7",
   "metadata": {},
   "source": [
    "#### Train Model"
   ]
  },
  {
   "cell_type": "code",
   "execution_count": 41,
   "id": "25565da0",
   "metadata": {},
   "outputs": [
    {
     "name": "stdout",
     "output_type": "stream",
     "text": [
      "Epoch 1/10\n",
      "1688/1688 - 6s - 3ms/step - accuracy: 0.8652 - loss: 0.4658 - val_accuracy: 0.9243 - val_loss: 0.2461\n",
      "Epoch 2/10\n",
      "1688/1688 - 4s - 3ms/step - accuracy: 0.9154 - loss: 0.2771 - val_accuracy: 0.9397 - val_loss: 0.2003\n",
      "Epoch 3/10\n",
      "1688/1688 - 4s - 3ms/step - accuracy: 0.9256 - loss: 0.2455 - val_accuracy: 0.9403 - val_loss: 0.1865\n",
      "Epoch 4/10\n",
      "1688/1688 - 4s - 3ms/step - accuracy: 0.9326 - loss: 0.2249 - val_accuracy: 0.9413 - val_loss: 0.1851\n",
      "Epoch 5/10\n",
      "1688/1688 - 4s - 2ms/step - accuracy: 0.9346 - loss: 0.2160 - val_accuracy: 0.9500 - val_loss: 0.1680\n",
      "Epoch 6/10\n",
      "1688/1688 - 4s - 2ms/step - accuracy: 0.9386 - loss: 0.2065 - val_accuracy: 0.9540 - val_loss: 0.1629\n",
      "Epoch 7/10\n",
      "1688/1688 - 4s - 2ms/step - accuracy: 0.9394 - loss: 0.1983 - val_accuracy: 0.9485 - val_loss: 0.1643\n",
      "Epoch 8/10\n",
      "1688/1688 - 4s - 2ms/step - accuracy: 0.9423 - loss: 0.1918 - val_accuracy: 0.9523 - val_loss: 0.1576\n",
      "Epoch 9/10\n",
      "1688/1688 - 4s - 2ms/step - accuracy: 0.9428 - loss: 0.1910 - val_accuracy: 0.9537 - val_loss: 0.1539\n",
      "Epoch 10/10\n",
      "1688/1688 - 4s - 2ms/step - accuracy: 0.9446 - loss: 0.1830 - val_accuracy: 0.9548 - val_loss: 0.1555\n"
     ]
    }
   ],
   "source": [
    "history_sigmoid_softmax_rmsprop = model_sigmoid_softmax_rmsprop.fit(\n",
    "    X_train_flat, y_train_cat,\n",
    "    epochs=10, batch_size=32, validation_split=0.1, verbose=2\n",
    ")"
   ]
  },
  {
   "cell_type": "markdown",
   "id": "cfcf2638",
   "metadata": {},
   "source": [
    "#### Evaluate Model"
   ]
  },
  {
   "cell_type": "code",
   "execution_count": 42,
   "id": "3ca8af46",
   "metadata": {},
   "outputs": [
    {
     "name": "stdout",
     "output_type": "stream",
     "text": [
      "Sigmoid+Softmax (RMSprop) Test Accuracy: 0.9460\n"
     ]
    }
   ],
   "source": [
    "score = model_sigmoid_softmax_rmsprop.evaluate(X_test_flat, y_test_cat, verbose=0)\n",
    "print(f'Sigmoid+Softmax (RMSprop) Test Accuracy: {score[1]:.4f}')"
   ]
  },
  {
   "cell_type": "markdown",
   "id": "d89cab99",
   "metadata": {},
   "source": [
    "## Sigmoid Hidden Layer + Sigmoid Output"
   ]
  },
  {
   "cell_type": "markdown",
   "id": "9d4a3e66",
   "metadata": {},
   "source": [
    "#### Model Definition"
   ]
  },
  {
   "cell_type": "code",
   "execution_count": 43,
   "id": "768a2b67",
   "metadata": {},
   "outputs": [],
   "source": [
    "model_sigmoid_sigmoid = Sequential([\n",
    "    Dense(128, activation='sigmoid', input_shape=(784,)),\n",
    "    Dense(10, activation='sigmoid')\n",
    "])"
   ]
  },
  {
   "cell_type": "markdown",
   "id": "257af42b",
   "metadata": {},
   "source": [
    "#### Compile Model"
   ]
  },
  {
   "cell_type": "code",
   "execution_count": 44,
   "id": "22d8b16a",
   "metadata": {},
   "outputs": [],
   "source": [
    "model_sigmoid_sigmoid.compile(optimizer='adam', loss='binary_crossentropy', metrics=['accuracy'])"
   ]
  },
  {
   "cell_type": "markdown",
   "id": "9cbddc2b",
   "metadata": {},
   "source": [
    "#### Train Model"
   ]
  },
  {
   "cell_type": "code",
   "execution_count": 45,
   "id": "35de1a26",
   "metadata": {},
   "outputs": [
    {
     "name": "stdout",
     "output_type": "stream",
     "text": [
      "Epoch 1/10\n",
      "1688/1688 - 5s - 3ms/step - accuracy: 0.8305 - loss: 0.1188 - val_accuracy: 0.9085 - val_loss: 0.0688\n",
      "Epoch 2/10\n",
      "1688/1688 - 4s - 2ms/step - accuracy: 0.8951 - loss: 0.0724 - val_accuracy: 0.9202 - val_loss: 0.0581\n",
      "Epoch 3/10\n",
      "1688/1688 - 4s - 3ms/step - accuracy: 0.9070 - loss: 0.0637 - val_accuracy: 0.9257 - val_loss: 0.0542\n",
      "Epoch 4/10\n",
      "1688/1688 - 4s - 3ms/step - accuracy: 0.9124 - loss: 0.0584 - val_accuracy: 0.9257 - val_loss: 0.0514\n",
      "Epoch 5/10\n",
      "1688/1688 - 4s - 3ms/step - accuracy: 0.9194 - loss: 0.0547 - val_accuracy: 0.9362 - val_loss: 0.0468\n",
      "Epoch 6/10\n",
      "1688/1688 - 4s - 2ms/step - accuracy: 0.9190 - loss: 0.0544 - val_accuracy: 0.9243 - val_loss: 0.0509\n",
      "Epoch 7/10\n",
      "1688/1688 - 5s - 3ms/step - accuracy: 0.9223 - loss: 0.0518 - val_accuracy: 0.9383 - val_loss: 0.0431\n",
      "Epoch 8/10\n",
      "1688/1688 - 4s - 2ms/step - accuracy: 0.9256 - loss: 0.0488 - val_accuracy: 0.9385 - val_loss: 0.0417\n",
      "Epoch 9/10\n",
      "1688/1688 - 4s - 2ms/step - accuracy: 0.9280 - loss: 0.0481 - val_accuracy: 0.9458 - val_loss: 0.0391\n",
      "Epoch 10/10\n",
      "1688/1688 - 4s - 2ms/step - accuracy: 0.9304 - loss: 0.0467 - val_accuracy: 0.9468 - val_loss: 0.0410\n"
     ]
    }
   ],
   "source": [
    "history_sigmoid_sigmoid = model_sigmoid_sigmoid.fit(\n",
    "    X_train_flat, y_train_cat,\n",
    "    epochs=10, batch_size=32, validation_split=0.1, verbose=2\n",
    ")"
   ]
  },
  {
   "cell_type": "markdown",
   "id": "8791d284",
   "metadata": {},
   "source": [
    "#### Evaluate Model"
   ]
  },
  {
   "cell_type": "code",
   "execution_count": 46,
   "id": "2ffa6a31",
   "metadata": {},
   "outputs": [
    {
     "name": "stdout",
     "output_type": "stream",
     "text": [
      "Sigmoid+Sigmoid Test Accuracy: 0.9331\n"
     ]
    }
   ],
   "source": [
    "score = model_sigmoid_sigmoid.evaluate(X_test_flat, y_test_cat, verbose=0)\n",
    "print(f'Sigmoid+Sigmoid Test Accuracy: {score[1]:.4f}')"
   ]
  },
  {
   "cell_type": "markdown",
   "id": "f0cb55da",
   "metadata": {},
   "source": [
    "## Sigmoid Hidden Layer + Sigmoid Output with SGD Optimizer"
   ]
  },
  {
   "cell_type": "markdown",
   "id": "40ca2e6d",
   "metadata": {},
   "source": [
    "#### Model Definition"
   ]
  },
  {
   "cell_type": "code",
   "execution_count": 47,
   "id": "24d82b3f",
   "metadata": {},
   "outputs": [],
   "source": [
    "model_sigmoid_sigmoid_sgd = Sequential([\n",
    "    Dense(128, activation='sigmoid', input_shape=(784,)),\n",
    "    Dense(10, activation='sigmoid')\n",
    "])"
   ]
  },
  {
   "cell_type": "markdown",
   "id": "3efd79eb",
   "metadata": {},
   "source": [
    "#### Compile Model"
   ]
  },
  {
   "cell_type": "code",
   "execution_count": 48,
   "id": "9b417f3f",
   "metadata": {},
   "outputs": [],
   "source": [
    "model_sigmoid_sigmoid_sgd.compile(optimizer=SGD(), loss='binary_crossentropy', metrics=['accuracy'])"
   ]
  },
  {
   "cell_type": "markdown",
   "id": "0d47fdad",
   "metadata": {},
   "source": [
    "#### Train Model"
   ]
  },
  {
   "cell_type": "code",
   "execution_count": 49,
   "id": "99f009be",
   "metadata": {},
   "outputs": [
    {
     "name": "stdout",
     "output_type": "stream",
     "text": [
      "Epoch 1/10\n",
      "1688/1688 - 4s - 2ms/step - accuracy: 0.6060 - loss: 0.2424 - val_accuracy: 0.8175 - val_loss: 0.1738\n",
      "Epoch 2/10\n",
      "1688/1688 - 4s - 2ms/step - accuracy: 0.8154 - loss: 0.1590 - val_accuracy: 0.8745 - val_loss: 0.1329\n",
      "Epoch 3/10\n",
      "1688/1688 - 3s - 2ms/step - accuracy: 0.8531 - loss: 0.1302 - val_accuracy: 0.8933 - val_loss: 0.1115\n",
      "Epoch 4/10\n",
      "1688/1688 - 3s - 2ms/step - accuracy: 0.8714 - loss: 0.1130 - val_accuracy: 0.9023 - val_loss: 0.0982\n",
      "Epoch 5/10\n",
      "1688/1688 - 3s - 2ms/step - accuracy: 0.8824 - loss: 0.1018 - val_accuracy: 0.9080 - val_loss: 0.0890\n",
      "Epoch 6/10\n",
      "1688/1688 - 3s - 2ms/step - accuracy: 0.8903 - loss: 0.0933 - val_accuracy: 0.9127 - val_loss: 0.0817\n",
      "Epoch 7/10\n",
      "1688/1688 - 3s - 2ms/step - accuracy: 0.8945 - loss: 0.0869 - val_accuracy: 0.9168 - val_loss: 0.0761\n",
      "Epoch 8/10\n",
      "1688/1688 - 3s - 2ms/step - accuracy: 0.9003 - loss: 0.0817 - val_accuracy: 0.9185 - val_loss: 0.0719\n",
      "Epoch 9/10\n",
      "1688/1688 - 3s - 2ms/step - accuracy: 0.9044 - loss: 0.0775 - val_accuracy: 0.9188 - val_loss: 0.0683\n",
      "Epoch 10/10\n",
      "1688/1688 - 3s - 2ms/step - accuracy: 0.9074 - loss: 0.0740 - val_accuracy: 0.9213 - val_loss: 0.0657\n"
     ]
    }
   ],
   "source": [
    "history_sigmoid_sigmoid_sgd = model_sigmoid_sigmoid_sgd.fit(\n",
    "    X_train_flat, y_train_cat,\n",
    "    epochs=10, batch_size=32, validation_split=0.1, verbose=2\n",
    ")"
   ]
  },
  {
   "cell_type": "markdown",
   "id": "f50ec256",
   "metadata": {},
   "source": [
    "#### Evaluate Model"
   ]
  },
  {
   "cell_type": "code",
   "execution_count": 50,
   "id": "c12e49f7",
   "metadata": {},
   "outputs": [
    {
     "name": "stdout",
     "output_type": "stream",
     "text": [
      "Sigmoid+Sigmoid (SGD) Test Accuracy: 0.9115\n"
     ]
    }
   ],
   "source": [
    "score = model_sigmoid_sigmoid_sgd.evaluate(X_test_flat, y_test_cat, verbose=0)\n",
    "print(f'Sigmoid+Sigmoid (SGD) Test Accuracy: {score[1]:.4f}')"
   ]
  },
  {
   "cell_type": "markdown",
   "id": "8a94f552",
   "metadata": {},
   "source": [
    "## Sigmoid Hidden Layer + Sigmoid Output with RMSprop Optimizer"
   ]
  },
  {
   "cell_type": "markdown",
   "id": "b255f87b",
   "metadata": {},
   "source": [
    "#### Model Definition"
   ]
  },
  {
   "cell_type": "code",
   "execution_count": 51,
   "id": "dbec9c78",
   "metadata": {},
   "outputs": [],
   "source": [
    "model_sigmoid_sigmoid_rmsprop = Sequential([\n",
    "    Dense(128, activation='sigmoid', input_shape=(784,)),\n",
    "    Dense(10, activation='sigmoid')\n",
    "])"
   ]
  },
  {
   "cell_type": "markdown",
   "id": "31f291e5",
   "metadata": {},
   "source": [
    "#### Compile Model"
   ]
  },
  {
   "cell_type": "code",
   "execution_count": 52,
   "id": "9f41d116",
   "metadata": {},
   "outputs": [],
   "source": [
    "model_sigmoid_sigmoid_rmsprop.compile(optimizer=RMSprop(), loss='binary_crossentropy', metrics=['accuracy'])"
   ]
  },
  {
   "cell_type": "markdown",
   "id": "9b72f027",
   "metadata": {},
   "source": [
    "#### Train Model"
   ]
  },
  {
   "cell_type": "code",
   "execution_count": 53,
   "id": "9eac3fae",
   "metadata": {},
   "outputs": [
    {
     "name": "stdout",
     "output_type": "stream",
     "text": [
      "Epoch 1/10\n",
      "1688/1688 - 5s - 3ms/step - accuracy: 0.8476 - loss: 0.1005 - val_accuracy: 0.9247 - val_loss: 0.0530\n",
      "Epoch 2/10\n",
      "1688/1688 - 4s - 2ms/step - accuracy: 0.9070 - loss: 0.0594 - val_accuracy: 0.9310 - val_loss: 0.0464\n",
      "Epoch 3/10\n",
      "1688/1688 - 4s - 2ms/step - accuracy: 0.9186 - loss: 0.0519 - val_accuracy: 0.9362 - val_loss: 0.0409\n",
      "Epoch 4/10\n",
      "1688/1688 - 3s - 2ms/step - accuracy: 0.9234 - loss: 0.0486 - val_accuracy: 0.9445 - val_loss: 0.0385\n",
      "Epoch 5/10\n",
      "1688/1688 - 4s - 2ms/step - accuracy: 0.9276 - loss: 0.0458 - val_accuracy: 0.9425 - val_loss: 0.0370\n",
      "Epoch 6/10\n",
      "1688/1688 - 4s - 2ms/step - accuracy: 0.9328 - loss: 0.0435 - val_accuracy: 0.9483 - val_loss: 0.0343\n",
      "Epoch 7/10\n",
      "1688/1688 - 4s - 2ms/step - accuracy: 0.9352 - loss: 0.0427 - val_accuracy: 0.9512 - val_loss: 0.0344\n",
      "Epoch 8/10\n",
      "1688/1688 - 4s - 2ms/step - accuracy: 0.9358 - loss: 0.0418 - val_accuracy: 0.9512 - val_loss: 0.0330\n",
      "Epoch 9/10\n",
      "1688/1688 - 4s - 2ms/step - accuracy: 0.9379 - loss: 0.0404 - val_accuracy: 0.9520 - val_loss: 0.0331\n",
      "Epoch 10/10\n",
      "1688/1688 - 4s - 2ms/step - accuracy: 0.9397 - loss: 0.0395 - val_accuracy: 0.9533 - val_loss: 0.0325\n"
     ]
    }
   ],
   "source": [
    "history_sigmoid_sigmoid_rmsprop = model_sigmoid_sigmoid_rmsprop.fit(\n",
    "    X_train_flat, y_train_cat,\n",
    "    epochs=10, batch_size=32, validation_split=0.1, verbose=2\n",
    ")"
   ]
  },
  {
   "cell_type": "markdown",
   "id": "e3db03b8",
   "metadata": {},
   "source": [
    "#### Evaluate Model"
   ]
  },
  {
   "cell_type": "code",
   "execution_count": 54,
   "id": "378b5762",
   "metadata": {},
   "outputs": [
    {
     "name": "stdout",
     "output_type": "stream",
     "text": [
      "Sigmoid+Sigmoid (RMSprop) Test Accuracy: 0.9393\n"
     ]
    }
   ],
   "source": [
    "score = model_sigmoid_sigmoid_rmsprop.evaluate(X_test_flat, y_test_cat, verbose=0)\n",
    "print(f'Sigmoid+Sigmoid (RMSprop) Test Accuracy: {score[1]:.4f}')"
   ]
  },
  {
   "cell_type": "markdown",
   "id": "b2768cb2",
   "metadata": {},
   "source": [
    "## Accuracy Comparison"
   ]
  },
  {
   "cell_type": "code",
   "execution_count": 55,
   "id": "4ebdc881",
   "metadata": {},
   "outputs": [
    {
     "name": "stdout",
     "output_type": "stream",
     "text": [
      "Adam Models:\n",
      "ReLU+Softmax Test Accuracy: 0.9445000290870667\n",
      "ReLU+Sigmoid Test Accuracy: 0.9567000269889832\n",
      "Sigmoid+Softmax Test Accuracy: 0.923799991607666\n",
      "Sigmoid+Sigmoid Test Accuracy: 0.9330999851226807\n",
      "\n",
      "SGD Models:\n",
      "ReLU+Softmax Test Accuracy: 0.2533999979496002\n",
      "ReLU+Sigmoid Test Accuracy: 0.9369000196456909\n",
      "Sigmoid+Softmax Test Accuracy: 0.9386000037193298\n",
      "Sigmoid+Sigmoid Test Accuracy: 0.9114999771118164\n",
      "\n",
      "RMSprop Models:\n",
      "ReLU+Softmax Test Accuracy: 0.9559000134468079\n",
      "ReLU+Sigmoid Test Accuracy: 0.949999988079071\n",
      "Sigmoid+Softmax Test Accuracy: 0.9459999799728394\n",
      "Sigmoid+Sigmoid Test Accuracy: 0.939300000667572\n"
     ]
    }
   ],
   "source": [
    "# Collect test accuracies from all model evaluations\n",
    "\n",
    "def get_last_accuracy(cell):\n",
    "    # Helper to extract accuracy from Keras evaluate output\n",
    "    if isinstance(cell, tuple) or isinstance(cell, list):\n",
    "        return cell[1]\n",
    "    return cell\n",
    "\n",
    "# Evaluate Adam models\n",
    "test_acc_relu_softmax_adam = get_last_accuracy(model_relu_softmax.evaluate(X_test_flat, y_test_cat, verbose=0))\n",
    "test_acc_relu_sigmoid_adam = get_last_accuracy(model_relu_sigmoid.evaluate(X_test_flat, y_test_cat, verbose=0))\n",
    "test_acc_sigmoid_softmax_adam = get_last_accuracy(model_sigmoid_softmax.evaluate(X_test_flat, y_test_cat, verbose=0))\n",
    "test_acc_sigmoid_sigmoid_adam = get_last_accuracy(model_sigmoid_sigmoid.evaluate(X_test_flat, y_test_cat, verbose=0))\n",
    "\n",
    "# Evaluate SGD models\n",
    "test_acc_relu_softmax_sgd = get_last_accuracy(model_relu_softmax_sgd.evaluate(X_test_flat, y_test_cat, verbose=0))\n",
    "test_acc_relu_sigmoid_sgd = get_last_accuracy(model_relu_sigmoid_sgd.evaluate(X_test_flat, y_test_cat, verbose=0))\n",
    "test_acc_sigmoid_softmax_sgd = get_last_accuracy(model_sigmoid_softmax_sgd.evaluate(X_test_flat, y_test_cat, verbose=0))\n",
    "test_acc_sigmoid_sigmoid_sgd = get_last_accuracy(model_sigmoid_sigmoid_sgd.evaluate(X_test_flat, y_test_cat, verbose=0))\n",
    "\n",
    "# Evaluate RMSprop models\n",
    "test_acc_relu_softmax_rmsprop = get_last_accuracy(model_relu_softmax_rmsprop.evaluate(X_test_flat, y_test_cat, verbose=0))\n",
    "test_acc_relu_sigmoid_rmsprop = get_last_accuracy(model_relu_sigmoid_rmsprop.evaluate(X_test_flat, y_test_cat, verbose=0))\n",
    "test_acc_sigmoid_softmax_rmsprop = get_last_accuracy(model_sigmoid_softmax_rmsprop.evaluate(X_test_flat, y_test_cat, verbose=0))\n",
    "test_acc_sigmoid_sigmoid_rmsprop = get_last_accuracy(model_sigmoid_sigmoid_rmsprop.evaluate(X_test_flat, y_test_cat, verbose=0))\n",
    "\n",
    "print('Adam Models:')\n",
    "print('ReLU+Softmax Test Accuracy:', test_acc_relu_softmax_adam)\n",
    "print('ReLU+Sigmoid Test Accuracy:', test_acc_relu_sigmoid_adam)\n",
    "print('Sigmoid+Softmax Test Accuracy:', test_acc_sigmoid_softmax_adam)\n",
    "print('Sigmoid+Sigmoid Test Accuracy:', test_acc_sigmoid_sigmoid_adam)\n",
    "\n",
    "print('\\nSGD Models:')\n",
    "print('ReLU+Softmax Test Accuracy:', test_acc_relu_softmax_sgd)\n",
    "print('ReLU+Sigmoid Test Accuracy:', test_acc_relu_sigmoid_sgd)\n",
    "print('Sigmoid+Softmax Test Accuracy:', test_acc_sigmoid_softmax_sgd)\n",
    "print('Sigmoid+Sigmoid Test Accuracy:', test_acc_sigmoid_sigmoid_sgd)\n",
    "\n",
    "print('\\nRMSprop Models:')\n",
    "print('ReLU+Softmax Test Accuracy:', test_acc_relu_softmax_rmsprop)\n",
    "print('ReLU+Sigmoid Test Accuracy:', test_acc_relu_sigmoid_rmsprop)\n",
    "print('Sigmoid+Softmax Test Accuracy:', test_acc_sigmoid_softmax_rmsprop)\n",
    "print('Sigmoid+Sigmoid Test Accuracy:', test_acc_sigmoid_sigmoid_rmsprop)"
   ]
  }
 ],
 "metadata": {
  "kernelspec": {
   "display_name": "Python 3",
   "language": "python",
   "name": "python3"
  },
  "language_info": {
   "codemirror_mode": {
    "name": "ipython",
    "version": 3
   },
   "file_extension": ".py",
   "mimetype": "text/x-python",
   "name": "python",
   "nbconvert_exporter": "python",
   "pygments_lexer": "ipython3",
   "version": "3.13.3"
  }
 },
 "nbformat": 4,
 "nbformat_minor": 5
}
