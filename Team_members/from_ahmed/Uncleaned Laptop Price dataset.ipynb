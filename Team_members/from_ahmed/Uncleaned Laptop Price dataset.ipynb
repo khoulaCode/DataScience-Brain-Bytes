{
 "cells": [
  {
   "cell_type": "code",
   "execution_count": 41,
   "id": "c3de1d9d-53fc-40d9-b1a2-5b0a3c1985c7",
   "metadata": {},
   "outputs": [],
   "source": [
    "import numpy as np\n",
    "import pandas as pd"
   ]
  },
  {
   "cell_type": "code",
   "execution_count": 42,
   "id": "83fbdac1-b290-4f6f-ab8c-8680973efdf8",
   "metadata": {},
   "outputs": [],
   "source": [
    "df = pd.read_csv('data/laptopData.csv')"
   ]
  },
  {
   "cell_type": "code",
   "execution_count": 43,
   "id": "79e37d25-3904-4d58-b53f-425929555ea0",
   "metadata": {},
   "outputs": [
    {
     "name": "stdout",
     "output_type": "stream",
     "text": [
      "<class 'pandas.core.frame.DataFrame'>\n",
      "RangeIndex: 1303 entries, 0 to 1302\n",
      "Data columns (total 12 columns):\n",
      " #   Column            Non-Null Count  Dtype  \n",
      "---  ------            --------------  -----  \n",
      " 0   Unnamed: 0        1273 non-null   float64\n",
      " 1   Company           1273 non-null   object \n",
      " 2   TypeName          1273 non-null   object \n",
      " 3   Inches            1273 non-null   object \n",
      " 4   ScreenResolution  1273 non-null   object \n",
      " 5   Cpu               1273 non-null   object \n",
      " 6   Ram               1273 non-null   object \n",
      " 7   Memory            1273 non-null   object \n",
      " 8   Gpu               1273 non-null   object \n",
      " 9   OpSys             1273 non-null   object \n",
      " 10  Weight            1273 non-null   object \n",
      " 11  Price             1273 non-null   float64\n",
      "dtypes: float64(2), object(10)\n",
      "memory usage: 122.3+ KB\n"
     ]
    }
   ],
   "source": [
    "df.info()"
   ]
  },
  {
   "cell_type": "code",
   "execution_count": 44,
   "id": "953dbee9-9207-49de-b99d-04e88457467b",
   "metadata": {},
   "outputs": [],
   "source": [
    "df.columns = df.columns.str.strip().str.lower()"
   ]
  },
  {
   "cell_type": "code",
   "execution_count": 45,
   "id": "eb268e93-2696-44ba-a7c9-ea46e81514a8",
   "metadata": {},
   "outputs": [
    {
     "data": {
      "text/plain": [
       "np.int64(29)"
      ]
     },
     "execution_count": 45,
     "metadata": {},
     "output_type": "execute_result"
    }
   ],
   "source": [
    "df.duplicated().sum()"
   ]
  },
  {
   "cell_type": "code",
   "execution_count": 46,
   "id": "58523c95-b86b-4bb9-8463-9b241e0050d1",
   "metadata": {},
   "outputs": [
    {
     "data": {
      "text/plain": [
       "unnamed: 0          30\n",
       "company             30\n",
       "typename            30\n",
       "inches              30\n",
       "screenresolution    30\n",
       "cpu                 30\n",
       "ram                 30\n",
       "memory              30\n",
       "gpu                 30\n",
       "opsys               30\n",
       "weight              30\n",
       "price               30\n",
       "dtype: int64"
      ]
     },
     "execution_count": 46,
     "metadata": {},
     "output_type": "execute_result"
    }
   ],
   "source": [
    "df.isnull().sum()"
   ]
  },
  {
   "cell_type": "code",
   "execution_count": 47,
   "id": "88837578-fe0f-4eb4-95cf-703be379e279",
   "metadata": {},
   "outputs": [],
   "source": [
    "df = df.drop_duplicates()"
   ]
  },
  {
   "cell_type": "code",
   "execution_count": 48,
   "id": "073a2b2f-07fc-4ca3-99e4-2d2c3a049a87",
   "metadata": {},
   "outputs": [],
   "source": [
    "df = df.dropna()"
   ]
  },
  {
   "cell_type": "code",
   "execution_count": 49,
   "id": "c19166b7-665a-447b-bd5f-f1a0c560f6c2",
   "metadata": {},
   "outputs": [
    {
     "data": {
      "text/plain": [
       "np.int64(0)"
      ]
     },
     "execution_count": 49,
     "metadata": {},
     "output_type": "execute_result"
    }
   ],
   "source": [
    "df.duplicated().sum()"
   ]
  },
  {
   "cell_type": "code",
   "execution_count": 50,
   "id": "8bd9280b-dbe8-483a-9982-1c10f93bf744",
   "metadata": {},
   "outputs": [
    {
     "data": {
      "text/plain": [
       "unnamed: 0          0\n",
       "company             0\n",
       "typename            0\n",
       "inches              0\n",
       "screenresolution    0\n",
       "cpu                 0\n",
       "ram                 0\n",
       "memory              0\n",
       "gpu                 0\n",
       "opsys               0\n",
       "weight              0\n",
       "price               0\n",
       "dtype: int64"
      ]
     },
     "execution_count": 50,
     "metadata": {},
     "output_type": "execute_result"
    }
   ],
   "source": [
    "df.isnull().sum()"
   ]
  },
  {
   "cell_type": "code",
   "execution_count": 51,
   "id": "6a3ef556-93fe-40cb-855b-40a78757a6c1",
   "metadata": {},
   "outputs": [
    {
     "data": {
      "text/plain": [
       "array([0.000e+00, 1.000e+00, 2.000e+00, ..., 1.300e+03, 1.301e+03,\n",
       "       1.302e+03], shape=(1273,))"
      ]
     },
     "execution_count": 51,
     "metadata": {},
     "output_type": "execute_result"
    }
   ],
   "source": [
    "df['unnamed: 0'].unique()"
   ]
  },
  {
   "cell_type": "code",
   "execution_count": 52,
   "id": "5609b460-72e0-4610-ba07-04a76a7c2437",
   "metadata": {},
   "outputs": [
    {
     "data": {
      "text/plain": [
       "array(['Apple', 'HP', 'Acer', 'Asus', 'Dell', 'Lenovo', 'Chuwi', 'MSI',\n",
       "       'Microsoft', 'Toshiba', 'Huawei', 'Xiaomi', 'Vero', 'Razer',\n",
       "       'Mediacom', 'Samsung', 'Google', 'Fujitsu', 'LG'], dtype=object)"
      ]
     },
     "execution_count": 52,
     "metadata": {},
     "output_type": "execute_result"
    }
   ],
   "source": [
    "df['company'].unique()"
   ]
  },
  {
   "cell_type": "code",
   "execution_count": 53,
   "id": "1ee5c14b-df3f-4e6b-beac-043c735aa78d",
   "metadata": {},
   "outputs": [
    {
     "data": {
      "text/plain": [
       "array(['Ultrabook', 'Notebook', 'Gaming', '2 in 1 Convertible',\n",
       "       'Workstation', 'Netbook'], dtype=object)"
      ]
     },
     "execution_count": 53,
     "metadata": {},
     "output_type": "execute_result"
    }
   ],
   "source": [
    "df['typename'].unique()"
   ]
  },
  {
   "cell_type": "code",
   "execution_count": 54,
   "id": "a871b192-28ce-4877-af6c-cbf1bc6aa2b4",
   "metadata": {},
   "outputs": [
    {
     "data": {
      "text/plain": [
       "array(['13.3', '15.6', '15.4', '14', '12', '17.3', '13.5', '12.5', '13',\n",
       "       '18.4', '13.9', '11.6', '25.6', '35.6', '12.3', '27.3', '24',\n",
       "       '33.5', '?', '31.6', '17', '15', '14.1', '11.3', '10.1'],\n",
       "      dtype=object)"
      ]
     },
     "execution_count": 54,
     "metadata": {},
     "output_type": "execute_result"
    }
   ],
   "source": [
    "df['inches'].unique()"
   ]
  },
  {
   "cell_type": "code",
   "execution_count": 55,
   "id": "172863b6-5d44-4ce6-acce-950b4808972e",
   "metadata": {},
   "outputs": [
    {
     "data": {
      "text/plain": [
       "array(['IPS Panel Retina Display 2560x1600', '1440x900',\n",
       "       'Full HD 1920x1080', 'IPS Panel Retina Display 2880x1800',\n",
       "       '1366x768', 'IPS Panel Full HD 1920x1080',\n",
       "       'IPS Panel Retina Display 2304x1440',\n",
       "       'IPS Panel Full HD / Touchscreen 1920x1080',\n",
       "       'Full HD / Touchscreen 1920x1080',\n",
       "       'Touchscreen / Quad HD+ 3200x1800', 'Touchscreen 2256x1504',\n",
       "       'Quad HD+ / Touchscreen 3200x1800', 'IPS Panel 1366x768',\n",
       "       'IPS Panel 4K Ultra HD / Touchscreen 3840x2160',\n",
       "       'IPS Panel Full HD 2160x1440',\n",
       "       '4K Ultra HD / Touchscreen 3840x2160', '1600x900',\n",
       "       'IPS Panel 4K Ultra HD 3840x2160', '4K Ultra HD 3840x2160',\n",
       "       'Touchscreen 1366x768', 'Touchscreen 2560x1440',\n",
       "       'IPS Panel Full HD 1366x768', 'IPS Panel 2560x1440',\n",
       "       'IPS Panel Full HD 2560x1440',\n",
       "       'IPS Panel Retina Display 2736x1824', 'Touchscreen 2400x1600',\n",
       "       '2560x1440', 'IPS Panel Quad HD+ 2560x1440',\n",
       "       'IPS Panel Quad HD+ 3200x1800',\n",
       "       'IPS Panel Quad HD+ / Touchscreen 3200x1800',\n",
       "       'IPS Panel Touchscreen 1366x768', '1920x1080',\n",
       "       'IPS Panel Full HD 1920x1200',\n",
       "       'IPS Panel Touchscreen / 4K Ultra HD 3840x2160',\n",
       "       'IPS Panel Touchscreen 2560x1440',\n",
       "       'Touchscreen / Full HD 1920x1080', 'Quad HD+ 3200x1800',\n",
       "       'IPS Panel Touchscreen 1920x1200',\n",
       "       'Touchscreen / 4K Ultra HD 3840x2160',\n",
       "       'IPS Panel Touchscreen 2400x1600'], dtype=object)"
      ]
     },
     "execution_count": 55,
     "metadata": {},
     "output_type": "execute_result"
    }
   ],
   "source": [
    "df['screenresolution'].unique()"
   ]
  },
  {
   "cell_type": "code",
   "execution_count": 56,
   "id": "a75d761e-d7b6-4eac-bf07-ff5acc38bc73",
   "metadata": {},
   "outputs": [
    {
     "data": {
      "text/plain": [
       "array(['Intel Core i5 2.3GHz', 'Intel Core i5 1.8GHz',\n",
       "       'Intel Core i5 7200U 2.5GHz', 'Intel Core i7 2.7GHz',\n",
       "       'Intel Core i5 3.1GHz', 'AMD A9-Series 9420 3GHz',\n",
       "       'Intel Core i7 2.2GHz', 'Intel Core i7 8550U 1.8GHz',\n",
       "       'Intel Core i5 8250U 1.6GHz', 'Intel Core i3 6006U 2GHz',\n",
       "       'Intel Core i7 2.8GHz', 'Intel Core M m3 1.2GHz',\n",
       "       'Intel Core i7 7500U 2.7GHz', 'Intel Core i7 2.9GHz',\n",
       "       'Intel Core i3 7100U 2.4GHz', 'Intel Core i5 7300HQ 2.5GHz',\n",
       "       'AMD E-Series E2-9000e 1.5GHz', 'Intel Core i5 1.6GHz',\n",
       "       'Intel Core i7 8650U 1.9GHz', 'Intel Atom x5-Z8300 1.44GHz',\n",
       "       'AMD E-Series E2-6110 1.5GHz', 'AMD A6-Series 9220 2.5GHz',\n",
       "       'Intel Celeron Dual Core N3350 1.1GHz',\n",
       "       'Intel Core i3 7130U 2.7GHz', 'Intel Core i7 7700HQ 2.8GHz',\n",
       "       'Intel Core i5 2.0GHz', 'AMD Ryzen 1700 3GHz',\n",
       "       'Intel Pentium Quad Core N4200 1.1GHz',\n",
       "       'Intel Celeron Dual Core N3060 1.6GHz', 'Intel Core i5 1.3GHz',\n",
       "       'AMD FX 9830P 3GHz', 'Intel Core i7 7560U 2.4GHz',\n",
       "       'AMD E-Series 6110 1.5GHz', 'Intel Core i5 6200U 2.3GHz',\n",
       "       'Intel Core M 6Y75 1.2GHz', 'Intel Core i5 7500U 2.7GHz',\n",
       "       'Intel Core i3 6006U 2.2GHz', 'AMD A6-Series 9220 2.9GHz',\n",
       "       'Intel Core i7 6920HQ 2.9GHz', 'Intel Core i5 7Y54 1.2GHz',\n",
       "       'Intel Core i7 7820HK 2.9GHz', 'Intel Xeon E3-1505M V6 3GHz',\n",
       "       'Intel Core i7 6500U 2.5GHz', 'AMD E-Series 9000e 1.5GHz',\n",
       "       'AMD A10-Series A10-9620P 2.5GHz', 'AMD A6-Series A6-9220 2.5GHz',\n",
       "       'Intel Core i5 2.9GHz', 'Intel Core i7 6600U 2.6GHz',\n",
       "       'Intel Core i3 6006U 2.0GHz',\n",
       "       'Intel Celeron Dual Core 3205U 1.5GHz',\n",
       "       'Intel Core i7 7820HQ 2.9GHz', 'AMD A10-Series 9600P 2.4GHz',\n",
       "       'Intel Core i7 7600U 2.8GHz', 'AMD A8-Series 7410 2.2GHz',\n",
       "       'Intel Celeron Dual Core 3855U 1.6GHz',\n",
       "       'Intel Pentium Quad Core N3710 1.6GHz',\n",
       "       'AMD A12-Series 9720P 2.7GHz', 'Intel Core i5 7300U 2.6GHz',\n",
       "       'AMD A12-Series 9720P 3.6GHz',\n",
       "       'Intel Celeron Quad Core N3450 1.1GHz',\n",
       "       'Intel Celeron Dual Core N3060 1.60GHz',\n",
       "       'Intel Core i5 6440HQ 2.6GHz', 'Intel Core i7 6820HQ 2.7GHz',\n",
       "       'AMD Ryzen 1600 3.2GHz', 'Intel Core i7 7Y75 1.3GHz',\n",
       "       'Intel Core i5 7440HQ 2.8GHz', 'Intel Core i7 7660U 2.5GHz',\n",
       "       'Intel Core i7 7700HQ 2.7GHz', 'Intel Core M m3-7Y30 2.2GHz',\n",
       "       'Intel Core i5 7Y57 1.2GHz', 'Intel Core i7 6700HQ 2.6GHz',\n",
       "       'Intel Core i3 6100U 2.3GHz', 'Intel Atom x5-Z8350 1.44GHz',\n",
       "       'AMD A10-Series 9620P 2.5GHz', 'AMD E-Series 7110 1.8GHz',\n",
       "       'Intel Celeron Dual Core N3350 2.0GHz',\n",
       "       'AMD A9-Series A9-9420 3GHz', 'Intel Core i7 6820HK 2.7GHz',\n",
       "       'Intel Core M 7Y30 1.0GHz', 'Intel Xeon E3-1535M v6 3.1GHz',\n",
       "       'Intel Celeron Quad Core N3160 1.6GHz',\n",
       "       'Intel Core i5 6300U 2.4GHz', 'Intel Core i3 6100U 2.1GHz',\n",
       "       'AMD E-Series E2-9000 2.2GHz',\n",
       "       'Intel Celeron Dual Core N3050 1.6GHz',\n",
       "       'Intel Core M M3-6Y30 0.9GHz', 'AMD A9-Series 9420 2.9GHz',\n",
       "       'Intel Core i5 6300HQ 2.3GHz', 'AMD A6-Series 7310 2GHz',\n",
       "       'Intel Atom Z8350 1.92GHz', 'Intel Xeon E3-1535M v5 2.9GHz',\n",
       "       'Intel Core i5 6260U 1.8GHz',\n",
       "       'Intel Pentium Dual Core N4200 1.1GHz',\n",
       "       'Intel Celeron Quad Core N3710 1.6GHz', 'Intel Core M 1.2GHz',\n",
       "       'AMD A12-Series 9700P 2.5GHz', 'Intel Core i7 7500U 2.5GHz',\n",
       "       'Intel Pentium Dual Core 4405U 2.1GHz',\n",
       "       'AMD A4-Series 7210 2.2GHz', 'Intel Core i7 6560U 2.2GHz',\n",
       "       'Intel Core M m7-6Y75 1.2GHz', 'AMD FX 8800P 2.1GHz',\n",
       "       'Intel Core M M7-6Y75 1.2GHz', 'Intel Core i5 7200U 2.50GHz',\n",
       "       'Intel Core i5 7200U 2.70GHz', 'Intel Atom X5-Z8350 1.44GHz',\n",
       "       'Intel Core i5 7200U 2.7GHz', 'Intel Core M 1.1GHz',\n",
       "       'Intel Atom x5-Z8550 1.44GHz',\n",
       "       'Intel Pentium Dual Core 4405Y 1.5GHz',\n",
       "       'Intel Pentium Quad Core N3700 1.6GHz', 'Intel Core M 6Y54 1.1GHz',\n",
       "       'Intel Core i7 6500U 2.50GHz',\n",
       "       'Intel Celeron Dual Core N3350 2GHz',\n",
       "       'Samsung Cortex A72&A53 2.0GHz', 'AMD E-Series 9000 2.2GHz',\n",
       "       'Intel Core M 6Y30 0.9GHz', 'AMD A9-Series 9410 2.9GHz'],\n",
       "      dtype=object)"
      ]
     },
     "execution_count": 56,
     "metadata": {},
     "output_type": "execute_result"
    }
   ],
   "source": [
    "df['cpu'].unique()"
   ]
  },
  {
   "cell_type": "code",
   "execution_count": 57,
   "id": "108ce573-6a43-4ea2-bbd5-b4c069c0d197",
   "metadata": {},
   "outputs": [
    {
     "data": {
      "text/plain": [
       "array(['8GB', '16GB', '4GB', '2GB', '12GB', '64GB', '6GB', '32GB', '24GB',\n",
       "       '1GB'], dtype=object)"
      ]
     },
     "execution_count": 57,
     "metadata": {},
     "output_type": "execute_result"
    }
   ],
   "source": [
    "df['ram'].unique()"
   ]
  },
  {
   "cell_type": "code",
   "execution_count": 58,
   "id": "6b89ac8e-eb96-4892-a4ca-cceeeba0e434",
   "metadata": {},
   "outputs": [
    {
     "data": {
      "text/plain": [
       "array(['128GB SSD', '128GB Flash Storage', '256GB SSD', '512GB SSD',\n",
       "       '500GB HDD', '256GB Flash Storage', '1TB HDD',\n",
       "       '128GB SSD +  1TB HDD', '256GB SSD +  256GB SSD',\n",
       "       '64GB Flash Storage', '32GB Flash Storage', '256GB SSD +  1TB HDD',\n",
       "       '256GB SSD +  2TB HDD', '32GB SSD', '2TB HDD', '64GB SSD',\n",
       "       '1.0TB Hybrid', '512GB SSD +  1TB HDD', '1TB SSD',\n",
       "       '256GB SSD +  500GB HDD', '128GB SSD +  2TB HDD',\n",
       "       '512GB SSD +  512GB SSD', '16GB SSD', '16GB Flash Storage',\n",
       "       '512GB SSD +  256GB SSD', '512GB SSD +  2TB HDD',\n",
       "       '64GB Flash Storage +  1TB HDD', '180GB SSD', '1TB HDD +  1TB HDD',\n",
       "       '32GB HDD', '1TB SSD +  1TB HDD', '?', '512GB Flash Storage',\n",
       "       '128GB HDD', '240GB SSD', '8GB SSD', '508GB Hybrid', '1.0TB HDD',\n",
       "       '512GB SSD +  1.0TB Hybrid', '256GB SSD +  1.0TB Hybrid'],\n",
       "      dtype=object)"
      ]
     },
     "execution_count": 58,
     "metadata": {},
     "output_type": "execute_result"
    }
   ],
   "source": [
    "df['memory'].unique()"
   ]
  },
  {
   "cell_type": "code",
   "execution_count": 59,
   "id": "00c2e19d-f826-4276-b513-1f65ece8cf4f",
   "metadata": {},
   "outputs": [
    {
     "data": {
      "text/plain": [
       "array(['Intel Iris Plus Graphics 640', 'Intel HD Graphics 6000',\n",
       "       'Intel HD Graphics 620', 'AMD Radeon Pro 455',\n",
       "       'Intel Iris Plus Graphics 650', 'AMD Radeon R5',\n",
       "       'Intel Iris Pro Graphics', 'Nvidia GeForce MX150',\n",
       "       'Intel UHD Graphics 620', 'Intel HD Graphics 520',\n",
       "       'AMD Radeon Pro 555', 'AMD Radeon R5 M430',\n",
       "       'Intel HD Graphics 615', 'AMD Radeon Pro 560',\n",
       "       'Nvidia GeForce 940MX', 'Nvidia GeForce GTX 1050', 'AMD Radeon R2',\n",
       "       'AMD Radeon 530', 'Nvidia GeForce 930MX', 'Intel HD Graphics',\n",
       "       'Intel HD Graphics 500', 'Nvidia GeForce 930MX ',\n",
       "       'Nvidia GeForce GTX 1060', 'Nvidia GeForce 150MX',\n",
       "       'Intel Iris Graphics 540', 'AMD Radeon RX 580',\n",
       "       'Nvidia GeForce 920MX', 'AMD Radeon R4 Graphics', 'AMD Radeon 520',\n",
       "       'Nvidia GeForce GTX 1070', 'Nvidia GeForce GTX 1050 Ti',\n",
       "       'Intel HD Graphics 400', 'Nvidia GeForce MX130', 'AMD R4 Graphics',\n",
       "       'Nvidia GeForce GTX 940MX', 'AMD Radeon RX 560',\n",
       "       'Nvidia GeForce 920M', 'AMD Radeon R7 M445', 'AMD Radeon RX 550',\n",
       "       'Nvidia GeForce GTX 1050M', 'Intel HD Graphics 515',\n",
       "       'AMD Radeon R5 M420', 'Intel HD Graphics 505',\n",
       "       'Nvidia GTX 980 SLI', 'AMD R17M-M1-70', 'Nvidia GeForce GTX 1080',\n",
       "       'Nvidia Quadro M1200', 'Nvidia GeForce 920MX ',\n",
       "       'Nvidia GeForce GTX 950M', 'AMD FirePro W4190M ',\n",
       "       'Nvidia GeForce GTX 980M', 'Intel Iris Graphics 550',\n",
       "       'Nvidia GeForce 930M', 'Intel HD Graphics 630',\n",
       "       'AMD Radeon R5 430', 'Nvidia GeForce GTX 940M',\n",
       "       'Intel HD Graphics 510', 'Intel HD Graphics 405',\n",
       "       'AMD Radeon RX 540', 'Nvidia GeForce GT 940MX',\n",
       "       'AMD FirePro W5130M', 'Nvidia Quadro M2200M', 'AMD Radeon R4',\n",
       "       'Nvidia Quadro M620', 'AMD Radeon R7 M460',\n",
       "       'Intel HD Graphics 530', 'Nvidia GeForce GTX 965M',\n",
       "       'Nvidia GeForce GTX1080', 'Nvidia GeForce GTX1050 Ti',\n",
       "       'Nvidia GeForce GTX 960M', 'AMD Radeon R2 Graphics',\n",
       "       'Nvidia Quadro M620M', 'Nvidia GeForce GTX 970M',\n",
       "       'Nvidia GeForce GTX 960<U+039C>', 'Intel Graphics 620',\n",
       "       'Nvidia GeForce GTX 960', 'AMD Radeon R5 520',\n",
       "       'AMD Radeon R7 M440', 'AMD Radeon R7', 'Nvidia Quadro M520M',\n",
       "       'Nvidia Quadro M2200', 'Nvidia Quadro M2000M',\n",
       "       'Intel HD Graphics 540', 'Nvidia Quadro M1000M', 'AMD Radeon 540',\n",
       "       'Nvidia GeForce GTX 1070M', 'Nvidia GeForce GTX1060',\n",
       "       'Intel HD Graphics 5300', 'AMD Radeon R5 M420X',\n",
       "       'AMD Radeon R7 Graphics', 'Nvidia GeForce 920',\n",
       "       'Nvidia GeForce 940M', 'Nvidia GeForce GTX 930MX',\n",
       "       'AMD Radeon R7 M465', 'AMD Radeon R3', 'Nvidia GeForce GTX 1050Ti',\n",
       "       'AMD Radeon R7 M365X', 'AMD Radeon R9 M385',\n",
       "       'Intel HD Graphics 620 ', 'Nvidia Quadro 3000M',\n",
       "       'Nvidia GeForce GTX 980 ', 'AMD Radeon R5 M330',\n",
       "       'AMD FirePro W4190M', 'AMD FirePro W6150M', 'AMD Radeon R5 M315',\n",
       "       'Nvidia Quadro M500M', 'AMD Radeon R7 M360',\n",
       "       'Nvidia Quadro M3000M', 'Nvidia GeForce 960M', 'ARM Mali T860 MP4'],\n",
       "      dtype=object)"
      ]
     },
     "execution_count": 59,
     "metadata": {},
     "output_type": "execute_result"
    }
   ],
   "source": [
    "df['gpu'].unique()"
   ]
  },
  {
   "cell_type": "code",
   "execution_count": 60,
   "id": "9f5f9daa-747e-4d35-ac73-a566c40bb4b3",
   "metadata": {},
   "outputs": [
    {
     "data": {
      "text/plain": [
       "array(['macOS', 'No OS', 'Windows 10', 'Mac OS X', 'Linux',\n",
       "       'Windows 10 S', 'Chrome OS', 'Windows 7', 'Android'], dtype=object)"
      ]
     },
     "execution_count": 60,
     "metadata": {},
     "output_type": "execute_result"
    }
   ],
   "source": [
    "df['opsys'].unique()"
   ]
  },
  {
   "cell_type": "code",
   "execution_count": 61,
   "id": "6b683166-7bfd-4bdc-a3b2-370491573208",
   "metadata": {},
   "outputs": [
    {
     "data": {
      "text/plain": [
       "array(['1.37kg', '1.34kg', '1.86kg', '1.83kg', '2.1kg', '2.04kg', '1.3kg',\n",
       "       '1.6kg', '2.2kg', '0.92kg', '1.22kg', '2.5kg', '1.62kg', '1.91kg',\n",
       "       '2.3kg', '1.35kg', '1.88kg', '1.89kg', '1.65kg', '2.71kg', '1.2kg',\n",
       "       '1.44kg', '2.8kg', '2kg', '2.65kg', '2.77kg', '3.2kg', '1.49kg',\n",
       "       '2.4kg', '2.13kg', '2.43kg', '1.7kg', '1.4kg', '1.8kg', '1.9kg',\n",
       "       '3kg', '1.252kg', '2.7kg', '2.02kg', '1.63kg', '1.96kg', '1.21kg',\n",
       "       '2.45kg', '1.25kg', '1.5kg', '2.62kg', '1.38kg', '1.58kg',\n",
       "       '1.85kg', '1.23kg', '2.16kg', '2.36kg', '7.2kg', '2.05kg',\n",
       "       '1.32kg', '1.75kg', '0.97kg', '2.56kg', '1.48kg', '1.74kg',\n",
       "       '1.1kg', '1.56kg', '2.03kg', '1.05kg', '5.4kg', '4.4kg', '1.90kg',\n",
       "       '1.29kg', '2.0kg', '1.95kg', '2.06kg', '1.12kg', '3.49kg',\n",
       "       '3.35kg', '2.23kg', '?', '2.9kg', '4.42kg', '2.69kg', '2.37kg',\n",
       "       '4.7kg', '3.6kg', '2.08kg', '4.3kg', '1.68kg', '1.41kg', '4.14kg',\n",
       "       '2.18kg', '2.24kg', '2.67kg', '4.1kg', '2.14kg', '1.36kg',\n",
       "       '2.25kg', '2.15kg', '2.19kg', '2.54kg', '3.42kg', '5.8kg',\n",
       "       '1.28kg', '2.33kg', '1.45kg', '2.79kg', '8.23kg', '1.26kg',\n",
       "       '1.84kg', '0.0002kg', '2.6kg', '2.26kg', '3.25kg', '1.59kg',\n",
       "       '1.13kg', '1.42kg', '1.78kg', '1.10kg', '1.15kg', '1.27kg',\n",
       "       '1.43kg', '2.31kg', '1.16kg', '1.64kg', '2.17kg', '1.47kg',\n",
       "       '3.78kg', '1.79kg', '0.91kg', '1.99kg', '4.33kg', '1.93kg',\n",
       "       '1.87kg', '2.63kg', '3.4kg', '3.14kg', '1.94kg', '1.24kg', '4.6kg',\n",
       "       '4.5kg', '8.4kg', '2.73kg', '1.39kg', '2.29kg', '2.59kg', '2.94kg',\n",
       "       '11.1kg', '1.14kg', '3.8kg', '6.2kg', '3.31kg', '1.09kg', '3.21kg',\n",
       "       '1.19kg', '1.98kg', '1.17kg', '4.36kg', '1.71kg', '2.32kg',\n",
       "       '4.2kg', '1.55kg', '0.81kg', '1.18kg', '2.72kg', '1.31kg',\n",
       "       '0.920kg', '3.74kg', '1.76kg', '1.54kg', '2.83kg', '2.07kg',\n",
       "       '2.38kg', '3.58kg', '1.08kg', '2.20kg', '0.98kg', '2.75kg',\n",
       "       '1.70kg', '2.99kg', '1.11kg', '2.09kg', '4kg', '3.0kg', '0.99kg',\n",
       "       '0.69kg', '3.52kg', '2.591kg', '2.21kg', '3.3kg', '2.191kg',\n",
       "       '2.34kg', '4.0kg'], dtype=object)"
      ]
     },
     "execution_count": 61,
     "metadata": {},
     "output_type": "execute_result"
    }
   ],
   "source": [
    "df['weight'].unique()"
   ]
  },
  {
   "cell_type": "code",
   "execution_count": 62,
   "id": "360d094b-0c6b-460f-884a-f1262dd3f550",
   "metadata": {},
   "outputs": [
    {
     "data": {
      "text/plain": [
       "array([ 71378.6832,  47895.5232,  30636.    , 135195.336 ,  96095.808 ,\n",
       "        21312.    , 114017.6016,  61735.536 ,  79653.6   ,  41025.6   ,\n",
       "        20986.992 ,  18381.0672, 130001.6016,  26581.392 ,  67260.672 ,\n",
       "        80908.344 ,  39693.6   , 152274.24  ,  26586.72  ,  52161.12  ,\n",
       "        53226.72  ,  13746.24  ,  43636.32  ,  35111.52  ,  22305.1392,\n",
       "        58554.72  ,  42624.    ,  69157.44  ,  47738.88  ,  13053.0672,\n",
       "        10602.72  ,  23389.92  ,  99580.32  ,  53173.44  ,  13266.72  ,\n",
       "        19553.76  ,  26037.4032,  46833.12  ,  20725.92  ,  79866.72  ,\n",
       "        27864.9072,  36336.96  ,  75604.32  ,  69210.72  ,  34045.92  ,\n",
       "        24828.48  ,  44808.48  ,  21231.5472,  58767.84  ,  20459.52  ,\n",
       "        40908.384 ,  31232.2032, 130482.72  ,  22111.2   ,  31914.72  ,\n",
       "        50136.48  ,  36763.2   , 105654.24  ,  23373.4032,  12201.12  ,\n",
       "        29250.72  ,  50562.72  ,  58021.92  ,  50882.4   ,  46353.6   ,\n",
       "        58341.6   ,  27652.32  ,  45554.4   ,  28238.4   ,  52054.56  ,\n",
       "        58403.4048,  80452.8   ,  45820.8   ,  21258.72  ,  21045.6   ,\n",
       "        71874.72  ,  37242.72  ,  31914.1872,  77202.72  ,  87858.72  ,\n",
       "        36709.92  ,  63776.16  ,  63669.6   ,  55890.72  ,  45128.16  ,\n",
       "        31962.672 ,  25840.8   ,  30742.56  ,  66546.72  ,  38308.32  ,\n",
       "        18594.72  ,  34472.16  ,  59620.32  ,  71395.2   ,  22105.872 ,\n",
       "        63563.04  ,  78854.4   ,  67239.36  ,  73473.12  ,  74538.72  ,\n",
       "        38468.16  ,  86793.12  ,  57755.52  ,  60223.9824,  30049.92  ,\n",
       "        59567.04  ,  25521.12  , 119427.12  ,  33513.12  ,  67718.88  ,\n",
       "        24029.28  ,  43263.36  ,  14811.3072,  74378.88  ,  49443.84  ,\n",
       "        34045.3872,  23922.72  ,  47099.52  ,  30476.16  ,  31861.44  ,\n",
       "        52640.64  ,  13445.7408,  49976.64  ,  34898.4   ,  59461.5456,\n",
       "        46300.32  ,  32074.56  ,  19660.32  , 107305.92  ,  18328.32  ,\n",
       "        23816.16  ,  66560.5728,  47898.72  ,  26533.44  , 100699.2   ,\n",
       "        57648.96  ,  32980.32  ,  70063.2   ,  21471.84  ,  42890.4   ,\n",
       "        38787.84  ,  57489.12  ,  18541.44  ,  95850.72  ,  19367.8128,\n",
       "        56502.9072,  45501.12  ,  40173.12  ,  16463.52  ,  26053.92  ,\n",
       "        49177.44  ,  24455.52  , 149130.72  ,  43316.64  ,  98514.72  ,\n",
       "        42251.04  ,  63882.72  ,  82530.72  , 127712.16  ,  41505.12  ,\n",
       "        52693.92  ,  57808.8   ,  13852.8   ,  53274.672 ,  37189.44  ,\n",
       "        44701.92  ,  48697.92  , 324954.72  ,  51095.52  ,  55677.6   ,\n",
       "        98301.6   ,  26267.04  ,  39533.76  ,  93186.72  , 162770.4   ,\n",
       "        74485.44  , 103842.72  ,  74964.96  ,  49650.5664,  31381.92  ,\n",
       "        54931.68  ,  61218.72  ,  68145.12  ,  36089.208 ,  72620.64  ,\n",
       "        42304.32  , 130873.7952,  44328.96  ,  45768.0528,  40972.32  ,\n",
       "        47472.48  ,  67612.32  ,  21258.1872,  17582.4   ,  45767.52  ,\n",
       "        20779.2   , 207259.2   ,  45074.88  ,  61005.6   ,  47365.92  ,\n",
       "        52480.8   ,  29783.52  , 159786.72  ,  35964.    , 108691.2   ,\n",
       "        24988.32  ,  37402.56  ,  23757.552 ,  56423.52  , 133146.72  ,\n",
       "        90522.72  ,  60845.76  ,  23656.32  ,  35004.96  ,  30103.2   ,\n",
       "        42570.72  ,  54239.04  ,  46886.4   , 104370.192 ,  39164.5296,\n",
       "        37992.3696,  45234.72  ,  22803.84  ,  44169.12  ,  30849.12  ,\n",
       "        50669.28  ,  58448.16  ,  62817.12  ,  35112.0528,  63243.36  ,\n",
       "        97449.12  ,  39373.92  , 153705.3408,  78215.04  ,  27119.52  ,\n",
       "       113060.16  ,  34578.72  ,  67399.2   ,  19180.2672, 105228.    ,\n",
       "        55571.04  , 111834.72  ,  14652.    ,  44968.32  ,  24503.472 ,\n",
       "        52214.4   ,  68837.76  ,  58288.32  ,  48058.56  ,  15557.76  ,\n",
       "        55938.672 ,  71128.8   , 140605.92  ,  50243.04  ,  71075.52  ,\n",
       "        67559.04  ,  60952.32  ,  14651.4672,  60885.72  ,  14646.672 ,\n",
       "        38148.48  ,  84129.12  ,  60153.12  ,  14865.12  ,  85672.1088,\n",
       "        19980.    ,  35324.64  ,  69477.12  ,  75071.52  ,  92615.0256,\n",
       "        74751.84  ,  51729.552 ,  17155.6272,  29696.6736,  76030.56  ,\n",
       "        50349.6   ,  43103.52  ,  93240.    ,  22697.28  , 117162.72  ,\n",
       "        46300.8528,  26053.3872,  29463.84  ,  15238.08  ,  63456.48  ,\n",
       "        21498.48  ,  88178.4   ,  93181.392 , 121584.96  ,  72940.32  ,\n",
       "       113752.8   , 133679.52  ,  55357.92  ,  84768.48  ,  36975.7872,\n",
       "        41498.1936,  65510.9568, 144495.36  , 139860.    ,  16303.68  ,\n",
       "        81465.12  ,  60978.96  , 119826.72  ,  99793.44  ,  93080.16  ,\n",
       "        89510.4   ,  21791.52  ,  16221.096 , 102564.    , 103523.04  ,\n",
       "        42038.4528,  31909.392 ,  79920.    ,  28768.536 ,  64755.4464,\n",
       "       101178.72  ,  31808.16  ,  61751.52  ,  60867.072 , 106506.72  ,\n",
       "        15930.72  ,  14332.32  ,  53812.8   , 130269.6   ,  90309.6   ,\n",
       "        18488.16  , 126912.96  ,  39906.72  ,  76137.12  ,  23539.104 ,\n",
       "       106187.04  ,  54757.9872, 137941.92  ,  81731.52  ,  71661.6   ,\n",
       "       109010.88  ,  34093.872 ,  28984.32  ,  23176.8   , 111355.2   ,\n",
       "        16197.12  ,  40439.52  ,  98994.24  ,  61485.12  ,  67932.    ,\n",
       "        98133.768 ,  39427.2   , 128298.24  ,  72673.92  ,  89084.16  ,\n",
       "        31254.048 ,  38681.28  ,  13261.392 , 124568.64  ,  95797.44  ,\n",
       "       103896.    ,  53918.8272,  71928.    ,  47893.392 ,  48538.08  ,\n",
       "        18115.2   ,  32979.7872,  85194.72  ,  14119.2   ,  65214.72  ,\n",
       "        32660.64  ,  70489.44  ,  44542.08  ,  64961.1072,  74589.336 ,\n",
       "        13053.6   ,  27783.9216, 158135.04  ,  80133.12  ,  68184.0144,\n",
       "        31168.8   ,  73366.56  , 160520.3856,  42486.0048,  39207.1536,\n",
       "        42517.44  ,  37589.04  ,  41824.8   ,  24634.008 ,  21152.16  ,\n",
       "        92121.12  ,  59513.2272, 143802.72  ,  28992.312 ,  68198.4   ,\n",
       "        11934.72  ,  13586.4   ,  30310.992 ,  32921.712 ,  33566.4   ,\n",
       "       104695.2   ,  52747.2   ,  99153.5472,  44222.4   ,  36496.8   ,\n",
       "        99367.2   , 141884.64  , 145401.12  ,  39907.2528,  53733.9456,\n",
       "        81912.1392,  15717.6   , 125154.72  ,  79813.44  ,  89137.44  ,\n",
       "        32447.52  ,  94305.6   ,  32127.84  ,  28185.12  , 107892.    ,\n",
       "        78534.72  ,  88977.6   ,  93932.64  ,  64948.32  ,  35616.6144,\n",
       "        17529.12  ,  24775.2   , 122490.72  , 261018.72  ,  46833.6528,\n",
       "        23650.992 ,  19127.52  ,  62231.04  ,  74005.92  , 120831.5808,\n",
       "        20193.12  ,  59886.72  ,  78055.2   ,  41345.28  ,  49656.96  ,\n",
       "        12733.92  ,  24935.04  ,  34046.4528, 101232.    ,  78801.12  ,\n",
       "        48304.7136,  93635.3376, 127818.72  ,  59087.52  ,  27753.552 ,\n",
       "       130536.    ,  62284.32  ,  23976.    ,  14598.72  ,  48964.32  ,\n",
       "       138474.72  ,  64628.64  ,  84395.52  ,  37775.52  ,  77250.672 ,\n",
       "        63499.104 ,  19441.872 ,  56689.92  ,  60472.8   ,  63722.88  ,\n",
       "       167691.8736,  65481.12  ,  22324.32  ,  28504.8   ,  28717.92  ,\n",
       "        79215.1056,  67026.24  ,  21951.36  ,  99519.048 ,  43580.376 ,\n",
       "        55091.52  ,  68944.32  ,  26373.6   ,  53168.112 , 109277.28  ,\n",
       "       149916.6   ,  32639.8608,  29073.2976,  30316.32  ,  16943.04  ,\n",
       "       101657.7072, 137995.2   ,  51841.44  ,  35644.32  , 100006.56  ,\n",
       "        22857.12  ,  33110.856 ,  42357.6   ,  98834.4   ,  34898.9328,\n",
       "        15877.44  ,  76012.4448,  45664.6896,  63936.    ,  89864.1792,\n",
       "        44574.048 , 194972.832 ,  71847.0144,  26101.872 ,  31409.6256,\n",
       "       103096.8   ,  34632.    ,  51148.8   , 128884.32  , 111593.8944,\n",
       "        21887.424 ,  64308.96  ,  35431.2   ,  81784.8   , 175770.72  ,\n",
       "        60031.1088, 233845.92  ,  25308.    ,  45282.672 ,  83170.08  ,\n",
       "       152859.7872,  55837.44  ,  99047.52  ,  83063.52  ,  25059.7152,\n",
       "        62938.0656,  54345.6   , 126273.6   ,  33886.08  , 154458.72  ,\n",
       "        31003.632 , 191211.264 , 125208.    ,  93985.92  , 100752.48  ,\n",
       "        71341.92  ,  10810.512 , 104961.6   ,  62071.2   , 124142.4   ,\n",
       "        43156.8   , 110017.872 ,  39640.32  ,  41558.4   ,  89457.12  ,\n",
       "       128671.2   ,  51202.08  ,  42081.0768,  20512.8   , 133467.4656,\n",
       "        40226.4   ,  58075.2   ,  99900.    ,  72354.24  ,  18914.4   ,\n",
       "       292986.72  ,  63190.08  ,  87912.    , 147832.2864,  17316.    ,\n",
       "        31435.2   , 163723.5792,  48484.8   ,  38041.3872,  99633.6   ,\n",
       "        32767.2   ,  54665.28  , 121318.56  ,  46087.2   , 101391.84  ,\n",
       "        41931.36  , 136343.52  ,  45323.1648,  68464.8   ,  54185.76  ,\n",
       "       119347.2   ,  94731.84  ,  56210.4   ,  73952.64  ,  39160.8   ,\n",
       "        90043.2   ,  49816.8   ,  48618.    ,  90576.    ,  36486.144 ,\n",
       "        24279.696 ,  72988.272 ,  15824.16  , 141138.72  ,  78588.    ,\n",
       "        49497.12  ,  47952.    ,  32713.92  , 107257.968 , 109170.72  ,\n",
       "       104588.1072,  79014.24  ,  42037.92  ,  64202.4   , 165168.    ,\n",
       "        54291.7872,  46939.68  ,  59668.8048,  36496.2672,  69103.6272,\n",
       "        97236.    ,  38889.072 ,  37725.4368,  15392.592 ,  58874.4   ,\n",
       "        88924.32  ,  29762.208 , 146946.24  ,  78438.816 ,  94572.    ,\n",
       "        77788.8   ,  79333.3872, 168045.12  ,  41292.    ,  93772.8   ,\n",
       "        53759.52  ,  95371.2   ,  45101.52  ,  24808.2336,  43956.    ,\n",
       "       167778.72  ,  37029.6   , 104587.5744, 149184.    ,  62870.4   ,\n",
       "       109218.672 ,  53386.56  ,  48751.2   ,  42943.68  ,  63349.92  ,\n",
       "       101658.24  ,  14418.6336,  61272.    ,  20246.4   , 111301.92  ,\n",
       "        67132.8   ,  29144.16  ,  58607.4672,  55904.5728,  36443.52  ,\n",
       "        81997.92  ,  84715.2   , 100550.5488,  64468.8   ,  41025.0672,\n",
       "        79387.2   , 118761.12  ,  42410.3472,  63159.7104,  55754.3232,\n",
       "        56476.8   ,  86526.72  ,  57542.4   ,  65480.5872,  91908.    ,\n",
       "        56633.976 ,  53839.9728,  11231.424 ,  75924.    ,  55922.688 ,\n",
       "        53280.    , 112065.9552,  78268.32  ,  82351.6992, 122010.6672,\n",
       "        15339.312 , 139593.6   , 120093.12  ,  37570.392 ,  96916.32  ,\n",
       "        52746.6672, 102777.12  ,  77682.24  , 211788.    ,  42517.9728,\n",
       "        70809.12  ,  69264.    ,  25679.8944,  91294.7472,  28771.2   ,\n",
       "        50083.2   , 172627.2   ,  34433.2656,  39960.    ,  54931.1472,\n",
       "        20619.36  ,  20965.1472,  18434.3472,  43601.688 ,  34035.264 ,\n",
       "        26640.    ,  60480.792 ,  62176.1616,  11135.52  ,  75289.968 ,\n",
       "        80516.2032,  46193.76  ,  21205.44  ,  40980.312 , 104908.32  ,\n",
       "       146519.4672,  54825.12  , 118601.28  ,  69929.4672,  10442.88  ,\n",
       "        80612.64  ,  27899.0064, 100965.6   , 109244.2464,  14811.84  ,\n",
       "        40066.56  ,  32820.48  , 210424.032 ,  41771.52  , 115709.2416,\n",
       "       130003.2   ,  60888.384 , 122381.496 ,  53807.472 , 124621.92  ,\n",
       "        18061.92  , 119916.2304,  25515.2592,  79536.384 ,  42010.7472,\n",
       "       108744.48  ,  94252.32  ,  25414.0272,  74059.2   ,  36177.12  ,\n",
       "        69530.4   , 114731.5536,  87219.36  ,  44275.68  ,  47686.1328,\n",
       "        17742.24  ,  48431.52  ,  36816.48  ,  61964.64  ,  70702.56  ,\n",
       "        19607.04  , 114552.    ,  14492.16  , 109165.392 , 142790.4   ,\n",
       "       103842.1872,   9270.72  ,  67772.16  ,  78647.1408,  91288.3536,\n",
       "        78694.56  ,  27804.7008, 186426.72  ,  24988.8528,  85141.44  ,\n",
       "        25467.84  , 117119.5632,  39267.36  ,  31838.5296,  19276.704 ,\n",
       "        46620.    , 123876.    ,  30529.44  ,  96596.64  ,  17262.72  ,\n",
       "        57116.16  ,  23655.7872,  26107.2   ,  47685.6   ,  44382.7728,\n",
       "        38841.12  ,  15397.92  ,  29303.4672,  42943.1472,  38378.6496,\n",
       "        33992.64  ,  40705.92  ])"
      ]
     },
     "execution_count": 62,
     "metadata": {},
     "output_type": "execute_result"
    }
   ],
   "source": [
    "df['price'].unique()"
   ]
  },
  {
   "cell_type": "code",
   "execution_count": 63,
   "id": "0f4bbed9-30a4-4b81-a656-e7e7d2d8c453",
   "metadata": {},
   "outputs": [
    {
     "data": {
      "text/plain": [
       "np.int64(1)"
      ]
     },
     "execution_count": 63,
     "metadata": {},
     "output_type": "execute_result"
    }
   ],
   "source": [
    "(df['inches'] == '?').sum()"
   ]
  },
  {
   "cell_type": "code",
   "execution_count": 64,
   "id": "acdee3be-8dc4-4af9-ba02-0e72e15f0b87",
   "metadata": {},
   "outputs": [
    {
     "data": {
      "text/plain": [
       "np.int64(0)"
      ]
     },
     "execution_count": 64,
     "metadata": {},
     "output_type": "execute_result"
    }
   ],
   "source": [
    "df = df[df['inches'] != '?']\n",
    "(df['inches'] == '?').sum()"
   ]
  },
  {
   "cell_type": "code",
   "execution_count": 69,
   "id": "6aa40049-bed9-4ae9-a515-67cb1936999d",
   "metadata": {},
   "outputs": [
    {
     "data": {
      "text/plain": [
       "np.int64(1)"
      ]
     },
     "execution_count": 69,
     "metadata": {},
     "output_type": "execute_result"
    }
   ],
   "source": [
    "(df['memory'] == '?').sum()"
   ]
  },
  {
   "cell_type": "code",
   "execution_count": 70,
   "id": "db2d46a6-3600-40be-ac9d-896a5a82ddc3",
   "metadata": {},
   "outputs": [
    {
     "data": {
      "text/plain": [
       "np.int64(0)"
      ]
     },
     "execution_count": 70,
     "metadata": {},
     "output_type": "execute_result"
    }
   ],
   "source": [
    "df = df[df['memory'] != '?']\n",
    "(df['memory'] == '?').sum()"
   ]
  },
  {
   "cell_type": "code",
   "execution_count": 72,
   "id": "daf964cb-6909-40d7-b6c2-da0184c98eca",
   "metadata": {},
   "outputs": [
    {
     "data": {
      "text/plain": [
       "np.int64(1)"
      ]
     },
     "execution_count": 72,
     "metadata": {},
     "output_type": "execute_result"
    }
   ],
   "source": [
    "(df['weight'] == '?').sum()"
   ]
  },
  {
   "cell_type": "code",
   "execution_count": 73,
   "id": "f017e0a4-9e0b-4fcc-b07c-ed748da1bdd4",
   "metadata": {},
   "outputs": [
    {
     "data": {
      "text/plain": [
       "np.int64(0)"
      ]
     },
     "execution_count": 73,
     "metadata": {},
     "output_type": "execute_result"
    }
   ],
   "source": [
    "df = df[df['weight'] != '?']\n",
    "(df['weight'] == '?').sum()"
   ]
  },
  {
   "cell_type": "code",
   "execution_count": null,
   "id": "5ca45d9b-41c7-499c-acdc-bf5148556061",
   "metadata": {},
   "outputs": [],
   "source": []
  }
 ],
 "metadata": {
  "kernelspec": {
   "display_name": "Python 3 (ipykernel)",
   "language": "python",
   "name": "python3"
  },
  "language_info": {
   "codemirror_mode": {
    "name": "ipython",
    "version": 3
   },
   "file_extension": ".py",
   "mimetype": "text/x-python",
   "name": "python",
   "nbconvert_exporter": "python",
   "pygments_lexer": "ipython3",
   "version": "3.13.3"
  }
 },
 "nbformat": 4,
 "nbformat_minor": 5
}
