{
 "cells": [
  {
   "cell_type": "code",
   "execution_count": 1,
   "id": "9eb1dcd7",
   "metadata": {},
   "outputs": [],
   "source": [
    "import pandas as pd\n",
    "from sklearn.model_selection import train_test_split\n",
    "from sklearn.preprocessing import OneHotEncoder, StandardScaler\n",
    "from sklearn.compose import ColumnTransformer\n",
    "from sklearn.pipeline import Pipeline\n",
    "from sklearn.linear_model import LogisticRegression\n",
    "from sklearn.ensemble import RandomForestClassifier, GradientBoostingClassifier\n",
    "from sklearn.tree import DecisionTreeClassifier\n",
    "from sklearn.svm import SVC\n",
    "from sklearn.naive_bayes import GaussianNB\n",
    "from sklearn.metrics import precision_score, recall_score, f1_score, average_precision_score, confusion_matrix\n",
    "import matplotlib.pyplot as plt\n",
    "import seaborn as sns\n",
    "try:\n",
    "    from xgboost import XGBClassifier\n",
    "except Exception:\n",
    "    XGBClassifier = None"
   ]
  },
  {
   "cell_type": "code",
   "execution_count": 2,
   "id": "5c63cb64",
   "metadata": {},
   "outputs": [],
   "source": [
    "df = pd.read_csv('ai4i2020.csv')"
   ]
  },
  {
   "cell_type": "code",
   "execution_count": 3,
   "id": "5e9fb36c",
   "metadata": {},
   "outputs": [
    {
     "data": {
      "text/html": [
       "<div>\n",
       "<style scoped>\n",
       "    .dataframe tbody tr th:only-of-type {\n",
       "        vertical-align: middle;\n",
       "    }\n",
       "\n",
       "    .dataframe tbody tr th {\n",
       "        vertical-align: top;\n",
       "    }\n",
       "\n",
       "    .dataframe thead th {\n",
       "        text-align: right;\n",
       "    }\n",
       "</style>\n",
       "<table border=\"1\" class=\"dataframe\">\n",
       "  <thead>\n",
       "    <tr style=\"text-align: right;\">\n",
       "      <th></th>\n",
       "      <th>UDI</th>\n",
       "      <th>Product ID</th>\n",
       "      <th>Type</th>\n",
       "      <th>Air temperature [K]</th>\n",
       "      <th>Process temperature [K]</th>\n",
       "      <th>Rotational speed [rpm]</th>\n",
       "      <th>Torque [Nm]</th>\n",
       "      <th>Tool wear [min]</th>\n",
       "      <th>Machine failure</th>\n",
       "      <th>TWF</th>\n",
       "      <th>HDF</th>\n",
       "      <th>PWF</th>\n",
       "      <th>OSF</th>\n",
       "      <th>RNF</th>\n",
       "    </tr>\n",
       "  </thead>\n",
       "  <tbody>\n",
       "    <tr>\n",
       "      <th>0</th>\n",
       "      <td>1</td>\n",
       "      <td>M14860</td>\n",
       "      <td>M</td>\n",
       "      <td>298.1</td>\n",
       "      <td>308.6</td>\n",
       "      <td>1551</td>\n",
       "      <td>42.8</td>\n",
       "      <td>0</td>\n",
       "      <td>0</td>\n",
       "      <td>0</td>\n",
       "      <td>0</td>\n",
       "      <td>0</td>\n",
       "      <td>0</td>\n",
       "      <td>0</td>\n",
       "    </tr>\n",
       "    <tr>\n",
       "      <th>1</th>\n",
       "      <td>2</td>\n",
       "      <td>L47181</td>\n",
       "      <td>L</td>\n",
       "      <td>298.2</td>\n",
       "      <td>308.7</td>\n",
       "      <td>1408</td>\n",
       "      <td>46.3</td>\n",
       "      <td>3</td>\n",
       "      <td>0</td>\n",
       "      <td>0</td>\n",
       "      <td>0</td>\n",
       "      <td>0</td>\n",
       "      <td>0</td>\n",
       "      <td>0</td>\n",
       "    </tr>\n",
       "    <tr>\n",
       "      <th>2</th>\n",
       "      <td>3</td>\n",
       "      <td>L47182</td>\n",
       "      <td>L</td>\n",
       "      <td>298.1</td>\n",
       "      <td>308.5</td>\n",
       "      <td>1498</td>\n",
       "      <td>49.4</td>\n",
       "      <td>5</td>\n",
       "      <td>0</td>\n",
       "      <td>0</td>\n",
       "      <td>0</td>\n",
       "      <td>0</td>\n",
       "      <td>0</td>\n",
       "      <td>0</td>\n",
       "    </tr>\n",
       "    <tr>\n",
       "      <th>3</th>\n",
       "      <td>4</td>\n",
       "      <td>L47183</td>\n",
       "      <td>L</td>\n",
       "      <td>298.2</td>\n",
       "      <td>308.6</td>\n",
       "      <td>1433</td>\n",
       "      <td>39.5</td>\n",
       "      <td>7</td>\n",
       "      <td>0</td>\n",
       "      <td>0</td>\n",
       "      <td>0</td>\n",
       "      <td>0</td>\n",
       "      <td>0</td>\n",
       "      <td>0</td>\n",
       "    </tr>\n",
       "    <tr>\n",
       "      <th>4</th>\n",
       "      <td>5</td>\n",
       "      <td>L47184</td>\n",
       "      <td>L</td>\n",
       "      <td>298.2</td>\n",
       "      <td>308.7</td>\n",
       "      <td>1408</td>\n",
       "      <td>40.0</td>\n",
       "      <td>9</td>\n",
       "      <td>0</td>\n",
       "      <td>0</td>\n",
       "      <td>0</td>\n",
       "      <td>0</td>\n",
       "      <td>0</td>\n",
       "      <td>0</td>\n",
       "    </tr>\n",
       "  </tbody>\n",
       "</table>\n",
       "</div>"
      ],
      "text/plain": [
       "   UDI Product ID Type  Air temperature [K]  Process temperature [K]  \\\n",
       "0    1     M14860    M                298.1                    308.6   \n",
       "1    2     L47181    L                298.2                    308.7   \n",
       "2    3     L47182    L                298.1                    308.5   \n",
       "3    4     L47183    L                298.2                    308.6   \n",
       "4    5     L47184    L                298.2                    308.7   \n",
       "\n",
       "   Rotational speed [rpm]  Torque [Nm]  Tool wear [min]  Machine failure  TWF  \\\n",
       "0                    1551         42.8                0                0    0   \n",
       "1                    1408         46.3                3                0    0   \n",
       "2                    1498         49.4                5                0    0   \n",
       "3                    1433         39.5                7                0    0   \n",
       "4                    1408         40.0                9                0    0   \n",
       "\n",
       "   HDF  PWF  OSF  RNF  \n",
       "0    0    0    0    0  \n",
       "1    0    0    0    0  \n",
       "2    0    0    0    0  \n",
       "3    0    0    0    0  \n",
       "4    0    0    0    0  "
      ]
     },
     "execution_count": 3,
     "metadata": {},
     "output_type": "execute_result"
    }
   ],
   "source": [
    "df.head()"
   ]
  },
  {
   "cell_type": "code",
   "execution_count": 4,
   "id": "73ca6ca7",
   "metadata": {},
   "outputs": [
    {
     "name": "stdout",
     "output_type": "stream",
     "text": [
      "<class 'pandas.core.frame.DataFrame'>\n",
      "RangeIndex: 10000 entries, 0 to 9999\n",
      "Data columns (total 14 columns):\n",
      " #   Column                   Non-Null Count  Dtype  \n",
      "---  ------                   --------------  -----  \n",
      " 0   UDI                      10000 non-null  int64  \n",
      " 1   Product ID               10000 non-null  object \n",
      " 2   Type                     10000 non-null  object \n",
      " 3   Air temperature [K]      10000 non-null  float64\n",
      " 4   Process temperature [K]  10000 non-null  float64\n",
      " 5   Rotational speed [rpm]   10000 non-null  int64  \n",
      " 6   Torque [Nm]              10000 non-null  float64\n",
      " 7   Tool wear [min]          10000 non-null  int64  \n",
      " 8   Machine failure          10000 non-null  int64  \n",
      " 9   TWF                      10000 non-null  int64  \n",
      " 10  HDF                      10000 non-null  int64  \n",
      " 11  PWF                      10000 non-null  int64  \n",
      " 12  OSF                      10000 non-null  int64  \n",
      " 13  RNF                      10000 non-null  int64  \n",
      "dtypes: float64(3), int64(9), object(2)\n",
      "memory usage: 1.1+ MB\n"
     ]
    }
   ],
   "source": [
    "df.info()"
   ]
  },
  {
   "cell_type": "code",
   "execution_count": 5,
   "id": "fc8bb772",
   "metadata": {},
   "outputs": [
    {
     "data": {
      "text/plain": [
       "UDI                        0\n",
       "Product ID                 0\n",
       "Type                       0\n",
       "Air temperature [K]        0\n",
       "Process temperature [K]    0\n",
       "Rotational speed [rpm]     0\n",
       "Torque [Nm]                0\n",
       "Tool wear [min]            0\n",
       "Machine failure            0\n",
       "TWF                        0\n",
       "HDF                        0\n",
       "PWF                        0\n",
       "OSF                        0\n",
       "RNF                        0\n",
       "dtype: int64"
      ]
     },
     "execution_count": 5,
     "metadata": {},
     "output_type": "execute_result"
    }
   ],
   "source": [
    "df.isnull().sum()"
   ]
  },
  {
   "cell_type": "code",
   "execution_count": 6,
   "id": "9b3c45e7",
   "metadata": {},
   "outputs": [
    {
     "data": {
      "text/plain": [
       "np.int64(0)"
      ]
     },
     "execution_count": 6,
     "metadata": {},
     "output_type": "execute_result"
    }
   ],
   "source": [
    "df.duplicated().sum()"
   ]
  },
  {
   "cell_type": "code",
   "execution_count": 7,
   "id": "b9689f3c",
   "metadata": {},
   "outputs": [
    {
     "name": "stdout",
     "output_type": "stream",
     "text": [
      "[0 1]\n",
      "[0 1]\n",
      "[0 1]\n",
      "[0 1]\n",
      "[0 1]\n",
      "[0 1]\n"
     ]
    }
   ],
   "source": [
    "print(df['Machine failure'].unique())\n",
    "print(df['OSF'].unique())\n",
    "print(df['TWF'].unique())\n",
    "print(df['HDF'].unique())\n",
    "print(df['PWF'].unique())\n",
    "print(df['RNF'].unique())"
   ]
  },
  {
   "cell_type": "markdown",
   "id": "af0f7308",
   "metadata": {},
   "source": [
    "## Model 1: Failure Prediction"
   ]
  },
  {
   "cell_type": "markdown",
   "id": "77ff8f80",
   "metadata": {},
   "source": [
    "### Select features and target"
   ]
  },
  {
   "cell_type": "code",
   "execution_count": 8,
   "id": "3a104d4b",
   "metadata": {},
   "outputs": [],
   "source": [
    "target_col = 'Machine failure'\n",
    "drop_cols = ['UDI', 'Product ID']\n",
    "X = df.drop(columns=drop_cols + [target_col], errors='ignore')\n",
    "y = df[target_col].astype(int)"
   ]
  },
  {
   "cell_type": "markdown",
   "id": "71ea5644",
   "metadata": {},
   "source": [
    "### Identify column types"
   ]
  },
  {
   "cell_type": "code",
   "execution_count": 9,
   "id": "b34cbf02",
   "metadata": {},
   "outputs": [],
   "source": [
    "numeric_features = X.select_dtypes(include=['int64', 'float64', 'int32', 'float32']).columns.tolist()\n",
    "categorical_features = X.select_dtypes(include=['object', 'category', 'bool']).columns.tolist()"
   ]
  },
  {
   "cell_type": "markdown",
   "id": "81aa6729",
   "metadata": {},
   "source": [
    "### Build preprocessor"
   ]
  },
  {
   "cell_type": "code",
   "execution_count": 10,
   "id": "153464c4",
   "metadata": {},
   "outputs": [],
   "source": [
    "preprocessor = ColumnTransformer([\n",
    "    ('num', StandardScaler(), numeric_features),\n",
    "    ('cat', OneHotEncoder(handle_unknown='ignore'), categorical_features)\n",
    "])"
   ]
  },
  {
   "cell_type": "markdown",
   "id": "d675ae5e",
   "metadata": {},
   "source": [
    "### Train/test split"
   ]
  },
  {
   "cell_type": "code",
   "execution_count": 11,
   "id": "7fa1ca45",
   "metadata": {},
   "outputs": [],
   "source": [
    "X_train, X_test, y_train, y_test = train_test_split(\n",
    "    X, y, test_size=0.2, random_state=42, stratify=y\n",
    ")"
   ]
  },
  {
   "cell_type": "markdown",
   "id": "6e8823ca",
   "metadata": {},
   "source": [
    "### Logistic Regression: Precision-Recall"
   ]
  },
  {
   "cell_type": "code",
   "execution_count": 12,
   "id": "f2a5bb74",
   "metadata": {},
   "outputs": [],
   "source": [
    "clf = Pipeline([('pre', preprocessor), ('model', LogisticRegression(max_iter=1000, class_weight='balanced'))])\n",
    "clf.fit(X_train, y_train)\n",
    "preds = clf.predict(X_test)\n",
    "probas = clf.predict_proba(X_test)[:, 1]"
   ]
  },
  {
   "cell_type": "code",
   "execution_count": 13,
   "id": "a104d273",
   "metadata": {},
   "outputs": [],
   "source": [
    "prec_lr = precision_score(y_test, preds)\n",
    "rec_lr = recall_score(y_test, preds)\n",
    "f1_lr = f1_score(y_test, preds)\n",
    "ap_lr = average_precision_score(y_test, probas)"
   ]
  },
  {
   "cell_type": "markdown",
   "id": "9c6d08cd",
   "metadata": {},
   "source": [
    "### Random Forest: Precision-Recall"
   ]
  },
  {
   "cell_type": "code",
   "execution_count": 14,
   "id": "fe0f87bb",
   "metadata": {},
   "outputs": [],
   "source": [
    "rf = Pipeline([('pre', preprocessor), ('model', RandomForestClassifier(n_estimators=300, random_state=42, class_weight='balanced'))])\n",
    "rf.fit(X_train, y_train)\n",
    "preds_rf = rf.predict(X_test)\n",
    "probas_rf = rf.predict_proba(X_test)[:, 1]"
   ]
  },
  {
   "cell_type": "code",
   "execution_count": 15,
   "id": "9fa94018",
   "metadata": {},
   "outputs": [],
   "source": [
    "prec_rf = precision_score(y_test, preds_rf)\n",
    "rec_rf = recall_score(y_test, preds_rf)\n",
    "f1_rf = f1_score(y_test, preds_rf)\n",
    "ap_rf = average_precision_score(y_test, probas_rf)"
   ]
  },
  {
   "cell_type": "markdown",
   "id": "5a1d8255",
   "metadata": {},
   "source": [
    "### Gradient Boosting: Precision-Recall"
   ]
  },
  {
   "cell_type": "code",
   "execution_count": 16,
   "id": "691faabe",
   "metadata": {},
   "outputs": [],
   "source": [
    "gb = Pipeline([('pre', preprocessor), ('model', GradientBoostingClassifier(random_state=42))])\n",
    "gb.fit(X_train, y_train)\n",
    "preds_gb = gb.predict(X_test)\n",
    "probas_gb = gb.predict_proba(X_test)[:, 1]"
   ]
  },
  {
   "cell_type": "code",
   "execution_count": 17,
   "id": "f9063b53",
   "metadata": {},
   "outputs": [],
   "source": [
    "prec_gb = precision_score(y_test, preds_gb)\n",
    "rec_gb = recall_score(y_test, preds_gb)\n",
    "f1_gb = f1_score(y_test, preds_gb)\n",
    "ap_gb = average_precision_score(y_test, probas_gb)"
   ]
  },
  {
   "cell_type": "markdown",
   "id": "cff03491",
   "metadata": {},
   "source": [
    "### Precision-Recall"
   ]
  },
  {
   "cell_type": "code",
   "execution_count": 18,
   "id": "e400f29c",
   "metadata": {},
   "outputs": [
    {
     "data": {
      "text/html": [
       "<div>\n",
       "<style scoped>\n",
       "    .dataframe tbody tr th:only-of-type {\n",
       "        vertical-align: middle;\n",
       "    }\n",
       "\n",
       "    .dataframe tbody tr th {\n",
       "        vertical-align: top;\n",
       "    }\n",
       "\n",
       "    .dataframe thead th {\n",
       "        text-align: right;\n",
       "    }\n",
       "</style>\n",
       "<table border=\"1\" class=\"dataframe\">\n",
       "  <thead>\n",
       "    <tr style=\"text-align: right;\">\n",
       "      <th></th>\n",
       "      <th>Model</th>\n",
       "      <th>Recall</th>\n",
       "      <th>Precision</th>\n",
       "      <th>F1</th>\n",
       "      <th>Average Precision</th>\n",
       "    </tr>\n",
       "  </thead>\n",
       "  <tbody>\n",
       "    <tr>\n",
       "      <th>0</th>\n",
       "      <td>Logistic Regression</td>\n",
       "      <td>0.9706</td>\n",
       "      <td>1.0</td>\n",
       "      <td>0.9851</td>\n",
       "      <td>0.9716</td>\n",
       "    </tr>\n",
       "    <tr>\n",
       "      <th>1</th>\n",
       "      <td>Random Forest</td>\n",
       "      <td>0.9706</td>\n",
       "      <td>1.0</td>\n",
       "      <td>0.9851</td>\n",
       "      <td>0.9796</td>\n",
       "    </tr>\n",
       "    <tr>\n",
       "      <th>2</th>\n",
       "      <td>Gradient Boosting</td>\n",
       "      <td>0.9706</td>\n",
       "      <td>1.0</td>\n",
       "      <td>0.9851</td>\n",
       "      <td>0.9746</td>\n",
       "    </tr>\n",
       "  </tbody>\n",
       "</table>\n",
       "</div>"
      ],
      "text/plain": [
       "                 Model  Recall  Precision      F1  Average Precision\n",
       "0  Logistic Regression  0.9706        1.0  0.9851             0.9716\n",
       "1        Random Forest  0.9706        1.0  0.9851             0.9796\n",
       "2    Gradient Boosting  0.9706        1.0  0.9851             0.9746"
      ]
     },
     "execution_count": 18,
     "metadata": {},
     "output_type": "execute_result"
    }
   ],
   "source": [
    "import pandas as pd\n",
    "summary = pd.DataFrame([\n",
    "    {'Model': 'Logistic Regression', 'Recall': rec_lr, 'Precision': prec_lr, 'F1': f1_lr, 'Average Precision': ap_lr},\n",
    "    {'Model': 'Random Forest', 'Recall': rec_rf, 'Precision': prec_rf, 'F1': f1_rf, 'Average Precision': ap_rf},\n",
    "    {'Model': 'Gradient Boosting', 'Recall': rec_gb, 'Precision': prec_gb, 'F1': f1_gb, 'Average Precision': ap_gb},\n",
    "])\n",
    "summary = summary.sort_values('Recall', ascending=False).round(4)\n",
    "summary"
   ]
  },
  {
   "cell_type": "markdown",
   "id": "f59e6937",
   "metadata": {},
   "source": [
    "## Model 2: Failure Type Classification"
   ]
  },
  {
   "cell_type": "markdown",
   "id": "0824a13c",
   "metadata": {},
   "source": [
    "### Select features and target"
   ]
  },
  {
   "cell_type": "code",
   "execution_count": 19,
   "id": "4350ad68",
   "metadata": {},
   "outputs": [],
   "source": [
    "failure_cols = ['TWF','HDF','PWF','OSF','RNF']\n",
    "df_fail = df[df['Machine failure'] == 1].copy()\n",
    "df_fail['failure_type'] = df_fail[failure_cols].idxmax(axis=1).replace({'TWF':'Tool Wear Failure','HDF':'Heat Dissipation Failure','PWF':'Power Failure','OSF':'Overstrain Failure','RNF':'Random Failure'})\n",
    "X2 = df_fail.drop(columns=['failure_type','UDI','Product ID'] + failure_cols + ['Machine failure'], errors='ignore')\n",
    "y2 = df_fail['failure_type']"
   ]
  },
  {
   "cell_type": "markdown",
   "id": "f7515ed5",
   "metadata": {},
   "source": [
    "### Identify column types"
   ]
  },
  {
   "cell_type": "code",
   "execution_count": 20,
   "id": "d0e1981d",
   "metadata": {},
   "outputs": [],
   "source": [
    "num2 = X2.select_dtypes(include=['int64','float64','int32','float32']).columns.tolist()\n",
    "cat2 = X2.select_dtypes(include=['object','category','bool']).columns.tolist()"
   ]
  },
  {
   "cell_type": "markdown",
   "id": "df662974",
   "metadata": {},
   "source": [
    "### Build preprocessor"
   ]
  },
  {
   "cell_type": "code",
   "execution_count": 21,
   "id": "e594f6e5",
   "metadata": {},
   "outputs": [],
   "source": [
    "pre2 = ColumnTransformer([\n",
    "    ('num', StandardScaler(), num2),\n",
    "    ('cat', OneHotEncoder(handle_unknown='ignore', sparse_output=False), cat2)\n",
    "])"
   ]
  },
  {
   "cell_type": "markdown",
   "id": "943f2ab0",
   "metadata": {},
   "source": [
    "### Train/test split"
   ]
  },
  {
   "cell_type": "code",
   "execution_count": 22,
   "id": "374fae13",
   "metadata": {},
   "outputs": [],
   "source": [
    "X2_train, X2_test, y2_train, y2_test = train_test_split(\n",
    "    X2, y2, test_size=0.2, random_state=42, stratify=y2\n",
    ")"
   ]
  },
  {
   "cell_type": "markdown",
   "id": "bc2c41a9",
   "metadata": {},
   "source": [
    "### Decision Tree"
   ]
  },
  {
   "cell_type": "code",
   "execution_count": 23,
   "id": "1d34825c",
   "metadata": {},
   "outputs": [],
   "source": [
    "dt = Pipeline([('pre', pre2), ('model', DecisionTreeClassifier(random_state=42))])\n",
    "dt.fit(X2_train, y2_train)\n",
    "preds_dt = dt.predict(X2_test)"
   ]
  },
  {
   "cell_type": "markdown",
   "id": "f780606b",
   "metadata": {},
   "source": [
    "### SVM"
   ]
  },
  {
   "cell_type": "code",
   "execution_count": 24,
   "id": "3ec40461",
   "metadata": {},
   "outputs": [],
   "source": [
    "svm = Pipeline([('pre', pre2), ('model', SVC(kernel='rbf', probability=True, random_state=42))])\n",
    "svm.fit(X2_train, y2_train)\n",
    "preds_svm = svm.predict(X2_test)"
   ]
  },
  {
   "cell_type": "markdown",
   "id": "e22ca08d",
   "metadata": {},
   "source": [
    "### Naive Bayes"
   ]
  },
  {
   "cell_type": "code",
   "execution_count": 25,
   "id": "3d2bdeff",
   "metadata": {},
   "outputs": [],
   "source": [
    "nb = Pipeline([('pre', pre2), ('model', GaussianNB())])\n",
    "nb.fit(X2_train, y2_train)\n",
    "preds_nb = nb.predict(X2_test)"
   ]
  },
  {
   "cell_type": "markdown",
   "id": "3af098ed",
   "metadata": {},
   "source": [
    "### XGBoost"
   ]
  },
  {
   "cell_type": "code",
   "execution_count": 26,
   "id": "8a71c525",
   "metadata": {},
   "outputs": [],
   "source": [
    "classes = sorted(y2.unique())\n",
    "label_to_idx = {lbl: i for i, lbl in enumerate(classes)}\n",
    "classes_map = {i: lbl for i, lbl in enumerate(classes)}\n",
    "\n",
    "y2_train_enc = y2_train.map(label_to_idx).astype(int)\n",
    "y2_test_enc = y2_test.map(label_to_idx).astype(int)\n",
    "\n",
    "xgb = Pipeline([('pre', pre2), ('model', XGBClassifier(objective='multi:softprob', num_class=len(classes), random_state=42, eval_metric='mlogloss'))])\n",
    "xgb.fit(X2_train, y2_train_enc)\n",
    "preds_xgb = xgb.predict(X2_test)\n",
    "preds_xgb_labels = pd.Series(preds_xgb).map(classes_map)"
   ]
  },
  {
   "cell_type": "markdown",
   "id": "d1292adb",
   "metadata": {},
   "source": [
    "### Summary (Failure Type)"
   ]
  },
  {
   "cell_type": "code",
   "execution_count": 27,
   "id": "b9b27795",
   "metadata": {},
   "outputs": [
    {
     "data": {
      "text/html": [
       "<div>\n",
       "<style scoped>\n",
       "    .dataframe tbody tr th:only-of-type {\n",
       "        vertical-align: middle;\n",
       "    }\n",
       "\n",
       "    .dataframe tbody tr th {\n",
       "        vertical-align: top;\n",
       "    }\n",
       "\n",
       "    .dataframe thead th {\n",
       "        text-align: right;\n",
       "    }\n",
       "</style>\n",
       "<table border=\"1\" class=\"dataframe\">\n",
       "  <thead>\n",
       "    <tr style=\"text-align: right;\">\n",
       "      <th></th>\n",
       "      <th>Model</th>\n",
       "      <th>F1 (Heat Dissipation Failure)</th>\n",
       "      <th>F1 (Overstrain Failure)</th>\n",
       "      <th>F1 (Power Failure)</th>\n",
       "      <th>F1 (Tool Wear Failure)</th>\n",
       "    </tr>\n",
       "  </thead>\n",
       "  <tbody>\n",
       "    <tr>\n",
       "      <th>0</th>\n",
       "      <td>Decision Tree</td>\n",
       "      <td>0.901961</td>\n",
       "      <td>0.785714</td>\n",
       "      <td>0.914286</td>\n",
       "      <td>0.818182</td>\n",
       "    </tr>\n",
       "    <tr>\n",
       "      <th>1</th>\n",
       "      <td>SVM</td>\n",
       "      <td>0.867925</td>\n",
       "      <td>0.764706</td>\n",
       "      <td>0.800000</td>\n",
       "      <td>0.842105</td>\n",
       "    </tr>\n",
       "    <tr>\n",
       "      <th>2</th>\n",
       "      <td>Naive Bayes</td>\n",
       "      <td>0.823529</td>\n",
       "      <td>0.742857</td>\n",
       "      <td>0.733333</td>\n",
       "      <td>0.700000</td>\n",
       "    </tr>\n",
       "    <tr>\n",
       "      <th>3</th>\n",
       "      <td>XGBoost</td>\n",
       "      <td>0.901961</td>\n",
       "      <td>0.714286</td>\n",
       "      <td>0.944444</td>\n",
       "      <td>0.857143</td>\n",
       "    </tr>\n",
       "  </tbody>\n",
       "</table>\n",
       "</div>"
      ],
      "text/plain": [
       "           Model  F1 (Heat Dissipation Failure)  F1 (Overstrain Failure)  \\\n",
       "0  Decision Tree                       0.901961                 0.785714   \n",
       "1            SVM                       0.867925                 0.764706   \n",
       "2    Naive Bayes                       0.823529                 0.742857   \n",
       "3        XGBoost                       0.901961                 0.714286   \n",
       "\n",
       "   F1 (Power Failure)  F1 (Tool Wear Failure)  \n",
       "0            0.914286                0.818182  \n",
       "1            0.800000                0.842105  \n",
       "2            0.733333                0.700000  \n",
       "3            0.944444                0.857143  "
      ]
     },
     "execution_count": 27,
     "metadata": {},
     "output_type": "execute_result"
    }
   ],
   "source": [
    "import numpy as np\n",
    "labels_order = classes\n",
    "\n",
    "cm_dt = confusion_matrix(y2_test, preds_dt, labels=labels_order)\n",
    "f1_dt = f1_score(y2_test, preds_dt, labels=labels_order, average=None, zero_division=0)\n",
    "\n",
    "cm_svm = confusion_matrix(y2_test, preds_svm, labels=labels_order)\n",
    "f1_svm = f1_score(y2_test, preds_svm, labels=labels_order, average=None, zero_division=0)\n",
    "\n",
    "cm_nb = confusion_matrix(y2_test, preds_nb, labels=labels_order)\n",
    "f1_nb = f1_score(y2_test, preds_nb, labels=labels_order, average=None, zero_division=0)\n",
    "\n",
    "preds_xgb_eval = preds_xgb_labels.values\n",
    "cm_xgb = confusion_matrix(y2_test, preds_xgb_eval, labels=labels_order)\n",
    "f1_xgb = f1_score(y2_test, preds_xgb_eval, labels=labels_order, average=None, zero_division=0)\n",
    "\n",
    "summary2 = pd.DataFrame({\n",
    "    'Model': ['Decision Tree', 'SVM', 'Naive Bayes', 'XGBoost'],\n",
    "    **{f'F1 ({lbl})': [f1_dt[i], f1_svm[i], f1_nb[i], f1_xgb[i]] for i, lbl in enumerate(labels_order)}\n",
    "})\n",
    "summary2"
   ]
  },
  {
   "cell_type": "markdown",
   "id": "de7e60bd",
   "metadata": {},
   "source": [
    "### Confusion Matrices (Failure Type)"
   ]
  },
  {
   "cell_type": "code",
   "execution_count": 28,
   "id": "d0a1742d",
   "metadata": {},
   "outputs": [
    {
     "data": {
      "image/png": "[encoded data removed]",
      "text/plain": [
       "<Figure size 600x500 with 1 Axes>"
      ]
     },
     "metadata": {},
     "output_type": "display_data"
    },
    {
     "data": {
      "image/png": "[encoded data removed]",
      "text/plain": [
       "<Figure size 600x500 with 1 Axes>"
      ]
     },
     "metadata": {},
     "output_type": "display_data"
    },
    {
     "data": {
      "image/png": "[encoded data removed]",
      "text/plain": [
       "<Figure size 600x500 with 1 Axes>"
      ]
     },
     "metadata": {},
     "output_type": "display_data"
    },
    {
     "data": {
      "image/png": "[encoded data removed]",
      "text/plain": [
       "<Figure size 600x500 with 1 Axes>"
      ]
     },
     "metadata": {},
     "output_type": "display_data"
    }
   ],
   "source": [
    "cms = {\n",
    "    'Decision Tree': cm_dt,\n",
    "    'SVM': cm_svm,\n",
    "    'Naive Bayes': cm_nb,\n",
    "    'XGBoost': cm_xgb,\n",
    "}\n",
    "\n",
    "for name, cm in cms.items():\n",
    "    plt.figure(figsize=(6, 5))\n",
    "    sns.heatmap(cm, annot=True, fmt='d', cmap='Blues', cbar=False,\n",
    "                xticklabels=labels_order, yticklabels=labels_order)\n",
    "    plt.title(name)\n",
    "    plt.xlabel('Predicted')\n",
    "    plt.ylabel('Actual')\n",
    "    plt.tight_layout()\n",
    "    plt.show()"
   ]
  }
 ],
 "metadata": {
  "kernelspec": {
   "display_name": "Python 3",
   "language": "python",
   "name": "python3"
  },
  "language_info": {
   "codemirror_mode": {
    "name": "ipython",
    "version": 3
   },
   "file_extension": ".py",
   "mimetype": "text/x-python",
   "name": "python",
   "nbconvert_exporter": "python",
   "pygments_lexer": "ipython3",
   "version": "3.13.3"
  }
 },
 "nbformat": 4,
 "nbformat_minor": 5
}
