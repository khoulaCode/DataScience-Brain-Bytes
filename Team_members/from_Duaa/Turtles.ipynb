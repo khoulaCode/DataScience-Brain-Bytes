{
 "cells": [
  {
   "cell_type": "code",
   "execution_count": 67,
   "id": "8bb4f84c-6970-44a5-b0f9-ac89eb56ccc0",
   "metadata": {},
   "outputs": [],
   "source": [
    "import requests\n",
    "from bs4 import BeautifulSoup"
   ]
  },
  {
   "cell_type": "markdown",
   "id": "f36b15de-77a1-474b-86fd-e64ae74b3151",
   "metadata": {},
   "source": [
    "# Fetch the Wikipedia page"
   ]
  },
  {
   "cell_type": "code",
   "execution_count": 68,
   "id": "a412e02e-856c-4ad3-be24-716c23772bc2",
   "metadata": {},
   "outputs": [],
   "source": [
    "url = \"https://en.wikipedia.org/wiki/List_of_Testudines_families\"\n",
    "headers = {\"User-Agent\": \"Mozilla/5.0\"}\n",
    "res = requests.get(url, headers=headers)\n",
    "res.raise_for_status()"
   ]
  },
  {
   "cell_type": "markdown",
   "id": "e503590e-088c-407a-a85e-004602d45788",
   "metadata": {},
   "source": [
    "# Parse the HTML and locate the first wikitable"
   ]
  },
  {
   "cell_type": "code",
   "execution_count": 69,
   "id": "92315d6a-d51d-4406-b61b-c527c64f63da",
   "metadata": {},
   "outputs": [],
   "source": [
    "soup = BeautifulSoup(res.text, \"html.parser\")\n",
    "table = soup.find(\"table\", class_=\"wikitable\") "
   ]
  },
  {
   "cell_type": "markdown",
   "id": "e5d0a011-d1de-4638-bae3-5d0561790223",
   "metadata": {},
   "source": [
    "# Iterate over each row "
   ]
  },
  {
   "cell_type": "code",
   "execution_count": 70,
   "id": "0b04031f-5cc5-4106-8dd9-9ecec64c7444",
   "metadata": {},
   "outputs": [],
   "source": [
    "families = []\n",
    "for row in table.find_all(\"tr\")[1:]:\n",
    "    cols = row.find_all([\"th\", \"td\"])\n",
    "    if len(cols) < 3:\n",
    "        continue\n",
    "    latin_name   = cols[0].get_text(strip=True)\n",
    "    genera_count = cols[1].get_text(strip=True)\n",
    "    common_names = cols[2].get_text(strip=True)\n",
    "    families.append((latin_name, genera_count, common_names))"
   ]
  },
  {
   "cell_type": "markdown",
   "id": "e3308252-79a0-466d-8b21-5cbdf0a5d5e4",
   "metadata": {},
   "source": [
    "# Print results"
   ]
  },
  {
   "cell_type": "code",
   "execution_count": 71,
   "id": "cc1476ff-c741-4b15-bb1d-0461275cb740",
   "metadata": {},
   "outputs": [
    {
     "name": "stdout",
     "output_type": "stream",
     "text": [
      "Family[7]  —  Genera: Genera[8]; Common name(s): Common name(s)\n",
      "CarettochelyidaeBoulenger, 1887  —  Genera: 1; Common name(s): Pig-nosed turtle\n",
      "CheloniidaeOppel, 1811  —  Genera: 6; Common name(s): Sea turtles\n",
      "ChelydridaeGray, 1831  —  Genera: 2; Common name(s): Snapping turtles\n",
      "DermatemydidaeGray, 1870  —  Genera: 1; Common name(s): Central American river turtle\n",
      "DermochelyidaeFitzinger, 1843  —  Genera: 1; Common name(s): Leatherback sea turtle\n",
      "EmydidaeRafinesque, 1815  —  Genera: 12; Common name(s): Pond turtles, terrapins, and sliders\n",
      "GeoemydidaeTheobald, 1868  —  Genera: 24; Common name(s): Asian leaf turtles, roofed turtles, and Asian box turtles\n",
      "KinosternidaeAgassiz, 1857  —  Genera: 4; Common name(s): Mud and musk turtles\n",
      "PlatysternidaeGray, 1869  —  Genera: 1; Common name(s): Big-headed turtle\n",
      "TestudinidaeBatsch, 1788  —  Genera: 12; Common name(s): Tortoises\n",
      "TrionychidaeFitzinger, 1826  —  Genera: 14; Common name(s): Softshell turtles\n",
      "Family  —  Genera: Genera; Common name(s): Common names\n",
      "ChelidaeGray, 1831  —  Genera: 15; Common name(s): Austro-American sideneck turtles\n",
      "PelomedusidaeCope, 1868  —  Genera: 2; Common name(s): Afro-American sideneck turtles\n",
      "PodocnemididaeGray, 1869  —  Genera: 3; Common name(s): Madagascar big-headed, big-headed Amazon River turtle and South American sideneck river turtles\n"
     ]
    }
   ],
   "source": [
    "for latin, genera, common in families:\n",
    "    print(f\"{latin}  —  Genera: {genera}; Common name(s): {common}\")"
   ]
  }
 ],
 "metadata": {
  "kernelspec": {
   "display_name": "Python [conda env:base] *",
   "language": "python",
   "name": "conda-base-py"
  },
  "language_info": {
   "codemirror_mode": {
    "name": "ipython",
    "version": 3
   },
   "file_extension": ".py",
   "mimetype": "text/x-python",
   "name": "python",
   "nbconvert_exporter": "python",
   "pygments_lexer": "ipython3",
   "version": "3.13.5"
  }
 },
 "nbformat": 4,
 "nbformat_minor": 5
}
