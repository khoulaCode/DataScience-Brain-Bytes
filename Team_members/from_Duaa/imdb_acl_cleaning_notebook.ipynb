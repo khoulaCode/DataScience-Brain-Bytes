{
 "cells": [
  {
   "cell_type": "markdown",
   "id": "ff75b8ab",
   "metadata": {},
   "source": [
    "\n",
    "# IMDb ACL (aclImdb) — Cleaning & Preprocessing Pipeline\n",
    "\n",
    "This notebook works with the **IMDb Large Movie Review Dataset (aclImdb)** organized as:\n",
    "\n",
    "```\n",
    "aclImdb/\n",
    "  train/\n",
    "    pos/*.txt\n",
    "    neg/*.txt\n",
    "  test/\n",
    "    pos/*.txt\n",
    "    neg/*.txt\n",
    "```\n",
    "\n",
    "It loads reviews, applies a cleaning pipeline, and saves a CSV with `review`, `cleaned_review`, and `sentiment`.\n"
   ]
  },
  {
   "cell_type": "markdown",
   "id": "ed535d2f",
   "metadata": {},
   "source": [
    "## 1) Setup"
   ]
  },
  {
   "cell_type": "code",
   "execution_count": 1,
   "id": "ac347bf3",
   "metadata": {},
   "outputs": [
    {
     "name": "stderr",
     "output_type": "stream",
     "text": [
      "[nltk_data] Downloading package punkt to\n",
      "[nltk_data]     C:\\Users\\DuaaHilal\\AppData\\Roaming\\nltk_data...\n",
      "[nltk_data]   Package punkt is already up-to-date!\n",
      "[nltk_data] Downloading package stopwords to\n",
      "[nltk_data]     C:\\Users\\DuaaHilal\\AppData\\Roaming\\nltk_data...\n",
      "[nltk_data]   Package stopwords is already up-to-date!\n",
      "[nltk_data] Downloading package wordnet to\n",
      "[nltk_data]     C:\\Users\\DuaaHilal\\AppData\\Roaming\\nltk_data...\n",
      "[nltk_data]   Package wordnet is already up-to-date!\n",
      "[nltk_data] Downloading package omw-1.4 to\n",
      "[nltk_data]     C:\\Users\\DuaaHilal\\AppData\\Roaming\\nltk_data...\n",
      "[nltk_data]   Package omw-1.4 is already up-to-date!\n"
     ]
    }
   ],
   "source": [
    "\n",
    "import os, re, glob\n",
    "import pandas as pd\n",
    "from tqdm import tqdm\n",
    "\n",
    "import nltk\n",
    "from nltk.corpus import stopwords\n",
    "from nltk.stem import WordNetLemmatizer\n",
    "from nltk.tokenize import word_tokenize\n",
    "\n",
    "# Download NLTK resources\n",
    "nltk.download('punkt')\n",
    "nltk.download('stopwords')\n",
    "nltk.download('wordnet')\n",
    "nltk.download('omw-1.4')\n",
    "\n",
    "STOPWORDS = set(stopwords.words(\"english\"))\n",
    "LEMMATIZER = WordNetLemmatizer()\n"
   ]
  },
  {
   "cell_type": "markdown",
   "id": "b7b0347e",
   "metadata": {},
   "source": [
    "## 2) Config"
   ]
  },
  {
   "cell_type": "code",
   "execution_count": 2,
   "id": "7fc9a884",
   "metadata": {},
   "outputs": [],
   "source": [
    "IMDB_ROOT = r\"aclImdb\"\n",
    "SPLIT = \"both\"\n",
    "SAMPLE_PER_SPLIT = None  \n",
    "OUTPUT_PATH = \"imdb_acl_cleaned.csv\""
   ]
  },
  {
   "cell_type": "markdown",
   "id": "803e4649",
   "metadata": {},
   "source": [
    "## 3) Load Dataset"
   ]
  },
  {
   "cell_type": "code",
   "execution_count": 3,
   "id": "493666cb",
   "metadata": {},
   "outputs": [],
   "source": [
    "\n",
    "def load_acl_imdb(root_dir, split=\"train\", sample_per_split=None):\n",
    "    splits = [\"train\", \"test\"] if split == \"both\" else [split]\n",
    "    rows = []\n",
    "\n",
    "    for sp in splits:\n",
    "        for label in [\"pos\", \"neg\"]:\n",
    "            folder = os.path.join(root_dir, sp, label)\n",
    "            if not os.path.exists(folder):\n",
    "                raise FileNotFoundError(f\"Folder not found: {folder}\")\n",
    "            for path in glob.glob(os.path.join(folder, \"*.txt\")):\n",
    "                with open(path, \"r\", encoding=\"utf-8\", errors=\"ignore\") as f:\n",
    "                    text = f.read()\n",
    "                rows.append({\n",
    "                    \"review\": text,\n",
    "                    \"sentiment\": \"positive\" if label == \"pos\" else \"negative\",\n",
    "                    \"split\": sp\n",
    "                })\n",
    "\n",
    "    df = pd.DataFrame(rows)\n",
    "\n",
    "    if sample_per_split:\n",
    "        dfs = []\n",
    "        for sp in df[\"split\"].unique():\n",
    "            sub = df[df[\"split\"] == sp]\n",
    "            if len(sub) > sample_per_split:\n",
    "                sub = sub.sample(sample_per_split, random_state=42)\n",
    "            dfs.append(sub)\n",
    "        df = pd.concat(dfs, ignore_index=True)\n",
    "    return df\n"
   ]
  },
  {
   "cell_type": "markdown",
   "id": "ae74795a",
   "metadata": {},
   "source": [
    "## 4) Cleaning Function"
   ]
  },
  {
   "cell_type": "code",
   "execution_count": 4,
   "id": "d32a981a",
   "metadata": {},
   "outputs": [
    {
     "name": "stdout",
     "output_type": "stream",
     "text": [
      "loved movie email\n"
     ]
    }
   ],
   "source": [
    "\n",
    "HTML_TAG_RE = re.compile(r\"<[^>]+>\")\n",
    "URL_RE = re.compile(r\"https?://\\S+|www\\.\\S+\")\n",
    "EMAIL_RE = re.compile(r\"\\b[\\w\\.-]+@[\\w\\.-]+\\.\\w+\\b\")\n",
    "NON_ALPHA_RE = re.compile(r\"[^A-Za-z\\s]\")\n",
    "MULTISPACE_RE = re.compile(r\"\\s+\")\n",
    "\n",
    "def clean_review(text: str) -> str:\n",
    "    if not isinstance(text, str):\n",
    "        return \"\"\n",
    "    x = text.lower()\n",
    "    x = HTML_TAG_RE.sub(\" \", x)\n",
    "    x = URL_RE.sub(\" \", x)\n",
    "    x = EMAIL_RE.sub(\" \", x)\n",
    "    x = NON_ALPHA_RE.sub(\" \", x)\n",
    "    tokens = word_tokenize(x)\n",
    "    tokens = [t for t in tokens if t not in STOPWORDS and len(t) > 2]\n",
    "    tokens = [LEMMATIZER.lemmatize(t) for t in tokens]\n",
    "    cleaned = \" \".join(tokens)\n",
    "    return MULTISPACE_RE.sub(\" \", cleaned).strip()\n",
    "\n",
    "# Demo\n",
    "print(clean_review(\"I LOVED this movie!! <br /> Email me at a@b.com 🤩\"))\n"
   ]
  },
  {
   "cell_type": "markdown",
   "id": "aeea9b62",
   "metadata": {},
   "source": [
    "## 5) Run Pipeline"
   ]
  },
  {
   "cell_type": "code",
   "execution_count": 6,
   "id": "ae3228b9",
   "metadata": {},
   "outputs": [
    {
     "name": "stdout",
     "output_type": "stream",
     "text": [
      "Rows loaded: 50000\n"
     ]
    },
    {
     "name": "stderr",
     "output_type": "stream",
     "text": [
      "100%|██████████| 50000/50000 [03:23<00:00, 245.47it/s]\n"
     ]
    },
    {
     "name": "stdout",
     "output_type": "stream",
     "text": [
      "✅ Saved cleaned dataset to: imdb_acl_cleaned.csv\n"
     ]
    },
    {
     "data": {
      "text/html": [
       "<div>\n",
       "<style scoped>\n",
       "    .dataframe tbody tr th:only-of-type {\n",
       "        vertical-align: middle;\n",
       "    }\n",
       "\n",
       "    .dataframe tbody tr th {\n",
       "        vertical-align: top;\n",
       "    }\n",
       "\n",
       "    .dataframe thead th {\n",
       "        text-align: right;\n",
       "    }\n",
       "</style>\n",
       "<table border=\"1\" class=\"dataframe\">\n",
       "  <thead>\n",
       "    <tr style=\"text-align: right;\">\n",
       "      <th></th>\n",
       "      <th>review</th>\n",
       "      <th>cleaned_review</th>\n",
       "      <th>sentiment</th>\n",
       "    </tr>\n",
       "  </thead>\n",
       "  <tbody>\n",
       "    <tr>\n",
       "      <th>0</th>\n",
       "      <td>Bromwell High is a cartoon comedy. It ran at t...</td>\n",
       "      <td>bromwell high cartoon comedy ran time program ...</td>\n",
       "      <td>positive</td>\n",
       "    </tr>\n",
       "    <tr>\n",
       "      <th>1</th>\n",
       "      <td>Homelessness (or Houselessness as George Carli...</td>\n",
       "      <td>homelessness houselessness george carlin state...</td>\n",
       "      <td>positive</td>\n",
       "    </tr>\n",
       "    <tr>\n",
       "      <th>2</th>\n",
       "      <td>Brilliant over-acting by Lesley Ann Warren. Be...</td>\n",
       "      <td>brilliant acting lesley ann warren best dramat...</td>\n",
       "      <td>positive</td>\n",
       "    </tr>\n",
       "    <tr>\n",
       "      <th>3</th>\n",
       "      <td>This is easily the most underrated film inn th...</td>\n",
       "      <td>easily underrated film inn brook cannon sure f...</td>\n",
       "      <td>positive</td>\n",
       "    </tr>\n",
       "    <tr>\n",
       "      <th>4</th>\n",
       "      <td>This is not the typical Mel Brooks film. It wa...</td>\n",
       "      <td>typical mel brook film much less slapstick mov...</td>\n",
       "      <td>positive</td>\n",
       "    </tr>\n",
       "  </tbody>\n",
       "</table>\n",
       "</div>"
      ],
      "text/plain": [
       "                                              review  \\\n",
       "0  Bromwell High is a cartoon comedy. It ran at t...   \n",
       "1  Homelessness (or Houselessness as George Carli...   \n",
       "2  Brilliant over-acting by Lesley Ann Warren. Be...   \n",
       "3  This is easily the most underrated film inn th...   \n",
       "4  This is not the typical Mel Brooks film. It wa...   \n",
       "\n",
       "                                      cleaned_review sentiment  \n",
       "0  bromwell high cartoon comedy ran time program ...  positive  \n",
       "1  homelessness houselessness george carlin state...  positive  \n",
       "2  brilliant acting lesley ann warren best dramat...  positive  \n",
       "3  easily underrated film inn brook cannon sure f...  positive  \n",
       "4  typical mel brook film much less slapstick mov...  positive  "
      ]
     },
     "execution_count": 6,
     "metadata": {},
     "output_type": "execute_result"
    }
   ],
   "source": [
    "\n",
    "df = load_acl_imdb(IMDB_ROOT, split=SPLIT, sample_per_split=SAMPLE_PER_SPLIT)\n",
    "print(\"Rows loaded:\", len(df))\n",
    "\n",
    "tqdm.pandas()\n",
    "df[\"cleaned_review\"] = df[\"review\"].progress_apply(clean_review)\n",
    "\n",
    "out = df[[\"review\", \"cleaned_review\", \"sentiment\"]]\n",
    "out.to_csv(OUTPUT_PATH, index=False)\n",
    "\n",
    "print(f\"✅ Saved cleaned dataset to: {OUTPUT_PATH}\")\n",
    "out.head()\n"
   ]
  },
  {
   "cell_type": "markdown",
   "id": "e7b63de5",
   "metadata": {},
   "source": [
    "## 6) Before/After Examples"
   ]
  },
  {
   "cell_type": "code",
   "execution_count": 7,
   "id": "7ab8ec6c",
   "metadata": {},
   "outputs": [
    {
     "data": {
      "text/html": [
       "<div>\n",
       "<style scoped>\n",
       "    .dataframe tbody tr th:only-of-type {\n",
       "        vertical-align: middle;\n",
       "    }\n",
       "\n",
       "    .dataframe tbody tr th {\n",
       "        vertical-align: top;\n",
       "    }\n",
       "\n",
       "    .dataframe thead th {\n",
       "        text-align: right;\n",
       "    }\n",
       "</style>\n",
       "<table border=\"1\" class=\"dataframe\">\n",
       "  <thead>\n",
       "    <tr style=\"text-align: right;\">\n",
       "      <th></th>\n",
       "      <th>review</th>\n",
       "      <th>cleaned_review</th>\n",
       "      <th>sentiment</th>\n",
       "    </tr>\n",
       "  </thead>\n",
       "  <tbody>\n",
       "    <tr>\n",
       "      <th>33553</th>\n",
       "      <td>When I first saw the ad for this, I was like '...</td>\n",
       "      <td>first saw like done high school musical coast ...</td>\n",
       "      <td>positive</td>\n",
       "    </tr>\n",
       "    <tr>\n",
       "      <th>9427</th>\n",
       "      <td>\"A Girl's Folly\" is a sort of half-comedy, hal...</td>\n",
       "      <td>girl folly sort half comedy half mockumentary ...</td>\n",
       "      <td>positive</td>\n",
       "    </tr>\n",
       "    <tr>\n",
       "      <th>199</th>\n",
       "      <td>I started watching the show from the first sea...</td>\n",
       "      <td>started watching show first season beginning p...</td>\n",
       "      <td>positive</td>\n",
       "    </tr>\n",
       "    <tr>\n",
       "      <th>12447</th>\n",
       "      <td>This is a more interesting than usual porn mov...</td>\n",
       "      <td>interesting usual porn movie fantasy adventure...</td>\n",
       "      <td>positive</td>\n",
       "    </tr>\n",
       "    <tr>\n",
       "      <th>39489</th>\n",
       "      <td>I suppose for 1961 this film was supposed to b...</td>\n",
       "      <td>suppose film supposed cool looking back year c...</td>\n",
       "      <td>negative</td>\n",
       "    </tr>\n",
       "  </tbody>\n",
       "</table>\n",
       "</div>"
      ],
      "text/plain": [
       "                                                  review  \\\n",
       "33553  When I first saw the ad for this, I was like '...   \n",
       "9427   \"A Girl's Folly\" is a sort of half-comedy, hal...   \n",
       "199    I started watching the show from the first sea...   \n",
       "12447  This is a more interesting than usual porn mov...   \n",
       "39489  I suppose for 1961 this film was supposed to b...   \n",
       "\n",
       "                                          cleaned_review sentiment  \n",
       "33553  first saw like done high school musical coast ...  positive  \n",
       "9427   girl folly sort half comedy half mockumentary ...  positive  \n",
       "199    started watching show first season beginning p...  positive  \n",
       "12447  interesting usual porn movie fantasy adventure...  positive  \n",
       "39489  suppose film supposed cool looking back year c...  negative  "
      ]
     },
     "execution_count": 7,
     "metadata": {},
     "output_type": "execute_result"
    }
   ],
   "source": [
    "\n",
    "examples = out.sample(5, random_state=42)\n",
    "examples\n"
   ]
  }
 ],
 "metadata": {
  "kernelspec": {
   "display_name": "Python [conda env:base] *",
   "language": "python",
   "name": "conda-base-py"
  },
  "language_info": {
   "codemirror_mode": {
    "name": "ipython",
    "version": 3
   },
   "file_extension": ".py",
   "mimetype": "text/x-python",
   "name": "python",
   "nbconvert_exporter": "python",
   "pygments_lexer": "ipython3",
   "version": "3.13.5"
  }
 },
 "nbformat": 4,
 "nbformat_minor": 5
}
