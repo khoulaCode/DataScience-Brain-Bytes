{
  "cells": [
    {
      "cell_type": "markdown",
      "id": "3c85e2fb",
      "metadata": {
        "id": "3c85e2fb"
      },
      "source": [
        "# Character-Level RNN vs LSTM — Next-Character Prediction"
      ]
    },
    {
      "cell_type": "code",
      "execution_count": 1,
      "id": "44cf040d",
      "metadata": {
        "colab": {
          "base_uri": "https://localhost:8080/"
        },
        "id": "44cf040d",
        "outputId": "b85ddc84-18cc-4be1-a3a7-7c097c8cebef"
      },
      "outputs": [
        {
          "output_type": "stream",
          "name": "stdout",
          "text": [
            "Python: 3.12.12\n",
            "TensorFlow: 2.19.0\n",
            "Platform: Linux-6.6.105+-x86_64-with-glibc2.35\n",
            "GPU available: []\n"
          ]
        }
      ],
      "source": [
        "# Optional: quick check of versions\n",
        "import sys, platform\n",
        "try:\n",
        "    import tensorflow as tf\n",
        "except ImportError:\n",
        "    raise SystemExit(\"TensorFlow not installed. Please run: pip install tensorflow\")\n",
        "\n",
        "print(\"Python:\", sys.version.split()[0])\n",
        "print(\"TensorFlow:\", tf.__version__)\n",
        "print(\"Platform:\", platform.platform())\n",
        "print(\"GPU available:\", tf.config.list_physical_devices('GPU'))\n"
      ]
    },
    {
      "cell_type": "markdown",
      "id": "7a21a89a",
      "metadata": {
        "id": "7a21a89a"
      },
      "source": [
        "---\n",
        "## 1) Data Ingestion\n",
        "\n",
        "Choose **one** option:\n",
        "- **Option A (Recommended):** Point `TEXT_PATH` to a local `.txt` file.\n",
        "- **Option B (Optional):** Use Kaggle CLI to download a dataset that contains `.txt` files, then set `TEXT_PATH`.\n",
        "\n",
        "> Tip: Start with a small text file (a few MB) to train quickly on CPU.\n"
      ]
    },
    {
      "cell_type": "code",
      "execution_count": 1,
      "id": "e19dd21a",
      "metadata": {
        "colab": {
          "base_uri": "https://localhost:8080/",
          "height": 128
        },
        "id": "e19dd21a",
        "outputId": "1aa2759a-6f6c-4c89-d190-3ca389f81f80"
      },
      "outputs": [
        {
          "output_type": "display_data",
          "data": {
            "text/plain": [
              "<IPython.core.display.HTML object>"
            ],
            "text/html": [
              "\n",
              "     <input type=\"file\" id=\"files-4bff47a3-cfd1-47c3-a9b9-724b6f5b67cf\" name=\"files[]\" multiple disabled\n",
              "        style=\"border:none\" />\n",
              "     <output id=\"result-4bff47a3-cfd1-47c3-a9b9-724b6f5b67cf\">\n",
              "      Upload widget is only available when the cell has been executed in the\n",
              "      current browser session. Please rerun this cell to enable.\n",
              "      </output>\n",
              "      <script>// Copyright 2017 Google LLC\n",
              "//\n",
              "// Licensed under the Apache License, Version 2.0 (the \"License\");\n",
              "// you may not use this file except in compliance with the License.\n",
              "// You may obtain a copy of the License at\n",
              "//\n",
              "//      http://www.apache.org/licenses/LICENSE-2.0\n",
              "//\n",
              "// Unless required by applicable law or agreed to in writing, software\n",
              "// distributed under the License is distributed on an \"AS IS\" BASIS,\n",
              "// WITHOUT WARRANTIES OR CONDITIONS OF ANY KIND, either express or implied.\n",
              "// See the License for the specific language governing permissions and\n",
              "// limitations under the License.\n",
              "\n",
              "/**\n",
              " * @fileoverview Helpers for google.colab Python module.\n",
              " */\n",
              "(function(scope) {\n",
              "function span(text, styleAttributes = {}) {\n",
              "  const element = document.createElement('span');\n",
              "  element.textContent = text;\n",
              "  for (const key of Object.keys(styleAttributes)) {\n",
              "    element.style[key] = styleAttributes[key];\n",
              "  }\n",
              "  return element;\n",
              "}\n",
              "\n",
              "// Max number of bytes which will be uploaded at a time.\n",
              "const MAX_PAYLOAD_SIZE = 100 * 1024;\n",
              "\n",
              "function _uploadFiles(inputId, outputId) {\n",
              "  const steps = uploadFilesStep(inputId, outputId);\n",
              "  const outputElement = document.getElementById(outputId);\n",
              "  // Cache steps on the outputElement to make it available for the next call\n",
              "  // to uploadFilesContinue from Python.\n",
              "  outputElement.steps = steps;\n",
              "\n",
              "  return _uploadFilesContinue(outputId);\n",
              "}\n",
              "\n",
              "// This is roughly an async generator (not supported in the browser yet),\n",
              "// where there are multiple asynchronous steps and the Python side is going\n",
              "// to poll for completion of each step.\n",
              "// This uses a Promise to block the python side on completion of each step,\n",
              "// then passes the result of the previous step as the input to the next step.\n",
              "function _uploadFilesContinue(outputId) {\n",
              "  const outputElement = document.getElementById(outputId);\n",
              "  const steps = outputElement.steps;\n",
              "\n",
              "  const next = steps.next(outputElement.lastPromiseValue);\n",
              "  return Promise.resolve(next.value.promise).then((value) => {\n",
              "    // Cache the last promise value to make it available to the next\n",
              "    // step of the generator.\n",
              "    outputElement.lastPromiseValue = value;\n",
              "    return next.value.response;\n",
              "  });\n",
              "}\n",
              "\n",
              "/**\n",
              " * Generator function which is called between each async step of the upload\n",
              " * process.\n",
              " * @param {string} inputId Element ID of the input file picker element.\n",
              " * @param {string} outputId Element ID of the output display.\n",
              " * @return {!Iterable<!Object>} Iterable of next steps.\n",
              " */\n",
              "function* uploadFilesStep(inputId, outputId) {\n",
              "  const inputElement = document.getElementById(inputId);\n",
              "  inputElement.disabled = false;\n",
              "\n",
              "  const outputElement = document.getElementById(outputId);\n",
              "  outputElement.innerHTML = '';\n",
              "\n",
              "  const pickedPromise = new Promise((resolve) => {\n",
              "    inputElement.addEventListener('change', (e) => {\n",
              "      resolve(e.target.files);\n",
              "    });\n",
              "  });\n",
              "\n",
              "  const cancel = document.createElement('button');\n",
              "  inputElement.parentElement.appendChild(cancel);\n",
              "  cancel.textContent = 'Cancel upload';\n",
              "  const cancelPromise = new Promise((resolve) => {\n",
              "    cancel.onclick = () => {\n",
              "      resolve(null);\n",
              "    };\n",
              "  });\n",
              "\n",
              "  // Wait for the user to pick the files.\n",
              "  const files = yield {\n",
              "    promise: Promise.race([pickedPromise, cancelPromise]),\n",
              "    response: {\n",
              "      action: 'starting',\n",
              "    }\n",
              "  };\n",
              "\n",
              "  cancel.remove();\n",
              "\n",
              "  // Disable the input element since further picks are not allowed.\n",
              "  inputElement.disabled = true;\n",
              "\n",
              "  if (!files) {\n",
              "    return {\n",
              "      response: {\n",
              "        action: 'complete',\n",
              "      }\n",
              "    };\n",
              "  }\n",
              "\n",
              "  for (const file of files) {\n",
              "    const li = document.createElement('li');\n",
              "    li.append(span(file.name, {fontWeight: 'bold'}));\n",
              "    li.append(span(\n",
              "        `(${file.type || 'n/a'}) - ${file.size} bytes, ` +\n",
              "        `last modified: ${\n",
              "            file.lastModifiedDate ? file.lastModifiedDate.toLocaleDateString() :\n",
              "                                    'n/a'} - `));\n",
              "    const percent = span('0% done');\n",
              "    li.appendChild(percent);\n",
              "\n",
              "    outputElement.appendChild(li);\n",
              "\n",
              "    const fileDataPromise = new Promise((resolve) => {\n",
              "      const reader = new FileReader();\n",
              "      reader.onload = (e) => {\n",
              "        resolve(e.target.result);\n",
              "      };\n",
              "      reader.readAsArrayBuffer(file);\n",
              "    });\n",
              "    // Wait for the data to be ready.\n",
              "    let fileData = yield {\n",
              "      promise: fileDataPromise,\n",
              "      response: {\n",
              "        action: 'continue',\n",
              "      }\n",
              "    };\n",
              "\n",
              "    // Use a chunked sending to avoid message size limits. See b/62115660.\n",
              "    let position = 0;\n",
              "    do {\n",
              "      const length = Math.min(fileData.byteLength - position, MAX_PAYLOAD_SIZE);\n",
              "      const chunk = new Uint8Array(fileData, position, length);\n",
              "      position += length;\n",
              "\n",
              "      const base64 = btoa(String.fromCharCode.apply(null, chunk));\n",
              "      yield {\n",
              "        response: {\n",
              "          action: 'append',\n",
              "          file: file.name,\n",
              "          data: base64,\n",
              "        },\n",
              "      };\n",
              "\n",
              "      let percentDone = fileData.byteLength === 0 ?\n",
              "          100 :\n",
              "          Math.round((position / fileData.byteLength) * 100);\n",
              "      percent.textContent = `${percentDone}% done`;\n",
              "\n",
              "    } while (position < fileData.byteLength);\n",
              "  }\n",
              "\n",
              "  // All done.\n",
              "  yield {\n",
              "    response: {\n",
              "      action: 'complete',\n",
              "    }\n",
              "  };\n",
              "}\n",
              "\n",
              "scope.google = scope.google || {};\n",
              "scope.google.colab = scope.google.colab || {};\n",
              "scope.google.colab._files = {\n",
              "  _uploadFiles,\n",
              "  _uploadFilesContinue,\n",
              "};\n",
              "})(self);\n",
              "</script> "
            ]
          },
          "metadata": {}
        },
        {
          "output_type": "stream",
          "name": "stdout",
          "text": [
            "Saving cleaned_merged_fairy_tales_without_eos.txt to cleaned_merged_fairy_tales_without_eos.txt\n",
            "Using: cleaned_merged_fairy_tales_without_eos.txt\n"
          ]
        }
      ],
      "source": [
        "from google.colab import files\n",
        "import io, os\n",
        "\n",
        "uploaded = files.upload()  # choose your .txt\n",
        "# Grab the first .txt you uploaded and set TEXT_PATH automatically\n",
        "TEXT_PATH = None\n",
        "for name in uploaded:\n",
        "    if name.lower().endswith(\".txt\"):\n",
        "        TEXT_PATH = name\n",
        "        break\n",
        "\n",
        "if TEXT_PATH and os.path.exists(TEXT_PATH):\n",
        "    print(\"Using:\", TEXT_PATH)\n",
        "else:\n",
        "    raise FileNotFoundError(\"No .txt found in upload. Please upload a .txt file.\")\n"
      ]
    },
    {
      "cell_type": "markdown",
      "id": "98b9b7b0",
      "metadata": {
        "id": "98b9b7b0"
      },
      "source": [
        "---\n",
        "## 2) Preprocessing\n",
        "\n",
        "- Lowercase & basic cleanup\n",
        "- Build character vocabulary (`char2idx`, `idx2char`)\n",
        "- Create fixed-length input sequences with the **next character** as target\n"
      ]
    },
    {
      "cell_type": "code",
      "execution_count": 2,
      "id": "2e68d039",
      "metadata": {
        "colab": {
          "base_uri": "https://localhost:8080/"
        },
        "id": "2e68d039",
        "outputId": "f6c20300-7dca-457a-b729-44199f6a7885"
      },
      "outputs": [
        {
          "output_type": "stream",
          "name": "stdout",
          "text": [
            "Total characters: 20395327\n",
            "Sample: the happy prince. high above the city, on a tall column, stood the statue of the happy prince. he was gilded all over with thin leaves of fine gold, for eyes he had two bright sapphires, and a large red ruby glowed on his sword-hilt. he was very much admired indeed. “he is as beautiful as a weathercock,” remarked one of the town councillors who wished to gain a reputation for having artistic tastes; “only not quite so useful,” he added, fearing lest people should think him unpractical, which he \n"
          ]
        }
      ],
      "source": [
        "# Load & clean text\n",
        "import io, os, re\n",
        "\n",
        "if not os.path.exists(TEXT_PATH):\n",
        "    raise FileNotFoundError(f\"TEXT_PATH does not exist: {TEXT_PATH}. Please set it to a valid .txt file path.\")\n",
        "\n",
        "with io.open(TEXT_PATH, 'r', encoding='utf-8', errors='ignore') as f:\n",
        "    raw_text = f.read()\n",
        "\n",
        "text = raw_text.lower()\n",
        "text = re.sub(r\"\\s+\", \" \", text)  # collapse whitespace\n",
        "print(\"Total characters:\", len(text))\n",
        "print(\"Sample:\", text[:500])\n"
      ]
    },
    {
      "cell_type": "code",
      "execution_count": 3,
      "id": "050a1370",
      "metadata": {
        "colab": {
          "base_uri": "https://localhost:8080/"
        },
        "id": "050a1370",
        "outputId": "88c42a79-95a0-47cb-a077-b59ca23ce5ab"
      },
      "outputs": [
        {
          "output_type": "stream",
          "name": "stdout",
          "text": [
            "Vocab size: 86\n",
            "Vocab (first 100): [' ', '!', '\"', '$', '&', \"'\", '(', ')', '*', '+', ',', '-', '.', '/', '0', '1', '2', '3', '4', '5', '6', '7', '8', '9', ':', ';', '=', '?', '[', ']', '`', 'a', 'b', 'c', 'd', 'e', 'f', 'g', 'h', 'i', 'j', 'k', 'l', 'm', 'n', 'o', 'p', 'q', 'r', 's', 't', 'u', 'v', 'w', 'x', 'y', 'z', '{', '|', '}', '£', '°', '½', 'à', 'â', 'ä', 'æ', 'ç', 'è', 'é', 'ê', 'ë', 'î', 'ï', 'ñ', 'ô', 'ö', 'ü', 'ā', 'œ', '—', '‘', '’', '“', '”', '…']\n"
          ]
        },
        {
          "output_type": "execute_result",
          "data": {
            "text/plain": [
              "array([50, 38, 35,  0, 38, 31, 46, 46, 55,  0, 46, 48, 39, 44, 33, 35, 12,\n",
              "        0, 38, 39], dtype=int32)"
            ]
          },
          "metadata": {},
          "execution_count": 3
        }
      ],
      "source": [
        "# Build char vocabulary and encode\n",
        "import numpy as np\n",
        "\n",
        "vocab = sorted(list(set(text)))\n",
        "vocab_size = len(vocab)\n",
        "print(\"Vocab size:\", vocab_size)\n",
        "print(\"Vocab (first 100):\", vocab[:100])\n",
        "\n",
        "char2idx = {c:i for i,c in enumerate(vocab)}\n",
        "idx2char = {i:c for c,i in char2idx.items()}\n",
        "\n",
        "encoded = np.array([char2idx[c] for c in text], dtype=np.int32)\n",
        "encoded[:20]\n"
      ]
    },
    {
      "cell_type": "code",
      "execution_count": 4,
      "id": "38887c5f",
      "metadata": {
        "colab": {
          "base_uri": "https://localhost:8080/"
        },
        "id": "38887c5f",
        "outputId": "ae0d4f59-b96d-4c60-dff2-7ca592b35778"
      },
      "outputs": [
        {
          "output_type": "stream",
          "name": "stdout",
          "text": [
            "Sequences: (20395267, 60) Targets: (20395267,)\n"
          ]
        }
      ],
      "source": [
        "# Create sequences (X) and next-char targets (y)\n",
        "SEQ_LEN = 60\n",
        "STEP = 1\n",
        "BATCH_SIZE = 256\n",
        "VAL_SPLIT  = 0.1\n",
        "\n",
        "X, y = [], []\n",
        "for i in range(0, len(encoded) - SEQ_LEN, STEP):\n",
        "    X.append(encoded[i:i+SEQ_LEN])\n",
        "    y.append(encoded[i+SEQ_LEN])\n",
        "X = np.array(X, dtype=np.int32)\n",
        "y = np.array(y, dtype=np.int32)\n",
        "\n",
        "print(\"Sequences:\", X.shape, \"Targets:\", y.shape)\n"
      ]
    },
    {
      "cell_type": "code",
      "execution_count": 5,
      "id": "394835a4",
      "metadata": {
        "colab": {
          "base_uri": "https://localhost:8080/"
        },
        "id": "394835a4",
        "outputId": "5aadda96-a8a5-477e-cbc3-250db047f971"
      },
      "outputs": [
        {
          "output_type": "stream",
          "name": "stdout",
          "text": [
            "Train: (18355740, 60) (18355740,) Val: (2039527, 60) (2039527,)\n"
          ]
        }
      ],
      "source": [
        "# Train/Val split\n",
        "from sklearn.model_selection import train_test_split\n",
        "\n",
        "X_train, X_val, y_train, y_val = train_test_split(\n",
        "    X, y, test_size=0.1, random_state=42, shuffle=True\n",
        ")\n",
        "print(\"Train:\", X_train.shape, y_train.shape, \"Val:\", X_val.shape, y_val.shape)\n"
      ]
    },
    {
      "cell_type": "code",
      "execution_count": 6,
      "id": "feb705c6",
      "metadata": {
        "colab": {
          "base_uri": "https://localhost:8080/",
          "height": 497
        },
        "id": "feb705c6",
        "outputId": "1f2d9cf4-6153-4e42-f7d6-caefcd8ac151"
      },
      "outputs": [
        {
          "output_type": "display_data",
          "data": {
            "text/plain": [
              "\u001b[1mModel: \"SimpleRNN_NextChar\"\u001b[0m\n"
            ],
            "text/html": [
              "<pre style=\"white-space:pre;overflow-x:auto;line-height:normal;font-family:Menlo,'DejaVu Sans Mono',consolas,'Courier New',monospace\"><span style=\"font-weight: bold\">Model: \"SimpleRNN_NextChar\"</span>\n",
              "</pre>\n"
            ]
          },
          "metadata": {}
        },
        {
          "output_type": "display_data",
          "data": {
            "text/plain": [
              "┏━━━━━━━━━━━━━━━━━━━━━━━━━━━━━━━━━┳━━━━━━━━━━━━━━━━━━━━━━━━┳━━━━━━━━━━━━━━━┓\n",
              "┃\u001b[1m \u001b[0m\u001b[1mLayer (type)                   \u001b[0m\u001b[1m \u001b[0m┃\u001b[1m \u001b[0m\u001b[1mOutput Shape          \u001b[0m\u001b[1m \u001b[0m┃\u001b[1m \u001b[0m\u001b[1m      Param #\u001b[0m\u001b[1m \u001b[0m┃\n",
              "┡━━━━━━━━━━━━━━━━━━━━━━━━━━━━━━━━━╇━━━━━━━━━━━━━━━━━━━━━━━━╇━━━━━━━━━━━━━━━┩\n",
              "│ input_layer (\u001b[38;5;33mInputLayer\u001b[0m)        │ (\u001b[38;5;45mNone\u001b[0m, \u001b[38;5;45mNone\u001b[0m)           │             \u001b[38;5;34m0\u001b[0m │\n",
              "├─────────────────────────────────┼────────────────────────┼───────────────┤\n",
              "│ embedding (\u001b[38;5;33mEmbedding\u001b[0m)           │ (\u001b[38;5;45mNone\u001b[0m, \u001b[38;5;45mNone\u001b[0m, \u001b[38;5;34m64\u001b[0m)       │         \u001b[38;5;34m5,504\u001b[0m │\n",
              "├─────────────────────────────────┼────────────────────────┼───────────────┤\n",
              "│ simple_rnn (\u001b[38;5;33mSimpleRNN\u001b[0m)          │ (\u001b[38;5;45mNone\u001b[0m, \u001b[38;5;34m128\u001b[0m)            │        \u001b[38;5;34m24,704\u001b[0m │\n",
              "├─────────────────────────────────┼────────────────────────┼───────────────┤\n",
              "│ dense (\u001b[38;5;33mDense\u001b[0m)                   │ (\u001b[38;5;45mNone\u001b[0m, \u001b[38;5;34m86\u001b[0m)             │        \u001b[38;5;34m11,094\u001b[0m │\n",
              "└─────────────────────────────────┴────────────────────────┴───────────────┘\n"
            ],
            "text/html": [
              "<pre style=\"white-space:pre;overflow-x:auto;line-height:normal;font-family:Menlo,'DejaVu Sans Mono',consolas,'Courier New',monospace\">┏━━━━━━━━━━━━━━━━━━━━━━━━━━━━━━━━━┳━━━━━━━━━━━━━━━━━━━━━━━━┳━━━━━━━━━━━━━━━┓\n",
              "┃<span style=\"font-weight: bold\"> Layer (type)                    </span>┃<span style=\"font-weight: bold\"> Output Shape           </span>┃<span style=\"font-weight: bold\">       Param # </span>┃\n",
              "┡━━━━━━━━━━━━━━━━━━━━━━━━━━━━━━━━━╇━━━━━━━━━━━━━━━━━━━━━━━━╇━━━━━━━━━━━━━━━┩\n",
              "│ input_layer (<span style=\"color: #0087ff; text-decoration-color: #0087ff\">InputLayer</span>)        │ (<span style=\"color: #00d7ff; text-decoration-color: #00d7ff\">None</span>, <span style=\"color: #00d7ff; text-decoration-color: #00d7ff\">None</span>)           │             <span style=\"color: #00af00; text-decoration-color: #00af00\">0</span> │\n",
              "├─────────────────────────────────┼────────────────────────┼───────────────┤\n",
              "│ embedding (<span style=\"color: #0087ff; text-decoration-color: #0087ff\">Embedding</span>)           │ (<span style=\"color: #00d7ff; text-decoration-color: #00d7ff\">None</span>, <span style=\"color: #00d7ff; text-decoration-color: #00d7ff\">None</span>, <span style=\"color: #00af00; text-decoration-color: #00af00\">64</span>)       │         <span style=\"color: #00af00; text-decoration-color: #00af00\">5,504</span> │\n",
              "├─────────────────────────────────┼────────────────────────┼───────────────┤\n",
              "│ simple_rnn (<span style=\"color: #0087ff; text-decoration-color: #0087ff\">SimpleRNN</span>)          │ (<span style=\"color: #00d7ff; text-decoration-color: #00d7ff\">None</span>, <span style=\"color: #00af00; text-decoration-color: #00af00\">128</span>)            │        <span style=\"color: #00af00; text-decoration-color: #00af00\">24,704</span> │\n",
              "├─────────────────────────────────┼────────────────────────┼───────────────┤\n",
              "│ dense (<span style=\"color: #0087ff; text-decoration-color: #0087ff\">Dense</span>)                   │ (<span style=\"color: #00d7ff; text-decoration-color: #00d7ff\">None</span>, <span style=\"color: #00af00; text-decoration-color: #00af00\">86</span>)             │        <span style=\"color: #00af00; text-decoration-color: #00af00\">11,094</span> │\n",
              "└─────────────────────────────────┴────────────────────────┴───────────────┘\n",
              "</pre>\n"
            ]
          },
          "metadata": {}
        },
        {
          "output_type": "display_data",
          "data": {
            "text/plain": [
              "\u001b[1m Total params: \u001b[0m\u001b[38;5;34m41,302\u001b[0m (161.34 KB)\n"
            ],
            "text/html": [
              "<pre style=\"white-space:pre;overflow-x:auto;line-height:normal;font-family:Menlo,'DejaVu Sans Mono',consolas,'Courier New',monospace\"><span style=\"font-weight: bold\"> Total params: </span><span style=\"color: #00af00; text-decoration-color: #00af00\">41,302</span> (161.34 KB)\n",
              "</pre>\n"
            ]
          },
          "metadata": {}
        },
        {
          "output_type": "display_data",
          "data": {
            "text/plain": [
              "\u001b[1m Trainable params: \u001b[0m\u001b[38;5;34m41,302\u001b[0m (161.34 KB)\n"
            ],
            "text/html": [
              "<pre style=\"white-space:pre;overflow-x:auto;line-height:normal;font-family:Menlo,'DejaVu Sans Mono',consolas,'Courier New',monospace\"><span style=\"font-weight: bold\"> Trainable params: </span><span style=\"color: #00af00; text-decoration-color: #00af00\">41,302</span> (161.34 KB)\n",
              "</pre>\n"
            ]
          },
          "metadata": {}
        },
        {
          "output_type": "display_data",
          "data": {
            "text/plain": [
              "\u001b[1m Non-trainable params: \u001b[0m\u001b[38;5;34m0\u001b[0m (0.00 B)\n"
            ],
            "text/html": [
              "<pre style=\"white-space:pre;overflow-x:auto;line-height:normal;font-family:Menlo,'DejaVu Sans Mono',consolas,'Courier New',monospace\"><span style=\"font-weight: bold\"> Non-trainable params: </span><span style=\"color: #00af00; text-decoration-color: #00af00\">0</span> (0.00 B)\n",
              "</pre>\n"
            ]
          },
          "metadata": {}
        },
        {
          "output_type": "display_data",
          "data": {
            "text/plain": [
              "\u001b[1mModel: \"LSTM_NextChar\"\u001b[0m\n"
            ],
            "text/html": [
              "<pre style=\"white-space:pre;overflow-x:auto;line-height:normal;font-family:Menlo,'DejaVu Sans Mono',consolas,'Courier New',monospace\"><span style=\"font-weight: bold\">Model: \"LSTM_NextChar\"</span>\n",
              "</pre>\n"
            ]
          },
          "metadata": {}
        },
        {
          "output_type": "display_data",
          "data": {
            "text/plain": [
              "┏━━━━━━━━━━━━━━━━━━━━━━━━━━━━━━━━━┳━━━━━━━━━━━━━━━━━━━━━━━━┳━━━━━━━━━━━━━━━┓\n",
              "┃\u001b[1m \u001b[0m\u001b[1mLayer (type)                   \u001b[0m\u001b[1m \u001b[0m┃\u001b[1m \u001b[0m\u001b[1mOutput Shape          \u001b[0m\u001b[1m \u001b[0m┃\u001b[1m \u001b[0m\u001b[1m      Param #\u001b[0m\u001b[1m \u001b[0m┃\n",
              "┡━━━━━━━━━━━━━━━━━━━━━━━━━━━━━━━━━╇━━━━━━━━━━━━━━━━━━━━━━━━╇━━━━━━━━━━━━━━━┩\n",
              "│ input_layer_1 (\u001b[38;5;33mInputLayer\u001b[0m)      │ (\u001b[38;5;45mNone\u001b[0m, \u001b[38;5;45mNone\u001b[0m)           │             \u001b[38;5;34m0\u001b[0m │\n",
              "├─────────────────────────────────┼────────────────────────┼───────────────┤\n",
              "│ embedding_1 (\u001b[38;5;33mEmbedding\u001b[0m)         │ (\u001b[38;5;45mNone\u001b[0m, \u001b[38;5;45mNone\u001b[0m, \u001b[38;5;34m64\u001b[0m)       │         \u001b[38;5;34m5,504\u001b[0m │\n",
              "├─────────────────────────────────┼────────────────────────┼───────────────┤\n",
              "│ lstm (\u001b[38;5;33mLSTM\u001b[0m)                     │ (\u001b[38;5;45mNone\u001b[0m, \u001b[38;5;34m128\u001b[0m)            │        \u001b[38;5;34m98,816\u001b[0m │\n",
              "├─────────────────────────────────┼────────────────────────┼───────────────┤\n",
              "│ dense_1 (\u001b[38;5;33mDense\u001b[0m)                 │ (\u001b[38;5;45mNone\u001b[0m, \u001b[38;5;34m86\u001b[0m)             │        \u001b[38;5;34m11,094\u001b[0m │\n",
              "└─────────────────────────────────┴────────────────────────┴───────────────┘\n"
            ],
            "text/html": [
              "<pre style=\"white-space:pre;overflow-x:auto;line-height:normal;font-family:Menlo,'DejaVu Sans Mono',consolas,'Courier New',monospace\">┏━━━━━━━━━━━━━━━━━━━━━━━━━━━━━━━━━┳━━━━━━━━━━━━━━━━━━━━━━━━┳━━━━━━━━━━━━━━━┓\n",
              "┃<span style=\"font-weight: bold\"> Layer (type)                    </span>┃<span style=\"font-weight: bold\"> Output Shape           </span>┃<span style=\"font-weight: bold\">       Param # </span>┃\n",
              "┡━━━━━━━━━━━━━━━━━━━━━━━━━━━━━━━━━╇━━━━━━━━━━━━━━━━━━━━━━━━╇━━━━━━━━━━━━━━━┩\n",
              "│ input_layer_1 (<span style=\"color: #0087ff; text-decoration-color: #0087ff\">InputLayer</span>)      │ (<span style=\"color: #00d7ff; text-decoration-color: #00d7ff\">None</span>, <span style=\"color: #00d7ff; text-decoration-color: #00d7ff\">None</span>)           │             <span style=\"color: #00af00; text-decoration-color: #00af00\">0</span> │\n",
              "├─────────────────────────────────┼────────────────────────┼───────────────┤\n",
              "│ embedding_1 (<span style=\"color: #0087ff; text-decoration-color: #0087ff\">Embedding</span>)         │ (<span style=\"color: #00d7ff; text-decoration-color: #00d7ff\">None</span>, <span style=\"color: #00d7ff; text-decoration-color: #00d7ff\">None</span>, <span style=\"color: #00af00; text-decoration-color: #00af00\">64</span>)       │         <span style=\"color: #00af00; text-decoration-color: #00af00\">5,504</span> │\n",
              "├─────────────────────────────────┼────────────────────────┼───────────────┤\n",
              "│ lstm (<span style=\"color: #0087ff; text-decoration-color: #0087ff\">LSTM</span>)                     │ (<span style=\"color: #00d7ff; text-decoration-color: #00d7ff\">None</span>, <span style=\"color: #00af00; text-decoration-color: #00af00\">128</span>)            │        <span style=\"color: #00af00; text-decoration-color: #00af00\">98,816</span> │\n",
              "├─────────────────────────────────┼────────────────────────┼───────────────┤\n",
              "│ dense_1 (<span style=\"color: #0087ff; text-decoration-color: #0087ff\">Dense</span>)                 │ (<span style=\"color: #00d7ff; text-decoration-color: #00d7ff\">None</span>, <span style=\"color: #00af00; text-decoration-color: #00af00\">86</span>)             │        <span style=\"color: #00af00; text-decoration-color: #00af00\">11,094</span> │\n",
              "└─────────────────────────────────┴────────────────────────┴───────────────┘\n",
              "</pre>\n"
            ]
          },
          "metadata": {}
        },
        {
          "output_type": "display_data",
          "data": {
            "text/plain": [
              "\u001b[1m Total params: \u001b[0m\u001b[38;5;34m115,414\u001b[0m (450.84 KB)\n"
            ],
            "text/html": [
              "<pre style=\"white-space:pre;overflow-x:auto;line-height:normal;font-family:Menlo,'DejaVu Sans Mono',consolas,'Courier New',monospace\"><span style=\"font-weight: bold\"> Total params: </span><span style=\"color: #00af00; text-decoration-color: #00af00\">115,414</span> (450.84 KB)\n",
              "</pre>\n"
            ]
          },
          "metadata": {}
        },
        {
          "output_type": "display_data",
          "data": {
            "text/plain": [
              "\u001b[1m Trainable params: \u001b[0m\u001b[38;5;34m115,414\u001b[0m (450.84 KB)\n"
            ],
            "text/html": [
              "<pre style=\"white-space:pre;overflow-x:auto;line-height:normal;font-family:Menlo,'DejaVu Sans Mono',consolas,'Courier New',monospace\"><span style=\"font-weight: bold\"> Trainable params: </span><span style=\"color: #00af00; text-decoration-color: #00af00\">115,414</span> (450.84 KB)\n",
              "</pre>\n"
            ]
          },
          "metadata": {}
        },
        {
          "output_type": "display_data",
          "data": {
            "text/plain": [
              "\u001b[1m Non-trainable params: \u001b[0m\u001b[38;5;34m0\u001b[0m (0.00 B)\n"
            ],
            "text/html": [
              "<pre style=\"white-space:pre;overflow-x:auto;line-height:normal;font-family:Menlo,'DejaVu Sans Mono',consolas,'Courier New',monospace\"><span style=\"font-weight: bold\"> Non-trainable params: </span><span style=\"color: #00af00; text-decoration-color: #00af00\">0</span> (0.00 B)\n",
              "</pre>\n"
            ]
          },
          "metadata": {}
        }
      ],
      "source": [
        "# Define model builders\n",
        "import tensorflow as tf\n",
        "from tensorflow import keras\n",
        "from tensorflow.keras import layers\n",
        "\n",
        "EMBED_DIM = 64\n",
        "RNN_UNITS = 128\n",
        "DROPOUT = 0.2\n",
        "\n",
        "def build_simple_rnn(vocab_size, embed_dim=EMBED_DIM, rnn_units=RNN_UNITS, dropout=DROPOUT):\n",
        "    inputs = keras.Input(shape=(None,), dtype='int32')\n",
        "    x = layers.Embedding(vocab_size, embed_dim)(inputs)\n",
        "    x = layers.SimpleRNN(rnn_units, dropout=dropout)(x)\n",
        "    outputs = layers.Dense(vocab_size, activation='softmax')(x)\n",
        "    model = keras.Model(inputs, outputs, name=\"SimpleRNN_NextChar\")\n",
        "    model.compile(optimizer=keras.optimizers.Adam(1e-3),\n",
        "                  loss='sparse_categorical_crossentropy',\n",
        "                  metrics=['accuracy'])\n",
        "    return model\n",
        "\n",
        "def build_lstm(vocab_size, embed_dim=EMBED_DIM, rnn_units=RNN_UNITS, dropout=DROPOUT):\n",
        "    inputs = keras.Input(shape=(None,), dtype='int32')\n",
        "    x = layers.Embedding(vocab_size, embed_dim)(inputs)\n",
        "    x = layers.LSTM(rnn_units, dropout=dropout)(x)\n",
        "    outputs = layers.Dense(vocab_size, activation='softmax')(x)\n",
        "    model = keras.Model(inputs, outputs, name=\"LSTM_NextChar\")\n",
        "    model.compile(optimizer=keras.optimizers.Adam(1e-3),\n",
        "                  loss='sparse_categorical_crossentropy',\n",
        "                  metrics=['accuracy'])\n",
        "    return model\n",
        "\n",
        "rnn_model = build_simple_rnn(vocab_size)\n",
        "lstm_model = build_lstm(vocab_size)\n",
        "\n",
        "rnn_model.summary()\n",
        "lstm_model.summary()\n"
      ]
    },
    {
      "cell_type": "code",
      "execution_count": 7,
      "id": "e52d663c",
      "metadata": {
        "id": "e52d663c"
      },
      "outputs": [],
      "source": [
        "import tensorflow as tf\n",
        "VAL_SPLIT = 0.1\n",
        "N = len(encoded)\n",
        "split_idx = int((1.0 - VAL_SPLIT) * N)\n",
        "train_stream = encoded[:split_idx]\n",
        "val_stream   = encoded[max(0, split_idx - (SEQ_LEN + 1)):]\n",
        "\n",
        "def make_seq_ds(stream, seq_len=SEQ_LEN, step=STEP, batch_size=BATCH_SIZE):\n",
        "\n",
        "    ds = tf.keras.utils.timeseries_dataset_from_array(\n",
        "        data=stream,\n",
        "        targets=None,\n",
        "        sequence_length=seq_len + 1,\n",
        "        sequence_stride=step,\n",
        "        shuffle=True,\n",
        "        batch_size=batch_size,\n",
        "    )\n",
        "    def split_xy(batch):\n",
        "        return tf.cast(batch[:, :-1], tf.int32), tf.cast(batch[:, -1], tf.int32)\n",
        "    return ds.map(split_xy, num_parallel_calls=tf.data.AUTOTUNE).prefetch(tf.data.AUTOTUNE)\n",
        "\n",
        "train_ds = make_seq_ds(train_stream)\n",
        "val_ds   = make_seq_ds(val_stream)\n",
        "\n"
      ]
    },
    {
      "cell_type": "code",
      "execution_count": 8,
      "id": "dda1885b",
      "metadata": {
        "colab": {
          "base_uri": "https://localhost:8080/"
        },
        "id": "dda1885b",
        "outputId": "391459db-486e-413e-dc84-2935d0dff7ed"
      },
      "outputs": [
        {
          "output_type": "stream",
          "name": "stdout",
          "text": [
            "Training SimpleRNN...\n",
            "\u001b[1m71703/71703\u001b[0m \u001b[32m━━━━━━━━━━━━━━━━━━━━\u001b[0m\u001b[37m\u001b[0m \u001b[1m2164s\u001b[0m 30ms/step - accuracy: 0.4760 - loss: 1.7598 - val_accuracy: 0.5203 - val_loss: 1.5967\n",
            "\n",
            "Training LSTM...\n",
            "\u001b[1m71703/71703\u001b[0m \u001b[32m━━━━━━━━━━━━━━━━━━━━\u001b[0m\u001b[37m\u001b[0m \u001b[1m2175s\u001b[0m 30ms/step - accuracy: 0.4726 - loss: 1.7697 - val_accuracy: 0.5357 - val_loss: 1.5434\n"
          ]
        }
      ],
      "source": [
        "# Train\n",
        "import tensorflow as tf\n",
        "EPOCHS = 1\n",
        "\n",
        "cb_early = tf.keras.callbacks.EarlyStopping(\n",
        "    monitor='val_loss', patience=3, restore_best_weights=True\n",
        ")\n",
        "\n",
        "print(\"Training SimpleRNN...\")\n",
        "hist_rnn = rnn_model.fit(\n",
        "    train_ds, validation_data=val_ds,\n",
        "    epochs=EPOCHS, callbacks=[cb_early], verbose=1\n",
        ")\n",
        "\n",
        "print(\"\\nTraining LSTM...\")\n",
        "hist_lstm = lstm_model.fit(\n",
        "    train_ds, validation_data=val_ds,\n",
        "    epochs=EPOCHS, callbacks=[cb_early], verbose=1\n",
        ")\n"
      ]
    },
    {
      "cell_type": "code",
      "execution_count": 10,
      "id": "b1711ee4",
      "metadata": {
        "id": "b1711ee4"
      },
      "outputs": [],
      "source": [
        "# Generation helpers\n",
        "import numpy as np\n",
        "\n",
        "def sample_from_probs(probs, temperature=1.0):\n",
        "    probs = np.asarray(probs).astype('float64')\n",
        "    if temperature <= 0:\n",
        "        return int(np.argmax(probs))\n",
        "    logits = np.log(probs + 1e-9) / temperature\n",
        "    exp = np.exp(logits)\n",
        "    probs = exp / np.sum(exp)\n",
        "    return int(np.random.choice(len(probs), p=probs))\n",
        "\n",
        "def generate_text(model, seed_text, gen_len=300, temperature=0.7):\n",
        "    seq = [char2idx.get(c, 0) for c in seed_text.lower()]\n",
        "    out = list(seed_text)\n",
        "\n",
        "    for _ in range(gen_len):\n",
        "        x = np.array([seq[-SEQ_LEN:]], dtype=np.int32)\n",
        "        probs = model.predict(x, verbose=0)[0]\n",
        "        next_id = sample_from_probs(probs, temperature=temperature)\n",
        "        next_char = idx2char[next_id]\n",
        "        out.append(next_char)\n",
        "        seq.append(next_id)\n",
        "    return ''.join(out)\n"
      ]
    },
    {
      "cell_type": "code",
      "execution_count": 11,
      "id": "b8c53b2c",
      "metadata": {
        "colab": {
          "base_uri": "https://localhost:8080/"
        },
        "id": "b8c53b2c",
        "outputId": "9d770c87-7fd9-4fa2-c02e-8e0ac6346a70"
      },
      "outputs": [
        {
          "output_type": "stream",
          "name": "stdout",
          "text": [
            "— SimpleRNN —\n",
            "once upon a time the foretheres who may a consided that the carry me to let the for queen-daughter of the letter and throw the moon the floor in. from when the passed into all she contage counted him the window he had being fine, and she do it to confiers, and she said the king for a chaping night in the fine the little amraya work at she can all he was were it it and was prince, and took the garden and he was fi\n",
            "\n",
            "— LSTM —\n",
            "once upon a time the deserved to be way she is your certal i’ll grance come and a name of the prince with with sent and a lady three her and never struck you mean patch of perceived mind you she had ever say my trace, and looking her cecter was could knew them they speared with a sound that ever understand on to the thing and the precise called a sudden son, looking us with a face with the found the white; and do\n"
          ]
        }
      ],
      "source": [
        "# Try generating with each model\n",
        "SEED_TEXT = \"once upon a time\"\n",
        "GEN_LEN = 400\n",
        "TEMPERATURE = 0.7\n",
        "\n",
        "print(\"— SimpleRNN —\")\n",
        "print(generate_text(rnn_model, SEED_TEXT, gen_len=GEN_LEN, temperature=TEMPERATURE)[:1000])\n",
        "print(\"\\n— LSTM —\")\n",
        "print(generate_text(lstm_model, SEED_TEXT, gen_len=GEN_LEN, temperature=TEMPERATURE)[:1000])\n"
      ]
    }
  ],
  "metadata": {
    "kernelspec": {
      "display_name": "Python [conda env:base] *",
      "language": "python",
      "name": "conda-base-py"
    },
    "language_info": {
      "codemirror_mode": {
        "name": "ipython",
        "version": 3
      },
      "file_extension": ".py",
      "mimetype": "text/x-python",
      "name": "python",
      "nbconvert_exporter": "python",
      "pygments_lexer": "ipython3",
      "version": "3.13.5"
    },
    "colab": {
      "provenance": [],
      "gpuType": "T4"
    },
    "accelerator": "GPU"
  },
  "nbformat": 4,
  "nbformat_minor": 5
}