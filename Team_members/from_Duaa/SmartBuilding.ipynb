{
 "cells": [
  {
   "cell_type": "markdown",
   "id": "d31c61a0-aadb-44ec-9fe3-183874f3e0b7",
   "metadata": {},
   "source": [
    "# Smart Building"
   ]
  },
  {
   "cell_type": "markdown",
   "id": "66856fc8-d969-48b7-91cc-67b460d8e5a4",
   "metadata": {},
   "source": [
    "Scenario: You are a data scientist monitoring environmental conditions in a smart building. You have collected sensor data (temperature, humidity, pressure) over 24 hours, with readings taken every minute. Your goal is to process this raw data to find key statistics and identify anomalies."
   ]
  },
  {
   "cell_type": "markdown",
   "id": "396abc7a-392d-4643-8f53-dc0409db11ed",
   "metadata": {},
   "source": [
    "## Data Generation: "
   ]
  },
  {
   "cell_type": "code",
   "execution_count": 1,
   "id": "2d334f4d-5591-4268-b637-c9d006456c5d",
   "metadata": {},
   "outputs": [],
   "source": [
    "import numpy as np\n",
    "import pandas as pd"
   ]
  },
  {
   "cell_type": "code",
   "execution_count": 2,
   "id": "8e3bdea7-aa86-48ce-9cb1-404bd3044423",
   "metadata": {},
   "outputs": [],
   "source": [
    "np.random.seed() "
   ]
  },
  {
   "cell_type": "code",
   "execution_count": 3,
   "id": "f1e3a16a-4175-4b64-afb7-62b6081d592a",
   "metadata": {},
   "outputs": [],
   "source": [
    "timeMints = np.arange(1440)"
   ]
  },
  {
   "cell_type": "code",
   "execution_count": 4,
   "id": "ab1af09b-0e94-4d34-aa77-9776b3caaafe",
   "metadata": {},
   "outputs": [],
   "source": [
    "temperature = np.random.uniform(20, 25) + np.random.normal(0, 1, size=1440)"
   ]
  },
  {
   "cell_type": "code",
   "execution_count": 5,
   "id": "f3702f3c-61c4-461a-ac15-e0f635fa8d97",
   "metadata": {},
   "outputs": [],
   "source": [
    "humidity = np.clip(np.random.uniform(40, 60) + np.random.normal(0, 5, size=1440), 0, 100)"
   ]
  },
  {
   "cell_type": "code",
   "execution_count": 6,
   "id": "2005b50d-48a2-427a-b566-cbfb985e07aa",
   "metadata": {},
   "outputs": [],
   "source": [
    "pressure = np.random.uniform(1008, 1015) + np.random.normal(0, 2, size=1440)"
   ]
  },
  {
   "cell_type": "code",
   "execution_count": 8,
   "id": "4af6b779-ecf4-4f59-a410-dd2737938e8a",
   "metadata": {},
   "outputs": [],
   "source": [
    "data = np.column_stack((timeMints, temperature, humidity, pressure))"
   ]
  },
  {
   "cell_type": "code",
   "execution_count": 9,
   "id": "e52b9ba6-6f86-4d89-ab13-4050343c23b6",
   "metadata": {},
   "outputs": [
    {
     "name": "stdout",
     "output_type": "stream",
     "text": [
      "[[0.00000000e+00 2.25849005e+01 5.37437964e+01 1.01518172e+03]\n",
      " [1.00000000e+00 2.49814477e+01 5.35808797e+01 1.01151060e+03]\n",
      " [2.00000000e+00 2.52260574e+01 5.50912444e+01 1.01106502e+03]\n",
      " ...\n",
      " [1.43700000e+03 2.43850318e+01 6.19825795e+01 1.01124236e+03]\n",
      " [1.43800000e+03 2.48066285e+01 5.29023194e+01 1.00883947e+03]\n",
      " [1.43900000e+03 2.54493676e+01 5.06989054e+01 1.01459379e+03]]\n"
     ]
    }
   ],
   "source": [
    "print(data)"
   ]
  },
  {
   "cell_type": "markdown",
   "id": "e5935647-7f99-4495-a5a2-da7b376e8574",
   "metadata": {},
   "source": [
    "## Basic Statistics: "
   ]
  },
  {
   "cell_type": "code",
   "execution_count": 10,
   "id": "61021112-0fb6-4144-9d23-3877d028a72a",
   "metadata": {},
   "outputs": [
    {
     "name": "stdout",
     "output_type": "stream",
     "text": [
      "[  24.22477657   59.06895864 1012.49931352]\n"
     ]
    }
   ],
   "source": [
    "meanv = np.mean(data[:, 1:], axis=0)\n",
    "print(meanv)"
   ]
  },
  {
   "cell_type": "code",
   "execution_count": 11,
   "id": "e6f51e73-4403-44a2-b100-a4c16d89fd42",
   "metadata": {},
   "outputs": [
    {
     "name": "stdout",
     "output_type": "stream",
     "text": [
      "[  20.82351531   43.88058668 1006.01371012]\n"
     ]
    }
   ],
   "source": [
    "minv= np.min(data[:, 1:], axis=0)\n",
    "print(minv)"
   ]
  },
  {
   "cell_type": "code",
   "execution_count": 12,
   "id": "439ed43a-aaf2-4ddf-884e-0a1105e57f2a",
   "metadata": {},
   "outputs": [
    {
     "name": "stdout",
     "output_type": "stream",
     "text": [
      "[  27.22511004   76.83600407 1018.26907479]\n"
     ]
    }
   ],
   "source": [
    "maxv = np.max(data[:, 1:], axis=0)\n",
    "print(maxv)"
   ]
  },
  {
   "cell_type": "code",
   "execution_count": 13,
   "id": "d0a8d4b7-bc2d-401c-9071-e5e1e68fdedf",
   "metadata": {},
   "outputs": [
    {
     "name": "stdout",
     "output_type": "stream",
     "text": [
      "[0.99029049 4.99941678 1.95547673]\n"
     ]
    }
   ],
   "source": [
    "stdv = np.std(data[:, 1:], axis=0)\n",
    "print(stdv)"
   ]
  },
  {
   "cell_type": "markdown",
   "id": "c3f9dafe-bb34-4829-b9c0-01658c1b3e01",
   "metadata": {},
   "source": [
    "## Hourly Averages: "
   ]
  },
  {
   "cell_type": "code",
   "execution_count": 15,
   "id": "ac31ba43-5452-4811-9a03-f65d70b61ac2",
   "metadata": {},
   "outputs": [
    {
     "name": "stdout",
     "output_type": "stream",
     "text": [
      "[24.37901472 24.28224853 24.00112743 24.23830253 24.13544736 24.34653997\n",
      " 24.24171879 23.90279697 24.42805524 24.04817622 24.12928261 24.11057567\n",
      " 24.34109738 24.37347726 24.23182786 24.18983794 24.18049189 24.28806913\n",
      " 24.22746573 24.17609841 24.33676404 24.26367303 24.25660023 24.28594871]\n"
     ]
    }
   ],
   "source": [
    "tempH = temperature.reshape(24, 60)\n",
    "avgTempHour = np.mean(tempH, axis=1)\n",
    "print(avgTempHour)"
   ]
  },
  {
   "cell_type": "code",
   "execution_count": 16,
   "id": "3b401339-688c-4056-870c-88607b618211",
   "metadata": {},
   "outputs": [
    {
     "name": "stdout",
     "output_type": "stream",
     "text": [
      "[58.63476048 58.74804249 59.11713528 59.26405055 58.70564011 58.96797044\n",
      " 59.17192187 58.60003992 59.51120459 59.75258774 60.03472465 59.73731331\n",
      " 58.46562172 59.24459074 57.98821316 58.43476256 59.16089951 59.85604706\n",
      " 58.46030952 59.41107689 58.78037131 59.05159701 58.37350656 60.18261993]\n"
     ]
    }
   ],
   "source": [
    "humidH = humidity.reshape(24, 60)\n",
    "avgHumidH = np.mean(humidH, axis=1)\n",
    "print(avgHumidH)"
   ]
  },
  {
   "cell_type": "code",
   "execution_count": 17,
   "id": "2dbcc9c1-2427-4813-ac57-afcd68a534a8",
   "metadata": {},
   "outputs": [
    {
     "name": "stdout",
     "output_type": "stream",
     "text": [
      "[1012.42124595 1012.54605209 1012.65519506 1012.49493229 1012.82508947\n",
      " 1012.29557358 1012.5428807  1012.45937901 1012.02825877 1012.87987298\n",
      " 1012.59515885 1012.4790785  1012.11583526 1012.60475701 1012.16566929\n",
      " 1012.67928109 1012.23974401 1012.15388902 1012.59466953 1012.66728707\n",
      " 1012.71554926 1012.390466   1012.83669807 1012.59696158]\n"
     ]
    }
   ],
   "source": [
    "pressureH = pressure.reshape(24, 60)\n",
    "avgPressureHour = np.mean(pressureH, axis=1)\n",
    "print(avgPressureHour)"
   ]
  },
  {
   "cell_type": "markdown",
   "id": "c22e15a4-422c-4258-b1c6-b2f9eb01580b",
   "metadata": {},
   "source": [
    "## Anomaly Detection (Simple): "
   ]
  },
  {
   "cell_type": "code",
   "execution_count": 19,
   "id": "56a7fd12-8611-40be-a4c7-20706bdb1716",
   "metadata": {},
   "outputs": [
    {
     "name": "stdout",
     "output_type": "stream",
     "text": [
      "[   2    5    7    9   12   15   16   17   22   31   34   37   40   44\n",
      "   47   53   55   56   58   62   65   71   73   79   83   87   89   93\n",
      "  101  103  105  106  111  112  113  124  125  126  128  129  133  148\n",
      "  158  189  199  203  205  212  213  221  225  226  230  238  240  243\n",
      "  253  257  270  271  272  274  282  285  291  295  296  304  306  307\n",
      "  313  323  324  325  332  338  349  351  352  355  358  364  372  384\n",
      "  389  395  396  399  402  405  407  414  415  422  424  429  433  435\n",
      "  439  452  467  482  484  488  491  500  502  505  508  509  510  512\n",
      "  515  516  520  527  529  543  546  559  561  570  578  581  584  589\n",
      "  593  595  600  614  615  620  625  629  635  647  650  655  657  658\n",
      "  668  673  674  677  679  684  688  691  694  699  711  721  729  740\n",
      "  743  746  749  750  752  755  758  761  762  764  771  773  775  777\n",
      "  778  779  783  784  790  792  794  805  809  811  814  818  819  823\n",
      "  824  825  828  835  836  840  841  849  855  857  858  865  871  872\n",
      "  877  878  882  891  896  902  904  905  910  923  924  931  955  956\n",
      "  965  968  969  980  981  992  993  999 1001 1003 1004 1019 1020 1023\n",
      " 1036 1042 1051 1053 1060 1063 1075 1078 1079 1081 1082 1096 1097 1098\n",
      " 1099 1104 1106 1121 1126 1130 1134 1135 1154 1159 1163 1166 1172 1181\n",
      " 1182 1185 1190 1191 1192 1194 1203 1204 1220 1223 1224 1237 1239 1243\n",
      " 1245 1246 1247 1251 1253 1259 1262 1265 1267 1271 1280 1282 1284 1287\n",
      " 1288 1300 1301 1304 1309 1310 1313 1324 1326 1332 1334 1347 1348 1361\n",
      " 1362 1363 1365 1373 1374 1379 1385 1387 1392 1400 1404 1411 1417 1418\n",
      " 1421 1422 1427 1431 1434 1439]\n",
      "314\n"
     ]
    }
   ],
   "source": [
    "threshold = 25\n",
    "highTemp = np.where(temperature > threshold)[0]\n",
    "numOfhighTemp = len(highTemp)\n",
    "print(highTemp)\n",
    "print(numOfhighTemp)"
   ]
  },
  {
   "cell_type": "code",
   "execution_count": 20,
   "id": "4328b7a2-2055-49f3-af4a-a90344bfa73c",
   "metadata": {},
   "outputs": [
    {
     "name": "stdout",
     "output_type": "stream",
     "text": [
      "851\n",
      "851\n"
     ]
    }
   ],
   "source": [
    "minTempIndex = np.argmin(temperature)\n",
    "print(minTempIndex)\n",
    "minTempTime = timeMints[minTempIndex]\n",
    "print(minTempTime)"
   ]
  },
  {
   "cell_type": "markdown",
   "id": "c10adb45-0d16-45fe-875e-91182fa58c38",
   "metadata": {},
   "source": [
    "## Data Export (Optional): "
   ]
  },
  {
   "cell_type": "code",
   "execution_count": 21,
   "id": "e6614381-d21e-42ee-a2ca-e92056cdc236",
   "metadata": {},
   "outputs": [],
   "source": [
    "header = \"Time,Temperature,Humidity,Pressure\"\n",
    "np.savetxt(\"SmartBuildingData.csv\", data, delimiter=\",\", header=header, comments='', fmt='%.2f')"
   ]
  },
  {
   "cell_type": "code",
   "execution_count": null,
   "id": "c078aa34-3cab-41df-a717-5c2648d74ee3",
   "metadata": {},
   "outputs": [],
   "source": []
  }
 ],
 "metadata": {
  "kernelspec": {
   "display_name": "Python [conda env:base] *",
   "language": "python",
   "name": "conda-base-py"
  },
  "language_info": {
   "codemirror_mode": {
    "name": "ipython",
    "version": 3
   },
   "file_extension": ".py",
   "mimetype": "text/x-python",
   "name": "python",
   "nbconvert_exporter": "python",
   "pygments_lexer": "ipython3",
   "version": "3.13.5"
  }
 },
 "nbformat": 4,
 "nbformat_minor": 5
}
