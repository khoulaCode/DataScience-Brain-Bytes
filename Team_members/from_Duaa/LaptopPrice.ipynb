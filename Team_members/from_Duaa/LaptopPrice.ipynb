{
 "cells": [
  {
   "cell_type": "markdown",
   "id": "55d66000-cfc6-4ea6-bd69-3351ae2accbc",
   "metadata": {},
   "source": [
    "## Uncleaned Laptop Price dataset"
   ]
  },
  {
   "cell_type": "code",
   "execution_count": 33,
   "id": "c25cd3ff-9152-4933-93e2-884bedfeba72",
   "metadata": {},
   "outputs": [],
   "source": [
    "import numpy as np\n",
    "import pandas as pd\n",
    "import matplotlib.pyplot as plt\n",
    "from sklearn.preprocessing import LabelEncoder, OneHotEncoder\n",
    "from sklearn.preprocessing import StandardScaler, MinMaxScaler"
   ]
  },
  {
   "cell_type": "code",
   "execution_count": 3,
   "id": "59f81d77-ef4b-4bd7-bb2e-a9c96f1e99ee",
   "metadata": {},
   "outputs": [],
   "source": [
    "df = pd.read_csv('laptopData.csv')"
   ]
  },
  {
   "cell_type": "code",
   "execution_count": 4,
   "id": "825f6f63-fdb3-4b97-b4ff-3faebe9df0ac",
   "metadata": {},
   "outputs": [
    {
     "name": "stdout",
     "output_type": "stream",
     "text": [
      "<class 'pandas.core.frame.DataFrame'>\n",
      "RangeIndex: 1303 entries, 0 to 1302\n",
      "Data columns (total 12 columns):\n",
      " #   Column            Non-Null Count  Dtype  \n",
      "---  ------            --------------  -----  \n",
      " 0   Unnamed: 0        1273 non-null   float64\n",
      " 1   Company           1273 non-null   object \n",
      " 2   TypeName          1273 non-null   object \n",
      " 3   Inches            1273 non-null   object \n",
      " 4   ScreenResolution  1273 non-null   object \n",
      " 5   Cpu               1273 non-null   object \n",
      " 6   Ram               1273 non-null   object \n",
      " 7   Memory            1273 non-null   object \n",
      " 8   Gpu               1273 non-null   object \n",
      " 9   OpSys             1273 non-null   object \n",
      " 10  Weight            1273 non-null   object \n",
      " 11  Price             1273 non-null   float64\n",
      "dtypes: float64(2), object(10)\n",
      "memory usage: 122.3+ KB\n",
      "None\n"
     ]
    }
   ],
   "source": [
    "print(df.info())"
   ]
  },
  {
   "cell_type": "code",
   "execution_count": 5,
   "id": "366198d0-71ff-4d2b-99a8-06a7ec063833",
   "metadata": {},
   "outputs": [
    {
     "name": "stdout",
     "output_type": "stream",
     "text": [
      "   Unnamed: 0 Company   TypeName Inches                    ScreenResolution  \\\n",
      "0         0.0   Apple  Ultrabook   13.3  IPS Panel Retina Display 2560x1600   \n",
      "1         1.0   Apple  Ultrabook   13.3                            1440x900   \n",
      "2         2.0      HP   Notebook   15.6                   Full HD 1920x1080   \n",
      "3         3.0   Apple  Ultrabook   15.4  IPS Panel Retina Display 2880x1800   \n",
      "4         4.0   Apple  Ultrabook   13.3  IPS Panel Retina Display 2560x1600   \n",
      "\n",
      "                          Cpu   Ram               Memory  \\\n",
      "0        Intel Core i5 2.3GHz   8GB            128GB SSD   \n",
      "1        Intel Core i5 1.8GHz   8GB  128GB Flash Storage   \n",
      "2  Intel Core i5 7200U 2.5GHz   8GB            256GB SSD   \n",
      "3        Intel Core i7 2.7GHz  16GB            512GB SSD   \n",
      "4        Intel Core i5 3.1GHz   8GB            256GB SSD   \n",
      "\n",
      "                            Gpu  OpSys  Weight        Price  \n",
      "0  Intel Iris Plus Graphics 640  macOS  1.37kg   71378.6832  \n",
      "1        Intel HD Graphics 6000  macOS  1.34kg   47895.5232  \n",
      "2         Intel HD Graphics 620  No OS  1.86kg   30636.0000  \n",
      "3            AMD Radeon Pro 455  macOS  1.83kg  135195.3360  \n",
      "4  Intel Iris Plus Graphics 650  macOS  1.37kg   96095.8080  \n"
     ]
    }
   ],
   "source": [
    "print(df.head())"
   ]
  },
  {
   "cell_type": "code",
   "execution_count": 6,
   "id": "51261bfd-d3cb-4ab2-b7b6-584af6af40a1",
   "metadata": {},
   "outputs": [
    {
     "name": "stdout",
     "output_type": "stream",
     "text": [
      "Unnamed: 0          30\n",
      "Company             30\n",
      "TypeName            30\n",
      "Inches              30\n",
      "ScreenResolution    30\n",
      "Cpu                 30\n",
      "Ram                 30\n",
      "Memory              30\n",
      "Gpu                 30\n",
      "OpSys               30\n",
      "Weight              30\n",
      "Price               30\n",
      "dtype: int64\n"
     ]
    }
   ],
   "source": [
    "print(df.isnull().sum())"
   ]
  },
  {
   "cell_type": "code",
   "execution_count": 7,
   "id": "4d3499c6-dfc3-4782-88fa-9b291f6264a6",
   "metadata": {},
   "outputs": [
    {
     "name": "stdout",
     "output_type": "stream",
     "text": [
      "        Unnamed: 0          Price\n",
      "count  1273.000000    1273.000000\n",
      "mean    652.674784   59955.814073\n",
      "std     376.493027   37332.251005\n",
      "min       0.000000    9270.720000\n",
      "25%     327.000000   31914.720000\n",
      "50%     652.000000   52161.120000\n",
      "75%     980.000000   79333.387200\n",
      "max    1302.000000  324954.720000\n"
     ]
    }
   ],
   "source": [
    "print(df.describe())"
   ]
  },
  {
   "cell_type": "code",
   "execution_count": 8,
   "id": "024fd62b-e3cb-4d6d-a994-29b66b046fd1",
   "metadata": {},
   "outputs": [
    {
     "name": "stdout",
     "output_type": "stream",
     "text": [
      "Unnamed: 0          float64\n",
      "Company              object\n",
      "TypeName             object\n",
      "Inches               object\n",
      "ScreenResolution     object\n",
      "Cpu                  object\n",
      "Ram                  object\n",
      "Memory               object\n",
      "Gpu                  object\n",
      "OpSys                object\n",
      "Weight               object\n",
      "Price               float64\n",
      "dtype: object\n"
     ]
    }
   ],
   "source": [
    "print(df.dtypes)"
   ]
  },
  {
   "cell_type": "markdown",
   "id": "33db426a-460a-4872-9346-b3ca5d406e4a",
   "metadata": {},
   "source": [
    "## Remove/Handle Missing Values"
   ]
  },
  {
   "cell_type": "code",
   "execution_count": 9,
   "id": "d7a2ba55-13f4-49c3-8f3f-fa9da81686f0",
   "metadata": {},
   "outputs": [
    {
     "name": "stdout",
     "output_type": "stream",
     "text": [
      "Missing values before cleaning:\n",
      "Unnamed: 0          30\n",
      "Company             30\n",
      "TypeName            30\n",
      "Inches              30\n",
      "ScreenResolution    30\n",
      "Cpu                 30\n",
      "Ram                 30\n",
      "Memory              30\n",
      "Gpu                 30\n",
      "OpSys               30\n",
      "Weight              30\n",
      "Price               30\n",
      "dtype: int64\n"
     ]
    }
   ],
   "source": [
    "print(\"Missing values before cleaning:\")\n",
    "print(df.isnull().sum())"
   ]
  },
  {
   "cell_type": "code",
   "execution_count": 10,
   "id": "595ada3f-3247-4002-b6d5-a79d9adbe8ab",
   "metadata": {},
   "outputs": [],
   "source": [
    "missingT = 0.7 * len(df)\n",
    "df = df.dropna(thresh=missingT, axis=1)"
   ]
  },
  {
   "cell_type": "code",
   "execution_count": 11,
   "id": "909deb3e-865a-42af-ac89-945774a1bc8c",
   "metadata": {},
   "outputs": [
    {
     "name": "stderr",
     "output_type": "stream",
     "text": [
      "C:\\Users\\DuaaHilal\\AppData\\Local\\Temp\\ipykernel_26260\\931474853.py:3: FutureWarning: A value is trying to be set on a copy of a DataFrame or Series through chained assignment using an inplace method.\n",
      "The behavior will change in pandas 3.0. This inplace method will never work because the intermediate object on which we are setting values always behaves as a copy.\n",
      "\n",
      "For example, when doing 'df[col].method(value, inplace=True)', try using 'df.method({col: value}, inplace=True)' or df[col] = df[col].method(value) instead, to perform the operation inplace on the original object.\n",
      "\n",
      "\n",
      "  df[col].fillna(df[col].median(), inplace=True)\n"
     ]
    }
   ],
   "source": [
    "numericalC = df.select_dtypes(include=['int64', 'float64']).columns\n",
    "for col in numericalC:\n",
    "    df[col].fillna(df[col].median(), inplace=True)"
   ]
  },
  {
   "cell_type": "code",
   "execution_count": 12,
   "id": "f5d9fdb3-a8b9-4f4d-9e17-75e651a35adb",
   "metadata": {},
   "outputs": [
    {
     "name": "stderr",
     "output_type": "stream",
     "text": [
      "C:\\Users\\DuaaHilal\\AppData\\Local\\Temp\\ipykernel_26260\\2022154998.py:3: FutureWarning: A value is trying to be set on a copy of a DataFrame or Series through chained assignment using an inplace method.\n",
      "The behavior will change in pandas 3.0. This inplace method will never work because the intermediate object on which we are setting values always behaves as a copy.\n",
      "\n",
      "For example, when doing 'df[col].method(value, inplace=True)', try using 'df.method({col: value}, inplace=True)' or df[col] = df[col].method(value) instead, to perform the operation inplace on the original object.\n",
      "\n",
      "\n",
      "  df[col].fillna(df[col].mode()[0], inplace=True)\n"
     ]
    }
   ],
   "source": [
    "categoricalC = df.select_dtypes(include=['object']).columns\n",
    "for col in categoricalC:\n",
    "    df[col].fillna(df[col].mode()[0], inplace=True)"
   ]
  },
  {
   "cell_type": "code",
   "execution_count": 13,
   "id": "a54f8341-8f04-4862-b270-807587e594c9",
   "metadata": {},
   "outputs": [
    {
     "name": "stdout",
     "output_type": "stream",
     "text": [
      "\n",
      "Missing values after cleaning:\n",
      "Unnamed: 0          0\n",
      "Company             0\n",
      "TypeName            0\n",
      "Inches              0\n",
      "ScreenResolution    0\n",
      "Cpu                 0\n",
      "Ram                 0\n",
      "Memory              0\n",
      "Gpu                 0\n",
      "OpSys               0\n",
      "Weight              0\n",
      "Price               0\n",
      "dtype: int64\n"
     ]
    }
   ],
   "source": [
    "print(\"\\nMissing values after cleaning:\")\n",
    "print(df.isnull().sum())"
   ]
  },
  {
   "cell_type": "markdown",
   "id": "ee9e1950-9e75-435c-a225-8dfb8fea66a7",
   "metadata": {},
   "source": [
    "## Remove Duplicated Values"
   ]
  },
  {
   "cell_type": "code",
   "execution_count": 14,
   "id": "de3b1534-78d3-434e-829e-49824540a760",
   "metadata": {},
   "outputs": [
    {
     "name": "stdout",
     "output_type": "stream",
     "text": [
      "Before removing duplicates: (1303, 12)\n"
     ]
    }
   ],
   "source": [
    "print(f\"Before removing duplicates: {df.shape}\")"
   ]
  },
  {
   "cell_type": "code",
   "execution_count": 15,
   "id": "bd791225-70ca-4d50-9e05-47f897809f45",
   "metadata": {},
   "outputs": [],
   "source": [
    "df.drop_duplicates(inplace=True)"
   ]
  },
  {
   "cell_type": "code",
   "execution_count": 18,
   "id": "11b7ab69-3115-4808-aa56-cf3f341bcc5d",
   "metadata": {},
   "outputs": [],
   "source": [
    "df.sort_values('TypeName', inplace=True)\n",
    "df.drop_duplicates(subset=['TypeName', 'Price'], keep='first', inplace=True)"
   ]
  },
  {
   "cell_type": "code",
   "execution_count": 19,
   "id": "1bba576a-6a84-44ab-9a80-e580f7737055",
   "metadata": {},
   "outputs": [
    {
     "name": "stdout",
     "output_type": "stream",
     "text": [
      "After removing duplicates: (934, 12)\n"
     ]
    }
   ],
   "source": [
    "print(f\"After removing duplicates: {df.shape}\")"
   ]
  },
  {
   "cell_type": "markdown",
   "id": "3c451e17-32e3-4fc9-8591-11a1f7ce1921",
   "metadata": {},
   "source": [
    "## Drop Unnecessary Columns"
   ]
  },
  {
   "cell_type": "code",
   "execution_count": 20,
   "id": "eeb99ebb-787d-475b-adaa-6695fb6a7410",
   "metadata": {},
   "outputs": [
    {
     "name": "stdout",
     "output_type": "stream",
     "text": [
      "Index(['Unnamed: 0', 'Company', 'TypeName', 'Inches', 'ScreenResolution',\n",
      "       'Cpu', 'Ram', 'Memory', 'Gpu', 'OpSys', 'Weight', 'Price'],\n",
      "      dtype='object')\n"
     ]
    }
   ],
   "source": [
    "print(df.columns)"
   ]
  },
  {
   "cell_type": "code",
   "execution_count": 21,
   "id": "71a5e348-abd1-472f-b409-b84cb8cade5d",
   "metadata": {},
   "outputs": [],
   "source": [
    "columnsDrop = ['Unnamed: 0', 'Company']\n",
    "df.drop(columns=[col for col in columnsDrop if col in df.columns], inplace=True)"
   ]
  },
  {
   "cell_type": "code",
   "execution_count": 22,
   "id": "f16b4c74-d036-4470-940f-1bde91f7246d",
   "metadata": {},
   "outputs": [
    {
     "name": "stdout",
     "output_type": "stream",
     "text": [
      "Index(['TypeName', 'Inches', 'ScreenResolution', 'Cpu', 'Ram', 'Memory', 'Gpu',\n",
      "       'OpSys', 'Weight', 'Price'],\n",
      "      dtype='object')\n"
     ]
    }
   ],
   "source": [
    "print(df.columns)"
   ]
  },
  {
   "cell_type": "markdown",
   "id": "b74f5a82-6ce6-4cde-99cf-4d2bd96545a7",
   "metadata": {},
   "source": [
    "## Encoding Categorical Variables"
   ]
  },
  {
   "cell_type": "code",
   "execution_count": 30,
   "id": "947b416e-ddb6-4ba7-92d8-009a177e8f29",
   "metadata": {},
   "outputs": [],
   "source": [
    "label_encoder = LabelEncoder()\n",
    "ordinal_cols = ['Memory']  \n",
    "for col in ordinal_cols:\n",
    "    df[col+'_encoded'] = label_encoder.fit_transform(df[col])"
   ]
  },
  {
   "cell_type": "code",
   "execution_count": 31,
   "id": "4fd8b711-4e5f-41ee-9c8e-e9256ac751b2",
   "metadata": {},
   "outputs": [],
   "source": [
    "nominal_cols = ['TypeName', 'Ram', 'Inches']\n",
    "df = pd.get_dummies(df, columns=nominal_cols, drop_first=True)"
   ]
  },
  {
   "cell_type": "code",
   "execution_count": 32,
   "id": "edd449cb-3606-4543-8697-91c80f52afe7",
   "metadata": {},
   "outputs": [
    {
     "name": "stdout",
     "output_type": "stream",
     "text": [
      "\n",
      "Encoded columns:\n",
      "Index(['Memory_encoded', 'TypeName_Gaming', 'TypeName_Netbook',\n",
      "       'TypeName_Notebook', 'TypeName_Ultrabook', 'TypeName_Workstation',\n",
      "       'Ram_16GB', 'Ram_24GB', 'Ram_2GB', 'Ram_32GB', 'Ram_4GB', 'Ram_64GB',\n",
      "       'Ram_6GB', 'Ram_8GB', 'Inches_11.6', 'Inches_12', 'Inches_12.3',\n",
      "       'Inches_12.5', 'Inches_13.3', 'Inches_13.5', 'Inches_13.9', 'Inches_14',\n",
      "       'Inches_15', 'Inches_15.4', 'Inches_15.6', 'Inches_17', 'Inches_17.3',\n",
      "       'Inches_18.4', 'Inches_24', 'Inches_25.6', 'Inches_31.6', 'Inches_35.6',\n",
      "       'Inches_?'],\n",
      "      dtype='object')\n"
     ]
    }
   ],
   "source": [
    "print(\"\\nEncoded columns:\")\n",
    "print(df.filter(regex='_encoded|_').columns)"
   ]
  },
  {
   "cell_type": "markdown",
   "id": "f965b7cb-c2c9-448b-b3ab-19280afe4025",
   "metadata": {},
   "source": [
    "## Scaling Numerical Values"
   ]
  },
  {
   "cell_type": "code",
   "execution_count": 48,
   "id": "768ed9d8-28b6-44d0-a505-a0aa8fb66be9",
   "metadata": {},
   "outputs": [],
   "source": [
    "numerical_cols = ['Price', 'Weight']  "
   ]
  },
  {
   "cell_type": "code",
   "execution_count": 49,
   "id": "20344c96-4665-4993-b84b-fd16942278be",
   "metadata": {},
   "outputs": [
    {
     "ename": "ValueError",
     "evalue": "could not convert string to float: '?'",
     "output_type": "error",
     "traceback": [
      "\u001b[1;31m---------------------------------------------------------------------------\u001b[0m",
      "\u001b[1;31mValueError\u001b[0m                                Traceback (most recent call last)",
      "Cell \u001b[1;32mIn[49], line 1\u001b[0m\n\u001b[1;32m----> 1\u001b[0m df[\u001b[38;5;124m'\u001b[39m\u001b[38;5;124mWeight\u001b[39m\u001b[38;5;124m'\u001b[39m] \u001b[38;5;241m=\u001b[39m df[\u001b[38;5;124m'\u001b[39m\u001b[38;5;124mWeight\u001b[39m\u001b[38;5;124m'\u001b[39m]\u001b[38;5;241m.\u001b[39mstr\u001b[38;5;241m.\u001b[39mreplace(\u001b[38;5;124m'\u001b[39m\u001b[38;5;124mkg\u001b[39m\u001b[38;5;124m'\u001b[39m, \u001b[38;5;124m'\u001b[39m\u001b[38;5;124m'\u001b[39m)\u001b[38;5;241m.\u001b[39mastype(\u001b[38;5;28mfloat\u001b[39m)\n",
      "File \u001b[1;32m~\\anaconda3\\Lib\\site-packages\\pandas\\core\\generic.py:6643\u001b[0m, in \u001b[0;36mNDFrame.astype\u001b[1;34m(self, dtype, copy, errors)\u001b[0m\n\u001b[0;32m   6637\u001b[0m     results \u001b[38;5;241m=\u001b[39m [\n\u001b[0;32m   6638\u001b[0m         ser\u001b[38;5;241m.\u001b[39mastype(dtype, copy\u001b[38;5;241m=\u001b[39mcopy, errors\u001b[38;5;241m=\u001b[39merrors) \u001b[38;5;28;01mfor\u001b[39;00m _, ser \u001b[38;5;129;01min\u001b[39;00m \u001b[38;5;28mself\u001b[39m\u001b[38;5;241m.\u001b[39mitems()\n\u001b[0;32m   6639\u001b[0m     ]\n\u001b[0;32m   6641\u001b[0m \u001b[38;5;28;01melse\u001b[39;00m:\n\u001b[0;32m   6642\u001b[0m     \u001b[38;5;66;03m# else, only a single dtype is given\u001b[39;00m\n\u001b[1;32m-> 6643\u001b[0m     new_data \u001b[38;5;241m=\u001b[39m \u001b[38;5;28mself\u001b[39m\u001b[38;5;241m.\u001b[39m_mgr\u001b[38;5;241m.\u001b[39mastype(dtype\u001b[38;5;241m=\u001b[39mdtype, copy\u001b[38;5;241m=\u001b[39mcopy, errors\u001b[38;5;241m=\u001b[39merrors)\n\u001b[0;32m   6644\u001b[0m     res \u001b[38;5;241m=\u001b[39m \u001b[38;5;28mself\u001b[39m\u001b[38;5;241m.\u001b[39m_constructor_from_mgr(new_data, axes\u001b[38;5;241m=\u001b[39mnew_data\u001b[38;5;241m.\u001b[39maxes)\n\u001b[0;32m   6645\u001b[0m     \u001b[38;5;28;01mreturn\u001b[39;00m res\u001b[38;5;241m.\u001b[39m__finalize__(\u001b[38;5;28mself\u001b[39m, method\u001b[38;5;241m=\u001b[39m\u001b[38;5;124m\"\u001b[39m\u001b[38;5;124mastype\u001b[39m\u001b[38;5;124m\"\u001b[39m)\n",
      "File \u001b[1;32m~\\anaconda3\\Lib\\site-packages\\pandas\\core\\internals\\managers.py:430\u001b[0m, in \u001b[0;36mBaseBlockManager.astype\u001b[1;34m(self, dtype, copy, errors)\u001b[0m\n\u001b[0;32m    427\u001b[0m \u001b[38;5;28;01melif\u001b[39;00m using_copy_on_write():\n\u001b[0;32m    428\u001b[0m     copy \u001b[38;5;241m=\u001b[39m \u001b[38;5;28;01mFalse\u001b[39;00m\n\u001b[1;32m--> 430\u001b[0m \u001b[38;5;28;01mreturn\u001b[39;00m \u001b[38;5;28mself\u001b[39m\u001b[38;5;241m.\u001b[39mapply(\n\u001b[0;32m    431\u001b[0m     \u001b[38;5;124m\"\u001b[39m\u001b[38;5;124mastype\u001b[39m\u001b[38;5;124m\"\u001b[39m,\n\u001b[0;32m    432\u001b[0m     dtype\u001b[38;5;241m=\u001b[39mdtype,\n\u001b[0;32m    433\u001b[0m     copy\u001b[38;5;241m=\u001b[39mcopy,\n\u001b[0;32m    434\u001b[0m     errors\u001b[38;5;241m=\u001b[39merrors,\n\u001b[0;32m    435\u001b[0m     using_cow\u001b[38;5;241m=\u001b[39musing_copy_on_write(),\n\u001b[0;32m    436\u001b[0m )\n",
      "File \u001b[1;32m~\\anaconda3\\Lib\\site-packages\\pandas\\core\\internals\\managers.py:363\u001b[0m, in \u001b[0;36mBaseBlockManager.apply\u001b[1;34m(self, f, align_keys, **kwargs)\u001b[0m\n\u001b[0;32m    361\u001b[0m         applied \u001b[38;5;241m=\u001b[39m b\u001b[38;5;241m.\u001b[39mapply(f, \u001b[38;5;241m*\u001b[39m\u001b[38;5;241m*\u001b[39mkwargs)\n\u001b[0;32m    362\u001b[0m     \u001b[38;5;28;01melse\u001b[39;00m:\n\u001b[1;32m--> 363\u001b[0m         applied \u001b[38;5;241m=\u001b[39m \u001b[38;5;28mgetattr\u001b[39m(b, f)(\u001b[38;5;241m*\u001b[39m\u001b[38;5;241m*\u001b[39mkwargs)\n\u001b[0;32m    364\u001b[0m     result_blocks \u001b[38;5;241m=\u001b[39m extend_blocks(applied, result_blocks)\n\u001b[0;32m    366\u001b[0m out \u001b[38;5;241m=\u001b[39m \u001b[38;5;28mtype\u001b[39m(\u001b[38;5;28mself\u001b[39m)\u001b[38;5;241m.\u001b[39mfrom_blocks(result_blocks, \u001b[38;5;28mself\u001b[39m\u001b[38;5;241m.\u001b[39maxes)\n",
      "File \u001b[1;32m~\\anaconda3\\Lib\\site-packages\\pandas\\core\\internals\\blocks.py:758\u001b[0m, in \u001b[0;36mBlock.astype\u001b[1;34m(self, dtype, copy, errors, using_cow, squeeze)\u001b[0m\n\u001b[0;32m    755\u001b[0m         \u001b[38;5;28;01mraise\u001b[39;00m \u001b[38;5;167;01mValueError\u001b[39;00m(\u001b[38;5;124m\"\u001b[39m\u001b[38;5;124mCan not squeeze with more than one column.\u001b[39m\u001b[38;5;124m\"\u001b[39m)\n\u001b[0;32m    756\u001b[0m     values \u001b[38;5;241m=\u001b[39m values[\u001b[38;5;241m0\u001b[39m, :]  \u001b[38;5;66;03m# type: ignore[call-overload]\u001b[39;00m\n\u001b[1;32m--> 758\u001b[0m new_values \u001b[38;5;241m=\u001b[39m astype_array_safe(values, dtype, copy\u001b[38;5;241m=\u001b[39mcopy, errors\u001b[38;5;241m=\u001b[39merrors)\n\u001b[0;32m    760\u001b[0m new_values \u001b[38;5;241m=\u001b[39m maybe_coerce_values(new_values)\n\u001b[0;32m    762\u001b[0m refs \u001b[38;5;241m=\u001b[39m \u001b[38;5;28;01mNone\u001b[39;00m\n",
      "File \u001b[1;32m~\\anaconda3\\Lib\\site-packages\\pandas\\core\\dtypes\\astype.py:237\u001b[0m, in \u001b[0;36mastype_array_safe\u001b[1;34m(values, dtype, copy, errors)\u001b[0m\n\u001b[0;32m    234\u001b[0m     dtype \u001b[38;5;241m=\u001b[39m dtype\u001b[38;5;241m.\u001b[39mnumpy_dtype\n\u001b[0;32m    236\u001b[0m \u001b[38;5;28;01mtry\u001b[39;00m:\n\u001b[1;32m--> 237\u001b[0m     new_values \u001b[38;5;241m=\u001b[39m astype_array(values, dtype, copy\u001b[38;5;241m=\u001b[39mcopy)\n\u001b[0;32m    238\u001b[0m \u001b[38;5;28;01mexcept\u001b[39;00m (\u001b[38;5;167;01mValueError\u001b[39;00m, \u001b[38;5;167;01mTypeError\u001b[39;00m):\n\u001b[0;32m    239\u001b[0m     \u001b[38;5;66;03m# e.g. _astype_nansafe can fail on object-dtype of strings\u001b[39;00m\n\u001b[0;32m    240\u001b[0m     \u001b[38;5;66;03m#  trying to convert to float\u001b[39;00m\n\u001b[0;32m    241\u001b[0m     \u001b[38;5;28;01mif\u001b[39;00m errors \u001b[38;5;241m==\u001b[39m \u001b[38;5;124m\"\u001b[39m\u001b[38;5;124mignore\u001b[39m\u001b[38;5;124m\"\u001b[39m:\n",
      "File \u001b[1;32m~\\anaconda3\\Lib\\site-packages\\pandas\\core\\dtypes\\astype.py:182\u001b[0m, in \u001b[0;36mastype_array\u001b[1;34m(values, dtype, copy)\u001b[0m\n\u001b[0;32m    179\u001b[0m     values \u001b[38;5;241m=\u001b[39m values\u001b[38;5;241m.\u001b[39mastype(dtype, copy\u001b[38;5;241m=\u001b[39mcopy)\n\u001b[0;32m    181\u001b[0m \u001b[38;5;28;01melse\u001b[39;00m:\n\u001b[1;32m--> 182\u001b[0m     values \u001b[38;5;241m=\u001b[39m _astype_nansafe(values, dtype, copy\u001b[38;5;241m=\u001b[39mcopy)\n\u001b[0;32m    184\u001b[0m \u001b[38;5;66;03m# in pandas we don't store numpy str dtypes, so convert to object\u001b[39;00m\n\u001b[0;32m    185\u001b[0m \u001b[38;5;28;01mif\u001b[39;00m \u001b[38;5;28misinstance\u001b[39m(dtype, np\u001b[38;5;241m.\u001b[39mdtype) \u001b[38;5;129;01mand\u001b[39;00m \u001b[38;5;28missubclass\u001b[39m(values\u001b[38;5;241m.\u001b[39mdtype\u001b[38;5;241m.\u001b[39mtype, \u001b[38;5;28mstr\u001b[39m):\n",
      "File \u001b[1;32m~\\anaconda3\\Lib\\site-packages\\pandas\\core\\dtypes\\astype.py:133\u001b[0m, in \u001b[0;36m_astype_nansafe\u001b[1;34m(arr, dtype, copy, skipna)\u001b[0m\n\u001b[0;32m    129\u001b[0m     \u001b[38;5;28;01mraise\u001b[39;00m \u001b[38;5;167;01mValueError\u001b[39;00m(msg)\n\u001b[0;32m    131\u001b[0m \u001b[38;5;28;01mif\u001b[39;00m copy \u001b[38;5;129;01mor\u001b[39;00m arr\u001b[38;5;241m.\u001b[39mdtype \u001b[38;5;241m==\u001b[39m \u001b[38;5;28mobject\u001b[39m \u001b[38;5;129;01mor\u001b[39;00m dtype \u001b[38;5;241m==\u001b[39m \u001b[38;5;28mobject\u001b[39m:\n\u001b[0;32m    132\u001b[0m     \u001b[38;5;66;03m# Explicit copy, or required since NumPy can't view from / to object.\u001b[39;00m\n\u001b[1;32m--> 133\u001b[0m     \u001b[38;5;28;01mreturn\u001b[39;00m arr\u001b[38;5;241m.\u001b[39mastype(dtype, copy\u001b[38;5;241m=\u001b[39m\u001b[38;5;28;01mTrue\u001b[39;00m)\n\u001b[0;32m    135\u001b[0m \u001b[38;5;28;01mreturn\u001b[39;00m arr\u001b[38;5;241m.\u001b[39mastype(dtype, copy\u001b[38;5;241m=\u001b[39mcopy)\n",
      "\u001b[1;31mValueError\u001b[0m: could not convert string to float: '?'"
     ]
    }
   ],
   "source": [
    "df['Weight'] = df['Weight'].str.replace('kg', '').astype(float)"
   ]
  },
  {
   "cell_type": "code",
   "execution_count": 50,
   "id": "40c4f43c-f70b-4215-ac37-15e326967a69",
   "metadata": {},
   "outputs": [
    {
     "name": "stdout",
     "output_type": "stream",
     "text": [
      "Unique values in Weight column before cleaning:\n",
      "['1.28kg' '1.38kg' '1.71kg' '1.8kg' '1.3kg' '2.08kg' '0.69kg' '1.63kg'\n",
      " '1.4kg' '1.5kg' '2.19kg' '1.62kg' '1.22kg' '1.29kg' '2.26kg' '1.25kg'\n",
      " '1.45kg' '1.2kg' '1.42kg' '1.37kg' '2.77kg' '1.1kg' '1.55kg' '1.34kg'\n",
      " '1.39kg' '2.2kg' '1.24kg' '1.58kg' '1.36kg' '1.48kg' '1.27kg' '1.56kg'\n",
      " '1.74kg' '1.6kg' '1.16kg' '2.67kg' '2kg' '2.1kg' '2.3kg' '2.09kg' '2.8kg'\n",
      " '3kg' '2.9kg' '2.7kg' '2.59kg' '2.45kg' '2.34kg' '3.31kg' '2.43kg'\n",
      " '1.91kg' '2.4kg' '2.62kg' '2.65kg' '4.4kg' '3.2kg' '1.95kg' '2.56kg'\n",
      " '3.35kg' '4.42kg' '4.6kg' '4.14kg' '4.5kg' '3.58kg' '3.49kg' '2.5kg'\n",
      " '4.7kg' '3.6kg' '4.3kg' '3.78kg' '1.7kg' '4.2kg' '4.0kg' '3.52kg' '2.6kg'\n",
      " '2.591kg' '2.94kg' '2.73kg' '4kg' '3.25kg' '3.21kg' '4.36kg' '4.33kg'\n",
      " '1.99kg' '2.24kg' '1.26kg' '1.17kg' '0.97kg' '1.35kg' '1.59kg' '1.23kg'\n",
      " '1.86kg' '1.44kg' '1.49kg' '1.89kg' '2.71kg' '1.9kg' '2.13kg' '1.96kg'\n",
      " '2.02kg' '1.65kg' '2.0kg' '2.06kg' '1.90kg' '1.85kg' '2.03kg' '2.16kg'\n",
      " '5.4kg' '2.33kg' '2.36kg' '2.37kg' '5.8kg' '7.2kg' '2.69kg' '2.04kg'\n",
      " '1.68kg' '1.84kg' '2.23kg' '2.05kg' '1.64kg' '1.43kg' '1.93kg' '1.79kg'\n",
      " '1.88kg' '2.14kg' '6.2kg' '2.18kg' '1.15kg' '1.75kg' '1.87kg' '2.15kg'\n",
      " '3.4kg' '2.63kg' '1.05kg' '2.31kg' '2.25kg' '2.17kg' '2.20kg' '2.29kg'\n",
      " '2.32kg' '1.54kg' '1.70kg' '1.76kg' '1.98kg' '1.32kg' '1.47kg' '2.38kg'\n",
      " '2.21kg' '2.83kg' '1.13kg' '1.08kg' '0.98kg' '1.09kg' '0.0002kg' '1.10kg'\n",
      " '0.81kg' '1.41kg' '0.91kg' '0.920kg' '1.12kg' '?' '1.21kg' '1.83kg'\n",
      " '0.92kg' '1.252kg' '1.14kg' '11.1kg' '8.4kg' '3.0kg' '3.14kg' '1.78kg'\n",
      " '3.42kg']\n"
     ]
    }
   ],
   "source": [
    "print(\"Unique values in Weight column before cleaning:\")\n",
    "print(df['Weight'].unique())"
   ]
  },
  {
   "cell_type": "code",
   "execution_count": 52,
   "id": "dad4b368-3081-429d-8bf4-e655d47fc6d4",
   "metadata": {},
   "outputs": [],
   "source": [
    "medianWeight = df.loc[df['Weight'] != '?', 'Weight'].str.replace('kg', '').astype(float).median()\n",
    "df['Weight'] = df['Weight'].replace('?', f'{medianWeight}kg')"
   ]
  },
  {
   "cell_type": "code",
   "execution_count": 53,
   "id": "d2fcc25f-c75f-402a-ba97-83a2d6d06940",
   "metadata": {},
   "outputs": [],
   "source": [
    "df['Weight'] = df['Weight'].str.replace('kg', '').astype(float)"
   ]
  },
  {
   "cell_type": "code",
   "execution_count": 54,
   "id": "81f6c9f1-310a-4354-9612-290d1c3085f9",
   "metadata": {},
   "outputs": [
    {
     "name": "stdout",
     "output_type": "stream",
     "text": [
      "\n",
      "Weight column after cleaning:\n",
      "count    934.000000\n",
      "mean       2.072695\n",
      "std        0.850494\n",
      "min        0.000200\n",
      "25%        1.482500\n",
      "50%        2.000000\n",
      "75%        2.310000\n",
      "max       11.100000\n",
      "Name: Weight, dtype: float64\n"
     ]
    }
   ],
   "source": [
    "print(\"\\nWeight column after cleaning:\")\n",
    "print(df['Weight'].describe())"
   ]
  },
  {
   "cell_type": "code",
   "execution_count": 58,
   "id": "fd6c563f-dcfe-455d-98dc-645861c83c00",
   "metadata": {},
   "outputs": [],
   "source": [
    "X = pd.get_dummies(df.drop('Price', axis=1), drop_first=True)\n",
    "y = df['Price']"
   ]
  },
  {
   "cell_type": "code",
   "execution_count": 59,
   "id": "bd41254f-18cc-4936-a683-59a4c7408ea5",
   "metadata": {},
   "outputs": [
    {
     "name": "stdout",
     "output_type": "stream",
     "text": [
      "--- Linear Regression Results ---\n",
      "Mean Squared Error (MSE): 316641571.51\n",
      "R-squared (R2): 0.79\n"
     ]
    }
   ],
   "source": [
    "X_train, X_test, y_train, y_test = train_test_split(X, y, test_size=0.2, random_state=42)\n",
    "\n",
    "model = LinearRegression()\n",
    "model.fit(X_train, y_train)\n",
    "\n",
    "y_pred = model.predict(X_test)\n",
    "\n",
    "mse = mean_squared_error(y_test, y_pred)\n",
    "r2 = r2_score(y_test, y_pred)\n",
    "\n",
    "print(\"--- Linear Regression Results ---\")\n",
    "print(f\"Mean Squared Error (MSE): {mse:.2f}\")\n",
    "print(f\"R-squared (R2): {r2:.2f}\")"
   ]
  },
  {
   "cell_type": "code",
   "execution_count": null,
   "id": "e246edc9-2faf-4aa3-8fa5-a3a3a2530268",
   "metadata": {},
   "outputs": [],
   "source": []
  }
 ],
 "metadata": {
  "kernelspec": {
   "display_name": "Python [conda env:base] *",
   "language": "python",
   "name": "conda-base-py"
  },
  "language_info": {
   "codemirror_mode": {
    "name": "ipython",
    "version": 3
   },
   "file_extension": ".py",
   "mimetype": "text/x-python",
   "name": "python",
   "nbconvert_exporter": "python",
   "pygments_lexer": "ipython3",
   "version": "3.13.5"
  }
 },
 "nbformat": 4,
 "nbformat_minor": 5
}
