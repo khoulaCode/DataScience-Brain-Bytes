{
 "cells": [
  {
   "cell_type": "code",
   "execution_count": 9,
   "id": "71fd1de5-d850-49d4-a52f-e84585e65fdc",
   "metadata": {},
   "outputs": [],
   "source": [
    "import numpy as np"
   ]
  },
  {
   "cell_type": "markdown",
   "id": "c9f73fca-d112-479e-b166-ab6419728913",
   "metadata": {},
   "source": [
    "NumPy Practice"
   ]
  },
  {
   "cell_type": "markdown",
   "id": "48a41422-bb82-4e68-a99b-3bed7d3ebf93",
   "metadata": {},
   "source": [
    "Part 1: Array Creation and Properties"
   ]
  },
  {
   "cell_type": "markdown",
   "id": "0e06e33e-fdff-409e-882a-83a68750441f",
   "metadata": {},
   "source": [
    "1.Create a 1D array named arr1d with integers from 0 to 9."
   ]
  },
  {
   "cell_type": "code",
   "execution_count": 11,
   "id": "69a16a16-3279-4698-8058-55dda60f5144",
   "metadata": {},
   "outputs": [],
   "source": [
    "arr1d = np.arange(10)"
   ]
  },
  {
   "cell_type": "code",
   "execution_count": 12,
   "id": "217ca6ef-fbdf-4400-a709-1dd85f8deb9e",
   "metadata": {},
   "outputs": [
    {
     "name": "stdout",
     "output_type": "stream",
     "text": [
      "[0 1 2 3 4 5 6 7 8 9]\n"
     ]
    }
   ],
   "source": [
    "print(arr1d)"
   ]
  },
  {
   "cell_type": "markdown",
   "id": "4820fb26-63f0-4fb0-9953-4bd1b9a173ad",
   "metadata": {},
   "source": [
    "2.Create a 2D array named arr2d with shape (3, 3) filled with ones."
   ]
  },
  {
   "cell_type": "code",
   "execution_count": 13,
   "id": "be61be37-2935-4417-82c6-ec7061da7533",
   "metadata": {},
   "outputs": [],
   "source": [
    "arr2d = np.full((3,3),1)"
   ]
  },
  {
   "cell_type": "code",
   "execution_count": 14,
   "id": "300ecf57-40d9-49e3-ac2f-cb81914216e4",
   "metadata": {},
   "outputs": [
    {
     "name": "stdout",
     "output_type": "stream",
     "text": [
      "[[1 1 1]\n",
      " [1 1 1]\n",
      " [1 1 1]]\n"
     ]
    }
   ],
   "source": [
    "print(arr2d)"
   ]
  },
  {
   "cell_type": "markdown",
   "id": "9f122126-8fd7-4950-9b9c-ce4b055892fe",
   "metadata": {},
   "source": [
    "3.Create a 3x3 array named random_matrix with random floating-point numbers from a standard normal distribution."
   ]
  },
  {
   "cell_type": "code",
   "execution_count": 16,
   "id": "be3f6d68-cfd6-4341-9863-625a574736ad",
   "metadata": {},
   "outputs": [
    {
     "name": "stdout",
     "output_type": "stream",
     "text": [
      "[[-0.78685201  0.96743308  1.50151269]\n",
      " [-0.79476256  0.34361036 -0.94189946]\n",
      " [-0.68613309  1.43347857 -1.53288692]]\n"
     ]
    }
   ],
   "source": [
    "random_matrix = np.random.randn(3, 3)\n",
    "print(random_matrix)"
   ]
  },
  {
   "cell_type": "markdown",
   "id": "64c82c31-7317-4c17-a916-8e1f86d27fb9",
   "metadata": {},
   "source": [
    "4.Create an array named even_numbers containing even numbers from 10 to 50 (inclusive)."
   ]
  },
  {
   "cell_type": "code",
   "execution_count": 17,
   "id": "9bfd356c-5218-47ad-a84d-738ea7304cb1",
   "metadata": {},
   "outputs": [
    {
     "name": "stdout",
     "output_type": "stream",
     "text": [
      "[10 12 14 16 18 20 22 24 26 28 30 32 34 36 38 40 42 44 46 48 50]\n"
     ]
    }
   ],
   "source": [
    "even_numbers = np.arange(10, 51, 2)\n",
    "print(even_numbers)"
   ]
  },
  {
   "cell_type": "markdown",
   "id": "20dd3fb7-fd03-4086-a958-9bd21f2c7c84",
   "metadata": {},
   "source": [
    "5.Create an array named linspace_array containing 7 equally spaced numbers between 0 and 1 (inclusive)."
   ]
  },
  {
   "cell_type": "code",
   "execution_count": 18,
   "id": "79064074-9a5b-4231-ad45-ce6a6ca6505e",
   "metadata": {},
   "outputs": [
    {
     "name": "stdout",
     "output_type": "stream",
     "text": [
      "[0.         0.16666667 0.33333333 0.5        0.66666667 0.83333333\n",
      " 1.        ]\n"
     ]
    }
   ],
   "source": [
    "linspace_array = np.linspace(0, 1, 7)\n",
    "print(linspace_array)"
   ]
  },
  {
   "cell_type": "markdown",
   "id": "917043c8-a004-4d2d-a596-22b82815350d",
   "metadata": {},
   "source": [
    "6.Given arr = np.array([[1, 2, 3], [4, 5, 6]]), what is its shape, ndim, and dtype? Print them."
   ]
  },
  {
   "cell_type": "code",
   "execution_count": 19,
   "id": "efc9184b-85d2-47d5-bf45-ecb586033c35",
   "metadata": {},
   "outputs": [
    {
     "name": "stdout",
     "output_type": "stream",
     "text": [
      "Shape: (2, 3)\n",
      "Dimensions: 2\n",
      "Data type: int64\n"
     ]
    }
   ],
   "source": [
    "arr = np.array([[1, 2, 3], [4, 5, 6]])\n",
    "shape = arr.shape\n",
    "Dim = arr.ndim\n",
    "Dtype = arr.dtype\n",
    "print(\"Shape:\", shape)   \n",
    "print(\"Dimensions:\", Dim)  \n",
    "print(\"Data type:\", Dtype) "
   ]
  },
  {
   "cell_type": "markdown",
   "id": "9b281779-ae4a-4377-904e-db970db365c7",
   "metadata": {},
   "source": [
    "Part 2: Array Manipulation"
   ]
  },
  {
   "cell_type": "markdown",
   "id": "cf592f94-f2c4-4c29-a431-8fe28a536ace",
   "metadata": {},
   "source": [
    "1.Reshape arr1d (from Q1) into a 2x5 2D array. Name the new array reshaped_arr."
   ]
  },
  {
   "cell_type": "code",
   "execution_count": 20,
   "id": "f746f1a4-d132-4851-8b46-684ae4a0cfd9",
   "metadata": {},
   "outputs": [
    {
     "name": "stdout",
     "output_type": "stream",
     "text": [
      "[[0 1 2 3 4]\n",
      " [5 6 7 8 9]]\n"
     ]
    }
   ],
   "source": [
    "reshaped_arr = arr1d.reshape(2, 5)\n",
    "print(reshaped_arr)"
   ]
  },
  {
   "cell_type": "markdown",
   "id": "ba113d06-10a1-4af7-a910-b8b54b47cdea",
   "metadata": {},
   "source": [
    "2.Transpose reshaped_arr (from Q7). Name the result transposed_arr."
   ]
  },
  {
   "cell_type": "code",
   "execution_count": 21,
   "id": "16130aa6-7a6b-4c80-838c-180bee5442d3",
   "metadata": {},
   "outputs": [
    {
     "name": "stdout",
     "output_type": "stream",
     "text": [
      "[[0 5]\n",
      " [1 6]\n",
      " [2 7]\n",
      " [3 8]\n",
      " [4 9]]\n"
     ]
    }
   ],
   "source": [
    "transposed_arr = reshaped_arr.T\n",
    "print(transposed_arr)"
   ]
  },
  {
   "cell_type": "markdown",
   "id": "9d3f35cb-050e-45b9-affc-490dcbeb42b2",
   "metadata": {},
   "source": [
    "3.Stack two 1D arrays a = np.array([1, 2, 3]) and b = np.array([4, 5, 6]) vertically."
   ]
  },
  {
   "cell_type": "code",
   "execution_count": 22,
   "id": "79fd5146-4bbd-4cb3-b0dd-90836d4dcc6a",
   "metadata": {},
   "outputs": [
    {
     "name": "stdout",
     "output_type": "stream",
     "text": [
      "[[1 2 3]\n",
      " [4 5 6]]\n"
     ]
    }
   ],
   "source": [
    "a = np.array([1, 2, 3])\n",
    "b = np.array([4, 5, 6])\n",
    "stacked_vertical = np.vstack((a, b))\n",
    "print(stacked_vertical)"
   ]
  },
  {
   "cell_type": "markdown",
   "id": "f3a5424d-a053-4b7f-84ec-db510981d717",
   "metadata": {},
   "source": [
    "4.Stack two 2D arrays m1 = np.array([[1, 2], [3, 4]]) and m2 = np.array([[5, 6], [7, 8]]) horizontally."
   ]
  },
  {
   "cell_type": "code",
   "execution_count": 23,
   "id": "05f52df6-21c8-41e8-b3f6-5363ef2ec439",
   "metadata": {},
   "outputs": [
    {
     "name": "stdout",
     "output_type": "stream",
     "text": [
      "[[1 2 5 6]\n",
      " [3 4 7 8]]\n"
     ]
    }
   ],
   "source": [
    "m1 = np.array([[1, 2], [3, 4]])\n",
    "m2 = np.array([[5, 6], [7, 8]])\n",
    "stacked_horizontal = np.hstack((m1, m2))\n",
    "print(stacked_horizontal)"
   ]
  },
  {
   "cell_type": "markdown",
   "id": "5a06f0f6-5792-448e-8888-6e3141282abe",
   "metadata": {},
   "source": [
    "5.Split the array arr_to_split = np.arange(16).reshape(4, 4) horizontally into 2 equal parts. Print both parts."
   ]
  },
  {
   "cell_type": "code",
   "execution_count": 24,
   "id": "652597f5-0d7e-4790-937e-123caa27760b",
   "metadata": {},
   "outputs": [
    {
     "name": "stdout",
     "output_type": "stream",
     "text": [
      "First part:\n",
      " [[ 0  1]\n",
      " [ 4  5]\n",
      " [ 8  9]\n",
      " [12 13]]\n",
      "Second part:\n",
      " [[ 2  3]\n",
      " [ 6  7]\n",
      " [10 11]\n",
      " [14 15]]\n"
     ]
    }
   ],
   "source": [
    "arr_to_split = np.arange(16).reshape(4, 4)\n",
    "split_horizontal = np.hsplit(arr_to_split, 2)\n",
    "print(\"First part:\\n\", split_horizontal[0])\n",
    "print(\"Second part:\\n\", split_horizontal[1])"
   ]
  },
  {
   "cell_type": "markdown",
   "id": "3dde4cf6-fc7b-450b-b1fa-d6c23fdd2e6e",
   "metadata": {},
   "source": [
    "6.Split the array arr_to_split (from Q11) vertically at index 2 (i.e., into two parts: first two rows, and last two rows). Print both parts."
   ]
  },
  {
   "cell_type": "code",
   "execution_count": 25,
   "id": "e0e36751-5c23-49d8-a419-54d843c6e634",
   "metadata": {},
   "outputs": [
    {
     "name": "stdout",
     "output_type": "stream",
     "text": [
      "First part:\n",
      " [[0 1 2 3]\n",
      " [4 5 6 7]]\n",
      "Second part:\n",
      " [[ 8  9 10 11]\n",
      " [12 13 14 15]]\n"
     ]
    }
   ],
   "source": [
    "split_vertical = np.vsplit(arr_to_split, 2)\n",
    "print(\"First part:\\n\", split_vertical[0])\n",
    "print(\"Second part:\\n\", split_vertical[1])"
   ]
  },
  {
   "cell_type": "markdown",
   "id": "1c03f97f-c443-4e63-a3a3-5d2621526542",
   "metadata": {},
   "source": [
    "Part 3: Indexing, Slicing, and Boolean Indexing"
   ]
  },
  {
   "cell_type": "markdown",
   "id": "ba7841f7-df14-4afc-b009-17be67734f54",
   "metadata": {},
   "source": [
    "1.Given data = np.array([[10, 11, 12], [13, 14, 15], [16, 17, 18]]), extract the element at row 1, column 2."
   ]
  },
  {
   "cell_type": "code",
   "execution_count": 26,
   "id": "2a3783a4-31ae-4b2c-b612-dd5252db2d9a",
   "metadata": {},
   "outputs": [
    {
     "name": "stdout",
     "output_type": "stream",
     "text": [
      "15\n"
     ]
    }
   ],
   "source": [
    "data = np.array([[10, 11, 12], [13, 14, 15], [16, 17, 18]])\n",
    "element = data[1, 2]\n",
    "print(element)"
   ]
  },
  {
   "cell_type": "markdown",
   "id": "01f3dd89-d068-4040-aebb-c46b811e0f7e",
   "metadata": {},
   "source": [
    "2.From the data array (from Q13), extract the first two rows and all columns."
   ]
  },
  {
   "cell_type": "code",
   "execution_count": 30,
   "id": "95c24662-c4bd-42bb-aad3-a28d5908f9ff",
   "metadata": {},
   "outputs": [
    {
     "name": "stdout",
     "output_type": "stream",
     "text": [
      "[[10 11 12]\n",
      " [13 14 15]]\n"
     ]
    }
   ],
   "source": [
    "subset = data[:2, :]\n",
    "print(subset)"
   ]
  },
  {
   "cell_type": "markdown",
   "id": "d3de0d70-98e8-49c9-ad23-f3416ee54128",
   "metadata": {},
   "source": [
    "3.From the data array (from Q13), extract the elements 11, 15, and 17 using fancy indexing (hint: you'll need to specify rows and columns)."
   ]
  },
  {
   "cell_type": "code",
   "execution_count": 28,
   "id": "2b2e5a90-84fd-4d16-9212-77f75690d4e0",
   "metadata": {},
   "outputs": [
    {
     "name": "stdout",
     "output_type": "stream",
     "text": [
      "[11 15 17]\n"
     ]
    }
   ],
   "source": [
    "elements = data[[0, 1, 2], [1, 2, 1]]\n",
    "print(elements)"
   ]
  },
  {
   "cell_type": "markdown",
   "id": "17c79e6b-e232-45c1-9d3d-b99e554bed92",
   "metadata": {},
   "source": [
    "4. Given scores = np.array([85, 92, 78, 65, 95, 88]), use boolean indexing to find all scores greater than 80."
   ]
  },
  {
   "cell_type": "code",
   "execution_count": 29,
   "id": "232ed9e9-3a1a-4c5a-b184-33bd5217c72e",
   "metadata": {},
   "outputs": [
    {
     "name": "stdout",
     "output_type": "stream",
     "text": [
      "[85 92 95 88]\n"
     ]
    }
   ],
   "source": [
    "scores = np.array([85, 92, 78, 65, 95, 88])\n",
    "high_scores = scores[scores > 80]\n",
    "print(high_scores)"
   ]
  },
  {
   "cell_type": "markdown",
   "id": "f0b333b8-83a5-4b67-8634-43b0df2246c9",
   "metadata": {},
   "source": [
    "Part 4: Numerical Operations and Aggregations"
   ]
  },
  {
   "cell_type": "markdown",
   "id": "4bf4662f-f8f2-447c-bdf1-7ea76b868b9c",
   "metadata": {},
   "source": [
    "1.Given arr_op1 = np.array([10, 20, 30]) and arr_op2 = np.array([2, 4, 6]), perform element-wise multiplication and division (arr_op1 / arr_op2)."
   ]
  },
  {
   "cell_type": "code",
   "execution_count": 31,
   "id": "917c4850-0436-4bbe-8019-1216942b8ebe",
   "metadata": {},
   "outputs": [
    {
     "name": "stdout",
     "output_type": "stream",
     "text": [
      "Multiplication: [ 20  80 180]\n",
      "Division: [5. 5. 5.]\n"
     ]
    }
   ],
   "source": [
    "arr_op1 = np.array([10, 20, 30])\n",
    "arr_op2 = np.array([2, 4, 6])\n",
    "mult = arr_op1 * arr_op2\n",
    "div = arr_op1 / arr_op2\n",
    "print(\"Multiplication:\", mult)\n",
    "print(\"Division:\", div)"
   ]
  },
  {
   "cell_type": "markdown",
   "id": "eb344331-0f08-48be-8903-81c643b0fbc2",
   "metadata": {},
   "source": [
    "2.Given matrix = np.array([[1, 2, 3], [4, 5, 6], [7, 8, 9]]), calculate the sum of all elements in the matrix."
   ]
  },
  {
   "cell_type": "code",
   "execution_count": 33,
   "id": "30f2c955-e11b-4218-9a87-488fc2f161a6",
   "metadata": {},
   "outputs": [
    {
     "name": "stdout",
     "output_type": "stream",
     "text": [
      "45\n"
     ]
    }
   ],
   "source": [
    "matrix = np.array([[1, 2, 3], [4, 5, 6], [7, 8, 9]])\n",
    "total = np.sum(matrix)\n",
    "print(total)"
   ]
  },
  {
   "cell_type": "markdown",
   "id": "b4a07e84-6864-4f9d-bf12-9088f48e3976",
   "metadata": {},
   "source": [
    "3.From the matrix (from Q18), calculate the mean of each column."
   ]
  },
  {
   "cell_type": "code",
   "execution_count": 34,
   "id": "dba38aea-c034-4529-9040-40ba68ff0327",
   "metadata": {},
   "outputs": [
    {
     "name": "stdout",
     "output_type": "stream",
     "text": [
      "[4. 5. 6.]\n"
     ]
    }
   ],
   "source": [
    "columnmeans = np.mean(matrix, axis=0)\n",
    "print(columnmeans)"
   ]
  },
  {
   "cell_type": "markdown",
   "id": "6972e5cf-09c2-409e-ad25-a7390337c017",
   "metadata": {},
   "source": [
    "4.Given price_array = np.array([100, 150, 200, 250]) and discount_percentage = 0.10, apply a 10% discount to all prices using broadcasting."
   ]
  },
  {
   "cell_type": "code",
   "execution_count": 35,
   "id": "09c9dbde-0a5e-4d44-b13f-c76d45b897c6",
   "metadata": {},
   "outputs": [
    {
     "name": "stdout",
     "output_type": "stream",
     "text": [
      "[ 90. 135. 180. 225.]\n"
     ]
    }
   ],
   "source": [
    "price = np.array([100, 150, 200, 250])\n",
    "dprices = price* (1 - 0.10)\n",
    "print(dprices)"
   ]
  },
  {
   "cell_type": "code",
   "execution_count": null,
   "id": "96a2436e-9fad-4868-8db3-9f9e566a3b4b",
   "metadata": {},
   "outputs": [],
   "source": []
  }
 ],
 "metadata": {
  "kernelspec": {
   "display_name": "Python [conda env:base] *",
   "language": "python",
   "name": "conda-base-py"
  },
  "language_info": {
   "codemirror_mode": {
    "name": "ipython",
    "version": 3
   },
   "file_extension": ".py",
   "mimetype": "text/x-python",
   "name": "python",
   "nbconvert_exporter": "python",
   "pygments_lexer": "ipython3",
   "version": "3.13.5"
  }
 },
 "nbformat": 4,
 "nbformat_minor": 5
}
