{
 "cells": [
  {
   "cell_type": "code",
   "execution_count": null,
   "id": "10341dac",
   "metadata": {},
   "outputs": [],
   "source": [
    "import pandas as pd\n",
    "import numpy as np\n",
    "import seaborn as sns\n",
    "from sklearn.preprocessing import LabelEncoder"
   ]
  },
  {
   "cell_type": "code",
   "execution_count": 1102,
   "id": "535468b0",
   "metadata": {},
   "outputs": [
    {
     "data": {
      "text/html": [
       "<div>\n",
       "<style scoped>\n",
       "    .dataframe tbody tr th:only-of-type {\n",
       "        vertical-align: middle;\n",
       "    }\n",
       "\n",
       "    .dataframe tbody tr th {\n",
       "        vertical-align: top;\n",
       "    }\n",
       "\n",
       "    .dataframe thead th {\n",
       "        text-align: right;\n",
       "    }\n",
       "</style>\n",
       "<table border=\"1\" class=\"dataframe\">\n",
       "  <thead>\n",
       "    <tr style=\"text-align: right;\">\n",
       "      <th></th>\n",
       "      <th>property_name</th>\n",
       "      <th>areaWithType</th>\n",
       "      <th>square_feet</th>\n",
       "      <th>transaction</th>\n",
       "      <th>status</th>\n",
       "      <th>floor</th>\n",
       "      <th>furnishing</th>\n",
       "      <th>facing</th>\n",
       "      <th>description</th>\n",
       "      <th>price_per_sqft</th>\n",
       "      <th>price</th>\n",
       "    </tr>\n",
       "  </thead>\n",
       "  <tbody>\n",
       "    <tr>\n",
       "      <th>0</th>\n",
       "      <td>2 BHK Apartment for Sale in Dindoli Surat</td>\n",
       "      <td>Carpet Area</td>\n",
       "      <td>644 sqft</td>\n",
       "      <td>New Property</td>\n",
       "      <td>Poss. by Oct '24</td>\n",
       "      <td>5 out of 10</td>\n",
       "      <td>Unfurnished</td>\n",
       "      <td>West</td>\n",
       "      <td>Luxury project with basement parking, Solar ro...</td>\n",
       "      <td>₹2,891 per sqft</td>\n",
       "      <td>₹33.8 Lac</td>\n",
       "    </tr>\n",
       "    <tr>\n",
       "      <th>1</th>\n",
       "      <td>2 BHK Apartment for Sale in Althan Surat</td>\n",
       "      <td>Super Area</td>\n",
       "      <td>1278 sqft</td>\n",
       "      <td>New Property</td>\n",
       "      <td>Poss. by Jan '26</td>\n",
       "      <td>6 out of 14</td>\n",
       "      <td>Unfurnished</td>\n",
       "      <td>South -West</td>\n",
       "      <td>2 And 3 BHK Luxurious Flat for Sell In New Alt...</td>\n",
       "      <td>₹3,551 per sqft</td>\n",
       "      <td>₹45.4 Lac</td>\n",
       "    </tr>\n",
       "    <tr>\n",
       "      <th>2</th>\n",
       "      <td>2 BHK Apartment for Sale in Pal Gam Surat</td>\n",
       "      <td>Super Area</td>\n",
       "      <td>1173 sqft</td>\n",
       "      <td>Resale</td>\n",
       "      <td>Ready to Move</td>\n",
       "      <td>5 out of 13</td>\n",
       "      <td>Semi-Furnished</td>\n",
       "      <td>East</td>\n",
       "      <td>This affordable 2 BHK flat is situated along a...</td>\n",
       "      <td>₹3,800 per sqft</td>\n",
       "      <td>₹44.6 Lac</td>\n",
       "    </tr>\n",
       "    <tr>\n",
       "      <th>3</th>\n",
       "      <td>2 BHK Apartment for Sale in Jahangirabad Surat</td>\n",
       "      <td>Carpet Area</td>\n",
       "      <td>700 sqft</td>\n",
       "      <td>New Property</td>\n",
       "      <td>Ready to Move</td>\n",
       "      <td>6 out of 14</td>\n",
       "      <td>Unfurnished</td>\n",
       "      <td>East</td>\n",
       "      <td>2 BHK Flat For sell IN Jahangirabad Prime Loca...</td>\n",
       "      <td>₹3,966 per sqft</td>\n",
       "      <td>₹47 Lac</td>\n",
       "    </tr>\n",
       "    <tr>\n",
       "      <th>4</th>\n",
       "      <td>2 BHK Apartment for Sale in Orchid Fantasia, P...</td>\n",
       "      <td>Super Area</td>\n",
       "      <td>1250 sqft</td>\n",
       "      <td>Orchid Fantasia</td>\n",
       "      <td>New Property</td>\n",
       "      <td>Unfurnished</td>\n",
       "      <td>2</td>\n",
       "      <td>2</td>\n",
       "      <td>Multistorey Apartment for Sale in Palanpur, Su...</td>\n",
       "      <td>₹3,600 per sqft</td>\n",
       "      <td>₹45 Lac</td>\n",
       "    </tr>\n",
       "    <tr>\n",
       "      <th>...</th>\n",
       "      <td>...</td>\n",
       "      <td>...</td>\n",
       "      <td>...</td>\n",
       "      <td>...</td>\n",
       "      <td>...</td>\n",
       "      <td>...</td>\n",
       "      <td>...</td>\n",
       "      <td>...</td>\n",
       "      <td>...</td>\n",
       "      <td>...</td>\n",
       "      <td>...</td>\n",
       "    </tr>\n",
       "    <tr>\n",
       "      <th>4520</th>\n",
       "      <td>6 BHK Apartment for Sale in Millionaires Lifes...</td>\n",
       "      <td>Carpet Area</td>\n",
       "      <td>2000 sqft</td>\n",
       "      <td>New Property</td>\n",
       "      <td>Poss. by Dec '26</td>\n",
       "      <td>5 out of 12</td>\n",
       "      <td>Unfurnished</td>\n",
       "      <td>South - East</td>\n",
       "      <td>Check out Millionaires Lifestyle in Vesu, one ...</td>\n",
       "      <td>NaN</td>\n",
       "      <td>Call for Price</td>\n",
       "    </tr>\n",
       "    <tr>\n",
       "      <th>4521</th>\n",
       "      <td>4 BHK Apartment for Sale in Savan Superia, Alt...</td>\n",
       "      <td>Super Area</td>\n",
       "      <td>3600 sqft</td>\n",
       "      <td>New Property</td>\n",
       "      <td>Poss. by Dec '25</td>\n",
       "      <td>5 out of 16</td>\n",
       "      <td>Unfurnished</td>\n",
       "      <td>South - East</td>\n",
       "      <td>Superia is a premium residential project launc...</td>\n",
       "      <td>NaN</td>\n",
       "      <td>Call for Price</td>\n",
       "    </tr>\n",
       "    <tr>\n",
       "      <th>4522</th>\n",
       "      <td>5 BHK Apartment for Sale in Roongta Green Vall...</td>\n",
       "      <td>Carpet Area</td>\n",
       "      <td>2250 sqft</td>\n",
       "      <td>New Property</td>\n",
       "      <td>Poss. by Dec '25</td>\n",
       "      <td>7 out of 13</td>\n",
       "      <td>Unfurnished</td>\n",
       "      <td>North - East</td>\n",
       "      <td>When it comes to beautiful homes, nothing beat...</td>\n",
       "      <td>NaN</td>\n",
       "      <td>Call for Price</td>\n",
       "    </tr>\n",
       "    <tr>\n",
       "      <th>4523</th>\n",
       "      <td>6 BHK Apartment for Sale in Cellestial Dreams,...</td>\n",
       "      <td>Carpet Area</td>\n",
       "      <td>3450 sqft</td>\n",
       "      <td>New Property</td>\n",
       "      <td>Ready to Move</td>\n",
       "      <td>7 out of 18</td>\n",
       "      <td>Unfurnished</td>\n",
       "      <td>North - West</td>\n",
       "      <td>DRB Ravani Cellestial Dreams in Vesu, Surat is...</td>\n",
       "      <td>NaN</td>\n",
       "      <td>Call for Price</td>\n",
       "    </tr>\n",
       "    <tr>\n",
       "      <th>4524</th>\n",
       "      <td>4 BHK Apartment for Sale in Roongta Green Vall...</td>\n",
       "      <td>Super Area</td>\n",
       "      <td>4500 sqft</td>\n",
       "      <td>New Property</td>\n",
       "      <td>Ready to Move</td>\n",
       "      <td>3 out of 12</td>\n",
       "      <td>Unfurnished</td>\n",
       "      <td>North</td>\n",
       "      <td>Roongta Green Valley is one of the popular res...</td>\n",
       "      <td>NaN</td>\n",
       "      <td>Call for Price</td>\n",
       "    </tr>\n",
       "  </tbody>\n",
       "</table>\n",
       "<p>4525 rows × 11 columns</p>\n",
       "</div>"
      ],
      "text/plain": [
       "                                          property_name areaWithType  \\\n",
       "0             2 BHK Apartment for Sale in Dindoli Surat  Carpet Area   \n",
       "1              2 BHK Apartment for Sale in Althan Surat   Super Area   \n",
       "2             2 BHK Apartment for Sale in Pal Gam Surat   Super Area   \n",
       "3        2 BHK Apartment for Sale in Jahangirabad Surat  Carpet Area   \n",
       "4     2 BHK Apartment for Sale in Orchid Fantasia, P...   Super Area   \n",
       "...                                                 ...          ...   \n",
       "4520  6 BHK Apartment for Sale in Millionaires Lifes...  Carpet Area   \n",
       "4521  4 BHK Apartment for Sale in Savan Superia, Alt...   Super Area   \n",
       "4522  5 BHK Apartment for Sale in Roongta Green Vall...  Carpet Area   \n",
       "4523  6 BHK Apartment for Sale in Cellestial Dreams,...  Carpet Area   \n",
       "4524  4 BHK Apartment for Sale in Roongta Green Vall...   Super Area   \n",
       "\n",
       "     square_feet      transaction            status        floor  \\\n",
       "0       644 sqft     New Property  Poss. by Oct '24  5 out of 10   \n",
       "1      1278 sqft     New Property  Poss. by Jan '26  6 out of 14   \n",
       "2      1173 sqft           Resale     Ready to Move  5 out of 13   \n",
       "3       700 sqft     New Property     Ready to Move  6 out of 14   \n",
       "4      1250 sqft  Orchid Fantasia      New Property  Unfurnished   \n",
       "...          ...              ...               ...          ...   \n",
       "4520   2000 sqft     New Property  Poss. by Dec '26  5 out of 12   \n",
       "4521   3600 sqft     New Property  Poss. by Dec '25  5 out of 16   \n",
       "4522   2250 sqft     New Property  Poss. by Dec '25  7 out of 13   \n",
       "4523   3450 sqft     New Property     Ready to Move  7 out of 18   \n",
       "4524   4500 sqft     New Property     Ready to Move  3 out of 12   \n",
       "\n",
       "          furnishing        facing  \\\n",
       "0        Unfurnished          West   \n",
       "1        Unfurnished   South -West   \n",
       "2     Semi-Furnished          East   \n",
       "3        Unfurnished          East   \n",
       "4                  2             2   \n",
       "...              ...           ...   \n",
       "4520     Unfurnished  South - East   \n",
       "4521     Unfurnished  South - East   \n",
       "4522     Unfurnished  North - East   \n",
       "4523     Unfurnished  North - West   \n",
       "4524     Unfurnished         North   \n",
       "\n",
       "                                            description    price_per_sqft  \\\n",
       "0     Luxury project with basement parking, Solar ro...  ₹2,891 per sqft    \n",
       "1     2 And 3 BHK Luxurious Flat for Sell In New Alt...  ₹3,551 per sqft    \n",
       "2     This affordable 2 BHK flat is situated along a...  ₹3,800 per sqft    \n",
       "3     2 BHK Flat For sell IN Jahangirabad Prime Loca...  ₹3,966 per sqft    \n",
       "4     Multistorey Apartment for Sale in Palanpur, Su...  ₹3,600 per sqft    \n",
       "...                                                 ...               ...   \n",
       "4520  Check out Millionaires Lifestyle in Vesu, one ...               NaN   \n",
       "4521  Superia is a premium residential project launc...               NaN   \n",
       "4522  When it comes to beautiful homes, nothing beat...               NaN   \n",
       "4523  DRB Ravani Cellestial Dreams in Vesu, Surat is...               NaN   \n",
       "4524  Roongta Green Valley is one of the popular res...               NaN   \n",
       "\n",
       "               price  \n",
       "0         ₹33.8 Lac   \n",
       "1         ₹45.4 Lac   \n",
       "2         ₹44.6 Lac   \n",
       "3           ₹47 Lac   \n",
       "4           ₹45 Lac   \n",
       "...              ...  \n",
       "4520  Call for Price  \n",
       "4521  Call for Price  \n",
       "4522  Call for Price  \n",
       "4523  Call for Price  \n",
       "4524  Call for Price  \n",
       "\n",
       "[4525 rows x 11 columns]"
      ]
     },
     "execution_count": 1102,
     "metadata": {},
     "output_type": "execute_result"
    }
   ],
   "source": [
    "df = pd.read_csv(\"surat_uncleaned.csv\")\n",
    "df"
   ]
  },
  {
   "cell_type": "code",
   "execution_count": 1103,
   "id": "06de85af",
   "metadata": {},
   "outputs": [
    {
     "name": "stdout",
     "output_type": "stream",
     "text": [
      "<class 'pandas.core.frame.DataFrame'>\n",
      "RangeIndex: 4525 entries, 0 to 4524\n",
      "Data columns (total 11 columns):\n",
      " #   Column          Non-Null Count  Dtype \n",
      "---  ------          --------------  ----- \n",
      " 0   property_name   4525 non-null   object\n",
      " 1   areaWithType    4525 non-null   object\n",
      " 2   square_feet     4525 non-null   object\n",
      " 3   transaction     4421 non-null   object\n",
      " 4   status          4524 non-null   object\n",
      " 5   floor           4480 non-null   object\n",
      " 6   furnishing      4185 non-null   object\n",
      " 7   facing          3936 non-null   object\n",
      " 8   description     3154 non-null   object\n",
      " 9   price_per_sqft  4157 non-null   object\n",
      " 10  price           4525 non-null   object\n",
      "dtypes: object(11)\n",
      "memory usage: 389.0+ KB\n"
     ]
    }
   ],
   "source": [
    "df.info()"
   ]
  },
  {
   "cell_type": "code",
   "execution_count": 1104,
   "id": "970a7d9c",
   "metadata": {},
   "outputs": [
    {
     "data": {
      "text/html": [
       "<div>\n",
       "<style scoped>\n",
       "    .dataframe tbody tr th:only-of-type {\n",
       "        vertical-align: middle;\n",
       "    }\n",
       "\n",
       "    .dataframe tbody tr th {\n",
       "        vertical-align: top;\n",
       "    }\n",
       "\n",
       "    .dataframe thead th {\n",
       "        text-align: right;\n",
       "    }\n",
       "</style>\n",
       "<table border=\"1\" class=\"dataframe\">\n",
       "  <thead>\n",
       "    <tr style=\"text-align: right;\">\n",
       "      <th></th>\n",
       "      <th>property_name</th>\n",
       "      <th>areaWithType</th>\n",
       "      <th>square_feet</th>\n",
       "      <th>transaction</th>\n",
       "      <th>status</th>\n",
       "      <th>floor</th>\n",
       "      <th>furnishing</th>\n",
       "      <th>facing</th>\n",
       "      <th>description</th>\n",
       "      <th>price_per_sqft</th>\n",
       "      <th>price</th>\n",
       "    </tr>\n",
       "  </thead>\n",
       "  <tbody>\n",
       "    <tr>\n",
       "      <th>count</th>\n",
       "      <td>4525</td>\n",
       "      <td>4525</td>\n",
       "      <td>4525</td>\n",
       "      <td>4421</td>\n",
       "      <td>4524</td>\n",
       "      <td>4480</td>\n",
       "      <td>4185</td>\n",
       "      <td>3936</td>\n",
       "      <td>3154</td>\n",
       "      <td>4157</td>\n",
       "      <td>4525</td>\n",
       "    </tr>\n",
       "    <tr>\n",
       "      <th>unique</th>\n",
       "      <td>1992</td>\n",
       "      <td>6</td>\n",
       "      <td>1399</td>\n",
       "      <td>38</td>\n",
       "      <td>138</td>\n",
       "      <td>222</td>\n",
       "      <td>78</td>\n",
       "      <td>176</td>\n",
       "      <td>2588</td>\n",
       "      <td>2134</td>\n",
       "      <td>841</td>\n",
       "    </tr>\n",
       "    <tr>\n",
       "      <th>top</th>\n",
       "      <td>3 BHK Apartment for Sale in Vesu Surat</td>\n",
       "      <td>Super Area</td>\n",
       "      <td>1000 sqft</td>\n",
       "      <td>Resale</td>\n",
       "      <td>Ready to Move</td>\n",
       "      <td>Resale</td>\n",
       "      <td>Unfurnished</td>\n",
       "      <td>East</td>\n",
       "      <td>Multistorey apartment is available for sale. I...</td>\n",
       "      <td>₹5,000 per sqft</td>\n",
       "      <td>Call for Price</td>\n",
       "    </tr>\n",
       "    <tr>\n",
       "      <th>freq</th>\n",
       "      <td>93</td>\n",
       "      <td>2599</td>\n",
       "      <td>77</td>\n",
       "      <td>2197</td>\n",
       "      <td>3078</td>\n",
       "      <td>431</td>\n",
       "      <td>2322</td>\n",
       "      <td>1487</td>\n",
       "      <td>35</td>\n",
       "      <td>64</td>\n",
       "      <td>173</td>\n",
       "    </tr>\n",
       "  </tbody>\n",
       "</table>\n",
       "</div>"
      ],
      "text/plain": [
       "                                 property_name areaWithType square_feet  \\\n",
       "count                                     4525         4525        4525   \n",
       "unique                                    1992            6        1399   \n",
       "top     3 BHK Apartment for Sale in Vesu Surat   Super Area   1000 sqft   \n",
       "freq                                        93         2599          77   \n",
       "\n",
       "       transaction         status   floor   furnishing facing  \\\n",
       "count         4421           4524    4480         4185   3936   \n",
       "unique          38            138     222           78    176   \n",
       "top         Resale  Ready to Move  Resale  Unfurnished   East   \n",
       "freq          2197           3078     431         2322   1487   \n",
       "\n",
       "                                              description    price_per_sqft  \\\n",
       "count                                                3154              4157   \n",
       "unique                                               2588              2134   \n",
       "top     Multistorey apartment is available for sale. I...  ₹5,000 per sqft    \n",
       "freq                                                   35                64   \n",
       "\n",
       "                 price  \n",
       "count             4525  \n",
       "unique             841  \n",
       "top     Call for Price  \n",
       "freq               173  "
      ]
     },
     "execution_count": 1104,
     "metadata": {},
     "output_type": "execute_result"
    }
   ],
   "source": [
    "df.describe()"
   ]
  },
  {
   "cell_type": "code",
   "execution_count": 1105,
   "id": "81c5339b",
   "metadata": {},
   "outputs": [
    {
     "data": {
      "text/plain": [
       "Index(['property_name', 'areaWithType', 'square_feet', 'transaction', 'status',\n",
       "       'floor', 'furnishing', 'facing', 'description', 'price_per_sqft',\n",
       "       'price'],\n",
       "      dtype='object')"
      ]
     },
     "execution_count": 1105,
     "metadata": {},
     "output_type": "execute_result"
    }
   ],
   "source": [
    "df.columns"
   ]
  },
  {
   "cell_type": "code",
   "execution_count": 1106,
   "id": "75fee8ac",
   "metadata": {},
   "outputs": [
    {
     "data": {
      "text/plain": [
       "property_name        0\n",
       "areaWithType         0\n",
       "square_feet          0\n",
       "transaction        104\n",
       "status               1\n",
       "floor               45\n",
       "furnishing         340\n",
       "facing             589\n",
       "description       1371\n",
       "price_per_sqft     368\n",
       "price                0\n",
       "dtype: int64"
      ]
     },
     "execution_count": 1106,
     "metadata": {},
     "output_type": "execute_result"
    }
   ],
   "source": [
    "df.isnull().sum()"
   ]
  },
  {
   "cell_type": "code",
   "execution_count": 1107,
   "id": "b0a0156f",
   "metadata": {},
   "outputs": [
    {
     "data": {
      "text/plain": [
       "array(['644 sqft', '1278 sqft', '1173 sqft', ..., '2545 sqft',\n",
       "       '5175 sqft', '2620 sqft'], shape=(1399,), dtype=object)"
      ]
     },
     "execution_count": 1107,
     "metadata": {},
     "output_type": "execute_result"
    }
   ],
   "source": [
    "df.square_feet.unique()"
   ]
  },
  {
   "cell_type": "code",
   "execution_count": 1108,
   "id": "a525862f",
   "metadata": {},
   "outputs": [],
   "source": [
    "df['square_feet']=df['square_feet'].str.replace(r'\\W+','', regex=True)\n",
    "df['square_feet']=df['square_feet'].str.replace(r'\\D+','', regex=True)\n",
    "df['square_feet']=df['square_feet'].str.split().str[0].astype(float)"
   ]
  },
  {
   "cell_type": "code",
   "execution_count": 1109,
   "id": "529ae5fa",
   "metadata": {},
   "outputs": [
    {
     "data": {
      "text/plain": [
       "array([ 644., 1278., 1173., ..., 2545., 5175., 2620.], shape=(1346,))"
      ]
     },
     "execution_count": 1109,
     "metadata": {},
     "output_type": "execute_result"
    }
   ],
   "source": [
    "df.square_feet.unique()"
   ]
  },
  {
   "cell_type": "code",
   "execution_count": 1110,
   "id": "762c5c73",
   "metadata": {},
   "outputs": [
    {
     "name": "stdout",
     "output_type": "stream",
     "text": [
      "<class 'pandas.core.frame.DataFrame'>\n",
      "RangeIndex: 4525 entries, 0 to 4524\n",
      "Data columns (total 11 columns):\n",
      " #   Column          Non-Null Count  Dtype  \n",
      "---  ------          --------------  -----  \n",
      " 0   property_name   4525 non-null   object \n",
      " 1   areaWithType    4525 non-null   object \n",
      " 2   square_feet     4519 non-null   float64\n",
      " 3   transaction     4421 non-null   object \n",
      " 4   status          4524 non-null   object \n",
      " 5   floor           4480 non-null   object \n",
      " 6   furnishing      4185 non-null   object \n",
      " 7   facing          3936 non-null   object \n",
      " 8   description     3154 non-null   object \n",
      " 9   price_per_sqft  4157 non-null   object \n",
      " 10  price           4525 non-null   object \n",
      "dtypes: float64(1), object(10)\n",
      "memory usage: 389.0+ KB\n"
     ]
    }
   ],
   "source": [
    "df.info()"
   ]
  },
  {
   "cell_type": "code",
   "execution_count": 1111,
   "id": "ffbf4271",
   "metadata": {},
   "outputs": [
    {
     "data": {
      "text/plain": [
       "array(['₹33.8 Lac ', '₹45.4 Lac ', '₹44.6 Lac ', '₹47 Lac ', '₹45 Lac ',\n",
       "       '₹43.2 Lac ', '₹42.1 Lac ', '₹44.1 Lac ', '₹44.3 Lac ', '₹40 Lac ',\n",
       "       '₹44 Lac ', '₹12.5 Lac ', '₹50 Lac ', '₹35.8 Lac ', '₹26.5 Lac ',\n",
       "       '₹42 Lac ', '₹43 Lac ', '₹20 Lac ', '₹37 Lac ', '₹29 Lac ',\n",
       "       '₹38 Lac ', '₹13 Lac ', '₹46.5 Lac ', '₹41.6 Lac ', '₹33.5 Lac ',\n",
       "       '₹42.5 Lac ', '₹48 Lac ', '₹32 Lac ', '₹35 Lac ', '₹46.2 Lac ',\n",
       "       '₹38.5 Lac ', '₹23 Lac ', '₹24 Lac ', '₹28 Lac ', '₹35.7 Lac ',\n",
       "       '₹36.5 Lac ', '₹36 Lac ', '₹43.6 Lac ', '₹25 Lac ', '₹41 Lac ',\n",
       "       '₹28.5 Lac ', '₹9 Lac ', '₹30 Lac ', '₹39.5 Lac ', '₹21.5 Lac ',\n",
       "       '₹10.5 Lac ', '₹18 Lac ', '₹10 Lac ', '₹23.5 Lac ', '₹16.3 Lac ',\n",
       "       '₹13.5 Lac ', '₹49 Lac ', '₹21 Lac ', '₹39 Lac ', '₹16 Lac ',\n",
       "       '₹27 Lac ', '₹15 Lac ', '₹39.9 Lac ', '₹7.5 Lac ', '₹12.8 Lac ',\n",
       "       '₹9.5 Lac ', '₹31.5 Lac ', '₹46 Lac ', '₹6 Lac ', '₹34 Lac ',\n",
       "       '₹22 Lac ', '₹19 Lac ', '₹8.5 Lac ', '₹11 Lac ', '₹16.5 Lac ',\n",
       "       '₹17 Lac ', '₹14 Lac ', '₹33 Lac ', '₹20.5 Lac ', '₹21.7 Lac ',\n",
       "       '₹27.5 Lac ', '₹12 Lac ', '₹26 Lac ', '₹7.7 Lac ', '₹44.8 Lac ',\n",
       "       '₹34.9 Lac ', '₹19.5 Lac ', '₹18.5 Lac ', '₹48.5 Lac ',\n",
       "       '₹49.9 Lac ', '₹26.7 Lac ', '₹18.2 Lac ', '₹24.5 Lac ',\n",
       "       '₹46.1 Lac ', '₹14.2 Lac ', '₹47.5 Lac ', '₹9.3 Lac ', '₹5 Lac ',\n",
       "       '₹8.9 Lac ', '₹14.5 Lac ', '₹37.6 Lac ', '₹25.5 Lac ',\n",
       "       '₹29.5 Lac ', '₹1.5 Lac ', '₹26.8 Lac ', '₹31 Lac ', '₹22.5 Lac ',\n",
       "       '₹24.9 Lac ', '₹40.4 Lac ', '₹15.3 Lac ', '₹7 Lac ', '₹32.5 Lac ',\n",
       "       '₹1 Lac ', '₹43.8 Lac ', '₹14.4 Lac ', '₹10.3 Lac ', '₹40.5 Lac ',\n",
       "       '₹34.8 Lac ', '₹39.8 Lac ', '₹25.8 Lac ', '₹3.5 Lac ',\n",
       "       '₹21.3 Lac ', '₹8 Lac ', '₹38.1 Lac ', '₹15.5 Lac ', '₹25.1 Lac ',\n",
       "       '₹37.9 Lac ', '₹29.1 Lac ', '₹1.3 Lac ', '₹18.4 Lac ',\n",
       "       '₹14.1 Lac ', '₹29.9 Lac ', '₹45.2 Lac ', '₹37.5 Lac ',\n",
       "       '₹32.7 Lac ', '₹17.5 Lac ', '₹48.8 Lac ', '₹23.2 Lac ',\n",
       "       '₹4.5 Lac ', '₹25.2 Lac ', '₹27.2 Lac ', 'Call for Price',\n",
       "       '₹39.7 Lac ', '₹43.7 Lac ', '₹49.5 Lac ', '₹2 Lac ', '₹46.9 Lac ',\n",
       "       '₹19.8 Lac ', '₹26.9 Lac ', '₹21.6 Lac ', '₹33.9 Lac ',\n",
       "       '₹34.7 Lac ', '₹44.5 Lac ', '₹41.3 Lac ', '₹48.6 Lac ',\n",
       "       '₹45.5 Lac ', '₹49.3 Lac ', '₹43.1 Lac ', '₹46.4 Lac ',\n",
       "       '₹42.2 Lac ', '₹34.5 Lac ', '₹28.2 Lac ', '₹42.8 Lac ',\n",
       "       '₹45.3 Lac ', '₹34.4 Lac ', '₹30.5 Lac ', '₹44.2 Lac ',\n",
       "       '₹48.2 Lac ', '₹49.7 Lac ', '₹47.8 Lac ', '₹34.6 Lac ',\n",
       "       '₹49.1 Lac ', '₹35.3 Lac ', '₹45.1 Lac ', '₹41.5 Lac ',\n",
       "       '₹26.4 Lac ', '₹37.2 Lac ', '₹46.3 Lac ', '₹30.4 Lac ',\n",
       "       '₹47.1 Lac ', '₹41.7 Lac ', '₹33.4 Lac ', '₹40.7 Lac ',\n",
       "       '₹36.8 Lac ', '₹42.7 Lac ', '₹30.6 Lac ', '₹43.4 Lac ',\n",
       "       '₹38.7 Lac ', '₹33.2 Lac ', '₹34.3 Lac ', '₹39.2 Lac ',\n",
       "       '₹43.9 Lac ', '₹35.2 Lac ', '₹31.6 Lac ', '₹41.1 Lac ',\n",
       "       '₹44.9 Lac ', '₹25.9 Lac ', '₹42.3 Lac ', '₹25.3 Lac ',\n",
       "       '₹36.1 Lac ', '₹25.7 Lac ', '₹45.6 Lac ', '₹35.1 Lac ',\n",
       "       '₹36.4 Lac ', '₹42.4 Lac ', '₹46.7 Lac ', '₹20.1 Lac ',\n",
       "       '₹34.1 Lac ', '₹16.4 Lac ', '₹43.5 Lac ', '₹19.9 Lac ',\n",
       "       '₹38.2 Lac ', '₹35.5 Lac ', '₹67.7 Lac ', '₹55.6 Lac ', '₹98 Lac ',\n",
       "       '₹62.2 Lac ', '₹69.4 Lac ', '₹70 Lac ', '₹56.5 Lac ', '₹57.4 Lac ',\n",
       "       '₹92.9 Lac ', '₹57.1 Lac ', '₹55.7 Lac ', '₹79.1 Lac ',\n",
       "       '₹65.2 Lac ', '₹80.5 Lac ', '₹90 Lac ', '₹75 Lac ', '₹52 Lac ',\n",
       "       '₹75.4 Lac ', '₹74.5 Lac ', '₹69.3 Lac ', '₹60 Lac ', '₹67.5 Lac ',\n",
       "       '₹51.5 Lac ', '₹67.4 Lac ', '₹55 Lac ', '₹50.3 Lac ', '₹66.3 Lac ',\n",
       "       '₹80 Lac ', '₹1 Cr ', '₹50.6 Lac ', '₹61 Lac ', '₹51 Lac ',\n",
       "       '₹50.8 Lac ', '₹79 Lac ', '₹91 Lac ', '₹84.5 Lac ', '₹54 Lac ',\n",
       "       '₹53.2 Lac ', '₹52.4 Lac ', '₹72 Lac ', '₹99 Lac ', '₹56 Lac ',\n",
       "       '₹85 Lac ', '₹83.1 Lac ', '₹51.9 Lac ', '₹57 Lac ', '₹81 Lac ',\n",
       "       '₹74 Lac ', '₹78.5 Lac ', '₹65 Lac ', '₹66.1 Lac ', '₹68 Lac ',\n",
       "       '₹58 Lac ', '₹86 Lac ', '₹53.5 Lac ', '₹83 Lac ', '₹82 Lac ',\n",
       "       '₹95 Lac ', '₹78 Lac ', '₹72.5 Lac ', '₹66.6 Lac ', '₹51.7 Lac ',\n",
       "       '₹90.7 Lac ', '₹84 Lac ', '₹75.5 Lac ', '₹63 Lac ', '₹53 Lac ',\n",
       "       '₹91.8 Lac ', '₹58.5 Lac ', '₹55.5 Lac ', '₹77 Lac ', '₹88 Lac ',\n",
       "       '₹62 Lac ', '₹97 Lac ', '₹63.8 Lac ', '₹97.4 Lac ', '₹92 Lac ',\n",
       "       '₹67 Lac ', '₹71 Lac ', '₹87 Lac ', '₹78.7 Lac ', '₹50.1 Lac ',\n",
       "       '₹50.4 Lac ', '₹68.3 Lac ', '₹99.5 Lac ', '₹76 Lac ', '₹59.5 Lac ',\n",
       "       '₹96 Lac ', '₹99.8 Lac ', '₹56.8 Lac ', '₹79.4 Lac ', '₹93 Lac ',\n",
       "       '₹89 Lac ', '₹54.5 Lac ', '₹96.5 Lac ', '₹85.4 Lac ', '₹79.2 Lac ',\n",
       "       '₹94 Lac ', '₹58.2 Lac ', '₹59.9 Lac ', '₹61.6 Lac ', '₹60.5 Lac ',\n",
       "       '₹82.5 Lac ', '₹75.7 Lac ', '₹56.2 Lac ', '₹99.6 Lac ',\n",
       "       '₹58.8 Lac ', '₹59.2 Lac ', '₹74.4 Lac ', '₹56.1 Lac ',\n",
       "       '₹86.7 Lac ', '₹53.1 Lac ', '₹90.8 Lac ', '₹50.5 Lac ',\n",
       "       '₹75.3 Lac ', '₹59 Lac ', '₹58.4 Lac ', '₹85.1 Lac ', '₹79.9 Lac ',\n",
       "       '₹68.2 Lac ', '₹51.8 Lac ', '₹64.4 Lac ', '₹64 Lac ', '₹56.4 Lac ',\n",
       "       '₹76.2 Lac ', '₹100 Lac ', '₹88.5 Lac ', '₹98.1 Lac ',\n",
       "       '₹76.6 Lac ', '₹87.4 Lac ', '₹71.5 Lac ', '₹84.7 Lac ',\n",
       "       '₹60.2 Lac ', '₹64.6 Lac ', '₹80.3 Lac ', '₹89.7 Lac ', '₹66 Lac ',\n",
       "       '₹67.3 Lac ', '₹76.4 Lac ', '₹73 Lac ', '₹77.8 Lac ', '₹76.8 Lac ',\n",
       "       '₹86.5 Lac ', '₹62.8 Lac ', '₹94.3 Lac ', '₹94.8 Lac ',\n",
       "       '₹71.9 Lac ', '₹72.1 Lac ', '₹84.8 Lac ', '₹95.2 Lac ',\n",
       "       '₹63.5 Lac ', '₹98.3 Lac ', '₹65.6 Lac ', '₹52.5 Lac ',\n",
       "       '₹62.5 Lac ', '₹65.8 Lac ', '₹50.9 Lac ', '₹74.9 Lac ',\n",
       "       '₹79.3 Lac ', '₹85.5 Lac ', '₹65.4 Lac ', '₹75.9 Lac ',\n",
       "       '₹55.3 Lac ', '₹70.6 Lac ', '₹93.5 Lac ', '₹60.9 Lac ',\n",
       "       '₹91.5 Lac ', '₹59.4 Lac ', '₹86.1 Lac ', '₹61.7 Lac ',\n",
       "       '₹89.8 Lac ', '₹88.6 Lac ', '₹67.8 Lac ', '₹64.7 Lac ',\n",
       "       '₹90.5 Lac ', '₹67.9 Lac ', '₹51.6 Lac ', '₹77.1 Lac ',\n",
       "       '₹62.4 Lac ', '₹74.1 Lac ', '₹58.1 Lac ', '₹58.7 Lac ', '₹69 Lac ',\n",
       "       '₹93.6 Lac ', '₹57.5 Lac ', '₹82.9 Lac ', '₹83.5 Lac ',\n",
       "       '₹79.7 Lac ', '₹90.4 Lac ', '₹70.3 Lac ', '₹54.6 Lac ',\n",
       "       '₹56.7 Lac ', '₹95.5 Lac ', '₹52.6 Lac ', '₹76.5 Lac ',\n",
       "       '₹69.6 Lac ', '₹81.6 Lac ', '₹94.5 Lac ', '₹73.1 Lac ',\n",
       "       '₹71.7 Lac ', '₹75.1 Lac ', '₹55.4 Lac ', '₹88.9 Lac ',\n",
       "       '₹88.8 Lac ', '₹77.5 Lac ', '₹59.7 Lac ', '₹89.4 Lac ',\n",
       "       '₹59.8 Lac ', '₹63.7 Lac ', '₹82.1 Lac ', '₹61.9 Lac ',\n",
       "       '₹92.4 Lac ', '₹73.9 Lac ', '₹51.1 Lac ', '₹61.5 Lac ',\n",
       "       '₹65.9 Lac ', '₹70.4 Lac ', '₹56.6 Lac ', '₹62.9 Lac ',\n",
       "       '₹83.8 Lac ', '₹92.8 Lac ', '₹84.6 Lac ', '₹59.1 Lac ',\n",
       "       '₹78.2 Lac ', '₹64.2 Lac ', '₹69.2 Lac ', '₹94.7 Lac ',\n",
       "       '₹58.3 Lac ', '₹70.7 Lac ', '₹97.6 Lac ', '₹75.8 Lac ',\n",
       "       '₹51.2 Lac ', '₹86.9 Lac ', '₹68.4 Lac ', '₹72.8 Lac ',\n",
       "       '₹57.2 Lac ', '₹90.6 Lac ', '₹65.5 Lac ', '₹80.8 Lac ',\n",
       "       '₹62.1 Lac ', '₹69.5 Lac ', '₹92.5 Lac ', '₹62.3 Lac ',\n",
       "       '₹82.8 Lac ', '₹60.8 Lac ', '₹71.1 Lac ', '₹64.3 Lac ',\n",
       "       '₹86.3 Lac ', '₹60.4 Lac ', '₹79.8 Lac ', '₹52.8 Lac ',\n",
       "       '₹61.2 Lac ', '₹60.3 Lac ', '₹77.7 Lac ', '₹53.6 Lac ',\n",
       "       '₹70.8 Lac ', '₹88.1 Lac ', '₹68.9 Lac ', '₹72.4 Lac ',\n",
       "       '₹85.6 Lac ', '₹72.6 Lac ', '₹97.7 Lac ', '₹52.7 Lac ',\n",
       "       '₹84.9 Lac ', '₹98.6 Lac ', '₹78.9 Lac ', '₹72.2 Lac ',\n",
       "       '₹98.4 Lac ', '₹62.6 Lac ', '₹55.1 Lac ', '₹52.1 Lac ',\n",
       "       '₹99.9 Lac ', '₹76.3 Lac ', '₹95.6 Lac ', '₹65.1 Lac ',\n",
       "       '₹81.4 Lac ', '₹74.2 Lac ', '₹65.3 Lac ', '₹92.3 Lac ',\n",
       "       '₹60.6 Lac ', '₹76.9 Lac ', '₹78.1 Lac ', '₹51.3 Lac ',\n",
       "       '₹63.3 Lac ', '₹54.2 Lac ', '₹97.5 Lac ', '₹99.3 Lac ',\n",
       "       '₹54.8 Lac ', '₹73.4 Lac ', '₹64.1 Lac ', '₹63.9 Lac ',\n",
       "       '₹73.5 Lac ', '₹66.5 Lac ', '₹87.5 Lac ', '₹80.2 Lac ',\n",
       "       '₹77.3 Lac ', '₹70.2 Lac ', '₹69.7 Lac ', '₹59.6 Lac ',\n",
       "       '₹83.7 Lac ', '₹71.8 Lac ', '₹65.7 Lac ', '₹78.8 Lac ',\n",
       "       '₹83.4 Lac ', '₹58.9 Lac ', '₹61.3 Lac ', '₹1.49 Cr ', '₹1.12 Cr ',\n",
       "       '₹1.26 Cr ', '₹1.32 Cr ', '₹1.50 Cr ', '₹1.35 Cr ', '₹1.10 Cr ',\n",
       "       '₹1.07 Cr ', '₹1.37 Cr ', '₹1.11 Cr ', '₹1.01 Cr ', '₹1.13 Cr ',\n",
       "       '₹1.39 Cr ', '₹1.15 Cr ', '₹1.05 Cr ', '₹1.30 Cr ', '₹1.20 Cr ',\n",
       "       '₹1.48 Cr ', '₹1.03 Cr ', '₹1.33 Cr ', '₹1.42 Cr ', '₹1.18 Cr ',\n",
       "       '₹1.24 Cr ', '₹1.23 Cr ', '₹1.17 Cr ', '₹1.25 Cr ', '₹1.40 Cr ',\n",
       "       '₹1.28 Cr ', '₹1.22 Cr ', '₹1.31 Cr ', '₹1.09 Cr ', '₹1.45 Cr ',\n",
       "       '₹1.36 Cr ', '₹1.19 Cr ', '₹1.21 Cr ', '₹1.44 Cr ', '₹1.14 Cr ',\n",
       "       '₹1.29 Cr ', '₹1.34 Cr ', '₹1.02 Cr ', '₹1.43 Cr ', '₹1.06 Cr ',\n",
       "       '₹1.47 Cr ', '₹1.04 Cr ', '₹1.41 Cr ', '₹1.46 Cr ', '₹1.27 Cr ',\n",
       "       '₹1.08 Cr ', '₹1.16 Cr ', '₹1.38 Cr ', '₹2.30 Cr ', '₹1.54 Cr ',\n",
       "       '₹2.84 Cr ', '₹2.52 Cr ', '₹2.19 Cr ', '₹7 Cr ', '₹2.80 Cr ',\n",
       "       '₹3.45 Cr ', '₹1.80 Cr ', '₹1.62 Cr ', '₹2 Cr ', '₹2.25 Cr ',\n",
       "       '₹7.50 Cr ', '₹1.70 Cr ', '₹10 Cr ', '₹2.47 Cr ', '₹1.60 Cr ',\n",
       "       '₹1.65 Cr ', '₹3.50 Cr ', '₹2.85 Cr ', '₹3.65 Cr ', '₹12.93 Cr ',\n",
       "       '₹1.63 Cr ', '₹5.50 Cr ', '₹2.61 Cr ', '₹3.20 Cr ', '₹1.61 Cr ',\n",
       "       '₹1.72 Cr ', '₹4 Cr ', '₹9 Cr ', '₹5.51 Cr ', '₹5 Cr ',\n",
       "       '₹1.68 Cr ', '₹3.41 Cr ', '₹2.51 Cr ', '₹1.51 Cr ', '₹2.82 Cr ',\n",
       "       '₹1.98 Cr ', '₹2.10 Cr ', '₹2.98 Cr ', '₹6 Cr ', '₹3 Cr ',\n",
       "       '₹3.30 Cr ', '₹6.50 Cr ', '₹2.34 Cr ', '₹2.76 Cr ', '₹3.61 Cr ',\n",
       "       '₹2.11 Cr ', '₹4.99 Cr ', '₹1.76 Cr ', '₹2.40 Cr ', '₹8.50 Cr ',\n",
       "       '₹5.25 Cr ', '₹4.10 Cr ', '₹1.89 Cr ', '₹2.50 Cr ', '₹2.83 Cr ',\n",
       "       '₹2.20 Cr ', '₹3.49 Cr ', '₹3.33 Cr ', '₹18.50 Cr ', '₹2.27 Cr ',\n",
       "       '₹31.50 Cr ', '₹1.53 Cr ', '₹1.94 Cr ', '₹41 Cr ', '₹2.15 Cr ',\n",
       "       '₹2.55 Cr ', '₹4.50 Cr ', '₹4.08 Cr ', '₹12.50 Cr ', '₹1.59 Cr ',\n",
       "       '₹1.55 Cr ', '₹5.18 Cr ', '₹3.51 Cr ', '₹1.81 Cr ', '₹3.80 Cr ',\n",
       "       '₹534.44 Cr ', '₹3.03 Cr ', '₹6.96 Cr ', '₹1.75 Cr ', '₹3.25 Cr ',\n",
       "       '₹1.52 Cr ', '₹12 Cr ', '₹3.55 Cr ', '₹2.72 Cr ', '₹1.90 Cr ',\n",
       "       '₹6.60 Cr ', '₹1.95 Cr ', '₹2.73 Cr ', '₹3.11 Cr ', '₹3.75 Cr ',\n",
       "       '₹2.17 Cr ', '₹2.32 Cr ', '₹2.69 Cr ', '₹55 Cr ', '₹3.10 Cr ',\n",
       "       '₹3.31 Cr ', '₹2.60 Cr ', '₹1.58 Cr ', '₹2.75 Cr ', '₹15 Cr ',\n",
       "       '₹3.60 Cr ', '₹3.12 Cr ', '₹146.33 Cr ', '₹1.71 Cr ', '₹4.35 Cr ',\n",
       "       '₹2.95 Cr ', '₹20 Cr ', '₹2.70 Cr ', '₹3.70 Cr ', '₹2.26 Cr ',\n",
       "       '₹14 Cr ', '₹5.04 Cr ', '₹2.46 Cr ', '₹2.43 Cr ', '₹1.86 Cr ',\n",
       "       '₹2.77 Cr ', '₹4.71 Cr ', '₹4.65 Cr ', '₹1.77 Cr ', '₹2.90 Cr ',\n",
       "       '₹2.36 Cr ', '₹2.03 Cr ', '₹1.84 Cr ', '₹6.30 Cr ', '₹2.04 Cr ',\n",
       "       '₹7.20 Cr ', '₹4.03 Cr ', '₹1.73 Cr ', '₹3.08 Cr ', '₹2.92 Cr ',\n",
       "       '₹3.53 Cr ', '₹3.23 Cr ', '₹1.66 Cr ', '₹4.07 Cr ', '₹6.80 Cr ',\n",
       "       '₹3.35 Cr ', '₹3.22 Cr ', '₹5.55 Cr ', '₹1.82 Cr ', '₹2.59 Cr ',\n",
       "       '₹2.07 Cr ', '₹1.88 Cr ', '₹2.56 Cr ', '₹9.22 Cr ', '₹2.88 Cr ',\n",
       "       '₹2.18 Cr ', '₹1.85 Cr ', '₹3.96 Cr ', '₹3.99 Cr ', '₹2.21 Cr ',\n",
       "       '₹2.01 Cr ', '₹3.01 Cr ', '₹3.26 Cr ', '₹11.55 Cr ', '₹2.71 Cr ',\n",
       "       '₹2.66 Cr ', '₹3.63 Cr ', '₹2.28 Cr ', '₹1.91 Cr ', '₹1.56 Cr ',\n",
       "       '₹1.96 Cr ', '₹3.32 Cr ', '₹7.58 Cr ', '₹4.75 Cr ', '₹1.93 Cr ',\n",
       "       '₹2.37 Cr ', '₹1.69 Cr ', '₹5.52 Cr ', '₹2.16 Cr ', '₹1.97 Cr ',\n",
       "       '₹8.79 Cr ', '₹2.62 Cr ', '₹2.39 Cr ', '₹1.99 Cr ', '₹4.31 Cr ',\n",
       "       '₹1.79 Cr ', '₹10.09 Cr ', '₹5.57 Cr ', '₹4.25 Cr ', '₹3.34 Cr ',\n",
       "       '₹3.15 Cr ', '₹8.13 Cr ', '₹1.87 Cr ', '₹6.53 Cr ', '₹7.95 Cr ',\n",
       "       '₹2.33 Cr ', '₹4.30 Cr ', '₹2.48 Cr ', '₹3.19 Cr ', '₹3.74 Cr ',\n",
       "       '₹4.20 Cr ', '₹4.42 Cr ', '₹1.92 Cr ', '₹3.04 Cr ', '₹4.73 Cr ',\n",
       "       '₹3.95 Cr ', '₹2.35 Cr ', '₹3.18 Cr ', '₹1.74 Cr ', '₹1.64 Cr ',\n",
       "       '₹2.81 Cr ', '₹2.58 Cr ', '₹3.39 Cr ', '₹4.60 Cr ', '₹4.72 Cr ',\n",
       "       '₹4.01 Cr ', '₹1.57 Cr ', '₹8.60 Cr ', '₹6.47 Cr ', '₹3.93 Cr ',\n",
       "       '₹1.83 Cr ', '₹2.68 Cr ', '₹2.54 Cr ', '₹2.24 Cr ', '₹3.05 Cr ',\n",
       "       '₹3.48 Cr ', '₹2.99 Cr ', '₹3.97 Cr ', '₹3.40 Cr ', '₹4.23 Cr ',\n",
       "       '₹6.76 Cr ', '₹3.58 Cr ', '₹8 Cr ', '₹4.80 Cr ', '₹2.05 Cr ',\n",
       "       '₹2.97 Cr ', '₹4.51 Cr ', '₹3.90 Cr ', '₹3.13 Cr ', '₹3.36 Cr ',\n",
       "       '₹16.50 Cr ', '₹2.02 Cr ', '₹1.67 Cr ', '₹2.14 Cr ', '₹5.72 Cr ',\n",
       "       '₹2.79 Cr ', '₹2.13 Cr ', '₹3.02 Cr ', '₹2.57 Cr ', '₹2.08 Cr ',\n",
       "       '₹7.60 Cr ', '₹4.24 Cr ', '₹5.48 Cr ', '₹2.78 Cr ', '₹2.22 Cr ',\n",
       "       '₹2.87 Cr ', '₹5.12 Cr ', '₹3.54 Cr ', '₹4.53 Cr ', '₹6.10 Cr ',\n",
       "       '₹3.76 Cr ', '₹4.16 Cr ', '₹3.92 Cr ', '₹2.41 Cr ', '₹4.38 Cr ',\n",
       "       '₹5.36 Cr ', '₹5.40 Cr ', '₹7.19 Cr ', '₹3.24 Cr ', '₹4.32 Cr ',\n",
       "       '₹4.05 Cr ', '₹3.59 Cr ', '₹6.37 Cr ', '₹3.27 Cr ', '₹7.22 Cr ',\n",
       "       '₹3.21 Cr ', '₹4.14 Cr ', '₹4.41 Cr ', '₹7.65 Cr ', '₹5.20 Cr ',\n",
       "       '₹4.39 Cr ', '₹4.68 Cr ', '₹4.67 Cr ', '₹5.60 Cr ', '₹6.08 Cr '],\n",
       "      dtype=object)"
      ]
     },
     "execution_count": 1111,
     "metadata": {},
     "output_type": "execute_result"
    }
   ],
   "source": [
    "df.price.unique()"
   ]
  },
  {
   "cell_type": "code",
   "execution_count": 1112,
   "id": "07df6423",
   "metadata": {},
   "outputs": [],
   "source": [
    "df['price']=df['price'].str.replace(r'\\W+','', regex=True)\n",
    "df['price']=df['price'].str.replace(r'\\D+','', regex=True)\n",
    "df['price']=df['price'].str.split().str[0].astype(float)"
   ]
  },
  {
   "cell_type": "code",
   "execution_count": 1113,
   "id": "c66c6e46",
   "metadata": {},
   "outputs": [
    {
     "data": {
      "text/plain": [
       "property_name      object\n",
       "areaWithType       object\n",
       "square_feet       float64\n",
       "transaction        object\n",
       "status             object\n",
       "floor              object\n",
       "furnishing         object\n",
       "facing             object\n",
       "description        object\n",
       "price_per_sqft     object\n",
       "price             float64\n",
       "dtype: object"
      ]
     },
     "execution_count": 1113,
     "metadata": {},
     "output_type": "execute_result"
    }
   ],
   "source": [
    "df.dtypes"
   ]
  },
  {
   "cell_type": "code",
   "execution_count": 1114,
   "id": "8b558e6b",
   "metadata": {},
   "outputs": [
    {
     "data": {
      "text/plain": [
       "array(['₹2,891 per sqft ', '₹3,551 per sqft ', '₹3,800 per sqft ', ...,\n",
       "       '₹8,512 per sqft ', '₹8,200 per sqft ', '₹5,756 per sqft '],\n",
       "      shape=(2135,), dtype=object)"
      ]
     },
     "execution_count": 1114,
     "metadata": {},
     "output_type": "execute_result"
    }
   ],
   "source": [
    "df.price_per_sqft.unique()"
   ]
  },
  {
   "cell_type": "code",
   "execution_count": 1115,
   "id": "8dba352c",
   "metadata": {},
   "outputs": [],
   "source": [
    "df['price_per_sqft']=df['price_per_sqft'].str.replace(r'\\W+','', regex=True)\n",
    "df['price_per_sqft']=df['price_per_sqft'].str.replace(r'\\D+','', regex=True)\n",
    "df['price_per_sqft']=df['price_per_sqft'].str.split().str[0].astype(float)"
   ]
  },
  {
   "cell_type": "code",
   "execution_count": 1116,
   "id": "f627dfa3",
   "metadata": {},
   "outputs": [
    {
     "data": {
      "text/plain": [
       "property_name      object\n",
       "areaWithType       object\n",
       "square_feet       float64\n",
       "transaction        object\n",
       "status             object\n",
       "floor              object\n",
       "furnishing         object\n",
       "facing             object\n",
       "description        object\n",
       "price_per_sqft    float64\n",
       "price             float64\n",
       "dtype: object"
      ]
     },
     "execution_count": 1116,
     "metadata": {},
     "output_type": "execute_result"
    }
   ],
   "source": [
    "df.dtypes"
   ]
  },
  {
   "cell_type": "code",
   "execution_count": 1117,
   "id": "a6929cab",
   "metadata": {},
   "outputs": [
    {
     "data": {
      "text/html": [
       "<div>\n",
       "<style scoped>\n",
       "    .dataframe tbody tr th:only-of-type {\n",
       "        vertical-align: middle;\n",
       "    }\n",
       "\n",
       "    .dataframe tbody tr th {\n",
       "        vertical-align: top;\n",
       "    }\n",
       "\n",
       "    .dataframe thead th {\n",
       "        text-align: right;\n",
       "    }\n",
       "</style>\n",
       "<table border=\"1\" class=\"dataframe\">\n",
       "  <thead>\n",
       "    <tr style=\"text-align: right;\">\n",
       "      <th></th>\n",
       "      <th>property_name</th>\n",
       "      <th>areaWithType</th>\n",
       "      <th>square_feet</th>\n",
       "      <th>transaction</th>\n",
       "      <th>status</th>\n",
       "      <th>floor</th>\n",
       "      <th>furnishing</th>\n",
       "      <th>facing</th>\n",
       "      <th>description</th>\n",
       "      <th>price_per_sqft</th>\n",
       "      <th>price</th>\n",
       "    </tr>\n",
       "  </thead>\n",
       "  <tbody>\n",
       "    <tr>\n",
       "      <th>0</th>\n",
       "      <td>2 BHK Apartment for Sale in Dindoli Surat</td>\n",
       "      <td>Carpet Area</td>\n",
       "      <td>644.0</td>\n",
       "      <td>New Property</td>\n",
       "      <td>Poss. by Oct '24</td>\n",
       "      <td>5 out of 10</td>\n",
       "      <td>Unfurnished</td>\n",
       "      <td>West</td>\n",
       "      <td>Luxury project with basement parking, Solar ro...</td>\n",
       "      <td>2891.0</td>\n",
       "      <td>338.0</td>\n",
       "    </tr>\n",
       "    <tr>\n",
       "      <th>1</th>\n",
       "      <td>2 BHK Apartment for Sale in Althan Surat</td>\n",
       "      <td>Super Area</td>\n",
       "      <td>1278.0</td>\n",
       "      <td>New Property</td>\n",
       "      <td>Poss. by Jan '26</td>\n",
       "      <td>6 out of 14</td>\n",
       "      <td>Unfurnished</td>\n",
       "      <td>South -West</td>\n",
       "      <td>2 And 3 BHK Luxurious Flat for Sell In New Alt...</td>\n",
       "      <td>3551.0</td>\n",
       "      <td>454.0</td>\n",
       "    </tr>\n",
       "    <tr>\n",
       "      <th>2</th>\n",
       "      <td>2 BHK Apartment for Sale in Pal Gam Surat</td>\n",
       "      <td>Super Area</td>\n",
       "      <td>1173.0</td>\n",
       "      <td>Resale</td>\n",
       "      <td>Ready to Move</td>\n",
       "      <td>5 out of 13</td>\n",
       "      <td>Semi-Furnished</td>\n",
       "      <td>East</td>\n",
       "      <td>This affordable 2 BHK flat is situated along a...</td>\n",
       "      <td>3800.0</td>\n",
       "      <td>446.0</td>\n",
       "    </tr>\n",
       "    <tr>\n",
       "      <th>3</th>\n",
       "      <td>2 BHK Apartment for Sale in Jahangirabad Surat</td>\n",
       "      <td>Carpet Area</td>\n",
       "      <td>700.0</td>\n",
       "      <td>New Property</td>\n",
       "      <td>Ready to Move</td>\n",
       "      <td>6 out of 14</td>\n",
       "      <td>Unfurnished</td>\n",
       "      <td>East</td>\n",
       "      <td>2 BHK Flat For sell IN Jahangirabad Prime Loca...</td>\n",
       "      <td>3966.0</td>\n",
       "      <td>47.0</td>\n",
       "    </tr>\n",
       "    <tr>\n",
       "      <th>4</th>\n",
       "      <td>2 BHK Apartment for Sale in Orchid Fantasia, P...</td>\n",
       "      <td>Super Area</td>\n",
       "      <td>1250.0</td>\n",
       "      <td>Orchid Fantasia</td>\n",
       "      <td>New Property</td>\n",
       "      <td>Unfurnished</td>\n",
       "      <td>2</td>\n",
       "      <td>2</td>\n",
       "      <td>Multistorey Apartment for Sale in Palanpur, Su...</td>\n",
       "      <td>3600.0</td>\n",
       "      <td>45.0</td>\n",
       "    </tr>\n",
       "  </tbody>\n",
       "</table>\n",
       "</div>"
      ],
      "text/plain": [
       "                                       property_name areaWithType  \\\n",
       "0          2 BHK Apartment for Sale in Dindoli Surat  Carpet Area   \n",
       "1           2 BHK Apartment for Sale in Althan Surat   Super Area   \n",
       "2          2 BHK Apartment for Sale in Pal Gam Surat   Super Area   \n",
       "3     2 BHK Apartment for Sale in Jahangirabad Surat  Carpet Area   \n",
       "4  2 BHK Apartment for Sale in Orchid Fantasia, P...   Super Area   \n",
       "\n",
       "   square_feet      transaction            status        floor  \\\n",
       "0        644.0     New Property  Poss. by Oct '24  5 out of 10   \n",
       "1       1278.0     New Property  Poss. by Jan '26  6 out of 14   \n",
       "2       1173.0           Resale     Ready to Move  5 out of 13   \n",
       "3        700.0     New Property     Ready to Move  6 out of 14   \n",
       "4       1250.0  Orchid Fantasia      New Property  Unfurnished   \n",
       "\n",
       "       furnishing       facing  \\\n",
       "0     Unfurnished         West   \n",
       "1     Unfurnished  South -West   \n",
       "2  Semi-Furnished         East   \n",
       "3     Unfurnished         East   \n",
       "4               2            2   \n",
       "\n",
       "                                         description  price_per_sqft  price  \n",
       "0  Luxury project with basement parking, Solar ro...          2891.0  338.0  \n",
       "1  2 And 3 BHK Luxurious Flat for Sell In New Alt...          3551.0  454.0  \n",
       "2  This affordable 2 BHK flat is situated along a...          3800.0  446.0  \n",
       "3  2 BHK Flat For sell IN Jahangirabad Prime Loca...          3966.0   47.0  \n",
       "4  Multistorey Apartment for Sale in Palanpur, Su...          3600.0   45.0  "
      ]
     },
     "execution_count": 1117,
     "metadata": {},
     "output_type": "execute_result"
    }
   ],
   "source": [
    "df.head()"
   ]
  },
  {
   "cell_type": "code",
   "execution_count": 1118,
   "id": "89d4b176",
   "metadata": {},
   "outputs": [
    {
     "data": {
      "text/plain": [
       "array(['2 BHK Apartment for Sale in Dindoli Surat',\n",
       "       '2 BHK Apartment for Sale in Althan Surat',\n",
       "       '2 BHK Apartment for Sale in Pal Gam Surat', ...,\n",
       "       '5 BHK Apartment for Sale in Sangini Arise, Bharthana Surat',\n",
       "       '5 BHK Apartment for Sale in D and M Elysium Avenue, Piplod Surat',\n",
       "       '6 BHK Apartment for Sale in Millionaires Lifestyle, Vesu Surat'],\n",
       "      shape=(1992,), dtype=object)"
      ]
     },
     "execution_count": 1118,
     "metadata": {},
     "output_type": "execute_result"
    }
   ],
   "source": [
    "df['property_name'].unique()"
   ]
  },
  {
   "cell_type": "code",
   "execution_count": 1119,
   "id": "b3f3b5be",
   "metadata": {},
   "outputs": [],
   "source": [
    "df['BHK']=df['property_name'].str.extract(r'(\\d+)').astype(float)\n"
   ]
  },
  {
   "cell_type": "code",
   "execution_count": 1120,
   "id": "dbbefdc3",
   "metadata": {},
   "outputs": [
    {
     "data": {
      "text/plain": [
       "array(['5 out of 10', '6 out of 14', '5 out of 13', 'Unfurnished',\n",
       "       'New Property', '7 out of 10', '3 out of 14', '6 out of 13',\n",
       "       '1 out of 1', '1 out of 13', '4 out of 7', '3 out of 3',\n",
       "       '2 out of 6', '3 out of 5', '2 out of 5', '3 out of 12',\n",
       "       '5 out of 5', 'Resale', 'Ground out of 1',\n",
       "       'Lower Basement out of 7', '1 out of 5', '7 out of 14',\n",
       "       '9 out of 14', '5 out of 12', '7 out of 13', '1 out of 2',\n",
       "       '2 out of 10', 'Freehold', '12 out of 14', '10 out of 14',\n",
       "       '2 out of 12', '1 out of 4', '13 out of 14', '4 out of 14',\n",
       "       '6 out of 10', '2 out of 4', '3 out of 4', '9 out of 13',\n",
       "       'Upper Basement out of 5', '3 out of 10', '1 out of 3',\n",
       "       '4 out of 4', 'Ground out of 2', 'Lower Basement out of 2',\n",
       "       'Ground out of 4', nan, 'Ground out of 5', '4 out of 10',\n",
       "       'Ground out of 14', 'Ground out of 6', '5 out of 6', '8 out of 9',\n",
       "       '4 out of 5', '2 out of 7', '7 out of 7', 'Ground out of 3',\n",
       "       '4 out of 8', '8 out of 14', '6 out of 7', '7 out of 11',\n",
       "       'Upper Basement out of 4', 'Furnished', 'Congo', '3', '2 out of 3',\n",
       "       '1 out of 7', 'Ground', '1 out of 6', '9 out of 11',\n",
       "       '14 out of 14', '5 out of 14', '1 out of 8', '5 out of 7',\n",
       "       '8 out of 12', 'Ground out of 10', '2 out of 2', '7 out of 12',\n",
       "       '3 out of 6', '1 out of 12', '16 out of 19', '13 out of 13',\n",
       "       '6 out of 8', '8 out of 8', '3 out of 9', '11 out of 12',\n",
       "       '6 out of 12', '8 out of 13', '11 out of 11', '4 out of 6', '1',\n",
       "       '2 out of 13', '1 out of 9', '1 out of 10',\n",
       "       'Upper Basement out of 14', '2', '5 out of 8', '10 out of 12',\n",
       "       '3 out of 7', '6 out of 9', '4 out of 13', '11 out of 15', 'No',\n",
       "       '10 out of 10', 'Ground out of 7', '3 out of 11', 'Yes',\n",
       "       'Lower Basement out of 59', '6 out of 11', '4 out of 15',\n",
       "       'Semi-Furnished', '11 out of 13', 'Lower Basement out of 4',\n",
       "       'Upper Basement out of 12', 'Upper Basement out of 1',\n",
       "       '10 out of 13', '7 out of 9', '4 out of 9', '3 out of 8',\n",
       "       'Lower Basement out of 5', '4 out of 12', '10 out of 11',\n",
       "       'Ground out of 11', '7 out of 8', 'Other', '1 out of 11',\n",
       "       '9 out of 10', '5 out of 11', 'Lower Basement out of 6',\n",
       "       '9 out of 9', 'Ground out of 13', '2 out of 8',\n",
       "       'The Polaris Avenue', '4 out of 11', '12 out of 13', '8 out of 10',\n",
       "       '4 out of 19', '11 out of 14', '5 out of 15', '15 out of 19',\n",
       "       '3 out of 13', 'Co-operative Society', '9 out of 12',\n",
       "       '7 out of 19', '2 out of 14', '10 out of 19',\n",
       "       'Lower Basement out of 14', '6 out of 15', '6 out of 19',\n",
       "       '2 out of 11', '9 out of 19', '9 out of 15', '18 out of 19',\n",
       "       '1 out of 30', '1 out of 15', '10 out of 20', '13 out of 15',\n",
       "       '1 out of 14', '20 out of 21', '8 out of 19', 'Om Residency',\n",
       "       '8 out of 11', '7 out of 15', '5 out of 9', '12 out of 12',\n",
       "       '11 out of 20', '2 out of 9', '14 out of 15', '15 out of 21',\n",
       "       '12 out of 15', '15 out of 15', '8 out of 15', '10 out of 15',\n",
       "       '13 out of 19', '10 out of 21', '3 out of 15', '14 out of 19',\n",
       "       '2 out of 15', '9 out of 20', '8 out of 20', '18 out of 21',\n",
       "       'Ground out of 8', '6 out of 6', 'Milestone Regalia',\n",
       "       '5 out of 20', '15 out of 18', '5 out of 19', '5 out of 16',\n",
       "       '17 out of 20', '5 out of 18', '15 out of 20',\n",
       "       'Lower Basement out of 1', '10 out of 18', '7 out of 20',\n",
       "       '17 out of 18', '7 out of 17', '5', '9 out of 25', '6 out of 20',\n",
       "       '6 out of 18', 'Upper Basement out of 3', '4 out of 18',\n",
       "       '9 out of 21', '4 out of 21', '19 out of 19', '17 out of 19',\n",
       "       '7 out of 18', '20 out of 20', '4 out of 20', '9 out of 18',\n",
       "       'Ground out of 12', '3 out of 18', 'Ground out of 19',\n",
       "       '16 out of 20', '2 out of 19', '16 out of 18', '12 out of 19',\n",
       "       '3 out of 19', '3 out of 20', '1 out of 20', '2 out of 17',\n",
       "       '9 out of 17', '14 out of 20', '1 out of 18'], dtype=object)"
      ]
     },
     "execution_count": 1120,
     "metadata": {},
     "output_type": "execute_result"
    }
   ],
   "source": [
    "df['floor'].unique()"
   ]
  },
  {
   "cell_type": "code",
   "execution_count": 1121,
   "id": "9be2fabb",
   "metadata": {},
   "outputs": [],
   "source": [
    "df['num_of_floor']=df['floor'].str.extract(r'(\\d+)').astype(float)\n",
    "df['total_floor']=df['floor'].str.extract(r'\\s(\\d+)').astype(float)"
   ]
  },
  {
   "cell_type": "code",
   "execution_count": 1122,
   "id": "f749e106",
   "metadata": {},
   "outputs": [
    {
     "data": {
      "text/plain": [
       "property_name      object\n",
       "areaWithType       object\n",
       "square_feet       float64\n",
       "transaction        object\n",
       "status             object\n",
       "floor              object\n",
       "furnishing         object\n",
       "facing             object\n",
       "description        object\n",
       "price_per_sqft    float64\n",
       "price             float64\n",
       "BHK               float64\n",
       "num_of_floor      float64\n",
       "total_floor       float64\n",
       "dtype: object"
      ]
     },
     "execution_count": 1122,
     "metadata": {},
     "output_type": "execute_result"
    }
   ],
   "source": [
    "df.dtypes"
   ]
  },
  {
   "cell_type": "code",
   "execution_count": 1123,
   "id": "bf2b1edb",
   "metadata": {},
   "outputs": [],
   "source": [
    "df['furnishing'].dropna(inplace=True)\n",
    "df['facing'].dropna(inplace=True)"
   ]
  },
  {
   "cell_type": "code",
   "execution_count": 1124,
   "id": "4e47226f",
   "metadata": {},
   "outputs": [],
   "source": [
    "df.drop(columns=['areaWithType', 'description'], inplace=True, errors='ignore')"
   ]
  },
  {
   "cell_type": "code",
   "execution_count": 1125,
   "id": "27fdf288",
   "metadata": {},
   "outputs": [
    {
     "data": {
      "text/plain": [
       "np.int64(368)"
      ]
     },
     "execution_count": 1125,
     "metadata": {},
     "output_type": "execute_result"
    }
   ],
   "source": [
    "df['price_per_sqft'].isnull().sum()"
   ]
  },
  {
   "cell_type": "code",
   "execution_count": 1126,
   "id": "a711be40",
   "metadata": {},
   "outputs": [],
   "source": [
    "missing_price = df['price_per_sqft'].isnull()\n",
    "df.loc[missing_price,'price_per_sqft'] = (df.loc[missing_price,'price'] / df.loc[missing_price,'square_feet'])\n",
    "df['price_per_sqft'] = df['price_per_sqft'].round(2)"
   ]
  },
  {
   "cell_type": "code",
   "execution_count": 1127,
   "id": "697bb542",
   "metadata": {},
   "outputs": [
    {
     "data": {
      "text/plain": [
       "np.int64(179)"
      ]
     },
     "execution_count": 1127,
     "metadata": {},
     "output_type": "execute_result"
    }
   ],
   "source": [
    "df['price_per_sqft'].isnull().sum()"
   ]
  },
  {
   "cell_type": "code",
   "execution_count": 1128,
   "id": "806bf215",
   "metadata": {},
   "outputs": [
    {
     "name": "stdout",
     "output_type": "stream",
     "text": [
      "<class 'pandas.core.frame.DataFrame'>\n",
      "RangeIndex: 4525 entries, 0 to 4524\n",
      "Data columns (total 12 columns):\n",
      " #   Column          Non-Null Count  Dtype  \n",
      "---  ------          --------------  -----  \n",
      " 0   property_name   4525 non-null   object \n",
      " 1   square_feet     4519 non-null   float64\n",
      " 2   transaction     4421 non-null   object \n",
      " 3   status          4524 non-null   object \n",
      " 4   floor           4480 non-null   object \n",
      " 5   furnishing      4185 non-null   object \n",
      " 6   facing          3936 non-null   object \n",
      " 7   price_per_sqft  4346 non-null   float64\n",
      " 8   price           4352 non-null   float64\n",
      " 9   BHK             3896 non-null   float64\n",
      " 10  num_of_floor    3686 non-null   float64\n",
      " 11  total_floor     3645 non-null   float64\n",
      "dtypes: float64(6), object(6)\n",
      "memory usage: 424.3+ KB\n"
     ]
    }
   ],
   "source": [
    "df.info()"
   ]
  },
  {
   "cell_type": "code",
   "execution_count": 1129,
   "id": "4071d453",
   "metadata": {},
   "outputs": [
    {
     "name": "stderr",
     "output_type": "stream",
     "text": [
      "C:\\Users\\bbuser\\AppData\\Local\\Temp\\ipykernel_21212\\2115715614.py:2: FutureWarning: A value is trying to be set on a copy of a DataFrame or Series through chained assignment using an inplace method.\n",
      "The behavior will change in pandas 3.0. This inplace method will never work because the intermediate object on which we are setting values always behaves as a copy.\n",
      "\n",
      "For example, when doing 'df[col].method(value, inplace=True)', try using 'df.method({col: value}, inplace=True)' or df[col] = df[col].method(value) instead, to perform the operation inplace on the original object.\n",
      "\n",
      "\n",
      "  df[i].fillna(df[i].mode()[0], inplace=True)\n"
     ]
    }
   ],
   "source": [
    "for i in ['transaction', 'status', 'floor']:\n",
    "    df[i].fillna(df[i].mode()[0], inplace=True)"
   ]
  },
  {
   "cell_type": "code",
   "execution_count": 1130,
   "id": "c3b3367f",
   "metadata": {},
   "outputs": [
    {
     "name": "stdout",
     "output_type": "stream",
     "text": [
      "<class 'pandas.core.frame.DataFrame'>\n",
      "RangeIndex: 4525 entries, 0 to 4524\n",
      "Data columns (total 12 columns):\n",
      " #   Column          Non-Null Count  Dtype  \n",
      "---  ------          --------------  -----  \n",
      " 0   property_name   4525 non-null   object \n",
      " 1   square_feet     4519 non-null   float64\n",
      " 2   transaction     4525 non-null   object \n",
      " 3   status          4525 non-null   object \n",
      " 4   floor           4525 non-null   object \n",
      " 5   furnishing      4185 non-null   object \n",
      " 6   facing          3936 non-null   object \n",
      " 7   price_per_sqft  4346 non-null   float64\n",
      " 8   price           4352 non-null   float64\n",
      " 9   BHK             3896 non-null   float64\n",
      " 10  num_of_floor    3686 non-null   float64\n",
      " 11  total_floor     3645 non-null   float64\n",
      "dtypes: float64(6), object(6)\n",
      "memory usage: 424.3+ KB\n"
     ]
    }
   ],
   "source": [
    "df.info()"
   ]
  },
  {
   "cell_type": "code",
   "execution_count": 1131,
   "id": "f798f7b1",
   "metadata": {},
   "outputs": [
    {
     "name": "stderr",
     "output_type": "stream",
     "text": [
      "C:\\Users\\bbuser\\AppData\\Local\\Temp\\ipykernel_21212\\1994902445.py:2: FutureWarning: A value is trying to be set on a copy of a DataFrame or Series through chained assignment using an inplace method.\n",
      "The behavior will change in pandas 3.0. This inplace method will never work because the intermediate object on which we are setting values always behaves as a copy.\n",
      "\n",
      "For example, when doing 'df[col].method(value, inplace=True)', try using 'df.method({col: value}, inplace=True)' or df[col] = df[col].method(value) instead, to perform the operation inplace on the original object.\n",
      "\n",
      "\n",
      "  df[i].fillna(df[i].median(), inplace=True)\n",
      "C:\\Users\\bbuser\\AppData\\Local\\Temp\\ipykernel_21212\\1994902445.py:2: FutureWarning: A value is trying to be set on a copy of a DataFrame or Series through chained assignment using an inplace method.\n",
      "The behavior will change in pandas 3.0. This inplace method will never work because the intermediate object on which we are setting values always behaves as a copy.\n",
      "\n",
      "For example, when doing 'df[col].method(value, inplace=True)', try using 'df.method({col: value}, inplace=True)' or df[col] = df[col].method(value) instead, to perform the operation inplace on the original object.\n",
      "\n",
      "\n",
      "  df[i].fillna(df[i].median(), inplace=True)\n",
      "C:\\Users\\bbuser\\AppData\\Local\\Temp\\ipykernel_21212\\1994902445.py:2: FutureWarning: A value is trying to be set on a copy of a DataFrame or Series through chained assignment using an inplace method.\n",
      "The behavior will change in pandas 3.0. This inplace method will never work because the intermediate object on which we are setting values always behaves as a copy.\n",
      "\n",
      "For example, when doing 'df[col].method(value, inplace=True)', try using 'df.method({col: value}, inplace=True)' or df[col] = df[col].method(value) instead, to perform the operation inplace on the original object.\n",
      "\n",
      "\n",
      "  df[i].fillna(df[i].median(), inplace=True)\n",
      "C:\\Users\\bbuser\\AppData\\Local\\Temp\\ipykernel_21212\\1994902445.py:2: FutureWarning: A value is trying to be set on a copy of a DataFrame or Series through chained assignment using an inplace method.\n",
      "The behavior will change in pandas 3.0. This inplace method will never work because the intermediate object on which we are setting values always behaves as a copy.\n",
      "\n",
      "For example, when doing 'df[col].method(value, inplace=True)', try using 'df.method({col: value}, inplace=True)' or df[col] = df[col].method(value) instead, to perform the operation inplace on the original object.\n",
      "\n",
      "\n",
      "  df[i].fillna(df[i].median(), inplace=True)\n",
      "C:\\Users\\bbuser\\AppData\\Local\\Temp\\ipykernel_21212\\1994902445.py:2: FutureWarning: A value is trying to be set on a copy of a DataFrame or Series through chained assignment using an inplace method.\n",
      "The behavior will change in pandas 3.0. This inplace method will never work because the intermediate object on which we are setting values always behaves as a copy.\n",
      "\n",
      "For example, when doing 'df[col].method(value, inplace=True)', try using 'df.method({col: value}, inplace=True)' or df[col] = df[col].method(value) instead, to perform the operation inplace on the original object.\n",
      "\n",
      "\n",
      "  df[i].fillna(df[i].median(), inplace=True)\n",
      "C:\\Users\\bbuser\\AppData\\Local\\Temp\\ipykernel_21212\\1994902445.py:2: FutureWarning: A value is trying to be set on a copy of a DataFrame or Series through chained assignment using an inplace method.\n",
      "The behavior will change in pandas 3.0. This inplace method will never work because the intermediate object on which we are setting values always behaves as a copy.\n",
      "\n",
      "For example, when doing 'df[col].method(value, inplace=True)', try using 'df.method({col: value}, inplace=True)' or df[col] = df[col].method(value) instead, to perform the operation inplace on the original object.\n",
      "\n",
      "\n",
      "  df[i].fillna(df[i].median(), inplace=True)\n"
     ]
    }
   ],
   "source": [
    "for i in ['square_feet', 'price', 'price_per_sqft', 'num_of_floor', 'total_floor', 'BHK']:\n",
    "    df[i].fillna(df[i].median(), inplace=True)"
   ]
  },
  {
   "cell_type": "code",
   "execution_count": 1132,
   "id": "07bd4574",
   "metadata": {},
   "outputs": [
    {
     "name": "stdout",
     "output_type": "stream",
     "text": [
      "<class 'pandas.core.frame.DataFrame'>\n",
      "RangeIndex: 4525 entries, 0 to 4524\n",
      "Data columns (total 12 columns):\n",
      " #   Column          Non-Null Count  Dtype  \n",
      "---  ------          --------------  -----  \n",
      " 0   property_name   4525 non-null   object \n",
      " 1   square_feet     4525 non-null   float64\n",
      " 2   transaction     4525 non-null   object \n",
      " 3   status          4525 non-null   object \n",
      " 4   floor           4525 non-null   object \n",
      " 5   furnishing      4185 non-null   object \n",
      " 6   facing          3936 non-null   object \n",
      " 7   price_per_sqft  4525 non-null   float64\n",
      " 8   price           4525 non-null   float64\n",
      " 9   BHK             4525 non-null   float64\n",
      " 10  num_of_floor    4525 non-null   float64\n",
      " 11  total_floor     4525 non-null   float64\n",
      "dtypes: float64(6), object(6)\n",
      "memory usage: 424.3+ KB\n"
     ]
    }
   ],
   "source": [
    "df.info()"
   ]
  },
  {
   "cell_type": "code",
   "execution_count": 1133,
   "id": "31fc5e4b",
   "metadata": {},
   "outputs": [
    {
     "name": "stdout",
     "output_type": "stream",
     "text": [
      "<class 'pandas.core.frame.DataFrame'>\n",
      "RangeIndex: 4525 entries, 0 to 4524\n",
      "Data columns (total 12 columns):\n",
      " #   Column          Non-Null Count  Dtype  \n",
      "---  ------          --------------  -----  \n",
      " 0   property_name   4525 non-null   object \n",
      " 1   square_feet     4525 non-null   float64\n",
      " 2   transaction     4525 non-null   object \n",
      " 3   status          4525 non-null   object \n",
      " 4   floor           4525 non-null   object \n",
      " 5   furnishing      4185 non-null   object \n",
      " 6   facing          3936 non-null   object \n",
      " 7   price_per_sqft  4525 non-null   float64\n",
      " 8   price           4525 non-null   float64\n",
      " 9   BHK             4525 non-null   float64\n",
      " 10  num_of_floor    4525 non-null   float64\n",
      " 11  total_floor     4525 non-null   float64\n",
      "dtypes: float64(6), object(6)\n",
      "memory usage: 424.3+ KB\n"
     ]
    }
   ],
   "source": [
    "df.info()"
   ]
  },
  {
   "cell_type": "code",
   "execution_count": 1135,
   "id": "df76f93a",
   "metadata": {},
   "outputs": [],
   "source": [
    "def iqr_outlier(col):\n",
    "    Q1 = df[col].quantile(0.25)\n",
    "    Q3 = df[col].quantile(0.75)\n",
    "    IQR = Q3 - Q1\n",
    "    LL = Q1 - 1.5 * IQR\n",
    "    UL = Q3 + 1.5 * IQR\n",
    "    return LL,UL"
   ]
  },
  {
   "cell_type": "code",
   "execution_count": 1136,
   "id": "85192043",
   "metadata": {},
   "outputs": [
    {
     "name": "stdout",
     "output_type": "stream",
     "text": [
      "-233.5 522.5\n"
     ]
    }
   ],
   "source": [
    "l,u=iqr_outlier(\"price\")\n",
    "print(l,u)"
   ]
  },
  {
   "cell_type": "code",
   "execution_count": 1137,
   "id": "7eb15903",
   "metadata": {},
   "outputs": [],
   "source": [
    "df = df[df['price'].between(l,u)]"
   ]
  },
  {
   "cell_type": "code",
   "execution_count": 1138,
   "id": "f521a33f",
   "metadata": {},
   "outputs": [
    {
     "name": "stdout",
     "output_type": "stream",
     "text": [
      "-1176.0 3960.0\n"
     ]
    }
   ],
   "source": [
    "l,u=iqr_outlier(\"square_feet\")\n",
    "print(l,u)"
   ]
  },
  {
   "cell_type": "code",
   "execution_count": 1139,
   "id": "30a41787",
   "metadata": {},
   "outputs": [],
   "source": [
    "df = df[df['square_feet'].between(l,u)]"
   ]
  },
  {
   "cell_type": "code",
   "execution_count": 1140,
   "id": "8913a19e",
   "metadata": {},
   "outputs": [
    {
     "name": "stdout",
     "output_type": "stream",
     "text": [
      "-323.125 9793.875\n"
     ]
    }
   ],
   "source": [
    "l,u=iqr_outlier(\"price_per_sqft\")\n",
    "print(l,u)"
   ]
  },
  {
   "cell_type": "code",
   "execution_count": 1141,
   "id": "8a912bd9",
   "metadata": {},
   "outputs": [],
   "source": [
    "df = df[df['price_per_sqft'].between(l,u)]"
   ]
  },
  {
   "cell_type": "code",
   "execution_count": 1142,
   "id": "38541538",
   "metadata": {},
   "outputs": [
    {
     "data": {
      "text/plain": [
       "<Axes: >"
      ]
     },
     "execution_count": 1142,
     "metadata": {},
     "output_type": "execute_result"
    },
    {
     "data": {
      "image/png": "[encoded data removed]",
      "text/plain": [
       "<Figure size 640x480 with 2 Axes>"
      ]
     },
     "metadata": {},
     "output_type": "display_data"
    }
   ],
   "source": [
    "sns.heatmap(df.corr(numeric_only=True),annot=True)"
   ]
  },
  {
   "cell_type": "code",
   "execution_count": 1143,
   "id": "f8ef11d5",
   "metadata": {},
   "outputs": [],
   "source": [
    "label_columns = ['transaction', 'status', 'furnishing', 'facing', 'floor', 'property_name']\n",
    "label_encoders = {}\n",
    "for col in label_columns:\n",
    "    le = LabelEncoder()\n",
    "    df[col + '_encoded'] = le.fit_transform(df[col])\n",
    "    label_encoders[col] = le"
   ]
  },
  {
   "cell_type": "code",
   "execution_count": null,
   "id": "3aaefa88",
   "metadata": {},
   "outputs": [],
   "source": []
  }
 ],
 "metadata": {
  "kernelspec": {
   "display_name": "Python 3",
   "language": "python",
   "name": "python3"
  },
  "language_info": {
   "codemirror_mode": {
    "name": "ipython",
    "version": 3
   },
   "file_extension": ".py",
   "mimetype": "text/x-python",
   "name": "python",
   "nbconvert_exporter": "python",
   "pygments_lexer": "ipython3",
   "version": "3.13.3"
  }
 },
 "nbformat": 4,
 "nbformat_minor": 5
}
