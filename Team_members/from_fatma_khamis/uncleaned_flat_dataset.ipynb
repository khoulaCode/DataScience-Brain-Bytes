{
 "cells": [
  {
   "cell_type": "code",
   "id": "initial_id",
   "metadata": {
    "collapsed": true,
    "ExecuteTime": {
     "end_time": "2025-07-22T07:19:56.169421Z",
     "start_time": "2025-07-22T07:19:56.162471Z"
    }
   },
   "source": [
    "import pandas as pd\n",
    "import numpy as np\n",
    "import re\n",
    "import matplotlib.pyplot as plt\n",
    "import seaborn as sns\n",
    "from scipy.stats import boxcox\n",
    "from sklearn.linear_model import LinearRegression\n",
    "from sklearn.preprocessing import StandardScaler, LabelEncoder\n",
    "from sklearn.model_selection import train_test_split\n",
    "from sklearn.metrics import mean_squared_error, r2_score"
   ],
   "outputs": [],
   "execution_count": 1124
  },
  {
   "metadata": {
    "ExecuteTime": {
     "end_time": "2025-07-22T07:19:56.296394Z",
     "start_time": "2025-07-22T07:19:56.179965Z"
    }
   },
   "cell_type": "code",
   "source": [
    "df = pd.read_csv(\"surat_uncleaned.csv\")\n",
    "df.head()"
   ],
   "id": "7ab1ed7e5aa8f52b",
   "outputs": [
    {
     "data": {
      "text/plain": [
       "                                       property_name areaWithType square_feet  \\\n",
       "0          2 BHK Apartment for Sale in Dindoli Surat  Carpet Area    644 sqft   \n",
       "1           2 BHK Apartment for Sale in Althan Surat   Super Area   1278 sqft   \n",
       "2          2 BHK Apartment for Sale in Pal Gam Surat   Super Area   1173 sqft   \n",
       "3     2 BHK Apartment for Sale in Jahangirabad Surat  Carpet Area    700 sqft   \n",
       "4  2 BHK Apartment for Sale in Orchid Fantasia, P...   Super Area   1250 sqft   \n",
       "\n",
       "       transaction            status        floor      furnishing  \\\n",
       "0     New Property  Poss. by Oct '24  5 out of 10     Unfurnished   \n",
       "1     New Property  Poss. by Jan '26  6 out of 14     Unfurnished   \n",
       "2           Resale     Ready to Move  5 out of 13  Semi-Furnished   \n",
       "3     New Property     Ready to Move  6 out of 14     Unfurnished   \n",
       "4  Orchid Fantasia      New Property  Unfurnished               2   \n",
       "\n",
       "        facing                                        description  \\\n",
       "0         West  Luxury project with basement parking, Solar ro...   \n",
       "1  South -West  2 And 3 BHK Luxurious Flat for Sell In New Alt...   \n",
       "2         East  This affordable 2 BHK flat is situated along a...   \n",
       "3         East  2 BHK Flat For sell IN Jahangirabad Prime Loca...   \n",
       "4            2  Multistorey Apartment for Sale in Palanpur, Su...   \n",
       "\n",
       "     price_per_sqft       price  \n",
       "0  ₹2,891 per sqft   ₹33.8 Lac   \n",
       "1  ₹3,551 per sqft   ₹45.4 Lac   \n",
       "2  ₹3,800 per sqft   ₹44.6 Lac   \n",
       "3  ₹3,966 per sqft     ₹47 Lac   \n",
       "4  ₹3,600 per sqft     ₹45 Lac   "
      ],
      "text/html": [
       "<div>\n",
       "<style scoped>\n",
       "    .dataframe tbody tr th:only-of-type {\n",
       "        vertical-align: middle;\n",
       "    }\n",
       "\n",
       "    .dataframe tbody tr th {\n",
       "        vertical-align: top;\n",
       "    }\n",
       "\n",
       "    .dataframe thead th {\n",
       "        text-align: right;\n",
       "    }\n",
       "</style>\n",
       "<table border=\"1\" class=\"dataframe\">\n",
       "  <thead>\n",
       "    <tr style=\"text-align: right;\">\n",
       "      <th></th>\n",
       "      <th>property_name</th>\n",
       "      <th>areaWithType</th>\n",
       "      <th>square_feet</th>\n",
       "      <th>transaction</th>\n",
       "      <th>status</th>\n",
       "      <th>floor</th>\n",
       "      <th>furnishing</th>\n",
       "      <th>facing</th>\n",
       "      <th>description</th>\n",
       "      <th>price_per_sqft</th>\n",
       "      <th>price</th>\n",
       "    </tr>\n",
       "  </thead>\n",
       "  <tbody>\n",
       "    <tr>\n",
       "      <th>0</th>\n",
       "      <td>2 BHK Apartment for Sale in Dindoli Surat</td>\n",
       "      <td>Carpet Area</td>\n",
       "      <td>644 sqft</td>\n",
       "      <td>New Property</td>\n",
       "      <td>Poss. by Oct '24</td>\n",
       "      <td>5 out of 10</td>\n",
       "      <td>Unfurnished</td>\n",
       "      <td>West</td>\n",
       "      <td>Luxury project with basement parking, Solar ro...</td>\n",
       "      <td>₹2,891 per sqft</td>\n",
       "      <td>₹33.8 Lac</td>\n",
       "    </tr>\n",
       "    <tr>\n",
       "      <th>1</th>\n",
       "      <td>2 BHK Apartment for Sale in Althan Surat</td>\n",
       "      <td>Super Area</td>\n",
       "      <td>1278 sqft</td>\n",
       "      <td>New Property</td>\n",
       "      <td>Poss. by Jan '26</td>\n",
       "      <td>6 out of 14</td>\n",
       "      <td>Unfurnished</td>\n",
       "      <td>South -West</td>\n",
       "      <td>2 And 3 BHK Luxurious Flat for Sell In New Alt...</td>\n",
       "      <td>₹3,551 per sqft</td>\n",
       "      <td>₹45.4 Lac</td>\n",
       "    </tr>\n",
       "    <tr>\n",
       "      <th>2</th>\n",
       "      <td>2 BHK Apartment for Sale in Pal Gam Surat</td>\n",
       "      <td>Super Area</td>\n",
       "      <td>1173 sqft</td>\n",
       "      <td>Resale</td>\n",
       "      <td>Ready to Move</td>\n",
       "      <td>5 out of 13</td>\n",
       "      <td>Semi-Furnished</td>\n",
       "      <td>East</td>\n",
       "      <td>This affordable 2 BHK flat is situated along a...</td>\n",
       "      <td>₹3,800 per sqft</td>\n",
       "      <td>₹44.6 Lac</td>\n",
       "    </tr>\n",
       "    <tr>\n",
       "      <th>3</th>\n",
       "      <td>2 BHK Apartment for Sale in Jahangirabad Surat</td>\n",
       "      <td>Carpet Area</td>\n",
       "      <td>700 sqft</td>\n",
       "      <td>New Property</td>\n",
       "      <td>Ready to Move</td>\n",
       "      <td>6 out of 14</td>\n",
       "      <td>Unfurnished</td>\n",
       "      <td>East</td>\n",
       "      <td>2 BHK Flat For sell IN Jahangirabad Prime Loca...</td>\n",
       "      <td>₹3,966 per sqft</td>\n",
       "      <td>₹47 Lac</td>\n",
       "    </tr>\n",
       "    <tr>\n",
       "      <th>4</th>\n",
       "      <td>2 BHK Apartment for Sale in Orchid Fantasia, P...</td>\n",
       "      <td>Super Area</td>\n",
       "      <td>1250 sqft</td>\n",
       "      <td>Orchid Fantasia</td>\n",
       "      <td>New Property</td>\n",
       "      <td>Unfurnished</td>\n",
       "      <td>2</td>\n",
       "      <td>2</td>\n",
       "      <td>Multistorey Apartment for Sale in Palanpur, Su...</td>\n",
       "      <td>₹3,600 per sqft</td>\n",
       "      <td>₹45 Lac</td>\n",
       "    </tr>\n",
       "  </tbody>\n",
       "</table>\n",
       "</div>"
      ]
     },
     "execution_count": 1125,
     "metadata": {},
     "output_type": "execute_result"
    }
   ],
   "execution_count": 1125
  },
  {
   "metadata": {
    "ExecuteTime": {
     "end_time": "2025-07-22T07:19:56.345051Z",
     "start_time": "2025-07-22T07:19:56.332997Z"
    }
   },
   "cell_type": "code",
   "source": "df.shape",
   "id": "67adafb00cb1c9da",
   "outputs": [
    {
     "data": {
      "text/plain": [
       "(4525, 11)"
      ]
     },
     "execution_count": 1126,
     "metadata": {},
     "output_type": "execute_result"
    }
   ],
   "execution_count": 1126
  },
  {
   "metadata": {
    "ExecuteTime": {
     "end_time": "2025-07-22T07:19:56.436184Z",
     "start_time": "2025-07-22T07:19:56.415130Z"
    }
   },
   "cell_type": "code",
   "source": "df.info()",
   "id": "7ecbd28e90f8aa4d",
   "outputs": [
    {
     "name": "stdout",
     "output_type": "stream",
     "text": [
      "<class 'pandas.core.frame.DataFrame'>\n",
      "RangeIndex: 4525 entries, 0 to 4524\n",
      "Data columns (total 11 columns):\n",
      " #   Column          Non-Null Count  Dtype \n",
      "---  ------          --------------  ----- \n",
      " 0   property_name   4525 non-null   object\n",
      " 1   areaWithType    4525 non-null   object\n",
      " 2   square_feet     4525 non-null   object\n",
      " 3   transaction     4421 non-null   object\n",
      " 4   status          4524 non-null   object\n",
      " 5   floor           4480 non-null   object\n",
      " 6   furnishing      4185 non-null   object\n",
      " 7   facing          3936 non-null   object\n",
      " 8   description     3154 non-null   object\n",
      " 9   price_per_sqft  4157 non-null   object\n",
      " 10  price           4525 non-null   object\n",
      "dtypes: object(11)\n",
      "memory usage: 389.0+ KB\n"
     ]
    }
   ],
   "execution_count": 1127
  },
  {
   "metadata": {
    "ExecuteTime": {
     "end_time": "2025-07-22T07:19:56.522935Z",
     "start_time": "2025-07-22T07:19:56.504875Z"
    }
   },
   "cell_type": "code",
   "source": "df.isnull().sum()",
   "id": "5392ea4de28040cd",
   "outputs": [
    {
     "data": {
      "text/plain": [
       "property_name        0\n",
       "areaWithType         0\n",
       "square_feet          0\n",
       "transaction        104\n",
       "status               1\n",
       "floor               45\n",
       "furnishing         340\n",
       "facing             589\n",
       "description       1371\n",
       "price_per_sqft     368\n",
       "price                0\n",
       "dtype: int64"
      ]
     },
     "execution_count": 1128,
     "metadata": {},
     "output_type": "execute_result"
    }
   ],
   "execution_count": 1128
  },
  {
   "metadata": {
    "ExecuteTime": {
     "end_time": "2025-07-22T07:19:56.605537Z",
     "start_time": "2025-07-22T07:19:56.583924Z"
    }
   },
   "cell_type": "code",
   "source": "df.duplicated().sum()",
   "id": "159fdf427514c5f5",
   "outputs": [
    {
     "data": {
      "text/plain": [
       "109"
      ]
     },
     "execution_count": 1129,
     "metadata": {},
     "output_type": "execute_result"
    }
   ],
   "execution_count": 1129
  },
  {
   "metadata": {
    "ExecuteTime": {
     "end_time": "2025-07-22T07:19:56.671962Z",
     "start_time": "2025-07-22T07:19:56.653709Z"
    }
   },
   "cell_type": "code",
   "source": "df.drop_duplicates(keep='first', inplace=True)",
   "id": "eab1fdbd668595e1",
   "outputs": [],
   "execution_count": 1130
  },
  {
   "metadata": {
    "ExecuteTime": {
     "end_time": "2025-07-22T07:19:56.706716Z",
     "start_time": "2025-07-22T07:19:56.694662Z"
    }
   },
   "cell_type": "code",
   "source": "df['transaction'].unique()",
   "id": "2434453f69ba9e0a",
   "outputs": [
    {
     "data": {
      "text/plain": [
       "array(['New Property', 'Resale', 'Orchid Fantasia', 'Unfurnished',\n",
       "       'Orchid Gardenia', 'Congo', 'Furnished', nan, 'Semi-Furnished',\n",
       "       'Main Road, Garden/Park', '1', '3', '4', 'Yes', 'No',\n",
       "       'Mahavir Nagar', '3 Covered', 'Shagun Residency', '2', 'Main Road',\n",
       "       '10 m', 'Other', '1 Covered', 'Soham Elegance', 'Garden/Park',\n",
       "       'Aakash Echo Point', 'Sundaram Residency', '5', 'Jolly Residency',\n",
       "       'Mangalam Heights', 'Green City', 'Pool, Garden/Park, Main Road',\n",
       "       '6', 'Co-operative Society', 'Vatsalya Bungalows', '20 Covered,',\n",
       "       'Raghuvir Silverstone', '8 m', 'Casa Rivera'], dtype=object)"
      ]
     },
     "execution_count": 1131,
     "metadata": {},
     "output_type": "execute_result"
    }
   ],
   "execution_count": 1131
  },
  {
   "metadata": {
    "ExecuteTime": {
     "end_time": "2025-07-22T07:19:56.732891Z",
     "start_time": "2025-07-22T07:19:56.719526Z"
    }
   },
   "cell_type": "code",
   "source": "df['transaction'].replace(['New Property','Unfurnished','Furnished','Semi-Furnished','1','3','4','Yes','No','2','5','6',],np.nan,inplace=True)",
   "id": "580b4cf4bcaf0d4d",
   "outputs": [
    {
     "name": "stderr",
     "output_type": "stream",
     "text": [
      "C:\\Users\\bbuser\\AppData\\Local\\Temp\\ipykernel_28840\\1206789327.py:1: FutureWarning: A value is trying to be set on a copy of a DataFrame or Series through chained assignment using an inplace method.\n",
      "The behavior will change in pandas 3.0. This inplace method will never work because the intermediate object on which we are setting values always behaves as a copy.\n",
      "\n",
      "For example, when doing 'df[col].method(value, inplace=True)', try using 'df.method({col: value}, inplace=True)' or df[col] = df[col].method(value) instead, to perform the operation inplace on the original object.\n",
      "\n",
      "\n",
      "  df['transaction'].replace(['New Property','Unfurnished','Furnished','Semi-Furnished','1','3','4','Yes','No','2','5','6',],np.nan,inplace=True)\n"
     ]
    }
   ],
   "execution_count": 1132
  },
  {
   "metadata": {
    "ExecuteTime": {
     "end_time": "2025-07-22T07:19:56.765007Z",
     "start_time": "2025-07-22T07:19:56.755974Z"
    }
   },
   "cell_type": "code",
   "source": "df['transaction'].fillna(df['transaction'].mode()[0],inplace=True)",
   "id": "88e0f9052e23450f",
   "outputs": [],
   "execution_count": 1133
  },
  {
   "metadata": {
    "ExecuteTime": {
     "end_time": "2025-07-22T07:19:56.803078Z",
     "start_time": "2025-07-22T07:19:56.790744Z"
    }
   },
   "cell_type": "code",
   "source": "df.isnull().sum()",
   "id": "78ae8a4c9d9185d5",
   "outputs": [
    {
     "data": {
      "text/plain": [
       "property_name        0\n",
       "areaWithType         0\n",
       "square_feet          0\n",
       "transaction          0\n",
       "status               1\n",
       "floor               45\n",
       "furnishing         331\n",
       "facing             563\n",
       "description       1331\n",
       "price_per_sqft     358\n",
       "price                0\n",
       "dtype: int64"
      ]
     },
     "execution_count": 1134,
     "metadata": {},
     "output_type": "execute_result"
    }
   ],
   "execution_count": 1134
  },
  {
   "metadata": {
    "ExecuteTime": {
     "end_time": "2025-07-22T07:19:56.853188Z",
     "start_time": "2025-07-22T07:19:56.840661Z"
    }
   },
   "cell_type": "code",
   "source": "df.areaWithType.unique()",
   "id": "ed3c30b51e7bd5a4",
   "outputs": [
    {
     "data": {
      "text/plain": [
       "array(['Carpet Area', 'Super Area', 'Plot Area', 'Built Area',\n",
       "       'Transaction', 'Status'], dtype=object)"
      ]
     },
     "execution_count": 1135,
     "metadata": {},
     "output_type": "execute_result"
    }
   ],
   "execution_count": 1135
  },
  {
   "metadata": {
    "ExecuteTime": {
     "end_time": "2025-07-22T07:19:56.880505Z",
     "start_time": "2025-07-22T07:19:56.869960Z"
    }
   },
   "cell_type": "code",
   "source": [
    "df.areaWithType.replace(['Transaction', 'Status'], np.nan, inplace=True)\n",
    "df.areaWithType.fillna(df.areaWithType.mode()[0],inplace=True)"
   ],
   "id": "e791951992b1ba8b",
   "outputs": [
    {
     "name": "stderr",
     "output_type": "stream",
     "text": [
      "C:\\Users\\bbuser\\AppData\\Local\\Temp\\ipykernel_28840\\3957683506.py:1: FutureWarning: A value is trying to be set on a copy of a DataFrame or Series through chained assignment using an inplace method.\n",
      "The behavior will change in pandas 3.0. This inplace method will never work because the intermediate object on which we are setting values always behaves as a copy.\n",
      "\n",
      "For example, when doing 'df[col].method(value, inplace=True)', try using 'df.method({col: value}, inplace=True)' or df[col] = df[col].method(value) instead, to perform the operation inplace on the original object.\n",
      "\n",
      "\n",
      "  df.areaWithType.replace(['Transaction', 'Status'], np.nan, inplace=True)\n"
     ]
    }
   ],
   "execution_count": 1136
  },
  {
   "metadata": {
    "ExecuteTime": {
     "end_time": "2025-07-22T07:19:56.910756Z",
     "start_time": "2025-07-22T07:19:56.896689Z"
    }
   },
   "cell_type": "code",
   "source": "df.isnull().sum()",
   "id": "c0c643b0ba9b2503",
   "outputs": [
    {
     "data": {
      "text/plain": [
       "property_name        0\n",
       "areaWithType         0\n",
       "square_feet          0\n",
       "transaction          0\n",
       "status               1\n",
       "floor               45\n",
       "furnishing         331\n",
       "facing             563\n",
       "description       1331\n",
       "price_per_sqft     358\n",
       "price                0\n",
       "dtype: int64"
      ]
     },
     "execution_count": 1137,
     "metadata": {},
     "output_type": "execute_result"
    }
   ],
   "execution_count": 1137
  },
  {
   "metadata": {
    "ExecuteTime": {
     "end_time": "2025-07-22T07:19:56.982827Z",
     "start_time": "2025-07-22T07:19:56.950614Z"
    }
   },
   "cell_type": "code",
   "source": [
    "df['price']=df['price'].str.replace(r'\\W+','', regex=True)\n",
    "df['price']=df['price'].str.replace(r'\\D+','', regex=True)\n",
    "df['price']=df['price'].str.split().str[0].astype(float)"
   ],
   "id": "8937ea3121a7d0b2",
   "outputs": [],
   "execution_count": 1138
  },
  {
   "metadata": {
    "ExecuteTime": {
     "end_time": "2025-07-22T07:19:57.084730Z",
     "start_time": "2025-07-22T07:19:57.033541Z"
    }
   },
   "cell_type": "code",
   "source": [
    "df['square_feet']=df['square_feet'].str.replace(r'\\W+','', regex=True)\n",
    "df['square_feet']=df['square_feet'].str.replace(r'\\D+','', regex=True)\n",
    "df['square_feet']=df['square_feet'].str.split().str[0].astype(float)"
   ],
   "id": "e792f7b791aa7a3f",
   "outputs": [],
   "execution_count": 1139
  },
  {
   "metadata": {
    "ExecuteTime": {
     "end_time": "2025-07-22T07:19:57.152152Z",
     "start_time": "2025-07-22T07:19:57.120276Z"
    }
   },
   "cell_type": "code",
   "source": [
    "df['price_per_sqft']=df['price_per_sqft'].str.replace(r'\\W+','', regex=True)\n",
    "df['price_per_sqft']=df['price_per_sqft'].str.replace(r'\\D+','', regex=True)\n",
    "df['price_per_sqft']=df['price_per_sqft'].str.split().str[0].astype(float)"
   ],
   "id": "a1203d1e9ef8692e",
   "outputs": [],
   "execution_count": 1140
  },
  {
   "metadata": {
    "ExecuteTime": {
     "end_time": "2025-07-22T07:19:57.208650Z",
     "start_time": "2025-07-22T07:19:57.199076Z"
    }
   },
   "cell_type": "code",
   "source": "df['price'].fillna(df['price'].mode()[0], inplace=True)",
   "id": "8779747cd7b4708",
   "outputs": [
    {
     "name": "stderr",
     "output_type": "stream",
     "text": [
      "C:\\Users\\bbuser\\AppData\\Local\\Temp\\ipykernel_28840\\1439273253.py:1: FutureWarning: A value is trying to be set on a copy of a DataFrame or Series through chained assignment using an inplace method.\n",
      "The behavior will change in pandas 3.0. This inplace method will never work because the intermediate object on which we are setting values always behaves as a copy.\n",
      "\n",
      "For example, when doing 'df[col].method(value, inplace=True)', try using 'df.method({col: value}, inplace=True)' or df[col] = df[col].method(value) instead, to perform the operation inplace on the original object.\n",
      "\n",
      "\n",
      "  df['price'].fillna(df['price'].mode()[0], inplace=True)\n"
     ]
    }
   ],
   "execution_count": 1141
  },
  {
   "metadata": {
    "ExecuteTime": {
     "end_time": "2025-07-22T07:19:57.298880Z",
     "start_time": "2025-07-22T07:19:57.290112Z"
    }
   },
   "cell_type": "code",
   "source": "df['square_feet'].fillna(df['square_feet'].mode()[0],inplace=True)",
   "id": "d6d2c743bb87e6cb",
   "outputs": [
    {
     "name": "stderr",
     "output_type": "stream",
     "text": [
      "C:\\Users\\bbuser\\AppData\\Local\\Temp\\ipykernel_28840\\1795540564.py:1: FutureWarning: A value is trying to be set on a copy of a DataFrame or Series through chained assignment using an inplace method.\n",
      "The behavior will change in pandas 3.0. This inplace method will never work because the intermediate object on which we are setting values always behaves as a copy.\n",
      "\n",
      "For example, when doing 'df[col].method(value, inplace=True)', try using 'df.method({col: value}, inplace=True)' or df[col] = df[col].method(value) instead, to perform the operation inplace on the original object.\n",
      "\n",
      "\n",
      "  df['square_feet'].fillna(df['square_feet'].mode()[0],inplace=True)\n"
     ]
    }
   ],
   "execution_count": 1142
  },
  {
   "metadata": {
    "ExecuteTime": {
     "end_time": "2025-07-22T07:19:57.390243Z",
     "start_time": "2025-07-22T07:19:57.379908Z"
    }
   },
   "cell_type": "code",
   "source": "df['price_per_sqft'].fillna(df['price_per_sqft'].mode()[0],inplace=True)",
   "id": "c24e5873ac000b57",
   "outputs": [
    {
     "name": "stderr",
     "output_type": "stream",
     "text": [
      "C:\\Users\\bbuser\\AppData\\Local\\Temp\\ipykernel_28840\\2397341046.py:1: FutureWarning: A value is trying to be set on a copy of a DataFrame or Series through chained assignment using an inplace method.\n",
      "The behavior will change in pandas 3.0. This inplace method will never work because the intermediate object on which we are setting values always behaves as a copy.\n",
      "\n",
      "For example, when doing 'df[col].method(value, inplace=True)', try using 'df.method({col: value}, inplace=True)' or df[col] = df[col].method(value) instead, to perform the operation inplace on the original object.\n",
      "\n",
      "\n",
      "  df['price_per_sqft'].fillna(df['price_per_sqft'].mode()[0],inplace=True)\n"
     ]
    }
   ],
   "execution_count": 1143
  },
  {
   "metadata": {
    "ExecuteTime": {
     "end_time": "2025-07-22T07:19:57.463970Z",
     "start_time": "2025-07-22T07:19:57.450885Z"
    }
   },
   "cell_type": "code",
   "source": "df['status'].unique()",
   "id": "b8636d3e5a64dd01",
   "outputs": [
    {
     "data": {
      "text/plain": [
       "array([\"Poss. by Oct '24\", \"Poss. by Jan '26\", 'Ready to Move',\n",
       "       'New Property', \"Poss. by Dec '25\", \"Poss. by Jun '24\",\n",
       "       \"Poss. by Sep '25\", \"Poss. by Feb '26\", '1 out of 7',\n",
       "       \"Poss. by Jul '24\", \"Poss. by Dec '26\", \"Poss. by Apr '25\",\n",
       "       \"Poss. by Jan '25\", 'Freehold', '21 X 50.2', \"Poss. by Dec '24\",\n",
       "       \"Poss. by Aug '25\", \"Poss. by Feb '25\", '3 out of 10', 'Resale',\n",
       "       'Co-operative Society', '120 X 105', '3 out of 7',\n",
       "       \"Poss. by May '26\", '36 X 15', \"Poss. by Aug '24\", '2',\n",
       "       '3 out of 3', '52.5 X 32.1', '3 out of 5', '5 out of 5',\n",
       "       '12 X 35.92', '13 out of 14', '7.29 X 14', '4 out of 5',\n",
       "       'Ground out of 1', '3 out of 4', 'Ground out of 10',\n",
       "       'Ground out of 2', '20 X 40', '16.4 X 60', '11 out of 14',\n",
       "       '9.42 X 126', '25 X 12', nan, '2 out of 4', '54 X 15', '21 X 57',\n",
       "       'Power Of Attorney', \"Poss. by Jul '25\", \"Poss. by May '25\",\n",
       "       \"Poss. by Mar '26\", \"Poss. by Jun '26\", \"Poss. by Nov '24\",\n",
       "       '26.7 X 55.6', \"Poss. by Jun '25\", \"Poss. by Mar '25\", '41 X 20',\n",
       "       \"Poss. by Apr '26\", '5 out of 13', '36 X 21', '19.2 X 54.8',\n",
       "       '8 out of 14', '26.7 X 54.9', '38 X 21', '2 out of 13', '135 X 75',\n",
       "       '38 X 20', '114 X 60', '45 X 40', '40 X 21', \"Poss. by Sep '24\",\n",
       "       \"Poss. by Nov '25\", '37 X 26', '180 X 22.5', '4 out of 14',\n",
       "       '114 X 14', 'Const. Age New Construction', '285 X 51',\n",
       "       '8 out of 10', '6 out of 11', 'Ground out of 5',\n",
       "       \"Poss. by Oct '25\", '10 out of 11', '5 out of 14', '60 X 28',\n",
       "       '37 X 20', '13.3 X 135', '9 out of 11', \"Poss. by Dec '28\",\n",
       "       '48 X 14', '45.5 X 21.56', '60 X 120', \"Poss. by Sep '26\",\n",
       "       '8 out of 13', '7 out of 13', '4.55 X 20', \"Poss. by Dec '27\",\n",
       "       '9 out of 13', '16.7 X 240', \"Poss. by Oct '26\", '7 out of 14',\n",
       "       \"Poss. by Jan '27\", '9 out of 14', '3 out of 13', '40 X 20',\n",
       "       '92 X 12', '4 out of 12', '39.6 X 20', '120 X 60', '138 X 63',\n",
       "       '120 X 63', '126 X 66', \"Poss. by Apr '27\", \"Poss. by May '27\",\n",
       "       '1 out of 12', '52.5 X 26.1', '55 X 22', '2 out of 12', '180 X 45',\n",
       "       '31 X 41', \"Poss. by Mar '27\", '46 X 46.17', \"Poss. by Jul '26\",\n",
       "       '12 out of 12', '110 X 27.27', \"Poss. by Aug '26\", '73.7 X 53.1',\n",
       "       \"Poss. by Jul '27\", '4 out of 11', \"Poss. by Jun '27\",\n",
       "       \"Poss. by Nov '26\", '144 X 126', '4 out of 9', '240 X 180',\n",
       "       \"Poss. by Mar '28\", '1200 X 3', '144 X 105', \"Poss. by Nov '28\"],\n",
       "      dtype=object)"
      ]
     },
     "execution_count": 1144,
     "metadata": {},
     "output_type": "execute_result"
    }
   ],
   "execution_count": 1144
  },
  {
   "metadata": {
    "ExecuteTime": {
     "end_time": "2025-07-22T07:19:57.505499Z",
     "start_time": "2025-07-22T07:19:57.496951Z"
    }
   },
   "cell_type": "code",
   "source": "df.drop(columns=['status'], inplace=True)",
   "id": "ff954dae9021d886",
   "outputs": [],
   "execution_count": 1145
  },
  {
   "metadata": {
    "ExecuteTime": {
     "end_time": "2025-07-22T07:19:57.566714Z",
     "start_time": "2025-07-22T07:19:57.553628Z"
    }
   },
   "cell_type": "code",
   "source": "df.isnull().sum()",
   "id": "1f46425b134ec36",
   "outputs": [
    {
     "data": {
      "text/plain": [
       "property_name        0\n",
       "areaWithType         0\n",
       "square_feet          0\n",
       "transaction          0\n",
       "floor               45\n",
       "furnishing         331\n",
       "facing             563\n",
       "description       1331\n",
       "price_per_sqft       0\n",
       "price                0\n",
       "dtype: int64"
      ]
     },
     "execution_count": 1146,
     "metadata": {},
     "output_type": "execute_result"
    }
   ],
   "execution_count": 1146
  },
  {
   "metadata": {
    "ExecuteTime": {
     "end_time": "2025-07-22T07:19:57.593920Z",
     "start_time": "2025-07-22T07:19:57.582099Z"
    }
   },
   "cell_type": "code",
   "source": "df.furnishing.unique()",
   "id": "d79d616591448ea",
   "outputs": [
    {
     "data": {
      "text/plain": [
       "array(['Unfurnished', 'Semi-Furnished', '2', 'Anand Aspire', 'East', '1',\n",
       "       'Furnished', nan, '3', '1 Covered,', '2 Covered', '1 Covered',\n",
       "       'Freehold', 'West', '26 Covered', 'Main Road', 'No', 'North',\n",
       "       '1 Open', '6', 'Co-operative Society', '> 10', '4',\n",
       "       'Nilkanth Seven Homes', 'Aagam Navkar', '10 Open',\n",
       "       'Vinayak Enclave', '5 Covered,', 'South -West',\n",
       "       'Pool, Garden/Park, Main Road', 'Garden/Park, Main Road', '7 m',\n",
       "       '30 m', '50 Covered,', 'South', '12 m', 'Yes', 'Gruham Luxuria',\n",
       "       '2 Covered,', 'Congo', 'Prayosha Shine', 'North - East',\n",
       "       'Vaishnodevi Ideal Homes', 'Santvan Lexon', 'Sangini Epitome',\n",
       "       '100 Covered', 'Nirvana Gladiolus', '7', '5 Covered', '5',\n",
       "       'Raghuvir Spalex', '50 Open', 'South - East', 'North - West',\n",
       "       '20 m', '20 Open', 'Garden/Park', '10 m', 'Sattvam',\n",
       "       'Pramukh Amaya', 'Sun Sarvam', '3 Covered', '2 Open', '6 m',\n",
       "       'Avadh Kimberly', 'Happy Glorious', 'DMD Aura', 'Freedom Tower',\n",
       "       '15 m', 'Surya Signature', 'Someshwara Enclave',\n",
       "       'Green Valley Row House', 'Green Valley', 'Vatsalya Bungalows',\n",
       "       'DMD Signus', '10 Covered,', 'Ambience', 'Milestone Pristine',\n",
       "       'Bblossom The Presidency'], dtype=object)"
      ]
     },
     "execution_count": 1147,
     "metadata": {},
     "output_type": "execute_result"
    }
   ],
   "execution_count": 1147
  },
  {
   "metadata": {
    "ExecuteTime": {
     "end_time": "2025-07-22T07:19:57.615012Z",
     "start_time": "2025-07-22T07:19:57.604553Z"
    }
   },
   "cell_type": "code",
   "source": [
    "furnishing=['Unfurnished', 'Semi-Furnished','Furnished']\n",
    "df['furnishing'].where(df['furnishing'].isin(furnishing), np.nan, inplace=True)"
   ],
   "id": "70757071419ae0ee",
   "outputs": [
    {
     "name": "stderr",
     "output_type": "stream",
     "text": [
      "C:\\Users\\bbuser\\AppData\\Local\\Temp\\ipykernel_28840\\1524441468.py:2: FutureWarning: A value is trying to be set on a copy of a DataFrame or Series through chained assignment using an inplace method.\n",
      "The behavior will change in pandas 3.0. This inplace method will never work because the intermediate object on which we are setting values always behaves as a copy.\n",
      "\n",
      "For example, when doing 'df[col].method(value, inplace=True)', try using 'df.method({col: value}, inplace=True)' or df[col] = df[col].method(value) instead, to perform the operation inplace on the original object.\n",
      "\n",
      "\n",
      "  df['furnishing'].where(df['furnishing'].isin(furnishing), np.nan, inplace=True)\n"
     ]
    }
   ],
   "execution_count": 1148
  },
  {
   "metadata": {
    "ExecuteTime": {
     "end_time": "2025-07-22T07:19:57.642369Z",
     "start_time": "2025-07-22T07:19:57.632319Z"
    }
   },
   "cell_type": "code",
   "source": "df.furnishing.unique()",
   "id": "e498483da06eb2ef",
   "outputs": [
    {
     "data": {
      "text/plain": [
       "array(['Unfurnished', 'Semi-Furnished', nan, 'Furnished'], dtype=object)"
      ]
     },
     "execution_count": 1149,
     "metadata": {},
     "output_type": "execute_result"
    }
   ],
   "execution_count": 1149
  },
  {
   "metadata": {
    "ExecuteTime": {
     "end_time": "2025-07-22T07:19:57.679010Z",
     "start_time": "2025-07-22T07:19:57.665698Z"
    }
   },
   "cell_type": "code",
   "source": "df.isnull().sum()",
   "id": "6f81a96e25d987c7",
   "outputs": [
    {
     "data": {
      "text/plain": [
       "property_name        0\n",
       "areaWithType         0\n",
       "square_feet          0\n",
       "transaction          0\n",
       "floor               45\n",
       "furnishing        1212\n",
       "facing             563\n",
       "description       1331\n",
       "price_per_sqft       0\n",
       "price                0\n",
       "dtype: int64"
      ]
     },
     "execution_count": 1150,
     "metadata": {},
     "output_type": "execute_result"
    }
   ],
   "execution_count": 1150
  },
  {
   "metadata": {
    "ExecuteTime": {
     "end_time": "2025-07-22T07:19:57.701255Z",
     "start_time": "2025-07-22T07:19:57.693395Z"
    }
   },
   "cell_type": "code",
   "source": "df.furnishing.fillna('Unknown',inplace=True)",
   "id": "2f12baf15bcd5ed4",
   "outputs": [
    {
     "name": "stderr",
     "output_type": "stream",
     "text": [
      "C:\\Users\\bbuser\\AppData\\Local\\Temp\\ipykernel_28840\\1333187301.py:1: FutureWarning: A value is trying to be set on a copy of a DataFrame or Series through chained assignment using an inplace method.\n",
      "The behavior will change in pandas 3.0. This inplace method will never work because the intermediate object on which we are setting values always behaves as a copy.\n",
      "\n",
      "For example, when doing 'df[col].method(value, inplace=True)', try using 'df.method({col: value}, inplace=True)' or df[col] = df[col].method(value) instead, to perform the operation inplace on the original object.\n",
      "\n",
      "\n",
      "  df.furnishing.fillna('Unknown',inplace=True)\n"
     ]
    }
   ],
   "execution_count": 1151
  },
  {
   "metadata": {
    "ExecuteTime": {
     "end_time": "2025-07-22T07:19:57.742144Z",
     "start_time": "2025-07-22T07:19:57.728269Z"
    }
   },
   "cell_type": "code",
   "source": "df.isnull().sum()",
   "id": "95ab719c88dc1164",
   "outputs": [
    {
     "data": {
      "text/plain": [
       "property_name        0\n",
       "areaWithType         0\n",
       "square_feet          0\n",
       "transaction          0\n",
       "floor               45\n",
       "furnishing           0\n",
       "facing             563\n",
       "description       1331\n",
       "price_per_sqft       0\n",
       "price                0\n",
       "dtype: int64"
      ]
     },
     "execution_count": 1152,
     "metadata": {},
     "output_type": "execute_result"
    }
   ],
   "execution_count": 1152
  },
  {
   "metadata": {
    "ExecuteTime": {
     "end_time": "2025-07-22T07:19:57.777313Z",
     "start_time": "2025-07-22T07:19:57.766025Z"
    }
   },
   "cell_type": "code",
   "source": "df.facing.unique()",
   "id": "ad9099385ba59529",
   "outputs": [
    {
     "data": {
      "text/plain": [
       "array(['West', 'South -West', 'East', '2', 'Main Road', nan,\n",
       "       'North - East', 'South - East', '1', 'Freehold', 'Garden/Park',\n",
       "       '3', 'North - West', 'South', '6', 'Co-operative Society',\n",
       "       'Garden/Park, Main Road', '1 Covered', 'No', '30 m', 'North',\n",
       "       'Varni Siddheshwar Heights', '5', 'Salasar Icon', 'Green Valley',\n",
       "       'Shyam enclave', 'Rajhans Platinum', 'Vitthal Bunglows', '1 Open',\n",
       "       'Royal Nest', 'Rajhans Wings', '2 Open',\n",
       "       'Gordhan Green Valley Mangalam Park Bldg S',\n",
       "       'Apt Swaminagar Society', 'Swagat Clifton', 'Akash',\n",
       "       'Green Arcade Phase 1 And 2', 'Satyam Tower', '4',\n",
       "       'Suryanjali Residency', 'GHB Mukhya Mantri Gruh Yojana',\n",
       "       'Vibrant Eco Park', 'Madhav Residency', 'Shiv Drashti Residency',\n",
       "       'Gruham Luxuria', 'SHANKHESHWER COMPLAX', 'JT Stuti Highland',\n",
       "       'Times Galaxy', '100 m', 'Savani Prayosha Pride',\n",
       "       'Shayona Janki Residency', 'Sundaram Residency', '6 m',\n",
       "       'Silicon Palm', 'Raj Abhishek City Homes',\n",
       "       'Dhvani Royal Residency', 'Residency', 'Pan Sharanam',\n",
       "       'Gruham Royal Park', 'Rajhans Swapna', 'Panchtatva Residency',\n",
       "       'Manvay Residency', 'Prayosha Shine', 'Yes',\n",
       "       'Swapna Villa 2 Phase 2', 'Green City', 'Rajhans Apple',\n",
       "       'Sai Residency', 'Anjani Enclave', 'Shakuntal Complex',\n",
       "       '2 Covered', 'Galaxy Imperia', 'Pool, Garden/Park, Main Road',\n",
       "       'Silver Plaza Complex', 'Swami Twin City 5', 'Majura Gate Surat',\n",
       "       'Orchid Greens', 'Aditya Vrundavan Heights', 'Pool', '900 m',\n",
       "       'Vaishnodevi Amour Jahagirabad', 'Shantam Apartment',\n",
       "       'Siddhi Vinayak Green', '20 m', 'Ambika Heaven', '10 m',\n",
       "       'MD Om Palace', 'Global City', 'Maa Krupa Residency Society',\n",
       "       'Man Sarovar Residency and Plaza', 'Bella Casaa',\n",
       "       'Shree Tirupati Balaji Town', 'Aagam Navkar', 'Omkar Residency',\n",
       "       'Nova Complex', '25 m', 'Amber Palace', '1 Covered,',\n",
       "       'Vaishnodevi Ideal Homes', '7 m', '45 X 14 ft Sqft',\n",
       "       'Santvan Lexon', 'Atlanta Sky Desk', 'Nakshatra Platinum',\n",
       "       'Siddhi Vinayak Heights', 'Coral Heights', 'Aakash Homes',\n",
       "       'Nandini 3', 'Sundaram Status', 'Happy Elegance',\n",
       "       'Dream World Residency', 'Raghuvir Saffron',\n",
       "       'Vasant Vihar Township', 'Kalpavruksha Garden', 'Ashirwad Enclave',\n",
       "       'Jolly Residency', '9', 'Stylome Heights', 'Marvella Residency',\n",
       "       'Meera Avenue', 'Garden/Park, Pool', 'Rajhans Orange',\n",
       "       'Rajhans Synfonia', 'Sat Aria', 'Lake Castle',\n",
       "       'Raghuvir Sentosa Heights', 'Shalibhadra Complex',\n",
       "       'Shiv Shrungal Solitaire', 'Sangini Gardenia', 'Green Leaf',\n",
       "       'Pooja Aagam Cross Roads', '7', 'Nakshatra Nebula', 'Peak Living',\n",
       "       'Prasidhi Apartment', 'Nandini 1', 'Soham Residency',\n",
       "       'Pool, Garden/Park', 'Shreepad Ethics', '15 m', '12 m',\n",
       "       'Eco Parkside', 'Garden/Park, Pool, Main Road', '2 m',\n",
       "       'Santvan Seron', 'Nakshatra Galaxia', '150 m', 'Oliva Height',\n",
       "       'Mahaveer Nagar', '4 m', 'Shreepad Infinia', 'Bilvam Regency',\n",
       "       'Palladium Sky', '3 Covered', 'Prestige manor', 'Green City Gold',\n",
       "       'Meera Park', 'Aagam Paramount', 'Sumeru Golden Leaf',\n",
       "       'Avadh Shangrila', '45 X', 'Rajhans Cremona',\n",
       "       'Atithi Western Oasis', 'Harmony', 'Cellestial Dreams',\n",
       "       'Nandanvan III', 'aventis ofira', 'Samarth Enclave',\n",
       "       'Happy Home Capital Greens', 'Shaligram The Emerald', '135 X',\n",
       "       '131 X', 'Vesu Point', '8 m', '1 m', 'Power Of Attorney',\n",
       "       '20275 m'], dtype=object)"
      ]
     },
     "execution_count": 1153,
     "metadata": {},
     "output_type": "execute_result"
    }
   ],
   "execution_count": 1153
  },
  {
   "metadata": {
    "ExecuteTime": {
     "end_time": "2025-07-22T07:19:57.973988Z",
     "start_time": "2025-07-22T07:19:57.784388Z"
    }
   },
   "cell_type": "code",
   "source": [
    "facing_pattern = r\"^\\d+(\\s+[a-zA-Z]+)?$\"\n",
    "facing=[]\n",
    "for i in df['facing']:\n",
    "    if re.match(facing_pattern, str(i).strip()):\n",
    "        facing.append(i)\n",
    "df['facing'] = df['facing'].replace(facing, np.nan)\n",
    "df['facing'] = df['facing'].fillna(df['facing'].mode()[0])"
   ],
   "id": "623586a8a3a9c8d8",
   "outputs": [],
   "execution_count": 1154
  },
  {
   "metadata": {
    "ExecuteTime": {
     "end_time": "2025-07-22T07:19:58.001660Z",
     "start_time": "2025-07-22T07:19:57.983754Z"
    }
   },
   "cell_type": "code",
   "source": "df.isnull().sum()",
   "id": "c0c5dedf49b05d3c",
   "outputs": [
    {
     "data": {
      "text/plain": [
       "property_name        0\n",
       "areaWithType         0\n",
       "square_feet          0\n",
       "transaction          0\n",
       "floor               45\n",
       "furnishing           0\n",
       "facing               0\n",
       "description       1331\n",
       "price_per_sqft       0\n",
       "price                0\n",
       "dtype: int64"
      ]
     },
     "execution_count": 1155,
     "metadata": {},
     "output_type": "execute_result"
    }
   ],
   "execution_count": 1155
  },
  {
   "metadata": {
    "ExecuteTime": {
     "end_time": "2025-07-22T07:19:58.034279Z",
     "start_time": "2025-07-22T07:19:58.026108Z"
    }
   },
   "cell_type": "code",
   "source": "df.drop(columns=['description'], inplace=True)",
   "id": "46e67cb7355b9534",
   "outputs": [],
   "execution_count": 1156
  },
  {
   "metadata": {
    "ExecuteTime": {
     "end_time": "2025-07-22T07:19:58.062860Z",
     "start_time": "2025-07-22T07:19:58.044961Z"
    }
   },
   "cell_type": "code",
   "source": "df.isnull().sum()",
   "id": "76171beed70b24df",
   "outputs": [
    {
     "data": {
      "text/plain": [
       "property_name      0\n",
       "areaWithType       0\n",
       "square_feet        0\n",
       "transaction        0\n",
       "floor             45\n",
       "furnishing         0\n",
       "facing             0\n",
       "price_per_sqft     0\n",
       "price              0\n",
       "dtype: int64"
      ]
     },
     "execution_count": 1157,
     "metadata": {},
     "output_type": "execute_result"
    }
   ],
   "execution_count": 1157
  },
  {
   "metadata": {
    "ExecuteTime": {
     "end_time": "2025-07-22T07:19:58.094349Z",
     "start_time": "2025-07-22T07:19:58.084083Z"
    }
   },
   "cell_type": "code",
   "source": "df.dtypes",
   "id": "a92457424c91770e",
   "outputs": [
    {
     "data": {
      "text/plain": [
       "property_name      object\n",
       "areaWithType       object\n",
       "square_feet       float64\n",
       "transaction        object\n",
       "floor              object\n",
       "furnishing         object\n",
       "facing             object\n",
       "price_per_sqft    float64\n",
       "price             float64\n",
       "dtype: object"
      ]
     },
     "execution_count": 1158,
     "metadata": {},
     "output_type": "execute_result"
    }
   ],
   "execution_count": 1158
  },
  {
   "metadata": {
    "ExecuteTime": {
     "end_time": "2025-07-22T07:19:58.129360Z",
     "start_time": "2025-07-22T07:19:58.114731Z"
    }
   },
   "cell_type": "code",
   "source": "df.duplicated().sum()",
   "id": "44ef3af5f75f5033",
   "outputs": [
    {
     "data": {
      "text/plain": [
       "35"
      ]
     },
     "execution_count": 1159,
     "metadata": {},
     "output_type": "execute_result"
    }
   ],
   "execution_count": 1159
  },
  {
   "metadata": {
    "ExecuteTime": {
     "end_time": "2025-07-22T07:19:58.167912Z",
     "start_time": "2025-07-22T07:19:58.154775Z"
    }
   },
   "cell_type": "code",
   "source": "df.drop_duplicates(keep='first', inplace=True)",
   "id": "e0be32650323599f",
   "outputs": [],
   "execution_count": 1160
  },
  {
   "metadata": {
    "ExecuteTime": {
     "end_time": "2025-07-22T07:19:58.188493Z",
     "start_time": "2025-07-22T07:19:58.176936Z"
    }
   },
   "cell_type": "code",
   "source": "df.floor.unique()",
   "id": "14de79d68edd1c69",
   "outputs": [
    {
     "data": {
      "text/plain": [
       "array(['5 out of 10', '6 out of 14', '5 out of 13', 'Unfurnished',\n",
       "       'New Property', '7 out of 10', '3 out of 14', '6 out of 13',\n",
       "       '1 out of 1', '1 out of 13', '4 out of 7', '3 out of 3',\n",
       "       '2 out of 6', '3 out of 5', '2 out of 5', '3 out of 12',\n",
       "       '5 out of 5', 'Resale', 'Ground out of 1',\n",
       "       'Lower Basement out of 7', '1 out of 5', '7 out of 14',\n",
       "       '9 out of 14', '5 out of 12', '7 out of 13', '1 out of 2',\n",
       "       '2 out of 10', 'Freehold', '12 out of 14', '10 out of 14',\n",
       "       '2 out of 12', '1 out of 4', '13 out of 14', '4 out of 14',\n",
       "       '6 out of 10', '2 out of 4', '3 out of 4', '9 out of 13',\n",
       "       'Upper Basement out of 5', '3 out of 10', '1 out of 3',\n",
       "       '4 out of 4', 'Ground out of 2', 'Lower Basement out of 2',\n",
       "       'Ground out of 4', nan, 'Ground out of 5', '4 out of 10',\n",
       "       'Ground out of 14', 'Ground out of 6', '5 out of 6', '8 out of 9',\n",
       "       '4 out of 5', '2 out of 7', '7 out of 7', 'Ground out of 3',\n",
       "       '4 out of 8', '8 out of 14', '6 out of 7', '7 out of 11',\n",
       "       'Upper Basement out of 4', 'Furnished', 'Congo', '3', '2 out of 3',\n",
       "       '1 out of 7', 'Ground', '1 out of 6', '9 out of 11',\n",
       "       '14 out of 14', '5 out of 14', '1 out of 8', '5 out of 7',\n",
       "       '8 out of 12', 'Ground out of 10', '2 out of 2', '7 out of 12',\n",
       "       '3 out of 6', '1 out of 12', '16 out of 19', '13 out of 13',\n",
       "       '6 out of 8', '8 out of 8', '3 out of 9', '11 out of 12',\n",
       "       '6 out of 12', '8 out of 13', '11 out of 11', '4 out of 6', '1',\n",
       "       '2 out of 13', '1 out of 9', '1 out of 10',\n",
       "       'Upper Basement out of 14', '2', '5 out of 8', '10 out of 12',\n",
       "       '3 out of 7', '6 out of 9', '4 out of 13', '11 out of 15', 'No',\n",
       "       '10 out of 10', 'Ground out of 7', '3 out of 11', 'Yes',\n",
       "       'Lower Basement out of 59', '6 out of 11', '4 out of 15',\n",
       "       'Semi-Furnished', '11 out of 13', 'Lower Basement out of 4',\n",
       "       'Upper Basement out of 12', 'Upper Basement out of 1',\n",
       "       '10 out of 13', '7 out of 9', '4 out of 9', '3 out of 8',\n",
       "       'Lower Basement out of 5', '4 out of 12', '10 out of 11',\n",
       "       'Ground out of 11', '7 out of 8', 'Other', '1 out of 11',\n",
       "       '9 out of 10', '5 out of 11', 'Lower Basement out of 6',\n",
       "       '9 out of 9', 'Ground out of 13', '2 out of 8',\n",
       "       'The Polaris Avenue', '4 out of 11', '12 out of 13', '8 out of 10',\n",
       "       '4 out of 19', '11 out of 14', '5 out of 15', '15 out of 19',\n",
       "       '3 out of 13', 'Co-operative Society', '9 out of 12',\n",
       "       '7 out of 19', '2 out of 14', '10 out of 19',\n",
       "       'Lower Basement out of 14', '6 out of 15', '6 out of 19',\n",
       "       '2 out of 11', '9 out of 19', '9 out of 15', '18 out of 19',\n",
       "       '1 out of 30', '1 out of 15', '10 out of 20', '13 out of 15',\n",
       "       '1 out of 14', '20 out of 21', '8 out of 19', 'Om Residency',\n",
       "       '8 out of 11', '7 out of 15', '5 out of 9', '12 out of 12',\n",
       "       '11 out of 20', '2 out of 9', '14 out of 15', '15 out of 21',\n",
       "       '12 out of 15', '15 out of 15', '8 out of 15', '10 out of 15',\n",
       "       '13 out of 19', '10 out of 21', '3 out of 15', '14 out of 19',\n",
       "       '2 out of 15', '9 out of 20', '8 out of 20', '18 out of 21',\n",
       "       'Ground out of 8', '6 out of 6', 'Milestone Regalia',\n",
       "       '5 out of 20', '15 out of 18', '5 out of 19', '5 out of 16',\n",
       "       '17 out of 20', '5 out of 18', '15 out of 20',\n",
       "       'Lower Basement out of 1', '10 out of 18', '7 out of 20',\n",
       "       '17 out of 18', '7 out of 17', '5', '9 out of 25', '6 out of 20',\n",
       "       '6 out of 18', 'Upper Basement out of 3', '4 out of 18',\n",
       "       '9 out of 21', '4 out of 21', '19 out of 19', '17 out of 19',\n",
       "       '7 out of 18', '20 out of 20', '4 out of 20', '9 out of 18',\n",
       "       'Ground out of 12', '3 out of 18', 'Ground out of 19',\n",
       "       '16 out of 20', '2 out of 19', '16 out of 18', '12 out of 19',\n",
       "       '3 out of 19', '3 out of 20', '1 out of 20', '2 out of 17',\n",
       "       '9 out of 17', '14 out of 20', '1 out of 18'], dtype=object)"
      ]
     },
     "execution_count": 1161,
     "metadata": {},
     "output_type": "execute_result"
    }
   ],
   "execution_count": 1161
  },
  {
   "metadata": {
    "ExecuteTime": {
     "end_time": "2025-07-22T07:19:58.224809Z",
     "start_time": "2025-07-22T07:19:58.208969Z"
    }
   },
   "cell_type": "code",
   "source": "df_floor = df.floor.str.extract(r'(\\d+)\\s*(out of)\\s*(\\d+)')",
   "id": "f84af9bc50320177",
   "outputs": [],
   "execution_count": 1162
  },
  {
   "metadata": {
    "ExecuteTime": {
     "end_time": "2025-07-22T07:19:58.239478Z",
     "start_time": "2025-07-22T07:19:58.233459Z"
    }
   },
   "cell_type": "code",
   "source": "df['num_of_floor']= df_floor[0]",
   "id": "5f7f032e8be7965",
   "outputs": [],
   "execution_count": 1163
  },
  {
   "metadata": {
    "ExecuteTime": {
     "end_time": "2025-07-22T07:19:58.253087Z",
     "start_time": "2025-07-22T07:19:58.248067Z"
    }
   },
   "cell_type": "code",
   "source": "df['total_floors'] = df_floor[2]",
   "id": "20f051847f42763b",
   "outputs": [],
   "execution_count": 1164
  },
  {
   "metadata": {
    "ExecuteTime": {
     "end_time": "2025-07-22T07:19:58.290931Z",
     "start_time": "2025-07-22T07:19:58.263741Z"
    }
   },
   "cell_type": "code",
   "source": "df.head()",
   "id": "8d6f37a9e4e2fba2",
   "outputs": [
    {
     "data": {
      "text/plain": [
       "                                       property_name areaWithType  \\\n",
       "0          2 BHK Apartment for Sale in Dindoli Surat  Carpet Area   \n",
       "1           2 BHK Apartment for Sale in Althan Surat   Super Area   \n",
       "2          2 BHK Apartment for Sale in Pal Gam Surat   Super Area   \n",
       "3     2 BHK Apartment for Sale in Jahangirabad Surat  Carpet Area   \n",
       "4  2 BHK Apartment for Sale in Orchid Fantasia, P...   Super Area   \n",
       "\n",
       "   square_feet      transaction        floor      furnishing       facing  \\\n",
       "0        644.0           Resale  5 out of 10     Unfurnished         West   \n",
       "1       1278.0           Resale  6 out of 14     Unfurnished  South -West   \n",
       "2       1173.0           Resale  5 out of 13  Semi-Furnished         East   \n",
       "3        700.0           Resale  6 out of 14     Unfurnished         East   \n",
       "4       1250.0  Orchid Fantasia  Unfurnished         Unknown         East   \n",
       "\n",
       "   price_per_sqft  price num_of_floor total_floors  \n",
       "0          2891.0  338.0            5           10  \n",
       "1          3551.0  454.0            6           14  \n",
       "2          3800.0  446.0            5           13  \n",
       "3          3966.0   47.0            6           14  \n",
       "4          3600.0   45.0          NaN          NaN  "
      ],
      "text/html": [
       "<div>\n",
       "<style scoped>\n",
       "    .dataframe tbody tr th:only-of-type {\n",
       "        vertical-align: middle;\n",
       "    }\n",
       "\n",
       "    .dataframe tbody tr th {\n",
       "        vertical-align: top;\n",
       "    }\n",
       "\n",
       "    .dataframe thead th {\n",
       "        text-align: right;\n",
       "    }\n",
       "</style>\n",
       "<table border=\"1\" class=\"dataframe\">\n",
       "  <thead>\n",
       "    <tr style=\"text-align: right;\">\n",
       "      <th></th>\n",
       "      <th>property_name</th>\n",
       "      <th>areaWithType</th>\n",
       "      <th>square_feet</th>\n",
       "      <th>transaction</th>\n",
       "      <th>floor</th>\n",
       "      <th>furnishing</th>\n",
       "      <th>facing</th>\n",
       "      <th>price_per_sqft</th>\n",
       "      <th>price</th>\n",
       "      <th>num_of_floor</th>\n",
       "      <th>total_floors</th>\n",
       "    </tr>\n",
       "  </thead>\n",
       "  <tbody>\n",
       "    <tr>\n",
       "      <th>0</th>\n",
       "      <td>2 BHK Apartment for Sale in Dindoli Surat</td>\n",
       "      <td>Carpet Area</td>\n",
       "      <td>644.0</td>\n",
       "      <td>Resale</td>\n",
       "      <td>5 out of 10</td>\n",
       "      <td>Unfurnished</td>\n",
       "      <td>West</td>\n",
       "      <td>2891.0</td>\n",
       "      <td>338.0</td>\n",
       "      <td>5</td>\n",
       "      <td>10</td>\n",
       "    </tr>\n",
       "    <tr>\n",
       "      <th>1</th>\n",
       "      <td>2 BHK Apartment for Sale in Althan Surat</td>\n",
       "      <td>Super Area</td>\n",
       "      <td>1278.0</td>\n",
       "      <td>Resale</td>\n",
       "      <td>6 out of 14</td>\n",
       "      <td>Unfurnished</td>\n",
       "      <td>South -West</td>\n",
       "      <td>3551.0</td>\n",
       "      <td>454.0</td>\n",
       "      <td>6</td>\n",
       "      <td>14</td>\n",
       "    </tr>\n",
       "    <tr>\n",
       "      <th>2</th>\n",
       "      <td>2 BHK Apartment for Sale in Pal Gam Surat</td>\n",
       "      <td>Super Area</td>\n",
       "      <td>1173.0</td>\n",
       "      <td>Resale</td>\n",
       "      <td>5 out of 13</td>\n",
       "      <td>Semi-Furnished</td>\n",
       "      <td>East</td>\n",
       "      <td>3800.0</td>\n",
       "      <td>446.0</td>\n",
       "      <td>5</td>\n",
       "      <td>13</td>\n",
       "    </tr>\n",
       "    <tr>\n",
       "      <th>3</th>\n",
       "      <td>2 BHK Apartment for Sale in Jahangirabad Surat</td>\n",
       "      <td>Carpet Area</td>\n",
       "      <td>700.0</td>\n",
       "      <td>Resale</td>\n",
       "      <td>6 out of 14</td>\n",
       "      <td>Unfurnished</td>\n",
       "      <td>East</td>\n",
       "      <td>3966.0</td>\n",
       "      <td>47.0</td>\n",
       "      <td>6</td>\n",
       "      <td>14</td>\n",
       "    </tr>\n",
       "    <tr>\n",
       "      <th>4</th>\n",
       "      <td>2 BHK Apartment for Sale in Orchid Fantasia, P...</td>\n",
       "      <td>Super Area</td>\n",
       "      <td>1250.0</td>\n",
       "      <td>Orchid Fantasia</td>\n",
       "      <td>Unfurnished</td>\n",
       "      <td>Unknown</td>\n",
       "      <td>East</td>\n",
       "      <td>3600.0</td>\n",
       "      <td>45.0</td>\n",
       "      <td>NaN</td>\n",
       "      <td>NaN</td>\n",
       "    </tr>\n",
       "  </tbody>\n",
       "</table>\n",
       "</div>"
      ]
     },
     "execution_count": 1165,
     "metadata": {},
     "output_type": "execute_result"
    }
   ],
   "execution_count": 1165
  },
  {
   "metadata": {
    "ExecuteTime": {
     "end_time": "2025-07-22T07:19:58.317Z",
     "start_time": "2025-07-22T07:19:58.307465Z"
    }
   },
   "cell_type": "code",
   "source": "df.drop(columns=['floor'], inplace=True)",
   "id": "925e5d2458eb3a84",
   "outputs": [],
   "execution_count": 1166
  },
  {
   "metadata": {
    "ExecuteTime": {
     "end_time": "2025-07-22T07:19:58.341873Z",
     "start_time": "2025-07-22T07:19:58.327067Z"
    }
   },
   "cell_type": "code",
   "source": "df.isnull().sum()",
   "id": "d61132d3ddc11170",
   "outputs": [
    {
     "data": {
      "text/plain": [
       "property_name        0\n",
       "areaWithType         0\n",
       "square_feet          0\n",
       "transaction          0\n",
       "furnishing           0\n",
       "facing               0\n",
       "price_per_sqft       0\n",
       "price                0\n",
       "num_of_floor      1230\n",
       "total_floors      1230\n",
       "dtype: int64"
      ]
     },
     "execution_count": 1167,
     "metadata": {},
     "output_type": "execute_result"
    }
   ],
   "execution_count": 1167
  },
  {
   "metadata": {
    "ExecuteTime": {
     "end_time": "2025-07-22T07:19:58.373290Z",
     "start_time": "2025-07-22T07:19:58.359398Z"
    }
   },
   "cell_type": "code",
   "source": "df['BHK']=df['property_name'].str.extract(r'(\\d+)').astype(float)",
   "id": "cb26a66b33d9a729",
   "outputs": [],
   "execution_count": 1168
  },
  {
   "metadata": {
    "ExecuteTime": {
     "end_time": "2025-07-22T07:19:58.398819Z",
     "start_time": "2025-07-22T07:19:58.386019Z"
    }
   },
   "cell_type": "code",
   "source": "df.isnull().sum()",
   "id": "ac717884174cb18b",
   "outputs": [
    {
     "data": {
      "text/plain": [
       "property_name        0\n",
       "areaWithType         0\n",
       "square_feet          0\n",
       "transaction          0\n",
       "furnishing           0\n",
       "facing               0\n",
       "price_per_sqft       0\n",
       "price                0\n",
       "num_of_floor      1230\n",
       "total_floors      1230\n",
       "BHK                601\n",
       "dtype: int64"
      ]
     },
     "execution_count": 1169,
     "metadata": {},
     "output_type": "execute_result"
    }
   ],
   "execution_count": 1169
  },
  {
   "metadata": {
    "ExecuteTime": {
     "end_time": "2025-07-22T07:19:58.465069Z",
     "start_time": "2025-07-22T07:19:58.455677Z"
    }
   },
   "cell_type": "code",
   "source": "df.BHK.fillna(df['BHK'].mode()[0],inplace=True)",
   "id": "57ef6abe1d8d975d",
   "outputs": [
    {
     "name": "stderr",
     "output_type": "stream",
     "text": [
      "C:\\Users\\bbuser\\AppData\\Local\\Temp\\ipykernel_28840\\2236631343.py:1: FutureWarning: A value is trying to be set on a copy of a DataFrame or Series through chained assignment using an inplace method.\n",
      "The behavior will change in pandas 3.0. This inplace method will never work because the intermediate object on which we are setting values always behaves as a copy.\n",
      "\n",
      "For example, when doing 'df[col].method(value, inplace=True)', try using 'df.method({col: value}, inplace=True)' or df[col] = df[col].method(value) instead, to perform the operation inplace on the original object.\n",
      "\n",
      "\n",
      "  df.BHK.fillna(df['BHK'].mode()[0],inplace=True)\n"
     ]
    }
   ],
   "execution_count": 1170
  },
  {
   "metadata": {
    "ExecuteTime": {
     "end_time": "2025-07-22T07:19:58.591907Z",
     "start_time": "2025-07-22T07:19:58.577069Z"
    }
   },
   "cell_type": "code",
   "source": "df.isnull().sum()",
   "id": "f82311f87a7ebfb4",
   "outputs": [
    {
     "data": {
      "text/plain": [
       "property_name        0\n",
       "areaWithType         0\n",
       "square_feet          0\n",
       "transaction          0\n",
       "furnishing           0\n",
       "facing               0\n",
       "price_per_sqft       0\n",
       "price                0\n",
       "num_of_floor      1230\n",
       "total_floors      1230\n",
       "BHK                  0\n",
       "dtype: int64"
      ]
     },
     "execution_count": 1171,
     "metadata": {},
     "output_type": "execute_result"
    }
   ],
   "execution_count": 1171
  },
  {
   "metadata": {
    "ExecuteTime": {
     "end_time": "2025-07-22T07:19:58.730488Z",
     "start_time": "2025-07-22T07:19:58.714747Z"
    }
   },
   "cell_type": "code",
   "source": "df.dtypes",
   "id": "cc4347ddb3b65c75",
   "outputs": [
    {
     "data": {
      "text/plain": [
       "property_name      object\n",
       "areaWithType       object\n",
       "square_feet       float64\n",
       "transaction        object\n",
       "furnishing         object\n",
       "facing             object\n",
       "price_per_sqft    float64\n",
       "price             float64\n",
       "num_of_floor       object\n",
       "total_floors       object\n",
       "BHK               float64\n",
       "dtype: object"
      ]
     },
     "execution_count": 1172,
     "metadata": {},
     "output_type": "execute_result"
    }
   ],
   "execution_count": 1172
  },
  {
   "metadata": {
    "ExecuteTime": {
     "end_time": "2025-07-22T07:19:58.824090Z",
     "start_time": "2025-07-22T07:19:58.811859Z"
    }
   },
   "cell_type": "code",
   "source": "df=df.astype({'num_of_floor':float, 'total_floors':float})",
   "id": "91b001ac5dffdf27",
   "outputs": [],
   "execution_count": 1173
  },
  {
   "metadata": {
    "ExecuteTime": {
     "end_time": "2025-07-22T07:19:58.877227Z",
     "start_time": "2025-07-22T07:19:58.866687Z"
    }
   },
   "cell_type": "code",
   "source": [
    "df.num_of_floor.fillna(df['num_of_floor'].mode()[0],inplace=True)\n",
    "\n",
    "df.total_floors.fillna(df['total_floors'].mode()[0],inplace=True)"
   ],
   "id": "8e9aa2d7076cdfdf",
   "outputs": [
    {
     "name": "stderr",
     "output_type": "stream",
     "text": [
      "C:\\Users\\bbuser\\AppData\\Local\\Temp\\ipykernel_28840\\2640421622.py:1: FutureWarning: A value is trying to be set on a copy of a DataFrame or Series through chained assignment using an inplace method.\n",
      "The behavior will change in pandas 3.0. This inplace method will never work because the intermediate object on which we are setting values always behaves as a copy.\n",
      "\n",
      "For example, when doing 'df[col].method(value, inplace=True)', try using 'df.method({col: value}, inplace=True)' or df[col] = df[col].method(value) instead, to perform the operation inplace on the original object.\n",
      "\n",
      "\n",
      "  df.num_of_floor.fillna(df['num_of_floor'].mode()[0],inplace=True)\n",
      "C:\\Users\\bbuser\\AppData\\Local\\Temp\\ipykernel_28840\\2640421622.py:3: FutureWarning: A value is trying to be set on a copy of a DataFrame or Series through chained assignment using an inplace method.\n",
      "The behavior will change in pandas 3.0. This inplace method will never work because the intermediate object on which we are setting values always behaves as a copy.\n",
      "\n",
      "For example, when doing 'df[col].method(value, inplace=True)', try using 'df.method({col: value}, inplace=True)' or df[col] = df[col].method(value) instead, to perform the operation inplace on the original object.\n",
      "\n",
      "\n",
      "  df.total_floors.fillna(df['total_floors'].mode()[0],inplace=True)\n"
     ]
    }
   ],
   "execution_count": 1174
  },
  {
   "metadata": {
    "ExecuteTime": {
     "end_time": "2025-07-22T07:19:58.928301Z",
     "start_time": "2025-07-22T07:19:58.914205Z"
    }
   },
   "cell_type": "code",
   "source": "df.isnull().sum()",
   "id": "c2e9a71bb5b89143",
   "outputs": [
    {
     "data": {
      "text/plain": [
       "property_name     0\n",
       "areaWithType      0\n",
       "square_feet       0\n",
       "transaction       0\n",
       "furnishing        0\n",
       "facing            0\n",
       "price_per_sqft    0\n",
       "price             0\n",
       "num_of_floor      0\n",
       "total_floors      0\n",
       "BHK               0\n",
       "dtype: int64"
      ]
     },
     "execution_count": 1175,
     "metadata": {},
     "output_type": "execute_result"
    }
   ],
   "execution_count": 1175
  },
  {
   "metadata": {
    "ExecuteTime": {
     "end_time": "2025-07-22T07:19:59.069119Z",
     "start_time": "2025-07-22T07:19:59.058094Z"
    }
   },
   "cell_type": "code",
   "source": "df.dtypes",
   "id": "52468e78ae5bbf04",
   "outputs": [
    {
     "data": {
      "text/plain": [
       "property_name      object\n",
       "areaWithType       object\n",
       "square_feet       float64\n",
       "transaction        object\n",
       "furnishing         object\n",
       "facing             object\n",
       "price_per_sqft    float64\n",
       "price             float64\n",
       "num_of_floor      float64\n",
       "total_floors      float64\n",
       "BHK               float64\n",
       "dtype: object"
      ]
     },
     "execution_count": 1176,
     "metadata": {},
     "output_type": "execute_result"
    }
   ],
   "execution_count": 1176
  },
  {
   "metadata": {
    "ExecuteTime": {
     "end_time": "2025-07-22T07:19:59.559191Z",
     "start_time": "2025-07-22T07:19:59.109703Z"
    }
   },
   "cell_type": "code",
   "source": [
    "corr_matrix = df.select_dtypes(include='number').corr()\n",
    "sns.heatmap(corr_matrix,linewidths=0.4,annot = True,fmt = '.2%')\n",
    "plt.show()"
   ],
   "id": "f1c052a83988e46",
   "outputs": [
    {
     "data": {
      "text/plain": [
       "<Figure size 640x480 with 2 Axes>"
      ],
      "image/png": "[encoded data removed]"
     },
     "metadata": {},
     "output_type": "display_data"
    }
   ],
   "execution_count": 1177
  },
  {
   "metadata": {
    "ExecuteTime": {
     "end_time": "2025-07-22T07:19:59.697283Z",
     "start_time": "2025-07-22T07:19:59.574780Z"
    }
   },
   "cell_type": "code",
   "source": [
    "df.boxplot('square_feet')\n",
    "plt.show()"
   ],
   "id": "2f29f23913f5da4a",
   "outputs": [
    {
     "data": {
      "text/plain": [
       "<Figure size 640x480 with 1 Axes>"
      ],
      "image/png": "[encoded data removed]"
     },
     "metadata": {},
     "output_type": "display_data"
    }
   ],
   "execution_count": 1178
  },
  {
   "metadata": {
    "ExecuteTime": {
     "end_time": "2025-07-22T07:19:59.719578Z",
     "start_time": "2025-07-22T07:19:59.708826Z"
    }
   },
   "cell_type": "code",
   "source": [
    "def iqr_outlier(col):\n",
    "    Q1 = df[col].quantile(0.25)\n",
    "    Q3 = df[col].quantile(0.75)\n",
    "    IQR = Q3 - Q1\n",
    "    LL = Q1 - 1.5 * IQR\n",
    "    UL = Q3 + 1.5 * IQR\n",
    "    return LL,UL"
   ],
   "id": "daa87b0e32568e38",
   "outputs": [],
   "execution_count": 1179
  },
  {
   "metadata": {
    "ExecuteTime": {
     "end_time": "2025-07-22T07:19:59.752872Z",
     "start_time": "2025-07-22T07:19:59.741725Z"
    }
   },
   "cell_type": "code",
   "source": [
    "l,u= iqr_outlier(\"square_feet\")\n",
    "print(l,u)"
   ],
   "id": "731ac7babbb9f736",
   "outputs": [
    {
     "name": "stdout",
     "output_type": "stream",
     "text": [
      "-1000.0 3800.0\n"
     ]
    }
   ],
   "execution_count": 1180
  },
  {
   "metadata": {
    "ExecuteTime": {
     "end_time": "2025-07-22T07:19:59.784650Z",
     "start_time": "2025-07-22T07:19:59.775716Z"
    }
   },
   "cell_type": "code",
   "source": "df = df[df['square_feet'].between(l,u)]",
   "id": "110064c65ce4486e",
   "outputs": [],
   "execution_count": 1181
  },
  {
   "metadata": {
    "ExecuteTime": {
     "end_time": "2025-07-22T07:19:59.939795Z",
     "start_time": "2025-07-22T07:19:59.797935Z"
    }
   },
   "cell_type": "code",
   "source": [
    "df.boxplot('square_feet')\n",
    "plt.show()"
   ],
   "id": "6b2a4c5b1811f31b",
   "outputs": [
    {
     "data": {
      "text/plain": [
       "<Figure size 640x480 with 1 Axes>"
      ],
      "image/png": "[encoded data removed]"
     },
     "metadata": {},
     "output_type": "display_data"
    }
   ],
   "execution_count": 1182
  },
  {
   "metadata": {
    "ExecuteTime": {
     "end_time": "2025-07-22T07:20:00.104798Z",
     "start_time": "2025-07-22T07:19:59.957847Z"
    }
   },
   "cell_type": "code",
   "source": [
    "df.boxplot('price_per_sqft')\n",
    "plt.show()"
   ],
   "id": "694e9b70935a8cca",
   "outputs": [
    {
     "data": {
      "text/plain": [
       "<Figure size 640x480 with 1 Axes>"
      ],
      "image/png": "[encoded data removed]"
     },
     "metadata": {},
     "output_type": "display_data"
    }
   ],
   "execution_count": 1183
  },
  {
   "metadata": {
    "ExecuteTime": {
     "end_time": "2025-07-22T07:20:00.138672Z",
     "start_time": "2025-07-22T07:20:00.124507Z"
    }
   },
   "cell_type": "code",
   "source": [
    "l,u= iqr_outlier(\"price_per_sqft\")\n",
    "print(l,u)"
   ],
   "id": "b06870f3136ef808",
   "outputs": [
    {
     "name": "stdout",
     "output_type": "stream",
     "text": [
      "485.0 9069.0\n"
     ]
    }
   ],
   "execution_count": 1184
  },
  {
   "metadata": {
    "ExecuteTime": {
     "end_time": "2025-07-22T07:20:00.165913Z",
     "start_time": "2025-07-22T07:20:00.151562Z"
    }
   },
   "cell_type": "code",
   "source": "df = df[df['price_per_sqft'].between(l,u)]",
   "id": "7c52ddb9865be3bd",
   "outputs": [],
   "execution_count": 1185
  },
  {
   "metadata": {
    "ExecuteTime": {
     "end_time": "2025-07-22T07:20:00.306565Z",
     "start_time": "2025-07-22T07:20:00.180753Z"
    }
   },
   "cell_type": "code",
   "source": [
    "df.boxplot('price_per_sqft')\n",
    "plt.show()"
   ],
   "id": "5d84e143188a7889",
   "outputs": [
    {
     "data": {
      "text/plain": [
       "<Figure size 640x480 with 1 Axes>"
      ],
      "image/png": "[encoded data removed]"
     },
     "metadata": {},
     "output_type": "display_data"
    }
   ],
   "execution_count": 1186
  },
  {
   "metadata": {
    "ExecuteTime": {
     "end_time": "2025-07-22T07:20:00.454762Z",
     "start_time": "2025-07-22T07:20:00.327944Z"
    }
   },
   "cell_type": "code",
   "source": [
    "df.boxplot('price')\n",
    "plt.show()"
   ],
   "id": "d639fa02f4e45ab1",
   "outputs": [
    {
     "data": {
      "text/plain": [
       "<Figure size 640x480 with 1 Axes>"
      ],
      "image/png": "[encoded data removed]"
     },
     "metadata": {},
     "output_type": "display_data"
    }
   ],
   "execution_count": 1187
  },
  {
   "metadata": {
    "ExecuteTime": {
     "end_time": "2025-07-22T07:20:00.486112Z",
     "start_time": "2025-07-22T07:20:00.475884Z"
    }
   },
   "cell_type": "code",
   "source": [
    "l,u= iqr_outlier(\"price\")\n",
    "print(l,u)"
   ],
   "id": "dfa21504b1679a79",
   "outputs": [
    {
     "name": "stdout",
     "output_type": "stream",
     "text": [
      "-210.5 457.5\n"
     ]
    }
   ],
   "execution_count": 1188
  },
  {
   "metadata": {
    "ExecuteTime": {
     "end_time": "2025-07-22T07:20:00.525064Z",
     "start_time": "2025-07-22T07:20:00.517560Z"
    }
   },
   "cell_type": "code",
   "source": "df = df[df['price'].between(l,u)]",
   "id": "fb0ead0ff0d9a336",
   "outputs": [],
   "execution_count": 1189
  },
  {
   "metadata": {
    "ExecuteTime": {
     "end_time": "2025-07-22T07:20:00.652876Z",
     "start_time": "2025-07-22T07:20:00.537706Z"
    }
   },
   "cell_type": "code",
   "source": [
    "df.boxplot('price')\n",
    "plt.show()"
   ],
   "id": "e7d143f627680ba4",
   "outputs": [
    {
     "data": {
      "text/plain": [
       "<Figure size 640x480 with 1 Axes>"
      ],
      "image/png": "[encoded data removed]"
     },
     "metadata": {},
     "output_type": "display_data"
    }
   ],
   "execution_count": 1190
  },
  {
   "metadata": {
    "ExecuteTime": {
     "end_time": "2025-07-22T07:20:00.669001Z",
     "start_time": "2025-07-22T07:20:00.663085Z"
    }
   },
   "cell_type": "code",
   "source": "l = LabelEncoder()",
   "id": "db0baa51035f92f3",
   "outputs": [],
   "execution_count": 1191
  },
  {
   "metadata": {
    "ExecuteTime": {
     "end_time": "2025-07-22T07:20:00.690458Z",
     "start_time": "2025-07-22T07:20:00.682488Z"
    }
   },
   "cell_type": "code",
   "source": "categorical_columns = df.select_dtypes(include = 'object').columns",
   "id": "9299f2f1801c4bce",
   "outputs": [],
   "execution_count": 1192
  },
  {
   "metadata": {
    "ExecuteTime": {
     "end_time": "2025-07-22T07:20:00.710661Z",
     "start_time": "2025-07-22T07:20:00.702111Z"
    }
   },
   "cell_type": "code",
   "source": "categorical_columns",
   "id": "32602bae54747bd9",
   "outputs": [
    {
     "data": {
      "text/plain": [
       "Index(['property_name', 'areaWithType', 'transaction', 'furnishing', 'facing'], dtype='object')"
      ]
     },
     "execution_count": 1193,
     "metadata": {},
     "output_type": "execute_result"
    }
   ],
   "execution_count": 1193
  },
  {
   "metadata": {
    "ExecuteTime": {
     "end_time": "2025-07-22T07:20:00.744937Z",
     "start_time": "2025-07-22T07:20:00.723695Z"
    }
   },
   "cell_type": "code",
   "source": [
    "for i in categorical_columns:\n",
    "     df[i] = l.fit_transform(df[i])"
   ],
   "id": "15c6b980982f574d",
   "outputs": [],
   "execution_count": 1194
  },
  {
   "metadata": {
    "ExecuteTime": {
     "end_time": "2025-07-22T07:20:00.789659Z",
     "start_time": "2025-07-22T07:20:00.756007Z"
    }
   },
   "cell_type": "code",
   "source": "df.head()",
   "id": "12dc9b2ed349531b",
   "outputs": [
    {
     "data": {
      "text/plain": [
       "   property_name  areaWithType  square_feet  transaction  furnishing  facing  \\\n",
       "0            532             1        644.0           17           2     133   \n",
       "1            486             3       1278.0           17           2     116   \n",
       "2            638             3       1173.0           17           1      21   \n",
       "3            567             1        700.0           17           2      21   \n",
       "4            635             3       1250.0           12           3      21   \n",
       "\n",
       "   price_per_sqft  price  num_of_floor  total_floors  BHK  \n",
       "0          2891.0  338.0           5.0          10.0  2.0  \n",
       "1          3551.0  454.0           6.0          14.0  2.0  \n",
       "2          3800.0  446.0           5.0          13.0  2.0  \n",
       "3          3966.0   47.0           6.0          14.0  2.0  \n",
       "4          3600.0   45.0           5.0          13.0  2.0  "
      ],
      "text/html": [
       "<div>\n",
       "<style scoped>\n",
       "    .dataframe tbody tr th:only-of-type {\n",
       "        vertical-align: middle;\n",
       "    }\n",
       "\n",
       "    .dataframe tbody tr th {\n",
       "        vertical-align: top;\n",
       "    }\n",
       "\n",
       "    .dataframe thead th {\n",
       "        text-align: right;\n",
       "    }\n",
       "</style>\n",
       "<table border=\"1\" class=\"dataframe\">\n",
       "  <thead>\n",
       "    <tr style=\"text-align: right;\">\n",
       "      <th></th>\n",
       "      <th>property_name</th>\n",
       "      <th>areaWithType</th>\n",
       "      <th>square_feet</th>\n",
       "      <th>transaction</th>\n",
       "      <th>furnishing</th>\n",
       "      <th>facing</th>\n",
       "      <th>price_per_sqft</th>\n",
       "      <th>price</th>\n",
       "      <th>num_of_floor</th>\n",
       "      <th>total_floors</th>\n",
       "      <th>BHK</th>\n",
       "    </tr>\n",
       "  </thead>\n",
       "  <tbody>\n",
       "    <tr>\n",
       "      <th>0</th>\n",
       "      <td>532</td>\n",
       "      <td>1</td>\n",
       "      <td>644.0</td>\n",
       "      <td>17</td>\n",
       "      <td>2</td>\n",
       "      <td>133</td>\n",
       "      <td>2891.0</td>\n",
       "      <td>338.0</td>\n",
       "      <td>5.0</td>\n",
       "      <td>10.0</td>\n",
       "      <td>2.0</td>\n",
       "    </tr>\n",
       "    <tr>\n",
       "      <th>1</th>\n",
       "      <td>486</td>\n",
       "      <td>3</td>\n",
       "      <td>1278.0</td>\n",
       "      <td>17</td>\n",
       "      <td>2</td>\n",
       "      <td>116</td>\n",
       "      <td>3551.0</td>\n",
       "      <td>454.0</td>\n",
       "      <td>6.0</td>\n",
       "      <td>14.0</td>\n",
       "      <td>2.0</td>\n",
       "    </tr>\n",
       "    <tr>\n",
       "      <th>2</th>\n",
       "      <td>638</td>\n",
       "      <td>3</td>\n",
       "      <td>1173.0</td>\n",
       "      <td>17</td>\n",
       "      <td>1</td>\n",
       "      <td>21</td>\n",
       "      <td>3800.0</td>\n",
       "      <td>446.0</td>\n",
       "      <td>5.0</td>\n",
       "      <td>13.0</td>\n",
       "      <td>2.0</td>\n",
       "    </tr>\n",
       "    <tr>\n",
       "      <th>3</th>\n",
       "      <td>567</td>\n",
       "      <td>1</td>\n",
       "      <td>700.0</td>\n",
       "      <td>17</td>\n",
       "      <td>2</td>\n",
       "      <td>21</td>\n",
       "      <td>3966.0</td>\n",
       "      <td>47.0</td>\n",
       "      <td>6.0</td>\n",
       "      <td>14.0</td>\n",
       "      <td>2.0</td>\n",
       "    </tr>\n",
       "    <tr>\n",
       "      <th>4</th>\n",
       "      <td>635</td>\n",
       "      <td>3</td>\n",
       "      <td>1250.0</td>\n",
       "      <td>12</td>\n",
       "      <td>3</td>\n",
       "      <td>21</td>\n",
       "      <td>3600.0</td>\n",
       "      <td>45.0</td>\n",
       "      <td>5.0</td>\n",
       "      <td>13.0</td>\n",
       "      <td>2.0</td>\n",
       "    </tr>\n",
       "  </tbody>\n",
       "</table>\n",
       "</div>"
      ]
     },
     "execution_count": 1195,
     "metadata": {},
     "output_type": "execute_result"
    }
   ],
   "execution_count": 1195
  },
  {
   "metadata": {
    "ExecuteTime": {
     "end_time": "2025-07-22T07:20:01.051722Z",
     "start_time": "2025-07-22T07:20:00.817029Z"
    }
   },
   "cell_type": "code",
   "source": [
    "df['square_feet'].plot (kind='hist')\n",
    "plt.show()"
   ],
   "id": "a439f2bcb9cc139e",
   "outputs": [
    {
     "data": {
      "text/plain": [
       "<Figure size 640x480 with 1 Axes>"
      ],
      "image/png": "[encoded data removed]"
     },
     "metadata": {},
     "output_type": "display_data"
    }
   ],
   "execution_count": 1196
  },
  {
   "metadata": {
    "ExecuteTime": {
     "end_time": "2025-07-22T07:20:01.085848Z",
     "start_time": "2025-07-22T07:20:01.059762Z"
    }
   },
   "cell_type": "code",
   "source": "df['square_feet_boxcox'], fitted_lambda = boxcox(df['square_feet'])",
   "id": "3f9b1159879fe160",
   "outputs": [],
   "execution_count": 1197
  },
  {
   "metadata": {
    "ExecuteTime": {
     "end_time": "2025-07-22T07:20:01.366962Z",
     "start_time": "2025-07-22T07:20:01.097031Z"
    }
   },
   "cell_type": "code",
   "source": [
    "df['square_feet_boxcox'].plot (kind='hist')\n",
    "plt.show()"
   ],
   "id": "abb94c7fda7f9854",
   "outputs": [
    {
     "data": {
      "text/plain": [
       "<Figure size 640x480 with 1 Axes>"
      ],
      "image/png": "[encoded data removed]"
     },
     "metadata": {},
     "output_type": "display_data"
    }
   ],
   "execution_count": 1198
  },
  {
   "metadata": {
    "ExecuteTime": {
     "end_time": "2025-07-22T07:20:01.401345Z",
     "start_time": "2025-07-22T07:20:01.388319Z"
    }
   },
   "cell_type": "code",
   "source": "df.columns",
   "id": "579a6608c313257",
   "outputs": [
    {
     "data": {
      "text/plain": [
       "Index(['property_name', 'areaWithType', 'square_feet', 'transaction',\n",
       "       'furnishing', 'facing', 'price_per_sqft', 'price', 'num_of_floor',\n",
       "       'total_floors', 'BHK', 'square_feet_boxcox'],\n",
       "      dtype='object')"
      ]
     },
     "execution_count": 1199,
     "metadata": {},
     "output_type": "execute_result"
    }
   ],
   "execution_count": 1199
  },
  {
   "metadata": {
    "ExecuteTime": {
     "end_time": "2025-07-22T07:20:01.462168Z",
     "start_time": "2025-07-22T07:20:01.433611Z"
    }
   },
   "cell_type": "code",
   "source": "df.head()",
   "id": "888c3ab2fc647ca",
   "outputs": [
    {
     "data": {
      "text/plain": [
       "   property_name  areaWithType  square_feet  transaction  furnishing  facing  \\\n",
       "0            532             1        644.0           17           2     133   \n",
       "1            486             3       1278.0           17           2     116   \n",
       "2            638             3       1173.0           17           1      21   \n",
       "3            567             1        700.0           17           2      21   \n",
       "4            635             3       1250.0           12           3      21   \n",
       "\n",
       "   price_per_sqft  price  num_of_floor  total_floors  BHK  square_feet_boxcox  \n",
       "0          2891.0  338.0           5.0          10.0  2.0           36.319315  \n",
       "1          3551.0  454.0           6.0          14.0  2.0           49.794513  \n",
       "2          3800.0  446.0           5.0          13.0  2.0           47.880060  \n",
       "3          3966.0   47.0           6.0          14.0  2.0           37.751485  \n",
       "4          3600.0   45.0           5.0          13.0  2.0           49.292935  "
      ],
      "text/html": [
       "<div>\n",
       "<style scoped>\n",
       "    .dataframe tbody tr th:only-of-type {\n",
       "        vertical-align: middle;\n",
       "    }\n",
       "\n",
       "    .dataframe tbody tr th {\n",
       "        vertical-align: top;\n",
       "    }\n",
       "\n",
       "    .dataframe thead th {\n",
       "        text-align: right;\n",
       "    }\n",
       "</style>\n",
       "<table border=\"1\" class=\"dataframe\">\n",
       "  <thead>\n",
       "    <tr style=\"text-align: right;\">\n",
       "      <th></th>\n",
       "      <th>property_name</th>\n",
       "      <th>areaWithType</th>\n",
       "      <th>square_feet</th>\n",
       "      <th>transaction</th>\n",
       "      <th>furnishing</th>\n",
       "      <th>facing</th>\n",
       "      <th>price_per_sqft</th>\n",
       "      <th>price</th>\n",
       "      <th>num_of_floor</th>\n",
       "      <th>total_floors</th>\n",
       "      <th>BHK</th>\n",
       "      <th>square_feet_boxcox</th>\n",
       "    </tr>\n",
       "  </thead>\n",
       "  <tbody>\n",
       "    <tr>\n",
       "      <th>0</th>\n",
       "      <td>532</td>\n",
       "      <td>1</td>\n",
       "      <td>644.0</td>\n",
       "      <td>17</td>\n",
       "      <td>2</td>\n",
       "      <td>133</td>\n",
       "      <td>2891.0</td>\n",
       "      <td>338.0</td>\n",
       "      <td>5.0</td>\n",
       "      <td>10.0</td>\n",
       "      <td>2.0</td>\n",
       "      <td>36.319315</td>\n",
       "    </tr>\n",
       "    <tr>\n",
       "      <th>1</th>\n",
       "      <td>486</td>\n",
       "      <td>3</td>\n",
       "      <td>1278.0</td>\n",
       "      <td>17</td>\n",
       "      <td>2</td>\n",
       "      <td>116</td>\n",
       "      <td>3551.0</td>\n",
       "      <td>454.0</td>\n",
       "      <td>6.0</td>\n",
       "      <td>14.0</td>\n",
       "      <td>2.0</td>\n",
       "      <td>49.794513</td>\n",
       "    </tr>\n",
       "    <tr>\n",
       "      <th>2</th>\n",
       "      <td>638</td>\n",
       "      <td>3</td>\n",
       "      <td>1173.0</td>\n",
       "      <td>17</td>\n",
       "      <td>1</td>\n",
       "      <td>21</td>\n",
       "      <td>3800.0</td>\n",
       "      <td>446.0</td>\n",
       "      <td>5.0</td>\n",
       "      <td>13.0</td>\n",
       "      <td>2.0</td>\n",
       "      <td>47.880060</td>\n",
       "    </tr>\n",
       "    <tr>\n",
       "      <th>3</th>\n",
       "      <td>567</td>\n",
       "      <td>1</td>\n",
       "      <td>700.0</td>\n",
       "      <td>17</td>\n",
       "      <td>2</td>\n",
       "      <td>21</td>\n",
       "      <td>3966.0</td>\n",
       "      <td>47.0</td>\n",
       "      <td>6.0</td>\n",
       "      <td>14.0</td>\n",
       "      <td>2.0</td>\n",
       "      <td>37.751485</td>\n",
       "    </tr>\n",
       "    <tr>\n",
       "      <th>4</th>\n",
       "      <td>635</td>\n",
       "      <td>3</td>\n",
       "      <td>1250.0</td>\n",
       "      <td>12</td>\n",
       "      <td>3</td>\n",
       "      <td>21</td>\n",
       "      <td>3600.0</td>\n",
       "      <td>45.0</td>\n",
       "      <td>5.0</td>\n",
       "      <td>13.0</td>\n",
       "      <td>2.0</td>\n",
       "      <td>49.292935</td>\n",
       "    </tr>\n",
       "  </tbody>\n",
       "</table>\n",
       "</div>"
      ]
     },
     "execution_count": 1200,
     "metadata": {},
     "output_type": "execute_result"
    }
   ],
   "execution_count": 1200
  },
  {
   "metadata": {
    "ExecuteTime": {
     "end_time": "2025-07-22T07:20:01.486862Z",
     "start_time": "2025-07-22T07:20:01.480735Z"
    }
   },
   "cell_type": "code",
   "source": "scaling_columns = ['square_feet', 'price_per_sqft', 'price']",
   "id": "6825c66d7a71c8ad",
   "outputs": [],
   "execution_count": 1201
  },
  {
   "metadata": {
    "ExecuteTime": {
     "end_time": "2025-07-22T07:20:01.509036Z",
     "start_time": "2025-07-22T07:20:01.495872Z"
    }
   },
   "cell_type": "code",
   "source": [
    "scaler = StandardScaler()\n",
    "df[scaling_columns] = scaler.fit_transform(df[scaling_columns])"
   ],
   "id": "99eac0509b5a79c4",
   "outputs": [],
   "execution_count": 1202
  },
  {
   "metadata": {
    "ExecuteTime": {
     "end_time": "2025-07-22T07:20:01.543969Z",
     "start_time": "2025-07-22T07:20:01.519614Z"
    }
   },
   "cell_type": "code",
   "source": [
    "# Define features (X) and target (y) from the DataFrame\n",
    "X = df.drop('price', axis=1)\n",
    "y = df['price']\n",
    "\n",
    "# Split data\n",
    "X_train, X_test, y_train, y_test = train_test_split(X, y, test_size=0.2, random_state=42)\n",
    "\n",
    "# Create and train the Linear Regression model\n",
    "model = LinearRegression()\n",
    "model.fit(X_train, y_train)\n",
    "\n",
    "# Make predictions\n",
    "y_pred = model.predict(X_test)\n",
    "\n",
    "# Evaluate the model (metrics explained later)\n",
    "mse = mean_squared_error(y_test, y_pred)\n",
    "r2 = r2_score(y_test, y_pred)\n",
    "\n",
    "print(\"--- Linear Regression Results ---\")\n",
    "print(f\"Mean Squared Error (MSE): {mse:.2f}\")\n",
    "print(f\"R-squared (R2): {r2:.2f}\")"
   ],
   "id": "2eb3bd4adf8d26d",
   "outputs": [
    {
     "name": "stdout",
     "output_type": "stream",
     "text": [
      "--- Linear Regression Results ---\n",
      "Mean Squared Error (MSE): 0.88\n",
      "R-squared (R2): 0.14\n"
     ]
    }
   ],
   "execution_count": 1203
  },
  {
   "metadata": {
    "ExecuteTime": {
     "end_time": "2025-07-22T07:20:01.571645Z",
     "start_time": "2025-07-22T07:20:01.567263Z"
    }
   },
   "cell_type": "code",
   "source": "",
   "id": "aaf974a240bbf6c4",
   "outputs": [],
   "execution_count": null
  }
 ],
 "metadata": {
  "kernelspec": {
   "display_name": "Python 3",
   "language": "python",
   "name": "python3"
  },
  "language_info": {
   "codemirror_mode": {
    "name": "ipython",
    "version": 2
   },
   "file_extension": ".py",
   "mimetype": "text/x-python",
   "name": "python",
   "nbconvert_exporter": "python",
   "pygments_lexer": "ipython2",
   "version": "2.7.6"
  }
 },
 "nbformat": 4,
 "nbformat_minor": 5
}
