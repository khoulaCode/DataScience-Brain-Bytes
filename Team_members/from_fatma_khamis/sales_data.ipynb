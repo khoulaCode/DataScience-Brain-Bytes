{
 "cells": [
  {
   "cell_type": "code",
   "execution_count": 1,
   "id": "initial_id",
   "metadata": {
    "ExecuteTime": {
     "end_time": "2025-07-02T06:40:54.820812Z",
     "start_time": "2025-07-02T06:40:53.994132Z"
    },
    "collapsed": true,
    "jupyter": {
     "outputs_hidden": true
    }
   },
   "outputs": [],
   "source": [
    "import numpy as np\n",
    "import pandas as pd"
   ]
  },
  {
   "cell_type": "markdown",
   "id": "745fab551c1a8e06",
   "metadata": {},
   "source": [
    "## Scenario: You are a junior data analyst at an online retail company. Your manager wants to understand daily sales patterns. You need to simulate a month's worth of sales data and then use NumPy to extract insights about sales performance."
   ]
  },
  {
   "cell_type": "markdown",
   "id": "ef53783c207cce6",
   "metadata": {},
   "source": [
    "#### Sales Data Generation:"
   ]
  },
  {
   "cell_type": "markdown",
   "id": "32a3dcb4919ccfe1",
   "metadata": {},
   "source": [
    "Simulate daily sales_revenue for 30 days. Assume a base daily revenue (e.g., $1000) with random fluctuations. Use np.random.rand() or np.random.normal() to add variability. Ensure no negative sales."
   ]
  },
  {
   "cell_type": "code",
   "execution_count": 122,
   "id": "625471ae4b2457f8",
   "metadata": {
    "ExecuteTime": {
     "end_time": "2025-07-02T08:48:40.822974Z",
     "start_time": "2025-07-02T08:48:40.814936Z"
    }
   },
   "outputs": [
    {
     "data": {
      "text/plain": [
       "array([1007.55561098,  987.4856007 , 1225.83849049,  927.49955447,\n",
       "        779.67759573,  960.44643402, 1210.37271755, 1022.0629548 ,\n",
       "        971.67845392,  956.32921681,  828.40455242,  994.40245297,\n",
       "        500.74072957,  755.26003945,  853.95561416,  948.88354263,\n",
       "        590.02074896,  858.98437673, 1123.69766904,  825.43519657,\n",
       "       1108.3797071 ,  689.56914045,  696.88223983,  985.25196104,\n",
       "        651.84103883, 1175.612416  , 1057.50572686,  754.87861845,\n",
       "        730.81598027,  765.82618673])"
      ]
     },
     "execution_count": 122,
     "metadata": {},
     "output_type": "execute_result"
    }
   ],
   "source": [
    "base_daily_revenue = 1000\n",
    "sales_revenue = base_daily_revenue + np.random.normal(0, 200, 30)\n",
    "sales_revenue"
   ]
  },
  {
   "cell_type": "markdown",
   "id": "9b1663699bcaf31",
   "metadata": {},
   "source": [
    "Simulate units_sold for the same 30 days, correlated with sales revenue but with its own random fluctuations."
   ]
  },
  {
   "cell_type": "code",
   "execution_count": 123,
   "id": "24ee3bca8663d46c",
   "metadata": {
    "ExecuteTime": {
     "end_time": "2025-07-02T08:48:40.868069Z",
     "start_time": "2025-07-02T08:48:40.860390Z"
    }
   },
   "outputs": [
    {
     "data": {
      "text/plain": [
       "array([41.29630482, 55.6551033 , 62.90620585, 46.72310513, 33.24305721,\n",
       "       47.24180505, 62.80798022, 43.14465835, 45.1620618 , 45.5514057 ,\n",
       "       41.2521532 , 49.08463819, 27.16959721, 33.78113666, 32.51051235,\n",
       "       51.50807086, 27.47297135, 46.17507233, 59.48233111, 37.07961337,\n",
       "       51.30742846, 35.35838211, 31.41675453, 52.23992135, 39.72770403,\n",
       "       60.3172382 , 53.76331084, 36.29341144, 43.27080276, 34.22418265])"
      ]
     },
     "execution_count": 123,
     "metadata": {},
     "output_type": "execute_result"
    }
   ],
   "source": [
    "base_units = 50\n",
    "units_sold = (sales_revenue / base_daily_revenue) * base_units + np.random.normal(0, 5, 30)\n",
    "units_sold"
   ]
  },
  {
   "cell_type": "markdown",
   "id": "2e863bdd1a818e86",
   "metadata": {},
   "source": [
    "Create two 1D NumPy arrays, one for sales_revenue and one for units_sold."
   ]
  },
  {
   "cell_type": "code",
   "execution_count": 124,
   "id": "e80e499bc9b56079",
   "metadata": {
    "ExecuteTime": {
     "end_time": "2025-07-02T08:48:40.902187Z",
     "start_time": "2025-07-02T08:48:40.896918Z"
    }
   },
   "outputs": [
    {
     "data": {
      "text/plain": [
       "array([1007.55561098,  987.4856007 , 1225.83849049,  927.49955447,\n",
       "        779.67759573,  960.44643402, 1210.37271755, 1022.0629548 ,\n",
       "        971.67845392,  956.32921681,  828.40455242,  994.40245297,\n",
       "        500.74072957,  755.26003945,  853.95561416,  948.88354263,\n",
       "        590.02074896,  858.98437673, 1123.69766904,  825.43519657,\n",
       "       1108.3797071 ,  689.56914045,  696.88223983,  985.25196104,\n",
       "        651.84103883, 1175.612416  , 1057.50572686,  754.87861845,\n",
       "        730.81598027,  765.82618673])"
      ]
     },
     "execution_count": 124,
     "metadata": {},
     "output_type": "execute_result"
    }
   ],
   "source": [
    "arr_sales_revenue=np.array(sales_revenue)\n",
    "arr_sales_revenue"
   ]
  },
  {
   "cell_type": "code",
   "execution_count": 125,
   "id": "9902def07189f31e",
   "metadata": {
    "ExecuteTime": {
     "end_time": "2025-07-02T08:48:40.929443Z",
     "start_time": "2025-07-02T08:48:40.922860Z"
    }
   },
   "outputs": [
    {
     "data": {
      "text/plain": [
       "array([41.29630482, 55.6551033 , 62.90620585, 46.72310513, 33.24305721,\n",
       "       47.24180505, 62.80798022, 43.14465835, 45.1620618 , 45.5514057 ,\n",
       "       41.2521532 , 49.08463819, 27.16959721, 33.78113666, 32.51051235,\n",
       "       51.50807086, 27.47297135, 46.17507233, 59.48233111, 37.07961337,\n",
       "       51.30742846, 35.35838211, 31.41675453, 52.23992135, 39.72770403,\n",
       "       60.3172382 , 53.76331084, 36.29341144, 43.27080276, 34.22418265])"
      ]
     },
     "execution_count": 125,
     "metadata": {},
     "output_type": "execute_result"
    }
   ],
   "source": [
    "arr_units_sold=np.array(units_sold)\n",
    "arr_units_sold"
   ]
  },
  {
   "cell_type": "markdown",
   "id": "f05a1cd5611ee2ee",
   "metadata": {},
   "source": [
    "#### Combine Data:"
   ]
  },
  {
   "cell_type": "markdown",
   "id": "2b03392f8f19eac3",
   "metadata": {},
   "source": [
    "Create a 2D NumPy array where the first column is sales_revenue and the second is units_sold."
   ]
  },
  {
   "cell_type": "code",
   "execution_count": 126,
   "id": "d2643eb9267299e4",
   "metadata": {
    "ExecuteTime": {
     "end_time": "2025-07-02T08:48:40.964949Z",
     "start_time": "2025-07-02T08:48:40.956523Z"
    }
   },
   "outputs": [
    {
     "data": {
      "text/plain": [
       "array([[1007.55561098,   41.29630482],\n",
       "       [ 987.4856007 ,   55.6551033 ],\n",
       "       [1225.83849049,   62.90620585],\n",
       "       [ 927.49955447,   46.72310513],\n",
       "       [ 779.67759573,   33.24305721],\n",
       "       [ 960.44643402,   47.24180505],\n",
       "       [1210.37271755,   62.80798022],\n",
       "       [1022.0629548 ,   43.14465835],\n",
       "       [ 971.67845392,   45.1620618 ],\n",
       "       [ 956.32921681,   45.5514057 ],\n",
       "       [ 828.40455242,   41.2521532 ],\n",
       "       [ 994.40245297,   49.08463819],\n",
       "       [ 500.74072957,   27.16959721],\n",
       "       [ 755.26003945,   33.78113666],\n",
       "       [ 853.95561416,   32.51051235],\n",
       "       [ 948.88354263,   51.50807086],\n",
       "       [ 590.02074896,   27.47297135],\n",
       "       [ 858.98437673,   46.17507233],\n",
       "       [1123.69766904,   59.48233111],\n",
       "       [ 825.43519657,   37.07961337],\n",
       "       [1108.3797071 ,   51.30742846],\n",
       "       [ 689.56914045,   35.35838211],\n",
       "       [ 696.88223983,   31.41675453],\n",
       "       [ 985.25196104,   52.23992135],\n",
       "       [ 651.84103883,   39.72770403],\n",
       "       [1175.612416  ,   60.3172382 ],\n",
       "       [1057.50572686,   53.76331084],\n",
       "       [ 754.87861845,   36.29341144],\n",
       "       [ 730.81598027,   43.27080276],\n",
       "       [ 765.82618673,   34.22418265]])"
      ]
     },
     "execution_count": 126,
     "metadata": {},
     "output_type": "execute_result"
    }
   ],
   "source": [
    "combined = np.column_stack((sales_revenue,units_sold))\n",
    "combined"
   ]
  },
  {
   "cell_type": "markdown",
   "id": "46bfc1769a87c3c5",
   "metadata": {},
   "source": [
    "#### Key Performance Indicators (KPIs):"
   ]
  },
  {
   "cell_type": "markdown",
   "id": "c2c380ae9d3cce75",
   "metadata": {},
   "source": [
    "Calculate the total sales_revenue for the month."
   ]
  },
  {
   "cell_type": "code",
   "execution_count": 127,
   "id": "50ada446c388b6f8",
   "metadata": {
    "ExecuteTime": {
     "end_time": "2025-07-02T08:48:41.020070Z",
     "start_time": "2025-07-02T08:48:41.014710Z"
    }
   },
   "outputs": [
    {
     "data": {
      "text/plain": [
       "26945.29456752302"
      ]
     },
     "execution_count": 127,
     "metadata": {},
     "output_type": "execute_result"
    }
   ],
   "source": [
    "total_sales_revenue = np.sum(arr_sales_revenue)\n",
    "total_sales_revenue"
   ]
  },
  {
   "cell_type": "markdown",
   "id": "f2aa8faa07691558",
   "metadata": {},
   "source": [
    "Calculate the average units_sold per day."
   ]
  },
  {
   "cell_type": "code",
   "execution_count": 128,
   "id": "86a32214f0e93fc7",
   "metadata": {
    "ExecuteTime": {
     "end_time": "2025-07-02T08:48:41.074749Z",
     "start_time": "2025-07-02T08:48:41.069807Z"
    }
   },
   "outputs": [
    {
     "data": {
      "text/plain": [
       "44.23889734699449"
      ]
     },
     "execution_count": 128,
     "metadata": {},
     "output_type": "execute_result"
    }
   ],
   "source": [
    "average_units_sold = np.mean(units_sold)\n",
    "average_units_sold"
   ]
  },
  {
   "cell_type": "markdown",
   "id": "60b0d5518908d044",
   "metadata": {},
   "source": [
    "Determine the maximum daily sales_revenue and the day (index) it occurred."
   ]
  },
  {
   "cell_type": "code",
   "execution_count": 129,
   "id": "46cb27b4adc77806",
   "metadata": {
    "ExecuteTime": {
     "end_time": "2025-07-02T08:48:41.117032Z",
     "start_time": "2025-07-02T08:48:41.112086Z"
    }
   },
   "outputs": [
    {
     "name": "stdout",
     "output_type": "stream",
     "text": [
      "maximum sales revenue: 1225.8384904921168\n",
      "the day occurred: 2\n"
     ]
    }
   ],
   "source": [
    "max_revenue = np.max(arr_sales_revenue)\n",
    "max_revenue_day = np.argmax(sales_revenue)\n",
    "print(\"maximum sales revenue:\",max_revenue)\n",
    "print(\"the day occurred:\",max_revenue_day)"
   ]
  },
  {
   "cell_type": "markdown",
   "id": "e189dbdc689ad3d8",
   "metadata": {},
   "source": [
    "Calculate the average revenue per unit sold for the entire month (total revenue / total units sold)."
   ]
  },
  {
   "cell_type": "code",
   "execution_count": 130,
   "id": "dc368ddd525c1283",
   "metadata": {
    "ExecuteTime": {
     "end_time": "2025-07-02T08:48:41.141340Z",
     "start_time": "2025-07-02T08:48:41.136406Z"
    }
   },
   "outputs": [
    {
     "data": {
      "text/plain": [
       "20.302867825549928"
      ]
     },
     "execution_count": 130,
     "metadata": {},
     "output_type": "execute_result"
    }
   ],
   "source": [
    "average_revenue_per_unit_sold = np.sum(sales_revenue) / np.sum(units_sold)\n",
    "average_revenue_per_unit_sold"
   ]
  },
  {
   "cell_type": "markdown",
   "id": "14cf104b35e8ac34",
   "metadata": {},
   "source": [
    "#### Conditional Analysis:"
   ]
  },
  {
   "cell_type": "markdown",
   "id": "6120ba86fbc6dc5d",
   "metadata": {},
   "source": [
    "Identify and count how many days had sales_revenue above a certain target (e.g., $1200)."
   ]
  },
  {
   "cell_type": "code",
   "execution_count": 131,
   "id": "61a1777399ddc43e",
   "metadata": {
    "ExecuteTime": {
     "end_time": "2025-07-02T08:48:41.164573Z",
     "start_time": "2025-07-02T08:48:41.159285Z"
    }
   },
   "outputs": [
    {
     "data": {
      "text/plain": [
       "array([1225.83849049, 1210.37271755])"
      ]
     },
     "execution_count": 131,
     "metadata": {},
     "output_type": "execute_result"
    }
   ],
   "source": [
    "days = sales_revenue[sales_revenue>1200]\n",
    "days"
   ]
  },
  {
   "cell_type": "code",
   "execution_count": 132,
   "id": "dddb40cbeaa6eaff",
   "metadata": {
    "ExecuteTime": {
     "end_time": "2025-07-02T08:48:41.177580Z",
     "start_time": "2025-07-02T08:48:41.172580Z"
    }
   },
   "outputs": [
    {
     "data": {
      "text/plain": [
       "2"
      ]
     },
     "execution_count": 132,
     "metadata": {},
     "output_type": "execute_result"
    }
   ],
   "source": [
    "len(days)"
   ]
  },
  {
   "cell_type": "markdown",
   "id": "31e1b020b8fc916",
   "metadata": {},
   "source": [
    "Calculate the average units_sold only for days when sales_revenue was below a certain threshold (e.g., $900)."
   ]
  },
  {
   "cell_type": "code",
   "execution_count": 133,
   "id": "fd59e22ef904eddd",
   "metadata": {
    "ExecuteTime": {
     "end_time": "2025-07-02T08:48:41.203886Z",
     "start_time": "2025-07-02T08:48:41.198621Z"
    }
   },
   "outputs": [
    {
     "data": {
      "text/plain": [
       "array([779.67759573, 828.40455242, 500.74072957, 755.26003945,\n",
       "       853.95561416, 590.02074896, 858.98437673, 825.43519657,\n",
       "       689.56914045, 696.88223983, 651.84103883, 754.87861845,\n",
       "       730.81598027, 765.82618673])"
      ]
     },
     "execution_count": 133,
     "metadata": {},
     "output_type": "execute_result"
    }
   ],
   "source": [
    "condition = sales_revenue[sales_revenue<900]\n",
    "condition"
   ]
  },
  {
   "cell_type": "code",
   "execution_count": 134,
   "id": "d13f7bc27f5d3dcf",
   "metadata": {
    "ExecuteTime": {
     "end_time": "2025-07-02T08:48:41.228776Z",
     "start_time": "2025-07-02T08:48:41.222778Z"
    }
   },
   "outputs": [
    {
     "data": {
      "text/plain": [
       "35.6410965129685"
      ]
     },
     "execution_count": 134,
     "metadata": {},
     "output_type": "execute_result"
    }
   ],
   "source": [
    "np.mean(units_sold,where=sales_revenue<900)"
   ]
  },
  {
   "cell_type": "markdown",
   "id": "df364caa7bc644c5",
   "metadata": {},
   "source": [
    "#### Weekly Aggregations:"
   ]
  },
  {
   "cell_type": "markdown",
   "id": "14cbf796067b3213",
   "metadata": {},
   "source": [
    "Assume the 30 days start on a Monday. Calculate the total sales_revenue for each of the 4 full weeks (days 1-7, 8-14, 15-21, 22-28). You will need to reshape or carefully slice your data."
   ]
  },
  {
   "cell_type": "code",
   "execution_count": 135,
   "id": "9eae704ae670942b",
   "metadata": {
    "ExecuteTime": {
     "end_time": "2025-07-02T08:48:41.247846Z",
     "start_time": "2025-07-02T08:48:41.243330Z"
    }
   },
   "outputs": [
    {
     "data": {
      "text/plain": [
       "array([[1007.55561098,   41.29630482],\n",
       "       [ 987.4856007 ,   55.6551033 ],\n",
       "       [1225.83849049,   62.90620585],\n",
       "       [ 927.49955447,   46.72310513],\n",
       "       [ 779.67759573,   33.24305721],\n",
       "       [ 960.44643402,   47.24180505],\n",
       "       [1210.37271755,   62.80798022],\n",
       "       [1022.0629548 ,   43.14465835],\n",
       "       [ 971.67845392,   45.1620618 ],\n",
       "       [ 956.32921681,   45.5514057 ],\n",
       "       [ 828.40455242,   41.2521532 ],\n",
       "       [ 994.40245297,   49.08463819],\n",
       "       [ 500.74072957,   27.16959721],\n",
       "       [ 755.26003945,   33.78113666],\n",
       "       [ 853.95561416,   32.51051235],\n",
       "       [ 948.88354263,   51.50807086],\n",
       "       [ 590.02074896,   27.47297135],\n",
       "       [ 858.98437673,   46.17507233],\n",
       "       [1123.69766904,   59.48233111],\n",
       "       [ 825.43519657,   37.07961337],\n",
       "       [1108.3797071 ,   51.30742846],\n",
       "       [ 689.56914045,   35.35838211],\n",
       "       [ 696.88223983,   31.41675453],\n",
       "       [ 985.25196104,   52.23992135],\n",
       "       [ 651.84103883,   39.72770403],\n",
       "       [1175.612416  ,   60.3172382 ],\n",
       "       [1057.50572686,   53.76331084],\n",
       "       [ 754.87861845,   36.29341144],\n",
       "       [ 730.81598027,   43.27080276],\n",
       "       [ 765.82618673,   34.22418265]])"
      ]
     },
     "execution_count": 135,
     "metadata": {},
     "output_type": "execute_result"
    }
   ],
   "source": [
    "combined"
   ]
  },
  {
   "cell_type": "code",
   "execution_count": 136,
   "id": "5174ed15b1ae7b3d",
   "metadata": {
    "ExecuteTime": {
     "end_time": "2025-07-02T08:48:41.295527Z",
     "start_time": "2025-07-02T08:48:41.290011Z"
    }
   },
   "outputs": [
    {
     "data": {
      "text/plain": [
       "array([1022.0629548 ,  971.67845392,  956.32921681,  828.40455242,\n",
       "        994.40245297,  500.74072957])"
      ]
     },
     "execution_count": 136,
     "metadata": {},
     "output_type": "execute_result"
    }
   ],
   "source": [
    "sales_revenue[7:13]"
   ]
  },
  {
   "cell_type": "code",
   "execution_count": 137,
   "id": "1439e11fefc3f8f4",
   "metadata": {
    "ExecuteTime": {
     "end_time": "2025-07-02T08:48:41.353928Z",
     "start_time": "2025-07-02T08:48:41.347811Z"
    }
   },
   "outputs": [
    {
     "data": {
      "text/plain": [
       "7098.876003938012"
      ]
     },
     "execution_count": 137,
     "metadata": {},
     "output_type": "execute_result"
    }
   ],
   "source": [
    "first_week = sales_revenue[0:7]\n",
    "np.sum(first_week)"
   ]
  },
  {
   "cell_type": "code",
   "execution_count": 138,
   "id": "59fff8960bacb5e7",
   "metadata": {
    "ExecuteTime": {
     "end_time": "2025-07-02T08:48:41.413514Z",
     "start_time": "2025-07-02T08:48:41.406708Z"
    }
   },
   "outputs": [
    {
     "data": {
      "text/plain": [
       "6028.8783999265925"
      ]
     },
     "execution_count": 138,
     "metadata": {},
     "output_type": "execute_result"
    }
   ],
   "source": [
    "second_week = sales_revenue[7:14]\n",
    "np.sum(second_week)"
   ]
  },
  {
   "cell_type": "code",
   "execution_count": 139,
   "id": "51aefa6658fe9989",
   "metadata": {
    "ExecuteTime": {
     "end_time": "2025-07-02T08:48:41.446164Z",
     "start_time": "2025-07-02T08:48:41.440321Z"
    }
   },
   "outputs": [
    {
     "data": {
      "text/plain": [
       "6309.3568551972485"
      ]
     },
     "execution_count": 139,
     "metadata": {},
     "output_type": "execute_result"
    }
   ],
   "source": [
    "third_week = sales_revenue[14:21]\n",
    "np.sum(third_week)"
   ]
  },
  {
   "cell_type": "code",
   "execution_count": 140,
   "id": "1be2166c373bb916",
   "metadata": {
    "ExecuteTime": {
     "end_time": "2025-07-02T08:48:41.492999Z",
     "start_time": "2025-07-02T08:48:41.486408Z"
    }
   },
   "outputs": [
    {
     "data": {
      "text/plain": [
       "6011.541141463916"
      ]
     },
     "execution_count": 140,
     "metadata": {},
     "output_type": "execute_result"
    }
   ],
   "source": [
    "forth_week = sales_revenue[21:28]\n",
    "np.sum(forth_week)"
   ]
  },
  {
   "cell_type": "code",
   "execution_count": 141,
   "id": "e1d040f5807d9cc7",
   "metadata": {
    "ExecuteTime": {
     "end_time": "2025-07-02T08:48:41.524986Z",
     "start_time": "2025-07-02T08:48:41.518960Z"
    }
   },
   "outputs": [
    {
     "data": {
      "text/plain": [
       "array([7098.87600394, 6028.87839993, 6309.3568552 , 6011.54114146])"
      ]
     },
     "execution_count": 141,
     "metadata": {},
     "output_type": "execute_result"
    }
   ],
   "source": [
    "np.sum(sales_revenue[:28].reshape(4, 7), axis=1)"
   ]
  }
 ],
 "metadata": {
  "kernelspec": {
   "display_name": "Python [conda env:base] *",
   "language": "python",
   "name": "conda-base-py"
  },
  "language_info": {
   "codemirror_mode": {
    "name": "ipython",
    "version": 3
   },
   "file_extension": ".py",
   "mimetype": "text/x-python",
   "name": "python",
   "nbconvert_exporter": "python",
   "pygments_lexer": "ipython3",
   "version": "3.13.5"
  }
 },
 "nbformat": 4,
 "nbformat_minor": 5
}
