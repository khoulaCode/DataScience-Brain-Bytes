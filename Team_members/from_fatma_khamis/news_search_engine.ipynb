{
 "cells": [
  {
   "cell_type": "code",
   "execution_count": 19,
   "id": "dc51f0e0",
   "metadata": {},
   "outputs": [],
   "source": [
    "import pandas as pd\n",
    "from sklearn.feature_extraction.text import TfidfVectorizer\n",
    "from sklearn.metrics.pairwise import cosine_similarity"
   ]
  },
  {
   "cell_type": "markdown",
   "id": "d9e83d51",
   "metadata": {},
   "source": [
    "## 1. Data Preprocessing"
   ]
  },
  {
   "cell_type": "code",
   "execution_count": 12,
   "id": "e8246769",
   "metadata": {},
   "outputs": [],
   "source": [
    "df = pd.read_json(\"News_Category_Dataset_v3.json\", lines=True)\n",
    "df = pd.DataFrame(df)\n",
    "categories = [\"POLITICS\", \"TRAVEL\", \"SPORTS\", \"HOME & LIVING\"]\n",
    "\n",
    "df = df[df['category'].isin(categories)]"
   ]
  },
  {
   "cell_type": "code",
   "execution_count": 13,
   "id": "11e4f5bc",
   "metadata": {},
   "outputs": [
    {
     "name": "stderr",
     "output_type": "stream",
     "text": [
      "C:\\Users\\bbuser\\AppData\\Local\\Temp\\ipykernel_23372\\3861801514.py:1: FutureWarning: DataFrameGroupBy.apply operated on the grouping columns. This behavior is deprecated, and in a future version of pandas the grouping columns will be excluded from the operation. Either pass `include_groups=False` to exclude the groupings or explicitly select the grouping columns after groupby to silence this warning.\n",
      "  df= df.groupby('category').apply(lambda x: x.sample(1000, random_state=42)).reset_index(drop=True)\n"
     ]
    }
   ],
   "source": [
    "df= df.groupby('category').apply(lambda x: x.sample(1000, random_state=42)).reset_index(drop=True)"
   ]
  },
  {
   "cell_type": "code",
   "execution_count": 14,
   "id": "debcf752",
   "metadata": {},
   "outputs": [],
   "source": [
    "df = df[['headline', 'category']]"
   ]
  },
  {
   "cell_type": "code",
   "execution_count": 15,
   "id": "0afa8842",
   "metadata": {},
   "outputs": [
    {
     "data": {
      "text/html": [
       "<div>\n",
       "<style scoped>\n",
       "    .dataframe tbody tr th:only-of-type {\n",
       "        vertical-align: middle;\n",
       "    }\n",
       "\n",
       "    .dataframe tbody tr th {\n",
       "        vertical-align: top;\n",
       "    }\n",
       "\n",
       "    .dataframe thead th {\n",
       "        text-align: right;\n",
       "    }\n",
       "</style>\n",
       "<table border=\"1\" class=\"dataframe\">\n",
       "  <thead>\n",
       "    <tr style=\"text-align: right;\">\n",
       "      <th></th>\n",
       "      <th>headline</th>\n",
       "      <th>category</th>\n",
       "    </tr>\n",
       "  </thead>\n",
       "  <tbody>\n",
       "    <tr>\n",
       "      <th>0</th>\n",
       "      <td>Busiest Shipping Day Of The Year Is Today, Ann...</td>\n",
       "      <td>HOME &amp; LIVING</td>\n",
       "    </tr>\n",
       "    <tr>\n",
       "      <th>1</th>\n",
       "      <td>What To Watch On Netflix That’s New This Week ...</td>\n",
       "      <td>HOME &amp; LIVING</td>\n",
       "    </tr>\n",
       "    <tr>\n",
       "      <th>2</th>\n",
       "      <td>Repurposing Idea Shows You How To Organize Hai...</td>\n",
       "      <td>HOME &amp; LIVING</td>\n",
       "    </tr>\n",
       "    <tr>\n",
       "      <th>3</th>\n",
       "      <td>Company Buys $8000 Horse Lamp By Front Design ...</td>\n",
       "      <td>HOME &amp; LIVING</td>\n",
       "    </tr>\n",
       "    <tr>\n",
       "      <th>4</th>\n",
       "      <td>Renovate for Rent</td>\n",
       "      <td>HOME &amp; LIVING</td>\n",
       "    </tr>\n",
       "    <tr>\n",
       "      <th>...</th>\n",
       "      <td>...</td>\n",
       "      <td>...</td>\n",
       "    </tr>\n",
       "    <tr>\n",
       "      <th>3995</th>\n",
       "      <td>The 7 Most Mysterious Stone-Carved Faces That ...</td>\n",
       "      <td>TRAVEL</td>\n",
       "    </tr>\n",
       "    <tr>\n",
       "      <th>3996</th>\n",
       "      <td>Tips for a Stress-Free Family Summer Vacation</td>\n",
       "      <td>TRAVEL</td>\n",
       "    </tr>\n",
       "    <tr>\n",
       "      <th>3997</th>\n",
       "      <td>These Are The Busiest Flight Routes In The World</td>\n",
       "      <td>TRAVEL</td>\n",
       "    </tr>\n",
       "    <tr>\n",
       "      <th>3998</th>\n",
       "      <td>This Is The Best, Most Underrated Travel Resource</td>\n",
       "      <td>TRAVEL</td>\n",
       "    </tr>\n",
       "    <tr>\n",
       "      <th>3999</th>\n",
       "      <td>Destination Daydream: 14 Thai Resorts to Ignit...</td>\n",
       "      <td>TRAVEL</td>\n",
       "    </tr>\n",
       "  </tbody>\n",
       "</table>\n",
       "<p>4000 rows × 2 columns</p>\n",
       "</div>"
      ],
      "text/plain": [
       "                                               headline       category\n",
       "0     Busiest Shipping Day Of The Year Is Today, Ann...  HOME & LIVING\n",
       "1     What To Watch On Netflix That’s New This Week ...  HOME & LIVING\n",
       "2     Repurposing Idea Shows You How To Organize Hai...  HOME & LIVING\n",
       "3     Company Buys $8000 Horse Lamp By Front Design ...  HOME & LIVING\n",
       "4                                     Renovate for Rent  HOME & LIVING\n",
       "...                                                 ...            ...\n",
       "3995  The 7 Most Mysterious Stone-Carved Faces That ...         TRAVEL\n",
       "3996      Tips for a Stress-Free Family Summer Vacation         TRAVEL\n",
       "3997   These Are The Busiest Flight Routes In The World         TRAVEL\n",
       "3998  This Is The Best, Most Underrated Travel Resource         TRAVEL\n",
       "3999  Destination Daydream: 14 Thai Resorts to Ignit...         TRAVEL\n",
       "\n",
       "[4000 rows x 2 columns]"
      ]
     },
     "execution_count": 15,
     "metadata": {},
     "output_type": "execute_result"
    }
   ],
   "source": [
    "df"
   ]
  },
  {
   "cell_type": "markdown",
   "id": "42105bb3",
   "metadata": {},
   "source": [
    "## 2. Vectorization"
   ]
  },
  {
   "cell_type": "code",
   "execution_count": 16,
   "id": "80708a3c",
   "metadata": {},
   "outputs": [],
   "source": [
    "vectorizer = TfidfVectorizer()\n",
    "tfidf = vectorizer.fit_transform(df['headline'])"
   ]
  },
  {
   "cell_type": "markdown",
   "id": "4bd010b2",
   "metadata": {},
   "source": [
    "## 3. Search Implementation"
   ]
  },
  {
   "cell_type": "code",
   "execution_count": 23,
   "id": "2e4b1193",
   "metadata": {},
   "outputs": [],
   "source": [
    "def search_query(query):\n",
    "    vectorizing_query = vectorizer.transform([query])\n",
    "    similarity = cosine_similarity(vectorizing_query, tfidf).flatten()\n",
    "    top_result = similarity.argsort()[-10:][::-1]\n",
    "    final_result = df.iloc[top_result]\n",
    "    final_result['similarity_score'] = similarity[top_result]\n",
    "\n",
    "    return final_result.sort_values(by='similarity_score', ascending=False)"
   ]
  },
  {
   "cell_type": "markdown",
   "id": "5405ff2e",
   "metadata": {},
   "source": [
    "## 4. User Experience"
   ]
  },
  {
   "cell_type": "code",
   "execution_count": 28,
   "id": "fbabdc9c",
   "metadata": {},
   "outputs": [
    {
     "name": "stdout",
     "output_type": "stream",
     "text": [
      "                                              headline       category  \\\n",
      "1    What To Watch On Netflix That’s New This Week ...  HOME & LIVING   \n",
      "105  What To Watch On Netflix That’s New This Week ...  HOME & LIVING   \n",
      "909  What To Watch On Netflix That’s New This Week ...  HOME & LIVING   \n",
      "138  What To Watch On Netflix That’s New This Week ...  HOME & LIVING   \n",
      "373  What To Watch On Netflix That’s New This Week ...  HOME & LIVING   \n",
      "851    The Best Shows To Watch On Netflix In July 2020  HOME & LIVING   \n",
      "595  Here’s What Is Arriving On And Leaving Netflix...  HOME & LIVING   \n",
      "337  The 10 Most Popular Shows On Netflix Right Now...  HOME & LIVING   \n",
      "677  The 10 Most Popular Movies On Netflix Right No...  HOME & LIVING   \n",
      "957  The Most Popular Shows On Netflix Right Now Be...  HOME & LIVING   \n",
      "\n",
      "     similarity_score  \n",
      "1            0.619403  \n",
      "105          0.604480  \n",
      "909          0.578482  \n",
      "138          0.566096  \n",
      "373          0.557950  \n",
      "851          0.519476  \n",
      "595          0.367667  \n",
      "337          0.283739  \n",
      "677          0.281146  \n",
      "957          0.273148  \n"
     ]
    },
    {
     "name": "stderr",
     "output_type": "stream",
     "text": [
      "C:\\Users\\bbuser\\AppData\\Local\\Temp\\ipykernel_23372\\4144774753.py:6: SettingWithCopyWarning: \n",
      "A value is trying to be set on a copy of a slice from a DataFrame.\n",
      "Try using .loc[row_indexer,col_indexer] = value instead\n",
      "\n",
      "See the caveats in the documentation: https://pandas.pydata.org/pandas-docs/stable/user_guide/indexing.html#returning-a-view-versus-a-copy\n",
      "  final_result['similarity_score'] = similarity[top_result]\n"
     ]
    }
   ],
   "source": [
    "query = input(\"Enter a query to srach: \")\n",
    "results = search_query(query)\n",
    "print(results[['headline', 'category', 'similarity_score']])"
   ]
  }
 ],
 "metadata": {
  "kernelspec": {
   "display_name": "Python 3",
   "language": "python",
   "name": "python3"
  },
  "language_info": {
   "codemirror_mode": {
    "name": "ipython",
    "version": 3
   },
   "file_extension": ".py",
   "mimetype": "text/x-python",
   "name": "python",
   "nbconvert_exporter": "python",
   "pygments_lexer": "ipython3",
   "version": "3.13.3"
  }
 },
 "nbformat": 4,
 "nbformat_minor": 5
}
