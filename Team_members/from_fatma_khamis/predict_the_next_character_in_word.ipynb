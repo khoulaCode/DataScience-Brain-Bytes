{
  "cells": [
    {
      "cell_type": "code",
      "execution_count": 4,
      "id": "bd111ea5",
      "metadata": {
        "id": "bd111ea5"
      },
      "outputs": [],
      "source": [
        "import numpy as np\n",
        "import tensorflow as tf\n",
        "from tensorflow.keras.models import Sequential\n",
        "from tensorflow.keras.layers import Embedding, SimpleRNN, LSTM, Dense\n",
        "import matplotlib.pyplot as plt\n",
        "import random\n",
        "\n",
        "# For reproducibility\n",
        "np.random.seed(42)\n",
        "tf.random.set_seed(42)"
      ]
    },
    {
      "cell_type": "code",
      "execution_count": 5,
      "id": "eb2c3c73",
      "metadata": {
        "colab": {
          "base_uri": "https://localhost:8080/"
        },
        "id": "eb2c3c73",
        "outputId": "3055fae8-7b0c-400b-e277-c2eefaedeb9d"
      },
      "outputs": [
        {
          "output_type": "stream",
          "name": "stdout",
          "text": [
            "Length of dataset: 20,455,694 characters\n",
            "\n",
            "Sample text:\n",
            "\n",
            "the happy prince.\n",
            "high above the city, on a tall column, stood the statue of the happy prince.  he was gilded all over with thin leaves of fine gold, for eyes he had two bright sapphires, and a large red ruby glowed on his sword-hilt.\n",
            "he was very much admired indeed.  “he is as beautiful as a weathercock,” remarked one of the town councillors who wished to gain a reputation for having artistic tastes; “only not quite so useful,” he added, fearing lest people should think him unpractical, which h\n"
          ]
        }
      ],
      "source": [
        "with open(\"cleaned_merged_fairy_tales_without_eos.txt\", \"r\", encoding=\"utf-8\") as f:\n",
        "    text = f.read().lower()\n",
        "\n",
        "print(f\"Length of dataset: {len(text):,} characters\")\n",
        "print(\"\\nSample text:\\n\")\n",
        "print(text[:500])\n"
      ]
    },
    {
      "cell_type": "code",
      "execution_count": 6,
      "id": "3f569c7f",
      "metadata": {
        "colab": {
          "base_uri": "https://localhost:8080/"
        },
        "id": "3f569c7f",
        "outputId": "0568ef9b-6e61-48dc-abb0-9f1b0423766f"
      },
      "outputs": [
        {
          "output_type": "stream",
          "name": "stdout",
          "text": [
            "Vocabulary size: 88\n",
            "Example mapping: [('\\n', 0), (' ', 1), ('!', 2), ('\"', 3), ('$', 4), ('&', 5), (\"'\", 6), ('(', 7), (')', 8), ('*', 9)]\n"
          ]
        }
      ],
      "source": [
        "vocab = sorted(set(text))\n",
        "vocab_size = len(vocab)\n",
        "\n",
        "char2idx = {c: i for i, c in enumerate(vocab)}\n",
        "idx2char = np.array(vocab)\n",
        "\n",
        "# Convert all text to integer IDs\n",
        "text_as_int = np.array([char2idx[c] for c in text])\n",
        "\n",
        "print(f\"Vocabulary size: {vocab_size}\")\n",
        "print(f\"Example mapping: {list(char2idx.items())[:10]}\")\n"
      ]
    },
    {
      "cell_type": "code",
      "execution_count": 7,
      "id": "2da94f59",
      "metadata": {
        "colab": {
          "base_uri": "https://localhost:8080/"
        },
        "id": "2da94f59",
        "outputId": "ec10e9de-f4b7-4f59-dc64-d8a3304edeec"
      },
      "outputs": [
        {
          "output_type": "stream",
          "name": "stdout",
          "text": [
            "Number of sequences: 6,818,552\n",
            "Input shape: (6818552, 40), Target shape: (6818552,)\n"
          ]
        }
      ],
      "source": [
        "seq_length = 40  # number of characters per sequence\n",
        "step = 3         # stride between sequences\n",
        "\n",
        "inputs = []\n",
        "targets = []\n",
        "\n",
        "for i in range(0, len(text_as_int) - seq_length, step):\n",
        "    inputs.append(text_as_int[i:i + seq_length])\n",
        "    targets.append(text_as_int[i + seq_length])\n",
        "\n",
        "x = np.array(inputs, dtype=np.int32)\n",
        "y = np.array(targets, dtype=np.int32)\n",
        "\n",
        "print(f\"Number of sequences: {x.shape[0]:,}\")\n",
        "print(f\"Input shape: {x.shape}, Target shape: {y.shape}\")\n"
      ]
    },
    {
      "cell_type": "code",
      "execution_count": 8,
      "id": "60aa07e7",
      "metadata": {
        "id": "60aa07e7"
      },
      "outputs": [],
      "source": [
        "# You can uncomment this line if training takes too long.\n",
        "# x = x[:100000]\n",
        "# y = y[:100000]\n"
      ]
    },
    {
      "cell_type": "code",
      "execution_count": 9,
      "id": "7cdfcc0d",
      "metadata": {
        "colab": {
          "base_uri": "https://localhost:8080/",
          "height": 280
        },
        "id": "7cdfcc0d",
        "outputId": "4bb39e91-8ed3-4e78-d845-d2289e9bb8e4"
      },
      "outputs": [
        {
          "output_type": "stream",
          "name": "stderr",
          "text": [
            "/usr/local/lib/python3.12/dist-packages/keras/src/layers/core/embedding.py:97: UserWarning: Argument `input_length` is deprecated. Just remove it.\n",
            "  warnings.warn(\n"
          ]
        },
        {
          "output_type": "display_data",
          "data": {
            "text/plain": [
              "\u001b[1mModel: \"sequential\"\u001b[0m\n"
            ],
            "text/html": [
              "<pre style=\"white-space:pre;overflow-x:auto;line-height:normal;font-family:Menlo,'DejaVu Sans Mono',consolas,'Courier New',monospace\"><span style=\"font-weight: bold\">Model: \"sequential\"</span>\n",
              "</pre>\n"
            ]
          },
          "metadata": {}
        },
        {
          "output_type": "display_data",
          "data": {
            "text/plain": [
              "┏━━━━━━━━━━━━━━━━━━━━━━━━━━━━━━━━━┳━━━━━━━━━━━━━━━━━━━━━━━━┳━━━━━━━━━━━━━━━┓\n",
              "┃\u001b[1m \u001b[0m\u001b[1mLayer (type)                   \u001b[0m\u001b[1m \u001b[0m┃\u001b[1m \u001b[0m\u001b[1mOutput Shape          \u001b[0m\u001b[1m \u001b[0m┃\u001b[1m \u001b[0m\u001b[1m      Param #\u001b[0m\u001b[1m \u001b[0m┃\n",
              "┡━━━━━━━━━━━━━━━━━━━━━━━━━━━━━━━━━╇━━━━━━━━━━━━━━━━━━━━━━━━╇━━━━━━━━━━━━━━━┩\n",
              "│ embedding (\u001b[38;5;33mEmbedding\u001b[0m)           │ ?                      │   \u001b[38;5;34m0\u001b[0m (unbuilt) │\n",
              "├─────────────────────────────────┼────────────────────────┼───────────────┤\n",
              "│ simple_rnn (\u001b[38;5;33mSimpleRNN\u001b[0m)          │ ?                      │   \u001b[38;5;34m0\u001b[0m (unbuilt) │\n",
              "├─────────────────────────────────┼────────────────────────┼───────────────┤\n",
              "│ dense (\u001b[38;5;33mDense\u001b[0m)                   │ ?                      │   \u001b[38;5;34m0\u001b[0m (unbuilt) │\n",
              "└─────────────────────────────────┴────────────────────────┴───────────────┘\n"
            ],
            "text/html": [
              "<pre style=\"white-space:pre;overflow-x:auto;line-height:normal;font-family:Menlo,'DejaVu Sans Mono',consolas,'Courier New',monospace\">┏━━━━━━━━━━━━━━━━━━━━━━━━━━━━━━━━━┳━━━━━━━━━━━━━━━━━━━━━━━━┳━━━━━━━━━━━━━━━┓\n",
              "┃<span style=\"font-weight: bold\"> Layer (type)                    </span>┃<span style=\"font-weight: bold\"> Output Shape           </span>┃<span style=\"font-weight: bold\">       Param # </span>┃\n",
              "┡━━━━━━━━━━━━━━━━━━━━━━━━━━━━━━━━━╇━━━━━━━━━━━━━━━━━━━━━━━━╇━━━━━━━━━━━━━━━┩\n",
              "│ embedding (<span style=\"color: #0087ff; text-decoration-color: #0087ff\">Embedding</span>)           │ ?                      │   <span style=\"color: #00af00; text-decoration-color: #00af00\">0</span> (unbuilt) │\n",
              "├─────────────────────────────────┼────────────────────────┼───────────────┤\n",
              "│ simple_rnn (<span style=\"color: #0087ff; text-decoration-color: #0087ff\">SimpleRNN</span>)          │ ?                      │   <span style=\"color: #00af00; text-decoration-color: #00af00\">0</span> (unbuilt) │\n",
              "├─────────────────────────────────┼────────────────────────┼───────────────┤\n",
              "│ dense (<span style=\"color: #0087ff; text-decoration-color: #0087ff\">Dense</span>)                   │ ?                      │   <span style=\"color: #00af00; text-decoration-color: #00af00\">0</span> (unbuilt) │\n",
              "└─────────────────────────────────┴────────────────────────┴───────────────┘\n",
              "</pre>\n"
            ]
          },
          "metadata": {}
        },
        {
          "output_type": "display_data",
          "data": {
            "text/plain": [
              "\u001b[1m Total params: \u001b[0m\u001b[38;5;34m0\u001b[0m (0.00 B)\n"
            ],
            "text/html": [
              "<pre style=\"white-space:pre;overflow-x:auto;line-height:normal;font-family:Menlo,'DejaVu Sans Mono',consolas,'Courier New',monospace\"><span style=\"font-weight: bold\"> Total params: </span><span style=\"color: #00af00; text-decoration-color: #00af00\">0</span> (0.00 B)\n",
              "</pre>\n"
            ]
          },
          "metadata": {}
        },
        {
          "output_type": "display_data",
          "data": {
            "text/plain": [
              "\u001b[1m Trainable params: \u001b[0m\u001b[38;5;34m0\u001b[0m (0.00 B)\n"
            ],
            "text/html": [
              "<pre style=\"white-space:pre;overflow-x:auto;line-height:normal;font-family:Menlo,'DejaVu Sans Mono',consolas,'Courier New',monospace\"><span style=\"font-weight: bold\"> Trainable params: </span><span style=\"color: #00af00; text-decoration-color: #00af00\">0</span> (0.00 B)\n",
              "</pre>\n"
            ]
          },
          "metadata": {}
        },
        {
          "output_type": "display_data",
          "data": {
            "text/plain": [
              "\u001b[1m Non-trainable params: \u001b[0m\u001b[38;5;34m0\u001b[0m (0.00 B)\n"
            ],
            "text/html": [
              "<pre style=\"white-space:pre;overflow-x:auto;line-height:normal;font-family:Menlo,'DejaVu Sans Mono',consolas,'Courier New',monospace\"><span style=\"font-weight: bold\"> Non-trainable params: </span><span style=\"color: #00af00; text-decoration-color: #00af00\">0</span> (0.00 B)\n",
              "</pre>\n"
            ]
          },
          "metadata": {}
        }
      ],
      "source": [
        "embedding_dim = 64\n",
        "\n",
        "model_rnn = Sequential([\n",
        "    Embedding(input_dim=vocab_size, output_dim=embedding_dim, input_length=seq_length),\n",
        "    SimpleRNN(128),\n",
        "    Dense(vocab_size, activation='softmax')\n",
        "])\n",
        "\n",
        "model_rnn.compile(loss='sparse_categorical_crossentropy', optimizer='rmsprop')\n",
        "model_rnn.summary()\n"
      ]
    },
    {
      "cell_type": "code",
      "execution_count": 10,
      "id": "4dc330b5",
      "metadata": {
        "colab": {
          "base_uri": "https://localhost:8080/"
        },
        "id": "4dc330b5",
        "outputId": "5480b6dd-3301-406c-8863-86a6ce511c7b"
      },
      "outputs": [
        {
          "output_type": "stream",
          "name": "stdout",
          "text": [
            "Epoch 1/10\n",
            "\u001b[1m53270/53270\u001b[0m \u001b[32m━━━━━━━━━━━━━━━━━━━━\u001b[0m\u001b[37m\u001b[0m \u001b[1m365s\u001b[0m 7ms/step - loss: 1.7980\n",
            "Epoch 2/10\n",
            "\u001b[1m53270/53270\u001b[0m \u001b[32m━━━━━━━━━━━━━━━━━━━━\u001b[0m\u001b[37m\u001b[0m \u001b[1m374s\u001b[0m 7ms/step - loss: 1.5532\n",
            "Epoch 3/10\n",
            "\u001b[1m53270/53270\u001b[0m \u001b[32m━━━━━━━━━━━━━━━━━━━━\u001b[0m\u001b[37m\u001b[0m \u001b[1m357s\u001b[0m 7ms/step - loss: 1.5326\n",
            "Epoch 4/10\n",
            "\u001b[1m53270/53270\u001b[0m \u001b[32m━━━━━━━━━━━━━━━━━━━━\u001b[0m\u001b[37m\u001b[0m \u001b[1m355s\u001b[0m 7ms/step - loss: 1.5246\n",
            "Epoch 5/10\n",
            "\u001b[1m53270/53270\u001b[0m \u001b[32m━━━━━━━━━━━━━━━━━━━━\u001b[0m\u001b[37m\u001b[0m \u001b[1m351s\u001b[0m 7ms/step - loss: 1.5204\n",
            "Epoch 6/10\n",
            "\u001b[1m53270/53270\u001b[0m \u001b[32m━━━━━━━━━━━━━━━━━━━━\u001b[0m\u001b[37m\u001b[0m \u001b[1m350s\u001b[0m 7ms/step - loss: 1.5177\n",
            "Epoch 7/10\n",
            "\u001b[1m53270/53270\u001b[0m \u001b[32m━━━━━━━━━━━━━━━━━━━━\u001b[0m\u001b[37m\u001b[0m \u001b[1m349s\u001b[0m 7ms/step - loss: 1.5169\n",
            "Epoch 8/10\n",
            "\u001b[1m53270/53270\u001b[0m \u001b[32m━━━━━━━━━━━━━━━━━━━━\u001b[0m\u001b[37m\u001b[0m \u001b[1m344s\u001b[0m 6ms/step - loss: 1.5160\n",
            "Epoch 9/10\n",
            "\u001b[1m53270/53270\u001b[0m \u001b[32m━━━━━━━━━━━━━━━━━━━━\u001b[0m\u001b[37m\u001b[0m \u001b[1m342s\u001b[0m 6ms/step - loss: 1.5165\n",
            "Epoch 10/10\n",
            "\u001b[1m53270/53270\u001b[0m \u001b[32m━━━━━━━━━━━━━━━━━━━━\u001b[0m\u001b[37m\u001b[0m \u001b[1m341s\u001b[0m 6ms/step - loss: 1.5171\n"
          ]
        }
      ],
      "source": [
        "history_rnn = model_rnn.fit(\n",
        "    x, y,\n",
        "    batch_size=128,\n",
        "    epochs=10,\n",
        "    verbose=1\n",
        ")\n"
      ]
    },
    {
      "cell_type": "code",
      "execution_count": 11,
      "id": "d6c607a1",
      "metadata": {
        "colab": {
          "base_uri": "https://localhost:8080/",
          "height": 225
        },
        "id": "d6c607a1",
        "outputId": "d664b223-368c-42f6-c6f6-f1e104ce902f"
      },
      "outputs": [
        {
          "output_type": "display_data",
          "data": {
            "text/plain": [
              "\u001b[1mModel: \"sequential_1\"\u001b[0m\n"
            ],
            "text/html": [
              "<pre style=\"white-space:pre;overflow-x:auto;line-height:normal;font-family:Menlo,'DejaVu Sans Mono',consolas,'Courier New',monospace\"><span style=\"font-weight: bold\">Model: \"sequential_1\"</span>\n",
              "</pre>\n"
            ]
          },
          "metadata": {}
        },
        {
          "output_type": "display_data",
          "data": {
            "text/plain": [
              "┏━━━━━━━━━━━━━━━━━━━━━━━━━━━━━━━━━┳━━━━━━━━━━━━━━━━━━━━━━━━┳━━━━━━━━━━━━━━━┓\n",
              "┃\u001b[1m \u001b[0m\u001b[1mLayer (type)                   \u001b[0m\u001b[1m \u001b[0m┃\u001b[1m \u001b[0m\u001b[1mOutput Shape          \u001b[0m\u001b[1m \u001b[0m┃\u001b[1m \u001b[0m\u001b[1m      Param #\u001b[0m\u001b[1m \u001b[0m┃\n",
              "┡━━━━━━━━━━━━━━━━━━━━━━━━━━━━━━━━━╇━━━━━━━━━━━━━━━━━━━━━━━━╇━━━━━━━━━━━━━━━┩\n",
              "│ embedding_1 (\u001b[38;5;33mEmbedding\u001b[0m)         │ ?                      │   \u001b[38;5;34m0\u001b[0m (unbuilt) │\n",
              "├─────────────────────────────────┼────────────────────────┼───────────────┤\n",
              "│ lstm (\u001b[38;5;33mLSTM\u001b[0m)                     │ ?                      │   \u001b[38;5;34m0\u001b[0m (unbuilt) │\n",
              "├─────────────────────────────────┼────────────────────────┼───────────────┤\n",
              "│ dense_1 (\u001b[38;5;33mDense\u001b[0m)                 │ ?                      │   \u001b[38;5;34m0\u001b[0m (unbuilt) │\n",
              "└─────────────────────────────────┴────────────────────────┴───────────────┘\n"
            ],
            "text/html": [
              "<pre style=\"white-space:pre;overflow-x:auto;line-height:normal;font-family:Menlo,'DejaVu Sans Mono',consolas,'Courier New',monospace\">┏━━━━━━━━━━━━━━━━━━━━━━━━━━━━━━━━━┳━━━━━━━━━━━━━━━━━━━━━━━━┳━━━━━━━━━━━━━━━┓\n",
              "┃<span style=\"font-weight: bold\"> Layer (type)                    </span>┃<span style=\"font-weight: bold\"> Output Shape           </span>┃<span style=\"font-weight: bold\">       Param # </span>┃\n",
              "┡━━━━━━━━━━━━━━━━━━━━━━━━━━━━━━━━━╇━━━━━━━━━━━━━━━━━━━━━━━━╇━━━━━━━━━━━━━━━┩\n",
              "│ embedding_1 (<span style=\"color: #0087ff; text-decoration-color: #0087ff\">Embedding</span>)         │ ?                      │   <span style=\"color: #00af00; text-decoration-color: #00af00\">0</span> (unbuilt) │\n",
              "├─────────────────────────────────┼────────────────────────┼───────────────┤\n",
              "│ lstm (<span style=\"color: #0087ff; text-decoration-color: #0087ff\">LSTM</span>)                     │ ?                      │   <span style=\"color: #00af00; text-decoration-color: #00af00\">0</span> (unbuilt) │\n",
              "├─────────────────────────────────┼────────────────────────┼───────────────┤\n",
              "│ dense_1 (<span style=\"color: #0087ff; text-decoration-color: #0087ff\">Dense</span>)                 │ ?                      │   <span style=\"color: #00af00; text-decoration-color: #00af00\">0</span> (unbuilt) │\n",
              "└─────────────────────────────────┴────────────────────────┴───────────────┘\n",
              "</pre>\n"
            ]
          },
          "metadata": {}
        },
        {
          "output_type": "display_data",
          "data": {
            "text/plain": [
              "\u001b[1m Total params: \u001b[0m\u001b[38;5;34m0\u001b[0m (0.00 B)\n"
            ],
            "text/html": [
              "<pre style=\"white-space:pre;overflow-x:auto;line-height:normal;font-family:Menlo,'DejaVu Sans Mono',consolas,'Courier New',monospace\"><span style=\"font-weight: bold\"> Total params: </span><span style=\"color: #00af00; text-decoration-color: #00af00\">0</span> (0.00 B)\n",
              "</pre>\n"
            ]
          },
          "metadata": {}
        },
        {
          "output_type": "display_data",
          "data": {
            "text/plain": [
              "\u001b[1m Trainable params: \u001b[0m\u001b[38;5;34m0\u001b[0m (0.00 B)\n"
            ],
            "text/html": [
              "<pre style=\"white-space:pre;overflow-x:auto;line-height:normal;font-family:Menlo,'DejaVu Sans Mono',consolas,'Courier New',monospace\"><span style=\"font-weight: bold\"> Trainable params: </span><span style=\"color: #00af00; text-decoration-color: #00af00\">0</span> (0.00 B)\n",
              "</pre>\n"
            ]
          },
          "metadata": {}
        },
        {
          "output_type": "display_data",
          "data": {
            "text/plain": [
              "\u001b[1m Non-trainable params: \u001b[0m\u001b[38;5;34m0\u001b[0m (0.00 B)\n"
            ],
            "text/html": [
              "<pre style=\"white-space:pre;overflow-x:auto;line-height:normal;font-family:Menlo,'DejaVu Sans Mono',consolas,'Courier New',monospace\"><span style=\"font-weight: bold\"> Non-trainable params: </span><span style=\"color: #00af00; text-decoration-color: #00af00\">0</span> (0.00 B)\n",
              "</pre>\n"
            ]
          },
          "metadata": {}
        }
      ],
      "source": [
        "model_lstm = Sequential([\n",
        "    Embedding(input_dim=vocab_size, output_dim=embedding_dim, input_length=seq_length),\n",
        "    LSTM(128),\n",
        "    Dense(vocab_size, activation='softmax')\n",
        "])\n",
        "\n",
        "model_lstm.compile(loss='sparse_categorical_crossentropy', optimizer='rmsprop')\n",
        "model_lstm.summary()\n"
      ]
    },
    {
      "cell_type": "code",
      "execution_count": 12,
      "id": "7c9465a8",
      "metadata": {
        "colab": {
          "base_uri": "https://localhost:8080/"
        },
        "id": "7c9465a8",
        "outputId": "e62e3668-c2d3-4d21-ae39-74f2eaae65b8"
      },
      "outputs": [
        {
          "output_type": "stream",
          "name": "stdout",
          "text": [
            "Epoch 1/10\n",
            "\u001b[1m53270/53270\u001b[0m \u001b[32m━━━━━━━━━━━━━━━━━━━━\u001b[0m\u001b[37m\u001b[0m \u001b[1m319s\u001b[0m 6ms/step - loss: 1.8833\n",
            "Epoch 2/10\n",
            "\u001b[1m53270/53270\u001b[0m \u001b[32m━━━━━━━━━━━━━━━━━━━━\u001b[0m\u001b[37m\u001b[0m \u001b[1m314s\u001b[0m 6ms/step - loss: 1.5057\n",
            "Epoch 3/10\n",
            "\u001b[1m53270/53270\u001b[0m \u001b[32m━━━━━━━━━━━━━━━━━━━━\u001b[0m\u001b[37m\u001b[0m \u001b[1m314s\u001b[0m 6ms/step - loss: 1.4598\n",
            "Epoch 4/10\n",
            "\u001b[1m53270/53270\u001b[0m \u001b[32m━━━━━━━━━━━━━━━━━━━━\u001b[0m\u001b[37m\u001b[0m \u001b[1m317s\u001b[0m 6ms/step - loss: 1.4467\n",
            "Epoch 5/10\n",
            "\u001b[1m53270/53270\u001b[0m \u001b[32m━━━━━━━━━━━━━━━━━━━━\u001b[0m\u001b[37m\u001b[0m \u001b[1m316s\u001b[0m 6ms/step - loss: 1.4454\n",
            "Epoch 6/10\n",
            "\u001b[1m53270/53270\u001b[0m \u001b[32m━━━━━━━━━━━━━━━━━━━━\u001b[0m\u001b[37m\u001b[0m \u001b[1m314s\u001b[0m 6ms/step - loss: 1.4486\n",
            "Epoch 7/10\n",
            "\u001b[1m53270/53270\u001b[0m \u001b[32m━━━━━━━━━━━━━━━━━━━━\u001b[0m\u001b[37m\u001b[0m \u001b[1m315s\u001b[0m 6ms/step - loss: 1.4549\n",
            "Epoch 8/10\n",
            "\u001b[1m53270/53270\u001b[0m \u001b[32m━━━━━━━━━━━━━━━━━━━━\u001b[0m\u001b[37m\u001b[0m \u001b[1m317s\u001b[0m 6ms/step - loss: 1.4747\n",
            "Epoch 9/10\n",
            "\u001b[1m53270/53270\u001b[0m \u001b[32m━━━━━━━━━━━━━━━━━━━━\u001b[0m\u001b[37m\u001b[0m \u001b[1m316s\u001b[0m 6ms/step - loss: 7.0397\n",
            "Epoch 10/10\n",
            "\u001b[1m53270/53270\u001b[0m \u001b[32m━━━━━━━━━━━━━━━━━━━━\u001b[0m\u001b[37m\u001b[0m \u001b[1m318s\u001b[0m 6ms/step - loss: 3.7637\n"
          ]
        }
      ],
      "source": [
        "history_lstm = model_lstm.fit(\n",
        "    x, y,\n",
        "    batch_size=128,\n",
        "    epochs=10,\n",
        "    verbose=1\n",
        ")\n"
      ]
    },
    {
      "cell_type": "code",
      "execution_count": 13,
      "id": "fea75820",
      "metadata": {
        "colab": {
          "base_uri": "https://localhost:8080/",
          "height": 487
        },
        "id": "fea75820",
        "outputId": "b89334d5-2666-4792-cf24-13420c3f7f24"
      },
      "outputs": [
        {
          "output_type": "display_data",
          "data": {
            "text/plain": [
              "<Figure size 800x500 with 1 Axes>"
            ],
            "image/png": "[encoded data removed]"
          },
          "metadata": {}
        }
      ],
      "source": [
        "plt.figure(figsize=(8,5))\n",
        "plt.plot(history_rnn.history['loss'], label='RNN Loss')\n",
        "plt.plot(history_lstm.history['loss'], label='LSTM Loss')\n",
        "plt.title('Training Loss Comparison')\n",
        "plt.xlabel('Epoch')\n",
        "plt.ylabel('Loss')\n",
        "plt.legend()\n",
        "plt.show()\n"
      ]
    },
    {
      "cell_type": "code",
      "execution_count": 14,
      "id": "bfe1f250",
      "metadata": {
        "id": "bfe1f250"
      },
      "outputs": [],
      "source": [
        "def generate_text(model, seed_text, gen_length=300, temperature=1.0):\n",
        "    input_eval = [char2idx[s] for s in seed_text]\n",
        "    generated = seed_text\n",
        "\n",
        "    for _ in range(gen_length):\n",
        "        input_array = np.expand_dims(input_eval[-seq_length:], 0)\n",
        "        preds = model.predict(input_array, verbose=0)[0]\n",
        "\n",
        "        # Temperature sampling for diversity\n",
        "        preds = np.log(preds + 1e-8) / temperature\n",
        "        exp_preds = np.exp(preds)\n",
        "        preds = exp_preds / np.sum(exp_preds)\n",
        "        next_idx = np.random.choice(range(vocab_size), p=preds)\n",
        "        next_char = idx2char[next_idx]\n",
        "\n",
        "        generated += next_char\n",
        "        input_eval.append(next_idx)\n",
        "\n",
        "    return generated\n"
      ]
    },
    {
      "cell_type": "code",
      "execution_count": 15,
      "id": "75349242",
      "metadata": {
        "colab": {
          "base_uri": "https://localhost:8080/"
        },
        "id": "75349242",
        "outputId": "40787ca0-e372-464f-c106-a509b8edc44c"
      },
      "outputs": [
        {
          "output_type": "stream",
          "name": "stdout",
          "text": [
            "Seed text:\n",
            " the happy prince.\n",
            "high above the city, o\n",
            "\n",
            "--- Generated by RNN ---\n",
            "\n",
            "the happy prince.\n",
            "high above the city, only called with him paper.\n",
            "mr, and then he was nothing was going of at have the trease, where the back on it and the dress and take dishly work, and his jumped in the daughter retigest stood to here?\" and a name, and then did the spirebe of the witive that the water, and the string and of a sight of\n",
            "\n",
            "--- Generated by LSTM ---\n",
            "\n",
            "the happy prince.\n",
            "high above the city, of resulking at the first, he had a boy and little look of the little babies was and the stumblers to the up under the prince of in the ravingon trunk these and boy. he he was was one of a wooden he would never may-a kitches; but thrust the window she was in the captain of the white grain can his dai\n"
          ]
        }
      ],
      "source": [
        "seed = text[:seq_length]\n",
        "\n",
        "print(\"Seed text:\\n\", seed)\n",
        "print(\"\\n--- Generated by RNN ---\\n\")\n",
        "print(generate_text(model_rnn, seed, temperature=0.8))\n",
        "print(\"\\n--- Generated by LSTM ---\\n\")\n",
        "print(generate_text(model_lstm, seed, temperature=0.8))\n"
      ]
    },
    {
      "cell_type": "code",
      "execution_count": 16,
      "id": "d1dad08a",
      "metadata": {
        "colab": {
          "base_uri": "https://localhost:8080/"
        },
        "id": "d1dad08a",
        "outputId": "ace42fcd-16f2-4aa0-cd0e-b7826ced77da"
      },
      "outputs": [
        {
          "output_type": "stream",
          "name": "stdout",
          "text": [
            "\n",
            "✅ Experiment Summary:\n",
            "-----------------------\n",
            "• RNN and LSTM both learn to predict next characters.\n",
            "• LSTM typically achieves lower loss and generates more coherent text.\n",
            "• RNN struggles with long dependencies, producing repetitive or broken sequences.\n",
            "• Embedding + sparse targets kept memory low and training feasible.\n",
            "\n",
            "Next Ideas:\n",
            "-----------\n",
            "- Try GRU layer (tf.keras.layers.GRU)\n",
            "- Experiment with longer sequences (seq_length = 60)\n",
            "- Train for more epochs or add dropout to prevent overfitting\n",
            "\n"
          ]
        }
      ],
      "source": [
        "print(\"\"\"\n",
        "✅ Experiment Summary:\n",
        "-----------------------\n",
        "• RNN and LSTM both learn to predict next characters.\n",
        "• LSTM typically achieves lower loss and generates more coherent text.\n",
        "• RNN struggles with long dependencies, producing repetitive or broken sequences.\n",
        "• Embedding + sparse targets kept memory low and training feasible.\n",
        "\n",
        "Next Ideas:\n",
        "-----------\n",
        "- Try GRU layer (tf.keras.layers.GRU)\n",
        "- Experiment with longer sequences (seq_length = 60)\n",
        "- Train for more epochs or add dropout to prevent overfitting\n",
        "\"\"\")\n"
      ]
    }
  ],
  "metadata": {
    "kernelspec": {
      "display_name": "Python 3",
      "name": "python3"
    },
    "language_info": {
      "codemirror_mode": {
        "name": "ipython",
        "version": 3
      },
      "file_extension": ".py",
      "mimetype": "text/x-python",
      "name": "python",
      "nbconvert_exporter": "python",
      "pygments_lexer": "ipython3",
      "version": "3.13.3"
    },
    "colab": {
      "provenance": [],
      "gpuType": "T4"
    },
    "accelerator": "GPU"
  },
  "nbformat": 4,
  "nbformat_minor": 5
}