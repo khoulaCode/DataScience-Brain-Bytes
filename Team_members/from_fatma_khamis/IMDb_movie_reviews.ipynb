{
 "cells": [
  {
   "cell_type": "code",
   "execution_count": 64,
   "id": "14d84e8c",
   "metadata": {},
   "outputs": [],
   "source": [
    "import pandas as pd\n",
    "import os\n",
    "import re\n",
    "import string\n",
    "from nltk.corpus import stopwords\n",
    "from nltk.stem import WordNetLemmatizer\n",
    "from sklearn.feature_extraction.text import CountVectorizer\n",
    "from sklearn.naive_bayes import MultinomialNB\n",
    "from sklearn.metrics import accuracy_score, classification_report"
   ]
  },
  {
   "cell_type": "markdown",
   "id": "560fa81c",
   "metadata": {},
   "source": [
    "## 1. Data Loading"
   ]
  },
  {
   "cell_type": "code",
   "execution_count": 52,
   "id": "9160d0ab",
   "metadata": {},
   "outputs": [
    {
     "data": {
      "text/html": [
       "<div>\n",
       "<style scoped>\n",
       "    .dataframe tbody tr th:only-of-type {\n",
       "        vertical-align: middle;\n",
       "    }\n",
       "\n",
       "    .dataframe tbody tr th {\n",
       "        vertical-align: top;\n",
       "    }\n",
       "\n",
       "    .dataframe thead th {\n",
       "        text-align: right;\n",
       "    }\n",
       "</style>\n",
       "<table border=\"1\" class=\"dataframe\">\n",
       "  <thead>\n",
       "    <tr style=\"text-align: right;\">\n",
       "      <th></th>\n",
       "      <th>review</th>\n",
       "      <th>label</th>\n",
       "    </tr>\n",
       "  </thead>\n",
       "  <tbody>\n",
       "    <tr>\n",
       "      <th>0</th>\n",
       "      <td>Bromwell High is a cartoon comedy. It ran at t...</td>\n",
       "      <td>1</td>\n",
       "    </tr>\n",
       "    <tr>\n",
       "      <th>1</th>\n",
       "      <td>Homelessness (or Houselessness as George Carli...</td>\n",
       "      <td>1</td>\n",
       "    </tr>\n",
       "    <tr>\n",
       "      <th>2</th>\n",
       "      <td>Brilliant over-acting by Lesley Ann Warren. Be...</td>\n",
       "      <td>1</td>\n",
       "    </tr>\n",
       "    <tr>\n",
       "      <th>3</th>\n",
       "      <td>This is easily the most underrated film inn th...</td>\n",
       "      <td>1</td>\n",
       "    </tr>\n",
       "    <tr>\n",
       "      <th>4</th>\n",
       "      <td>This is not the typical Mel Brooks film. It wa...</td>\n",
       "      <td>1</td>\n",
       "    </tr>\n",
       "    <tr>\n",
       "      <th>...</th>\n",
       "      <td>...</td>\n",
       "      <td>...</td>\n",
       "    </tr>\n",
       "    <tr>\n",
       "      <th>24995</th>\n",
       "      <td>Towards the end of the movie, I felt it was to...</td>\n",
       "      <td>0</td>\n",
       "    </tr>\n",
       "    <tr>\n",
       "      <th>24996</th>\n",
       "      <td>This is the kind of movie that my enemies cont...</td>\n",
       "      <td>0</td>\n",
       "    </tr>\n",
       "    <tr>\n",
       "      <th>24997</th>\n",
       "      <td>I saw 'Descent' last night at the Stockholm Fi...</td>\n",
       "      <td>0</td>\n",
       "    </tr>\n",
       "    <tr>\n",
       "      <th>24998</th>\n",
       "      <td>Some films that you pick up for a pound turn o...</td>\n",
       "      <td>0</td>\n",
       "    </tr>\n",
       "    <tr>\n",
       "      <th>24999</th>\n",
       "      <td>This is one of the dumbest films, I've ever se...</td>\n",
       "      <td>0</td>\n",
       "    </tr>\n",
       "  </tbody>\n",
       "</table>\n",
       "<p>25000 rows × 2 columns</p>\n",
       "</div>"
      ],
      "text/plain": [
       "                                                  review  label\n",
       "0      Bromwell High is a cartoon comedy. It ran at t...      1\n",
       "1      Homelessness (or Houselessness as George Carli...      1\n",
       "2      Brilliant over-acting by Lesley Ann Warren. Be...      1\n",
       "3      This is easily the most underrated film inn th...      1\n",
       "4      This is not the typical Mel Brooks film. It wa...      1\n",
       "...                                                  ...    ...\n",
       "24995  Towards the end of the movie, I felt it was to...      0\n",
       "24996  This is the kind of movie that my enemies cont...      0\n",
       "24997  I saw 'Descent' last night at the Stockholm Fi...      0\n",
       "24998  Some films that you pick up for a pound turn o...      0\n",
       "24999  This is one of the dumbest films, I've ever se...      0\n",
       "\n",
       "[25000 rows x 2 columns]"
      ]
     },
     "execution_count": 52,
     "metadata": {},
     "output_type": "execute_result"
    }
   ],
   "source": [
    "review = []\n",
    "label = []\n",
    "positive_file = os.path.join(r\"aclImdb_v1/aclImdb/train\", 'pos')\n",
    "for i in os.listdir(positive_file):\n",
    "    with open(os.path.join(positive_file, i), 'r', encoding='utf-8') as file:\n",
    "        review.append(file.read())\n",
    "        label.append(1)\n",
    "\n",
    "negative_file = os.path.join(r\"aclImdb_v1/aclImdb/train\", 'neg')\n",
    "for file_name in os.listdir(negative_file):\n",
    "    with open(os.path.join(negative_file, file_name), 'r', encoding='utf-8') as file:\n",
    "        review.append(file.read())\n",
    "        label.append(0)\n",
    "train_data = pd.DataFrame({'review': review, 'label': label})\n",
    "train_data"
   ]
  },
  {
   "cell_type": "markdown",
   "id": "b5a31267",
   "metadata": {},
   "source": [
    "## 2. Text Cleaning Pipeline"
   ]
  },
  {
   "cell_type": "code",
   "execution_count": 55,
   "id": "8709e848",
   "metadata": {},
   "outputs": [],
   "source": [
    "def clean_review(text):\n",
    "    text = text.lower()\n",
    "    text = re.sub(r'<.*?>','', text)\n",
    "    text = re.sub(r'http\\S+|www\\S+|https\\S+|@\\S+','', text)\n",
    "    text = text.translate(str.maketrans('', '', string.punctuation))\n",
    "    stopword = stopwords.words('english')\n",
    "    words = text.split()\n",
    "    words = [word for word in words if word not in stopword]\n",
    "    lemmatizer = WordNetLemmatizer()\n",
    "    words = [lemmatizer.lemmatize(word) for word in words if len(word) > 2]\n",
    "    return ' '.join(words)"
   ]
  },
  {
   "cell_type": "markdown",
   "id": "1cfebf63",
   "metadata": {},
   "source": [
    "## 3. Apply Cleaning"
   ]
  },
  {
   "cell_type": "code",
   "execution_count": 56,
   "id": "4461b2ed",
   "metadata": {},
   "outputs": [],
   "source": [
    "train_data['cleaned_review'] = train_data['review'].apply(clean_review)"
   ]
  },
  {
   "cell_type": "code",
   "execution_count": 57,
   "id": "6df75264",
   "metadata": {},
   "outputs": [],
   "source": [
    "train_data.to_csv('cleaned_train_reviews.csv', index=False)"
   ]
  },
  {
   "cell_type": "markdown",
   "id": "e4d55876",
   "metadata": {},
   "source": [
    "## 4. Evaluation"
   ]
  },
  {
   "cell_type": "code",
   "execution_count": 59,
   "id": "3463a943",
   "metadata": {},
   "outputs": [
    {
     "name": "stdout",
     "output_type": "stream",
     "text": [
      "Raw: bromwell high is a cartoon comedy. it ran at the same time as some other programs about school life, such as \"teachers\". my 35 years in the teaching profession lead me to believe that bromwell high's satire is much closer to reality than is \"teachers\". the scramble to survive financially, the insightful students who can see right through their pathetic teachers' pomp, the pettiness of the whole situation, all remind me of the schools i knew and their students. when i saw the episode in which a student repeatedly tried to burn down the school, i immediately recalled ......... at .......... high. a classic line: inspector: i'm here to sack one of your teachers. student: welcome to bromwell high. i expect that many adults of my age think that bromwell high is far fetched. what a pity that it isn't!\n",
      "Cleaned: bromwell high cartoon comedy ran time program school life teacher year teaching profession lead believe bromwell high satire much closer reality teacher scramble survive financially insightful student see right pathetic teacher pomp pettiness whole situation remind school knew student saw episode student repeatedly tried burn school immediately recalled high classic line inspector sack one teacher student welcome bromwell high expect many adult age think bromwell high far fetched pity isnt\n",
      "\n",
      "Raw: homelessness (or houselessness as george carlin stated) has been an issue for years but never a plan to help those on the street that were once considered human who did everything from going to school, work, or vote for the matter. most people think of the homeless as just a lost cause while worrying about things such as racism, the war on iraq, pressuring kids to succeed, technology, the elections, inflation, or worrying if they'll be next to end up on the streets.<br /><br />but what if you were given a bet to live on the streets for a month without the luxuries you once had from a home, the entertainment sets, a bathroom, pictures on the wall, a computer, and everything you once treasure to see what it's like to be homeless? that is goddard bolt's lesson.<br /><br />mel brooks (who directs) who stars as bolt plays a rich man who has everything in the world until deciding to make a bet with a sissy rival (jeffery tambor) to see if he can live in the streets for thirty days without the luxuries; if bolt succeeds, he can do what he wants with a future project of making more buildings. the bet's on where bolt is thrown on the street with a bracelet on his leg to monitor his every move where he can't step off the sidewalk. he's given the nickname pepto by a vagrant after it's written on his forehead where bolt meets other characters including a woman by the name of molly (lesley ann warren) an ex-dancer who got divorce before losing her home, and her pals sailor (howard morris) and fumes (teddy wilson) who are already used to the streets. they're survivors. bolt isn't. he's not used to reaching mutual agreements like he once did when being rich where it's fight or flight, kill or be killed.<br /><br />while the love connection between molly and bolt wasn't necessary to plot, i found \"life stinks\" to be one of mel brooks' observant films where prior to being a comedy, it shows a tender side compared to his slapstick work such as blazing saddles, young frankenstein, or spaceballs for the matter, to show what it's like having something valuable before losing it the next day or on the other hand making a stupid bet like all rich people do when they don't know what to do with their money. maybe they should give it to the homeless instead of using it like monopoly money.<br /><br />or maybe this film will inspire you to help others.\n",
      "Cleaned: homelessness houselessness george carlin stated issue year never plan help street considered human everything going school work vote matter people think homeless lost cause worrying thing racism war iraq pressuring kid succeed technology election inflation worrying theyll next end streetsbut given bet live street month without luxury home entertainment set bathroom picture wall computer everything treasure see like homeless goddard bolt lessonmel brook directs star bolt play rich man everything world deciding make bet sissy rival jeffery tambor see live street thirty day without luxury bolt succeeds want future project making building bet bolt thrown street bracelet leg monitor every move cant step sidewalk he given nickname pepto vagrant written forehead bolt meet character including woman name molly lesley ann warren exdancer got divorce losing home pal sailor howard morris fume teddy wilson already used street theyre survivor bolt isnt he used reaching mutual agreement like rich fight flight kill killedwhile love connection molly bolt wasnt necessary plot found life stink one mel brook observant film prior comedy show tender side compared slapstick work blazing saddle young frankenstein spaceballs matter show like something valuable losing next day hand making stupid bet like rich people dont know money maybe give homeless instead using like monopoly moneyor maybe film inspire help others\n",
      "\n",
      "Raw: brilliant over-acting by lesley ann warren. best dramatic hobo lady i have ever seen, and love scenes in clothes warehouse are second to none. the corn on face is a classic, as good as anything in blazing saddles. the take on lawyers is also superb. after being accused of being a turncoat, selling out his boss, and being dishonest the lawyer of pepto bolt shrugs indifferently \"i'm a lawyer\" he says. three funny words. jeffrey tambor, a favorite from the later larry sanders show, is fantastic here too as a mad millionaire who wants to crush the ghetto. his character is more malevolent than usual. the hospital scene, and the scene where the homeless invade a demolition site, are all-time classics. look for the legs scene and the two big diggers fighting (one bleeds). this movie gets better each time i see it (which is quite often).\n",
      "Cleaned: brilliant overacting lesley ann warren best dramatic hobo lady ever seen love scene clothes warehouse second none corn face classic good anything blazing saddle take lawyer also superb accused turncoat selling bos dishonest lawyer pepto bolt shrug indifferently lawyer say three funny word jeffrey tambor favorite later larry sander show fantastic mad millionaire want crush ghetto character malevolent usual hospital scene scene homeless invade demolition site alltime classic look leg scene two big digger fighting one bleeds movie get better time see quite often\n",
      "\n",
      "Raw: this is easily the most underrated film inn the brooks cannon. sure, its flawed. it does not give a realistic view of homelessness (unlike, say, how citizen kane gave a realistic view of lounge singers, or titanic gave a realistic view of italians you idiots). many of the jokes fall flat. but still, this film is very lovable in a way many comedies are not, and to pull that off in a story about some of the most traditionally reviled members of society is truly impressive. its not the fisher king, but its not crap, either. my only complaint is that brooks should have cast someone else in the lead (i love mel as a director and writer, not so much as a lead).\n",
      "Cleaned: easily underrated film inn brook cannon sure flawed give realistic view homelessness unlike say citizen kane gave realistic view lounge singer titanic gave realistic view italian idiot many joke fall flat still film lovable way many comedy pull story traditionally reviled member society truly impressive fisher king crap either complaint brook cast someone else lead love mel director writer much lead\n",
      "\n",
      "Raw: this is not the typical mel brooks film. it was much less slapstick than most of his movies and actually had a plot that was followable. leslie ann warren made the movie, she is such a fantastic, under-rated actress. there were some moments that could have been fleshed out a bit more, and some scenes that could probably have been cut to make the room to do so, but all in all, this is worth the price to rent and see it. the acting was good overall, brooks himself did a good job without his characteristic speaking to directly to the audience. again, warren was the best actor in the movie, but \"fume\" and \"sailor\" both played their parts well.\n",
      "Cleaned: typical mel brook film much less slapstick movie actually plot followable leslie ann warren made movie fantastic underrated actress moment could fleshed bit scene could probably cut make room worth price rent see acting good overall brook good job without characteristic speaking directly audience warren best actor movie fume sailor played part well\n",
      "\n"
     ]
    }
   ],
   "source": [
    "for i in range(5):\n",
    "    print(f\"Raw: {train_data['review'].iloc[i]}\\nCleaned: {train_data['cleaned_review'].iloc[i]}\\n\")"
   ]
  },
  {
   "cell_type": "markdown",
   "id": "4672315a",
   "metadata": {},
   "source": [
    "## 5. Next Steps (Optional)"
   ]
  },
  {
   "cell_type": "code",
   "execution_count": 62,
   "id": "3e4a9bcc",
   "metadata": {},
   "outputs": [],
   "source": [
    "X_train = train_data['cleaned_review']\n",
    "y_train = train_data['label']"
   ]
  },
  {
   "cell_type": "code",
   "execution_count": 65,
   "id": "5153d0c5",
   "metadata": {},
   "outputs": [
    {
     "name": "stdout",
     "output_type": "stream",
     "text": [
      "Training Accuracy: 0.92676\n",
      "              precision    recall  f1-score   support\n",
      "\n",
      "           0       0.91      0.95      0.93     12500\n",
      "           1       0.94      0.91      0.93     12500\n",
      "\n",
      "    accuracy                           0.93     25000\n",
      "   macro avg       0.93      0.93      0.93     25000\n",
      "weighted avg       0.93      0.93      0.93     25000\n",
      "\n"
     ]
    }
   ],
   "source": [
    "vectorizer = CountVectorizer()\n",
    "X_train_vec = vectorizer.fit_transform(X_train)\n",
    "clf = MultinomialNB()\n",
    "clf.fit(X_train_vec, y_train)\n",
    "y_pred_train = clf.predict(X_train_vec)\n",
    "\n",
    "print(\"Training Accuracy:\", accuracy_score(y_train, y_pred_train))\n",
    "print(classification_report(y_train, y_pred_train))"
   ]
  }
 ],
 "metadata": {
  "kernelspec": {
   "display_name": "Python 3",
   "language": "python",
   "name": "python3"
  },
  "language_info": {
   "codemirror_mode": {
    "name": "ipython",
    "version": 3
   },
   "file_extension": ".py",
   "mimetype": "text/x-python",
   "name": "python",
   "nbconvert_exporter": "python",
   "pygments_lexer": "ipython3",
   "version": "3.13.3"
  }
 },
 "nbformat": 4,
 "nbformat_minor": 5
}
