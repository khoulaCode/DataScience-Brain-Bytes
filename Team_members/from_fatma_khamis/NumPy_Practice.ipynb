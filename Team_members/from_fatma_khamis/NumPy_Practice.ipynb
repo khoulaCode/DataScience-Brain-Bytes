{
 "cells": [
  {
   "metadata": {},
   "cell_type": "markdown",
   "source": "## Part 1: Array Creation and Properties",
   "id": "bd0cac45c1eb0457"
  },
  {
   "metadata": {
    "ExecuteTime": {
     "end_time": "2025-07-01T10:38:42.983366Z",
     "start_time": "2025-07-01T10:38:42.686691Z"
    }
   },
   "cell_type": "code",
   "source": "import numpy as np",
   "id": "80d397ce83d8053c",
   "outputs": [],
   "execution_count": 2
  },
  {
   "metadata": {},
   "cell_type": "markdown",
   "source": "1. Create a 1D array named arr1d with integers from 0 to 9.",
   "id": "89f233558a9b2990"
  },
  {
   "metadata": {
    "ExecuteTime": {
     "end_time": "2025-07-01T10:38:43.034642Z",
     "start_time": "2025-07-01T10:38:43.004227Z"
    }
   },
   "cell_type": "code",
   "source": [
    "arr1d = np.arange(10)\n",
    "arr1d"
   ],
   "id": "42e281ae8b4ff57c",
   "outputs": [
    {
     "data": {
      "text/plain": [
       "array([0, 1, 2, 3, 4, 5, 6, 7, 8, 9])"
      ]
     },
     "execution_count": 3,
     "metadata": {},
     "output_type": "execute_result"
    }
   ],
   "execution_count": 3
  },
  {
   "metadata": {},
   "cell_type": "markdown",
   "source": "2. Create a 2D array named arr2d with shape (3, 3) filled with ones.",
   "id": "c72f9002527feca2"
  },
  {
   "metadata": {
    "ExecuteTime": {
     "end_time": "2025-07-01T10:38:43.189696Z",
     "start_time": "2025-07-01T10:38:43.170768Z"
    }
   },
   "cell_type": "code",
   "source": [
    "arr2d = np.ones((3,3))\n",
    "arr2d"
   ],
   "id": "f5a29e65726ef87b",
   "outputs": [
    {
     "data": {
      "text/plain": [
       "array([[1., 1., 1.],\n",
       "       [1., 1., 1.],\n",
       "       [1., 1., 1.]])"
      ]
     },
     "execution_count": 4,
     "metadata": {},
     "output_type": "execute_result"
    }
   ],
   "execution_count": 4
  },
  {
   "metadata": {
    "ExecuteTime": {
     "end_time": "2025-07-01T10:38:44.196672Z",
     "start_time": "2025-07-01T10:38:44.185736Z"
    }
   },
   "cell_type": "code",
   "source": "arr2d.ndim",
   "id": "78e1ff903de94dd4",
   "outputs": [
    {
     "data": {
      "text/plain": [
       "2"
      ]
     },
     "execution_count": 5,
     "metadata": {},
     "output_type": "execute_result"
    }
   ],
   "execution_count": 5
  },
  {
   "metadata": {},
   "cell_type": "markdown",
   "source": "3. Create a 3x3 array named random_matrix with random floating-point numbers from a standard normal distribution.",
   "id": "51853c0cdc28f3a9"
  },
  {
   "metadata": {
    "ExecuteTime": {
     "end_time": "2025-07-01T10:38:44.355502Z",
     "start_time": "2025-07-01T10:38:44.337783Z"
    }
   },
   "cell_type": "code",
   "source": [
    "random_matrix = np.random.randn(3,3)\n",
    "random_matrix"
   ],
   "id": "5803a7bc6071a4d8",
   "outputs": [
    {
     "data": {
      "text/plain": [
       "array([[ 2.22619932,  0.98067861, -0.21827186],\n",
       "       [-1.11309359,  0.14377681,  0.88428971],\n",
       "       [-1.34029573, -0.07671304, -0.55053947]])"
      ]
     },
     "execution_count": 6,
     "metadata": {},
     "output_type": "execute_result"
    }
   ],
   "execution_count": 6
  },
  {
   "metadata": {},
   "cell_type": "markdown",
   "source": "4. Create an array named even_numbers containing even numbers from 10 to 50 (inclusive).",
   "id": "3101662e3aaa52d0"
  },
  {
   "metadata": {
    "ExecuteTime": {
     "end_time": "2025-07-01T10:38:44.489849Z",
     "start_time": "2025-07-01T10:38:44.481764Z"
    }
   },
   "cell_type": "code",
   "source": [
    "even_numbers = np.arange(10,51,2)\n",
    "even_numbers"
   ],
   "id": "23ee4b046ac2aa32",
   "outputs": [
    {
     "data": {
      "text/plain": [
       "array([10, 12, 14, 16, 18, 20, 22, 24, 26, 28, 30, 32, 34, 36, 38, 40, 42,\n",
       "       44, 46, 48, 50])"
      ]
     },
     "execution_count": 7,
     "metadata": {},
     "output_type": "execute_result"
    }
   ],
   "execution_count": 7
  },
  {
   "metadata": {},
   "cell_type": "markdown",
   "source": "5. Create an array named linspace_array containing 7 equally spaced numbers between 0 and 1 (inclusive).",
   "id": "4e0fdad8adc1dcd8"
  },
  {
   "metadata": {
    "ExecuteTime": {
     "end_time": "2025-07-01T10:38:44.630320Z",
     "start_time": "2025-07-01T10:38:44.619243Z"
    }
   },
   "cell_type": "code",
   "source": [
    "linspace_array = np.linspace(0,1,7)\n",
    "linspace_array"
   ],
   "id": "3beb5d538bacd3d1",
   "outputs": [
    {
     "data": {
      "text/plain": [
       "array([0.        , 0.16666667, 0.33333333, 0.5       , 0.66666667,\n",
       "       0.83333333, 1.        ])"
      ]
     },
     "execution_count": 8,
     "metadata": {},
     "output_type": "execute_result"
    }
   ],
   "execution_count": 8
  },
  {
   "metadata": {},
   "cell_type": "markdown",
   "source": "6. Given arr = np.array([[1, 2, 3], [4, 5, 6]]), what is its shape, ndim, and dtype? Print them.",
   "id": "e0f03ff17ca0ca1d"
  },
  {
   "metadata": {
    "ExecuteTime": {
     "end_time": "2025-07-01T10:38:44.732132Z",
     "start_time": "2025-07-01T10:38:44.716016Z"
    }
   },
   "cell_type": "code",
   "source": [
    "arr = np.array([[1, 2, 3], [4, 5, 6]])\n",
    "arr"
   ],
   "id": "db6a91e32cce6e7a",
   "outputs": [
    {
     "data": {
      "text/plain": [
       "array([[1, 2, 3],\n",
       "       [4, 5, 6]])"
      ]
     },
     "execution_count": 9,
     "metadata": {},
     "output_type": "execute_result"
    }
   ],
   "execution_count": 9
  },
  {
   "metadata": {
    "ExecuteTime": {
     "end_time": "2025-07-01T10:38:44.833026Z",
     "start_time": "2025-07-01T10:38:44.822890Z"
    }
   },
   "cell_type": "code",
   "source": "arr.shape",
   "id": "81e582339b8e75d8",
   "outputs": [
    {
     "data": {
      "text/plain": [
       "(2, 3)"
      ]
     },
     "execution_count": 10,
     "metadata": {},
     "output_type": "execute_result"
    }
   ],
   "execution_count": 10
  },
  {
   "metadata": {
    "ExecuteTime": {
     "end_time": "2025-07-01T10:38:44.977286Z",
     "start_time": "2025-07-01T10:38:44.966793Z"
    }
   },
   "cell_type": "code",
   "source": "arr.ndim",
   "id": "a4c8211b14a3d54a",
   "outputs": [
    {
     "data": {
      "text/plain": [
       "2"
      ]
     },
     "execution_count": 11,
     "metadata": {},
     "output_type": "execute_result"
    }
   ],
   "execution_count": 11
  },
  {
   "metadata": {
    "ExecuteTime": {
     "end_time": "2025-07-01T10:38:45.105643Z",
     "start_time": "2025-07-01T10:38:45.095436Z"
    }
   },
   "cell_type": "code",
   "source": "arr.dtype",
   "id": "763cdefa98dd55ee",
   "outputs": [
    {
     "data": {
      "text/plain": [
       "dtype('int32')"
      ]
     },
     "execution_count": 12,
     "metadata": {},
     "output_type": "execute_result"
    }
   ],
   "execution_count": 12
  },
  {
   "metadata": {},
   "cell_type": "markdown",
   "source": "## Part 2: Array Manipulation",
   "id": "e231c659d99ef11b"
  },
  {
   "metadata": {},
   "cell_type": "markdown",
   "source": "7. Reshape arr1d (from Q1) into a 2x5 2D array. Name the new array reshaped_arr.",
   "id": "5a525ee068cf93d6"
  },
  {
   "metadata": {
    "ExecuteTime": {
     "end_time": "2025-07-01T10:39:09.884988Z",
     "start_time": "2025-07-01T10:39:09.867885Z"
    }
   },
   "cell_type": "code",
   "source": "arr1d",
   "id": "fd8131fd9b9816e2",
   "outputs": [
    {
     "data": {
      "text/plain": [
       "array([0, 1, 2, 3, 4, 5, 6, 7, 8, 9])"
      ]
     },
     "execution_count": 14,
     "metadata": {},
     "output_type": "execute_result"
    }
   ],
   "execution_count": 14
  },
  {
   "metadata": {
    "ExecuteTime": {
     "end_time": "2025-07-01T10:39:26.788083Z",
     "start_time": "2025-07-01T10:39:26.775601Z"
    }
   },
   "cell_type": "code",
   "source": [
    "reshaped_arr = arr1d.reshape(2,5)\n",
    "reshaped_arr"
   ],
   "id": "b2177cf622ed4a08",
   "outputs": [
    {
     "data": {
      "text/plain": [
       "array([[0, 1, 2, 3, 4],\n",
       "       [5, 6, 7, 8, 9]])"
      ]
     },
     "execution_count": 15,
     "metadata": {},
     "output_type": "execute_result"
    }
   ],
   "execution_count": 15
  },
  {
   "metadata": {},
   "cell_type": "markdown",
   "source": "8. Transpose reshaped_arr (from Q7). Name the result transposed_arr.",
   "id": "ce025469630808f8"
  },
  {
   "metadata": {
    "ExecuteTime": {
     "end_time": "2025-07-01T10:42:22.040871Z",
     "start_time": "2025-07-01T10:42:22.027279Z"
    }
   },
   "cell_type": "code",
   "source": [
    "transposed_arr = np.transpose(reshaped_arr)\n",
    "transposed_arr"
   ],
   "id": "7e335217f5429f0c",
   "outputs": [
    {
     "data": {
      "text/plain": [
       "array([[0, 5],\n",
       "       [1, 6],\n",
       "       [2, 7],\n",
       "       [3, 8],\n",
       "       [4, 9]])"
      ]
     },
     "execution_count": 16,
     "metadata": {},
     "output_type": "execute_result"
    }
   ],
   "execution_count": 16
  },
  {
   "metadata": {},
   "cell_type": "markdown",
   "source": "9. Stack two 1D arrays a = np.array([1, 2, 3]) and b = np.array([4, 5, 6]) vertically.",
   "id": "507d05a145b0b019"
  },
  {
   "metadata": {
    "ExecuteTime": {
     "end_time": "2025-07-01T10:44:09.892816Z",
     "start_time": "2025-07-01T10:44:09.874070Z"
    }
   },
   "cell_type": "code",
   "source": [
    "a = np.array([1, 2, 3])\n",
    "b = np.array([4, 5, 6])\n",
    "np.vstack((a,b))"
   ],
   "id": "4f3ae04100e64264",
   "outputs": [
    {
     "data": {
      "text/plain": [
       "array([[1, 2, 3],\n",
       "       [4, 5, 6]])"
      ]
     },
     "execution_count": 19,
     "metadata": {},
     "output_type": "execute_result"
    }
   ],
   "execution_count": 19
  },
  {
   "metadata": {},
   "cell_type": "markdown",
   "source": "10. Stack two 2D arrays m1 = np.array([[1, 2], [3, 4]]) and m2 = np.array([[5, 6], [7, 8]]) horizontally.",
   "id": "29ebb975bbf7d5c2"
  },
  {
   "metadata": {
    "ExecuteTime": {
     "end_time": "2025-07-01T10:44:57.750320Z",
     "start_time": "2025-07-01T10:44:57.735903Z"
    }
   },
   "cell_type": "code",
   "source": [
    "m1 = np.array([[1, 2], [3, 4]])\n",
    "m2 = np.array([[5, 6], [7, 8]])\n",
    "np.hstack((m1,m2))"
   ],
   "id": "22774d7d6d74487f",
   "outputs": [
    {
     "data": {
      "text/plain": [
       "array([[1, 2, 5, 6],\n",
       "       [3, 4, 7, 8]])"
      ]
     },
     "execution_count": 21,
     "metadata": {},
     "output_type": "execute_result"
    }
   ],
   "execution_count": 21
  },
  {
   "metadata": {},
   "cell_type": "markdown",
   "source": "11. Split the array arr_to_split = np.arange(16).reshape(4, 4) horizontally into 2 equal parts. Print both parts.",
   "id": "cf3d6944234b4de7"
  },
  {
   "metadata": {
    "ExecuteTime": {
     "end_time": "2025-07-01T10:46:36.708650Z",
     "start_time": "2025-07-01T10:46:36.696723Z"
    }
   },
   "cell_type": "code",
   "source": [
    "arr_to_split = np.arange(16).reshape(4, 4)\n",
    "h_split = np.hsplit(arr_to_split,2)\n",
    "for part in h_split:\n",
    "    print(part)\n",
    "    print(\"---\")"
   ],
   "id": "ced058e43ad0aa29",
   "outputs": [
    {
     "name": "stdout",
     "output_type": "stream",
     "text": [
      "[[ 0  1]\n",
      " [ 4  5]\n",
      " [ 8  9]\n",
      " [12 13]]\n",
      "---\n",
      "[[ 2  3]\n",
      " [ 6  7]\n",
      " [10 11]\n",
      " [14 15]]\n",
      "---\n"
     ]
    }
   ],
   "execution_count": 23
  },
  {
   "metadata": {},
   "cell_type": "markdown",
   "source": "12. Split the array arr_to_split (from Q11) vertically at index 2 (i.e., into two parts: first two rows, and last two rows). Print both parts.",
   "id": "cac4195ee5eea7c0"
  },
  {
   "metadata": {
    "ExecuteTime": {
     "end_time": "2025-07-01T10:49:03.874437Z",
     "start_time": "2025-07-01T10:49:03.865067Z"
    }
   },
   "cell_type": "code",
   "source": [
    "arr_to_split = np.arange(16).reshape(4, 4)\n",
    "v_split= np.vsplit(arr_to_split,2)\n",
    "print(\"vertical split by 2:\\n\", v_split[0], \"\\n---\\n\", v_split[1])"
   ],
   "id": "e8704e1d3d2b2f72",
   "outputs": [
    {
     "name": "stdout",
     "output_type": "stream",
     "text": [
      "vertical split by 2:\n",
      " [[0 1 2 3]\n",
      " [4 5 6 7]] \n",
      "---\n",
      " [[ 8  9 10 11]\n",
      " [12 13 14 15]]\n"
     ]
    }
   ],
   "execution_count": 25
  },
  {
   "metadata": {},
   "cell_type": "markdown",
   "source": "## Part 3: Indexing, Slicing, and Boolean Indexing",
   "id": "e7a33192e3c55485"
  },
  {
   "metadata": {},
   "cell_type": "markdown",
   "source": "13. Given data = np.array([[10, 11, 12], [13, 14, 15], [16, 17, 18]]), extract the element at row 1, column 2.",
   "id": "ba65c1f9f5cd858c"
  },
  {
   "metadata": {
    "ExecuteTime": {
     "end_time": "2025-07-01T10:51:01.625888Z",
     "start_time": "2025-07-01T10:51:01.613685Z"
    }
   },
   "cell_type": "code",
   "source": [
    "data = np.array([[10, 11, 12], [13, 14, 15], [16, 17, 18]])\n",
    "data"
   ],
   "id": "2c5b4b4d9bffd60a",
   "outputs": [
    {
     "data": {
      "text/plain": [
       "array([[10, 11, 12],\n",
       "       [13, 14, 15],\n",
       "       [16, 17, 18]])"
      ]
     },
     "execution_count": 28,
     "metadata": {},
     "output_type": "execute_result"
    }
   ],
   "execution_count": 28
  },
  {
   "metadata": {
    "ExecuteTime": {
     "end_time": "2025-07-01T10:51:31.181524Z",
     "start_time": "2025-07-01T10:51:31.157588Z"
    }
   },
   "cell_type": "code",
   "source": "data[0,1]",
   "id": "245f1353702fd066",
   "outputs": [
    {
     "data": {
      "text/plain": [
       "11"
      ]
     },
     "execution_count": 30,
     "metadata": {},
     "output_type": "execute_result"
    }
   ],
   "execution_count": 30
  },
  {
   "metadata": {},
   "cell_type": "markdown",
   "source": "14. From the data array (from Q13), extract the first two rows and all columns.",
   "id": "b4070d501ccbe5b1"
  },
  {
   "metadata": {
    "ExecuteTime": {
     "end_time": "2025-07-01T10:53:47.670905Z",
     "start_time": "2025-07-01T10:53:47.653376Z"
    }
   },
   "cell_type": "code",
   "source": "data[:2,:]",
   "id": "8f3082c015160636",
   "outputs": [
    {
     "data": {
      "text/plain": [
       "array([[10, 11, 12],\n",
       "       [13, 14, 15]])"
      ]
     },
     "execution_count": 31,
     "metadata": {},
     "output_type": "execute_result"
    }
   ],
   "execution_count": 31
  },
  {
   "metadata": {},
   "cell_type": "markdown",
   "source": "15. From the data array (from Q13), extract the elements 11, 15, and 17 using fancy indexing (hint: you'll need to specify rows and columns).",
   "id": "f85ef8cb834098b"
  },
  {
   "metadata": {
    "ExecuteTime": {
     "end_time": "2025-07-01T10:59:00.240444Z",
     "start_time": "2025-07-01T10:59:00.207040Z"
    }
   },
   "cell_type": "code",
   "source": [
    "rows = [0,1,2]\n",
    "columns = [1,2,1]\n",
    "data[rows,columns]"
   ],
   "id": "c0df6cf8c5dcbb37",
   "outputs": [
    {
     "data": {
      "text/plain": [
       "array([11, 15, 17])"
      ]
     },
     "execution_count": 32,
     "metadata": {},
     "output_type": "execute_result"
    }
   ],
   "execution_count": 32
  },
  {
   "metadata": {},
   "cell_type": "markdown",
   "source": "16. Given scores = np.array([85, 92, 78, 65, 95, 88]), use boolean indexing to find all scores greater than 80.",
   "id": "5f013f7dc2a870c0"
  },
  {
   "metadata": {
    "ExecuteTime": {
     "end_time": "2025-07-01T11:00:42.274077Z",
     "start_time": "2025-07-01T11:00:42.241435Z"
    }
   },
   "cell_type": "code",
   "source": [
    "scores = np.array([85, 92, 78, 65, 95, 88])\n",
    "scores[scores>80]"
   ],
   "id": "8667f20f4f0e6fee",
   "outputs": [
    {
     "data": {
      "text/plain": [
       "array([85, 92, 95, 88])"
      ]
     },
     "execution_count": 34,
     "metadata": {},
     "output_type": "execute_result"
    }
   ],
   "execution_count": 34
  },
  {
   "metadata": {},
   "cell_type": "markdown",
   "source": "## Part 4: Numerical Operations and Aggregations",
   "id": "a03ad5338bd0254c"
  },
  {
   "metadata": {},
   "cell_type": "markdown",
   "source": "17. Given arr_op1 = np.array([10, 20, 30]) and arr_op2 = np.array([2, 4, 6]), perform element-wise multiplication and division (arr_op1 / arr_op2).",
   "id": "9a4ee17bf53d7557"
  },
  {
   "metadata": {
    "ExecuteTime": {
     "end_time": "2025-07-01T11:02:58.950997Z",
     "start_time": "2025-07-01T11:02:58.937815Z"
    }
   },
   "cell_type": "code",
   "source": [
    "arr_op1 = np.array([10, 20, 30])\n",
    "arr_op2 = np.array([2, 4, 6])\n",
    "print(\"Multiplication:\",arr_op1*arr_op2)\n",
    "print(\"Division:\",arr_op1/arr_op2)"
   ],
   "id": "463851527f2a5f41",
   "outputs": [
    {
     "name": "stdout",
     "output_type": "stream",
     "text": [
      "Multiplication: [ 20  80 180]\n",
      "Division: [5. 5. 5.]\n"
     ]
    }
   ],
   "execution_count": 37
  },
  {
   "metadata": {},
   "cell_type": "markdown",
   "source": "18. Given matrix = np.array([[1, 2, 3], [4, 5, 6], [7, 8, 9]]), calculate the sum of all elements in the matrix.",
   "id": "d07b7e182ee385af"
  },
  {
   "metadata": {
    "ExecuteTime": {
     "end_time": "2025-07-01T11:04:33.980819Z",
     "start_time": "2025-07-01T11:04:33.963869Z"
    }
   },
   "cell_type": "code",
   "source": [
    "matrix = np.array([[1, 2, 3], [4, 5, 6], [7, 8, 9]])\n",
    "print(\"Sum of all elements in the matrix:\\n\",np.sum(matrix))"
   ],
   "id": "e4265c120ed33f04",
   "outputs": [
    {
     "name": "stdout",
     "output_type": "stream",
     "text": [
      "Sum of all elements in the matrix:\n",
      " 45\n"
     ]
    }
   ],
   "execution_count": 39
  },
  {
   "metadata": {},
   "cell_type": "markdown",
   "source": "19. From the matrix (from Q18), calculate the mean of each column.",
   "id": "4fae32297f0b7181"
  },
  {
   "metadata": {
    "ExecuteTime": {
     "end_time": "2025-07-01T11:06:44.583542Z",
     "start_time": "2025-07-01T11:06:44.575718Z"
    }
   },
   "cell_type": "code",
   "source": "print(\"The mean of each column:\\n\",np.mean(matrix, axis=0))",
   "id": "a97845a1dc1c2c19",
   "outputs": [
    {
     "name": "stdout",
     "output_type": "stream",
     "text": [
      "The mean of each column:\n",
      " [4. 5. 6.]\n"
     ]
    }
   ],
   "execution_count": 41
  },
  {
   "metadata": {},
   "cell_type": "markdown",
   "source": "20. Given price_array = np.array([100, 150, 200, 250]) and discount_percentage = 0.10, apply a 10% discount to all prices using broadcasting.",
   "id": "c0f8bab13d4e2af3"
  },
  {
   "metadata": {
    "ExecuteTime": {
     "end_time": "2025-07-01T11:08:59.967522Z",
     "start_time": "2025-07-01T11:08:59.957480Z"
    }
   },
   "cell_type": "code",
   "source": [
    "price_array = np.array([100, 150, 200, 250])\n",
    "discount_percentage = 0.10\n",
    "discount_result = price_array * discount_percentage\n",
    "discount_result"
   ],
   "id": "30d8c8e6f23bc84a",
   "outputs": [
    {
     "data": {
      "text/plain": [
       "array([10., 15., 20., 25.])"
      ]
     },
     "execution_count": 43,
     "metadata": {},
     "output_type": "execute_result"
    }
   ],
   "execution_count": 43
  },
  {
   "metadata": {},
   "cell_type": "code",
   "outputs": [],
   "execution_count": null,
   "source": "",
   "id": "bd3695e80af55f00"
  }
 ],
 "metadata": {
  "kernelspec": {
   "display_name": "Python 3",
   "language": "python",
   "name": "python3"
  },
  "language_info": {
   "codemirror_mode": {
    "name": "ipython",
    "version": 2
   },
   "file_extension": ".py",
   "mimetype": "text/x-python",
   "name": "python",
   "nbconvert_exporter": "python",
   "pygments_lexer": "ipython2",
   "version": "2.7.6"
  }
 },
 "nbformat": 4,
 "nbformat_minor": 5
}
