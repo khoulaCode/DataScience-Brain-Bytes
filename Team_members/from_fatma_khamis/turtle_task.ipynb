{
 "cells": [
  {
   "cell_type": "code",
   "execution_count": 554,
   "id": "df966af7",
   "metadata": {},
   "outputs": [],
   "source": [
    "import requests\n",
    "from bs4 import BeautifulSoup\n",
    "import pandas as pd"
   ]
  },
  {
   "cell_type": "code",
   "execution_count": 555,
   "id": "f22df8f3",
   "metadata": {},
   "outputs": [
    {
     "name": "stdout",
     "output_type": "stream",
     "text": [
      "<Response [200]>\n"
     ]
    }
   ],
   "source": [
    "url = \"https://www.scrapethissite.com/pages/frames/\"\n",
    "response = requests.get(url)\n",
    "print(response)"
   ]
  },
  {
   "cell_type": "code",
   "execution_count": 556,
   "id": "de68523e",
   "metadata": {},
   "outputs": [
    {
     "data": {
      "text/plain": [
       "200"
      ]
     },
     "execution_count": 556,
     "metadata": {},
     "output_type": "execute_result"
    }
   ],
   "source": [
    "response.status_code"
   ]
  },
  {
   "cell_type": "code",
   "execution_count": 557,
   "id": "38b6e00b",
   "metadata": {},
   "outputs": [
    {
     "data": {
      "text/plain": [
       "b'<!doctype html>\\n<html lang=\"en\">\\n  <head>\\n    <meta charset=\"utf-8\">\\n    <title>Turtles All the Way Down: Frames &amp; iFrames | Scrape This Site | A public sandbox for learning web scraping</title>\\n    <link rel=\"icon\" type=\"image/png\" href=\"/static/images/scraper-icon.png\" />\\n\\n    <meta name=\"viewport\" content=\"width=device-width, initial-scale=1.0\">\\n    <meta name=\"description\" content=\"Some older sites might still use frames to break up thier pages. Modern ones might be using iFrames to expose data. Learn about turtles as you scrape content inside frames.\">\\n\\n    <link href=\"https://maxcdn.bootstrapcdn.com/bootstrap/3.3.5/css/bootstrap.min.css\" rel=\"stylesheet\" integrity=\"sha256-MfvZlkHCEqatNoGiOXveE8FIwMzZg4W85qfrfIFBfYc= sha512-dTfge/zgoMYpP7QbHy4gWMEGsbsdZeCXz7irItjcC3sPUFtf0kuFbDz/ixG7ArTxmDjLXDmezHubeNikyKGVyQ==\" crossorigin=\"anonymous\">\\n    <link href=\\'https://fonts.googleapis.com/css?family=Lato:400,700\\' rel=\\'stylesheet\\' type=\\'text/css\\'>\\n    <link rel=\"stylesheet\" type=\"text/css\" href=\"/static/css/styles.css\">\\n\\n    \\n<meta name=\"robots\" content=\"noindex\">\\n<link href=\"https://lipis.github.io/flag-icon-css/css/flag-icon.css\" rel=\"stylesheet\">\\n\\n\\n  </head>\\n\\n  <body>\\n    <nav id=\"site-nav\">\\n            <div class=\"container\">\\n                <div class=\"col-md-12\">\\n                    <ul class=\"nav nav-tabs\">\\n                        <li id=\"nav-homepage\">\\n                            <a href=\"/\" class=\"nav-link hidden-sm hidden-xs\">\\n                                <img src=\"/static/images/scraper-icon.png\" id=\"nav-logo\">\\n                                Scrape This Site\\n                            </a>\\n                        </li>\\n                        <li id=\"nav-sandbox\">\\n                            <a href=\"/pages/\" class=\"nav-link\">\\n                                <i class=\"glyphicon glyphicon-console hidden-sm hidden-xs\"></i>\\n                                Sandbox\\n                            </a>\\n                        </li>\\n                        <li id=\"nav-lessons\">\\n                            <a href=\"/lessons/\" class=\"nav-link\">\\n                                <i class=\"glyphicon glyphicon-education hidden-sm hidden-xs\"></i>\\n                                Lessons\\n                            </a>\\n                        </li>\\n                        <li id=\"nav-faq\">\\n                            <a href=\"/faq/\" class=\"nav-link\">\\n                                <i class=\"glyphicon glyphicon-flag hidden-sm hidden-xs\"></i>\\n                                FAQ\\n                            </a>\\n                        </li>\\n                        \\n                        <li id=\"nav-login\" class=\"pull-right\">\\n                            <a href=\"/login/\" class=\"nav-link\">\\n                                Login\\n                            </a>\\n                        </li>\\n                        \\n                    </ul>\\n                </div>\\n            </div>\\n        </nav>\\n\\n        <script type=\"text/javascript\">\\n            var path = document.location.pathname;\\n            var tab = undefined;\\n            if (path === \"/\"){\\n                tab = document.querySelector(\"#nav-homepage\");\\n            } else if (path.indexOf(\"/faq/\") === 0){\\n                tab = document.querySelector(\"#nav-faq\");\\n            } else if (path.indexOf(\"/lessons/\") === 0){\\n                tab = document.querySelector(\"#nav-lessons\");\\n            } else if (path.indexOf(\"/pages/\") === 0) {\\n                tab = document.querySelector(\"#nav-sandbox\");\\n            } else if (path.indexOf(\"/login/\") === 0) {\\n                tab = document.querySelector(\"#nav-login\");\\n            }\\n            tab.classList.add(\"active\")\\n        </script>\\n\\n    \\n\\n    \\n\\n        <div id=\"page\">\\n\\n            <section id=\"frames\">\\n                <div class=\"container\">\\n\\n                    <div class=\"row\">\\n                    <div class=\"col-md-12\">\\n                        <h1>\\n                            Turtles All the Way Down: Frames &amp; iFrames\\n                            <small>14 items</small>\\n                        </h1>\\n                        <hr />\\n                    </div>\\n                </div>\\n                <div class=\"row\">\\n                    <div class=\"col-md-12\">\\n                        <p class=\"lead\">\\n                            Some older sites might still use frames to break up thier pages. Modern ones might be using iFrames to expose data. Learn about turtles as you scrape content inside frames.\\n                            See if you can find the &#39;real&#39; URL that our content is being loaded from, and scrape that page. Also practice interating over a list of items and loading their detail pages to get more information about each one.\\n                        </p>\\n                        <hr />\\n                    </div>\\n                </div>\\n                <div class=\"row\">\\n                    <div class=\"col-md-6\">\\n                        <p>\\n                            <i class=\"glyphicon glyphicon-education\"></i> There are <a href=\"/lessons/\">3 video lessons</a> that show you how to scrape this page.\\n                        </p>\\n                        <hr />\\n                    </div>\\n                    <div class=\"col-md-6 text-right\">\\n                        <p>\\n                            \\n                                Data via\\n                                <a href=\"https://en.wikipedia.org/wiki/List_of_Testudines_families\" class=\"data-attribution\" target=\"_blank\">https://en.wikipedia.org/wiki/List_of_Testudines_families</a>\\n                            \\n                        </p>\\n                        <hr />\\n                    </div>\\n                </div>\\n\\n                    <div class=\"row\">\\n                        <div class=\"col-md-12\">\\n                            <frameset rows=\"10%,80%,10%\">\\n                                <frame name=\"top\" src=\"/pages/frames/?frame=top\" />\\n                                <frame name=\"main\" src=\"/pages/frames/?frame=main\" />\\n                                <frame name=\"bottom\" src=\"/pages/frames/frame=bottom\" />\\n                                <noframes>\\n                                        Your browser does not support frames.\\n                                </noframes>\\n                            </frameset>\\n\\n                            <iframe src=\"/pages/frames/?frame=i\" id=\"iframe\">\\n                                Your browser does not support iframes\\n                            </iframe>\\n\\n                        </div><!--.col-->\\n                    </div><!--.row-->\\n\\n                </div><!--.container-->\\n            </section>\\n\\n        </div><!--#page-->\\n\\n    \\n\\n\\n    <section id=\"footer\">\\n        <div class=\"container\">\\n            <div class=\"row\">\\n                <div class=\"col-md-12 text-center text-muted\">\\n                    Lessons and Videos &copy; Hartley Brody 2023\\n                </div><!--.col-->\\n            </div><!--.row-->\\n        </div><!--.container-->\\n    </section>\\n  </body>\\n\\n  <script src=\"https://ajax.googleapis.com/ajax/libs/jquery/1.11.3/jquery.min.js\"></script>\\n  <script src=\"https://maxcdn.bootstrapcdn.com/bootstrap/3.3.5/js/bootstrap.min.js\" integrity=\"sha256-Sk3nkD6mLTMOF0EOpNtsIry+s1CsaqQC1rVLTAy+0yc= sha512-K1qjQ+NcF2TYO/eI3M6v8EiNYZfA95pQumfvcVrTHtwQVDG+aHRqLi/ETn2uB+1JqwYqVG3LIvdm9lj6imS/pQ==\" crossorigin=\"anonymous\"></script>\\n\\n  \\n\\n  <script src=\"https://cdnjs.cloudflare.com/ajax/libs/pnotify/2.1.0/pnotify.core.min.js\"></script>\\n  <link href=\"https://cdnjs.cloudflare.com/ajax/libs/pnotify/2.1.0/pnotify.core.min.css\" rel=\"stylesheet\" type=\"text/css\">\\n\\n  <!-- pnotify messages -->\\n  <script type=\"text/javascript\">\\n    \\n    PNotify.prototype.options.styling = \"bootstrap3\";\\n    $(function(){\\n      \\n    });\\n    \\n\\n    $(function () {\\n      $(\\'[data-toggle=\"tooltip\"]\\').tooltip()\\n    })\\n  </script>\\n\\n  <!-- golbal video controls -->\\n  <script type=\"text/javascript\">\\n    $(\"video\").hover(function() {\\n        $(this).prop(\"controls\", true);\\n    }, function() {\\n        $(this).prop(\"controls\", false);\\n    });\\n\\n    $(\"video\").click(function() {\\n        if( this.paused){\\n            this.play();\\n        }\\n        else {\\n            this.pause();\\n        }\\n    });\\n    </script>\\n\\n  <!-- insert google analytics here -->\\n  <script>\\n    (function(i,s,o,g,r,a,m){i[\\'GoogleAnalyticsObject\\']=r;i[r]=i[r]||function(){\\n    (i[r].q=i[r].q||[]).push(arguments)},i[r].l=1*new Date();a=s.createElement(o),\\n    m=s.getElementsByTagName(o)[0];a.async=1;a.src=g;m.parentNode.insertBefore(a,m)\\n    })(window,document,\\'script\\',\\'https://www.google-analytics.com/analytics.js\\',\\'ga\\');\\n\\n    ga(\\'create\\', \\'UA-41551755-8\\', \\'auto\\');\\n    ga(\\'send\\', \\'pageview\\');\\n  </script>\\n\\n  <!-- Facebook Pixel Code -->\\n  <script>\\n  !function(f,b,e,v,n,t,s){if(f.fbq)return;n=f.fbq=function(){n.callMethod?\\n  n.callMethod.apply(n,arguments):n.queue.push(arguments)};if(!f._fbq)f._fbq=n;\\n  n.push=n;n.loaded=!0;n.version=\\'2.0\\';n.queue=[];t=b.createElement(e);t.async=!0;\\n  t.src=v;s=b.getElementsByTagName(e)[0];s.parentNode.insertBefore(t,s)}(window,\\n  document,\\'script\\',\\'https://connect.facebook.net/en_US/fbevents.js\\');\\n\\n  fbq(\\'init\\', \\'764287443701341\\');\\n  fbq(\\'track\\', \"PageView\");</script>\\n  <noscript><img height=\"1\" width=\"1\" style=\"display:none\"\\n  src=\"https://www.facebook.com/tr?id=764287443701341&ev=PageView&noscript=1\"\\n  /></noscript>\\n  <!-- End Facebook Pixel Code -->\\n\\n  <!-- Google Code for Remarketing Tag -->\\n  <script type=\"text/javascript\">\\n    /* <![CDATA[ */\\n    var google_conversion_id = 950945448;\\n    var google_custom_params = window.google_tag_params;\\n    var google_remarketing_only = true;\\n    /* ]]> */\\n    </script>\\n    <script type=\"text/javascript\" src=\"//www.googleadservices.com/pagead/conversion.js\">\\n    </script>\\n    <noscript>\\n    <div style=\"display:inline;\">\\n    <img height=\"1\" width=\"1\" style=\"border-style:none;\" alt=\"\" src=\"//googleads.g.doubleclick.net/pagead/viewthroughconversion/950945448/?guid=ON&amp;script=0\"/>\\n    </div>\\n  </noscript>\\n\\n  <!-- Global site tag (gtag.js) - Google AdWords: 950945448 -->\\n  <script async src=\"https://www.googletagmanager.com/gtag/js?id=AW-950945448\"></script>\\n  <script>\\n   window.dataLayer = window.dataLayer || [];\\n   function gtag(){dataLayer.push(arguments);}\\n   gtag(\\'js\\', new Date());\\n\\n   gtag(\\'config\\', \\'AW-950945448\\');\\n  </script>\\n\\n</html>'"
      ]
     },
     "execution_count": 557,
     "metadata": {},
     "output_type": "execute_result"
    }
   ],
   "source": [
    "response.content"
   ]
  },
  {
   "cell_type": "code",
   "execution_count": 558,
   "id": "a176459a",
   "metadata": {},
   "outputs": [
    {
     "data": {
      "text/plain": [
       "'<!doctype html>\\n<html lang=\"en\">\\n  <head>\\n    <meta charset=\"utf-8\">\\n    <title>Turtles All the Way Down: Frames &amp; iFrames | Scrape This Site | A public sandbox for learning web scraping</title>\\n    <link rel=\"icon\" type=\"image/png\" href=\"/static/images/scraper-icon.png\" />\\n\\n    <meta name=\"viewport\" content=\"width=device-width, initial-scale=1.0\">\\n    <meta name=\"description\" content=\"Some older sites might still use frames to break up thier pages. Modern ones might be using iFrames to expose data. Learn about turtles as you scrape content inside frames.\">\\n\\n    <link href=\"https://maxcdn.bootstrapcdn.com/bootstrap/3.3.5/css/bootstrap.min.css\" rel=\"stylesheet\" integrity=\"sha256-MfvZlkHCEqatNoGiOXveE8FIwMzZg4W85qfrfIFBfYc= sha512-dTfge/zgoMYpP7QbHy4gWMEGsbsdZeCXz7irItjcC3sPUFtf0kuFbDz/ixG7ArTxmDjLXDmezHubeNikyKGVyQ==\" crossorigin=\"anonymous\">\\n    <link href=\\'https://fonts.googleapis.com/css?family=Lato:400,700\\' rel=\\'stylesheet\\' type=\\'text/css\\'>\\n    <link rel=\"stylesheet\" type=\"text/css\" href=\"/static/css/styles.css\">\\n\\n    \\n<meta name=\"robots\" content=\"noindex\">\\n<link href=\"https://lipis.github.io/flag-icon-css/css/flag-icon.css\" rel=\"stylesheet\">\\n\\n\\n  </head>\\n\\n  <body>\\n    <nav id=\"site-nav\">\\n            <div class=\"container\">\\n                <div class=\"col-md-12\">\\n                    <ul class=\"nav nav-tabs\">\\n                        <li id=\"nav-homepage\">\\n                            <a href=\"/\" class=\"nav-link hidden-sm hidden-xs\">\\n                                <img src=\"/static/images/scraper-icon.png\" id=\"nav-logo\">\\n                                Scrape This Site\\n                            </a>\\n                        </li>\\n                        <li id=\"nav-sandbox\">\\n                            <a href=\"/pages/\" class=\"nav-link\">\\n                                <i class=\"glyphicon glyphicon-console hidden-sm hidden-xs\"></i>\\n                                Sandbox\\n                            </a>\\n                        </li>\\n                        <li id=\"nav-lessons\">\\n                            <a href=\"/lessons/\" class=\"nav-link\">\\n                                <i class=\"glyphicon glyphicon-education hidden-sm hidden-xs\"></i>\\n                                Lessons\\n                            </a>\\n                        </li>\\n                        <li id=\"nav-faq\">\\n                            <a href=\"/faq/\" class=\"nav-link\">\\n                                <i class=\"glyphicon glyphicon-flag hidden-sm hidden-xs\"></i>\\n                                FAQ\\n                            </a>\\n                        </li>\\n                        \\n                        <li id=\"nav-login\" class=\"pull-right\">\\n                            <a href=\"/login/\" class=\"nav-link\">\\n                                Login\\n                            </a>\\n                        </li>\\n                        \\n                    </ul>\\n                </div>\\n            </div>\\n        </nav>\\n\\n        <script type=\"text/javascript\">\\n            var path = document.location.pathname;\\n            var tab = undefined;\\n            if (path === \"/\"){\\n                tab = document.querySelector(\"#nav-homepage\");\\n            } else if (path.indexOf(\"/faq/\") === 0){\\n                tab = document.querySelector(\"#nav-faq\");\\n            } else if (path.indexOf(\"/lessons/\") === 0){\\n                tab = document.querySelector(\"#nav-lessons\");\\n            } else if (path.indexOf(\"/pages/\") === 0) {\\n                tab = document.querySelector(\"#nav-sandbox\");\\n            } else if (path.indexOf(\"/login/\") === 0) {\\n                tab = document.querySelector(\"#nav-login\");\\n            }\\n            tab.classList.add(\"active\")\\n        </script>\\n\\n    \\n\\n    \\n\\n        <div id=\"page\">\\n\\n            <section id=\"frames\">\\n                <div class=\"container\">\\n\\n                    <div class=\"row\">\\n                    <div class=\"col-md-12\">\\n                        <h1>\\n                            Turtles All the Way Down: Frames &amp; iFrames\\n                            <small>14 items</small>\\n                        </h1>\\n                        <hr />\\n                    </div>\\n                </div>\\n                <div class=\"row\">\\n                    <div class=\"col-md-12\">\\n                        <p class=\"lead\">\\n                            Some older sites might still use frames to break up thier pages. Modern ones might be using iFrames to expose data. Learn about turtles as you scrape content inside frames.\\n                            See if you can find the &#39;real&#39; URL that our content is being loaded from, and scrape that page. Also practice interating over a list of items and loading their detail pages to get more information about each one.\\n                        </p>\\n                        <hr />\\n                    </div>\\n                </div>\\n                <div class=\"row\">\\n                    <div class=\"col-md-6\">\\n                        <p>\\n                            <i class=\"glyphicon glyphicon-education\"></i> There are <a href=\"/lessons/\">3 video lessons</a> that show you how to scrape this page.\\n                        </p>\\n                        <hr />\\n                    </div>\\n                    <div class=\"col-md-6 text-right\">\\n                        <p>\\n                            \\n                                Data via\\n                                <a href=\"https://en.wikipedia.org/wiki/List_of_Testudines_families\" class=\"data-attribution\" target=\"_blank\">https://en.wikipedia.org/wiki/List_of_Testudines_families</a>\\n                            \\n                        </p>\\n                        <hr />\\n                    </div>\\n                </div>\\n\\n                    <div class=\"row\">\\n                        <div class=\"col-md-12\">\\n                            <frameset rows=\"10%,80%,10%\">\\n                                <frame name=\"top\" src=\"/pages/frames/?frame=top\" />\\n                                <frame name=\"main\" src=\"/pages/frames/?frame=main\" />\\n                                <frame name=\"bottom\" src=\"/pages/frames/frame=bottom\" />\\n                                <noframes>\\n                                        Your browser does not support frames.\\n                                </noframes>\\n                            </frameset>\\n\\n                            <iframe src=\"/pages/frames/?frame=i\" id=\"iframe\">\\n                                Your browser does not support iframes\\n                            </iframe>\\n\\n                        </div><!--.col-->\\n                    </div><!--.row-->\\n\\n                </div><!--.container-->\\n            </section>\\n\\n        </div><!--#page-->\\n\\n    \\n\\n\\n    <section id=\"footer\">\\n        <div class=\"container\">\\n            <div class=\"row\">\\n                <div class=\"col-md-12 text-center text-muted\">\\n                    Lessons and Videos &copy; Hartley Brody 2023\\n                </div><!--.col-->\\n            </div><!--.row-->\\n        </div><!--.container-->\\n    </section>\\n  </body>\\n\\n  <script src=\"https://ajax.googleapis.com/ajax/libs/jquery/1.11.3/jquery.min.js\"></script>\\n  <script src=\"https://maxcdn.bootstrapcdn.com/bootstrap/3.3.5/js/bootstrap.min.js\" integrity=\"sha256-Sk3nkD6mLTMOF0EOpNtsIry+s1CsaqQC1rVLTAy+0yc= sha512-K1qjQ+NcF2TYO/eI3M6v8EiNYZfA95pQumfvcVrTHtwQVDG+aHRqLi/ETn2uB+1JqwYqVG3LIvdm9lj6imS/pQ==\" crossorigin=\"anonymous\"></script>\\n\\n  \\n\\n  <script src=\"https://cdnjs.cloudflare.com/ajax/libs/pnotify/2.1.0/pnotify.core.min.js\"></script>\\n  <link href=\"https://cdnjs.cloudflare.com/ajax/libs/pnotify/2.1.0/pnotify.core.min.css\" rel=\"stylesheet\" type=\"text/css\">\\n\\n  <!-- pnotify messages -->\\n  <script type=\"text/javascript\">\\n    \\n    PNotify.prototype.options.styling = \"bootstrap3\";\\n    $(function(){\\n      \\n    });\\n    \\n\\n    $(function () {\\n      $(\\'[data-toggle=\"tooltip\"]\\').tooltip()\\n    })\\n  </script>\\n\\n  <!-- golbal video controls -->\\n  <script type=\"text/javascript\">\\n    $(\"video\").hover(function() {\\n        $(this).prop(\"controls\", true);\\n    }, function() {\\n        $(this).prop(\"controls\", false);\\n    });\\n\\n    $(\"video\").click(function() {\\n        if( this.paused){\\n            this.play();\\n        }\\n        else {\\n            this.pause();\\n        }\\n    });\\n    </script>\\n\\n  <!-- insert google analytics here -->\\n  <script>\\n    (function(i,s,o,g,r,a,m){i[\\'GoogleAnalyticsObject\\']=r;i[r]=i[r]||function(){\\n    (i[r].q=i[r].q||[]).push(arguments)},i[r].l=1*new Date();a=s.createElement(o),\\n    m=s.getElementsByTagName(o)[0];a.async=1;a.src=g;m.parentNode.insertBefore(a,m)\\n    })(window,document,\\'script\\',\\'https://www.google-analytics.com/analytics.js\\',\\'ga\\');\\n\\n    ga(\\'create\\', \\'UA-41551755-8\\', \\'auto\\');\\n    ga(\\'send\\', \\'pageview\\');\\n  </script>\\n\\n  <!-- Facebook Pixel Code -->\\n  <script>\\n  !function(f,b,e,v,n,t,s){if(f.fbq)return;n=f.fbq=function(){n.callMethod?\\n  n.callMethod.apply(n,arguments):n.queue.push(arguments)};if(!f._fbq)f._fbq=n;\\n  n.push=n;n.loaded=!0;n.version=\\'2.0\\';n.queue=[];t=b.createElement(e);t.async=!0;\\n  t.src=v;s=b.getElementsByTagName(e)[0];s.parentNode.insertBefore(t,s)}(window,\\n  document,\\'script\\',\\'https://connect.facebook.net/en_US/fbevents.js\\');\\n\\n  fbq(\\'init\\', \\'764287443701341\\');\\n  fbq(\\'track\\', \"PageView\");</script>\\n  <noscript><img height=\"1\" width=\"1\" style=\"display:none\"\\n  src=\"https://www.facebook.com/tr?id=764287443701341&ev=PageView&noscript=1\"\\n  /></noscript>\\n  <!-- End Facebook Pixel Code -->\\n\\n  <!-- Google Code for Remarketing Tag -->\\n  <script type=\"text/javascript\">\\n    /* <![CDATA[ */\\n    var google_conversion_id = 950945448;\\n    var google_custom_params = window.google_tag_params;\\n    var google_remarketing_only = true;\\n    /* ]]> */\\n    </script>\\n    <script type=\"text/javascript\" src=\"//www.googleadservices.com/pagead/conversion.js\">\\n    </script>\\n    <noscript>\\n    <div style=\"display:inline;\">\\n    <img height=\"1\" width=\"1\" style=\"border-style:none;\" alt=\"\" src=\"//googleads.g.doubleclick.net/pagead/viewthroughconversion/950945448/?guid=ON&amp;script=0\"/>\\n    </div>\\n  </noscript>\\n\\n  <!-- Global site tag (gtag.js) - Google AdWords: 950945448 -->\\n  <script async src=\"https://www.googletagmanager.com/gtag/js?id=AW-950945448\"></script>\\n  <script>\\n   window.dataLayer = window.dataLayer || [];\\n   function gtag(){dataLayer.push(arguments);}\\n   gtag(\\'js\\', new Date());\\n\\n   gtag(\\'config\\', \\'AW-950945448\\');\\n  </script>\\n\\n</html>'"
      ]
     },
     "execution_count": 558,
     "metadata": {},
     "output_type": "execute_result"
    }
   ],
   "source": [
    "response.text"
   ]
  },
  {
   "cell_type": "code",
   "execution_count": 559,
   "id": "6bd0c8b2",
   "metadata": {},
   "outputs": [
    {
     "data": {
      "text/plain": [
       "{'Date': 'Tue, 22 Jul 2025 12:47:52 GMT', 'Content-Type': 'text/html; charset=utf-8', 'Transfer-Encoding': 'chunked', 'Connection': 'keep-alive', 'Nel': '{\"report_to\":\"heroku-nel\",\"response_headers\":[\"Via\"],\"max_age\":3600,\"success_fraction\":0.01,\"failure_fraction\":0.1}', 'Report-To': '{\"group\":\"heroku-nel\",\"endpoints\":[{\"url\":\"https://nel.heroku.com/reports?s=17cuZPoCosuqoW0mAbpm4KRdokJ0AR1srxf6MARvnyw%3D\\\\u0026sid=67ff5de4-ad2b-4112-9289-cf96be89efed\\\\u0026ts=1753188472\"}],\"max_age\":3600}', 'Reporting-Endpoints': 'heroku-nel=\"https://nel.heroku.com/reports?s=17cuZPoCosuqoW0mAbpm4KRdokJ0AR1srxf6MARvnyw%3D&sid=67ff5de4-ad2b-4112-9289-cf96be89efed&ts=1753188472\"', 'Server': 'cloudflare', 'Via': '1.1 heroku-router', 'Cf-Cache-Status': 'DYNAMIC', 'Content-Encoding': 'gzip', 'CF-RAY': '96330c8e9a76e28e-MRS', 'alt-svc': 'h3=\":443\"; ma=86400'}"
      ]
     },
     "execution_count": 559,
     "metadata": {},
     "output_type": "execute_result"
    }
   ],
   "source": [
    "response.headers"
   ]
  },
  {
   "cell_type": "code",
   "execution_count": 560,
   "id": "3158e71c",
   "metadata": {},
   "outputs": [
    {
     "data": {
      "text/plain": [
       "'Tue, 22 Jul 2025 12:47:52 GMT'"
      ]
     },
     "execution_count": 560,
     "metadata": {},
     "output_type": "execute_result"
    }
   ],
   "source": [
    "response.headers['Date']"
   ]
  },
  {
   "cell_type": "code",
   "execution_count": 561,
   "id": "6b6dc2ce",
   "metadata": {},
   "outputs": [],
   "source": [
    "response.raise_for_status()\n",
    "soup = BeautifulSoup(response.text, 'html.parser')"
   ]
  },
  {
   "cell_type": "code",
   "execution_count": 562,
   "id": "c2bc07a5",
   "metadata": {},
   "outputs": [
    {
     "data": {
      "text/plain": [
       "200"
      ]
     },
     "execution_count": 562,
     "metadata": {},
     "output_type": "execute_result"
    }
   ],
   "source": [
    "response.status_code"
   ]
  },
  {
   "cell_type": "code",
   "execution_count": 563,
   "id": "834c6e7a",
   "metadata": {},
   "outputs": [
    {
     "data": {
      "text/plain": [
       "<iframe id=\"iframe\" src=\"/pages/frames/?frame=i\">\n",
       "                                Your browser does not support iframes\n",
       "                            </iframe>"
      ]
     },
     "execution_count": 563,
     "metadata": {},
     "output_type": "execute_result"
    }
   ],
   "source": [
    "soup.find('iframe')"
   ]
  },
  {
   "cell_type": "code",
   "execution_count": 564,
   "id": "139b9d93",
   "metadata": {},
   "outputs": [
    {
     "name": "stdout",
     "output_type": "stream",
     "text": [
      "Found iframe successfully: https://www.scrapethissite.com/pages/frames/?frame=i\n"
     ]
    }
   ],
   "source": [
    "# find and add the iframe to the main url\n",
    "iframe_tag = soup.find('iframe')\n",
    "if iframe_tag:\n",
    "    iframe_url = \"https://www.scrapethissite.com\" + iframe_tag.get('src')\n",
    "    print(f\"Found iframe successfully: {iframe_url}\")\n",
    "else:\n",
    "    print(\"No iframe found on the main page\")"
   ]
  },
  {
   "cell_type": "code",
   "execution_count": 565,
   "id": "efe622cb",
   "metadata": {},
   "outputs": [],
   "source": [
    "current_page_url = iframe_url"
   ]
  },
  {
   "cell_type": "code",
   "execution_count": 566,
   "id": "20ed451d",
   "metadata": {},
   "outputs": [
    {
     "data": {
      "text/plain": [
       "<Response [200]>"
      ]
     },
     "execution_count": 566,
     "metadata": {},
     "output_type": "execute_result"
    }
   ],
   "source": [
    "new_response = requests.get(iframe_url)\n",
    "new_response"
   ]
  },
  {
   "cell_type": "code",
   "execution_count": 567,
   "id": "cd84ac21",
   "metadata": {},
   "outputs": [
    {
     "data": {
      "text/plain": [
       "<!DOCTYPE html>\n",
       "\n",
       "<html lang=\"en\">\n",
       "<head>\n",
       "<meta charset=\"utf-8\"/>\n",
       "<title>Turtles All the Way Down: Frames &amp; iFrames | Scrape This Site | A public sandbox for learning web scraping</title>\n",
       "<link href=\"/static/images/scraper-icon.png\" rel=\"icon\" type=\"image/png\"/>\n",
       "<meta content=\"width=device-width, initial-scale=1.0\" name=\"viewport\"/>\n",
       "<meta content=\"Some older sites might still use frames to break up thier pages. Modern ones might be using iFrames to expose data. Learn about turtles as you scrape content inside frames.\" name=\"description\"/>\n",
       "<link crossorigin=\"anonymous\" href=\"https://maxcdn.bootstrapcdn.com/bootstrap/3.3.5/css/bootstrap.min.css\" integrity=\"sha256-MfvZlkHCEqatNoGiOXveE8FIwMzZg4W85qfrfIFBfYc= sha512-dTfge/zgoMYpP7QbHy4gWMEGsbsdZeCXz7irItjcC3sPUFtf0kuFbDz/ixG7ArTxmDjLXDmezHubeNikyKGVyQ==\" rel=\"stylesheet\"/>\n",
       "<link href=\"https://fonts.googleapis.com/css?family=Lato:400,700\" rel=\"stylesheet\" type=\"text/css\"/>\n",
       "<link href=\"/static/css/styles.css\" rel=\"stylesheet\" type=\"text/css\"/>\n",
       "<meta content=\"noindex\" name=\"robots\"/>\n",
       "<link href=\"https://lipis.github.io/flag-icon-css/css/flag-icon.css\" rel=\"stylesheet\"/>\n",
       "</head>\n",
       "<body>\n",
       "<nav id=\"site-nav\">\n",
       "<div class=\"container\">\n",
       "<div class=\"col-md-12\">\n",
       "<ul class=\"nav nav-tabs\">\n",
       "<li id=\"nav-homepage\">\n",
       "<a class=\"nav-link hidden-sm hidden-xs\" href=\"/\">\n",
       "<img id=\"nav-logo\" src=\"/static/images/scraper-icon.png\"/>\n",
       "                                Scrape This Site\n",
       "                            </a>\n",
       "</li>\n",
       "<li id=\"nav-sandbox\">\n",
       "<a class=\"nav-link\" href=\"/pages/\">\n",
       "<i class=\"glyphicon glyphicon-console hidden-sm hidden-xs\"></i>\n",
       "                                Sandbox\n",
       "                            </a>\n",
       "</li>\n",
       "<li id=\"nav-lessons\">\n",
       "<a class=\"nav-link\" href=\"/lessons/\">\n",
       "<i class=\"glyphicon glyphicon-education hidden-sm hidden-xs\"></i>\n",
       "                                Lessons\n",
       "                            </a>\n",
       "</li>\n",
       "<li id=\"nav-faq\">\n",
       "<a class=\"nav-link\" href=\"/faq/\">\n",
       "<i class=\"glyphicon glyphicon-flag hidden-sm hidden-xs\"></i>\n",
       "                                FAQ\n",
       "                            </a>\n",
       "</li>\n",
       "<li class=\"pull-right\" id=\"nav-login\">\n",
       "<a class=\"nav-link\" href=\"/login/\">\n",
       "                                Login\n",
       "                            </a>\n",
       "</li>\n",
       "</ul>\n",
       "</div>\n",
       "</div>\n",
       "</nav>\n",
       "<script type=\"text/javascript\">\n",
       "            var path = document.location.pathname;\n",
       "            var tab = undefined;\n",
       "            if (path === \"/\"){\n",
       "                tab = document.querySelector(\"#nav-homepage\");\n",
       "            } else if (path.indexOf(\"/faq/\") === 0){\n",
       "                tab = document.querySelector(\"#nav-faq\");\n",
       "            } else if (path.indexOf(\"/lessons/\") === 0){\n",
       "                tab = document.querySelector(\"#nav-lessons\");\n",
       "            } else if (path.indexOf(\"/pages/\") === 0) {\n",
       "                tab = document.querySelector(\"#nav-sandbox\");\n",
       "            } else if (path.indexOf(\"/login/\") === 0) {\n",
       "                tab = document.querySelector(\"#nav-login\");\n",
       "            }\n",
       "            tab.classList.add(\"active\")\n",
       "        </script>\n",
       "<style type=\"text/css\">\n",
       "            #footer, #site-nav {\n",
       "                display: none;\n",
       "            }\n",
       "        </style>\n",
       "<div class=\"row\">\n",
       "<div class=\"col-md-4 turtle-family-card\">\n",
       "<img class=\"turtle-image\" src=\"https://upload.wikimedia.org/wikipedia/commons/thumb/b/b3/Carettochelys_insculpta.jpg/200px-Carettochelys_insculpta.jpg\">\n",
       "<h3 class=\"family-name\">Carettochelyidae</h3>\n",
       "<a class=\"btn btn-default btn-xs\" href=\"/pages/frames/?frame=i&amp;family=Carettochelyidae\">Learn more →</a>\n",
       "</img></div>\n",
       "<div class=\"col-md-4 turtle-family-card\">\n",
       "<img class=\"turtle-image\" src=\"https://upload.wikimedia.org/wikipedia/commons/thumb/7/71/GreenSeaTurtle-2.jpg/200px-GreenSeaTurtle-2.jpg\"/>\n",
       "<h3 class=\"family-name\">Cheloniidae</h3>\n",
       "<a class=\"btn btn-default btn-xs\" href=\"/pages/frames/?frame=i&amp;family=Cheloniidae\">Learn more →</a>\n",
       "</div>\n",
       "<div class=\"col-md-4 turtle-family-card\">\n",
       "<img class=\"turtle-image\" src=\"https://upload.wikimedia.org/wikipedia/commons/thumb/8/88/Alligator_snapping_turtle.jpg/200px-Alligator_snapping_turtle.jpg\"/>\n",
       "<h3 class=\"family-name\">Chelydridae</h3>\n",
       "<a class=\"btn btn-default btn-xs\" href=\"/pages/frames/?frame=i&amp;family=Chelydridae\">Learn more →</a>\n",
       "</div>\n",
       "</div><!--.row-->\n",
       "<div class=\"row\">\n",
       "<div class=\"col-md-4 turtle-family-card\">\n",
       "<img class=\"turtle-image\" src=\"https://upload.wikimedia.org/wikipedia/commons/thumb/8/8a/Dermatemydidae.JPG/200px-Dermatemydidae.JPG\"/>\n",
       "<h3 class=\"family-name\">Dermatemydidae</h3>\n",
       "<a class=\"btn btn-default btn-xs\" href=\"/pages/frames/?frame=i&amp;family=Dermatemydidae\">Learn more →</a>\n",
       "</div>\n",
       "<div class=\"col-md-4 turtle-family-card\">\n",
       "<img class=\"turtle-image\" src=\"https://upload.wikimedia.org/wikipedia/commons/thumb/9/9b/LeatherbackTurtle.jpg/200px-LeatherbackTurtle.jpg\"/>\n",
       "<h3 class=\"family-name\">Dermochelyidae</h3>\n",
       "<a class=\"btn btn-default btn-xs\" href=\"/pages/frames/?frame=i&amp;family=Dermochelyidae\">Learn more →</a>\n",
       "</div>\n",
       "<div class=\"col-md-4 turtle-family-card\">\n",
       "<img class=\"turtle-image\" src=\"https://upload.wikimedia.org/wikipedia/commons/thumb/4/45/Tortoise1_cepolina.jpg/200px-Tortoise1_cepolina.jpg\"/>\n",
       "<h3 class=\"family-name\">Emydidae</h3>\n",
       "<a class=\"btn btn-default btn-xs\" href=\"/pages/frames/?frame=i&amp;family=Emydidae\">Learn more →</a>\n",
       "</div>\n",
       "</div><!--.row-->\n",
       "<div class=\"row\">\n",
       "<div class=\"col-md-4 turtle-family-card\">\n",
       "<img class=\"turtle-image\" src=\"https://upload.wikimedia.org/wikipedia/commons/thumb/f/f3/Cuora_amboinensis_kamaroma_j.jpg/200px-Cuora_amboinensis_kamaroma_j.jpg\"/>\n",
       "<h3 class=\"family-name\">Geoemydidae</h3>\n",
       "<a class=\"btn btn-default btn-xs\" href=\"/pages/frames/?frame=i&amp;family=Geoemydidae\">Learn more →</a>\n",
       "</div>\n",
       "<div class=\"col-md-4 turtle-family-card\">\n",
       "<img class=\"turtle-image\" src=\"https://upload.wikimedia.org/wikipedia/commons/thumb/5/5e/Sternotherus_odoratus.jpg/200px-Sternotherus_odoratus.jpg\"/>\n",
       "<h3 class=\"family-name\">Kinosternidae</h3>\n",
       "<a class=\"btn btn-default btn-xs\" href=\"/pages/frames/?frame=i&amp;family=Kinosternidae\">Learn more →</a>\n",
       "</div>\n",
       "<div class=\"col-md-4 turtle-family-card\">\n",
       "<img class=\"turtle-image\" src=\"https://upload.wikimedia.org/wikipedia/commons/thumb/7/79/Zolw_wielkoglowy.jpg/200px-Zolw_wielkoglowy.jpg\"/>\n",
       "<h3 class=\"family-name\">Platysternidae</h3>\n",
       "<a class=\"btn btn-default btn-xs\" href=\"/pages/frames/?frame=i&amp;family=Platysternidae\">Learn more →</a>\n",
       "</div>\n",
       "</div><!--.row-->\n",
       "<div class=\"row\">\n",
       "<div class=\"col-md-4 turtle-family-card\">\n",
       "<img class=\"turtle-image\" src=\"https://upload.wikimedia.org/wikipedia/commons/thumb/4/41/Tortoise.aldabra.750pix.jpg/200px-Tortoise.aldabra.750pix.jpg\"/>\n",
       "<h3 class=\"family-name\">Testudinidae</h3>\n",
       "<a class=\"btn btn-default btn-xs\" href=\"/pages/frames/?frame=i&amp;family=Testudinidae\">Learn more →</a>\n",
       "</div>\n",
       "<div class=\"col-md-4 turtle-family-card\">\n",
       "<img class=\"turtle-image\" src=\"https://upload.wikimedia.org/wikipedia/commons/thumb/3/39/Apalone_spinifera.jpg/200px-Apalone_spinifera.jpg\"/>\n",
       "<h3 class=\"family-name\">Trionychidae</h3>\n",
       "<a class=\"btn btn-default btn-xs\" href=\"/pages/frames/?frame=i&amp;family=Trionychidae\">Learn more →</a>\n",
       "</div>\n",
       "<div class=\"col-md-4 turtle-family-card\">\n",
       "<img class=\"turtle-image\" src=\"https://upload.wikimedia.org/wikipedia/commons/thumb/e/ec/Eastern_long_neck_tortoise_-_chelodina_longicollis.jpg/200px-Eastern_long_neck_tortoise_-_chelodina_longicollis.jpg\"/>\n",
       "<h3 class=\"family-name\">Chelidae</h3>\n",
       "<a class=\"btn btn-default btn-xs\" href=\"/pages/frames/?frame=i&amp;family=Chelidae\">Learn more →</a>\n",
       "</div>\n",
       "</div><!--.row-->\n",
       "<div class=\"row\">\n",
       "<div class=\"col-md-4 turtle-family-card\">\n",
       "<img class=\"turtle-image\" src=\"https://upload.wikimedia.org/wikipedia/commons/thumb/8/86/Pelomedusa_subrufa.JPG/200px-Pelomedusa_subrufa.JPG\"/>\n",
       "<h3 class=\"family-name\">Pelomedusidae</h3>\n",
       "<a class=\"btn btn-default btn-xs\" href=\"/pages/frames/?frame=i&amp;family=Pelomedusidae\">Learn more →</a>\n",
       "</div>\n",
       "<div class=\"col-md-4 turtle-family-card\">\n",
       "<img class=\"turtle-image\" src=\"https://upload.wikimedia.org/wikipedia/commons/thumb/5/5b/Erymnochelys_madagascariensis.jpg/200px-Erymnochelys_madagascariensis.jpg\"/>\n",
       "<h3 class=\"family-name\">Podocnemididae</h3>\n",
       "<a class=\"btn btn-default btn-xs\" href=\"/pages/frames/?frame=i&amp;family=Podocnemididae\">Learn more →</a>\n",
       "</div>\n",
       "</div><!--.row-->\n",
       "<section id=\"footer\">\n",
       "<div class=\"container\">\n",
       "<div class=\"row\">\n",
       "<div class=\"col-md-12 text-center text-muted\">\n",
       "                    Lessons and Videos © Hartley Brody 2023\n",
       "                </div><!--.col-->\n",
       "</div><!--.row-->\n",
       "</div><!--.container-->\n",
       "</section>\n",
       "</body>\n",
       "<script src=\"https://ajax.googleapis.com/ajax/libs/jquery/1.11.3/jquery.min.js\"></script>\n",
       "<script crossorigin=\"anonymous\" integrity=\"sha256-Sk3nkD6mLTMOF0EOpNtsIry+s1CsaqQC1rVLTAy+0yc= sha512-K1qjQ+NcF2TYO/eI3M6v8EiNYZfA95pQumfvcVrTHtwQVDG+aHRqLi/ETn2uB+1JqwYqVG3LIvdm9lj6imS/pQ==\" src=\"https://maxcdn.bootstrapcdn.com/bootstrap/3.3.5/js/bootstrap.min.js\"></script>\n",
       "<script src=\"https://cdnjs.cloudflare.com/ajax/libs/pnotify/2.1.0/pnotify.core.min.js\"></script>\n",
       "<link href=\"https://cdnjs.cloudflare.com/ajax/libs/pnotify/2.1.0/pnotify.core.min.css\" rel=\"stylesheet\" type=\"text/css\"/>\n",
       "<!-- pnotify messages -->\n",
       "<script type=\"text/javascript\">\n",
       "    \n",
       "    PNotify.prototype.options.styling = \"bootstrap3\";\n",
       "    $(function(){\n",
       "      \n",
       "    });\n",
       "    \n",
       "\n",
       "    $(function () {\n",
       "      $('[data-toggle=\"tooltip\"]').tooltip()\n",
       "    })\n",
       "  </script>\n",
       "<!-- golbal video controls -->\n",
       "<script type=\"text/javascript\">\n",
       "    $(\"video\").hover(function() {\n",
       "        $(this).prop(\"controls\", true);\n",
       "    }, function() {\n",
       "        $(this).prop(\"controls\", false);\n",
       "    });\n",
       "\n",
       "    $(\"video\").click(function() {\n",
       "        if( this.paused){\n",
       "            this.play();\n",
       "        }\n",
       "        else {\n",
       "            this.pause();\n",
       "        }\n",
       "    });\n",
       "    </script>\n",
       "<!-- insert google analytics here -->\n",
       "<script>\n",
       "    (function(i,s,o,g,r,a,m){i['GoogleAnalyticsObject']=r;i[r]=i[r]||function(){\n",
       "    (i[r].q=i[r].q||[]).push(arguments)},i[r].l=1*new Date();a=s.createElement(o),\n",
       "    m=s.getElementsByTagName(o)[0];a.async=1;a.src=g;m.parentNode.insertBefore(a,m)\n",
       "    })(window,document,'script','https://www.google-analytics.com/analytics.js','ga');\n",
       "\n",
       "    ga('create', 'UA-41551755-8', 'auto');\n",
       "    ga('send', 'pageview');\n",
       "  </script>\n",
       "<!-- Facebook Pixel Code -->\n",
       "<script>\n",
       "  !function(f,b,e,v,n,t,s){if(f.fbq)return;n=f.fbq=function(){n.callMethod?\n",
       "  n.callMethod.apply(n,arguments):n.queue.push(arguments)};if(!f._fbq)f._fbq=n;\n",
       "  n.push=n;n.loaded=!0;n.version='2.0';n.queue=[];t=b.createElement(e);t.async=!0;\n",
       "  t.src=v;s=b.getElementsByTagName(e)[0];s.parentNode.insertBefore(t,s)}(window,\n",
       "  document,'script','https://connect.facebook.net/en_US/fbevents.js');\n",
       "\n",
       "  fbq('init', '764287443701341');\n",
       "  fbq('track', \"PageView\");</script>\n",
       "<noscript><img height=\"1\" src=\"https://www.facebook.com/tr?id=764287443701341&amp;ev=PageView&amp;noscript=1\" style=\"display:none\" width=\"1\"/></noscript>\n",
       "<!-- End Facebook Pixel Code -->\n",
       "<!-- Google Code for Remarketing Tag -->\n",
       "<script type=\"text/javascript\">\n",
       "    /* <![CDATA[ */\n",
       "    var google_conversion_id = 950945448;\n",
       "    var google_custom_params = window.google_tag_params;\n",
       "    var google_remarketing_only = true;\n",
       "    /* ]]> */\n",
       "    </script>\n",
       "<script src=\"//www.googleadservices.com/pagead/conversion.js\" type=\"text/javascript\">\n",
       "</script>\n",
       "<noscript>\n",
       "<div style=\"display:inline;\">\n",
       "<img alt=\"\" height=\"1\" src=\"//googleads.g.doubleclick.net/pagead/viewthroughconversion/950945448/?guid=ON&amp;script=0\" style=\"border-style:none;\" width=\"1\"/>\n",
       "</div>\n",
       "</noscript>\n",
       "<!-- Global site tag (gtag.js) - Google AdWords: 950945448 -->\n",
       "<script async=\"\" src=\"https://www.googletagmanager.com/gtag/js?id=AW-950945448\"></script>\n",
       "<script>\n",
       "   window.dataLayer = window.dataLayer || [];\n",
       "   function gtag(){dataLayer.push(arguments);}\n",
       "   gtag('js', new Date());\n",
       "\n",
       "   gtag('config', 'AW-950945448');\n",
       "  </script>\n",
       "</html>"
      ]
     },
     "execution_count": 567,
     "metadata": {},
     "output_type": "execute_result"
    }
   ],
   "source": [
    "new_soup = BeautifulSoup(new_response.text, 'html.parser')\n",
    "new_soup"
   ]
  },
  {
   "cell_type": "code",
   "execution_count": 568,
   "id": "fea207d3",
   "metadata": {},
   "outputs": [
    {
     "name": "stdout",
     "output_type": "stream",
     "text": [
      "scarpping page:  https://www.scrapethissite.com/pages/frames/?frame=i\n",
      "turtle name: Carettochelyidae\n",
      "turtle name: Cheloniidae\n",
      "turtle name: Chelydridae\n",
      "turtle name: Dermatemydidae\n",
      "turtle name: Dermochelyidae\n",
      "turtle name: Emydidae\n",
      "turtle name: Geoemydidae\n",
      "turtle name: Kinosternidae\n",
      "turtle name: Platysternidae\n",
      "turtle name: Testudinidae\n",
      "turtle name: Trionychidae\n",
      "turtle name: Chelidae\n",
      "turtle name: Pelomedusidae\n",
      "turtle name: Podocnemididae\n",
      "species: Pig-nosed turtle\n",
      "age: 1887\n",
      "turtle_discover: Boulenger.\n",
      "species: Sea turtles\n",
      "age: 1811\n",
      "turtle_discover: Oppel.\n",
      "species: Snapping turtles\n",
      "age: 1831\n",
      "turtle_discover: Gray.\n",
      "species: Central American river turtle\n",
      "age: 1870\n",
      "turtle_discover: Gray.\n",
      "species: Leatherback sea turtle\n",
      "age: 1843\n",
      "turtle_discover: Fitzinger.\n",
      "species: Pond or water turtles\n",
      "age: 1815\n",
      "turtle_discover: Rafinesque.\n",
      "species: Asian river, leaf, roofed or Asian box turtles\n",
      "age: 1868\n",
      "turtle_discover: Theobald.\n",
      "species: Mud or musk turtles\n",
      "age: 1857\n",
      "turtle_discover: Agassiz.\n",
      "species: Big-headed turtle\n",
      "age: 1869\n",
      "turtle_discover: Gray.\n",
      "species: Tortoises\n",
      "age: 1788\n",
      "turtle_discover: Batsch.\n",
      "species: Softshell turtles\n",
      "age: 1826\n",
      "turtle_discover: Fitzinger.\n",
      "species: Austro-American sideneck turtles\n",
      "age: 1831\n",
      "turtle_discover: Gray.\n",
      "species: Afro-American sideneck turtles\n",
      "age: 1868\n",
      "turtle_discover: Cope.\n",
      "species: Madagascar big-headed, Big-headed Amazon River turtle and South American sideneck river turtles\n",
      "age: 1869\n",
      "turtle_discover: Gray.\n",
      "scarpping page:  https://www.scrapethissite.com/pages/frames/?frame=i&family=Podocnemididae\n",
      "no turtle found!\n"
     ]
    }
   ],
   "source": [
    "turtles_name =[]\n",
    "all_turtles =[]\n",
    "while True:\n",
    "    print(\"scarpping page: \", current_page_url)\n",
    "    try:\n",
    "        new_response = requests.get(current_page_url)\n",
    "        new_response.raise_for_status()\n",
    "    except requests.exceptions.RequestException as e:\n",
    "        print(f\"error fetching page {current_page_url}: {e}\")\n",
    "        break\n",
    "    new_soup = BeautifulSoup(new_response.text, 'html.parser')\n",
    "    turtls = new_soup.select('div.col-md-4')\n",
    "\n",
    "    if not turtls:\n",
    "        print(\"no turtle found!\")\n",
    "        break\n",
    "    for i in turtls:\n",
    "        turtle_name = i.find('h3',class_='family-name').text\n",
    "        print(f\"turtle name: {turtle_name}\")\n",
    "        all_turtles_dict = {'Turtle_name': turtle_name}\n",
    "        turtles_name.append(all_turtles_dict)\n",
    "    learn_more_btn = new_soup.find_all('a', class_='btn')\n",
    "    if learn_more_btn:\n",
    "        for i in learn_more_btn:\n",
    "            learn_more_url = i.attrs['href']\n",
    "            current_page_url = requests.compat.urljoin(current_page_url, learn_more_url)\n",
    "            r = requests.get(current_page_url)\n",
    "            s = BeautifulSoup(r.text, 'html.parser')\n",
    "            d = s.select('div.col-md-6')\n",
    "            for i in d:\n",
    "                species = i.find('p').strong.text.strip()\n",
    "                year_found = i.find('p').text.split()[-3]\n",
    "                turtle_discover = i.find('p').text.split()[-1]\n",
    "                print(f\"species: {species}\")\n",
    "                print(f\"age: {year_found}\")\n",
    "                print(f\"turtle_discover: {turtle_discover}\")\n",
    "                dict2 = {'species':species, 'year_found':year_found, 'turtle_discover':turtle_discover}\n",
    "                all_turtles.append(dict2)\n",
    "    else:\n",
    "        print(\"no learn more button found!\")\n",
    "        break"
   ]
  },
  {
   "cell_type": "code",
   "execution_count": 569,
   "id": "4c0fa9cd",
   "metadata": {},
   "outputs": [
    {
     "data": {
      "text/plain": [
       "[{'species': 'Pig-nosed turtle',\n",
       "  'year_found': '1887',\n",
       "  'turtle_discover': 'Boulenger.'},\n",
       " {'species': 'Sea turtles', 'year_found': '1811', 'turtle_discover': 'Oppel.'},\n",
       " {'species': 'Snapping turtles',\n",
       "  'year_found': '1831',\n",
       "  'turtle_discover': 'Gray.'},\n",
       " {'species': 'Central American river turtle',\n",
       "  'year_found': '1870',\n",
       "  'turtle_discover': 'Gray.'},\n",
       " {'species': 'Leatherback sea turtle',\n",
       "  'year_found': '1843',\n",
       "  'turtle_discover': 'Fitzinger.'},\n",
       " {'species': 'Pond or water turtles',\n",
       "  'year_found': '1815',\n",
       "  'turtle_discover': 'Rafinesque.'},\n",
       " {'species': 'Asian river, leaf, roofed or Asian box turtles',\n",
       "  'year_found': '1868',\n",
       "  'turtle_discover': 'Theobald.'},\n",
       " {'species': 'Mud or musk turtles',\n",
       "  'year_found': '1857',\n",
       "  'turtle_discover': 'Agassiz.'},\n",
       " {'species': 'Big-headed turtle',\n",
       "  'year_found': '1869',\n",
       "  'turtle_discover': 'Gray.'},\n",
       " {'species': 'Tortoises', 'year_found': '1788', 'turtle_discover': 'Batsch.'},\n",
       " {'species': 'Softshell turtles',\n",
       "  'year_found': '1826',\n",
       "  'turtle_discover': 'Fitzinger.'},\n",
       " {'species': 'Austro-American sideneck turtles',\n",
       "  'year_found': '1831',\n",
       "  'turtle_discover': 'Gray.'},\n",
       " {'species': 'Afro-American sideneck turtles',\n",
       "  'year_found': '1868',\n",
       "  'turtle_discover': 'Cope.'},\n",
       " {'species': 'Madagascar big-headed, Big-headed Amazon River turtle and South American sideneck river turtles',\n",
       "  'year_found': '1869',\n",
       "  'turtle_discover': 'Gray.'}]"
      ]
     },
     "execution_count": 569,
     "metadata": {},
     "output_type": "execute_result"
    }
   ],
   "source": [
    "all_turtles"
   ]
  },
  {
   "cell_type": "code",
   "execution_count": 586,
   "id": "e40af7f2",
   "metadata": {},
   "outputs": [],
   "source": [
    "df1 = pd.DataFrame(turtles_name)\n",
    "df2 = pd.DataFrame(all_turtles)"
   ]
  },
  {
   "cell_type": "code",
   "execution_count": 593,
   "id": "882e394d",
   "metadata": {},
   "outputs": [],
   "source": [
    "df = pd.concat([df1,df2], axis=1)"
   ]
  },
  {
   "cell_type": "code",
   "execution_count": 594,
   "id": "a1776603",
   "metadata": {},
   "outputs": [
    {
     "data": {
      "text/plain": [
       "np.int64(0)"
      ]
     },
     "execution_count": 594,
     "metadata": {},
     "output_type": "execute_result"
    }
   ],
   "source": [
    "df.duplicated().sum()"
   ]
  },
  {
   "cell_type": "code",
   "execution_count": 595,
   "id": "25224914",
   "metadata": {},
   "outputs": [
    {
     "name": "stdout",
     "output_type": "stream",
     "text": [
      "<class 'pandas.core.frame.DataFrame'>\n",
      "RangeIndex: 14 entries, 0 to 13\n",
      "Data columns (total 4 columns):\n",
      " #   Column           Non-Null Count  Dtype \n",
      "---  ------           --------------  ----- \n",
      " 0   Turtle_name      14 non-null     object\n",
      " 1   species          14 non-null     object\n",
      " 2   year_found       14 non-null     object\n",
      " 3   turtle_discover  14 non-null     object\n",
      "dtypes: object(4)\n",
      "memory usage: 580.0+ bytes\n"
     ]
    }
   ],
   "source": [
    "df.info()"
   ]
  },
  {
   "cell_type": "code",
   "execution_count": 596,
   "id": "1729b7fc",
   "metadata": {},
   "outputs": [],
   "source": [
    "df = df.astype({'year_found':int})"
   ]
  },
  {
   "cell_type": "code",
   "execution_count": 597,
   "id": "71271b6c",
   "metadata": {},
   "outputs": [
    {
     "data": {
      "text/plain": [
       "Turtle_name        object\n",
       "species            object\n",
       "year_found          int64\n",
       "turtle_discover    object\n",
       "dtype: object"
      ]
     },
     "execution_count": 597,
     "metadata": {},
     "output_type": "execute_result"
    }
   ],
   "source": [
    "df.dtypes"
   ]
  },
  {
   "cell_type": "code",
   "execution_count": null,
   "id": "067239c1",
   "metadata": {},
   "outputs": [],
   "source": []
  }
 ],
 "metadata": {
  "kernelspec": {
   "display_name": "Python 3",
   "language": "python",
   "name": "python3"
  },
  "language_info": {
   "codemirror_mode": {
    "name": "ipython",
    "version": 3
   },
   "file_extension": ".py",
   "mimetype": "text/x-python",
   "name": "python",
   "nbconvert_exporter": "python",
   "pygments_lexer": "ipython3",
   "version": "3.13.3"
  }
 },
 "nbformat": 4,
 "nbformat_minor": 5
}
