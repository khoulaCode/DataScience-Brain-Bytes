{
 "cells": [
  {
   "cell_type": "markdown",
   "id": "cdcc4095-ad0d-48b5-8846-56492498ef67",
   "metadata": {},
   "source": [
    "Data Preprocessing\n",
    "Load dataset and filter categories.\n",
    "Balance dataset (1000 per category).\n",
    "Keep only headline and category."
   ]
  },
  {
   "cell_type": "code",
   "execution_count": 11,
   "id": "c3822c07-605a-4ce7-88be-18768260d084",
   "metadata": {},
   "outputs": [],
   "source": [
    "import pandas as pd\n",
    "from sklearn.feature_extraction.text import TfidfVectorizer\n",
    "from sklearn.metrics.pairwise import cosine_similarity\n",
    "import numpy as np"
   ]
  },
  {
   "cell_type": "code",
   "execution_count": 2,
   "id": "8194b713-1990-4bd8-9d0e-55f9674c7669",
   "metadata": {},
   "outputs": [
    {
     "data": {
      "text/html": [
       "<div>\n",
       "<style scoped>\n",
       "    .dataframe tbody tr th:only-of-type {\n",
       "        vertical-align: middle;\n",
       "    }\n",
       "\n",
       "    .dataframe tbody tr th {\n",
       "        vertical-align: top;\n",
       "    }\n",
       "\n",
       "    .dataframe thead th {\n",
       "        text-align: right;\n",
       "    }\n",
       "</style>\n",
       "<table border=\"1\" class=\"dataframe\">\n",
       "  <thead>\n",
       "    <tr style=\"text-align: right;\">\n",
       "      <th></th>\n",
       "      <th>link</th>\n",
       "      <th>headline</th>\n",
       "      <th>category</th>\n",
       "      <th>short_description</th>\n",
       "      <th>authors</th>\n",
       "      <th>date</th>\n",
       "    </tr>\n",
       "  </thead>\n",
       "  <tbody>\n",
       "    <tr>\n",
       "      <th>0</th>\n",
       "      <td>https://www.huffpost.com/entry/covid-boosters-...</td>\n",
       "      <td>Over 4 Million Americans Roll Up Sleeves For O...</td>\n",
       "      <td>U.S. NEWS</td>\n",
       "      <td>Health experts said it is too early to predict...</td>\n",
       "      <td>Carla K. Johnson, AP</td>\n",
       "      <td>2022-09-23</td>\n",
       "    </tr>\n",
       "    <tr>\n",
       "      <th>1</th>\n",
       "      <td>https://www.huffpost.com/entry/american-airlin...</td>\n",
       "      <td>American Airlines Flyer Charged, Banned For Li...</td>\n",
       "      <td>U.S. NEWS</td>\n",
       "      <td>He was subdued by passengers and crew when he ...</td>\n",
       "      <td>Mary Papenfuss</td>\n",
       "      <td>2022-09-23</td>\n",
       "    </tr>\n",
       "    <tr>\n",
       "      <th>2</th>\n",
       "      <td>https://www.huffpost.com/entry/funniest-tweets...</td>\n",
       "      <td>23 Of The Funniest Tweets About Cats And Dogs ...</td>\n",
       "      <td>COMEDY</td>\n",
       "      <td>\"Until you have a dog you don't understand wha...</td>\n",
       "      <td>Elyse Wanshel</td>\n",
       "      <td>2022-09-23</td>\n",
       "    </tr>\n",
       "    <tr>\n",
       "      <th>3</th>\n",
       "      <td>https://www.huffpost.com/entry/funniest-parent...</td>\n",
       "      <td>The Funniest Tweets From Parents This Week (Se...</td>\n",
       "      <td>PARENTING</td>\n",
       "      <td>\"Accidentally put grown-up toothpaste on my to...</td>\n",
       "      <td>Caroline Bologna</td>\n",
       "      <td>2022-09-23</td>\n",
       "    </tr>\n",
       "    <tr>\n",
       "      <th>4</th>\n",
       "      <td>https://www.huffpost.com/entry/amy-cooper-lose...</td>\n",
       "      <td>Woman Who Called Cops On Black Bird-Watcher Lo...</td>\n",
       "      <td>U.S. NEWS</td>\n",
       "      <td>Amy Cooper accused investment firm Franklin Te...</td>\n",
       "      <td>Nina Golgowski</td>\n",
       "      <td>2022-09-22</td>\n",
       "    </tr>\n",
       "  </tbody>\n",
       "</table>\n",
       "</div>"
      ],
      "text/plain": [
       "                                                link  \\\n",
       "0  https://www.huffpost.com/entry/covid-boosters-...   \n",
       "1  https://www.huffpost.com/entry/american-airlin...   \n",
       "2  https://www.huffpost.com/entry/funniest-tweets...   \n",
       "3  https://www.huffpost.com/entry/funniest-parent...   \n",
       "4  https://www.huffpost.com/entry/amy-cooper-lose...   \n",
       "\n",
       "                                            headline   category  \\\n",
       "0  Over 4 Million Americans Roll Up Sleeves For O...  U.S. NEWS   \n",
       "1  American Airlines Flyer Charged, Banned For Li...  U.S. NEWS   \n",
       "2  23 Of The Funniest Tweets About Cats And Dogs ...     COMEDY   \n",
       "3  The Funniest Tweets From Parents This Week (Se...  PARENTING   \n",
       "4  Woman Who Called Cops On Black Bird-Watcher Lo...  U.S. NEWS   \n",
       "\n",
       "                                   short_description               authors  \\\n",
       "0  Health experts said it is too early to predict...  Carla K. Johnson, AP   \n",
       "1  He was subdued by passengers and crew when he ...        Mary Papenfuss   \n",
       "2  \"Until you have a dog you don't understand wha...         Elyse Wanshel   \n",
       "3  \"Accidentally put grown-up toothpaste on my to...      Caroline Bologna   \n",
       "4  Amy Cooper accused investment firm Franklin Te...        Nina Golgowski   \n",
       "\n",
       "        date  \n",
       "0 2022-09-23  \n",
       "1 2022-09-23  \n",
       "2 2022-09-23  \n",
       "3 2022-09-23  \n",
       "4 2022-09-22  "
      ]
     },
     "execution_count": 2,
     "metadata": {},
     "output_type": "execute_result"
    }
   ],
   "source": [
    "df = pd.read_json('News_Category_Dataset_v3.json', lines=True)\n",
    "df.head()"
   ]
  },
  {
   "cell_type": "markdown",
   "id": "594c1ae6-7ffb-4c2c-baeb-a9bb0d456115",
   "metadata": {},
   "source": [
    "Keep only the four categories: POLITICS, TRAVEL, SPORTS, HOME & LIVING."
   ]
  },
  {
   "cell_type": "code",
   "execution_count": 5,
   "id": "d8492ebc-a225-4f16-afc5-11ca8beeb2c9",
   "metadata": {},
   "outputs": [],
   "source": [
    "categories = ['POLITICS', 'TRAVEL', 'SPORTS', 'HOME & LIVING']\n",
    "filter_by_categories = df[df['category'].isin(categories)][['headline', 'category']]"
   ]
  },
  {
   "cell_type": "markdown",
   "id": "b8411eb8-eaf0-4c77-8d9e-e5c12ef9bd5b",
   "metadata": {},
   "source": [
    "Balance dataset: 1000 per category"
   ]
  },
  {
   "cell_type": "code",
   "execution_count": 8,
   "id": "00a5ae45-ad8c-4bc8-9917-0727da130d15",
   "metadata": {
    "scrolled": true
   },
   "outputs": [
    {
     "name": "stdout",
     "output_type": "stream",
     "text": [
      "category\n",
      "HOME & LIVING    1000\n",
      "POLITICS         1000\n",
      "SPORTS           1000\n",
      "TRAVEL           1000\n",
      "Name: count, dtype: int64\n"
     ]
    },
    {
     "name": "stderr",
     "output_type": "stream",
     "text": [
      "C:\\Users\\bbuser\\AppData\\Local\\Temp\\ipykernel_12180\\3354968595.py:1: DeprecationWarning: DataFrameGroupBy.apply operated on the grouping columns. This behavior is deprecated, and in a future version of pandas the grouping columns will be excluded from the operation. Either pass `include_groups=False` to exclude the groupings or explicitly select the grouping columns after groupby to silence this warning.\n",
      "  balanced = filter_by_categories.groupby('category').apply(lambda x: x.sample(1000, random_state=42)).reset_index(drop=True)\n"
     ]
    },
    {
     "data": {
      "text/html": [
       "<div>\n",
       "<style scoped>\n",
       "    .dataframe tbody tr th:only-of-type {\n",
       "        vertical-align: middle;\n",
       "    }\n",
       "\n",
       "    .dataframe tbody tr th {\n",
       "        vertical-align: top;\n",
       "    }\n",
       "\n",
       "    .dataframe thead th {\n",
       "        text-align: right;\n",
       "    }\n",
       "</style>\n",
       "<table border=\"1\" class=\"dataframe\">\n",
       "  <thead>\n",
       "    <tr style=\"text-align: right;\">\n",
       "      <th></th>\n",
       "      <th>headline</th>\n",
       "      <th>category</th>\n",
       "    </tr>\n",
       "  </thead>\n",
       "  <tbody>\n",
       "    <tr>\n",
       "      <th>0</th>\n",
       "      <td>Busiest Shipping Day Of The Year Is Today, Ann...</td>\n",
       "      <td>HOME &amp; LIVING</td>\n",
       "    </tr>\n",
       "    <tr>\n",
       "      <th>1</th>\n",
       "      <td>What To Watch On Netflix That’s New This Week ...</td>\n",
       "      <td>HOME &amp; LIVING</td>\n",
       "    </tr>\n",
       "    <tr>\n",
       "      <th>2</th>\n",
       "      <td>Repurposing Idea Shows You How To Organize Hai...</td>\n",
       "      <td>HOME &amp; LIVING</td>\n",
       "    </tr>\n",
       "    <tr>\n",
       "      <th>3</th>\n",
       "      <td>Company Buys $8000 Horse Lamp By Front Design ...</td>\n",
       "      <td>HOME &amp; LIVING</td>\n",
       "    </tr>\n",
       "    <tr>\n",
       "      <th>4</th>\n",
       "      <td>Renovate for Rent</td>\n",
       "      <td>HOME &amp; LIVING</td>\n",
       "    </tr>\n",
       "    <tr>\n",
       "      <th>5</th>\n",
       "      <td>A Floating Log Cabin That Combines Tiny Home L...</td>\n",
       "      <td>HOME &amp; LIVING</td>\n",
       "    </tr>\n",
       "    <tr>\n",
       "      <th>6</th>\n",
       "      <td>Organize Your Life: Use FireFox's MeeTimer To ...</td>\n",
       "      <td>HOME &amp; LIVING</td>\n",
       "    </tr>\n",
       "    <tr>\n",
       "      <th>7</th>\n",
       "      <td>How To Remove Gum From Shoes With Peanut Butter</td>\n",
       "      <td>HOME &amp; LIVING</td>\n",
       "    </tr>\n",
       "    <tr>\n",
       "      <th>8</th>\n",
       "      <td>Homemade Gift Ideas: Neon Paint Splattered Umb...</td>\n",
       "      <td>HOME &amp; LIVING</td>\n",
       "    </tr>\n",
       "    <tr>\n",
       "      <th>9</th>\n",
       "      <td>Porsha Williams, Kordell Stewart Divorce Repor...</td>\n",
       "      <td>HOME &amp; LIVING</td>\n",
       "    </tr>\n",
       "    <tr>\n",
       "      <th>10</th>\n",
       "      <td>The Words of the \"Dream\" Can Never Be Enough</td>\n",
       "      <td>HOME &amp; LIVING</td>\n",
       "    </tr>\n",
       "    <tr>\n",
       "      <th>11</th>\n",
       "      <td>Memorial Day Sales 2012: Home Decor And Outdoo...</td>\n",
       "      <td>HOME &amp; LIVING</td>\n",
       "    </tr>\n",
       "  </tbody>\n",
       "</table>\n",
       "</div>"
      ],
      "text/plain": [
       "                                             headline       category\n",
       "0   Busiest Shipping Day Of The Year Is Today, Ann...  HOME & LIVING\n",
       "1   What To Watch On Netflix That’s New This Week ...  HOME & LIVING\n",
       "2   Repurposing Idea Shows You How To Organize Hai...  HOME & LIVING\n",
       "3   Company Buys $8000 Horse Lamp By Front Design ...  HOME & LIVING\n",
       "4                                   Renovate for Rent  HOME & LIVING\n",
       "5   A Floating Log Cabin That Combines Tiny Home L...  HOME & LIVING\n",
       "6   Organize Your Life: Use FireFox's MeeTimer To ...  HOME & LIVING\n",
       "7     How To Remove Gum From Shoes With Peanut Butter  HOME & LIVING\n",
       "8   Homemade Gift Ideas: Neon Paint Splattered Umb...  HOME & LIVING\n",
       "9   Porsha Williams, Kordell Stewart Divorce Repor...  HOME & LIVING\n",
       "10       The Words of the \"Dream\" Can Never Be Enough  HOME & LIVING\n",
       "11  Memorial Day Sales 2012: Home Decor And Outdoo...  HOME & LIVING"
      ]
     },
     "execution_count": 8,
     "metadata": {},
     "output_type": "execute_result"
    }
   ],
   "source": [
    "balanced = filter_by_categories.groupby('category').apply(lambda x: x.sample(1000, random_state=42)).reset_index(drop=True)\n",
    "print(balanced['category'].value_counts())\n",
    "balanced.head(12)"
   ]
  },
  {
   "cell_type": "markdown",
   "id": "9408024f-3f52-41b3-b0f4-befa81abaf43",
   "metadata": {},
   "source": [
    "Use TF-IDF vectorization on the article headlines.\n",
    "Build a searchable vector space for the 4000 headlines"
   ]
  },
  {
   "cell_type": "code",
   "execution_count": 10,
   "id": "6d65de8b-a4f4-4380-929f-51aac5c6f15a",
   "metadata": {},
   "outputs": [
    {
     "data": {
      "text/plain": [
       "(4000, 8302)"
      ]
     },
     "execution_count": 10,
     "metadata": {},
     "output_type": "execute_result"
    }
   ],
   "source": [
    "vectorizer = TfidfVectorizer(stop_words='english')\n",
    "x = vectorizer.fit_transform(balanced['headline'])\n",
    "x.shape"
   ]
  },
  {
   "cell_type": "markdown",
   "id": "05607418-0ed2-4b19-be35-e840ad61acf4",
   "metadata": {},
   "source": [
    "Search Implementation\n",
    "Accept user queries.\n",
    "Transform query into TF-IDF vector.\n",
    "Compute cosine similarity with all article vectors.\n",
    "Return top 10 results."
   ]
  },
  {
   "cell_type": "code",
   "execution_count": 12,
   "id": "f00a3ccc-d877-4025-a6c0-45b3807cfb77",
   "metadata": {},
   "outputs": [],
   "source": [
    "def search_headlines(query, top_k=10):\n",
    "    query_vector = vectorizer.transform([query])\n",
    "    similarities = cosine_similarity(query_vector, x)[0]\n",
    "    top_idx = np.argsort(similarities)[::-1][:top_k]\n",
    "    results = []\n",
    "    for idx in top_idx:\n",
    "        results.append({\n",
    "            'headline': balanced.iloc[idx]['headline'],\n",
    "            'category': balanced.iloc[idx]['category'],\n",
    "            'score': similarities[idx]\n",
    "        })\n",
    "    return results"
   ]
  },
  {
   "cell_type": "markdown",
   "id": "702d5b61-0161-47a1-a0e2-d4caed825137",
   "metadata": {},
   "source": [
    "User Experience\n",
    "Results should include:\n",
    "Headline text\n",
    "Category label\n",
    "Similarity score\n",
    "Results should be clearly ranked."
   ]
  },
  {
   "cell_type": "code",
   "execution_count": 14,
   "id": "db676d24-4287-425a-961f-a86f61a36e44",
   "metadata": {},
   "outputs": [
    {
     "name": "stdout",
     "output_type": "stream",
     "text": [
      "Top 10 results for: 'Over 4 Million Americans Roll Up Sleeves For Omicron-Targeted COVID Boosters'\n",
      "\n",
      "1. [POLITICS] 3.7 Million Americans Would Lose Food Stamps Under Trump Administration Rules: Study\n",
      "   Similarity Score: 0.236\n",
      "\n",
      "2. [TRAVEL] New Orleans: Where the Good Times Roll All Year Long\n",
      "   Similarity Score: 0.215\n",
      "\n",
      "3. [POLITICS] Wisconsin, 20 Other U.S. States Targeted By Russian Hackers In 2016 Election\n",
      "   Similarity Score: 0.204\n",
      "\n",
      "4. [POLITICS] Ohio Girl's Abortion Doctor Once Targeted In Vicious Kidnapping Threat: Report\n",
      "   Similarity Score: 0.183\n",
      "\n",
      "5. [POLITICS] Trump Could Roll Back Decades Of Progress That Made Immigrant Detention More Humane\n",
      "   Similarity Score: 0.182\n",
      "\n",
      "6. [POLITICS] Americans Are Now More Worried About Health Care Than Anything Else\n",
      "   Similarity Score: 0.180\n",
      "\n",
      "7. [TRAVEL] Way Too Many Americans Didn't Take Enough Vacation Days Last Year\n",
      "   Similarity Score: 0.164\n",
      "\n",
      "8. [POLITICS] Two Books Bill O'Reilly--and all Americans--Should Read\n",
      "   Similarity Score: 0.160\n",
      "\n",
      "9. [POLITICS] Trump DOJ Targets Democratic Governors For COVID-19 Outbreaks In Veterans Homes\n",
      "   Similarity Score: 0.160\n",
      "\n",
      "10. [SPORTS] Swimmer Wins Tokyo Olympics Gold After Beating COVID-19 Twice In 5 Months\n",
      "   Similarity Score: 0.159\n",
      "\n"
     ]
    }
   ],
   "source": [
    "user_query = \"Over 4 Million Americans Roll Up Sleeves For Omicron-Targeted COVID Boosters\"\n",
    "results = search_headlines(user_query)\n",
    "print(f\"Top 10 results for: '{user_query}'\\n\")\n",
    "for i, res in enumerate(results, 1):\n",
    "    print(f\"{i}. [{res['category']}] {res['headline']}\")\n",
    "    print(f\"   Similarity Score: {res['score']:.3f}\\n\")"
   ]
  },
  {
   "cell_type": "code",
   "execution_count": null,
   "id": "6e28ad73-b4cc-44b0-bc9a-da9955b1d4f8",
   "metadata": {},
   "outputs": [],
   "source": []
  }
 ],
 "metadata": {
  "kernelspec": {
   "display_name": "Python [conda env:base] *",
   "language": "python",
   "name": "conda-base-py"
  },
  "language_info": {
   "codemirror_mode": {
    "name": "ipython",
    "version": 3
   },
   "file_extension": ".py",
   "mimetype": "text/x-python",
   "name": "python",
   "nbconvert_exporter": "python",
   "pygments_lexer": "ipython3",
   "version": "3.13.5"
  }
 },
 "nbformat": 4,
 "nbformat_minor": 5
}
