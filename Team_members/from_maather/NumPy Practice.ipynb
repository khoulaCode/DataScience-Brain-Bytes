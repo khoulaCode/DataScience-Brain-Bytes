{
 "cells": [
  {
   "cell_type": "markdown",
   "id": "3a93a6a2-fa87-4f4d-946a-6547cfaaf76d",
   "metadata": {},
   "source": [
    "# NumPy Practice"
   ]
  },
  {
   "cell_type": "code",
   "execution_count": 2,
   "id": "c1c9ed2a-f0fb-42df-9feb-c3f185b349ab",
   "metadata": {},
   "outputs": [],
   "source": [
    "import numpy as np"
   ]
  },
  {
   "cell_type": "markdown",
   "id": "777d6ed2-016c-4442-a2d2-c0d87e23b5b9",
   "metadata": {},
   "source": [
    "#### part 1 : \n",
    "###### Create a 1D array named arr1d with integers from 0 to 9."
   ]
  },
  {
   "cell_type": "code",
   "execution_count": 4,
   "id": "f8650f27-c58a-4b81-af1b-0f01841c88fc",
   "metadata": {},
   "outputs": [
    {
     "data": {
      "text/plain": [
       "array([0, 1, 2, 3, 4, 5, 6, 7, 8, 9])"
      ]
     },
     "execution_count": 4,
     "metadata": {},
     "output_type": "execute_result"
    }
   ],
   "source": [
    "arr1d = np.arange(0,10)\n",
    "arr1d"
   ]
  },
  {
   "cell_type": "markdown",
   "id": "5511b4b5-e0c0-4a56-bcb2-06c90e3fc844",
   "metadata": {},
   "source": [
    "###### Create a 2D array named arr2d with shape (3, 3) filled with ones."
   ]
  },
  {
   "cell_type": "code",
   "execution_count": 5,
   "id": "3b455b3e-a0ba-41ce-af38-f14a702122b3",
   "metadata": {},
   "outputs": [
    {
     "data": {
      "text/plain": [
       "array([[1., 1., 1.],\n",
       "       [1., 1., 1.],\n",
       "       [1., 1., 1.]])"
      ]
     },
     "execution_count": 5,
     "metadata": {},
     "output_type": "execute_result"
    }
   ],
   "source": [
    "arr2d = np.ones ((3,3))\n",
    "arr2d"
   ]
  },
  {
   "cell_type": "markdown",
   "id": "9b09ed76-8892-4899-a6a8-14827b2487e7",
   "metadata": {},
   "source": [
    "###### Create a 3x3 array named random_matrix with random floating-point numbers from a standard normal distribution."
   ]
  },
  {
   "cell_type": "code",
   "execution_count": 7,
   "id": "8ffe0c0b-cd38-436b-a6c9-8dbfe68b3502",
   "metadata": {},
   "outputs": [
    {
     "data": {
      "text/plain": [
       "array([[ 1.07257826,  1.01804696,  1.01756432],\n",
       "       [ 0.40500576, -0.88618305, -0.18244006],\n",
       "       [-1.13770712, -0.63818186,  1.0154555 ]])"
      ]
     },
     "execution_count": 7,
     "metadata": {},
     "output_type": "execute_result"
    }
   ],
   "source": [
    "random_matrix = np.random.randn (3,3) # this is for random distribution \n",
    "random_matrix"
   ]
  },
  {
   "cell_type": "markdown",
   "id": "50d72028-37fc-4059-b2bc-1523f7100d7d",
   "metadata": {},
   "source": [
    "###### Create an array named even_numbers containing even numbers from 10 to 50 (inclusive)."
   ]
  },
  {
   "cell_type": "code",
   "execution_count": 9,
   "id": "4c903a8c-45a3-4e65-a3e7-4aa5128647f1",
   "metadata": {},
   "outputs": [
    {
     "data": {
      "text/plain": [
       "array([10, 12, 14, 16, 18, 20, 22, 24, 26, 28, 30, 32, 34, 36, 38, 40, 42,\n",
       "       44, 46, 48, 50])"
      ]
     },
     "execution_count": 9,
     "metadata": {},
     "output_type": "execute_result"
    }
   ],
   "source": [
    "even_numbers = np.arange(10,51,2)\n",
    "even_numbers"
   ]
  },
  {
   "cell_type": "markdown",
   "id": "2a1b4876-5f86-4a51-b1c1-984ac38d4e28",
   "metadata": {},
   "source": [
    "###### Create an array named linspace_array containing 7 equally spaced numbers between 0 and 1 (inclusive)."
   ]
  },
  {
   "cell_type": "code",
   "execution_count": 10,
   "id": "cad0c290-e1df-4d8b-9d4c-5289f2210efa",
   "metadata": {},
   "outputs": [
    {
     "data": {
      "text/plain": [
       "array([0.        , 0.16666667, 0.33333333, 0.5       , 0.66666667,\n",
       "       0.83333333, 1.        ])"
      ]
     },
     "execution_count": 10,
     "metadata": {},
     "output_type": "execute_result"
    }
   ],
   "source": [
    "linspace_array = np.linspace (0,1,7)\n",
    "linspace_array"
   ]
  },
  {
   "cell_type": "markdown",
   "id": "1844d46d-c150-44a9-83da-96c2deabd8ad",
   "metadata": {},
   "source": [
    "###### Given arr = np.array([[1, 2, 3], [4, 5, 6]]), what is its shape, ndim, and dtype? Print them."
   ]
  },
  {
   "cell_type": "code",
   "execution_count": 12,
   "id": "f0be05b9-8665-48fc-a0a1-6b5ac2d65ab0",
   "metadata": {},
   "outputs": [],
   "source": [
    " arr = np.array([[1, 2, 3], [4, 5, 6]])"
   ]
  },
  {
   "cell_type": "code",
   "execution_count": 13,
   "id": "6479dac8-6849-4723-a0a9-dd6dc386542d",
   "metadata": {},
   "outputs": [
    {
     "data": {
      "text/plain": [
       "(2, 3)"
      ]
     },
     "execution_count": 13,
     "metadata": {},
     "output_type": "execute_result"
    }
   ],
   "source": [
    "arr.shape"
   ]
  },
  {
   "cell_type": "code",
   "execution_count": 14,
   "id": "f52be016-5b24-4263-9a52-f69c190e424e",
   "metadata": {},
   "outputs": [
    {
     "data": {
      "text/plain": [
       "2"
      ]
     },
     "execution_count": 14,
     "metadata": {},
     "output_type": "execute_result"
    }
   ],
   "source": [
    "arr.ndim"
   ]
  },
  {
   "cell_type": "code",
   "execution_count": 15,
   "id": "060a1036-232d-455c-95bd-0f2f4d5c0139",
   "metadata": {},
   "outputs": [
    {
     "data": {
      "text/plain": [
       "dtype('int64')"
      ]
     },
     "execution_count": 15,
     "metadata": {},
     "output_type": "execute_result"
    }
   ],
   "source": [
    "arr.dtype"
   ]
  },
  {
   "cell_type": "markdown",
   "id": "fe80143c-7163-449e-9014-cf1fac6620c9",
   "metadata": {},
   "source": [
    "#### Part 2: Array Manipulation"
   ]
  },
  {
   "cell_type": "markdown",
   "id": "f983c970-e559-4ca3-9857-337e365d53f6",
   "metadata": {},
   "source": [
    "###### Reshape arr1d (from Q1) into a 2x5 2D array. Name the new array reshaped_arr."
   ]
  },
  {
   "cell_type": "code",
   "execution_count": 16,
   "id": "4635fe4e-bb76-4cb8-8d48-722c2df84cec",
   "metadata": {},
   "outputs": [
    {
     "data": {
      "text/plain": [
       "array([[0, 1, 2, 3, 4],\n",
       "       [5, 6, 7, 8, 9]])"
      ]
     },
     "execution_count": 16,
     "metadata": {},
     "output_type": "execute_result"
    }
   ],
   "source": [
    "reshaped_arr = arr1d.reshape(2,5)\n",
    "reshaped_arr"
   ]
  },
  {
   "cell_type": "markdown",
   "id": "ee6e0333-ddd5-4925-9535-6837ec71bb8a",
   "metadata": {},
   "source": [
    "###### Transpose reshaped_arr (from Q7). Name the result transposed_arr.\n"
   ]
  },
  {
   "cell_type": "code",
   "execution_count": 17,
   "id": "cb5a6411-cf1b-40c6-ade2-eb898f925eb3",
   "metadata": {},
   "outputs": [
    {
     "data": {
      "text/plain": [
       "array([[0, 5],\n",
       "       [1, 6],\n",
       "       [2, 7],\n",
       "       [3, 8],\n",
       "       [4, 9]])"
      ]
     },
     "execution_count": 17,
     "metadata": {},
     "output_type": "execute_result"
    }
   ],
   "source": [
    "transposed_arr = reshaped_arr.T\n",
    "transposed_arr"
   ]
  },
  {
   "cell_type": "markdown",
   "id": "ecd7feb5-0653-4f67-9fc4-f25d7665cde0",
   "metadata": {},
   "source": [
    "###### Stack two 1D arrays a = np.array([1, 2, 3]) and b = np.array([4, 5, 6]) vertically."
   ]
  },
  {
   "cell_type": "code",
   "execution_count": 18,
   "id": "19b480e4-9a6d-48ca-8199-3926f41a41b6",
   "metadata": {},
   "outputs": [
    {
     "data": {
      "text/plain": [
       "array([[1, 2, 3],\n",
       "       [4, 5, 6]])"
      ]
     },
     "execution_count": 18,
     "metadata": {},
     "output_type": "execute_result"
    }
   ],
   "source": [
    "a = np.array([1, 2, 3])\n",
    "b = np.array([4, 5, 6])\n",
    "v_stack = np.vstack((a,b))\n",
    "v_stack"
   ]
  },
  {
   "cell_type": "markdown",
   "id": "e30bd6e9-14c0-4f24-9fcb-6e40f0e2f539",
   "metadata": {},
   "source": [
    "###### Stack two 2D arrays m1 = np.array([[1, 2], [3, 4]]) and m2 = np.array([[5, 6], [7, 8]]) horizontally."
   ]
  },
  {
   "cell_type": "code",
   "execution_count": 19,
   "id": "82034410-1393-4c5c-9f2f-be9404f8f779",
   "metadata": {},
   "outputs": [
    {
     "data": {
      "text/plain": [
       "array([[1, 2, 5, 6],\n",
       "       [3, 4, 7, 8]])"
      ]
     },
     "execution_count": 19,
     "metadata": {},
     "output_type": "execute_result"
    }
   ],
   "source": [
    "m1 = np.array([[1, 2], [3, 4]])\n",
    "m2 = np.array([[5, 6], [7, 8]]) \n",
    "h_stack = np.hstack((m1,m2))\n",
    "h_stack\n"
   ]
  },
  {
   "cell_type": "markdown",
   "id": "829a7e55-0c8f-48eb-9d20-7c70344dc5cf",
   "metadata": {},
   "source": [
    "###### Split the array arr_to_split = np.arange(16).reshape(4, 4) horizontally into 2 equal parts. Print both parts."
   ]
  },
  {
   "cell_type": "code",
   "execution_count": 21,
   "id": "198ef9bc-b7b1-4a6b-b5db-ceca9d6736d4",
   "metadata": {},
   "outputs": [
    {
     "name": "stdout",
     "output_type": "stream",
     "text": [
      "[[ 0  1]\n",
      " [ 4  5]\n",
      " [ 8  9]\n",
      " [12 13]]\n",
      "____\n",
      "[[ 2  3]\n",
      " [ 6  7]\n",
      " [10 11]\n",
      " [14 15]]\n",
      "____\n"
     ]
    }
   ],
   "source": [
    "arr_to_split = np.arange(16).reshape(4, 4)\n",
    "arr = np.hsplit(arr_to_split,2)\n",
    "for part in arr:\n",
    "    print(part)\n",
    "    print(\"____\")"
   ]
  },
  {
   "cell_type": "markdown",
   "id": "29ef3f64-fdd5-4989-a1b3-5acc5bf2b888",
   "metadata": {},
   "source": [
    "###### Split the array arr_to_split (from Q11) vertically at index 2 (i.e., into two parts: first two rows, and last two rows). Print both parts."
   ]
  },
  {
   "cell_type": "code",
   "execution_count": 22,
   "id": "15b267bb-4924-4e66-a44f-dc4bc9b360b3",
   "metadata": {},
   "outputs": [
    {
     "name": "stdout",
     "output_type": "stream",
     "text": [
      "[[0 1 2 3]\n",
      " [4 5 6 7]]\n",
      "____\n",
      "[[ 8  9 10 11]\n",
      " [12 13 14 15]]\n",
      "____\n"
     ]
    }
   ],
   "source": [
    "arr_to_split = np.arange(16).reshape(4, 4)\n",
    "arr = np.vsplit(arr_to_split,2)\n",
    "for part in arr:\n",
    "    print(part)\n",
    "    print(\"____\")"
   ]
  },
  {
   "cell_type": "markdown",
   "id": "e1698cb6-dc82-4bf4-b19e-f285cf160333",
   "metadata": {},
   "source": [
    "##### Part 3: Indexing, Slicing, and Boolean Indexing"
   ]
  },
  {
   "cell_type": "markdown",
   "id": "6517990f-12a6-4d82-8392-611bd319a8d9",
   "metadata": {},
   "source": [
    "###### Given data = np.array([[10, 11, 12], [13, 14, 15], [16, 17, 18]]), extract the element at row 1, column 2.\n"
   ]
  },
  {
   "cell_type": "code",
   "execution_count": 9,
   "id": "f84bd8b4-fa43-4196-b0b9-6776224bc017",
   "metadata": {},
   "outputs": [
    {
     "data": {
      "text/plain": [
       "np.int64(15)"
      ]
     },
     "execution_count": 9,
     "metadata": {},
     "output_type": "execute_result"
    }
   ],
   "source": [
    "data = np.array([[10, 11, 12], [13, 14, 15], [16, 17, 18]])\n",
    "_data = data[1,2]\n",
    "_data"
   ]
  },
  {
   "cell_type": "markdown",
   "id": "bceee06d-9b8d-4350-b85a-cb81fc2d7a71",
   "metadata": {},
   "source": [
    "###### From the data array (from Q13), extract the first two rows and all columns."
   ]
  },
  {
   "cell_type": "code",
   "execution_count": 11,
   "id": "0c443bf6-fdcb-45e1-978e-f25a86e54520",
   "metadata": {},
   "outputs": [
    {
     "data": {
      "text/plain": [
       "array([[10, 11, 12],\n",
       "       [13, 14, 15]])"
      ]
     },
     "execution_count": 11,
     "metadata": {},
     "output_type": "execute_result"
    }
   ],
   "source": [
    "data = np.array([[10, 11, 12], [13, 14, 15], [16, 17, 18]])\n",
    "split_data = data[:2,]\n",
    "split_data"
   ]
  },
  {
   "cell_type": "markdown",
   "id": "82299cf5-25d9-4d5f-9fae-19ba713b0540",
   "metadata": {},
   "source": [
    "###### From the data array (from Q13), extract the elements 11, 15, and 17 using fancy indexing (hint: you'll need to specify rows and columns)"
   ]
  },
  {
   "cell_type": "code",
   "execution_count": 13,
   "id": "277db76a-5eae-45a0-bf3f-0e32cc1a0758",
   "metadata": {},
   "outputs": [
    {
     "data": {
      "text/plain": [
       "array([11, 15, 17])"
      ]
     },
     "execution_count": 13,
     "metadata": {},
     "output_type": "execute_result"
    }
   ],
   "source": [
    "data = np.array([[10, 11, 12], [13, 14, 15], [16, 17, 18]])\n",
    "split_data = data[[0,1,2],[1,2,1]] # fisrt part is for rows and second for columns each column start from 0 but the rows goes like all pracket\n",
    "split_data"
   ]
  },
  {
   "cell_type": "markdown",
   "id": "c35d01fd-50fe-48c2-9d7e-6b29c84ec4e6",
   "metadata": {},
   "source": [
    "###### Given scores = np.array([85, 92, 78, 65, 95, 88]), use boolean indexing to find all scores greater than 80."
   ]
  },
  {
   "cell_type": "code",
   "execution_count": 16,
   "id": "eec8bc02-dcf2-44d2-be84-08fc49a9df8f",
   "metadata": {},
   "outputs": [
    {
     "data": {
      "text/plain": [
       "array([85, 92, 95, 88])"
      ]
     },
     "execution_count": 16,
     "metadata": {},
     "output_type": "execute_result"
    }
   ],
   "source": [
    "scores = np.array([85, 92, 78, 65, 95, 88])\n",
    "condition = scores > 80\n",
    "scores_index = scores[condition]\n",
    "scores_index"
   ]
  },
  {
   "cell_type": "markdown",
   "id": "bdf27979-8c08-4654-ac2c-f1afded9a39e",
   "metadata": {},
   "source": [
    "##### Part 4: Numerical Operations and Aggregations"
   ]
  },
  {
   "cell_type": "markdown",
   "id": "3844be5c-54f0-4e2d-b951-450b5afe4dc9",
   "metadata": {},
   "source": [
    "###### Given arr_op1 = np.array([10, 20, 30]) and arr_op2 = np.array([2, 4, 6]), perform element-wise multiplication and division (arr_op1 / arr_op2)."
   ]
  },
  {
   "cell_type": "code",
   "execution_count": 18,
   "id": "baf24bc1-85d5-46e8-8360-21ec683a7493",
   "metadata": {},
   "outputs": [
    {
     "name": "stdout",
     "output_type": "stream",
     "text": [
      "multiplication array value : \n",
      "  [ 20  80 180]\n",
      "division array value : \n",
      "  [5. 5. 5.]\n"
     ]
    }
   ],
   "source": [
    "arr_op1 = np.array([10, 20, 30]) \n",
    "arr_op2 = np.array([2, 4, 6])\n",
    "mult = arr_op1 * arr_op2\n",
    "div = arr_op1 / arr_op2\n",
    "print (\"multiplication array value : \\n \" , mult)\n",
    "print (\"division array value : \\n \" , div)"
   ]
  },
  {
   "cell_type": "markdown",
   "id": "1457d3d6-90b5-4223-96c8-cf9ed271c488",
   "metadata": {},
   "source": [
    "###### Given matrix = np.array([[1, 2, 3], [4, 5, 6], [7, 8, 9]]), calculate the sum of all elements in the matrix."
   ]
  },
  {
   "cell_type": "code",
   "execution_count": 20,
   "id": "3ad44e91-6181-4845-96ae-b6cf357200c3",
   "metadata": {},
   "outputs": [
    {
     "data": {
      "text/plain": [
       "np.int64(45)"
      ]
     },
     "execution_count": 20,
     "metadata": {},
     "output_type": "execute_result"
    }
   ],
   "source": [
    "matrix = np.array([[1, 2, 3], [4, 5, 6], [7, 8, 9]])\n",
    "matrix_sum = matrix.sum()\n",
    "matrix_sum"
   ]
  },
  {
   "cell_type": "markdown",
   "id": "b0bdd1fc-24c9-4740-81d1-e988a707556a",
   "metadata": {},
   "source": [
    "###### From the matrix (from Q18), calculate the mean of each column."
   ]
  },
  {
   "cell_type": "code",
   "execution_count": 21,
   "id": "3308a585-b637-4b58-8d52-7194ff0a3ed8",
   "metadata": {},
   "outputs": [
    {
     "data": {
      "text/plain": [
       "array([4., 5., 6.])"
      ]
     },
     "execution_count": 21,
     "metadata": {},
     "output_type": "execute_result"
    }
   ],
   "source": [
    "matrix = np.array([[1, 2, 3], [4, 5, 6], [7, 8, 9]])\n",
    "matrix_mean = matrix.mean(axis = 0) # tha axis goes one column by one\n",
    "matrix_mean"
   ]
  },
  {
   "cell_type": "markdown",
   "id": "fd71f0d0-6ebd-4c3b-9cc0-c2edc92381e7",
   "metadata": {},
   "source": [
    "###### Given price_array = np.array([100, 150, 200, 250]) and discount_percentage = 0.10, apply a 10% discount to all prices using broadcasting.\n"
   ]
  },
  {
   "cell_type": "code",
   "execution_count": 23,
   "id": "95a217e5-43de-4c34-a1b4-8503c69da547",
   "metadata": {},
   "outputs": [
    {
     "data": {
      "text/plain": [
       "array([ 90., 135., 180., 225.])"
      ]
     },
     "execution_count": 23,
     "metadata": {},
     "output_type": "execute_result"
    }
   ],
   "source": [
    "price_array = np.array([100, 150, 200, 250])\n",
    "discount_percentage = 0.10\n",
    "condition = price_array * (1-discount_percentage)\n",
    "#masked = np.ma.masked_array(price_array, mask = condition)\n",
    "\n",
    "condition"
   ]
  },
  {
   "cell_type": "code",
   "execution_count": null,
   "id": "c1d9529f-0eb1-4216-a324-b94dbd24764e",
   "metadata": {},
   "outputs": [],
   "source": []
  }
 ],
 "metadata": {
  "kernelspec": {
   "display_name": "Python [conda env:base] *",
   "language": "python",
   "name": "conda-base-py"
  },
  "language_info": {
   "codemirror_mode": {
    "name": "ipython",
    "version": 3
   },
   "file_extension": ".py",
   "mimetype": "text/x-python",
   "name": "python",
   "nbconvert_exporter": "python",
   "pygments_lexer": "ipython3",
   "version": "3.13.5"
  }
 },
 "nbformat": 4,
 "nbformat_minor": 5
}
