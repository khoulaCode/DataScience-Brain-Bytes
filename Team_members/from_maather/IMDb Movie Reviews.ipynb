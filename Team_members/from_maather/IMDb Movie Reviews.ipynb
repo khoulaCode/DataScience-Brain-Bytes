{
 "cells": [
  {
   "cell_type": "code",
   "execution_count": 1,
   "id": "f6215c85-81a2-44e4-b331-2ca0b9576d06",
   "metadata": {},
   "outputs": [],
   "source": [
    "import pandas as pd\n",
    "from sklearn.feature_extraction.text import TfidfVectorizer\n",
    "from sklearn.metrics.pairwise import cosine_similarity\n",
    "import numpy as np\n",
    "import os\n",
    "from pathlib import Path\n",
    "import re, nltk\n",
    "from nltk.corpus import stopwords\n",
    "from nltk.stem import WordNetLemmatizer\n",
    "from nltk import word_tokenize, pos_tag\n",
    "from sklearn.linear_model import LogisticRegression\n",
    "from sklearn.metrics import accuracy_score, classification_report, confusion_matrix\n",
    "import joblib"
   ]
  },
  {
   "cell_type": "code",
   "execution_count": 2,
   "id": "214a7cdd-25c1-47c7-a7e6-ea86eb16a0dc",
   "metadata": {},
   "outputs": [],
   "source": [
    "neg_path = \"aclImdb/train/neg\" \n",
    "pos_path = \"aclImdb/train/pos\""
   ]
  },
  {
   "cell_type": "code",
   "execution_count": null,
   "id": "ec87e1c3-7b27-4de1-a77b-cad62a9959b0",
   "metadata": {
    "scrolled": true
   },
   "outputs": [],
   "source": [
    "for filename in os.listdir(neg_path):\n",
    "    file_path = os.path.join(neg_path, filename)\n",
    "    if os.path.isfile(file_path):\n",
    "        try:\n",
    "            with open(file_path, 'r') as f:\n",
    "                content = f.read()\n",
    "                print(f\"Content of {filename}:\\n{content}\\n---\")\n",
    "        except Exception as e:\n",
    "            print(f\"Error reading {filename}: {e}\")"
   ]
  },
  {
   "cell_type": "code",
   "execution_count": null,
   "id": "9f3591fe-702c-4e53-bb70-a4b6819bd7b9",
   "metadata": {
    "scrolled": true
   },
   "outputs": [],
   "source": [
    "for filename in os.listdir(pos_path):\n",
    "    file_path = os.path.join(pos_path, filename)\n",
    "    if os.path.isfile(file_path):\n",
    "        try:\n",
    "            with open(file_path, 'r') as f:\n",
    "                content = f.read()\n",
    "                print(f\"Content of {filename}:\\n{content}\\n---\")\n",
    "        except Exception as e:\n",
    "            print(f\"Error reading {filename}: {e}\")"
   ]
  },
  {
   "cell_type": "markdown",
   "id": "2ae9779e-e3a7-4063-97c2-6dfdfba5dc8d",
   "metadata": {},
   "source": [
    "convert text to data frame "
   ]
  },
  {
   "cell_type": "code",
   "execution_count": null,
   "id": "351a858b-64c8-47bd-94b6-035bfcef55c7",
   "metadata": {},
   "outputs": [],
   "source": [
    "def load_imdb_split(split_dir):\n",
    "    rows = []\n",
    "    for label_name in (\"neg\", \"pos\"):\n",
    "        label = 0 if label_name == \"neg\" else 1\n",
    "        folder = Path(split_dir) / label_name\n",
    "        for fp in folder.glob(\"*.txt\"):\n",
    "            with open(fp, \"r\", encoding=\"utf-8\", errors=\"ignore\") as f:\n",
    "                rows.append({\"review\": f.read(), \"label\": label})\n",
    "    return pd.DataFrame(rows)"
   ]
  },
  {
   "cell_type": "code",
   "execution_count": null,
   "id": "cc44937f-6fe4-4a62-be03-9847a57e6296",
   "metadata": {},
   "outputs": [],
   "source": [
    "df = load_imdb_split(\"aclImdb/train\")\n",
    "if len(df) > 10_000:\n",
    "    df = df.sample(n=10_000, random_state=42).reset_index(drop=True)\n",
    "\n",
    "df"
   ]
  },
  {
   "cell_type": "markdown",
   "id": "441660be-3730-4221-8296-03336ad5bf1e",
   "metadata": {},
   "source": [
    "clean the data"
   ]
  },
  {
   "cell_type": "code",
   "execution_count": 24,
   "id": "ad73967f-e727-475c-8909-faad6136e206",
   "metadata": {},
   "outputs": [],
   "source": [
    "nltk.download('stopwords', quiet=True)\n",
    "nltk.download('wordnet', quiet=True)\n",
    "nltk.download('omw-1.4', quiet=True)\n",
    "nltk.download('punkt', quiet=True)\n",
    "stop_words = set(stopwords.words(\"english\"))\n",
    "lemm = WordNetLemmatizer()\n",
    "HTML_RE   = re.compile(r'<.*?>')                   \n",
    "URL_RE    = re.compile(r'https?://\\S+|www\\.\\S+')\n",
    "EMAIL_RE  = re.compile(r'\\S+@\\S+')\n",
    "NONLETTER = re.compile(r'[^a-z\\s]')               \n",
    "MULTISPACE= re.compile(r'\\s+')\n"
   ]
  },
  {
   "cell_type": "code",
   "execution_count": 25,
   "id": "75dd89a0-0b32-41da-9029-fb0d4e7ffcb8",
   "metadata": {},
   "outputs": [],
   "source": [
    "def clean_review(text: str) -> str:\n",
    "    \"\"\"Basic, readable cleaner for IMDb reviews.\"\"\"\n",
    "    if not isinstance(text, str):\n",
    "        return \"\"\n",
    "    x = text.lower()                    #  lowercase\n",
    "    x = HTML_RE.sub(\" \", x)             #  remove HTML tags\n",
    "    x = URL_RE.sub(\" \", x)              #  remove URLs\n",
    "    x = EMAIL_RE.sub(\" \", x)            #  remove emails\n",
    "    x = NONLETTER.sub(\" \", x)           #  drop punctuation, numbers, emojis\n",
    "    tokens = nltk.word_tokenize(x)      #  tokenize\n",
    "    tokens = [t for t in tokens\n",
    "              if t not in stop_words and len(t) > 2]  #  remove stopwords + very short tokens\n",
    "    lemmas = [lemm.lemmatize(t) for t in tokens]      #  lemmatize (basic, noun-default)\n",
    "    out = \" \".join(lemmas)\n",
    "    return MULTISPACE.sub(\" \", out).strip()"
   ]
  },
  {
   "cell_type": "code",
   "execution_count": 27,
   "id": "b70e0eec-a34f-4e75-9290-9990f6f2259f",
   "metadata": {},
   "outputs": [
    {
     "data": {
      "text/plain": [
       "True"
      ]
     },
     "execution_count": 27,
     "metadata": {},
     "output_type": "execute_result"
    }
   ],
   "source": [
    "nltk.download('punkt', quiet=True)\n",
    "nltk.download('punkt_tab', quiet=True)"
   ]
  },
  {
   "cell_type": "code",
   "execution_count": 29,
   "id": "8d1e2030-dea1-4605-88b6-f3c72de32e2c",
   "metadata": {
    "scrolled": true
   },
   "outputs": [
    {
     "name": "stdout",
     "output_type": "stream",
     "text": [
      "\n",
      "--- Example 1 ---\n",
      "Raw:      Higher and Higher was one of Rodgers&Hart's lesser Broadway musicals it only had a run of 84 performances on Broadway in 1940. Yet it yielded one of their bigger hits It Never Entered My Mind.<br /><b...\n",
      "Cleaned:  higher higher one rodgers hart lesser broadway musical run performance broadway yet yielded one bigger hit never entered mind nevertheless except one minor song disgustingly rich entire broadway score scrapped rko bought film right instead whole new score jimmy mchugh harold adamson written mostly accommodate one francis albert sinatra making feature film debut sinatra done vocal cameo previous film take leaf page singing rival bing crosby bing feature film debut big broadcast played bing crosby frank sinatra took role frank sinatra think anyone could done better job chairman board billed third behind star jack haley michele morgan butler scullery maid leon errol fact errol millionaire paid help seven month mainly belly chapter informs staff errol delightful old soul work none staff want lose good thing pool resource get michele morgan impersonate errol daughter switzerland mother idea snag rich bankroll hope rescuing family fortune michele start looking another slight plot certainly worse whole lot musical rko invested film good cast player barbara hale elizabeth risdon play another butante mother suspect something right victor borge fortune seeking account dooley wilson paul hartman grace hartman marcy mcguire mel torme mary wickes play others errol household staff bad bunch sinatra sang three good ballad kind commercial success music stopped lovely way spend evening sleep wink last night last one nominated oscar best song lost alice faye never know year musician union strike recording industry get material frank sinatra recorded song higher higher acapella chorus columbia bing crosby recorded song film dixie manner decca denounced president union james petrillo strikebreaker cross picket line strike settle completely although decca broke rank earlier record company settled earlier columbia rca victor others strike provided anxious moment sinatra left tommy dorsey orchestra strike called closed needed venue artistry sure whether leaving dorsey would prove right career move fortunately higher higher received well legend launched\n",
      "\n",
      "--- Example 2 ---\n",
      "Raw:      Stephen King adaptation (scripted by King himself) in which a young family, newcomers to rural Maine, find out about the pet cemetery close to their home. The father (Dale Midkiff) then finds out abou...\n",
      "Cleaned:  stephen king adaptation scripted king young family newcomer rural maine find pet cemetery close home father dale midkiff find micmac burial ground beyond pet cemetery power resurrection course anything buried come back quite right average horror picture start clumsy insulting inept continues way absolute worst element midkiff worthless performance get little better toward end genuinely disturbing finale point fact whole movie really disturbing completely dismiss least something make memorable decent supporting performance fred gwynne wise old aged neighbor brad greenquist disfigured spirit victor pascow enough really redeem film king usual cameo minister followed sequel also directed mary lambert wonder mainstream film work since\n",
      "\n",
      "--- Example 3 ---\n",
      "Raw:      This series adds new information and background to the book and includes personal appearances by the author and by archaeologists and other anthropologists. It brings the book to life and makes even m...\n",
      "Cleaned:  series add new information background book includes personal appearance author archaeologist anthropologist brings book life make even sense author subsequent opus collapse diamond come personable caring disinterested disengaged academic series make clear book response need publish perish saying go academe deeply considered answer question someone respect white people got much cargo little respected intelligence questioner community diamond looked answer insult intelligence community like think answer simple way spirit south park blame canada blame wheat\n",
      "\n",
      "--- Example 4 ---\n",
      "Raw:      It was a bit bizarre and evil and i enjoyed it a lot, the characters in the show were great as well, and complimented one another well. I was sorry to see it cut off.. I would have loved to see where ...\n",
      "Cleaned:  bit bizarre evil enjoyed lot character show great well complimented one another well sorry see cut would loved see could went found leaning toward lucas buck sheriff secret anyone lucas frightening alluring would liked seen character became however buy show enjoy great something different paige turrco caleb cousin big mystery meant lucas shame around still never finished would loved see would happened\n",
      "\n",
      "--- Example 5 ---\n",
      "Raw:      The original Boogeyman was a silly but entertaining supernatural slasher flick. It was by no means a great film but fun in the right frame of mind. The third instalment in this series, Return of the B...\n",
      "Cleaned:  original boogeyman silly entertaining supernatural slasher flick mean great film fun right frame mind third instalment series return boogeyman hand simply atrocious consists two thing firstly cheap lifeless new footage secondly load recycled bit first movie new material unbelievably amateurish amusingly inept way simply incredibly tedious footage clearly knocked together quickly without effort serf framing device endless clip first possibly second movie boy milk clip earlier film sometimes reusing sequence new addition part voice pointlessly describes exactly see eye whole experience watching truly mind numbing return boogeyman example worst kind exploitation flick kind exploit audience highly cynical way want keep review brief point film deserves nothing value worthless\n",
      "\n",
      "--- Example 6 ---\n",
      "Raw:      Will Smith is one of the best actors of all time. I don't know how he does it. I read books constantly but if there is a movie with Will Smith I will watch it. He has a rare gift of pulling you into t...\n",
      "Cleaned:  smith one best actor time know read book constantly movie smith watch rare gift pulling movie holding movie one best movie seen yet watched saturday still get head amazing sad time thanks must watch movie beginning end understand every part movie miss thing make sure plenty kleenex man woman sitting next cuddle well worth money pay watch wait come\n",
      "\n",
      "--- Example 7 ---\n",
      "Raw:      It takes guts to make a movie on Gandhi in India ,in which he is not shown as a man who could do no wrong.This movie shows how a Mahatma failed to be a decent father(at least in the eyes of his son). ...\n",
      "Cleaned:  take gut make movie gandhi india shown man could wrong movie show mahatma failed decent father least eye son performance terrific cinematography fantastic direction fabulous film drag intention make movie without box office expectation assume case brilliant attempt maker expecting commercial success film fate doomed day chose subject yr movie remembered brilliant portrayal harilal akshaye khanna deserves oscar nomination one honestly performance worth applauding shefali chhaya terrific watch scene harilal hears father death dialogue screaming speechless shot khanna one finest scene ever shot history cinema gandhi father exciting cinema yes excellent cinema must watch brilliant attempt\n",
      "\n",
      "--- Example 8 ---\n",
      "Raw:      I just don't understand why this movie is getting beat-up in here. Jeez. It is mindless, it isn't polished and it is (as I am reading) wasted on some. The cast of this movie plays their characters to ...\n",
      "Cleaned:  understand movie getting beat jeez mindless polished reading wasted cast movie play character watched permanent midnight became ben stiller fan yes disappointed misunderstood well intentioned misfit trying save city world nothing grit determination problem realize limit big showdown point time movie spy shagged yet get panned demographic group likely people feel first movie pale comparison sequel get joke work one level get know level\n",
      "\n",
      "--- Example 9 ---\n",
      "Raw:      When you see Boris Karloff and Bela Lugosi as co-stars, you expect to find a well done horror movie, but this was actually quite different, representing as it did what I would describe as an early eff...\n",
      "Cleaned:  see boris karloff bela lugosi star expect find well done horror movie actually quite different representing would describe early effort science fiction karloff lugosi play scientist rukh benet respectively competitor extent rukh win benet demonstration prof great theory science say least bit rough around edge thus science fiction emphasis fiction somehow rukh harness sort ray andromeda allows look earth several thousand million year ago pre historic time huge meteorite slammed africa leaving deposit substance scientist call radium heal destroy large portion movie set rather tediously africa search meteorite deposit rukh eventually find harness create great weapon unfortunately infecting sort disease make great weapon well karloff lugosi pretty good lugosi pull role good guy pretty well although frankly found bit unconvincing especially scene set africa story also plodded along bit held attention captivate given really sci rather horror flick sci early stage suppose movie need cut bit slack nothing also nothing less\n",
      "\n",
      "--- Example 10 ---\n",
      "Raw:      I haven't written a review on IMDb for the longest time, however, I felt myself compelled to write this! When looking up this movie I found one particular review which urged people NOT to see this fil...\n",
      "Cleaned:  written review imdb longest time however felt compelled write looking movie found one particular review urged people see film pay attention ignorant person nothing fantastic film full laugh imagination sick tired force fed old cycle bubble gum trash movie sometimes film like nothing come along give something never seen even care dislike even hate movie one right discredit film imdb monumental impact reputation negative review discredit film like say hate hate try tell people watch mind make mind thank judgment good say people enjoy movie opposed hate treat mind bit eye candy see nothing\n"
     ]
    }
   ],
   "source": [
    "df[\"cleaned_review\"] = df[\"review\"].apply(clean_review)\n",
    "pairs = df.sample(10, random_state=1)[[\"review\", \"cleaned_review\"]]\n",
    "for i, row in enumerate(pairs.itertuples(index=False), 1):\n",
    "    print(f\"\\n--- Example {i} ---\")\n",
    "    print(\"Raw:     \", row.review[:200].replace(\"\\n\",\" \") + (\"...\" if len(row.review) > 200 else \"\"))\n",
    "    print(\"Cleaned: \", row.cleaned_review)\n",
    "    "
   ]
  },
  {
   "cell_type": "markdown",
   "id": "96058cfe-8173-4211-8673-e4717a047024",
   "metadata": {},
   "source": [
    "save clean df"
   ]
  },
  {
   "cell_type": "code",
   "execution_count": 30,
   "id": "6bdb76f8-b6f8-41ba-b7fe-43532f15fe10",
   "metadata": {},
   "outputs": [
    {
     "name": "stdout",
     "output_type": "stream",
     "text": [
      "Saved: imdb_cleaned.csv\n"
     ]
    }
   ],
   "source": [
    "df[[\"review\", \"cleaned_review\", \"label\"]].to_csv(\"imdb_cleaned.csv\", index=False, encoding=\"utf-8\")\n",
    "print(\"Saved: imdb_cleaned.csv\")"
   ]
  },
  {
   "cell_type": "code",
   "execution_count": 31,
   "id": "3639f58b-ac53-4b5e-8802-fc199963684f",
   "metadata": {},
   "outputs": [
    {
     "data": {
      "text/html": [
       "<div>\n",
       "<style scoped>\n",
       "    .dataframe tbody tr th:only-of-type {\n",
       "        vertical-align: middle;\n",
       "    }\n",
       "\n",
       "    .dataframe tbody tr th {\n",
       "        vertical-align: top;\n",
       "    }\n",
       "\n",
       "    .dataframe thead th {\n",
       "        text-align: right;\n",
       "    }\n",
       "</style>\n",
       "<table border=\"1\" class=\"dataframe\">\n",
       "  <thead>\n",
       "    <tr style=\"text-align: right;\">\n",
       "      <th></th>\n",
       "      <th>review</th>\n",
       "      <th>label</th>\n",
       "      <th>cleaned_review</th>\n",
       "    </tr>\n",
       "  </thead>\n",
       "  <tbody>\n",
       "    <tr>\n",
       "      <th>0</th>\n",
       "      <td>Silent Night, Deadly Night 5 is the very last ...</td>\n",
       "      <td>0</td>\n",
       "      <td>silent night deadly night last series like par...</td>\n",
       "    </tr>\n",
       "    <tr>\n",
       "      <th>1</th>\n",
       "      <td>The idea ia a very short film with a lot of in...</td>\n",
       "      <td>1</td>\n",
       "      <td>idea short film lot information interesting en...</td>\n",
       "    </tr>\n",
       "    <tr>\n",
       "      <th>2</th>\n",
       "      <td>For me, this movie just seemed to fall on its ...</td>\n",
       "      <td>0</td>\n",
       "      <td>movie seemed fall face main problem casting gl...</td>\n",
       "    </tr>\n",
       "    <tr>\n",
       "      <th>3</th>\n",
       "      <td>Was this based on a comic-book? A video-game? ...</td>\n",
       "      <td>1</td>\n",
       "      <td>based comic book video game drawing year old n...</td>\n",
       "    </tr>\n",
       "    <tr>\n",
       "      <th>4</th>\n",
       "      <td>Caution: May contain spoilers...&lt;br /&gt;&lt;br /&gt;I'...</td>\n",
       "      <td>1</td>\n",
       "      <td>caution may contain spoiler seen movie time li...</td>\n",
       "    </tr>\n",
       "  </tbody>\n",
       "</table>\n",
       "</div>"
      ],
      "text/plain": [
       "                                              review  label  \\\n",
       "0  Silent Night, Deadly Night 5 is the very last ...      0   \n",
       "1  The idea ia a very short film with a lot of in...      1   \n",
       "2  For me, this movie just seemed to fall on its ...      0   \n",
       "3  Was this based on a comic-book? A video-game? ...      1   \n",
       "4  Caution: May contain spoilers...<br /><br />I'...      1   \n",
       "\n",
       "                                      cleaned_review  \n",
       "0  silent night deadly night last series like par...  \n",
       "1  idea short film lot information interesting en...  \n",
       "2  movie seemed fall face main problem casting gl...  \n",
       "3  based comic book video game drawing year old n...  \n",
       "4  caution may contain spoiler seen movie time li...  "
      ]
     },
     "execution_count": 31,
     "metadata": {},
     "output_type": "execute_result"
    }
   ],
   "source": [
    "df.head()"
   ]
  },
  {
   "cell_type": "markdown",
   "id": "a00cc55f-3abe-409c-a5f8-0e9a1a911d18",
   "metadata": {},
   "source": [
    "testing manner "
   ]
  },
  {
   "cell_type": "code",
   "execution_count": 32,
   "id": "c8928f9c-d300-4c22-a960-7f8a02a6ec4c",
   "metadata": {},
   "outputs": [
    {
     "name": "stdout",
     "output_type": "stream",
     "text": [
      "Raw:     I LOVED this movie!! <br /><br /> It was amazing :) 10/10\n",
      "Cleaned: loved movie amazing\n"
     ]
    }
   ],
   "source": [
    "demo = \"I LOVED this movie!! <br /><br /> It was amazing :) 10/10\"\n",
    "print(\"Raw:    \", demo)\n",
    "print(\"Cleaned:\", clean_review(demo)) "
   ]
  },
  {
   "cell_type": "markdown",
   "id": "6f0016a9-cbaa-43c2-9931-2aec370da39b",
   "metadata": {},
   "source": [
    "try to add rating and file name to df"
   ]
  },
  {
   "cell_type": "code",
   "execution_count": 34,
   "id": "96734d77-4345-4616-95a9-42a9a0799029",
   "metadata": {},
   "outputs": [],
   "source": [
    "def load_imdb_with_filename_rating(root=\"aclImdb/train\"):\n",
    "    rows = []\n",
    "    for label_name in (\"neg\", \"pos\"):\n",
    "        label = 0 if label_name == \"neg\" else 1\n",
    "        folder = os.path.join(root, label_name)\n",
    "        for fn in os.listdir(folder):\n",
    "            if not fn.endswith(\".txt\"):\n",
    "                continue\n",
    "            fp = os.path.join(folder, fn)\n",
    "            with open(fp, \"r\", encoding=\"utf-8\", errors=\"ignore\") as f:\n",
    "                txt = f.read()\n",
    "            rating = int(fn.split(\"_\")[-1].split(\".\")[0])  # e.g., 12345_7.txt -> 7\n",
    "            rows.append({\n",
    "                \"filename\": fn,\n",
    "                \"review\": txt,\n",
    "                \"label\": label,\n",
    "                \"rating\": rating\n",
    "            })\n",
    "    return pd.DataFrame(rows)"
   ]
  },
  {
   "cell_type": "code",
   "execution_count": 35,
   "id": "44371422-8639-4bae-9668-a57dfae34e21",
   "metadata": {},
   "outputs": [
    {
     "name": "stdout",
     "output_type": "stream",
     "text": [
      "      filename                                             review  label  \\\n",
      "0      0_3.txt  Story of a man who has unnatural feelings for ...      0   \n",
      "1  10000_4.txt  Airport '77 starts as a brand new luxury 747 p...      0   \n",
      "2  10001_4.txt  This film lacked something I couldn't put my f...      0   \n",
      "3  10002_1.txt  Sorry everyone,,, I know this is supposed to b...      0   \n",
      "4  10003_1.txt  When I was little my parents took me along to ...      0   \n",
      "\n",
      "   rating  \n",
      "0       3  \n",
      "1       4  \n",
      "2       4  \n",
      "3       1  \n",
      "4       1   ['filename', 'review', 'label', 'rating']\n"
     ]
    }
   ],
   "source": [
    "df = load_imdb_with_filename_rating(\"aclImdb/train\")\n",
    "print(df.head(), df.columns.tolist())"
   ]
  },
  {
   "cell_type": "code",
   "execution_count": 36,
   "id": "5660816b-1587-4f68-993f-1c3ef317696e",
   "metadata": {
    "scrolled": true
   },
   "outputs": [
    {
     "data": {
      "text/html": [
       "<div>\n",
       "<style scoped>\n",
       "    .dataframe tbody tr th:only-of-type {\n",
       "        vertical-align: middle;\n",
       "    }\n",
       "\n",
       "    .dataframe tbody tr th {\n",
       "        vertical-align: top;\n",
       "    }\n",
       "\n",
       "    .dataframe thead th {\n",
       "        text-align: right;\n",
       "    }\n",
       "</style>\n",
       "<table border=\"1\" class=\"dataframe\">\n",
       "  <thead>\n",
       "    <tr style=\"text-align: right;\">\n",
       "      <th></th>\n",
       "      <th>filename</th>\n",
       "      <th>review</th>\n",
       "      <th>label</th>\n",
       "      <th>rating</th>\n",
       "    </tr>\n",
       "  </thead>\n",
       "  <tbody>\n",
       "    <tr>\n",
       "      <th>0</th>\n",
       "      <td>0_3.txt</td>\n",
       "      <td>Story of a man who has unnatural feelings for ...</td>\n",
       "      <td>0</td>\n",
       "      <td>3</td>\n",
       "    </tr>\n",
       "    <tr>\n",
       "      <th>1</th>\n",
       "      <td>10000_4.txt</td>\n",
       "      <td>Airport '77 starts as a brand new luxury 747 p...</td>\n",
       "      <td>0</td>\n",
       "      <td>4</td>\n",
       "    </tr>\n",
       "    <tr>\n",
       "      <th>2</th>\n",
       "      <td>10001_4.txt</td>\n",
       "      <td>This film lacked something I couldn't put my f...</td>\n",
       "      <td>0</td>\n",
       "      <td>4</td>\n",
       "    </tr>\n",
       "    <tr>\n",
       "      <th>3</th>\n",
       "      <td>10002_1.txt</td>\n",
       "      <td>Sorry everyone,,, I know this is supposed to b...</td>\n",
       "      <td>0</td>\n",
       "      <td>1</td>\n",
       "    </tr>\n",
       "    <tr>\n",
       "      <th>4</th>\n",
       "      <td>10003_1.txt</td>\n",
       "      <td>When I was little my parents took me along to ...</td>\n",
       "      <td>0</td>\n",
       "      <td>1</td>\n",
       "    </tr>\n",
       "    <tr>\n",
       "      <th>...</th>\n",
       "      <td>...</td>\n",
       "      <td>...</td>\n",
       "      <td>...</td>\n",
       "      <td>...</td>\n",
       "    </tr>\n",
       "    <tr>\n",
       "      <th>24995</th>\n",
       "      <td>9998_9.txt</td>\n",
       "      <td>Seeing as the vote average was pretty low, and...</td>\n",
       "      <td>1</td>\n",
       "      <td>9</td>\n",
       "    </tr>\n",
       "    <tr>\n",
       "      <th>24996</th>\n",
       "      <td>9999_8.txt</td>\n",
       "      <td>The plot had some wretched, unbelievable twist...</td>\n",
       "      <td>1</td>\n",
       "      <td>8</td>\n",
       "    </tr>\n",
       "    <tr>\n",
       "      <th>24997</th>\n",
       "      <td>999_10.txt</td>\n",
       "      <td>I am amazed at how this movie(and most others ...</td>\n",
       "      <td>1</td>\n",
       "      <td>10</td>\n",
       "    </tr>\n",
       "    <tr>\n",
       "      <th>24998</th>\n",
       "      <td>99_8.txt</td>\n",
       "      <td>A Christmas Together actually came before my t...</td>\n",
       "      <td>1</td>\n",
       "      <td>8</td>\n",
       "    </tr>\n",
       "    <tr>\n",
       "      <th>24999</th>\n",
       "      <td>9_7.txt</td>\n",
       "      <td>Working-class romantic drama from director Mar...</td>\n",
       "      <td>1</td>\n",
       "      <td>7</td>\n",
       "    </tr>\n",
       "  </tbody>\n",
       "</table>\n",
       "<p>25000 rows × 4 columns</p>\n",
       "</div>"
      ],
      "text/plain": [
       "          filename                                             review  label  \\\n",
       "0          0_3.txt  Story of a man who has unnatural feelings for ...      0   \n",
       "1      10000_4.txt  Airport '77 starts as a brand new luxury 747 p...      0   \n",
       "2      10001_4.txt  This film lacked something I couldn't put my f...      0   \n",
       "3      10002_1.txt  Sorry everyone,,, I know this is supposed to b...      0   \n",
       "4      10003_1.txt  When I was little my parents took me along to ...      0   \n",
       "...            ...                                                ...    ...   \n",
       "24995   9998_9.txt  Seeing as the vote average was pretty low, and...      1   \n",
       "24996   9999_8.txt  The plot had some wretched, unbelievable twist...      1   \n",
       "24997   999_10.txt  I am amazed at how this movie(and most others ...      1   \n",
       "24998     99_8.txt  A Christmas Together actually came before my t...      1   \n",
       "24999      9_7.txt  Working-class romantic drama from director Mar...      1   \n",
       "\n",
       "       rating  \n",
       "0           3  \n",
       "1           4  \n",
       "2           4  \n",
       "3           1  \n",
       "4           1  \n",
       "...       ...  \n",
       "24995       9  \n",
       "24996       8  \n",
       "24997      10  \n",
       "24998       8  \n",
       "24999       7  \n",
       "\n",
       "[25000 rows x 4 columns]"
      ]
     },
     "execution_count": 36,
     "metadata": {},
     "output_type": "execute_result"
    }
   ],
   "source": [
    "df"
   ]
  },
  {
   "cell_type": "markdown",
   "id": "f0cfde62-b1e9-4177-b8de-41bb7a4f8792",
   "metadata": {},
   "source": [
    "combine the new df with the old "
   ]
  },
  {
   "cell_type": "code",
   "execution_count": 42,
   "id": "55575d91-17c6-4001-b5b0-26150a7ad191",
   "metadata": {},
   "outputs": [],
   "source": [
    "df[\"cleaned_review\"] = df[\"review\"].apply(clean_review)\n",
    "df[[\"filename\", \"cleaned_review\", \"label\", \"rating\"]].to_csv(\n",
    "    \"imdb_cleaned_with_rating.csv\", index=False, encoding=\"utf-8\"\n",
    ")"
   ]
  },
  {
   "cell_type": "code",
   "execution_count": 44,
   "id": "7fc5a578-2806-41a1-8523-a957f7d91735",
   "metadata": {},
   "outputs": [
    {
     "data": {
      "text/html": [
       "<div>\n",
       "<style scoped>\n",
       "    .dataframe tbody tr th:only-of-type {\n",
       "        vertical-align: middle;\n",
       "    }\n",
       "\n",
       "    .dataframe tbody tr th {\n",
       "        vertical-align: top;\n",
       "    }\n",
       "\n",
       "    .dataframe thead th {\n",
       "        text-align: right;\n",
       "    }\n",
       "</style>\n",
       "<table border=\"1\" class=\"dataframe\">\n",
       "  <thead>\n",
       "    <tr style=\"text-align: right;\">\n",
       "      <th></th>\n",
       "      <th>filename</th>\n",
       "      <th>cleaned_review</th>\n",
       "      <th>label</th>\n",
       "      <th>rating</th>\n",
       "    </tr>\n",
       "  </thead>\n",
       "  <tbody>\n",
       "    <tr>\n",
       "      <th>0</th>\n",
       "      <td>0_3.txt</td>\n",
       "      <td>story man unnatural feeling pig start opening ...</td>\n",
       "      <td>0</td>\n",
       "      <td>3</td>\n",
       "    </tr>\n",
       "    <tr>\n",
       "      <th>1</th>\n",
       "      <td>10000_4.txt</td>\n",
       "      <td>airport start brand new luxury plane loaded va...</td>\n",
       "      <td>0</td>\n",
       "      <td>4</td>\n",
       "    </tr>\n",
       "    <tr>\n",
       "      <th>2</th>\n",
       "      <td>10001_4.txt</td>\n",
       "      <td>film lacked something put finger first charism...</td>\n",
       "      <td>0</td>\n",
       "      <td>4</td>\n",
       "    </tr>\n",
       "    <tr>\n",
       "      <th>3</th>\n",
       "      <td>10002_1.txt</td>\n",
       "      <td>sorry everyone know supposed art film wow hand...</td>\n",
       "      <td>0</td>\n",
       "      <td>1</td>\n",
       "    </tr>\n",
       "    <tr>\n",
       "      <th>4</th>\n",
       "      <td>10003_1.txt</td>\n",
       "      <td>little parent took along theater see interior ...</td>\n",
       "      <td>0</td>\n",
       "      <td>1</td>\n",
       "    </tr>\n",
       "    <tr>\n",
       "      <th>...</th>\n",
       "      <td>...</td>\n",
       "      <td>...</td>\n",
       "      <td>...</td>\n",
       "      <td>...</td>\n",
       "    </tr>\n",
       "    <tr>\n",
       "      <th>24995</th>\n",
       "      <td>9998_9.txt</td>\n",
       "      <td>seeing vote average pretty low fact clerk vide...</td>\n",
       "      <td>1</td>\n",
       "      <td>9</td>\n",
       "    </tr>\n",
       "    <tr>\n",
       "      <th>24996</th>\n",
       "      <td>9999_8.txt</td>\n",
       "      <td>plot wretched unbelievable twist however chemi...</td>\n",
       "      <td>1</td>\n",
       "      <td>8</td>\n",
       "    </tr>\n",
       "    <tr>\n",
       "      <th>24997</th>\n",
       "      <td>999_10.txt</td>\n",
       "      <td>amazed movie others average star lower crappy ...</td>\n",
       "      <td>1</td>\n",
       "      <td>10</td>\n",
       "    </tr>\n",
       "    <tr>\n",
       "      <th>24998</th>\n",
       "      <td>99_8.txt</td>\n",
       "      <td>christmas together actually came time raised j...</td>\n",
       "      <td>1</td>\n",
       "      <td>8</td>\n",
       "    </tr>\n",
       "    <tr>\n",
       "      <th>24999</th>\n",
       "      <td>9_7.txt</td>\n",
       "      <td>working class romantic drama director martin r...</td>\n",
       "      <td>1</td>\n",
       "      <td>7</td>\n",
       "    </tr>\n",
       "  </tbody>\n",
       "</table>\n",
       "<p>25000 rows × 4 columns</p>\n",
       "</div>"
      ],
      "text/plain": [
       "          filename                                     cleaned_review  label  \\\n",
       "0          0_3.txt  story man unnatural feeling pig start opening ...      0   \n",
       "1      10000_4.txt  airport start brand new luxury plane loaded va...      0   \n",
       "2      10001_4.txt  film lacked something put finger first charism...      0   \n",
       "3      10002_1.txt  sorry everyone know supposed art film wow hand...      0   \n",
       "4      10003_1.txt  little parent took along theater see interior ...      0   \n",
       "...            ...                                                ...    ...   \n",
       "24995   9998_9.txt  seeing vote average pretty low fact clerk vide...      1   \n",
       "24996   9999_8.txt  plot wretched unbelievable twist however chemi...      1   \n",
       "24997   999_10.txt  amazed movie others average star lower crappy ...      1   \n",
       "24998     99_8.txt  christmas together actually came time raised j...      1   \n",
       "24999      9_7.txt  working class romantic drama director martin r...      1   \n",
       "\n",
       "       rating  \n",
       "0           3  \n",
       "1           4  \n",
       "2           4  \n",
       "3           1  \n",
       "4           1  \n",
       "...       ...  \n",
       "24995       9  \n",
       "24996       8  \n",
       "24997      10  \n",
       "24998       8  \n",
       "24999       7  \n",
       "\n",
       "[25000 rows x 4 columns]"
      ]
     },
     "execution_count": 44,
     "metadata": {},
     "output_type": "execute_result"
    }
   ],
   "source": [
    "df.drop(columns=[\"review\"], inplace=True, errors=\"ignore\")\n",
    "df = df[[\"filename\", \"cleaned_review\", \"label\", \"rating\"]]\n",
    "df"
   ]
  },
  {
   "cell_type": "markdown",
   "id": "7f38e8a8-a9f5-4181-8dc4-55d7753f22a8",
   "metadata": {},
   "source": [
    "cleaning "
   ]
  },
  {
   "cell_type": "code",
   "execution_count": 46,
   "id": "3706c7ec-766c-4cb8-a53a-aee29ff8a929",
   "metadata": {},
   "outputs": [],
   "source": [
    "df = df.dropna(subset=[\"cleaned_review\"])\n",
    "df = df[df[\"cleaned_review\"].str.strip().astype(bool)]"
   ]
  },
  {
   "cell_type": "code",
   "execution_count": 47,
   "id": "47554585-26bf-44db-a933-7fefbf4a7855",
   "metadata": {},
   "outputs": [],
   "source": [
    "df = df.drop_duplicates(subset=\"cleaned_review\").reset_index(drop=True)"
   ]
  },
  {
   "cell_type": "code",
   "execution_count": 48,
   "id": "ae86af0b-e6a2-451e-94cc-a222ca6cfb92",
   "metadata": {},
   "outputs": [
    {
     "data": {
      "text/html": [
       "<div>\n",
       "<style scoped>\n",
       "    .dataframe tbody tr th:only-of-type {\n",
       "        vertical-align: middle;\n",
       "    }\n",
       "\n",
       "    .dataframe tbody tr th {\n",
       "        vertical-align: top;\n",
       "    }\n",
       "\n",
       "    .dataframe thead th {\n",
       "        text-align: right;\n",
       "    }\n",
       "</style>\n",
       "<table border=\"1\" class=\"dataframe\">\n",
       "  <thead>\n",
       "    <tr style=\"text-align: right;\">\n",
       "      <th></th>\n",
       "      <th>filename</th>\n",
       "      <th>cleaned_review</th>\n",
       "      <th>label</th>\n",
       "      <th>rating</th>\n",
       "    </tr>\n",
       "  </thead>\n",
       "  <tbody>\n",
       "    <tr>\n",
       "      <th>0</th>\n",
       "      <td>0_3.txt</td>\n",
       "      <td>story man unnatural feeling pig start opening ...</td>\n",
       "      <td>0</td>\n",
       "      <td>3</td>\n",
       "    </tr>\n",
       "    <tr>\n",
       "      <th>1</th>\n",
       "      <td>10000_4.txt</td>\n",
       "      <td>airport start brand new luxury plane loaded va...</td>\n",
       "      <td>0</td>\n",
       "      <td>4</td>\n",
       "    </tr>\n",
       "    <tr>\n",
       "      <th>2</th>\n",
       "      <td>10001_4.txt</td>\n",
       "      <td>film lacked something put finger first charism...</td>\n",
       "      <td>0</td>\n",
       "      <td>4</td>\n",
       "    </tr>\n",
       "    <tr>\n",
       "      <th>3</th>\n",
       "      <td>10002_1.txt</td>\n",
       "      <td>sorry everyone know supposed art film wow hand...</td>\n",
       "      <td>0</td>\n",
       "      <td>1</td>\n",
       "    </tr>\n",
       "    <tr>\n",
       "      <th>4</th>\n",
       "      <td>10003_1.txt</td>\n",
       "      <td>little parent took along theater see interior ...</td>\n",
       "      <td>0</td>\n",
       "      <td>1</td>\n",
       "    </tr>\n",
       "    <tr>\n",
       "      <th>...</th>\n",
       "      <td>...</td>\n",
       "      <td>...</td>\n",
       "      <td>...</td>\n",
       "      <td>...</td>\n",
       "    </tr>\n",
       "    <tr>\n",
       "      <th>24895</th>\n",
       "      <td>9998_9.txt</td>\n",
       "      <td>seeing vote average pretty low fact clerk vide...</td>\n",
       "      <td>1</td>\n",
       "      <td>9</td>\n",
       "    </tr>\n",
       "    <tr>\n",
       "      <th>24896</th>\n",
       "      <td>9999_8.txt</td>\n",
       "      <td>plot wretched unbelievable twist however chemi...</td>\n",
       "      <td>1</td>\n",
       "      <td>8</td>\n",
       "    </tr>\n",
       "    <tr>\n",
       "      <th>24897</th>\n",
       "      <td>999_10.txt</td>\n",
       "      <td>amazed movie others average star lower crappy ...</td>\n",
       "      <td>1</td>\n",
       "      <td>10</td>\n",
       "    </tr>\n",
       "    <tr>\n",
       "      <th>24898</th>\n",
       "      <td>99_8.txt</td>\n",
       "      <td>christmas together actually came time raised j...</td>\n",
       "      <td>1</td>\n",
       "      <td>8</td>\n",
       "    </tr>\n",
       "    <tr>\n",
       "      <th>24899</th>\n",
       "      <td>9_7.txt</td>\n",
       "      <td>working class romantic drama director martin r...</td>\n",
       "      <td>1</td>\n",
       "      <td>7</td>\n",
       "    </tr>\n",
       "  </tbody>\n",
       "</table>\n",
       "<p>24900 rows × 4 columns</p>\n",
       "</div>"
      ],
      "text/plain": [
       "          filename                                     cleaned_review  label  \\\n",
       "0          0_3.txt  story man unnatural feeling pig start opening ...      0   \n",
       "1      10000_4.txt  airport start brand new luxury plane loaded va...      0   \n",
       "2      10001_4.txt  film lacked something put finger first charism...      0   \n",
       "3      10002_1.txt  sorry everyone know supposed art film wow hand...      0   \n",
       "4      10003_1.txt  little parent took along theater see interior ...      0   \n",
       "...            ...                                                ...    ...   \n",
       "24895   9998_9.txt  seeing vote average pretty low fact clerk vide...      1   \n",
       "24896   9999_8.txt  plot wretched unbelievable twist however chemi...      1   \n",
       "24897   999_10.txt  amazed movie others average star lower crappy ...      1   \n",
       "24898     99_8.txt  christmas together actually came time raised j...      1   \n",
       "24899      9_7.txt  working class romantic drama director martin r...      1   \n",
       "\n",
       "       rating  \n",
       "0           3  \n",
       "1           4  \n",
       "2           4  \n",
       "3           1  \n",
       "4           1  \n",
       "...       ...  \n",
       "24895       9  \n",
       "24896       8  \n",
       "24897      10  \n",
       "24898       8  \n",
       "24899       7  \n",
       "\n",
       "[24900 rows x 4 columns]"
      ]
     },
     "execution_count": 48,
     "metadata": {},
     "output_type": "execute_result"
    }
   ],
   "source": [
    "df"
   ]
  },
  {
   "cell_type": "code",
   "execution_count": 49,
   "id": "b03044d6-b4fb-47d9-af28-5f7243ab96f6",
   "metadata": {},
   "outputs": [
    {
     "data": {
      "text/html": [
       "<div>\n",
       "<style scoped>\n",
       "    .dataframe tbody tr th:only-of-type {\n",
       "        vertical-align: middle;\n",
       "    }\n",
       "\n",
       "    .dataframe tbody tr th {\n",
       "        vertical-align: top;\n",
       "    }\n",
       "\n",
       "    .dataframe thead th {\n",
       "        text-align: right;\n",
       "    }\n",
       "</style>\n",
       "<table border=\"1\" class=\"dataframe\">\n",
       "  <thead>\n",
       "    <tr style=\"text-align: right;\">\n",
       "      <th></th>\n",
       "      <th>count</th>\n",
       "      <th>mean</th>\n",
       "      <th>std</th>\n",
       "      <th>min</th>\n",
       "      <th>25%</th>\n",
       "      <th>50%</th>\n",
       "      <th>75%</th>\n",
       "      <th>max</th>\n",
       "    </tr>\n",
       "    <tr>\n",
       "      <th>label</th>\n",
       "      <th></th>\n",
       "      <th></th>\n",
       "      <th></th>\n",
       "      <th></th>\n",
       "      <th></th>\n",
       "      <th></th>\n",
       "      <th></th>\n",
       "      <th></th>\n",
       "    </tr>\n",
       "  </thead>\n",
       "  <tbody>\n",
       "    <tr>\n",
       "      <th>0</th>\n",
       "      <td>12430.0</td>\n",
       "      <td>2.217458</td>\n",
       "      <td>1.190220</td>\n",
       "      <td>1.0</td>\n",
       "      <td>1.0</td>\n",
       "      <td>2.0</td>\n",
       "      <td>3.0</td>\n",
       "      <td>4.0</td>\n",
       "    </tr>\n",
       "    <tr>\n",
       "      <th>1</th>\n",
       "      <td>12470.0</td>\n",
       "      <td>8.737370</td>\n",
       "      <td>1.161955</td>\n",
       "      <td>7.0</td>\n",
       "      <td>8.0</td>\n",
       "      <td>9.0</td>\n",
       "      <td>10.0</td>\n",
       "      <td>10.0</td>\n",
       "    </tr>\n",
       "  </tbody>\n",
       "</table>\n",
       "</div>"
      ],
      "text/plain": [
       "         count      mean       std  min  25%  50%   75%   max\n",
       "label                                                        \n",
       "0      12430.0  2.217458  1.190220  1.0  1.0  2.0   3.0   4.0\n",
       "1      12470.0  8.737370  1.161955  7.0  8.0  9.0  10.0  10.0"
      ]
     },
     "execution_count": 49,
     "metadata": {},
     "output_type": "execute_result"
    }
   ],
   "source": [
    "df.groupby(\"label\")[\"rating\"].describe()"
   ]
  },
  {
   "cell_type": "code",
   "execution_count": 50,
   "id": "33bb0159-d311-4adf-86c9-86c1553ba7fa",
   "metadata": {},
   "outputs": [],
   "source": [
    "from sklearn.model_selection import train_test_split\n",
    "\n",
    "X_train, X_val, y_train, y_val = train_test_split(\n",
    "    df[\"cleaned_review\"], df[\"label\"],\n",
    "    test_size=0.2, stratify=df[\"label\"], random_state=42\n",
    ")"
   ]
  },
  {
   "cell_type": "code",
   "execution_count": 52,
   "id": "71125f93-ee4f-4e8a-8673-849010a4d7b2",
   "metadata": {},
   "outputs": [
    {
     "name": "stdout",
     "output_type": "stream",
     "text": [
      "Accuracy: 0.8883534136546185\n",
      "[[2194  292]\n",
      " [ 264 2230]]\n",
      "              precision    recall  f1-score   support\n",
      "\n",
      "           0      0.893     0.883     0.888      2486\n",
      "           1      0.884     0.894     0.889      2494\n",
      "\n",
      "    accuracy                          0.888      4980\n",
      "   macro avg      0.888     0.888     0.888      4980\n",
      "weighted avg      0.888     0.888     0.888      4980\n",
      "\n"
     ]
    }
   ],
   "source": [
    "vec = TfidfVectorizer(max_features=50000, ngram_range=(1,2), min_df=2)\n",
    "Xtr = vec.fit_transform(X_train)\n",
    "Xva = vec.transform(X_val)\n",
    "\n",
    "clf = LogisticRegression(max_iter=1000)\n",
    "clf.fit(Xtr, y_train)\n",
    "pred = clf.predict(Xva)\n",
    "\n",
    "print(\"Accuracy:\", accuracy_score(y_val, pred))\n",
    "print(confusion_matrix(y_val, pred))\n",
    "print(classification_report(y_val, pred, digits=3))"
   ]
  },
  {
   "cell_type": "markdown",
   "id": "60ca515d-f8f0-4a4f-8672-2bcf7006ebda",
   "metadata": {},
   "source": [
    "1 for positive and 0 for negative"
   ]
  },
  {
   "cell_type": "code",
   "execution_count": 55,
   "id": "6c6d04e9-495b-410b-8afe-f39875e33e51",
   "metadata": {},
   "outputs": [
    {
     "name": "stdout",
     "output_type": "stream",
     "text": [
      "1\n",
      "0\n"
     ]
    }
   ],
   "source": [
    "joblib.dump((vec, clf), \"imdb_tfidf_logreg.joblib\")\n",
    "\n",
    "def predict_sentiment(text: str) -> int:\n",
    "    cleaned = clean_review(text)\n",
    "    X = vec.transform([cleaned])\n",
    "    return int(clf.predict(X)[0])\n",
    "\n",
    "print(predict_sentiment(\"I loved this movie!!\"))   \n",
    "print(predict_sentiment(\"Terrible and boring\")) "
   ]
  },
  {
   "cell_type": "code",
   "execution_count": null,
   "id": "e4f75660-4c44-4180-bdd8-de043e3f8689",
   "metadata": {},
   "outputs": [],
   "source": []
  }
 ],
 "metadata": {
  "kernelspec": {
   "display_name": "Python [conda env:base] *",
   "language": "python",
   "name": "conda-base-py"
  },
  "language_info": {
   "codemirror_mode": {
    "name": "ipython",
    "version": 3
   },
   "file_extension": ".py",
   "mimetype": "text/x-python",
   "name": "python",
   "nbconvert_exporter": "python",
   "pygments_lexer": "ipython3",
   "version": "3.13.5"
  }
 },
 "nbformat": 4,
 "nbformat_minor": 5
}
