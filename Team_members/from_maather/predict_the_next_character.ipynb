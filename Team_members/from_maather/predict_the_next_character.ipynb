{
  "nbformat": 4,
  "nbformat_minor": 0,
  "metadata": {
    "colab": {
      "provenance": []
    },
    "kernelspec": {
      "name": "python3",
      "display_name": "Python 3"
    },
    "language_info": {
      "name": "python"
    }
  },
  "cells": [
    {
      "cell_type": "markdown",
      "source": [
        "Imports"
      ],
      "metadata": {
        "id": "T9JtEGv03jLO"
      }
    },
    {
      "cell_type": "code",
      "execution_count": 66,
      "metadata": {
        "id": "KDcEsES43TDB"
      },
      "outputs": [],
      "source": [
        "import os, re, random\n",
        "import numpy as np\n",
        "import tensorflow as tf\n",
        "from tensorflow import keras\n",
        "from tensorflow.keras import layers\n",
        "import matplotlib.pyplot as plt\n",
        "import os, re, glob, json, random, zipfile, subprocess, sys, unicodedata\n",
        "import pandas as pd\n",
        "from pathlib import Path"
      ]
    },
    {
      "cell_type": "code",
      "source": [
        "HAPPY_PRINCE_EXCERPT = r\"\"\"\n",
        "The Happy Prince.\n",
        "HIGH above the city, on a tall column, stood the statue of the Happy Prince.  He was gilded all over with thin leaves of fine gold, for eyes he had two bright sapphires, and a large red ruby glowed on his sword-hilt.\n",
        "He was very much admired indeed.  \"He is as beautiful as a weathercock,\" remarked one of the Town Councillors who wished to gain a reputation for having artistic tastes; \"only not quite so useful,\" he added, fearing lest people should think him unpractical, which he really was not.\n",
        "\"Why can't you be like the Happy Prince?\" asked a sensible mother of her little boy who was crying for the moon.  \"The Happy Prince never dreams of crying for anything.\"\n",
        "\"I am glad there is some one in the world who is quite happy,\" muttered a disappointed man as he gazed at the wonderful statue.\n",
        "\"He looks just like an angel,\" said the Charity Children as they came out of the cathedral in their bright scarlet cloaks and their clean white pinafores.\n",
        "\"How do you know?\" said the Mathematical Master, \"you have never seen one.\"\n",
        "\"Ah! but we have, in our dreams,\" answered the children; and the Mathematical Master frowned and looked very severe, for he did not approve of children dreaming.\n",
        "One night there flew over the city a little Swallow.  His friends had gone away to Egypt six weeks before, but he had stayed behind, for he was in love with the most beautiful Reed.  He had met her early in the spring as he was flying down the river after a big yellow moth, and had been so attracted by her slender waist that he had stopped to talk to her.\n",
        "\"Shall I love you?\" said the Swallow, who liked to come to the point at once, and the Reed made him a low bow.  So he flew round and round her, touching the water with his wings, and making silver ripples.  This was his courtship, and it lasted all through the summer.\n",
        "\"It is a ridiculous attachment,\" twittered the other Swallows; \"she has no money, and far too many relations\"; and indeed the river was quite full of Reeds.  Then, when the autumn came they all flew away.\n",
        "After they had gone he felt lonely, and began to tire of his lady-love.\n",
        "\"She has no conversation,\" he said, \"and I am afraid that she is a coquette, for she is always flirting with the wind.\"  And certainly, whenever the wind blew, the Reed made the most graceful curtseys.  \"I admit that she is domestic,\" he continued, \"but I love travelling, and my wife, consequently, should love travelling also.\"\n",
        "\"Will you come away with me?\" he said finally to her; but the Reed shook her head, she was so attached to her home.\n",
        "\"You have been trifling with me,\" he cried.  \"I am off to the Pyramids.\n",
        "Good-bye!\" and he flew away.\n",
        "All day long he flew, and at night-time he arrived at the city.  \"Where shall I put up?\" he said; \"I hope the town has made preparations.\"\n",
        "Then he saw the statue on the tall column.\n",
        "\"I will put up there,\" he cried; \"it is a fine position, with plenty of fresh air.\"  So he alighted just between the feet of the Happy Prince.\n",
        "\"I have a golden bedroom,\" he said softly to himself as he looked round, and he prepared to go to sleep; but just as he was putting his head under his wing a large drop of water fell on him.  \"What a curious thing!\" he cried; \"there is not a single cloud in the sky, the stars are quite clear and bright, and yet it is raining.  The climate in the north of Europe is really dreadful.  The Reed used to like the rain, but that was merely her selfishness.\"\n",
        "Then another drop fell.\n",
        "\"What is the use of a statue if it cannot keep the rain off?\" he said; \"I must look for a good chimney-pot,\" and he determined to fly away.\n",
        "But before he had opened his wings, a third drop fell, and he looked up, and saw—Ah! what did he see?\n",
        "The eyes of the Happy Prince were filled with tears, and tears were running down his golden cheeks.  His face was so beautiful in the moonlight that the little Swallow was filled with pity.\n",
        "\"Who are you?\" he said.\n",
        "\"I am the Happy Prince.\"\n",
        "\"Why are you weeping then?\" asked the Swallow; \"you have quite drenched me.\"\n",
        "\"When I was alive and had a human heart,\" answered the statue, \"I did not know what tears were, for I lived in the Palace of Sans-Souci, where sorrow is not allowed to enter.  In the daytime I played with my companions in the garden, and in the evening I led the dance in the Great Hall.  Round the garden ran a very lofty wall, but I never cared to ask what lay beyond it, everything about me was so beautiful.  My courtiers called me the Happy Prince, and happy indeed I was, if pleasure be happiness.  So I lived, and so I died.  And now that I am dead they have set me up here so high that I can see all the ugliness and all the misery of my city, and though my heart is made of lead yet I cannot chose but weep.\"\n",
        "\"What! is he not solid gold?\" said the Swallow to himself.  He was too polite to make any personal remarks out loud.\n",
        "\"Far away,\" continued the statue in a low musical voice, \"far away in a little street there is a poor house.  One of the windows is open, and through it I can see a woman seated at a table.  Her face is thin and worn, and she has coarse, red hands, all pricked by the needle, for she is a seamstress.  She is embroidering passion-flowers on a satin gown for the loveliest of the Queen's maids-of-honour to wear at the next Court-ball.  In a bed in the corner of the room her little boy is lying ill.  He has a fever, and is asking for oranges.  His mother has nothing to give him but river water, so he is crying.  Swallow, Swallow, little Swallow, will you not bring her the ruby out of my sword-hilt?  My feet are fastened to this pedestal and I cannot move.\"\n",
        "\"I am waited for in Egypt,\" said the Swallow.  \"My friends are flying up and down the Nile, and talking to the large lotus-flowers.  Soon they will go to sleep in the tomb of the great King.  The King is there himself in his painted coffin.  He is wrapped in yellow linen, and embalmed with spices.  Round his neck is a chain of pale green jade, and his hands are like withered leaves.\"\n",
        "\"Swallow, Swallow, little Swallow,\" said the Prince, \"will you not stay with me for one night, and be my messenger?  The boy is so thirsty, and the mother so sad.\"\n",
        "\"I don't think I like boys,\" answered the Swallow.  \"Last summer, when I was staying on the river, there were two rude boys, the miller's sons, who were always throwing stones at me.  They never hit me, of course; we swallows fly far too well for that, and besides, I come of a family famous for its agility; but still, it was a mark of disrespect.\"\n",
        "But the Happy Prince looked so sad that the little Swallow was sorry.\n",
        "\"It is very cold here,\" he said; \"but I will stay with you for one night, and be your messenger.\"\n",
        "\"Thank you, little Swallow,\" said the Prince.\n",
        "So the Swallow picked out the great ruby from the Prince's sword, and flew away with it in his beak over the roofs of the town.\n",
        "He passed by the cathedral tower, where the white marble angels were sculptured.  He passed by the palace and heard the sound of dancing.  A beautiful girl came out on the balcony with her lover.  \"How wonderful the stars are,\" he said to her, \"and how wonderful is the power of love!\"\n",
        "\"I hope my dress will be ready in time for the State-ball,\" she answered; \"I have ordered passion-flowers to be embroidered on it; but the seamstresses are so lazy.\"\n",
        "He passed over the river, and saw the lanterns hanging to the masts of the ships.  He passed over the Ghetto, and saw the old Jews bargaining with each other, and weighing out money in copper scales.  At last he came to the poor house and looked in.  The boy was tossing feverishly on his bed, and the mother had fallen asleep, she was so tired.  In he hopped, and laid the great ruby on the table beside the woman's thimble.\n",
        "Then he flew gently round the bed, fanning the boy's forehead with his wings.  \"How cool I feel,\" said the boy, \"I must be getting better\"; and he sank into a delicious slumber.\n",
        "Then the Swallow flew back to the Happy Prince, and told him what he had done.  \"It is curious,\" he remarked, \"but I feel quite warm now, although it is so cold.\"\n",
        "\"That is because you have done a good action,\" said the Prince.  And the little Swallow began to think, and then he fell asleep.  Thinking always made him sleepy.\n",
        "When day broke he flew down to the river and had a bath.  \"What a remarkable phenomenon,\" said the Professor of Ornithology as he was passing over the bridge.  \"A swallow in winter!\"  And he wrote a long letter about it to the local newspaper.  Every one quoted it, it was full of so many words that they could not understand.\n",
        "\"To-night I go to Egypt,\" said the Swallow, and he was in high spirits at the prospect.  He visited all the public monuments, and sat a long time on top of the church steeple.  Wherever he went the Sparrows chirruped, and said to each other, \"What a distinguished stranger!\" so he enjoyed himself very much.\n",
        "When the moon rose he flew back to the Happy Prince.  \"Have you any commissions for Egypt?\" he cried; \"I am just starting.\"\n",
        "\"\"\""
      ],
      "metadata": {
        "id": "ZgmtZQ2HCx14"
      },
      "execution_count": 64,
      "outputs": []
    },
    {
      "cell_type": "code",
      "source": [
        "def _normalize_quotes(s: str) -> str:\n",
        "    s = unicodedata.normalize(\"NFKC\", s)\n",
        "    mapping = {\"“\": '\"', \"”\": '\"', \"‘\": \"'\", \"’\": \"'\",\n",
        "               \"«\": '\"', \"»\": '\"', \"‹\": \"'\", \"›\": \"'\"}\n",
        "    return s.translate(str.maketrans(mapping))\n",
        "\n",
        "def _clean(s: str) -> str:\n",
        "    s = s.lower()\n",
        "    s = re.sub(r'[^a-z0-9\\s\\.\\,\\!\\?\\:\\;\\-\\(\\)\\'\"]', \" \", s)\n",
        "    s = re.sub(r\"\\s+\", \" \", s).strip()\n",
        "    return s\n",
        "\n",
        "def load_text_from_url(url: str) -> str:\n",
        "    # supports raw GitHub, Dropbox (?dl=1), direct http text\n",
        "    if \"dropbox.com\" in url and \"dl=1\" not in url:\n",
        "        url += (\"&dl=1\" if \"?\" in url else \"?dl=1\")\n",
        "    with urllib.request.urlopen(url) as r:\n",
        "        enc = r.headers.get_content_charset() or \"utf-8\"\n",
        "        return r.read().decode(enc, errors=\"ignore\")"
      ],
      "metadata": {
        "id": "d51CjCaQDAxQ"
      },
      "execution_count": 65,
      "outputs": []
    },
    {
      "cell_type": "markdown",
      "source": [
        "normalize quotes and accents, 2) clean, 3) produce text + vocab"
      ],
      "metadata": {
        "id": "ZIM8fvipC57I"
      }
    },
    {
      "cell_type": "code",
      "source": [
        "raw  = _normalize_quotes(HAPPY_PRINCE_EXCERPT)\n",
        "text = _clean(raw)\n",
        "\n",
        "chars    = sorted(set(text))\n",
        "char2idx = {c: i for i, c in enumerate(chars)}\n",
        "idx2char = {i: c for c, i in char2idx.items()}\n",
        "\n",
        "print(\"Corpus length (chars):\", len(text))\n",
        "print(\"Vocab size:\", len(chars))\n",
        "print(\"\\nPreview:\\n\", text[:300])"
      ],
      "metadata": {
        "colab": {
          "base_uri": "https://localhost:8080/"
        },
        "id": "dRahVZDAC46F",
        "outputId": "a455fd47-bb77-47f3-b5cb-eb2dcab3fd0d"
      },
      "execution_count": 67,
      "outputs": [
        {
          "output_type": "stream",
          "name": "stdout",
          "text": [
            "Corpus length (chars): 8945\n",
            "Vocab size: 35\n",
            "\n",
            "Preview:\n",
            " the happy prince. high above the city, on a tall column, stood the statue of the happy prince. he was gilded all over with thin leaves of fine gold, for eyes he had two bright sapphires, and a large red ruby glowed on his sword-hilt. he was very much admired indeed. \"he is as beautiful as a weatherc\n"
          ]
        }
      ]
    },
    {
      "cell_type": "markdown",
      "source": [
        "Hyperparameters for sequence creation"
      ],
      "metadata": {
        "id": "ggHXNLiBEJnw"
      }
    },
    {
      "cell_type": "code",
      "source": [
        "SEQ_LEN    = 60     # try 40–120 later\n",
        "STEP       = 1\n",
        "BATCH_SIZE = 64\n"
      ],
      "metadata": {
        "id": "J82jdvBhD9tB"
      },
      "execution_count": 68,
      "outputs": []
    },
    {
      "cell_type": "markdown",
      "source": [
        "Encode corpus to integer ids"
      ],
      "metadata": {
        "id": "Bk9K739IEMbh"
      }
    },
    {
      "cell_type": "code",
      "source": [
        "encoded = np.fromiter((char2idx[c] for c in text), dtype=np.int32)\n",
        "\n",
        "# Create sliding windows\n",
        "X_list, y_list = [], []\n",
        "for i in range(0, len(encoded) - SEQ_LEN, STEP):\n",
        "    X_list.append(encoded[i : i + SEQ_LEN])\n",
        "    y_list.append(encoded[i + SEQ_LEN])\n",
        "\n",
        "X = np.stack(X_list).astype(np.int32)         # (num_sequences, SEQ_LEN)\n",
        "y = np.array(y_list, dtype=np.int32)          # (num_sequences,)\n",
        "\n",
        "print(f\"Total sequences: {len(X):,}\")\n",
        "print(f\"Sequence length: {SEQ_LEN}, Vocab size: {len(char2idx)}\")"
      ],
      "metadata": {
        "colab": {
          "base_uri": "https://localhost:8080/"
        },
        "id": "CvZfzS8uEL25",
        "outputId": "594de19e-bebd-4a37-be73-62b952621853"
      },
      "execution_count": 69,
      "outputs": [
        {
          "output_type": "stream",
          "name": "stdout",
          "text": [
            "Total sequences: 8,885\n",
            "Sequence length: 60, Vocab size: 35\n"
          ]
        }
      ]
    },
    {
      "cell_type": "markdown",
      "source": [
        "Train/val split (90/10)"
      ],
      "metadata": {
        "id": "DGvJBfpiES0d"
      }
    },
    {
      "cell_type": "code",
      "source": [
        "split = int(0.9 * len(X))\n",
        "X_train, X_val = X[:split], X[split:]\n",
        "y_train, y_val = y[:split], y[split:]\n"
      ],
      "metadata": {
        "id": "hr28U0ldERcC"
      },
      "execution_count": 70,
      "outputs": []
    },
    {
      "cell_type": "markdown",
      "source": [
        "tf.data pipelines"
      ],
      "metadata": {
        "id": "NRwGBtajEZ5y"
      }
    },
    {
      "cell_type": "code",
      "source": [
        "train_ds = tf.data.Dataset.from_tensor_slices((X_train, y_train)) \\\n",
        "    .shuffle(buffer_size=min(8192, len(X_train))) \\\n",
        "    .batch(BATCH_SIZE) \\\n",
        "    .prefetch(tf.data.AUTOTUNE)\n",
        "\n",
        "val_ds = tf.data.Dataset.from_tensor_slices((X_val, y_val)) \\\n",
        "    .batch(BATCH_SIZE) \\\n",
        "    .prefetch(tf.data.AUTOTUNE)"
      ],
      "metadata": {
        "id": "NnkHORZxEXK2"
      },
      "execution_count": 71,
      "outputs": []
    },
    {
      "cell_type": "code",
      "source": [
        "def decode(ids):\n",
        "    return \"\".join(idx2char[int(i)] for i in ids)\n",
        "\n",
        "print(\"\\nSample input sequence:\\n\", decode(X_train[0]))\n",
        "print(\"Target next char:\", idx2char[int(y_train[0])])\n",
        "\n",
        "print(\"\\nShapes:\")\n",
        "print(\"X_train:\", X_train.shape, \"y_train:\", y_train.shape)\n",
        "print(\"X_val  :\", X_val.shape,   \"y_val  :\", y_val.shape)"
      ],
      "metadata": {
        "colab": {
          "base_uri": "https://localhost:8080/"
        },
        "id": "SigwGyPWEcx0",
        "outputId": "9948820f-cad7-4d05-b4a6-764582ec9e8c"
      },
      "execution_count": 72,
      "outputs": [
        {
          "output_type": "stream",
          "name": "stdout",
          "text": [
            "\n",
            "Sample input sequence:\n",
            " the happy prince. high above the city, on a tall column, sto\n",
            "Target next char: o\n",
            "\n",
            "Shapes:\n",
            "X_train: (7996, 60) y_train: (7996,)\n",
            "X_val  : (889, 60) y_val  : (889,)\n"
          ]
        }
      ]
    },
    {
      "cell_type": "markdown",
      "source": [
        "Baseline SimpleRNN"
      ],
      "metadata": {
        "id": "s8niejpBEq0T"
      }
    },
    {
      "cell_type": "code",
      "source": [
        "vocab_size = len(char2idx)\n",
        "\n",
        "# Hyperparameters\n",
        "EMBED_DIM = 32\n",
        "UNITS     = 128\n",
        "DROPOUT   = 0.2\n",
        "LR        = 1e-3\n",
        "EPOCHS    = 6"
      ],
      "metadata": {
        "id": "S0JXAkABEgH9"
      },
      "execution_count": 73,
      "outputs": []
    },
    {
      "cell_type": "markdown",
      "source": [
        "Build model"
      ],
      "metadata": {
        "id": "1HxdvV-7EvM_"
      }
    },
    {
      "cell_type": "code",
      "source": [
        "inputs = keras.Input(shape=(None,), dtype=\"int32\")\n",
        "x = layers.Embedding(input_dim=vocab_size, output_dim=EMBED_DIM)(inputs)\n",
        "x = layers.SimpleRNN(UNITS, dropout=DROPOUT)(x)       # returns last hidden state\n",
        "outputs = layers.Dense(vocab_size, activation=\"softmax\")(x)\n",
        "rnn_model = keras.Model(inputs, outputs, name=\"char_simple_rnn\")\n",
        "\n",
        "rnn_model.compile(\n",
        "    optimizer=keras.optimizers.Adam(learning_rate=LR),\n",
        "    loss=\"sparse_categorical_crossentropy\",\n",
        "    metrics=[\"sparse_categorical_accuracy\"]\n",
        ")\n",
        "\n",
        "rnn_model.summary()\n",
        "\n",
        "history_rnn = rnn_model.fit(\n",
        "    train_ds,\n",
        "    validation_data=val_ds,\n",
        "    epochs=EPOCHS,\n",
        "    verbose=1\n",
        ")"
      ],
      "metadata": {
        "colab": {
          "base_uri": "https://localhost:8080/",
          "height": 485
        },
        "id": "CKQCej9FEubI",
        "outputId": "688b134a-f89a-4675-f168-35cae4806617"
      },
      "execution_count": 74,
      "outputs": [
        {
          "output_type": "display_data",
          "data": {
            "text/plain": [
              "\u001b[1mModel: \"char_simple_rnn\"\u001b[0m\n"
            ],
            "text/html": [
              "<pre style=\"white-space:pre;overflow-x:auto;line-height:normal;font-family:Menlo,'DejaVu Sans Mono',consolas,'Courier New',monospace\"><span style=\"font-weight: bold\">Model: \"char_simple_rnn\"</span>\n",
              "</pre>\n"
            ]
          },
          "metadata": {}
        },
        {
          "output_type": "display_data",
          "data": {
            "text/plain": [
              "┏━━━━━━━━━━━━━━━━━━━━━━━━━━━━━━━━━┳━━━━━━━━━━━━━━━━━━━━━━━━┳━━━━━━━━━━━━━━━┓\n",
              "┃\u001b[1m \u001b[0m\u001b[1mLayer (type)                   \u001b[0m\u001b[1m \u001b[0m┃\u001b[1m \u001b[0m\u001b[1mOutput Shape          \u001b[0m\u001b[1m \u001b[0m┃\u001b[1m \u001b[0m\u001b[1m      Param #\u001b[0m\u001b[1m \u001b[0m┃\n",
              "┡━━━━━━━━━━━━━━━━━━━━━━━━━━━━━━━━━╇━━━━━━━━━━━━━━━━━━━━━━━━╇━━━━━━━━━━━━━━━┩\n",
              "│ input_layer_2 (\u001b[38;5;33mInputLayer\u001b[0m)      │ (\u001b[38;5;45mNone\u001b[0m, \u001b[38;5;45mNone\u001b[0m)           │             \u001b[38;5;34m0\u001b[0m │\n",
              "├─────────────────────────────────┼────────────────────────┼───────────────┤\n",
              "│ embedding_2 (\u001b[38;5;33mEmbedding\u001b[0m)         │ (\u001b[38;5;45mNone\u001b[0m, \u001b[38;5;45mNone\u001b[0m, \u001b[38;5;34m32\u001b[0m)       │         \u001b[38;5;34m1,120\u001b[0m │\n",
              "├─────────────────────────────────┼────────────────────────┼───────────────┤\n",
              "│ simple_rnn_1 (\u001b[38;5;33mSimpleRNN\u001b[0m)        │ (\u001b[38;5;45mNone\u001b[0m, \u001b[38;5;34m128\u001b[0m)            │        \u001b[38;5;34m20,608\u001b[0m │\n",
              "├─────────────────────────────────┼────────────────────────┼───────────────┤\n",
              "│ dense_2 (\u001b[38;5;33mDense\u001b[0m)                 │ (\u001b[38;5;45mNone\u001b[0m, \u001b[38;5;34m35\u001b[0m)             │         \u001b[38;5;34m4,515\u001b[0m │\n",
              "└─────────────────────────────────┴────────────────────────┴───────────────┘\n"
            ],
            "text/html": [
              "<pre style=\"white-space:pre;overflow-x:auto;line-height:normal;font-family:Menlo,'DejaVu Sans Mono',consolas,'Courier New',monospace\">┏━━━━━━━━━━━━━━━━━━━━━━━━━━━━━━━━━┳━━━━━━━━━━━━━━━━━━━━━━━━┳━━━━━━━━━━━━━━━┓\n",
              "┃<span style=\"font-weight: bold\"> Layer (type)                    </span>┃<span style=\"font-weight: bold\"> Output Shape           </span>┃<span style=\"font-weight: bold\">       Param # </span>┃\n",
              "┡━━━━━━━━━━━━━━━━━━━━━━━━━━━━━━━━━╇━━━━━━━━━━━━━━━━━━━━━━━━╇━━━━━━━━━━━━━━━┩\n",
              "│ input_layer_2 (<span style=\"color: #0087ff; text-decoration-color: #0087ff\">InputLayer</span>)      │ (<span style=\"color: #00d7ff; text-decoration-color: #00d7ff\">None</span>, <span style=\"color: #00d7ff; text-decoration-color: #00d7ff\">None</span>)           │             <span style=\"color: #00af00; text-decoration-color: #00af00\">0</span> │\n",
              "├─────────────────────────────────┼────────────────────────┼───────────────┤\n",
              "│ embedding_2 (<span style=\"color: #0087ff; text-decoration-color: #0087ff\">Embedding</span>)         │ (<span style=\"color: #00d7ff; text-decoration-color: #00d7ff\">None</span>, <span style=\"color: #00d7ff; text-decoration-color: #00d7ff\">None</span>, <span style=\"color: #00af00; text-decoration-color: #00af00\">32</span>)       │         <span style=\"color: #00af00; text-decoration-color: #00af00\">1,120</span> │\n",
              "├─────────────────────────────────┼────────────────────────┼───────────────┤\n",
              "│ simple_rnn_1 (<span style=\"color: #0087ff; text-decoration-color: #0087ff\">SimpleRNN</span>)        │ (<span style=\"color: #00d7ff; text-decoration-color: #00d7ff\">None</span>, <span style=\"color: #00af00; text-decoration-color: #00af00\">128</span>)            │        <span style=\"color: #00af00; text-decoration-color: #00af00\">20,608</span> │\n",
              "├─────────────────────────────────┼────────────────────────┼───────────────┤\n",
              "│ dense_2 (<span style=\"color: #0087ff; text-decoration-color: #0087ff\">Dense</span>)                 │ (<span style=\"color: #00d7ff; text-decoration-color: #00d7ff\">None</span>, <span style=\"color: #00af00; text-decoration-color: #00af00\">35</span>)             │         <span style=\"color: #00af00; text-decoration-color: #00af00\">4,515</span> │\n",
              "└─────────────────────────────────┴────────────────────────┴───────────────┘\n",
              "</pre>\n"
            ]
          },
          "metadata": {}
        },
        {
          "output_type": "display_data",
          "data": {
            "text/plain": [
              "\u001b[1m Total params: \u001b[0m\u001b[38;5;34m26,243\u001b[0m (102.51 KB)\n"
            ],
            "text/html": [
              "<pre style=\"white-space:pre;overflow-x:auto;line-height:normal;font-family:Menlo,'DejaVu Sans Mono',consolas,'Courier New',monospace\"><span style=\"font-weight: bold\"> Total params: </span><span style=\"color: #00af00; text-decoration-color: #00af00\">26,243</span> (102.51 KB)\n",
              "</pre>\n"
            ]
          },
          "metadata": {}
        },
        {
          "output_type": "display_data",
          "data": {
            "text/plain": [
              "\u001b[1m Trainable params: \u001b[0m\u001b[38;5;34m26,243\u001b[0m (102.51 KB)\n"
            ],
            "text/html": [
              "<pre style=\"white-space:pre;overflow-x:auto;line-height:normal;font-family:Menlo,'DejaVu Sans Mono',consolas,'Courier New',monospace\"><span style=\"font-weight: bold\"> Trainable params: </span><span style=\"color: #00af00; text-decoration-color: #00af00\">26,243</span> (102.51 KB)\n",
              "</pre>\n"
            ]
          },
          "metadata": {}
        },
        {
          "output_type": "display_data",
          "data": {
            "text/plain": [
              "\u001b[1m Non-trainable params: \u001b[0m\u001b[38;5;34m0\u001b[0m (0.00 B)\n"
            ],
            "text/html": [
              "<pre style=\"white-space:pre;overflow-x:auto;line-height:normal;font-family:Menlo,'DejaVu Sans Mono',consolas,'Courier New',monospace\"><span style=\"font-weight: bold\"> Non-trainable params: </span><span style=\"color: #00af00; text-decoration-color: #00af00\">0</span> (0.00 B)\n",
              "</pre>\n"
            ]
          },
          "metadata": {}
        },
        {
          "output_type": "stream",
          "name": "stdout",
          "text": [
            "Epoch 1/6\n",
            "\u001b[1m125/125\u001b[0m \u001b[32m━━━━━━━━━━━━━━━━━━━━\u001b[0m\u001b[37m\u001b[0m \u001b[1m7s\u001b[0m 32ms/step - loss: 3.0791 - sparse_categorical_accuracy: 0.1683 - val_loss: 2.8616 - val_sparse_categorical_accuracy: 0.2115\n",
            "Epoch 2/6\n",
            "\u001b[1m125/125\u001b[0m \u001b[32m━━━━━━━━━━━━━━━━━━━━\u001b[0m\u001b[37m\u001b[0m \u001b[1m4s\u001b[0m 30ms/step - loss: 2.7059 - sparse_categorical_accuracy: 0.2573 - val_loss: 2.5047 - val_sparse_categorical_accuracy: 0.2947\n",
            "Epoch 3/6\n",
            "\u001b[1m125/125\u001b[0m \u001b[32m━━━━━━━━━━━━━━━━━━━━\u001b[0m\u001b[37m\u001b[0m \u001b[1m6s\u001b[0m 35ms/step - loss: 2.4025 - sparse_categorical_accuracy: 0.3238 - val_loss: 2.3570 - val_sparse_categorical_accuracy: 0.3273\n",
            "Epoch 4/6\n",
            "\u001b[1m125/125\u001b[0m \u001b[32m━━━━━━━━━━━━━━━━━━━━\u001b[0m\u001b[37m\u001b[0m \u001b[1m4s\u001b[0m 30ms/step - loss: 2.3007 - sparse_categorical_accuracy: 0.3406 - val_loss: 2.3175 - val_sparse_categorical_accuracy: 0.3431\n",
            "Epoch 5/6\n",
            "\u001b[1m125/125\u001b[0m \u001b[32m━━━━━━━━━━━━━━━━━━━━\u001b[0m\u001b[37m\u001b[0m \u001b[1m4s\u001b[0m 30ms/step - loss: 2.2131 - sparse_categorical_accuracy: 0.3552 - val_loss: 2.2847 - val_sparse_categorical_accuracy: 0.3487\n",
            "Epoch 6/6\n",
            "\u001b[1m125/125\u001b[0m \u001b[32m━━━━━━━━━━━━━━━━━━━━\u001b[0m\u001b[37m\u001b[0m \u001b[1m5s\u001b[0m 32ms/step - loss: 2.1205 - sparse_categorical_accuracy: 0.3785 - val_loss: 2.2270 - val_sparse_categorical_accuracy: 0.3690\n"
          ]
        }
      ]
    },
    {
      "cell_type": "code",
      "source": [
        "def decode(ids):  # helper\n",
        "    return \"\".join(idx2char[int(i)] for i in ids)\n",
        "\n",
        "def predict_next_char(model, seed_text, top_k=5):\n",
        "    seed_ids = np.array([[char2idx[c] for c in seed_text]], dtype=np.int32)\n",
        "    probs = model.predict(seed_ids, verbose=0)[0]  # (vocab_size,)\n",
        "    top = probs.argsort()[-top_k:][::-1]\n",
        "    return [(idx2char[i], float(probs[i])) for i in top]\n",
        "\n",
        "seed = decode(X_train[0])\n",
        "print(\"\\nSeed:\\n\", seed)\n",
        "print(\"Top-5 next-char (char, prob):\")\n",
        "print(predict_next_char(rnn_model, seed, top_k=5))"
      ],
      "metadata": {
        "colab": {
          "base_uri": "https://localhost:8080/"
        },
        "id": "dbXNzdhvE0D9",
        "outputId": "e76d1271-3815-4573-c529-d4592a7f3eae"
      },
      "execution_count": 75,
      "outputs": [
        {
          "output_type": "stream",
          "name": "stdout",
          "text": [
            "\n",
            "Seed:\n",
            " the happy prince. high above the city, on a tall column, sto\n",
            "Top-5 next-char (char, prob):\n",
            "[(' ', 0.23300233483314514), ('r', 0.12876586616039276), ('w', 0.10431730002164841), ('n', 0.10158956050872803), ('u', 0.08316922187805176)]\n"
          ]
        }
      ]
    },
    {
      "cell_type": "markdown",
      "source": [
        "LSTM model + accuracy visualization"
      ],
      "metadata": {
        "id": "FtWGuU9PFerA"
      }
    },
    {
      "cell_type": "code",
      "source": [
        "vocab_size = len(char2idx)\n",
        "\n",
        "# Hyperparameters (match RNN for fair comparison)\n",
        "EMBED_DIM = 32\n",
        "UNITS     = 128\n",
        "DROPOUT   = 0.2\n",
        "LR        = 1e-3\n",
        "EPOCHS    = 6"
      ],
      "metadata": {
        "id": "wCwSJAdiFA8U"
      },
      "execution_count": 76,
      "outputs": []
    },
    {
      "cell_type": "markdown",
      "source": [
        "Build & train LSTM"
      ],
      "metadata": {
        "id": "Wxh79mIXFi7u"
      }
    },
    {
      "cell_type": "code",
      "source": [
        "inputs = keras.Input(shape=(None,), dtype=\"int32\")\n",
        "x = layers.Embedding(input_dim=vocab_size, output_dim=EMBED_DIM)(inputs)\n",
        "x = layers.LSTM(UNITS, dropout=DROPOUT)(x)\n",
        "outputs = layers.Dense(vocab_size, activation=\"softmax\")(x)\n",
        "lstm_model = keras.Model(inputs, outputs, name=\"char_lstm\")\n",
        "\n",
        "lstm_model.compile(\n",
        "    optimizer=keras.optimizers.Adam(learning_rate=LR),\n",
        "    loss=\"sparse_categorical_crossentropy\",\n",
        "    metrics=[\"sparse_categorical_accuracy\"]\n",
        ")\n",
        "\n",
        "lstm_model.summary()\n",
        "\n",
        "history_lstm = lstm_model.fit(\n",
        "    train_ds,\n",
        "    validation_data=val_ds,\n",
        "    epochs=EPOCHS,\n",
        "    verbose=1\n",
        ")"
      ],
      "metadata": {
        "colab": {
          "base_uri": "https://localhost:8080/",
          "height": 485
        },
        "id": "bpjsuA8XFiFZ",
        "outputId": "b1b0731b-fedf-46cf-ea1b-c8a01d9e5aff"
      },
      "execution_count": 77,
      "outputs": [
        {
          "output_type": "display_data",
          "data": {
            "text/plain": [
              "\u001b[1mModel: \"char_lstm\"\u001b[0m\n"
            ],
            "text/html": [
              "<pre style=\"white-space:pre;overflow-x:auto;line-height:normal;font-family:Menlo,'DejaVu Sans Mono',consolas,'Courier New',monospace\"><span style=\"font-weight: bold\">Model: \"char_lstm\"</span>\n",
              "</pre>\n"
            ]
          },
          "metadata": {}
        },
        {
          "output_type": "display_data",
          "data": {
            "text/plain": [
              "┏━━━━━━━━━━━━━━━━━━━━━━━━━━━━━━━━━┳━━━━━━━━━━━━━━━━━━━━━━━━┳━━━━━━━━━━━━━━━┓\n",
              "┃\u001b[1m \u001b[0m\u001b[1mLayer (type)                   \u001b[0m\u001b[1m \u001b[0m┃\u001b[1m \u001b[0m\u001b[1mOutput Shape          \u001b[0m\u001b[1m \u001b[0m┃\u001b[1m \u001b[0m\u001b[1m      Param #\u001b[0m\u001b[1m \u001b[0m┃\n",
              "┡━━━━━━━━━━━━━━━━━━━━━━━━━━━━━━━━━╇━━━━━━━━━━━━━━━━━━━━━━━━╇━━━━━━━━━━━━━━━┩\n",
              "│ input_layer_3 (\u001b[38;5;33mInputLayer\u001b[0m)      │ (\u001b[38;5;45mNone\u001b[0m, \u001b[38;5;45mNone\u001b[0m)           │             \u001b[38;5;34m0\u001b[0m │\n",
              "├─────────────────────────────────┼────────────────────────┼───────────────┤\n",
              "│ embedding_3 (\u001b[38;5;33mEmbedding\u001b[0m)         │ (\u001b[38;5;45mNone\u001b[0m, \u001b[38;5;45mNone\u001b[0m, \u001b[38;5;34m32\u001b[0m)       │         \u001b[38;5;34m1,120\u001b[0m │\n",
              "├─────────────────────────────────┼────────────────────────┼───────────────┤\n",
              "│ lstm_1 (\u001b[38;5;33mLSTM\u001b[0m)                   │ (\u001b[38;5;45mNone\u001b[0m, \u001b[38;5;34m128\u001b[0m)            │        \u001b[38;5;34m82,432\u001b[0m │\n",
              "├─────────────────────────────────┼────────────────────────┼───────────────┤\n",
              "│ dense_3 (\u001b[38;5;33mDense\u001b[0m)                 │ (\u001b[38;5;45mNone\u001b[0m, \u001b[38;5;34m35\u001b[0m)             │         \u001b[38;5;34m4,515\u001b[0m │\n",
              "└─────────────────────────────────┴────────────────────────┴───────────────┘\n"
            ],
            "text/html": [
              "<pre style=\"white-space:pre;overflow-x:auto;line-height:normal;font-family:Menlo,'DejaVu Sans Mono',consolas,'Courier New',monospace\">┏━━━━━━━━━━━━━━━━━━━━━━━━━━━━━━━━━┳━━━━━━━━━━━━━━━━━━━━━━━━┳━━━━━━━━━━━━━━━┓\n",
              "┃<span style=\"font-weight: bold\"> Layer (type)                    </span>┃<span style=\"font-weight: bold\"> Output Shape           </span>┃<span style=\"font-weight: bold\">       Param # </span>┃\n",
              "┡━━━━━━━━━━━━━━━━━━━━━━━━━━━━━━━━━╇━━━━━━━━━━━━━━━━━━━━━━━━╇━━━━━━━━━━━━━━━┩\n",
              "│ input_layer_3 (<span style=\"color: #0087ff; text-decoration-color: #0087ff\">InputLayer</span>)      │ (<span style=\"color: #00d7ff; text-decoration-color: #00d7ff\">None</span>, <span style=\"color: #00d7ff; text-decoration-color: #00d7ff\">None</span>)           │             <span style=\"color: #00af00; text-decoration-color: #00af00\">0</span> │\n",
              "├─────────────────────────────────┼────────────────────────┼───────────────┤\n",
              "│ embedding_3 (<span style=\"color: #0087ff; text-decoration-color: #0087ff\">Embedding</span>)         │ (<span style=\"color: #00d7ff; text-decoration-color: #00d7ff\">None</span>, <span style=\"color: #00d7ff; text-decoration-color: #00d7ff\">None</span>, <span style=\"color: #00af00; text-decoration-color: #00af00\">32</span>)       │         <span style=\"color: #00af00; text-decoration-color: #00af00\">1,120</span> │\n",
              "├─────────────────────────────────┼────────────────────────┼───────────────┤\n",
              "│ lstm_1 (<span style=\"color: #0087ff; text-decoration-color: #0087ff\">LSTM</span>)                   │ (<span style=\"color: #00d7ff; text-decoration-color: #00d7ff\">None</span>, <span style=\"color: #00af00; text-decoration-color: #00af00\">128</span>)            │        <span style=\"color: #00af00; text-decoration-color: #00af00\">82,432</span> │\n",
              "├─────────────────────────────────┼────────────────────────┼───────────────┤\n",
              "│ dense_3 (<span style=\"color: #0087ff; text-decoration-color: #0087ff\">Dense</span>)                 │ (<span style=\"color: #00d7ff; text-decoration-color: #00d7ff\">None</span>, <span style=\"color: #00af00; text-decoration-color: #00af00\">35</span>)             │         <span style=\"color: #00af00; text-decoration-color: #00af00\">4,515</span> │\n",
              "└─────────────────────────────────┴────────────────────────┴───────────────┘\n",
              "</pre>\n"
            ]
          },
          "metadata": {}
        },
        {
          "output_type": "display_data",
          "data": {
            "text/plain": [
              "\u001b[1m Total params: \u001b[0m\u001b[38;5;34m88,067\u001b[0m (344.01 KB)\n"
            ],
            "text/html": [
              "<pre style=\"white-space:pre;overflow-x:auto;line-height:normal;font-family:Menlo,'DejaVu Sans Mono',consolas,'Courier New',monospace\"><span style=\"font-weight: bold\"> Total params: </span><span style=\"color: #00af00; text-decoration-color: #00af00\">88,067</span> (344.01 KB)\n",
              "</pre>\n"
            ]
          },
          "metadata": {}
        },
        {
          "output_type": "display_data",
          "data": {
            "text/plain": [
              "\u001b[1m Trainable params: \u001b[0m\u001b[38;5;34m88,067\u001b[0m (344.01 KB)\n"
            ],
            "text/html": [
              "<pre style=\"white-space:pre;overflow-x:auto;line-height:normal;font-family:Menlo,'DejaVu Sans Mono',consolas,'Courier New',monospace\"><span style=\"font-weight: bold\"> Trainable params: </span><span style=\"color: #00af00; text-decoration-color: #00af00\">88,067</span> (344.01 KB)\n",
              "</pre>\n"
            ]
          },
          "metadata": {}
        },
        {
          "output_type": "display_data",
          "data": {
            "text/plain": [
              "\u001b[1m Non-trainable params: \u001b[0m\u001b[38;5;34m0\u001b[0m (0.00 B)\n"
            ],
            "text/html": [
              "<pre style=\"white-space:pre;overflow-x:auto;line-height:normal;font-family:Menlo,'DejaVu Sans Mono',consolas,'Courier New',monospace\"><span style=\"font-weight: bold\"> Non-trainable params: </span><span style=\"color: #00af00; text-decoration-color: #00af00\">0</span> (0.00 B)\n",
              "</pre>\n"
            ]
          },
          "metadata": {}
        },
        {
          "output_type": "stream",
          "name": "stdout",
          "text": [
            "Epoch 1/6\n",
            "\u001b[1m125/125\u001b[0m \u001b[32m━━━━━━━━━━━━━━━━━━━━\u001b[0m\u001b[37m\u001b[0m \u001b[1m16s\u001b[0m 105ms/step - loss: 3.1297 - sparse_categorical_accuracy: 0.1767 - val_loss: 2.8674 - val_sparse_categorical_accuracy: 0.1834\n",
            "Epoch 2/6\n",
            "\u001b[1m125/125\u001b[0m \u001b[32m━━━━━━━━━━━━━━━━━━━━\u001b[0m\u001b[37m\u001b[0m \u001b[1m13s\u001b[0m 103ms/step - loss: 2.7387 - sparse_categorical_accuracy: 0.2355 - val_loss: 2.5658 - val_sparse_categorical_accuracy: 0.2812\n",
            "Epoch 3/6\n",
            "\u001b[1m125/125\u001b[0m \u001b[32m━━━━━━━━━━━━━━━━━━━━\u001b[0m\u001b[37m\u001b[0m \u001b[1m13s\u001b[0m 104ms/step - loss: 2.4467 - sparse_categorical_accuracy: 0.3084 - val_loss: 2.4188 - val_sparse_categorical_accuracy: 0.3003\n",
            "Epoch 4/6\n",
            "\u001b[1m125/125\u001b[0m \u001b[32m━━━━━━━━━━━━━━━━━━━━\u001b[0m\u001b[37m\u001b[0m \u001b[1m13s\u001b[0m 104ms/step - loss: 2.3050 - sparse_categorical_accuracy: 0.3352 - val_loss: 2.3516 - val_sparse_categorical_accuracy: 0.3251\n",
            "Epoch 5/6\n",
            "\u001b[1m125/125\u001b[0m \u001b[32m━━━━━━━━━━━━━━━━━━━━\u001b[0m\u001b[37m\u001b[0m \u001b[1m13s\u001b[0m 104ms/step - loss: 2.2720 - sparse_categorical_accuracy: 0.3361 - val_loss: 2.2771 - val_sparse_categorical_accuracy: 0.3375\n",
            "Epoch 6/6\n",
            "\u001b[1m125/125\u001b[0m \u001b[32m━━━━━━━━━━━━━━━━━━━━\u001b[0m\u001b[37m\u001b[0m \u001b[1m13s\u001b[0m 103ms/step - loss: 2.1977 - sparse_categorical_accuracy: 0.3475 - val_loss: 2.2344 - val_sparse_categorical_accuracy: 0.3453\n"
          ]
        }
      ]
    },
    {
      "cell_type": "markdown",
      "source": [
        "Plot accuracy curves: RNN vs LSTM"
      ],
      "metadata": {
        "id": "j9G5FBP8F-9d"
      }
    },
    {
      "cell_type": "code",
      "source": [
        "rnn_acc  = history_rnn.history[\"sparse_categorical_accuracy\"]\n",
        "rnn_val  = history_rnn.history[\"val_sparse_categorical_accuracy\"]\n",
        "lstm_acc = history_lstm.history[\"sparse_categorical_accuracy\"]\n",
        "lstm_val = history_lstm.history[\"val_sparse_categorical_accuracy\"]\n",
        "\n",
        "epochs_rnn  = range(1, len(rnn_acc) + 1)\n",
        "epochs_lstm = range(1, len(lstm_acc) + 1)\n",
        "\n",
        "plt.figure()\n",
        "plt.plot(epochs_rnn,  rnn_acc,  label=\"RNN train acc\")\n",
        "plt.plot(epochs_rnn,  rnn_val,  label=\"RNN val acc\")\n",
        "plt.plot(epochs_lstm, lstm_acc, label=\"LSTM train acc\")\n",
        "plt.plot(epochs_lstm, lstm_val, label=\"LSTM val acc\")\n",
        "plt.xlabel(\"Epoch\")\n",
        "plt.ylabel(\"Accuracy\")\n",
        "plt.title(\"Next-character prediction — RNN vs LSTM\")\n",
        "plt.legend()\n",
        "plt.grid(True)\n",
        "plt.show()"
      ],
      "metadata": {
        "colab": {
          "base_uri": "https://localhost:8080/",
          "height": 472
        },
        "id": "yUPNNRECFoHY",
        "outputId": "68d39691-7a2f-4924-9ab9-9704f77c037c"
      },
      "execution_count": 78,
      "outputs": [
        {
          "output_type": "display_data",
          "data": {
            "text/plain": [
              "<Figure size 640x480 with 1 Axes>"
            ],
            "image/png": "[encoded data removed]"
          },
          "metadata": {}
        }
      ]
    },
    {
      "cell_type": "markdown",
      "source": [
        "iny qualitative check"
      ],
      "metadata": {
        "id": "LOHIiPTfGK9m"
      }
    },
    {
      "cell_type": "code",
      "source": [
        "def sample_from(probs, temperature=0.8):\n",
        "    probs = np.asarray(probs, dtype=np.float64)\n",
        "    probs = np.log(probs + 1e-12) / max(temperature, 1e-8)\n",
        "    probs = np.exp(probs); probs = probs / probs.sum()\n",
        "    return np.random.choice(len(probs), p=probs)\n",
        "\n",
        "def generate_text(model, seed_text, length=200, temperature=0.8):\n",
        "    s = seed_text\n",
        "    for _ in range(length):\n",
        "        ids = np.array([[char2idx.get(c, char2idx[\" \"]) for c in s[-SEQ_LEN:]]], dtype=np.int32)\n",
        "        probs = model.predict(ids, verbose=0)[0]\n",
        "        s += idx2char[sample_from(probs, temperature)]\n",
        "    return s\n",
        "\n",
        "seed = \"\".join(idx2char[int(i)] for i in X_train[0])\n",
        "print(\"\\n--- SimpleRNN sample ---\")\n",
        "print(generate_text(rnn_model, seed, length=200, temperature=0.8))\n",
        "\n",
        "print(\"\\n--- LSTM sample ---\")\n",
        "print(generate_text(lstm_model, seed, length=200, temperature=0.8))"
      ],
      "metadata": {
        "colab": {
          "base_uri": "https://localhost:8080/"
        },
        "id": "RSuvOAc9GDfH",
        "outputId": "785c61d3-1f1e-4da9-ff62-cd1f97d7ab3d"
      },
      "execution_count": 79,
      "outputs": [
        {
          "output_type": "stream",
          "name": "stdout",
          "text": [
            "\n",
            "--- SimpleRNN sample ---\n",
            "the happy prince. high above the city, on a tall column, sto ge ald ip thatr hit fed ind her; \"he he handed,\"\" he ig for woid he hat mew iutif sthe sallle sed in ha!w theand hotibkn bo. \"raid the mored so therads feondead in soufl wamo fotein. \"ved wared worer\n",
            "\n",
            "--- LSTM sample ---\n",
            "the happy prince. high above the city, on a tall column, stom plettof wo ute, \"he hapve the caply ro raw may sas the no the miless and and ef ad coid the salt al epet. \"he sele wo thee. \"lim tse have. hem afroned the aip the lome. the he plet ared bsor shaude\"\n"
          ]
        }
      ]
    },
    {
      "cell_type": "markdown",
      "source": [
        "Callbacks + train–val gap table (RNN & LSTM)"
      ],
      "metadata": {
        "id": "vCAgHgIWHazd"
      }
    },
    {
      "cell_type": "code",
      "source": [
        "vocab_size = len(char2idx)\n",
        "\n",
        "# Hyperparameters (same scale as before)\n",
        "EMBED_DIM = 32\n",
        "UNITS     = 128\n",
        "DROPOUT   = 0.2\n",
        "LR        = 1e-3\n",
        "EPOCHS    = 30  # early stopping will stop sooner\n"
      ],
      "metadata": {
        "id": "Gye7jAq2GOmY"
      },
      "execution_count": 80,
      "outputs": []
    },
    {
      "cell_type": "code",
      "source": [
        "callbacks = [\n",
        "    keras.callbacks.EarlyStopping(\n",
        "        monitor=\"val_sparse_categorical_accuracy\",\n",
        "        patience=3,                 # stop if no val-improvement for 3 epochs\n",
        "        restore_best_weights=True\n",
        "    ),\n",
        "    keras.callbacks.ReduceLROnPlateau(\n",
        "        monitor=\"val_sparse_categorical_accuracy\",\n",
        "        factor=0.5,                 # halve LR on plateau\n",
        "        patience=2,                 # if no val-improvement for 2 epochs\n",
        "        min_lr=1e-5,\n",
        "        verbose=1\n",
        "    )\n",
        "]\n"
      ],
      "metadata": {
        "id": "eYupY8s-Hex-"
      },
      "execution_count": 81,
      "outputs": []
    },
    {
      "cell_type": "code",
      "source": [
        "def build_simple_rnn(vocab_size):\n",
        "    inputs = keras.Input(shape=(None,), dtype=\"int32\")\n",
        "    x = layers.Embedding(vocab_size, EMBED_DIM)(inputs)\n",
        "    x = layers.SimpleRNN(UNITS, dropout=DROPOUT)(x)\n",
        "    outputs = layers.Dense(vocab_size, activation=\"softmax\")(x)\n",
        "    model = keras.Model(inputs, outputs, name=\"char_simple_rnn_cb\")\n",
        "    model.compile(\n",
        "        optimizer=keras.optimizers.Adam(learning_rate=LR),\n",
        "        loss=\"sparse_categorical_crossentropy\",\n",
        "        metrics=[\"sparse_categorical_accuracy\"]\n",
        "    )\n",
        "    return model\n",
        "\n",
        "def build_lstm(vocab_size):\n",
        "    inputs = keras.Input(shape=(None,), dtype=\"int32\")\n",
        "    x = layers.Embedding(vocab_size, EMBED_DIM)(inputs)\n",
        "    x = layers.LSTM(UNITS, dropout=DROPOUT)(x)\n",
        "    outputs = layers.Dense(vocab_size, activation=\"softmax\")(x)\n",
        "    model = keras.Model(inputs, outputs, name=\"char_lstm_cb\")\n",
        "    model.compile(\n",
        "        optimizer=keras.optimizers.Adam(learning_rate=LR),\n",
        "        loss=\"sparse_categorical_crossentropy\",\n",
        "        metrics=[\"sparse_categorical_accuracy\"]\n",
        "    )\n",
        "    return model"
      ],
      "metadata": {
        "id": "Jbtjc0NcHheO"
      },
      "execution_count": 82,
      "outputs": []
    },
    {
      "cell_type": "markdown",
      "source": [
        "Train RNN with callbacks"
      ],
      "metadata": {
        "id": "XSdtpbNaHl09"
      }
    },
    {
      "cell_type": "code",
      "source": [
        "rnn_cb = build_simple_rnn(vocab_size)\n",
        "hist_rnn_cb = rnn_cb.fit(\n",
        "    train_ds, validation_data=val_ds,\n",
        "    epochs=EPOCHS, callbacks=callbacks, verbose=1\n",
        ")"
      ],
      "metadata": {
        "colab": {
          "base_uri": "https://localhost:8080/"
        },
        "id": "V7UfvClTHlDv",
        "outputId": "b39e29bf-a10e-49b2-a910-cc52f100a162"
      },
      "execution_count": 83,
      "outputs": [
        {
          "output_type": "stream",
          "name": "stdout",
          "text": [
            "Epoch 1/30\n",
            "\u001b[1m125/125\u001b[0m \u001b[32m━━━━━━━━━━━━━━━━━━━━\u001b[0m\u001b[37m\u001b[0m \u001b[1m6s\u001b[0m 34ms/step - loss: 3.0931 - sparse_categorical_accuracy: 0.1552 - val_loss: 2.8098 - val_sparse_categorical_accuracy: 0.2486 - learning_rate: 0.0010\n",
            "Epoch 2/30\n",
            "\u001b[1m125/125\u001b[0m \u001b[32m━━━━━━━━━━━━━━━━━━━━\u001b[0m\u001b[37m\u001b[0m \u001b[1m5s\u001b[0m 31ms/step - loss: 2.6853 - sparse_categorical_accuracy: 0.2748 - val_loss: 2.5456 - val_sparse_categorical_accuracy: 0.2958 - learning_rate: 0.0010\n",
            "Epoch 3/30\n",
            "\u001b[1m125/125\u001b[0m \u001b[32m━━━━━━━━━━━━━━━━━━━━\u001b[0m\u001b[37m\u001b[0m \u001b[1m4s\u001b[0m 30ms/step - loss: 2.4392 - sparse_categorical_accuracy: 0.3167 - val_loss: 2.3861 - val_sparse_categorical_accuracy: 0.3228 - learning_rate: 0.0010\n",
            "Epoch 4/30\n",
            "\u001b[1m125/125\u001b[0m \u001b[32m━━━━━━━━━━━━━━━━━━━━\u001b[0m\u001b[37m\u001b[0m \u001b[1m6s\u001b[0m 37ms/step - loss: 2.2713 - sparse_categorical_accuracy: 0.3419 - val_loss: 2.3233 - val_sparse_categorical_accuracy: 0.3431 - learning_rate: 0.0010\n",
            "Epoch 5/30\n",
            "\u001b[1m125/125\u001b[0m \u001b[32m━━━━━━━━━━━━━━━━━━━━\u001b[0m\u001b[37m\u001b[0m \u001b[1m5s\u001b[0m 32ms/step - loss: 2.1939 - sparse_categorical_accuracy: 0.3679 - val_loss: 2.3253 - val_sparse_categorical_accuracy: 0.3408 - learning_rate: 0.0010\n",
            "Epoch 6/30\n",
            "\u001b[1m125/125\u001b[0m \u001b[32m━━━━━━━━━━━━━━━━━━━━\u001b[0m\u001b[37m\u001b[0m \u001b[1m4s\u001b[0m 30ms/step - loss: 2.1664 - sparse_categorical_accuracy: 0.3664 - val_loss: 2.2524 - val_sparse_categorical_accuracy: 0.3600 - learning_rate: 0.0010\n",
            "Epoch 7/30\n",
            "\u001b[1m125/125\u001b[0m \u001b[32m━━━━━━━━━━━━━━━━━━━━\u001b[0m\u001b[37m\u001b[0m \u001b[1m5s\u001b[0m 41ms/step - loss: 2.1056 - sparse_categorical_accuracy: 0.3808 - val_loss: 2.2647 - val_sparse_categorical_accuracy: 0.3611 - learning_rate: 0.0010\n",
            "Epoch 8/30\n",
            "\u001b[1m125/125\u001b[0m \u001b[32m━━━━━━━━━━━━━━━━━━━━\u001b[0m\u001b[37m\u001b[0m \u001b[1m10s\u001b[0m 37ms/step - loss: 2.0498 - sparse_categorical_accuracy: 0.3976 - val_loss: 2.2017 - val_sparse_categorical_accuracy: 0.3757 - learning_rate: 0.0010\n",
            "Epoch 9/30\n",
            "\u001b[1m125/125\u001b[0m \u001b[32m━━━━━━━━━━━━━━━━━━━━\u001b[0m\u001b[37m\u001b[0m \u001b[1m5s\u001b[0m 33ms/step - loss: 1.9705 - sparse_categorical_accuracy: 0.4186 - val_loss: 2.2091 - val_sparse_categorical_accuracy: 0.3690 - learning_rate: 0.0010\n",
            "Epoch 10/30\n",
            "\u001b[1m125/125\u001b[0m \u001b[32m━━━━━━━━━━━━━━━━━━━━\u001b[0m\u001b[37m\u001b[0m \u001b[1m4s\u001b[0m 29ms/step - loss: 1.9570 - sparse_categorical_accuracy: 0.4244 - val_loss: 2.1927 - val_sparse_categorical_accuracy: 0.3847 - learning_rate: 0.0010\n",
            "Epoch 11/30\n",
            "\u001b[1m125/125\u001b[0m \u001b[32m━━━━━━━━━━━━━━━━━━━━\u001b[0m\u001b[37m\u001b[0m \u001b[1m4s\u001b[0m 32ms/step - loss: 1.9114 - sparse_categorical_accuracy: 0.4318 - val_loss: 2.1825 - val_sparse_categorical_accuracy: 0.3712 - learning_rate: 0.0010\n",
            "Epoch 12/30\n",
            "\u001b[1m125/125\u001b[0m \u001b[32m━━━━━━━━━━━━━━━━━━━━\u001b[0m\u001b[37m\u001b[0m \u001b[1m5s\u001b[0m 30ms/step - loss: 1.8835 - sparse_categorical_accuracy: 0.4426 - val_loss: 2.1460 - val_sparse_categorical_accuracy: 0.3870 - learning_rate: 0.0010\n",
            "Epoch 13/30\n",
            "\u001b[1m125/125\u001b[0m \u001b[32m━━━━━━━━━━━━━━━━━━━━\u001b[0m\u001b[37m\u001b[0m \u001b[1m5s\u001b[0m 30ms/step - loss: 1.8370 - sparse_categorical_accuracy: 0.4498 - val_loss: 2.1325 - val_sparse_categorical_accuracy: 0.3791 - learning_rate: 0.0010\n",
            "Epoch 14/30\n",
            "\u001b[1m124/125\u001b[0m \u001b[32m━━━━━━━━━━━━━━━━━━━\u001b[0m\u001b[37m━\u001b[0m \u001b[1m0s\u001b[0m 36ms/step - loss: 1.8197 - sparse_categorical_accuracy: 0.4551\n",
            "Epoch 14: ReduceLROnPlateau reducing learning rate to 0.0005000000237487257.\n",
            "\u001b[1m125/125\u001b[0m \u001b[32m━━━━━━━━━━━━━━━━━━━━\u001b[0m\u001b[37m\u001b[0m \u001b[1m5s\u001b[0m 37ms/step - loss: 1.8198 - sparse_categorical_accuracy: 0.4551 - val_loss: 2.1656 - val_sparse_categorical_accuracy: 0.3746 - learning_rate: 0.0010\n",
            "Epoch 15/30\n",
            "\u001b[1m125/125\u001b[0m \u001b[32m━━━━━━━━━━━━━━━━━━━━\u001b[0m\u001b[37m\u001b[0m \u001b[1m4s\u001b[0m 30ms/step - loss: 1.7608 - sparse_categorical_accuracy: 0.4750 - val_loss: 2.1324 - val_sparse_categorical_accuracy: 0.3870 - learning_rate: 5.0000e-04\n"
          ]
        }
      ]
    },
    {
      "cell_type": "markdown",
      "source": [
        "Train LSTM with callbacks"
      ],
      "metadata": {
        "id": "bemMcY6xHwcf"
      }
    },
    {
      "cell_type": "code",
      "source": [
        "lstm_cb = build_lstm(vocab_size)\n",
        "hist_lstm_cb = lstm_cb.fit(\n",
        "    train_ds, validation_data=val_ds,\n",
        "    epochs=EPOCHS, callbacks=callbacks, verbose=1\n",
        ")"
      ],
      "metadata": {
        "colab": {
          "base_uri": "https://localhost:8080/"
        },
        "id": "I3RAsko6Hqz8",
        "outputId": "e505fad1-b25d-493c-8897-e289e4dc8723"
      },
      "execution_count": 84,
      "outputs": [
        {
          "output_type": "stream",
          "name": "stdout",
          "text": [
            "Epoch 1/30\n",
            "\u001b[1m125/125\u001b[0m \u001b[32m━━━━━━━━━━━━━━━━━━━━\u001b[0m\u001b[37m\u001b[0m \u001b[1m17s\u001b[0m 111ms/step - loss: 3.1141 - sparse_categorical_accuracy: 0.1832 - val_loss: 2.8699 - val_sparse_categorical_accuracy: 0.1901 - learning_rate: 0.0010\n",
            "Epoch 2/30\n",
            "\u001b[1m125/125\u001b[0m \u001b[32m━━━━━━━━━━━━━━━━━━━━\u001b[0m\u001b[37m\u001b[0m \u001b[1m20s\u001b[0m 107ms/step - loss: 2.7245 - sparse_categorical_accuracy: 0.2494 - val_loss: 2.5577 - val_sparse_categorical_accuracy: 0.2913 - learning_rate: 0.0010\n",
            "Epoch 3/30\n",
            "\u001b[1m125/125\u001b[0m \u001b[32m━━━━━━━━━━━━━━━━━━━━\u001b[0m\u001b[37m\u001b[0m \u001b[1m15s\u001b[0m 117ms/step - loss: 2.4395 - sparse_categorical_accuracy: 0.3163 - val_loss: 2.4202 - val_sparse_categorical_accuracy: 0.3228 - learning_rate: 0.0010\n",
            "Epoch 4/30\n",
            "\u001b[1m125/125\u001b[0m \u001b[32m━━━━━━━━━━━━━━━━━━━━\u001b[0m\u001b[37m\u001b[0m \u001b[1m19s\u001b[0m 105ms/step - loss: 2.3155 - sparse_categorical_accuracy: 0.3298 - val_loss: 2.3494 - val_sparse_categorical_accuracy: 0.3341 - learning_rate: 0.0010\n",
            "Epoch 5/30\n",
            "\u001b[1m125/125\u001b[0m \u001b[32m━━━━━━━━━━━━━━━━━━━━\u001b[0m\u001b[37m\u001b[0m \u001b[1m13s\u001b[0m 104ms/step - loss: 2.2626 - sparse_categorical_accuracy: 0.3321 - val_loss: 2.3146 - val_sparse_categorical_accuracy: 0.3375 - learning_rate: 0.0010\n",
            "Epoch 6/30\n",
            "\u001b[1m125/125\u001b[0m \u001b[32m━━━━━━━━━━━━━━━━━━━━\u001b[0m\u001b[37m\u001b[0m \u001b[1m13s\u001b[0m 103ms/step - loss: 2.2053 - sparse_categorical_accuracy: 0.3420 - val_loss: 2.2704 - val_sparse_categorical_accuracy: 0.3476 - learning_rate: 0.0010\n",
            "Epoch 7/30\n",
            "\u001b[1m125/125\u001b[0m \u001b[32m━━━━━━━━━━━━━━━━━━━━\u001b[0m\u001b[37m\u001b[0m \u001b[1m21s\u001b[0m 105ms/step - loss: 2.1569 - sparse_categorical_accuracy: 0.3597 - val_loss: 2.2308 - val_sparse_categorical_accuracy: 0.3476 - learning_rate: 0.0010\n",
            "Epoch 8/30\n",
            "\u001b[1m125/125\u001b[0m \u001b[32m━━━━━━━━━━━━━━━━━━━━\u001b[0m\u001b[37m\u001b[0m \u001b[1m13s\u001b[0m 104ms/step - loss: 2.1220 - sparse_categorical_accuracy: 0.3671 - val_loss: 2.1858 - val_sparse_categorical_accuracy: 0.3633 - learning_rate: 0.0010\n",
            "Epoch 9/30\n",
            "\u001b[1m125/125\u001b[0m \u001b[32m━━━━━━━━━━━━━━━━━━━━\u001b[0m\u001b[37m\u001b[0m \u001b[1m13s\u001b[0m 107ms/step - loss: 2.0796 - sparse_categorical_accuracy: 0.3843 - val_loss: 2.1587 - val_sparse_categorical_accuracy: 0.3858 - learning_rate: 0.0010\n",
            "Epoch 10/30\n",
            "\u001b[1m125/125\u001b[0m \u001b[32m━━━━━━━━━━━━━━━━━━━━\u001b[0m\u001b[37m\u001b[0m \u001b[1m21s\u001b[0m 114ms/step - loss: 2.0585 - sparse_categorical_accuracy: 0.3942 - val_loss: 2.1294 - val_sparse_categorical_accuracy: 0.3825 - learning_rate: 0.0010\n",
            "Epoch 11/30\n",
            "\u001b[1m125/125\u001b[0m \u001b[32m━━━━━━━━━━━━━━━━━━━━\u001b[0m\u001b[37m\u001b[0m \u001b[1m15s\u001b[0m 118ms/step - loss: 2.0067 - sparse_categorical_accuracy: 0.4015 - val_loss: 2.1128 - val_sparse_categorical_accuracy: 0.3937 - learning_rate: 0.0010\n",
            "Epoch 12/30\n",
            "\u001b[1m125/125\u001b[0m \u001b[32m━━━━━━━━━━━━━━━━━━━━\u001b[0m\u001b[37m\u001b[0m \u001b[1m19s\u001b[0m 105ms/step - loss: 1.9659 - sparse_categorical_accuracy: 0.4185 - val_loss: 2.0847 - val_sparse_categorical_accuracy: 0.3915 - learning_rate: 0.0010\n",
            "Epoch 13/30\n",
            "\u001b[1m125/125\u001b[0m \u001b[32m━━━━━━━━━━━━━━━━━━━━\u001b[0m\u001b[37m\u001b[0m \u001b[1m13s\u001b[0m 106ms/step - loss: 1.9430 - sparse_categorical_accuracy: 0.4178 - val_loss: 2.0534 - val_sparse_categorical_accuracy: 0.3993 - learning_rate: 0.0010\n",
            "Epoch 14/30\n",
            "\u001b[1m125/125\u001b[0m \u001b[32m━━━━━━━━━━━━━━━━━━━━\u001b[0m\u001b[37m\u001b[0m \u001b[1m21s\u001b[0m 109ms/step - loss: 1.8900 - sparse_categorical_accuracy: 0.4394 - val_loss: 2.0408 - val_sparse_categorical_accuracy: 0.4061 - learning_rate: 0.0010\n",
            "Epoch 15/30\n",
            "\u001b[1m125/125\u001b[0m \u001b[32m━━━━━━━━━━━━━━━━━━━━\u001b[0m\u001b[37m\u001b[0m \u001b[1m20s\u001b[0m 105ms/step - loss: 1.8864 - sparse_categorical_accuracy: 0.4361 - val_loss: 2.0154 - val_sparse_categorical_accuracy: 0.4196 - learning_rate: 0.0010\n",
            "Epoch 16/30\n",
            "\u001b[1m125/125\u001b[0m \u001b[32m━━━━━━━━━━━━━━━━━━━━\u001b[0m\u001b[37m\u001b[0m \u001b[1m13s\u001b[0m 105ms/step - loss: 1.8532 - sparse_categorical_accuracy: 0.4474 - val_loss: 2.0177 - val_sparse_categorical_accuracy: 0.4207 - learning_rate: 0.0010\n",
            "Epoch 17/30\n",
            "\u001b[1m125/125\u001b[0m \u001b[32m━━━━━━━━━━━━━━━━━━━━\u001b[0m\u001b[37m\u001b[0m \u001b[1m20s\u001b[0m 105ms/step - loss: 1.8050 - sparse_categorical_accuracy: 0.4623 - val_loss: 1.9958 - val_sparse_categorical_accuracy: 0.4218 - learning_rate: 0.0010\n",
            "Epoch 18/30\n",
            "\u001b[1m125/125\u001b[0m \u001b[32m━━━━━━━━━━━━━━━━━━━━\u001b[0m\u001b[37m\u001b[0m \u001b[1m13s\u001b[0m 104ms/step - loss: 1.7884 - sparse_categorical_accuracy: 0.4649 - val_loss: 1.9774 - val_sparse_categorical_accuracy: 0.4274 - learning_rate: 0.0010\n",
            "Epoch 19/30\n",
            "\u001b[1m125/125\u001b[0m \u001b[32m━━━━━━━━━━━━━━━━━━━━\u001b[0m\u001b[37m\u001b[0m \u001b[1m13s\u001b[0m 104ms/step - loss: 1.7495 - sparse_categorical_accuracy: 0.4830 - val_loss: 1.9651 - val_sparse_categorical_accuracy: 0.4218 - learning_rate: 0.0010\n",
            "Epoch 20/30\n",
            "\u001b[1m125/125\u001b[0m \u001b[32m━━━━━━━━━━━━━━━━━━━━\u001b[0m\u001b[37m\u001b[0m \u001b[1m13s\u001b[0m 106ms/step - loss: 1.7206 - sparse_categorical_accuracy: 0.4911 - val_loss: 1.9504 - val_sparse_categorical_accuracy: 0.4364 - learning_rate: 0.0010\n",
            "Epoch 21/30\n",
            "\u001b[1m125/125\u001b[0m \u001b[32m━━━━━━━━━━━━━━━━━━━━\u001b[0m\u001b[37m\u001b[0m \u001b[1m21s\u001b[0m 106ms/step - loss: 1.7055 - sparse_categorical_accuracy: 0.4841 - val_loss: 1.9420 - val_sparse_categorical_accuracy: 0.4342 - learning_rate: 0.0010\n",
            "Epoch 22/30\n",
            "\u001b[1m125/125\u001b[0m \u001b[32m━━━━━━━━━━━━━━━━━━━━\u001b[0m\u001b[37m\u001b[0m \u001b[1m0s\u001b[0m 101ms/step - loss: 1.6715 - sparse_categorical_accuracy: 0.4930\n",
            "Epoch 22: ReduceLROnPlateau reducing learning rate to 0.0005000000237487257.\n",
            "\u001b[1m125/125\u001b[0m \u001b[32m━━━━━━━━━━━━━━━━━━━━\u001b[0m\u001b[37m\u001b[0m \u001b[1m20s\u001b[0m 105ms/step - loss: 1.6715 - sparse_categorical_accuracy: 0.4930 - val_loss: 1.9255 - val_sparse_categorical_accuracy: 0.4342 - learning_rate: 0.0010\n",
            "Epoch 23/30\n",
            "\u001b[1m125/125\u001b[0m \u001b[32m━━━━━━━━━━━━━━━━━━━━\u001b[0m\u001b[37m\u001b[0m \u001b[1m13s\u001b[0m 106ms/step - loss: 1.6250 - sparse_categorical_accuracy: 0.5110 - val_loss: 1.9265 - val_sparse_categorical_accuracy: 0.4409 - learning_rate: 5.0000e-04\n",
            "Epoch 24/30\n",
            "\u001b[1m125/125\u001b[0m \u001b[32m━━━━━━━━━━━━━━━━━━━━\u001b[0m\u001b[37m\u001b[0m \u001b[1m13s\u001b[0m 105ms/step - loss: 1.5882 - sparse_categorical_accuracy: 0.5207 - val_loss: 1.9225 - val_sparse_categorical_accuracy: 0.4364 - learning_rate: 5.0000e-04\n",
            "Epoch 25/30\n",
            "\u001b[1m125/125\u001b[0m \u001b[32m━━━━━━━━━━━━━━━━━━━━\u001b[0m\u001b[37m\u001b[0m \u001b[1m0s\u001b[0m 100ms/step - loss: 1.5994 - sparse_categorical_accuracy: 0.5157\n",
            "Epoch 25: ReduceLROnPlateau reducing learning rate to 0.0002500000118743628.\n",
            "\u001b[1m125/125\u001b[0m \u001b[32m━━━━━━━━━━━━━━━━━━━━\u001b[0m\u001b[37m\u001b[0m \u001b[1m20s\u001b[0m 104ms/step - loss: 1.5994 - sparse_categorical_accuracy: 0.5157 - val_loss: 1.9101 - val_sparse_categorical_accuracy: 0.4364 - learning_rate: 5.0000e-04\n",
            "Epoch 26/30\n",
            "\u001b[1m125/125\u001b[0m \u001b[32m━━━━━━━━━━━━━━━━━━━━\u001b[0m\u001b[37m\u001b[0m \u001b[1m21s\u001b[0m 106ms/step - loss: 1.5674 - sparse_categorical_accuracy: 0.5306 - val_loss: 1.9126 - val_sparse_categorical_accuracy: 0.4409 - learning_rate: 2.5000e-04\n"
          ]
        }
      ]
    },
    {
      "cell_type": "markdown",
      "source": [
        "Train–val gap table"
      ],
      "metadata": {
        "id": "ynrgDZLeIBtg"
      }
    },
    {
      "cell_type": "code",
      "source": [
        "def gap_table(hist, label):\n",
        "    tr = hist.history[\"sparse_categorical_accuracy\"]\n",
        "    va = hist.history[\"val_sparse_categorical_accuracy\"]\n",
        "    rows = []\n",
        "    for i, (t, v) in enumerate(zip(tr, va), start=1):\n",
        "        rows.append((label, i, round(t,4), round(v,4), round(t-v,4)))\n",
        "    return rows\n",
        "\n",
        "rows = gap_table(hist_rnn_cb, \"RNN\") + gap_table(hist_lstm_cb, \"LSTM\")"
      ],
      "metadata": {
        "id": "tKstcIV0H1J1"
      },
      "execution_count": 85,
      "outputs": []
    },
    {
      "cell_type": "code",
      "source": [
        "print(\"\\nModel  Epoch  Train_Acc  Val_Acc  Gap(Train-Val)\")\n",
        "for m,e,t,v,g in rows:\n",
        "    print(f\"{m:5s}  {e:5d}   {t:8.4f}  {v:7.4f}   {g:12.4f}\")"
      ],
      "metadata": {
        "colab": {
          "base_uri": "https://localhost:8080/"
        },
        "id": "1CuMgFljIHsC",
        "outputId": "457ab5ad-c01f-4b38-c8e0-6521856db5b0"
      },
      "execution_count": 86,
      "outputs": [
        {
          "output_type": "stream",
          "name": "stdout",
          "text": [
            "\n",
            "Model  Epoch  Train_Acc  Val_Acc  Gap(Train-Val)\n",
            "RNN        1     0.1881   0.2486        -0.0605\n",
            "RNN        2     0.2803   0.2958        -0.0156\n",
            "RNN        3     0.3289   0.3228         0.0061\n",
            "RNN        4     0.3402   0.3431        -0.0029\n",
            "RNN        5     0.3589   0.3408         0.0181\n",
            "RNN        6     0.3746   0.3600         0.0146\n",
            "RNN        7     0.3849   0.3611         0.0239\n",
            "RNN        8     0.3926   0.3757         0.0169\n",
            "RNN        9     0.4121   0.3690         0.0431\n",
            "RNN       10     0.4198   0.3847         0.0351\n",
            "RNN       11     0.4267   0.3712         0.0555\n",
            "RNN       12     0.4351   0.3870         0.0481\n",
            "RNN       13     0.4453   0.3791         0.0663\n",
            "RNN       14     0.4571   0.3746         0.0825\n",
            "RNN       15     0.4749   0.3870         0.0879\n",
            "LSTM       1     0.1945   0.1901         0.0044\n",
            "LSTM       2     0.2724   0.2913        -0.0190\n",
            "LSTM       3     0.3197   0.3228        -0.0032\n",
            "LSTM       4     0.3252   0.3341        -0.0089\n",
            "LSTM       5     0.3320   0.3375        -0.0054\n",
            "LSTM       6     0.3459   0.3476        -0.0017\n",
            "LSTM       7     0.3598   0.3476         0.0122\n",
            "LSTM       8     0.3734   0.3633         0.0101\n",
            "LSTM       9     0.3852   0.3858        -0.0006\n",
            "LSTM      10     0.3976   0.3825         0.0151\n",
            "LSTM      11     0.4065   0.3937         0.0128\n",
            "LSTM      12     0.4182   0.3915         0.0268\n",
            "LSTM      13     0.4205   0.3993         0.0211\n",
            "LSTM      14     0.4318   0.4061         0.0258\n",
            "LSTM      15     0.4431   0.4196         0.0235\n",
            "LSTM      16     0.4512   0.4207         0.0305\n",
            "LSTM      17     0.4614   0.4218         0.0395\n",
            "LSTM      18     0.4705   0.4274         0.0430\n",
            "LSTM      19     0.4747   0.4218         0.0529\n",
            "LSTM      20     0.4865   0.4364         0.0500\n",
            "LSTM      21     0.4864   0.4342         0.0522\n",
            "LSTM      22     0.4964   0.4342         0.0622\n",
            "LSTM      23     0.5090   0.4409         0.0681\n",
            "LSTM      24     0.5134   0.4364         0.0769\n",
            "LSTM      25     0.5170   0.4364         0.0806\n",
            "LSTM      26     0.5273   0.4409         0.0863\n"
          ]
        }
      ]
    },
    {
      "cell_type": "markdown",
      "source": [
        "Plot accuracy curves"
      ],
      "metadata": {
        "id": "x37EnufoIlKZ"
      }
    },
    {
      "cell_type": "code",
      "source": [
        "rnn_acc  = hist_rnn_cb.history[\"sparse_categorical_accuracy\"]\n",
        "rnn_val  = hist_rnn_cb.history[\"val_sparse_categorical_accuracy\"]\n",
        "lstm_acc = hist_lstm_cb.history[\"sparse_categorical_accuracy\"]\n",
        "lstm_val = hist_lstm_cb.history[\"val_sparse_categorical_accuracy\"]\n",
        "\n",
        "plt.figure()\n",
        "plt.plot(range(1,len(rnn_acc)+1),  rnn_acc,  label=\"RNN train acc (cb)\")\n",
        "plt.plot(range(1,len(rnn_val)+1),  rnn_val,  label=\"RNN val acc (cb)\")\n",
        "plt.plot(range(1,len(lstm_acc)+1), lstm_acc, label=\"LSTM train acc (cb)\")\n",
        "plt.plot(range(1,len(lstm_val)+1), lstm_val, label=\"LSTM val acc (cb)\")\n",
        "plt.xlabel(\"Epoch\")\n",
        "plt.ylabel(\"Accuracy\")\n",
        "plt.title(\"With callbacks — Next-char RNN vs LSTM\")\n",
        "plt.legend(); plt.grid(True); plt.show()"
      ],
      "metadata": {
        "colab": {
          "base_uri": "https://localhost:8080/",
          "height": 472
        },
        "id": "APD0RO1bIiSF",
        "outputId": "528f488d-3c7c-40af-b965-879e23a62db0"
      },
      "execution_count": 87,
      "outputs": [
        {
          "output_type": "display_data",
          "data": {
            "text/plain": [
              "<Figure size 640x480 with 1 Axes>"
            ],
            "image/png": "[encoded data removed]"
          },
          "metadata": {}
        }
      ]
    },
    {
      "cell_type": "code",
      "source": [],
      "metadata": {
        "id": "SoQbgcIiJ0gu"
      },
      "execution_count": null,
      "outputs": []
    }
  ]
}