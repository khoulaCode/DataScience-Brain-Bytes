{
 "cells": [
  {
   "cell_type": "markdown",
   "id": "c6669cb5-20c6-4093-af9f-1d86b01f3007",
   "metadata": {},
   "source": [
    "# Character-level next-character prediction — RNN vs LSTM\n",
    "***A short project to see how simple recurrent nets (vanilla RNN) and LSTMs remember sequences and predict the next character.***\n"
   ]
  },
  {
   "cell_type": "markdown",
   "id": "18810b62-80d5-47cd-ab59-559ce6240c1f",
   "metadata": {},
   "source": [
    "# 1. Imports & settings\n",
    "***Short: import required libs and set reproducibility***"
   ]
  },
  {
   "cell_type": "code",
   "execution_count": 20,
   "id": "d809da7e-cd3b-4303-aa46-e91adb50e964",
   "metadata": {},
   "outputs": [],
   "source": [
    "# 1. Imports & settings\n",
    "# Short: import required libs and set reproducibility\n",
    "import numpy as np\n",
    "import pandas as pd\n",
    "import tensorflow as tf\n",
    "from tensorflow.keras import layers, models\n",
    "import matplotlib.pyplot as plt\n",
    "import random\n",
    "SEED = 42\n",
    "np.random.seed(SEED)\n",
    "tf.random.set_seed(SEED)\n"
   ]
  },
  {
   "cell_type": "code",
   "execution_count": 21,
   "id": "842ff56c-4942-4ffe-a8e9-f312696cc96f",
   "metadata": {},
   "outputs": [
    {
     "data": {
      "text/html": [
       "<div>\n",
       "<style scoped>\n",
       "    .dataframe tbody tr th:only-of-type {\n",
       "        vertical-align: middle;\n",
       "    }\n",
       "\n",
       "    .dataframe tbody tr th {\n",
       "        vertical-align: top;\n",
       "    }\n",
       "\n",
       "    .dataframe thead th {\n",
       "        text-align: right;\n",
       "    }\n",
       "</style>\n",
       "<table border=\"1\" class=\"dataframe\">\n",
       "  <thead>\n",
       "    <tr style=\"text-align: right;\">\n",
       "      <th></th>\n",
       "      <th>text</th>\n",
       "    </tr>\n",
       "  </thead>\n",
       "  <tbody>\n",
       "    <tr>\n",
       "      <th>0</th>\n",
       "      <td>The Happy Prince.</td>\n",
       "    </tr>\n",
       "    <tr>\n",
       "      <th>1</th>\n",
       "      <td>HIGH above the city, on a tall column, stood t...</td>\n",
       "    </tr>\n",
       "    <tr>\n",
       "      <th>2</th>\n",
       "      <td>He was very much admired indeed.  “He is as be...</td>\n",
       "    </tr>\n",
       "    <tr>\n",
       "      <th>3</th>\n",
       "      <td>“Why can’t you be like the Happy Prince?” aske...</td>\n",
       "    </tr>\n",
       "    <tr>\n",
       "      <th>4</th>\n",
       "      <td>“I am glad there is some one in the world who ...</td>\n",
       "    </tr>\n",
       "  </tbody>\n",
       "</table>\n",
       "</div>"
      ],
      "text/plain": [
       "                                                text\n",
       "0                                  The Happy Prince.\n",
       "1  HIGH above the city, on a tall column, stood t...\n",
       "2  He was very much admired indeed.  “He is as be...\n",
       "3  “Why can’t you be like the Happy Prince?” aske...\n",
       "4  “I am glad there is some one in the world who ..."
      ]
     },
     "execution_count": 21,
     "metadata": {},
     "output_type": "execute_result"
    }
   ],
   "source": [
    "import pandas as pd\n",
    "\n",
    "# Load plain text file line by line\n",
    "url = \"Datasets/cleaned_merged_fairy_tales_without_eos.txt\"\n",
    "\n",
    "with open(url, \"r\", encoding=\"utf-8\") as f:\n",
    "    lines = f.read().splitlines()\n",
    "\n",
    "df = pd.DataFrame(lines, columns=[\"text\"])\n",
    "df.head()\n"
   ]
  },
  {
   "cell_type": "markdown",
   "id": "b4ac9546-8a62-469b-b75b-a6c4ce198964",
   "metadata": {},
   "source": [
    "## 2. Load text data (we already created df with one line per entry)\n",
    "***Short: join lines into one large corpus and sample a subset for speed***\n"
   ]
  },
  {
   "cell_type": "code",
   "execution_count": 22,
   "id": "84ba913c-b076-4761-b32f-2649d58f585f",
   "metadata": {},
   "outputs": [
    {
     "name": "stdout",
     "output_type": "stream",
     "text": [
      "Corpus length: 200000\n",
      "Example snippet: The Happy Prince.⏎HIGH above the city, on a tall column, stood the statue of the Happy Prince.  He was gilded all over with thin leaves of fine gold, for eyes he had two bright sapphires, and a large \n"
     ]
    }
   ],
   "source": [
    "# assume df already exists (from previous cell): df = pd.DataFrame(lines, columns=[\"text\"])\n",
    "corpus = \"\\n\".join(df['text'].astype(str).tolist())  # full corpus\n",
    "# optional: use a shorter slice for quick experiments\n",
    "max_chars = 200000   # reduce if you want faster runs\n",
    "corpus = corpus[:max_chars]\n",
    "print(\"Corpus length:\", len(corpus))\n",
    "print(\"Example snippet:\", corpus[:200].replace(\"\\n\",\"⏎\"))\n"
   ]
  },
  {
   "cell_type": "markdown",
   "id": "83dd1452-3c0a-468d-b139-2a7b5064b6bd",
   "metadata": {},
   "source": [
    "## 3. Build vocabulary & mapping\n",
    "***Short: map each unique character to an integer id and back***\n"
   ]
  },
  {
   "cell_type": "code",
   "execution_count": 23,
   "id": "51465d27-2960-43de-a2cf-1f18d0427c43",
   "metadata": {},
   "outputs": [
    {
     "name": "stdout",
     "output_type": "stream",
     "text": [
      "Vocab size: 80\n"
     ]
    }
   ],
   "source": [
    "chars = sorted(list(set(corpus)))\n",
    "vocab_size = len(chars)\n",
    "char2idx = {c:i for i,c in enumerate(chars)}\n",
    "idx2char = {i:c for i,c in enumerate(chars)}\n",
    "print(\"Vocab size:\", vocab_size)\n"
   ]
  },
  {
   "cell_type": "markdown",
   "id": "46df04af-5e4e-4342-bf01-4e760fc21cf7",
   "metadata": {},
   "source": [
    "## 4. Create training sequences (input seq → next char)\n",
    "***Short: sliding-window character sequences; convert to integer arrays***\n"
   ]
  },
  {
   "cell_type": "code",
   "execution_count": 24,
   "id": "9ce7f436-f258-463a-bcc6-70937277d030",
   "metadata": {},
   "outputs": [
    {
     "name": "stdout",
     "output_type": "stream",
     "text": [
      "Number of sequences: 66654\n"
     ]
    }
   ],
   "source": [
    "seq_len = 40   # input length in chars\n",
    "step = 3       # step size for sliding window\n",
    "sentences = []\n",
    "next_chars = []\n",
    "for i in range(0, len(corpus)-seq_len, step):\n",
    "    sentences.append(corpus[i: i+seq_len])\n",
    "    next_chars.append(corpus[i+seq_len])\n",
    "print(\"Number of sequences:\", len(sentences))\n",
    "\n",
    "# vectorize\n",
    "X = np.zeros((len(sentences), seq_len), dtype=np.int32)\n",
    "y = np.zeros((len(sentences),), dtype=np.int32)\n",
    "for i, sentence in enumerate(sentences):\n",
    "    X[i] = [char2idx[c] for c in sentence]\n",
    "    y[i] = char2idx[next_chars[i]]"
   ]
  },
  {
   "cell_type": "markdown",
   "id": "4d110645-30ab-46ca-b1a0-31231d8dfdf3",
   "metadata": {},
   "source": [
    "## 5. Prepare datasets (one-hot input for Keras Embedding optional)\n",
    "***Short: use an Embedding + sparse categorical labels for efficiency***\n"
   ]
  },
  {
   "cell_type": "code",
   "execution_count": 25,
   "id": "073e0264-1222-4452-86be-ba1134c4eb99",
   "metadata": {},
   "outputs": [
    {
     "name": "stdout",
     "output_type": "stream",
     "text": [
      "Train / Val sizes: 56655 9999\n"
     ]
    }
   ],
   "source": [
    "from sklearn.model_selection import train_test_split\n",
    "X_train, X_val, y_train, y_val = train_test_split(X, y, test_size=0.15, random_state=SEED, shuffle=True)\n",
    "n_train = X_train.shape[0]\n",
    "print(\"Train / Val sizes:\", n_train, X_val.shape[0])\n"
   ]
  },
  {
   "cell_type": "markdown",
   "id": "3cae6559-1eca-461f-bc10-9740dcb51a72",
   "metadata": {},
   "source": [
    "## 6. Model builder helper\n",
    "***Short: reusable build function for RNN and LSTM models (uses Embedding)***\n"
   ]
  },
  {
   "cell_type": "code",
   "execution_count": 26,
   "id": "c2f164dd-dd10-4b82-b5a6-d0b1fc1946eb",
   "metadata": {},
   "outputs": [],
   "source": [
    "def build_seq_model(cell_type='RNN', embedding_dim=32, rnn_units=64, lr=0.001):\n",
    "    inp = layers.Input(shape=(seq_len,), dtype='int32')\n",
    "    x = layers.Embedding(input_dim=vocab_size, output_dim=embedding_dim, input_length=seq_len)(inp)\n",
    "    if cell_type == 'RNN':\n",
    "        x = layers.SimpleRNN(rnn_units)(x)\n",
    "    elif cell_type == 'LSTM':\n",
    "        x = layers.LSTM(rnn_units)(x)\n",
    "    else:\n",
    "        raise ValueError(\"cell_type must be 'RNN' or 'LSTM'\")\n",
    "    out = layers.Dense(vocab_size, activation='softmax')(x)\n",
    "    model = models.Model(inp, out)\n",
    "    model.compile(optimizer=tf.keras.optimizers.Adam(lr), loss='sparse_categorical_crossentropy', metrics=['accuracy'])\n",
    "    return model\n"
   ]
  },
  {
   "cell_type": "markdown",
   "id": "40e8f009-8084-4a96-897a-c04d722b3b2d",
   "metadata": {},
   "source": [
    "## 7. Train vanilla RNN (small quick run)\n",
    "***Short: train a SimpleRNN model and save history***\n"
   ]
  },
  {
   "cell_type": "code",
   "execution_count": 27,
   "id": "dc4f5bef-9d16-4ecb-b9ab-18d45c7d358e",
   "metadata": {},
   "outputs": [
    {
     "name": "stderr",
     "output_type": "stream",
     "text": [
      "C:\\Users\\bbuser\\anaconda3\\Lib\\site-packages\\keras\\src\\layers\\core\\embedding.py:97: UserWarning: Argument `input_length` is deprecated. Just remove it.\n",
      "  warnings.warn(\n"
     ]
    },
    {
     "data": {
      "text/html": [
       "<pre style=\"white-space:pre;overflow-x:auto;line-height:normal;font-family:Menlo,'DejaVu Sans Mono',consolas,'Courier New',monospace\"><span style=\"font-weight: bold\">Model: \"functional\"</span>\n",
       "</pre>\n"
      ],
      "text/plain": [
       "\u001b[1mModel: \"functional\"\u001b[0m\n"
      ]
     },
     "metadata": {},
     "output_type": "display_data"
    },
    {
     "data": {
      "text/html": [
       "<pre style=\"white-space:pre;overflow-x:auto;line-height:normal;font-family:Menlo,'DejaVu Sans Mono',consolas,'Courier New',monospace\">┏━━━━━━━━━━━━━━━━━━━━━━━━━━━━━━━━━┳━━━━━━━━━━━━━━━━━━━━━━━━┳━━━━━━━━━━━━━━━┓\n",
       "┃<span style=\"font-weight: bold\"> Layer (type)                    </span>┃<span style=\"font-weight: bold\"> Output Shape           </span>┃<span style=\"font-weight: bold\">       Param # </span>┃\n",
       "┡━━━━━━━━━━━━━━━━━━━━━━━━━━━━━━━━━╇━━━━━━━━━━━━━━━━━━━━━━━━╇━━━━━━━━━━━━━━━┩\n",
       "│ input_layer_2 (<span style=\"color: #0087ff; text-decoration-color: #0087ff\">InputLayer</span>)      │ (<span style=\"color: #00d7ff; text-decoration-color: #00d7ff\">None</span>, <span style=\"color: #00af00; text-decoration-color: #00af00\">40</span>)             │             <span style=\"color: #00af00; text-decoration-color: #00af00\">0</span> │\n",
       "├─────────────────────────────────┼────────────────────────┼───────────────┤\n",
       "│ embedding (<span style=\"color: #0087ff; text-decoration-color: #0087ff\">Embedding</span>)           │ (<span style=\"color: #00d7ff; text-decoration-color: #00d7ff\">None</span>, <span style=\"color: #00af00; text-decoration-color: #00af00\">40</span>, <span style=\"color: #00af00; text-decoration-color: #00af00\">32</span>)         │         <span style=\"color: #00af00; text-decoration-color: #00af00\">2,560</span> │\n",
       "├─────────────────────────────────┼────────────────────────┼───────────────┤\n",
       "│ simple_rnn (<span style=\"color: #0087ff; text-decoration-color: #0087ff\">SimpleRNN</span>)          │ (<span style=\"color: #00d7ff; text-decoration-color: #00d7ff\">None</span>, <span style=\"color: #00af00; text-decoration-color: #00af00\">64</span>)             │         <span style=\"color: #00af00; text-decoration-color: #00af00\">6,208</span> │\n",
       "├─────────────────────────────────┼────────────────────────┼───────────────┤\n",
       "│ dense (<span style=\"color: #0087ff; text-decoration-color: #0087ff\">Dense</span>)                   │ (<span style=\"color: #00d7ff; text-decoration-color: #00d7ff\">None</span>, <span style=\"color: #00af00; text-decoration-color: #00af00\">80</span>)             │         <span style=\"color: #00af00; text-decoration-color: #00af00\">5,200</span> │\n",
       "└─────────────────────────────────┴────────────────────────┴───────────────┘\n",
       "</pre>\n"
      ],
      "text/plain": [
       "┏━━━━━━━━━━━━━━━━━━━━━━━━━━━━━━━━━┳━━━━━━━━━━━━━━━━━━━━━━━━┳━━━━━━━━━━━━━━━┓\n",
       "┃\u001b[1m \u001b[0m\u001b[1mLayer (type)                   \u001b[0m\u001b[1m \u001b[0m┃\u001b[1m \u001b[0m\u001b[1mOutput Shape          \u001b[0m\u001b[1m \u001b[0m┃\u001b[1m \u001b[0m\u001b[1m      Param #\u001b[0m\u001b[1m \u001b[0m┃\n",
       "┡━━━━━━━━━━━━━━━━━━━━━━━━━━━━━━━━━╇━━━━━━━━━━━━━━━━━━━━━━━━╇━━━━━━━━━━━━━━━┩\n",
       "│ input_layer_2 (\u001b[38;5;33mInputLayer\u001b[0m)      │ (\u001b[38;5;45mNone\u001b[0m, \u001b[38;5;34m40\u001b[0m)             │             \u001b[38;5;34m0\u001b[0m │\n",
       "├─────────────────────────────────┼────────────────────────┼───────────────┤\n",
       "│ embedding (\u001b[38;5;33mEmbedding\u001b[0m)           │ (\u001b[38;5;45mNone\u001b[0m, \u001b[38;5;34m40\u001b[0m, \u001b[38;5;34m32\u001b[0m)         │         \u001b[38;5;34m2,560\u001b[0m │\n",
       "├─────────────────────────────────┼────────────────────────┼───────────────┤\n",
       "│ simple_rnn (\u001b[38;5;33mSimpleRNN\u001b[0m)          │ (\u001b[38;5;45mNone\u001b[0m, \u001b[38;5;34m64\u001b[0m)             │         \u001b[38;5;34m6,208\u001b[0m │\n",
       "├─────────────────────────────────┼────────────────────────┼───────────────┤\n",
       "│ dense (\u001b[38;5;33mDense\u001b[0m)                   │ (\u001b[38;5;45mNone\u001b[0m, \u001b[38;5;34m80\u001b[0m)             │         \u001b[38;5;34m5,200\u001b[0m │\n",
       "└─────────────────────────────────┴────────────────────────┴───────────────┘\n"
      ]
     },
     "metadata": {},
     "output_type": "display_data"
    },
    {
     "data": {
      "text/html": [
       "<pre style=\"white-space:pre;overflow-x:auto;line-height:normal;font-family:Menlo,'DejaVu Sans Mono',consolas,'Courier New',monospace\"><span style=\"font-weight: bold\"> Total params: </span><span style=\"color: #00af00; text-decoration-color: #00af00\">13,968</span> (54.56 KB)\n",
       "</pre>\n"
      ],
      "text/plain": [
       "\u001b[1m Total params: \u001b[0m\u001b[38;5;34m13,968\u001b[0m (54.56 KB)\n"
      ]
     },
     "metadata": {},
     "output_type": "display_data"
    },
    {
     "data": {
      "text/html": [
       "<pre style=\"white-space:pre;overflow-x:auto;line-height:normal;font-family:Menlo,'DejaVu Sans Mono',consolas,'Courier New',monospace\"><span style=\"font-weight: bold\"> Trainable params: </span><span style=\"color: #00af00; text-decoration-color: #00af00\">13,968</span> (54.56 KB)\n",
       "</pre>\n"
      ],
      "text/plain": [
       "\u001b[1m Trainable params: \u001b[0m\u001b[38;5;34m13,968\u001b[0m (54.56 KB)\n"
      ]
     },
     "metadata": {},
     "output_type": "display_data"
    },
    {
     "data": {
      "text/html": [
       "<pre style=\"white-space:pre;overflow-x:auto;line-height:normal;font-family:Menlo,'DejaVu Sans Mono',consolas,'Courier New',monospace\"><span style=\"font-weight: bold\"> Non-trainable params: </span><span style=\"color: #00af00; text-decoration-color: #00af00\">0</span> (0.00 B)\n",
       "</pre>\n"
      ],
      "text/plain": [
       "\u001b[1m Non-trainable params: \u001b[0m\u001b[38;5;34m0\u001b[0m (0.00 B)\n"
      ]
     },
     "metadata": {},
     "output_type": "display_data"
    },
    {
     "name": "stdout",
     "output_type": "stream",
     "text": [
      "Epoch 1/10\n",
      "\u001b[1m443/443\u001b[0m \u001b[32m━━━━━━━━━━━━━━━━━━━━\u001b[0m\u001b[37m\u001b[0m \u001b[1m8s\u001b[0m 14ms/step - accuracy: 0.2572 - loss: 2.8243 - val_accuracy: 0.3151 - val_loss: 2.4781\n",
      "Epoch 2/10\n",
      "\u001b[1m443/443\u001b[0m \u001b[32m━━━━━━━━━━━━━━━━━━━━\u001b[0m\u001b[37m\u001b[0m \u001b[1m7s\u001b[0m 15ms/step - accuracy: 0.3365 - loss: 2.3717 - val_accuracy: 0.3489 - val_loss: 2.3078\n",
      "Epoch 3/10\n",
      "\u001b[1m443/443\u001b[0m \u001b[32m━━━━━━━━━━━━━━━━━━━━\u001b[0m\u001b[37m\u001b[0m \u001b[1m6s\u001b[0m 14ms/step - accuracy: 0.3670 - loss: 2.2321 - val_accuracy: 0.3752 - val_loss: 2.2032\n",
      "Epoch 4/10\n",
      "\u001b[1m443/443\u001b[0m \u001b[32m━━━━━━━━━━━━━━━━━━━━\u001b[0m\u001b[37m\u001b[0m \u001b[1m6s\u001b[0m 14ms/step - accuracy: 0.3922 - loss: 2.1389 - val_accuracy: 0.3983 - val_loss: 2.1324\n",
      "Epoch 5/10\n",
      "\u001b[1m443/443\u001b[0m \u001b[32m━━━━━━━━━━━━━━━━━━━━\u001b[0m\u001b[37m\u001b[0m \u001b[1m10s\u001b[0m 22ms/step - accuracy: 0.4090 - loss: 2.0716 - val_accuracy: 0.4120 - val_loss: 2.0797\n",
      "Epoch 6/10\n",
      "\u001b[1m443/443\u001b[0m \u001b[32m━━━━━━━━━━━━━━━━━━━━\u001b[0m\u001b[37m\u001b[0m \u001b[1m8s\u001b[0m 18ms/step - accuracy: 0.4206 - loss: 2.0194 - val_accuracy: 0.4215 - val_loss: 2.0372\n",
      "Epoch 7/10\n",
      "\u001b[1m443/443\u001b[0m \u001b[32m━━━━━━━━━━━━━━━━━━━━\u001b[0m\u001b[37m\u001b[0m \u001b[1m9s\u001b[0m 21ms/step - accuracy: 0.4310 - loss: 1.9772 - val_accuracy: 0.4313 - val_loss: 2.0030\n",
      "Epoch 8/10\n",
      "\u001b[1m443/443\u001b[0m \u001b[32m━━━━━━━━━━━━━━━━━━━━\u001b[0m\u001b[37m\u001b[0m \u001b[1m9s\u001b[0m 21ms/step - accuracy: 0.4398 - loss: 1.9422 - val_accuracy: 0.4372 - val_loss: 1.9758\n",
      "Epoch 9/10\n",
      "\u001b[1m443/443\u001b[0m \u001b[32m━━━━━━━━━━━━━━━━━━━━\u001b[0m\u001b[37m\u001b[0m \u001b[1m9s\u001b[0m 20ms/step - accuracy: 0.4480 - loss: 1.9131 - val_accuracy: 0.4440 - val_loss: 1.9536\n",
      "Epoch 10/10\n",
      "\u001b[1m443/443\u001b[0m \u001b[32m━━━━━━━━━━━━━━━━━━━━\u001b[0m\u001b[37m\u001b[0m \u001b[1m11s\u001b[0m 24ms/step - accuracy: 0.4549 - loss: 1.8880 - val_accuracy: 0.4480 - val_loss: 1.9340\n"
     ]
    }
   ],
   "source": [
    "rnn_model = build_seq_model(cell_type='RNN', embedding_dim=32, rnn_units=64, lr=0.001)\n",
    "rnn_model.summary()\n",
    "rnn_hist = rnn_model.fit(X_train, y_train, validation_data=(X_val, y_val),\n",
    "                        epochs=10, batch_size=128, verbose=1)\n"
   ]
  },
  {
   "cell_type": "markdown",
   "id": "af0be1bf-e753-430e-a7f7-07eb1fd4adf5",
   "metadata": {},
   "source": [
    "## 8. Train LSTM (same capacity) — compare directly\n",
    "***Short: train an LSTM with similar parameter count***\n"
   ]
  },
  {
   "cell_type": "code",
   "execution_count": 28,
   "id": "2443f77c-57b3-400d-9b07-1b561dde5f84",
   "metadata": {},
   "outputs": [
    {
     "name": "stdout",
     "output_type": "stream",
     "text": [
      "Epoch 1/10\n"
     ]
    },
    {
     "name": "stderr",
     "output_type": "stream",
     "text": [
      "C:\\Users\\bbuser\\anaconda3\\Lib\\site-packages\\keras\\src\\layers\\core\\embedding.py:97: UserWarning: Argument `input_length` is deprecated. Just remove it.\n",
      "  warnings.warn(\n"
     ]
    },
    {
     "name": "stdout",
     "output_type": "stream",
     "text": [
      "\u001b[1m443/443\u001b[0m \u001b[32m━━━━━━━━━━━━━━━━━━━━\u001b[0m\u001b[37m\u001b[0m \u001b[1m21s\u001b[0m 44ms/step - accuracy: 0.2423 - loss: 2.9099 - val_accuracy: 0.3121 - val_loss: 2.5807\n",
      "Epoch 2/10\n",
      "\u001b[1m443/443\u001b[0m \u001b[32m━━━━━━━━━━━━━━━━━━━━\u001b[0m\u001b[37m\u001b[0m \u001b[1m19s\u001b[0m 43ms/step - accuracy: 0.3179 - loss: 2.4755 - val_accuracy: 0.3275 - val_loss: 2.4037\n",
      "Epoch 3/10\n",
      "\u001b[1m443/443\u001b[0m \u001b[32m━━━━━━━━━━━━━━━━━━━━\u001b[0m\u001b[37m\u001b[0m \u001b[1m18s\u001b[0m 41ms/step - accuracy: 0.3346 - loss: 2.3357 - val_accuracy: 0.3432 - val_loss: 2.3044\n",
      "Epoch 4/10\n",
      "\u001b[1m443/443\u001b[0m \u001b[32m━━━━━━━━━━━━━━━━━━━━\u001b[0m\u001b[37m\u001b[0m \u001b[1m21s\u001b[0m 47ms/step - accuracy: 0.3565 - loss: 2.2474 - val_accuracy: 0.3667 - val_loss: 2.2354\n",
      "Epoch 5/10\n",
      "\u001b[1m443/443\u001b[0m \u001b[32m━━━━━━━━━━━━━━━━━━━━\u001b[0m\u001b[37m\u001b[0m \u001b[1m21s\u001b[0m 47ms/step - accuracy: 0.3754 - loss: 2.1826 - val_accuracy: 0.3780 - val_loss: 2.1818\n",
      "Epoch 6/10\n",
      "\u001b[1m443/443\u001b[0m \u001b[32m━━━━━━━━━━━━━━━━━━━━\u001b[0m\u001b[37m\u001b[0m \u001b[1m11s\u001b[0m 24ms/step - accuracy: 0.3879 - loss: 2.1314 - val_accuracy: 0.3909 - val_loss: 2.1393\n",
      "Epoch 7/10\n",
      "\u001b[1m443/443\u001b[0m \u001b[32m━━━━━━━━━━━━━━━━━━━━\u001b[0m\u001b[37m\u001b[0m \u001b[1m9s\u001b[0m 21ms/step - accuracy: 0.3984 - loss: 2.0902 - val_accuracy: 0.4022 - val_loss: 2.1043\n",
      "Epoch 8/10\n",
      "\u001b[1m443/443\u001b[0m \u001b[32m━━━━━━━━━━━━━━━━━━━━\u001b[0m\u001b[37m\u001b[0m \u001b[1m9s\u001b[0m 20ms/step - accuracy: 0.4086 - loss: 2.0552 - val_accuracy: 0.4117 - val_loss: 2.0748\n",
      "Epoch 9/10\n",
      "\u001b[1m443/443\u001b[0m \u001b[32m━━━━━━━━━━━━━━━━━━━━\u001b[0m\u001b[37m\u001b[0m \u001b[1m9s\u001b[0m 21ms/step - accuracy: 0.4152 - loss: 2.0249 - val_accuracy: 0.4168 - val_loss: 2.0496\n",
      "Epoch 10/10\n",
      "\u001b[1m443/443\u001b[0m \u001b[32m━━━━━━━━━━━━━━━━━━━━\u001b[0m\u001b[37m\u001b[0m \u001b[1m9s\u001b[0m 20ms/step - accuracy: 0.4228 - loss: 1.9983 - val_accuracy: 0.4230 - val_loss: 2.0271\n"
     ]
    }
   ],
   "source": [
    "lstm_model = build_seq_model(cell_type='LSTM', embedding_dim=32, rnn_units=64, lr=0.001)\n",
    "lstm_hist = lstm_model.fit(X_train, y_train, validation_data=(X_val, y_val),\n",
    "                          epochs=10, batch_size=128, verbose=1)\n"
   ]
  },
  {
   "cell_type": "markdown",
   "id": "ad7faa8f-ec7f-4860-bcbf-75ac2020d0cc",
   "metadata": {},
   "source": [
    "## 9. Plot training & validation accuracy / loss\n",
    "***Short: visualize learning curves to compare speed and generalization***\n"
   ]
  },
  {
   "cell_type": "code",
   "execution_count": 29,
   "id": "7635d218-9e0a-4962-ba25-4b65a50563da",
   "metadata": {},
   "outputs": [
    {
     "data": {
      "image/png": "[encoded data removed]",
      "text/plain": [
       "<Figure size 1200x400 with 2 Axes>"
      ]
     },
     "metadata": {},
     "output_type": "display_data"
    }
   ],
   "source": [
    "plt.figure(figsize=(12,4))\n",
    "plt.subplot(1,2,1)\n",
    "plt.plot(rnn_hist.history['loss'], label='RNN train loss')\n",
    "plt.plot(rnn_hist.history['val_loss'], label='RNN val loss')\n",
    "plt.plot(lstm_hist.history['loss'], '--', label='LSTM train loss')\n",
    "plt.plot(lstm_hist.history['val_loss'], '--', label='LSTM val loss')\n",
    "plt.legend(); plt.title(\"Loss\"); plt.xlabel(\"Epoch\")\n",
    "\n",
    "plt.subplot(1,2,2)\n",
    "plt.plot(rnn_hist.history['accuracy'], label='RNN train acc')\n",
    "plt.plot(rnn_hist.history['val_accuracy'], label='RNN val acc')\n",
    "plt.plot(lstm_hist.history['accuracy'], '--', label='LSTM train acc')\n",
    "plt.plot(lstm_hist.history['val_accuracy'], '--', label='LSTM val acc')\n",
    "plt.legend(); plt.title(\"Accuracy\"); plt.xlabel(\"Epoch\")\n",
    "plt.show()\n"
   ]
  },
  {
   "cell_type": "markdown",
   "id": "f5129c2b-8931-4940-a691-373dbc63c865",
   "metadata": {},
   "source": [
    "## 10. Simple sampling function — generate text to inspect predictions\n",
    "***Short: see qualitative difference: give a seed and sample next chars***\n"
   ]
  },
  {
   "cell_type": "code",
   "execution_count": 30,
   "id": "a66dfbdf-694c-4510-8c77-b4af169d8e8e",
   "metadata": {},
   "outputs": [
    {
     "name": "stdout",
     "output_type": "stream",
     "text": [
      "RNN sample:\n",
      " The Happy Prince.\n",
      "HIGH above the city, onounce tio will fleck finold and would led the heavery wan comped ap; that so matimamanking the in a pimtcered asoutifters ablow ole hooked.”\n",
      "“I I malo-bly ould porbsce, har of to intt store to inethi\n",
      "\n",
      "LSTM sample:\n",
      " The Happy Prince.\n",
      "HIGH above the city, on as I paim the gormen in wat the con thowe, yowhing.\n",
      "This ant ousror-tother. Onle anceld a sifired and treen lacting a mouly non op baclot of sone is the parusared. “had I pamm the prow brow it wing \n"
     ]
    }
   ],
   "source": [
    "def sample_next(model, seed_text, temperature=1.0, n_chars=100):\n",
    "    seq = seed_text[-seq_len:]\n",
    "    generated = seed_text\n",
    "    for _ in range(n_chars):\n",
    "        x = np.array([[char2idx.get(c,0) for c in seq]])\n",
    "        preds = model.predict(x, verbose=0)[0]\n",
    "        # apply temperature\n",
    "        preds = np.log(np.maximum(preds, 1e-12)) / temperature\n",
    "        exp_preds = np.exp(preds)\n",
    "        probs = exp_preds / np.sum(exp_preds)\n",
    "        next_idx = np.random.choice(range(vocab_size), p=probs)\n",
    "        next_char = idx2char[next_idx]\n",
    "        generated += next_char\n",
    "        seq = (seq + next_char)[-seq_len:]\n",
    "    return generated\n",
    "\n",
    "seed = corpus[:seq_len]\n",
    "print(\"RNN sample:\\n\", sample_next(rnn_model, seed, temperature=0.8, n_chars=200))\n",
    "print(\"\\nLSTM sample:\\n\", sample_next(lstm_model, seed, temperature=0.8, n_chars=200))\n"
   ]
  },
  {
   "cell_type": "markdown",
   "id": "c6214662-fb2f-4a2c-bbcd-9c534ff495ad",
   "metadata": {},
   "source": [
    "## 11. Quick quantitative comparison on validation set\n",
    "***Short: evaluate both models on validation set and compare loss/accuracy***\n"
   ]
  },
  {
   "cell_type": "code",
   "execution_count": 31,
   "id": "f0224a47-fe29-4310-bfdb-49dcf2031fd3",
   "metadata": {},
   "outputs": [
    {
     "name": "stdout",
     "output_type": "stream",
     "text": [
      "RNN  - val_loss: 1.9340, val_acc: 0.4480\n",
      "LSTM - val_loss: 2.0271, val_acc: 0.4230\n"
     ]
    }
   ],
   "source": [
    "rnn_eval = rnn_model.evaluate(X_val, y_val, verbose=0)\n",
    "lstm_eval = lstm_model.evaluate(X_val, y_val, verbose=0)\n",
    "print(\"RNN  - val_loss: {:.4f}, val_acc: {:.4f}\".format(*rnn_eval))\n",
    "print(\"LSTM - val_loss: {:.4f}, val_acc: {:.4f}\".format(*lstm_eval))\n"
   ]
  },
  {
   "cell_type": "markdown",
   "id": "bc90b471-0564-4190-adc9-e0938ed2cad9",
   "metadata": {},
   "source": [
    "## 12. Short reflection (write-up cell)\n",
    "***Short: guidance on what to expect and why differences occur***\n"
   ]
  },
  {
   "cell_type": "markdown",
   "id": "65905a93-0f34-48a4-98bf-261d9a7c19a1",
   "metadata": {},
   "source": [
    "**Reflection:**  \n",
    "- **Speed:** Vanilla RNNs are typically faster per epoch than LSTMs because LSTMs have more internal gates and parameters.  \n",
    "- **Accuracy / Memory:** LSTMs usually outperform vanilla RNNs on sequence tasks that require longer-range memory (they avoid vanishing gradients).  \n",
    "- **Preprocessing:** Both used integer encoding + Embedding here; more complex preprocessing (one-hot, normalization) is less critical for char-level tasks.  \n",
    "- **Model complexity & overfitting:** Increasing layers/units can improve fit but risks overfitting — watch train vs val loss curves and use dropout/regularization or early stopping.  \n",
    "- **Tip for beginners:** Start small (short seq_len, few units, few epochs). Once code runs, increase model size and training time gradually while monitoring validation performance.\n"
   ]
  },
  {
   "cell_type": "code",
   "execution_count": null,
   "id": "661e2494-34ed-43f4-ac7e-532b561db49e",
   "metadata": {},
   "outputs": [],
   "source": []
  }
 ],
 "metadata": {
  "kernelspec": {
   "display_name": "Python 3 (ipykernel)",
   "language": "python",
   "name": "python3"
  },
  "language_info": {
   "codemirror_mode": {
    "name": "ipython",
    "version": 3
   },
   "file_extension": ".py",
   "mimetype": "text/x-python",
   "name": "python",
   "nbconvert_exporter": "python",
   "pygments_lexer": "ipython3",
   "version": "3.12.7"
  }
 },
 "nbformat": 4,
 "nbformat_minor": 5
}
