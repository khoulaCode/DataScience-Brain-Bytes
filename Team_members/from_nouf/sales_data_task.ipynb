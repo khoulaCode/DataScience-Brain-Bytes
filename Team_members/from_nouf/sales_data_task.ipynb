{
 "cells": [
  {
   "cell_type": "code",
   "execution_count": 40,
   "id": "d69255f0-24df-4930-8a30-37957064f93c",
   "metadata": {},
   "outputs": [],
   "source": [
    "import numpy as np\n",
    "import pandas as pd"
   ]
  },
  {
   "cell_type": "code",
   "execution_count": 41,
   "id": "2839829f-67a2-4011-950d-5ef56497db4e",
   "metadata": {},
   "outputs": [],
   "source": [
    "np.random.seed(0)"
   ]
  },
  {
   "cell_type": "code",
   "execution_count": 42,
   "id": "fe03e3ed-809f-4382-be19-f81f77df5974",
   "metadata": {},
   "outputs": [],
   "source": [
    "base_revenue = 1000"
   ]
  },
  {
   "cell_type": "code",
   "execution_count": 43,
   "id": "500ba9d8-2596-4dd0-9a85-975971b08dd9",
   "metadata": {},
   "outputs": [],
   "source": [
    "revenue_fluctuation = np.random.randn(30) * 200"
   ]
  },
  {
   "cell_type": "code",
   "execution_count": 44,
   "id": "85963405-f817-4d9b-8d16-7797bbeee16d",
   "metadata": {},
   "outputs": [],
   "source": [
    "sales_revenue = base_revenue + revenue_fluctuation"
   ]
  },
  {
   "cell_type": "code",
   "execution_count": 45,
   "id": "28050601-fcfa-4d3c-b0a1-3027bcc0c9d8",
   "metadata": {},
   "outputs": [],
   "source": [
    "sales_revenue = np.maximum(sales_revenue, 0)"
   ]
  },
  {
   "cell_type": "code",
   "execution_count": 46,
   "id": "f66e12e1-5e3d-4d2c-975b-fd9b09edc3b3",
   "metadata": {},
   "outputs": [],
   "source": [
    "avg_price = 20\n",
    "units_base = sales_revenue / avg_price\n",
    "units_fluctuation = np.random.randn(30) * 2\n",
    "units_sold = units_base + units_fluctuation"
   ]
  },
  {
   "cell_type": "code",
   "execution_count": 47,
   "id": "6da5114a-1fcc-4ccd-a779-c8dfa4f01a1a",
   "metadata": {},
   "outputs": [],
   "source": [
    "units_sold = np.maximum(units_sold, 0)\n",
    "units_sold = np.round(units_sold).astype(int)"
   ]
  },
  {
   "cell_type": "code",
   "execution_count": 48,
   "id": "417b5515-539c-4d1f-a4d4-6a2e6a5eb52b",
   "metadata": {},
   "outputs": [],
   "source": [
    "data = np.column_stack((sales_revenue, units_sold))"
   ]
  },
  {
   "cell_type": "code",
   "execution_count": 49,
   "id": "94f9d6a1-b511-4eab-822a-9a6bbad82fb3",
   "metadata": {},
   "outputs": [],
   "source": [
    "total_revenue = sales_revenue.sum()"
   ]
  },
  {
   "cell_type": "code",
   "execution_count": 50,
   "id": "5be7d2cd-5e8a-4c67-ad76-33e3f27b38d1",
   "metadata": {},
   "outputs": [],
   "source": [
    "avg_units = units_sold.mean()"
   ]
  },
  {
   "cell_type": "code",
   "execution_count": 51,
   "id": "02ae045d-b225-4f07-b6f4-3987b2bd537d",
   "metadata": {},
   "outputs": [],
   "source": [
    "max_revenue = sales_revenue.max()"
   ]
  },
  {
   "cell_type": "code",
   "execution_count": 52,
   "id": "197b28d2-45ac-4576-b9c1-d516fa0c85ba",
   "metadata": {},
   "outputs": [],
   "source": [
    "max_day = sales_revenue.argmax()"
   ]
  },
  {
   "cell_type": "code",
   "execution_count": 53,
   "id": "f4e1104e-9872-4f34-9d53-209014115c8b",
   "metadata": {},
   "outputs": [],
   "source": [
    "total_units = units_sold.sum()\n",
    "avg_revenue_per_unit = total_revenue / total_units"
   ]
  },
  {
   "cell_type": "code",
   "execution_count": 54,
   "id": "bfb1b41c-2c92-46d0-857e-3b0bcfe17295",
   "metadata": {},
   "outputs": [],
   "source": [
    "high_revenue_days = np.sum(sales_revenue > 1200)"
   ]
  },
  {
   "cell_type": "code",
   "execution_count": 55,
   "id": "9778c1ef-055f-4005-b64d-41dd7191c2d2",
   "metadata": {},
   "outputs": [],
   "source": [
    "low_units_avg = units_sold[sales_revenue < 900].mean()"
   ]
  },
  {
   "cell_type": "code",
   "execution_count": 56,
   "id": "537be903-b6a8-49d1-b4c1-b75b43bf1b17",
   "metadata": {},
   "outputs": [],
   "source": [
    "week1 = sales_revenue[0:7].sum()\n",
    "week2 = sales_revenue[7:14].sum()\n",
    "week3 = sales_revenue[14:21].sum()\n",
    "week4 = sales_revenue[21:28].sum()"
   ]
  },
  {
   "cell_type": "code",
   "execution_count": 57,
   "id": "72fb3b17-7077-4995-b56c-4df09f39d6bc",
   "metadata": {},
   "outputs": [
    {
     "name": "stdout",
     "output_type": "stream",
     "text": [
      "Total revenue: 32657.14\n"
     ]
    }
   ],
   "source": [
    "print(\"Total revenue:\", round(total_revenue, 2))"
   ]
  },
  {
   "cell_type": "code",
   "execution_count": 58,
   "id": "5c47b5a6-7f6a-4289-8073-5c72f17a30e3",
   "metadata": {},
   "outputs": [
    {
     "name": "stdout",
     "output_type": "stream",
     "text": [
      "Average units sold per day: 53.87\n"
     ]
    }
   ],
   "source": [
    "print(\"Average units sold per day:\", round(avg_units, 2))"
   ]
  },
  {
   "cell_type": "code",
   "execution_count": 59,
   "id": "ac4f2d37-60d3-47d8-a85d-e280185cc8ed",
   "metadata": {},
   "outputs": [
    {
     "name": "stdout",
     "output_type": "stream",
     "text": [
      "Maximum daily revenue: 1453.95 on day 24\n"
     ]
    }
   ],
   "source": [
    "print(\"Maximum daily revenue:\", round(max_revenue, 2), \"on day\", max_day)"
   ]
  },
  {
   "cell_type": "code",
   "execution_count": 60,
   "id": "f9b30296-c8a9-4e44-a9be-5bfa4fd1c8a1",
   "metadata": {},
   "outputs": [
    {
     "name": "stdout",
     "output_type": "stream",
     "text": [
      "Average revenue per unit sold: 20.21\n"
     ]
    }
   ],
   "source": [
    "print(\"Average revenue per unit sold:\", round(avg_revenue_per_unit, 2))"
   ]
  },
  {
   "cell_type": "code",
   "execution_count": 61,
   "id": "182b1931-506f-4f62-9670-d7721654a242",
   "metadata": {},
   "outputs": [
    {
     "name": "stdout",
     "output_type": "stream",
     "text": [
      "Days with revenue > 1200: 8\n"
     ]
    }
   ],
   "source": [
    "print(\"Days with revenue > 1200:\", high_revenue_days)"
   ]
  },
  {
   "cell_type": "code",
   "execution_count": 62,
   "id": "02ce93af-6a81-4037-b5d6-8bfdaa6fe412",
   "metadata": {},
   "outputs": [
    {
     "name": "stdout",
     "output_type": "stream",
     "text": [
      "Average units sold when revenue < 900: 36.2\n"
     ]
    }
   ],
   "source": [
    "print(\"Average units sold when revenue < 900:\", round(low_units_avg, 2))"
   ]
  },
  {
   "cell_type": "code",
   "execution_count": 73,
   "id": "60e225b4-49cb-418a-9f3c-6714633a01c9",
   "metadata": {},
   "outputs": [
    {
     "name": "stdout",
     "output_type": "stream",
     "text": [
      "Week 1 revenue: 8444.84\n"
     ]
    }
   ],
   "source": [
    "print(\"Week 1 revenue:\", round(week1, 2))"
   ]
  },
  {
   "cell_type": "code",
   "execution_count": 74,
   "id": "d0b3b6dc-8205-452b-9340-f42a503c5236",
   "metadata": {},
   "outputs": [
    {
     "name": "stdout",
     "output_type": "stream",
     "text": [
      "Week 2 revenue: 7527.41\n"
     ]
    }
   ],
   "source": [
    "print(\"Week 2 revenue:\", round(week2, 2))"
   ]
  },
  {
   "cell_type": "code",
   "execution_count": 75,
   "id": "320f49bf-ede5-4b6c-8f30-7f346f05c312",
   "metadata": {},
   "outputs": [
    {
     "name": "stdout",
     "output_type": "stream",
     "text": [
      "Week 3 revenue: 6794.49\n"
     ]
    }
   ],
   "source": [
    "print(\"Week 3 revenue:\", round(week3, 2))"
   ]
  },
  {
   "cell_type": "code",
   "execution_count": 76,
   "id": "a85927fa-2739-4656-ade8-ae7f30ec9ffb",
   "metadata": {},
   "outputs": [
    {
     "name": "stdout",
     "output_type": "stream",
     "text": [
      "Week 4 revenue: 7289.97\n"
     ]
    }
   ],
   "source": [
    "print(\"Week 4 revenue:\", round(week4, 2))"
   ]
  },
  {
   "cell_type": "code",
   "execution_count": null,
   "id": "1c3cc4fb-b541-48ba-8b59-f132a160b242",
   "metadata": {},
   "outputs": [],
   "source": []
  }
 ],
 "metadata": {
  "kernelspec": {
   "display_name": "Python [conda env:base] *",
   "language": "python",
   "name": "conda-base-py"
  },
  "language_info": {
   "codemirror_mode": {
    "name": "ipython",
    "version": 3
   },
   "file_extension": ".py",
   "mimetype": "text/x-python",
   "name": "python",
   "nbconvert_exporter": "python",
   "pygments_lexer": "ipython3",
   "version": "3.12.7"
  }
 },
 "nbformat": 4,
 "nbformat_minor": 5
}
