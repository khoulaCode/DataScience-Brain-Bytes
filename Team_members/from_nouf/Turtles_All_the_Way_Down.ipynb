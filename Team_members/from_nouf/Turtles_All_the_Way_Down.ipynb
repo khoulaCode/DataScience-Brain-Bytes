{
 "cells": [
  {
   "cell_type": "markdown",
   "id": "9fc9f605-19b7-4552-8d4f-69be28ca1f08",
   "metadata": {},
   "source": [
    "## Turtles All the Way Down: Frames & iFrames"
   ]
  },
  {
   "cell_type": "markdown",
   "id": "6b3714c8-c2bc-4c52-bd28-710b203668f9",
   "metadata": {},
   "source": [
    "### 1.importing libraries"
   ]
  },
  {
   "cell_type": "code",
   "execution_count": 41,
   "id": "b37a5299-db71-4f7d-99cb-414f9c703d4f",
   "metadata": {},
   "outputs": [],
   "source": [
    "from bs4 import BeautifulSoup\n",
    "import requests"
   ]
  },
  {
   "cell_type": "markdown",
   "id": "60f14cf0-9843-4219-ae63-ffb926a2bdca",
   "metadata": {},
   "source": [
    "### Step 2: Scrape Turtle Family Cards from the Website\n",
    "***We begin by defining the base URL and constructing the full URL \n",
    "that contains turtle family cards. Using the `requests` library,\n",
    "we send an HTTP GET request to retrieve the webpage content. Then we parse the HTML using BeautifulSoup \n",
    "and identify all turtle card sections using the `div` tag with class `turtle-family-card`.\n",
    "Finally, we prepare an empty dictionary called `turtle_info` to store the extracted turtle names and descriptions.***"
   ]
  },
  {
   "cell_type": "code",
   "execution_count": 52,
   "id": "b77b13fa-8a10-4bf9-a814-f22f4c2f7b90",
   "metadata": {},
   "outputs": [],
   "source": [
    "# Base URL\n",
    "base_url = 'https://www.scrapethissite.com'\n",
    "# URL with turtle family cards\n",
    "family_list_url = base_url + '/pages/frames/?frame=i'\n",
    "# Send request to get the page\n",
    "response = requests.get(family_list_url)\n",
    "soup = BeautifulSoup(response.content, 'html.parser')\n",
    "# Find all turtle family cards\n",
    "family_cards = soup.find_all('div', class_='turtle-family-card')\n",
    "# Prepare dictionary to store results\n",
    "turtle_info = {\n",
    "    'turtle_name': [],\n",
    "    'description': []\n",
    "}"
   ]
  },
  {
   "cell_type": "markdown",
   "id": "f4249d66-63cd-4d5a-8d90-ca82f76b0eff",
   "metadata": {},
   "source": [
    "### Step 3: Loop Through Turtle Cards and Extract Details\n",
    "\n",
    "***Now that we've located all turtle family cards on the webpage, we'll loop through each card to extract the turtle name and follow the detail link to get the description. For each card:***\n",
    "***- We grab the `<h3>` tag with class `family-name` to get the turtle name.***\n",
    "***- We find the `<a>` tag to locate the detail page URL.***\n",
    "***- We send another request to the detail page and extract the description from the `<p class=\"lead\">` paragraph.***\n",
    "***- Each turtle name and its description are added to the `turtle_info` dictionary.***\n"
   ]
  },
  {
   "cell_type": "code",
   "execution_count": 56,
   "id": "5ff037c9-6fd5-4b76-bac8-27769ef82878",
   "metadata": {},
   "outputs": [],
   "source": [
    "# Loop through each turtle card\n",
    "for card in family_cards:\n",
    "    # Get turtle name\n",
    "    name_tag = card.find('h3', class_='family-name')\n",
    "    turtle_name = name_tag.text.strip() if name_tag else \"Unknown Family\"\n",
    "    # Get link to detail page\n",
    "    link_tag = card.find('a', href=True)\n",
    "    if not link_tag:\n",
    "        description = \"No description available\"\n",
    "    else:\n",
    "        # Follow the link to get description paragraph\n",
    "        detail_url = base_url + link_tag['href']\n",
    "        detail_response = requests.get(detail_url)\n",
    "        detail_soup = BeautifulSoup(detail_response.content, 'html.parser')\n",
    "        # Get the first <p class=\"lead\"> paragraph\n",
    "        description_tag = detail_soup.find('p', class_='lead')\n",
    "        description = description_tag.get_text(strip=True) if description_tag else \"No description available\"\n",
    "    # Add to data\n",
    "        turtle_info['turtle_name'].append(turtle_name)\n",
    "        turtle_info['description'].append(description)"
   ]
  },
  {
   "cell_type": "markdown",
   "id": "cb5b8bde-0816-4ba7-8916-e27db0903c60",
   "metadata": {},
   "source": [
    "### Step 4: Store Turtle Info in a DataFrame\n",
    "***After collecting turtle names and their descriptions from the website, we organize the data using a Python dictionary called `turtle_info`. Each turtle’s name and description are stored in separate lists. Once all data is collected, we convert this dictionary into a `pandas` DataFrame***"
   ]
  },
  {
   "cell_type": "code",
   "execution_count": 57,
   "id": "335bfa2b-42a2-4128-8ac7-883c728af96d",
   "metadata": {},
   "outputs": [
    {
     "data": {
      "text/html": [
       "<div>\n",
       "<style scoped>\n",
       "    .dataframe tbody tr th:only-of-type {\n",
       "        vertical-align: middle;\n",
       "    }\n",
       "\n",
       "    .dataframe tbody tr th {\n",
       "        vertical-align: top;\n",
       "    }\n",
       "\n",
       "    .dataframe thead th {\n",
       "        text-align: right;\n",
       "    }\n",
       "</style>\n",
       "<table border=\"1\" class=\"dataframe\">\n",
       "  <thead>\n",
       "    <tr style=\"text-align: right;\">\n",
       "      <th></th>\n",
       "      <th>turtle_name</th>\n",
       "      <th>description</th>\n",
       "    </tr>\n",
       "  </thead>\n",
       "  <tbody>\n",
       "    <tr>\n",
       "      <th>0</th>\n",
       "      <td>Podocnemididae</td>\n",
       "      <td>ThePodocnemididaefamily of turtles — more comm...</td>\n",
       "    </tr>\n",
       "    <tr>\n",
       "      <th>1</th>\n",
       "      <td>Carettochelyidae</td>\n",
       "      <td>TheCarettochelyidaefamily of turtles — more co...</td>\n",
       "    </tr>\n",
       "    <tr>\n",
       "      <th>2</th>\n",
       "      <td>Cheloniidae</td>\n",
       "      <td>TheCheloniidaefamily of turtles — more commonl...</td>\n",
       "    </tr>\n",
       "    <tr>\n",
       "      <th>3</th>\n",
       "      <td>Chelydridae</td>\n",
       "      <td>TheChelydridaefamily of turtles — more commonl...</td>\n",
       "    </tr>\n",
       "    <tr>\n",
       "      <th>4</th>\n",
       "      <td>Dermatemydidae</td>\n",
       "      <td>TheDermatemydidaefamily of turtles — more comm...</td>\n",
       "    </tr>\n",
       "    <tr>\n",
       "      <th>5</th>\n",
       "      <td>Dermochelyidae</td>\n",
       "      <td>TheDermochelyidaefamily of turtles — more comm...</td>\n",
       "    </tr>\n",
       "    <tr>\n",
       "      <th>6</th>\n",
       "      <td>Emydidae</td>\n",
       "      <td>TheEmydidaefamily of turtles — more commonly k...</td>\n",
       "    </tr>\n",
       "    <tr>\n",
       "      <th>7</th>\n",
       "      <td>Geoemydidae</td>\n",
       "      <td>TheGeoemydidaefamily of turtles — more commonl...</td>\n",
       "    </tr>\n",
       "    <tr>\n",
       "      <th>8</th>\n",
       "      <td>Kinosternidae</td>\n",
       "      <td>TheKinosternidaefamily of turtles — more commo...</td>\n",
       "    </tr>\n",
       "    <tr>\n",
       "      <th>9</th>\n",
       "      <td>Platysternidae</td>\n",
       "      <td>ThePlatysternidaefamily of turtles — more comm...</td>\n",
       "    </tr>\n",
       "    <tr>\n",
       "      <th>10</th>\n",
       "      <td>Testudinidae</td>\n",
       "      <td>TheTestudinidaefamily of turtles — more common...</td>\n",
       "    </tr>\n",
       "    <tr>\n",
       "      <th>11</th>\n",
       "      <td>Trionychidae</td>\n",
       "      <td>TheTrionychidaefamily of turtles — more common...</td>\n",
       "    </tr>\n",
       "    <tr>\n",
       "      <th>12</th>\n",
       "      <td>Chelidae</td>\n",
       "      <td>TheChelidaefamily of turtles — more commonly k...</td>\n",
       "    </tr>\n",
       "    <tr>\n",
       "      <th>13</th>\n",
       "      <td>Pelomedusidae</td>\n",
       "      <td>ThePelomedusidaefamily of turtles — more commo...</td>\n",
       "    </tr>\n",
       "    <tr>\n",
       "      <th>14</th>\n",
       "      <td>Podocnemididae</td>\n",
       "      <td>ThePodocnemididaefamily of turtles — more comm...</td>\n",
       "    </tr>\n",
       "  </tbody>\n",
       "</table>\n",
       "</div>"
      ],
      "text/plain": [
       "         turtle_name                                        description\n",
       "0     Podocnemididae  ThePodocnemididaefamily of turtles — more comm...\n",
       "1   Carettochelyidae  TheCarettochelyidaefamily of turtles — more co...\n",
       "2        Cheloniidae  TheCheloniidaefamily of turtles — more commonl...\n",
       "3        Chelydridae  TheChelydridaefamily of turtles — more commonl...\n",
       "4     Dermatemydidae  TheDermatemydidaefamily of turtles — more comm...\n",
       "5     Dermochelyidae  TheDermochelyidaefamily of turtles — more comm...\n",
       "6           Emydidae  TheEmydidaefamily of turtles — more commonly k...\n",
       "7        Geoemydidae  TheGeoemydidaefamily of turtles — more commonl...\n",
       "8      Kinosternidae  TheKinosternidaefamily of turtles — more commo...\n",
       "9     Platysternidae  ThePlatysternidaefamily of turtles — more comm...\n",
       "10      Testudinidae  TheTestudinidaefamily of turtles — more common...\n",
       "11      Trionychidae  TheTrionychidaefamily of turtles — more common...\n",
       "12          Chelidae  TheChelidaefamily of turtles — more commonly k...\n",
       "13     Pelomedusidae  ThePelomedusidaefamily of turtles — more commo...\n",
       "14    Podocnemididae  ThePodocnemididaefamily of turtles — more comm..."
      ]
     },
     "execution_count": 57,
     "metadata": {},
     "output_type": "execute_result"
    }
   ],
   "source": [
    "df = pd.DataFrame(turtle_info)\n",
    "df"
   ]
  }
 ],
 "metadata": {
  "kernelspec": {
   "display_name": "Python [conda env:base] *",
   "language": "python",
   "name": "conda-base-py"
  },
  "language_info": {
   "codemirror_mode": {
    "name": "ipython",
    "version": 3
   },
   "file_extension": ".py",
   "mimetype": "text/x-python",
   "name": "python",
   "nbconvert_exporter": "python",
   "pygments_lexer": "ipython3",
   "version": "3.12.7"
  }
 },
 "nbformat": 4,
 "nbformat_minor": 5
}
