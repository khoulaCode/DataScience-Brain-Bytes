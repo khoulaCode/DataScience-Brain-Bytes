{
 "cells": [
  {
   "cell_type": "markdown",
   "id": "79a11b33-e9c0-4fdc-9748-6f4019335a40",
   "metadata": {},
   "source": [
    "# Load and clean text"
   ]
  },
  {
   "cell_type": "code",
   "execution_count": 1,
   "id": "1c3936bd-056c-417a-9f0a-07b2f86be52d",
   "metadata": {},
   "outputs": [],
   "source": [
    "import os, re, random, numpy as np\n",
    "import tensorflow as tf\n",
    "from tensorflow.keras import layers, Sequential\n",
    "import matplotlib.pyplot as plt"
   ]
  },
  {
   "cell_type": "code",
   "execution_count": 2,
   "id": "58168083-083d-44ff-bb8d-094856b95ba5",
   "metadata": {},
   "outputs": [],
   "source": [
    "SEED = 42\n",
    "random.seed(SEED); np.random.seed(SEED); tf.random.set_seed(SEED)"
   ]
  },
  {
   "cell_type": "markdown",
   "id": "e73e6000-5786-4aed-96a6-7db990e3b586",
   "metadata": {},
   "source": [
    "- The path of dataset text file.\n",
    "- Take a subset for speed"
   ]
  },
  {
   "cell_type": "code",
   "execution_count": 3,
   "id": "c724c2bb-50c9-4305-9169-ca7a353ea2d5",
   "metadata": {},
   "outputs": [],
   "source": [
    "DATA_PATH = \"Data/cleaned_merged_fairy_tales_without_eos.txt\"  \n",
    "MAX_CHARS = 200_000 "
   ]
  },
  {
   "cell_type": "code",
   "execution_count": 5,
   "id": "d152bdb7-015c-429c-831f-ddb68896e3f5",
   "metadata": {},
   "outputs": [],
   "source": [
    "with open(DATA_PATH, \"r\", encoding=\"utf-8\") as f:\n",
    "    text = f.read()\n",
    "\n",
    "text = text[:MAX_CHARS].lower()"
   ]
  },
  {
   "cell_type": "markdown",
   "id": "59ed3b0e-552f-4ce3-97d1-18fdd1f66a75",
   "metadata": {},
   "source": [
    "- Basic cleaning & subsetting"
   ]
  },
  {
   "cell_type": "code",
   "execution_count": 6,
   "id": "011d86b3-744e-4fbc-be10-5369ff6d4f40",
   "metadata": {},
   "outputs": [
    {
     "name": "stdout",
     "output_type": "stream",
     "text": [
      "Total characters used: 197968\n",
      "Sample: the happy prince.\n",
      "high above the city, on a tall column, stood the statue of the happy prince.  he was gilded all over with thin leaves of fine gold, for eyes he had two bright sapphires, and a large \n"
     ]
    }
   ],
   "source": [
    "allowed = re.compile(r\"[a-z0-9 ,.\\-;:'\\\"!?()\\n]\")\n",
    "text = \"\".join(ch for ch in text if allowed.match(ch))\n",
    "\n",
    "print(\"Total characters used:\", len(text))\n",
    "print(\"Sample:\", text[:200])"
   ]
  },
  {
   "cell_type": "markdown",
   "id": "9f57e6a7-a23d-42d3-82ac-313d90d80a4d",
   "metadata": {},
   "source": [
    "# Character vocabulary and sequence preparation "
   ]
  },
  {
   "cell_type": "code",
   "execution_count": 7,
   "id": "5a88c2e3-1979-4a06-8b5b-62b560c7567e",
   "metadata": {},
   "outputs": [
    {
     "name": "stdout",
     "output_type": "stream",
     "text": [
      "Vocab size: 46\n",
      "X shape: (197908, 60) y shape: (197908,)\n"
     ]
    }
   ],
   "source": [
    "chars = sorted(list(set(text)))\n",
    "vocab_size = len(chars)\n",
    "char2idx = {c:i for i,c in enumerate(chars)}\n",
    "idx2char = {i:c for c,i in char2idx.items()}\n",
    "print(\"Vocab size:\", vocab_size)\n",
    "\n",
    "encoded = np.array([char2idx[c] for c in text], dtype=np.int32)\n",
    "\n",
    "SEQ_LEN = 60   # timesteps per sample\n",
    "STEP    = 1\n",
    "\n",
    "X_idx, y_idx = [], []\n",
    "for i in range(0, len(encoded) - SEQ_LEN, STEP):\n",
    "    X_idx.append(encoded[i:i+SEQ_LEN])\n",
    "    y_idx.append(encoded[i+SEQ_LEN])\n",
    "\n",
    "X_idx = np.array(X_idx, dtype=np.int32)  # shape: (N, SEQ_LEN)\n",
    "y_idx = np.array(y_idx, dtype=np.int32)  # shape: (N,)\n",
    "print(\"X shape:\", X_idx.shape, \"y shape:\", y_idx.shape)"
   ]
  },
  {
   "cell_type": "markdown",
   "id": "3fcc4b5d-d89a-4ddb-8857-c69a0571646c",
   "metadata": {},
   "source": [
    "-  Train/Validation split (80/20)"
   ]
  },
  {
   "cell_type": "code",
   "execution_count": 8,
   "id": "35777799-6e2d-4468-aeab-27adc0233c35",
   "metadata": {},
   "outputs": [
    {
     "name": "stdout",
     "output_type": "stream",
     "text": [
      "Train: (158326, 60) Val: (39582, 60)\n"
     ]
    }
   ],
   "source": [
    "split = int(0.8 * len(X_idx))\n",
    "X_train, X_val = X_idx[:split], X_idx[split:]\n",
    "y_train, y_val = y_idx[:split], y_idx[split:]\n",
    "print(\"Train:\", X_train.shape, \"Val:\", X_val.shape)"
   ]
  },
  {
   "cell_type": "markdown",
   "id": "74454c04-fdfe-4cd0-9a3e-bee126d34abc",
   "metadata": {},
   "source": [
    "#  Build the RNN"
   ]
  },
  {
   "cell_type": "code",
   "execution_count": 9,
   "id": "ca482137-eaaf-4a8d-9695-c0a166a735c7",
   "metadata": {},
   "outputs": [
    {
     "data": {
      "text/html": [
       "<pre style=\"white-space:pre;overflow-x:auto;line-height:normal;font-family:Menlo,'DejaVu Sans Mono',consolas,'Courier New',monospace\"><span style=\"font-weight: bold\">Model: \"sequential\"</span>\n",
       "</pre>\n"
      ],
      "text/plain": [
       "\u001b[1mModel: \"sequential\"\u001b[0m\n"
      ]
     },
     "metadata": {},
     "output_type": "display_data"
    },
    {
     "data": {
      "text/html": [
       "<pre style=\"white-space:pre;overflow-x:auto;line-height:normal;font-family:Menlo,'DejaVu Sans Mono',consolas,'Courier New',monospace\">┏━━━━━━━━━━━━━━━━━━━━━━━━━━━━━━━━━━━━━━┳━━━━━━━━━━━━━━━━━━━━━━━━━━━━━┳━━━━━━━━━━━━━━━━━┓\n",
       "┃<span style=\"font-weight: bold\"> Layer (type)                         </span>┃<span style=\"font-weight: bold\"> Output Shape                </span>┃<span style=\"font-weight: bold\">         Param # </span>┃\n",
       "┡━━━━━━━━━━━━━━━━━━━━━━━━━━━━━━━━━━━━━━╇━━━━━━━━━━━━━━━━━━━━━━━━━━━━━╇━━━━━━━━━━━━━━━━━┩\n",
       "│ embedding (<span style=\"color: #0087ff; text-decoration-color: #0087ff\">Embedding</span>)                │ (<span style=\"color: #00d7ff; text-decoration-color: #00d7ff\">None</span>, <span style=\"color: #00af00; text-decoration-color: #00af00\">60</span>, <span style=\"color: #00af00; text-decoration-color: #00af00\">64</span>)              │           <span style=\"color: #00af00; text-decoration-color: #00af00\">2,944</span> │\n",
       "├──────────────────────────────────────┼─────────────────────────────┼─────────────────┤\n",
       "│ simple_rnn (<span style=\"color: #0087ff; text-decoration-color: #0087ff\">SimpleRNN</span>)               │ (<span style=\"color: #00d7ff; text-decoration-color: #00d7ff\">None</span>, <span style=\"color: #00af00; text-decoration-color: #00af00\">128</span>)                 │          <span style=\"color: #00af00; text-decoration-color: #00af00\">24,704</span> │\n",
       "├──────────────────────────────────────┼─────────────────────────────┼─────────────────┤\n",
       "│ dense (<span style=\"color: #0087ff; text-decoration-color: #0087ff\">Dense</span>)                        │ (<span style=\"color: #00d7ff; text-decoration-color: #00d7ff\">None</span>, <span style=\"color: #00af00; text-decoration-color: #00af00\">46</span>)                  │           <span style=\"color: #00af00; text-decoration-color: #00af00\">5,934</span> │\n",
       "└──────────────────────────────────────┴─────────────────────────────┴─────────────────┘\n",
       "</pre>\n"
      ],
      "text/plain": [
       "┏━━━━━━━━━━━━━━━━━━━━━━━━━━━━━━━━━━━━━━┳━━━━━━━━━━━━━━━━━━━━━━━━━━━━━┳━━━━━━━━━━━━━━━━━┓\n",
       "┃\u001b[1m \u001b[0m\u001b[1mLayer (type)                        \u001b[0m\u001b[1m \u001b[0m┃\u001b[1m \u001b[0m\u001b[1mOutput Shape               \u001b[0m\u001b[1m \u001b[0m┃\u001b[1m \u001b[0m\u001b[1m        Param #\u001b[0m\u001b[1m \u001b[0m┃\n",
       "┡━━━━━━━━━━━━━━━━━━━━━━━━━━━━━━━━━━━━━━╇━━━━━━━━━━━━━━━━━━━━━━━━━━━━━╇━━━━━━━━━━━━━━━━━┩\n",
       "│ embedding (\u001b[38;5;33mEmbedding\u001b[0m)                │ (\u001b[38;5;45mNone\u001b[0m, \u001b[38;5;34m60\u001b[0m, \u001b[38;5;34m64\u001b[0m)              │           \u001b[38;5;34m2,944\u001b[0m │\n",
       "├──────────────────────────────────────┼─────────────────────────────┼─────────────────┤\n",
       "│ simple_rnn (\u001b[38;5;33mSimpleRNN\u001b[0m)               │ (\u001b[38;5;45mNone\u001b[0m, \u001b[38;5;34m128\u001b[0m)                 │          \u001b[38;5;34m24,704\u001b[0m │\n",
       "├──────────────────────────────────────┼─────────────────────────────┼─────────────────┤\n",
       "│ dense (\u001b[38;5;33mDense\u001b[0m)                        │ (\u001b[38;5;45mNone\u001b[0m, \u001b[38;5;34m46\u001b[0m)                  │           \u001b[38;5;34m5,934\u001b[0m │\n",
       "└──────────────────────────────────────┴─────────────────────────────┴─────────────────┘\n"
      ]
     },
     "metadata": {},
     "output_type": "display_data"
    },
    {
     "data": {
      "text/html": [
       "<pre style=\"white-space:pre;overflow-x:auto;line-height:normal;font-family:Menlo,'DejaVu Sans Mono',consolas,'Courier New',monospace\"><span style=\"font-weight: bold\"> Total params: </span><span style=\"color: #00af00; text-decoration-color: #00af00\">33,582</span> (131.18 KB)\n",
       "</pre>\n"
      ],
      "text/plain": [
       "\u001b[1m Total params: \u001b[0m\u001b[38;5;34m33,582\u001b[0m (131.18 KB)\n"
      ]
     },
     "metadata": {},
     "output_type": "display_data"
    },
    {
     "data": {
      "text/html": [
       "<pre style=\"white-space:pre;overflow-x:auto;line-height:normal;font-family:Menlo,'DejaVu Sans Mono',consolas,'Courier New',monospace\"><span style=\"font-weight: bold\"> Trainable params: </span><span style=\"color: #00af00; text-decoration-color: #00af00\">33,582</span> (131.18 KB)\n",
       "</pre>\n"
      ],
      "text/plain": [
       "\u001b[1m Trainable params: \u001b[0m\u001b[38;5;34m33,582\u001b[0m (131.18 KB)\n"
      ]
     },
     "metadata": {},
     "output_type": "display_data"
    },
    {
     "data": {
      "text/html": [
       "<pre style=\"white-space:pre;overflow-x:auto;line-height:normal;font-family:Menlo,'DejaVu Sans Mono',consolas,'Courier New',monospace\"><span style=\"font-weight: bold\"> Non-trainable params: </span><span style=\"color: #00af00; text-decoration-color: #00af00\">0</span> (0.00 B)\n",
       "</pre>\n"
      ],
      "text/plain": [
       "\u001b[1m Non-trainable params: \u001b[0m\u001b[38;5;34m0\u001b[0m (0.00 B)\n"
      ]
     },
     "metadata": {},
     "output_type": "display_data"
    }
   ],
   "source": [
    "EMB_DIM   = 64\n",
    "RNN_UNITS = 128\n",
    "\n",
    "def build_rnn_model():\n",
    "    model = Sequential([\n",
    "        layers.Input(shape=(SEQ_LEN,)),\n",
    "        layers.Embedding(input_dim=vocab_size, output_dim=EMB_DIM),\n",
    "        layers.SimpleRNN(RNN_UNITS),\n",
    "        layers.Dense(vocab_size, activation='softmax')\n",
    "    ])\n",
    "    model.compile(optimizer='adam',\n",
    "                  loss='sparse_categorical_crossentropy',\n",
    "                  metrics=['accuracy'])\n",
    "    return model\n",
    "\n",
    "rnn_model = build_rnn_model()\n",
    "rnn_model.summary()"
   ]
  },
  {
   "cell_type": "markdown",
   "id": "82d2a37f-6ae8-4b8e-90d6-d31dac464a33",
   "metadata": {},
   "source": [
    "#  Build the LSTM model"
   ]
  },
  {
   "cell_type": "code",
   "execution_count": 10,
   "id": "a29a27e3-c39c-41a7-abc8-698dfa0636c3",
   "metadata": {},
   "outputs": [
    {
     "data": {
      "text/html": [
       "<pre style=\"white-space:pre;overflow-x:auto;line-height:normal;font-family:Menlo,'DejaVu Sans Mono',consolas,'Courier New',monospace\"><span style=\"font-weight: bold\">Model: \"sequential_1\"</span>\n",
       "</pre>\n"
      ],
      "text/plain": [
       "\u001b[1mModel: \"sequential_1\"\u001b[0m\n"
      ]
     },
     "metadata": {},
     "output_type": "display_data"
    },
    {
     "data": {
      "text/html": [
       "<pre style=\"white-space:pre;overflow-x:auto;line-height:normal;font-family:Menlo,'DejaVu Sans Mono',consolas,'Courier New',monospace\">┏━━━━━━━━━━━━━━━━━━━━━━━━━━━━━━━━━━━━━━┳━━━━━━━━━━━━━━━━━━━━━━━━━━━━━┳━━━━━━━━━━━━━━━━━┓\n",
       "┃<span style=\"font-weight: bold\"> Layer (type)                         </span>┃<span style=\"font-weight: bold\"> Output Shape                </span>┃<span style=\"font-weight: bold\">         Param # </span>┃\n",
       "┡━━━━━━━━━━━━━━━━━━━━━━━━━━━━━━━━━━━━━━╇━━━━━━━━━━━━━━━━━━━━━━━━━━━━━╇━━━━━━━━━━━━━━━━━┩\n",
       "│ embedding_1 (<span style=\"color: #0087ff; text-decoration-color: #0087ff\">Embedding</span>)              │ (<span style=\"color: #00d7ff; text-decoration-color: #00d7ff\">None</span>, <span style=\"color: #00af00; text-decoration-color: #00af00\">60</span>, <span style=\"color: #00af00; text-decoration-color: #00af00\">64</span>)              │           <span style=\"color: #00af00; text-decoration-color: #00af00\">2,944</span> │\n",
       "├──────────────────────────────────────┼─────────────────────────────┼─────────────────┤\n",
       "│ lstm (<span style=\"color: #0087ff; text-decoration-color: #0087ff\">LSTM</span>)                          │ (<span style=\"color: #00d7ff; text-decoration-color: #00d7ff\">None</span>, <span style=\"color: #00af00; text-decoration-color: #00af00\">128</span>)                 │          <span style=\"color: #00af00; text-decoration-color: #00af00\">98,816</span> │\n",
       "├──────────────────────────────────────┼─────────────────────────────┼─────────────────┤\n",
       "│ dense_1 (<span style=\"color: #0087ff; text-decoration-color: #0087ff\">Dense</span>)                      │ (<span style=\"color: #00d7ff; text-decoration-color: #00d7ff\">None</span>, <span style=\"color: #00af00; text-decoration-color: #00af00\">46</span>)                  │           <span style=\"color: #00af00; text-decoration-color: #00af00\">5,934</span> │\n",
       "└──────────────────────────────────────┴─────────────────────────────┴─────────────────┘\n",
       "</pre>\n"
      ],
      "text/plain": [
       "┏━━━━━━━━━━━━━━━━━━━━━━━━━━━━━━━━━━━━━━┳━━━━━━━━━━━━━━━━━━━━━━━━━━━━━┳━━━━━━━━━━━━━━━━━┓\n",
       "┃\u001b[1m \u001b[0m\u001b[1mLayer (type)                        \u001b[0m\u001b[1m \u001b[0m┃\u001b[1m \u001b[0m\u001b[1mOutput Shape               \u001b[0m\u001b[1m \u001b[0m┃\u001b[1m \u001b[0m\u001b[1m        Param #\u001b[0m\u001b[1m \u001b[0m┃\n",
       "┡━━━━━━━━━━━━━━━━━━━━━━━━━━━━━━━━━━━━━━╇━━━━━━━━━━━━━━━━━━━━━━━━━━━━━╇━━━━━━━━━━━━━━━━━┩\n",
       "│ embedding_1 (\u001b[38;5;33mEmbedding\u001b[0m)              │ (\u001b[38;5;45mNone\u001b[0m, \u001b[38;5;34m60\u001b[0m, \u001b[38;5;34m64\u001b[0m)              │           \u001b[38;5;34m2,944\u001b[0m │\n",
       "├──────────────────────────────────────┼─────────────────────────────┼─────────────────┤\n",
       "│ lstm (\u001b[38;5;33mLSTM\u001b[0m)                          │ (\u001b[38;5;45mNone\u001b[0m, \u001b[38;5;34m128\u001b[0m)                 │          \u001b[38;5;34m98,816\u001b[0m │\n",
       "├──────────────────────────────────────┼─────────────────────────────┼─────────────────┤\n",
       "│ dense_1 (\u001b[38;5;33mDense\u001b[0m)                      │ (\u001b[38;5;45mNone\u001b[0m, \u001b[38;5;34m46\u001b[0m)                  │           \u001b[38;5;34m5,934\u001b[0m │\n",
       "└──────────────────────────────────────┴─────────────────────────────┴─────────────────┘\n"
      ]
     },
     "metadata": {},
     "output_type": "display_data"
    },
    {
     "data": {
      "text/html": [
       "<pre style=\"white-space:pre;overflow-x:auto;line-height:normal;font-family:Menlo,'DejaVu Sans Mono',consolas,'Courier New',monospace\"><span style=\"font-weight: bold\"> Total params: </span><span style=\"color: #00af00; text-decoration-color: #00af00\">107,694</span> (420.68 KB)\n",
       "</pre>\n"
      ],
      "text/plain": [
       "\u001b[1m Total params: \u001b[0m\u001b[38;5;34m107,694\u001b[0m (420.68 KB)\n"
      ]
     },
     "metadata": {},
     "output_type": "display_data"
    },
    {
     "data": {
      "text/html": [
       "<pre style=\"white-space:pre;overflow-x:auto;line-height:normal;font-family:Menlo,'DejaVu Sans Mono',consolas,'Courier New',monospace\"><span style=\"font-weight: bold\"> Trainable params: </span><span style=\"color: #00af00; text-decoration-color: #00af00\">107,694</span> (420.68 KB)\n",
       "</pre>\n"
      ],
      "text/plain": [
       "\u001b[1m Trainable params: \u001b[0m\u001b[38;5;34m107,694\u001b[0m (420.68 KB)\n"
      ]
     },
     "metadata": {},
     "output_type": "display_data"
    },
    {
     "data": {
      "text/html": [
       "<pre style=\"white-space:pre;overflow-x:auto;line-height:normal;font-family:Menlo,'DejaVu Sans Mono',consolas,'Courier New',monospace\"><span style=\"font-weight: bold\"> Non-trainable params: </span><span style=\"color: #00af00; text-decoration-color: #00af00\">0</span> (0.00 B)\n",
       "</pre>\n"
      ],
      "text/plain": [
       "\u001b[1m Non-trainable params: \u001b[0m\u001b[38;5;34m0\u001b[0m (0.00 B)\n"
      ]
     },
     "metadata": {},
     "output_type": "display_data"
    }
   ],
   "source": [
    "def build_lstm_model():\n",
    "    model = Sequential([\n",
    "        layers.Input(shape=(SEQ_LEN,)),\n",
    "        layers.Embedding(input_dim=vocab_size, output_dim=EMB_DIM),\n",
    "        layers.LSTM(RNN_UNITS),\n",
    "        layers.Dense(vocab_size, activation='softmax')\n",
    "    ])\n",
    "    model.compile(optimizer='adam',\n",
    "                  loss='sparse_categorical_crossentropy',\n",
    "                  metrics=['accuracy'])\n",
    "    return model\n",
    "\n",
    "lstm_model = build_lstm_model()\n",
    "lstm_model.summary()"
   ]
  },
  {
   "cell_type": "markdown",
   "id": "3cabb249-0efa-4531-9a83-e39cf41b9369",
   "metadata": {},
   "source": [
    "# Train both models with identical settings"
   ]
  },
  {
   "cell_type": "code",
   "execution_count": 11,
   "id": "cf0407b2-2560-4ad7-a7b9-b5bc1a524c3b",
   "metadata": {},
   "outputs": [
    {
     "name": "stdout",
     "output_type": "stream",
     "text": [
      "Epoch 1/8\n",
      "\u001b[1m1237/1237\u001b[0m \u001b[32m━━━━━━━━━━━━━━━━━━━━\u001b[0m\u001b[37m\u001b[0m \u001b[1m44s\u001b[0m 34ms/step - accuracy: 0.3569 - loss: 2.2359 - val_accuracy: 0.4156 - val_loss: 2.0059\n",
      "Epoch 2/8\n",
      "\u001b[1m1237/1237\u001b[0m \u001b[32m━━━━━━━━━━━━━━━━━━━━\u001b[0m\u001b[37m\u001b[0m \u001b[1m40s\u001b[0m 32ms/step - accuracy: 0.4422 - loss: 1.8884 - val_accuracy: 0.4520 - val_loss: 1.8567\n",
      "Epoch 3/8\n",
      "\u001b[1m1237/1237\u001b[0m \u001b[32m━━━━━━━━━━━━━━━━━━━━\u001b[0m\u001b[37m\u001b[0m \u001b[1m43s\u001b[0m 34ms/step - accuracy: 0.4774 - loss: 1.7556 - val_accuracy: 0.4737 - val_loss: 1.7821\n",
      "Epoch 4/8\n",
      "\u001b[1m1237/1237\u001b[0m \u001b[32m━━━━━━━━━━━━━━━━━━━━\u001b[0m\u001b[37m\u001b[0m \u001b[1m43s\u001b[0m 35ms/step - accuracy: 0.4993 - loss: 1.6730 - val_accuracy: 0.4842 - val_loss: 1.7402\n",
      "Epoch 5/8\n",
      "\u001b[1m1237/1237\u001b[0m \u001b[32m━━━━━━━━━━━━━━━━━━━━\u001b[0m\u001b[37m\u001b[0m \u001b[1m44s\u001b[0m 36ms/step - accuracy: 0.5147 - loss: 1.6161 - val_accuracy: 0.4925 - val_loss: 1.7127\n",
      "Epoch 6/8\n",
      "\u001b[1m1237/1237\u001b[0m \u001b[32m━━━━━━━━━━━━━━━━━━━━\u001b[0m\u001b[37m\u001b[0m \u001b[1m45s\u001b[0m 36ms/step - accuracy: 0.5258 - loss: 1.5738 - val_accuracy: 0.4981 - val_loss: 1.6933\n",
      "Epoch 7/8\n",
      "\u001b[1m1237/1237\u001b[0m \u001b[32m━━━━━━━━━━━━━━━━━━━━\u001b[0m\u001b[37m\u001b[0m \u001b[1m80s\u001b[0m 34ms/step - accuracy: 0.5340 - loss: 1.5405 - val_accuracy: 0.5031 - val_loss: 1.6788\n",
      "Epoch 8/8\n",
      "\u001b[1m1237/1237\u001b[0m \u001b[32m━━━━━━━━━━━━━━━━━━━━\u001b[0m\u001b[37m\u001b[0m \u001b[1m43s\u001b[0m 35ms/step - accuracy: 0.5419 - loss: 1.5134 - val_accuracy: 0.5065 - val_loss: 1.6685\n",
      "Epoch 1/8\n",
      "\u001b[1m1237/1237\u001b[0m \u001b[32m━━━━━━━━━━━━━━━━━━━━\u001b[0m\u001b[37m\u001b[0m \u001b[1m140s\u001b[0m 111ms/step - accuracy: 0.3345 - loss: 2.3008 - val_accuracy: 0.3962 - val_loss: 2.0552\n",
      "Epoch 2/8\n",
      "\u001b[1m1237/1237\u001b[0m \u001b[32m━━━━━━━━━━━━━━━━━━━━\u001b[0m\u001b[37m\u001b[0m \u001b[1m143s\u001b[0m 116ms/step - accuracy: 0.4259 - loss: 1.9411 - val_accuracy: 0.4385 - val_loss: 1.9007\n",
      "Epoch 3/8\n",
      "\u001b[1m1237/1237\u001b[0m \u001b[32m━━━━━━━━━━━━━━━━━━━━\u001b[0m\u001b[37m\u001b[0m \u001b[1m136s\u001b[0m 110ms/step - accuracy: 0.4628 - loss: 1.8065 - val_accuracy: 0.4574 - val_loss: 1.8165\n",
      "Epoch 4/8\n",
      "\u001b[1m1237/1237\u001b[0m \u001b[32m━━━━━━━━━━━━━━━━━━━━\u001b[0m\u001b[37m\u001b[0m \u001b[1m135s\u001b[0m 109ms/step - accuracy: 0.4870 - loss: 1.7185 - val_accuracy: 0.4732 - val_loss: 1.7593\n",
      "Epoch 5/8\n",
      "\u001b[1m1237/1237\u001b[0m \u001b[32m━━━━━━━━━━━━━━━━━━━━\u001b[0m\u001b[37m\u001b[0m \u001b[1m137s\u001b[0m 111ms/step - accuracy: 0.5056 - loss: 1.6511 - val_accuracy: 0.4857 - val_loss: 1.7215\n",
      "Epoch 6/8\n",
      "\u001b[1m1237/1237\u001b[0m \u001b[32m━━━━━━━━━━━━━━━━━━━━\u001b[0m\u001b[37m\u001b[0m \u001b[1m160s\u001b[0m 130ms/step - accuracy: 0.5202 - loss: 1.5971 - val_accuracy: 0.4958 - val_loss: 1.6903\n",
      "Epoch 7/8\n",
      "\u001b[1m1237/1237\u001b[0m \u001b[32m━━━━━━━━━━━━━━━━━━━━\u001b[0m\u001b[37m\u001b[0m \u001b[1m138s\u001b[0m 112ms/step - accuracy: 0.5323 - loss: 1.5525 - val_accuracy: 0.5048 - val_loss: 1.6665\n",
      "Epoch 8/8\n",
      "\u001b[1m1237/1237\u001b[0m \u001b[32m━━━━━━━━━━━━━━━━━━━━\u001b[0m\u001b[37m\u001b[0m \u001b[1m139s\u001b[0m 112ms/step - accuracy: 0.5420 - loss: 1.5150 - val_accuracy: 0.5102 - val_loss: 1.6483\n"
     ]
    }
   ],
   "source": [
    "EPOCHS = 8\n",
    "BATCH_SIZE = 128\n",
    "\n",
    "history_rnn = rnn_model.fit(\n",
    "    X_train, y_train,\n",
    "    validation_data=(X_val, y_val),\n",
    "    epochs=EPOCHS,\n",
    "    batch_size=BATCH_SIZE,\n",
    "    verbose=1\n",
    ")\n",
    "\n",
    "history_lstm = lstm_model.fit(\n",
    "    X_train, y_train,\n",
    "    validation_data=(X_val, y_val),\n",
    "    epochs=EPOCHS,\n",
    "    batch_size=BATCH_SIZE,\n",
    "    verbose=1\n",
    ")"
   ]
  },
  {
   "cell_type": "markdown",
   "id": "44022ac2-bb41-4a87-9378-eb21e196d01a",
   "metadata": {},
   "source": [
    "# Evaluate and visualize validation accuracy over epoch\n"
   ]
  },
  {
   "cell_type": "code",
   "execution_count": 12,
   "id": "4f991298-14c4-4aee-9dbc-09241193c401",
   "metadata": {},
   "outputs": [
    {
     "data": {
      "image/png": "[encoded data removed]",
      "text/plain": [
       "<Figure size 700x500 with 1 Axes>"
      ]
     },
     "metadata": {},
     "output_type": "display_data"
    },
    {
     "name": "stdout",
     "output_type": "stream",
     "text": [
      "Final RNN  val_acc:  0.5065\n",
      "Final LSTM val_acc: 0.5102\n"
     ]
    }
   ],
   "source": [
    "plt.figure(figsize=(7,5))\n",
    "plt.plot(history_rnn.history['val_accuracy'],  label='RNN val_accuracy')\n",
    "plt.plot(history_lstm.history['val_accuracy'], label='LSTM val_accuracy')\n",
    "plt.xlabel('Epoch'); plt.ylabel('Validation Accuracy')\n",
    "plt.title('Next-Character Prediction: RNN vs LSTM')\n",
    "plt.legend(); plt.show()\n",
    "\n",
    "print(f\"Final RNN  val_acc:  {history_rnn.history['val_accuracy'][-1]:.4f}\")\n",
    "print(f\"Final LSTM val_acc: {history_lstm.history['val_accuracy'][-1]:.4f}\")"
   ]
  },
  {
   "cell_type": "markdown",
   "id": "4bfa9242-2889-4a7c-a2d8-52835ee9b044",
   "metadata": {},
   "source": [
    "# Summary: "
   ]
  },
  {
   "cell_type": "markdown",
   "id": "dd9c6902-4e9f-4ca1-8925-8285f2cdf558",
   "metadata": {},
   "source": [
    "- In this task, we trained two models  a Simple RNN and an LSTM on a character-level prediction task using a corpus of children’s stories. The goal was to predict the next character in a sequence, allowing us to observe how recurrent networks handle sequential data.\n",
    "\n",
    "#### Inresult for that:\n",
    "\n",
    "- RNNs capture short sequential patterns but have limitations with long-term dependencies.\n",
    "\n",
    "- LSTMs with their gating mechanisms can retain information across longer time spans, making them more suitable for text and sequential data tasks."
   ]
  },
  {
   "cell_type": "code",
   "execution_count": null,
   "id": "71097f57-9e93-4e23-87b1-64671482c9f5",
   "metadata": {},
   "outputs": [],
   "source": []
  }
 ],
 "metadata": {
  "kernelspec": {
   "display_name": "Python (mlenv)",
   "language": "python",
   "name": "mlenv"
  },
  "language_info": {
   "codemirror_mode": {
    "name": "ipython",
    "version": 3
   },
   "file_extension": ".py",
   "mimetype": "text/x-python",
   "name": "python",
   "nbconvert_exporter": "python",
   "pygments_lexer": "ipython3",
   "version": "3.13.3"
  }
 },
 "nbformat": 4,
 "nbformat_minor": 5
}
