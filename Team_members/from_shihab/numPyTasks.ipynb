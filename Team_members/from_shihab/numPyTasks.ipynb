{
 "cells": [
  {
   "cell_type": "code",
   "execution_count": 3,
   "id": "a2b6c1e6-c838-4f0e-af31-e77bbbd192a4",
   "metadata": {},
   "outputs": [],
   "source": [
    "import numpy as np"
   ]
  },
  {
   "cell_type": "markdown",
   "id": "7d288343-5413-44c9-8956-b4f769ad87de",
   "metadata": {},
   "source": [
    "## part 1\n",
    "#### 1-Create a 1D array named `arr1d` with integers from 0 to 9\n"
   ]
  },
  {
   "cell_type": "code",
   "execution_count": 4,
   "id": "a3ec5ee4-e21f-434b-9f2a-b5d7f74e771d",
   "metadata": {},
   "outputs": [
    {
     "data": {
      "text/plain": [
       "array([0, 1, 2, 3, 4, 5, 6, 7, 8, 9])"
      ]
     },
     "execution_count": 4,
     "metadata": {},
     "output_type": "execute_result"
    }
   ],
   "source": [
    "arr1d = np.arange(10)\n",
    "arr1d"
   ]
  },
  {
   "cell_type": "markdown",
   "id": "1822eb4b-f80a-482d-8843-5c8841d5fb40",
   "metadata": {},
   "source": [
    "#### 2-reate a 2D array `arr2d` of shape (3, 3) filled with ones\n"
   ]
  },
  {
   "cell_type": "code",
   "execution_count": 5,
   "id": "419a8530-5a37-422a-93bf-fb6d38d8b6f7",
   "metadata": {},
   "outputs": [
    {
     "data": {
      "text/plain": [
       "array([[1., 1., 1.],\n",
       "       [1., 1., 1.],\n",
       "       [1., 1., 1.]])"
      ]
     },
     "execution_count": 5,
     "metadata": {},
     "output_type": "execute_result"
    }
   ],
   "source": [
    "arr2d = np.ones((3, 3))\n",
    "arr2d"
   ]
  },
  {
   "cell_type": "markdown",
   "id": "6fc583bd-ca41-4468-83b3-d34a9ddd915f",
   "metadata": {},
   "source": [
    "#### 3-Create a 3x3 array named `random_matrix` with random floating-point numbers from a standard normal distribution."
   ]
  },
  {
   "cell_type": "code",
   "execution_count": 61,
   "id": "a926896a-ec57-4968-bee4-b7ff30c76ac6",
   "metadata": {},
   "outputs": [
    {
     "data": {
      "text/plain": [
       "array([[-0.04224131, -1.93263935, -0.92071576],\n",
       "       [-1.49206887, -0.14189198, -0.38894167],\n",
       "       [ 0.47334174,  0.17576281,  1.13003247]])"
      ]
     },
     "execution_count": 61,
     "metadata": {},
     "output_type": "execute_result"
    }
   ],
   "source": [
    "random_matrix = np.random.randn(3, 3)\n",
    "random_matrix"
   ]
  },
  {
   "cell_type": "markdown",
   "id": "ad4702f9-d288-4a1e-918e-d4aa6e7262f1",
   "metadata": {},
   "source": [
    "#### 4-Create an array named `even_numbers` containing even numbers from 10 to 50 (inclusive).\n"
   ]
  },
  {
   "cell_type": "code",
   "execution_count": 8,
   "id": "57fe91f5-e42d-4365-be3d-2835a71e1d94",
   "metadata": {},
   "outputs": [
    {
     "data": {
      "text/plain": [
       "array([10, 12, 14, 16, 18, 20, 22, 24, 26, 28, 30, 32, 34, 36, 38, 40, 42,\n",
       "       44, 46, 48, 50])"
      ]
     },
     "execution_count": 8,
     "metadata": {},
     "output_type": "execute_result"
    }
   ],
   "source": [
    "even_numbers= np.arange(10, 51, 2)\n",
    "even_numbers "
   ]
  },
  {
   "cell_type": "markdown",
   "id": "99580bb0-586c-42cb-80a8-4a1d5490cb44",
   "metadata": {},
   "source": [
    "#### 5-Create an array named `linspace_array` containing 7 equally spaced numbers between 0 and 1 (inclusive)."
   ]
  },
  {
   "cell_type": "code",
   "execution_count": 9,
   "id": "6e896bf4-fb4a-45bc-a568-f11c706c9324",
   "metadata": {},
   "outputs": [
    {
     "data": {
      "text/plain": [
       "array([0.        , 0.16666667, 0.33333333, 0.5       , 0.66666667,\n",
       "       0.83333333, 1.        ])"
      ]
     },
     "execution_count": 9,
     "metadata": {},
     "output_type": "execute_result"
    }
   ],
   "source": [
    "linspace_array =np.linspace(0, 1, 7)\n",
    "linspace_array"
   ]
  },
  {
   "cell_type": "markdown",
   "id": "6e6fb181-afca-4668-b122-6d5f7d577ffa",
   "metadata": {},
   "source": [
    "####  6-arr = np.array([[1, 2, 3], [4, 5, 6]]), what is its shape, ndim, and dtype? Print them."
   ]
  },
  {
   "cell_type": "code",
   "execution_count": 14,
   "id": "c7302433-89ce-4dc8-b0da-b147a8a72f2e",
   "metadata": {},
   "outputs": [
    {
     "name": "stdout",
     "output_type": "stream",
     "text": [
      "(2, 3)\n",
      "2\n",
      "int64\n"
     ]
    }
   ],
   "source": [
    "arr = np.array([[1, 2, 3], [4, 5, 6]])\n",
    "print(arr.shape)\n",
    "print(arr.ndim)\n",
    "print(arr.dtype)"
   ]
  },
  {
   "cell_type": "markdown",
   "id": "60b4ece8-86d5-4fdb-b514-22306f3f6144",
   "metadata": {},
   "source": [
    "## patr 2\n",
    "#### 1-Reshape arr1d (from Q1) into a 2x5 2D array. Name the new array reshaped_arr."
   ]
  },
  {
   "cell_type": "code",
   "execution_count": 30,
   "id": "e8eb8b98-90f0-4d06-9189-87698e78cd3c",
   "metadata": {},
   "outputs": [
    {
     "data": {
      "text/plain": [
       "array([[0, 1],\n",
       "       [2, 3],\n",
       "       [4, 5],\n",
       "       [6, 7],\n",
       "       [8, 9]])"
      ]
     },
     "execution_count": 30,
     "metadata": {},
     "output_type": "execute_result"
    }
   ],
   "source": [
    "reshape_array= arr1d.reshape(5,2)\n",
    "reshape_array"
   ]
  },
  {
   "cell_type": "markdown",
   "id": "ce8b85be-7648-4720-be87-baf210ae04ed",
   "metadata": {},
   "source": [
    "#### 2-Transpose reshaped_arr (from Q7). Name the result transposed_arr."
   ]
  },
  {
   "cell_type": "code",
   "execution_count": 31,
   "id": "a3ef510e-fd17-4168-8eb5-62067c2cf185",
   "metadata": {},
   "outputs": [
    {
     "data": {
      "text/plain": [
       "array([[0, 2, 4, 6, 8],\n",
       "       [1, 3, 5, 7, 9]])"
      ]
     },
     "execution_count": 31,
     "metadata": {},
     "output_type": "execute_result"
    }
   ],
   "source": [
    "transposed_arr= reshape_array.T\n",
    "transposed_arr"
   ]
  },
  {
   "cell_type": "markdown",
   "id": "04f51283-b01f-4bf5-8e60-a9338a4c56cf",
   "metadata": {},
   "source": [
    "#### 3-Stack two 1D arrays a = np.array([1, 2, 3]) and b = np.array([4, 5, 6]) vertically.\n"
   ]
  },
  {
   "cell_type": "code",
   "execution_count": 34,
   "id": "42181054-a174-48a3-8f9a-fdaf4ddb5450",
   "metadata": {},
   "outputs": [
    {
     "name": "stdout",
     "output_type": "stream",
     "text": [
      "vertical of a:\n",
      " [[1]\n",
      " [2]\n",
      " [3]]\n",
      "\n",
      "vertical of b:\n",
      " [[4]\n",
      " [5]\n",
      " [6]]\n"
     ]
    }
   ],
   "source": [
    "a = np.array([1, 2, 3])\n",
    "b = np.array([4, 5, 6])\n",
    "vertical_a = np.vstack(a)\n",
    "vertical_b = np.vstack(b)\n",
    "print(\"vertical of a:\\n\", vertical_a)\n",
    "print(\"\\nvertical of b:\\n\", vertical_b)"
   ]
  },
  {
   "cell_type": "markdown",
   "id": "cab22ce4-dcd1-480b-ac34-1d75aa81c99c",
   "metadata": {},
   "source": [
    "#### 4- Stack two 2D arrays m1 = np.array([[1, 2], [3, 4]]) and m2 = np.array([[5, 6], [7, 8]]) horizontally.\n"
   ]
  },
  {
   "cell_type": "code",
   "execution_count": 35,
   "id": "88762c4f-c39f-47c8-92cb-45537ab06abc",
   "metadata": {},
   "outputs": [
    {
     "name": "stdout",
     "output_type": "stream",
     "text": [
      "horizontally of m1:\n",
      " [1 2 3 4]\n",
      "\n",
      "horizontally of m2:\n",
      " [5 6 7 8]\n"
     ]
    }
   ],
   "source": [
    "m1 = np.array([[1, 2], [3, 4]]) \n",
    "m2 = np.array([[5, 6], [7, 8]])\n",
    "\n",
    "horizontally_m1 =np.hstack(m1)\n",
    "horizontally_m2 =np.hstack(m2)\n",
    "print(\"horizontally of m1:\\n\", horizontally_m1)\n",
    "print(\"\\nhorizontally of m2:\\n\", horizontally_m2)"
   ]
  },
  {
   "cell_type": "markdown",
   "id": "981553fa-249b-4755-b5c8-2c072cf993ba",
   "metadata": {},
   "source": [
    "#### 5-Split the array arr_to_split = np.arange(16).reshape(4, 4) horizontally into 2 equal parts. Print both parts."
   ]
  },
  {
   "cell_type": "code",
   "execution_count": 59,
   "id": "ea0eb373-faf8-4b77-a9a8-fb8888f5a6a8",
   "metadata": {},
   "outputs": [
    {
     "name": "stdout",
     "output_type": "stream",
     "text": [
      "[[ 0  1  2  3]\n",
      " [ 4  5  6  7]\n",
      " [ 8  9 10 11]\n",
      " [12 13 14 15]]\n",
      "\n",
      "THE ARRAY AFTER SPLIT IS (FIRIST 1) \n",
      ": [array([[0, 1, 2, 3],\n",
      "       [4, 5, 6, 7]]), array([[ 8,  9, 10, 11],\n",
      "       [12, 13, 14, 15]])]\n"
     ]
    }
   ],
   "source": [
    "array = np.arange(16).reshape(4, 4)\n",
    "array_split = np.split(array, 2, axis=0)\n",
    "print(array)\n",
    "print(\"\\nTHE ARRAY AFTER SPLIT IS (FIRIST 1) \\n:\",array_split)"
   ]
  },
  {
   "cell_type": "markdown",
   "id": "81ad5182-2eba-4533-ba14-6cd91646e137",
   "metadata": {},
   "source": [
    "#### 6-Split the array arr_to_split (from Q11) vertically at index 2 (i.e., into two parts: first two rows, and last two rows). Print both parts.\n",
    " "
   ]
  },
  {
   "cell_type": "code",
   "execution_count": 55,
   "id": "efdcb43f-d67f-42b6-92f4-243f0ac4d140",
   "metadata": {},
   "outputs": [
    {
     "name": "stdout",
     "output_type": "stream",
     "text": [
      "\n",
      "THE ARRAY AFTER SPLIT IS (FIRIST 1) \n",
      ": [[0 1 2 3]\n",
      " [4 5 6 7]]\n",
      "\n",
      "THE ARRAY AFTER SPLIT IS (SECOND 2)\n",
      ": [[ 8  9 10 11]\n",
      " [12 13 14 15]]\n"
     ]
    }
   ],
   "source": [
    "print(\"\\nTHE ARRAY AFTER SPLIT IS (FIRIST 1) \\n:\",array_split[0] ) \n",
    "print(\"\\nTHE ARRAY AFTER SPLIT IS (SECOND 2)\\n:\",array_split[1] )"
   ]
  },
  {
   "cell_type": "markdown",
   "id": "9c23ee55-f1ee-403e-96f0-bfc18aeea22c",
   "metadata": {},
   "source": [
    "# Part 3:\n",
    "#### Given data = np.array([[10, 11, 12], [13, 14, 15], [16, 17, 18]]), extract the element at row 1, column 2."
   ]
  },
  {
   "cell_type": "code",
   "execution_count": 63,
   "id": "b5fd9e48-632f-422e-84b2-caf6a7a31b11",
   "metadata": {},
   "outputs": [
    {
     "data": {
      "text/plain": [
       "np.int64(15)"
      ]
     },
     "execution_count": 63,
     "metadata": {},
     "output_type": "execute_result"
    }
   ],
   "source": [
    "data = np.array([[10, 11, 12], [13, 14, 15], [16, 17, 18]])\n",
    "element = data[1, 2]\n",
    "element"
   ]
  },
  {
   "cell_type": "markdown",
   "id": "406b2ba3-5ca7-465e-afc2-0d8c5c35d09f",
   "metadata": {},
   "source": [
    "#### From the data array (from Q13), extract the first two rows and all columns.\n"
   ]
  },
  {
   "cell_type": "code",
   "execution_count": 66,
   "id": "d168bc66-4f52-4842-95c8-fd1ea66b7fa3",
   "metadata": {},
   "outputs": [
    {
     "data": {
      "text/plain": [
       "array([[10, 11, 12],\n",
       "       [13, 14, 15]])"
      ]
     },
     "execution_count": 66,
     "metadata": {},
     "output_type": "execute_result"
    }
   ],
   "source": [
    "find =data[:2,:]\n",
    "find"
   ]
  },
  {
   "cell_type": "markdown",
   "id": "8500d224-bbec-4436-ab31-173025d58e5f",
   "metadata": {},
   "source": [
    "#### 3-From the data array (from Q13), extract the elements 11, 15, and 17 using fancy indexing (hint: you'll need to specify rows and columns)."
   ]
  },
  {
   "cell_type": "code",
   "execution_count": 67,
   "id": "2880d60e-dfc7-4a80-b08f-e5d0ff93b77b",
   "metadata": {},
   "outputs": [
    {
     "data": {
      "text/plain": [
       "array([11, 14, 17])"
      ]
     },
     "execution_count": 67,
     "metadata": {},
     "output_type": "execute_result"
    }
   ],
   "source": [
    "elements = data[:3,1]\n",
    "elements"
   ]
  },
  {
   "cell_type": "markdown",
   "id": "7a7db675-df1d-4496-a763-9c025fd6fb53",
   "metadata": {},
   "source": [
    "#### 4- Given scores = np.array([85, 92, 78, 65, 95, 88]), use boolean indexing to find all scores greater than 80."
   ]
  },
  {
   "cell_type": "code",
   "execution_count": 80,
   "id": "cadb6137-9ffe-40cd-befd-8395e5f1268f",
   "metadata": {},
   "outputs": [
    {
     "name": "stdout",
     "output_type": "stream",
     "text": [
      "THE NUMBERS GREATER THAN 80 ARE:\n",
      " [ True  True False False  True  True] \n",
      "----------------------------------------\n",
      "[85 92 95 88]\n"
     ]
    }
   ],
   "source": [
    "scores = np.array([85, 92, 78, 65, 95, 88])\n",
    "find_num = scores>80\n",
    "print(\"THE NUMBERS GREATER THAN 80 ARE:\\n\", find_num, \"\\n----------------------------------------\")\n",
    "greater_than_80 = scores[find_num]\n",
    "print(\"Your numbers that are greater than 80 are:\\n\", greater_than_80)"
   ]
  },
  {
   "cell_type": "markdown",
   "id": "00decd68-8d61-4273-9758-72247cbd8c1e",
   "metadata": {},
   "source": [
    "# Part 4:\n",
    "#### 1- Given arr_op1 = np.array([10, 20, 30]) and arr_op2 = np.array([2, 4, 6]), perform element-wise multiplication and division (arr_op1 / arr_op2)."
   ]
  },
  {
   "cell_type": "code",
   "execution_count": 82,
   "id": "1debe8b4-9b78-4091-80d7-67cbf722667c",
   "metadata": {},
   "outputs": [
    {
     "name": "stdout",
     "output_type": "stream",
     "text": [
      "Multiplication result: [ 20  80 180]\n",
      "Division result: [5. 5. 5.]\n"
     ]
    }
   ],
   "source": [
    "arr_op1 = np.array([10, 20, 30]) \n",
    "arr_op2 = np.array([2, 4, 6])\n",
    "\n",
    "multiplication= arr_op1 * arr_op2\n",
    "division = arr_op1 / arr_op2\n",
    "print(\"Multiplication result:\", multiplication)\n",
    "print(\"Division result:\", division)"
   ]
  },
  {
   "cell_type": "markdown",
   "id": "cc2e1bef-c726-4858-a7c0-3623430fef9f",
   "metadata": {},
   "source": [
    "#### 2- Given matrix = np.array([[1, 2, 3], [4, 5, 6], [7, 8, 9]]), calculate the sum of all elements in the matrix."
   ]
  },
  {
   "cell_type": "code",
   "execution_count": 85,
   "id": "337e4b1c-a86c-420e-b6f1-8b78ab600a29",
   "metadata": {},
   "outputs": [
    {
     "name": "stdout",
     "output_type": "stream",
     "text": [
      "The resulte of sum is:\n",
      "  45\n"
     ]
    }
   ],
   "source": [
    "matrix = np.array([[1, 2, 3], [4, 5, 6], [7, 8, 9]])\n",
    "\n",
    "calculate_sum = np.sum(matrix) \n",
    "print(\"The resulte of sum is:\\n \", calculate_sum)"
   ]
  },
  {
   "cell_type": "markdown",
   "id": "fbd609e2-eff2-4c5b-9198-b2522c50c47c",
   "metadata": {},
   "source": [
    "#### 3-From the matrix (from Q18), calculate the mean of each column."
   ]
  },
  {
   "cell_type": "code",
   "execution_count": 88,
   "id": "b3816904-2ef6-42f0-92f7-3bd121ca43ae",
   "metadata": {},
   "outputs": [
    {
     "name": "stdout",
     "output_type": "stream",
     "text": [
      "The Mean of each column Is:\n",
      " [4. 5. 6.]\n"
     ]
    }
   ],
   "source": [
    "calculate_mean= np.mean(matrix, axis=0)\n",
    "print(\"The Mean of Each Column Is:\\n\", calculate_mean)"
   ]
  },
  {
   "cell_type": "markdown",
   "id": "b41e4fae-ed67-4ad9-b24c-3f0d81904657",
   "metadata": {},
   "source": [
    "#### 4-Given price_array = np.array([100, 150, 200, 250]) and discount_percentage = 0.10, apply a 10% discount to all prices using broadcasting."
   ]
  },
  {
   "cell_type": "code",
   "execution_count": 92,
   "id": "a5064633-e6a3-486b-a044-d96109a73831",
   "metadata": {},
   "outputs": [
    {
     "name": "stdout",
     "output_type": "stream",
     "text": [
      "The Price Will Be After Discount:\n",
      " [ 90. 135. 180. 225.]\n"
     ]
    }
   ],
   "source": [
    "price_array = np.array([100, 150, 200, 250])\n",
    "\n",
    "discount_percentage = 0.10\n",
    "resulte = price_array * discount_percentage\n",
    "\n",
    "price_after_discount = price_array - resulte\n",
    "print(\"The Price Will Be After Discount:\\n\",price_after_discount)"
   ]
  }
 ],
 "metadata": {
  "kernelspec": {
   "display_name": "Python 3 (ipykernel)",
   "language": "python",
   "name": "python3"
  },
  "language_info": {
   "codemirror_mode": {
    "name": "ipython",
    "version": 3
   },
   "file_extension": ".py",
   "mimetype": "text/x-python",
   "name": "python",
   "nbconvert_exporter": "python",
   "pygments_lexer": "ipython3",
   "version": "3.13.3"
  }
 },
 "nbformat": 4,
 "nbformat_minor": 5
}
