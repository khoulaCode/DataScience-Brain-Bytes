{
 "cells": [
  {
   "cell_type": "markdown",
   "id": "1a9412f8-a67d-4f7c-87a5-640fd056eee9",
   "metadata": {},
   "source": [
    "# Smart Building Task\n",
    "##### Scenario: You are a data scientist monitoring environmental conditions in a smart building. You have collected sensor data (temperature, humidity, pressure) over 24 hours, with readings taken every minute. Your goal is to process this raw data to find key statistics and identify anomalies."
   ]
  },
  {
   "cell_type": "code",
   "execution_count": 20,
   "id": "6f56bd7f-f561-422e-aa48-a154482db4ff",
   "metadata": {},
   "outputs": [],
   "source": [
    "import numpy as np"
   ]
  },
  {
   "cell_type": "markdown",
   "id": "ff3f83a6-50a5-49a5-b542-d8b703bdec27",
   "metadata": {},
   "source": [
    "# Part1: Data Generation: \n",
    "#### Create:\n",
    "##### Array for time_in_minutes-> 0 to 1439.\n",
    "##### Random temperature data->22°C.\n",
    "##### Random humidity data->55% -stay realistic  0-100%.\n",
    "##### Pressure data->1012.\n",
    "##### Finally, mereging all array. "
   ]
  },
  {
   "cell_type": "code",
   "execution_count": 58,
   "id": "25d64ae2-0b62-45e5-bd35-cbac32feb2be",
   "metadata": {},
   "outputs": [
    {
     "name": "stdout",
     "output_type": "stream",
     "text": [
      "temperature [19.25631112 21.40040653 22.38672703 ... 20.76244856 22.56704846\n",
      " 22.70076751]\n",
      "[[0.00000000e+00 1.92563111e+01 5.70520970e+01 1.01300569e+03]\n",
      " [1.00000000e+00 2.14004065e+01 5.12623759e+01 1.01006767e+03]\n",
      " [2.00000000e+00 2.23867270e+01 5.53755863e+01 1.01247075e+03]\n",
      " [3.00000000e+00 2.17986338e+01 4.72153748e+01 1.01464117e+03]\n",
      " [4.00000000e+00 2.15609763e+01 5.91003512e+01 1.01539721e+03]]\n"
     ]
    }
   ],
   "source": [
    "time_in_minutes = np.arange(1440)\n",
    "\n",
    "temperature = np.random.normal(loc=22, scale=1.5, size=1440)\n",
    "print(\"temperature\", temperature)\n",
    "\n",
    "humidity = np.random.normal(loc=55, scale=5, size=1440)\n",
    "humidity = np.clip(humidity, 0, 100)\n",
    "\n",
    "pressure = np.random.normal(loc=1012, scale=2, size=1440)\n",
    "\n",
    "\n",
    "sensor_data = np.column_stack((time_in_minutes, temperature, humidity, pressure))\n",
    "\n",
    "print(sensor_data[:5])"
   ]
  },
  {
   "cell_type": "markdown",
   "id": "cb33df10-690b-4f13-a8d2-711d404b588e",
   "metadata": {},
   "source": [
    "# Paret 2: Basic Statistics\n",
    "#### Count minimum, maximum and standerd deviation For each:\n",
    "##### 1-temperature. \n",
    "##### 2-humidity.\n",
    "##### 3-pressure"
   ]
  },
  {
   "cell_type": "code",
   "execution_count": 38,
   "id": "292b68c0-bd24-4018-be19-3f8930fa3f31",
   "metadata": {},
   "outputs": [
    {
     "name": "stdout",
     "output_type": "stream",
     "text": [
      "Temperature Stats:\n",
      "  Mean: 22.02\n",
      "  Min: 19.03\n",
      "  Max: 25.30\n",
      "  Std: 0.98\n",
      "\n",
      "Humidity Stats:\n",
      "  Mean: 55.02\n",
      "  Min: 36.88\n",
      "  Max: 69.84\n",
      "  Std: 4.96\n",
      "\n",
      "Pressure Stats:\n",
      "  Mean: 1011.96\n",
      "  Min: 1005.23\n",
      "  Max: 1018.97\n",
      "  Std: 1.96\n"
     ]
    }
   ],
   "source": [
    "\n",
    "\n",
    "temperature_average = np.mean(temperature)\n",
    "temperature_min = np.min(temperature)\n",
    "temperature_max = np.max(temperature)\n",
    "temperature_std = np.std(temperature)\n",
    "\n",
    "\n",
    "humidity_average = np.mean(humidity)\n",
    "humidity_min = np.min(humidity)\n",
    "humidity_max = np.max(humidity)\n",
    "humidity_std =  np.std(humidity)\n",
    "\n",
    "\n",
    "pressure_average = np.mean(pressure)\n",
    "pressure_min = np.min(pressure)\n",
    "pressure_max = np.max(pressure)\n",
    "pressure_std = np.std(pressure)\n",
    "\n",
    "\n",
    "\n",
    "print(\"Temperature Stats:\")\n",
    "print(f\"  Mean: {temperature_average:.2f}\")\n",
    "print(f\"  Min: {temperature_min:.2f}\")\n",
    "print(f\"  Max: {temperature_max:.2f}\")\n",
    "print(f\"  Std: {temperature_std:.2f}\")\n",
    "\n",
    "print(\"\\nHumidity Stats:\")\n",
    "print(f\"  Mean: {humidity_average:.2f}\")\n",
    "print(f\"  Min: {humidity_min:.2f}\")\n",
    "print(f\"  Max: {humidity_max:.2f}\")\n",
    "print(f\"  Std: {humidity_std:.2f}\")\n",
    "\n",
    "print(\"\\nPressure Stats:\")\n",
    "print(f\"  Mean: {pressure_average:.2f}\")\n",
    "print(f\"  Min: {pressure_min:.2f}\")\n",
    "print(f\"  Max: {pressure_max:.2f}\")\n",
    "print(f\"  Std: {pressure_std:.2f}\")\n"
   ]
  },
  {
   "cell_type": "markdown",
   "id": "599af24a-f562-4271-b03b-018b46e5cfc9",
   "metadata": {},
   "source": [
    "# part4: Anomaly Detection (Simple):\n",
    "#### Identify and count how many minutes the temperature > 25c."
   ]
  },
  {
   "cell_type": "code",
   "execution_count": 60,
   "id": "4170f221-d1b3-47b0-ac66-a05b4c54264b",
   "metadata": {},
   "outputs": [
    {
     "name": "stdout",
     "output_type": "stream",
     "text": [
      "The temperature greater than 25: [25.67958087 26.26756501 25.25776422 25.37972311 26.45501298 25.11130585\n",
      " 25.26892231 25.1158593  26.22275706 25.98003854 26.19463145 25.3177794\n",
      " 25.3045526  25.24318949 25.36063156 26.05293801 25.09995267 25.51118713\n",
      " 26.62125387 25.01614304 25.58842267 25.06594273 25.46354119 25.17825966\n",
      " 25.36205106 27.19561128 25.2187932  25.64534736 25.68270675 25.63873194\n",
      " 25.28667593 25.42372986 25.46565687 25.30546875 25.10819655]\n",
      "The minutes of tepmerature that's exceeded:  35\n",
      "Minimum temperature occurred at minute: 855 (Value: 16.74°C)\n"
     ]
    }
   ],
   "source": [
    "temperature_exceeded = temperature > 25\n",
    "temperature_25 = temperature[temperature_exceeded]\n",
    "high_temp_count = np.sum(temperature_exceeded)\n",
    "print(f\"The temperature greater than 25:\", temperature_25 )\n",
    "print(\"The minutes of tepmerature that's exceeded: \", high_temp_count)\n",
    "\n",
    "min_temp_index = np.argmin(temperature)        \n",
    "min_temp_time = time_in_minutes[min_temp_index] \n",
    "min_temp_value = temperature[min_temp_index]\n",
    "print(f\"Minimum temperature occurred at minute: {min_temp_time} (Value: {min_temp_value:.2f}°C)\")"
   ]
  }
 ],
 "metadata": {
  "kernelspec": {
   "display_name": "Python [conda env:base] *",
   "language": "python",
   "name": "conda-base-py"
  },
  "language_info": {
   "codemirror_mode": {
    "name": "ipython",
    "version": 3
   },
   "file_extension": ".py",
   "mimetype": "text/x-python",
   "name": "python",
   "nbconvert_exporter": "python",
   "pygments_lexer": "ipython3",
   "version": "3.13.5"
  }
 },
 "nbformat": 4,
 "nbformat_minor": 5
}
