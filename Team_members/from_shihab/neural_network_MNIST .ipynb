{
 "cells": [
  {
   "cell_type": "code",
   "execution_count": 4,
   "id": "62aa3e48-0837-4055-a0fb-c07cd30e9aeb",
   "metadata": {},
   "outputs": [],
   "source": [
    "import time\n",
    "import numpy as np\n",
    "import tensorflow as tf\n",
    "from tensorflow import keras\n",
    "import time"
   ]
  },
  {
   "cell_type": "markdown",
   "id": "3d4ec5b3-7ba4-4e2e-879c-46a946ce4f62",
   "metadata": {},
   "source": [
    "# Step 1: Train a classification model on MNIST with at least one hidden layer"
   ]
  },
  {
   "cell_type": "markdown",
   "id": "ff059655-8e13-4f16-8aed-1762e78ae028",
   "metadata": {},
   "source": [
    "#### prepare MNIST"
   ]
  },
  {
   "cell_type": "code",
   "execution_count": 2,
   "id": "8e5dffc0-a08f-45c1-b7f2-32ece3e716f7",
   "metadata": {},
   "outputs": [
    {
     "name": "stdout",
     "output_type": "stream",
     "text": [
      "(60000, 784) (60000,) (10000, 784) (10000,)\n"
     ]
    }
   ],
   "source": [
    "np.random.seed(42)\n",
    "tf.random.set_seed(42)\n",
    "\n",
    "# Load MNIST\n",
    "(x_train, y_train), (x_test, y_test) = keras.datasets.mnist.load_data()\n",
    "\n",
    "# Flatten and scale to [0,1]\n",
    "x_train = x_train.reshape(-1, 28*28).astype(\"float32\") / 255.0\n",
    "x_test  = x_test.reshape(-1, 28*28).astype(\"float32\") / 255.0\n",
    "\n",
    "input_dim = x_train.shape[1]  # 784\n",
    "num_classes = 10\n",
    "print(x_train.shape, y_train.shape, x_test.shape, y_test.shape)\n"
   ]
  },
  {
   "cell_type": "markdown",
   "id": "22ea4b2e-c7da-4a88-aa23-a6ce516ef479",
   "metadata": {},
   "source": [
    "# Simple baseline model"
   ]
  },
  {
   "cell_type": "code",
   "execution_count": 3,
   "id": "b6974af3-3578-4c96-bef0-b85e3f11012c",
   "metadata": {},
   "outputs": [
    {
     "name": "stdout",
     "output_type": "stream",
     "text": [
      "Baseline — Test accuracy: 0.9711\n"
     ]
    }
   ],
   "source": [
    "model = keras.Sequential([\n",
    "    keras.layers.Input(shape=(input_dim,)),\n",
    "    keras.layers.Dense(128, activation=\"relu\"),\n",
    "    keras.layers.Dense(num_classes, activation=\"softmax\")\n",
    "])\n",
    "\n",
    "model.compile(optimizer=\"adam\",\n",
    "              loss=\"sparse_categorical_crossentropy\",\n",
    "              metrics=[\"accuracy\"])\n",
    "\n",
    "history = model.fit(x_train, y_train,\n",
    "                    epochs=5, batch_size=128,\n",
    "                    validation_split=0.1, verbose=0)\n",
    "\n",
    "test_loss, test_acc = model.evaluate(x_test, y_test, verbose=0)\n",
    "print(\"Baseline — Test accuracy:\", round(float(test_acc), 4))"
   ]
  },
  {
   "cell_type": "markdown",
   "id": "2f5cbd91-408e-420d-8359-c402f1fa27b0",
   "metadata": {},
   "source": [
    "# Step 2: Experiment with 2–3 activation functions"
   ]
  },
  {
   "cell_type": "markdown",
   "id": "5a562a12-6740-4d27-97ec-8b3befbc667e",
   "metadata": {},
   "source": [
    "#### I try different hidden activations"
   ]
  },
  {
   "cell_type": "code",
   "execution_count": 5,
   "id": "c9597545-8f0d-44d7-832e-8df6e6e439b3",
   "metadata": {},
   "outputs": [
    {
     "name": "stdout",
     "output_type": "stream",
     "text": [
      "\n",
      "=== Step 3: Hidden activations ===\n",
      "activation=relu    | time(s)= 49.71 | test_acc=0.9691\n",
      "activation=sigmoid | time(s)= 53.89 | test_acc=0.9520\n",
      "activation=tanh    | time(s)= 53.89 | test_acc=0.9669\n"
     ]
    }
   ],
   "source": [
    "activations = [\"relu\", \"sigmoid\", \"tanh\"]\n",
    "act_results = []\n",
    "\n",
    "for act in activations:\n",
    "    m = keras.Sequential([\n",
    "        keras.layers.Input(shape=(input_dim,)),\n",
    "        keras.layers.Dense(128, activation=act),\n",
    "        keras.layers.Dense(num_classes, activation=\"softmax\")\n",
    "    ])\n",
    "    m.compile(optimizer=\"adam\",\n",
    "              loss=\"sparse_categorical_crossentropy\",\n",
    "              metrics=[\"accuracy\"])\n",
    "    t0 = time.perf_counter()\n",
    "    m.fit(x_train, y_train, epochs=5, batch_size=128,\n",
    "          validation_split=0.1, verbose=0)\n",
    "    train_time = time.perf_counter() - t0\n",
    "    test_acc = m.evaluate(x_test, y_test, verbose=0)[1]\n",
    "    act_results.append((act, round(train_time, 2), round(float(test_acc), 4)))\n",
    "\n",
    "print(\"\\n=== Step 3: Hidden activations ===\")\n",
    "for act, t, acc in act_results:\n",
    "    print(f\"activation={act:7s} | time(s)={t:6.2f} | test_acc={acc:.4f}\")\n"
   ]
  },
  {
   "cell_type": "markdown",
   "id": "bb78a637-b5e1-4944-acaa-29d9b04617f9",
   "metadata": {},
   "source": [
    "# Step 3: compare result across optimizera and document accurcy difference "
   ]
  },
  {
   "cell_type": "code",
   "execution_count": 6,
   "id": "64b6d858-f946-442e-884e-b0f248dc0c25",
   "metadata": {},
   "outputs": [],
   "source": [
    "input_dim = 28 * 28\n",
    "num_classes = 10\n",
    "\n",
    "def build_model():\n",
    "    model = keras.Sequential([\n",
    "        keras.layers.Input(shape=(input_dim,)),\n",
    "        keras.layers.Dense(128, activation=\"relu\"),\n",
    "        keras.layers.Dense(num_classes, activation=\"softmax\")\n",
    "    ])\n",
    "    return model"
   ]
  },
  {
   "cell_type": "markdown",
   "id": "c32cb1b6-d951-4f2e-9488-0ed71caa5550",
   "metadata": {},
   "source": [
    "- Train with Adam"
   ]
  },
  {
   "cell_type": "code",
   "execution_count": 7,
   "id": "588acccc-404a-4cbe-9b6a-44bcc685142c",
   "metadata": {},
   "outputs": [
    {
     "name": "stdout",
     "output_type": "stream",
     "text": [
      "ADAM     -> time(s) = 49.89 | test_acc = 0.9698\n"
     ]
    }
   ],
   "source": [
    "model_adam = build_model()\n",
    "model_adam.compile(optimizer=\"adam\",\n",
    "                   loss=\"sparse_categorical_crossentropy\",\n",
    "                   metrics=[\"accuracy\"])\n",
    "start = time.perf_counter()\n",
    "model_adam.fit(x_train, y_train, epochs=5, batch_size=128,\n",
    "               validation_split=0.1, verbose=0)\n",
    "adam_time = time.perf_counter() - start\n",
    "adam_acc = model_adam.evaluate(x_test, y_test, verbose=0)[1]\n",
    "print(f\"ADAM     -> time(s) = {adam_time:.2f} | test_acc = {adam_acc:.4f}\")"
   ]
  },
  {
   "cell_type": "markdown",
   "id": "0d98196f-27c6-4bc2-8e46-18ff8543568e",
   "metadata": {},
   "source": [
    "- Train with SGd"
   ]
  },
  {
   "cell_type": "code",
   "execution_count": 9,
   "id": "e4798745-4592-42ee-8b44-da8ecb7b1398",
   "metadata": {},
   "outputs": [
    {
     "name": "stdout",
     "output_type": "stream",
     "text": [
      "SGD      -> time(s) = 27.02 | test_acc = 0.9058\n"
     ]
    }
   ],
   "source": [
    "model_sgd = build_model()\n",
    "model_sgd.compile(optimizer=\"sgd\",\n",
    "                  loss=\"sparse_categorical_crossentropy\",\n",
    "                  metrics=[\"accuracy\"])\n",
    "start = time.perf_counter()\n",
    "model_sgd.fit(x_train, y_train, epochs=5, batch_size=128,\n",
    "              validation_split=0.1, verbose=0)\n",
    "sgd_time = time.perf_counter() - start\n",
    "sgd_acc = model_sgd.evaluate(x_test, y_test, verbose=0)[1]\n",
    "print(f\"SGD      -> time(s) = {sgd_time:.2f} | test_acc = {sgd_acc:.4f}\")"
   ]
  },
  {
   "cell_type": "markdown",
   "id": "04351b54-3ec1-420c-b3a8-945e9b737596",
   "metadata": {},
   "source": [
    "- Train with RMSprop"
   ]
  },
  {
   "cell_type": "code",
   "execution_count": 11,
   "id": "1942855b-32cc-491f-845c-8b988527829f",
   "metadata": {},
   "outputs": [
    {
     "name": "stdout",
     "output_type": "stream",
     "text": [
      "RMSprop  -> time(s) = 53.74 | test_acc = 0.9720\n"
     ]
    }
   ],
   "source": [
    "model_rms = build_model()\n",
    "model_rms.compile(optimizer=\"rmsprop\",\n",
    "                  loss=\"sparse_categorical_crossentropy\",\n",
    "                  metrics=[\"accuracy\"])\n",
    "start = time.perf_counter()\n",
    "model_rms.fit(x_train, y_train, epochs=5, batch_size=128,\n",
    "              validation_split=0.1, verbose=0)\n",
    "rms_time = time.perf_counter() - start\n",
    "rms_acc = model_rms.evaluate(x_test, y_test, verbose=0)[1]\n",
    "print(f\"RMSprop  -> time(s) = {rms_time:.2f} | test_acc = {rms_acc:.4f}\")"
   ]
  },
  {
   "cell_type": "markdown",
   "id": "45b0e24d-e204-44cd-bad9-25a813091dbb",
   "metadata": {},
   "source": [
    "- Just to check the best accurcy we will do simple decumentation "
   ]
  },
  {
   "cell_type": "code",
   "execution_count": 20,
   "id": "a9bfbf5e-57c0-444d-b9a4-26e645430cb5",
   "metadata": {},
   "outputs": [
    {
     "name": "stdout",
     "output_type": "stream",
     "text": [
      "\n",
      "--- Accuracy summary ---\n",
      "Best accuracy is with: RMSprop (acc = 0.9720)\n",
      "adam    diff vs best: -0.0022\n",
      "sgd     diff vs best: -0.0662\n",
      "RMSprop diff vs best: +0.0000\n"
     ]
    }
   ],
   "source": [
    "best_acc = adam_acc\n",
    "best_name = \"adam\"\n",
    "if sgd_acc > best_acc:\n",
    "    best_acc = sgd_acc\n",
    "    best_name = \"sgd\"\n",
    "if rms_acc > best_acc:\n",
    "    best_acc = rms_acc\n",
    "    best_name = \"RMSprop\"\n",
    "    \n",
    "print(\"\\n--- Accuracy summary ---\")\n",
    "print(f\"Best accuracy is with: {best_name} (acc = {best_acc:.4f})\")\n",
    "print(f\"adam    diff vs best: {adam_acc - best_acc:+.4f}\")\n",
    "print(f\"sgd     diff vs best: {sgd_acc - best_acc:+.4f}\")\n",
    "print(f\"RMSprop diff vs best: {rms_acc - best_acc:+.4f}\")"
   ]
  },
  {
   "cell_type": "markdown",
   "id": "78a655b0-1af7-42b0-941d-02bc3d5002c4",
   "metadata": {},
   "source": [
    "# Plot training & validation accuracy"
   ]
  },
  {
   "cell_type": "code",
   "execution_count": 17,
   "id": "fb9b36ad-e480-4ddc-a58d-6f365e239111",
   "metadata": {},
   "outputs": [],
   "source": [
    "import matplotlib.pyplot as plt"
   ]
  },
  {
   "cell_type": "code",
   "execution_count": 18,
   "id": "9afd5a29-7c2b-4003-b6c4-f7cf268485df",
   "metadata": {},
   "outputs": [
    {
     "data": {
      "image/png": "[encoded data removed]",
      "text/plain": [
       "<Figure size 600x400 with 1 Axes>"
      ]
     },
     "metadata": {},
     "output_type": "display_data"
    }
   ],
   "source": [
    "epochs_range = range(1, len(history.history[\"accuracy\"]) + 1)\n",
    "\n",
    "plt.figure(figsize=(6,4))\n",
    "plt.plot(epochs_range, history.history[\"accuracy\"], label=\"train accuracy\")\n",
    "plt.plot(epochs_range, history.history[\"val_accuracy\"], label=\"val accuracy\")\n",
    "plt.xlabel(\"Epoch\")\n",
    "plt.ylabel(\"Accuracy\")\n",
    "plt.title(\"MNIST — Accuracy per Epoch\")\n",
    "plt.legend()\n",
    "plt.grid(True)\n",
    "plt.tight_layout()\n",
    "plt.show()"
   ]
  }
 ],
 "metadata": {
  "kernelspec": {
   "display_name": "Python (mlenv)",
   "language": "python",
   "name": "mlenv"
  },
  "language_info": {
   "codemirror_mode": {
    "name": "ipython",
    "version": 3
   },
   "file_extension": ".py",
   "mimetype": "text/x-python",
   "name": "python",
   "nbconvert_exporter": "python",
   "pygments_lexer": "ipython3",
   "version": "3.13.3"
  }
 },
 "nbformat": 4,
 "nbformat_minor": 5
}
