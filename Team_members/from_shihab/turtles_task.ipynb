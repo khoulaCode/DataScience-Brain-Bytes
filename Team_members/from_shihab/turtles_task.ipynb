{
 "cells": [
  {
   "cell_type": "code",
   "execution_count": 158,
   "id": "8dd21f3b-ab19-4862-a43c-02edad427125",
   "metadata": {},
   "outputs": [],
   "source": [
    "import requests\n",
    "import pandas as pd\n",
    "import numpy as np\n",
    "import matplotlib.pyplot as plt\n",
    "import requests\n",
    "from bs4 import BeautifulSoup\n",
    "import re"
   ]
  },
  {
   "cell_type": "code",
   "execution_count": 159,
   "id": "1c083e27-93d3-44d9-adb0-56ad1fe0f1bb",
   "metadata": {},
   "outputs": [
    {
     "name": "stdout",
     "output_type": "stream",
     "text": [
      "you have the parmission to use the page ✅\n"
     ]
    }
   ],
   "source": [
    "card_url = 'https://www.scrapethissite.com/pages/frames/?frame=i'\n",
    "\n",
    "main_url = \"https://www.scrapethissite.com/pages/frames/frame-1.html\"\n",
    "response = requests.get(card_url)\n",
    "if content_response.status_code == 200:\n",
    "    print(\"you have the parmission to use the page ✅\")"
   ]
  },
  {
   "cell_type": "code",
   "execution_count": 160,
   "id": "8c9bbc55-a0f3-44ed-a9b3-e6b7321ca085",
   "metadata": {},
   "outputs": [
    {
     "data": {
      "text/plain": [
       "200"
      ]
     },
     "execution_count": 160,
     "metadata": {},
     "output_type": "execute_result"
    }
   ],
   "source": [
    "content_response.status_code"
   ]
  },
  {
   "cell_type": "code",
   "execution_count": 161,
   "id": "c0af8761-8f4b-4ca0-94b3-42d5a69d4e60",
   "metadata": {},
   "outputs": [],
   "source": [
    "soup=BeautifulSoup(content_response.content, 'html.parser')"
   ]
  },
  {
   "cell_type": "markdown",
   "id": "b3bfd7f2-854f-481e-ab5c-146df0cb34ed",
   "metadata": {},
   "source": [
    "iframe_tag = soup.find('iframe')\n",
    "\n",
    "if iframe_tag:\n",
    "    iframe_src = iframe_tag.get('src')\n",
    "    iframe_url = \"https://www.scrapethissite.com\" + iframe_src\n",
    "    print(f\"Successfully:{iframe_url}\")\n",
    "else:\n",
    "    print(\"Fail\")"
   ]
  },
  {
   "cell_type": "code",
   "execution_count": 162,
   "id": "22a6640e-5e08-4383-8cf6-c90c547341fa",
   "metadata": {},
   "outputs": [],
   "source": [
    "base_url = \"https://www.scrapethissite.com\""
   ]
  },
  {
   "cell_type": "code",
   "execution_count": 163,
   "id": "4e91d4d7-77af-49d1-bcaf-57661f88de80",
   "metadata": {},
   "outputs": [
    {
     "name": "stdout",
     "output_type": "stream",
     "text": [
      "{'Name': ['Carettochelyidae', 'Cheloniidae', 'Chelydridae', 'Dermatemydidae', 'Dermochelyidae', 'Emydidae', 'Geoemydidae', 'Kinosternidae', 'Platysternidae', 'Testudinidae', 'Trionychidae', 'Chelidae', 'Pelomedusidae', 'Podocnemididae'], 'known_as': ['Pig-nosed turtle', 'Sea turtles', 'Snapping turtles', 'Central American river turtle', 'Leatherback sea turtle', 'Pond or water turtles', 'Asian river, leaf, roofed or Asian box turtles', 'Mud or musk turtles', 'Big-headed turtle', 'Tortoises', 'Softshell turtles', 'Austro-American sideneck turtles', 'Afro-American sideneck turtles', 'Madagascar big-headed, Big-headed Amazon River turtle and South American sideneck river turtles'], 'Discovery_Year': ['1887', '1811', '1831', '1870', '1843', '1815', '1868', '1857', '1869', '1788', '1826', '1831', '1868', '1869'], 'Discovered_By': ['Boulenger.', 'Oppel.', 'Gray.', 'Gray.', 'Fitzinger.', 'Rafinesque.', 'Theobald.', 'Agassiz.', 'Gray.', 'Batsch.', 'Fitzinger.', 'Gray.', 'Cope.', 'Gray.']}\n"
     ]
    }
   ],
   "source": [
    "turtles = soup.find_all('div', class_='col-md-4 turtle-family-card')\n",
    "\n",
    "data = {\"Name\":[], \"known_as\":[], \"Discovery_Year\":[],\"Discovered_By\": [] } # to save the data that we get it.. \n",
    "for turtle in turtles:\n",
    "    name_tag = turtle.find('h3', class_='family-name')\n",
    "    if name_tag:\n",
    "        name = name_tag.text.strip()\n",
    "        data['Name'].append(name)\n",
    "\n",
    "        link = turtle.find(\"a\", href= True)\n",
    "        url_dit = base_url + link['href']\n",
    "        rf_dit= requests.get(url_dit)\n",
    "        soup=BeautifulSoup(rf_dit.content, 'html.parser')\n",
    "        info = soup.find(\"p\", class_ =\"lead\")\n",
    "        known_as = info.find(\"strong\", class_ =\"common-name\")\n",
    "    if known_as:\n",
    "        known = known_as.text.strip()\n",
    "        data['known_as'].append(known)\n",
    "        match = re.search(r\"\\b(1[7-9]\\d{2}|20\\d{2})\\b\", info.text)\n",
    "        year = match.group(0)\n",
    "        data[\"Discovery_Year\"].append(year)\n",
    "        match_by = re.search(r\"by ([A-Z][a-zA-Z\\s\\.\\-]*)\", info.text)\n",
    "        discoverer = match_by.group(1).strip()\n",
    "        data[\"Discovered_By\"].append(discoverer)\n",
    "        \n",
    "        \n",
    "        \n",
    "        \n",
    "\n",
    "print(data)\n",
    "\n"
   ]
  },
  {
   "cell_type": "code",
   "execution_count": 167,
   "id": "13f9e910-88a6-4948-949d-f54fc657022f",
   "metadata": {},
   "outputs": [
    {
     "data": {
      "text/html": [
       "<div>\n",
       "<style scoped>\n",
       "    .dataframe tbody tr th:only-of-type {\n",
       "        vertical-align: middle;\n",
       "    }\n",
       "\n",
       "    .dataframe tbody tr th {\n",
       "        vertical-align: top;\n",
       "    }\n",
       "\n",
       "    .dataframe thead th {\n",
       "        text-align: right;\n",
       "    }\n",
       "</style>\n",
       "<table border=\"1\" class=\"dataframe\">\n",
       "  <thead>\n",
       "    <tr style=\"text-align: right;\">\n",
       "      <th></th>\n",
       "      <th>Name</th>\n",
       "      <th>known_as</th>\n",
       "      <th>Discovery_Year</th>\n",
       "      <th>Discovered_By</th>\n",
       "    </tr>\n",
       "  </thead>\n",
       "  <tbody>\n",
       "    <tr>\n",
       "      <th>0</th>\n",
       "      <td>Carettochelyidae</td>\n",
       "      <td>Pig-nosed turtle</td>\n",
       "      <td>1887</td>\n",
       "      <td>Boulenger.</td>\n",
       "    </tr>\n",
       "    <tr>\n",
       "      <th>1</th>\n",
       "      <td>Cheloniidae</td>\n",
       "      <td>Sea turtles</td>\n",
       "      <td>1811</td>\n",
       "      <td>Oppel.</td>\n",
       "    </tr>\n",
       "    <tr>\n",
       "      <th>2</th>\n",
       "      <td>Chelydridae</td>\n",
       "      <td>Snapping turtles</td>\n",
       "      <td>1831</td>\n",
       "      <td>Gray.</td>\n",
       "    </tr>\n",
       "    <tr>\n",
       "      <th>3</th>\n",
       "      <td>Dermatemydidae</td>\n",
       "      <td>Central American river turtle</td>\n",
       "      <td>1870</td>\n",
       "      <td>Gray.</td>\n",
       "    </tr>\n",
       "    <tr>\n",
       "      <th>4</th>\n",
       "      <td>Dermochelyidae</td>\n",
       "      <td>Leatherback sea turtle</td>\n",
       "      <td>1843</td>\n",
       "      <td>Fitzinger.</td>\n",
       "    </tr>\n",
       "    <tr>\n",
       "      <th>5</th>\n",
       "      <td>Emydidae</td>\n",
       "      <td>Pond or water turtles</td>\n",
       "      <td>1815</td>\n",
       "      <td>Rafinesque.</td>\n",
       "    </tr>\n",
       "    <tr>\n",
       "      <th>6</th>\n",
       "      <td>Geoemydidae</td>\n",
       "      <td>Asian river, leaf, roofed or Asian box turtles</td>\n",
       "      <td>1868</td>\n",
       "      <td>Theobald.</td>\n",
       "    </tr>\n",
       "    <tr>\n",
       "      <th>7</th>\n",
       "      <td>Kinosternidae</td>\n",
       "      <td>Mud or musk turtles</td>\n",
       "      <td>1857</td>\n",
       "      <td>Agassiz.</td>\n",
       "    </tr>\n",
       "    <tr>\n",
       "      <th>8</th>\n",
       "      <td>Platysternidae</td>\n",
       "      <td>Big-headed turtle</td>\n",
       "      <td>1869</td>\n",
       "      <td>Gray.</td>\n",
       "    </tr>\n",
       "    <tr>\n",
       "      <th>9</th>\n",
       "      <td>Testudinidae</td>\n",
       "      <td>Tortoises</td>\n",
       "      <td>1788</td>\n",
       "      <td>Batsch.</td>\n",
       "    </tr>\n",
       "    <tr>\n",
       "      <th>10</th>\n",
       "      <td>Trionychidae</td>\n",
       "      <td>Softshell turtles</td>\n",
       "      <td>1826</td>\n",
       "      <td>Fitzinger.</td>\n",
       "    </tr>\n",
       "    <tr>\n",
       "      <th>11</th>\n",
       "      <td>Chelidae</td>\n",
       "      <td>Austro-American sideneck turtles</td>\n",
       "      <td>1831</td>\n",
       "      <td>Gray.</td>\n",
       "    </tr>\n",
       "    <tr>\n",
       "      <th>12</th>\n",
       "      <td>Pelomedusidae</td>\n",
       "      <td>Afro-American sideneck turtles</td>\n",
       "      <td>1868</td>\n",
       "      <td>Cope.</td>\n",
       "    </tr>\n",
       "    <tr>\n",
       "      <th>13</th>\n",
       "      <td>Podocnemididae</td>\n",
       "      <td>Madagascar big-headed, Big-headed Amazon River...</td>\n",
       "      <td>1869</td>\n",
       "      <td>Gray.</td>\n",
       "    </tr>\n",
       "  </tbody>\n",
       "</table>\n",
       "</div>"
      ],
      "text/plain": [
       "                Name                                           known_as  \\\n",
       "0   Carettochelyidae                                   Pig-nosed turtle   \n",
       "1        Cheloniidae                                        Sea turtles   \n",
       "2        Chelydridae                                   Snapping turtles   \n",
       "3     Dermatemydidae                      Central American river turtle   \n",
       "4     Dermochelyidae                             Leatherback sea turtle   \n",
       "5           Emydidae                              Pond or water turtles   \n",
       "6        Geoemydidae     Asian river, leaf, roofed or Asian box turtles   \n",
       "7      Kinosternidae                                Mud or musk turtles   \n",
       "8     Platysternidae                                  Big-headed turtle   \n",
       "9       Testudinidae                                          Tortoises   \n",
       "10      Trionychidae                                  Softshell turtles   \n",
       "11          Chelidae                   Austro-American sideneck turtles   \n",
       "12     Pelomedusidae                     Afro-American sideneck turtles   \n",
       "13    Podocnemididae  Madagascar big-headed, Big-headed Amazon River...   \n",
       "\n",
       "   Discovery_Year Discovered_By  \n",
       "0            1887    Boulenger.  \n",
       "1            1811        Oppel.  \n",
       "2            1831         Gray.  \n",
       "3            1870         Gray.  \n",
       "4            1843    Fitzinger.  \n",
       "5            1815   Rafinesque.  \n",
       "6            1868     Theobald.  \n",
       "7            1857      Agassiz.  \n",
       "8            1869         Gray.  \n",
       "9            1788       Batsch.  \n",
       "10           1826    Fitzinger.  \n",
       "11           1831         Gray.  \n",
       "12           1868         Cope.  \n",
       "13           1869         Gray.  "
      ]
     },
     "execution_count": 167,
     "metadata": {},
     "output_type": "execute_result"
    }
   ],
   "source": [
    "df = pd.DataFrame(data)\n",
    "df"
   ]
  },
  {
   "cell_type": "code",
   "execution_count": 168,
   "id": "552209cb-6b8b-4fcb-aa33-c65a8f72ef7c",
   "metadata": {},
   "outputs": [
    {
     "name": "stdout",
     "output_type": "stream",
     "text": [
      "values num (rows): 14\n"
     ]
    }
   ],
   "source": [
    "print(\"values num (rows):\", len(turtles))\n"
   ]
  }
 ],
 "metadata": {
  "kernelspec": {
   "display_name": "Python 3 (ipykernel)",
   "language": "python",
   "name": "python3"
  },
  "language_info": {
   "codemirror_mode": {
    "name": "ipython",
    "version": 3
   },
   "file_extension": ".py",
   "mimetype": "text/x-python",
   "name": "python",
   "nbconvert_exporter": "python",
   "pygments_lexer": "ipython3",
   "version": "3.13.3"
  }
 },
 "nbformat": 4,
 "nbformat_minor": 5
}
