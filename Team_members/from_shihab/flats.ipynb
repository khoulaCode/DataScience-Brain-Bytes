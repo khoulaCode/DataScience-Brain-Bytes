{
 "cells": [
  {
   "cell_type": "code",
   "execution_count": 107,
   "id": "30743148-fef0-4d73-a909-ad74931c042b",
   "metadata": {},
   "outputs": [
    {
     "data": {
      "text/html": [
       "<div>\n",
       "<style scoped>\n",
       "    .dataframe tbody tr th:only-of-type {\n",
       "        vertical-align: middle;\n",
       "    }\n",
       "\n",
       "    .dataframe tbody tr th {\n",
       "        vertical-align: top;\n",
       "    }\n",
       "\n",
       "    .dataframe thead th {\n",
       "        text-align: right;\n",
       "    }\n",
       "</style>\n",
       "<table border=\"1\" class=\"dataframe\">\n",
       "  <thead>\n",
       "    <tr style=\"text-align: right;\">\n",
       "      <th></th>\n",
       "      <th>property_name</th>\n",
       "      <th>areaWithType</th>\n",
       "      <th>square_feet</th>\n",
       "      <th>transaction</th>\n",
       "      <th>status</th>\n",
       "      <th>floor</th>\n",
       "      <th>furnishing</th>\n",
       "      <th>facing</th>\n",
       "      <th>description</th>\n",
       "      <th>price_per_sqft</th>\n",
       "      <th>price</th>\n",
       "    </tr>\n",
       "  </thead>\n",
       "  <tbody>\n",
       "    <tr>\n",
       "      <th>0</th>\n",
       "      <td>2 BHK Apartment for Sale in Dindoli Surat</td>\n",
       "      <td>Carpet Area</td>\n",
       "      <td>644 sqft</td>\n",
       "      <td>New Property</td>\n",
       "      <td>Poss. by Oct '24</td>\n",
       "      <td>5 out of 10</td>\n",
       "      <td>Unfurnished</td>\n",
       "      <td>West</td>\n",
       "      <td>Luxury project with basement parking, Solar ro...</td>\n",
       "      <td>₹2,891 per sqft</td>\n",
       "      <td>₹33.8 Lac</td>\n",
       "    </tr>\n",
       "    <tr>\n",
       "      <th>1</th>\n",
       "      <td>2 BHK Apartment for Sale in Althan Surat</td>\n",
       "      <td>Super Area</td>\n",
       "      <td>1278 sqft</td>\n",
       "      <td>New Property</td>\n",
       "      <td>Poss. by Jan '26</td>\n",
       "      <td>6 out of 14</td>\n",
       "      <td>Unfurnished</td>\n",
       "      <td>South -West</td>\n",
       "      <td>2 And 3 BHK Luxurious Flat for Sell In New Alt...</td>\n",
       "      <td>₹3,551 per sqft</td>\n",
       "      <td>₹45.4 Lac</td>\n",
       "    </tr>\n",
       "    <tr>\n",
       "      <th>2</th>\n",
       "      <td>2 BHK Apartment for Sale in Pal Gam Surat</td>\n",
       "      <td>Super Area</td>\n",
       "      <td>1173 sqft</td>\n",
       "      <td>Resale</td>\n",
       "      <td>Ready to Move</td>\n",
       "      <td>5 out of 13</td>\n",
       "      <td>Semi-Furnished</td>\n",
       "      <td>East</td>\n",
       "      <td>This affordable 2 BHK flat is situated along a...</td>\n",
       "      <td>₹3,800 per sqft</td>\n",
       "      <td>₹44.6 Lac</td>\n",
       "    </tr>\n",
       "    <tr>\n",
       "      <th>3</th>\n",
       "      <td>2 BHK Apartment for Sale in Jahangirabad Surat</td>\n",
       "      <td>Carpet Area</td>\n",
       "      <td>700 sqft</td>\n",
       "      <td>New Property</td>\n",
       "      <td>Ready to Move</td>\n",
       "      <td>6 out of 14</td>\n",
       "      <td>Unfurnished</td>\n",
       "      <td>East</td>\n",
       "      <td>2 BHK Flat For sell IN Jahangirabad Prime Loca...</td>\n",
       "      <td>₹3,966 per sqft</td>\n",
       "      <td>₹47 Lac</td>\n",
       "    </tr>\n",
       "    <tr>\n",
       "      <th>4</th>\n",
       "      <td>2 BHK Apartment for Sale in Orchid Fantasia, P...</td>\n",
       "      <td>Super Area</td>\n",
       "      <td>1250 sqft</td>\n",
       "      <td>Orchid Fantasia</td>\n",
       "      <td>New Property</td>\n",
       "      <td>Unfurnished</td>\n",
       "      <td>2</td>\n",
       "      <td>2</td>\n",
       "      <td>Multistorey Apartment for Sale in Palanpur, Su...</td>\n",
       "      <td>₹3,600 per sqft</td>\n",
       "      <td>₹45 Lac</td>\n",
       "    </tr>\n",
       "    <tr>\n",
       "      <th>...</th>\n",
       "      <td>...</td>\n",
       "      <td>...</td>\n",
       "      <td>...</td>\n",
       "      <td>...</td>\n",
       "      <td>...</td>\n",
       "      <td>...</td>\n",
       "      <td>...</td>\n",
       "      <td>...</td>\n",
       "      <td>...</td>\n",
       "      <td>...</td>\n",
       "      <td>...</td>\n",
       "    </tr>\n",
       "    <tr>\n",
       "      <th>4520</th>\n",
       "      <td>6 BHK Apartment for Sale in Millionaires Lifes...</td>\n",
       "      <td>Carpet Area</td>\n",
       "      <td>2000 sqft</td>\n",
       "      <td>New Property</td>\n",
       "      <td>Poss. by Dec '26</td>\n",
       "      <td>5 out of 12</td>\n",
       "      <td>Unfurnished</td>\n",
       "      <td>South - East</td>\n",
       "      <td>Check out Millionaires Lifestyle in Vesu, one ...</td>\n",
       "      <td>NaN</td>\n",
       "      <td>Call for Price</td>\n",
       "    </tr>\n",
       "    <tr>\n",
       "      <th>4521</th>\n",
       "      <td>4 BHK Apartment for Sale in Savan Superia, Alt...</td>\n",
       "      <td>Super Area</td>\n",
       "      <td>3600 sqft</td>\n",
       "      <td>New Property</td>\n",
       "      <td>Poss. by Dec '25</td>\n",
       "      <td>5 out of 16</td>\n",
       "      <td>Unfurnished</td>\n",
       "      <td>South - East</td>\n",
       "      <td>Superia is a premium residential project launc...</td>\n",
       "      <td>NaN</td>\n",
       "      <td>Call for Price</td>\n",
       "    </tr>\n",
       "    <tr>\n",
       "      <th>4522</th>\n",
       "      <td>5 BHK Apartment for Sale in Roongta Green Vall...</td>\n",
       "      <td>Carpet Area</td>\n",
       "      <td>2250 sqft</td>\n",
       "      <td>New Property</td>\n",
       "      <td>Poss. by Dec '25</td>\n",
       "      <td>7 out of 13</td>\n",
       "      <td>Unfurnished</td>\n",
       "      <td>North - East</td>\n",
       "      <td>When it comes to beautiful homes, nothing beat...</td>\n",
       "      <td>NaN</td>\n",
       "      <td>Call for Price</td>\n",
       "    </tr>\n",
       "    <tr>\n",
       "      <th>4523</th>\n",
       "      <td>6 BHK Apartment for Sale in Cellestial Dreams,...</td>\n",
       "      <td>Carpet Area</td>\n",
       "      <td>3450 sqft</td>\n",
       "      <td>New Property</td>\n",
       "      <td>Ready to Move</td>\n",
       "      <td>7 out of 18</td>\n",
       "      <td>Unfurnished</td>\n",
       "      <td>North - West</td>\n",
       "      <td>DRB Ravani Cellestial Dreams in Vesu, Surat is...</td>\n",
       "      <td>NaN</td>\n",
       "      <td>Call for Price</td>\n",
       "    </tr>\n",
       "    <tr>\n",
       "      <th>4524</th>\n",
       "      <td>4 BHK Apartment for Sale in Roongta Green Vall...</td>\n",
       "      <td>Super Area</td>\n",
       "      <td>4500 sqft</td>\n",
       "      <td>New Property</td>\n",
       "      <td>Ready to Move</td>\n",
       "      <td>3 out of 12</td>\n",
       "      <td>Unfurnished</td>\n",
       "      <td>North</td>\n",
       "      <td>Roongta Green Valley is one of the popular res...</td>\n",
       "      <td>NaN</td>\n",
       "      <td>Call for Price</td>\n",
       "    </tr>\n",
       "  </tbody>\n",
       "</table>\n",
       "<p>4525 rows × 11 columns</p>\n",
       "</div>"
      ],
      "text/plain": [
       "                                          property_name areaWithType  \\\n",
       "0             2 BHK Apartment for Sale in Dindoli Surat  Carpet Area   \n",
       "1              2 BHK Apartment for Sale in Althan Surat   Super Area   \n",
       "2             2 BHK Apartment for Sale in Pal Gam Surat   Super Area   \n",
       "3        2 BHK Apartment for Sale in Jahangirabad Surat  Carpet Area   \n",
       "4     2 BHK Apartment for Sale in Orchid Fantasia, P...   Super Area   \n",
       "...                                                 ...          ...   \n",
       "4520  6 BHK Apartment for Sale in Millionaires Lifes...  Carpet Area   \n",
       "4521  4 BHK Apartment for Sale in Savan Superia, Alt...   Super Area   \n",
       "4522  5 BHK Apartment for Sale in Roongta Green Vall...  Carpet Area   \n",
       "4523  6 BHK Apartment for Sale in Cellestial Dreams,...  Carpet Area   \n",
       "4524  4 BHK Apartment for Sale in Roongta Green Vall...   Super Area   \n",
       "\n",
       "     square_feet      transaction            status        floor  \\\n",
       "0       644 sqft     New Property  Poss. by Oct '24  5 out of 10   \n",
       "1      1278 sqft     New Property  Poss. by Jan '26  6 out of 14   \n",
       "2      1173 sqft           Resale     Ready to Move  5 out of 13   \n",
       "3       700 sqft     New Property     Ready to Move  6 out of 14   \n",
       "4      1250 sqft  Orchid Fantasia      New Property  Unfurnished   \n",
       "...          ...              ...               ...          ...   \n",
       "4520   2000 sqft     New Property  Poss. by Dec '26  5 out of 12   \n",
       "4521   3600 sqft     New Property  Poss. by Dec '25  5 out of 16   \n",
       "4522   2250 sqft     New Property  Poss. by Dec '25  7 out of 13   \n",
       "4523   3450 sqft     New Property     Ready to Move  7 out of 18   \n",
       "4524   4500 sqft     New Property     Ready to Move  3 out of 12   \n",
       "\n",
       "          furnishing        facing  \\\n",
       "0        Unfurnished          West   \n",
       "1        Unfurnished   South -West   \n",
       "2     Semi-Furnished          East   \n",
       "3        Unfurnished          East   \n",
       "4                  2             2   \n",
       "...              ...           ...   \n",
       "4520     Unfurnished  South - East   \n",
       "4521     Unfurnished  South - East   \n",
       "4522     Unfurnished  North - East   \n",
       "4523     Unfurnished  North - West   \n",
       "4524     Unfurnished         North   \n",
       "\n",
       "                                            description    price_per_sqft  \\\n",
       "0     Luxury project with basement parking, Solar ro...  ₹2,891 per sqft    \n",
       "1     2 And 3 BHK Luxurious Flat for Sell In New Alt...  ₹3,551 per sqft    \n",
       "2     This affordable 2 BHK flat is situated along a...  ₹3,800 per sqft    \n",
       "3     2 BHK Flat For sell IN Jahangirabad Prime Loca...  ₹3,966 per sqft    \n",
       "4     Multistorey Apartment for Sale in Palanpur, Su...  ₹3,600 per sqft    \n",
       "...                                                 ...               ...   \n",
       "4520  Check out Millionaires Lifestyle in Vesu, one ...               NaN   \n",
       "4521  Superia is a premium residential project launc...               NaN   \n",
       "4522  When it comes to beautiful homes, nothing beat...               NaN   \n",
       "4523  DRB Ravani Cellestial Dreams in Vesu, Surat is...               NaN   \n",
       "4524  Roongta Green Valley is one of the popular res...               NaN   \n",
       "\n",
       "               price  \n",
       "0         ₹33.8 Lac   \n",
       "1         ₹45.4 Lac   \n",
       "2         ₹44.6 Lac   \n",
       "3           ₹47 Lac   \n",
       "4           ₹45 Lac   \n",
       "...              ...  \n",
       "4520  Call for Price  \n",
       "4521  Call for Price  \n",
       "4522  Call for Price  \n",
       "4523  Call for Price  \n",
       "4524  Call for Price  \n",
       "\n",
       "[4525 rows x 11 columns]"
      ]
     },
     "execution_count": 107,
     "metadata": {},
     "output_type": "execute_result"
    }
   ],
   "source": [
    "import pandas as pd\n",
    "import numpy as np\n",
    "import matplotlib.pyplot as plt\n",
    "\n",
    "df = pd.read_csv(\"Data/surat_uncleaned.csv\")\n",
    "df\n"
   ]
  },
  {
   "cell_type": "code",
   "execution_count": 108,
   "id": "87356f64-f8de-46e4-af1c-d1ccab7cb98c",
   "metadata": {},
   "outputs": [
    {
     "data": {
      "text/html": [
       "<div>\n",
       "<style scoped>\n",
       "    .dataframe tbody tr th:only-of-type {\n",
       "        vertical-align: middle;\n",
       "    }\n",
       "\n",
       "    .dataframe tbody tr th {\n",
       "        vertical-align: top;\n",
       "    }\n",
       "\n",
       "    .dataframe thead th {\n",
       "        text-align: right;\n",
       "    }\n",
       "</style>\n",
       "<table border=\"1\" class=\"dataframe\">\n",
       "  <thead>\n",
       "    <tr style=\"text-align: right;\">\n",
       "      <th></th>\n",
       "      <th>property_name</th>\n",
       "      <th>areaWithType</th>\n",
       "      <th>square_feet</th>\n",
       "      <th>transaction</th>\n",
       "      <th>status</th>\n",
       "      <th>floor</th>\n",
       "      <th>furnishing</th>\n",
       "      <th>facing</th>\n",
       "      <th>description</th>\n",
       "      <th>price_per_sqft</th>\n",
       "      <th>price</th>\n",
       "    </tr>\n",
       "  </thead>\n",
       "  <tbody>\n",
       "    <tr>\n",
       "      <th>0</th>\n",
       "      <td>2 BHK Apartment for Sale in Dindoli Surat</td>\n",
       "      <td>Carpet Area</td>\n",
       "      <td>644 sqft</td>\n",
       "      <td>New Property</td>\n",
       "      <td>Poss. by Oct '24</td>\n",
       "      <td>5 out of 10</td>\n",
       "      <td>Unfurnished</td>\n",
       "      <td>West</td>\n",
       "      <td>Luxury project with basement parking, Solar ro...</td>\n",
       "      <td>₹2,891 per sqft</td>\n",
       "      <td>₹33.8 Lac</td>\n",
       "    </tr>\n",
       "    <tr>\n",
       "      <th>1</th>\n",
       "      <td>2 BHK Apartment for Sale in Althan Surat</td>\n",
       "      <td>Super Area</td>\n",
       "      <td>1278 sqft</td>\n",
       "      <td>New Property</td>\n",
       "      <td>Poss. by Jan '26</td>\n",
       "      <td>6 out of 14</td>\n",
       "      <td>Unfurnished</td>\n",
       "      <td>South -West</td>\n",
       "      <td>2 And 3 BHK Luxurious Flat for Sell In New Alt...</td>\n",
       "      <td>₹3,551 per sqft</td>\n",
       "      <td>₹45.4 Lac</td>\n",
       "    </tr>\n",
       "    <tr>\n",
       "      <th>2</th>\n",
       "      <td>2 BHK Apartment for Sale in Pal Gam Surat</td>\n",
       "      <td>Super Area</td>\n",
       "      <td>1173 sqft</td>\n",
       "      <td>Resale</td>\n",
       "      <td>Ready to Move</td>\n",
       "      <td>5 out of 13</td>\n",
       "      <td>Semi-Furnished</td>\n",
       "      <td>East</td>\n",
       "      <td>This affordable 2 BHK flat is situated along a...</td>\n",
       "      <td>₹3,800 per sqft</td>\n",
       "      <td>₹44.6 Lac</td>\n",
       "    </tr>\n",
       "    <tr>\n",
       "      <th>3</th>\n",
       "      <td>2 BHK Apartment for Sale in Jahangirabad Surat</td>\n",
       "      <td>Carpet Area</td>\n",
       "      <td>700 sqft</td>\n",
       "      <td>New Property</td>\n",
       "      <td>Ready to Move</td>\n",
       "      <td>6 out of 14</td>\n",
       "      <td>Unfurnished</td>\n",
       "      <td>East</td>\n",
       "      <td>2 BHK Flat For sell IN Jahangirabad Prime Loca...</td>\n",
       "      <td>₹3,966 per sqft</td>\n",
       "      <td>₹47 Lac</td>\n",
       "    </tr>\n",
       "    <tr>\n",
       "      <th>4</th>\n",
       "      <td>2 BHK Apartment for Sale in Orchid Fantasia, P...</td>\n",
       "      <td>Super Area</td>\n",
       "      <td>1250 sqft</td>\n",
       "      <td>Orchid Fantasia</td>\n",
       "      <td>New Property</td>\n",
       "      <td>Unfurnished</td>\n",
       "      <td>2</td>\n",
       "      <td>2</td>\n",
       "      <td>Multistorey Apartment for Sale in Palanpur, Su...</td>\n",
       "      <td>₹3,600 per sqft</td>\n",
       "      <td>₹45 Lac</td>\n",
       "    </tr>\n",
       "  </tbody>\n",
       "</table>\n",
       "</div>"
      ],
      "text/plain": [
       "                                       property_name areaWithType square_feet  \\\n",
       "0          2 BHK Apartment for Sale in Dindoli Surat  Carpet Area    644 sqft   \n",
       "1           2 BHK Apartment for Sale in Althan Surat   Super Area   1278 sqft   \n",
       "2          2 BHK Apartment for Sale in Pal Gam Surat   Super Area   1173 sqft   \n",
       "3     2 BHK Apartment for Sale in Jahangirabad Surat  Carpet Area    700 sqft   \n",
       "4  2 BHK Apartment for Sale in Orchid Fantasia, P...   Super Area   1250 sqft   \n",
       "\n",
       "       transaction            status        floor      furnishing  \\\n",
       "0     New Property  Poss. by Oct '24  5 out of 10     Unfurnished   \n",
       "1     New Property  Poss. by Jan '26  6 out of 14     Unfurnished   \n",
       "2           Resale     Ready to Move  5 out of 13  Semi-Furnished   \n",
       "3     New Property     Ready to Move  6 out of 14     Unfurnished   \n",
       "4  Orchid Fantasia      New Property  Unfurnished               2   \n",
       "\n",
       "        facing                                        description  \\\n",
       "0         West  Luxury project with basement parking, Solar ro...   \n",
       "1  South -West  2 And 3 BHK Luxurious Flat for Sell In New Alt...   \n",
       "2         East  This affordable 2 BHK flat is situated along a...   \n",
       "3         East  2 BHK Flat For sell IN Jahangirabad Prime Loca...   \n",
       "4            2  Multistorey Apartment for Sale in Palanpur, Su...   \n",
       "\n",
       "     price_per_sqft       price  \n",
       "0  ₹2,891 per sqft   ₹33.8 Lac   \n",
       "1  ₹3,551 per sqft   ₹45.4 Lac   \n",
       "2  ₹3,800 per sqft   ₹44.6 Lac   \n",
       "3  ₹3,966 per sqft     ₹47 Lac   \n",
       "4  ₹3,600 per sqft     ₹45 Lac   "
      ]
     },
     "execution_count": 108,
     "metadata": {},
     "output_type": "execute_result"
    }
   ],
   "source": [
    "df.head()"
   ]
  },
  {
   "cell_type": "code",
   "execution_count": 109,
   "id": "94b6e561-82dd-4306-886c-81d3b80551f5",
   "metadata": {},
   "outputs": [
    {
     "name": "stdout",
     "output_type": "stream",
     "text": [
      "<class 'pandas.core.frame.DataFrame'>\n",
      "RangeIndex: 4525 entries, 0 to 4524\n",
      "Data columns (total 11 columns):\n",
      " #   Column          Non-Null Count  Dtype \n",
      "---  ------          --------------  ----- \n",
      " 0   property_name   4525 non-null   object\n",
      " 1   areaWithType    4525 non-null   object\n",
      " 2   square_feet     4525 non-null   object\n",
      " 3   transaction     4421 non-null   object\n",
      " 4   status          4524 non-null   object\n",
      " 5   floor           4480 non-null   object\n",
      " 6   furnishing      4185 non-null   object\n",
      " 7   facing          3936 non-null   object\n",
      " 8   description     3154 non-null   object\n",
      " 9   price_per_sqft  4157 non-null   object\n",
      " 10  price           4525 non-null   object\n",
      "dtypes: object(11)\n",
      "memory usage: 389.0+ KB\n"
     ]
    }
   ],
   "source": [
    "df.info()"
   ]
  },
  {
   "cell_type": "code",
   "execution_count": 110,
   "id": "fee9ad6b-3a25-4aee-9c74-3a2c0c7a1ee3",
   "metadata": {},
   "outputs": [
    {
     "data": {
      "text/plain": [
       "property_name     object\n",
       "areaWithType      object\n",
       "square_feet       object\n",
       "transaction       object\n",
       "status            object\n",
       "floor             object\n",
       "furnishing        object\n",
       "facing            object\n",
       "description       object\n",
       "price_per_sqft    object\n",
       "price             object\n",
       "dtype: object"
      ]
     },
     "execution_count": 110,
     "metadata": {},
     "output_type": "execute_result"
    }
   ],
   "source": [
    "df.dtypes\n"
   ]
  },
  {
   "cell_type": "code",
   "execution_count": 111,
   "id": "c43692a2-fb74-479f-9832-e8c6f1874b58",
   "metadata": {},
   "outputs": [
    {
     "data": {
      "text/plain": [
       "<bound method DataFrame.isnull of                                           property_name areaWithType  \\\n",
       "0             2 BHK Apartment for Sale in Dindoli Surat  Carpet Area   \n",
       "1              2 BHK Apartment for Sale in Althan Surat   Super Area   \n",
       "2             2 BHK Apartment for Sale in Pal Gam Surat   Super Area   \n",
       "3        2 BHK Apartment for Sale in Jahangirabad Surat  Carpet Area   \n",
       "4     2 BHK Apartment for Sale in Orchid Fantasia, P...   Super Area   \n",
       "...                                                 ...          ...   \n",
       "4520  6 BHK Apartment for Sale in Millionaires Lifes...  Carpet Area   \n",
       "4521  4 BHK Apartment for Sale in Savan Superia, Alt...   Super Area   \n",
       "4522  5 BHK Apartment for Sale in Roongta Green Vall...  Carpet Area   \n",
       "4523  6 BHK Apartment for Sale in Cellestial Dreams,...  Carpet Area   \n",
       "4524  4 BHK Apartment for Sale in Roongta Green Vall...   Super Area   \n",
       "\n",
       "     square_feet      transaction            status        floor  \\\n",
       "0       644 sqft     New Property  Poss. by Oct '24  5 out of 10   \n",
       "1      1278 sqft     New Property  Poss. by Jan '26  6 out of 14   \n",
       "2      1173 sqft           Resale     Ready to Move  5 out of 13   \n",
       "3       700 sqft     New Property     Ready to Move  6 out of 14   \n",
       "4      1250 sqft  Orchid Fantasia      New Property  Unfurnished   \n",
       "...          ...              ...               ...          ...   \n",
       "4520   2000 sqft     New Property  Poss. by Dec '26  5 out of 12   \n",
       "4521   3600 sqft     New Property  Poss. by Dec '25  5 out of 16   \n",
       "4522   2250 sqft     New Property  Poss. by Dec '25  7 out of 13   \n",
       "4523   3450 sqft     New Property     Ready to Move  7 out of 18   \n",
       "4524   4500 sqft     New Property     Ready to Move  3 out of 12   \n",
       "\n",
       "          furnishing        facing  \\\n",
       "0        Unfurnished          West   \n",
       "1        Unfurnished   South -West   \n",
       "2     Semi-Furnished          East   \n",
       "3        Unfurnished          East   \n",
       "4                  2             2   \n",
       "...              ...           ...   \n",
       "4520     Unfurnished  South - East   \n",
       "4521     Unfurnished  South - East   \n",
       "4522     Unfurnished  North - East   \n",
       "4523     Unfurnished  North - West   \n",
       "4524     Unfurnished         North   \n",
       "\n",
       "                                            description    price_per_sqft  \\\n",
       "0     Luxury project with basement parking, Solar ro...  ₹2,891 per sqft    \n",
       "1     2 And 3 BHK Luxurious Flat for Sell In New Alt...  ₹3,551 per sqft    \n",
       "2     This affordable 2 BHK flat is situated along a...  ₹3,800 per sqft    \n",
       "3     2 BHK Flat For sell IN Jahangirabad Prime Loca...  ₹3,966 per sqft    \n",
       "4     Multistorey Apartment for Sale in Palanpur, Su...  ₹3,600 per sqft    \n",
       "...                                                 ...               ...   \n",
       "4520  Check out Millionaires Lifestyle in Vesu, one ...               NaN   \n",
       "4521  Superia is a premium residential project launc...               NaN   \n",
       "4522  When it comes to beautiful homes, nothing beat...               NaN   \n",
       "4523  DRB Ravani Cellestial Dreams in Vesu, Surat is...               NaN   \n",
       "4524  Roongta Green Valley is one of the popular res...               NaN   \n",
       "\n",
       "               price  \n",
       "0         ₹33.8 Lac   \n",
       "1         ₹45.4 Lac   \n",
       "2         ₹44.6 Lac   \n",
       "3           ₹47 Lac   \n",
       "4           ₹45 Lac   \n",
       "...              ...  \n",
       "4520  Call for Price  \n",
       "4521  Call for Price  \n",
       "4522  Call for Price  \n",
       "4523  Call for Price  \n",
       "4524  Call for Price  \n",
       "\n",
       "[4525 rows x 11 columns]>"
      ]
     },
     "execution_count": 111,
     "metadata": {},
     "output_type": "execute_result"
    }
   ],
   "source": [
    "df.isnull"
   ]
  },
  {
   "cell_type": "code",
   "execution_count": 112,
   "id": "c27e1697-8137-4897-ad9f-f6dac23a73dc",
   "metadata": {},
   "outputs": [
    {
     "name": "stdout",
     "output_type": "stream",
     "text": [
      "['property_name', 'areaWithType', 'square_feet', 'transaction', 'status', 'floor', 'furnishing', 'facing', 'description', 'price_per_sqft', 'price']\n"
     ]
    }
   ],
   "source": [
    "print(df.columns.tolist())\n"
   ]
  },
  {
   "cell_type": "code",
   "execution_count": 113,
   "id": "4b49fec8-882d-4cab-8ec3-3f6b0e619e02",
   "metadata": {},
   "outputs": [
    {
     "data": {
      "text/plain": [
       "property_name        0\n",
       "areaWithType         0\n",
       "square_feet          0\n",
       "transaction        104\n",
       "status               1\n",
       "floor               45\n",
       "furnishing         340\n",
       "facing             589\n",
       "description       1371\n",
       "price_per_sqft     368\n",
       "price                0\n",
       "dtype: int64"
      ]
     },
     "execution_count": 113,
     "metadata": {},
     "output_type": "execute_result"
    }
   ],
   "source": [
    "df.isnull().sum()"
   ]
  },
  {
   "cell_type": "markdown",
   "id": "55d15dfc-9b7e-4cf7-a94b-f14a57310469",
   "metadata": {},
   "source": [
    "#### just information:\n",
    "Sometime we have many missing values in our database so in this case wwe need to decide if we {drop it, replaceit}"
   ]
  },
  {
   "cell_type": "code",
   "execution_count": 114,
   "id": "cbaad9ee-4bb0-43c3-8bb0-321352d1d561",
   "metadata": {},
   "outputs": [
    {
     "data": {
      "text/html": [
       "<div>\n",
       "<style scoped>\n",
       "    .dataframe tbody tr th:only-of-type {\n",
       "        vertical-align: middle;\n",
       "    }\n",
       "\n",
       "    .dataframe tbody tr th {\n",
       "        vertical-align: top;\n",
       "    }\n",
       "\n",
       "    .dataframe thead th {\n",
       "        text-align: right;\n",
       "    }\n",
       "</style>\n",
       "<table border=\"1\" class=\"dataframe\">\n",
       "  <thead>\n",
       "    <tr style=\"text-align: right;\">\n",
       "      <th></th>\n",
       "      <th>property_name</th>\n",
       "      <th>areaWithType</th>\n",
       "      <th>square_feet</th>\n",
       "      <th>transaction</th>\n",
       "      <th>status</th>\n",
       "      <th>floor</th>\n",
       "      <th>furnishing</th>\n",
       "      <th>facing</th>\n",
       "      <th>description</th>\n",
       "      <th>price_per_sqft</th>\n",
       "      <th>price</th>\n",
       "    </tr>\n",
       "  </thead>\n",
       "  <tbody>\n",
       "    <tr>\n",
       "      <th>count</th>\n",
       "      <td>4525</td>\n",
       "      <td>4525</td>\n",
       "      <td>4525</td>\n",
       "      <td>4421</td>\n",
       "      <td>4524</td>\n",
       "      <td>4480</td>\n",
       "      <td>4185</td>\n",
       "      <td>3936</td>\n",
       "      <td>3154</td>\n",
       "      <td>4157</td>\n",
       "      <td>4525</td>\n",
       "    </tr>\n",
       "    <tr>\n",
       "      <th>unique</th>\n",
       "      <td>1992</td>\n",
       "      <td>6</td>\n",
       "      <td>1399</td>\n",
       "      <td>38</td>\n",
       "      <td>138</td>\n",
       "      <td>222</td>\n",
       "      <td>78</td>\n",
       "      <td>176</td>\n",
       "      <td>2588</td>\n",
       "      <td>2134</td>\n",
       "      <td>841</td>\n",
       "    </tr>\n",
       "    <tr>\n",
       "      <th>top</th>\n",
       "      <td>3 BHK Apartment for Sale in Vesu Surat</td>\n",
       "      <td>Super Area</td>\n",
       "      <td>1000 sqft</td>\n",
       "      <td>Resale</td>\n",
       "      <td>Ready to Move</td>\n",
       "      <td>Resale</td>\n",
       "      <td>Unfurnished</td>\n",
       "      <td>East</td>\n",
       "      <td>Multistorey apartment is available for sale. I...</td>\n",
       "      <td>₹5,000 per sqft</td>\n",
       "      <td>Call for Price</td>\n",
       "    </tr>\n",
       "    <tr>\n",
       "      <th>freq</th>\n",
       "      <td>93</td>\n",
       "      <td>2599</td>\n",
       "      <td>77</td>\n",
       "      <td>2197</td>\n",
       "      <td>3078</td>\n",
       "      <td>431</td>\n",
       "      <td>2322</td>\n",
       "      <td>1487</td>\n",
       "      <td>35</td>\n",
       "      <td>64</td>\n",
       "      <td>173</td>\n",
       "    </tr>\n",
       "  </tbody>\n",
       "</table>\n",
       "</div>"
      ],
      "text/plain": [
       "                                 property_name areaWithType square_feet  \\\n",
       "count                                     4525         4525        4525   \n",
       "unique                                    1992            6        1399   \n",
       "top     3 BHK Apartment for Sale in Vesu Surat   Super Area   1000 sqft   \n",
       "freq                                        93         2599          77   \n",
       "\n",
       "       transaction         status   floor   furnishing facing  \\\n",
       "count         4421           4524    4480         4185   3936   \n",
       "unique          38            138     222           78    176   \n",
       "top         Resale  Ready to Move  Resale  Unfurnished   East   \n",
       "freq          2197           3078     431         2322   1487   \n",
       "\n",
       "                                              description    price_per_sqft  \\\n",
       "count                                                3154              4157   \n",
       "unique                                               2588              2134   \n",
       "top     Multistorey apartment is available for sale. I...  ₹5,000 per sqft    \n",
       "freq                                                   35                64   \n",
       "\n",
       "                 price  \n",
       "count             4525  \n",
       "unique             841  \n",
       "top     Call for Price  \n",
       "freq               173  "
      ]
     },
     "execution_count": 114,
     "metadata": {},
     "output_type": "execute_result"
    }
   ],
   "source": [
    "df.describe(include='all')"
   ]
  },
  {
   "cell_type": "code",
   "execution_count": 115,
   "id": "5b266414-431a-4d70-9804-4f56102c9f05",
   "metadata": {},
   "outputs": [],
   "source": [
    "df.columns = df.columns.str.strip().str.lower().str.replace(' ', '_')\n"
   ]
  },
  {
   "cell_type": "code",
   "execution_count": 116,
   "id": "69249980-e21f-4baa-a829-821ca42ec19f",
   "metadata": {},
   "outputs": [
    {
     "data": {
      "text/plain": [
       "property_name        0\n",
       "areawithtype         0\n",
       "square_feet          0\n",
       "transaction        104\n",
       "status               1\n",
       "floor               45\n",
       "furnishing         340\n",
       "facing             589\n",
       "description       1371\n",
       "price_per_sqft     368\n",
       "price                0\n",
       "dtype: int64"
      ]
     },
     "execution_count": 116,
     "metadata": {},
     "output_type": "execute_result"
    }
   ],
   "source": [
    "df.isnull().sum()"
   ]
  },
  {
   "cell_type": "code",
   "execution_count": 117,
   "id": "af344134-9d64-4861-9c1e-28a149eee610",
   "metadata": {},
   "outputs": [],
   "source": [
    "df['square_feet_clean'] = df['square_feet'].str.extract(r'(\\d+)', expand=False)\n",
    "df['square_feet_clean'] = pd.to_numeric(df['square_feet_clean'], errors='coerce')\n"
   ]
  },
  {
   "cell_type": "code",
   "execution_count": 118,
   "id": "569d1dd3-c3cd-42ed-a2b7-a1f22e508703",
   "metadata": {},
   "outputs": [],
   "source": [
    "df['price_clean'] = df['price'].astype(str)\n",
    "df['price_clean'] = df['price_clean'].str.replace('₹', '', regex=False).str.replace(' Lac', '', regex=False)\n",
    "df['price_clean'] = df['price_clean'].str.extract(r'(\\d+\\.?\\d*)')\n",
    "df['price_clean'] = pd.to_numeric(df['price_clean'], errors='coerce') * 100000\n"
   ]
  },
  {
   "cell_type": "code",
   "execution_count": 119,
   "id": "e92ff92b-0c0e-4b7f-9797-e91ab9554de7",
   "metadata": {},
   "outputs": [
    {
     "data": {
      "text/plain": [
       "property_name         object\n",
       "areawithtype          object\n",
       "square_feet           object\n",
       "transaction           object\n",
       "status                object\n",
       "floor                 object\n",
       "furnishing            object\n",
       "facing                object\n",
       "description           object\n",
       "price_per_sqft        object\n",
       "price                 object\n",
       "square_feet_clean    float64\n",
       "price_clean          float64\n",
       "dtype: object"
      ]
     },
     "execution_count": 119,
     "metadata": {},
     "output_type": "execute_result"
    }
   ],
   "source": [
    "df.dtypes"
   ]
  },
  {
   "cell_type": "code",
   "execution_count": 120,
   "id": "6111fb51-3e37-441d-bae2-0324294cca2d",
   "metadata": {},
   "outputs": [
    {
     "name": "stdout",
     "output_type": "stream",
     "text": [
      "float64\n"
     ]
    }
   ],
   "source": [
    "print(df['square_feet_clean'].dtype)"
   ]
  },
  {
   "cell_type": "code",
   "execution_count": 121,
   "id": "eed7077a-f27e-438a-97ea-1a477897e09b",
   "metadata": {},
   "outputs": [
    {
     "name": "stdout",
     "output_type": "stream",
     "text": [
      "6\n"
     ]
    }
   ],
   "source": [
    "print(df['square_feet_clean'].isnull().sum())\n"
   ]
  },
  {
   "cell_type": "code",
   "execution_count": 122,
   "id": "87069063-162d-4278-b374-d753e9762c73",
   "metadata": {},
   "outputs": [
    {
     "name": "stdout",
     "output_type": "stream",
     "text": [
      "count    4.519000e+03\n",
      "mean     3.818484e+03\n",
      "std      1.252813e+05\n",
      "min      1.000000e+00\n",
      "25%      8.000000e+02\n",
      "50%      1.251000e+03\n",
      "75%      1.994000e+03\n",
      "max      8.400000e+06\n",
      "Name: square_feet_clean, dtype: float64\n"
     ]
    }
   ],
   "source": [
    "print(df['square_feet_clean'].describe())\n"
   ]
  },
  {
   "cell_type": "code",
   "execution_count": 123,
   "id": "b8e94953-90cf-46bc-857d-e35cade91318",
   "metadata": {},
   "outputs": [
    {
     "data": {
      "image/png": "[encoded data removed]",
      "text/plain": [
       "<Figure size 640x480 with 1 Axes>"
      ]
     },
     "metadata": {},
     "output_type": "display_data"
    }
   ],
   "source": [
    "df['square_feet_clean'].plot(kind='hist', bins=30)\n",
    "plt.title('Distribution of Cleaned Square Feet')\n",
    "plt.xlabel('Square Feet')\n",
    "plt.show()\n"
   ]
  },
  {
   "cell_type": "code",
   "execution_count": 124,
   "id": "ac3f675c-c519-4640-9775-dd01271071a9",
   "metadata": {},
   "outputs": [
    {
     "name": "stdout",
     "output_type": "stream",
     "text": [
      "1040    8400000.0\n",
      "3617     315200.0\n",
      "3751     302400.0\n",
      "3840     302400.0\n",
      "3708     291000.0\n",
      "3816     100800.0\n",
      "487       95000.0\n",
      "1030      69970.0\n",
      "3687      61000.0\n",
      "3678      49960.0\n",
      "Name: square_feet_clean, dtype: float64\n"
     ]
    }
   ],
   "source": [
    "print(df['square_feet_clean'].sort_values(ascending=False).head(10))\n"
   ]
  },
  {
   "cell_type": "code",
   "execution_count": 125,
   "id": "916bb8ba-9100-4e62-beab-e2ef3fa40df0",
   "metadata": {},
   "outputs": [
    {
     "data": {
      "text/html": [
       "<div>\n",
       "<style scoped>\n",
       "    .dataframe tbody tr th:only-of-type {\n",
       "        vertical-align: middle;\n",
       "    }\n",
       "\n",
       "    .dataframe tbody tr th {\n",
       "        vertical-align: top;\n",
       "    }\n",
       "\n",
       "    .dataframe thead th {\n",
       "        text-align: right;\n",
       "    }\n",
       "</style>\n",
       "<table border=\"1\" class=\"dataframe\">\n",
       "  <thead>\n",
       "    <tr style=\"text-align: right;\">\n",
       "      <th></th>\n",
       "      <th>property_name</th>\n",
       "      <th>areawithtype</th>\n",
       "      <th>square_feet</th>\n",
       "      <th>transaction</th>\n",
       "      <th>status</th>\n",
       "      <th>floor</th>\n",
       "      <th>furnishing</th>\n",
       "      <th>facing</th>\n",
       "      <th>description</th>\n",
       "      <th>price_per_sqft</th>\n",
       "      <th>price</th>\n",
       "      <th>square_feet_clean</th>\n",
       "      <th>price_clean</th>\n",
       "    </tr>\n",
       "  </thead>\n",
       "  <tbody>\n",
       "    <tr>\n",
       "      <th>0</th>\n",
       "      <td>2 BHK Apartment for Sale in Dindoli Surat</td>\n",
       "      <td>Carpet Area</td>\n",
       "      <td>644 sqft</td>\n",
       "      <td>New Property</td>\n",
       "      <td>Poss. by Oct '24</td>\n",
       "      <td>5 out of 10</td>\n",
       "      <td>Unfurnished</td>\n",
       "      <td>West</td>\n",
       "      <td>Luxury project with basement parking, Solar ro...</td>\n",
       "      <td>₹2,891 per sqft</td>\n",
       "      <td>₹33.8 Lac</td>\n",
       "      <td>644.0</td>\n",
       "      <td>3380000.0</td>\n",
       "    </tr>\n",
       "    <tr>\n",
       "      <th>1</th>\n",
       "      <td>2 BHK Apartment for Sale in Althan Surat</td>\n",
       "      <td>Super Area</td>\n",
       "      <td>1278 sqft</td>\n",
       "      <td>New Property</td>\n",
       "      <td>Poss. by Jan '26</td>\n",
       "      <td>6 out of 14</td>\n",
       "      <td>Unfurnished</td>\n",
       "      <td>South -West</td>\n",
       "      <td>2 And 3 BHK Luxurious Flat for Sell In New Alt...</td>\n",
       "      <td>₹3,551 per sqft</td>\n",
       "      <td>₹45.4 Lac</td>\n",
       "      <td>1278.0</td>\n",
       "      <td>4540000.0</td>\n",
       "    </tr>\n",
       "    <tr>\n",
       "      <th>2</th>\n",
       "      <td>2 BHK Apartment for Sale in Pal Gam Surat</td>\n",
       "      <td>Super Area</td>\n",
       "      <td>1173 sqft</td>\n",
       "      <td>Resale</td>\n",
       "      <td>Ready to Move</td>\n",
       "      <td>5 out of 13</td>\n",
       "      <td>Semi-Furnished</td>\n",
       "      <td>East</td>\n",
       "      <td>This affordable 2 BHK flat is situated along a...</td>\n",
       "      <td>₹3,800 per sqft</td>\n",
       "      <td>₹44.6 Lac</td>\n",
       "      <td>1173.0</td>\n",
       "      <td>4460000.0</td>\n",
       "    </tr>\n",
       "    <tr>\n",
       "      <th>3</th>\n",
       "      <td>2 BHK Apartment for Sale in Jahangirabad Surat</td>\n",
       "      <td>Carpet Area</td>\n",
       "      <td>700 sqft</td>\n",
       "      <td>New Property</td>\n",
       "      <td>Ready to Move</td>\n",
       "      <td>6 out of 14</td>\n",
       "      <td>Unfurnished</td>\n",
       "      <td>East</td>\n",
       "      <td>2 BHK Flat For sell IN Jahangirabad Prime Loca...</td>\n",
       "      <td>₹3,966 per sqft</td>\n",
       "      <td>₹47 Lac</td>\n",
       "      <td>700.0</td>\n",
       "      <td>4700000.0</td>\n",
       "    </tr>\n",
       "    <tr>\n",
       "      <th>4</th>\n",
       "      <td>2 BHK Apartment for Sale in Orchid Fantasia, P...</td>\n",
       "      <td>Super Area</td>\n",
       "      <td>1250 sqft</td>\n",
       "      <td>Orchid Fantasia</td>\n",
       "      <td>New Property</td>\n",
       "      <td>Unfurnished</td>\n",
       "      <td>2</td>\n",
       "      <td>2</td>\n",
       "      <td>Multistorey Apartment for Sale in Palanpur, Su...</td>\n",
       "      <td>₹3,600 per sqft</td>\n",
       "      <td>₹45 Lac</td>\n",
       "      <td>1250.0</td>\n",
       "      <td>4500000.0</td>\n",
       "    </tr>\n",
       "    <tr>\n",
       "      <th>...</th>\n",
       "      <td>...</td>\n",
       "      <td>...</td>\n",
       "      <td>...</td>\n",
       "      <td>...</td>\n",
       "      <td>...</td>\n",
       "      <td>...</td>\n",
       "      <td>...</td>\n",
       "      <td>...</td>\n",
       "      <td>...</td>\n",
       "      <td>...</td>\n",
       "      <td>...</td>\n",
       "      <td>...</td>\n",
       "      <td>...</td>\n",
       "    </tr>\n",
       "    <tr>\n",
       "      <th>4520</th>\n",
       "      <td>6 BHK Apartment for Sale in Millionaires Lifes...</td>\n",
       "      <td>Carpet Area</td>\n",
       "      <td>2000 sqft</td>\n",
       "      <td>New Property</td>\n",
       "      <td>Poss. by Dec '26</td>\n",
       "      <td>5 out of 12</td>\n",
       "      <td>Unfurnished</td>\n",
       "      <td>South - East</td>\n",
       "      <td>Check out Millionaires Lifestyle in Vesu, one ...</td>\n",
       "      <td>NaN</td>\n",
       "      <td>Call for Price</td>\n",
       "      <td>2000.0</td>\n",
       "      <td>NaN</td>\n",
       "    </tr>\n",
       "    <tr>\n",
       "      <th>4521</th>\n",
       "      <td>4 BHK Apartment for Sale in Savan Superia, Alt...</td>\n",
       "      <td>Super Area</td>\n",
       "      <td>3600 sqft</td>\n",
       "      <td>New Property</td>\n",
       "      <td>Poss. by Dec '25</td>\n",
       "      <td>5 out of 16</td>\n",
       "      <td>Unfurnished</td>\n",
       "      <td>South - East</td>\n",
       "      <td>Superia is a premium residential project launc...</td>\n",
       "      <td>NaN</td>\n",
       "      <td>Call for Price</td>\n",
       "      <td>3600.0</td>\n",
       "      <td>NaN</td>\n",
       "    </tr>\n",
       "    <tr>\n",
       "      <th>4522</th>\n",
       "      <td>5 BHK Apartment for Sale in Roongta Green Vall...</td>\n",
       "      <td>Carpet Area</td>\n",
       "      <td>2250 sqft</td>\n",
       "      <td>New Property</td>\n",
       "      <td>Poss. by Dec '25</td>\n",
       "      <td>7 out of 13</td>\n",
       "      <td>Unfurnished</td>\n",
       "      <td>North - East</td>\n",
       "      <td>When it comes to beautiful homes, nothing beat...</td>\n",
       "      <td>NaN</td>\n",
       "      <td>Call for Price</td>\n",
       "      <td>2250.0</td>\n",
       "      <td>NaN</td>\n",
       "    </tr>\n",
       "    <tr>\n",
       "      <th>4523</th>\n",
       "      <td>6 BHK Apartment for Sale in Cellestial Dreams,...</td>\n",
       "      <td>Carpet Area</td>\n",
       "      <td>3450 sqft</td>\n",
       "      <td>New Property</td>\n",
       "      <td>Ready to Move</td>\n",
       "      <td>7 out of 18</td>\n",
       "      <td>Unfurnished</td>\n",
       "      <td>North - West</td>\n",
       "      <td>DRB Ravani Cellestial Dreams in Vesu, Surat is...</td>\n",
       "      <td>NaN</td>\n",
       "      <td>Call for Price</td>\n",
       "      <td>3450.0</td>\n",
       "      <td>NaN</td>\n",
       "    </tr>\n",
       "    <tr>\n",
       "      <th>4524</th>\n",
       "      <td>4 BHK Apartment for Sale in Roongta Green Vall...</td>\n",
       "      <td>Super Area</td>\n",
       "      <td>4500 sqft</td>\n",
       "      <td>New Property</td>\n",
       "      <td>Ready to Move</td>\n",
       "      <td>3 out of 12</td>\n",
       "      <td>Unfurnished</td>\n",
       "      <td>North</td>\n",
       "      <td>Roongta Green Valley is one of the popular res...</td>\n",
       "      <td>NaN</td>\n",
       "      <td>Call for Price</td>\n",
       "      <td>4500.0</td>\n",
       "      <td>NaN</td>\n",
       "    </tr>\n",
       "  </tbody>\n",
       "</table>\n",
       "<p>4504 rows × 13 columns</p>\n",
       "</div>"
      ],
      "text/plain": [
       "                                          property_name areawithtype  \\\n",
       "0             2 BHK Apartment for Sale in Dindoli Surat  Carpet Area   \n",
       "1              2 BHK Apartment for Sale in Althan Surat   Super Area   \n",
       "2             2 BHK Apartment for Sale in Pal Gam Surat   Super Area   \n",
       "3        2 BHK Apartment for Sale in Jahangirabad Surat  Carpet Area   \n",
       "4     2 BHK Apartment for Sale in Orchid Fantasia, P...   Super Area   \n",
       "...                                                 ...          ...   \n",
       "4520  6 BHK Apartment for Sale in Millionaires Lifes...  Carpet Area   \n",
       "4521  4 BHK Apartment for Sale in Savan Superia, Alt...   Super Area   \n",
       "4522  5 BHK Apartment for Sale in Roongta Green Vall...  Carpet Area   \n",
       "4523  6 BHK Apartment for Sale in Cellestial Dreams,...  Carpet Area   \n",
       "4524  4 BHK Apartment for Sale in Roongta Green Vall...   Super Area   \n",
       "\n",
       "     square_feet      transaction            status        floor  \\\n",
       "0       644 sqft     New Property  Poss. by Oct '24  5 out of 10   \n",
       "1      1278 sqft     New Property  Poss. by Jan '26  6 out of 14   \n",
       "2      1173 sqft           Resale     Ready to Move  5 out of 13   \n",
       "3       700 sqft     New Property     Ready to Move  6 out of 14   \n",
       "4      1250 sqft  Orchid Fantasia      New Property  Unfurnished   \n",
       "...          ...              ...               ...          ...   \n",
       "4520   2000 sqft     New Property  Poss. by Dec '26  5 out of 12   \n",
       "4521   3600 sqft     New Property  Poss. by Dec '25  5 out of 16   \n",
       "4522   2250 sqft     New Property  Poss. by Dec '25  7 out of 13   \n",
       "4523   3450 sqft     New Property     Ready to Move  7 out of 18   \n",
       "4524   4500 sqft     New Property     Ready to Move  3 out of 12   \n",
       "\n",
       "          furnishing        facing  \\\n",
       "0        Unfurnished          West   \n",
       "1        Unfurnished   South -West   \n",
       "2     Semi-Furnished          East   \n",
       "3        Unfurnished          East   \n",
       "4                  2             2   \n",
       "...              ...           ...   \n",
       "4520     Unfurnished  South - East   \n",
       "4521     Unfurnished  South - East   \n",
       "4522     Unfurnished  North - East   \n",
       "4523     Unfurnished  North - West   \n",
       "4524     Unfurnished         North   \n",
       "\n",
       "                                            description    price_per_sqft  \\\n",
       "0     Luxury project with basement parking, Solar ro...  ₹2,891 per sqft    \n",
       "1     2 And 3 BHK Luxurious Flat for Sell In New Alt...  ₹3,551 per sqft    \n",
       "2     This affordable 2 BHK flat is situated along a...  ₹3,800 per sqft    \n",
       "3     2 BHK Flat For sell IN Jahangirabad Prime Loca...  ₹3,966 per sqft    \n",
       "4     Multistorey Apartment for Sale in Palanpur, Su...  ₹3,600 per sqft    \n",
       "...                                                 ...               ...   \n",
       "4520  Check out Millionaires Lifestyle in Vesu, one ...               NaN   \n",
       "4521  Superia is a premium residential project launc...               NaN   \n",
       "4522  When it comes to beautiful homes, nothing beat...               NaN   \n",
       "4523  DRB Ravani Cellestial Dreams in Vesu, Surat is...               NaN   \n",
       "4524  Roongta Green Valley is one of the popular res...               NaN   \n",
       "\n",
       "               price  square_feet_clean  price_clean  \n",
       "0         ₹33.8 Lac               644.0    3380000.0  \n",
       "1         ₹45.4 Lac              1278.0    4540000.0  \n",
       "2         ₹44.6 Lac              1173.0    4460000.0  \n",
       "3           ₹47 Lac               700.0    4700000.0  \n",
       "4           ₹45 Lac              1250.0    4500000.0  \n",
       "...              ...                ...          ...  \n",
       "4520  Call for Price             2000.0          NaN  \n",
       "4521  Call for Price             3600.0          NaN  \n",
       "4522  Call for Price             2250.0          NaN  \n",
       "4523  Call for Price             3450.0          NaN  \n",
       "4524  Call for Price             4500.0          NaN  \n",
       "\n",
       "[4504 rows x 13 columns]"
      ]
     },
     "execution_count": 125,
     "metadata": {},
     "output_type": "execute_result"
    }
   ],
   "source": [
    "df = df[df['square_feet_clean'] < 10000]\n",
    "df"
   ]
  },
  {
   "cell_type": "code",
   "execution_count": 126,
   "id": "abfb2ea8-140a-4aa4-a108-172e2b048fa1",
   "metadata": {},
   "outputs": [
    {
     "data": {
      "image/png": "[encoded data removed]",
      "text/plain": [
       "<Figure size 1000x600 with 1 Axes>"
      ]
     },
     "metadata": {},
     "output_type": "display_data"
    }
   ],
   "source": [
    "plt.figure(figsize=(10, 6))\n",
    "df['square_feet_clean'].plot(kind='hist', bins=30, edgecolor='black')\n",
    "plt.title('Distribution of Cleaned Square Feet (After Removing Outliers)')\n",
    "plt.xlabel('Square Feet')\n",
    "plt.ylabel('Frequency')\n",
    "plt.grid(True)\n",
    "plt.show()\n"
   ]
  },
  {
   "cell_type": "code",
   "execution_count": 127,
   "id": "0b3c95ab-4ed5-44db-9153-0e659fc30ab4",
   "metadata": {},
   "outputs": [
    {
     "name": "stderr",
     "output_type": "stream",
     "text": [
      "<>:1: SyntaxWarning: invalid escape sequence '\\d'\n",
      "<>:1: SyntaxWarning: invalid escape sequence '\\d'\n",
      "C:\\Users\\bbuser\\AppData\\Local\\Temp\\ipykernel_26984\\62437223.py:1: SyntaxWarning: invalid escape sequence '\\d'\n",
      "  df['price_per_sqft'] = df['price_per_sqft'].str.replace('₹', '').str.replace(',', '').str.extract('(\\d+\\.?\\d*)')[0].astype(float)\n",
      "C:\\Users\\bbuser\\AppData\\Local\\Temp\\ipykernel_26984\\62437223.py:1: SettingWithCopyWarning: \n",
      "A value is trying to be set on a copy of a slice from a DataFrame.\n",
      "Try using .loc[row_indexer,col_indexer] = value instead\n",
      "\n",
      "See the caveats in the documentation: https://pandas.pydata.org/pandas-docs/stable/user_guide/indexing.html#returning-a-view-versus-a-copy\n",
      "  df['price_per_sqft'] = df['price_per_sqft'].str.replace('₹', '').str.replace(',', '').str.extract('(\\d+\\.?\\d*)')[0].astype(float)\n"
     ]
    }
   ],
   "source": [
    "df['price_per_sqft'] = df['price_per_sqft'].str.replace('₹', '').str.replace(',', '').str.extract('(\\d+\\.?\\d*)')[0].astype(float)\n"
   ]
  },
  {
   "cell_type": "code",
   "execution_count": 128,
   "id": "2c7615b3-d89e-4880-bbc7-e217428e0061",
   "metadata": {},
   "outputs": [
    {
     "name": "stderr",
     "output_type": "stream",
     "text": [
      "<>:1: SyntaxWarning: invalid escape sequence '\\d'\n",
      "<>:2: SyntaxWarning: invalid escape sequence '\\d'\n",
      "<>:1: SyntaxWarning: invalid escape sequence '\\d'\n",
      "<>:2: SyntaxWarning: invalid escape sequence '\\d'\n",
      "C:\\Users\\bbuser\\AppData\\Local\\Temp\\ipykernel_26984\\2258859930.py:1: SyntaxWarning: invalid escape sequence '\\d'\n",
      "  df['current_floor'] = df['floor'].str.extract('(\\d+)').astype(float)\n",
      "C:\\Users\\bbuser\\AppData\\Local\\Temp\\ipykernel_26984\\2258859930.py:2: SyntaxWarning: invalid escape sequence '\\d'\n",
      "  df['total_floors'] = df['floor'].str.extract('out of (\\d+)').astype(float)\n",
      "C:\\Users\\bbuser\\AppData\\Local\\Temp\\ipykernel_26984\\2258859930.py:1: SettingWithCopyWarning: \n",
      "A value is trying to be set on a copy of a slice from a DataFrame.\n",
      "Try using .loc[row_indexer,col_indexer] = value instead\n",
      "\n",
      "See the caveats in the documentation: https://pandas.pydata.org/pandas-docs/stable/user_guide/indexing.html#returning-a-view-versus-a-copy\n",
      "  df['current_floor'] = df['floor'].str.extract('(\\d+)').astype(float)\n",
      "C:\\Users\\bbuser\\AppData\\Local\\Temp\\ipykernel_26984\\2258859930.py:2: SettingWithCopyWarning: \n",
      "A value is trying to be set on a copy of a slice from a DataFrame.\n",
      "Try using .loc[row_indexer,col_indexer] = value instead\n",
      "\n",
      "See the caveats in the documentation: https://pandas.pydata.org/pandas-docs/stable/user_guide/indexing.html#returning-a-view-versus-a-copy\n",
      "  df['total_floors'] = df['floor'].str.extract('out of (\\d+)').astype(float)\n"
     ]
    }
   ],
   "source": [
    "df['current_floor'] = df['floor'].str.extract('(\\d+)').astype(float)\n",
    "df['total_floors'] = df['floor'].str.extract('out of (\\d+)').astype(float)\n"
   ]
  },
  {
   "cell_type": "code",
   "execution_count": 129,
   "id": "db3bf763-9590-4749-ac16-8abc72a61bf3",
   "metadata": {},
   "outputs": [
    {
     "data": {
      "text/plain": [
       "property_name           0\n",
       "areawithtype            0\n",
       "square_feet             0\n",
       "transaction            89\n",
       "status                  0\n",
       "floor                  33\n",
       "furnishing            323\n",
       "facing                571\n",
       "description          1363\n",
       "price_per_sqft        360\n",
       "price                   0\n",
       "square_feet_clean       0\n",
       "price_clean           171\n",
       "current_floor         821\n",
       "total_floors          860\n",
       "dtype: int64"
      ]
     },
     "execution_count": 129,
     "metadata": {},
     "output_type": "execute_result"
    }
   ],
   "source": [
    "df.isnull().sum()\n"
   ]
  },
  {
   "cell_type": "code",
   "execution_count": 130,
   "id": "d7791c98-a60f-4773-8c62-a609bf588733",
   "metadata": {},
   "outputs": [
    {
     "name": "stderr",
     "output_type": "stream",
     "text": [
      "C:\\Users\\bbuser\\AppData\\Local\\Temp\\ipykernel_26984\\3060377760.py:1: SettingWithCopyWarning: \n",
      "A value is trying to be set on a copy of a slice from a DataFrame.\n",
      "Try using .loc[row_indexer,col_indexer] = value instead\n",
      "\n",
      "See the caveats in the documentation: https://pandas.pydata.org/pandas-docs/stable/user_guide/indexing.html#returning-a-view-versus-a-copy\n",
      "  df['description'] = df['description'].fillna('No description available')\n"
     ]
    }
   ],
   "source": [
    "df['description'] = df['description'].fillna('No description available')\n"
   ]
  },
  {
   "cell_type": "code",
   "execution_count": 131,
   "id": "00356271-4cd0-4f31-940f-35d77755f6f3",
   "metadata": {},
   "outputs": [
    {
     "data": {
      "text/plain": [
       "np.int64(0)"
      ]
     },
     "execution_count": 131,
     "metadata": {},
     "output_type": "execute_result"
    }
   ],
   "source": [
    "df['description'].isnull().sum()  \n"
   ]
  },
  {
   "cell_type": "markdown",
   "id": "5954f0cb-2ebc-4373-b1c0-9da5a50b2aa5",
   "metadata": {},
   "source": [
    "Know to find price_per_sqft we can get it manually by use {mathematical formula} so, wil be ['price_clean' / square_feet_clean ] this function will give me the price_per_sqft"
   ]
  },
  {
   "cell_type": "code",
   "execution_count": 132,
   "id": "d7054595-b1a5-49dc-9f66-28ac3abe1f5f",
   "metadata": {},
   "outputs": [
    {
     "name": "stderr",
     "output_type": "stream",
     "text": [
      "C:\\Users\\bbuser\\AppData\\Local\\Temp\\ipykernel_26984\\3498864581.py:1: SettingWithCopyWarning: \n",
      "A value is trying to be set on a copy of a slice from a DataFrame.\n",
      "Try using .loc[row_indexer,col_indexer] = value instead\n",
      "\n",
      "See the caveats in the documentation: https://pandas.pydata.org/pandas-docs/stable/user_guide/indexing.html#returning-a-view-versus-a-copy\n",
      "  df['price_per_sqft'] = df['price_clean'] / df['square_feet_clean']\n"
     ]
    }
   ],
   "source": [
    "df['price_per_sqft'] = df['price_clean'] / df['square_feet_clean']\n",
    "\n"
   ]
  },
  {
   "cell_type": "code",
   "execution_count": 133,
   "id": "8ac89db6-3e86-4475-976e-dd2aa79b03cc",
   "metadata": {},
   "outputs": [
    {
     "data": {
      "text/plain": [
       "property_name          0\n",
       "areawithtype           0\n",
       "square_feet            0\n",
       "transaction           89\n",
       "status                 0\n",
       "floor                 33\n",
       "furnishing           323\n",
       "facing               571\n",
       "description            0\n",
       "price_per_sqft       171\n",
       "price                  0\n",
       "square_feet_clean      0\n",
       "price_clean          171\n",
       "current_floor        821\n",
       "total_floors         860\n",
       "dtype: int64"
      ]
     },
     "execution_count": 133,
     "metadata": {},
     "output_type": "execute_result"
    }
   ],
   "source": [
    "df.isnull().sum()\n"
   ]
  },
  {
   "cell_type": "code",
   "execution_count": 134,
   "id": "d9212360-a0a5-457c-b580-772feeb62232",
   "metadata": {},
   "outputs": [
    {
     "data": {
      "text/html": [
       "<div>\n",
       "<style scoped>\n",
       "    .dataframe tbody tr th:only-of-type {\n",
       "        vertical-align: middle;\n",
       "    }\n",
       "\n",
       "    .dataframe tbody tr th {\n",
       "        vertical-align: top;\n",
       "    }\n",
       "\n",
       "    .dataframe thead th {\n",
       "        text-align: right;\n",
       "    }\n",
       "</style>\n",
       "<table border=\"1\" class=\"dataframe\">\n",
       "  <thead>\n",
       "    <tr style=\"text-align: right;\">\n",
       "      <th></th>\n",
       "      <th>price</th>\n",
       "    </tr>\n",
       "  </thead>\n",
       "  <tbody>\n",
       "    <tr>\n",
       "      <th>1014</th>\n",
       "      <td>Call for Price</td>\n",
       "    </tr>\n",
       "    <tr>\n",
       "      <th>1015</th>\n",
       "      <td>Call for Price</td>\n",
       "    </tr>\n",
       "    <tr>\n",
       "      <th>1016</th>\n",
       "      <td>Call for Price</td>\n",
       "    </tr>\n",
       "    <tr>\n",
       "      <th>1017</th>\n",
       "      <td>Call for Price</td>\n",
       "    </tr>\n",
       "    <tr>\n",
       "      <th>1018</th>\n",
       "      <td>Call for Price</td>\n",
       "    </tr>\n",
       "    <tr>\n",
       "      <th>...</th>\n",
       "      <td>...</td>\n",
       "    </tr>\n",
       "    <tr>\n",
       "      <th>4520</th>\n",
       "      <td>Call for Price</td>\n",
       "    </tr>\n",
       "    <tr>\n",
       "      <th>4521</th>\n",
       "      <td>Call for Price</td>\n",
       "    </tr>\n",
       "    <tr>\n",
       "      <th>4522</th>\n",
       "      <td>Call for Price</td>\n",
       "    </tr>\n",
       "    <tr>\n",
       "      <th>4523</th>\n",
       "      <td>Call for Price</td>\n",
       "    </tr>\n",
       "    <tr>\n",
       "      <th>4524</th>\n",
       "      <td>Call for Price</td>\n",
       "    </tr>\n",
       "  </tbody>\n",
       "</table>\n",
       "<p>171 rows × 1 columns</p>\n",
       "</div>"
      ],
      "text/plain": [
       "               price\n",
       "1014  Call for Price\n",
       "1015  Call for Price\n",
       "1016  Call for Price\n",
       "1017  Call for Price\n",
       "1018  Call for Price\n",
       "...              ...\n",
       "4520  Call for Price\n",
       "4521  Call for Price\n",
       "4522  Call for Price\n",
       "4523  Call for Price\n",
       "4524  Call for Price\n",
       "\n",
       "[171 rows x 1 columns]"
      ]
     },
     "execution_count": 134,
     "metadata": {},
     "output_type": "execute_result"
    }
   ],
   "source": [
    "df[df['price_clean'].isnull()][['price']]\n",
    "\n"
   ]
  },
  {
   "cell_type": "code",
   "execution_count": 135,
   "id": "3ce1fae1-f15a-442e-bb5b-fb33264a6057",
   "metadata": {},
   "outputs": [
    {
     "name": "stderr",
     "output_type": "stream",
     "text": [
      "C:\\Users\\bbuser\\AppData\\Local\\Temp\\ipykernel_26984\\3541169197.py:1: SettingWithCopyWarning: \n",
      "A value is trying to be set on a copy of a slice from a DataFrame\n",
      "\n",
      "See the caveats in the documentation: https://pandas.pydata.org/pandas-docs/stable/user_guide/indexing.html#returning-a-view-versus-a-copy\n",
      "  df.dropna(subset=['price_clean'], inplace=True)\n"
     ]
    }
   ],
   "source": [
    "df.dropna(subset=['price_clean'], inplace=True)\n"
   ]
  },
  {
   "cell_type": "code",
   "execution_count": 136,
   "id": "f9a3470a-6a9d-4118-9204-73a3879be13a",
   "metadata": {},
   "outputs": [
    {
     "data": {
      "text/plain": [
       "property_name          0\n",
       "areawithtype           0\n",
       "square_feet            0\n",
       "transaction           87\n",
       "status                 0\n",
       "floor                 33\n",
       "furnishing           319\n",
       "facing               558\n",
       "description            0\n",
       "price_per_sqft         0\n",
       "price                  0\n",
       "square_feet_clean      0\n",
       "price_clean            0\n",
       "current_floor        805\n",
       "total_floors         844\n",
       "dtype: int64"
      ]
     },
     "execution_count": 136,
     "metadata": {},
     "output_type": "execute_result"
    }
   ],
   "source": [
    "df.isnull().sum()"
   ]
  },
  {
   "cell_type": "markdown",
   "id": "13cc0665-1684-49d2-ad93-2ebc479d5f55",
   "metadata": {},
   "source": [
    "## Start cleaning transaction column:"
   ]
  },
  {
   "cell_type": "code",
   "execution_count": 137,
   "id": "edf19fdc-7de8-48f4-97d7-fd34ecc0879d",
   "metadata": {},
   "outputs": [
    {
     "data": {
      "text/html": [
       "<div>\n",
       "<style scoped>\n",
       "    .dataframe tbody tr th:only-of-type {\n",
       "        vertical-align: middle;\n",
       "    }\n",
       "\n",
       "    .dataframe tbody tr th {\n",
       "        vertical-align: top;\n",
       "    }\n",
       "\n",
       "    .dataframe thead th {\n",
       "        text-align: right;\n",
       "    }\n",
       "</style>\n",
       "<table border=\"1\" class=\"dataframe\">\n",
       "  <thead>\n",
       "    <tr style=\"text-align: right;\">\n",
       "      <th></th>\n",
       "      <th>property_name</th>\n",
       "      <th>areawithtype</th>\n",
       "      <th>square_feet</th>\n",
       "      <th>transaction</th>\n",
       "      <th>status</th>\n",
       "      <th>floor</th>\n",
       "      <th>furnishing</th>\n",
       "      <th>facing</th>\n",
       "      <th>description</th>\n",
       "      <th>price_per_sqft</th>\n",
       "      <th>price</th>\n",
       "      <th>square_feet_clean</th>\n",
       "      <th>price_clean</th>\n",
       "      <th>current_floor</th>\n",
       "      <th>total_floors</th>\n",
       "    </tr>\n",
       "  </thead>\n",
       "  <tbody>\n",
       "    <tr>\n",
       "      <th>90</th>\n",
       "      <td>Plot/Land for Sale in Bhestan Surat</td>\n",
       "      <td>Plot Area</td>\n",
       "      <td>1040 sqft</td>\n",
       "      <td>NaN</td>\n",
       "      <td>Resale</td>\n",
       "      <td>NaN</td>\n",
       "      <td>NaN</td>\n",
       "      <td>NaN</td>\n",
       "      <td>1040 Sq-ft Residential Plot is available for S...</td>\n",
       "      <td>4711.538462</td>\n",
       "      <td>₹49 Lac</td>\n",
       "      <td>1040.0</td>\n",
       "      <td>4900000.0</td>\n",
       "      <td>NaN</td>\n",
       "      <td>NaN</td>\n",
       "    </tr>\n",
       "    <tr>\n",
       "      <th>124</th>\n",
       "      <td>Industrial Land for Sale in Surat City Surat</td>\n",
       "      <td>Built Area</td>\n",
       "      <td>1318 sqft</td>\n",
       "      <td>NaN</td>\n",
       "      <td>Resale</td>\n",
       "      <td>NaN</td>\n",
       "      <td>NaN</td>\n",
       "      <td>NaN</td>\n",
       "      <td>1318 Sq-ft Industrial Land is available for Sa...</td>\n",
       "      <td>1669.195751</td>\n",
       "      <td>₹22 Lac</td>\n",
       "      <td>1318.0</td>\n",
       "      <td>2200000.0</td>\n",
       "      <td>NaN</td>\n",
       "      <td>NaN</td>\n",
       "    </tr>\n",
       "    <tr>\n",
       "      <th>127</th>\n",
       "      <td>2 BHK Apartment for Sale in Pavitra residency ...</td>\n",
       "      <td>Super Area</td>\n",
       "      <td>1165 sqft</td>\n",
       "      <td>NaN</td>\n",
       "      <td>Ready to Move</td>\n",
       "      <td>Resale</td>\n",
       "      <td>NaN</td>\n",
       "      <td>NaN</td>\n",
       "      <td>2 BHK, Multistorey Apartment is available for ...</td>\n",
       "      <td>2703.862661</td>\n",
       "      <td>₹31.5 Lac</td>\n",
       "      <td>1165.0</td>\n",
       "      <td>3150000.0</td>\n",
       "      <td>NaN</td>\n",
       "      <td>NaN</td>\n",
       "    </tr>\n",
       "    <tr>\n",
       "      <th>131</th>\n",
       "      <td>Industrial Land for Sale in Palsana Surat</td>\n",
       "      <td>Built Area</td>\n",
       "      <td>1978 sqft</td>\n",
       "      <td>NaN</td>\n",
       "      <td>New Property</td>\n",
       "      <td>NaN</td>\n",
       "      <td>NaN</td>\n",
       "      <td>NaN</td>\n",
       "      <td>1. Prime Location at NH 8 , Palsana.2. Easy Tr...</td>\n",
       "      <td>1617.795753</td>\n",
       "      <td>₹32 Lac</td>\n",
       "      <td>1978.0</td>\n",
       "      <td>3200000.0</td>\n",
       "      <td>NaN</td>\n",
       "      <td>NaN</td>\n",
       "    </tr>\n",
       "    <tr>\n",
       "      <th>132</th>\n",
       "      <td>2 BHK  House for Sale in Bardoli Surat</td>\n",
       "      <td>Super Area</td>\n",
       "      <td>1000 sqft</td>\n",
       "      <td>NaN</td>\n",
       "      <td>Resale</td>\n",
       "      <td>NaN</td>\n",
       "      <td>NaN</td>\n",
       "      <td>NaN</td>\n",
       "      <td>This Residential House of total  floors is me...</td>\n",
       "      <td>4500.000000</td>\n",
       "      <td>₹45 Lac</td>\n",
       "      <td>1000.0</td>\n",
       "      <td>4500000.0</td>\n",
       "      <td>NaN</td>\n",
       "      <td>NaN</td>\n",
       "    </tr>\n",
       "    <tr>\n",
       "      <th>...</th>\n",
       "      <td>...</td>\n",
       "      <td>...</td>\n",
       "      <td>...</td>\n",
       "      <td>...</td>\n",
       "      <td>...</td>\n",
       "      <td>...</td>\n",
       "      <td>...</td>\n",
       "      <td>...</td>\n",
       "      <td>...</td>\n",
       "      <td>...</td>\n",
       "      <td>...</td>\n",
       "      <td>...</td>\n",
       "      <td>...</td>\n",
       "      <td>...</td>\n",
       "      <td>...</td>\n",
       "    </tr>\n",
       "    <tr>\n",
       "      <th>3834</th>\n",
       "      <td>Land for Sale in Pasodara Surat</td>\n",
       "      <td>Built Area</td>\n",
       "      <td>5733 sqft</td>\n",
       "      <td>NaN</td>\n",
       "      <td>Resale</td>\n",
       "      <td>NaN</td>\n",
       "      <td>NaN</td>\n",
       "      <td>NaN</td>\n",
       "      <td>No description available</td>\n",
       "      <td>115.122972</td>\n",
       "      <td>₹6.60 Cr</td>\n",
       "      <td>5733.0</td>\n",
       "      <td>660000.0</td>\n",
       "      <td>NaN</td>\n",
       "      <td>NaN</td>\n",
       "    </tr>\n",
       "    <tr>\n",
       "      <th>3850</th>\n",
       "      <td>Industrial Building for Sale in Sachin GIDC S...</td>\n",
       "      <td>Super Area</td>\n",
       "      <td>40 sqm</td>\n",
       "      <td>NaN</td>\n",
       "      <td>Ready to Move</td>\n",
       "      <td>Resale</td>\n",
       "      <td>NaN</td>\n",
       "      <td>NaN</td>\n",
       "      <td>Thoughtfull constructed a 2 storey industrial ...</td>\n",
       "      <td>10875.000000</td>\n",
       "      <td>₹4.35 Cr</td>\n",
       "      <td>40.0</td>\n",
       "      <td>435000.0</td>\n",
       "      <td>NaN</td>\n",
       "      <td>NaN</td>\n",
       "    </tr>\n",
       "    <tr>\n",
       "      <th>3858</th>\n",
       "      <td>Industrial Shed for Sale in Khatodra Wadi Surat</td>\n",
       "      <td>Super Area</td>\n",
       "      <td>1008 sqft</td>\n",
       "      <td>NaN</td>\n",
       "      <td>Ready to Move</td>\n",
       "      <td>Resale</td>\n",
       "      <td>NaN</td>\n",
       "      <td>NaN</td>\n",
       "      <td>No description available</td>\n",
       "      <td>248.015873</td>\n",
       "      <td>₹2.50 Cr</td>\n",
       "      <td>1008.0</td>\n",
       "      <td>250000.0</td>\n",
       "      <td>NaN</td>\n",
       "      <td>NaN</td>\n",
       "    </tr>\n",
       "    <tr>\n",
       "      <th>3914</th>\n",
       "      <td>Plot/Land for Sale in Parley Point Surat</td>\n",
       "      <td>Plot Area</td>\n",
       "      <td>4581 sqft</td>\n",
       "      <td>NaN</td>\n",
       "      <td>Freehold</td>\n",
       "      <td>Resale</td>\n",
       "      <td>NaN</td>\n",
       "      <td>NaN</td>\n",
       "      <td>Available Plot in Sell  at ParlePoint Var - 50...</td>\n",
       "      <td>137.524558</td>\n",
       "      <td>₹6.30 Cr</td>\n",
       "      <td>4581.0</td>\n",
       "      <td>630000.0</td>\n",
       "      <td>NaN</td>\n",
       "      <td>NaN</td>\n",
       "    </tr>\n",
       "    <tr>\n",
       "      <th>4091</th>\n",
       "      <td>Land for Sale in Nanpura Surat</td>\n",
       "      <td>Built Area</td>\n",
       "      <td>1800 sqft</td>\n",
       "      <td>NaN</td>\n",
       "      <td>Resale</td>\n",
       "      <td>NaN</td>\n",
       "      <td>NaN</td>\n",
       "      <td>NaN</td>\n",
       "      <td>business location area</td>\n",
       "      <td>222.222222</td>\n",
       "      <td>₹4 Cr</td>\n",
       "      <td>1800.0</td>\n",
       "      <td>400000.0</td>\n",
       "      <td>NaN</td>\n",
       "      <td>NaN</td>\n",
       "    </tr>\n",
       "  </tbody>\n",
       "</table>\n",
       "<p>87 rows × 15 columns</p>\n",
       "</div>"
      ],
      "text/plain": [
       "                                          property_name areawithtype  \\\n",
       "90                  Plot/Land for Sale in Bhestan Surat    Plot Area   \n",
       "124        Industrial Land for Sale in Surat City Surat   Built Area   \n",
       "127   2 BHK Apartment for Sale in Pavitra residency ...   Super Area   \n",
       "131           Industrial Land for Sale in Palsana Surat   Built Area   \n",
       "132              2 BHK  House for Sale in Bardoli Surat   Super Area   \n",
       "...                                                 ...          ...   \n",
       "3834                    Land for Sale in Pasodara Surat   Built Area   \n",
       "3850   Industrial Building for Sale in Sachin GIDC S...   Super Area   \n",
       "3858    Industrial Shed for Sale in Khatodra Wadi Surat   Super Area   \n",
       "3914           Plot/Land for Sale in Parley Point Surat    Plot Area   \n",
       "4091                     Land for Sale in Nanpura Surat   Built Area   \n",
       "\n",
       "     square_feet transaction         status   floor furnishing facing  \\\n",
       "90     1040 sqft         NaN         Resale     NaN        NaN    NaN   \n",
       "124    1318 sqft         NaN         Resale     NaN        NaN    NaN   \n",
       "127    1165 sqft         NaN  Ready to Move  Resale        NaN    NaN   \n",
       "131    1978 sqft         NaN   New Property     NaN        NaN    NaN   \n",
       "132    1000 sqft         NaN         Resale     NaN        NaN    NaN   \n",
       "...          ...         ...            ...     ...        ...    ...   \n",
       "3834   5733 sqft         NaN         Resale     NaN        NaN    NaN   \n",
       "3850      40 sqm         NaN  Ready to Move  Resale        NaN    NaN   \n",
       "3858   1008 sqft         NaN  Ready to Move  Resale        NaN    NaN   \n",
       "3914   4581 sqft         NaN       Freehold  Resale        NaN    NaN   \n",
       "4091   1800 sqft         NaN         Resale     NaN        NaN    NaN   \n",
       "\n",
       "                                            description  price_per_sqft  \\\n",
       "90    1040 Sq-ft Residential Plot is available for S...     4711.538462   \n",
       "124   1318 Sq-ft Industrial Land is available for Sa...     1669.195751   \n",
       "127   2 BHK, Multistorey Apartment is available for ...     2703.862661   \n",
       "131   1. Prime Location at NH 8 , Palsana.2. Easy Tr...     1617.795753   \n",
       "132    This Residential House of total  floors is me...     4500.000000   \n",
       "...                                                 ...             ...   \n",
       "3834                           No description available      115.122972   \n",
       "3850  Thoughtfull constructed a 2 storey industrial ...    10875.000000   \n",
       "3858                           No description available      248.015873   \n",
       "3914  Available Plot in Sell  at ParlePoint Var - 50...      137.524558   \n",
       "4091                             business location area      222.222222   \n",
       "\n",
       "           price  square_feet_clean  price_clean  current_floor  total_floors  \n",
       "90      ₹49 Lac              1040.0    4900000.0            NaN           NaN  \n",
       "124     ₹22 Lac              1318.0    2200000.0            NaN           NaN  \n",
       "127   ₹31.5 Lac              1165.0    3150000.0            NaN           NaN  \n",
       "131     ₹32 Lac              1978.0    3200000.0            NaN           NaN  \n",
       "132     ₹45 Lac              1000.0    4500000.0            NaN           NaN  \n",
       "...          ...                ...          ...            ...           ...  \n",
       "3834   ₹6.60 Cr              5733.0     660000.0            NaN           NaN  \n",
       "3850   ₹4.35 Cr                40.0     435000.0            NaN           NaN  \n",
       "3858   ₹2.50 Cr              1008.0     250000.0            NaN           NaN  \n",
       "3914   ₹6.30 Cr              4581.0     630000.0            NaN           NaN  \n",
       "4091      ₹4 Cr              1800.0     400000.0            NaN           NaN  \n",
       "\n",
       "[87 rows x 15 columns]"
      ]
     },
     "execution_count": 137,
     "metadata": {},
     "output_type": "execute_result"
    }
   ],
   "source": [
    "df[df['transaction'].isnull()]    "
   ]
  },
  {
   "cell_type": "code",
   "execution_count": 138,
   "id": "e617aaf3-34e7-43a6-a7ec-d9bffd9f6b55",
   "metadata": {},
   "outputs": [
    {
     "name": "stdout",
     "output_type": "stream",
     "text": [
      "['New Property' 'Resale' 'Orchid Fantasia' 'Unfurnished' 'Orchid Gardenia'\n",
      " 'Congo' 'Furnished' nan 'Semi-Furnished' 'Main Road, Garden/Park' '1' '3'\n",
      " '4' 'Yes' 'No' 'Mahavir Nagar' '3 Covered' 'Shagun Residency' '2'\n",
      " 'Main Road' '10 m' 'Soham Elegance' 'Garden/Park' 'Aakash Echo Point'\n",
      " 'Sundaram Residency' '5' 'Jolly Residency' 'Mangalam Heights'\n",
      " 'Green City' 'Pool, Garden/Park, Main Road' '6' 'Co-operative Society'\n",
      " 'Vatsalya Bungalows' '20 Covered,' 'Raghuvir Silverstone' '8 m'\n",
      " 'Casa Rivera']\n"
     ]
    }
   ],
   "source": [
    "print(df['transaction'].unique())\n",
    "\n"
   ]
  },
  {
   "cell_type": "code",
   "execution_count": 139,
   "id": "8194493b-a1cc-4ca3-94f6-116e47325897",
   "metadata": {},
   "outputs": [
    {
     "name": "stderr",
     "output_type": "stream",
     "text": [
      "C:\\Users\\bbuser\\AppData\\Local\\Temp\\ipykernel_26984\\3476557067.py:2: SettingWithCopyWarning: \n",
      "A value is trying to be set on a copy of a slice from a DataFrame.\n",
      "Try using .loc[row_indexer,col_indexer] = value instead\n",
      "\n",
      "See the caveats in the documentation: https://pandas.pydata.org/pandas-docs/stable/user_guide/indexing.html#returning-a-view-versus-a-copy\n",
      "  df['transaction'] = df['transaction'].where(df['transaction'].isin(valid_values))\n",
      "C:\\Users\\bbuser\\AppData\\Local\\Temp\\ipykernel_26984\\3476557067.py:5: SettingWithCopyWarning: \n",
      "A value is trying to be set on a copy of a slice from a DataFrame.\n",
      "Try using .loc[row_indexer,col_indexer] = value instead\n",
      "\n",
      "See the caveats in the documentation: https://pandas.pydata.org/pandas-docs/stable/user_guide/indexing.html#returning-a-view-versus-a-copy\n",
      "  df['transaction'] = df['transaction'].fillna('Unknown')\n"
     ]
    }
   ],
   "source": [
    "valid_values = ['New Property', 'Resale']\n",
    "df['transaction'] = df['transaction'].where(df['transaction'].isin(valid_values))\n",
    "\n",
    "\n",
    "df['transaction'] = df['transaction'].fillna('Unknown')\n"
   ]
  },
  {
   "cell_type": "code",
   "execution_count": 140,
   "id": "bf10ca2b-10e6-469f-99bf-f090ae37f9bb",
   "metadata": {},
   "outputs": [
    {
     "name": "stdout",
     "output_type": "stream",
     "text": [
      "['New Property' 'Resale' 'Unknown']\n"
     ]
    }
   ],
   "source": [
    "print(df['transaction'].unique())"
   ]
  },
  {
   "cell_type": "code",
   "execution_count": 141,
   "id": "2e050782-e7e5-461a-8fcc-3c50d06388cb",
   "metadata": {},
   "outputs": [
    {
     "name": "stderr",
     "output_type": "stream",
     "text": [
      "C:\\Users\\bbuser\\AppData\\Local\\Temp\\ipykernel_26984\\3816162041.py:2: SettingWithCopyWarning: \n",
      "A value is trying to be set on a copy of a slice from a DataFrame.\n",
      "Try using .loc[row_indexer,col_indexer] = value instead\n",
      "\n",
      "See the caveats in the documentation: https://pandas.pydata.org/pandas-docs/stable/user_guide/indexing.html#returning-a-view-versus-a-copy\n",
      "  df['transaction'] = df['transaction'].replace('Unknown', most_common_value)\n"
     ]
    }
   ],
   "source": [
    "most_common_value = df['transaction'][df['transaction'] != 'Unknown'].mode()[0]\n",
    "df['transaction'] = df['transaction'].replace('Unknown', most_common_value)\n"
   ]
  },
  {
   "cell_type": "code",
   "execution_count": 142,
   "id": "085ef564-14a1-49e2-925e-91c27405871a",
   "metadata": {},
   "outputs": [
    {
     "name": "stdout",
     "output_type": "stream",
     "text": [
      "['New Property' 'Resale']\n"
     ]
    }
   ],
   "source": [
    "print(df['transaction'].unique())"
   ]
  },
  {
   "cell_type": "code",
   "execution_count": 143,
   "id": "628b7056-f0b9-40c0-8463-648f745bfb4b",
   "metadata": {},
   "outputs": [
    {
     "data": {
      "text/plain": [
       "property_name          0\n",
       "areawithtype           0\n",
       "square_feet            0\n",
       "transaction            0\n",
       "status                 0\n",
       "floor                 33\n",
       "furnishing           319\n",
       "facing               558\n",
       "description            0\n",
       "price_per_sqft         0\n",
       "price                  0\n",
       "square_feet_clean      0\n",
       "price_clean            0\n",
       "current_floor        805\n",
       "total_floors         844\n",
       "dtype: int64"
      ]
     },
     "execution_count": 143,
     "metadata": {},
     "output_type": "execute_result"
    }
   ],
   "source": [
    "df.isnull().sum()"
   ]
  },
  {
   "cell_type": "markdown",
   "id": "ae98a68d-da57-439b-84b3-9d58179beb07",
   "metadata": {},
   "source": [
    "## moving to clean floor column:\n"
   ]
  },
  {
   "cell_type": "code",
   "execution_count": 144,
   "id": "187e9697-1341-4c77-8441-7d108d4b6e90",
   "metadata": {},
   "outputs": [
    {
     "name": "stderr",
     "output_type": "stream",
     "text": [
      "C:\\Users\\bbuser\\AppData\\Local\\Temp\\ipykernel_26984\\2350454631.py:3: FutureWarning: A value is trying to be set on a copy of a DataFrame or Series through chained assignment using an inplace method.\n",
      "The behavior will change in pandas 3.0. This inplace method will never work because the intermediate object on which we are setting values always behaves as a copy.\n",
      "\n",
      "For example, when doing 'df[col].method(value, inplace=True)', try using 'df.method({col: value}, inplace=True)' or df[col] = df[col].method(value) instead, to perform the operation inplace on the original object.\n",
      "\n",
      "\n",
      "  df['floor'].fillna(most_common_floor, inplace=True)\n",
      "C:\\Users\\bbuser\\AppData\\Local\\Temp\\ipykernel_26984\\2350454631.py:3: SettingWithCopyWarning: \n",
      "A value is trying to be set on a copy of a slice from a DataFrame\n",
      "\n",
      "See the caveats in the documentation: https://pandas.pydata.org/pandas-docs/stable/user_guide/indexing.html#returning-a-view-versus-a-copy\n",
      "  df['floor'].fillna(most_common_floor, inplace=True)\n"
     ]
    }
   ],
   "source": [
    "most_common_floor = df['floor'].mode()[0]\n",
    "\n",
    "df['floor'].fillna(most_common_floor, inplace=True)\n"
   ]
  },
  {
   "cell_type": "code",
   "execution_count": 145,
   "id": "82134188-b76b-4d53-bfcc-5c075df62114",
   "metadata": {},
   "outputs": [
    {
     "data": {
      "text/plain": [
       "property_name          0\n",
       "areawithtype           0\n",
       "square_feet            0\n",
       "transaction            0\n",
       "status                 0\n",
       "floor                  0\n",
       "furnishing           319\n",
       "facing               558\n",
       "description            0\n",
       "price_per_sqft         0\n",
       "price                  0\n",
       "square_feet_clean      0\n",
       "price_clean            0\n",
       "current_floor        805\n",
       "total_floors         844\n",
       "dtype: int64"
      ]
     },
     "execution_count": 145,
     "metadata": {},
     "output_type": "execute_result"
    }
   ],
   "source": [
    "df.isnull().sum()"
   ]
  },
  {
   "cell_type": "markdown",
   "id": "6cde937d-9886-4744-9d8b-7212b8b362ab",
   "metadata": {},
   "source": [
    "## moving to clean furnishing column:"
   ]
  },
  {
   "cell_type": "code",
   "execution_count": 146,
   "id": "ff6b68ed-fae1-49a3-ab7f-51f63752ae75",
   "metadata": {},
   "outputs": [
    {
     "name": "stdout",
     "output_type": "stream",
     "text": [
      "['Unfurnished' 'Semi-Furnished' '2' 'Anand Aspire' 'East' '1' 'Furnished'\n",
      " nan '3' '1 Covered,' '2 Covered' '1 Covered' 'Freehold' 'West'\n",
      " '26 Covered' 'Main Road' 'No' 'North' '1 Open' '6' 'Co-operative Society'\n",
      " '> 10' '4' 'Nilkanth Seven Homes' 'Aagam Navkar' '10 Open'\n",
      " 'Vinayak Enclave' '5 Covered,' 'South -West'\n",
      " 'Pool, Garden/Park, Main Road' 'Garden/Park, Main Road' '7 m' '30 m'\n",
      " '50 Covered,' 'South' '12 m' 'Yes' 'Gruham Luxuria' '2 Covered,' 'Congo'\n",
      " 'North - East' 'Vaishnodevi Ideal Homes' 'Santvan Lexon'\n",
      " 'Sangini Epitome' '100 Covered' 'Nirvana Gladiolus' '7' '5 Covered' '5'\n",
      " 'Raghuvir Spalex' '50 Open' 'South - East' 'North - West' '20 m'\n",
      " '20 Open' 'Garden/Park' '10 m' 'Sattvam' 'Pramukh Amaya' 'Sun Sarvam'\n",
      " '3 Covered' '2 Open' '6 m' 'Avadh Kimberly' 'Happy Glorious'\n",
      " 'Freedom Tower' '15 m' 'Surya Signature' 'Someshwara Enclave'\n",
      " 'Green Valley Row House' 'Green Valley' 'Vatsalya Bungalows'\n",
      " '10 Covered,' 'Ambience' 'Milestone Pristine' 'Bblossom The Presidency']\n"
     ]
    }
   ],
   "source": [
    "print(df['furnishing'].unique())"
   ]
  },
  {
   "cell_type": "code",
   "execution_count": 147,
   "id": "99d652cf-fc88-4298-93b5-ac44068e3d58",
   "metadata": {},
   "outputs": [
    {
     "name": "stderr",
     "output_type": "stream",
     "text": [
      "C:\\Users\\bbuser\\AppData\\Local\\Temp\\ipykernel_26984\\1529154491.py:1: SettingWithCopyWarning: \n",
      "A value is trying to be set on a copy of a slice from a DataFrame.\n",
      "Try using .loc[row_indexer,col_indexer] = value instead\n",
      "\n",
      "See the caveats in the documentation: https://pandas.pydata.org/pandas-docs/stable/user_guide/indexing.html#returning-a-view-versus-a-copy\n",
      "  df['furnishing'] = df['furnishing'].astype(str).str.strip().str.title()\n",
      "C:\\Users\\bbuser\\AppData\\Local\\Temp\\ipykernel_26984\\1529154491.py:8: FutureWarning: A value is trying to be set on a copy of a DataFrame or Series through chained assignment using an inplace method.\n",
      "The behavior will change in pandas 3.0. This inplace method will never work because the intermediate object on which we are setting values always behaves as a copy.\n",
      "\n",
      "For example, when doing 'df[col].method(value, inplace=True)', try using 'df.method({col: value}, inplace=True)' or df[col] = df[col].method(value) instead, to perform the operation inplace on the original object.\n",
      "\n",
      "\n",
      "  df['furnishing'].fillna(most_common_furnishing, inplace=True)\n",
      "C:\\Users\\bbuser\\AppData\\Local\\Temp\\ipykernel_26984\\1529154491.py:8: SettingWithCopyWarning: \n",
      "A value is trying to be set on a copy of a slice from a DataFrame\n",
      "\n",
      "See the caveats in the documentation: https://pandas.pydata.org/pandas-docs/stable/user_guide/indexing.html#returning-a-view-versus-a-copy\n",
      "  df['furnishing'].fillna(most_common_furnishing, inplace=True)\n"
     ]
    }
   ],
   "source": [
    "df['furnishing'] = df['furnishing'].astype(str).str.strip().str.title()\n",
    "\n",
    "valid_furnishing = ['Furnished', 'Unfurnished', 'Semi-Furnished']\n",
    "\n",
    "df.loc[~df['furnishing'].isin(valid_furnishing), 'furnishing'] = np.nan\n",
    "\n",
    "most_common_furnishing = df['furnishing'].mode()[0]\n",
    "df['furnishing'].fillna(most_common_furnishing, inplace=True)\n"
   ]
  },
  {
   "cell_type": "code",
   "execution_count": 148,
   "id": "4e3910f3-686f-49e0-89a1-bb9dbda8976a",
   "metadata": {},
   "outputs": [
    {
     "name": "stdout",
     "output_type": "stream",
     "text": [
      "furnishing\n",
      "Unfurnished       3432\n",
      "Semi-Furnished     454\n",
      "Furnished          447\n",
      "Name: count, dtype: int64\n"
     ]
    }
   ],
   "source": [
    "print(df['furnishing'].value_counts())\n",
    "\n"
   ]
  },
  {
   "cell_type": "code",
   "execution_count": 149,
   "id": "68be4167-a154-42a7-b6a7-cd7dd69757d8",
   "metadata": {},
   "outputs": [
    {
     "data": {
      "text/plain": [
       "np.int64(0)"
      ]
     },
     "execution_count": 149,
     "metadata": {},
     "output_type": "execute_result"
    }
   ],
   "source": [
    "df['furnishing'].isnull().sum()"
   ]
  },
  {
   "cell_type": "markdown",
   "id": "382ee136-515e-4b07-aa4b-47a3f323aaae",
   "metadata": {},
   "source": [
    "## moving to clean facing column:"
   ]
  },
  {
   "cell_type": "code",
   "execution_count": 150,
   "id": "56cef2d9-ca23-47a1-9c58-40d7362b2af0",
   "metadata": {},
   "outputs": [
    {
     "name": "stdout",
     "output_type": "stream",
     "text": [
      "['West' 'South -West' 'East' '2' 'Main Road' nan 'North - East'\n",
      " 'South - East' '1' 'Freehold' 'Garden/Park' '3' 'North - West' 'South'\n",
      " '6' 'Co-operative Society' 'Garden/Park, Main Road' '1 Covered' 'No'\n",
      " '30 m' 'North' 'Varni Siddheshwar Heights' '5' 'Salasar Icon'\n",
      " 'Green Valley' 'Shyam enclave' 'Rajhans Platinum' 'Vitthal Bunglows'\n",
      " '1 Open' 'Royal Nest' 'Rajhans Wings' '2 Open'\n",
      " 'Gordhan Green Valley Mangalam Park Bldg S' 'Apt Swaminagar Society'\n",
      " 'Swagat Clifton' 'Akash' 'Green Arcade Phase 1 And 2' 'Satyam Tower' '4'\n",
      " 'Suryanjali Residency' 'GHB Mukhya Mantri Gruh Yojana' 'Vibrant Eco Park'\n",
      " 'Madhav Residency' 'Shiv Drashti Residency' 'Gruham Luxuria'\n",
      " 'SHANKHESHWER COMPLAX' 'JT Stuti Highland' 'Times Galaxy' '100 m'\n",
      " 'Savani Prayosha Pride' 'Shayona Janki Residency' 'Sundaram Residency'\n",
      " '6 m' 'Silicon Palm' 'Raj Abhishek City Homes' 'Dhvani Royal Residency'\n",
      " 'Residency' 'Pan Sharanam' 'Gruham Royal Park' 'Rajhans Swapna'\n",
      " 'Panchtatva Residency' 'Manvay Residency' 'Prayosha Shine' 'Yes'\n",
      " 'Swapna Villa 2 Phase 2' 'Green City' 'Rajhans Apple' 'Sai Residency'\n",
      " 'Anjani Enclave' 'Shakuntal Complex' '2 Covered' 'Galaxy Imperia'\n",
      " 'Pool, Garden/Park, Main Road' 'Silver Plaza Complex' 'Swami Twin City 5'\n",
      " 'Majura Gate Surat' 'Orchid Greens' 'Aditya Vrundavan Heights' 'Pool'\n",
      " '900 m' 'Vaishnodevi Amour Jahagirabad' 'Shantam Apartment'\n",
      " 'Siddhi Vinayak Green' '20 m' 'Ambika Heaven' '10 m' '25 m'\n",
      " 'Amber Palace' '1 Covered,' 'Vaishnodevi Ideal Homes' '7 m'\n",
      " '45 X 14 ft Sqft' 'Santvan Lexon' 'Atlanta Sky Desk' 'Nakshatra Platinum'\n",
      " 'Siddhi Vinayak Heights' 'Coral Heights' 'Aakash Homes' 'Nandini 3'\n",
      " 'Sundaram Status' 'Happy Elegance' 'Dream World Residency'\n",
      " 'Raghuvir Saffron' 'Vasant Vihar Township' 'Kalpavruksha Garden'\n",
      " 'Ashirwad Enclave' 'Jolly Residency' '9' 'Stylome Heights'\n",
      " 'Marvella Residency' 'Meera Avenue' 'Garden/Park, Pool' 'Rajhans Orange'\n",
      " 'Rajhans Synfonia' 'Sat Aria' 'Lake Castle' 'Raghuvir Sentosa Heights'\n",
      " 'Shalibhadra Complex' 'Shiv Shrungal Solitaire' 'Sangini Gardenia'\n",
      " 'Green Leaf' 'Pooja Aagam Cross Roads' '7' 'Nakshatra Nebula'\n",
      " 'Peak Living' 'Prasidhi Apartment' 'Nandini 1' 'Soham Residency'\n",
      " 'Shreepad Ethics' '15 m' '12 m' 'Eco Parkside'\n",
      " 'Garden/Park, Pool, Main Road' '2 m' 'Santvan Seron' 'Nakshatra Galaxia'\n",
      " '150 m' 'Oliva Height' 'Mahaveer Nagar' '4 m' 'Shreepad Infinia'\n",
      " 'Bilvam Regency' 'Palladium Sky' '3 Covered' 'Prestige manor'\n",
      " 'Green City Gold' 'Meera Park' 'Aagam Paramount' 'Sumeru Golden Leaf'\n",
      " 'Avadh Shangrila' '45 X' 'Rajhans Cremona' 'Atithi Western Oasis'\n",
      " 'Harmony' 'Cellestial Dreams' 'Nandanvan III' 'aventis ofira'\n",
      " 'Samarth Enclave' 'Happy Home Capital Greens' 'Shaligram The Emerald'\n",
      " '135 X' '131 X' 'Vesu Point' '8 m' '1 m' 'Power Of Attorney' '20275 m']\n"
     ]
    }
   ],
   "source": [
    "print(df['facing'].unique())"
   ]
  },
  {
   "cell_type": "code",
   "execution_count": 151,
   "id": "ae17e0be-a493-44bd-81c3-fbe826745da3",
   "metadata": {},
   "outputs": [
    {
     "name": "stderr",
     "output_type": "stream",
     "text": [
      "C:\\Users\\bbuser\\AppData\\Local\\Temp\\ipykernel_26984\\936515865.py:5: SettingWithCopyWarning: \n",
      "A value is trying to be set on a copy of a slice from a DataFrame.\n",
      "Try using .loc[row_indexer,col_indexer] = value instead\n",
      "\n",
      "See the caveats in the documentation: https://pandas.pydata.org/pandas-docs/stable/user_guide/indexing.html#returning-a-view-versus-a-copy\n",
      "  df['facing'] = df['facing'].astype(str).str.strip().str.title()\n",
      "C:\\Users\\bbuser\\AppData\\Local\\Temp\\ipykernel_26984\\936515865.py:11: FutureWarning: A value is trying to be set on a copy of a DataFrame or Series through chained assignment using an inplace method.\n",
      "The behavior will change in pandas 3.0. This inplace method will never work because the intermediate object on which we are setting values always behaves as a copy.\n",
      "\n",
      "For example, when doing 'df[col].method(value, inplace=True)', try using 'df.method({col: value}, inplace=True)' or df[col] = df[col].method(value) instead, to perform the operation inplace on the original object.\n",
      "\n",
      "\n",
      "  df['facing'].fillna(most_common_facing, inplace=True)\n",
      "C:\\Users\\bbuser\\AppData\\Local\\Temp\\ipykernel_26984\\936515865.py:11: SettingWithCopyWarning: \n",
      "A value is trying to be set on a copy of a slice from a DataFrame\n",
      "\n",
      "See the caveats in the documentation: https://pandas.pydata.org/pandas-docs/stable/user_guide/indexing.html#returning-a-view-versus-a-copy\n",
      "  df['facing'].fillna(most_common_facing, inplace=True)\n"
     ]
    }
   ],
   "source": [
    "valid_facings = [\n",
    "    'East', 'West', 'North', 'South',\n",
    "    'North-East', 'North-West', 'South-East', 'South-West'\n",
    "]\n",
    "df['facing'] = df['facing'].astype(str).str.strip().str.title()\n",
    "\n",
    "\n",
    "df.loc[~df['facing'].isin(valid_facings), 'facing'] = np.nan\n",
    "\n",
    "most_common_facing = df['facing'].mode()[0]\n",
    "df['facing'].fillna(most_common_facing, inplace=True)\n"
   ]
  },
  {
   "cell_type": "code",
   "execution_count": 152,
   "id": "47f57cfb-f519-4e0e-af63-b907912d5585",
   "metadata": {},
   "outputs": [
    {
     "name": "stdout",
     "output_type": "stream",
     "text": [
      "facing\n",
      "East     4117\n",
      "North      94\n",
      "West       86\n",
      "South      36\n",
      "Name: count, dtype: int64\n"
     ]
    }
   ],
   "source": [
    "print(df['facing'].value_counts())\n",
    "\n"
   ]
  },
  {
   "cell_type": "code",
   "execution_count": 153,
   "id": "03be9124-7afb-467e-a535-ee5bdfb44d67",
   "metadata": {},
   "outputs": [
    {
     "data": {
      "text/plain": [
       "np.int64(0)"
      ]
     },
     "execution_count": 153,
     "metadata": {},
     "output_type": "execute_result"
    }
   ],
   "source": [
    "df['facing'].isnull().sum()"
   ]
  },
  {
   "cell_type": "code",
   "execution_count": 154,
   "id": "ccf58b26-e72f-40bb-9f0d-6614f79bfea2",
   "metadata": {},
   "outputs": [
    {
     "data": {
      "text/plain": [
       "property_name          0\n",
       "areawithtype           0\n",
       "square_feet            0\n",
       "transaction            0\n",
       "status                 0\n",
       "floor                  0\n",
       "furnishing             0\n",
       "facing                 0\n",
       "description            0\n",
       "price_per_sqft         0\n",
       "price                  0\n",
       "square_feet_clean      0\n",
       "price_clean            0\n",
       "current_floor        805\n",
       "total_floors         844\n",
       "dtype: int64"
      ]
     },
     "execution_count": 154,
     "metadata": {},
     "output_type": "execute_result"
    }
   ],
   "source": [
    "df.isnull().sum()\n"
   ]
  },
  {
   "cell_type": "code",
   "execution_count": 155,
   "id": "9b615ba5-6678-460f-8525-a03521a397c6",
   "metadata": {},
   "outputs": [
    {
     "name": "stderr",
     "output_type": "stream",
     "text": [
      "C:\\Users\\bbuser\\AppData\\Local\\Temp\\ipykernel_26984\\2027577876.py:1: SettingWithCopyWarning: \n",
      "A value is trying to be set on a copy of a slice from a DataFrame\n",
      "\n",
      "See the caveats in the documentation: https://pandas.pydata.org/pandas-docs/stable/user_guide/indexing.html#returning-a-view-versus-a-copy\n",
      "  df.drop(columns=['current_floor', 'total_floors'], inplace=True)\n"
     ]
    }
   ],
   "source": [
    "df.drop(columns=['current_floor', 'total_floors'], inplace=True)\n"
   ]
  },
  {
   "cell_type": "code",
   "execution_count": 156,
   "id": "d3ecf996-95d7-4e29-98c4-7c7051e87234",
   "metadata": {},
   "outputs": [
    {
     "data": {
      "text/plain": [
       "Index(['property_name', 'areawithtype', 'square_feet', 'transaction', 'status',\n",
       "       'floor', 'furnishing', 'facing', 'description', 'price_per_sqft',\n",
       "       'price', 'square_feet_clean', 'price_clean'],\n",
       "      dtype='object')"
      ]
     },
     "execution_count": 156,
     "metadata": {},
     "output_type": "execute_result"
    }
   ],
   "source": [
    "df.columns"
   ]
  },
  {
   "cell_type": "code",
   "execution_count": 157,
   "id": "bdd20064-6f5b-4c20-a48d-27a5757103e4",
   "metadata": {},
   "outputs": [
    {
     "data": {
      "text/plain": [
       "property_name        0\n",
       "areawithtype         0\n",
       "square_feet          0\n",
       "transaction          0\n",
       "status               0\n",
       "floor                0\n",
       "furnishing           0\n",
       "facing               0\n",
       "description          0\n",
       "price_per_sqft       0\n",
       "price                0\n",
       "square_feet_clean    0\n",
       "price_clean          0\n",
       "dtype: int64"
      ]
     },
     "execution_count": 157,
     "metadata": {},
     "output_type": "execute_result"
    }
   ],
   "source": [
    "df.isnull().sum()"
   ]
  },
  {
   "cell_type": "code",
   "execution_count": null,
   "id": "0b6c83c9-a421-4dd1-9871-4c8a18f07106",
   "metadata": {},
   "outputs": [],
   "source": [
    "\n"
   ]
  },
  {
   "cell_type": "code",
   "execution_count": 158,
   "id": "5c68e8fc-590a-4a61-be6d-11c6db83dd50",
   "metadata": {},
   "outputs": [
    {
     "name": "stdout",
     "output_type": "stream",
     "text": [
      "MSE: 1659406097643.5076\n",
      "R²: 0.8159594952365229\n"
     ]
    }
   ],
   "source": [
    "df_encoded = pd.get_dummies(df, drop_first=True)\n",
    "\n",
    "\n",
    "X = df_encoded.drop('price_clean', axis=1)\n",
    "y = df_encoded['price_clean']\n",
    "\n",
    "\n",
    "from sklearn.model_selection import train_test_split\n",
    "X_train, X_test, y_train, y_test = train_test_split(X, y, test_size=0.2, random_state=42)\n",
    "\n",
    "\n",
    "from sklearn.linear_model import LinearRegression\n",
    "model = LinearRegression()\n",
    "model.fit(X_train, y_train)\n",
    "\n",
    "\n",
    "y_pred = model.predict(X_test)\n",
    "\n",
    "\n",
    "from sklearn.metrics import mean_squared_error, r2_score\n",
    "print(\"MSE:\", mean_squared_error(y_test, y_pred))\n",
    "print(\"R²:\", r2_score(y_test, y_pred))\n"
   ]
  },
  {
   "cell_type": "code",
   "execution_count": 159,
   "id": "3a8e349f-58fd-4a2f-91d4-43e91e3653a4",
   "metadata": {},
   "outputs": [],
   "source": [
    "df = df.drop([ 'description'], axis=1)"
   ]
  },
  {
   "cell_type": "code",
   "execution_count": 160,
   "id": "6ac54b2f-4520-43a0-91fe-c05abb3b0368",
   "metadata": {},
   "outputs": [
    {
     "data": {
      "text/plain": [
       "Index(['property_name', 'areawithtype', 'square_feet', 'transaction', 'status',\n",
       "       'floor', 'furnishing', 'facing', 'price_per_sqft', 'price',\n",
       "       'square_feet_clean', 'price_clean'],\n",
       "      dtype='object')"
      ]
     },
     "execution_count": 160,
     "metadata": {},
     "output_type": "execute_result"
    }
   ],
   "source": [
    "df.columns"
   ]
  },
  {
   "cell_type": "code",
   "execution_count": null,
   "id": "a1a01225-55fd-446c-af28-abbc1986dd35",
   "metadata": {},
   "outputs": [],
   "source": []
  }
 ],
 "metadata": {
  "kernelspec": {
   "display_name": "Python 3 (ipykernel)",
   "language": "python",
   "name": "python3"
  },
  "language_info": {
   "codemirror_mode": {
    "name": "ipython",
    "version": 3
   },
   "file_extension": ".py",
   "mimetype": "text/x-python",
   "name": "python",
   "nbconvert_exporter": "python",
   "pygments_lexer": "ipython3",
   "version": "3.13.3"
  }
 },
 "nbformat": 4,
 "nbformat_minor": 5
}
