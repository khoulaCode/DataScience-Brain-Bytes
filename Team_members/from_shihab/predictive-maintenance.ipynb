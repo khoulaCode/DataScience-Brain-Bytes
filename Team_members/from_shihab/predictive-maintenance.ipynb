{
 "cells": [
  {
   "cell_type": "code",
   "execution_count": 2,
   "id": "979390a7-5ef0-4627-93e6-6361e7d2cb90",
   "metadata": {},
   "outputs": [],
   "source": [
    "import os\n",
    "import numpy as np\n",
    "import pandas as pd\n",
    "import matplotlib.pyplot as plt"
   ]
  },
  {
   "cell_type": "code",
   "execution_count": 2,
   "id": "aae1d1bb-15ca-409c-831b-d96e500d59d6",
   "metadata": {},
   "outputs": [],
   "source": [
    "data_path = \"Data/ai4i2020.csv\"\n",
    "df = pd.read_csv(data_path)"
   ]
  },
  {
   "cell_type": "code",
   "execution_count": 3,
   "id": "3e9f7698-c43e-4d2f-84b9-c249aea95916",
   "metadata": {},
   "outputs": [
    {
     "data": {
      "text/html": [
       "<div>\n",
       "<style scoped>\n",
       "    .dataframe tbody tr th:only-of-type {\n",
       "        vertical-align: middle;\n",
       "    }\n",
       "\n",
       "    .dataframe tbody tr th {\n",
       "        vertical-align: top;\n",
       "    }\n",
       "\n",
       "    .dataframe thead th {\n",
       "        text-align: right;\n",
       "    }\n",
       "</style>\n",
       "<table border=\"1\" class=\"dataframe\">\n",
       "  <thead>\n",
       "    <tr style=\"text-align: right;\">\n",
       "      <th></th>\n",
       "      <th>UDI</th>\n",
       "      <th>Product ID</th>\n",
       "      <th>Type</th>\n",
       "      <th>Air temperature [K]</th>\n",
       "      <th>Process temperature [K]</th>\n",
       "      <th>Rotational speed [rpm]</th>\n",
       "      <th>Torque [Nm]</th>\n",
       "      <th>Tool wear [min]</th>\n",
       "      <th>Machine failure</th>\n",
       "      <th>TWF</th>\n",
       "      <th>HDF</th>\n",
       "      <th>PWF</th>\n",
       "      <th>OSF</th>\n",
       "      <th>RNF</th>\n",
       "    </tr>\n",
       "  </thead>\n",
       "  <tbody>\n",
       "    <tr>\n",
       "      <th>0</th>\n",
       "      <td>1</td>\n",
       "      <td>M14860</td>\n",
       "      <td>M</td>\n",
       "      <td>298.1</td>\n",
       "      <td>308.6</td>\n",
       "      <td>1551</td>\n",
       "      <td>42.8</td>\n",
       "      <td>0</td>\n",
       "      <td>0</td>\n",
       "      <td>0</td>\n",
       "      <td>0</td>\n",
       "      <td>0</td>\n",
       "      <td>0</td>\n",
       "      <td>0</td>\n",
       "    </tr>\n",
       "    <tr>\n",
       "      <th>1</th>\n",
       "      <td>2</td>\n",
       "      <td>L47181</td>\n",
       "      <td>L</td>\n",
       "      <td>298.2</td>\n",
       "      <td>308.7</td>\n",
       "      <td>1408</td>\n",
       "      <td>46.3</td>\n",
       "      <td>3</td>\n",
       "      <td>0</td>\n",
       "      <td>0</td>\n",
       "      <td>0</td>\n",
       "      <td>0</td>\n",
       "      <td>0</td>\n",
       "      <td>0</td>\n",
       "    </tr>\n",
       "    <tr>\n",
       "      <th>2</th>\n",
       "      <td>3</td>\n",
       "      <td>L47182</td>\n",
       "      <td>L</td>\n",
       "      <td>298.1</td>\n",
       "      <td>308.5</td>\n",
       "      <td>1498</td>\n",
       "      <td>49.4</td>\n",
       "      <td>5</td>\n",
       "      <td>0</td>\n",
       "      <td>0</td>\n",
       "      <td>0</td>\n",
       "      <td>0</td>\n",
       "      <td>0</td>\n",
       "      <td>0</td>\n",
       "    </tr>\n",
       "    <tr>\n",
       "      <th>3</th>\n",
       "      <td>4</td>\n",
       "      <td>L47183</td>\n",
       "      <td>L</td>\n",
       "      <td>298.2</td>\n",
       "      <td>308.6</td>\n",
       "      <td>1433</td>\n",
       "      <td>39.5</td>\n",
       "      <td>7</td>\n",
       "      <td>0</td>\n",
       "      <td>0</td>\n",
       "      <td>0</td>\n",
       "      <td>0</td>\n",
       "      <td>0</td>\n",
       "      <td>0</td>\n",
       "    </tr>\n",
       "    <tr>\n",
       "      <th>4</th>\n",
       "      <td>5</td>\n",
       "      <td>L47184</td>\n",
       "      <td>L</td>\n",
       "      <td>298.2</td>\n",
       "      <td>308.7</td>\n",
       "      <td>1408</td>\n",
       "      <td>40.0</td>\n",
       "      <td>9</td>\n",
       "      <td>0</td>\n",
       "      <td>0</td>\n",
       "      <td>0</td>\n",
       "      <td>0</td>\n",
       "      <td>0</td>\n",
       "      <td>0</td>\n",
       "    </tr>\n",
       "    <tr>\n",
       "      <th>...</th>\n",
       "      <td>...</td>\n",
       "      <td>...</td>\n",
       "      <td>...</td>\n",
       "      <td>...</td>\n",
       "      <td>...</td>\n",
       "      <td>...</td>\n",
       "      <td>...</td>\n",
       "      <td>...</td>\n",
       "      <td>...</td>\n",
       "      <td>...</td>\n",
       "      <td>...</td>\n",
       "      <td>...</td>\n",
       "      <td>...</td>\n",
       "      <td>...</td>\n",
       "    </tr>\n",
       "    <tr>\n",
       "      <th>9995</th>\n",
       "      <td>9996</td>\n",
       "      <td>M24855</td>\n",
       "      <td>M</td>\n",
       "      <td>298.8</td>\n",
       "      <td>308.4</td>\n",
       "      <td>1604</td>\n",
       "      <td>29.5</td>\n",
       "      <td>14</td>\n",
       "      <td>0</td>\n",
       "      <td>0</td>\n",
       "      <td>0</td>\n",
       "      <td>0</td>\n",
       "      <td>0</td>\n",
       "      <td>0</td>\n",
       "    </tr>\n",
       "    <tr>\n",
       "      <th>9996</th>\n",
       "      <td>9997</td>\n",
       "      <td>H39410</td>\n",
       "      <td>H</td>\n",
       "      <td>298.9</td>\n",
       "      <td>308.4</td>\n",
       "      <td>1632</td>\n",
       "      <td>31.8</td>\n",
       "      <td>17</td>\n",
       "      <td>0</td>\n",
       "      <td>0</td>\n",
       "      <td>0</td>\n",
       "      <td>0</td>\n",
       "      <td>0</td>\n",
       "      <td>0</td>\n",
       "    </tr>\n",
       "    <tr>\n",
       "      <th>9997</th>\n",
       "      <td>9998</td>\n",
       "      <td>M24857</td>\n",
       "      <td>M</td>\n",
       "      <td>299.0</td>\n",
       "      <td>308.6</td>\n",
       "      <td>1645</td>\n",
       "      <td>33.4</td>\n",
       "      <td>22</td>\n",
       "      <td>0</td>\n",
       "      <td>0</td>\n",
       "      <td>0</td>\n",
       "      <td>0</td>\n",
       "      <td>0</td>\n",
       "      <td>0</td>\n",
       "    </tr>\n",
       "    <tr>\n",
       "      <th>9998</th>\n",
       "      <td>9999</td>\n",
       "      <td>H39412</td>\n",
       "      <td>H</td>\n",
       "      <td>299.0</td>\n",
       "      <td>308.7</td>\n",
       "      <td>1408</td>\n",
       "      <td>48.5</td>\n",
       "      <td>25</td>\n",
       "      <td>0</td>\n",
       "      <td>0</td>\n",
       "      <td>0</td>\n",
       "      <td>0</td>\n",
       "      <td>0</td>\n",
       "      <td>0</td>\n",
       "    </tr>\n",
       "    <tr>\n",
       "      <th>9999</th>\n",
       "      <td>10000</td>\n",
       "      <td>M24859</td>\n",
       "      <td>M</td>\n",
       "      <td>299.0</td>\n",
       "      <td>308.7</td>\n",
       "      <td>1500</td>\n",
       "      <td>40.2</td>\n",
       "      <td>30</td>\n",
       "      <td>0</td>\n",
       "      <td>0</td>\n",
       "      <td>0</td>\n",
       "      <td>0</td>\n",
       "      <td>0</td>\n",
       "      <td>0</td>\n",
       "    </tr>\n",
       "  </tbody>\n",
       "</table>\n",
       "<p>10000 rows × 14 columns</p>\n",
       "</div>"
      ],
      "text/plain": [
       "        UDI Product ID Type  Air temperature [K]  Process temperature [K]  \\\n",
       "0         1     M14860    M                298.1                    308.6   \n",
       "1         2     L47181    L                298.2                    308.7   \n",
       "2         3     L47182    L                298.1                    308.5   \n",
       "3         4     L47183    L                298.2                    308.6   \n",
       "4         5     L47184    L                298.2                    308.7   \n",
       "...     ...        ...  ...                  ...                      ...   \n",
       "9995   9996     M24855    M                298.8                    308.4   \n",
       "9996   9997     H39410    H                298.9                    308.4   \n",
       "9997   9998     M24857    M                299.0                    308.6   \n",
       "9998   9999     H39412    H                299.0                    308.7   \n",
       "9999  10000     M24859    M                299.0                    308.7   \n",
       "\n",
       "      Rotational speed [rpm]  Torque [Nm]  Tool wear [min]  Machine failure  \\\n",
       "0                       1551         42.8                0                0   \n",
       "1                       1408         46.3                3                0   \n",
       "2                       1498         49.4                5                0   \n",
       "3                       1433         39.5                7                0   \n",
       "4                       1408         40.0                9                0   \n",
       "...                      ...          ...              ...              ...   \n",
       "9995                    1604         29.5               14                0   \n",
       "9996                    1632         31.8               17                0   \n",
       "9997                    1645         33.4               22                0   \n",
       "9998                    1408         48.5               25                0   \n",
       "9999                    1500         40.2               30                0   \n",
       "\n",
       "      TWF  HDF  PWF  OSF  RNF  \n",
       "0       0    0    0    0    0  \n",
       "1       0    0    0    0    0  \n",
       "2       0    0    0    0    0  \n",
       "3       0    0    0    0    0  \n",
       "4       0    0    0    0    0  \n",
       "...   ...  ...  ...  ...  ...  \n",
       "9995    0    0    0    0    0  \n",
       "9996    0    0    0    0    0  \n",
       "9997    0    0    0    0    0  \n",
       "9998    0    0    0    0    0  \n",
       "9999    0    0    0    0    0  \n",
       "\n",
       "[10000 rows x 14 columns]"
      ]
     },
     "execution_count": 3,
     "metadata": {},
     "output_type": "execute_result"
    }
   ],
   "source": [
    "df"
   ]
  },
  {
   "cell_type": "code",
   "execution_count": null,
   "id": "8307ccd2-f84f-42cd-b992-d4ca4499e679",
   "metadata": {},
   "outputs": [],
   "source": []
  },
  {
   "cell_type": "markdown",
   "id": "169a9b78-2ad2-48c6-bf33-31a8bd4d4223",
   "metadata": {},
   "source": [
    "- Convert numeric columns to numeric dtype"
   ]
  },
  {
   "cell_type": "code",
   "execution_count": 4,
   "id": "1bae847e-e671-4317-951a-94d21bc4adb4",
   "metadata": {},
   "outputs": [
    {
     "name": "stdout",
     "output_type": "stream",
     "text": [
      "✅ Numeric columns converted to numeric dtype\n",
      "Air temperature [K]        float64\n",
      "Process temperature [K]    float64\n",
      "Rotational speed [rpm]       int64\n",
      "Torque [Nm]                float64\n",
      "Tool wear [min]              int64\n",
      "dtype: object\n"
     ]
    }
   ],
   "source": [
    "num_cols = [\"Air temperature [K]\", \"Process temperature [K]\", \n",
    "            \"Rotational speed [rpm]\", \"Torque [Nm]\", \"Tool wear [min]\"]\n",
    "\n",
    "for c in num_cols:\n",
    "    if c in df.columns:\n",
    "        df[c] = pd.to_numeric(df[c], errors=\"coerce\")\n",
    "\n",
    "print(\"✅ Numeric columns converted to numeric dtype\")\n",
    "print(df[num_cols].dtypes)"
   ]
  },
  {
   "cell_type": "markdown",
   "id": "d46503a4-d637-41e7-9e15-c0daf668bde5",
   "metadata": {},
   "source": [
    "- Create binary target column (failure)"
   ]
  },
  {
   "cell_type": "code",
   "execution_count": 5,
   "id": "4f5e1cb6-fbf7-41af-b71e-369760601679",
   "metadata": {},
   "outputs": [
    {
     "name": "stdout",
     "output_type": "stream",
     "text": [
      "✅ Created failure column\n",
      "   Machine failure  failure\n",
      "0                0        0\n",
      "1                0        0\n",
      "2                0        0\n",
      "3                0        0\n",
      "4                0        0\n"
     ]
    }
   ],
   "source": [
    "if \"Machine failure\" in df.columns:\n",
    "    df[\"failure\"] = df[\"Machine failure\"].astype(int)\n",
    "elif \"failure\" in df.columns:\n",
    "    df[\"failure\"] = df[\"failure\"].astype(int)\n",
    "else:\n",
    "    raise ValueError(\"⚠️ Could not find a failure column (Machine failure)\")\n",
    "\n",
    "print(\"✅ Created failure column\")\n",
    "print(df[[\"Machine failure\",\"failure\"]].head())\n"
   ]
  },
  {
   "cell_type": "markdown",
   "id": "f1567ed4-6a44-45fa-8e14-15f99a4a204e",
   "metadata": {},
   "source": [
    "- Derive failure type column"
   ]
  },
  {
   "cell_type": "code",
   "execution_count": 7,
   "id": "ab47cf4f-09ef-4857-b229-b5401c907da9",
   "metadata": {},
   "outputs": [
    {
     "name": "stdout",
     "output_type": "stream",
     "text": [
      "✅ Created failure_type column\n",
      "   failure failure_type\n",
      "0        0          NaN\n",
      "1        0          NaN\n",
      "2        0          NaN\n",
      "3        0          NaN\n",
      "4        0          NaN\n"
     ]
    }
   ],
   "source": [
    "ft_cols = [c for c in [\"TWF\",\"HDF\",\"PWF\",\"OSF\",\"RNF\"] if c in df.columns]\n",
    "\n",
    "if ft_cols:\n",
    "    def get_failure_type(row):\n",
    "        if row[\"failure\"] != 1:\n",
    "            return np.nan\n",
    "        for k in ft_cols:\n",
    "            if row[k] == 1:\n",
    "                return k\n",
    "        return \"UNKNOWN\"\n",
    "    df[\"failure_type\"] = df.apply(get_failure_type, axis=1)\n",
    "    print(\"✅ Created failure_type column\")\n",
    "else:\n",
    "    df[\"failure_type\"] = np.nan\n",
    "    print(\"⚠️ No failure type columns found\")\n",
    "\n",
    "print(df[[\"failure\",\"failure_type\"]].head())\n"
   ]
  },
  {
   "cell_type": "code",
   "execution_count": 8,
   "id": "12970ba9-9597-4934-83c4-c85feca52cb8",
   "metadata": {},
   "outputs": [
    {
     "data": {
      "text/plain": [
       "UDI                           0\n",
       "Product ID                    0\n",
       "Type                          0\n",
       "Air temperature [K]           0\n",
       "Process temperature [K]       0\n",
       "Rotational speed [rpm]        0\n",
       "Torque [Nm]                   0\n",
       "Tool wear [min]               0\n",
       "Machine failure               0\n",
       "TWF                           0\n",
       "HDF                           0\n",
       "PWF                           0\n",
       "OSF                           0\n",
       "RNF                           0\n",
       "failure                       0\n",
       "failure_type               9661\n",
       "dtype: int64"
      ]
     },
     "execution_count": 8,
     "metadata": {},
     "output_type": "execute_result"
    }
   ],
   "source": [
    "df.isnull().sum()"
   ]
  },
  {
   "cell_type": "markdown",
   "id": "8f792cf9-08ed-4a16-b199-d3c5a619db75",
   "metadata": {},
   "source": [
    "# Train/Test Split (Model 1 – Failure Prediction)"
   ]
  },
  {
   "cell_type": "code",
   "execution_count": 9,
   "id": "0a7febf1-4283-4b32-9697-7cce8083bb20",
   "metadata": {},
   "outputs": [
    {
     "name": "stdout",
     "output_type": "stream",
     "text": [
      "X_train: (7500, 5) X_test: (2500, 5)\n",
      "y_train positive rate: 0.0339 | y_test positive rate: 0.034\n"
     ]
    }
   ],
   "source": [
    "from sklearn.model_selection import train_test_split\n",
    "\n",
    "# Feature columns (use your exact column names)\n",
    "feature_cols = [\"Air temperature [K]\", \"Process temperature [K]\",\n",
    "                \"Rotational speed [rpm]\", \"Torque [Nm]\", \"Tool wear [min]\"]\n",
    "\n",
    "X = df[feature_cols].copy()\n",
    "y = df[\"failure\"].astype(int).copy()\n",
    "\n",
    "# Stratified split to keep the same failure ratio in both sets\n",
    "X_train, X_test, y_train, y_test = train_test_split(\n",
    "    X, y, test_size=0.25, random_state=42, stratify=y\n",
    ")\n",
    "\n",
    "print(\"X_train:\", X_train.shape, \"X_test:\", X_test.shape)\n",
    "print(\"y_train positive rate:\", y_train.mean().round(4),\n",
    "      \"| y_test positive rate:\", y_test.mean().round(4))\n"
   ]
  },
  {
   "cell_type": "markdown",
   "id": "a7ffe165-1b02-4422-b8da-f094423f6b48",
   "metadata": {},
   "source": [
    "# Train a baseline model (Logistic Regression)"
   ]
  },
  {
   "cell_type": "code",
   "execution_count": 10,
   "id": "df2e8ada-4a14-4d43-96e5-804c674deafc",
   "metadata": {},
   "outputs": [
    {
     "name": "stdout",
     "output_type": "stream",
     "text": [
      "=== Logistic Regression (baseline) ===\n",
      "              precision    recall  f1-score   support\n",
      "\n",
      "           0     0.9915    0.8203    0.8978      2415\n",
      "           1     0.1355    0.8000    0.2317        85\n",
      "\n",
      "    accuracy                         0.8196      2500\n",
      "   macro avg     0.5635    0.8101    0.5647      2500\n",
      "weighted avg     0.9624    0.8196    0.8752      2500\n",
      "\n",
      "Average Precision (AP): 0.4070\n"
     ]
    }
   ],
   "source": [
    "from sklearn.linear_model import LogisticRegression\n",
    "from sklearn.metrics import classification_report, average_precision_score\n",
    "\n",
    "# 1) Create and fit a baseline Logistic Regression\n",
    "logreg = LogisticRegression(max_iter=5000, class_weight=\"balanced\", solver=\"lbfgs\")\n",
    "logreg.fit(X_train, y_train)\n",
    "\n",
    "# 2) Predict labels and probabilities on the test set\n",
    "y_pred = logreg.predict(X_test)\n",
    "y_proba = logreg.predict_proba(X_test)[:, 1]\n",
    "\n",
    "# 3) Print a focused report (especially class '1' = failure)\n",
    "print(\"=== Logistic Regression (baseline) ===\")\n",
    "print(classification_report(y_test, y_pred, digits=4))\n",
    "\n",
    "# 4) Average Precision (area under Precision–Recall curve)\n",
    "ap = average_precision_score(y_test, y_proba)\n",
    "print(f\"Average Precision (AP): {ap:.4f}\")\n"
   ]
  },
  {
   "cell_type": "markdown",
   "id": "9faaaa54-6856-4405-b893-72f942619559",
   "metadata": {},
   "source": [
    "# Precision–Recall Curve (for Logistic Regression)"
   ]
  },
  {
   "cell_type": "code",
   "execution_count": 11,
   "id": "5f8561dc-269e-4dbb-8f26-9d162ab773b0",
   "metadata": {},
   "outputs": [
    {
     "data": {
      "image/png": "[encoded data removed]",
      "text/plain": [
       "<Figure size 600x500 with 1 Axes>"
      ]
     },
     "metadata": {},
     "output_type": "display_data"
    }
   ],
   "source": [
    "import matplotlib.pyplot as plt\n",
    "from sklearn.metrics import precision_recall_curve\n",
    "\n",
    "# Calculate curve\n",
    "precision, recall, thresholds = precision_recall_curve(y_test, y_proba)\n",
    "\n",
    "# Plot\n",
    "plt.figure(figsize=(6,5))\n",
    "plt.plot(recall, precision, label=f\"LogReg (AP={ap:.3f})\")\n",
    "plt.xlabel(\"Recall\")\n",
    "plt.ylabel(\"Precision\")\n",
    "plt.title(\"Precision–Recall Curve (Logistic Regression)\")\n",
    "plt.legend()\n",
    "plt.show()\n"
   ]
  },
  {
   "cell_type": "markdown",
   "id": "04762a31-fd0c-4523-ab42-91faec3b2e9e",
   "metadata": {},
   "source": [
    "# Random Forest Classifier"
   ]
  },
  {
   "cell_type": "code",
   "execution_count": 12,
   "id": "3a2e86a1-ca53-474e-8b5e-2185ebb985f1",
   "metadata": {},
   "outputs": [
    {
     "name": "stdout",
     "output_type": "stream",
     "text": [
      "=== Random Forest ===\n",
      "              precision    recall  f1-score   support\n",
      "\n",
      "           0     0.9841    0.9971    0.9905      2415\n",
      "           1     0.8679    0.5412    0.6667        85\n",
      "\n",
      "    accuracy                         0.9816      2500\n",
      "   macro avg     0.9260    0.7691    0.8286      2500\n",
      "weighted avg     0.9801    0.9816    0.9795      2500\n",
      "\n",
      "Average Precision (AP): 0.7643\n"
     ]
    }
   ],
   "source": [
    "from sklearn.ensemble import RandomForestClassifier\n",
    "\n",
    "# 1) Create and fit Random Forest\n",
    "rf = RandomForestClassifier(\n",
    "    n_estimators=300,\n",
    "    max_depth=None,\n",
    "    class_weight=\"balanced\",\n",
    "    random_state=42\n",
    ")\n",
    "rf.fit(X_train, y_train)\n",
    "\n",
    "# 2) Predictions\n",
    "y_pred_rf = rf.predict(X_test)\n",
    "y_proba_rf = rf.predict_proba(X_test)[:, 1]\n",
    "\n",
    "# 3) Report\n",
    "print(\"=== Random Forest ===\")\n",
    "print(classification_report(y_test, y_pred_rf, digits=4))\n",
    "\n",
    "# 4) Average Precision\n",
    "ap_rf = average_precision_score(y_test, y_proba_rf)\n",
    "print(f\"Average Precision (AP): {ap_rf:.4f}\")\n"
   ]
  },
  {
   "cell_type": "code",
   "execution_count": 13,
   "id": "f8849b63-dbf0-41de-82da-b48d9269aca3",
   "metadata": {},
   "outputs": [
    {
     "data": {
      "image/png": "[encoded data removed]",
      "text/plain": [
       "<Figure size 600x500 with 1 Axes>"
      ]
     },
     "metadata": {},
     "output_type": "display_data"
    }
   ],
   "source": [
    "# Calculate precision-recall curve\n",
    "precision_rf, recall_rf, thresholds_rf = precision_recall_curve(y_test, y_proba_rf)\n",
    "\n",
    "# Plot\n",
    "plt.figure(figsize=(6,5))\n",
    "plt.plot(recall_rf, precision_rf, label=f\"Random Forest (AP={ap_rf:.3f})\", color=\"green\")\n",
    "plt.xlabel(\"Recall\")\n",
    "plt.ylabel(\"Precision\")\n",
    "plt.title(\"Precision–Recall Curve (Random Forest)\")\n",
    "plt.legend()\n",
    "plt.show()\n"
   ]
  },
  {
   "cell_type": "code",
   "execution_count": 14,
   "id": "1172a37a-2f4d-43dd-8427-02c04ad428f5",
   "metadata": {},
   "outputs": [
    {
     "name": "stdout",
     "output_type": "stream",
     "text": [
      "=== Gradient Boosting ===\n",
      "              precision    recall  f1-score   support\n",
      "\n",
      "           0     0.9877    0.9971    0.9924      2415\n",
      "           1     0.8871    0.6471    0.7483        85\n",
      "\n",
      "    accuracy                         0.9852      2500\n",
      "   macro avg     0.9374    0.8221    0.8703      2500\n",
      "weighted avg     0.9843    0.9852    0.9841      2500\n",
      "\n",
      "Average Precision (AP): 0.7945\n"
     ]
    }
   ],
   "source": [
    "from sklearn.ensemble import GradientBoostingClassifier\n",
    "from sklearn.metrics import classification_report, average_precision_score\n",
    "\n",
    "# 1) Create and fit Gradient Boosting\n",
    "gb = GradientBoostingClassifier(random_state=42)\n",
    "gb.fit(X_train, y_train)\n",
    "\n",
    "# 2) Predictions\n",
    "y_pred_gb = gb.predict(X_test)\n",
    "# decision_function not available; use predict_proba\n",
    "y_proba_gb = gb.predict_proba(X_test)[:, 1]\n",
    "\n",
    "# 3) Report\n",
    "print(\"=== Gradient Boosting ===\")\n",
    "print(classification_report(y_test, y_pred_gb, digits=4))\n",
    "\n",
    "# 4) Average Precision (PR AUC)\n",
    "ap_gb = average_precision_score(y_test, y_proba_gb)\n",
    "print(f\"Average Precision (AP): {ap_gb:.4f}\")\n"
   ]
  },
  {
   "cell_type": "markdown",
   "id": "a79fdc95-7458-40ac-b8d1-87617eb46323",
   "metadata": {},
   "source": [
    "# Calculate precision-recall curve"
   ]
  },
  {
   "cell_type": "code",
   "execution_count": 15,
   "id": "958b045f-b1b8-4a67-aabc-fc7ff066d463",
   "metadata": {},
   "outputs": [
    {
     "data": {
      "image/png": "[encoded data removed]",
      "text/plain": [
       "<Figure size 600x500 with 1 Axes>"
      ]
     },
     "metadata": {},
     "output_type": "display_data"
    }
   ],
   "source": [
    "\n",
    "precision_gb, recall_gb, thresholds_gb = precision_recall_curve(y_test, y_proba_gb)\n",
    "\n",
    "# Plot\n",
    "plt.figure(figsize=(6,5))\n",
    "plt.plot(recall_gb, precision_gb, label=f\"Gradient Boosting (AP={ap_gb:.3f})\", color=\"orange\")\n",
    "plt.xlabel(\"Recall\")\n",
    "plt.ylabel(\"Precision\")\n",
    "plt.title(\"Precision–Recall Curve (Gradient Boosting)\")\n",
    "plt.legend()\n",
    "plt.show()\n"
   ]
  },
  {
   "cell_type": "code",
   "execution_count": 16,
   "id": "12866c9a-89ca-46ea-816f-9d782d0ee6c6",
   "metadata": {},
   "outputs": [
    {
     "name": "stdout",
     "output_type": "stream",
     "text": [
      "X2_train: (254, 5) X2_test: (85, 5)\n",
      "Unique failure types: ['HDF', 'OSF', 'PWF', 'TWF', 'UNKNOWN']\n"
     ]
    }
   ],
   "source": [
    "from sklearn.model_selection import train_test_split\n",
    "\n",
    "# 1) Keep only rows where failure = 1 and failure_type is known\n",
    "df_fail = df[(df[\"failure\"] == 1) & (df[\"failure_type\"].notna())].copy()\n",
    "\n",
    "# 2) Encode failure_type as labels\n",
    "labels = sorted(df_fail[\"failure_type\"].unique())\n",
    "label2id = {lab: i for i, lab in enumerate(labels)}\n",
    "id2label = {i: lab for lab, i in label2id.items()}\n",
    "\n",
    "y2 = df_fail[\"failure_type\"].map(label2id).values\n",
    "X2 = df_fail[[\"Air temperature [K]\", \"Process temperature [K]\",\n",
    "              \"Rotational speed [rpm]\", \"Torque [Nm]\", \"Tool wear [min]\"]].values\n",
    "\n",
    "# 3) Train/Test split\n",
    "X2_train, X2_test, y2_train, y2_test = train_test_split(\n",
    "    X2, y2, test_size=0.25, random_state=42, stratify=y2\n",
    ")\n",
    "\n",
    "print(\"X2_train:\", X2_train.shape, \"X2_test:\", X2_test.shape)\n",
    "print(\"Unique failure types:\", labels)\n"
   ]
  },
  {
   "cell_type": "code",
   "execution_count": 17,
   "id": "f4673370-a3bc-42f7-b407-ba1009ae9277",
   "metadata": {},
   "outputs": [
    {
     "name": "stdout",
     "output_type": "stream",
     "text": [
      "=== Decision Tree ===\n",
      "              precision    recall  f1-score   support\n",
      "\n",
      "         HDF     0.8286    1.0000    0.9062        29\n",
      "         OSF     0.8571    0.6000    0.7059        20\n",
      "         PWF     0.8519    1.0000    0.9200        23\n",
      "         TWF     0.8750    0.6364    0.7368        11\n",
      "     UNKNOWN     0.0000    0.0000    0.0000         2\n",
      "\n",
      "    accuracy                         0.8353        85\n",
      "   macro avg     0.6825    0.6473    0.6538        85\n",
      "weighted avg     0.8281    0.8353    0.8196        85\n",
      "\n",
      "Confusion Matrix:\n",
      " [[29  0  0  0  0]\n",
      " [ 4 12  2  1  1]\n",
      " [ 0  0 23  0  0]\n",
      " [ 2  2  0  7  0]\n",
      " [ 0  0  2  0  0]]\n"
     ]
    }
   ],
   "source": [
    "from sklearn.tree import DecisionTreeClassifier\n",
    "from sklearn.metrics import classification_report, confusion_matrix\n",
    "\n",
    "# 1) Create and fit Decision Tree\n",
    "dt = DecisionTreeClassifier(max_depth=None, random_state=42)\n",
    "dt.fit(X2_train, y2_train)\n",
    "\n",
    "# 2) Predictions\n",
    "y2_pred_dt = dt.predict(X2_test)\n",
    "\n",
    "# 3) Report\n",
    "print(\"=== Decision Tree ===\")\n",
    "print(classification_report(y2_test, y2_pred_dt, target_names=labels, digits=4))\n",
    "\n",
    "# 4) Confusion Matrix\n",
    "cm_dt = confusion_matrix(y2_test, y2_pred_dt)\n",
    "print(\"Confusion Matrix:\\n\", cm_dt)\n"
   ]
  },
  {
   "cell_type": "code",
   "execution_count": 18,
   "id": "5e23254c-568b-4c29-933a-3606083963a8",
   "metadata": {},
   "outputs": [
    {
     "name": "stdout",
     "output_type": "stream",
     "text": [
      "=== SVM (RBF) ===\n",
      "              precision    recall  f1-score   support\n",
      "\n",
      "         HDF     0.8056    1.0000    0.8923        29\n",
      "         OSF     0.6923    0.9000    0.7826        20\n",
      "         PWF     1.0000    0.6957    0.8205        23\n",
      "         TWF     1.0000    0.6364    0.7778        11\n",
      "     UNKNOWN     0.0000    0.0000    0.0000         2\n",
      "\n",
      "    accuracy                         0.8235        85\n",
      "   macro avg     0.6996    0.6464    0.6546        85\n",
      "weighted avg     0.8377    0.8235    0.8113        85\n",
      "\n",
      "Confusion Matrix:\n",
      " [[29  0  0  0  0]\n",
      " [ 2 18  0  0  0]\n",
      " [ 3  4 16  0  0]\n",
      " [ 0  4  0  7  0]\n",
      " [ 2  0  0  0  0]]\n"
     ]
    },
    {
     "name": "stderr",
     "output_type": "stream",
     "text": [
      "C:\\Python313\\Lib\\site-packages\\sklearn\\metrics\\_classification.py:1706: UndefinedMetricWarning: Precision is ill-defined and being set to 0.0 in labels with no predicted samples. Use `zero_division` parameter to control this behavior.\n",
      "  _warn_prf(average, modifier, f\"{metric.capitalize()} is\", result.shape[0])\n",
      "C:\\Python313\\Lib\\site-packages\\sklearn\\metrics\\_classification.py:1706: UndefinedMetricWarning: Precision is ill-defined and being set to 0.0 in labels with no predicted samples. Use `zero_division` parameter to control this behavior.\n",
      "  _warn_prf(average, modifier, f\"{metric.capitalize()} is\", result.shape[0])\n",
      "C:\\Python313\\Lib\\site-packages\\sklearn\\metrics\\_classification.py:1706: UndefinedMetricWarning: Precision is ill-defined and being set to 0.0 in labels with no predicted samples. Use `zero_division` parameter to control this behavior.\n",
      "  _warn_prf(average, modifier, f\"{metric.capitalize()} is\", result.shape[0])\n"
     ]
    }
   ],
   "source": [
    "from sklearn.svm import SVC\n",
    "from sklearn.pipeline import make_pipeline\n",
    "from sklearn.preprocessing import StandardScaler\n",
    "from sklearn.metrics import classification_report, confusion_matrix\n",
    "\n",
    "# 1) Create pipeline with scaling + SVM (RBF kernel)\n",
    "svm_model = make_pipeline(StandardScaler(), SVC(kernel=\"rbf\", random_state=42))\n",
    "\n",
    "# 2) Fit model\n",
    "svm_model.fit(X2_train, y2_train)\n",
    "\n",
    "# 3) Predictions\n",
    "y2_pred_svm = svm_model.predict(X2_test)\n",
    "\n",
    "# 4) Report\n",
    "print(\"=== SVM (RBF) ===\")\n",
    "print(classification_report(y2_test, y2_pred_svm, target_names=labels, digits=4))\n",
    "\n",
    "# 5) Confusion Matrix\n",
    "cm_svm = confusion_matrix(y2_test, y2_pred_svm)\n",
    "print(\"Confusion Matrix:\\n\", cm_svm)\n"
   ]
  },
  {
   "cell_type": "code",
   "execution_count": 19,
   "id": "904dea4d-d046-4ce1-91d1-1627eac70d9a",
   "metadata": {},
   "outputs": [
    {
     "name": "stdout",
     "output_type": "stream",
     "text": [
      "=== Naive Bayes (GaussianNB) ===\n",
      "              precision    recall  f1-score   support\n",
      "\n",
      "         HDF     0.7000    0.9655    0.8116        29\n",
      "         OSF     0.6087    0.7000    0.6512        20\n",
      "         PWF     1.0000    0.6087    0.7568        23\n",
      "         TWF     0.7500    0.5455    0.6316        11\n",
      "     UNKNOWN     0.0000    0.0000    0.0000         2\n",
      "\n",
      "    accuracy                         0.7294        85\n",
      "   macro avg     0.6117    0.5639    0.5702        85\n",
      "weighted avg     0.7497    0.7294    0.7166        85\n",
      "\n",
      "Confusion Matrix:\n",
      " [[28  1  0  0  0]\n",
      " [ 4 14  0  2  0]\n",
      " [ 6  3 14  0  0]\n",
      " [ 0  5  0  6  0]\n",
      " [ 2  0  0  0  0]]\n"
     ]
    }
   ],
   "source": [
    "from sklearn.naive_bayes import GaussianNB\n",
    "from sklearn.metrics import classification_report, confusion_matrix\n",
    "\n",
    "# Train\n",
    "nb = GaussianNB()\n",
    "nb.fit(X2_train, y2_train)\n",
    "\n",
    "# Predict\n",
    "y2_pred_nb = nb.predict(X2_test)\n",
    "\n",
    "# Report\n",
    "print(\"=== Naive Bayes (GaussianNB) ===\")\n",
    "print(classification_report(y2_test, y2_pred_nb, target_names=labels,\n",
    "                            digits=4, zero_division=0))\n",
    "\n",
    "# Confusion Matrix\n",
    "cm_nb = confusion_matrix(y2_test, y2_pred_nb, labels=list(range(len(labels))))\n",
    "print(\"Confusion Matrix:\\n\", cm_nb)\n"
   ]
  }
 ],
 "metadata": {
  "kernelspec": {
   "display_name": "Python 3 (ipykernel)",
   "language": "python",
   "name": "python3"
  },
  "language_info": {
   "codemirror_mode": {
    "name": "ipython",
    "version": 3
   },
   "file_extension": ".py",
   "mimetype": "text/x-python",
   "name": "python",
   "nbconvert_exporter": "python",
   "pygments_lexer": "ipython3",
   "version": "3.13.3"
  }
 },
 "nbformat": 4,
 "nbformat_minor": 5
}
