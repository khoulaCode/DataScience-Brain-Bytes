{
 "cells": [
  {
   "cell_type": "code",
   "execution_count": 1,
   "id": "63baad5a-5efb-4618-abc3-220bd2e90a03",
   "metadata": {},
   "outputs": [],
   "source": [
    "import os\n",
    "os.environ[\"TF_ENABLE_ONEDNN_OPTS\"] = \"0\"\n",
    "import tensorflow as tf\n"
   ]
  },
  {
   "cell_type": "code",
   "execution_count": 5,
   "id": "2f30058e-f314-4601-98a7-404cc7b7ec46",
   "metadata": {},
   "outputs": [],
   "source": [
    "import keras\n",
    "from keras.datasets import mnist\n",
    "from keras.models import Sequential\n",
    "from keras.layers import Dense, Flatten\n",
    "from keras.utils import to_categorical"
   ]
  },
  {
   "cell_type": "code",
   "execution_count": 6,
   "id": "cd53a599-cbb6-4f46-ae86-b0cf058573d9",
   "metadata": {},
   "outputs": [
    {
     "name": "stdout",
     "output_type": "stream",
     "text": [
      "Downloading data from https://storage.googleapis.com/tensorflow/tf-keras-datasets/mnist.npz\n",
      "\u001b[1m11490434/11490434\u001b[0m \u001b[32m━━━━━━━━━━━━━━━━━━━━\u001b[0m\u001b[37m\u001b[0m \u001b[1m4s\u001b[0m 0us/step\n"
     ]
    }
   ],
   "source": [
    "# load MNIST dataset\n",
    "(x_train,y_train) , (x_test ,y_test) = mnist.load_data()\n",
    "# normalize pixel values to [0,1]\n",
    "x_train = x_train.astype(\"float32\") / 255.0\n",
    "x_test = x_test.astype(\"float32\") / 255.0\n",
    "# one-hot encode labels\n",
    "y_train = to_categorical(y_train,10)\n",
    "y_test = to_categorical(y_test,10)"
   ]
  },
  {
   "cell_type": "code",
   "execution_count": 8,
   "id": "a2052a0b-04a6-486d-96c5-f31c5c275618",
   "metadata": {},
   "outputs": [
    {
     "name": "stderr",
     "output_type": "stream",
     "text": [
      "C:\\Python313\\Lib\\site-packages\\keras\\src\\layers\\reshaping\\flatten.py:37: UserWarning: Do not pass an `input_shape`/`input_dim` argument to a layer. When using Sequential models, prefer using an `Input(shape)` object as the first layer in the model instead.\n",
      "  super().__init__(**kwargs)\n"
     ]
    }
   ],
   "source": [
    "model = Sequential([\n",
    "    Flatten(input_shape=(28, 28)),     # 784 -> flatten layer\n",
    "    Dense(128, activation=\"relu\"),     # Hidden layer 1\n",
    "    Dense(64, activation=\"relu\"),      # Hidden layer 2\n",
    "    Dense(10, activation=\"softmax\")    # Output layer for 10 classes\n",
    "])\n"
   ]
  },
  {
   "cell_type": "code",
   "execution_count": 9,
   "id": "95531c37-99ca-4161-a29b-b4b40a20144e",
   "metadata": {},
   "outputs": [],
   "source": [
    "model = Sequential([\n",
    "    Flatten(input_shape=(28, 28)),  # still works\n",
    "    Dense(128, activation=\"relu\"),\n",
    "    Dense(64, activation=\"relu\"),\n",
    "    Dense(10, activation=\"softmax\")\n",
    "])\n"
   ]
  },
  {
   "cell_type": "code",
   "execution_count": 10,
   "id": "1c3df4d3-d53a-4657-8c16-69da66d1c3e2",
   "metadata": {},
   "outputs": [
    {
     "data": {
      "text/html": [
       "<pre style=\"white-space:pre;overflow-x:auto;line-height:normal;font-family:Menlo,'DejaVu Sans Mono',consolas,'Courier New',monospace\"><span style=\"font-weight: bold\">Model: \"sequential_1\"</span>\n",
       "</pre>\n"
      ],
      "text/plain": [
       "\u001b[1mModel: \"sequential_1\"\u001b[0m\n"
      ]
     },
     "metadata": {},
     "output_type": "display_data"
    },
    {
     "data": {
      "text/html": [
       "<pre style=\"white-space:pre;overflow-x:auto;line-height:normal;font-family:Menlo,'DejaVu Sans Mono',consolas,'Courier New',monospace\">┏━━━━━━━━━━━━━━━━━━━━━━━━━━┳━━━━━━━━━━━━━━━━━━━┳━━━━━━━━━━━┓\n",
       "┃<span style=\"font-weight: bold\"> Layer (type)             </span>┃<span style=\"font-weight: bold\"> Output Shape      </span>┃<span style=\"font-weight: bold\">   Param # </span>┃\n",
       "┡━━━━━━━━━━━━━━━━━━━━━━━━━━╇━━━━━━━━━━━━━━━━━━━╇━━━━━━━━━━━┩\n",
       "│ flatten_1 (<span style=\"color: #0087ff; text-decoration-color: #0087ff\">Flatten</span>)      │ (<span style=\"color: #00d7ff; text-decoration-color: #00d7ff\">None</span>, <span style=\"color: #00af00; text-decoration-color: #00af00\">784</span>)       │         <span style=\"color: #00af00; text-decoration-color: #00af00\">0</span> │\n",
       "├──────────────────────────┼───────────────────┼───────────┤\n",
       "│ dense_3 (<span style=\"color: #0087ff; text-decoration-color: #0087ff\">Dense</span>)          │ (<span style=\"color: #00d7ff; text-decoration-color: #00d7ff\">None</span>, <span style=\"color: #00af00; text-decoration-color: #00af00\">128</span>)       │   <span style=\"color: #00af00; text-decoration-color: #00af00\">100,480</span> │\n",
       "├──────────────────────────┼───────────────────┼───────────┤\n",
       "│ dense_4 (<span style=\"color: #0087ff; text-decoration-color: #0087ff\">Dense</span>)          │ (<span style=\"color: #00d7ff; text-decoration-color: #00d7ff\">None</span>, <span style=\"color: #00af00; text-decoration-color: #00af00\">64</span>)        │     <span style=\"color: #00af00; text-decoration-color: #00af00\">8,256</span> │\n",
       "├──────────────────────────┼───────────────────┼───────────┤\n",
       "│ dense_5 (<span style=\"color: #0087ff; text-decoration-color: #0087ff\">Dense</span>)          │ (<span style=\"color: #00d7ff; text-decoration-color: #00d7ff\">None</span>, <span style=\"color: #00af00; text-decoration-color: #00af00\">10</span>)        │       <span style=\"color: #00af00; text-decoration-color: #00af00\">650</span> │\n",
       "└──────────────────────────┴───────────────────┴───────────┘\n",
       "</pre>\n"
      ],
      "text/plain": [
       "┏━━━━━━━━━━━━━━━━━━━━━━━━━━┳━━━━━━━━━━━━━━━━━━━┳━━━━━━━━━━━┓\n",
       "┃\u001b[1m \u001b[0m\u001b[1mLayer (type)            \u001b[0m\u001b[1m \u001b[0m┃\u001b[1m \u001b[0m\u001b[1mOutput Shape     \u001b[0m\u001b[1m \u001b[0m┃\u001b[1m \u001b[0m\u001b[1m  Param #\u001b[0m\u001b[1m \u001b[0m┃\n",
       "┡━━━━━━━━━━━━━━━━━━━━━━━━━━╇━━━━━━━━━━━━━━━━━━━╇━━━━━━━━━━━┩\n",
       "│ flatten_1 (\u001b[38;5;33mFlatten\u001b[0m)      │ (\u001b[38;5;45mNone\u001b[0m, \u001b[38;5;34m784\u001b[0m)       │         \u001b[38;5;34m0\u001b[0m │\n",
       "├──────────────────────────┼───────────────────┼───────────┤\n",
       "│ dense_3 (\u001b[38;5;33mDense\u001b[0m)          │ (\u001b[38;5;45mNone\u001b[0m, \u001b[38;5;34m128\u001b[0m)       │   \u001b[38;5;34m100,480\u001b[0m │\n",
       "├──────────────────────────┼───────────────────┼───────────┤\n",
       "│ dense_4 (\u001b[38;5;33mDense\u001b[0m)          │ (\u001b[38;5;45mNone\u001b[0m, \u001b[38;5;34m64\u001b[0m)        │     \u001b[38;5;34m8,256\u001b[0m │\n",
       "├──────────────────────────┼───────────────────┼───────────┤\n",
       "│ dense_5 (\u001b[38;5;33mDense\u001b[0m)          │ (\u001b[38;5;45mNone\u001b[0m, \u001b[38;5;34m10\u001b[0m)        │       \u001b[38;5;34m650\u001b[0m │\n",
       "└──────────────────────────┴───────────────────┴───────────┘\n"
      ]
     },
     "metadata": {},
     "output_type": "display_data"
    },
    {
     "data": {
      "text/html": [
       "<pre style=\"white-space:pre;overflow-x:auto;line-height:normal;font-family:Menlo,'DejaVu Sans Mono',consolas,'Courier New',monospace\"><span style=\"font-weight: bold\"> Total params: </span><span style=\"color: #00af00; text-decoration-color: #00af00\">109,386</span> (427.29 KB)\n",
       "</pre>\n"
      ],
      "text/plain": [
       "\u001b[1m Total params: \u001b[0m\u001b[38;5;34m109,386\u001b[0m (427.29 KB)\n"
      ]
     },
     "metadata": {},
     "output_type": "display_data"
    },
    {
     "data": {
      "text/html": [
       "<pre style=\"white-space:pre;overflow-x:auto;line-height:normal;font-family:Menlo,'DejaVu Sans Mono',consolas,'Courier New',monospace\"><span style=\"font-weight: bold\"> Trainable params: </span><span style=\"color: #00af00; text-decoration-color: #00af00\">109,386</span> (427.29 KB)\n",
       "</pre>\n"
      ],
      "text/plain": [
       "\u001b[1m Trainable params: \u001b[0m\u001b[38;5;34m109,386\u001b[0m (427.29 KB)\n"
      ]
     },
     "metadata": {},
     "output_type": "display_data"
    },
    {
     "data": {
      "text/html": [
       "<pre style=\"white-space:pre;overflow-x:auto;line-height:normal;font-family:Menlo,'DejaVu Sans Mono',consolas,'Courier New',monospace\"><span style=\"font-weight: bold\"> Non-trainable params: </span><span style=\"color: #00af00; text-decoration-color: #00af00\">0</span> (0.00 B)\n",
       "</pre>\n"
      ],
      "text/plain": [
       "\u001b[1m Non-trainable params: \u001b[0m\u001b[38;5;34m0\u001b[0m (0.00 B)\n"
      ]
     },
     "metadata": {},
     "output_type": "display_data"
    }
   ],
   "source": [
    "model.summary()"
   ]
  },
  {
   "cell_type": "code",
   "execution_count": 11,
   "id": "042c61fe-8d90-4003-bb94-8054904210c5",
   "metadata": {},
   "outputs": [],
   "source": [
    "# Compile the model\n",
    "model.compile(optimizer=\"adam\",\n",
    "              loss=\"categorical_crossentropy\",\n",
    "              metrics=[\"accuracy\"])\n"
   ]
  },
  {
   "cell_type": "code",
   "execution_count": 14,
   "id": "9c3c5be5-a42e-42c6-875d-0f81d04241aa",
   "metadata": {},
   "outputs": [
    {
     "name": "stdout",
     "output_type": "stream",
     "text": [
      "Epoch 1/5\n",
      "\u001b[1m1688/1688\u001b[0m \u001b[32m━━━━━━━━━━━━━━━━━━━━\u001b[0m\u001b[37m\u001b[0m \u001b[1m20s\u001b[0m 11ms/step - accuracy: 0.9895 - loss: 0.0329 - val_accuracy: 0.9920 - val_loss: 0.0260\n",
      "Epoch 2/5\n",
      "\u001b[1m1688/1688\u001b[0m \u001b[32m━━━━━━━━━━━━━━━━━━━━\u001b[0m\u001b[37m\u001b[0m \u001b[1m20s\u001b[0m 11ms/step - accuracy: 0.9912 - loss: 0.0265 - val_accuracy: 0.9902 - val_loss: 0.0337\n",
      "Epoch 3/5\n",
      "\u001b[1m1688/1688\u001b[0m \u001b[32m━━━━━━━━━━━━━━━━━━━━\u001b[0m\u001b[37m\u001b[0m \u001b[1m21s\u001b[0m 11ms/step - accuracy: 0.9915 - loss: 0.0244 - val_accuracy: 0.9875 - val_loss: 0.0366\n",
      "Epoch 4/5\n",
      "\u001b[1m1688/1688\u001b[0m \u001b[32m━━━━━━━━━━━━━━━━━━━━\u001b[0m\u001b[37m\u001b[0m \u001b[1m21s\u001b[0m 11ms/step - accuracy: 0.9935 - loss: 0.0184 - val_accuracy: 0.9882 - val_loss: 0.0390\n",
      "Epoch 5/5\n",
      "\u001b[1m1688/1688\u001b[0m \u001b[32m━━━━━━━━━━━━━━━━━━━━\u001b[0m\u001b[37m\u001b[0m \u001b[1m20s\u001b[0m 11ms/step - accuracy: 0.9939 - loss: 0.0183 - val_accuracy: 0.9887 - val_loss: 0.0375\n"
     ]
    }
   ],
   "source": [
    "# Train the model\n",
    "history = model.fit(x_train, y_train,\n",
    "                    epochs=5,\n",
    "                    batch_size=32,\n",
    "                    validation_split =0.1)"
   ]
  },
  {
   "cell_type": "code",
   "execution_count": 13,
   "id": "831b895b-699b-423c-ae4b-c32791933e13",
   "metadata": {},
   "outputs": [],
   "source": [
    "import matplotlib.pyplot as plt"
   ]
  },
  {
   "cell_type": "code",
   "execution_count": 15,
   "id": "2cbbc876-a637-4bad-82d2-2ebb048d415d",
   "metadata": {},
   "outputs": [
    {
     "name": "stdout",
     "output_type": "stream",
     "text": [
      "\u001b[1m313/313\u001b[0m \u001b[32m━━━━━━━━━━━━━━━━━━━━\u001b[0m\u001b[37m\u001b[0m \u001b[1m2s\u001b[0m 5ms/step - accuracy: 0.9778 - loss: 0.0912\n"
     ]
    }
   ],
   "source": [
    "test_lost, test_acc = model.evaluate(x_test, y_test)"
   ]
  },
  {
   "cell_type": "code",
   "execution_count": null,
   "id": "a43e4b0f-6eed-4bde-bcd8-08fedf755970",
   "metadata": {},
   "outputs": [],
   "source": []
  },
  {
   "cell_type": "code",
   "execution_count": 19,
   "id": "5cb6ac48-f26f-45bd-8926-832c44810f39",
   "metadata": {},
   "outputs": [],
   "source": [
    "from tensorflow.keras import layers"
   ]
  },
  {
   "cell_type": "code",
   "execution_count": 25,
   "id": "ba25996f-6422-4a16-8f54-8ee0dad177a8",
   "metadata": {},
   "outputs": [],
   "source": [
    "from sklearn.datasets import fetch_california_housing\n",
    "from sklearn.model_selection import train_test_split\n",
    "from sklearn.preprocessing import StandardScaler\n",
    "\n",
    "housing = fetch_california_housing()\n",
    "X, y = housing.data, housing.target\n",
    "\n",
    "X_train, X_test, y_train, y_test = train_test_split(X, y, test_size=0.2, random_state=42)\n",
    "\n",
    "scaler = StandardScaler()\n",
    "X_train = scaler.fit_transform(X_train)\n",
    "X_test = scaler.transform(X_test)\n"
   ]
  },
  {
   "cell_type": "code",
   "execution_count": 28,
   "id": "981e260e-3a22-49b7-9f87-be5aed6386ba",
   "metadata": {},
   "outputs": [],
   "source": [
    "def build_model(input_dim, activation=\"relu\"):\n",
    "    model = keras.Sequential([\n",
    "        keras.Input(shape=(input_dim,)),               # Input layer\n",
    "        layers.Dense(64, activation=activation),       # Hidden 1\n",
    "        layers.Dense(64, activation=activation),       # Hidden 2\n",
    "        layers.Dense(1, activation=\"linear\")           # Output (regression)\n",
    "    ])\n",
    "    model.compile(\n",
    "        optimizer=\"adam\",\n",
    "        loss=\"mse\",\n",
    "        metrics=[\"mae\", tf.keras.metrics.RootMeanSquaredError()]\n",
    "    )\n",
    "    return model\n"
   ]
  },
  {
   "cell_type": "code",
   "execution_count": 29,
   "id": "59dbb84e-ec35-483a-b6cf-4002c81ea327",
   "metadata": {},
   "outputs": [],
   "source": [
    "relu_model = build_model(X_train.shape[1], activation=\"relu\")\n",
    "history_relu = relu_model.fit(\n",
    "    X_train, y_train,\n",
    "    epochs=50, batch_size=32,\n",
    "    validation_split=0.2,\n",
    "    verbose=0\n",
    ")\n",
    "\n",
    "tanh_model = build_model(X_train.shape[1], activation=\"tanh\")\n",
    "history_tanh = tanh_model.fit(\n",
    "    X_train, y_train,\n",
    "    epochs=50, batch_size=32,\n",
    "    validation_split=0.2,\n",
    "    verbose=0\n",
    ")\n"
   ]
  },
  {
   "cell_type": "code",
   "execution_count": 30,
   "id": "2ea63474-68bf-4db5-ba0d-123b1e056d1d",
   "metadata": {},
   "outputs": [
    {
     "name": "stdout",
     "output_type": "stream",
     "text": [
      "ReLU - Test MSE: 0.28073862195014954  MAE: 0.3537006378173828  RMSE: 0.5298477411270142\n",
      "tanh - Test MSE: 0.284634530544281  MAE: 0.355145663022995  RMSE: 0.5335115194320679\n"
     ]
    }
   ],
   "source": [
    "relu_eval = relu_model.evaluate(X_test, y_test, verbose=0)\n",
    "tanh_eval = tanh_model.evaluate(X_test, y_test, verbose=0)\n",
    "\n",
    "print(\"ReLU - Test MSE:\", relu_eval[0], \" MAE:\", relu_eval[1], \" RMSE:\", relu_eval[2])\n",
    "print(\"tanh - Test MSE:\", tanh_eval[0], \" MAE:\", tanh_eval[1], \" RMSE:\", tanh_eval[2])\n"
   ]
  },
  {
   "cell_type": "code",
   "execution_count": 31,
   "id": "04eabd15-96a8-4187-a598-45a70b731a9b",
   "metadata": {},
   "outputs": [
    {
     "data": {
      "image/png": "[encoded data removed]",
      "text/plain": [
       "<Figure size 640x480 with 1 Axes>"
      ]
     },
     "metadata": {},
     "output_type": "display_data"
    }
   ],
   "source": [
    "import matplotlib.pyplot as plt\n",
    "\n",
    "plt.plot(history_relu.history[\"val_loss\"], label=\"ReLU val_loss\")\n",
    "plt.plot(history_tanh.history[\"val_loss\"], label=\"tanh val_loss\")\n",
    "plt.xlabel(\"Epochs\")\n",
    "plt.ylabel(\"Validation MSE\")\n",
    "plt.legend()\n",
    "plt.show()\n"
   ]
  },
  {
   "cell_type": "markdown",
   "id": "9c1da8c1-0e3d-4b85-86d6-68b369299bb2",
   "metadata": {},
   "source": [
    "For the California Housing regression, both ReLU and tanh activations achieved similar accuracy. ReLU performed slightly better, giving lower error values, which confirms its advantage in training stability and efficiency on tabular datasets."
   ]
  },
  {
   "cell_type": "code",
   "execution_count": 32,
   "id": "61340ddf-f077-4493-8bd6-feaf9527fa21",
   "metadata": {},
   "outputs": [
    {
     "name": "stdout",
     "output_type": "stream",
     "text": [
      "Running adam ...\n",
      "Running sgd ...\n",
      "\n",
      "=== Optimizer comparison (lower is better) ===\n",
      "  optimizer  epochs_run  train_time_s  train_mse  train_mae  train_rmse  \\\n",
      "0      adam         100        403.68      0.238     0.3308      0.4879   \n",
      "1       sgd          15         41.05        NaN        NaN         NaN   \n",
      "\n",
      "   val_mse  val_mae  val_rmse  \n",
      "0   0.2699   0.3502    0.5195  \n",
      "1      NaN      NaN       NaN  \n"
     ]
    }
   ],
   "source": [
    "import time\n",
    "import numpy as np\n",
    "import pandas as pd\n",
    "import tensorflow as tf\n",
    "from tensorflow import keras\n",
    "from tensorflow.keras import layers\n",
    "\n",
    "def build_model(input_dim, activation=\"relu\", optimizer=\"adam\", lr=None):\n",
    "    model = keras.Sequential([\n",
    "        keras.Input(shape=(input_dim,)),\n",
    "        layers.Dense(64, activation=activation),\n",
    "        layers.Dense(64, activation=activation),\n",
    "        layers.Dense(1, activation=\"linear\"),\n",
    "    ])\n",
    "    if optimizer == \"adam\":\n",
    "        opt = keras.optimizers.Adam(learning_rate=lr or 1e-3)\n",
    "    elif optimizer == \"sgd\":\n",
    "        opt = keras.optimizers.SGD(learning_rate=lr or 1e-2, momentum=0.9)\n",
    "    else:\n",
    "        raise ValueError(\"optimizer must be 'adam' or 'sgd'\")\n",
    "    model.compile(optimizer=opt, loss=\"mse\", metrics=[\"mae\", tf.keras.metrics.RootMeanSquaredError(\"rmse\")])\n",
    "    return model\n",
    "\n",
    "early = keras.callbacks.EarlyStopping(monitor=\"val_loss\", patience=15, restore_best_weights=True)\n",
    "reduce = keras.callbacks.ReduceLROnPlateau(monitor=\"val_loss\", factor=0.5, patience=5, verbose=0)\n",
    "\n",
    "exps = [\n",
    "    {\"name\":\"adam\", \"opt\":\"adam\", \"lr\":None, \"activation\":\"relu\"},\n",
    "    {\"name\":\"sgd\",  \"opt\":\"sgd\",  \"lr\":0.01, \"activation\":\"relu\"},\n",
    "]\n",
    "\n",
    "rows = []\n",
    "for cfg in exps:\n",
    "    print(f\"Running {cfg['name']} ...\")\n",
    "    model = build_model(X_train.shape[1], activation=cfg[\"activation\"], optimizer=cfg[\"opt\"], lr=cfg[\"lr\"])\n",
    "    t0 = time.time()\n",
    "    hist = model.fit(\n",
    "        X_train, y_train,\n",
    "        epochs=200, batch_size=32, validation_split=0.2,\n",
    "        callbacks=[early, reduce], verbose=0\n",
    "    )\n",
    "    secs = time.time() - t0\n",
    "\n",
    "    # evaluate best weights on train & val\n",
    "    tr = model.evaluate(X_train, y_train, verbose=0)\n",
    "    va = model.evaluate(X_test,  y_test,  verbose=0)  # keep as \"test\" if you prefer; acceptance asks train vs val, you can treat this as val/test\n",
    "    rows.append({\n",
    "        \"optimizer\": cfg[\"name\"],\n",
    "        \"epochs_run\": len(hist.history[\"loss\"]),\n",
    "        \"train_time_s\": round(secs, 2),\n",
    "        \"train_mse\": tr[0], \"train_mae\": tr[1], \"train_rmse\": tr[2],\n",
    "        \"val_mse\": va[0],   \"val_mae\": va[1],   \"val_rmse\": va[2],\n",
    "    })\n",
    "\n",
    "df = pd.DataFrame(rows)\n",
    "print(\"\\n=== Optimizer comparison (lower is better) ===\")\n",
    "print(df[[\"optimizer\",\"epochs_run\",\"train_time_s\",\"train_mse\",\"train_mae\",\"train_rmse\",\"val_mse\",\"val_mae\",\"val_rmse\"]].round(4))\n"
   ]
  },
  {
   "cell_type": "markdown",
   "id": "246f925c-21db-4da8-8cc4-0eedae0baab9",
   "metadata": {},
   "source": [
    "- Adam is the better optimizer here: stable, converged, and produced usable results.\n",
    "\n",
    "- SGD didn’t converge with current settings → not suitable unless tuned carefully."
   ]
  },
  {
   "cell_type": "code",
   "execution_count": 33,
   "id": "be6c3b75-f165-4968-8675-3bd69da55169",
   "metadata": {},
   "outputs": [
    {
     "name": "stdout",
     "output_type": "stream",
     "text": [
      "Running adam (lr=0.001) ...\n",
      "Running adam (lr=0.0003) ...\n",
      "Running sgd (lr=0.01) ...\n",
      "Running sgd (lr=0.003) ...\n",
      "Running sgd (lr=0.001) ...\n",
      "\n",
      "=== Optimizer & LR comparison (lower is better) ===\n",
      "  optimizer      lr  epochs_run  train_time_s  train_mse  train_mae  \\\n",
      "0      adam  0.0010          95        435.38     0.2341     0.3271   \n",
      "1       sgd  0.0100          15         65.54     0.4013     0.4532   \n",
      "2       sgd  0.0030          15         65.00     0.4202     0.4620   \n",
      "3       sgd  0.0010          15         72.48     0.4918     0.5169   \n",
      "4      adam  0.0003          15         66.56     0.5854     0.5346   \n",
      "\n",
      "   train_rmse  val_mse  val_mae  val_rmse  \n",
      "0      0.4838   0.2748   0.3512    0.5242  \n",
      "1      0.6335   0.4291   0.4594    0.6551  \n",
      "2      0.6482   0.4383   0.4659    0.6620  \n",
      "3      0.7013   0.5132   0.5214    0.7164  \n",
      "4      0.7651   0.6164   0.5415    0.7851  \n",
      "\n",
      "Best run → adam (lr=0.001) | Val RMSE=0.5242 | Time=435.38s\n"
     ]
    }
   ],
   "source": [
    "# === Optimizer comparison: Adam vs SGD (with timing) ===\n",
    "import time, math, pandas as pd, numpy as np\n",
    "import tensorflow as tf\n",
    "from tensorflow import keras\n",
    "from tensorflow.keras import layers\n",
    "\n",
    "# --- Reuse your X_train, X_test, y_train, y_test from California Housing ---\n",
    "\n",
    "def build_model(input_dim, activation=\"relu\"):\n",
    "    return keras.Sequential([\n",
    "        keras.Input(shape=(input_dim,)),\n",
    "        layers.Dense(64, activation=activation),\n",
    "        layers.Dense(64, activation=activation),\n",
    "        layers.Dense(1, activation=\"linear\"),\n",
    "    ])\n",
    "\n",
    "def make_optimizer(name, lr):\n",
    "    if name == \"adam\":\n",
    "        return keras.optimizers.Adam(learning_rate=lr, clipnorm=1.0)\n",
    "    if name == \"sgd\":\n",
    "        return keras.optimizers.SGD(learning_rate=lr, momentum=0.9, nesterov=True, clipnorm=1.0)\n",
    "    raise ValueError(\"unknown optimizer\")\n",
    "\n",
    "early  = keras.callbacks.EarlyStopping(monitor=\"val_loss\", patience=15, restore_best_weights=True)\n",
    "reduce = keras.callbacks.ReduceLROnPlateau(monitor=\"val_loss\", factor=0.5, patience=5, verbose=0)\n",
    "\n",
    "search = [\n",
    "    (\"adam\", 1e-3),\n",
    "    (\"adam\", 3e-4),\n",
    "    (\"sgd\",  1e-2),\n",
    "    (\"sgd\",  3e-3),\n",
    "    (\"sgd\",  1e-3),\n",
    "]\n",
    "\n",
    "rows, models = [], []\n",
    "for name, lr in search:\n",
    "    print(f\"Running {name} (lr={lr}) ...\")\n",
    "    model = build_model(X_train.shape[1], activation=\"relu\")\n",
    "    opt = make_optimizer(name, lr)\n",
    "    model.compile(optimizer=opt, loss=\"mse\",\n",
    "                  metrics=[\"mae\", tf.keras.metrics.RootMeanSquaredError(name=\"rmse\")])\n",
    "    t0 = time.time()\n",
    "    hist = model.fit(\n",
    "        X_train, y_train,\n",
    "        epochs=200, batch_size=32, validation_split=0.2,\n",
    "        callbacks=[early, reduce], verbose=0\n",
    "    )\n",
    "    secs = time.time() - t0\n",
    "\n",
    "    tr_mse, tr_mae, tr_rmse = model.evaluate(X_train, y_train, verbose=0)\n",
    "    va_mse, va_mae, va_rmse = model.evaluate(X_test,  y_test,  verbose=0)  # treat as validation/test\n",
    "    rows.append({\n",
    "        \"optimizer\": name, \"lr\": lr,\n",
    "        \"epochs_run\": len(hist.history[\"loss\"]),\n",
    "        \"train_time_s\": round(secs, 2),\n",
    "        \"train_mse\": tr_mse, \"train_mae\": tr_mae, \"train_rmse\": tr_rmse,\n",
    "        \"val_mse\": va_mse,   \"val_mae\": va_mae,   \"val_rmse\": va_rmse\n",
    "    })\n",
    "    models.append(model)\n",
    "\n",
    "df = pd.DataFrame(rows).sort_values([\"val_rmse\",\"train_time_s\"]).reset_index(drop=True)\n",
    "print(\"\\n=== Optimizer & LR comparison (lower is better) ===\")\n",
    "print(df[[\"optimizer\",\"lr\",\"epochs_run\",\"train_time_s\",\"train_mse\",\"train_mae\",\"train_rmse\",\n",
    "          \"val_mse\",\"val_mae\",\"val_rmse\"]].round(4))\n",
    "\n",
    "# Evaluate the best on test (already using test above; keeping a separate print if you want)\n",
    "best_idx = df.index[0]\n",
    "best = df.loc[best_idx]\n",
    "print(f\"\\nBest run → {best.optimizer} (lr={best.lr}) | Val RMSE={best.val_rmse:.4f} | Time={best.train_time_s}s\")\n"
   ]
  },
  {
   "cell_type": "code",
   "execution_count": null,
   "id": "f7b0858e-1491-461f-b038-e4a92fce2b5c",
   "metadata": {},
   "outputs": [],
   "source": []
  }
 ],
 "metadata": {
  "kernelspec": {
   "display_name": "Python (mlenv)",
   "language": "python",
   "name": "mlenv"
  },
  "language_info": {
   "codemirror_mode": {
    "name": "ipython",
    "version": 3
   },
   "file_extension": ".py",
   "mimetype": "text/x-python",
   "name": "python",
   "nbconvert_exporter": "python",
   "pygments_lexer": "ipython3",
   "version": "3.13.3"
  }
 },
 "nbformat": 4,
 "nbformat_minor": 5
}
