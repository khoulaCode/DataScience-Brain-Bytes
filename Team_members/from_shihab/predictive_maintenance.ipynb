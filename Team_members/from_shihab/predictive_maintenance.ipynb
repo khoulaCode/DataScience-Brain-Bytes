{
 "cells": [
  {
   "cell_type": "markdown",
   "id": "2c2d3f54-1ada-462e-b8cf-f4c8431d6edf",
   "metadata": {},
   "source": [
    "# Model 1: Failure Prediction"
   ]
  },
  {
   "cell_type": "code",
   "execution_count": 28,
   "id": "f678f156-2922-4bc5-87c0-4ed3157eab17",
   "metadata": {},
   "outputs": [],
   "source": [
    "import pandas as pd\n",
    "from sklearn.compose import ColumnTransformer\n",
    "from sklearn.preprocessing import StandardScaler\n",
    "from sklearn.pipeline import Pipeline\n",
    "import matplotlib.pyplot as plt\n",
    "from sklearn.linear_model import LogisticRegression\n",
    "from sklearn.ensemble import RandomForestClassifier, GradientBoostingClassifier\n",
    "from sklearn.metrics import classification_report, precision_recall_curve, confusion_matrix, average_precision_score\n",
    "from sklearn.tree import DecisionTreeClassifier\n",
    "from sklearn.svm import SVC\n",
    "from sklearn.naive_bayes import GaussianNB\n",
    "from xgboost import XGBClassifier\n",
    "import numpy as np"
   ]
  },
  {
   "cell_type": "code",
   "execution_count": 2,
   "id": "95007682-cce2-4d73-96ed-e6bcfc2307b2",
   "metadata": {},
   "outputs": [],
   "source": [
    "df = pd.read_csv('Data/ai4i20.csv')"
   ]
  },
  {
   "cell_type": "code",
   "execution_count": 3,
   "id": "39990176-cad5-416f-87a7-210b5e06072c",
   "metadata": {},
   "outputs": [
    {
     "data": {
      "text/html": [
       "<div>\n",
       "<style scoped>\n",
       "    .dataframe tbody tr th:only-of-type {\n",
       "        vertical-align: middle;\n",
       "    }\n",
       "\n",
       "    .dataframe tbody tr th {\n",
       "        vertical-align: top;\n",
       "    }\n",
       "\n",
       "    .dataframe thead th {\n",
       "        text-align: right;\n",
       "    }\n",
       "</style>\n",
       "<table border=\"1\" class=\"dataframe\">\n",
       "  <thead>\n",
       "    <tr style=\"text-align: right;\">\n",
       "      <th></th>\n",
       "      <th>UDI</th>\n",
       "      <th>Product ID</th>\n",
       "      <th>Type</th>\n",
       "      <th>Air temperature [K]</th>\n",
       "      <th>Process temperature [K]</th>\n",
       "      <th>Rotational speed [rpm]</th>\n",
       "      <th>Torque [Nm]</th>\n",
       "      <th>Tool wear [min]</th>\n",
       "      <th>Machine failure</th>\n",
       "      <th>TWF</th>\n",
       "      <th>HDF</th>\n",
       "      <th>PWF</th>\n",
       "      <th>OSF</th>\n",
       "      <th>RNF</th>\n",
       "    </tr>\n",
       "  </thead>\n",
       "  <tbody>\n",
       "    <tr>\n",
       "      <th>0</th>\n",
       "      <td>1</td>\n",
       "      <td>M14860</td>\n",
       "      <td>M</td>\n",
       "      <td>298.1</td>\n",
       "      <td>308.6</td>\n",
       "      <td>1551</td>\n",
       "      <td>42.8</td>\n",
       "      <td>0</td>\n",
       "      <td>0</td>\n",
       "      <td>0</td>\n",
       "      <td>0</td>\n",
       "      <td>0</td>\n",
       "      <td>0</td>\n",
       "      <td>0</td>\n",
       "    </tr>\n",
       "    <tr>\n",
       "      <th>1</th>\n",
       "      <td>2</td>\n",
       "      <td>L47181</td>\n",
       "      <td>L</td>\n",
       "      <td>298.2</td>\n",
       "      <td>308.7</td>\n",
       "      <td>1408</td>\n",
       "      <td>46.3</td>\n",
       "      <td>3</td>\n",
       "      <td>0</td>\n",
       "      <td>0</td>\n",
       "      <td>0</td>\n",
       "      <td>0</td>\n",
       "      <td>0</td>\n",
       "      <td>0</td>\n",
       "    </tr>\n",
       "    <tr>\n",
       "      <th>2</th>\n",
       "      <td>3</td>\n",
       "      <td>L47182</td>\n",
       "      <td>L</td>\n",
       "      <td>298.1</td>\n",
       "      <td>308.5</td>\n",
       "      <td>1498</td>\n",
       "      <td>49.4</td>\n",
       "      <td>5</td>\n",
       "      <td>0</td>\n",
       "      <td>0</td>\n",
       "      <td>0</td>\n",
       "      <td>0</td>\n",
       "      <td>0</td>\n",
       "      <td>0</td>\n",
       "    </tr>\n",
       "    <tr>\n",
       "      <th>3</th>\n",
       "      <td>4</td>\n",
       "      <td>L47183</td>\n",
       "      <td>L</td>\n",
       "      <td>298.2</td>\n",
       "      <td>308.6</td>\n",
       "      <td>1433</td>\n",
       "      <td>39.5</td>\n",
       "      <td>7</td>\n",
       "      <td>0</td>\n",
       "      <td>0</td>\n",
       "      <td>0</td>\n",
       "      <td>0</td>\n",
       "      <td>0</td>\n",
       "      <td>0</td>\n",
       "    </tr>\n",
       "    <tr>\n",
       "      <th>4</th>\n",
       "      <td>5</td>\n",
       "      <td>L47184</td>\n",
       "      <td>L</td>\n",
       "      <td>298.2</td>\n",
       "      <td>308.7</td>\n",
       "      <td>1408</td>\n",
       "      <td>40.0</td>\n",
       "      <td>9</td>\n",
       "      <td>0</td>\n",
       "      <td>0</td>\n",
       "      <td>0</td>\n",
       "      <td>0</td>\n",
       "      <td>0</td>\n",
       "      <td>0</td>\n",
       "    </tr>\n",
       "    <tr>\n",
       "      <th>...</th>\n",
       "      <td>...</td>\n",
       "      <td>...</td>\n",
       "      <td>...</td>\n",
       "      <td>...</td>\n",
       "      <td>...</td>\n",
       "      <td>...</td>\n",
       "      <td>...</td>\n",
       "      <td>...</td>\n",
       "      <td>...</td>\n",
       "      <td>...</td>\n",
       "      <td>...</td>\n",
       "      <td>...</td>\n",
       "      <td>...</td>\n",
       "      <td>...</td>\n",
       "    </tr>\n",
       "    <tr>\n",
       "      <th>9995</th>\n",
       "      <td>9996</td>\n",
       "      <td>M24855</td>\n",
       "      <td>M</td>\n",
       "      <td>298.8</td>\n",
       "      <td>308.4</td>\n",
       "      <td>1604</td>\n",
       "      <td>29.5</td>\n",
       "      <td>14</td>\n",
       "      <td>0</td>\n",
       "      <td>0</td>\n",
       "      <td>0</td>\n",
       "      <td>0</td>\n",
       "      <td>0</td>\n",
       "      <td>0</td>\n",
       "    </tr>\n",
       "    <tr>\n",
       "      <th>9996</th>\n",
       "      <td>9997</td>\n",
       "      <td>H39410</td>\n",
       "      <td>H</td>\n",
       "      <td>298.9</td>\n",
       "      <td>308.4</td>\n",
       "      <td>1632</td>\n",
       "      <td>31.8</td>\n",
       "      <td>17</td>\n",
       "      <td>0</td>\n",
       "      <td>0</td>\n",
       "      <td>0</td>\n",
       "      <td>0</td>\n",
       "      <td>0</td>\n",
       "      <td>0</td>\n",
       "    </tr>\n",
       "    <tr>\n",
       "      <th>9997</th>\n",
       "      <td>9998</td>\n",
       "      <td>M24857</td>\n",
       "      <td>M</td>\n",
       "      <td>299.0</td>\n",
       "      <td>308.6</td>\n",
       "      <td>1645</td>\n",
       "      <td>33.4</td>\n",
       "      <td>22</td>\n",
       "      <td>0</td>\n",
       "      <td>0</td>\n",
       "      <td>0</td>\n",
       "      <td>0</td>\n",
       "      <td>0</td>\n",
       "      <td>0</td>\n",
       "    </tr>\n",
       "    <tr>\n",
       "      <th>9998</th>\n",
       "      <td>9999</td>\n",
       "      <td>H39412</td>\n",
       "      <td>H</td>\n",
       "      <td>299.0</td>\n",
       "      <td>308.7</td>\n",
       "      <td>1408</td>\n",
       "      <td>48.5</td>\n",
       "      <td>25</td>\n",
       "      <td>0</td>\n",
       "      <td>0</td>\n",
       "      <td>0</td>\n",
       "      <td>0</td>\n",
       "      <td>0</td>\n",
       "      <td>0</td>\n",
       "    </tr>\n",
       "    <tr>\n",
       "      <th>9999</th>\n",
       "      <td>10000</td>\n",
       "      <td>M24859</td>\n",
       "      <td>M</td>\n",
       "      <td>299.0</td>\n",
       "      <td>308.7</td>\n",
       "      <td>1500</td>\n",
       "      <td>40.2</td>\n",
       "      <td>30</td>\n",
       "      <td>0</td>\n",
       "      <td>0</td>\n",
       "      <td>0</td>\n",
       "      <td>0</td>\n",
       "      <td>0</td>\n",
       "      <td>0</td>\n",
       "    </tr>\n",
       "  </tbody>\n",
       "</table>\n",
       "<p>10000 rows × 14 columns</p>\n",
       "</div>"
      ],
      "text/plain": [
       "        UDI Product ID Type  Air temperature [K]  Process temperature [K]  \\\n",
       "0         1     M14860    M                298.1                    308.6   \n",
       "1         2     L47181    L                298.2                    308.7   \n",
       "2         3     L47182    L                298.1                    308.5   \n",
       "3         4     L47183    L                298.2                    308.6   \n",
       "4         5     L47184    L                298.2                    308.7   \n",
       "...     ...        ...  ...                  ...                      ...   \n",
       "9995   9996     M24855    M                298.8                    308.4   \n",
       "9996   9997     H39410    H                298.9                    308.4   \n",
       "9997   9998     M24857    M                299.0                    308.6   \n",
       "9998   9999     H39412    H                299.0                    308.7   \n",
       "9999  10000     M24859    M                299.0                    308.7   \n",
       "\n",
       "      Rotational speed [rpm]  Torque [Nm]  Tool wear [min]  Machine failure  \\\n",
       "0                       1551         42.8                0                0   \n",
       "1                       1408         46.3                3                0   \n",
       "2                       1498         49.4                5                0   \n",
       "3                       1433         39.5                7                0   \n",
       "4                       1408         40.0                9                0   \n",
       "...                      ...          ...              ...              ...   \n",
       "9995                    1604         29.5               14                0   \n",
       "9996                    1632         31.8               17                0   \n",
       "9997                    1645         33.4               22                0   \n",
       "9998                    1408         48.5               25                0   \n",
       "9999                    1500         40.2               30                0   \n",
       "\n",
       "      TWF  HDF  PWF  OSF  RNF  \n",
       "0       0    0    0    0    0  \n",
       "1       0    0    0    0    0  \n",
       "2       0    0    0    0    0  \n",
       "3       0    0    0    0    0  \n",
       "4       0    0    0    0    0  \n",
       "...   ...  ...  ...  ...  ...  \n",
       "9995    0    0    0    0    0  \n",
       "9996    0    0    0    0    0  \n",
       "9997    0    0    0    0    0  \n",
       "9998    0    0    0    0    0  \n",
       "9999    0    0    0    0    0  \n",
       "\n",
       "[10000 rows x 14 columns]"
      ]
     },
     "execution_count": 3,
     "metadata": {},
     "output_type": "execute_result"
    }
   ],
   "source": [
    "df "
   ]
  },
  {
   "cell_type": "markdown",
   "id": "8d2e57d3-56e6-497c-925b-2bcd3fb85400",
   "metadata": {},
   "source": [
    "- Sensor features"
   ]
  },
  {
   "cell_type": "code",
   "execution_count": 4,
   "id": "4bb6438c-3c2a-4129-8d41-c250ef3db3f9",
   "metadata": {},
   "outputs": [],
   "source": [
    "num_features = [\n",
    "    \"Air temperature [K]\",\n",
    "    \"Process temperature [K]\",\n",
    "    \"Rotational speed [rpm]\",\n",
    "    \"Torque [Nm]\",\n",
    "    \"Tool wear [min]\"\n",
    "]"
   ]
  },
  {
   "cell_type": "markdown",
   "id": "3305e7f5-3bdb-4fa1-9810-7b937e44a1b4",
   "metadata": {},
   "source": [
    "- Binary target xolumn --> failure flag  "
   ]
  },
  {
   "cell_type": "code",
   "execution_count": 10,
   "id": "f9518b38-652d-4694-aa20-3622576a4626",
   "metadata": {},
   "outputs": [],
   "source": [
    "target_col = 'Machine failure'"
   ]
  },
  {
   "cell_type": "code",
   "execution_count": 11,
   "id": "75920dd4-3206-4e3d-a59b-847961b7b086",
   "metadata": {},
   "outputs": [
    {
     "name": "stdout",
     "output_type": "stream",
     "text": [
      "Shapes: (10000, 5) (10000,)\n"
     ]
    }
   ],
   "source": [
    "missing_cols = [c for c in num_features + [target_col] if c not in df.columns]\n",
    "assert not missing_cols, f\"Missing columns in the CSV: {missing_cols}\"\n",
    "\n",
    "X = df[num_features].copy()\n",
    "y = df[target_col].astype(int).copy()\n",
    "\n",
    "print(\"Shapes:\", X.shape, y.shape)"
   ]
  },
  {
   "cell_type": "code",
   "execution_count": 9,
   "id": "0e8c7af3-e3d4-4365-a277-500f8236a59f",
   "metadata": {},
   "outputs": [
    {
     "name": "stdout",
     "output_type": "stream",
     "text": [
      "['UDI', 'Product ID', 'Type', 'Air temperature [K]', 'Process temperature [K]', 'Rotational speed [rpm]', 'Torque [Nm]', 'Tool wear [min]', 'Machine failure', 'TWF', 'HDF', 'PWF', 'OSF', 'RNF']\n"
     ]
    }
   ],
   "source": [
    "print(df.columns.tolist())\n"
   ]
  },
  {
   "cell_type": "markdown",
   "id": "0434ec55-c45e-42f3-9bfa-0626cdb829cb",
   "metadata": {},
   "source": [
    "# STEP 2 — Train/Test split"
   ]
  },
  {
   "cell_type": "code",
   "execution_count": 12,
   "id": "381f188b-82ed-461c-81e5-20ae8f88ad8b",
   "metadata": {},
   "outputs": [
    {
     "name": "stdout",
     "output_type": "stream",
     "text": [
      "Train/Test: (8000, 5) (2000, 5)\n"
     ]
    }
   ],
   "source": [
    "\n",
    "from sklearn.model_selection import train_test_split\n",
    "\n",
    "X_train, X_test, y_train, y_test = train_test_split(\n",
    "    X, y, test_size=0.20, random_state=42, stratify=y\n",
    ")\n",
    "\n",
    "print(\"Train/Test:\", X_train.shape, X_test.shape)\n"
   ]
  },
  {
   "cell_type": "markdown",
   "id": "341c9ace-b030-4cab-bd2a-119cc76dc6f3",
   "metadata": {},
   "source": [
    "# Preprocessor for numeric scaling (used in Logistic Regression pipeline)"
   ]
  },
  {
   "cell_type": "code",
   "execution_count": 15,
   "id": "fa0d15b5-b86d-4eff-8ee6-ee69858099e4",
   "metadata": {},
   "outputs": [],
   "source": [
    "\n",
    "num_pre = ColumnTransformer(\n",
    "    transformers=[(\"num\", StandardScaler(), num_features)],\n",
    "    remainder=\"drop\"\n",
    ")\n",
    "\n",
    "models = {\n",
    "    \"LogisticRegression\": Pipeline([\n",
    "        (\"pre\", num_pre),\n",
    "        (\"clf\", LogisticRegression(max_iter=1000))\n",
    "    ]),\n",
    "    \"RandomForest\": Pipeline([\n",
    "        (\"pre\", \"passthrough\"),\n",
    "        (\"clf\", RandomForestClassifier(n_estimators=300, random_state=42))\n",
    "    ]),\n",
    "    \"GradientBoosting\": Pipeline([\n",
    "        (\"pre\", \"passthrough\"),\n",
    "        (\"clf\", GradientBoostingClassifier(random_state=42))\n",
    "    ])\n",
    "}\n"
   ]
  },
  {
   "cell_type": "code",
   "execution_count": 19,
   "id": "4080bcfb-5032-499e-885d-fbec58bef8df",
   "metadata": {},
   "outputs": [
    {
     "data": {
      "image/png": "[encoded data removed]",
      "text/plain": [
       "<Figure size 640x480 with 1 Axes>"
      ]
     },
     "metadata": {},
     "output_type": "display_data"
    },
    {
     "name": "stdout",
     "output_type": "stream",
     "text": [
      "\n",
      "=== LogisticRegression ===\n",
      "              precision    recall  f1-score   support\n",
      "\n",
      "           0      0.970     0.998     0.984      1932\n",
      "           1      0.692     0.132     0.222        68\n",
      "\n",
      "    accuracy                          0.969      2000\n",
      "   macro avg      0.831     0.565     0.603      2000\n",
      "weighted avg      0.961     0.969     0.958      2000\n",
      "\n",
      "\n",
      "=== RandomForest ===\n",
      "              precision    recall  f1-score   support\n",
      "\n",
      "           0      0.988     0.996     0.992      1932\n",
      "           1      0.863     0.647     0.739        68\n",
      "\n",
      "    accuracy                          0.985      2000\n",
      "   macro avg      0.925     0.822     0.866      2000\n",
      "weighted avg      0.983     0.985     0.983      2000\n",
      "\n",
      "\n",
      "=== GradientBoosting ===\n",
      "              precision    recall  f1-score   support\n",
      "\n",
      "           0      0.987     0.997     0.992      1932\n",
      "           1      0.878     0.632     0.735        68\n",
      "\n",
      "    accuracy                          0.985      2000\n",
      "   macro avg      0.932     0.815     0.864      2000\n",
      "weighted avg      0.983     0.985     0.983      2000\n",
      "\n",
      "\n",
      "Average Precision scores: {'LogisticRegression': 0.43747220897653877, 'RandomForest': 0.8186359321869532, 'GradientBoosting': 0.7879444914125335}\n"
     ]
    }
   ],
   "source": [
    "ap_scores = {}\n",
    "\n",
    "plt.figure()\n",
    "for name, pipe in models.items():\n",
    "    # Train\n",
    "    pipe.fit(X_train, y_train)\n",
    "\n",
    "    # Get positive-class scores for PR curve\n",
    "    if hasattr(pipe.named_steps[\"clf\"], \"predict_proba\"):\n",
    "        y_scores = pipe.predict_proba(X_test)[:, 1]\n",
    "    else:\n",
    "        y_scores = pipe.decision_function(X_test)\n",
    "\n",
    "    # Precision–Recall curve + Average Precision\n",
    "    precision, recall, _ = precision_recall_curve(y_test, y_scores)\n",
    "    ap = average_precision_score(y_test, y_scores)\n",
    "    ap_scores[name] = ap\n",
    "\n",
    "    plt.plot(recall, precision, label=f\"{name} (AP={ap:.3f})\")\n",
    "\n",
    "# Plot formatting\n",
    "plt.xlabel(\"Recall\")\n",
    "plt.ylabel(\"Precision\")\n",
    "plt.title(\"Model 1 — Precision–Recall Curves\")\n",
    "plt.legend()\n",
    "plt.show()\n",
    "\n",
    "# Print classification report at the default threshold\n",
    "for name, pipe in models.items():\n",
    "    y_pred = pipe.predict(X_test)\n",
    "    print(f\"\\n=== {name} ===\")\n",
    "    print(classification_report(y_test, y_pred, digits=3))\n",
    "\n",
    "print(\"\\nAverage Precision scores:\", ap_scores)\n"
   ]
  },
  {
   "cell_type": "markdown",
   "id": "2ba28115-5e07-428a-b6d5-f6b6d715357f",
   "metadata": {},
   "source": [
    "#  Model 2: Failure Type Classification\n"
   ]
  },
  {
   "cell_type": "code",
   "execution_count": 20,
   "id": "8399342c-97e7-4204-8ab1-d8d2155b3f66",
   "metadata": {},
   "outputs": [
    {
     "name": "stdout",
     "output_type": "stream",
     "text": [
      "failure_type\n",
      "HDF    106\n",
      "PWF     80\n",
      "OSF     78\n",
      "TWF     42\n",
      "RNF     18\n",
      "Name: count, dtype: int64\n"
     ]
    }
   ],
   "source": [
    "failure_flags = [\"TWF\", \"HDF\", \"PWF\", \"OSF\", \"RNF\"]\n",
    "assert all(c in df.columns for c in failure_flags), \"Failure flag columns are missing.\"\n",
    "\n",
    "# Keep only rows where exactly one failure type is active\n",
    "df_multi = df[df[failure_flags].sum(axis=1) == 1].copy()\n",
    "\n",
    "# Map the '1' position to the corresponding label\n",
    "df_multi[\"failure_type\"] = df_multi[failure_flags].idxmax(axis=1)\n",
    "\n",
    "print(df_multi[\"failure_type\"].value_counts())"
   ]
  },
  {
   "cell_type": "code",
   "execution_count": 21,
   "id": "9321991a-0ab4-4ead-ba9c-8331c1bfba78",
   "metadata": {},
   "outputs": [
    {
     "name": "stdout",
     "output_type": "stream",
     "text": [
      "Train/Test shapes: (259, 5) (65, 5)\n"
     ]
    }
   ],
   "source": [
    "num_features = [\n",
    "    \"Air temperature [K]\",\n",
    "    \"Process temperature [K]\",\n",
    "    \"Rotational speed [rpm]\",\n",
    "    \"Torque [Nm]\",\n",
    "    \"Tool wear [min]\"\n",
    "]\n",
    "\n",
    "missing = [c for c in num_features if c not in df_multi.columns]\n",
    "assert not missing, f\"Missing feature columns: {missing}\"\n",
    "\n",
    "X = df_multi[num_features].copy()\n",
    "y = df_multi[\"failure_type\"].astype(str).copy()\n",
    "\n",
    "X_train, X_test, y_train, y_test = train_test_split(\n",
    "    X, y, test_size=0.20, random_state=42, stratify=y\n",
    ")\n",
    "\n",
    "print(\"Train/Test shapes:\", X_train.shape, X_test.shape)"
   ]
  }
 ],
 "metadata": {
  "kernelspec": {
   "display_name": "Python 3 (ipykernel)",
   "language": "python",
   "name": "python3"
  },
  "language_info": {
   "codemirror_mode": {
    "name": "ipython",
    "version": 3
   },
   "file_extension": ".py",
   "mimetype": "text/x-python",
   "name": "python",
   "nbconvert_exporter": "python",
   "pygments_lexer": "ipython3",
   "version": "3.13.3"
  }
 },
 "nbformat": 4,
 "nbformat_minor": 5
}
