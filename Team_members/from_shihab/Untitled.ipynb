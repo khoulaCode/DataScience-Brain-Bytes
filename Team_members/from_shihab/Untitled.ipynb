{
 "cells": [
  {
   "cell_type": "code",
   "execution_count": null,
   "id": "b2c85095-9014-49f7-866d-88812ef273d5",
   "metadata": {},
   "outputs": [],
   "source": []
  },
  {
   "cell_type": "code",
   "execution_count": 1,
   "id": "c29d9737-7048-4a9c-af28-e4bc5583ee94",
   "metadata": {},
   "outputs": [
    {
     "name": "stdout",
     "output_type": "stream",
     "text": [
      "Requirement already satisfied: requests in c:\\python313\\lib\\site-packages (2.32.4)\n",
      "Requirement already satisfied: charset_normalizer<4,>=2 in c:\\python313\\lib\\site-packages (from requests) (3.4.2)\n",
      "Requirement already satisfied: idna<4,>=2.5 in c:\\python313\\lib\\site-packages (from requests) (3.10)\n",
      "Requirement already satisfied: urllib3<3,>=1.21.1 in c:\\python313\\lib\\site-packages (from requests) (2.5.0)\n",
      "Requirement already satisfied: certifi>=2017.4.17 in c:\\python313\\lib\\site-packages (from requests) (2025.6.15)\n",
      "Requirement already satisfied: beautifulsoup4 in c:\\python313\\lib\\site-packages (4.13.4)\n",
      "Requirement already satisfied: soupsieve>1.2 in c:\\python313\\lib\\site-packages (from beautifulsoup4) (2.7)\n",
      "Requirement already satisfied: typing-extensions>=4.0.0 in c:\\python313\\lib\\site-packages (from beautifulsoup4) (4.14.0)\n"
     ]
    }
   ],
   "source": [
    "!pip install requests\n",
    "!pip install beautifulsoup4"
   ]
  },
  {
   "cell_type": "code",
   "execution_count": 2,
   "id": "6bc8488b-90aa-4b4a-8968-37d7cc2407de",
   "metadata": {},
   "outputs": [],
   "source": [
    "import pandas as pd\n",
    "import numpy as np\n",
    "import matplotlib.pyplot as plt\n",
    "import requests"
   ]
  },
  {
   "cell_type": "code",
   "execution_count": 3,
   "id": "80c799fc-d529-446d-977b-3c41c182899e",
   "metadata": {},
   "outputs": [
    {
     "name": "stdout",
     "output_type": "stream",
     "text": [
      "you have the parmission to use the page ✅\n"
     ]
    }
   ],
   "source": [
    "page_link =\"https://www.scrapethissite.com/pages/frames/\"\n",
    "page_data = requests.get(page_link)\n",
    "if page_data.status_code == 200:\n",
    "    print(\"you have the parmission to use the page ✅\")"
   ]
  },
  {
   "cell_type": "code",
   "execution_count": 4,
   "id": "baa7c2e3-1d27-4cc3-9122-480b576a9ef6",
   "metadata": {},
   "outputs": [
    {
     "data": {
      "text/plain": [
       "b'<!doctype html>\\n<html lang=\"en\">\\n  <head>\\n    <meta charset=\"utf-8\">\\n    <title>Turtles All the Way Down: Frames &amp; iFrames | Scrape This Site | A public sandbox for learning web scraping</title>\\n    <link rel=\"icon\" type=\"image/png\" href=\"/static/images/scraper-icon.png\" />\\n\\n    <meta name=\"viewport\" content=\"width=device-width, initial-scale=1.0\">\\n    <meta name=\"description\" content=\"Some older sites might still use frames to break up thier pages. Modern ones might be using iFrames to expose data. Learn about turtles as you scrape content inside frames.\">\\n\\n    <link href=\"https://maxcdn.bootstrapcdn.com/bootstrap/3.3.5/css/bootstrap.min.css\" rel=\"stylesheet\" integrity=\"sha256-MfvZlkHCEqatNoGiOXveE8FIwMzZg4W85qfrfIFBfYc= sha512-dTfge/zgoMYpP7QbHy4gWMEGsbsdZeCXz7irItjcC3sPUFtf0kuFbDz/ixG7ArTxmDjLXDmezHubeNikyKGVyQ==\" crossorigin=\"anonymous\">\\n    <link href=\\'https://fonts.googleapis.com/css?family=Lato:400,700\\' rel=\\'stylesheet\\' type=\\'text/css\\'>\\n    <link rel=\"stylesheet\" type=\"text/css\" href=\"/static/css/styles.css\">\\n\\n    \\n<meta name=\"robots\" content=\"noindex\">\\n<link href=\"https://lipis.github.io/flag-icon-css/css/flag-icon.css\" rel=\"stylesheet\">\\n\\n\\n  </head>\\n\\n  <body>\\n    <nav id=\"site-nav\">\\n            <div class=\"container\">\\n                <div class=\"col-md-12\">\\n                    <ul class=\"nav nav-tabs\">\\n                        <li id=\"nav-homepage\">\\n                            <a href=\"/\" class=\"nav-link hidden-sm hidden-xs\">\\n                                <img src=\"/static/images/scraper-icon.png\" id=\"nav-logo\">\\n                                Scrape This Site\\n                            </a>\\n                        </li>\\n                        <li id=\"nav-sandbox\">\\n                            <a href=\"/pages/\" class=\"nav-link\">\\n                                <i class=\"glyphicon glyphicon-console hidden-sm hidden-xs\"></i>\\n                                Sandbox\\n                            </a>\\n                        </li>\\n                        <li id=\"nav-lessons\">\\n                            <a href=\"/lessons/\" class=\"nav-link\">\\n                                <i class=\"glyphicon glyphicon-education hidden-sm hidden-xs\"></i>\\n                                Lessons\\n                            </a>\\n                        </li>\\n                        <li id=\"nav-faq\">\\n                            <a href=\"/faq/\" class=\"nav-link\">\\n                                <i class=\"glyphicon glyphicon-flag hidden-sm hidden-xs\"></i>\\n                                FAQ\\n                            </a>\\n                        </li>\\n                        \\n                        <li id=\"nav-login\" class=\"pull-right\">\\n                            <a href=\"/login/\" class=\"nav-link\">\\n                                Login\\n                            </a>\\n                        </li>\\n                        \\n                    </ul>\\n                </div>\\n            </div>\\n        </nav>\\n\\n        <script type=\"text/javascript\">\\n            var path = document.location.pathname;\\n            var tab = undefined;\\n            if (path === \"/\"){\\n                tab = document.querySelector(\"#nav-homepage\");\\n            } else if (path.indexOf(\"/faq/\") === 0){\\n                tab = document.querySelector(\"#nav-faq\");\\n            } else if (path.indexOf(\"/lessons/\") === 0){\\n                tab = document.querySelector(\"#nav-lessons\");\\n            } else if (path.indexOf(\"/pages/\") === 0) {\\n                tab = document.querySelector(\"#nav-sandbox\");\\n            } else if (path.indexOf(\"/login/\") === 0) {\\n                tab = document.querySelector(\"#nav-login\");\\n            }\\n            tab.classList.add(\"active\")\\n        </script>\\n\\n    \\n\\n    \\n\\n        <div id=\"page\">\\n\\n            <section id=\"frames\">\\n                <div class=\"container\">\\n\\n                    <div class=\"row\">\\n                    <div class=\"col-md-12\">\\n                        <h1>\\n                            Turtles All the Way Down: Frames &amp; iFrames\\n                            <small>14 items</small>\\n                        </h1>\\n                        <hr />\\n                    </div>\\n                </div>\\n                <div class=\"row\">\\n                    <div class=\"col-md-12\">\\n                        <p class=\"lead\">\\n                            Some older sites might still use frames to break up thier pages. Modern ones might be using iFrames to expose data. Learn about turtles as you scrape content inside frames.\\n                            See if you can find the &#39;real&#39; URL that our content is being loaded from, and scrape that page. Also practice interating over a list of items and loading their detail pages to get more information about each one.\\n                        </p>\\n                        <hr />\\n                    </div>\\n                </div>\\n                <div class=\"row\">\\n                    <div class=\"col-md-6\">\\n                        <p>\\n                            <i class=\"glyphicon glyphicon-education\"></i> There are <a href=\"/lessons/\">3 video lessons</a> that show you how to scrape this page.\\n                        </p>\\n                        <hr />\\n                    </div>\\n                    <div class=\"col-md-6 text-right\">\\n                        <p>\\n                            \\n                                Data via\\n                                <a href=\"https://en.wikipedia.org/wiki/List_of_Testudines_families\" class=\"data-attribution\" target=\"_blank\">https://en.wikipedia.org/wiki/List_of_Testudines_families</a>\\n                            \\n                        </p>\\n                        <hr />\\n                    </div>\\n                </div>\\n\\n                    <div class=\"row\">\\n                        <div class=\"col-md-12\">\\n                            <frameset rows=\"10%,80%,10%\">\\n                                <frame name=\"top\" src=\"/pages/frames/?frame=top\" />\\n                                <frame name=\"main\" src=\"/pages/frames/?frame=main\" />\\n                                <frame name=\"bottom\" src=\"/pages/frames/frame=bottom\" />\\n                                <noframes>\\n                                        Your browser does not support frames.\\n                                </noframes>\\n                            </frameset>\\n\\n                            <iframe src=\"/pages/frames/?frame=i\" id=\"iframe\">\\n                                Your browser does not support iframes\\n                            </iframe>\\n\\n                        </div><!--.col-->\\n                    </div><!--.row-->\\n\\n                </div><!--.container-->\\n            </section>\\n\\n        </div><!--#page-->\\n\\n    \\n\\n\\n    <section id=\"footer\">\\n        <div class=\"container\">\\n            <div class=\"row\">\\n                <div class=\"col-md-12 text-center text-muted\">\\n                    Lessons and Videos &copy; Hartley Brody 2023\\n                </div><!--.col-->\\n            </div><!--.row-->\\n        </div><!--.container-->\\n    </section>\\n  </body>\\n\\n  <script src=\"https://ajax.googleapis.com/ajax/libs/jquery/1.11.3/jquery.min.js\"></script>\\n  <script src=\"https://maxcdn.bootstrapcdn.com/bootstrap/3.3.5/js/bootstrap.min.js\" integrity=\"sha256-Sk3nkD6mLTMOF0EOpNtsIry+s1CsaqQC1rVLTAy+0yc= sha512-K1qjQ+NcF2TYO/eI3M6v8EiNYZfA95pQumfvcVrTHtwQVDG+aHRqLi/ETn2uB+1JqwYqVG3LIvdm9lj6imS/pQ==\" crossorigin=\"anonymous\"></script>\\n\\n  \\n\\n  <script src=\"https://cdnjs.cloudflare.com/ajax/libs/pnotify/2.1.0/pnotify.core.min.js\"></script>\\n  <link href=\"https://cdnjs.cloudflare.com/ajax/libs/pnotify/2.1.0/pnotify.core.min.css\" rel=\"stylesheet\" type=\"text/css\">\\n\\n  <!-- pnotify messages -->\\n  <script type=\"text/javascript\">\\n    \\n    PNotify.prototype.options.styling = \"bootstrap3\";\\n    $(function(){\\n      \\n    });\\n    \\n\\n    $(function () {\\n      $(\\'[data-toggle=\"tooltip\"]\\').tooltip()\\n    })\\n  </script>\\n\\n  <!-- golbal video controls -->\\n  <script type=\"text/javascript\">\\n    $(\"video\").hover(function() {\\n        $(this).prop(\"controls\", true);\\n    }, function() {\\n        $(this).prop(\"controls\", false);\\n    });\\n\\n    $(\"video\").click(function() {\\n        if( this.paused){\\n            this.play();\\n        }\\n        else {\\n            this.pause();\\n        }\\n    });\\n    </script>\\n\\n  <!-- insert google analytics here -->\\n  <script>\\n    (function(i,s,o,g,r,a,m){i[\\'GoogleAnalyticsObject\\']=r;i[r]=i[r]||function(){\\n    (i[r].q=i[r].q||[]).push(arguments)},i[r].l=1*new Date();a=s.createElement(o),\\n    m=s.getElementsByTagName(o)[0];a.async=1;a.src=g;m.parentNode.insertBefore(a,m)\\n    })(window,document,\\'script\\',\\'https://www.google-analytics.com/analytics.js\\',\\'ga\\');\\n\\n    ga(\\'create\\', \\'UA-41551755-8\\', \\'auto\\');\\n    ga(\\'send\\', \\'pageview\\');\\n  </script>\\n\\n  <!-- Facebook Pixel Code -->\\n  <script>\\n  !function(f,b,e,v,n,t,s){if(f.fbq)return;n=f.fbq=function(){n.callMethod?\\n  n.callMethod.apply(n,arguments):n.queue.push(arguments)};if(!f._fbq)f._fbq=n;\\n  n.push=n;n.loaded=!0;n.version=\\'2.0\\';n.queue=[];t=b.createElement(e);t.async=!0;\\n  t.src=v;s=b.getElementsByTagName(e)[0];s.parentNode.insertBefore(t,s)}(window,\\n  document,\\'script\\',\\'https://connect.facebook.net/en_US/fbevents.js\\');\\n\\n  fbq(\\'init\\', \\'764287443701341\\');\\n  fbq(\\'track\\', \"PageView\");</script>\\n  <noscript><img height=\"1\" width=\"1\" style=\"display:none\"\\n  src=\"https://www.facebook.com/tr?id=764287443701341&ev=PageView&noscript=1\"\\n  /></noscript>\\n  <!-- End Facebook Pixel Code -->\\n\\n  <!-- Google Code for Remarketing Tag -->\\n  <script type=\"text/javascript\">\\n    /* <![CDATA[ */\\n    var google_conversion_id = 950945448;\\n    var google_custom_params = window.google_tag_params;\\n    var google_remarketing_only = true;\\n    /* ]]> */\\n    </script>\\n    <script type=\"text/javascript\" src=\"//www.googleadservices.com/pagead/conversion.js\">\\n    </script>\\n    <noscript>\\n    <div style=\"display:inline;\">\\n    <img height=\"1\" width=\"1\" style=\"border-style:none;\" alt=\"\" src=\"//googleads.g.doubleclick.net/pagead/viewthroughconversion/950945448/?guid=ON&amp;script=0\"/>\\n    </div>\\n  </noscript>\\n\\n  <!-- Global site tag (gtag.js) - Google AdWords: 950945448 -->\\n  <script async src=\"https://www.googletagmanager.com/gtag/js?id=AW-950945448\"></script>\\n  <script>\\n   window.dataLayer = window.dataLayer || [];\\n   function gtag(){dataLayer.push(arguments);}\\n   gtag(\\'js\\', new Date());\\n\\n   gtag(\\'config\\', \\'AW-950945448\\');\\n  </script>\\n\\n</html>'"
      ]
     },
     "execution_count": 4,
     "metadata": {},
     "output_type": "execute_result"
    }
   ],
   "source": [
    "page_data.content"
   ]
  },
  {
   "cell_type": "code",
   "execution_count": 5,
   "id": "2e427a77-5459-4a2c-a547-2c2d0e3ffc3e",
   "metadata": {},
   "outputs": [
    {
     "data": {
      "text/plain": [
       "'<!doctype html>\\n<html lang=\"en\">\\n  <head>\\n    <meta charset=\"utf-8\">\\n    <title>Turtles All the Way Down: Frames &amp; iFrames | Scrape This Site | A public sandbox for learning web scraping</title>\\n    <link rel=\"icon\" type=\"image/png\" href=\"/static/images/scraper-icon.png\" />\\n\\n    <meta name=\"viewport\" content=\"width=device-width, initial-scale=1.0\">\\n    <meta name=\"description\" content=\"Some older sites might still use frames to break up thier pages. Modern ones might be using iFrames to expose data. Learn about turtles as you scrape content inside frames.\">\\n\\n    <link href=\"https://maxcdn.bootstrapcdn.com/bootstrap/3.3.5/css/bootstrap.min.css\" rel=\"stylesheet\" integrity=\"sha256-MfvZlkHCEqatNoGiOXveE8FIwMzZg4W85qfrfIFBfYc= sha512-dTfge/zgoMYpP7QbHy4gWMEGsbsdZeCXz7irItjcC3sPUFtf0kuFbDz/ixG7ArTxmDjLXDmezHubeNikyKGVyQ==\" crossorigin=\"anonymous\">\\n    <link href=\\'https://fonts.googleapis.com/css?family=Lato:400,700\\' rel=\\'stylesheet\\' type=\\'text/css\\'>\\n    <link rel=\"stylesheet\" type=\"text/css\" href=\"/static/css/styles.css\">\\n\\n    \\n<meta name=\"robots\" content=\"noindex\">\\n<link href=\"https://lipis.github.io/flag-icon-css/css/flag-icon.css\" rel=\"stylesheet\">\\n\\n\\n  </head>\\n\\n  <body>\\n    <nav id=\"site-nav\">\\n            <div class=\"container\">\\n                <div class=\"col-md-12\">\\n                    <ul class=\"nav nav-tabs\">\\n                        <li id=\"nav-homepage\">\\n                            <a href=\"/\" class=\"nav-link hidden-sm hidden-xs\">\\n                                <img src=\"/static/images/scraper-icon.png\" id=\"nav-logo\">\\n                                Scrape This Site\\n                            </a>\\n                        </li>\\n                        <li id=\"nav-sandbox\">\\n                            <a href=\"/pages/\" class=\"nav-link\">\\n                                <i class=\"glyphicon glyphicon-console hidden-sm hidden-xs\"></i>\\n                                Sandbox\\n                            </a>\\n                        </li>\\n                        <li id=\"nav-lessons\">\\n                            <a href=\"/lessons/\" class=\"nav-link\">\\n                                <i class=\"glyphicon glyphicon-education hidden-sm hidden-xs\"></i>\\n                                Lessons\\n                            </a>\\n                        </li>\\n                        <li id=\"nav-faq\">\\n                            <a href=\"/faq/\" class=\"nav-link\">\\n                                <i class=\"glyphicon glyphicon-flag hidden-sm hidden-xs\"></i>\\n                                FAQ\\n                            </a>\\n                        </li>\\n                        \\n                        <li id=\"nav-login\" class=\"pull-right\">\\n                            <a href=\"/login/\" class=\"nav-link\">\\n                                Login\\n                            </a>\\n                        </li>\\n                        \\n                    </ul>\\n                </div>\\n            </div>\\n        </nav>\\n\\n        <script type=\"text/javascript\">\\n            var path = document.location.pathname;\\n            var tab = undefined;\\n            if (path === \"/\"){\\n                tab = document.querySelector(\"#nav-homepage\");\\n            } else if (path.indexOf(\"/faq/\") === 0){\\n                tab = document.querySelector(\"#nav-faq\");\\n            } else if (path.indexOf(\"/lessons/\") === 0){\\n                tab = document.querySelector(\"#nav-lessons\");\\n            } else if (path.indexOf(\"/pages/\") === 0) {\\n                tab = document.querySelector(\"#nav-sandbox\");\\n            } else if (path.indexOf(\"/login/\") === 0) {\\n                tab = document.querySelector(\"#nav-login\");\\n            }\\n            tab.classList.add(\"active\")\\n        </script>\\n\\n    \\n\\n    \\n\\n        <div id=\"page\">\\n\\n            <section id=\"frames\">\\n                <div class=\"container\">\\n\\n                    <div class=\"row\">\\n                    <div class=\"col-md-12\">\\n                        <h1>\\n                            Turtles All the Way Down: Frames &amp; iFrames\\n                            <small>14 items</small>\\n                        </h1>\\n                        <hr />\\n                    </div>\\n                </div>\\n                <div class=\"row\">\\n                    <div class=\"col-md-12\">\\n                        <p class=\"lead\">\\n                            Some older sites might still use frames to break up thier pages. Modern ones might be using iFrames to expose data. Learn about turtles as you scrape content inside frames.\\n                            See if you can find the &#39;real&#39; URL that our content is being loaded from, and scrape that page. Also practice interating over a list of items and loading their detail pages to get more information about each one.\\n                        </p>\\n                        <hr />\\n                    </div>\\n                </div>\\n                <div class=\"row\">\\n                    <div class=\"col-md-6\">\\n                        <p>\\n                            <i class=\"glyphicon glyphicon-education\"></i> There are <a href=\"/lessons/\">3 video lessons</a> that show you how to scrape this page.\\n                        </p>\\n                        <hr />\\n                    </div>\\n                    <div class=\"col-md-6 text-right\">\\n                        <p>\\n                            \\n                                Data via\\n                                <a href=\"https://en.wikipedia.org/wiki/List_of_Testudines_families\" class=\"data-attribution\" target=\"_blank\">https://en.wikipedia.org/wiki/List_of_Testudines_families</a>\\n                            \\n                        </p>\\n                        <hr />\\n                    </div>\\n                </div>\\n\\n                    <div class=\"row\">\\n                        <div class=\"col-md-12\">\\n                            <frameset rows=\"10%,80%,10%\">\\n                                <frame name=\"top\" src=\"/pages/frames/?frame=top\" />\\n                                <frame name=\"main\" src=\"/pages/frames/?frame=main\" />\\n                                <frame name=\"bottom\" src=\"/pages/frames/frame=bottom\" />\\n                                <noframes>\\n                                        Your browser does not support frames.\\n                                </noframes>\\n                            </frameset>\\n\\n                            <iframe src=\"/pages/frames/?frame=i\" id=\"iframe\">\\n                                Your browser does not support iframes\\n                            </iframe>\\n\\n                        </div><!--.col-->\\n                    </div><!--.row-->\\n\\n                </div><!--.container-->\\n            </section>\\n\\n        </div><!--#page-->\\n\\n    \\n\\n\\n    <section id=\"footer\">\\n        <div class=\"container\">\\n            <div class=\"row\">\\n                <div class=\"col-md-12 text-center text-muted\">\\n                    Lessons and Videos &copy; Hartley Brody 2023\\n                </div><!--.col-->\\n            </div><!--.row-->\\n        </div><!--.container-->\\n    </section>\\n  </body>\\n\\n  <script src=\"https://ajax.googleapis.com/ajax/libs/jquery/1.11.3/jquery.min.js\"></script>\\n  <script src=\"https://maxcdn.bootstrapcdn.com/bootstrap/3.3.5/js/bootstrap.min.js\" integrity=\"sha256-Sk3nkD6mLTMOF0EOpNtsIry+s1CsaqQC1rVLTAy+0yc= sha512-K1qjQ+NcF2TYO/eI3M6v8EiNYZfA95pQumfvcVrTHtwQVDG+aHRqLi/ETn2uB+1JqwYqVG3LIvdm9lj6imS/pQ==\" crossorigin=\"anonymous\"></script>\\n\\n  \\n\\n  <script src=\"https://cdnjs.cloudflare.com/ajax/libs/pnotify/2.1.0/pnotify.core.min.js\"></script>\\n  <link href=\"https://cdnjs.cloudflare.com/ajax/libs/pnotify/2.1.0/pnotify.core.min.css\" rel=\"stylesheet\" type=\"text/css\">\\n\\n  <!-- pnotify messages -->\\n  <script type=\"text/javascript\">\\n    \\n    PNotify.prototype.options.styling = \"bootstrap3\";\\n    $(function(){\\n      \\n    });\\n    \\n\\n    $(function () {\\n      $(\\'[data-toggle=\"tooltip\"]\\').tooltip()\\n    })\\n  </script>\\n\\n  <!-- golbal video controls -->\\n  <script type=\"text/javascript\">\\n    $(\"video\").hover(function() {\\n        $(this).prop(\"controls\", true);\\n    }, function() {\\n        $(this).prop(\"controls\", false);\\n    });\\n\\n    $(\"video\").click(function() {\\n        if( this.paused){\\n            this.play();\\n        }\\n        else {\\n            this.pause();\\n        }\\n    });\\n    </script>\\n\\n  <!-- insert google analytics here -->\\n  <script>\\n    (function(i,s,o,g,r,a,m){i[\\'GoogleAnalyticsObject\\']=r;i[r]=i[r]||function(){\\n    (i[r].q=i[r].q||[]).push(arguments)},i[r].l=1*new Date();a=s.createElement(o),\\n    m=s.getElementsByTagName(o)[0];a.async=1;a.src=g;m.parentNode.insertBefore(a,m)\\n    })(window,document,\\'script\\',\\'https://www.google-analytics.com/analytics.js\\',\\'ga\\');\\n\\n    ga(\\'create\\', \\'UA-41551755-8\\', \\'auto\\');\\n    ga(\\'send\\', \\'pageview\\');\\n  </script>\\n\\n  <!-- Facebook Pixel Code -->\\n  <script>\\n  !function(f,b,e,v,n,t,s){if(f.fbq)return;n=f.fbq=function(){n.callMethod?\\n  n.callMethod.apply(n,arguments):n.queue.push(arguments)};if(!f._fbq)f._fbq=n;\\n  n.push=n;n.loaded=!0;n.version=\\'2.0\\';n.queue=[];t=b.createElement(e);t.async=!0;\\n  t.src=v;s=b.getElementsByTagName(e)[0];s.parentNode.insertBefore(t,s)}(window,\\n  document,\\'script\\',\\'https://connect.facebook.net/en_US/fbevents.js\\');\\n\\n  fbq(\\'init\\', \\'764287443701341\\');\\n  fbq(\\'track\\', \"PageView\");</script>\\n  <noscript><img height=\"1\" width=\"1\" style=\"display:none\"\\n  src=\"https://www.facebook.com/tr?id=764287443701341&ev=PageView&noscript=1\"\\n  /></noscript>\\n  <!-- End Facebook Pixel Code -->\\n\\n  <!-- Google Code for Remarketing Tag -->\\n  <script type=\"text/javascript\">\\n    /* <![CDATA[ */\\n    var google_conversion_id = 950945448;\\n    var google_custom_params = window.google_tag_params;\\n    var google_remarketing_only = true;\\n    /* ]]> */\\n    </script>\\n    <script type=\"text/javascript\" src=\"//www.googleadservices.com/pagead/conversion.js\">\\n    </script>\\n    <noscript>\\n    <div style=\"display:inline;\">\\n    <img height=\"1\" width=\"1\" style=\"border-style:none;\" alt=\"\" src=\"//googleads.g.doubleclick.net/pagead/viewthroughconversion/950945448/?guid=ON&amp;script=0\"/>\\n    </div>\\n  </noscript>\\n\\n  <!-- Global site tag (gtag.js) - Google AdWords: 950945448 -->\\n  <script async src=\"https://www.googletagmanager.com/gtag/js?id=AW-950945448\"></script>\\n  <script>\\n   window.dataLayer = window.dataLayer || [];\\n   function gtag(){dataLayer.push(arguments);}\\n   gtag(\\'js\\', new Date());\\n\\n   gtag(\\'config\\', \\'AW-950945448\\');\\n  </script>\\n\\n</html>'"
      ]
     },
     "execution_count": 5,
     "metadata": {},
     "output_type": "execute_result"
    }
   ],
   "source": [
    "page_data.text"
   ]
  },
  {
   "cell_type": "code",
   "execution_count": 6,
   "id": "b2e3f8ee-fbfa-4cbb-bf6e-ff64ec597931",
   "metadata": {},
   "outputs": [
    {
     "data": {
      "text/plain": [
       "{'Date': 'Tue, 22 Jul 2025 08:31:21 GMT', 'Content-Type': 'text/html; charset=utf-8', 'Transfer-Encoding': 'chunked', 'Connection': 'keep-alive', 'Nel': '{\"report_to\":\"heroku-nel\",\"response_headers\":[\"Via\"],\"max_age\":3600,\"success_fraction\":0.01,\"failure_fraction\":0.1}', 'Report-To': '{\"group\":\"heroku-nel\",\"endpoints\":[{\"url\":\"https://nel.heroku.com/reports?s=Z2RJGiu7Ie4GfoKk3DmTZgNS2ArPyv5ITUh8YWn0RhA%3D\\\\u0026sid=67ff5de4-ad2b-4112-9289-cf96be89efed\\\\u0026ts=1753173081\"}],\"max_age\":3600}', 'Reporting-Endpoints': 'heroku-nel=\"https://nel.heroku.com/reports?s=Z2RJGiu7Ie4GfoKk3DmTZgNS2ArPyv5ITUh8YWn0RhA%3D&sid=67ff5de4-ad2b-4112-9289-cf96be89efed&ts=1753173081\"', 'Server': 'cloudflare', 'Via': '1.1 heroku-router', 'Cf-Cache-Status': 'DYNAMIC', 'Content-Encoding': 'gzip', 'CF-RAY': '963194cf59a6e1ac-MRS', 'alt-svc': 'h3=\":443\"; ma=86400'}"
      ]
     },
     "execution_count": 6,
     "metadata": {},
     "output_type": "execute_result"
    }
   ],
   "source": [
    "page_data.headers"
   ]
  },
  {
   "cell_type": "code",
   "execution_count": 7,
   "id": "4884e604-76a9-41c0-bbdf-8fb632264ba0",
   "metadata": {},
   "outputs": [
    {
     "data": {
      "text/plain": [
       "'cloudflare'"
      ]
     },
     "execution_count": 7,
     "metadata": {},
     "output_type": "execute_result"
    }
   ],
   "source": [
    "page_data.headers['Server']"
   ]
  },
  {
   "cell_type": "markdown",
   "id": "6582acf0-5b75-40c5-9cf6-4d5ed41e351c",
   "metadata": {},
   "source": [
    "- beautifulsoup--> static html\n",
    "- seluineum--> dynamic "
   ]
  },
  {
   "cell_type": "code",
   "execution_count": 8,
   "id": "2fa8d9fc-09e8-48d8-af01-bec4214710ef",
   "metadata": {},
   "outputs": [],
   "source": [
    "from bs4 import BeautifulSoup\n"
   ]
  },
  {
   "cell_type": "code",
   "execution_count": 9,
   "id": "db5c97bc-15f8-4eb5-9a77-f38db5b0d33e",
   "metadata": {},
   "outputs": [],
   "source": [
    "page_data.raise_for_status() # to handle the error"
   ]
  },
  {
   "cell_type": "code",
   "execution_count": 22,
   "id": "82fd4f5d-a3f7-452f-822c-ee6cd9646789",
   "metadata": {},
   "outputs": [],
   "source": [
    "libraies = BeautifulSoup(page_data.text, 'html.parser')\n"
   ]
  },
  {
   "cell_type": "code",
   "execution_count": 11,
   "id": "94fc31a4-dc0d-4ff6-b8c2-b3016b2c585b",
   "metadata": {},
   "outputs": [
    {
     "name": "stdout",
     "output_type": "stream",
     "text": [
      "Turtles All the Way Down: Frames & iFrames\n",
      "                            14 items\n"
     ]
    }
   ],
   "source": [
    "titles = libraies.find_all('h1')\n",
    "\n",
    "for title in titles:\n",
    "    print(title.text.strip())\n"
   ]
  },
  {
   "cell_type": "markdown",
   "id": "4f738bf8-3276-4b9e-a945-aea7fc1d90a5",
   "metadata": {},
   "source": [
    "to find and add the iframe path to the main link"
   ]
  },
  {
   "cell_type": "code",
   "execution_count": 25,
   "id": "fd2277a4-54d7-490f-92ed-b36c55b7d2a8",
   "metadata": {},
   "outputs": [
    {
     "name": "stdout",
     "output_type": "stream",
     "text": [
      "not ifarme found on the main page\n"
     ]
    }
   ],
   "source": [
    "iframe_tag =libraies.find('ifarme')\n",
    "if iframe_tag:\n",
    "    iframe_url=\"https://www.scrapethissite.com/\" +iframe_tag.get('src')\n",
    "    print(f\"Successfully:{iframe_url}\")\n",
    "else:\n",
    "    print('not ifarme found on the main page')"
   ]
  },
  {
   "cell_type": "code",
   "execution_count": 26,
   "id": "3c106b12-87af-4d20-a200-90f3ffad4b21",
   "metadata": {},
   "outputs": [],
   "source": [
    "turtles = libraies.find_all('div', class_='col-md-4 turtle-family-card')\n",
    "\n",
    "for turtle in turtles:\n",
    "    name = turtle.find('h3', class_='family-name')\n",
    "    info = turtle.find('p',class_='lead')\n",
    "\n",
    "    print(\"Turtle name:\",name)\n",
    "    print(info)\n",
    "    print(\"-\" * 30)"
   ]
  },
  {
   "cell_type": "code",
   "execution_count": 14,
   "id": "95b504e7-774a-4c47-8241-7c04350c1caa",
   "metadata": {},
   "outputs": [],
   "source": [
    "main_url='https://www.scrapethissite.com/pages/frames/'\n",
    "\n",
    "response=requests.get(main_url)"
   ]
  },
  {
   "cell_type": "code",
   "execution_count": 15,
   "id": "4c09cce6-e975-4ef2-a6dc-0672977665aa",
   "metadata": {},
   "outputs": [
    {
     "ename": "NameError",
     "evalue": "name 'li' is not defined",
     "output_type": "error",
     "traceback": [
      "\u001b[31m---------------------------------------------------------------------------\u001b[39m",
      "\u001b[31mNameError\u001b[39m                                 Traceback (most recent call last)",
      "\u001b[36mCell\u001b[39m\u001b[36m \u001b[39m\u001b[32mIn[15]\u001b[39m\u001b[32m, line 1\u001b[39m\n\u001b[32m----> \u001b[39m\u001b[32m1\u001b[39m iframe_tag=\u001b[43mli\u001b[49m\n",
      "\u001b[31mNameError\u001b[39m: name 'li' is not defined"
     ]
    }
   ],
   "source": [
    "iframe_tag=li"
   ]
  },
  {
   "cell_type": "code",
   "execution_count": null,
   "id": "f8225869-29de-4640-8e5f-4fea306f167f",
   "metadata": {},
   "outputs": [],
   "source": []
  }
 ],
 "metadata": {
  "kernelspec": {
   "display_name": "Python 3 (ipykernel)",
   "language": "python",
   "name": "python3"
  },
  "language_info": {
   "codemirror_mode": {
    "name": "ipython",
    "version": 3
   },
   "file_extension": ".py",
   "mimetype": "text/x-python",
   "name": "python",
   "nbconvert_exporter": "python",
   "pygments_lexer": "ipython3",
   "version": "3.13.3"
  }
 },
 "nbformat": 4,
 "nbformat_minor": 5
}
