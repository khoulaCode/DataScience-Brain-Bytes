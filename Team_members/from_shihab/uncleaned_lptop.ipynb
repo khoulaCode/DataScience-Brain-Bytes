{
 "cells": [
  {
   "cell_type": "code",
   "execution_count": 25,
   "id": "3baf5555-1dfe-445c-b636-558215b735d4",
   "metadata": {},
   "outputs": [
    {
     "data": {
      "text/html": [
       "<div>\n",
       "<style scoped>\n",
       "    .dataframe tbody tr th:only-of-type {\n",
       "        vertical-align: middle;\n",
       "    }\n",
       "\n",
       "    .dataframe tbody tr th {\n",
       "        vertical-align: top;\n",
       "    }\n",
       "\n",
       "    .dataframe thead th {\n",
       "        text-align: right;\n",
       "    }\n",
       "</style>\n",
       "<table border=\"1\" class=\"dataframe\">\n",
       "  <thead>\n",
       "    <tr style=\"text-align: right;\">\n",
       "      <th></th>\n",
       "      <th>Unnamed: 0</th>\n",
       "      <th>Company</th>\n",
       "      <th>TypeName</th>\n",
       "      <th>Inches</th>\n",
       "      <th>ScreenResolution</th>\n",
       "      <th>Cpu</th>\n",
       "      <th>Ram</th>\n",
       "      <th>Memory</th>\n",
       "      <th>Gpu</th>\n",
       "      <th>OpSys</th>\n",
       "      <th>Weight</th>\n",
       "      <th>Price</th>\n",
       "    </tr>\n",
       "  </thead>\n",
       "  <tbody>\n",
       "    <tr>\n",
       "      <th>0</th>\n",
       "      <td>0.0</td>\n",
       "      <td>Apple</td>\n",
       "      <td>Ultrabook</td>\n",
       "      <td>13.3</td>\n",
       "      <td>IPS Panel Retina Display 2560x1600</td>\n",
       "      <td>Intel Core i5 2.3GHz</td>\n",
       "      <td>8GB</td>\n",
       "      <td>128GB SSD</td>\n",
       "      <td>Intel Iris Plus Graphics 640</td>\n",
       "      <td>macOS</td>\n",
       "      <td>1.37kg</td>\n",
       "      <td>71378.6832</td>\n",
       "    </tr>\n",
       "    <tr>\n",
       "      <th>1</th>\n",
       "      <td>1.0</td>\n",
       "      <td>Apple</td>\n",
       "      <td>Ultrabook</td>\n",
       "      <td>13.3</td>\n",
       "      <td>1440x900</td>\n",
       "      <td>Intel Core i5 1.8GHz</td>\n",
       "      <td>8GB</td>\n",
       "      <td>128GB Flash Storage</td>\n",
       "      <td>Intel HD Graphics 6000</td>\n",
       "      <td>macOS</td>\n",
       "      <td>1.34kg</td>\n",
       "      <td>47895.5232</td>\n",
       "    </tr>\n",
       "    <tr>\n",
       "      <th>2</th>\n",
       "      <td>2.0</td>\n",
       "      <td>HP</td>\n",
       "      <td>Notebook</td>\n",
       "      <td>15.6</td>\n",
       "      <td>Full HD 1920x1080</td>\n",
       "      <td>Intel Core i5 7200U 2.5GHz</td>\n",
       "      <td>8GB</td>\n",
       "      <td>256GB SSD</td>\n",
       "      <td>Intel HD Graphics 620</td>\n",
       "      <td>No OS</td>\n",
       "      <td>1.86kg</td>\n",
       "      <td>30636.0000</td>\n",
       "    </tr>\n",
       "    <tr>\n",
       "      <th>3</th>\n",
       "      <td>3.0</td>\n",
       "      <td>Apple</td>\n",
       "      <td>Ultrabook</td>\n",
       "      <td>15.4</td>\n",
       "      <td>IPS Panel Retina Display 2880x1800</td>\n",
       "      <td>Intel Core i7 2.7GHz</td>\n",
       "      <td>16GB</td>\n",
       "      <td>512GB SSD</td>\n",
       "      <td>AMD Radeon Pro 455</td>\n",
       "      <td>macOS</td>\n",
       "      <td>1.83kg</td>\n",
       "      <td>135195.3360</td>\n",
       "    </tr>\n",
       "    <tr>\n",
       "      <th>4</th>\n",
       "      <td>4.0</td>\n",
       "      <td>Apple</td>\n",
       "      <td>Ultrabook</td>\n",
       "      <td>13.3</td>\n",
       "      <td>IPS Panel Retina Display 2560x1600</td>\n",
       "      <td>Intel Core i5 3.1GHz</td>\n",
       "      <td>8GB</td>\n",
       "      <td>256GB SSD</td>\n",
       "      <td>Intel Iris Plus Graphics 650</td>\n",
       "      <td>macOS</td>\n",
       "      <td>1.37kg</td>\n",
       "      <td>96095.8080</td>\n",
       "    </tr>\n",
       "    <tr>\n",
       "      <th>...</th>\n",
       "      <td>...</td>\n",
       "      <td>...</td>\n",
       "      <td>...</td>\n",
       "      <td>...</td>\n",
       "      <td>...</td>\n",
       "      <td>...</td>\n",
       "      <td>...</td>\n",
       "      <td>...</td>\n",
       "      <td>...</td>\n",
       "      <td>...</td>\n",
       "      <td>...</td>\n",
       "      <td>...</td>\n",
       "    </tr>\n",
       "    <tr>\n",
       "      <th>1298</th>\n",
       "      <td>1298.0</td>\n",
       "      <td>Lenovo</td>\n",
       "      <td>2 in 1 Convertible</td>\n",
       "      <td>14</td>\n",
       "      <td>IPS Panel Full HD / Touchscreen 1920x1080</td>\n",
       "      <td>Intel Core i7 6500U 2.5GHz</td>\n",
       "      <td>4GB</td>\n",
       "      <td>128GB SSD</td>\n",
       "      <td>Intel HD Graphics 520</td>\n",
       "      <td>Windows 10</td>\n",
       "      <td>1.8kg</td>\n",
       "      <td>33992.6400</td>\n",
       "    </tr>\n",
       "    <tr>\n",
       "      <th>1299</th>\n",
       "      <td>1299.0</td>\n",
       "      <td>Lenovo</td>\n",
       "      <td>2 in 1 Convertible</td>\n",
       "      <td>13.3</td>\n",
       "      <td>IPS Panel Quad HD+ / Touchscreen 3200x1800</td>\n",
       "      <td>Intel Core i7 6500U 2.5GHz</td>\n",
       "      <td>16GB</td>\n",
       "      <td>512GB SSD</td>\n",
       "      <td>Intel HD Graphics 520</td>\n",
       "      <td>Windows 10</td>\n",
       "      <td>1.3kg</td>\n",
       "      <td>79866.7200</td>\n",
       "    </tr>\n",
       "    <tr>\n",
       "      <th>1300</th>\n",
       "      <td>1300.0</td>\n",
       "      <td>Lenovo</td>\n",
       "      <td>Notebook</td>\n",
       "      <td>14</td>\n",
       "      <td>1366x768</td>\n",
       "      <td>Intel Celeron Dual Core N3050 1.6GHz</td>\n",
       "      <td>2GB</td>\n",
       "      <td>64GB Flash Storage</td>\n",
       "      <td>Intel HD Graphics</td>\n",
       "      <td>Windows 10</td>\n",
       "      <td>1.5kg</td>\n",
       "      <td>12201.1200</td>\n",
       "    </tr>\n",
       "    <tr>\n",
       "      <th>1301</th>\n",
       "      <td>1301.0</td>\n",
       "      <td>HP</td>\n",
       "      <td>Notebook</td>\n",
       "      <td>15.6</td>\n",
       "      <td>1366x768</td>\n",
       "      <td>Intel Core i7 6500U 2.5GHz</td>\n",
       "      <td>6GB</td>\n",
       "      <td>1TB HDD</td>\n",
       "      <td>AMD Radeon R5 M330</td>\n",
       "      <td>Windows 10</td>\n",
       "      <td>2.19kg</td>\n",
       "      <td>40705.9200</td>\n",
       "    </tr>\n",
       "    <tr>\n",
       "      <th>1302</th>\n",
       "      <td>1302.0</td>\n",
       "      <td>Asus</td>\n",
       "      <td>Notebook</td>\n",
       "      <td>15.6</td>\n",
       "      <td>1366x768</td>\n",
       "      <td>Intel Celeron Dual Core N3050 1.6GHz</td>\n",
       "      <td>4GB</td>\n",
       "      <td>500GB HDD</td>\n",
       "      <td>Intel HD Graphics</td>\n",
       "      <td>Windows 10</td>\n",
       "      <td>2.2kg</td>\n",
       "      <td>19660.3200</td>\n",
       "    </tr>\n",
       "  </tbody>\n",
       "</table>\n",
       "<p>1303 rows × 12 columns</p>\n",
       "</div>"
      ],
      "text/plain": [
       "      Unnamed: 0 Company            TypeName Inches  \\\n",
       "0            0.0   Apple           Ultrabook   13.3   \n",
       "1            1.0   Apple           Ultrabook   13.3   \n",
       "2            2.0      HP            Notebook   15.6   \n",
       "3            3.0   Apple           Ultrabook   15.4   \n",
       "4            4.0   Apple           Ultrabook   13.3   \n",
       "...          ...     ...                 ...    ...   \n",
       "1298      1298.0  Lenovo  2 in 1 Convertible     14   \n",
       "1299      1299.0  Lenovo  2 in 1 Convertible   13.3   \n",
       "1300      1300.0  Lenovo            Notebook     14   \n",
       "1301      1301.0      HP            Notebook   15.6   \n",
       "1302      1302.0    Asus            Notebook   15.6   \n",
       "\n",
       "                                ScreenResolution  \\\n",
       "0             IPS Panel Retina Display 2560x1600   \n",
       "1                                       1440x900   \n",
       "2                              Full HD 1920x1080   \n",
       "3             IPS Panel Retina Display 2880x1800   \n",
       "4             IPS Panel Retina Display 2560x1600   \n",
       "...                                          ...   \n",
       "1298   IPS Panel Full HD / Touchscreen 1920x1080   \n",
       "1299  IPS Panel Quad HD+ / Touchscreen 3200x1800   \n",
       "1300                                    1366x768   \n",
       "1301                                    1366x768   \n",
       "1302                                    1366x768   \n",
       "\n",
       "                                       Cpu   Ram               Memory  \\\n",
       "0                     Intel Core i5 2.3GHz   8GB            128GB SSD   \n",
       "1                     Intel Core i5 1.8GHz   8GB  128GB Flash Storage   \n",
       "2               Intel Core i5 7200U 2.5GHz   8GB            256GB SSD   \n",
       "3                     Intel Core i7 2.7GHz  16GB            512GB SSD   \n",
       "4                     Intel Core i5 3.1GHz   8GB            256GB SSD   \n",
       "...                                    ...   ...                  ...   \n",
       "1298            Intel Core i7 6500U 2.5GHz   4GB            128GB SSD   \n",
       "1299            Intel Core i7 6500U 2.5GHz  16GB            512GB SSD   \n",
       "1300  Intel Celeron Dual Core N3050 1.6GHz   2GB   64GB Flash Storage   \n",
       "1301            Intel Core i7 6500U 2.5GHz   6GB              1TB HDD   \n",
       "1302  Intel Celeron Dual Core N3050 1.6GHz   4GB            500GB HDD   \n",
       "\n",
       "                               Gpu       OpSys  Weight        Price  \n",
       "0     Intel Iris Plus Graphics 640       macOS  1.37kg   71378.6832  \n",
       "1           Intel HD Graphics 6000       macOS  1.34kg   47895.5232  \n",
       "2            Intel HD Graphics 620       No OS  1.86kg   30636.0000  \n",
       "3               AMD Radeon Pro 455       macOS  1.83kg  135195.3360  \n",
       "4     Intel Iris Plus Graphics 650       macOS  1.37kg   96095.8080  \n",
       "...                            ...         ...     ...          ...  \n",
       "1298         Intel HD Graphics 520  Windows 10   1.8kg   33992.6400  \n",
       "1299         Intel HD Graphics 520  Windows 10   1.3kg   79866.7200  \n",
       "1300             Intel HD Graphics  Windows 10   1.5kg   12201.1200  \n",
       "1301            AMD Radeon R5 M330  Windows 10  2.19kg   40705.9200  \n",
       "1302             Intel HD Graphics  Windows 10   2.2kg   19660.3200  \n",
       "\n",
       "[1303 rows x 12 columns]"
      ]
     },
     "execution_count": 25,
     "metadata": {},
     "output_type": "execute_result"
    }
   ],
   "source": [
    "import pandas as pd\n",
    "import numpy as np\n",
    "import matplotlib.pyplot as plt\n",
    "\n",
    "\n",
    "df = pd.read_csv(\"Data/laptopData.csv\")\n",
    "df"
   ]
  },
  {
   "cell_type": "markdown",
   "id": "833a3f75-efd7-46f2-a356-0174cdf108b9",
   "metadata": {},
   "source": [
    "### -->  To get a quick summary of a DataFrame? we need to use:"
   ]
  },
  {
   "cell_type": "code",
   "execution_count": 35,
   "id": "ea12ac6b-aa12-4f0f-bc85-9e5b300f2973",
   "metadata": {},
   "outputs": [
    {
     "data": {
      "text/plain": [
       "<bound method DataFrame.info of       Unnamed: 0 Company            TypeName Inches  \\\n",
       "0            0.0   Apple           Ultrabook   13.3   \n",
       "1            1.0   Apple           Ultrabook   13.3   \n",
       "2            2.0      HP            Notebook   15.6   \n",
       "3            3.0   Apple           Ultrabook   15.4   \n",
       "4            4.0   Apple           Ultrabook   13.3   \n",
       "...          ...     ...                 ...    ...   \n",
       "1298      1298.0  Lenovo  2 in 1 Convertible     14   \n",
       "1299      1299.0  Lenovo  2 in 1 Convertible   13.3   \n",
       "1300      1300.0  Lenovo            Notebook     14   \n",
       "1301      1301.0      HP            Notebook   15.6   \n",
       "1302      1302.0    Asus            Notebook   15.6   \n",
       "\n",
       "                                ScreenResolution  \\\n",
       "0             IPS Panel Retina Display 2560x1600   \n",
       "1                                       1440x900   \n",
       "2                              Full HD 1920x1080   \n",
       "3             IPS Panel Retina Display 2880x1800   \n",
       "4             IPS Panel Retina Display 2560x1600   \n",
       "...                                          ...   \n",
       "1298   IPS Panel Full HD / Touchscreen 1920x1080   \n",
       "1299  IPS Panel Quad HD+ / Touchscreen 3200x1800   \n",
       "1300                                    1366x768   \n",
       "1301                                    1366x768   \n",
       "1302                                    1366x768   \n",
       "\n",
       "                                       Cpu   Ram               Memory  \\\n",
       "0                     Intel Core i5 2.3GHz   8GB            128GB SSD   \n",
       "1                     Intel Core i5 1.8GHz   8GB  128GB Flash Storage   \n",
       "2               Intel Core i5 7200U 2.5GHz   8GB            256GB SSD   \n",
       "3                     Intel Core i7 2.7GHz  16GB            512GB SSD   \n",
       "4                     Intel Core i5 3.1GHz   8GB            256GB SSD   \n",
       "...                                    ...   ...                  ...   \n",
       "1298            Intel Core i7 6500U 2.5GHz   4GB            128GB SSD   \n",
       "1299            Intel Core i7 6500U 2.5GHz  16GB            512GB SSD   \n",
       "1300  Intel Celeron Dual Core N3050 1.6GHz   2GB   64GB Flash Storage   \n",
       "1301            Intel Core i7 6500U 2.5GHz   6GB              1TB HDD   \n",
       "1302  Intel Celeron Dual Core N3050 1.6GHz   4GB            500GB HDD   \n",
       "\n",
       "                               Gpu       OpSys  Weight        Price  \n",
       "0     Intel Iris Plus Graphics 640       macOS  1.37kg   71378.6832  \n",
       "1           Intel HD Graphics 6000       macOS  1.34kg   47895.5232  \n",
       "2            Intel HD Graphics 620       No OS  1.86kg   30636.0000  \n",
       "3               AMD Radeon Pro 455       macOS  1.83kg  135195.3360  \n",
       "4     Intel Iris Plus Graphics 650       macOS  1.37kg   96095.8080  \n",
       "...                            ...         ...     ...          ...  \n",
       "1298         Intel HD Graphics 520  Windows 10   1.8kg   33992.6400  \n",
       "1299         Intel HD Graphics 520  Windows 10   1.3kg   79866.7200  \n",
       "1300             Intel HD Graphics  Windows 10   1.5kg   12201.1200  \n",
       "1301            AMD Radeon R5 M330  Windows 10  2.19kg   40705.9200  \n",
       "1302             Intel HD Graphics  Windows 10   2.2kg   19660.3200  \n",
       "\n",
       "[1303 rows x 12 columns]>"
      ]
     },
     "execution_count": 35,
     "metadata": {},
     "output_type": "execute_result"
    }
   ],
   "source": [
    "df.info"
   ]
  },
  {
   "cell_type": "markdown",
   "id": "c89ee394-408d-4b50-9837-9bbbbe4d63b5",
   "metadata": {},
   "source": [
    "#### It’s especially useful during data exploration or data cleaning stages, helps in data type optimization and provides a quick overview without printing the whole dataset"
   ]
  },
  {
   "cell_type": "markdown",
   "id": "95a6e752-31e6-4720-9797-331d9d3d003c",
   "metadata": {},
   "source": [
    "# -> Just to check the data type to see which columns are strings, integers, floats, or booleans."
   ]
  },
  {
   "cell_type": "code",
   "execution_count": 38,
   "id": "4ef0223a-d3cf-4c73-8064-6b08ad15dafe",
   "metadata": {},
   "outputs": [
    {
     "data": {
      "text/plain": [
       "Unnamed: 0          float64\n",
       "Company              object\n",
       "TypeName             object\n",
       "Inches               object\n",
       "ScreenResolution     object\n",
       "Cpu                  object\n",
       "Ram                  object\n",
       "Memory               object\n",
       "Gpu                  object\n",
       "OpSys                object\n",
       "Weight               object\n",
       "Price               float64\n",
       "dtype: object"
      ]
     },
     "execution_count": 38,
     "metadata": {},
     "output_type": "execute_result"
    }
   ],
   "source": [
    "df.dtypes"
   ]
  },
  {
   "cell_type": "code",
   "execution_count": 43,
   "id": "6be5330f-7ec6-4208-999a-30d4bee4fc23",
   "metadata": {},
   "outputs": [
    {
     "data": {
      "text/plain": [
       "Index(['Unnamed: 0', 'Company', 'TypeName', 'Inches', 'ScreenResolution',\n",
       "       'Cpu', 'Ram', 'Memory', 'Gpu', 'OpSys', 'Weight', 'Price'],\n",
       "      dtype='object')"
      ]
     },
     "execution_count": 43,
     "metadata": {},
     "output_type": "execute_result"
    }
   ],
   "source": [
    "df.columns"
   ]
  },
  {
   "cell_type": "markdown",
   "id": "c577f223-fb21-4a72-a712-511608d3eb92",
   "metadata": {},
   "source": [
    "# -> remove any space in my columns using:"
   ]
  },
  {
   "cell_type": "code",
   "execution_count": 47,
   "id": "e640cb5e-5ac0-462c-a7d8-742878ecf074",
   "metadata": {},
   "outputs": [],
   "source": [
    "df.columns = df.columns.str.strip()"
   ]
  },
  {
   "cell_type": "markdown",
   "id": "8a0fb203-d4c9-4220-82e7-11dddd182fab",
   "metadata": {},
   "source": [
    "# -> We need to check the missing values in my dataframe by using:"
   ]
  },
  {
   "cell_type": "code",
   "execution_count": 26,
   "id": "cbd8a195-5e4a-450b-8d8e-dd25b8d4b269",
   "metadata": {},
   "outputs": [
    {
     "data": {
      "text/html": [
       "<div>\n",
       "<style scoped>\n",
       "    .dataframe tbody tr th:only-of-type {\n",
       "        vertical-align: middle;\n",
       "    }\n",
       "\n",
       "    .dataframe tbody tr th {\n",
       "        vertical-align: top;\n",
       "    }\n",
       "\n",
       "    .dataframe thead th {\n",
       "        text-align: right;\n",
       "    }\n",
       "</style>\n",
       "<table border=\"1\" class=\"dataframe\">\n",
       "  <thead>\n",
       "    <tr style=\"text-align: right;\">\n",
       "      <th></th>\n",
       "      <th>Unnamed: 0</th>\n",
       "      <th>Company</th>\n",
       "      <th>TypeName</th>\n",
       "      <th>Inches</th>\n",
       "      <th>ScreenResolution</th>\n",
       "      <th>Cpu</th>\n",
       "      <th>Ram</th>\n",
       "      <th>Memory</th>\n",
       "      <th>Gpu</th>\n",
       "      <th>OpSys</th>\n",
       "      <th>Weight</th>\n",
       "      <th>Price</th>\n",
       "    </tr>\n",
       "  </thead>\n",
       "  <tbody>\n",
       "    <tr>\n",
       "      <th>0</th>\n",
       "      <td>False</td>\n",
       "      <td>False</td>\n",
       "      <td>False</td>\n",
       "      <td>False</td>\n",
       "      <td>False</td>\n",
       "      <td>False</td>\n",
       "      <td>False</td>\n",
       "      <td>False</td>\n",
       "      <td>False</td>\n",
       "      <td>False</td>\n",
       "      <td>False</td>\n",
       "      <td>False</td>\n",
       "    </tr>\n",
       "    <tr>\n",
       "      <th>1</th>\n",
       "      <td>False</td>\n",
       "      <td>False</td>\n",
       "      <td>False</td>\n",
       "      <td>False</td>\n",
       "      <td>False</td>\n",
       "      <td>False</td>\n",
       "      <td>False</td>\n",
       "      <td>False</td>\n",
       "      <td>False</td>\n",
       "      <td>False</td>\n",
       "      <td>False</td>\n",
       "      <td>False</td>\n",
       "    </tr>\n",
       "    <tr>\n",
       "      <th>2</th>\n",
       "      <td>False</td>\n",
       "      <td>False</td>\n",
       "      <td>False</td>\n",
       "      <td>False</td>\n",
       "      <td>False</td>\n",
       "      <td>False</td>\n",
       "      <td>False</td>\n",
       "      <td>False</td>\n",
       "      <td>False</td>\n",
       "      <td>False</td>\n",
       "      <td>False</td>\n",
       "      <td>False</td>\n",
       "    </tr>\n",
       "    <tr>\n",
       "      <th>3</th>\n",
       "      <td>False</td>\n",
       "      <td>False</td>\n",
       "      <td>False</td>\n",
       "      <td>False</td>\n",
       "      <td>False</td>\n",
       "      <td>False</td>\n",
       "      <td>False</td>\n",
       "      <td>False</td>\n",
       "      <td>False</td>\n",
       "      <td>False</td>\n",
       "      <td>False</td>\n",
       "      <td>False</td>\n",
       "    </tr>\n",
       "    <tr>\n",
       "      <th>4</th>\n",
       "      <td>False</td>\n",
       "      <td>False</td>\n",
       "      <td>False</td>\n",
       "      <td>False</td>\n",
       "      <td>False</td>\n",
       "      <td>False</td>\n",
       "      <td>False</td>\n",
       "      <td>False</td>\n",
       "      <td>False</td>\n",
       "      <td>False</td>\n",
       "      <td>False</td>\n",
       "      <td>False</td>\n",
       "    </tr>\n",
       "    <tr>\n",
       "      <th>...</th>\n",
       "      <td>...</td>\n",
       "      <td>...</td>\n",
       "      <td>...</td>\n",
       "      <td>...</td>\n",
       "      <td>...</td>\n",
       "      <td>...</td>\n",
       "      <td>...</td>\n",
       "      <td>...</td>\n",
       "      <td>...</td>\n",
       "      <td>...</td>\n",
       "      <td>...</td>\n",
       "      <td>...</td>\n",
       "    </tr>\n",
       "    <tr>\n",
       "      <th>1298</th>\n",
       "      <td>False</td>\n",
       "      <td>False</td>\n",
       "      <td>False</td>\n",
       "      <td>False</td>\n",
       "      <td>False</td>\n",
       "      <td>False</td>\n",
       "      <td>False</td>\n",
       "      <td>False</td>\n",
       "      <td>False</td>\n",
       "      <td>False</td>\n",
       "      <td>False</td>\n",
       "      <td>False</td>\n",
       "    </tr>\n",
       "    <tr>\n",
       "      <th>1299</th>\n",
       "      <td>False</td>\n",
       "      <td>False</td>\n",
       "      <td>False</td>\n",
       "      <td>False</td>\n",
       "      <td>False</td>\n",
       "      <td>False</td>\n",
       "      <td>False</td>\n",
       "      <td>False</td>\n",
       "      <td>False</td>\n",
       "      <td>False</td>\n",
       "      <td>False</td>\n",
       "      <td>False</td>\n",
       "    </tr>\n",
       "    <tr>\n",
       "      <th>1300</th>\n",
       "      <td>False</td>\n",
       "      <td>False</td>\n",
       "      <td>False</td>\n",
       "      <td>False</td>\n",
       "      <td>False</td>\n",
       "      <td>False</td>\n",
       "      <td>False</td>\n",
       "      <td>False</td>\n",
       "      <td>False</td>\n",
       "      <td>False</td>\n",
       "      <td>False</td>\n",
       "      <td>False</td>\n",
       "    </tr>\n",
       "    <tr>\n",
       "      <th>1301</th>\n",
       "      <td>False</td>\n",
       "      <td>False</td>\n",
       "      <td>False</td>\n",
       "      <td>False</td>\n",
       "      <td>False</td>\n",
       "      <td>False</td>\n",
       "      <td>False</td>\n",
       "      <td>False</td>\n",
       "      <td>False</td>\n",
       "      <td>False</td>\n",
       "      <td>False</td>\n",
       "      <td>False</td>\n",
       "    </tr>\n",
       "    <tr>\n",
       "      <th>1302</th>\n",
       "      <td>False</td>\n",
       "      <td>False</td>\n",
       "      <td>False</td>\n",
       "      <td>False</td>\n",
       "      <td>False</td>\n",
       "      <td>False</td>\n",
       "      <td>False</td>\n",
       "      <td>False</td>\n",
       "      <td>False</td>\n",
       "      <td>False</td>\n",
       "      <td>False</td>\n",
       "      <td>False</td>\n",
       "    </tr>\n",
       "  </tbody>\n",
       "</table>\n",
       "<p>1303 rows × 12 columns</p>\n",
       "</div>"
      ],
      "text/plain": [
       "      Unnamed: 0  Company  TypeName  Inches  ScreenResolution    Cpu    Ram  \\\n",
       "0          False    False     False   False             False  False  False   \n",
       "1          False    False     False   False             False  False  False   \n",
       "2          False    False     False   False             False  False  False   \n",
       "3          False    False     False   False             False  False  False   \n",
       "4          False    False     False   False             False  False  False   \n",
       "...          ...      ...       ...     ...               ...    ...    ...   \n",
       "1298       False    False     False   False             False  False  False   \n",
       "1299       False    False     False   False             False  False  False   \n",
       "1300       False    False     False   False             False  False  False   \n",
       "1301       False    False     False   False             False  False  False   \n",
       "1302       False    False     False   False             False  False  False   \n",
       "\n",
       "      Memory    Gpu  OpSys  Weight  Price  \n",
       "0      False  False  False   False  False  \n",
       "1      False  False  False   False  False  \n",
       "2      False  False  False   False  False  \n",
       "3      False  False  False   False  False  \n",
       "4      False  False  False   False  False  \n",
       "...      ...    ...    ...     ...    ...  \n",
       "1298   False  False  False   False  False  \n",
       "1299   False  False  False   False  False  \n",
       "1300   False  False  False   False  False  \n",
       "1301   False  False  False   False  False  \n",
       "1302   False  False  False   False  False  \n",
       "\n",
       "[1303 rows x 12 columns]"
      ]
     },
     "execution_count": 26,
     "metadata": {},
     "output_type": "execute_result"
    }
   ],
   "source": [
    "df.isnull()"
   ]
  },
  {
   "cell_type": "markdown",
   "id": "ce13059a-924e-4e21-b936-d02f0dfcfa7a",
   "metadata": {},
   "source": [
    "### -> To make it simple we will count the missing value in my dataframe  in each column"
   ]
  },
  {
   "cell_type": "code",
   "execution_count": 27,
   "id": "d52c3967-f524-4755-9568-54d584440a97",
   "metadata": {},
   "outputs": [
    {
     "data": {
      "text/plain": [
       "Unnamed: 0          30\n",
       "Company             30\n",
       "TypeName            30\n",
       "Inches              30\n",
       "ScreenResolution    30\n",
       "Cpu                 30\n",
       "Ram                 30\n",
       "Memory              30\n",
       "Gpu                 30\n",
       "OpSys               30\n",
       "Weight              30\n",
       "Price               30\n",
       "dtype: int64"
      ]
     },
     "execution_count": 27,
     "metadata": {},
     "output_type": "execute_result"
    }
   ],
   "source": [
    "df.isnull().sum()"
   ]
  },
  {
   "cell_type": "markdown",
   "id": "ab38c8de-2557-469e-a93f-506d941213c1",
   "metadata": {},
   "source": [
    "# -> I want to know the total numbers of missing values in the data that i have it:"
   ]
  },
  {
   "cell_type": "code",
   "execution_count": 28,
   "id": "c065986a-b5bc-4c04-913b-5824a6f0398c",
   "metadata": {},
   "outputs": [
    {
     "data": {
      "text/plain": [
       "np.int64(360)"
      ]
     },
     "execution_count": 28,
     "metadata": {},
     "output_type": "execute_result"
    }
   ],
   "source": [
    "df.isnull().sum().sum()"
   ]
  },
  {
   "cell_type": "markdown",
   "id": "1830c135-35b9-4d31-af67-1c49c47a94bd",
   "metadata": {},
   "source": [
    "# -> To remove all rows with any missing values (NaN) from the DataFrame:\n"
   ]
  },
  {
   "cell_type": "code",
   "execution_count": 56,
   "id": "ea926407-c9f9-4b8d-99ba-a19d2c2f12b2",
   "metadata": {},
   "outputs": [],
   "source": [
    "df.dropna(inplace=True)\n"
   ]
  },
  {
   "cell_type": "code",
   "execution_count": 57,
   "id": "b146c04d-5565-414e-8512-423d97302195",
   "metadata": {
    "scrolled": true
   },
   "outputs": [
    {
     "data": {
      "text/plain": [
       "Unnamed: 0          0\n",
       "Company             0\n",
       "TypeName            0\n",
       "Inches              0\n",
       "ScreenResolution    0\n",
       "Cpu                 0\n",
       "Ram                 0\n",
       "Memory              0\n",
       "Gpu                 0\n",
       "OpSys               0\n",
       "Weight              0\n",
       "Price               0\n",
       "dtype: int64"
      ]
     },
     "execution_count": 57,
     "metadata": {},
     "output_type": "execute_result"
    }
   ],
   "source": [
    "df.isnull().sum()"
   ]
  },
  {
   "cell_type": "markdown",
   "id": "3abe5d2a-080b-4914-8d5f-1909b9c5413b",
   "metadata": {},
   "source": [
    "# -> Count how many duplicate rows exist in a DataFrame."
   ]
  },
  {
   "cell_type": "code",
   "execution_count": 29,
   "id": "fb6c5a77-860d-400e-8716-efae739879f1",
   "metadata": {},
   "outputs": [
    {
     "data": {
      "text/plain": [
       "np.int64(29)"
      ]
     },
     "execution_count": 29,
     "metadata": {},
     "output_type": "execute_result"
    }
   ],
   "source": [
    "df.duplicated().sum()\n"
   ]
  },
  {
   "cell_type": "markdown",
   "id": "e4dd55f8-0ed1-45ad-8330-a511680b3ac1",
   "metadata": {},
   "source": [
    "# --> Returns a new DataFrame without duplicates\n"
   ]
  },
  {
   "cell_type": "code",
   "execution_count": 50,
   "id": "e66fdec0-af56-43b5-8944-0bc33c769bfd",
   "metadata": {},
   "outputs": [],
   "source": [
    "duplicates = df.drop_duplicates(inplace=True)\n",
    "duplicates"
   ]
  },
  {
   "cell_type": "code",
   "execution_count": 51,
   "id": "325ebf09-12f0-4e29-9f6c-276c87e1f25c",
   "metadata": {},
   "outputs": [
    {
     "data": {
      "text/html": [
       "<div>\n",
       "<style scoped>\n",
       "    .dataframe tbody tr th:only-of-type {\n",
       "        vertical-align: middle;\n",
       "    }\n",
       "\n",
       "    .dataframe tbody tr th {\n",
       "        vertical-align: top;\n",
       "    }\n",
       "\n",
       "    .dataframe thead th {\n",
       "        text-align: right;\n",
       "    }\n",
       "</style>\n",
       "<table border=\"1\" class=\"dataframe\">\n",
       "  <thead>\n",
       "    <tr style=\"text-align: right;\">\n",
       "      <th></th>\n",
       "      <th>Unnamed: 0</th>\n",
       "      <th>Company</th>\n",
       "      <th>TypeName</th>\n",
       "      <th>Inches</th>\n",
       "      <th>ScreenResolution</th>\n",
       "      <th>Cpu</th>\n",
       "      <th>Ram</th>\n",
       "      <th>Memory</th>\n",
       "      <th>Gpu</th>\n",
       "      <th>OpSys</th>\n",
       "      <th>Weight</th>\n",
       "      <th>Price</th>\n",
       "    </tr>\n",
       "  </thead>\n",
       "  <tbody>\n",
       "    <tr>\n",
       "      <th>0</th>\n",
       "      <td>0.0</td>\n",
       "      <td>Apple</td>\n",
       "      <td>Ultrabook</td>\n",
       "      <td>13.3</td>\n",
       "      <td>IPS Panel Retina Display 2560x1600</td>\n",
       "      <td>Intel Core i5 2.3GHz</td>\n",
       "      <td>8GB</td>\n",
       "      <td>128GB SSD</td>\n",
       "      <td>Intel Iris Plus Graphics 640</td>\n",
       "      <td>macOS</td>\n",
       "      <td>1.37kg</td>\n",
       "      <td>71378.6832</td>\n",
       "    </tr>\n",
       "    <tr>\n",
       "      <th>1</th>\n",
       "      <td>1.0</td>\n",
       "      <td>Apple</td>\n",
       "      <td>Ultrabook</td>\n",
       "      <td>13.3</td>\n",
       "      <td>1440x900</td>\n",
       "      <td>Intel Core i5 1.8GHz</td>\n",
       "      <td>8GB</td>\n",
       "      <td>128GB Flash Storage</td>\n",
       "      <td>Intel HD Graphics 6000</td>\n",
       "      <td>macOS</td>\n",
       "      <td>1.34kg</td>\n",
       "      <td>47895.5232</td>\n",
       "    </tr>\n",
       "    <tr>\n",
       "      <th>2</th>\n",
       "      <td>2.0</td>\n",
       "      <td>HP</td>\n",
       "      <td>Notebook</td>\n",
       "      <td>15.6</td>\n",
       "      <td>Full HD 1920x1080</td>\n",
       "      <td>Intel Core i5 7200U 2.5GHz</td>\n",
       "      <td>8GB</td>\n",
       "      <td>256GB SSD</td>\n",
       "      <td>Intel HD Graphics 620</td>\n",
       "      <td>No OS</td>\n",
       "      <td>1.86kg</td>\n",
       "      <td>30636.0000</td>\n",
       "    </tr>\n",
       "    <tr>\n",
       "      <th>3</th>\n",
       "      <td>3.0</td>\n",
       "      <td>Apple</td>\n",
       "      <td>Ultrabook</td>\n",
       "      <td>15.4</td>\n",
       "      <td>IPS Panel Retina Display 2880x1800</td>\n",
       "      <td>Intel Core i7 2.7GHz</td>\n",
       "      <td>16GB</td>\n",
       "      <td>512GB SSD</td>\n",
       "      <td>AMD Radeon Pro 455</td>\n",
       "      <td>macOS</td>\n",
       "      <td>1.83kg</td>\n",
       "      <td>135195.3360</td>\n",
       "    </tr>\n",
       "    <tr>\n",
       "      <th>4</th>\n",
       "      <td>4.0</td>\n",
       "      <td>Apple</td>\n",
       "      <td>Ultrabook</td>\n",
       "      <td>13.3</td>\n",
       "      <td>IPS Panel Retina Display 2560x1600</td>\n",
       "      <td>Intel Core i5 3.1GHz</td>\n",
       "      <td>8GB</td>\n",
       "      <td>256GB SSD</td>\n",
       "      <td>Intel Iris Plus Graphics 650</td>\n",
       "      <td>macOS</td>\n",
       "      <td>1.37kg</td>\n",
       "      <td>96095.8080</td>\n",
       "    </tr>\n",
       "    <tr>\n",
       "      <th>...</th>\n",
       "      <td>...</td>\n",
       "      <td>...</td>\n",
       "      <td>...</td>\n",
       "      <td>...</td>\n",
       "      <td>...</td>\n",
       "      <td>...</td>\n",
       "      <td>...</td>\n",
       "      <td>...</td>\n",
       "      <td>...</td>\n",
       "      <td>...</td>\n",
       "      <td>...</td>\n",
       "      <td>...</td>\n",
       "    </tr>\n",
       "    <tr>\n",
       "      <th>1298</th>\n",
       "      <td>1298.0</td>\n",
       "      <td>Lenovo</td>\n",
       "      <td>2 in 1 Convertible</td>\n",
       "      <td>14</td>\n",
       "      <td>IPS Panel Full HD / Touchscreen 1920x1080</td>\n",
       "      <td>Intel Core i7 6500U 2.5GHz</td>\n",
       "      <td>4GB</td>\n",
       "      <td>128GB SSD</td>\n",
       "      <td>Intel HD Graphics 520</td>\n",
       "      <td>Windows 10</td>\n",
       "      <td>1.8kg</td>\n",
       "      <td>33992.6400</td>\n",
       "    </tr>\n",
       "    <tr>\n",
       "      <th>1299</th>\n",
       "      <td>1299.0</td>\n",
       "      <td>Lenovo</td>\n",
       "      <td>2 in 1 Convertible</td>\n",
       "      <td>13.3</td>\n",
       "      <td>IPS Panel Quad HD+ / Touchscreen 3200x1800</td>\n",
       "      <td>Intel Core i7 6500U 2.5GHz</td>\n",
       "      <td>16GB</td>\n",
       "      <td>512GB SSD</td>\n",
       "      <td>Intel HD Graphics 520</td>\n",
       "      <td>Windows 10</td>\n",
       "      <td>1.3kg</td>\n",
       "      <td>79866.7200</td>\n",
       "    </tr>\n",
       "    <tr>\n",
       "      <th>1300</th>\n",
       "      <td>1300.0</td>\n",
       "      <td>Lenovo</td>\n",
       "      <td>Notebook</td>\n",
       "      <td>14</td>\n",
       "      <td>1366x768</td>\n",
       "      <td>Intel Celeron Dual Core N3050 1.6GHz</td>\n",
       "      <td>2GB</td>\n",
       "      <td>64GB Flash Storage</td>\n",
       "      <td>Intel HD Graphics</td>\n",
       "      <td>Windows 10</td>\n",
       "      <td>1.5kg</td>\n",
       "      <td>12201.1200</td>\n",
       "    </tr>\n",
       "    <tr>\n",
       "      <th>1301</th>\n",
       "      <td>1301.0</td>\n",
       "      <td>HP</td>\n",
       "      <td>Notebook</td>\n",
       "      <td>15.6</td>\n",
       "      <td>1366x768</td>\n",
       "      <td>Intel Core i7 6500U 2.5GHz</td>\n",
       "      <td>6GB</td>\n",
       "      <td>1TB HDD</td>\n",
       "      <td>AMD Radeon R5 M330</td>\n",
       "      <td>Windows 10</td>\n",
       "      <td>2.19kg</td>\n",
       "      <td>40705.9200</td>\n",
       "    </tr>\n",
       "    <tr>\n",
       "      <th>1302</th>\n",
       "      <td>1302.0</td>\n",
       "      <td>Asus</td>\n",
       "      <td>Notebook</td>\n",
       "      <td>15.6</td>\n",
       "      <td>1366x768</td>\n",
       "      <td>Intel Celeron Dual Core N3050 1.6GHz</td>\n",
       "      <td>4GB</td>\n",
       "      <td>500GB HDD</td>\n",
       "      <td>Intel HD Graphics</td>\n",
       "      <td>Windows 10</td>\n",
       "      <td>2.2kg</td>\n",
       "      <td>19660.3200</td>\n",
       "    </tr>\n",
       "  </tbody>\n",
       "</table>\n",
       "<p>1274 rows × 12 columns</p>\n",
       "</div>"
      ],
      "text/plain": [
       "      Unnamed: 0 Company            TypeName Inches  \\\n",
       "0            0.0   Apple           Ultrabook   13.3   \n",
       "1            1.0   Apple           Ultrabook   13.3   \n",
       "2            2.0      HP            Notebook   15.6   \n",
       "3            3.0   Apple           Ultrabook   15.4   \n",
       "4            4.0   Apple           Ultrabook   13.3   \n",
       "...          ...     ...                 ...    ...   \n",
       "1298      1298.0  Lenovo  2 in 1 Convertible     14   \n",
       "1299      1299.0  Lenovo  2 in 1 Convertible   13.3   \n",
       "1300      1300.0  Lenovo            Notebook     14   \n",
       "1301      1301.0      HP            Notebook   15.6   \n",
       "1302      1302.0    Asus            Notebook   15.6   \n",
       "\n",
       "                                ScreenResolution  \\\n",
       "0             IPS Panel Retina Display 2560x1600   \n",
       "1                                       1440x900   \n",
       "2                              Full HD 1920x1080   \n",
       "3             IPS Panel Retina Display 2880x1800   \n",
       "4             IPS Panel Retina Display 2560x1600   \n",
       "...                                          ...   \n",
       "1298   IPS Panel Full HD / Touchscreen 1920x1080   \n",
       "1299  IPS Panel Quad HD+ / Touchscreen 3200x1800   \n",
       "1300                                    1366x768   \n",
       "1301                                    1366x768   \n",
       "1302                                    1366x768   \n",
       "\n",
       "                                       Cpu   Ram               Memory  \\\n",
       "0                     Intel Core i5 2.3GHz   8GB            128GB SSD   \n",
       "1                     Intel Core i5 1.8GHz   8GB  128GB Flash Storage   \n",
       "2               Intel Core i5 7200U 2.5GHz   8GB            256GB SSD   \n",
       "3                     Intel Core i7 2.7GHz  16GB            512GB SSD   \n",
       "4                     Intel Core i5 3.1GHz   8GB            256GB SSD   \n",
       "...                                    ...   ...                  ...   \n",
       "1298            Intel Core i7 6500U 2.5GHz   4GB            128GB SSD   \n",
       "1299            Intel Core i7 6500U 2.5GHz  16GB            512GB SSD   \n",
       "1300  Intel Celeron Dual Core N3050 1.6GHz   2GB   64GB Flash Storage   \n",
       "1301            Intel Core i7 6500U 2.5GHz   6GB              1TB HDD   \n",
       "1302  Intel Celeron Dual Core N3050 1.6GHz   4GB            500GB HDD   \n",
       "\n",
       "                               Gpu       OpSys  Weight        Price  \n",
       "0     Intel Iris Plus Graphics 640       macOS  1.37kg   71378.6832  \n",
       "1           Intel HD Graphics 6000       macOS  1.34kg   47895.5232  \n",
       "2            Intel HD Graphics 620       No OS  1.86kg   30636.0000  \n",
       "3               AMD Radeon Pro 455       macOS  1.83kg  135195.3360  \n",
       "4     Intel Iris Plus Graphics 650       macOS  1.37kg   96095.8080  \n",
       "...                            ...         ...     ...          ...  \n",
       "1298         Intel HD Graphics 520  Windows 10   1.8kg   33992.6400  \n",
       "1299         Intel HD Graphics 520  Windows 10   1.3kg   79866.7200  \n",
       "1300             Intel HD Graphics  Windows 10   1.5kg   12201.1200  \n",
       "1301            AMD Radeon R5 M330  Windows 10  2.19kg   40705.9200  \n",
       "1302             Intel HD Graphics  Windows 10   2.2kg   19660.3200  \n",
       "\n",
       "[1274 rows x 12 columns]"
      ]
     },
     "execution_count": 51,
     "metadata": {},
     "output_type": "execute_result"
    }
   ],
   "source": [
    "df"
   ]
  },
  {
   "cell_type": "markdown",
   "id": "eefdc366-9ee6-40d0-a519-127dede16abf",
   "metadata": {},
   "source": [
    "# --> Just to check if their is any 0 in the praice to fixe it "
   ]
  },
  {
   "cell_type": "code",
   "execution_count": 48,
   "id": "8ffb776b-13c5-4e97-82e8-16ced1b02b57",
   "metadata": {},
   "outputs": [
    {
     "data": {
      "text/html": [
       "<div>\n",
       "<style scoped>\n",
       "    .dataframe tbody tr th:only-of-type {\n",
       "        vertical-align: middle;\n",
       "    }\n",
       "\n",
       "    .dataframe tbody tr th {\n",
       "        vertical-align: top;\n",
       "    }\n",
       "\n",
       "    .dataframe thead th {\n",
       "        text-align: right;\n",
       "    }\n",
       "</style>\n",
       "<table border=\"1\" class=\"dataframe\">\n",
       "  <thead>\n",
       "    <tr style=\"text-align: right;\">\n",
       "      <th></th>\n",
       "      <th>Unnamed: 0</th>\n",
       "      <th>Company</th>\n",
       "      <th>TypeName</th>\n",
       "      <th>Inches</th>\n",
       "      <th>ScreenResolution</th>\n",
       "      <th>Cpu</th>\n",
       "      <th>Ram</th>\n",
       "      <th>Memory</th>\n",
       "      <th>Gpu</th>\n",
       "      <th>OpSys</th>\n",
       "      <th>Weight</th>\n",
       "      <th>Price</th>\n",
       "    </tr>\n",
       "  </thead>\n",
       "  <tbody>\n",
       "  </tbody>\n",
       "</table>\n",
       "</div>"
      ],
      "text/plain": [
       "Empty DataFrame\n",
       "Columns: [Unnamed: 0, Company, TypeName, Inches, ScreenResolution, Cpu, Ram, Memory, Gpu, OpSys, Weight, Price]\n",
       "Index: []"
      ]
     },
     "execution_count": 48,
     "metadata": {},
     "output_type": "execute_result"
    }
   ],
   "source": [
    "df[df['Price'] < 0]"
   ]
  },
  {
   "cell_type": "code",
   "execution_count": 49,
   "id": "e7516121-c97d-4908-bce1-e217dbb10401",
   "metadata": {},
   "outputs": [
    {
     "data": {
      "text/plain": [
       "np.int64(0)"
      ]
     },
     "execution_count": 49,
     "metadata": {},
     "output_type": "execute_result"
    }
   ],
   "source": [
    "df.duplicated().sum()"
   ]
  },
  {
   "cell_type": "markdown",
   "id": "2639494c-c2a0-4e46-bc64-c3e1f78f8f2f",
   "metadata": {},
   "source": [
    " # --> To Return all unique values from the columns in a DataFrame:"
   ]
  },
  {
   "cell_type": "code",
   "execution_count": 60,
   "id": "7dfeb848-738a-437c-bc38-3d3696c25461",
   "metadata": {},
   "outputs": [
    {
     "data": {
      "text/plain": [
       "array(['Apple', 'HP', 'Acer', 'Asus', 'Dell', 'Lenovo', 'Chuwi', 'MSI',\n",
       "       'Microsoft', 'Toshiba', 'Huawei', 'Xiaomi', 'Vero', 'Razer',\n",
       "       'Mediacom', 'Samsung', 'Google', 'Fujitsu', 'LG'], dtype=object)"
      ]
     },
     "execution_count": 60,
     "metadata": {},
     "output_type": "execute_result"
    }
   ],
   "source": [
    "df['Company'].unique()"
   ]
  },
  {
   "cell_type": "code",
   "execution_count": 61,
   "id": "f34f4060-9f9a-4799-8207-351d21a4641b",
   "metadata": {},
   "outputs": [
    {
     "data": {
      "text/plain": [
       "array(['Intel Iris Plus Graphics 640', 'Intel HD Graphics 6000',\n",
       "       'Intel HD Graphics 620', 'AMD Radeon Pro 455',\n",
       "       'Intel Iris Plus Graphics 650', 'AMD Radeon R5',\n",
       "       'Intel Iris Pro Graphics', 'Nvidia GeForce MX150',\n",
       "       'Intel UHD Graphics 620', 'Intel HD Graphics 520',\n",
       "       'AMD Radeon Pro 555', 'AMD Radeon R5 M430',\n",
       "       'Intel HD Graphics 615', 'AMD Radeon Pro 560',\n",
       "       'Nvidia GeForce 940MX', 'Nvidia GeForce GTX 1050', 'AMD Radeon R2',\n",
       "       'AMD Radeon 530', 'Nvidia GeForce 930MX', 'Intel HD Graphics',\n",
       "       'Intel HD Graphics 500', 'Nvidia GeForce 930MX ',\n",
       "       'Nvidia GeForce GTX 1060', 'Nvidia GeForce 150MX',\n",
       "       'Intel Iris Graphics 540', 'AMD Radeon RX 580',\n",
       "       'Nvidia GeForce 920MX', 'AMD Radeon R4 Graphics', 'AMD Radeon 520',\n",
       "       'Nvidia GeForce GTX 1070', 'Nvidia GeForce GTX 1050 Ti',\n",
       "       'Intel HD Graphics 400', 'Nvidia GeForce MX130', 'AMD R4 Graphics',\n",
       "       'Nvidia GeForce GTX 940MX', 'AMD Radeon RX 560',\n",
       "       'Nvidia GeForce 920M', 'AMD Radeon R7 M445', 'AMD Radeon RX 550',\n",
       "       'Nvidia GeForce GTX 1050M', 'Intel HD Graphics 515',\n",
       "       'AMD Radeon R5 M420', 'Intel HD Graphics 505',\n",
       "       'Nvidia GTX 980 SLI', 'AMD R17M-M1-70', 'Nvidia GeForce GTX 1080',\n",
       "       'Nvidia Quadro M1200', 'Nvidia GeForce 920MX ',\n",
       "       'Nvidia GeForce GTX 950M', 'AMD FirePro W4190M ',\n",
       "       'Nvidia GeForce GTX 980M', 'Intel Iris Graphics 550',\n",
       "       'Nvidia GeForce 930M', 'Intel HD Graphics 630',\n",
       "       'AMD Radeon R5 430', 'Nvidia GeForce GTX 940M',\n",
       "       'Intel HD Graphics 510', 'Intel HD Graphics 405',\n",
       "       'AMD Radeon RX 540', 'Nvidia GeForce GT 940MX',\n",
       "       'AMD FirePro W5130M', 'Nvidia Quadro M2200M', 'AMD Radeon R4',\n",
       "       'Nvidia Quadro M620', 'AMD Radeon R7 M460',\n",
       "       'Intel HD Graphics 530', 'Nvidia GeForce GTX 965M',\n",
       "       'Nvidia GeForce GTX1080', 'Nvidia GeForce GTX1050 Ti',\n",
       "       'Nvidia GeForce GTX 960M', 'AMD Radeon R2 Graphics',\n",
       "       'Nvidia Quadro M620M', 'Nvidia GeForce GTX 970M',\n",
       "       'Nvidia GeForce GTX 960<U+039C>', 'Intel Graphics 620',\n",
       "       'Nvidia GeForce GTX 960', 'AMD Radeon R5 520',\n",
       "       'AMD Radeon R7 M440', 'AMD Radeon R7', 'Nvidia Quadro M520M',\n",
       "       'Nvidia Quadro M2200', 'Nvidia Quadro M2000M',\n",
       "       'Intel HD Graphics 540', 'Nvidia Quadro M1000M', 'AMD Radeon 540',\n",
       "       'Nvidia GeForce GTX 1070M', 'Nvidia GeForce GTX1060',\n",
       "       'Intel HD Graphics 5300', 'AMD Radeon R5 M420X',\n",
       "       'AMD Radeon R7 Graphics', 'Nvidia GeForce 920',\n",
       "       'Nvidia GeForce 940M', 'Nvidia GeForce GTX 930MX',\n",
       "       'AMD Radeon R7 M465', 'AMD Radeon R3', 'Nvidia GeForce GTX 1050Ti',\n",
       "       'AMD Radeon R7 M365X', 'AMD Radeon R9 M385',\n",
       "       'Intel HD Graphics 620 ', 'Nvidia Quadro 3000M',\n",
       "       'Nvidia GeForce GTX 980 ', 'AMD Radeon R5 M330',\n",
       "       'AMD FirePro W4190M', 'AMD FirePro W6150M', 'AMD Radeon R5 M315',\n",
       "       'Nvidia Quadro M500M', 'AMD Radeon R7 M360',\n",
       "       'Nvidia Quadro M3000M', 'Nvidia GeForce 960M', 'ARM Mali T860 MP4'],\n",
       "      dtype=object)"
      ]
     },
     "execution_count": 61,
     "metadata": {},
     "output_type": "execute_result"
    }
   ],
   "source": [
    "df['Gpu'].unique()"
   ]
  },
  {
   "cell_type": "code",
   "execution_count": 62,
   "id": "ebb6a10f-7550-4aca-949d-b33383e1d5c9",
   "metadata": {},
   "outputs": [
    {
     "data": {
      "text/plain": [
       "array(['macOS', 'No OS', 'Windows 10', 'Mac OS X', 'Linux',\n",
       "       'Windows 10 S', 'Chrome OS', 'Windows 7', 'Android'], dtype=object)"
      ]
     },
     "execution_count": 62,
     "metadata": {},
     "output_type": "execute_result"
    }
   ],
   "source": [
    "df['OpSys'].unique()"
   ]
  },
  {
   "cell_type": "code",
   "execution_count": 63,
   "id": "d5d03bf2-d79a-4587-8178-19331be3b376",
   "metadata": {},
   "outputs": [
    {
     "data": {
      "text/plain": [
       "array(['128GB SSD', '128GB Flash Storage', '256GB SSD', '512GB SSD',\n",
       "       '500GB HDD', '256GB Flash Storage', '1TB HDD',\n",
       "       '128GB SSD +  1TB HDD', '256GB SSD +  256GB SSD',\n",
       "       '64GB Flash Storage', '32GB Flash Storage', '256GB SSD +  1TB HDD',\n",
       "       '256GB SSD +  2TB HDD', '32GB SSD', '2TB HDD', '64GB SSD',\n",
       "       '1.0TB Hybrid', '512GB SSD +  1TB HDD', '1TB SSD',\n",
       "       '256GB SSD +  500GB HDD', '128GB SSD +  2TB HDD',\n",
       "       '512GB SSD +  512GB SSD', '16GB SSD', '16GB Flash Storage',\n",
       "       '512GB SSD +  256GB SSD', '512GB SSD +  2TB HDD',\n",
       "       '64GB Flash Storage +  1TB HDD', '180GB SSD', '1TB HDD +  1TB HDD',\n",
       "       '32GB HDD', '1TB SSD +  1TB HDD', '?', '512GB Flash Storage',\n",
       "       '128GB HDD', '240GB SSD', '8GB SSD', '508GB Hybrid', '1.0TB HDD',\n",
       "       '512GB SSD +  1.0TB Hybrid', '256GB SSD +  1.0TB Hybrid'],\n",
       "      dtype=object)"
      ]
     },
     "execution_count": 63,
     "metadata": {},
     "output_type": "execute_result"
    }
   ],
   "source": [
    "df['Memory'].unique()"
   ]
  },
  {
   "cell_type": "markdown",
   "id": "cb0b6e92-a5d0-44ef-b25a-1014dbfb3368",
   "metadata": {},
   "source": [
    "# --> To replace the unique value by correcte one, Clean the data: Replacing  values like '?' with meaningful defaults."
   ]
  },
  {
   "cell_type": "code",
   "execution_count": 66,
   "id": "3bf0ac10-d30a-41ea-ae71-8f8e58fbb533",
   "metadata": {},
   "outputs": [
    {
     "data": {
      "text/plain": [
       "0                 128GB SSD\n",
       "1       128GB Flash Storage\n",
       "2                 256GB SSD\n",
       "3                 512GB SSD\n",
       "4                 256GB SSD\n",
       "               ...         \n",
       "1298              128GB SSD\n",
       "1299              512GB SSD\n",
       "1300     64GB Flash Storage\n",
       "1301                1TB HDD\n",
       "1302              500GB HDD\n",
       "Name: Memory, Length: 1273, dtype: object"
      ]
     },
     "execution_count": 66,
     "metadata": {},
     "output_type": "execute_result"
    }
   ],
   "source": [
    "df['Memory'] = df['Memory'].replace('?', '126GB SSD')\n",
    "df['Memory'] "
   ]
  },
  {
   "cell_type": "code",
   "execution_count": 67,
   "id": "a946481c-e4c9-4279-b714-ff4bc739be51",
   "metadata": {},
   "outputs": [
    {
     "data": {
      "text/plain": [
       "array(['128GB SSD', '128GB Flash Storage', '256GB SSD', '512GB SSD',\n",
       "       '500GB HDD', '256GB Flash Storage', '1TB HDD',\n",
       "       '128GB SSD +  1TB HDD', '256GB SSD +  256GB SSD',\n",
       "       '64GB Flash Storage', '32GB Flash Storage', '256GB SSD +  1TB HDD',\n",
       "       '256GB SSD +  2TB HDD', '32GB SSD', '2TB HDD', '64GB SSD',\n",
       "       '1.0TB Hybrid', '512GB SSD +  1TB HDD', '1TB SSD',\n",
       "       '256GB SSD +  500GB HDD', '128GB SSD +  2TB HDD',\n",
       "       '512GB SSD +  512GB SSD', '16GB SSD', '16GB Flash Storage',\n",
       "       '512GB SSD +  256GB SSD', '512GB SSD +  2TB HDD',\n",
       "       '64GB Flash Storage +  1TB HDD', '180GB SSD', '1TB HDD +  1TB HDD',\n",
       "       '32GB HDD', '1TB SSD +  1TB HDD', '0GB SSD', '512GB Flash Storage',\n",
       "       '128GB HDD', '240GB SSD', '8GB SSD', '508GB Hybrid', '1.0TB HDD',\n",
       "       '512GB SSD +  1.0TB Hybrid', '256GB SSD +  1.0TB Hybrid'],\n",
       "      dtype=object)"
      ]
     },
     "execution_count": 67,
     "metadata": {},
     "output_type": "execute_result"
    }
   ],
   "source": [
    "df['Memory'].unique()"
   ]
  },
  {
   "cell_type": "code",
   "execution_count": 68,
   "id": "5900414d-649a-47d6-aa31-eab0370c725d",
   "metadata": {},
   "outputs": [
    {
     "data": {
      "text/plain": [
       "Index(['Unnamed: 0', 'Company', 'TypeName', 'Inches', 'ScreenResolution',\n",
       "       'Cpu', 'Ram', 'Memory', 'Gpu', 'OpSys', 'Weight', 'Price'],\n",
       "      dtype='object')"
      ]
     },
     "execution_count": 68,
     "metadata": {},
     "output_type": "execute_result"
    }
   ],
   "source": [
    "df.columns"
   ]
  },
  {
   "cell_type": "code",
   "execution_count": 69,
   "id": "f75f4fff-53b6-43c6-91e7-e1dbd143e100",
   "metadata": {},
   "outputs": [
    {
     "data": {
      "text/plain": [
       "array(['1.37kg', '1.34kg', '1.86kg', '1.83kg', '2.1kg', '2.04kg', '1.3kg',\n",
       "       '1.6kg', '2.2kg', '0.92kg', '1.22kg', '2.5kg', '1.62kg', '1.91kg',\n",
       "       '2.3kg', '1.35kg', '1.88kg', '1.89kg', '1.65kg', '2.71kg', '1.2kg',\n",
       "       '1.44kg', '2.8kg', '2kg', '2.65kg', '2.77kg', '3.2kg', '1.49kg',\n",
       "       '2.4kg', '2.13kg', '2.43kg', '1.7kg', '1.4kg', '1.8kg', '1.9kg',\n",
       "       '3kg', '1.252kg', '2.7kg', '2.02kg', '1.63kg', '1.96kg', '1.21kg',\n",
       "       '2.45kg', '1.25kg', '1.5kg', '2.62kg', '1.38kg', '1.58kg',\n",
       "       '1.85kg', '1.23kg', '2.16kg', '2.36kg', '7.2kg', '2.05kg',\n",
       "       '1.32kg', '1.75kg', '0.97kg', '2.56kg', '1.48kg', '1.74kg',\n",
       "       '1.1kg', '1.56kg', '2.03kg', '1.05kg', '5.4kg', '4.4kg', '1.90kg',\n",
       "       '1.29kg', '2.0kg', '1.95kg', '2.06kg', '1.12kg', '3.49kg',\n",
       "       '3.35kg', '2.23kg', '?', '2.9kg', '4.42kg', '2.69kg', '2.37kg',\n",
       "       '4.7kg', '3.6kg', '2.08kg', '4.3kg', '1.68kg', '1.41kg', '4.14kg',\n",
       "       '2.18kg', '2.24kg', '2.67kg', '4.1kg', '2.14kg', '1.36kg',\n",
       "       '2.25kg', '2.15kg', '2.19kg', '2.54kg', '3.42kg', '5.8kg',\n",
       "       '1.28kg', '2.33kg', '1.45kg', '2.79kg', '8.23kg', '1.26kg',\n",
       "       '1.84kg', '0.0002kg', '2.6kg', '2.26kg', '3.25kg', '1.59kg',\n",
       "       '1.13kg', '1.42kg', '1.78kg', '1.10kg', '1.15kg', '1.27kg',\n",
       "       '1.43kg', '2.31kg', '1.16kg', '1.64kg', '2.17kg', '1.47kg',\n",
       "       '3.78kg', '1.79kg', '0.91kg', '1.99kg', '4.33kg', '1.93kg',\n",
       "       '1.87kg', '2.63kg', '3.4kg', '3.14kg', '1.94kg', '1.24kg', '4.6kg',\n",
       "       '4.5kg', '8.4kg', '2.73kg', '1.39kg', '2.29kg', '2.59kg', '2.94kg',\n",
       "       '11.1kg', '1.14kg', '3.8kg', '6.2kg', '3.31kg', '1.09kg', '3.21kg',\n",
       "       '1.19kg', '1.98kg', '1.17kg', '4.36kg', '1.71kg', '2.32kg',\n",
       "       '4.2kg', '1.55kg', '0.81kg', '1.18kg', '2.72kg', '1.31kg',\n",
       "       '0.920kg', '3.74kg', '1.76kg', '1.54kg', '2.83kg', '2.07kg',\n",
       "       '2.38kg', '3.58kg', '1.08kg', '2.20kg', '0.98kg', '2.75kg',\n",
       "       '1.70kg', '2.99kg', '1.11kg', '2.09kg', '4kg', '3.0kg', '0.99kg',\n",
       "       '0.69kg', '3.52kg', '2.591kg', '2.21kg', '3.3kg', '2.191kg',\n",
       "       '2.34kg', '4.0kg'], dtype=object)"
      ]
     },
     "execution_count": 69,
     "metadata": {},
     "output_type": "execute_result"
    }
   ],
   "source": [
    "df['Weight'].unique()"
   ]
  },
  {
   "cell_type": "code",
   "execution_count": 70,
   "id": "16ceb3f6-a2b5-410e-872b-32de38d153a0",
   "metadata": {},
   "outputs": [
    {
     "data": {
      "text/plain": [
       "0       1.37kg\n",
       "1       1.34kg\n",
       "2       1.86kg\n",
       "3       1.83kg\n",
       "4       1.37kg\n",
       "         ...  \n",
       "1298     1.8kg\n",
       "1299     1.3kg\n",
       "1300     1.5kg\n",
       "1301    2.19kg\n",
       "1302     2.2kg\n",
       "Name: Weight, Length: 1273, dtype: object"
      ]
     },
     "execution_count": 70,
     "metadata": {},
     "output_type": "execute_result"
    }
   ],
   "source": [
    "df['Weight'] = df['Weight'].replace('?', '1.10kg')\n",
    "df['Weight'] "
   ]
  },
  {
   "cell_type": "markdown",
   "id": "8990f20d-0c3e-4b80-bdc7-79e728be6273",
   "metadata": {},
   "source": [
    "# --> I want's to check every cells and count how many cells in each column contain the value '?'"
   ]
  },
  {
   "cell_type": "code",
   "execution_count": 71,
   "id": "d4079ddb-716a-4e2b-8276-36a53ce02087",
   "metadata": {},
   "outputs": [
    {
     "data": {
      "text/plain": [
       "Unnamed: 0          0\n",
       "Company             0\n",
       "TypeName            0\n",
       "Inches              1\n",
       "ScreenResolution    0\n",
       "Cpu                 0\n",
       "Ram                 0\n",
       "Memory              0\n",
       "Gpu                 0\n",
       "OpSys               0\n",
       "Weight              0\n",
       "Price               0\n",
       "dtype: int64"
      ]
     },
     "execution_count": 71,
     "metadata": {},
     "output_type": "execute_result"
    }
   ],
   "source": [
    "(df == '?').sum()"
   ]
  },
  {
   "cell_type": "code",
   "execution_count": 72,
   "id": "5d52628e-6c14-401e-850c-0b3bc3c11af8",
   "metadata": {},
   "outputs": [
    {
     "data": {
      "text/plain": [
       "array(['13.3', '15.6', '15.4', '14', '12', '17.3', '13.5', '12.5', '13',\n",
       "       '18.4', '13.9', '11.6', '25.6', '35.6', '12.3', '27.3', '24',\n",
       "       '33.5', '?', '31.6', '17', '15', '14.1', '11.3', '10.1'],\n",
       "      dtype=object)"
      ]
     },
     "execution_count": 72,
     "metadata": {},
     "output_type": "execute_result"
    }
   ],
   "source": [
    "df['Inches'].unique()"
   ]
  },
  {
   "cell_type": "code",
   "execution_count": 73,
   "id": "5819d857-3db0-4ae5-8744-84f581773282",
   "metadata": {},
   "outputs": [
    {
     "data": {
      "text/plain": [
       "0       13.3\n",
       "1       13.3\n",
       "2       15.6\n",
       "3       15.4\n",
       "4       13.3\n",
       "        ... \n",
       "1298      14\n",
       "1299    13.3\n",
       "1300      14\n",
       "1301    15.6\n",
       "1302    15.6\n",
       "Name: Inches, Length: 1273, dtype: object"
      ]
     },
     "execution_count": 73,
     "metadata": {},
     "output_type": "execute_result"
    }
   ],
   "source": [
    "df['Inches'] = df['Inches'].replace('?', '11.6')\n",
    "df['Inches'] "
   ]
  },
  {
   "cell_type": "markdown",
   "id": "6470c005-725e-4eaf-a417-c465f55b15e0",
   "metadata": {},
   "source": [
    "# --> After i cleaned my database i need to reset the row index of a DataFrame to the default integer index (0, 1, 2, …), and optionally drop the old index. "
   ]
  },
  {
   "cell_type": "code",
   "execution_count": 77,
   "id": "b5d22328-bfa1-4651-b730-276cf9a3644e",
   "metadata": {},
   "outputs": [],
   "source": [
    "df.reset_index(drop=True, inplace=True)\n"
   ]
  },
  {
   "cell_type": "code",
   "execution_count": 79,
   "id": "ae562bdb-bea6-4225-8833-65fb96c482bb",
   "metadata": {},
   "outputs": [
    {
     "data": {
      "text/plain": [
       "RangeIndex(start=0, stop=1273, step=1)"
      ]
     },
     "execution_count": 79,
     "metadata": {},
     "output_type": "execute_result"
    }
   ],
   "source": [
    "df.index\n"
   ]
  },
  {
   "cell_type": "markdown",
   "id": "4da1607f-b2f8-4512-ad06-3e0f8e50376e",
   "metadata": {},
   "source": [
    "# 👌The last step save our work:\n"
   ]
  },
  {
   "cell_type": "code",
   "execution_count": 78,
   "id": "6dbe8656-2a7b-4187-9f3b-3f0d376d2169",
   "metadata": {},
   "outputs": [],
   "source": [
    "df.to_csv('Cleaned_Laptop_Data.csv', index=False)\n"
   ]
  }
 ],
 "metadata": {
  "kernelspec": {
   "display_name": "Python 3 (ipykernel)",
   "language": "python",
   "name": "python3"
  },
  "language_info": {
   "codemirror_mode": {
    "name": "ipython",
    "version": 3
   },
   "file_extension": ".py",
   "mimetype": "text/x-python",
   "name": "python",
   "nbconvert_exporter": "python",
   "pygments_lexer": "ipython3",
   "version": "3.13.3"
  }
 },
 "nbformat": 4,
 "nbformat_minor": 5
}
