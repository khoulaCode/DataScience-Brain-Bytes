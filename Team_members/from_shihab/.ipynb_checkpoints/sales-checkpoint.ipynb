{
 "cells": [
  {
   "cell_type": "code",
   "execution_count": 7,
   "id": "f4128681-1a1b-49b3-baed-0626dd8a7b10",
   "metadata": {},
   "outputs": [],
   "source": [
    "import pandas as pd\n",
    "import numpy as np\n",
    "import matplotlib.pyplot as plt\n",
    "\n",
    "train = \"Data/train.csv\"\n",
    "features = \"Data/features.csv\"\n",
    "stores = \"Data/stores.csv\"\n",
    "\n",
    "df_train = pd.read_csv(train)\n",
    "df_features = pd.read_csv(features)\n",
    "df_stores = pd.read_csv(stores)\n"
   ]
  },
  {
   "cell_type": "code",
   "execution_count": 47,
   "id": "dc5134d3-a9e0-4f21-a62a-2e198c4edce4",
   "metadata": {},
   "outputs": [
    {
     "data": {
      "text/html": [
       "<div>\n",
       "<style scoped>\n",
       "    .dataframe tbody tr th:only-of-type {\n",
       "        vertical-align: middle;\n",
       "    }\n",
       "\n",
       "    .dataframe tbody tr th {\n",
       "        vertical-align: top;\n",
       "    }\n",
       "\n",
       "    .dataframe thead th {\n",
       "        text-align: right;\n",
       "    }\n",
       "</style>\n",
       "<table border=\"1\" class=\"dataframe\">\n",
       "  <thead>\n",
       "    <tr style=\"text-align: right;\">\n",
       "      <th></th>\n",
       "      <th>Store</th>\n",
       "      <th>Dept</th>\n",
       "      <th>Date</th>\n",
       "      <th>Weekly_Sales</th>\n",
       "      <th>IsHoliday</th>\n",
       "    </tr>\n",
       "  </thead>\n",
       "  <tbody>\n",
       "    <tr>\n",
       "      <th>0</th>\n",
       "      <td>1</td>\n",
       "      <td>1</td>\n",
       "      <td>2010-02-05</td>\n",
       "      <td>24924.50</td>\n",
       "      <td>False</td>\n",
       "    </tr>\n",
       "    <tr>\n",
       "      <th>1</th>\n",
       "      <td>1</td>\n",
       "      <td>1</td>\n",
       "      <td>2010-02-12</td>\n",
       "      <td>46039.49</td>\n",
       "      <td>True</td>\n",
       "    </tr>\n",
       "    <tr>\n",
       "      <th>2</th>\n",
       "      <td>1</td>\n",
       "      <td>1</td>\n",
       "      <td>2010-02-19</td>\n",
       "      <td>41595.55</td>\n",
       "      <td>False</td>\n",
       "    </tr>\n",
       "    <tr>\n",
       "      <th>3</th>\n",
       "      <td>1</td>\n",
       "      <td>1</td>\n",
       "      <td>2010-02-26</td>\n",
       "      <td>19403.54</td>\n",
       "      <td>False</td>\n",
       "    </tr>\n",
       "    <tr>\n",
       "      <th>4</th>\n",
       "      <td>1</td>\n",
       "      <td>1</td>\n",
       "      <td>2010-03-05</td>\n",
       "      <td>21827.90</td>\n",
       "      <td>False</td>\n",
       "    </tr>\n",
       "  </tbody>\n",
       "</table>\n",
       "</div>"
      ],
      "text/plain": [
       "   Store  Dept        Date  Weekly_Sales  IsHoliday\n",
       "0      1     1  2010-02-05      24924.50      False\n",
       "1      1     1  2010-02-12      46039.49       True\n",
       "2      1     1  2010-02-19      41595.55      False\n",
       "3      1     1  2010-02-26      19403.54      False\n",
       "4      1     1  2010-03-05      21827.90      False"
      ]
     },
     "execution_count": 47,
     "metadata": {},
     "output_type": "execute_result"
    }
   ],
   "source": [
    "df_train.head()"
   ]
  },
  {
   "cell_type": "code",
   "execution_count": 12,
   "id": "ca0421c4-b2d8-4a8d-bff9-7fc978f1b165",
   "metadata": {},
   "outputs": [
    {
     "data": {
      "text/html": [
       "<div>\n",
       "<style scoped>\n",
       "    .dataframe tbody tr th:only-of-type {\n",
       "        vertical-align: middle;\n",
       "    }\n",
       "\n",
       "    .dataframe tbody tr th {\n",
       "        vertical-align: top;\n",
       "    }\n",
       "\n",
       "    .dataframe thead th {\n",
       "        text-align: right;\n",
       "    }\n",
       "</style>\n",
       "<table border=\"1\" class=\"dataframe\">\n",
       "  <thead>\n",
       "    <tr style=\"text-align: right;\">\n",
       "      <th></th>\n",
       "      <th>Store</th>\n",
       "      <th>Date</th>\n",
       "      <th>Temperature</th>\n",
       "      <th>Fuel_Price</th>\n",
       "      <th>MarkDown1</th>\n",
       "      <th>MarkDown2</th>\n",
       "      <th>MarkDown3</th>\n",
       "      <th>MarkDown4</th>\n",
       "      <th>MarkDown5</th>\n",
       "      <th>CPI</th>\n",
       "      <th>Unemployment</th>\n",
       "      <th>IsHoliday</th>\n",
       "    </tr>\n",
       "  </thead>\n",
       "  <tbody>\n",
       "    <tr>\n",
       "      <th>0</th>\n",
       "      <td>1</td>\n",
       "      <td>2010-02-05</td>\n",
       "      <td>42.31</td>\n",
       "      <td>2.572</td>\n",
       "      <td>NaN</td>\n",
       "      <td>NaN</td>\n",
       "      <td>NaN</td>\n",
       "      <td>NaN</td>\n",
       "      <td>NaN</td>\n",
       "      <td>211.096358</td>\n",
       "      <td>8.106</td>\n",
       "      <td>False</td>\n",
       "    </tr>\n",
       "    <tr>\n",
       "      <th>1</th>\n",
       "      <td>1</td>\n",
       "      <td>2010-02-12</td>\n",
       "      <td>38.51</td>\n",
       "      <td>2.548</td>\n",
       "      <td>NaN</td>\n",
       "      <td>NaN</td>\n",
       "      <td>NaN</td>\n",
       "      <td>NaN</td>\n",
       "      <td>NaN</td>\n",
       "      <td>211.242170</td>\n",
       "      <td>8.106</td>\n",
       "      <td>True</td>\n",
       "    </tr>\n",
       "    <tr>\n",
       "      <th>2</th>\n",
       "      <td>1</td>\n",
       "      <td>2010-02-19</td>\n",
       "      <td>39.93</td>\n",
       "      <td>2.514</td>\n",
       "      <td>NaN</td>\n",
       "      <td>NaN</td>\n",
       "      <td>NaN</td>\n",
       "      <td>NaN</td>\n",
       "      <td>NaN</td>\n",
       "      <td>211.289143</td>\n",
       "      <td>8.106</td>\n",
       "      <td>False</td>\n",
       "    </tr>\n",
       "    <tr>\n",
       "      <th>3</th>\n",
       "      <td>1</td>\n",
       "      <td>2010-02-26</td>\n",
       "      <td>46.63</td>\n",
       "      <td>2.561</td>\n",
       "      <td>NaN</td>\n",
       "      <td>NaN</td>\n",
       "      <td>NaN</td>\n",
       "      <td>NaN</td>\n",
       "      <td>NaN</td>\n",
       "      <td>211.319643</td>\n",
       "      <td>8.106</td>\n",
       "      <td>False</td>\n",
       "    </tr>\n",
       "    <tr>\n",
       "      <th>4</th>\n",
       "      <td>1</td>\n",
       "      <td>2010-03-05</td>\n",
       "      <td>46.50</td>\n",
       "      <td>2.625</td>\n",
       "      <td>NaN</td>\n",
       "      <td>NaN</td>\n",
       "      <td>NaN</td>\n",
       "      <td>NaN</td>\n",
       "      <td>NaN</td>\n",
       "      <td>211.350143</td>\n",
       "      <td>8.106</td>\n",
       "      <td>False</td>\n",
       "    </tr>\n",
       "  </tbody>\n",
       "</table>\n",
       "</div>"
      ],
      "text/plain": [
       "   Store        Date  Temperature  Fuel_Price  MarkDown1  MarkDown2  \\\n",
       "0      1  2010-02-05        42.31       2.572        NaN        NaN   \n",
       "1      1  2010-02-12        38.51       2.548        NaN        NaN   \n",
       "2      1  2010-02-19        39.93       2.514        NaN        NaN   \n",
       "3      1  2010-02-26        46.63       2.561        NaN        NaN   \n",
       "4      1  2010-03-05        46.50       2.625        NaN        NaN   \n",
       "\n",
       "   MarkDown3  MarkDown4  MarkDown5         CPI  Unemployment  IsHoliday  \n",
       "0        NaN        NaN        NaN  211.096358         8.106      False  \n",
       "1        NaN        NaN        NaN  211.242170         8.106       True  \n",
       "2        NaN        NaN        NaN  211.289143         8.106      False  \n",
       "3        NaN        NaN        NaN  211.319643         8.106      False  \n",
       "4        NaN        NaN        NaN  211.350143         8.106      False  "
      ]
     },
     "execution_count": 12,
     "metadata": {},
     "output_type": "execute_result"
    }
   ],
   "source": [
    "df_features.head()\n"
   ]
  },
  {
   "cell_type": "code",
   "execution_count": 13,
   "id": "2ebbb1c3-f303-440a-896c-b9f65113e6e8",
   "metadata": {},
   "outputs": [
    {
     "data": {
      "text/html": [
       "<div>\n",
       "<style scoped>\n",
       "    .dataframe tbody tr th:only-of-type {\n",
       "        vertical-align: middle;\n",
       "    }\n",
       "\n",
       "    .dataframe tbody tr th {\n",
       "        vertical-align: top;\n",
       "    }\n",
       "\n",
       "    .dataframe thead th {\n",
       "        text-align: right;\n",
       "    }\n",
       "</style>\n",
       "<table border=\"1\" class=\"dataframe\">\n",
       "  <thead>\n",
       "    <tr style=\"text-align: right;\">\n",
       "      <th></th>\n",
       "      <th>Store</th>\n",
       "      <th>Type</th>\n",
       "      <th>Size</th>\n",
       "    </tr>\n",
       "  </thead>\n",
       "  <tbody>\n",
       "    <tr>\n",
       "      <th>0</th>\n",
       "      <td>1</td>\n",
       "      <td>A</td>\n",
       "      <td>151315</td>\n",
       "    </tr>\n",
       "    <tr>\n",
       "      <th>1</th>\n",
       "      <td>2</td>\n",
       "      <td>A</td>\n",
       "      <td>202307</td>\n",
       "    </tr>\n",
       "    <tr>\n",
       "      <th>2</th>\n",
       "      <td>3</td>\n",
       "      <td>B</td>\n",
       "      <td>37392</td>\n",
       "    </tr>\n",
       "    <tr>\n",
       "      <th>3</th>\n",
       "      <td>4</td>\n",
       "      <td>A</td>\n",
       "      <td>205863</td>\n",
       "    </tr>\n",
       "    <tr>\n",
       "      <th>4</th>\n",
       "      <td>5</td>\n",
       "      <td>B</td>\n",
       "      <td>34875</td>\n",
       "    </tr>\n",
       "  </tbody>\n",
       "</table>\n",
       "</div>"
      ],
      "text/plain": [
       "   Store Type    Size\n",
       "0      1    A  151315\n",
       "1      2    A  202307\n",
       "2      3    B   37392\n",
       "3      4    A  205863\n",
       "4      5    B   34875"
      ]
     },
     "execution_count": 13,
     "metadata": {},
     "output_type": "execute_result"
    }
   ],
   "source": [
    "df_stores.head()"
   ]
  },
  {
   "cell_type": "markdown",
   "id": "6586c6ec-2867-41b9-bb14-9f4aba45bb9a",
   "metadata": {},
   "source": [
    "## 1- Basic EDA using:\n",
    "1- .info()\n",
    "2- describe()\n",
    "3- isnull().sum()\n",
    "4-value_count()"
   ]
  },
  {
   "cell_type": "code",
   "execution_count": 22,
   "id": "9980f676-c2d7-4e45-b2de-87d91c654a6e",
   "metadata": {},
   "outputs": [
    {
     "name": "stdout",
     "output_type": "stream",
     "text": [
      "<class 'pandas.core.frame.DataFrame'>\n",
      "RangeIndex: 421570 entries, 0 to 421569\n",
      "Data columns (total 5 columns):\n",
      " #   Column        Non-Null Count   Dtype  \n",
      "---  ------        --------------   -----  \n",
      " 0   Store         421570 non-null  int64  \n",
      " 1   Dept          421570 non-null  int64  \n",
      " 2   Date          421570 non-null  object \n",
      " 3   Weekly_Sales  421570 non-null  float64\n",
      " 4   IsHoliday     421570 non-null  bool   \n",
      "dtypes: bool(1), float64(1), int64(2), object(1)\n",
      "memory usage: 13.3+ MB\n",
      "None \n",
      "----------------------\n",
      "               Store           Dept   Weekly_Sales\n",
      "count  421570.000000  421570.000000  421570.000000\n",
      "mean       22.200546      44.260317   15981.258123\n",
      "std        12.785297      30.492054   22711.183519\n",
      "min         1.000000       1.000000   -4988.940000\n",
      "25%        11.000000      18.000000    2079.650000\n",
      "50%        22.000000      37.000000    7612.030000\n",
      "75%        33.000000      74.000000   20205.852500\n",
      "max        45.000000      99.000000  693099.360000 \n",
      "----------------------\n",
      "Store           0\n",
      "Dept            0\n",
      "Date            0\n",
      "Weekly_Sales    0\n",
      "IsHoliday       0\n",
      "dtype: int64 \n",
      "----------------------\n"
     ]
    }
   ],
   "source": [
    "\n",
    "print(df_train.info(), \"\\n----------------------\")\n",
    "print(df_train.describe(), \"\\n----------------------\")\n",
    "print(df_train.isnull().sum(), \"\\n----------------------\")\n"
   ]
  },
  {
   "cell_type": "code",
   "execution_count": 23,
   "id": "3d9a609e-b785-4f67-a3c4-4bf588206b2d",
   "metadata": {},
   "outputs": [
    {
     "name": "stdout",
     "output_type": "stream",
     "text": [
      "<class 'pandas.core.frame.DataFrame'>\n",
      "RangeIndex: 8190 entries, 0 to 8189\n",
      "Data columns (total 12 columns):\n",
      " #   Column        Non-Null Count  Dtype  \n",
      "---  ------        --------------  -----  \n",
      " 0   Store         8190 non-null   int64  \n",
      " 1   Date          8190 non-null   object \n",
      " 2   Temperature   8190 non-null   float64\n",
      " 3   Fuel_Price    8190 non-null   float64\n",
      " 4   MarkDown1     4032 non-null   float64\n",
      " 5   MarkDown2     2921 non-null   float64\n",
      " 6   MarkDown3     3613 non-null   float64\n",
      " 7   MarkDown4     3464 non-null   float64\n",
      " 8   MarkDown5     4050 non-null   float64\n",
      " 9   CPI           7605 non-null   float64\n",
      " 10  Unemployment  7605 non-null   float64\n",
      " 11  IsHoliday     8190 non-null   bool   \n",
      "dtypes: bool(1), float64(9), int64(1), object(1)\n",
      "memory usage: 712.0+ KB\n",
      "None \n",
      "----------------------\n",
      "             Store  Temperature   Fuel_Price      MarkDown1      MarkDown2  \\\n",
      "count  8190.000000  8190.000000  8190.000000    4032.000000    2921.000000   \n",
      "mean     23.000000    59.356198     3.405992    7032.371786    3384.176594   \n",
      "std      12.987966    18.678607     0.431337    9262.747448    8793.583016   \n",
      "min       1.000000    -7.290000     2.472000   -2781.450000    -265.760000   \n",
      "25%      12.000000    45.902500     3.041000    1577.532500      68.880000   \n",
      "50%      23.000000    60.710000     3.513000    4743.580000     364.570000   \n",
      "75%      34.000000    73.880000     3.743000    8923.310000    2153.350000   \n",
      "max      45.000000   101.950000     4.468000  103184.980000  104519.540000   \n",
      "\n",
      "           MarkDown3     MarkDown4      MarkDown5          CPI  Unemployment  \n",
      "count    3613.000000   3464.000000    4050.000000  7605.000000   7605.000000  \n",
      "mean     1760.100180   3292.935886    4132.216422   172.460809      7.826821  \n",
      "std     11276.462208   6792.329861   13086.690278    39.738346      1.877259  \n",
      "min      -179.260000      0.220000    -185.170000   126.064000      3.684000  \n",
      "25%         6.600000    304.687500    1440.827500   132.364839      6.634000  \n",
      "50%        36.260000   1176.425000    2727.135000   182.764003      7.806000  \n",
      "75%       163.150000   3310.007500    4832.555000   213.932412      8.567000  \n",
      "max    149483.310000  67474.850000  771448.100000   228.976456     14.313000   \n",
      "----------------------\n",
      "Store              0\n",
      "Date               0\n",
      "Temperature        0\n",
      "Fuel_Price         0\n",
      "MarkDown1       4158\n",
      "MarkDown2       5269\n",
      "MarkDown3       4577\n",
      "MarkDown4       4726\n",
      "MarkDown5       4140\n",
      "CPI              585\n",
      "Unemployment     585\n",
      "IsHoliday          0\n",
      "dtype: int64 \n",
      "----------------------\n"
     ]
    }
   ],
   "source": [
    "print(df_features.info(), \"\\n----------------------\")\n",
    "print(df_features.describe(), \"\\n----------------------\")\n",
    "print(df_features.isnull().sum(), \"\\n----------------------\")\n"
   ]
  },
  {
   "cell_type": "code",
   "execution_count": 25,
   "id": "3913a7b6-3351-440b-b064-035bb5a38f00",
   "metadata": {},
   "outputs": [
    {
     "name": "stdout",
     "output_type": "stream",
     "text": [
      "<class 'pandas.core.frame.DataFrame'>\n",
      "RangeIndex: 45 entries, 0 to 44\n",
      "Data columns (total 3 columns):\n",
      " #   Column  Non-Null Count  Dtype \n",
      "---  ------  --------------  ----- \n",
      " 0   Store   45 non-null     int64 \n",
      " 1   Type    45 non-null     object\n",
      " 2   Size    45 non-null     int64 \n",
      "dtypes: int64(2), object(1)\n",
      "memory usage: 1.2+ KB\n",
      "None \n",
      "----------------------\n",
      "           Store           Size\n",
      "count  45.000000      45.000000\n",
      "mean   23.000000  130287.600000\n",
      "std    13.133926   63825.271991\n",
      "min     1.000000   34875.000000\n",
      "25%    12.000000   70713.000000\n",
      "50%    23.000000  126512.000000\n",
      "75%    34.000000  202307.000000\n",
      "max    45.000000  219622.000000 \n",
      "----------------------\n",
      "Store    0\n",
      "Type     0\n",
      "Size     0\n",
      "dtype: int64 \n",
      "----------------------\n"
     ]
    }
   ],
   "source": [
    "print(df_stores.info(), \"\\n----------------------\")\n",
    "print(df_stores.describe(), \"\\n----------------------\")\n",
    "print(df_stores.isnull().sum(), \"\\n----------------------\")"
   ]
  },
  {
   "cell_type": "code",
   "execution_count": 37,
   "id": "7135b04f-6ca0-4c92-9154-96397e825169",
   "metadata": {},
   "outputs": [
    {
     "data": {
      "text/plain": [
       "Store\n",
       "13    10474\n",
       "10    10315\n",
       "4     10272\n",
       "1     10244\n",
       "2     10238\n",
       "24    10228\n",
       "27    10225\n",
       "34    10224\n",
       "20    10214\n",
       "6     10211\n",
       "32    10202\n",
       "19    10148\n",
       "31    10142\n",
       "28    10113\n",
       "41    10088\n",
       "11    10062\n",
       "23    10050\n",
       "14    10040\n",
       "40    10017\n",
       "15     9901\n",
       "8      9895\n",
       "39     9878\n",
       "17     9864\n",
       "18     9859\n",
       "26     9854\n",
       "25     9804\n",
       "7      9762\n",
       "12     9705\n",
       "22     9688\n",
       "45     9637\n",
       "21     9582\n",
       "35     9528\n",
       "29     9455\n",
       "16     9443\n",
       "3      9036\n",
       "5      8999\n",
       "9      8867\n",
       "38     7362\n",
       "37     7206\n",
       "44     7169\n",
       "30     7156\n",
       "42     6953\n",
       "43     6751\n",
       "33     6487\n",
       "36     6222\n",
       "Name: count, dtype: int64"
      ]
     },
     "execution_count": 37,
     "metadata": {},
     "output_type": "execute_result"
    }
   ],
   "source": [
    "df_train['Store'].value_counts()"
   ]
  },
  {
   "cell_type": "markdown",
   "id": "d14b315d-1cf3-46ef-a756-32f79bb10a5e",
   "metadata": {},
   "source": [
    "## 2- Aggregation ---> groubby(): total sales by store or departmen"
   ]
  },
  {
   "cell_type": "code",
   "execution_count": 26,
   "id": "62830454-f85b-48f9-942b-a2c65d152a2d",
   "metadata": {},
   "outputs": [
    {
     "name": "stdout",
     "output_type": "stream",
     "text": [
      "    Store  Weekly_Sales\n",
      "19     20  3.013978e+08\n",
      "3       4  2.995440e+08\n",
      "13     14  2.889999e+08\n",
      "12     13  2.865177e+08\n",
      "1       2  2.753824e+08\n"
     ]
    }
   ],
   "source": [
    "#Total sales per store\n",
    "sales_by_store = df_train.groupby('Store')['Weekly_Sales'].sum().reset_index()\n",
    "sales_by_store = sales_by_store.sort_values(by='Weekly_Sales', ascending=False)\n",
    "print(sales_by_store.head())"
   ]
  },
  {
   "cell_type": "code",
   "execution_count": 27,
   "id": "609a231f-23f9-4b9a-b644-c393f08e5a43",
   "metadata": {},
   "outputs": [
    {
     "name": "stdout",
     "output_type": "stream",
     "text": [
      "    Dept  Weekly_Sales\n",
      "73    92  4.839433e+08\n",
      "76    95  4.493202e+08\n",
      "36    38  3.931181e+08\n",
      "60    72  3.057252e+08\n",
      "71    90  2.910685e+08\n"
     ]
    }
   ],
   "source": [
    "#Total sales per department\n",
    "sales_by_dept = df_train.groupby('Dept')['Weekly_Sales'].sum().reset_index()\n",
    "sales_by_dept = sales_by_dept.sort_values(by='Weekly_Sales', ascending=False)\n",
    "print(sales_by_dept.head())"
   ]
  },
  {
   "cell_type": "markdown",
   "id": "7594b3d4-b3aa-46d3-8dff-37485b301ce1",
   "metadata": {},
   "source": [
    "# 3-  Filtering "
   ]
  },
  {
   "cell_type": "code",
   "execution_count": 30,
   "id": "0a523d6a-1829-4b16-87f8-4d03f70c423c",
   "metadata": {},
   "outputs": [
    {
     "name": "stdout",
     "output_type": "stream",
     "text": [
      "IsHoliday\n",
      "False    391909\n",
      "True      29661\n",
      "Name: count, dtype: int64\n",
      "     Store  Dept        Date  Weekly_Sales  IsHoliday\n",
      "8        1     1  2010-04-02      57258.43      False\n",
      "46       1     1  2010-12-24      55931.23      False\n",
      "63       1     1  2011-04-22      50510.31      False\n",
      "106      1     1  2012-02-17      54060.10      False\n",
      "113      1     1  2012-04-06      57592.12      False\n"
     ]
    }
   ],
   "source": [
    "\n",
    "print(df_train['IsHoliday'].value_counts())\n",
    "\n",
    "\n",
    "high_sales = df_train[df_train['Weekly_Sales'] > 50000]\n",
    "print(high_sales.head())"
   ]
  },
  {
   "cell_type": "markdown",
   "id": "c44977df-3905-42f5-bf24-33f3216ca270",
   "metadata": {},
   "source": [
    "# 4- Concatenating data"
   ]
  },
  {
   "cell_type": "code",
   "execution_count": 40,
   "id": "be23b0f8-de41-4889-8878-41fce9b5fd00",
   "metadata": {},
   "outputs": [
    {
     "name": "stdout",
     "output_type": "stream",
     "text": [
      "(200000, 5)\n",
      "   Store  Dept        Date  Weekly_Sales  IsHoliday\n",
      "0      1     1  2010-02-05      24924.50      False\n",
      "1      1     1  2010-02-12      46039.49       True\n",
      "2      1     1  2010-02-19      41595.55      False\n",
      "3      1     1  2010-02-26      19403.54      False\n",
      "4      1     1  2010-03-05      21827.90      False\n"
     ]
    }
   ],
   "source": [
    "df_train_part1 = df_train.iloc[:100000]\n",
    "df_train_part2 = df_train.iloc[100000:200000]\n",
    "\n",
    "\n",
    "df_concat = pd.concat([df_train_part1, df_train_part2], axis=0)\n",
    "\n",
    "\n",
    "df_concat = df_concat.reset_index(drop=True)\n",
    "\n",
    "print(df_concat.shape)\n",
    "print(df_concat.head())"
   ]
  },
  {
   "cell_type": "markdown",
   "id": "a38b614c-4766-4ddf-9768-263468aad973",
   "metadata": {},
   "source": [
    "# 5-Merging different datasets\n"
   ]
  },
  {
   "cell_type": "code",
   "execution_count": 39,
   "id": "964b95bc-4da0-4cca-899c-23fa4d87b960",
   "metadata": {},
   "outputs": [
    {
     "name": "stdout",
     "output_type": "stream",
     "text": [
      "   Store  Dept        Date  Weekly_Sales  IsHoliday_x Type    Size  \\\n",
      "0      1     1  2010-02-05      24924.50        False    A  151315   \n",
      "1      1     1  2010-02-12      46039.49         True    A  151315   \n",
      "2      1     1  2010-02-19      41595.55        False    A  151315   \n",
      "3      1     1  2010-02-26      19403.54        False    A  151315   \n",
      "4      1     1  2010-03-05      21827.90        False    A  151315   \n",
      "\n",
      "   Temperature  Fuel_Price  MarkDown1  MarkDown2  MarkDown3  MarkDown4  \\\n",
      "0        42.31       2.572        NaN        NaN        NaN        NaN   \n",
      "1        38.51       2.548        NaN        NaN        NaN        NaN   \n",
      "2        39.93       2.514        NaN        NaN        NaN        NaN   \n",
      "3        46.63       2.561        NaN        NaN        NaN        NaN   \n",
      "4        46.50       2.625        NaN        NaN        NaN        NaN   \n",
      "\n",
      "   MarkDown5         CPI  Unemployment  IsHoliday_y  \n",
      "0        NaN  211.096358         8.106        False  \n",
      "1        NaN  211.242170         8.106         True  \n",
      "2        NaN  211.289143         8.106        False  \n",
      "3        NaN  211.319643         8.106        False  \n",
      "4        NaN  211.350143         8.106        False  \n"
     ]
    }
   ],
   "source": [
    "merged_df = pd.merge(df_train, df_stores, on='Store', how='left')\n",
    "\n",
    "\n",
    "merged_df = pd.merge(merged_df, df_features, on=['Store', 'Date'], how='left')\n",
    "\n",
    "print(merged_df.head())"
   ]
  },
  {
   "cell_type": "markdown",
   "id": "f6c41673-b8c6-4210-8d9d-9278246c16f7",
   "metadata": {},
   "source": [
    "# 6- join()"
   ]
  },
  {
   "cell_type": "code",
   "execution_count": 46,
   "id": "36acba0f-5f4d-4a2e-bb2b-77761be9f3d0",
   "metadata": {},
   "outputs": [
    {
     "name": "stdout",
     "output_type": "stream",
     "text": [
      "   Store  Dept        Date  Weekly_Sales  IsHoliday Type    Size\n",
      "0      1     1  2010-02-05      24924.50      False    A  151315\n",
      "1      1     1  2010-02-12      46039.49       True    A  151315\n",
      "2      1     1  2010-02-19      41595.55      False    A  151315\n",
      "3      1     1  2010-02-26      19403.54      False    A  151315\n",
      "4      1     1  2010-03-05      21827.90      False    A  151315\n"
     ]
    }
   ],
   "source": [
    "df_stores_indexed = df_stores.set_index('Store')\n",
    "\n",
    "\n",
    "joined_df = df_train.join(df_stores_indexed, on='Store')\n",
    "\n",
    "print(joined_df.head())"
   ]
  },
  {
   "cell_type": "code",
   "execution_count": null,
   "id": "f911877f-ece2-4471-90b7-829f98d0ccc9",
   "metadata": {},
   "outputs": [],
   "source": []
  }
 ],
 "metadata": {
  "kernelspec": {
   "display_name": "Python 3 (ipykernel)",
   "language": "python",
   "name": "python3"
  },
  "language_info": {
   "codemirror_mode": {
    "name": "ipython",
    "version": 3
   },
   "file_extension": ".py",
   "mimetype": "text/x-python",
   "name": "python",
   "nbconvert_exporter": "python",
   "pygments_lexer": "ipython3",
   "version": "3.13.3"
  }
 },
 "nbformat": 4,
 "nbformat_minor": 5
}
