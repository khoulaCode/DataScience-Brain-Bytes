{
 "cells": [
  {
   "cell_type": "markdown",
   "id": "3303103e-67bf-42b2-93e6-dc62c67c24f9",
   "metadata": {},
   "source": [
    "# 1- Dataset"
   ]
  },
  {
   "cell_type": "markdown",
   "id": "f9fcf004-21f3-42c3-84cc-380cea86a428",
   "metadata": {},
   "source": [
    "- Load the cleaned IMDb "
   ]
  },
  {
   "cell_type": "code",
   "execution_count": 1,
   "id": "895056da-5135-41b9-be82-afb42ada54e4",
   "metadata": {},
   "outputs": [],
   "source": [
    "import pandas as pd"
   ]
  },
  {
   "cell_type": "code",
   "execution_count": 2,
   "id": "ee7de042-5a0b-49c7-afc4-07fdff76ac04",
   "metadata": {},
   "outputs": [],
   "source": [
    "data_path = \"Data/imdb_cleaned_sample.csv\"\n",
    "\n",
    "df = pd.read_csv(data_path)"
   ]
  },
  {
   "cell_type": "code",
   "execution_count": 3,
   "id": "d7ccb743-e5d7-4f97-9689-af84674aefec",
   "metadata": {},
   "outputs": [
    {
     "data": {
      "text/html": [
       "<div>\n",
       "<style scoped>\n",
       "    .dataframe tbody tr th:only-of-type {\n",
       "        vertical-align: middle;\n",
       "    }\n",
       "\n",
       "    .dataframe tbody tr th {\n",
       "        vertical-align: top;\n",
       "    }\n",
       "\n",
       "    .dataframe thead th {\n",
       "        text-align: right;\n",
       "    }\n",
       "</style>\n",
       "<table border=\"1\" class=\"dataframe\">\n",
       "  <thead>\n",
       "    <tr style=\"text-align: right;\">\n",
       "      <th></th>\n",
       "      <th>id</th>\n",
       "      <th>rating</th>\n",
       "      <th>txt</th>\n",
       "      <th>label</th>\n",
       "      <th>cleaned_review</th>\n",
       "    </tr>\n",
       "  </thead>\n",
       "  <tbody>\n",
       "    <tr>\n",
       "      <th>0</th>\n",
       "      <td>5903</td>\n",
       "      <td>8</td>\n",
       "      <td>I liked this movie sort of reminded me of my m...</td>\n",
       "      <td>1</td>\n",
       "      <td>liked movie sort reminded marriage clean see f...</td>\n",
       "    </tr>\n",
       "    <tr>\n",
       "      <th>1</th>\n",
       "      <td>194</td>\n",
       "      <td>8</td>\n",
       "      <td>Perhaps the funniest 'backstage at Hollywood' ...</td>\n",
       "      <td>1</td>\n",
       "      <td>perhaps funniest backstage hollywood movie eve...</td>\n",
       "    </tr>\n",
       "    <tr>\n",
       "      <th>2</th>\n",
       "      <td>5211</td>\n",
       "      <td>8</td>\n",
       "      <td>Since their nasty divorce from the Disney Comp...</td>\n",
       "      <td>1</td>\n",
       "      <td>since nasty divorce disney company disney keep...</td>\n",
       "    </tr>\n",
       "    <tr>\n",
       "      <th>3</th>\n",
       "      <td>7176</td>\n",
       "      <td>10</td>\n",
       "      <td>OK - you want to test somebody on how comforta...</td>\n",
       "      <td>1</td>\n",
       "      <td>want test somebody comfortable adolescence emb...</td>\n",
       "    </tr>\n",
       "    <tr>\n",
       "      <th>4</th>\n",
       "      <td>5754</td>\n",
       "      <td>9</td>\n",
       "      <td>I remember seeing this one when I was seven or...</td>\n",
       "      <td>1</td>\n",
       "      <td>remember seeing one seven eight must found cha...</td>\n",
       "    </tr>\n",
       "    <tr>\n",
       "      <th>...</th>\n",
       "      <td>...</td>\n",
       "      <td>...</td>\n",
       "      <td>...</td>\n",
       "      <td>...</td>\n",
       "      <td>...</td>\n",
       "    </tr>\n",
       "    <tr>\n",
       "      <th>9995</th>\n",
       "      <td>12250</td>\n",
       "      <td>2</td>\n",
       "      <td>Upon viewing Tobe Hooper's gem, Crocodile, in ...</td>\n",
       "      <td>0</td>\n",
       "      <td>upon viewing tobe hoopers gem crocodile develo...</td>\n",
       "    </tr>\n",
       "    <tr>\n",
       "      <th>9996</th>\n",
       "      <td>1686</td>\n",
       "      <td>1</td>\n",
       "      <td>Imagine that you are asked by your date what m...</td>\n",
       "      <td>0</td>\n",
       "      <td>imagine asked date movie wanted see remember s...</td>\n",
       "    </tr>\n",
       "    <tr>\n",
       "      <th>9997</th>\n",
       "      <td>8252</td>\n",
       "      <td>3</td>\n",
       "      <td>Whattt was with the sound? It sounded like it ...</td>\n",
       "      <td>0</td>\n",
       "      <td>whattt sound sounded like dubbedotherwise bad ...</td>\n",
       "    </tr>\n",
       "    <tr>\n",
       "      <th>9998</th>\n",
       "      <td>6290</td>\n",
       "      <td>3</td>\n",
       "      <td>Recap: Ron is about to marry Mel. They are dee...</td>\n",
       "      <td>0</td>\n",
       "      <td>recap ron marry mel deeply love certain perfec...</td>\n",
       "    </tr>\n",
       "    <tr>\n",
       "      <th>9999</th>\n",
       "      <td>3097</td>\n",
       "      <td>1</td>\n",
       "      <td>There can be no questions of spoilers for this...</td>\n",
       "      <td>0</td>\n",
       "      <td>question spoiler movie director beat spoiled m...</td>\n",
       "    </tr>\n",
       "  </tbody>\n",
       "</table>\n",
       "<p>10000 rows × 5 columns</p>\n",
       "</div>"
      ],
      "text/plain": [
       "         id  rating                                                txt  label  \\\n",
       "0      5903       8  I liked this movie sort of reminded me of my m...      1   \n",
       "1       194       8  Perhaps the funniest 'backstage at Hollywood' ...      1   \n",
       "2      5211       8  Since their nasty divorce from the Disney Comp...      1   \n",
       "3      7176      10  OK - you want to test somebody on how comforta...      1   \n",
       "4      5754       9  I remember seeing this one when I was seven or...      1   \n",
       "...     ...     ...                                                ...    ...   \n",
       "9995  12250       2  Upon viewing Tobe Hooper's gem, Crocodile, in ...      0   \n",
       "9996   1686       1  Imagine that you are asked by your date what m...      0   \n",
       "9997   8252       3  Whattt was with the sound? It sounded like it ...      0   \n",
       "9998   6290       3  Recap: Ron is about to marry Mel. They are dee...      0   \n",
       "9999   3097       1  There can be no questions of spoilers for this...      0   \n",
       "\n",
       "                                         cleaned_review  \n",
       "0     liked movie sort reminded marriage clean see f...  \n",
       "1     perhaps funniest backstage hollywood movie eve...  \n",
       "2     since nasty divorce disney company disney keep...  \n",
       "3     want test somebody comfortable adolescence emb...  \n",
       "4     remember seeing one seven eight must found cha...  \n",
       "...                                                 ...  \n",
       "9995  upon viewing tobe hoopers gem crocodile develo...  \n",
       "9996  imagine asked date movie wanted see remember s...  \n",
       "9997  whattt sound sounded like dubbedotherwise bad ...  \n",
       "9998  recap ron marry mel deeply love certain perfec...  \n",
       "9999  question spoiler movie director beat spoiled m...  \n",
       "\n",
       "[10000 rows x 5 columns]"
      ]
     },
     "execution_count": 3,
     "metadata": {},
     "output_type": "execute_result"
    }
   ],
   "source": [
    "df"
   ]
  },
  {
   "cell_type": "markdown",
   "id": "0d90cd9e-b56f-4760-b5a6-d41b57283882",
   "metadata": {},
   "source": [
    "- Check that the required columns exist"
   ]
  },
  {
   "cell_type": "code",
   "execution_count": 4,
   "id": "44e92e6f-f560-42a3-be44-4a0b75ffe65e",
   "metadata": {},
   "outputs": [],
   "source": [
    "\n",
    "assert {'cleaned_review', 'label'}.issubset(df.columns), \\\n",
    "       \"The file must contain 'cleaned_review' and 'label' columns\"\n"
   ]
  },
  {
   "cell_type": "markdown",
   "id": "c7f9e40d-0cb5-4ad8-9015-77c66283d82f",
   "metadata": {},
   "source": [
    "- Keep only the two required columns and drop empty/short records"
   ]
  },
  {
   "cell_type": "code",
   "execution_count": 5,
   "id": "7a4100b4-8022-447b-9db4-6eb91273c3c0",
   "metadata": {},
   "outputs": [],
   "source": [
    "df = df[['cleaned_review', 'label']].dropna()\n",
    "df = df[df['cleaned_review'].str.len() > 3].reset_index(drop=True)"
   ]
  },
  {
   "cell_type": "markdown",
   "id": "0ecf0d96-2d7f-4b08-b76a-1fb4caf4b245",
   "metadata": {},
   "source": [
    "- Display first few rows and dataset shape"
   ]
  },
  {
   "cell_type": "code",
   "execution_count": 6,
   "id": "d676d1aa-c293-4c5f-9065-2b64ff3f0b76",
   "metadata": {},
   "outputs": [
    {
     "name": "stdout",
     "output_type": "stream",
     "text": [
      "                                      cleaned_review  label\n",
      "0  liked movie sort reminded marriage clean see f...      1\n",
      "1  perhaps funniest backstage hollywood movie eve...      1\n",
      "2  since nasty divorce disney company disney keep...      1\n",
      "3  want test somebody comfortable adolescence emb...      1\n",
      "4  remember seeing one seven eight must found cha...      1 (10000, 2)\n"
     ]
    }
   ],
   "source": [
    "print(df.head(), df.shape)"
   ]
  },
  {
   "cell_type": "markdown",
   "id": "3da0a1f2-5314-4fd7-bfd6-3b3dcff936ac",
   "metadata": {},
   "source": [
    "# 2- Feature Extraction"
   ]
  },
  {
   "cell_type": "markdown",
   "id": "fe1e4d2d-08c6-4665-9b28-7f278cef7a0c",
   "metadata": {},
   "source": [
    "- Use TF-IDF vectorization on the cleaned reviews."
   ]
  },
  {
   "cell_type": "code",
   "execution_count": 7,
   "id": "a2da26b7-42ec-4fd2-ba6d-1ac9bf270627",
   "metadata": {},
   "outputs": [],
   "source": [
    "from sklearn.model_selection import train_test_split\n",
    "from sklearn.feature_extraction.text import TfidfVectorizer"
   ]
  },
  {
   "cell_type": "markdown",
   "id": "61530f63-801e-4c71-b015-ecbbef1e7fad",
   "metadata": {},
   "source": [
    "in this step i will 80/20 split with stratify to keep label balance. After that, TF-IDF vectorizer (unigrams + bigrams, max 50k features)"
   ]
  },
  {
   "cell_type": "code",
   "execution_count": 8,
   "id": "fef8a7e4-9b5f-4929-8fa1-b1431a8d61bb",
   "metadata": {},
   "outputs": [
    {
     "name": "stdout",
     "output_type": "stream",
     "text": [
      "Train shape: (8000, 50000)\n",
      "Test shape: (2000, 50000)\n"
     ]
    }
   ],
   "source": [
    "X = df['cleaned_review']\n",
    "y = df['label']\n",
    "\n",
    "\n",
    "X_train, X_test, y_train, y_test = train_test_split(\n",
    "    X, y, test_size=0.2, random_state=42, stratify=y\n",
    ")\n",
    "\n",
    "# \n",
    "tfidf = TfidfVectorizer(\n",
    "    lowercase=True,\n",
    "    stop_words='english',\n",
    "    ngram_range=(1, 2),\n",
    "    max_features=50000\n",
    ")\n",
    "\n",
    "X_train_tfidf = tfidf.fit_transform(X_train)\n",
    "X_test_tfidf = tfidf.transform(X_test)\n",
    "\n",
    "print(\"Train shape:\", X_train_tfidf.shape)\n",
    "print(\"Test shape:\", X_test_tfidf.shape)\n"
   ]
  },
  {
   "cell_type": "markdown",
   "id": "1589a70c-ebd5-47bd-8e8e-e47be861ceee",
   "metadata": {},
   "source": [
    "# 3- Models\n"
   ]
  },
  {
   "cell_type": "code",
   "execution_count": 9,
   "id": "acd6a396-3a8b-418f-926c-5177979cb393",
   "metadata": {},
   "outputs": [],
   "source": [
    "from sklearn.linear_model import LogisticRegression\n",
    "from sklearn.tree import DecisionTreeClassifier\n",
    "from sklearn.ensemble import RandomForestClassifier"
   ]
  },
  {
   "cell_type": "code",
   "execution_count": 10,
   "id": "f0136d21-d04f-4bf9-8131-6201419472ea",
   "metadata": {},
   "outputs": [],
   "source": [
    "models = {\n",
    "    \"LogisticRegression\": LogisticRegression(\n",
    "        max_iter=1000,\n",
    "        class_weight=\"balanced\",\n",
    "        random_state=42\n",
    "    ),\n",
    "    \"DecisionTree\": DecisionTreeClassifier(\n",
    "        random_state=42  # keep defaults as baseline\n",
    "    ),\n",
    "    \"RandomForest\": RandomForestClassifier(\n",
    "        n_estimators=200,\n",
    "        n_jobs=-1,\n",
    "        random_state=42\n",
    "    )\n",
    "}\n",
    "\n",
    "\n",
    "for name, clf in models.items():\n",
    "    clf.fit(X_train_tfidf, y_train)\n"
   ]
  },
  {
   "cell_type": "markdown",
   "id": "d7996c8b-bbfc-460e-b5cf-8eff1a490728",
   "metadata": {},
   "source": [
    "# 4- Evaluation"
   ]
  },
  {
   "cell_type": "code",
   "execution_count": 11,
   "id": "3145c4b6-406b-481f-a9ed-8332f7edc663",
   "metadata": {},
   "outputs": [],
   "source": [
    "import pandas as pd\n",
    "from sklearn.metrics import accuracy_score, precision_recall_fscore_support, classification_report"
   ]
  },
  {
   "cell_type": "code",
   "execution_count": 13,
   "id": "3c3de2b1-aff1-4c40-8651-37a113ce984a",
   "metadata": {},
   "outputs": [
    {
     "data": {
      "text/html": [
       "<div>\n",
       "<style scoped>\n",
       "    .dataframe tbody tr th:only-of-type {\n",
       "        vertical-align: middle;\n",
       "    }\n",
       "\n",
       "    .dataframe tbody tr th {\n",
       "        vertical-align: top;\n",
       "    }\n",
       "\n",
       "    .dataframe thead th {\n",
       "        text-align: right;\n",
       "    }\n",
       "</style>\n",
       "<table border=\"1\" class=\"dataframe\">\n",
       "  <thead>\n",
       "    <tr style=\"text-align: right;\">\n",
       "      <th></th>\n",
       "      <th>Model</th>\n",
       "      <th>Accuracy</th>\n",
       "      <th>Precision_w</th>\n",
       "      <th>Recall_w</th>\n",
       "      <th>F1_w</th>\n",
       "    </tr>\n",
       "  </thead>\n",
       "  <tbody>\n",
       "    <tr>\n",
       "      <th>0</th>\n",
       "      <td>LogisticRegression</td>\n",
       "      <td>0.866</td>\n",
       "      <td>0.866</td>\n",
       "      <td>0.866</td>\n",
       "      <td>0.865</td>\n",
       "    </tr>\n",
       "    <tr>\n",
       "      <th>1</th>\n",
       "      <td>RandomForest</td>\n",
       "      <td>0.840</td>\n",
       "      <td>0.840</td>\n",
       "      <td>0.840</td>\n",
       "      <td>0.840</td>\n",
       "    </tr>\n",
       "    <tr>\n",
       "      <th>2</th>\n",
       "      <td>DecisionTree</td>\n",
       "      <td>0.702</td>\n",
       "      <td>0.702</td>\n",
       "      <td>0.702</td>\n",
       "      <td>0.702</td>\n",
       "    </tr>\n",
       "  </tbody>\n",
       "</table>\n",
       "</div>"
      ],
      "text/plain": [
       "                Model Accuracy Precision_w Recall_w   F1_w\n",
       "0  LogisticRegression    0.866       0.866    0.866  0.865\n",
       "1        RandomForest    0.840       0.840    0.840  0.840\n",
       "2        DecisionTree    0.702       0.702    0.702  0.702"
      ]
     },
     "execution_count": 13,
     "metadata": {},
     "output_type": "execute_result"
    }
   ],
   "source": [
    "rows = []\n",
    "reports = {}\n",
    "\n",
    "for name, clf in models.items():\n",
    "    y_pred = clf.predict(X_test_tfidf)\n",
    "\n",
    "    acc = accuracy_score(y_test, y_pred)\n",
    "    prec, rec, f1, _ = precision_recall_fscore_support(\n",
    "        y_test, y_pred, average=\"weighted\", zero_division=0\n",
    "    )\n",
    "\n",
    "    rows.append({\n",
    "        \"Model\": name,\n",
    "        \"Accuracy\": acc,\n",
    "        \"Precision_w\": prec,\n",
    "        \"Recall_w\": rec,\n",
    "        \"F1_w\": f1\n",
    "    })\n",
    "    reports[name] = classification_report(y_test, y_pred, zero_division=0)\n",
    "\n",
    "metrics_df = pd.DataFrame(rows).sort_values(\"F1_w\", ascending=False).reset_index(drop=True)\n",
    "\n",
    "\n",
    "metrics_show = metrics_df.copy()\n",
    "for c in [\"Accuracy\", \"Precision_w\", \"Recall_w\", \"F1_w\"]:\n",
    "    metrics_show[c] = metrics_show[c].map(lambda x: f\"{x:.3f}\")\n",
    "\n",
    "metrics_show\n"
   ]
  },
  {
   "cell_type": "markdown",
   "id": "67e6a8ec-3335-45b7-af64-e61a2ecd9541",
   "metadata": {},
   "source": [
    "- Print classification reports."
   ]
  },
  {
   "cell_type": "code",
   "execution_count": 14,
   "id": "23cbc6c9-b8b7-4dbc-8b70-2b646f6a6755",
   "metadata": {},
   "outputs": [
    {
     "name": "stdout",
     "output_type": "stream",
     "text": [
      "\n",
      "=== LogisticRegression ===\n",
      "              precision    recall  f1-score   support\n",
      "\n",
      "           0       0.87      0.86      0.86      1000\n",
      "           1       0.86      0.87      0.87      1000\n",
      "\n",
      "    accuracy                           0.87      2000\n",
      "   macro avg       0.87      0.87      0.87      2000\n",
      "weighted avg       0.87      0.87      0.87      2000\n",
      "\n",
      "\n",
      "=== DecisionTree ===\n",
      "              precision    recall  f1-score   support\n",
      "\n",
      "           0       0.70      0.71      0.70      1000\n",
      "           1       0.71      0.69      0.70      1000\n",
      "\n",
      "    accuracy                           0.70      2000\n",
      "   macro avg       0.70      0.70      0.70      2000\n",
      "weighted avg       0.70      0.70      0.70      2000\n",
      "\n",
      "\n",
      "=== RandomForest ===\n",
      "              precision    recall  f1-score   support\n",
      "\n",
      "           0       0.84      0.84      0.84      1000\n",
      "           1       0.84      0.84      0.84      1000\n",
      "\n",
      "    accuracy                           0.84      2000\n",
      "   macro avg       0.84      0.84      0.84      2000\n",
      "weighted avg       0.84      0.84      0.84      2000\n",
      "\n"
     ]
    }
   ],
   "source": [
    "for name, rep in reports.items():\n",
    "    print(f\"\\n=== {name} ===\")\n",
    "    print(rep)\n"
   ]
  },
  {
   "cell_type": "markdown",
   "id": "e17d60b5-d4f5-458c-930a-99daf2fd912f",
   "metadata": {},
   "source": [
    "# 5- Reporting"
   ]
  },
  {
   "cell_type": "markdown",
   "id": "f87177e1-0365-4c42-8312-714c721d3428",
   "metadata": {},
   "source": [
    "- Logistic Regression performed best (F1 ≈ 0.865), followed by Random Forest (0.840) and Decision Tree (0.702).\n",
    "\n",
    "- Logistic Regression works well with high-dimensional TF-IDF features and is also the most interpretable (coefficients show which words drive sentiment).\n",
    "\n",
    "- Random Forest is robust but less interpretable; Decision Tree is easy to visualize but overfits and performs poorly.\n",
    "\n",
    "- Recommendation: Use Logistic Regression as the baseline model for both strong accuracy and clear explainability."
   ]
  }
 ],
 "metadata": {
  "kernelspec": {
   "display_name": "Python 3 (ipykernel)",
   "language": "python",
   "name": "python3"
  },
  "language_info": {
   "codemirror_mode": {
    "name": "ipython",
    "version": 3
   },
   "file_extension": ".py",
   "mimetype": "text/x-python",
   "name": "python",
   "nbconvert_exporter": "python",
   "pygments_lexer": "ipython3",
   "version": "3.13.3"
  }
 },
 "nbformat": 4,
 "nbformat_minor": 5
}
