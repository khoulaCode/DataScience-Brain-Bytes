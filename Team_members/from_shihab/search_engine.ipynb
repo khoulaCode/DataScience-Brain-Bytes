{
 "cells": [
  {
   "cell_type": "markdown",
   "id": "1c7cba00-f822-4a38-bbbc-765883e82f64",
   "metadata": {},
   "source": [
    "# News Search Engine"
   ]
  },
  {
   "cell_type": "markdown",
   "id": "7ebd0913-b3e1-4643-b0f0-4ceda8527ec4",
   "metadata": {},
   "source": [
    "As a user of the news platform, I want to search for articles by entering a query,\n",
    " So that I can quickly find the most relevant news headlines across multiple categories."
   ]
  },
  {
   "cell_type": "markdown",
   "id": "00f69028-bb23-4b9b-8dbb-085f67e2beb3",
   "metadata": {},
   "source": [
    "1. Data Preprocessing"
   ]
  },
  {
   "cell_type": "code",
   "execution_count": 9,
   "id": "cacce75f-dc5c-4ce4-9ef1-210629873160",
   "metadata": {},
   "outputs": [],
   "source": [
    "import pandas as pd\n",
    "from sklearn.metrics.pairwise import cosine_similarity\n",
    "import numpy as np"
   ]
  },
  {
   "cell_type": "markdown",
   "id": "93f5f10e-786f-4f83-93f6-b7b05d6af8e8",
   "metadata": {},
   "source": [
    "we need to load dataset (adjust path to your Kaggle dataset file)"
   ]
  },
  {
   "cell_type": "code",
   "execution_count": 2,
   "id": "09c327a8-9c0a-421d-badb-54cc570d7ff8",
   "metadata": {},
   "outputs": [],
   "source": [
    "df = pd.read_json(\"Data/News_Category_Dataset_v3.json\", lines=True)"
   ]
  },
  {
   "cell_type": "code",
   "execution_count": 3,
   "id": "04263c5f-494b-4f26-962f-c1b758ca5fdb",
   "metadata": {},
   "outputs": [
    {
     "data": {
      "text/html": [
       "<div>\n",
       "<style scoped>\n",
       "    .dataframe tbody tr th:only-of-type {\n",
       "        vertical-align: middle;\n",
       "    }\n",
       "\n",
       "    .dataframe tbody tr th {\n",
       "        vertical-align: top;\n",
       "    }\n",
       "\n",
       "    .dataframe thead th {\n",
       "        text-align: right;\n",
       "    }\n",
       "</style>\n",
       "<table border=\"1\" class=\"dataframe\">\n",
       "  <thead>\n",
       "    <tr style=\"text-align: right;\">\n",
       "      <th></th>\n",
       "      <th>link</th>\n",
       "      <th>headline</th>\n",
       "      <th>category</th>\n",
       "      <th>short_description</th>\n",
       "      <th>authors</th>\n",
       "      <th>date</th>\n",
       "    </tr>\n",
       "  </thead>\n",
       "  <tbody>\n",
       "    <tr>\n",
       "      <th>0</th>\n",
       "      <td>https://www.huffpost.com/entry/covid-boosters-...</td>\n",
       "      <td>Over 4 Million Americans Roll Up Sleeves For O...</td>\n",
       "      <td>U.S. NEWS</td>\n",
       "      <td>Health experts said it is too early to predict...</td>\n",
       "      <td>Carla K. Johnson, AP</td>\n",
       "      <td>2022-09-23</td>\n",
       "    </tr>\n",
       "    <tr>\n",
       "      <th>1</th>\n",
       "      <td>https://www.huffpost.com/entry/american-airlin...</td>\n",
       "      <td>American Airlines Flyer Charged, Banned For Li...</td>\n",
       "      <td>U.S. NEWS</td>\n",
       "      <td>He was subdued by passengers and crew when he ...</td>\n",
       "      <td>Mary Papenfuss</td>\n",
       "      <td>2022-09-23</td>\n",
       "    </tr>\n",
       "    <tr>\n",
       "      <th>2</th>\n",
       "      <td>https://www.huffpost.com/entry/funniest-tweets...</td>\n",
       "      <td>23 Of The Funniest Tweets About Cats And Dogs ...</td>\n",
       "      <td>COMEDY</td>\n",
       "      <td>\"Until you have a dog you don't understand wha...</td>\n",
       "      <td>Elyse Wanshel</td>\n",
       "      <td>2022-09-23</td>\n",
       "    </tr>\n",
       "    <tr>\n",
       "      <th>3</th>\n",
       "      <td>https://www.huffpost.com/entry/funniest-parent...</td>\n",
       "      <td>The Funniest Tweets From Parents This Week (Se...</td>\n",
       "      <td>PARENTING</td>\n",
       "      <td>\"Accidentally put grown-up toothpaste on my to...</td>\n",
       "      <td>Caroline Bologna</td>\n",
       "      <td>2022-09-23</td>\n",
       "    </tr>\n",
       "    <tr>\n",
       "      <th>4</th>\n",
       "      <td>https://www.huffpost.com/entry/amy-cooper-lose...</td>\n",
       "      <td>Woman Who Called Cops On Black Bird-Watcher Lo...</td>\n",
       "      <td>U.S. NEWS</td>\n",
       "      <td>Amy Cooper accused investment firm Franklin Te...</td>\n",
       "      <td>Nina Golgowski</td>\n",
       "      <td>2022-09-22</td>\n",
       "    </tr>\n",
       "    <tr>\n",
       "      <th>...</th>\n",
       "      <td>...</td>\n",
       "      <td>...</td>\n",
       "      <td>...</td>\n",
       "      <td>...</td>\n",
       "      <td>...</td>\n",
       "      <td>...</td>\n",
       "    </tr>\n",
       "    <tr>\n",
       "      <th>209522</th>\n",
       "      <td>https://www.huffingtonpost.com/entry/rim-ceo-t...</td>\n",
       "      <td>RIM CEO Thorsten Heins' 'Significant' Plans Fo...</td>\n",
       "      <td>TECH</td>\n",
       "      <td>Verizon Wireless and AT&amp;T are already promotin...</td>\n",
       "      <td>Reuters, Reuters</td>\n",
       "      <td>2012-01-28</td>\n",
       "    </tr>\n",
       "    <tr>\n",
       "      <th>209523</th>\n",
       "      <td>https://www.huffingtonpost.com/entry/maria-sha...</td>\n",
       "      <td>Maria Sharapova Stunned By Victoria Azarenka I...</td>\n",
       "      <td>SPORTS</td>\n",
       "      <td>Afterward, Azarenka, more effusive with the pr...</td>\n",
       "      <td></td>\n",
       "      <td>2012-01-28</td>\n",
       "    </tr>\n",
       "    <tr>\n",
       "      <th>209524</th>\n",
       "      <td>https://www.huffingtonpost.com/entry/super-bow...</td>\n",
       "      <td>Giants Over Patriots, Jets Over Colts Among  M...</td>\n",
       "      <td>SPORTS</td>\n",
       "      <td>Leading up to Super Bowl XLVI, the most talked...</td>\n",
       "      <td></td>\n",
       "      <td>2012-01-28</td>\n",
       "    </tr>\n",
       "    <tr>\n",
       "      <th>209525</th>\n",
       "      <td>https://www.huffingtonpost.com/entry/aldon-smi...</td>\n",
       "      <td>Aldon Smith Arrested: 49ers Linebacker Busted ...</td>\n",
       "      <td>SPORTS</td>\n",
       "      <td>CORRECTION: An earlier version of this story i...</td>\n",
       "      <td></td>\n",
       "      <td>2012-01-28</td>\n",
       "    </tr>\n",
       "    <tr>\n",
       "      <th>209526</th>\n",
       "      <td>https://www.huffingtonpost.com/entry/dwight-ho...</td>\n",
       "      <td>Dwight Howard Rips Teammates After Magic Loss ...</td>\n",
       "      <td>SPORTS</td>\n",
       "      <td>The five-time all-star center tore into his te...</td>\n",
       "      <td></td>\n",
       "      <td>2012-01-28</td>\n",
       "    </tr>\n",
       "  </tbody>\n",
       "</table>\n",
       "<p>209527 rows × 6 columns</p>\n",
       "</div>"
      ],
      "text/plain": [
       "                                                     link  \\\n",
       "0       https://www.huffpost.com/entry/covid-boosters-...   \n",
       "1       https://www.huffpost.com/entry/american-airlin...   \n",
       "2       https://www.huffpost.com/entry/funniest-tweets...   \n",
       "3       https://www.huffpost.com/entry/funniest-parent...   \n",
       "4       https://www.huffpost.com/entry/amy-cooper-lose...   \n",
       "...                                                   ...   \n",
       "209522  https://www.huffingtonpost.com/entry/rim-ceo-t...   \n",
       "209523  https://www.huffingtonpost.com/entry/maria-sha...   \n",
       "209524  https://www.huffingtonpost.com/entry/super-bow...   \n",
       "209525  https://www.huffingtonpost.com/entry/aldon-smi...   \n",
       "209526  https://www.huffingtonpost.com/entry/dwight-ho...   \n",
       "\n",
       "                                                 headline   category  \\\n",
       "0       Over 4 Million Americans Roll Up Sleeves For O...  U.S. NEWS   \n",
       "1       American Airlines Flyer Charged, Banned For Li...  U.S. NEWS   \n",
       "2       23 Of The Funniest Tweets About Cats And Dogs ...     COMEDY   \n",
       "3       The Funniest Tweets From Parents This Week (Se...  PARENTING   \n",
       "4       Woman Who Called Cops On Black Bird-Watcher Lo...  U.S. NEWS   \n",
       "...                                                   ...        ...   \n",
       "209522  RIM CEO Thorsten Heins' 'Significant' Plans Fo...       TECH   \n",
       "209523  Maria Sharapova Stunned By Victoria Azarenka I...     SPORTS   \n",
       "209524  Giants Over Patriots, Jets Over Colts Among  M...     SPORTS   \n",
       "209525  Aldon Smith Arrested: 49ers Linebacker Busted ...     SPORTS   \n",
       "209526  Dwight Howard Rips Teammates After Magic Loss ...     SPORTS   \n",
       "\n",
       "                                        short_description  \\\n",
       "0       Health experts said it is too early to predict...   \n",
       "1       He was subdued by passengers and crew when he ...   \n",
       "2       \"Until you have a dog you don't understand wha...   \n",
       "3       \"Accidentally put grown-up toothpaste on my to...   \n",
       "4       Amy Cooper accused investment firm Franklin Te...   \n",
       "...                                                   ...   \n",
       "209522  Verizon Wireless and AT&T are already promotin...   \n",
       "209523  Afterward, Azarenka, more effusive with the pr...   \n",
       "209524  Leading up to Super Bowl XLVI, the most talked...   \n",
       "209525  CORRECTION: An earlier version of this story i...   \n",
       "209526  The five-time all-star center tore into his te...   \n",
       "\n",
       "                     authors       date  \n",
       "0       Carla K. Johnson, AP 2022-09-23  \n",
       "1             Mary Papenfuss 2022-09-23  \n",
       "2              Elyse Wanshel 2022-09-23  \n",
       "3           Caroline Bologna 2022-09-23  \n",
       "4             Nina Golgowski 2022-09-22  \n",
       "...                      ...        ...  \n",
       "209522      Reuters, Reuters 2012-01-28  \n",
       "209523                       2012-01-28  \n",
       "209524                       2012-01-28  \n",
       "209525                       2012-01-28  \n",
       "209526                       2012-01-28  \n",
       "\n",
       "[209527 rows x 6 columns]"
      ]
     },
     "execution_count": 3,
     "metadata": {},
     "output_type": "execute_result"
    }
   ],
   "source": [
    "df"
   ]
  },
  {
   "cell_type": "markdown",
   "id": "3953d1d2-239b-4160-b7f6-6dcd3e727939",
   "metadata": {},
   "source": [
    "just we need to keep only required categories"
   ]
  },
  {
   "cell_type": "code",
   "execution_count": 4,
   "id": "e6415ffa-d6ba-4d4a-99d5-1aa0092d495c",
   "metadata": {},
   "outputs": [],
   "source": [
    "categories = [\"POLITICS\", \"TRAVEL\", \"SPORTS\", \"HOME & LIVING\"]\n",
    "df_filtered = df[df[\"category\"].isin(categories)]"
   ]
  },
  {
   "cell_type": "markdown",
   "id": "1e5fe0cd-a53a-4683-b2b5-0fbcc67ef2fe",
   "metadata": {},
   "source": [
    "Balance: take 1000 per category"
   ]
  },
  {
   "cell_type": "code",
   "execution_count": 5,
   "id": "c934e9bd-6e23-410a-aad9-436ff7257e42",
   "metadata": {},
   "outputs": [],
   "source": [
    "df_balanced = df_filtered.groupby(\"category\").head(1000).copy()"
   ]
  },
  {
   "cell_type": "markdown",
   "id": "78a40145-7151-424b-8e78-b558bc391f6b",
   "metadata": {},
   "source": [
    "Keep only 'headline' and 'category'"
   ]
  },
  {
   "cell_type": "code",
   "execution_count": 6,
   "id": "b0034f7e-cb03-4572-ac5c-7594a749600f",
   "metadata": {},
   "outputs": [],
   "source": [
    "df_balanced = df_balanced[[\"headline\", \"category\"]].reset_index(drop=True)"
   ]
  },
  {
   "cell_type": "code",
   "execution_count": 7,
   "id": "83d04563-e9bc-47eb-a5be-b3e6321f3e51",
   "metadata": {},
   "outputs": [
    {
     "name": "stdout",
     "output_type": "stream",
     "text": [
      "(4000, 2)\n"
     ]
    }
   ],
   "source": [
    "print(df_balanced.shape)"
   ]
  },
  {
   "cell_type": "code",
   "execution_count": 8,
   "id": "38c6e316-a152-4774-8dd3-2e3b8a7e8ea1",
   "metadata": {},
   "outputs": [
    {
     "name": "stdout",
     "output_type": "stream",
     "text": [
      "                                            headline  category\n",
      "0  Maury Wills, Base-Stealing Shortstop For Dodge...    SPORTS\n",
      "1  Biden Says U.S. Forces Would Defend Taiwan If ...  POLITICS\n",
      "2  ‘Beautiful And Sad At The Same Time’: Ukrainia...  POLITICS\n",
      "3  Las Vegas Aces Win First WNBA Title, Chelsea G...    SPORTS\n",
      "4  Biden Says Queen's Death Left 'Giant Hole' For...  POLITICS\n"
     ]
    }
   ],
   "source": [
    "print(df_balanced.head())"
   ]
  },
  {
   "cell_type": "markdown",
   "id": "0b3b0e13-70d5-4d5b-bd3a-5a72e3f29df8",
   "metadata": {},
   "source": [
    "# 2. Vectorization (TF-IDF)"
   ]
  },
  {
   "cell_type": "markdown",
   "id": "ad80b1f1-a0cd-484d-95db-bf9971d40cce",
   "metadata": {},
   "source": [
    "#### we will focus in 4 steps which are:\n",
    "###### Transform query into TF-IDF vector\n",
    "###### Compute cosine similarity with all headlines\n",
    "###### Get top k indices\n",
    "###### Prepare results"
   ]
  },
  {
   "cell_type": "code",
   "execution_count": 10,
   "id": "2e4140ba-1b1f-4284-8606-e7167892bc47",
   "metadata": {},
   "outputs": [],
   "source": [
    "def search(query, top_k=10):\n",
    "    \n",
    "    query_vec = vectorizer.transform([query])\n",
    "    \n",
    "    \n",
    "    similarities = cosine_similarity(query_vec, X).flatten()\n",
    "    \n",
    "    \n",
    "    top_indices = similarities.argsort()[::-1][:top_k]\n",
    "    \n",
    "    \n",
    "    results = []\n",
    "    for idx in top_indices:\n",
    "        headline = df_balanced.iloc[idx][\"headline\"]\n",
    "        category = df_balanced.iloc[idx][\"category\"]\n",
    "        score = similarities[idx]\n",
    "        results.append((headline, category, score))\n",
    "    \n",
    "    return results\n"
   ]
  },
  {
   "cell_type": "markdown",
   "id": "7619e2ea-1208-4fe8-b649-5cb7bb70ed52",
   "metadata": {},
   "source": [
    "# 3. Search Implementation"
   ]
  },
  {
   "cell_type": "code",
   "execution_count": 14,
   "id": "b9e418aa-60ac-4acb-8858-0b21f1dbaff5",
   "metadata": {},
   "outputs": [],
   "source": [
    "\n",
    "\n",
    "def search(query, top_k=10):\n",
    "    # Transform query into TF-IDF vector\n",
    "    query_vec = vectorizer.transform([query])\n",
    "    \n",
    "    # Compute cosine similarity with all headlines\n",
    "    similarities = cosine_similarity(query_vec, X).flatten()\n",
    "    \n",
    "    # Get top k indices\n",
    "    top_indices = similarities.argsort()[::-1][:top_k]\n",
    "    \n",
    "    # Prepare results\n",
    "    results = []\n",
    "    for idx in top_indices:\n",
    "        headline = df_balanced.iloc[idx][\"headline\"]\n",
    "        category = df_balanced.iloc[idx][\"category\"]\n",
    "        score = similarities[idx]\n",
    "        results.append((headline, category, score))\n",
    "    \n",
    "    return results\n"
   ]
  },
  {
   "cell_type": "markdown",
   "id": "51dc6bb7-d639-4417-935d-afaec3545353",
   "metadata": {},
   "source": [
    "# 4- User Experience (Testing Search)"
   ]
  },
  {
   "cell_type": "code",
   "execution_count": 17,
   "id": "baf597ad-6def-4e38-a571-22e61a6b25d8",
   "metadata": {},
   "outputs": [],
   "source": [
    "from sklearn.feature_extraction.text import TfidfVectorizer\n",
    "\n",
    "# Create TF-IDF vectorizer\n",
    "vectorizer = TfidfVectorizer(stop_words=\"english\")\n",
    "\n",
    "# Fit on the headlines\n",
    "X = vectorizer.fit_transform(df_balanced[\"headline\"])\n"
   ]
  },
  {
   "cell_type": "code",
   "execution_count": 18,
   "id": "3d500d6a-bfc9-4697-9196-9c0e9ea180a9",
   "metadata": {},
   "outputs": [],
   "source": [
    "def search(query, top_k=10):\n",
    "    # Transform query into TF-IDF vector\n",
    "    query_vec = vectorizer.transform([query])\n",
    "    \n",
    "    # Compute cosine similarity with all headlines\n",
    "    similarities = cosine_similarity(query_vec, X).flatten()\n",
    "    \n",
    "    # Get top k indices\n",
    "    top_indices = similarities.argsort()[::-1][:top_k]\n",
    "    \n",
    "    # Prepare results\n",
    "    results = []\n",
    "    for idx in top_indices:\n",
    "        headline = df_balanced.iloc[idx][\"headline\"]\n",
    "        category = df_balanced.iloc[idx][\"category\"]\n",
    "        score = similarities[idx]\n",
    "        results.append((headline, category, score))\n",
    "    \n",
    "    return results"
   ]
  },
  {
   "cell_type": "code",
   "execution_count": 19,
   "id": "e68ff9bc-f3dc-4c4f-8d80-6d5601cff63f",
   "metadata": {},
   "outputs": [
    {
     "name": "stdout",
     "output_type": "stream",
     "text": [
      "\n",
      "Top 10 Results for: government election debate\n",
      "1. Biden Slams Republicans For Blocking Debate On Voting Rights Bill  |  POLITICS  |  Score: 0.2870\n",
      "2. Why Travel Fees Should Be Regulated By The Government  |  TRAVEL  |  Score: 0.2860\n",
      "3. What To Know About The Growing Debate Over COVID-19 Vaccine Patents And Equity  |  POLITICS  |  Score: 0.2595\n",
      "4. RNC Ripped, Ridiculed Over Presidential Debate Ban Threat  |  POLITICS  |  Score: 0.2524\n",
      "5. Republicans Block Debate On Voting Rights Bill, Setting Up Summer Filibuster Fight  |  POLITICS  |  Score: 0.2459\n",
      "6. Government Tries To Protect Air Travelers. Will Anyone Notice?  |  TRAVEL  |  Score: 0.2325\n",
      "7. Senate Republicans Threaten Government Shutdown Over ‘Vaccine Mandate’  |  POLITICS  |  Score: 0.2259\n",
      "8. And They're Back! Buyer Demand Rebounds After Government Reopens  |  HOME & LIVING  |  Score: 0.2229\n",
      "9. Biden Signs Stopgap Spending Bill Averting Government Shutdown  |  POLITICS  |  Score: 0.2067\n",
      "10. House Passes Government Funding As Senate Republicans Threaten Shutdown Over Vaccines  |  POLITICS  |  Score: 0.1970\n"
     ]
    }
   ],
   "source": [
    "# Example query\n",
    "query = \"government election debate\"\n",
    "results = search(query)\n",
    "\n",
    "# Display results\n",
    "print(\"\\nTop 10 Results for:\", query)\n",
    "for rank, (headline, category, score) in enumerate(results, 1):\n",
    "    print(f\"{rank}. {headline}  |  {category}  |  Score: {score:.4f}\")\n"
   ]
  },
  {
   "cell_type": "code",
   "execution_count": null,
   "id": "847ac138-6dd7-4165-ac92-3b35edcb909b",
   "metadata": {},
   "outputs": [],
   "source": []
  }
 ],
 "metadata": {
  "kernelspec": {
   "display_name": "Python 3 (ipykernel)",
   "language": "python",
   "name": "python3"
  },
  "language_info": {
   "codemirror_mode": {
    "name": "ipython",
    "version": 3
   },
   "file_extension": ".py",
   "mimetype": "text/x-python",
   "name": "python",
   "nbconvert_exporter": "python",
   "pygments_lexer": "ipython3",
   "version": "3.13.3"
  }
 },
 "nbformat": 4,
 "nbformat_minor": 5
}
