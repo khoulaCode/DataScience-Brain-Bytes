{
 "cells": [
  {
   "cell_type": "code",
   "execution_count": 24,
   "id": "d9069dd5-6d33-4858-9896-d9c98a7fe49b",
   "metadata": {},
   "outputs": [],
   "source": [
    "import numpy as np"
   ]
  },
  {
   "cell_type": "markdown",
   "id": "c363c4d8-01ce-4f53-bfb4-a8ad75902eda",
   "metadata": {},
   "source": [
    " 1. Data Generation:"
   ]
  },
  {
   "cell_type": "code",
   "execution_count": 25,
   "id": "b0a28a51-4306-4cb1-a6bd-d228d1b46441",
   "metadata": {},
   "outputs": [
    {
     "data": {
      "text/plain": [
       "array([[0.00000000e+00, 2.27450712e+01, 6.16288127e+01, 1.00080884e+03],\n",
       "       [1.00000000e+00, 2.17926035e+01, 6.67347386e+01, 1.00139650e+03],\n",
       "       [2.00000000e+00, 2.29715328e+01, 5.68102156e+01, 1.00896567e+03],\n",
       "       [3.00000000e+00, 2.42845448e+01, 4.20316805e+01, 1.01428843e+03],\n",
       "       [4.00000000e+00, 2.16487699e+01, 5.89968795e+01, 9.98262476e+02]])"
      ]
     },
     "execution_count": 25,
     "metadata": {},
     "output_type": "execute_result"
    }
   ],
   "source": [
    "# Set random seed for reproducibility\n",
    "np.random.seed(42)\n",
    "\n",
    "# Time: 0 to 1439 (minutes in 24 hours)\n",
    "time_in_minutes = np.arange(1440)\n",
    "\n",
    "# Generate synthetic data\n",
    "temperature_base = 22  # in °C\n",
    "temperature = np.random.normal(loc=temperature_base, scale=1.5, size=1440)\n",
    "\n",
    "humidity_base = 55  # in %\n",
    "humidity = np.clip(np.random.normal(loc=humidity_base, scale=10, size=1440), 0, 100)\n",
    "\n",
    "pressure_base = 1012  # in hPa\n",
    "pressure = np.random.normal(loc=pressure_base, scale=5, size=1440)\n",
    "\n",
    "# Combine into a single 2D array: [time, temperature, humidity, pressure]\n",
    "data = np.column_stack((time_in_minutes, temperature, humidity, pressure))\n",
    "\n",
    "# Optional preview\n",
    "data[:5]"
   ]
  },
  {
   "cell_type": "markdown",
   "id": "db85fe60-c447-4237-b746-0c4e8e2aafba",
   "metadata": {},
   "source": [
    "2. Basic Statistics: "
   ]
  },
  {
   "cell_type": "code",
   "execution_count": 26,
   "id": "dd2cd4ec-6f65-4bb7-8040-a33ac603f358",
   "metadata": {},
   "outputs": [
    {
     "name": "stdout",
     "output_type": "stream",
     "text": [
      "Temperature - Mean: 22.06, Min: 17.14, Max: 27.78, Std: 1.48\n",
      "Humidity    - Mean: 55.27, Min: 24.80, Max: 86.93, Std: 9.77\n",
      "Pressure    - Mean: 1011.81, Min: 996.96, Max: 1031.63, Std: 5.13\n"
     ]
    }
   ],
   "source": [
    "# Slice columns for clarity\n",
    "temp = data[:, 1]\n",
    "hum = data[:, 2]\n",
    "pres = data[:, 3]\n",
    "\n",
    "# Compute statistics\n",
    "\n",
    "print(f\"Temperature - Mean: {np.mean(temp):.2f}, Min: {np.min(temp):.2f}, Max: {np.max(temp):.2f}, Std: {np.std(temp):.2f}\")\n",
    "print(f\"Humidity    - Mean: {np.mean(hum):.2f}, Min: {np.min(hum):.2f}, Max: {np.max(hum):.2f}, Std: {np.std(hum):.2f}\")\n",
    "print(f\"Pressure    - Mean: {np.mean(pres):.2f}, Min: {np.min(pres):.2f}, Max: {np.max(pres):.2f}, Std: {np.std(pres):.2f}\")"
   ]
  },
  {
   "cell_type": "markdown",
   "id": "f8415479-2a5c-4638-b5c0-3fa8fe3b467a",
   "metadata": {},
   "source": [
    " 3. Hourly Averages:"
   ]
  },
  {
   "cell_type": "code",
   "execution_count": 27,
   "id": "56502865-97e4-4658-bd10-fe878ead0a7e",
   "metadata": {},
   "outputs": [
    {
     "name": "stdout",
     "output_type": "stream",
     "text": [
      "Hour 0: Temp=21.77, Hum=57.70, Pres=1012.08\n",
      "Hour 1: Temp=21.99, Hum=55.00, Pres=1011.95\n",
      "Hour 2: Temp=22.14, Hum=53.74, Pres=1010.70\n",
      "Hour 3: Temp=22.09, Hum=57.31, Pres=1012.40\n",
      "Hour 4: Temp=21.97, Hum=56.23, Pres=1010.54\n"
     ]
    }
   ],
   "source": [
    "# Reshape into 24 rows (hours) × 60 columns (minutes)\n",
    "temp_hourly = temp.reshape(24, 60)\n",
    "hum_hourly = hum.reshape(24, 60)\n",
    "pres_hourly = pres.reshape(24, 60)\n",
    "\n",
    "# Calculate mean across axis=1 (i.e., mean per hour)\n",
    "avg_temp_per_hour = np.mean(temp_hourly, axis=1)\n",
    "avg_hum_per_hour = np.mean(hum_hourly, axis=1)\n",
    "avg_pres_per_hour = np.mean(pres_hourly, axis=1)\n",
    "\n",
    "# Optional: Display first 5 hours\n",
    "for h in range(5):\n",
    "    print(f\"Hour {h}: Temp={avg_temp_per_hour[h]:.2f}, Hum={avg_hum_per_hour[h]:.2f}, Pres={avg_pres_per_hour[h]:.2f}\")"
   ]
  },
  {
   "cell_type": "markdown",
   "id": "9e72ae17-86b9-44f6-b994-ff79e6b96f97",
   "metadata": {},
   "source": [
    "4. Anomaly Detection:"
   ]
  },
  {
   "cell_type": "code",
   "execution_count": 28,
   "id": "7223b1e0-c972-4f26-9dd3-933c8c86508d",
   "metadata": {},
   "outputs": [
    {
     "name": "stdout",
     "output_type": "stream",
     "text": [
      "Minutes with temperature > 25°C: 41\n",
      "Time of minimum temperature: Minute 262 (4h:22m)\n"
     ]
    }
   ],
   "source": [
    "# Threshold-based anomaly: Temperature > 25°C\n",
    "high_temp_indices = np.where(temp > 25)[0]\n",
    "high_temp_count = high_temp_indices.size\n",
    "min_temp_time = int(np.argmin(temp))  # time in minutes\n",
    "\n",
    "print(f\"Minutes with temperature > 25°C: {high_temp_count}\")\n",
    "print(f\"Time of minimum temperature: Minute {min_temp_time} ({min_temp_time//60}h:{min_temp_time%60:02d}m)\")\n"
   ]
  },
  {
   "cell_type": "code",
   "execution_count": null,
   "id": "903ec023-46c7-4694-8d04-cafe4647d913",
   "metadata": {},
   "outputs": [],
   "source": []
  }
 ],
 "metadata": {
  "kernelspec": {
   "display_name": "Python [conda env:base] *",
   "language": "python",
   "name": "conda-base-py"
  },
  "language_info": {
   "codemirror_mode": {
    "name": "ipython",
    "version": 3
   },
   "file_extension": ".py",
   "mimetype": "text/x-python",
   "name": "python",
   "nbconvert_exporter": "python",
   "pygments_lexer": "ipython3",
   "version": "3.13.5"
  }
 },
 "nbformat": 4,
 "nbformat_minor": 5
}
