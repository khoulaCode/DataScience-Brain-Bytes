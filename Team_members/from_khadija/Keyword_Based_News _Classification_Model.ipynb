{
 "cells": [
  {
   "cell_type": "code",
   "execution_count": 52,
   "id": "bafd5f19-2778-4296-8eeb-20bc3eb61afa",
   "metadata": {},
   "outputs": [
    {
     "name": "stdout",
     "output_type": "stream",
     "text": [
      "Collecting wordcloud\n",
      "  Downloading wordcloud-1.9.4-cp313-cp313-win_amd64.whl.metadata (3.5 kB)\n",
      "Requirement already satisfied: numpy>=1.6.1 in c:\\users\\bbuser\\anaconda3\\lib\\site-packages (from wordcloud) (2.1.3)\n",
      "Requirement already satisfied: pillow in c:\\users\\bbuser\\anaconda3\\lib\\site-packages (from wordcloud) (11.1.0)\n",
      "Requirement already satisfied: matplotlib in c:\\users\\bbuser\\anaconda3\\lib\\site-packages (from wordcloud) (3.10.0)\n",
      "Requirement already satisfied: contourpy>=1.0.1 in c:\\users\\bbuser\\anaconda3\\lib\\site-packages (from matplotlib->wordcloud) (1.3.1)\n",
      "Requirement already satisfied: cycler>=0.10 in c:\\users\\bbuser\\anaconda3\\lib\\site-packages (from matplotlib->wordcloud) (0.11.0)\n",
      "Requirement already satisfied: fonttools>=4.22.0 in c:\\users\\bbuser\\anaconda3\\lib\\site-packages (from matplotlib->wordcloud) (4.55.3)\n",
      "Requirement already satisfied: kiwisolver>=1.3.1 in c:\\users\\bbuser\\anaconda3\\lib\\site-packages (from matplotlib->wordcloud) (1.4.8)\n",
      "Requirement already satisfied: packaging>=20.0 in c:\\users\\bbuser\\anaconda3\\lib\\site-packages (from matplotlib->wordcloud) (24.2)\n",
      "Requirement already satisfied: pyparsing>=2.3.1 in c:\\users\\bbuser\\anaconda3\\lib\\site-packages (from matplotlib->wordcloud) (3.2.0)\n",
      "Requirement already satisfied: python-dateutil>=2.7 in c:\\users\\bbuser\\anaconda3\\lib\\site-packages (from matplotlib->wordcloud) (2.9.0.post0)\n",
      "Requirement already satisfied: six>=1.5 in c:\\users\\bbuser\\anaconda3\\lib\\site-packages (from python-dateutil>=2.7->matplotlib->wordcloud) (1.17.0)\n",
      "Downloading wordcloud-1.9.4-cp313-cp313-win_amd64.whl (300 kB)\n",
      "Installing collected packages: wordcloud\n",
      "Successfully installed wordcloud-1.9.4\n",
      "Note: you may need to restart the kernel to use updated packages.\n"
     ]
    }
   ],
   "source": [
    "pip install wordcloud\n"
   ]
  },
  {
   "cell_type": "code",
   "execution_count": 53,
   "id": "0a70cd8c-93a3-4c16-855a-dfccb4936da8",
   "metadata": {},
   "outputs": [],
   "source": [
    "import pandas as pd\n",
    "import numpy as np\n",
    "from sklearn.model_selection import train_test_split\n",
    "from collections import Counter\n",
    "from wordcloud import WordCloud\n",
    "import matplotlib.pyplot as plt\n",
    "import re\n",
    "import os"
   ]
  },
  {
   "cell_type": "code",
   "execution_count": 54,
   "id": "46f85647-59bf-4b0a-aba2-1cb3ce2d0b79",
   "metadata": {},
   "outputs": [],
   "source": [
    "# 1. Load dataset\n",
    "df = pd.read_json(r\"C:\\Users\\bbuser\\Downloads\\News_Category_Dataset_v3.json\", lines=True)"
   ]
  },
  {
   "cell_type": "code",
   "execution_count": 55,
   "id": "9d35de73-0cc3-41a4-a2d3-d0b23880db02",
   "metadata": {},
   "outputs": [],
   "source": [
    "# Keep only required categories\n",
    "categories = [\"POLITICS\", \"TRAVEL\", \"SPORTS\", \"HOME & LIVING\"]\n",
    "df = df[df['category'].isin(categories)]"
   ]
  },
  {
   "cell_type": "code",
   "execution_count": 56,
   "id": "bd29caa3-a396-47df-9216-93b71dfeb432",
   "metadata": {},
   "outputs": [],
   "source": [
    "\n",
    "# Keep only short_description and category\n",
    "df = df[['short_description', 'category']]"
   ]
  },
  {
   "cell_type": "code",
   "execution_count": 57,
   "id": "d15370ba-d5ae-4147-b372-f7f461dc0e30",
   "metadata": {},
   "outputs": [
    {
     "name": "stderr",
     "output_type": "stream",
     "text": [
      "C:\\Users\\bbuser\\AppData\\Local\\Temp\\ipykernel_7748\\3793788927.py:2: DeprecationWarning: DataFrameGroupBy.apply operated on the grouping columns. This behavior is deprecated, and in a future version of pandas the grouping columns will be excluded from the operation. Either pass `include_groups=False` to exclude the groupings or explicitly select the grouping columns after groupby to silence this warning.\n",
      "  df = df.groupby('category').apply(lambda x: x.sample(1000, random_state=42)).reset_index(drop=True)\n"
     ]
    }
   ],
   "source": [
    "# Balance dataset: 1000 samples per category\n",
    "df = df.groupby('category').apply(lambda x: x.sample(1000, random_state=42)).reset_index(drop=True)"
   ]
  },
  {
   "cell_type": "code",
   "execution_count": 58,
   "id": "6b361602-9867-468e-a5c1-e4d152eeec5f",
   "metadata": {},
   "outputs": [
    {
     "name": "stdout",
     "output_type": "stream",
     "text": [
      "Train size: (3200, 2)\n",
      "Test size: (800, 2)\n"
     ]
    }
   ],
   "source": [
    "# Stratified 80/20 split\n",
    "train, test = train_test_split(\n",
    "    df, test_size=0.2, stratify=df['category'], random_state=42\n",
    ")\n",
    "\n",
    "print(\"Train size:\", train.shape)\n",
    "print(\"Test size:\", test.shape)\n"
   ]
  },
  {
   "cell_type": "code",
   "execution_count": 59,
   "id": "e8b99790-2172-4277-92ad-08eddc0e4b6c",
   "metadata": {},
   "outputs": [],
   "source": [
    "# 2. Preprocessing Helper Functions\n",
    "# -------------------------------\n",
    "def preprocess(text):\n",
    "    \"\"\"Lowercase, remove punctuation, tokenize\"\"\"\n",
    "    text = text.lower()\n",
    "    text = re.sub(r'[^a-z\\s]', '', text)\n",
    "    return text.split()\n",
    "\n",
    "def get_top_words(texts, n=10):\n",
    "    \"\"\"Get top N frequent words from a list of texts\"\"\"\n",
    "    all_words = []\n",
    "    for t in texts:\n",
    "        all_words.extend(preprocess(t))\n",
    "    counter = Counter(all_words)\n",
    "    return [w for w, _ in counter.most_common(n)]\n"
   ]
  },
  {
   "cell_type": "code",
   "execution_count": 60,
   "id": "f5075e03-9241-4160-a253-3c8275e232d8",
   "metadata": {},
   "outputs": [
    {
     "name": "stdout",
     "output_type": "stream",
     "text": [
      "Top words per category (first 10 shown):\n",
      "POLITICS : ['the', 'to', 'of', 'a', 'and', 'is', 'in', 'that', 'for', 'on']\n",
      "TRAVEL : ['the', 'of', 'to', 'a', 'and', 'in', 'is', 'you', 'for', 'that']\n",
      "SPORTS : ['the', 'a', 'to', 'in', 'of', 'and', 'is', 'for', 'on', 'was']\n",
      "HOME & LIVING : ['the', 'to', 'a', 'and', 'of', 'you', 'in', 'for', 'your', 'this']\n"
     ]
    }
   ],
   "source": [
    "# 3. Generate Word Clouds & Frequent Words\n",
    "# -------------------------------\n",
    "os.makedirs(\"wordclouds\", exist_ok=True)\n",
    "\n",
    "top_words = {}\n",
    "for cat in categories:\n",
    "    cat_texts = train[train['category'] == cat]['short_description']\n",
    "    \n",
    "    # Word Cloud\n",
    "    text_all = \" \".join(cat_texts)\n",
    "    wc = WordCloud(width=800, height=400, background_color=\"white\").generate(text_all)\n",
    "    wc.to_file(f\"wordclouds/{cat}.png\")\n",
    "    \n",
    "    # Save top 50 words\n",
    "    top_words[cat] = get_top_words(cat_texts, n=50)\n",
    "\n",
    "print(\"Top words per category (first 10 shown):\")\n",
    "for cat in categories:\n",
    "    print(cat, \":\", top_words[cat][:10])\n"
   ]
  },
  {
   "cell_type": "code",
   "execution_count": 61,
   "id": "88fce469-ce88-4cdd-9510-2e449b41dec0",
   "metadata": {},
   "outputs": [],
   "source": [
    "# 4. Keyword-Based Classification\n",
    "# -------------------------------\n",
    "def classify(text, n_words=10):\n",
    "    \"\"\"Classify text using top N frequent words per category\"\"\"\n",
    "    words = set(preprocess(text))\n",
    "    scores = {cat: len(words & set(top_words[cat][:n_words])) for cat in categories}\n",
    "    max_score = max(scores.values())\n",
    "    \n",
    "    # Handle tie\n",
    "    if list(scores.values()).count(max_score) > 1:\n",
    "        return \"unknown\"\n",
    "    \n",
    "    return max(scores, key=scores.get)\n"
   ]
  },
  {
   "cell_type": "code",
   "execution_count": 62,
   "id": "db5ec3a2-5719-4392-9a4b-679bef53629d",
   "metadata": {},
   "outputs": [
    {
     "name": "stdout",
     "output_type": "stream",
     "text": [
      "Top 10 words → Accuracy: 0.453, Coverage: 0.20\n",
      "Top 20 words → Accuracy: 0.467, Coverage: 0.36\n",
      "Top 30 words → Accuracy: 0.487, Coverage: 0.34\n",
      "Top 50 words → Accuracy: 0.594, Coverage: 0.33\n"
     ]
    }
   ],
   "source": [
    "# 5. Experimentation\n",
    "# -------------------------------\n",
    "results = {}\n",
    "for n in [10, 20, 30, 50]:\n",
    "    preds = [classify(t, n_words=n) for t in test['short_description']]\n",
    "    # Remove \"unknown\" before accuracy calculation\n",
    "    mask = np.array(preds) != \"unknown\"\n",
    "    acc = np.mean(np.array(preds)[mask] == test['category'][mask])\n",
    "    coverage = np.mean(mask)  # fraction of test samples not tied\n",
    "    results[n] = (acc, coverage)\n",
    "    print(f\"Top {n} words → Accuracy: {acc:.3f}, Coverage: {coverage:.2f}\")\n"
   ]
  },
  {
   "cell_type": "code",
   "execution_count": 63,
   "id": "afd84707-c3ce-40b4-9ec5-6478b05c7a27",
   "metadata": {},
   "outputs": [
    {
     "data": {
      "image/png": "[encoded data removed]",
      "text/plain": [
       "<Figure size 800x500 with 1 Axes>"
      ]
     },
     "metadata": {},
     "output_type": "display_data"
    }
   ],
   "source": [
    "# 6. Plot Results\n",
    "# -------------------------------\n",
    "plt.figure(figsize=(8,5))\n",
    "plt.plot(results.keys(), [v[0] for v in results.values()], marker='o', label=\"Accuracy\")\n",
    "plt.plot(results.keys(), [v[1] for v in results.values()], marker='s', label=\"Coverage\")\n",
    "plt.xlabel(\"Number of Frequent Words per Category\")\n",
    "plt.ylabel(\"Score\")\n",
    "plt.title(\"Keyword-Based Classification Performance\")\n",
    "plt.legend()\n",
    "plt.show()"
   ]
  },
  {
   "cell_type": "code",
   "execution_count": null,
   "id": "e4b877d1-1ee7-4c14-9634-d7fc245a30db",
   "metadata": {},
   "outputs": [],
   "source": []
  }
 ],
 "metadata": {
  "kernelspec": {
   "display_name": "Python [conda env:base] *",
   "language": "python",
   "name": "conda-base-py"
  },
  "language_info": {
   "codemirror_mode": {
    "name": "ipython",
    "version": 3
   },
   "file_extension": ".py",
   "mimetype": "text/x-python",
   "name": "python",
   "nbconvert_exporter": "python",
   "pygments_lexer": "ipython3",
   "version": "3.13.5"
  }
 },
 "nbformat": 4,
 "nbformat_minor": 5
}
