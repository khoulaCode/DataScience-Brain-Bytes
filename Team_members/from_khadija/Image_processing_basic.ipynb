{
 "cells": [
  {
   "cell_type": "markdown",
   "id": "02c6e7be-dd44-4b76-9993-2d9ec939ce7f",
   "metadata": {},
   "source": [
    "# Image Representation"
   ]
  },
  {
   "cell_type": "code",
   "execution_count": 1,
   "id": "f9856039-5b81-4d43-9ef5-921aa2a0bc7c",
   "metadata": {
    "scrolled": true
   },
   "outputs": [
    {
     "name": "stdout",
     "output_type": "stream",
     "text": [
      "Original Image:\n",
      " [[ 44 153  63  61  15 134  17 152 149  91]\n",
      " [102 136  49 251 254 149 151 228 137 172]\n",
      " [ 83 230  77 195  74  53  53  21 224 194]\n",
      " [ 87 223 223  69  15 122   4  64 105 160]\n",
      " [250  10   3 246 113 247  63 250 171 227]\n",
      " [147  38  85  42 163 112 151 244  20  95]\n",
      " [ 57 230  52  46 184 209 210 220  54  81]\n",
      " [ 39 136 159   3 190  85 153 124 208  59]\n",
      " [225 139  29 245 168   5 174  15 254 116]\n",
      " [169 120 175  15 252 215  45  93 227 139]]\n"
     ]
    }
   ],
   "source": [
    "import numpy as np\n",
    "\n",
    "# Create a 10x10 grayscale image with random values from 0 to 255\n",
    "image = np.random.randint(0, 256, size=(10, 10), dtype=np.uint8)\n",
    "print(\"Original Image:\\n\", image)\n"
   ]
  },
  {
   "cell_type": "markdown",
   "id": "943e4bfd-361d-4dcb-bc7a-e4e7d36ccaa1",
   "metadata": {},
   "source": [
    "# Display (Conceptual Explanation)"
   ]
  },
  {
   "cell_type": "code",
   "execution_count": 2,
   "id": "b75a8b78-9c40-4559-bbc5-a8c2c250fd93",
   "metadata": {},
   "outputs": [
    {
     "data": {
      "image/png": "[encoded data removed]",
      "text/plain": [
       "<Figure size 640x480 with 1 Axes>"
      ]
     },
     "metadata": {},
     "output_type": "display_data"
    }
   ],
   "source": [
    "import matplotlib.pyplot as plt\n",
    "\n",
    "plt.imshow(image, cmap='gray')\n",
    "plt.title(\"Grayscale Image\")\n",
    "plt.axis('off')\n",
    "plt.show()\n"
   ]
  },
  {
   "cell_type": "markdown",
   "id": "d44451a2-3796-4afb-9739-0771ba1c15dd",
   "metadata": {},
   "source": [
    "# Grayscale Inversion"
   ]
  },
  {
   "cell_type": "code",
   "execution_count": 3,
   "id": "d512d348-64c9-4862-8bb1-f1c6dad170ef",
   "metadata": {},
   "outputs": [
    {
     "name": "stdout",
     "output_type": "stream",
     "text": [
      "Inverted Image:\n",
      " [[211 102 192 194 240 121 238 103 106 164]\n",
      " [153 119 206   4   1 106 104  27 118  83]\n",
      " [172  25 178  60 181 202 202 234  31  61]\n",
      " [168  32  32 186 240 133 251 191 150  95]\n",
      " [  5 245 252   9 142   8 192   5  84  28]\n",
      " [108 217 170 213  92 143 104  11 235 160]\n",
      " [198  25 203 209  71  46  45  35 201 174]\n",
      " [216 119  96 252  65 170 102 131  47 196]\n",
      " [ 30 116 226  10  87 250  81 240   1 139]\n",
      " [ 86 135  80 240   3  40 210 162  28 116]]\n"
     ]
    }
   ],
   "source": [
    "inverted_image = 255 - image\n",
    "print(\"Inverted Image:\\n\", inverted_image)\n"
   ]
  },
  {
   "cell_type": "markdown",
   "id": "2720df15-81a2-4bda-b217-c980affbef12",
   "metadata": {},
   "source": [
    "# Thresholding"
   ]
  },
  {
   "cell_type": "code",
   "execution_count": 4,
   "id": "13d6a40c-835d-4412-a411-a1a69b521090",
   "metadata": {},
   "outputs": [
    {
     "name": "stdout",
     "output_type": "stream",
     "text": [
      "Thresholded Image:\n",
      " [[  0 255   0   0   0 255   0 255 255   0]\n",
      " [  0 255   0 255 255 255 255 255 255 255]\n",
      " [  0 255   0 255   0   0   0   0 255 255]\n",
      " [  0 255 255   0   0   0   0   0   0 255]\n",
      " [255   0   0 255   0 255   0 255 255 255]\n",
      " [255   0   0   0 255   0 255 255   0   0]\n",
      " [  0 255   0   0 255 255 255 255   0   0]\n",
      " [  0 255 255   0 255   0 255   0 255   0]\n",
      " [255 255   0 255 255   0 255   0 255   0]\n",
      " [255   0 255   0 255 255   0   0 255 255]]\n"
     ]
    }
   ],
   "source": [
    "thresholded_image = np.where(image < 128, 0, 255).astype(np.uint8)\n",
    "print(\"Thresholded Image:\\n\", thresholded_image)\n"
   ]
  },
  {
   "cell_type": "markdown",
   "id": "f5b9c13e-e648-4a16-a128-242279924384",
   "metadata": {},
   "source": [
    "# Cropping"
   ]
  },
  {
   "cell_type": "code",
   "execution_count": 5,
   "id": "9d3b6fd0-5f04-4c9e-9870-0811a1ef123f",
   "metadata": {},
   "outputs": [
    {
     "name": "stdout",
     "output_type": "stream",
     "text": [
      "Cropped 4x4 Center Region:\n",
      " [[ 69  15 122   4]\n",
      " [246 113 247  63]\n",
      " [ 42 163 112 151]\n",
      " [ 46 184 209 210]]\n"
     ]
    }
   ],
   "source": [
    "# Get center crop (4x4)\n",
    "start_row = image.shape[0]//2 - 2\n",
    "start_col = image.shape[1]//2 - 2\n",
    "cropped_image = image[start_row:start_row+4, start_col:start_col+4]\n",
    "print(\"Cropped 4x4 Center Region:\\n\", cropped_image)\n"
   ]
  },
  {
   "cell_type": "markdown",
   "id": "32427ce9-1f20-44c4-b790-019286efe57c",
   "metadata": {},
   "source": [
    "# Simple Edge Detection (Horizontal Differences)"
   ]
  },
  {
   "cell_type": "code",
   "execution_count": 6,
   "id": "e1c88af7-5e72-494f-bd92-8029a004de62",
   "metadata": {},
   "outputs": [
    {
     "name": "stdout",
     "output_type": "stream",
     "text": [
      "Horizontal Edge Detection Result:\n",
      " [[109 166 254 210 119 139 135 253 198   0]\n",
      " [ 34 169 202   3 151   2  77 165  35   0]\n",
      " [147 103 118 135 235   0 224 203 226   0]\n",
      " [136   0 102 202 107 138  60  41  55   0]\n",
      " [ 16 249 243 123 134  72 187 177  56   0]\n",
      " [147  47 213 121 205  39  93  32  75   0]\n",
      " [173  78 250 138  25   1  10  90  27   0]\n",
      " [ 97  23 100 187 151  68 227  84 107   0]\n",
      " [170 146 216 179  93 169  97 239 118   0]\n",
      " [207  55  96 237 219  86  48 134 168   0]]\n"
     ]
    }
   ],
   "source": [
    "# Create empty array with same shape (except last column removed)\n",
    "edge_image = np.zeros_like(image, dtype=int)\n",
    "\n",
    "# Horizontal gradient: image[i, j+1] - image[i, j]\n",
    "edge_image[:, :-1] = image[:, 1:] - image[:, :-1]\n",
    "\n",
    "print(\"Horizontal Edge Detection Result:\\n\", edge_image)\n"
   ]
  },
  {
   "cell_type": "code",
   "execution_count": 7,
   "id": "8ba13a62-3f33-402a-93e5-f6552b1c554e",
   "metadata": {},
   "outputs": [
    {
     "name": "stdout",
     "output_type": "stream",
     "text": [
      "Absolute Edge Strength:\n",
      " [[109 166 254 210 119 139 135 253 198   0]\n",
      " [ 34 169 202   3 151   2  77 165  35   0]\n",
      " [147 103 118 135 235   0 224 203 226   0]\n",
      " [136   0 102 202 107 138  60  41  55   0]\n",
      " [ 16 249 243 123 134  72 187 177  56   0]\n",
      " [147  47 213 121 205  39  93  32  75   0]\n",
      " [173  78 250 138  25   1  10  90  27   0]\n",
      " [ 97  23 100 187 151  68 227  84 107   0]\n",
      " [170 146 216 179  93 169  97 239 118   0]\n",
      " [207  55  96 237 219  86  48 134 168   0]]\n"
     ]
    }
   ],
   "source": [
    "edge_strength = np.abs(edge_image)\n",
    "print(\"Absolute Edge Strength:\\n\", edge_strength)\n"
   ]
  },
  {
   "cell_type": "code",
   "execution_count": null,
   "id": "51af55f9-07c8-4e67-8862-7961485c1504",
   "metadata": {},
   "outputs": [],
   "source": []
  }
 ],
 "metadata": {
  "kernelspec": {
   "display_name": "Python [conda env:base] *",
   "language": "python",
   "name": "conda-base-py"
  },
  "language_info": {
   "codemirror_mode": {
    "name": "ipython",
    "version": 3
   },
   "file_extension": ".py",
   "mimetype": "text/x-python",
   "name": "python",
   "nbconvert_exporter": "python",
   "pygments_lexer": "ipython3",
   "version": "3.13.5"
  }
 },
 "nbformat": 4,
 "nbformat_minor": 5
}
