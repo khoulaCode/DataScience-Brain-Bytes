{
 "cells": [
  {
   "cell_type": "code",
   "execution_count": 1,
   "id": "69b42931-a9d9-49e5-ab1d-93d07523aa94",
   "metadata": {},
   "outputs": [],
   "source": [
    "import numpy as np\n",
    "import pandas as pd"
   ]
  },
  {
   "cell_type": "code",
   "execution_count": 31,
   "id": "6edcb5d0-a328-4f49-9e76-aeec7dbd9db9",
   "metadata": {},
   "outputs": [
    {
     "name": "stdout",
     "output_type": "stream",
     "text": [
      "                                          property_name areaWithType  \\\n",
      "0             2 BHK Apartment for Sale in Dindoli Surat  Carpet Area   \n",
      "1              2 BHK Apartment for Sale in Althan Surat   Super Area   \n",
      "2             2 BHK Apartment for Sale in Pal Gam Surat   Super Area   \n",
      "3        2 BHK Apartment for Sale in Jahangirabad Surat  Carpet Area   \n",
      "4     2 BHK Apartment for Sale in Orchid Fantasia, P...   Super Area   \n",
      "...                                                 ...          ...   \n",
      "4520  6 BHK Apartment for Sale in Millionaires Lifes...  Carpet Area   \n",
      "4521  4 BHK Apartment for Sale in Savan Superia, Alt...   Super Area   \n",
      "4522  5 BHK Apartment for Sale in Roongta Green Vall...  Carpet Area   \n",
      "4523  6 BHK Apartment for Sale in Cellestial Dreams,...  Carpet Area   \n",
      "4524  4 BHK Apartment for Sale in Roongta Green Vall...   Super Area   \n",
      "\n",
      "     square_feet      transaction            status        floor  \\\n",
      "0       644 sqft     New Property  Poss. by Oct '24  5 out of 10   \n",
      "1      1278 sqft     New Property  Poss. by Jan '26  6 out of 14   \n",
      "2      1173 sqft           Resale     Ready to Move  5 out of 13   \n",
      "3       700 sqft     New Property     Ready to Move  6 out of 14   \n",
      "4      1250 sqft  Orchid Fantasia      New Property  Unfurnished   \n",
      "...          ...              ...               ...          ...   \n",
      "4520   2000 sqft     New Property  Poss. by Dec '26  5 out of 12   \n",
      "4521   3600 sqft     New Property  Poss. by Dec '25  5 out of 16   \n",
      "4522   2250 sqft     New Property  Poss. by Dec '25  7 out of 13   \n",
      "4523   3450 sqft     New Property     Ready to Move  7 out of 18   \n",
      "4524   4500 sqft     New Property     Ready to Move  3 out of 12   \n",
      "\n",
      "          furnishing        facing  \\\n",
      "0        Unfurnished          West   \n",
      "1        Unfurnished   South -West   \n",
      "2     Semi-Furnished          East   \n",
      "3        Unfurnished          East   \n",
      "4                  2             2   \n",
      "...              ...           ...   \n",
      "4520     Unfurnished  South - East   \n",
      "4521     Unfurnished  South - East   \n",
      "4522     Unfurnished  North - East   \n",
      "4523     Unfurnished  North - West   \n",
      "4524     Unfurnished         North   \n",
      "\n",
      "                                            description    price_per_sqft  \\\n",
      "0     Luxury project with basement parking, Solar ro...  ₹2,891 per sqft    \n",
      "1     2 And 3 BHK Luxurious Flat for Sell In New Alt...  ₹3,551 per sqft    \n",
      "2     This affordable 2 BHK flat is situated along a...  ₹3,800 per sqft    \n",
      "3     2 BHK Flat For sell IN Jahangirabad Prime Loca...  ₹3,966 per sqft    \n",
      "4     Multistorey Apartment for Sale in Palanpur, Su...  ₹3,600 per sqft    \n",
      "...                                                 ...               ...   \n",
      "4520  Check out Millionaires Lifestyle in Vesu, one ...               NaN   \n",
      "4521  Superia is a premium residential project launc...               NaN   \n",
      "4522  When it comes to beautiful homes, nothing beat...               NaN   \n",
      "4523  DRB Ravani Cellestial Dreams in Vesu, Surat is...               NaN   \n",
      "4524  Roongta Green Valley is one of the popular res...               NaN   \n",
      "\n",
      "               price  \n",
      "0         ₹33.8 Lac   \n",
      "1         ₹45.4 Lac   \n",
      "2         ₹44.6 Lac   \n",
      "3           ₹47 Lac   \n",
      "4           ₹45 Lac   \n",
      "...              ...  \n",
      "4520  Call for Price  \n",
      "4521  Call for Price  \n",
      "4522  Call for Price  \n",
      "4523  Call for Price  \n",
      "4524  Call for Price  \n",
      "\n",
      "[4525 rows x 11 columns]\n"
     ]
    }
   ],
   "source": [
    "path = r\"C:\\Users\\bbuser\\Downloads\\surat_uncleaned.csv\"\n",
    "df = pd.read_csv(path)\n",
    "print(df)"
   ]
  },
  {
   "cell_type": "code",
   "execution_count": 32,
   "id": "0a57bf4a-25c8-4ea3-b241-42af31201740",
   "metadata": {},
   "outputs": [
    {
     "name": "stdout",
     "output_type": "stream",
     "text": [
      "['property_name', 'areaWithType', 'square_feet', 'transaction', 'status', 'floor', 'furnishing', 'facing', 'description', 'price_per_sqft', 'price']\n"
     ]
    }
   ],
   "source": [
    "print(df.columns.tolist())"
   ]
  },
  {
   "cell_type": "markdown",
   "id": "eeae4a93-a4f3-4107-ad04-22f5df4daed7",
   "metadata": {},
   "source": [
    "# working with arrays"
   ]
  },
  {
   "cell_type": "code",
   "execution_count": 4,
   "id": "ac4ac5b7-5495-4e9d-9526-3233416ddc3a",
   "metadata": {},
   "outputs": [
    {
     "name": "stdout",
     "output_type": "stream",
     "text": [
      "(2, 2) 2\n",
      "[[1 2]\n",
      " [3 4]\n",
      " [1 2]\n",
      " [3 4]] [[1 2 1 2]\n",
      " [3 4 3 4]]\n",
      "10 2.5 2.5 1.118033988749895\n"
     ]
    }
   ],
   "source": [
    "\n",
    "\n",
    "a = np.array([[1,2],[3,4]])\n",
    "ones = np.ones((2,3))\n",
    "diag = np.diag([5,6,7])\n",
    "rand_int = np.random.randint(0,100,(3,3))\n",
    "rand_float = np.random.rand(3,3)\n",
    "\n",
    "print(a.shape, len(a))\n",
    "print(np.vstack([a,a]), np.hstack([a,a]))\n",
    "print(a.sum(), a.mean(), np.median(a), a.std())\n"
   ]
  },
  {
   "cell_type": "markdown",
   "id": "659af5c3-5481-4f6a-bfb9-0820f3a937d0",
   "metadata": {},
   "source": [
    "# Exploratory Data Analysis (EDA)"
   ]
  },
  {
   "cell_type": "code",
   "execution_count": 5,
   "id": "291a2d4e-3ccb-4898-a31c-9e9eb8b45a97",
   "metadata": {
    "scrolled": true
   },
   "outputs": [
    {
     "name": "stdout",
     "output_type": "stream",
     "text": [
      "(4525, 11)\n",
      "Index(['property_name', 'areaWithType', 'square_feet', 'transaction', 'status',\n",
      "       'floor', 'furnishing', 'facing', 'description', 'price_per_sqft',\n",
      "       'price'],\n",
      "      dtype='object')\n",
      "property_name     object\n",
      "areaWithType      object\n",
      "square_feet       object\n",
      "transaction       object\n",
      "status            object\n",
      "floor             object\n",
      "furnishing        object\n",
      "facing            object\n",
      "description       object\n",
      "price_per_sqft    object\n",
      "price             object\n",
      "dtype: object\n",
      "property_name        0\n",
      "areaWithType         0\n",
      "square_feet          0\n",
      "transaction        104\n",
      "status               1\n",
      "floor               45\n",
      "furnishing         340\n",
      "facing             589\n",
      "description       1371\n",
      "price_per_sqft     368\n",
      "price                0\n",
      "dtype: int64\n",
      "109\n",
      "                                 property_name areaWithType square_feet  \\\n",
      "count                                     4525         4525        4525   \n",
      "unique                                    1992            6        1399   \n",
      "top     3 BHK Apartment for Sale in Vesu Surat   Super Area   1000 sqft   \n",
      "freq                                        93         2599          77   \n",
      "\n",
      "       transaction         status   floor   furnishing facing  \\\n",
      "count         4421           4524    4480         4185   3936   \n",
      "unique          38            138     222           78    176   \n",
      "top         Resale  Ready to Move  Resale  Unfurnished   East   \n",
      "freq          2197           3078     431         2322   1487   \n",
      "\n",
      "                                              description    price_per_sqft  \\\n",
      "count                                                3154              4157   \n",
      "unique                                               2588              2134   \n",
      "top     Multistorey apartment is available for sale. I...  ₹5,000 per sqft    \n",
      "freq                                                   35                64   \n",
      "\n",
      "                 price  \n",
      "count             4525  \n",
      "unique             841  \n",
      "top     Call for Price  \n",
      "freq               173  \n"
     ]
    }
   ],
   "source": [
    "print(df.shape)\n",
    "print(df.columns)\n",
    "print(df.dtypes)\n",
    "print(df.isnull().sum())\n",
    "print(df.duplicated().sum())\n",
    "print(df.describe(include='all'))\n",
    "\n",
    "# Convert price column to float if needed\n",
    "# Strip commas convert to numeric\n"
   ]
  },
  {
   "cell_type": "markdown",
   "id": "cd3e4f18-61f9-42d1-b2b4-4d8dafe0a703",
   "metadata": {},
   "source": [
    "# Visualizations:"
   ]
  },
  {
   "cell_type": "code",
   "execution_count": 33,
   "id": "8ca76a81-8098-4456-b853-69643e352b20",
   "metadata": {},
   "outputs": [
    {
     "data": {
      "text/html": [
       "<div>\n",
       "<style scoped>\n",
       "    .dataframe tbody tr th:only-of-type {\n",
       "        vertical-align: middle;\n",
       "    }\n",
       "\n",
       "    .dataframe tbody tr th {\n",
       "        vertical-align: top;\n",
       "    }\n",
       "\n",
       "    .dataframe thead th {\n",
       "        text-align: right;\n",
       "    }\n",
       "</style>\n",
       "<table border=\"1\" class=\"dataframe\">\n",
       "  <thead>\n",
       "    <tr style=\"text-align: right;\">\n",
       "      <th></th>\n",
       "      <th>property_name</th>\n",
       "      <th>areaWithType</th>\n",
       "      <th>square_feet</th>\n",
       "      <th>transaction</th>\n",
       "      <th>status</th>\n",
       "      <th>floor</th>\n",
       "      <th>furnishing</th>\n",
       "      <th>facing</th>\n",
       "      <th>description</th>\n",
       "      <th>price_per_sqft</th>\n",
       "      <th>price</th>\n",
       "    </tr>\n",
       "  </thead>\n",
       "  <tbody>\n",
       "    <tr>\n",
       "      <th>0</th>\n",
       "      <td>2 BHK Apartment for Sale in Dindoli Surat</td>\n",
       "      <td>Carpet Area</td>\n",
       "      <td>644 sqft</td>\n",
       "      <td>New Property</td>\n",
       "      <td>Poss. by Oct '24</td>\n",
       "      <td>5 out of 10</td>\n",
       "      <td>Unfurnished</td>\n",
       "      <td>West</td>\n",
       "      <td>Luxury project with basement parking, Solar ro...</td>\n",
       "      <td>₹2,891 per sqft</td>\n",
       "      <td>₹33.8 Lac</td>\n",
       "    </tr>\n",
       "    <tr>\n",
       "      <th>1</th>\n",
       "      <td>2 BHK Apartment for Sale in Althan Surat</td>\n",
       "      <td>Super Area</td>\n",
       "      <td>1278 sqft</td>\n",
       "      <td>New Property</td>\n",
       "      <td>Poss. by Jan '26</td>\n",
       "      <td>6 out of 14</td>\n",
       "      <td>Unfurnished</td>\n",
       "      <td>South -West</td>\n",
       "      <td>2 And 3 BHK Luxurious Flat for Sell In New Alt...</td>\n",
       "      <td>₹3,551 per sqft</td>\n",
       "      <td>₹45.4 Lac</td>\n",
       "    </tr>\n",
       "    <tr>\n",
       "      <th>2</th>\n",
       "      <td>2 BHK Apartment for Sale in Pal Gam Surat</td>\n",
       "      <td>Super Area</td>\n",
       "      <td>1173 sqft</td>\n",
       "      <td>Resale</td>\n",
       "      <td>Ready to Move</td>\n",
       "      <td>5 out of 13</td>\n",
       "      <td>Semi-Furnished</td>\n",
       "      <td>East</td>\n",
       "      <td>This affordable 2 BHK flat is situated along a...</td>\n",
       "      <td>₹3,800 per sqft</td>\n",
       "      <td>₹44.6 Lac</td>\n",
       "    </tr>\n",
       "    <tr>\n",
       "      <th>3</th>\n",
       "      <td>2 BHK Apartment for Sale in Jahangirabad Surat</td>\n",
       "      <td>Carpet Area</td>\n",
       "      <td>700 sqft</td>\n",
       "      <td>New Property</td>\n",
       "      <td>Ready to Move</td>\n",
       "      <td>6 out of 14</td>\n",
       "      <td>Unfurnished</td>\n",
       "      <td>East</td>\n",
       "      <td>2 BHK Flat For sell IN Jahangirabad Prime Loca...</td>\n",
       "      <td>₹3,966 per sqft</td>\n",
       "      <td>₹47 Lac</td>\n",
       "    </tr>\n",
       "    <tr>\n",
       "      <th>4</th>\n",
       "      <td>2 BHK Apartment for Sale in Orchid Fantasia, P...</td>\n",
       "      <td>Super Area</td>\n",
       "      <td>1250 sqft</td>\n",
       "      <td>Orchid Fantasia</td>\n",
       "      <td>New Property</td>\n",
       "      <td>Unfurnished</td>\n",
       "      <td>2</td>\n",
       "      <td>2</td>\n",
       "      <td>Multistorey Apartment for Sale in Palanpur, Su...</td>\n",
       "      <td>₹3,600 per sqft</td>\n",
       "      <td>₹45 Lac</td>\n",
       "    </tr>\n",
       "    <tr>\n",
       "      <th>...</th>\n",
       "      <td>...</td>\n",
       "      <td>...</td>\n",
       "      <td>...</td>\n",
       "      <td>...</td>\n",
       "      <td>...</td>\n",
       "      <td>...</td>\n",
       "      <td>...</td>\n",
       "      <td>...</td>\n",
       "      <td>...</td>\n",
       "      <td>...</td>\n",
       "      <td>...</td>\n",
       "    </tr>\n",
       "    <tr>\n",
       "      <th>4520</th>\n",
       "      <td>6 BHK Apartment for Sale in Millionaires Lifes...</td>\n",
       "      <td>Carpet Area</td>\n",
       "      <td>2000 sqft</td>\n",
       "      <td>New Property</td>\n",
       "      <td>Poss. by Dec '26</td>\n",
       "      <td>5 out of 12</td>\n",
       "      <td>Unfurnished</td>\n",
       "      <td>South - East</td>\n",
       "      <td>Check out Millionaires Lifestyle in Vesu, one ...</td>\n",
       "      <td>NaN</td>\n",
       "      <td>Call for Price</td>\n",
       "    </tr>\n",
       "    <tr>\n",
       "      <th>4521</th>\n",
       "      <td>4 BHK Apartment for Sale in Savan Superia, Alt...</td>\n",
       "      <td>Super Area</td>\n",
       "      <td>3600 sqft</td>\n",
       "      <td>New Property</td>\n",
       "      <td>Poss. by Dec '25</td>\n",
       "      <td>5 out of 16</td>\n",
       "      <td>Unfurnished</td>\n",
       "      <td>South - East</td>\n",
       "      <td>Superia is a premium residential project launc...</td>\n",
       "      <td>NaN</td>\n",
       "      <td>Call for Price</td>\n",
       "    </tr>\n",
       "    <tr>\n",
       "      <th>4522</th>\n",
       "      <td>5 BHK Apartment for Sale in Roongta Green Vall...</td>\n",
       "      <td>Carpet Area</td>\n",
       "      <td>2250 sqft</td>\n",
       "      <td>New Property</td>\n",
       "      <td>Poss. by Dec '25</td>\n",
       "      <td>7 out of 13</td>\n",
       "      <td>Unfurnished</td>\n",
       "      <td>North - East</td>\n",
       "      <td>When it comes to beautiful homes, nothing beat...</td>\n",
       "      <td>NaN</td>\n",
       "      <td>Call for Price</td>\n",
       "    </tr>\n",
       "    <tr>\n",
       "      <th>4523</th>\n",
       "      <td>6 BHK Apartment for Sale in Cellestial Dreams,...</td>\n",
       "      <td>Carpet Area</td>\n",
       "      <td>3450 sqft</td>\n",
       "      <td>New Property</td>\n",
       "      <td>Ready to Move</td>\n",
       "      <td>7 out of 18</td>\n",
       "      <td>Unfurnished</td>\n",
       "      <td>North - West</td>\n",
       "      <td>DRB Ravani Cellestial Dreams in Vesu, Surat is...</td>\n",
       "      <td>NaN</td>\n",
       "      <td>Call for Price</td>\n",
       "    </tr>\n",
       "    <tr>\n",
       "      <th>4524</th>\n",
       "      <td>4 BHK Apartment for Sale in Roongta Green Vall...</td>\n",
       "      <td>Super Area</td>\n",
       "      <td>4500 sqft</td>\n",
       "      <td>New Property</td>\n",
       "      <td>Ready to Move</td>\n",
       "      <td>3 out of 12</td>\n",
       "      <td>Unfurnished</td>\n",
       "      <td>North</td>\n",
       "      <td>Roongta Green Valley is one of the popular res...</td>\n",
       "      <td>NaN</td>\n",
       "      <td>Call for Price</td>\n",
       "    </tr>\n",
       "  </tbody>\n",
       "</table>\n",
       "<p>4525 rows × 11 columns</p>\n",
       "</div>"
      ],
      "text/plain": [
       "                                          property_name areaWithType  \\\n",
       "0             2 BHK Apartment for Sale in Dindoli Surat  Carpet Area   \n",
       "1              2 BHK Apartment for Sale in Althan Surat   Super Area   \n",
       "2             2 BHK Apartment for Sale in Pal Gam Surat   Super Area   \n",
       "3        2 BHK Apartment for Sale in Jahangirabad Surat  Carpet Area   \n",
       "4     2 BHK Apartment for Sale in Orchid Fantasia, P...   Super Area   \n",
       "...                                                 ...          ...   \n",
       "4520  6 BHK Apartment for Sale in Millionaires Lifes...  Carpet Area   \n",
       "4521  4 BHK Apartment for Sale in Savan Superia, Alt...   Super Area   \n",
       "4522  5 BHK Apartment for Sale in Roongta Green Vall...  Carpet Area   \n",
       "4523  6 BHK Apartment for Sale in Cellestial Dreams,...  Carpet Area   \n",
       "4524  4 BHK Apartment for Sale in Roongta Green Vall...   Super Area   \n",
       "\n",
       "     square_feet      transaction            status        floor  \\\n",
       "0       644 sqft     New Property  Poss. by Oct '24  5 out of 10   \n",
       "1      1278 sqft     New Property  Poss. by Jan '26  6 out of 14   \n",
       "2      1173 sqft           Resale     Ready to Move  5 out of 13   \n",
       "3       700 sqft     New Property     Ready to Move  6 out of 14   \n",
       "4      1250 sqft  Orchid Fantasia      New Property  Unfurnished   \n",
       "...          ...              ...               ...          ...   \n",
       "4520   2000 sqft     New Property  Poss. by Dec '26  5 out of 12   \n",
       "4521   3600 sqft     New Property  Poss. by Dec '25  5 out of 16   \n",
       "4522   2250 sqft     New Property  Poss. by Dec '25  7 out of 13   \n",
       "4523   3450 sqft     New Property     Ready to Move  7 out of 18   \n",
       "4524   4500 sqft     New Property     Ready to Move  3 out of 12   \n",
       "\n",
       "          furnishing        facing  \\\n",
       "0        Unfurnished          West   \n",
       "1        Unfurnished   South -West   \n",
       "2     Semi-Furnished          East   \n",
       "3        Unfurnished          East   \n",
       "4                  2             2   \n",
       "...              ...           ...   \n",
       "4520     Unfurnished  South - East   \n",
       "4521     Unfurnished  South - East   \n",
       "4522     Unfurnished  North - East   \n",
       "4523     Unfurnished  North - West   \n",
       "4524     Unfurnished         North   \n",
       "\n",
       "                                            description    price_per_sqft  \\\n",
       "0     Luxury project with basement parking, Solar ro...  ₹2,891 per sqft    \n",
       "1     2 And 3 BHK Luxurious Flat for Sell In New Alt...  ₹3,551 per sqft    \n",
       "2     This affordable 2 BHK flat is situated along a...  ₹3,800 per sqft    \n",
       "3     2 BHK Flat For sell IN Jahangirabad Prime Loca...  ₹3,966 per sqft    \n",
       "4     Multistorey Apartment for Sale in Palanpur, Su...  ₹3,600 per sqft    \n",
       "...                                                 ...               ...   \n",
       "4520  Check out Millionaires Lifestyle in Vesu, one ...               NaN   \n",
       "4521  Superia is a premium residential project launc...               NaN   \n",
       "4522  When it comes to beautiful homes, nothing beat...               NaN   \n",
       "4523  DRB Ravani Cellestial Dreams in Vesu, Surat is...               NaN   \n",
       "4524  Roongta Green Valley is one of the popular res...               NaN   \n",
       "\n",
       "               price  \n",
       "0         ₹33.8 Lac   \n",
       "1         ₹45.4 Lac   \n",
       "2         ₹44.6 Lac   \n",
       "3           ₹47 Lac   \n",
       "4           ₹45 Lac   \n",
       "...              ...  \n",
       "4520  Call for Price  \n",
       "4521  Call for Price  \n",
       "4522  Call for Price  \n",
       "4523  Call for Price  \n",
       "4524  Call for Price  \n",
       "\n",
       "[4525 rows x 11 columns]"
      ]
     },
     "execution_count": 33,
     "metadata": {},
     "output_type": "execute_result"
    }
   ],
   "source": [
    "df"
   ]
  },
  {
   "cell_type": "code",
   "execution_count": 7,
   "id": "ec104901-d0e3-425d-8559-0fbafe31005b",
   "metadata": {},
   "outputs": [
    {
     "name": "stdout",
     "output_type": "stream",
     "text": [
      "  square_feet  square_feet_clean\n",
      "0    644 sqft              644.0\n",
      "1   1278 sqft             1278.0\n",
      "2   1173 sqft             1173.0\n",
      "3    700 sqft              700.0\n",
      "4   1250 sqft             1250.0\n",
      "     price_per_sqft  price_per_sqft_clean\n",
      "0  ₹2,891 per sqft                 2891.0\n",
      "1  ₹3,551 per sqft                 3551.0\n",
      "2  ₹3,800 per sqft                 3800.0\n",
      "3  ₹3,966 per sqft                 3966.0\n",
      "4  ₹3,600 per sqft                 3600.0\n"
     ]
    }
   ],
   "source": [
    "# Convert to string first, then extract numbers\n",
    "df['square_feet_clean'] = df['square_feet'].astype(str).str.extract('(\\d+\\.?\\d*)').astype(float)\n",
    "\n",
    "# For price_per_sqft, convert to string and remove everything except digits and dots\n",
    "df['price_per_sqft_clean'] = df['price_per_sqft'].astype(str).str.replace('[^0-9.]', '', regex=True)\n",
    "\n",
    "# Now convert to float (some may be empty strings, so coerce errors)\n",
    "df['price_per_sqft_clean'] = pd.to_numeric(df['price_per_sqft_clean'], errors='coerce')\n",
    "\n",
    "print(df[['square_feet', 'square_feet_clean']].head())\n",
    "print(df[['price_per_sqft', 'price_per_sqft_clean']].head())\n"
   ]
  },
  {
   "cell_type": "code",
   "execution_count": 8,
   "id": "04c8145b-0eee-4f32-be4a-d2cc77048c5b",
   "metadata": {},
   "outputs": [
    {
     "name": "stdout",
     "output_type": "stream",
     "text": [
      "0       New Property\n",
      "1       New Property\n",
      "2             Resale\n",
      "3       New Property\n",
      "4    Orchid Fantasia\n",
      "Name: transaction, dtype: object\n",
      "104\n",
      "transaction\n",
      "Resale                          2197\n",
      "New Property                    1486\n",
      "Unfurnished                      404\n",
      "NaN                              104\n",
      "Semi-Furnished                    91\n",
      "Furnished                         69\n",
      "2                                 24\n",
      "3                                 22\n",
      "No                                20\n",
      "Congo                             19\n",
      "1                                 16\n",
      "Yes                               15\n",
      "5                                 11\n",
      "4                                  7\n",
      "Main Road                          6\n",
      "Soham Elegance                     3\n",
      "Orchid Gardenia                    3\n",
      "6                                  3\n",
      "Orchid Fantasia                    2\n",
      "Jolly Residency                    2\n",
      "Raghuvir Silverstone               2\n",
      "Casa Rivera                        2\n",
      "Main Road, Garden/Park             1\n",
      "1 Covered                          1\n",
      "Other                              1\n",
      "10 m                               1\n",
      "Shagun Residency                   1\n",
      "Mahavir Nagar                      1\n",
      "3 Covered                          1\n",
      "Sundaram Residency                 1\n",
      "Garden/Park                        1\n",
      "Green City                         1\n",
      "Mangalam Heights                   1\n",
      "Aakash Echo Point                  1\n",
      "Pool, Garden/Park, Main Road       1\n",
      "Vatsalya Bungalows                 1\n",
      "Co-operative Society               1\n",
      "20 Covered,                        1\n",
      "8 m                                1\n",
      "Name: count, dtype: int64\n"
     ]
    }
   ],
   "source": [
    "print(df['transaction'].head())\n",
    "print(df['transaction'].isna().sum())\n",
    "print(df['transaction'].value_counts(dropna=False))\n"
   ]
  },
  {
   "cell_type": "code",
   "execution_count": 9,
   "id": "f212fb90-089f-4a99-82f1-821292a06276",
   "metadata": {},
   "outputs": [
    {
     "name": "stdout",
     "output_type": "stream",
     "text": [
      "True\n",
      "0       New Property\n",
      "1       New Property\n",
      "2             Resale\n",
      "3       New Property\n",
      "4    Orchid Fantasia\n",
      "5        Unfurnished\n",
      "6        Unfurnished\n",
      "7       New Property\n",
      "8    Orchid Gardenia\n",
      "9       New Property\n",
      "Name: transaction, dtype: object\n",
      "104\n",
      "transaction\n",
      "Resale                          2197\n",
      "New Property                    1486\n",
      "Unfurnished                      404\n",
      "NaN                              104\n",
      "Semi-Furnished                    91\n",
      "Furnished                         69\n",
      "2                                 24\n",
      "3                                 22\n",
      "No                                20\n",
      "Congo                             19\n",
      "1                                 16\n",
      "Yes                               15\n",
      "5                                 11\n",
      "4                                  7\n",
      "Main Road                          6\n",
      "Soham Elegance                     3\n",
      "Orchid Gardenia                    3\n",
      "6                                  3\n",
      "Orchid Fantasia                    2\n",
      "Jolly Residency                    2\n",
      "Raghuvir Silverstone               2\n",
      "Casa Rivera                        2\n",
      "Main Road, Garden/Park             1\n",
      "1 Covered                          1\n",
      "Other                              1\n",
      "10 m                               1\n",
      "Shagun Residency                   1\n",
      "Mahavir Nagar                      1\n",
      "3 Covered                          1\n",
      "Sundaram Residency                 1\n",
      "Garden/Park                        1\n",
      "Green City                         1\n",
      "Mangalam Heights                   1\n",
      "Aakash Echo Point                  1\n",
      "Pool, Garden/Park, Main Road       1\n",
      "Vatsalya Bungalows                 1\n",
      "Co-operative Society               1\n",
      "20 Covered,                        1\n",
      "8 m                                1\n",
      "Name: count, dtype: int64\n",
      "4525\n"
     ]
    }
   ],
   "source": [
    "print('transaction' in df.columns)  # Should be True\n",
    "print(df['transaction'].head(10))  # See first 10 entries\n",
    "print(df['transaction'].isna().sum())  # Number of missing values\n",
    "print(df['transaction'].value_counts(dropna=False))  # Counts including NaNs\n",
    "print(len(df))\n"
   ]
  },
  {
   "cell_type": "code",
   "execution_count": 10,
   "id": "6315d0c4-97df-4525-9be7-4c6f53b14620",
   "metadata": {},
   "outputs": [
    {
     "name": "stdout",
     "output_type": "stream",
     "text": [
      "(4525, 13)\n"
     ]
    }
   ],
   "source": [
    "print(df.shape)\n"
   ]
  },
  {
   "cell_type": "code",
   "execution_count": 11,
   "id": "38a3a717-fd94-4bad-8706-ae9da6f61a7b",
   "metadata": {
    "scrolled": true
   },
   "outputs": [
    {
     "data": {
      "image/png": "[encoded data removed]",
      "text/plain": [
       "<Figure size 640x480 with 1 Axes>"
      ]
     },
     "metadata": {},
     "output_type": "display_data"
    }
   ],
   "source": [
    "import matplotlib.pyplot as plt\n",
    "\n",
    "\n",
    "df['transaction'].fillna('Unknown').value_counts().plot.bar()\n",
    "plt.title(\"Transaction Type\")\n",
    "plt.show()\n"
   ]
  },
  {
   "cell_type": "code",
   "execution_count": 12,
   "id": "df708af9-f778-495f-9c6c-4f772a4c31a6",
   "metadata": {},
   "outputs": [
    {
     "data": {
      "image/png": "[encoded data removed]",
      "text/plain": [
       "<Figure size 640x480 with 1 Axes>"
      ]
     },
     "metadata": {},
     "output_type": "display_data"
    }
   ],
   "source": [
    "df['furnishing'].value_counts().plot.pie(autopct='%1.1f%%')\n",
    "plt.title(\"Furnishing Status\")\n",
    "plt.show()"
   ]
  },
  {
   "cell_type": "code",
   "execution_count": 13,
   "id": "61d2c47a-858e-42a0-9483-79682cd74dcc",
   "metadata": {
    "scrolled": true
   },
   "outputs": [
    {
     "data": {
      "image/png": "[encoded data removed]",
      "text/plain": [
       "<Figure size 640x480 with 1 Axes>"
      ]
     },
     "metadata": {},
     "output_type": "display_data"
    }
   ],
   "source": [
    "df.plot.scatter(x='square_feet_clean', y='price_per_sqft_clean')\n",
    "plt.title(\"Price per Sqft vs Area (Cleaned)\")\n",
    "plt.xlabel(\"Area (sqft)\")\n",
    "plt.ylabel(\"Price per Sqft\")\n",
    "plt.grid(True)\n",
    "plt.show()\n"
   ]
  },
  {
   "cell_type": "code",
   "execution_count": 14,
   "id": "027acde9-b01b-425f-9bcc-ef720bd09281",
   "metadata": {},
   "outputs": [
    {
     "data": {
      "image/png": "[encoded data removed]",
      "text/plain": [
       "<Figure size 640x480 with 1 Axes>"
      ]
     },
     "metadata": {},
     "output_type": "display_data"
    }
   ],
   "source": [
    "df['square_feet'].hist(bins=30)\n",
    "plt.title(\"Area Distribution\")\n",
    "plt.show()"
   ]
  },
  {
   "cell_type": "markdown",
   "id": "460bf4dc-60ed-4061-b707-f47c4125a846",
   "metadata": {},
   "source": [
    "# Data Cleaning"
   ]
  },
  {
   "cell_type": "code",
   "execution_count": 15,
   "id": "9d5e0134-de70-410b-a76c-7bf7cfd08666",
   "metadata": {},
   "outputs": [],
   "source": [
    "\n",
    "\n",
    "def convert_area(area):\n",
    "    if pd.isna(area):\n",
    "        return np.nan\n",
    "    area = area.replace(',', '').strip().lower()\n",
    "    if 'sqft' in area:\n",
    "        return float(area.replace('sqft', '').strip())\n",
    "    elif 'sqm' in area:\n",
    "        sqm_val = float(area.replace('sqm', '').strip())\n",
    "        return sqm_val * 10.7639  # convert sqm to sqft\n",
    "    else:\n",
    "        # If unit not specified, try to convert directly (may cause errors)\n",
    "        try:\n",
    "            return float(area)\n",
    "        except:\n",
    "            return np.nan\n",
    "\n",
    "df['square_feet'] = df['square_feet'].apply(convert_area)\n"
   ]
  },
  {
   "cell_type": "markdown",
   "id": "083697d3-a7bf-4b64-8264-e4f375537911",
   "metadata": {},
   "source": [
    "# Feature Engineering\n",
    "#Encode categoricals:"
   ]
  },
  {
   "cell_type": "code",
   "execution_count": 16,
   "id": "1cbeceb5-e08c-463a-8274-21993ecc90c9",
   "metadata": {},
   "outputs": [],
   "source": [
    "df = pd.get_dummies(\n",
    "    df,\n",
    "    columns=['transaction','status','furnishing','facing'],\n",
    "    drop_first=True\n",
    ")\n"
   ]
  },
  {
   "cell_type": "code",
   "execution_count": 35,
   "id": "40cccba5-3576-4f63-9333-3ddffcc2608b",
   "metadata": {},
   "outputs": [
    {
     "name": "stdout",
     "output_type": "stream",
     "text": [
      "✅ Scaling complete.\n"
     ]
    },
    {
     "name": "stderr",
     "output_type": "stream",
     "text": [
      "C:\\Users\\bbuser\\AppData\\Local\\Temp\\ipykernel_8928\\123066241.py:22: SettingWithCopyWarning: \n",
      "A value is trying to be set on a copy of a slice from a DataFrame.\n",
      "Try using .loc[row_indexer,col_indexer] = value instead\n",
      "\n",
      "See the caveats in the documentation: https://pandas.pydata.org/pandas-docs/stable/user_guide/indexing.html#returning-a-view-versus-a-copy\n",
      "  df[[f\"{c}_mm\" for c in nums]] = mm.fit_transform(df[nums])\n",
      "C:\\Users\\bbuser\\AppData\\Local\\Temp\\ipykernel_8928\\123066241.py:22: SettingWithCopyWarning: \n",
      "A value is trying to be set on a copy of a slice from a DataFrame.\n",
      "Try using .loc[row_indexer,col_indexer] = value instead\n",
      "\n",
      "See the caveats in the documentation: https://pandas.pydata.org/pandas-docs/stable/user_guide/indexing.html#returning-a-view-versus-a-copy\n",
      "  df[[f\"{c}_mm\" for c in nums]] = mm.fit_transform(df[nums])\n",
      "C:\\Users\\bbuser\\AppData\\Local\\Temp\\ipykernel_8928\\123066241.py:22: SettingWithCopyWarning: \n",
      "A value is trying to be set on a copy of a slice from a DataFrame.\n",
      "Try using .loc[row_indexer,col_indexer] = value instead\n",
      "\n",
      "See the caveats in the documentation: https://pandas.pydata.org/pandas-docs/stable/user_guide/indexing.html#returning-a-view-versus-a-copy\n",
      "  df[[f\"{c}_mm\" for c in nums]] = mm.fit_transform(df[nums])\n",
      "C:\\Users\\bbuser\\AppData\\Local\\Temp\\ipykernel_8928\\123066241.py:23: SettingWithCopyWarning: \n",
      "A value is trying to be set on a copy of a slice from a DataFrame.\n",
      "Try using .loc[row_indexer,col_indexer] = value instead\n",
      "\n",
      "See the caveats in the documentation: https://pandas.pydata.org/pandas-docs/stable/user_guide/indexing.html#returning-a-view-versus-a-copy\n",
      "  df[[f\"{c}_std\" for c in nums]] = std.fit_transform(df[nums])\n",
      "C:\\Users\\bbuser\\AppData\\Local\\Temp\\ipykernel_8928\\123066241.py:23: SettingWithCopyWarning: \n",
      "A value is trying to be set on a copy of a slice from a DataFrame.\n",
      "Try using .loc[row_indexer,col_indexer] = value instead\n",
      "\n",
      "See the caveats in the documentation: https://pandas.pydata.org/pandas-docs/stable/user_guide/indexing.html#returning-a-view-versus-a-copy\n",
      "  df[[f\"{c}_std\" for c in nums]] = std.fit_transform(df[nums])\n",
      "C:\\Users\\bbuser\\AppData\\Local\\Temp\\ipykernel_8928\\123066241.py:23: SettingWithCopyWarning: \n",
      "A value is trying to be set on a copy of a slice from a DataFrame.\n",
      "Try using .loc[row_indexer,col_indexer] = value instead\n",
      "\n",
      "See the caveats in the documentation: https://pandas.pydata.org/pandas-docs/stable/user_guide/indexing.html#returning-a-view-versus-a-copy\n",
      "  df[[f\"{c}_std\" for c in nums]] = std.fit_transform(df[nums])\n"
     ]
    }
   ],
   "source": [
    "import pandas as pd\n",
    "from sklearn.preprocessing import MinMaxScaler, StandardScaler\n",
    "\n",
    "# First, clean numeric columns\n",
    "df['square_feet'] = df['square_feet'].str.replace(r'[^\\d.]', '', regex=True)\n",
    "df['square_feet'] = pd.to_numeric(df['square_feet'], errors='coerce')\n",
    "\n",
    "df['price_per_sqft'] = df['price_per_sqft'].str.replace(r'[^\\d.]', '', regex=True)\n",
    "df['price_per_sqft'] = pd.to_numeric(df['price_per_sqft'], errors='coerce')\n",
    "\n",
    "df['floor'] = df['floor'].str.extract(r'(\\d+)')  # extract only the floor number\n",
    "df['floor'] = pd.to_numeric(df['floor'], errors='coerce')\n",
    "\n",
    "# Drop rows with missing numeric values\n",
    "df = df.dropna(subset=['square_feet', 'price_per_sqft', 'floor'])\n",
    "\n",
    "# Now scale\n",
    "nums = ['square_feet', 'price_per_sqft', 'floor']\n",
    "mm = MinMaxScaler()\n",
    "std = StandardScaler()\n",
    "\n",
    "df[[f\"{c}_mm\" for c in nums]] = mm.fit_transform(df[nums])\n",
    "df[[f\"{c}_std\" for c in nums]] = std.fit_transform(df[nums])\n",
    "\n",
    "print(\"✅ Scaling complete.\")\n",
    "\n"
   ]
  },
  {
   "cell_type": "code",
   "execution_count": 36,
   "id": "2106ffb4-8bca-43fc-9ca6-cea7a6bad6f3",
   "metadata": {},
   "outputs": [
    {
     "ename": "AttributeError",
     "evalue": "Can only use .str accessor with string values!",
     "output_type": "error",
     "traceback": [
      "\u001b[1;31m---------------------------------------------------------------------------\u001b[0m",
      "\u001b[1;31mAttributeError\u001b[0m                            Traceback (most recent call last)",
      "Cell \u001b[1;32mIn[36], line 2\u001b[0m\n\u001b[0;32m      1\u001b[0m \u001b[38;5;66;03m# Clean price_per_sqft: remove currency symbols, commas, and convert to float\u001b[39;00m\n\u001b[1;32m----> 2\u001b[0m df[\u001b[38;5;124m'\u001b[39m\u001b[38;5;124mprice_per_sqft\u001b[39m\u001b[38;5;124m'\u001b[39m] \u001b[38;5;241m=\u001b[39m df[\u001b[38;5;124m'\u001b[39m\u001b[38;5;124mprice_per_sqft\u001b[39m\u001b[38;5;124m'\u001b[39m]\u001b[38;5;241m.\u001b[39mstr\u001b[38;5;241m.\u001b[39mreplace(\u001b[38;5;124m'\u001b[39m\u001b[38;5;124m[₹,]\u001b[39m\u001b[38;5;124m'\u001b[39m, \u001b[38;5;124m'\u001b[39m\u001b[38;5;124m'\u001b[39m, regex\u001b[38;5;241m=\u001b[39m\u001b[38;5;28;01mTrue\u001b[39;00m)\n\u001b[0;32m      4\u001b[0m \u001b[38;5;66;03m# Convert to numeric, coercing errors to NaN\u001b[39;00m\n\u001b[0;32m      5\u001b[0m df[\u001b[38;5;124m'\u001b[39m\u001b[38;5;124mprice_per_sqft\u001b[39m\u001b[38;5;124m'\u001b[39m] \u001b[38;5;241m=\u001b[39m pd\u001b[38;5;241m.\u001b[39mto_numeric(df[\u001b[38;5;124m'\u001b[39m\u001b[38;5;124mprice_per_sqft\u001b[39m\u001b[38;5;124m'\u001b[39m], errors\u001b[38;5;241m=\u001b[39m\u001b[38;5;124m'\u001b[39m\u001b[38;5;124mcoerce\u001b[39m\u001b[38;5;124m'\u001b[39m)\n",
      "File \u001b[1;32m~\\anaconda3\\Lib\\site-packages\\pandas\\core\\generic.py:6299\u001b[0m, in \u001b[0;36mNDFrame.__getattr__\u001b[1;34m(self, name)\u001b[0m\n\u001b[0;32m   6292\u001b[0m \u001b[38;5;28;01mif\u001b[39;00m (\n\u001b[0;32m   6293\u001b[0m     name \u001b[38;5;129;01mnot\u001b[39;00m \u001b[38;5;129;01min\u001b[39;00m \u001b[38;5;28mself\u001b[39m\u001b[38;5;241m.\u001b[39m_internal_names_set\n\u001b[0;32m   6294\u001b[0m     \u001b[38;5;129;01mand\u001b[39;00m name \u001b[38;5;129;01mnot\u001b[39;00m \u001b[38;5;129;01min\u001b[39;00m \u001b[38;5;28mself\u001b[39m\u001b[38;5;241m.\u001b[39m_metadata\n\u001b[0;32m   6295\u001b[0m     \u001b[38;5;129;01mand\u001b[39;00m name \u001b[38;5;129;01mnot\u001b[39;00m \u001b[38;5;129;01min\u001b[39;00m \u001b[38;5;28mself\u001b[39m\u001b[38;5;241m.\u001b[39m_accessors\n\u001b[0;32m   6296\u001b[0m     \u001b[38;5;129;01mand\u001b[39;00m \u001b[38;5;28mself\u001b[39m\u001b[38;5;241m.\u001b[39m_info_axis\u001b[38;5;241m.\u001b[39m_can_hold_identifiers_and_holds_name(name)\n\u001b[0;32m   6297\u001b[0m ):\n\u001b[0;32m   6298\u001b[0m     \u001b[38;5;28;01mreturn\u001b[39;00m \u001b[38;5;28mself\u001b[39m[name]\n\u001b[1;32m-> 6299\u001b[0m \u001b[38;5;28;01mreturn\u001b[39;00m \u001b[38;5;28mobject\u001b[39m\u001b[38;5;241m.\u001b[39m\u001b[38;5;21m__getattribute__\u001b[39m(\u001b[38;5;28mself\u001b[39m, name)\n",
      "File \u001b[1;32m~\\anaconda3\\Lib\\site-packages\\pandas\\core\\accessor.py:224\u001b[0m, in \u001b[0;36mCachedAccessor.__get__\u001b[1;34m(self, obj, cls)\u001b[0m\n\u001b[0;32m    221\u001b[0m \u001b[38;5;28;01mif\u001b[39;00m obj \u001b[38;5;129;01mis\u001b[39;00m \u001b[38;5;28;01mNone\u001b[39;00m:\n\u001b[0;32m    222\u001b[0m     \u001b[38;5;66;03m# we're accessing the attribute of the class, i.e., Dataset.geo\u001b[39;00m\n\u001b[0;32m    223\u001b[0m     \u001b[38;5;28;01mreturn\u001b[39;00m \u001b[38;5;28mself\u001b[39m\u001b[38;5;241m.\u001b[39m_accessor\n\u001b[1;32m--> 224\u001b[0m accessor_obj \u001b[38;5;241m=\u001b[39m \u001b[38;5;28mself\u001b[39m\u001b[38;5;241m.\u001b[39m_accessor(obj)\n\u001b[0;32m    225\u001b[0m \u001b[38;5;66;03m# Replace the property with the accessor object. Inspired by:\u001b[39;00m\n\u001b[0;32m    226\u001b[0m \u001b[38;5;66;03m# https://www.pydanny.com/cached-property.html\u001b[39;00m\n\u001b[0;32m    227\u001b[0m \u001b[38;5;66;03m# We need to use object.__setattr__ because we overwrite __setattr__ on\u001b[39;00m\n\u001b[0;32m    228\u001b[0m \u001b[38;5;66;03m# NDFrame\u001b[39;00m\n\u001b[0;32m    229\u001b[0m \u001b[38;5;28mobject\u001b[39m\u001b[38;5;241m.\u001b[39m\u001b[38;5;21m__setattr__\u001b[39m(obj, \u001b[38;5;28mself\u001b[39m\u001b[38;5;241m.\u001b[39m_name, accessor_obj)\n",
      "File \u001b[1;32m~\\anaconda3\\Lib\\site-packages\\pandas\\core\\strings\\accessor.py:191\u001b[0m, in \u001b[0;36mStringMethods.__init__\u001b[1;34m(self, data)\u001b[0m\n\u001b[0;32m    188\u001b[0m \u001b[38;5;28;01mdef\u001b[39;00m\u001b[38;5;250m \u001b[39m\u001b[38;5;21m__init__\u001b[39m(\u001b[38;5;28mself\u001b[39m, data) \u001b[38;5;241m-\u001b[39m\u001b[38;5;241m>\u001b[39m \u001b[38;5;28;01mNone\u001b[39;00m:\n\u001b[0;32m    189\u001b[0m     \u001b[38;5;28;01mfrom\u001b[39;00m\u001b[38;5;250m \u001b[39m\u001b[38;5;21;01mpandas\u001b[39;00m\u001b[38;5;21;01m.\u001b[39;00m\u001b[38;5;21;01mcore\u001b[39;00m\u001b[38;5;21;01m.\u001b[39;00m\u001b[38;5;21;01marrays\u001b[39;00m\u001b[38;5;21;01m.\u001b[39;00m\u001b[38;5;21;01mstring_\u001b[39;00m\u001b[38;5;250m \u001b[39m\u001b[38;5;28;01mimport\u001b[39;00m StringDtype\n\u001b[1;32m--> 191\u001b[0m     \u001b[38;5;28mself\u001b[39m\u001b[38;5;241m.\u001b[39m_inferred_dtype \u001b[38;5;241m=\u001b[39m \u001b[38;5;28mself\u001b[39m\u001b[38;5;241m.\u001b[39m_validate(data)\n\u001b[0;32m    192\u001b[0m     \u001b[38;5;28mself\u001b[39m\u001b[38;5;241m.\u001b[39m_is_categorical \u001b[38;5;241m=\u001b[39m \u001b[38;5;28misinstance\u001b[39m(data\u001b[38;5;241m.\u001b[39mdtype, CategoricalDtype)\n\u001b[0;32m    193\u001b[0m     \u001b[38;5;28mself\u001b[39m\u001b[38;5;241m.\u001b[39m_is_string \u001b[38;5;241m=\u001b[39m \u001b[38;5;28misinstance\u001b[39m(data\u001b[38;5;241m.\u001b[39mdtype, StringDtype)\n",
      "File \u001b[1;32m~\\anaconda3\\Lib\\site-packages\\pandas\\core\\strings\\accessor.py:245\u001b[0m, in \u001b[0;36mStringMethods._validate\u001b[1;34m(data)\u001b[0m\n\u001b[0;32m    242\u001b[0m inferred_dtype \u001b[38;5;241m=\u001b[39m lib\u001b[38;5;241m.\u001b[39minfer_dtype(values, skipna\u001b[38;5;241m=\u001b[39m\u001b[38;5;28;01mTrue\u001b[39;00m)\n\u001b[0;32m    244\u001b[0m \u001b[38;5;28;01mif\u001b[39;00m inferred_dtype \u001b[38;5;129;01mnot\u001b[39;00m \u001b[38;5;129;01min\u001b[39;00m allowed_types:\n\u001b[1;32m--> 245\u001b[0m     \u001b[38;5;28;01mraise\u001b[39;00m \u001b[38;5;167;01mAttributeError\u001b[39;00m(\u001b[38;5;124m\"\u001b[39m\u001b[38;5;124mCan only use .str accessor with string values!\u001b[39m\u001b[38;5;124m\"\u001b[39m)\n\u001b[0;32m    246\u001b[0m \u001b[38;5;28;01mreturn\u001b[39;00m inferred_dtype\n",
      "\u001b[1;31mAttributeError\u001b[0m: Can only use .str accessor with string values!"
     ]
    }
   ],
   "source": [
    "# Clean price_per_sqft: remove currency symbols, commas, and convert to float\n",
    "df['price_per_sqft'] = df['price_per_sqft'].str.replace('[₹,]', '', regex=True)\n",
    "\n",
    "# Convert to numeric, coercing errors to NaN\n",
    "df['price_per_sqft'] = pd.to_numeric(df['price_per_sqft'], errors='coerce')\n",
    "\n",
    "# Your square_feet column from previous step should already be numeric\n",
    "# But just in case:\n",
    "df['square_feet'] = pd.to_numeric(df['square_feet'], errors='coerce')\n"
   ]
  },
  {
   "cell_type": "code",
   "execution_count": null,
   "id": "5c973de0-41c8-4e95-aaef-718a471e64b2",
   "metadata": {},
   "outputs": [],
   "source": [
    "df['price_total'] = df['price_per_sqft'] * df['square_feet']\n"
   ]
  },
  {
   "cell_type": "code",
   "execution_count": null,
   "id": "a5e5bf75-dff3-4013-8290-a34c2989def0",
   "metadata": {},
   "outputs": [],
   "source": [
    "df.dropna(subset=['price_per_sqft', 'square_feet'], inplace=True)\n",
    "df['price_total'] = df['price_per_sqft'] * df['square_feet']\n"
   ]
  },
  {
   "cell_type": "markdown",
   "id": "7ac93cbb-9ba8-41ca-a6c2-b287e77955a9",
   "metadata": {},
   "source": [
    "# Linear Regression Model"
   ]
  },
  {
   "cell_type": "code",
   "execution_count": 21,
   "id": "24df3dec-4293-4fe3-8718-c9a6f9839220",
   "metadata": {},
   "outputs": [
    {
     "name": "stdout",
     "output_type": "stream",
     "text": [
      "Shape of df: (4525, 435)\n",
      "Shape of X: (4012, 3)\n",
      "Shape of y: (4012,)\n",
      "Number of NaNs in X:\n",
      " square_feet             0\n",
      "square_feet_clean       0\n",
      "price_per_sqft_clean    0\n",
      "dtype: int64\n",
      "Number of NaNs in y:\n",
      " 0\n"
     ]
    }
   ],
   "source": [
    "print(\"Shape of df:\", df.shape)\n",
    "print(\"Shape of X:\", X.shape)\n",
    "print(\"Shape of y:\", y.shape)\n",
    "print(\"Number of NaNs in X:\\n\", X.isna().sum())\n",
    "print(\"Number of NaNs in y:\\n\", y.isna().sum())\n"
   ]
  },
  {
   "cell_type": "code",
   "execution_count": 22,
   "id": "34e2cdd4-f455-409e-b552-06358f4159ad",
   "metadata": {},
   "outputs": [
    {
     "name": "stdout",
     "output_type": "stream",
     "text": [
      "After cleaning: X shape: (4012, 3), y shape: (4012,)\n"
     ]
    }
   ],
   "source": [
    "# Drop rows with missing target 'price'\n",
    "df = df.dropna(subset=['price'])\n",
    "\n",
    "# Select numeric features only (LinearRegression needs numbers)\n",
    "X = df.select_dtypes(include=[np.number]).drop('price', axis=1, errors='ignore')\n",
    "\n",
    "# Drop rows with missing feature values\n",
    "X = X.dropna()\n",
    "\n",
    "# Align target variable with X rows\n",
    "y = df.loc[X.index, 'price']\n",
    "\n",
    "print(f\"After cleaning: X shape: {X.shape}, y shape: {y.shape}\")\n"
   ]
  },
  {
   "cell_type": "code",
   "execution_count": 23,
   "id": "2341babf-63e6-4147-a01d-e6267fb07780",
   "metadata": {
    "scrolled": true
   },
   "outputs": [
    {
     "name": "stdout",
     "output_type": "stream",
     "text": [
      "Initial data shape: (4525, 435)\n",
      "Missing values per column:\n",
      "property_name                 0\n",
      "areaWithType                  0\n",
      "square_feet                 170\n",
      "floor                        45\n",
      "description                1371\n",
      "                           ... \n",
      "facing_Vibrant Eco Park       0\n",
      "facing_Vitthal Bunglows       0\n",
      "facing_West                   0\n",
      "facing_Yes                    0\n",
      "facing_aventis ofira          0\n",
      "Length: 435, dtype: int64\n",
      "\n",
      "Sample data types:\n",
      "property_name               object\n",
      "areaWithType                object\n",
      "square_feet                float64\n",
      "floor                       object\n",
      "description                 object\n",
      "                            ...   \n",
      "facing_Vibrant Eco Park       bool\n",
      "facing_Vitthal Bunglows       bool\n",
      "facing_West                   bool\n",
      "facing_Yes                    bool\n",
      "facing_aventis ofira          bool\n",
      "Length: 435, dtype: object\n",
      "\n",
      "Unique values in 'price':\n",
      "['₹33.8 Lac ' '₹45.4 Lac ' '₹44.6 Lac ' '₹47 Lac ' '₹45 Lac ' '₹43.2 Lac '\n",
      " '₹42.1 Lac ' '₹44.1 Lac ' '₹44.3 Lac ' '₹40 Lac ']\n",
      "\n",
      "Example rows with missing price:\n",
      "Empty DataFrame\n",
      "Columns: [property_name, areaWithType, square_feet, floor, description, price_per_sqft, price, square_feet_clean, price_per_sqft_clean, transaction_1 Covered, transaction_10 m, transaction_2, transaction_20 Covered,, transaction_3, transaction_3 Covered, transaction_4, transaction_5, transaction_6, transaction_8 m, transaction_Aakash Echo Point, transaction_Casa Rivera, transaction_Co-operative Society, transaction_Congo, transaction_Furnished, transaction_Garden/Park, transaction_Green City, transaction_Jolly Residency, transaction_Mahavir Nagar, transaction_Main Road, transaction_Main Road, Garden/Park, transaction_Mangalam Heights, transaction_New Property, transaction_No, transaction_Orchid Fantasia, transaction_Orchid Gardenia, transaction_Other, transaction_Pool, Garden/Park, Main Road, transaction_Raghuvir Silverstone, transaction_Resale, transaction_Semi-Furnished, transaction_Shagun Residency, transaction_Soham Elegance, transaction_Sundaram Residency, transaction_Unfurnished, transaction_Vatsalya Bungalows, transaction_Yes, status_1 out of 7, status_10 out of 11, status_11 out of 14, status_110 X 27.27, status_114 X 14, status_114 X 60, status_12 X 35.92, status_12 out of 12, status_120 X 105, status_120 X 60, status_120 X 63, status_1200 X 3, status_126 X 66, status_13 out of 14, status_13.3 X 135, status_135 X 75, status_138 X 63, status_144 X 105, status_144 X 126, status_16.4 X 60, status_16.7 X 240, status_180 X 22.5, status_180 X 45, status_19.2 X 54.8, status_2, status_2 out of 12, status_2 out of 13, status_2 out of 4, status_20 X 40, status_21 X 50.2, status_21 X 57, status_240 X 180, status_25 X 12, status_26.7 X 54.9, status_26.7 X 55.6, status_285 X 51, status_3 out of 10, status_3 out of 13, status_3 out of 3, status_3 out of 4, status_3 out of 5, status_3 out of 7, status_31 X 41, status_36 X 15, status_36 X 21, status_37 X 20, status_37 X 26, status_38 X 20, status_38 X 21, status_39.6 X 20, status_4 out of 11, status_4 out of 12, status_4 out of 14, status_4 out of 5, ...]\n",
      "Index: []\n",
      "\n",
      "[0 rows x 435 columns]\n",
      "\n",
      "Example rows with non-numeric 'price':\n",
      "                                       property_name areaWithType  \\\n",
      "0          2 BHK Apartment for Sale in Dindoli Surat  Carpet Area   \n",
      "1           2 BHK Apartment for Sale in Althan Surat   Super Area   \n",
      "2          2 BHK Apartment for Sale in Pal Gam Surat   Super Area   \n",
      "3     2 BHK Apartment for Sale in Jahangirabad Surat  Carpet Area   \n",
      "4  2 BHK Apartment for Sale in Orchid Fantasia, P...   Super Area   \n",
      "\n",
      "   square_feet        floor  \\\n",
      "0        644.0  5 out of 10   \n",
      "1       1278.0  6 out of 14   \n",
      "2       1173.0  5 out of 13   \n",
      "3        700.0  6 out of 14   \n",
      "4       1250.0  Unfurnished   \n",
      "\n",
      "                                         description    price_per_sqft  \\\n",
      "0  Luxury project with basement parking, Solar ro...  ₹2,891 per sqft    \n",
      "1  2 And 3 BHK Luxurious Flat for Sell In New Alt...  ₹3,551 per sqft    \n",
      "2  This affordable 2 BHK flat is situated along a...  ₹3,800 per sqft    \n",
      "3  2 BHK Flat For sell IN Jahangirabad Prime Loca...  ₹3,966 per sqft    \n",
      "4  Multistorey Apartment for Sale in Palanpur, Su...  ₹3,600 per sqft    \n",
      "\n",
      "        price  square_feet_clean  price_per_sqft_clean  transaction_1 Covered  \\\n",
      "0  ₹33.8 Lac               644.0                2891.0                  False   \n",
      "1  ₹45.4 Lac              1278.0                3551.0                  False   \n",
      "2  ₹44.6 Lac              1173.0                3800.0                  False   \n",
      "3    ₹47 Lac               700.0                3966.0                  False   \n",
      "4    ₹45 Lac              1250.0                3600.0                  False   \n",
      "\n",
      "   ...  facing_Vaishnodevi Amour Jahagirabad  facing_Vaishnodevi Ideal Homes  \\\n",
      "0  ...                                 False                           False   \n",
      "1  ...                                 False                           False   \n",
      "2  ...                                 False                           False   \n",
      "3  ...                                 False                           False   \n",
      "4  ...                                 False                           False   \n",
      "\n",
      "   facing_Varni Siddheshwar Heights  facing_Vasant Vihar Township  \\\n",
      "0                             False                         False   \n",
      "1                             False                         False   \n",
      "2                             False                         False   \n",
      "3                             False                         False   \n",
      "4                             False                         False   \n",
      "\n",
      "   facing_Vesu Point  facing_Vibrant Eco Park  facing_Vitthal Bunglows  \\\n",
      "0              False                    False                    False   \n",
      "1              False                    False                    False   \n",
      "2              False                    False                    False   \n",
      "3              False                    False                    False   \n",
      "4              False                    False                    False   \n",
      "\n",
      "   facing_West  facing_Yes  facing_aventis ofira  \n",
      "0         True       False                 False  \n",
      "1        False       False                 False  \n",
      "2        False       False                 False  \n",
      "3        False       False                 False  \n",
      "4        False       False                 False  \n",
      "\n",
      "[5 rows x 435 columns]\n"
     ]
    }
   ],
   "source": [
    "print(\"Initial data shape:\", df.shape)\n",
    "print(\"Missing values per column:\")\n",
    "print(df.isnull().sum())\n",
    "print(\"\\nSample data types:\")\n",
    "print(df.dtypes)\n",
    "\n",
    "print(\"\\nUnique values in 'price':\")\n",
    "print(df['price'].unique()[:10])\n",
    "\n",
    "print(\"\\nExample rows with missing price:\")\n",
    "print(df[df['price'].isnull()].head())\n",
    "\n",
    "print(\"\\nExample rows with non-numeric 'price':\")\n",
    "print(df[~df['price'].str.replace('.', '', 1).str.isdigit()].head())\n"
   ]
  },
  {
   "cell_type": "code",
   "execution_count": 24,
   "id": "0b422302-81d1-480b-97aa-433733c8238b",
   "metadata": {},
   "outputs": [
    {
     "name": "stdout",
     "output_type": "stream",
     "text": [
      "Data shape after cleaning: (0, 435)\n",
      "No data left after cleaning! Adjust your cleaning steps or check data.\n"
     ]
    }
   ],
   "source": [
    "import pandas as pd\n",
    "from sklearn.model_selection import train_test_split\n",
    "from sklearn.linear_model import LinearRegression\n",
    "from sklearn.metrics import mean_squared_error, r2_score\n",
    "\n",
    "# Assuming df is your DataFrame loaded already\n",
    "\n",
    "# Step 1: Clean target column ('price')\n",
    "df = df[df['price'].notna()]  # Drop rows where price is missing\n",
    "\n",
    "# Remove rows where price cannot be converted to float\n",
    "df = df[df['price'].apply(lambda x: str(x).replace('.', '', 1).isdigit())]\n",
    "\n",
    "# Convert price to float\n",
    "df['price'] = df['price'].astype(float)\n",
    "\n",
    "# Step 2: Convert other columns to numeric, coercing errors to NaN\n",
    "for col in df.columns.drop('price'):\n",
    "    df[col] = pd.to_numeric(df[col], errors='coerce')\n",
    "\n",
    "# Step 3: Drop rows with any NaNs (including in features)\n",
    "df = df.dropna()\n",
    "\n",
    "print(f\"Data shape after cleaning: {df.shape}\")\n",
    "\n",
    "# Step 4: Check if data is not empty\n",
    "if len(df) == 0:\n",
    "    print(\"No data left after cleaning! Adjust your cleaning steps or check data.\")\n",
    "else:\n",
    "    # Features and target\n",
    "    X = df.drop('price', axis=1)\n",
    "    y = df['price']\n",
    "\n",
    "    # Split data\n",
    "    X_train, X_test, y_train, y_test = train_test_split(\n",
    "        X, y, test_size=0.2, random_state=42)\n",
    "\n",
    "    # Train Linear Regression model\n",
    "    model = LinearRegression()\n",
    "    model.fit(X_train, y_train)\n",
    "\n",
    "    # Predict on test set\n",
    "    y_pred = model.predict(X_test)\n",
    "\n",
    "    # Evaluate\n",
    "    mse = mean_squared_error(y_test, y_pred)\n",
    "    r2 = r2_score(y_test, y_pred)\n",
    "\n",
    "    print(\"--- Linear Regression Results ---\")\n",
    "    print(f\"Mean Squared Error (MSE): {mse:.2f}\")\n",
    "    print(f\"R-squared (R2): {r2:.2f}\")\n"
   ]
  },
  {
   "cell_type": "code",
   "execution_count": 25,
   "id": "e7d042eb-bc7c-445b-b242-f8cda028d201",
   "metadata": {},
   "outputs": [
    {
     "name": "stdout",
     "output_type": "stream",
     "text": [
      "Index(['property_name', 'areaWithType', 'square_feet', 'floor', 'description',\n",
      "       'price_per_sqft', 'price', 'square_feet_clean', 'price_per_sqft_clean',\n",
      "       'transaction_1 Covered',\n",
      "       ...\n",
      "       'facing_Vaishnodevi Amour Jahagirabad',\n",
      "       'facing_Vaishnodevi Ideal Homes', 'facing_Varni Siddheshwar Heights',\n",
      "       'facing_Vasant Vihar Township', 'facing_Vesu Point',\n",
      "       'facing_Vibrant Eco Park', 'facing_Vitthal Bunglows', 'facing_West',\n",
      "       'facing_Yes', 'facing_aventis ofira'],\n",
      "      dtype='object', length=435)\n"
     ]
    }
   ],
   "source": [
    "print(df.columns)\n"
   ]
  },
  {
   "cell_type": "code",
   "execution_count": 26,
   "id": "7cbd4de8-533e-492a-8957-0e46c9a197e3",
   "metadata": {},
   "outputs": [
    {
     "data": {
      "text/html": [
       "<div>\n",
       "<style scoped>\n",
       "    .dataframe tbody tr th:only-of-type {\n",
       "        vertical-align: middle;\n",
       "    }\n",
       "\n",
       "    .dataframe tbody tr th {\n",
       "        vertical-align: top;\n",
       "    }\n",
       "\n",
       "    .dataframe thead th {\n",
       "        text-align: right;\n",
       "    }\n",
       "</style>\n",
       "<table border=\"1\" class=\"dataframe\">\n",
       "  <thead>\n",
       "    <tr style=\"text-align: right;\">\n",
       "      <th></th>\n",
       "      <th>property_name</th>\n",
       "      <th>areaWithType</th>\n",
       "      <th>square_feet</th>\n",
       "      <th>floor</th>\n",
       "      <th>description</th>\n",
       "      <th>price_per_sqft</th>\n",
       "      <th>price</th>\n",
       "      <th>square_feet_clean</th>\n",
       "      <th>price_per_sqft_clean</th>\n",
       "      <th>transaction_1 Covered</th>\n",
       "      <th>...</th>\n",
       "      <th>facing_Vaishnodevi Amour Jahagirabad</th>\n",
       "      <th>facing_Vaishnodevi Ideal Homes</th>\n",
       "      <th>facing_Varni Siddheshwar Heights</th>\n",
       "      <th>facing_Vasant Vihar Township</th>\n",
       "      <th>facing_Vesu Point</th>\n",
       "      <th>facing_Vibrant Eco Park</th>\n",
       "      <th>facing_Vitthal Bunglows</th>\n",
       "      <th>facing_West</th>\n",
       "      <th>facing_Yes</th>\n",
       "      <th>facing_aventis ofira</th>\n",
       "    </tr>\n",
       "  </thead>\n",
       "  <tbody>\n",
       "  </tbody>\n",
       "</table>\n",
       "<p>0 rows × 435 columns</p>\n",
       "</div>"
      ],
      "text/plain": [
       "Empty DataFrame\n",
       "Columns: [property_name, areaWithType, square_feet, floor, description, price_per_sqft, price, square_feet_clean, price_per_sqft_clean, transaction_1 Covered, transaction_10 m, transaction_2, transaction_20 Covered,, transaction_3, transaction_3 Covered, transaction_4, transaction_5, transaction_6, transaction_8 m, transaction_Aakash Echo Point, transaction_Casa Rivera, transaction_Co-operative Society, transaction_Congo, transaction_Furnished, transaction_Garden/Park, transaction_Green City, transaction_Jolly Residency, transaction_Mahavir Nagar, transaction_Main Road, transaction_Main Road, Garden/Park, transaction_Mangalam Heights, transaction_New Property, transaction_No, transaction_Orchid Fantasia, transaction_Orchid Gardenia, transaction_Other, transaction_Pool, Garden/Park, Main Road, transaction_Raghuvir Silverstone, transaction_Resale, transaction_Semi-Furnished, transaction_Shagun Residency, transaction_Soham Elegance, transaction_Sundaram Residency, transaction_Unfurnished, transaction_Vatsalya Bungalows, transaction_Yes, status_1 out of 7, status_10 out of 11, status_11 out of 14, status_110 X 27.27, status_114 X 14, status_114 X 60, status_12 X 35.92, status_12 out of 12, status_120 X 105, status_120 X 60, status_120 X 63, status_1200 X 3, status_126 X 66, status_13 out of 14, status_13.3 X 135, status_135 X 75, status_138 X 63, status_144 X 105, status_144 X 126, status_16.4 X 60, status_16.7 X 240, status_180 X 22.5, status_180 X 45, status_19.2 X 54.8, status_2, status_2 out of 12, status_2 out of 13, status_2 out of 4, status_20 X 40, status_21 X 50.2, status_21 X 57, status_240 X 180, status_25 X 12, status_26.7 X 54.9, status_26.7 X 55.6, status_285 X 51, status_3 out of 10, status_3 out of 13, status_3 out of 3, status_3 out of 4, status_3 out of 5, status_3 out of 7, status_31 X 41, status_36 X 15, status_36 X 21, status_37 X 20, status_37 X 26, status_38 X 20, status_38 X 21, status_39.6 X 20, status_4 out of 11, status_4 out of 12, status_4 out of 14, status_4 out of 5, ...]\n",
       "Index: []\n",
       "\n",
       "[0 rows x 435 columns]"
      ]
     },
     "execution_count": 26,
     "metadata": {},
     "output_type": "execute_result"
    }
   ],
   "source": [
    "df"
   ]
  },
  {
   "cell_type": "code",
   "execution_count": 38,
   "id": "103cf3a9-5379-47ca-ad3d-02342d7cbe21",
   "metadata": {},
   "outputs": [],
   "source": [
    "df_encoded = pd.get_dummies(df[['transaction', 'furnishing', 'status']], drop_first=True)\n",
    "X = pd.concat([df[['square_feet', 'floor']], df_encoded], axis=1)\n"
   ]
  },
  {
   "cell_type": "code",
   "execution_count": 40,
   "id": "31434510-3997-4602-8880-4aff8bbbfb84",
   "metadata": {},
   "outputs": [],
   "source": [
    "# Select columns to encode (categoricals)\n",
    "cat_cols = ['transaction', 'status', 'furnishing', 'facing']\n",
    "\n",
    "# One-hot encode them\n",
    "df_encoded = pd.get_dummies(df, columns=cat_cols, drop_first=True)\n"
   ]
  },
  {
   "cell_type": "code",
   "execution_count": 45,
   "id": "2892d38d-d0d4-4216-bda5-dc1cc60adfbd",
   "metadata": {},
   "outputs": [],
   "source": [
    "df_clean['square_feet'] = df_clean['square_feet'].astype(str)\n"
   ]
  },
  {
   "cell_type": "code",
   "execution_count": 46,
   "id": "a7294f20-ef91-411c-8e2e-8bda8d992776",
   "metadata": {},
   "outputs": [],
   "source": [
    "df_clean['square_feet'] = df_clean['square_feet'].str.extract('(\\d+\\.?\\d*)').astype(float)\n"
   ]
  },
  {
   "cell_type": "code",
   "execution_count": 47,
   "id": "11756c74-1701-4088-b905-0d2eff2c3b7d",
   "metadata": {},
   "outputs": [],
   "source": [
    "df_clean['square_feet'] = df_clean['square_feet'].astype(str)  # convert all to strings first\n",
    "df_clean['square_feet'] = df_clean['square_feet'].str.extract('(\\d+\\.?\\d*)')  # extract numeric part\n",
    "df_clean['square_feet'] = pd.to_numeric(df_clean['square_feet'], errors='coerce')  # convert to float\n"
   ]
  },
  {
   "cell_type": "code",
   "execution_count": 49,
   "id": "cbaf5b6d-bbdf-481b-aee4-e6e021e0f896",
   "metadata": {},
   "outputs": [],
   "source": [
    "# First, convert all entries in 'square_feet' to strings, but also handle missing values carefully:\n",
    "df['square_feet'] = df['square_feet'].astype(str).fillna('')\n",
    "\n",
    "# Now apply the extraction safely:\n",
    "df['square_feet'] = df['square_feet'].str.extract('(\\d+\\.?\\d*)')\n",
    "\n",
    "# Convert extracted strings to numeric, coercing errors into NaN:\n",
    "df['square_feet'] = pd.to_numeric(df['square_feet'], errors='coerce')\n",
    "\n",
    "# Optionally drop rows where 'square_feet' is still NaN after extraction:\n",
    "df = df.dropna(subset=['square_feet'])\n"
   ]
  },
  {
   "cell_type": "code",
   "execution_count": 51,
   "id": "d52885b5-68b4-4b53-bc15-226fd04f86c3",
   "metadata": {},
   "outputs": [
    {
     "name": "stdout",
     "output_type": "stream",
     "text": [
      "float64\n"
     ]
    }
   ],
   "source": [
    "print(df['square_feet'].dtype)\n"
   ]
  },
  {
   "cell_type": "code",
   "execution_count": 56,
   "id": "840854bf-f96f-46bd-afca-dd1a420b5b8b",
   "metadata": {},
   "outputs": [
    {
     "name": "stdout",
     "output_type": "stream",
     "text": [
      "--- Linear Regression Results ---\n",
      "MSE: 880.8246606706389\n",
      "R2: 0.03248313653408286\n"
     ]
    }
   ],
   "source": [
    "import pandas as pd\n",
    "import numpy as np\n",
    "from sklearn.model_selection import train_test_split\n",
    "from sklearn.linear_model import LinearRegression\n",
    "from sklearn.metrics import mean_squared_error, r2_score\n",
    "\n",
    "# 1. Drop free text / irrelevant columns\n",
    "drop_cols = ['property_name', 'description', 'areaWithType']\n",
    "df_clean = df.drop(columns=drop_cols, errors='ignore')\n",
    "\n",
    "# 2. Convert 'square_feet' to string, extract numbers, convert to float\n",
    "df_clean['square_feet'] = df_clean['square_feet'].fillna('').astype(str)\n",
    "df_clean['square_feet'] = df_clean['square_feet'].str.extract(r'(\\d+\\.?\\d*)')\n",
    "df_clean['square_feet'] = pd.to_numeric(df_clean['square_feet'], errors='coerce')\n",
    "\n",
    "# 3. Convert 'price' to numeric\n",
    "df_clean['price'] = pd.to_numeric(df_clean['price'], errors='coerce')\n",
    "\n",
    "# 4. Drop rows with missing values\n",
    "df_clean = df_clean.dropna()\n",
    "\n",
    "# 5. One-hot encode categorical features\n",
    "cat_cols = ['transaction', 'status', 'furnishing', 'facing', 'floor']\n",
    "df_clean = pd.get_dummies(df_clean, columns=cat_cols, drop_first=True)\n",
    "\n",
    "# 6. Define features and target\n",
    "X = df_clean.drop('price', axis=1)\n",
    "y = df_clean['price']\n",
    "\n",
    "# 7. Split and train\n",
    "X_train, X_test, y_train, y_test = train_test_split(\n",
    "    X, y, test_size=0.2, random_state=42\n",
    ")\n",
    "\n",
    "model = LinearRegression()\n",
    "model.fit(X_train, y_train)\n",
    "\n",
    "# 8. Predict and evaluate\n",
    "y_pred = model.predict(X_test)\n",
    "\n",
    "print(\"--- Linear Regression Results ---\")\n",
    "print(\"MSE:\", mean_squared_error(y_test, y_pred))\n",
    "print(\"R2:\", r2_score(y_test, y_pred))\n"
   ]
  },
  {
   "cell_type": "code",
   "execution_count": null,
   "id": "d973c48f-f8d4-4c1c-a753-ca77f29b024a",
   "metadata": {},
   "outputs": [],
   "source": []
  }
 ],
 "metadata": {
  "kernelspec": {
   "display_name": "Python [conda env:base] *",
   "language": "python",
   "name": "conda-base-py"
  },
  "language_info": {
   "codemirror_mode": {
    "name": "ipython",
    "version": 3
   },
   "file_extension": ".py",
   "mimetype": "text/x-python",
   "name": "python",
   "nbconvert_exporter": "python",
   "pygments_lexer": "ipython3",
   "version": "3.13.5"
  }
 },
 "nbformat": 4,
 "nbformat_minor": 5
}
