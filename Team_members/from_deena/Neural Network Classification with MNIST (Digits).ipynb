{
 "cells": [
  {
   "cell_type": "markdown",
   "id": "efd5f46f-7386-4932-b6f2-23289b1194a2",
   "metadata": {},
   "source": [
    "# **Neural Network Classification with MNIST (Digits)**"
   ]
  },
  {
   "cell_type": "markdown",
   "id": "650a4c7f-6a7c-407f-bf2e-db9da99314a1",
   "metadata": {},
   "source": [
    "## **Importing Libraries**"
   ]
  },
  {
   "cell_type": "code",
   "execution_count": 1,
   "id": "f8129b8a-cc51-464a-8cf9-ee996b763047",
   "metadata": {},
   "outputs": [],
   "source": [
    "import tensorflow as tf\n",
    "from tensorflow.keras.datasets import mnist\n",
    "from tensorflow.keras.models import Sequential\n",
    "from tensorflow.keras.layers import Dense, Flatten\n",
    "from tensorflow.keras.utils import to_categorical"
   ]
  },
  {
   "cell_type": "markdown",
   "id": "c564535a-d108-4e81-a6a4-42e31aa14fd1",
   "metadata": {},
   "source": [
    "## **Loading The Dataset**"
   ]
  },
  {
   "cell_type": "code",
   "execution_count": 2,
   "id": "244460dd-cb80-4f28-9650-a12d3d558e2f",
   "metadata": {},
   "outputs": [],
   "source": [
    "(x_train, y_train), (x_test, y_test) = mnist.load_data()"
   ]
  },
  {
   "cell_type": "markdown",
   "id": "d8755e26-e201-4e40-bcdf-08214b7cc33e",
   "metadata": {},
   "source": [
    "## **Normalize Dataset**"
   ]
  },
  {
   "cell_type": "code",
   "execution_count": 3,
   "id": "2f7a9b6f-53ef-490c-b683-0e8bcaf8992a",
   "metadata": {},
   "outputs": [],
   "source": [
    "# Normalize images (0–255 → 0–1)\n",
    "x_train, x_test = x_train / 255.0, x_test / 255.0"
   ]
  },
  {
   "cell_type": "markdown",
   "id": "2d008be9-001f-4737-b790-a635cf4bd824",
   "metadata": {},
   "source": [
    "## **Encoding Labels**"
   ]
  },
  {
   "cell_type": "code",
   "execution_count": 4,
   "id": "24eb7449-9fd0-4ebe-8a65-ebc13e275fda",
   "metadata": {},
   "outputs": [],
   "source": [
    "# One-hot encode labels\n",
    "y_train = to_categorical(y_train, 10)\n",
    "y_test = to_categorical(y_test, 10)"
   ]
  },
  {
   "cell_type": "markdown",
   "id": "9814e243-df67-4e8e-8ab3-cd72e7f52cb6",
   "metadata": {},
   "source": [
    "## **Build a Base Model**"
   ]
  },
  {
   "cell_type": "code",
   "execution_count": 5,
   "id": "754f27dc-f041-4fca-b768-f3cf87de6d72",
   "metadata": {},
   "outputs": [],
   "source": [
    "def build_model(hidden_activation=\"relu\", output_activation=\"softmax\", optimizer=\"adam\"):\n",
    "    model = Sequential([\n",
    "        Flatten(input_shape=(28, 28)),          # flatten 28x28 to 784\n",
    "        Dense(128, activation=hidden_activation),\n",
    "        Dense(10, activation=output_activation) # 10 classes\n",
    "    ])\n",
    "\n",
    "    model.compile(\n",
    "        optimizer=optimizer,\n",
    "        loss=\"categorical_crossentropy\",        # works well for classification\n",
    "        metrics=[\"accuracy\"]\n",
    "    )\n",
    "    return model"
   ]
  },
  {
   "cell_type": "markdown",
   "id": "db4379de-2576-40ea-98bb-ad5ed27a794d",
   "metadata": {},
   "source": [
    "## **Run Experiments**"
   ]
  },
  {
   "cell_type": "markdown",
   "id": "8519f07e-4f58-4006-940f-9c1d65c8d575",
   "metadata": {},
   "source": [
    "### **1. Hidden activation: relu vs sigmoid**"
   ]
  },
  {
   "cell_type": "code",
   "execution_count": 6,
   "id": "1c3b370d-34b0-4c2c-a513-e902f8fe9089",
   "metadata": {},
   "outputs": [
    {
     "name": "stderr",
     "output_type": "stream",
     "text": [
      "C:\\Users\\bbuser\\anaconda3\\Lib\\site-packages\\keras\\src\\layers\\reshaping\\flatten.py:37: UserWarning: Do not pass an `input_shape`/`input_dim` argument to a layer. When using Sequential models, prefer using an `Input(shape)` object as the first layer in the model instead.\n",
      "  super().__init__(**kwargs)\n"
     ]
    }
   ],
   "source": [
    "model_relu = build_model(hidden_activation=\"relu\")\n",
    "history_relu = model_relu.fit(x_train, y_train, epochs=5, batch_size=128, validation_split=0.1, verbose=0)\n",
    "\n",
    "model_sigmoid = build_model(hidden_activation=\"sigmoid\")\n",
    "history_sigmoid = model_sigmoid.fit(x_train, y_train, epochs=5, batch_size=128, validation_split=0.1, verbose=0)"
   ]
  },
  {
   "cell_type": "markdown",
   "id": "e11a5bec-a759-4416-8b95-9587420973c7",
   "metadata": {},
   "source": [
    "### **2. Output activation: softmax vs something else**"
   ]
  },
  {
   "cell_type": "code",
   "execution_count": 7,
   "id": "2db1399d-0711-4e83-82ec-1b0a3c7d604b",
   "metadata": {},
   "outputs": [
    {
     "name": "stdout",
     "output_type": "stream",
     "text": [
      "Epoch 1/5\n",
      "\u001b[1m422/422\u001b[0m \u001b[32m━━━━━━━━━━━━━━━━━━━━\u001b[0m\u001b[37m\u001b[0m \u001b[1m10s\u001b[0m 17ms/step - accuracy: 0.8942 - loss: 0.3834 - val_accuracy: 0.9520 - val_loss: 0.1788\n",
      "Epoch 2/5\n",
      "\u001b[1m422/422\u001b[0m \u001b[32m━━━━━━━━━━━━━━━━━━━━\u001b[0m\u001b[37m\u001b[0m \u001b[1m7s\u001b[0m 15ms/step - accuracy: 0.9477 - loss: 0.1826 - val_accuracy: 0.9640 - val_loss: 0.1288\n",
      "Epoch 3/5\n",
      "\u001b[1m422/422\u001b[0m \u001b[32m━━━━━━━━━━━━━━━━━━━━\u001b[0m\u001b[37m\u001b[0m \u001b[1m10s\u001b[0m 16ms/step - accuracy: 0.9616 - loss: 0.1333 - val_accuracy: 0.9692 - val_loss: 0.1068\n",
      "Epoch 4/5\n",
      "\u001b[1m422/422\u001b[0m \u001b[32m━━━━━━━━━━━━━━━━━━━━\u001b[0m\u001b[37m\u001b[0m \u001b[1m10s\u001b[0m 14ms/step - accuracy: 0.9701 - loss: 0.1027 - val_accuracy: 0.9720 - val_loss: 0.0944\n",
      "Epoch 5/5\n",
      "\u001b[1m422/422\u001b[0m \u001b[32m━━━━━━━━━━━━━━━━━━━━\u001b[0m\u001b[37m\u001b[0m \u001b[1m7s\u001b[0m 15ms/step - accuracy: 0.9758 - loss: 0.0840 - val_accuracy: 0.9728 - val_loss: 0.0934\n"
     ]
    },
    {
     "data": {
      "text/plain": [
       "<keras.src.callbacks.history.History at 0x170d1df47d0>"
      ]
     },
     "execution_count": 7,
     "metadata": {},
     "output_type": "execute_result"
    }
   ],
   "source": [
    "model_sigmoid_out = build_model(output_activation=\"sigmoid\")\n",
    "model_sigmoid_out.fit(x_train, y_train, epochs=5, batch_size=128, validation_split=0.1)"
   ]
  },
  {
   "cell_type": "markdown",
   "id": "4cb3b7b4-7008-4de7-bcf1-5e44cb760df0",
   "metadata": {},
   "source": [
    "### **3. Double hidden layers**"
   ]
  },
  {
   "cell_type": "code",
   "execution_count": 8,
   "id": "70602ae3-0f2c-4d31-9913-9196ed262b52",
   "metadata": {},
   "outputs": [],
   "source": [
    "def build_deeper_model(hidden_activation=\"relu\", optimizer=\"adam\"):\n",
    "    model = Sequential([\n",
    "        Flatten(input_shape=(28, 28)),\n",
    "        Dense(256, activation=hidden_activation),\n",
    "        Dense(128, activation=hidden_activation),\n",
    "        Dense(10, activation=\"softmax\")\n",
    "    ])\n",
    "    model.compile(optimizer=optimizer, loss=\"categorical_crossentropy\", metrics=[\"accuracy\"])\n",
    "    return model\n",
    "\n",
    "model_deep = build_deeper_model()\n",
    "history_deep = model_deep.fit(x_train, y_train, epochs=5, batch_size=128, validation_split=0.1, verbose=0)"
   ]
  },
  {
   "cell_type": "markdown",
   "id": "0af80bf4-5866-4efe-b002-140299d21ec4",
   "metadata": {},
   "source": [
    "### **4. Compare optimizers**"
   ]
  },
  {
   "cell_type": "code",
   "execution_count": 9,
   "id": "7985af70-c5bb-4a11-aab2-0ebcf2ed6a64",
   "metadata": {},
   "outputs": [],
   "source": [
    "optimizers = [\"adam\", \"sgd\", \"rmsprop\"]\n",
    "results = {}\n",
    "\n",
    "for opt in optimizers:\n",
    "    model = build_model(optimizer=opt)\n",
    "    history = model.fit(x_train, y_train, epochs=5, batch_size=128, validation_split=0.1, verbose=0)\n",
    "    results[opt] = history.history[\"val_accuracy\"]"
   ]
  }
 ],
 "metadata": {
  "kernelspec": {
   "display_name": "Python [conda env:base] *",
   "language": "python",
   "name": "conda-base-py"
  },
  "language_info": {
   "codemirror_mode": {
    "name": "ipython",
    "version": 3
   },
   "file_extension": ".py",
   "mimetype": "text/x-python",
   "name": "python",
   "nbconvert_exporter": "python",
   "pygments_lexer": "ipython3",
   "version": "3.13.5"
  }
 },
 "nbformat": 4,
 "nbformat_minor": 5
}
