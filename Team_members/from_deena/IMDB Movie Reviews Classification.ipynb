{
 "cells": [
  {
   "cell_type": "markdown",
   "id": "4be06084-dcb1-4488-8e80-8030a06684d5",
   "metadata": {},
   "source": [
    "# **IMDB Movie Reviews Classification**"
   ]
  },
  {
   "cell_type": "markdown",
   "id": "fbbe6b9a-8b37-433f-b748-1ed8898b14c6",
   "metadata": {},
   "source": [
    "# **Importing Liabraries**"
   ]
  },
  {
   "cell_type": "code",
   "execution_count": 38,
   "id": "448053c6-a13d-45dd-9255-646769654322",
   "metadata": {},
   "outputs": [],
   "source": [
    "import pandas as pd\n",
    "from sklearn.tree import DecisionTreeClassifier\n",
    "from sklearn.ensemble import RandomForestClassifier\n",
    "from sklearn.linear_model import LogisticRegression\n",
    "from sklearn.model_selection import train_test_split\n",
    "from sklearn.feature_extraction.text import TfidfVectorizer\n",
    "from sklearn.metrics import accuracy_score, precision_recall_fscore_support, classification_report"
   ]
  },
  {
   "cell_type": "markdown",
   "id": "1b60d630-24e4-4a7f-931f-c626e8a442b9",
   "metadata": {},
   "source": [
    "# **Load Cleaned Dataset**"
   ]
  },
  {
   "cell_type": "code",
   "execution_count": 42,
   "id": "d9700658-7cd5-4d99-908f-3e767f0c0c7e",
   "metadata": {},
   "outputs": [
    {
     "data": {
      "text/html": [
       "<div>\n",
       "<style scoped>\n",
       "    .dataframe tbody tr th:only-of-type {\n",
       "        vertical-align: middle;\n",
       "    }\n",
       "\n",
       "    .dataframe tbody tr th {\n",
       "        vertical-align: top;\n",
       "    }\n",
       "\n",
       "    .dataframe thead th {\n",
       "        text-align: right;\n",
       "    }\n",
       "</style>\n",
       "<table border=\"1\" class=\"dataframe\">\n",
       "  <thead>\n",
       "    <tr style=\"text-align: right;\">\n",
       "      <th></th>\n",
       "      <th>review</th>\n",
       "      <th>label</th>\n",
       "      <th>cleaned_review</th>\n",
       "    </tr>\n",
       "  </thead>\n",
       "  <tbody>\n",
       "    <tr>\n",
       "      <th>0</th>\n",
       "      <td>Bromwell High is a cartoon comedy. It ran at t...</td>\n",
       "      <td>1</td>\n",
       "      <td>bromwell high cartoon comedy ran time program ...</td>\n",
       "    </tr>\n",
       "    <tr>\n",
       "      <th>1</th>\n",
       "      <td>Homelessness (or Houselessness as George Carli...</td>\n",
       "      <td>1</td>\n",
       "      <td>homelessness houselessness george carlin state...</td>\n",
       "    </tr>\n",
       "    <tr>\n",
       "      <th>2</th>\n",
       "      <td>Brilliant over-acting by Lesley Ann Warren. Be...</td>\n",
       "      <td>1</td>\n",
       "      <td>brilliant overacting lesley ann warren best dr...</td>\n",
       "    </tr>\n",
       "    <tr>\n",
       "      <th>3</th>\n",
       "      <td>This is easily the most underrated film inn th...</td>\n",
       "      <td>1</td>\n",
       "      <td>easily underrated film inn brook cannon sure f...</td>\n",
       "    </tr>\n",
       "    <tr>\n",
       "      <th>4</th>\n",
       "      <td>This is not the typical Mel Brooks film. It wa...</td>\n",
       "      <td>1</td>\n",
       "      <td>typical mel brook film much less slapstick mov...</td>\n",
       "    </tr>\n",
       "    <tr>\n",
       "      <th>...</th>\n",
       "      <td>...</td>\n",
       "      <td>...</td>\n",
       "      <td>...</td>\n",
       "    </tr>\n",
       "    <tr>\n",
       "      <th>9995</th>\n",
       "      <td>The plot of 'House of Games' is the strongest ...</td>\n",
       "      <td>0</td>\n",
       "      <td>plot house game strongest thing successful aut...</td>\n",
       "    </tr>\n",
       "    <tr>\n",
       "      <th>9996</th>\n",
       "      <td>I was seriously looking forward to seeing this...</td>\n",
       "      <td>0</td>\n",
       "      <td>seriously looking forward seeing film seemed t...</td>\n",
       "    </tr>\n",
       "    <tr>\n",
       "      <th>9997</th>\n",
       "      <td>Why did I go to see this film? Honestly, becau...</td>\n",
       "      <td>0</td>\n",
       "      <td>see film honestly jim carrey past made hilario...</td>\n",
       "    </tr>\n",
       "    <tr>\n",
       "      <th>9998</th>\n",
       "      <td>Jim Carrey is one of the funniest and most gif...</td>\n",
       "      <td>0</td>\n",
       "      <td>jim carrey one funniest gifted comedian film t...</td>\n",
       "    </tr>\n",
       "    <tr>\n",
       "      <th>9999</th>\n",
       "      <td>Worst mistake of my life.&lt;br /&gt;&lt;br /&gt;I picked ...</td>\n",
       "      <td>0</td>\n",
       "      <td>worst mistake lifei picked movie target figure...</td>\n",
       "    </tr>\n",
       "  </tbody>\n",
       "</table>\n",
       "<p>10000 rows × 3 columns</p>\n",
       "</div>"
      ],
      "text/plain": [
       "                                                 review  label  \\\n",
       "0     Bromwell High is a cartoon comedy. It ran at t...      1   \n",
       "1     Homelessness (or Houselessness as George Carli...      1   \n",
       "2     Brilliant over-acting by Lesley Ann Warren. Be...      1   \n",
       "3     This is easily the most underrated film inn th...      1   \n",
       "4     This is not the typical Mel Brooks film. It wa...      1   \n",
       "...                                                 ...    ...   \n",
       "9995  The plot of 'House of Games' is the strongest ...      0   \n",
       "9996  I was seriously looking forward to seeing this...      0   \n",
       "9997  Why did I go to see this film? Honestly, becau...      0   \n",
       "9998  Jim Carrey is one of the funniest and most gif...      0   \n",
       "9999  Worst mistake of my life.<br /><br />I picked ...      0   \n",
       "\n",
       "                                         cleaned_review  \n",
       "0     bromwell high cartoon comedy ran time program ...  \n",
       "1     homelessness houselessness george carlin state...  \n",
       "2     brilliant overacting lesley ann warren best dr...  \n",
       "3     easily underrated film inn brook cannon sure f...  \n",
       "4     typical mel brook film much less slapstick mov...  \n",
       "...                                                 ...  \n",
       "9995  plot house game strongest thing successful aut...  \n",
       "9996  seriously looking forward seeing film seemed t...  \n",
       "9997  see film honestly jim carrey past made hilario...  \n",
       "9998  jim carrey one funniest gifted comedian film t...  \n",
       "9999  worst mistake lifei picked movie target figure...  \n",
       "\n",
       "[10000 rows x 3 columns]"
      ]
     },
     "execution_count": 42,
     "metadata": {},
     "output_type": "execute_result"
    }
   ],
   "source": [
    "df = pd.read_csv(r\"C:\\Users\\bbuser\\Desktop\\NumPy\\DataScience-Brain-Bytes\\DataScience-Brain-Bytes\\Team_members\\from_deena\\data\\imdb_cleaned.xls\")\n",
    "\n",
    "# Keep only cleaned review text and label\n",
    "X = df[\"cleaned_review\"].values\n",
    "y = df[\"label\"].values\n",
    "\n",
    "df"
   ]
  },
  {
   "cell_type": "markdown",
   "id": "aaa6159c-5024-4778-8efd-7d798d62ff68",
   "metadata": {},
   "source": [
    "# **TF-IDF Vectorization**"
   ]
  },
  {
   "cell_type": "code",
   "execution_count": 43,
   "id": "f792796d-30b4-48eb-8dab-1eaef95ab779",
   "metadata": {},
   "outputs": [
    {
     "name": "stdout",
     "output_type": "stream",
     "text": [
      "TF-IDF matrix shape: (10000, 5000)\n"
     ]
    }
   ],
   "source": [
    "# Convert text into TF-IDF numerical features\n",
    "vectorizer = TfidfVectorizer(max_features=5000)\n",
    "X_tfidf = vectorizer.fit_transform(X)\n",
    "print(f\"TF-IDF matrix shape: {X_tfidf.shape}\")"
   ]
  },
  {
   "cell_type": "markdown",
   "id": "89c8b840-cd79-4d47-9791-49788731d751",
   "metadata": {},
   "source": [
    "# **Train/Test Split**"
   ]
  },
  {
   "cell_type": "code",
   "execution_count": 44,
   "id": "39beee7b-1abc-42a4-9477-7871a62be7dc",
   "metadata": {},
   "outputs": [],
   "source": [
    "X_train, X_test, y_train, y_test = train_test_split(X_tfidf, y, test_size=0.2, random_state=42, stratify=y)"
   ]
  },
  {
   "cell_type": "markdown",
   "id": "09774dfe-7101-4186-9165-888ff9cfe9bf",
   "metadata": {},
   "source": [
    "# **Define Models**"
   ]
  },
  {
   "cell_type": "code",
   "execution_count": 45,
   "id": "f933d6f3-1aae-4dd4-8e27-820a81bb0799",
   "metadata": {},
   "outputs": [],
   "source": [
    "models = {\n",
    "    \"Logistic Regression\": LogisticRegression(max_iter=1000),\n",
    "    \"Decision Tree\": DecisionTreeClassifier(random_state=42),\n",
    "    \"Random Forest\": RandomForestClassifier(n_estimators=100, random_state=42)\n",
    "}"
   ]
  },
  {
   "cell_type": "markdown",
   "id": "167becce-3d96-4d16-8f08-09f21b1aab06",
   "metadata": {},
   "source": [
    "# **Train & Evaluate**"
   ]
  },
  {
   "cell_type": "code",
   "execution_count": 49,
   "id": "6e7eaa93-d667-4cc6-abe3-4d69a3f25840",
   "metadata": {},
   "outputs": [
    {
     "name": "stdout",
     "output_type": "stream",
     "text": [
      "\n",
      "Logistic Regression Classification Report:\n",
      "\n",
      "              precision    recall  f1-score   support\n",
      "\n",
      "           0       0.88      0.86      0.87      1000\n",
      "           1       0.86      0.89      0.87      1000\n",
      "\n",
      "    accuracy                           0.87      2000\n",
      "   macro avg       0.87      0.87      0.87      2000\n",
      "weighted avg       0.87      0.87      0.87      2000\n",
      "\n",
      "\n",
      "Decision Tree Classification Report:\n",
      "\n",
      "              precision    recall  f1-score   support\n",
      "\n",
      "           0       0.71      0.68      0.70      1000\n",
      "           1       0.69      0.72      0.71      1000\n",
      "\n",
      "    accuracy                           0.70      2000\n",
      "   macro avg       0.70      0.70      0.70      2000\n",
      "weighted avg       0.70      0.70      0.70      2000\n",
      "\n",
      "\n",
      "Random Forest Classification Report:\n",
      "\n",
      "              precision    recall  f1-score   support\n",
      "\n",
      "           0       0.83      0.83      0.83      1000\n",
      "           1       0.83      0.84      0.83      1000\n",
      "\n",
      "    accuracy                           0.83      2000\n",
      "   macro avg       0.83      0.83      0.83      2000\n",
      "weighted avg       0.83      0.83      0.83      2000\n",
      "\n"
     ]
    }
   ],
   "source": [
    "results = []\n",
    "\n",
    "for name, model in models.items():\n",
    "    # Train model\n",
    "    model.fit(X_train, y_train)\n",
    "    \n",
    "    # Predict\n",
    "    y_pred = model.predict(X_test)\n",
    "    \n",
    "    # Metrics\n",
    "    acc = accuracy_score(y_test, y_pred)\n",
    "    precision, recall, f1, _ = precision_recall_fscore_support(\n",
    "    y_test, y_pred, average=\"binary\", pos_label=1\n",
    "    )\n",
    "\n",
    "    \n",
    "    results.append({\n",
    "        \"Model\": name,\n",
    "        \"Accuracy\": acc,\n",
    "        \"Precision\": precision,\n",
    "        \"Recall\": recall,\n",
    "        \"F1-score\": f1\n",
    "    })\n",
    "    \n",
    "    print(f\"\\n{name} Classification Report:\\n\")\n",
    "    print(classification_report(y_test, y_pred))"
   ]
  },
  {
   "cell_type": "markdown",
   "id": "12bce87e-083d-40f3-b008-183263e525e2",
   "metadata": {},
   "source": [
    "# **Comparison Table**"
   ]
  },
  {
   "cell_type": "code",
   "execution_count": 51,
   "id": "a611d44a-31d0-418f-9440-0877bf585995",
   "metadata": {},
   "outputs": [
    {
     "name": "stdout",
     "output_type": "stream",
     "text": [
      "\n",
      "Model Comparison:\n",
      "\n",
      "                 Model  Accuracy  Precision  Recall  F1-score\n",
      "0  Logistic Regression    0.8720   0.861165   0.887  0.873892\n",
      "1        Decision Tree    0.7025   0.693780   0.725  0.709046\n",
      "2        Random Forest    0.8320   0.829365   0.836  0.832669\n"
     ]
    }
   ],
   "source": [
    "results_df = pd.DataFrame(results)\n",
    "print(\"\\nModel Comparison:\\n\")\n",
    "print(results_df)"
   ]
  },
  {
   "cell_type": "markdown",
   "id": "75046a6a-0352-44db-abee-bac90b07b52f",
   "metadata": {},
   "source": [
    "# **Example Predictions**"
   ]
  },
  {
   "cell_type": "code",
   "execution_count": 52,
   "id": "0e459ea4-16dd-40df-ba28-01b658ac2334",
   "metadata": {},
   "outputs": [
    {
     "name": "stdout",
     "output_type": "stream",
     "text": [
      "Review: sure diane silver thinking making movie obviously nothing richard wright novel movie based onwe read...\n",
      "Predicted Sentiment: 0\n",
      "\n",
      "Review: ernest borgnine wasted moviethere point putting great actor movieone greatest actor world wastedand ...\n",
      "Predicted Sentiment: 0\n",
      "\n",
      "Review: odd couple comic gem one funniest script ever committed celluloid exceeded strangelove spinal tap le...\n",
      "Predicted Sentiment: 1\n",
      "\n",
      "Review: movie one exception rule sequel worser original comedy best movie fast action slapstick comedy somet...\n",
      "Predicted Sentiment: 1\n",
      "\n",
      "Review: game really great quite challenge great spooky story line graphic also good would recommend game hor...\n",
      "Predicted Sentiment: 1\n",
      "\n"
     ]
    }
   ],
   "source": [
    "sample_reviews = df[\"cleaned_review\"].sample(5, random_state=42)\n",
    "\n",
    "for review in sample_reviews:\n",
    "    vec = vectorizer.transform([review])\n",
    "    pred = models[\"Logistic Regression\"].predict(vec)[0]\n",
    "    print(f\"Review: {review[:100]}...\")\n",
    "    print(f\"Predicted Sentiment: {pred}\\n\")"
   ]
  }
 ],
 "metadata": {
  "kernelspec": {
   "display_name": "Python [conda env:base] *",
   "language": "python",
   "name": "conda-base-py"
  },
  "language_info": {
   "codemirror_mode": {
    "name": "ipython",
    "version": 3
   },
   "file_extension": ".py",
   "mimetype": "text/x-python",
   "name": "python",
   "nbconvert_exporter": "python",
   "pygments_lexer": "ipython3",
   "version": "3.13.5"
  }
 },
 "nbformat": 4,
 "nbformat_minor": 5
}
