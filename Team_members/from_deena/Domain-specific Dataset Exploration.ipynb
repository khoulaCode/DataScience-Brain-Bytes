{
 "cells": [
  {
   "cell_type": "markdown",
   "id": "cbd16077-ae36-4baa-9ff4-e6dd03f354c6",
   "metadata": {},
   "source": [
    "# **Domain-specific Dataset Expolration (Legal Citation Text Classification)**"
   ]
  },
  {
   "cell_type": "markdown",
   "id": "846992f2-d489-4313-989c-7655ae68cdc4",
   "metadata": {},
   "source": [
    "## **Importing Libraries**"
   ]
  },
  {
   "cell_type": "code",
   "execution_count": 1,
   "id": "507312ab-28fd-4c92-a78e-40ab149d038c",
   "metadata": {},
   "outputs": [],
   "source": [
    "import time\n",
    "import pandas as pd\n",
    "import numpy as np\n",
    "\n",
    "from sklearn.model_selection import train_test_split\n",
    "from sklearn.feature_extraction.text import TfidfVectorizer\n",
    "from sklearn.decomposition import TruncatedSVD\n",
    "from sklearn.preprocessing import LabelEncoder\n",
    "from sklearn.linear_model import LogisticRegression\n",
    "from sklearn.metrics import accuracy_score, precision_recall_fscore_support, classification_report\n",
    "from sklearn.pipeline import make_pipeline\n",
    "\n",
    "import tensorflow as tf\n",
    "from tensorflow.keras import layers, models, callbacks"
   ]
  },
  {
   "cell_type": "markdown",
   "id": "5213c2db-ccfc-4e5b-a7e7-e4e67baf5d8c",
   "metadata": {},
   "source": [
    "## **Loading Dataset**"
   ]
  },
  {
   "cell_type": "code",
   "execution_count": 2,
   "id": "8fa7d9a8-7b12-44a6-8dba-1243867f44cd",
   "metadata": {},
   "outputs": [
    {
     "data": {
      "text/html": [
       "<div>\n",
       "<style scoped>\n",
       "    .dataframe tbody tr th:only-of-type {\n",
       "        vertical-align: middle;\n",
       "    }\n",
       "\n",
       "    .dataframe tbody tr th {\n",
       "        vertical-align: top;\n",
       "    }\n",
       "\n",
       "    .dataframe thead th {\n",
       "        text-align: right;\n",
       "    }\n",
       "</style>\n",
       "<table border=\"1\" class=\"dataframe\">\n",
       "  <thead>\n",
       "    <tr style=\"text-align: right;\">\n",
       "      <th></th>\n",
       "      <th>case_id</th>\n",
       "      <th>case_outcome</th>\n",
       "      <th>case_title</th>\n",
       "      <th>case_text</th>\n",
       "    </tr>\n",
       "  </thead>\n",
       "  <tbody>\n",
       "    <tr>\n",
       "      <th>0</th>\n",
       "      <td>Case1</td>\n",
       "      <td>cited</td>\n",
       "      <td>Alpine Hardwood (Aust) Pty Ltd v Hardys Pty Lt...</td>\n",
       "      <td>Ordinarily that discretion will be exercised s...</td>\n",
       "    </tr>\n",
       "    <tr>\n",
       "      <th>1</th>\n",
       "      <td>Case2</td>\n",
       "      <td>cited</td>\n",
       "      <td>Black v Lipovac [1998] FCA 699 ; (1998) 217 AL...</td>\n",
       "      <td>The general principles governing the exercise ...</td>\n",
       "    </tr>\n",
       "    <tr>\n",
       "      <th>2</th>\n",
       "      <td>Case3</td>\n",
       "      <td>cited</td>\n",
       "      <td>Colgate Palmolive Co v Cussons Pty Ltd (1993) ...</td>\n",
       "      <td>Ordinarily that discretion will be exercised s...</td>\n",
       "    </tr>\n",
       "    <tr>\n",
       "      <th>3</th>\n",
       "      <td>Case4</td>\n",
       "      <td>cited</td>\n",
       "      <td>Dais Studio Pty Ltd v Bullett Creative Pty Ltd...</td>\n",
       "      <td>The general principles governing the exercise ...</td>\n",
       "    </tr>\n",
       "    <tr>\n",
       "      <th>4</th>\n",
       "      <td>Case5</td>\n",
       "      <td>cited</td>\n",
       "      <td>Dr Martens Australia Pty Ltd v Figgins Holding...</td>\n",
       "      <td>The preceding general principles inform the ex...</td>\n",
       "    </tr>\n",
       "    <tr>\n",
       "      <th>...</th>\n",
       "      <td>...</td>\n",
       "      <td>...</td>\n",
       "      <td>...</td>\n",
       "      <td>...</td>\n",
       "    </tr>\n",
       "    <tr>\n",
       "      <th>24980</th>\n",
       "      <td>Case25203</td>\n",
       "      <td>cited</td>\n",
       "      <td>Reches Pty Ltd v Tadiran Pty Ltd (1998) 85 FCR...</td>\n",
       "      <td>That is not confined to persons who control th...</td>\n",
       "    </tr>\n",
       "    <tr>\n",
       "      <th>24981</th>\n",
       "      <td>Case25204</td>\n",
       "      <td>cited</td>\n",
       "      <td>Sir Lindsay Parkinson &amp;amp; Co Ltd v Triplan L...</td>\n",
       "      <td>Once the threshold prescribed by s 1335 is sat...</td>\n",
       "    </tr>\n",
       "    <tr>\n",
       "      <th>24982</th>\n",
       "      <td>Case25205</td>\n",
       "      <td>cited</td>\n",
       "      <td>Spiel v Commodity Brokers Australia Pty Ltd (I...</td>\n",
       "      <td>Once the threshold prescribed by s 1335 is sat...</td>\n",
       "    </tr>\n",
       "    <tr>\n",
       "      <th>24983</th>\n",
       "      <td>Case25206</td>\n",
       "      <td>distinguished</td>\n",
       "      <td>Tullock Ltd v Walker (Unreported, Supreme Cour...</td>\n",
       "      <td>Given the extent to which Deumer stands to gai...</td>\n",
       "    </tr>\n",
       "    <tr>\n",
       "      <th>24984</th>\n",
       "      <td>Case25207</td>\n",
       "      <td>distinguished</td>\n",
       "      <td>Yandil Holdings Pty Ltd v Insurance Co of Nort...</td>\n",
       "      <td>In my view, it is clear that the Court may do ...</td>\n",
       "    </tr>\n",
       "  </tbody>\n",
       "</table>\n",
       "<p>24985 rows × 4 columns</p>\n",
       "</div>"
      ],
      "text/plain": [
       "         case_id   case_outcome  \\\n",
       "0          Case1          cited   \n",
       "1          Case2          cited   \n",
       "2          Case3          cited   \n",
       "3          Case4          cited   \n",
       "4          Case5          cited   \n",
       "...          ...            ...   \n",
       "24980  Case25203          cited   \n",
       "24981  Case25204          cited   \n",
       "24982  Case25205          cited   \n",
       "24983  Case25206  distinguished   \n",
       "24984  Case25207  distinguished   \n",
       "\n",
       "                                              case_title  \\\n",
       "0      Alpine Hardwood (Aust) Pty Ltd v Hardys Pty Lt...   \n",
       "1      Black v Lipovac [1998] FCA 699 ; (1998) 217 AL...   \n",
       "2      Colgate Palmolive Co v Cussons Pty Ltd (1993) ...   \n",
       "3      Dais Studio Pty Ltd v Bullett Creative Pty Ltd...   \n",
       "4      Dr Martens Australia Pty Ltd v Figgins Holding...   \n",
       "...                                                  ...   \n",
       "24980  Reches Pty Ltd v Tadiran Pty Ltd (1998) 85 FCR...   \n",
       "24981  Sir Lindsay Parkinson &amp; Co Ltd v Triplan L...   \n",
       "24982  Spiel v Commodity Brokers Australia Pty Ltd (I...   \n",
       "24983  Tullock Ltd v Walker (Unreported, Supreme Cour...   \n",
       "24984  Yandil Holdings Pty Ltd v Insurance Co of Nort...   \n",
       "\n",
       "                                               case_text  \n",
       "0      Ordinarily that discretion will be exercised s...  \n",
       "1      The general principles governing the exercise ...  \n",
       "2      Ordinarily that discretion will be exercised s...  \n",
       "3      The general principles governing the exercise ...  \n",
       "4      The preceding general principles inform the ex...  \n",
       "...                                                  ...  \n",
       "24980  That is not confined to persons who control th...  \n",
       "24981  Once the threshold prescribed by s 1335 is sat...  \n",
       "24982  Once the threshold prescribed by s 1335 is sat...  \n",
       "24983  Given the extent to which Deumer stands to gai...  \n",
       "24984  In my view, it is clear that the Court may do ...  \n",
       "\n",
       "[24985 rows x 4 columns]"
      ]
     },
     "execution_count": 2,
     "metadata": {},
     "output_type": "execute_result"
    }
   ],
   "source": [
    "df =pd.read_csv (r\"C:\\Users\\bbuser\\Desktop\\legal_text_classification.csv\")\n",
    "df"
   ]
  },
  {
   "cell_type": "code",
   "execution_count": 3,
   "id": "12662bd1-8d5d-4501-8f44-e79d0c48f631",
   "metadata": {},
   "outputs": [
    {
     "data": {
      "text/plain": [
       "(24985, 4)"
      ]
     },
     "execution_count": 3,
     "metadata": {},
     "output_type": "execute_result"
    }
   ],
   "source": [
    "df.shape"
   ]
  },
  {
   "cell_type": "code",
   "execution_count": 4,
   "id": "68e9e57f-90ca-4cdb-b096-24383600b191",
   "metadata": {},
   "outputs": [
    {
     "data": {
      "text/plain": [
       "Index(['case_id', 'case_outcome', 'case_title', 'case_text'], dtype='object')"
      ]
     },
     "execution_count": 4,
     "metadata": {},
     "output_type": "execute_result"
    }
   ],
   "source": [
    "df.columns"
   ]
  },
  {
   "cell_type": "code",
   "execution_count": 5,
   "id": "d36bf348-efd9-4c98-a50d-ac7e2fa28c97",
   "metadata": {},
   "outputs": [
    {
     "data": {
      "text/html": [
       "<div>\n",
       "<style scoped>\n",
       "    .dataframe tbody tr th:only-of-type {\n",
       "        vertical-align: middle;\n",
       "    }\n",
       "\n",
       "    .dataframe tbody tr th {\n",
       "        vertical-align: top;\n",
       "    }\n",
       "\n",
       "    .dataframe thead th {\n",
       "        text-align: right;\n",
       "    }\n",
       "</style>\n",
       "<table border=\"1\" class=\"dataframe\">\n",
       "  <thead>\n",
       "    <tr style=\"text-align: right;\">\n",
       "      <th></th>\n",
       "      <th>case_id</th>\n",
       "      <th>case_outcome</th>\n",
       "      <th>case_title</th>\n",
       "      <th>case_text</th>\n",
       "    </tr>\n",
       "  </thead>\n",
       "  <tbody>\n",
       "    <tr>\n",
       "      <th>0</th>\n",
       "      <td>Case1</td>\n",
       "      <td>cited</td>\n",
       "      <td>Alpine Hardwood (Aust) Pty Ltd v Hardys Pty Lt...</td>\n",
       "      <td>Ordinarily that discretion will be exercised s...</td>\n",
       "    </tr>\n",
       "    <tr>\n",
       "      <th>1</th>\n",
       "      <td>Case2</td>\n",
       "      <td>cited</td>\n",
       "      <td>Black v Lipovac [1998] FCA 699 ; (1998) 217 AL...</td>\n",
       "      <td>The general principles governing the exercise ...</td>\n",
       "    </tr>\n",
       "    <tr>\n",
       "      <th>2</th>\n",
       "      <td>Case3</td>\n",
       "      <td>cited</td>\n",
       "      <td>Colgate Palmolive Co v Cussons Pty Ltd (1993) ...</td>\n",
       "      <td>Ordinarily that discretion will be exercised s...</td>\n",
       "    </tr>\n",
       "    <tr>\n",
       "      <th>3</th>\n",
       "      <td>Case4</td>\n",
       "      <td>cited</td>\n",
       "      <td>Dais Studio Pty Ltd v Bullett Creative Pty Ltd...</td>\n",
       "      <td>The general principles governing the exercise ...</td>\n",
       "    </tr>\n",
       "    <tr>\n",
       "      <th>4</th>\n",
       "      <td>Case5</td>\n",
       "      <td>cited</td>\n",
       "      <td>Dr Martens Australia Pty Ltd v Figgins Holding...</td>\n",
       "      <td>The preceding general principles inform the ex...</td>\n",
       "    </tr>\n",
       "  </tbody>\n",
       "</table>\n",
       "</div>"
      ],
      "text/plain": [
       "  case_id case_outcome                                         case_title  \\\n",
       "0   Case1        cited  Alpine Hardwood (Aust) Pty Ltd v Hardys Pty Lt...   \n",
       "1   Case2        cited  Black v Lipovac [1998] FCA 699 ; (1998) 217 AL...   \n",
       "2   Case3        cited  Colgate Palmolive Co v Cussons Pty Ltd (1993) ...   \n",
       "3   Case4        cited  Dais Studio Pty Ltd v Bullett Creative Pty Ltd...   \n",
       "4   Case5        cited  Dr Martens Australia Pty Ltd v Figgins Holding...   \n",
       "\n",
       "                                           case_text  \n",
       "0  Ordinarily that discretion will be exercised s...  \n",
       "1  The general principles governing the exercise ...  \n",
       "2  Ordinarily that discretion will be exercised s...  \n",
       "3  The general principles governing the exercise ...  \n",
       "4  The preceding general principles inform the ex...  "
      ]
     },
     "execution_count": 5,
     "metadata": {},
     "output_type": "execute_result"
    }
   ],
   "source": [
    "df.head()"
   ]
  },
  {
   "cell_type": "markdown",
   "id": "1f26d8e1-d6d7-48b3-82bf-3a664384b335",
   "metadata": {},
   "source": [
    "## **EDA**"
   ]
  },
  {
   "cell_type": "code",
   "execution_count": 6,
   "id": "ee18b1c0-579a-45a5-9ef7-ca60d43e6fbe",
   "metadata": {},
   "outputs": [
    {
     "data": {
      "text/plain": [
       "case_id           0\n",
       "case_outcome      0\n",
       "case_title        0\n",
       "case_text       176\n",
       "dtype: int64"
      ]
     },
     "execution_count": 6,
     "metadata": {},
     "output_type": "execute_result"
    }
   ],
   "source": [
    "# Check for missing values\n",
    "df.isnull().sum()"
   ]
  },
  {
   "cell_type": "code",
   "execution_count": 7,
   "id": "e10ea00a-c317-4eea-907c-2de54a46d0e5",
   "metadata": {},
   "outputs": [],
   "source": [
    "# Drop rows missing text or outcome\n",
    "df = df.dropna(subset=['case_text', 'case_outcome'])"
   ]
  },
  {
   "cell_type": "code",
   "execution_count": 8,
   "id": "1ee22cbb-c798-49dc-8812-48088f97f709",
   "metadata": {},
   "outputs": [
    {
     "name": "stdout",
     "output_type": "stream",
     "text": [
      "\n",
      "Class distribution:\n",
      "case_outcome\n",
      "cited            12110\n",
      "referred to       4363\n",
      "applied           2438\n",
      "followed          2252\n",
      "considered        1699\n",
      "discussed         1018\n",
      "distinguished      603\n",
      "related            112\n",
      "approved           108\n",
      "affirmed           106\n",
      "Name: count, dtype: int64\n"
     ]
    }
   ],
   "source": [
    "# Basic info about target classes\n",
    "print(\"\\nClass distribution:\")\n",
    "print(df['case_outcome'].value_counts())"
   ]
  },
  {
   "cell_type": "code",
   "execution_count": 9,
   "id": "a5ed1d60-ed91-4263-83f4-7fcf33d5df08",
   "metadata": {},
   "outputs": [
    {
     "name": "stdout",
     "output_type": "stream",
     "text": [
      "\n",
      "Average text length: 454.9097908017252\n"
     ]
    },
    {
     "name": "stderr",
     "output_type": "stream",
     "text": [
      "C:\\Users\\bbuser\\AppData\\Local\\Temp\\ipykernel_7504\\2842369191.py:2: SettingWithCopyWarning: \n",
      "A value is trying to be set on a copy of a slice from a DataFrame.\n",
      "Try using .loc[row_indexer,col_indexer] = value instead\n",
      "\n",
      "See the caveats in the documentation: https://pandas.pydata.org/pandas-docs/stable/user_guide/indexing.html#returning-a-view-versus-a-copy\n",
      "  df['text_length'] = df['case_text'].apply(lambda x: len(str(x).split()))\n"
     ]
    }
   ],
   "source": [
    "# Simple text length analysis\n",
    "df['text_length'] = df['case_text'].apply(lambda x: len(str(x).split()))\n",
    "print(\"\\nAverage text length:\", df['text_length'].mean())"
   ]
  },
  {
   "cell_type": "code",
   "execution_count": 10,
   "id": "c1fc43e0-c919-4b5b-94e8-ce5191ac162e",
   "metadata": {},
   "outputs": [
    {
     "data": {
      "image/png": "[encoded data removed]",
      "text/plain": [
       "<Figure size 640x480 with 1 Axes>"
      ]
     },
     "metadata": {},
     "output_type": "display_data"
    }
   ],
   "source": [
    "# Visualize class distribution (optional)\n",
    "import matplotlib.pyplot as plt\n",
    "df['case_outcome'].value_counts().plot(kind='bar', title='Class Distribution')\n",
    "plt.show()"
   ]
  },
  {
   "cell_type": "markdown",
   "id": "8ba61ec7-1de9-4880-9142-0c7cd668e86c",
   "metadata": {},
   "source": [
    "## **Text preprocessing**"
   ]
  },
  {
   "cell_type": "code",
   "execution_count": 11,
   "id": "4d7b7201-915f-4b14-95f6-3ae25c78fcdd",
   "metadata": {},
   "outputs": [
    {
     "name": "stderr",
     "output_type": "stream",
     "text": [
      "[nltk_data] Downloading package stopwords to\n",
      "[nltk_data]     C:\\Users\\bbuser\\AppData\\Roaming\\nltk_data...\n",
      "[nltk_data]   Package stopwords is already up-to-date!\n",
      "C:\\Users\\bbuser\\AppData\\Local\\Temp\\ipykernel_7504\\2122747182.py:14: SettingWithCopyWarning: \n",
      "A value is trying to be set on a copy of a slice from a DataFrame.\n",
      "Try using .loc[row_indexer,col_indexer] = value instead\n",
      "\n",
      "See the caveats in the documentation: https://pandas.pydata.org/pandas-docs/stable/user_guide/indexing.html#returning-a-view-versus-a-copy\n",
      "  df['clean_text'] = df['case_text'].apply(clean_text)\n"
     ]
    },
    {
     "data": {
      "text/html": [
       "<div>\n",
       "<style scoped>\n",
       "    .dataframe tbody tr th:only-of-type {\n",
       "        vertical-align: middle;\n",
       "    }\n",
       "\n",
       "    .dataframe tbody tr th {\n",
       "        vertical-align: top;\n",
       "    }\n",
       "\n",
       "    .dataframe thead th {\n",
       "        text-align: right;\n",
       "    }\n",
       "</style>\n",
       "<table border=\"1\" class=\"dataframe\">\n",
       "  <thead>\n",
       "    <tr style=\"text-align: right;\">\n",
       "      <th></th>\n",
       "      <th>case_text</th>\n",
       "      <th>clean_text</th>\n",
       "    </tr>\n",
       "  </thead>\n",
       "  <tbody>\n",
       "    <tr>\n",
       "      <th>0</th>\n",
       "      <td>Ordinarily that discretion will be exercised s...</td>\n",
       "      <td>ordinarily discretion exercised costs follow e...</td>\n",
       "    </tr>\n",
       "    <tr>\n",
       "      <th>1</th>\n",
       "      <td>The general principles governing the exercise ...</td>\n",
       "      <td>general principles governing exercise discreti...</td>\n",
       "    </tr>\n",
       "    <tr>\n",
       "      <th>2</th>\n",
       "      <td>Ordinarily that discretion will be exercised s...</td>\n",
       "      <td>ordinarily discretion exercised costs follow e...</td>\n",
       "    </tr>\n",
       "    <tr>\n",
       "      <th>3</th>\n",
       "      <td>The general principles governing the exercise ...</td>\n",
       "      <td>general principles governing exercise discreti...</td>\n",
       "    </tr>\n",
       "    <tr>\n",
       "      <th>4</th>\n",
       "      <td>The preceding general principles inform the ex...</td>\n",
       "      <td>preceding general principles inform exercise d...</td>\n",
       "    </tr>\n",
       "  </tbody>\n",
       "</table>\n",
       "</div>"
      ],
      "text/plain": [
       "                                           case_text  \\\n",
       "0  Ordinarily that discretion will be exercised s...   \n",
       "1  The general principles governing the exercise ...   \n",
       "2  Ordinarily that discretion will be exercised s...   \n",
       "3  The general principles governing the exercise ...   \n",
       "4  The preceding general principles inform the ex...   \n",
       "\n",
       "                                          clean_text  \n",
       "0  ordinarily discretion exercised costs follow e...  \n",
       "1  general principles governing exercise discreti...  \n",
       "2  ordinarily discretion exercised costs follow e...  \n",
       "3  general principles governing exercise discreti...  \n",
       "4  preceding general principles inform exercise d...  "
      ]
     },
     "execution_count": 11,
     "metadata": {},
     "output_type": "execute_result"
    }
   ],
   "source": [
    "import re\n",
    "from nltk.corpus import stopwords\n",
    "import nltk\n",
    "nltk.download('stopwords')\n",
    "\n",
    "stop_words = set(stopwords.words('english'))\n",
    "\n",
    "def clean_text(text):\n",
    "    text = text.lower()                            # lowercase\n",
    "    text = re.sub(r'[^a-z\\s]', '', text)           # remove punctuation and numbers\n",
    "    text = ' '.join([w for w in text.split() if w not in stop_words])  # remove stopwords\n",
    "    return text\n",
    "\n",
    "df['clean_text'] = df['case_text'].apply(clean_text)\n",
    "df[['case_text', 'clean_text']].head()\n"
   ]
  },
  {
   "cell_type": "markdown",
   "id": "41043276-f1af-4ad9-9c5b-235868bdc286",
   "metadata": {},
   "source": [
    "## **Vectorize text with TF-IDF**"
   ]
  },
  {
   "cell_type": "code",
   "execution_count": 12,
   "id": "438fa5b9-1218-4c96-bd36-4485aec50893",
   "metadata": {},
   "outputs": [
    {
     "name": "stdout",
     "output_type": "stream",
     "text": [
      "TF-IDF matrix shape: (24809, 50000)\n"
     ]
    }
   ],
   "source": [
    "from sklearn.feature_extraction.text import TfidfVectorizer\n",
    "\n",
    "tfidf = TfidfVectorizer(max_features=50000, ngram_range=(1, 2), min_df=3)\n",
    "X = tfidf.fit_transform(df['clean_text'])\n",
    "y = df['case_outcome'].values\n",
    "\n",
    "print(\"TF-IDF matrix shape:\", X.shape)"
   ]
  },
  {
   "cell_type": "markdown",
   "id": "ab920ce3-a87c-4b35-adf3-977fa3372c8c",
   "metadata": {},
   "source": [
    "## **Split into train / validation / test**"
   ]
  },
  {
   "cell_type": "code",
   "execution_count": 13,
   "id": "3d939728-311e-4335-b3aa-6901e97f2506",
   "metadata": {},
   "outputs": [
    {
     "name": "stdout",
     "output_type": "stream",
     "text": [
      "Train size: 17366\n",
      "Validation size: 3721\n",
      "Test size: 3722\n",
      "Classes: ['affirmed' 'applied' 'approved' 'cited' 'considered' 'discussed'\n",
      " 'distinguished' 'followed' 'referred to' 'related']\n"
     ]
    }
   ],
   "source": [
    "from sklearn.model_selection import train_test_split\n",
    "from sklearn.preprocessing import LabelEncoder\n",
    "\n",
    "# Encode target labels\n",
    "le = LabelEncoder()\n",
    "y_encoded = le.fit_transform(y)\n",
    "\n",
    "# Train / validation / test split (70/15/15)\n",
    "X_train, X_temp, y_train, y_temp = train_test_split(X, y_encoded, test_size=0.3, random_state=42, stratify=y_encoded)\n",
    "X_val, X_test, y_val, y_test = train_test_split(X_temp, y_temp, test_size=0.5, random_state=42, stratify=y_temp)\n",
    "\n",
    "print(\"Train size:\", X_train.shape[0])\n",
    "print(\"Validation size:\", X_val.shape[0])\n",
    "print(\"Test size:\", X_test.shape[0])\n",
    "print(\"Classes:\", le.classes_)"
   ]
  },
  {
   "cell_type": "markdown",
   "id": "ed260a4a-d654-4eee-beee-ffc42ae76c28",
   "metadata": {},
   "source": [
    "## **Train a classical model (Logistic Regression)**"
   ]
  },
  {
   "cell_type": "code",
   "execution_count": 14,
   "id": "0151fd65-9ffe-4fe2-bd6e-2ef7c9f1c804",
   "metadata": {},
   "outputs": [
    {
     "name": "stdout",
     "output_type": "stream",
     "text": [
      "Training time (Logistic Regression): 38.96s\n",
      "Test Accuracy: 0.5591\n",
      "Precision: 0.5714, Recall: 0.5591, F1: 0.4727\n",
      "\n",
      "Classification Report:\n",
      "                precision    recall  f1-score   support\n",
      "\n",
      "     affirmed       0.75      0.38      0.50        16\n",
      "      applied       0.48      0.12      0.19       366\n",
      "     approved       0.00      0.00      0.00        16\n",
      "        cited       0.55      0.95      0.70      1817\n",
      "   considered       0.46      0.05      0.09       255\n",
      "    discussed       0.55      0.04      0.07       152\n",
      "distinguished       1.00      0.01      0.02        90\n",
      "     followed       0.66      0.12      0.21       338\n",
      "  referred to       0.62      0.37      0.46       655\n",
      "      related       1.00      0.06      0.11        17\n",
      "\n",
      "     accuracy                           0.56      3722\n",
      "    macro avg       0.61      0.21      0.24      3722\n",
      " weighted avg       0.57      0.56      0.47      3722\n",
      "\n"
     ]
    }
   ],
   "source": [
    "from sklearn.linear_model import LogisticRegression\n",
    "from sklearn.metrics import accuracy_score, precision_recall_fscore_support, classification_report\n",
    "import time\n",
    "\n",
    "clf = LogisticRegression(max_iter=200, solver='saga', n_jobs=-1)\n",
    "\n",
    "t0 = time.time()\n",
    "clf.fit(X_train, y_train)\n",
    "t1 = time.time()\n",
    "\n",
    "train_time_clf = t1 - t0\n",
    "print(f\"Training time (Logistic Regression): {train_time_clf:.2f}s\")\n",
    "\n",
    "# Evaluate performance\n",
    "y_pred_test = clf.predict(X_test)\n",
    "acc = accuracy_score(y_test, y_pred_test)\n",
    "prec, rec, f1, _ = precision_recall_fscore_support(y_test, y_pred_test, average='weighted', zero_division=0)\n",
    "\n",
    "print(f\"Test Accuracy: {acc:.4f}\")\n",
    "print(f\"Precision: {prec:.4f}, Recall: {rec:.4f}, F1: {f1:.4f}\")\n",
    "print(\"\\nClassification Report:\\n\", classification_report(y_test, y_pred_test, target_names=le.classes_, zero_division=0))"
   ]
  },
  {
   "cell_type": "markdown",
   "id": "c6c88b15-d6bb-4775-9544-aa50053d7840",
   "metadata": {},
   "source": [
    "## **Train Neural Network (Feed-forward MLP with TruncatedSVD)**"
   ]
  },
  {
   "cell_type": "code",
   "execution_count": 15,
   "id": "e670163a-8a97-49c7-a1c3-0dad8e142d25",
   "metadata": {},
   "outputs": [
    {
     "name": "stdout",
     "output_type": "stream",
     "text": [
      "Reduced feature shape: (17366, 300)\n"
     ]
    },
    {
     "name": "stderr",
     "output_type": "stream",
     "text": [
      "C:\\Users\\bbuser\\anaconda3\\Lib\\site-packages\\keras\\src\\layers\\core\\dense.py:92: UserWarning: Do not pass an `input_shape`/`input_dim` argument to a layer. When using Sequential models, prefer using an `Input(shape)` object as the first layer in the model instead.\n",
      "  super().__init__(activity_regularizer=activity_regularizer, **kwargs)\n"
     ]
    },
    {
     "data": {
      "text/html": [
       "<pre style=\"white-space:pre;overflow-x:auto;line-height:normal;font-family:Menlo,'DejaVu Sans Mono',consolas,'Courier New',monospace\"><span style=\"font-weight: bold\">Model: \"sequential\"</span>\n",
       "</pre>\n"
      ],
      "text/plain": [
       "\u001b[1mModel: \"sequential\"\u001b[0m\n"
      ]
     },
     "metadata": {},
     "output_type": "display_data"
    },
    {
     "data": {
      "text/html": [
       "<pre style=\"white-space:pre;overflow-x:auto;line-height:normal;font-family:Menlo,'DejaVu Sans Mono',consolas,'Courier New',monospace\">┏━━━━━━━━━━━━━━━━━━━━━━━━━━━━━━━━━━━━━━┳━━━━━━━━━━━━━━━━━━━━━━━━━━━━━┳━━━━━━━━━━━━━━━━━┓\n",
       "┃<span style=\"font-weight: bold\"> Layer (type)                         </span>┃<span style=\"font-weight: bold\"> Output Shape                </span>┃<span style=\"font-weight: bold\">         Param # </span>┃\n",
       "┡━━━━━━━━━━━━━━━━━━━━━━━━━━━━━━━━━━━━━━╇━━━━━━━━━━━━━━━━━━━━━━━━━━━━━╇━━━━━━━━━━━━━━━━━┩\n",
       "│ dense (<span style=\"color: #0087ff; text-decoration-color: #0087ff\">Dense</span>)                        │ (<span style=\"color: #00d7ff; text-decoration-color: #00d7ff\">None</span>, <span style=\"color: #00af00; text-decoration-color: #00af00\">256</span>)                 │          <span style=\"color: #00af00; text-decoration-color: #00af00\">77,056</span> │\n",
       "├──────────────────────────────────────┼─────────────────────────────┼─────────────────┤\n",
       "│ dropout (<span style=\"color: #0087ff; text-decoration-color: #0087ff\">Dropout</span>)                    │ (<span style=\"color: #00d7ff; text-decoration-color: #00d7ff\">None</span>, <span style=\"color: #00af00; text-decoration-color: #00af00\">256</span>)                 │               <span style=\"color: #00af00; text-decoration-color: #00af00\">0</span> │\n",
       "├──────────────────────────────────────┼─────────────────────────────┼─────────────────┤\n",
       "│ dense_1 (<span style=\"color: #0087ff; text-decoration-color: #0087ff\">Dense</span>)                      │ (<span style=\"color: #00d7ff; text-decoration-color: #00d7ff\">None</span>, <span style=\"color: #00af00; text-decoration-color: #00af00\">128</span>)                 │          <span style=\"color: #00af00; text-decoration-color: #00af00\">32,896</span> │\n",
       "├──────────────────────────────────────┼─────────────────────────────┼─────────────────┤\n",
       "│ dropout_1 (<span style=\"color: #0087ff; text-decoration-color: #0087ff\">Dropout</span>)                  │ (<span style=\"color: #00d7ff; text-decoration-color: #00d7ff\">None</span>, <span style=\"color: #00af00; text-decoration-color: #00af00\">128</span>)                 │               <span style=\"color: #00af00; text-decoration-color: #00af00\">0</span> │\n",
       "├──────────────────────────────────────┼─────────────────────────────┼─────────────────┤\n",
       "│ dense_2 (<span style=\"color: #0087ff; text-decoration-color: #0087ff\">Dense</span>)                      │ (<span style=\"color: #00d7ff; text-decoration-color: #00d7ff\">None</span>, <span style=\"color: #00af00; text-decoration-color: #00af00\">10</span>)                  │           <span style=\"color: #00af00; text-decoration-color: #00af00\">1,290</span> │\n",
       "└──────────────────────────────────────┴─────────────────────────────┴─────────────────┘\n",
       "</pre>\n"
      ],
      "text/plain": [
       "┏━━━━━━━━━━━━━━━━━━━━━━━━━━━━━━━━━━━━━━┳━━━━━━━━━━━━━━━━━━━━━━━━━━━━━┳━━━━━━━━━━━━━━━━━┓\n",
       "┃\u001b[1m \u001b[0m\u001b[1mLayer (type)                        \u001b[0m\u001b[1m \u001b[0m┃\u001b[1m \u001b[0m\u001b[1mOutput Shape               \u001b[0m\u001b[1m \u001b[0m┃\u001b[1m \u001b[0m\u001b[1m        Param #\u001b[0m\u001b[1m \u001b[0m┃\n",
       "┡━━━━━━━━━━━━━━━━━━━━━━━━━━━━━━━━━━━━━━╇━━━━━━━━━━━━━━━━━━━━━━━━━━━━━╇━━━━━━━━━━━━━━━━━┩\n",
       "│ dense (\u001b[38;5;33mDense\u001b[0m)                        │ (\u001b[38;5;45mNone\u001b[0m, \u001b[38;5;34m256\u001b[0m)                 │          \u001b[38;5;34m77,056\u001b[0m │\n",
       "├──────────────────────────────────────┼─────────────────────────────┼─────────────────┤\n",
       "│ dropout (\u001b[38;5;33mDropout\u001b[0m)                    │ (\u001b[38;5;45mNone\u001b[0m, \u001b[38;5;34m256\u001b[0m)                 │               \u001b[38;5;34m0\u001b[0m │\n",
       "├──────────────────────────────────────┼─────────────────────────────┼─────────────────┤\n",
       "│ dense_1 (\u001b[38;5;33mDense\u001b[0m)                      │ (\u001b[38;5;45mNone\u001b[0m, \u001b[38;5;34m128\u001b[0m)                 │          \u001b[38;5;34m32,896\u001b[0m │\n",
       "├──────────────────────────────────────┼─────────────────────────────┼─────────────────┤\n",
       "│ dropout_1 (\u001b[38;5;33mDropout\u001b[0m)                  │ (\u001b[38;5;45mNone\u001b[0m, \u001b[38;5;34m128\u001b[0m)                 │               \u001b[38;5;34m0\u001b[0m │\n",
       "├──────────────────────────────────────┼─────────────────────────────┼─────────────────┤\n",
       "│ dense_2 (\u001b[38;5;33mDense\u001b[0m)                      │ (\u001b[38;5;45mNone\u001b[0m, \u001b[38;5;34m10\u001b[0m)                  │           \u001b[38;5;34m1,290\u001b[0m │\n",
       "└──────────────────────────────────────┴─────────────────────────────┴─────────────────┘\n"
      ]
     },
     "metadata": {},
     "output_type": "display_data"
    },
    {
     "data": {
      "text/html": [
       "<pre style=\"white-space:pre;overflow-x:auto;line-height:normal;font-family:Menlo,'DejaVu Sans Mono',consolas,'Courier New',monospace\"><span style=\"font-weight: bold\"> Total params: </span><span style=\"color: #00af00; text-decoration-color: #00af00\">111,242</span> (434.54 KB)\n",
       "</pre>\n"
      ],
      "text/plain": [
       "\u001b[1m Total params: \u001b[0m\u001b[38;5;34m111,242\u001b[0m (434.54 KB)\n"
      ]
     },
     "metadata": {},
     "output_type": "display_data"
    },
    {
     "data": {
      "text/html": [
       "<pre style=\"white-space:pre;overflow-x:auto;line-height:normal;font-family:Menlo,'DejaVu Sans Mono',consolas,'Courier New',monospace\"><span style=\"font-weight: bold\"> Trainable params: </span><span style=\"color: #00af00; text-decoration-color: #00af00\">111,242</span> (434.54 KB)\n",
       "</pre>\n"
      ],
      "text/plain": [
       "\u001b[1m Trainable params: \u001b[0m\u001b[38;5;34m111,242\u001b[0m (434.54 KB)\n"
      ]
     },
     "metadata": {},
     "output_type": "display_data"
    },
    {
     "data": {
      "text/html": [
       "<pre style=\"white-space:pre;overflow-x:auto;line-height:normal;font-family:Menlo,'DejaVu Sans Mono',consolas,'Courier New',monospace\"><span style=\"font-weight: bold\"> Non-trainable params: </span><span style=\"color: #00af00; text-decoration-color: #00af00\">0</span> (0.00 B)\n",
       "</pre>\n"
      ],
      "text/plain": [
       "\u001b[1m Non-trainable params: \u001b[0m\u001b[38;5;34m0\u001b[0m (0.00 B)\n"
      ]
     },
     "metadata": {},
     "output_type": "display_data"
    },
    {
     "name": "stdout",
     "output_type": "stream",
     "text": [
      "Epoch 1/20\n",
      "272/272 - 9s - 32ms/step - accuracy: 0.4832 - loss: 1.6151 - val_accuracy: 0.4899 - val_loss: 1.5093\n",
      "Epoch 2/20\n",
      "272/272 - 4s - 15ms/step - accuracy: 0.4976 - loss: 1.4695 - val_accuracy: 0.4996 - val_loss: 1.4540\n",
      "Epoch 3/20\n",
      "272/272 - 5s - 19ms/step - accuracy: 0.5077 - loss: 1.4072 - val_accuracy: 0.5063 - val_loss: 1.4331\n",
      "Epoch 4/20\n",
      "272/272 - 5s - 20ms/step - accuracy: 0.5168 - loss: 1.3614 - val_accuracy: 0.5069 - val_loss: 1.4123\n",
      "Epoch 5/20\n",
      "272/272 - 5s - 19ms/step - accuracy: 0.5307 - loss: 1.3125 - val_accuracy: 0.5141 - val_loss: 1.3921\n",
      "Epoch 6/20\n",
      "272/272 - 5s - 20ms/step - accuracy: 0.5443 - loss: 1.2672 - val_accuracy: 0.5138 - val_loss: 1.3872\n",
      "Epoch 7/20\n",
      "272/272 - 4s - 14ms/step - accuracy: 0.5627 - loss: 1.2229 - val_accuracy: 0.5251 - val_loss: 1.3653\n",
      "Epoch 8/20\n",
      "272/272 - 5s - 20ms/step - accuracy: 0.5785 - loss: 1.1761 - val_accuracy: 0.5318 - val_loss: 1.3496\n",
      "Epoch 9/20\n",
      "272/272 - 4s - 14ms/step - accuracy: 0.5955 - loss: 1.1351 - val_accuracy: 0.5251 - val_loss: 1.3448\n",
      "Epoch 10/20\n",
      "272/272 - 5s - 19ms/step - accuracy: 0.6113 - loss: 1.0903 - val_accuracy: 0.5305 - val_loss: 1.3408\n",
      "Epoch 11/20\n",
      "272/272 - 5s - 19ms/step - accuracy: 0.6268 - loss: 1.0480 - val_accuracy: 0.5284 - val_loss: 1.3363\n",
      "Epoch 12/20\n",
      "272/272 - 4s - 14ms/step - accuracy: 0.6354 - loss: 1.0168 - val_accuracy: 0.5189 - val_loss: 1.3485\n",
      "Epoch 13/20\n",
      "272/272 - 4s - 14ms/step - accuracy: 0.6551 - loss: 0.9713 - val_accuracy: 0.5327 - val_loss: 1.3385\n",
      "Epoch 14/20\n",
      "272/272 - 5s - 19ms/step - accuracy: 0.6718 - loss: 0.9338 - val_accuracy: 0.5348 - val_loss: 1.3419\n",
      "Epoch 14: early stopping\n",
      "Restoring model weights from the end of the best epoch: 11.\n",
      "Training time (Neural Net): 71.81s\n",
      "\u001b[1m117/117\u001b[0m \u001b[32m━━━━━━━━━━━━━━━━━━━━\u001b[0m\u001b[37m\u001b[0m \u001b[1m1s\u001b[0m 6ms/step   \n",
      "Test Accuracy: 0.5422\n",
      "Precision: 0.4982, Recall: 0.5422, F1: 0.5031\n"
     ]
    }
   ],
   "source": [
    "from sklearn.decomposition import TruncatedSVD\n",
    "import tensorflow as tf\n",
    "from tensorflow.keras import layers, models, callbacks\n",
    "\n",
    "# Dimensionality reduction (TF-IDF → 300 components)\n",
    "svd = TruncatedSVD(n_components=300, random_state=42)\n",
    "X_train_svd = svd.fit_transform(X_train)\n",
    "X_val_svd = svd.transform(X_val)\n",
    "X_test_svd = svd.transform(X_test)\n",
    "\n",
    "print(\"Reduced feature shape:\", X_train_svd.shape)\n",
    "\n",
    "# Define simple MLP model\n",
    "num_classes = len(le.classes_)\n",
    "\n",
    "def build_mlp(input_dim, num_classes):\n",
    "    model = models.Sequential()\n",
    "    model.add(layers.Dense(256, activation='relu', input_shape=(input_dim,)))\n",
    "    model.add(layers.Dropout(0.3))\n",
    "    model.add(layers.Dense(128, activation='relu'))\n",
    "    model.add(layers.Dropout(0.3))\n",
    "    if num_classes == 2:\n",
    "        model.add(layers.Dense(1, activation='sigmoid'))\n",
    "        loss = 'binary_crossentropy'\n",
    "    else:\n",
    "        model.add(layers.Dense(num_classes, activation='softmax'))\n",
    "        loss = 'sparse_categorical_crossentropy'\n",
    "    model.compile(optimizer='adam', loss=loss, metrics=['accuracy'])\n",
    "    return model\n",
    "\n",
    "mlp = build_mlp(X_train_svd.shape[1], num_classes)\n",
    "mlp.summary()\n",
    "\n",
    "# Train model with early stopping\n",
    "es = callbacks.EarlyStopping(monitor='val_loss', patience=3, restore_best_weights=True, verbose=1)\n",
    "\n",
    "t0 = time.time()\n",
    "history = mlp.fit(X_train_svd, y_train,\n",
    "                  validation_data=(X_val_svd, y_val),\n",
    "                  epochs=20, batch_size=64,\n",
    "                  callbacks=[es], verbose=2)\n",
    "t1 = time.time()\n",
    "\n",
    "train_time_nn = t1 - t0\n",
    "print(f\"Training time (Neural Net): {train_time_nn:.2f}s\")\n",
    "\n",
    "# Evaluate on test\n",
    "if num_classes == 2:\n",
    "    preds = (mlp.predict(X_test_svd) > 0.5).astype(int)\n",
    "else:\n",
    "    preds = mlp.predict(X_test_svd).argmax(axis=1)\n",
    "\n",
    "acc_nn = accuracy_score(y_test, preds)\n",
    "prec_nn, rec_nn, f1_nn, _ = precision_recall_fscore_support(y_test, preds, average='weighted', zero_division=0)\n",
    "\n",
    "print(f\"Test Accuracy: {acc_nn:.4f}\")\n",
    "print(f\"Precision: {prec_nn:.4f}, Recall: {rec_nn:.4f}, F1: {f1_nn:.4f}\")"
   ]
  },
  {
   "cell_type": "markdown",
   "id": "9a57ec11-57ea-4e56-aa82-5b29987853cf",
   "metadata": {},
   "source": [
    "## **Compare Results & Discuss**"
   ]
  },
  {
   "cell_type": "code",
   "execution_count": 16,
   "id": "54a9fb96-1ef5-497a-aea5-ea54ad92449b",
   "metadata": {},
   "outputs": [
    {
     "name": "stdout",
     "output_type": "stream",
     "text": [
      "\n",
      "===== SUMMARY =====\n",
      "Logistic Regression -> Accuracy: 0.5591, F1: 0.4727, Training time: 38.96s\n",
      "Neural Network      -> Accuracy: 0.5422, F1: 0.5031, Training time: 71.81s\n",
      "\n",
      "Classical ML performed better.\n",
      "\n",
      "📝 Reflection:\n",
      "- Logistic Regression trains faster because it’s a convex optimization problem with fewer parameters.\n",
      "- The Neural Network needs dimensionality reduction and more computation time.\n",
      "- If the dataset is small, classical ML often generalizes better.\n",
      "- With more data or deeper architectures, NNs might surpass classical ML.\n",
      "\n"
     ]
    }
   ],
   "source": [
    "print(\"\\n===== SUMMARY =====\")\n",
    "print(f\"Logistic Regression -> Accuracy: {acc:.4f}, F1: {f1:.4f}, Training time: {train_time_clf:.2f}s\")\n",
    "print(f\"Neural Network      -> Accuracy: {acc_nn:.4f}, F1: {f1_nn:.4f}, Training time: {train_time_nn:.2f}s\")\n",
    "\n",
    "if acc > acc_nn:\n",
    "    print(\"\\nClassical ML performed better.\")\n",
    "else:\n",
    "    print(\"\\nNeural Network performed better.\")\n",
    "\n",
    "print(\"\"\"\n",
    "📝 Reflection:\n",
    "- Logistic Regression trains faster because it’s a convex optimization problem with fewer parameters.\n",
    "- The Neural Network needs dimensionality reduction and more computation time.\n",
    "- If the dataset is small, classical ML often generalizes better.\n",
    "- With more data or deeper architectures, NNs might surpass classical ML.\n",
    "\"\"\")"
   ]
  }
 ],
 "metadata": {
  "kernelspec": {
   "display_name": "Python [conda env:base] *",
   "language": "python",
   "name": "conda-base-py"
  },
  "language_info": {
   "codemirror_mode": {
    "name": "ipython",
    "version": 3
   },
   "file_extension": ".py",
   "mimetype": "text/x-python",
   "name": "python",
   "nbconvert_exporter": "python",
   "pygments_lexer": "ipython3",
   "version": "3.13.5"
  }
 },
 "nbformat": 4,
 "nbformat_minor": 5
}
