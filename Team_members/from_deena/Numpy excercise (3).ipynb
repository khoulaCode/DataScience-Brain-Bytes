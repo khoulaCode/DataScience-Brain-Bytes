{
 "cells": [
  {
   "cell_type": "markdown",
   "id": "5b05e138-62ca-4418-98eb-b29ef67e9952",
   "metadata": {},
   "source": [
    "# Numpy Excercise"
   ]
  },
  {
   "cell_type": "markdown",
   "id": "65ddeb3b-c989-4874-91b6-013d66bf72ac",
   "metadata": {},
   "source": []
  },
  {
   "cell_type": "code",
   "execution_count": 45,
   "id": "a39a0ab6-1a06-48e0-9abf-a1b21e000df2",
   "metadata": {},
   "outputs": [],
   "source": [
    "import numpy as np"
   ]
  },
  {
   "cell_type": "markdown",
   "id": "409e0de6-7907-4e0c-899d-b3f1a088a743",
   "metadata": {},
   "source": [
    "# Part 1"
   ]
  },
  {
   "cell_type": "markdown",
   "id": "8d55b2a1-6daf-4663-ad2b-679cbfe74254",
   "metadata": {},
   "source": [
    "### Array Creation and Properties"
   ]
  },
  {
   "cell_type": "markdown",
   "id": "128498af-ee36-4f30-af3d-028740dcae89",
   "metadata": {},
   "source": [
    "**Question 1: Create a 1D array named arr1d with integers from 0 to 9**"
   ]
  },
  {
   "cell_type": "code",
   "execution_count": 28,
   "id": "6827e70b-a572-43c5-be9d-297134fa8a93",
   "metadata": {},
   "outputs": [
    {
     "data": {
      "text/plain": [
       "array([0, 1, 2, 3, 4, 5, 6, 7, 8, 9])"
      ]
     },
     "execution_count": 28,
     "metadata": {},
     "output_type": "execute_result"
    }
   ],
   "source": [
    "arr1d = np.arange (0,10)\n",
    "arr1d"
   ]
  },
  {
   "cell_type": "markdown",
   "id": "813ae524-c4e0-46f7-8474-0844eb8960ad",
   "metadata": {},
   "source": [
    "**Question 2: Create a 2D array named arr2d with shape (3, 3) filled with ones**"
   ]
  },
  {
   "cell_type": "code",
   "execution_count": 31,
   "id": "f4a47f79-0bbf-4d74-87e1-d92d29f5cc02",
   "metadata": {},
   "outputs": [
    {
     "data": {
      "text/plain": [
       "array([[1., 1., 1.],\n",
       "       [1., 1., 1.],\n",
       "       [1., 1., 1.]])"
      ]
     },
     "execution_count": 31,
     "metadata": {},
     "output_type": "execute_result"
    }
   ],
   "source": [
    "arr2d = np.ones((3,3))\n",
    "arr2d"
   ]
  },
  {
   "cell_type": "markdown",
   "id": "636218ca-07d1-4ee4-b06c-441aa7336965",
   "metadata": {},
   "source": [
    "**Question 3: Create a 3x3 array named random_matrix with random floating-point numbers from a standard normal distribution**"
   ]
  },
  {
   "cell_type": "code",
   "execution_count": 36,
   "id": "d6e00367-33b8-4461-b5c3-691a7c0286cd",
   "metadata": {},
   "outputs": [
    {
     "data": {
      "text/plain": [
       "array([[0.58005324, 0.33344649, 0.71635006],\n",
       "       [0.42387681, 0.64176544, 0.8785958 ],\n",
       "       [0.97213272, 0.47995574, 0.18804675]])"
      ]
     },
     "execution_count": 36,
     "metadata": {},
     "output_type": "execute_result"
    }
   ],
   "source": [
    "random_matrix =np.random.rand(3,3)\n",
    "random_matrix"
   ]
  },
  {
   "cell_type": "markdown",
   "id": "4fc85c5e-4ce0-45f7-b5be-e08342217811",
   "metadata": {},
   "source": [
    "**Question 4: Create an array named even_numbers containing even numbers from 10 to 50 (inclusive)**"
   ]
  },
  {
   "cell_type": "code",
   "execution_count": 38,
   "id": "7bdf948c-56ce-4f08-911f-112b27f81c77",
   "metadata": {},
   "outputs": [
    {
     "data": {
      "text/plain": [
       "array([10, 12, 14, 16, 18, 20, 22, 24, 26, 28, 30, 32, 34, 36, 38, 40, 42,\n",
       "       44, 46, 48, 50])"
      ]
     },
     "execution_count": 38,
     "metadata": {},
     "output_type": "execute_result"
    }
   ],
   "source": [
    "even_numbers =np.arange(10, 51, 2)\n",
    "even_numbers"
   ]
  },
  {
   "cell_type": "markdown",
   "id": "b8097288-93ab-41a0-84fa-e15deeeaa0a6",
   "metadata": {},
   "source": [
    "**Question 5: Create an array named linspace_array containing 7 equally spaced numbers between 0 and 1 (inclusive)**"
   ]
  },
  {
   "cell_type": "code",
   "execution_count": 39,
   "id": "b7b9d114-d93f-4719-9f9c-525082ed036d",
   "metadata": {},
   "outputs": [
    {
     "data": {
      "text/plain": [
       "array([0.        , 0.16666667, 0.33333333, 0.5       , 0.66666667,\n",
       "       0.83333333, 1.        ])"
      ]
     },
     "execution_count": 39,
     "metadata": {},
     "output_type": "execute_result"
    }
   ],
   "source": [
    "linspace_array =np.linspace(0,1,7)\n",
    "linspace_array"
   ]
  },
  {
   "cell_type": "markdown",
   "id": "13e7e7b5-6522-4aca-b8b6-2ed8c3a025ef",
   "metadata": {},
   "source": [
    "**Question 6: Given arr = np.array([[1, 2, 3], [4, 5, 6]]), what is its shape, ndim, and dtype? Print them**"
   ]
  },
  {
   "cell_type": "code",
   "execution_count": 79,
   "id": "0760f8d2-c8c4-49a8-adc0-6eac47ff3249",
   "metadata": {},
   "outputs": [
    {
     "name": "stdout",
     "output_type": "stream",
     "text": [
      "Shape: (2, 3)\n",
      "ndim: 2\n",
      "dtype: int64\n"
     ]
    }
   ],
   "source": [
    "arr = np.array([[1, 2, 3], [4, 5, 6]])\n",
    "print('Shape:',arr.shape)\n",
    "print('ndim:',arr.ndim)\n",
    "print('dtype:',arr.dtype)"
   ]
  },
  {
   "cell_type": "markdown",
   "id": "ab03521e-aa7c-4ce8-beaf-d51418c1bba9",
   "metadata": {},
   "source": [
    "# Part 2"
   ]
  },
  {
   "cell_type": "markdown",
   "id": "aa55e18d-223f-4c1a-9ce8-f1e3a78ebe64",
   "metadata": {},
   "source": [
    "### Array Manipulation"
   ]
  },
  {
   "cell_type": "markdown",
   "id": "b3aed458-7993-42a6-abc3-dffed5049f91",
   "metadata": {},
   "source": [
    "**Question7: Reshape arr1d (from Q1) into a 2x5 2D array. Name the new array reshaped_arr**"
   ]
  },
  {
   "cell_type": "code",
   "execution_count": 48,
   "id": "62f4f33f-a95c-4986-96e1-feb052820fd0",
   "metadata": {},
   "outputs": [
    {
     "data": {
      "text/plain": [
       "array([[0, 1, 2, 3, 4],\n",
       "       [5, 6, 7, 8, 9]])"
      ]
     },
     "execution_count": 48,
     "metadata": {},
     "output_type": "execute_result"
    }
   ],
   "source": [
    "arr1d = np.arange (0,10)\n",
    "reshaped_arr =arr1d.reshape((2,5))\n",
    "reshaped_arr"
   ]
  },
  {
   "cell_type": "markdown",
   "id": "5f2ce304-4bf4-4d73-8abd-cf7900fd4f6b",
   "metadata": {},
   "source": [
    "**Question8: Transpose reshaped_arr (from Q7). Name the result transposed_arr**"
   ]
  },
  {
   "cell_type": "code",
   "execution_count": 49,
   "id": "a8e070f2-dc71-4270-afd7-e914b2df4dd3",
   "metadata": {},
   "outputs": [
    {
     "data": {
      "text/plain": [
       "array([[0, 5],\n",
       "       [1, 6],\n",
       "       [2, 7],\n",
       "       [3, 8],\n",
       "       [4, 9]])"
      ]
     },
     "execution_count": 49,
     "metadata": {},
     "output_type": "execute_result"
    }
   ],
   "source": [
    "transposed_arr =reshaped_arr.T\n",
    "transposed_arr"
   ]
  },
  {
   "cell_type": "markdown",
   "id": "4db02af9-8481-4d6e-8e8a-af6830c67b4f",
   "metadata": {},
   "source": [
    "**Question9: Stack two 1D arrays a = np.array([1, 2, 3]) and b = np.array([4, 5, 6]) vertically**"
   ]
  },
  {
   "cell_type": "code",
   "execution_count": 50,
   "id": "f3bffde8-3f5f-429a-aaf1-7e1a7062c382",
   "metadata": {},
   "outputs": [
    {
     "data": {
      "text/plain": [
       "array([[1, 2, 3],\n",
       "       [4, 5, 6]])"
      ]
     },
     "execution_count": 50,
     "metadata": {},
     "output_type": "execute_result"
    }
   ],
   "source": [
    "a = np.array([1, 2, 3])\n",
    "b = np.array([4, 5, 6])\n",
    "\n",
    "v_stack =np.vstack((a,b))\n",
    "v_stack"
   ]
  },
  {
   "cell_type": "markdown",
   "id": "4dba4906-3651-4b0d-ae26-02e4a1d7bea7",
   "metadata": {},
   "source": [
    "**Question10: Stack two 2D arrays m1 = np.array([[1, 2], [3, 4]]) and m2 = np.array([[5, 6], [7, 8]]) horizontally**"
   ]
  },
  {
   "cell_type": "code",
   "execution_count": 51,
   "id": "74530b9f-8616-4918-8c1f-8aeb3f7e7c0d",
   "metadata": {},
   "outputs": [
    {
     "data": {
      "text/plain": [
       "array([[1, 2, 5, 6],\n",
       "       [3, 4, 7, 8]])"
      ]
     },
     "execution_count": 51,
     "metadata": {},
     "output_type": "execute_result"
    }
   ],
   "source": [
    "m1 = np.array([[1, 2], [3, 4]])\n",
    "m2 = np.array([[5, 6], [7, 8]])\n",
    "\n",
    "h_stack =np.hstack((m1,m2))\n",
    "h_stack"
   ]
  },
  {
   "cell_type": "markdown",
   "id": "c8fdaa37-0df1-43d2-882b-c947215c529f",
   "metadata": {},
   "source": [
    "**Question11: Split the array arr_to_split = np.arange(16).reshape(4, 4) horizontally into 2 equal parts. Print both parts**"
   ]
  },
  {
   "cell_type": "code",
   "execution_count": 80,
   "id": "cbc44d3d-9a31-493c-bb0a-43bcf797908f",
   "metadata": {},
   "outputs": [
    {
     "name": "stdout",
     "output_type": "stream",
     "text": [
      "Left part:\n",
      "[[ 0  1]\n",
      " [ 4  5]\n",
      " [ 8  9]\n",
      " [12 13]]\n",
      "Right part:\n",
      "[[ 2  3]\n",
      " [ 6  7]\n",
      " [10 11]\n",
      " [14 15]]\n"
     ]
    }
   ],
   "source": [
    "arr_to_split = np.arange(16).reshape(4, 4)\n",
    "left, right =np.hsplit(arr_to_split, 2)\n",
    "print('Left part:')\n",
    "print(left)\n",
    "print('Right part:')\n",
    "print(right)"
   ]
  },
  {
   "cell_type": "markdown",
   "id": "cc934d5b-75cb-4621-9d71-cb9c846f7d90",
   "metadata": {},
   "source": [
    "**Qustion12: Split the array arr_to_split (from Q11) vertically at index 2 (i.e., into two parts: first two rows, and last two rows). Print both parts**"
   ]
  },
  {
   "cell_type": "code",
   "execution_count": 81,
   "id": "f6f76e19-f7fc-4674-963e-39063e0e6f99",
   "metadata": {},
   "outputs": [
    {
     "name": "stdout",
     "output_type": "stream",
     "text": [
      "Top part:\n",
      "[[0 1 2 3]\n",
      " [4 5 6 7]]\n",
      "Bottom part:\n",
      "[[ 8  9 10 11]\n",
      " [12 13 14 15]]\n"
     ]
    }
   ],
   "source": [
    "arr_to_split = np.arange(16).reshape(4, 4)\n",
    "top, bottom =np.vsplit(arr_to_split, [2])\n",
    "print('Top part:')\n",
    "print(top)\n",
    "print('Bottom part:')\n",
    "print(bottom)"
   ]
  },
  {
   "cell_type": "markdown",
   "id": "72158807-c932-4164-8896-4ce50fb0682d",
   "metadata": {},
   "source": [
    "# Part 3"
   ]
  },
  {
   "cell_type": "markdown",
   "id": "e43daaf5-0d1c-4fa4-9107-1285dabfd7cd",
   "metadata": {},
   "source": [
    "### Indexing, Slicing, and Boolean Indexing"
   ]
  },
  {
   "cell_type": "markdown",
   "id": "decf5fc2-b9aa-44ba-bef4-1dd2ac6dd52e",
   "metadata": {},
   "source": [
    "**Question13: Given data = np.array([[10, 11, 12], [13, 14, 15], [16, 17, 18]]), extract the element at row 1, column 2**"
   ]
  },
  {
   "cell_type": "code",
   "execution_count": 55,
   "id": "217c529a-24b0-4d99-b204-5b387ac8b660",
   "metadata": {},
   "outputs": [
    {
     "name": "stdout",
     "output_type": "stream",
     "text": [
      "15\n"
     ]
    }
   ],
   "source": [
    "data = np.array([[10, 11, 12], [13, 14, 15], [16, 17, 18]])\n",
    "print(data[1, 2])"
   ]
  },
  {
   "cell_type": "markdown",
   "id": "c5805ef9-11ab-4499-be43-c7eacf6c37fe",
   "metadata": {},
   "source": [
    "**Question14: From the data array (from Q13), extract the first two rows and all columns**"
   ]
  },
  {
   "cell_type": "code",
   "execution_count": 82,
   "id": "b7bb6f38-e95d-4d2e-9d89-95054938ea6e",
   "metadata": {},
   "outputs": [
    {
     "name": "stdout",
     "output_type": "stream",
     "text": [
      "[[10 11 12]\n",
      " [13 14 15]]\n"
     ]
    }
   ],
   "source": [
    "data = np.array([[10, 11, 12], [13, 14, 15], [16, 17, 18]])\n",
    "print(data[ :2, : ])"
   ]
  },
  {
   "cell_type": "markdown",
   "id": "046b42dd-f1e6-40d1-9f5a-7c272621f4a3",
   "metadata": {},
   "source": [
    "**Question15: From the data array (from Q13), extract the elements 11, 15, and 17 using fancy indexing (hint: you'll need to specify rows and columns)**"
   ]
  },
  {
   "cell_type": "code",
   "execution_count": 83,
   "id": "3f7f469d-9aad-46b7-86fa-d4ecc304a1d3",
   "metadata": {},
   "outputs": [
    {
     "name": "stdout",
     "output_type": "stream",
     "text": [
      "[11 15 17]\n"
     ]
    }
   ],
   "source": [
    "data = np.array([[10, 11, 12], [13, 14, 15], [16, 17, 18]])\n",
    "rows = np.array([0, 1, 2])\n",
    "cols = np.array([1, 2, 1])\n",
    "\n",
    "elements = data[rows, cols]\n",
    "print(elements)"
   ]
  },
  {
   "cell_type": "markdown",
   "id": "5839b41e-4419-4be6-a4bc-a7f45df4908c",
   "metadata": {},
   "source": [
    "**Question16: Given scores = np.array([85, 92, 78, 65, 95, 88]), use boolean indexing to find all scores greater than 80**"
   ]
  },
  {
   "cell_type": "code",
   "execution_count": 84,
   "id": "bcd99044-44ad-46e0-b392-f1a3b17d9344",
   "metadata": {},
   "outputs": [
    {
     "name": "stdout",
     "output_type": "stream",
     "text": [
      "[85 92 95 88]\n"
     ]
    }
   ],
   "source": [
    "scores = np.array([85, 92, 78, 65, 95, 88])\n",
    "filtered_scores = scores[scores > 80]\n",
    "print(filtered_scores)"
   ]
  },
  {
   "cell_type": "markdown",
   "id": "169a0e91-1675-4e53-aae0-d69c564a4195",
   "metadata": {},
   "source": [
    "# Part 4"
   ]
  },
  {
   "cell_type": "markdown",
   "id": "f660b38f-0a8f-4a1d-8903-6ac213dfded1",
   "metadata": {},
   "source": [
    "### Numerical Operations and Aggregations"
   ]
  },
  {
   "cell_type": "markdown",
   "id": "1706e68d-d74c-46fc-85f7-9c8332ed7f53",
   "metadata": {},
   "source": [
    "**Question17: Given arr_op1 = np.array([10, 20, 30]) and arr_op2 = np.array([2, 4, 6]), perform element-wise multiplication and division (arr_op1 / arr_op2)**"
   ]
  },
  {
   "cell_type": "code",
   "execution_count": 65,
   "id": "dc8a8628-6fe8-466b-9eb2-c0d9bb077eb6",
   "metadata": {},
   "outputs": [
    {
     "name": "stdout",
     "output_type": "stream",
     "text": [
      "Multiplication:\n",
      " [ 20  80 180]\n",
      "Division:\n",
      " [5. 5. 5.]\n"
     ]
    }
   ],
   "source": [
    "arr_op1 = np.array([10, 20, 30])\n",
    "arr_op2 = np.array([2, 4, 6])\n",
    "print('Multiplication:\\n', arr_op1 * arr_op2)\n",
    "print('Division:\\n', arr_op1 / arr_op2)"
   ]
  },
  {
   "cell_type": "markdown",
   "id": "6edc84cf-2ea4-4cfe-a0b4-70a596d92aab",
   "metadata": {},
   "source": [
    "**Question18: Given matrix = np.array([[1, 2, 3], [4, 5, 6], [7, 8, 9]]), calculate the sum of all elements in the matrix**"
   ]
  },
  {
   "cell_type": "code",
   "execution_count": 71,
   "id": "c35408a3-ac5d-4223-86ea-d3836a426eab",
   "metadata": {},
   "outputs": [
    {
     "data": {
      "text/plain": [
       "np.int64(45)"
      ]
     },
     "execution_count": 71,
     "metadata": {},
     "output_type": "execute_result"
    }
   ],
   "source": [
    "matrix = np.array([[1, 2, 3], [4, 5, 6], [7, 8, 9]])\n",
    "Total_elements =np.sum(matrix)\n",
    "Total_elements"
   ]
  },
  {
   "cell_type": "markdown",
   "id": "d39b43a0-b16b-4f89-b62b-9a13f348ef7b",
   "metadata": {},
   "source": [
    "**Question19: From the matrix (from Q18), calculate the mean of each column**"
   ]
  },
  {
   "cell_type": "code",
   "execution_count": 74,
   "id": "9c6a1ec6-006c-48b1-ac97-fad941d25a8e",
   "metadata": {},
   "outputs": [
    {
     "data": {
      "text/plain": [
       "array([4., 5., 6.])"
      ]
     },
     "execution_count": 74,
     "metadata": {},
     "output_type": "execute_result"
    }
   ],
   "source": [
    "matrix = np.array([[1, 2, 3], [4, 5, 6], [7, 8, 9]])\n",
    "column_mean =np.mean(matrix, axis=0)\n",
    "column_mean"
   ]
  },
  {
   "cell_type": "markdown",
   "id": "a9c05dcd-dbc6-49d8-bd45-3a1f501397f5",
   "metadata": {},
   "source": [
    "**Question20: Given price_array = np.array([100, 150, 200, 250]) and discount_percentage = 0.10, apply a 10% discount to all prices using broadcasting**"
   ]
  },
  {
   "cell_type": "code",
   "execution_count": 77,
   "id": "721068ad-dc12-4063-af9c-f814eed7d9a5",
   "metadata": {},
   "outputs": [
    {
     "data": {
      "text/plain": [
       "array([ 90., 135., 180., 225.])"
      ]
     },
     "execution_count": 77,
     "metadata": {},
     "output_type": "execute_result"
    }
   ],
   "source": [
    "price_array = np.array([100, 150, 200, 250])\n",
    "discounted = price_array * ( 1 - 0.10)\n",
    "discounted"
   ]
  }
 ],
 "metadata": {
  "kernelspec": {
   "display_name": "Python [conda env:base] *",
   "language": "python",
   "name": "conda-base-py"
  },
  "language_info": {
   "codemirror_mode": {
    "name": "ipython",
    "version": 3
   },
   "file_extension": ".py",
   "mimetype": "text/x-python",
   "name": "python",
   "nbconvert_exporter": "python",
   "pygments_lexer": "ipython3",
   "version": "3.13.5"
  }
 },
 "nbformat": 4,
 "nbformat_minor": 5
}
