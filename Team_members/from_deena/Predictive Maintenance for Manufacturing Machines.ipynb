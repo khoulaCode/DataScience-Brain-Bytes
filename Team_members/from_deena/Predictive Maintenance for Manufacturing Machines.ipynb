{
 "cells": [
  {
   "cell_type": "markdown",
   "id": "96de9efd-1683-44da-92a2-382e242087fb",
   "metadata": {},
   "source": [
    "# **Predictive Maintenance for Manufacturing Machines**"
   ]
  },
  {
   "cell_type": "markdown",
   "id": "9a5e47a5-c6fb-4c8c-a34c-f87e77a8e423",
   "metadata": {},
   "source": [
    "## **Importing Libraries**"
   ]
  },
  {
   "cell_type": "code",
   "execution_count": 38,
   "id": "4517e7db-ce61-4238-871f-7ff842eab811",
   "metadata": {},
   "outputs": [],
   "source": [
    "import numpy as np\n",
    "import pandas as pd\n",
    "from sklearn.model_selection import train_test_split\n",
    "from sklearn.pipeline import Pipeline\n",
    "from sklearn.compose import ColumnTransformer\n",
    "from sklearn.impute import SimpleImputer\n",
    "from sklearn.preprocessing import StandardScaler, OneHotEncoder\n",
    "from sklearn.metrics import precision_recall_curve, average_precision_score, classification_report, confusion_matrix\n",
    "import matplotlib.pyplot as plt\n",
    "from sklearn.preprocessing import LabelEncoder"
   ]
  },
  {
   "cell_type": "markdown",
   "id": "407cff8c-6377-45ea-8ae4-66cf6dbe1238",
   "metadata": {},
   "source": [
    "## **Loading The Dataset**"
   ]
  },
  {
   "cell_type": "code",
   "execution_count": 9,
   "id": "83ceb354-2db0-4a2d-b774-aa6bffa7f35e",
   "metadata": {},
   "outputs": [],
   "source": [
    "maintenance = pd.read_csv (r\"C:\\Users\\bbuser\\Desktop\\ai4i2020.csv\")"
   ]
  },
  {
   "cell_type": "code",
   "execution_count": 10,
   "id": "db8f5664-c74f-4d88-8a2b-47f62c9d33af",
   "metadata": {},
   "outputs": [
    {
     "data": {
      "text/html": [
       "<div>\n",
       "<style scoped>\n",
       "    .dataframe tbody tr th:only-of-type {\n",
       "        vertical-align: middle;\n",
       "    }\n",
       "\n",
       "    .dataframe tbody tr th {\n",
       "        vertical-align: top;\n",
       "    }\n",
       "\n",
       "    .dataframe thead th {\n",
       "        text-align: right;\n",
       "    }\n",
       "</style>\n",
       "<table border=\"1\" class=\"dataframe\">\n",
       "  <thead>\n",
       "    <tr style=\"text-align: right;\">\n",
       "      <th></th>\n",
       "      <th>UDI</th>\n",
       "      <th>Product ID</th>\n",
       "      <th>Type</th>\n",
       "      <th>Air temperature [K]</th>\n",
       "      <th>Process temperature [K]</th>\n",
       "      <th>Rotational speed [rpm]</th>\n",
       "      <th>Torque [Nm]</th>\n",
       "      <th>Tool wear [min]</th>\n",
       "      <th>Machine failure</th>\n",
       "      <th>TWF</th>\n",
       "      <th>HDF</th>\n",
       "      <th>PWF</th>\n",
       "      <th>OSF</th>\n",
       "      <th>RNF</th>\n",
       "    </tr>\n",
       "  </thead>\n",
       "  <tbody>\n",
       "    <tr>\n",
       "      <th>0</th>\n",
       "      <td>1</td>\n",
       "      <td>M14860</td>\n",
       "      <td>M</td>\n",
       "      <td>298.1</td>\n",
       "      <td>308.6</td>\n",
       "      <td>1551</td>\n",
       "      <td>42.8</td>\n",
       "      <td>0</td>\n",
       "      <td>0</td>\n",
       "      <td>0</td>\n",
       "      <td>0</td>\n",
       "      <td>0</td>\n",
       "      <td>0</td>\n",
       "      <td>0</td>\n",
       "    </tr>\n",
       "    <tr>\n",
       "      <th>1</th>\n",
       "      <td>2</td>\n",
       "      <td>L47181</td>\n",
       "      <td>L</td>\n",
       "      <td>298.2</td>\n",
       "      <td>308.7</td>\n",
       "      <td>1408</td>\n",
       "      <td>46.3</td>\n",
       "      <td>3</td>\n",
       "      <td>0</td>\n",
       "      <td>0</td>\n",
       "      <td>0</td>\n",
       "      <td>0</td>\n",
       "      <td>0</td>\n",
       "      <td>0</td>\n",
       "    </tr>\n",
       "    <tr>\n",
       "      <th>2</th>\n",
       "      <td>3</td>\n",
       "      <td>L47182</td>\n",
       "      <td>L</td>\n",
       "      <td>298.1</td>\n",
       "      <td>308.5</td>\n",
       "      <td>1498</td>\n",
       "      <td>49.4</td>\n",
       "      <td>5</td>\n",
       "      <td>0</td>\n",
       "      <td>0</td>\n",
       "      <td>0</td>\n",
       "      <td>0</td>\n",
       "      <td>0</td>\n",
       "      <td>0</td>\n",
       "    </tr>\n",
       "    <tr>\n",
       "      <th>3</th>\n",
       "      <td>4</td>\n",
       "      <td>L47183</td>\n",
       "      <td>L</td>\n",
       "      <td>298.2</td>\n",
       "      <td>308.6</td>\n",
       "      <td>1433</td>\n",
       "      <td>39.5</td>\n",
       "      <td>7</td>\n",
       "      <td>0</td>\n",
       "      <td>0</td>\n",
       "      <td>0</td>\n",
       "      <td>0</td>\n",
       "      <td>0</td>\n",
       "      <td>0</td>\n",
       "    </tr>\n",
       "    <tr>\n",
       "      <th>4</th>\n",
       "      <td>5</td>\n",
       "      <td>L47184</td>\n",
       "      <td>L</td>\n",
       "      <td>298.2</td>\n",
       "      <td>308.7</td>\n",
       "      <td>1408</td>\n",
       "      <td>40.0</td>\n",
       "      <td>9</td>\n",
       "      <td>0</td>\n",
       "      <td>0</td>\n",
       "      <td>0</td>\n",
       "      <td>0</td>\n",
       "      <td>0</td>\n",
       "      <td>0</td>\n",
       "    </tr>\n",
       "  </tbody>\n",
       "</table>\n",
       "</div>"
      ],
      "text/plain": [
       "   UDI Product ID Type  Air temperature [K]  Process temperature [K]  \\\n",
       "0    1     M14860    M                298.1                    308.6   \n",
       "1    2     L47181    L                298.2                    308.7   \n",
       "2    3     L47182    L                298.1                    308.5   \n",
       "3    4     L47183    L                298.2                    308.6   \n",
       "4    5     L47184    L                298.2                    308.7   \n",
       "\n",
       "   Rotational speed [rpm]  Torque [Nm]  Tool wear [min]  Machine failure  TWF  \\\n",
       "0                    1551         42.8                0                0    0   \n",
       "1                    1408         46.3                3                0    0   \n",
       "2                    1498         49.4                5                0    0   \n",
       "3                    1433         39.5                7                0    0   \n",
       "4                    1408         40.0                9                0    0   \n",
       "\n",
       "   HDF  PWF  OSF  RNF  \n",
       "0    0    0    0    0  \n",
       "1    0    0    0    0  \n",
       "2    0    0    0    0  \n",
       "3    0    0    0    0  \n",
       "4    0    0    0    0  "
      ]
     },
     "execution_count": 10,
     "metadata": {},
     "output_type": "execute_result"
    }
   ],
   "source": [
    "maintenance.head()"
   ]
  },
  {
   "cell_type": "code",
   "execution_count": 8,
   "id": "e4578a3f-5a40-4bd0-8931-74adeeacbd1a",
   "metadata": {},
   "outputs": [
    {
     "data": {
      "text/plain": [
       "(10000, 14)"
      ]
     },
     "execution_count": 8,
     "metadata": {},
     "output_type": "execute_result"
    }
   ],
   "source": [
    "maintenance.shape"
   ]
  },
  {
   "cell_type": "code",
   "execution_count": 14,
   "id": "daf58ce0-c8a2-430c-94f3-d58e1b4a316f",
   "metadata": {},
   "outputs": [
    {
     "data": {
      "text/plain": [
       "['udi',\n",
       " 'product_id',\n",
       " 'type',\n",
       " 'air_temperature_k',\n",
       " 'process_temperature_k',\n",
       " 'rotational_speed_rpm',\n",
       " 'torque_nm',\n",
       " 'tool_wear_min',\n",
       " 'machine_failure',\n",
       " 'twf',\n",
       " 'hdf',\n",
       " 'pwf',\n",
       " 'osf',\n",
       " 'rnf']"
      ]
     },
     "execution_count": 14,
     "metadata": {},
     "output_type": "execute_result"
    }
   ],
   "source": [
    "maintenance.columns.tolist()"
   ]
  },
  {
   "cell_type": "code",
   "execution_count": 15,
   "id": "d3db5e75-6b13-4866-8dd7-805be4bad9d6",
   "metadata": {},
   "outputs": [
    {
     "name": "stdout",
     "output_type": "stream",
     "text": [
      "<class 'pandas.core.frame.DataFrame'>\n",
      "RangeIndex: 10000 entries, 0 to 9999\n",
      "Data columns (total 14 columns):\n",
      " #   Column                 Non-Null Count  Dtype  \n",
      "---  ------                 --------------  -----  \n",
      " 0   udi                    10000 non-null  int64  \n",
      " 1   product_id             10000 non-null  object \n",
      " 2   type                   10000 non-null  object \n",
      " 3   air_temperature_k      10000 non-null  float64\n",
      " 4   process_temperature_k  10000 non-null  float64\n",
      " 5   rotational_speed_rpm   10000 non-null  int64  \n",
      " 6   torque_nm              10000 non-null  float64\n",
      " 7   tool_wear_min          10000 non-null  int64  \n",
      " 8   machine_failure        10000 non-null  int64  \n",
      " 9   twf                    10000 non-null  int64  \n",
      " 10  hdf                    10000 non-null  int64  \n",
      " 11  pwf                    10000 non-null  int64  \n",
      " 12  osf                    10000 non-null  int64  \n",
      " 13  rnf                    10000 non-null  int64  \n",
      "dtypes: float64(3), int64(9), object(2)\n",
      "memory usage: 1.1+ MB\n"
     ]
    }
   ],
   "source": [
    "maintenance.info()"
   ]
  },
  {
   "cell_type": "code",
   "execution_count": 16,
   "id": "1596faf9-f1f9-4175-a7dd-15510dba8fed",
   "metadata": {},
   "outputs": [
    {
     "data": {
      "text/html": [
       "<div>\n",
       "<style scoped>\n",
       "    .dataframe tbody tr th:only-of-type {\n",
       "        vertical-align: middle;\n",
       "    }\n",
       "\n",
       "    .dataframe tbody tr th {\n",
       "        vertical-align: top;\n",
       "    }\n",
       "\n",
       "    .dataframe thead th {\n",
       "        text-align: right;\n",
       "    }\n",
       "</style>\n",
       "<table border=\"1\" class=\"dataframe\">\n",
       "  <thead>\n",
       "    <tr style=\"text-align: right;\">\n",
       "      <th></th>\n",
       "      <th>udi</th>\n",
       "      <th>air_temperature_k</th>\n",
       "      <th>process_temperature_k</th>\n",
       "      <th>rotational_speed_rpm</th>\n",
       "      <th>torque_nm</th>\n",
       "      <th>tool_wear_min</th>\n",
       "      <th>machine_failure</th>\n",
       "      <th>twf</th>\n",
       "      <th>hdf</th>\n",
       "      <th>pwf</th>\n",
       "      <th>osf</th>\n",
       "      <th>rnf</th>\n",
       "    </tr>\n",
       "  </thead>\n",
       "  <tbody>\n",
       "    <tr>\n",
       "      <th>count</th>\n",
       "      <td>10000.00000</td>\n",
       "      <td>10000.000000</td>\n",
       "      <td>10000.000000</td>\n",
       "      <td>10000.000000</td>\n",
       "      <td>10000.000000</td>\n",
       "      <td>10000.000000</td>\n",
       "      <td>10000.000000</td>\n",
       "      <td>10000.000000</td>\n",
       "      <td>10000.000000</td>\n",
       "      <td>10000.000000</td>\n",
       "      <td>10000.000000</td>\n",
       "      <td>10000.00000</td>\n",
       "    </tr>\n",
       "    <tr>\n",
       "      <th>mean</th>\n",
       "      <td>5000.50000</td>\n",
       "      <td>300.004930</td>\n",
       "      <td>310.005560</td>\n",
       "      <td>1538.776100</td>\n",
       "      <td>39.986910</td>\n",
       "      <td>107.951000</td>\n",
       "      <td>0.033900</td>\n",
       "      <td>0.004600</td>\n",
       "      <td>0.011500</td>\n",
       "      <td>0.009500</td>\n",
       "      <td>0.009800</td>\n",
       "      <td>0.00190</td>\n",
       "    </tr>\n",
       "    <tr>\n",
       "      <th>std</th>\n",
       "      <td>2886.89568</td>\n",
       "      <td>2.000259</td>\n",
       "      <td>1.483734</td>\n",
       "      <td>179.284096</td>\n",
       "      <td>9.968934</td>\n",
       "      <td>63.654147</td>\n",
       "      <td>0.180981</td>\n",
       "      <td>0.067671</td>\n",
       "      <td>0.106625</td>\n",
       "      <td>0.097009</td>\n",
       "      <td>0.098514</td>\n",
       "      <td>0.04355</td>\n",
       "    </tr>\n",
       "    <tr>\n",
       "      <th>min</th>\n",
       "      <td>1.00000</td>\n",
       "      <td>295.300000</td>\n",
       "      <td>305.700000</td>\n",
       "      <td>1168.000000</td>\n",
       "      <td>3.800000</td>\n",
       "      <td>0.000000</td>\n",
       "      <td>0.000000</td>\n",
       "      <td>0.000000</td>\n",
       "      <td>0.000000</td>\n",
       "      <td>0.000000</td>\n",
       "      <td>0.000000</td>\n",
       "      <td>0.00000</td>\n",
       "    </tr>\n",
       "    <tr>\n",
       "      <th>25%</th>\n",
       "      <td>2500.75000</td>\n",
       "      <td>298.300000</td>\n",
       "      <td>308.800000</td>\n",
       "      <td>1423.000000</td>\n",
       "      <td>33.200000</td>\n",
       "      <td>53.000000</td>\n",
       "      <td>0.000000</td>\n",
       "      <td>0.000000</td>\n",
       "      <td>0.000000</td>\n",
       "      <td>0.000000</td>\n",
       "      <td>0.000000</td>\n",
       "      <td>0.00000</td>\n",
       "    </tr>\n",
       "    <tr>\n",
       "      <th>50%</th>\n",
       "      <td>5000.50000</td>\n",
       "      <td>300.100000</td>\n",
       "      <td>310.100000</td>\n",
       "      <td>1503.000000</td>\n",
       "      <td>40.100000</td>\n",
       "      <td>108.000000</td>\n",
       "      <td>0.000000</td>\n",
       "      <td>0.000000</td>\n",
       "      <td>0.000000</td>\n",
       "      <td>0.000000</td>\n",
       "      <td>0.000000</td>\n",
       "      <td>0.00000</td>\n",
       "    </tr>\n",
       "    <tr>\n",
       "      <th>75%</th>\n",
       "      <td>7500.25000</td>\n",
       "      <td>301.500000</td>\n",
       "      <td>311.100000</td>\n",
       "      <td>1612.000000</td>\n",
       "      <td>46.800000</td>\n",
       "      <td>162.000000</td>\n",
       "      <td>0.000000</td>\n",
       "      <td>0.000000</td>\n",
       "      <td>0.000000</td>\n",
       "      <td>0.000000</td>\n",
       "      <td>0.000000</td>\n",
       "      <td>0.00000</td>\n",
       "    </tr>\n",
       "    <tr>\n",
       "      <th>max</th>\n",
       "      <td>10000.00000</td>\n",
       "      <td>304.500000</td>\n",
       "      <td>313.800000</td>\n",
       "      <td>2886.000000</td>\n",
       "      <td>76.600000</td>\n",
       "      <td>253.000000</td>\n",
       "      <td>1.000000</td>\n",
       "      <td>1.000000</td>\n",
       "      <td>1.000000</td>\n",
       "      <td>1.000000</td>\n",
       "      <td>1.000000</td>\n",
       "      <td>1.00000</td>\n",
       "    </tr>\n",
       "  </tbody>\n",
       "</table>\n",
       "</div>"
      ],
      "text/plain": [
       "               udi  air_temperature_k  process_temperature_k  \\\n",
       "count  10000.00000       10000.000000           10000.000000   \n",
       "mean    5000.50000         300.004930             310.005560   \n",
       "std     2886.89568           2.000259               1.483734   \n",
       "min        1.00000         295.300000             305.700000   \n",
       "25%     2500.75000         298.300000             308.800000   \n",
       "50%     5000.50000         300.100000             310.100000   \n",
       "75%     7500.25000         301.500000             311.100000   \n",
       "max    10000.00000         304.500000             313.800000   \n",
       "\n",
       "       rotational_speed_rpm     torque_nm  tool_wear_min  machine_failure  \\\n",
       "count          10000.000000  10000.000000   10000.000000     10000.000000   \n",
       "mean            1538.776100     39.986910     107.951000         0.033900   \n",
       "std              179.284096      9.968934      63.654147         0.180981   \n",
       "min             1168.000000      3.800000       0.000000         0.000000   \n",
       "25%             1423.000000     33.200000      53.000000         0.000000   \n",
       "50%             1503.000000     40.100000     108.000000         0.000000   \n",
       "75%             1612.000000     46.800000     162.000000         0.000000   \n",
       "max             2886.000000     76.600000     253.000000         1.000000   \n",
       "\n",
       "                twf           hdf           pwf           osf          rnf  \n",
       "count  10000.000000  10000.000000  10000.000000  10000.000000  10000.00000  \n",
       "mean       0.004600      0.011500      0.009500      0.009800      0.00190  \n",
       "std        0.067671      0.106625      0.097009      0.098514      0.04355  \n",
       "min        0.000000      0.000000      0.000000      0.000000      0.00000  \n",
       "25%        0.000000      0.000000      0.000000      0.000000      0.00000  \n",
       "50%        0.000000      0.000000      0.000000      0.000000      0.00000  \n",
       "75%        0.000000      0.000000      0.000000      0.000000      0.00000  \n",
       "max        1.000000      1.000000      1.000000      1.000000      1.00000  "
      ]
     },
     "execution_count": 16,
     "metadata": {},
     "output_type": "execute_result"
    }
   ],
   "source": [
    "maintenance.describe()"
   ]
  },
  {
   "cell_type": "markdown",
   "id": "c4aeeeed-27ce-4851-8610-43854bf1d989",
   "metadata": {},
   "source": [
    "## **Normalize column names**"
   ]
  },
  {
   "cell_type": "code",
   "execution_count": 17,
   "id": "fec10fb2-0991-44f9-81ed-a74d48b830a2",
   "metadata": {},
   "outputs": [],
   "source": [
    "maintenance.columns = [c.lower().strip().replace(\" \", \"_\").replace(\"[\",\"\").replace(\"]\",\"\").replace(\"/\",\"_\").replace(\"-\",\"_\") for c in maintenance.columns]"
   ]
  },
  {
   "cell_type": "markdown",
   "id": "8050780e-e486-4f1f-9569-f35392013b9e",
   "metadata": {},
   "source": [
    "## **Create binary and multiclass targets**"
   ]
  },
  {
   "cell_type": "code",
   "execution_count": 20,
   "id": "66596b91-5b5c-4e19-885d-fbda892e7211",
   "metadata": {},
   "outputs": [
    {
     "data": {
      "text/plain": [
       "failure_type\n",
       "NONE        9652\n",
       "HDF          106\n",
       "PWF           80\n",
       "OSF           78\n",
       "TWF           42\n",
       "MULTIPLE      24\n",
       "RNF           18\n",
       "Name: count, dtype: int64"
      ]
     },
     "execution_count": 20,
     "metadata": {},
     "output_type": "execute_result"
    }
   ],
   "source": [
    "# binary target\n",
    "if 'machine_failure' in maintenance.columns:\n",
    "    maintenance['target_failure'] = maintenance['machine_failure'].astype(int)\n",
    "else:\n",
    "    raise KeyError(\"machine_failure column not found — check column names\")\n",
    "\n",
    "# multiclass label from flags (only label rows with exactly one flag to keep it single-label)\n",
    "flags = ['twf','hdf','pwf','osf','rnf']\n",
    "def failure_type_from_flags(row):\n",
    "    present = [f for f in flags if f in maintenance.columns and int(row[f])==1]\n",
    "    if len(present)==1:\n",
    "        return present[0].upper()   # 'TWF','HDF', ...\n",
    "    elif len(present)==0:\n",
    "        return 'NONE'\n",
    "    else:\n",
    "        return 'MULTIPLE'\n",
    "maintenance['failure_type'] = maintenance.apply(failure_type_from_flags, axis=1)\n",
    "maintenance['failure_type'].value_counts()"
   ]
  },
  {
   "cell_type": "markdown",
   "id": "98cf3f74-a06d-4012-8364-7b11423daf0a",
   "metadata": {},
   "source": [
    "## **Choose feature columns**"
   ]
  },
  {
   "cell_type": "code",
   "execution_count": 28,
   "id": "5d7a650b-ebbe-4b62-b074-27b6b2b55761",
   "metadata": {},
   "outputs": [
    {
     "name": "stdout",
     "output_type": "stream",
     "text": [
      "numeric: ['air_temperature_k', 'process_temperature_k', 'rotational_speed_rpm', 'torque_nm', 'tool_wear_min']\n",
      "  \n",
      "categorical: ['type']\n"
     ]
    }
   ],
   "source": [
    "num_keywords = ['air_temperature','process_temperature','rotational_speed','torque','tool_wear']\n",
    "num_features = [c for c in maintenance.columns if any(k in c for k in num_keywords)]\n",
    "cat_features = ['type'] if 'type' in maintenance.columns else []\n",
    "print(\"numeric:\", num_features)\n",
    "print(\"  \")\n",
    "print(\"categorical:\", cat_features)"
   ]
  },
  {
   "cell_type": "markdown",
   "id": "fb363db8-a149-41d4-a01f-9b448a9dd13d",
   "metadata": {},
   "source": [
    "## **Preprocessor & Train/test split**"
   ]
  },
  {
   "cell_type": "code",
   "execution_count": 31,
   "id": "c91f00ec-0f8e-4e7f-85da-252e501f555e",
   "metadata": {},
   "outputs": [],
   "source": [
    "numeric_transformer = Pipeline([('imputer', SimpleImputer(strategy='median')), ('scaler', StandardScaler())])\n",
    "categorical_transformer = Pipeline([('imputer', SimpleImputer(strategy='most_frequent')), ('onehot', OneHotEncoder(handle_unknown='ignore'))])\n",
    "preprocessor = ColumnTransformer([('num', numeric_transformer, num_features), ('cat', categorical_transformer, cat_features)])\n",
    "\n",
    "X = maintenance[num_features + cat_features]\n",
    "y_bin = maintenance['target_failure']\n",
    "y_multi = maintenance['failure_type']\n",
    "\n",
    "# Split stratified on binary target for Model 1 (keeps failure class proportion)\n",
    "X_train, X_test, yb_train, yb_test, ym_train, ym_test = train_test_split(X, y_bin, y_multi, test_size=0.2, stratify=y_bin, random_state=42)"
   ]
  },
  {
   "cell_type": "markdown",
   "id": "94d75300-20ed-40ec-9f53-4dbdcb346203",
   "metadata": {},
   "source": [
    "## **Model 1 (RandomForest, GradientBoosting, LogisticRegression)**"
   ]
  },
  {
   "cell_type": "code",
   "execution_count": 32,
   "id": "7d54cebe-9073-44ac-aaa2-e252b6ae754f",
   "metadata": {},
   "outputs": [
    {
     "name": "stdout",
     "output_type": "stream",
     "text": [
      "RandomForest precision: 0.9090909090909091 recall: 0.4411764705882353 AP: 0.7719662143762689\n",
      "GradientBoosting precision: 0.8448275862068966 recall: 0.7205882352941176 AP: 0.8095285655635058\n",
      "LogisticRegression precision: 0.1414141414141414 recall: 0.8235294117647058 AP: 0.38179015732339133\n"
     ]
    }
   ],
   "source": [
    "from sklearn.ensemble import RandomForestClassifier, GradientBoostingClassifier\n",
    "from sklearn.linear_model import LogisticRegression\n",
    "\n",
    "models_bin = {\n",
    "  'RandomForest': RandomForestClassifier(n_estimators=200, class_weight='balanced', random_state=42),\n",
    "  'GradientBoosting': GradientBoostingClassifier(n_estimators=200, random_state=42),\n",
    "  'LogisticRegression': LogisticRegression(max_iter=1000, class_weight='balanced', solver='liblinear', random_state=42)\n",
    "}\n",
    "\n",
    "trained_bin = {}\n",
    "for name, clf in models_bin.items():\n",
    "    pipe = Pipeline([('pre', preprocessor), ('clf', clf)])\n",
    "    pipe.fit(X_train, yb_train)\n",
    "    trained_bin[name] = pipe\n",
    "    # quick score at 0.5 threshold\n",
    "    if hasattr(pipe.named_steps['clf'], 'predict_proba'):\n",
    "        probs = pipe.predict_proba(X_test)[:,1]\n",
    "    else:\n",
    "        probs = pipe.decision_function(X_test)  # fallback\n",
    "    preds = (probs >= 0.5).astype(int)\n",
    "    from sklearn.metrics import precision_score, recall_score\n",
    "    print(name, \"precision:\", precision_score(yb_test, preds), \"recall:\", recall_score(yb_test, preds), \"AP:\", average_precision_score(yb_test, probs))"
   ]
  },
  {
   "cell_type": "markdown",
   "id": "0d128d27-b84c-4880-b107-cad461e8795d",
   "metadata": {},
   "source": [
    "## **Evaluate Model 1 — Precision-Recall curve & threshold tuning**"
   ]
  },
  {
   "cell_type": "code",
   "execution_count": 33,
   "id": "2026a784-81a8-41ad-9e35-5ac2f02a02da",
   "metadata": {},
   "outputs": [
    {
     "data": {
      "image/png": "[encoded data removed]",
      "text/plain": [
       "<Figure size 640x480 with 1 Axes>"
      ]
     },
     "metadata": {},
     "output_type": "display_data"
    },
    {
     "name": "stdout",
     "output_type": "stream",
     "text": [
      "threshold for recall >= 0.85: 0.100 (precision 0.417, recall 0.882)\n"
     ]
    }
   ],
   "source": [
    "# Example: plot PR curve for RandomForest\n",
    "rf = trained_bin['RandomForest']\n",
    "probs = rf.predict_proba(X_test)[:,1]\n",
    "precision, recall, thresholds = precision_recall_curve(yb_test, probs)\n",
    "ap = average_precision_score(yb_test, probs)\n",
    "plt.step(recall, precision, where='post')\n",
    "plt.xlabel('Recall'); plt.ylabel('Precision'); plt.title(f'PR curve (RandomForest) AP={ap:.3f}')\n",
    "plt.grid(True); plt.show()\n",
    "\n",
    "# Choose a threshold to favor recall (e.g., recall >= 0.85)\n",
    "target_recall = 0.85\n",
    "# thresholds length = len(precision)-1; align carefully\n",
    "best = None\n",
    "for p, r, t in zip(precision[:-1], recall[:-1], thresholds):\n",
    "    if r >= target_recall:\n",
    "        if best is None or p > best[0]:\n",
    "            best = (p, r, t)\n",
    "if best:\n",
    "    print(\"threshold for recall >= {:.2f}: {:.3f} (precision {:.3f}, recall {:.3f})\".format(target_recall, best[2], best[0], best[1]))\n",
    "else:\n",
    "    print(\"no threshold yields that recall; consider using a different model or resampling\")"
   ]
  },
  {
   "cell_type": "markdown",
   "id": "1468789d-5210-4dfc-8469-60e031716417",
   "metadata": {},
   "source": [
    "## **Model 2 (only rows with single, real failure)**"
   ]
  },
  {
   "cell_type": "code",
   "execution_count": 41,
   "id": "c0a16912-b2ce-4ba0-9fb2-41997440e183",
   "metadata": {},
   "outputs": [
    {
     "name": "stdout",
     "output_type": "stream",
     "text": [
      "=== DecisionTree ===\n",
      "              precision    recall  f1-score   support\n",
      "\n",
      "         HDF      0.800     0.952     0.870        21\n",
      "         OSF      1.000     0.750     0.857        16\n",
      "         PWF      0.941     1.000     0.970        16\n",
      "         RNF      0.400     0.500     0.444         4\n",
      "         TWF      1.000     0.750     0.857         8\n",
      "\n",
      "    accuracy                          0.862        65\n",
      "   macro avg      0.828     0.790     0.800        65\n",
      "weighted avg      0.884     0.862     0.863        65\n",
      "\n"
     ]
    },
    {
     "data": {
      "image/png": "[encoded data removed]",
      "text/plain": [
       "<Figure size 640x480 with 2 Axes>"
      ]
     },
     "metadata": {},
     "output_type": "display_data"
    },
    {
     "name": "stdout",
     "output_type": "stream",
     "text": [
      "=== SVM ===\n",
      "              precision    recall  f1-score   support\n",
      "\n",
      "         HDF      0.778     1.000     0.875        21\n",
      "         OSF      0.875     0.875     0.875        16\n",
      "         PWF      0.933     0.875     0.903        16\n",
      "         RNF      0.000     0.000     0.000         4\n",
      "         TWF      1.000     0.875     0.933         8\n",
      "\n",
      "    accuracy                          0.862        65\n",
      "   macro avg      0.717     0.725     0.717        65\n",
      "weighted avg      0.819     0.862     0.835        65\n",
      "\n"
     ]
    },
    {
     "name": "stderr",
     "output_type": "stream",
     "text": [
      "C:\\Users\\bbuser\\anaconda3\\Lib\\site-packages\\sklearn\\metrics\\_classification.py:1565: UndefinedMetricWarning: Precision is ill-defined and being set to 0.0 in labels with no predicted samples. Use `zero_division` parameter to control this behavior.\n",
      "  _warn_prf(average, modifier, f\"{metric.capitalize()} is\", len(result))\n",
      "C:\\Users\\bbuser\\anaconda3\\Lib\\site-packages\\sklearn\\metrics\\_classification.py:1565: UndefinedMetricWarning: Precision is ill-defined and being set to 0.0 in labels with no predicted samples. Use `zero_division` parameter to control this behavior.\n",
      "  _warn_prf(average, modifier, f\"{metric.capitalize()} is\", len(result))\n",
      "C:\\Users\\bbuser\\anaconda3\\Lib\\site-packages\\sklearn\\metrics\\_classification.py:1565: UndefinedMetricWarning: Precision is ill-defined and being set to 0.0 in labels with no predicted samples. Use `zero_division` parameter to control this behavior.\n",
      "  _warn_prf(average, modifier, f\"{metric.capitalize()} is\", len(result))\n"
     ]
    },
    {
     "data": {
      "image/png": "[encoded data removed]",
      "text/plain": [
       "<Figure size 640x480 with 2 Axes>"
      ]
     },
     "metadata": {},
     "output_type": "display_data"
    },
    {
     "name": "stdout",
     "output_type": "stream",
     "text": [
      "=== GaussianNB ===\n",
      "              precision    recall  f1-score   support\n",
      "\n",
      "         HDF      0.741     0.952     0.833        21\n",
      "         OSF      0.867     0.812     0.839        16\n",
      "         PWF      0.846     0.688     0.759        16\n",
      "         RNF      0.333     0.250     0.286         4\n",
      "         TWF      1.000     0.875     0.933         8\n",
      "\n",
      "    accuracy                          0.800        65\n",
      "   macro avg      0.757     0.715     0.730        65\n",
      "weighted avg      0.805     0.800     0.795        65\n",
      "\n"
     ]
    },
    {
     "data": {
      "image/png": "[encoded data removed]",
      "text/plain": [
       "<Figure size 640x480 with 2 Axes>"
      ]
     },
     "metadata": {},
     "output_type": "display_data"
    },
    {
     "name": "stderr",
     "output_type": "stream",
     "text": [
      "C:\\Users\\bbuser\\anaconda3\\Lib\\site-packages\\xgboost\\training.py:183: UserWarning: [12:32:41] WARNING: C:\\actions-runner\\_work\\xgboost\\xgboost\\src\\learner.cc:738: \n",
      "Parameters: { \"use_label_encoder\" } are not used.\n",
      "\n",
      "  bst.update(dtrain, iteration=i, fobj=obj)\n"
     ]
    },
    {
     "name": "stdout",
     "output_type": "stream",
     "text": [
      "=== XGBoost ===\n",
      "              precision    recall  f1-score   support\n",
      "\n",
      "         HDF      0.875     1.000     0.933        21\n",
      "         OSF      1.000     0.750     0.857        16\n",
      "         PWF      0.800     1.000     0.889        16\n",
      "         RNF      0.000     0.000     0.000         4\n",
      "         TWF      0.889     1.000     0.941         8\n",
      "\n",
      "    accuracy                          0.877        65\n",
      "   macro avg      0.713     0.750     0.724        65\n",
      "weighted avg      0.835     0.877     0.847        65\n",
      "\n"
     ]
    },
    {
     "name": "stderr",
     "output_type": "stream",
     "text": [
      "C:\\Users\\bbuser\\anaconda3\\Lib\\site-packages\\sklearn\\metrics\\_classification.py:1565: UndefinedMetricWarning: Precision is ill-defined and being set to 0.0 in labels with no predicted samples. Use `zero_division` parameter to control this behavior.\n",
      "  _warn_prf(average, modifier, f\"{metric.capitalize()} is\", len(result))\n",
      "C:\\Users\\bbuser\\anaconda3\\Lib\\site-packages\\sklearn\\metrics\\_classification.py:1565: UndefinedMetricWarning: Precision is ill-defined and being set to 0.0 in labels with no predicted samples. Use `zero_division` parameter to control this behavior.\n",
      "  _warn_prf(average, modifier, f\"{metric.capitalize()} is\", len(result))\n",
      "C:\\Users\\bbuser\\anaconda3\\Lib\\site-packages\\sklearn\\metrics\\_classification.py:1565: UndefinedMetricWarning: Precision is ill-defined and being set to 0.0 in labels with no predicted samples. Use `zero_division` parameter to control this behavior.\n",
      "  _warn_prf(average, modifier, f\"{metric.capitalize()} is\", len(result))\n"
     ]
    },
    {
     "data": {
      "image/png": "[encoded data removed]",
      "text/plain": [
       "<Figure size 640x480 with 2 Axes>"
      ]
     },
     "metadata": {},
     "output_type": "display_data"
    }
   ],
   "source": [
    "# keep only rows where failure_type is one single label among the 5 flags\n",
    "major_types = ['TWF','HDF','PWF','OSF','RNF']\n",
    "mask = maintenance['failure_type'].isin(major_types)\n",
    "df_mc = maintenance[mask].copy()\n",
    "X_mc = df_mc[num_features + cat_features]\n",
    "y_mc = df_mc['failure_type']\n",
    "\n",
    "# Encode labels to integers\n",
    "from sklearn.preprocessing import LabelEncoder\n",
    "le = LabelEncoder()\n",
    "y_mc_encoded = le.fit_transform(y_mc)   # maps 'TWF','HDF',... → integers\n",
    "\n",
    "# Train/test split using encoded labels\n",
    "from sklearn.model_selection import train_test_split\n",
    "Xtr, Xte, ytr, yte = train_test_split(\n",
    "    X_mc, y_mc_encoded, test_size=0.2, stratify=y_mc_encoded, random_state=42\n",
    ")\n",
    "\n",
    "# classifiers\n",
    "from sklearn.tree import DecisionTreeClassifier\n",
    "from sklearn.svm import SVC\n",
    "from sklearn.naive_bayes import GaussianNB\n",
    "import xgboost as xgb\n",
    "from sklearn.pipeline import Pipeline\n",
    "from sklearn.metrics import classification_report, confusion_matrix, ConfusionMatrixDisplay\n",
    "import matplotlib.pyplot as plt\n",
    "\n",
    "models_multi = {\n",
    "    'DecisionTree': DecisionTreeClassifier(class_weight='balanced', random_state=42),\n",
    "    'SVM': SVC(probability=True, random_state=42),\n",
    "    'GaussianNB': GaussianNB(),\n",
    "    'XGBoost': xgb.XGBClassifier(use_label_encoder=False, eval_metric='mlogloss', random_state=42)\n",
    "}\n",
    "\n",
    "for name, clf in models_multi.items():\n",
    "    pipe = Pipeline([('pre', preprocessor), ('clf', clf)])\n",
    "    pipe.fit(Xtr, ytr)\n",
    "    preds = pipe.predict(Xte)\n",
    "\n",
    "    print(f\"=== {name} ===\")\n",
    "    # report with original string labels\n",
    "    print(classification_report(yte, preds, target_names=le.classes_, digits=3))\n",
    "\n",
    "    cm = confusion_matrix(yte, preds)  # yte and preds are integers\n",
    "    disp = ConfusionMatrixDisplay(confusion_matrix=cm, display_labels=le.classes_)\n",
    "    disp.plot(cmap=\"Blues\")\n",
    "    plt.title(f\"Confusion Matrix - {name}\")\n",
    "    plt.show()\n"
   ]
  }
 ],
 "metadata": {
  "kernelspec": {
   "display_name": "Python [conda env:base] *",
   "language": "python",
   "name": "conda-base-py"
  },
  "language_info": {
   "codemirror_mode": {
    "name": "ipython",
    "version": 3
   },
   "file_extension": ".py",
   "mimetype": "text/x-python",
   "name": "python",
   "nbconvert_exporter": "python",
   "pygments_lexer": "ipython3",
   "version": "3.13.5"
  }
 },
 "nbformat": 4,
 "nbformat_minor": 5
}
