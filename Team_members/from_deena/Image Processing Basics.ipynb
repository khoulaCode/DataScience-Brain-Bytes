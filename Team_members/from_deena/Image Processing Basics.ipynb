{
 "cells": [
  {
   "cell_type": "markdown",
   "id": "1fea989b-6c78-4815-a5a1-b5997d80345c",
   "metadata": {},
   "source": [
    "# **Image Processing Basics (Grayscale Conversion and Filtering)**"
   ]
  },
  {
   "cell_type": "markdown",
   "id": "2ca4eefc-7a38-4711-b98c-e8e2def2aa05",
   "metadata": {},
   "source": [
    "### **Scenario: You're working on a basic image processing application. You're given a simple grayscale image represented as a NumPy array where each pixel value indicates intensity (0 for black, 255 for white).**\n",
    "### **You need to perform some fundamental operations.**"
   ]
  },
  {
   "cell_type": "markdown",
   "id": "ae517d6e-4b1a-4f35-ab31-2e604be56b88",
   "metadata": {},
   "source": [
    "#### **1. Image Representation**"
   ]
  },
  {
   "cell_type": "code",
   "execution_count": 1,
   "id": "f4a3288b-0a23-4cd3-af8a-b8e690c28688",
   "metadata": {},
   "outputs": [
    {
     "name": "stdout",
     "output_type": "stream",
     "text": [
      "Original New Image Array:\n",
      " [[  9 150 239   8 125 242 130 222 197  96]\n",
      " [215  25   9 127 218 229 196 164 129 158]\n",
      " [ 89 224  57 162 225 218  96  24 197 218]\n",
      " [ 36  48 238  62  95  46  58  32  60 250]\n",
      " [ 95  50  37 116 230  57 177  68 227 182]\n",
      " [119  55  78 218 108 241   6 160 254 123]\n",
      " [ 44  87 109 104  17 194 147 189 230 253]\n",
      " [ 39 131 209 201  78 108  33 183  81 164]\n",
      " [145 228  35 249 131  92 116  60 209 205]\n",
      " [194 100 198 106  51 221  86 244  52 208]]\n"
     ]
    }
   ],
   "source": [
    "import numpy as np\n",
    "new_image = np.random.randint(0, 256, (10, 10), dtype=np.uint8)\n",
    "\n",
    "print(\"Original New Image Array:\\n\", new_image)"
   ]
  },
  {
   "cell_type": "markdown",
   "id": "ae9d133e-f610-47d2-a9d4-e74edf12eaa0",
   "metadata": {},
   "source": [
    "#### **2. Image Display**"
   ]
  },
  {
   "cell_type": "code",
   "execution_count": 2,
   "id": "303369a5-dd15-4d89-992a-413c89f4b6e7",
   "metadata": {},
   "outputs": [
    {
     "data": {
      "image/png": "[encoded data removed]",
      "text/plain": [
       "<Figure size 640x480 with 1 Axes>"
      ]
     },
     "metadata": {},
     "output_type": "display_data"
    }
   ],
   "source": [
    "import matplotlib.pyplot as plt\n",
    "\n",
    "plt.imshow(new_image, cmap='gray')\n",
    "plt.title('Grayscale New Image')\n",
    "plt.axis('off')\n",
    "plt.show()"
   ]
  },
  {
   "cell_type": "markdown",
   "id": "836ad624-471b-4733-a54e-b29e3a983ac7",
   "metadata": {},
   "source": [
    "#### **3. Grayscale Inversion**"
   ]
  },
  {
   "cell_type": "code",
   "execution_count": 3,
   "id": "2bb33e5a-706b-4637-a49e-b8e42608cf8c",
   "metadata": {},
   "outputs": [
    {
     "name": "stdout",
     "output_type": "stream",
     "text": [
      "Inverted New Image:\n",
      " [[246 105  16 247 130  13 125  33  58 159]\n",
      " [ 40 230 246 128  37  26  59  91 126  97]\n",
      " [166  31 198  93  30  37 159 231  58  37]\n",
      " [219 207  17 193 160 209 197 223 195   5]\n",
      " [160 205 218 139  25 198  78 187  28  73]\n",
      " [136 200 177  37 147  14 249  95   1 132]\n",
      " [211 168 146 151 238  61 108  66  25   2]\n",
      " [216 124  46  54 177 147 222  72 174  91]\n",
      " [110  27 220   6 124 163 139 195  46  50]\n",
      " [ 61 155  57 149 204  34 169  11 203  47]]\n"
     ]
    }
   ],
   "source": [
    "inverted_image = 255 - new_image\n",
    "print(\"Inverted New Image:\\n\", inverted_image)"
   ]
  },
  {
   "cell_type": "markdown",
   "id": "6b893fab-d7db-4a91-8aaf-4523945b8161",
   "metadata": {},
   "source": [
    "#### **4. Threshholding**"
   ]
  },
  {
   "cell_type": "code",
   "execution_count": 4,
   "id": "3f9c285e-5255-4eb4-8fc2-49544f5c14ff",
   "metadata": {},
   "outputs": [
    {
     "name": "stdout",
     "output_type": "stream",
     "text": [
      "Thresholded New Image:\n",
      " [[  0 255 255   0   0 255 255 255 255   0]\n",
      " [255   0   0   0 255 255 255 255 255 255]\n",
      " [  0 255   0 255 255 255   0   0 255 255]\n",
      " [  0   0 255   0   0   0   0   0   0 255]\n",
      " [  0   0   0   0 255   0 255   0 255 255]\n",
      " [  0   0   0 255   0 255   0 255 255   0]\n",
      " [  0   0   0   0   0 255 255 255 255 255]\n",
      " [  0 255 255 255   0   0   0 255   0 255]\n",
      " [255 255   0 255 255   0   0   0 255 255]\n",
      " [255   0 255   0   0 255   0 255   0 255]]\n"
     ]
    }
   ],
   "source": [
    "thresholded_image = np.where(new_image < 128, 0, 255).astype(np.uint8)\n",
    "print(\"Thresholded New Image:\\n\", thresholded_image)"
   ]
  },
  {
   "cell_type": "markdown",
   "id": "9b2cfec7-54f1-40bb-a7fd-264ebaecac42",
   "metadata": {},
   "source": [
    "#### **5. Cropping**"
   ]
  },
  {
   "cell_type": "code",
   "execution_count": 7,
   "id": "b4eae012-b49c-43d0-9df7-60fa13662573",
   "metadata": {},
   "outputs": [
    {
     "name": "stdout",
     "output_type": "stream",
     "text": [
      "Center 4x4 Crop:\n",
      " [[ 62  95  46  58]\n",
      " [116 230  57 177]\n",
      " [218 108 241   6]\n",
      " [104  17 194 147]]\n"
     ]
    }
   ],
   "source": [
    "center_crop = new_image[\n",
    "    new_image.shape[0] // 2 - 2 : new_image.shape[0] // 2 + 2,\n",
    "    new_image.shape[1] // 2 - 2 : new_image.shape[1] // 2 + 2\n",
    "]\n",
    "\n",
    "print(\"Center 4x4 Crop:\\n\", center_crop)"
   ]
  },
  {
   "cell_type": "markdown",
   "id": "35b4e848-c834-411f-b317-53223e69fb65",
   "metadata": {},
   "source": [
    "#### **6. Edge Detection**"
   ]
  },
  {
   "cell_type": "code",
   "execution_count": 6,
   "id": "1ac5dffb-efba-4132-981c-705ccdfe6616",
   "metadata": {},
   "outputs": [
    {
     "name": "stdout",
     "output_type": "stream",
     "text": [
      "Horizontal Edge Detected Image:\n",
      " [[ 141   89 -231  117  117 -112   92  -25 -101    0]\n",
      " [-190  -16  118   91   11  -33  -32  -35   29    0]\n",
      " [ 135 -167  105   63   -7 -122  -72  173   21    0]\n",
      " [  12  190 -176   33  -49   12  -26   28  190    0]\n",
      " [ -45  -13   79  114 -173  120 -109  159  -45    0]\n",
      " [ -64   23  140 -110  133 -235  154   94 -131    0]\n",
      " [  43   22   -5  -87  177  -47   42   41   23    0]\n",
      " [  92   78   -8 -123   30  -75  150 -102   83    0]\n",
      " [  83 -193  214 -118  -39   24  -56  149   -4    0]\n",
      " [ -94   98  -92  -55  170 -135  158 -192  156    0]]\n"
     ]
    }
   ],
   "source": [
    "# Initialize empty array for horizontal differences (skip last column)\n",
    "edge_image = np.zeros_like(new_image, dtype=int)\n",
    "\n",
    "# Loop through each row and compute differences\n",
    "for i in range(new_image.shape[0]):\n",
    "    for j in range(new_image.shape[1] - 1):  # skip last column\n",
    "        edge_image[i, j] = int(new_image[i, j+1]) - int(new_image[i, j])\n",
    "\n",
    "print(\"Horizontal Edge Detected Image:\\n\", edge_image)"
   ]
  }
 ],
 "metadata": {
  "kernelspec": {
   "display_name": "Python [conda env:base] *",
   "language": "python",
   "name": "conda-base-py"
  },
  "language_info": {
   "codemirror_mode": {
    "name": "ipython",
    "version": 3
   },
   "file_extension": ".py",
   "mimetype": "text/x-python",
   "name": "python",
   "nbconvert_exporter": "python",
   "pygments_lexer": "ipython3",
   "version": "3.13.5"
  }
 },
 "nbformat": 4,
 "nbformat_minor": 5
}
