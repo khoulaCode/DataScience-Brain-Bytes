{
 "cells": [
  {
   "cell_type": "code",
   "execution_count": 18,
   "id": "3171964f",
   "metadata": {},
   "outputs": [],
   "source": [
    "import os\n",
    "import numpy as np\n",
    "import pandas as pd\n",
    "from sklearn.model_selection import train_test_split\n",
    "from sklearn.feature_extraction.text import TfidfVectorizer\n",
    "from sklearn.linear_model import LogisticRegression\n",
    "from sklearn.tree import DecisionTreeClassifier\n",
    "from sklearn.ensemble import RandomForestClassifier\n",
    "from sklearn.metrics import accuracy_score\n",
    "from sklearn.svm import LinearSVC\n",
    "from sklearn.metrics import precision_recall_fscore_support\n",
    "from sklearn.metrics import classification_report"
   ]
  },
  {
   "cell_type": "code",
   "execution_count": 19,
   "id": "59539b33",
   "metadata": {},
   "outputs": [
    {
     "data": {
      "text/html": [
       "<div>\n",
       "<style scoped>\n",
       "    .dataframe tbody tr th:only-of-type {\n",
       "        vertical-align: middle;\n",
       "    }\n",
       "\n",
       "    .dataframe tbody tr th {\n",
       "        vertical-align: top;\n",
       "    }\n",
       "\n",
       "    .dataframe thead th {\n",
       "        text-align: right;\n",
       "    }\n",
       "</style>\n",
       "<table border=\"1\" class=\"dataframe\">\n",
       "  <thead>\n",
       "    <tr style=\"text-align: right;\">\n",
       "      <th></th>\n",
       "      <th>id</th>\n",
       "      <th>rating</th>\n",
       "      <th>txt</th>\n",
       "      <th>label</th>\n",
       "      <th>cleaned_review</th>\n",
       "    </tr>\n",
       "  </thead>\n",
       "  <tbody>\n",
       "    <tr>\n",
       "      <th>0</th>\n",
       "      <td>6784</td>\n",
       "      <td>8</td>\n",
       "      <td>I like my Ronald Colman dashing and debonair, ...</td>\n",
       "      <td>1</td>\n",
       "      <td>like ronald colman dashing debonair fellow see...</td>\n",
       "    </tr>\n",
       "    <tr>\n",
       "      <th>1</th>\n",
       "      <td>11884</td>\n",
       "      <td>8</td>\n",
       "      <td>I found this film to be a fascinating study of...</td>\n",
       "      <td>1</td>\n",
       "      <td>found film fascinating study family crisis leo...</td>\n",
       "    </tr>\n",
       "    <tr>\n",
       "      <th>2</th>\n",
       "      <td>1656</td>\n",
       "      <td>9</td>\n",
       "      <td>\"Thieves and Liars\" presents us with a very na...</td>\n",
       "      <td>1</td>\n",
       "      <td>thief liar present naturalistic depiction leve...</td>\n",
       "    </tr>\n",
       "    <tr>\n",
       "      <th>3</th>\n",
       "      <td>4745</td>\n",
       "      <td>7</td>\n",
       "      <td>I can't understand why they decided to release...</td>\n",
       "      <td>1</td>\n",
       "      <td>cant understand decided release film introduce...</td>\n",
       "    </tr>\n",
       "    <tr>\n",
       "      <th>4</th>\n",
       "      <td>305</td>\n",
       "      <td>8</td>\n",
       "      <td>Screwball comedy about romantic mismatches in ...</td>\n",
       "      <td>1</td>\n",
       "      <td>screwball comedy romantic mismatch new york ci...</td>\n",
       "    </tr>\n",
       "    <tr>\n",
       "      <th>...</th>\n",
       "      <td>...</td>\n",
       "      <td>...</td>\n",
       "      <td>...</td>\n",
       "      <td>...</td>\n",
       "      <td>...</td>\n",
       "    </tr>\n",
       "    <tr>\n",
       "      <th>9995</th>\n",
       "      <td>2510</td>\n",
       "      <td>4</td>\n",
       "      <td>This TV film tells the story of extrovert Fran...</td>\n",
       "      <td>0</td>\n",
       "      <td>film tell story extrovert frannie suddenly ret...</td>\n",
       "    </tr>\n",
       "    <tr>\n",
       "      <th>9996</th>\n",
       "      <td>5041</td>\n",
       "      <td>2</td>\n",
       "      <td>Ye Lou's film Purple Butterfly pits a secret o...</td>\n",
       "      <td>0</td>\n",
       "      <td>lous film purple butterfly pit secret organiza...</td>\n",
       "    </tr>\n",
       "    <tr>\n",
       "      <th>9997</th>\n",
       "      <td>8517</td>\n",
       "      <td>2</td>\n",
       "      <td>The biggest mystery of Veronica Mars is not on...</td>\n",
       "      <td>0</td>\n",
       "      <td>biggest mystery veronica mar one tackle screen...</td>\n",
       "    </tr>\n",
       "    <tr>\n",
       "      <th>9998</th>\n",
       "      <td>5903</td>\n",
       "      <td>1</td>\n",
       "      <td>I live in Salt Lake City and I'm not a Mormon,...</td>\n",
       "      <td>0</td>\n",
       "      <td>live salt lake city mormon rent movie well liv...</td>\n",
       "    </tr>\n",
       "    <tr>\n",
       "      <th>9999</th>\n",
       "      <td>11429</td>\n",
       "      <td>1</td>\n",
       "      <td>Wow probable the worst movie i have ever seen!...</td>\n",
       "      <td>0</td>\n",
       "      <td>wow probable worst movie ever seen person neve...</td>\n",
       "    </tr>\n",
       "  </tbody>\n",
       "</table>\n",
       "<p>10000 rows × 5 columns</p>\n",
       "</div>"
      ],
      "text/plain": [
       "         id  rating                                                txt  label  \\\n",
       "0      6784       8  I like my Ronald Colman dashing and debonair, ...      1   \n",
       "1     11884       8  I found this film to be a fascinating study of...      1   \n",
       "2      1656       9  \"Thieves and Liars\" presents us with a very na...      1   \n",
       "3      4745       7  I can't understand why they decided to release...      1   \n",
       "4       305       8  Screwball comedy about romantic mismatches in ...      1   \n",
       "...     ...     ...                                                ...    ...   \n",
       "9995   2510       4  This TV film tells the story of extrovert Fran...      0   \n",
       "9996   5041       2  Ye Lou's film Purple Butterfly pits a secret o...      0   \n",
       "9997   8517       2  The biggest mystery of Veronica Mars is not on...      0   \n",
       "9998   5903       1  I live in Salt Lake City and I'm not a Mormon,...      0   \n",
       "9999  11429       1  Wow probable the worst movie i have ever seen!...      0   \n",
       "\n",
       "                                         cleaned_review  \n",
       "0     like ronald colman dashing debonair fellow see...  \n",
       "1     found film fascinating study family crisis leo...  \n",
       "2     thief liar present naturalistic depiction leve...  \n",
       "3     cant understand decided release film introduce...  \n",
       "4     screwball comedy romantic mismatch new york ci...  \n",
       "...                                                 ...  \n",
       "9995  film tell story extrovert frannie suddenly ret...  \n",
       "9996  lous film purple butterfly pit secret organiza...  \n",
       "9997  biggest mystery veronica mar one tackle screen...  \n",
       "9998  live salt lake city mormon rent movie well liv...  \n",
       "9999  wow probable worst movie ever seen person neve...  \n",
       "\n",
       "[10000 rows x 5 columns]"
      ]
     },
     "execution_count": 19,
     "metadata": {},
     "output_type": "execute_result"
    }
   ],
   "source": [
    "df = pd.read_csv(\"data/imdb_cleaned_sample.csv\")\n",
    "df"
   ]
  },
  {
   "cell_type": "code",
   "execution_count": 20,
   "id": "7a44c988",
   "metadata": {},
   "outputs": [],
   "source": [
    "df.drop(columns=['txt'], inplace=True)"
   ]
  },
  {
   "cell_type": "code",
   "execution_count": 21,
   "id": "8bdb1a17",
   "metadata": {},
   "outputs": [],
   "source": [
    "df.columns = df.columns.str.strip()"
   ]
  },
  {
   "cell_type": "code",
   "execution_count": 22,
   "id": "2919a7e1",
   "metadata": {},
   "outputs": [],
   "source": [
    "X = df[\"cleaned_review\"]\n",
    "y = df[\"label\"] "
   ]
  },
  {
   "cell_type": "code",
   "execution_count": 23,
   "id": "4293dd61",
   "metadata": {},
   "outputs": [],
   "source": [
    "X_train, X_test, y_train, y_test = train_test_split(X, y, test_size=0.2, random_state=42)"
   ]
  },
  {
   "cell_type": "code",
   "execution_count": 24,
   "id": "f689c22c",
   "metadata": {},
   "outputs": [],
   "source": [
    "tfidf = TfidfVectorizer(max_features=5000, stop_words=\"english\")\n",
    "X_train_tfidf = tfidf.fit_transform(X_train)\n",
    "X_test_tfidf = tfidf.transform(X_test)"
   ]
  },
  {
   "cell_type": "code",
   "execution_count": null,
   "id": "dc677f3c",
   "metadata": {},
   "outputs": [],
   "source": [
    "tfidf = TfidfVectorizer(max_features=5000, stop_words=\"english\")\n",
    "X_train_tfidf = tfidf.fit_transform(X_train)\n",
    "X_test_tfidf = tfidf.transform(X_test)"
   ]
  },
  {
   "cell_type": "code",
   "execution_count": null,
   "id": "6fa2323d",
   "metadata": {},
   "outputs": [
    {
     "name": "stdout",
     "output_type": "stream",
     "text": [
      "\n",
      "=== Logistic Regression ===\n",
      "              precision    recall  f1-score   support\n",
      "\n",
      "           0       0.88      0.83      0.85       988\n",
      "           1       0.84      0.89      0.86      1012\n",
      "\n",
      "    accuracy                           0.86      2000\n",
      "   macro avg       0.86      0.86      0.86      2000\n",
      "weighted avg       0.86      0.86      0.86      2000\n",
      "\n",
      "\n",
      "=== Decision Tree ===\n",
      "              precision    recall  f1-score   support\n",
      "\n",
      "           0       0.68      0.69      0.69       988\n",
      "           1       0.70      0.68      0.69      1012\n",
      "\n",
      "    accuracy                           0.69      2000\n",
      "   macro avg       0.69      0.69      0.69      2000\n",
      "weighted avg       0.69      0.69      0.69      2000\n",
      "\n"
     ]
    }
   ],
   "source": [
    "#LogisticRegression\n",
    "log_reg = LogisticRegression(max_iter=1000)\n",
    "log_reg.fit(X_train_tfidf, y_train)\n",
    "y_pred = log_reg.predict(X_test_tfidf)\n",
    "print(\"\\n=== Logistic Regression ===\")\n",
    "print(classification_report(y_test, y_pred))\n",
    "\n",
    "# 6. Decision Tree\n",
    "dt = DecisionTreeClassifier(random_state=42)\n",
    "dt.fit(X_train_tfidf, y_train)\n",
    "y_pred = dt.predict(X_test_tfidf)\n",
    "print(\"\\n=== Decision Tree ===\")\n",
    "print(classification_report(y_test, y_pred))"
   ]
  },
  {
   "cell_type": "code",
   "execution_count": 27,
   "id": "88ac147b",
   "metadata": {},
   "outputs": [
    {
     "name": "stdout",
     "output_type": "stream",
     "text": [
      "\n",
      "=== Random Forest ===\n",
      "              precision    recall  f1-score   support\n",
      "\n",
      "           0       0.82      0.82      0.82       988\n",
      "           1       0.83      0.82      0.82      1012\n",
      "\n",
      "    accuracy                           0.82      2000\n",
      "   macro avg       0.82      0.82      0.82      2000\n",
      "weighted avg       0.82      0.82      0.82      2000\n",
      "\n"
     ]
    }
   ],
   "source": [
    "# Random Forest\n",
    "rf = RandomForestClassifier(n_estimators=100, random_state=42)\n",
    "rf.fit(X_train_tfidf, y_train)\n",
    "y_pred = rf.predict(X_test_tfidf)\n",
    "print(\"\\n=== Random Forest ===\")\n",
    "print(classification_report(y_test, y_pred))\n",
    "\n"
   ]
  },
  {
   "cell_type": "code",
   "execution_count": 28,
   "id": "b1e05e7c",
   "metadata": {},
   "outputs": [
    {
     "name": "stdout",
     "output_type": "stream",
     "text": [
      "\n",
      "=== Linear SVM ===\n",
      "              precision    recall  f1-score   support\n",
      "\n",
      "           0       0.85      0.83      0.84       988\n",
      "           1       0.84      0.86      0.85      1012\n",
      "\n",
      "    accuracy                           0.84      2000\n",
      "   macro avg       0.84      0.84      0.84      2000\n",
      "weighted avg       0.84      0.84      0.84      2000\n",
      "\n"
     ]
    }
   ],
   "source": [
    "# Support Vector Machine\n",
    "svm = LinearSVC(random_state=42)\n",
    "svm.fit(X_train_tfidf, y_train)\n",
    "y_pred = svm.predict(X_test_tfidf)\n",
    "print(\"\\n=== Linear SVM ===\")\n",
    "print(classification_report(y_test, y_pred))"
   ]
  },
  {
   "cell_type": "markdown",
   "id": "4fb05173",
   "metadata": {},
   "source": [
    "Among the four models tested, Logistic Regression performed best with 86% accuracy, balancing precision and recall effectively. Linear SVM was close behind at 84%, while Random Forest reached 82%. The Decision Tree lagged at 69%, showing poor suitability for text data.\n",
    "\n",
    "so Logistic Regression is the top choice, offering both high accuracy and interpretability, making it the most reliable model for sentiment classification."
   ]
  }
 ],
 "metadata": {
  "kernelspec": {
   "display_name": "base",
   "language": "python",
   "name": "python3"
  },
  "language_info": {
   "codemirror_mode": {
    "name": "ipython",
    "version": 3
   },
   "file_extension": ".py",
   "mimetype": "text/x-python",
   "name": "python",
   "nbconvert_exporter": "python",
   "pygments_lexer": "ipython3",
   "version": "3.13.5"
  }
 },
 "nbformat": 4,
 "nbformat_minor": 5
}
