{
 "cells": [
  {
   "cell_type": "markdown",
   "id": "5edecc6f-4cb8-4656-8ca9-69f43f75945e",
   "metadata": {},
   "source": [
    "## I want to build a simple keyword-based news classification model using the short_description field of news articles,\n",
    " So that I can evaluate how well frequent words alone can classify articles into four categories.\n",
    " Acceptance Criteria\n",
    "1. Dataset Preparation\n",
    "Use the Kaggle News Category Dataset.\n",
    "Keep only the categories: POLITICS, TRAVEL, SPORTS, HOME & LIVING.\n",
    "Select 1000 samples per category (total 4000).\n",
    "Retain only the short_description column and corresponding label.\n",
    "Perform an 80/20 stratified split into train and test sets.\n",
    "2. Word Frequency & Word Cloud\n",
    "Generate word clouds from the short_description texts in the training set for each category.\n",
    "Extract the most frequent words per category.\n",
    "Save these into category-specific sets.\n",
    "3. Classification Approach\n",
    "Classify test samples based on the presence of frequent words in their short_description.\n",
    "Start with top 10 frequent words per category.\n",
    "Increase to 20, 30, 50… words and compare results.\n",
    "4. Evaluation\n",
    "Compute performance using accuracy.\n",
    "Compare how classification improves (or not) as more frequent words are used.\n",
    "###  Tasks\n",
    "1. Data Preprocessing\n",
    "Load dataset.\n",
    "Filter only the 4 categories.\n",
    "Keep short_description and label only.\n",
    "Balance dataset (1000 per category).\n",
    "Stratified 80/20 split.\n",
    "2. Exploratory Analysis\n",
    "Generate word clouds from short_description texts (per category).\n",
    "Save top frequent words into sets.\n",
    "3. Keyword-based Classification\n",
    "For each test sample, count overlaps between its short_description words and each category’s frequent word set.\n",
    "Assign label of the category with highest overlap.\n",
    "Define rule for ties (e.g., assign \"unknown\" or random among tied categories).\n",
    "4. Experimentation\n",
    "Run classification with top 10 words per category.\n",
    "Repeat with 20, 30, 50… words.\n",
    "Record performance metrics.\n",
    "5. Results & Reporting\n",
    "Plot accuracy vs. number of frequent words.\n",
    "Analyze which categories are easier or harder to classify using only frequent words from short descriptions."
   ]
  },
  {
   "cell_type": "code",
   "execution_count": 1,
   "id": "21257636-4dba-4087-af16-f3b053d7d0a7",
   "metadata": {},
   "outputs": [
    {
     "ename": "NameError",
     "evalue": "name 'pd' is not defined",
     "output_type": "error",
     "traceback": [
      "\u001b[1;31m---------------------------------------------------------------------------\u001b[0m",
      "\u001b[1;31mNameError\u001b[0m                                 Traceback (most recent call last)",
      "Cell \u001b[1;32mIn[1], line 2\u001b[0m\n\u001b[0;32m      1\u001b[0m \u001b[38;5;66;03m# 1. Load dataset\u001b[39;00m\n\u001b[1;32m----> 2\u001b[0m df \u001b[38;5;241m=\u001b[39m pd\u001b[38;5;241m.\u001b[39mread_json(\u001b[38;5;124m\"\u001b[39m\u001b[38;5;124mDesktop/JUPYTER MAIN FOLDER/18th_aug _unicode/News_Category_Dataset_v3.json\u001b[39m\u001b[38;5;124m\"\u001b[39m, lines\u001b[38;5;241m=\u001b[39m\u001b[38;5;28;01mTrue\u001b[39;00m)\n\u001b[0;32m      4\u001b[0m \u001b[38;5;66;03m# 2. Keep only the 4 target categories\u001b[39;00m\n\u001b[0;32m      5\u001b[0m categories \u001b[38;5;241m=\u001b[39m [\u001b[38;5;124m\"\u001b[39m\u001b[38;5;124mPOLITICS\u001b[39m\u001b[38;5;124m\"\u001b[39m, \u001b[38;5;124m\"\u001b[39m\u001b[38;5;124mTRAVEL\u001b[39m\u001b[38;5;124m\"\u001b[39m, \u001b[38;5;124m\"\u001b[39m\u001b[38;5;124mSPORTS\u001b[39m\u001b[38;5;124m\"\u001b[39m, \u001b[38;5;124m\"\u001b[39m\u001b[38;5;124mHOME & LIVING\u001b[39m\u001b[38;5;124m\"\u001b[39m]\n",
      "\u001b[1;31mNameError\u001b[0m: name 'pd' is not defined"
     ]
    }
   ],
   "source": []
  },
  {
   "cell_type": "code",
   "execution_count": null,
   "id": "2fcdf5f5-a04f-4448-87f1-62efa1387c84",
   "metadata": {},
   "outputs": [],
   "source": []
  }
 ],
 "metadata": {
  "kernelspec": {
   "display_name": "Python [conda env:base] *",
   "language": "python",
   "name": "conda-base-py"
  },
  "language_info": {
   "codemirror_mode": {
    "name": "ipython",
    "version": 3
   },
   "file_extension": ".py",
   "mimetype": "text/x-python",
   "name": "python",
   "nbconvert_exporter": "python",
   "pygments_lexer": "ipython3",
   "version": "3.13.5"
  }
 },
 "nbformat": 4,
 "nbformat_minor": 5
}
