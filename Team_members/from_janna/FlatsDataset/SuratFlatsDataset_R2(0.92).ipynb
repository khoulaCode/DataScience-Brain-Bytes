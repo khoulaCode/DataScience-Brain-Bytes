{
 "cells": [
  {
   "cell_type": "markdown",
   "id": "c8e4d61c-1594-4781-8246-f0bd6c358841",
   "metadata": {},
   "source": [
    "# Surat Flats Dataset"
   ]
  },
  {
   "cell_type": "code",
   "execution_count": 1,
   "id": "75345c9a-b7d4-4d67-ad47-2bee7072324f",
   "metadata": {},
   "outputs": [],
   "source": [
    "import numpy as np\n",
    "import pandas as pd\n",
    "import matplotlib.pyplot as plt\n",
    "import seaborn as sns\n",
    "from sklearn.linear_model import LinearRegression\n",
    "from sklearn.model_selection import train_test_split\n",
    "from sklearn.metrics import mean_squared_error, r2_score"
   ]
  },
  {
   "cell_type": "markdown",
   "id": "9379d3dc-50e5-4925-8820-cdcd62d1f819",
   "metadata": {},
   "source": [
    "#### Load the Dataset"
   ]
  },
  {
   "cell_type": "code",
   "execution_count": 2,
   "id": "f442e11d-77bb-49c6-bc58-f7a66e215c33",
   "metadata": {},
   "outputs": [],
   "source": [
    "df = pd.read_csv(r\"surat_uncleaned.csv\")"
   ]
  },
  {
   "cell_type": "code",
   "execution_count": 3,
   "id": "c70af7e4-9f3d-491c-a5e9-567981a21f5d",
   "metadata": {},
   "outputs": [
    {
     "data": {
      "text/plain": [
       "(4525, 11)"
      ]
     },
     "execution_count": 3,
     "metadata": {},
     "output_type": "execute_result"
    }
   ],
   "source": [
    "df.shape"
   ]
  },
  {
   "cell_type": "code",
   "execution_count": 4,
   "id": "5120347c-7ae4-4354-bcfb-5c98b0767668",
   "metadata": {},
   "outputs": [
    {
     "data": {
      "text/html": [
       "<div>\n",
       "<style scoped>\n",
       "    .dataframe tbody tr th:only-of-type {\n",
       "        vertical-align: middle;\n",
       "    }\n",
       "\n",
       "    .dataframe tbody tr th {\n",
       "        vertical-align: top;\n",
       "    }\n",
       "\n",
       "    .dataframe thead th {\n",
       "        text-align: right;\n",
       "    }\n",
       "</style>\n",
       "<table border=\"1\" class=\"dataframe\">\n",
       "  <thead>\n",
       "    <tr style=\"text-align: right;\">\n",
       "      <th></th>\n",
       "      <th>property_name</th>\n",
       "      <th>areaWithType</th>\n",
       "      <th>square_feet</th>\n",
       "      <th>transaction</th>\n",
       "      <th>status</th>\n",
       "      <th>floor</th>\n",
       "      <th>furnishing</th>\n",
       "      <th>facing</th>\n",
       "      <th>description</th>\n",
       "      <th>price_per_sqft</th>\n",
       "      <th>price</th>\n",
       "    </tr>\n",
       "  </thead>\n",
       "  <tbody>\n",
       "    <tr>\n",
       "      <th>0</th>\n",
       "      <td>2 BHK Apartment for Sale in Dindoli Surat</td>\n",
       "      <td>Carpet Area</td>\n",
       "      <td>644 sqft</td>\n",
       "      <td>New Property</td>\n",
       "      <td>Poss. by Oct '24</td>\n",
       "      <td>5 out of 10</td>\n",
       "      <td>Unfurnished</td>\n",
       "      <td>West</td>\n",
       "      <td>Luxury project with basement parking, Solar ro...</td>\n",
       "      <td>₹2,891 per sqft</td>\n",
       "      <td>₹33.8 Lac</td>\n",
       "    </tr>\n",
       "    <tr>\n",
       "      <th>1</th>\n",
       "      <td>2 BHK Apartment for Sale in Althan Surat</td>\n",
       "      <td>Super Area</td>\n",
       "      <td>1278 sqft</td>\n",
       "      <td>New Property</td>\n",
       "      <td>Poss. by Jan '26</td>\n",
       "      <td>6 out of 14</td>\n",
       "      <td>Unfurnished</td>\n",
       "      <td>South -West</td>\n",
       "      <td>2 And 3 BHK Luxurious Flat for Sell In New Alt...</td>\n",
       "      <td>₹3,551 per sqft</td>\n",
       "      <td>₹45.4 Lac</td>\n",
       "    </tr>\n",
       "    <tr>\n",
       "      <th>2</th>\n",
       "      <td>2 BHK Apartment for Sale in Pal Gam Surat</td>\n",
       "      <td>Super Area</td>\n",
       "      <td>1173 sqft</td>\n",
       "      <td>Resale</td>\n",
       "      <td>Ready to Move</td>\n",
       "      <td>5 out of 13</td>\n",
       "      <td>Semi-Furnished</td>\n",
       "      <td>East</td>\n",
       "      <td>This affordable 2 BHK flat is situated along a...</td>\n",
       "      <td>₹3,800 per sqft</td>\n",
       "      <td>₹44.6 Lac</td>\n",
       "    </tr>\n",
       "    <tr>\n",
       "      <th>3</th>\n",
       "      <td>2 BHK Apartment for Sale in Jahangirabad Surat</td>\n",
       "      <td>Carpet Area</td>\n",
       "      <td>700 sqft</td>\n",
       "      <td>New Property</td>\n",
       "      <td>Ready to Move</td>\n",
       "      <td>6 out of 14</td>\n",
       "      <td>Unfurnished</td>\n",
       "      <td>East</td>\n",
       "      <td>2 BHK Flat For sell IN Jahangirabad Prime Loca...</td>\n",
       "      <td>₹3,966 per sqft</td>\n",
       "      <td>₹47 Lac</td>\n",
       "    </tr>\n",
       "    <tr>\n",
       "      <th>4</th>\n",
       "      <td>2 BHK Apartment for Sale in Orchid Fantasia, P...</td>\n",
       "      <td>Super Area</td>\n",
       "      <td>1250 sqft</td>\n",
       "      <td>Orchid Fantasia</td>\n",
       "      <td>New Property</td>\n",
       "      <td>Unfurnished</td>\n",
       "      <td>2</td>\n",
       "      <td>2</td>\n",
       "      <td>Multistorey Apartment for Sale in Palanpur, Su...</td>\n",
       "      <td>₹3,600 per sqft</td>\n",
       "      <td>₹45 Lac</td>\n",
       "    </tr>\n",
       "  </tbody>\n",
       "</table>\n",
       "</div>"
      ],
      "text/plain": [
       "                                       property_name areaWithType square_feet  \\\n",
       "0          2 BHK Apartment for Sale in Dindoli Surat  Carpet Area    644 sqft   \n",
       "1           2 BHK Apartment for Sale in Althan Surat   Super Area   1278 sqft   \n",
       "2          2 BHK Apartment for Sale in Pal Gam Surat   Super Area   1173 sqft   \n",
       "3     2 BHK Apartment for Sale in Jahangirabad Surat  Carpet Area    700 sqft   \n",
       "4  2 BHK Apartment for Sale in Orchid Fantasia, P...   Super Area   1250 sqft   \n",
       "\n",
       "       transaction            status        floor      furnishing  \\\n",
       "0     New Property  Poss. by Oct '24  5 out of 10     Unfurnished   \n",
       "1     New Property  Poss. by Jan '26  6 out of 14     Unfurnished   \n",
       "2           Resale     Ready to Move  5 out of 13  Semi-Furnished   \n",
       "3     New Property     Ready to Move  6 out of 14     Unfurnished   \n",
       "4  Orchid Fantasia      New Property  Unfurnished               2   \n",
       "\n",
       "        facing                                        description  \\\n",
       "0         West  Luxury project with basement parking, Solar ro...   \n",
       "1  South -West  2 And 3 BHK Luxurious Flat for Sell In New Alt...   \n",
       "2         East  This affordable 2 BHK flat is situated along a...   \n",
       "3         East  2 BHK Flat For sell IN Jahangirabad Prime Loca...   \n",
       "4            2  Multistorey Apartment for Sale in Palanpur, Su...   \n",
       "\n",
       "     price_per_sqft       price  \n",
       "0  ₹2,891 per sqft   ₹33.8 Lac   \n",
       "1  ₹3,551 per sqft   ₹45.4 Lac   \n",
       "2  ₹3,800 per sqft   ₹44.6 Lac   \n",
       "3  ₹3,966 per sqft     ₹47 Lac   \n",
       "4  ₹3,600 per sqft     ₹45 Lac   "
      ]
     },
     "execution_count": 4,
     "metadata": {},
     "output_type": "execute_result"
    }
   ],
   "source": [
    "df.head()"
   ]
  },
  {
   "cell_type": "code",
   "execution_count": 5,
   "id": "a5b13de8-0935-4740-9215-2e7ef05dcb76",
   "metadata": {},
   "outputs": [
    {
     "name": "stdout",
     "output_type": "stream",
     "text": [
      "<class 'pandas.core.frame.DataFrame'>\n",
      "RangeIndex: 4525 entries, 0 to 4524\n",
      "Data columns (total 11 columns):\n",
      " #   Column          Non-Null Count  Dtype \n",
      "---  ------          --------------  ----- \n",
      " 0   property_name   4525 non-null   object\n",
      " 1   areaWithType    4525 non-null   object\n",
      " 2   square_feet     4525 non-null   object\n",
      " 3   transaction     4421 non-null   object\n",
      " 4   status          4524 non-null   object\n",
      " 5   floor           4480 non-null   object\n",
      " 6   furnishing      4185 non-null   object\n",
      " 7   facing          3936 non-null   object\n",
      " 8   description     3154 non-null   object\n",
      " 9   price_per_sqft  4157 non-null   object\n",
      " 10  price           4525 non-null   object\n",
      "dtypes: object(11)\n",
      "memory usage: 389.0+ KB\n"
     ]
    }
   ],
   "source": [
    "df.info()"
   ]
  },
  {
   "cell_type": "code",
   "execution_count": 6,
   "id": "5116e18b-ce40-4e13-9a30-8dc0422c19a6",
   "metadata": {},
   "outputs": [
    {
     "data": {
      "text/plain": [
       "property_name        0\n",
       "areaWithType         0\n",
       "square_feet          0\n",
       "transaction        104\n",
       "status               1\n",
       "floor               45\n",
       "furnishing         340\n",
       "facing             589\n",
       "description       1371\n",
       "price_per_sqft     368\n",
       "price                0\n",
       "dtype: int64"
      ]
     },
     "execution_count": 6,
     "metadata": {},
     "output_type": "execute_result"
    }
   ],
   "source": [
    "df.isnull().sum()"
   ]
  },
  {
   "cell_type": "code",
   "execution_count": 8,
   "id": "492b5496-61e1-4758-806e-3074fcf64472",
   "metadata": {},
   "outputs": [
    {
     "data": {
      "text/html": [
       "<div>\n",
       "<style scoped>\n",
       "    .dataframe tbody tr th:only-of-type {\n",
       "        vertical-align: middle;\n",
       "    }\n",
       "\n",
       "    .dataframe tbody tr th {\n",
       "        vertical-align: top;\n",
       "    }\n",
       "\n",
       "    .dataframe thead th {\n",
       "        text-align: right;\n",
       "    }\n",
       "</style>\n",
       "<table border=\"1\" class=\"dataframe\">\n",
       "  <thead>\n",
       "    <tr style=\"text-align: right;\">\n",
       "      <th></th>\n",
       "      <th>count</th>\n",
       "      <th>unique</th>\n",
       "      <th>top</th>\n",
       "      <th>freq</th>\n",
       "    </tr>\n",
       "  </thead>\n",
       "  <tbody>\n",
       "    <tr>\n",
       "      <th>property_name</th>\n",
       "      <td>4525</td>\n",
       "      <td>1992</td>\n",
       "      <td>3 BHK Apartment for Sale in Vesu Surat</td>\n",
       "      <td>93</td>\n",
       "    </tr>\n",
       "    <tr>\n",
       "      <th>areaWithType</th>\n",
       "      <td>4525</td>\n",
       "      <td>6</td>\n",
       "      <td>Super Area</td>\n",
       "      <td>2599</td>\n",
       "    </tr>\n",
       "    <tr>\n",
       "      <th>square_feet</th>\n",
       "      <td>4525</td>\n",
       "      <td>1399</td>\n",
       "      <td>1000 sqft</td>\n",
       "      <td>77</td>\n",
       "    </tr>\n",
       "    <tr>\n",
       "      <th>transaction</th>\n",
       "      <td>4421</td>\n",
       "      <td>38</td>\n",
       "      <td>Resale</td>\n",
       "      <td>2197</td>\n",
       "    </tr>\n",
       "    <tr>\n",
       "      <th>status</th>\n",
       "      <td>4524</td>\n",
       "      <td>138</td>\n",
       "      <td>Ready to Move</td>\n",
       "      <td>3078</td>\n",
       "    </tr>\n",
       "    <tr>\n",
       "      <th>floor</th>\n",
       "      <td>4480</td>\n",
       "      <td>222</td>\n",
       "      <td>Resale</td>\n",
       "      <td>431</td>\n",
       "    </tr>\n",
       "    <tr>\n",
       "      <th>furnishing</th>\n",
       "      <td>4185</td>\n",
       "      <td>78</td>\n",
       "      <td>Unfurnished</td>\n",
       "      <td>2322</td>\n",
       "    </tr>\n",
       "    <tr>\n",
       "      <th>facing</th>\n",
       "      <td>3936</td>\n",
       "      <td>176</td>\n",
       "      <td>East</td>\n",
       "      <td>1487</td>\n",
       "    </tr>\n",
       "    <tr>\n",
       "      <th>description</th>\n",
       "      <td>3154</td>\n",
       "      <td>2588</td>\n",
       "      <td>Multistorey apartment is available for sale. I...</td>\n",
       "      <td>35</td>\n",
       "    </tr>\n",
       "    <tr>\n",
       "      <th>price_per_sqft</th>\n",
       "      <td>4157</td>\n",
       "      <td>2134</td>\n",
       "      <td>₹6,000 per sqft</td>\n",
       "      <td>64</td>\n",
       "    </tr>\n",
       "    <tr>\n",
       "      <th>price</th>\n",
       "      <td>4525</td>\n",
       "      <td>841</td>\n",
       "      <td>Call for Price</td>\n",
       "      <td>173</td>\n",
       "    </tr>\n",
       "  </tbody>\n",
       "</table>\n",
       "</div>"
      ],
      "text/plain": [
       "               count unique  \\\n",
       "property_name   4525   1992   \n",
       "areaWithType    4525      6   \n",
       "square_feet     4525   1399   \n",
       "transaction     4421     38   \n",
       "status          4524    138   \n",
       "floor           4480    222   \n",
       "furnishing      4185     78   \n",
       "facing          3936    176   \n",
       "description     3154   2588   \n",
       "price_per_sqft  4157   2134   \n",
       "price           4525    841   \n",
       "\n",
       "                                                              top  freq  \n",
       "property_name              3 BHK Apartment for Sale in Vesu Surat    93  \n",
       "areaWithType                                           Super Area  2599  \n",
       "square_feet                                             1000 sqft    77  \n",
       "transaction                                                Resale  2197  \n",
       "status                                              Ready to Move  3078  \n",
       "floor                                                      Resale   431  \n",
       "furnishing                                            Unfurnished  2322  \n",
       "facing                                                       East  1487  \n",
       "description     Multistorey apartment is available for sale. I...    35  \n",
       "price_per_sqft                                   ₹6,000 per sqft     64  \n",
       "price                                              Call for Price   173  "
      ]
     },
     "execution_count": 8,
     "metadata": {},
     "output_type": "execute_result"
    }
   ],
   "source": [
    "df.describe().T"
   ]
  },
  {
   "cell_type": "code",
   "execution_count": 9,
   "id": "691d9b2e-db1f-4a17-9050-26f200d5515e",
   "metadata": {},
   "outputs": [
    {
     "data": {
      "text/plain": [
       "array(['644 sqft', '1278 sqft', '1173 sqft', ..., '2545 sqft',\n",
       "       '5175 sqft', '2620 sqft'], dtype=object)"
      ]
     },
     "execution_count": 9,
     "metadata": {},
     "output_type": "execute_result"
    }
   ],
   "source": [
    "df[\"square_feet\"].unique()"
   ]
  },
  {
   "cell_type": "markdown",
   "id": "f60b59a1-514f-4565-9655-61cec62f1e14",
   "metadata": {},
   "source": [
    "#### Clean `price` Column"
   ]
  },
  {
   "cell_type": "code",
   "execution_count": 10,
   "id": "33e637da-d6e3-4e41-ad2d-5568181d1da4",
   "metadata": {},
   "outputs": [],
   "source": [
    "def convert_price(value):\n",
    "    if pd.isna(value):\n",
    "        return np.nan\n",
    "    value = str(value).lower()\n",
    "    value = value.replace(\"₹\", \"\").replace(\",\", \"\").strip()\n",
    "    if 'cr' in value:\n",
    "        return float(value.replace(\"cr\", \"\").strip()) * 10000000\n",
    "    elif 'lac' in value:\n",
    "        return float(value.replace(\"lac\", \"\").strip()) * 100000\n",
    "    else:\n",
    "        try:\n",
    "            return float(value)\n",
    "        except:\n",
    "            return np.nan"
   ]
  },
  {
   "cell_type": "code",
   "execution_count": 11,
   "id": "de510170-7106-4779-9576-c7972beddca5",
   "metadata": {},
   "outputs": [],
   "source": [
    "df['price'] = df['price'].apply(convert_price)"
   ]
  },
  {
   "cell_type": "code",
   "execution_count": 13,
   "id": "c9046118-56f3-4fdb-b94d-105c3fcff65f",
   "metadata": {},
   "outputs": [
    {
     "data": {
      "text/html": [
       "<div>\n",
       "<style scoped>\n",
       "    .dataframe tbody tr th:only-of-type {\n",
       "        vertical-align: middle;\n",
       "    }\n",
       "\n",
       "    .dataframe tbody tr th {\n",
       "        vertical-align: top;\n",
       "    }\n",
       "\n",
       "    .dataframe thead th {\n",
       "        text-align: right;\n",
       "    }\n",
       "</style>\n",
       "<table border=\"1\" class=\"dataframe\">\n",
       "  <thead>\n",
       "    <tr style=\"text-align: right;\">\n",
       "      <th></th>\n",
       "      <th>price</th>\n",
       "    </tr>\n",
       "  </thead>\n",
       "  <tbody>\n",
       "    <tr>\n",
       "      <th>0</th>\n",
       "      <td>3380000.0</td>\n",
       "    </tr>\n",
       "    <tr>\n",
       "      <th>1</th>\n",
       "      <td>4540000.0</td>\n",
       "    </tr>\n",
       "    <tr>\n",
       "      <th>2</th>\n",
       "      <td>4460000.0</td>\n",
       "    </tr>\n",
       "    <tr>\n",
       "      <th>3</th>\n",
       "      <td>4700000.0</td>\n",
       "    </tr>\n",
       "    <tr>\n",
       "      <th>4</th>\n",
       "      <td>4500000.0</td>\n",
       "    </tr>\n",
       "  </tbody>\n",
       "</table>\n",
       "</div>"
      ],
      "text/plain": [
       "       price\n",
       "0  3380000.0\n",
       "1  4540000.0\n",
       "2  4460000.0\n",
       "3  4700000.0\n",
       "4  4500000.0"
      ]
     },
     "execution_count": 13,
     "metadata": {},
     "output_type": "execute_result"
    }
   ],
   "source": [
    "df[[\"price\"]].head()"
   ]
  },
  {
   "cell_type": "markdown",
   "id": "bce267b9-8a6c-4adc-96e5-2234121c97b9",
   "metadata": {},
   "source": [
    "#### Clean the `square_feet` Column"
   ]
  },
  {
   "cell_type": "code",
   "execution_count": 14,
   "id": "0b393e7d-5592-4620-8bd8-4197bbf4c7f3",
   "metadata": {},
   "outputs": [],
   "source": [
    "def convert_area(area_str):\n",
    "    if pd.isna(area_str):\n",
    "        return np.nan\n",
    "    area_str = area_str.lower().replace(\",\", \"\").strip()\n",
    "    \n",
    "    try:\n",
    "        if \"sqft\" in area_str:\n",
    "            return float(area_str.replace(\"sqft\", \"\").strip())\n",
    "        elif \"sqm\" in area_str:\n",
    "            return float(area_str.replace(\"sqm\", \"\").strip()) * 10.7639\n",
    "        elif \"sqyrd\" in area_str:\n",
    "            return float(area_str.replace(\"sqyrd\", \"\").strip()) * 9\n",
    "        elif \"rood\" in area_str:\n",
    "            return float(area_str.replace(\"rood\", \"\").strip()) * 10890\n",
    "        else:\n",
    "            return float(area_str)\n",
    "    except:\n",
    "        return np.nan"
   ]
  },
  {
   "cell_type": "code",
   "execution_count": 15,
   "id": "73bc876f-ef5c-4c38-87e7-cd4ca0b9082e",
   "metadata": {},
   "outputs": [],
   "source": [
    "df[\"square_feet\"] = df[\"square_feet\"].apply(convert_area)"
   ]
  },
  {
   "cell_type": "code",
   "execution_count": 16,
   "id": "7a8c88a8-fd23-427c-af17-b2ca4ed3da6b",
   "metadata": {},
   "outputs": [
    {
     "data": {
      "text/html": [
       "<div>\n",
       "<style scoped>\n",
       "    .dataframe tbody tr th:only-of-type {\n",
       "        vertical-align: middle;\n",
       "    }\n",
       "\n",
       "    .dataframe tbody tr th {\n",
       "        vertical-align: top;\n",
       "    }\n",
       "\n",
       "    .dataframe thead th {\n",
       "        text-align: right;\n",
       "    }\n",
       "</style>\n",
       "<table border=\"1\" class=\"dataframe\">\n",
       "  <thead>\n",
       "    <tr style=\"text-align: right;\">\n",
       "      <th></th>\n",
       "      <th>square_feet</th>\n",
       "    </tr>\n",
       "  </thead>\n",
       "  <tbody>\n",
       "    <tr>\n",
       "      <th>0</th>\n",
       "      <td>644.0</td>\n",
       "    </tr>\n",
       "    <tr>\n",
       "      <th>1</th>\n",
       "      <td>1278.0</td>\n",
       "    </tr>\n",
       "    <tr>\n",
       "      <th>2</th>\n",
       "      <td>1173.0</td>\n",
       "    </tr>\n",
       "    <tr>\n",
       "      <th>3</th>\n",
       "      <td>700.0</td>\n",
       "    </tr>\n",
       "    <tr>\n",
       "      <th>4</th>\n",
       "      <td>1250.0</td>\n",
       "    </tr>\n",
       "  </tbody>\n",
       "</table>\n",
       "</div>"
      ],
      "text/plain": [
       "   square_feet\n",
       "0        644.0\n",
       "1       1278.0\n",
       "2       1173.0\n",
       "3        700.0\n",
       "4       1250.0"
      ]
     },
     "execution_count": 16,
     "metadata": {},
     "output_type": "execute_result"
    }
   ],
   "source": [
    "df[[\"square_feet\"]].head()"
   ]
  },
  {
   "cell_type": "code",
   "execution_count": 17,
   "id": "04dc066c-46c2-40c7-a805-2bbf703ac397",
   "metadata": {},
   "outputs": [
    {
     "data": {
      "text/plain": [
       "property_name        0\n",
       "areaWithType         0\n",
       "square_feet          9\n",
       "transaction        104\n",
       "status               1\n",
       "floor               45\n",
       "furnishing         340\n",
       "facing             589\n",
       "description       1371\n",
       "price_per_sqft     368\n",
       "price              173\n",
       "dtype: int64"
      ]
     },
     "execution_count": 17,
     "metadata": {},
     "output_type": "execute_result"
    }
   ],
   "source": [
    "df.isnull().sum()"
   ]
  },
  {
   "cell_type": "markdown",
   "id": "c0f7ad92-9503-4c81-96f5-5cccf35b002c",
   "metadata": {},
   "source": [
    "#### Drop Rows with Invalid Values"
   ]
  },
  {
   "cell_type": "code",
   "execution_count": 18,
   "id": "0df97362-4acf-4522-984d-af8486c0e0b3",
   "metadata": {},
   "outputs": [],
   "source": [
    "df = df.dropna(subset = [\"square_feet\"])"
   ]
  },
  {
   "cell_type": "markdown",
   "id": "e931aeaf-34c5-499b-88ab-0020ee4daba5",
   "metadata": {},
   "source": [
    "####  Drop the Unnecessary Column"
   ]
  },
  {
   "cell_type": "code",
   "execution_count": 19,
   "id": "08062250-da52-4cd3-99b8-1a6d892f5a60",
   "metadata": {},
   "outputs": [],
   "source": [
    "df = df.drop([\"furnishing\", \"facing\", \"description\"], axis = 1, errors = \"ignore\")"
   ]
  },
  {
   "cell_type": "markdown",
   "id": "8d53b5c8-eba0-45ed-92f3-2a9b00199fa4",
   "metadata": {},
   "source": [
    "#### Remove Duplicates"
   ]
  },
  {
   "cell_type": "code",
   "execution_count": 20,
   "id": "c746f432-9a03-491b-8950-2762c2a78f07",
   "metadata": {},
   "outputs": [
    {
     "data": {
      "text/plain": [
       "131"
      ]
     },
     "execution_count": 20,
     "metadata": {},
     "output_type": "execute_result"
    }
   ],
   "source": [
    "df.duplicated().sum()"
   ]
  },
  {
   "cell_type": "code",
   "execution_count": 21,
   "id": "2b88889b-aadb-4d19-9300-8f3b9591317b",
   "metadata": {},
   "outputs": [],
   "source": [
    "df.drop_duplicates(keep=False,inplace=True)"
   ]
  },
  {
   "cell_type": "markdown",
   "id": "acc101d0-e946-4b62-9d82-52ba84f32f0e",
   "metadata": {},
   "source": [
    "#### Feature Engineering"
   ]
  },
  {
   "cell_type": "code",
   "execution_count": 22,
   "id": "a8e47e48-94b7-414a-a242-a2d8b364ecb3",
   "metadata": {},
   "outputs": [],
   "source": [
    "df[\"price_per_sqft\"] = df[\"price\"] / df[\"square_feet\"]"
   ]
  },
  {
   "cell_type": "code",
   "execution_count": 23,
   "id": "ce4929ef-8543-4303-9bd0-db4e2e9bf3ae",
   "metadata": {},
   "outputs": [
    {
     "data": {
      "text/html": [
       "<div>\n",
       "<style scoped>\n",
       "    .dataframe tbody tr th:only-of-type {\n",
       "        vertical-align: middle;\n",
       "    }\n",
       "\n",
       "    .dataframe tbody tr th {\n",
       "        vertical-align: top;\n",
       "    }\n",
       "\n",
       "    .dataframe thead th {\n",
       "        text-align: right;\n",
       "    }\n",
       "</style>\n",
       "<table border=\"1\" class=\"dataframe\">\n",
       "  <thead>\n",
       "    <tr style=\"text-align: right;\">\n",
       "      <th></th>\n",
       "      <th>price_per_sqft</th>\n",
       "      <th>price</th>\n",
       "    </tr>\n",
       "  </thead>\n",
       "  <tbody>\n",
       "    <tr>\n",
       "      <th>0</th>\n",
       "      <td>5248.447205</td>\n",
       "      <td>3380000.0</td>\n",
       "    </tr>\n",
       "    <tr>\n",
       "      <th>1</th>\n",
       "      <td>3552.425665</td>\n",
       "      <td>4540000.0</td>\n",
       "    </tr>\n",
       "    <tr>\n",
       "      <th>2</th>\n",
       "      <td>3802.216539</td>\n",
       "      <td>4460000.0</td>\n",
       "    </tr>\n",
       "    <tr>\n",
       "      <th>3</th>\n",
       "      <td>6714.285714</td>\n",
       "      <td>4700000.0</td>\n",
       "    </tr>\n",
       "    <tr>\n",
       "      <th>4</th>\n",
       "      <td>3600.000000</td>\n",
       "      <td>4500000.0</td>\n",
       "    </tr>\n",
       "  </tbody>\n",
       "</table>\n",
       "</div>"
      ],
      "text/plain": [
       "   price_per_sqft      price\n",
       "0     5248.447205  3380000.0\n",
       "1     3552.425665  4540000.0\n",
       "2     3802.216539  4460000.0\n",
       "3     6714.285714  4700000.0\n",
       "4     3600.000000  4500000.0"
      ]
     },
     "execution_count": 23,
     "metadata": {},
     "output_type": "execute_result"
    }
   ],
   "source": [
    "df[[\"price_per_sqft\",\"price\"]].head()"
   ]
  },
  {
   "cell_type": "code",
   "execution_count": 24,
   "id": "1c33b1b8-6e35-44f5-ab00-fcf6de0a26c8",
   "metadata": {},
   "outputs": [
    {
     "name": "stdout",
     "output_type": "stream",
     "text": [
      "<class 'pandas.core.frame.DataFrame'>\n",
      "Index: 4254 entries, 0 to 4524\n",
      "Data columns (total 8 columns):\n",
      " #   Column          Non-Null Count  Dtype  \n",
      "---  ------          --------------  -----  \n",
      " 0   property_name   4254 non-null   object \n",
      " 1   areaWithType    4254 non-null   object \n",
      " 2   square_feet     4254 non-null   float64\n",
      " 3   transaction     4158 non-null   object \n",
      " 4   status          4254 non-null   object \n",
      " 5   floor           4210 non-null   object \n",
      " 6   price_per_sqft  4083 non-null   float64\n",
      " 7   price           4083 non-null   float64\n",
      "dtypes: float64(3), object(5)\n",
      "memory usage: 299.1+ KB\n"
     ]
    }
   ],
   "source": [
    "df.info()"
   ]
  },
  {
   "cell_type": "markdown",
   "id": "241a261a-707c-4951-80d7-2f4064c1a05d",
   "metadata": {},
   "source": [
    "#### Remove Outliers in `price_per_sqft`"
   ]
  },
  {
   "cell_type": "code",
   "execution_count": 25,
   "id": "8179df06-f59f-4108-b6c1-396b8323b33c",
   "metadata": {},
   "outputs": [],
   "source": [
    "# Calculate Q1 and Q3 (25th and 75th percentiles)\n",
    "Q1 = df['price_per_sqft'].quantile(0.25)\n",
    "Q3 = df['price_per_sqft'].quantile(0.75)\n",
    "\n",
    "# Compute Interquartile Range (IQR)\n",
    "IQR = Q3 - Q1\n",
    "\n",
    "# Define lower and upper bounds for outliers\n",
    "lower_bound = Q1 - 1.5 * IQR\n",
    "upper_bound = Q3 + 1.5 * IQR\n",
    "\n",
    "# Keep only rows within bounds (remove outliers)\n",
    "df = df[(df['price_per_sqft'] >= lower_bound) & (df['price_per_sqft'] <= upper_bound)]"
   ]
  },
  {
   "cell_type": "code",
   "execution_count": 26,
   "id": "5ce839d3-0652-4c41-969a-a79b0c759d80",
   "metadata": {},
   "outputs": [
    {
     "data": {
      "image/png": "[encoded data removed]",
      "text/plain": [
       "<Figure size 1000x600 with 1 Axes>"
      ]
     },
     "metadata": {},
     "output_type": "display_data"
    }
   ],
   "source": [
    "plt.figure(figsize=(10, 6))\n",
    "sns.boxplot(x = df[\"price_per_sqft\"], color = \"skyblue\")\n",
    "plt.title(\"Price per Sqft\")\n",
    "plt.xlabel(\"Price per Sqft\")\n",
    "plt.grid(True, axis='x', linestyle='--', alpha=0.7)\n",
    "plt.show()"
   ]
  },
  {
   "cell_type": "markdown",
   "id": "0924c2ad-c854-4440-a260-bcbbb4c8f423",
   "metadata": {},
   "source": [
    "#### Data Visualizatiom"
   ]
  },
  {
   "cell_type": "code",
   "execution_count": 28,
   "id": "b0ae11e9-38e6-4ad2-a666-dc66427fd34b",
   "metadata": {},
   "outputs": [
    {
     "data": {
      "image/png": "[encoded data removed]",
      "text/plain": [
       "<Figure size 1800x500 with 3 Axes>"
      ]
     },
     "metadata": {},
     "output_type": "display_data"
    }
   ],
   "source": [
    "# Specify numeric columns\n",
    "numeric_cols = [\"price\", \"price_per_sqft\", \"square_feet\"]\n",
    "df[numeric_cols] = df[numeric_cols].apply(pd.to_numeric, errors=\"coerce\")\n",
    "\n",
    "# Set plot style\n",
    "sns.set(style=\"whitegrid\")\n",
    "plt.figure(figsize=(18, 5))\n",
    "\n",
    "# Plot histograms with KDE for each numeric column\n",
    "for i, col in enumerate(numeric_cols, start=1):\n",
    "    plt.subplot(1, len(numeric_cols), i)\n",
    "    sns.histplot(df[col].dropna(), kde=True, bins=30, color=\"skyblue\")\n",
    "    plt.title(f\"{col} Distribution\")\n",
    "    plt.xlabel(col.replace(\"_\", \" \").title())\n",
    "    plt.ylabel(\"Count\")\n",
    "\n",
    "plt.tight_layout()\n",
    "plt.show()"
   ]
  },
  {
   "cell_type": "code",
   "execution_count": 29,
   "id": "c5a35df7-7fc4-46f9-876b-b44932614046",
   "metadata": {},
   "outputs": [
    {
     "name": "stdout",
     "output_type": "stream",
     "text": [
      "<class 'pandas.core.frame.DataFrame'>\n",
      "Index: 3813 entries, 0 to 4517\n",
      "Data columns (total 8 columns):\n",
      " #   Column          Non-Null Count  Dtype  \n",
      "---  ------          --------------  -----  \n",
      " 0   property_name   3813 non-null   object \n",
      " 1   areaWithType    3813 non-null   object \n",
      " 2   square_feet     3813 non-null   float64\n",
      " 3   transaction     3733 non-null   object \n",
      " 4   status          3813 non-null   object \n",
      " 5   floor           3774 non-null   object \n",
      " 6   price_per_sqft  3813 non-null   float64\n",
      " 7   price           3813 non-null   float64\n",
      "dtypes: float64(3), object(5)\n",
      "memory usage: 268.1+ KB\n"
     ]
    }
   ],
   "source": [
    "df.info()"
   ]
  },
  {
   "cell_type": "markdown",
   "id": "190ebc55-2169-4dc4-bbcf-ec10350bd31a",
   "metadata": {},
   "source": [
    "#### `One-Hot Encode` Categorical Columns"
   ]
  },
  {
   "cell_type": "code",
   "execution_count": 30,
   "id": "a07abe56-20f1-4ce0-aa7e-97fe01c15146",
   "metadata": {},
   "outputs": [],
   "source": [
    "cat_cols = [\"property_name\", \"areaWithType\", \"transaction\", \"status\", \"floor\"]\n",
    "df = pd.get_dummies(df, columns=cat_cols, drop_first=True)"
   ]
  },
  {
   "cell_type": "code",
   "execution_count": 31,
   "id": "abf323d7-709a-4390-bd25-bfb84a7d7810",
   "metadata": {},
   "outputs": [
    {
     "data": {
      "text/plain": [
       "square_feet                                        0\n",
       "price_per_sqft                                     0\n",
       "price                                              0\n",
       "property_name_  Land for Sale in Bardoli Surat     0\n",
       "property_name_  Land for Sale in Katargam Surat    0\n",
       "                                                  ..\n",
       "floor_Upper Basement out of 12                     0\n",
       "floor_Upper Basement out of 14                     0\n",
       "floor_Upper Basement out of 3                      0\n",
       "floor_Upper Basement out of 5                      0\n",
       "floor_Yes                                          0\n",
       "Length: 2087, dtype: int64"
      ]
     },
     "execution_count": 31,
     "metadata": {},
     "output_type": "execute_result"
    }
   ],
   "source": [
    "df.isnull().sum()"
   ]
  },
  {
   "cell_type": "markdown",
   "id": "318b5178-2e67-4a0a-a4a0-26f609e215f4",
   "metadata": {},
   "source": [
    "#### Model Evaluation"
   ]
  },
  {
   "cell_type": "code",
   "execution_count": 33,
   "id": "f19f7af2-a8e4-4baa-8426-925035e003bf",
   "metadata": {},
   "outputs": [
    {
     "name": "stdout",
     "output_type": "stream",
     "text": [
      "--- Linear Regression Results ---\n",
      "Mean Squared Error (MSE): 222900323936778.34\n",
      "R-squared (R2): 0.92\n"
     ]
    }
   ],
   "source": [
    "# Define features (X) and target (y) from the DataFrame\n",
    "X = df.drop('price', axis=1)\n",
    "y = df['price']\n",
    "\n",
    "# Split data\n",
    "X_train, X_test, y_train, y_test = train_test_split(X, y, test_size=0.2, random_state=42)\n",
    "\n",
    "# Create and train the Linear Regression model\n",
    "model = LinearRegression()\n",
    "model.fit(X_train, y_train)\n",
    "\n",
    "# Make predictions\n",
    "y_pred = model.predict(X_test)\n",
    "\n",
    "# Evaluate the model (metrics explained later)\n",
    "mse = mean_squared_error(y_test, y_pred)\n",
    "r2 = r2_score(y_test, y_pred)\n",
    "\n",
    "print(\"--- Linear Regression Results ---\")\n",
    "print(f\"Mean Squared Error (MSE): {mse:.2f}\")\n",
    "print(f\"R-squared (R2): {r2:.2f}\")"
   ]
  }
 ],
 "metadata": {
  "kernelspec": {
   "display_name": "Python [conda env:base] *",
   "language": "python",
   "name": "conda-base-py"
  },
  "language_info": {
   "codemirror_mode": {
    "name": "ipython",
    "version": 3
   },
   "file_extension": ".py",
   "mimetype": "text/x-python",
   "name": "python",
   "nbconvert_exporter": "python",
   "pygments_lexer": "ipython3",
   "version": "3.12.7"
  }
 },
 "nbformat": 4,
 "nbformat_minor": 5
}
