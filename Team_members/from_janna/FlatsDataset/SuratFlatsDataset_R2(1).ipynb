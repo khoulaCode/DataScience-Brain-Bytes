{
 "cells": [
  {
   "cell_type": "markdown",
   "id": "8a4d45b1-23d2-462b-b4e6-11c1cd14cd3c",
   "metadata": {},
   "source": [
    "# Surat Flats Dataset"
   ]
  },
  {
   "cell_type": "markdown",
   "id": "1d53ed88-3265-4492-ad99-1fa0ca306860",
   "metadata": {},
   "source": [
    "#### Import the Libraries"
   ]
  },
  {
   "cell_type": "code",
   "execution_count": 1,
   "id": "33d63364-eb92-48c5-8164-a4c0cdf0c63f",
   "metadata": {},
   "outputs": [],
   "source": [
    "import numpy as np\n",
    "import pandas as pd\n",
    "import matplotlib.pyplot as plt\n",
    "import seaborn as sns\n",
    "from sklearn.linear_model import LinearRegression\n",
    "from sklearn.model_selection import train_test_split\n",
    "from sklearn.metrics import mean_squared_error, r2_score"
   ]
  },
  {
   "cell_type": "markdown",
   "id": "08413a8b-4116-4b5d-9ec6-fc58bbc4c2f1",
   "metadata": {},
   "source": [
    "#### Load the Dataset"
   ]
  },
  {
   "cell_type": "code",
   "execution_count": 2,
   "id": "27571e7e-ca4a-40a4-9fde-a7fb43eb95ba",
   "metadata": {},
   "outputs": [],
   "source": [
    "df = pd.read_csv(r\"surat_uncleaned.csv\")"
   ]
  },
  {
   "cell_type": "code",
   "execution_count": 3,
   "id": "762a904b-b63d-469f-ba81-e3b2e604dec7",
   "metadata": {},
   "outputs": [
    {
     "data": {
      "text/plain": [
       "(4525, 11)"
      ]
     },
     "execution_count": 3,
     "metadata": {},
     "output_type": "execute_result"
    }
   ],
   "source": [
    "df.shape"
   ]
  },
  {
   "cell_type": "code",
   "execution_count": 4,
   "id": "8b59bda6-dce2-4398-9f0e-c10fb699dcbb",
   "metadata": {},
   "outputs": [
    {
     "data": {
      "text/html": [
       "<div>\n",
       "<style scoped>\n",
       "    .dataframe tbody tr th:only-of-type {\n",
       "        vertical-align: middle;\n",
       "    }\n",
       "\n",
       "    .dataframe tbody tr th {\n",
       "        vertical-align: top;\n",
       "    }\n",
       "\n",
       "    .dataframe thead th {\n",
       "        text-align: right;\n",
       "    }\n",
       "</style>\n",
       "<table border=\"1\" class=\"dataframe\">\n",
       "  <thead>\n",
       "    <tr style=\"text-align: right;\">\n",
       "      <th></th>\n",
       "      <th>property_name</th>\n",
       "      <th>areaWithType</th>\n",
       "      <th>square_feet</th>\n",
       "      <th>transaction</th>\n",
       "      <th>status</th>\n",
       "      <th>floor</th>\n",
       "      <th>furnishing</th>\n",
       "      <th>facing</th>\n",
       "      <th>description</th>\n",
       "      <th>price_per_sqft</th>\n",
       "      <th>price</th>\n",
       "    </tr>\n",
       "  </thead>\n",
       "  <tbody>\n",
       "    <tr>\n",
       "      <th>0</th>\n",
       "      <td>2 BHK Apartment for Sale in Dindoli Surat</td>\n",
       "      <td>Carpet Area</td>\n",
       "      <td>644 sqft</td>\n",
       "      <td>New Property</td>\n",
       "      <td>Poss. by Oct '24</td>\n",
       "      <td>5 out of 10</td>\n",
       "      <td>Unfurnished</td>\n",
       "      <td>West</td>\n",
       "      <td>Luxury project with basement parking, Solar ro...</td>\n",
       "      <td>₹2,891 per sqft</td>\n",
       "      <td>₹33.8 Lac</td>\n",
       "    </tr>\n",
       "    <tr>\n",
       "      <th>1</th>\n",
       "      <td>2 BHK Apartment for Sale in Althan Surat</td>\n",
       "      <td>Super Area</td>\n",
       "      <td>1278 sqft</td>\n",
       "      <td>New Property</td>\n",
       "      <td>Poss. by Jan '26</td>\n",
       "      <td>6 out of 14</td>\n",
       "      <td>Unfurnished</td>\n",
       "      <td>South -West</td>\n",
       "      <td>2 And 3 BHK Luxurious Flat for Sell In New Alt...</td>\n",
       "      <td>₹3,551 per sqft</td>\n",
       "      <td>₹45.4 Lac</td>\n",
       "    </tr>\n",
       "    <tr>\n",
       "      <th>2</th>\n",
       "      <td>2 BHK Apartment for Sale in Pal Gam Surat</td>\n",
       "      <td>Super Area</td>\n",
       "      <td>1173 sqft</td>\n",
       "      <td>Resale</td>\n",
       "      <td>Ready to Move</td>\n",
       "      <td>5 out of 13</td>\n",
       "      <td>Semi-Furnished</td>\n",
       "      <td>East</td>\n",
       "      <td>This affordable 2 BHK flat is situated along a...</td>\n",
       "      <td>₹3,800 per sqft</td>\n",
       "      <td>₹44.6 Lac</td>\n",
       "    </tr>\n",
       "    <tr>\n",
       "      <th>3</th>\n",
       "      <td>2 BHK Apartment for Sale in Jahangirabad Surat</td>\n",
       "      <td>Carpet Area</td>\n",
       "      <td>700 sqft</td>\n",
       "      <td>New Property</td>\n",
       "      <td>Ready to Move</td>\n",
       "      <td>6 out of 14</td>\n",
       "      <td>Unfurnished</td>\n",
       "      <td>East</td>\n",
       "      <td>2 BHK Flat For sell IN Jahangirabad Prime Loca...</td>\n",
       "      <td>₹3,966 per sqft</td>\n",
       "      <td>₹47 Lac</td>\n",
       "    </tr>\n",
       "    <tr>\n",
       "      <th>4</th>\n",
       "      <td>2 BHK Apartment for Sale in Orchid Fantasia, P...</td>\n",
       "      <td>Super Area</td>\n",
       "      <td>1250 sqft</td>\n",
       "      <td>Orchid Fantasia</td>\n",
       "      <td>New Property</td>\n",
       "      <td>Unfurnished</td>\n",
       "      <td>2</td>\n",
       "      <td>2</td>\n",
       "      <td>Multistorey Apartment for Sale in Palanpur, Su...</td>\n",
       "      <td>₹3,600 per sqft</td>\n",
       "      <td>₹45 Lac</td>\n",
       "    </tr>\n",
       "  </tbody>\n",
       "</table>\n",
       "</div>"
      ],
      "text/plain": [
       "                                       property_name areaWithType square_feet  \\\n",
       "0          2 BHK Apartment for Sale in Dindoli Surat  Carpet Area    644 sqft   \n",
       "1           2 BHK Apartment for Sale in Althan Surat   Super Area   1278 sqft   \n",
       "2          2 BHK Apartment for Sale in Pal Gam Surat   Super Area   1173 sqft   \n",
       "3     2 BHK Apartment for Sale in Jahangirabad Surat  Carpet Area    700 sqft   \n",
       "4  2 BHK Apartment for Sale in Orchid Fantasia, P...   Super Area   1250 sqft   \n",
       "\n",
       "       transaction            status        floor      furnishing  \\\n",
       "0     New Property  Poss. by Oct '24  5 out of 10     Unfurnished   \n",
       "1     New Property  Poss. by Jan '26  6 out of 14     Unfurnished   \n",
       "2           Resale     Ready to Move  5 out of 13  Semi-Furnished   \n",
       "3     New Property     Ready to Move  6 out of 14     Unfurnished   \n",
       "4  Orchid Fantasia      New Property  Unfurnished               2   \n",
       "\n",
       "        facing                                        description  \\\n",
       "0         West  Luxury project with basement parking, Solar ro...   \n",
       "1  South -West  2 And 3 BHK Luxurious Flat for Sell In New Alt...   \n",
       "2         East  This affordable 2 BHK flat is situated along a...   \n",
       "3         East  2 BHK Flat For sell IN Jahangirabad Prime Loca...   \n",
       "4            2  Multistorey Apartment for Sale in Palanpur, Su...   \n",
       "\n",
       "     price_per_sqft       price  \n",
       "0  ₹2,891 per sqft   ₹33.8 Lac   \n",
       "1  ₹3,551 per sqft   ₹45.4 Lac   \n",
       "2  ₹3,800 per sqft   ₹44.6 Lac   \n",
       "3  ₹3,966 per sqft     ₹47 Lac   \n",
       "4  ₹3,600 per sqft     ₹45 Lac   "
      ]
     },
     "execution_count": 4,
     "metadata": {},
     "output_type": "execute_result"
    }
   ],
   "source": [
    "df.head()"
   ]
  },
  {
   "cell_type": "code",
   "execution_count": 5,
   "id": "38222683-770e-40cd-9ff7-59b04b7668f0",
   "metadata": {},
   "outputs": [
    {
     "name": "stdout",
     "output_type": "stream",
     "text": [
      "<class 'pandas.core.frame.DataFrame'>\n",
      "RangeIndex: 4525 entries, 0 to 4524\n",
      "Data columns (total 11 columns):\n",
      " #   Column          Non-Null Count  Dtype \n",
      "---  ------          --------------  ----- \n",
      " 0   property_name   4525 non-null   object\n",
      " 1   areaWithType    4525 non-null   object\n",
      " 2   square_feet     4525 non-null   object\n",
      " 3   transaction     4421 non-null   object\n",
      " 4   status          4524 non-null   object\n",
      " 5   floor           4480 non-null   object\n",
      " 6   furnishing      4185 non-null   object\n",
      " 7   facing          3936 non-null   object\n",
      " 8   description     3154 non-null   object\n",
      " 9   price_per_sqft  4157 non-null   object\n",
      " 10  price           4525 non-null   object\n",
      "dtypes: object(11)\n",
      "memory usage: 389.0+ KB\n"
     ]
    }
   ],
   "source": [
    "df.info()"
   ]
  },
  {
   "cell_type": "code",
   "execution_count": 6,
   "id": "1de664d5-143d-42e4-97d2-7bf7791478be",
   "metadata": {},
   "outputs": [
    {
     "data": {
      "text/plain": [
       "property_name        0\n",
       "areaWithType         0\n",
       "square_feet          0\n",
       "transaction        104\n",
       "status               1\n",
       "floor               45\n",
       "furnishing         340\n",
       "facing             589\n",
       "description       1371\n",
       "price_per_sqft     368\n",
       "price                0\n",
       "dtype: int64"
      ]
     },
     "execution_count": 6,
     "metadata": {},
     "output_type": "execute_result"
    }
   ],
   "source": [
    "df.isnull().sum()"
   ]
  },
  {
   "cell_type": "code",
   "execution_count": 7,
   "id": "8d8f3dd5-007f-42c6-a26a-f220bdb97861",
   "metadata": {},
   "outputs": [
    {
     "data": {
      "text/html": [
       "<div>\n",
       "<style scoped>\n",
       "    .dataframe tbody tr th:only-of-type {\n",
       "        vertical-align: middle;\n",
       "    }\n",
       "\n",
       "    .dataframe tbody tr th {\n",
       "        vertical-align: top;\n",
       "    }\n",
       "\n",
       "    .dataframe thead th {\n",
       "        text-align: right;\n",
       "    }\n",
       "</style>\n",
       "<table border=\"1\" class=\"dataframe\">\n",
       "  <thead>\n",
       "    <tr style=\"text-align: right;\">\n",
       "      <th></th>\n",
       "      <th>count</th>\n",
       "      <th>unique</th>\n",
       "      <th>top</th>\n",
       "      <th>freq</th>\n",
       "    </tr>\n",
       "  </thead>\n",
       "  <tbody>\n",
       "    <tr>\n",
       "      <th>property_name</th>\n",
       "      <td>4525</td>\n",
       "      <td>1992</td>\n",
       "      <td>3 BHK Apartment for Sale in Vesu Surat</td>\n",
       "      <td>93</td>\n",
       "    </tr>\n",
       "    <tr>\n",
       "      <th>areaWithType</th>\n",
       "      <td>4525</td>\n",
       "      <td>6</td>\n",
       "      <td>Super Area</td>\n",
       "      <td>2599</td>\n",
       "    </tr>\n",
       "    <tr>\n",
       "      <th>square_feet</th>\n",
       "      <td>4525</td>\n",
       "      <td>1399</td>\n",
       "      <td>1000 sqft</td>\n",
       "      <td>77</td>\n",
       "    </tr>\n",
       "    <tr>\n",
       "      <th>transaction</th>\n",
       "      <td>4421</td>\n",
       "      <td>38</td>\n",
       "      <td>Resale</td>\n",
       "      <td>2197</td>\n",
       "    </tr>\n",
       "    <tr>\n",
       "      <th>status</th>\n",
       "      <td>4524</td>\n",
       "      <td>138</td>\n",
       "      <td>Ready to Move</td>\n",
       "      <td>3078</td>\n",
       "    </tr>\n",
       "    <tr>\n",
       "      <th>floor</th>\n",
       "      <td>4480</td>\n",
       "      <td>222</td>\n",
       "      <td>Resale</td>\n",
       "      <td>431</td>\n",
       "    </tr>\n",
       "    <tr>\n",
       "      <th>furnishing</th>\n",
       "      <td>4185</td>\n",
       "      <td>78</td>\n",
       "      <td>Unfurnished</td>\n",
       "      <td>2322</td>\n",
       "    </tr>\n",
       "    <tr>\n",
       "      <th>facing</th>\n",
       "      <td>3936</td>\n",
       "      <td>176</td>\n",
       "      <td>East</td>\n",
       "      <td>1487</td>\n",
       "    </tr>\n",
       "    <tr>\n",
       "      <th>description</th>\n",
       "      <td>3154</td>\n",
       "      <td>2588</td>\n",
       "      <td>Multistorey apartment is available for sale. I...</td>\n",
       "      <td>35</td>\n",
       "    </tr>\n",
       "    <tr>\n",
       "      <th>price_per_sqft</th>\n",
       "      <td>4157</td>\n",
       "      <td>2134</td>\n",
       "      <td>₹6,000 per sqft</td>\n",
       "      <td>64</td>\n",
       "    </tr>\n",
       "    <tr>\n",
       "      <th>price</th>\n",
       "      <td>4525</td>\n",
       "      <td>841</td>\n",
       "      <td>Call for Price</td>\n",
       "      <td>173</td>\n",
       "    </tr>\n",
       "  </tbody>\n",
       "</table>\n",
       "</div>"
      ],
      "text/plain": [
       "               count unique  \\\n",
       "property_name   4525   1992   \n",
       "areaWithType    4525      6   \n",
       "square_feet     4525   1399   \n",
       "transaction     4421     38   \n",
       "status          4524    138   \n",
       "floor           4480    222   \n",
       "furnishing      4185     78   \n",
       "facing          3936    176   \n",
       "description     3154   2588   \n",
       "price_per_sqft  4157   2134   \n",
       "price           4525    841   \n",
       "\n",
       "                                                              top  freq  \n",
       "property_name              3 BHK Apartment for Sale in Vesu Surat    93  \n",
       "areaWithType                                           Super Area  2599  \n",
       "square_feet                                             1000 sqft    77  \n",
       "transaction                                                Resale  2197  \n",
       "status                                              Ready to Move  3078  \n",
       "floor                                                      Resale   431  \n",
       "furnishing                                            Unfurnished  2322  \n",
       "facing                                                       East  1487  \n",
       "description     Multistorey apartment is available for sale. I...    35  \n",
       "price_per_sqft                                   ₹6,000 per sqft     64  \n",
       "price                                              Call for Price   173  "
      ]
     },
     "execution_count": 7,
     "metadata": {},
     "output_type": "execute_result"
    }
   ],
   "source": [
    "df.describe().T"
   ]
  },
  {
   "cell_type": "code",
   "execution_count": 8,
   "id": "7d6e3567-f0ce-4f5f-a8ed-45f03198b496",
   "metadata": {},
   "outputs": [
    {
     "data": {
      "text/plain": [
       "array(['₹33.8 Lac ', '₹45.4 Lac ', '₹44.6 Lac ', '₹47 Lac ', '₹45 Lac ',\n",
       "       '₹43.2 Lac ', '₹42.1 Lac ', '₹44.1 Lac ', '₹44.3 Lac ', '₹40 Lac ',\n",
       "       '₹44 Lac ', '₹12.5 Lac ', '₹50 Lac ', '₹35.8 Lac ', '₹26.5 Lac ',\n",
       "       '₹42 Lac ', '₹43 Lac ', '₹20 Lac ', '₹37 Lac ', '₹29 Lac ',\n",
       "       '₹38 Lac ', '₹13 Lac ', '₹46.5 Lac ', '₹41.6 Lac ', '₹33.5 Lac ',\n",
       "       '₹42.5 Lac ', '₹48 Lac ', '₹32 Lac ', '₹35 Lac ', '₹46.2 Lac ',\n",
       "       '₹38.5 Lac ', '₹23 Lac ', '₹24 Lac ', '₹28 Lac ', '₹35.7 Lac ',\n",
       "       '₹36.5 Lac ', '₹36 Lac ', '₹43.6 Lac ', '₹25 Lac ', '₹41 Lac ',\n",
       "       '₹28.5 Lac ', '₹9 Lac ', '₹30 Lac ', '₹39.5 Lac ', '₹21.5 Lac ',\n",
       "       '₹10.5 Lac ', '₹18 Lac ', '₹10 Lac ', '₹23.5 Lac ', '₹16.3 Lac ',\n",
       "       '₹13.5 Lac ', '₹49 Lac ', '₹21 Lac ', '₹39 Lac ', '₹16 Lac ',\n",
       "       '₹27 Lac ', '₹15 Lac ', '₹39.9 Lac ', '₹7.5 Lac ', '₹12.8 Lac ',\n",
       "       '₹9.5 Lac ', '₹31.5 Lac ', '₹46 Lac ', '₹6 Lac ', '₹34 Lac ',\n",
       "       '₹22 Lac ', '₹19 Lac ', '₹8.5 Lac ', '₹11 Lac ', '₹16.5 Lac ',\n",
       "       '₹17 Lac ', '₹14 Lac ', '₹33 Lac ', '₹20.5 Lac ', '₹21.7 Lac ',\n",
       "       '₹27.5 Lac ', '₹12 Lac ', '₹26 Lac ', '₹7.7 Lac ', '₹44.8 Lac ',\n",
       "       '₹34.9 Lac ', '₹19.5 Lac ', '₹18.5 Lac ', '₹48.5 Lac ',\n",
       "       '₹49.9 Lac ', '₹26.7 Lac ', '₹18.2 Lac ', '₹24.5 Lac ',\n",
       "       '₹46.1 Lac ', '₹14.2 Lac ', '₹47.5 Lac ', '₹9.3 Lac ', '₹5 Lac ',\n",
       "       '₹8.9 Lac ', '₹14.5 Lac ', '₹37.6 Lac ', '₹25.5 Lac ',\n",
       "       '₹29.5 Lac ', '₹1.5 Lac ', '₹26.8 Lac ', '₹31 Lac ', '₹22.5 Lac ',\n",
       "       '₹24.9 Lac ', '₹40.4 Lac ', '₹15.3 Lac ', '₹7 Lac ', '₹32.5 Lac ',\n",
       "       '₹1 Lac ', '₹43.8 Lac ', '₹14.4 Lac ', '₹10.3 Lac ', '₹40.5 Lac ',\n",
       "       '₹34.8 Lac ', '₹39.8 Lac ', '₹25.8 Lac ', '₹3.5 Lac ',\n",
       "       '₹21.3 Lac ', '₹8 Lac ', '₹38.1 Lac ', '₹15.5 Lac ', '₹25.1 Lac ',\n",
       "       '₹37.9 Lac ', '₹29.1 Lac ', '₹1.3 Lac ', '₹18.4 Lac ',\n",
       "       '₹14.1 Lac ', '₹29.9 Lac ', '₹45.2 Lac ', '₹37.5 Lac ',\n",
       "       '₹32.7 Lac ', '₹17.5 Lac ', '₹48.8 Lac ', '₹23.2 Lac ',\n",
       "       '₹4.5 Lac ', '₹25.2 Lac ', '₹27.2 Lac ', 'Call for Price',\n",
       "       '₹39.7 Lac ', '₹43.7 Lac ', '₹49.5 Lac ', '₹2 Lac ', '₹46.9 Lac ',\n",
       "       '₹19.8 Lac ', '₹26.9 Lac ', '₹21.6 Lac ', '₹33.9 Lac ',\n",
       "       '₹34.7 Lac ', '₹44.5 Lac ', '₹41.3 Lac ', '₹48.6 Lac ',\n",
       "       '₹45.5 Lac ', '₹49.3 Lac ', '₹43.1 Lac ', '₹46.4 Lac ',\n",
       "       '₹42.2 Lac ', '₹34.5 Lac ', '₹28.2 Lac ', '₹42.8 Lac ',\n",
       "       '₹45.3 Lac ', '₹34.4 Lac ', '₹30.5 Lac ', '₹44.2 Lac ',\n",
       "       '₹48.2 Lac ', '₹49.7 Lac ', '₹47.8 Lac ', '₹34.6 Lac ',\n",
       "       '₹49.1 Lac ', '₹35.3 Lac ', '₹45.1 Lac ', '₹41.5 Lac ',\n",
       "       '₹26.4 Lac ', '₹37.2 Lac ', '₹46.3 Lac ', '₹30.4 Lac ',\n",
       "       '₹47.1 Lac ', '₹41.7 Lac ', '₹33.4 Lac ', '₹40.7 Lac ',\n",
       "       '₹36.8 Lac ', '₹42.7 Lac ', '₹30.6 Lac ', '₹43.4 Lac ',\n",
       "       '₹38.7 Lac ', '₹33.2 Lac ', '₹34.3 Lac ', '₹39.2 Lac ',\n",
       "       '₹43.9 Lac ', '₹35.2 Lac ', '₹31.6 Lac ', '₹41.1 Lac ',\n",
       "       '₹44.9 Lac ', '₹25.9 Lac ', '₹42.3 Lac ', '₹25.3 Lac ',\n",
       "       '₹36.1 Lac ', '₹25.7 Lac ', '₹45.6 Lac ', '₹35.1 Lac ',\n",
       "       '₹36.4 Lac ', '₹42.4 Lac ', '₹46.7 Lac ', '₹20.1 Lac ',\n",
       "       '₹34.1 Lac ', '₹16.4 Lac ', '₹43.5 Lac ', '₹19.9 Lac ',\n",
       "       '₹38.2 Lac ', '₹35.5 Lac ', '₹67.7 Lac ', '₹55.6 Lac ', '₹98 Lac ',\n",
       "       '₹62.2 Lac ', '₹69.4 Lac ', '₹70 Lac ', '₹56.5 Lac ', '₹57.4 Lac ',\n",
       "       '₹92.9 Lac ', '₹57.1 Lac ', '₹55.7 Lac ', '₹79.1 Lac ',\n",
       "       '₹65.2 Lac ', '₹80.5 Lac ', '₹90 Lac ', '₹75 Lac ', '₹52 Lac ',\n",
       "       '₹75.4 Lac ', '₹74.5 Lac ', '₹69.3 Lac ', '₹60 Lac ', '₹67.5 Lac ',\n",
       "       '₹51.5 Lac ', '₹67.4 Lac ', '₹55 Lac ', '₹50.3 Lac ', '₹66.3 Lac ',\n",
       "       '₹80 Lac ', '₹1 Cr ', '₹50.6 Lac ', '₹61 Lac ', '₹51 Lac ',\n",
       "       '₹50.8 Lac ', '₹79 Lac ', '₹91 Lac ', '₹84.5 Lac ', '₹54 Lac ',\n",
       "       '₹53.2 Lac ', '₹52.4 Lac ', '₹72 Lac ', '₹99 Lac ', '₹56 Lac ',\n",
       "       '₹85 Lac ', '₹83.1 Lac ', '₹51.9 Lac ', '₹57 Lac ', '₹81 Lac ',\n",
       "       '₹74 Lac ', '₹78.5 Lac ', '₹65 Lac ', '₹66.1 Lac ', '₹68 Lac ',\n",
       "       '₹58 Lac ', '₹86 Lac ', '₹53.5 Lac ', '₹83 Lac ', '₹82 Lac ',\n",
       "       '₹95 Lac ', '₹78 Lac ', '₹72.5 Lac ', '₹66.6 Lac ', '₹51.7 Lac ',\n",
       "       '₹90.7 Lac ', '₹84 Lac ', '₹75.5 Lac ', '₹63 Lac ', '₹53 Lac ',\n",
       "       '₹91.8 Lac ', '₹58.5 Lac ', '₹55.5 Lac ', '₹77 Lac ', '₹88 Lac ',\n",
       "       '₹62 Lac ', '₹97 Lac ', '₹63.8 Lac ', '₹97.4 Lac ', '₹92 Lac ',\n",
       "       '₹67 Lac ', '₹71 Lac ', '₹87 Lac ', '₹78.7 Lac ', '₹50.1 Lac ',\n",
       "       '₹50.4 Lac ', '₹68.3 Lac ', '₹99.5 Lac ', '₹76 Lac ', '₹59.5 Lac ',\n",
       "       '₹96 Lac ', '₹99.8 Lac ', '₹56.8 Lac ', '₹79.4 Lac ', '₹93 Lac ',\n",
       "       '₹89 Lac ', '₹54.5 Lac ', '₹96.5 Lac ', '₹85.4 Lac ', '₹79.2 Lac ',\n",
       "       '₹94 Lac ', '₹58.2 Lac ', '₹59.9 Lac ', '₹61.6 Lac ', '₹60.5 Lac ',\n",
       "       '₹82.5 Lac ', '₹75.7 Lac ', '₹56.2 Lac ', '₹99.6 Lac ',\n",
       "       '₹58.8 Lac ', '₹59.2 Lac ', '₹74.4 Lac ', '₹56.1 Lac ',\n",
       "       '₹86.7 Lac ', '₹53.1 Lac ', '₹90.8 Lac ', '₹50.5 Lac ',\n",
       "       '₹75.3 Lac ', '₹59 Lac ', '₹58.4 Lac ', '₹85.1 Lac ', '₹79.9 Lac ',\n",
       "       '₹68.2 Lac ', '₹51.8 Lac ', '₹64.4 Lac ', '₹64 Lac ', '₹56.4 Lac ',\n",
       "       '₹76.2 Lac ', '₹100 Lac ', '₹88.5 Lac ', '₹98.1 Lac ',\n",
       "       '₹76.6 Lac ', '₹87.4 Lac ', '₹71.5 Lac ', '₹84.7 Lac ',\n",
       "       '₹60.2 Lac ', '₹64.6 Lac ', '₹80.3 Lac ', '₹89.7 Lac ', '₹66 Lac ',\n",
       "       '₹67.3 Lac ', '₹76.4 Lac ', '₹73 Lac ', '₹77.8 Lac ', '₹76.8 Lac ',\n",
       "       '₹86.5 Lac ', '₹62.8 Lac ', '₹94.3 Lac ', '₹94.8 Lac ',\n",
       "       '₹71.9 Lac ', '₹72.1 Lac ', '₹84.8 Lac ', '₹95.2 Lac ',\n",
       "       '₹63.5 Lac ', '₹98.3 Lac ', '₹65.6 Lac ', '₹52.5 Lac ',\n",
       "       '₹62.5 Lac ', '₹65.8 Lac ', '₹50.9 Lac ', '₹74.9 Lac ',\n",
       "       '₹79.3 Lac ', '₹85.5 Lac ', '₹65.4 Lac ', '₹75.9 Lac ',\n",
       "       '₹55.3 Lac ', '₹70.6 Lac ', '₹93.5 Lac ', '₹60.9 Lac ',\n",
       "       '₹91.5 Lac ', '₹59.4 Lac ', '₹86.1 Lac ', '₹61.7 Lac ',\n",
       "       '₹89.8 Lac ', '₹88.6 Lac ', '₹67.8 Lac ', '₹64.7 Lac ',\n",
       "       '₹90.5 Lac ', '₹67.9 Lac ', '₹51.6 Lac ', '₹77.1 Lac ',\n",
       "       '₹62.4 Lac ', '₹74.1 Lac ', '₹58.1 Lac ', '₹58.7 Lac ', '₹69 Lac ',\n",
       "       '₹93.6 Lac ', '₹57.5 Lac ', '₹82.9 Lac ', '₹83.5 Lac ',\n",
       "       '₹79.7 Lac ', '₹90.4 Lac ', '₹70.3 Lac ', '₹54.6 Lac ',\n",
       "       '₹56.7 Lac ', '₹95.5 Lac ', '₹52.6 Lac ', '₹76.5 Lac ',\n",
       "       '₹69.6 Lac ', '₹81.6 Lac ', '₹94.5 Lac ', '₹73.1 Lac ',\n",
       "       '₹71.7 Lac ', '₹75.1 Lac ', '₹55.4 Lac ', '₹88.9 Lac ',\n",
       "       '₹88.8 Lac ', '₹77.5 Lac ', '₹59.7 Lac ', '₹89.4 Lac ',\n",
       "       '₹59.8 Lac ', '₹63.7 Lac ', '₹82.1 Lac ', '₹61.9 Lac ',\n",
       "       '₹92.4 Lac ', '₹73.9 Lac ', '₹51.1 Lac ', '₹61.5 Lac ',\n",
       "       '₹65.9 Lac ', '₹70.4 Lac ', '₹56.6 Lac ', '₹62.9 Lac ',\n",
       "       '₹83.8 Lac ', '₹92.8 Lac ', '₹84.6 Lac ', '₹59.1 Lac ',\n",
       "       '₹78.2 Lac ', '₹64.2 Lac ', '₹69.2 Lac ', '₹94.7 Lac ',\n",
       "       '₹58.3 Lac ', '₹70.7 Lac ', '₹97.6 Lac ', '₹75.8 Lac ',\n",
       "       '₹51.2 Lac ', '₹86.9 Lac ', '₹68.4 Lac ', '₹72.8 Lac ',\n",
       "       '₹57.2 Lac ', '₹90.6 Lac ', '₹65.5 Lac ', '₹80.8 Lac ',\n",
       "       '₹62.1 Lac ', '₹69.5 Lac ', '₹92.5 Lac ', '₹62.3 Lac ',\n",
       "       '₹82.8 Lac ', '₹60.8 Lac ', '₹71.1 Lac ', '₹64.3 Lac ',\n",
       "       '₹86.3 Lac ', '₹60.4 Lac ', '₹79.8 Lac ', '₹52.8 Lac ',\n",
       "       '₹61.2 Lac ', '₹60.3 Lac ', '₹77.7 Lac ', '₹53.6 Lac ',\n",
       "       '₹70.8 Lac ', '₹88.1 Lac ', '₹68.9 Lac ', '₹72.4 Lac ',\n",
       "       '₹85.6 Lac ', '₹72.6 Lac ', '₹97.7 Lac ', '₹52.7 Lac ',\n",
       "       '₹84.9 Lac ', '₹98.6 Lac ', '₹78.9 Lac ', '₹72.2 Lac ',\n",
       "       '₹98.4 Lac ', '₹62.6 Lac ', '₹55.1 Lac ', '₹52.1 Lac ',\n",
       "       '₹99.9 Lac ', '₹76.3 Lac ', '₹95.6 Lac ', '₹65.1 Lac ',\n",
       "       '₹81.4 Lac ', '₹74.2 Lac ', '₹65.3 Lac ', '₹92.3 Lac ',\n",
       "       '₹60.6 Lac ', '₹76.9 Lac ', '₹78.1 Lac ', '₹51.3 Lac ',\n",
       "       '₹63.3 Lac ', '₹54.2 Lac ', '₹97.5 Lac ', '₹99.3 Lac ',\n",
       "       '₹54.8 Lac ', '₹73.4 Lac ', '₹64.1 Lac ', '₹63.9 Lac ',\n",
       "       '₹73.5 Lac ', '₹66.5 Lac ', '₹87.5 Lac ', '₹80.2 Lac ',\n",
       "       '₹77.3 Lac ', '₹70.2 Lac ', '₹69.7 Lac ', '₹59.6 Lac ',\n",
       "       '₹83.7 Lac ', '₹71.8 Lac ', '₹65.7 Lac ', '₹78.8 Lac ',\n",
       "       '₹83.4 Lac ', '₹58.9 Lac ', '₹61.3 Lac ', '₹1.49 Cr ', '₹1.12 Cr ',\n",
       "       '₹1.26 Cr ', '₹1.32 Cr ', '₹1.50 Cr ', '₹1.35 Cr ', '₹1.10 Cr ',\n",
       "       '₹1.07 Cr ', '₹1.37 Cr ', '₹1.11 Cr ', '₹1.01 Cr ', '₹1.13 Cr ',\n",
       "       '₹1.39 Cr ', '₹1.15 Cr ', '₹1.05 Cr ', '₹1.30 Cr ', '₹1.20 Cr ',\n",
       "       '₹1.48 Cr ', '₹1.03 Cr ', '₹1.33 Cr ', '₹1.42 Cr ', '₹1.18 Cr ',\n",
       "       '₹1.24 Cr ', '₹1.23 Cr ', '₹1.17 Cr ', '₹1.25 Cr ', '₹1.40 Cr ',\n",
       "       '₹1.28 Cr ', '₹1.22 Cr ', '₹1.31 Cr ', '₹1.09 Cr ', '₹1.45 Cr ',\n",
       "       '₹1.36 Cr ', '₹1.19 Cr ', '₹1.21 Cr ', '₹1.44 Cr ', '₹1.14 Cr ',\n",
       "       '₹1.29 Cr ', '₹1.34 Cr ', '₹1.02 Cr ', '₹1.43 Cr ', '₹1.06 Cr ',\n",
       "       '₹1.47 Cr ', '₹1.04 Cr ', '₹1.41 Cr ', '₹1.46 Cr ', '₹1.27 Cr ',\n",
       "       '₹1.08 Cr ', '₹1.16 Cr ', '₹1.38 Cr ', '₹2.30 Cr ', '₹1.54 Cr ',\n",
       "       '₹2.84 Cr ', '₹2.52 Cr ', '₹2.19 Cr ', '₹7 Cr ', '₹2.80 Cr ',\n",
       "       '₹3.45 Cr ', '₹1.80 Cr ', '₹1.62 Cr ', '₹2 Cr ', '₹2.25 Cr ',\n",
       "       '₹7.50 Cr ', '₹1.70 Cr ', '₹10 Cr ', '₹2.47 Cr ', '₹1.60 Cr ',\n",
       "       '₹1.65 Cr ', '₹3.50 Cr ', '₹2.85 Cr ', '₹3.65 Cr ', '₹12.93 Cr ',\n",
       "       '₹1.63 Cr ', '₹5.50 Cr ', '₹2.61 Cr ', '₹3.20 Cr ', '₹1.61 Cr ',\n",
       "       '₹1.72 Cr ', '₹4 Cr ', '₹9 Cr ', '₹5.51 Cr ', '₹5 Cr ',\n",
       "       '₹1.68 Cr ', '₹3.41 Cr ', '₹2.51 Cr ', '₹1.51 Cr ', '₹2.82 Cr ',\n",
       "       '₹1.98 Cr ', '₹2.10 Cr ', '₹2.98 Cr ', '₹6 Cr ', '₹3 Cr ',\n",
       "       '₹3.30 Cr ', '₹6.50 Cr ', '₹2.34 Cr ', '₹2.76 Cr ', '₹3.61 Cr ',\n",
       "       '₹2.11 Cr ', '₹4.99 Cr ', '₹1.76 Cr ', '₹2.40 Cr ', '₹8.50 Cr ',\n",
       "       '₹5.25 Cr ', '₹4.10 Cr ', '₹1.89 Cr ', '₹2.50 Cr ', '₹2.83 Cr ',\n",
       "       '₹2.20 Cr ', '₹3.49 Cr ', '₹3.33 Cr ', '₹18.50 Cr ', '₹2.27 Cr ',\n",
       "       '₹31.50 Cr ', '₹1.53 Cr ', '₹1.94 Cr ', '₹41 Cr ', '₹2.15 Cr ',\n",
       "       '₹2.55 Cr ', '₹4.50 Cr ', '₹4.08 Cr ', '₹12.50 Cr ', '₹1.59 Cr ',\n",
       "       '₹1.55 Cr ', '₹5.18 Cr ', '₹3.51 Cr ', '₹1.81 Cr ', '₹3.80 Cr ',\n",
       "       '₹534.44 Cr ', '₹3.03 Cr ', '₹6.96 Cr ', '₹1.75 Cr ', '₹3.25 Cr ',\n",
       "       '₹1.52 Cr ', '₹12 Cr ', '₹3.55 Cr ', '₹2.72 Cr ', '₹1.90 Cr ',\n",
       "       '₹6.60 Cr ', '₹1.95 Cr ', '₹2.73 Cr ', '₹3.11 Cr ', '₹3.75 Cr ',\n",
       "       '₹2.17 Cr ', '₹2.32 Cr ', '₹2.69 Cr ', '₹55 Cr ', '₹3.10 Cr ',\n",
       "       '₹3.31 Cr ', '₹2.60 Cr ', '₹1.58 Cr ', '₹2.75 Cr ', '₹15 Cr ',\n",
       "       '₹3.60 Cr ', '₹3.12 Cr ', '₹146.33 Cr ', '₹1.71 Cr ', '₹4.35 Cr ',\n",
       "       '₹2.95 Cr ', '₹20 Cr ', '₹2.70 Cr ', '₹3.70 Cr ', '₹2.26 Cr ',\n",
       "       '₹14 Cr ', '₹5.04 Cr ', '₹2.46 Cr ', '₹2.43 Cr ', '₹1.86 Cr ',\n",
       "       '₹2.77 Cr ', '₹4.71 Cr ', '₹4.65 Cr ', '₹1.77 Cr ', '₹2.90 Cr ',\n",
       "       '₹2.36 Cr ', '₹2.03 Cr ', '₹1.84 Cr ', '₹6.30 Cr ', '₹2.04 Cr ',\n",
       "       '₹7.20 Cr ', '₹4.03 Cr ', '₹1.73 Cr ', '₹3.08 Cr ', '₹2.92 Cr ',\n",
       "       '₹3.53 Cr ', '₹3.23 Cr ', '₹1.66 Cr ', '₹4.07 Cr ', '₹6.80 Cr ',\n",
       "       '₹3.35 Cr ', '₹3.22 Cr ', '₹5.55 Cr ', '₹1.82 Cr ', '₹2.59 Cr ',\n",
       "       '₹2.07 Cr ', '₹1.88 Cr ', '₹2.56 Cr ', '₹9.22 Cr ', '₹2.88 Cr ',\n",
       "       '₹2.18 Cr ', '₹1.85 Cr ', '₹3.96 Cr ', '₹3.99 Cr ', '₹2.21 Cr ',\n",
       "       '₹2.01 Cr ', '₹3.01 Cr ', '₹3.26 Cr ', '₹11.55 Cr ', '₹2.71 Cr ',\n",
       "       '₹2.66 Cr ', '₹3.63 Cr ', '₹2.28 Cr ', '₹1.91 Cr ', '₹1.56 Cr ',\n",
       "       '₹1.96 Cr ', '₹3.32 Cr ', '₹7.58 Cr ', '₹4.75 Cr ', '₹1.93 Cr ',\n",
       "       '₹2.37 Cr ', '₹1.69 Cr ', '₹5.52 Cr ', '₹2.16 Cr ', '₹1.97 Cr ',\n",
       "       '₹8.79 Cr ', '₹2.62 Cr ', '₹2.39 Cr ', '₹1.99 Cr ', '₹4.31 Cr ',\n",
       "       '₹1.79 Cr ', '₹10.09 Cr ', '₹5.57 Cr ', '₹4.25 Cr ', '₹3.34 Cr ',\n",
       "       '₹3.15 Cr ', '₹8.13 Cr ', '₹1.87 Cr ', '₹6.53 Cr ', '₹7.95 Cr ',\n",
       "       '₹2.33 Cr ', '₹4.30 Cr ', '₹2.48 Cr ', '₹3.19 Cr ', '₹3.74 Cr ',\n",
       "       '₹4.20 Cr ', '₹4.42 Cr ', '₹1.92 Cr ', '₹3.04 Cr ', '₹4.73 Cr ',\n",
       "       '₹3.95 Cr ', '₹2.35 Cr ', '₹3.18 Cr ', '₹1.74 Cr ', '₹1.64 Cr ',\n",
       "       '₹2.81 Cr ', '₹2.58 Cr ', '₹3.39 Cr ', '₹4.60 Cr ', '₹4.72 Cr ',\n",
       "       '₹4.01 Cr ', '₹1.57 Cr ', '₹8.60 Cr ', '₹6.47 Cr ', '₹3.93 Cr ',\n",
       "       '₹1.83 Cr ', '₹2.68 Cr ', '₹2.54 Cr ', '₹2.24 Cr ', '₹3.05 Cr ',\n",
       "       '₹3.48 Cr ', '₹2.99 Cr ', '₹3.97 Cr ', '₹3.40 Cr ', '₹4.23 Cr ',\n",
       "       '₹6.76 Cr ', '₹3.58 Cr ', '₹8 Cr ', '₹4.80 Cr ', '₹2.05 Cr ',\n",
       "       '₹2.97 Cr ', '₹4.51 Cr ', '₹3.90 Cr ', '₹3.13 Cr ', '₹3.36 Cr ',\n",
       "       '₹16.50 Cr ', '₹2.02 Cr ', '₹1.67 Cr ', '₹2.14 Cr ', '₹5.72 Cr ',\n",
       "       '₹2.79 Cr ', '₹2.13 Cr ', '₹3.02 Cr ', '₹2.57 Cr ', '₹2.08 Cr ',\n",
       "       '₹7.60 Cr ', '₹4.24 Cr ', '₹5.48 Cr ', '₹2.78 Cr ', '₹2.22 Cr ',\n",
       "       '₹2.87 Cr ', '₹5.12 Cr ', '₹3.54 Cr ', '₹4.53 Cr ', '₹6.10 Cr ',\n",
       "       '₹3.76 Cr ', '₹4.16 Cr ', '₹3.92 Cr ', '₹2.41 Cr ', '₹4.38 Cr ',\n",
       "       '₹5.36 Cr ', '₹5.40 Cr ', '₹7.19 Cr ', '₹3.24 Cr ', '₹4.32 Cr ',\n",
       "       '₹4.05 Cr ', '₹3.59 Cr ', '₹6.37 Cr ', '₹3.27 Cr ', '₹7.22 Cr ',\n",
       "       '₹3.21 Cr ', '₹4.14 Cr ', '₹4.41 Cr ', '₹7.65 Cr ', '₹5.20 Cr ',\n",
       "       '₹4.39 Cr ', '₹4.68 Cr ', '₹4.67 Cr ', '₹5.60 Cr ', '₹6.08 Cr '],\n",
       "      dtype=object)"
      ]
     },
     "execution_count": 8,
     "metadata": {},
     "output_type": "execute_result"
    }
   ],
   "source": [
    "df[\"price\"].unique()"
   ]
  },
  {
   "cell_type": "code",
   "execution_count": 9,
   "id": "7a0a995b-d841-4db3-a1db-bfecf31b08f5",
   "metadata": {},
   "outputs": [
    {
     "data": {
      "text/plain": [
       "array(['644 sqft', '1278 sqft', '1173 sqft', ..., '2545 sqft',\n",
       "       '5175 sqft', '2620 sqft'], dtype=object)"
      ]
     },
     "execution_count": 9,
     "metadata": {},
     "output_type": "execute_result"
    }
   ],
   "source": [
    "df[\"square_feet\"].unique()"
   ]
  },
  {
   "cell_type": "markdown",
   "id": "0118a862-65b8-4c79-9cb8-47c93a0073da",
   "metadata": {},
   "source": [
    "#### Clean `price` Column"
   ]
  },
  {
   "cell_type": "code",
   "execution_count": 10,
   "id": "9cfb0a88-d932-4806-8bfc-6623efcbe9c1",
   "metadata": {},
   "outputs": [],
   "source": [
    "def convert_price(value):\n",
    "    if pd.isna(value):\n",
    "        return np.nan\n",
    "    value = str(value).lower()\n",
    "    value = value.replace(\"₹\", \"\").replace(\",\", \"\").strip()\n",
    "    if 'cr' in value:\n",
    "        return float(value.replace(\"cr\", \"\").strip()) * 10000000\n",
    "    elif 'lac' in value:\n",
    "        return float(value.replace(\"lac\", \"\").strip()) * 100000\n",
    "    else:\n",
    "        try:\n",
    "            return float(value)\n",
    "        except:\n",
    "            return np.nan"
   ]
  },
  {
   "cell_type": "code",
   "execution_count": 11,
   "id": "ee271701-faa5-4171-ad40-d379e084375d",
   "metadata": {},
   "outputs": [],
   "source": [
    "df['price'] = df['price'].apply(convert_price)"
   ]
  },
  {
   "cell_type": "markdown",
   "id": "9bc18056-971f-4397-84ae-98b4957ed540",
   "metadata": {},
   "source": [
    "#### Clean the `square_feet` Column"
   ]
  },
  {
   "cell_type": "code",
   "execution_count": 12,
   "id": "546b898f-9c86-4268-b93f-d22fa2d7356e",
   "metadata": {},
   "outputs": [],
   "source": [
    "def convert_area(area_str):\n",
    "    if pd.isna(area_str):\n",
    "        return np.nan\n",
    "    area_str = area_str.lower().replace(\",\", \"\").strip()\n",
    "    \n",
    "    try:\n",
    "        if \"sqft\" in area_str:\n",
    "            return float(area_str.replace(\"sqft\", \"\").strip())\n",
    "        elif \"sqm\" in area_str:\n",
    "            return float(area_str.replace(\"sqm\", \"\").strip()) * 10.7639\n",
    "        elif \"sqyrd\" in area_str:\n",
    "            return float(area_str.replace(\"sqyrd\", \"\").strip()) * 9\n",
    "        elif \"rood\" in area_str:\n",
    "            return float(area_str.replace(\"rood\", \"\").strip()) * 10890\n",
    "        else:\n",
    "            return float(area_str)\n",
    "    except:\n",
    "        return np.nan\n",
    "\n",
    "df[\"square_feet\"] = df[\"square_feet\"].apply(convert_area)"
   ]
  },
  {
   "cell_type": "code",
   "execution_count": 13,
   "id": "b5e65d6d-c082-4eb7-98c7-dab60c72a8a0",
   "metadata": {},
   "outputs": [
    {
     "data": {
      "text/plain": [
       "property_name        0\n",
       "areaWithType         0\n",
       "square_feet          9\n",
       "transaction        104\n",
       "status               1\n",
       "floor               45\n",
       "furnishing         340\n",
       "facing             589\n",
       "description       1371\n",
       "price_per_sqft     368\n",
       "price              173\n",
       "dtype: int64"
      ]
     },
     "execution_count": 13,
     "metadata": {},
     "output_type": "execute_result"
    }
   ],
   "source": [
    "df.isnull().sum()"
   ]
  },
  {
   "cell_type": "markdown",
   "id": "ffb0f3ce-96a8-4eaf-b62b-e4f995b80e2d",
   "metadata": {},
   "source": [
    "#### Drop Rows with Invalid Values"
   ]
  },
  {
   "cell_type": "code",
   "execution_count": 14,
   "id": "fb026761-5036-4721-a8ec-f62dfc3bc904",
   "metadata": {},
   "outputs": [],
   "source": [
    "df = df.dropna(subset = [\"square_feet\"])"
   ]
  },
  {
   "cell_type": "markdown",
   "id": "0d196333-1973-452e-afe0-c1390645d2da",
   "metadata": {},
   "source": [
    "####  Drop the Unnecessary Column"
   ]
  },
  {
   "cell_type": "code",
   "execution_count": 15,
   "id": "cbdc38d4-d2e1-4665-8748-6eece7a43e10",
   "metadata": {},
   "outputs": [],
   "source": [
    "df = df.drop([\"property_name\", \"areaWithType\", \"floor\", \"description\"], axis = 1, errors = \"ignore\")"
   ]
  },
  {
   "cell_type": "markdown",
   "id": "b836142c-6e9e-439f-b32f-163431007501",
   "metadata": {},
   "source": [
    "#### Feature Engineering"
   ]
  },
  {
   "cell_type": "code",
   "execution_count": 16,
   "id": "0f346025-0891-40f6-8a4d-dae3ed90378b",
   "metadata": {},
   "outputs": [],
   "source": [
    "df[\"price_per_sqft\"] = df[\"price\"] / df[\"square_feet\"]\n",
    "df[\"computed_price\"] = df[\"price_per_sqft\"] * df[\"square_feet\"] # Double check if the values are correct"
   ]
  },
  {
   "cell_type": "code",
   "execution_count": 29,
   "id": "4ca73e0e-0b9f-49ea-9741-8edfee3e8488",
   "metadata": {},
   "outputs": [
    {
     "data": {
      "text/html": [
       "<div>\n",
       "<style scoped>\n",
       "    .dataframe tbody tr th:only-of-type {\n",
       "        vertical-align: middle;\n",
       "    }\n",
       "\n",
       "    .dataframe tbody tr th {\n",
       "        vertical-align: top;\n",
       "    }\n",
       "\n",
       "    .dataframe thead th {\n",
       "        text-align: right;\n",
       "    }\n",
       "</style>\n",
       "<table border=\"1\" class=\"dataframe\">\n",
       "  <thead>\n",
       "    <tr style=\"text-align: right;\">\n",
       "      <th></th>\n",
       "      <th>price</th>\n",
       "      <th>computed_price</th>\n",
       "    </tr>\n",
       "  </thead>\n",
       "  <tbody>\n",
       "    <tr>\n",
       "      <th>0</th>\n",
       "      <td>3380000.0</td>\n",
       "      <td>3380000.0</td>\n",
       "    </tr>\n",
       "    <tr>\n",
       "      <th>1</th>\n",
       "      <td>4540000.0</td>\n",
       "      <td>4540000.0</td>\n",
       "    </tr>\n",
       "    <tr>\n",
       "      <th>2</th>\n",
       "      <td>4460000.0</td>\n",
       "      <td>4460000.0</td>\n",
       "    </tr>\n",
       "    <tr>\n",
       "      <th>3</th>\n",
       "      <td>4700000.0</td>\n",
       "      <td>4700000.0</td>\n",
       "    </tr>\n",
       "    <tr>\n",
       "      <th>4</th>\n",
       "      <td>4500000.0</td>\n",
       "      <td>4500000.0</td>\n",
       "    </tr>\n",
       "  </tbody>\n",
       "</table>\n",
       "</div>"
      ],
      "text/plain": [
       "       price  computed_price\n",
       "0  3380000.0       3380000.0\n",
       "1  4540000.0       4540000.0\n",
       "2  4460000.0       4460000.0\n",
       "3  4700000.0       4700000.0\n",
       "4  4500000.0       4500000.0"
      ]
     },
     "execution_count": 29,
     "metadata": {},
     "output_type": "execute_result"
    }
   ],
   "source": [
    "df[[\"price\", \"computed_price\"]].head()"
   ]
  },
  {
   "cell_type": "markdown",
   "id": "f272cd4d-9fd8-45aa-946a-32bb85eed6f7",
   "metadata": {},
   "source": [
    "#### Identify Outliers in `price_per_sqft`"
   ]
  },
  {
   "cell_type": "code",
   "execution_count": 18,
   "id": "a82b497b-3a36-452c-8484-6f5bea98d234",
   "metadata": {},
   "outputs": [
    {
     "data": {
      "image/png": "[encoded data removed]",
      "text/plain": [
       "<Figure size 1000x600 with 1 Axes>"
      ]
     },
     "metadata": {},
     "output_type": "display_data"
    }
   ],
   "source": [
    "plt.figure(figsize=(10, 6))\n",
    "sns.boxplot(x = df[\"price_per_sqft\"])\n",
    "plt.title(\"Price per Square Foot\")\n",
    "plt.xlabel(\"Price per Sqft\")\n",
    "plt.show()"
   ]
  },
  {
   "cell_type": "markdown",
   "id": "f39621a7-743e-49de-bdec-d82183789c48",
   "metadata": {},
   "source": [
    "#### Remove Outliers in `price_per_sqft`"
   ]
  },
  {
   "cell_type": "code",
   "execution_count": 19,
   "id": "a4ef886b-34c4-48e7-acc9-7850e2680aed",
   "metadata": {},
   "outputs": [],
   "source": [
    "# Calculate Q1 and Q3 (25th and 75th percentiles)\n",
    "Q1 = df['price_per_sqft'].quantile(0.25)\n",
    "Q3 = df['price_per_sqft'].quantile(0.75)\n",
    "\n",
    "# Compute Interquartile Range (IQR)\n",
    "IQR = Q3 - Q1\n",
    "\n",
    "# Define lower and upper bounds for outliers\n",
    "lower_bound = Q1 - 1.5 * IQR\n",
    "upper_bound = Q3 + 1.5 * IQR\n",
    "\n",
    "# Keep only rows within bounds (remove outliers)\n",
    "df = df[(df['price_per_sqft'] >= lower_bound) & (df['price_per_sqft'] <= upper_bound)]"
   ]
  },
  {
   "cell_type": "code",
   "execution_count": 20,
   "id": "b0d8d441-a013-4813-9438-c3c2a9736682",
   "metadata": {},
   "outputs": [
    {
     "data": {
      "image/png": "[encoded data removed]",
      "text/plain": [
       "<Figure size 1000x600 with 1 Axes>"
      ]
     },
     "metadata": {},
     "output_type": "display_data"
    }
   ],
   "source": [
    "plt.figure(figsize=(10, 6))\n",
    "sns.boxplot(x = df[\"price_per_sqft\"], color = \"skyblue\")\n",
    "plt.title(\"Price per Sqft\")\n",
    "plt.xlabel(\"Price per Sqft\")\n",
    "plt.grid(True, axis='x', linestyle='--', alpha=0.7)\n",
    "plt.show()"
   ]
  },
  {
   "cell_type": "code",
   "execution_count": 21,
   "id": "593b2ecf-f4c5-4b08-b3ae-f32f90513cd0",
   "metadata": {},
   "outputs": [
    {
     "name": "stdout",
     "output_type": "stream",
     "text": [
      "<class 'pandas.core.frame.DataFrame'>\n",
      "Index: 4068 entries, 0 to 4517\n",
      "Data columns (total 8 columns):\n",
      " #   Column          Non-Null Count  Dtype  \n",
      "---  ------          --------------  -----  \n",
      " 0   square_feet     4068 non-null   float64\n",
      " 1   transaction     3982 non-null   object \n",
      " 2   status          4068 non-null   object \n",
      " 3   furnishing      3825 non-null   object \n",
      " 4   facing          3630 non-null   object \n",
      " 5   price_per_sqft  4068 non-null   float64\n",
      " 6   price           4068 non-null   float64\n",
      " 7   computed_price  4068 non-null   float64\n",
      "dtypes: float64(4), object(4)\n",
      "memory usage: 286.0+ KB\n"
     ]
    }
   ],
   "source": [
    "df.info()"
   ]
  },
  {
   "cell_type": "code",
   "execution_count": 22,
   "id": "2c8db91d-27d1-4914-afae-cfe013b9c770",
   "metadata": {},
   "outputs": [
    {
     "data": {
      "text/html": [
       "<div>\n",
       "<style scoped>\n",
       "    .dataframe tbody tr th:only-of-type {\n",
       "        vertical-align: middle;\n",
       "    }\n",
       "\n",
       "    .dataframe tbody tr th {\n",
       "        vertical-align: top;\n",
       "    }\n",
       "\n",
       "    .dataframe thead th {\n",
       "        text-align: right;\n",
       "    }\n",
       "</style>\n",
       "<table border=\"1\" class=\"dataframe\">\n",
       "  <thead>\n",
       "    <tr style=\"text-align: right;\">\n",
       "      <th></th>\n",
       "      <th>count</th>\n",
       "      <th>mean</th>\n",
       "      <th>std</th>\n",
       "      <th>min</th>\n",
       "      <th>25%</th>\n",
       "      <th>50%</th>\n",
       "      <th>75%</th>\n",
       "      <th>max</th>\n",
       "    </tr>\n",
       "  </thead>\n",
       "  <tbody>\n",
       "    <tr>\n",
       "      <th>square_feet</th>\n",
       "      <td>4068.0</td>\n",
       "      <td>3.217145e+03</td>\n",
       "      <td>6.655610e+04</td>\n",
       "      <td>110.000000</td>\n",
       "      <td>9.242500e+02</td>\n",
       "      <td>1.317500e+03</td>\n",
       "      <td>2.090750e+03</td>\n",
       "      <td>4.198405e+06</td>\n",
       "    </tr>\n",
       "    <tr>\n",
       "      <th>price_per_sqft</th>\n",
       "      <td>4068.0</td>\n",
       "      <td>5.752385e+03</td>\n",
       "      <td>2.720956e+03</td>\n",
       "      <td>1.052632</td>\n",
       "      <td>3.794902e+03</td>\n",
       "      <td>5.074972e+03</td>\n",
       "      <td>7.181666e+03</td>\n",
       "      <td>1.415425e+04</td>\n",
       "    </tr>\n",
       "    <tr>\n",
       "      <th>price</th>\n",
       "      <td>4068.0</td>\n",
       "      <td>1.109248e+07</td>\n",
       "      <td>2.696542e+07</td>\n",
       "      <td>100000.000000</td>\n",
       "      <td>4.277500e+06</td>\n",
       "      <td>7.000000e+06</td>\n",
       "      <td>1.260000e+07</td>\n",
       "      <td>1.463300e+09</td>\n",
       "    </tr>\n",
       "    <tr>\n",
       "      <th>computed_price</th>\n",
       "      <td>4068.0</td>\n",
       "      <td>1.109248e+07</td>\n",
       "      <td>2.696542e+07</td>\n",
       "      <td>100000.000000</td>\n",
       "      <td>4.277500e+06</td>\n",
       "      <td>7.000000e+06</td>\n",
       "      <td>1.260000e+07</td>\n",
       "      <td>1.463300e+09</td>\n",
       "    </tr>\n",
       "  </tbody>\n",
       "</table>\n",
       "</div>"
      ],
      "text/plain": [
       "                 count          mean           std            min  \\\n",
       "square_feet     4068.0  3.217145e+03  6.655610e+04     110.000000   \n",
       "price_per_sqft  4068.0  5.752385e+03  2.720956e+03       1.052632   \n",
       "price           4068.0  1.109248e+07  2.696542e+07  100000.000000   \n",
       "computed_price  4068.0  1.109248e+07  2.696542e+07  100000.000000   \n",
       "\n",
       "                         25%           50%           75%           max  \n",
       "square_feet     9.242500e+02  1.317500e+03  2.090750e+03  4.198405e+06  \n",
       "price_per_sqft  3.794902e+03  5.074972e+03  7.181666e+03  1.415425e+04  \n",
       "price           4.277500e+06  7.000000e+06  1.260000e+07  1.463300e+09  \n",
       "computed_price  4.277500e+06  7.000000e+06  1.260000e+07  1.463300e+09  "
      ]
     },
     "execution_count": 22,
     "metadata": {},
     "output_type": "execute_result"
    }
   ],
   "source": [
    "df.describe().T"
   ]
  },
  {
   "cell_type": "markdown",
   "id": "01ab97aa-6e57-4a4b-a3bd-d7467da64806",
   "metadata": {},
   "source": [
    "#### `One-Hot Encode` Categorical Columns"
   ]
  },
  {
   "cell_type": "code",
   "execution_count": 24,
   "id": "998cfb2f-60b0-4e53-a230-38685544f14a",
   "metadata": {},
   "outputs": [],
   "source": [
    "cat_cols = ['transaction', 'furnishing', 'facing', 'status']\n",
    "df = pd.get_dummies(df, columns=cat_cols, drop_first=True)"
   ]
  },
  {
   "cell_type": "code",
   "execution_count": 25,
   "id": "0d388f12-bb09-4f37-9528-767e063b5cde",
   "metadata": {},
   "outputs": [
    {
     "name": "stdout",
     "output_type": "stream",
     "text": [
      "<class 'pandas.core.frame.DataFrame'>\n",
      "Index: 4068 entries, 0 to 4517\n",
      "Columns: 388 entries, square_feet to status_Resale\n",
      "dtypes: bool(384), float64(4)\n",
      "memory usage: 1.6 MB\n"
     ]
    }
   ],
   "source": [
    "df.info()"
   ]
  },
  {
   "cell_type": "code",
   "execution_count": 26,
   "id": "474f3d25-6b64-451e-bc1a-b9dc16168057",
   "metadata": {},
   "outputs": [
    {
     "data": {
      "text/plain": [
       "square_feet                 0\n",
       "price_per_sqft              0\n",
       "price                       0\n",
       "computed_price              0\n",
       "transaction_10 m            0\n",
       "                           ..\n",
       "status_Poss. by Sep '25     0\n",
       "status_Poss. by Sep '26     0\n",
       "status_Power Of Attorney    0\n",
       "status_Ready to Move        0\n",
       "status_Resale               0\n",
       "Length: 388, dtype: int64"
      ]
     },
     "execution_count": 26,
     "metadata": {},
     "output_type": "execute_result"
    }
   ],
   "source": [
    "df.isnull().sum()"
   ]
  },
  {
   "cell_type": "markdown",
   "id": "fa945d16-d658-4e1a-a688-a69594ea84d1",
   "metadata": {},
   "source": [
    "#### Model Evaluation"
   ]
  },
  {
   "cell_type": "code",
   "execution_count": 27,
   "id": "c65eba59-d65c-4d1e-9a95-75b12d6e9e03",
   "metadata": {},
   "outputs": [
    {
     "name": "stdout",
     "output_type": "stream",
     "text": [
      "--- Linear Regression Results ---\n",
      "Mean Squared Error (MSE): 0.00\n",
      "R-squared (R2): 1.00\n"
     ]
    }
   ],
   "source": [
    "# Define features (X) and target (y) from the DataFrame\n",
    "X = df.drop('computed_price', axis=1)\n",
    "y = df['computed_price']\n",
    "\n",
    "# Split data\n",
    "X_train, X_test, y_train, y_test = train_test_split(X, y, test_size=0.2, random_state=42)\n",
    "\n",
    "# Create and train the Linear Regression model\n",
    "model = LinearRegression()\n",
    "model.fit(X_train, y_train)\n",
    "\n",
    "# Make predictions\n",
    "y_pred = model.predict(X_test)\n",
    "\n",
    "# Evaluate the model (metrics explained later)\n",
    "mse = mean_squared_error(y_test, y_pred)\n",
    "r2 = r2_score(y_test, y_pred)\n",
    "\n",
    "print(\"--- Linear Regression Results ---\")\n",
    "print(f\"Mean Squared Error (MSE): {mse:.2f}\")\n",
    "print(f\"R-squared (R2): {r2:.2f}\")"
   ]
  },
  {
   "cell_type": "code",
   "execution_count": 28,
   "id": "c409dc28-50c5-40e5-8fdf-f1afb21e3209",
   "metadata": {},
   "outputs": [],
   "source": [
    "df.to_csv(\"cleaned_version.csv\")"
   ]
  }
 ],
 "metadata": {
  "kernelspec": {
   "display_name": "Python [conda env:base] *",
   "language": "python",
   "name": "conda-base-py"
  },
  "language_info": {
   "codemirror_mode": {
    "name": "ipython",
    "version": 3
   },
   "file_extension": ".py",
   "mimetype": "text/x-python",
   "name": "python",
   "nbconvert_exporter": "python",
   "pygments_lexer": "ipython3",
   "version": "3.12.7"
  }
 },
 "nbformat": 4,
 "nbformat_minor": 5
}
