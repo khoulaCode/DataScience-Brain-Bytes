{
 "cells": [
  {
   "cell_type": "markdown",
   "id": "6afaf82c-b5ad-4b3b-9751-8ca6c2d90965",
   "metadata": {},
   "source": [
    "# MNIST Classification with Feedforward Neural Network in Keras"
   ]
  },
  {
   "cell_type": "markdown",
   "id": "92d4ce6b-3e5d-4a44-be40-1eff6996707e",
   "metadata": {},
   "source": [
    "### 1. Data Loading and Preprocessing"
   ]
  },
  {
   "cell_type": "code",
   "execution_count": 1,
   "id": "3804825e-6fc7-49c4-b9df-a048cf705fe5",
   "metadata": {},
   "outputs": [],
   "source": [
    "import keras\n",
    "from keras.datasets import mnist\n",
    "from keras.models import Sequential\n",
    "from keras.layers import Dense, Flatten\n",
    "from keras.utils import to_categorical"
   ]
  },
  {
   "cell_type": "code",
   "execution_count": 2,
   "id": "f013f380-911e-433e-9bac-30542d01ab30",
   "metadata": {},
   "outputs": [],
   "source": [
    "# Load MNIST dataset\n",
    "(x_train, y_train), (x_test, y_test) = mnist.load_data()\n",
    "\n",
    "# Normalize pixel values to [0, 1]\n",
    "x_train = x_train.astype(\"float32\") / 255.0\n",
    "x_test = x_test.astype(\"float32\") / 255.0\n",
    "\n",
    "# One-hot Encode Labels\n",
    "y_train = to_categorical(y_train, 10)\n",
    "y_test = to_categorical(y_test, 10)"
   ]
  },
  {
   "cell_type": "markdown",
   "id": "ff9c8c08-1d26-444f-b0cf-4f902067499a",
   "metadata": {},
   "source": [
    "### 2. Baseline Model with ReLU + Adam + Softmax"
   ]
  },
  {
   "cell_type": "code",
   "execution_count": 3,
   "id": "ed477c1f-d42d-4186-84ae-7978d1cc13aa",
   "metadata": {},
   "outputs": [
    {
     "name": "stderr",
     "output_type": "stream",
     "text": [
      "C:\\Users\\bbuser\\anaconda3\\Lib\\site-packages\\keras\\src\\layers\\reshaping\\flatten.py:37: UserWarning: Do not pass an `input_shape`/`input_dim` argument to a layer. When using Sequential models, prefer using an `Input(shape)` object as the first layer in the model instead.\n",
      "  super().__init__(**kwargs)\n"
     ]
    },
    {
     "data": {
      "text/html": [
       "<pre style=\"white-space:pre;overflow-x:auto;line-height:normal;font-family:Menlo,'DejaVu Sans Mono',consolas,'Courier New',monospace\"><span style=\"font-weight: bold\">Model: \"sequential\"</span>\n",
       "</pre>\n"
      ],
      "text/plain": [
       "\u001b[1mModel: \"sequential\"\u001b[0m\n"
      ]
     },
     "metadata": {},
     "output_type": "display_data"
    },
    {
     "data": {
      "text/html": [
       "<pre style=\"white-space:pre;overflow-x:auto;line-height:normal;font-family:Menlo,'DejaVu Sans Mono',consolas,'Courier New',monospace\">┏━━━━━━━━━━━━━━━━━━━━━━━━━━━━━━━━━┳━━━━━━━━━━━━━━━━━━━━━━━━┳━━━━━━━━━━━━━━━┓\n",
       "┃<span style=\"font-weight: bold\"> Layer (type)                    </span>┃<span style=\"font-weight: bold\"> Output Shape           </span>┃<span style=\"font-weight: bold\">       Param # </span>┃\n",
       "┡━━━━━━━━━━━━━━━━━━━━━━━━━━━━━━━━━╇━━━━━━━━━━━━━━━━━━━━━━━━╇━━━━━━━━━━━━━━━┩\n",
       "│ flatten (<span style=\"color: #0087ff; text-decoration-color: #0087ff\">Flatten</span>)               │ (<span style=\"color: #00d7ff; text-decoration-color: #00d7ff\">None</span>, <span style=\"color: #00af00; text-decoration-color: #00af00\">784</span>)            │             <span style=\"color: #00af00; text-decoration-color: #00af00\">0</span> │\n",
       "├─────────────────────────────────┼────────────────────────┼───────────────┤\n",
       "│ dense (<span style=\"color: #0087ff; text-decoration-color: #0087ff\">Dense</span>)                   │ (<span style=\"color: #00d7ff; text-decoration-color: #00d7ff\">None</span>, <span style=\"color: #00af00; text-decoration-color: #00af00\">128</span>)            │       <span style=\"color: #00af00; text-decoration-color: #00af00\">100,480</span> │\n",
       "├─────────────────────────────────┼────────────────────────┼───────────────┤\n",
       "│ dense_1 (<span style=\"color: #0087ff; text-decoration-color: #0087ff\">Dense</span>)                 │ (<span style=\"color: #00d7ff; text-decoration-color: #00d7ff\">None</span>, <span style=\"color: #00af00; text-decoration-color: #00af00\">64</span>)             │         <span style=\"color: #00af00; text-decoration-color: #00af00\">8,256</span> │\n",
       "├─────────────────────────────────┼────────────────────────┼───────────────┤\n",
       "│ dense_2 (<span style=\"color: #0087ff; text-decoration-color: #0087ff\">Dense</span>)                 │ (<span style=\"color: #00d7ff; text-decoration-color: #00d7ff\">None</span>, <span style=\"color: #00af00; text-decoration-color: #00af00\">10</span>)             │           <span style=\"color: #00af00; text-decoration-color: #00af00\">650</span> │\n",
       "└─────────────────────────────────┴────────────────────────┴───────────────┘\n",
       "</pre>\n"
      ],
      "text/plain": [
       "┏━━━━━━━━━━━━━━━━━━━━━━━━━━━━━━━━━┳━━━━━━━━━━━━━━━━━━━━━━━━┳━━━━━━━━━━━━━━━┓\n",
       "┃\u001b[1m \u001b[0m\u001b[1mLayer (type)                   \u001b[0m\u001b[1m \u001b[0m┃\u001b[1m \u001b[0m\u001b[1mOutput Shape          \u001b[0m\u001b[1m \u001b[0m┃\u001b[1m \u001b[0m\u001b[1m      Param #\u001b[0m\u001b[1m \u001b[0m┃\n",
       "┡━━━━━━━━━━━━━━━━━━━━━━━━━━━━━━━━━╇━━━━━━━━━━━━━━━━━━━━━━━━╇━━━━━━━━━━━━━━━┩\n",
       "│ flatten (\u001b[38;5;33mFlatten\u001b[0m)               │ (\u001b[38;5;45mNone\u001b[0m, \u001b[38;5;34m784\u001b[0m)            │             \u001b[38;5;34m0\u001b[0m │\n",
       "├─────────────────────────────────┼────────────────────────┼───────────────┤\n",
       "│ dense (\u001b[38;5;33mDense\u001b[0m)                   │ (\u001b[38;5;45mNone\u001b[0m, \u001b[38;5;34m128\u001b[0m)            │       \u001b[38;5;34m100,480\u001b[0m │\n",
       "├─────────────────────────────────┼────────────────────────┼───────────────┤\n",
       "│ dense_1 (\u001b[38;5;33mDense\u001b[0m)                 │ (\u001b[38;5;45mNone\u001b[0m, \u001b[38;5;34m64\u001b[0m)             │         \u001b[38;5;34m8,256\u001b[0m │\n",
       "├─────────────────────────────────┼────────────────────────┼───────────────┤\n",
       "│ dense_2 (\u001b[38;5;33mDense\u001b[0m)                 │ (\u001b[38;5;45mNone\u001b[0m, \u001b[38;5;34m10\u001b[0m)             │           \u001b[38;5;34m650\u001b[0m │\n",
       "└─────────────────────────────────┴────────────────────────┴───────────────┘\n"
      ]
     },
     "metadata": {},
     "output_type": "display_data"
    },
    {
     "data": {
      "text/html": [
       "<pre style=\"white-space:pre;overflow-x:auto;line-height:normal;font-family:Menlo,'DejaVu Sans Mono',consolas,'Courier New',monospace\"><span style=\"font-weight: bold\"> Total params: </span><span style=\"color: #00af00; text-decoration-color: #00af00\">109,386</span> (427.29 KB)\n",
       "</pre>\n"
      ],
      "text/plain": [
       "\u001b[1m Total params: \u001b[0m\u001b[38;5;34m109,386\u001b[0m (427.29 KB)\n"
      ]
     },
     "metadata": {},
     "output_type": "display_data"
    },
    {
     "data": {
      "text/html": [
       "<pre style=\"white-space:pre;overflow-x:auto;line-height:normal;font-family:Menlo,'DejaVu Sans Mono',consolas,'Courier New',monospace\"><span style=\"font-weight: bold\"> Trainable params: </span><span style=\"color: #00af00; text-decoration-color: #00af00\">109,386</span> (427.29 KB)\n",
       "</pre>\n"
      ],
      "text/plain": [
       "\u001b[1m Trainable params: \u001b[0m\u001b[38;5;34m109,386\u001b[0m (427.29 KB)\n"
      ]
     },
     "metadata": {},
     "output_type": "display_data"
    },
    {
     "data": {
      "text/html": [
       "<pre style=\"white-space:pre;overflow-x:auto;line-height:normal;font-family:Menlo,'DejaVu Sans Mono',consolas,'Courier New',monospace\"><span style=\"font-weight: bold\"> Non-trainable params: </span><span style=\"color: #00af00; text-decoration-color: #00af00\">0</span> (0.00 B)\n",
       "</pre>\n"
      ],
      "text/plain": [
       "\u001b[1m Non-trainable params: \u001b[0m\u001b[38;5;34m0\u001b[0m (0.00 B)\n"
      ]
     },
     "metadata": {},
     "output_type": "display_data"
    },
    {
     "name": "stdout",
     "output_type": "stream",
     "text": [
      "Epoch 1/5\n",
      "\u001b[1m1688/1688\u001b[0m \u001b[32m━━━━━━━━━━━━━━━━━━━━\u001b[0m\u001b[37m\u001b[0m \u001b[1m9s\u001b[0m 5ms/step - accuracy: 0.9237 - loss: 0.2614 - val_accuracy: 0.9677 - val_loss: 0.1141\n",
      "Epoch 2/5\n",
      "\u001b[1m1688/1688\u001b[0m \u001b[32m━━━━━━━━━━━━━━━━━━━━\u001b[0m\u001b[37m\u001b[0m \u001b[1m7s\u001b[0m 4ms/step - accuracy: 0.9663 - loss: 0.1094 - val_accuracy: 0.9722 - val_loss: 0.0896\n",
      "Epoch 3/5\n",
      "\u001b[1m1688/1688\u001b[0m \u001b[32m━━━━━━━━━━━━━━━━━━━━\u001b[0m\u001b[37m\u001b[0m \u001b[1m8s\u001b[0m 5ms/step - accuracy: 0.9767 - loss: 0.0746 - val_accuracy: 0.9752 - val_loss: 0.0930\n",
      "Epoch 4/5\n",
      "\u001b[1m1688/1688\u001b[0m \u001b[32m━━━━━━━━━━━━━━━━━━━━\u001b[0m\u001b[37m\u001b[0m \u001b[1m8s\u001b[0m 5ms/step - accuracy: 0.9820 - loss: 0.0562 - val_accuracy: 0.9783 - val_loss: 0.0769\n",
      "Epoch 5/5\n",
      "\u001b[1m1688/1688\u001b[0m \u001b[32m━━━━━━━━━━━━━━━━━━━━\u001b[0m\u001b[37m\u001b[0m \u001b[1m9s\u001b[0m 5ms/step - accuracy: 0.9859 - loss: 0.0433 - val_accuracy: 0.9767 - val_loss: 0.0882\n",
      "\u001b[1m313/313\u001b[0m \u001b[32m━━━━━━━━━━━━━━━━━━━━\u001b[0m\u001b[37m\u001b[0m \u001b[1m1s\u001b[0m 3ms/step - accuracy: 0.9735 - loss: 0.0866\n",
      "Test Accuracy: 0.9735\n"
     ]
    }
   ],
   "source": [
    "def build_model(activation=\"relu\", optimizer=\"adam\", hidden_layers=2):\n",
    "    model = Sequential()\n",
    "    model.add(Flatten(input_shape=(28, 28)))\n",
    "    \n",
    "    # First hidden layer\n",
    "    model.add(Dense(128, activation=activation))\n",
    "    \n",
    "    if hidden_layers == 2:\n",
    "        model.add(Dense(64, activation=activation))  # Second hidden layer\n",
    "\n",
    "    model.add(Dense(10, activation=\"softmax\"))  # Output layer\n",
    "    model.compile(optimizer=optimizer,\n",
    "                  loss=\"categorical_crossentropy\",\n",
    "                  metrics=[\"accuracy\"])\n",
    "    return model\n",
    "\n",
    "# Build and train the model\n",
    "model = build_model()\n",
    "model.summary()\n",
    "history = model.fit(x_train, y_train, epochs=5, batch_size=32, validation_split=0.1)\n",
    "test_loss, test_acc = model.evaluate(x_test, y_test)\n",
    "print(f\"Test Accuracy: {test_acc:.4f}\")"
   ]
  },
  {
   "cell_type": "markdown",
   "id": "68e8cefe-d3d4-40b6-a5bf-84ee6b5d1ac8",
   "metadata": {},
   "source": [
    "### 3. Experiment 1: Sigmoid vs ReLU\n",
    "> Goal: Understand the effect of using **sigmoid** instead of **relu** in hidden layers."
   ]
  },
  {
   "cell_type": "code",
   "execution_count": 4,
   "id": "1ea4c320-c168-4a5e-a5c9-d05549d2e4b8",
   "metadata": {},
   "outputs": [
    {
     "name": "stdout",
     "output_type": "stream",
     "text": [
      "Epoch 1/5\n",
      "\u001b[1m1688/1688\u001b[0m \u001b[32m━━━━━━━━━━━━━━━━━━━━\u001b[0m\u001b[37m\u001b[0m \u001b[1m7s\u001b[0m 4ms/step - accuracy: 0.8731 - loss: 0.5000 - val_accuracy: 0.9507 - val_loss: 0.1802\n",
      "Epoch 2/5\n",
      "\u001b[1m1688/1688\u001b[0m \u001b[32m━━━━━━━━━━━━━━━━━━━━\u001b[0m\u001b[37m\u001b[0m \u001b[1m7s\u001b[0m 4ms/step - accuracy: 0.9458 - loss: 0.1851 - val_accuracy: 0.9638 - val_loss: 0.1316\n",
      "Epoch 3/5\n",
      "\u001b[1m1688/1688\u001b[0m \u001b[32m━━━━━━━━━━━━━━━━━━━━\u001b[0m\u001b[37m\u001b[0m \u001b[1m9s\u001b[0m 5ms/step - accuracy: 0.9620 - loss: 0.1286 - val_accuracy: 0.9707 - val_loss: 0.0992\n",
      "Epoch 4/5\n",
      "\u001b[1m1688/1688\u001b[0m \u001b[32m━━━━━━━━━━━━━━━━━━━━\u001b[0m\u001b[37m\u001b[0m \u001b[1m8s\u001b[0m 5ms/step - accuracy: 0.9721 - loss: 0.0958 - val_accuracy: 0.9723 - val_loss: 0.0875\n",
      "Epoch 5/5\n",
      "\u001b[1m1688/1688\u001b[0m \u001b[32m━━━━━━━━━━━━━━━━━━━━\u001b[0m\u001b[37m\u001b[0m \u001b[1m8s\u001b[0m 5ms/step - accuracy: 0.9779 - loss: 0.0737 - val_accuracy: 0.9745 - val_loss: 0.0833\n",
      "\u001b[1m313/313\u001b[0m \u001b[32m━━━━━━━━━━━━━━━━━━━━\u001b[0m\u001b[37m\u001b[0m \u001b[1m1s\u001b[0m 2ms/step - accuracy: 0.9729 - loss: 0.0854\n",
      "Epoch 1/5\n",
      "\u001b[1m1688/1688\u001b[0m \u001b[32m━━━━━━━━━━━━━━━━━━━━\u001b[0m\u001b[37m\u001b[0m \u001b[1m8s\u001b[0m 4ms/step - accuracy: 0.9243 - loss: 0.2611 - val_accuracy: 0.9670 - val_loss: 0.1171\n",
      "Epoch 2/5\n",
      "\u001b[1m1688/1688\u001b[0m \u001b[32m━━━━━━━━━━━━━━━━━━━━\u001b[0m\u001b[37m\u001b[0m \u001b[1m9s\u001b[0m 5ms/step - accuracy: 0.9673 - loss: 0.1085 - val_accuracy: 0.9735 - val_loss: 0.0911\n",
      "Epoch 3/5\n",
      "\u001b[1m1688/1688\u001b[0m \u001b[32m━━━━━━━━━━━━━━━━━━━━\u001b[0m\u001b[37m\u001b[0m \u001b[1m7s\u001b[0m 4ms/step - accuracy: 0.9767 - loss: 0.0756 - val_accuracy: 0.9735 - val_loss: 0.0849\n",
      "Epoch 4/5\n",
      "\u001b[1m1688/1688\u001b[0m \u001b[32m━━━━━━━━━━━━━━━━━━━━\u001b[0m\u001b[37m\u001b[0m \u001b[1m8s\u001b[0m 5ms/step - accuracy: 0.9815 - loss: 0.0582 - val_accuracy: 0.9770 - val_loss: 0.0760\n",
      "Epoch 5/5\n",
      "\u001b[1m1688/1688\u001b[0m \u001b[32m━━━━━━━━━━━━━━━━━━━━\u001b[0m\u001b[37m\u001b[0m \u001b[1m7s\u001b[0m 4ms/step - accuracy: 0.9856 - loss: 0.0442 - val_accuracy: 0.9793 - val_loss: 0.0783\n",
      "\u001b[1m313/313\u001b[0m \u001b[32m━━━━━━━━━━━━━━━━━━━━\u001b[0m\u001b[37m\u001b[0m \u001b[1m1s\u001b[0m 3ms/step - accuracy: 0.9782 - loss: 0.0742\n",
      "ReLU Accuracy: 0.9782\n",
      "Sigmoid Accuracy: 0.9729\n"
     ]
    }
   ],
   "source": [
    "# Sigmoid model\n",
    "sigmoid_model = build_model(activation=\"sigmoid\", optimizer=\"adam\")\n",
    "sigmoid_model.fit(x_train, y_train, epochs=5, batch_size=32, validation_split=0.1)\n",
    "_, sigmoid_acc = sigmoid_model.evaluate(x_test, y_test)\n",
    "\n",
    "# ReLU model (again for comparison)\n",
    "relu_model = build_model(activation=\"relu\", optimizer=\"adam\")\n",
    "relu_model.fit(x_train, y_train, epochs=5, batch_size=32, validation_split=0.1)\n",
    "_, relu_acc = relu_model.evaluate(x_test, y_test)\n",
    "\n",
    "print(f\"ReLU Accuracy: {relu_acc:.4f}\")\n",
    "print(f\"Sigmoid Accuracy: {sigmoid_acc:.4f}\")"
   ]
  },
  {
   "cell_type": "markdown",
   "id": "0e2a0e15-34e4-4078-aec9-506dfbac938e",
   "metadata": {},
   "source": [
    "#### Observation:\n",
    "- ReLU usually trains faster and gives better accuracy due to avoiding vanishing gradients.\n",
    "- Sigmoid may lead to slower convergence."
   ]
  },
  {
   "cell_type": "markdown",
   "id": "fd6dd290-a2de-43c1-a69f-034040348170",
   "metadata": {},
   "source": [
    "### 4. Experiment 2: Softmax vs Other Output Activations\n",
    "> Goal: Compare **softmax** with **sigmoid** in output layer."
   ]
  },
  {
   "cell_type": "code",
   "execution_count": 5,
   "id": "261b3438-d8cb-4b33-ab72-df12ab6e21fd",
   "metadata": {
    "scrolled": true
   },
   "outputs": [
    {
     "name": "stdout",
     "output_type": "stream",
     "text": [
      "Epoch 1/5\n",
      "\u001b[1m1688/1688\u001b[0m \u001b[32m━━━━━━━━━━━━━━━━━━━━\u001b[0m\u001b[37m\u001b[0m \u001b[1m8s\u001b[0m 4ms/step - accuracy: 0.9250 - loss: 0.2594 - val_accuracy: 0.9620 - val_loss: 0.1274\n",
      "Epoch 2/5\n",
      "\u001b[1m1688/1688\u001b[0m \u001b[32m━━━━━━━━━━━━━━━━━━━━\u001b[0m\u001b[37m\u001b[0m \u001b[1m7s\u001b[0m 4ms/step - accuracy: 0.9666 - loss: 0.1092 - val_accuracy: 0.9668 - val_loss: 0.1211\n",
      "Epoch 3/5\n",
      "\u001b[1m1688/1688\u001b[0m \u001b[32m━━━━━━━━━━━━━━━━━━━━\u001b[0m\u001b[37m\u001b[0m \u001b[1m8s\u001b[0m 5ms/step - accuracy: 0.9758 - loss: 0.0768 - val_accuracy: 0.9745 - val_loss: 0.0852\n",
      "Epoch 4/5\n",
      "\u001b[1m1688/1688\u001b[0m \u001b[32m━━━━━━━━━━━━━━━━━━━━\u001b[0m\u001b[37m\u001b[0m \u001b[1m7s\u001b[0m 4ms/step - accuracy: 0.9815 - loss: 0.0585 - val_accuracy: 0.9755 - val_loss: 0.0828\n",
      "Epoch 5/5\n",
      "\u001b[1m1688/1688\u001b[0m \u001b[32m━━━━━━━━━━━━━━━━━━━━\u001b[0m\u001b[37m\u001b[0m \u001b[1m7s\u001b[0m 4ms/step - accuracy: 0.9858 - loss: 0.0450 - val_accuracy: 0.9800 - val_loss: 0.0743\n",
      "\u001b[1m313/313\u001b[0m \u001b[32m━━━━━━━━━━━━━━━━━━━━\u001b[0m\u001b[37m\u001b[0m \u001b[1m1s\u001b[0m 2ms/step - accuracy: 0.9770 - loss: 0.0728\n",
      "Softmax Accuracy (from earlier): 0.9782\n",
      "Sigmoid Output Accuracy: 0.9770\n"
     ]
    }
   ],
   "source": [
    "# Incorrect output activation for multi-class: sigmoid\n",
    "def build_bad_output_model():\n",
    "    model = Sequential()\n",
    "    model.add(Flatten(input_shape=(28, 28)))\n",
    "    model.add(Dense(128, activation=\"relu\"))\n",
    "    model.add(Dense(64, activation=\"relu\"))\n",
    "    model.add(Dense(10, activation=\"sigmoid\"))  # Not ideal for multi-class!\n",
    "    model.compile(optimizer=\"adam\", loss=\"categorical_crossentropy\", metrics=[\"accuracy\"])\n",
    "    return model\n",
    "\n",
    "bad_output_model = build_bad_output_model()\n",
    "bad_output_model.fit(x_train, y_train, epochs=5, batch_size=32, validation_split=0.1)\n",
    "_, bad_acc = bad_output_model.evaluate(x_test, y_test)\n",
    "\n",
    "print(f\"Softmax Accuracy (from earlier): {relu_acc:.4f}\")\n",
    "print(f\"Sigmoid Output Accuracy: {bad_acc:.4f}\")"
   ]
  },
  {
   "cell_type": "markdown",
   "id": "2484b781-aede-4c8b-aba2-442489c1d7e7",
   "metadata": {},
   "source": [
    "#### Observation:\n",
    "\n",
    "- Softmax outputs probabilities that sum to 1, ideal for categorical classification.\n",
    "- Sigmoid outputs independent probabilities per class, which doesn’t work well for multi-class soft targets."
   ]
  },
  {
   "cell_type": "markdown",
   "id": "5ce95f9d-6a90-4963-bef2-5a8e22e7749e",
   "metadata": {},
   "source": [
    "### 5. Experiment 3: Depth: 1 vs 2 Hidden Layers"
   ]
  },
  {
   "cell_type": "code",
   "execution_count": 6,
   "id": "41f0ae04-99ec-4410-af79-eab23634431e",
   "metadata": {},
   "outputs": [
    {
     "name": "stdout",
     "output_type": "stream",
     "text": [
      "Epoch 1/5\n",
      "\u001b[1m1688/1688\u001b[0m \u001b[32m━━━━━━━━━━━━━━━━━━━━\u001b[0m\u001b[37m\u001b[0m \u001b[1m7s\u001b[0m 4ms/step - accuracy: 0.9204 - loss: 0.2766 - val_accuracy: 0.9665 - val_loss: 0.1271\n",
      "Epoch 2/5\n",
      "\u001b[1m1688/1688\u001b[0m \u001b[32m━━━━━━━━━━━━━━━━━━━━\u001b[0m\u001b[37m\u001b[0m \u001b[1m8s\u001b[0m 5ms/step - accuracy: 0.9652 - loss: 0.1190 - val_accuracy: 0.9740 - val_loss: 0.0943\n",
      "Epoch 3/5\n",
      "\u001b[1m1688/1688\u001b[0m \u001b[32m━━━━━━━━━━━━━━━━━━━━\u001b[0m\u001b[37m\u001b[0m \u001b[1m13s\u001b[0m 6ms/step - accuracy: 0.9757 - loss: 0.0811 - val_accuracy: 0.9730 - val_loss: 0.0905\n",
      "Epoch 4/5\n",
      "\u001b[1m1688/1688\u001b[0m \u001b[32m━━━━━━━━━━━━━━━━━━━━\u001b[0m\u001b[37m\u001b[0m \u001b[1m9s\u001b[0m 5ms/step - accuracy: 0.9818 - loss: 0.0600 - val_accuracy: 0.9770 - val_loss: 0.0838\n",
      "Epoch 5/5\n",
      "\u001b[1m1688/1688\u001b[0m \u001b[32m━━━━━━━━━━━━━━━━━━━━\u001b[0m\u001b[37m\u001b[0m \u001b[1m9s\u001b[0m 6ms/step - accuracy: 0.9855 - loss: 0.0468 - val_accuracy: 0.9772 - val_loss: 0.0828\n",
      "\u001b[1m313/313\u001b[0m \u001b[32m━━━━━━━━━━━━━━━━━━━━\u001b[0m\u001b[37m\u001b[0m \u001b[1m1s\u001b[0m 3ms/step - accuracy: 0.9762 - loss: 0.0763\n",
      "Epoch 1/5\n",
      "\u001b[1m1688/1688\u001b[0m \u001b[32m━━━━━━━━━━━━━━━━━━━━\u001b[0m\u001b[37m\u001b[0m \u001b[1m11s\u001b[0m 5ms/step - accuracy: 0.9267 - loss: 0.2496 - val_accuracy: 0.9645 - val_loss: 0.1204\n",
      "Epoch 2/5\n",
      "\u001b[1m1688/1688\u001b[0m \u001b[32m━━━━━━━━━━━━━━━━━━━━\u001b[0m\u001b[37m\u001b[0m \u001b[1m10s\u001b[0m 6ms/step - accuracy: 0.9678 - loss: 0.1058 - val_accuracy: 0.9748 - val_loss: 0.0919\n",
      "Epoch 3/5\n",
      "\u001b[1m1688/1688\u001b[0m \u001b[32m━━━━━━━━━━━━━━━━━━━━\u001b[0m\u001b[37m\u001b[0m \u001b[1m10s\u001b[0m 6ms/step - accuracy: 0.9774 - loss: 0.0718 - val_accuracy: 0.9778 - val_loss: 0.0797\n",
      "Epoch 4/5\n",
      "\u001b[1m1688/1688\u001b[0m \u001b[32m━━━━━━━━━━━━━━━━━━━━\u001b[0m\u001b[37m\u001b[0m \u001b[1m9s\u001b[0m 5ms/step - accuracy: 0.9825 - loss: 0.0551 - val_accuracy: 0.9773 - val_loss: 0.0880\n",
      "Epoch 5/5\n",
      "\u001b[1m1688/1688\u001b[0m \u001b[32m━━━━━━━━━━━━━━━━━━━━\u001b[0m\u001b[37m\u001b[0m \u001b[1m11s\u001b[0m 6ms/step - accuracy: 0.9859 - loss: 0.0429 - val_accuracy: 0.9765 - val_loss: 0.0872\n",
      "\u001b[1m313/313\u001b[0m \u001b[32m━━━━━━━━━━━━━━━━━━━━\u001b[0m\u001b[37m\u001b[0m \u001b[1m1s\u001b[0m 4ms/step - accuracy: 0.9724 - loss: 0.0936\n",
      "1 Hidden Layer Accuracy: 0.9762\n",
      "2 Hidden Layers Accuracy: 0.9724\n"
     ]
    }
   ],
   "source": [
    "# 1 hidden layer\n",
    "model_1hl = build_model(hidden_layers=1)\n",
    "model_1hl.fit(x_train, y_train, epochs=5, batch_size=32, validation_split=0.1)\n",
    "_, acc_1hl = model_1hl.evaluate(x_test, y_test)\n",
    "\n",
    "# 2 hidden layers\n",
    "model_2hl = build_model(hidden_layers=2)\n",
    "model_2hl.fit(x_train, y_train, epochs=5, batch_size=32, validation_split=0.1)\n",
    "_, acc_2hl = model_2hl.evaluate(x_test, y_test)\n",
    "\n",
    "print(f\"1 Hidden Layer Accuracy: {acc_1hl:.4f}\")\n",
    "print(f\"2 Hidden Layers Accuracy: {acc_2hl:.4f}\")"
   ]
  },
  {
   "cell_type": "markdown",
   "id": "231ac6eb-2b47-45b0-a72a-bd937f6a943c",
   "metadata": {},
   "source": [
    "#### Observation:\n",
    "> Deeper networks can capture more complex patterns but may overfit or train slower without enough data or regularization."
   ]
  },
  {
   "cell_type": "markdown",
   "id": "a94c8df8-9bcc-49a6-8090-a26502d8e98d",
   "metadata": {},
   "source": [
    "### 6. Experiment 4: Optimizer Comparison (adam, sgd, rmsprop)"
   ]
  },
  {
   "cell_type": "code",
   "execution_count": 7,
   "id": "02cabc39-059a-4852-8e6a-4ae1f2132432",
   "metadata": {},
   "outputs": [
    {
     "name": "stdout",
     "output_type": "stream",
     "text": [
      "\n",
      "Training with optimizer: adam\n",
      "Epoch 1/5\n",
      "\u001b[1m1688/1688\u001b[0m \u001b[32m━━━━━━━━━━━━━━━━━━━━\u001b[0m\u001b[37m\u001b[0m \u001b[1m11s\u001b[0m 6ms/step - accuracy: 0.9249 - loss: 0.2558 - val_accuracy: 0.9623 - val_loss: 0.1166\n",
      "Epoch 2/5\n",
      "\u001b[1m1688/1688\u001b[0m \u001b[32m━━━━━━━━━━━━━━━━━━━━\u001b[0m\u001b[37m\u001b[0m \u001b[1m9s\u001b[0m 5ms/step - accuracy: 0.9676 - loss: 0.1063 - val_accuracy: 0.9700 - val_loss: 0.0973\n",
      "Epoch 3/5\n",
      "\u001b[1m1688/1688\u001b[0m \u001b[32m━━━━━━━━━━━━━━━━━━━━\u001b[0m\u001b[37m\u001b[0m \u001b[1m10s\u001b[0m 5ms/step - accuracy: 0.9770 - loss: 0.0739 - val_accuracy: 0.9732 - val_loss: 0.0910\n",
      "Epoch 4/5\n",
      "\u001b[1m1688/1688\u001b[0m \u001b[32m━━━━━━━━━━━━━━━━━━━━\u001b[0m\u001b[37m\u001b[0m \u001b[1m8s\u001b[0m 5ms/step - accuracy: 0.9817 - loss: 0.0561 - val_accuracy: 0.9763 - val_loss: 0.0840\n",
      "Epoch 5/5\n",
      "\u001b[1m1688/1688\u001b[0m \u001b[32m━━━━━━━━━━━━━━━━━━━━\u001b[0m\u001b[37m\u001b[0m \u001b[1m9s\u001b[0m 5ms/step - accuracy: 0.9858 - loss: 0.0441 - val_accuracy: 0.9730 - val_loss: 0.0886\n",
      "\u001b[1m313/313\u001b[0m \u001b[32m━━━━━━━━━━━━━━━━━━━━\u001b[0m\u001b[37m\u001b[0m \u001b[1m1s\u001b[0m 3ms/step - accuracy: 0.9749 - loss: 0.0863\n",
      "\n",
      "Training with optimizer: sgd\n",
      "Epoch 1/5\n",
      "\u001b[1m1688/1688\u001b[0m \u001b[32m━━━━━━━━━━━━━━━━━━━━\u001b[0m\u001b[37m\u001b[0m \u001b[1m7s\u001b[0m 4ms/step - accuracy: 0.8240 - loss: 0.6596 - val_accuracy: 0.9240 - val_loss: 0.2852\n",
      "Epoch 2/5\n",
      "\u001b[1m1688/1688\u001b[0m \u001b[32m━━━━━━━━━━━━━━━━━━━━\u001b[0m\u001b[37m\u001b[0m \u001b[1m8s\u001b[0m 5ms/step - accuracy: 0.9110 - loss: 0.3121 - val_accuracy: 0.9367 - val_loss: 0.2269\n",
      "Epoch 3/5\n",
      "\u001b[1m1688/1688\u001b[0m \u001b[32m━━━━━━━━━━━━━━━━━━━━\u001b[0m\u001b[37m\u001b[0m \u001b[1m9s\u001b[0m 5ms/step - accuracy: 0.9252 - loss: 0.2597 - val_accuracy: 0.9453 - val_loss: 0.1963\n",
      "Epoch 4/5\n",
      "\u001b[1m1688/1688\u001b[0m \u001b[32m━━━━━━━━━━━━━━━━━━━━\u001b[0m\u001b[37m\u001b[0m \u001b[1m8s\u001b[0m 5ms/step - accuracy: 0.9352 - loss: 0.2259 - val_accuracy: 0.9525 - val_loss: 0.1740\n",
      "Epoch 5/5\n",
      "\u001b[1m1688/1688\u001b[0m \u001b[32m━━━━━━━━━━━━━━━━━━━━\u001b[0m\u001b[37m\u001b[0m \u001b[1m6s\u001b[0m 3ms/step - accuracy: 0.9421 - loss: 0.2003 - val_accuracy: 0.9583 - val_loss: 0.1589\n",
      "\u001b[1m313/313\u001b[0m \u001b[32m━━━━━━━━━━━━━━━━━━━━\u001b[0m\u001b[37m\u001b[0m \u001b[1m1s\u001b[0m 2ms/step - accuracy: 0.9451 - loss: 0.1887\n",
      "\n",
      "Training with optimizer: rmsprop\n",
      "Epoch 1/5\n",
      "\u001b[1m1688/1688\u001b[0m \u001b[32m━━━━━━━━━━━━━━━━━━━━\u001b[0m\u001b[37m\u001b[0m \u001b[1m9s\u001b[0m 5ms/step - accuracy: 0.9224 - loss: 0.2614 - val_accuracy: 0.9625 - val_loss: 0.1358\n",
      "Epoch 2/5\n",
      "\u001b[1m1688/1688\u001b[0m \u001b[32m━━━━━━━━━━━━━━━━━━━━\u001b[0m\u001b[37m\u001b[0m \u001b[1m9s\u001b[0m 6ms/step - accuracy: 0.9661 - loss: 0.1122 - val_accuracy: 0.9487 - val_loss: 0.1638\n",
      "Epoch 3/5\n",
      "\u001b[1m1688/1688\u001b[0m \u001b[32m━━━━━━━━━━━━━━━━━━━━\u001b[0m\u001b[37m\u001b[0m \u001b[1m9s\u001b[0m 5ms/step - accuracy: 0.9759 - loss: 0.0819 - val_accuracy: 0.9775 - val_loss: 0.0783\n",
      "Epoch 4/5\n",
      "\u001b[1m1688/1688\u001b[0m \u001b[32m━━━━━━━━━━━━━━━━━━━━\u001b[0m\u001b[37m\u001b[0m \u001b[1m10s\u001b[0m 6ms/step - accuracy: 0.9807 - loss: 0.0645 - val_accuracy: 0.9772 - val_loss: 0.0890\n",
      "Epoch 5/5\n",
      "\u001b[1m1688/1688\u001b[0m \u001b[32m━━━━━━━━━━━━━━━━━━━━\u001b[0m\u001b[37m\u001b[0m \u001b[1m8s\u001b[0m 4ms/step - accuracy: 0.9846 - loss: 0.0539 - val_accuracy: 0.9798 - val_loss: 0.0860\n",
      "\u001b[1m313/313\u001b[0m \u001b[32m━━━━━━━━━━━━━━━━━━━━\u001b[0m\u001b[37m\u001b[0m \u001b[1m1s\u001b[0m 3ms/step - accuracy: 0.9760 - loss: 0.0838\n",
      "ADAM Test Accuracy: 0.9749\n",
      "SGD Test Accuracy: 0.9451\n",
      "RMSPROP Test Accuracy: 0.9760\n"
     ]
    }
   ],
   "source": [
    "optimizers = [\"adam\", \"sgd\", \"rmsprop\"]\n",
    "results = {}\n",
    "\n",
    "for opt in optimizers:\n",
    "    print(f\"\\nTraining with optimizer: {opt}\")\n",
    "    model = build_model(activation=\"relu\", optimizer=opt)\n",
    "    model.fit(x_train, y_train, epochs=5, batch_size=32, validation_split=0.1)\n",
    "    _, acc = model.evaluate(x_test, y_test)\n",
    "    results[opt] = acc\n",
    "\n",
    "for opt, acc in results.items():\n",
    "    print(f\"{opt.upper()} Test Accuracy: {acc:.4f}\")"
   ]
  },
  {
   "cell_type": "markdown",
   "id": "22df347a-fe0b-4b5e-9d86-db93998f2a31",
   "metadata": {},
   "source": [
    "#### Observation:\n",
    "- Adam usually performs best out of the box.\n",
    "- SGD might converge slowly but can be improved with tuning (like learning rate schedules).\n",
    "- RMSprop can work well on some datasets, especially with recurrent networks."
   ]
  }
 ],
 "metadata": {
  "kernelspec": {
   "display_name": "Python [conda env:base] *",
   "language": "python",
   "name": "conda-base-py"
  },
  "language_info": {
   "codemirror_mode": {
    "name": "ipython",
    "version": 3
   },
   "file_extension": ".py",
   "mimetype": "text/x-python",
   "name": "python",
   "nbconvert_exporter": "python",
   "pygments_lexer": "ipython3",
   "version": "3.12.7"
  }
 },
 "nbformat": 4,
 "nbformat_minor": 5
}
