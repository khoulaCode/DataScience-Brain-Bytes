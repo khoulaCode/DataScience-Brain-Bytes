{
 "cells": [
  {
   "cell_type": "markdown",
   "id": "95fe5504-a5d1-4696-afe5-c203d27845a5",
   "metadata": {},
   "source": [
    "# Web Scraping"
   ]
  },
  {
   "cell_type": "markdown",
   "id": "2943c85c-d34f-4279-950c-e61e7204b946",
   "metadata": {},
   "source": [
    "#### 1. Importing Libraries"
   ]
  },
  {
   "cell_type": "code",
   "execution_count": 16,
   "id": "c3a7a7a7-abf6-432c-b86f-1f438471e6b7",
   "metadata": {},
   "outputs": [],
   "source": [
    "import pandas as pd\n",
    "import requests # This is used to make HTTP requests to web pages (like GET)\n",
    "from bs4 import BeautifulSoup # URL of the page that lists turtle families\n",
    "import re"
   ]
  },
  {
   "cell_type": "markdown",
   "id": "ceb9b29c-e894-4d9e-9bba-d64fa87d7c0b",
   "metadata": {},
   "source": [
    "#### 2. Setting up URLs"
   ]
  },
  {
   "cell_type": "code",
   "execution_count": 17,
   "id": "ea9d8a3e-9ae1-4dcc-87c6-c615e330d21b",
   "metadata": {},
   "outputs": [],
   "source": [
    "base_url = \"https://www.scrapethissite.com\" # Base website address\n",
    "family_list_url = base_url + \"/pages/frames/?frame=i\" # URL of the page that lists turtle families"
   ]
  },
  {
   "cell_type": "markdown",
   "id": "52dbedeb-d88e-462e-8555-3e0fc121a127",
   "metadata": {},
   "source": [
    "#### Fetch the Family List Page"
   ]
  },
  {
   "cell_type": "code",
   "execution_count": 18,
   "id": "18fc9432-e479-4927-a481-08f9fd6f2175",
   "metadata": {},
   "outputs": [
    {
     "name": "stdout",
     "output_type": "stream",
     "text": [
      "Found 14 turtle families.\n"
     ]
    }
   ],
   "source": [
    "# Get the page content\n",
    "response = requests.get(family_list_url)\n",
    "\n",
    "# Parse the HTML using BeautifulSoup\n",
    "soup = BeautifulSoup(response.content, \"html.parser\")\n",
    "\n",
    "# Find all turtle family cards\n",
    "family_cards = soup.find_all(\"div\", class_=\"turtle-family-card\")\n",
    "\n",
    "# Print how many turtle families found\n",
    "print(f\"Found {len(family_cards)} turtle families.\")"
   ]
  },
  {
   "cell_type": "markdown",
   "id": "5e4e18a6-309d-45a0-9e4a-270cc3e2b358",
   "metadata": {},
   "source": [
    "#### Prepare the Data Storage"
   ]
  },
  {
   "cell_type": "code",
   "execution_count": 19,
   "id": "ed4a096b-4995-4249-95a6-d962bac75f00",
   "metadata": {},
   "outputs": [],
   "source": [
    "# Dictionary to store data\n",
    "turtle_data = {\n",
    "    \"turtle_name\": [],\n",
    "    \"common_name\": [],\n",
    "    \"discovered_year\": [],\n",
    "    \"discovered_by\": []\n",
    "}"
   ]
  },
  {
   "cell_type": "markdown",
   "id": "5468729e-0e15-4c97-b679-0a4855513e04",
   "metadata": {},
   "source": [
    "#### Scrape Each Turtle Detail Page"
   ]
  },
  {
   "cell_type": "code",
   "execution_count": 20,
   "id": "69cdb576-8f2a-4563-b0c2-e6780ca29fcb",
   "metadata": {},
   "outputs": [],
   "source": [
    "# Loop through each card\n",
    "for card in family_cards:\n",
    "    # Try to find the <h3> tag containing the family name\n",
    "    family_name_tag = card.find(\"h3\", class_=\"family-name\")\n",
    "\n",
    "    # Check if the tag was found\n",
    "    if family_name_tag is not None:\n",
    "        # Extract and clean the text\n",
    "        family_name = family_name_tag.text.strip()\n",
    "    else:\n",
    "        # Fallback if the tag is missing\n",
    "        family_name = \"Unknown Family\"\n",
    "\n",
    "    # Append the result to the turtle_data dictionary\n",
    "    turtle_data[\"turtle_name\"].append(family_name)\n",
    "\n",
    "    # Detail page link\n",
    "    link_tag = card.find(\"a\", href=True)\n",
    "    if not link_tag:\n",
    "        turtle_data[\"common_name\"].append(\"Not Available\")\n",
    "        turtle_data[\"discovered_year\"].append(\"Unknown\")\n",
    "        turtle_data[\"discovered_by\"].append(\"Unknown\")\n",
    "        continue\n",
    "\n",
    "    detail_url = base_url + link_tag[\"href\"]\n",
    "    detail_response = requests.get(detail_url)\n",
    "    detail_soup = BeautifulSoup(detail_response.content, \"html.parser\")\n",
    "\n",
    "    # Find details\n",
    "    paragraphs = detail_soup.find_all(\"p\", class_= \"lead\")\n",
    "\n",
    "    # Defaults\n",
    "    common_name = \"Not Available\"\n",
    "    year_found = \"Unknown\"\n",
    "    discovered_by = \"Unknown\"\n",
    "\n",
    "    for para in paragraphs:\n",
    "        text = para.get_text()\n",
    "\n",
    "        # Common name\n",
    "        strong_tag = para.find(\"strong\", class_ = \"common-name\")\n",
    "        if strong_tag:\n",
    "            common_name = strong_tag.text.strip()\n",
    "\n",
    "        # Year pattern\n",
    "        year_match = re.search(r\"\\b(1[5-9][0-9]{2}|20[0-2][0-9]|2030)\\b\", text)\n",
    "        if year_match:\n",
    "            year_found = year_match.group(0)\n",
    "\n",
    "        # Discovered by pattern\n",
    "        by_match = re.search(r\"by\\s+([A-Z][a-zA-Z\\-]+)\", text)\n",
    "        if by_match:\n",
    "            discovered_by = by_match.group(1)\n",
    "\n",
    "    # Store the info\n",
    "    turtle_data[\"common_name\"].append(common_name)\n",
    "    turtle_data[\"discovered_year\"].append(year_found)\n",
    "    turtle_data[\"discovered_by\"].append(discovered_by)"
   ]
  },
  {
   "cell_type": "code",
   "execution_count": 21,
   "id": "d209ac57-0bfc-494b-bf4c-32d162dc34ee",
   "metadata": {},
   "outputs": [
    {
     "data": {
      "text/html": [
       "<div>\n",
       "<style scoped>\n",
       "    .dataframe tbody tr th:only-of-type {\n",
       "        vertical-align: middle;\n",
       "    }\n",
       "\n",
       "    .dataframe tbody tr th {\n",
       "        vertical-align: top;\n",
       "    }\n",
       "\n",
       "    .dataframe thead th {\n",
       "        text-align: right;\n",
       "    }\n",
       "</style>\n",
       "<table border=\"1\" class=\"dataframe\">\n",
       "  <thead>\n",
       "    <tr style=\"text-align: right;\">\n",
       "      <th></th>\n",
       "      <th>turtle_name</th>\n",
       "      <th>common_name</th>\n",
       "      <th>discovered_year</th>\n",
       "      <th>discovered_by</th>\n",
       "    </tr>\n",
       "  </thead>\n",
       "  <tbody>\n",
       "    <tr>\n",
       "      <th>0</th>\n",
       "      <td>Carettochelyidae</td>\n",
       "      <td>Pig-nosed turtle</td>\n",
       "      <td>1887</td>\n",
       "      <td>Boulenger</td>\n",
       "    </tr>\n",
       "    <tr>\n",
       "      <th>1</th>\n",
       "      <td>Cheloniidae</td>\n",
       "      <td>Sea turtles</td>\n",
       "      <td>1811</td>\n",
       "      <td>Oppel</td>\n",
       "    </tr>\n",
       "    <tr>\n",
       "      <th>2</th>\n",
       "      <td>Chelydridae</td>\n",
       "      <td>Snapping turtles</td>\n",
       "      <td>1831</td>\n",
       "      <td>Gray</td>\n",
       "    </tr>\n",
       "    <tr>\n",
       "      <th>3</th>\n",
       "      <td>Dermatemydidae</td>\n",
       "      <td>Central American river turtle</td>\n",
       "      <td>1870</td>\n",
       "      <td>Gray</td>\n",
       "    </tr>\n",
       "    <tr>\n",
       "      <th>4</th>\n",
       "      <td>Dermochelyidae</td>\n",
       "      <td>Leatherback sea turtle</td>\n",
       "      <td>1843</td>\n",
       "      <td>Fitzinger</td>\n",
       "    </tr>\n",
       "    <tr>\n",
       "      <th>5</th>\n",
       "      <td>Emydidae</td>\n",
       "      <td>Pond or water turtles</td>\n",
       "      <td>1815</td>\n",
       "      <td>Rafinesque</td>\n",
       "    </tr>\n",
       "    <tr>\n",
       "      <th>6</th>\n",
       "      <td>Geoemydidae</td>\n",
       "      <td>Asian river, leaf, roofed or Asian box turtles</td>\n",
       "      <td>1868</td>\n",
       "      <td>Theobald</td>\n",
       "    </tr>\n",
       "    <tr>\n",
       "      <th>7</th>\n",
       "      <td>Kinosternidae</td>\n",
       "      <td>Mud or musk turtles</td>\n",
       "      <td>1857</td>\n",
       "      <td>Agassiz</td>\n",
       "    </tr>\n",
       "    <tr>\n",
       "      <th>8</th>\n",
       "      <td>Platysternidae</td>\n",
       "      <td>Big-headed turtle</td>\n",
       "      <td>1869</td>\n",
       "      <td>Gray</td>\n",
       "    </tr>\n",
       "    <tr>\n",
       "      <th>9</th>\n",
       "      <td>Testudinidae</td>\n",
       "      <td>Tortoises</td>\n",
       "      <td>1788</td>\n",
       "      <td>Batsch</td>\n",
       "    </tr>\n",
       "    <tr>\n",
       "      <th>10</th>\n",
       "      <td>Trionychidae</td>\n",
       "      <td>Softshell turtles</td>\n",
       "      <td>1826</td>\n",
       "      <td>Fitzinger</td>\n",
       "    </tr>\n",
       "    <tr>\n",
       "      <th>11</th>\n",
       "      <td>Chelidae</td>\n",
       "      <td>Austro-American sideneck turtles</td>\n",
       "      <td>1831</td>\n",
       "      <td>Gray</td>\n",
       "    </tr>\n",
       "    <tr>\n",
       "      <th>12</th>\n",
       "      <td>Pelomedusidae</td>\n",
       "      <td>Afro-American sideneck turtles</td>\n",
       "      <td>1868</td>\n",
       "      <td>Cope</td>\n",
       "    </tr>\n",
       "    <tr>\n",
       "      <th>13</th>\n",
       "      <td>Podocnemididae</td>\n",
       "      <td>Madagascar big-headed, Big-headed Amazon River...</td>\n",
       "      <td>1869</td>\n",
       "      <td>Gray</td>\n",
       "    </tr>\n",
       "  </tbody>\n",
       "</table>\n",
       "</div>"
      ],
      "text/plain": [
       "         turtle_name                                        common_name  \\\n",
       "0   Carettochelyidae                                   Pig-nosed turtle   \n",
       "1        Cheloniidae                                        Sea turtles   \n",
       "2        Chelydridae                                   Snapping turtles   \n",
       "3     Dermatemydidae                      Central American river turtle   \n",
       "4     Dermochelyidae                             Leatherback sea turtle   \n",
       "5           Emydidae                              Pond or water turtles   \n",
       "6        Geoemydidae     Asian river, leaf, roofed or Asian box turtles   \n",
       "7      Kinosternidae                                Mud or musk turtles   \n",
       "8     Platysternidae                                  Big-headed turtle   \n",
       "9       Testudinidae                                          Tortoises   \n",
       "10      Trionychidae                                  Softshell turtles   \n",
       "11          Chelidae                   Austro-American sideneck turtles   \n",
       "12     Pelomedusidae                     Afro-American sideneck turtles   \n",
       "13    Podocnemididae  Madagascar big-headed, Big-headed Amazon River...   \n",
       "\n",
       "   discovered_year discovered_by  \n",
       "0             1887     Boulenger  \n",
       "1             1811         Oppel  \n",
       "2             1831          Gray  \n",
       "3             1870          Gray  \n",
       "4             1843     Fitzinger  \n",
       "5             1815    Rafinesque  \n",
       "6             1868      Theobald  \n",
       "7             1857       Agassiz  \n",
       "8             1869          Gray  \n",
       "9             1788        Batsch  \n",
       "10            1826     Fitzinger  \n",
       "11            1831          Gray  \n",
       "12            1868          Cope  \n",
       "13            1869          Gray  "
      ]
     },
     "execution_count": 21,
     "metadata": {},
     "output_type": "execute_result"
    }
   ],
   "source": [
    "df = pd.DataFrame(turtle_data)\n",
    "df"
   ]
  }
 ],
 "metadata": {
  "kernelspec": {
   "display_name": "Python [conda env:base] *",
   "language": "python",
   "name": "conda-base-py"
  },
  "language_info": {
   "codemirror_mode": {
    "name": "ipython",
    "version": 3
   },
   "file_extension": ".py",
   "mimetype": "text/x-python",
   "name": "python",
   "nbconvert_exporter": "python",
   "pygments_lexer": "ipython3",
   "version": "3.12.7"
  }
 },
 "nbformat": 4,
 "nbformat_minor": 5
}
