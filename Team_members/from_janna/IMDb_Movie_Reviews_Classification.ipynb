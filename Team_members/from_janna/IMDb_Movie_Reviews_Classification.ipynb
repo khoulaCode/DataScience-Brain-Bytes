{
 "cells": [
  {
   "cell_type": "markdown",
   "id": "12a6e602-f905-413d-b74c-57399cdc138b",
   "metadata": {},
   "source": [
    "# IMDb Movie Reviews Classification"
   ]
  },
  {
   "cell_type": "markdown",
   "id": "5dfcaa47-0063-4199-a0ff-483be8655284",
   "metadata": {},
   "source": [
    "### 1. Data Loading and Initial Setup"
   ]
  },
  {
   "cell_type": "code",
   "execution_count": 1,
   "id": "038f64f9-7d57-4be9-8d3e-70d7229fbfd2",
   "metadata": {},
   "outputs": [],
   "source": [
    "# Import necessary libraries\n",
    "import pandas as pd\n",
    "import numpy as np\n",
    "from sklearn.model_selection import train_test_split\n",
    "from sklearn.feature_extraction.text import TfidfVectorizer\n",
    "from sklearn.linear_model import LogisticRegression\n",
    "from sklearn.tree import DecisionTreeClassifier\n",
    "from sklearn.ensemble import RandomForestClassifier\n",
    "from sklearn.metrics import accuracy_score, precision_recall_fscore_support, classification_report\n",
    "import matplotlib.pyplot as plt\n",
    "import seaborn as sns"
   ]
  },
  {
   "cell_type": "code",
   "execution_count": 2,
   "id": "984a8d62-0e48-4648-abb9-8b43595bbdef",
   "metadata": {},
   "outputs": [
    {
     "data": {
      "text/html": [
       "<div>\n",
       "<style scoped>\n",
       "    .dataframe tbody tr th:only-of-type {\n",
       "        vertical-align: middle;\n",
       "    }\n",
       "\n",
       "    .dataframe tbody tr th {\n",
       "        vertical-align: top;\n",
       "    }\n",
       "\n",
       "    .dataframe thead th {\n",
       "        text-align: right;\n",
       "    }\n",
       "</style>\n",
       "<table border=\"1\" class=\"dataframe\">\n",
       "  <thead>\n",
       "    <tr style=\"text-align: right;\">\n",
       "      <th></th>\n",
       "      <th>review</th>\n",
       "      <th>sentiment</th>\n",
       "      <th>cleaned_review</th>\n",
       "    </tr>\n",
       "  </thead>\n",
       "  <tbody>\n",
       "    <tr>\n",
       "      <th>0</th>\n",
       "      <td>In Panic In The Streets Richard Widmark plays ...</td>\n",
       "      <td>positive</td>\n",
       "      <td>panic street richard widmark play navy doctor ...</td>\n",
       "    </tr>\n",
       "    <tr>\n",
       "      <th>1</th>\n",
       "      <td>If you ask me the first one was really better ...</td>\n",
       "      <td>negative</td>\n",
       "      <td>ask first one really better one look sarah rea...</td>\n",
       "    </tr>\n",
       "    <tr>\n",
       "      <th>2</th>\n",
       "      <td>I am a big fan a Faerie Tale Theatre and I've ...</td>\n",
       "      <td>positive</td>\n",
       "      <td>big fan faerie tale theatre ive seen one best ...</td>\n",
       "    </tr>\n",
       "    <tr>\n",
       "      <th>3</th>\n",
       "      <td>I just finished reading a book about Dillinger...</td>\n",
       "      <td>negative</td>\n",
       "      <td>finished reading book dillinger movie horribly...</td>\n",
       "    </tr>\n",
       "    <tr>\n",
       "      <th>4</th>\n",
       "      <td>Greg Davis and Bryan Daly take some crazed sta...</td>\n",
       "      <td>negative</td>\n",
       "      <td>greg davis bryan daly take crazed statement te...</td>\n",
       "    </tr>\n",
       "  </tbody>\n",
       "</table>\n",
       "</div>"
      ],
      "text/plain": [
       "                                              review sentiment  \\\n",
       "0  In Panic In The Streets Richard Widmark plays ...  positive   \n",
       "1  If you ask me the first one was really better ...  negative   \n",
       "2  I am a big fan a Faerie Tale Theatre and I've ...  positive   \n",
       "3  I just finished reading a book about Dillinger...  negative   \n",
       "4  Greg Davis and Bryan Daly take some crazed sta...  negative   \n",
       "\n",
       "                                      cleaned_review  \n",
       "0  panic street richard widmark play navy doctor ...  \n",
       "1  ask first one really better one look sarah rea...  \n",
       "2  big fan faerie tale theatre ive seen one best ...  \n",
       "3  finished reading book dillinger movie horribly...  \n",
       "4  greg davis bryan daly take crazed statement te...  "
      ]
     },
     "execution_count": 2,
     "metadata": {},
     "output_type": "execute_result"
    }
   ],
   "source": [
    "# Load the cleaned IMDb dataset\n",
    "# Replace 'your_dataset.csv' with the actual file path\n",
    "df = pd.read_csv('cleaned_imdb_sample.csv')\n",
    "df.head()"
   ]
  },
  {
   "cell_type": "code",
   "execution_count": 4,
   "id": "360e8bde-a0cf-4f50-a6f1-823e8daef03e",
   "metadata": {},
   "outputs": [
    {
     "name": "stdout",
     "output_type": "stream",
     "text": [
      "Dataset Shape: (10000, 3)\n",
      "\n",
      "Dataset Info:\n",
      "<class 'pandas.core.frame.DataFrame'>\n",
      "RangeIndex: 10000 entries, 0 to 9999\n",
      "Data columns (total 3 columns):\n",
      " #   Column          Non-Null Count  Dtype \n",
      "---  ------          --------------  ----- \n",
      " 0   review          10000 non-null  object\n",
      " 1   sentiment       10000 non-null  object\n",
      " 2   cleaned_review  10000 non-null  object\n",
      "dtypes: object(3)\n",
      "memory usage: 234.5+ KB\n",
      "None\n"
     ]
    }
   ],
   "source": [
    "# Display basic information about the dataset\n",
    "print(\"Dataset Shape:\", df.shape)\n",
    "print(\"\\nDataset Info:\")\n",
    "print(df.info())"
   ]
  },
  {
   "cell_type": "code",
   "execution_count": 5,
   "id": "cc5b8dff-ae99-4273-8327-ea2bdc48d8e1",
   "metadata": {},
   "outputs": [
    {
     "name": "stdout",
     "output_type": "stream",
     "text": [
      "Column names: ['review', 'sentiment', 'cleaned_review']\n",
      "\n",
      "Sentiment distribution:\n",
      "sentiment\n",
      "positive    5038\n",
      "negative    4962\n",
      "Name: count, dtype: int64\n",
      "\n",
      "Sample of cleaned reviews:\n",
      "\n",
      "Review 1 (positive):\n",
      "panic street richard widmark play navy doctor week rudely interrupted corpse contains plague cop paul douglas properly point guy died two bullet chest thats issue two become unwilling partner effort f...\n",
      "\n",
      "Review 2 (negative):\n",
      "ask first one really better one look sarah real mean cruel girl look amy adam little fool hanging around nothing people dont adore second sebastian cute hot first movie baby face story good understand...\n",
      "\n",
      "Review 3 (positive):\n",
      "big fan faerie tale theatre ive seen one best funny romantic classic recommend age great little kid well cinderella great adult teen funny top watched little still watch great line family quote time a...\n"
     ]
    }
   ],
   "source": [
    "# Explore the dataset structure\n",
    "print(\"Column names:\", df.columns.tolist())\n",
    "print(\"\\nSentiment distribution:\")\n",
    "print(df['sentiment'].value_counts())\n",
    "print(\"\\nSample of cleaned reviews:\")\n",
    "for i in range(3):\n",
    "    print(f\"\\nReview {i+1} ({df['sentiment'].iloc[i]}):\")\n",
    "    print(df['cleaned_review'].iloc[i][:200] + \"...\")"
   ]
  },
  {
   "cell_type": "markdown",
   "id": "01480a9d-d240-44f6-b620-fa200564aca0",
   "metadata": {},
   "source": [
    "### 2. Data Preprocessing and Feature Extraction"
   ]
  },
  {
   "cell_type": "code",
   "execution_count": 6,
   "id": "f3728cbc-1491-41f8-b819-895fe6ed445e",
   "metadata": {},
   "outputs": [
    {
     "name": "stdout",
     "output_type": "stream",
     "text": [
      "Feature shape: (10000,)\n",
      "Target shape: (10000,)\n",
      "\n",
      "Target distribution:\n",
      "sentiment\n",
      "positive    0.5038\n",
      "negative    0.4962\n",
      "Name: proportion, dtype: float64\n"
     ]
    }
   ],
   "source": [
    "# Prepare the data\n",
    "# Extract features (cleaned_review) and target (sentiment)\n",
    "X = df['cleaned_review']\n",
    "y = df['sentiment']\n",
    "\n",
    "print(\"Feature shape:\", X.shape)\n",
    "print(\"Target shape:\", y.shape)\n",
    "print(\"\\nTarget distribution:\")\n",
    "print(y.value_counts(normalize=True))"
   ]
  },
  {
   "cell_type": "code",
   "execution_count": 7,
   "id": "6a103296-c40e-44a5-9d38-316682fe7754",
   "metadata": {},
   "outputs": [
    {
     "name": "stdout",
     "output_type": "stream",
     "text": [
      "Training set size: 8000\n",
      "Test set size: 2000\n",
      "\n",
      "Training set sentiment distribution:\n",
      "sentiment\n",
      "positive    0.50375\n",
      "negative    0.49625\n",
      "Name: proportion, dtype: float64\n"
     ]
    }
   ],
   "source": [
    "# Perform 80/20 train-test split\n",
    "X_train, X_test, y_train, y_test = train_test_split(\n",
    "    X, y, \n",
    "    test_size=0.2, \n",
    "    random_state=42, \n",
    "    stratify=y\n",
    ")\n",
    "\n",
    "print(\"Training set size:\", len(X_train))\n",
    "print(\"Test set size:\", len(X_test))\n",
    "print(\"\\nTraining set sentiment distribution:\")\n",
    "print(y_train.value_counts(normalize=True))"
   ]
  },
  {
   "cell_type": "code",
   "execution_count": 8,
   "id": "d8e31b88-f8c2-4d27-94ac-077cc6ff73b0",
   "metadata": {},
   "outputs": [
    {
     "name": "stdout",
     "output_type": "stream",
     "text": [
      "Applying TF-IDF vectorization...\n",
      "TF-IDF matrix shape - Train: (8000, 10000)\n",
      "TF-IDF matrix shape - Test: (2000, 10000)\n",
      "Number of features: 10000\n"
     ]
    }
   ],
   "source": [
    "# TF-IDF Vectorization\n",
    "print(\"Applying TF-IDF vectorization...\")\n",
    "\n",
    "# Initialize TF-IDF vectorizer\n",
    "tfidf = TfidfVectorizer(\n",
    "    max_features=10000,  # Limit to top 10k features\n",
    "    stop_words='english',\n",
    "    ngram_range=(1, 2),  # Include unigrams and bigrams\n",
    "    min_df=2,  # Ignore terms that appear in less than 2 documents\n",
    "    max_df=0.95  # Ignore terms that appear in more than 95% of documents\n",
    ")\n",
    "\n",
    "# Fit and transform training data\n",
    "X_train_tfidf = tfidf.fit_transform(X_train)\n",
    "X_test_tfidf = tfidf.transform(X_test)\n",
    "\n",
    "print(f\"TF-IDF matrix shape - Train: {X_train_tfidf.shape}\")\n",
    "print(f\"TF-IDF matrix shape - Test: {X_test_tfidf.shape}\")\n",
    "print(f\"Number of features: {len(tfidf.get_feature_names_out())}\")"
   ]
  },
  {
   "cell_type": "markdown",
   "id": "4f38be78-efa8-4e3a-a05c-f4df0fcc53ac",
   "metadata": {},
   "source": [
    "### 3. Model Training\n",
    "#### 3.1 Logistic Regression"
   ]
  },
  {
   "cell_type": "code",
   "execution_count": 9,
   "id": "dda1a55c-5913-4c75-85a6-281eb7b65877",
   "metadata": {},
   "outputs": [
    {
     "name": "stdout",
     "output_type": "stream",
     "text": [
      "Training Logistic Regression...\n",
      "Logistic Regression training completed.\n"
     ]
    }
   ],
   "source": [
    "print(\"Training Logistic Regression...\")\n",
    "\n",
    "# Initialize and train Logistic Regression\n",
    "lr_model = LogisticRegression(\n",
    "    random_state=42,\n",
    "    max_iter=1000,\n",
    "    C=1.0\n",
    ")\n",
    "\n",
    "lr_model.fit(X_train_tfidf, y_train)\n",
    "print(\"Logistic Regression training completed.\")"
   ]
  },
  {
   "cell_type": "markdown",
   "id": "136c162b-c06b-4cf2-a7f0-a30e719b5d3b",
   "metadata": {},
   "source": [
    "#### 3.2 Decision Tree"
   ]
  },
  {
   "cell_type": "code",
   "execution_count": 10,
   "id": "87f6baa5-5e82-45da-afce-3adfcf7f40fd",
   "metadata": {},
   "outputs": [
    {
     "name": "stdout",
     "output_type": "stream",
     "text": [
      "Training Decision Tree...\n",
      "Decision Tree training completed.\n"
     ]
    }
   ],
   "source": [
    "print(\"Training Decision Tree...\")\n",
    "\n",
    "# Initialize and train Decision Tree\n",
    "dt_model = DecisionTreeClassifier(\n",
    "    random_state=42,\n",
    "    max_depth=10,\n",
    "    min_samples_split=20,\n",
    "    min_samples_leaf=10\n",
    ")\n",
    "\n",
    "dt_model.fit(X_train_tfidf, y_train)\n",
    "print(\"Decision Tree training completed.\")"
   ]
  },
  {
   "cell_type": "markdown",
   "id": "2f480f52-2883-464b-8f89-2ade260abbe6",
   "metadata": {},
   "source": [
    "#### 3.3 Random Forest"
   ]
  },
  {
   "cell_type": "code",
   "execution_count": 11,
   "id": "62c1818d-bba2-496e-9c3d-519dc7d52764",
   "metadata": {},
   "outputs": [
    {
     "name": "stdout",
     "output_type": "stream",
     "text": [
      "Training Random Forest...\n",
      "Random Forest training completed.\n"
     ]
    }
   ],
   "source": [
    "print(\"Training Random Forest...\")\n",
    "\n",
    "# Initialize and train Random Forest\n",
    "rf_model = RandomForestClassifier(\n",
    "    n_estimators=100,\n",
    "    random_state=42,\n",
    "    max_depth=10,\n",
    "    min_samples_split=20,\n",
    "    min_samples_leaf=10,\n",
    "    n_jobs=-1\n",
    ")\n",
    "\n",
    "rf_model.fit(X_train_tfidf, y_train)\n",
    "print(\"Random Forest training completed.\")"
   ]
  },
  {
   "cell_type": "markdown",
   "id": "7951006c-72d6-41be-8abe-b6f1d13ed598",
   "metadata": {},
   "source": [
    "### 4. Model Evaluation"
   ]
  },
  {
   "cell_type": "code",
   "execution_count": 12,
   "id": "9768a0e0-f428-4797-84d0-e71a92ece2f8",
   "metadata": {},
   "outputs": [],
   "source": [
    "# Make predictions for all models\n",
    "models = {\n",
    "    'Logistic Regression': lr_model,\n",
    "    'Decision Tree': dt_model,\n",
    "    'Random Forest': rf_model\n",
    "}\n",
    "\n",
    "predictions = {}\n",
    "for name, model in models.items():\n",
    "    predictions[name] = model.predict(X_test_tfidf)"
   ]
  },
  {
   "cell_type": "code",
   "execution_count": 13,
   "id": "fce2e151-0b04-4489-9696-8b7d268f475f",
   "metadata": {},
   "outputs": [
    {
     "name": "stdout",
     "output_type": "stream",
     "text": [
      "\n",
      "=== Logistic Regression Results ===\n",
      "Accuracy: 0.8625\n",
      "Precision: 0.8630\n",
      "Recall: 0.8625\n",
      "F1-Score: 0.8624\n",
      "\n",
      "=== Decision Tree Results ===\n",
      "Accuracy: 0.7050\n",
      "Precision: 0.7287\n",
      "Recall: 0.7050\n",
      "F1-Score: 0.6965\n",
      "\n",
      "=== Random Forest Results ===\n",
      "Accuracy: 0.8045\n",
      "Precision: 0.8095\n",
      "Recall: 0.8045\n",
      "F1-Score: 0.8036\n"
     ]
    }
   ],
   "source": [
    "# Calculate metrics for each model\n",
    "results = {}\n",
    "\n",
    "for name, y_pred in predictions.items():\n",
    "    # Calculate metrics\n",
    "    accuracy = accuracy_score(y_test, y_pred)\n",
    "    precision, recall, f1, _ = precision_recall_fscore_support(y_test, y_pred, average='weighted')\n",
    "    \n",
    "    results[name] = {\n",
    "        'Accuracy': accuracy,\n",
    "        'Precision': precision,\n",
    "        'Recall': recall,\n",
    "        'F1-Score': f1\n",
    "    }\n",
    "    \n",
    "    print(f\"\\n=== {name} Results ===\")\n",
    "    print(f\"Accuracy: {accuracy:.4f}\")\n",
    "    print(f\"Precision: {precision:.4f}\")\n",
    "    print(f\"Recall: {recall:.4f}\")\n",
    "    print(f\"F1-Score: {f1:.4f}\")"
   ]
  },
  {
   "cell_type": "code",
   "execution_count": 14,
   "id": "8605b8b0-8de4-4d1b-afd1-d866250e7b39",
   "metadata": {},
   "outputs": [
    {
     "name": "stdout",
     "output_type": "stream",
     "text": [
      "\n",
      "=== Logistic Regression - Detailed Classification Report ===\n",
      "              precision    recall  f1-score   support\n",
      "\n",
      "    negative       0.88      0.84      0.86       992\n",
      "    positive       0.85      0.88      0.87      1008\n",
      "\n",
      "    accuracy                           0.86      2000\n",
      "   macro avg       0.86      0.86      0.86      2000\n",
      "weighted avg       0.86      0.86      0.86      2000\n",
      "\n",
      "\n",
      "=== Decision Tree - Detailed Classification Report ===\n",
      "              precision    recall  f1-score   support\n",
      "\n",
      "    negative       0.80      0.54      0.64       992\n",
      "    positive       0.66      0.87      0.75      1008\n",
      "\n",
      "    accuracy                           0.70      2000\n",
      "   macro avg       0.73      0.70      0.70      2000\n",
      "weighted avg       0.73      0.70      0.70      2000\n",
      "\n",
      "\n",
      "=== Random Forest - Detailed Classification Report ===\n",
      "              precision    recall  f1-score   support\n",
      "\n",
      "    negative       0.85      0.74      0.79       992\n",
      "    positive       0.77      0.87      0.82      1008\n",
      "\n",
      "    accuracy                           0.80      2000\n",
      "   macro avg       0.81      0.80      0.80      2000\n",
      "weighted avg       0.81      0.80      0.80      2000\n",
      "\n"
     ]
    }
   ],
   "source": [
    "# Detailed classification reports\n",
    "for name, y_pred in predictions.items():\n",
    "    print(f\"\\n=== {name} - Detailed Classification Report ===\")\n",
    "    print(classification_report(y_test, y_pred))"
   ]
  },
  {
   "cell_type": "code",
   "execution_count": 15,
   "id": "4d02d655-be0b-4380-b70a-88f1007b21db",
   "metadata": {},
   "outputs": [
    {
     "name": "stdout",
     "output_type": "stream",
     "text": [
      "=== Model Performance Comparison ===\n",
      "                     Accuracy  Precision  Recall  F1-Score\n",
      "Logistic Regression    0.8625     0.8630  0.8625    0.8624\n",
      "Decision Tree          0.7050     0.7287  0.7050    0.6965\n",
      "Random Forest          0.8045     0.8095  0.8045    0.8036\n",
      "\n",
      "Best model by Accuracy: Logistic Regression (0.8625)\n",
      "Best model by F1-Score: Logistic Regression (0.8624)\n"
     ]
    }
   ],
   "source": [
    "# Create comparison table\n",
    "results_df = pd.DataFrame(results).T\n",
    "results_df = results_df.round(4)\n",
    "\n",
    "print(\"=== Model Performance Comparison ===\")\n",
    "print(results_df)\n",
    "\n",
    "# Identify best performing model\n",
    "best_model_accuracy = results_df['Accuracy'].idxmax()\n",
    "best_model_f1 = results_df['F1-Score'].idxmax()\n",
    "\n",
    "print(f\"\\nBest model by Accuracy: {best_model_accuracy} ({results_df.loc[best_model_accuracy, 'Accuracy']:.4f})\")\n",
    "print(f\"Best model by F1-Score: {best_model_f1} ({results_df.loc[best_model_f1, 'F1-Score']:.4f})\")"
   ]
  },
  {
   "cell_type": "markdown",
   "id": "02941215-da2f-4200-8ec9-384eceef73d7",
   "metadata": {},
   "source": [
    "### 5. Visualization"
   ]
  },
  {
   "cell_type": "code",
   "execution_count": 16,
   "id": "b3a4012c-c95a-488d-9d07-6a2d73dd0585",
   "metadata": {},
   "outputs": [
    {
     "data": {
      "image/png": "[encoded data removed]",
      "text/plain": [
       "<Figure size 1400x1000 with 4 Axes>"
      ]
     },
     "metadata": {},
     "output_type": "display_data"
    }
   ],
   "source": [
    "# Plot model performance comparison\n",
    "fig, axes = plt.subplots(2, 2, figsize=(14, 10))\n",
    "fig.suptitle('Model Performance Comparison', fontsize=16)\n",
    "\n",
    "metrics = ['Accuracy', 'Precision', 'Recall', 'F1-Score']\n",
    "for i, metric in enumerate(metrics):\n",
    "    ax = axes[i//2, i%2]\n",
    "    results_df[metric].plot(kind='bar', ax=ax, color=['skyblue', 'lightcoral', 'lightgreen'])\n",
    "    ax.set_title(f'{metric} Comparison')\n",
    "    ax.set_ylabel(metric)\n",
    "    ax.set_xticklabels(results_df.index, rotation=45)\n",
    "    ax.grid(axis='y', alpha=0.3)\n",
    "\n",
    "plt.tight_layout()\n",
    "plt.show()"
   ]
  },
  {
   "cell_type": "code",
   "execution_count": 17,
   "id": "65f0fac3-cc72-4958-92fb-8e59f7c71ed1",
   "metadata": {},
   "outputs": [
    {
     "data": {
      "image/png": "[encoded data removed]",
      "text/plain": [
       "<Figure size 1000x600 with 2 Axes>"
      ]
     },
     "metadata": {},
     "output_type": "display_data"
    }
   ],
   "source": [
    "# Create a heatmap of the results\n",
    "plt.figure(figsize=(10, 6))\n",
    "sns.heatmap(results_df, annot=True, cmap='Blues', fmt='.4f', cbar_kws={'label': 'Score'})\n",
    "plt.title('Model Performance Heatmap')\n",
    "plt.ylabel('Models')\n",
    "plt.xlabel('Metrics')\n",
    "plt.show()"
   ]
  },
  {
   "cell_type": "markdown",
   "id": "f2a92ff7-66e8-4f5a-881d-f9b22e702a7b",
   "metadata": {},
   "source": [
    "### 6. Example Predictions"
   ]
  },
  {
   "cell_type": "code",
   "execution_count": 18,
   "id": "a3da1a17-5477-4733-8e25-90b8e10e9084",
   "metadata": {},
   "outputs": [
    {
     "name": "stdout",
     "output_type": "stream",
     "text": [
      "=== Example Predictions ===\n",
      "\n",
      "--- Example 1 ---\n",
      "Review: better typical madefortv movie invitation hell blessed excellent casting urich lucci cassidy mccarthy premurphy brown joe regalbuto soleil moonfrye hi...\n",
      "Actual Sentiment: positive\n",
      "Logistic Regression Prediction: positive (Confidence: 0.601)\n",
      "Decision Tree Prediction: positive (Confidence: 0.884)\n",
      "Random Forest Prediction: positive (Confidence: 0.533)\n",
      "\n",
      "--- Example 2 ---\n",
      "Review: liked best film like film hitchcock thriller take seriouslyhitchcock understood people movie good time something hollywood seems forgotten recent year...\n",
      "Actual Sentiment: positive\n",
      "Logistic Regression Prediction: positive (Confidence: 0.833)\n",
      "Decision Tree Prediction: negative (Confidence: 0.909)\n",
      "Random Forest Prediction: positive (Confidence: 0.539)\n",
      "\n",
      "--- Example 3 ---\n",
      "Review: picked movie cover even knowing watched laughed hard one favorite movie time rusty guy created masterpiece would highly recommend movie one sense humo...\n",
      "Actual Sentiment: positive\n",
      "Logistic Regression Prediction: positive (Confidence: 0.910)\n",
      "Decision Tree Prediction: positive (Confidence: 0.588)\n",
      "Random Forest Prediction: positive (Confidence: 0.563)\n",
      "\n",
      "--- Example 4 ---\n",
      "Review: soiler fake whole thing fake ghost zombie alan lord cousin brother half brother something like want castle title invests overly complicated needless p...\n",
      "Actual Sentiment: negative\n",
      "Logistic Regression Prediction: negative (Confidence: 0.918)\n",
      "Decision Tree Prediction: negative (Confidence: 1.000)\n",
      "Random Forest Prediction: negative (Confidence: 0.615)\n",
      "\n",
      "--- Example 5 ---\n",
      "Review: another marvelous film berlin festival unlike yes sally potter seen day leaving cinema felt strong desire wishing embrace whole world happy alive time...\n",
      "Actual Sentiment: positive\n",
      "Logistic Regression Prediction: positive (Confidence: 0.600)\n",
      "Decision Tree Prediction: positive (Confidence: 0.588)\n",
      "Random Forest Prediction: positive (Confidence: 0.562)\n"
     ]
    }
   ],
   "source": [
    "# Show example predictions with actual reviews\n",
    "print(\"=== Example Predictions ===\")\n",
    "\n",
    "# Select a few random samples from test set\n",
    "sample_indices = np.random.choice(len(X_test), 5, replace=False)\n",
    "\n",
    "for i, idx in enumerate(sample_indices):\n",
    "    actual_review = X_test.iloc[idx]\n",
    "    actual_sentiment = y_test.iloc[idx]\n",
    "    \n",
    "    print(f\"\\n--- Example {i+1} ---\")\n",
    "    print(f\"Review: {actual_review[:150]}...\")\n",
    "    print(f\"Actual Sentiment: {actual_sentiment}\")\n",
    "    \n",
    "    # Show predictions from all models\n",
    "    test_sample = X_test_tfidf[idx]\n",
    "    for name, model in models.items():\n",
    "        pred = model.predict(test_sample)[0]\n",
    "        confidence = max(model.predict_proba(test_sample)[0])\n",
    "        print(f\"{name} Prediction: {pred} (Confidence: {confidence:.3f})\")"
   ]
  },
  {
   "cell_type": "code",
   "execution_count": 19,
   "id": "3d7b1996-757d-4d96-8625-f1fd4da89141",
   "metadata": {},
   "outputs": [
    {
     "name": "stdout",
     "output_type": "stream",
     "text": [
      "=== Example Predictions ===\n",
      "\n",
      "--- Example 1 ---\n",
      "Review: thought quiet good movie fun watch liked best outtake end movie great...\n",
      "Actual Sentiment: positive\n",
      "Logistic Regression Prediction: positive (Confidence: 0.924)\n",
      "Decision Tree Prediction: positive (Confidence: 0.831)\n",
      "Random Forest Prediction: positive (Confidence: 0.560)\n",
      "\n",
      "--- Example 2 ---\n",
      "Review: fastpaced funny sexy spectacular cagney always terrific blondel charm wit energy obvious precensorship film innuendo script costumesand way touch biki...\n",
      "Actual Sentiment: positive\n",
      "Logistic Regression Prediction: positive (Confidence: 0.784)\n",
      "Decision Tree Prediction: positive (Confidence: 0.869)\n",
      "Random Forest Prediction: positive (Confidence: 0.544)\n",
      "\n",
      "--- Example 3 ---\n",
      "Review: anyone interested obtaining copy film please read bottom description first telecast cbs november madefortv finding john christmas sequel previous year...\n",
      "Actual Sentiment: positive\n",
      "Logistic Regression Prediction: positive (Confidence: 0.640)\n",
      "Decision Tree Prediction: positive (Confidence: 0.588)\n",
      "Random Forest Prediction: positive (Confidence: 0.538)\n",
      "\n",
      "--- Example 4 ---\n",
      "Review: bad bad film cant believe hype lavished pretentious amateurish excuse real movie left theater end stunned bad direction camerawork movie read adoring ...\n",
      "Actual Sentiment: negative\n",
      "Logistic Regression Prediction: negative (Confidence: 0.956)\n",
      "Decision Tree Prediction: negative (Confidence: 0.867)\n",
      "Random Forest Prediction: negative (Confidence: 0.596)\n",
      "\n",
      "--- Example 5 ---\n",
      "Review: begin saying pleased climax bourne trilogy please please dont ruin sequel year prequel leave alone rightmoving onas talented versatile matt damon isit...\n",
      "Actual Sentiment: positive\n",
      "Logistic Regression Prediction: positive (Confidence: 0.852)\n",
      "Decision Tree Prediction: positive (Confidence: 0.588)\n",
      "Random Forest Prediction: positive (Confidence: 0.521)\n"
     ]
    }
   ],
   "source": [
    "# Show example predictions with actual reviews\n",
    "print(\"=== Example Predictions ===\")\n",
    "\n",
    "# Select a few random samples from test set\n",
    "sample_indices = np.random.choice(len(X_test), 5, replace=False)\n",
    "\n",
    "for i, idx in enumerate(sample_indices):\n",
    "    actual_review = X_test.iloc[idx]\n",
    "    actual_sentiment = y_test.iloc[idx]\n",
    "    \n",
    "    print(f\"\\n--- Example {i+1} ---\")\n",
    "    print(f\"Review: {actual_review[:150]}...\")\n",
    "    print(f\"Actual Sentiment: {actual_sentiment}\")\n",
    "    \n",
    "    # Show predictions from all models\n",
    "    test_sample = X_test_tfidf[idx]\n",
    "    for name, model in models.items():\n",
    "        pred = model.predict(test_sample)[0]\n",
    "        confidence = max(model.predict_proba(test_sample)[0])\n",
    "        print(f\"{name} Prediction: {pred} (Confidence: {confidence:.3f})\")"
   ]
  },
  {
   "cell_type": "code",
   "execution_count": 20,
   "id": "0fc8a9bf-0849-4b56-8c4e-3ce2c4b5f16a",
   "metadata": {},
   "outputs": [
    {
     "name": "stdout",
     "output_type": "stream",
     "text": [
      "=== Feature Importance Analysis ===\n",
      "\n",
      "Top 10 Important Features - Decision Tree:\n",
      "bad: 0.2281\n",
      "worst: 0.1499\n",
      "great: 0.0985\n",
      "waste: 0.0837\n",
      "boring: 0.0521\n",
      "awful: 0.0504\n",
      "excellent: 0.0318\n",
      "poor: 0.0314\n",
      "wonderful: 0.0267\n",
      "terrible: 0.0227\n",
      "\n",
      "Top 10 Important Features - Random Forest:\n",
      "worst: 0.0438\n",
      "bad: 0.0310\n",
      "worse: 0.0277\n",
      "awful: 0.0266\n",
      "great: 0.0265\n",
      "waste: 0.0190\n",
      "plot: 0.0160\n",
      "wonderful: 0.0158\n",
      "stupid: 0.0141\n",
      "love: 0.0138\n"
     ]
    }
   ],
   "source": [
    "# Analyze feature importance (for tree-based models)\n",
    "print(\"=== Feature Importance Analysis ===\")\n",
    "\n",
    "# Get feature names\n",
    "feature_names = tfidf.get_feature_names_out()\n",
    "\n",
    "# Decision Tree feature importance\n",
    "dt_importance = dt_model.feature_importances_\n",
    "dt_top_features = np.argsort(dt_importance)[-10:]\n",
    "\n",
    "print(\"\\nTop 10 Important Features - Decision Tree:\")\n",
    "for idx in reversed(dt_top_features):\n",
    "    print(f\"{feature_names[idx]}: {dt_importance[idx]:.4f}\")\n",
    "\n",
    "# Random Forest feature importance\n",
    "rf_importance = rf_model.feature_importances_\n",
    "rf_top_features = np.argsort(rf_importance)[-10:]\n",
    "\n",
    "print(\"\\nTop 10 Important Features - Random Forest:\")\n",
    "for idx in reversed(rf_top_features):\n",
    "    print(f\"{feature_names[idx]}: {rf_importance[idx]:.4f}\")"
   ]
  },
  {
   "cell_type": "markdown",
   "id": "5d65b21e-635e-4fe2-978a-f6892807d004",
   "metadata": {},
   "source": [
    "### 7. Model Analysis and Insights\n",
    "#### 7.1 Performance Summary"
   ]
  },
  {
   "cell_type": "code",
   "execution_count": 21,
   "id": "bb474162-31e4-446d-a6a6-713714e7d8b1",
   "metadata": {},
   "outputs": [
    {
     "name": "stdout",
     "output_type": "stream",
     "text": [
      "=== FINAL PERFORMANCE SUMMARY ===\n",
      "\n",
      "Ranking by Accuracy:\n",
      "1. Logistic Regression: 0.8625\n",
      "2. Random Forest: 0.8045\n",
      "3. Decision Tree: 0.7050\n",
      "\n",
      "Ranking by F1-Score:\n",
      "1. Logistic Regression: 0.8624\n",
      "2. Random Forest: 0.8036\n",
      "3. Decision Tree: 0.6965\n"
     ]
    }
   ],
   "source": [
    "print(\"=== FINAL PERFORMANCE SUMMARY ===\")\n",
    "print(\"\\nRanking by Accuracy:\")\n",
    "accuracy_ranking = results_df.sort_values('Accuracy', ascending=False)\n",
    "for i, (model, row) in enumerate(accuracy_ranking.iterrows(), 1):\n",
    "    print(f\"{i}. {model}: {row['Accuracy']:.4f}\")\n",
    "\n",
    "print(\"\\nRanking by F1-Score:\")\n",
    "f1_ranking = results_df.sort_values('F1-Score', ascending=False)\n",
    "for i, (model, row) in enumerate(f1_ranking.iterrows(), 1):\n",
    "    print(f\"{i}. {model}: {row['F1-Score']:.4f}\")"
   ]
  },
  {
   "cell_type": "markdown",
   "id": "31b45b17-5195-4b27-b7eb-78487638600b",
   "metadata": {},
   "source": [
    "#### 7.2 Key Insights"
   ]
  },
  {
   "cell_type": "code",
   "execution_count": 22,
   "id": "76e05f32-3207-430b-92b1-9d0fdedfbda1",
   "metadata": {},
   "outputs": [
    {
     "name": "stdout",
     "output_type": "stream",
     "text": [
      "=== KEY INSIGHTS ===\n",
      "\n",
      "1. BEST OVERALL PERFORMER: Logistic Regression\n",
      "   Average Score: 0.8626\n",
      "\n",
      "2. MODEL CHARACTERISTICS:\n",
      "   • Logistic Regression: Fast, interpretable, good baseline\n",
      "   • Decision Tree: Highly interpretable, prone to overfitting\n",
      "   • Random Forest: Robust, handles overfitting better, less interpretable\n",
      "\n",
      "3. INTERPRETABILITY vs PERFORMANCE TRADE-OFFS:\n",
      "   Most Interpretable → Least Interpretable: Logistic Regression → Decision Tree → Random Forest\n",
      "   Best Performance → Worst Performance: Logistic Regression → Random Forest → Decision Tree\n",
      "\n",
      "4. RECOMMENDATIONS:\n",
      "   • Use Logistic Regression for production - good balance of performance and interpretability\n"
     ]
    }
   ],
   "source": [
    "print(\"=== KEY INSIGHTS ===\")\n",
    "\n",
    "best_overall = results_df.mean(axis=1).idxmax()\n",
    "print(f\"\\n1. BEST OVERALL PERFORMER: {best_overall}\")\n",
    "print(f\"   Average Score: {results_df.mean(axis=1)[best_overall]:.4f}\")\n",
    "\n",
    "print(\"\\n2. MODEL CHARACTERISTICS:\")\n",
    "print(\"   • Logistic Regression: Fast, interpretable, good baseline\")\n",
    "print(\"   • Decision Tree: Highly interpretable, prone to overfitting\")\n",
    "print(\"   • Random Forest: Robust, handles overfitting better, less interpretable\")\n",
    "\n",
    "print(\"\\n3. INTERPRETABILITY vs PERFORMANCE TRADE-OFFS:\")\n",
    "interpretability_order = [\"Logistic Regression\", \"Decision Tree\", \"Random Forest\"]\n",
    "performance_order = results_df.sort_values('F1-Score', ascending=False).index.tolist()\n",
    "\n",
    "print(\"   Most Interpretable → Least Interpretable:\", \" → \".join(interpretability_order))\n",
    "print(\"   Best Performance → Worst Performance:\", \" → \".join(performance_order))\n",
    "\n",
    "print(\"\\n4. RECOMMENDATIONS:\")\n",
    "if best_overall == \"Logistic Regression\":\n",
    "    print(\"   • Use Logistic Regression for production - good balance of performance and interpretability\")\n",
    "elif best_overall == \"Random Forest\":\n",
    "    print(\"   • Use Random Forest for best performance, Logistic Regression if interpretability is crucial\")\n",
    "else:\n",
    "    print(\"   • Consider ensemble methods or hyperparameter tuning for better performance\")"
   ]
  }
 ],
 "metadata": {
  "kernelspec": {
   "display_name": "Python [conda env:base] *",
   "language": "python",
   "name": "conda-base-py"
  },
  "language_info": {
   "codemirror_mode": {
    "name": "ipython",
    "version": 3
   },
   "file_extension": ".py",
   "mimetype": "text/x-python",
   "name": "python",
   "nbconvert_exporter": "python",
   "pygments_lexer": "ipython3",
   "version": "3.12.7"
  }
 },
 "nbformat": 4,
 "nbformat_minor": 5
}
