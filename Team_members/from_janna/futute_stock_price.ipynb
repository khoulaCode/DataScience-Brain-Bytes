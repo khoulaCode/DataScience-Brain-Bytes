{
  "cells": [
    {
      "cell_type": "markdown",
      "id": "e7a4d19c",
      "metadata": {
        "id": "e7a4d19c"
      },
      "source": [
        "\n",
        "# Time Series Forecasting with Feedforward NN vs. LSTM/GRU (Stocks)\n",
        "\n"
      ]
    },
    {
      "cell_type": "markdown",
      "id": "3d694954",
      "metadata": {
        "id": "3d694954"
      },
      "source": [
        "## 1) Setup"
      ]
    },
    {
      "cell_type": "code",
      "execution_count": 1,
      "id": "f8303901",
      "metadata": {
        "colab": {
          "base_uri": "https://localhost:8080/"
        },
        "id": "f8303901",
        "outputId": "b3e643b7-d074-4f6d-cba2-2b9ece88c4bc"
      },
      "outputs": [
        {
          "output_type": "stream",
          "name": "stdout",
          "text": [
            "Using device: cuda\n"
          ]
        }
      ],
      "source": [
        "import os\n",
        "import math\n",
        "import random\n",
        "import warnings\n",
        "from dataclasses import dataclass\n",
        "from typing import Tuple, List, Dict\n",
        "\n",
        "import numpy as np\n",
        "import pandas as pd\n",
        "import matplotlib.pyplot as plt\n",
        "\n",
        "from sklearn.preprocessing import MinMaxScaler\n",
        "from sklearn.metrics import mean_absolute_error\n",
        "\n",
        "import torch\n",
        "from torch import nn\n",
        "from torch.utils.data import Dataset, DataLoader\n",
        "\n",
        "warnings.filterwarnings(\"ignore\")\n",
        "\n",
        "DEVICE = \"cuda\" if torch.cuda.is_available() else \"cpu\"\n",
        "print(\"Using device:\", DEVICE)\n",
        "\n",
        "# Reproducibility\n",
        "SEED = 42\n",
        "random.seed(SEED)\n",
        "np.random.seed(SEED)\n",
        "torch.manual_seed(SEED)\n",
        "if torch.cuda.is_available():\n",
        "    torch.cuda.manual_seed_all(SEED)\n"
      ]
    },
    {
      "cell_type": "markdown",
      "id": "f78db784",
      "metadata": {
        "id": "f78db784"
      },
      "source": [
        "## 2) Load data (Yahoo Finance with safe fallback)"
      ]
    },
    {
      "cell_type": "code",
      "execution_count": 2,
      "id": "884dbc12",
      "metadata": {
        "colab": {
          "base_uri": "https://localhost:8080/",
          "height": 255
        },
        "id": "884dbc12",
        "outputId": "79813607-ce86-4d6c-d9d1-55a4fa28c0ed"
      },
      "outputs": [
        {
          "output_type": "stream",
          "name": "stdout",
          "text": [
            "Data source: Yahoo Finance (AAPL)\n"
          ]
        },
        {
          "output_type": "execute_result",
          "data": {
            "text/plain": [
              "Price        date      price\n",
              "Ticker                  AAPL\n",
              "0      2020-01-02  72.538513\n",
              "1      2020-01-03  71.833290\n",
              "2      2020-01-06  72.405670\n",
              "3      2020-01-07  72.065155\n",
              "4      2020-01-08  73.224388"
            ],
            "text/html": [
              "\n",
              "  <div id=\"df-af0922a7-7232-4bb1-8787-9c321749b28c\" class=\"colab-df-container\">\n",
              "    <div>\n",
              "<style scoped>\n",
              "    .dataframe tbody tr th:only-of-type {\n",
              "        vertical-align: middle;\n",
              "    }\n",
              "\n",
              "    .dataframe tbody tr th {\n",
              "        vertical-align: top;\n",
              "    }\n",
              "\n",
              "    .dataframe thead tr th {\n",
              "        text-align: left;\n",
              "    }\n",
              "</style>\n",
              "<table border=\"1\" class=\"dataframe\">\n",
              "  <thead>\n",
              "    <tr>\n",
              "      <th>Price</th>\n",
              "      <th>date</th>\n",
              "      <th>price</th>\n",
              "    </tr>\n",
              "    <tr>\n",
              "      <th>Ticker</th>\n",
              "      <th></th>\n",
              "      <th>AAPL</th>\n",
              "    </tr>\n",
              "  </thead>\n",
              "  <tbody>\n",
              "    <tr>\n",
              "      <th>0</th>\n",
              "      <td>2020-01-02</td>\n",
              "      <td>72.538513</td>\n",
              "    </tr>\n",
              "    <tr>\n",
              "      <th>1</th>\n",
              "      <td>2020-01-03</td>\n",
              "      <td>71.833290</td>\n",
              "    </tr>\n",
              "    <tr>\n",
              "      <th>2</th>\n",
              "      <td>2020-01-06</td>\n",
              "      <td>72.405670</td>\n",
              "    </tr>\n",
              "    <tr>\n",
              "      <th>3</th>\n",
              "      <td>2020-01-07</td>\n",
              "      <td>72.065155</td>\n",
              "    </tr>\n",
              "    <tr>\n",
              "      <th>4</th>\n",
              "      <td>2020-01-08</td>\n",
              "      <td>73.224388</td>\n",
              "    </tr>\n",
              "  </tbody>\n",
              "</table>\n",
              "</div>\n",
              "    <div class=\"colab-df-buttons\">\n",
              "\n",
              "  <div class=\"colab-df-container\">\n",
              "    <button class=\"colab-df-convert\" onclick=\"convertToInteractive('df-af0922a7-7232-4bb1-8787-9c321749b28c')\"\n",
              "            title=\"Convert this dataframe to an interactive table.\"\n",
              "            style=\"display:none;\">\n",
              "\n",
              "  <svg xmlns=\"http://www.w3.org/2000/svg\" height=\"24px\" viewBox=\"0 -960 960 960\">\n",
              "    <path d=\"M120-120v-720h720v720H120Zm60-500h600v-160H180v160Zm220 220h160v-160H400v160Zm0 220h160v-160H400v160ZM180-400h160v-160H180v160Zm440 0h160v-160H620v160ZM180-180h160v-160H180v160Zm440 0h160v-160H620v160Z\"/>\n",
              "  </svg>\n",
              "    </button>\n",
              "\n",
              "  <style>\n",
              "    .colab-df-container {\n",
              "      display:flex;\n",
              "      gap: 12px;\n",
              "    }\n",
              "\n",
              "    .colab-df-convert {\n",
              "      background-color: #E8F0FE;\n",
              "      border: none;\n",
              "      border-radius: 50%;\n",
              "      cursor: pointer;\n",
              "      display: none;\n",
              "      fill: #1967D2;\n",
              "      height: 32px;\n",
              "      padding: 0 0 0 0;\n",
              "      width: 32px;\n",
              "    }\n",
              "\n",
              "    .colab-df-convert:hover {\n",
              "      background-color: #E2EBFA;\n",
              "      box-shadow: 0px 1px 2px rgba(60, 64, 67, 0.3), 0px 1px 3px 1px rgba(60, 64, 67, 0.15);\n",
              "      fill: #174EA6;\n",
              "    }\n",
              "\n",
              "    .colab-df-buttons div {\n",
              "      margin-bottom: 4px;\n",
              "    }\n",
              "\n",
              "    [theme=dark] .colab-df-convert {\n",
              "      background-color: #3B4455;\n",
              "      fill: #D2E3FC;\n",
              "    }\n",
              "\n",
              "    [theme=dark] .colab-df-convert:hover {\n",
              "      background-color: #434B5C;\n",
              "      box-shadow: 0px 1px 3px 1px rgba(0, 0, 0, 0.15);\n",
              "      filter: drop-shadow(0px 1px 2px rgba(0, 0, 0, 0.3));\n",
              "      fill: #FFFFFF;\n",
              "    }\n",
              "  </style>\n",
              "\n",
              "    <script>\n",
              "      const buttonEl =\n",
              "        document.querySelector('#df-af0922a7-7232-4bb1-8787-9c321749b28c button.colab-df-convert');\n",
              "      buttonEl.style.display =\n",
              "        google.colab.kernel.accessAllowed ? 'block' : 'none';\n",
              "\n",
              "      async function convertToInteractive(key) {\n",
              "        const element = document.querySelector('#df-af0922a7-7232-4bb1-8787-9c321749b28c');\n",
              "        const dataTable =\n",
              "          await google.colab.kernel.invokeFunction('convertToInteractive',\n",
              "                                                    [key], {});\n",
              "        if (!dataTable) return;\n",
              "\n",
              "        const docLinkHtml = 'Like what you see? Visit the ' +\n",
              "          '<a target=\"_blank\" href=https://colab.research.google.com/notebooks/data_table.ipynb>data table notebook</a>'\n",
              "          + ' to learn more about interactive tables.';\n",
              "        element.innerHTML = '';\n",
              "        dataTable['output_type'] = 'display_data';\n",
              "        await google.colab.output.renderOutput(dataTable, element);\n",
              "        const docLink = document.createElement('div');\n",
              "        docLink.innerHTML = docLinkHtml;\n",
              "        element.appendChild(docLink);\n",
              "      }\n",
              "    </script>\n",
              "  </div>\n",
              "\n",
              "\n",
              "    <div id=\"df-2bfb0e1a-b100-4c53-9a9d-df9459165454\">\n",
              "      <button class=\"colab-df-quickchart\" onclick=\"quickchart('df-2bfb0e1a-b100-4c53-9a9d-df9459165454')\"\n",
              "                title=\"Suggest charts\"\n",
              "                style=\"display:none;\">\n",
              "\n",
              "<svg xmlns=\"http://www.w3.org/2000/svg\" height=\"24px\"viewBox=\"0 0 24 24\"\n",
              "     width=\"24px\">\n",
              "    <g>\n",
              "        <path d=\"M19 3H5c-1.1 0-2 .9-2 2v14c0 1.1.9 2 2 2h14c1.1 0 2-.9 2-2V5c0-1.1-.9-2-2-2zM9 17H7v-7h2v7zm4 0h-2V7h2v10zm4 0h-2v-4h2v4z\"/>\n",
              "    </g>\n",
              "</svg>\n",
              "      </button>\n",
              "\n",
              "<style>\n",
              "  .colab-df-quickchart {\n",
              "      --bg-color: #E8F0FE;\n",
              "      --fill-color: #1967D2;\n",
              "      --hover-bg-color: #E2EBFA;\n",
              "      --hover-fill-color: #174EA6;\n",
              "      --disabled-fill-color: #AAA;\n",
              "      --disabled-bg-color: #DDD;\n",
              "  }\n",
              "\n",
              "  [theme=dark] .colab-df-quickchart {\n",
              "      --bg-color: #3B4455;\n",
              "      --fill-color: #D2E3FC;\n",
              "      --hover-bg-color: #434B5C;\n",
              "      --hover-fill-color: #FFFFFF;\n",
              "      --disabled-bg-color: #3B4455;\n",
              "      --disabled-fill-color: #666;\n",
              "  }\n",
              "\n",
              "  .colab-df-quickchart {\n",
              "    background-color: var(--bg-color);\n",
              "    border: none;\n",
              "    border-radius: 50%;\n",
              "    cursor: pointer;\n",
              "    display: none;\n",
              "    fill: var(--fill-color);\n",
              "    height: 32px;\n",
              "    padding: 0;\n",
              "    width: 32px;\n",
              "  }\n",
              "\n",
              "  .colab-df-quickchart:hover {\n",
              "    background-color: var(--hover-bg-color);\n",
              "    box-shadow: 0 1px 2px rgba(60, 64, 67, 0.3), 0 1px 3px 1px rgba(60, 64, 67, 0.15);\n",
              "    fill: var(--button-hover-fill-color);\n",
              "  }\n",
              "\n",
              "  .colab-df-quickchart-complete:disabled,\n",
              "  .colab-df-quickchart-complete:disabled:hover {\n",
              "    background-color: var(--disabled-bg-color);\n",
              "    fill: var(--disabled-fill-color);\n",
              "    box-shadow: none;\n",
              "  }\n",
              "\n",
              "  .colab-df-spinner {\n",
              "    border: 2px solid var(--fill-color);\n",
              "    border-color: transparent;\n",
              "    border-bottom-color: var(--fill-color);\n",
              "    animation:\n",
              "      spin 1s steps(1) infinite;\n",
              "  }\n",
              "\n",
              "  @keyframes spin {\n",
              "    0% {\n",
              "      border-color: transparent;\n",
              "      border-bottom-color: var(--fill-color);\n",
              "      border-left-color: var(--fill-color);\n",
              "    }\n",
              "    20% {\n",
              "      border-color: transparent;\n",
              "      border-left-color: var(--fill-color);\n",
              "      border-top-color: var(--fill-color);\n",
              "    }\n",
              "    30% {\n",
              "      border-color: transparent;\n",
              "      border-left-color: var(--fill-color);\n",
              "      border-top-color: var(--fill-color);\n",
              "      border-right-color: var(--fill-color);\n",
              "    }\n",
              "    40% {\n",
              "      border-color: transparent;\n",
              "      border-right-color: var(--fill-color);\n",
              "      border-top-color: var(--fill-color);\n",
              "    }\n",
              "    60% {\n",
              "      border-color: transparent;\n",
              "      border-right-color: var(--fill-color);\n",
              "    }\n",
              "    80% {\n",
              "      border-color: transparent;\n",
              "      border-right-color: var(--fill-color);\n",
              "      border-bottom-color: var(--fill-color);\n",
              "    }\n",
              "    90% {\n",
              "      border-color: transparent;\n",
              "      border-bottom-color: var(--fill-color);\n",
              "    }\n",
              "  }\n",
              "</style>\n",
              "\n",
              "      <script>\n",
              "        async function quickchart(key) {\n",
              "          const quickchartButtonEl =\n",
              "            document.querySelector('#' + key + ' button');\n",
              "          quickchartButtonEl.disabled = true;  // To prevent multiple clicks.\n",
              "          quickchartButtonEl.classList.add('colab-df-spinner');\n",
              "          try {\n",
              "            const charts = await google.colab.kernel.invokeFunction(\n",
              "                'suggestCharts', [key], {});\n",
              "          } catch (error) {\n",
              "            console.error('Error during call to suggestCharts:', error);\n",
              "          }\n",
              "          quickchartButtonEl.classList.remove('colab-df-spinner');\n",
              "          quickchartButtonEl.classList.add('colab-df-quickchart-complete');\n",
              "        }\n",
              "        (() => {\n",
              "          let quickchartButtonEl =\n",
              "            document.querySelector('#df-2bfb0e1a-b100-4c53-9a9d-df9459165454 button');\n",
              "          quickchartButtonEl.style.display =\n",
              "            google.colab.kernel.accessAllowed ? 'block' : 'none';\n",
              "        })();\n",
              "      </script>\n",
              "    </div>\n",
              "\n",
              "    </div>\n",
              "  </div>\n"
            ],
            "application/vnd.google.colaboratory.intrinsic+json": {
              "type": "dataframe",
              "variable_name": "df",
              "summary": "{\n  \"name\": \"df\",\n  \"rows\": 1257,\n  \"fields\": [\n    {\n      \"column\": [\n        \"date\",\n        \"\"\n      ],\n      \"properties\": {\n        \"dtype\": \"date\",\n        \"min\": \"2020-01-02 00:00:00\",\n        \"max\": \"2024-12-30 00:00:00\",\n        \"num_unique_values\": 1257,\n        \"samples\": [\n          \"2021-09-23 00:00:00\",\n          \"2020-05-28 00:00:00\",\n          \"2020-03-17 00:00:00\"\n        ],\n        \"semantic_type\": \"\",\n        \"description\": \"\"\n      }\n    },\n    {\n      \"column\": [\n        \"price\",\n        \"AAPL\"\n      ],\n      \"properties\": {\n        \"dtype\": \"number\",\n        \"std\": 41.89638339907354,\n        \"min\": 54.31692886352539,\n        \"max\": 258.1037292480469,\n        \"num_unique_values\": 1242,\n        \"samples\": [\n          174.8572998046875,\n          182.08837890625,\n          152.89646911621094\n        ],\n        \"semantic_type\": \"\",\n        \"description\": \"\"\n      }\n    }\n  ]\n}"
            }
          },
          "metadata": {},
          "execution_count": 2
        }
      ],
      "source": [
        "\n",
        "import datetime as dt\n",
        "\n",
        "TICKER = \"AAPL\"\n",
        "START = \"2020-01-01\"\n",
        "END   = \"2024-12-31\"\n",
        "PRICE_COL = \"Close\"\n",
        "\n",
        "def load_stock_prices(ticker=TICKER, start=START, end=END, price_col=PRICE_COL):\n",
        "    \"\"\"Try fetching with yfinance; if it fails, synthesize an ARMA-like series.\"\"\"\n",
        "    try:\n",
        "        import yfinance as yf\n",
        "        df = yf.download(ticker, start=start, end=end, progress=False)\n",
        "        if df is None or df.empty:\n",
        "            raise RuntimeError(\"Empty dataframe from yfinance.\")\n",
        "        df = df[[price_col]].dropna().rename(columns={price_col: \"price\"})\n",
        "        df.index = pd.to_datetime(df.index)\n",
        "        df.reset_index(inplace=True)\n",
        "        df.rename(columns={\"Date\": \"date\"}, inplace=True)\n",
        "        src = f\"Yahoo Finance ({ticker})\"\n",
        "    except Exception as e:\n",
        "        print(\"yfinance failed or offline. Using synthetic fallback. Error:\", e)\n",
        "        # Synthetic AR(1) + trend + seasonality\n",
        "        n = 1200\n",
        "        rng = pd.date_range(\"2020-01-01\", periods=n, freq=\"B\")\n",
        "        eps = np.random.normal(scale=1.0, size=n)\n",
        "        x = np.zeros(n)\n",
        "        phi = 0.85\n",
        "        for t in range(1, n):\n",
        "            x[t] = phi * x[t-1] + eps[t]\n",
        "        trend = np.linspace(0, 50, n)\n",
        "        season = 5*np.sin(np.linspace(0, 20*np.pi, n))\n",
        "        series = 150 + trend + season + x\n",
        "        df = pd.DataFrame({\"date\": rng, \"price\": series})\n",
        "        src = \"Synthetic AR(1)+trend+seasonality\"\n",
        "    return df, src\n",
        "\n",
        "df, source = load_stock_prices()\n",
        "print(\"Data source:\", source)\n",
        "df.head()\n"
      ]
    },
    {
      "cell_type": "markdown",
      "id": "5b662519",
      "metadata": {
        "id": "5b662519"
      },
      "source": [
        "## 3) Quick EDA"
      ]
    },
    {
      "cell_type": "code",
      "execution_count": 3,
      "id": "aaa54213",
      "metadata": {
        "colab": {
          "base_uri": "https://localhost:8080/",
          "height": 537
        },
        "id": "aaa54213",
        "outputId": "d520be50-0104-4e83-d09e-ad76bedc7813"
      },
      "outputs": [
        {
          "output_type": "stream",
          "name": "stdout",
          "text": [
            "Price                            date        price\n",
            "Ticker                                        AAPL\n",
            "count                            1257  1257.000000\n",
            "mean    2022-06-30 22:13:27.637231616   151.728301\n",
            "min               2020-01-02 00:00:00    54.316929\n",
            "25%               2021-04-01 00:00:00   126.607033\n",
            "50%               2022-06-30 00:00:00   150.366379\n",
            "75%               2023-09-29 00:00:00   176.243698\n",
            "max               2024-12-30 00:00:00   258.103729\n",
            "std                               NaN    41.896383\n",
            "\n",
            "Date range: 2020-01-02 → 2024-12-30\n"
          ]
        },
        {
          "output_type": "display_data",
          "data": {
            "text/plain": [
              "<Figure size 1000x400 with 1 Axes>"
            ],
            "image/png": "[encoded data removed]"
          },
          "metadata": {}
        }
      ],
      "source": [
        "\n",
        "print(df.describe())\n",
        "print(\"\\nDate range:\", df['date'].min().date(), \"→\", df['date'].max().date())\n",
        "plt.figure(figsize=(10,4))\n",
        "plt.plot(df['date'], df['price'])\n",
        "plt.title(\"Price over time\")\n",
        "plt.xlabel(\"Date\")\n",
        "plt.ylabel(\"Price\")\n",
        "plt.show()\n"
      ]
    },
    {
      "cell_type": "markdown",
      "id": "5a29b65d",
      "metadata": {
        "id": "5a29b65d"
      },
      "source": [
        "## 4) Windowing utilities (lagged windows → next value)"
      ]
    },
    {
      "cell_type": "code",
      "execution_count": 4,
      "id": "e7f08244",
      "metadata": {
        "id": "e7f08244"
      },
      "outputs": [],
      "source": [
        "\n",
        "@dataclass\n",
        "class WindowConfig:\n",
        "    seq_len: int = 60           # length of input window\n",
        "    horizon: int = 1            # predict t+1\n",
        "    stride: int = 1             # move 1 step\n",
        "    train_ratio: float = 0.7\n",
        "    val_ratio: float   = 0.15   # test = 1 - train - val\n",
        "\n",
        "def make_windows(series: np.ndarray, cfg: WindowConfig):\n",
        "    X, y = [], []\n",
        "    for i in range(0, len(series) - cfg.seq_len - cfg.horizon + 1, cfg.stride):\n",
        "        X.append(series[i:i+cfg.seq_len])\n",
        "        y.append(series[i+cfg.seq_len:i+cfg.seq_len+cfg.horizon])\n",
        "    X = np.array(X).astype(np.float32)\n",
        "    y = np.array(y).astype(np.float32).squeeze()\n",
        "    return X, y\n",
        "\n",
        "def time_split(X, y, cfg: WindowConfig):\n",
        "    n = len(X)\n",
        "    n_train = int(n * cfg.train_ratio)\n",
        "    n_val   = int(n * cfg.val_ratio)\n",
        "    X_train, y_train = X[:n_train], y[:n_train]\n",
        "    X_val,   y_val   = X[n_train:n_train+n_val], y[n_train:n_train+n_val]\n",
        "    X_test,  y_test  = X[n_train+n_val:], y[n_train+n_val:]\n",
        "    return (X_train, y_train), (X_val, y_val), (X_test, y_test)\n"
      ]
    },
    {
      "cell_type": "markdown",
      "id": "7ac087c2",
      "metadata": {
        "id": "7ac087c2"
      },
      "source": [
        "## 5) Scale, build datasets & loaders"
      ]
    },
    {
      "cell_type": "code",
      "execution_count": 5,
      "id": "0a059561",
      "metadata": {
        "colab": {
          "base_uri": "https://localhost:8080/"
        },
        "id": "0a059561",
        "outputId": "6e612da7-e339-4151-af02-3468b9bf5bae"
      },
      "outputs": [
        {
          "output_type": "execute_result",
          "data": {
            "text/plain": [
              "(837, 179, 181)"
            ]
          },
          "metadata": {},
          "execution_count": 5
        }
      ],
      "source": [
        "\n",
        "cfg = WindowConfig(seq_len=60, horizon=1, stride=1)\n",
        "\n",
        "# Use only price as univariate series\n",
        "series = df['price'].values.reshape(-1, 1)\n",
        "\n",
        "scaler = MinMaxScaler()\n",
        "series_scaled = scaler.fit_transform(series).flatten()\n",
        "\n",
        "X, y = make_windows(series_scaled, cfg)\n",
        "(X_train, y_train), (X_val, y_val), (X_test, y_test) = time_split(X, y, cfg)\n",
        "\n",
        "class SeqDataset(Dataset):\n",
        "    def __init__(self, X, y, rnn: bool):\n",
        "        self.X = X\n",
        "        self.y = y\n",
        "        self.rnn = rnn\n",
        "    def __len__(self): return len(self.X)\n",
        "    def __getitem__(self, idx):\n",
        "        x = self.X[idx]\n",
        "        if self.rnn:\n",
        "            # shape (seq_len, 1)\n",
        "            x = x.reshape(-1, 1)\n",
        "        else:\n",
        "            # flatten for FFN\n",
        "            x = x.reshape(-1)\n",
        "        return torch.tensor(x, dtype=torch.float32), torch.tensor(self.y[idx], dtype=torch.float32)\n",
        "\n",
        "BATCH = 128\n",
        "train_ffn = DataLoader(SeqDataset(X_train, y_train, rnn=False), batch_size=BATCH, shuffle=True)\n",
        "val_ffn   = DataLoader(SeqDataset(X_val,   y_val,   rnn=False), batch_size=BATCH, shuffle=False)\n",
        "test_ffn  = DataLoader(SeqDataset(X_test,  y_test,  rnn=False), batch_size=BATCH, shuffle=False)\n",
        "\n",
        "train_rnn = DataLoader(SeqDataset(X_train, y_train, rnn=True), batch_size=BATCH, shuffle=True)\n",
        "val_rnn   = DataLoader(SeqDataset(X_val,   y_val,   rnn=True), batch_size=BATCH, shuffle=False)\n",
        "test_rnn  = DataLoader(SeqDataset(X_test,  y_test,  rnn=True), batch_size=BATCH, shuffle=False)\n",
        "\n",
        "len(X_train), len(X_val), len(X_test)\n"
      ]
    },
    {
      "cell_type": "markdown",
      "id": "4fa45cd8",
      "metadata": {
        "id": "4fa45cd8"
      },
      "source": [
        "## 6) Models: FFN vs LSTM"
      ]
    },
    {
      "cell_type": "code",
      "execution_count": 6,
      "id": "b2ab3a1b",
      "metadata": {
        "id": "b2ab3a1b"
      },
      "outputs": [],
      "source": [
        "\n",
        "class FFN(nn.Module):\n",
        "    def __init__(self, seq_len, hidden=128, dropout=0.2):\n",
        "        super().__init__()\n",
        "        self.net = nn.Sequential(\n",
        "            nn.Linear(seq_len, hidden),\n",
        "            nn.ReLU(),\n",
        "            nn.Dropout(dropout),\n",
        "            nn.Linear(hidden, hidden//2),\n",
        "            nn.ReLU(),\n",
        "            nn.Linear(hidden//2, 1)\n",
        "        )\n",
        "    def forward(self, x):\n",
        "        # x: (B, seq_len)\n",
        "        return self.net(x).squeeze(-1)\n",
        "\n",
        "class LSTMRegressor(nn.Module):\n",
        "    def __init__(self, input_size=1, hidden_size=64, num_layers=1, dropout=0.2, bidirectional=False):\n",
        "        super().__init__()\n",
        "        self.lstm = nn.LSTM(input_size, hidden_size, num_layers=num_layers, batch_first=True, bidirectional=bidirectional, dropout=0.0 if num_layers==1 else dropout)\n",
        "        self.dropout = nn.Dropout(dropout)\n",
        "        self.fc = nn.Linear(hidden_size*(2 if bidirectional else 1), 1)\n",
        "    def forward(self, x):\n",
        "        # x: (B, T, 1)\n",
        "        out, (h, c) = self.lstm(x)\n",
        "        last = out[:, -1, :]  # last timestep\n",
        "        last = self.dropout(last)\n",
        "        return self.fc(last).squeeze(-1)\n",
        "\n",
        "class GRURegressor(nn.Module):\n",
        "    def __init__(self, input_size=1, hidden_size=64, num_layers=1, dropout=0.2, bidirectional=False):\n",
        "        super().__init__()\n",
        "        self.gru = nn.GRU(input_size, hidden_size, num_layers=num_layers, batch_first=True, bidirectional=bidirectional, dropout=0.0 if num_layers==1 else dropout)\n",
        "        self.dropout = nn.Dropout(dropout)\n",
        "        self.fc = nn.Linear(hidden_size*(2 if bidirectional else 1), 1)\n",
        "    def forward(self, x):\n",
        "        out, h = self.gru(x)\n",
        "        last = out[:, -1, :]\n",
        "        last = self.dropout(last)\n",
        "        return self.fc(last).squeeze(-1)\n"
      ]
    },
    {
      "cell_type": "markdown",
      "id": "46518d71",
      "metadata": {
        "id": "46518d71"
      },
      "source": [
        "## 7) Training utilities"
      ]
    },
    {
      "cell_type": "code",
      "execution_count": 7,
      "id": "c65f3084",
      "metadata": {
        "id": "c65f3084"
      },
      "outputs": [],
      "source": [
        "\n",
        "@dataclass\n",
        "class TrainConfig:\n",
        "    epochs: int = 20\n",
        "    lr: float = 1e-3\n",
        "    weight_decay: float = 1e-5\n",
        "    patience: int = 5   # early stopping\n",
        "    model_type: str = \"FFN\"  # \"FFN\" | \"LSTM\" | \"GRU\"\n",
        "\n",
        "def train_model(model, loaders, cfg: TrainConfig):\n",
        "    criterion = nn.L1Loss()  # MAE as optimization target\n",
        "    optimizer = torch.optim.Adam(model.parameters(), lr=cfg.lr, weight_decay=cfg.weight_decay)\n",
        "\n",
        "    best_val = float(\"inf\")\n",
        "    best_state = None\n",
        "    history = {\"train_loss\": [], \"val_loss\": []}\n",
        "    patience_left = cfg.patience\n",
        "\n",
        "    for epoch in range(1, cfg.epochs+1):\n",
        "        # Train\n",
        "        model.train()\n",
        "        train_losses = []\n",
        "        for xb, yb in loaders[\"train\"]:\n",
        "            xb, yb = xb.to(DEVICE), yb.to(DEVICE)\n",
        "            optimizer.zero_grad()\n",
        "            preds = model(xb)\n",
        "            loss = criterion(preds, yb)\n",
        "            loss.backward()\n",
        "            optimizer.step()\n",
        "            train_losses.append(loss.item())\n",
        "        train_loss = float(np.mean(train_losses))\n",
        "\n",
        "        # Validate\n",
        "        model.eval()\n",
        "        val_losses = []\n",
        "        with torch.no_grad():\n",
        "            for xb, yb in loaders[\"val\"]:\n",
        "                xb, yb = xb.to(DEVICE), yb.to(DEVICE)\n",
        "                preds = model(xb)\n",
        "                loss = criterion(preds, yb)\n",
        "                val_losses.append(loss.item())\n",
        "        val_loss = float(np.mean(val_losses))\n",
        "\n",
        "        history[\"train_loss\"].append(train_loss)\n",
        "        history[\"val_loss\"].append(val_loss)\n",
        "        print(f\"Epoch {epoch:02d} | train MAE: {train_loss:.5f} | val MAE: {val_loss:.5f}\")\n",
        "\n",
        "        if val_loss < best_val - 1e-6:\n",
        "            best_val = val_loss\n",
        "            best_state = {k: v.cpu().clone() for k, v in model.state_dict().items()}\n",
        "            patience_left = cfg.patience\n",
        "        else:\n",
        "            patience_left -= 1\n",
        "            if patience_left <= 0:\n",
        "                print(\"Early stopping.\")\n",
        "                break\n",
        "\n",
        "    if best_state is not None:\n",
        "        model.load_state_dict(best_state)\n",
        "    return model, history\n",
        "\n",
        "def evaluate_model(model, loader):\n",
        "    model.eval()\n",
        "    preds_all, y_all = [], []\n",
        "    with torch.no_grad():\n",
        "        for xb, yb in loader:\n",
        "            xb = xb.to(DEVICE)\n",
        "            pred = model(xb).cpu().numpy()\n",
        "            preds_all.append(pred)\n",
        "            y_all.append(yb.numpy())\n",
        "    preds_all = np.concatenate(preds_all)\n",
        "    y_all = np.concatenate(y_all)\n",
        "    mae = mean_absolute_error(y_all, preds_all)\n",
        "    return mae, preds_all, y_all\n"
      ]
    },
    {
      "cell_type": "markdown",
      "id": "4959c3ca",
      "metadata": {
        "id": "4959c3ca"
      },
      "source": [
        "## 8) Train Feedforward NN"
      ]
    },
    {
      "cell_type": "code",
      "execution_count": 8,
      "id": "78cb2619",
      "metadata": {
        "colab": {
          "base_uri": "https://localhost:8080/"
        },
        "id": "78cb2619",
        "outputId": "381706ce-1cf1-4868-b8b3-19200571a5bf"
      },
      "outputs": [
        {
          "output_type": "stream",
          "name": "stdout",
          "text": [
            "Epoch 01 | train MAE: 0.30735 | val MAE: 0.09265\n",
            "Epoch 02 | train MAE: 0.09933 | val MAE: 0.07889\n",
            "Epoch 03 | train MAE: 0.07154 | val MAE: 0.03158\n",
            "Epoch 04 | train MAE: 0.05735 | val MAE: 0.11722\n",
            "Epoch 05 | train MAE: 0.05429 | val MAE: 0.03086\n",
            "Epoch 06 | train MAE: 0.04851 | val MAE: 0.05619\n",
            "Epoch 07 | train MAE: 0.04606 | val MAE: 0.02973\n",
            "Epoch 08 | train MAE: 0.04635 | val MAE: 0.03195\n",
            "Epoch 09 | train MAE: 0.04346 | val MAE: 0.03197\n",
            "Epoch 10 | train MAE: 0.04137 | val MAE: 0.02711\n",
            "Epoch 11 | train MAE: 0.04080 | val MAE: 0.02437\n",
            "Epoch 12 | train MAE: 0.03876 | val MAE: 0.02656\n",
            "Epoch 13 | train MAE: 0.03589 | val MAE: 0.02869\n",
            "Epoch 14 | train MAE: 0.03596 | val MAE: 0.02433\n",
            "Epoch 15 | train MAE: 0.03463 | val MAE: 0.02056\n",
            "Epoch 16 | train MAE: 0.03461 | val MAE: 0.01993\n",
            "Epoch 17 | train MAE: 0.03485 | val MAE: 0.01975\n",
            "Epoch 18 | train MAE: 0.03316 | val MAE: 0.02755\n",
            "Epoch 19 | train MAE: 0.03251 | val MAE: 0.02711\n",
            "Epoch 20 | train MAE: 0.03070 | val MAE: 0.02865\n",
            "Epoch 21 | train MAE: 0.03075 | val MAE: 0.01843\n",
            "Epoch 22 | train MAE: 0.03188 | val MAE: 0.02542\n",
            "Epoch 23 | train MAE: 0.03275 | val MAE: 0.02323\n",
            "Epoch 24 | train MAE: 0.03121 | val MAE: 0.01952\n",
            "Epoch 25 | train MAE: 0.02963 | val MAE: 0.02881\n",
            "FFN Test MAE: 0.04114\n"
          ]
        }
      ],
      "source": [
        "\n",
        "ffn = FFN(seq_len=cfg.seq_len, hidden=128, dropout=0.2).to(DEVICE)\n",
        "ffn_cfg = TrainConfig(epochs=25, lr=1e-3, weight_decay=1e-6, patience=5, model_type=\"FFN\")\n",
        "\n",
        "loaders_ffn = {\"train\": train_ffn, \"val\": val_ffn}\n",
        "ffn, hist_ffn = train_model(ffn, loaders_ffn, ffn_cfg)\n",
        "\n",
        "ffn_mae_test, ffn_pred, ffn_true = evaluate_model(ffn, test_ffn)\n",
        "print(\"FFN Test MAE:\", round(ffn_mae_test, 6))\n"
      ]
    },
    {
      "cell_type": "markdown",
      "id": "43fefd31",
      "metadata": {
        "id": "43fefd31"
      },
      "source": [
        "## 9) Train LSTM"
      ]
    },
    {
      "cell_type": "code",
      "execution_count": 9,
      "id": "016d1ff5",
      "metadata": {
        "colab": {
          "base_uri": "https://localhost:8080/"
        },
        "id": "016d1ff5",
        "outputId": "a183d164-f502-43a5-8a83-bd078e695095"
      },
      "outputs": [
        {
          "output_type": "stream",
          "name": "stdout",
          "text": [
            "Epoch 01 | train MAE: 0.37082 | val MAE: 0.50667\n",
            "Epoch 02 | train MAE: 0.27002 | val MAE: 0.37299\n",
            "Epoch 03 | train MAE: 0.14565 | val MAE: 0.10497\n",
            "Epoch 04 | train MAE: 0.11437 | val MAE: 0.13867\n",
            "Epoch 05 | train MAE: 0.09937 | val MAE: 0.20715\n",
            "Epoch 06 | train MAE: 0.09647 | val MAE: 0.14699\n",
            "Epoch 07 | train MAE: 0.08946 | val MAE: 0.11400\n",
            "Epoch 08 | train MAE: 0.08773 | val MAE: 0.15310\n",
            "Early stopping.\n",
            "LSTM Test MAE: 0.256782\n"
          ]
        }
      ],
      "source": [
        "\n",
        "lstm = LSTMRegressor(input_size=1, hidden_size=64, num_layers=1, dropout=0.2, bidirectional=False).to(DEVICE)\n",
        "lstm_cfg = TrainConfig(epochs=25, lr=1e-3, weight_decay=1e-6, patience=5, model_type=\"LSTM\")\n",
        "\n",
        "loaders_rnn = {\"train\": train_rnn, \"val\": val_rnn}\n",
        "lstm, hist_lstm = train_model(lstm, loaders_rnn, lstm_cfg)\n",
        "\n",
        "lstm_mae_test, lstm_pred, lstm_true = evaluate_model(lstm, test_rnn)\n",
        "print(\"LSTM Test MAE:\", round(lstm_mae_test, 6))\n"
      ]
    },
    {
      "cell_type": "code",
      "execution_count": 10,
      "id": "7c42ac7e",
      "metadata": {
        "id": "7c42ac7e"
      },
      "outputs": [],
      "source": [
        "\n",
        "TRAIN_GRU = False  # set True to also train GRU\n",
        "\n",
        "gru_mae_test = None\n",
        "gru_pred = None\n",
        "gru_true = None\n",
        "\n",
        "if TRAIN_GRU:\n",
        "    gru = GRURegressor(input_size=1, hidden_size=64, num_layers=1, dropout=0.2, bidirectional=False).to(DEVICE)\n",
        "    gru_cfg = TrainConfig(epochs=25, lr=1e-3, weight_decay=1e-6, patience=5, model_type=\"GRU\")\n",
        "    gru, hist_gru = train_model(gru, loaders_rnn, gru_cfg)\n",
        "    gru_mae_test, gru_pred, gru_true = evaluate_model(gru, test_rnn)\n",
        "    print(\"GRU Test MAE:\", round(gru_mae_test, 6))\n"
      ]
    },
    {
      "cell_type": "markdown",
      "id": "d3d0e431",
      "metadata": {
        "id": "d3d0e431"
      },
      "source": [
        "## 10) Inverse-transform predictions for interpretability"
      ]
    },
    {
      "cell_type": "code",
      "execution_count": 11,
      "id": "6c531f66",
      "metadata": {
        "colab": {
          "base_uri": "https://localhost:8080/"
        },
        "id": "6c531f66",
        "outputId": "266ca91c-e6f3-4db7-bd99-c6521ce56f96"
      },
      "outputs": [
        {
          "output_type": "stream",
          "name": "stdout",
          "text": [
            "Sample (actual, ffn_pred, lstm_pred):\n"
          ]
        },
        {
          "output_type": "execute_result",
          "data": {
            "text/plain": [
              "[(np.float32(175.2912), np.float32(168.10297), np.float32(155.68141)),\n",
              " (np.float32(171.45871), np.float32(168.60141), np.float32(155.95691)),\n",
              " (np.float32(168.17232), np.float32(168.92477), np.float32(155.9882)),\n",
              " (np.float32(166.80215), np.float32(168.48354), np.float32(155.85579)),\n",
              " (np.float32(165.849), np.float32(167.1636), np.float32(155.6891))]"
            ]
          },
          "metadata": {},
          "execution_count": 11
        }
      ],
      "source": [
        "\n",
        "def invert_scale(arr_1d):\n",
        "    arr_2d = np.array(arr_1d).reshape(-1, 1)\n",
        "    return scaler.inverse_transform(arr_2d).reshape(-1)\n",
        "\n",
        "ffn_pred_raw  = invert_scale(ffn_pred)\n",
        "ffn_true_raw  = invert_scale(ffn_true)\n",
        "lstm_pred_raw = invert_scale(lstm_pred)\n",
        "lstm_true_raw = invert_scale(lstm_true)\n",
        "\n",
        "if gru_pred is not None:\n",
        "    gru_pred_raw = invert_scale(gru_pred)\n",
        "    gru_true_raw = invert_scale(gru_true)\n",
        "\n",
        "print(\"Sample (actual, ffn_pred, lstm_pred):\")\n",
        "list(zip(ffn_true_raw[:5], ffn_pred_raw[:5], lstm_pred_raw[:5]))\n"
      ]
    },
    {
      "cell_type": "markdown",
      "id": "20a864a5",
      "metadata": {
        "id": "20a864a5"
      },
      "source": [
        "## 11) Plots: Predicted vs Actual (Test set)"
      ]
    },
    {
      "cell_type": "code",
      "execution_count": 12,
      "id": "91c900a9",
      "metadata": {
        "colab": {
          "base_uri": "https://localhost:8080/",
          "height": 641
        },
        "id": "91c900a9",
        "outputId": "f227516e-6713-4ec9-9669-2c73960dcad2"
      },
      "outputs": [
        {
          "output_type": "display_data",
          "data": {
            "text/plain": [
              "<Figure size 1000x400 with 1 Axes>"
            ],
            "image/png": "[encoded data removed]"
          },
          "metadata": {}
        },
        {
          "output_type": "display_data",
          "data": {
            "text/plain": [
              "<Figure size 1000x400 with 1 Axes>"
            ],
            "image/png": "[encoded data removed]"
          },
          "metadata": {}
        }
      ],
      "source": [
        "\n",
        "plt.figure(figsize=(10,4))\n",
        "plt.plot(ffn_true_raw, label=\"Actual\")\n",
        "plt.plot(ffn_pred_raw, label=\"FFN Pred\")\n",
        "plt.title(\"FFN: Predicted vs Actual (Test)\")\n",
        "plt.xlabel(\"Time (test index)\")\n",
        "plt.ylabel(\"Price\")\n",
        "plt.legend()\n",
        "plt.show()\n",
        "\n",
        "plt.figure(figsize=(10,4))\n",
        "plt.plot(lstm_true_raw, label=\"Actual\")\n",
        "plt.plot(lstm_pred_raw, label=\"LSTM Pred\")\n",
        "plt.title(\"LSTM: Predicted vs Actual (Test)\")\n",
        "plt.xlabel(\"Time (test index)\")\n",
        "plt.ylabel(\"Price\")\n",
        "plt.legend()\n",
        "plt.show()\n",
        "\n",
        "if gru_mae_test is not None:\n",
        "    plt.figure(figsize=(10,4))\n",
        "    plt.plot(gru_true_raw, label=\"Actual\")\n",
        "    plt.plot(gru_pred_raw, label=\"GRU Pred\")\n",
        "    plt.title(\"GRU: Predicted vs Actual (Test)\")\n",
        "    plt.xlabel(\"Time (test index)\")\n",
        "    plt.ylabel(\"Price\")\n",
        "    plt.legend()\n",
        "    plt.show()\n"
      ]
    },
    {
      "cell_type": "markdown",
      "id": "77cb157d",
      "metadata": {
        "id": "77cb157d"
      },
      "source": [
        "## 12) Compare MAE"
      ]
    },
    {
      "cell_type": "code",
      "execution_count": 13,
      "id": "25c6a344",
      "metadata": {
        "colab": {
          "base_uri": "https://localhost:8080/"
        },
        "id": "25c6a344",
        "outputId": "c4ec2e06-69a3-4b92-d972-3f04a930c349"
      },
      "outputs": [
        {
          "output_type": "stream",
          "name": "stdout",
          "text": [
            "  Model  Test MAE (scaled)\n",
            "0   FFN           0.041140\n",
            "1  LSTM           0.256782\n",
            "\n",
            "   Model  Test MAE (original price units)\n",
            "0   FFN                         8.383717\n",
            "1  LSTM                        52.328773\n"
          ]
        }
      ],
      "source": [
        "\n",
        "rows = [(\"FFN\", ffn_mae_test)]\n",
        "rows.append((\"LSTM\", lstm_mae_test))\n",
        "if gru_mae_test is not None:\n",
        "    rows.append((\"GRU\", gru_mae_test))\n",
        "\n",
        "df_scores = pd.DataFrame(rows, columns=[\"Model\", \"Test MAE (scaled)\"])\n",
        "print(df_scores)\n",
        "\n",
        "# Also compute MAE on de-normalized scale for clearer interpretation (using overlapping true series)\n",
        "def mae_raw(true_raw, pred_raw):\n",
        "    return float(np.mean(np.abs(true_raw - pred_raw)))\n",
        "\n",
        "raw_rows = [(\"FFN\", mae_raw(ffn_true_raw, ffn_pred_raw)),\n",
        "            (\"LSTM\", mae_raw(lstm_true_raw, lstm_pred_raw))]\n",
        "if gru_mae_test is not None:\n",
        "    raw_rows.append((\"GRU\", mae_raw(gru_true_raw, gru_pred_raw)))\n",
        "\n",
        "df_scores_raw = pd.DataFrame(raw_rows, columns=[\"Model\", \"Test MAE (original price units)\"])\n",
        "print(\"\\n\", df_scores_raw)\n"
      ]
    },
    {
      "cell_type": "markdown",
      "id": "5f18e43b",
      "metadata": {
        "id": "5f18e43b"
      },
      "source": [
        "## 13) Quick sequence-length sweep (small demo)"
      ]
    },
    {
      "cell_type": "code",
      "execution_count": 14,
      "id": "68c8f160",
      "metadata": {
        "colab": {
          "base_uri": "https://localhost:8080/",
          "height": 525
        },
        "id": "68c8f160",
        "outputId": "9f230b7f-5f01-4c86-dc8b-17d4ca1180d0"
      },
      "outputs": [
        {
          "output_type": "stream",
          "name": "stdout",
          "text": [
            "Epoch 01 | train MAE: 0.36756 | val MAE: 0.53838\n",
            "Epoch 02 | train MAE: 0.26389 | val MAE: 0.40024\n",
            "Epoch 03 | train MAE: 0.14994 | val MAE: 0.16193\n",
            "Epoch 04 | train MAE: 0.12097 | val MAE: 0.12294\n",
            "Epoch 05 | train MAE: 0.10578 | val MAE: 0.22441\n",
            "Epoch 06 | train MAE: 0.10828 | val MAE: 0.19265\n",
            "Epoch 07 | train MAE: 0.09684 | val MAE: 0.12506\n",
            "Early stopping.\n",
            "Epoch 01 | train MAE: 0.27524 | val MAE: 0.41544\n",
            "Epoch 02 | train MAE: 0.17083 | val MAE: 0.23423\n",
            "Epoch 03 | train MAE: 0.11604 | val MAE: 0.11404\n",
            "Epoch 04 | train MAE: 0.10669 | val MAE: 0.20507\n",
            "Epoch 05 | train MAE: 0.10409 | val MAE: 0.19265\n",
            "Epoch 06 | train MAE: 0.09809 | val MAE: 0.14040\n",
            "Early stopping.\n",
            "Epoch 01 | train MAE: 0.43744 | val MAE: 0.57820\n",
            "Epoch 02 | train MAE: 0.32113 | val MAE: 0.43098\n",
            "Epoch 03 | train MAE: 0.16787 | val MAE: 0.11045\n",
            "Epoch 04 | train MAE: 0.12620 | val MAE: 0.16325\n",
            "Epoch 05 | train MAE: 0.10293 | val MAE: 0.22556\n",
            "Epoch 06 | train MAE: 0.10176 | val MAE: 0.15746\n",
            "Early stopping.\n"
          ]
        },
        {
          "output_type": "execute_result",
          "data": {
            "text/plain": [
              "   seq_len  mae_scaled\n",
              "0       10    0.258767\n",
              "1       20    0.256091\n",
              "2       60    0.270822"
            ],
            "text/html": [
              "\n",
              "  <div id=\"df-dbfb33e5-3baf-4c78-b6fe-3c0f63dbbc1b\" class=\"colab-df-container\">\n",
              "    <div>\n",
              "<style scoped>\n",
              "    .dataframe tbody tr th:only-of-type {\n",
              "        vertical-align: middle;\n",
              "    }\n",
              "\n",
              "    .dataframe tbody tr th {\n",
              "        vertical-align: top;\n",
              "    }\n",
              "\n",
              "    .dataframe thead th {\n",
              "        text-align: right;\n",
              "    }\n",
              "</style>\n",
              "<table border=\"1\" class=\"dataframe\">\n",
              "  <thead>\n",
              "    <tr style=\"text-align: right;\">\n",
              "      <th></th>\n",
              "      <th>seq_len</th>\n",
              "      <th>mae_scaled</th>\n",
              "    </tr>\n",
              "  </thead>\n",
              "  <tbody>\n",
              "    <tr>\n",
              "      <th>0</th>\n",
              "      <td>10</td>\n",
              "      <td>0.258767</td>\n",
              "    </tr>\n",
              "    <tr>\n",
              "      <th>1</th>\n",
              "      <td>20</td>\n",
              "      <td>0.256091</td>\n",
              "    </tr>\n",
              "    <tr>\n",
              "      <th>2</th>\n",
              "      <td>60</td>\n",
              "      <td>0.270822</td>\n",
              "    </tr>\n",
              "  </tbody>\n",
              "</table>\n",
              "</div>\n",
              "    <div class=\"colab-df-buttons\">\n",
              "\n",
              "  <div class=\"colab-df-container\">\n",
              "    <button class=\"colab-df-convert\" onclick=\"convertToInteractive('df-dbfb33e5-3baf-4c78-b6fe-3c0f63dbbc1b')\"\n",
              "            title=\"Convert this dataframe to an interactive table.\"\n",
              "            style=\"display:none;\">\n",
              "\n",
              "  <svg xmlns=\"http://www.w3.org/2000/svg\" height=\"24px\" viewBox=\"0 -960 960 960\">\n",
              "    <path d=\"M120-120v-720h720v720H120Zm60-500h600v-160H180v160Zm220 220h160v-160H400v160Zm0 220h160v-160H400v160ZM180-400h160v-160H180v160Zm440 0h160v-160H620v160ZM180-180h160v-160H180v160Zm440 0h160v-160H620v160Z\"/>\n",
              "  </svg>\n",
              "    </button>\n",
              "\n",
              "  <style>\n",
              "    .colab-df-container {\n",
              "      display:flex;\n",
              "      gap: 12px;\n",
              "    }\n",
              "\n",
              "    .colab-df-convert {\n",
              "      background-color: #E8F0FE;\n",
              "      border: none;\n",
              "      border-radius: 50%;\n",
              "      cursor: pointer;\n",
              "      display: none;\n",
              "      fill: #1967D2;\n",
              "      height: 32px;\n",
              "      padding: 0 0 0 0;\n",
              "      width: 32px;\n",
              "    }\n",
              "\n",
              "    .colab-df-convert:hover {\n",
              "      background-color: #E2EBFA;\n",
              "      box-shadow: 0px 1px 2px rgba(60, 64, 67, 0.3), 0px 1px 3px 1px rgba(60, 64, 67, 0.15);\n",
              "      fill: #174EA6;\n",
              "    }\n",
              "\n",
              "    .colab-df-buttons div {\n",
              "      margin-bottom: 4px;\n",
              "    }\n",
              "\n",
              "    [theme=dark] .colab-df-convert {\n",
              "      background-color: #3B4455;\n",
              "      fill: #D2E3FC;\n",
              "    }\n",
              "\n",
              "    [theme=dark] .colab-df-convert:hover {\n",
              "      background-color: #434B5C;\n",
              "      box-shadow: 0px 1px 3px 1px rgba(0, 0, 0, 0.15);\n",
              "      filter: drop-shadow(0px 1px 2px rgba(0, 0, 0, 0.3));\n",
              "      fill: #FFFFFF;\n",
              "    }\n",
              "  </style>\n",
              "\n",
              "    <script>\n",
              "      const buttonEl =\n",
              "        document.querySelector('#df-dbfb33e5-3baf-4c78-b6fe-3c0f63dbbc1b button.colab-df-convert');\n",
              "      buttonEl.style.display =\n",
              "        google.colab.kernel.accessAllowed ? 'block' : 'none';\n",
              "\n",
              "      async function convertToInteractive(key) {\n",
              "        const element = document.querySelector('#df-dbfb33e5-3baf-4c78-b6fe-3c0f63dbbc1b');\n",
              "        const dataTable =\n",
              "          await google.colab.kernel.invokeFunction('convertToInteractive',\n",
              "                                                    [key], {});\n",
              "        if (!dataTable) return;\n",
              "\n",
              "        const docLinkHtml = 'Like what you see? Visit the ' +\n",
              "          '<a target=\"_blank\" href=https://colab.research.google.com/notebooks/data_table.ipynb>data table notebook</a>'\n",
              "          + ' to learn more about interactive tables.';\n",
              "        element.innerHTML = '';\n",
              "        dataTable['output_type'] = 'display_data';\n",
              "        await google.colab.output.renderOutput(dataTable, element);\n",
              "        const docLink = document.createElement('div');\n",
              "        docLink.innerHTML = docLinkHtml;\n",
              "        element.appendChild(docLink);\n",
              "      }\n",
              "    </script>\n",
              "  </div>\n",
              "\n",
              "\n",
              "    <div id=\"df-d2959063-a580-42ad-b65d-bd59de0b41ed\">\n",
              "      <button class=\"colab-df-quickchart\" onclick=\"quickchart('df-d2959063-a580-42ad-b65d-bd59de0b41ed')\"\n",
              "                title=\"Suggest charts\"\n",
              "                style=\"display:none;\">\n",
              "\n",
              "<svg xmlns=\"http://www.w3.org/2000/svg\" height=\"24px\"viewBox=\"0 0 24 24\"\n",
              "     width=\"24px\">\n",
              "    <g>\n",
              "        <path d=\"M19 3H5c-1.1 0-2 .9-2 2v14c0 1.1.9 2 2 2h14c1.1 0 2-.9 2-2V5c0-1.1-.9-2-2-2zM9 17H7v-7h2v7zm4 0h-2V7h2v10zm4 0h-2v-4h2v4z\"/>\n",
              "    </g>\n",
              "</svg>\n",
              "      </button>\n",
              "\n",
              "<style>\n",
              "  .colab-df-quickchart {\n",
              "      --bg-color: #E8F0FE;\n",
              "      --fill-color: #1967D2;\n",
              "      --hover-bg-color: #E2EBFA;\n",
              "      --hover-fill-color: #174EA6;\n",
              "      --disabled-fill-color: #AAA;\n",
              "      --disabled-bg-color: #DDD;\n",
              "  }\n",
              "\n",
              "  [theme=dark] .colab-df-quickchart {\n",
              "      --bg-color: #3B4455;\n",
              "      --fill-color: #D2E3FC;\n",
              "      --hover-bg-color: #434B5C;\n",
              "      --hover-fill-color: #FFFFFF;\n",
              "      --disabled-bg-color: #3B4455;\n",
              "      --disabled-fill-color: #666;\n",
              "  }\n",
              "\n",
              "  .colab-df-quickchart {\n",
              "    background-color: var(--bg-color);\n",
              "    border: none;\n",
              "    border-radius: 50%;\n",
              "    cursor: pointer;\n",
              "    display: none;\n",
              "    fill: var(--fill-color);\n",
              "    height: 32px;\n",
              "    padding: 0;\n",
              "    width: 32px;\n",
              "  }\n",
              "\n",
              "  .colab-df-quickchart:hover {\n",
              "    background-color: var(--hover-bg-color);\n",
              "    box-shadow: 0 1px 2px rgba(60, 64, 67, 0.3), 0 1px 3px 1px rgba(60, 64, 67, 0.15);\n",
              "    fill: var(--button-hover-fill-color);\n",
              "  }\n",
              "\n",
              "  .colab-df-quickchart-complete:disabled,\n",
              "  .colab-df-quickchart-complete:disabled:hover {\n",
              "    background-color: var(--disabled-bg-color);\n",
              "    fill: var(--disabled-fill-color);\n",
              "    box-shadow: none;\n",
              "  }\n",
              "\n",
              "  .colab-df-spinner {\n",
              "    border: 2px solid var(--fill-color);\n",
              "    border-color: transparent;\n",
              "    border-bottom-color: var(--fill-color);\n",
              "    animation:\n",
              "      spin 1s steps(1) infinite;\n",
              "  }\n",
              "\n",
              "  @keyframes spin {\n",
              "    0% {\n",
              "      border-color: transparent;\n",
              "      border-bottom-color: var(--fill-color);\n",
              "      border-left-color: var(--fill-color);\n",
              "    }\n",
              "    20% {\n",
              "      border-color: transparent;\n",
              "      border-left-color: var(--fill-color);\n",
              "      border-top-color: var(--fill-color);\n",
              "    }\n",
              "    30% {\n",
              "      border-color: transparent;\n",
              "      border-left-color: var(--fill-color);\n",
              "      border-top-color: var(--fill-color);\n",
              "      border-right-color: var(--fill-color);\n",
              "    }\n",
              "    40% {\n",
              "      border-color: transparent;\n",
              "      border-right-color: var(--fill-color);\n",
              "      border-top-color: var(--fill-color);\n",
              "    }\n",
              "    60% {\n",
              "      border-color: transparent;\n",
              "      border-right-color: var(--fill-color);\n",
              "    }\n",
              "    80% {\n",
              "      border-color: transparent;\n",
              "      border-right-color: var(--fill-color);\n",
              "      border-bottom-color: var(--fill-color);\n",
              "    }\n",
              "    90% {\n",
              "      border-color: transparent;\n",
              "      border-bottom-color: var(--fill-color);\n",
              "    }\n",
              "  }\n",
              "</style>\n",
              "\n",
              "      <script>\n",
              "        async function quickchart(key) {\n",
              "          const quickchartButtonEl =\n",
              "            document.querySelector('#' + key + ' button');\n",
              "          quickchartButtonEl.disabled = true;  // To prevent multiple clicks.\n",
              "          quickchartButtonEl.classList.add('colab-df-spinner');\n",
              "          try {\n",
              "            const charts = await google.colab.kernel.invokeFunction(\n",
              "                'suggestCharts', [key], {});\n",
              "          } catch (error) {\n",
              "            console.error('Error during call to suggestCharts:', error);\n",
              "          }\n",
              "          quickchartButtonEl.classList.remove('colab-df-spinner');\n",
              "          quickchartButtonEl.classList.add('colab-df-quickchart-complete');\n",
              "        }\n",
              "        (() => {\n",
              "          let quickchartButtonEl =\n",
              "            document.querySelector('#df-d2959063-a580-42ad-b65d-bd59de0b41ed button');\n",
              "          quickchartButtonEl.style.display =\n",
              "            google.colab.kernel.accessAllowed ? 'block' : 'none';\n",
              "        })();\n",
              "      </script>\n",
              "    </div>\n",
              "\n",
              "    </div>\n",
              "  </div>\n"
            ],
            "application/vnd.google.colaboratory.intrinsic+json": {
              "type": "dataframe",
              "summary": "{\n  \"name\": \"pd\",\n  \"rows\": 3,\n  \"fields\": [\n    {\n      \"column\": \"seq_len\",\n      \"properties\": {\n        \"dtype\": \"number\",\n        \"std\": 26,\n        \"min\": 10,\n        \"max\": 60,\n        \"num_unique_values\": 3,\n        \"samples\": [\n          10,\n          20,\n          60\n        ],\n        \"semantic_type\": \"\",\n        \"description\": \"\"\n      }\n    },\n    {\n      \"column\": \"mae_scaled\",\n      \"properties\": {\n        \"dtype\": \"number\",\n        \"std\": 0.007847534567261661,\n        \"min\": 0.25609076023101807,\n        \"max\": 0.2708222270011902,\n        \"num_unique_values\": 3,\n        \"samples\": [\n          0.2587672173976898,\n          0.25609076023101807,\n          0.2708222270011902\n        ],\n        \"semantic_type\": \"\",\n        \"description\": \"\"\n      }\n    }\n  ]\n}"
            }
          },
          "metadata": {},
          "execution_count": 14
        }
      ],
      "source": [
        "\n",
        "def quick_eval_for_seq_len(seq_len: int) -> Dict[str, float]:\n",
        "    local_cfg = WindowConfig(seq_len=seq_len, horizon=1, stride=1, train_ratio=cfg.train_ratio, val_ratio=cfg.val_ratio)\n",
        "    X2, y2 = make_windows(series_scaled, local_cfg)\n",
        "    (X2tr, y2tr), (X2v, y2v), (X2te, y2te) = time_split(X2, y2, local_cfg)\n",
        "\n",
        "    # RNN loader (use LSTM)\n",
        "    tr = DataLoader(SeqDataset(X2tr, y2tr, rnn=True), batch_size=BATCH, shuffle=True)\n",
        "    va = DataLoader(SeqDataset(X2v, y2v, rnn=True), batch_size=BATCH, shuffle=False)\n",
        "    te = DataLoader(SeqDataset(X2te, y2te, rnn=True), batch_size=BATCH, shuffle=False)\n",
        "\n",
        "    model = LSTMRegressor(input_size=1, hidden_size=64, num_layers=1, dropout=0.2, bidirectional=False).to(DEVICE)\n",
        "    tc = TrainConfig(epochs=10, lr=1e-3, weight_decay=1e-6, patience=3, model_type=\"LSTM\")\n",
        "    model, _ = train_model(model, {\"train\": tr, \"val\": va}, tc)\n",
        "    mae_scaled, _, _ = evaluate_model(model, te)\n",
        "    return {\"seq_len\": seq_len, \"mae_scaled\": mae_scaled}\n",
        "\n",
        "seq_lengths = [10, 20, 60]\n",
        "results = [quick_eval_for_seq_len(L) for L in seq_lengths]\n",
        "pd.DataFrame(results)\n"
      ]
    }
  ],
  "metadata": {
    "colab": {
      "provenance": [],
      "gpuType": "T4"
    },
    "language_info": {
      "name": "python"
    },
    "kernelspec": {
      "name": "python3",
      "display_name": "Python 3"
    },
    "accelerator": "GPU"
  },
  "nbformat": 4,
  "nbformat_minor": 5
}