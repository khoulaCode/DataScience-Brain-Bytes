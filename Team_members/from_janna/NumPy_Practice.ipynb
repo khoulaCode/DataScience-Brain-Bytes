{
 "cells": [
  {
   "cell_type": "markdown",
   "id": "bd133904-6785-492a-b555-146009f5fcc6",
   "metadata": {},
   "source": [
    "# **NumPy Practice**"
   ]
  },
  {
   "cell_type": "markdown",
   "id": "4a422510-689c-41a1-9acc-a428473f60aa",
   "metadata": {},
   "source": [
    "##### Importing ```NumPy``` "
   ]
  },
  {
   "cell_type": "code",
   "execution_count": 2,
   "id": "363de75e-9fd4-462b-9440-fc40733ee798",
   "metadata": {},
   "outputs": [],
   "source": [
    "import numpy as np"
   ]
  },
  {
   "cell_type": "markdown",
   "id": "9e0d46f3-0af4-47ac-b14e-d6fc705993b2",
   "metadata": {},
   "source": [
    "### **Part 1:** Array Creation and Properties\n",
    "##### 1. Create a 1D array named ```arr1d``` with integers ```from 0 to 9```"
   ]
  },
  {
   "cell_type": "code",
   "execution_count": 3,
   "id": "5f01f0b8-cb02-47f6-91a4-da39d8ff8891",
   "metadata": {},
   "outputs": [
    {
     "data": {
      "text/plain": [
       "array([0, 1, 2, 3, 4, 5, 6, 7, 8, 9])"
      ]
     },
     "execution_count": 3,
     "metadata": {},
     "output_type": "execute_result"
    }
   ],
   "source": [
    "arr1d = np.arange(0,10)\n",
    "arr1d"
   ]
  },
  {
   "cell_type": "markdown",
   "id": "939379dd-8ad7-4759-b8e8-b83ef59d9efd",
   "metadata": {},
   "source": [
    "##### 2. Create a 2D array named ```arr2d``` with shape ```(3, 3)``` filled with ```ones```"
   ]
  },
  {
   "cell_type": "code",
   "execution_count": 4,
   "id": "2ed71bdf-dc6e-4b1b-8560-4e3f02e1ce0c",
   "metadata": {},
   "outputs": [
    {
     "data": {
      "text/plain": [
       "array([[1., 1., 1.],\n",
       "       [1., 1., 1.],\n",
       "       [1., 1., 1.]])"
      ]
     },
     "execution_count": 4,
     "metadata": {},
     "output_type": "execute_result"
    }
   ],
   "source": [
    "arr2d = np.ones((3,3))\n",
    "arr2d"
   ]
  },
  {
   "cell_type": "markdown",
   "id": "1ec13633-8726-4236-b07d-cace3396c024",
   "metadata": {},
   "source": [
    "##### 3. Create a ```3x3``` array named ```random_matrix``` with random floating-point numbers from a standard normal distribution"
   ]
  },
  {
   "cell_type": "code",
   "execution_count": 5,
   "id": "dce032f0-5b12-4be9-9e39-bf7b3a246ecb",
   "metadata": {},
   "outputs": [
    {
     "data": {
      "text/plain": [
       "array([[-0.01433273,  0.43249479, -0.57354159],\n",
       "       [-1.13390544,  0.6250827 ,  0.05759547],\n",
       "       [-1.12817958,  0.82194981,  0.01474677]])"
      ]
     },
     "execution_count": 5,
     "metadata": {},
     "output_type": "execute_result"
    }
   ],
   "source": [
    "random_matrix = np.random.randn(3, 3)\n",
    "random_matrix"
   ]
  },
  {
   "cell_type": "markdown",
   "id": "44ef6ac2-fabd-4880-85c9-be68a00e2e0a",
   "metadata": {},
   "source": [
    "##### 4. Create an array named ```even_numbers``` containing even numbers ```from 10 to 50 (inclusive)```"
   ]
  },
  {
   "cell_type": "code",
   "execution_count": 6,
   "id": "2e843c7a-ca14-49a3-acc4-0e5f9545a71b",
   "metadata": {},
   "outputs": [
    {
     "data": {
      "text/plain": [
       "array([10, 12, 14, 16, 18, 20, 22, 24, 26, 28, 30, 32, 34, 36, 38, 40, 42,\n",
       "       44, 46, 48, 50])"
      ]
     },
     "execution_count": 6,
     "metadata": {},
     "output_type": "execute_result"
    }
   ],
   "source": [
    "even_numbers = np.arange(10, 51, 2)\n",
    "even_numbers"
   ]
  },
  {
   "cell_type": "markdown",
   "id": "c01d1ad2-9eeb-4ce2-897f-e210317bedea",
   "metadata": {},
   "source": [
    "##### 5. Create an array named ```linspace_array``` containing ```7``` equally spaced numbers ```between 0 and 1 (inclusive)```"
   ]
  },
  {
   "cell_type": "code",
   "execution_count": 7,
   "id": "369d4985-a9ee-45bf-9d4c-32f15fdce96c",
   "metadata": {},
   "outputs": [
    {
     "data": {
      "text/plain": [
       "array([0.        , 0.16666667, 0.33333333, 0.5       , 0.66666667,\n",
       "       0.83333333, 1.        ])"
      ]
     },
     "execution_count": 7,
     "metadata": {},
     "output_type": "execute_result"
    }
   ],
   "source": [
    "linspace_array = np.linspace(0, 1, 7)\n",
    "linspace_array"
   ]
  },
  {
   "cell_type": "markdown",
   "id": "7f76f182-5f85-4a83-acc3-444c18b4f34f",
   "metadata": {},
   "source": [
    "##### 6. Given ```arr = np.array([[1, 2, 3], [4, 5, 6]])```, what is its shape, ndim, and dtype? Print them"
   ]
  },
  {
   "cell_type": "code",
   "execution_count": 8,
   "id": "05fbb023-cdab-49f6-931e-8225f8551d7e",
   "metadata": {},
   "outputs": [
    {
     "name": "stdout",
     "output_type": "stream",
     "text": [
      "(2, 3)\n",
      "2\n",
      "int32\n"
     ]
    }
   ],
   "source": [
    "arr = np.array([[1, 2, 3], [4, 5, 6]])\n",
    "print(arr.shape)\n",
    "print(arr.ndim)\n",
    "print(arr.dtype)"
   ]
  },
  {
   "cell_type": "markdown",
   "id": "89ab8bad-894c-4b03-a1ca-456109147145",
   "metadata": {},
   "source": [
    "### Part 2: Array Manipulation\n",
    "##### 7. Reshape arr1d (from Q1) into a ```2x5``` 2D array. Name the new array ```reshaped_arr```"
   ]
  },
  {
   "cell_type": "code",
   "execution_count": 9,
   "id": "27cda5b7-6355-4468-b10c-4b981588317e",
   "metadata": {},
   "outputs": [
    {
     "name": "stdout",
     "output_type": "stream",
     "text": [
      "reshaped_arr:\n",
      " [[0 1 2 3 4]\n",
      " [5 6 7 8 9]]\n"
     ]
    }
   ],
   "source": [
    "reshaped_arr = arr1d.reshape(2, 5)\n",
    "print(\"reshaped_arr:\\n\", reshaped_arr)"
   ]
  },
  {
   "cell_type": "markdown",
   "id": "5bce0147-34c7-45fd-adf5-ce735e29afce",
   "metadata": {},
   "source": [
    "##### 8. Transpose ```reshaped_arr``` (from Q7). Name the result ```transposed_arr```"
   ]
  },
  {
   "cell_type": "code",
   "execution_count": 10,
   "id": "72ca6f3b-805d-4125-b6bc-e17d9d21c2a2",
   "metadata": {},
   "outputs": [
    {
     "name": "stdout",
     "output_type": "stream",
     "text": [
      "transposed_arr:\n",
      " [[0 5]\n",
      " [1 6]\n",
      " [2 7]\n",
      " [3 8]\n",
      " [4 9]]\n"
     ]
    }
   ],
   "source": [
    "transposed_arr = reshaped_arr.T\n",
    "print(\"transposed_arr:\\n\", transposed_arr)"
   ]
  },
  {
   "cell_type": "markdown",
   "id": "f401afd3-1845-48e2-9734-ce67ecc0d6c7",
   "metadata": {},
   "source": [
    "##### 9. Stack two 1D arrays ```a = np.array([1, 2, 3])``` and ```b = np.array([4, 5, 6])``` vertically"
   ]
  },
  {
   "cell_type": "code",
   "execution_count": 11,
   "id": "d120dff3-4229-42be-b209-3135902dbc0f",
   "metadata": {},
   "outputs": [
    {
     "name": "stdout",
     "output_type": "stream",
     "text": [
      "Vertically Stacked:\n",
      " [[1 2 3]\n",
      " [4 5 6]]\n"
     ]
    }
   ],
   "source": [
    "a = np.array([1, 2, 3])\n",
    "b = np.array([4, 5, 6])\n",
    "stacked_vertically = np.vstack((a, b))\n",
    "print(\"Vertically Stacked:\\n\", stacked_vertically)"
   ]
  },
  {
   "cell_type": "markdown",
   "id": "8d6cf512-de7c-49bc-b1ed-52e91506ee4f",
   "metadata": {},
   "source": [
    "##### 10. Stack two 2D arrays ```m1 = np.array([[1, 2], [3, 4]])``` and ```m2 = np.array([[5, 6], [7, 8]])``` horizontally."
   ]
  },
  {
   "cell_type": "code",
   "execution_count": 12,
   "id": "b68a2ab4-a4df-4ee0-bed3-c39d05c12ca3",
   "metadata": {},
   "outputs": [
    {
     "name": "stdout",
     "output_type": "stream",
     "text": [
      "Horizontally Stacked:\n",
      " [[1 2 5 6]\n",
      " [3 4 7 8]]\n"
     ]
    }
   ],
   "source": [
    "m1 = np.array([[1, 2], [3, 4]])\n",
    "m2 = np.array([[5, 6], [7, 8]])\n",
    "stacked_horizontally = np.hstack((m1, m2))\n",
    "print(\"Horizontally Stacked:\\n\", stacked_horizontally)"
   ]
  },
  {
   "cell_type": "markdown",
   "id": "9e61475f-8441-469a-91a6-fb21dc106316",
   "metadata": {},
   "source": [
    "##### 11. Split the array ```arr_to_split = np.arange(16).reshape(4, 4)``` horizontally into 2 equal parts. Print both parts"
   ]
  },
  {
   "cell_type": "code",
   "execution_count": 14,
   "id": "c0159415-6c45-4b69-8b27-69b01e6e0322",
   "metadata": {},
   "outputs": [
    {
     "data": {
      "text/plain": [
       "array([[ 0,  1,  2,  3],\n",
       "       [ 4,  5,  6,  7],\n",
       "       [ 8,  9, 10, 11],\n",
       "       [12, 13, 14, 15]])"
      ]
     },
     "execution_count": 14,
     "metadata": {},
     "output_type": "execute_result"
    }
   ],
   "source": [
    "arr_to_split = np.arange(16).reshape(4, 4)\n",
    "arr_to_split"
   ]
  },
  {
   "cell_type": "code",
   "execution_count": 15,
   "id": "28e6b75f-9da5-45ab-9ff7-e747db555183",
   "metadata": {},
   "outputs": [
    {
     "name": "stdout",
     "output_type": "stream",
     "text": [
      "Horizontal Split - Part 1:\n",
      " [[ 0  1]\n",
      " [ 4  5]\n",
      " [ 8  9]\n",
      " [12 13]]\n",
      "Horizontal Split - Part 2:\n",
      " [[ 2  3]\n",
      " [ 6  7]\n",
      " [10 11]\n",
      " [14 15]]\n"
     ]
    }
   ],
   "source": [
    "h_split = np.hsplit(arr_to_split, 2)\n",
    "print(\"Horizontal Split - Part 1:\\n\", h_split[0])\n",
    "print(\"Horizontal Split - Part 2:\\n\", h_split[1])"
   ]
  },
  {
   "cell_type": "markdown",
   "id": "1f234a94-a1db-438f-98e0-0b3f98749cd6",
   "metadata": {},
   "source": [
    "##### 12. Split the array arr_to_split (from Q11) vertically at index 2 (i.e., into two parts: first two rows, and last two rows). Print both parts"
   ]
  },
  {
   "cell_type": "code",
   "execution_count": 16,
   "id": "2a52bd94-f183-42ae-bb19-140405e96bb8",
   "metadata": {},
   "outputs": [
    {
     "name": "stdout",
     "output_type": "stream",
     "text": [
      "Vertical Split - Part 1:\n",
      " [[0 1 2 3]\n",
      " [4 5 6 7]]\n",
      "Vertical Split - Part 2:\n",
      " [[ 8  9 10 11]\n",
      " [12 13 14 15]]\n"
     ]
    }
   ],
   "source": [
    "v_split = np.vsplit(arr_to_split, 2)\n",
    "print(\"Vertical Split - Part 1:\\n\", v_split[0])\n",
    "print(\"Vertical Split - Part 2:\\n\", v_split[1])"
   ]
  },
  {
   "cell_type": "markdown",
   "id": "a9762ba2-767f-42b5-acf5-d2a1faf5c731",
   "metadata": {},
   "source": [
    "### Part 3:  Indexing, Slicing, and Boolean Indexing\n",
    "##### 13. Given ```data = np.array([[10, 11, 12], [13, 14, 15], [16, 17, 18]])```, extract the element at row 1, column 2"
   ]
  },
  {
   "cell_type": "code",
   "execution_count": 18,
   "id": "69887f36-8826-494f-b72b-7bf442e422b8",
   "metadata": {},
   "outputs": [
    {
     "name": "stdout",
     "output_type": "stream",
     "text": [
      "Element: 15\n"
     ]
    }
   ],
   "source": [
    "data = np.array([[10, 11, 12], [13, 14, 15], [16, 17, 18]])\n",
    "element = data[1, 2]\n",
    "print(\"Element:\", element)"
   ]
  },
  {
   "cell_type": "markdown",
   "id": "764174b4-f366-4084-89d7-7f81ba03fa47",
   "metadata": {},
   "source": [
    "##### 14. From the data array (from Q13), extract the first two rows and all columns"
   ]
  },
  {
   "cell_type": "code",
   "execution_count": 19,
   "id": "6b1d3e25-b585-457e-8b11-4e7e78802f98",
   "metadata": {},
   "outputs": [
    {
     "name": "stdout",
     "output_type": "stream",
     "text": [
      "First two rows:\n",
      " [[10 11 12]\n",
      " [13 14 15]]\n"
     ]
    }
   ],
   "source": [
    "part = data[:2, :]\n",
    "print(\"First two rows:\\n\", part)"
   ]
  },
  {
   "cell_type": "markdown",
   "id": "e72eed51-3660-4093-a397-20d13fae3fc0",
   "metadata": {},
   "source": [
    "##### 15. From the data array (from Q13), extract the elements ```11, 15, and 17``` using fancy indexing (hint: you'll need to specify rows and columns)"
   ]
  },
  {
   "cell_type": "code",
   "execution_count": 22,
   "id": "5f3b6db3-1bc6-46a8-96d6-94f56d8398d5",
   "metadata": {},
   "outputs": [
    {
     "name": "stdout",
     "output_type": "stream",
     "text": [
      "Fancy Indexed Elements: [11 15 17]\n"
     ]
    }
   ],
   "source": [
    "fancy = data[[0, 1, 2], [1, 2, 1]] # data[[R1,R2,R3], [C1,C2,C3]]\n",
    "print(\"Fancy Indexed Elements:\", fancy)"
   ]
  },
  {
   "cell_type": "markdown",
   "id": "c28b9718-e0fa-4be7-a92b-27c9439fb81b",
   "metadata": {},
   "source": [
    "##### 16. Given ```scores = np.array([85, 92, 78, 65, 95, 88])```, use boolean indexing to find all scores greater than 80"
   ]
  },
  {
   "cell_type": "code",
   "execution_count": 23,
   "id": "8c429423-ed34-4880-a8e7-70553788163a",
   "metadata": {},
   "outputs": [
    {
     "name": "stdout",
     "output_type": "stream",
     "text": [
      "Scores > 80: [85 92 95 88]\n"
     ]
    }
   ],
   "source": [
    "scores = np.array([85, 92, 78, 65, 95, 88])\n",
    "high_scores = scores[scores > 80]\n",
    "print(\"Scores > 80:\", high_scores)"
   ]
  },
  {
   "cell_type": "markdown",
   "id": "d02d2258-b2bf-4df4-9942-f30c41acfb9c",
   "metadata": {},
   "source": [
    "### Part 4: Numerical Operations and Aggregations\n",
    "##### 17. Given ```arr_op1 = np.array([10, 20, 30])``` and ```arr_op2 = np.array([2, 4, 6])```, perform element-wise multiplication and division ```(arr_op1 / arr_op2)```"
   ]
  },
  {
   "cell_type": "code",
   "execution_count": 24,
   "id": "270781f6-5736-48a5-a7e6-2aa4590c9589",
   "metadata": {},
   "outputs": [
    {
     "name": "stdout",
     "output_type": "stream",
     "text": [
      "Multiplication: [ 20  80 180]\n",
      "Division: [5. 5. 5.]\n"
     ]
    }
   ],
   "source": [
    "arr_op1 = np.array([10, 20, 30])\n",
    "arr_op2 = np.array([2, 4, 6])\n",
    "product = arr_op1 * arr_op2\n",
    "division = arr_op1 / arr_op2\n",
    "print(\"Multiplication:\", product)\n",
    "print(\"Division:\", division)"
   ]
  },
  {
   "cell_type": "markdown",
   "id": "065d868d-cb95-41c2-a2e3-630d75db28e1",
   "metadata": {},
   "source": [
    "##### 18. Given ```matrix = np.array([[1, 2, 3], [4, 5, 6], [7, 8, 9]])```, calculate the sum of all elements in the matrix"
   ]
  },
  {
   "cell_type": "code",
   "execution_count": 25,
   "id": "cce3a131-6b4d-4a24-9b30-8b63341d7464",
   "metadata": {},
   "outputs": [
    {
     "name": "stdout",
     "output_type": "stream",
     "text": [
      "Sum: 45\n"
     ]
    }
   ],
   "source": [
    "matrix = np.array([[1, 2, 3], [4, 5, 6], [7, 8, 9]])\n",
    "total = matrix.sum()\n",
    "print(\"Sum:\", total)"
   ]
  },
  {
   "cell_type": "markdown",
   "id": "d742f4de-976f-4ebb-84cb-95acc0160309",
   "metadata": {},
   "source": [
    "##### 19. From the matrix (from Q18), calculate the mean of each column"
   ]
  },
  {
   "cell_type": "code",
   "execution_count": 26,
   "id": "c2d4c14d-149a-4712-a959-3d9c6321d355",
   "metadata": {},
   "outputs": [
    {
     "name": "stdout",
     "output_type": "stream",
     "text": [
      "Mean of each column: [4. 5. 6.]\n"
     ]
    }
   ],
   "source": [
    "column_means = matrix.mean(axis=0)\n",
    "print(\"Mean of each column:\", column_means)\n",
    "''' \n",
    "Column 0: mean = (1+4+7)/3 = 4\n",
    "Column 1: mean = (2+5+8)/3 = 5\n",
    "Column 2: mean = (3+6+9)/3 = 6\n",
    "'''"
   ]
  },
  {
   "cell_type": "markdown",
   "id": "83314486-62e1-4101-94cf-af3ec09550ac",
   "metadata": {},
   "source": [
    "##### 20. Given ```price_array = np.array([100, 150, 200, 250])``` and ```discount_percentage = 0.10```, apply a 10% discount to all prices using broadcasting"
   ]
  },
  {
   "cell_type": "code",
   "execution_count": 27,
   "id": "7d570ec2-41fd-438b-b160-6060a8b0ceb1",
   "metadata": {},
   "outputs": [
    {
     "name": "stdout",
     "output_type": "stream",
     "text": [
      "Discounted Prices: [ 90. 135. 180. 225.]\n"
     ]
    }
   ],
   "source": [
    "price_array = np.array([100, 150, 200, 250])\n",
    "discount_percentage = 0.10\n",
    "discounted_prices = price_array * (1 - discount_percentage)\n",
    "print(\"Discounted Prices:\", discounted_prices)"
   ]
  }
 ],
 "metadata": {
  "kernelspec": {
   "display_name": "Python [conda env:base] *",
   "language": "python",
   "name": "conda-base-py"
  },
  "language_info": {
   "codemirror_mode": {
    "name": "ipython",
    "version": 3
   },
   "file_extension": ".py",
   "mimetype": "text/x-python",
   "name": "python",
   "nbconvert_exporter": "python",
   "pygments_lexer": "ipython3",
   "version": "3.12.7"
  }
 },
 "nbformat": 4,
 "nbformat_minor": 5
}
