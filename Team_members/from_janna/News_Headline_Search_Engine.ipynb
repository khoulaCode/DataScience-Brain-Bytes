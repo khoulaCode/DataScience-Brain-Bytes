{
 "cells": [
  {
   "cell_type": "markdown",
   "id": "1f9556f4-e5ad-4114-b1e1-9c238960b00f",
   "metadata": {},
   "source": [
    "# 📰 News Headline Search Engine\n",
    "\n",
    "Search for the most relevant news headlines across multiple categories using TF-IDF vectorization and cosine similarity.\n",
    "\n",
    "---\n",
    "## 🚦 Categories Searched\n",
    "- **POLITICS**\n",
    "- **TRAVEL**\n",
    "- **SPORTS**\n",
    "- **HOME & LIVING**\n",
    "\n",
    "---"
   ]
  },
  {
   "cell_type": "markdown",
   "id": "be6c2af4-852a-4153-b252-865be6c42cd4",
   "metadata": {},
   "source": [
    "## 1️⃣ Data Preprocessing"
   ]
  },
  {
   "cell_type": "code",
   "execution_count": 1,
   "id": "7424b82b-58ca-4447-baa9-b48031c038b6",
   "metadata": {},
   "outputs": [],
   "source": [
    "import pandas as pd"
   ]
  },
  {
   "cell_type": "code",
   "execution_count": 2,
   "id": "65c53637-591d-4046-a5d2-d2e1576249a4",
   "metadata": {},
   "outputs": [
    {
     "data": {
      "text/html": [
       "<div>\n",
       "<style scoped>\n",
       "    .dataframe tbody tr th:only-of-type {\n",
       "        vertical-align: middle;\n",
       "    }\n",
       "\n",
       "    .dataframe tbody tr th {\n",
       "        vertical-align: top;\n",
       "    }\n",
       "\n",
       "    .dataframe thead th {\n",
       "        text-align: right;\n",
       "    }\n",
       "</style>\n",
       "<table border=\"1\" class=\"dataframe\">\n",
       "  <thead>\n",
       "    <tr style=\"text-align: right;\">\n",
       "      <th></th>\n",
       "      <th>link</th>\n",
       "      <th>headline</th>\n",
       "      <th>category</th>\n",
       "      <th>short_description</th>\n",
       "      <th>authors</th>\n",
       "      <th>date</th>\n",
       "    </tr>\n",
       "  </thead>\n",
       "  <tbody>\n",
       "    <tr>\n",
       "      <th>0</th>\n",
       "      <td>https://www.huffpost.com/entry/covid-boosters-...</td>\n",
       "      <td>Over 4 Million Americans Roll Up Sleeves For O...</td>\n",
       "      <td>U.S. NEWS</td>\n",
       "      <td>Health experts said it is too early to predict...</td>\n",
       "      <td>Carla K. Johnson, AP</td>\n",
       "      <td>2022-09-23</td>\n",
       "    </tr>\n",
       "    <tr>\n",
       "      <th>1</th>\n",
       "      <td>https://www.huffpost.com/entry/american-airlin...</td>\n",
       "      <td>American Airlines Flyer Charged, Banned For Li...</td>\n",
       "      <td>U.S. NEWS</td>\n",
       "      <td>He was subdued by passengers and crew when he ...</td>\n",
       "      <td>Mary Papenfuss</td>\n",
       "      <td>2022-09-23</td>\n",
       "    </tr>\n",
       "    <tr>\n",
       "      <th>2</th>\n",
       "      <td>https://www.huffpost.com/entry/funniest-tweets...</td>\n",
       "      <td>23 Of The Funniest Tweets About Cats And Dogs ...</td>\n",
       "      <td>COMEDY</td>\n",
       "      <td>\"Until you have a dog you don't understand wha...</td>\n",
       "      <td>Elyse Wanshel</td>\n",
       "      <td>2022-09-23</td>\n",
       "    </tr>\n",
       "    <tr>\n",
       "      <th>3</th>\n",
       "      <td>https://www.huffpost.com/entry/funniest-parent...</td>\n",
       "      <td>The Funniest Tweets From Parents This Week (Se...</td>\n",
       "      <td>PARENTING</td>\n",
       "      <td>\"Accidentally put grown-up toothpaste on my to...</td>\n",
       "      <td>Caroline Bologna</td>\n",
       "      <td>2022-09-23</td>\n",
       "    </tr>\n",
       "    <tr>\n",
       "      <th>4</th>\n",
       "      <td>https://www.huffpost.com/entry/amy-cooper-lose...</td>\n",
       "      <td>Woman Who Called Cops On Black Bird-Watcher Lo...</td>\n",
       "      <td>U.S. NEWS</td>\n",
       "      <td>Amy Cooper accused investment firm Franklin Te...</td>\n",
       "      <td>Nina Golgowski</td>\n",
       "      <td>2022-09-22</td>\n",
       "    </tr>\n",
       "  </tbody>\n",
       "</table>\n",
       "</div>"
      ],
      "text/plain": [
       "                                                link  \\\n",
       "0  https://www.huffpost.com/entry/covid-boosters-...   \n",
       "1  https://www.huffpost.com/entry/american-airlin...   \n",
       "2  https://www.huffpost.com/entry/funniest-tweets...   \n",
       "3  https://www.huffpost.com/entry/funniest-parent...   \n",
       "4  https://www.huffpost.com/entry/amy-cooper-lose...   \n",
       "\n",
       "                                            headline   category  \\\n",
       "0  Over 4 Million Americans Roll Up Sleeves For O...  U.S. NEWS   \n",
       "1  American Airlines Flyer Charged, Banned For Li...  U.S. NEWS   \n",
       "2  23 Of The Funniest Tweets About Cats And Dogs ...     COMEDY   \n",
       "3  The Funniest Tweets From Parents This Week (Se...  PARENTING   \n",
       "4  Woman Who Called Cops On Black Bird-Watcher Lo...  U.S. NEWS   \n",
       "\n",
       "                                   short_description               authors  \\\n",
       "0  Health experts said it is too early to predict...  Carla K. Johnson, AP   \n",
       "1  He was subdued by passengers and crew when he ...        Mary Papenfuss   \n",
       "2  \"Until you have a dog you don't understand wha...         Elyse Wanshel   \n",
       "3  \"Accidentally put grown-up toothpaste on my to...      Caroline Bologna   \n",
       "4  Amy Cooper accused investment firm Franklin Te...        Nina Golgowski   \n",
       "\n",
       "        date  \n",
       "0 2022-09-23  \n",
       "1 2022-09-23  \n",
       "2 2022-09-23  \n",
       "3 2022-09-23  \n",
       "4 2022-09-22  "
      ]
     },
     "execution_count": 2,
     "metadata": {},
     "output_type": "execute_result"
    }
   ],
   "source": [
    "# Load Kaggle News Category Dataset\n",
    "df = pd.read_json('News_Category_Dataset_v3.json', lines=True)\n",
    "df.head()"
   ]
  },
  {
   "cell_type": "code",
   "execution_count": 3,
   "id": "d4da6646-30ad-423d-8a2f-9cb3b86fd4d0",
   "metadata": {},
   "outputs": [],
   "source": [
    "# Filter for the four categories & keep only headline and category\n",
    "categories = ['POLITICS', 'TRAVEL', 'SPORTS', 'HOME & LIVING']\n",
    "filtered = df[df['category'].isin(categories)][['headline', 'category']]"
   ]
  },
  {
   "cell_type": "code",
   "execution_count": 4,
   "id": "6727ebf6-26f8-4b33-afd3-a9675eecc72e",
   "metadata": {},
   "outputs": [
    {
     "name": "stdout",
     "output_type": "stream",
     "text": [
      "category\n",
      "HOME & LIVING    1000\n",
      "POLITICS         1000\n",
      "SPORTS           1000\n",
      "TRAVEL           1000\n",
      "Name: count, dtype: int64\n"
     ]
    },
    {
     "name": "stderr",
     "output_type": "stream",
     "text": [
      "C:\\Users\\bbuser\\AppData\\Local\\Temp\\ipykernel_18004\\3258508356.py:2: DeprecationWarning: DataFrameGroupBy.apply operated on the grouping columns. This behavior is deprecated, and in a future version of pandas the grouping columns will be excluded from the operation. Either pass `include_groups=False` to exclude the groupings or explicitly select the grouping columns after groupby to silence this warning.\n",
      "  balanced = filtered.groupby('category').apply(lambda x: x.sample(1000, random_state=42)).reset_index(drop=True)\n"
     ]
    },
    {
     "data": {
      "text/html": [
       "<div>\n",
       "<style scoped>\n",
       "    .dataframe tbody tr th:only-of-type {\n",
       "        vertical-align: middle;\n",
       "    }\n",
       "\n",
       "    .dataframe tbody tr th {\n",
       "        vertical-align: top;\n",
       "    }\n",
       "\n",
       "    .dataframe thead th {\n",
       "        text-align: right;\n",
       "    }\n",
       "</style>\n",
       "<table border=\"1\" class=\"dataframe\">\n",
       "  <thead>\n",
       "    <tr style=\"text-align: right;\">\n",
       "      <th></th>\n",
       "      <th>headline</th>\n",
       "      <th>category</th>\n",
       "    </tr>\n",
       "  </thead>\n",
       "  <tbody>\n",
       "    <tr>\n",
       "      <th>0</th>\n",
       "      <td>Busiest Shipping Day Of The Year Is Today, Ann...</td>\n",
       "      <td>HOME &amp; LIVING</td>\n",
       "    </tr>\n",
       "    <tr>\n",
       "      <th>1</th>\n",
       "      <td>What To Watch On Netflix That’s New This Week ...</td>\n",
       "      <td>HOME &amp; LIVING</td>\n",
       "    </tr>\n",
       "    <tr>\n",
       "      <th>2</th>\n",
       "      <td>Repurposing Idea Shows You How To Organize Hai...</td>\n",
       "      <td>HOME &amp; LIVING</td>\n",
       "    </tr>\n",
       "    <tr>\n",
       "      <th>3</th>\n",
       "      <td>Company Buys $8000 Horse Lamp By Front Design ...</td>\n",
       "      <td>HOME &amp; LIVING</td>\n",
       "    </tr>\n",
       "    <tr>\n",
       "      <th>4</th>\n",
       "      <td>Renovate for Rent</td>\n",
       "      <td>HOME &amp; LIVING</td>\n",
       "    </tr>\n",
       "  </tbody>\n",
       "</table>\n",
       "</div>"
      ],
      "text/plain": [
       "                                            headline       category\n",
       "0  Busiest Shipping Day Of The Year Is Today, Ann...  HOME & LIVING\n",
       "1  What To Watch On Netflix That’s New This Week ...  HOME & LIVING\n",
       "2  Repurposing Idea Shows You How To Organize Hai...  HOME & LIVING\n",
       "3  Company Buys $8000 Horse Lamp By Front Design ...  HOME & LIVING\n",
       "4                                  Renovate for Rent  HOME & LIVING"
      ]
     },
     "execution_count": 4,
     "metadata": {},
     "output_type": "execute_result"
    }
   ],
   "source": [
    "# Balance dataset: 1000 per category\n",
    "balanced = filtered.groupby('category').apply(lambda x: x.sample(1000, random_state=42)).reset_index(drop=True)\n",
    "print(balanced['category'].value_counts())\n",
    "balanced.head()"
   ]
  },
  {
   "cell_type": "markdown",
   "id": "ea63b5d9-8c98-4f1d-9893-341d3689721e",
   "metadata": {},
   "source": [
    "---\n",
    "## 2️⃣ TF-IDF Vectorization"
   ]
  },
  {
   "cell_type": "code",
   "execution_count": 5,
   "id": "1500be0f-9420-4c53-9203-5ec77db3613a",
   "metadata": {},
   "outputs": [
    {
     "name": "stdout",
     "output_type": "stream",
     "text": [
      "Headline TF-IDF matrix shape: (4000, 8302)\n"
     ]
    }
   ],
   "source": [
    "from sklearn.feature_extraction.text import TfidfVectorizer\n",
    "\n",
    "# Train TF-IDF vectorizer on 4000 headlines\n",
    "vectorizer = TfidfVectorizer(stop_words='english')\n",
    "X = vectorizer.fit_transform(balanced['headline'])\n",
    "\n",
    "print(f'Headline TF-IDF matrix shape: {X.shape}')"
   ]
  },
  {
   "cell_type": "markdown",
   "id": "0c4a4190-b96c-4392-8eb9-691afea56f8a",
   "metadata": {},
   "source": [
    "---\n",
    "\n",
    "## 3️⃣ Search Function Implementation"
   ]
  },
  {
   "cell_type": "code",
   "execution_count": 6,
   "id": "1bb3cfb4-7569-4682-ae09-1cde24a43d4f",
   "metadata": {},
   "outputs": [],
   "source": [
    "from sklearn.metrics.pairwise import cosine_similarity\n",
    "import numpy as np\n",
    "\n",
    "def search_headlines(query, top_k=10):\n",
    "    # Transform query to TF-IDF\n",
    "    query_vec = vectorizer.transform([query])\n",
    "    # Compute cosine similarity\n",
    "    sims = cosine_similarity(query_vec, X)[0]\n",
    "    # Get top results\n",
    "    top_idx = np.argsort(sims)[::-1][:top_k]\n",
    "    results = []\n",
    "    for idx in top_idx:\n",
    "        results.append({\n",
    "            'headline': balanced.iloc[idx]['headline'],\n",
    "            'category': balanced.iloc[idx]['category'],\n",
    "            'score': sims[idx]\n",
    "        })\n",
    "    return results"
   ]
  },
  {
   "cell_type": "markdown",
   "id": "e56ad9b5-0900-4dc4-a36c-15b6cdc4fcbc",
   "metadata": {},
   "source": [
    "---\n",
    "\n",
    "## 4️⃣ Example User Search"
   ]
  },
  {
   "cell_type": "code",
   "execution_count": 7,
   "id": "c5c52db1-71d6-4fb1-b930-4867d650c1a5",
   "metadata": {},
   "outputs": [
    {
     "name": "stdout",
     "output_type": "stream",
     "text": [
      "Top 10 results for: 'president election results'\n",
      "\n",
      "1. [SPORTS] U.S. Open Results: Novak Djokovic Defeats Julien Benneteau In Third Round\n",
      "   Similarity Score: 0.278\n",
      "\n",
      "2. [POLITICS] We’re Still, Somehow, A Year Away From The Presidential Election\n",
      "   Similarity Score: 0.266\n",
      "\n",
      "3. [POLITICS] Protecting America From Its President\n",
      "   Similarity Score: 0.235\n",
      "\n",
      "4. [POLITICS] Lying To The Press Is Nothing New For The President\n",
      "   Similarity Score: 0.215\n",
      "\n",
      "5. [POLITICS] Obama Has Some Issues With How The Media Are Covering The Election\n",
      "   Similarity Score: 0.209\n",
      "\n",
      "6. [TRAVEL] President Obama Hawaii: What To Do On Oahu (PHOTOS)\n",
      "   Similarity Score: 0.207\n",
      "\n",
      "7. [HOME & LIVING] 8 Problems You May Encounter Going To Vote In The Election\n",
      "   Similarity Score: 0.204\n",
      "\n",
      "8. [POLITICS] Obama To Visit A Mosque For The First Time As President\n",
      "   Similarity Score: 0.196\n",
      "\n",
      "9. [POLITICS] This President's Tweeting Is Squandering Our Time\n",
      "   Similarity Score: 0.190\n",
      "\n",
      "10. [POLITICS] Barack Obama Sanctions Russia Over Election Meddling\n",
      "   Similarity Score: 0.189\n",
      "\n"
     ]
    }
   ],
   "source": [
    "user_query = \"president election results\"\n",
    "results = search_headlines(user_query)\n",
    "\n",
    "# Display Results\n",
    "print(f\"Top 10 results for: '{user_query}'\\n\")\n",
    "for i, res in enumerate(results, 1):\n",
    "    print(f\"{i}. [{res['category']}] {res['headline']}\")\n",
    "    print(f\"   Similarity Score: {res['score']:.3f}\\n\")"
   ]
  },
  {
   "cell_type": "markdown",
   "id": "2b492610-970e-453c-bc88-c2dbad74d63c",
   "metadata": {},
   "source": [
    "---\n",
    "\n",
    "## 5️⃣ Pretty Table Display"
   ]
  },
  {
   "cell_type": "code",
   "execution_count": 8,
   "id": "df190e2e-0306-4e86-8d27-d186305fea08",
   "metadata": {},
   "outputs": [
    {
     "name": "stdout",
     "output_type": "stream",
     "text": [
      "\n",
      "Search Results for: 'president election results'\n"
     ]
    },
    {
     "data": {
      "text/html": [
       "<style type=\"text/css\">\n",
       "#T_89257_row0_col3 {\n",
       "  background-color: #08306b;\n",
       "  color: #f1f1f1;\n",
       "}\n",
       "#T_89257_row1_col3 {\n",
       "  background-color: #0a539e;\n",
       "  color: #f1f1f1;\n",
       "}\n",
       "#T_89257_row2_col3 {\n",
       "  background-color: #65aad4;\n",
       "  color: #f1f1f1;\n",
       "}\n",
       "#T_89257_row3_col3 {\n",
       "  background-color: #b9d6ea;\n",
       "  color: #000000;\n",
       "}\n",
       "#T_89257_row4_col3 {\n",
       "  background-color: #ccdff1;\n",
       "  color: #000000;\n",
       "}\n",
       "#T_89257_row5_col3 {\n",
       "  background-color: #cfe1f2;\n",
       "  color: #000000;\n",
       "}\n",
       "#T_89257_row6_col3 {\n",
       "  background-color: #d6e6f4;\n",
       "  color: #000000;\n",
       "}\n",
       "#T_89257_row7_col3 {\n",
       "  background-color: #e8f1fa;\n",
       "  color: #000000;\n",
       "}\n",
       "#T_89257_row8_col3 {\n",
       "  background-color: #f5fafe;\n",
       "  color: #000000;\n",
       "}\n",
       "#T_89257_row9_col3 {\n",
       "  background-color: #f7fbff;\n",
       "  color: #000000;\n",
       "}\n",
       "</style>\n",
       "<table id=\"T_89257\">\n",
       "  <thead>\n",
       "    <tr>\n",
       "      <th class=\"blank level0\" >&nbsp;</th>\n",
       "      <th id=\"T_89257_level0_col0\" class=\"col_heading level0 col0\" >Rank</th>\n",
       "      <th id=\"T_89257_level0_col1\" class=\"col_heading level0 col1\" >Headline</th>\n",
       "      <th id=\"T_89257_level0_col2\" class=\"col_heading level0 col2\" >Category</th>\n",
       "      <th id=\"T_89257_level0_col3\" class=\"col_heading level0 col3\" >Similarity Score</th>\n",
       "    </tr>\n",
       "  </thead>\n",
       "  <tbody>\n",
       "    <tr>\n",
       "      <th id=\"T_89257_level0_row0\" class=\"row_heading level0 row0\" >0</th>\n",
       "      <td id=\"T_89257_row0_col0\" class=\"data row0 col0\" >1</td>\n",
       "      <td id=\"T_89257_row0_col1\" class=\"data row0 col1\" >U.S. Open Results: Novak Djokovic Defeats Julien Benneteau In Third Round</td>\n",
       "      <td id=\"T_89257_row0_col2\" class=\"data row0 col2\" >SPORTS</td>\n",
       "      <td id=\"T_89257_row0_col3\" class=\"data row0 col3\" >0.277896</td>\n",
       "    </tr>\n",
       "    <tr>\n",
       "      <th id=\"T_89257_level0_row1\" class=\"row_heading level0 row1\" >1</th>\n",
       "      <td id=\"T_89257_row1_col0\" class=\"data row1 col0\" >2</td>\n",
       "      <td id=\"T_89257_row1_col1\" class=\"data row1 col1\" >We’re Still, Somehow, A Year Away From The Presidential Election</td>\n",
       "      <td id=\"T_89257_row1_col2\" class=\"data row1 col2\" >POLITICS</td>\n",
       "      <td id=\"T_89257_row1_col3\" class=\"data row1 col3\" >0.265790</td>\n",
       "    </tr>\n",
       "    <tr>\n",
       "      <th id=\"T_89257_level0_row2\" class=\"row_heading level0 row2\" >2</th>\n",
       "      <td id=\"T_89257_row2_col0\" class=\"data row2 col0\" >3</td>\n",
       "      <td id=\"T_89257_row2_col1\" class=\"data row2 col1\" >Protecting America From Its President</td>\n",
       "      <td id=\"T_89257_row2_col2\" class=\"data row2 col2\" >POLITICS</td>\n",
       "      <td id=\"T_89257_row2_col3\" class=\"data row2 col3\" >0.234932</td>\n",
       "    </tr>\n",
       "    <tr>\n",
       "      <th id=\"T_89257_level0_row3\" class=\"row_heading level0 row3\" >3</th>\n",
       "      <td id=\"T_89257_row3_col0\" class=\"data row3 col0\" >4</td>\n",
       "      <td id=\"T_89257_row3_col1\" class=\"data row3 col1\" >Lying To The Press Is Nothing New For The President</td>\n",
       "      <td id=\"T_89257_row3_col2\" class=\"data row3 col2\" >POLITICS</td>\n",
       "      <td id=\"T_89257_row3_col3\" class=\"data row3 col3\" >0.214921</td>\n",
       "    </tr>\n",
       "    <tr>\n",
       "      <th id=\"T_89257_level0_row4\" class=\"row_heading level0 row4\" >4</th>\n",
       "      <td id=\"T_89257_row4_col0\" class=\"data row4 col0\" >5</td>\n",
       "      <td id=\"T_89257_row4_col1\" class=\"data row4 col1\" >Obama Has Some Issues With How The Media Are Covering The Election</td>\n",
       "      <td id=\"T_89257_row4_col2\" class=\"data row4 col2\" >POLITICS</td>\n",
       "      <td id=\"T_89257_row4_col3\" class=\"data row4 col3\" >0.208704</td>\n",
       "    </tr>\n",
       "    <tr>\n",
       "      <th id=\"T_89257_level0_row5\" class=\"row_heading level0 row5\" >5</th>\n",
       "      <td id=\"T_89257_row5_col0\" class=\"data row5 col0\" >6</td>\n",
       "      <td id=\"T_89257_row5_col1\" class=\"data row5 col1\" >President Obama Hawaii: What To Do On Oahu (PHOTOS)</td>\n",
       "      <td id=\"T_89257_row5_col2\" class=\"data row5 col2\" >TRAVEL</td>\n",
       "      <td id=\"T_89257_row5_col3\" class=\"data row5 col3\" >0.207233</td>\n",
       "    </tr>\n",
       "    <tr>\n",
       "      <th id=\"T_89257_level0_row6\" class=\"row_heading level0 row6\" >6</th>\n",
       "      <td id=\"T_89257_row6_col0\" class=\"data row6 col0\" >7</td>\n",
       "      <td id=\"T_89257_row6_col1\" class=\"data row6 col1\" >8 Problems You May Encounter Going To Vote In The Election</td>\n",
       "      <td id=\"T_89257_row6_col2\" class=\"data row6 col2\" >HOME & LIVING</td>\n",
       "      <td id=\"T_89257_row6_col3\" class=\"data row6 col3\" >0.203884</td>\n",
       "    </tr>\n",
       "    <tr>\n",
       "      <th id=\"T_89257_level0_row7\" class=\"row_heading level0 row7\" >7</th>\n",
       "      <td id=\"T_89257_row7_col0\" class=\"data row7 col0\" >8</td>\n",
       "      <td id=\"T_89257_row7_col1\" class=\"data row7 col1\" >Obama To Visit A Mosque For The First Time As President</td>\n",
       "      <td id=\"T_89257_row7_col2\" class=\"data row7 col2\" >POLITICS</td>\n",
       "      <td id=\"T_89257_row7_col3\" class=\"data row7 col3\" >0.195724</td>\n",
       "    </tr>\n",
       "    <tr>\n",
       "      <th id=\"T_89257_level0_row8\" class=\"row_heading level0 row8\" >8</th>\n",
       "      <td id=\"T_89257_row8_col0\" class=\"data row8 col0\" >9</td>\n",
       "      <td id=\"T_89257_row8_col1\" class=\"data row8 col1\" >This President's Tweeting Is Squandering Our Time</td>\n",
       "      <td id=\"T_89257_row8_col2\" class=\"data row8 col2\" >POLITICS</td>\n",
       "      <td id=\"T_89257_row8_col3\" class=\"data row8 col3\" >0.190157</td>\n",
       "    </tr>\n",
       "    <tr>\n",
       "      <th id=\"T_89257_level0_row9\" class=\"row_heading level0 row9\" >9</th>\n",
       "      <td id=\"T_89257_row9_col0\" class=\"data row9 col0\" >10</td>\n",
       "      <td id=\"T_89257_row9_col1\" class=\"data row9 col1\" >Barack Obama Sanctions Russia Over Election Meddling</td>\n",
       "      <td id=\"T_89257_row9_col2\" class=\"data row9 col2\" >POLITICS</td>\n",
       "      <td id=\"T_89257_row9_col3\" class=\"data row9 col3\" >0.189131</td>\n",
       "    </tr>\n",
       "  </tbody>\n",
       "</table>\n"
      ],
      "text/plain": [
       "<pandas.io.formats.style.Styler at 0x20e4aff0e90>"
      ]
     },
     "metadata": {},
     "output_type": "display_data"
    }
   ],
   "source": [
    "def display_results(query, results):\n",
    "    df = pd.DataFrame(results)\n",
    "    df['Rank'] = range(1, len(df)+1)\n",
    "    df = df[['Rank', 'headline', 'category', 'score']]\n",
    "    df = df.rename(columns={'headline': 'Headline', 'category': 'Category', 'score': 'Similarity Score'})\n",
    "    print(f\"\\nSearch Results for: '{query}'\")\n",
    "    display(df.style.background_gradient(subset=['Similarity Score'], cmap='Blues'))\n",
    "\n",
    "# Run with pretty table:\n",
    "display_results(user_query, results)"
   ]
  }
 ],
 "metadata": {
  "kernelspec": {
   "display_name": "Python [conda env:base] *",
   "language": "python",
   "name": "conda-base-py"
  },
  "language_info": {
   "codemirror_mode": {
    "name": "ipython",
    "version": 3
   },
   "file_extension": ".py",
   "mimetype": "text/x-python",
   "name": "python",
   "nbconvert_exporter": "python",
   "pygments_lexer": "ipython3",
   "version": "3.12.7"
  }
 },
 "nbformat": 4,
 "nbformat_minor": 5
}
