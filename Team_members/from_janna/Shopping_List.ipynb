{
 "cells": [
  {
   "cell_type": "markdown",
   "id": "983aba1e-f4ed-40b8-879a-86776f55ba6a",
   "metadata": {},
   "source": [
    "# <span style = \"color:blue\">__Shopping List Manager__</span>\n",
    "##### A simple interactive **Shopping List Manager** that allows you to **add**, **remove**, **view**, and **clear** items from your shopping list"
   ]
  },
  {
   "cell_type": "markdown",
   "id": "67129bda-0689-4722-8323-db848b928a32",
   "metadata": {},
   "source": [
    "### **Initialize Shopping List**\n",
    "First, let's create an empty list to store our shopping items:"
   ]
  },
  {
   "cell_type": "code",
   "execution_count": null,
   "id": "bcfcc5e5-87e9-42d3-9a45-87363be4e53a",
   "metadata": {},
   "outputs": [],
   "source": [
    "shopping_list = []"
   ]
  },
  {
   "cell_type": "markdown",
   "id": "2297dfe2-05aa-407c-ac5e-7c151397b77c",
   "metadata": {},
   "source": [
    "### **Add Item Function**\n",
    "This function allows you to add multiple items to your shopping list:"
   ]
  },
  {
   "cell_type": "code",
   "execution_count": 2,
   "id": "8d257f8d-1487-4d82-ad83-ef70a2a782a4",
   "metadata": {},
   "outputs": [],
   "source": [
    "def add_item():\n",
    "    while True:\n",
    "        item = input(\"Enter item to add or type (done) to stop: \")\n",
    "        if item.lower() == \"done\":\n",
    "            break\n",
    "        else:\n",
    "            shopping_list.append(item)\n",
    "            print(f\"'{item}' has been added to the list\")"
   ]
  },
  {
   "cell_type": "markdown",
   "id": "182c8b96-8313-4265-bb6a-7e76d31bac7a",
   "metadata": {},
   "source": [
    "### **Remove Item Function**\n",
    "This function removes a specific item from your shopping list:"
   ]
  },
  {
   "cell_type": "code",
   "execution_count": 3,
   "id": "82116102-2ac9-4b4b-9f13-e82e760cfeb9",
   "metadata": {},
   "outputs": [],
   "source": [
    "def remove_item():\n",
    "    item = input(\"Enter item to remove: \")\n",
    "    if item in shopping_list:\n",
    "        shopping_list.remove(item)\n",
    "        print(f\"'{item}' has been removed from the list.\")\n",
    "    else:\n",
    "        print(f\"'{item}' not found in the list.\")"
   ]
  },
  {
   "cell_type": "markdown",
   "id": "77b39a73-339d-4aab-b128-adb073ca7c61",
   "metadata": {},
   "source": [
    "### **Show List Function**\n",
    "This function displays all items in your shopping list in a numbered format:"
   ]
  },
  {
   "cell_type": "code",
   "execution_count": 4,
   "id": "74943a5b-e611-41cc-b31c-2228ec5b3ffd",
   "metadata": {},
   "outputs": [],
   "source": [
    "def show_list():\n",
    "    print(\"Shopping List:\")\n",
    "    i = 1\n",
    "    for item in shopping_list:\n",
    "        print(f\"{i}. {item}\")\n",
    "        i += 1"
   ]
  },
  {
   "cell_type": "markdown",
   "id": "2ba75b6e-5103-4c0b-8083-3cc9815c43e6",
   "metadata": {},
   "source": [
    "### **Clear List Function**\n",
    "This function removes all items from your shopping list at once:"
   ]
  },
  {
   "cell_type": "code",
   "execution_count": 5,
   "id": "df0b6ca6-3e83-4d93-b529-72a88f26606a",
   "metadata": {},
   "outputs": [],
   "source": [
    "def clear_list():\n",
    "    shopping_list.clear()\n",
    "    print(\"Shopping list cleared.\")"
   ]
  },
  {
   "cell_type": "markdown",
   "id": "25125cce-46e3-4a04-950c-1a32096b0f59",
   "metadata": {},
   "source": [
    "### **Exit Function**\n",
    "This function exits the shopping list manager:"
   ]
  },
  {
   "cell_type": "code",
   "execution_count": 6,
   "id": "ddb8512c-a6ed-43c3-a51b-a0781fec0336",
   "metadata": {},
   "outputs": [],
   "source": [
    "def exit_manager():\n",
    "    print(\"Exiting Shopping List Manager.\")\n",
    "    exit()"
   ]
  },
  {
   "cell_type": "markdown",
   "id": "8cdc03fa-4882-4032-b3c1-928ce6f2250a",
   "metadata": {},
   "source": [
    "### **Main Program Loop**\n",
    "The main interactive loop that provides the menu system:"
   ]
  },
  {
   "cell_type": "code",
   "execution_count": null,
   "id": "13dca4cb-a631-4d27-9cbb-726be8c873f2",
   "metadata": {},
   "outputs": [
    {
     "name": "stdout",
     "output_type": "stream",
     "text": [
      "\n",
      "Welcome to Shopping List Manager!\n",
      "1. Add item\n",
      "2. Remove item\n",
      "3. Show list\n",
      "4. Clear list\n",
      "5. Exit\n"
     ]
    }
   ],
   "source": [
    "while True:\n",
    "    print(\"\\nWelcome to Shopping List Manager!\")\n",
    "    print(\"1. Add item\\n2. Remove item\\n3. Show list\\n4. Clear list\\n5. Exit\")\n",
    "    n = int(input(\"Choose an option: \"))\n",
    "    if n == 1:\n",
    "        add_item()\n",
    "    elif n == 2:\n",
    "        remove_item()\n",
    "    elif n == 3:\n",
    "        show_list()\n",
    "    elif n == 4:\n",
    "        clear_list()\n",
    "    elif n == 5:\n",
    "        exit_manager()\n",
    "    else:\n",
    "        print(\"Invalid option. Please try again.\")"
   ]
  },
  {
   "cell_type": "markdown",
   "id": "b1d20195-fef8-4a1f-99f1-f10cdc0c90f9",
   "metadata": {},
   "source": [
    "### __Features__\n",
    "\n",
    "* __Add Items:__ <span style = \"color:blue\">**Add**</span> multiple items to your shopping list\n",
    "* __Remove Items:__ <span style = \"color:blue\">**Remove**</span> specific items from the list\n",
    "* __View List:__ <span style = \"color:blue\">**Display**</span> all items in a numbered format\n",
    "* __Clear List:__ <span style = \"color:blue\">**Remove**</span> all items at once\n",
    "* __Interactive Menu:__ Easy-to-use menu system"
   ]
  }
 ],
 "metadata": {
  "kernelspec": {
   "display_name": "Python [conda env:base] *",
   "language": "python",
   "name": "conda-base-py"
  },
  "language_info": {
   "codemirror_mode": {
    "name": "ipython",
    "version": 3
   },
   "file_extension": ".py",
   "mimetype": "text/x-python",
   "name": "python",
   "nbconvert_exporter": "python",
   "pygments_lexer": "ipython3",
   "version": "3.12.7"
  }
 },
 "nbformat": 4,
 "nbformat_minor": 5
}
