{
 "cells": [
  {
   "cell_type": "markdown",
   "id": "67a34188-04e9-4df6-8966-771ac7c26441",
   "metadata": {},
   "source": [
    "## Scenario: You are a data scientist monitoring environmental conditions in a smart building. You have collected sensor data (temperature, humidity, pressure) over 24 hours, with readings taken every minute. Your goal is to process this raw data to find key statistics and identify anomalies."
   ]
  },
  {
   "cell_type": "markdown",
   "id": "fe74174e-f4a6-4469-862c-247ce3ec9dbb",
   "metadata": {},
   "source": [
    "#### 1. Data Generation:"
   ]
  },
  {
   "cell_type": "markdown",
   "id": "6295f8b4-a79a-46e5-b05c-1ac7707e97da",
   "metadata": {},
   "source": [
    "Create a NumPy array for time_in_minutes from 0 to 1439 (24 hours * 60 minutes)."
   ]
  },
  {
   "cell_type": "code",
   "id": "58bad5de-6156-4526-a62e-d874e950a48d",
   "metadata": {
    "ExecuteTime": {
     "end_time": "2025-07-03T07:31:18.732152Z",
     "start_time": "2025-07-03T07:31:18.721704Z"
    }
   },
   "source": [
    "import numpy as np\n",
    "import pandas as pd"
   ],
   "outputs": [],
   "execution_count": 70
  },
  {
   "cell_type": "code",
   "id": "8123e9c4-b57d-4161-a616-85ffe4c339ad",
   "metadata": {
    "ExecuteTime": {
     "end_time": "2025-07-03T06:04:26.929489Z",
     "start_time": "2025-07-03T06:04:26.906284Z"
    }
   },
   "source": [
    "time_in_minutes = np.arange(0,1440)\n",
    "time_in_minutes"
   ],
   "outputs": [
    {
     "data": {
      "text/plain": [
       "array([   0,    1,    2, ..., 1437, 1438, 1439])"
      ]
     },
     "execution_count": 31,
     "metadata": {},
     "output_type": "execute_result"
    }
   ],
   "execution_count": 31
  },
  {
   "cell_type": "markdown",
   "id": "535c2e1d-6f69-4d5a-889f-664e0909de94",
   "metadata": {},
   "source": [
    "Generate synthetic temperature data: a base temperature (e.g., 22°C) with some random fluctuations (use np.random.normal)."
   ]
  },
  {
   "cell_type": "code",
   "id": "408dbffc212d72f1",
   "metadata": {
    "ExecuteTime": {
     "end_time": "2025-07-03T06:04:27.006424Z",
     "start_time": "2025-07-03T06:04:26.982680Z"
    }
   },
   "source": [
    "temperature = 22 + np.random.normal(loc=0, scale=1.0, size=1440)\n",
    "temperature"
   ],
   "outputs": [
    {
     "data": {
      "text/plain": [
       "array([20.73014501, 20.63794827, 21.41425212, ..., 22.2720221 ,\n",
       "       22.97151664, 22.22399089])"
      ]
     },
     "execution_count": 32,
     "metadata": {},
     "output_type": "execute_result"
    }
   ],
   "execution_count": 32
  },
  {
   "cell_type": "markdown",
   "id": "a1b899421f82e3e5",
   "metadata": {},
   "source": [
    "Generate synthetic humidity data: a base humidity (e.g., 55%) with random fluctuations, ensuring values stay realistic (0-100%)."
   ]
  },
  {
   "cell_type": "code",
   "id": "08dc6caa-a24a-4ce5-983b-b6014abc6d33",
   "metadata": {
    "ExecuteTime": {
     "end_time": "2025-07-03T06:04:27.049799Z",
     "start_time": "2025-07-03T06:04:27.023954Z"
    }
   },
   "source": [
    "humidity = np.clip(55 + np.random.normal(loc=0, scale=10.0, size=1440), 0, 100)\n",
    "humidity"
   ],
   "outputs": [
    {
     "data": {
      "text/plain": [
       "array([68.04784144, 49.28301648, 59.96123155, ..., 46.73578262,\n",
       "       49.81434704, 46.30558192])"
      ]
     },
     "execution_count": 33,
     "metadata": {},
     "output_type": "execute_result"
    }
   ],
   "execution_count": 33
  },
  {
   "cell_type": "markdown",
   "id": "8349645ff2af3649",
   "metadata": {},
   "source": [
    "Generate synthetic pressure data: a base pressure (e.g., 1012 hPa) with random fluctuations."
   ]
  },
  {
   "cell_type": "code",
   "id": "36f9cb393b5758bb",
   "metadata": {
    "ExecuteTime": {
     "end_time": "2025-07-03T06:04:27.114985Z",
     "start_time": "2025-07-03T06:04:27.092221Z"
    }
   },
   "source": [
    "pressure = 1012 + np.random.normal(loc=0, scale=3.0, size=1440)\n",
    "pressure"
   ],
   "outputs": [
    {
     "data": {
      "text/plain": [
       "array([1008.55305909, 1008.7889085 , 1012.09056027, ..., 1010.21340861,\n",
       "       1006.83639469, 1013.25220358])"
      ]
     },
     "execution_count": 34,
     "metadata": {},
     "output_type": "execute_result"
    }
   ],
   "execution_count": 34
  },
  {
   "cell_type": "markdown",
   "id": "d338c45137f05f95",
   "metadata": {},
   "source": [
    "Combine these into a single 2D NumPy array where each row represents a minute and columns are [time, temperature, humidity, pressure]."
   ]
  },
  {
   "cell_type": "code",
   "id": "4862ed480a9c08d4",
   "metadata": {
    "ExecuteTime": {
     "end_time": "2025-07-03T06:04:27.207297Z",
     "start_time": "2025-07-03T06:04:27.182828Z"
    }
   },
   "source": [
    "np.column_stack((time_in_minutes,temperature,humidity,pressure))"
   ],
   "outputs": [
    {
     "data": {
      "text/plain": [
       "array([[0.00000000e+00, 2.07301450e+01, 6.80478414e+01, 1.00855306e+03],\n",
       "       [1.00000000e+00, 2.06379483e+01, 4.92830165e+01, 1.00878891e+03],\n",
       "       [2.00000000e+00, 2.14142521e+01, 5.99612315e+01, 1.01209056e+03],\n",
       "       ...,\n",
       "       [1.43700000e+03, 2.22720221e+01, 4.67357826e+01, 1.01021341e+03],\n",
       "       [1.43800000e+03, 2.29715166e+01, 4.98143470e+01, 1.00683639e+03],\n",
       "       [1.43900000e+03, 2.22239909e+01, 4.63055819e+01, 1.01325220e+03]])"
      ]
     },
     "execution_count": 35,
     "metadata": {},
     "output_type": "execute_result"
    }
   ],
   "execution_count": 35
  },
  {
   "cell_type": "code",
   "id": "daec762e-10e9-4cf0-9452-1ccfaee6a4a5",
   "metadata": {
    "ExecuteTime": {
     "end_time": "2025-07-03T06:04:27.416044Z",
     "start_time": "2025-07-03T06:04:27.398450Z"
    }
   },
   "source": [
    "data = np.column_stack((time_in_minutes, temperature, humidity, pressure))\n",
    "data"
   ],
   "outputs": [
    {
     "data": {
      "text/plain": [
       "array([[0.00000000e+00, 2.07301450e+01, 6.80478414e+01, 1.00855306e+03],\n",
       "       [1.00000000e+00, 2.06379483e+01, 4.92830165e+01, 1.00878891e+03],\n",
       "       [2.00000000e+00, 2.14142521e+01, 5.99612315e+01, 1.01209056e+03],\n",
       "       ...,\n",
       "       [1.43700000e+03, 2.22720221e+01, 4.67357826e+01, 1.01021341e+03],\n",
       "       [1.43800000e+03, 2.29715166e+01, 4.98143470e+01, 1.00683639e+03],\n",
       "       [1.43900000e+03, 2.22239909e+01, 4.63055819e+01, 1.01325220e+03]])"
      ]
     },
     "execution_count": 36,
     "metadata": {},
     "output_type": "execute_result"
    }
   ],
   "execution_count": 36
  },
  {
   "cell_type": "markdown",
   "id": "8991855af4a91532",
   "metadata": {
    "ExecuteTime": {
     "end_time": "2025-07-03T05:01:57.063971Z",
     "start_time": "2025-07-03T05:01:57.058121Z"
    }
   },
   "source": [
    "#### Basic Statistics: "
   ]
  },
  {
   "cell_type": "markdown",
   "id": "1a14b6eb",
   "metadata": {},
   "source": [
    "Calculate the average, minimum, maximum temperature, humidity, and pressure for the entire 24-hour period."
   ]
  },
  {
   "cell_type": "code",
   "id": "35934967",
   "metadata": {
    "ExecuteTime": {
     "end_time": "2025-07-03T06:08:36.103926Z",
     "start_time": "2025-07-03T06:08:36.083151Z"
    }
   },
   "source": [
    "# temperature\n",
    "print(\"average temperature:\", np.mean(data[:,1]))\n",
    "print(\"minimum temperature:\",np.min(data[:,1]))\n",
    "print(\"maximum temperature:\",np.max(data[:,1]))"
   ],
   "outputs": [
    {
     "name": "stdout",
     "output_type": "stream",
     "text": [
      "average temperature: 21.969698085465502\n",
      "minimum temperature: 18.65243449633642\n",
      "maximum temperature: 25.212331557533666\n"
     ]
    }
   ],
   "execution_count": 45
  },
  {
   "metadata": {
    "ExecuteTime": {
     "end_time": "2025-07-03T06:08:47.987678Z",
     "start_time": "2025-07-03T06:08:47.974269Z"
    }
   },
   "cell_type": "code",
   "source": [
    "# humidity\n",
    "print(\"average humidity:\", np.mean(data[:,2]))\n",
    "print(\"minimum humidity:\",np.min(data[:,2]))\n",
    "print(\"maximum humidity:\",np.max(data[:,2]))"
   ],
   "id": "7cfc957142fc6d70",
   "outputs": [
    {
     "name": "stdout",
     "output_type": "stream",
     "text": [
      "average humidity: 55.144202978225\n",
      "minimum humidity: 19.827920981049417\n",
      "maximum humidity: 85.57939198276216\n"
     ]
    }
   ],
   "execution_count": 46
  },
  {
   "metadata": {
    "ExecuteTime": {
     "end_time": "2025-07-03T06:09:21.369582Z",
     "start_time": "2025-07-03T06:09:21.362250Z"
    }
   },
   "cell_type": "code",
   "source": [
    "# pressure\n",
    "print(\"average pressure:\", np.mean(data[:,3]))\n",
    "print(\"minimum pressure:\",np.min(data[:,3]))\n",
    "print(\"maximum pressure:\",np.max(data[:,3]))"
   ],
   "id": "de8071571280a4f6",
   "outputs": [
    {
     "name": "stdout",
     "output_type": "stream",
     "text": [
      "average pressure: 1011.9665401045582\n",
      "minimum pressure: 1001.4355412423142\n",
      "maximum pressure: 1022.5331786661015\n"
     ]
    }
   ],
   "execution_count": 47
  },
  {
   "metadata": {},
   "cell_type": "markdown",
   "source": "Find the standard deviation for each of these parameters.",
   "id": "b55654b0152c977d"
  },
  {
   "metadata": {
    "ExecuteTime": {
     "end_time": "2025-07-03T06:49:53.087150Z",
     "start_time": "2025-07-03T06:49:53.076126Z"
    }
   },
   "cell_type": "code",
   "source": [
    "print(\"standard deviation of temperature:\\n\",np.std(data[:, 1]))\n",
    "print(\"standard deviation of humidity:\\n\",np.std(data[:, 2]))\n",
    "print(\"standard deviation of pressure:\\n\",np.std(data[:, 3]))"
   ],
   "id": "d2eae99a4c3fe15e",
   "outputs": [
    {
     "name": "stdout",
     "output_type": "stream",
     "text": [
      "standard deviation of temperature:\n",
      " 0.9878862639950526\n",
      "standard deviation of humidity:\n",
      " 10.182299816029307\n",
      "standard deviation of pressure:\n",
      " 2.8692198491932124\n"
     ]
    }
   ],
   "execution_count": 53
  },
  {
   "metadata": {},
   "cell_type": "markdown",
   "source": "#### Hourly Averages:",
   "id": "9e0756b31ace66b6"
  },
  {
   "metadata": {},
   "cell_type": "markdown",
   "source": "Reshape the data (or use slicing/aggregation) to calculate the average temperature, humidity, and pressure for each hour of the day. You should end up with 24 average values for each parameter.",
   "id": "561c4f426a494846"
  },
  {
   "metadata": {
    "ExecuteTime": {
     "end_time": "2025-07-03T06:54:17.917360Z",
     "start_time": "2025-07-03T06:54:17.895403Z"
    }
   },
   "cell_type": "code",
   "source": [
    "reshaped_data = data.reshape(24, 60, 4)\n",
    "hourly_avg_temp = reshaped_data[:, :, 1].mean(axis=1)\n",
    "hourly_avg_humidity = reshaped_data[:, :, 2].mean(axis=1)\n",
    "hourly_avg_pressure = reshaped_data[:, :, 3].mean(axis=1)\n",
    "print(\"hourly average temperature:\\n\",hourly_avg_temp)\n",
    "print(\"hourly average humidity:\\n\",hourly_avg_humidity)\n",
    "print(\"hourly average pressure:\\n\",hourly_avg_pressure)"
   ],
   "id": "aa73a9a3f4ef1d5d",
   "outputs": [
    {
     "name": "stdout",
     "output_type": "stream",
     "text": [
      "hourly average temperature:\n",
      " [21.96928895 22.24042578 21.90685665 21.86211784 21.9635614  21.90749031\n",
      " 21.95219982 21.94415021 21.88742965 21.9611996  21.84002213 21.88040491\n",
      " 21.81592031 22.04791096 21.83405343 22.09055645 22.0229497  22.09207015\n",
      " 22.09896642 22.06423443 21.94292016 21.90966871 21.94690991 22.09144616]\n",
      "hourly average humidity:\n",
      " [54.83005311 54.96473988 52.91740683 55.6597039  55.27064717 56.62878047\n",
      " 55.9586929  54.77539729 56.98208593 54.57441327 55.75694369 54.8492504\n",
      " 52.77533912 56.94711676 54.41427735 54.24342248 53.52050606 54.15945683\n",
      " 56.79269721 56.25347032 55.7969432  55.90262543 54.34251438 55.14438751]\n",
      "hourly average pressure:\n",
      " [1011.47887951 1011.73036832 1012.03266659 1012.27332065 1011.70065955\n",
      " 1011.30807367 1012.1637931  1012.90173349 1012.08176549 1011.39491834\n",
      " 1012.31888201 1011.89784087 1011.96728011 1011.22305846 1012.35428678\n",
      " 1011.77691394 1011.83122068 1012.23681736 1012.14200634 1012.33972211\n",
      " 1011.99109465 1011.91518554 1011.98472515 1012.1517498 ]\n"
     ]
    }
   ],
   "execution_count": 56
  },
  {
   "metadata": {},
   "cell_type": "markdown",
   "source": "#### Anomaly Detection (Simple):",
   "id": "ea28e2ca9d152ee3"
  },
  {
   "metadata": {},
   "cell_type": "markdown",
   "source": "Identify and count how many minutes the temperature exceeded a certain threshold (e.g., 25°C).",
   "id": "8e96a9920799be5b"
  },
  {
   "metadata": {
    "ExecuteTime": {
     "end_time": "2025-07-03T06:54:56.329074Z",
     "start_time": "2025-07-03T06:54:56.315399Z"
    }
   },
   "cell_type": "code",
   "source": "data[data[:,1]>25]",
   "id": "c0eee9ed4b8421f1",
   "outputs": [
    {
     "data": {
      "text/plain": [
       "array([[ 327.        ,   25.21233156,   48.45552976, 1010.89456307]])"
      ]
     },
     "execution_count": 57,
     "metadata": {},
     "output_type": "execute_result"
    }
   ],
   "execution_count": 57
  },
  {
   "metadata": {},
   "cell_type": "markdown",
   "source": "Find the time (in minutes) when the minimum temperature occurred.",
   "id": "29f5383992822c57"
  },
  {
   "metadata": {
    "ExecuteTime": {
     "end_time": "2025-07-03T07:23:44.674338Z",
     "start_time": "2025-07-03T07:23:44.663728Z"
    }
   },
   "cell_type": "code",
   "source": "np.min(data[:,1])",
   "id": "260a04e72eadcb9c",
   "outputs": [
    {
     "data": {
      "text/plain": [
       "18.65243449633642"
      ]
     },
     "execution_count": 62,
     "metadata": {},
     "output_type": "execute_result"
    }
   ],
   "execution_count": 62
  },
  {
   "metadata": {},
   "cell_type": "markdown",
   "source": "#### Data Export (Optional):",
   "id": "b6289a07f27d30cb"
  },
  {
   "metadata": {},
   "cell_type": "markdown",
   "source": "Save the combined 2D array to a .csv file using NumPy's saving functions.",
   "id": "e7a745fa4d39003a"
  },
  {
   "metadata": {
    "ExecuteTime": {
     "end_time": "2025-07-03T07:45:06.623812Z",
     "start_time": "2025-07-03T07:45:06.607938Z"
    }
   },
   "cell_type": "code",
   "source": "np.savetxt('sensor_data.csv', data, delimiter=',')",
   "id": "8c51e814fc0784f7",
   "outputs": [],
   "execution_count": 75
  }
 ],
 "metadata": {
  "kernelspec": {
   "display_name": "Python 3",
   "language": "python",
   "name": "python3"
  },
  "language_info": {
   "codemirror_mode": {
    "name": "ipython",
    "version": 3
   },
   "file_extension": ".py",
   "mimetype": "text/x-python",
   "name": "python",
   "nbconvert_exporter": "python",
   "pygments_lexer": "ipython3",
   "version": "3.13.3"
  }
 },
 "nbformat": 4,
 "nbformat_minor": 5
}
