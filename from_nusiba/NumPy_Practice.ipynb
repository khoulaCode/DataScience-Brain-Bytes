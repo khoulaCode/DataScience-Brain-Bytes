{
 "cells": [
  {
   "cell_type": "markdown",
   "id": "b61b4ecc-4ee6-458a-9ec1-0fbdd3f50c06",
   "metadata": {},
   "source": [
    "### Part 1: Array Creation and Properties"
   ]
  },
  {
   "cell_type": "markdown",
   "id": "009ae5bd-16d9-464d-a9ff-bb1aab87c142",
   "metadata": {},
   "source": [
    "#### 1- Create a 1D array named arr1d with integers from 0 to 9."
   ]
  },
  {
   "cell_type": "code",
   "execution_count": 4,
   "id": "c656cc01-31ce-454e-8adb-caaad477cdce",
   "metadata": {},
   "outputs": [
    {
     "data": {
      "text/plain": [
       "array([0, 1, 2, 3, 4, 5, 6, 7, 8, 9])"
      ]
     },
     "execution_count": 4,
     "metadata": {},
     "output_type": "execute_result"
    }
   ],
   "source": [
    "import numpy as np\n",
    "arr1d = np.arange(0, 10)\n",
    "arr1d"
   ]
  },
  {
   "cell_type": "markdown",
   "id": "ab7f06c7-7d73-46c2-b0da-fd0f945bb401",
   "metadata": {},
   "source": [
    "#### 2- Create a 2D array named arr2d with shape (3, 3) filled with ones."
   ]
  },
  {
   "cell_type": "code",
   "execution_count": 5,
   "id": "5a5f4062-7275-4d2f-abe0-c2be4b9772d5",
   "metadata": {},
   "outputs": [
    {
     "data": {
      "text/plain": [
       "array([[1., 1., 1.],\n",
       "       [1., 1., 1.],\n",
       "       [1., 1., 1.]])"
      ]
     },
     "execution_count": 5,
     "metadata": {},
     "output_type": "execute_result"
    }
   ],
   "source": [
    "arr2d = np.ones((3,3))\n",
    "arr2d"
   ]
  },
  {
   "cell_type": "markdown",
   "id": "f69618aa-65ba-4227-96e7-c8e490696225",
   "metadata": {},
   "source": [
    "#### 3- Create a 3x3 array named random_matrix with random floating-point numbers from a standard normal distribution."
   ]
  },
  {
   "cell_type": "code",
   "execution_count": 6,
   "id": "6b615c40-bdea-49da-96a7-ff95db6b9683",
   "metadata": {},
   "outputs": [
    {
     "data": {
      "text/plain": [
       "array([[-1.36827248, -1.46041714,  0.65820777],\n",
       "       [ 2.18388093, -0.76186471, -0.32102701],\n",
       "       [-1.00076513, -0.90388185,  1.18058375]])"
      ]
     },
     "execution_count": 6,
     "metadata": {},
     "output_type": "execute_result"
    }
   ],
   "source": [
    "random_matrix = np.random.randn(3,3)\n",
    "random_matrix"
   ]
  },
  {
   "cell_type": "markdown",
   "id": "2ce83960-2fdb-4323-ae19-9700c76d814e",
   "metadata": {},
   "source": [
    "#### 4- Create an array named even_numbers containing even numbers from 10 to 50 (inclusive)."
   ]
  },
  {
   "cell_type": "code",
   "execution_count": 7,
   "id": "2737c4be-7a76-492e-ab75-de43294f2267",
   "metadata": {},
   "outputs": [
    {
     "data": {
      "text/plain": [
       "array([10, 12, 14, 16, 18, 20, 22, 24, 26, 28, 30, 32, 34, 36, 38, 40, 42,\n",
       "       44, 46, 48, 50])"
      ]
     },
     "execution_count": 7,
     "metadata": {},
     "output_type": "execute_result"
    }
   ],
   "source": [
    "even_numbers  = np.arange(10, 51, 2)\n",
    "even_numbers"
   ]
  },
  {
   "cell_type": "markdown",
   "id": "f1652fda-3a00-4eef-a5d2-0bc4d9224344",
   "metadata": {},
   "source": [
    "#### 5- Create an array named linspace_array containing 7 equally spaced numbers between 0 and 1 (inclusive)."
   ]
  },
  {
   "cell_type": "code",
   "execution_count": 8,
   "id": "0b723722-79db-4c24-b143-f445abbbb2cb",
   "metadata": {},
   "outputs": [
    {
     "data": {
      "text/plain": [
       "array([0.        , 0.16666667, 0.33333333, 0.5       , 0.66666667,\n",
       "       0.83333333, 1.        ])"
      ]
     },
     "execution_count": 8,
     "metadata": {},
     "output_type": "execute_result"
    }
   ],
   "source": [
    "linspace_array = np.linspace(0, 1, 7)\n",
    "linspace_array"
   ]
  },
  {
   "cell_type": "markdown",
   "id": "3cda5887-1f56-4c11-9b24-3691250f9677",
   "metadata": {},
   "source": [
    "#### 6- Given arr = np.array([[1, 2, 3], [4, 5, 6]]), what is its shape, ndim, and dtype? Print them."
   ]
  },
  {
   "cell_type": "code",
   "execution_count": 9,
   "id": "722d0b9e-16db-44ab-aae0-6711bb7354e7",
   "metadata": {},
   "outputs": [
    {
     "data": {
      "text/plain": [
       "<function shape at 0x0000026E6315F7B0>"
      ]
     },
     "execution_count": 9,
     "metadata": {},
     "output_type": "execute_result"
    }
   ],
   "source": [
    "arr = np.array([[1, 2, 3], [4, 5, 6]])\n",
    "arr = np.shape\n",
    "arr"
   ]
  },
  {
   "cell_type": "code",
   "execution_count": 10,
   "id": "70c96086-b8f2-4b00-b4f5-91c23565fa8e",
   "metadata": {},
   "outputs": [
    {
     "data": {
      "text/plain": [
       "<function ndim at 0x0000026E63169B30>"
      ]
     },
     "execution_count": 10,
     "metadata": {},
     "output_type": "execute_result"
    }
   ],
   "source": [
    "arr = np.ndim\n",
    "arr"
   ]
  },
  {
   "cell_type": "code",
   "execution_count": 11,
   "id": "17d2cdd2-5b9e-4467-afe4-8336cd58bba7",
   "metadata": {},
   "outputs": [
    {
     "data": {
      "text/plain": [
       "numpy.dtype"
      ]
     },
     "execution_count": 11,
     "metadata": {},
     "output_type": "execute_result"
    }
   ],
   "source": [
    "arr = np.dtype\n",
    "arr"
   ]
  },
  {
   "cell_type": "markdown",
   "id": "679aadc0-a0ec-4d66-afcd-3b432128110f",
   "metadata": {},
   "source": [
    "### Part 2: Array Manipulation"
   ]
  },
  {
   "cell_type": "markdown",
   "id": "e155c62c-9b3b-47d8-bd48-7e48664a53eb",
   "metadata": {},
   "source": [
    "#### 1- Reshape arr1d (from Q1) into a 2x5 2D array. Name the new array reshaped_arr."
   ]
  },
  {
   "cell_type": "code",
   "execution_count": 12,
   "id": "4c5a2d69-92d5-42b0-892b-dfb646621867",
   "metadata": {},
   "outputs": [
    {
     "name": "stdout",
     "output_type": "stream",
     "text": [
      "\n",
      "Reshape Array:\n",
      " [[0 1 2 3 4]\n",
      " [5 6 7 8 9]]\n"
     ]
    }
   ],
   "source": [
    "arr1d = arr1d.reshape((2,5))\n",
    "print(\"\\nReshape Array:\\n\", arr1d)"
   ]
  },
  {
   "cell_type": "markdown",
   "id": "5cc863ea-49a1-4384-86ad-07a2a4743f1d",
   "metadata": {},
   "source": [
    "#### 2- Transpose reshaped_arr (from Q7). Name the result transposed_arr."
   ]
  },
  {
   "cell_type": "code",
   "execution_count": 13,
   "id": "360f5cdc-7db6-4451-9d83-3204fbb443ab",
   "metadata": {},
   "outputs": [
    {
     "data": {
      "text/plain": [
       "array([[0, 5],\n",
       "       [1, 6],\n",
       "       [2, 7],\n",
       "       [3, 8],\n",
       "       [4, 9]])"
      ]
     },
     "execution_count": 13,
     "metadata": {},
     "output_type": "execute_result"
    }
   ],
   "source": [
    "arr1d.T"
   ]
  },
  {
   "cell_type": "markdown",
   "id": "81319685-94b9-4eec-a648-9844e3529654",
   "metadata": {},
   "source": [
    "#### 3- Stack two 1D arrays a = np.array([1, 2, 3]) and b = np.array([4, 5, 6]) vertically."
   ]
  },
  {
   "cell_type": "code",
   "execution_count": 14,
   "id": "6d7be460-a1fd-4c3c-804e-3e12d7defe83",
   "metadata": {},
   "outputs": [
    {
     "name": "stdout",
     "output_type": "stream",
     "text": [
      "Vertical Stack:\n",
      " [[1 2 3]\n",
      " [4 5 6]]\n"
     ]
    }
   ],
   "source": [
    "a = np.array([1, 2, 3]) \n",
    "b = np.array([4, 5, 6])\n",
    "\n",
    "v_stack = np.vstack((a, b))\n",
    "print(\"Vertical Stack:\\n\", v_stack)\n"
   ]
  },
  {
   "cell_type": "markdown",
   "id": "565d005e-44e4-408e-8ae2-c70b35b9abd0",
   "metadata": {},
   "source": [
    "#### 4- Stack two 2D arrays m1 = np.array([[1, 2], [3, 4]]) and m2 = np.array([[5, 6], [7, 8]]) horizontally."
   ]
  },
  {
   "cell_type": "code",
   "execution_count": 15,
   "id": "446b1a28-eb86-40c7-9a76-d1daedb686c3",
   "metadata": {},
   "outputs": [
    {
     "name": "stdout",
     "output_type": "stream",
     "text": [
      "Horizental Stack:\n",
      " [[1 2 5 6]\n",
      " [3 4 7 8]]\n"
     ]
    }
   ],
   "source": [
    "m1 = np.array([[1, 2], [3, 4]])\n",
    "m2 = np.array([[5, 6], [7, 8]])\n",
    "\n",
    "h_stack = np.hstack((m1, m2))\n",
    "print(\"Horizental Stack:\\n\", h_stack)"
   ]
  },
  {
   "cell_type": "markdown",
   "id": "31730f3e-d66e-490c-9c90-7612b17a867e",
   "metadata": {},
   "source": [
    "#### 5- Split the array arr_to_split = np.arange(16).reshape(4, 4) horizontally into 2 equal parts. Print both parts."
   ]
  },
  {
   "cell_type": "code",
   "execution_count": 16,
   "id": "307bc931-d27c-4ab3-b155-32bd42a118d5",
   "metadata": {},
   "outputs": [
    {
     "name": "stdout",
     "output_type": "stream",
     "text": [
      "Original Array:\n",
      " [[ 0  1  2  3]\n",
      " [ 4  5  6  7]\n",
      " [ 8  9 10 11]\n",
      " [12 13 14 15]]\n",
      "Horizental Split by 2:\n",
      " [[ 0  1]\n",
      " [ 4  5]\n",
      " [ 8  9]\n",
      " [12 13]] \n",
      "---\n",
      " [[ 2  3]\n",
      " [ 6  7]\n",
      " [10 11]\n",
      " [14 15]]\n"
     ]
    }
   ],
   "source": [
    "arr_to_split = np.arange(16).reshape(4, 4)\n",
    "print(\"Original Array:\\n\", arr_to_split)\n",
    "\n",
    "h_split = np.hsplit(arr_to_split, 2)\n",
    "print(\"Horizental Split by 2:\\n\", h_split[0], \"\\n---\\n\", h_split[1])   "
   ]
  },
  {
   "cell_type": "markdown",
   "id": "2719861f-47c9-4c9e-80fc-e0faffab027d",
   "metadata": {},
   "source": [
    "#### 6- Split the array arr_to_split (from Q11) vertically at index 2 (i.e., into two parts: first two rows, and last two rows). Print both parts."
   ]
  },
  {
   "cell_type": "code",
   "execution_count": 17,
   "id": "7bf51535-7b46-471c-83a4-3ade22faec30",
   "metadata": {},
   "outputs": [
    {
     "name": "stdout",
     "output_type": "stream",
     "text": [
      "Vertical Split by 2:\n",
      " [[0 1 2 3]\n",
      " [4 5 6 7]] \n",
      "---\n",
      " [[ 8  9 10 11]\n",
      " [12 13 14 15]]\n"
     ]
    }
   ],
   "source": [
    "v_split = np.vsplit(arr_to_split, 2)\n",
    "print(\"Vertical Split by 2:\\n\", v_split[0], \"\\n---\\n\", v_split[1]) "
   ]
  },
  {
   "cell_type": "markdown",
   "id": "b8e95be1-f00c-4408-bf1d-dcabcf30976a",
   "metadata": {},
   "source": [
    "### Part 3: Indexing, Slicing, and Boolean Indexing"
   ]
  },
  {
   "cell_type": "markdown",
   "id": "a80dcfe9-13ae-487f-afbd-252877fc9c4b",
   "metadata": {},
   "source": [
    "#### 1- Given data = np.array([[10, 11, 12], [13, 14, 15], [16, 17, 18]]), extract the element at row 1, column 2."
   ]
  },
  {
   "cell_type": "code",
   "execution_count": 18,
   "id": "0c24c898-f60e-4e17-8f9b-ad9a827a527c",
   "metadata": {},
   "outputs": [
    {
     "name": "stdout",
     "output_type": "stream",
     "text": [
      "15\n"
     ]
    }
   ],
   "source": [
    "data = np.array([[10, 11, 12], [13, 14, 15], [16, 17, 18]])\n",
    "element = data[1, 2]\n",
    "print(element)"
   ]
  },
  {
   "cell_type": "markdown",
   "id": "c7d6a135-f648-4e82-9668-f5a516c40e45",
   "metadata": {},
   "source": [
    "#### 2- From the data array (from Q13), extract the first two rows and all columns."
   ]
  },
  {
   "cell_type": "code",
   "execution_count": 19,
   "id": "53af2a9b-3d5a-40af-8e5e-7f1d5068d698",
   "metadata": {},
   "outputs": [
    {
     "data": {
      "text/plain": [
       "array([[10, 11, 12],\n",
       "       [13, 14, 15]])"
      ]
     },
     "execution_count": 19,
     "metadata": {},
     "output_type": "execute_result"
    }
   ],
   "source": [
    "arr = data[0:2, :]\n",
    "arr"
   ]
  },
  {
   "cell_type": "markdown",
   "id": "5e9d7f4a-f757-4341-a026-4ef6bdc37a83",
   "metadata": {},
   "source": [
    "#### 3- From the data array (from Q13), extract the elements 11, 15, and 17 using fancy indexing (hint: you'll need to specify rows and columns)."
   ]
  },
  {
   "cell_type": "code",
   "execution_count": 37,
   "id": "aa57d622-8110-4884-a07e-9b934ae6883f",
   "metadata": {},
   "outputs": [
    {
     "data": {
      "text/plain": [
       "array([11, 15, 17])"
      ]
     },
     "execution_count": 37,
     "metadata": {},
     "output_type": "execute_result"
    }
   ],
   "source": [
    "rows = [0, 1, 2]\n",
    "cols = [1, 2, 1]\n",
    "\n",
    "elements = data[rows, cols]\n",
    "elements"
   ]
  },
  {
   "cell_type": "markdown",
   "id": "051b3c94-72b9-413e-8428-538e163d41c3",
   "metadata": {},
   "source": [
    "#### 4- Given scores = np.array([85, 92, 78, 65, 95, 88]), use boolean indexing to find all scores greater than 80."
   ]
  },
  {
   "cell_type": "code",
   "execution_count": 21,
   "id": "6dc5fb3a-5a64-4919-a887-c6096cd2a47c",
   "metadata": {},
   "outputs": [
    {
     "name": "stdout",
     "output_type": "stream",
     "text": [
      "Scores greater than 80: [85 92 95 88]\n"
     ]
    }
   ],
   "source": [
    "scores = np.array([85, 92, 78, 65, 95, 88])\n",
    "high_scores = scores[scores > 80]\n",
    "print(\"Scores greater than 80:\", high_scores)"
   ]
  },
  {
   "cell_type": "markdown",
   "id": "daac6fef-849b-4647-8055-7b199a6ca3b9",
   "metadata": {},
   "source": [
    "### Part 4: Numerical Operations and Aggregations"
   ]
  },
  {
   "cell_type": "markdown",
   "id": "ad136786-2a8d-4d29-8e23-99175061a5b7",
   "metadata": {},
   "source": [
    "#### 1- Given arr_op1 = np.array([10, 20, 30]) and arr_op2 = np.array([2, 4, 6]), perform element-wise multiplication and division (arr_op1 / arr_op2)."
   ]
  },
  {
   "cell_type": "code",
   "execution_count": 28,
   "id": "4de8b58a-1f1a-47c8-9331-f9758aee7904",
   "metadata": {},
   "outputs": [
    {
     "name": "stdout",
     "output_type": "stream",
     "text": [
      "The result of Multiplication: [ 20  80 180]\n",
      "The result of Division [5. 5. 5.]\n"
     ]
    }
   ],
   "source": [
    "arr_op1 = np.array([10, 20, 30])\n",
    "arr_op2 = np.array([2, 4, 6])\n",
    "\n",
    "multiplication = arr_op1 * arr_op2\n",
    "division = arr_op1 / arr_op2\n",
    "print(\"The result of Multiplication:\", multiplication)\n",
    "print(\"The result of Division\", division)"
   ]
  },
  {
   "cell_type": "markdown",
   "id": "4ceea31e-e49c-4c95-8367-718d939049f4",
   "metadata": {},
   "source": [
    "#### 2- Given matrix = np.array([[1, 2, 3], [4, 5, 6], [7, 8, 9]]), calculate the sum of all elements in the matrix."
   ]
  },
  {
   "cell_type": "code",
   "execution_count": 29,
   "id": "86254f28-6e76-4819-9657-a53a9b8a2cd8",
   "metadata": {},
   "outputs": [
    {
     "data": {
      "text/plain": [
       "np.int64(45)"
      ]
     },
     "execution_count": 29,
     "metadata": {},
     "output_type": "execute_result"
    }
   ],
   "source": [
    "matrix = np.array([[1, 2, 3], [4, 5, 6], [7, 8, 9]])\n",
    "\n",
    "matrix_sum = np.sum(matrix)\n",
    "matrix_sum "
   ]
  },
  {
   "cell_type": "markdown",
   "id": "52244ee9-00a9-43f4-a9fc-81b1bd56a4a2",
   "metadata": {},
   "source": [
    "#### 3- From the matrix (from Q18), calculate the mean of each column."
   ]
  },
  {
   "cell_type": "code",
   "execution_count": 34,
   "id": "006f3d9a-8963-4d88-8b7c-6f9b4e90075d",
   "metadata": {},
   "outputs": [
    {
     "data": {
      "text/plain": [
       "array([4., 5., 6.])"
      ]
     },
     "execution_count": 34,
     "metadata": {},
     "output_type": "execute_result"
    }
   ],
   "source": [
    "means = np.mean(matrix, axis=0)\n",
    "means"
   ]
  },
  {
   "cell_type": "markdown",
   "id": "392eaea1-6685-4afb-ad3f-2bb56fc8c11b",
   "metadata": {},
   "source": [
    "#### 4- Given price_array = np.array([100, 150, 200, 250]) and discount_percentage = 0.10, apply a 10% discount to all prices using broadcasting."
   ]
  },
  {
   "cell_type": "code",
   "execution_count": 31,
   "id": "0f6ec602-b103-4cb5-b003-6ab0c3e9bfcf",
   "metadata": {},
   "outputs": [
    {
     "name": "stdout",
     "output_type": "stream",
     "text": [
      "Discounted prices: [ 90. 135. 180. 225.]\n"
     ]
    }
   ],
   "source": [
    "price_array = np.array([100, 150, 200, 250])\n",
    "discount_percentage = 0.10\n",
    "\n",
    "discounted_prices = price_array * (1 - discount_percentage)\n",
    "print(\"Discounted prices:\", discounted_prices)"
   ]
  }
 ],
 "metadata": {
  "kernelspec": {
   "display_name": "Python [conda env:base] *",
   "language": "python",
   "name": "conda-base-py"
  },
  "language_info": {
   "codemirror_mode": {
    "name": "ipython",
    "version": 3
   },
   "file_extension": ".py",
   "mimetype": "text/x-python",
   "name": "python",
   "nbconvert_exporter": "python",
   "pygments_lexer": "ipython3",
   "version": "3.13.5"
  }
 },
 "nbformat": 4,
 "nbformat_minor": 5
}
