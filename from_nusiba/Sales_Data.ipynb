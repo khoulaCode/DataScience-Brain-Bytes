{
 "cells": [
  {
   "cell_type": "markdown",
   "id": "d1edec10-f700-419a-ad41-a8d8f2665e5f",
   "metadata": {},
   "source": [
    "### Sales Data Simulation and Analysis\n",
    "* You are a junior data analyst at an online retail company. Your manager wants to understand daily sales patterns. You need to simulate a month's worth of sales data and then use NumPy to extract insights about sales performance."
   ]
  },
  {
   "cell_type": "code",
   "execution_count": 2,
   "id": "e7272df8-4997-4391-b393-8b5b040a1989",
   "metadata": {},
   "outputs": [],
   "source": [
    "import numpy as np\n",
    "np.random.seed(42)"
   ]
  },
  {
   "cell_type": "markdown",
   "id": "122da489-7c28-4b79-a167-6a0d9b7c566e",
   "metadata": {},
   "source": [
    "##### 1- Sales Data Generation: \n",
    "###### Simulate daily sales_revenue for 30 days. Assume a base daily revenue (e.g., $1000) with random fluctuations. Use np.random.rand() or np.random.normal() to add variability. Ensure no negative sales."
   ]
  },
  {
   "cell_type": "code",
   "execution_count": 4,
   "id": "c1ec8829-7903-4918-9162-9fb13a4787ff",
   "metadata": {},
   "outputs": [
    {
     "data": {
      "text/plain": [
       "array([ 879.65867755, 1370.4556369 ,  997.30055505,  788.45781421,\n",
       "       1164.50898242,  755.83127001, 1041.772719  ,  608.06597522,\n",
       "        734.36279022, 1039.37224717, 1147.693316  , 1034.27365624,\n",
       "        976.87034352,  939.77926088,  704.29560193,  856.03115832,\n",
       "        907.87224581, 1211.42444524, 1068.72365791,  647.39196893,\n",
       "       1064.81679388,  922.98354392,  864.61559994, 1122.33525777,\n",
       "       1206.1999045 , 1186.25602382,  832.15649536,  938.15752483,\n",
       "       1066.25268628, 1195.10902542])"
      ]
     },
     "execution_count": 4,
     "metadata": {},
     "output_type": "execute_result"
    }
   ],
   "source": [
    "base_revenue = 1000\n",
    "sales_revenue = np.random.normal(loc=base_revenue, scale=200, size=30)\n",
    "sales_revenue = np.clip(sales_revenue, a_min=0, a_max=None)  \n",
    "sales_revenue"
   ]
  },
  {
   "cell_type": "markdown",
   "id": "6334e73b-a12e-41e0-a7b1-4b519cb99c5b",
   "metadata": {},
   "source": [
    "###### Simulate units_sold for the same 30 days, correlated with sales revenue but with its own random fluctuations."
   ]
  },
  {
   "cell_type": "code",
   "execution_count": 6,
   "id": "2c69cd88-eed8-46bb-ba3a-ad4784232bf5",
   "metadata": {},
   "outputs": [
    {
     "data": {
      "text/plain": [
       "array([40, 67, 41, 34, 50, 27, 48, 28, 33, 46, 45, 44, 42, 38, 31, 40, 50,\n",
       "       55, 49, 29, 38, 41, 39, 63, 53, 55, 37, 36, 54, 58])"
      ]
     },
     "execution_count": 6,
     "metadata": {},
     "output_type": "execute_result"
    }
   ],
   "source": [
    "average_unit_price= 22\n",
    "noise = np.random.normal(loc=0, scale=5, size=30)\n",
    "units_sold = (sales_revenue / average_unit_price) + noise\n",
    "units_sold = np.clip(units_sold, a_min=0, a_max=None).astype(int)  # Ensure no negative units\n",
    "units_sold"
   ]
  },
  {
   "cell_type": "markdown",
   "id": "55bc5b17-346c-4fac-ba5f-dc066e2258f1",
   "metadata": {},
   "source": [
    "###### Create two 1D NumPy arrays, one for sales_revenue and one for units_sold."
   ]
  },
  {
   "cell_type": "code",
   "execution_count": 9,
   "id": "56130fb7-f6ca-4b7d-9bba-81d51c1d69f7",
   "metadata": {},
   "outputs": [
    {
     "name": "stdout",
     "output_type": "stream",
     "text": [
      "The Sales Revenue is: [ 879.65867755 1370.4556369   997.30055505  788.45781421 1164.50898242\n",
      "  755.83127001 1041.772719    608.06597522  734.36279022 1039.37224717\n",
      " 1147.693316   1034.27365624  976.87034352  939.77926088  704.29560193\n",
      "  856.03115832  907.87224581 1211.42444524 1068.72365791  647.39196893\n",
      " 1064.81679388  922.98354392  864.61559994 1122.33525777 1206.1999045\n",
      " 1186.25602382  832.15649536  938.15752483 1066.25268628 1195.10902542]\n",
      "The Units Sold is: [40 67 41 34 50 27 48 28 33 46 45 44 42 38 31 40 50 55 49 29 38 41 39 63\n",
      " 53 55 37 36 54 58]\n"
     ]
    }
   ],
   "source": [
    "sales_revenue = np.array(sales_revenue)\n",
    "units_sold = np.array(units_sold)\n",
    "\n",
    "print(\"The Sales Revenue is:\", sales_revenue)\n",
    "print(\"The Units Sold is:\", units_sold)"
   ]
  },
  {
   "cell_type": "markdown",
   "id": "a7d6f364-c97e-407a-b2e0-4e6c9c77a33b",
   "metadata": {},
   "source": [
    "##### 2- Combine Data: \n",
    "###### Create a 2D NumPy array where the first column is sales_revenue and the second is units_sold."
   ]
  },
  {
   "cell_type": "code",
   "execution_count": 10,
   "id": "4608746e-748a-4b3c-b6f7-dd09b375a526",
   "metadata": {},
   "outputs": [
    {
     "data": {
      "text/plain": [
       "array([[ 879.65867755,   40.        ],\n",
       "       [1370.4556369 ,   67.        ],\n",
       "       [ 997.30055505,   41.        ],\n",
       "       [ 788.45781421,   34.        ],\n",
       "       [1164.50898242,   50.        ],\n",
       "       [ 755.83127001,   27.        ],\n",
       "       [1041.772719  ,   48.        ],\n",
       "       [ 608.06597522,   28.        ],\n",
       "       [ 734.36279022,   33.        ],\n",
       "       [1039.37224717,   46.        ],\n",
       "       [1147.693316  ,   45.        ],\n",
       "       [1034.27365624,   44.        ],\n",
       "       [ 976.87034352,   42.        ],\n",
       "       [ 939.77926088,   38.        ],\n",
       "       [ 704.29560193,   31.        ],\n",
       "       [ 856.03115832,   40.        ],\n",
       "       [ 907.87224581,   50.        ],\n",
       "       [1211.42444524,   55.        ],\n",
       "       [1068.72365791,   49.        ],\n",
       "       [ 647.39196893,   29.        ],\n",
       "       [1064.81679388,   38.        ],\n",
       "       [ 922.98354392,   41.        ],\n",
       "       [ 864.61559994,   39.        ],\n",
       "       [1122.33525777,   63.        ],\n",
       "       [1206.1999045 ,   53.        ],\n",
       "       [1186.25602382,   55.        ],\n",
       "       [ 832.15649536,   37.        ],\n",
       "       [ 938.15752483,   36.        ],\n",
       "       [1066.25268628,   54.        ],\n",
       "       [1195.10902542,   58.        ]])"
      ]
     },
     "execution_count": 10,
     "metadata": {},
     "output_type": "execute_result"
    }
   ],
   "source": [
    "sales_data = np.column_stack((sales_revenue, units_sold))\n",
    "sales_data"
   ]
  },
  {
   "cell_type": "markdown",
   "id": "2938b63f-b72c-4d29-b30e-ec0081e6a464",
   "metadata": {},
   "source": [
    "##### 3- Key Performance Indicators (KPIs): \n",
    "###### Calculate the total sales_revenue for the month."
   ]
  },
  {
   "cell_type": "code",
   "execution_count": 14,
   "id": "b6405fb9-016b-4b7a-8100-8191b23dc156",
   "metadata": {},
   "outputs": [
    {
     "name": "stdout",
     "output_type": "stream",
     "text": [
      "The total revenue: 29273.025178260345\n"
     ]
    }
   ],
   "source": [
    "total_sales_revenue = np.sum(sales_revenue)\n",
    "print(\"The total revenue:\", total_sales_revenue)"
   ]
  },
  {
   "cell_type": "markdown",
   "id": "26383f1f-3d16-487d-9d1d-ab6f5f01a0fc",
   "metadata": {},
   "source": [
    "###### Calculate the average units_sold per day."
   ]
  },
  {
   "cell_type": "code",
   "execution_count": 15,
   "id": "01e9f23e-9f18-4726-b9fa-7b24001ad372",
   "metadata": {},
   "outputs": [
    {
     "name": "stdout",
     "output_type": "stream",
     "text": [
      "The averge sold is: 43.7\n"
     ]
    }
   ],
   "source": [
    "average_units_sold = np.mean(units_sold)\n",
    "print(\"The averge sold is:\", average_units_sold)"
   ]
  },
  {
   "cell_type": "markdown",
   "id": "a74654a6-32ca-4016-8792-876fbb5749c1",
   "metadata": {},
   "source": [
    "###### Determine the maximum daily sales_revenue and the day (index) it occurred."
   ]
  },
  {
   "cell_type": "code",
   "execution_count": 26,
   "id": "a69e5da6-74e1-44ed-9487-9269d2e66b7f",
   "metadata": {},
   "outputs": [
    {
     "name": "stdout",
     "output_type": "stream",
     "text": [
      "Max Revenue in a Day: 1370.4556369017876\n",
      "Day Index of Max Revenue: 1\n"
     ]
    }
   ],
   "source": [
    "max_sales_revenue  = np.max(sales_revenue)\n",
    "max_daily_index = np.argmax(sales_revenue)\n",
    "\n",
    "print(\"Max Revenue in a Day:\", max_sales_revenue)\n",
    "print(\"Day Index of Max Revenue:\", max_daily_index)"
   ]
  },
  {
   "cell_type": "markdown",
   "id": "59001635-4f4c-4497-ac28-07c718f8bf5c",
   "metadata": {},
   "source": [
    "###### Calculate the average revenue per unit sold for the entire month (total revenue / total units sold)."
   ]
  },
  {
   "cell_type": "code",
   "execution_count": 27,
   "id": "9131636b-6b4d-4f4d-962a-1d1029151890",
   "metadata": {},
   "outputs": [
    {
     "name": "stdout",
     "output_type": "stream",
     "text": [
      "Average Revenue per Unit: 22.328775879679895\n"
     ]
    }
   ],
   "source": [
    "total_units_sold = np.sum(units_sold)\n",
    "avg_revenue_per_unit = total_sales_revenue / total_units_sold\n",
    "\n",
    "print(\"Average Revenue per Unit:\", avg_revenue_per_unit)\n"
   ]
  },
  {
   "cell_type": "markdown",
   "id": "91ef433a-794d-48b2-9405-0989c4a88648",
   "metadata": {},
   "source": [
    "##### 4 Conditional Analysis: \n",
    "###### Identify and count how many days had sales_revenue above a certain target (e.g., $1200)."
   ]
  },
  {
   "cell_type": "code",
   "execution_count": 28,
   "id": "0dc4fbdf-5245-40bc-b374-7c8196b25353",
   "metadata": {},
   "outputs": [
    {
     "data": {
      "text/plain": [
       "np.int64(3)"
      ]
     },
     "execution_count": 28,
     "metadata": {},
     "output_type": "execute_result"
    }
   ],
   "source": [
    "days_above_1200 = sales_revenue > 1200\n",
    "count_above_1200 = np.sum(days_above_1200)\n",
    "count_above_1200"
   ]
  },
  {
   "cell_type": "markdown",
   "id": "f2adbfb3-fa66-4255-b17b-646e2e1e779c",
   "metadata": {},
   "source": [
    "###### Calculate the average units_sold only for days when sales_revenue was below a certain threshold (e.g., $900)."
   ]
  },
  {
   "cell_type": "code",
   "execution_count": 29,
   "id": "d80efcf1-e809-41b7-9256-6291053a146c",
   "metadata": {},
   "outputs": [
    {
     "name": "stdout",
     "output_type": "stream",
     "text": [
      "Days below 900: [ True False False  True False  True False  True  True False False False\n",
      " False False  True  True False False False  True False False  True False\n",
      " False False  True False False False]\n",
      "The Average units below 900: 33.8\n"
     ]
    }
   ],
   "source": [
    "days_below_900 = sales_revenue < 900\n",
    "avg_units_below_900 = np.mean(units_sold[days_below_900])\n",
    "\n",
    "print(\"Days below 900:\", days_below_900)\n",
    "print(\"The Average units below 900:\", avg_units_below_900)"
   ]
  },
  {
   "cell_type": "markdown",
   "id": "b17115b0-c911-4efd-9ce1-008c4f9878c0",
   "metadata": {},
   "source": [
    "##### 5- Weekly Aggregations: \n",
    "###### Assume the 30 days start on a Monday. Calculate the total sales_revenue for each of the 4 full weeks (days 1-7, 8-14, 15-21, 22-28). You will need to reshape or carefully slice your data."
   ]
  },
  {
   "cell_type": "code",
   "execution_count": 33,
   "id": "44f7ce26-9174-4fc1-a102-97fc042050b8",
   "metadata": {},
   "outputs": [
    {
     "name": "stdout",
     "output_type": "stream",
     "text": [
      "The total weekly revenue: [np.float64(6997.9856551445255), np.float64(6480.417589259753), np.float64(6460.555872019504), np.float64(7072.704350131377)]\n"
     ]
    }
   ],
   "source": [
    "weekly_revenue_totals = []\n",
    "\n",
    "for i in range(0, 28, 7):\n",
    "    week_total = np.sum(sales_revenue[i:i+7])\n",
    "    weekly_revenue_totals.append(week_total)\n",
    "\n",
    "print(\"The total weekly revenue:\", weekly_revenue_totals)"
   ]
  },
  {
   "cell_type": "code",
   "execution_count": null,
   "id": "052289c0-3ba2-4922-af2d-6817b829b945",
   "metadata": {},
   "outputs": [],
   "source": []
  }
 ],
 "metadata": {
  "kernelspec": {
   "display_name": "Python [conda env:base] *",
   "language": "python",
   "name": "conda-base-py"
  },
  "language_info": {
   "codemirror_mode": {
    "name": "ipython",
    "version": 3
   },
   "file_extension": ".py",
   "mimetype": "text/x-python",
   "name": "python",
   "nbconvert_exporter": "python",
   "pygments_lexer": "ipython3",
   "version": "3.13.5"
  }
 },
 "nbformat": 4,
 "nbformat_minor": 5
}
