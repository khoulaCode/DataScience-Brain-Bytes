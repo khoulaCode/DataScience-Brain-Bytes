{
 "cells": [
  {
   "cell_type": "markdown",
   "id": "d320f123-f3d8-4425-aaef-b645ec6dff4f",
   "metadata": {},
   "source": [
    "# Smart Building "
   ]
  },
  {
   "cell_type": "markdown",
   "id": "39b319a1-c2ff-4715-a105-b4d142528c5e",
   "metadata": {},
   "source": [
    "#### environmental conditions in a smart building. You have collected sensor data (temperature, humidity, pressure) over 24 hours, with readings taken every minute. Your goal is to process this raw data to find key statistics and identify anomalies."
   ]
  },
  {
   "cell_type": "markdown",
   "id": "74796da4-0ed3-41c9-a1c3-e9cca5174d84",
   "metadata": {},
   "source": [
    "##### Sub-tasks:\n",
    " \n",
    " \n",
    "1.Data Generation: "
   ]
  },
  {
   "cell_type": "code",
   "execution_count": 1,
   "id": "9e8df6bd-2118-436e-af33-4ea8a33d94bb",
   "metadata": {},
   "outputs": [],
   "source": [
    "import numpy as np"
   ]
  },
  {
   "cell_type": "code",
   "execution_count": 8,
   "id": "d4a4b437-086b-40a9-adc5-bdd9c75f9dbd",
   "metadata": {},
   "outputs": [
    {
     "name": "stdout",
     "output_type": "stream",
     "text": [
      "Data shape: (1440, 4)\n"
     ]
    }
   ],
   "source": [
    "time_in_minutes = np.arange(0, 24 * 60)  \n",
    "\n",
    "np.random.seed(42)\n",
    "\n",
    "temperature = 22 + np.random.normal(0, 0.5, size=time_in_minutes.shape)\n",
    "\n",
    "humidity = 55 + np.random.normal(0, 2, size=time_in_minutes.shape)\n",
    "humidity = np.clip(humidity, 0, 100)\n",
    "\n",
    "pressure = 1012 + np.random.normal(0, 1, size=time_in_minutes.shape)\n",
    "\n",
    "data = np.column_stack((time_in_minutes, temperature, humidity, pressure))\n",
    "\n",
    "print(f\"Data shape: {data.shape}\")\n"
   ]
  },
  {
   "cell_type": "markdown",
   "id": "e3a301c9-ca97-4cba-9d79-fa67be22dd11",
   "metadata": {},
   "source": [
    "#### 2.Basic Statistics: "
   ]
  },
  {
   "cell_type": "code",
   "execution_count": 9,
   "id": "08b7808b-78da-4e4d-af58-f9e33635f4e2",
   "metadata": {},
   "outputs": [
    {
     "name": "stdout",
     "output_type": "stream",
     "text": [
      "Basic Statistics:\n",
      "Temperature - avg: 22.02°C, min: 20.38°C, max: 23.93°C, std: 0.49\n",
      "Humidity    - avg: 55.05%, min: 48.96%, max: 61.39%, std: 1.95\n",
      "Pressure    - avg: 1011.96hPa, min: 1008.99hPa, max: 1015.93hPa, std: 1.03\n"
     ]
    }
   ],
   "source": [
    "avg_temp = np.mean(temperature)\n",
    "min_temp = np.min(temperature)\n",
    "max_temp = np.max(temperature)\n",
    "std_temp = np.std(temperature)\n",
    "\n",
    "avg_hum = np.mean(humidity)\n",
    "min_hum = np.min(humidity)\n",
    "max_hum = np.max(humidity)\n",
    "std_hum = np.std(humidity)\n",
    "\n",
    "avg_pres = np.mean(pressure)\n",
    "min_pres = np.min(pressure)\n",
    "max_pres = np.max(pressure)\n",
    "std_pres = np.std(pressure)\n",
    "\n",
    "print(\"Basic Statistics:\")\n",
    "print(f\"Temperature - avg: {avg_temp:.2f}°C, min: {min_temp:.2f}°C, max: {max_temp:.2f}°C, std: {std_temp:.2f}\")\n",
    "print(f\"Humidity    - avg: {avg_hum:.2f}%, min: {min_hum:.2f}%, max: {max_hum:.2f}%, std: {std_hum:.2f}\")\n",
    "print(f\"Pressure    - avg: {avg_pres:.2f}hPa, min: {min_pres:.2f}hPa, max: {max_pres:.2f}hPa, std: {std_pres:.2f}\")\n"
   ]
  },
  {
   "cell_type": "markdown",
   "id": "9e67707f-14a4-4e2a-97d4-15e751cc9c82",
   "metadata": {},
   "source": [
    "#### 3.Hourly Averages: "
   ]
  },
  {
   "cell_type": "code",
   "execution_count": 10,
   "id": "a359467c-1034-4db1-9790-175a097934a8",
   "metadata": {},
   "outputs": [
    {
     "name": "stdout",
     "output_type": "stream",
     "text": [
      "Hour 00 - Temp: 21.92°C, Humidity: 55.54%, Pressure: 1012.02hPa\n",
      "Hour 01 - Temp: 22.00°C, Humidity: 55.00%, Pressure: 1011.99hPa\n",
      "Hour 02 - Temp: 22.05°C, Humidity: 54.75%, Pressure: 1011.74hPa\n",
      "Hour 03 - Temp: 22.03°C, Humidity: 55.46%, Pressure: 1012.08hPa\n",
      "Hour 04 - Temp: 21.99°C, Humidity: 55.25%, Pressure: 1011.71hPa\n",
      "Hour 05 - Temp: 22.02°C, Humidity: 54.97%, Pressure: 1012.10hPa\n",
      "Hour 06 - Temp: 22.06°C, Humidity: 54.84%, Pressure: 1012.09hPa\n",
      "Hour 07 - Temp: 22.00°C, Humidity: 54.97%, Pressure: 1012.11hPa\n",
      "Hour 08 - Temp: 21.87°C, Humidity: 55.20%, Pressure: 1012.01hPa\n",
      "Hour 09 - Temp: 22.00°C, Humidity: 54.91%, Pressure: 1012.04hPa\n",
      "Hour 10 - Temp: 22.05°C, Humidity: 54.83%, Pressure: 1011.95hPa\n",
      "Hour 11 - Temp: 21.96°C, Humidity: 54.94%, Pressure: 1012.15hPa\n",
      "Hour 12 - Temp: 22.00°C, Humidity: 55.10%, Pressure: 1011.96hPa\n",
      "Hour 13 - Temp: 22.04°C, Humidity: 54.83%, Pressure: 1012.26hPa\n",
      "Hour 14 - Temp: 22.16°C, Humidity: 55.46%, Pressure: 1011.74hPa\n",
      "Hour 15 - Temp: 22.05°C, Humidity: 54.56%, Pressure: 1011.73hPa\n",
      "Hour 16 - Temp: 22.05°C, Humidity: 55.12%, Pressure: 1011.89hPa\n",
      "Hour 17 - Temp: 22.03°C, Humidity: 55.12%, Pressure: 1012.06hPa\n",
      "Hour 18 - Temp: 22.14°C, Humidity: 55.20%, Pressure: 1011.92hPa\n",
      "Hour 19 - Temp: 21.98°C, Humidity: 55.18%, Pressure: 1011.92hPa\n",
      "Hour 20 - Temp: 22.02°C, Humidity: 54.89%, Pressure: 1012.11hPa\n",
      "Hour 21 - Temp: 22.02°C, Humidity: 55.56%, Pressure: 1011.83hPa\n",
      "Hour 22 - Temp: 21.93°C, Humidity: 54.70%, Pressure: 1011.89hPa\n",
      "Hour 23 - Temp: 22.13°C, Humidity: 54.89%, Pressure: 1011.78hPa\n"
     ]
    }
   ],
   "source": [
    "temp_hourly = temperature.reshape(24, 60).mean(axis=1)\n",
    "hum_hourly = humidity.reshape(24, 60).mean(axis=1)\n",
    "pres_hourly = pressure.reshape(24, 60).mean(axis=1)\n",
    "\n",
    "for hour in range(24):\n",
    "    print(f\"Hour {hour:02d} - Temp: {temp_hourly[hour]:.2f}°C, Humidity: {hum_hourly[hour]:.2f}%, Pressure: {pres_hourly[hour]:.2f}hPa\")\n"
   ]
  },
  {
   "cell_type": "markdown",
   "id": "339a7f10-1590-4cd5-96eb-8f5d33cd2a7f",
   "metadata": {},
   "source": [
    "#### 4.Anomaly Detection (Simple): "
   ]
  },
  {
   "cell_type": "code",
   "execution_count": 11,
   "id": "f180aa1b-8ccc-443b-8b91-ffc8cdec90ec",
   "metadata": {},
   "outputs": [
    {
     "name": "stdout",
     "output_type": "stream",
     "text": [
      "\n",
      "Anomaly detection:\n",
      "Number of minutes temperature exceeded 25°C: 0\n",
      "Time (in minutes) of minimum temperature: 262\n"
     ]
    }
   ],
   "source": [
    "anomaly_mask = temperature > 25\n",
    "num_anomalies = np.sum(anomaly_mask)\n",
    "\n",
    "min_temp_time = time_in_minutes[np.argmin(temperature)]\n",
    "\n",
    "print(f\"\\nAnomaly detection:\")\n",
    "print(f\"Number of minutes temperature exceeded 25°C: {num_anomalies}\")\n",
    "print(f\"Time (in minutes) of minimum temperature: {min_temp_time}\")\n"
   ]
  },
  {
   "cell_type": "markdown",
   "id": "0133108e-daa1-4828-862a-d34ef8d46975",
   "metadata": {},
   "source": [
    "#### 5.Data Export (Optional): "
   ]
  },
  {
   "cell_type": "code",
   "execution_count": 12,
   "id": "3ddbcb2f-baed-4620-9d99-9693e3d8f7aa",
   "metadata": {},
   "outputs": [
    {
     "name": "stdout",
     "output_type": "stream",
     "text": [
      "\n",
      "Data saved to smart_building_sensor_data.csv\n"
     ]
    }
   ],
   "source": [
    "np.savetxt(\"smart_building_sensor_data.csv\", data,\n",
    "           delimiter=\",\",\n",
    "           header=\"Time_min,Temperature_C,Humidity_pct,Pressure_hPa\",\n",
    "           comments='', fmt=\"%.2f\")\n",
    "\n",
    "print(\"\\nData saved to smart_building_sensor_data.csv\")\n"
   ]
  },
  {
   "cell_type": "code",
   "execution_count": null,
   "id": "fb8eaf1c-b7ae-4a96-a95c-1b7c98c0033c",
   "metadata": {},
   "outputs": [],
   "source": []
  }
 ],
 "metadata": {
  "kernelspec": {
   "display_name": "Python 3 (ipykernel)",
   "language": "python",
   "name": "python3"
  },
  "language_info": {
   "codemirror_mode": {
    "name": "ipython",
    "version": 3
   },
   "file_extension": ".py",
   "mimetype": "text/x-python",
   "name": "python",
   "nbconvert_exporter": "python",
   "pygments_lexer": "ipython3",
   "version": "3.13.5"
  }
 },
 "nbformat": 4,
 "nbformat_minor": 5
}
