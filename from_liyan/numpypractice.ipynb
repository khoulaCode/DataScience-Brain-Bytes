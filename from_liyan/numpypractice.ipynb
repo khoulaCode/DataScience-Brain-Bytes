{
 "cells": [
  {
   "cell_type": "markdown",
   "id": "6f3da15d-f35e-4cab-8714-cac819a329ae",
   "metadata": {},
   "source": [
    "# NumPy Practice"
   ]
  },
  {
   "cell_type": "code",
   "execution_count": 1,
   "id": "0bf86782-73c4-4280-8d61-8066b9c7edb6",
   "metadata": {},
   "outputs": [],
   "source": [
    "import numpy as np"
   ]
  },
  {
   "cell_type": "markdown",
   "id": "543e1a96-d730-4b1a-a961-c8ab46cba50e",
   "metadata": {},
   "source": [
    "### Part 1: Array Creation and Properties"
   ]
  },
  {
   "cell_type": "markdown",
   "id": "786ae359-ccea-4e90-a4d1-cd19c731f048",
   "metadata": {},
   "source": [
    "## 1.Create a 1D array named arr1d with integers from 0 to 9."
   ]
  },
  {
   "cell_type": "code",
   "execution_count": 4,
   "id": "bcb28ed8-8adb-4c99-9085-5e4f8737ea9f",
   "metadata": {},
   "outputs": [
    {
     "name": "stdout",
     "output_type": "stream",
     "text": [
      "1D arry: [0 1 2 3 4 5 6 7 8 9]\n"
     ]
    }
   ],
   "source": [
    "arr1d = np.arange(10)\n",
    "print(\"1D arry:\", arr1d)"
   ]
  },
  {
   "cell_type": "markdown",
   "id": "1871b298-86d8-4ead-ab0b-6217713f670c",
   "metadata": {},
   "source": [
    "## 2.Create a 2D array named arr2d with shape (3, 3) filled with ones."
   ]
  },
  {
   "cell_type": "code",
   "execution_count": 9,
   "id": "1a258f0d-2589-46a1-a098-308dc79adccb",
   "metadata": {},
   "outputs": [
    {
     "name": "stdout",
     "output_type": "stream",
     "text": [
      "2D arry \n",
      ": [[1. 1. 1.]\n",
      " [1. 1. 1.]\n",
      " [1. 1. 1.]]\n"
     ]
    }
   ],
   "source": [
    "arr2d = np.ones((3,3))\n",
    "print(\"2D arry \\n:\" , arr2d)"
   ]
  },
  {
   "cell_type": "markdown",
   "id": "903afed9-83a2-4133-a573-87d8e8d01d82",
   "metadata": {},
   "source": [
    "## 3.Create a 3x3 array named random_matrix with random floating-point numbers from a standard normal distribution."
   ]
  },
  {
   "cell_type": "code",
   "execution_count": 13,
   "id": "3c7b5959-e528-4a7d-ae2d-d9c0b28126d4",
   "metadata": {},
   "outputs": [
    {
     "name": "stdout",
     "output_type": "stream",
     "text": [
      "Random 3x3 matrix:\n",
      " [[-1.1295745  -0.63445021  0.82962969]\n",
      " [ 1.41629745  1.28520507 -0.11250297]\n",
      " [-1.49403728  1.20052284  0.18661534]]\n"
     ]
    }
   ],
   "source": [
    "random_matrix = np.random.randn(3,3)\n",
    "print(\"Random 3x3 matrix:\\n\", random_matrix)"
   ]
  },
  {
   "cell_type": "markdown",
   "id": "56c61e33-bbb7-4c71-870e-5dd9f743dd48",
   "metadata": {},
   "source": [
    "## 4.Create an array named even_numbers containing even numbers from 10 to 50 (inclusive)."
   ]
  },
  {
   "cell_type": "code",
   "execution_count": 17,
   "id": "f1b2c90c-11f4-4f2f-91dc-86162e2fe5a9",
   "metadata": {},
   "outputs": [
    {
     "name": "stdout",
     "output_type": "stream",
     "text": [
      "Even number:  [10 12 14 16 18 20 22 24 26 28 30 32 34 36 38 40 42 44 46 48 50]\n"
     ]
    }
   ],
   "source": [
    "even_number = np.arange(10,51,2)\n",
    "print(\"Even number: \", even_number)"
   ]
  },
  {
   "cell_type": "markdown",
   "id": "7c5940d3-f82d-484a-b4b0-706f6de03fac",
   "metadata": {},
   "source": [
    "## 5.Create an array named linspace_array containing 7 equally spaced numbers between 0 and 1 (inclusive)."
   ]
  },
  {
   "cell_type": "code",
   "execution_count": 22,
   "id": "60d74874-f1b1-439a-a58c-8271cb8ef32b",
   "metadata": {},
   "outputs": [
    {
     "name": "stdout",
     "output_type": "stream",
     "text": [
      "[0.         0.16666667 0.33333333 0.5        0.66666667 0.83333333\n",
      " 1.        ]\n"
     ]
    }
   ],
   "source": [
    "linspace_array = np.linspace(0,1,7)\n",
    "print(linspace_array)"
   ]
  },
  {
   "cell_type": "markdown",
   "id": "45c762dc-808e-4a0c-b745-10d43d0880e8",
   "metadata": {},
   "source": [
    "## 6.Given arr = np.array([[1, 2, 3], [4, 5, 6]]), what is its shape, ndim, and dtype? Print them."
   ]
  },
  {
   "cell_type": "code",
   "execution_count": 23,
   "id": "9aba451c-34fe-4901-a532-3dad3e991e20",
   "metadata": {},
   "outputs": [
    {
     "name": "stdout",
     "output_type": "stream",
     "text": [
      "shape (2, 3)\n",
      "ndim 2\n",
      "type int64\n"
     ]
    }
   ],
   "source": [
    "Given_arr = np.array([[1,2,3],[4,5,6]])\n",
    "print(\"shape\", Given_arr.shape)\n",
    "print(\"ndim\", Given_arr.ndim)\n",
    "print(\"type\", Given_arr.dtype)"
   ]
  },
  {
   "cell_type": "markdown",
   "id": "9004dae4-b924-447a-8e25-1227a765cd67",
   "metadata": {},
   "source": [
    "## Part 2: Array Manipulation"
   ]
  },
  {
   "cell_type": "markdown",
   "id": "2da2f907-3b10-4754-99dd-94dce989ac18",
   "metadata": {},
   "source": [
    "### 1.Reshape arr1d (from Q1) into a 2x5 2D array. Name the new array reshaped_arr."
   ]
  },
  {
   "cell_type": "code",
   "execution_count": 25,
   "id": "b6e52c71-d6f4-4fa8-b851-c69be0ee0335",
   "metadata": {},
   "outputs": [
    {
     "name": "stdout",
     "output_type": "stream",
     "text": [
      "Reshaped arry\n",
      " [[0 1 2 3 4]\n",
      " [5 6 7 8 9]]\n"
     ]
    }
   ],
   "source": [
    "Reshape_arr1d = arr1d.reshape(2, 5)\n",
    "print(\"Reshaped arry\\n\", Reshape_arr1d)"
   ]
  },
  {
   "cell_type": "markdown",
   "id": "dd6e4620-6f31-47aa-a046-1003f9516885",
   "metadata": {},
   "source": [
    "## 2.Transpose reshaped_arr (from Q7). Name the result transposed_arr."
   ]
  },
  {
   "cell_type": "code",
   "execution_count": 27,
   "id": "cf7e41fb-cd3a-4fc9-a701-6ad8285a3d5c",
   "metadata": {},
   "outputs": [
    {
     "name": "stdout",
     "output_type": "stream",
     "text": [
      "Transpose\n",
      " [[0 5]\n",
      " [1 6]\n",
      " [2 7]\n",
      " [3 8]\n",
      " [4 9]]\n"
     ]
    }
   ],
   "source": [
    "transpose = Reshape_arr1d.T\n",
    "print(\"Transpose\\n\", transpose)"
   ]
  },
  {
   "cell_type": "markdown",
   "id": "4aa52ac7-e36d-404b-aae6-c2c683c8cb9c",
   "metadata": {},
   "source": [
    "## 3.Stack two 1D arrays a = np.array([1, 2, 3]) and b = np.array([4, 5, 6]) vertically."
   ]
  },
  {
   "cell_type": "code",
   "execution_count": 29,
   "id": "1ef01bce-327d-433b-a304-f870715c927a",
   "metadata": {},
   "outputs": [
    {
     "name": "stdout",
     "output_type": "stream",
     "text": [
      "stacked 1d arry\n",
      ":  [[1 2 3]\n",
      " [4 5 6]]\n"
     ]
    }
   ],
   "source": [
    "a = np.array([1, 2, 3])\n",
    "b = np.array([4, 5, 6])\n",
    "stack_1D_arry= np.vstack((a,b))\n",
    "print(\"stacked 1d arry\\n: \", stack_1D_arry)"
   ]
  },
  {
   "cell_type": "markdown",
   "id": "386607ae-dde2-4d80-b855-abf95f22fd88",
   "metadata": {},
   "source": [
    "## 4. Stack two 2D arrays m1 = np.array([[1, 2], [3, 4]]) and m2 = np.array([[5, 6], [7, 8]]) horizontally."
   ]
  },
  {
   "cell_type": "code",
   "execution_count": 31,
   "id": "b2d5267e-810c-4e81-bf2e-9242fb42a962",
   "metadata": {},
   "outputs": [
    {
     "name": "stdout",
     "output_type": "stream",
     "text": [
      "Stack two 2D array\n",
      ": [[1 2 5 6]\n",
      " [3 4 7 8]]\n"
     ]
    }
   ],
   "source": [
    "e= ([[1, 2], [3, 4]])\n",
    "r= ([[5, 6], [7, 8]]) \n",
    "stack_2d_arry = np.hstack((e,r))\n",
    "print(\"Stack two 2D array\\n:\", stack_2d_arry)"
   ]
  },
  {
   "cell_type": "markdown",
   "id": "1dc0a2da-1f71-4cdc-8724-7d0a63dba9a1",
   "metadata": {},
   "source": [
    "## 5.Split the array arr_to_split = np.arange(16).reshape(4, 4) horizontally into 2 equal parts. Print both parts."
   ]
  },
  {
   "cell_type": "code",
   "execution_count": 32,
   "id": "add03bec-b17e-495f-b6e1-e7604a47250f",
   "metadata": {},
   "outputs": [
    {
     "name": "stdout",
     "output_type": "stream",
     "text": [
      "Original array:\n",
      " [[ 0  1  2  3]\n",
      " [ 4  5  6  7]\n",
      " [ 8  9 10 11]\n",
      " [12 13 14 15]]\n",
      "\n",
      "Left part:\n",
      " [[ 0  1]\n",
      " [ 4  5]\n",
      " [ 8  9]\n",
      " [12 13]]\n",
      "\n",
      "Right part:\n",
      " [[ 2  3]\n",
      " [ 6  7]\n",
      " [10 11]\n",
      " [14 15]]\n"
     ]
    }
   ],
   "source": [
    "arr_to_split = np.arange(16).reshape(4, 4)\n",
    "print(\"Original array:\\n\", arr_to_split)\n",
    "\n",
    "\n",
    "left_part = arr_to_split[:, :2]   \n",
    "right_part = arr_to_split[:, 2:]  \n",
    "\n",
    "print(\"\\nLeft part:\\n\", left_part)\n",
    "print(\"\\nRight part:\\n\", right_part)\n"
   ]
  },
  {
   "cell_type": "markdown",
   "id": "c2ac6767-f751-4211-b1b9-6803e11580dc",
   "metadata": {},
   "source": [
    "## 6.Split the array arr_to_split (from Q11) vertically at index 2 (i.e., into two parts: first two rows, and last two rows). Print both parts."
   ]
  },
  {
   "cell_type": "code",
   "execution_count": 33,
   "id": "8ce6551e-a7c4-4011-b982-f18518a98b30",
   "metadata": {},
   "outputs": [
    {
     "name": "stdout",
     "output_type": "stream",
     "text": [
      "First part:\n",
      "[[0 1 2 3]\n",
      " [4 5 6 7]]\n",
      "\n",
      "Second part:\n",
      "[[ 8  9 10 11]\n",
      " [12 13 14 15]]\n"
     ]
    }
   ],
   "source": [
    "arr_to_split = np.arange(16).reshape(4, 4)\n",
    "\n",
    "part1, part2 = np.vsplit(arr_to_split, [2])\n",
    "\n",
    "print(\"First part:\")\n",
    "print(part1)\n",
    "\n",
    "print(\"\\nSecond part:\")\n",
    "print(part2)\n"
   ]
  },
  {
   "cell_type": "markdown",
   "id": "813b4a81-a60b-4307-a13b-30a99b2039bf",
   "metadata": {},
   "source": [
    "# Part 3: Indexing, Slicing, and Boolean Indexing"
   ]
  },
  {
   "cell_type": "markdown",
   "id": "2be97520-aa46-4d67-b6b9-49daad3043be",
   "metadata": {},
   "source": [
    "## 1.Given data = np.array([[10, 11, 12], [13, 14, 15], [16, 17, 18]]), extract the element at row 1, column 2."
   ]
  },
  {
   "cell_type": "code",
   "execution_count": 34,
   "id": "65abb11a-4083-4b07-a299-95eab23fe126",
   "metadata": {},
   "outputs": [
    {
     "name": "stdout",
     "output_type": "stream",
     "text": [
      "15\n"
     ]
    }
   ],
   "source": [
    "data = np.array([[10, 11, 12], \n",
    "                 [13, 14, 15], \n",
    "                 [16, 17, 18]])\n",
    "\n",
    "element = data[1, 2]\n",
    "print(element)\n"
   ]
  },
  {
   "cell_type": "markdown",
   "id": "b89119b8-8474-4751-9d60-f13b1a6fb7a9",
   "metadata": {},
   "source": [
    "## 2.From the data array (from Q13), extract the first two rows and all columns."
   ]
  },
  {
   "cell_type": "code",
   "execution_count": 35,
   "id": "190a0f92-12cc-4899-951f-d012f0eb7ec8",
   "metadata": {},
   "outputs": [
    {
     "name": "stdout",
     "output_type": "stream",
     "text": [
      "[[10 11 12]\n",
      " [13 14 15]]\n"
     ]
    }
   ],
   "source": [
    "first_two_rows = data[:2, :]\n",
    "print(first_two_rows)\n"
   ]
  },
  {
   "cell_type": "markdown",
   "id": "1e82ad78-1414-48f2-86fb-7816f1dbb0a9",
   "metadata": {},
   "source": [
    "## 3.From the data array (from Q13), extract the elements 11, 15, and 17 using fancy indexing (hint: you'll need to specify rows and columns)."
   ]
  },
  {
   "cell_type": "code",
   "execution_count": 36,
   "id": "7e99df0c-920c-482d-afb3-7e9adae08dc6",
   "metadata": {},
   "outputs": [
    {
     "name": "stdout",
     "output_type": "stream",
     "text": [
      "[11 15 17]\n"
     ]
    }
   ],
   "source": [
    "rows = np.array([0, 1, 2])\n",
    "cols = np.array([1, 2, 1])\n",
    "\n",
    "elements = data[rows, cols]\n",
    "print(elements)\n"
   ]
  },
  {
   "cell_type": "markdown",
   "id": "1a80bc8d-55e9-4502-8f4a-d8cf1ed5d1ea",
   "metadata": {},
   "source": [
    "## 5. Given scores = np.array([85, 92, 78, 65, 95, 88]), use boolean indexing to find all scores greater than 80."
   ]
  },
  {
   "cell_type": "code",
   "execution_count": 37,
   "id": "41da4531-0693-460a-9671-1cabd0804ca5",
   "metadata": {},
   "outputs": [
    {
     "name": "stdout",
     "output_type": "stream",
     "text": [
      "[85 92 95 88]\n"
     ]
    }
   ],
   "source": [
    "scores = np.array([85, 92, 78, 65, 95, 88])\n",
    "\n",
    "filtered_scores = scores[scores > 80]\n",
    "print(filtered_scores)\n"
   ]
  },
  {
   "cell_type": "markdown",
   "id": "6a10f054-41c7-4b6c-ade4-61aff4259f5a",
   "metadata": {},
   "source": [
    "## Part 4: Numerical Operations and Aggregations"
   ]
  },
  {
   "cell_type": "markdown",
   "id": "9098239e-f58c-4d60-b0fa-c90d24a977fb",
   "metadata": {},
   "source": [
    "## 1.Given arr_op1 = np.array([10, 20, 30]) and arr_op2 = np.array([2, 4, 6]), perform element-wise multiplication and division (arr_op1 / arr_op2)."
   ]
  },
  {
   "cell_type": "code",
   "execution_count": 38,
   "id": "fa42e735-8d6b-46b9-b12f-b755dc49ec77",
   "metadata": {},
   "outputs": [
    {
     "name": "stdout",
     "output_type": "stream",
     "text": [
      "Element wise multiplication: [ 20  80 180]\n",
      "Element wise division: [5. 5. 5.]\n"
     ]
    }
   ],
   "source": [
    "arr_op1 = np.array([10, 20, 30])\n",
    "arr_op2 = np.array([2, 4, 6])\n",
    "\n",
    "multiplication = arr_op1 * arr_op2\n",
    "division = arr_op1 / arr_op2\n",
    "\n",
    "print(\"Element wise multiplication:\", multiplication)\n",
    "print(\"Element wise division:\", division)\n"
   ]
  },
  {
   "cell_type": "markdown",
   "id": "23ec1d5a-a4c8-44a3-ac4c-14c47372d9f4",
   "metadata": {},
   "source": [
    "## 2.Given matrix = np.array([[1, 2, 3], [4, 5, 6], [7, 8, 9]]), calculate the sum of all elements in the matrix."
   ]
  },
  {
   "cell_type": "code",
   "execution_count": 39,
   "id": "af4f3cb6-2670-4034-aa8a-7ed10c9f7d42",
   "metadata": {},
   "outputs": [
    {
     "name": "stdout",
     "output_type": "stream",
     "text": [
      "Sum of all elements: 45\n"
     ]
    }
   ],
   "source": [
    "matrix = np.array([[1, 2, 3], \n",
    "                   [4, 5, 6], \n",
    "                   [7, 8, 9]])\n",
    "\n",
    "total_sum = np.sum(matrix)\n",
    "print(\"Sum of all elements:\", total_sum)\n"
   ]
  },
  {
   "cell_type": "markdown",
   "id": "e71371ae-34b8-4b7c-8686-69bebe24c863",
   "metadata": {},
   "source": [
    "## 3.From the matrix (from Q18), calculate the mean of each column."
   ]
  },
  {
   "cell_type": "code",
   "execution_count": 40,
   "id": "c4ada320-8549-4a60-b147-160ac20a79b5",
   "metadata": {},
   "outputs": [
    {
     "name": "stdout",
     "output_type": "stream",
     "text": [
      "Mean of each column: [4. 5. 6.]\n"
     ]
    }
   ],
   "source": [
    "column_means = np.mean(matrix, axis=0)\n",
    "print(\"Mean of each column:\", column_means)\n"
   ]
  },
  {
   "cell_type": "markdown",
   "id": "2a70a444-38bf-4d56-b8bd-c06122c97acd",
   "metadata": {},
   "source": [
    "## 4. Given price_array = np.array([100, 150, 200, 250]) and discount_percentage = 0.10, apply a 10% discount to all prices using broadcasting."
   ]
  },
  {
   "cell_type": "code",
   "execution_count": 41,
   "id": "fde0fab8-959a-4391-8714-b16aa500ea85",
   "metadata": {},
   "outputs": [
    {
     "name": "stdout",
     "output_type": "stream",
     "text": [
      "Discounted prices: [ 90. 135. 180. 225.]\n"
     ]
    }
   ],
   "source": [
    "price_array = np.array([100, 150, 200, 250])\n",
    "discount_percentage = 0.10\n",
    "\n",
    "discounted_prices = price_array * (1 - discount_percentage)\n",
    "print(\"Discounted prices:\", discounted_prices)\n"
   ]
  },
  {
   "cell_type": "code",
   "execution_count": null,
   "id": "577c8cb6-a9e1-4a2b-bf12-832e634b5fd4",
   "metadata": {},
   "outputs": [],
   "source": []
  }
 ],
 "metadata": {
  "kernelspec": {
   "display_name": "Python 3 (ipykernel)",
   "language": "python",
   "name": "python3"
  },
  "language_info": {
   "codemirror_mode": {
    "name": "ipython",
    "version": 3
   },
   "file_extension": ".py",
   "mimetype": "text/x-python",
   "name": "python",
   "nbconvert_exporter": "python",
   "pygments_lexer": "ipython3",
   "version": "3.13.5"
  }
 },
 "nbformat": 4,
 "nbformat_minor": 5
}
