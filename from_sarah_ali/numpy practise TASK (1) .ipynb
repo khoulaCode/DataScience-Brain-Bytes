{
 "cells": [
  {
   "cell_type": "code",
   "execution_count": 45,
   "id": "bb36108e-9fff-4ab5-983a-bf00fc71cb98",
   "metadata": {},
   "outputs": [],
   "source": [
    "import numpy as np"
   ]
  },
  {
   "cell_type": "markdown",
   "id": "06bc81ab-2a38-4345-be7b-e6303bddd8d6",
   "metadata": {},
   "source": [
    "* Part 1: Array Creation and Properties"
   ]
  },
  {
   "cell_type": "code",
   "execution_count": 4,
   "id": "87051fa7-ea2c-4f8a-a2b0-bd4640cf4f07",
   "metadata": {},
   "outputs": [
    {
     "data": {
      "text/plain": [
       "array([0, 1, 2, 3, 4, 5, 6, 7, 8, 9])"
      ]
     },
     "execution_count": 4,
     "metadata": {},
     "output_type": "execute_result"
    }
   ],
   "source": [
    "# 1. Create a 1D array named arr1d with integers from 0 to 9\n",
    "arr1d = np.arange(10)\n",
    "arr1d"
   ]
  },
  {
   "cell_type": "code",
   "execution_count": 5,
   "id": "020744a9-4144-42bc-85f0-4a8071be2223",
   "metadata": {},
   "outputs": [
    {
     "data": {
      "text/plain": [
       "array([[1., 1., 1.],\n",
       "       [1., 1., 1.],\n",
       "       [1., 1., 1.]])"
      ]
     },
     "execution_count": 5,
     "metadata": {},
     "output_type": "execute_result"
    }
   ],
   "source": [
    "# 2. Create a 2D array named arr2d with shape (3, 3) filled with ones\n",
    "arr2d = np.ones((3, 3))\n",
    "arr2d"
   ]
  },
  {
   "cell_type": "code",
   "execution_count": 6,
   "id": "08dfd101-42b0-4569-a63d-5c1487f40e99",
   "metadata": {},
   "outputs": [
    {
     "data": {
      "text/plain": [
       "array([[ 0.92372346, -0.10369396,  0.0107386 ],\n",
       "       [-0.35112279, -0.06543734, -0.86971573],\n",
       "       [-0.39367867, -0.44511328,  1.69185442]])"
      ]
     },
     "execution_count": 6,
     "metadata": {},
     "output_type": "execute_result"
    }
   ],
   "source": [
    "# 3. Create a 3x3 array named random_matrix with random floating-point numbers from a standard normal distribution\n",
    "random_matrix = np.random.randn(3, 3)\n",
    "random_matrix"
   ]
  },
  {
   "cell_type": "code",
   "execution_count": 7,
   "id": "2a332b42-b93a-4ec1-ae74-f9c984735d7b",
   "metadata": {},
   "outputs": [
    {
     "data": {
      "text/plain": [
       "array([10, 12, 14, 16, 18, 20, 22, 24, 26, 28, 30, 32, 34, 36, 38, 40, 42,\n",
       "       44, 46, 48, 50])"
      ]
     },
     "execution_count": 7,
     "metadata": {},
     "output_type": "execute_result"
    }
   ],
   "source": [
    "# 4. Create an array named even_numbers containing even numbers from 10 to 50 (inclusive)\n",
    "even_numbers = np.arange(10, 51, 2)\n",
    "even_numbers"
   ]
  },
  {
   "cell_type": "code",
   "execution_count": 8,
   "id": "d4b4735a-8ec2-420b-9e79-d70c6fafb068",
   "metadata": {},
   "outputs": [
    {
     "data": {
      "text/plain": [
       "array([0.        , 0.16666667, 0.33333333, 0.5       , 0.66666667,\n",
       "       0.83333333, 1.        ])"
      ]
     },
     "execution_count": 8,
     "metadata": {},
     "output_type": "execute_result"
    }
   ],
   "source": [
    "# 5. Create an array named linspace_array containing 7 equally spaced numbers between 0 and 1 (inclusive)\n",
    "linspace_array = np.linspace(0, 1, 7)\n",
    "linspace_array"
   ]
  },
  {
   "cell_type": "code",
   "execution_count": 14,
   "id": "58716575-983d-4fee-9625-01939bdc5a8b",
   "metadata": {},
   "outputs": [
    {
     "data": {
      "text/plain": [
       "numpy.ndarray"
      ]
     },
     "execution_count": 14,
     "metadata": {},
     "output_type": "execute_result"
    }
   ],
   "source": [
    "# 6. Given arr = np.array([[1, 2, 3], [4, 5, 6]]), print its shape, ndim, and dtype\n",
    "arr = np.array([[1, 2, 3], [4, 5, 6]])\n",
    "type(arr)"
   ]
  },
  {
   "cell_type": "markdown",
   "id": "603a923d-0679-45b5-a843-7bc381c30674",
   "metadata": {},
   "source": [
    "* Part 2: Array Manipulation"
   ]
  },
  {
   "cell_type": "code",
   "execution_count": 30,
   "id": "2a62e511-69ad-44fe-85ff-3384f3a7760e",
   "metadata": {},
   "outputs": [
    {
     "name": "stdout",
     "output_type": "stream",
     "text": [
      "arr1d_1:\n",
      " [[0 1 2 3 4]\n",
      " [5 6 7 8 9]]\n"
     ]
    }
   ],
   "source": [
    "# Q7: Reshape arr1d (from Q1) into a 2x5 2D array. Name the new array reshaped_arr.\n",
    "\n",
    "arr1d= arr1d.reshape(2, 5)\n",
    "print(\"arr1d_1:\\n\",arr1d )"
   ]
  },
  {
   "cell_type": "code",
   "execution_count": 31,
   "id": "04006af8-18ca-40e7-af3c-4f82ec0db614",
   "metadata": {},
   "outputs": [
    {
     "data": {
      "text/plain": [
       "array([[0, 5],\n",
       "       [1, 6],\n",
       "       [2, 7],\n",
       "       [3, 8],\n",
       "       [4, 9]])"
      ]
     },
     "execution_count": 31,
     "metadata": {},
     "output_type": "execute_result"
    }
   ],
   "source": [
    "# Q8: Transpose reshaped_arr (from Q7). Name the result transposed_arr.\n",
    "arr1d.T"
   ]
  },
  {
   "cell_type": "code",
   "execution_count": 32,
   "id": "a49c7a53-03fe-4f85-b186-0d6e1f6cfd27",
   "metadata": {},
   "outputs": [
    {
     "name": "stdout",
     "output_type": "stream",
     "text": [
      "vertical_stack :\n",
      " [[1 2 3]\n",
      " [4 5 6]]\n"
     ]
    }
   ],
   "source": [
    "#Q9: Stack two 1D arrays a = np.array([1, 2, 3]) and b = np.array([4, 5, 6]) vertically.\n",
    "a = np.array([1, 2, 3])\n",
    "b = np.array([4, 5, 6])\n",
    "\n",
    "v_stack  = np.vstack((a, b))\n",
    "print(\"vertical_stack :\\n\", v_stack )"
   ]
  },
  {
   "cell_type": "code",
   "execution_count": 35,
   "id": "fd3e512c-7551-4350-8087-98c238a88672",
   "metadata": {},
   "outputs": [
    {
     "name": "stdout",
     "output_type": "stream",
     "text": [
      "Horizontally stacked arrays:\n",
      " [[1 2 5 6]\n",
      " [3 4 7 8]]\n"
     ]
    }
   ],
   "source": [
    "# Q10:Stack two 2D arrays m1 = np.array([[1, 2], [3, 4]]) and m2 = np.array([[5, 6], [7, 8]]) horizontally.\n",
    "m1 = np.array([[1, 2], [3, 4]])\n",
    "m2 = np.array([[5, 6], [7, 8]])\n",
    "H_stack  = np.hstack((m1, m2))\n",
    "print(\"Horizontally stacked arrays:\\n\", H_stack ) "
   ]
  },
  {
   "cell_type": "markdown",
   "id": "6fa62c1d-9682-4c3c-95bb-d27959407755",
   "metadata": {},
   "source": [
    "* Q5: Split the array arr_to_split = np.arange(16).reshape(4, 4) horizontally into 2 equal parts. Print both parts."
   ]
  },
  {
   "cell_type": "code",
   "execution_count": 41,
   "id": "6feaa956-4e42-437f-b220-10df13cc7ffd",
   "metadata": {},
   "outputs": [
    {
     "name": "stdout",
     "output_type": "stream",
     "text": [
      "Original Array:\n",
      " [[ 0  1  2  3]\n",
      " [ 4  5  6  7]\n",
      " [ 8  9 10 11]\n",
      " [12 13 14 15]]\n",
      "Horizental Split by 2:\n",
      " [[ 0  1]\n",
      " [ 4  5]\n",
      " [ 8  9]\n",
      " [12 13]] \n",
      "---\n",
      " [[ 2  3]\n",
      " [ 6  7]\n",
      " [10 11]\n",
      " [14 15]]\n"
     ]
    }
   ],
   "source": [
    "#Q11: Split the array arr_to_split = np.arange(16).reshape(4, 4) horizontally into 2 equal parts. Print both parts.\n",
    "arr_to_split = np.arange(16).reshape(4, 4)\n",
    "print(\"Original Array:\\n\", arr_to_split)\n",
    "\n",
    "h_split = np.hsplit(arr_to_split, 2)\n",
    "print(\"Horizental Split by 2:\\n\", h_split[0], \"\\n---\\n\", h_split[1])"
   ]
  },
  {
   "cell_type": "code",
   "execution_count": 39,
   "id": "a0cdd4a4-61ec-4068-9672-fdb4e2f3f9f9",
   "metadata": {},
   "outputs": [
    {
     "name": "stdout",
     "output_type": "stream",
     "text": [
      "Vertical Split by 2:\n",
      " [[0 1 2 3]\n",
      " [4 5 6 7]] \n",
      "---\n",
      " [[ 8  9 10 11]\n",
      " [12 13 14 15]]\n"
     ]
    }
   ],
   "source": [
    "#Q12 Split the array arr_to_split (from Q11) vertically at index 2 (i.e., into two parts: first two rows, and last two rows). Print both parts.\n",
    "v_split = np.vsplit(arr_to_split, 2)\n",
    "print(\"Vertical Split by 2:\\n\", v_split[0], \"\\n---\\n\", v_split[1])"
   ]
  },
  {
   "cell_type": "markdown",
   "id": "fcb4cdff-520b-4190-bf84-ac9a8f063701",
   "metadata": {},
   "source": [
    "* Part 3: Indexing, Slicing, and Boolean Indexing"
   ]
  },
  {
   "cell_type": "code",
   "execution_count": 51,
   "id": "99a46b63-59bc-40e5-ae4b-b22e293bc7a4",
   "metadata": {},
   "outputs": [
    {
     "data": {
      "text/plain": [
       "np.int64(15)"
      ]
     },
     "execution_count": 51,
     "metadata": {},
     "output_type": "execute_result"
    }
   ],
   "source": [
    "#Q13 Given data = np.array([[10, 11, 12], [13, 14, 15], [16, 17, 18]]), extract the element at row 1, column 2.\n",
    "\n",
    "data = np.array([[10, 11, 12], [13, 14, 15], [16, 17, 18]])\n",
    "element = data[1, 2]\n",
    "element"
   ]
  },
  {
   "cell_type": "code",
   "execution_count": 58,
   "id": "db323ba1-ac2d-4a66-a55d-e5e3ada99f9d",
   "metadata": {},
   "outputs": [
    {
     "data": {
      "text/plain": [
       "array([[10, 11, 12],\n",
       "       [13, 14, 15]])"
      ]
     },
     "execution_count": 58,
     "metadata": {},
     "output_type": "execute_result"
    }
   ],
   "source": [
    "#Q14 From the data array (from Q13), extract the first two rows and all columns.\n",
    "#arr [:2, :]\n",
    "subset = data[:2, :]\n",
    "subset"
   ]
  },
  {
   "cell_type": "code",
   "execution_count": 59,
   "id": "e99322ff-877c-4eea-b8ea-1cf139f8a62e",
   "metadata": {},
   "outputs": [
    {
     "data": {
      "text/plain": [
       "array([11, 15, 17])"
      ]
     },
     "execution_count": 59,
     "metadata": {},
     "output_type": "execute_result"
    }
   ],
   "source": [
    "#Q15 From the data array (from Q13), extract the elements 11, 15, and 17 using fancy indexing (hint: you'll need to specify rows and columns).\n",
    "elements = data[[0, 1, 2], [1, 2, 1]]\n",
    "elements"
   ]
  },
  {
   "cell_type": "markdown",
   "id": "4c8a9b19-6430-4662-8429-6897a5056b44",
   "metadata": {},
   "source": [
    "* selfnote Q15\n",
    "###### 11 → row 0, column 1\n",
    "###### 15 → row 1, column 2\n",
    "###### 17 → row 2, column 1"
   ]
  },
  {
   "cell_type": "markdown",
   "id": "7b84fdf7-ed2e-4aee-afe2-e013d5b225f1",
   "metadata": {},
   "source": [
    "##### Q16 Given scores = np.array([85, 92, 78, 65, 95, 88]), use boolean indexing to find all scores greater than 80.\n",
    "* nparray = np.array([85, 92, 78, 65, 95, 88])\n",
    "* indices = np.where(nparray > 80)\n",
    "* filtered = nparray[indices]\n",
    "* print(\"Values > 80:\", filtered)\n",
    "* if it was a condition"
   ]
  },
  {
   "cell_type": "code",
   "execution_count": 68,
   "id": "f37c81d9-dc4d-4aa8-b532-909ebfaedec7",
   "metadata": {},
   "outputs": [
    {
     "name": "stdout",
     "output_type": "stream",
     "text": [
      "higherscores: [85 92 95 88]\n"
     ]
    }
   ],
   "source": [
    "#Q16\n",
    "\n",
    "scores = np.array([85, 92, 78, 65, 95, 88])\n",
    "high_scores = scores[scores > 80]\n",
    "print(\"higherscores:\", high_scores)"
   ]
  },
  {
   "cell_type": "markdown",
   "id": "15335f1f-1673-4d16-9b65-c41107e439e1",
   "metadata": {},
   "source": [
    "* Part 4: Numerical Operations and Aggregations"
   ]
  },
  {
   "cell_type": "code",
   "execution_count": 70,
   "id": "3ccb5bf6-2368-4084-9c9a-0c7017fc4923",
   "metadata": {},
   "outputs": [
    {
     "name": "stdout",
     "output_type": "stream",
     "text": [
      "Multiplication (arr1 * arr2): [ 20  80 180]\n",
      "Division (arr1 / arr2): [5. 5. 5.]\n"
     ]
    }
   ],
   "source": [
    "#Q17 Given arr_op1 = np.array([10, 20, 30]) and arr_op2 = np.array([2, 4, 6]), perform element-wise multiplication and division (arr_op1 / arr_op2).\n",
    " \n",
    "arr_op1 = np.array([10, 20, 30])\n",
    "arr_op2 = np.array([2, 4, 6])\n",
    "print(\"Multiplication (arr1 * arr2):\" , arr_op1 * arr_op2)\n",
    "print(\"Division (arr1 / arr2):\" ,  arr_op1 / arr_op2)"
   ]
  },
  {
   "cell_type": "code",
   "execution_count": 71,
   "id": "46ef8679-db77-4b98-8100-101eb7492488",
   "metadata": {},
   "outputs": [
    {
     "name": "stdout",
     "output_type": "stream",
     "text": [
      "sum: 45\n"
     ]
    }
   ],
   "source": [
    "#Q18: Given matrix = np.array([[1, 2, 3], [4, 5, 6], [7, 8, 9]]), calculate the sum of all elements in the matrix.\n",
    "\n",
    "matrix = np.array([[1, 2, 3], [4, 5, 6], [7, 8, 9]])\n",
    "print (\"sum:\", np.sum(matrix))"
   ]
  },
  {
   "cell_type": "code",
   "execution_count": 76,
   "id": "0d32c709-0199-4f91-9f65-24558107f5b2",
   "metadata": {},
   "outputs": [
    {
     "data": {
      "text/plain": [
       "array([4., 5., 6.])"
      ]
     },
     "execution_count": 76,
     "metadata": {},
     "output_type": "execute_result"
    }
   ],
   "source": [
    "#Q19 From the matrix (from Q18), calculate the mean of each column.\n",
    "\n",
    "matrix = np.array([[1, 2, 3], [4, 5, 6], [7, 8, 9]])\n",
    "column_mean = matrix.mean(axis=0)\n",
    "column_mean"
   ]
  },
  {
   "cell_type": "code",
   "execution_count": 73,
   "id": "0962a879-f425-4ad1-a9aa-ab06f731f418",
   "metadata": {},
   "outputs": [
    {
     "name": "stdout",
     "output_type": "stream",
     "text": [
      "after discount: [ 90. 135. 180. 225.]\n"
     ]
    }
   ],
   "source": [
    "#Q20 Given price_array = np.array([100, 150, 200, 250]) and discount_percentage = 0.10, apply a 10% discount to all prices using broadcasting.\n",
    "\n",
    "price_array = np.array([100, 150, 200, 250])\n",
    "discount_percentage = 0.10\n",
    "discounted = price_array * (1 - discount_percentage)\n",
    "print(\"after discount:\", discounted)"
   ]
  },
  {
   "cell_type": "code",
   "execution_count": null,
   "id": "b6c97f90-b83c-42fe-a9c0-16c487a05473",
   "metadata": {},
   "outputs": [],
   "source": []
  }
 ],
 "metadata": {
  "kernelspec": {
   "display_name": "Python [conda env:base] *",
   "language": "python",
   "name": "conda-base-py"
  },
  "language_info": {
   "codemirror_mode": {
    "name": "ipython",
    "version": 3
   },
   "file_extension": ".py",
   "mimetype": "text/x-python",
   "name": "python",
   "nbconvert_exporter": "python",
   "pygments_lexer": "ipython3",
   "version": "3.13.5"
  }
 },
 "nbformat": 4,
 "nbformat_minor": 5
}
