{
 "cells": [
  {
   "cell_type": "code",
   "execution_count": 2,
   "id": "4f008433-c40b-4319-8882-0b6e4c75a501",
   "metadata": {},
   "outputs": [
    {
     "name": "stdout",
     "output_type": "stream",
     "text": [
      "Sample data (first 5 rows):\n",
      " [[0.00000000e+00 2.24967142e+01 5.83144063e+01 1.00864265e+03]\n",
      " [1.00000000e+00 2.18617357e+01 6.08673693e+01 1.00881895e+03]\n",
      " [2.00000000e+00 2.26476885e+01 5.59051078e+01 1.01108970e+03]\n",
      " [3.00000000e+00 2.35230299e+01 4.85158403e+01 1.01268653e+03]\n",
      " [4.00000000e+00 2.17658466e+01 5.69984398e+01 1.00787874e+03]]\n"
     ]
    }
   ],
   "source": [
    "import numpy as np\n",
    "\n",
    "np.random.seed(42)\n",
    "\n",
    "\n",
    "time_in_minutes = np.arange(1440)\n",
    "\n",
    "temperature = 22 + np.random.normal(0, 1, size=1440)\n",
    "\n",
    "\n",
    "humidity = np.clip(55 + np.random.normal(0, 5, size=1440), 0, 100)\n",
    "\n",
    "pressure = 1012 + np.random.normal(0, 1.5, size=1440)\n",
    "\n",
    "\n",
    "data = np.column_stack((time_in_minutes, temperature, humidity, pressure))\n",
    "\n",
    "print(\"Sample data (first 5 rows):\\n\", data[:5])\n"
   ]
  },
  {
   "cell_type": "code",
   "execution_count": 3,
   "id": "7f82e895-f586-4ec6-b1e2-caa6066c3e33",
   "metadata": {},
   "outputs": [
    {
     "name": "stdout",
     "output_type": "stream",
     "text": [
      "\n",
      "--- Basic Statistics ---\n",
      "Average (Temp, Humidity, Pressure): [  22.03984422   55.13280172 1011.94350103]\n",
      "Min     (Temp, Humidity, Pressure): [  18.75873266   39.90243922 1007.48855149]\n",
      "Max     (Temp, Humidity, Pressure): [  25.85273149   70.96553784 1017.88935656]\n",
      "Std Dev (Temp, Humidity, Pressure): [0.98698992 4.88551178 1.54002997]\n"
     ]
    }
   ],
   "source": [
    "\n",
    "avg_vals = np.mean(data[:, 1:], axis=0)\n",
    "min_vals = np.min(data[:, 1:], axis=0)\n",
    "max_vals = np.max(data[:, 1:], axis=0)\n",
    "std_vals = np.std(data[:, 1:], axis=0)\n",
    "\n",
    "print(\"\\n--- Basic Statistics ---\")\n",
    "print(f\"Average (Temp, Humidity, Pressure): {avg_vals}\")\n",
    "print(f\"Min     (Temp, Humidity, Pressure): {min_vals}\")\n",
    "print(f\"Max     (Temp, Humidity, Pressure): {max_vals}\")\n",
    "print(f\"Std Dev (Temp, Humidity, Pressure): {std_vals}\")\n"
   ]
  },
  {
   "cell_type": "code",
   "execution_count": 4,
   "id": "6db6c803-2b01-403b-840c-c7a918d1964b",
   "metadata": {},
   "outputs": [
    {
     "name": "stdout",
     "output_type": "stream",
     "text": [
      "\n",
      "Hourly Average Temperature (°C):\n",
      " [21.84534532 21.99631657 22.09191425 22.05681427 21.98186679 22.03766373\n",
      " 22.12846891 21.99459841 21.73265389 21.99916515 22.09802374 21.9159646\n",
      " 21.99356816 22.08837099 22.31504311 22.09480545 22.09622643 22.06653541\n",
      " 22.27836492 21.95593422 22.03284943 22.04130045 21.86207923 22.25238787]\n",
      "\n",
      "Hourly Average Humidity (%):\n",
      " [56.34988691 55.00050036 54.37000735 56.15403255 55.6167704  54.92926533\n",
      " 54.59825751 54.92600369 55.5013707  54.77826287 54.5783234  54.84173458\n",
      " 55.24161721 54.58633043 56.14538871 53.90432668 55.30261021 55.30449767\n",
      " 55.49893437 55.44029956 54.72809495 56.39890599 54.25960382 54.73221607]\n",
      "\n",
      "Hourly Average Pressure (hPa):\n",
      " [1012.02414135 1011.985357   1011.6098628  1012.12049981 1011.56069136\n",
      " 1012.15713168 1012.14108932 1012.17013856 1012.02176369 1012.06446902\n",
      " 1011.9272415  1012.22100309 1011.93747566 1012.39009987 1011.61467244\n",
      " 1011.60032006 1011.83189107 1012.09006912 1011.88396424 1011.87589926\n",
      " 1012.16425307 1011.74992698 1011.83615352 1011.66591023]\n"
     ]
    }
   ],
   "source": [
    "temp_hourly = temperature.reshape(24, 60).mean(axis=1)\n",
    "hum_hourly = humidity.reshape(24, 60).mean(axis=1)\n",
    "pres_hourly = pressure.reshape(24, 60).mean(axis=1)\n",
    "\n",
    "print(\"\\nHourly Average Temperature (°C):\\n\", temp_hourly)\n",
    "print(\"\\nHourly Average Humidity (%):\\n\", hum_hourly)\n",
    "print(\"\\nHourly Average Pressure (hPa):\\n\", pres_hourly)"
   ]
  },
  {
   "cell_type": "code",
   "execution_count": 5,
   "id": "2b91b7ce-0f01-42aa-89fb-cd220eff4b86",
   "metadata": {},
   "outputs": [
    {
     "name": "stdout",
     "output_type": "stream",
     "text": [
      "\n",
      "--- Anomaly Detection ---\n",
      "Minutes with temperature > 25°C: 2\n",
      "Time (in minutes) of min temperature: 262\n"
     ]
    }
   ],
   "source": [
    "high_temp_mask = temperature > 25\n",
    "high_temp_minutes = np.sum(high_temp_mask)\n",
    "\n",
    "min_temp_time = time_in_minutes[np.argmin(temperature)]\n",
    "\n",
    "print(\"\\n--- Anomaly Detection ---\")\n",
    "print(f\"Minutes with temperature > 25°C: {high_temp_minutes}\")\n",
    "print(f\"Time (in minutes) of min temperature: {min_temp_time}\")"
   ]
  },
  {
   "cell_type": "code",
   "execution_count": 6,
   "id": "016901fe-dc3d-4fd2-b946-ae6413b22596",
   "metadata": {},
   "outputs": [
    {
     "name": "stdout",
     "output_type": "stream",
     "text": [
      "\n",
      "Data exported to 'smart_building_data.csv'\n"
     ]
    }
   ],
   "source": [
    "np.savetxt(\"smart_building_data.csv\", data, delimiter=\",\", \n",
    "           header=\"Time,Temperature,Humidity,Pressure\", comments='')\n",
    "print(\"\\nData exported to 'smart_building_data.csv'\")"
   ]
  },
  {
   "cell_type": "code",
   "execution_count": null,
   "id": "149515f1-f16d-4915-80f6-737d156872de",
   "metadata": {},
   "outputs": [],
   "source": []
  }
 ],
 "metadata": {
  "kernelspec": {
   "display_name": "Python [conda env:base] *",
   "language": "python",
   "name": "conda-base-py"
  },
  "language_info": {
   "codemirror_mode": {
    "name": "ipython",
    "version": 3
   },
   "file_extension": ".py",
   "mimetype": "text/x-python",
   "name": "python",
   "nbconvert_exporter": "python",
   "pygments_lexer": "ipython3",
   "version": "3.13.5"
  }
 },
 "nbformat": 4,
 "nbformat_minor": 5
}
