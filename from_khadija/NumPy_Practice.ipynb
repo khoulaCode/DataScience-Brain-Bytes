{
 "cells": [
  {
   "cell_type": "code",
   "execution_count": 14,
   "id": "1c969165-d4c1-489a-b7c8-83e1d02b0449",
   "metadata": {},
   "outputs": [
    {
     "name": "stdout",
     "output_type": "stream",
     "text": [
      "Requirement already satisfied: numpy in c:\\users\\bbuser\\anaconda3\\lib\\site-packages (2.1.3)\n"
     ]
    }
   ],
   "source": [
    "! pip install numpy"
   ]
  },
  {
   "cell_type": "code",
   "execution_count": 1,
   "id": "7ddf9b2a-04a0-4f1d-901c-930ba2a71133",
   "metadata": {},
   "outputs": [],
   "source": [
    "import numpy as np"
   ]
  },
  {
   "cell_type": "markdown",
   "id": "6bac43c8-d6a1-477c-84f0-861c08485fe1",
   "metadata": {},
   "source": [
    "1.Create a 1D array named arr1d with integers from 0 to 9."
   ]
  },
  {
   "cell_type": "code",
   "execution_count": 2,
   "id": "e2093efb-8406-4d56-a2c0-8aca9d4da872",
   "metadata": {},
   "outputs": [
    {
     "data": {
      "text/plain": [
       "array([0, 1, 2, 3, 4, 5, 6, 7, 8, 9])"
      ]
     },
     "execution_count": 2,
     "metadata": {},
     "output_type": "execute_result"
    }
   ],
   "source": [
    "arr_id = np.arange(10)\n",
    "arr_id"
   ]
  },
  {
   "cell_type": "markdown",
   "id": "f4637391-7e30-4b55-8fc6-d5ca617edd84",
   "metadata": {},
   "source": [
    "2.Create a 2D array named arr2d with shape (3, 3) filled with ones."
   ]
  },
  {
   "cell_type": "code",
   "execution_count": 3,
   "id": "75d86d0e-563f-4aaf-b9c0-8cf357c3a8d2",
   "metadata": {},
   "outputs": [
    {
     "data": {
      "text/plain": [
       "array([[1., 1., 1.],\n",
       "       [1., 1., 1.],\n",
       "       [1., 1., 1.]])"
      ]
     },
     "execution_count": 3,
     "metadata": {},
     "output_type": "execute_result"
    }
   ],
   "source": [
    "arr2d = np.ones((3, 3))\n",
    "arr2d"
   ]
  },
  {
   "cell_type": "markdown",
   "id": "642c01f2-60a5-4ac7-912f-60ca8bf10280",
   "metadata": {},
   "source": [
    "3.Create a 3x3 array named random_matrix with random floating-point numbers from a standard normal distribution."
   ]
  },
  {
   "cell_type": "code",
   "execution_count": 4,
   "id": "cc27b434-d626-4a60-9b66-84e68890dd1c",
   "metadata": {},
   "outputs": [
    {
     "data": {
      "text/plain": [
       "array([[0.922171  , 0.13000182, 0.71289686],\n",
       "       [0.12874941, 0.03579324, 0.32935317],\n",
       "       [0.97711262, 0.39871694, 0.42862618]])"
      ]
     },
     "execution_count": 4,
     "metadata": {},
     "output_type": "execute_result"
    }
   ],
   "source": [
    "norm_arr=np.random.rand(3,3)\n",
    "norm_arr"
   ]
  },
  {
   "cell_type": "markdown",
   "id": "25b3279a-23d9-436f-91ec-43ad25872a69",
   "metadata": {},
   "source": [
    "4.Create an array named even_numbers containing even numbers from 10 to 50 (inclusive)."
   ]
  },
  {
   "cell_type": "code",
   "execution_count": 5,
   "id": "f68b8009-87de-46d5-a72d-b3992468a3f8",
   "metadata": {},
   "outputs": [
    {
     "data": {
      "text/plain": [
       "array([10, 12, 14, 16, 18, 20, 22, 24, 26, 28, 30, 32, 34, 36, 38, 40, 42,\n",
       "       44, 46, 48, 50])"
      ]
     },
     "execution_count": 5,
     "metadata": {},
     "output_type": "execute_result"
    }
   ],
   "source": [
    "even_numbers= np.arange(10, 51, 2)\n",
    "even_numbers"
   ]
  },
  {
   "cell_type": "markdown",
   "id": "41d7f23a-1a2c-4fa3-aa69-d6bb65d9a60c",
   "metadata": {},
   "source": [
    "5.Create an array named linspace_array containing 7 equally spaced numbers between 0 and 1 (inclusive)."
   ]
  },
  {
   "cell_type": "code",
   "execution_count": 6,
   "id": "d625e8bc-c464-4beb-9afb-477ca5778099",
   "metadata": {},
   "outputs": [
    {
     "data": {
      "text/plain": [
       "array([0. , 0.2, 0.4, 0.6, 0.8, 1. ])"
      ]
     },
     "execution_count": 6,
     "metadata": {},
     "output_type": "execute_result"
    }
   ],
   "source": [
    "space_arr=np.linspace(0,1,6)\n",
    "space_arr"
   ]
  },
  {
   "cell_type": "markdown",
   "id": "bee178a7-a793-41d8-a517-b6622946071d",
   "metadata": {},
   "source": [
    "6.Given arr = np.array([[1, 2, 3], [4, 5, 6]]), what is its shape, ndim, and dtype? Print them."
   ]
  },
  {
   "cell_type": "code",
   "execution_count": 9,
   "id": "dd543fbe-4d1d-4923-95c8-517fa4083f7f",
   "metadata": {},
   "outputs": [
    {
     "data": {
      "text/plain": [
       "dtype('int64')"
      ]
     },
     "execution_count": 9,
     "metadata": {},
     "output_type": "execute_result"
    }
   ],
   "source": [
    "list_id=[1,2,4],[4,5,6]\n",
    "arr_id= np.array(list_id)\n",
    "arr_id.dtype #data type"
   ]
  },
  {
   "cell_type": "code",
   "execution_count": 13,
   "id": "81e90d47-2696-4afe-9937-efb34480e95a",
   "metadata": {},
   "outputs": [
    {
     "data": {
      "text/plain": [
       "(2, 3)"
      ]
     },
     "execution_count": 13,
     "metadata": {},
     "output_type": "execute_result"
    }
   ],
   "source": [
    "arr_id.shape #shape"
   ]
  },
  {
   "cell_type": "code",
   "execution_count": 12,
   "id": "4467447f-cb53-456e-a7e3-9b3bad74a9fa",
   "metadata": {},
   "outputs": [
    {
     "data": {
      "text/plain": [
       "2"
      ]
     },
     "execution_count": 12,
     "metadata": {},
     "output_type": "execute_result"
    }
   ],
   "source": [
    "arr_id.ndim #dimensions"
   ]
  },
  {
   "cell_type": "markdown",
   "id": "586dc201-85c3-4885-a42f-58592a185491",
   "metadata": {},
   "source": [
    "Part 2: Array Manipulation\n",
    "1. Reshape arr1d (from Q1) into a 2x5 2D array. Name the new array reshaped_arr."
   ]
  },
  {
   "cell_type": "code",
   "execution_count": 19,
   "id": "9b391825-1a17-4ab9-a271-0c41a6c269b2",
   "metadata": {},
   "outputs": [
    {
     "name": "stdout",
     "output_type": "stream",
     "text": [
      "Reshaped 2*5 array:\n",
      " [[0 1 2 3 4]\n",
      " [5 6 7 8 9]]\n"
     ]
    }
   ],
   "source": [
    "arr1d= np.arange(10)\n",
    "reshaped_arr = arr1d.reshape(2, 5)\n",
    "print(\"Reshaped 2*5 array:\\n\", reshaped_arr)"
   ]
  },
  {
   "cell_type": "markdown",
   "id": "616da809-c227-4576-9213-3450a617cb20",
   "metadata": {},
   "source": [
    "2.Transpose reshaped_arr (from Q7). Name the result transposed_arr."
   ]
  },
  {
   "cell_type": "code",
   "execution_count": 20,
   "id": "040303b0-5848-4ff9-b62a-57941f0afb6b",
   "metadata": {},
   "outputs": [
    {
     "name": "stdout",
     "output_type": "stream",
     "text": [
      "\n",
      "Transposed array:\n",
      " [[0 5]\n",
      " [1 6]\n",
      " [2 7]\n",
      " [3 8]\n",
      " [4 9]]\n"
     ]
    }
   ],
   "source": [
    "transposed_arr = reshaped_arr.T\n",
    "print(\"\\nTransposed array:\\n\", transposed_arr)"
   ]
  },
  {
   "cell_type": "markdown",
   "id": "64959251-2453-4a25-bf96-75978d0ad0d4",
   "metadata": {},
   "source": [
    "3.Stack two 1D arrays a = np.array([1, 2, 3]) and b = np.array([4, 5, 6]) vertically."
   ]
  },
  {
   "cell_type": "code",
   "execution_count": 24,
   "id": "5ec63cae-d955-4f5b-bd40-a3758d7a5062",
   "metadata": {},
   "outputs": [
    {
     "name": "stdout",
     "output_type": "stream",
     "text": [
      "Vertical stack of 1D arrays :\n",
      " [[1 2 3]\n",
      " [4 5 6]]\n"
     ]
    }
   ],
   "source": [
    "arr_1 = np.array([1, 2, 3])\n",
    "arr_2 = np.array([4, 5, 6])\n",
    "\n",
    "v_stack = np.vstack((arr_1, arr_2))\n",
    "print(\"Vertical stack of 1D arrays :\\n\", v_stack)"
   ]
  },
  {
   "cell_type": "markdown",
   "id": "0b06f292-ad9c-4b84-82ca-66c5e714aa1d",
   "metadata": {},
   "source": [
    "4.Stack two 2D arrays m1 = np.array([[1, 2], [3, 4]]) and m2 = np.array([[5, 6], [7, 8]]) horizontally."
   ]
  },
  {
   "cell_type": "code",
   "execution_count": 25,
   "id": "69a6b87b-119f-491b-9547-b7d68a82e45a",
   "metadata": {},
   "outputs": [
    {
     "name": "stdout",
     "output_type": "stream",
     "text": [
      "Horizontal stack of 2D arrays:\n",
      " [[1 2 5 6]\n",
      " [3 4 7 8]]\n"
     ]
    }
   ],
   "source": [
    "m1 = np.array([[1, 2] , [3,4]])\n",
    "m2= np.array([[5,6] , [7,8]])\n",
    "\n",
    "h_stack = np.hstack((m1, m2))\n",
    "print(\"Horizontal stack of 2D arrays:\\n\", h_stack)"
   ]
  },
  {
   "cell_type": "markdown",
   "id": "de7811a5-4ff7-46c0-9b4b-e2be27bdb0c6",
   "metadata": {},
   "source": [
    "5.Split the array arr_to_split = np.arange(16).reshape(4, 4) horizontally into 2 equal parts. Print both parts."
   ]
  },
  {
   "cell_type": "code",
   "execution_count": 26,
   "id": "a19ea419-16bf-456e-8109-31ddc509f3cf",
   "metadata": {},
   "outputs": [
    {
     "name": "stdout",
     "output_type": "stream",
     "text": [
      "\n",
      "Horizontal split into 2 parts:\n",
      "Part 1:\n",
      " [[ 0  1]\n",
      " [ 4  5]\n",
      " [ 8  9]\n",
      " [12 13]]\n",
      "Part 2:\n",
      " [[ 2  3]\n",
      " [ 6  7]\n",
      " [10 11]\n",
      " [14 15]]\n"
     ]
    }
   ],
   "source": [
    "arr_to_split = np.arange(16).reshape(4, 4)\n",
    "h_split = np.hsplit(arr_to_split, 2)\n",
    "print(\"\\nHorizontal split into 2 parts:\")\n",
    "print(\"Part 1:\\n\", h_split[0])\n",
    "print(\"Part 2:\\n\", h_split[1])"
   ]
  },
  {
   "cell_type": "markdown",
   "id": "aa2d216c-9e27-4f40-8b70-4dd9d40c00ec",
   "metadata": {},
   "source": [
    "6.Split the array arr_to_split (from Q11) vertically at index 2 (i.e., into two parts: first two rows, and last two rows). Print both parts."
   ]
  },
  {
   "cell_type": "code",
   "execution_count": 27,
   "id": "80cb1932-188b-4980-b5da-94280873f147",
   "metadata": {},
   "outputs": [
    {
     "name": "stdout",
     "output_type": "stream",
     "text": [
      "\n",
      "Vertical split at row index 2:\n",
      "Top half:\n",
      " [[0 1 2 3]\n",
      " [4 5 6 7]]\n",
      "Bottom half:\n",
      " [[ 8  9 10 11]\n",
      " [12 13 14 15]]\n"
     ]
    }
   ],
   "source": [
    "v_split = np.vsplit(arr_to_split, 2)\n",
    "print(\"\\nVertical split at row index 2:\")\n",
    "print(\"Top half:\\n\", v_split[0])\n",
    "print(\"Bottom half:\\n\", v_split[1])"
   ]
  },
  {
   "cell_type": "markdown",
   "id": "213562a1-5dd9-47ce-b8ab-235a9363ab8a",
   "metadata": {},
   "source": [
    "Part 3: Indexing, Slicing, and Boolean Indexing\n",
    "\n",
    "1.Given data = np.array([[10, 11, 12], [13, 14, 15], [16, 17, 18]]), extract the element at row 1, column 2."
   ]
  },
  {
   "cell_type": "code",
   "execution_count": 28,
   "id": "def50ea1-be5e-4423-bbb4-d6aeb913796a",
   "metadata": {},
   "outputs": [
    {
     "name": "stdout",
     "output_type": "stream",
     "text": [
      "Element at row 1, col 2: 15\n"
     ]
    }
   ],
   "source": [
    "data = np.array([[10, 11, 12],\n",
    "                 [13, 14, 15],\n",
    "                 [16, 17, 18]])\n",
    "\n",
    "# Extract element at row 1, column 2 (15)\n",
    "element = data[1, 2]\n",
    "print(\"Element at row 1, col 2:\", element)"
   ]
  },
  {
   "cell_type": "markdown",
   "id": "c8f23c5f-9e36-4f44-afac-b961c3f57376",
   "metadata": {},
   "source": [
    "2.From the data array (from Q13), extract the first two rows and all columns."
   ]
  },
  {
   "cell_type": "code",
   "execution_count": 29,
   "id": "9cc683ca-5900-45ac-8835-5ff8aa5cb9f1",
   "metadata": {},
   "outputs": [
    {
     "name": "stdout",
     "output_type": "stream",
     "text": [
      "\n",
      "First two rows:\n",
      " [[10 11 12]\n",
      " [13 14 15]]\n"
     ]
    }
   ],
   "source": [
    "# Extract first two rows, all columns\n",
    "subarray = data[:2, :]\n",
    "print(\"\\nFirst two rows:\\n\", subarray)"
   ]
  },
  {
   "cell_type": "markdown",
   "id": "71d21cc1-a841-4b35-968b-f329e97736fa",
   "metadata": {},
   "source": [
    "3.From the data array (from Q13), extract the elements 11, 15, and 17 using fancy indexing (hint: you'll need to specify rows and columns)."
   ]
  },
  {
   "cell_type": "code",
   "execution_count": 30,
   "id": "38a9a4ab-1e25-4e09-a612-c39b4128e310",
   "metadata": {},
   "outputs": [
    {
     "name": "stdout",
     "output_type": "stream",
     "text": [
      "\n",
      "Fancy indexed elements (11, 15, 17): [11 15 17]\n"
     ]
    }
   ],
   "source": [
    "fancy = data[[0, 1, 2], [1, 2, 1]]  # (0,1), (1,2), (2,1)\n",
    "print(\"\\nFancy indexed elements (11, 15, 17):\", fancy)"
   ]
  },
  {
   "cell_type": "markdown",
   "id": "c7ae74b2-5bc9-46ce-9b9a-df5968e01aec",
   "metadata": {},
   "source": [
    "4.Given scores = np.array([85, 92, 78, 65, 95, 88]), use boolean indexing to find all scores greater than 80."
   ]
  },
  {
   "cell_type": "code",
   "execution_count": 31,
   "id": "1233bc4c-b667-496a-bba4-1511d828567a",
   "metadata": {},
   "outputs": [
    {
     "name": "stdout",
     "output_type": "stream",
     "text": [
      "\n",
      "Scores > 80: [85 92 95 88]\n"
     ]
    }
   ],
   "source": [
    "scores = np.array([85, 92, 78, 65, 95, 88])\n",
    "high_scores = scores[scores > 80]\n",
    "print(\"\\nScores > 80:\", high_scores)"
   ]
  },
  {
   "cell_type": "markdown",
   "id": "04c48114-3035-44fd-b703-7c77b1860bb0",
   "metadata": {},
   "source": [
    "Part 4: Numerical Operations and Aggregations\n",
    "\n",
    "1.Given arr_op1 = np.array([10, 20, 30]) and arr_op2 = np.array([2, 4, 6]), perform element-wise multiplication and division (arr_op1 / arr_op2)."
   ]
  },
  {
   "cell_type": "code",
   "execution_count": 33,
   "id": "cd621900-70f0-4fd8-a8ff-b9e121e4b360",
   "metadata": {},
   "outputs": [
    {
     "name": "stdout",
     "output_type": "stream",
     "text": [
      "\n",
      "Element-wise multiplication: [ 20  80 180]\n",
      "Element-wise division: [5. 5. 5.]\n"
     ]
    }
   ],
   "source": [
    "arr_op1 = np.array([10, 20, 30])\n",
    "arr_op2 = np.array([2, 4, 6])\n",
    "\n",
    "product = arr_op1 * arr_op2\n",
    "division = arr_op1 / arr_op2\n",
    "print(\"\\nElement-wise multiplication:\", product)\n",
    "print(\"Element-wise division:\", division)"
   ]
  },
  {
   "cell_type": "markdown",
   "id": "0689e1e7-42f9-4286-9b8f-a21c24c7d2e8",
   "metadata": {},
   "source": [
    "2.Given matrix = np.array([[1, 2, 3], [4, 5, 6], [7, 8, 9]]), calculate the sum of all elements in the matrix."
   ]
  },
  {
   "cell_type": "code",
   "execution_count": 37,
   "id": "78845595-3bcf-484b-8232-5387a3369768",
   "metadata": {},
   "outputs": [
    {
     "name": "stdout",
     "output_type": "stream",
     "text": [
      "\n",
      "Sum of all matrix elements: 45\n"
     ]
    }
   ],
   "source": [
    "matrix = np.array([[1, 2, 3],\n",
    "                   [4, 5, 6],\n",
    "                   [7, 8, 9]])\n",
    "total_sum = np.sum(matrix)\n",
    "print(\"\\nSum of all matrix elements:\", total_sum)"
   ]
  },
  {
   "cell_type": "markdown",
   "id": "3348ddfc-4ada-4b43-98a1-2f7160ef3650",
   "metadata": {},
   "source": [
    "3.From the matrix (from Q18), calculate the mean of each column."
   ]
  },
  {
   "cell_type": "code",
   "execution_count": 36,
   "id": "123b5c2f-22a3-4030-8808-a8f5fb4081dc",
   "metadata": {},
   "outputs": [
    {
     "name": "stdout",
     "output_type": "stream",
     "text": [
      "Mean of each column: [4. 5. 6.]\n"
     ]
    }
   ],
   "source": [
    "column_means = np.mean(matrix, axis=0)\n",
    "print(\"Mean of each column:\", column_means)"
   ]
  },
  {
   "cell_type": "markdown",
   "id": "cc493b97-8b41-4725-8e31-4b88b6751b16",
   "metadata": {
    "scrolled": true
   },
   "source": [
    "4.Given price_array = np.array([100, 150, 200, 250]) and discount_percentage = 0.10, apply a 10% discount to all prices using broadcasting."
   ]
  },
  {
   "cell_type": "code",
   "execution_count": 39,
   "id": "4c179d52-03fb-4166-baf6-fdeac4dece4e",
   "metadata": {},
   "outputs": [
    {
     "name": "stdout",
     "output_type": "stream",
     "text": [
      "\n",
      "Discounted prices: [ 90. 135. 180. 225.]\n"
     ]
    }
   ],
   "source": [
    "price_array = np.array([100, 150, 200, 250])\n",
    "discount_percentage = 0.10\n",
    "discounted_prices = price_array * (1 - discount_percentage)\n",
    "print(\"\\nDiscounted prices:\", discounted_prices)"
   ]
  },
  {
   "cell_type": "code",
   "execution_count": null,
   "id": "8ed5c3fa-0410-4567-b620-c5aa17b4016e",
   "metadata": {},
   "outputs": [],
   "source": []
  }
 ],
 "metadata": {
  "kernelspec": {
   "display_name": "Python [conda env:base] *",
   "language": "python",
   "name": "conda-base-py"
  },
  "language_info": {
   "codemirror_mode": {
    "name": "ipython",
    "version": 3
   },
   "file_extension": ".py",
   "mimetype": "text/x-python",
   "name": "python",
   "nbconvert_exporter": "python",
   "pygments_lexer": "ipython3",
   "version": "3.13.5"
  }
 },
 "nbformat": 4,
 "nbformat_minor": 5
}
