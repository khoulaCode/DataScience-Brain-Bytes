{
 "cells": [
  {
   "cell_type": "markdown",
   "id": "f46f58e9-9b3b-4638-80dd-e91d2201fcae",
   "metadata": {},
   "source": [
    "## Sales Data Simulation and Analysis"
   ]
  },
  {
   "cell_type": "code",
   "execution_count": 7,
   "id": "67f23185-dc0a-4696-82a0-5993814af152",
   "metadata": {},
   "outputs": [],
   "source": [
    "import numpy as np"
   ]
  },
  {
   "cell_type": "code",
   "execution_count": 8,
   "id": "3feba9b9-5285-4fa4-b7f5-bf1968869559",
   "metadata": {},
   "outputs": [],
   "source": [
    "# Set seed to make the random output consistent every run\n",
    "np.random.seed(42)\n",
    "\n",
    "# --- Step 1: Generate Sales Data ---\n",
    "\n",
    "# Define base revenue and simulate daily variation using normal distribution\n",
    "base_daily_revenue = 1000\n",
    "daily_sales_revenue = base_daily_revenue + np.random.normal(loc=0, scale=200, size=30)\n",
    "\n",
    "# Ensure that revenue is not negative\n",
    "daily_sales_revenue = np.clip(daily_sales_revenue, 0, None)\n",
    "\n",
    "# Simulate units sold based on revenue with some random noise\n",
    "# Assuming average 50 units per $1000 revenue\n",
    "base_units = 50\n",
    "daily_units_sold = (daily_sales_revenue / base_daily_revenue) * base_units\n",
    "daily_units_sold += np.random.normal(loc=0, scale=5, size=30)  # Add slight random variation\n",
    "daily_units_sold = np.clip(daily_units_sold, 0, None).astype(int)  # Convert to whole numbers\n"
   ]
  },
  {
   "cell_type": "markdown",
   "id": "3a60c54d-185a-4cbb-9506-850bac946625",
   "metadata": {},
   "source": [
    "### Step 2: Combine Revenue and Units into One Array"
   ]
  },
  {
   "cell_type": "code",
   "execution_count": 9,
   "id": "f0e2ca1a-6314-464f-be6a-d0cec9aef758",
   "metadata": {},
   "outputs": [],
   "source": [
    "# Stack the two arrays side by side to create a 2D dataset\n",
    "# Column 0: Revenue | Column 1: Units Sold\n",
    "sales_data = np.column_stack((daily_sales_revenue, daily_units_sold))\n"
   ]
  },
  {
   "cell_type": "markdown",
   "id": "105d1c69-0f26-4c5b-aca3-2c932d26462e",
   "metadata": {},
   "source": [
    "### Step 3: Calculate KPIs (Key Performance Indicators)"
   ]
  },
  {
   "cell_type": "code",
   "execution_count": 10,
   "id": "36edffd5-6c2a-4c9a-80c6-901ffb9a19d0",
   "metadata": {},
   "outputs": [],
   "source": [
    "# Total revenue over 30 days\n",
    "total_monthly_revenue = np.sum(daily_sales_revenue)\n",
    "\n",
    "# Daily average of units sold\n",
    "average_units_per_day = np.mean(daily_units_sold)\n",
    "\n",
    "# Highest single-day revenue and corresponding day (0-indexed)\n",
    "highest_revenue = np.max(daily_sales_revenue)\n",
    "day_of_max_revenue = np.argmax(daily_sales_revenue)\n",
    "\n",
    "# Revenue per unit sold for the entire period\n",
    "total_units_sold = np.sum(daily_units_sold)\n",
    "average_revenue_per_unit = total_monthly_revenue / total_units_sold\n"
   ]
  },
  {
   "cell_type": "markdown",
   "id": "1da69d70-32b8-4b62-89f4-b891f71e25d0",
   "metadata": {},
   "source": [
    "### Step 4: Revenue-Based Conditional Insights"
   ]
  },
  {
   "cell_type": "code",
   "execution_count": 11,
   "id": "5c8a8abf-d017-42f3-8f6c-e1943f8d03f4",
   "metadata": {},
   "outputs": [],
   "source": [
    "# Count how many days had revenue greater than $1200\n",
    "high_revenue_days = daily_sales_revenue > 1200\n",
    "count_high_revenue_days = np.sum(high_revenue_days)\n",
    "\n",
    "# Find average units sold for days with revenue below $900\n",
    "low_revenue_days = daily_sales_revenue < 900\n",
    "average_units_on_low_revenue_days = np.mean(daily_units_sold[low_revenue_days])\n"
   ]
  },
  {
   "cell_type": "markdown",
   "id": "af1d7591-5bea-4888-84dc-f2e20cccadeb",
   "metadata": {},
   "source": [
    "### Step 5: Weekly Revenue Aggregation (Assume Month Starts on Monday)"
   ]
  },
  {
   "cell_type": "code",
   "execution_count": 12,
   "id": "aa5f5fb9-99d7-4e8e-ba6c-15a16022b8ff",
   "metadata": {},
   "outputs": [],
   "source": [
    "# Use only the first 28 days to make full 4 weeks (7 days per week)\n",
    "weekly_revenue_data = daily_sales_revenue[:28].reshape(4, 7)\n",
    "\n",
    "# Sum each week's revenue\n",
    "weekly_totals = np.sum(weekly_revenue_data, axis=1)\n"
   ]
  },
  {
   "cell_type": "code",
   "execution_count": 13,
   "id": "e234d763-d18c-4a33-869e-310b327860ea",
   "metadata": {},
   "outputs": [
    {
     "name": "stdout",
     "output_type": "stream",
     "text": [
      "----- Sales Summary for 30 Days -----\n",
      "Total Revenue: $28871.12\n",
      "Average Units Sold per Day: 46.93\n",
      "Highest Revenue Day: Day 7 with $1315.84\n",
      "Revenue per Unit Sold: $20.51\n",
      "Days with Revenue > $1200: 3\n",
      "Average Units Sold on Days with Revenue < $900: 36.60\n",
      "\n",
      "--- Weekly Revenue Totals ---\n",
      "Week 1: $7728.02\n",
      "Week 2: $6648.01\n",
      "Week 3: $6231.91\n",
      "Week 4: $6441.65\n"
     ]
    }
   ],
   "source": [
    "print(\"----- Sales Summary for 30 Days -----\")\n",
    "print(f\"Total Revenue: ${total_monthly_revenue:.2f}\")\n",
    "print(f\"Average Units Sold per Day: {average_units_per_day:.2f}\")\n",
    "print(f\"Highest Revenue Day: Day {day_of_max_revenue + 1} with ${highest_revenue:.2f}\")\n",
    "print(f\"Revenue per Unit Sold: ${average_revenue_per_unit:.2f}\")\n",
    "print(f\"Days with Revenue > $1200: {count_high_revenue_days}\")\n",
    "print(f\"Average Units Sold on Days with Revenue < $900: {average_units_on_low_revenue_days:.2f}\")\n",
    "print(\"\\n--- Weekly Revenue Totals ---\")\n",
    "for week, total in enumerate(weekly_totals, 1):\n",
    "    print(f\"Week {week}: ${total:.2f}\")\n"
   ]
  },
  {
   "cell_type": "code",
   "execution_count": null,
   "id": "944cd60b-98cc-4729-85a1-44db5e11ba83",
   "metadata": {},
   "outputs": [],
   "source": []
  }
 ],
 "metadata": {
  "kernelspec": {
   "display_name": "Python [conda env:base] *",
   "language": "python",
   "name": "conda-base-py"
  },
  "language_info": {
   "codemirror_mode": {
    "name": "ipython",
    "version": 3
   },
   "file_extension": ".py",
   "mimetype": "text/x-python",
   "name": "python",
   "nbconvert_exporter": "python",
   "pygments_lexer": "ipython3",
   "version": "3.13.5"
  }
 },
 "nbformat": 4,
 "nbformat_minor": 5
}
