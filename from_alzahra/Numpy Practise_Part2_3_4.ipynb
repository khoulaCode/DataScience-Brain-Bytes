{
 "cells": [
  {
   "cell_type": "markdown",
   "id": "f6497e4d-3b2e-496d-9d3f-63e31e105954",
   "metadata": {},
   "source": [
    "## Numpy Practise_Part 2"
   ]
  },
  {
   "cell_type": "markdown",
   "id": "e3153b21-36b4-4ba2-a9f7-67a8cbf0e49d",
   "metadata": {},
   "source": [
    "### Part 2: Array Manipulation"
   ]
  },
  {
   "cell_type": "markdown",
   "id": "0c9fcec3-1927-4bea-bbed-fd1e5129b825",
   "metadata": {},
   "source": [
    "#### Reshape arr1d (from Q1) into a 2x5 2D array. Name the new array reshaped_arr."
   ]
  },
  {
   "cell_type": "code",
   "execution_count": 1,
   "id": "c36e6291-0aa8-4317-bed7-e65b74da76a1",
   "metadata": {},
   "outputs": [],
   "source": [
    "import numpy as np"
   ]
  },
  {
   "cell_type": "code",
   "execution_count": 2,
   "id": "e9b3b339-85b2-42da-8ecf-9ffb2a793cac",
   "metadata": {},
   "outputs": [
    {
     "data": {
      "text/plain": [
       "array([[0, 1, 2, 3, 4],\n",
       "       [5, 6, 7, 8, 9]])"
      ]
     },
     "execution_count": 2,
     "metadata": {},
     "output_type": "execute_result"
    }
   ],
   "source": [
    "range_arr1d=np.arange(0,10)\n",
    "reshaped_arr=range_arr1d.reshape(2,5)\n",
    "reshaped_arr"
   ]
  },
  {
   "cell_type": "markdown",
   "id": "e9151f58-e3fc-47a9-8e3c-f4bad24ce553",
   "metadata": {},
   "source": [
    "#### Transpose reshaped_arr (from Q7). Name the result transposed_arr."
   ]
  },
  {
   "cell_type": "code",
   "execution_count": 4,
   "id": "ca77a059-254b-4474-aba2-e84141266f8f",
   "metadata": {},
   "outputs": [
    {
     "data": {
      "text/plain": [
       "array([[0, 5],\n",
       "       [1, 6],\n",
       "       [2, 7],\n",
       "       [3, 8],\n",
       "       [4, 9]])"
      ]
     },
     "execution_count": 4,
     "metadata": {},
     "output_type": "execute_result"
    }
   ],
   "source": [
    "transposed_arr=reshaped_arr.T\n",
    "transposed_arr"
   ]
  },
  {
   "cell_type": "markdown",
   "id": "22b1f164-42b9-415d-8cac-045555238535",
   "metadata": {},
   "source": [
    "#### Stack two 1D arrays a = np.array([1, 2, 3]) and b = np.array([4, 5, 6]) vertically."
   ]
  },
  {
   "cell_type": "code",
   "execution_count": 5,
   "id": "a17e1e63-a795-41be-a275-dea10eac3368",
   "metadata": {},
   "outputs": [
    {
     "name": "stdout",
     "output_type": "stream",
     "text": [
      "Vertical stack:\n",
      " [[1 2 3]\n",
      " [4 5 6]]\n"
     ]
    }
   ],
   "source": [
    "a = np.array([1, 2, 3])\n",
    "b = np.array([4, 5, 6])\n",
    "v_stack = np.vstack((a,b))\n",
    "print(\"Vertical stack:\\n\", v_stack)"
   ]
  },
  {
   "cell_type": "markdown",
   "id": "a5e89788-bbc4-4292-ba0d-676603ea1db3",
   "metadata": {},
   "source": [
    "#### Stack two 2D arrays m1 = np.array([[1, 2], [3, 4]]) and m2 = np.array([[5, 6], [7, 8]]) horizontally."
   ]
  },
  {
   "cell_type": "code",
   "execution_count": 6,
   "id": "ec44ee8c-29b1-4d35-bcbf-8fd45c709d48",
   "metadata": {},
   "outputs": [
    {
     "name": "stdout",
     "output_type": "stream",
     "text": [
      "Horizontal stack:\n",
      " [[1 2 5 6]\n",
      " [3 4 7 8]]\n"
     ]
    }
   ],
   "source": [
    "m1 = np.array([[1, 2], [3, 4]])\n",
    "m2 = np.array([[5, 6], [7, 8]])\n",
    "h_stack = np.hstack((m1, m2))\n",
    "print(\"Horizontal stack:\\n\", h_stack)"
   ]
  },
  {
   "cell_type": "markdown",
   "id": "fcbfe440-d4b9-4a73-8a22-8c23a0261085",
   "metadata": {},
   "source": [
    "#### Split the array arr_to_split = np.arange(16).reshape(4, 4) horizontally into 2 equal parts. Print both parts."
   ]
  },
  {
   "cell_type": "code",
   "execution_count": 7,
   "id": "addddf7c-6414-4308-9819-e142800e9d4c",
   "metadata": {},
   "outputs": [
    {
     "name": "stdout",
     "output_type": "stream",
     "text": [
      "Horizontal split by 2:\n",
      "[[ 0  1]\n",
      " [ 4  5]\n",
      " [ 8  9]\n",
      " [12 13]]\n",
      "---\n",
      "[[ 2  3]\n",
      " [ 6  7]\n",
      " [10 11]\n",
      " [14 15]]\n",
      "---\n"
     ]
    }
   ],
   "source": [
    "arr_to_split = np.arange(16).reshape(4, 4)\n",
    "# Horizontal split into 2 parts (splits columns)\n",
    "h_split = np.hsplit(arr_to_split, 2)\n",
    "print(\"Horizontal split by 2:\")\n",
    "for part in h_split:\n",
    "    print(part)\n",
    "    print(\"---\")"
   ]
  },
  {
   "cell_type": "markdown",
   "id": "4d8ef6ac-fb41-4314-aabd-8d1edbeb07fd",
   "metadata": {},
   "source": [
    "#### Split the array arr_to_split (from Q11) vertically at index 2 (i.e., into two parts: first two rows, and last two rows). Print both parts."
   ]
  },
  {
   "cell_type": "code",
   "execution_count": 9,
   "id": "ce412b08-6b42-4225-94c4-2bb4b3c48bed",
   "metadata": {},
   "outputs": [
    {
     "name": "stdout",
     "output_type": "stream",
     "text": [
      "Vertical split by 2:\n",
      " [[0 1 2 3]\n",
      " [4 5 6 7]] \n",
      "--\n",
      " [[ 8  9 10 11]\n",
      " [12 13 14 15]]\n"
     ]
    }
   ],
   "source": [
    "arr_to_split = np.arange(16).reshape(4, 4)\n",
    "# Vertical split into 2 parts (splits rows)\n",
    "v_split = np.vsplit(arr_to_split, 2)\n",
    "print(\"Vertical split by 2:\\n\", v_split[0], \"\\n--\\n\", v_split[1])"
   ]
  },
  {
   "cell_type": "markdown",
   "id": "fd5e690d-c30f-40cf-ae67-f67b9b556d50",
   "metadata": {},
   "source": [
    "## Part 3: Indexing, Slicing, and Boolean Indexing"
   ]
  },
  {
   "cell_type": "markdown",
   "id": "1a1fa2f9-7865-4658-bc44-90e18bf4255e",
   "metadata": {},
   "source": [
    "#### Given data = np.array([[10, 11, 12], [13, 14, 15], [16, 17, 18]]), extract the element at row 1, column 2."
   ]
  },
  {
   "cell_type": "code",
   "execution_count": 11,
   "id": "0530e5a2-b60f-4a5f-83cf-8223ac81390b",
   "metadata": {},
   "outputs": [
    {
     "data": {
      "text/plain": [
       "array([[11],\n",
       "       [14],\n",
       "       [17]])"
      ]
     },
     "execution_count": 11,
     "metadata": {},
     "output_type": "execute_result"
    }
   ],
   "source": [
    "data = np.array([[10, 11, 12], [13, 14, 15], [16, 17, 18]])\n",
    "data[:,1:2]"
   ]
  },
  {
   "cell_type": "markdown",
   "id": "7b605ff8-7a02-4c59-acb9-2252661e7674",
   "metadata": {},
   "source": [
    "#### From the data array (from Q13), extract the first two rows and all columns."
   ]
  },
  {
   "cell_type": "code",
   "execution_count": 13,
   "id": "9421a633-b9d0-4375-8c90-7f4729b0ede3",
   "metadata": {},
   "outputs": [
    {
     "data": {
      "text/plain": [
       "array([[12],\n",
       "       [15],\n",
       "       [18]])"
      ]
     },
     "execution_count": 13,
     "metadata": {},
     "output_type": "execute_result"
    }
   ],
   "source": [
    "data[:, 2:]"
   ]
  },
  {
   "cell_type": "markdown",
   "id": "00b8eaac-60ca-4daa-a356-60f97af943b3",
   "metadata": {},
   "source": [
    "#### From the data array (from Q13), extract the elements 11, 15, and 17 using fancy indexing (hint: you'll need to specify rows and columns)."
   ]
  },
  {
   "cell_type": "code",
   "execution_count": 16,
   "id": "69696243-feb7-4919-8793-63abd113edca",
   "metadata": {},
   "outputs": [
    {
     "data": {
      "text/plain": [
       "array([11, 15, 17])"
      ]
     },
     "execution_count": 16,
     "metadata": {},
     "output_type": "execute_result"
    }
   ],
   "source": [
    "rows = [0, 1, 2]\n",
    "cols = [1, 2, 1]\n",
    "\n",
    "result = data[rows, cols]\n",
    "result"
   ]
  },
  {
   "cell_type": "markdown",
   "id": "ca1f5ce1-3521-4584-be26-487c5fcfbf63",
   "metadata": {},
   "source": [
    "#### Given scores = np.array([85, 92, 78, 65, 95, 88]), use boolean indexing to find all scores greater than 80."
   ]
  },
  {
   "cell_type": "code",
   "execution_count": 17,
   "id": "0cd4ce58-5569-48d5-ab7c-e3ae1095d1fa",
   "metadata": {},
   "outputs": [
    {
     "data": {
      "text/plain": [
       "array([85, 92, 95, 88])"
      ]
     },
     "execution_count": 17,
     "metadata": {},
     "output_type": "execute_result"
    }
   ],
   "source": [
    "scores = np.array([85, 92, 78, 65, 95, 88])\n",
    "scores[scores>80]"
   ]
  },
  {
   "cell_type": "markdown",
   "id": "5d4212cd-f778-4f94-b8af-1ce86e3bcefe",
   "metadata": {},
   "source": [
    "## Part 4: Numerical Operations and Aggregations"
   ]
  },
  {
   "cell_type": "markdown",
   "id": "f81e9561-4f62-4f0c-91e5-35902cefa9ac",
   "metadata": {},
   "source": [
    "#### Given arr_op1 = np.array([10, 20, 30]) and arr_op2 = np.array([2, 4, 6]), perform element-wise multiplication and division (arr_op1 / arr_op2)."
   ]
  },
  {
   "cell_type": "code",
   "execution_count": 18,
   "id": "5a8a9c44-20c1-4823-b747-69b51c5452e9",
   "metadata": {},
   "outputs": [
    {
     "name": "stdout",
     "output_type": "stream",
     "text": [
      "Multiplication:   [ 20  80 180]\n",
      "Division:         [5. 5. 5.]\n"
     ]
    }
   ],
   "source": [
    "arr_op1 = np.array([10, 20, 30])\n",
    "arr_op2 = np.array([2, 4, 6])\n",
    "print(\"Multiplication:  \", arr_op1 * arr_op2)       \n",
    "print(\"Division:        \", arr_op1 / arr_op2)       "
   ]
  },
  {
   "cell_type": "markdown",
   "id": "a6043086-5e82-477f-92b4-9e4756b3787a",
   "metadata": {},
   "source": [
    "#### Given matrix = np.array([[1, 2, 3], [4, 5, 6], [7, 8, 9]]), calculate the sum of all elements in the matrix.\n",
    " "
   ]
  },
  {
   "cell_type": "code",
   "execution_count": 19,
   "id": "f745c2e3-0f50-4dc0-8c3e-cb34f39a8820",
   "metadata": {},
   "outputs": [
    {
     "data": {
      "text/plain": [
       "np.int64(45)"
      ]
     },
     "execution_count": 19,
     "metadata": {},
     "output_type": "execute_result"
    }
   ],
   "source": [
    "matrix = np.array([[1, 2, 3], [4, 5, 6], [7, 8, 9]])\n",
    "total_sum = matrix.sum()\n",
    "total_sum"
   ]
  },
  {
   "cell_type": "markdown",
   "id": "3fc38c35-d001-4e13-b533-dcd4b9ac169d",
   "metadata": {},
   "source": [
    "#### From the matrix (from Q18), calculate the mean of each column."
   ]
  },
  {
   "cell_type": "code",
   "execution_count": 20,
   "id": "a3362d24-38c3-48a5-9070-37cfcbb4e5e2",
   "metadata": {},
   "outputs": [
    {
     "data": {
      "text/plain": [
       "array([4., 5., 6.])"
      ]
     },
     "execution_count": 20,
     "metadata": {},
     "output_type": "execute_result"
    }
   ],
   "source": [
    "column_means = np.mean(matrix, axis=0)\n",
    "column_means"
   ]
  },
  {
   "cell_type": "markdown",
   "id": "e0a77b0e-d5aa-46ba-8961-c1bd41fd44be",
   "metadata": {},
   "source": [
    "#### Given price_array = np.array([100, 150, 200, 250]) and discount_percentage = 0.10, apply a 10% discount to all prices using broadcasting."
   ]
  },
  {
   "cell_type": "code",
   "execution_count": 21,
   "id": "ddcc3323-154c-4b1e-a7d9-b3862c1b8bf7",
   "metadata": {},
   "outputs": [
    {
     "data": {
      "text/plain": [
       "array([ 90., 135., 180., 225.])"
      ]
     },
     "execution_count": 21,
     "metadata": {},
     "output_type": "execute_result"
    }
   ],
   "source": [
    "price_array = np.array([100, 150, 200, 250])\n",
    "discount_percentage = 0.10\n",
    "discount_price= price_array*(1-discount_percentage)\n",
    "discount_price"
   ]
  },
  {
   "cell_type": "code",
   "execution_count": null,
   "id": "6de9cc7b-5d93-42eb-be8e-ad1188450818",
   "metadata": {},
   "outputs": [],
   "source": []
  }
 ],
 "metadata": {
  "kernelspec": {
   "display_name": "Python [conda env:base] *",
   "language": "python",
   "name": "conda-base-py"
  },
  "language_info": {
   "codemirror_mode": {
    "name": "ipython",
    "version": 3
   },
   "file_extension": ".py",
   "mimetype": "text/x-python",
   "name": "python",
   "nbconvert_exporter": "python",
   "pygments_lexer": "ipython3",
   "version": "3.13.5"
  }
 },
 "nbformat": 4,
 "nbformat_minor": 5
}
