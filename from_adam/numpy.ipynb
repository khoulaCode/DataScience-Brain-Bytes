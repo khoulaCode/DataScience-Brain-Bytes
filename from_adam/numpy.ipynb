{
 "cells": [
  {
   "cell_type": "code",
   "execution_count": 2,
   "id": "4905dc14",
   "metadata": {},
   "outputs": [],
   "source": [
    "import numpy as np\n",
    "\n"
   ]
  },
  {
   "cell_type": "markdown",
   "id": "63e2b17c",
   "metadata": {},
   "source": [
    "##part one"
   ]
  },
  {
   "cell_type": "code",
   "execution_count": 7,
   "id": "eee3cb94",
   "metadata": {},
   "outputs": [
    {
     "name": "stdout",
     "output_type": "stream",
     "text": [
      "Q1. arr1d: [0 1 2 3 4 5 6 7 8 9] \n",
      "\n"
     ]
    }
   ],
   "source": [
    "arr1d = np.arange(10)\n",
    "print(\"Q1. arr1d:\", arr1d, \"\\n\")"
   ]
  },
  {
   "cell_type": "code",
   "execution_count": 8,
   "id": "b16334a2",
   "metadata": {},
   "outputs": [
    {
     "name": "stdout",
     "output_type": "stream",
     "text": [
      "Q2. arr2d:\n",
      " [[1. 1. 1.]\n",
      " [1. 1. 1.]\n",
      " [1. 1. 1.]] \n",
      "\n"
     ]
    }
   ],
   "source": [
    "# Q2.\n",
    "arr2d = np.ones((3, 3))\n",
    "print(\"Q2. arr2d:\\n\", arr2d, \"\\n\")"
   ]
  },
  {
   "cell_type": "code",
   "execution_count": 9,
   "id": "a4ca84b5",
   "metadata": {},
   "outputs": [
    {
     "name": "stdout",
     "output_type": "stream",
     "text": [
      "Q3. random_matrix:\n",
      " [[ 0.60203473  0.25907698 -0.54485437]\n",
      " [-0.46088874  0.13903137 -0.49842582]\n",
      " [ 0.90027891  1.8415427   0.58871068]] \n",
      "\n"
     ]
    }
   ],
   "source": [
    "#Q3. \n",
    "random_matrix = np.random.randn(3, 3)\n",
    "print(\"Q3. random_matrix:\\n\", random_matrix, \"\\n\")"
   ]
  },
  {
   "cell_type": "code",
   "execution_count": 10,
   "id": "88c00fbc",
   "metadata": {},
   "outputs": [
    {
     "name": "stdout",
     "output_type": "stream",
     "text": [
      "Q4. even_numbers: [10 12 14 16 18 20 22 24 26 28 30 32 34 36 38 40 42 44 46 48 50] \n",
      "\n"
     ]
    }
   ],
   "source": [
    "# Q4.\n",
    "even_numbers = np.arange(10, 51, 2)\n",
    "print(\"Q4. even_numbers:\", even_numbers, \"\\n\")\n"
   ]
  },
  {
   "cell_type": "code",
   "execution_count": 11,
   "id": "6decde70",
   "metadata": {},
   "outputs": [
    {
     "name": "stdout",
     "output_type": "stream",
     "text": [
      "Q5. linspace_array: [0.         0.16666667 0.33333333 0.5        0.66666667 0.83333333\n",
      " 1.        ] \n",
      "\n"
     ]
    }
   ],
   "source": [
    "# Q5..\n",
    "linspace_array = np.linspace(0, 1, 7)\n",
    "print(\"Q5. linspace_array:\", linspace_array, \"\\n\")"
   ]
  },
  {
   "cell_type": "code",
   "execution_count": 13,
   "id": "0844c871",
   "metadata": {},
   "outputs": [
    {
     "name": "stdout",
     "output_type": "stream",
     "text": [
      "Q6. arr shape: (2, 3)\n",
      "Q6. arr ndim: 2\n",
      "Q6. arr dtype: int64 \n",
      "\n"
     ]
    }
   ],
   "source": [
    "#Q6. \n",
    "arr = np.array([[1, 2, 3], [4, 5, 6]])\n",
    "print(\"Q6. arr shape:\", arr.shape)\n",
    "print(\"Q6. arr ndim:\", arr.ndim)\n",
    "print(\"Q6. arr dtype:\", arr.dtype, \"\\n\")\n"
   ]
  },
  {
   "cell_type": "markdown",
   "id": "042e2713",
   "metadata": {},
   "source": [
    "##part two"
   ]
  },
  {
   "cell_type": "code",
   "execution_count": 14,
   "id": "7367739a",
   "metadata": {},
   "outputs": [
    {
     "name": "stdout",
     "output_type": "stream",
     "text": [
      "Q7. reshaped_arr:\n",
      " [[0 1 2 3 4]\n",
      " [5 6 7 8 9]] \n",
      "\n"
     ]
    }
   ],
   "source": [
    "#Q7\n",
    "reshaped_arr = arr1d.reshape(2, 5)\n",
    "print(\"Q7. reshaped_arr:\\n\", reshaped_arr, \"\\n\")\n"
   ]
  },
  {
   "cell_type": "code",
   "execution_count": 15,
   "id": "f1dfc23f",
   "metadata": {},
   "outputs": [
    {
     "name": "stdout",
     "output_type": "stream",
     "text": [
      "Q8. transposed_arr:\n",
      " [[0 5]\n",
      " [1 6]\n",
      " [2 7]\n",
      " [3 8]\n",
      " [4 9]] \n",
      "\n"
     ]
    }
   ],
   "source": [
    "# Q8. \n",
    "transposed_arr = reshaped_arr.T\n",
    "print(\"Q8. transposed_arr:\\n\", transposed_arr, \"\\n\")\n"
   ]
  },
  {
   "cell_type": "code",
   "execution_count": 16,
   "id": "b007213c",
   "metadata": {},
   "outputs": [
    {
     "name": "stdout",
     "output_type": "stream",
     "text": [
      "Q9. stacked_v:\n",
      " [[1 2 3]\n",
      " [4 5 6]] \n",
      "\n"
     ]
    }
   ],
   "source": [
    "# Q9.\n",
    "a = np.array([1, 2, 3])\n",
    "b = np.array([4, 5, 6])\n",
    "stacked_v = np.vstack((a, b))\n",
    "print(\"Q9. stacked_v:\\n\", stacked_v, \"\\n\")\n"
   ]
  },
  {
   "cell_type": "code",
   "execution_count": 17,
   "id": "cdb15acd",
   "metadata": {},
   "outputs": [
    {
     "name": "stdout",
     "output_type": "stream",
     "text": [
      "Q10. stacked_h:\n",
      " [[1 2 5 6]\n",
      " [3 4 7 8]] \n",
      "\n"
     ]
    }
   ],
   "source": [
    "#Q10. \n",
    "m1 = np.array([[1, 2], [3, 4]])\n",
    "m2 = np.array([[5, 6], [7, 8]])\n",
    "stacked_h = np.hstack((m1, m2))\n",
    "print(\"Q10. stacked_h:\\n\", stacked_h, \"\\n\")\n"
   ]
  },
  {
   "cell_type": "code",
   "execution_count": 18,
   "id": "504f27f3",
   "metadata": {},
   "outputs": [
    {
     "name": "stdout",
     "output_type": "stream",
     "text": [
      "Q11. split_h parts:\n",
      "Part 1:\n",
      "[[ 0  1]\n",
      " [ 4  5]\n",
      " [ 8  9]\n",
      " [12 13]]\n",
      "\n",
      "Part 2:\n",
      "[[ 2  3]\n",
      " [ 6  7]\n",
      " [10 11]\n",
      " [14 15]]\n",
      "\n"
     ]
    }
   ],
   "source": [
    "#Q11. \n",
    "arr_to_split = np.arange(16).reshape(4, 4)\n",
    "split_h = np.hsplit(arr_to_split, 2)\n",
    "print(\"Q11. split_h parts:\")\n",
    "for i, part in enumerate(split_h, start=1):\n",
    "    print(f\"Part {i}:\\n{part}\\n\")"
   ]
  },
  {
   "cell_type": "code",
   "execution_count": 20,
   "id": "b271392e",
   "metadata": {},
   "outputs": [
    {
     "name": "stdout",
     "output_type": "stream",
     "text": [
      "Q12. split_v parts:\n",
      "Part 1:\n",
      "[[0 1 2 3]\n",
      " [4 5 6 7]]\n",
      "\n",
      "Part 2:\n",
      "[[ 8  9 10 11]\n",
      " [12 13 14 15]]\n",
      "\n"
     ]
    }
   ],
   "source": [
    "# Q12.\n",
    "split_v = np.vsplit(arr_to_split, 2)\n",
    "\n",
    "print(\"Q12. split_v parts:\")\n",
    "for i, part in enumerate(split_v, start=1):\n",
    "    print(f\"Part {i}:\\n{part}\\n\")\n"
   ]
  },
  {
   "cell_type": "markdown",
   "id": "22279bef",
   "metadata": {},
   "source": [
    "##part three"
   ]
  },
  {
   "cell_type": "code",
   "execution_count": 3,
   "id": "6e5e08ca",
   "metadata": {},
   "outputs": [
    {
     "name": "stdout",
     "output_type": "stream",
     "text": [
      "Q13. element at row 1, column 2: 15 \n",
      "\n"
     ]
    }
   ],
   "source": [
    "#Q13\n",
    "data = np.array([[10, 11, 12],\n",
    "                 [13, 14, 15],\n",
    "                 [16, 17, 18]])\n",
    "element = data[1, 2]\n",
    "print(\"Q13. element at row 1, column 2:\", element, \"\\n\")"
   ]
  },
  {
   "cell_type": "code",
   "execution_count": 5,
   "id": "57e2846a",
   "metadata": {},
   "outputs": [
    {
     "name": "stdout",
     "output_type": "stream",
     "text": [
      "Q14. first two rows:\n",
      " [[10 11 12]\n",
      " [13 14 15]] \n",
      "\n"
     ]
    }
   ],
   "source": [
    " #Q14. \n",
    "rows = data[:2, :]\n",
    "print(\"Q14. first two rows:\\n\", rows, \"\\n\")\n",
    "\n",
    "\n"
   ]
  },
  {
   "cell_type": "code",
   "execution_count": 4,
   "id": "61ade016",
   "metadata": {},
   "outputs": [
    {
     "name": "stdout",
     "output_type": "stream",
     "text": [
      "Q15. elements: [11 15 17] \n",
      "\n"
     ]
    }
   ],
   "source": [
    "# Q15. \n",
    "elements = data[[0, 1, 2], [1, 2, 1]]\n",
    "print(\"Q15. elements:\", elements, \"\\n\")"
   ]
  },
  {
   "cell_type": "code",
   "execution_count": 6,
   "id": "2d3504e1",
   "metadata": {},
   "outputs": [
    {
     "name": "stdout",
     "output_type": "stream",
     "text": [
      "Q16. scores > 80: [85 92 95 88] \n",
      "\n"
     ]
    }
   ],
   "source": [
    "#Q16\n",
    "scores = np.array([85, 92, 78, 65, 95, 88])\n",
    "filtered = scores[scores > 80]\n",
    "print(\"Q16. scores > 80:\", filtered, \"\\n\")"
   ]
  },
  {
   "cell_type": "markdown",
   "id": "5d3be569",
   "metadata": {},
   "source": [
    "part 4"
   ]
  },
  {
   "cell_type": "code",
   "execution_count": 7,
   "id": "d3a4cbde",
   "metadata": {},
   "outputs": [
    {
     "name": "stdout",
     "output_type": "stream",
     "text": [
      "Q17. multiplication: [ 20  80 180]\n",
      "Q17. division: [5. 5. 5.] \n",
      "\n"
     ]
    }
   ],
   "source": [
    " #Q17. \n",
    "arr_op1 = np.array([10, 20, 30])\n",
    "arr_op2 = np.array([2, 4, 6])\n",
    "mul = arr_op1 * arr_op2\n",
    "div = arr_op1 / arr_op2\n",
    "print(\"Q17. multiplication:\", mul)\n",
    "print(\"Q17. division:\", div, \"\\n\")\n",
    "\n"
   ]
  },
  {
   "cell_type": "code",
   "execution_count": 8,
   "id": "a234eca2",
   "metadata": {},
   "outputs": [
    {
     "name": "stdout",
     "output_type": "stream",
     "text": [
      "Q18. total sum: 45 \n",
      "\n"
     ]
    }
   ],
   "source": [
    "# Q18\n",
    "matrix = np.array([[1, 2, 3],\n",
    "                   [4, 5, 6],\n",
    "                   [7, 8, 9]])\n",
    "total_sum = matrix.sum()\n",
    "print(\"Q18. total sum:\", total_sum, \"\\n\")"
   ]
  },
  {
   "cell_type": "code",
   "execution_count": 10,
   "id": "cc01b6d0",
   "metadata": {},
   "outputs": [
    {
     "name": "stdout",
     "output_type": "stream",
     "text": [
      "Q19. mean of each column: [4. 5. 6.] \n",
      "\n"
     ]
    }
   ],
   "source": [
    "# Q19. \n",
    "mean_cols = matrix.mean(axis=0)\n",
    "print(\"Q19. mean of each column:\", mean_cols, \"\\n\")\n",
    "\n"
   ]
  },
  {
   "cell_type": "code",
   "execution_count": 11,
   "id": "d47e8962",
   "metadata": {},
   "outputs": [
    {
     "name": "stdout",
     "output_type": "stream",
     "text": [
      "Q20. discounted_prices: [ 90. 135. 180. 225.] \n",
      "\n"
     ]
    }
   ],
   "source": [
    "\n",
    "\n",
    "# Q20.\n",
    "price_array = np.array([100, 150, 200, 250])\n",
    "discount_percentage = 0.10\n",
    "discounted_prices = price_array * (1 - discount_percentage)\n",
    "print(\"Q20. discounted_prices:\", discounted_prices, \"\\n\")"
   ]
  }
 ],
 "metadata": {
  "kernelspec": {
   "display_name": "Python 3",
   "language": "python",
   "name": "python3"
  },
  "language_info": {
   "codemirror_mode": {
    "name": "ipython",
    "version": 3
   },
   "file_extension": ".py",
   "mimetype": "text/x-python",
   "name": "python",
   "nbconvert_exporter": "python",
   "pygments_lexer": "ipython3",
   "version": "3.13.3"
  }
 },
 "nbformat": 4,
 "nbformat_minor": 5
}
