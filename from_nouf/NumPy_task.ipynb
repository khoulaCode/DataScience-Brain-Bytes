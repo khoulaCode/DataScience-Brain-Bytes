{
 "cells": [
  {
   "cell_type": "markdown",
   "id": "c37c790b-2605-4bfb-a3a0-02697f568f23",
   "metadata": {},
   "source": [
    "**Part 1: Array Creation and Properties**"
   ]
  },
  {
   "cell_type": "code",
   "execution_count": 111,
   "id": "711cb6b6-10bb-4acd-87ba-22df9a913997",
   "metadata": {},
   "outputs": [
    {
     "data": {
      "text/plain": [
       "array([0, 1, 2, 3, 4, 5, 6, 7, 8, 9])"
      ]
     },
     "execution_count": 111,
     "metadata": {},
     "output_type": "execute_result"
    }
   ],
   "source": [
    "arr1d = np.arange(0,10) #ends with 10 but not including it\n",
    "arr1d"
   ]
  },
  {
   "cell_type": "markdown",
   "id": "8fb5c9e0-a24a-4721-8a3f-0cb0b494ef0b",
   "metadata": {},
   "source": [
    "**Create a 2D array named arr2d with shape (3, 3) filled with ones.**"
   ]
  },
  {
   "cell_type": "code",
   "execution_count": 112,
   "id": "19f46467-9187-4ea9-8cf7-5d9248a7da0c",
   "metadata": {},
   "outputs": [
    {
     "data": {
      "text/plain": [
       "array([[1., 1., 1.],\n",
       "       [1., 1., 1.],\n",
       "       [1., 1., 1.]])"
      ]
     },
     "execution_count": 112,
     "metadata": {},
     "output_type": "execute_result"
    }
   ],
   "source": [
    "arr2d = np.ones((3,3))\n",
    "arr2d"
   ]
  },
  {
   "cell_type": "markdown",
   "id": "ace61f53-062e-45bc-b726-013c44cddaa8",
   "metadata": {},
   "source": [
    "**Create a 3x3 array named random_matrix with random floating-point numbers from a standard normal distribution.**"
   ]
  },
  {
   "cell_type": "code",
   "execution_count": 113,
   "id": "5474226d-aead-4e0f-9fbd-746648d4a674",
   "metadata": {},
   "outputs": [
    {
     "data": {
      "text/plain": [
       "array([[ 2.21389059e+00,  4.83620651e-01, -1.09231254e+00],\n",
       "       [ 6.67934123e-01, -6.21396689e-01,  4.72711252e-01],\n",
       "       [-2.65983939e-01,  3.86354399e-01, -7.18997099e-04]])"
      ]
     },
     "execution_count": 113,
     "metadata": {},
     "output_type": "execute_result"
    }
   ],
   "source": [
    "random_matrix = np.random.randn(3,3)\n",
    "random_matrix"
   ]
  },
  {
   "cell_type": "markdown",
   "id": "7a26380d-7155-45df-96b6-e068b1371f60",
   "metadata": {},
   "source": [
    "**Create an array named even_numbers containing even numbers from 10 to 50 (inclusive).**"
   ]
  },
  {
   "cell_type": "markdown",
   "id": "2a81c904-fb95-4410-bff5-002bcc900297",
   "metadata": {},
   "source": [
    "even_numbers = np.arange(10,51,2)\n",
    "even_numbers"
   ]
  },
  {
   "cell_type": "markdown",
   "id": "345201e9-6331-4918-b4dc-0c8a04c8dc7c",
   "metadata": {},
   "source": [
    "**Create an array named linspace_array containing 7 equally spaced numbers between 0 and 1 (inclusive).**"
   ]
  },
  {
   "cell_type": "code",
   "execution_count": 114,
   "id": "e60a4945-8ea2-4002-a38c-b7e9404e55eb",
   "metadata": {},
   "outputs": [
    {
     "data": {
      "text/plain": [
       "array([0.        , 0.16666667, 0.33333333, 0.5       , 0.66666667,\n",
       "       0.83333333, 1.        ])"
      ]
     },
     "execution_count": 114,
     "metadata": {},
     "output_type": "execute_result"
    }
   ],
   "source": [
    "linspace_array = np.linspace(0,1,7)\n",
    "linspace_array"
   ]
  },
  {
   "cell_type": "markdown",
   "id": "89916523-8775-4be8-86f2-699c73b3225f",
   "metadata": {},
   "source": [
    "**Given arr = np.array([[1, 2, 3], [4, 5, 6]]), what is its shape, ndim, and dtype? Print them.**"
   ]
  },
  {
   "cell_type": "code",
   "execution_count": 115,
   "id": "7b3ad1d3-5ac2-4f5e-9396-95847e03f10c",
   "metadata": {},
   "outputs": [
    {
     "data": {
      "text/plain": [
       "numpy.ndarray"
      ]
     },
     "execution_count": 115,
     "metadata": {},
     "output_type": "execute_result"
    }
   ],
   "source": [
    "arr = np.array([[1, 2, 3], [4, 5, 6]])\n",
    "type(arr)"
   ]
  },
  {
   "cell_type": "code",
   "execution_count": 116,
   "id": "1a485ba7-5302-4cf0-b6af-7f47bce8eeb2",
   "metadata": {},
   "outputs": [
    {
     "data": {
      "text/plain": [
       "2"
      ]
     },
     "execution_count": 116,
     "metadata": {},
     "output_type": "execute_result"
    }
   ],
   "source": [
    "arr.ndim"
   ]
  },
  {
   "cell_type": "code",
   "execution_count": 117,
   "id": "3b23703f-5bc5-4ae4-a2ea-673c8c4a5ff3",
   "metadata": {},
   "outputs": [
    {
     "data": {
      "text/plain": [
       "(2, 3)"
      ]
     },
     "execution_count": 117,
     "metadata": {},
     "output_type": "execute_result"
    }
   ],
   "source": [
    "arr.shape"
   ]
  },
  {
   "cell_type": "markdown",
   "id": "f5320986-7c9d-4a8c-a347-9be53c318f7c",
   "metadata": {},
   "source": [
    "**Part 2: Array Manipulation**"
   ]
  },
  {
   "cell_type": "markdown",
   "id": "2afd3f05-5e2d-42fd-be20-863e3db0a2f9",
   "metadata": {},
   "source": [
    "**1.Reshape arr1d (from Q1) into a 2x5 2D array. Name the new array reshaped_arr**"
   ]
  },
  {
   "cell_type": "code",
   "execution_count": 118,
   "id": "8321aea1-126f-422b-a3e4-163706499a66",
   "metadata": {},
   "outputs": [
    {
     "data": {
      "text/plain": [
       "array([[0, 1, 2, 3, 4],\n",
       "       [5, 6, 7, 8, 9]])"
      ]
     },
     "execution_count": 118,
     "metadata": {},
     "output_type": "execute_result"
    }
   ],
   "source": [
    "reshaped_arr = arr1d.reshape(2,5)\n",
    "reshaped_arr"
   ]
  },
  {
   "cell_type": "markdown",
   "id": "6d3a67d0-69c6-44a6-a37b-8017ee0de529",
   "metadata": {},
   "source": [
    "**2.Transpose reshaped_arr (from Q7). Name the result transposed_arr.**"
   ]
  },
  {
   "cell_type": "code",
   "execution_count": 119,
   "id": "0e60666a-df84-4cf4-b93a-554f8bcfee01",
   "metadata": {},
   "outputs": [
    {
     "data": {
      "text/plain": [
       "array([[0, 5],\n",
       "       [1, 6],\n",
       "       [2, 7],\n",
       "       [3, 8],\n",
       "       [4, 9]])"
      ]
     },
     "execution_count": 119,
     "metadata": {},
     "output_type": "execute_result"
    }
   ],
   "source": [
    "transposed_arr = reshaped_arr.T\n",
    "transposed_arr"
   ]
  },
  {
   "cell_type": "markdown",
   "id": "d1362e90-840b-4512-9242-fdf21778fd71",
   "metadata": {},
   "source": [
    "**3.Stack two 1D arrays a = np.array([1, 2, 3]) and b = np.array([4, 5, 6]) vertically.**"
   ]
  },
  {
   "cell_type": "code",
   "execution_count": 120,
   "id": "e406e93e-1e78-4784-b7c9-5212478b84ae",
   "metadata": {},
   "outputs": [
    {
     "data": {
      "text/plain": [
       "array([[1, 2, 3],\n",
       "       [4, 5, 6]])"
      ]
     },
     "execution_count": 120,
     "metadata": {},
     "output_type": "execute_result"
    }
   ],
   "source": [
    "a= np.array([1,2,3])\n",
    "b= np.array([4,5,6])\n",
    "vertically_stack = np.vstack((a,b))\n",
    "vertically_stack"
   ]
  },
  {
   "cell_type": "markdown",
   "id": "e426430e-7216-450d-a68f-d0c8368b6825",
   "metadata": {},
   "source": [
    "**4.Stack two 2D arrays m1 = np.array([[1, 2], [3, 4]]) and m2 = np.array([[5, 6], [7, 8]]) horizontally.**"
   ]
  },
  {
   "cell_type": "code",
   "execution_count": 121,
   "id": "7cea46a2-16e7-4d1c-a374-576ced569c4a",
   "metadata": {},
   "outputs": [
    {
     "data": {
      "text/plain": [
       "array([[1, 2, 5, 6],\n",
       "       [3, 4, 7, 8]])"
      ]
     },
     "execution_count": 121,
     "metadata": {},
     "output_type": "execute_result"
    }
   ],
   "source": [
    "m1 = np.array([[1, 2], [3, 4]])\n",
    "m2 = np.array([[5, 6], [7, 8]]) \n",
    "horizontally_stack= np.hstack((m1,m2))\n",
    "horizontally_stack"
   ]
  },
  {
   "cell_type": "markdown",
   "id": "6933ab3d-cf1c-4a83-8ab0-162783a1a8d1",
   "metadata": {},
   "source": [
    "**5.Split the array arr_to_split = np.arange(16).reshape(4, 4) horizontally into 2 equal parts. Print both parts.**"
   ]
  },
  {
   "cell_type": "code",
   "execution_count": 122,
   "id": "93113ce2-eb8b-4c7b-96d0-33209c3649e3",
   "metadata": {},
   "outputs": [
    {
     "name": "stdout",
     "output_type": "stream",
     "text": [
      "horizantally split by 2:\n",
      " [[ 0  1]\n",
      " [ 4  5]\n",
      " [ 8  9]\n",
      " [12 13]] \n",
      " horizantally split by 2:\n",
      " [[ 2  3]\n",
      " [ 6  7]\n",
      " [10 11]\n",
      " [14 15]]\n"
     ]
    }
   ],
   "source": [
    "arr_to_split = np.arange(16).reshape(4, 4)\n",
    "arr_to_split = np.hsplit(arr_to_split,2)\n",
    "print(\"horizantally split by 2:\\n\", arr_to_split[0], \"\\n\",\n",
    "      \"horizantally split by 2:\\n\",arr_to_split[1])"
   ]
  },
  {
   "cell_type": "markdown",
   "id": "a276b4aa-2a1b-4e5e-b7dd-7a734e9f4853",
   "metadata": {},
   "source": [
    "**6.Split the array arr_to_split (from Q11) vertically at index 2 (i.e., into two parts: first two rows, and last two rows). Print both parts.**"
   ]
  },
  {
   "cell_type": "code",
   "execution_count": 123,
   "id": "b5dbde52-d2d3-4bc8-84f4-59e0b45882d6",
   "metadata": {},
   "outputs": [
    {
     "data": {
      "text/plain": [
       "array([[ 0,  1,  2,  3],\n",
       "       [ 4,  5,  6,  7],\n",
       "       [ 8,  9, 10, 11],\n",
       "       [12, 13, 14, 15]])"
      ]
     },
     "execution_count": 123,
     "metadata": {},
     "output_type": "execute_result"
    }
   ],
   "source": [
    "arr_to_split = np.arange(16).reshape(4, 4)\n",
    "arr_to_split"
   ]
  },
  {
   "cell_type": "code",
   "execution_count": 124,
   "id": "a4ece7b8-4169-4141-9eb3-ff6ab3497684",
   "metadata": {},
   "outputs": [
    {
     "name": "stdout",
     "output_type": "stream",
     "text": [
      "first two rows [[0 1 2 3]\n",
      " [4 5 6 7]]\n",
      "\n",
      "\n",
      "last two rows [[ 8  9 10 11]\n",
      " [12 13 14 15]]\n"
     ]
    }
   ],
   "source": [
    "first_two_rows = arr_to_split[:2, :]\n",
    "# Last two rows\n",
    "last_two_rows = arr_to_split[2:, :]\n",
    "print(\"first two rows\" , first_two_rows)\n",
    "print(\"\\n\")\n",
    "print(\"last two rows\" , last_two_rows)"
   ]
  },
  {
   "cell_type": "markdown",
   "id": "823845d5-f013-465a-a8cb-b757327eb3f4",
   "metadata": {},
   "source": [
    "**Part 3: Indexing, Slicing, and Boolean Indexing**"
   ]
  },
  {
   "cell_type": "markdown",
   "id": "aa6472eb-22af-487f-ac2e-d59e8d4f694f",
   "metadata": {},
   "source": [
    "**1.Given data = np.array([[10, 11, 12], [13, 14, 15], [16, 17, 18]]), extract the element at row 1, column 2.**"
   ]
  },
  {
   "cell_type": "code",
   "execution_count": 125,
   "id": "e22a0d41-b070-439e-a8d3-7115dbd0751c",
   "metadata": {},
   "outputs": [
    {
     "data": {
      "text/plain": [
       "array([[15]])"
      ]
     },
     "execution_count": 125,
     "metadata": {},
     "output_type": "execute_result"
    }
   ],
   "source": [
    "data= np.array([[10, 11, 12], [13, 14, 15], [16, 17, 18]])\n",
    "data\n",
    "first_row_second_column = data[1:2, 2:]\n",
    "first_row_second_column "
   ]
  },
  {
   "cell_type": "markdown",
   "id": "66866c4f-e15d-4639-a2d2-fdc5a4d3cf78",
   "metadata": {},
   "source": [
    "**2.From the data array (from Q13), extract the first two rows and all columns.**"
   ]
  },
  {
   "cell_type": "code",
   "execution_count": 130,
   "id": "65b9a165-10ed-466a-b131-223eced667a7",
   "metadata": {},
   "outputs": [
    {
     "data": {
      "text/plain": [
       "array([[10, 11, 12],\n",
       "       [13, 14, 15],\n",
       "       [16, 17, 18]])"
      ]
     },
     "execution_count": 130,
     "metadata": {},
     "output_type": "execute_result"
    }
   ],
   "source": [
    "data= np.array([[10, 11, 12], [13, 14, 15], [16, 17, 18]])\n",
    "data\n"
   ]
  },
  {
   "cell_type": "code",
   "execution_count": 131,
   "id": "064e35aa-ec88-428d-8088-0dedc05141ac",
   "metadata": {},
   "outputs": [
    {
     "data": {
      "text/plain": [
       "array([[10, 11, 12],\n",
       "       [13, 14, 15]])"
      ]
     },
     "execution_count": 131,
     "metadata": {},
     "output_type": "execute_result"
    }
   ],
   "source": [
    "two_rows_all_column = data[0:2, 0:3]\n",
    "two_rows_all_column "
   ]
  },
  {
   "cell_type": "markdown",
   "id": "6828d9c1-334d-48bc-80d6-9347e81de7b3",
   "metadata": {},
   "source": [
    "**3.From the data array (from Q13), extract the elements 11, 15, and 17 using fancy indexing (hint: you'll need to specify rows and columns).**"
   ]
  },
  {
   "cell_type": "code",
   "execution_count": 138,
   "id": "7856dea8-ec1a-48d5-9969-bab40b22a225",
   "metadata": {},
   "outputs": [
    {
     "name": "stdout",
     "output_type": "stream",
     "text": [
      "[11 15 17]\n"
     ]
    }
   ],
   "source": [
    "elements = data[[0, 1, 2], [1, 2, 1]]\n",
    "print(elements)\n"
   ]
  },
  {
   "cell_type": "markdown",
   "id": "3059a1d1-e555-4b01-abac-4c91c48a8c26",
   "metadata": {},
   "source": [
    "**4.Given scores = np.array([85, 92, 78, 65, 95, 88]), use boolean indexing to find all scores greater than 80.**"
   ]
  },
  {
   "cell_type": "code",
   "execution_count": 141,
   "id": "99cd68c8-91b4-4965-95b8-e2bbe330de14",
   "metadata": {},
   "outputs": [
    {
     "name": "stdout",
     "output_type": "stream",
     "text": [
      "orignal scores:  [85 92 78 65 95 88]\n",
      "filtered_data:  [85 92 95 88]\n"
     ]
    }
   ],
   "source": [
    "scores = np.array([85, 92, 78, 65, 95, 88])\n",
    "print(\"orignal scores: \",scores)\n",
    "\n",
    "condition= scores >80\n",
    "filtered_data= scores[condition]\n",
    "print(\"filtered_data: \" , filtered_data)"
   ]
  },
  {
   "cell_type": "markdown",
   "id": "55e01dd5-e57a-4e0a-9d04-0452ee9984b8",
   "metadata": {},
   "source": [
    "**Part 4: Numerical Operations and Aggregations**"
   ]
  },
  {
   "cell_type": "markdown",
   "id": "3b4bb646-f487-4162-9e42-dca38f8d3cf2",
   "metadata": {},
   "source": [
    "**1.Given arr_op1 = np.array([10, 20, 30]) and arr_op2 = np.array([2, 4, 6]), perform element-wise multiplication and division (arr_op1 / arr_op2).**"
   ]
  },
  {
   "cell_type": "code",
   "execution_count": 146,
   "id": "9895f736-1b01-470e-9654-5e9734aba287",
   "metadata": {},
   "outputs": [
    {
     "name": "stdout",
     "output_type": "stream",
     "text": [
      "multiplication(arr_op1 * arr_op2) : [ 20  80 180]\n",
      "division(arr_op1/arr_op2): [5. 5. 5.]\n"
     ]
    }
   ],
   "source": [
    "arr_op1 = np.array([10,20,30])\n",
    "arr_op2 = np.array([2,4,6])\n",
    "print(\"multiplication(arr_op1 * arr_op2) :\" ,arr_op1*arr_op2)\n",
    "print(\"division(arr_op1/arr_op2):\", arr_op1/arr_op2)"
   ]
  },
  {
   "cell_type": "markdown",
   "id": "730de646-9aa3-4ed1-9d6b-0f5154b90cef",
   "metadata": {},
   "source": [
    "**2.Given matrix = np.array([[1, 2, 3], [4, 5, 6], [7, 8, 9]]), calculate the sum of all elements in the matrix.**"
   ]
  },
  {
   "cell_type": "code",
   "execution_count": 148,
   "id": "1b14efaa-2812-4f60-b742-9de9ba86e10e",
   "metadata": {},
   "outputs": [
    {
     "name": "stdout",
     "output_type": "stream",
     "text": [
      "sum of all elements =  45\n"
     ]
    }
   ],
   "source": [
    "matrix = np.array([[1, 2, 3], [4, 5, 6], [7, 8, 9]])\n",
    "print(\"sum of all elements = \" , np.sum(matrix))"
   ]
  },
  {
   "cell_type": "markdown",
   "id": "c1a4560b-9e9d-4145-b652-fb80574997b2",
   "metadata": {},
   "source": [
    "**3.From the matrix (from Q18), calculate the mean of each column.**"
   ]
  },
  {
   "cell_type": "code",
   "execution_count": 149,
   "id": "ced5e2a5-22c5-48ec-84c7-5a6807428570",
   "metadata": {},
   "outputs": [
    {
     "name": "stdout",
     "output_type": "stream",
     "text": [
      "mean of each element in the columns:  [4. 5. 6.]\n"
     ]
    }
   ],
   "source": [
    "print(\"mean of each element in the columns: \" , np.mean(matrix , axis=0))"
   ]
  },
  {
   "cell_type": "markdown",
   "id": "5f8f657e-c886-48cb-815a-e6340ad5eb33",
   "metadata": {},
   "source": [
    "**4.Given price_array = np.array([100, 150, 200, 250]) and discount_percentage = 0.10, apply a 10% discount to all prices using broadcasting.**"
   ]
  },
  {
   "cell_type": "code",
   "execution_count": 152,
   "id": "243b422f-9b1e-4e0e-b269-ec4ea6dfdfdc",
   "metadata": {},
   "outputs": [
    {
     "name": "stdout",
     "output_type": "stream",
     "text": [
      "price after discount :  [ 90. 135. 180. 225.]\n"
     ]
    }
   ],
   "source": [
    "price_array = np.array([100, 150, 200, 250]) \n",
    "discount_percentage = 0.10\n",
    "discount= price_array * discount_percentage\n",
    "after_discount= price_array - discount\n",
    "print(\"price after discount : \" , after_discount)"
   ]
  }
 ],
 "metadata": {
  "kernelspec": {
   "display_name": "Python [conda env:base] *",
   "language": "python",
   "name": "conda-base-py"
  },
  "language_info": {
   "codemirror_mode": {
    "name": "ipython",
    "version": 3
   },
   "file_extension": ".py",
   "mimetype": "text/x-python",
   "name": "python",
   "nbconvert_exporter": "python",
   "pygments_lexer": "ipython3",
   "version": "3.12.7"
  }
 },
 "nbformat": 4,
 "nbformat_minor": 5
}
