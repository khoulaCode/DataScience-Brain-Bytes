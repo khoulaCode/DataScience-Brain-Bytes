{
 "cells": [
  {
   "cell_type": "markdown",
   "id": "887dd19f-f26f-4626-afe8-d494e57a18a6",
   "metadata": {},
   "source": [
    "# Symmetric Star Pyramid Task\n",
    "**Description:**\n",
    "##### Generate a centered pyramid pattern using stars so that I can create symmetrical visual elements.\n",
    "\n",
    "**Acceptance Criteria:**\n",
    "- User can input a positive integer representing the number of rows.\n",
    "- System displays a pyramid where each row has an odd number of asterisks.\n",
    "- First row contains 1 asterisk, second row 3 asterisks, and so on (each row adds 2).\n",
    "- The pyramid is properly centered using spaces."
   ]
  },
  {
   "cell_type": "code",
   "execution_count": 13,
   "id": "534113b2-7489-4527-9f7b-d899654da73d",
   "metadata": {},
   "outputs": [
    {
     "name": "stdin",
     "output_type": "stream",
     "text": [
      "Enter Numbers Of Rows: 4\n"
     ]
    }
   ],
   "source": [
    "while True:\n",
    "    user_input = (input(\"Enter Numbers Of Rows:\"))\n",
    "    if user_input == \"\" :\n",
    "        print(\"Mack Sure Without Space⚠️\")\n",
    "    elif int(user_input) <= 0 :\n",
    "        print(\"Mack Sure You Enter The Number >0 ❗\")\n",
    "    else:\n",
    "        break       "
   ]
  },
  {
   "cell_type": "code",
   "execution_count": 14,
   "id": "78f8f621-8688-4283-a073-f4e5d35e7aa4",
   "metadata": {},
   "outputs": [
    {
     "name": "stdout",
     "output_type": "stream",
     "text": [
      "   *\n",
      "  ***\n",
      " *****\n",
      "*******\n"
     ]
    }
   ],
   "source": [
    "star_count = 1\n",
    "for x in range(int(user_input)):\n",
    "     spaces = int(user_input) - x - 1\n",
    "     print(\" \" * spaces + \"*\" * star_count)\n",
    "     star_count += 2 "
   ]
  },
  {
   "cell_type": "markdown",
   "id": "4f59fa6b-6ffa-4eb9-8e3f-d9e649229e26",
   "metadata": {},
   "source": [
    "! pip install numpy \n"
   ]
  },
  {
   "cell_type": "code",
   "execution_count": null,
   "id": "9dc7371a-d36f-4a68-8149-d30da7c98bc6",
   "metadata": {},
   "outputs": [],
   "source": []
  }
 ],
 "metadata": {
  "kernelspec": {
   "display_name": "Python [conda env:base] *",
   "language": "python",
   "name": "conda-base-py"
  },
  "language_info": {
   "codemirror_mode": {
    "name": "ipython",
    "version": 3
   },
   "file_extension": ".py",
   "mimetype": "text/x-python",
   "name": "python",
   "nbconvert_exporter": "python",
   "pygments_lexer": "ipython3",
   "version": "3.13.5"
  }
 },
 "nbformat": 4,
 "nbformat_minor": 5
}
